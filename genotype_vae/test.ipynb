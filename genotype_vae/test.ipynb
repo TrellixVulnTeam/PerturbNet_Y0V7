{
 "cells": [
  {
   "cell_type": "code",
   "execution_count": 1,
   "metadata": {},
   "outputs": [],
   "source": [
    "#!/usr/bin/python\n",
    "import os\n",
    "import torch\n",
    "import torch.nn as nn\n",
    "import torch.nn.functional as F\n",
    "import torch.utils.data\n",
    "import torch.optim as optim\n",
    "\n",
    "import scipy\n",
    "from scipy.sparse import load_npz\n",
    "import numpy as np\n",
    "import pandas as pd\n",
    "\n",
    "\n",
    "class GenoVAE(nn.Module):\n",
    "\tdef __init__(self):\n",
    "\n",
    "\t\tsuper(GenoVAE, self).__init__()\n",
    "\n",
    "\t\t# self.conv_1 = nn.Conv1d(120, 9, kernel_size=9)\n",
    "\t\t# self.conv_2 = nn.Conv1d(9, 9, kernel_size=9)\n",
    "\t\t# self.conv_3 = nn.Conv1d(9, 10, kernel_size=11)\n",
    "\t\tself.linear_0 = nn.Linear(15988, 512)\n",
    "\t\tself.linear_012 = nn.Linear(512, 256)\n",
    "\t\tself.linear_1 = nn.Linear(256, 32)\n",
    "\t\tself.linear_2 = nn.Linear(256, 32)\n",
    "\n",
    "\t\tself.linear_3 = nn.Linear(32, 256)\n",
    "\t\tself.linear_34 = nn.Linear(256, 512)\n",
    "\t\t# self.gru = nn.GRU(292, 501, 3, batch_first=True)\n",
    "\t\tself.linear_4 = nn.Linear(512, 15988)\n",
    "\t\t\n",
    "\t\tself.relu = nn.ReLU()\n",
    "\t\tself.softmax = nn.Softmax()\n",
    "\n",
    "\tdef encode(self, x):\n",
    "\t\t# x = self.relu(self.conv_1(x))\n",
    "\t\t# x = self.relu(self.conv_2(x))\n",
    "\t\t# x = self.relu(self.conv_3(x))\n",
    "\t\t# x = x.view(x.size(0), -1)\n",
    "\t\tx = self.relu(self.linear_0(x))\n",
    "\t\tx = F.selu(self.linear_012(x))\n",
    "\t\treturn self.linear_1(x), self.linear_2(x)\n",
    "\n",
    "\tdef sampling(self, z_mean, z_logvar):\n",
    "\t\tepsilon = 1e-2 * torch.randn_like(z_logvar)\n",
    "\t\treturn torch.exp(0.5 * z_logvar) * epsilon + z_mean\n",
    "\n",
    "\tdef decode(self, z):\n",
    "\t\tz = F.selu(self.linear_3(z))\n",
    "\t\tout_reshape = F.selu(self.linear_34(z))\n",
    "\t\t# z = z.view(z.size(0), 1, z.size(-1)).repeat(1, 120, 1)\n",
    "\t\t# output, hn = self.gru(z)\n",
    "\t\t# out_reshape = output.contiguous().view(-1, output.size(-1))\n",
    "\t\ty0 = F.softmax(self.linear_4(out_reshape), dim = 1)\n",
    "\t\ty = y0.contiguous()\n",
    "\t\treturn y\n",
    "\n",
    "\tdef forward(self, x):\n",
    "\t\tz_mean, z_logvar = self.encode(x)\n",
    "\t\tself.z = self.sampling(z_mean, z_logvar)\n",
    "\t\treturn self.decode(self.z), z_mean, z_logvar, self.z\n",
    "\n",
    "\n",
    "def vae_loss(x_decoded_mean, x, z_mean, z_logvar):\n",
    "\txent_loss = F.binary_cross_entropy(x_decoded_mean, x, size_average=False)\n",
    "\tkl_loss = -0.5 * torch.sum(1 + z_logvar - z_mean.pow(2) - z_logvar.exp())\n",
    "\treturn xent_loss + kl_loss\n",
    "\t"
   ]
  },
  {
   "cell_type": "code",
   "execution_count": 2,
   "metadata": {},
   "outputs": [
    {
     "name": "stderr",
     "output_type": "stream",
     "text": [
      "/home/hengshi/.local/lib/python3.6/site-packages/torch/cuda/__init__.py:52: UserWarning: CUDA initialization: Found no NVIDIA driver on your system. Please check that you have an NVIDIA GPU and installed a driver from http://www.nvidia.com/Download/index.aspx (Triggered internally at  /pytorch/c10/cuda/CUDAFunctions.cpp:100.)\n",
      "  return torch._C._cuda_getDeviceCount() > 0\n"
     ]
    }
   ],
   "source": [
    "device = 'cuda' if torch.cuda.is_available() else 'cpu'\n",
    "\n",
    "model = GenoVAE().to(device)"
   ]
  },
  {
   "cell_type": "code",
   "execution_count": 4,
   "metadata": {},
   "outputs": [],
   "source": [
    "a = list(model.parameters())"
   ]
  },
  {
   "cell_type": "code",
   "execution_count": 2,
   "metadata": {},
   "outputs": [
    {
     "name": "stderr",
     "output_type": "stream",
     "text": [
      "/home/hengshi/.local/lib/python3.6/site-packages/torch/cuda/__init__.py:52: UserWarning: CUDA initialization: Found no NVIDIA driver on your system. Please check that you have an NVIDIA GPU and installed a driver from http://www.nvidia.com/Download/index.aspx (Triggered internally at  /pytorch/c10/cuda/CUDAFunctions.cpp:100.)\n",
      "  return torch._C._cuda_getDeviceCount() > 0\n"
     ]
    }
   ],
   "source": [
    "path_save = 'output' \n",
    "# data\n",
    "path_data = '/nfs/turbo/umms-welchjd/hengshi/GAN/data/Genotype/sparse_gene_anno_matrix.npz'\n",
    "data_npz = load_npz(path_data).toarray()\n",
    "\n",
    "random_state = np.random.RandomState(seed = 123)\n",
    "permutation = random_state.permutation(len(data_npz))\n",
    "n_train = int(len(data_npz) * 0.8)\n",
    "n_test = len(data_npz) - n_train\n",
    "batch_size = 256\n",
    "\n",
    "data_train, data_test = data_npz[permutation[:n_train]], data_npz[permutation[n_train:]]\n",
    "\n",
    "data_train = torch.utils.data.TensorDataset(torch.from_numpy(data_train))\n",
    "data_test = torch.utils.data.TensorDataset(torch.from_numpy(data_test))\n",
    "train_loader = torch.utils.data.DataLoader(data_train, batch_size = batch_size, shuffle = True)\n",
    "test_loader = torch.utils.data.DataLoader(data_test, batch_size = batch_size, shuffle = True)\n",
    "\n",
    "# model \n",
    "torch.manual_seed(42)\n",
    "\n",
    "epochs = 100\n",
    "device = 'cuda' if torch.cuda.is_available() else 'cpu'\n",
    "\n",
    "model = GenoVAE().to(device)\n",
    "optimizer = optim.Adam(model.parameters())\n",
    "\n",
    "\n",
    "def train(epoch):\n",
    "    model.train()\n",
    "    train_loss = 0\n",
    "    for batch_idx, data in enumerate(train_loader):\n",
    "        data = data[0].to(device, dtype = torch.float)\n",
    "\n",
    "        check = np.random.sample(1)[0]\n",
    "        data_len = data.shape[0]\n",
    "\n",
    "        if check > 0.5 and data_len % 2 == 0:\n",
    "            half_len = int(data_len / 2)\n",
    "            data_first, data_second = data[:half_len], data[half_len]\n",
    "            data = torch.logical_or(data_first, data_second).to(device, dtype = torch.float)\n",
    "\n",
    "        optimizer.zero_grad()\n",
    "        output, mean, logvar, _ = model(data)\n",
    "\n",
    "        if batch_idx == 0:\n",
    "            inp = data.cpu().numpy()\n",
    "            outp = output.cpu().detach().numpy()\n",
    "            lab = data.cpu().numpy()\n",
    "            #print(\"Input:\")\n",
    "            #print(decode_smiles_from_indexes(map(from_one_hot_array, inp[0]), charset))\n",
    "            #print(\"Label:\")\n",
    "            #print(decode_smiles_from_indexes(map(from_one_hot_array, lab[0]), charset))\n",
    "            # sampled = outp[0].reshape(1, 120, len(charset)).argmax(axis=2)[0]\n",
    "            # print(\"Output:\")\n",
    "            # print(decode_smiles_from_indexes(sampled, charset))\n",
    "            model.eval()\n",
    "            test_loss = 0\n",
    "            with torch.no_grad():\n",
    "                for batch_test_idx, testdata in enumerate(test_loader):\n",
    "                    testdata = testdata[0].to(device, dtype = torch.float)\n",
    "\n",
    "                    check = np.random.sample(1)[0]\n",
    "                    data_len = testdata.shape[0]\n",
    "\n",
    "                    if check > 0.5 and data_len % 2 == 0:\n",
    "                        half_len = int(data_len / 2)\n",
    "                        data_first, data_second = testdata[:half_len], testdata[half_len]\n",
    "                        testdata = torch.logical_or(data_first, data_second).to(device, dtype = torch.float)\n",
    "\n",
    "                    output_test, mean_test, logvar_test, _ = model(testdata)\n",
    "                    tloss = vae_loss(output_test, testdata, mean_test, logvar_test)\n",
    "                    test_loss += tloss.item() * testdata.shape[0]\n",
    "                test_loss /= len(test_loader.dataset)\n",
    "            model.train()\n",
    "\n",
    "        loss = vae_loss(output, data, mean, logvar)\n",
    "        loss.backward()\n",
    "        train_loss += loss.item() * data.shape[0]\n",
    "        optimizer.step()\n",
    "    train_loss /= len(train_loader.dataset)\n",
    "#         if batch_idx % 100 == 0:\n",
    "#             print(f'{epoch} / {batch_idx}\\t{loss:.4f}')\n",
    "    print('train', train_loss / len(train_loader.dataset))\n",
    "    return train_loss, test_loss\n",
    "\n"
   ]
  },
  {
   "cell_type": "code",
   "execution_count": 4,
   "metadata": {},
   "outputs": [
    {
     "name": "stderr",
     "output_type": "stream",
     "text": [
      "/home/hengshi/.local/lib/python3.6/site-packages/torch/nn/_reduction.py:44: UserWarning: size_average and reduce args will be deprecated, please use reduction='sum' instead.\n",
      "  warnings.warn(warning.format(ret))\n"
     ]
    },
    {
     "name": "stdout",
     "output_type": "stream",
     "text": [
      "Step: 0, test iteration: 0\n",
      "Step: 0, test iteration: 1\n",
      "Step: 0, test iteration: 2\n",
      "Step: 0, test iteration: 3\n",
      "Step: 0, test iteration: 4\n",
      "Step: 0, test iteration: 5\n",
      "Step: 0, test iteration: 6\n",
      "Step: 0, test iteration: 7\n",
      "Step: 0, test iteration: 8\n",
      "Step: 0, test iteration: 9\n",
      "Step: 0, test iteration: 10\n",
      "Step: 0, test iteration: 11\n",
      "Step: 0, test iteration: 12\n",
      "Step: 0, test iteration: 13\n",
      "Step: 0, test iteration: 14\n",
      "test:  17807.31240459915\n",
      "training iteration: 0\n",
      "training iteration: 1\n",
      "training iteration: 2\n",
      "training iteration: 3\n",
      "training iteration: 4\n",
      "training iteration: 5\n",
      "training iteration: 6\n",
      "training iteration: 7\n",
      "training iteration: 8\n",
      "training iteration: 9\n",
      "training iteration: 10\n",
      "training iteration: 11\n",
      "training iteration: 12\n",
      "training iteration: 13\n",
      "training iteration: 14\n",
      "training iteration: 15\n",
      "training iteration: 16\n",
      "training iteration: 17\n",
      "training iteration: 18\n",
      "training iteration: 19\n",
      "training iteration: 20\n",
      "training iteration: 21\n",
      "training iteration: 22\n",
      "training iteration: 23\n",
      "training iteration: 24\n",
      "training iteration: 25\n",
      "training iteration: 26\n",
      "training iteration: 27\n",
      "training iteration: 28\n",
      "training iteration: 29\n",
      "training iteration: 30\n",
      "training iteration: 31\n",
      "training iteration: 32\n",
      "training iteration: 33\n",
      "training iteration: 34\n",
      "training iteration: 35\n",
      "training iteration: 36\n",
      "training iteration: 37\n",
      "training iteration: 38\n",
      "training iteration: 39\n",
      "training iteration: 40\n",
      "training iteration: 41\n",
      "training iteration: 42\n",
      "training iteration: 43\n",
      "training iteration: 44\n",
      "training iteration: 45\n",
      "training iteration: 46\n",
      "training iteration: 47\n",
      "training iteration: 48\n",
      "training iteration: 49\n",
      "training iteration: 50\n",
      "training iteration: 51\n",
      "training iteration: 52\n",
      "training iteration: 53\n",
      "training iteration: 54\n",
      "training iteration: 55\n",
      "training iteration: 56\n",
      "training iteration: 57\n",
      "training iteration: 58\n",
      "train:  18063.404530627697\n",
      "Step: 0, test iteration: 0\n",
      "Step: 0, test iteration: 1\n",
      "Step: 0, test iteration: 2\n",
      "Step: 0, test iteration: 3\n",
      "Step: 0, test iteration: 4\n",
      "Step: 0, test iteration: 5\n",
      "Step: 0, test iteration: 6\n",
      "Step: 0, test iteration: 7\n",
      "Step: 0, test iteration: 8\n",
      "Step: 0, test iteration: 9\n",
      "Step: 0, test iteration: 10\n",
      "Step: 0, test iteration: 11\n",
      "Step: 0, test iteration: 12\n",
      "Step: 0, test iteration: 13\n",
      "Step: 0, test iteration: 14\n",
      "test:  16212.931475228963\n",
      "training iteration: 0\n",
      "training iteration: 1\n",
      "training iteration: 2\n",
      "training iteration: 3\n",
      "training iteration: 4\n",
      "training iteration: 5\n",
      "training iteration: 6\n",
      "training iteration: 7\n",
      "training iteration: 8\n",
      "training iteration: 9\n",
      "training iteration: 10\n",
      "training iteration: 11\n",
      "training iteration: 12\n",
      "training iteration: 13\n",
      "training iteration: 14\n",
      "training iteration: 15\n",
      "training iteration: 16\n",
      "training iteration: 17\n",
      "training iteration: 18\n",
      "training iteration: 19\n",
      "training iteration: 20\n",
      "training iteration: 21\n",
      "training iteration: 22\n",
      "training iteration: 23\n",
      "training iteration: 24\n",
      "training iteration: 25\n",
      "training iteration: 26\n",
      "training iteration: 27\n",
      "training iteration: 28\n",
      "training iteration: 29\n",
      "training iteration: 30\n",
      "training iteration: 31\n",
      "training iteration: 32\n",
      "training iteration: 33\n",
      "training iteration: 34\n",
      "training iteration: 35\n",
      "training iteration: 36\n",
      "training iteration: 37\n",
      "training iteration: 38\n",
      "training iteration: 39\n",
      "training iteration: 40\n",
      "training iteration: 41\n",
      "training iteration: 42\n",
      "training iteration: 43\n",
      "training iteration: 44\n",
      "training iteration: 45\n",
      "training iteration: 46\n",
      "training iteration: 47\n",
      "training iteration: 48\n",
      "training iteration: 49\n",
      "training iteration: 50\n",
      "training iteration: 51\n",
      "training iteration: 52\n",
      "training iteration: 53\n",
      "training iteration: 54\n",
      "training iteration: 55\n",
      "training iteration: 56\n",
      "training iteration: 57\n",
      "training iteration: 58\n",
      "train:  15831.68870545345\n",
      "Step: 0, test iteration: 0\n",
      "Step: 0, test iteration: 1\n",
      "Step: 0, test iteration: 2\n",
      "Step: 0, test iteration: 3\n",
      "Step: 0, test iteration: 4\n",
      "Step: 0, test iteration: 5\n",
      "Step: 0, test iteration: 6\n",
      "Step: 0, test iteration: 7\n",
      "Step: 0, test iteration: 8\n",
      "Step: 0, test iteration: 9\n",
      "Step: 0, test iteration: 10\n",
      "Step: 0, test iteration: 11\n",
      "Step: 0, test iteration: 12\n",
      "Step: 0, test iteration: 13\n",
      "Step: 0, test iteration: 14\n",
      "test:  16133.246068603581\n",
      "training iteration: 0\n",
      "training iteration: 1\n",
      "training iteration: 2\n",
      "training iteration: 3\n",
      "training iteration: 4\n",
      "training iteration: 5\n",
      "training iteration: 6\n",
      "training iteration: 7\n",
      "training iteration: 8\n",
      "training iteration: 9\n",
      "training iteration: 10\n",
      "training iteration: 11\n",
      "training iteration: 12\n",
      "training iteration: 13\n",
      "training iteration: 14\n",
      "training iteration: 15\n",
      "training iteration: 16\n",
      "training iteration: 17\n",
      "training iteration: 18\n",
      "training iteration: 19\n",
      "training iteration: 20\n"
     ]
    },
    {
     "ename": "KeyboardInterrupt",
     "evalue": "",
     "output_type": "error",
     "traceback": [
      "\u001b[0;31m---------------------------------------------------------------------------\u001b[0m",
      "\u001b[0;31mKeyboardInterrupt\u001b[0m                         Traceback (most recent call last)",
      "\u001b[0;32m<ipython-input-4-de92b2b3946d>\u001b[0m in \u001b[0;36m<module>\u001b[0;34m()\u001b[0m\n\u001b[1;32m     49\u001b[0m             \u001b[0mmodel\u001b[0m\u001b[0;34m.\u001b[0m\u001b[0mtrain\u001b[0m\u001b[0;34m(\u001b[0m\u001b[0;34m)\u001b[0m\u001b[0;34m\u001b[0m\u001b[0m\n\u001b[1;32m     50\u001b[0m \u001b[0;34m\u001b[0m\u001b[0m\n\u001b[0;32m---> 51\u001b[0;31m         \u001b[0mloss\u001b[0m \u001b[0;34m=\u001b[0m \u001b[0mvae_loss\u001b[0m\u001b[0;34m(\u001b[0m\u001b[0moutput\u001b[0m\u001b[0;34m,\u001b[0m \u001b[0mdata\u001b[0m\u001b[0;34m,\u001b[0m \u001b[0mmean\u001b[0m\u001b[0;34m,\u001b[0m \u001b[0mlogvar\u001b[0m\u001b[0;34m)\u001b[0m\u001b[0;34m\u001b[0m\u001b[0m\n\u001b[0m\u001b[1;32m     52\u001b[0m         \u001b[0mloss\u001b[0m\u001b[0;34m.\u001b[0m\u001b[0mbackward\u001b[0m\u001b[0;34m(\u001b[0m\u001b[0;34m)\u001b[0m\u001b[0;34m\u001b[0m\u001b[0m\n\u001b[1;32m     53\u001b[0m         \u001b[0mtrain_loss\u001b[0m \u001b[0;34m+=\u001b[0m \u001b[0mloss\u001b[0m\u001b[0;34m.\u001b[0m\u001b[0mitem\u001b[0m\u001b[0;34m(\u001b[0m\u001b[0;34m)\u001b[0m \u001b[0;34m*\u001b[0m \u001b[0mdata\u001b[0m\u001b[0;34m.\u001b[0m\u001b[0mshape\u001b[0m\u001b[0;34m[\u001b[0m\u001b[0;36m0\u001b[0m\u001b[0;34m]\u001b[0m\u001b[0;34m\u001b[0m\u001b[0m\n",
      "\u001b[0;32m<ipython-input-1-792279732b90>\u001b[0m in \u001b[0;36mvae_loss\u001b[0;34m(x_decoded_mean, x, z_mean, z_logvar)\u001b[0m\n\u001b[1;32m     64\u001b[0m \u001b[0;34m\u001b[0m\u001b[0m\n\u001b[1;32m     65\u001b[0m \u001b[0;32mdef\u001b[0m \u001b[0mvae_loss\u001b[0m\u001b[0;34m(\u001b[0m\u001b[0mx_decoded_mean\u001b[0m\u001b[0;34m,\u001b[0m \u001b[0mx\u001b[0m\u001b[0;34m,\u001b[0m \u001b[0mz_mean\u001b[0m\u001b[0;34m,\u001b[0m \u001b[0mz_logvar\u001b[0m\u001b[0;34m)\u001b[0m\u001b[0;34m:\u001b[0m\u001b[0;34m\u001b[0m\u001b[0m\n\u001b[0;32m---> 66\u001b[0;31m         \u001b[0mxent_loss\u001b[0m \u001b[0;34m=\u001b[0m \u001b[0mF\u001b[0m\u001b[0;34m.\u001b[0m\u001b[0mbinary_cross_entropy\u001b[0m\u001b[0;34m(\u001b[0m\u001b[0mx_decoded_mean\u001b[0m\u001b[0;34m,\u001b[0m \u001b[0mx\u001b[0m\u001b[0;34m,\u001b[0m \u001b[0msize_average\u001b[0m\u001b[0;34m=\u001b[0m\u001b[0;32mFalse\u001b[0m\u001b[0;34m)\u001b[0m\u001b[0;34m\u001b[0m\u001b[0m\n\u001b[0m\u001b[1;32m     67\u001b[0m         \u001b[0mkl_loss\u001b[0m \u001b[0;34m=\u001b[0m \u001b[0;34m-\u001b[0m\u001b[0;36m0.5\u001b[0m \u001b[0;34m*\u001b[0m \u001b[0mtorch\u001b[0m\u001b[0;34m.\u001b[0m\u001b[0msum\u001b[0m\u001b[0;34m(\u001b[0m\u001b[0;36m1\u001b[0m \u001b[0;34m+\u001b[0m \u001b[0mz_logvar\u001b[0m \u001b[0;34m-\u001b[0m \u001b[0mz_mean\u001b[0m\u001b[0;34m.\u001b[0m\u001b[0mpow\u001b[0m\u001b[0;34m(\u001b[0m\u001b[0;36m2\u001b[0m\u001b[0;34m)\u001b[0m \u001b[0;34m-\u001b[0m \u001b[0mz_logvar\u001b[0m\u001b[0;34m.\u001b[0m\u001b[0mexp\u001b[0m\u001b[0;34m(\u001b[0m\u001b[0;34m)\u001b[0m\u001b[0;34m)\u001b[0m\u001b[0;34m\u001b[0m\u001b[0m\n\u001b[1;32m     68\u001b[0m         \u001b[0;32mreturn\u001b[0m \u001b[0mxent_loss\u001b[0m \u001b[0;34m+\u001b[0m \u001b[0mkl_loss\u001b[0m\u001b[0;34m\u001b[0m\u001b[0m\n",
      "\u001b[0;32m~/.local/lib/python3.6/site-packages/torch/nn/functional.py\u001b[0m in \u001b[0;36mbinary_cross_entropy\u001b[0;34m(input, target, weight, size_average, reduce, reduction)\u001b[0m\n\u001b[1;32m   2524\u001b[0m \u001b[0;34m\u001b[0m\u001b[0m\n\u001b[1;32m   2525\u001b[0m     return torch._C._nn.binary_cross_entropy(\n\u001b[0;32m-> 2526\u001b[0;31m         input, target, weight, reduction_enum)\n\u001b[0m\u001b[1;32m   2527\u001b[0m \u001b[0;34m\u001b[0m\u001b[0m\n\u001b[1;32m   2528\u001b[0m \u001b[0;34m\u001b[0m\u001b[0m\n",
      "\u001b[0;31mKeyboardInterrupt\u001b[0m: "
     ]
    }
   ],
   "source": [
    "for epoch in range(1, epochs + 1):\n",
    "    model.train()\n",
    "    train_loss = 0\n",
    "    for batch_idx, data in enumerate(train_loader):\n",
    "        data = data[0].to(device, dtype = torch.float)\n",
    "\n",
    "        check = np.random.sample(1)[0]\n",
    "        data_len = data.shape[0]\n",
    "\n",
    "        if check > 0.5 and data_len % 2 == 0:\n",
    "            half_len = int(data_len / 2)\n",
    "            data_first, data_second = data[:half_len], data[half_len]\n",
    "            data = torch.logical_or(data_first, data_second).to(device, dtype = torch.float)\n",
    "\n",
    "        optimizer.zero_grad()\n",
    "        output, mean, logvar, _ = model(data)\n",
    "\n",
    "        if batch_idx == 0:\n",
    "            inp = data.cpu().numpy()\n",
    "            outp = output.cpu().detach().numpy()\n",
    "            lab = data.cpu().numpy()\n",
    "            #print(\"Input:\")\n",
    "            #print(decode_smiles_from_indexes(map(from_one_hot_array, inp[0]), charset))\n",
    "            #print(\"Label:\")\n",
    "            #print(decode_smiles_from_indexes(map(from_one_hot_array, lab[0]), charset))\n",
    "            # sampled = outp[0].reshape(1, 120, len(charset)).argmax(axis=2)[0]\n",
    "            # print(\"Output:\")\n",
    "            # print(decode_smiles_from_indexes(sampled, charset))\n",
    "            model.eval()\n",
    "            test_loss = 0\n",
    "            with torch.no_grad():\n",
    "                for batch_test_idx, testdata in enumerate(test_loader):\n",
    "                    testdata = testdata[0].to(device, dtype = torch.float)\n",
    "\n",
    "                    check = np.random.sample(1)[0]\n",
    "                    data_len = testdata.shape[0]\n",
    "\n",
    "                    if check > 0.5 and data_len % 2 == 0:\n",
    "                        half_len = int(data_len / 2)\n",
    "                        data_first, data_second = testdata[:half_len], testdata[half_len]\n",
    "                        testdata = torch.logical_or(data_first, data_second).to(device, dtype = torch.float)\n",
    "\n",
    "                    output_test, mean_test, logvar_test, _ = model(testdata)\n",
    "                    tloss = vae_loss(output_test, testdata, mean_test, logvar_test)\n",
    "                    test_loss += tloss.item() * testdata.shape[0]\n",
    "                    print(\"Step: \" + str(batch_idx) + \", test iteration: \" + str(batch_test_idx))\n",
    "                test_loss /= len(test_loader.dataset)\n",
    "                print('test: ', test_loss)\n",
    "            model.train()\n",
    "\n",
    "        loss = vae_loss(output, data, mean, logvar)\n",
    "        loss.backward()\n",
    "        train_loss += loss.item() * data.shape[0]\n",
    "        optimizer.step()\n",
    "        print(\"training iteration: \" + str(batch_idx))\n",
    "    train_loss /= len(train_loader.dataset)\n",
    "    print('train: ', train_loss )"
   ]
  },
  {
   "cell_type": "code",
   "execution_count": 1,
   "metadata": {},
   "outputs": [],
   "source": [
    "import pandas as pd\n",
    "import numpy as np\n",
    "import matplotlib \n",
    "import matplotlib.pyplot as plt\n",
    "%matplotlib inline\n",
    "import os \n",
    "\n"
   ]
  },
  {
   "cell_type": "code",
   "execution_count": 4,
   "metadata": {},
   "outputs": [
    {
     "data": {
      "image/png": "[encoded data removed]",
      "text/plain": [
       "<Figure size 576x432 with 1 Axes>"
      ]
     },
     "metadata": {},
     "output_type": "display_data"
    }
   ],
   "source": [
    "path_save = 'output_latent10_epoch300_GenotypeVAE_1em4_sumLoss_ZLZFineTune_lambda0p5_50removed'\n",
    "train_loss = pd.read_csv(os.path.join(path_save, 'train_loss.csv'))\n",
    "test_loss = pd.read_csv(os.path.join(path_save, 'test_loss.csv'))\n",
    "train_loss.head()\n",
    "\n",
    "train_loss.columns = ['Epoch', 'train_loss']\n",
    "test_loss.columns = ['Epoch', 'test_loss']\n",
    "newfig = (train_loss.merge(test_loss, on = \"Epoch\").set_index('Epoch')).plot(figsize = [8,6 ], fontsize = 20).get_figure()\n",
    "plt.title(\"Loss\")\n",
    "newfig.savefig(os.path.join(path_save, \"losses.png\"))\n"
   ]
  },
  {
   "cell_type": "code",
   "execution_count": 5,
   "metadata": {},
   "outputs": [
    {
     "data": {
      "image/png": "[encoded data removed]",
      "text/plain": [
       "<Figure size 576x432 with 1 Axes>"
      ]
     },
     "metadata": {},
     "output_type": "display_data"
    }
   ],
   "source": [
    "\n",
    "train_loss = pd.read_csv(os.path.join(path_save, 'train_vae_loss.csv'))\n",
    "test_loss = pd.read_csv(os.path.join(path_save, 'test_vae_loss.csv'))\n",
    "train_loss.head()\n",
    "\n",
    "train_loss.columns = ['Epoch', 'train_loss']\n",
    "test_loss.columns = ['Epoch', 'test_loss']\n",
    "newfig = (train_loss.merge(test_loss, on = \"Epoch\").set_index('Epoch')).plot(figsize = [8,6 ], fontsize = 20).get_figure()\n",
    "plt.title(\"Loss\")\n",
    "newfig.savefig(os.path.join(path_save, \"vae_losses.png\"))\n"
   ]
  },
  {
   "cell_type": "code",
   "execution_count": 5,
   "metadata": {},
   "outputs": [
    {
     "data": {
      "image/png": "[encoded data removed]",
      "text/plain": [
       "<Figure size 576x432 with 1 Axes>"
      ]
     },
     "metadata": {
      "needs_background": "light"
     },
     "output_type": "display_data"
    }
   ],
   "source": [
    "path_save = 'output_latent10_epoch300_GenotypeVAE_1em4_sumLoss_ZLZFineTune'\n",
    "train_loss = pd.read_csv(os.path.join(path_save, 'train_vae_loss.csv'))\n",
    "test_loss = pd.read_csv(os.path.join(path_save, 'test_vae_loss.csv'))\n",
    "train_loss.head()\n",
    "\n",
    "train_loss.columns = ['Epoch', 'train_loss']\n",
    "test_loss.columns = ['Epoch', 'test_loss']\n",
    "newfig = (train_loss.merge(test_loss, on = \"Epoch\").set_index('Epoch')).plot(figsize = [8,6 ], fontsize = 20).get_figure()\n",
    "plt.title(\"Loss\")\n",
    "newfig.savefig(os.path.join(path_save, \"losses_vae.png\"))\n"
   ]
  },
  {
   "cell_type": "code",
   "execution_count": 9,
   "metadata": {},
   "outputs": [
    {
     "data": {
      "image/png": "[encoded data removed]",
      "text/plain": [
       "<Figure size 576x432 with 1 Axes>"
      ]
     },
     "metadata": {},
     "output_type": "display_data"
    }
   ],
   "source": [
    "train_loss.columns = ['Epoch', 'train_loss']\n",
    "test_loss.columns = ['Epoch', 'test_loss']\n",
    "newfig = train_loss.merge(test_loss, on = \"Epoch\").set_index('Epoch').plot(figsize = [8,6 ], fontsize = 20).get_figure()\n",
    "plt.title(\"Loss\")\n",
    "newfig.savefig(os.path.join(path_save, \"losses.png\"))"
   ]
  },
  {
   "cell_type": "code",
   "execution_count": 16,
   "metadata": {},
   "outputs": [
    {
     "data": {
      "text/plain": [
       "Text(0.5, 1.0, 'Loss')"
      ]
     },
     "execution_count": 16,
     "metadata": {},
     "output_type": "execute_result"
    },
    {
     "data": {
      "image/png": "[encoded data removed]",
      "text/plain": [
       "<Figure size 576x432 with 1 Axes>"
      ]
     },
     "metadata": {},
     "output_type": "display_data"
    }
   ],
   "source": [
    "train_loss.columns = ['Epoch', 'train_loss']\n",
    "test_loss.columns = ['Epoch', 'test_loss']\n",
    "newfig = (train_loss.merge(test_loss, on = \"Epoch\").set_index('Epoch')/1).iloc[25:, :].plot(figsize = [8,6 ], fontsize = 20).get_figure()\n",
    "plt.title(\"Loss\")\n",
    "#newfig.savefig(os.path.join(path_save, \"losses.png\"))"
   ]
  },
  {
   "cell_type": "code",
   "execution_count": 6,
   "metadata": {},
   "outputs": [
    {
     "data": {
      "text/html": [
       "<div>\n",
       "<style scoped>\n",
       "    .dataframe tbody tr th:only-of-type {\n",
       "        vertical-align: middle;\n",
       "    }\n",
       "\n",
       "    .dataframe tbody tr th {\n",
       "        vertical-align: top;\n",
       "    }\n",
       "\n",
       "    .dataframe thead th {\n",
       "        text-align: right;\n",
       "    }\n",
       "</style>\n",
       "<table border=\"1\" class=\"dataframe\">\n",
       "  <thead>\n",
       "    <tr style=\"text-align: right;\">\n",
       "      <th></th>\n",
       "      <th>train_loss</th>\n",
       "      <th>test_loss</th>\n",
       "    </tr>\n",
       "    <tr>\n",
       "      <th>Epoch</th>\n",
       "      <th></th>\n",
       "      <th></th>\n",
       "    </tr>\n",
       "  </thead>\n",
       "  <tbody>\n",
       "    <tr>\n",
       "      <th>0</th>\n",
       "      <td>36.516063</td>\n",
       "      <td>28.635010</td>\n",
       "    </tr>\n",
       "    <tr>\n",
       "      <th>1</th>\n",
       "      <td>23.044486</td>\n",
       "      <td>21.296916</td>\n",
       "    </tr>\n",
       "    <tr>\n",
       "      <th>2</th>\n",
       "      <td>14.652937</td>\n",
       "      <td>13.863775</td>\n",
       "    </tr>\n",
       "    <tr>\n",
       "      <th>3</th>\n",
       "      <td>9.632119</td>\n",
       "      <td>9.198874</td>\n",
       "    </tr>\n",
       "    <tr>\n",
       "      <th>4</th>\n",
       "      <td>6.747380</td>\n",
       "      <td>6.505941</td>\n",
       "    </tr>\n",
       "    <tr>\n",
       "      <th>...</th>\n",
       "      <td>...</td>\n",
       "      <td>...</td>\n",
       "    </tr>\n",
       "    <tr>\n",
       "      <th>295</th>\n",
       "      <td>0.154851</td>\n",
       "      <td>0.233417</td>\n",
       "    </tr>\n",
       "    <tr>\n",
       "      <th>296</th>\n",
       "      <td>0.136421</td>\n",
       "      <td>0.173143</td>\n",
       "    </tr>\n",
       "    <tr>\n",
       "      <th>297</th>\n",
       "      <td>0.159913</td>\n",
       "      <td>0.246216</td>\n",
       "    </tr>\n",
       "    <tr>\n",
       "      <th>298</th>\n",
       "      <td>0.165627</td>\n",
       "      <td>0.193525</td>\n",
       "    </tr>\n",
       "    <tr>\n",
       "      <th>299</th>\n",
       "      <td>0.168859</td>\n",
       "      <td>0.238462</td>\n",
       "    </tr>\n",
       "  </tbody>\n",
       "</table>\n",
       "<p>300 rows × 2 columns</p>\n",
       "</div>"
      ],
      "text/plain": [
       "       train_loss  test_loss\n",
       "Epoch                       \n",
       "0       36.516063  28.635010\n",
       "1       23.044486  21.296916\n",
       "2       14.652937  13.863775\n",
       "3        9.632119   9.198874\n",
       "4        6.747380   6.505941\n",
       "...           ...        ...\n",
       "295      0.154851   0.233417\n",
       "296      0.136421   0.173143\n",
       "297      0.159913   0.246216\n",
       "298      0.165627   0.193525\n",
       "299      0.168859   0.238462\n",
       "\n",
       "[300 rows x 2 columns]"
      ]
     },
     "execution_count": 6,
     "metadata": {},
     "output_type": "execute_result"
    }
   ],
   "source": [
    "train_loss.merge(test_loss, on = \"Epoch\").set_index('Epoch')/256"
   ]
  },
  {
   "cell_type": "code",
   "execution_count": 3,
   "metadata": {},
   "outputs": [
    {
     "data": {
      "image/png": "[encoded data removed]",
      "text/plain": [
       "<Figure size 576x432 with 1 Axes>"
      ]
     },
     "metadata": {},
     "output_type": "display_data"
    }
   ],
   "source": [
    "train_loss.columns = ['Epoch', 'train_loss']\n",
    "test_loss.columns = ['Epoch', 'test_loss']\n",
    "newfig = train_loss.merge(test_loss, on = \"Epoch\").set_index('Epoch').iloc[25:, :].plot(figsize = [8,6 ], fontsize = 20).get_figure()\n",
    "plt.title(\"Loss\")\n",
    "newfig.savefig(os.path.join(path_save, \"losses25.png\"))"
   ]
  },
  {
   "cell_type": "code",
   "execution_count": 4,
   "metadata": {},
   "outputs": [
    {
     "data": {
      "text/plain": [
       "Text(0.5, 1.0, 'Loss')"
      ]
     },
     "execution_count": 4,
     "metadata": {},
     "output_type": "execute_result"
    },
    {
     "data": {
      "image/png": "[encoded data removed]",
      "text/plain": [
       "<Figure size 576x432 with 1 Axes>"
      ]
     },
     "metadata": {},
     "output_type": "display_data"
    }
   ],
   "source": [
    "newfig = train_loss.merge(test_loss, on = \"Epoch\").set_index('Epoch').iloc[25:, :].plot(figsize = [8,6 ], fontsize = 20).get_figure()\n",
    "plt.title(\"Loss\")"
   ]
  },
  {
   "cell_type": "markdown",
   "metadata": {},
   "source": [
    "# Visualization"
   ]
  },
  {
   "cell_type": "code",
   "execution_count": 3,
   "metadata": {},
   "outputs": [],
   "source": [
    "#!/usr/bin/python\n",
    "import os\n",
    "import torch\n",
    "import torch.nn as nn\n",
    "import torch.nn.functional as F\n",
    "import torch.utils.data\n",
    "import torch.optim as optim\n",
    "\n",
    "import scipy\n",
    "from scipy.sparse import load_npz\n",
    "import numpy as np\n",
    "import pandas as pd\n",
    "\n",
    "\n",
    "class GenoVAE(nn.Module):\n",
    "\tdef __init__(self):\n",
    "\n",
    "\t\tsuper(GenoVAE, self).__init__()\n",
    "\n",
    "\t\t# self.conv_1 = nn.Conv1d(120, 9, kernel_size=9)\n",
    "\t\t# self.conv_2 = nn.Conv1d(9, 9, kernel_size=9)\n",
    "\t\t# self.conv_3 = nn.Conv1d(9, 10, kernel_size=11)\n",
    "\t\tself.linear_0 = nn.Linear(15988, 512)\n",
    "\t\tself.linear_012 = nn.Linear(512, 256)\n",
    "\t\tself.linear_1 = nn.Linear(256, 32)\n",
    "\t\tself.linear_2 = nn.Linear(256, 32)\n",
    "\n",
    "\t\tself.linear_3 = nn.Linear(32, 256)\n",
    "\t\tself.linear_34 = nn.Linear(256, 512)\n",
    "\t\t# self.gru = nn.GRU(292, 501, 3, batch_first=True)\n",
    "\t\tself.linear_4 = nn.Linear(512, 15988)\n",
    "\t\t\n",
    "\t\tself.relu = nn.ReLU()\n",
    "\t\tself.softmax = nn.Softmax()\n",
    "\n",
    "\tdef encode(self, x):\n",
    "\t\t# x = self.relu(self.conv_1(x))\n",
    "\t\t# x = self.relu(self.conv_2(x))\n",
    "\t\t# x = self.relu(self.conv_3(x))\n",
    "\t\t# x = x.view(x.size(0), -1)\n",
    "\t\tx = self.relu(self.linear_0(x))\n",
    "\t\tx = F.selu(self.linear_012(x))\n",
    "\t\treturn self.linear_1(x), self.linear_2(x)\n",
    "\n",
    "\tdef sampling(self, z_mean, z_logvar):\n",
    "\t\tepsilon = 1e-2 * torch.randn_like(z_logvar)\n",
    "\t\treturn torch.exp(0.5 * z_logvar) * epsilon + z_mean\n",
    "\n",
    "\tdef decode(self, z):\n",
    "\t\tz = F.selu(self.linear_3(z))\n",
    "\t\tout_reshape = F.selu(self.linear_34(z))\n",
    "\t\t# z = z.view(z.size(0), 1, z.size(-1)).repeat(1, 120, 1)\n",
    "\t\t# output, hn = self.gru(z)\n",
    "\t\t# out_reshape = output.contiguous().view(-1, output.size(-1))\n",
    "\t\ty0 = F.softmax(self.linear_4(out_reshape), dim = 1)\n",
    "\t\ty = y0.contiguous()\n",
    "\t\treturn y\n",
    "\n",
    "\tdef forward(self, x):\n",
    "\t\tz_mean, z_logvar = self.encode(x)\n",
    "\t\tself.z = self.sampling(z_mean, z_logvar)\n",
    "\t\treturn self.decode(self.z), z_mean, z_logvar, self.z\n",
    "\n",
    "\n",
    "def vae_loss(x_decoded_mean, x, z_mean, z_logvar):\n",
    "\txent_loss = F.binary_cross_entropy(x_decoded_mean, x, size_average=False)\n",
    "\tkl_loss = -0.5 * torch.sum(1 + z_logvar - z_mean.pow(2) - z_logvar.exp())\n",
    "\treturn xent_loss + kl_loss"
   ]
  },
  {
   "cell_type": "code",
   "execution_count": 2,
   "metadata": {},
   "outputs": [
    {
     "ename": "NameError",
     "evalue": "name 'model' is not defined",
     "output_type": "error",
     "traceback": [
      "\u001b[0;31m---------------------------------------------------------------------------\u001b[0m",
      "\u001b[0;31mNameError\u001b[0m                                 Traceback (most recent call last)",
      "\u001b[0;32m<ipython-input-2-1f8a688cae5d>\u001b[0m in \u001b[0;36m<module>\u001b[0;34m()\u001b[0m\n\u001b[0;32m----> 1\u001b[0;31m \u001b[0mmodel\u001b[0m\u001b[0;34m\u001b[0m\u001b[0m\n\u001b[0m",
      "\u001b[0;31mNameError\u001b[0m: name 'model' is not defined"
     ]
    }
   ],
   "source": [
    "model"
   ]
  },
  {
   "cell_type": "code",
   "execution_count": 10,
   "metadata": {},
   "outputs": [],
   "source": [
    "path_save = 'output' \n",
    "# data\n",
    "path_data = '/nfs/turbo/umms-welchjd/hengshi/GAN/data/Genotype/sparse_gene_anno_matrix.npz'\n",
    "data_npz = load_npz(path_data).toarray()\n",
    "\n",
    "random_state = np.random.RandomState(seed = 123)\n",
    "permutation = random_state.permutation(len(data_npz))\n",
    "n_train = int(len(data_npz) * 0.8)\n",
    "n_test = len(data_npz) - n_train\n",
    "batch_size = 256\n",
    "\n",
    "data_train, data_test = data_npz[permutation[:n_train]], data_npz[permutation[n_train:]]\n"
   ]
  },
  {
   "cell_type": "code",
   "execution_count": 12,
   "metadata": {},
   "outputs": [
    {
     "data": {
      "text/plain": [
       "(18832, 15988)"
      ]
     },
     "execution_count": 12,
     "metadata": {},
     "output_type": "execute_result"
    }
   ],
   "source": [
    "data_npz.shape"
   ]
  },
  {
   "cell_type": "code",
   "execution_count": 13,
   "metadata": {},
   "outputs": [
    {
     "name": "stdout",
     "output_type": "stream",
     "text": [
      "\u001b[0m\u001b[01;32manno.npy\u001b[0m*  \u001b[01;32mgoa_human.gaf\u001b[0m*     \u001b[01;32mgoa_human.xlsx\u001b[0m*    \u001b[01;32msparse_gene_anno_matrix.npz\u001b[0m*\r\n",
      "\u001b[01;32mgene.npy\u001b[0m*  \u001b[01;32mgoa_human.gaf.gz\u001b[0m*  \u001b[01;32mpreprocess.ipynb\u001b[0m*\r\n"
     ]
    }
   ],
   "source": [
    "ls /nfs/turbo/umms-welchjd/hengshi/GAN/data/Genotype/"
   ]
  },
  {
   "cell_type": "code",
   "execution_count": 14,
   "metadata": {},
   "outputs": [],
   "source": [
    "dataVAR = pd.read_csv('/scratch/welchjd_root/welchjd/hengshi/GAN/perturb_gan/data/GI/GI_processed_KeptPerturb_RAW_LibraryCheck_adataVAR.csv')"
   ]
  },
  {
   "cell_type": "code",
   "execution_count": 16,
   "metadata": {},
   "outputs": [
    {
     "data": {
      "text/html": [
       "<div>\n",
       "<style scoped>\n",
       "    .dataframe tbody tr th:only-of-type {\n",
       "        vertical-align: middle;\n",
       "    }\n",
       "\n",
       "    .dataframe tbody tr th {\n",
       "        vertical-align: top;\n",
       "    }\n",
       "\n",
       "    .dataframe thead th {\n",
       "        text-align: right;\n",
       "    }\n",
       "</style>\n",
       "<table border=\"1\" class=\"dataframe\">\n",
       "  <thead>\n",
       "    <tr style=\"text-align: right;\">\n",
       "      <th></th>\n",
       "      <th>Unnamed: 0</th>\n",
       "      <th>perturbation</th>\n",
       "      <th>Group</th>\n",
       "      <th>Cluster</th>\n",
       "      <th>Perturb</th>\n",
       "    </tr>\n",
       "  </thead>\n",
       "  <tbody>\n",
       "    <tr>\n",
       "      <th>0</th>\n",
       "      <td>0</td>\n",
       "      <td>ctrl/ctrl</td>\n",
       "      <td>NaN</td>\n",
       "      <td>NaN</td>\n",
       "      <td>NaN</td>\n",
       "    </tr>\n",
       "    <tr>\n",
       "      <th>1</th>\n",
       "      <td>1</td>\n",
       "      <td>TSC22D1/ctrl</td>\n",
       "      <td>NaN</td>\n",
       "      <td>NaN</td>\n",
       "      <td>NaN</td>\n",
       "    </tr>\n",
       "    <tr>\n",
       "      <th>2</th>\n",
       "      <td>2</td>\n",
       "      <td>KLF1/MAP2K6</td>\n",
       "      <td>PRO-GROWTH</td>\n",
       "      <td>Cluster2</td>\n",
       "      <td>KLF1/MAP2K6</td>\n",
       "    </tr>\n",
       "    <tr>\n",
       "      <th>3</th>\n",
       "      <td>3</td>\n",
       "      <td>ctrl10/ctrl</td>\n",
       "      <td>NaN</td>\n",
       "      <td>NaN</td>\n",
       "      <td>NaN</td>\n",
       "    </tr>\n",
       "    <tr>\n",
       "      <th>4</th>\n",
       "      <td>4</td>\n",
       "      <td>CEBPE/RUNX1T1</td>\n",
       "      <td>GRANULOCYTE/APOPTOSIS</td>\n",
       "      <td>Cluster7</td>\n",
       "      <td>CEBPE/RUNX1T1</td>\n",
       "    </tr>\n",
       "  </tbody>\n",
       "</table>\n",
       "</div>"
      ],
      "text/plain": [
       "   Unnamed: 0   perturbation                  Group   Cluster        Perturb\n",
       "0           0      ctrl/ctrl                    NaN       NaN            NaN\n",
       "1           1   TSC22D1/ctrl                    NaN       NaN            NaN\n",
       "2           2    KLF1/MAP2K6             PRO-GROWTH  Cluster2    KLF1/MAP2K6\n",
       "3           3    ctrl10/ctrl                    NaN       NaN            NaN\n",
       "4           4  CEBPE/RUNX1T1  GRANULOCYTE/APOPTOSIS  Cluster7  CEBPE/RUNX1T1"
      ]
     },
     "execution_count": 16,
     "metadata": {},
     "output_type": "execute_result"
    }
   ],
   "source": [
    "path_cond = '/scratch/welchjd_root/welchjd/hengshi/GAN/perturb_gan/data/GI/cell_meta_Annotated_KeptPerturb_RAW_LibraryCheck_PyThon37.csv'\n",
    "cond_data = pd.read_csv(path_cond)\n",
    "cond_data.head()"
   ]
  },
  {
   "cell_type": "markdown",
   "metadata": {},
   "source": [
    "Visualize embedding"
   ]
  },
  {
   "cell_type": "code",
   "execution_count": 4,
   "metadata": {},
   "outputs": [
    {
     "name": "stderr",
     "output_type": "stream",
     "text": [
      "/home/hengshi/.local/lib/python3.6/site-packages/torch/cuda/__init__.py:52: UserWarning: CUDA initialization: Found no NVIDIA driver on your system. Please check that you have an NVIDIA GPU and installed a driver from http://www.nvidia.com/Download/index.aspx (Triggered internally at  /pytorch/c10/cuda/CUDAFunctions.cpp:100.)\n",
      "  return torch._C._cuda_getDeviceCount() > 0\n"
     ]
    }
   ],
   "source": [
    "path_geneanno = \"/nfs/turbo/umms-welchjd/hengshi/GAN/data/Genotype/\"\n",
    "path_data = '/nfs/turbo/umms-welchjd/hengshi/perturb_gan/data/GI/'\n",
    "path_model = \"/scratch/welchjd_root/welchjd/hengshi/GAN/perturb_gan/genotype_vae/output/model_params.pt\"\n",
    "# else:\n",
    "#   raise ValueError(\n",
    "#       \"{} already exists, Please provide an unexisting director for saving.\".format(path_save))\n",
    "\n",
    "\n",
    "# perturbation information data\n",
    "cond_all = pd.read_csv(os.path.join(path_data, 'cell_meta_Annotated_KeptPerturb_RAW_LibraryCheck_PyThon37.csv'))\n",
    "null_per_category = ['ctrl/ctrl', 'ctrl1/ctrl', 'ctrl10/ctrl', 'ctrl11/ctrl']\n",
    "single_null_per_category = ['ctrl', 'ctrl1', 'ctrl10', 'ctrl11']\n",
    "\n",
    "perturb_list = list(cond_all['perturbation'])\n",
    "perturb1_list = []\n",
    "perturb2_list = []\n",
    "for i in range(len(perturb_list)):\n",
    "    per1, per2 = perturb_list[i].split(\"/\")\n",
    "    perturb1_list.append(per1)\n",
    "    perturb2_list.append(per2)\n",
    "\n",
    "perturb1_list_collect = ['ctrl' if i in single_null_per_category else i for i in perturb1_list]\n",
    "perturb2_list_collect = ['ctrl' if i in single_null_per_category else i for i in perturb2_list]\n",
    "\n",
    "perturb_list_collect = [perturb1_list_collect[i] + \"/\" + perturb2_list_collect[i] for i in range(len(perturb2_list_collect))]\n",
    "perturb_data_pd = pd.Series(perturb_list_collect).str.get_dummies(\"/\")\n",
    "perturb_data = perturb_data_pd.values.astype('float64')\n",
    "\n",
    "\n",
    "\n",
    "perturb_data_pd_rowunique = perturb_data_pd.drop_duplicates()\n",
    "perturb_col_names = np.array(list(perturb_data_pd_rowunique.columns))\n",
    "\n",
    "# perturbation embedding data\n",
    "data_npz = load_npz(os.path.join(path_geneanno, 'sparse_gene_anno_matrix.npz')).toarray()\n",
    "gene_data = np.load(os.path.join(path_geneanno, 'gene.npy'))\n",
    "anno_data = np.load(os.path.join(path_geneanno, 'anno.npy'))\n",
    "\n",
    "\n",
    "\n",
    "# genotypeVAE model load\n",
    "torch.manual_seed(42)\n",
    "device = 'cuda' if torch.cuda.is_available() else 'cpu'\n",
    "\n",
    "model = GenoVAE().to(device)\n",
    "model.load_state_dict(torch.load(path_model, map_location = device))\n",
    "model.eval()\n",
    "\n",
    "# treatment embedding\n",
    "list_per_gene = []\n",
    "anno_per_gene = None\n",
    "for i in range(perturb_data_pd_rowunique.shape[0]):\n",
    "    perturb_type = perturb_col_names[perturb_data_pd_rowunique.iloc[i, :].apply(lambda x: x > 0)]\n",
    "\n",
    "    if len(perturb_type) == 1:\n",
    "        per1, per2 = perturb_type[0], perturb_type[0]\n",
    "    else:\n",
    "        per1, per2 = perturb_type[0], perturb_type[1]\n",
    "\n",
    "\n",
    "    anno1 = None\n",
    "    if per1 in gene_data:\n",
    "        indice1 = np.where(gene_data == per1)[0][0]\n",
    "        anno1 = data_npz[[indice1]]\n",
    "\n",
    "    anno2 = None\n",
    "    if per2 in gene_data:\n",
    "        indice2 = np.where(gene_data == per2)[0][0]\n",
    "        anno2 = data_npz[[indice2]]\n",
    "\n",
    "    if anno1 is not None and anno2 is not None:\n",
    "        anno_perturb =  np.logical_or(anno1, anno2).astype(np.float64)\n",
    "    elif anno1 is None and anno2 is not None:\n",
    "        anno_perturb = anno2.astype(np.float64)\n",
    "    elif anno1 is not None and anno2 is None:\n",
    "        anno_perturb = anno1.astype(np.float64)\n",
    "    else:\n",
    "        anno_perturb = None\n",
    "\n",
    "    if anno_perturb is not None:\n",
    "        if anno_per_gene is None:\n",
    "            anno_per_gene = anno_perturb\n",
    "        else:\n",
    "            anno_per_gene = np.concatenate([anno_per_gene, anno_perturb], axis = 0)\n",
    "        list_per_gene.append(per1 + '/' + per2)\n",
    "\n",
    "trt_whole_list = list_per_gene\n",
    "list_emb_trt = list_per_gene\n",
    "list_meta_trt = perturb_list_collect"
   ]
  },
  {
   "cell_type": "code",
   "execution_count": 8,
   "metadata": {},
   "outputs": [
    {
     "data": {
      "text/plain": [
       "(230, 15988)"
      ]
     },
     "execution_count": 8,
     "metadata": {},
     "output_type": "execute_result"
    }
   ],
   "source": [
    "anno_per_gene.shape"
   ]
  },
  {
   "cell_type": "code",
   "execution_count": 9,
   "metadata": {},
   "outputs": [],
   "source": [
    "_, _, _, embdata_torch = model(torch.tensor(anno_per_gene).float().to(device))\n",
    "embdata_numpy = embdata_torch.cpu().detach().numpy()"
   ]
  },
  {
   "cell_type": "code",
   "execution_count": 11,
   "metadata": {},
   "outputs": [
    {
     "data": {
      "text/plain": [
       "(230, 32)"
      ]
     },
     "execution_count": 11,
     "metadata": {},
     "output_type": "execute_result"
    }
   ],
   "source": [
    "embdata_numpy.shape"
   ]
  },
  {
   "cell_type": "code",
   "execution_count": 13,
   "metadata": {},
   "outputs": [
    {
     "name": "stderr",
     "output_type": "stream",
     "text": [
      "/home/hengshi/.local/lib/python3.6/site-packages/plotnine/scales/scale.py:93: MatplotlibDeprecationWarning: \n",
      "The iterable function was deprecated in Matplotlib 3.1 and will be removed in 3.3. Use np.iterable instead.\n",
      "  if cbook.iterable(self.breaks) and cbook.iterable(self.labels):\n",
      "/home/hengshi/.local/lib/python3.6/site-packages/plotnine/utils.py:553: MatplotlibDeprecationWarning: \n",
      "The iterable function was deprecated in Matplotlib 3.1 and will be removed in 3.3. Use np.iterable instead.\n",
      "  return cbook.iterable(var) and not is_string(var)\n"
     ]
    },
    {
     "data": {
      "image/png": "[encoded data removed]",
      "text/plain": [
       "<Figure size 640x480 with 1 Axes>"
      ]
     },
     "metadata": {},
     "output_type": "display_data"
    },
    {
     "data": {
      "text/plain": [
       "<ggplot: (-9223369057941657172)>"
      ]
     },
     "execution_count": 13,
     "metadata": {},
     "output_type": "execute_result"
    }
   ],
   "source": [
    "import umap\n",
    "from plotnine import * \n",
    "\n",
    "trans_zinc = umap.UMAP(random_state = 42, min_dist = 0.5, n_neighbors=30).fit_transform(embdata_numpy)\n",
    "\n",
    "df_tsne_pr_z = trans_zinc.copy()\n",
    "df_tsne_pr_z = pd.DataFrame(df_tsne_pr_z)\n",
    "df_tsne_pr_z['x-umap'] = trans_zinc[:,0]\n",
    "df_tsne_pr_z['y-umap'] = trans_zinc[:,1]\n",
    "\n",
    "\n",
    "\n",
    "chart_pr = ggplot(df_tsne_pr_z, aes(x= 'x-umap', y= 'y-umap') ) \\\n",
    "\t+ geom_point(size=1, alpha = 1) + labs(x = \"X-UMAP\", y = \"Y-UMAP\") + theme_bw()  + theme(panel_background=element_rect(fill='white'),     \n",
    "\t\ttitle = element_text(size = 25), \n",
    "\t\taxis_title_x=element_text(size = 25), axis_title_y=element_text(size = 25),\n",
    "\t\taxis_text_x=element_text(size = 15), axis_text_y=element_text(size = 15),\n",
    "\t\tlegend_title=element_text(size = 20), legend_text=element_text(size = 20), \n",
    "\t\taxis_ticks_major_y=element_blank(),\n",
    "\t\taxis_ticks_major_x=element_blank(),\n",
    "\t\tpanel_grid = element_blank()) + ggtitle(\"UMAP\")\n",
    "chart_pr"
   ]
  },
  {
   "cell_type": "code",
   "execution_count": 15,
   "metadata": {},
   "outputs": [
    {
     "name": "stdout",
     "output_type": "stream",
     "text": [
      "genotypeVAE.py  \u001b[0m\u001b[01;34moutput\u001b[0m/                     slurm-20263083.out\r\n",
      "main.sh         \u001b[01;34moutput_latent256_epoch100\u001b[0m/  test.ipynb\r\n"
     ]
    }
   ],
   "source": [
    "ls"
   ]
  },
  {
   "cell_type": "code",
   "execution_count": 16,
   "metadata": {},
   "outputs": [
    {
     "name": "stdout",
     "output_type": "stream",
     "text": [
      "\u001b[37m#!/usr/bin/python\u001b[39;49;00m\r\n",
      "\u001b[34mimport\u001b[39;49;00m \u001b[04m\u001b[36mos\u001b[39;49;00m\r\n",
      "\u001b[34mimport\u001b[39;49;00m \u001b[04m\u001b[36mtorch\u001b[39;49;00m\r\n",
      "\u001b[34mimport\u001b[39;49;00m \u001b[04m\u001b[36mtorch.nn\u001b[39;49;00m \u001b[34mas\u001b[39;49;00m \u001b[04m\u001b[36mnn\u001b[39;49;00m\r\n",
      "\u001b[34mimport\u001b[39;49;00m \u001b[04m\u001b[36mtorch.nn.functional\u001b[39;49;00m \u001b[34mas\u001b[39;49;00m \u001b[04m\u001b[36mF\u001b[39;49;00m\r\n",
      "\u001b[34mimport\u001b[39;49;00m \u001b[04m\u001b[36mtorch.utils.data\u001b[39;49;00m\r\n",
      "\u001b[34mimport\u001b[39;49;00m \u001b[04m\u001b[36mtorch.optim\u001b[39;49;00m \u001b[34mas\u001b[39;49;00m \u001b[04m\u001b[36moptim\u001b[39;49;00m\r\n",
      "\r\n",
      "\u001b[34mimport\u001b[39;49;00m \u001b[04m\u001b[36mscipy\u001b[39;49;00m\r\n",
      "\u001b[34mfrom\u001b[39;49;00m \u001b[04m\u001b[36mscipy.sparse\u001b[39;49;00m \u001b[34mimport\u001b[39;49;00m load_npz\r\n",
      "\u001b[34mimport\u001b[39;49;00m \u001b[04m\u001b[36mnumpy\u001b[39;49;00m \u001b[34mas\u001b[39;49;00m \u001b[04m\u001b[36mnp\u001b[39;49;00m\r\n",
      "\u001b[34mimport\u001b[39;49;00m \u001b[04m\u001b[36mpandas\u001b[39;49;00m \u001b[34mas\u001b[39;49;00m \u001b[04m\u001b[36mpd\u001b[39;49;00m\r\n",
      "os.environ[\u001b[33m\"\u001b[39;49;00m\u001b[33mCUDA_VISIBLE_DEVICES\u001b[39;49;00m\u001b[33m\"\u001b[39;49;00m] = \u001b[33m'\u001b[39;49;00m\u001b[33m0\u001b[39;49;00m\u001b[33m'\u001b[39;49;00m\r\n",
      "\r\n",
      "\u001b[34mclass\u001b[39;49;00m \u001b[04m\u001b[32mGenoVAE\u001b[39;49;00m(nn.Module):\r\n",
      "\t\u001b[34mdef\u001b[39;49;00m \u001b[32m__init__\u001b[39;49;00m(\u001b[36mself\u001b[39;49;00m):\r\n",
      "\r\n",
      "\t\t\u001b[36msuper\u001b[39;49;00m(GenoVAE, \u001b[36mself\u001b[39;49;00m).\u001b[32m__init__\u001b[39;49;00m()\r\n",
      "\r\n",
      "\t\t\u001b[37m# self.conv_1 = nn.Conv1d(120, 9, kernel_size=9)\u001b[39;49;00m\r\n",
      "\t\t\u001b[37m# self.conv_2 = nn.Conv1d(9, 9, kernel_size=9)\u001b[39;49;00m\r\n",
      "\t\t\u001b[37m# self.conv_3 = nn.Conv1d(9, 10, kernel_size=11)\u001b[39;49;00m\r\n",
      "\t\t\u001b[36mself\u001b[39;49;00m.linear_0 = nn.Linear(\u001b[34m15988\u001b[39;49;00m, \u001b[34m512\u001b[39;49;00m)\r\n",
      "\t\t\u001b[36mself\u001b[39;49;00m.linear_012 = nn.Linear(\u001b[34m512\u001b[39;49;00m, \u001b[34m256\u001b[39;49;00m)\r\n",
      "\t\t\u001b[36mself\u001b[39;49;00m.linear_1 = nn.Linear(\u001b[34m256\u001b[39;49;00m, \u001b[34m32\u001b[39;49;00m)\r\n",
      "\t\t\u001b[36mself\u001b[39;49;00m.linear_2 = nn.Linear(\u001b[34m256\u001b[39;49;00m, \u001b[34m32\u001b[39;49;00m)\r\n",
      "\r\n",
      "\t\t\u001b[36mself\u001b[39;49;00m.linear_3 = nn.Linear(\u001b[34m32\u001b[39;49;00m, \u001b[34m256\u001b[39;49;00m)\r\n",
      "\t\t\u001b[36mself\u001b[39;49;00m.linear_34 = nn.Linear(\u001b[34m256\u001b[39;49;00m, \u001b[34m512\u001b[39;49;00m)\r\n",
      "\t\t\u001b[37m# self.gru = nn.GRU(292, 501, 3, batch_first=True)\u001b[39;49;00m\r\n",
      "\t\t\u001b[36mself\u001b[39;49;00m.linear_4 = nn.Linear(\u001b[34m512\u001b[39;49;00m, \u001b[34m15988\u001b[39;49;00m)\r\n",
      "\t\t\r\n",
      "\t\t\u001b[36mself\u001b[39;49;00m.relu = nn.ReLU()\r\n",
      "\t\t\u001b[36mself\u001b[39;49;00m.softmax = nn.Softmax()\r\n",
      "\r\n",
      "\t\u001b[34mdef\u001b[39;49;00m \u001b[32mencode\u001b[39;49;00m(\u001b[36mself\u001b[39;49;00m, x):\r\n",
      "\t\t\u001b[37m# x = self.relu(self.conv_1(x))\u001b[39;49;00m\r\n",
      "\t\t\u001b[37m# x = self.relu(self.conv_2(x))\u001b[39;49;00m\r\n",
      "\t\t\u001b[37m# x = self.relu(self.conv_3(x))\u001b[39;49;00m\r\n",
      "\t\t\u001b[37m# x = x.view(x.size(0), -1)\u001b[39;49;00m\r\n",
      "\t\tx = \u001b[36mself\u001b[39;49;00m.relu(\u001b[36mself\u001b[39;49;00m.linear_0(x))\r\n",
      "\t\tx = F.selu(\u001b[36mself\u001b[39;49;00m.linear_012(x))\r\n",
      "\t\t\u001b[34mreturn\u001b[39;49;00m \u001b[36mself\u001b[39;49;00m.linear_1(x), \u001b[36mself\u001b[39;49;00m.linear_2(x)\r\n",
      "\r\n",
      "\t\u001b[34mdef\u001b[39;49;00m \u001b[32msampling\u001b[39;49;00m(\u001b[36mself\u001b[39;49;00m, z_mean, z_logvar):\r\n",
      "\t\tepsilon = \u001b[34m1e-2\u001b[39;49;00m * torch.randn_like(z_logvar)\r\n",
      "\t\t\u001b[34mreturn\u001b[39;49;00m torch.exp(\u001b[34m0.5\u001b[39;49;00m * z_logvar) * epsilon + z_mean\r\n",
      "\r\n",
      "\t\u001b[34mdef\u001b[39;49;00m \u001b[32mdecode\u001b[39;49;00m(\u001b[36mself\u001b[39;49;00m, z):\r\n",
      "\t\tz = F.selu(\u001b[36mself\u001b[39;49;00m.linear_3(z))\r\n",
      "\t\tout_reshape = F.selu(\u001b[36mself\u001b[39;49;00m.linear_34(z))\r\n",
      "\t\t\u001b[37m# z = z.view(z.size(0), 1, z.size(-1)).repeat(1, 120, 1)\u001b[39;49;00m\r\n",
      "\t\t\u001b[37m# output, hn = self.gru(z)\u001b[39;49;00m\r\n",
      "\t\t\u001b[37m# out_reshape = output.contiguous().view(-1, output.size(-1))\u001b[39;49;00m\r\n",
      "\t\ty0 = F.softmax(\u001b[36mself\u001b[39;49;00m.linear_4(out_reshape), dim = \u001b[34m1\u001b[39;49;00m)\r\n",
      "\t\ty = y0.contiguous()\r\n",
      "\t\t\u001b[34mreturn\u001b[39;49;00m y\r\n",
      "\r\n",
      "\t\u001b[34mdef\u001b[39;49;00m \u001b[32mforward\u001b[39;49;00m(\u001b[36mself\u001b[39;49;00m, x):\r\n",
      "\t\tz_mean, z_logvar = \u001b[36mself\u001b[39;49;00m.encode(x)\r\n",
      "\t\t\u001b[36mself\u001b[39;49;00m.z = \u001b[36mself\u001b[39;49;00m.sampling(z_mean, z_logvar)\r\n",
      "\t\t\u001b[34mreturn\u001b[39;49;00m \u001b[36mself\u001b[39;49;00m.decode(\u001b[36mself\u001b[39;49;00m.z), z_mean, z_logvar, \u001b[36mself\u001b[39;49;00m.z\r\n",
      "\r\n",
      "\r\n",
      "\u001b[34mdef\u001b[39;49;00m \u001b[32mvae_loss\u001b[39;49;00m(x_decoded_mean, x, z_mean, z_logvar):\r\n",
      "\txent_loss = F.binary_cross_entropy(x_decoded_mean, x, size_average=\u001b[36mFalse\u001b[39;49;00m)\r\n",
      "\tkl_loss = -\u001b[34m0.5\u001b[39;49;00m * torch.sum(\u001b[34m1\u001b[39;49;00m + z_logvar - z_mean.pow(\u001b[34m2\u001b[39;49;00m) - z_logvar.exp())\r\n",
      "\t\u001b[34mreturn\u001b[39;49;00m xent_loss + kl_loss\r\n",
      "\r\n",
      "\r\n",
      "\r\n",
      "\u001b[34mif\u001b[39;49;00m \u001b[31m__name__\u001b[39;49;00m == \u001b[33m\"\u001b[39;49;00m\u001b[33m__main__\u001b[39;49;00m\u001b[33m\"\u001b[39;49;00m:\r\n",
      "\t\r\n",
      "\tpath_save = \u001b[33m'\u001b[39;49;00m\u001b[33moutput\u001b[39;49;00m\u001b[33m'\u001b[39;49;00m \r\n",
      "\t\u001b[37m# data\u001b[39;49;00m\r\n",
      "\tpath_data = \u001b[33m'\u001b[39;49;00m\u001b[33m/nfs/turbo/umms-welchjd/hengshi/GAN/data/Genotype/sparse_gene_anno_matrix.npz\u001b[39;49;00m\u001b[33m'\u001b[39;49;00m\r\n",
      "\tdata_npz = load_npz(path_data).toarray()\r\n",
      "\r\n",
      "\trandom_state = np.random.RandomState(seed = \u001b[34m123\u001b[39;49;00m)\r\n",
      "\tpermutation = random_state.permutation(\u001b[36mlen\u001b[39;49;00m(data_npz))\r\n",
      "\tn_train = \u001b[36mint\u001b[39;49;00m(\u001b[36mlen\u001b[39;49;00m(data_npz) * \u001b[34m0.8\u001b[39;49;00m)\r\n",
      "\tn_test = \u001b[36mlen\u001b[39;49;00m(data_npz) - n_train\r\n",
      "\tbatch_size = \u001b[34m128\u001b[39;49;00m\r\n",
      "\r\n",
      "\tdata_train, data_test = data_npz[permutation[:n_train]], data_npz[permutation[n_train:]]\r\n",
      "\r\n",
      "\tdata_train = torch.utils.data.TensorDataset(torch.from_numpy(data_train))\r\n",
      "\tdata_test = torch.utils.data.TensorDataset(torch.from_numpy(data_test))\r\n",
      "\ttrain_loader = torch.utils.data.DataLoader(data_train, batch_size = batch_size, shuffle = \u001b[36mTrue\u001b[39;49;00m)\r\n",
      "\ttest_loader = torch.utils.data.DataLoader(data_test, batch_size = batch_size, shuffle = \u001b[36mTrue\u001b[39;49;00m)\r\n",
      "\r\n",
      "\t\u001b[37m# model \u001b[39;49;00m\r\n",
      "\ttorch.manual_seed(\u001b[34m42\u001b[39;49;00m)\r\n",
      "\r\n",
      "\tepochs = \u001b[34m300\u001b[39;49;00m\r\n",
      "\tdevice = \u001b[33m'\u001b[39;49;00m\u001b[33mcuda\u001b[39;49;00m\u001b[33m'\u001b[39;49;00m \u001b[34mif\u001b[39;49;00m torch.cuda.is_available() \u001b[34melse\u001b[39;49;00m \u001b[33m'\u001b[39;49;00m\u001b[33mcpu\u001b[39;49;00m\u001b[33m'\u001b[39;49;00m\r\n",
      "\r\n",
      "\tmodel = GenoVAE().to(device)\r\n",
      "\toptimizer = optim.Adam(model.parameters())\r\n",
      "\r\n",
      "\r\n",
      "\t\u001b[34mdef\u001b[39;49;00m \u001b[32mtrain\u001b[39;49;00m(epoch):\r\n",
      "\t\tmodel.train()\r\n",
      "\t\ttrain_loss = \u001b[34m0\u001b[39;49;00m\r\n",
      "\t\t\u001b[34mfor\u001b[39;49;00m batch_idx, data \u001b[35min\u001b[39;49;00m \u001b[36menumerate\u001b[39;49;00m(train_loader):\r\n",
      "\t\t\tdata = data[\u001b[34m0\u001b[39;49;00m].to(device, dtype = torch.float)\r\n",
      "\r\n",
      "\t\t\tcheck = np.random.sample(\u001b[34m1\u001b[39;49;00m)[\u001b[34m0\u001b[39;49;00m]\r\n",
      "\t\t\tdata_len = data.shape[\u001b[34m0\u001b[39;49;00m]\r\n",
      "\t\t\t\r\n",
      "\t\t\t\u001b[34mif\u001b[39;49;00m check > \u001b[34m0.5\u001b[39;49;00m \u001b[35mand\u001b[39;49;00m data_len % \u001b[34m2\u001b[39;49;00m == \u001b[34m0\u001b[39;49;00m:\r\n",
      "\t\t\t\thalf_len = \u001b[36mint\u001b[39;49;00m(data_len / \u001b[34m2\u001b[39;49;00m)\r\n",
      "\t\t\t\tdata_first, data_second = data[:half_len], data[half_len]\r\n",
      "\t\t\t\tdata = torch.logical_or(data_first, data_second).to(device, dtype = torch.float)\r\n",
      "\r\n",
      "\t\t\toptimizer.zero_grad()\r\n",
      "\t\t\toutput, mean, logvar, _ = model(data)\r\n",
      "\t\t\t\r\n",
      "\t\t\t\u001b[34mif\u001b[39;49;00m batch_idx == \u001b[34m0\u001b[39;49;00m:\r\n",
      "\t\t\t\tinp = data.cpu().numpy()\r\n",
      "\t\t\t\toutp = output.cpu().detach().numpy()\r\n",
      "\t\t\t\tlab = data.cpu().numpy()\r\n",
      "\t\t\t\t\u001b[37m#print(\"Input:\")\u001b[39;49;00m\r\n",
      "\t\t\t\t\u001b[37m#print(decode_smiles_from_indexes(map(from_one_hot_array, inp[0]), charset))\u001b[39;49;00m\r\n",
      "\t\t\t\t\u001b[37m#print(\"Label:\")\u001b[39;49;00m\r\n",
      "\t\t\t\t\u001b[37m#print(decode_smiles_from_indexes(map(from_one_hot_array, lab[0]), charset))\u001b[39;49;00m\r\n",
      "\t\t\t\t\u001b[37m# sampled = outp[0].reshape(1, 120, len(charset)).argmax(axis=2)[0]\u001b[39;49;00m\r\n",
      "\t\t\t\t\u001b[37m# print(\"Output:\")\u001b[39;49;00m\r\n",
      "\t\t\t\t\u001b[37m# print(decode_smiles_from_indexes(sampled, charset))\u001b[39;49;00m\r\n",
      "\t\t\t\tmodel.eval()\r\n",
      "\t\t\t\ttest_loss = \u001b[34m0\u001b[39;49;00m\r\n",
      "\t\t\t\t\u001b[34mwith\u001b[39;49;00m torch.no_grad():\r\n",
      "\t\t\t\t\t\u001b[34mfor\u001b[39;49;00m batch_test_idx, testdata \u001b[35min\u001b[39;49;00m \u001b[36menumerate\u001b[39;49;00m(test_loader):\r\n",
      "\t\t\t\t\t\ttestdata = testdata[\u001b[34m0\u001b[39;49;00m].to(device, dtype = torch.float)\r\n",
      "\r\n",
      "\t\t\t\t\t\tcheck = np.random.sample(\u001b[34m1\u001b[39;49;00m)[\u001b[34m0\u001b[39;49;00m]\r\n",
      "\t\t\t\t\t\tdata_len = testdata.shape[\u001b[34m0\u001b[39;49;00m]\r\n",
      "\r\n",
      "\t\t\t\t\t\t\u001b[34mif\u001b[39;49;00m check > \u001b[34m0.5\u001b[39;49;00m \u001b[35mand\u001b[39;49;00m data_len % \u001b[34m2\u001b[39;49;00m == \u001b[34m0\u001b[39;49;00m:\r\n",
      "\t\t\t\t\t\t\thalf_len = \u001b[36mint\u001b[39;49;00m(data_len / \u001b[34m2\u001b[39;49;00m)\r\n",
      "\t\t\t\t\t\t\tdata_first, data_second = testdata[:half_len], testdata[half_len]\r\n",
      "\t\t\t\t\t\t\ttestdata = torch.logical_or(data_first, data_second).to(device, dtype = torch.float)\r\n",
      "\t\t\t\t\t\t\r\n",
      "\t\t\t\t\t\toutput_test, mean_test, logvar_test, _ = model(testdata)\r\n",
      "\t\t\t\t\t\ttloss = vae_loss(output_test, testdata, mean_test, logvar_test)\r\n",
      "\t\t\t\t\t\ttest_loss += tloss.item() * testdata.shape[\u001b[34m0\u001b[39;49;00m]\r\n",
      "\t\t\t\t\ttest_loss /= \u001b[36mlen\u001b[39;49;00m(test_loader.dataset)\r\n",
      "\t\t\t\tmodel.train()\r\n",
      "\r\n",
      "\t\t\tloss = vae_loss(output, data, mean, logvar)\r\n",
      "\t\t\tloss.backward()\r\n",
      "\t\t\ttrain_loss += loss.item() * data.shape[\u001b[34m0\u001b[39;49;00m]\r\n",
      "\t\t\toptimizer.step()\r\n",
      "\t\ttrain_loss /= \u001b[36mlen\u001b[39;49;00m(train_loader.dataset)\r\n",
      "\t\u001b[37m#         if batch_idx % 100 == 0:\u001b[39;49;00m\r\n",
      "\t\u001b[37m#             print(f'{epoch} / {batch_idx}\\t{loss:.4f}')\u001b[39;49;00m\r\n",
      "\t\t\u001b[34mprint\u001b[39;49;00m(\u001b[33m'\u001b[39;49;00m\u001b[33mtrain\u001b[39;49;00m\u001b[33m'\u001b[39;49;00m, train_loss / \u001b[36mlen\u001b[39;49;00m(train_loader.dataset))\r\n",
      "\t\t\u001b[34mreturn\u001b[39;49;00m train_loss, test_loss\r\n",
      "\r\n",
      "\ttrain_loss_list, test_loss_list = [], []\r\n",
      "\t\u001b[34mfor\u001b[39;49;00m epoch \u001b[35min\u001b[39;49;00m \u001b[36mrange\u001b[39;49;00m(\u001b[34m1\u001b[39;49;00m, epochs + \u001b[34m1\u001b[39;49;00m):\r\n",
      "\t\ttrain_loss, test_loss = train(epoch)\r\n",
      "\t\ttrain_loss_list.append(train_loss)\r\n",
      "\t\ttest_loss_list.append(test_loss)\r\n",
      "\tpd.DataFrame(train_loss_list).to_csv(os.path.join(path_save, \u001b[33m\"\u001b[39;49;00m\u001b[33mtrain_loss.csv\u001b[39;49;00m\u001b[33m\"\u001b[39;49;00m))\r\n",
      "\tpd.DataFrame(test_loss_list).to_csv(os.path.join(path_save, \u001b[33m\"\u001b[39;49;00m\u001b[33mtest_loss.csv\u001b[39;49;00m\u001b[33m\"\u001b[39;49;00m))\r\n",
      "\ttorch.save(model.state_dict(), os.path.join(path_save, \u001b[33m\"\u001b[39;49;00m\u001b[33mmodel_params.pt\u001b[39;49;00m\u001b[33m\"\u001b[39;49;00m))\r\n"
     ]
    }
   ],
   "source": [
    "!pygmentize genotypeVAE.py"
   ]
  },
  {
   "cell_type": "code",
   "execution_count": 17,
   "metadata": {},
   "outputs": [
    {
     "name": "stderr",
     "output_type": "stream",
     "text": [
      "/home/hengshi/.local/lib/python3.6/site-packages/plotnine/ggplot.py:706: UserWarning: Saving 12 x 8 in image.\n",
      "  from_inches(height, units), units))\n",
      "/home/hengshi/.local/lib/python3.6/site-packages/plotnine/ggplot.py:707: UserWarning: Filename: output/UMAP_moleVAE_300Epoch.png\n",
      "  warn('Filename: {}'.format(filename))\n",
      "/home/hengshi/.local/lib/python3.6/site-packages/plotnine/scales/scale.py:93: MatplotlibDeprecationWarning: \n",
      "The iterable function was deprecated in Matplotlib 3.1 and will be removed in 3.3. Use np.iterable instead.\n",
      "  if cbook.iterable(self.breaks) and cbook.iterable(self.labels):\n",
      "/home/hengshi/.local/lib/python3.6/site-packages/plotnine/utils.py:553: MatplotlibDeprecationWarning: \n",
      "The iterable function was deprecated in Matplotlib 3.1 and will be removed in 3.3. Use np.iterable instead.\n",
      "  return cbook.iterable(var) and not is_string(var)\n",
      "/home/hengshi/.local/lib/python3.6/site-packages/plotnine/ggplot.py:722: MatplotlibDeprecationWarning: \n",
      "The frameon kwarg was deprecated in Matplotlib 3.1 and will be removed in 3.3. Use facecolor instead.\n",
      "  fig.savefig(filename, **fig_kwargs)\n"
     ]
    }
   ],
   "source": [
    "figure_path_pr = 'output/UMAP_moleVAE_300Epoch.png'\n",
    "chart_pr.save(figure_path_pr, width=12, height=8, dpi=144)"
   ]
  },
  {
   "cell_type": "markdown",
   "metadata": {},
   "source": [
    "# Test"
   ]
  },
  {
   "cell_type": "code",
   "execution_count": 1,
   "metadata": {},
   "outputs": [],
   "source": [
    "import os\n",
    "import torch\n",
    "import torch.nn as nn\n",
    "import torch.nn.functional as F\n",
    "import torch.utils.data\n",
    "import torch.optim as optim\n",
    "\n",
    "import scipy\n",
    "from scipy.sparse import load_npz\n",
    "import numpy as np\n",
    "import pandas as pd"
   ]
  },
  {
   "cell_type": "code",
   "execution_count": 2,
   "metadata": {},
   "outputs": [],
   "source": [
    "linear_1 = nn.Linear(15988, 512)\n",
    "linear_2 = nn.Linear(512, 256)\n",
    "linear_3_mu = nn.Linear(256, 10)\n",
    "linear_3_std = nn.Linear(256, 10)\n",
    "\n",
    "bn1 = nn.BatchNorm1d(512)\n",
    "bn2 = nn.BatchNorm1d(256)\n",
    "\n",
    "# decoder\n",
    "linear_4 = nn.Linear(10, 256)\n",
    "linear_5 = nn.Linear(256, 512)\n",
    "linear_6 = nn.Linear(512, 15988)\n",
    "\n",
    "bn4 = nn.BatchNorm1d(256)\n",
    "bn5 = nn.BatchNorm1d(512)\n",
    "\n",
    "# activations\t\t\n",
    "relu = nn.ReLU()\n",
    "softmax = nn.Softmax()\n",
    "leaky = nn.LeakyReLU(negative_slope = 0.2)\n",
    "\n",
    "dropout1 = nn.Dropout(p = 0.2)\n",
    "dropout2 = nn.Dropout(p = 0.2)\n",
    "dropout3 = nn.Dropout(p = 0.2)\n",
    "dropout4 = nn.Dropout(p = 0.2)\n"
   ]
  },
  {
   "cell_type": "code",
   "execution_count": 7,
   "metadata": {},
   "outputs": [],
   "source": [
    "z = torch.rand(10, 10)"
   ]
  },
  {
   "cell_type": "code",
   "execution_count": 8,
   "metadata": {},
   "outputs": [],
   "source": [
    "z = linear_4(z)\n",
    "z = bn4(z)\n",
    "z = leaky(z)\n",
    "z = dropout3(z)\n",
    "\n",
    "z = linear_5(z)\n",
    "z = bn5(z)\n",
    "z = leaky(z)\n",
    "z = dropout4(z)\n",
    "# z = z.view(z.size(0), 1, z.size(-1)).repeat(1, 120, 1)\n",
    "# output, hn = self.gru(z)\n",
    "# out_reshape = output.contiguous().view(-1, output.size(-1))\n"
   ]
  },
  {
   "cell_type": "code",
   "execution_count": 10,
   "metadata": {},
   "outputs": [
    {
     "data": {
      "text/plain": [
       "torch.Size([10, 512])"
      ]
     },
     "execution_count": 10,
     "metadata": {},
     "output_type": "execute_result"
    }
   ],
   "source": [
    "z.shape"
   ]
  },
  {
   "cell_type": "code",
   "execution_count": 11,
   "metadata": {},
   "outputs": [],
   "source": [
    "m = linear_6(z)"
   ]
  },
  {
   "cell_type": "code",
   "execution_count": 12,
   "metadata": {},
   "outputs": [
    {
     "data": {
      "text/plain": [
       "torch.Size([10, 15988])"
      ]
     },
     "execution_count": 12,
     "metadata": {},
     "output_type": "execute_result"
    }
   ],
   "source": [
    "m.shape"
   ]
  },
  {
   "cell_type": "code",
   "execution_count": null,
   "metadata": {},
   "outputs": [],
   "source": []
  },
  {
   "cell_type": "code",
   "execution_count": 13,
   "metadata": {},
   "outputs": [],
   "source": [
    "y0 = F.softmax(m, dim = 1)\n",
    "y = y0.contiguous()"
   ]
  },
  {
   "cell_type": "code",
   "execution_count": 14,
   "metadata": {},
   "outputs": [
    {
     "data": {
      "text/plain": [
       "torch.Size([10, 15988])"
      ]
     },
     "execution_count": 14,
     "metadata": {},
     "output_type": "execute_result"
    }
   ],
   "source": [
    "y0.shape"
   ]
  },
  {
   "cell_type": "code",
   "execution_count": 15,
   "metadata": {},
   "outputs": [
    {
     "data": {
      "text/plain": [
       "tensor([[ 0.2722, -0.1030,  0.1634,  ...,  0.4111, -0.0590,  0.6951],\n",
       "        [ 0.8588, -0.0797, -0.3172,  ...,  0.1290, -0.5026, -0.0826],\n",
       "        [ 0.8281, -0.3138, -0.0156,  ..., -0.3638,  0.2719, -0.1673],\n",
       "        ...,\n",
       "        [ 0.1607, -0.2021,  0.8523,  ...,  0.6332, -0.1159,  0.3610],\n",
       "        [-0.2438,  0.8928, -0.4202,  ...,  0.0213, -0.7175, -0.6887],\n",
       "        [ 1.0304,  0.1051,  0.8875,  ...,  0.2496,  0.6119,  0.3734]],\n",
       "       grad_fn=<AddmmBackward>)"
      ]
     },
     "execution_count": 15,
     "metadata": {},
     "output_type": "execute_result"
    }
   ],
   "source": [
    "m"
   ]
  },
  {
   "cell_type": "code",
   "execution_count": 18,
   "metadata": {},
   "outputs": [
    {
     "data": {
      "text/plain": [
       "torch.Size([10])"
      ]
     },
     "execution_count": 18,
     "metadata": {},
     "output_type": "execute_result"
    }
   ],
   "source": [
    "y0.sum(1).shape"
   ]
  },
  {
   "cell_type": "markdown",
   "metadata": {},
   "source": [
    "# Test Reconstruction"
   ]
  },
  {
   "cell_type": "code",
   "execution_count": 2,
   "metadata": {},
   "outputs": [],
   "source": [
    "#!/usr/bin/python\n",
    "import os\n",
    "import torch\n",
    "import torch.nn as nn\n",
    "import torch.nn.functional as F\n",
    "import torch.utils.data\n",
    "import torch.optim as optim\n",
    "\n",
    "import scipy\n",
    "from scipy.sparse import load_npz\n",
    "import numpy as np\n",
    "import pandas as pd\n",
    "\n",
    "\n",
    "class GenoVAE(nn.Module):\n",
    "\tdef __init__(self):\n",
    "\n",
    "\t\tsuper(GenoVAE, self).__init__()\n",
    "\n",
    "\t\t# self.conv_1 = nn.Conv1d(120, 9, kernel_size=9)\n",
    "\t\t# self.conv_2 = nn.Conv1d(9, 9, kernel_size=9)\n",
    "\t\t# self.conv_3 = nn.Conv1d(9, 10, kernel_size=11)\n",
    "\t\t# encoder\n",
    "\t\tself.linear_1 = nn.Linear(15988, 512)\n",
    "\t\tself.linear_2 = nn.Linear(512, 256)\n",
    "\t\tself.linear_3_mu = nn.Linear(256, 10)\n",
    "\t\tself.linear_3_std = nn.Linear(256, 10)\n",
    "\t\t\n",
    "\t\tself.bn1 = nn.BatchNorm1d(512)\n",
    "\t\tself.bn2 = nn.BatchNorm1d(256)\n",
    "\n",
    "\t\t# decoder\n",
    "\t\tself.linear_4 = nn.Linear(10, 256)\n",
    "\t\tself.linear_5 = nn.Linear(256, 512)\n",
    "\t\tself.linear_6 = nn.Linear(512, 15988)\n",
    "\n",
    "\t\tself.bn4 = nn.BatchNorm1d(256)\n",
    "\t\tself.bn5 = nn.BatchNorm1d(512)\n",
    "\t\t\n",
    "\t\t# activations\t\t\n",
    "\t\tself.relu = nn.ReLU()\n",
    "\t\tself.softmax = nn.Softmax()\n",
    "\t\tself.leaky = nn.LeakyReLU(negative_slope = 0.2)\n",
    "\t\tself.sigmoid = nn.Sigmoid()\n",
    "\n",
    "\t\tself.dropout1 = nn.Dropout(p = 0.2)\n",
    "\t\tself.dropout2 = nn.Dropout(p = 0.2)\n",
    "\t\tself.dropout3 = nn.Dropout(p = 0.2)\n",
    "\t\tself.dropout4 = nn.Dropout(p = 0.2)\n",
    "\n",
    "\t\t\n",
    "\tdef encode(self, x):\n",
    "\t\t# layer 1\n",
    "\t\tx = self.linear_1(x)\n",
    "\t\tx = self.bn1(x)\n",
    "\t\tx = self.leaky(x)\n",
    "\t\tx = self.dropout1(x)\n",
    "\n",
    "\t\t# layer 2\n",
    "\t\tx = self.linear_2(x)\n",
    "\t\tx = self.bn2(x)\n",
    "\t\tx = self.leaky(x)\n",
    "\t\tx = self.dropout2(x)\n",
    "\n",
    "\t\t# mean and std layers\n",
    "\t\treturn self.linear_3_mu(x), self.linear_3_std(x)\n",
    "\n",
    "\tdef sampling(self, z_mean, z_logvar):\n",
    "\t\tepsilon = 1e-2 * torch.randn_like(z_logvar)\n",
    "\t\treturn torch.exp(0.5 * z_logvar) * epsilon + z_mean\n",
    "\n",
    "\tdef decode(self, z):\n",
    "\t\tz = self.linear_4(z)\n",
    "\t\tz = self.bn4(z)\n",
    "\t\tz = self.leaky(z)\n",
    "\t\tz = self.dropout3(z)\n",
    "\t\t\n",
    "\t\tz = self.linear_5(z)\n",
    "\t\tz = self.bn5(z)\n",
    "\t\tz = self.leaky(z)\n",
    "\t\tz = self.dropout4(z)\n",
    "\t\t# z = z.view(z.size(0), 1, z.size(-1)).repeat(1, 120, 1)\n",
    "\t\t# output, hn = self.gru(z)\n",
    "\t\t# out_reshape = output.contiguous().view(-1, output.size(-1))\n",
    "\t\ty0 = self.sigmoid(self.linear_6(z))\n",
    "\t\ty = y0.contiguous()\n",
    "\t\treturn y\n",
    "\n",
    "\tdef forward(self, x):\n",
    "\t\tz_mean, z_logvar = self.encode(x)\n",
    "\t\tself.z = self.sampling(z_mean, z_logvar)\n",
    "\t\treturn self.decode(self.z), z_mean, z_logvar, self.z\n",
    "\n",
    "\n",
    "\n",
    "def vae_loss(x_decoded_mean, x, z_mean, z_logvar):\n",
    "\n",
    "\txent_loss = F.binary_cross_entropy(x_decoded_mean, x, size_average = True)\n",
    "\tkl_loss = -0.5 * torch.mean(torch.sum(1 + z_logvar - z_mean.pow(2) - z_logvar.exp(), 1))\n",
    "\treturn xent_loss + kl_loss\n"
   ]
  },
  {
   "cell_type": "code",
   "execution_count": 7,
   "metadata": {},
   "outputs": [
    {
     "name": "stderr",
     "output_type": "stream",
     "text": [
      "/home/hengshi/.local/lib/python3.6/site-packages/torch/cuda/__init__.py:52: UserWarning: CUDA initialization: Found no NVIDIA driver on your system. Please check that you have an NVIDIA GPU and installed a driver from http://www.nvidia.com/Download/index.aspx (Triggered internally at  /pytorch/c10/cuda/CUDAFunctions.cpp:100.)\n",
      "  return torch._C._cuda_getDeviceCount() > 0\n"
     ]
    },
    {
     "data": {
      "text/plain": [
       "GenoVAE(\n",
       "  (linear_1): Linear(in_features=15988, out_features=512, bias=True)\n",
       "  (linear_2): Linear(in_features=512, out_features=256, bias=True)\n",
       "  (linear_3_mu): Linear(in_features=256, out_features=10, bias=True)\n",
       "  (linear_3_std): Linear(in_features=256, out_features=10, bias=True)\n",
       "  (bn1): BatchNorm1d(512, eps=1e-05, momentum=0.1, affine=True, track_running_stats=True)\n",
       "  (bn2): BatchNorm1d(256, eps=1e-05, momentum=0.1, affine=True, track_running_stats=True)\n",
       "  (linear_4): Linear(in_features=10, out_features=256, bias=True)\n",
       "  (linear_5): Linear(in_features=256, out_features=512, bias=True)\n",
       "  (linear_6): Linear(in_features=512, out_features=15988, bias=True)\n",
       "  (bn4): BatchNorm1d(256, eps=1e-05, momentum=0.1, affine=True, track_running_stats=True)\n",
       "  (bn5): BatchNorm1d(512, eps=1e-05, momentum=0.1, affine=True, track_running_stats=True)\n",
       "  (relu): ReLU()\n",
       "  (softmax): Softmax(dim=None)\n",
       "  (leaky): LeakyReLU(negative_slope=0.2)\n",
       "  (sigmoid): Sigmoid()\n",
       "  (dropout1): Dropout(p=0.2, inplace=False)\n",
       "  (dropout2): Dropout(p=0.2, inplace=False)\n",
       "  (dropout3): Dropout(p=0.2, inplace=False)\n",
       "  (dropout4): Dropout(p=0.2, inplace=False)\n",
       ")"
      ]
     },
     "execution_count": 7,
     "metadata": {},
     "output_type": "execute_result"
    }
   ],
   "source": [
    "path_save = 'output' \n",
    "# data\n",
    "path_data = '/nfs/turbo/umms-welchjd/hengshi/GAN/data/Genotype/sparse_gene_anno_matrix.npz'\n",
    "data_npz = load_npz(path_data).toarray()\n",
    "\n",
    "random_state = np.random.RandomState(seed = 123)\n",
    "permutation = random_state.permutation(len(data_npz))\n",
    "n_train = int(len(data_npz) * 0.8)\n",
    "n_test = len(data_npz) - n_train\n",
    "batch_size = 256\n",
    "\n",
    "data_train, data_test = data_npz[permutation[:n_train]], data_npz[permutation[n_train:]]\n",
    "\n",
    "data_train = torch.utils.data.TensorDataset(torch.from_numpy(data_train))\n",
    "data_test = torch.utils.data.TensorDataset(torch.from_numpy(data_test))\n",
    "train_loader = torch.utils.data.DataLoader(data_train, batch_size = batch_size, shuffle = True)\n",
    "test_loader = torch.utils.data.DataLoader(data_test, batch_size = batch_size, shuffle = True)\n",
    "\n",
    "# model \n",
    "torch.manual_seed(42)\n",
    "\n",
    "epochs = 300\n",
    "device = 'cuda' if torch.cuda.is_available() else 'cpu'\n",
    "\n",
    "model = GenoVAE().to(device)\n",
    "model.load_state_dict(torch.load(\"output/model_params.pt\", map_location = device))\n",
    "model.eval()"
   ]
  },
  {
   "cell_type": "code",
   "execution_count": 11,
   "metadata": {},
   "outputs": [],
   "source": [
    "data_train, data_test = data_npz[permutation[:n_train]], data_npz[permutation[n_train:]]"
   ]
  },
  {
   "cell_type": "code",
   "execution_count": 35,
   "metadata": {},
   "outputs": [],
   "source": [
    "rec, _, _, _ = model(torch.tensor(data_train[[0]]).type(torch.float))"
   ]
  },
  {
   "cell_type": "code",
   "execution_count": 36,
   "metadata": {},
   "outputs": [
    {
     "data": {
      "text/plain": [
       "tensor([[9.7278e-04, 5.8370e-05, 6.0626e-06,  ..., 1.3260e-05, 4.9104e-06,\n",
       "         2.8806e-04]], grad_fn=<SigmoidBackward>)"
      ]
     },
     "execution_count": 36,
     "metadata": {},
     "output_type": "execute_result"
    }
   ],
   "source": [
    "rec"
   ]
  },
  {
   "cell_type": "code",
   "execution_count": 38,
   "metadata": {},
   "outputs": [
    {
     "data": {
      "text/plain": [
       "6"
      ]
     },
     "execution_count": 38,
     "metadata": {},
     "output_type": "execute_result"
    }
   ],
   "source": [
    "data_train[0].sum()"
   ]
  },
  {
   "cell_type": "code",
   "execution_count": 62,
   "metadata": {},
   "outputs": [
    {
     "data": {
      "text/plain": [
       "array([2068, 2183, 2688, 4588, 7442, 7718])"
      ]
     },
     "execution_count": 62,
     "metadata": {},
     "output_type": "execute_result"
    }
   ],
   "source": [
    "np.where(data_train[0] == 1)[0]"
   ]
  },
  {
   "cell_type": "code",
   "execution_count": 40,
   "metadata": {},
   "outputs": [
    {
     "data": {
      "text/plain": [
       "tensor(1)"
      ]
     },
     "execution_count": 40,
     "metadata": {},
     "output_type": "execute_result"
    }
   ],
   "source": [
    "(rec > 0.5).sum()"
   ]
  },
  {
   "cell_type": "code",
   "execution_count": 66,
   "metadata": {},
   "outputs": [
    {
     "data": {
      "text/plain": [
       "tensor([2068])"
      ]
     },
     "execution_count": 66,
     "metadata": {},
     "output_type": "execute_result"
    }
   ],
   "source": [
    "torch.where(rec[0] > 0.5)[0]"
   ]
  },
  {
   "cell_type": "code",
   "execution_count": 14,
   "metadata": {},
   "outputs": [
    {
     "data": {
      "text/plain": [
       "array([  318,   319,   320,   345,  1652,  1653,  2068,  2119,  2129,\n",
       "        2168,  2227,  2569,  2920,  3336,  3597,  4558,  4560,  4561,\n",
       "        4740,  4925,  6154,  6255,  6257,  6258,  6289,  6352,  7072,\n",
       "        8035,  8380,  8525,  9300,  9575, 10566, 12071, 12073, 13811,\n",
       "       14084, 14603, 14722, 14872, 15300])"
      ]
     },
     "execution_count": 14,
     "metadata": {},
     "output_type": "execute_result"
    }
   ],
   "source": [
    "a = torch.where(rec[0] > 0.5)[0].numpy()\n",
    "a"
   ]
  },
  {
   "cell_type": "code",
   "execution_count": 15,
   "metadata": {},
   "outputs": [
    {
     "data": {
      "text/plain": [
       "array([  318,   319,   320,   345,   402,  1652,  1653,  2068,  2119,\n",
       "        2120,  2129,  2168,  2188,  2189,  2227,  2569,  2915,  2920,\n",
       "        3115,  3336,  3597,  3800,  3850,  3887,  4065,  4480,  4560,\n",
       "        4561,  4593,  4597,  4724,  4925,  5531,  6152,  6154,  6255,\n",
       "        6257,  6258,  6352,  6543,  6750,  7072,  8035,  8350,  8380,\n",
       "        8525,  9076,  9180,  9196,  9300,  9525,  9575, 10384, 10519,\n",
       "       10566, 12071, 12073, 12170, 13811, 14084, 14603, 14722, 14872,\n",
       "       15300])"
      ]
     },
     "execution_count": 15,
     "metadata": {},
     "output_type": "execute_result"
    }
   ],
   "source": [
    "b = np.where(data_train[i] == 1)[0]\n",
    "b"
   ]
  },
  {
   "cell_type": "code",
   "execution_count": 16,
   "metadata": {},
   "outputs": [
    {
     "data": {
      "text/plain": [
       "'[  318   319   320   345   402  1652  1653  2068  2119  2120  2129  2168\\n  2188  2189  2227  2569  2915  2920  3115  3336  3597  3800  3850  3887\\n  4065  4480  4560  4561  4593  4597  4724  4925  5531  6152  6154  6255\\n  6257  6258  6352  6543  6750  7072  8035  8350  8380  8525  9076  9180\\n  9196  9300  9525  9575 10384 10519 10566 12071 12073 12170 13811 14084\\n 14603 14722 14872 15300]'"
      ]
     },
     "execution_count": 16,
     "metadata": {},
     "output_type": "execute_result"
    }
   ],
   "source": [
    "str(b)"
   ]
  },
  {
   "cell_type": "code",
   "execution_count": 21,
   "metadata": {},
   "outputs": [
    {
     "name": "stdout",
     "output_type": "stream",
     "text": [
      "18: Torch: tensor([ 2068,  2119,  2168,  2227, 12071, 12073, 15300])\n",
      "18: Real: [  318   319   320   345   402  1652  1653  2068  2119  2120  2129  2168\n",
      "  2188  2189  2227  2569  2915  2920  3115  3336  3597  3800  3850  3887\n",
      "  4065  4480  4560  4561  4593  4597  4724  4925  5531  6152  6154  6255\n",
      "  6257  6258  6352  6543  6750  7072  8035  8350  8380  8525  9076  9180\n",
      "  9196  9300  9525  9575 10384 10519 10566 12071 12073 12170 13811 14084\n",
      " 14603 14722 14872 15300]\n",
      "18: Intersection: [ 2068  2119  2168  2227 12071 12073 15300]\n"
     ]
    }
   ],
   "source": [
    "i = 18\n",
    "rec, _, _, _ = model(torch.tensor(data_train[[i]]).type(torch.float))\n",
    "print(str(i) + \": Torch: \" + str(torch.where(rec[0] > 0.5)[0]))\n",
    "print(str(i) + \": Real: \" + str(np.where(data_train[i] == 1)[0]) )\n",
    "print(str(i) + \": Intersection: \" + str(np.intersect1d(torch.where(rec[0] > 0.5)[0].numpy(), np.where(data_train[i] == 1)[0])))"
   ]
  },
  {
   "cell_type": "code",
   "execution_count": 19,
   "metadata": {},
   "outputs": [
    {
     "data": {
      "text/plain": [
       "array([2068, 2183, 2688, 4588, 7442, 7718])"
      ]
     },
     "execution_count": 19,
     "metadata": {},
     "output_type": "execute_result"
    }
   ],
   "source": [
    "np.where(data_train[0] == 1)[0]"
   ]
  },
  {
   "cell_type": "code",
   "execution_count": 20,
   "metadata": {},
   "outputs": [
    {
     "data": {
      "text/plain": [
       "array([  318,   319,   320,   345,   402,  1652,  1653,  2068,  2119,\n",
       "        2120,  2129,  2168,  2188,  2189,  2227,  2569,  2915,  2920,\n",
       "        3115,  3336,  3597,  3800,  3850,  3887,  4065,  4480,  4560,\n",
       "        4561,  4593,  4597,  4724,  4925,  5531,  6152,  6154,  6255,\n",
       "        6257,  6258,  6352,  6543,  6750,  7072,  8035,  8350,  8380,\n",
       "        8525,  9076,  9180,  9196,  9300,  9525,  9575, 10384, 10519,\n",
       "       10566, 12071, 12073, 12170, 13811, 14084, 14603, 14722, 14872,\n",
       "       15300])"
      ]
     },
     "execution_count": 20,
     "metadata": {},
     "output_type": "execute_result"
    }
   ],
   "source": [
    "b"
   ]
  },
  {
   "cell_type": "code",
   "execution_count": 23,
   "metadata": {},
   "outputs": [
    {
     "name": "stdout",
     "output_type": "stream",
     "text": [
      "0: Predicted: tensor([2068]); Real: [2068 2183 2688 4588 7442 7718]\n",
      "0: Intersection: [2068]\n",
      "1: Predicted: tensor([2068]); Real: [ 1902  1951  2068  2111  2119  2168  2266  2966  2973  4605  4725  5474\n",
      "  5476  6328  6530  6531  7999  9458 11750 12120]\n",
      "1: Intersection: [2068]\n",
      "2: Predicted: tensor([2068]); Real: [  75 2068 2227 2966]\n",
      "2: Intersection: [2068]\n",
      "3: Predicted: tensor([2068, 2266, 2267, 2983]); Real: [ 1825  2266  2267  2856  2868  2957  2983  2998  3696  4170  4661  5129\n",
      "  5223 10968]\n",
      "3: Intersection: [2266 2267 2983]\n",
      "4: Predicted: tensor([2068]); Real: [ 2068  4413  4605 10142 11082 11650 14869]\n",
      "4: Intersection: [2068]\n",
      "5: Predicted: tensor([2068]); Real: [ 644 2068 2198 2201 2227 2680 3263 4480 4656 5201 6282]\n",
      "5: Intersection: [2068]\n",
      "6: Predicted: tensor([2068]); Real: [2068 2292]\n",
      "6: Intersection: [2068]\n",
      "7: Predicted: tensor([2068]); Real: [ 2068  2168 13082]\n",
      "7: Intersection: [2068]\n",
      "8: Predicted: tensor([2068]); Real: [2212 3341 8538]\n",
      "8: Intersection: []\n",
      "9: Predicted: tensor([2068, 2227]); Real: [ 2068  2168  2227  4172  5572  6132 10611 12070]\n",
      "9: Intersection: [2068 2227]\n",
      "10: Predicted: tensor([2068, 2227]); Real: [ 1240  6869  8469 12065]\n",
      "10: Intersection: []\n",
      "11: Predicted: tensor([2068]); Real: [ 2068  2119  2129  2499  6095  7368  7865  9272 11701]\n",
      "11: Intersection: [2068]\n",
      "12: Predicted: tensor([2068]); Real: [2068]\n",
      "12: Intersection: [2068]\n",
      "13: Predicted: tensor([2068]); Real: [  130  2068  2189  2266  2822  4659 11577]\n",
      "13: Intersection: [2068]\n",
      "14: Predicted: tensor([ 1814,  2068,  2266,  2267,  2868,  2983,  2998,  4661,  5223, 10968]); Real: [ 1885  2068  2191  2266  2281  2868  2983  2998  3696  3719  4661  4662\n",
      "  5129  5223  5224  6130  8538 10968 11598 11725 14181]\n",
      "14: Intersection: [ 2068  2266  2868  2983  2998  4661  5223 10968]\n",
      "15: Predicted: tensor([2068]); Real: [1766 2068 2212 2227 4705]\n",
      "15: Intersection: [2068]\n",
      "16: Predicted: tensor([2068, 2119]); Real: [  247   311   313  2068  2499  9272 10021 15458]\n",
      "16: Intersection: [2068]\n",
      "17: Predicted: tensor([2068, 2119]); Real: [2068 2206 2208 2568 3263]\n",
      "17: Intersection: [2068]\n",
      "18: Predicted: tensor([  318,   319,   320,   345,  1652,  1653,  2068,  2119,  2129,  2168,\n",
      "         2227,  3336,  3597,  3800,  4558,  4560,  4740,  6154,  6255,  6257,\n",
      "         6258,  6289,  6352,  6551,  7072,  8035,  8380,  8525,  9300, 10566,\n",
      "        12071, 12073, 12875, 14084, 14124, 14603, 14722, 14872, 15300]); Real: [  318   319   320   345   402  1652  1653  2068  2119  2120  2129  2168\n",
      "  2188  2189  2227  2569  2915  2920  3115  3336  3597  3800  3850  3887\n",
      "  4065  4480  4560  4561  4593  4597  4724  4925  5531  6152  6154  6255\n",
      "  6257  6258  6352  6543  6750  7072  8035  8350  8380  8525  9076  9180\n",
      "  9196  9300  9525  9575 10384 10519 10566 12071 12073 12170 13811 14084\n",
      " 14603 14722 14872 15300]\n",
      "18: Intersection: [  318   319   320   345  1652  1653  2068  2119  2129  2168  2227  3336\n",
      "  3597  3800  4560  6154  6255  6257  6258  6352  7072  8035  8380  8525\n",
      "  9300 10566 12071 12073 14084 14603 14722 14872 15300]\n",
      "19: Predicted: tensor([2068]); Real: [2068 2119 2168 6146]\n",
      "19: Intersection: [2068]\n"
     ]
    }
   ],
   "source": [
    "for i in range(20):\n",
    "    rec, _, _, _ = model(torch.tensor(data_train[[i]]).type(torch.float))\n",
    "    print(str(i) + \": Predicted: \" + str(torch.where(rec[0] > 0.5)[0]) + \"; Real: \" + str(np.where(data_train[i] == 1)[0]) )\n",
    "    print(str(i) + \": Intersection: \" + str(np.intersect1d(torch.where(rec[0] > 0.5)[0].numpy(), np.where(data_train[i] == 1)[0])))"
   ]
  },
  {
   "cell_type": "code",
   "execution_count": 10,
   "metadata": {},
   "outputs": [
    {
     "ename": "ValueError",
     "evalue": "only one element tensors can be converted to Python scalars",
     "output_type": "error",
     "traceback": [
      "\u001b[0;31m---------------------------------------------------------------------------\u001b[0m",
      "\u001b[0;31mValueError\u001b[0m                                Traceback (most recent call last)",
      "\u001b[0;32m<ipython-input-10-652469325e64>\u001b[0m in \u001b[0;36m<module>\u001b[0;34m()\u001b[0m\n\u001b[0;32m----> 1\u001b[0;31m \u001b[0mmodel\u001b[0m\u001b[0;34m(\u001b[0m\u001b[0mtorch\u001b[0m\u001b[0;34m.\u001b[0m\u001b[0mtensor\u001b[0m\u001b[0;34m(\u001b[0m\u001b[0mdata_train\u001b[0m\u001b[0;34m[\u001b[0m\u001b[0;34m[\u001b[0m\u001b[0mi\u001b[0m\u001b[0;34m]\u001b[0m\u001b[0;34m]\u001b[0m\u001b[0;34m)\u001b[0m\u001b[0;34m)\u001b[0m\u001b[0;34m\u001b[0m\u001b[0m\n\u001b[0m",
      "\u001b[0;31mValueError\u001b[0m: only one element tensors can be converted to Python scalars"
     ]
    }
   ],
   "source": [
    "model(torch.tensor(data_train[[i]])"
   ]
  },
  {
   "cell_type": "code",
   "execution_count": 71,
   "metadata": {},
   "outputs": [
    {
     "data": {
      "text/plain": [
       "(9856, 15065)"
      ]
     },
     "execution_count": 71,
     "metadata": {},
     "output_type": "execute_result"
    }
   ],
   "source": [
    "data_train[:, 2068].sum(), len(data_train)"
   ]
  },
  {
   "cell_type": "code",
   "execution_count": 79,
   "metadata": {},
   "outputs": [
    {
     "data": {
      "text/plain": [
       "(tensor([2068, 2092, 2117]),)"
      ]
     },
     "execution_count": 79,
     "metadata": {},
     "output_type": "execute_result"
    }
   ],
   "source": [
    "i = 3\n",
    "rec, _, _, _ = model(torch.tensor(data_train[[i]]).type(torch.float))\n",
    "torch.where(rec[0] > 0.5)"
   ]
  },
  {
   "cell_type": "code",
   "execution_count": 82,
   "metadata": {},
   "outputs": [
    {
     "data": {
      "text/plain": [
       "array([2068, 2092, 2117])"
      ]
     },
     "execution_count": 82,
     "metadata": {},
     "output_type": "execute_result"
    }
   ],
   "source": [
    "torch.where(rec[0] > 0.5)[0].numpy()"
   ]
  },
  {
   "cell_type": "code",
   "execution_count": 73,
   "metadata": {},
   "outputs": [
    {
     "data": {
      "text/plain": [
       "array([2068, 2183, 2688, 4588, 7442, 7718])"
      ]
     },
     "execution_count": 73,
     "metadata": {},
     "output_type": "execute_result"
    }
   ],
   "source": [
    "np.where(data_train[0] == 1)[0]"
   ]
  },
  {
   "cell_type": "code",
   "execution_count": 84,
   "metadata": {},
   "outputs": [
    {
     "data": {
      "text/plain": [
       "array([], dtype=int64)"
      ]
     },
     "execution_count": 84,
     "metadata": {},
     "output_type": "execute_result"
    }
   ],
   "source": [
    "np.intersect1d(torch.where(rec[0] > 0.5)[0].numpy(), np.where(data_train[i] == 1)[0])"
   ]
  },
  {
   "cell_type": "code",
   "execution_count": 85,
   "metadata": {},
   "outputs": [
    {
     "data": {
      "text/plain": [
       "array([2068, 2092, 2117])"
      ]
     },
     "execution_count": 85,
     "metadata": {},
     "output_type": "execute_result"
    }
   ],
   "source": [
    "torch.where(rec[0] > 0.5)[0].numpy()"
   ]
  },
  {
   "cell_type": "code",
   "execution_count": 86,
   "metadata": {},
   "outputs": [
    {
     "data": {
      "text/plain": [
       "array([ 1825,  2266,  2267,  2856,  2868,  2957,  2983,  2998,  3696,\n",
       "        4170,  4661,  5129,  5223, 10968])"
      ]
     },
     "execution_count": 86,
     "metadata": {},
     "output_type": "execute_result"
    }
   ],
   "source": [
    "np.where(data_train[i] == 1)[0]"
   ]
  },
  {
   "cell_type": "code",
   "execution_count": 16,
   "metadata": {},
   "outputs": [],
   "source": [
    "rnn = nn.GRU(10, 20, 1)\n",
    "input = torch.randn(1, 3, 10)\n",
    "h0 = torch.randn(1, 3, 20)\n",
    "output, hn = rnn(input, h0)"
   ]
  },
  {
   "cell_type": "code",
   "execution_count": 17,
   "metadata": {},
   "outputs": [
    {
     "data": {
      "text/plain": [
       "torch.Size([1, 3, 20])"
      ]
     },
     "execution_count": 17,
     "metadata": {},
     "output_type": "execute_result"
    }
   ],
   "source": [
    "output.shape"
   ]
  },
  {
   "cell_type": "code",
   "execution_count": 18,
   "metadata": {},
   "outputs": [
    {
     "data": {
      "text/plain": [
       "torch.Size([1, 3, 20])"
      ]
     },
     "execution_count": 18,
     "metadata": {},
     "output_type": "execute_result"
    }
   ],
   "source": [
    "hn.shape"
   ]
  },
  {
   "cell_type": "code",
   "execution_count": 22,
   "metadata": {},
   "outputs": [
    {
     "data": {
      "text/plain": [
       "tensor([[[ 0.3075,  0.3051,  0.0307,  0.1352,  0.3912, -0.3204, -0.0410,\n",
       "          -0.2959,  0.6678, -0.1692, -1.1184,  0.1656, -0.1067, -0.3443,\n",
       "          -0.0686,  0.2211,  0.1843, -0.7126, -0.0497,  1.0142],\n",
       "         [ 0.3682, -0.0831,  0.1166, -1.0223,  0.5407, -0.1946, -0.9581,\n",
       "          -0.2027,  0.2021,  0.7781, -0.1839,  0.2735, -0.2423,  1.4388,\n",
       "          -0.0920, -0.0904,  0.1910, -0.2009,  0.2350,  0.1569],\n",
       "         [-0.8357,  0.5001, -0.4664,  0.4067, -0.1310,  0.1328, -0.5754,\n",
       "          -0.1628,  0.5168,  0.1897,  0.8773,  0.0655, -1.0737, -0.0261,\n",
       "           0.4115, -0.3565, -0.2563, -1.5089, -0.0828,  0.4478]]],\n",
       "       grad_fn=<StackBackward>)"
      ]
     },
     "execution_count": 22,
     "metadata": {},
     "output_type": "execute_result"
    }
   ],
   "source": [
    "output "
   ]
  },
  {
   "cell_type": "code",
   "execution_count": 20,
   "metadata": {},
   "outputs": [
    {
     "data": {
      "text/plain": [
       "tensor([[[ 0.3075,  0.3051,  0.0307,  0.1352,  0.3912, -0.3204, -0.0410,\n",
       "          -0.2959,  0.6678, -0.1692, -1.1184,  0.1656, -0.1067, -0.3443,\n",
       "          -0.0686,  0.2211,  0.1843, -0.7126, -0.0497,  1.0142],\n",
       "         [ 0.3682, -0.0831,  0.1166, -1.0223,  0.5407, -0.1946, -0.9581,\n",
       "          -0.2027,  0.2021,  0.7781, -0.1839,  0.2735, -0.2423,  1.4388,\n",
       "          -0.0920, -0.0904,  0.1910, -0.2009,  0.2350,  0.1569],\n",
       "         [-0.8357,  0.5001, -0.4664,  0.4067, -0.1310,  0.1328, -0.5754,\n",
       "          -0.1628,  0.5168,  0.1897,  0.8773,  0.0655, -1.0737, -0.0261,\n",
       "           0.4115, -0.3565, -0.2563, -1.5089, -0.0828,  0.4478]]],\n",
       "       grad_fn=<StackBackward>)"
      ]
     },
     "execution_count": 20,
     "metadata": {},
     "output_type": "execute_result"
    }
   ],
   "source": [
    "hn"
   ]
  },
  {
   "cell_type": "code",
   "execution_count": 9,
   "metadata": {},
   "outputs": [
    {
     "data": {
      "text/plain": [
       "torch.Size([5, 3, 10])"
      ]
     },
     "execution_count": 9,
     "metadata": {},
     "output_type": "execute_result"
    }
   ],
   "source": [
    "input.shape"
   ]
  },
  {
   "cell_type": "code",
   "execution_count": 10,
   "metadata": {},
   "outputs": [
    {
     "data": {
      "text/plain": [
       "torch.Size([5, 3, 20])"
      ]
     },
     "execution_count": 10,
     "metadata": {},
     "output_type": "execute_result"
    }
   ],
   "source": [
    "output.shape"
   ]
  },
  {
   "cell_type": "code",
   "execution_count": 11,
   "metadata": {},
   "outputs": [
    {
     "data": {
      "text/plain": [
       "GRU(10, 20, num_layers=2)"
      ]
     },
     "execution_count": 11,
     "metadata": {},
     "output_type": "execute_result"
    }
   ],
   "source": [
    "rnn"
   ]
  },
  {
   "cell_type": "code",
   "execution_count": 1,
   "metadata": {},
   "outputs": [],
   "source": [
    "import torch\n",
    "import torch.nn as nn\n",
    "import torch.nn.functional as F\n",
    "import torch.utils.data\n",
    "import pandas as pd\n",
    "import numpy as np\n",
    "import os\n",
    "import torch.optim as optim"
   ]
  },
  {
   "cell_type": "code",
   "execution_count": 2,
   "metadata": {},
   "outputs": [],
   "source": [
    "n_char =35; z_dim = 196; n_conv = int(8 * 1.15875438383); k_conv = int(8 * 1.1758149644)\n",
    "n_conv2 = int(8 * 1.15875438383 ** 2); k_conv2 = int(8 * 1.1758149644 ** 2); prob_drop = 0.082832929704794792 \n",
    "max_len = 120\n",
    "\n",
    "conv_1 = nn.Conv1d(in_channels = max_len, \n",
    "                        out_channels = n_conv, \n",
    "                        kernel_size = k_conv)\n",
    "\n",
    "conv_2 = nn.Conv1d(in_channels = n_conv, \n",
    "                        out_channels = n_conv, \n",
    "                        kernel_size = k_conv) \n",
    "\n",
    "conv_3 = nn.Conv1d(in_channels = n_conv, \n",
    "                        out_channels = n_conv2, \n",
    "                        kernel_size = k_conv2) \n",
    "\n",
    "\n",
    "bnConv1 = nn.BatchNorm1d(n_conv)\n",
    "bnConv2 = nn.BatchNorm1d(n_conv)\n",
    "bnConv3 = nn.BatchNorm1d(n_conv2)\n",
    "\n",
    "\n",
    "linear_0 = nn.Linear(90, z_dim)\n",
    "linear_1 = nn.Linear(z_dim, z_dim)\n",
    "linear_2 = nn.Linear(z_dim, z_dim)\n",
    "\n",
    "dropout1 = nn.Dropout(p = prob_drop)\n",
    "bn1 = nn.BatchNorm1d(z_dim)\n",
    "\n",
    "dropout2 = nn.Dropout(p = prob_drop)\n",
    "bn2 = nn.BatchNorm1d(z_dim)\n",
    "\n",
    "\n",
    "linear_3 = nn.Linear(z_dim, z_dim)\n",
    "gru = nn.GRU(input_size = z_dim, \n",
    "                  hidden_size = 488, \n",
    "                  num_layers = 3, \n",
    "                  batch_first = True)\n",
    "linear_4 = nn.Linear(488, n_char)\n",
    "\n",
    "relu = nn.ReLU()\n",
    "softmax = nn.Softmax()\n",
    "tanh = nn.Tanh()\n",
    "max_len = max_len\n",
    "\n"
   ]
  },
  {
   "cell_type": "code",
   "execution_count": 5,
   "metadata": {},
   "outputs": [
    {
     "data": {
      "text/plain": [
       "torch.Size([10, 120, 488])"
      ]
     },
     "execution_count": 5,
     "metadata": {},
     "output_type": "execute_result"
    }
   ],
   "source": [
    "output.size()"
   ]
  },
  {
   "cell_type": "code",
   "execution_count": 6,
   "metadata": {},
   "outputs": [],
   "source": [
    "z = torch.rand(10, 196)"
   ]
  },
  {
   "cell_type": "code",
   "execution_count": 7,
   "metadata": {},
   "outputs": [],
   "source": [
    "from torch.autograd import Variable"
   ]
  },
  {
   "cell_type": "code",
   "execution_count": null,
   "metadata": {},
   "outputs": [],
   "source": []
  },
  {
   "cell_type": "code",
   "execution_count": 4,
   "metadata": {},
   "outputs": [],
   "source": [
    "z = tanh(linear_3(z))\n",
    "z =dropout2(z)\n",
    "z = bn2(z)\n",
    "\n",
    "z = z.view(z.size(0), 1, z.size(-1)).repeat(1, max_len, 1)\n",
    "output, hn = gru(z)\n"
   ]
  },
  {
   "cell_type": "code",
   "execution_count": null,
   "metadata": {},
   "outputs": [],
   "source": []
  },
  {
   "cell_type": "code",
   "execution_count": null,
   "metadata": {},
   "outputs": [],
   "source": []
  },
  {
   "cell_type": "code",
   "execution_count": 67,
   "metadata": {},
   "outputs": [],
   "source": [
    "class GRUModel(nn.Module):\n",
    "\n",
    "\tdef __init__(self, input_dim, hidden_dim, bias = True):\n",
    "\n",
    "\t\tsuper(GRUModel, self).__init__()\n",
    "\t\t# Hidden dimensions\n",
    "\t\tself.hidden_dim = hidden_dim\n",
    "\t\t# Number of hidden layers\n",
    "\t\tself.gru_cell = GRUCell(input_dim, hidden_dim)\n",
    "\n",
    "\n",
    "\n",
    "\tdef forward(self, x):\n",
    "\t\t\n",
    "\t\t# Initialize hidden state with zeros\n",
    "\t\t#######################\n",
    "\t\t#  USE GPU FOR MODEL  #\n",
    "\t\t#######################\n",
    "\t\t#print(x.shape,\"x.shape\")100, 28, 28\n",
    "\t\th0 = Variable(torch.zeros(1, x.size(0), self.hidden_dim))\n",
    "\t\t\n",
    "\t   \n",
    "\t\touts = torch.zeros((x.size(0), x.size(1), self.hidden_dim))\n",
    "\t\t\n",
    "\t\thn = h0[0,:,:]\n",
    "\t\t\n",
    "\t\tfor seq in range(x.size(1)):\n",
    "\t\t\thn = self.gru_cell(x[:, seq, :], hn) \n",
    "\t\t\touts[:, seq, :] = hn\n",
    "\t\t\t\n",
    "\t\t# out.size() --> 100, 10\n",
    "\t\treturn outs, hn"
   ]
  },
  {
   "cell_type": "code",
   "execution_count": 29,
   "metadata": {},
   "outputs": [],
   "source": [
    "from torch.autograd import Variable\n",
    "\n",
    "class GRUCell(nn.Module):\n",
    "\t\"\"\"\n",
    "\tAn implementation of GRUCell.\n",
    "\t\"\"\"\n",
    "\tdef __init__(self, input_size, hidden_size, bias = True):\n",
    "\t\tsuper(GRUCell, self).__init__()\n",
    "\t\tself.input_size = input_size\n",
    "\t\tself.hidden_size = hidden_size\n",
    "\t\tself.bias = bias\n",
    "\t\tself.x2h = nn.Linear(input_size, 3 * hidden_size, bias=bias)\n",
    "\t\tself.h2h = nn.Linear(hidden_size, 3 * hidden_size, bias=bias)\n",
    "\t\tself.reset_parameters()\n",
    "\n",
    "\tdef reset_parameters(self):\n",
    "\t\tstd = 1.0 / math.sqrt(self.hidden_size)\n",
    "\t\tfor w in self.parameters():\n",
    "\t\t\tw.data.uniform_(-std, std)\n",
    "\t\n",
    "\tdef forward(self, x, hidden):\n",
    "\t\t\n",
    "\t\tx = x.view(-1, x.size(1))\n",
    "\t\t\n",
    "\t\tgate_x = self.x2h(x) \n",
    "\t\tgate_h = self.h2h(hidden)\n",
    "\t\t\n",
    "\t\tgate_x = gate_x.squeeze()\n",
    "\t\tgate_h = gate_h.squeeze()\n",
    "\t\t\n",
    "\t\ti_r, i_i, i_n = gate_x.chunk(3, 1)\n",
    "\t\th_r, h_i, h_n = gate_h.chunk(3, 1)\n",
    "\t\t\n",
    "\t\t\n",
    "\t\tresetgate = F.sigmoid(i_r + h_r)\n",
    "\t\tinputgate = F.sigmoid(i_i + h_i)\n",
    "\t\tnewgate = F.tanh(i_n + (resetgate * h_n))\n",
    "\t\t\n",
    "\t\thy = newgate + inputgate * (hidden - newgate)\n",
    "\t\t\n",
    "\t\treturn hy\n"
   ]
  },
  {
   "cell_type": "code",
   "execution_count": 68,
   "metadata": {},
   "outputs": [],
   "source": [
    "a = GRUModel(input_dim = 488, hidden_dim = 488)"
   ]
  },
  {
   "cell_type": "code",
   "execution_count": 11,
   "metadata": {},
   "outputs": [],
   "source": [
    "\n",
    "class TeacherForceGRUCell(nn.Module):\n",
    "\t\"\"\"\n",
    "\tAn implementation of GRUCell.\n",
    "\t\"\"\"\n",
    "\tdef __init__(self, input_size, hidden_size, output_size, bias = True):\n",
    "\t\tsuper(TeacherForceGRUCell, self).__init__()\n",
    "\t\tself.input_size = input_size\n",
    "\t\tself.hidden_size = hidden_size\n",
    "\t\tself.bias = bias\n",
    "\t\tself.x2h = nn.Linear(input_size, 3 * hidden_size, bias = bias)\n",
    "\t\tself.h2h = nn.Linear(hidden_size, 3 * hidden_size, bias = bias)\n",
    "\t\tself.y2n = nn.Linear(output_size, hidden_size, bias = bias)\n",
    "\t\tself.reset_parameters()\n",
    "\n",
    "\tdef reset_parameters(self):\n",
    "\t\tstd = 1.0 / math.sqrt(self.hidden_size)\n",
    "\t\tfor w in self.parameters():\n",
    "\t\t\tw.data.uniform_(-std, std)\n",
    "\t\n",
    "\tdef forward(self, x, hidden, y):\n",
    "\t\t\n",
    "\t\tx = x.view(-1, x.size(1))\n",
    "\t\t\n",
    "\t\tgate_x = self.x2h(x) \n",
    "\t\tgate_h = self.h2h(hidden)\n",
    "\t\tgate_y = self.y2n(y)\n",
    "\t\t\n",
    "\t\tgate_x = gate_x.squeeze()\n",
    "\t\tgate_h = gate_h.squeeze()\n",
    "\t\ty_n = gate_y.squeeze()\n",
    "\t\t\n",
    "\t\ti_r, i_i, i_n = gate_x.chunk(3, 1)\n",
    "\t\th_r, h_i, h_n = gate_h.chunk(3, 1)\n",
    "\t\t\n",
    "\t\t\n",
    "\t\tresetgate = F.sigmoid(i_r + h_r)\n",
    "\t\tinputgate = F.sigmoid(i_i + h_i)\n",
    "\t\tnewgate = F.tanh(i_n + (resetgate * h_n) + (resetgate * y_n))\n",
    "\t\t\n",
    "\t\thy = newgate + inputgate * (hidden - newgate)\n",
    "\t\t\n",
    "\t\treturn hy\n",
    "\n",
    "\n",
    "\n",
    "class TeacherForceGRUModel(nn.Module):\n",
    "\n",
    "\tdef __init__(self, input_dim, hidden_dim, output_dim, bias = True):\n",
    "\n",
    "\t\tsuper(TeacherForceGRUModel, self).__init__()\n",
    "\t\t# Hidden dimensions\n",
    "\t\tself.hidden_dim = hidden_dim\n",
    "\t\t# Number of hidden layers\n",
    "\t\tself.tgru_cell = TeacherForceGRUCell(input_dim, hidden_dim, output_dim)\n",
    "\n",
    "\n",
    "\n",
    "\tdef forward(self, x, y):\n",
    "\t\t\n",
    "\t\t# Initialize hidden state with zeros\n",
    "\t\t#######################\n",
    "\t\t#  USE GPU FOR MODEL  #\n",
    "\t\t#######################\n",
    "\t\t#print(x.shape,\"x.shape\")100, 28, 28\n",
    "\t\th0 = Variable(torch.zeros(1, x.size(0), self.hidden_dim))\n",
    "\t\ty0 = Variable(torch.zeros(y.size(0), y.size(2)))\n",
    "\t\t\n",
    "\t   \n",
    "\t\touts = torch.zeros((x.size(0), x.size(1), self.hidden_dim))\n",
    "\t\t\n",
    "\t\thn = h0[0,:,:]\n",
    "\t\t\n",
    "\t\tfor seq in range(x.size(1)):\n",
    "\t\t\tif seq == 0:\n",
    "\t\t\t\thn = self.tgru_cell(x[:, seq, :], hn, y0)\n",
    "\t\t\telse: \n",
    "\t\t\t\thn = self.tgru_cell(x[:, seq, :], hn, y[:, seq - 1, :]) \n",
    "\t\t\touts[:, seq, :] = hn\n",
    "\t\t\t\n",
    "\t\t# out.size() --> 100, 10\n",
    "\t\treturn outs, hn"
   ]
  },
  {
   "cell_type": "code",
   "execution_count": 17,
   "metadata": {},
   "outputs": [],
   "source": [
    "gru = TeacherForceGRUModel(488, 488, 35)"
   ]
  },
  {
   "cell_type": "code",
   "execution_count": 18,
   "metadata": {},
   "outputs": [
    {
     "name": "stderr",
     "output_type": "stream",
     "text": [
      "/home/hengshi/.local/lib/python3.6/site-packages/torch/nn/functional.py:1639: UserWarning: nn.functional.sigmoid is deprecated. Use torch.sigmoid instead.\n",
      "  warnings.warn(\"nn.functional.sigmoid is deprecated. Use torch.sigmoid instead.\")\n",
      "/home/hengshi/.local/lib/python3.6/site-packages/torch/nn/functional.py:1628: UserWarning: nn.functional.tanh is deprecated. Use torch.tanh instead.\n",
      "  warnings.warn(\"nn.functional.tanh is deprecated. Use torch.tanh instead.\")\n"
     ]
    }
   ],
   "source": [
    "b = gru(x, y)"
   ]
  },
  {
   "cell_type": "code",
   "execution_count": 16,
   "metadata": {},
   "outputs": [],
   "source": [
    "y = torch.rand(10, 120, 35)"
   ]
  },
  {
   "cell_type": "code",
   "execution_count": 21,
   "metadata": {},
   "outputs": [],
   "source": [
    "output = b[0]"
   ]
  },
  {
   "cell_type": "code",
   "execution_count": 23,
   "metadata": {},
   "outputs": [
    {
     "data": {
      "text/plain": [
       "torch.Size([10, 120, 488])"
      ]
     },
     "execution_count": 23,
     "metadata": {},
     "output_type": "execute_result"
    }
   ],
   "source": [
    "output.shape"
   ]
  },
  {
   "cell_type": "code",
   "execution_count": 24,
   "metadata": {},
   "outputs": [],
   "source": [
    "class ChemicalVAE(nn.Module):\n",
    "\tdef __init__(self, n_char, term_gru, z_dim = 196, hidden_size = 488, n_conv = int(8 * 1.15875438383), k_conv = int(8 * 1.1758149644), \n",
    "\t\t\t\t n_conv2 = int(8 * 1.15875438383 ** 2), k_conv2 = int(8 * 1.1758149644 ** 2), prob_drop = 0.082832929704794792, \n",
    "\t\t\t\t max_len = 120):\n",
    "\n",
    "\t\tsuper(ChemicalVAE, self).__init__()\n",
    "\n",
    "\n",
    "\t\tself.term_gru = term_gru\n",
    "\n",
    "\t\tself.conv_1 = nn.Conv1d(in_channels = max_len, \n",
    "\t\t\t\t\t\t\t\tout_channels = n_conv, \n",
    "\t\t\t\t\t\t\t\tkernel_size = k_conv)\n",
    "\n",
    "\t\tself.conv_2 = nn.Conv1d(in_channels = n_conv, \n",
    "\t\t\t\t\t\t\t\tout_channels = n_conv, \n",
    "\t\t\t\t\t\t\t\tkernel_size = k_conv) \n",
    "\n",
    "\t\tself.conv_3 = nn.Conv1d(in_channels = n_conv, \n",
    "\t\t\t\t\t\t\t\tout_channels = n_conv2, \n",
    "\t\t\t\t\t\t\t\tkernel_size = k_conv2) \n",
    "\n",
    "\n",
    "\t\tself.bnConv1 = nn.BatchNorm1d(n_conv)\n",
    "\t\tself.bnConv2 = nn.BatchNorm1d(n_conv)\n",
    "\t\tself.bnConv3 = nn.BatchNorm1d(n_conv2)\n",
    "\t\t\n",
    "\t\t\n",
    "\t\tself.linear_0 = nn.Linear(90, z_dim)\n",
    "\t\tself.linear_1 = nn.Linear(z_dim, z_dim)\n",
    "\t\tself.linear_2 = nn.Linear(z_dim, z_dim)\n",
    "\n",
    "\t\tself.dropout1 = nn.Dropout(p = prob_drop)\n",
    "\t\tself.bn1 = nn.BatchNorm1d(z_dim)\n",
    "\n",
    "\t\tself.dropout2 = nn.Dropout(p = prob_drop)\n",
    "\t\tself.bn2 = nn.BatchNorm1d(z_dim)\n",
    "\n",
    "\n",
    "\t\tself.linear_3 = nn.Linear(z_dim, z_dim)\n",
    "\t\tself.gru = nn.GRU(input_size = z_dim, \n",
    "\t\t\t\t\t\t  hidden_size = hidden_size, \n",
    "\t\t\t\t\t\t  num_layers = 3, \n",
    "\t\t\t\t\t\t  batch_first = True)\n",
    "\t\tself.linear_4 = nn.Linear(hidden_size, n_char)\n",
    "\t\t\n",
    "\t\tself.relu = nn.ReLU()\n",
    "\t\tself.softmax = nn.Softmax()\n",
    "\t\tself.tanh = nn.Tanh()\n",
    "\t\tself.max_len = max_len\n",
    "\n",
    "\tdef encode(self, x):\n",
    "\t\tx = self.tanh(self.conv_1(x))\n",
    "\t\tx = self.bnConv1(x)\n",
    "\n",
    "\t\tx = self.tanh(self.conv_2(x))\n",
    "\t\tx = self.bnConv2(x)\n",
    "\n",
    "\t\tx = self.tanh(self.conv_3(x))\n",
    "\t\tx = self.bnConv3(x)\n",
    "\n",
    "\t\tx = x.view(x.size(0), -1)\n",
    "\t\tx = self.tanh(self.linear_0(x))\n",
    "\t\tx = self.dropout1(x)\n",
    "\t\tx = self.bn1(x)\n",
    "\n",
    "\t\treturn self.linear_1(x), self.linear_2(x)\n",
    "\n",
    "\tdef sampling(self, z_mean, z_logvar):\n",
    "\t\tepsilon =  torch.randn_like(z_logvar)\n",
    "\t\treturn torch.exp(0.5 * z_logvar) * epsilon + z_mean\n",
    "\n",
    "\tdef decode(self, z, y):\n",
    "\t\tz = self.tanh(self.linear_3(z))\n",
    "\t\tz = self.dropout2(z)\n",
    "\t\tz = self.bn2(z)\n",
    "\n",
    "\t\tz = z.view(z.size(0), 1, z.size(-1)).repeat(1, self.max_len, 1)\n",
    "\t\toutput, hn = self.gru(z)\n",
    "\t\t#output = self.tanh(output)\n",
    "\t\toutput, hn = self.term_gru(output, y)\n",
    "\n",
    "\t\tout_reshape = output.contiguous().view(-1, output.size(-1))\n",
    "\t\ty0 = F.softmax(self.linear_4(out_reshape), dim = 1)\n",
    "\t\ty = y0.contiguous().view(output.size(0), -1, y0.size(-1))\n",
    "\t\treturn y\n",
    "\n",
    "\tdef forward(self, x):\n",
    "\t\tz_mean, z_logvar = self.encode(x)\n",
    "\t\tself.z = self.sampling(z_mean, z_logvar)\n",
    "\t\treturn self.decode(self.z, x), z_mean, z_logvar, self.z\n",
    "\n"
   ]
  },
  {
   "cell_type": "code",
   "execution_count": 25,
   "metadata": {},
   "outputs": [],
   "source": [
    "term_gru = TeacherForceGRUModel(488, 488, 35)\n",
    "model = ChemicalVAE(n_char = 35, term_gru = term_gru, max_len = 120)"
   ]
  },
  {
   "cell_type": "code",
   "execution_count": 26,
   "metadata": {},
   "outputs": [],
   "source": [
    "x = torch.rand(10, 120, 35)"
   ]
  },
  {
   "cell_type": "code",
   "execution_count": 29,
   "metadata": {},
   "outputs": [
    {
     "name": "stderr",
     "output_type": "stream",
     "text": [
      "/home/hengshi/.local/lib/python3.6/site-packages/torch/nn/functional.py:1639: UserWarning: nn.functional.sigmoid is deprecated. Use torch.sigmoid instead.\n",
      "  warnings.warn(\"nn.functional.sigmoid is deprecated. Use torch.sigmoid instead.\")\n",
      "/home/hengshi/.local/lib/python3.6/site-packages/torch/nn/functional.py:1628: UserWarning: nn.functional.tanh is deprecated. Use torch.tanh instead.\n",
      "  warnings.warn(\"nn.functional.tanh is deprecated. Use torch.tanh instead.\")\n"
     ]
    }
   ],
   "source": [
    "a, b, c, d = model(x)"
   ]
  },
  {
   "cell_type": "code",
   "execution_count": 31,
   "metadata": {},
   "outputs": [
    {
     "data": {
      "text/plain": [
       "torch.Size([10, 120, 35])"
      ]
     },
     "execution_count": 31,
     "metadata": {},
     "output_type": "execute_result"
    }
   ],
   "source": [
    "a.size()"
   ]
  },
  {
   "cell_type": "code",
   "execution_count": 9,
   "metadata": {},
   "outputs": [],
   "source": [
    "import math\n"
   ]
  },
  {
   "cell_type": "code",
   "execution_count": 37,
   "metadata": {},
   "outputs": [],
   "source": [
    "gru_cell = GRUCell(488, 488)"
   ]
  },
  {
   "cell_type": "code",
   "execution_count": 38,
   "metadata": {},
   "outputs": [
    {
     "data": {
      "text/plain": [
       "True"
      ]
     },
     "execution_count": 38,
     "metadata": {},
     "output_type": "execute_result"
    }
   ],
   "source": [
    "gru_cell.bias"
   ]
  },
  {
   "cell_type": "code",
   "execution_count": 13,
   "metadata": {},
   "outputs": [],
   "source": [
    "x = output"
   ]
  },
  {
   "cell_type": "code",
   "execution_count": 63,
   "metadata": {},
   "outputs": [
    {
     "name": "stderr",
     "output_type": "stream",
     "text": [
      "/home/hengshi/.local/lib/python3.6/site-packages/torch/nn/functional.py:1639: UserWarning: nn.functional.sigmoid is deprecated. Use torch.sigmoid instead.\n",
      "  warnings.warn(\"nn.functional.sigmoid is deprecated. Use torch.sigmoid instead.\")\n",
      "/home/hengshi/.local/lib/python3.6/site-packages/torch/nn/functional.py:1628: UserWarning: nn.functional.tanh is deprecated. Use torch.tanh instead.\n",
      "  warnings.warn(\"nn.functional.tanh is deprecated. Use torch.tanh instead.\")\n"
     ]
    }
   ],
   "source": [
    "h0 = Variable(torch.zeros(1, x.size(0), 488))\n",
    "\n",
    "\n",
    "outs = torch.zeros((x.size(0), x.size(1), 488))\n",
    "\n",
    "hn = h0[0,:, :]\n",
    "\n",
    "for seq in range(x.size(1)):\n",
    "    hn = gru_cell(x[:, seq, :], hn) \n",
    "    outs[:, seq, :] = hn\n"
   ]
  },
  {
   "cell_type": "code",
   "execution_count": 66,
   "metadata": {},
   "outputs": [
    {
     "data": {
      "text/plain": [
       "torch.Size([10, 488])"
      ]
     },
     "execution_count": 66,
     "metadata": {},
     "output_type": "execute_result"
    }
   ],
   "source": [
    "hn.shape"
   ]
  },
  {
   "cell_type": "code",
   "execution_count": 48,
   "metadata": {},
   "outputs": [
    {
     "data": {
      "text/plain": [
       "torch.Size([10, 488])"
      ]
     },
     "execution_count": 48,
     "metadata": {},
     "output_type": "execute_result"
    }
   ],
   "source": [
    "outs[0].shape"
   ]
  },
  {
   "cell_type": "code",
   "execution_count": 47,
   "metadata": {},
   "outputs": [
    {
     "data": {
      "text/plain": [
       "torch.Size([10, 120, 488])"
      ]
     },
     "execution_count": 47,
     "metadata": {},
     "output_type": "execute_result"
    }
   ],
   "source": [
    "output.shape"
   ]
  },
  {
   "cell_type": "code",
   "execution_count": 49,
   "metadata": {},
   "outputs": [
    {
     "data": {
      "text/plain": [
       "torch.Size([10, 488])"
      ]
     },
     "execution_count": 49,
     "metadata": {},
     "output_type": "execute_result"
    }
   ],
   "source": [
    "hn.shape"
   ]
  },
  {
   "cell_type": "code",
   "execution_count": 50,
   "metadata": {},
   "outputs": [
    {
     "data": {
      "text/plain": [
       "120"
      ]
     },
     "execution_count": 50,
     "metadata": {},
     "output_type": "execute_result"
    }
   ],
   "source": [
    "len(outs)"
   ]
  },
  {
   "cell_type": "code",
   "execution_count": 52,
   "metadata": {},
   "outputs": [
    {
     "data": {
      "text/plain": [
       "torch.Size([10, 120, 488])"
      ]
     },
     "execution_count": 52,
     "metadata": {},
     "output_type": "execute_result"
    }
   ],
   "source": [
    "x.size()"
   ]
  },
  {
   "cell_type": "code",
   "execution_count": 60,
   "metadata": {},
   "outputs": [],
   "source": [
    "outs = torch.zeros((x.size(0), x.size(1), 488))"
   ]
  },
  {
   "cell_type": "code",
   "execution_count": 55,
   "metadata": {},
   "outputs": [],
   "source": [
    "outs[:, 0, :] = hn"
   ]
  },
  {
   "cell_type": "code",
   "execution_count": 61,
   "metadata": {},
   "outputs": [
    {
     "data": {
      "text/plain": [
       "torch.Size([10, 488])"
      ]
     },
     "execution_count": 61,
     "metadata": {},
     "output_type": "execute_result"
    }
   ],
   "source": [
    "outs[:, 0, :].shape"
   ]
  },
  {
   "cell_type": "code",
   "execution_count": 62,
   "metadata": {},
   "outputs": [
    {
     "data": {
      "text/plain": [
       "tensor([[ 0.0331,  0.0807, -0.0473,  ..., -0.0761,  0.0028, -0.1962],\n",
       "        [ 0.0143, -0.0441,  0.1287,  ..., -0.0287, -0.0376,  0.0773],\n",
       "        [ 0.0283, -0.0053, -0.0800,  ...,  0.0261,  0.0299,  0.2050],\n",
       "        ...,\n",
       "        [ 0.0047, -0.0798,  0.1503,  ...,  0.0709,  0.0771,  0.0749],\n",
       "        [-0.0533,  0.0404,  0.1456,  ...,  0.0074, -0.0638,  0.0134],\n",
       "        [-0.1039, -0.0236,  0.0147,  ...,  0.0598,  0.1339,  0.1032]],\n",
       "       grad_fn=<AddBackward0>)"
      ]
     },
     "execution_count": 62,
     "metadata": {},
     "output_type": "execute_result"
    }
   ],
   "source": [
    "hn"
   ]
  },
  {
   "cell_type": "code",
   "execution_count": 76,
   "metadata": {},
   "outputs": [
    {
     "name": "stderr",
     "output_type": "stream",
     "text": [
      "/home/hengshi/.local/lib/python3.6/site-packages/torch/nn/functional.py:1639: UserWarning: nn.functional.sigmoid is deprecated. Use torch.sigmoid instead.\n",
      "  warnings.warn(\"nn.functional.sigmoid is deprecated. Use torch.sigmoid instead.\")\n",
      "/home/hengshi/.local/lib/python3.6/site-packages/torch/nn/functional.py:1628: UserWarning: nn.functional.tanh is deprecated. Use torch.tanh instead.\n",
      "  warnings.warn(\"nn.functional.tanh is deprecated. Use torch.tanh instead.\")\n"
     ]
    },
    {
     "data": {
      "text/plain": [
       "torch.Size([10, 488])"
      ]
     },
     "execution_count": 76,
     "metadata": {},
     "output_type": "execute_result"
    }
   ],
   "source": [
    "a(x)[1].shape"
   ]
  },
  {
   "cell_type": "code",
   "execution_count": 77,
   "metadata": {},
   "outputs": [
    {
     "data": {
      "text/plain": [
       "torch.Size([10, 120, 488])"
      ]
     },
     "execution_count": 77,
     "metadata": {},
     "output_type": "execute_result"
    }
   ],
   "source": [
    "outs.shape"
   ]
  },
  {
   "cell_type": "code",
   "execution_count": 78,
   "metadata": {},
   "outputs": [
    {
     "data": {
      "text/plain": [
       "torch.Size([10, 488])"
      ]
     },
     "execution_count": 78,
     "metadata": {},
     "output_type": "execute_result"
    }
   ],
   "source": [
    "a = x[:, 0, :]\n",
    "a.size()"
   ]
  },
  {
   "cell_type": "code",
   "execution_count": 79,
   "metadata": {},
   "outputs": [],
   "source": [
    "x2h = nn.Linear(488, 3 * 488, bias = True)"
   ]
  },
  {
   "cell_type": "code",
   "execution_count": 80,
   "metadata": {},
   "outputs": [],
   "source": [
    "gate_x = x2h(a) "
   ]
  },
  {
   "cell_type": "code",
   "execution_count": 83,
   "metadata": {},
   "outputs": [
    {
     "data": {
      "text/plain": [
       "torch.Size([10, 1464])"
      ]
     },
     "execution_count": 83,
     "metadata": {},
     "output_type": "execute_result"
    }
   ],
   "source": [
    "gate_x = gate_x.squeeze()\n",
    "gate_x.shape"
   ]
  },
  {
   "cell_type": "code",
   "execution_count": 84,
   "metadata": {},
   "outputs": [],
   "source": [
    "i_r, i_i, i_n = gate_x.chunk(3, 1)"
   ]
  },
  {
   "cell_type": "code",
   "execution_count": 85,
   "metadata": {},
   "outputs": [
    {
     "data": {
      "text/plain": [
       "torch.Size([10, 488])"
      ]
     },
     "execution_count": 85,
     "metadata": {},
     "output_type": "execute_result"
    }
   ],
   "source": [
    "i_n.shape"
   ]
  },
  {
   "cell_type": "markdown",
   "metadata": {},
   "source": [
    "# Train with FineTune "
   ]
  },
  {
   "cell_type": "code",
   "execution_count": 2,
   "metadata": {},
   "outputs": [],
   "source": [
    "path_data = '/nfs/turbo/umms-welchjd/hengshi/perturb_gan/data/GI/'\n",
    "cond_all = pd.read_csv(os.path.join(path_data, 'cell_meta_Annotated_KeptPerturb_RAW_LibraryCheck_PyThon37.csv'))\n",
    "null_per_category = ['ctrl/ctrl', 'ctrl1/ctrl', 'ctrl10/ctrl', 'ctrl11/ctrl']\n",
    "single_null_per_category = ['ctrl', 'ctrl1', 'ctrl10', 'ctrl11']\n",
    "\n",
    "perturb_list = list(cond_all['perturbation'])\n",
    "perturb1_list = []\n",
    "perturb2_list = []\n",
    "for i in range(len(perturb_list)):\n",
    "    per1, per2 = perturb_list[i].split(\"/\")\n",
    "    perturb1_list.append(per1)\n",
    "    perturb2_list.append(per2)\n",
    "\n",
    "perturb1_list_collect = ['ctrl' if i in single_null_per_category else i for i in perturb1_list]\n",
    "perturb2_list_collect = ['ctrl' if i in single_null_per_category else i for i in perturb2_list]\n",
    "\n",
    "perturb_list_collect = [perturb1_list_collect[i] + \"/\" + perturb2_list_collect[i] for i in range(len(perturb2_list_collect))]\n",
    "perturb_data_pd = pd.Series(perturb_list_collect).str.get_dummies(\"/\")\n",
    "perturb_data = perturb_data_pd.values.astype('float64')"
   ]
  },
  {
   "cell_type": "code",
   "execution_count": 3,
   "metadata": {},
   "outputs": [],
   "source": [
    "perturb_data_pd_rowunique = perturb_data_pd.drop_duplicates()\n",
    "perturb_col_names = np.array(list(perturb_data_pd_rowunique.columns))"
   ]
  },
  {
   "cell_type": "code",
   "execution_count": 7,
   "metadata": {},
   "outputs": [],
   "source": [
    "path_geneanno = \"/nfs/turbo/umms-welchjd/hengshi/GAN/data/Genotype/\"\n",
    "\n",
    "data_npz = load_npz(os.path.join(path_geneanno, 'sparse_gene_anno_matrix.npz')).toarray()\n",
    "gene_data = np.load(os.path.join(path_geneanno, 'gene.npy'))\n",
    "anno_data = np.load(os.path.join(path_geneanno, 'anno.npy'))"
   ]
  },
  {
   "cell_type": "code",
   "execution_count": 8,
   "metadata": {},
   "outputs": [],
   "source": [
    "# treatment embedding\n",
    "list_per_gene = []\n",
    "anno_per_gene = None\n",
    "for i in range(perturb_data_pd_rowunique.shape[0]):\n",
    "    perturb_type = perturb_col_names[perturb_data_pd_rowunique.iloc[i, :].apply(lambda x: x > 0)]\n",
    "\n",
    "    if len(perturb_type) == 1:\n",
    "        per1, per2 = perturb_type[0], perturb_type[0]\n",
    "    else:\n",
    "        per1, per2 = perturb_type[0], perturb_type[1]\n",
    "\n",
    "\n",
    "    anno1 = None\n",
    "    if per1 in gene_data:\n",
    "        indice1 = np.where(gene_data == per1)[0][0]\n",
    "        anno1 = data_npz[[indice1]]\n",
    "\n",
    "    anno2 = None\n",
    "    if per2 in gene_data:\n",
    "        indice2 = np.where(gene_data == per2)[0][0]\n",
    "        anno2 = data_npz[[indice2]]\n",
    "\n",
    "    if anno1 is not None and anno2 is not None:\n",
    "        anno_perturb =  np.logical_or(anno1, anno2).astype(np.float64)\n",
    "    elif anno1 is None and anno2 is not None:\n",
    "        anno_perturb = anno2.astype(np.float64)\n",
    "    elif anno1 is not None and anno2 is None:\n",
    "        anno_perturb = anno1.astype(np.float64)\n",
    "    else:\n",
    "        anno_perturb = None\n",
    "\n",
    "    if anno_perturb is not None:\n",
    "        if anno_per_gene is None:\n",
    "            anno_per_gene = anno_perturb\n",
    "        else:\n",
    "            anno_per_gene = np.concatenate([anno_per_gene, anno_perturb], axis = 0)\n",
    "        list_per_gene.append(per1 + '/' + per2)"
   ]
  },
  {
   "cell_type": "code",
   "execution_count": 9,
   "metadata": {},
   "outputs": [
    {
     "data": {
      "text/plain": [
       "['TSC22D1/ctrl',\n",
       " 'KLF1/MAP2K6',\n",
       " 'CEBPE/RUNX1T1',\n",
       " 'MAML2/ctrl',\n",
       " 'CEBPE/ctrl',\n",
       " 'ETS2/MAP7D1',\n",
       " 'CBL/PTPN9',\n",
       " 'ELMSAN1/LHX1',\n",
       " 'ETS2/TGFBR2',\n",
       " 'SGK1/TBX3',\n",
       " 'DUSP9/ctrl',\n",
       " 'MAP2K6/SPI1',\n",
       " 'UBASH3B/ctrl',\n",
       " 'PTPN12/UBASH3B',\n",
       " 'FOXA1/ctrl',\n",
       " 'FOXA1/FOXA3',\n",
       " 'ETS2/IGDCC3',\n",
       " 'BCORL1/ctrl',\n",
       " 'MEIS1/ctrl',\n",
       " 'GLB1L2/ctrl',\n",
       " 'KLF1/ctrl',\n",
       " 'OSR2/PTPN12',\n",
       " 'IKZF3/MAP2K6',\n",
       " 'BAK1/ctrl',\n",
       " 'FEV/ctrl',\n",
       " 'MAP2K3/SLC38A2',\n",
       " 'ATL1/ctrl',\n",
       " 'CBL/ctrl',\n",
       " 'ETS2/ctrl',\n",
       " 'SET/ctrl',\n",
       " 'TBX3/ctrl',\n",
       " 'LHX1/ctrl',\n",
       " 'FOXA1/KLF1',\n",
       " 'TBX2/TBX3',\n",
       " 'SLC4A1/ctrl',\n",
       " 'RREB1/ctrl',\n",
       " 'ZNF318/ctrl',\n",
       " 'DUSP9/MAPK1',\n",
       " 'COL2A1/ctrl',\n",
       " 'ZBTB25/ctrl',\n",
       " 'CEBPE/KLF1',\n",
       " 'SLC6A9/ctrl',\n",
       " 'MIDN/ctrl',\n",
       " 'OSR2/UBASH3B',\n",
       " 'DLX2/ctrl',\n",
       " 'UBASH3B/ZBTB25',\n",
       " 'CBFA2T3/ctrl',\n",
       " 'HES7/ctrl',\n",
       " 'DUSP9/ETS2',\n",
       " 'FOXL2/ZNF318',\n",
       " 'CEBPE/SET',\n",
       " 'PTPN9/UBASH3B',\n",
       " 'IGDCC3/ZBTB25',\n",
       " 'AHR/ctrl',\n",
       " 'FOXO4/ctrl',\n",
       " 'RHOXF2/ctrl',\n",
       " 'SPI1/ctrl',\n",
       " 'RUNX1T1/ctrl',\n",
       " 'S1PR2/ctrl',\n",
       " 'POU3F2/ctrl',\n",
       " 'IER5L/LYL1',\n",
       " 'CNN1/ctrl',\n",
       " 'IGDCC3/MAPK1',\n",
       " 'CELF2/ctrl',\n",
       " 'CEBPA/JUN',\n",
       " 'MAP2K3/ctrl',\n",
       " 'MAP4K3/ctrl',\n",
       " 'SAMD1/ctrl',\n",
       " 'BAK1/TMSB4X',\n",
       " 'CEBPE/ZC3HAV1',\n",
       " 'CDKN1A/ctrl',\n",
       " 'UBASH3A/UBASH3B',\n",
       " 'MAP2K3/MAP2K6',\n",
       " 'MAPK1/PRTG',\n",
       " 'PTPN1/ctrl',\n",
       " 'TBX2/ctrl',\n",
       " 'CEBPA/ctrl',\n",
       " 'PTPN12/ctrl',\n",
       " 'TP73/ctrl',\n",
       " 'MAP7D1/ctrl',\n",
       " 'IKZF3/MAP2K3',\n",
       " 'FOSB/ctrl',\n",
       " 'MAPK1/ctrl',\n",
       " 'COL2A1/KLF1',\n",
       " 'IRF1/ctrl',\n",
       " 'DUSP9/PRTG',\n",
       " 'BPGM/SAMD1',\n",
       " 'IKZF3/ctrl',\n",
       " 'FOXL2/POU3F2',\n",
       " 'HOXB9/ctrl',\n",
       " 'HOXC13/ctrl',\n",
       " 'IKZF3/MAPK1',\n",
       " 'ETS2/PRTG',\n",
       " 'CKS1B/ctrl',\n",
       " 'CLDN6/ctrl',\n",
       " 'FOXA3/ctrl',\n",
       " 'KIF18B/KIF2C',\n",
       " 'BCL2L11/TGFBR2',\n",
       " 'AHR/KLF1',\n",
       " 'COL1A1/ctrl',\n",
       " 'PTPN12/UBASH3A',\n",
       " 'FOXF1/ctrl',\n",
       " 'ZBTB1/ctrl',\n",
       " 'FEV/MAP7D1',\n",
       " 'PRTG/ctrl',\n",
       " 'PLK4/ctrl',\n",
       " 'BPGM/ctrl',\n",
       " 'ARRDC3/ctrl',\n",
       " 'CNN1/ETS2',\n",
       " 'BCL2L11/ctrl',\n",
       " 'CNN1/MAPK1',\n",
       " 'FOXL2/MEIS1',\n",
       " 'LYL1/ctrl',\n",
       " 'MAP2K6/ctrl',\n",
       " 'SGK1/ctrl',\n",
       " 'CDKN1B/ctrl',\n",
       " 'MAPK1/TGFBR2',\n",
       " 'FOXL2/ctrl',\n",
       " 'FOXA3/HOXB9',\n",
       " 'ETS2/IKZF3',\n",
       " 'NIT1/ctrl',\n",
       " 'CEBPE/FOSB',\n",
       " 'PTPN12/PTPN9',\n",
       " 'OSR2/ctrl',\n",
       " 'HNF4A/ctrl',\n",
       " 'CEBPB/FOSB',\n",
       " 'CEBPE/ETS2',\n",
       " 'KLF1/SET',\n",
       " 'PTPN12/SNAI1',\n",
       " 'KMT2A/ctrl',\n",
       " 'BAK1/BCL2L11',\n",
       " 'CNN1/UBASH3A',\n",
       " 'ELMSAN1/MAP2K6',\n",
       " 'ISL2/ctrl',\n",
       " 'IGDCC3/TGFBR2',\n",
       " 'SAMD1/ZBTB1',\n",
       " 'TMSB4X/ctrl',\n",
       " 'KIF2C/ctrl',\n",
       " 'CBL/UBASH3A',\n",
       " 'IRF1/SET',\n",
       " 'ELMSAN1/MAP2K3',\n",
       " 'CSRNP1/ctrl',\n",
       " 'BAK1/KLF1',\n",
       " 'ARID1A/ctrl',\n",
       " 'CEBPA/CEBPE',\n",
       " 'CNNM4/ctrl',\n",
       " 'FOXA1/FOXL2',\n",
       " 'UBASH3A/ctrl',\n",
       " 'NCL/ctrl',\n",
       " 'CEBPE/CNN1',\n",
       " 'HOXC13/ZC3HAV1',\n",
       " 'CEBPB/LYL1',\n",
       " 'CBL/CNN1',\n",
       " 'PTPN12/ZBTB10',\n",
       " 'CBL/UBASH3B',\n",
       " 'FOXF1/HOXB9',\n",
       " 'SNAI1/UBASH3B',\n",
       " 'CNN1/UBASH3B',\n",
       " 'CEBPB/PTPN12',\n",
       " 'ZC3HAV1/ctrl',\n",
       " 'SGK1/TBX2',\n",
       " 'CBL/TGFBR2',\n",
       " 'FOSB/OSR2',\n",
       " 'CEBPB/MAPK1',\n",
       " 'PTPN9/ctrl',\n",
       " 'FOSB/UBASH3B',\n",
       " 'ETS2/MAPK1',\n",
       " 'STIL/ctrl',\n",
       " 'DUSP9/IGDCC3',\n",
       " 'CEBPB/ctrl',\n",
       " 'CBL/PTPN12',\n",
       " 'CEBPB/OSR2',\n",
       " 'S1PR2/SGK1',\n",
       " 'DUSP9/KLF1',\n",
       " 'SAMD1/UBASH3B',\n",
       " 'TGFBR2/ctrl',\n",
       " 'FEV/ISL2',\n",
       " 'PRTG/TGFBR2',\n",
       " 'JUN/ctrl',\n",
       " 'CLDN6/KLF1',\n",
       " 'CBFA2T3/POU3F2',\n",
       " 'FOXA1/HOXB9',\n",
       " 'DLX2/ZBTB10',\n",
       " 'SAMD1/TGFBR2',\n",
       " 'MAP4K5/ctrl',\n",
       " 'ZBTB10/ctrl',\n",
       " 'CEBPE/SPI1',\n",
       " 'PTPN13/ctrl',\n",
       " 'CEBPE/PTPN12',\n",
       " 'CDKN1B/CDKN1C',\n",
       " 'FOXF1/FOXL2',\n",
       " 'AHR/FEV',\n",
       " 'KLF1/TGFBR2',\n",
       " 'CDKN1A/CDKN1B',\n",
       " 'CBFA2T3/FEV',\n",
       " 'SLC38A2/ctrl',\n",
       " 'HOXA13/ctrl',\n",
       " 'PTPN12/ZBTB25',\n",
       " 'CEBPB/CEBPE',\n",
       " 'DLX2/SNAI1',\n",
       " 'SNAI1/ctrl',\n",
       " 'CEBPA/CEBPB',\n",
       " 'RHOXF2/ZBTB25',\n",
       " 'CITED1/ctrl',\n",
       " 'RHOXF2/SET',\n",
       " 'CEBPA/KLF1',\n",
       " 'FOSB/IKZF3',\n",
       " 'PRDM1/ctrl',\n",
       " 'FOSB/PTPN12',\n",
       " 'PTPN12/SAMD1',\n",
       " 'HK2/ctrl',\n",
       " 'FOXL2/HOXB9',\n",
       " 'EGR1/ctrl',\n",
       " 'BPGM/ZBTB1',\n",
       " 'CEBPB/JUN',\n",
       " 'SNAI1/ZBTB10',\n",
       " 'C19ORF26/TGFBR2',\n",
       " 'CBFA2T3/PRDM1',\n",
       " 'FOXA3/FOXF1',\n",
       " 'DUSP9/SNAI1',\n",
       " 'FOXA3/FOXL2',\n",
       " 'CEBPA/ZC3HAV1',\n",
       " 'FOXA1/FOXF1',\n",
       " 'KIF18B/ctrl',\n",
       " 'IGDCC3/PRTG',\n",
       " 'CDKN1A/CDKN1C',\n",
       " 'PLK4/STIL',\n",
       " 'ELMSAN1/ZBTB10',\n",
       " 'CDKN1C/ctrl',\n",
       " 'C3ORF72/FOXL2']"
      ]
     },
     "execution_count": 9,
     "metadata": {},
     "output_type": "execute_result"
    }
   ],
   "source": [
    "list_per_gene"
   ]
  },
  {
   "cell_type": "code",
   "execution_count": 11,
   "metadata": {},
   "outputs": [
    {
     "data": {
      "text/plain": [
       "(18832,)"
      ]
     },
     "execution_count": 11,
     "metadata": {},
     "output_type": "execute_result"
    }
   ],
   "source": [
    "gene_data.shape"
   ]
  },
  {
   "cell_type": "code",
   "execution_count": 14,
   "metadata": {},
   "outputs": [
    {
     "data": {
      "text/plain": [
       "177331528.0"
      ]
     },
     "execution_count": 14,
     "metadata": {},
     "output_type": "execute_result"
    }
   ],
   "source": [
    "18832 * (18832 - 1)/2 + 18832"
   ]
  },
  {
   "cell_type": "code",
   "execution_count": 13,
   "metadata": {},
   "outputs": [
    {
     "data": {
      "text/plain": [
       "230"
      ]
     },
     "execution_count": 13,
     "metadata": {},
     "output_type": "execute_result"
    }
   ],
   "source": [
    "len(list_per_gene)"
   ]
  },
  {
   "cell_type": "markdown",
   "metadata": {},
   "source": [
    "# ZLZ Penalty"
   ]
  },
  {
   "cell_type": "code",
   "execution_count": 1,
   "metadata": {},
   "outputs": [],
   "source": [
    "#!/usr/bin/python\n",
    "import os\n",
    "import torch\n",
    "import torch.nn as nn\n",
    "import torch.nn.functional as F\n",
    "import torch.utils.data\n",
    "import torch.optim as optim\n",
    "\n",
    "\n",
    "import scvi \n",
    "import ot\n",
    "import scipy\n",
    "from scipy.sparse import load_npz\n",
    "import numpy as np\n",
    "import pandas as pd\n",
    "from genotypeVAE_sumLoss import * \n",
    "import random\n",
    "\n",
    "\n",
    "class ConcatDatasetWithIndices(torch.utils.data.Dataset):\n",
    "\tdef __init__(self, *datasets):\n",
    "\t\tself.datasets = datasets\n",
    "\n",
    "\tdef __getitem__(self, i):\n",
    "\t\treturn tuple([d[i] for d in self.datasets] + [i])\n",
    "\n",
    "\tdef __len__(self):\n",
    "\t\treturn min(len(d) for d in self.datasets)\n",
    "\n",
    "\n",
    "\n",
    "def zLz_loss(Lmatrix, z):\n",
    "\n",
    "\tzLz = torch.matmul(torch.matmul(torch.transpose(z, 0, 1), Lmatrix), z)\n",
    "\treturn torch.trace(zLz)\n",
    "\n",
    "\n"
   ]
  },
  {
   "cell_type": "code",
   "execution_count": 2,
   "metadata": {},
   "outputs": [
    {
     "name": "stderr",
     "output_type": "stream",
     "text": [
      "/home/hengshi/.local/lib/python3.8/site-packages/torch/cuda/__init__.py:52: UserWarning: CUDA initialization: Found no NVIDIA driver on your system. Please check that you have an NVIDIA GPU and installed a driver from http://www.nvidia.com/Download/index.aspx (Triggered internally at  /pytorch/c10/cuda/CUDAFunctions.cpp:100.)\n",
      "  return torch._C._cuda_getDeviceCount() > 0\n"
     ]
    },
    {
     "data": {
      "text/plain": [
       "<All keys matched successfully>"
      ]
     },
     "execution_count": 2,
     "metadata": {},
     "output_type": "execute_result"
    }
   ],
   "source": [
    "path_turbo = '/nfs/turbo/umms-welchjd/hengshi/perturb_gan/data/GI/wass_distance'\n",
    "path_data = '/nfs/turbo/umms-welchjd/hengshi/GAN/data/Genotype/sparse_gene_anno_matrix.npz'\n",
    "path_model = \"/scratch/welchjd_root/welchjd/hengshi/GAN/perturb_gan/genotype_vae/output_latent10_epoch300_GenotypeVAE_1em4_sumLoss/model_params.pt\"\n",
    "path_data_GI = '/nfs/turbo/umms-welchjd/hengshi/perturb_gan/data/GI/'\n",
    "data_npz = load_npz(path_data).toarray()\n",
    "\n",
    "# annotation\n",
    "anno_all_cells_all = np.load(os.path.join(path_data_GI, \"onehot_per_cell_meta_Annotated_KeptPerturb_RAW_LibraryCheck_PyThon37.npy\"))\n",
    "indices_with_onehot_data = pd.read_csv(os.path.join(path_data_GI, 'indices_with_onehot_cell_meta_Annotated_KeptPerturb_RAW_LibraryCheck_PyThon37.csv'))\n",
    "indices_with_onehot = list(indices_with_onehot_data.iloc[:, 1])\n",
    "anno_all_cells = anno_all_cells_all[indices_with_onehot]\n",
    "\n",
    "\n",
    "random_state = np.random.RandomState(seed = 123)\n",
    "permutation = random_state.permutation(len(data_npz))\n",
    "n_train = int(len(data_npz) * 0.8)\n",
    "n_test = len(data_npz) - n_train\n",
    "batch_size = 128\n",
    "\n",
    "data_train, data_test = torch.tensor(data_npz[permutation[:n_train]]), torch.tensor(data_npz[permutation[n_train:]])\n",
    "\n",
    "\n",
    "# perturbation information data\n",
    "cond_all = pd.read_csv(os.path.join(path_data_GI, 'cell_meta_Annotated_KeptPerturb_RAW_LibraryCheck_PyThon37.csv'))\n",
    "null_per_category = ['ctrl/ctrl', 'ctrl1/ctrl', 'ctrl10/ctrl', 'ctrl11/ctrl']\n",
    "single_null_per_category = ['ctrl', 'ctrl1', 'ctrl10', 'ctrl11']\n",
    "\n",
    "perturb_list = list(cond_all['perturbation'])\n",
    "perturb1_list = []\n",
    "perturb2_list = []\n",
    "for i in range(len(perturb_list)):\n",
    "    per1, per2 = perturb_list[i].split(\"/\")\n",
    "    perturb1_list.append(per1)\n",
    "    perturb2_list.append(per2)\n",
    "\n",
    "perturb1_list_collect = ['ctrl' if i in single_null_per_category else i for i in perturb1_list]\n",
    "perturb2_list_collect = ['ctrl' if i in single_null_per_category else i for i in perturb2_list]\n",
    "\n",
    "perturb_list_collect = [perturb1_list_collect[i] + \"/\" + perturb2_list_collect[i] for i in range(len(perturb2_list_collect))]\n",
    "perturb_data_pd = pd.Series(perturb_list_collect).str.get_dummies(\"/\")\n",
    "perturb_data = perturb_data_pd.values.astype('float64')\n",
    "\n",
    "perturb_data_pd_rowunique = perturb_data_pd.drop_duplicates()\n",
    "perturb_col_names = np.array(list(perturb_data_pd_rowunique.columns))\n",
    "perturb_with_onehot = np.array(perturb_list_collect)[indices_with_onehot]\n",
    "\n",
    "# L matrix \n",
    "Lmatrix = np.load(os.path.join(path_turbo, 'lap_1_mat.npy'))\n",
    "data_perturb = pd.read_csv(os.path.join(path_turbo, 'PerturbInfo.csv'))\n",
    "\n",
    "data_perturb_dict = {}\n",
    "for i in range(data_perturb.shape[0]):\n",
    "    data_perturb_dict[data_perturb['Perturb1'][i]] = data_perturb['Unnamed: 0'][i]\n",
    "    data_perturb_dict[data_perturb['Perturb2'][i]] = data_perturb['Unnamed: 0'][i]\n",
    "\n",
    "\n",
    "batch_size_small = 128\n",
    "n_vae = anno_all_cells.shape[0]\n",
    "n_vae_train = int(n_vae * 0.8)\n",
    "n_vae_test = n_vae - n_vae_train\n",
    "\n",
    "# a random split of train and validation datasets\n",
    "random_vae_state = np.random.RandomState(seed = 123)\n",
    "permutation_vae = random_vae_state.permutation(n_vae)\n",
    "indices_vae_test, indices_vae_train = permutation_vae[:n_vae_test], permutation_vae[n_vae_test:]\n",
    "anno_train = torch.tensor(anno_all_cells[indices_vae_train])\n",
    "anno_test = torch.tensor(anno_all_cells[indices_vae_test])\n",
    "\n",
    "idx_with_onehot_train = torch.tensor(np.array([indices_vae_train]).reshape(-1))\n",
    "idx_with_onehot_test =  torch.tensor(np.array([indices_vae_test]).reshape(-1))\n",
    "\n",
    "train_prop_loader = torch.utils.data.DataLoader(\n",
    "    ConcatDatasetWithIndices(anno_train, \n",
    "        idx_with_onehot_train),\n",
    "    batch_size = batch_size_small, \n",
    "    shuffle = True)\n",
    "\n",
    "test_prop_loader = torch.utils.data.DataLoader(\n",
    "    ConcatDatasetWithIndices(anno_test, \n",
    "        idx_with_onehot_test),\n",
    "    batch_size = batch_size_small, \n",
    "    shuffle = True)\n",
    "\n",
    "# model \n",
    "torch.manual_seed(42)\n",
    "\n",
    "epochs = 300\n",
    "device = 'cuda' if torch.cuda.is_available() else 'cpu'\n",
    "\n",
    "model_c = GenoVAE().to(device)\n",
    "optimizer = optim.Adam(model_c.parameters(), lr = 0.0001)\n",
    "model_c.load_state_dict(torch.load(path_model, map_location = device))"
   ]
  },
  {
   "cell_type": "code",
   "execution_count": 44,
   "metadata": {},
   "outputs": [],
   "source": [
    "def extractLmatrix(Lmatrix, data_perturb_dict, perturb_data, batch_prop):\n",
    "\tindx = []\n",
    "\tfor i in range(batch_prop.shape[0]):\n",
    "\t\tindx.append(data_perturb_dict[perturb_data[batch_prop[i].item()]])\n",
    "\toutput = np.zeros((len(indx), len(indx)))\n",
    "\n",
    "\tfor i in range(len(indx)):\n",
    "\t\tidex = indx[i]\n",
    "\t\tfor j in range(i, len(indx)):\n",
    "\t\t\tjdex = indx[j]\n",
    "\t\t\toutput[i, j] = Lmatrix[idex, jdex]\n",
    "\t\t\tif i != j:\n",
    "\t\t\t\toutput[j, i] = Lmatrix[idex, jdex]\n",
    "\treturn torch.tensor(output)"
   ]
  },
  {
   "cell_type": "code",
   "execution_count": 47,
   "metadata": {},
   "outputs": [],
   "source": [
    "b = torch.matmul(torch.transpose(sample.float().to(device), 0, 1), Lsub.float().to(device))"
   ]
  },
  {
   "cell_type": "code",
   "execution_count": 52,
   "metadata": {},
   "outputs": [
    {
     "data": {
      "text/plain": [
       "torch.Size([10, 128])"
      ]
     },
     "execution_count": 52,
     "metadata": {},
     "output_type": "execute_result"
    }
   ],
   "source": [
    "b = torch.matmul(torch.transpose(z, 0, 1), Lsub.float())\n",
    "b.size()"
   ]
  },
  {
   "cell_type": "code",
   "execution_count": 56,
   "metadata": {},
   "outputs": [],
   "source": [
    "def zLz_loss(z, Lmatrix):\n",
    "\n",
    "\tzLz = torch.matmul(torch.matmul(torch.transpose(z, 0, 1), Lmatrix), z)\n",
    "\treturn torch.trace(zLz)\n"
   ]
  },
  {
   "cell_type": "code",
   "execution_count": null,
   "metadata": {},
   "outputs": [],
   "source": []
  },
  {
   "cell_type": "code",
   "execution_count": 57,
   "metadata": {},
   "outputs": [
    {
     "data": {
      "text/plain": [
       "tensor(82.1428, grad_fn=<TraceBackward>)"
      ]
     },
     "execution_count": 57,
     "metadata": {},
     "output_type": "execute_result"
    }
   ],
   "source": [
    "zLz_loss(sample.float().to(device), Lsub.float().to(device))"
   ]
  },
  {
   "cell_type": "code",
   "execution_count": 53,
   "metadata": {},
   "outputs": [
    {
     "data": {
      "text/plain": [
       "tensor([[ 8.3217e+00,  1.2019e-02, -4.3189e+00, -3.5386e-01, -2.5705e+00,\n",
       "         -5.4573e-01, -4.1251e+00, -5.3711e-01, -8.3167e-01, -2.3226e+00],\n",
       "        [ 1.2019e-02,  5.7517e+00,  2.7556e+00, -1.0484e+00, -2.6139e+00,\n",
       "          2.6122e-01, -3.1171e+00,  3.9757e-01,  1.0937e+00, -2.9373e+00],\n",
       "        [-4.3189e+00,  2.7556e+00,  1.2123e+01, -1.7564e+00, -2.3221e+00,\n",
       "         -3.8687e+00,  2.3191e+00, -2.0574e+00,  9.0676e-01, -1.5165e+00],\n",
       "        [-3.5386e-01, -1.0484e+00, -1.7564e+00,  5.1105e+00,  2.1844e+00,\n",
       "          1.4118e+00, -4.9908e-01, -1.2045e+00,  9.7537e-01, -4.5350e-01],\n",
       "        [-2.5705e+00, -2.6139e+00, -2.3221e+00,  2.1844e+00,  9.1464e+00,\n",
       "          2.4323e+00,  2.5285e+00, -2.9466e-01, -6.0829e-01,  5.0401e+00],\n",
       "        [-5.4573e-01,  2.6122e-01, -3.8687e+00,  1.4118e+00,  2.4323e+00,\n",
       "          8.0688e+00, -2.3160e+00,  1.1601e+00,  1.3945e+00, -3.7499e-01],\n",
       "        [-4.1251e+00, -3.1171e+00,  2.3191e+00, -4.9908e-01,  2.5285e+00,\n",
       "         -2.3160e+00,  9.8969e+00, -2.0727e+00, -1.2605e+00,  6.3054e+00],\n",
       "        [-5.3711e-01,  3.9757e-01, -2.0574e+00, -1.2045e+00, -2.9466e-01,\n",
       "          1.1601e+00, -2.0727e+00,  5.5343e+00,  5.8957e-01, -1.4720e+00],\n",
       "        [-8.3167e-01,  1.0937e+00,  9.0676e-01,  9.7537e-01, -6.0829e-01,\n",
       "          1.3945e+00, -1.2605e+00,  5.8957e-01,  7.4192e+00, -4.9028e-01],\n",
       "        [-2.3226e+00, -2.9373e+00, -1.5165e+00, -4.5350e-01,  5.0401e+00,\n",
       "         -3.7499e-01,  6.3054e+00, -1.4720e+00, -4.9028e-01,  1.0771e+01]],\n",
       "       grad_fn=<MmBackward>)"
      ]
     },
     "execution_count": 53,
     "metadata": {},
     "output_type": "execute_result"
    }
   ],
   "source": [
    "z = sample.float().to(device)\n",
    "torch.matmul(b, z)"
   ]
  },
  {
   "cell_type": "code",
   "execution_count": 49,
   "metadata": {},
   "outputs": [
    {
     "data": {
      "text/plain": [
       "torch.Size([128, 10])"
      ]
     },
     "execution_count": 49,
     "metadata": {},
     "output_type": "execute_result"
    }
   ],
   "source": [
    "sample.float().to(device).size()"
   ]
  },
  {
   "cell_type": "code",
   "execution_count": 45,
   "metadata": {},
   "outputs": [
    {
     "data": {
      "text/plain": [
       "torch.Size([128, 128])"
      ]
     },
     "execution_count": 45,
     "metadata": {},
     "output_type": "execute_result"
    }
   ],
   "source": [
    "Lsub = extractLmatrix(Lmatrix, data_perturb_dict, perturb_with_onehot, batch_prop)\n",
    "Lsub.size()"
   ]
  },
  {
   "cell_type": "code",
   "execution_count": 46,
   "metadata": {},
   "outputs": [
    {
     "ename": "RuntimeError",
     "evalue": "mat1 and mat2 shapes cannot be multiplied (128x10 and 128x128)",
     "output_type": "error",
     "traceback": [
      "\u001b[0;31m---------------------------------------------------------------------------\u001b[0m",
      "\u001b[0;31mRuntimeError\u001b[0m                              Traceback (most recent call last)",
      "\u001b[0;32m<ipython-input-46-0aadcdd05dab>\u001b[0m in \u001b[0;36m<module>\u001b[0;34m\u001b[0m\n\u001b[0;32m----> 1\u001b[0;31m \u001b[0mzLz_loss\u001b[0m\u001b[0;34m(\u001b[0m\u001b[0msample\u001b[0m\u001b[0;34m.\u001b[0m\u001b[0mfloat\u001b[0m\u001b[0;34m(\u001b[0m\u001b[0;34m)\u001b[0m\u001b[0;34m.\u001b[0m\u001b[0mto\u001b[0m\u001b[0;34m(\u001b[0m\u001b[0mdevice\u001b[0m\u001b[0;34m)\u001b[0m\u001b[0;34m,\u001b[0m \u001b[0mLsub\u001b[0m\u001b[0;34m.\u001b[0m\u001b[0mfloat\u001b[0m\u001b[0;34m(\u001b[0m\u001b[0;34m)\u001b[0m\u001b[0;34m.\u001b[0m\u001b[0mto\u001b[0m\u001b[0;34m(\u001b[0m\u001b[0mdevice\u001b[0m\u001b[0;34m)\u001b[0m\u001b[0;34m)\u001b[0m\u001b[0;34m\u001b[0m\u001b[0;34m\u001b[0m\u001b[0m\n\u001b[0m",
      "\u001b[0;32m<ipython-input-1-c21bb7bdb7f3>\u001b[0m in \u001b[0;36mzLz_loss\u001b[0;34m(Lmatrix, z)\u001b[0m\n\u001b[1;32m     32\u001b[0m \u001b[0;32mdef\u001b[0m \u001b[0mzLz_loss\u001b[0m\u001b[0;34m(\u001b[0m\u001b[0mLmatrix\u001b[0m\u001b[0;34m,\u001b[0m \u001b[0mz\u001b[0m\u001b[0;34m)\u001b[0m\u001b[0;34m:\u001b[0m\u001b[0;34m\u001b[0m\u001b[0;34m\u001b[0m\u001b[0m\n\u001b[1;32m     33\u001b[0m \u001b[0;34m\u001b[0m\u001b[0m\n\u001b[0;32m---> 34\u001b[0;31m         \u001b[0mzLz\u001b[0m \u001b[0;34m=\u001b[0m \u001b[0mtorch\u001b[0m\u001b[0;34m.\u001b[0m\u001b[0mmatmul\u001b[0m\u001b[0;34m(\u001b[0m\u001b[0mtorch\u001b[0m\u001b[0;34m.\u001b[0m\u001b[0mmatmul\u001b[0m\u001b[0;34m(\u001b[0m\u001b[0mtorch\u001b[0m\u001b[0;34m.\u001b[0m\u001b[0mtranspose\u001b[0m\u001b[0;34m(\u001b[0m\u001b[0mz\u001b[0m\u001b[0;34m,\u001b[0m \u001b[0;36m0\u001b[0m\u001b[0;34m,\u001b[0m \u001b[0;36m1\u001b[0m\u001b[0;34m)\u001b[0m\u001b[0;34m,\u001b[0m \u001b[0mLmatrix\u001b[0m\u001b[0;34m)\u001b[0m\u001b[0;34m,\u001b[0m \u001b[0mz\u001b[0m\u001b[0;34m)\u001b[0m\u001b[0;34m\u001b[0m\u001b[0;34m\u001b[0m\u001b[0m\n\u001b[0m\u001b[1;32m     35\u001b[0m         \u001b[0;32mreturn\u001b[0m \u001b[0mtorch\u001b[0m\u001b[0;34m.\u001b[0m\u001b[0mtrace\u001b[0m\u001b[0;34m(\u001b[0m\u001b[0mzLz\u001b[0m\u001b[0;34m)\u001b[0m\u001b[0;34m\u001b[0m\u001b[0;34m\u001b[0m\u001b[0m\n\u001b[1;32m     36\u001b[0m \u001b[0;34m\u001b[0m\u001b[0m\n",
      "\u001b[0;31mRuntimeError\u001b[0m: mat1 and mat2 shapes cannot be multiplied (128x10 and 128x128)"
     ]
    }
   ],
   "source": [
    "zLz_loss(sample.float().to(device), Lsub.float().to(device))"
   ]
  },
  {
   "cell_type": "code",
   "execution_count": 27,
   "metadata": {},
   "outputs": [
    {
     "data": {
      "text/plain": [
       "torch.Size([128, 10])"
      ]
     },
     "execution_count": 27,
     "metadata": {},
     "output_type": "execute_result"
    }
   ],
   "source": [
    "sample.float().to(device).size()"
   ]
  },
  {
   "cell_type": "code",
   "execution_count": 30,
   "metadata": {},
   "outputs": [
    {
     "data": {
      "text/plain": [
       "torch.Size([10, 128])"
      ]
     },
     "execution_count": 30,
     "metadata": {},
     "output_type": "execute_result"
    }
   ],
   "source": [
    "torch.transpose(sample.float().to(device), 0, 1).size()"
   ]
  },
  {
   "cell_type": "code",
   "execution_count": 19,
   "metadata": {},
   "outputs": [
    {
     "ename": "IndexError",
     "evalue": "Dimension out of range (expected to be in range of [-1, 0], but got 1)",
     "output_type": "error",
     "traceback": [
      "\u001b[0;31m---------------------------------------------------------------------------\u001b[0m",
      "\u001b[0;31mIndexError\u001b[0m                                Traceback (most recent call last)",
      "\u001b[0;32m<ipython-input-19-eced5a9079b6>\u001b[0m in \u001b[0;36m<module>\u001b[0;34m\u001b[0m\n\u001b[1;32m     11\u001b[0m         \u001b[0;31m# zLz\u001b[0m\u001b[0;34m\u001b[0m\u001b[0;34m\u001b[0m\u001b[0;34m\u001b[0m\u001b[0m\n\u001b[1;32m     12\u001b[0m         \u001b[0mLsub\u001b[0m \u001b[0;34m=\u001b[0m \u001b[0mextractLmatrix\u001b[0m\u001b[0;34m(\u001b[0m\u001b[0mLmatrix\u001b[0m\u001b[0;34m,\u001b[0m \u001b[0mdata_perturb_dict\u001b[0m\u001b[0;34m,\u001b[0m \u001b[0mperturb_with_onehot\u001b[0m\u001b[0;34m,\u001b[0m \u001b[0mbatch_prop\u001b[0m\u001b[0;34m)\u001b[0m\u001b[0;34m\u001b[0m\u001b[0;34m\u001b[0m\u001b[0m\n\u001b[0;32m---> 13\u001b[0;31m         \u001b[0mmseLoss\u001b[0m \u001b[0;34m=\u001b[0m \u001b[0mzLz_loss\u001b[0m\u001b[0;34m(\u001b[0m\u001b[0msample\u001b[0m\u001b[0;34m.\u001b[0m\u001b[0mfloat\u001b[0m\u001b[0;34m(\u001b[0m\u001b[0;34m)\u001b[0m\u001b[0;34m.\u001b[0m\u001b[0mto\u001b[0m\u001b[0;34m(\u001b[0m\u001b[0mdevice\u001b[0m\u001b[0;34m)\u001b[0m\u001b[0;34m,\u001b[0m \u001b[0mLsub\u001b[0m\u001b[0;34m.\u001b[0m\u001b[0mfloat\u001b[0m\u001b[0;34m(\u001b[0m\u001b[0;34m)\u001b[0m\u001b[0;34m.\u001b[0m\u001b[0mto\u001b[0m\u001b[0;34m(\u001b[0m\u001b[0mdevice\u001b[0m\u001b[0;34m)\u001b[0m\u001b[0;34m)\u001b[0m\u001b[0;34m\u001b[0m\u001b[0;34m\u001b[0m\u001b[0m\n\u001b[0m\u001b[1;32m     14\u001b[0m         \u001b[0mloss\u001b[0m \u001b[0;34m=\u001b[0m \u001b[0mvaeLoss\u001b[0m \u001b[0;34m+\u001b[0m \u001b[0mmseLoss\u001b[0m\u001b[0;34m\u001b[0m\u001b[0;34m\u001b[0m\u001b[0m\n\u001b[1;32m     15\u001b[0m \u001b[0;34m\u001b[0m\u001b[0m\n",
      "\u001b[0;32m<ipython-input-1-c21bb7bdb7f3>\u001b[0m in \u001b[0;36mzLz_loss\u001b[0;34m(Lmatrix, z)\u001b[0m\n\u001b[1;32m     32\u001b[0m \u001b[0;32mdef\u001b[0m \u001b[0mzLz_loss\u001b[0m\u001b[0;34m(\u001b[0m\u001b[0mLmatrix\u001b[0m\u001b[0;34m,\u001b[0m \u001b[0mz\u001b[0m\u001b[0;34m)\u001b[0m\u001b[0;34m:\u001b[0m\u001b[0;34m\u001b[0m\u001b[0;34m\u001b[0m\u001b[0m\n\u001b[1;32m     33\u001b[0m \u001b[0;34m\u001b[0m\u001b[0m\n\u001b[0;32m---> 34\u001b[0;31m         \u001b[0mzLz\u001b[0m \u001b[0;34m=\u001b[0m \u001b[0mtorch\u001b[0m\u001b[0;34m.\u001b[0m\u001b[0mmatmul\u001b[0m\u001b[0;34m(\u001b[0m\u001b[0mtorch\u001b[0m\u001b[0;34m.\u001b[0m\u001b[0mmatmul\u001b[0m\u001b[0;34m(\u001b[0m\u001b[0mtorch\u001b[0m\u001b[0;34m.\u001b[0m\u001b[0mtranspose\u001b[0m\u001b[0;34m(\u001b[0m\u001b[0mz\u001b[0m\u001b[0;34m,\u001b[0m \u001b[0;36m0\u001b[0m\u001b[0;34m,\u001b[0m \u001b[0;36m1\u001b[0m\u001b[0;34m)\u001b[0m\u001b[0;34m,\u001b[0m \u001b[0mLmatrix\u001b[0m\u001b[0;34m)\u001b[0m\u001b[0;34m,\u001b[0m \u001b[0mz\u001b[0m\u001b[0;34m)\u001b[0m\u001b[0;34m\u001b[0m\u001b[0;34m\u001b[0m\u001b[0m\n\u001b[0m\u001b[1;32m     35\u001b[0m         \u001b[0;32mreturn\u001b[0m \u001b[0mtorch\u001b[0m\u001b[0;34m.\u001b[0m\u001b[0mtrace\u001b[0m\u001b[0;34m(\u001b[0m\u001b[0mzLz\u001b[0m\u001b[0;34m)\u001b[0m\u001b[0;34m\u001b[0m\u001b[0;34m\u001b[0m\u001b[0m\n\u001b[1;32m     36\u001b[0m \u001b[0;34m\u001b[0m\u001b[0m\n",
      "\u001b[0;31mIndexError\u001b[0m: Dimension out of range (expected to be in range of [-1, 0], but got 1)"
     ]
    }
   ],
   "source": [
    "    \n",
    "for i in range(2):\n",
    "    model_c.train()\n",
    "    train_loss = 0\n",
    "    train_vae_loss = 0\n",
    "    for batch_idx, (batch_anno, batch_prop, indices) in enumerate(train_prop_loader):\n",
    "\n",
    "        batch_anno = batch_anno.float().to(device)\n",
    "        output, mean, logvar, sample = model_c(batch_anno)\n",
    "        vaeLoss = vae_loss(output, batch_anno, mean, logvar)\n",
    "\n",
    "        # zLz\n",
    "        Lsub = extractLmatrix(Lmatrix, data_perturb_dict, perturb_with_onehot, batch_prop)\n",
    "        mseLoss = zLz_loss(sample.float().to(device), Lsub.float().to(device))\n",
    "        loss = vaeLoss + mseLoss\n",
    "\n",
    "        optimizer.zero_grad()\n",
    "        loss.backward()\n",
    "        optimizer.step()\n",
    "        train_loss += vaeLoss.item() + mseLoss.item()\n",
    "\n",
    "        # update the vae alone\n",
    "        check = np.random.sample(1)[0]\n",
    "        if check > 0.5:\n",
    "            indices_vae_mb = random.sample(range(n_train), 2 * batch_size)\n",
    "\n",
    "            data_first = data_train[indices_vae_mb[:batch_size]].to(device)\n",
    "            data_second = data_train[indices_vae_mb[batch_size:]].to(device)\n",
    "            data_use = torch.logical_or(data_first, data_second).to(device, dtype = torch.float)\n",
    "\n",
    "        else:\n",
    "            indices_vae_mb = random.sample(range(n_train), batch_size)\n",
    "            data_use = data_train[indices_vae_mb].to(device, dtype = torch.float)\n",
    "\n",
    "        output, mean, logvar, sample = model_c(data_use)\n",
    "        vaeLoss = vae_loss(output, data_use, mean, logvar)\n",
    "\n",
    "        optimizer.zero_grad()\n",
    "        vaeLoss.backward()\n",
    "        optimizer.step()\n",
    "        train_vae_loss += vaeLoss.item()\n",
    "\n",
    "\n",
    "    train_loss /= n_vae_train \n",
    "    train_vae_loss /= n_vae_train \n",
    "\n",
    "    # validation\n",
    "    model_c.eval()\n",
    "    test_loss = 0\n",
    "    test_vae_loss = 0\n",
    "\n",
    "    with torch.no_grad():\n",
    "        for batch_idx, (batch_anno, batch_prop, indices) in enumerate(test_prop_loader):\n",
    "\n",
    "            batch_anno = batch_anno.float().to(device)\n",
    "            output, mean, logvar, sample = model_c(batch_anno)\n",
    "            vaeLoss = vae_loss(output, batch_anno, mean, logvar)\n",
    "\n",
    "            # zLz\n",
    "            Lsub = extractLmatrix(Lmatrix, data_perturb_dict, perturb_with_onehot, batch_prop)\n",
    "            mseLoss = zLz_loss(sample.float().to(device), Lsub.float().to(device))\n",
    "            loss = vaeLoss + mseLoss\n",
    "\n",
    "            test_loss += vaeLoss.item() + mseLoss.item()\n",
    "\n",
    "            # update the vae alone\n",
    "            check = np.random.sample(1)[0]\n",
    "            if check > 0.5:\n",
    "                indices_vae_mb = random.sample(range(n_test), 2 * batch_size)\n",
    "\n",
    "                data_first = data_test[indices_vae_mb[:batch_size]].to(device)\n",
    "                data_second = data_test[indices_vae_mb[batch_size:]].to(device)\n",
    "                data_use = torch.logical_or(data_first, data_second).to(device, dtype = torch.float)\n",
    "\n",
    "            else:\n",
    "                indices_vae_mb = random.sample(range(n_test), batch_size)\n",
    "                data_use = data_test[indices_vae_mb].to(device, dtype = torch.float)\n",
    "\n",
    "            output, mean, logvar, sample = model_c(data_use)\n",
    "            vaeLoss = vae_loss(output, data_use, mean, logvar)\n",
    "\n",
    "            test_vae_loss += vaeLoss.item()\n",
    "\n",
    "\n",
    "        test_loss /= n_vae_test \n",
    "        test_vae_loss /= n_vae_test \n"
   ]
  },
  {
   "cell_type": "code",
   "execution_count": 5,
   "metadata": {},
   "outputs": [
    {
     "data": {
      "text/plain": [
       "torch.Size([128])"
      ]
     },
     "execution_count": 5,
     "metadata": {},
     "output_type": "execute_result"
    }
   ],
   "source": [
    "batch_prop.shape"
   ]
  },
  {
   "cell_type": "code",
   "execution_count": 6,
   "metadata": {},
   "outputs": [
    {
     "data": {
      "text/plain": [
       "array(['TSC22D1/ctrl', 'KLF1/MAP2K6', 'CEBPE/RUNX1T1', ..., 'BCORL1/ctrl',\n",
       "       'ZBTB10/PTPN12', 'MAP4K3/ctrl'], dtype='<U15')"
      ]
     },
     "execution_count": 6,
     "metadata": {},
     "output_type": "execute_result"
    }
   ],
   "source": [
    "perturb_with_onehot"
   ]
  },
  {
   "cell_type": "code",
   "execution_count": 35,
   "metadata": {},
   "outputs": [],
   "source": [
    "indx = []\n",
    "for i in range(batch_prop.shape[0]):\n",
    "    indx.append(data_perturb_dict[perturb_with_onehot[batch_prop[i].item()]])\n",
    "a =  torch.tensor(Lmatrix[indx, indx])"
   ]
  },
  {
   "cell_type": "code",
   "execution_count": 43,
   "metadata": {},
   "outputs": [
    {
     "data": {
      "text/plain": [
       "array([0.98859354, 0.97993888, 0.97426424, 0.98987136, 0.98093844,\n",
       "       0.98970155, 0.98931772, 0.99064033, 0.98978231, 0.96967925,\n",
       "       0.98817571, 0.99072313, 0.98987136, 0.98121011, 0.98277658,\n",
       "       0.99033038, 0.99033652, 0.985343  , 0.98093844, 0.98867186,\n",
       "       0.99013547, 0.9854383 , 0.98975382, 0.98804888, 0.9495473 ,\n",
       "       0.98686578, 0.98508497, 0.98751507, 0.98970155, 0.96987928,\n",
       "       0.97893919, 0.99057309, 0.98651173, 0.99013547, 0.98985497,\n",
       "       0.98917957, 0.99025891, 0.97859384, 0.98669503, 0.98853852,\n",
       "       0.99033652, 0.98958274, 0.98732506, 0.98122388, 0.97071146,\n",
       "       0.97884669, 0.97300046, 0.98891099, 0.98621461, 0.98812911,\n",
       "       0.99045164, 0.97400222, 0.98987136, 0.98646116, 0.98108892,\n",
       "       0.98489509, 0.98121011, 0.98568861, 0.98952462, 0.98857076,\n",
       "       0.99046547, 0.98985497, 0.97800364, 0.9894357 , 0.98778632,\n",
       "       0.97249215, 0.98539144, 0.99033652, 0.97121298, 0.97800364,\n",
       "       0.98422507, 0.99045164, 0.97920558, 0.97136105, 0.98973374,\n",
       "       0.98456015, 0.98983756, 0.99013803, 0.98917957, 0.97823935,\n",
       "       0.96967925, 0.98978231, 0.97300046, 0.97338983, 0.9813415 ,\n",
       "       0.98387477, 0.98525442, 0.98447784, 0.97798732, 0.96706645,\n",
       "       0.98668458, 0.99081377, 0.92544481, 0.98234476, 0.98970155,\n",
       "       0.97798732, 0.98898799, 0.99033652, 0.98958274, 0.97256129,\n",
       "       0.97920558, 0.98690641, 0.98978231, 0.99064033, 0.98891099,\n",
       "       0.98508497, 0.98929303, 0.97414421, 0.99016953, 0.97859384,\n",
       "       0.96958972, 0.98891099, 0.98718146, 0.99069635, 0.98277658,\n",
       "       0.97400222, 0.98929303, 0.98929303, 0.92544481, 0.97920558,\n",
       "       0.97136105, 0.98258207, 0.98970155, 0.98438808, 0.97708573,\n",
       "       0.98952462, 0.9701165 , 0.98975382])"
      ]
     },
     "execution_count": 43,
     "metadata": {},
     "output_type": "execute_result"
    }
   ],
   "source": [
    "Lmatrix[indx, indx]"
   ]
  },
  {
   "cell_type": "code",
   "execution_count": 39,
   "metadata": {},
   "outputs": [
    {
     "data": {
      "text/plain": [
       "(128,)"
      ]
     },
     "execution_count": 39,
     "metadata": {},
     "output_type": "execute_result"
    }
   ],
   "source": [
    "Lmatrix[indx, indx].shape"
   ]
  },
  {
   "cell_type": "code",
   "execution_count": 37,
   "metadata": {},
   "outputs": [
    {
     "data": {
      "text/plain": [
       "torch.Size([128])"
      ]
     },
     "execution_count": 37,
     "metadata": {},
     "output_type": "execute_result"
    }
   ],
   "source": [
    "a.size()"
   ]
  },
  {
   "cell_type": "code",
   "execution_count": 11,
   "metadata": {},
   "outputs": [
    {
     "data": {
      "text/plain": [
       "'BAK1/ctrl'"
      ]
     },
     "execution_count": 11,
     "metadata": {},
     "output_type": "execute_result"
    }
   ],
   "source": [
    "perturb_with_onehot[batch_prop[0].item()]"
   ]
  },
  {
   "cell_type": "code",
   "execution_count": 13,
   "metadata": {},
   "outputs": [
    {
     "data": {
      "text/plain": [
       "'BAK1/ctrl'"
      ]
     },
     "execution_count": 13,
     "metadata": {},
     "output_type": "execute_result"
    }
   ],
   "source": [
    "perturb_with_onehot[batch_prop[0].item()]"
   ]
  },
  {
   "cell_type": "code",
   "execution_count": 15,
   "metadata": {},
   "outputs": [
    {
     "data": {
      "text/plain": [
       "25"
      ]
     },
     "execution_count": 15,
     "metadata": {},
     "output_type": "execute_result"
    }
   ],
   "source": [
    "data_perturb_dict[perturb_with_onehot[batch_prop[0].item()]]"
   ]
  },
  {
   "cell_type": "code",
   "execution_count": null,
   "metadata": {},
   "outputs": [],
   "source": []
  }
 ],
 "metadata": {
  "kernelspec": {
   "display_name": "Python 3",
   "language": "python",
   "name": "python3"
  },
  "language_info": {
   "codemirror_mode": {
    "name": "ipython",
    "version": 3
   },
   "file_extension": ".py",
   "mimetype": "text/x-python",
   "name": "python",
   "nbconvert_exporter": "python",
   "pygments_lexer": "ipython3",
   "version": "3.6.5"
  }
 },
 "nbformat": 4,
 "nbformat_minor": 2
}
