{
 "cells": [
  {
   "cell_type": "code",
   "execution_count": 1,
   "metadata": {},
   "outputs": [
    {
     "name": "stderr",
     "output_type": "stream",
     "text": [
      "/home/hengshi/.local/lib/python3.6/site-packages/tensorflow/python/framework/dtypes.py:516: FutureWarning: Passing (type, 1) or '1type' as a synonym of type is deprecated; in a future version of numpy, it will be understood as (type, (1,)) / '(1,)type'.\n",
      "  _np_qint8 = np.dtype([(\"qint8\", np.int8, 1)])\n",
      "/home/hengshi/.local/lib/python3.6/site-packages/tensorflow/python/framework/dtypes.py:517: FutureWarning: Passing (type, 1) or '1type' as a synonym of type is deprecated; in a future version of numpy, it will be understood as (type, (1,)) / '(1,)type'.\n",
      "  _np_quint8 = np.dtype([(\"quint8\", np.uint8, 1)])\n",
      "/home/hengshi/.local/lib/python3.6/site-packages/tensorflow/python/framework/dtypes.py:518: FutureWarning: Passing (type, 1) or '1type' as a synonym of type is deprecated; in a future version of numpy, it will be understood as (type, (1,)) / '(1,)type'.\n",
      "  _np_qint16 = np.dtype([(\"qint16\", np.int16, 1)])\n",
      "/home/hengshi/.local/lib/python3.6/site-packages/tensorflow/python/framework/dtypes.py:519: FutureWarning: Passing (type, 1) or '1type' as a synonym of type is deprecated; in a future version of numpy, it will be understood as (type, (1,)) / '(1,)type'.\n",
      "  _np_quint16 = np.dtype([(\"quint16\", np.uint16, 1)])\n",
      "/home/hengshi/.local/lib/python3.6/site-packages/tensorflow/python/framework/dtypes.py:520: FutureWarning: Passing (type, 1) or '1type' as a synonym of type is deprecated; in a future version of numpy, it will be understood as (type, (1,)) / '(1,)type'.\n",
      "  _np_qint32 = np.dtype([(\"qint32\", np.int32, 1)])\n",
      "/home/hengshi/.local/lib/python3.6/site-packages/tensorflow/python/framework/dtypes.py:525: FutureWarning: Passing (type, 1) or '1type' as a synonym of type is deprecated; in a future version of numpy, it will be understood as (type, (1,)) / '(1,)type'.\n",
      "  np_resource = np.dtype([(\"resource\", np.ubyte, 1)])\n",
      "/home/hengshi/.local/lib/python3.6/site-packages/tensorboard/compat/tensorflow_stub/dtypes.py:541: FutureWarning: Passing (type, 1) or '1type' as a synonym of type is deprecated; in a future version of numpy, it will be understood as (type, (1,)) / '(1,)type'.\n",
      "  _np_qint8 = np.dtype([(\"qint8\", np.int8, 1)])\n",
      "/home/hengshi/.local/lib/python3.6/site-packages/tensorboard/compat/tensorflow_stub/dtypes.py:542: FutureWarning: Passing (type, 1) or '1type' as a synonym of type is deprecated; in a future version of numpy, it will be understood as (type, (1,)) / '(1,)type'.\n",
      "  _np_quint8 = np.dtype([(\"quint8\", np.uint8, 1)])\n",
      "/home/hengshi/.local/lib/python3.6/site-packages/tensorboard/compat/tensorflow_stub/dtypes.py:543: FutureWarning: Passing (type, 1) or '1type' as a synonym of type is deprecated; in a future version of numpy, it will be understood as (type, (1,)) / '(1,)type'.\n",
      "  _np_qint16 = np.dtype([(\"qint16\", np.int16, 1)])\n",
      "/home/hengshi/.local/lib/python3.6/site-packages/tensorboard/compat/tensorflow_stub/dtypes.py:544: FutureWarning: Passing (type, 1) or '1type' as a synonym of type is deprecated; in a future version of numpy, it will be understood as (type, (1,)) / '(1,)type'.\n",
      "  _np_quint16 = np.dtype([(\"quint16\", np.uint16, 1)])\n",
      "/home/hengshi/.local/lib/python3.6/site-packages/tensorboard/compat/tensorflow_stub/dtypes.py:545: FutureWarning: Passing (type, 1) or '1type' as a synonym of type is deprecated; in a future version of numpy, it will be understood as (type, (1,)) / '(1,)type'.\n",
      "  _np_qint32 = np.dtype([(\"qint32\", np.int32, 1)])\n",
      "/home/hengshi/.local/lib/python3.6/site-packages/tensorboard/compat/tensorflow_stub/dtypes.py:550: FutureWarning: Passing (type, 1) or '1type' as a synonym of type is deprecated; in a future version of numpy, it will be understood as (type, (1,)) / '(1,)type'.\n",
      "  np_resource = np.dtype([(\"resource\", np.ubyte, 1)])\n",
      "Using TensorFlow backend.\n"
     ]
    }
   ],
   "source": [
    "import os\n",
    "os.environ['KERAS_BACKEND'] = 'tensorflow'\n",
    "import argparse\n",
    "import numpy as np\n",
    "import tensorflow as tf\n",
    "config = tf.ConfigProto()\n",
    "config.gpu_options.per_process_gpu_memory_fraction = 0.5\n",
    "config.gpu_options.allow_growth = True\n",
    "\n",
    "import yaml\n",
    "import time\n",
    "import os\n",
    "from keras import backend as K\n",
    "from keras.models import Model\n",
    "from keras.optimizers import SGD, Adam, RMSprop\n",
    "import hyperparameters\n",
    "import mol_utils as mu\n",
    "import mol_callbacks as mol_cb\n",
    "from keras.callbacks import CSVLogger\n",
    "from models import encoder_model, load_encoder\n",
    "from models import decoder_model, load_decoder\n",
    "from models import varLayer, load_varLayer\n",
    "from models import property_predictor_model, load_property_predictor\n",
    "from models import variational_layers, varLayer\n",
    "from functools import partial\n",
    "from keras.layers import Lambda"
   ]
  },
  {
   "cell_type": "code",
   "execution_count": 2,
   "metadata": {},
   "outputs": [],
   "source": [
    "from rdkit import Chem"
   ]
  },
  {
   "cell_type": "code",
   "execution_count": 2,
   "metadata": {},
   "outputs": [
    {
     "name": "stdout",
     "output_type": "stream",
     "text": [
      "Using hyper-parameters:\n",
      "name                      - zinc        \n",
      "MAX_LEN                   - 120         \n",
      "data_file                 - 250k_rndm_zinc_drugs_clean_3.csv\n",
      "char_file                 - zinc.json   \n",
      "encoder_weights_file      - zinc_encoder.h5\n",
      "decoder_weights_file      - zinc_decoder.h5\n",
      "varlayer_weights_file     - zinc_varlayer.h5\n",
      "test_idx_file             - test_idx.npy\n",
      "history_file              - history.csv \n",
      "checkpoint_path           - ./          \n",
      "do_prop_pred              - False       \n",
      "TRAIN_MODEL               - True        \n",
      "ENC_DEC_TEST              - False       \n",
      "PADDING                   - right       \n",
      "RAND_SEED                 - 42          \n",
      "epochs                    - 10          \n",
      "vae_annealer_start        - 29          \n",
      "dropout_rate_mid          - 0.08283292970479479\n",
      "anneal_sigmod_slope       - 0.5106654305791392\n",
      "recurrent_dim             - 488         \n",
      "batch_size                - 126         \n",
      "lr                        - 0.00039192162392520126\n",
      "hidden_dim                - 196         \n",
      "tgru_dropout              - 0.19617749608323892\n",
      "hg_growth_factor          - 1.2281884874932403\n",
      "middle_layer              - 1           \n",
      "momentum                  - 0.9717090063868801\n",
      "rest of parameters are set as default\n"
     ]
    }
   ],
   "source": [
    "params = hyperparameters.load_params(\"../models/zinc/exp.json\")"
   ]
  },
  {
   "cell_type": "code",
   "execution_count": 3,
   "metadata": {},
   "outputs": [],
   "source": [
    "MAX_LEN = params['MAX_LEN']\n",
    "\n",
    "CHARS = yaml.safe_load(open(\"../models/zinc/zinc.json\"))\n",
    "params['NCHARS'] = len(CHARS)\n",
    "NCHARS = len(CHARS)\n",
    "CHAR_INDICES = dict((c, i) for i, c in enumerate(CHARS))"
   ]
  },
  {
   "cell_type": "code",
   "execution_count": 5,
   "metadata": {},
   "outputs": [
    {
     "data": {
      "text/plain": [
       "dict_keys(['7', '6', 'o', ']', '3', 's', '(', '-', 'S', '/', 'B', '4', '[', ')', '#', 'I', 'l', 'O', 'H', 'c', '1', '@', '=', 'n', 'P', '8', 'C', '2', 'F', '5', 'r', 'N', '+', '\\\\', ' '])"
      ]
     },
     "execution_count": 5,
     "metadata": {},
     "output_type": "execute_result"
    }
   ],
   "source": [
    "CHAR_INDICES.keys()"
   ]
  },
  {
   "cell_type": "code",
   "execution_count": 1,
   "metadata": {},
   "outputs": [
    {
     "data": {
      "text/plain": [
       "'/nfs/turbo/umms-welchjd/hengshi/perturb_gan/chemical_vae-master_newTrain/chemvae_newTrain_train'"
      ]
     },
     "execution_count": 1,
     "metadata": {},
     "output_type": "execute_result"
    }
   ],
   "source": [
    "pwd"
   ]
  },
  {
   "cell_type": "code",
   "execution_count": 6,
   "metadata": {},
   "outputs": [
    {
     "data": {
      "text/plain": [
       "False"
      ]
     },
     "execution_count": 6,
     "metadata": {},
     "output_type": "execute_result"
    }
   ],
   "source": [
    "params['do_prop_pred'] and ('data_file' in params)"
   ]
  },
  {
   "cell_type": "code",
   "execution_count": 2,
   "metadata": {},
   "outputs": [],
   "source": [
    "import os"
   ]
  },
  {
   "cell_type": "code",
   "execution_count": 3,
   "metadata": {},
   "outputs": [],
   "source": [
    "import pandas as pd\n",
    "path_data = '/nfs/turbo/umms-welchjd/hengshi/GAN/data/sciPlex/sciPlex3/'\n",
    "data_188 = pd.read_csv(os.path.join(path_data, 'emb_named_chemvae_canonize.csv'))\n",
    "chem_188 = list(data_188['Structure_Canonize'])"
   ]
  },
  {
   "cell_type": "code",
   "execution_count": null,
   "metadata": {},
   "outputs": [],
   "source": [
    "data_188.head()"
   ]
  },
  {
   "cell_type": "code",
   "execution_count": 34,
   "metadata": {},
   "outputs": [
    {
     "data": {
      "text/plain": [
       "2"
      ]
     },
     "execution_count": 34,
     "metadata": {},
     "output_type": "execute_result"
    }
   ],
   "source": [
    "len([i for i in chem_188 if len(i) > 120])"
   ]
  },
  {
   "cell_type": "code",
   "execution_count": 8,
   "metadata": {},
   "outputs": [],
   "source": [
    "smiles = mu.load_smiles_and_data_df('../models/zinc/250k_rndm_zinc_drugs_clean_3.csv', MAX_LEN)"
   ]
  },
  {
   "cell_type": "code",
   "execution_count": 8,
   "metadata": {},
   "outputs": [
    {
     "data": {
      "text/plain": [
       "['CC(C)(C)c1ccc2occ(CC(=O)Nc3ccccc3F)c2c1',\n",
       " 'C[C@@H]1CC(Nc2cncc(-c3nncn3C)c2)C[C@@H](C)C1',\n",
       " 'N#Cc1ccc(-c2ccc(O[C@@H](C(=O)N3CCCC3)c3ccccc3)cc2)cc1',\n",
       " 'CCOC(=O)[C@@H]1CCCN(C(=O)c2nc(-c3ccc(C)cc3)n3c2CCCCC3)C1',\n",
       " 'N#CC1=C(SCC(=O)Nc2cccc(Cl)c2)N=C([O-])[C@H](C#N)C12CCCCC2',\n",
       " 'CC[NH+](CC)[C@](C)(CC)[C@H](O)c1cscc1Br',\n",
       " 'COc1ccc(C(=O)N(C)[C@@H](C)C/C(N)=N/O)cc1O',\n",
       " 'O=C(Nc1nc[nH]n1)c1cccnc1Nc1cccc(F)c1',\n",
       " 'Cc1c(/C=N/c2cc(Br)ccn2)c(O)n2c(nc3ccccc32)c1C#N',\n",
       " 'C[C@@H]1CN(C(=O)c2cc(Br)cn2C)CC[C@H]1[NH3+]',\n",
       " 'CCOc1ccc(OCC)c([C@H]2C(C#N)=C(N)N(c3ccccc3C(F)(F)F)C3=C2C(=O)CCC3)c1',\n",
       " 'Cc1ccc2nc(S[C@H](C)C(=O)NC3CCC(C)CC3)n(C)c(=O)c2c1',\n",
       " 'O=C(N1CCc2c(F)ccc(F)c2C1)C1(O)Cc2ccccc2C1',\n",
       " 'Cc1ccccc1C(=O)N1CCC2(CC1)C[C@H](c1ccccc1)C(=O)N2C',\n",
       " 'CCCc1cc(NC(=O)CN2C(=O)NC3(CCC(C)CC3)C2=O)n(C)n1',\n",
       " 'CC(C)Cc1nc(SCC(=O)NC[C@@H]2CCCO2)c2c(=O)n(C)c(=O)n(C)c2n1',\n",
       " 'Cc1ccc(CNC(=O)c2ccccc2NC(=O)[C@@H]2CC(=O)N(c3ccc(C)cc3)C2)cc1',\n",
       " 'CCCCC(=O)NC(=S)Nc1ccccc1C(=O)N1CCOCC1',\n",
       " 'Cc1c(NC(=O)CSc2nc3sc4c(c3c(=O)[nH]2)CCCC4)c(=O)n(-c2ccccc2)n1C',\n",
       " 'CC(C)[C@@H](Oc1cccc(Cl)c1)C(=O)N1CCC(n2cccn2)CC1',\n",
       " 'CCN(CC)C(=O)C[C@@H](C)[NH2+][C@H](C)c1cccc(F)c1F',\n",
       " 'Cc1nc2c(c(Nc3ncc(C)s3)n1)CCN(C(=O)CCc1ccccc1)C2',\n",
       " 'O=C(NCCNC(=O)N1C[C@H]2CC=CC[C@@H]2C1)c1cccnc1',\n",
       " 'O=c1n(CCO)c2ccccc2n1CCO',\n",
       " 'COC(=O)Cc1csc(NC(=O)Cc2coc3cc(C)ccc23)n1',\n",
       " 'Cc1ccc(N2CC[C@@H](NS(=O)(=O)c3ccccc3C)C2=O)cc1C',\n",
       " 'CC[C@H](C)C[C@@H](C)NC(=O)N1CCN(CC(=O)NC2CC2)CC1',\n",
       " 'CC(=O)Nc1c2n(c3ccccc13)C[C@](C)(C(=O)NC1CCCCC1)N(C1CCCCC1)C2=O',\n",
       " 'N#Cc1ccncc1NC[C@@H]1C[C@@]12CCc1ccccc12',\n",
       " 'Cc1cccn2c(=O)c(C(=O)NC[C@H]3CCO[C@@H]3C(C)C)cnc12',\n",
       " 'CNC(=O)c1ccc(/C=C/C(=O)Nc2c(C)cc(C)nc2Cl)cc1',\n",
       " 'CC1=C(CNC(=O)c2cc(-c3ccccc3)nc3c2CNN3C(C)C)CN=N1',\n",
       " 'C[C@@H](NC(=O)COC(=O)/C=C/c1ccc(Cl)cc1)c1ccccc1',\n",
       " 'CCc1ccc(N(Cc2ccc(C)s2)C(=O)c2ccc(=O)n(C)n2)cc1',\n",
       " 'CCOC(=O)c1nnc2ccccc2c1N1CC[C@@H]([NH+](CC)CC)C1',\n",
       " 'Cc1ccc(C#N)cc1S(=O)(=O)NCc1ccnc(OC(C)(C)C)c1',\n",
       " 'O=C(O[C@H]1CCOC1)C1(c2ccc(Cl)c(Cl)c2)CCC1',\n",
       " 'CCC[NH2+][C@@H]1COC[C@H]1C(=O)NCc1cscc1C',\n",
       " 'O=C(NCc1nccc2ccccc12)c1ccc[nH]c1=O',\n",
       " 'CC(=O)c1ccc(S(=O)(=O)N2CCCC[C@H]2C)cc1',\n",
       " 'O=[N+]([O-])c1c(Nc2cccc3ncccc23)ncnc1N1CCN(c2cccc(Cl)c2)CC1',\n",
       " 'O=C(CCCO)Nc1ccc(F)cc1F',\n",
       " 'NC(=O)CCOc1ccc(NC(=O)C[C@H]2CCc3ccccc32)cc1',\n",
       " 'COc1cc(C)ccc1OCC(=O)Nc1nnc(C)s1',\n",
       " 'CC(=O)c1c(O)cccc1COc1ccccc1',\n",
       " 'CCn1cc(S(=O)(=O)N2CCCCC[C@@H]2c2cc(-c3ccc(F)cc3)no2)cn1',\n",
       " 'COC(=O)[C@](NC(=O)c1cccc(Cl)c1)(Nc1ccc(Br)c[nH+]1)C(F)(F)F',\n",
       " 'Cc1[nH]c2ccc(C(=O)Nc3cc(C(C)(C)C)nn3-c3ncccn3)cc2c1C',\n",
       " 'Cc1noc(C)c1C[C@H](C)C(=O)N[C@@H](C)C1CCCCC1',\n",
       " 'CCn1cc(C(=O)N[C@H]2CC(=O)N(C)C2)c(C(C)C)n1',\n",
       " 'COc1cccc(-c2cncc3ccccc23)c1C(=O)N(C(C)C)C(C)C',\n",
       " 'COc1ccc([C@@H](C)NC(=O)Cc2cccc3ccccc23)cc1',\n",
       " 'O=C1C[C@H](c2nc(-c3cccnc3)no2)CN1c1cccc(Cl)c1',\n",
       " 'C[C@H]1CCCN(c2ccc(C(=O)Nc3ccc(N4CCOCC4)cc3)cc2[N+](=O)[O-])C1',\n",
       " 'C=CCN(C(=O)C/C=C/c1ccc(C)cc1)[C@@H]1CCS(=O)(=O)C1',\n",
       " 'O=C(CSc1nnc(-c2cccc([N+](=O)[O-])c2)o1)Nc1nncs1',\n",
       " 'CN(CCc1ccc(F)cc1)c1cc(Br)cc(F)c1C(N)=O',\n",
       " 'COc1ccccc1NC(=O)CSc1ccc(-c2ccccc2OC)nn1',\n",
       " 'Cc1occc1C(=O)/C(C#N)=C\\\\c1cccc(C(F)(F)F)c1',\n",
       " 'COc1ccc2c(c1)N(C(=O)CCSc1ccccn1)C[C@@H](C)O2',\n",
       " 'CC[C@@H](NC(=O)[C@H](C)n1cccn1)c1ccc(C)c(F)c1',\n",
       " 'CCC[C@]1(C(=O)N[C@@H]2CONC2=O)CC[NH2+]C1',\n",
       " 'O=C(c1cc2cc([N+](=O)[O-])ccc2oc1=O)N1CCN(Cc2ccccc2)CC1',\n",
       " 'CCn1c(CC2CC[NH2+]CC2)nn(CCO)c1=O',\n",
       " 'C=CCn1c(S[C@H](C)C(=O)N2CCC(C)CC2)nnc1-c1ccc(Cl)cc1',\n",
       " 'CCO[C@H]1C(=O)O[C@H]([C@@H](O)CO)C1=O',\n",
       " 'Cc1ccc(-c2nnc(C[NH+](CCO)[C@H]3CCc4ccccc43)o2)cc1',\n",
       " 'Cc1cc(-n2c(C)cc(C[NH2+][C@H](C)c3ccc(F)c(F)c3)c2C)no1',\n",
       " 'C[C@@H](NC(=O)Nc1ccn(-c2ncccc2Cl)n1)[C@@H]1CCCO1',\n",
       " 'COc1cc(S(=O)(=O)N2CCN=C2Cc2ccccc2)ccc1Cl',\n",
       " 'COc1ccc(OC)c(/C=C2\\\\Oc3cc(OC(=O)c4ccncc4)cc(C)c3C2=O)c1',\n",
       " 'COc1ccc([C@@H](NC(=O)Nc2cc(C)ccc2Cl)C2CCOCC2)cc1',\n",
       " 'C[C@H](Cc1cccs1)N(C)C[C@@H]1CCCC[C@@H]1[NH3+]',\n",
       " 'C[C@H]([NH3+])c1nc2cc(C(F)(F)F)ccc2n1C',\n",
       " 'COc1cccc(CN2CCc3nnc(CCc4ccccc4)n3CC2)c1',\n",
       " 'O=C(N[C@H]1CCS(=O)(=O)C1)C1CC[NH2+]CC1',\n",
       " 'COCC[C@H](C)C(=O)N[C@@H](C)COC',\n",
       " 'Cc1cc(N(C)C)ccc1NC(=O)c1ccc(CN2CC[NH+](C)CC2)cc1',\n",
       " 'C[C@H](CNC(=O)[C@H]1CC[NH2+][C@@H]1C)C[NH+]1CCCC1',\n",
       " 'CN(C)c1ccc([C@H](CNC(=O)C(=O)Nc2ccccc2C#N)N2CC[NH+](C)CC2)cc1',\n",
       " 'CCOc1ncnc(S(=O)(=O)CC)c1N',\n",
       " 'CC[C@@H](NC(=O)N(C)Cc1ccc(-c2ccccc2)cc1)c1ccncc1',\n",
       " 'O=C(Nc1ccc(-c2nc3ccccc3o2)cc1)[C@H]1CCCN1S(=O)(=O)c1ccc(F)cc1',\n",
       " 'CC[C@@H](C)CNc1nc2ccc(Cl)cc2s1',\n",
       " 'Cc1cc(C)c2nc(N3CCN(C(=O)[C@@H]4CCCCN4S(C)(=O)=O)CC3)sc2c1',\n",
       " 'CCc1nnc(-c2cc3ccccc3n2CC(=O)NC(C)(C)C)o1',\n",
       " 'CCc1ccc(NC(=O)c2nn(-c3ccc(CC)cc3)ccc2=O)cc1',\n",
       " 'Cc1ccc(C(=O)N[C@H]2CCC[NH2+][C@H]2C)cc1F',\n",
       " 'C[C@H](OC(=O)c1nc(C2CC2)n2ccccc12)c1cnc2ccccc2c1',\n",
       " 'CCCCOc1ccccc1C[C@@H]([NH3+])C(=O)[O-]',\n",
       " 'CCC[C@@H]1CN(C(=O)C(=O)Nc2ccc(C)nc2Cl)CCO1',\n",
       " 'C[C@H]1C(=O)N(c2ccc3c(c2)CCC3)CCN1C(=O)c1ccc(Cl)c(Cl)c1',\n",
       " 'COC(=O)C1(NC(=O)[C@H]2C[C@H]2c2c(F)cccc2F)CCSCC1',\n",
       " 'N#CC1(NC(=O)COc2cccc(Cl)c2)CCCC1',\n",
       " 'COC1CC[NH+](CCNc2nccn(C)c2=O)CC1',\n",
       " 'C=CCN(Cc1cccc([N+](=O)[O-])c1)C(=O)Nc1cc(OC)ccc1Cl',\n",
       " 'Cc1cc(Cl)ccc1OCC(=O)N/N=C/c1ccccn1',\n",
       " 'O=C1NC(=S)NC(=O)C1=CNc1ccc([N+](=O)[O-])cc1O',\n",
       " 'Cc1c(C(=O)N2CCOCC2)oc2c1-c1nn(CC(=O)NCc3ccco3)cc1CC2',\n",
       " 'CCc1ccc(CNC(=O)c2ccc(-c3nccnc3N3CCCCC3)cc2)cc1',\n",
       " 'COc1ccc([C@H]2C[C@@H](C(F)(F)F)n3nc(C(=O)NC4CCCCC4)cc3N2)cc1OC',\n",
       " 'CCCc1cc(C(=O)NNC(=O)c2cccc(Br)c2)[nH]n1',\n",
       " 'O=[N+]([O-])c1c(Nc2ccc(F)c(F)c2)ncnc1Oc1cccc2cccnc12',\n",
       " 'CC(C)(C)n1ncc2c1CCC[C@H]2NC(=O)CSc1nc2ccccc2o1',\n",
       " 'Cc1ccc([C@@H](C)NC(=O)N[C@@H](CCO)c2cccs2)cc1',\n",
       " 'CCN(CC)S(=O)(=O)c1ccc2nc(-c3ccncc3)cc(C(=O)[O-])c2c1',\n",
       " 'CCCN(CC)c1cc[nH+]c(C(=O)[O-])c1',\n",
       " 'Cc1ccccc1N1C(=O)C[C@H]([NH+](C2CCCCC2)C2CCCCC2)C1=O',\n",
       " 'CS(=O)(=O)[C@H]1O[C@H]1c1ccc(Cl)cc1Cl',\n",
       " 'C[C@H](CSc1ccc(C(=O)N(C)C)cn1)C(=O)[O-]',\n",
       " 'CCOC(=O)[C@H]1C=C(C#N)O[C@@H](c2ccc(C)cc2)C1',\n",
       " 'CCC[NH2+]C1CCC(O)(Cc2nc(C)cs2)CC1',\n",
       " 'O=C1c2ccccc2N[C@H](CSC2=NC=NC3=NC=N[C@@H]32)N1c1ccc(Cl)cc1',\n",
       " 'CCc1nc2ccccc2c(C(=O)NCc2ccc(OC)c(C(=O)OC)c2)c1C',\n",
       " 'Cc1nn(-c2nncc(-c3ccc(Cl)cc3)n2)c2c1[C@H](c1ccccc1)CC(=O)N2',\n",
       " 'CC(C)NC(=O)Nc1cccc(C(=O)N(C)Cc2nnc(C3CC3)n2C)c1',\n",
       " 'Cc1nnccc1C(=O)N[C@H](C)c1ccc(Cl)s1',\n",
       " 'O=C(NCCCc1nc(-c2ccc(Br)o2)no1)C1CC1',\n",
       " 'CCOc1cccc(NC(=O)CCc2ccc(N)cc2)c1',\n",
       " 'COc1ccc(/C=C2/SC(=O)N(CC(=O)Nc3ccc(F)cc3)C2=O)cc1OC',\n",
       " 'CC(C)N(C)C(=O)[C@H]1CSCN1C(=O)/C=C/SCc1ccco1',\n",
       " 'CCC1(CC)[C@@H](NC(=O)Nc2ccc(C(=O)NC)cc2)[C@H](C)[C@@H]1OC',\n",
       " 'Cc1ccc2ncc(C(=O)Nc3ncccc3OCc3ccncc3)n2c1',\n",
       " 'N#Cc1ccnc(N2CCC([NH2+]C[C@@H]3CCCO3)CC2)c1',\n",
       " 'O=C(Cn1nnn(-c2cccs2)c1=O)OC1CCCCC1',\n",
       " 'COc1cccc(COc2ccc(OC)cc2CCl)c1',\n",
       " 'CC[C@H](NC(=O)NCc1c(C)noc1C)c1ccc(OC)cc1',\n",
       " 'CCc1c(C(=O)Nc2ccc3c(c2)NC(=O)CS3)[nH]c(C)c1C(C)=O',\n",
       " 'CSc1ccc(/C=c2\\\\sc3ncnn3c2=O)cc1',\n",
       " 'COc1ccc(C(=O)/C=C(\\\\C)Nc2ccc(F)cc2F)cc1',\n",
       " 'O=C(C=C1CCSCC1)N[C@@H]1CCC[C@H]1Cc1ccccc1',\n",
       " 'C[C@@H](Sc1nc(/C=C/c2cccs2)n[nH]1)C(=O)N1CCOCC1',\n",
       " 'Cc1cccc(C(=O)N[C@@H](C(=O)N2CCC[C@@H](C)C2)C(C)C)c1',\n",
       " 'COC(=O)[C@@H](C)Sc1nnc(Nc2cccc(Br)c2)s1',\n",
       " 'Cc1cnc(C(=O)Nc2ccc(N(C)C3CC[NH+](C)CC3)cc2)cn1',\n",
       " 'CC(=O)Nc1nc2ccc(NC(=O)NCc3ccccc3)cc2s1',\n",
       " 'C=CCN1C(=O)/C(=C/c2ccccc2F)S/C1=N\\\\S(=O)(=O)c1cccs1',\n",
       " 'CC[C@H]1CC(=O)N(Cc2ccccc2C#CCCO)C1',\n",
       " 'COc1ccc(F)cc1C(=O)Nc1nccs1',\n",
       " 'CC[C@@H](CC(=O)NC1(C(=O)OC)CCSCC1)c1ccccc1',\n",
       " 'Cc1ccc(C)c(-n2c(SCCCCCO)nc3ccccc3c2=O)c1',\n",
       " 'CC[C@@H](C)[C@@H]([NH3+])c1ccc(Cl)s1',\n",
       " 'COc1cccc([C@@H](C)[NH2+]CCOc2ncccc2Cl)c1',\n",
       " 'CC[C@@H]1CCCCN1C(=O)NC1CCN(C(=O)OC(C)(C)C)CC1',\n",
       " 'CCOc1cccc(NC(=O)NCc2ccc(N3CCSCC3)cc2)c1',\n",
       " 'Cc1cccc(NC(=O)CN2CCN(c3ccc4c(c3)OCCO4)C2=O)n1',\n",
       " 'C=C(C)C(=O)N[C@H](C)c1nc2ccccc2n1CCC(=O)N1CCCCCC1',\n",
       " 'CCOC[C@H]1CC[NH+](Cc2ccc(-c3nc4ccccc4s3)o2)C1',\n",
       " 'CCOC(=O)[C@]1(Cc2cccc(Cl)c2)CCCN(C(=O)c2ccnn2C)C1',\n",
       " 'Cc1ccc([N+](=O)[O-])cc1NC(=O)C(=O)N1CC[C@H]([NH+]2CCCC2)C1',\n",
       " 'CCOCCCNC(=O)N[C@@H]1CCC[C@@H](CC)C1',\n",
       " 'O=C(Cc1cccc(F)c1F)Nc1cccc(Br)n1',\n",
       " 'COc1ccccc1NC(=O)[C@@H]1CCCN(C(=O)Nc2cccs2)C1',\n",
       " 'C[C@H]1CCC[C@](C#N)([C@]2(O)CCCCC2(C)C)C1',\n",
       " 'O=C(NCc1ccc([N+]2=CCCC2)cc1)NC1(c2ccc(Cl)cc2)CC1',\n",
       " 'CCCC(=O)N[C@@H]1CCC[NH+](Cc2ncccc2C)C1',\n",
       " 'O=C(NCc1cccs1)C1(c2cccc(Cl)c2)CCC1',\n",
       " 'C[C@H]1CCC[C@H](NC(=O)[C@@H](C)Sc2ncn[nH]2)[C@@H]1C',\n",
       " 'COc1ccc([C@@H]([NH2+]Cc2ccc(Cl)nc2)c2ccc(F)cc2)cc1',\n",
       " 'COc1cc(NC(=O)[C@H](C)Sc2ccccc2Cl)cc(OC)c1',\n",
       " 'CCN1CCC(=NNC(=O)c2ccccc2)CC1',\n",
       " 'CCCOc1ccc(Br)cc1C[NH+]1CCC([C@@H](C)O)CC1',\n",
       " 'Cc1cc2n(C[C@H](O)CO[C@H](c3ccccc3)c3ccccc3C)c(=O)c3ccccc3n2n1',\n",
       " 'CCc1ncc(CN(C)C(=O)Nc2c(C)ccc([N+](=O)[O-])c2C)s1',\n",
       " 'c1ccc2nc(NCCCc3nc4ccccc4[nH]3)cnc2c1',\n",
       " 'Cc1c([C@H](C)[NH2+]Cc2cccn2C)cnn1C',\n",
       " 'CC(=O)N[C@@H](C(=O)NC1COC1)C(C)C',\n",
       " 'O=C(Nc1ccccc1F)c1cc2ccccc2c2cccnc12',\n",
       " 'Cc1ccccc1N1C(=O)/C(=C/c2cccn2-c2cccc([N+](=O)[O-])c2)C([O-])=NC1=S',\n",
       " 'COCCN1C[C@H](C(=O)N(Cc2cccc(Cl)c2)C(C)C)CC1=O',\n",
       " 'COc1ccc(NC(=O)N2CCN(C(=O)Cc3csc4ccccc34)CC2)cc1OC',\n",
       " 'C#CCN(C[C@H]1CCCO1)C(=O)N[C@@H](C)c1cccc([N+](=O)[O-])c1',\n",
       " 'Cc1cccc(C2=CCN(C(=O)Nc3ccc(C(N)=O)c(Cl)c3)CC2)c1',\n",
       " 'COCCCN1C(=O)c2ccc(C(=O)Nc3nc(-c4ccc(C)cc4)cs3)cc2C1=O',\n",
       " 'O=S(=O)(Nc1ccc(N2CCCS2(=O)=O)cc1)c1ccc(F)c(Cl)c1',\n",
       " 'O=C1/C(=C/c2ccccc2)Oc2c1ccc1c2CN(Cc2cccs2)CO1',\n",
       " 'CC[C@@H](C)[C@@H](NC(=O)c1cccc(F)c1)C(=O)N=c1[nH]c2ccccc2[nH]1',\n",
       " 'Cc1c(F)cc(N)cc1S(=O)(=O)N[C@@H](C)C1CC1',\n",
       " 'Cc1ccc(Cn2ncc3c(N)ncnc32)cc1',\n",
       " 'CCOC(=O)C(C)(C)c1nc(-c2ccccc2)no1',\n",
       " 'CCOC(=O)c1sc(/C=C/c2nc3c(s2)CCC3)nc1C',\n",
       " 'C[C@@H]1CC[C@@H]([NH2+]C2CCC(NS(C)(=O)=O)CC2)c2ccccc21',\n",
       " 'CN(C)S(=O)(=O)c1ccc(C(=O)N(C(=O)N2CCCCC2)c2ccccc2)cc1',\n",
       " 'CC[NH2+][C@@H](CC)c1ccccc1OCc1cccc(F)c1',\n",
       " 'C=CCOC(=O)C1=C(C)N=C2S[C@H](C)C(=O)N2[C@H]1c1ccc(F)cc1',\n",
       " 'CCC[NH2+][C@]1(C(=O)OCC)CC[C@H](n2cc(Cl)c(C)n2)C1',\n",
       " 'Cc1cc(NC(=O)CSc2nnc3c4ccccc4n(C)c3n2)ccc1Br',\n",
       " 'CCOC(=O)c1sc(NC(=O)c2ccc(-n3c(C)nc4ccccc4c3=O)cc2)cc1C',\n",
       " 'CC#CCC(=O)C1([NH+](CC)CC)CCCC1',\n",
       " 'O=C(NCCCc1ccccc1)C1CCN(C(=O)[C@@H]2CC(=O)N(c3ccccc3)C2)CC1',\n",
       " 'O=Cc1ccc(OCc2ccn(-c3cccc(F)c3)n2)cc1',\n",
       " 'Clc1ccccc1Cn1ccnc1',\n",
       " 'Cc1[nH]c(=O)c(C(=O)N2CCN(c3ccccc3)C(=O)C2)c(C)c1C',\n",
       " 'C[C@@H](NC(=O)NC[C@H]1CCCN(c2ncccn2)C1)C1CCOCC1',\n",
       " 'O=C(NCCS(=O)(=O)c1ccccc1)N1CCC[C@@H]2CCC[C@@H]21',\n",
       " 'Cc1ccc(-c2cc(NC(=O)C(C)C)c(=O)n(CC(=O)Nc3cccc(C)c3)n2)cc1',\n",
       " 'Cc1ccc(S(=O)(=O)N2CCN(C(=O)[C@H]3CCCC[C@@H]3C(=O)[O-])CC2)cc1C',\n",
       " 'CCc1ccc(-c2nc(C(=O)N3CCO[C@H](CC)C3)cs2)cc1',\n",
       " 'Cc1cc(C)cc(OCC(C)(C)C[NH2+]C2CC2)c1',\n",
       " 'CCOC(=O)[C@H](F)[C@@]1(O)CCC[NH+](C(C)C)CC1',\n",
       " 'CCn1cc(/C=C/C(=O)c2ccc3ccccc3c2)cn1',\n",
       " 'CCC(CC)C(=O)Nc1cnn(-c2ccccc2F)c1',\n",
       " 'O=C1O[C@H](C(=O)Nc2ccnc3ccnn23)Cc2ccccc21',\n",
       " 'COCCn1nnnc1[C@@H](C(C)C)N1CCSCC1',\n",
       " 'O=C(NCCNS(=O)(=O)c1cccc(Cl)c1F)c1cccnc1',\n",
       " 'Cc1ccc(CNC(=O)NCc2nnc3n2CCC3)s1',\n",
       " 'C/C=C/C[C@]1(C(=O)[O-])CCN(C(=O)OC(C)(C)C)C1',\n",
       " 'O=C(N[C@@H](CO)c1ccco1)c1cc(Cl)ccc1OC1CCCC1',\n",
       " 'Cc1cc(N(C)C)ccc1NC(=O)c1c[nH]c2nccc(Cl)c12',\n",
       " 'CCOC(=O)c1cccc(NC(=O)c2cn[nH]c2C)c1',\n",
       " 'CCC(CC)[S@](=O)CCC(=O)[O-]',\n",
       " 'COCc1ccc(C(=O)N(C)Cc2ccc(Cl)s2)cc1',\n",
       " 'O=C(CCc1nc2ccccc2c(=O)[nH]1)Nc1cc(Cl)c(Cl)cc1Cl',\n",
       " 'CC[C@@H](C)NC(=O)c1ccc2c(c1)CCCN2S(C)(=O)=O',\n",
       " 'COc1ccc(C)cc1-n1nnnc1SCC(=O)Nc1cc(C)cc(C)c1',\n",
       " 'C[C@H](NC(=O)Cc1ccc[nH]1)C(=O)N1CCCC[C@H]1C',\n",
       " 'CCOC(=O)[C@H]1CCCN(C(=O)c2cc(C(C)C)n(C)n2)C1',\n",
       " 'C[C@H]([NH2+]Cc1nc(Cc2ccccc2)no1)[C@@H](C)n1cccn1',\n",
       " 'c1cc(CN2CC[NH+](Cc3ccc4c(c3)OCCO4)CC2)no1',\n",
       " 'CCCCNC(=O)CCc1c(C)nc2c3ccccc3nn2c1C',\n",
       " 'O=C(C[C@@H]1C[NH2+]CCO1)N[C@H]1C=CS(=O)(=O)C1',\n",
       " 'C[C@@H]1CCO[C@@H]1C(=O)N1CC[C@H](C(N)=O)c2ccccc21',\n",
       " 'CCC[NH2+][C@H](Cc1nn(C)c2ccccc12)c1ncc[nH]1',\n",
       " 'CC(C)c1noc(-c2cc[nH+]c(N3CCN(C(=O)[C@H]4C[C@H]4C)CC3)c2)n1',\n",
       " 'O=C(NCc1cccnc1)NCc1ccnc(OCC(F)F)c1',\n",
       " 'C[C@@H](NC(=O)N1CCCCCCC1)[C@@H]1CCCO1',\n",
       " 'COc1ccc([C@H]2C(C(=O)NCc3ccccc3)=C(C)Nc3ncnn32)cc1OC',\n",
       " 'Cc1cc(=O)n2c(n1)SC[C@@H]2CC(=O)NCCC(C)C',\n",
       " 'CC(C)C1=CN=N[C@H]1[C@H]1CCC[NH+](C[C@@H](C)Cc2ccc3c(c2)OCO3)C1',\n",
       " 'COc1cc(CNC(=O)c2occc2Br)ccn1',\n",
       " 'Cc1cccc(COc2ccc(Br)cc2/C=C2\\\\SC(=S)NC2=O)c1',\n",
       " 'O=C(N[C@@H]1CCO[C@@H]1c1ccc(Cl)c(F)c1)[C@H]1Cc2ccccc2O1',\n",
       " 'Cc1ccc([C@]2([NH3+])CC[C@@H]2C)cc1',\n",
       " 'O=C(CNC(=O)c1ccco1)OCC(=O)c1ccc2ccccc2c1',\n",
       " 'O=C(c1cc2c(F)cccc2[nH]1)N(C[C@@H]1CCCO1)c1ccncc1',\n",
       " 'Cc1cc(C)c(NC(=O)c2cc3ccccc3n2C)c(C)c1',\n",
       " 'CSc1ccccc1NC(=O)N[C@@H](CO)c1ccc(Cl)cc1',\n",
       " 'Cc1cc(Br)ccc1CNC(=O)C1CC=CC1',\n",
       " 'COc1ccc(CN/C(C)=C2/C(=O)N(c3ccc(OC)cc3)N=C2C)cc1',\n",
       " 'O=C(COC(=O)C1(c2ccccc2F)CCCC1)N1CCOCC1',\n",
       " 'CC1(C)C(=O)NCC[NH+]1Cc1ccc(OCC(F)F)cc1',\n",
       " 'Cc1ccc([N+](=O)[O-])cc1C(=O)Nc1ccc(C(=O)NC(C)C)cc1',\n",
       " 'C[C@@H]([C@@H](O)c1ccc2ncnn2c1)[N+](=O)[O-]',\n",
       " 'C[C@H](Oc1ccc(Cl)c(Cl)c1)C(=O)NC[C@H]1CCC[C@@H]1O',\n",
       " 'COC[C@H]1CCC[NH+](Cc2cc(C)n(Cc3ccco3)c2C)C1',\n",
       " 'Cc1ccc([C@H](C)NC(=O)CN(C)C(=O)OC(C)(C)C)cc1F',\n",
       " 'CC(=O)NCCC(=O)N1CCC[C@@H](C)C1',\n",
       " 'COc1ccc(N2CCn3c2nn(CC(N)=O)c(=O)c3=O)cc1',\n",
       " 'ClC(Cl)(Cl)c1nonc1C(Cl)(Cl)Cl',\n",
       " 'CCc1sc(C(=O)N2CCN([C@@H](C(N)=O)c3ccccc3)CC2)cc1C',\n",
       " 'C[NH+](C)Cc1cc(NC(=O)CCCC(=O)N2CCCCCC2)[nH]n1',\n",
       " 'C[C@@H](Nc1ccc(COC(C)(C)C)cc1)c1ccc(C#N)cc1',\n",
       " 'NC(=O)c1ccc(NC(=O)c2cccn(Cc3ccc(F)cc3)c2=O)cc1',\n",
       " 'Cc1cc(C(=O)N2CC[C@H](C)C[C@H]2C)c2c(C)nn(C)c2n1',\n",
       " 'Cc1c(C(=O)N2CCCC2)oc2c1-c1nn(CC(=O)N3C[C@@H](C)C[C@@H](C)C3)cc1CC2',\n",
       " 'Cc1cc(C)cc(NC(=O)CC(C)C)c1',\n",
       " 'COc1cc(OC)cc([C@H]2CC[NH+](CCC(F)(F)F)C2)c1',\n",
       " 'CCn1ccnc(N2CCCC[C@@H](N3CC[NH+](C)CC3)C2)c1=O',\n",
       " 'C[C@@H]1CCC[C@](O)(c2ccc(Cl)s2)CC1',\n",
       " 'CCOC(=O)C[C@H](C)CNC(=O)C(=O)N1CCc2ccc(C)cc21',\n",
       " 'COc1ccccc1C[NH+]1CCC[C@H](N2CCCC2=O)C1',\n",
       " 'CCNc1ccc2c(OC)ccc(F)c2n1',\n",
       " 'Oc1ccc(C2[NH+](Cc3ccccc3)CC[NH+]2Cc2ccccc2)c(O)c1',\n",
       " 'Fc1ccc([C@@H]2C[C@@H](c3ccc(Br)cc3)Nc3ncnn32)cc1Br',\n",
       " 'COc1ccc(O)c(CNC2CC[NH+](Cc3ccccc3Cl)CC2)c1',\n",
       " 'Cc1ccc(NCc2cccc(C(=O)NCc3ccco3)c2)c(F)c1',\n",
       " 'Cc1c(C(=O)N(C)[C@@H]2CCN(c3ccccc3Cl)C2=O)cnn1C',\n",
       " 'Cc1nc(C(C)(C)C)[nH]c(=O)c1C(=O)Nc1cccc(Cl)c1C',\n",
       " 'CCOC(=O)[C@H]1CCCN(C(=O)c2cn(CCc3ccccc3)nn2)C1',\n",
       " 'C[C@@H]1[C@H](C(=O)[O-])CCN1S(=O)(=O)c1ccc(F)c(Cl)c1',\n",
       " 'CC1CCC(OC(=O)C2=NC3=C(C(=O)C[C@@H](c4ccccc4)C3)[C@H]2C)CC1',\n",
       " 'CN(Cc1ccno1)Cc1c(C(=O)N2CC[NH+](C3CCCCC3)CC2)nc2ccccn12',\n",
       " 'Cc1cc(F)c([C@@H]([NH3+])[C@H]2Cc3ccccc3O2)cc1F',\n",
       " 'COc1ccc(OCC(=O)N/N=C2\\\\CCCc3ccccc32)cc1',\n",
       " 'CC(C)[NH+]1CCC(N2CC[NH+](Cc3c(F)ccc(F)c3F)C[C@@H]2CCO)CC1',\n",
       " 'CC[NH2+][C@@H](C)c1cc(F)c(C)cc1N1C[C@H](C)S[C@H](C)C1',\n",
       " 'CC(C)c1nsc(NC[C@H](C2CC2)[NH+](C)C)n1',\n",
       " 'Cc1ccc(-c2nc(C[NH+]3CCCC[C@H]3c3cccnc3)c(C)o2)s1',\n",
       " 'COc1cccc(C2=C[C@H](C(=O)N3CCCCC3)N=N2)c1',\n",
       " 'O=C(Nc1ccc2[nH]c(=O)[nH]c2c1)c1cc(S(=O)(=O)NC2CC2)ccc1Br',\n",
       " 'c1ccc2c(c1)CC[C@H]([C@H]1CCCc3cccnc31)N2',\n",
       " 'Cc1ccc(NC(=S)NC(C)C)cc1C',\n",
       " 'C[C@@H](Nc1ccc2c(c1)CCC2)C(=O)N1CCCC1',\n",
       " 'CCOc1ccc(Nc2ccc(C#N)c([N+](=O)[O-])c2)cc1',\n",
       " 'CC(C)OC(=O)CCNC(=O)c1cnn(-c2ccc(F)cc2)n1',\n",
       " 'CCCCOc1ccccc1NC(=O)c1scnc1C1CC1',\n",
       " 'O=C1N=C(N2CCCCC2)S/C1=C1/C(=O)Nc2ccccc21',\n",
       " 'Cc1c([C@H](C)NC(=O)c2[nH]c3ccccc3c2Cl)cnn1C',\n",
       " 'CSc1cccc2sc(N3CCN(C(=O)c4ccn(C(C)C)n4)CC3)nc12',\n",
       " 'Cc1ccc(C)c2nc3sc(C(=O)Nc4ccc5c(c4)OCO5)c(N)c3cc12',\n",
       " 'COC(=O)CCN(Cc1cnc2ncccn12)C1CCOCC1',\n",
       " 'O=C(c1c[nH]c2ccc(F)cc12)N(CC1CC1)CC(F)(F)F',\n",
       " 'O=C(Cc1ccc(Cl)cc1)/N=C1/S[C@@H]2CS(=O)(=O)C[C@H]2N1c1cc(Cl)ccc1Cl',\n",
       " 'Cc1cccc(C)c1NC(=O)C[NH+]1CCC(OCc2ccc(F)cc2)CC1',\n",
       " 'C[C@H]1CCC[C@@H](C)N1C(=O)[C@@H]1COCCO1',\n",
       " 'CC(C)[C@@H](C)CC(=O)NNC(=S)NC1CCCCC1',\n",
       " 'Cc1cccc(NC(=O)CN2C(=O)/C(=C3\\\\SC(=S)N(Cc4ccco4)C3=O)c3ccccc32)c1',\n",
       " 'CC(=O)N[C@@H]1C(=O)C[C@@H]2[C@H]3CCC4=CC(=O)CC[C@@]4(C)[C@@H]3CC[C@]12C',\n",
       " 'CCCNC(=O)[C@H]1CS[C@H](c2ccccc2O)N1C(C)=O',\n",
       " 'Cc1ccc(N2CC[C@H](C(=O)NC[C@@H](CC(C)C)N3CCOCC3)C2=O)cc1',\n",
       " 'COc1ccc(NC(=O)CCc2ccc3c(c2)OCCO3)cc1OC',\n",
       " 'Cc1ccc(C(F)(F)F)cc1/C=C/C(=O)[O-]',\n",
       " 'Cc1ccccc1C(=O)Nc1ccc(N2CC[NH+](Cc3ccccc3)CC2)cc1',\n",
       " 'c1cc(C[NH2+]Cc2ccco2)cc(OC2CCCC2)c1',\n",
       " 'O=C(c1cccs1)N(Cc1ccc(F)cc1)Cc1cc(-c2ccccc2)cn2nnnc12',\n",
       " 'COc1ccccc1CC(=O)N[C@@H]1CS(=O)(=O)C[C@H]1Cl',\n",
       " 'c1cc(-c2nc3c4cn[nH]c4ncn3n2)ccc1COc1ccc2c(c1)CCC2',\n",
       " 'CN(C(=O)c1ccc(Cl)cc1O)C1CCC(=O)CC1',\n",
       " 'CNC(=O)CNS(=O)(=O)c1cccc(C(F)(F)F)c1',\n",
       " 'Cc1ccc(S(=O)(=O)N2C[C@@H](CC(=O)[O-])c3ccccc32)c(C)c1',\n",
       " 'Cc1cc(N)nc(SCC(=O)NC[C@@H](c2ccccc2)C(C)C)n1',\n",
       " 'Cn1cc(C(N)=O)c(NC(=O)c2ccc3sccc3c2)n1',\n",
       " 'COc1cc2c(cc1O)[C@H](c1cnc(-c3cccc(C)c3)nc1)CC(=O)N2',\n",
       " 'CC(=O)Nc1ccc(O[C@H](C)c2nc(C(C)(C)C)no2)cc1',\n",
       " 'O=C(c1c(-c2ccccc2)nc2sc3c(n12)CCCC3)C(F)(F)F',\n",
       " 'CC(C)CNC(=O)NC(=O)[C@@H](C)Nc1ccc(OC(C)C)cc1',\n",
       " 'C=C[C@](C)(O)CC[C@H]1C(C)=CC(=O)[C@H]2C(C)(C)CCC[C@@]21C',\n",
       " 'CC[C@H](C)Sc1nncn1-c1ccccc1C',\n",
       " 'COCC(=O)N1CCCc2ccc(NC(=O)c3cccc(Br)c3)cc21',\n",
       " 'C[C@H](Oc1cccc(Cl)c1)C(=O)Nc1ccc2ccccc2c1',\n",
       " 'Cc1cc(Br)ccc1SCC(=O)N1CCC(C(=O)c2ccc3c(c2)OCCO3)CC1',\n",
       " 'Nc1ccc2c(c1)CN(C(=O)c1ccc(Cl)cn1)CC2',\n",
       " 'C[C@H](CN(C)C(=O)c1ccc(F)c(F)c1F)C(=O)[O-]',\n",
       " 'NC(=O)c1ccc(SCC(=O)Nc2ccc3c(c2)Cc2ccccc2-3)c([N+](=O)[O-])c1',\n",
       " 'CN(C(=O)CSCC(F)(F)F)c1cccc([N+](=O)[O-])c1',\n",
       " 'C=CCn1c(SCC(=O)Nc2cc(C)on2)nnc1[C@H]1COc2ccccc2O1',\n",
       " 'CC(=O)N[C@@H](CC(=O)Nc1ccnn1Cc1ccc(C)o1)c1ccccc1',\n",
       " 'CNC(=O)Cc1nc(C[NH+](C)C2CCC(c3ccccc3)CC2)cs1',\n",
       " 'COCCOc1c(Cl)cccc1NC(=O)Cc1c[nH]c2ccccc12',\n",
       " 'COCCN1[C@@H](C)CN(C(=O)C[NH+](C)C2CC2)C[C@H]1C',\n",
       " 'CSc1nncn1/N=C\\\\c1cc(Cl)ccc1F',\n",
       " 'CC(C)(C)OC(=O)N1CC[C@H]2CC(=O)[C@H]2C1',\n",
       " 'C[C@@H](CCO)SCc1ccccc1OC(F)F',\n",
       " 'C[C@@H]1C[C@@H]1C(=O)Nc1ccc(F)cc1C(=O)NC1CCC(O)CC1',\n",
       " 'COc1ccccc1CNC(=O)COc1ncnc2oc(C)c(C)c12',\n",
       " 'Fc1ccc(F)c(C[NH+]2CCC(n3cc(-c4cccnc4)nn3)CC2)c1F',\n",
       " 'O=C(C[NH+]1CCC(C(=O)c2ccc(Cl)cc2)CC1)NC[C@H]1COCCO1',\n",
       " 'CCC[NH+](C)C[C@H]1CCN(C(=O)Nc2cc(NC(C)=O)ccc2C)C1',\n",
       " 'Cc1nc2ncnn2c(NCCOC2CCCCCC2)c1C',\n",
       " 'C[C@H]1CN(Cc2cnn(-c3ccccc3)n2)C[C@H](C)S1',\n",
       " 'COc1cc(OC)cc([C@@H](N[C@@H](C)c2ccc(F)cn2)c2[nH+]ccn2C)c1',\n",
       " 'CC(C)CCc1noc(C[NH+](C)[C@H]2CCC[C@@H]2S(C)(=O)=O)n1',\n",
       " 'CCc1nc2n(n1)CCC[C@H]2NC(=O)c1ccc(-n2cc(C)cn2)cc1',\n",
       " 'C[C@@H](NC(=O)c1ccccc1CSc1nc2ccccc2[nH]1)C1CC1',\n",
       " 'O=C([C@H]1CCCN1S(=O)(=O)N1CCCCC1)N1CCSCC1',\n",
       " 'Cn1c(=O)c(=O)n(CC(=O)N2CCC3(CC2)OCCO3)c2cccnc21',\n",
       " 'COc1ccc(C(=O)N(CC2=CC=C[C@@H]3N=CC=C23)C2CC2)cc1',\n",
       " 'CCc1ccc(-c2nc(N)ccc2[N+](=O)[O-])cc1',\n",
       " 'c1csc([C@@H]2CN(Cc3cnc(C4CCC4)s3)CCO2)c1',\n",
       " 'O=S(=O)(/N=C(\\\\[O-])c1ccsc1)N1CCCC1',\n",
       " 'Cc1nccn1CC(=O)N1CCCC[C@@H]1CCNC(=O)c1ccccc1',\n",
       " 'C[C@H](Sc1nnc(-c2ccc(Cl)cc2)n1C[C@H]1CCCO1)C(=O)Nc1ccc2c(c1)OCO2',\n",
       " 'COc1ccc(-n2nnc(-c3nc(-c4ccc5c(c4)OCO5)cs3)c2C)cc1OC',\n",
       " 'CN(c1ccccc1)S(=O)(=O)c1ccc2c(c1)C(C)(C)C(=O)N2',\n",
       " 'Cc1cc(S(=O)(=O)N2CCN(C(=O)[C@H]3C[C@H]3c3ccc(Cl)cc3)CC2)c(C)s1',\n",
       " 'O=C(Nc1ccc(Oc2ccc(Cl)nn2)cc1)[C@@H](O)c1ccccc1',\n",
       " 'CCCc1cc(=O)n2c(n1)SC[C@@H]2CC(=O)Nc1cccc(Cl)c1Cl',\n",
       " 'Cc1ccc(NC(=O)CSc2nnc([C@@H]3CCCN3C(=O)c3cccc(C)c3)n2C)cc1',\n",
       " 'Cc1noc(C)c1CCCNC(=O)N[C@H]1CC(=O)N(C2CC2)C1',\n",
       " 'CC(C)(C)[C@@H]1CCC(=O)[C@@H](CN2CCOCC2)C1',\n",
       " 'COc1cc(/C=C2\\\\SC([N-]c3cccc(C(=O)[O-])c3)=NC2=O)cc(OC)c1O',\n",
       " 'C=CCO[C@H](C)C(=O)Nc1ccc(F)cc1Br',\n",
       " 'O=C(CN1CCN(Cc2ccc(F)c(F)c2)CC1)c1cccs1',\n",
       " 'CC[NH+]1C[C@H](c2ccccc2)CC2(CCN(C(=O)c3ccon3)CC2)C1',\n",
       " 'C[C@H]1C[C@H]([NH+]2CC[C@H](S(=O)(=O)NC3CC3)C2)CC(C)(C)C1',\n",
       " 'CC[C@H](Sc1cc(C)c2cccc(C)c2n1)C(=O)Nc1nc2ccc(S(N)(=O)=O)cc2s1',\n",
       " 'COC(=O)[C@]1(NC2CC2)CC[C@H](Sc2ncc(C)cn2)C1',\n",
       " 'COc1ccccc1Nc1nn(CN(C)OC)c(=S)s1',\n",
       " 'Cc1cc(C)c(C)c(S(=O)(=O)/N=C(\\\\[O-])c2cc(C3CC3)n(C(C)(C)C)n2)c1C',\n",
       " 'CC(C)(O)C#Cc1ccc(C[NH2+][C@H]2CCCN(c3nc4ccccc4s3)C2)s1',\n",
       " 'COc1ccc(OC)c(S(=O)(=O)n2cc3c(=O)n(C)c(=O)n(C)c3n2)c1',\n",
       " 'C/[NH+]=C(/NCc1noc(C(C)(C)C)n1)N[C@@H](C)c1ccc(F)cc1F',\n",
       " 'Cc1nnsc1C(=O)Nc1nnc(-c2ccc(Br)cc2)o1',\n",
       " 'CCN(Cc1ccc(OC)c(OC)c1)C(=O)C[NH+]1CC[C@@H](C)[C@H](O)C1',\n",
       " 'O=C([O-])[C@H]1CCCCN1C(=O)CSCc1ccccc1',\n",
       " 'Cc1cccc([C@H](O)C[C@@H]2CCCCC[NH2+]2)c1',\n",
       " 'O=C(C1CCCCC1)N1CCN(Cn2cc(Br)cn2)CC1',\n",
       " 'Cc1ccccc1COc1ccc([C@@H]2C3=C(CCCC3=O)Nc3nnnn32)cc1',\n",
       " 'CCO[C@@H]1C[C@@H]([NH+](C)C[C@@H]2CCCN(S(C)(=O)=O)C2)C12CCCCC2',\n",
       " 'CCn1c(=O)c(=O)[nH]c2cc(C(=O)NN3C(=O)N[C@](C)(c4ccccc4)C3=O)ccc21',\n",
       " 'COc1cc(OC)cc([C@@H](NC(=O)N(C)C2CCCCC2)c2nccn2C)c1',\n",
       " 'O=C1[C@H]2[C@@H]3C=C[C@@H](C3)[C@H]2C(=O)N1CN(C(=O)C(F)(F)F)c1cccc(C(F)(F)F)c1',\n",
       " 'CCNc1ncc(COc2cccc3ccccc23)s1',\n",
       " 'Cc1noc(C)c1CCCNC(=O)c1c(C)nn(Cc2ccccc2)c1C',\n",
       " 'C[C@H]1CC([NH2+][C@@H](C)c2c[nH]c3cc(F)ccc23)C[C@H](C)O1',\n",
       " 'C/C(=C1/SC(=O)N(c2ccc(Cl)cc2)C1=O)c1ccc(Br)cc1',\n",
       " 'Cc1ccc(NC(=O)C[C@H]2SC([N-]c3ccc(N(C)C)cc3)=NC2=O)c(C)c1',\n",
       " 'CO[C@H]1CCCC[C@H]1NC(=O)NC[C@H](c1cccc(F)c1)[NH+](C)C',\n",
       " 'Cc1nn(C)c(C)c1CN[C@H]1CCC[NH2+]C1',\n",
       " 'Cc1cc(=O)[nH]c(SCC(=O)N2C[C@]3(C)C[C@H]2CC(C)(C)C3)n1',\n",
       " 'COC1CC[NH+](Cn2nc(-c3ccc(C)cc3)n(C)c2=S)CC1',\n",
       " 'C[NH2+][C@]1(C(=O)[O-])CCC[C@@H](OCC2CCCCC2)C1',\n",
       " 'Cc1nnc(SCC(=O)c2cc(C)n(CC(F)(F)F)c2C)s1',\n",
       " 'CC(C)CN(CCC#N)C(=O)NC[C@@H]1CC[C@H](C(=O)[O-])O1',\n",
       " 'Cc1cc(CN2CCN3C(=O)NC[C@@H]3C2)cc(C)c1OC(F)F',\n",
       " 'CCNC(=O)c1cccc(NC(=O)NCCCSC)c1',\n",
       " 'Cn1c(-c2cccc3ccccc23)nn(CN2CCOCC2)c1=S',\n",
       " 'CCCCCN1C(=O)/C(=C/c2ccc(O)c(OCC)c2)SC1=S',\n",
       " 'N#CCCN(Cc1ccccc1)C(=S)NC(=O)c1cccc(Cl)c1',\n",
       " 'CCCS(=O)(=O)c1ccccc1C(=O)Nc1nnc(CC)s1',\n",
       " 'CNC(=O)[C@H](C)CN(C)Cc1cc(=O)n2cccc(C)c2[nH+]1',\n",
       " 'COCCNC(=O)/C(C#N)=C/c1cccc(O)c1',\n",
       " 'CNC(=O)CN1c2ccccc2C(=O)N(C)[C@H]1c1ccccc1O',\n",
       " 'CC(=O)N[C@H](C)C(=O)Nc1ccc(Sc2nncs2)c(Cl)c1',\n",
       " 'CC[n+]1c(N)n(CCOc2ccc(Cl)cc2Cl)c2ccccc21',\n",
       " 'COC(=O)CCCc1nnc(NC(=O)N2CCC[C@@H]3CCC[C@@H]32)s1',\n",
       " 'O=C(N[C@H]1CCCC[C@H]1OC1CCCC1)c1ccc([N+](=O)[O-])cc1',\n",
       " 'O=C(CCOc1ccccc1)NNC(=O)CC1(O)CCCC1',\n",
       " 'C=CCN(CC(=O)[O-])C(=O)[C@@H](C[NH3+])C(C)C',\n",
       " 'O=C(CCn1ccccc1=O)NCC1(c2ccccc2)CC1',\n",
       " 'COc1cc(C)c([C@@H](C)NC(=O)CSC2CCCC2)cc1OC',\n",
       " 'C=CCNC(=O)Nc1ccc(F)c(NC(=O)OC)c1',\n",
       " 'Oc1ccccc1/C=[NH+]/CCC/[NH+]=C/c1ccccc1O',\n",
       " 'Cn1cccc1Cc1nnc(SCC(=O)Nc2ccc3c(c2)OCCO3)n1C',\n",
       " 'C[C@@H](C#N)CNC(=O)c1cccc(Oc2cccc(C(F)(F)F)c2)c1',\n",
       " 'Cc1oc(-c2ccccc2)nc1CCNC(=O)c1ccc([S@@](C)=O)cc1',\n",
       " 'CCc1noc(C)c1C[NH+](C[C@@H]1CCCCO1)C(C)C',\n",
       " 'Cc1ccccc1Oc1cc(Br)ccc1C[NH3+]',\n",
       " 'CCc1cccc(CC)c1NC(=O)NC1CC1',\n",
       " 'CC[NH+]1CCN(C2(CNC(=O)c3ccccc3Br)CCCCC2)CC1',\n",
       " 'CCCCn1nc(C)c(C[NH2+]C[C@@H](C)O)c1Cl',\n",
       " 'C/C=C/C=C/C(=O)N1C[C@@H](C(=O)OC)[C@@H](C)C1',\n",
       " 'COc1cccc(OC)c1OC1CC[NH+](Cc2ccc([C@H]3C[C@@H]3C)o2)CC1',\n",
       " 'COC(=O)c1cc(CSc2nnc(-c3cccnc3)n2-c2ccccc2F)oc1C',\n",
       " 'CCOc1ccc2cc(C(=O)NCc3ccccc3)c(=[NH2+])oc2c1',\n",
       " 'O[C@H]1CCN(c2ccnc(N3CCc4[nH]c5ccc(Cl)cc5c4C3)n2)C1',\n",
       " 'O=S(=O)(NC[C@H](O)c1ccc(C(F)(F)F)cc1)c1cc(F)ccc1F',\n",
       " 'O=C(CSc1ccc2c(c1)OCCCO2)NC(=O)c1cccs1',\n",
       " 'C[NH+](C)CCSc1ccc(NC(=O)C2CC2)nn1',\n",
       " 'Cc1ccc(C)c(NC(=S)NCCc2cccs2)c1',\n",
       " 'CNc1ncc(F)c(-c2cccc(Cl)c2)n1',\n",
       " 'Cc1ccc(-c2nnc(SCC(=O)Nc3ccc(CC#N)cc3)n2N)cc1',\n",
       " 'CCN(CC)C(=O)c1ccccc1OC(C)=O',\n",
       " 'Cc1ccc(-c2nc(-c3ccc(OCC(F)(F)F)nc3)no2)cc1',\n",
       " 'COc1ccc([C@@H](CNc2nc3ccccc3o2)N2CCOCC2)cc1',\n",
       " 'CNC(=O)[C@H]1CCCC[C@H]1[NH2+][C@H](C)c1cc(C)cc(C)c1',\n",
       " 'CCN[C@H](c1cccnc1)C1([NH+]2CCCCC2)CCCC1',\n",
       " 'Cn1ncc2c(NCc3ccco3)nc(CCc3ccccc3)nc21',\n",
       " 'Cn1cc[nH+]c1C[C@H]1CCC[NH+](Cc2ncc(-c3ccccc3Cl)o2)C1',\n",
       " 'Cc1cc(N2CC[C@H](C)[C@H](O)C2)nc(C)[nH+]1',\n",
       " 'Cc1nnc(CCC[NH+]2CCC(CC[NH+]3CCCC[C@@H]3C)CC2)o1',\n",
       " 'CCc1nn(C)cc1CNC(=O)C1(CC)CCC1',\n",
       " 'COc1ccc(N2/C(=N/C(=O)CCCC(=O)[O-])S[C@@H]3CS(=O)(=O)C[C@H]32)cc1Cl',\n",
       " 'CC(=O)C1=C([O-])C(=O)N(CCC2=c3ccccc3=[NH+][C@H]2C)[C@H]1c1ccccc1F',\n",
       " 'COc1cc(C)c(C(=O)N[C@H]2C[C@H](C)N(c3ccccc3)C2)cc1OC',\n",
       " 'Cc1ccc([C@H]2C[C@@H]2NC(=O)N2CCC(C(N)=O)CC2)cc1C',\n",
       " 'Cc1nc2n(n1)CCC[C@@H]2N[C@@H]1CCc2c(Cl)cc(Cl)cc21',\n",
       " 'CC(C)Oc1ccc(-c2nc(C(=O)O[C@@H](C)[C@@H]3CCOC3)cs2)cc1',\n",
       " 'CN(C[C@@H]1CCCN(C(=O)NCCc2ccc(F)cc2)C1)C(=O)OC(C)(C)C',\n",
       " 'COc1cc(Cl)c(C)cc1NC(=O)[C@H](C)N1CCN(S(=O)(=O)c2c(C)noc2C)CC1',\n",
       " 'Cc1nc(-c2ccc(Cl)s2)sc1C(=O)N[C@H]1C[C@H]1C',\n",
       " 'COc1cc(F)c([C@H]([NH3+])c2ccc(SC)cc2)cc1OC',\n",
       " 'Cc1ccc(-n2ccnc2SCC(=O)N(CC(N)=O)C(C)C)cc1C',\n",
       " 'Cc1cccc(/C=C2\\\\SC(=S)N(c3c(C)cccc3C)C2=O)c1',\n",
       " 'CC1=C(C(=O)OC(C)C)[C@H](C)N=C1C(=O)Nc1ncc(C)s1',\n",
       " 'COC(=O)c1cccc(C(=O)N2C[C@@H](c3ccc(F)cc3)C[C@H]2C)c1',\n",
       " 'O=C(NCCCn1ncccc1=O)[C@@H]1CC(=O)N(c2ccccc2)C1',\n",
       " 'CCC(=O)N1CCCN(C(=O)N[C@@H]2CCc3ccccc32)CC1',\n",
       " 'Cc1cccc([C@@H](C)[NH2+]CCS(=O)(=O)C(C)(C)C)c1C',\n",
       " 'Cc1ccc(-c2cnc(CCC(=O)NCC(C)(C)c3ccncc3)o2)cc1',\n",
       " 'Cc1cc(NN)c2cccc(OC(F)(F)F)c2[nH+]1',\n",
       " 'C[C@H]1CCC[C@@H](C(=O)Nc2cccc(OCCc3ccccc3)c2)[NH2+]1',\n",
       " 'Cn1ncnc1CCNC(=O)[C@H]1C[C@@H]1c1cc(Cl)cc(Cl)c1',\n",
       " 'CC[C@H](Sc1nnc2cc(C)c3cc(C)cc(C)c3n12)C(=O)Nc1nnc(COC)s1',\n",
       " 'CCOc1ccc(S(=O)(=O)N2CCC(c3nnc(C4CC4)o3)CC2)cc1',\n",
       " 'Cc1cc2nc(C)c(CCC(=O)NC[C@@H](c3ccccc3)N3CCOCC3)c(C)n2n1',\n",
       " 'COc1ccc(N2C(=O)CS[C@H]2c2ccc(Cl)cc2)cc1Cl',\n",
       " 'C/C=C(\\\\C)[C@@H]1C=C[C@@H]2C[C@H](C)C[C@H](C)[C@@H]2[C@@H]1C(=O)C1=C([O-])[C@H](C[C@](C)(O)C(=O)[O-])NC1=O',\n",
       " 'CS(=O)(=O)c1ccc(NC(=O)N2CCC[C@H]2CC2CCCCC2)cc1',\n",
       " 'COc1ccc(C(=O)OCc2nc3ccccc3s2)cn1',\n",
       " 'COc1ccc(S(=O)(=O)Nc2ccccc2-n2nc(C)cc2C)cc1NC(C)=O',\n",
       " 'Cn1c(=O)n(CC(=O)N[C@@H]2CCCc3ccc(F)cc32)c2ccccc21',\n",
       " 'N#C/C(C(=O)NC1CCCC1)=C(/[O-])Cc1cnn(-c2ccccc2)c1',\n",
       " 'NC(=O)[C@H](Nc1cccc(Oc2ccccc2)c1)c1ccc(F)cc1',\n",
       " 'CCN(C[C@@H]1CCOC1)C(=O)Nc1cc2c(cc1Cl)OCCO2',\n",
       " 'CCCCc1nnc(NC(=O)C2CCN(S(=O)(=O)c3ccc(C)cc3)CC2)s1',\n",
       " 'CC[C@@H](NC(=O)c1ccc(Br)o1)C(=O)N1CCOCC1',\n",
       " 'CC[C@]1(c2ccccc2)NC(=O)N(CCOc2ccc(Cl)cc2Cl)C1=O',\n",
       " 'COc1ccc(OC)c(NC(=O)c2ccc3c(c2)C(=O)N(c2cc(C)on2)C3=O)c1',\n",
       " 'Cc1ccc(OCC(=O)NC(=S)NC[C@H]2CCCO2)cc1',\n",
       " 'CN(C(=O)CCOc1cccc(C(N)=O)c1)[C@H]1CCC[NH+](C)C1',\n",
       " 'COC(=O)c1ccc(NC(=O)c2c(C)sc3ncnc(N4CCC[C@H](C)C4)c23)cc1',\n",
       " 'Cn1ncc2c1CC/C(=C\\\\c1ccc(-n3cncn3)c(F)c1)C2=O',\n",
       " 'O=C(Cc1ccc([N+](=O)[O-])cc1)NCC1(O)CCOCC1',\n",
       " 'C=CCOc1ccc(CNc2ccc(OC)cc2)cc1',\n",
       " 'C[C@H]1N=C(CCNC(=O)CCC2=c3ccccc3=[NH+]C2)CS1',\n",
       " 'COC(=O)c1cc(NC(=O)[C@@H]2CCO[C@H]2C)ccc1C',\n",
       " 'COc1ccccc1[C@@H](C)NC(=O)c1cnc2c(C)cccn2c1=O',\n",
       " 'CC[C@@H](C)NS(=O)(=O)c1cc(N2C(=O)[C@@H](C)CS2(=O)=O)ccc1OC',\n",
       " 'CC(C)(C)NS(=O)(=O)c1ccc(OCC(=O)N2CCOCC2)cc1',\n",
       " 'COCCCNC(=O)[C@H]1CN(C(=O)c2cccs2)CC12CCCCC2',\n",
       " 'Cc1nc(-n2cccc2)sc1C(=O)Nc1cccc(-c2cn3ccsc3n2)c1',\n",
       " 'CC[S@](=O)[C@H]1CCCC[C@@H]1NC(=O)NC[C@H](O)c1ccco1',\n",
       " 'Cc1cc2ncn(C[C@H]3CC3(Cl)Cl)c2cc1C',\n",
       " 'Cc1ccccc1OCC(=O)O[C@@H](C)c1nccs1',\n",
       " 'C[C@H](C(=O)N1CCOCC1)[NH+]1CCN(Cc2ccc3c(c2)OCO3)CC1',\n",
       " 'CCN(C(=O)[C@@H]1Cc2ccccc2S1)[C@H]1CCC[C@@H]1C[NH3+]',\n",
       " 'Cc1cc(Br)ccc1NC(=O)[C@@H](C)[NH+](C)Cc1cccs1',\n",
       " 'COC(=O)[C@H]1CCC[C@H]1NC(=O)Nc1ccc(C)cc1C',\n",
       " 'CC(C)NS(=O)(=O)c1ccc(C(=O)N[C@H](C)c2ccccc2Br)cc1',\n",
       " 'CC(C)OCCN1CCN(C(=O)Nc2ccccc2C(F)(F)F)CC1',\n",
       " 'CCn1cc(-c2nc(-c3cccc(Cl)c3)no2)c(=O)c2ccccc21',\n",
       " 'COC[C@@H](C)NC(=O)C(=O)Nc1cc(-c2ccccc2)nn1C(C)C',\n",
       " 'C#CCOc1ccccc1CN1CCN(C2=[NH+]C[C@@H](C)S2)CC1',\n",
       " 'COCCNC(=O)[C@H]1CCCN1S(=O)(=O)c1ccc(Br)cc1',\n",
       " 'Cc1ccc(C[C@H](O)c2c(F)cc(Br)cc2F)cc1',\n",
       " 'COC(=O)[C@@]1(NC2CCCC2)CCCS[C@H]1C',\n",
       " 'CCC[NH2+][C@H](Cc1ccccc1)[C@@H]1CN(CC)CCO1',\n",
       " 'C=CCn1c(=O)c2c(nc3n2[C@H](C)C(C)=NN3C)n(C)c1=O',\n",
       " 'C[C@H]1CCCC[C@H]1NC(=O)c1cc(S(=O)(=O)N2CCOCC2)ccc1Cl',\n",
       " 'COCCn1ccc2ccc(NC(=O)NCCc3ccccn3)cc21',\n",
       " 'Cc1nc(CNC(=O)C(=O)Nc2cc(Cl)ccc2Cl)no1',\n",
       " 'CS[C@@H]1CC[C@H](NC(=O)CCC(=O)c2ccc(C)s2)C1',\n",
       " 'Cc1nc(/C=N/Nc2ccc(Cl)nn2)c[nH]1',\n",
       " 'O=C(CSc1nnnn1C1CC1)N[C@H](CO)C(=O)[O-]',\n",
       " 'O=C(COc1ccc(Br)cc1)N[C@H]1CCS(=O)(=O)C1',\n",
       " 'CCc1nnc(NC(=O)c2ccccc2N)s1',\n",
       " 'O=C([O-])c1ccccc1-c1ccc(/C=C2\\\\C(=O)N(c3cccc(Br)c3)C(=O)N=C2[O-])o1',\n",
       " 'COc1ccc(-c2csc(NC(=O)c3ccc(S(C)(=O)=O)cc3)n2)cc1OC',\n",
       " 'COc1ccc(Cn2ccc3nc(N4CCN(c5ccccc5)CC4)ncc3c2=O)cc1',\n",
       " 'Cc1nn(C)cc1/C=N/NC(=O)c1ccncc1',\n",
       " 'N#Cc1ccc(OC2CCC(NC(=O)c3ccc[nH]3)CC2)nc1',\n",
       " 'CC(C)c1ccc2oc(-c3ccc(C[NH3+])cc3)nc2c1',\n",
       " 'COc1ccc([C@@H]2NC(=O)N[C@@](O)(C(F)(F)F)[C@H]2C(=O)c2ccc(F)cc2)cc1OC',\n",
       " 'Cc1cc(NC(=O)c2cccc([N+](=O)[O-])c2C)n(-c2ccccc2F)n1',\n",
       " 'CCC(=O)N1CCCC[C@@H]1C(=O)NCCc1ccc(F)cc1C',\n",
       " 'Cc1ccc(S(=O)(=O)N2C(N)=C(C#N)[C@H](c3ccc(Cl)cc3)[C@H]2C(=O)c2ccccc2)cc1',\n",
       " 'C[NH+](C)[C@@H]1CC[C@H](NC(=O)[C@@H]2CCCc3[nH]ncc32)C1',\n",
       " 'CCOCCS(=O)(=O)[N-]c1cc(Br)ccc1O',\n",
       " 'NC1=NC(=O)[C@H](CC(=O)N2CC[C@H](c3ccccc3)C2)S1',\n",
       " 'Cc1noc(-c2cccnc2N2CC[C@H](NC(=O)COc3ccc(F)cc3)C2)n1',\n",
       " 'Cc1ccc(OC(=O)c2cccc(C(=O)Oc3ccc(C)cn3)n2)nc1',\n",
       " 'CN(CC1CCCC1)C(=O)C(=O)Nc1cccc(SC(F)F)c1',\n",
       " 'COc1cccnc1N(C)C(=O)C[C@H](C)Cc1ccc(Cl)cc1',\n",
       " 'O=C(c1cc(=O)[nH]c2ccccc12)N1CCC([C@H](O)c2ccccc2)CC1',\n",
       " 'CCO[C@@H]1C[C@@H]([NH3+])[C@@H]1Nc1ncc(Cl)cc1F',\n",
       " 'CC(=O)Nc1ccc(NC(=O)c2ccc3c(c2)Cc2ccccc2-3)cc1',\n",
       " 'COCCOC[C@H]1CC[NH+](C2C[C@@H](C)O[C@H](C)C2)C1',\n",
       " 'O=C1OC(c2ccccc2OC(F)F)=N/C1=C\\\\c1cccc(F)c1',\n",
       " 'COc1ccccc1CNC(=O)c1cc2sccc2n1Cc1cccc(F)c1',\n",
       " 'CCOC(=O)C1(NCc2nnc(-c3cc(C)oc3C)o2)CCCC1',\n",
       " 'N#Cc1cccc(NC(=O)N2CCC(NC(=O)CC3CCCC3)CC2)c1',\n",
       " 'CCOC(=O)C1=C(c2ccccc2)Nc2ncnn2[C@H]1c1ccc(SC)cc1',\n",
       " 'Cc1cc(NC(=O)N[C@@H](Cc2ccccc2)c2ccccc2F)n(C)n1',\n",
       " 'C[C@H](Sc1cccc[n+]1[O-])C(=O)NC[C@H]1COc2ccccc2O1',\n",
       " 'O=C(NCCOc1ccc2c(c1)OCO2)c1cc(C2CC2)on1',\n",
       " 'N#CCC[NH2+]C1(C(=O)[O-])CC1',\n",
       " 'CC[C@@H](Oc1ccccc1OC)C(=O)NCc1ccccn1',\n",
       " 'Cc1nc(C[C@@H](N)[C@]2([NH+](C)C)CCC[C@H](C)C2)cs1',\n",
       " 'CCOc1ccccc1/C=C1\\\\Oc2c(ccc([O-])c2C[NH+]2CCN(C)CC2)C1=O',\n",
       " 'CC(C)Cn1cc[nH+]c1CN[C@@H](c1ccccc1)C(C)C',\n",
       " 'Cc1c(C[NH+]2CCC[C@H]2c2ccc3c(c2)OCO3)cc(C#N)n1C',\n",
       " 'O=C(CBr)c1cnc2ccc(Cl)cn12',\n",
       " 'COc1ccc(F)cc1NC(=O)c1sccc1S(=O)(=O)N(C)C',\n",
       " 'COc1ccc(Br)cc1/C=C1/C(=O)NN(c2ccc(C)c(C)c2)C1=O',\n",
       " 'CC(C)(C)c1ccc(C(=O)N[C@H]2CCN3CCCc4cccc2c43)cc1',\n",
       " 'CC[NH+]1CCC[C@@]2(CC1)C[NH+]=C(N)N2c1ccc(C)cc1',\n",
       " 'CN(C)c1ccc(/C=C(/C#N)C(=O)c2cccc(C#N)c2)cc1',\n",
       " 'CCCC[C@@H](NC(N)=O)C(=O)Nc1cc(OC)ccc1F',\n",
       " 'COC1=CC2=NC(SCc3cc(-c4ccccc4)on3)=NC2=CC1',\n",
       " 'Cc1ccc([C@@](C)(O)CNC(=O)NC[C@@H](c2ccco2)[NH+]2CCCCC2)o1',\n",
       " 'C[C@@H](NC(=O)CSc1ccc2c(c1)OCCCO2)c1ccc2ccccc2c1',\n",
       " 'CCN1CCN(S(=O)(=O)c2cc(-c3csc(C)n3)ccc2C)CC1',\n",
       " 'Cc1nccn1Cc1ccc(NC(=O)c2cccc(-n3cccc3)c2)cc1',\n",
       " 'Cc1cccc([S@@](=O)Cc2ccc(N)c(F)c2)c1',\n",
       " 'CC(C)C[C@@H](C[NH3+])c1nc(C2CCOCC2)no1',\n",
       " 'CC1=NC(SCC(=O)Nc2ccccc2C(F)(F)F)=NC(=O)[C@H]1Cc1ccccc1',\n",
       " 'Cc1ccc(F)cc1NC(=O)C(=O)NCCCn1cc[nH+]c1',\n",
       " 'COc1cccc(C[NH2+]Cc2cccc(Br)c2OC)c1OC',\n",
       " 'Nc1cc(=O)[nH]c(SCC(=O)Nc2nc(-c3ccc(Br)cc3)cs2)n1',\n",
       " 'CCc1noc(CN(CC)C(=O)C(C)(C)NC(=O)c2cccs2)n1',\n",
       " 'CC(C)C[C@](C)(O)CNC(=O)CC[C@H](C)O',\n",
       " 'C=C[C@@H](C)NC(=O)c1c(C)cc(C)c([N+](=O)[O-])c1C',\n",
       " 'O=C(Nc1ccc(S(=O)(=O)NC[C@@H]2CCCO2)cc1)[C@H]1CC(=O)N(c2ccc(F)c(Cl)c2)C1',\n",
       " 'CC1(C)CCC[C@H]1N1C(=O)c2cccc(N)c2C1=O',\n",
       " 'CCCNC(=O)NC(=O)CN1C(=O)N[C@](Cc2ccccc2)(c2ccccc2)C1=O',\n",
       " 'O=C(COc1cc(Cl)c(Cl)cc1Cl)N1CCN(C(=O)Nc2ccccc2)CC1',\n",
       " 'CCc1nc2n(n1)C[C@H]([NH2+]CCNS(=O)(=O)c1ccccc1)CC2',\n",
       " 'CCCCN(C(=O)c1oc2ccccc2c1C)c1c(N)n(CCC)c(=O)[nH]c1=O',\n",
       " 'CCCn1c(S[C@H](C(N)=O)c2ccccc2)nc2sc(CC)cc2c1=O',\n",
       " 'COc1cccc(CCNC(=O)CN2CCN(c3ccccc3O)CC2)c1',\n",
       " 'c1ccc2c(NCc3nnc(C4CCC4)o3)cccc2c1',\n",
       " 'CC1=C(C(=O)C2=C([O-])C(=O)N(CC[NH+](C)C)[C@H]2c2cccc(Cl)c2)[C@H](C)N=N1',\n",
       " 'CCOc1ccc([C@@H]2Nc3ccc(C(=O)N(C)C)cc3[C@H]3C=CC[C@H]32)cc1',\n",
       " 'COc1ccc(Cc2sc(NC(=O)[C@H]3COc4ccccc4O3)nc2C)cc1',\n",
       " 'Cc1cnc2nc(C[C@H](O)C(F)(F)F)[nH]c2c1',\n",
       " 'CCN(CC(C)(C)O)C(=O)COCc1ccccc1Cl',\n",
       " 'O=C(Nc1cccc2ccccc12)NC1CC[NH+](CC(F)F)CC1',\n",
       " 'O=C1C(=O)N(CC[NH+]2CCOCC2)[C@@H](c2cccc([N+](=O)[O-])c2)/C1=C(\\\\O)c1cccs1',\n",
       " 'CC[C@@H](C)N(CC)C(=O)c1ccccc1N',\n",
       " 'Cc1cc(C)c(C(=O)Cn2nc(N)n(Nc3cccs3)c2=S)c(C)c1',\n",
       " 'C[C@H]1CN(C(=O)CC[C@H](C)c2ccccc2)C(C)(C)CO1',\n",
       " 'CN(C)c1nc2c(c(-c3ccc(S(C)(=O)=O)cc3)n1)CCCC2',\n",
       " 'CC(C)c1ccc(CNC(N)=[NH2+])cc1',\n",
       " 'CN(C)N1C(N)=C(C#N)[C@@H](c2cccs2)C2=C1CCCC2=O',\n",
       " 'O=C(N[C@H]1C=C[C@H](C(=O)[O-])C1)c1cc(F)c(Cl)cc1Cl',\n",
       " 'CC(C)n1nnnc1COc1cccc(C(=O)NC2CCCCCC2)c1',\n",
       " 'O=S(=O)(NCc1ccc(Cl)cc1Cl)c1ccccc1Br',\n",
       " 'COC[C@H](NC(=O)c1cc(-c2ccccc2)c(C)[nH]c1=O)C(N)=O',\n",
       " 'O[C@H]1CCCCC[C@H]1n1cc(-c2ccccc2Cl)cn1',\n",
       " 'CC1=C[C@@H](C)[C@H]2C(=O)N([C@H](Cc3ccccc3)C(=O)[O-])C(=O)[C@H]2C1',\n",
       " 'CCCCNS(=O)(=O)Cc1ccc([N+](=O)[O-])cc1',\n",
       " 'COc1ccc(CC[C@H]2C[C@@H](C(C)(C)C)CCC2=O)cc1',\n",
       " 'C[C@H]1CN(CC(=O)Nc2nc(-c3ccccc3Cl)cs2)CCO1',\n",
       " 'Cc1cc(Cl)cc(Cl)c1CNC(=O)c1cccs1',\n",
       " 'CC(C)(C)OC(=O)NC1CCN(CC(=O)c2nccs2)CC1',\n",
       " 'COc1ccc(C)cc1[C@@H](C)NC[C@@H]1CN(C2CC2)CCO1',\n",
       " 'CCOC(=O)c1ccn(-c2cccc(NC(=O)C3CCCC3)c2)n1',\n",
       " 'O=C1N(C[NH+]2CCN(c3ccccc3)CC2)c2ccccc2C12O[C@@H]1CCCC[C@H]1O2',\n",
       " 'CC(C)c1nc(C(=O)[O-])nn1-c1ccccc1F',\n",
       " 'C1=C[C@H]2C[C@@H]1C[C@H]2CN1CC[NH+](C2CCCCCC2)CC1',\n",
       " 'CC(C)C[C@H](C[NH+](C)C)Nc1ncncc1N',\n",
       " 'O=C1C=C(c2cccs2)C[C@H](c2cccs2)[C@@H]1n1cnc([N+](=O)[O-])n1',\n",
       " 'C[NH2+]C1CCC([NH+](C)CC(=O)N[C@H](C)c2ccco2)CC1',\n",
       " 'CC(C)c1nc2n(n1)CCC[C@H]2[NH2+]C[C@@H]1CCC[C@H](C)C1',\n",
       " 'CCCOC(=O)c1ccc(NC(=O)c2ccc[n+]([O-])c2)cc1',\n",
       " 'CCOc1cc(CO)cc(Br)c1OCc1ccccc1F',\n",
       " 'O=C(Cn1nnn(-c2cccs2)c1=O)NC[C@@H]1CN(Cc2ccccc2)CCO1',\n",
       " 'CC(C)[C@H](O)CCNC(=O)C(=O)Nc1ccn(-c2ncccc2Cl)n1',\n",
       " 'Cc1cccc(C(=O)NCCS(=O)(=O)NCC2CCC2)c1C',\n",
       " 'CCCC(=O)N1CCC(C(=O)NN=C(c2ccccc2)c2ccccc2)CC1',\n",
       " 'O=C(N[C@H](NC(=S)Nc1ccccc1)C(Cl)(Cl)Cl)c1cccc(Br)c1',\n",
       " 'CCN(Cc1ccccc1)C(=O)c1cc(NC(=O)Cc2ccccc2)n(C)n1',\n",
       " 'CC(C)CC(=O)N1CCN(C(=O)c2cnc3c(c2)NC(=O)CO3)CC1',\n",
       " 'O=C(Cc1csc(NC(=O)Nc2ccc(Cl)cc2)n1)NCCc1ccc(Cl)cc1',\n",
       " 'Cc1ccc2c(c1)C[C@@H](C[C@@H](C[NH3+])c1ccc(F)cc1)O2',\n",
       " 'CC1=C(C(=O)OC(C)C)[C@@H](c2ccc(C)s2)NC(=O)N1C',\n",
       " 'COc1cc(F)c([N+](=O)[O-])c(NC[C@@H](O)c2cnn(C)c2)c1',\n",
       " 'COc1ccc(C(=O)N2CCC([C@@]3(C)NC(=O)N(C4Cc5ccccc5C4)C3=O)CC2)cc1',\n",
       " 'CCc1cnc(NC(=O)c2cc(C)n(C(C)C)c2C)s1',\n",
       " 'COc1ccccc1-c1nc(C[NH+](C)Cc2ccc(C#N)cc2)cs1',\n",
       " 'COc1ccc(-c2noc(-c3cc(-c4ccc(Cl)cc4)n[nH]3)n2)cc1OC',\n",
       " 'CC[C@H](NC(=O)CN1C(=O)c2ccccc2N2C(=O)CC[C@]12C)c1ccc(C)cc1',\n",
       " 'Cc1ccc(CNC(=O)NCc2ccnc(OC(C)(C)C)c2)cn1',\n",
       " 'CCN(CCO)C(=O)Nc1cccc(C(=O)Nc2cccc(C#N)c2)c1',\n",
       " 'Cc1cccc(-c2nn(C[NH+]3CCCCC3)c(=S)n2-c2ccccc2)c1',\n",
       " 'C[NH2+][C@@H](C1CCCC1)[C@@H]1CCc2cccnc21',\n",
       " 'Cc1ccc(-c2cccc(F)c2C(=O)[O-])c(C)c1',\n",
       " 'CN(C)C(=O)[C@@H](Sc1nnc2n(C)c3ccccc3n12)c1ccccc1',\n",
       " 'Cc1ccc(C(=O)NNC(=O)c2ccc(SC[C@H]3CCCO3)c([N+](=O)[O-])c2)cc1',\n",
       " 'CCCn1/c(=N/C(=O)[C@@H](CCSC)NC(N)=O)[nH]c2ccccc21',\n",
       " 'Cn1/c(=N/C(=O)c2sccc2S(=O)(=O)N2CCOCC2)sc2ccccc21',\n",
       " 'COc1ccccc1N1C[C@@H](C(=O)NN2C(=O)NC3(CCCCC3)C2=O)CC1=O',\n",
       " 'COc1cc(OC)cc(C(=O)Nc2ccccc2C(=O)NC(C)(C)C)c1',\n",
       " 'C[C@H](Nc1nc(-c2ccncc2)nc2ccccc12)c1ccccn1',\n",
       " 'CCOc1ccc(C[NH+]2CCC[C@H]([C@H](O)c3nccn3C)C2)cc1OC',\n",
       " 'O=C([O-])c1ccc([S@@](=O)Cc2ccc(O)cc2)cc1',\n",
       " 'CCc1nn(C)cc1CNC(=O)NCC(C)(C)Cc1ccccc1',\n",
       " 'COC(=C(C#N)C#N)c1cccs1',\n",
       " 'O=C(NCc1ccnc(OCC(F)F)c1)NCc1cscn1',\n",
       " 'C[C@@H](C(=O)N1CCCC1)N1CCN(C(=O)NCc2ccco2)CC1',\n",
       " 'CC(C)c1ccc(CN(C)C(=O)NCCCn2cccn2)cc1',\n",
       " 'CNC(=O)[C@@H]1CCCN(C(=O)Nc2nn(-c3ccccc3Cl)cc2C)C1',\n",
       " 'COc1ccccc1N1CC[NH+]([C@@H](C)C(=O)Nc2ccc(F)cc2)CC1',\n",
       " 'CN1C[NH+](C)CC2=C1NCNS2(=O)=O',\n",
       " 'CNC(=O)c1ccc(O[C@@H]2CCC[C@H]([NH3+])C2)nn1',\n",
       " 'COc1ccc(C(=O)O[C@@H](C)[C@@H]2CCCO2)cc1OC(F)F',\n",
       " 'Cc1ccc(/C=C2/SC(=S)N(CCC(=O)N3CCCc4ccccc43)C2=O)cc1',\n",
       " 'CCc1cccc(S(=O)(=O)Nc2cccc(-c3nnnn3C)c2)c1',\n",
       " 'Cc1ccc2c(c1)CCN2C(=O)c1ccc(C)nc1C',\n",
       " 'CCCNC(=O)CN1CCN(C(=O)Cc2c(C)nn(-c3ccccc3)c2C)CC1',\n",
       " 'Cc1ccc(C(=O)NC2CC[NH+](Cc3nc(-c4ccccc4)cs3)CC2)s1',\n",
       " 'CCOc1ccc(F)c(C(=O)OC[C@H]2CCCCO2)c1F',\n",
       " 'C[NH+]1CCC(NC(=O)c2ncoc2-c2ccccc2)CC1',\n",
       " 'O=C(NC[C@@H](O)CN1CCCC1=O)Nc1cccc(F)c1',\n",
       " 'CC[NH+]1CCC[C@H](NC(=O)c2ccc(OC)c(O)c2)C1',\n",
       " 'O=C(CSCC(F)(F)F)N1CCN(c2ccc(Cl)cn2)CC1',\n",
       " 'COc1ccc(Cl)cc1S(=O)(=O)N[C@H](C)C(=O)NCc1ccc2c(c1)OCO2',\n",
       " 'Cn1cc(C(=O)Nc2ccc(-n3ccnn3)cc2)c(C(C)(C)C)n1',\n",
       " 'Cc1cccc(NC(=O)C[C@@H]2CCCCO2)c1C(=O)[O-]',\n",
       " 'Clc1ccc([C@H](NCCc2nnc3ccccn23)C2CC2)cc1Cl',\n",
       " 'Clc1ccc(OCCCCSc2ncccn2)cc1Cl',\n",
       " 'Cn1nnc2cc(C(=O)N[C@@H](C#N)c3ccc(Cl)c(Cl)c3)ccc21',\n",
       " 'Cc1cc(C)cc(-c2nnc(Sc3nc(C(C)C)ns3)o2)c1',\n",
       " 'C/C(=C/c1ccc(F)cc1)C(=O)NCc1cccc(OCC(F)F)n1',\n",
       " 'CC(C)Nc1cccc(CNC(=O)N[C@@H]2CC[NH+](CC3CC3)C2)c1',\n",
       " 'O=C(COc1ccc(F)cc1F)NC[C@H](O)c1ccccc1Cl',\n",
       " 'Cc1ccc(-n2nc3c(c2NC(=O)C(C)C)C[S@@](=O)C3)cc1',\n",
       " 'COc1nc(Oc2ccc3ccccc3c2)ccc1N',\n",
       " 'O=C(c1ccccc1)c1ccc2nc(Nc3ccccc3)c3nncn3c2c1',\n",
       " 'O=C(C[C@@H](O)c1cccc(F)c1)Nc1cc(F)ccc1O',\n",
       " 'CC(C)c1nc(CSCc2ccnn2C)no1',\n",
       " 'O=C(C1CCC1)N1CCC[C@H]1c1nc2cc(-c3ccccc3)ccc2o1',\n",
       " 'O=C(CC[C@@H]1NC(=O)NC1=O)NC1CCN(c2ccccc2F)CC1',\n",
       " 'Cc1ccc(-n2nc3c(c2NC(=O)c2ccc(Br)o2)CSC3)cc1C',\n",
       " 'C=CCn1c(SCc2nnc([S-])n2-c2ccccc2)nnc1-c1ccccc1',\n",
       " 'c1nnn(C23C[C@H]4C[C@H](CC(c5nc6c7cn[nH]c7ncn6n5)(C4)C2)C3)n1',\n",
       " 'CCCn1ncnc1COc1ccc(C)nc1C[C@H](C)[NH3+]',\n",
       " 'CCSc1ccc(C(=O)N2CC[C@H](C)[C@H](O)C2)cn1',\n",
       " 'C[C@H]1[C@H](C(=O)[O-])CCN1S(=O)(=O)[C@@H](C)C#N',\n",
       " 'COc1ccccc1NC(=O)CSc1nnc(C)c(=O)n1N',\n",
       " 'Cc1ccc(S(=O)(=O)OCCc2coc3ccccc23)cc1',\n",
       " 'COc1ccccc1[C@@H](C)NC(=O)[C@@H](C)Oc1cccc(F)c1',\n",
       " 'CC[C@@H](Oc1ccccc1/C=C1\\\\S/C(=N\\\\c2cccc(O)c2)N(CC)C1=O)C(=O)[O-]',\n",
       " 'C[C@@H]([NH2+]C[C@H]1CC[C@H](C(N)=O)O1)c1ccc2c(c1)OCCCO2',\n",
       " 'Cc1ccccc1Nc1nc(N)nc(COc2ccc(F)c(Cl)c2)n1',\n",
       " 'CC(=O)Nc1ccc(OC(=O)/C=C/c2ccc(C(N)=O)cc2)cc1',\n",
       " 'O=C([O-])c1ccc(-c2ccncc2)cn1',\n",
       " 'O[C@H](c1c(F)c(F)c(F)c(F)c1F)C(Cl)(Cl)Cl',\n",
       " 'COc1ccc(/C=N/NC(=O)CNc2ccc3ccccc3c2)cc1OC',\n",
       " 'Cc1ccc(NC(=O)/C(C#N)=C/c2cc(C)n(-c3ccc(O)cc3)c2C)cc1Cl',\n",
       " 'Cc1cccn2c(=O)c(C(=O)N[C@H]3CCN(C(=O)C(C)C)C3)cnc12',\n",
       " 'O=C(NCCCS(=O)(=O)c1ccccc1)c1n[nH]c2ccccc12',\n",
       " 'C1=C(CC[NH2+]Cc2ccco2)CCCC1',\n",
       " 'CCN(CC(=O)NCc1ccc(F)cc1)C(=O)c1cnc(-c2cccnc2)s1',\n",
       " 'FC(F)(F)c1cccc2c1CCCC2',\n",
       " 'CN(C)C(=O)CCCNC(=O)c1ccnc(OC(C)(C)C)c1',\n",
       " 'Cc1ccc(NC(=O)[C@H](C)[NH+](C)Cc2nnc(C3CC3)n2C)c(C)c1',\n",
       " 'CN(C)c1cccc(C(=O)OCC(=O)C(C)(C)C)c1',\n",
       " 'Cc1nsnc1Cn1nnc(C(=O)NC(C)C)c1C',\n",
       " 'CC(=O)Cc1nsc(N[C@@H](C)c2ccccc2)n1',\n",
       " 'COc1ccc(CNC(=O)[C@H]2Oc3ccccc3O[C@@H]2C)cn1',\n",
       " '[NH3+]CC1CCC(c2nc3ccc(Cl)cc3s2)CC1',\n",
       " 'CCN(C(=O)NC1CC[NH+](C[C@@H](O)COC)CC1)C1CCCC1',\n",
       " 'CCSc1nc2ccccc2c(=O)n1CCc1ccccc1',\n",
       " 'Cc1cc(C(=O)COC(=O)c2cc(Cl)c3c(c2)OCCCO3)c(C)n1C1CC1',\n",
       " 'COc1ccc([C@@H](CNC(=O)c2ccc([N+](=O)[O-])o2)[NH+](C)C)cc1',\n",
       " 'CC[C@H](NC(=O)c1ccc(C#N)cn1)C(=O)N1CCOCC1',\n",
       " 'CCOC(=O)NC(=O)c1c(NC(=O)Cc2ccc(F)cc2)sc2c1CC[C@H](C)C2',\n",
       " 'CC(C)n1cnnc1SCC(=O)Nc1ccc2c(c1)nc(C1CC1)n2C',\n",
       " 'CCc1ccc([C@H](O)C2(C[NH3+])CCCC2)cc1',\n",
       " 'COc1ccc(CNC(=O)N2CCc3c([nH]c4ccccc34)[C@H]2C)cc1OC',\n",
       " 'COc1ccc([C@@H]2C(C#N)=C(N)Oc3cc(C)n(CCN4CCOCC4)c(=O)c32)cc1OC',\n",
       " 'O=c1[nH]nc([O-])n1/N=C/c1ccco1',\n",
       " 'C[C@H](Oc1cccc(Cl)c1)C(=O)N1CCC(Cc2ccccc2)CC1',\n",
       " 'COc1cc([C@@H]2C(C(=O)Nc3ccc(F)cc3)=C(C)Nc3nc(C)nn32)cc(OC)c1OC',\n",
       " 'CC[C@@H](C)[C@@H](O)C[NH2+][C@@H](c1cccs1)C1CC1',\n",
       " 'CSc1cc(-c2cccs2)oc(=O)c1C#N',\n",
       " 'CC(C)[C@@H](NC(=O)c1ccc(NS(C)(=O)=O)cc1)C(=O)[O-]',\n",
       " '[NH3+][C@H](CO)c1ccc(N2CCOCC2)c(Cl)c1Cl',\n",
       " 'CCCn1cc(NC(=O)c2cc3nc(-c4ccccc4)cc(-c4ccccc4)n3n2)cn1',\n",
       " 'Cc1ccc(S(=O)(=O)N2CCC(C(=O)N3CCCc4ccccc43)CC2)cc1C',\n",
       " 'C=CCN(CC=C)C(=O)C1CCN(C(=O)C(C)(C)C)CC1',\n",
       " 'Cc1nc(CSc2nncc3ccccc23)nc2ccccc12',\n",
       " 'C[C@H]1CCCC[NH+]1C[C@@H]1CCC(C)(C)[C@@H]1[NH3+]',\n",
       " 'COc1cc(C(=O)Nc2ccccc2Oc2ccccc2)on1',\n",
       " 'COc1ccc(S(=O)(=O)N2CCOCC2)cc1NC(=O)/C=C/c1ccc(F)c(Cl)c1',\n",
       " 'Cc1ccc(F)c(C[NH+]2CCC(C(=O)NC(C)C)CC2)c1',\n",
       " 'CCn1nc(C)c(CNC(=O)[C@H]2[NH+]=c3ccccc3=C2NC(=O)c2cccc(C)c2)c1C',\n",
       " 'COc1ccc(C(=O)N2CCC[C@H](C(=O)Nc3cc(Cl)ccc3F)C2)c2ccccc12',\n",
       " 'CCc1ccc(/C=C(\\\\C#N)C(N)=O)s1',\n",
       " 'COc1cccc(N2C(=O)Nc3ccccc3[C@]2(O)C(=O)NCc2ccccc2)c1',\n",
       " 'COC(=O)c1sccc1NC(=O)[C@@H]1CC[NH2+][C@@H]1C',\n",
       " 'C/[NH+]=C(/NCc1ccc([N+]2=CCCC2)cc1)N[C@H]1CC[C@@H](SC)C1',\n",
       " 'N#Cc1csc(C(=O)N2CC[C@H]3CCCC[C@@H]32)c1',\n",
       " 'Cc1cccc(NC(=O)[C@H](C)[S@@](=O)Cc2ccc(F)c(F)c2)c1C',\n",
       " 'CNS(=O)(=O)c1cccc([C@H](C)NC(=O)c2ccc(Cn3cccn3)cc2)c1',\n",
       " 'CC[NH2+][C@@]1(C(=O)OC)CCC[C@@H](Oc2ccccc2)C1',\n",
       " 'COCCCn1c(C)c(C)c(C#N)c1NC(=O)C[NH+]1CC(C)(C)C1(C)C',\n",
       " 'C[C@H]1CCC[C@@H](C)N1C(=O)[C@H]1C[C@H]1c1ccccc1Cl',\n",
       " 'COCc1ccc(C[NH+](C)Cc2ccccc2O)o1',\n",
       " 'Cc1c(F)cc(N)cc1S(=O)(=O)NCC(N)=O',\n",
       " 'CCNS(=O)(=O)[C@@H]1CC[NH+](C[C@@H]2CCCc3ccccc32)C1',\n",
       " 'CC1(C)[C@@H]2CC[C@@]1(CS(=O)(=O)NCCCO)C(=O)C2',\n",
       " 'COc1ccc(-n2ccc(CNC(=O)c3cc(Cl)ccc3[N+](=O)[O-])n2)cc1',\n",
       " 'CC[C@@H](NC(=O)NC1CCC(C(=O)OC(C)(C)C)CC1)[C@H]1CCCO1',\n",
       " 'CN(CC[NH+](C)C)C(=O)C[C@H]1COCCN1C(=O)c1ccc2[nH]nnc2c1',\n",
       " 'CC[C@H](c1ccc(F)cc1)N(C)C(=O)Cn1nnc(-c2ccccc2)n1',\n",
       " 'O=C(Cn1cccc1-c1nc(-c2ccc(OC(F)(F)F)cc2)no1)Nc1nccs1',\n",
       " 'CCc1nsc(Nc2ccc(CC(=O)N3CC[NH+](CC)CC3)cc2)n1',\n",
       " 'CS[C@@H]1CC[C@H](NC(=O)/C=C(/C)c2ccccc2)C1',\n",
       " 'Cc1ccc([N+](=O)[O-])cc1NCC(=O)N[C@](C)(C#N)C1CC1',\n",
       " 'CC1(C)[C@H]2OCC[C@@H]2[C@H]1NC(=O)CCNC(=O)C12CC3CC(CC(C3)C1)C2',\n",
       " 'c1ccc(COC2CC[NH+](Cc3cccnc3)CC2)cc1',\n",
       " 'O=C(C1CCCC1)N1CCC[C@@H]([NH+]2CCC(CO)CC2)C1',\n",
       " 'COC(=O)CNC(=O)c1sc2ncn(CC(=O)N3CCCCC3)c(=O)c2c1C',\n",
       " 'CC(C)CCNC(=O)[C@@H](C)Oc1ccc(N)cc1C(=O)[O-]',\n",
       " 'CCN(CC)C(=O)[C@@H]1C[C@@H]([NH3+])CN1C(=O)Cc1cccc(O)c1',\n",
       " 'COc1ccc(F)cc1NC(=O)N1CCO[C@H](c2ccc(C)o2)C1',\n",
       " 'COc1ccc(-c2nnc(SCC(=O)c3ccc(Br)cc3)o2)cc1OC',\n",
       " 'CC(C)=CC(=O)NCCC1CCN(c2cc[nH+]cc2)CC1',\n",
       " 'C[C@]1(O)[C@](C)(O)[C@@H](CO)O[C@](C)(Oc2c[nH]c3ccc(Br)c(Cl)c23)[C@]1(C)O',\n",
       " 'O=C(CCCc1nc(-c2cccnc2)no1)N1CCC[C@@H](Cc2ccccc2)C1',\n",
       " 'Cn1nc(NC(=O)c2cccc(F)c2)c2c1NC(=O)C[C@@H]2c1ccccc1',\n",
       " 'O=C(CSc1ccncc1)NCCN1Cc2ccccc2O[C@@H](c2ccccc2)C1',\n",
       " 'N#Cc1ccc(OCCn2cc(Cl)cn2)cc1',\n",
       " 'C[C@@H]1CCN(C(=O)Nc2ccc(O[C@@H]3CCOC3)cc2)[C@H](C)C1',\n",
       " 'CC[C@H](C)[C@H](C)[NH2+]Cc1ncccc1F',\n",
       " 'C#CC(C)(C)NC(=O)c1ccc(OC)c(O)c1',\n",
       " 'COc1cc([N+](=O)[O-])ccc1OCc1nc(-c2cccs2)no1',\n",
       " 'CC1CCN(C(=O)C[NH+]2CCC[C@@H](c3nc4ccccc4o3)C2)CC1',\n",
       " 'C[C@H]1CCC[C@H](NC(=O)Cc2c[nH]c3ccccc23)[C@@H]1C',\n",
       " 'Cn1nc(CNC(=O)Nc2ccccc2C(F)(F)F)cc1-c1ccncc1',\n",
       " 'CC[NH2+]C[C@H](Cc1cscn1)c1cccc(F)c1',\n",
       " 'CCCCS(=O)(=O)N1CCN(c2ccc(-n3ccnc3C)nn2)CC1',\n",
       " 'O=C(c1cc2ccccc2o1)N(C[C@H]1CCCO1)c1nc2c(F)cccc2s1',\n",
       " 'C[C@H](CC#N)Sc1ccccc1NC(=O)c1ccc(Cl)nc1Cl',\n",
       " 'O=C(CCCc1nc2ccccc2s1)N[C@H]1CCOC1=O',\n",
       " 'COC(=O)c1cc(S(=O)(=O)N[C@H](C)c2ccccc2C)cn1C',\n",
       " 'Cc1cnn(CC(=O)[C@@H](C#N)c2nc([O-])c3ccc(Cl)cc3n2)c1',\n",
       " 'COc1ccc(C)cc1NC(=O)[C@H]1CCCN1c1cc(C)ccc1[N+](=O)[O-]',\n",
       " 'CC[NH+]1CCC2(CC1)OC[C@H](C(=O)[O-])N2C(=O)c1ccc(F)cc1',\n",
       " 'Cc1ccc2c(c1)N(C(=O)C[C@H](O)c1ccc(Cl)cc1)CC2',\n",
       " 'O=c1[nH]cnc2c1[nH]c(=S)n2[C@@H]1O[C@H](CO)[C@@H](O)[C@H]1O',\n",
       " 'Cc1cn2c([nH+]1)CC[C@H](NC(=O)C[C@@H]1CCCc3ccccc31)C2',\n",
       " 'CC(=O)c1cc(CN2CCC3=NN=C(c4ccccc4F)[C@@H]3C2)cs1',\n",
       " 'C[C@H](Nc1ccc(S(=O)(=O)N2CCCCC2)cn1)[C@@H](C)CO',\n",
       " 'COCCn1nc(C)c(NC(=O)N2CCC[C@H]2c2cccc(C)c2)c1C',\n",
       " 'CCCCS(=O)(=O)[N-]c1ccc(NC(=O)[C@H]2CCC[NH+](C)C2)cc1',\n",
       " 'Fc1ccc(Oc2ccnc(Sc3nnc(-c4cccs4)o3)n2)cc1',\n",
       " 'N#Cc1ccc(NC(=O)[C@@H]2CSCN2C(=O)c2cn(Cc3ccccc3)c3ccccc23)cc1',\n",
       " 'CC[C@@H](C)n1nccc1NC(=O)C(=O)N1CCc2cc(F)ccc2C1',\n",
       " 'Cc1ccc(-c2cnc(CCC(=O)N(C)C3CCOCC3)o2)cc1',\n",
       " 'C[C@H](CNC(=O)c1ccc(-c2ccccc2)[nH]c1=O)Oc1ccc(F)cc1',\n",
       " 'CCOC(=O)c1c(NC(=O)[C@H]2CCCN2S(C)(=O)=O)sc2ccccc12',\n",
       " 'Cc1ccc(C(=O)Cc2cccc(O)c2)cc1',\n",
       " 'Cc1ccccc1-c1nn(CN2CCCc3ccc(S(C)(=O)=O)cc32)c(=S)o1',\n",
       " 'CCOc1cccc([C@H](C)NC[C@@](C)(O)c2ccc(F)cc2F)c1',\n",
       " 'CC[C@@H]1CCCCCN1C(=O)c1cnc2sc(C)cn2c1=O',\n",
       " 'N#Cc1ccc(OCC(=O)NCc2cccc(CO)c2)cc1',\n",
       " 'O=C(Nc1ccccc1)NC1CCN(C(=O)[C@H]2CCCC[C@H]2C(F)(F)F)CC1',\n",
       " 'CC1(C)CCC(O)(C[NH2+][C@@H]2CCOC3(CCC3)C2)CC1',\n",
       " '[NH3+][C@H]1CCC[C@H]1CCN1C(=O)c2cccc3cccc1c23',\n",
       " 'C#CCN(Cc1cc(Br)cc(OC)c1O)[C@@H]1CCS(=O)(=O)C1',\n",
       " 'Cc1ccc(-c2nc3nc(CN4CC[NH+](C)CC4)cc([O-])n3n2)cc1',\n",
       " 'C[C@@](O)(CNC(=O)C1CCCC1)c1cccs1',\n",
       " 'O[C@H](CSc1nnc(-c2c[nH]c3ccccc23)n1C1CC1)CN1CCOCC1',\n",
       " 'C[C@@H]1CCC/C(=N/[NH+]=C(/[S-])NCc2ccccc2)C1',\n",
       " 'O=C(c1cc2ccc(Cl)cc2[nH]1)N1CCC[C@@H]1Cn1nnc(-c2cccs2)n1',\n",
       " 'COc1ccc(S(=O)(=O)Oc2ccc(C(C)=O)cc2OC)cc1',\n",
       " 'CC(C)c1ccccc1NC(=O)C[NH+](C(C)C)[C@@H]1CCCC[C@@H]1O',\n",
       " 'O=Cc1ccn(-c2ccc(Br)cc2)c1',\n",
       " 'O=C(C1CC1)N1CCC[C@H](Cn2cc[nH+]c2-c2cc3n(n2)CC[NH2+]C3)C1',\n",
       " 'O=C(CCNc1ccccc1[N+](=O)[O-])N1CCC[C@@H]([NH+]2CCCC2)C1',\n",
       " 'Cc1ccc2c(c1)-c1onc(C(=O)N3C[C@@H](C)C[C@H](C)C3)c1CO2',\n",
       " 'O=C(COC(=O)c1ccc(Cl)nc1)NC(=O)Nc1ccc2c(c1)OCCO2',\n",
       " 'CCC[C@@H]1C[C@H]1NC(=O)C1(c2ccc(F)cc2F)CCOCC1',\n",
       " 'CCOC(=O)C1CCC(NC(=O)[C@@](C)([NH3+])CC)CC1',\n",
       " 'CC[C@@H](O)C(=O)NCc1cccnc1Oc1ccccc1OC',\n",
       " 'C[C@@H](Sc1nnc(-c2cccs2)n1-c1ccccc1)C(=O)N1CC(=O)Nc2ccccc21',\n",
       " 'Cc1cc(F)ccc1NC(=O)COc1ccc2c(c1)CCC2',\n",
       " 'C[C@H](NC(=O)NCCC[S@](C)=O)c1ccc(Cl)s1',\n",
       " 'O=C(Cn1c(=O)c(=O)n(Cc2ccncc2)c2ncccc21)NCCc1ccccc1',\n",
       " 'CS(=O)(=O)c1ccc(C(=O)Nc2ccc(F)c(F)c2F)cc1',\n",
       " 'CCCCOc1ccccc1/C=C1\\\\SC(N2CCC(C)CC2)=NC1=O',\n",
       " 'CC(C)[C@@H](CNC(=O)N1CCc2ccc(Cl)cc2C1)c1cccnc1',\n",
       " 'CCCOc1ncnc(Nc2cc(Cl)cc(Cl)c2)c1N',\n",
       " 'CC(=O)Nc1ccc(NC(=O)c2nnn(-c3ccc(C)c(C)c3)c2C)cc1',\n",
       " 'CCOC1CC[NH+](CC[C@@H](O)c2ccc(C)c(F)c2)CC1',\n",
       " 'IC[C@@H]1Cn2c(nnc2-c2ccncc2)S1',\n",
       " 'CCOc1ccc([C@H]2CCCN2C(=O)c2[nH]c(C)c(C(C)=O)c2C)cc1',\n",
       " 'CC(C)CONc1ncnc2sc3c(c12)CCC3',\n",
       " 'CC(C)[C@@H](ON1C(=O)c2ccccc2C1=O)C(=O)[O-]',\n",
       " 'COC[C@H](O)C[NH+]1CCC(C)(C)C1',\n",
       " 'COC(=O)[C@@H](c1ccccc1Cl)N1CCCSCC1',\n",
       " 'O=C(Nc1nc2ccc(F)cc2s1)c1cc(-c2ccccc2O)[nH]n1',\n",
       " 'C/C(=N\\\\Nc1ncnc2sc(C)c(C)c12)c1cccc(OC(F)F)c1',\n",
       " 'CC(C)CN1CCO[C@@H](CNC(=O)/C=C/c2ccnc(Cl)c2)C1',\n",
       " 'Cc1cc(F)ccc1CCNC(=O)Cc1c[nH]c2c(C)cccc12',\n",
       " 'NC(=O)[C@@H]1CCCN(C(=O)Cn2nc(-c3cccs3)oc2=O)C1',\n",
       " 'CCCCCn1c(SCC(=O)[O-])nc2ccccc2c1=O',\n",
       " 'Cc1ccc2nc(NC(=O)c3ccc(OCc4nc(-c5ccco5)cs4)cc3)sc2c1',\n",
       " 'COc1ccccc1N1CCN(c2ccc(=O)n(CC(=O)NC3CC3)n2)CC1',\n",
       " 'C/C(=C/C(=O)N[C@@H](C)c1c(C)noc1C)c1ccccc1OC(F)F',\n",
       " 'COCCn1nc(C)c(NC(=O)N2CC[C@H](Cc3ccccc3)C2)c1C',\n",
       " 'Cc1ccsc1C[NH+](Cc1nc2ccccc2n1C(C)C)C[C@H](C)O',\n",
       " 'Cc1cccc(CNC(=O)C[C@H]2Oc3ccc(C)cc3NC2=O)c1',\n",
       " 'C[C@@H](c1ccc([S@](C)=O)cc1)N(C)C(=O)c1cc2cccc(F)c2o1',\n",
       " 'COc1cc(OC)c(C(C)=O)cc1CSc1nnnn1-c1ccccc1',\n",
       " 'Cc1sc(=O)n(CCC(=O)NC2CC(C)(C)[NH2+]C(C)(C)C2)c1C',\n",
       " 'CC[C@@H]1CCCCN1C(=S)NC(=O)c1ccc(C)cc1',\n",
       " 'CCC[C@H](C)C(=O)N[C@H](C)c1cccc(Br)c1',\n",
       " 'COc1cccc([C@H]2CCCN2C(=O)c2ccccc2I)c1',\n",
       " 'C[C@H](NC(=O)N1CCCC[C@@H]1C1OCCO1)c1cccc(-n2ccnc2)c1',\n",
       " 'CS(=O)(=O)N1CCC[C@@H](C[NH+]2CCC[C@H](CO)C2)C1',\n",
       " 'CCN(C(=O)Cn1nc2n(c1=O)CCCCC2)[C@H]1CCS(=O)(=O)C1',\n",
       " 'COc1ccccc1NC[C@H]1CCCN(S(C)(=O)=O)C1',\n",
       " 'COc1cc([C@@H]2CC(=O)Nc3c2cnn3Cc2cccnc2)cc2c1OCO2',\n",
       " 'O=C(CNc1ccc(Cl)cc1NC(=O)c1ccco1)Nc1ccc(F)c(Cl)c1',\n",
       " 'Cc1nn(C)cc1[C@@H](C)NC(=O)C(=O)Nc1ccc(OCC2CCCCC2)cc1',\n",
       " 'CC(C)(C)[S@](=O)CCNC(=O)c1cccc(F)c1Cl',\n",
       " 'C[C@@H](O)c1ccc(F)cc1OCc1nc(C(C)(C)C)cs1',\n",
       " 'COC[C@H](NC(=O)Nc1cn[nH]c1)c1ccc(F)c(F)c1',\n",
       " 'C[C@@H]1CS(=O)(=O)N(c2ccc(S(=O)(=O)Nc3ccccc3C(F)(F)F)cc2)C1=O',\n",
       " 'CC(C)c1ccc2c(c1)[C@]1(CC(O)=Nc3c1cnn3Cc1ccccc1Cl)C(=O)N2C',\n",
       " 'CC[C@@H](C)C(=O)NCC(=O)N(C)[C@@H](C)c1cc(F)ccc1F',\n",
       " 'CO/N=C\\\\C(C#N)=C/c1cccnc1',\n",
       " 'CO[C@H](c1ccc(Cl)cc1)[C@@H](C)NC(=O)C(=O)Nc1ccccc1C',\n",
       " 'CC(C)CNC(=O)[C@](C)(N)C(F)(F)F',\n",
       " 'C[C@@H](C(=O)C1=c2ccccc2=[NH+]C1)[NH+]1CCC[C@@H]1[C@@H]1CC=CS1',\n",
       " 'Cc1nc(Br)ccc1NC(=O)NCc1cnn(C)c1',\n",
       " 'COc1c(C)cnc(CNC(=O)Nc2ccc(N(C)C)cc2)c1C',\n",
       " 'COc1ccc2cc(COC(=O)COc3ccccc3C#N)ccc2c1',\n",
       " 'CCS(=O)(=O)CCN(C)Cc1c[nH]nc1-c1ccc(C)cc1',\n",
       " 'COc1ccc([C@@](C)([NH3+])Cc2[nH+]ccn2C)cc1',\n",
       " 'C[C@H]1CCN(C(=O)NCCc2nnc3n2CCCCC3)[C@@H](C)C1',\n",
       " 'O=C(NC[C@@H]1CCC[NH+](Cc2ccccc2F)C1)c1nc[nH]n1',\n",
       " 'O=C1CC[C@@H](NC(=O)COc2ccc(Cl)c(Cl)c2)CN1',\n",
       " 'Cc1noc(C)c1COc1ccc(C[NH2+]C[C@H]2CCCO2)cc1',\n",
       " 'N#Cc1cnn2c1N[C@@H](c1ccccc1)C[C@@H]2C(F)F',\n",
       " 'C[C@@H]1Cc2ccccc2N1C(=O)[C@H]1CCCN(C(=O)NC2CC2)C1',\n",
       " 'COCc1nc(C(=O)OCC2=CC[C@H]3C[C@@H]2C3(C)C)cs1',\n",
       " 'CCN(Cc1ccc(Br)s1)C(=O)C[NH+](C)CC(=O)[O-]',\n",
       " 'O=C([O-])[C@H]1CCCN(c2ccc([O-])nn2)C1',\n",
       " 'COc1ccc(CCCC(=O)Nc2cccc(S(N)(=O)=O)c2)cc1F',\n",
       " 'Fc1ccccc1[C@@H](c1nnnn1C1CCCCC1)[NH+]1CCN(c2ccccc2)CC1',\n",
       " 'O=C(C/C(=N\\\\Nc1nc(-c2ccccc2)cs1)c1ccccc1)C(F)(F)F',\n",
       " 'C[C@H]([NH2+]CC(=O)N(C)C)c1ccc(Cl)s1',\n",
       " 'CCOC(=O)COc1ccccc1/C=C1/C(=O)NC(=O)N(c2ccc3c(c2)OCO3)C1=O',\n",
       " 'Cc1cc(C(=O)NNC(=O)c2cccc3ccccc23)c(C)o1',\n",
       " 'COc1ccc(-c2csc(NC(=O)Nc3ccc(F)cc3)n2)cc1OC',\n",
       " 'Cc1ccc(C)c(S(=O)(=O)N2CCN([C@H](C)c3nc(N)nc(Nc4ccccc4)n3)CC2)c1',\n",
       " 'Cc1cccc(C)c1-n1nnnc1CSCc1nnc(C)n1C',\n",
       " 'COc1cccc(C(=O)N[C@@](C)(C(N)=O)c2cccc(Cl)c2)c1',\n",
       " 'C[C@H](CCO)[NH2+][C@H]1CCc2c(Br)cccc21',\n",
       " 'CCc1ccsc1-c1cnc(C[NH3+])o1',\n",
       " 'NC(=O)C1(N2CCCC2)CC[NH2+]CC1',\n",
       " 'CC(C)C[C@@H]([NH3+])C(=O)N1CC[C@H](C(=O)[O-])[C@@H]1C',\n",
       " 'CC[C@H](C)Cn1c(CCCl)nc2c(C)nn(C)c21',\n",
       " 'Cc1csc([C@H](C)NC(=O)CCC[NH+]2CCCCC2)n1',\n",
       " 'CCC(=O)NN/C(C)=C/C(=O)NCC(C)(C)C',\n",
       " 'CCC(=O)N1CCC([NH+](C)Cc2ccc(SC)c(OC)c2)CC1',\n",
       " 'Clc1ccc(CNc2ncccc2Cl)cn1',\n",
       " 'C[C@H](c1nc(C(C)(C)C)no1)[S@](=O)Cc1ncn(-c2ccccc2)n1',\n",
       " 'Cn1cnn(C[NH+](Cc2ccc(F)cc2)C2CC2)c1=S',\n",
       " 'C#CC(C)(C)NC[C@H]1CN(C)CCO1',\n",
       " 'C[C@H](NC(=O)[C@H]1CCCN1S(C)(=O)=O)c1ccc2c(c1)OCO2',\n",
       " 'O=C(Nc1ccc2ncccc2c1)C(=O)NC1CCC(O)CC1',\n",
       " 'CC(C)[C@H]([NH2+]CC1CCN(C(=O)OC(C)(C)C)CC1)c1cccnc1',\n",
       " 'CCC[C@H](C)NC(=O)C[NH2+]Cc1cscc1C',\n",
       " 'CS(=O)(=O)N1CCC(C(=O)Nc2sc3c(c2C#N)CCCC3)CC1',\n",
       " 'O=C(CN(C(=O)Cn1nnc2ccccc21)c1ccccc1)NC[C@H]1CCCO1',\n",
       " 'O=C(Nc1cccc(N2CCCNC2=O)c1)C(=O)N1CCc2cc(F)ccc2C1',\n",
       " 'C[C@@H]1CC[NH+](CCCN2C(=O)CNC2=O)C[C@@H]1O',\n",
       " 'O=C(COc1ccc(Br)cc1)NOCc1ccccc1',\n",
       " 'CC(=O)C[C@]1(O)C(=O)N(Cc2ccc(C)cc2)c2c(C)cccc21',\n",
       " 'C[C@H](OC(=O)c1ccc2ccccc2n1)C(=O)NCC1CCCCC1',\n",
       " 'C[C@@H](Sc1cc(Cl)ccc1Cl)C(=O)N1CCC[C@H](CCC(N)=O)C1',\n",
       " 'COc1cc(-c2ccno2)ccc1S(=O)(=O)NCc1ccco1',\n",
       " 'CCC[C@@H](CC)Nc1c(F)c(F)nc(F)c1F',\n",
       " 'Oc1cccc([C@@H]2CN(c3nccc(Oc4ccc(F)cc4)n3)CCO2)c1',\n",
       " 'COc1ccc([C@H](CNC(=O)c2cccc3ccccc23)[NH+]2CCCC2)cc1',\n",
       " 'CC1(C)[C@@H]2CC[C@@]1(C)[C@H](NC(=O)COc1ccc(C3SCCCS3)cc1)C2',\n",
       " 'Cc1c(C)n(-c2ccccc2)c2nc(C(=O)Nc3ccc(F)cc3)nc(N3CCCCC3)c12',\n",
       " 'CC(C)C(=O)Nc1cccc(NC(=O)C(=O)NCC[C@H]2C[C@H]3CC[C@@H]2C3)c1',\n",
       " 'COc1ccc(CNC(=O)c2cc(N3C(=O)C(C)(C)CS3(=O)=O)ccc2Cl)cc1OC',\n",
       " 'CC(=O)Nc1cccc(NC(=O)CCc2c(C)[nH]c(=S)[nH]c2=O)c1',\n",
       " 'COc1ccccc1[C@H]1CCCN1C(=O)[C@@H](C)CCOc1ccccc1',\n",
       " 'CCNc1ncc(COCC2CCCCC2)s1',\n",
       " 'CC[C@H](C)C(=O)Nc1ccccn1',\n",
       " 'O=C([O-])CC1=C(C(=O)[O-])CCCC1',\n",
       " 'Fc1ccc(C[NH2+]C[C@@H]([C@H]2CCOC2)N2CCOCC2)c(F)c1',\n",
       " 'CCc1cc(Cn2cc(N)nn2)n(C)n1',\n",
       " 'N#Cc1cccnc1Oc1ccccc1NCc1cccc2ccccc12',\n",
       " 'O=C(NCc1ccc([N+](=O)[O-])cc1)N[C@@H]1CCCC[C@H]1CO',\n",
       " 'C[C@H](NC(=O)NC[C@H](C)C[C@@H](C)O)c1ccc(S(C)(=O)=O)cc1',\n",
       " 'CC(C)Oc1ccc(NC(=O)NC[C@H](C)N2CCOCC2)c(F)c1',\n",
       " 'COc1ccccc1COC1CCN(C(=O)[C@H]2CCC[C@@H](C)C2)CC1',\n",
       " 'CC(=O)O[C@H]1CC[C@H]2[C@H]3C[C@H](OC(C)=O)[C@]45C[C@H]4CC[C@]5(C)[C@@H]3CC[C@]12C',\n",
       " 'CCCn1nnnc1CN1CC[C@]2(C1)NC(=O)N(C(C)C)C2=O',\n",
       " 'CC1=C(C(=O)OCC(C)C)[C@H](c2cccc(F)c2)c2c(n(C)c(=O)n(C)c2=O)N1',\n",
       " 'Cc1cc(C)c2c(-c3ccccc3)nc(SCC(=O)NC3CC3)n2n1',\n",
       " 'COc1cc2c(cc1OC)[C@H](C(=O)[O-])[C@H](c1cccc(Cl)c1)N(C)C2=O',\n",
       " 'COCCN1C(=O)CC[C@@H]2C[NH+](Cc3cc(C)ccc3C)CC[C@@H]21',\n",
       " 'Cc1cnc([C@H](C)NC(=O)NNC(=O)Nc2ccccc2)s1',\n",
       " 'CNC(=O)c1ccc(NC(=O)c2csc(-c3ccccc3)n2)cc1',\n",
       " 'CNc1nc(C2CCN(C(=O)Cc3ccccn3)CC2)[nH+]c2c1CN(C(C)=O)CC2',\n",
       " 'Cc1cc(C)n(C[C@@H](C)CNC(=O)NCc2cc3ccccc3o2)n1',\n",
       " 'Cc1nc2n(n1)C[C@H]([NH2+]C[C@@H](O)CN(C)Cc1ccccc1)CC2',\n",
       " 'c1ccc(Cn2c(SCc3ncon3)nnc2-c2cccs2)cc1',\n",
       " 'COc1ccc(-n2nc(C)c3c2C[C@H](c2cc(OC)c(OC)c(OC)c2)CC3=O)cc1',\n",
       " 'COc1ccc(OC)c(/C=C/C(=O)OCC(C)C)c1',\n",
       " 'C[C@H](NC(=O)[C@H]1CC[C@H](C[NH3+])O1)C(=O)N(C)C',\n",
       " 'Cc1cccc(C(C)C)c1NC(=O)[C@@H](C)Sc1nnc(-c2cccs2)n1N',\n",
       " 'Cn1cc(C(=O)Nc2ccccc2C(=O)NCCc2ccccc2)c(=O)c2cccn21',\n",
       " 'Cc1ccccc1[C@@H]1C[C@H](C)N(C(=O)[C@@H](C)Sc2ccccn2)C1',\n",
       " 'Cc1occc1C(=O)/C(C#N)=C/c1ccc([C@@H]2C[C@H]2C)o1',\n",
       " 'CC[C@](C)(C[NH3+])[C@H](O)c1ccc2c(c1)OCO2',\n",
       " 'CCc1nn(CC)c(C[C@@]2(C3CC3)CCC[NH2+]2)c1Br',\n",
       " 'CC(=O)Nc1ccc(CN2CC[NH+](C3CCCC3)[C@H](CCO)C2)cc1',\n",
       " 'COc1ccc([C@H](O)[C@@H](C)NC(=O)[C@@H](C)SC)cc1',\n",
       " 'CCC(=O)N1CCC[C@@H]1c1cc(C(F)(F)F)c2c(=O)n(C)c(=O)n(C)c2n1',\n",
       " 'C[C@H]([NH3+])[C@@H](CC(=O)[O-])c1ccccc1',\n",
       " 'Cc1ccc([C@H]2C3=C(NC(=O)N2C)c2ccccc2C3=O)cc1',\n",
       " 'C[C@@]1(Cc2ccc3c(c2)OCO3)CCC(=O)N(CCc2ccc(O)cc2)C1',\n",
       " 'Cc1cc(C)cc(O[C@H]2CCCC(C)(C)[C@@H]2O)c1',\n",
       " 'Cc1c(-c2nc(-c3cccs3)no2)sc2nc[nH]c(=O)c12',\n",
       " 'COc1cc([C@H]2C(C(=O)Nc3ccccn3)=C(C)NC3=C2C(=O)CCC3)ccc1OCc1ccccc1',\n",
       " 'COc1cc(C)c([C@@H](C)NC2CC[NH+]([C@H]3CCCC[C@@H]3O)CC2)cc1OC',\n",
       " 'C[C@@H]1CCC[C@@H](NS(=O)(=O)Cc2cccc(N)c2)C1',\n",
       " 'CCCN1C(N)=[NH+]C[C@@H]1c1cc(Cl)c2c(c1)OCO2',\n",
       " 'CC(C)C[C@@H](NC(=O)[C@@H]1C[C@@H]1c1cccc(Cl)c1Cl)C(=O)Nc1cc[nH]n1',\n",
       " 'Cc1nc(CCC[NH+]2CCC[C@H]2C(N)=O)cs1',\n",
       " 'NC(=O)COc1cccc(CNC(=O)c2cc3cc(Cl)ccc3[nH]2)c1',\n",
       " 'COc1ccc(CNC(=O)c2cc(=O)c3ccc(Br)cc3o2)cc1',\n",
       " 'CC[C@@H](C)c1ccccc1N1C[C@H](C(=O)N2CCN(C)CC2)CC1=O',\n",
       " 'CC[NH2+][C@H](Cc1ccccc1Cl)[C@H]1C[NH+](C)CCN1C',\n",
       " 'C[NH+]1CCC(N[C@@H]2CC(=O)N(CCc3cccc(Cl)c3)C2)CC1',\n",
       " 'CCN1CC(=O)Nc2cc(C(=O)NC3CC[NH+](C4CCCC4)CC3)ccc21',\n",
       " 'COc1ccc(Br)cc1/C=C/C(=O)N1CCN(C(=O)c2ccccc2)CC1',\n",
       " 'NC(=O)COc1ccc(C(=O)N[C@H]2CCCc3ccccc32)cc1',\n",
       " 'O=C(COc1ncnc2ccc(Br)cc12)Nc1ccccc1Cl',\n",
       " 'C[C@@H](c1ccc(Cl)cc1Cl)N(C)C(=O)c1ccc(NC(N)=O)cc1',\n",
       " 'Cc1ccc(N2C(=O)[C@@H](Cc3cccc(C)c3)S/C2=C(/C#N)C(N)=O)cc1',\n",
       " 'CC(C)CN(C(=O)NCc1ccc(C(F)(F)F)cc1)C1CC1',\n",
       " 'ClCCc1nc2cccnc2n1CCn1cccn1',\n",
       " 'CC[C@@](C)([C@@H]([NH3+])c1cc(Br)ccc1F)N1CCOCC1',\n",
       " 'Cc1ccc(NC(=O)c2cc3ccccc3oc2=O)c([N+](=O)[O-])c1',\n",
       " 'CC1(C)OC[C@H]([C@H]2O[C@@H]3OC(C)(C)O[C@@H]3[C@H]2OS(C)(=O)=O)O1',\n",
       " 'Cc1cccc([C@H](CCl)CCC[C@@H]2CCCO2)c1',\n",
       " ...]"
      ]
     },
     "execution_count": 8,
     "metadata": {},
     "output_type": "execute_result"
    }
   ],
   "source": [
    "smiles"
   ]
  },
  {
   "cell_type": "code",
   "execution_count": 11,
   "metadata": {},
   "outputs": [],
   "source": [
    "# canonize\n",
    "change = []\n",
    "smiles_list = []\n",
    "for i in range(len(smiles)):\n",
    "    smile = mu.canon_smiles(smiles[i])\n",
    "    if smiles[i] != smile:\n",
    "        change.append(i)\n",
    "    smiles_list.append(smile)"
   ]
  },
  {
   "cell_type": "code",
   "execution_count": 12,
   "metadata": {},
   "outputs": [
    {
     "data": {
      "text/plain": [
       "20"
      ]
     },
     "execution_count": 12,
     "metadata": {},
     "output_type": "execute_result"
    }
   ],
   "source": [
    "len(change)"
   ]
  },
  {
   "cell_type": "code",
   "execution_count": 13,
   "metadata": {},
   "outputs": [
    {
     "data": {
      "text/plain": [
       "249455"
      ]
     },
     "execution_count": 13,
     "metadata": {},
     "output_type": "execute_result"
    }
   ],
   "source": [
    "len(smiles)"
   ]
  },
  {
   "cell_type": "code",
   "execution_count": 49,
   "metadata": {},
   "outputs": [],
   "source": [
    "charset_list = []\n",
    "\n",
    "len_list = []\n",
    "for i in smiles:\n",
    "    for j in i:\n",
    "        if j not in charset_list:\n",
    "            charset_list.append(j)\n",
    "    len_list.append(len(i))\n",
    "max_len = max(len_list)"
   ]
  },
  {
   "cell_type": "code",
   "execution_count": 52,
   "metadata": {},
   "outputs": [
    {
     "data": {
      "text/plain": [
       "{' '}"
      ]
     },
     "execution_count": 52,
     "metadata": {},
     "output_type": "execute_result"
    }
   ],
   "source": [
    " set(list(CHAR_INDICES.keys())) - set(charset_list)"
   ]
  },
  {
   "cell_type": "code",
   "execution_count": 9,
   "metadata": {},
   "outputs": [
    {
     "data": {
      "text/plain": [
       "(249455, 4)"
      ]
     },
     "execution_count": 9,
     "metadata": {},
     "output_type": "execute_result"
    }
   ],
   "source": [
    "data = pd.read_csv('../models/zinc/250k_rndm_zinc_drugs_clean_3.csv')\n",
    "data.shape"
   ]
  },
  {
   "cell_type": "code",
   "execution_count": 12,
   "metadata": {},
   "outputs": [
    {
     "data": {
      "text/html": [
       "<div>\n",
       "<style scoped>\n",
       "    .dataframe tbody tr th:only-of-type {\n",
       "        vertical-align: middle;\n",
       "    }\n",
       "\n",
       "    .dataframe tbody tr th {\n",
       "        vertical-align: top;\n",
       "    }\n",
       "\n",
       "    .dataframe thead th {\n",
       "        text-align: right;\n",
       "    }\n",
       "</style>\n",
       "<table border=\"1\" class=\"dataframe\">\n",
       "  <thead>\n",
       "    <tr style=\"text-align: right;\">\n",
       "      <th></th>\n",
       "      <th>smiles</th>\n",
       "      <th>logP</th>\n",
       "      <th>qed</th>\n",
       "      <th>SAS</th>\n",
       "    </tr>\n",
       "  </thead>\n",
       "  <tbody>\n",
       "    <tr>\n",
       "      <th>0</th>\n",
       "      <td>CC(C)(C)c1ccc2occ(CC(=O)Nc3ccccc3F)c2c1\\n</td>\n",
       "      <td>5.05060</td>\n",
       "      <td>0.702012</td>\n",
       "      <td>2.084095</td>\n",
       "    </tr>\n",
       "    <tr>\n",
       "      <th>1</th>\n",
       "      <td>C[C@@H]1CC(Nc2cncc(-c3nncn3C)c2)C[C@@H](C)C1\\n</td>\n",
       "      <td>3.11370</td>\n",
       "      <td>0.928975</td>\n",
       "      <td>3.432004</td>\n",
       "    </tr>\n",
       "    <tr>\n",
       "      <th>2</th>\n",
       "      <td>N#Cc1ccc(-c2ccc(O[C@@H](C(=O)N3CCCC3)c3ccccc3)...</td>\n",
       "      <td>4.96778</td>\n",
       "      <td>0.599682</td>\n",
       "      <td>2.470633</td>\n",
       "    </tr>\n",
       "    <tr>\n",
       "      <th>3</th>\n",
       "      <td>CCOC(=O)[C@@H]1CCCN(C(=O)c2nc(-c3ccc(C)cc3)n3c...</td>\n",
       "      <td>4.00022</td>\n",
       "      <td>0.690944</td>\n",
       "      <td>2.822753</td>\n",
       "    </tr>\n",
       "    <tr>\n",
       "      <th>4</th>\n",
       "      <td>N#CC1=C(SCC(=O)Nc2cccc(Cl)c2)N=C([O-])[C@H](C#...</td>\n",
       "      <td>3.60956</td>\n",
       "      <td>0.789027</td>\n",
       "      <td>4.035182</td>\n",
       "    </tr>\n",
       "  </tbody>\n",
       "</table>\n",
       "</div>"
      ],
      "text/plain": [
       "                                              smiles     logP       qed  \\\n",
       "0          CC(C)(C)c1ccc2occ(CC(=O)Nc3ccccc3F)c2c1\\n  5.05060  0.702012   \n",
       "1     C[C@@H]1CC(Nc2cncc(-c3nncn3C)c2)C[C@@H](C)C1\\n  3.11370  0.928975   \n",
       "2  N#Cc1ccc(-c2ccc(O[C@@H](C(=O)N3CCCC3)c3ccccc3)...  4.96778  0.599682   \n",
       "3  CCOC(=O)[C@@H]1CCCN(C(=O)c2nc(-c3ccc(C)cc3)n3c...  4.00022  0.690944   \n",
       "4  N#CC1=C(SCC(=O)Nc2cccc(Cl)c2)N=C([O-])[C@H](C#...  3.60956  0.789027   \n",
       "\n",
       "        SAS  \n",
       "0  2.084095  \n",
       "1  3.432004  \n",
       "2  2.470633  \n",
       "3  2.822753  \n",
       "4  4.035182  "
      ]
     },
     "execution_count": 12,
     "metadata": {},
     "output_type": "execute_result"
    }
   ],
   "source": [
    "data.head()"
   ]
  },
  {
   "cell_type": "code",
   "execution_count": 13,
   "metadata": {},
   "outputs": [
    {
     "data": {
      "text/plain": [
       "110"
      ]
     },
     "execution_count": 13,
     "metadata": {},
     "output_type": "execute_result"
    }
   ],
   "source": [
    "max([len(i) for i in data['smiles']])"
   ]
  },
  {
   "cell_type": "code",
   "execution_count": 14,
   "metadata": {},
   "outputs": [
    {
     "data": {
      "text/html": [
       "<div>\n",
       "<style scoped>\n",
       "    .dataframe tbody tr th:only-of-type {\n",
       "        vertical-align: middle;\n",
       "    }\n",
       "\n",
       "    .dataframe tbody tr th {\n",
       "        vertical-align: top;\n",
       "    }\n",
       "\n",
       "    .dataframe thead th {\n",
       "        text-align: right;\n",
       "    }\n",
       "</style>\n",
       "<table border=\"1\" class=\"dataframe\">\n",
       "  <thead>\n",
       "    <tr style=\"text-align: right;\">\n",
       "      <th></th>\n",
       "      <th>smiles</th>\n",
       "      <th>zinc_id</th>\n",
       "      <th>mwt</th>\n",
       "      <th>logp</th>\n",
       "      <th>reactive</th>\n",
       "      <th>purchasable</th>\n",
       "      <th>tranche_name</th>\n",
       "    </tr>\n",
       "  </thead>\n",
       "  <tbody>\n",
       "    <tr>\n",
       "      <th>0</th>\n",
       "      <td>CCN(CCSC)C(=O)N[C@@](C)(CC)C(F)(F)F</td>\n",
       "      <td>ZINC000933510105</td>\n",
       "      <td>286.363</td>\n",
       "      <td>3.112</td>\n",
       "      <td>0</td>\n",
       "      <td>20</td>\n",
       "      <td>CGAD</td>\n",
       "    </tr>\n",
       "    <tr>\n",
       "      <th>1</th>\n",
       "      <td>CC1(C)CN(C(=O)Nc2cc3ccccc3nn2)C[C@@]2(CCOC2)O1</td>\n",
       "      <td>ZINC000888615590</td>\n",
       "      <td>342.399</td>\n",
       "      <td>2.432</td>\n",
       "      <td>0</td>\n",
       "      <td>20</td>\n",
       "      <td>EEAD</td>\n",
       "    </tr>\n",
       "    <tr>\n",
       "      <th>2</th>\n",
       "      <td>CC[C@H](NC(C)=O)C(=O)NCC1(NC(=O)Cc2nonc2C)CC1</td>\n",
       "      <td>ZINC001432326999</td>\n",
       "      <td>337.380</td>\n",
       "      <td>-0.400</td>\n",
       "      <td>0</td>\n",
       "      <td>20</td>\n",
       "      <td>EBAD</td>\n",
       "    </tr>\n",
       "    <tr>\n",
       "      <th>3</th>\n",
       "      <td>O=C(N[C@@H]1CC[C@H](F)C1)[C@H]1C[C@@H]1c1ccc2c...</td>\n",
       "      <td>ZINC000345651486</td>\n",
       "      <td>305.349</td>\n",
       "      <td>2.568</td>\n",
       "      <td>0</td>\n",
       "      <td>20</td>\n",
       "      <td>DFAD</td>\n",
       "    </tr>\n",
       "    <tr>\n",
       "      <th>4</th>\n",
       "      <td>COCC(=O)N(C)CC(=O)NCC1(Nc2nccn3nnnc23)CC1</td>\n",
       "      <td>ZINC001110378235</td>\n",
       "      <td>348.367</td>\n",
       "      <td>-1.315</td>\n",
       "      <td>0</td>\n",
       "      <td>20</td>\n",
       "      <td>EAAD</td>\n",
       "    </tr>\n",
       "  </tbody>\n",
       "</table>\n",
       "</div>"
      ],
      "text/plain": [
       "                                              smiles           zinc_id  \\\n",
       "0                CCN(CCSC)C(=O)N[C@@](C)(CC)C(F)(F)F  ZINC000933510105   \n",
       "1     CC1(C)CN(C(=O)Nc2cc3ccccc3nn2)C[C@@]2(CCOC2)O1  ZINC000888615590   \n",
       "2      CC[C@H](NC(C)=O)C(=O)NCC1(NC(=O)Cc2nonc2C)CC1  ZINC001432326999   \n",
       "3  O=C(N[C@@H]1CC[C@H](F)C1)[C@H]1C[C@@H]1c1ccc2c...  ZINC000345651486   \n",
       "4          COCC(=O)N(C)CC(=O)NCC1(Nc2nccn3nnnc23)CC1  ZINC001110378235   \n",
       "\n",
       "       mwt   logp  reactive  purchasable tranche_name  \n",
       "0  286.363  3.112         0           20         CGAD  \n",
       "1  342.399  2.432         0           20         EEAD  \n",
       "2  337.380 -0.400         0           20         EBAD  \n",
       "3  305.349  2.568         0           20         DFAD  \n",
       "4  348.367 -1.315         0           20         EAAD  "
      ]
     },
     "execution_count": 14,
     "metadata": {},
     "output_type": "execute_result"
    }
   ],
   "source": [
    "zinc_dc = pd.read_csv('/nfs/turbo/umms-welchjd/hengshi/perturb_gan/data/smiles/zinc_deepchem_molnet/zinc15_250K_2D.csv')\n",
    "zinc_dc.head()"
   ]
  },
  {
   "cell_type": "code",
   "execution_count": 16,
   "metadata": {},
   "outputs": [
    {
     "data": {
      "text/plain": [
       "93"
      ]
     },
     "execution_count": 16,
     "metadata": {},
     "output_type": "execute_result"
    }
   ],
   "source": [
    "max([len(i) for i in zinc_dc['smiles']])"
   ]
  },
  {
   "cell_type": "code",
   "execution_count": 24,
   "metadata": {},
   "outputs": [],
   "source": [
    "zinc_dc_list = list(zinc_dc['smiles'])"
   ]
  },
  {
   "cell_type": "code",
   "execution_count": 25,
   "metadata": {},
   "outputs": [],
   "source": [
    "charset_dc_list = []\n",
    "\n",
    "len_dc_list = []\n",
    "for i in zinc_dc_list:\n",
    "    for j in i:\n",
    "        if j not in charset_dc_list:\n",
    "            charset_dc_list.append(j)\n",
    "    len_dc_list.append(len(i))\n",
    "max_dc_len = max(len_dc_list)"
   ]
  },
  {
   "cell_type": "code",
   "execution_count": 26,
   "metadata": {},
   "outputs": [
    {
     "data": {
      "text/plain": [
       "93"
      ]
     },
     "execution_count": 26,
     "metadata": {},
     "output_type": "execute_result"
    }
   ],
   "source": [
    "max_dc_len"
   ]
  },
  {
   "cell_type": "code",
   "execution_count": null,
   "metadata": {},
   "outputs": [],
   "source": []
  },
  {
   "cell_type": "code",
   "execution_count": null,
   "metadata": {},
   "outputs": [],
   "source": []
  },
  {
   "cell_type": "code",
   "execution_count": null,
   "metadata": {},
   "outputs": [],
   "source": []
  },
  {
   "cell_type": "code",
   "execution_count": 27,
   "metadata": {},
   "outputs": [],
   "source": [
    "path_zinc = '/nfs/turbo/umms-welchjd/hengshi/perturb_gan/data/smiles/zinc_deepchem_molnet/'\n",
    "zinc_name = 'zinc_dc_canon.csv'\n",
    "zinc_pd = pd.read_csv(os.path.join(path_zinc, zinc_name))\n",
    "zinc_dc_canon = list(zinc_pd.iloc[:, 1])"
   ]
  },
  {
   "cell_type": "code",
   "execution_count": 28,
   "metadata": {},
   "outputs": [],
   "source": [
    "charset_dcc_list = []\n",
    "\n",
    "len_dcc_list = []\n",
    "for i in zinc_dc_canon:\n",
    "    for j in i:\n",
    "        if j not in charset_dcc_list:\n",
    "            charset_dcc_list.append(j)\n",
    "    len_dcc_list.append(len(i))\n",
    "max_dcc_len = max(len_dcc_list)"
   ]
  },
  {
   "cell_type": "code",
   "execution_count": 32,
   "metadata": {},
   "outputs": [
    {
     "data": {
      "text/plain": [
       "(34, 33)"
      ]
     },
     "execution_count": 32,
     "metadata": {},
     "output_type": "execute_result"
    }
   ],
   "source": [
    "len(charset_dcc_list), len(charset_dc_list)"
   ]
  },
  {
   "cell_type": "code",
   "execution_count": 37,
   "metadata": {},
   "outputs": [],
   "source": [
    "list_diff = [i for i in range(len(zinc_dc_canon)) if zinc_dc_canon[i] != zinc_dc_list[i]]"
   ]
  },
  {
   "cell_type": "code",
   "execution_count": 40,
   "metadata": {},
   "outputs": [
    {
     "data": {
      "text/plain": [
       "250000"
      ]
     },
     "execution_count": 40,
     "metadata": {},
     "output_type": "execute_result"
    }
   ],
   "source": [
    "len(zinc_dc_canon)"
   ]
  },
  {
   "cell_type": "code",
   "execution_count": 41,
   "metadata": {},
   "outputs": [],
   "source": [
    "use = []\n",
    "for i in range(len(zinc_dc_canon)):\n",
    "    i_data = zinc_dc_canon[i]\n",
    "    if '7' in i_data:\n",
    "        use.append(i)"
   ]
  },
  {
   "cell_type": "code",
   "execution_count": 44,
   "metadata": {},
   "outputs": [
    {
     "data": {
      "text/plain": [
       "('Cc1ncc(CN2CC(NC(=O)[C@H]3[C@H]4[C@@H]5C[C@H]6[C@@H]3[C@H]3C[C@@H]6[C@@H]5[C@H]43)C2)o1',\n",
       " 'Cc1ncc(CN2CC(NC(=O)[C@H]3[C@H]4[C@@H]5C[C@@H]6[C@@H]7C[C@@H]([C@@H]4[C@@H]75)[C@@H]63)C2)o1')"
      ]
     },
     "execution_count": 44,
     "metadata": {},
     "output_type": "execute_result"
    }
   ],
   "source": [
    "zinc_dc_list[use[0]], zinc_dc_canon[use[0]]"
   ]
  },
  {
   "cell_type": "code",
   "execution_count": 35,
   "metadata": {},
   "outputs": [
    {
     "data": {
      "text/plain": [
       "{'7'}"
      ]
     },
     "execution_count": 35,
     "metadata": {},
     "output_type": "execute_result"
    }
   ],
   "source": [
    "set(charset_dcc_list) - set(charset_dc_list)"
   ]
  },
  {
   "cell_type": "code",
   "execution_count": 34,
   "metadata": {},
   "outputs": [
    {
     "data": {
      "text/plain": [
       "['C',\n",
       " 'N',\n",
       " '(',\n",
       " 'S',\n",
       " ')',\n",
       " '=',\n",
       " 'O',\n",
       " '[',\n",
       " '@',\n",
       " ']',\n",
       " 'F',\n",
       " '1',\n",
       " 'c',\n",
       " '2',\n",
       " '3',\n",
       " 'n',\n",
       " 'H',\n",
       " 'o',\n",
       " '4',\n",
       " '-',\n",
       " '#',\n",
       " 's',\n",
       " 'l',\n",
       " '+',\n",
       " '/',\n",
       " '\\\\',\n",
       " 'B',\n",
       " 'r',\n",
       " 'P',\n",
       " 'i',\n",
       " '5',\n",
       " 'I',\n",
       " '6']"
      ]
     },
     "execution_count": 34,
     "metadata": {},
     "output_type": "execute_result"
    }
   ],
   "source": [
    "charset_dc_list"
   ]
  },
  {
   "cell_type": "code",
   "execution_count": 36,
   "metadata": {},
   "outputs": [
    {
     "data": {
      "text/plain": [
       "['C',\n",
       " 'N',\n",
       " '(',\n",
       " 'S',\n",
       " ')',\n",
       " '=',\n",
       " 'O',\n",
       " '[',\n",
       " '@',\n",
       " ']',\n",
       " 'F',\n",
       " '1',\n",
       " 'c',\n",
       " '2',\n",
       " '3',\n",
       " 'n',\n",
       " 'H',\n",
       " 'o',\n",
       " '4',\n",
       " '-',\n",
       " '#',\n",
       " 's',\n",
       " 'l',\n",
       " '+',\n",
       " '/',\n",
       " '\\\\',\n",
       " 'B',\n",
       " 'r',\n",
       " 'P',\n",
       " 'i',\n",
       " '5',\n",
       " 'I',\n",
       " '6',\n",
       " '7']"
      ]
     },
     "execution_count": 36,
     "metadata": {},
     "output_type": "execute_result"
    }
   ],
   "source": [
    "charset_dcc_list"
   ]
  },
  {
   "cell_type": "code",
   "execution_count": 54,
   "metadata": {},
   "outputs": [
    {
     "data": {
      "text/plain": [
       "{'8'}"
      ]
     },
     "execution_count": 54,
     "metadata": {},
     "output_type": "execute_result"
    }
   ],
   "source": [
    "set(charset_list) - set(charset_dcc_list) "
   ]
  },
  {
   "cell_type": "code",
   "execution_count": 55,
   "metadata": {},
   "outputs": [
    {
     "data": {
      "text/plain": [
       "{'i'}"
      ]
     },
     "execution_count": 55,
     "metadata": {},
     "output_type": "execute_result"
    }
   ],
   "source": [
    " set(charset_dcc_list) - set(charset_list) "
   ]
  },
  {
   "cell_type": "code",
   "execution_count": 8,
   "metadata": {},
   "outputs": [],
   "source": [
    "X = mu.smiles_to_hot(smiles, MAX_LEN, params[\n",
    "                             'PADDING'], CHAR_INDICES, NCHARS)"
   ]
  },
  {
   "cell_type": "code",
   "execution_count": 69,
   "metadata": {},
   "outputs": [],
   "source": [
    "smiles_list_trans = []\n",
    "for i in chem_188:\n",
    "    if '.' in i:\n",
    "        smile = ''\n",
    "        for j in i: \n",
    "            if j != '.':\n",
    "                smile += j\n",
    "        smiles_list_trans.append(smile)\n",
    "    else:\n",
    "        smiles_list_trans.append(i)"
   ]
  },
  {
   "cell_type": "code",
   "execution_count": 70,
   "metadata": {},
   "outputs": [],
   "source": [
    "smiles_list_trans1 = []\n",
    "for i in smiles_list_trans:\n",
    "    if '*' in i:\n",
    "        smile = ''\n",
    "        for j in i: \n",
    "            if j != '*':\n",
    "                smile += j\n",
    "        smiles_list_trans1.append(smile)\n",
    "    else:\n",
    "        smiles_list_trans1.append(i)"
   ]
  },
  {
   "cell_type": "code",
   "execution_count": 71,
   "metadata": {},
   "outputs": [],
   "source": [
    "smiles_list_trans2 = []\n",
    "for i in smiles_list_trans1:\n",
    "    if 'a' in i:\n",
    "        smile = ''\n",
    "        for j in i: \n",
    "            if j != 'a':\n",
    "                smile += j\n",
    "        smiles_list_trans2.append(smile)\n",
    "    else:\n",
    "        smiles_list_trans2.append(i)"
   ]
  },
  {
   "cell_type": "code",
   "execution_count": 40,
   "metadata": {},
   "outputs": [],
   "source": [
    "\n",
    "for i in range(len(smiles_list_trans2)):\n",
    "    if len(smiles_list_trans2[i]) > 120:\n",
    "        temp = smiles_list_trans2[i][:120]\n",
    "        smiles_list_trans2[i] = temp\n",
    "        \n",
    "    "
   ]
  },
  {
   "cell_type": "code",
   "execution_count": 41,
   "metadata": {},
   "outputs": [],
   "source": [
    "X188 = mu.smiles_to_hot(smiles_list_trans2, MAX_LEN, params[\n",
    "                             'PADDING'], CHAR_INDICES, NCHARS)"
   ]
  },
  {
   "cell_type": "code",
   "execution_count": 43,
   "metadata": {},
   "outputs": [],
   "source": [
    "np.save(\"/nfs/turbo/umms-welchjd/hengshi/perturb_gan/chemical_vae-master_newTrain/OnehotData_188.npy\", X188)"
   ]
  },
  {
   "cell_type": "code",
   "execution_count": 18,
   "metadata": {},
   "outputs": [],
   "source": [
    "# images\n",
    "path_images = '/nfs/turbo/umms-welchjd/hengshi/perturb_gan/data/cell_image'\n",
    "smiles_img = np.load(os.path.join(path_images, 'UniqueSMILES.npy'), allow_pickle=True)"
   ]
  },
  {
   "cell_type": "code",
   "execution_count": 20,
   "metadata": {},
   "outputs": [
    {
     "data": {
      "text/plain": [
       "(82,)"
      ]
     },
     "execution_count": 20,
     "metadata": {},
     "output_type": "execute_result"
    }
   ],
   "source": [
    "smiles_img.shape"
   ]
  },
  {
   "cell_type": "code",
   "execution_count": 21,
   "metadata": {},
   "outputs": [],
   "source": [
    "# canonize\n",
    "change = []\n",
    "smiles_list = []\n",
    "for i in range(len(smiles_img)):\n",
    "    smile = mu.canon_smiles(smiles_img[i])\n",
    "    if smiles_img[i] != smile:\n",
    "        change.append(i)\n",
    "    smiles_list.append(smile)"
   ]
  },
  {
   "cell_type": "code",
   "execution_count": 23,
   "metadata": {},
   "outputs": [
    {
     "data": {
      "text/plain": [
       "78"
      ]
     },
     "execution_count": 23,
     "metadata": {},
     "output_type": "execute_result"
    }
   ],
   "source": [
    "len(change)"
   ]
  },
  {
   "cell_type": "code",
   "execution_count": 24,
   "metadata": {},
   "outputs": [],
   "source": [
    "charset_list = []\n",
    "\n",
    "len_list = []\n",
    "for i in smiles_list:\n",
    "    for j in i:\n",
    "        if j not in charset_list:\n",
    "            charset_list.append(j)\n",
    "    len_list.append(len(i))\n",
    "max_len = max(len_list)"
   ]
  },
  {
   "cell_type": "code",
   "execution_count": 27,
   "metadata": {},
   "outputs": [
    {
     "data": {
      "text/plain": [
       "(1, 82)"
      ]
     },
     "execution_count": 27,
     "metadata": {},
     "output_type": "execute_result"
    }
   ],
   "source": [
    "(np.array(len_list) > 120).sum(), len(len_list)"
   ]
  },
  {
   "cell_type": "code",
   "execution_count": 28,
   "metadata": {},
   "outputs": [
    {
     "data": {
      "text/plain": [
       "{' ', '6', '7', '8', 'P'}"
      ]
     },
     "execution_count": 28,
     "metadata": {},
     "output_type": "execute_result"
    }
   ],
   "source": [
    " set(list(CHAR_INDICES.keys())) - set(charset_list)"
   ]
  },
  {
   "cell_type": "code",
   "execution_count": 29,
   "metadata": {},
   "outputs": [
    {
     "data": {
      "text/plain": [
       "{'.'}"
      ]
     },
     "execution_count": 29,
     "metadata": {},
     "output_type": "execute_result"
    }
   ],
   "source": [
    "set(charset_list) -  set(list(CHAR_INDICES.keys())) "
   ]
  },
  {
   "cell_type": "code",
   "execution_count": 32,
   "metadata": {},
   "outputs": [
    {
     "name": "stdout",
     "output_type": "stream",
     "text": [
      "C[n+]1c2cc(N)ccc2cc2ccc(N)cc21.Nc1ccc2cc3ccc(N)cc3nc2c1\n",
      "55\n"
     ]
    }
   ],
   "source": [
    "for i in smiles_list:\n",
    "    if '.' in i:\n",
    "        print(i)\n",
    "        print(len(i))"
   ]
  },
  {
   "cell_type": "code",
   "execution_count": 35,
   "metadata": {},
   "outputs": [
    {
     "data": {
      "text/plain": [
       "120"
      ]
     },
     "execution_count": 35,
     "metadata": {},
     "output_type": "execute_result"
    }
   ],
   "source": [
    "MAX_LEN"
   ]
  },
  {
   "cell_type": "code",
   "execution_count": 36,
   "metadata": {},
   "outputs": [],
   "source": [
    "smiles_list_trans = []\n",
    "for i in smiles_list:\n",
    "    \n",
    "    if len(i) > MAX_LEN:\n",
    "        i = i[:MAX_LEN]\n",
    "    if '.' in i:\n",
    "        smile = ''\n",
    "        for j in i: \n",
    "            if j != '.':\n",
    "                smile += j\n",
    "        smiles_list_trans.append(smile)\n",
    "    else:\n",
    "        smiles_list_trans.append(i)"
   ]
  },
  {
   "cell_type": "code",
   "execution_count": 39,
   "metadata": {},
   "outputs": [],
   "source": [
    "XImg = mu.smiles_to_hot(smiles_list_trans, MAX_LEN, params['PADDING'], CHAR_INDICES, NCHARS)"
   ]
  },
  {
   "cell_type": "code",
   "execution_count": 40,
   "metadata": {},
   "outputs": [
    {
     "data": {
      "text/plain": [
       "(82, 120, 35)"
      ]
     },
     "execution_count": 40,
     "metadata": {},
     "output_type": "execute_result"
    }
   ],
   "source": [
    "XImg.shape"
   ]
  },
  {
   "cell_type": "code",
   "execution_count": 42,
   "metadata": {},
   "outputs": [],
   "source": [
    "np.save(os.path.join(path_images, \"OnehotData_Imgs.npy\"), XImg)"
   ]
  },
  {
   "cell_type": "code",
   "execution_count": 43,
   "metadata": {},
   "outputs": [
    {
     "data": {
      "text/plain": [
       "'/nfs/turbo/umms-welchjd/hengshi/perturb_gan/data/cell_image'"
      ]
     },
     "execution_count": 43,
     "metadata": {},
     "output_type": "execute_result"
    }
   ],
   "source": [
    "path_images"
   ]
  },
  {
   "cell_type": "code",
   "execution_count": null,
   "metadata": {},
   "outputs": [],
   "source": []
  },
  {
   "cell_type": "code",
   "execution_count": 38,
   "metadata": {},
   "outputs": [
    {
     "data": {
      "text/plain": [
       "188"
      ]
     },
     "execution_count": 38,
     "metadata": {},
     "output_type": "execute_result"
    }
   ],
   "source": [
    "len(hot_data)"
   ]
  },
  {
   "cell_type": "code",
   "execution_count": 39,
   "metadata": {},
   "outputs": [
    {
     "data": {
      "text/plain": [
       "(40, 120, 35)"
      ]
     },
     "execution_count": 39,
     "metadata": {},
     "output_type": "execute_result"
    }
   ],
   "source": [
    "hot_data[0].shape"
   ]
  },
  {
   "cell_type": "code",
   "execution_count": 110,
   "metadata": {},
   "outputs": [],
   "source": [
    "import pandas as pd\n",
    "smiles = pd.read_csv('/nfs/turbo/umms-welchjd/hengshi/perturb_gan/data/LINCS/oneHot/GSE92742_Broad_LINCS_Level3_INF_mlr12k_n1319138x12328_processed_UniqueCanonicalSmiles.csv')"
   ]
  },
  {
   "cell_type": "code",
   "execution_count": 111,
   "metadata": {},
   "outputs": [
    {
     "data": {
      "text/html": [
       "<div>\n",
       "<style scoped>\n",
       "    .dataframe tbody tr th:only-of-type {\n",
       "        vertical-align: middle;\n",
       "    }\n",
       "\n",
       "    .dataframe tbody tr th {\n",
       "        vertical-align: top;\n",
       "    }\n",
       "\n",
       "    .dataframe thead th {\n",
       "        text-align: right;\n",
       "    }\n",
       "</style>\n",
       "<table border=\"1\" class=\"dataframe\">\n",
       "  <thead>\n",
       "    <tr style=\"text-align: right;\">\n",
       "      <th></th>\n",
       "      <th>Unnamed: 0</th>\n",
       "      <th>0</th>\n",
       "    </tr>\n",
       "  </thead>\n",
       "  <tbody>\n",
       "    <tr>\n",
       "      <th>0</th>\n",
       "      <td>0</td>\n",
       "      <td>CCCN1CCCC2Cc3n[nH]cc3CC21</td>\n",
       "    </tr>\n",
       "    <tr>\n",
       "      <th>1</th>\n",
       "      <td>1</td>\n",
       "      <td>O=C1CC(Oc2ccccc12)c3ccccc3</td>\n",
       "    </tr>\n",
       "    <tr>\n",
       "      <th>2</th>\n",
       "      <td>2</td>\n",
       "      <td>C[C@@H]1O[C@@H](OC[C@H]2O[C@@H](Oc3c(oc4cc(O)c...</td>\n",
       "    </tr>\n",
       "    <tr>\n",
       "      <th>3</th>\n",
       "      <td>3</td>\n",
       "      <td>N(Cc1ccccc1)c1ncnc2nc[nH]c12</td>\n",
       "    </tr>\n",
       "    <tr>\n",
       "      <th>4</th>\n",
       "      <td>4</td>\n",
       "      <td>C[C@@H](NC(=O)/C(=C/c1ccc(O)c(O)c1)/C#N)c2ccccc2</td>\n",
       "    </tr>\n",
       "    <tr>\n",
       "      <th>...</th>\n",
       "      <td>...</td>\n",
       "      <td>...</td>\n",
       "    </tr>\n",
       "    <tr>\n",
       "      <th>20325</th>\n",
       "      <td>20325</td>\n",
       "      <td>OC(=O)[C@@]1(Cc2cccc(Nc3nccs3)n2)CC[C@@H](CC1)...</td>\n",
       "    </tr>\n",
       "    <tr>\n",
       "      <th>20326</th>\n",
       "      <td>20326</td>\n",
       "      <td>CN(C)CCOc1ccc(cc1)C(=C(/CCCl)c1ccccc1)\\c1ccccc1</td>\n",
       "    </tr>\n",
       "    <tr>\n",
       "      <th>20327</th>\n",
       "      <td>20327</td>\n",
       "      <td>COc1cc(Nc2ncc3CN=C(c4cc(Cl)ccc4-c3n2)c2c(F)ccc...</td>\n",
       "    </tr>\n",
       "    <tr>\n",
       "      <th>20328</th>\n",
       "      <td>20328</td>\n",
       "      <td>CC1(C)Oc2ccc3C4=C[C@@]56NC(=O)[C@]7(CCCN7C5=O)...</td>\n",
       "    </tr>\n",
       "    <tr>\n",
       "      <th>20329</th>\n",
       "      <td>20329</td>\n",
       "      <td>C[C@@H]1CC(=O)NN=C1c1ccc(N)c(c1)[N+]([O-])=O</td>\n",
       "    </tr>\n",
       "  </tbody>\n",
       "</table>\n",
       "<p>20330 rows × 2 columns</p>\n",
       "</div>"
      ],
      "text/plain": [
       "       Unnamed: 0                                                  0\n",
       "0               0                          CCCN1CCCC2Cc3n[nH]cc3CC21\n",
       "1               1                         O=C1CC(Oc2ccccc12)c3ccccc3\n",
       "2               2  C[C@@H]1O[C@@H](OC[C@H]2O[C@@H](Oc3c(oc4cc(O)c...\n",
       "3               3                       N(Cc1ccccc1)c1ncnc2nc[nH]c12\n",
       "4               4   C[C@@H](NC(=O)/C(=C/c1ccc(O)c(O)c1)/C#N)c2ccccc2\n",
       "...           ...                                                ...\n",
       "20325       20325  OC(=O)[C@@]1(Cc2cccc(Nc3nccs3)n2)CC[C@@H](CC1)...\n",
       "20326       20326    CN(C)CCOc1ccc(cc1)C(=C(/CCCl)c1ccccc1)\\c1ccccc1\n",
       "20327       20327  COc1cc(Nc2ncc3CN=C(c4cc(Cl)ccc4-c3n2)c2c(F)ccc...\n",
       "20328       20328  CC1(C)Oc2ccc3C4=C[C@@]56NC(=O)[C@]7(CCCN7C5=O)...\n",
       "20329       20329       C[C@@H]1CC(=O)NN=C1c1ccc(N)c(c1)[N+]([O-])=O\n",
       "\n",
       "[20330 rows x 2 columns]"
      ]
     },
     "execution_count": 111,
     "metadata": {},
     "output_type": "execute_result"
    }
   ],
   "source": [
    "smiles"
   ]
  },
  {
   "cell_type": "code",
   "execution_count": 113,
   "metadata": {},
   "outputs": [],
   "source": [
    "smiles_list = list(smiles.iloc[:, 1])"
   ]
  },
  {
   "cell_type": "code",
   "execution_count": 114,
   "metadata": {},
   "outputs": [],
   "source": [
    "# canonize\n",
    "smiles_c_list = []\n",
    "change_list = []\n",
    "for i in range(len(smiles_list)):\n",
    "    \n",
    "    if smiles_list[i] != 'restricted':\n",
    "        smile = mu.canon_smiles(smiles_list[i])\n",
    "        if smiles_list[i] != smile:\n",
    "            change_list.append(i)\n",
    "        smiles_c_list.append(smile)"
   ]
  },
  {
   "cell_type": "code",
   "execution_count": 115,
   "metadata": {},
   "outputs": [
    {
     "data": {
      "text/plain": [
       "17939"
      ]
     },
     "execution_count": 115,
     "metadata": {},
     "output_type": "execute_result"
    }
   ],
   "source": [
    "len(change_list)"
   ]
  },
  {
   "cell_type": "code",
   "execution_count": 116,
   "metadata": {},
   "outputs": [
    {
     "data": {
      "text/plain": [
       "(20330, 20329)"
      ]
     },
     "execution_count": 116,
     "metadata": {},
     "output_type": "execute_result"
    }
   ],
   "source": [
    "len(smiles_list), len(smiles_c_list)"
   ]
  },
  {
   "cell_type": "code",
   "execution_count": 117,
   "metadata": {},
   "outputs": [],
   "source": [
    "smiles_list = smiles_c_list"
   ]
  },
  {
   "cell_type": "code",
   "execution_count": 118,
   "metadata": {},
   "outputs": [],
   "source": [
    "charset_list = []\n",
    "\n",
    "len_list = []\n",
    "for i in smiles_list:\n",
    "    for j in i:\n",
    "        if j not in charset_list:\n",
    "            charset_list.append(j)\n",
    "    len_list.append(len(i))\n",
    "max_len = max(len_list)"
   ]
  },
  {
   "cell_type": "code",
   "execution_count": 119,
   "metadata": {},
   "outputs": [],
   "source": [
    "charset_lincs_list = charset_list.copy()"
   ]
  },
  {
   "cell_type": "code",
   "execution_count": 120,
   "metadata": {},
   "outputs": [],
   "source": [
    "smiles_linc_list = smiles_list"
   ]
  },
  {
   "cell_type": "code",
   "execution_count": 97,
   "metadata": {},
   "outputs": [],
   "source": [
    "specialLincsList = list(set(charset_list) - set(CHARS))"
   ]
  },
  {
   "cell_type": "code",
   "execution_count": 98,
   "metadata": {},
   "outputs": [
    {
     "data": {
      "text/plain": [
       "{' '}"
      ]
     },
     "execution_count": 98,
     "metadata": {},
     "output_type": "execute_result"
    }
   ],
   "source": [
    "set(CHARS) - set(charset_list)"
   ]
  },
  {
   "cell_type": "code",
   "execution_count": 99,
   "metadata": {},
   "outputs": [
    {
     "data": {
      "text/plain": [
       "['g', 'a', 'A', '.', 'd', 't', 'u', 'M', 'i', 'L', 'e']"
      ]
     },
     "execution_count": 99,
     "metadata": {},
     "output_type": "execute_result"
    }
   ],
   "source": [
    "specialLincsList"
   ]
  },
  {
   "cell_type": "code",
   "execution_count": 22,
   "metadata": {},
   "outputs": [],
   "source": [
    "smiles_list_trans = []\n",
    "for t in specialLincsList:\n",
    "    a = 0\n",
    "    for i in smiles_list:\n",
    "        if t in i:\n",
    "            a += 1\n",
    "    smiles_list_trans.append(a)\n",
    "\n"
   ]
  },
  {
   "cell_type": "code",
   "execution_count": 25,
   "metadata": {},
   "outputs": [
    {
     "data": {
      "text/html": [
       "<div>\n",
       "<style scoped>\n",
       "    .dataframe tbody tr th:only-of-type {\n",
       "        vertical-align: middle;\n",
       "    }\n",
       "\n",
       "    .dataframe tbody tr th {\n",
       "        vertical-align: top;\n",
       "    }\n",
       "\n",
       "    .dataframe thead th {\n",
       "        text-align: right;\n",
       "    }\n",
       "</style>\n",
       "<table border=\"1\" class=\"dataframe\">\n",
       "  <thead>\n",
       "    <tr style=\"text-align: right;\">\n",
       "      <th></th>\n",
       "      <th>Token</th>\n",
       "      <th>Number</th>\n",
       "    </tr>\n",
       "  </thead>\n",
       "  <tbody>\n",
       "    <tr>\n",
       "      <th>0</th>\n",
       "      <td>g</td>\n",
       "      <td>3</td>\n",
       "    </tr>\n",
       "    <tr>\n",
       "      <th>1</th>\n",
       "      <td>a</td>\n",
       "      <td>1</td>\n",
       "    </tr>\n",
       "    <tr>\n",
       "      <th>2</th>\n",
       "      <td>A</td>\n",
       "      <td>5</td>\n",
       "    </tr>\n",
       "    <tr>\n",
       "      <th>3</th>\n",
       "      <td>.</td>\n",
       "      <td>136</td>\n",
       "    </tr>\n",
       "    <tr>\n",
       "      <th>4</th>\n",
       "      <td>d</td>\n",
       "      <td>1</td>\n",
       "    </tr>\n",
       "    <tr>\n",
       "      <th>5</th>\n",
       "      <td>t</td>\n",
       "      <td>2</td>\n",
       "    </tr>\n",
       "    <tr>\n",
       "      <th>6</th>\n",
       "      <td>u</td>\n",
       "      <td>2</td>\n",
       "    </tr>\n",
       "    <tr>\n",
       "      <th>7</th>\n",
       "      <td>M</td>\n",
       "      <td>1</td>\n",
       "    </tr>\n",
       "    <tr>\n",
       "      <th>8</th>\n",
       "      <td>i</td>\n",
       "      <td>19</td>\n",
       "    </tr>\n",
       "    <tr>\n",
       "      <th>9</th>\n",
       "      <td>L</td>\n",
       "      <td>1</td>\n",
       "    </tr>\n",
       "    <tr>\n",
       "      <th>10</th>\n",
       "      <td>e</td>\n",
       "      <td>1</td>\n",
       "    </tr>\n",
       "  </tbody>\n",
       "</table>\n",
       "</div>"
      ],
      "text/plain": [
       "   Token  Number\n",
       "0      g       3\n",
       "1      a       1\n",
       "2      A       5\n",
       "3      .     136\n",
       "4      d       1\n",
       "5      t       2\n",
       "6      u       2\n",
       "7      M       1\n",
       "8      i      19\n",
       "9      L       1\n",
       "10     e       1"
      ]
     },
     "execution_count": 25,
     "metadata": {},
     "output_type": "execute_result"
    }
   ],
   "source": [
    "pd.DataFrame({'Token': specialLincsList, 'Number': smiles_list_trans})"
   ]
  },
  {
   "cell_type": "code",
   "execution_count": 32,
   "metadata": {},
   "outputs": [],
   "source": [
    "# shorter than MAX_LEN\n",
    "smiles_list_trans = []\n",
    "for t in specialLincsList:\n",
    "    a = 0\n",
    "    for i in smiles_list:\n",
    "        if (t in i) & (len(i) <= MAX_LEN):\n",
    "            a += 1\n",
    "    smiles_list_trans.append(a)\n"
   ]
  },
  {
   "cell_type": "code",
   "execution_count": 33,
   "metadata": {},
   "outputs": [
    {
     "data": {
      "text/html": [
       "<div>\n",
       "<style scoped>\n",
       "    .dataframe tbody tr th:only-of-type {\n",
       "        vertical-align: middle;\n",
       "    }\n",
       "\n",
       "    .dataframe tbody tr th {\n",
       "        vertical-align: top;\n",
       "    }\n",
       "\n",
       "    .dataframe thead th {\n",
       "        text-align: right;\n",
       "    }\n",
       "</style>\n",
       "<table border=\"1\" class=\"dataframe\">\n",
       "  <thead>\n",
       "    <tr style=\"text-align: right;\">\n",
       "      <th></th>\n",
       "      <th>Token</th>\n",
       "      <th>Number</th>\n",
       "    </tr>\n",
       "  </thead>\n",
       "  <tbody>\n",
       "    <tr>\n",
       "      <th>0</th>\n",
       "      <td>g</td>\n",
       "      <td>3</td>\n",
       "    </tr>\n",
       "    <tr>\n",
       "      <th>1</th>\n",
       "      <td>a</td>\n",
       "      <td>0</td>\n",
       "    </tr>\n",
       "    <tr>\n",
       "      <th>2</th>\n",
       "      <td>A</td>\n",
       "      <td>5</td>\n",
       "    </tr>\n",
       "    <tr>\n",
       "      <th>3</th>\n",
       "      <td>.</td>\n",
       "      <td>33</td>\n",
       "    </tr>\n",
       "    <tr>\n",
       "      <th>4</th>\n",
       "      <td>d</td>\n",
       "      <td>1</td>\n",
       "    </tr>\n",
       "    <tr>\n",
       "      <th>5</th>\n",
       "      <td>t</td>\n",
       "      <td>2</td>\n",
       "    </tr>\n",
       "    <tr>\n",
       "      <th>6</th>\n",
       "      <td>u</td>\n",
       "      <td>2</td>\n",
       "    </tr>\n",
       "    <tr>\n",
       "      <th>7</th>\n",
       "      <td>M</td>\n",
       "      <td>1</td>\n",
       "    </tr>\n",
       "    <tr>\n",
       "      <th>8</th>\n",
       "      <td>i</td>\n",
       "      <td>19</td>\n",
       "    </tr>\n",
       "    <tr>\n",
       "      <th>9</th>\n",
       "      <td>L</td>\n",
       "      <td>1</td>\n",
       "    </tr>\n",
       "    <tr>\n",
       "      <th>10</th>\n",
       "      <td>e</td>\n",
       "      <td>1</td>\n",
       "    </tr>\n",
       "  </tbody>\n",
       "</table>\n",
       "</div>"
      ],
      "text/plain": [
       "   Token  Number\n",
       "0      g       3\n",
       "1      a       0\n",
       "2      A       5\n",
       "3      .      33\n",
       "4      d       1\n",
       "5      t       2\n",
       "6      u       2\n",
       "7      M       1\n",
       "8      i      19\n",
       "9      L       1\n",
       "10     e       1"
      ]
     },
     "execution_count": 33,
     "metadata": {},
     "output_type": "execute_result"
    }
   ],
   "source": [
    "pd.DataFrame({'Token': specialLincsList, 'Number': smiles_list_trans})"
   ]
  },
  {
   "cell_type": "code",
   "execution_count": 34,
   "metadata": {},
   "outputs": [
    {
     "data": {
      "text/plain": [
       "68"
      ]
     },
     "execution_count": 34,
     "metadata": {},
     "output_type": "execute_result"
    }
   ],
   "source": [
    "np.sum( smiles_list_trans)"
   ]
  },
  {
   "cell_type": "code",
   "execution_count": 40,
   "metadata": {},
   "outputs": [
    {
     "data": {
      "text/plain": [
       "(array([], dtype=int64),)"
      ]
     },
     "execution_count": 40,
     "metadata": {},
     "output_type": "execute_result"
    }
   ],
   "source": [
    "np.where(np.array(smiles_list) == 'restricted')"
   ]
  },
  {
   "cell_type": "code",
   "execution_count": 25,
   "metadata": {},
   "outputs": [],
   "source": [
    "# remove non-occuring tokens\n",
    "for t in specialLincsList:\n",
    "    smiles_list_trans = []\n",
    "    for i in smiles_list:\n",
    "        if t in i:\n",
    "            smile = ''\n",
    "            for j in i: \n",
    "                if j != t:\n",
    "                    smile += j\n",
    "            smiles_list_trans.append(smile)\n",
    "        else:\n",
    "            smiles_list_trans.append(i)\n",
    "    smiles_list = smiles_list_trans"
   ]
  },
  {
   "cell_type": "code",
   "execution_count": 26,
   "metadata": {},
   "outputs": [],
   "source": [
    "charset_list = []\n",
    "\n",
    "len_list = []\n",
    "for i in smiles_list:\n",
    "    for j in i:\n",
    "        if j not in charset_list:\n",
    "            charset_list.append(j)\n",
    "    len_list.append(len(i))\n",
    "max_len = max(len_list)"
   ]
  },
  {
   "cell_type": "code",
   "execution_count": 37,
   "metadata": {},
   "outputs": [
    {
     "data": {
      "text/plain": [
       "20329"
      ]
     },
     "execution_count": 37,
     "metadata": {},
     "output_type": "execute_result"
    }
   ],
   "source": [
    "len(smiles_list)"
   ]
  },
  {
   "cell_type": "code",
   "execution_count": 31,
   "metadata": {},
   "outputs": [
    {
     "data": {
      "text/plain": [
       "20065"
      ]
     },
     "execution_count": 31,
     "metadata": {},
     "output_type": "execute_result"
    }
   ],
   "source": [
    "(np.array(len_list) <= MAX_LEN).sum()"
   ]
  },
  {
   "cell_type": "code",
   "execution_count": 32,
   "metadata": {},
   "outputs": [],
   "source": [
    "XLINCS = mu.smiles_to_hot(smiles_list, MAX_LEN, params[\n",
    "                             'PADDING'], CHAR_INDICES, NCHARS)"
   ]
  },
  {
   "cell_type": "code",
   "execution_count": 33,
   "metadata": {},
   "outputs": [
    {
     "data": {
      "text/plain": [
       "(20065, 120, 35)"
      ]
     },
     "execution_count": 33,
     "metadata": {},
     "output_type": "execute_result"
    }
   ],
   "source": [
    "XLINCS.shape"
   ]
  },
  {
   "cell_type": "code",
   "execution_count": 34,
   "metadata": {},
   "outputs": [],
   "source": [
    "np.save('/nfs/turbo/umms-welchjd/hengshi/perturb_gan/data/LINCS/oneHot/GSE92742_Broad_LINCS_Level3_INF_mlr12k_n1319138x12328_processed_UniqueCanonicalSmilesOneHot.npy', XLINCS)"
   ]
  },
  {
   "cell_type": "code",
   "execution_count": 36,
   "metadata": {},
   "outputs": [
    {
     "data": {
      "text/plain": [
       "array([    0,     1,     3, ..., 20326, 20327, 20328])"
      ]
     },
     "execution_count": 36,
     "metadata": {},
     "output_type": "execute_result"
    }
   ],
   "source": [
    "np.where(np.array(len_list) <= MAX_LEN)[0]"
   ]
  },
  {
   "cell_type": "code",
   "execution_count": 38,
   "metadata": {},
   "outputs": [],
   "source": [
    "smiles_unique = pd.read_csv('/nfs/turbo/umms-welchjd/hengshi/perturb_gan/data/LINCS/oneHot/GSE92742_Broad_LINCS_Level3_INF_mlr12k_n1319138x12328_processed_UniqueCanonicalSmiles.csv')\n",
    "smiles_u = list(smiles_unique.iloc[:, 1])\n",
    "smiles_ui = [i for i in smiles_u if i != 'restricted']\n"
   ]
  },
  {
   "cell_type": "code",
   "execution_count": 40,
   "metadata": {},
   "outputs": [
    {
     "data": {
      "text/plain": [
       "(20065,)"
      ]
     },
     "execution_count": 40,
     "metadata": {},
     "output_type": "execute_result"
    }
   ],
   "source": [
    "np.array(smiles_ui)[np.where(np.array(len_list) <= MAX_LEN)[0]].shape"
   ]
  },
  {
   "cell_type": "code",
   "execution_count": 41,
   "metadata": {},
   "outputs": [],
   "source": [
    "np.save('/nfs/turbo/umms-welchjd/hengshi/perturb_gan/data/LINCS/oneHot/GSE92742_Broad_LINCS_Level3_INF_mlr12k_n1319138x12328_processed_UniqueCanonicalSmilesOneHotSmiles.npy', np.array(smiles_ui)[np.where(np.array(len_list) <= MAX_LEN)[0]])"
   ]
  },
  {
   "cell_type": "markdown",
   "metadata": {},
   "source": [
    "# PubChem 10M \n"
   ]
  },
  {
   "cell_type": "code",
   "execution_count": 57,
   "metadata": {},
   "outputs": [],
   "source": [
    "path_zinc = '/nfs/turbo/umms-welchjd/hengshi/perturb_gan/data/smiles/pubchem'\n",
    "zinc_name = 'pubchem_canon.csv'"
   ]
  },
  {
   "cell_type": "code",
   "execution_count": 58,
   "metadata": {},
   "outputs": [],
   "source": [
    "import pandas as pd\n",
    "import numpy as np"
   ]
  },
  {
   "cell_type": "code",
   "execution_count": 59,
   "metadata": {},
   "outputs": [
    {
     "data": {
      "text/plain": [
       "(9999999, 2)"
      ]
     },
     "execution_count": 59,
     "metadata": {},
     "output_type": "execute_result"
    }
   ],
   "source": [
    "# Canonization\n",
    "pubchem_data = pd.read_csv(os.path.join(path_zinc, zinc_name))\n",
    "pubchem_data.shape"
   ]
  },
  {
   "cell_type": "code",
   "execution_count": 60,
   "metadata": {},
   "outputs": [],
   "source": [
    "key_use = list(CHAR_INDICES.keys())"
   ]
  },
  {
   "cell_type": "code",
   "execution_count": 61,
   "metadata": {},
   "outputs": [
    {
     "data": {
      "text/plain": [
       "['7',\n",
       " '6',\n",
       " 'o',\n",
       " ']',\n",
       " '3',\n",
       " 's',\n",
       " '(',\n",
       " '-',\n",
       " 'S',\n",
       " '/',\n",
       " 'B',\n",
       " '4',\n",
       " '[',\n",
       " ')',\n",
       " '#',\n",
       " 'I',\n",
       " 'l',\n",
       " 'O',\n",
       " 'H',\n",
       " 'c',\n",
       " '1',\n",
       " '@',\n",
       " '=',\n",
       " 'n',\n",
       " 'P',\n",
       " '8',\n",
       " 'C',\n",
       " '2',\n",
       " 'F',\n",
       " '5',\n",
       " 'r',\n",
       " 'N',\n",
       " '+',\n",
       " '\\\\',\n",
       " ' ']"
      ]
     },
     "execution_count": 61,
     "metadata": {},
     "output_type": "execute_result"
    }
   ],
   "source": [
    "key_use"
   ]
  },
  {
   "cell_type": "code",
   "execution_count": 62,
   "metadata": {},
   "outputs": [],
   "source": [
    "smiles_list = list(pubchem_data.iloc[:, 1])"
   ]
  },
  {
   "cell_type": "code",
   "execution_count": 62,
   "metadata": {},
   "outputs": [],
   "source": [
    "charset_list = []\n",
    "\n",
    "len_list = []\n",
    "for i in smiles_list:\n",
    "    for j in i:\n",
    "        if j not in charset_list:\n",
    "            charset_list.append(j)\n",
    "    len_list.append(len(i))\n",
    "max_len = max(len_list)"
   ]
  },
  {
   "cell_type": "code",
   "execution_count": 63,
   "metadata": {},
   "outputs": [
    {
     "data": {
      "text/plain": [
       "62"
      ]
     },
     "execution_count": 63,
     "metadata": {},
     "output_type": "execute_result"
    }
   ],
   "source": [
    "len(charset_list)"
   ]
  },
  {
   "cell_type": "code",
   "execution_count": 64,
   "metadata": {},
   "outputs": [
    {
     "data": {
      "text/plain": [
       "31"
      ]
     },
     "execution_count": 64,
     "metadata": {},
     "output_type": "execute_result"
    }
   ],
   "source": [
    "len(list(set(charset_list) - set(key_use)))"
   ]
  },
  {
   "cell_type": "code",
   "execution_count": 65,
   "metadata": {},
   "outputs": [
    {
     "data": {
      "text/plain": [
       "4"
      ]
     },
     "execution_count": 65,
     "metadata": {},
     "output_type": "execute_result"
    }
   ],
   "source": [
    "len(list(set(key_use) - set(charset_list)))"
   ]
  },
  {
   "cell_type": "code",
   "execution_count": 67,
   "metadata": {},
   "outputs": [
    {
     "data": {
      "text/plain": [
       "62"
      ]
     },
     "execution_count": 67,
     "metadata": {},
     "output_type": "execute_result"
    }
   ],
   "source": [
    "len(charset_list)"
   ]
  },
  {
   "cell_type": "code",
   "execution_count": 19,
   "metadata": {},
   "outputs": [
    {
     "data": {
      "text/html": [
       "<div>\n",
       "<style scoped>\n",
       "    .dataframe tbody tr th:only-of-type {\n",
       "        vertical-align: middle;\n",
       "    }\n",
       "\n",
       "    .dataframe tbody tr th {\n",
       "        vertical-align: top;\n",
       "    }\n",
       "\n",
       "    .dataframe thead th {\n",
       "        text-align: right;\n",
       "    }\n",
       "</style>\n",
       "<table border=\"1\" class=\"dataframe\">\n",
       "  <thead>\n",
       "    <tr style=\"text-align: right;\">\n",
       "      <th></th>\n",
       "      <th>0</th>\n",
       "    </tr>\n",
       "  </thead>\n",
       "  <tbody>\n",
       "    <tr>\n",
       "      <th>count</th>\n",
       "      <td>9.999999e+06</td>\n",
       "    </tr>\n",
       "    <tr>\n",
       "      <th>mean</th>\n",
       "      <td>4.457236e+01</td>\n",
       "    </tr>\n",
       "    <tr>\n",
       "      <th>std</th>\n",
       "      <td>2.124516e+01</td>\n",
       "    </tr>\n",
       "    <tr>\n",
       "      <th>min</th>\n",
       "      <td>3.000000e+00</td>\n",
       "    </tr>\n",
       "    <tr>\n",
       "      <th>25%</th>\n",
       "      <td>3.300000e+01</td>\n",
       "    </tr>\n",
       "    <tr>\n",
       "      <th>50%</th>\n",
       "      <td>4.000000e+01</td>\n",
       "    </tr>\n",
       "    <tr>\n",
       "      <th>75%</th>\n",
       "      <td>5.100000e+01</td>\n",
       "    </tr>\n",
       "    <tr>\n",
       "      <th>max</th>\n",
       "      <td>3.536000e+03</td>\n",
       "    </tr>\n",
       "  </tbody>\n",
       "</table>\n",
       "</div>"
      ],
      "text/plain": [
       "                  0\n",
       "count  9.999999e+06\n",
       "mean   4.457236e+01\n",
       "std    2.124516e+01\n",
       "min    3.000000e+00\n",
       "25%    3.300000e+01\n",
       "50%    4.000000e+01\n",
       "75%    5.100000e+01\n",
       "max    3.536000e+03"
      ]
     },
     "execution_count": 19,
     "metadata": {},
     "output_type": "execute_result"
    }
   ],
   "source": [
    "pd.DataFrame(len_list).describe()"
   ]
  },
  {
   "cell_type": "code",
   "execution_count": 20,
   "metadata": {},
   "outputs": [
    {
     "data": {
      "text/plain": [
       "9999999"
      ]
     },
     "execution_count": 20,
     "metadata": {},
     "output_type": "execute_result"
    }
   ],
   "source": [
    "len(len_list)"
   ]
  },
  {
   "cell_type": "code",
   "execution_count": 21,
   "metadata": {},
   "outputs": [
    {
     "data": {
      "text/plain": [
       "array([ True,  True,  True, ...,  True,  True,  True])"
      ]
     },
     "execution_count": 21,
     "metadata": {},
     "output_type": "execute_result"
    }
   ],
   "source": [
    "(np.array(len_list) <= 120)"
   ]
  },
  {
   "cell_type": "code",
   "execution_count": 22,
   "metadata": {},
   "outputs": [
    {
     "data": {
      "text/html": [
       "<div>\n",
       "<style scoped>\n",
       "    .dataframe tbody tr th:only-of-type {\n",
       "        vertical-align: middle;\n",
       "    }\n",
       "\n",
       "    .dataframe tbody tr th {\n",
       "        vertical-align: top;\n",
       "    }\n",
       "\n",
       "    .dataframe thead th {\n",
       "        text-align: right;\n",
       "    }\n",
       "</style>\n",
       "<table border=\"1\" class=\"dataframe\">\n",
       "  <thead>\n",
       "    <tr style=\"text-align: right;\">\n",
       "      <th></th>\n",
       "      <th>0</th>\n",
       "    </tr>\n",
       "  </thead>\n",
       "  <tbody>\n",
       "    <tr>\n",
       "      <th>count</th>\n",
       "      <td>9.916685e+06</td>\n",
       "    </tr>\n",
       "    <tr>\n",
       "      <th>mean</th>\n",
       "      <td>4.348125e+01</td>\n",
       "    </tr>\n",
       "    <tr>\n",
       "      <th>std</th>\n",
       "      <td>1.593098e+01</td>\n",
       "    </tr>\n",
       "    <tr>\n",
       "      <th>min</th>\n",
       "      <td>3.000000e+00</td>\n",
       "    </tr>\n",
       "    <tr>\n",
       "      <th>25%</th>\n",
       "      <td>3.200000e+01</td>\n",
       "    </tr>\n",
       "    <tr>\n",
       "      <th>50%</th>\n",
       "      <td>4.000000e+01</td>\n",
       "    </tr>\n",
       "    <tr>\n",
       "      <th>75%</th>\n",
       "      <td>5.100000e+01</td>\n",
       "    </tr>\n",
       "    <tr>\n",
       "      <th>max</th>\n",
       "      <td>1.200000e+02</td>\n",
       "    </tr>\n",
       "  </tbody>\n",
       "</table>\n",
       "</div>"
      ],
      "text/plain": [
       "                  0\n",
       "count  9.916685e+06\n",
       "mean   4.348125e+01\n",
       "std    1.593098e+01\n",
       "min    3.000000e+00\n",
       "25%    3.200000e+01\n",
       "50%    4.000000e+01\n",
       "75%    5.100000e+01\n",
       "max    1.200000e+02"
      ]
     },
     "execution_count": 22,
     "metadata": {},
     "output_type": "execute_result"
    }
   ],
   "source": [
    "pd.DataFrame(len_list).iloc[(np.array(len_list) <= 120), :].describe()"
   ]
  },
  {
   "cell_type": "code",
   "execution_count": 23,
   "metadata": {},
   "outputs": [],
   "source": [
    "# \n",
    "zinc_data = pd.read_csv('../250k_rndm_zinc_drugs_clean_3.csv')"
   ]
  },
  {
   "cell_type": "code",
   "execution_count": 24,
   "metadata": {},
   "outputs": [
    {
     "data": {
      "text/html": [
       "<div>\n",
       "<style scoped>\n",
       "    .dataframe tbody tr th:only-of-type {\n",
       "        vertical-align: middle;\n",
       "    }\n",
       "\n",
       "    .dataframe tbody tr th {\n",
       "        vertical-align: top;\n",
       "    }\n",
       "\n",
       "    .dataframe thead th {\n",
       "        text-align: right;\n",
       "    }\n",
       "</style>\n",
       "<table border=\"1\" class=\"dataframe\">\n",
       "  <thead>\n",
       "    <tr style=\"text-align: right;\">\n",
       "      <th></th>\n",
       "      <th>smiles</th>\n",
       "      <th>logP</th>\n",
       "      <th>qed</th>\n",
       "      <th>SAS</th>\n",
       "    </tr>\n",
       "  </thead>\n",
       "  <tbody>\n",
       "    <tr>\n",
       "      <th>0</th>\n",
       "      <td>CC(C)(C)c1ccc2occ(CC(=O)Nc3ccccc3F)c2c1\\n</td>\n",
       "      <td>5.05060</td>\n",
       "      <td>0.702012</td>\n",
       "      <td>2.084095</td>\n",
       "    </tr>\n",
       "    <tr>\n",
       "      <th>1</th>\n",
       "      <td>C[C@@H]1CC(Nc2cncc(-c3nncn3C)c2)C[C@@H](C)C1\\n</td>\n",
       "      <td>3.11370</td>\n",
       "      <td>0.928975</td>\n",
       "      <td>3.432004</td>\n",
       "    </tr>\n",
       "    <tr>\n",
       "      <th>2</th>\n",
       "      <td>N#Cc1ccc(-c2ccc(O[C@@H](C(=O)N3CCCC3)c3ccccc3)...</td>\n",
       "      <td>4.96778</td>\n",
       "      <td>0.599682</td>\n",
       "      <td>2.470633</td>\n",
       "    </tr>\n",
       "    <tr>\n",
       "      <th>3</th>\n",
       "      <td>CCOC(=O)[C@@H]1CCCN(C(=O)c2nc(-c3ccc(C)cc3)n3c...</td>\n",
       "      <td>4.00022</td>\n",
       "      <td>0.690944</td>\n",
       "      <td>2.822753</td>\n",
       "    </tr>\n",
       "    <tr>\n",
       "      <th>4</th>\n",
       "      <td>N#CC1=C(SCC(=O)Nc2cccc(Cl)c2)N=C([O-])[C@H](C#...</td>\n",
       "      <td>3.60956</td>\n",
       "      <td>0.789027</td>\n",
       "      <td>4.035182</td>\n",
       "    </tr>\n",
       "  </tbody>\n",
       "</table>\n",
       "</div>"
      ],
      "text/plain": [
       "                                              smiles     logP       qed  \\\n",
       "0          CC(C)(C)c1ccc2occ(CC(=O)Nc3ccccc3F)c2c1\\n  5.05060  0.702012   \n",
       "1     C[C@@H]1CC(Nc2cncc(-c3nncn3C)c2)C[C@@H](C)C1\\n  3.11370  0.928975   \n",
       "2  N#Cc1ccc(-c2ccc(O[C@@H](C(=O)N3CCCC3)c3ccccc3)...  4.96778  0.599682   \n",
       "3  CCOC(=O)[C@@H]1CCCN(C(=O)c2nc(-c3ccc(C)cc3)n3c...  4.00022  0.690944   \n",
       "4  N#CC1=C(SCC(=O)Nc2cccc(Cl)c2)N=C([O-])[C@H](C#...  3.60956  0.789027   \n",
       "\n",
       "        SAS  \n",
       "0  2.084095  \n",
       "1  3.432004  \n",
       "2  2.470633  \n",
       "3  2.822753  \n",
       "4  4.035182  "
      ]
     },
     "execution_count": 24,
     "metadata": {},
     "output_type": "execute_result"
    }
   ],
   "source": [
    "zinc_data.head()"
   ]
  },
  {
   "cell_type": "code",
   "execution_count": 25,
   "metadata": {},
   "outputs": [],
   "source": [
    "list_zinc = list(zinc_data['smiles'])"
   ]
  },
  {
   "cell_type": "code",
   "execution_count": 26,
   "metadata": {},
   "outputs": [],
   "source": [
    "charset_zinc_list = []\n",
    "\n",
    "len_zinc_list = []\n",
    "for i in list_zinc:\n",
    "    for j in i:\n",
    "        if j not in charset_zinc_list:\n",
    "            charset_zinc_list.append(j)\n",
    "    len_zinc_list.append(len(i))\n",
    "max_zinc_len = max(len_zinc_list)"
   ]
  },
  {
   "cell_type": "code",
   "execution_count": 27,
   "metadata": {},
   "outputs": [
    {
     "data": {
      "text/html": [
       "<div>\n",
       "<style scoped>\n",
       "    .dataframe tbody tr th:only-of-type {\n",
       "        vertical-align: middle;\n",
       "    }\n",
       "\n",
       "    .dataframe tbody tr th {\n",
       "        vertical-align: top;\n",
       "    }\n",
       "\n",
       "    .dataframe thead th {\n",
       "        text-align: right;\n",
       "    }\n",
       "</style>\n",
       "<table border=\"1\" class=\"dataframe\">\n",
       "  <thead>\n",
       "    <tr style=\"text-align: right;\">\n",
       "      <th></th>\n",
       "      <th>0</th>\n",
       "    </tr>\n",
       "  </thead>\n",
       "  <tbody>\n",
       "    <tr>\n",
       "      <th>count</th>\n",
       "      <td>249455.000000</td>\n",
       "    </tr>\n",
       "    <tr>\n",
       "      <th>mean</th>\n",
       "      <td>45.310461</td>\n",
       "    </tr>\n",
       "    <tr>\n",
       "      <th>std</th>\n",
       "      <td>9.326142</td>\n",
       "    </tr>\n",
       "    <tr>\n",
       "      <th>min</th>\n",
       "      <td>10.000000</td>\n",
       "    </tr>\n",
       "    <tr>\n",
       "      <th>25%</th>\n",
       "      <td>39.000000</td>\n",
       "    </tr>\n",
       "    <tr>\n",
       "      <th>50%</th>\n",
       "      <td>45.000000</td>\n",
       "    </tr>\n",
       "    <tr>\n",
       "      <th>75%</th>\n",
       "      <td>51.000000</td>\n",
       "    </tr>\n",
       "    <tr>\n",
       "      <th>max</th>\n",
       "      <td>110.000000</td>\n",
       "    </tr>\n",
       "  </tbody>\n",
       "</table>\n",
       "</div>"
      ],
      "text/plain": [
       "                   0\n",
       "count  249455.000000\n",
       "mean       45.310461\n",
       "std         9.326142\n",
       "min        10.000000\n",
       "25%        39.000000\n",
       "50%        45.000000\n",
       "75%        51.000000\n",
       "max       110.000000"
      ]
     },
     "execution_count": 27,
     "metadata": {},
     "output_type": "execute_result"
    }
   ],
   "source": [
    "pd.DataFrame(len_zinc_list).describe()"
   ]
  },
  {
   "cell_type": "code",
   "execution_count": 28,
   "metadata": {},
   "outputs": [
    {
     "data": {
      "text/plain": [
       "['\\n']"
      ]
     },
     "execution_count": 28,
     "metadata": {},
     "output_type": "execute_result"
    }
   ],
   "source": [
    "list(set(charset_zinc_list) - set(key_use))"
   ]
  },
  {
   "cell_type": "code",
   "execution_count": 29,
   "metadata": {},
   "outputs": [
    {
     "data": {
      "text/plain": [
       "[' ']"
      ]
     },
     "execution_count": 29,
     "metadata": {},
     "output_type": "execute_result"
    }
   ],
   "source": [
    "list(set(key_use) - set(charset_zinc_list) )"
   ]
  },
  {
   "cell_type": "code",
   "execution_count": 30,
   "metadata": {},
   "outputs": [
    {
     "data": {
      "text/plain": [
       "(9999999, 9999999)"
      ]
     },
     "execution_count": 30,
     "metadata": {},
     "output_type": "execute_result"
    }
   ],
   "source": [
    "len(smiles_list), len(len_list)"
   ]
  },
  {
   "cell_type": "code",
   "execution_count": 68,
   "metadata": {},
   "outputs": [],
   "source": [
    "charset_list = []\n",
    "len_list = []\n",
    "smile_less_120_list = []\n",
    "for i in range(len(smiles_list)):\n",
    "    smile = smiles_list[i]\n",
    "    if len(smile) > 140:\n",
    "        smile = smile[:140]\n",
    "    for j in smile:\n",
    "        if j not in charset_list:\n",
    "            charset_list.append(j)\n",
    "    len_list.append(len(smile))\n",
    "    smile_less_120_list.append(smile)\n",
    "max_len = max(len_list)"
   ]
  },
  {
   "cell_type": "code",
   "execution_count": 69,
   "metadata": {},
   "outputs": [
    {
     "data": {
      "text/plain": [
       "9999999"
      ]
     },
     "execution_count": 69,
     "metadata": {},
     "output_type": "execute_result"
    }
   ],
   "source": [
    "len(smile_less_120_list)"
   ]
  },
  {
   "cell_type": "code",
   "execution_count": 70,
   "metadata": {},
   "outputs": [
    {
     "data": {
      "text/html": [
       "<div>\n",
       "<style scoped>\n",
       "    .dataframe tbody tr th:only-of-type {\n",
       "        vertical-align: middle;\n",
       "    }\n",
       "\n",
       "    .dataframe tbody tr th {\n",
       "        vertical-align: top;\n",
       "    }\n",
       "\n",
       "    .dataframe thead th {\n",
       "        text-align: right;\n",
       "    }\n",
       "</style>\n",
       "<table border=\"1\" class=\"dataframe\">\n",
       "  <thead>\n",
       "    <tr style=\"text-align: right;\">\n",
       "      <th></th>\n",
       "      <th>0</th>\n",
       "    </tr>\n",
       "  </thead>\n",
       "  <tbody>\n",
       "    <tr>\n",
       "      <th>count</th>\n",
       "      <td>9.999999e+06</td>\n",
       "    </tr>\n",
       "    <tr>\n",
       "      <th>mean</th>\n",
       "      <td>4.424816e+01</td>\n",
       "    </tr>\n",
       "    <tr>\n",
       "      <th>std</th>\n",
       "      <td>1.794518e+01</td>\n",
       "    </tr>\n",
       "    <tr>\n",
       "      <th>min</th>\n",
       "      <td>3.000000e+00</td>\n",
       "    </tr>\n",
       "    <tr>\n",
       "      <th>25%</th>\n",
       "      <td>3.300000e+01</td>\n",
       "    </tr>\n",
       "    <tr>\n",
       "      <th>50%</th>\n",
       "      <td>4.000000e+01</td>\n",
       "    </tr>\n",
       "    <tr>\n",
       "      <th>75%</th>\n",
       "      <td>5.100000e+01</td>\n",
       "    </tr>\n",
       "    <tr>\n",
       "      <th>max</th>\n",
       "      <td>1.400000e+02</td>\n",
       "    </tr>\n",
       "  </tbody>\n",
       "</table>\n",
       "</div>"
      ],
      "text/plain": [
       "                  0\n",
       "count  9.999999e+06\n",
       "mean   4.424816e+01\n",
       "std    1.794518e+01\n",
       "min    3.000000e+00\n",
       "25%    3.300000e+01\n",
       "50%    4.000000e+01\n",
       "75%    5.100000e+01\n",
       "max    1.400000e+02"
      ]
     },
     "execution_count": 70,
     "metadata": {},
     "output_type": "execute_result"
    }
   ],
   "source": [
    "pd.DataFrame(len_list).describe()"
   ]
  },
  {
   "cell_type": "code",
   "execution_count": 71,
   "metadata": {},
   "outputs": [
    {
     "data": {
      "text/plain": [
       "31"
      ]
     },
     "execution_count": 71,
     "metadata": {},
     "output_type": "execute_result"
    }
   ],
   "source": [
    "len(list(set(charset_list) - set(key_use)))"
   ]
  },
  {
   "cell_type": "code",
   "execution_count": 47,
   "metadata": {},
   "outputs": [],
   "source": [
    "import os\n",
    "path_onehot = '/nfs/turbo/umms-welchjd/hengshi/perturb_gan/data/smiles/onehot/PubChem10M'\n",
    "data_all = np.load(os.path.join(path_onehot, \"OnehotData_188.npy\"))\n"
   ]
  },
  {
   "cell_type": "code",
   "execution_count": 48,
   "metadata": {},
   "outputs": [],
   "source": [
    "path_data = '/nfs/turbo/umms-welchjd/hengshi/GAN/data/sciPlex/sciPlex3/'\n",
    "import pandas as pd\n",
    "import numpy as np\n",
    "trt_whole_list = list(pd.read_csv(os.path.join(path_data, 'emb_named_PathwayLibrary.csv'))['treatment'])"
   ]
  },
  {
   "cell_type": "code",
   "execution_count": 49,
   "metadata": {},
   "outputs": [],
   "source": [
    "indice_trt = np.where(np.array(trt_whole_list) == trt_whole_list[0])[0][0]\n",
    "anno_trt = np.tile(data_all[[indice_trt]], (100, 1))"
   ]
  },
  {
   "cell_type": "code",
   "execution_count": 50,
   "metadata": {},
   "outputs": [
    {
     "data": {
      "text/plain": [
       "(100, 140, 63)"
      ]
     },
     "execution_count": 50,
     "metadata": {},
     "output_type": "execute_result"
    }
   ],
   "source": [
    "anno_trt = np.tile(data_all[[indice_trt]], (100, 1, 1))\n",
    "anno_trt.shape"
   ]
  },
  {
   "cell_type": "code",
   "execution_count": 51,
   "metadata": {},
   "outputs": [
    {
     "data": {
      "text/plain": [
       "(188, 140, 63)"
      ]
     },
     "execution_count": 51,
     "metadata": {},
     "output_type": "execute_result"
    }
   ],
   "source": [
    "data_all.shape"
   ]
  },
  {
   "cell_type": "code",
   "execution_count": 52,
   "metadata": {},
   "outputs": [
    {
     "data": {
      "text/plain": [
       "[' ']"
      ]
     },
     "execution_count": 52,
     "metadata": {},
     "output_type": "execute_result"
    }
   ],
   "source": [
    "list(set(key_use) - set(charset_list) )"
   ]
  },
  {
   "cell_type": "code",
   "execution_count": 53,
   "metadata": {},
   "outputs": [],
   "source": [
    "path_data = '/nfs/turbo/umms-welchjd/hengshi/GAN/data/sciPlex/sciPlex3/'\n",
    "data_188 = pd.read_csv(os.path.join(path_data, 'emb_named_chemvae_canonize.csv'))\n",
    "chem_188 = list(data_188['Structure_Canonize'])"
   ]
  },
  {
   "cell_type": "code",
   "execution_count": 54,
   "metadata": {},
   "outputs": [],
   "source": [
    "charset_188_list = []\n",
    "\n",
    "len_188_list = []\n",
    "for i in chem_188:\n",
    "    for j in i:\n",
    "        if j not in charset_188_list:\n",
    "            charset_188_list.append(j)\n",
    "    len_188_list.append(len(i))\n",
    "max_188_len = max(len_188_list)"
   ]
  },
  {
   "cell_type": "code",
   "execution_count": 55,
   "metadata": {},
   "outputs": [
    {
     "data": {
      "text/html": [
       "<div>\n",
       "<style scoped>\n",
       "    .dataframe tbody tr th:only-of-type {\n",
       "        vertical-align: middle;\n",
       "    }\n",
       "\n",
       "    .dataframe tbody tr th {\n",
       "        vertical-align: top;\n",
       "    }\n",
       "\n",
       "    .dataframe thead th {\n",
       "        text-align: right;\n",
       "    }\n",
       "</style>\n",
       "<table border=\"1\" class=\"dataframe\">\n",
       "  <thead>\n",
       "    <tr style=\"text-align: right;\">\n",
       "      <th></th>\n",
       "      <th>0</th>\n",
       "    </tr>\n",
       "  </thead>\n",
       "  <tbody>\n",
       "    <tr>\n",
       "      <th>count</th>\n",
       "      <td>188.000000</td>\n",
       "    </tr>\n",
       "    <tr>\n",
       "      <th>mean</th>\n",
       "      <td>51.265957</td>\n",
       "    </tr>\n",
       "    <tr>\n",
       "      <th>std</th>\n",
       "      <td>17.951018</td>\n",
       "    </tr>\n",
       "    <tr>\n",
       "      <th>min</th>\n",
       "      <td>17.000000</td>\n",
       "    </tr>\n",
       "    <tr>\n",
       "      <th>25%</th>\n",
       "      <td>40.000000</td>\n",
       "    </tr>\n",
       "    <tr>\n",
       "      <th>50%</th>\n",
       "      <td>50.000000</td>\n",
       "    </tr>\n",
       "    <tr>\n",
       "      <th>75%</th>\n",
       "      <td>60.250000</td>\n",
       "    </tr>\n",
       "    <tr>\n",
       "      <th>max</th>\n",
       "      <td>139.000000</td>\n",
       "    </tr>\n",
       "  </tbody>\n",
       "</table>\n",
       "</div>"
      ],
      "text/plain": [
       "                0\n",
       "count  188.000000\n",
       "mean    51.265957\n",
       "std     17.951018\n",
       "min     17.000000\n",
       "25%     40.000000\n",
       "50%     50.000000\n",
       "75%     60.250000\n",
       "max    139.000000"
      ]
     },
     "execution_count": 55,
     "metadata": {},
     "output_type": "execute_result"
    }
   ],
   "source": [
    "pd.DataFrame(len_188_list).describe()"
   ]
  },
  {
   "cell_type": "code",
   "execution_count": 56,
   "metadata": {},
   "outputs": [
    {
     "data": {
      "text/plain": [
       "45"
      ]
     },
     "execution_count": 56,
     "metadata": {},
     "output_type": "execute_result"
    }
   ],
   "source": [
    "len(charset_list)"
   ]
  },
  {
   "cell_type": "code",
   "execution_count": 79,
   "metadata": {},
   "outputs": [
    {
     "data": {
      "text/plain": [
       "33"
      ]
     },
     "execution_count": 79,
     "metadata": {},
     "output_type": "execute_result"
    }
   ],
   "source": [
    "len(list(set(charset_list) - set(charset_188_list)))"
   ]
  },
  {
   "cell_type": "code",
   "execution_count": 80,
   "metadata": {},
   "outputs": [
    {
     "data": {
      "text/plain": [
       "5"
      ]
     },
     "execution_count": 80,
     "metadata": {},
     "output_type": "execute_result"
    }
   ],
   "source": [
    "len(list(set(charset_188_list) - set(charset_list)))"
   ]
  },
  {
   "cell_type": "code",
   "execution_count": 83,
   "metadata": {},
   "outputs": [
    {
     "data": {
      "text/plain": [
       "['b',\n",
       " 'E',\n",
       " 'u',\n",
       " 'D',\n",
       " '8',\n",
       " '%',\n",
       " 'K',\n",
       " 'A',\n",
       " 'M',\n",
       " 'L',\n",
       " 'G',\n",
       " '7',\n",
       " 'f',\n",
       " 'd',\n",
       " 'T',\n",
       " 'i',\n",
       " '9',\n",
       " 'Z',\n",
       " 'W',\n",
       " 'U',\n",
       " 'R',\n",
       " 'y',\n",
       " '6',\n",
       " 'g',\n",
       " 'm',\n",
       " 'h',\n",
       " 'e',\n",
       " 'p',\n",
       " 'V',\n",
       " 'Y',\n",
       " '0',\n",
       " 'X',\n",
       " 't']"
      ]
     },
     "execution_count": 83,
     "metadata": {},
     "output_type": "execute_result"
    }
   ],
   "source": [
    "list(set(charset_list) - set(charset_188_list))"
   ]
  },
  {
   "cell_type": "code",
   "execution_count": 84,
   "metadata": {},
   "outputs": [
    {
     "data": {
      "text/plain": [
       "['b',\n",
       " 'E',\n",
       " 'u',\n",
       " 'D',\n",
       " '%',\n",
       " 'K',\n",
       " 'A',\n",
       " 'M',\n",
       " 'L',\n",
       " 'G',\n",
       " 'f',\n",
       " 'd',\n",
       " 'T',\n",
       " 'i',\n",
       " '9',\n",
       " 'Z',\n",
       " 'W',\n",
       " 'U',\n",
       " 'a',\n",
       " 'R',\n",
       " 'y',\n",
       " 'g',\n",
       " 'm',\n",
       " 'h',\n",
       " 'e',\n",
       " 'p',\n",
       " 'V',\n",
       " 'Y',\n",
       " '0',\n",
       " 'X',\n",
       " 't']"
      ]
     },
     "execution_count": 84,
     "metadata": {},
     "output_type": "execute_result"
    }
   ],
   "source": [
    "list(set(charset_list) - set(key_use))"
   ]
  },
  {
   "cell_type": "code",
   "execution_count": null,
   "metadata": {},
   "outputs": [],
   "source": [
    "list(set(charset_list) - set(key_use))"
   ]
  },
  {
   "cell_type": "code",
   "execution_count": 42,
   "metadata": {},
   "outputs": [
    {
     "data": {
      "text/plain": [
       "['a', '*', '.']"
      ]
     },
     "execution_count": 42,
     "metadata": {},
     "output_type": "execute_result"
    }
   ],
   "source": [
    "list(set(charset_188_list) - set(charset_zinc_list))"
   ]
  },
  {
   "cell_type": "code",
   "execution_count": 82,
   "metadata": {},
   "outputs": [
    {
     "data": {
      "text/plain": [
       "['.', '*', '/', '\\\\', '@']"
      ]
     },
     "execution_count": 82,
     "metadata": {},
     "output_type": "execute_result"
    }
   ],
   "source": [
    "list(set(charset_188_list) - set(charset_list))"
   ]
  },
  {
   "cell_type": "code",
   "execution_count": 44,
   "metadata": {},
   "outputs": [],
   "source": [
    "pdata = pd.read_csv('/nfs/turbo/umms-welchjd/hengshi/perturb_gan/data/LINCS/GSE92742_Broad_LINCS_pert_info.txt',  sep=\"\\t\")"
   ]
  },
  {
   "cell_type": "code",
   "execution_count": 45,
   "metadata": {},
   "outputs": [],
   "source": [
    "aper = pdata['canonical_smiles'].unique()"
   ]
  },
  {
   "cell_type": "code",
   "execution_count": 46,
   "metadata": {},
   "outputs": [],
   "source": [
    "charset_lincs_list = []\n",
    "\n",
    "len_lincs_list = []\n",
    "for i in aper:\n",
    "    for j in i:\n",
    "        if j not in charset_lincs_list:\n",
    "            charset_lincs_list.append(j)\n",
    "    len_lincs_list.append(len(i))\n",
    "max_lincs_len = max(len_lincs_list)"
   ]
  },
  {
   "cell_type": "code",
   "execution_count": 47,
   "metadata": {},
   "outputs": [
    {
     "data": {
      "text/plain": [
       "['t', 'd', '%', 'u', '0', '6', '7', 'A', 'e', 'i', '8', 'L', 'M', 'g', '9']"
      ]
     },
     "execution_count": 47,
     "metadata": {},
     "output_type": "execute_result"
    }
   ],
   "source": [
    "list(set(charset_lincs_list) - set(charset_188_list))"
   ]
  },
  {
   "cell_type": "code",
   "execution_count": 48,
   "metadata": {},
   "outputs": [
    {
     "data": {
      "text/plain": [
       "['*']"
      ]
     },
     "execution_count": 48,
     "metadata": {},
     "output_type": "execute_result"
    }
   ],
   "source": [
    "list(set(charset_188_list) - set(charset_lincs_list))"
   ]
  },
  {
   "cell_type": "code",
   "execution_count": 49,
   "metadata": {},
   "outputs": [
    {
     "data": {
      "text/plain": [
       "18"
      ]
     },
     "execution_count": 49,
     "metadata": {},
     "output_type": "execute_result"
    }
   ],
   "source": [
    "len(list(set(charset_list) - set(charset_lincs_list)))"
   ]
  },
  {
   "cell_type": "code",
   "execution_count": 50,
   "metadata": {
    "scrolled": true
   },
   "outputs": [
    {
     "data": {
      "text/plain": [
       "['.', '\\\\', '/', '@']"
      ]
     },
     "execution_count": 50,
     "metadata": {},
     "output_type": "execute_result"
    }
   ],
   "source": [
    "list(set(charset_lincs_list) - set(charset_list))"
   ]
  },
  {
   "cell_type": "code",
   "execution_count": 51,
   "metadata": {},
   "outputs": [],
   "source": [
    "smiles_list_trans = []\n",
    "for i in chem_188:\n",
    "    smile = i\n",
    "    if '@' in smile:\n",
    "        smile1 = ''\n",
    "        for j in smile: \n",
    "            if j != '@':\n",
    "                smile1 += j\n",
    "        smile = smile1\n",
    "\n",
    "    if '*' in smile:\n",
    "        smile1 = ''\n",
    "        for j in smile: \n",
    "            if j != '*':\n",
    "                smile1 += j\n",
    "        smile = smile1\n",
    "\n",
    "    if '.' in smile:\n",
    "        smile1 = ''\n",
    "        for j in smile: \n",
    "            if j != '.':\n",
    "                smile1 += j\n",
    "        smile = smile1\n",
    "        \n",
    "    if '\\\\' in smile:\n",
    "        smile1 = ''\n",
    "        for j in smile: \n",
    "            if j != '\\\\':\n",
    "                smile1 += j\n",
    "        smile = smile1\n",
    "\n",
    "    if '/' in smile:\n",
    "        smile1 = ''\n",
    "        for j in smile: \n",
    "            if j != '/':\n",
    "                smile1 += j\n",
    "        smile = smile1\n",
    "        \n",
    "    smiles_list_trans.append(smile)"
   ]
  },
  {
   "cell_type": "code",
   "execution_count": 52,
   "metadata": {},
   "outputs": [
    {
     "data": {
      "text/plain": [
       "120"
      ]
     },
     "execution_count": 52,
     "metadata": {},
     "output_type": "execute_result"
    }
   ],
   "source": [
    "params['MAX_LEN']"
   ]
  },
  {
   "cell_type": "code",
   "execution_count": 53,
   "metadata": {},
   "outputs": [
    {
     "data": {
      "text/plain": [
       "62"
      ]
     },
     "execution_count": 53,
     "metadata": {},
     "output_type": "execute_result"
    }
   ],
   "source": [
    "len(charset_list)"
   ]
  },
  {
   "cell_type": "code",
   "execution_count": 54,
   "metadata": {},
   "outputs": [],
   "source": [
    "MAX_LEN = 140\n",
    "\n",
    "if ' ' not in charset_list:\n",
    "    charset_list += [' ']\n",
    "\n",
    "# onehot representations\n",
    "CHAR_INDICES = dict((c, i) for i, c in enumerate(charset_list))\n",
    "\n",
    "NCHARS = len(CHARS)\n"
   ]
  },
  {
   "cell_type": "code",
   "execution_count": 55,
   "metadata": {},
   "outputs": [
    {
     "data": {
      "text/plain": [
       "35"
      ]
     },
     "execution_count": 55,
     "metadata": {},
     "output_type": "execute_result"
    }
   ],
   "source": [
    "NCHARS"
   ]
  },
  {
   "cell_type": "code",
   "execution_count": 56,
   "metadata": {},
   "outputs": [],
   "source": [
    "NCHARS = len(charset_list)"
   ]
  },
  {
   "cell_type": "code",
   "execution_count": 57,
   "metadata": {},
   "outputs": [],
   "source": [
    "X188 = mu.smiles_to_hot(smiles_list_trans, MAX_LEN, params['PADDING'], CHAR_INDICES, NCHARS)"
   ]
  },
  {
   "cell_type": "code",
   "execution_count": 58,
   "metadata": {},
   "outputs": [],
   "source": [
    "np.save(\"/nfs/turbo/umms-welchjd/hengshi/perturb_gan/data/smiles/onehot/PubChem10M/OnehotData_188.npy\", X188)"
   ]
  },
  {
   "cell_type": "code",
   "execution_count": 59,
   "metadata": {},
   "outputs": [
    {
     "data": {
      "text/plain": [
       "(9999999, 140, 63)"
      ]
     },
     "execution_count": 59,
     "metadata": {},
     "output_type": "execute_result"
    }
   ],
   "source": [
    "len(smile_less_120_list), MAX_LEN,NCHARS"
   ]
  },
  {
   "cell_type": "code",
   "execution_count": 61,
   "metadata": {},
   "outputs": [
    {
     "data": {
      "text/plain": [
       "2499999.75"
      ]
     },
     "execution_count": 61,
     "metadata": {},
     "output_type": "execute_result"
    }
   ],
   "source": [
    "len(smile_less_120_list)/4"
   ]
  },
  {
   "cell_type": "code",
   "execution_count": null,
   "metadata": {},
   "outputs": [],
   "source": [
    "# cannot run: memory\n",
    "OH = np.zeros((len(smile_less_120_list),MAX_LEN,NCHARS))\n",
    "for i in range(0, len(smile_less_120_list), 10000):\n",
    "    print('Processing: i=[' + str(i) + ':' + str(i+10000) + ']')\n",
    "    onehot = mu.smiles_to_hot(smile_less_120_list[i:(i+10000)], MAX_LEN, params['PADDING'], CHAR_INDICES, NCHARS)\n",
    "    OH[i:i+10000,:,:] = onehot"
   ]
  },
  {
   "cell_type": "code",
   "execution_count": 64,
   "metadata": {},
   "outputs": [
    {
     "data": {
      "text/plain": [
       "63"
      ]
     },
     "execution_count": 64,
     "metadata": {},
     "output_type": "execute_result"
    }
   ],
   "source": [
    "len( CHAR_INDICES)"
   ]
  },
  {
   "cell_type": "code",
   "execution_count": 4,
   "metadata": {},
   "outputs": [],
   "source": [
    "import h5py"
   ]
  },
  {
   "cell_type": "code",
   "execution_count": 68,
   "metadata": {},
   "outputs": [
    {
     "name": "stdout",
     "output_type": "stream",
     "text": [
      "Processing: i=[0:100000]\n",
      "Processing: i=[100000:200000]\n",
      "Processing: i=[200000:300000]\n",
      "Processing: i=[300000:400000]\n",
      "Processing: i=[400000:500000]\n",
      "Processing: i=[500000:600000]\n",
      "Processing: i=[600000:700000]\n",
      "Processing: i=[700000:800000]\n",
      "Processing: i=[800000:900000]\n",
      "Processing: i=[900000:1000000]\n",
      "Processing: i=[1000000:1100000]\n",
      "Processing: i=[1100000:1200000]\n",
      "Processing: i=[1200000:1300000]\n",
      "Processing: i=[1300000:1400000]\n",
      "Processing: i=[1400000:1500000]\n",
      "Processing: i=[1500000:1600000]\n",
      "Processing: i=[1600000:1700000]\n",
      "Processing: i=[1700000:1800000]\n",
      "Processing: i=[1800000:1900000]\n",
      "Processing: i=[1900000:2000000]\n"
     ]
    }
   ],
   "source": [
    "nport = 2000000 \n",
    "n = 100000\n",
    "OH1 = np.zeros((nport,MAX_LEN,NCHARS))\n",
    "for i in range(0, nport, n):\n",
    "    print('Processing: i=[' + str(i) + ':' + str(i+n) + ']')\n",
    "    onehot = mu.smiles_to_hot(smile_less_120_list[i:(i+n)], MAX_LEN, params['PADDING'], CHAR_INDICES, NCHARS)\n",
    "    OH1[i:i+n,:,:] = onehot"
   ]
  },
  {
   "cell_type": "code",
   "execution_count": 71,
   "metadata": {},
   "outputs": [
    {
     "ename": "TypeError",
     "evalue": "No conversion path for dtype: dtype('<U140')",
     "output_type": "error",
     "traceback": [
      "\u001b[0;31m---------------------------------------------------------------------------\u001b[0m",
      "\u001b[0;31mTypeError\u001b[0m                                 Traceback (most recent call last)",
      "\u001b[0;32m<ipython-input-71-19e8b28396f1>\u001b[0m in \u001b[0;36m<module>\u001b[0;34m\u001b[0m\n\u001b[1;32m      1\u001b[0m \u001b[0mh5f\u001b[0m \u001b[0;34m=\u001b[0m \u001b[0mh5py\u001b[0m\u001b[0;34m.\u001b[0m\u001b[0mFile\u001b[0m\u001b[0;34m(\u001b[0m\u001b[0;34m'/nfs/turbo/umms-welchjd/hengshi/perturb_gan/data/smiles/onehot/PubChem10M/OnehotData_1.h5'\u001b[0m\u001b[0;34m,\u001b[0m\u001b[0;34m'w'\u001b[0m\u001b[0;34m)\u001b[0m\u001b[0;34m\u001b[0m\u001b[0;34m\u001b[0m\u001b[0m\n\u001b[1;32m      2\u001b[0m \u001b[0mh5f\u001b[0m\u001b[0;34m.\u001b[0m\u001b[0mcreate_dataset\u001b[0m\u001b[0;34m(\u001b[0m\u001b[0;34m'data'\u001b[0m\u001b[0;34m,\u001b[0m \u001b[0mdata\u001b[0m \u001b[0;34m=\u001b[0m \u001b[0mOH1\u001b[0m\u001b[0;34m)\u001b[0m\u001b[0;34m\u001b[0m\u001b[0;34m\u001b[0m\u001b[0m\n\u001b[0;32m----> 3\u001b[0;31m \u001b[0mh5f\u001b[0m\u001b[0;34m.\u001b[0m\u001b[0mcreate_dataset\u001b[0m\u001b[0;34m(\u001b[0m\u001b[0;34m'smiles'\u001b[0m\u001b[0;34m,\u001b[0m \u001b[0mdata\u001b[0m \u001b[0;34m=\u001b[0m \u001b[0msmile_less_120_list\u001b[0m\u001b[0;34m[\u001b[0m\u001b[0mi\u001b[0m\u001b[0;34m:\u001b[0m\u001b[0;34m(\u001b[0m\u001b[0mi\u001b[0m\u001b[0;34m+\u001b[0m\u001b[0mn\u001b[0m\u001b[0;34m)\u001b[0m\u001b[0;34m]\u001b[0m\u001b[0;34m)\u001b[0m\u001b[0;34m\u001b[0m\u001b[0;34m\u001b[0m\u001b[0m\n\u001b[0m\u001b[1;32m      4\u001b[0m \u001b[0mh5f\u001b[0m\u001b[0;34m.\u001b[0m\u001b[0mclose\u001b[0m\u001b[0;34m(\u001b[0m\u001b[0;34m)\u001b[0m\u001b[0;34m\u001b[0m\u001b[0;34m\u001b[0m\u001b[0m\n",
      "\u001b[0;32m~/.local/lib/python3.6/site-packages/h5py/_hl/group.py\u001b[0m in \u001b[0;36mcreate_dataset\u001b[0;34m(self, name, shape, dtype, data, **kwds)\u001b[0m\n\u001b[1;32m    134\u001b[0m \u001b[0;34m\u001b[0m\u001b[0m\n\u001b[1;32m    135\u001b[0m         \u001b[0;32mwith\u001b[0m \u001b[0mphil\u001b[0m\u001b[0;34m:\u001b[0m\u001b[0;34m\u001b[0m\u001b[0;34m\u001b[0m\u001b[0m\n\u001b[0;32m--> 136\u001b[0;31m             \u001b[0mdsid\u001b[0m \u001b[0;34m=\u001b[0m \u001b[0mdataset\u001b[0m\u001b[0;34m.\u001b[0m\u001b[0mmake_new_dset\u001b[0m\u001b[0;34m(\u001b[0m\u001b[0mself\u001b[0m\u001b[0;34m,\u001b[0m \u001b[0mshape\u001b[0m\u001b[0;34m,\u001b[0m \u001b[0mdtype\u001b[0m\u001b[0;34m,\u001b[0m \u001b[0mdata\u001b[0m\u001b[0;34m,\u001b[0m \u001b[0;34m**\u001b[0m\u001b[0mkwds\u001b[0m\u001b[0;34m)\u001b[0m\u001b[0;34m\u001b[0m\u001b[0;34m\u001b[0m\u001b[0m\n\u001b[0m\u001b[1;32m    137\u001b[0m             \u001b[0mdset\u001b[0m \u001b[0;34m=\u001b[0m \u001b[0mdataset\u001b[0m\u001b[0;34m.\u001b[0m\u001b[0mDataset\u001b[0m\u001b[0;34m(\u001b[0m\u001b[0mdsid\u001b[0m\u001b[0;34m)\u001b[0m\u001b[0;34m\u001b[0m\u001b[0;34m\u001b[0m\u001b[0m\n\u001b[1;32m    138\u001b[0m             \u001b[0;32mif\u001b[0m \u001b[0mname\u001b[0m \u001b[0;32mis\u001b[0m \u001b[0;32mnot\u001b[0m \u001b[0;32mNone\u001b[0m\u001b[0;34m:\u001b[0m\u001b[0;34m\u001b[0m\u001b[0;34m\u001b[0m\u001b[0m\n",
      "\u001b[0;32m~/.local/lib/python3.6/site-packages/h5py/_hl/dataset.py\u001b[0m in \u001b[0;36mmake_new_dset\u001b[0;34m(parent, shape, dtype, data, chunks, compression, shuffle, fletcher32, maxshape, compression_opts, fillvalue, scaleoffset, track_times, external, track_order, dcpl)\u001b[0m\n\u001b[1;32m    116\u001b[0m         \u001b[0;32melse\u001b[0m\u001b[0;34m:\u001b[0m\u001b[0;34m\u001b[0m\u001b[0;34m\u001b[0m\u001b[0m\n\u001b[1;32m    117\u001b[0m             \u001b[0mdtype\u001b[0m \u001b[0;34m=\u001b[0m \u001b[0mnumpy\u001b[0m\u001b[0;34m.\u001b[0m\u001b[0mdtype\u001b[0m\u001b[0;34m(\u001b[0m\u001b[0mdtype\u001b[0m\u001b[0;34m)\u001b[0m\u001b[0;34m\u001b[0m\u001b[0;34m\u001b[0m\u001b[0m\n\u001b[0;32m--> 118\u001b[0;31m         \u001b[0mtid\u001b[0m \u001b[0;34m=\u001b[0m \u001b[0mh5t\u001b[0m\u001b[0;34m.\u001b[0m\u001b[0mpy_create\u001b[0m\u001b[0;34m(\u001b[0m\u001b[0mdtype\u001b[0m\u001b[0;34m,\u001b[0m \u001b[0mlogical\u001b[0m\u001b[0;34m=\u001b[0m\u001b[0;36m1\u001b[0m\u001b[0;34m)\u001b[0m\u001b[0;34m\u001b[0m\u001b[0;34m\u001b[0m\u001b[0m\n\u001b[0m\u001b[1;32m    119\u001b[0m \u001b[0;34m\u001b[0m\u001b[0m\n\u001b[1;32m    120\u001b[0m     \u001b[0;31m# Legacy\u001b[0m\u001b[0;34m\u001b[0m\u001b[0;34m\u001b[0m\u001b[0;34m\u001b[0m\u001b[0m\n",
      "\u001b[0;32mh5py/h5t.pyx\u001b[0m in \u001b[0;36mh5py.h5t.py_create\u001b[0;34m()\u001b[0m\n",
      "\u001b[0;32mh5py/h5t.pyx\u001b[0m in \u001b[0;36mh5py.h5t.py_create\u001b[0;34m()\u001b[0m\n",
      "\u001b[0;32mh5py/h5t.pyx\u001b[0m in \u001b[0;36mh5py.h5t.py_create\u001b[0;34m()\u001b[0m\n",
      "\u001b[0;31mTypeError\u001b[0m: No conversion path for dtype: dtype('<U140')"
     ]
    }
   ],
   "source": [
    "h5f = h5py.File('/nfs/turbo/umms-welchjd/hengshi/perturb_gan/data/smiles/onehot/PubChem10M/OnehotData_1.h5','w')\n",
    "h5f.create_dataset('data', data = OH1)\n",
    "h5f.close()"
   ]
  },
  {
   "cell_type": "code",
   "execution_count": 93,
   "metadata": {},
   "outputs": [],
   "source": [
    "h5f = h5py.File('/nfs/turbo/umms-welchjd/hengshi/perturb_gan/data/smiles/onehot/PubChem10M/OnehotData_1.h5', 'r')\n"
   ]
  },
  {
   "cell_type": "code",
   "execution_count": 87,
   "metadata": {},
   "outputs": [],
   "source": [
    "np.save('/nfs/turbo/umms-welchjd/hengshi/perturb_gan/data/smiles/onehot/PubChem10M/PubChem_Canonized.npy', \n",
    "        np.array(smile_less_120_list))"
   ]
  },
  {
   "cell_type": "code",
   "execution_count": 85,
   "metadata": {},
   "outputs": [],
   "source": [
    "import json\n",
    "with open('/nfs/turbo/umms-welchjd/hengshi/perturb_gan/data/smiles/onehot/PubChem10M/CHAR_INDICES.json', 'w') as fp:\n",
    "    json.dump(CHAR_INDICES, fp)   "
   ]
  },
  {
   "cell_type": "code",
   "execution_count": 63,
   "metadata": {},
   "outputs": [],
   "source": [
    "smile_less_120_list = np.load('/nfs/turbo/umms-welchjd/hengshi/perturb_gan/data/smiles/onehot/PubChem10M/PubChem_Canonized.npy')"
   ]
  },
  {
   "cell_type": "code",
   "execution_count": 64,
   "metadata": {},
   "outputs": [
    {
     "data": {
      "text/plain": [
       "(9999999,)"
      ]
     },
     "execution_count": 64,
     "metadata": {},
     "output_type": "execute_result"
    }
   ],
   "source": [
    "smile_less_120_list.shape"
   ]
  },
  {
   "cell_type": "code",
   "execution_count": 6,
   "metadata": {},
   "outputs": [],
   "source": [
    "import json\n",
    "with open('/nfs/turbo/umms-welchjd/hengshi/perturb_gan/data/smiles/onehot/PubChem10M/CHAR_INDICES.json', 'r') as fp:\n",
    "    CHAR_INDICES = json.load(fp)"
   ]
  },
  {
   "cell_type": "code",
   "execution_count": 22,
   "metadata": {},
   "outputs": [
    {
     "name": "stdout",
     "output_type": "stream",
     "text": [
      "Processing: i=[2000000:2100000]\n",
      "Processing: i=[2100000:2200000]\n",
      "Processing: i=[2200000:2300000]\n",
      "Processing: i=[2300000:2400000]\n",
      "Processing: i=[2400000:2500000]\n",
      "Processing: i=[2500000:2600000]\n",
      "Processing: i=[2600000:2700000]\n",
      "Processing: i=[2700000:2800000]\n",
      "Processing: i=[2800000:2900000]\n",
      "Processing: i=[2900000:3000000]\n",
      "Processing: i=[3000000:3100000]\n",
      "Processing: i=[3100000:3200000]\n",
      "Processing: i=[3200000:3300000]\n",
      "Processing: i=[3300000:3400000]\n",
      "Processing: i=[3400000:3500000]\n",
      "Processing: i=[3500000:3600000]\n",
      "Processing: i=[3600000:3700000]\n",
      "Processing: i=[3700000:3800000]\n",
      "Processing: i=[3800000:3900000]\n",
      "Processing: i=[3900000:4000000]\n"
     ]
    }
   ],
   "source": [
    "nport = 2000000 \n",
    "n = 100000\n",
    "MAX_LEN = 140\n",
    "NCHARS = len(CHAR_INDICES)\n",
    "OH1 = np.zeros((nport,MAX_LEN,NCHARS))\n",
    "for i in range(0, nport, n):\n",
    "    print('Processing: i=[' + str(i + nport) + ':' + str(i+ nport+n) + ']')\n",
    "    onehot = mu.smiles_to_hot(smile_less_120_list[(i + nport):(i+nport + n)], MAX_LEN, 'right', CHAR_INDICES, NCHARS)\n",
    "    OH1[i:(i+n),:,:] = onehot"
   ]
  },
  {
   "cell_type": "code",
   "execution_count": 7,
   "metadata": {},
   "outputs": [],
   "source": [
    "import h5py"
   ]
  },
  {
   "cell_type": "code",
   "execution_count": 25,
   "metadata": {},
   "outputs": [],
   "source": [
    "h5f = h5py.File('/nfs/turbo/umms-welchjd/hengshi/perturb_gan/data/smiles/onehot/PubChem10M/OnehotData_2.h5','w')\n",
    "h5f.create_dataset('data', data = OH1)\n",
    "h5f.close()"
   ]
  },
  {
   "cell_type": "code",
   "execution_count": 7,
   "metadata": {},
   "outputs": [
    {
     "name": "stdout",
     "output_type": "stream",
     "text": [
      "Processing: i=[4000000:4100000]\n",
      "Processing: i=[4100000:4200000]\n",
      "Processing: i=[4200000:4300000]\n",
      "Processing: i=[4300000:4400000]\n",
      "Processing: i=[4400000:4500000]\n",
      "Processing: i=[4500000:4600000]\n",
      "Processing: i=[4600000:4700000]\n",
      "Processing: i=[4700000:4800000]\n",
      "Processing: i=[4800000:4900000]\n",
      "Processing: i=[4900000:5000000]\n",
      "Processing: i=[5000000:5100000]\n",
      "Processing: i=[5100000:5200000]\n",
      "Processing: i=[5200000:5300000]\n",
      "Processing: i=[5300000:5400000]\n",
      "Processing: i=[5400000:5500000]\n",
      "Processing: i=[5500000:5600000]\n",
      "Processing: i=[5600000:5700000]\n",
      "Processing: i=[5700000:5800000]\n",
      "Processing: i=[5800000:5900000]\n",
      "Processing: i=[5900000:6000000]\n"
     ]
    }
   ],
   "source": [
    "nport = 2000000 \n",
    "n = 100000\n",
    "MAX_LEN = 140\n",
    "NCHARS = len(CHAR_INDICES)\n",
    "OH1 = np.zeros((nport,MAX_LEN,NCHARS))\n",
    "for i in range(0, nport, n):\n",
    "    print('Processing: i=[' + str(i + nport * 2) + ':' + str(i+ nport * 2+n) + ']')\n",
    "    onehot = mu.smiles_to_hot(smile_less_120_list[(i + nport * 2):(i+nport * 2 + n)], MAX_LEN, 'right', CHAR_INDICES, NCHARS)\n",
    "    OH1[i:(i+n),:,:] = onehot"
   ]
  },
  {
   "cell_type": "code",
   "execution_count": 8,
   "metadata": {},
   "outputs": [],
   "source": [
    "h5f = h5py.File('/nfs/turbo/umms-welchjd/hengshi/perturb_gan/data/smiles/onehot/PubChem10M/OnehotData_3.h5','w')\n",
    "h5f.create_dataset('data', data = OH1)\n",
    "h5f.close()"
   ]
  },
  {
   "cell_type": "code",
   "execution_count": 6,
   "metadata": {},
   "outputs": [
    {
     "name": "stdout",
     "output_type": "stream",
     "text": [
      "Processing: i=[6000000:6100000]\n",
      "Processing: i=[6100000:6200000]\n",
      "Processing: i=[6200000:6300000]\n",
      "Processing: i=[6300000:6400000]\n",
      "Processing: i=[6400000:6500000]\n",
      "Processing: i=[6500000:6600000]\n",
      "Processing: i=[6600000:6700000]\n",
      "Processing: i=[6700000:6800000]\n",
      "Processing: i=[6800000:6900000]\n",
      "Processing: i=[6900000:7000000]\n",
      "Processing: i=[7000000:7100000]\n",
      "Processing: i=[7100000:7200000]\n",
      "Processing: i=[7200000:7300000]\n",
      "Processing: i=[7300000:7400000]\n",
      "Processing: i=[7400000:7500000]\n",
      "Processing: i=[7500000:7600000]\n",
      "Processing: i=[7600000:7700000]\n",
      "Processing: i=[7700000:7800000]\n",
      "Processing: i=[7800000:7900000]\n",
      "Processing: i=[7900000:8000000]\n"
     ]
    }
   ],
   "source": [
    "nport = 2000000 \n",
    "n = 100000\n",
    "MAX_LEN = 140\n",
    "NCHARS = len(CHAR_INDICES)\n",
    "OH1 = np.zeros((nport,MAX_LEN,NCHARS))\n",
    "for i in range(0, nport, n):\n",
    "    print('Processing: i=[' + str(i + nport * 3) + ':' + str(i+ nport * 3+n) + ']')\n",
    "    onehot = mu.smiles_to_hot(smile_less_120_list[(i + nport * 3):(i+nport * 3 + n)], MAX_LEN, 'right', CHAR_INDICES, NCHARS)\n",
    "    OH1[i:(i+n),:,:] = onehot"
   ]
  },
  {
   "cell_type": "code",
   "execution_count": 7,
   "metadata": {},
   "outputs": [],
   "source": [
    "h5f = h5py.File('/nfs/turbo/umms-welchjd/hengshi/perturb_gan/data/smiles/onehot/PubChem10M/OnehotData_4.h5','w')\n",
    "h5f.create_dataset('data', data = OH1)\n",
    "h5f.close()"
   ]
  },
  {
   "cell_type": "code",
   "execution_count": 9,
   "metadata": {},
   "outputs": [],
   "source": [
    "n_last = len(smile_less_120_list) - nport * 4"
   ]
  },
  {
   "cell_type": "code",
   "execution_count": 10,
   "metadata": {},
   "outputs": [
    {
     "name": "stdout",
     "output_type": "stream",
     "text": [
      "0\n",
      "5\n",
      "10\n",
      "15\n"
     ]
    }
   ],
   "source": [
    "for i in range(0, 18, 5):\n",
    "    print(i)"
   ]
  },
  {
   "cell_type": "code",
   "execution_count": 11,
   "metadata": {},
   "outputs": [
    {
     "data": {
      "text/plain": [
       "20"
      ]
     },
     "execution_count": 11,
     "metadata": {},
     "output_type": "execute_result"
    }
   ],
   "source": [
    "15 + 5"
   ]
  },
  {
   "cell_type": "code",
   "execution_count": 12,
   "metadata": {},
   "outputs": [
    {
     "name": "stdout",
     "output_type": "stream",
     "text": [
      "Processing: i=[8000000:8100000]\n",
      "Processing: i=[8100000:8200000]\n",
      "Processing: i=[8200000:8300000]\n",
      "Processing: i=[8300000:8400000]\n",
      "Processing: i=[8400000:8500000]\n",
      "Processing: i=[8500000:8600000]\n",
      "Processing: i=[8600000:8700000]\n",
      "Processing: i=[8700000:8800000]\n",
      "Processing: i=[8800000:8900000]\n",
      "Processing: i=[8900000:9000000]\n",
      "Processing: i=[9000000:9100000]\n",
      "Processing: i=[9100000:9200000]\n",
      "Processing: i=[9200000:9300000]\n",
      "Processing: i=[9300000:9400000]\n",
      "Processing: i=[9400000:9500000]\n",
      "Processing: i=[9500000:9600000]\n",
      "Processing: i=[9600000:9700000]\n",
      "Processing: i=[9700000:9800000]\n",
      "Processing: i=[9800000:9900000]\n",
      "Processing: i=[9900000:9999999]\n"
     ]
    }
   ],
   "source": [
    "nport = 2000000 \n",
    "n = 100000\n",
    "MAX_LEN = 140\n",
    "NCHARS = len(CHAR_INDICES)\n",
    "OH1 = np.zeros((n_last, MAX_LEN, NCHARS))\n",
    "for i in range(0, n_last, n):\n",
    "    n_use = min(len(smile_less_120_list), i + nport * 4 + n)\n",
    "    print('Processing: i=[' + str(i + nport * 4) + ':' + str(n_use) + ']')\n",
    "    onehot = mu.smiles_to_hot(smile_less_120_list[(i + nport * 4):(n_use)], MAX_LEN, 'right', CHAR_INDICES, NCHARS)\n",
    "    OH1[i:(n_use - nport * 4),:,:] = onehot"
   ]
  },
  {
   "cell_type": "code",
   "execution_count": 13,
   "metadata": {},
   "outputs": [],
   "source": [
    "h5f = h5py.File('/nfs/turbo/umms-welchjd/hengshi/perturb_gan/data/smiles/onehot/PubChem10M/OnehotData_5.h5','w')\n",
    "h5f.create_dataset('data', data = OH1)\n",
    "h5f.close()"
   ]
  },
  {
   "cell_type": "code",
   "execution_count": null,
   "metadata": {},
   "outputs": [],
   "source": []
  },
  {
   "cell_type": "code",
   "execution_count": 78,
   "metadata": {},
   "outputs": [
    {
     "data": {
      "text/plain": [
       "(140, 'right')"
      ]
     },
     "execution_count": 78,
     "metadata": {},
     "output_type": "execute_result"
    }
   ],
   "source": [
    "\n",
    "MAX_LEN, params['PADDING']"
   ]
  },
  {
   "cell_type": "code",
   "execution_count": 74,
   "metadata": {},
   "outputs": [],
   "source": [
    "a = np.array(smile_less_120_list[i:(i+n)])"
   ]
  },
  {
   "cell_type": "code",
   "execution_count": 76,
   "metadata": {},
   "outputs": [
    {
     "data": {
      "text/plain": [
       "array(['COc1ccc(-c2cc(SC(C(=O)[O-])c3ccccc3)nc(-c3cccs3)c2)cc1',\n",
       "       'Cc1cccc(NC(=O)Nc2cnn(-c3cccc(C(=O)NC4CCC(O)CC4)c3)c2)c1',\n",
       "       'C[NH+]1CCC2(CC1)CC2CCOc1cc2ncnc(Nc3ccc(F)c(Cl)c3)c2cc1[N+](=O)[O-]',\n",
       "       ..., 'COc1c(-c2cc(Cl)cs2)cccc1C1(C)OC(=O)C(O)=C1[O-]',\n",
       "       'COc1cc(OC)cc(N(CC[NH2+]C(C)C)c2ccc3ncc(-c4cnn(C)c4)nc3n2)c1',\n",
       "       'C=CCCC(=O)NCc1cccc(OCC(=O)[O-])c1'], dtype='<U140')"
      ]
     },
     "execution_count": 76,
     "metadata": {},
     "output_type": "execute_result"
    }
   ],
   "source": [
    "a"
   ]
  },
  {
   "cell_type": "code",
   "execution_count": 62,
   "metadata": {},
   "outputs": [
    {
     "ename": "TypeError",
     "evalue": "must be str, not int",
     "output_type": "error",
     "traceback": [
      "\u001b[0;31m---------------------------------------------------------------------------\u001b[0m",
      "\u001b[0;31mTypeError\u001b[0m                                 Traceback (most recent call last)",
      "\u001b[0;32m<ipython-input-62-4c36415934cc>\u001b[0m in \u001b[0;36m<module>\u001b[0;34m\u001b[0m\n\u001b[0;32m----> 1\u001b[0;31m \u001b[0msmile_less_120_list\u001b[0m\u001b[0;34m[\u001b[0m\u001b[0mi\u001b[0m\u001b[0;34m:\u001b[0m\u001b[0;34m(\u001b[0m\u001b[0mi\u001b[0m\u001b[0;34m+\u001b[0m\u001b[0;36m10000\u001b[0m\u001b[0;34m)\u001b[0m\u001b[0;34m]\u001b[0m\u001b[0;34m\u001b[0m\u001b[0;34m\u001b[0m\u001b[0m\n\u001b[0m",
      "\u001b[0;31mTypeError\u001b[0m: must be str, not int"
     ]
    }
   ],
   "source": [
    "smile_less_120_list[i:(i+10000)]"
   ]
  },
  {
   "cell_type": "code",
   "execution_count": 122,
   "metadata": {},
   "outputs": [
    {
     "ename": "MemoryError",
     "evalue": "Unable to allocate 329. GiB for an array with shape (9999999, 140, 63) and data type float32",
     "output_type": "error",
     "traceback": [
      "\u001b[0;31m---------------------------------------------------------------------------\u001b[0m",
      "\u001b[0;31mMemoryError\u001b[0m                               Traceback (most recent call last)",
      "\u001b[0;32m<ipython-input-122-a119d3404e86>\u001b[0m in \u001b[0;36m<module>\u001b[0;34m\u001b[0m\n\u001b[0;32m----> 1\u001b[0;31m \u001b[0mX\u001b[0m \u001b[0;34m=\u001b[0m \u001b[0mmu\u001b[0m\u001b[0;34m.\u001b[0m\u001b[0msmiles_to_hot\u001b[0m\u001b[0;34m(\u001b[0m\u001b[0msmile_less_120_list\u001b[0m\u001b[0;34m,\u001b[0m \u001b[0mMAX_LEN\u001b[0m\u001b[0;34m,\u001b[0m \u001b[0mparams\u001b[0m\u001b[0;34m[\u001b[0m\u001b[0;34m'PADDING'\u001b[0m\u001b[0;34m]\u001b[0m\u001b[0;34m,\u001b[0m \u001b[0mCHAR_INDICES\u001b[0m\u001b[0;34m,\u001b[0m \u001b[0mNCHARS\u001b[0m\u001b[0;34m)\u001b[0m\u001b[0;34m\u001b[0m\u001b[0;34m\u001b[0m\u001b[0m\n\u001b[0m",
      "\u001b[0;32m/gpfs/accounts/welchjd_root/welchjd/hengshi/GAN/perturb_gan/chemical_vae-master_newTrain/chemvae_newTrain_train/mol_utils.py\u001b[0m in \u001b[0;36msmiles_to_hot\u001b[0;34m(smiles, max_len, padding, char_indices, nchars)\u001b[0m\n\u001b[1;32m     63\u001b[0m               for i in smiles if pad_smile(i, max_len, padding)]\n\u001b[1;32m     64\u001b[0m \u001b[0;34m\u001b[0m\u001b[0m\n\u001b[0;32m---> 65\u001b[0;31m     \u001b[0mX\u001b[0m \u001b[0;34m=\u001b[0m \u001b[0mnp\u001b[0m\u001b[0;34m.\u001b[0m\u001b[0mzeros\u001b[0m\u001b[0;34m(\u001b[0m\u001b[0;34m(\u001b[0m\u001b[0mlen\u001b[0m\u001b[0;34m(\u001b[0m\u001b[0msmiles\u001b[0m\u001b[0;34m)\u001b[0m\u001b[0;34m,\u001b[0m \u001b[0mmax_len\u001b[0m\u001b[0;34m,\u001b[0m \u001b[0mnchars\u001b[0m\u001b[0;34m)\u001b[0m\u001b[0;34m,\u001b[0m \u001b[0mdtype\u001b[0m\u001b[0;34m=\u001b[0m\u001b[0mnp\u001b[0m\u001b[0;34m.\u001b[0m\u001b[0mfloat32\u001b[0m\u001b[0;34m)\u001b[0m\u001b[0;34m\u001b[0m\u001b[0;34m\u001b[0m\u001b[0m\n\u001b[0m\u001b[1;32m     66\u001b[0m \u001b[0;34m\u001b[0m\u001b[0m\n\u001b[1;32m     67\u001b[0m     \u001b[0;32mfor\u001b[0m \u001b[0mi\u001b[0m\u001b[0;34m,\u001b[0m \u001b[0msmile\u001b[0m \u001b[0;32min\u001b[0m \u001b[0menumerate\u001b[0m\u001b[0;34m(\u001b[0m\u001b[0msmiles\u001b[0m\u001b[0;34m)\u001b[0m\u001b[0;34m:\u001b[0m\u001b[0;34m\u001b[0m\u001b[0;34m\u001b[0m\u001b[0m\n",
      "\u001b[0;31mMemoryError\u001b[0m: Unable to allocate 329. GiB for an array with shape (9999999, 140, 63) and data type float32"
     ]
    }
   ],
   "source": [
    "X = mu.smiles_to_hot(smile_less_120_list, MAX_LEN, params['PADDING'], CHAR_INDICES, NCHARS)"
   ]
  },
  {
   "cell_type": "code",
   "execution_count": 151,
   "metadata": {},
   "outputs": [
    {
     "data": {
      "text/plain": [
       "39.999996"
      ]
     },
     "execution_count": 151,
     "metadata": {},
     "output_type": "execute_result"
    }
   ],
   "source": [
    "len(smile_less_120_list)/(250 * 1000)"
   ]
  },
  {
   "cell_type": "code",
   "execution_count": 152,
   "metadata": {},
   "outputs": [
    {
     "data": {
      "text/plain": [
       "['CN(c1ccccc1)c1ccccc1C(=O)NCC1(O)CCOCC1',\n",
       " 'CC[NH+](CC)C1CCC([NH2+]C2CC2)(C(=O)[O-])C1',\n",
       " 'COCC(CNC(=O)c1ccc2c(c1)NC(=O)C2)OC',\n",
       " 'OCCn1cc(CNc2cccc3c2CCCC3)nn1',\n",
       " 'CCCCCCc1ccc(C#Cc2ccc(C#CC3=CC=C(CCC)CC3)c(C3CCCCC3)c2)c(F)c1',\n",
       " 'O=C(NCc1ccc(F)cc1)N1CC=C(c2c[nH]c3ccccc23)CC1',\n",
       " 'Nc1nc2ccc(F)c(F)c2n1Cc1ccccc1Br',\n",
       " 'COc1cccc(-c2cccc(F)c2C(=O)[O-])c1',\n",
       " 'COc1ccc(CC(=O)Nc2c(C#N)c(C)c(C)n2Cc2ccccc2)cc1',\n",
       " 'N#Cc1ccccc1NC(=O)CCSc1nnc(C[NH+]2CCCC2)n1Cc1ccccc1',\n",
       " 'CCC[NH2+]C(CCc1ccccn1)c1ccc(Cl)s1',\n",
       " 'COc1ccc2nc(NC(=O)Nc3cnccn3)sc2c1',\n",
       " 'CCC(C)N(C)C(=O)C1(c2ccc(N)cc2)CC1',\n",
       " 'CC1CCC(O)(CCc2ccsc2)C1',\n",
       " 'c1ccc(OCC[NH2+]Cc2ccoc2)cc1',\n",
       " 'COc1ccccc1N1CC[NH+](CC2C(=O)OC3CC4(C)CCCC(C)=C4CC32)CC1',\n",
       " 'CC1CCCC2(COCC[NH2+]2)C1',\n",
       " 'CNC(=O)CS(=O)(=O)C1CCN(C(=O)c2ccc([N-]S(=O)(=O)c3cccc(C)c3)cc2)CC1',\n",
       " 'Cn1ncc(-c2ccc(CN3CC[NH2+]CC3)cc2)c1N',\n",
       " 'Cn1nc(COc2cnccn2)c2c1CCN(C(=O)CCCc1ccccc1)C2',\n",
       " 'C=C(C)CN(CC)c1ccc(C(C)[NH3+])cc1Cl',\n",
       " 'Brc1cccc(-c2cc3c4c(cccc4c2)CC3)c1',\n",
       " 'Cc1cc(C)cc(C(=O)CC[NH+](C)C(C)CO)c1',\n",
       " 'C[NH2+]C(C)CNC(=O)c1cc(OC)c(OC(F)F)cc1[N+](=O)[O-]',\n",
       " 'CC1(CNC(=O)N2CCC(C)(C)S(=O)(=O)CC2)CCCc2ccccc21',\n",
       " 'COc1ccc(C)cc1Nc1ncnc(N2CCN(c3ccccn3)CC2)c1[N+](=O)[O-]',\n",
       " 'CC(C)OCCCNC(=O)C(NC(=O)c1c(F)cccc1F)C(C)C',\n",
       " 'CC1CCN(C(=O)c2cc(Cl)ncc2N)C(C)C1',\n",
       " 'CCN(CC)S(=O)(=O)c1cc(C(=O)NC2C3CC4CC(C3)CC2C4)ccc1Cl',\n",
       " 'COCC(C)C[NH2+]Cc1cccs1',\n",
       " 'COC(=O)c1ccc(Oc2cnn(-c3cc(Cl)cc(Cl)c3)c2-c2ccc3cc(OC)ccc3c2)cc1',\n",
       " 'C=CCNC(=S)Nc1nn(Cc2c(F)cccc2Cl)cc1Cl',\n",
       " 'Cc1cc(NC(=O)Nc2cc(Cl)ccc2N2CCCCC2)nn1C',\n",
       " 'Cn1cncc1C[NH2+]CC(c1ccccc1)N1CCCC1',\n",
       " 'CCOc1cc(-c2nc3ccccc3s2)ccc1OCc1c(Cl)cccc1Cl',\n",
       " 'Cn1ncnc1C[NH+](C)C1CCN(CCc2ccccc2)C1',\n",
       " 'CCCCCc1ccc(C(=O)Nc2ccccc2N)cc1',\n",
       " 'CCC1CC(C[NH+]2CCN(S(=O)(=O)N3CCOCC3)CC2)CCO1',\n",
       " 'CCCS(=O)(=O)N1CCCC(C(=O)Nc2ccc(=O)n(Cc3ccccc3Cl)c2)C1',\n",
       " 'CNc1cc(COC)nc(Cc2nc3ccccc3[nH]2)n1',\n",
       " 'COc1csc2cc(O)c([S-])cc12',\n",
       " 'CCCCCCCCN(CCCCCCCC)c1nc2c(s1)c1nc(N(CCCCCCCC)CCCCCCCC)sc1c1nc(N(CCCCCCCC)CCCCCCCC)sc21',\n",
       " 'O=C(Nc1ccc(C(F)(F)F)cc1)C(=O)N1CC[NH+](Cc2ccccc2)CC1',\n",
       " 'CSCC(C)[NH+](C)CC(=O)Nc1ccc(N)cc1Br',\n",
       " 'COCc1cccc(NC(=O)c2cccc(C(N)=O)c2)c1',\n",
       " 'Nc1ccc(NC(=O)CSc2cccc(F)c2)cc1',\n",
       " 'C=CCN(CCO)C(=O)NC(C)(C(=O)[O-])c1ccccc1',\n",
       " 'COc1ccc(-c2noc(C[NH+]3CCCC(C(=O)NC(c4ccccc4C)C(C)C)C3)n2)cc1OC',\n",
       " 'COc1cc(N)c(Cl)cc1C(=O)N1CCCCCC1',\n",
       " 'O=C(c1ccccc1OCc1ccc(F)cc1)N1CC[NH+](Cc2cccs2)CC1',\n",
       " 'CCCCCCCCCC(=O)Nc1cnc(Cl)cn1',\n",
       " 'C#CB1NB(C)NB(C#C)N1C',\n",
       " 'CCOC(=O)Cc1c(C(=O)OCC)c(C)cn1CC',\n",
       " 'CCC(C)C(NC(=O)CCCOc1ccc(C)c(C)c1)C(=O)[O-]',\n",
       " 'C=C1OCC(COCCC[NH3+])O1',\n",
       " 'O=C([O-])CCC(CC1CCCCC1)NC(=O)c1ccoc1',\n",
       " 'Cc1ccc(S(=O)(=O)N2CCCC2C(=O)N(OC(=O)N2CCC3(CC2)OCCO3)C(Cc2ccccc2)C(=O)[O-])cc1',\n",
       " 'CCCN1CCOc2ccc(C(=O)CCC[NH3+])cc21',\n",
       " 'Cc1ccc(NC(=O)c2ccc(NC(=O)CSc3nncn3C)cc2)cc1F',\n",
       " 'CCc1cc(CC)n(-c2ncc(N)cc2C)n1',\n",
       " 'CCCC(C#N)(CCC)C(=O)NCC1(C)CCCCC1',\n",
       " 'CSCc1ccc(CN(CC(F)(F)F)c2ccc(C#N)c(C(F)(F)F)c2)o1',\n",
       " 'CCOC(=O)CNC(=O)N1CCCC1Cc1noc(-c2cnccn2)n1',\n",
       " 'Nc1cccc2c1C(=O)N(C(=O)C1CC3CCC1[NH2+]3)C2=O',\n",
       " 'COc1cnc(Nc2ccn(C)n2)nc1',\n",
       " 'CCNc1ncnc(-c2ccc(F)cc2F)c1CC',\n",
       " 'Cc1cnc(C(C)C(=O)[O-])nc1C',\n",
       " 'CC1(C(=O)[O-])CCCC1Nc1ccc(F)cc1C#N',\n",
       " 'Cc1ccc(CCC2CC[NH2+]CC2)cn1',\n",
       " '[NH3+]CC1OC(n2ncc(=O)[nH]c2=O)C(O)C1O',\n",
       " 'CCC(CNc1cncc(Cl)n1)CC(=O)[O-]',\n",
       " 'CCOC(=O)c1cc(C(=O)OCC)n(C=Nc2ccc3c(c2)OCO3)c1C',\n",
       " 'O=C([O-])c1nc(N2CCCC(O)C2)ccc1Cl',\n",
       " 'CC(C#N)CNCC(=O)NC(C)C',\n",
       " 'N#Cc1ccc(OP(=O)([O-])CNS(=O)(=O)c2cc3cc(OCC[N+]45CCN(CC4)CC5)ccc3s2)cc1F',\n",
       " 'COc1ccc(C[NH+]2CCCC(C[NH2+]C(C)(C)C)C2)cc1',\n",
       " 'O=C(NCCc1ccccn1)c1cccc(CSc2ccc(-c3ccccc3)nn2)c1',\n",
       " 'C[NH+]1CCN(C(=O)c2ccc(Nc3ncc(Br)c(CC4CCCC4C(=O)NCC(F)F)n3)cc2)CC1',\n",
       " 'Cc1cccc(OC(C)(C)CC[NH3+])c1C',\n",
       " 'CCC(C)C1[NH2+]C(C2CCCC2)N(CCC(=O)OC)C1=O',\n",
       " 'CN(C(=O)N1CCC(NS(C)(=O)=O)C1)C1CCCC1',\n",
       " 'FC(F)(F)c1cc(-c2ccccc2)c2ccc3c(-c4ccccc4)cc(C(F)(F)F)nc3c2n1',\n",
       " 'Cc1cccc(CNNC(=O)C2(Cc3ccccc3CN=[N+]=[N-])N=C(c3ccc(OCCCO)cc3)OC2c2ccc(Br)cc2)c1',\n",
       " 'Nc1ccc(-n2ccnc2)c(C(=O)[O-])c1',\n",
       " 'Cc1ccc(S(=O)(=O)Nc2nc(C)c(C(=O)Nc3ccc(C(C)C)cc3)s2)cc1',\n",
       " 'O=C(NC1CC(=O)N(Cc2ccc(F)cc2)C1)C(=O)c1ccccc1',\n",
       " 'COC(=O)Cn1nnnc1SCC(=O)OC(C)C',\n",
       " 'C=CC[NH+](Cc1ccccc1CC[NH2+]C1CC1)C1CC1',\n",
       " 'CCC(CC)(NS(=O)(=O)c1cncc(F)c1)C(N)=[NH+]O',\n",
       " 'CS(=O)(=O)N(Cc1ccc(C(=O)Nc2ccccc2C(=O)N2CCCCC2)cc1)c1cccc(Cl)c1',\n",
       " 'CNC(=O)C1CCCN1C(=O)CNC(=O)C(C)Oc1ccc(F)cc1Br',\n",
       " 'Brc1ccc2[nH]c3c(c2c1)C(=NNCC1=[NH+]CCN1)CCC3',\n",
       " 'O=C(COc1c(F)c(F)cc(F)c1F)NCCc1ccc(F)cc1',\n",
       " 'CCN(C(C)C)C(C[NH3+])c1ccc(Cl)c(F)c1',\n",
       " 'C[NH+]1CCN(c2ccc(CN(C(=O)c3ccc(C(F)(F)F)cc3)c3ccc(F)cc3)cn2)CC1',\n",
       " 'CC[NH+](CC)CCOC(=O)c1ccc(C(C=C(N)C(F)(F)F)=Nc2ccccc2Cl)cc1',\n",
       " 'O=C([O-])C1CN(C(=O)NCCc2c[nH]c3ccc(F)cc23)CC1C(F)(F)F',\n",
       " 'Cc1csc(C(N)CC(F)(F)F)n1',\n",
       " 'Cc1coc(SCc2csc(C(=O)NN)n2)n1',\n",
       " 'C=CCN(C(=O)NCc1ccc(F)cc1)[NH+]1CC(=O)N2C(Cc3ccc(N)cc3)C(=O)N(Cc3cccc4ccccc34)CC21',\n",
       " 'N[N+](O)(N=O)c1ccccc1',\n",
       " 'c1ccc(-c2cccc3c2c2c4oc5c(ccc6c5c5ccccc5n6-c5ccccc5)c4ccc2n3-c2ccccc2)cc1',\n",
       " 'CCCC(=O)NS(=O)(=O)C(NC(=O)c1ccccc1OC)C1(c2cccc(F)c2)CC[NH2+]CC1',\n",
       " 'Cc1ccc(Cn2cc(-c3nn(C4CC5(CCN(C(=O)OC(C)(C)C)C5)C4)c(N)c3C#N)cn2)cc1C(F)(F)F',\n",
       " 'CCCCC(Nc1ccc(C)cc1Cl)C(=O)OC',\n",
       " 'Cc1ccc(Cc2cnc(NC(=O)c3ccc(CS(C)(=O)=O)cc3)s2)cc1',\n",
       " 'Cc1cccc(C(C)C(=O)N(C)c2ccccc2Br)c1',\n",
       " 'Cc1ccc(C)c2c1CCc1ccccc1C2',\n",
       " 'COCOc1ccccc1-c1cc(-c2ccccc2C(=O)NCCN(C(=O)[O-])C(C)(C)C)c(C#N)c(NC(=O)c2cccs2)n1',\n",
       " 'COc1ccc(N(C(C)c2cccc(C)c2)S(=O)(=O)c2ccc(OC)cc2)cc1',\n",
       " 'CC1C=CN(C)C(C(CCN2c3ccccc3Oc3ccccc32)S(=O)(=O)[O-])[NH+]1C',\n",
       " 'CC(C)OC(=O)c1ccc(NC(=O)COc2ccc(Cl)cc2C(N)=O)cc1',\n",
       " 'CC(C)CC(C[NH3+])C(=O)Nc1ccc(Cl)c(C(N)=O)c1',\n",
       " 'CCc1ccc(N2c3cccc(C(=O)[O-])c3OCC2CO)nc1',\n",
       " 'Cc1cc(Cl)c2nc(Cl)nc(N(C)C)c2c1',\n",
       " 'O=[N+]([O-])c1cnc(Cl)nc1N1CCC(CCO)C1',\n",
       " 'CCOc1cc(C=NNS(=O)(=O)c2cc(C)ccc2C)ccc1O',\n",
       " 'O=C(c1cnc2ccccc2c1)n1ccnc1',\n",
       " 'Cc1cccc(C(NC(=O)c2coc(S(=O)(=O)N(C)C)c2)C(=O)[O-])c1C',\n",
       " 'CCOC(CCOc1c(C)cc(Br)cc1[N+](=O)[O-])C(=O)[O-]',\n",
       " 'Cc1ccn(CCC(=O)N2CCC3(CC2)CC3C(=O)NCCC2=CCCCC2)n1',\n",
       " 'COCC([NH2+]C(C)Cc1ccc(C)s1)C(C)C',\n",
       " 'CCC[NH2+]C(c1cncc(F)c1)c1cccc(Cl)c1',\n",
       " 'Cc1cccc(C#N)c1SC(C)CCl',\n",
       " 'CC1OCCC12CN(C(=O)CC(C)(C)C)CCO2',\n",
       " 'Cc1ccc2cccc(Oc3nccc(N)n3)c2n1',\n",
       " 'Cc1nccn1CC(C)[NH2+]C1(c2cc(F)cc(F)c2)CC1',\n",
       " '[NH3+]C(CCc1ccccc1)c1csc(NC(=O)Nc2cccc(C(F)(F)F)c2)n1',\n",
       " 'Cn1ccnc1SCC(C#N)(NC1CC1)C1CC1',\n",
       " '[NH3+]CC1(C(=O)c2ccc(F)c(F)c2)CCCCC1',\n",
       " 'COC(=O)C1(c2ccccc2)CCN(C(=O)c2cccc(CS(=O)(=O)c3ccccc3)c2)CC1',\n",
       " 'NC(=O)c1cccc(-c2nccnc2C2CCCN(C(=O)Cc3c[nH]c4ccccc34)C2)c1',\n",
       " 'Cc1nc2ccc(-c3cc(CCC(=O)[O-])n(C)n3)cc2[nH]1',\n",
       " 'CCC(NC(=O)NC(CCCC[NH3+])CC(N)=O)NC(=O)C1CCCCC1[NH3+]',\n",
       " 'N#CC1C(c2ccc(-c3cccc(F)c3)cc2)C(CO)N1C(=O)c1cccnc1',\n",
       " 'CN(CC1CC(O)C1)c1ccc([N+](=O)[O-])c(C(F)(F)F)c1',\n",
       " 'CCCC(CCCC1CCC(O)CC1)C(=O)[O-]',\n",
       " 'CN(CC(F)F)C(=O)N1CC(n2cc(C(=O)[O-])nn2)C1',\n",
       " 'COCCNc1nccn1Cc1ccc(C(C)C)cc1',\n",
       " 'CCC(C)NC(=O)c1cccc(NC(=O)C[NH+]2CCC(C(=O)N3CCCC3C(=O)Nc3ccc(OC)c(NC(=O)c4ccccc4F)c3)CC2)c1C',\n",
       " 'CC(=O)N1CCCc2nc(C[NH3+])cnc21',\n",
       " 'O=S(Cc1ccccc1Cc1ccccc1)Cc1ccccc1Cc1ccccc1',\n",
       " 'O=C(c1ccoc1)N1CCCC(c2nc3ccc(-c4ccncc4)cn3n2)C1',\n",
       " 'Fc1cccc(Cn2ccc3cc(C=Nc4ccc(F)cc4F)ccc32)c1',\n",
       " 'O=S(=O)([O-])C(F)(F)CCCCCCCO',\n",
       " 'O=c1cc(C2CC2)[nH]c(-c2ccc(Br)cc2C(F)(F)F)n1',\n",
       " 'Cc1ccc(NC(=O)c2cccc(NC(=O)C[NH+]3CCC(C(=O)NC(C(=O)Nc4ccccc4C(C)C)C(C)C)CC3)c2C)cc1F',\n",
       " 'CC1CN(c2ccnc(N(C)C)n2)CC(CO)O1',\n",
       " 'CC(C)(C[NH2+]Cc1ccccc1)c1ccc(N)cc1',\n",
       " 'CC(C)(C)c1cccc(Oc2cc(-c3ccc(OC(F)(F)F)cc3)ccc2C=O)c1',\n",
       " 'COC(=O)CCCCC=C(COc1cccc2ccccc12)C(=O)NC1CC[NH+](C2CCCC2)CC1',\n",
       " 'CN(CCCc1ccccc1)C(C)(C)C[NH3+]',\n",
       " 'CCn1c(SCC(=O)Nc2ccc(Br)cc2Cl)nnc1C(C)Oc1ccc(OC)cc1',\n",
       " 'C=CCOCC(F)(OC(F)(F)C(F)(OC(F)(F)C(=C)F)C(F)(F)F)C(F)(F)F',\n",
       " 'CC1CC(C(=O)[O-])CN(S(=O)(=O)c2cc(F)ccc2OC(F)F)C1',\n",
       " 'CCOC(=O)CSCC(=O)Nc1sc(-c2ccccc2)c(C)c1C(=O)OCC',\n",
       " 'CCC(CC)(C([NH2+]C)c1ccc(OC)cc1C)N(C)C',\n",
       " 'CCOc1ccc(-n2c(C)cc(C(=O)COC(=O)c3c(OC)cccc3OC)c2C)cc1',\n",
       " 'COc1ccc(CC#N)c2scc(N)c12',\n",
       " 'Cc1cc(OCC(=O)NC2CCCCC2)nc2c1c(C)nn2C',\n",
       " 'Cc1ccc(CNc2ccc3c(c2)C(=O)NC3=O)cc1F',\n",
       " 'CCC(C)C(NC(=O)C(C)NC(=O)C(NC(=O)C(NC(=O)C(C)NC(=O)C(CCCC[NH3+])NC(=O)CNC(=O)C(CC(N)=O)NC(=O)C[NH3+])C(C)O)C(C)C)C(=O)NC(CC(C)C)C(=O)NC(C(=O)',\n",
       " 'CCCNC(=O)C(CC)N(Cc1ccccc1)C(=O)CN(c1ccc(Br)cc1)S(=O)(=O)c1ccccc1',\n",
       " 'O=C(CC1COCC[NH2+]1)NC1CCN(c2ccccc2)C1=O',\n",
       " 'ClB(P(c1ccccc1)c1ccccc1)P(c1ccccc1)c1ccccc1',\n",
       " 'Cc1ccc(OCCNS(=O)(=O)c2ccc([N+](=O)[O-])cc2)cc1Cl',\n",
       " 'Cc1ccc(CSc2nnc(Cc3ccccc3)n2N=Cc2ccc([O-])c([N+](=O)[O-])c2)cc1',\n",
       " 'CCCCNc1nc(-c2ccc(C)n(C)c2=O)cs1',\n",
       " 'CCOC(=O)SSCCCCSSC(=O)OCC',\n",
       " 'C[NH2+]CC1CCCN1C(=O)c1ccc(C(C)(C)C)c([N+](=O)[O-])c1',\n",
       " 'COc1ccc(CN2CC(C)c3c(Nc4ccccc4S(=O)(=O)NC4CCCCC4)nc(Nc4ccc(N5CCOCC5)cc4OC)nc32)cc1',\n",
       " 'C#CC(C#C)=C(C#C)C#CC=O',\n",
       " 'CC(C)(C)OOC(c1ccccc1)(c1ccccc1)c1ccccc1',\n",
       " 'FC(c1ccc(Cl)c(Cl)c1)C1CCC[NH2+]C1',\n",
       " 'CCCn1ncnc1C[NH+](CCOC)CCC(=O)OC',\n",
       " 'O=C(NCc1cccnc1)c1cccc(C[NH+]2CCN(c3ccccc3F)CC2)c1',\n",
       " 'CCOCCNC(=O)C1CCNc2ccccc21',\n",
       " 'CCCC(=O)Cc1ccc(OC)cc1',\n",
       " 'Cc1ccsc1-c1n[nH]c(S(N)(=O)=O)n1',\n",
       " 'N#CCc1c(OC(F)(F)F)ccnc1Br',\n",
       " 'CCOc1ccc2cc(C(=O)NC)c(=O)oc2c1',\n",
       " 'O=CC(O)C=Cc1ccccc1',\n",
       " 'CNc1ccc2c(c1)nc1cc(I)ccn12',\n",
       " 'CCCCc1nc(C)n(-c2ccc(OC(C)(C)C)cc2)c(=O)c1Cc1ccc(-c2ccccc2)c(-c2nc(=O)o[nH]2)c1',\n",
       " 'CN(C(=O)Nc1ccc(Oc2ccccc2)cc1)C1CCCCC1',\n",
       " 'O=C(Nc1ccccc1N1CCCCC1)c1cc2c(F)cccc2s1',\n",
       " 'CCS(C)(=O)=Nc1ccc(Oc2ccc(F)cc2F)c(-c2cn(C)c(=O)c3[nH]ccc23)c1',\n",
       " 'CCc1cc2c(c(Br)c1O)OC(=O)C(c1csc(C)n1)C2',\n",
       " 'CCCCNS(=O)(=O)c1ccccc1C=C(C)C(=O)[O-]',\n",
       " 'CC[NH2+]C(Cc1ccc(Cl)c(F)c1)c1cc(F)ccc1F',\n",
       " 'Cc1ccccc1N(CCCC(=O)N(Cc1c(Cl)cccc1Cl)C(C)C(=O)NC(C)C)S(C)(=O)=O',\n",
       " 'CC[NH2+]C1CCCc2nc(N(C)Cc3cc(Br)cs3)sc21',\n",
       " 'Cc1csc2nc(-c3cc(Cl)ccc3Cl)c(C=O)n12',\n",
       " 'O=C1CCN1c1cccc(CNC(=O)C2([NH+]3CCOCC3)CCC2)c1',\n",
       " 'Nc1nc(=O)c2[nH]c(SCc3nnco3)nc2[nH]1',\n",
       " 'Cc1nc(C[NH+]2CCCN(C(=O)Cc3nc(-c4ccccc4)sc3C)CC2)cs1',\n",
       " 'CCN(CC1CCC1)c1sc(C(=O)C2CC2)c(N)c1OC',\n",
       " 'CC(CN1CCCCC1)[NH2+]C(C)c1ccc(I)cc1',\n",
       " 'COc1ccccc1C(Br)c1cc2c(cc1Br)OCCO2',\n",
       " 'O=C1NC(=O)N(CCCn2ccnc2)C1c1cccc(Cl)c1',\n",
       " 'Cc1ccc(S(=O)(=O)N2CC[NH+](CC(=O)NCC3(C)CCOC3)CC2)cc1',\n",
       " 'CCCc1ccc(C(C)[NH2+]Cc2ccc(OC)nc2)cc1',\n",
       " 'COCCCNc1ncnc(NNc2ccccc2)c1N',\n",
       " 'COc1ccc(C(=O)N2CCOC(C#N)C2)cc1[N+](=O)[O-]',\n",
       " 'O=C(c1cccc(Cl)c1)N(CC1CCC[NH2+]1)C1CC1',\n",
       " 'CCC[NH2+]C(c1ccoc1)c1nccc2ccccc12',\n",
       " 'CN(CC1CC[NH+](C)CC1)C(=O)CCC1CCC([NH3+])CC1',\n",
       " 'COc1cc(Br)c(F)c([N+](=O)[O-])c1NCC[NH+]1CCOCC1',\n",
       " 'CCOC(=O)CNC(=O)c1sc(-c2ccc(F)cc2)cc1C(=O)OC',\n",
       " 'Cc1nnsc1C(=O)NCC1CCN(S(=O)(=O)N(C)C)CC1',\n",
       " 'CCCCOc1ccc(C[NH2+]Cc2cccc(Cl)c2)cc1',\n",
       " 'CCCC(C)COC(=O)c1cc(F)ccc1[N+](=O)[O-]',\n",
       " 'O=C(Nc1cccc(Cl)c1Cl)NC1CC2C(=O)NC(Cc3ccc(O)cc3)C(=O)N2C1',\n",
       " 'CNC(=O)c1cn(OC)c2ncoc12',\n",
       " 'O=C([O-])c1cc(Cl)cc(S(=O)(=O)CC(Cl)=CCl)c1F',\n",
       " 'C=C(CC1CC[NH+](CC(NC(=O)OCC)C(C)(C)C)CC1)[NH2+]Cc1cc(Cl)cc(Cl)c1',\n",
       " 'CCOC(=O)c1cc(C)nc2sc3c(-c4ccc(OC)cc4)c(C(C)=O)c(=O)[nH]c3c12',\n",
       " 'COc1cc(C(=O)NC(C)CO)ccc1Nc1ncc(C(F)(F)F)c(NCc2ccc(C)cc2N(C)S(C)(=O)=O)n1',\n",
       " 'O=C(C=CC=CC1(F)CC1c1ccc(Br)c(Br)c1)NN1CCCCC1',\n",
       " 'CC(SCc1cccc(OCCF)c1)C([NH3+])C(=O)[O-]',\n",
       " 'CC(C)NC(=O)c1ccccc1NCC(=O)NCC1(c2ccccc2)CC1',\n",
       " 'COc1cccc(CC(=O)NC(c2cccc(OC)c2)c2nccn2C)c1',\n",
       " 'CC(C)CC(NC(=O)C1CCCN1C(=O)C[NH3+])C(=O)NC(C(=O)[O-])C(C)O',\n",
       " 'CCCC(=O)C(C#N)c1cccnc1',\n",
       " 'Cc1noc(C)c1CSc1ncccc1C(=O)N1C2CCC1CC(=O)NC2',\n",
       " 'CCCCCCCCCC(=O)C1C(=O)Nc2cc(Cl)ccc21',\n",
       " 'Cc1ccc(C)c(NC(N)=[NH+]CC(C)C)c1',\n",
       " 'CCOc1cc(C=NOC(=O)CC)ccc1OC(=O)CC',\n",
       " 'Cc1ccc(F)cc1NC(=O)N1CCC(c2nc(-c3ccc4ccccc4n3)no2)CC1',\n",
       " 'CCSCCC(C[NH3+])N1CCC(C(C)C)CC1',\n",
       " 'CC(C)(C)c1ccc(OCC(=O)N2CCSCC2)cc1',\n",
       " 'CCC[NH2+]C(CCCOCC)CCC(C)C',\n",
       " 'CCCn1c(C#N)cc(N)c1Cc1cccc(Cl)c1',\n",
       " 'CCN(CC)C(=O)C1CCN(c2cc[nH+]c3cc(Br)cnc23)CC1',\n",
       " 'CCOC1CC([NH2+]C(CO)C(C)C)C12CCCCC2',\n",
       " 'CCC(NC(=O)C1CCC(=O)N1Cc1ccc2c(c1)OCO2)c1ccccc1',\n",
       " 'C[NH+](C)C(C)(C)CNS(=O)(=O)c1ccc(Br)cc1Cl',\n",
       " 'CC(CNC(=O)NCCO)[NH+]1CCN(c2ccccc2)CC1',\n",
       " 'CC(C)C[NH+](C)CC(=O)NCC(C)c1ccccc1',\n",
       " 'CCN(CC(=O)[O-])C(=O)Nc1ccc(C)cc1F',\n",
       " 'CCOC(=O)C1=C(c2ccccc2)N=c2sc(=Cc3ccc(-c4cc([N+](=O)[O-])ccc4OC)o3)c(=O)n2C1c1ccc(SC)cc1',\n",
       " 'CC(C)(CO)[NH2+]CC(=O)N1CCCC1C(=O)c1nnc(C2(C)CCCCC2)o1',\n",
       " 'COC(=O)Cc1ccccc1C(CCc1ccccc1)C(N)=O',\n",
       " 'CCNC(=O)CC(C[NH3+])N(C)CCOCC',\n",
       " 'CC(=O)c1cccc(-n2ccn(C(C)C)c2=O)c1',\n",
       " 'NNC(=O)c1coc(COC(C(F)(F)F)C(F)(F)F)c1',\n",
       " 'CC(C)(C)C(=O)NCC1(c2cccc(Cl)c2)CC1',\n",
       " 'Cc1ccc(CCNc2n[nH]c(N)n2)s1',\n",
       " 'CNc1cc(C(F)F)[nH+]c2c(Br)ccc(C)c12',\n",
       " 'COc1ccc(CO)cc1S(=O)(=O)NC1CCCC1C',\n",
       " 'Cc1cc(-c2nc(CCl)co2)cc([N+](=O)[O-])c1',\n",
       " 'Cc1cc(N(C)C(=O)OC(C)(C)C)cc(C)c1CCS(=O)(=O)N1CCC(NC(=O)CCCCCCCC(F)(F)C(F)(F)F)(C(N)=O)CC1',\n",
       " 'CC[NH2+]C(C1CC(C)CC(C)C1)C(C)(C)N1CCCC1',\n",
       " 'Cc1ccc(C)c(C(=O)OCC(=O)Nc2ccc3c(c2)C(=O)c2ccccc2C3=O)c1',\n",
       " 'COc1cc(C(=O)N(Cc2ccccn2)c2nc3c(C)cc(C)cc3s2)c([N+](=O)[O-])cc1OC',\n",
       " 'CC1c2cccnc2N(C2CC[NH2+]CC2)C(=O)CC1CC(=O)[O-]',\n",
       " 'O=C([O-])CC(OC(=O)c1cc2ccc1o2)(C(F)(F)F)C(F)(F)F',\n",
       " 'CCN1CCN(C(=O)NC2CC[NH+](C)CC2)C(C)C1=O',\n",
       " 'COc1cccc(C[NH+]2CCC(C(=O)N(CCO)Cc3ccccc3)CC2)c1OC',\n",
       " 'CCc1nc(CN(CCOC)CC2CCC[NH2+]2)no1',\n",
       " 'COc1cc(F)c(C(C)(C)C#N)c(F)c1',\n",
       " 'CCc1cc2c(CC#N)c(CO)ccc2s1',\n",
       " 'CCC(CC)C(=O)NCC(=O)Nc1ccc(OC)c(OC)c1',\n",
       " 'CCC(=O)N1CCCN(C(=O)c2cn[nH]n2)CC1',\n",
       " 'CCCNc1nc(C)cc(Sc2cccc(C)c2)n1',\n",
       " 'CCN(Cc1ccc(OC)c(OC)c1)C(=O)c1ccc(OC)c(S(=O)(=O)NC)c1',\n",
       " 'CCC#CCC(C)C(O)C#CC1C(O)CC(F)C1CC(=O)CCCCC(=O)[O-]',\n",
       " 'C#CC(OC)C(C=CC)=Nc1ccccc1C(=O)OC',\n",
       " 'Cc1c(-c2cc3cc(OCc4cncs4)ccc3o2)oc(=O)c(C)c1[O-]',\n",
       " 'CC1(c2cc(NC(=O)c3ncc(F)cc3F)ccn2)CCSC(N)=[NH+]1',\n",
       " 'O=C(CCS(=O)(=O)Cc1ccc(Cl)cc1)Nc1ccccc1F',\n",
       " 'CCOC(=O)CCNC(=O)C(c1ccccc1O)N(C(=O)C(Cc1ccc(O)cc1)NC(=O)OC(C)(C)C)C1CCC1',\n",
       " 'COc1ccc(C=CC(=O)N2CCN(c3c(C)n[nH]c3C)CC2)cc1OC',\n",
       " 'CC(C)(C)[NH2+]CC(O)Cn1ccccc1=O',\n",
       " 'COC1CCC2(CC1)Cc1ccc(-c3cnccn3)cc1C2=NC#N',\n",
       " 'CN1C(=O)N(C)C(=O)C2(C1=O)C(c1ccc(F)cc1)NC(=O)NC2c1ccc(F)cc1',\n",
       " 'Cc1ccc(C)c(OCc2cc(F)cc(B(O)O)c2)c1',\n",
       " 'CCC(=O)Cc1ccc(-c2cnc3n[nH]c(-c4nc5c(C(=O)N6CCCC6)cncc5[nH]4)c3c2)cn1',\n",
       " 'CS(=O)CC(NC(=O)[O-])c1ccccc1Cl',\n",
       " 'CCOCCCNC(NCCc1ccco1)=[NH+]CC(C)SC',\n",
       " 'Cc1ccc(S(=O)(=O)N(CC(=O)N(Cc2ccc(Cl)cc2Cl)C(C)C(=O)NC(C)C)c2ccc(Cl)cc2)cc1',\n",
       " 'Cn1ncnc1C[NH+]1CCC(C(=O)[O-])C1',\n",
       " 'NN=C1COCc2cccc(Cl)c21',\n",
       " 'CCCCCC1CCC(CCc2ncc(-c3ccc(CCCC)cc3)cn2)CC1',\n",
       " 'CCCn1c(=O)ccn(-c2cc(OC(C)C)c(Cl)cc2F)c1=O',\n",
       " 'OC(Cc1c(F)cccc1F)C1COc2ccccc2O1',\n",
       " 'Cc1cccc2c(=O)n(C)c(C(=O)[O-])nc12',\n",
       " 'COc1cccc(-c2nnc(C34CC5CCCC(NC(=O)c6cccc(C)n6)(C3)C(C5)C4)o2)c1',\n",
       " 'O=C(NCCN1C(=O)CCC1=O)N1CC[NH+](C2CCCC2)CC1',\n",
       " 'Nc1ccc(N2CCN(S(=O)(=O)c3cnc[nH]3)CC2)cc1',\n",
       " 'CONS(=O)(=O)c1ccc(CC#N)cc1',\n",
       " 'CC(=O)Nc1cc(=O)n(-c2ccccc2)nc1-c1ccccc1',\n",
       " 'C=CCNC(NCCCCC1CCCC1)=[NH+]Cc1nnc(C)n1C',\n",
       " 'O=C([O-])CCCCCCCNC(=O)c1cc(F)cc2cccnc12',\n",
       " 'COC(C)(C)CC(C)[NH2+]Cc1cccc(Br)c1',\n",
       " 'Cc1ccc(NC(=O)c2cc3cc(Cl)ccc3n2NC(=O)C(=O)NC(C)c2ccccc2)cc1C',\n",
       " 'CC(C)[NH2+]Cc1cnc(Oc2cccc(F)c2)nc1',\n",
       " 'COc1cc(OC)c2cc(C(=O)N(C)C(C(N)=O)c3cccc(F)c3)[nH]c2c1OC',\n",
       " 'O=C([O-])C1CCCC1CNS(=O)(=O)CCc1ccccn1',\n",
       " 'CC(C)C(C)CNc1ncc(Br)cc1Cl',\n",
       " 'Cc1occc1SCc1nnc(-c2ccc([N+](=O)[O-])cc2)o1',\n",
       " 'COC(=O)c1cc2c3ccccc3nc-2c(-c2ccc3cc(F)ccc3n2)[nH]1',\n",
       " 'CNC1(C#N)CCC(c2ccccc2)CC1',\n",
       " 'C[NH2+]CC1CCC1C(CCCC(C)C(C)C=O)C1OCC(N2CC(F)(F)C2)CO1',\n",
       " 'O=C([O-])CC1CN(CCCO)c2ccccc21',\n",
       " 'Cc1cc(C)nc(SCC(=O)OC(C)C(=O)Nc2ccc(Cl)cc2F)n1',\n",
       " '[NH3+]CCOCc1nc(-c2ccc(Br)cn2)no1',\n",
       " 'COC1C=CC=C(C)C(=O)NC2=C(O)C(CC(C)CC(OC)C(O)C(C)C=C(C)C1OC(N)=O)c1nc3c(nc1=C2)C=CC(Cl)C=3',\n",
       " 'CCCCC(CC)CNC(NC(C)COC)=[NH+]C',\n",
       " 'COc1ccccc1N1CC[NH+](C2CCCC2C[NH3+])CC1',\n",
       " 'C=C(C)C(=O)ONC1C(O)CCC1CCCC(C)C',\n",
       " 'Nc1nnc(C[NH+]2CCOC3CCCCC32)s1',\n",
       " 'COCC(=O)NCc1cc2n(n1)CCC[NH+](C1CCCCC1)C2',\n",
       " 'Cc1cccc(N(c2cccc(C)c2)c2c3ccc(C4CC5CCC4C5)cc3c(N(c3cccc(C)c3)c3cccc(C)c3)c3ccc(C4CC5CCC4C5)cc23)c1',\n",
       " 'CN1CC[NH+](C)C(CNc2nc3ccc(F)cn3n2)C1',\n",
       " 'COC(=O)c1ccccc1C[NH2+]C(C)C(=O)[O-]',\n",
       " 'O=C([O-])c1cccnc1N1CCC(CF)C1',\n",
       " 'COc1cc(CC#N)c(F)cc1N',\n",
       " 'O=C(ONC1CCC(n2cncn2)CC1)C(F)(F)F',\n",
       " 'Clc1ccccc1CC1CCOc2cc(-c3ccnc(Nc4ccn[nH]4)c3)cc3nnc1n23',\n",
       " 'CCOc1ccc(C(=O)Nc2ccc(Br)c(C)c2)cc1Br',\n",
       " 'CCCCC=CCCCCCCCC(=O)OC(COC(=O)CCCCC=CCC=CCC=CCCCCC)COC(=O)CCCCCCCC=CCCCCCC',\n",
       " 'C=C(C)C(=O)OCCC[Si](C)(O[Si](C)(C)O[Si](C)(C)CCCCP=O)O[Si](C)(C)O[Si](C)(C)CCCOPC',\n",
       " 'O=C(NCC(F)(F)F)C1CN(Cc2ccccc2)C(=O)N1',\n",
       " 'C=Nc1ccccc1N(CCN1CC[NH+](C(C)c2ccc(F)cc2)CC1)CSCC(=C)Nc1ccc(N)cc1Cl',\n",
       " 'CC(C)Oc1ncnc(Oc2ccccc2Cl)c1N',\n",
       " 'C=CC=C(C)OCC[NH+](C)C',\n",
       " 'COC1=C(CC2CCCC3CCCCC32)C(=O)C([O-])=CC1=O',\n",
       " 'O=C([O-])CCn1c(-c2cn[nH]c2)nc2ccccc21',\n",
       " 'CC(C)CCc1nc2c(c(NN)n1)CCCCC2',\n",
       " 'CC(C)C(NC(=O)Cc1ccc2c(c1)CCO2)c1nc(-c2ccncc2)no1',\n",
       " 'COCCCN(Cc1c(C)nn(-c2ccccc2)c1N1CC[NH+](C)CC1)C(=O)c1ccccc1Cl',\n",
       " 'CCOc1cccc(CNC(NCCC2CC[NH+](CC)CC2)=[NH+]C)c1OC(F)F',\n",
       " 'CCC(C)C1C(=O)Nc2ccc(NC3CC3)cc2-c2nc3cc(N4C(C)(C)CC([NH3+])CC4(C)C)ccc3n21',\n",
       " 'CCC(C)C(=O)Nc1cc(NC(=O)C(NC(=O)C2CC[NH+](CC(=O)Nc3cc(C(=O)NC)ccc3Cl)CC2)C(C)C)ccc1Cl',\n",
       " 'CCC(NS(=O)(=O)c1ccc(C)cc1)C12CC3CC(CC(C3)C1)C2',\n",
       " 'C[NH2+]C(CSC)c1ccc(Cl)cc1',\n",
       " 'O=C(Cc1csc(NC(=O)c2cccs2)n1)Nc1ccc(Br)cc1F',\n",
       " 'CC(C)OC(=O)NC(CC1CCCCC1)C(O)CC(=O)NC(CCC(=O)[O-])C(=O)NCCCc1ccccc1',\n",
       " 'NS(=O)(=O)c1cccc(NCc2ccc(Br)cc2Cl)c1',\n",
       " 'CCOC(=O)C1(CCCc2c(F)cnc3ccc(OC)cc23)CC[NH+](CCOc2cc(F)cc(F)c2)CC1',\n",
       " 'CCOC(=O)c1[nH]c(C)c(C(=O)C(C)N(CCCOC)S(=O)(=O)c2ccccc2)c1C',\n",
       " 'COc1cc(C#N)ccc1N1CC2(CCC2)C1',\n",
       " 'Cc1c(N)cccc1C[NH+]1CCCCCC1',\n",
       " 'CNc1nnc(-c2cc(C(C)(C)C)nc3ccccc23)s1',\n",
       " 'CN(C(=O)CC([NH3+])C1CC1)C1CCc2ccccc21',\n",
       " 'C[NH+]1CCN(c2ccccc2NC(=O)C2CCN(C(=O)c3ccc(C(F)(F)F)cc3)CC2)CC1',\n",
       " 'COc1ccc2oc(C(C)Nc3nnnn3-c3ccccc3)c(C)c2c1',\n",
       " 'CC(C)(C)c1nc2ccccc2c2nnc(SCC(=O)NCCc3ccccc3)n12',\n",
       " 'Oc1ccccc1C=Nc1nnc(SCc2c[se]c(-c3ccccc3)n2)s1',\n",
       " 'C=C1[NH2+]CCN1CC(C)C[NH+](C)C',\n",
       " 'Nc1ccc2nc(-c3cncc(F)c3)[nH]c2c1',\n",
       " 'CCC(C)(CO)NC(=O)c1cccc(C)c1F',\n",
       " 'O=C([O-])CCCC(=O)NC(Cc1ccc(-c2cccc(Cl)c2)cc1)CC(O)C(=O)[O-]',\n",
       " 'CCOC(=O)c1cccc(-n2c(CC)nc3cc(C)ccc32)c1',\n",
       " 'CC(NC(=O)N1C(=O)C2(c3cc(C#CC4(O)CCCCCC4)ccc31)C(C(=O)N1CC[NH+](Cc3ccc4c(c3)OCO4)CC1)C1C(=O)OC(c3ccccc3)C(c3ccccc3)[NH+]1C2c1cccc(OCCO)c1)c1c',\n",
       " 'COc1cccc(C2CC(=CC(=O)[O-])CC[NH+]2C)c1',\n",
       " 'CC(C)(C)[Si](C)(C)c1[nH]c2ccccc2c1Br',\n",
       " 'CCC(Oc1ccc(N(C)S(C)(=O)=O)cc1)C(=O)NCc1ccc(C[NH+]2CCCC2)cc1',\n",
       " 'CCCC[B-]1(CCCC)[N+](C2CCCCC2)=C(NC2CCCCC2)Nc2sc3ccccc3[n+]21',\n",
       " 'CCc1cc2ccc(SC)c(Br)c2s1',\n",
       " 'Cc1csc(-c2nnc(Nc3ccc(Oc4ncccc4-c4ccnc(N)n4)cc3)c3ccccc23)n1',\n",
       " 'Cc1cc(C)cc(NC(=O)c2cccc(-c3cnc(N4CCCC4)nc3)c2)c1',\n",
       " 'Nc1cc([S-])c2sccc2c1C(F)F',\n",
       " 'CCCCC1C(C=NN2CCCC2COC)=CC=CC1CC#C[Si](C)(C)C',\n",
       " 'O=C1c2ccc([N+](=O)[O-])cc2C(=O)N1CC(=O)N1CCCC1c1ccc2c(c1)OCCCO2',\n",
       " 'COCCNC(=O)c1cc(C(=O)c2ccccc2O)cn2c1nc1ccccc12',\n",
       " 'Cc1ccc2nc(SCC(=O)Nc3ccc(Cc4ccc(NC(=O)CSc5nc6ccc(C)cc6[nH]5)c(Cl)c4)cc3Cl)[nH]c2c1',\n",
       " 'CSCCCNc1nnc(C[NH2+]C(C)(C)C)o1',\n",
       " 'CC=CCCNC(=O)C=Cc1cc(Cl)c2c(c1)OCCO2',\n",
       " 'CNc1nc(C)c(-c2cc(OC)cc(OC)c2)o1',\n",
       " '[NH3+]Cc1nc2ncc(-c3cccc(Cl)c3)cc2o1',\n",
       " 'C=C(Cl)COC(=O)c1cc2cnn(C(C)C)c2nc1C',\n",
       " 'C[NH+]1CCC(c2ccccc2)C(Oc2ccc3c(c2)OCO3)C1',\n",
       " 'CCC(Oc1cccc(C)c1)C(=O)NCC(C)(O)C(=O)[O-]',\n",
       " 'Cn1cc[nH+]c1CCNC(=O)c1ccc2c(c1)CCCC2',\n",
       " 'Cc1cc(C(=O)NCC(C)C)ccc1NC(=O)C(C)NC(=O)C1CC[NH+](C(C)C(=O)Nc2ccc(Cl)c(C(=O)NC3CCCC3)c2)CC1',\n",
       " 'COc1ccc(-c2ccc(C[NH+]3CCc4[nH]c(SC)nc(=O)c4C3)s2)cc1OC',\n",
       " 'CC(c1cccs1)N(C)C(=O)C1(C[NH3+])CCCCCC1',\n",
       " 'OC1(C(F)(F)F)CC[NH+](Cc2csc(-c3ccsc3)n2)CC1',\n",
       " 'CCNc1ccnc(-c2cc(Br)c(O)c(OC)c2)n1',\n",
       " 'O=C(Cc1ccc(C2=[NH+]CCN2)cc1)NCCC1C(=O)Nc2ccccc2N1S(=O)(=O)c1ccc(Cl)c(Cl)c1',\n",
       " 'Cc1ccc(-c2c[n+]3c(n2-c2ccc(Br)cc2)CCCC3)cc1',\n",
       " 'CC(C)=C(C(=O)OCc1ccccc1)N1C(=O)C(Br)(Br)C1O[N+](=O)[O-]',\n",
       " 'O=C(C[NH2+]CCN1CCSCC1)Nc1cccc(F)c1',\n",
       " 'CCC(c1cc(C(F)(F)F)cc(C(F)(F)F)c1)N(Cc1cc(C(F)(F)F)ccc1N(CC)CC1CCCC1)c1ncc(OCCSC)cn1',\n",
       " 'C[NH+]=C(NCC[NH+]1CCCCC1)NCC1(C2CC2)CCC1',\n",
       " 'CC(C)N(c1ccc(-c2ccccc2)cc1)c1ccccc1-c1cccc2ccccc12',\n",
       " 'O=C(OCC#Cc1ccccc1)C(O)CO',\n",
       " 'C#CC[NH2+]C1(C(=O)[O-])CCCC1C',\n",
       " 'CNC(=O)c1ccn(-c2nc(N)ncc2Cl)n1',\n",
       " 'C=CCC(NN)c1cc(F)cc(Br)c1',\n",
       " 'COCCCNC(=O)c1nc2nc(-c3ccccc3)c(Cl)cc2n1C',\n",
       " 'CCCCN(CC(=O)N1CCCCC1c1nc(-c2cccc(Cl)c2)no1)C(=O)c1ccccc1',\n",
       " 'C[P+]1(C)CC(C2CCCCC2)=C(c2ccc([N+](=O)[O-])cc2)[B-]1(c1ccc([N+](=O)[O-])cc1)c1ccc([N+](=O)[O-])cc1',\n",
       " 'C=C(c1cccc(C(F)NC)c1CCC)N1C=CC(N(N)c2ncccc2F)=C([NH3+])C1C',\n",
       " 'CCC[NH2+]Cc1cccc(Cl)c1OC(CC)C(N)=O',\n",
       " 'CS(=O)(=O)N1CCCC1C(=O)NC(c1ccccc1)C1CC1',\n",
       " 'CCCCCCC=CC=CCCCCCCCC(=O)OCC(COP(=O)([O-])OCC(O)COP(=O)([O-])OCC(COC(=O)CCCCCCCCCC(C)C)OC(=O)CCCCCCCCCCCCCCCC(C)C)OC(=O)CCCCCCCCCC(C)C',\n",
       " 'CB(O)N1CC(OS(C)(=O)=O)CC1COC(=O)C(C)(C)C',\n",
       " 'Cc1[nH]ncc1C(O)C(=O)[O-]',\n",
       " 'CC12CC3CC(C1)C(CC(=O)N1CCCc4ccccc41)C(C3)C2',\n",
       " 'Cc1cccc(C(=O)Nc2cc(NC(=O)C3CC[NH+](C(C)C(=O)Nc4ccc(C(=O)N5CCCCC5)cc4C)CC3)ccc2F)c1',\n",
       " 'CCC1(CC)CCN(C(=O)c2cccnc2Br)C1',\n",
       " 'O=C(Nc1ncc(Cc2ccccc2Cl)s1)C1=CN2CCS(=O)(=O)N=C2C=C1',\n",
       " 'CCCCn1c(SCC(=O)N(C)Cc2ccccc2OC)nc2ccccc2c1=O',\n",
       " 'COc1ccc(CN(C)C(=O)C2CCC(NC(=O)C3CC3)CC2)cc1O',\n",
       " 'COc1ccccc1CC([NH3+])Cc1cccc([N+](=O)[O-])c1',\n",
       " 'CCc1ccc(C(=O)C(C)OC(=O)c2ccc(Cl)c(S(=O)(=O)N3CCCCC3)c2)cc1',\n",
       " 'COc1ccc(C(CNC(=O)C2=C(c3ccccc3)S(=O)(=O)CCO2)[NH+]2CCCC2)cc1',\n",
       " 'Cc1ccc(C([NH3+])CC[NH+]2CCCC2CO)cc1',\n",
       " 'CN(C)c1noc(C2CCC[NH+](CC3CCC[NH2+]C3)C2)n1',\n",
       " 'CSCCC(NC(=O)C(C)NC(=O)C(NC(=O)C([NH3+])Cc1cnc[nH]1)C(C)C)C(=O)[O-]',\n",
       " 'C#CCCC[NH+](CCC)CC(C)(C)C[NH3+]',\n",
       " 'CCCCCCCc1nccnc1Cl',\n",
       " 'Cc1cc(O)ccc1NCc1ccccc1Cl',\n",
       " 'Cc1nc(=O)[nH]c(C)c1CCC(=O)N1CCOCC1CC(C)C',\n",
       " 'O=C(CCc1ccncc1)c1cc(-c2ccc3[nH]c(C(=O)Cc4ccncc4)cc3c2)ccn1',\n",
       " 'C=CCN1C(=O)C(CC(=O)Nc2ccccc2)SC1=[NH+]NC(=O)c1ccccc1O',\n",
       " 'OC1CCC(C2(c3ccccc3)COC2)CC1',\n",
       " 'CC1=CC(C)C2(C)C=CC(=O)C(C)C2C1',\n",
       " 'Cc1nc(C2CCCC2C)nc(Cl)c1I',\n",
       " 'CC1CCC(CNC(=O)C(C)(C)N2CC[NH2+]CC2)C1',\n",
       " 'C[NH+]1CCN(C(=O)c2c(N)cccc2Cl)CC1(C)C',\n",
       " 'Cc1c(C[NH+]2CCC3(CC2)c2nc[nH]c2CCN3C(=O)C2CCC2)cnn1C',\n",
       " 'CC1OCCC1(C)N1CCC[NH2+]C(C)(c2ccccc2)C1',\n",
       " 'CCOC(=O)CCc1ccc(CC[NH3+])cc1',\n",
       " 'COc1ccc(CCN(C)c2cc[nH+]c(C=Cc3ccc(NC(C)=O)cc3)c2)cc1OC',\n",
       " 'CCCCC(CC)CNc1nc(N2CCN(C(=O)Nc3ccccc3)CC2)nc2c1ncn2Cc1cccc(C)c1',\n",
       " 'CCCc1cc(C(=O)NCc2ccc(F)cc2)cc(Cl)n1',\n",
       " 'CC(O)CNC(=O)C(C)Oc1cccc(Cl)c1Cl',\n",
       " 'CSCCCCCC[NH2+]C(C)c1cccc([N+](=O)[O-])c1',\n",
       " 'CSCCC(NC(=O)c1cccc(C)c1)C(=O)NCCc1cnn(-c2ccccc2)c1',\n",
       " 'COc1cccc(C=C2CCC(Oc3ccccc3)CC2=O)c1',\n",
       " 'COc1cc(C(=O)NN=Cc2cccc(OCc3cnc(Cl)s3)c2)cc(OC)c1OC',\n",
       " 'CC(=O)c1c[nH]n2c(=O)nc3ccccc3c12',\n",
       " 'C=C[N+]1(OP(=O)([O-])OP(=O)([O-])[O-])CCCC1',\n",
       " 'O=Cc1c(Cl)cccc1OCC(=O)Nc1cccc(Br)c1',\n",
       " 'CN1C(=CC=C2CCCC(C=CC3=[N+](C)c4ccc5ccccc5c4C3(C)C)=C2OC2CCN(c3cc4c(c5ccccc35)N=CC3(O4)N(C)c4ccccc4C3(C)C)CC2)C(C)(C)c2c1ccc1ccccc21',\n",
       " 'O=C(Nc1cccc(S(=O)(=O)NC2CC2)c1)C1CCCN1C(=O)c1ccco1',\n",
       " 'CNS(=O)(=O)c1cc(C(=O)Nc2ncc[nH]2)n(C)c1',\n",
       " 'CCn1ccnc1C=CC(=O)NC',\n",
       " 'Nn1c(=O)cc2nnc(C(=O)[O-])cn21',\n",
       " 'CCOC(=O)CC(NC(C)=O)C1OC(n2ncc(=O)[nH]c2=O)C(OC(C)=O)C1OC',\n",
       " 'CCCC(CO)CCOCCOC',\n",
       " 'CNS(=O)(=O)c1cccc(CNC(=O)c2ccc(CN3C(=O)CCC3=O)cc2)c1',\n",
       " 'O=C(c1cnc2ccccn2c1=O)N1CC[NH+](Cc2cccc3cccnc23)CC1',\n",
       " 'CCOC(=O)C1CCCN(C(=O)C2CCC(Nc3nccc(-c4c[nH]c5cccc(OCCCS(C)(=O)=O)c45)n3)CC2)C1',\n",
       " 'CCOCCOc1ccccc1C(=O)Nc1ccc(CC)cc1',\n",
       " 'C[NH+](CCNC(=O)CCC1CC[NH2+]CC1)Cc1ccc(F)cc1',\n",
       " '[O-][NH2+]CCCCCCCCCCCCCCCO',\n",
       " 'CCO[Si](CCC1CCC(CCSC(=O)CC)C(CCSC(=O)CC)C1)(OCC)OCC',\n",
       " 'CCC(C)n1ncc2c(C(=O)N3CCCC(COC)(C(=O)[O-])C3)cc(C)nc21',\n",
       " '[NH3+]CC1CCOCCC1c1ccccc1O',\n",
       " 'COc1cccc(Nc2ncnc(Sc3ccc(C)cc3)c2N)c1',\n",
       " 'O=C([O-])C1Cc2cc(I)c(OCc3ccc(Cl)cc3Cl)c(I)c2CN1C(=O)C=Cc1cccc(C(F)(F)F)c1',\n",
       " 'COCCNC(N)=[NH+]CCCc1cc(OC)ccc1OC',\n",
       " 'CCOC(=O)CNC(=O)C(=O)Nc1c2c(nn1-c1cccc(Cl)c1)CS(=O)(=O)C2',\n",
       " 'O=C(NC(Cc1c[nH]c2ccccc12)C(=O)[O-])c1ccc2nc(C3CCCCC3)c(-c3ccc(F)cc3)nc2c1',\n",
       " 'COc1ccc(N(C)c2cc(CCl)cc(C(C)C)n2)cc1',\n",
       " 'CC(C)(C)OC(=O)NCC(=O)Nc1ccc(CNC(=O)c2cccc(F)c2)cc1',\n",
       " 'CC[NH+](CCOC)Cc1cc(C(=O)NN)c(C)o1',\n",
       " 'CC(C)CCC(=O)C1=CN(C(=O)c2ccc(F)c(F)c2)CC2(CCC2)c2c1[nH]c1ncccc21',\n",
       " 'Cc1cccc(CSCC(=O)N(Cc2ccc(Br)cc2)C(Cc2ccccc2)C(=O)NCC(C)C)c1',\n",
       " 'CCCCN(C)c1ccc(C(=O)N(C)Cc2nc(C)c3ccccc3n2)cc1',\n",
       " 'CCC(C)c1ccc(OCCCn2c(CCCCCNC(=O)Cc3ccccc3C)nc3ccccc32)cc1',\n",
       " 'CCOCc1ccc(CNC(NCc2ccc(OC)cc2)=[NH+]C)cc1',\n",
       " 'CCOc1ccc(NC(=O)c2ccccc2OCc2ccncc2)cc1OC',\n",
       " 'O=S1(=O)C[P+]2(CS(=O)(=O)N1)CS(=O)(=O)NS(=O)(=O)C2',\n",
       " 'CC[NH2+]C1CC(Oc2ccc(C(C)(C)C)cc2C)C1',\n",
       " 'COc1ccc2nc(N)n(CCCCOC(C)C)c2c1',\n",
       " 'COc1ccc(C(=O)NC2CCCCC2C)cc1NC(=O)CNC(=O)C1CC[NH+](CC(=O)Nc2cc(C(=O)Nc3ccc(C)c(F)c3)ccc2C)CC1',\n",
       " 'Cc1c[nH+]ccc1NCCC(C)c1ccccc1',\n",
       " 'CC(CCCO)NS(=O)(=O)CCS(C)(=O)=O',\n",
       " 'O=P(Oc1cccc2cccc(O)c12)(c1ccccc1)c1ccccc1',\n",
       " 'CC(CCl)CCCNC(=O)C1Cc2ccccc21',\n",
       " 'CC(=O)N1CCN(c2ncc(C#N)cc2Br)CC1',\n",
       " 'CCc1ccc(-c2cc(NC(=O)C3CCCN(S(=O)(=O)c4cccs4)C3)on2)cc1',\n",
       " 'COc1ccc(NC(=O)CSc2ccccc2C(=O)Nc2nc(C(C)(C)C)cs2)cc1OC',\n",
       " 'CCOC(=O)C(=[NH2+])N=CC([NH3+])=CI',\n",
       " 'CCOC(=O)C(C)(C)NP(=O)(COC(C)Cn1cnc2c(N)ncnc21)NC(=O)c1ccc(C(C)(C)C)cc1',\n",
       " 'CC[NH2+]Cc1sccc1S(=O)(=O)NCC1CCCOC1',\n",
       " 'CC(NC(=O)CC1(O)CCCCC1)C1CCC[NH+](C2CCC2)C1',\n",
       " 'Cc1cc(Br)cc(NCC(=O)NC2CCOCC2)c1',\n",
       " 'CP(=O)(c1cccc(C(=O)[O-])c1)c1cccc(C(=O)[O-])c1',\n",
       " 'COc1cc(C2C3=CCC4C(=O)N(c5ccc(C(=O)c6ccccc6)cc5)C(=O)C4C3CC3=C2C(=O)C=C(Br)C3=O)cc(I)c1O',\n",
       " 'C=CC(C)(C)CC(C)(C)C1COC(CO)C(Oc2cccc(F)c2)C1Oc1cccc(F)c1',\n",
       " 'c1nc(C2CCC2)cc(N2CCN(c3cc4c(nn3)CCC4)CC2)n1',\n",
       " 'CC[Si](CC)(CC)OC(C(C)COCc1ccc(OC)cc1)C(C)C(O)C(C)O',\n",
       " 'Cc1ccc(C(=O)NC2CCCC2[NH3+])cc1[N+](=O)[O-]',\n",
       " 'Nc1cccc2c1CN(c1ccc(F)cc1[N+](=O)[O-])CC2',\n",
       " 'COc1ccc(-n2c(SCC(=O)Nc3ccccc3)nnc2-c2cccnc2)cc1',\n",
       " 'O=C(Cl)Cc1ccc(OC(F)F)cc1',\n",
       " 'Cn1ccnc1C1CN(C(=O)Nc2cc(-c3ccccc3F)on2)CC[NH+]1C',\n",
       " 'Cc1cc(C)cc(S(=O)(=O)Nc2cnc(N3CCCC3)c(C(=O)[O-])c2)c1',\n",
       " 'CC1C[NH2+]CCC1c1ccc(Cl)cc1F',\n",
       " 'CC(=O)c1ccc(NC(=O)NC(CO)C(=O)NCC(=O)NC(=O)c2ccc([NH+]=C(N)N)cc2)cc1',\n",
       " 'CCC(Cl)Cc1ccc(Cl)c(Cl)c1',\n",
       " 'C=CC(=O)OCc1ccc(OC(=O)CCc2ccc(-c3ccc(CC(=O)C(=C)C)cc3)cc2)c(C)c1',\n",
       " 'CCOC(=O)C(C)N1C(=O)CC(=O)NC1=O',\n",
       " 'CC(C)=C1c2ccccc2CCN1C(=O)C(Cl)(Cl)Cl',\n",
       " 'C=CCOC1(C)CCN(c2c(C(OC(C)(C)C)C(=O)[O-])c(C)c(C)c3[nH+]c(-c4cccc(-c5cc(OC(F)(F)F)ccc5OC(C)CC=C)c4)cn23)CC1',\n",
       " 'CCn1cc2c(n1)-c1c(C)c(C(=O)C3C(=O)CCCC3=O)cc(C)c1S(=O)(=O)C2',\n",
       " 'CCOC(=O)c1ncn2c1CN=C(c1cccs1)c1ccccc1-2',\n",
       " 'CC(C)(CCCO)CNC(=O)c1cc2ccc(F)cc2s1',\n",
       " 'BN1CCCC1Cc1cccc(CC)c1',\n",
       " 'O=C(CCCl)NC(=O)N=CC=C1C=CC=CC1',\n",
       " 'Cc1ccc(Br)c(C(=O)NCc2ccc(C(N)=S)cc2)c1',\n",
       " 'Cc1cncc(S(=O)(=O)Cl)c1',\n",
       " 'Nc1[nH]ncc1S(=O)(=O)c1ccc([N+](=O)[O-])cc1',\n",
       " 'CCC(C[NH3+])Oc1ccc(CO)cc1',\n",
       " 'CCNc1cc(Oc2ccc(F)cc2C)nc(C2CC2)n1',\n",
       " 'CC1(C)CCC(n2c(=O)[nH]c3cc(C(=O)[O-])ccc32)C1',\n",
       " 'CN(CCO)C(=S)N1CC[NH+](CCO)CC1',\n",
       " 'CCOc1nc2c(ccc3ccccc32)c2c1C=CC(c1ccccc1)(c1ccccc1)O2',\n",
       " 'C=C1COc2ccc3ccccc3c2C(=O)C1=C([NH2+]C)c1ccccc1',\n",
       " 'O=C(Cn1ccc(C(F)(F)F)n1)N1CC[NH+](C2CCCC2O)CC1',\n",
       " 'Nc1ncc(-c2ccccc2Cl)cc1C=O',\n",
       " 'Cc1ccc(C)c(-c2[nH]c3ccc(OC4CCCCC4)cc3c2CC(=O)[O-])c1',\n",
       " 'COc1c(C)cnc(CC(C)(O)C[NH2+]CC(C)C)c1C',\n",
       " 'CCOC(=O)c1c(NC(=O)COc2ccc(Cl)cc2)sc2c1CC[NH+](CC)C2',\n",
       " 'COc1ccc(Br)cc1NC(=O)CCBr',\n",
       " 'CN(C)c1ccc(C=Nn2c(=O)[nH]c3ccccc3c2=O)c(OCc2ccccc2C#N)c1',\n",
       " 'O=NC=C1CCc2cc(-c3nc(CN4CC[NH2+]CC4)[nH]c3-c3ccncc3)ccc21',\n",
       " 'COc1ccc(C(O)[NH+](C)C)c(C)c1C',\n",
       " 'OC(Cc1ccc(C(F)(F)F)cc1)c1c(F)cccc1Br',\n",
       " 'COc1c(NCCc2nc(C(=O)[O-])cs2)[nH]cnc1=O',\n",
       " 'COc1ccc(NC(C)C(N)=O)cn1',\n",
       " 'CCC(C(=O)NCCC1=CCCCC1)N(c1ccc(F)c(Cl)c1)S(C)(=O)=O',\n",
       " 'Cn1c(N)c(-c2nc3ccccc3c(=O)o2)c(=O)n(C)c1=O',\n",
       " 'FC1CC[NH2+]C2(CCSC2)C1',\n",
       " 'O=C(Cc1ccc(Br)cc1)Nc1ccc(F)c(NC(=O)C2CCCCC2)c1',\n",
       " 'C=CCC(O)(CCl)CCCCl',\n",
       " 'COc1cc(N2C(=O)C(Nc3cccc(C(C)=O)c3)=C(Sc3ccccc3)C2=O)cc(OC)c1OC',\n",
       " 'O=C(NC1C2CC3CC1CC(O)(C3)C2)c1cnn(C2CC2)c1-n1cccn1',\n",
       " 'Cc1nc2c(c(NCc3ccccn3)n1)CCC2',\n",
       " 'Cc1sc(-c2noc(C3CCC3)n2)cc1S(=O)(=O)N1CCCC(C(=O)NC2CCCC2)C1',\n",
       " 'CC=C(C)C=NNC(=O)CCCCCCC(=O)Nc1ccccc1O',\n",
       " 'CCC(Sc1cccc(NC(=O)c2ccccc2C)c1)C(=O)Nc1cc(OC)cc(OC)c1',\n",
       " 'Cc1onc(-c2ccccc2)c1C(=O)NN(C(N)=O)C1CCCCC1',\n",
       " 'CCOc1ccc(NC2CCOC(C)(CC)C2)c(C)c1',\n",
       " 'O=C(Nc1ccc(C2OC(CSCCO)CC(c3ccc(CO)cc3)O2)cc1)c1cccnc1',\n",
       " 'CN(c1nc(C2CC2)c(C[NH2+]C2CC2)s1)C1CCCCC1',\n",
       " 'Cc1sc(C[NH2+]C2C(NC(=O)OC(C)(C)C)C3CCOC32)cc1Br',\n",
       " 'CN(Cc1ccccn1)c1ccc(CCl)c(Cl)c1',\n",
       " 'COC(=O)Cc1ccc(OCc2ccc3ccccc3n2)c(Br)c1',\n",
       " 'CC(C)(C)c1ccccc1OC(=O)COc1ccccc1Br',\n",
       " 'CCS(=O)(=O)C1=NN2C(=[NH2+])C(=Cc3ccc(OCCCOc4cccc(C)c4)c(OC)c3)C(=O)[NH+]=C2S1',\n",
       " 'C[NH2+]C(c1cccc(OC)c1)c1cc2cccc(Cl)c2o1',\n",
       " 'Nc1ccc(SCc2cncc(F)c2)c(F)c1',\n",
       " 'CC(=NNC(=O)Cc1ccc(C)cc1)c1ccc(C)c(C)c1',\n",
       " 'CCOc1cc(-c2ccccc2)sc1C(=O)N1CCN(c2ncccc2C#N)CC1',\n",
       " 'CNC(=O)CN1CCN(c2cccc(Cl)c2)C1=O',\n",
       " 'CCn1cc(C(=O)Nc2cccc(Cl)c2Cl)c(=O)c2cc(C)ccc21',\n",
       " 'C[NH2+]C(C)Cc1csc(CCc2ccccc2)n1',\n",
       " 'CCc1c(C)nc2n(c1=O)C[NH+](C1CCCC1)CN2c1cccc(C)c1C',\n",
       " 'Cc1cc(NC(=O)C(C)NC(=O)C2CC[NH+](C(C)C(=O)Nc3cccc(C(=O)Nc4cc(F)ccc4F)c3C)CC2)ccc1NC(=O)c1cccc(Cl)c1',\n",
       " 'CCCn1ccnc1-c1cccc(NC(=O)C2CCCOC2)c1',\n",
       " 'COc1ccc(CC(=O)NCc2cccnc2-c2ccccc2)cc1',\n",
       " 'Cc1ccccc1-c1noc(C(C)C(C)C(=O)[O-])n1',\n",
       " 'O=C(c1ccccc1)N(NC1CCCCC1O)C(=O)c1ccccc1',\n",
       " 'CCCc1csc(Cc2cccc(F)c2)n1',\n",
       " 'CC(C)CN(CCC(=O)N1CC[NH+](Cc2ccccc2)CC1)C(=O)c1cnccn1',\n",
       " 'C#CC(C)(C)OCCP(C)(=O)OC',\n",
       " 'CC[NH2+]C(Cc1cccnc1)c1ccc(Cl)c(Cl)c1',\n",
       " 'C=Cc1ccc(COc2ccc3c(=O)c(Oc4ccc(C(=O)OCCC)cc4)coc3c2)cc1',\n",
       " 'O=C([O-])C1Cc2cc(Cl)cc(I)c2O1',\n",
       " '[NH3+]CCc1ccnc(C2CC2)n1',\n",
       " 'CCCCC(C)(C)c1[nH+]c(C(C)C(C)C)[nH]c1C(C)C(C)C',\n",
       " 'COc1cc(NC(=O)CCNC(=O)C2CC[NH+](CC(=O)Nc3ccc(Cl)c(C(=O)N4CCOCC4)c3)CC2)ccc1NC(C)=O',\n",
       " 'CC(C)(O)C#Cc1ccc(C=NNc2c(Cl)cc(Cl)cc2Cl)cc1',\n",
       " 'CCOC(c1ccccc1)c1ccccn1',\n",
       " 'CCc1cc(C)ccc1C(=O)NCC(C)C',\n",
       " 'CCCC(NC(=O)c1cc(C)n(-c2ccc(OC)cc2)n1)C(=O)[O-]',\n",
       " 'COC(=O)C(C)NC(=O)C(CCSC)NC(=O)OCc1ccccc1',\n",
       " 'CN(CCC(F)(F)F)c1c(F)cccc1CC[NH3+]',\n",
       " 'Cc1ncc(C[NH+](C)C)c(C2CCC[NH+]2Cc2ccsc2)n1',\n",
       " 'CC(NC(=O)c1ccc(Cl)c(S(=O)(=O)NCc2ccccc2)c1)c1cccs1',\n",
       " 'Cc1ccccc1C(=O)c1cnc(Nc2ccc(CNS(=O)(=O)c3ccc(C(F)(F)F)cc3Cl)cc2)s1',\n",
       " 'CC1C[NH+](CC2(C)CCC[NH2+]C2)CCO1',\n",
       " 'Cn1cnnc1SCCNC(=O)C1CSc2nc(C(C)(C)C)cc(=O)n2C1',\n",
       " 'CCOC(=O)C1CCC(CF)(CF)CC1',\n",
       " 'COc1c(C)cccc1C(=O)Nc1ccccc1-c1nc(-c2ccncc2)no1',\n",
       " 'Cc1ccc(C)c(C(=O)CCC(=O)NC2(C(=O)[O-])CCC2)c1',\n",
       " 'Cc1nc(=O)[nH]c(C)c1CCC(=O)NCC1CC[NH+](C2CC2)CC1',\n",
       " 'OB(O)N1CC[NH2+]CC1Cl',\n",
       " 'CCN(CCc1ccncc1)C(=S)NCCN1C(=O)CSC1=O',\n",
       " 'COc1cccc2cc(-c3cn(-c4ccccc4C)c(=S)[nH]3)c(=O)oc12',\n",
       " 'CCc1nc(C)nc(N2CCN(C(=O)c3ccc([N+](=O)[O-])cc3)CC2)c1Cc1ccc(Cl)cc1',\n",
       " 'COC(=O)Cn1ccc(CC(C)C)c1C1(Nc2ccc(N3CCN(c4cc(C)cc(C)n4)CC3)cc2)CCCCO1',\n",
       " 'Nc1cccc(-n2c(C3CCC[NH2+]3)nc3ccccc32)c1',\n",
       " 'COc1nc(NC(C)CC(C)O)nc(OC)n1',\n",
       " 'CCC(C)c1ccc(OCC[NH2+]C)cc1',\n",
       " 'C=CC1C[N+](Cc2ccccc2)(C(C)CC)CCC1C',\n",
       " 'CC(C)c1ccc(S(=O)(=O)N2CCC(C(=O)OCc3ncc(-c4ccccc4)o3)CC2)cc1',\n",
       " 'CC(=O)OCc1cnccn1',\n",
       " 'Cc1nn(C)cc1C(=O)Nc1cccnc1',\n",
       " 'Cc1[nH]c(-c2ccc(Cl)c(N)c2)c[nH+]1',\n",
       " 'Clc1ccccc1-c1nc(SCc2ccccn2)n[nH]1',\n",
       " 'CC(=NNC(N)=S)c1ccc(-n2cccc2)cc1',\n",
       " 'O=C(NC1CCCC1)c1ccc(CNC(=O)C23CC4CC(CC(C4)C2)C3)cc1',\n",
       " 'O=C(c1ccc(CBr)cc1)C1CC1',\n",
       " 'CC(C)(C)C(=O)C(C#N)=CNc1ccc(Oc2ccccc2)cc1',\n",
       " 'COC(=O)c1ccccc1NC(=O)Cn1nc(-c2ccccc2)c(-c2ccccc2)c(C(=O)OC)c1=O',\n",
       " 'CCCC(=O)c1ccc(SCc2ccc(C(=O)[O-])cc2)cc1',\n",
       " 'Cc1c(O)cccc1C1[NH2+]CCc2ccc(N)cc21',\n",
       " 'Cn1cc(-c2ccc(=O)n(-c3ccccc3)c2)cn1',\n",
       " 'CC1C[NH+](CCN2CCN(C(=O)OC(C)(C)C)C(Cc3ccc(C(F)(F)F)cc3)C2)CC(C)O1',\n",
       " 'O=C([O-])Cc1nnc2c(-c3nc(C4CC4)no3)cccn12',\n",
       " 'O=C(Nc1ccc(F)cc1Br)C1CCC[NH2+]C1',\n",
       " 'C1=NCc2c3c(cn21)OCO3',\n",
       " 'Cc1nccn1CCC(C)[NH2+]CCc1noc(CO)n1',\n",
       " 'CC(=O)N1CCN(c2nnc(C3CC3)n2CC2CCOC2)CC12CCCCC2',\n",
       " 'COc1cc(Nc2nc(NC3CCOCC3)c(C(C)C)nc2C(N)=O)ccc1N1CC[NH2+]CC1',\n",
       " 'CC(C)=CCCC(C)C1CCC(C)=CCC=C(CO)C1CO',\n",
       " 'COC(=O)c1cc([N+](=O)[O-])c(=O)n(Cc2ccc(Cl)nc2)c1',\n",
       " 'CCC(=O)Nc1ccc(OCc2ccccc2N2CCCCC2)cc1C(=O)[O-]',\n",
       " 'Cc1cccc(OCCCCn2c(-c3ccc(Cl)cc3)nc3ccccc32)c1',\n",
       " 'CC([NH3+])(c1cccnc1)c1ccc(Br)cc1Cl',\n",
       " 'Nc1cccc2c(-c3ccc(C(F)(F)F)c(S(N)(=O)=O)c3-c3nn[n-]n3)cc(C(=O)[O-])nc12',\n",
       " 'Oc1ccc(-c2nc3c(F)cccc3n2C2CC2)cc1Cl',\n",
       " 'Cn1nncc1C([NH3+])c1coc(Br)c1',\n",
       " 'Cc1cc(C)cc(C[NH+]2CCN(C(C)(C)C#N)CC2)c1',\n",
       " 'C[NH+]=C(NCc1coc(-c2ccccc2)n1)N1CCN(c2ccccc2F)CC1',\n",
       " 'COc1cccc(C=CC(=O)NCc2ccc(Cn3cnc4ccccc43)cc2)c1OC(F)F',\n",
       " 'C[NH+]=C(NCCCSc1ccc(F)cc1)NCCNC(=O)c1ccco1',\n",
       " 'O=S(=O)(N1CCOCC1)N1SSSSSSS1',\n",
       " 'CCC1(COCCCCCCOCC2(CC)COC3(CC(C)(CC)N([O-])C(C)(CC)C3C)OC2)COC2(CC(C)(CC)N([O-])C(C)(CC)C2C)OC1',\n",
       " 'Clc1ccc(OOc2ccc(Cl)cc2Cl)c(Cl)c1',\n",
       " 'C[NH+]1CCC(C)(C(=O)NCc2ncc(Cl)cn2)CC1',\n",
       " 'CCNc1nc(CSc2cccc(Cl)c2)nc(C)c1Br',\n",
       " 'CC(C)CNC(=O)C(C)N(CCc1ccccc1)C(=O)CN(c1ccc(Oc2ccccc2)cc1)S(=O)(=O)c1ccccc1',\n",
       " 'CC(C)NS(=O)(=O)CCn1c(Cc2cc3c(cc2I)CCC3)nc2c(N)nc(F)nc21',\n",
       " 'O=c1c(=Cc2ccc(-c3ccc(F)cc3)o2)sc2nc3cccnc3n12',\n",
       " 'CCC[NH2+]CCCCS(=O)(=O)N1CCC(C)(CC)CC1',\n",
       " 'Cc1nc(NC(=O)Nc2cccc(OC(C)C3CCC[NH2+]3)n2)cs1',\n",
       " 'O=[N+]([O-])c1ccc(C[n+]2cc(-c3ccc(Cl)cc3)n3c2CCC3)cc1',\n",
       " 'CC(C)(C)OC(=O)N1CCC2(CC1)C[NH2+]C1(CCC1)CO2',\n",
       " 'CC(C(Cc1cc(C(=O)Nc2ccccc2)ccn1)c1ccc2c(c1)OCO2)N(CC=Cc1ccccc1)C(=O)C(O)=C(CC(=O)[O-])C(=O)OC(C)(C)C',\n",
       " 'NC(=[NH+]O)c1cccc(Oc2ccccc2)c1C(N)=[NH+]O',\n",
       " 'O=C(Cl)c1ccc2c(c1)OCOC2',\n",
       " 'CCOC1(O)OCCC1OC',\n",
       " 'Cc1cc(C(=O)N(C)C(C)c2ccc(Cl)cc2Cl)no1',\n",
       " 'Cc1c(C#N)oc2nc(N)ncc12',\n",
       " 'O=c1[nH]c(=O)n(C2CC(O)C(CO)O2)cc1-c1cnnn1-c1c(F)cccc1F',\n",
       " 'Cc1sc(NC2CC2)nc1-c1ccc(F)cc1',\n",
       " 'COC(=O)C(C(=O)OC)C1CCCCC1Br',\n",
       " 'O=S(=O)(c1cccc(F)c1)N(CCc1cccs1)Cc1ccoc1',\n",
       " 'O=C([O-])c1cnc(N2CC3CCCC3C2)c([N+](=O)[O-])c1',\n",
       " 'CC1OCCC1C(Br)c1ccc2c(c1)CC(=O)N2C',\n",
       " 'CCC(C(=O)NC1CCCCC1)N(Cc1ccc(OC)cc1)C(=O)CCCN(c1cccc(C(F)(F)F)c1)S(C)(=O)=O',\n",
       " 'CCC(C)(CNC(=O)C1=NN(C)C(=O)CC1)[NH+]1CCOCC1',\n",
       " 'Cc1nc(C[NH+]2CCN(C(=O)CSc3ccc(Cl)cc3)CC2)cs1',\n",
       " 'Cc1cnc(N2CCC(C)(C(N)=O)C2)c(N)c1',\n",
       " 'CC1(C)c2ccccc2-c2ccc(-c3ccc(-c4cccc5c6ccccc6n(-c6cccc(-c7ccc8c9ccccc9c9ccccc9c8c7)c6)c45)cc3)cc21',\n",
       " 'CSCCC(NC(=O)c1ccc(S(=O)(=O)N(C)C)cc1)C(=O)[O-]',\n",
       " 'CC=CCC(C)CCCCCC',\n",
       " 'CON=C(C(=O)NC1C(=O)N2C(C(=O)[O-])=C(C[N+]34CCC(CC3)C(Cl)C4)CSC12)c1csc(N)n1',\n",
       " 'Nc1ncn2c(N)csc12',\n",
       " 'CCOC(=O)CCC(=O)N(CCCOC)CCOC',\n",
       " 'CC1CN(c2ccc([N+](=O)[O-])c3nonc23)CC(CO)O1',\n",
       " 'CN1C=CN(CC2CCC[NH+]2CC(=O)NCCC(=O)NCCC(=O)NCCCC(=O)[O-])CC1',\n",
       " 'Cn1cc(C2OCCCC2NC(=O)CCNC(=O)C2CCCCC2)cn1',\n",
       " 'CCCCOc1ccc(NCC(=O)Nc2cccc(C(=O)NC)c2)cc1',\n",
       " 'CSc1cc(-c2ccc(-c3cc(OCC(C)C)cc(Br)n3)s2)nc(-c2ccc(-c3cc(SC)cc(-c4ccc(-c5cc(SC)cc(-c6ccc(-c7cc(OCC(C)C)cc(Br)n7)s6)n5)s4)n3)s2)c1',\n",
       " 'COCc1c(C(=O)NC2CCN(c3cc(Cl)ccc3OC)C2)sc2cccc(F)c12',\n",
       " 'O=C(c1ccccc1I)N(Cc1ccoc1)Cc1cccs1',\n",
       " 'CCCCC1CC12CC2CBr',\n",
       " 'CN(CCOc1cccc(Cl)c1)C(=O)Cc1csc(-c2ccccn2)n1',\n",
       " 'CC([NH3+])C(=O)NCc1nncn1C',\n",
       " 'COC(=O)c1ccc(N2C(=O)CC(N(Cc3ccccc3)C(=O)C34CC5CC(CC(C5)C3)C4)C2=O)cc1',\n",
       " 'CC(C)(C)CCNc1ccc(NS(C)(=O)=O)cc1',\n",
       " 'CCc1ccc(NC(=O)c2cnc(NCc3cccc(C)c3)cn2)cc1',\n",
       " 'CCOC(=O)c1cnn(C)c1C[NH2+]CCC(C)(C)C',\n",
       " 'Cn1ncc(NCC2CCC3(CCCCC3)O2)c(Br)c1=O',\n",
       " 'CC(=O)NC(C)c1cc2cc(OCc3ccc(OCCC4CC4)cc3)ccc2o1',\n",
       " 'CCCCCNC(=O)C1CCCN(c2nccnc2Sc2ccc(C)cc2)C1',\n",
       " 'CCCCCCCCCCn1c2cc(F)c(N)cc2c2cc(I)c(F)cc21',\n",
       " 'COc1ccc(NC(=O)Nc2nc3cc(C)c(C)cc3s2)cc1',\n",
       " 'COc1cc(NC(=O)C2CC[NH+](CC(=O)Nc3cccc(C(=O)Nc4cc(F)ccc4F)c3C)CC2)ccc1NC(=O)c1ccccc1F',\n",
       " 'CCC[NH2+]C(COC)CN1CCC2CCCCC2C1',\n",
       " 'CC(=O)OCC(C)n1c(=O)c(-c2ccnn2-c2ccc(C#N)cc2)c(C)n(-c2cccc(C(F)(F)F)c2)c1=O',\n",
       " 'COc1cc(N)cc(C[NH+](C)CC(C)(C)O)c1',\n",
       " 'Cc1cc(C)c(OCCC(C)C)c(S(=O)(=O)Cl)c1',\n",
       " '[NH3+]C1CC=C(Cc2cccc(Cl)c2)CC1',\n",
       " 'CCc1cnc(CNS(=O)(=O)c2ccc(C)cc2N)o1',\n",
       " 'O=C(Nc1cccc(S(=O)(=O)NC2CC2)c1)c1cc(-c2ccco2)nn1-c1ccccc1',\n",
       " 'CCN(CCC#N)c1ncc[nH]c1=O',\n",
       " 'Cc1ccc(SCCC(=O)Nc2ccc(C(N)=O)cc2)cc1',\n",
       " 'Cc1cc(N)c(C)c(S(=O)(=O)NCCSC(F)(F)F)c1C',\n",
       " 'CCCC(=O)OC1(C(=O)COC(C)=O)CCC2C3=C(C(O)CC21C)C1(C)C=CC(=O)C=C1CC3',\n",
       " 'COc1ccc(S(=O)(=O)c2cc(F)ccc2NCC(=O)Nc2ccc(Br)cc2)cc1OC',\n",
       " 'O=C(Nc1ccccc1)N1CC[NH+](CCCc2ccccc2)CC1',\n",
       " 'O=c1c2[nH]c3ccccc3c2nc(SCc2ccc([N+](=O)[O-])cc2)n1-c1ccccc1F',\n",
       " 'COC1(CNS(=O)(=O)c2ccnc(NN)c2)CCC1',\n",
       " 'N#CC(NCC1CC1)c1ccccc1F',\n",
       " 'CC(C)CNC(=O)C(Cc1ccccc1)N(Cc1ccc(Cl)cc1Cl)C(=O)CN(c1ccc(Cl)cc1)S(C)(=O)=O',\n",
       " 'CC[NH2+]CC(C)(O)c1ccc(C)cc1C',\n",
       " 'C[NH+](C)CCCNC1CS(=O)(=O)CC1S(=O)(=O)c1ccc(F)cc1',\n",
       " 'CCC1CCCCN1c1cc(NC2CCCC2)ncn1',\n",
       " 'Fc1ccc(C(F)F)cc1OC(F)F',\n",
       " 'COC(=O)C(N=O)c1cccc2ccccc12',\n",
       " 'CC(Oc1ccc(F)c(Br)c1)c1nc(CCl)cs1',\n",
       " 'Cc1c(I)cc([N+](=O)[O-])cc1C(=O)Nc1cc(F)ccc1O',\n",
       " 'CC(C)C[NH+]1CCOC(CNC(=O)N2CCCC3C(=O)NCC32)C1',\n",
       " '[N-]=[N+]=NC(=O)c1cnc(C=S)c(Cl)c1',\n",
       " 'COC(=O)CCc1cnc(N2CCCC2COCC(=O)Cc2cc(Cl)c(NC(=O)c3cn(C)c4ccccc34)cc2F)s1',\n",
       " 'COCCn1c(-c2ccc(Br)cc2)c[nH+]c1N',\n",
       " 'COc1cc(CC(C)(C)[NH3+])cc(C#N)c1OC',\n",
       " 'CS(=O)(=O)c1ccc(-n2nnnc2CSc2ccccn2)cc1',\n",
       " 'CCOC(=O)C(Cc1cccc(OCC2CO2)c1)OC(C)C',\n",
       " 'O=C(CCSCc1nc2sc3c(c2c(=O)[nH]1)CCC3)N1CCCC(c2nc3ccccc3[nH]2)C1',\n",
       " 'CCCC1N(C(=O)c2cnccc2C(F)(F)F)CCCC1(Oc1csc(C(F)(F)F)c1)C(=O)N1CCN(c2ccccc2OCC(=O)[O-])CC1',\n",
       " 'BrC1CCCC(C2CN3CCCCC3[NH2+]2)C1',\n",
       " 'CC1CCN(c2ccccc2F)C(CCO)C(=O)N1',\n",
       " 'CCCCOc1c(C(N)=S)nc2c(N3CCN(C)C3=O)cc(N3CCOCC3)cn2c1=O',\n",
       " 'O=c1[nH]c(C=Cc2cn(Cc3c(F)cccc3Cl)c3ccccc23)nc([O-])c1[N+](=O)[O-]',\n",
       " 'C#CCOc1ccc(C(C)[NH2+]CC2(O)CCSC2)cc1',\n",
       " 'COc1ccc(N)cc1NC(=O)CCOC(C)CC(C)C',\n",
       " 'CN1CC[NH+](Cc2ccc3c(c2)c(=O)n(C2CCC([NH3+])CC2)c2nc(NCC4CC4)ncc32)CC1',\n",
       " 'COCC[NH2+]CC(=O)N1Cc2[nH]cnc2CC1C(=O)[O-]',\n",
       " 'Cc1ccc(CN2CCN(Cc3ccncc3)C3CS(=O)(=O)CC32)o1',\n",
       " 'CC(C#N)Sc1nnnn1CC[NH3+]',\n",
       " 'O=Cc1ccc(-n2ncc3c2CC[NH2+]C3)cc1',\n",
       " 'COc1ccc(C=C2SC(=S)N(c3cc(C(=O)[O-])ccc3C)C2=O)c(OC)c1',\n",
       " 'C=CCn1nc(C(=O)N2CCCCC2)c2c1CCC([NH+]1CCCCCC1)C2',\n",
       " 'CC(C)c1ccc(C(C)C)c(-c2ccc(C(C)C)c(C(C)C)c2)c1',\n",
       " 'CCc1cccc2c(C=C3SC(=O)N(Cc4ccc(F)cc4)C3=O)cn(Cc3ccc(Cl)cc3Cl)c12',\n",
       " 'Cc1ccc(NC(=O)N2CCN(c3cc4c(cc3F)c(=O)c(C(=O)[O-])cn4C3CC3)CC2)cc1',\n",
       " 'Cc1ccc2c(C[NH+](C)C)coc2c1',\n",
       " 'CCOC(=O)c1cccc(C(=O)c2c(CC)c(Br)c3n2CCC3(C(=O)[O-])C(=O)[O-])c1',\n",
       " 'O=C(Cc1cccc(OC(F)(F)F)c1)Nc1ccc(N2CCC(c3nnc(NC(=O)Cc4ccccc4F)s3)C2)nn1',\n",
       " 'CCn1cc(NCc2ccc(OC)cc2)cn1',\n",
       " 'O=C(COC(=O)c1cc(=O)[nH]c2ccccc12)Nc1c(Cl)cccc1C(F)(F)F',\n",
       " 'O=S(=O)(c1cccs1)N1CC[NH+](C(c2ccccc2)c2ccc(Br)cc2)CC1',\n",
       " 'CC([NH3+])C(=O)NCC(=O)NC(CC(N)=O)C(=O)NC(CCC(=O)[O-])C(=O)[O-]',\n",
       " 'Cc1ccccc1-c1noc(CC2CCCN(C(=O)c3cc(=O)[nH]c4ccccc34)C2)n1',\n",
       " 'CCOc1ccc(OCCC(=O)OCC(=O)c2ccc(NC(=O)C(C)C)cc2)cc1',\n",
       " 'CCOc1ccc(Nc2cnc(C(=O)Nc3ccc(C)cc3)cn2)cc1',\n",
       " 'CCCc1nc(N)c(C)c(NCc2csc(=O)[nH]2)n1',\n",
       " 'CCCc1c(C(=O)Nc2c(CC)cccc2CC)c(OCC(C)C)c(C)c(C)[n+]1[O-]',\n",
       " 'CCn1cc(CNC(=O)CCn2ncc3ccccc32)c(C)n1',\n",
       " 'CCC(=O)Cc1nc(C2CCC(C(C)C)CC2)no1',\n",
       " 'COc1cc(NS(=O)(=O)c2ccc(Br)c(C)c2)c(OC)cc1Cl',\n",
       " 'CCC1=[N+]2CC3C([N+]([O-])=NC4=CC5C[N+]6=CC5C(C4)O6)=CCC(O2)C13',\n",
       " 'Cc1cc(C)n2nc(CC3C(=O)CC(CCc4ccc(C(C)(C)C#N)c(F)c4)(C4CCCC4)OC3=O)nc2n1',\n",
       " 'Cc1ccc(NC(=O)c2ccc(C)c(NC(=O)CCNC(=O)C3CC[NH+](C(C)C(=O)Nc4ccc(Cl)c(C(=O)NCC(C)C)c4)CC3)c2)cc1F',\n",
       " 'CCOOP(=O)(OOCC)c1ccccc1',\n",
       " 'CCCNS(=O)(=O)c1cc(C(=O)Nc2cc(C(F)(F)F)ccc2Cl)ccc1OC',\n",
       " 'CCN1C(=O)c2ccccc2C(C)C1C',\n",
       " 'CC1(C)c2ccccc2Sc2c1ccc1c2-c2ccc(N(c3ccc(-c4ccccc4)cc3)c3ccc4c(c3)C(C)(C)c3ccc5c(c3-4)Sc3ccccc3S5)cc2C1(C)C',\n",
       " 'CC1CCN(c2ccc(C(C)[NH3+])c(Cl)c2)C(C)C1',\n",
       " 'O=C(NC(c1ccccc1)C1CC1)c1ccc(-n2ccnc2)nc1',\n",
       " 'CC(C)(Oc1ccccc1)C(=O)Nc1nccs1',\n",
       " 'COc1ccc(C(=O)N(C)CCCNc2ccccc2)cc1',\n",
       " 'CC(C)Oc1ccc2nc(NCC[NH3+])sc2c1',\n",
       " 'NC(=S)c1cc2ccccc2nc1Oc1ccc(Br)cc1',\n",
       " 'c1ccc2cc(-c3c4ccccc4c(-c4ccc5ccccc5c4)c4cc(-c5ccc6oc7ccccc7c6n5)ccc34)ccc2c1',\n",
       " 'COc1cc(C(CC2=CCCC2)NC(=O)C(F)(F)F)cc(OC)c1OC',\n",
       " 'O=C([O-])Cn1cc(C(=O)Nc2ccc(F)c(Br)c2)nn1',\n",
       " 'OCc1c(-c2ccncc2)n[nH]c1Cc1ccc(F)cc1',\n",
       " 'FC(F)(F)c1cccc(OCc2sccc2Br)c1',\n",
       " 'C[NH+]1CCCC1CCOc1nc(Cl)ncc1N',\n",
       " 'COc1cc(Cl)ccc1C(=O)Nc1ccc(Sc2nncn2C)c(Cl)c1',\n",
       " 'Cc1cc(C=C2NC(=O)N(c3ccccc3)C2=O)c(C)n1-c1ccc(Cl)cc1Cl',\n",
       " 'C=Cc1ccc(O)cc1OCc1cccnc1-c1ccnn1C(C)C',\n",
       " 'CCOc1ccccc1N1CC(C)[NH2+]CCC1C',\n",
       " 'CC1(C)CC(=O)N(C2(C(N)=S)CCCCCCC2)C(=O)C1',\n",
       " 'CCC1CN(C(=O)c2c(C)nsc2NC2CC2)CC1O',\n",
       " 'CNC(=O)c1cn2c(c(OCc3ccccc3)c1=O)C(=O)N(Cc1cccc(Cl)c1)CC2',\n",
       " 'CNS(=O)(=O)c1cc(C(=O)N2CCC(C(=O)c3ccc(C)cc3)CC2)ccc1OC',\n",
       " 'CCCCCCOC(=O)c1ccc(C(=O)[O-])cc1C(=O)OCCCCCC',\n",
       " 'CCC(CC)(Pc1ccc(C)cc1CO)c1cc(OC)ccc1OCOC',\n",
       " 'CCNC(=O)CN(CC)C(=O)CSc1ncnc2sc3c(c12)CCC3',\n",
       " 'O=C(Nc1ccn(C2CC(O)C(COCc3ccccc3)O2)c(=O)n1)c1ccccc1',\n",
       " 'CC1(C)SC(c2nc3cc(Cl)c([O-])c(Cl)c3s2)=NC1C(=O)NCC(=O)ON1C(=O)CCC1=O',\n",
       " 'Cc1c(Cl)cccc1NC(=O)C(C)NC(=O)C1CC[NH+](C(C)C(=O)Nc2cc(C(=O)N3CCCC(C)C3)ccc2Cl)CC1',\n",
       " 'COC(=O)c1ccc(NC(=O)c2cnc(Nc3ccccc3F)nc2)cc1',\n",
       " 'CC(C)([NH3+])CC[NH+]1CCCC2CCCC21',\n",
       " 'C[NH2+]CCCc1cn(-c2cccc(F)c2)nn1',\n",
       " 'CC(CNC(=O)C1CCCC([NH3+])C1)c1nccs1',\n",
       " 'CCCOC(=O)OC1CCCS1(OS(=O)(=O)C(F)(F)F)c1cccc2ccccc12',\n",
       " 'Cc1cccc2c1N1CC[NH+](Cn3c(=O)[nH]c4c(sc5ccncc54)c3=O)CC1CO2',\n",
       " 'CC(C)C(Br)C(=O)NCC1CC[NH+](C(C)C)C1',\n",
       " 'Cn1cc(-c2cccc(C3=[NH+]CC(c4cnn(CC[NH+]5CCCC5)c4)=CN3)c2)cn1',\n",
       " 'Cc1cc(Br)cc(NC(=O)Cc2ccc3[nH]c(=O)c(C)cc3c2)c1',\n",
       " 'CC(=O)C(=O)c1cccc(Cl)c1',\n",
       " 'Cc1ccc2cc(-c3ccc4c5c(cccc35)-c3c-4c(-c4ccccc4)c4ccccc4c3-c3ccccc3)ccc2n1',\n",
       " 'CC1(C[NH3+])CCCOc2ccc(Cl)cc21',\n",
       " 'CC(=O)C(Cc1ccccc1)NC(=O)CSc1nc(C)nc2ccccc12',\n",
       " 'C=C(C=Cc1ccc2ccc(-c3cccc(CO)n3)nc2c1N)c1cccc(CO)n1',\n",
       " 'CCn1cc(CC(C)=O)c2cccc(OC)c21',\n",
       " 'CCC[NH2+]CCC(C)n1nc(C)c(Cl)c1C',\n",
       " 'Cc1cccc(C(=O)N2C3CCC2C(Nc2ccc(C(F)(F)F)cn2)C3)c1-c1ncccn1',\n",
       " 'COc1cccc2c1C(Nc1ccc3cc(NS(=O)(=O)N4CC5CC4CO5)ccc3n1)CC2',\n",
       " 'CC(C)CC(NC(=O)C(C)NC(=O)C(Cc1ccc(O)cc1)NC(=O)C(CO)NC(=O)C(C)NC(=O)C(CC(C)C)NC(=O)C1CCC(=O)N1)C(=O)NC(CCC[NH+]=C(N)N)C(=O)N1CCCC1C(=O)NCC(N)=',\n",
       " 'O=C(NCCCl)Nc1ccnc(Cl)c1',\n",
       " 'N#Cc1ccccc1S(=O)(=O)N(Cc1ccco1)Cc1cccs1',\n",
       " 'CCC(C)Oc1cccc(C(=O)NC(=S)Nc2cccc(C(=O)NC(C)c3ccccc3)c2)c1',\n",
       " 'CC(C)(C)OC(=O)[N-]C(=O)OCc1ccc(C(N)=[NH+]OCc2ccc(F)cc2)cc1',\n",
       " 'O=C(CN(c1ccc(F)c(Cl)c1)S(=O)(=O)c1ccccc1)N1CCc2ccccc21',\n",
       " 'N#Cc1ccc(NC(=O)NCC([NH3+])Cc2cc(F)c(F)cc2F)cc1',\n",
       " 'N#Cc1cc(Br)ccc1NS(=O)(=O)c1ccc(CBr)cc1',\n",
       " 'CCCC(=O)Nc1cncc(-c2ccc3[nH]nc(-c4cc5c(-c6ccc(F)cc6)cncc5[nH]4)c3n2)c1',\n",
       " 'COc1c(N)ncnc1N(C)Cc1cnn(C)c1',\n",
       " 'O=C(Nc1ccnn1CC1CCOC1)c1cccnc1',\n",
       " 'CC[NH2+]Cc1cccc(Br)c1OC1CCC(C)CC1',\n",
       " 'CC1CC(F)(F)CNC1CNc1ncc(C(F)(F)F)cc1F',\n",
       " 'O=c1c2ccccc2nc(-c2cc3cc(Br)ccc3o2)n1N=Cc1cc(Br)c(OCc2ccc(Cl)cc2)c([N+](=O)[O-])c1',\n",
       " 'CC[NH2+]Cc1cccn1CCCSC',\n",
       " 'Cc1ccn2cc(CNC(=O)C(c3ccccc3)c3ccccc3)[nH+]c2c1',\n",
       " 'CCCc1ccc(S(=O)(=O)NCC(c2cccn2C)[NH+](C)C)cc1',\n",
       " 'CC[NH+]1CCCC(O)(c2occc2Br)CC1',\n",
       " 'Nc1cccc(OCCCn2ccc3cc(Cl)ccc3c2=O)c1',\n",
       " 'COC(=O)C(=[NH2+])N1C=CN=CC1OC',\n",
       " 'COc1ccc(C=NNC(=O)c2cc(Br)ccc2NC(=O)c2ccc(C[NH+]3CCC(CO)CC3)cc2)cc1',\n",
       " 'CCCn1ncnc1CC(=O)CC1CCC[NH2+]C1',\n",
       " 'COc1ccc(C)c2sc(N(CC[NH+]3CCOCC3)C(=O)c3cnccn3)nc12',\n",
       " 'CC(C1CCCCC1)N1CCC(=O)NC2(CCCC2)C1=O',\n",
       " 'COc1ccccc1C1C2=C(CCCC2=O)Nc2nc(-c3ccc(Cl)cc3)nn21',\n",
       " 'Cc1ccc2cc(CCNC(=O)C3CCC3)c(=O)[nH]c2c1C',\n",
       " 'c1ccc(-c2cccc(-n3c4ccccc4c4cc(-c5ccc6c(c5)c5ccccc5n6-c5ccc6ccccc6c5-c5nc6ccccc6s5)ccc43)c2)cc1',\n",
       " 'Cc1cc(N)cc(NCCC(=O)N2CCCCC2)c1',\n",
       " 'Cc1ccc2cc(C[NH+]3CCOCC3)c3c(c2c1)COC3',\n",
       " 'CCCO[Si](C)(C)OCC',\n",
       " 'CC(=O)OC(C=CS(=O)(=O)c1ccc(C)cc1)Cc1ccccc1',\n",
       " 'CC1(C)CC(O)CCN(C(=O)NCc2ccccc2)C1',\n",
       " 'CCN(C)C(=O)c1c(Nc2cc(-c3ccc4c(c3)OCO4)[nH]n2)ncnc1Oc1ccc2[nH]c(C)cc2c1F',\n",
       " 'O=C1C[NH+](C2CCOC(c3cccc(C[NH+]4CCN(CC(O)C[NH+]5CCc6ccccc6C5)C(=O)C4C4C[NH+](Cc5ccccn5)CC(=O)N4CC(O)C[NH+]4CCc5ccccc5C4)c3)C2)CCN1CC(O)C[NH+',\n",
       " 'CCC1(CNc2ccccc2S(=O)(=O)NC(C)C)CC1',\n",
       " 'Cc1ccc(N2C(=O)C3Cc4c([nH]c5ccccc45)C(c4ccccc4)N3C2=S)c(C)c1',\n",
       " '[NH3+]Cc1[nH]c(=O)cc(C(F)F)c1C(=O)[O-]',\n",
       " 'O=C(CSc1ccc([N+](=O)[O-])cc1)NCC1CC1',\n",
       " 'CCOC(=O)c1ccc(OCC(O)C[NH+](C)Cc2ccccc2Cl)cc1',\n",
       " 'Nc1nc(=O)c2ncn(C3([NH3+])OC(COP(=O)([O-])OP(=O)([O-])[O-])C(O)C3O)c2[nH]1',\n",
       " 'Cc1ccc2c(=O)c(-c3nc(-c4ccccc4C)no3)cn(CC(=O)NCc3ccc(F)cc3)c2n1',\n",
       " 'CC(=O)Nc1ncc(CCc2ccc(NC(NC(=O)[O-])(N(C(=O)[O-])C(C)(C)C)C(C)(C)C)cc2)s1',\n",
       " 'Cc1cc(C)nc(NC2CCOC2C)n1',\n",
       " 'CCOCCCN1C(=O)C(c2ccc(C)cc2C)=C([NH+]2CCN(c3ccccc3)CC2)C1=O',\n",
       " 'Cc1ccc(O)c2nc(C[NH+]3CCCCC3)cc(=O)n12',\n",
       " 'NC(=O)NCCNc1c(Cl)cccc1[N+](=O)[O-]',\n",
       " 'O=C(NCCC[NH+]1CCN(c2ccccc2)CC1)C1CCCN1C(=O)c1ccccc1',\n",
       " '[NH3+]CCCOC1CCN(c2ncc([N+](=O)[O-])s2)CC1',\n",
       " 'Cc1nc(CN2C(=O)NC(=O)C23CCCC(C)C3)sc1C',\n",
       " 'COC(C)(C)OC1CC(C)(C)C(C=CC(C)=O)=C(C)C1=O',\n",
       " 'C[NH+]=C(NCc1cc(C(C)C)no1)NC1CCCN(c2ccc(C)cc2)C1',\n",
       " 'CC(=O)Oc1ccc(C=O)c(-c2ccc(-c3c(C=O)ccc(OC(C)=O)c3OC(C)=O)cc2)c1OC(C)=O',\n",
       " 'Cc1c(C)n(CCOC2CCCC2)c2ncnc(N)c12',\n",
       " 'COC(=O)C1CC[NH+](Cc2nnc(-c3cccs3)o2)C1',\n",
       " 'CCC1CCCC(C[NH3+])(N(C)Cc2cccc(Br)c2)CC1',\n",
       " 'O=C1CN(C(=O)Cc2cccs2)c2ccccc2N1',\n",
       " 'O=C1CCC(c2ccc(CCC[NH+]3CCN(c4ccccc4)CC3)cc2)N1',\n",
       " 'Cc1ccc(Cl)cc1NC=C(C#N)C(=O)Nc1ccc(N)cc1',\n",
       " 'COCc1cc2ccccc2n1C(C)C',\n",
       " 'Cc1nc2ccccc2nc1CN1CC[NH2+]CC1',\n",
       " 'COC(=O)C1(OCc2ccccc2)OCC23CCCCC2CC(O[Si](C)(C)C(C)(C)C)=CC13',\n",
       " 'Cc1ccc2oc(C([NH3+])c3cc4ccccc4o3)cc2c1',\n",
       " 'CC(=O)CSc1nc(C(C)(C)C)cc(C)c1C#N',\n",
       " 'c1cnc(N2CC[NH+](CCCC[NH2+]C3COc4ccccc4N3)CC2)nc1',\n",
       " 'Cc1ccc(C=CS(=O)(=O)NC(C)(C)CC(C)(C)C)cc1',\n",
       " 'CC[NH2+]C=CC(=S)OCC',\n",
       " 'CC1CC(N2C(=O)CCCC2=O)CC[NH2+]1',\n",
       " '[NH3+]CC1CCC[NH+](CCS)C1',\n",
       " 'CCOC(=O)c1c(N)c(-c2ccccc2)n(COC(CO)CO)c1-c1ccccc1',\n",
       " 'COC(=O)COc1ccc(C(O)(C(=O)OC2CC3C4OC4C(C2)[N+]3(C)C)c2cccs2)cc1',\n",
       " 'COc1cccc2c1NC(=O)CC2C(=O)Nc1ccnn1C1CC[NH+](C)CC1',\n",
       " 'O=C(NN(Cc1ccc(-c2ccccc2)cc1)CC(O)C(=O)[O-])c1cc(C(=O)[O-])n(Cc2c(F)cc(Cl)cc2F)n1',\n",
       " 'CCCc1noc(Cc2ccc(S(C)(=O)=O)cc2)n1',\n",
       " 'O=C(OCc1ccccc1)OC(=O)C1C[NH2+]C1',\n",
       " 'CCOC(=O)c1cc(Cl)c(-c2cc3ccccc3oc2=O)cc1OC',\n",
       " 'Cc1cc(C[NH+](C)C2CCC(=O)N(Cc3cccc(F)c3)CC2)on1',\n",
       " 'CCCCOc1ccc(Br)cc1C(CC(=O)N1C(=O)OCC1c1ccccc1)c1ccccc1',\n",
       " 'CNC(=O)c1ccc(C)c(NC(=O)C2CCCN2C(=O)C2CC[NH+](CC(=O)Nc3ccc(C(=O)N4CCOCC4)cc3C)CC2)c1',\n",
       " 'Nc1ncccc1-c1cncn1-c1cccc(Cl)c1F',\n",
       " 'N#CCC(c1ccccc1)S(=O)(=O)c1ccc(Br)cc1',\n",
       " 'C[NH2+]C(Cn1cccn1)(C(=O)[O-])C1CC1',\n",
       " 'CCc1ccc(OCc2csc(C(=O)Nc3nc(-c4cn(C)nc4C)cs3)c2)cc1',\n",
       " 'Cc1cccc(COC(=O)CCNS(=O)(=O)c2ccc(Br)cc2)c1',\n",
       " 'Cc1c(N)cc(S(=O)(=O)N(CCCO)C2CCC2)cc1F',\n",
       " 'COC(=O)c1c(NC(=S)Nc2cc(OCC(F)(F)C(F)F)cc([N+](=O)[O-])c2)sc2c1CCCC2',\n",
       " 'Cn1nc2n(c1=O)CCC(NC(=O)c1cc(F)ccc1Cl)CC2',\n",
       " 'CC[NH+]=C(NC(C)c1cccc(-n2cccn2)c1)NC1C2CCOC2C12CCC2',\n",
       " 'CC(C)c1cc(C2=CC(c3ccc([N+](=O)[O-])cc3)=NCC[NH2+]2)c(O)c(C(C)C)c1',\n",
       " 'C[NH+]1CCCN(c2cc(N)ccc2C(N)=O)CC1',\n",
       " 'CCCN(CC(=O)Nc1ccccc1C)C(=O)COc1ccc([N+](=O)[O-])cc1',\n",
       " 'CC=CC=C1N(CCCCS(=O)(=O)[O-])c2ccc(S(=O)(=O)[O-])cc2C1(C)C',\n",
       " 'C#CCCOC(=O)C(C)(C)O',\n",
       " 'CC(=O)C(C)=c1ssc(=C(C)C(C)=O)ss1',\n",
       " 'COc1cc(CN(C)C(=O)c2csc(-c3cccc(Cl)c3)n2)ccc1OC(F)F',\n",
       " 'Cc1ccc(F)cc1C([NH3+])C1CCOCC1C',\n",
       " 'Fc1cccc(F)c1Nc1cc(-c2ccccc2)nc(NCc2ccccn2)n1',\n",
       " 'C=CCCc1ccc(C2CCC(c3ccc(C#Cc4ccc(Br)cc4)cc3)CC2)cc1',\n",
       " 'CC1(C(=O)Nc2ccccc2C(=O)[O-])CCC2(C)CCC3(C)C(=C2C1)C=CC1C2(C)CCC(O)CC2CCC13C',\n",
       " 'COc1cc(-c2cc(N)on2)c(O)c(C)c1C',\n",
       " 'CCCCC(C)C(CC)OC(C)=O',\n",
       " 'Cc1csc(NC(=O)N(C)CC(C)C(=O)[O-])n1',\n",
       " 'O=C1C2c3ccccc3CCN2C(=O)CN1CCc1ccccc1',\n",
       " 'COCC(NS(=O)(=O)CC1CCC1)C1CC1',\n",
       " 'CCCCCCCCCCc1ccc(C2CCC(CC)CC2)cc1',\n",
       " 'CSCC(=O)NCc1ccc(Cn2cccn2)cc1',\n",
       " 'CCOC(=O)CCCCCCNC(NCC(c1ccco1)[NH+]1CCCCC1)=[NH+]C',\n",
       " 'CCCOc1ccc(C(F)(F)F)cc1NC(=O)C[NH+]1CCc2sccc2C1',\n",
       " 'CCN(C(=O)c1ccccc1)C1CC[NH+](CCNC(=O)Nc2cc(C)nc(C)c2)CC1',\n",
       " 'CC(C(=O)Nc1ccc(Cl)c(C(=O)N2CCCCC2)c1)[NH+]1CCC(C(=O)N2CCCC2C(=O)Nc2ccc(F)c(NC(=O)C3CCCCC3)c2)CC1',\n",
       " 'OC(CCC1CCCO1)c1cccnc1',\n",
       " 'CCOP(O)(OCC)=C1C=CC(=C[N+]#N)C=C1',\n",
       " 'C[NH+](C)C1(c2cccc(F)c2)CCC2(CC1)CN(c1cnc(C(F)(F)F)nc1N1CCC1)C(=O)N2',\n",
       " 'COc1ccc(C2(CNC(=O)c3ccc4c(c3)CCC4)CC2)cc1F',\n",
       " 'C=CC(C#C[Si](C(C)C)(C(C)C)C(C)C)C=C[Si](CC)(CC)CC',\n",
       " 'Cc1cccc(N2C(=O)c3ccncc3C2=O)c1C(=O)[O-]',\n",
       " 'C[NH+](C)CCCNC(=O)c1cccc(C(=O)NC2CCCC2)c1',\n",
       " 'CC(Br)C(=O)NCc1ccc(OC(F)F)cc1',\n",
       " 'N=c1ccc2c(-c3ccc(C(=O)N4CCC(C(=O)Oc5c(Cl)cc(S(=O)(=O)[O-])cc5Cl)CC4)cc3C(=O)[O-])c3ccc(N)c(S(=O)(=O)[O-])c3oc-2c1S(=O)(=O)[O-]',\n",
       " 'CC1CC2(C(=O)[O-])CCC(C)C(C)(O)C2C2=CCC3C(C)(CCC4C(C)(CO)C(O)CCC43C)C21',\n",
       " 'CS(=O)(=O)N1CCC(C(=O)OCC(=O)N2CCNC2=O)CC1',\n",
       " 'C=C(Cl)CNC(=O)NC1CCCC1(C)C(=O)[O-]',\n",
       " 'Nc1nccc(-n2c(OCCF)nc3ccc(Br)cc32)n1',\n",
       " 'CC(Nc1c(Cl)cc(F)cc1Cl)c1ccccn1',\n",
       " 'CC(=O)Nc1ccc(F)c(NC(=O)C2C(C=C(C)C)C2(C)C)c1',\n",
       " 'CN1C(=O)CC(CF)C1c1ccccc1N',\n",
       " 'O=C(Nc1cccc(Br)c1)c1cnc(NCc2ccccn2)cn1',\n",
       " '[NH3+]C(CCC(=O)OCC(O)CO)C(=O)OCC(O)CO',\n",
       " 'Cc1cccc(Nc2ncc(C(=O)Nc3cc(Cl)ccc3C)cn2)c1',\n",
       " 'Cc1cc(C)c(C2C(=O)CC(CCNC(=O)c3c(Cl)c(C)nn3C)C2=O)c(C)c1',\n",
       " 'NC(=O)c1c(C(=O)[O-])[nH]c2ccccc12',\n",
       " 'CCCOc1ccc(Oc2ccc(S(=O)(=O)c3cc(CC(=O)[O-])cc(OCC4CC4)c3)cc2)cc1',\n",
       " 'Nc1nc(N2CCOCC2)nn1C1=NCCCS1',\n",
       " 'CCc1ccc(C(=O)N2CCOC3(CC[NH+](Cc4cccc(CC[NH2+]CC(O)c5ccc(O)c6[nH]c(=O)ccc56)c4)CC3)C2)s1',\n",
       " 'CCC(C)Oc1cc(C(=O)N2CC(CC)OC3(CCOC3)C2)ccn1',\n",
       " 'O=C(CC1C[NH2+]CCO1)N1CCC2(CCC(=O)N(CCc3ccccc3)C2)CC1',\n",
       " 'O=C(Nc1cnn(Cc2ccccc2)c1)C1CCN(C(=O)C2CC2)CC1',\n",
       " 'CSc1nc(NN)cc(Oc2ccccc2SC)n1',\n",
       " 'CNC(=O)C1c2cc(-c3cccc(C(=O)NCc4ccc(F)cc4)c3)ccc2OC1c1ccc(F)cc1',\n",
       " 'Cc1nc(-c2ccc(NC(=O)CSc3nncn3-c3cccc(Cl)c3)cc2)cs1',\n",
       " 'CCOC(=O)c1cccc(Nc2ncnc(N3CCN(c4ccc(OC)cc4)CC3)c2N)c1',\n",
       " 'Cc1cc(N=[N+]=[N-])c(OCCOCCO)cc1OCCOCCO',\n",
       " 'O=C(COc1ccc(C2=NNC(=O)NC2)cc1Cl)NC(Cc1ccccc1)C(=O)[O-]',\n",
       " 'CC(C)C(C)S(=O)CCC(=O)Nc1cccc(N)c1',\n",
       " 'CC(C#N)(C(=O)[O-])c1cc[nH]c1',\n",
       " 'COC(=O)C(O)c1cc2c(c(C)c1Br)OCCO2',\n",
       " 'C[NH2+]C(Cc1ccc(Cl)cc1F)C1(C)CCCCO1',\n",
       " 'CCCc1cc(N2CCC(n3cnc4c(C(C)C)cccc43)CC2)ncn1',\n",
       " 'C[NH+]1CCCC1Nc1nc(NCC2CCCCC2)nc(Nc2ccc(O)c(F)c2)n1',\n",
       " 'Cc1c(NC(=O)C[NH+]2CCC(C(=O)NCC(=O)Nc3cc(C(=O)Nc4ccccc4)ccc3Cl)CC2)cccc1C(=O)N1CCC(C)CC1',\n",
       " 'COc1ccccc1-c1ccc(N2CC[NH+](C)CC2)c(C=CC(=O)c2ccc(O)c(F)c2)c1',\n",
       " 'COCCn1c(SC(C)c2nc(C)no2)nnc1-c1ccncc1',\n",
       " 'Nc1ccc(-c2[nH]c(-c3c(F)cccc3F)nc2-c2ccccc2)nc1N',\n",
       " 'O=C(Nc1c(Cl)cccc1Cl)C1CC(=O)N(c2ccccc2)C1',\n",
       " 'CC(=O)N1N=C(c2cccnc2)OC1c1ccccc1[N+](=O)[O-]',\n",
       " 'CN(C)S(=O)(=O)c1cccc(C(=O)NC2CCC(c3ccccc3)CC2)c1',\n",
       " 'CSCCC(NC(=O)c1ccccc1Cl)C(=O)Nc1cccc(-c2nc3ccccc3[nH]2)c1',\n",
       " 'Fc1ccc(C(F)(F)F)cc1-n1cc(-c2ccncn2)cn1',\n",
       " 'CCN(CC(=O)Nc1ccccc1C(F)(F)F)C(=O)Cc1cccc2ccccc12',\n",
       " 'COC(C)c1cccnc1C1=CC2=CC3=NC(=CC4=NC(=CC5=NC(=CC1=N2)C=C5)C=C4)C=C3',\n",
       " 'O=C([O-])C1(c2ccccc2O)[NH2+]C=CO1',\n",
       " 'O=C(NCc1cc(C(=O)c2cc3c(c(Cl)c2Cl)OC(CO)C3)ccc1O)OCc1ccccc1',\n",
       " 'N#Cc1cccnc1NC1COCC1n1nc(-n2cccn2)ccc1=O',\n",
       " 'Cc1ccc(-c2nsc(CC[NH3+])n2)cc1C',\n",
       " 'CC(NC(=O)C1CC[NH+](C(C)C(=O)Nc2ccc(Cl)c(C(=O)Nc3ccccc3)c2)CC1)C(=O)Nc1cc(C(=O)N2CCCCC2)ccc1Cl',\n",
       " 'Cc1nnc2ccc(-c3ccc(NC(=O)CCC(=O)c4ccccc4)cc3)nn12',\n",
       " 'COC(CNC(=O)c1ccc(Cl)cc1Cl)OC',\n",
       " 'C[NH2+]CCCN(C)C(=O)c1cc(Cl)nc(C(C)(C)C)c1',\n",
       " 'Cc1ccc(C=C2C(=[NH2+])N3N=CSC3=[NH+]C2=O)o1',\n",
       " 'C[NH2+]C(c1cc(Cl)ccc1I)C(C)C',\n",
       " 'Cc1cc(C(=O)NCCC[NH+]2CCN(c3ccccc3F)CC2)on1',\n",
       " 'COC1(C[NH2+]C2CNC2)CCOC1',\n",
       " 'CCOc1ccccc1-c1nnc(SCC(=O)NCc2cccs2)o1',\n",
       " 'COC(=O)NC1CC[NH+](Cc2cc(Cl)cc(Cl)c2O)C1',\n",
       " 'CC(C)n1ccc(C(=O)Nc2ccn(C(C)(C)C(=O)[O-])n2)n1',\n",
       " 'C(=C1NSNS1)c1ccccc1',\n",
       " 'CC1=Nc2ccccc2NC(c2ccccc2C(F)(F)F)C1C(=O)[O-]',\n",
       " 'CC1(C)C2CCC(C2)C1([NH3+])CC(=O)[O-]',\n",
       " 'CC(C)c1ccc(C([NH3+])c2cc(Br)ccc2Br)cc1',\n",
       " 'CCOc1ccc(SCC(=O)Nc2ccc(OC)cc2)cc1',\n",
       " 'CC(C)(C)C(=O)Nc1cncc(-c2cnc3n[nH]c(-c4nc5nccc(-c6ccccn6)c5[nH]4)c3c2F)c1',\n",
       " 'CCC[NH2+]C1CC(C)CC(C)C1N(CCOC)CC(C)C',\n",
       " 'CCN(Cc1ccc(Cl)c(Cl)c1)C(=O)c1ccc(Br)o1',\n",
       " 'CCN(CC)S(=O)(=O)c1ccc(Cl)c(NC(=O)C2CCC2)c1',\n",
       " 'COCCC(C)(C)C[NH2+]Cc1nnc(C)o1',\n",
       " 'CC1CCC(N(C)C(=O)Cn2cnc3c2c(=O)n(C)c(=O)n3C)CC1',\n",
       " 'CC(C)N(CCCO)C(=O)C=Cc1ccc(F)cc1',\n",
       " 'O=C(NC(NC1CCCC1)=[NH+]C1CC(c2ccc(Cl)cc2)NN1)c1ccc(Cl)c(F)c1',\n",
       " 'CCC1CN(C(=O)c2cncs2)CCC1[NH3+]',\n",
       " 'Cc1cc(C)c(NC=C(C#N)c2nc(-c3cc4cc([N+](=O)[O-])ccc4oc3=O)cs2)c(C)c1',\n",
       " 'Cc1ccsc1CCC(=O)NCc1cncc(-c2ccco2)c1',\n",
       " 'CCOc1cccnc1N(C)CC(C)Cl',\n",
       " 'Nc1cc(F)cc(S(=O)(=O)CC(=O)N2CCCCC2)c1',\n",
       " 'CCc1ccc(C(NN)c2ccsc2C)s1',\n",
       " 'CCN(C(=O)Cn1cc2c(c1)C([NH2+]C)CCCC2)C1CC1',\n",
       " 'CCn1cc(C[NH+]2CCCC3(CCC(=O)N(CCC(C)C)C3)C2)cn1',\n",
       " 'O=C(NCc1cccc(Cl)c1)c1noc2c1CCCC2',\n",
       " 'CC(C)c1cc(CCCCCCCCCc2cc(C(C)C)c(O)c(C(C)(C)C)c2)cc(C(C)(C)C)c1O',\n",
       " 'CC1(C)OB(c2ccc(F)c(NC(=O)c3cc4c(s3)C3CCC4C3)c2)OC1(C)C',\n",
       " 'COc1ccc2c(c1)c(=O)c(S(=O)(=O)c1ccc(F)cc1)cn2CC(=O)Nc1cccc(C)c1',\n",
       " 'COc1ccc(NC(=O)c2ccco2)cc1OCC[NH+](C(C)C)C(C)C',\n",
       " 'Cc1ncnc(NCCOc2ccccc2Cl)c1C',\n",
       " '[NH3+]C(CSc1ncccn1)c1ccc(F)c(F)c1',\n",
       " 'CC(C)Oc1cccc2[nH]cc(C(=O)C3CCCCC3)c12',\n",
       " 'COc1cccc2c1C([NH3+])(C(=O)[O-])CC(C)(C)O2',\n",
       " 'CN(Cc1ccsc1)C(=O)C1(C(F)(F)F)CCNC1',\n",
       " ...]"
      ]
     },
     "execution_count": 152,
     "metadata": {},
     "output_type": "execute_result"
    }
   ],
   "source": [
    "smile_less_120_list"
   ]
  },
  {
   "cell_type": "markdown",
   "metadata": {},
   "source": [
    "# PubChem < 140"
   ]
  },
  {
   "cell_type": "code",
   "execution_count": 7,
   "metadata": {},
   "outputs": [],
   "source": [
    "path_zinc = '/nfs/turbo/umms-welchjd/hengshi/perturb_gan/data/smiles/pubchem'\n",
    "zinc_name = 'pubchem_canon.csv'\n",
    "\n",
    "# Canonization\n",
    "pubchem_data = pd.read_csv(os.path.join(path_zinc, zinc_name))\n",
    "key_use = list(CHAR_INDICES.keys())\n",
    "\n",
    "smiles_list = list(pubchem_data.iloc[:, 1])"
   ]
  },
  {
   "cell_type": "code",
   "execution_count": 8,
   "metadata": {},
   "outputs": [],
   "source": [
    "charset_list = []\n",
    "len_list = []\n",
    "smaller = []\n",
    "for i in smiles_list:\n",
    "    if len(i) < 140:\n",
    "        smaller.append(i)\n",
    "        for j in i:\n",
    "            if j not in charset_list:\n",
    "                charset_list.append(j)\n",
    "        len_list.append(len(i))\n",
    "max_len = max(len_list)"
   ]
  },
  {
   "cell_type": "code",
   "execution_count": 9,
   "metadata": {},
   "outputs": [
    {
     "ename": "NameError",
     "evalue": "name 'charset_188_list' is not defined",
     "output_type": "error",
     "traceback": [
      "\u001b[0;31m---------------------------------------------------------------------------\u001b[0m",
      "\u001b[0;31mNameError\u001b[0m                                 Traceback (most recent call last)",
      "\u001b[0;32m<ipython-input-9-c02a289cb0bb>\u001b[0m in \u001b[0;36m<module>\u001b[0;34m\u001b[0m\n\u001b[0;32m----> 1\u001b[0;31m \u001b[0mlist\u001b[0m\u001b[0;34m(\u001b[0m\u001b[0mset\u001b[0m\u001b[0;34m(\u001b[0m\u001b[0mcharset_list\u001b[0m\u001b[0;34m)\u001b[0m \u001b[0;34m-\u001b[0m \u001b[0mset\u001b[0m\u001b[0;34m(\u001b[0m\u001b[0mcharset_188_list\u001b[0m\u001b[0;34m)\u001b[0m\u001b[0;34m)\u001b[0m\u001b[0;34m\u001b[0m\u001b[0;34m\u001b[0m\u001b[0m\n\u001b[0m",
      "\u001b[0;31mNameError\u001b[0m: name 'charset_188_list' is not defined"
     ]
    }
   ],
   "source": [
    "list(set(charset_list) - set(charset_188_list))"
   ]
  },
  {
   "cell_type": "code",
   "execution_count": null,
   "metadata": {},
   "outputs": [],
   "source": [
    "list(set(charset_list) - set(charset_lincs_list))"
   ]
  },
  {
   "cell_type": "code",
   "execution_count": 125,
   "metadata": {},
   "outputs": [],
   "source": [
    "specialLincsList = list(set(charset_lincs_list) - set(charset_list))"
   ]
  },
  {
   "cell_type": "code",
   "execution_count": 127,
   "metadata": {},
   "outputs": [],
   "source": [
    "# shorter than MAX_LEN\n",
    "smiles_list_trans = []\n",
    "for t in specialLincsList:\n",
    "    a = 0\n",
    "    for i in smiles_linc_list:\n",
    "        if (t in i) & (len(i) <= MAX_LEN):\n",
    "            a += 1\n",
    "    smiles_list_trans.append(a)\n"
   ]
  },
  {
   "cell_type": "code",
   "execution_count": 128,
   "metadata": {},
   "outputs": [
    {
     "data": {
      "text/html": [
       "<div>\n",
       "<style scoped>\n",
       "    .dataframe tbody tr th:only-of-type {\n",
       "        vertical-align: middle;\n",
       "    }\n",
       "\n",
       "    .dataframe tbody tr th {\n",
       "        vertical-align: top;\n",
       "    }\n",
       "\n",
       "    .dataframe thead th {\n",
       "        text-align: right;\n",
       "    }\n",
       "</style>\n",
       "<table border=\"1\" class=\"dataframe\">\n",
       "  <thead>\n",
       "    <tr style=\"text-align: right;\">\n",
       "      <th></th>\n",
       "      <th>Token</th>\n",
       "      <th>Number</th>\n",
       "    </tr>\n",
       "  </thead>\n",
       "  <tbody>\n",
       "    <tr>\n",
       "      <th>0</th>\n",
       "      <td>.</td>\n",
       "      <td>33</td>\n",
       "    </tr>\n",
       "    <tr>\n",
       "      <th>1</th>\n",
       "      <td>@</td>\n",
       "      <td>15617</td>\n",
       "    </tr>\n",
       "    <tr>\n",
       "      <th>2</th>\n",
       "      <td>\\</td>\n",
       "      <td>214</td>\n",
       "    </tr>\n",
       "    <tr>\n",
       "      <th>3</th>\n",
       "      <td>/</td>\n",
       "      <td>1075</td>\n",
       "    </tr>\n",
       "  </tbody>\n",
       "</table>\n",
       "</div>"
      ],
      "text/plain": [
       "  Token  Number\n",
       "0     .      33\n",
       "1     @   15617\n",
       "2     \\     214\n",
       "3     /    1075"
      ]
     },
     "execution_count": 128,
     "metadata": {},
     "output_type": "execute_result"
    }
   ],
   "source": [
    "pd.DataFrame({'Token': specialLincsList, 'Number': smiles_list_trans})"
   ]
  },
  {
   "cell_type": "code",
   "execution_count": null,
   "metadata": {},
   "outputs": [],
   "source": []
  },
  {
   "cell_type": "code",
   "execution_count": 68,
   "metadata": {},
   "outputs": [
    {
     "data": {
      "text/plain": [
       "['g',\n",
       " 'y',\n",
       " 'i',\n",
       " 'e',\n",
       " 'D',\n",
       " 'b',\n",
       " 'h',\n",
       " '%',\n",
       " 'u',\n",
       " 'p',\n",
       " 'Z',\n",
       " 'a',\n",
       " 'E',\n",
       " 'Y',\n",
       " 'd',\n",
       " 'f',\n",
       " 'W',\n",
       " '0',\n",
       " 'M',\n",
       " 'R',\n",
       " 'X',\n",
       " 'U',\n",
       " 'A',\n",
       " '9',\n",
       " 'V',\n",
       " 't',\n",
       " 'm',\n",
       " 'K',\n",
       " 'G',\n",
       " 'L',\n",
       " 'T']"
      ]
     },
     "execution_count": 68,
     "metadata": {},
     "output_type": "execute_result"
    }
   ],
   "source": [
    "list(set(charset_list) - set(key_use))"
   ]
  },
  {
   "cell_type": "code",
   "execution_count": 78,
   "metadata": {},
   "outputs": [],
   "source": [
    "list_token_188 = list(set(charset_188_list) - set(charset_list))"
   ]
  },
  {
   "cell_type": "code",
   "execution_count": 77,
   "metadata": {},
   "outputs": [
    {
     "data": {
      "text/plain": [
       "['@', ' ', '\\\\', '/']"
      ]
     },
     "execution_count": 77,
     "metadata": {},
     "output_type": "execute_result"
    }
   ],
   "source": [
    "list(set(key_use) - set(charset_list))"
   ]
  },
  {
   "cell_type": "code",
   "execution_count": 85,
   "metadata": {},
   "outputs": [
    {
     "data": {
      "text/plain": [
       "['*', '.', 'a']"
      ]
     },
     "execution_count": 85,
     "metadata": {},
     "output_type": "execute_result"
    }
   ],
   "source": [
    "list_token_188 = list(set(charset_188_list) - set(key_use))\n",
    "list_token_188 "
   ]
  },
  {
   "cell_type": "code",
   "execution_count": 86,
   "metadata": {},
   "outputs": [],
   "source": [
    "num_list = []\n",
    "\n",
    "for t in list_token_188:\n",
    "    a = 0\n",
    "    for i in chem_188:\n",
    "        if t in i:\n",
    "            a += 1\n",
    "    num_list.append(a)\n"
   ]
  },
  {
   "cell_type": "code",
   "execution_count": 87,
   "metadata": {},
   "outputs": [
    {
     "data": {
      "text/html": [
       "<div>\n",
       "<style scoped>\n",
       "    .dataframe tbody tr th:only-of-type {\n",
       "        vertical-align: middle;\n",
       "    }\n",
       "\n",
       "    .dataframe tbody tr th {\n",
       "        vertical-align: top;\n",
       "    }\n",
       "\n",
       "    .dataframe thead th {\n",
       "        text-align: right;\n",
       "    }\n",
       "</style>\n",
       "<table border=\"1\" class=\"dataframe\">\n",
       "  <thead>\n",
       "    <tr style=\"text-align: right;\">\n",
       "      <th></th>\n",
       "      <th>Token</th>\n",
       "      <th>Number</th>\n",
       "    </tr>\n",
       "  </thead>\n",
       "  <tbody>\n",
       "    <tr>\n",
       "      <th>0</th>\n",
       "      <td>*</td>\n",
       "      <td>1</td>\n",
       "    </tr>\n",
       "    <tr>\n",
       "      <th>1</th>\n",
       "      <td>.</td>\n",
       "      <td>29</td>\n",
       "    </tr>\n",
       "    <tr>\n",
       "      <th>2</th>\n",
       "      <td>a</td>\n",
       "      <td>6</td>\n",
       "    </tr>\n",
       "  </tbody>\n",
       "</table>\n",
       "</div>"
      ],
      "text/plain": [
       "  Token  Number\n",
       "0     *       1\n",
       "1     .      29\n",
       "2     a       6"
      ]
     },
     "execution_count": 87,
     "metadata": {},
     "output_type": "execute_result"
    }
   ],
   "source": [
    "pd.DataFrame({'Token': list_token_188, 'Number': num_list})"
   ]
  },
  {
   "cell_type": "code",
   "execution_count": 84,
   "metadata": {},
   "outputs": [
    {
     "data": {
      "text/plain": [
       "[1, 29, 6]"
      ]
     },
     "execution_count": 84,
     "metadata": {},
     "output_type": "execute_result"
    }
   ],
   "source": [
    "num_list"
   ]
  },
  {
   "cell_type": "code",
   "execution_count": 88,
   "metadata": {},
   "outputs": [
    {
     "data": {
      "text/plain": [
       "['g',\n",
       " 'y',\n",
       " 'i',\n",
       " 'e',\n",
       " '7',\n",
       " 'D',\n",
       " 'b',\n",
       " 'h',\n",
       " '6',\n",
       " '%',\n",
       " 'u',\n",
       " 'p',\n",
       " 'Z',\n",
       " '8',\n",
       " 'E',\n",
       " 'Y',\n",
       " 'd',\n",
       " 'f',\n",
       " 'W',\n",
       " '0',\n",
       " 'R',\n",
       " 'M',\n",
       " 'X',\n",
       " 'U',\n",
       " 'A',\n",
       " '9',\n",
       " 'V',\n",
       " 't',\n",
       " 'm',\n",
       " 'K',\n",
       " 'G',\n",
       " 'L',\n",
       " 'T']"
      ]
     },
     "execution_count": 88,
     "metadata": {},
     "output_type": "execute_result"
    }
   ],
   "source": [
    "list(set(charset_list) - set(charset_188_list))"
   ]
  },
  {
   "cell_type": "markdown",
   "metadata": {},
   "source": [
    "# Analysis on 4 SMILE datasets"
   ]
  },
  {
   "cell_type": "code",
   "execution_count": 8,
   "metadata": {},
   "outputs": [],
   "source": [
    "# ZINC data\n",
    "char_zinc = yaml.safe_load(open(\"../models/zinc/zinc.json\"))\n",
    "zinc_data = pd.read_csv('../250k_rndm_zinc_drugs_clean_3.csv')\n",
    "smiles_zinc_list = list(zinc_data['smiles'])\n",
    "\n",
    "charset_zinc = []\n",
    "len_zinc = []\n",
    "for i in smiles_zinc_list:\n",
    "    for j in i:\n",
    "        if j not in charset_zinc:\n",
    "            charset_zinc.append(j)\n",
    "    len_zinc.append(len(i))\n",
    "max_len = max(len_zinc)"
   ]
  },
  {
   "cell_type": "code",
   "execution_count": 9,
   "metadata": {},
   "outputs": [
    {
     "data": {
      "text/plain": [
       "110"
      ]
     },
     "execution_count": 9,
     "metadata": {},
     "output_type": "execute_result"
    }
   ],
   "source": [
    "max_len"
   ]
  },
  {
   "cell_type": "code",
   "execution_count": 10,
   "metadata": {},
   "outputs": [
    {
     "data": {
      "text/plain": [
       "['\\n']"
      ]
     },
     "execution_count": 10,
     "metadata": {},
     "output_type": "execute_result"
    }
   ],
   "source": [
    "list(set(charset_zinc) - set(char_zinc))"
   ]
  },
  {
   "cell_type": "code",
   "execution_count": 11,
   "metadata": {},
   "outputs": [
    {
     "data": {
      "text/plain": [
       "[' ']"
      ]
     },
     "execution_count": 11,
     "metadata": {},
     "output_type": "execute_result"
    }
   ],
   "source": [
    "list(set(char_zinc) - set(charset_zinc) )"
   ]
  },
  {
   "cell_type": "code",
   "execution_count": 12,
   "metadata": {},
   "outputs": [],
   "source": [
    "# 188 data\n",
    "path_data = '/nfs/turbo/umms-welchjd/hengshi/GAN/data/sciPlex/sciPlex3/'\n",
    "data_188 = pd.read_csv(os.path.join(path_data, 'emb_named_chemvae_canonize.csv'))\n",
    "smiles_188_list = list(data_188['Structure_Canonize'])\n",
    "\n",
    "\n",
    "charset_188 = []\n",
    "len_188 = []\n",
    "for i in smiles_188_list:\n",
    "    for j in i:\n",
    "        if j not in charset_188:\n",
    "            charset_188.append(j)\n",
    "    len_188.append(len(i))\n",
    "max_188 = max(len_188)"
   ]
  },
  {
   "cell_type": "code",
   "execution_count": 13,
   "metadata": {},
   "outputs": [
    {
     "data": {
      "text/plain": [
       "139"
      ]
     },
     "execution_count": 13,
     "metadata": {},
     "output_type": "execute_result"
    }
   ],
   "source": [
    "max_188"
   ]
  },
  {
   "cell_type": "code",
   "execution_count": 14,
   "metadata": {},
   "outputs": [
    {
     "data": {
      "text/plain": [
       "['*', '.', 'a']"
      ]
     },
     "execution_count": 14,
     "metadata": {},
     "output_type": "execute_result"
    }
   ],
   "source": [
    "list(set(charset_188) - set(char_zinc))"
   ]
  },
  {
   "cell_type": "code",
   "execution_count": 15,
   "metadata": {},
   "outputs": [
    {
     "data": {
      "text/plain": [
       "['7', ' ', '8', '6']"
      ]
     },
     "execution_count": 15,
     "metadata": {},
     "output_type": "execute_result"
    }
   ],
   "source": [
    "list(set(char_zinc) - set(charset_188))"
   ]
  },
  {
   "cell_type": "code",
   "execution_count": 16,
   "metadata": {},
   "outputs": [],
   "source": [
    "lincs_data = pd.read_csv('/nfs/turbo/umms-welchjd/hengshi/perturb_gan/data/LINCS/oneHot/GSE92742_Broad_LINCS_Level3_INF_mlr12k_n1319138x12328_processed_UniqueCanonicalSmiles.csv')\n",
    "smiles_lincs_originList = list(lincs_data.iloc[:, 1])\n",
    "\n",
    "# canonize\n",
    "smiles_lincs_list = []\n",
    "change_lincs_list = []\n",
    "for i in range(len(smiles_lincs_originList)):\n",
    "    \n",
    "    if smiles_lincs_originList[i] != 'restricted':\n",
    "        smile = mu.canon_smiles(smiles_lincs_originList[i])\n",
    "        if smiles_lincs_originList[i] != smile:\n",
    "            change_lincs_list.append(i)\n",
    "        smiles_lincs_list.append(smile)"
   ]
  },
  {
   "cell_type": "code",
   "execution_count": 56,
   "metadata": {},
   "outputs": [
    {
     "data": {
      "text/html": [
       "<div>\n",
       "<style scoped>\n",
       "    .dataframe tbody tr th:only-of-type {\n",
       "        vertical-align: middle;\n",
       "    }\n",
       "\n",
       "    .dataframe tbody tr th {\n",
       "        vertical-align: top;\n",
       "    }\n",
       "\n",
       "    .dataframe thead th {\n",
       "        text-align: right;\n",
       "    }\n",
       "</style>\n",
       "<table border=\"1\" class=\"dataframe\">\n",
       "  <thead>\n",
       "    <tr style=\"text-align: right;\">\n",
       "      <th></th>\n",
       "      <th>Unnamed: 0</th>\n",
       "      <th>0</th>\n",
       "    </tr>\n",
       "  </thead>\n",
       "  <tbody>\n",
       "    <tr>\n",
       "      <th>0</th>\n",
       "      <td>0</td>\n",
       "      <td>CCCN1CCCC2Cc3n[nH]cc3CC21</td>\n",
       "    </tr>\n",
       "    <tr>\n",
       "      <th>1</th>\n",
       "      <td>1</td>\n",
       "      <td>O=C1CC(Oc2ccccc12)c3ccccc3</td>\n",
       "    </tr>\n",
       "    <tr>\n",
       "      <th>2</th>\n",
       "      <td>2</td>\n",
       "      <td>C[C@@H]1O[C@@H](OC[C@H]2O[C@@H](Oc3c(oc4cc(O)c...</td>\n",
       "    </tr>\n",
       "    <tr>\n",
       "      <th>3</th>\n",
       "      <td>3</td>\n",
       "      <td>N(Cc1ccccc1)c1ncnc2nc[nH]c12</td>\n",
       "    </tr>\n",
       "    <tr>\n",
       "      <th>4</th>\n",
       "      <td>4</td>\n",
       "      <td>C[C@@H](NC(=O)/C(=C/c1ccc(O)c(O)c1)/C#N)c2ccccc2</td>\n",
       "    </tr>\n",
       "  </tbody>\n",
       "</table>\n",
       "</div>"
      ],
      "text/plain": [
       "   Unnamed: 0                                                  0\n",
       "0           0                          CCCN1CCCC2Cc3n[nH]cc3CC21\n",
       "1           1                         O=C1CC(Oc2ccccc12)c3ccccc3\n",
       "2           2  C[C@@H]1O[C@@H](OC[C@H]2O[C@@H](Oc3c(oc4cc(O)c...\n",
       "3           3                       N(Cc1ccccc1)c1ncnc2nc[nH]c12\n",
       "4           4   C[C@@H](NC(=O)/C(=C/c1ccc(O)c(O)c1)/C#N)c2ccccc2"
      ]
     },
     "execution_count": 56,
     "metadata": {},
     "output_type": "execute_result"
    }
   ],
   "source": [
    "lincs_data.head()"
   ]
  },
  {
   "cell_type": "code",
   "execution_count": 17,
   "metadata": {},
   "outputs": [
    {
     "data": {
      "text/plain": [
       "(17939, 20330, 20329)"
      ]
     },
     "execution_count": 17,
     "metadata": {},
     "output_type": "execute_result"
    }
   ],
   "source": [
    "len(change_lincs_list), len(smiles_lincs_originList), len(smiles_lincs_list)"
   ]
  },
  {
   "cell_type": "code",
   "execution_count": 18,
   "metadata": {},
   "outputs": [
    {
     "data": {
      "text/plain": [
       "461"
      ]
     },
     "execution_count": 18,
     "metadata": {},
     "output_type": "execute_result"
    }
   ],
   "source": [
    "charset_lincs = []\n",
    "len_lincs = []\n",
    "for i in smiles_lincs_list:\n",
    "    for j in i:\n",
    "        if j not in charset_lincs:\n",
    "            charset_lincs.append(j)\n",
    "    len_lincs.append(len(i))\n",
    "max_lincs = max(len_lincs)\n",
    "max_lincs"
   ]
  },
  {
   "cell_type": "code",
   "execution_count": 19,
   "metadata": {},
   "outputs": [
    {
     "data": {
      "text/plain": [
       "20329"
      ]
     },
     "execution_count": 19,
     "metadata": {},
     "output_type": "execute_result"
    }
   ],
   "source": [
    "len(len_lincs)"
   ]
  },
  {
   "cell_type": "code",
   "execution_count": 20,
   "metadata": {},
   "outputs": [
    {
     "data": {
      "text/plain": [
       "140"
      ]
     },
     "execution_count": 20,
     "metadata": {},
     "output_type": "execute_result"
    }
   ],
   "source": [
    "charset_140_lincs = []\n",
    "len_140_lincs = []\n",
    "for i in smiles_lincs_list:\n",
    "    if len(i) <= 140:\n",
    "        for j in i:\n",
    "            if j not in charset_140_lincs:\n",
    "                charset_140_lincs.append(j)\n",
    "        len_140_lincs.append(len(i))\n",
    "max_140_lincs = max(len_140_lincs)\n",
    "max_140_lincs"
   ]
  },
  {
   "cell_type": "code",
   "execution_count": 21,
   "metadata": {},
   "outputs": [
    {
     "data": {
      "text/plain": [
       "20113"
      ]
     },
     "execution_count": 21,
     "metadata": {},
     "output_type": "execute_result"
    }
   ],
   "source": [
    "len(len_140_lincs)"
   ]
  },
  {
   "cell_type": "code",
   "execution_count": 22,
   "metadata": {},
   "outputs": [
    {
     "data": {
      "text/plain": [
       "20065"
      ]
     },
     "execution_count": 22,
     "metadata": {},
     "output_type": "execute_result"
    }
   ],
   "source": [
    "charset_120_lincs = []\n",
    "len_120_lincs = []\n",
    "for i in smiles_lincs_list:\n",
    "    if len(i) <= 120:\n",
    "        for j in i:\n",
    "            if j not in charset_120_lincs:\n",
    "                charset_120_lincs.append(j)\n",
    "        len_120_lincs.append(len(i))\n",
    "len(len_120_lincs)"
   ]
  },
  {
   "cell_type": "code",
   "execution_count": 23,
   "metadata": {},
   "outputs": [
    {
     "data": {
      "text/plain": [
       "['.', 't', 'A', 'u', 'd', 'e', 'L', 'M', 'i', 'g']"
      ]
     },
     "execution_count": 23,
     "metadata": {},
     "output_type": "execute_result"
    }
   ],
   "source": [
    "list(set(charset_120_lincs) - set(char_zinc))"
   ]
  },
  {
   "cell_type": "code",
   "execution_count": 24,
   "metadata": {},
   "outputs": [
    {
     "data": {
      "text/plain": [
       "[' ']"
      ]
     },
     "execution_count": 24,
     "metadata": {},
     "output_type": "execute_result"
    }
   ],
   "source": [
    "list(set(char_zinc) - set(charset_120_lincs) )"
   ]
  },
  {
   "cell_type": "code",
   "execution_count": 25,
   "metadata": {},
   "outputs": [
    {
     "data": {
      "text/plain": [
       "['a']"
      ]
     },
     "execution_count": 25,
     "metadata": {},
     "output_type": "execute_result"
    }
   ],
   "source": [
    "list(set(charset_140_lincs) - set(charset_120_lincs))"
   ]
  },
  {
   "cell_type": "code",
   "execution_count": 26,
   "metadata": {},
   "outputs": [],
   "source": [
    "# PubChem\n",
    "path_zinc = '/nfs/turbo/umms-welchjd/hengshi/perturb_gan/data/smiles/pubchem'\n",
    "zinc_name = 'pubchem_canon.csv'\n",
    "pubchem_data = pd.read_csv(os.path.join(path_zinc, zinc_name))\n",
    "smiles_pubchem_list = list(pubchem_data.iloc[:, 1])"
   ]
  },
  {
   "cell_type": "code",
   "execution_count": 27,
   "metadata": {},
   "outputs": [
    {
     "data": {
      "text/plain": [
       "9952001"
      ]
     },
     "execution_count": 27,
     "metadata": {},
     "output_type": "execute_result"
    }
   ],
   "source": [
    "charset_140_pc = []\n",
    "len_140_pc = []\n",
    "for i in smiles_pubchem_list:\n",
    "    if len(i) <= 140:\n",
    "        for j in i:\n",
    "            if j not in charset_140_pc:\n",
    "                charset_140_pc.append(j)\n",
    "        len_140_pc.append(len(i))\n",
    "len(len_140_pc)"
   ]
  },
  {
   "cell_type": "code",
   "execution_count": 28,
   "metadata": {},
   "outputs": [
    {
     "data": {
      "text/plain": [
       "['.', '\\\\', '/', '@']"
      ]
     },
     "execution_count": 28,
     "metadata": {},
     "output_type": "execute_result"
    }
   ],
   "source": [
    "list(set(charset_140_lincs) - set(charset_140_pc))"
   ]
  },
  {
   "cell_type": "code",
   "execution_count": 29,
   "metadata": {},
   "outputs": [
    {
     "data": {
      "text/plain": [
       "['0',\n",
       " 'y',\n",
       " '9',\n",
       " 'U',\n",
       " 'Y',\n",
       " 'T',\n",
       " 'Z',\n",
       " 'V',\n",
       " 'G',\n",
       " 'K',\n",
       " 'E',\n",
       " 'b',\n",
       " 'X',\n",
       " 'p',\n",
       " 'm',\n",
       " 'D',\n",
       " 'R',\n",
       " '%',\n",
       " 'W',\n",
       " 'f',\n",
       " 'h']"
      ]
     },
     "execution_count": 29,
     "metadata": {},
     "output_type": "execute_result"
    }
   ],
   "source": [
    "list(set(charset_140_pc) - set(charset_140_lincs))"
   ]
  },
  {
   "cell_type": "code",
   "execution_count": 30,
   "metadata": {},
   "outputs": [
    {
     "data": {
      "text/plain": [
       "['*', '\\\\', '.', '@', '/']"
      ]
     },
     "execution_count": 30,
     "metadata": {},
     "output_type": "execute_result"
    }
   ],
   "source": [
    "list(set(charset_188) - set(charset_140_pc))"
   ]
  },
  {
   "cell_type": "code",
   "execution_count": 31,
   "metadata": {},
   "outputs": [
    {
     "data": {
      "text/plain": [
       "['0',\n",
       " 'y',\n",
       " 'A',\n",
       " '9',\n",
       " 'U',\n",
       " 'L',\n",
       " 'Y',\n",
       " 'g',\n",
       " 'T',\n",
       " 't',\n",
       " 'Z',\n",
       " 'V',\n",
       " 'G',\n",
       " 'K',\n",
       " 'E',\n",
       " 'e',\n",
       " 'u',\n",
       " 'b',\n",
       " 'X',\n",
       " 'd',\n",
       " '7',\n",
       " 'p',\n",
       " 'm',\n",
       " 'M',\n",
       " 'i',\n",
       " 'D',\n",
       " 'R',\n",
       " '%',\n",
       " '8',\n",
       " 'W',\n",
       " '6',\n",
       " 'f',\n",
       " 'h']"
      ]
     },
     "execution_count": 31,
     "metadata": {},
     "output_type": "execute_result"
    }
   ],
   "source": [
    "list(set(charset_140_pc) - set(charset_188))"
   ]
  },
  {
   "cell_type": "code",
   "execution_count": 32,
   "metadata": {},
   "outputs": [
    {
     "data": {
      "text/html": [
       "<div>\n",
       "<style scoped>\n",
       "    .dataframe tbody tr th:only-of-type {\n",
       "        vertical-align: middle;\n",
       "    }\n",
       "\n",
       "    .dataframe tbody tr th {\n",
       "        vertical-align: top;\n",
       "    }\n",
       "\n",
       "    .dataframe thead th {\n",
       "        text-align: right;\n",
       "    }\n",
       "</style>\n",
       "<table border=\"1\" class=\"dataframe\">\n",
       "  <thead>\n",
       "    <tr style=\"text-align: right;\">\n",
       "      <th></th>\n",
       "      <th>Token</th>\n",
       "      <th>Number</th>\n",
       "      <th>Percentage</th>\n",
       "    </tr>\n",
       "  </thead>\n",
       "  <tbody>\n",
       "    <tr>\n",
       "      <th>0</th>\n",
       "      <td>*</td>\n",
       "      <td>1</td>\n",
       "      <td>0.53</td>\n",
       "    </tr>\n",
       "    <tr>\n",
       "      <th>1</th>\n",
       "      <td>.</td>\n",
       "      <td>29</td>\n",
       "      <td>15.43</td>\n",
       "    </tr>\n",
       "    <tr>\n",
       "      <th>2</th>\n",
       "      <td>a</td>\n",
       "      <td>6</td>\n",
       "      <td>3.19</td>\n",
       "    </tr>\n",
       "  </tbody>\n",
       "</table>\n",
       "</div>"
      ],
      "text/plain": [
       "  Token  Number  Percentage\n",
       "0     *       1        0.53\n",
       "1     .      29       15.43\n",
       "2     a       6        3.19"
      ]
     },
     "execution_count": 32,
     "metadata": {},
     "output_type": "execute_result"
    }
   ],
   "source": [
    "# 188 alignment to ZINC\n",
    "specialList = list(set(charset_188) - set(char_zinc))\n",
    "smiles_list_trans = []\n",
    "for t in specialList:\n",
    "    a = 0\n",
    "    for i in smiles_188_list:\n",
    "        if (t in i) & (len(i) <= 120):\n",
    "            a += 1\n",
    "    smiles_list_trans.append(a)\n",
    "n188ToZINC = np.sum(smiles_list_trans)\n",
    "pd.DataFrame({'Token': specialList, 'Number': smiles_list_trans, 'Percentage': [round(float(i/188) * 100, 2) for i in smiles_list_trans]})"
   ]
  },
  {
   "cell_type": "code",
   "execution_count": 33,
   "metadata": {},
   "outputs": [
    {
     "data": {
      "text/html": [
       "<div>\n",
       "<style scoped>\n",
       "    .dataframe tbody tr th:only-of-type {\n",
       "        vertical-align: middle;\n",
       "    }\n",
       "\n",
       "    .dataframe tbody tr th {\n",
       "        vertical-align: top;\n",
       "    }\n",
       "\n",
       "    .dataframe thead th {\n",
       "        text-align: right;\n",
       "    }\n",
       "</style>\n",
       "<table border=\"1\" class=\"dataframe\">\n",
       "  <thead>\n",
       "    <tr style=\"text-align: right;\">\n",
       "      <th></th>\n",
       "      <th>Token</th>\n",
       "      <th>Number</th>\n",
       "      <th>Percentage</th>\n",
       "    </tr>\n",
       "  </thead>\n",
       "  <tbody>\n",
       "    <tr>\n",
       "      <th>0</th>\n",
       "      <td>.</td>\n",
       "      <td>33</td>\n",
       "      <td>0.16</td>\n",
       "    </tr>\n",
       "    <tr>\n",
       "      <th>1</th>\n",
       "      <td>t</td>\n",
       "      <td>2</td>\n",
       "      <td>0.01</td>\n",
       "    </tr>\n",
       "    <tr>\n",
       "      <th>2</th>\n",
       "      <td>A</td>\n",
       "      <td>5</td>\n",
       "      <td>0.02</td>\n",
       "    </tr>\n",
       "    <tr>\n",
       "      <th>3</th>\n",
       "      <td>u</td>\n",
       "      <td>2</td>\n",
       "      <td>0.01</td>\n",
       "    </tr>\n",
       "    <tr>\n",
       "      <th>4</th>\n",
       "      <td>d</td>\n",
       "      <td>1</td>\n",
       "      <td>0.00</td>\n",
       "    </tr>\n",
       "    <tr>\n",
       "      <th>5</th>\n",
       "      <td>e</td>\n",
       "      <td>1</td>\n",
       "      <td>0.00</td>\n",
       "    </tr>\n",
       "    <tr>\n",
       "      <th>6</th>\n",
       "      <td>L</td>\n",
       "      <td>1</td>\n",
       "      <td>0.00</td>\n",
       "    </tr>\n",
       "    <tr>\n",
       "      <th>7</th>\n",
       "      <td>M</td>\n",
       "      <td>1</td>\n",
       "      <td>0.00</td>\n",
       "    </tr>\n",
       "    <tr>\n",
       "      <th>8</th>\n",
       "      <td>i</td>\n",
       "      <td>19</td>\n",
       "      <td>0.09</td>\n",
       "    </tr>\n",
       "    <tr>\n",
       "      <th>9</th>\n",
       "      <td>g</td>\n",
       "      <td>3</td>\n",
       "      <td>0.01</td>\n",
       "    </tr>\n",
       "  </tbody>\n",
       "</table>\n",
       "</div>"
      ],
      "text/plain": [
       "  Token  Number  Percentage\n",
       "0     .      33        0.16\n",
       "1     t       2        0.01\n",
       "2     A       5        0.02\n",
       "3     u       2        0.01\n",
       "4     d       1        0.00\n",
       "5     e       1        0.00\n",
       "6     L       1        0.00\n",
       "7     M       1        0.00\n",
       "8     i      19        0.09\n",
       "9     g       3        0.01"
      ]
     },
     "execution_count": 33,
     "metadata": {},
     "output_type": "execute_result"
    }
   ],
   "source": [
    "# lincs alignment to ZINC\n",
    "specialList = list(set(charset_120_lincs) - set(char_zinc))\n",
    "smiles_list_trans = []\n",
    "for t in specialList:\n",
    "    a = 0\n",
    "    for i in smiles_lincs_list:\n",
    "        if (t in i) & (len(i) <= 120):\n",
    "            a += 1\n",
    "    smiles_list_trans.append(a)\n",
    "nLINCSToZINC = np.sum(smiles_list_trans)\n",
    "pd.DataFrame({'Token': specialList, 'Number': smiles_list_trans, 'Percentage': [round(float(i/len(len_120_lincs)) * 100, 2) for i in smiles_list_trans]})"
   ]
  },
  {
   "cell_type": "code",
   "execution_count": 34,
   "metadata": {},
   "outputs": [
    {
     "data": {
      "text/html": [
       "<div>\n",
       "<style scoped>\n",
       "    .dataframe tbody tr th:only-of-type {\n",
       "        vertical-align: middle;\n",
       "    }\n",
       "\n",
       "    .dataframe tbody tr th {\n",
       "        vertical-align: top;\n",
       "    }\n",
       "\n",
       "    .dataframe thead th {\n",
       "        text-align: right;\n",
       "    }\n",
       "</style>\n",
       "<table border=\"1\" class=\"dataframe\">\n",
       "  <thead>\n",
       "    <tr style=\"text-align: right;\">\n",
       "      <th></th>\n",
       "      <th>Token</th>\n",
       "      <th>Number</th>\n",
       "      <th>Percentage</th>\n",
       "    </tr>\n",
       "  </thead>\n",
       "  <tbody>\n",
       "    <tr>\n",
       "      <th>0</th>\n",
       "      <td>*</td>\n",
       "      <td>1</td>\n",
       "      <td>0.53</td>\n",
       "    </tr>\n",
       "    <tr>\n",
       "      <th>1</th>\n",
       "      <td>\\</td>\n",
       "      <td>10</td>\n",
       "      <td>5.32</td>\n",
       "    </tr>\n",
       "    <tr>\n",
       "      <th>2</th>\n",
       "      <td>.</td>\n",
       "      <td>29</td>\n",
       "      <td>15.43</td>\n",
       "    </tr>\n",
       "    <tr>\n",
       "      <th>3</th>\n",
       "      <td>@</td>\n",
       "      <td>23</td>\n",
       "      <td>12.23</td>\n",
       "    </tr>\n",
       "    <tr>\n",
       "      <th>4</th>\n",
       "      <td>/</td>\n",
       "      <td>32</td>\n",
       "      <td>17.02</td>\n",
       "    </tr>\n",
       "  </tbody>\n",
       "</table>\n",
       "</div>"
      ],
      "text/plain": [
       "  Token  Number  Percentage\n",
       "0     *       1        0.53\n",
       "1     \\      10        5.32\n",
       "2     .      29       15.43\n",
       "3     @      23       12.23\n",
       "4     /      32       17.02"
      ]
     },
     "execution_count": 34,
     "metadata": {},
     "output_type": "execute_result"
    }
   ],
   "source": [
    "# 188 alignment to PubChem\n",
    "specialList = list(set(charset_188) - set(charset_140_pc))\n",
    "smiles_list_trans = []\n",
    "\n",
    "for t in specialList:\n",
    "    a = 0\n",
    "    for i in smiles_188_list:\n",
    "        if (t in i) & (len(i) <= 140):\n",
    "            a += 1\n",
    "    smiles_list_trans.append(a)\n",
    "n188ToPC = np.sum(smiles_list_trans)\n",
    "pd.DataFrame({'Token': specialList, 'Number': smiles_list_trans, 'Percentage': [round(float(i/188) * 100, 2) for i in smiles_list_trans]})"
   ]
  },
  {
   "cell_type": "code",
   "execution_count": 35,
   "metadata": {},
   "outputs": [
    {
     "data": {
      "text/plain": [
       "(5, 5)"
      ]
     },
     "execution_count": 35,
     "metadata": {},
     "output_type": "execute_result"
    }
   ],
   "source": [
    "len(smiles_list_trans), len(specialList)"
   ]
  },
  {
   "cell_type": "code",
   "execution_count": 36,
   "metadata": {},
   "outputs": [
    {
     "data": {
      "text/html": [
       "<div>\n",
       "<style scoped>\n",
       "    .dataframe tbody tr th:only-of-type {\n",
       "        vertical-align: middle;\n",
       "    }\n",
       "\n",
       "    .dataframe tbody tr th {\n",
       "        vertical-align: top;\n",
       "    }\n",
       "\n",
       "    .dataframe thead th {\n",
       "        text-align: right;\n",
       "    }\n",
       "</style>\n",
       "<table border=\"1\" class=\"dataframe\">\n",
       "  <thead>\n",
       "    <tr style=\"text-align: right;\">\n",
       "      <th></th>\n",
       "      <th>Token</th>\n",
       "      <th>Number</th>\n",
       "      <th>Percentage</th>\n",
       "    </tr>\n",
       "  </thead>\n",
       "  <tbody>\n",
       "    <tr>\n",
       "      <th>0</th>\n",
       "      <td>.</td>\n",
       "      <td>40</td>\n",
       "      <td>0.20</td>\n",
       "    </tr>\n",
       "    <tr>\n",
       "      <th>1</th>\n",
       "      <td>\\</td>\n",
       "      <td>224</td>\n",
       "      <td>1.11</td>\n",
       "    </tr>\n",
       "    <tr>\n",
       "      <th>2</th>\n",
       "      <td>/</td>\n",
       "      <td>1088</td>\n",
       "      <td>5.41</td>\n",
       "    </tr>\n",
       "    <tr>\n",
       "      <th>3</th>\n",
       "      <td>@</td>\n",
       "      <td>15661</td>\n",
       "      <td>77.87</td>\n",
       "    </tr>\n",
       "  </tbody>\n",
       "</table>\n",
       "</div>"
      ],
      "text/plain": [
       "  Token  Number  Percentage\n",
       "0     .      40        0.20\n",
       "1     \\     224        1.11\n",
       "2     /    1088        5.41\n",
       "3     @   15661       77.87"
      ]
     },
     "execution_count": 36,
     "metadata": {},
     "output_type": "execute_result"
    }
   ],
   "source": [
    "# lincs alignment to PubChem\n",
    "specialList = list(set(charset_140_lincs) - set(charset_140_pc))\n",
    "smiles_list_trans = []\n",
    "for t in specialList:\n",
    "    a = 0\n",
    "    for i in smiles_lincs_list:\n",
    "        if (t in i) & (len(i) <= 140):\n",
    "            a += 1\n",
    "    smiles_list_trans.append(a)\n",
    "nLINCSToPC = np.sum(smiles_list_trans)\n",
    "pd.DataFrame({'Token': specialList, 'Number': smiles_list_trans, 'Percentage': [round(float(i/len(len_140_lincs)) * 100, 2) for i in smiles_list_trans]})"
   ]
  },
  {
   "cell_type": "code",
   "execution_count": 37,
   "metadata": {},
   "outputs": [
    {
     "data": {
      "text/plain": [
       "(4, 4)"
      ]
     },
     "execution_count": 37,
     "metadata": {},
     "output_type": "execute_result"
    }
   ],
   "source": [
    "len(smiles_list_trans), len(specialList)"
   ]
  },
  {
   "cell_type": "code",
   "execution_count": 42,
   "metadata": {},
   "outputs": [
    {
     "data": {
      "text/html": [
       "<div>\n",
       "<style scoped>\n",
       "    .dataframe tbody tr th:only-of-type {\n",
       "        vertical-align: middle;\n",
       "    }\n",
       "\n",
       "    .dataframe tbody tr th {\n",
       "        vertical-align: top;\n",
       "    }\n",
       "\n",
       "    .dataframe thead th {\n",
       "        text-align: right;\n",
       "    }\n",
       "</style>\n",
       "<table border=\"1\" class=\"dataframe\">\n",
       "  <thead>\n",
       "    <tr style=\"text-align: right;\">\n",
       "      <th></th>\n",
       "      <th>Token</th>\n",
       "      <th>Number</th>\n",
       "      <th>Percentage</th>\n",
       "    </tr>\n",
       "  </thead>\n",
       "  <tbody>\n",
       "    <tr>\n",
       "      <th>0</th>\n",
       "      <td>m</td>\n",
       "      <td>6</td>\n",
       "      <td>0.00</td>\n",
       "    </tr>\n",
       "    <tr>\n",
       "      <th>1</th>\n",
       "      <td>h</td>\n",
       "      <td>25</td>\n",
       "      <td>0.00</td>\n",
       "    </tr>\n",
       "    <tr>\n",
       "      <th>2</th>\n",
       "      <td>E</td>\n",
       "      <td>6</td>\n",
       "      <td>0.00</td>\n",
       "    </tr>\n",
       "    <tr>\n",
       "      <th>3</th>\n",
       "      <td>b</td>\n",
       "      <td>643</td>\n",
       "      <td>0.01</td>\n",
       "    </tr>\n",
       "    <tr>\n",
       "      <th>4</th>\n",
       "      <td>8</td>\n",
       "      <td>12245</td>\n",
       "      <td>0.12</td>\n",
       "    </tr>\n",
       "    <tr>\n",
       "      <th>5</th>\n",
       "      <td>g</td>\n",
       "      <td>612</td>\n",
       "      <td>0.01</td>\n",
       "    </tr>\n",
       "    <tr>\n",
       "      <th>6</th>\n",
       "      <td>D</td>\n",
       "      <td>1</td>\n",
       "      <td>0.00</td>\n",
       "    </tr>\n",
       "    <tr>\n",
       "      <th>7</th>\n",
       "      <td>t</td>\n",
       "      <td>167</td>\n",
       "      <td>0.00</td>\n",
       "    </tr>\n",
       "    <tr>\n",
       "      <th>8</th>\n",
       "      <td>d</td>\n",
       "      <td>16</td>\n",
       "      <td>0.00</td>\n",
       "    </tr>\n",
       "    <tr>\n",
       "      <th>9</th>\n",
       "      <td>y</td>\n",
       "      <td>1</td>\n",
       "      <td>0.00</td>\n",
       "    </tr>\n",
       "    <tr>\n",
       "      <th>10</th>\n",
       "      <td>R</td>\n",
       "      <td>143</td>\n",
       "      <td>0.00</td>\n",
       "    </tr>\n",
       "    <tr>\n",
       "      <th>11</th>\n",
       "      <td>7</td>\n",
       "      <td>31724</td>\n",
       "      <td>0.32</td>\n",
       "    </tr>\n",
       "    <tr>\n",
       "      <th>12</th>\n",
       "      <td>M</td>\n",
       "      <td>57</td>\n",
       "      <td>0.00</td>\n",
       "    </tr>\n",
       "    <tr>\n",
       "      <th>13</th>\n",
       "      <td>%</td>\n",
       "      <td>1398</td>\n",
       "      <td>0.01</td>\n",
       "    </tr>\n",
       "    <tr>\n",
       "      <th>14</th>\n",
       "      <td>Y</td>\n",
       "      <td>12</td>\n",
       "      <td>0.00</td>\n",
       "    </tr>\n",
       "    <tr>\n",
       "      <th>15</th>\n",
       "      <td>T</td>\n",
       "      <td>1136</td>\n",
       "      <td>0.01</td>\n",
       "    </tr>\n",
       "    <tr>\n",
       "      <th>16</th>\n",
       "      <td>Z</td>\n",
       "      <td>60</td>\n",
       "      <td>0.00</td>\n",
       "    </tr>\n",
       "    <tr>\n",
       "      <th>17</th>\n",
       "      <td>0</td>\n",
       "      <td>1398</td>\n",
       "      <td>0.01</td>\n",
       "    </tr>\n",
       "    <tr>\n",
       "      <th>18</th>\n",
       "      <td>W</td>\n",
       "      <td>295</td>\n",
       "      <td>0.00</td>\n",
       "    </tr>\n",
       "    <tr>\n",
       "      <th>19</th>\n",
       "      <td>6</td>\n",
       "      <td>80307</td>\n",
       "      <td>0.81</td>\n",
       "    </tr>\n",
       "    <tr>\n",
       "      <th>20</th>\n",
       "      <td>9</td>\n",
       "      <td>4366</td>\n",
       "      <td>0.04</td>\n",
       "    </tr>\n",
       "    <tr>\n",
       "      <th>21</th>\n",
       "      <td>A</td>\n",
       "      <td>2719</td>\n",
       "      <td>0.03</td>\n",
       "    </tr>\n",
       "    <tr>\n",
       "      <th>22</th>\n",
       "      <td>f</td>\n",
       "      <td>12</td>\n",
       "      <td>0.00</td>\n",
       "    </tr>\n",
       "    <tr>\n",
       "      <th>23</th>\n",
       "      <td>e</td>\n",
       "      <td>9142</td>\n",
       "      <td>0.09</td>\n",
       "    </tr>\n",
       "    <tr>\n",
       "      <th>24</th>\n",
       "      <td>L</td>\n",
       "      <td>7</td>\n",
       "      <td>0.00</td>\n",
       "    </tr>\n",
       "    <tr>\n",
       "      <th>25</th>\n",
       "      <td>U</td>\n",
       "      <td>12</td>\n",
       "      <td>0.00</td>\n",
       "    </tr>\n",
       "    <tr>\n",
       "      <th>26</th>\n",
       "      <td>u</td>\n",
       "      <td>138</td>\n",
       "      <td>0.00</td>\n",
       "    </tr>\n",
       "    <tr>\n",
       "      <th>27</th>\n",
       "      <td>i</td>\n",
       "      <td>95364</td>\n",
       "      <td>0.96</td>\n",
       "    </tr>\n",
       "    <tr>\n",
       "      <th>28</th>\n",
       "      <td>p</td>\n",
       "      <td>1295</td>\n",
       "      <td>0.01</td>\n",
       "    </tr>\n",
       "    <tr>\n",
       "      <th>29</th>\n",
       "      <td>X</td>\n",
       "      <td>14</td>\n",
       "      <td>0.00</td>\n",
       "    </tr>\n",
       "    <tr>\n",
       "      <th>30</th>\n",
       "      <td>G</td>\n",
       "      <td>1278</td>\n",
       "      <td>0.01</td>\n",
       "    </tr>\n",
       "    <tr>\n",
       "      <th>31</th>\n",
       "      <td>K</td>\n",
       "      <td>7</td>\n",
       "      <td>0.00</td>\n",
       "    </tr>\n",
       "    <tr>\n",
       "      <th>32</th>\n",
       "      <td>V</td>\n",
       "      <td>75</td>\n",
       "      <td>0.00</td>\n",
       "    </tr>\n",
       "  </tbody>\n",
       "</table>\n",
       "</div>"
      ],
      "text/plain": [
       "   Token  Number  Percentage\n",
       "0      m       6        0.00\n",
       "1      h      25        0.00\n",
       "2      E       6        0.00\n",
       "3      b     643        0.01\n",
       "4      8   12245        0.12\n",
       "5      g     612        0.01\n",
       "6      D       1        0.00\n",
       "7      t     167        0.00\n",
       "8      d      16        0.00\n",
       "9      y       1        0.00\n",
       "10     R     143        0.00\n",
       "11     7   31724        0.32\n",
       "12     M      57        0.00\n",
       "13     %    1398        0.01\n",
       "14     Y      12        0.00\n",
       "15     T    1136        0.01\n",
       "16     Z      60        0.00\n",
       "17     0    1398        0.01\n",
       "18     W     295        0.00\n",
       "19     6   80307        0.81\n",
       "20     9    4366        0.04\n",
       "21     A    2719        0.03\n",
       "22     f      12        0.00\n",
       "23     e    9142        0.09\n",
       "24     L       7        0.00\n",
       "25     U      12        0.00\n",
       "26     u     138        0.00\n",
       "27     i   95364        0.96\n",
       "28     p    1295        0.01\n",
       "29     X      14        0.00\n",
       "30     G    1278        0.01\n",
       "31     K       7        0.00\n",
       "32     V      75        0.00"
      ]
     },
     "execution_count": 42,
     "metadata": {},
     "output_type": "execute_result"
    }
   ],
   "source": [
    "# PubChem alignment to 188\n",
    "specialList = list(set(charset_140_pc) - set(charset_188))\n",
    "smiles_list_trans = []\n",
    "\n",
    "for t in specialList:\n",
    "    a = 0\n",
    "    for i in smiles_pubchem_list:\n",
    "        if (t in i) & (len(i) <= 140):\n",
    "            a += 1\n",
    "    smiles_list_trans.append(a)\n",
    "nPCTo188 = np.sum(smiles_list_trans)\n",
    "pd.DataFrame({'Token': specialList, 'Number': smiles_list_trans, 'Percentage': [round(float(i/len(len_140_pc)) * 100, 2) for i in smiles_list_trans]})"
   ]
  },
  {
   "cell_type": "code",
   "execution_count": 43,
   "metadata": {},
   "outputs": [
    {
     "data": {
      "text/plain": [
       "(33, 33)"
      ]
     },
     "execution_count": 43,
     "metadata": {},
     "output_type": "execute_result"
    }
   ],
   "source": [
    "len(smiles_list_trans), len(specialList)"
   ]
  },
  {
   "cell_type": "code",
   "execution_count": 44,
   "metadata": {},
   "outputs": [
    {
     "data": {
      "text/html": [
       "<div>\n",
       "<style scoped>\n",
       "    .dataframe tbody tr th:only-of-type {\n",
       "        vertical-align: middle;\n",
       "    }\n",
       "\n",
       "    .dataframe tbody tr th {\n",
       "        vertical-align: top;\n",
       "    }\n",
       "\n",
       "    .dataframe thead th {\n",
       "        text-align: right;\n",
       "    }\n",
       "</style>\n",
       "<table border=\"1\" class=\"dataframe\">\n",
       "  <thead>\n",
       "    <tr style=\"text-align: right;\">\n",
       "      <th></th>\n",
       "      <th>Token</th>\n",
       "      <th>Number</th>\n",
       "      <th>Percentage</th>\n",
       "    </tr>\n",
       "  </thead>\n",
       "  <tbody>\n",
       "    <tr>\n",
       "      <th>0</th>\n",
       "      <td>m</td>\n",
       "      <td>6</td>\n",
       "      <td>0.00</td>\n",
       "    </tr>\n",
       "    <tr>\n",
       "      <th>1</th>\n",
       "      <td>h</td>\n",
       "      <td>25</td>\n",
       "      <td>0.00</td>\n",
       "    </tr>\n",
       "    <tr>\n",
       "      <th>2</th>\n",
       "      <td>E</td>\n",
       "      <td>6</td>\n",
       "      <td>0.00</td>\n",
       "    </tr>\n",
       "    <tr>\n",
       "      <th>3</th>\n",
       "      <td>b</td>\n",
       "      <td>643</td>\n",
       "      <td>0.01</td>\n",
       "    </tr>\n",
       "    <tr>\n",
       "      <th>4</th>\n",
       "      <td>D</td>\n",
       "      <td>1</td>\n",
       "      <td>0.00</td>\n",
       "    </tr>\n",
       "    <tr>\n",
       "      <th>5</th>\n",
       "      <td>y</td>\n",
       "      <td>1</td>\n",
       "      <td>0.00</td>\n",
       "    </tr>\n",
       "    <tr>\n",
       "      <th>6</th>\n",
       "      <td>R</td>\n",
       "      <td>143</td>\n",
       "      <td>0.00</td>\n",
       "    </tr>\n",
       "    <tr>\n",
       "      <th>7</th>\n",
       "      <td>%</td>\n",
       "      <td>1398</td>\n",
       "      <td>0.01</td>\n",
       "    </tr>\n",
       "    <tr>\n",
       "      <th>8</th>\n",
       "      <td>Y</td>\n",
       "      <td>12</td>\n",
       "      <td>0.00</td>\n",
       "    </tr>\n",
       "    <tr>\n",
       "      <th>9</th>\n",
       "      <td>T</td>\n",
       "      <td>1136</td>\n",
       "      <td>0.01</td>\n",
       "    </tr>\n",
       "    <tr>\n",
       "      <th>10</th>\n",
       "      <td>Z</td>\n",
       "      <td>60</td>\n",
       "      <td>0.00</td>\n",
       "    </tr>\n",
       "    <tr>\n",
       "      <th>11</th>\n",
       "      <td>0</td>\n",
       "      <td>1398</td>\n",
       "      <td>0.01</td>\n",
       "    </tr>\n",
       "    <tr>\n",
       "      <th>12</th>\n",
       "      <td>W</td>\n",
       "      <td>295</td>\n",
       "      <td>0.00</td>\n",
       "    </tr>\n",
       "    <tr>\n",
       "      <th>13</th>\n",
       "      <td>9</td>\n",
       "      <td>4366</td>\n",
       "      <td>0.04</td>\n",
       "    </tr>\n",
       "    <tr>\n",
       "      <th>14</th>\n",
       "      <td>f</td>\n",
       "      <td>12</td>\n",
       "      <td>0.00</td>\n",
       "    </tr>\n",
       "    <tr>\n",
       "      <th>15</th>\n",
       "      <td>U</td>\n",
       "      <td>12</td>\n",
       "      <td>0.00</td>\n",
       "    </tr>\n",
       "    <tr>\n",
       "      <th>16</th>\n",
       "      <td>p</td>\n",
       "      <td>1295</td>\n",
       "      <td>0.01</td>\n",
       "    </tr>\n",
       "    <tr>\n",
       "      <th>17</th>\n",
       "      <td>X</td>\n",
       "      <td>14</td>\n",
       "      <td>0.00</td>\n",
       "    </tr>\n",
       "    <tr>\n",
       "      <th>18</th>\n",
       "      <td>G</td>\n",
       "      <td>1278</td>\n",
       "      <td>0.01</td>\n",
       "    </tr>\n",
       "    <tr>\n",
       "      <th>19</th>\n",
       "      <td>K</td>\n",
       "      <td>7</td>\n",
       "      <td>0.00</td>\n",
       "    </tr>\n",
       "    <tr>\n",
       "      <th>20</th>\n",
       "      <td>V</td>\n",
       "      <td>75</td>\n",
       "      <td>0.00</td>\n",
       "    </tr>\n",
       "  </tbody>\n",
       "</table>\n",
       "</div>"
      ],
      "text/plain": [
       "   Token  Number  Percentage\n",
       "0      m       6        0.00\n",
       "1      h      25        0.00\n",
       "2      E       6        0.00\n",
       "3      b     643        0.01\n",
       "4      D       1        0.00\n",
       "5      y       1        0.00\n",
       "6      R     143        0.00\n",
       "7      %    1398        0.01\n",
       "8      Y      12        0.00\n",
       "9      T    1136        0.01\n",
       "10     Z      60        0.00\n",
       "11     0    1398        0.01\n",
       "12     W     295        0.00\n",
       "13     9    4366        0.04\n",
       "14     f      12        0.00\n",
       "15     U      12        0.00\n",
       "16     p    1295        0.01\n",
       "17     X      14        0.00\n",
       "18     G    1278        0.01\n",
       "19     K       7        0.00\n",
       "20     V      75        0.00"
      ]
     },
     "execution_count": 44,
     "metadata": {},
     "output_type": "execute_result"
    }
   ],
   "source": [
    "# PubChem alignment to lincs\n",
    "specialList = list(set(charset_140_pc) - set(charset_140_lincs))\n",
    "smiles_list_trans = []\n",
    "\n",
    "for t in specialList:\n",
    "    a = 0\n",
    "    for i in smiles_pubchem_list:\n",
    "        if (t in i) & (len(i) <= 140):\n",
    "            a += 1\n",
    "    smiles_list_trans.append(a)\n",
    "nPCToLINCS = np.sum(smiles_list_trans)\n",
    "pd.DataFrame({'Token': specialList, 'Number': smiles_list_trans, 'Percentage': [round(float(i/len(len_140_pc)) * 100, 2) for i in smiles_list_trans]})"
   ]
  },
  {
   "cell_type": "code",
   "execution_count": 45,
   "metadata": {},
   "outputs": [
    {
     "data": {
      "text/plain": [
       "(21, 21)"
      ]
     },
     "execution_count": 45,
     "metadata": {},
     "output_type": "execute_result"
    }
   ],
   "source": [
    "len(smiles_list_trans), len(specialList)"
   ]
  },
  {
   "cell_type": "code",
   "execution_count": 46,
   "metadata": {},
   "outputs": [
    {
     "data": {
      "text/html": [
       "<div>\n",
       "<style scoped>\n",
       "    .dataframe tbody tr th:only-of-type {\n",
       "        vertical-align: middle;\n",
       "    }\n",
       "\n",
       "    .dataframe tbody tr th {\n",
       "        vertical-align: top;\n",
       "    }\n",
       "\n",
       "    .dataframe thead th {\n",
       "        text-align: right;\n",
       "    }\n",
       "</style>\n",
       "<table border=\"1\" class=\"dataframe\">\n",
       "  <thead>\n",
       "    <tr style=\"text-align: right;\">\n",
       "      <th></th>\n",
       "      <th>Token</th>\n",
       "      <th>Number</th>\n",
       "      <th>Percentage</th>\n",
       "    </tr>\n",
       "  </thead>\n",
       "  <tbody>\n",
       "    <tr>\n",
       "      <th>0</th>\n",
       "      <td>m</td>\n",
       "      <td>6</td>\n",
       "      <td>0.00</td>\n",
       "    </tr>\n",
       "    <tr>\n",
       "      <th>1</th>\n",
       "      <td>h</td>\n",
       "      <td>25</td>\n",
       "      <td>0.00</td>\n",
       "    </tr>\n",
       "    <tr>\n",
       "      <th>2</th>\n",
       "      <td>E</td>\n",
       "      <td>6</td>\n",
       "      <td>0.00</td>\n",
       "    </tr>\n",
       "    <tr>\n",
       "      <th>3</th>\n",
       "      <td>b</td>\n",
       "      <td>643</td>\n",
       "      <td>0.01</td>\n",
       "    </tr>\n",
       "    <tr>\n",
       "      <th>4</th>\n",
       "      <td>D</td>\n",
       "      <td>1</td>\n",
       "      <td>0.00</td>\n",
       "    </tr>\n",
       "    <tr>\n",
       "      <th>5</th>\n",
       "      <td>y</td>\n",
       "      <td>1</td>\n",
       "      <td>0.00</td>\n",
       "    </tr>\n",
       "    <tr>\n",
       "      <th>6</th>\n",
       "      <td>R</td>\n",
       "      <td>143</td>\n",
       "      <td>0.00</td>\n",
       "    </tr>\n",
       "    <tr>\n",
       "      <th>7</th>\n",
       "      <td>%</td>\n",
       "      <td>1398</td>\n",
       "      <td>0.01</td>\n",
       "    </tr>\n",
       "    <tr>\n",
       "      <th>8</th>\n",
       "      <td>Y</td>\n",
       "      <td>12</td>\n",
       "      <td>0.00</td>\n",
       "    </tr>\n",
       "    <tr>\n",
       "      <th>9</th>\n",
       "      <td>T</td>\n",
       "      <td>1136</td>\n",
       "      <td>0.01</td>\n",
       "    </tr>\n",
       "    <tr>\n",
       "      <th>10</th>\n",
       "      <td>Z</td>\n",
       "      <td>60</td>\n",
       "      <td>0.00</td>\n",
       "    </tr>\n",
       "    <tr>\n",
       "      <th>11</th>\n",
       "      <td>0</td>\n",
       "      <td>1398</td>\n",
       "      <td>0.01</td>\n",
       "    </tr>\n",
       "    <tr>\n",
       "      <th>12</th>\n",
       "      <td>W</td>\n",
       "      <td>295</td>\n",
       "      <td>0.00</td>\n",
       "    </tr>\n",
       "    <tr>\n",
       "      <th>13</th>\n",
       "      <td>9</td>\n",
       "      <td>4366</td>\n",
       "      <td>0.04</td>\n",
       "    </tr>\n",
       "    <tr>\n",
       "      <th>14</th>\n",
       "      <td>f</td>\n",
       "      <td>12</td>\n",
       "      <td>0.00</td>\n",
       "    </tr>\n",
       "    <tr>\n",
       "      <th>15</th>\n",
       "      <td>U</td>\n",
       "      <td>12</td>\n",
       "      <td>0.00</td>\n",
       "    </tr>\n",
       "    <tr>\n",
       "      <th>16</th>\n",
       "      <td>p</td>\n",
       "      <td>1295</td>\n",
       "      <td>0.01</td>\n",
       "    </tr>\n",
       "    <tr>\n",
       "      <th>17</th>\n",
       "      <td>X</td>\n",
       "      <td>14</td>\n",
       "      <td>0.00</td>\n",
       "    </tr>\n",
       "    <tr>\n",
       "      <th>18</th>\n",
       "      <td>G</td>\n",
       "      <td>1278</td>\n",
       "      <td>0.01</td>\n",
       "    </tr>\n",
       "    <tr>\n",
       "      <th>19</th>\n",
       "      <td>K</td>\n",
       "      <td>7</td>\n",
       "      <td>0.00</td>\n",
       "    </tr>\n",
       "    <tr>\n",
       "      <th>20</th>\n",
       "      <td>V</td>\n",
       "      <td>75</td>\n",
       "      <td>0.00</td>\n",
       "    </tr>\n",
       "  </tbody>\n",
       "</table>\n",
       "</div>"
      ],
      "text/plain": [
       "   Token  Number  Percentage\n",
       "0      m       6        0.00\n",
       "1      h      25        0.00\n",
       "2      E       6        0.00\n",
       "3      b     643        0.01\n",
       "4      D       1        0.00\n",
       "5      y       1        0.00\n",
       "6      R     143        0.00\n",
       "7      %    1398        0.01\n",
       "8      Y      12        0.00\n",
       "9      T    1136        0.01\n",
       "10     Z      60        0.00\n",
       "11     0    1398        0.01\n",
       "12     W     295        0.00\n",
       "13     9    4366        0.04\n",
       "14     f      12        0.00\n",
       "15     U      12        0.00\n",
       "16     p    1295        0.01\n",
       "17     X      14        0.00\n",
       "18     G    1278        0.01\n",
       "19     K       7        0.00\n",
       "20     V      75        0.00"
      ]
     },
     "execution_count": 46,
     "metadata": {},
     "output_type": "execute_result"
    }
   ],
   "source": [
    "# PubChem alignment to 188 & lincs\n",
    "specialList = list(set(list(set(charset_140_pc) - set(charset_188))) &  set(list(set(charset_140_pc) - set(charset_140_lincs))))\n",
    "smiles_list_trans = []\n",
    "\n",
    "for t in specialList:\n",
    "    a = 0\n",
    "    for i in smiles_pubchem_list:\n",
    "        if (t in i) & (len(i) <= 140):\n",
    "            a += 1\n",
    "    smiles_list_trans.append(a)\n",
    "nPCTo188LINCS = np.sum(smiles_list_trans)\n",
    "pd.DataFrame({'Token': specialList, 'Number': smiles_list_trans, 'Percentage': [round(float(i/len(len_140_pc)) * 100, 2) for i in smiles_list_trans]})"
   ]
  },
  {
   "cell_type": "code",
   "execution_count": 47,
   "metadata": {},
   "outputs": [
    {
     "data": {
      "text/plain": [
       "(21, 21)"
      ]
     },
     "execution_count": 47,
     "metadata": {},
     "output_type": "execute_result"
    }
   ],
   "source": [
    "len(smiles_list_trans), len(specialList)"
   ]
  },
  {
   "cell_type": "code",
   "execution_count": 48,
   "metadata": {},
   "outputs": [],
   "source": [
    "nonToken = pd.DataFrame({'sci-Plex188': [n188ToZINC, n188ToPC, 188], 'LINCS': [nLINCSToZINC, nLINCSToPC, len(len_140_lincs)] })\n",
    "nonToken.index = ['ZINC', 'PubChem', 'Total']"
   ]
  },
  {
   "cell_type": "code",
   "execution_count": 49,
   "metadata": {},
   "outputs": [
    {
     "data": {
      "text/html": [
       "<div>\n",
       "<style scoped>\n",
       "    .dataframe tbody tr th:only-of-type {\n",
       "        vertical-align: middle;\n",
       "    }\n",
       "\n",
       "    .dataframe tbody tr th {\n",
       "        vertical-align: top;\n",
       "    }\n",
       "\n",
       "    .dataframe thead th {\n",
       "        text-align: right;\n",
       "    }\n",
       "</style>\n",
       "<table border=\"1\" class=\"dataframe\">\n",
       "  <thead>\n",
       "    <tr style=\"text-align: right;\">\n",
       "      <th></th>\n",
       "      <th>sci-Plex188</th>\n",
       "      <th>LINCS</th>\n",
       "    </tr>\n",
       "  </thead>\n",
       "  <tbody>\n",
       "    <tr>\n",
       "      <th>ZINC</th>\n",
       "      <td>36</td>\n",
       "      <td>68</td>\n",
       "    </tr>\n",
       "    <tr>\n",
       "      <th>PubChem</th>\n",
       "      <td>94</td>\n",
       "      <td>17013</td>\n",
       "    </tr>\n",
       "    <tr>\n",
       "      <th>Total</th>\n",
       "      <td>188</td>\n",
       "      <td>20113</td>\n",
       "    </tr>\n",
       "  </tbody>\n",
       "</table>\n",
       "</div>"
      ],
      "text/plain": [
       "         sci-Plex188  LINCS\n",
       "ZINC              36     68\n",
       "PubChem           94  17013\n",
       "Total            188  20113"
      ]
     },
     "execution_count": 49,
     "metadata": {},
     "output_type": "execute_result"
    }
   ],
   "source": [
    "nonToken"
   ]
  },
  {
   "cell_type": "markdown",
   "metadata": {},
   "source": [
    "# Onehot encoding of Revised PubChem"
   ]
  },
  {
   "cell_type": "code",
   "execution_count": 38,
   "metadata": {},
   "outputs": [],
   "source": [
    "# \n",
    "path_onehot = '/nfs/turbo/umms-welchjd/hengshi/perturb_gan/data/LINCS/oneHot/'\n",
    "trt_whole_list = np.load(os.path.join(path_onehot, 'GSE92742_Broad_LINCS_Level3_INF_mlr12k_n1319138x12328_processed_UniqueCanonicalSmilesOneHotSmiles.npy'))\n"
   ]
  },
  {
   "cell_type": "code",
   "execution_count": 39,
   "metadata": {},
   "outputs": [
    {
     "data": {
      "text/plain": [
       "0"
      ]
     },
     "execution_count": 39,
     "metadata": {},
     "output_type": "execute_result"
    }
   ],
   "source": [
    "(trt_whole_list == 'CC1O[C@@H](OCC2O[C@@H](O[C@H]3CC[C@@]4(C)C(CC[C@]5(C)C4CC=C4C6CC(C)(C)[C@H](C[C@@]6([C@H](O)C[C@@]54C)C(=O)O[C@@H]4OC(CO)[C@@H](O)[C@@H](O)[C@@H]4O[C@@H]4OC(C)[C@H](O[C@@H]5O[C@@H](CO)[C@H](O)[C@@H]5O)[C@@H](O[C@@H]5OC(CO)[C@@H](O)[C@@H](O)[C@@H]5O)[C@@H]4O)OC(=O)C(\\\\CO)=C\\\\CC[C@](C)(O[C@@H]4OC(C)[C@@H](OC(=O)C(\\\\CO)=C\\\\CCC(C)(O)C=C)[C@@H](O)[C@@H]4O)C=C)C3(C)C)[C@@H](NC(C)=O)[C@H](O)[C@@H]2O)[C@@H](O[C@@H]2OC[C@@H](O)[C@@H](O)[C@@H]2O)[C@H](O)[C@H]1O').sum()"
   ]
  },
  {
   "cell_type": "code",
   "execution_count": 57,
   "metadata": {},
   "outputs": [
    {
     "name": "stderr",
     "output_type": "stream",
     "text": [
      "/home/hengshi/.conda/envs/chemvaeLower/lib/python3.6/site-packages/IPython/core/interactiveshell.py:3072: DtypeWarning: Columns (7,8,9,10) have mixed types. Specify dtype option on import or set low_memory=False.\n",
      "  interactivity=interactivity, compiler=compiler, result=result)\n"
     ]
    }
   ],
   "source": [
    "path_data = '/nfs/turbo/umms-welchjd/hengshi/perturb_gan/data/LINCS'\n",
    "metadata = pd.read_csv(os.path.join(path_data, 'GSE92742_Broad_LINCS_Level3_INF_mlr12k_n1319138x12328_processed_PerturbMeta.csv'))"
   ]
  },
  {
   "cell_type": "code",
   "execution_count": 58,
   "metadata": {},
   "outputs": [
    {
     "data": {
      "text/plain": [
       "688"
      ]
     },
     "execution_count": 58,
     "metadata": {},
     "output_type": "execute_result"
    }
   ],
   "source": [
    "(np.array(list(metadata['canonical_smiles'])) == 'CC1O[C@@H](OCC2O[C@@H](O[C@H]3CC[C@@]4(C)C(CC[C@]5(C)C4CC=C4C6CC(C)(C)[C@H](C[C@@]6([C@H](O)C[C@@]54C)C(=O)O[C@@H]4OC(CO)[C@@H](O)[C@@H](O)[C@@H]4O[C@@H]4OC(C)[C@H](O[C@@H]5O[C@@H](CO)[C@H](O)[C@@H]5O)[C@@H](O[C@@H]5OC(CO)[C@@H](O)[C@@H](O)[C@@H]5O)[C@@H]4O)OC(=O)C(\\\\CO)=C\\\\CC[C@](C)(O[C@@H]4OC(C)[C@@H](OC(=O)C(\\\\CO)=C\\\\CCC(C)(O)C=C)[C@@H](O)[C@@H]4O)C=C)C3(C)C)[C@@H](NC(C)=O)[C@H](O)[C@@H]2O)[C@@H](O[C@@H]2OC[C@@H](O)[C@@H](O)[C@@H]2O)[C@H](O)[C@H]1O').sum()"
   ]
  },
  {
   "cell_type": "code",
   "execution_count": 59,
   "metadata": {},
   "outputs": [],
   "source": [
    "removed_all_pers = np.load(os.path.join(path_onehot, \"LINCS_2000RemovedPerturbs.npy\"))"
   ]
  },
  {
   "cell_type": "code",
   "execution_count": 60,
   "metadata": {},
   "outputs": [
    {
     "data": {
      "text/plain": [
       "0"
      ]
     },
     "execution_count": 60,
     "metadata": {},
     "output_type": "execute_result"
    }
   ],
   "source": [
    "(removed_all_pers == 'CC1O[C@@H](OCC2O[C@@H](O[C@H]3CC[C@@]4(C)C(CC[C@]5(C)C4CC=C4C6CC(C)(C)[C@H](C[C@@]6([C@H](O)C[C@@]54C)C(=O)O[C@@H]4OC(CO)[C@@H](O)[C@@H](O)[C@@H]4O[C@@H]4OC(C)[C@H](O[C@@H]5O[C@@H](CO)[C@H](O)[C@@H]5O)[C@@H](O[C@@H]5OC(CO)[C@@H](O)[C@@H](O)[C@@H]5O)[C@@H]4O)OC(=O)C(\\\\CO)=C\\\\CC[C@](C)(O[C@@H]4OC(C)[C@@H](OC(=O)C(\\\\CO)=C\\\\CCC(C)(O)C=C)[C@@H](O)[C@@H]4O)C=C)C3(C)C)[C@@H](NC(C)=O)[C@H](O)[C@@H]2O)[C@@H](O[C@@H]2OC[C@@H](O)[C@@H](O)[C@@H]2O)[C@H](O)[C@H]1O').sum()"
   ]
  },
  {
   "cell_type": "code",
   "execution_count": null,
   "metadata": {},
   "outputs": [],
   "source": [
    "\n",
    "perturbToOnehot = {}\n",
    "for i in range(trt_whole_list.shape[0]):\n",
    "    perturbToOnehot[trt_whole_list[i]] = i"
   ]
  },
  {
   "cell_type": "code",
   "execution_count": 62,
   "metadata": {},
   "outputs": [
    {
     "data": {
      "text/plain": [
       "['CCCN1CCCC2Cc3n[nH]cc3CC21',\n",
       " 'CCCN1CCCC2Cc3n[nH]cc3CC21',\n",
       " 'CCCN1CCCC2Cc3n[nH]cc3CC21',\n",
       " 'O=C1CC(Oc2ccccc12)c3ccccc3',\n",
       " 'O=C1CC(Oc2ccccc12)c3ccccc3',\n",
       " 'O=C1CC(Oc2ccccc12)c3ccccc3',\n",
       " 'C[C@@H]1O[C@@H](OC[C@H]2O[C@@H](Oc3c(oc4cc(O)cc(O)c4c3=O)-c3ccc(O)c(O)c3)[C@H](O)[C@@H](O)[C@@H]2O)[C@H](O)[C@H](O)[C@H]1O',\n",
       " 'C[C@@H]1O[C@@H](OC[C@H]2O[C@@H](Oc3c(oc4cc(O)cc(O)c4c3=O)-c3ccc(O)c(O)c3)[C@H](O)[C@@H](O)[C@@H]2O)[C@H](O)[C@H](O)[C@H]1O',\n",
       " 'C[C@@H]1O[C@@H](OC[C@H]2O[C@@H](Oc3c(oc4cc(O)cc(O)c4c3=O)-c3ccc(O)c(O)c3)[C@H](O)[C@@H](O)[C@@H]2O)[C@H](O)[C@H](O)[C@H]1O',\n",
       " 'N(Cc1ccccc1)c1ncnc2nc[nH]c12',\n",
       " 'N(Cc1ccccc1)c1ncnc2nc[nH]c12',\n",
       " 'N(Cc1ccccc1)c1ncnc2nc[nH]c12',\n",
       " 'C[C@@H](NC(=O)/C(=C/c1ccc(O)c(O)c1)/C#N)c2ccccc2',\n",
       " 'C[C@@H](NC(=O)/C(=C/c1ccc(O)c(O)c1)/C#N)c2ccccc2',\n",
       " 'C[C@@H](NC(=O)/C(=C/c1ccc(O)c(O)c1)/C#N)c2ccccc2',\n",
       " 'Oc1cc(C=C(C#N)C#N)cc(O)c1O',\n",
       " 'Oc1cc(C=C(C#N)C#N)cc(O)c1O',\n",
       " 'Oc1cc(C=C(C#N)C#N)cc(O)c1O',\n",
       " 'COC(=O)c1ccc(NCc2cc(O)ccc2O)cc1',\n",
       " 'COC(=O)c1ccc(NCc2cc(O)ccc2O)cc1',\n",
       " 'COC(=O)c1ccc(NCc2cc(O)ccc2O)cc1',\n",
       " 'NC(=O)C(=Cc1ccc(O)c(O)c1)C#N',\n",
       " 'NC(=O)C(=Cc1ccc(O)c(O)c1)C#N',\n",
       " 'NC(=O)C(=Cc1ccc(O)c(O)c1)C#N',\n",
       " 'CC(N)C(=O)OC(C)(C)Cc1ccc(Cl)cc1',\n",
       " 'CC(N)C(=O)OC(C)(C)Cc1ccc(Cl)cc1',\n",
       " 'CC(N)C(=O)OC(C)(C)Cc1ccc(Cl)cc1',\n",
       " 'CCCSc1ccc2[nH]c(NC(=O)OC)nc2c1',\n",
       " 'CCCSc1ccc2[nH]c(NC(=O)OC)nc2c1',\n",
       " 'CCCSc1ccc2[nH]c(NC(=O)OC)nc2c1',\n",
       " 'CCC(=O)OCC(=O)[C@@]1(OC(=O)CC)[C@H](C)CC2C3[C@H](Cl)CC4=CC(=O)C=C[C@]4(C)C3[C@@H](O)C[C@@]21C',\n",
       " 'CCC(=O)OCC(=O)[C@@]1(OC(=O)CC)[C@H](C)CC2C3[C@H](Cl)CC4=CC(=O)C=C[C@]4(C)C3[C@@H](O)C[C@@]21C',\n",
       " 'COc1cc2nc(nc(N)c2cc1OC)N(C)CCCNC(=O)C1CCCO1',\n",
       " 'COc1cc2nc(nc(N)c2cc1OC)N(C)CCCNC(=O)C1CCCO1',\n",
       " 'COc1cc2nc(nc(N)c2cc1OC)N(C)CCCNC(=O)C1CCCO1',\n",
       " 'COCCCOc1cc(C[C@@H](C[C@H](N)[C@@H](O)C[C@@H](C(C)C)C(=O)NCC(C)(C)C(N)=O)C(C)C)ccc1OC',\n",
       " 'COCCCOc1cc(C[C@@H](C[C@H](N)[C@@H](O)C[C@@H](C(C)C)C(=O)NCC(C)(C)C(N)=O)C(C)C)ccc1OC',\n",
       " 'COCCCOc1cc(C[C@@H](C[C@H](N)[C@@H](O)C[C@@H](C(C)C)C(=O)NCC(C)(C)C(N)=O)C(C)C)ccc1OC',\n",
       " 'CC(C)NCC(O)COc1ccccc1CC=C',\n",
       " 'CC(C)NCC(O)COc1ccccc1CC=C',\n",
       " 'CC(C)NCC(O)COc1ccccc1CC=C',\n",
       " 'OC(=O)CN1C(=O)c2cccc3cccc(C1=O)c23',\n",
       " 'OC(=O)CN1C(=O)c2cccc3cccc(C1=O)c23',\n",
       " 'OC(=O)CN1C(=O)c2cccc3cccc(C1=O)c23',\n",
       " 'NS(=O)(=O)c1cc2c(NC(CSCC=C)NS2(=O)=O)cc1Cl',\n",
       " 'NS(=O)(=O)c1cc2c(NC(CSCC=C)NS2(=O)=O)cc1Cl',\n",
       " 'NS(=O)(=O)c1cc2c(NC(CSCC=C)NS2(=O)=O)cc1Cl',\n",
       " 'C[C@]12C=CC3=C4CCC(=O)C=C4CCC3C1CC[C@@]2(O)CC=C',\n",
       " 'C[C@]12C=CC3=C4CCC(=O)C=C4CCC3C1CC[C@@]2(O)CC=C',\n",
       " 'C[C@]12C=CC3=C4CCC(=O)C=C4CCC3C1CC[C@@]2(O)CC=C',\n",
       " 'CN(C)c1nc(nc(n1)N(C)C)N(C)C',\n",
       " 'CN(C)c1nc(nc(n1)N(C)C)N(C)C',\n",
       " 'CN(CC[C@@H](Oc1ccc(cc1)-c1ccccc1)c1ccc(F)cc1)CC(O)=O',\n",
       " 'CN(CC[C@@H](Oc1ccc(cc1)-c1ccccc1)c1ccc(F)cc1)CC(O)=O',\n",
       " 'CN(CC[C@@H](Oc1ccc(cc1)-c1ccccc1)c1ccc(F)cc1)CC(O)=O',\n",
       " 'Cc1c(nn(c1-c1ccc(I)cc1)-c1ccc(Cl)cc1Cl)C(=O)NN1CCOCC1',\n",
       " 'Cc1c(nn(c1-c1ccc(I)cc1)-c1ccc(Cl)cc1Cl)C(=O)NN1CCOCC1',\n",
       " 'Cc1c(nn(c1-c1ccc(I)cc1)-c1ccc(Cl)cc1Cl)C(=O)NN1CCOCC1',\n",
       " 'CO[C@@H]1CC2N3CC(O)C2(C=C1)c4cc5OCOc5c(OC)c4C3',\n",
       " 'CO[C@@H]1CC2N3CC(O)C2(C=C1)c4cc5OCOc5c(OC)c4C3',\n",
       " 'CO[C@@H]1CC2N3CC(O)C2(C=C1)c4cc5OCOc5c(OC)c4C3',\n",
       " 'CC(=O)OCC(=O)[C@@]12OC3(CCCC3)O[C@@H]1CC1C3CCC4=CC(=O)C=C[C@]4(C)[C@@]3(F)[C@@H](O)C[C@]21C',\n",
       " 'CC(=O)OCC(=O)[C@@]12OC3(CCCC3)O[C@@H]1CC1C3CCC4=CC(=O)C=C[C@]4(C)[C@@]3(F)[C@@H](O)C[C@]21C',\n",
       " 'CC(=O)OCC(=O)[C@@]12OC3(CCCC3)O[C@@H]1CC1C3CCC4=CC(=O)C=C[C@]4(C)[C@@]3(F)[C@@H](O)C[C@]21C',\n",
       " 'CC(C)(C)c1ccc(C=CC(=O)Nc2ccc3OCCOc3c2)cc1',\n",
       " 'CC(C)(C)c1ccc(C=CC(=O)Nc2ccc3OCCOc3c2)cc1',\n",
       " 'CC(C)(C)c1ccc(C=CC(=O)Nc2ccc3OCCOc3c2)cc1',\n",
       " 'Fc1ccc(OCCCN2CCC3(CC2)N(CNC3=O)c4ccccc4)cc1',\n",
       " 'Fc1ccc(OCCCN2CCC3(CC2)N(CNC3=O)c4ccccc4)cc1',\n",
       " 'Fc1ccc(OCCCN2CCC3(CC2)N(CNC3=O)c4ccccc4)cc1',\n",
       " 'CCC1(CCC(=O)NC1=O)c1ccc(N)cc1',\n",
       " 'CCC1(CCC(=O)NC1=O)c1ccc(N)cc1',\n",
       " 'CCC1(CCC(=O)NC1=O)c1ccc(N)cc1',\n",
       " 'CC(CC(C(N)=O)(c1ccccc1)c1ccccc1)N(C)C',\n",
       " 'CC(CC(C(N)=O)(c1ccccc1)c1ccccc1)N(C)C',\n",
       " 'CC(CC(C(N)=O)(c1ccccc1)c1ccccc1)N(C)C',\n",
       " 'CCCCc1oc2ccccc2c1C(=O)c1cc(I)c(OCCN(CC)CC)c(I)c1',\n",
       " 'CCCCc1oc2ccccc2c1C(=O)c1cc(I)c(OCCN(CC)CC)c(I)c1',\n",
       " 'CCCCc1oc2ccccc2c1C(=O)c1cc(I)c(OCCN(CC)CC)c(I)c1',\n",
       " 'CCOC(=O)C1=C(NC(=C(C1C2=CC=CC=C2Cl)C(=O)OC)C)COCCN',\n",
       " 'CCOC(=O)C1=C(NC(=C(C1C2=CC=CC=C2Cl)C(=O)OC)C)COCCN',\n",
       " 'CCOC(=O)C1=C(NC(=C(C1C2=CC=CC=C2Cl)C(=O)OC)C)COCCN',\n",
       " 'Clc1ccc2Oc3ccccc3N=C(N3CCNCC3)c2c1',\n",
       " 'Clc1ccc2Oc3ccccc3N=C(N3CCNCC3)c2c1',\n",
       " 'Clc1ccc2Oc3ccccc3N=C(N3CCNCC3)c2c1',\n",
       " 'COc1cc(NS(=O)(=O)C)ccc1Cc2c3ccccc3nc4ccccc24',\n",
       " 'COc1cc(NS(=O)(=O)C)ccc1Cc2c3ccccc3nc4ccccc24',\n",
       " 'COc1cc(NS(=O)(=O)C)ccc1Cc2c3ccccc3nc4ccccc24',\n",
       " 'Clc1ccc2N=C3NC(=O)CN3Cc2c1Cl',\n",
       " 'Clc1ccc2N=C3NC(=O)CN3Cc2c1Cl',\n",
       " 'Clc1ccc2N=C3NC(=O)CN3Cc2c1Cl',\n",
       " 'Cc1cc(=O)n(-c2ccccc2)n1C',\n",
       " 'Cc1cc(=O)n(-c2ccccc2)n1C',\n",
       " 'Cc1cc(=O)n(-c2ccccc2)n1C',\n",
       " 'CC(=O)Oc1ccc(cc1)c2cc(=O)c3c(OC(=O)C)cc(OC(=O)C)cc3o2',\n",
       " 'CC(=O)Oc1ccc(cc1)c2cc(=O)c3c(OC(=O)C)cc(OC(=O)C)cc3o2',\n",
       " 'CC(=O)Oc1ccc(cc1)c2cc(=O)c3c(OC(=O)C)cc(OC(=O)C)cc3o2',\n",
       " 'COc1ccccc1N1CCN(CCN2C(=O)c3ccccc3C(C)(C)C2=O)CC1',\n",
       " 'COc1ccccc1N1CCN(CCN2C(=O)c3ccccc3C(C)(C)C2=O)CC1',\n",
       " 'COc1ccccc1N1CCN(CCN2C(=O)c3ccccc3C(C)(C)C2=O)CC1',\n",
       " 'C[C@@H]1CC[C@@]2(CC[C@]3(C)C(=CCC4[C@@]5(C)C[C@@H](O)[C@H](O)[C@@](C)(CO)C5CC[C@@]34C)[C@@H]2[C@H]1C)C(O)=O',\n",
       " 'C[C@@H]1CC[C@@]2(CC[C@]3(C)C(=CCC4[C@@]5(C)C[C@@H](O)[C@H](O)[C@@](C)(CO)C5CC[C@@]34C)[C@@H]2[C@H]1C)C(O)=O',\n",
       " 'C[C@@H]1CC[C@@]2(CC[C@]3(C)C(=CCC4[C@@]5(C)C[C@@H](O)[C@H](O)[C@@](C)(CO)C5CC[C@@]34C)[C@@H]2[C@H]1C)C(O)=O',\n",
       " 'CC(C)(C)c1onc(O)c1CC(N)C(O)=O',\n",
       " 'CC(C)(C)c1onc(O)c1CC(N)C(O)=O',\n",
       " 'CC(C)(C)c1onc(O)c1CC(N)C(O)=O',\n",
       " 'Fc1ccc(cc1)C(=O)CCCN1CCN(CC1)c1ccccn1',\n",
       " 'Fc1ccc(cc1)C(=O)CCCN1CCN(CC1)c1ccccn1',\n",
       " 'C[C@H](N)C(=O)N[C@@H](C)C(=O)N[C@@H](Cc1ccccc1)C(=O)CCl',\n",
       " 'C[C@H](N)C(=O)N[C@@H](C)C(=O)N[C@@H](Cc1ccccc1)C(=O)CCl',\n",
       " 'C[C@H](N)C(=O)N[C@@H](C)C(=O)N[C@@H](Cc1ccccc1)C(=O)CCl',\n",
       " 'CC(=O)[C@H]1CC[C@H]2[C@@H]3CC[C@H]4C[C@H](O)CC[C@]4(C)[C@H]3C(=O)C[C@]12C',\n",
       " 'CC(=O)[C@H]1CC[C@H]2[C@@H]3CC[C@H]4C[C@H](O)CC[C@]4(C)[C@H]3C(=O)C[C@]12C',\n",
       " 'CC(=O)[C@H]1CC[C@H]2[C@@H]3CC[C@H]4C[C@H](O)CC[C@]4(C)[C@H]3C(=O)C[C@]12C',\n",
       " 'Nc1c(Br)cc(Br)cc1CN[C@H]1CC[C@H](O)CC1',\n",
       " 'Nc1c(Br)cc(Br)cc1CN[C@H]1CC[C@H](O)CC1',\n",
       " 'Nc1c(Br)cc(Br)cc1CN[C@H]1CC[C@H](O)CC1',\n",
       " 'Nc1ccc2C(=O)NC(=O)c3cccc1c32',\n",
       " 'Nc1ccc2C(=O)NC(=O)c3cccc1c32',\n",
       " 'Nc1ccc2C(=O)NC(=O)c3cccc1c32',\n",
       " 'CCN1CCCC1CNC(=O)c1cc(c(N)cc1OC)S(=O)(=O)CC',\n",
       " 'CCN1CCCC1CNC(=O)c1cc(c(N)cc1OC)S(=O)(=O)CC',\n",
       " 'CCN1CCCC1CNC(=O)c1cc(c(N)cc1OC)S(=O)(=O)CC',\n",
       " 'CCN(CC)Cc1cc(Nc2ccnc3cc(Cl)ccc23)ccc1O',\n",
       " 'CCN(CC)Cc1cc(Nc2ccnc3cc(Cl)ccc23)ccc1O',\n",
       " 'CCN(CC)Cc1cc(Nc2ccnc3cc(Cl)ccc23)ccc1O',\n",
       " 'CCNC(=O)N1CCN(CCCC(c2ccc(F)cc2)c2ccc(F)cc2)CC1',\n",
       " 'CCNC(=O)N1CCN(CCCC(c2ccc(F)cc2)c2ccc(F)cc2)CC1',\n",
       " 'CCNC(=O)N1CCN(CCCC(c2ccc(F)cc2)c2ccc(F)cc2)CC1',\n",
       " 'CCC(C)(CN(C)C)OC(=O)c1ccccc1',\n",
       " 'CCC(C)(CN(C)C)OC(=O)c1ccccc1',\n",
       " 'CCC(C)(CN(C)C)OC(=O)c1ccccc1',\n",
       " 'Clc1cccc(SC2CCNCC2)n1',\n",
       " 'Clc1cccc(SC2CCNCC2)n1',\n",
       " 'Clc1cccc(SC2CCNCC2)n1',\n",
       " 'O=C1NC(=O)c2c1c1c3ccccc3[nH]c1c1[nH]c3ccccc3c21',\n",
       " 'O=C1NC(=O)c2c1c1c3ccccc3[nH]c1c1[nH]c3ccccc3c21',\n",
       " 'O=C1NC(=O)c2c1c1c3ccccc3[nH]c1c1[nH]c3ccccc3c21',\n",
       " 'CCCNC(C)C(=O)Nc1c(C)csc1C(=O)OC',\n",
       " 'CCCNC(C)C(=O)Nc1c(C)csc1C(=O)OC',\n",
       " 'CCCNC(C)C(=O)Nc1c(C)csc1C(=O)OC',\n",
       " 'C[C@@H]1CC[C@@]2(CC[C@]3(C)C(=CC[C@@H]4[C@@]5(C)C[C@@H](O)[C@H](O)[C@@](C)(CO)C5CC[C@]43C)[C@@H]2[C@H]1C)C(=O)O[C@@H]6O[C@H](COC7O[C@H](CO)[C@@H](OC8O[C@@H](C)[C@H](O)[C@@H](O)[C@H]8O)[C@H](O)[C@H]7O)[C@@H](O)[C@H](O)[C@H]6O',\n",
       " 'C[C@@H]1CC[C@@]2(CC[C@]3(C)C(=CC[C@@H]4[C@@]5(C)C[C@@H](O)[C@H](O)[C@@](C)(CO)C5CC[C@]43C)[C@@H]2[C@H]1C)C(=O)O[C@@H]6O[C@H](COC7O[C@H](CO)[C@@H](OC8O[C@@H](C)[C@H](O)[C@@H](O)[C@H]8O)[C@H](O)[C@H]7O)[C@@H](O)[C@H](O)[C@H]6O',\n",
       " 'C[C@@H]1CC[C@@]2(CC[C@]3(C)C(=CC[C@@H]4[C@@]5(C)C[C@@H](O)[C@H](O)[C@@](C)(CO)C5CC[C@]43C)[C@@H]2[C@H]1C)C(=O)O[C@@H]6O[C@H](COC7O[C@H](CO)[C@@H](OC8O[C@@H](C)[C@H](O)[C@@H](O)[C@H]8O)[C@H](O)[C@H]7O)[C@@H](O)[C@H](O)[C@H]6O',\n",
       " 'Clc1ccc(cc1)C2CCC(CC2)C3C(=O)C(=O)c4ccccc4C3=O',\n",
       " 'Clc1ccc(cc1)C2CCC(CC2)C3C(=O)C(=O)c4ccccc4C3=O',\n",
       " 'Clc1ccc(cc1)C2CCC(CC2)C3C(=O)C(=O)c4ccccc4C3=O',\n",
       " 'CSCC[C@H](NC(=O)[C@H](Cc1ccccc1)NC[C@@H](NC[C@@H](N)CS)C(C)C)C(=O)O',\n",
       " 'CSCC[C@H](NC(=O)[C@H](Cc1ccccc1)NC[C@@H](NC[C@@H](N)CS)C(C)C)C(=O)O',\n",
       " 'CSCC[C@H](NC(=O)[C@H](Cc1ccccc1)NC[C@@H](NC[C@@H](N)CS)C(C)C)C(=O)O',\n",
       " 'CC(C)(c1ccc(OCC2CO2)cc1)c3ccc(OCC4CO4)cc3',\n",
       " 'CC(C)(c1ccc(OCC2CO2)cc1)c3ccc(OCC4CO4)cc3',\n",
       " 'CC(C)(c1ccc(OCC2CO2)cc1)c3ccc(OCC4CO4)cc3',\n",
       " 'NS(=O)(=O)c1cc2c(NC(Cc3ccccc3)NS2(=O)=O)cc1C(F)(F)F',\n",
       " 'NS(=O)(=O)c1cc2c(NC(Cc3ccccc3)NS2(=O)=O)cc1C(F)(F)F',\n",
       " 'NS(=O)(=O)c1cc2c(NC(Cc3ccccc3)NS2(=O)=O)cc1C(F)(F)F',\n",
       " 'O=C(Oc1cccc2cccnc12)c1ccccc1',\n",
       " 'O=C(Oc1cccc2cccnc12)c1ccccc1',\n",
       " 'O=C(Oc1cccc2cccnc12)c1ccccc1',\n",
       " 'NS(=O)(=O)c1cc2c(cc1Cl)N=C(CSCc1ccccc1)NS2(=O)=O',\n",
       " 'NS(=O)(=O)c1cc2c(cc1Cl)N=C(CSCc1ccccc1)NS2(=O)=O',\n",
       " 'NS(=O)(=O)c1cc2c(cc1Cl)N=C(CSCc1ccccc1)NS2(=O)=O',\n",
       " 'CC(C)COCC(CN(Cc1ccccc1)c1ccccc1)N1CCCC1',\n",
       " 'CC(C)COCC(CN(Cc1ccccc1)c1ccccc1)N1CCCC1',\n",
       " 'CC(C)COCC(CN(Cc1ccccc1)c1ccccc1)N1CCCC1',\n",
       " 'C[C@H]1CC2C3CCC4=CC(=O)C=C[C@]4(C)[C@@]3(F)[C@@H](O)C[C@]2(C)[C@@]1(O)C(=O)CO',\n",
       " 'C[C@H]1CC2C3CCC4=CC(=O)C=C[C@]4(C)[C@@]3(F)[C@@H](O)C[C@]2(C)[C@@]1(O)C(=O)CO',\n",
       " 'C[C@H]1CC2C3CCC4=CC(=O)C=C[C@]4(C)[C@@]3(F)[C@@H](O)C[C@]2(C)[C@@]1(O)C(=O)CO',\n",
       " 'CCC(=O)OCC(=O)[C@@]1(OC(=O)CC)[C@@H](C)CC2C3CCC4=CC(=O)C=C[C@]4(C)C3(F)[C@@H](O)C[C@]12C',\n",
       " 'CCC(=O)OCC(=O)[C@@]1(OC(=O)CC)[C@@H](C)CC2C3CCC4=CC(=O)C=C[C@]4(C)C3(F)[C@@H](O)C[C@]12C',\n",
       " 'CCC(=O)OCC(=O)[C@@]1(OC(=O)CC)[C@@H](C)CC2C3CCC4=CC(=O)C=C[C@]4(C)C3(F)[C@@H](O)C[C@]12C',\n",
       " 'C[C@H]1CC2C3CCC4=CC(=O)C=C[C@]4(C)[C@@]3(F)[C@@H](O)C[C@]2(C)[C@@]1(O)C(=O)COC(C)=O',\n",
       " 'C[C@H]1CC2C3CCC4=CC(=O)C=C[C@]4(C)[C@@]3(F)[C@@H](O)C[C@]2(C)[C@@]1(O)C(=O)COC(C)=O',\n",
       " 'C[C@H]1CC2C3CCC4=CC(=O)C=C[C@]4(C)[C@@]3(F)[C@@H](O)C[C@]2(C)[C@@]1(O)C(=O)COC(C)=O',\n",
       " 'CC(C)C(N1C(=O)/C(=C/c2ccccc2)/SC1=S)C(=O)O',\n",
       " 'CC(C)C(N1C(=O)/C(=C/c2ccccc2)/SC1=S)C(=O)O',\n",
       " 'CC(C)C(N1C(=O)/C(=C/c2ccccc2)/SC1=S)C(=O)O',\n",
       " 'CCN(CC)CC1CCN(CC1)c1ncc2ncnc(Nc3ccc(F)c(Cl)c3)c2n1',\n",
       " 'CCN(CC)CC1CCN(CC1)c1ncc2ncnc(Nc3ccc(F)c(Cl)c3)c2n1',\n",
       " 'CCN(CC)CC1CCN(CC1)c1ncc2ncnc(Nc3ccc(F)c(Cl)c3)c2n1',\n",
       " 'CN1CCC(CC1)Nc1ncc2ncnc(Nc3ccc(F)c(Cl)c3)c2n1',\n",
       " 'CN1CCC(CC1)Nc1ncc2ncnc(Nc3ccc(F)c(Cl)c3)c2n1',\n",
       " 'CN1CCC(CC1)Nc1ncc2ncnc(Nc3ccc(F)c(Cl)c3)c2n1',\n",
       " 'OC(CCN1CCCCC1)(C1CC2CC1C=C2)c1ccccc1',\n",
       " 'OC(CCN1CCCCC1)(C1CC2CC1C=C2)c1ccccc1',\n",
       " 'OC(CCN1CCCCC1)(C1CC2CC1C=C2)c1ccccc1',\n",
       " 'CC(=O)Oc1ccc(cc1)C(c1ccc(OC(C)=O)cc1)c1ccccn1',\n",
       " 'CC(=O)Oc1ccc(cc1)C(c1ccc(OC(C)=O)cc1)c1ccccn1',\n",
       " 'CC(=O)Oc1ccc(cc1)C(c1ccc(OC(C)=O)cc1)c1ccccn1',\n",
       " 'CC(C)NCC(O)COc1ccc(COCCOC(C)C)cc1',\n",
       " 'CC(C)NCC(O)COc1ccc(COCCOC(C)C)cc1',\n",
       " 'CC(C)NCC(O)COc1ccc(COCCOC(C)C)cc1',\n",
       " 'Oc1c(Cl)cc(Cl)cc1Sc1cc(Cl)cc(Cl)c1O',\n",
       " 'Oc1c(Cl)cc(Cl)cc1Sc1cc(Cl)cc(Cl)c1O',\n",
       " 'Oc1c(Cl)cc(Cl)cc1Sc1cc(Cl)cc(Cl)c1O',\n",
       " 'CN(C)c1cccc2c(cccc12)S(=O)(=O)Nc1onc(C)c1C',\n",
       " 'CN(C)c1cccc2c(cccc12)S(=O)(=O)Nc1onc(C)c1C',\n",
       " 'CN(C)c1cccc2c(cccc12)S(=O)(=O)Nc1onc(C)c1C',\n",
       " 'OC(=O)COc1cccc(c1)-c1ocnc1-c1nc(c(o1)-c1ccccc1)-c1ccccc1',\n",
       " 'OC(=O)COc1cccc(c1)-c1ocnc1-c1nc(c(o1)-c1ccccc1)-c1ccccc1',\n",
       " 'OC(=O)COc1cccc(c1)-c1ocnc1-c1nc(c(o1)-c1ccccc1)-c1ccccc1',\n",
       " 'Oc1ccc2CC3N(CC4CC4)CC[C@@]45[C@@H](Oc1c24)C(=O)\\\\C(C[C@@]35O)=C\\\\c1ccccc1',\n",
       " 'Oc1ccc2CC3N(CC4CC4)CC[C@@]45[C@@H](Oc1c24)C(=O)\\\\C(C[C@@]35O)=C\\\\c1ccccc1',\n",
       " 'Oc1ccc2CC3N(CC4CC4)CC[C@@]45[C@@H](Oc1c24)C(=O)\\\\C(C[C@@]35O)=C\\\\c1ccccc1',\n",
       " 'Oc1ccc2C3c4cc(O)c(O)cc4CC3(O)COc2c1',\n",
       " 'Oc1ccc2C3c4cc(O)c(O)cc4CC3(O)COc2c1',\n",
       " 'Oc1ccc2C3c4cc(O)c(O)cc4CC3(O)COc2c1',\n",
       " 'Clc1ccc(CC(=O)N2CCCCC2CN2CCCC2)cc1Cl',\n",
       " 'Clc1ccc(CC(=O)N2CCCCC2CN2CCCC2)cc1Cl',\n",
       " 'Clc1ccc(CC(=O)N2CCCCC2CN2CCCC2)cc1Cl',\n",
       " 'CN(Cc1cc(Br)cc(Br)c1N)C1CCCCC1',\n",
       " 'CN(Cc1cc(Br)cc(Br)c1N)C1CCCCC1',\n",
       " 'CN(Cc1cc(Br)cc(Br)c1N)C1CCCCC1',\n",
       " 'CC(C)CC1N2C(=O)[C@](NC(=O)C3CN(C)[C@@H]4Cc5c(Br)[nH]c6cccc(C4=C3)c56)(OC2(O)[C@@H]2CCCN2C1=O)C(C)C',\n",
       " 'CC(C)CC1N2C(=O)[C@](NC(=O)C3CN(C)[C@@H]4Cc5c(Br)[nH]c6cccc(C4=C3)c56)(OC2(O)[C@@H]2CCCN2C1=O)C(C)C',\n",
       " 'CC(C)CC1N2C(=O)[C@](NC(=O)C3CN(C)[C@@H]4Cc5c(Br)[nH]c6cccc(C4=C3)c56)(OC2(O)[C@@H]2CCCN2C1=O)C(C)C',\n",
       " 'CN(C)CCC(c1ccc(Br)cc1)c1ccccn1',\n",
       " 'CN(C)CCC(c1ccc(Br)cc1)c1ccccn1',\n",
       " 'CN(C)CCC(c1ccc(Br)cc1)c1ccccn1',\n",
       " 'COc1cc2N3C4[C@@H]5C(CC3=O)OCC=C3CN6CC[C@]4([C@@H]6C[C@H]53)c2cc1OC',\n",
       " 'COc1cc2N3C4[C@@H]5C(CC3=O)OCC=C3CN6CC[C@]4([C@@H]6C[C@H]53)c2cc1OC',\n",
       " 'COc1cc2N3C4[C@@H]5C(CC3=O)OCC=C3CN6CC[C@]4([C@@H]6C[C@H]53)c2cc1OC',\n",
       " 'C1CN=C(N1)c1ccc2ccccc2n1',\n",
       " 'C1CN=C(N1)c1ccc2ccccc2n1',\n",
       " 'C1CN=C(N1)c1ccc2ccccc2n1',\n",
       " 'C1CN=C(N1)c2cc3ccccc3cn2',\n",
       " 'C1CN=C(N1)c2cc3ccccc3cn2',\n",
       " 'C1CN=C(N1)c2cc3ccccc3cn2',\n",
       " 'CCCC1O[C@@H]2CC3C4CCC5=CC(=O)C=CC5(C)C4[C@@H](O)CC3(C)[C@@]2(O1)C(=O)CO',\n",
       " 'CCCC1O[C@@H]2CC3C4CCC5=CC(=O)C=CC5(C)C4[C@@H](O)CC3(C)[C@@]2(O1)C(=O)CO',\n",
       " 'CCCC1O[C@@H]2CC3C4CCC5=CC(=O)C=CC5(C)C4[C@@H](O)CC3(C)[C@@]2(O1)C(=O)CO',\n",
       " 'CC(NC(C)(C)C)C(=O)c1cccc(Cl)c1',\n",
       " 'CC(NC(C)(C)C)C(=O)c1cccc(Cl)c1',\n",
       " 'CC(NC(C)(C)C)C(=O)c1cccc(Cl)c1',\n",
       " 'O=C1CC2(CCCC2)CC(=O)N1CCCCN1CCN(CC1)c1ncccn1',\n",
       " 'O=C1CC2(CCCC2)CC(=O)N1CCCCN1CCN(CC1)c1ncccn1',\n",
       " 'O=C1CC2(CCCC2)CC(=O)N1CCCCN1CCN(CC1)c1ncccn1',\n",
       " 'CCCCOC(=O)c1ccc(O)cc1',\n",
       " 'CCCCOC(=O)c1ccc(O)cc1',\n",
       " 'CCCCOC(=O)c1ccc(O)cc1',\n",
       " 'CC1(C)C2C(=NC1=O)c3ccccc3C(=O)C2=O',\n",
       " 'CC1(C)C2C(=NC1=O)c3ccccc3C(=O)C2=O',\n",
       " 'CC1(C)C2C(=NC1=O)c3ccccc3C(=O)C2=O',\n",
       " 'CC(\\\\C=C\\\\c1cccc(Oc2ccc(F)cc2)c1)N(O)C(N)=O',\n",
       " 'CC(\\\\C=C\\\\c1cccc(Oc2ccc(F)cc2)c1)N(O)C(N)=O',\n",
       " 'CC(\\\\C=C\\\\c1cccc(Oc2ccc(F)cc2)c1)N(O)C(N)=O',\n",
       " 'CCC[C@H]1CC2=C(C[C@@H](CC)CC3=C1C(=O)OC3=O)C(=O)OC2=O',\n",
       " 'CCC[C@H]1CC2=C(C[C@@H](CC)CC3=C1C(=O)OC3=O)C(=O)OC2=O',\n",
       " 'CCC[C@H]1CC2=C(C[C@@H](CC)CC3=C1C(=O)OC3=O)C(=O)OC2=O',\n",
       " 'CCOC(=O)C(CCc1ccccc1)NC2CCc3ccccc3N(CC(=O)O)C2=O',\n",
       " 'CCOC(=O)C(CCc1ccccc1)NC2CCc3ccccc3N(CC(=O)O)C2=O',\n",
       " 'CCOC(=O)C(CCc1ccccc1)NC2CCc3ccccc3N(CC(=O)O)C2=O',\n",
       " 'N\\\\C(NCc1ccccc1)=N/C(=O)c1nc(Cl)c(N)nc1N',\n",
       " 'N\\\\C(NCc1ccccc1)=N/C(=O)c1nc(Cl)c(N)nc1N',\n",
       " 'N\\\\C(NCc1ccccc1)=N/C(=O)c1nc(Cl)c(N)nc1N',\n",
       " 'CCCCNc1ccc(cc1)C(=O)OCCOCCOCCOCCOCCOCCOCCOCCOCCOC',\n",
       " 'CCCCNc1ccc(cc1)C(=O)OCCOCCOCCOCCOCCOCCOCCOCCOCCOC',\n",
       " 'CCCCNc1ccc(cc1)C(=O)OCCOCCOCCOCCOCCOCCOCCOCCOCCOC',\n",
       " 'Cc1cc(ccc1N=Nc2cc(c3ccccc3c2N)S(=O)(=O)O)c4ccc(N=Nc5cc(c6ccccc6c5N)S(=O)(=O)O)c(C)c4',\n",
       " 'Cc1cc(ccc1N=Nc2cc(c3ccccc3c2N)S(=O)(=O)O)c4ccc(N=Nc5cc(c6ccccc6c5N)S(=O)(=O)O)c(C)c4',\n",
       " 'Cc1cc(ccc1N=Nc2cc(c3ccccc3c2N)S(=O)(=O)O)c4ccc(N=Nc5cc(c6ccccc6c5N)S(=O)(=O)O)c(C)c4',\n",
       " 'COc1c(O)cc2C(=O)OC3C(O)C(O)C(CO)OC3c2c1O',\n",
       " 'COc1c(O)cc2C(=O)OC3C(O)C(O)C(CO)OC3c2c1O',\n",
       " 'COc1c(O)cc2C(=O)OC3C(O)C(O)C(CO)OC3c2c1O',\n",
       " 'O=C1NC(=O)C(=C1c2c[nH]c3ccccc23)c4c[nH]c5ccccc45',\n",
       " 'O=C1NC(=O)C(=C1c2c[nH]c3ccccc23)c4c[nH]c5ccccc45',\n",
       " 'O=C1NC(=O)C(=C1c2c[nH]c3ccccc23)c4c[nH]c5ccccc45',\n",
       " 'CC(C)C[C@@H]1N2C(=O)[C@](NC(=O)[C@H]3CN(C)C4Cc5c(Br)[nH]c6cccc(C4=C3)c56)(O[C@@]2(O)[C@@H]7CCCN7C1=O)C(C)C',\n",
       " 'CC(C)C[C@@H]1N2C(=O)[C@](NC(=O)[C@H]3CN(C)C4Cc5c(Br)[nH]c6cccc(C4=C3)c56)(O[C@@]2(O)[C@@H]7CCCN7C1=O)C(C)C',\n",
       " 'CC(C)C[C@@H]1N2C(=O)[C@](NC(=O)[C@H]3CN(C)C4Cc5c(Br)[nH]c6cccc(C4=C3)c56)(O[C@@]2(O)[C@@H]7CCCN7C1=O)C(C)C',\n",
       " 'CCCC(=O)Nc1ncnc2n(cnc12)[C@@H]3O[C@@H]4OP(=O)(O)OC[C@H]4[C@H]3OC(=O)CCC',\n",
       " 'CCCC(=O)Nc1ncnc2n(cnc12)[C@@H]3O[C@@H]4OP(=O)(O)OC[C@H]4[C@H]3OC(=O)CCC',\n",
       " 'CCCC(=O)Nc1ncnc2n(cnc12)[C@@H]3O[C@@H]4OP(=O)(O)OC[C@H]4[C@H]3OC(=O)CCC',\n",
       " 'CCCC1O[C@@H]2C[C@H]3[C@@H]4CCC5=CC(=O)C=C[C@]5(C)[C@H]4[C@@H](O)C[C@]3(C)[C@@]2(O1)C(=O)CO',\n",
       " 'CCCC1O[C@@H]2C[C@H]3[C@@H]4CCC5=CC(=O)C=C[C@]5(C)[C@H]4[C@@H](O)C[C@]3(C)[C@@]2(O1)C(=O)CO',\n",
       " 'CCCC1O[C@@H]2C[C@H]3[C@@H]4CCC5=CC(=O)C=C[C@]5(C)[C@H]4[C@@H](O)C[C@]3(C)[C@@]2(O1)C(=O)CO',\n",
       " 'CCCC1OC2CC3C4CCC5=CC(=O)C=CC5(C)C4C(O)CC3(C)C2(O1)C(=O)CO',\n",
       " 'CCCC1OC2CC3C4CCC5=CC(=O)C=CC5(C)C4C(O)CC3(C)C2(O1)C(=O)CO',\n",
       " 'CCCC1OC2CC3C4CCC5=CC(=O)C=CC5(C)C4C(O)CC3(C)C2(O1)C(=O)CO',\n",
       " 'CCCCCCCCCCCCC\\\\C=C\\\\[C@@H](O)[C@H](CO)NC(C)=O',\n",
       " 'CCCCCCCCCCCCC\\\\C=C\\\\[C@@H](O)[C@H](CO)NC(C)=O',\n",
       " 'CCCCCCCCCCCCC\\\\C=C\\\\[C@@H](O)[C@H](CO)NC(C)=O',\n",
       " 'CCCNC(=O)[C@H]1O[C@@H]1C(=O)N[C@@H](C(C)CC)C(=O)N2CCC[C@H]2C(=O)OC',\n",
       " 'CCCNC(=O)[C@H]1O[C@@H]1C(=O)N[C@@H](C(C)CC)C(=O)N2CCC[C@H]2C(=O)OC',\n",
       " 'CCCNC(=O)[C@H]1O[C@@H]1C(=O)N[C@@H](C(C)CC)C(=O)N2CCC[C@H]2C(=O)OC',\n",
       " 'Cn1cnc2n(C)c(=O)n(C)c(=O)c12',\n",
       " 'Cn1cnc2n(C)c(=O)n(C)c(=O)c12',\n",
       " 'Cn1cnc2n(C)c(=O)n(C)c(=O)c12',\n",
       " 'CCOc1nc2cccc(C(=O)OC(C)OC(=O)OC3CCCCC3)c2n1Cc1ccc(cc1)-c1ccccc1-c1nnn[nH]1',\n",
       " 'CCOc1nc2cccc(C(=O)OC(C)OC(=O)OC3CCCCC3)c2n1Cc1ccc(cc1)-c1ccccc1-c1nnn[nH]1',\n",
       " 'CCOc1nc2cccc(C(=O)OC(C)OC(=O)OC3CCCCC3)c2n1Cc1ccc(cc1)-c1ccccc1-c1nnn[nH]1',\n",
       " 'C[C@]12CCC3C(C=CC4=CC(=O)CC[C@]34C)C1CC[C@@]2(O)CCC(O)=O',\n",
       " 'C[C@]12CCC3C(C=CC4=CC(=O)CC[C@]34C)C1CC[C@@]2(O)CCC(O)=O',\n",
       " 'C[C@]12CCC3C(C=CC4=CC(=O)CC[C@]34C)C1CC[C@@]2(O)CCC(O)=O',\n",
       " 'NC(=O)N1c2ccccc2C=Cc2ccccc12',\n",
       " 'NC(=O)N1c2ccccc2C=Cc2ccccc12',\n",
       " 'NC(=O)N1c2ccccc2C=Cc2ccccc12',\n",
       " 'CN(C)CCOC(c1ccc(Cl)cc1)c1ccccn1',\n",
       " 'CN(C)CCOC(c1ccc(Cl)cc1)c1ccccn1',\n",
       " 'CN(C)CCOC(c1ccc(Cl)cc1)c1ccccn1',\n",
       " 'COc1ccccc1OCCNCC(O)COc1cccc2[nH]c3ccccc3c12',\n",
       " 'COc1ccccc1OCCNCC(O)COc1cccc2[nH]c3ccccc3c12',\n",
       " 'COc1ccccc1OCCNCC(O)COc1cccc2[nH]c3ccccc3c12',\n",
       " 'Cc1ccc(cc1)-c1cc(nn1-c1ccc(cc1)S(N)(=O)=O)C(F)(F)F',\n",
       " 'Cc1ccc(cc1)-c1cc(nn1-c1ccc(cc1)S(N)(=O)=O)C(F)(F)F',\n",
       " 'Cc1ccc(cc1)-c1cc(nn1-c1ccc(cc1)S(N)(=O)=O)C(F)(F)F',\n",
       " 'CC(NCC(O)CP(=O)(O)CC1CCCCC1)c2ccc(Cl)c(Cl)c2',\n",
       " 'CC(NCC(O)CP(=O)(O)CC1CCCCC1)c2ccc(Cl)c(Cl)c2',\n",
       " 'CC(NCC(O)CP(=O)(O)CC1CCCCC1)c2ccc(Cl)c(Cl)c2',\n",
       " 'Nc1ncnc2[nH]nc(Nc3ccc(F)cc3)c12',\n",
       " 'Nc1ncnc2[nH]nc(Nc3ccc(F)cc3)c12',\n",
       " 'Nc1ncnc2[nH]nc(Nc3ccc(F)cc3)c12',\n",
       " 'Nc1nc2ccc(Cl)cc2c2nc(nn12)-c1ccco1',\n",
       " 'Nc1nc2ccc(Cl)cc2c2nc(nn12)-c1ccco1',\n",
       " 'Nc1nc2ccc(Cl)cc2c2nc(nn12)-c1ccco1',\n",
       " 'OC(=O)CCCc1ccc(cc1)N(CCCl)CCCl',\n",
       " 'OC(=O)CCCc1ccc(cc1)N(CCCl)CCCl',\n",
       " 'OC(=O)CCCc1ccc(cc1)N(CCCl)CCCl',\n",
       " 'CC(=O)O[C@@]1(CCC2C3C=C(Cl)C4=CC(=O)CC[C@]4(C)C3CC[C@@]21C)C(=O)C',\n",
       " 'CC(=O)O[C@@]1(CCC2C3C=C(Cl)C4=CC(=O)CC[C@]4(C)C3CC[C@@]21C)C(=O)C',\n",
       " 'CC(=O)O[C@@]1(CCC2C3C=C(Cl)C4=CC(=O)CC[C@]4(C)C3CC[C@@]21C)C(=O)C',\n",
       " 'CCN(CC)CCCC(C)Nc1ccnc2cc(Cl)ccc12',\n",
       " 'CCN(CC)CCCC(C)Nc1ccnc2cc(Cl)ccc12',\n",
       " 'CCN(CC)CCCC(C)Nc1ccnc2cc(Cl)ccc12',\n",
       " 'Oc1c(Cl)cc(Cl)c2cccnc12',\n",
       " 'Oc1c(Cl)cc(Cl)c2cccnc12',\n",
       " 'Oc1c(Cl)cc(Cl)c2cccnc12',\n",
       " 'CN(C)CC[C@H](c1ccc(Cl)cc1)c2ccccn2',\n",
       " 'CN(C)CC[C@H](c1ccc(Cl)cc1)c2ccccn2',\n",
       " 'CN(C)CC[C@H](c1ccc(Cl)cc1)c2ccccn2',\n",
       " 'CN(C)CCCN1c2ccccc2Sc2ccc(Cl)cc12',\n",
       " 'CN(C)CCCN1c2ccccc2Sc2ccc(Cl)cc12',\n",
       " 'CN(C)CCCN1c2ccccc2Sc2ccc(Cl)cc12',\n",
       " 'CN(C)CC\\\\C=C1/c2ccccc2Sc2ccc(Cl)cc12',\n",
       " 'CN(C)CC\\\\C=C1/c2ccccc2Sc2ccc(Cl)cc12',\n",
       " 'CN(C)CC\\\\C=C1/c2ccccc2Sc2ccc(Cl)cc12',\n",
       " 'NS(=O)(=O)c1cc(ccc1Cl)C1(O)NC(=O)c2ccccc12',\n",
       " 'NS(=O)(=O)c1cc(ccc1Cl)C1(O)NC(=O)c2ccccc12',\n",
       " 'NS(=O)(=O)c1cc(ccc1Cl)C1(O)NC(=O)c2ccccc12',\n",
       " 'O=C1CCc2cc(OCCCCc3nnnn3C3CCCCC3)ccc2N1',\n",
       " 'O=C1CCc2cc(OCCCCc3nnnn3C3CCCCC3)ccc2N1',\n",
       " 'O=C1CCc2cc(OCCCCc3nnnn3C3CCCCC3)ccc2N1',\n",
       " 'CN\\\\C(NCCSCc1nc[nH]c1C)=N/C#N',\n",
       " 'CN\\\\C(NCCSCc1nc[nH]c1C)=N/C#N',\n",
       " 'CN(C)CCCSc1ccccc1NC(=O)\\\\C=C\\\\c1ccccc1',\n",
       " 'CN(C)CCCSc1ccccc1NC(=O)\\\\C=C\\\\c1ccccc1',\n",
       " 'CN(C)CCCSc1ccccc1NC(=O)\\\\C=C\\\\c1ccccc1',\n",
       " 'O[C@@H]([C@H]1C[C@@H]2CC[N@]1C[C@@H]2C=C)c1ccnc2ccccc12',\n",
       " 'O[C@@H]([C@H]1C[C@@H]2CC[N@]1C[C@@H]2C=C)c1ccnc2ccccc12',\n",
       " 'O[C@@H]([C@H]1C[C@@H]2CC[N@]1C[C@@H]2C=C)c1ccnc2ccccc12',\n",
       " 'Clc1ccc(cc1)-c1nc2sccn2c1\\\\C=N\\\\OCc1ccc(Cl)c(Cl)c1',\n",
       " 'Clc1ccc(cc1)-c1nc2sccn2c1\\\\C=N\\\\OCc1ccc(Cl)c(Cl)c1',\n",
       " 'Clc1ccc(cc1)-c1nc2sccn2c1\\\\C=N\\\\OCc1ccc(Cl)c(Cl)c1',\n",
       " 'CN1CCC[C@@H]1CCO[C@](C)(c1ccccc1)c1ccc(Cl)cc1',\n",
       " 'CN1CCC[C@@H]1CCO[C@](C)(c1ccccc1)c1ccc(Cl)cc1',\n",
       " 'CN1CCC[C@@H]1CCO[C@](C)(c1ccccc1)c1ccc(Cl)cc1',\n",
       " 'CCC(=O)O[C@@]1([C@@H](C)CC2C3CCC4=CC(=O)C=C[C@]4(C)[C@@]3(F)[C@@H](O)C[C@@]21C)C(=O)CCl',\n",
       " 'CCC(=O)O[C@@]1([C@@H](C)CC2C3CCC4=CC(=O)C=C[C@]4(C)[C@@]3(F)[C@@H](O)C[C@@]21C)C(=O)CCl',\n",
       " 'CCC(=O)O[C@@]1([C@@H](C)CC2C3CCC4=CC(=O)C=C[C@]4(C)[C@@]3(F)[C@@H](O)C[C@@]21C)C(=O)CCl',\n",
       " 'CCOC(=O)C(C)(C)Oc1ccc(Cl)cc1',\n",
       " 'CCOC(=O)C(C)(C)Oc1ccc(Cl)cc1',\n",
       " 'CCOC(=O)C(C)(C)Oc1ccc(Cl)cc1',\n",
       " 'CCN(CC)CCOc1ccc(cc1)C(=C(/Cl)c1ccccc1)\\\\c1ccccc1',\n",
       " 'CCN(CC)CCOc1ccc(cc1)C(=C(/Cl)c1ccccc1)\\\\c1ccccc1',\n",
       " 'CCN(CC)CCOc1ccc(cc1)C(=C(/Cl)c1ccccc1)\\\\c1ccccc1',\n",
       " 'Clc1cccc(Cl)c1N=C1NCCN1',\n",
       " 'Clc1cccc(Cl)c1N=C1NCCN1',\n",
       " 'Clc1cccc(Cl)c1N=C1NCCN1',\n",
       " 'Oc1ccc(NC(=O)CCCc2ccc(cc2)-c2ccccc2F)cc1',\n",
       " 'Oc1ccc(NC(=O)CCCc2ccc(cc2)-c2ccccc2F)cc1',\n",
       " 'Oc1ccc(NC(=O)CCCc2ccc(cc2)-c2ccccc2F)cc1',\n",
       " 'Oc1nc2cc(C#N)c(cc2nc1O)[N+](=O)[O-]',\n",
       " 'Oc1nc2cc(C#N)c(cc2nc1O)[N+](=O)[O-]',\n",
       " 'Oc1nc2cc(C#N)c(cc2nc1O)[N+](=O)[O-]',\n",
       " 'CC(=O)O[C@H]1[C@@H](O)C2C(C)(C)CC[C@H](O)[C@]2(C)[C@@]2(O)C(=O)C[C@@](C)(O[C@]12C)C=C',\n",
       " 'CC(=O)O[C@H]1[C@@H](O)C2C(C)(C)CC[C@H](O)[C@]2(C)[C@@]2(O)C(=O)C[C@@](C)(O[C@]12C)C=C',\n",
       " 'CC(=O)O[C@H]1[C@@H](O)C2C(C)(C)CC[C@H](O)[C@]2(C)[C@@]2(O)C(=O)C[C@@](C)(O[C@]12C)C=C',\n",
       " 'CC(=O)OCC(=O)[C@@]1(O)CCC2C3CCC4=CC(=O)CC[C@]4(C)C3C(=O)C[C@]12C',\n",
       " 'CC(=O)OCC(=O)[C@@]1(O)CCC2C3CCC4=CC(=O)CC[C@]4(C)C3C(=O)C[C@]12C',\n",
       " 'CC(=O)OCC(=O)[C@@]1(O)CCC2C3CCC4=CC(=O)CC[C@]4(C)C3C(=O)C[C@]12C',\n",
       " 'O=c1ccc2ccccc2o1',\n",
       " 'O=c1ccc2ccccc2o1',\n",
       " 'O=c1ccc2ccccc2o1',\n",
       " 'Nc1nc(Nc2ccccc2)nc3n(cnc13)C4OC(CO)C(O)C4O',\n",
       " 'Nc1nc(Nc2ccccc2)nc3n(cnc13)C4OC(CO)C(O)C4O',\n",
       " 'Nc1nc(Nc2ccccc2)nc3n(cnc13)C4OC(CO)C(O)C4O',\n",
       " 'CC(C)(C)NC[C@H](O)COc1cccc2[nH]c(C#N)cc12',\n",
       " 'CC(C)(C)NC[C@H](O)COc1cccc2[nH]c(C#N)cc12',\n",
       " 'C[C@H]1C[C@H](C)C(=O)[C@@H](C1)[C@H](O)CC1CC(=O)NC(=O)C1',\n",
       " 'C[C@H]1C[C@H](C)C(=O)[C@@H](C1)[C@H](O)CC1CC(=O)NC(=O)C1',\n",
       " 'C[C@H]1C[C@H](C)C(=O)[C@@H](C1)[C@H](O)CC1CC(=O)NC(=O)C1',\n",
       " 'CN(C)CCOC(=O)C(c1ccccc1)C1(O)CCCC1',\n",
       " 'CN(C)CCOC(=O)C(c1ccccc1)C1(O)CCCC1',\n",
       " 'CN(C)CCOC(=O)C(c1ccccc1)C1(O)CCCC1',\n",
       " 'CC(=O)C1C(=O)C2C3C(Cc4cccc5[nH]cc3c45)C(C)(C)N2C1=O',\n",
       " 'CC(=O)C1C(=O)C2C3C(Cc4cccc5[nH]cc3c45)C(C)(C)N2C1=O',\n",
       " 'CC(=O)C1C(=O)C2C3C(Cc4cccc5[nH]cc3c45)C(C)(C)N2C1=O',\n",
       " 'CCC1NC(=O)C(C(O)C(C)C\\\\C=C\\\\C)N(C)C(=O)C(C(C)C)N(C)C(=O)C(CC(C)C)N(C)C(=O)C(CC(C)C)N(C)C(=O)C(C)NC(=O)C(C)NC(=O)C(CC(C)C)N(C)C(=O)C(NC(=O)C(CC(C)C)N(C)C(=O)CN(C)C1=O)C(C)C',\n",
       " 'CCC1NC(=O)C(C(O)C(C)C\\\\C=C\\\\C)N(C)C(=O)C(C(C)C)N(C)C(=O)C(CC(C)C)N(C)C(=O)C(CC(C)C)N(C)C(=O)C(C)NC(=O)C(C)NC(=O)C(CC(C)C)N(C)C(=O)C(NC(=O)C(CC(C)C)N(C)C(=O)CN(C)C1=O)C(C)C',\n",
       " 'CCC1NC(=O)C(C(O)C(C)C\\\\C=C\\\\C)N(C)C(=O)C(C(C)C)N(C)C(=O)C(CC(C)C)N(C)C(=O)C(CC(C)C)N(C)C(=O)C(C)NC(=O)C(C)NC(=O)C(CC(C)C)N(C)C(=O)C(NC(=O)C(CC(C)C)N(C)C(=O)CN(C)C1=O)C(C)C',\n",
       " 'C[C@H](\\\\C=C\\\\[C@@H](O)C1CC1)[C@H]1CC[C@@H]2[C@]1(C)CCC\\\\C2=C/C=C1/C[C@@H](O)C[C@H](O)C1=C',\n",
       " 'C[C@H](\\\\C=C\\\\[C@@H](O)C1CC1)[C@H]1CC[C@@H]2[C@]1(C)CCC\\\\C2=C/C=C1/C[C@@H](O)C[C@H](O)C1=C',\n",
       " 'C[C@H](\\\\C=C\\\\[C@@H](O)C1CC1)[C@H]1CC[C@@H]2[C@]1(C)CCC\\\\C2=C/C=C1/C[C@@H](O)C[C@H](O)C1=C',\n",
       " 'CCCCCCCCCCCCCC=CC(O)C(CO)NC(=O)C',\n",
       " 'CCCCCCCCCCCCCC=CC(O)C(CO)NC(=O)C',\n",
       " 'CC(C)(C)c1cc(cc(c1)C(C)(C)C)C(=O)C=Cc2ccc(cc2)C(=O)O',\n",
       " 'CC(C)(C)c1cc(cc(c1)C(C)(C)C)C(=O)C=Cc2ccc(cc2)C(=O)O',\n",
       " 'CC(C)(C)c1cc(cc(c1)C(C)(C)C)C(=O)C=Cc2ccc(cc2)C(=O)O',\n",
       " 'CN1Cc2c3OCOc3ccc2[C@H]4[C@@H](O)Cc5cc6OCOc6cc5[C@H]41',\n",
       " 'CN1Cc2c3OCOc3ccc2[C@H]4[C@@H](O)Cc5cc6OCOc6cc5[C@H]41',\n",
       " 'CN1Cc2c3OCOc3ccc2[C@H]4[C@@H](O)Cc5cc6OCOc6cc5[C@H]41',\n",
       " 'NC(=O)OCC(O)COc1ccc(Cl)cc1',\n",
       " 'NC(=O)OCC(O)COc1ccc(Cl)cc1',\n",
       " 'NC(=O)OCC(O)COc1ccc(Cl)cc1',\n",
       " 'CN(C)[C@H]1[C@@H]2CC3C(C(=O)c4c(O)ccc(Cl)c4[C@@]3(C)O)C(=O)[C@]2(O)C(=O)C(C(N)=O)C1=O',\n",
       " 'CN(C)[C@H]1[C@@H]2CC3C(C(=O)c4c(O)ccc(Cl)c4[C@@]3(C)O)C(=O)[C@]2(O)C(=O)C(C(N)=O)C1=O',\n",
       " 'CN(C)[C@H]1[C@@H]2CC3C(C(=O)c4c(O)ccc(Cl)c4[C@@]3(C)O)C(=O)[C@]2(O)C(=O)C(C(N)=O)C1=O',\n",
       " 'CCS(=O)(=O)N(C)C1C(O)C(C)(C)Oc2ccc(C#N)cc12',\n",
       " 'CCS(=O)(=O)N(C)C1C(O)C(C)(C)Oc2ccc(C#N)cc12',\n",
       " 'CCS(=O)(=O)N(C)C1C(O)C(C)(C)Oc2ccc(C#N)cc12',\n",
       " 'CC(C)NCC(O)c1ccc(N)c(c1)C#N',\n",
       " 'CC(C)NCC(O)c1ccc(N)c(c1)C#N',\n",
       " 'CC(C)NCC(O)c1ccc(N)c(c1)C#N',\n",
       " 'CO[C@H]1CN(CCCOc2ccc(F)cc2)CC[C@H]1NC(=O)c1cc(Cl)c(N)cc1OC',\n",
       " 'CO[C@H]1CN(CCCOc2ccc(F)cc2)CC[C@H]1NC(=O)c1cc(Cl)c(N)cc1OC',\n",
       " 'CO[C@H]1CN(CCCOc2ccc(F)cc2)CC[C@H]1NC(=O)c1cc(Cl)c(N)cc1OC',\n",
       " 'CO[C@@H]1CN(CCCOc2ccc(F)cc2)CC[C@@H]1NC(=O)c3cc(Cl)c(N)cc3OC',\n",
       " 'CO[C@@H]1CN(CCCOc2ccc(F)cc2)CC[C@@H]1NC(=O)c3cc(Cl)c(N)cc3OC',\n",
       " 'CO[C@@H]1CN(CCCOc2ccc(F)cc2)CC[C@@H]1NC(=O)c3cc(Cl)c(N)cc3OC',\n",
       " 'CN(C)CCCC1(OCc2cc(ccc12)C#N)c1ccc(F)cc1',\n",
       " 'CN(C)CCCC1(OCc2cc(ccc12)C#N)c1ccc(F)cc1',\n",
       " 'CN(C)CCCC1(OCc2cc(ccc12)C#N)c1ccc(F)cc1',\n",
       " 'COc1cc(N)c(Cl)cc1C(=O)NC1CCN(Cc2ccccc2)CC1',\n",
       " 'COc1cc(N)c(Cl)cc1C(=O)NC1CCN(Cc2ccccc2)CC1',\n",
       " 'COc1cc(N)c(Cl)cc1C(=O)NC1CCN(Cc2ccccc2)CC1',\n",
       " 'Oc1c(I)cc(Cl)c2cccnc12',\n",
       " 'Oc1c(I)cc(Cl)c2cccnc12',\n",
       " 'Oc1c(I)cc(Cl)c2cccnc12',\n",
       " 'Cc1ccc(CC2(O)CCN(CCOc3ccc(O)cc3)CC2)cc1',\n",
       " 'Cc1ccc(CC2(O)CCN(CCOc3ccc(O)cc3)CC2)cc1',\n",
       " 'Cc1ccc(CC2(O)CCN(CCOc3ccc(O)cc3)CC2)cc1',\n",
       " 'C[C@@]12CC(=O)[C@H]3[C@@H](CCC4=CC(=O)CC[C@]34C)[C@@H]2CC[C@]1(O)C(=O)CO',\n",
       " 'C[C@@]12CC(=O)[C@H]3[C@@H](CCC4=CC(=O)CC[C@]34C)[C@@H]2CC[C@]1(O)C(=O)CO',\n",
       " 'C[C@@]12CC(=O)[C@H]3[C@@H](CCC4=CC(=O)CC[C@]34C)[C@@H]2CC[C@]1(O)C(=O)CO',\n",
       " 'COC(=O)[C@@H]1[C@@H](O)CC[C@H]2CN3CCc4c([nH]c5ccccc45)[C@@H]3C[C@H]12',\n",
       " 'COC(=O)[C@@H]1[C@@H](O)CC[C@H]2CN3CCc4c([nH]c5ccccc45)[C@@H]3C[C@H]12',\n",
       " 'COC(=O)[C@@H]1[C@@H](O)CC[C@H]2CN3CCc4c([nH]c5ccccc45)[C@@H]3C[C@H]12',\n",
       " 'CC1CC(C)C(=O)C(C1)C(O)CC2CC(=O)NC(=O)C2',\n",
       " 'CC1CC(C)C(=O)C(C1)C(O)CC2CC(=O)NC(=O)C2',\n",
       " 'CC1CC(C)C(=O)C(C1)C(O)CC2CC(=O)NC(=O)C2',\n",
       " 'C[C@]12CCC3C(CCC4=Cc5oncc5C[C@]34C)C1CC[C@@]2(O)C#C',\n",
       " 'C[C@]12CCC3C(CCC4=Cc5oncc5C[C@]34C)C1CC[C@@]2(O)C#C',\n",
       " 'C[C@]12CCC3C(CCC4=Cc5oncc5C[C@]34C)C1CC[C@@]2(O)C#C',\n",
       " 'COc1cccc2C(=O)c3c(O)c4C[C@](O)(C[C@H](O[C@H]5C[C@H](N)[C@H](O)[C@H](C)O5)c4c(O)c3C(=O)c12)C(C)=O',\n",
       " 'COc1cccc2C(=O)c3c(O)c4C[C@](O)(C[C@H](O[C@H]5C[C@H](N)[C@H](O)[C@H](C)O5)c4c(O)c3C(=O)c12)C(C)=O',\n",
       " 'COc1cccc2C(=O)c3c(O)c4C[C@](O)(C[C@H](O[C@H]5C[C@H](N)[C@H](O)[C@H](C)O5)c4c(O)c3C(=O)c12)C(C)=O',\n",
       " 'CCCCC1(Cc2cc(OCCCC(O)=O)c(Cl)c(Cl)c2C1=O)C1CCCC1',\n",
       " 'CCCCC1(Cc2cc(OCCCC(O)=O)c(Cl)c(Cl)c2C1=O)C1CCCC1',\n",
       " 'CCCCC1(Cc2cc(OCCCC(O)=O)c(Cl)c(Cl)c2C1=O)C1CCCC1',\n",
       " 'CC1(C)C=CC(=O)[C@@]2(C)C1CC(=O)[C@]3(C)C2CC[C@@]4(C)[C@@H](OC(=O)C5OC543)c6ccoc6',\n",
       " 'CC1(C)C=CC(=O)[C@@]2(C)C1CC(=O)[C@]3(C)C2CC[C@@]4(C)[C@@H](OC(=O)C5OC543)c6ccoc6',\n",
       " 'CC1(C)C=CC(=O)[C@@]2(C)C1CC(=O)[C@]3(C)C2CC[C@@]4(C)[C@@H](OC(=O)C5OC543)c6ccoc6',\n",
       " 'CC1(C)[C@H](O)C=C[C@]2(C)C3CC[C@@]4(C)[C@@H](OC(=O)C=C4[C@]3(C)OC(=O)CC12)c5ccoc5',\n",
       " 'CC1(C)[C@H](O)C=C[C@]2(C)C3CC[C@@]4(C)[C@@H](OC(=O)C=C4[C@]3(C)OC(=O)CC12)c5ccoc5',\n",
       " 'CC1(C)[C@H](O)C=C[C@]2(C)C3CC[C@@]4(C)[C@@H](OC(=O)C=C4[C@]3(C)OC(=O)CC12)c5ccoc5',\n",
       " 'COc1ccc(cc1F)-c1cc(nn1-c1ccc(cc1)S(N)(=O)=O)C(F)F',\n",
       " 'COc1ccc(cc1F)-c1cc(nn1-c1ccc(cc1)S(N)(=O)=O)C(F)F',\n",
       " 'COc1ccc(cc1F)-c1cc(nn1-c1ccc(cc1)S(N)(=O)=O)C(F)F',\n",
       " 'CNCCCN1c2ccccc2CCc2ccccc12',\n",
       " 'CNCCCN1c2ccccc2CCc2ccccc12',\n",
       " 'CNCCCN1c2ccccc2CCc2ccccc12',\n",
       " 'C[C@@H]1CC2C3CCC4=CC(=O)C=C[C@]4(C)[C@@]3(F)[C@@H](O)C[C@]2(C)[C@H]1C(=O)CO',\n",
       " 'C[C@@H]1CC2C3CCC4=CC(=O)C=C[C@]4(C)[C@@]3(F)[C@@H](O)C[C@]2(C)[C@H]1C(=O)CO',\n",
       " 'C[C@@H]1CC2C3CCC4=CC(=O)C=C[C@]4(C)[C@@]3(F)[C@@H](O)C[C@]2(C)[C@H]1C(=O)CO',\n",
       " 'C1CN2Cc3ccccc3N=C2C1',\n",
       " 'C1CN2Cc3ccccc3N=C2C1',\n",
       " 'C1CN2Cc3ccccc3N=C2C1',\n",
       " 'C[C@@H]1CC2C3CCC4=CC(=O)C=C[C@]4(C)[C@@]3(F)[C@@H](O)C[C@]2(C)[C@@]1(O)C(=O)CO',\n",
       " 'C[C@@H]1CC2C3CCC4=CC(=O)C=C[C@]4(C)[C@@]3(F)[C@@H](O)C[C@]2(C)[C@@]1(O)C(=O)CO',\n",
       " 'C[C@@H]1CC2C3CCC4=CC(=O)C=C[C@]4(C)[C@@]3(F)[C@@H](O)C[C@]2(C)[C@@]1(O)C(=O)CO',\n",
       " 'C[C@@H]1CC2C3CCC4=CC(=O)C=C[C@]4(C)[C@@]3(F)[C@@H](O)C[C@]2(C)[C@@]1(O)C(=O)COC(C)=O',\n",
       " 'C[C@@H]1CC2C3CCC4=CC(=O)C=C[C@]4(C)[C@@]3(F)[C@@H](O)C[C@]2(C)[C@@]1(O)C(=O)COC(C)=O',\n",
       " 'C[C@@H]1CC2C3CCC4=CC(=O)C=C[C@]4(C)[C@@]3(F)[C@@H](O)C[C@]2(C)[C@@]1(O)C(=O)COC(C)=O',\n",
       " 'CN(C)CCC(c1ccc(Cl)cc1)c1ccccn1',\n",
       " 'CN(C)CCC(c1ccc(Cl)cc1)c1ccccn1',\n",
       " 'CN(C)CCC(c1ccc(Cl)cc1)c1ccccn1',\n",
       " 'COc1ccc2C[C@H]3[C@@H]4CCCC[C@@]4(CCN3C)c2c1',\n",
       " 'COc1ccc2C[C@H]3[C@@H]4CCCC[C@@]4(CCN3C)c2c1',\n",
       " 'COc1ccc2C[C@H]3[C@@H]4CCCC[C@@]4(CCN3C)c2c1',\n",
       " 'O=C(CC(=O)c1ccccc1)c2ccccc2',\n",
       " 'O=C(CC(=O)c1ccccc1)c2ccccc2',\n",
       " 'O=C(CC(=O)c1ccccc1)c2ccccc2',\n",
       " 'OC(=O)Cc1ccccc1Nc1c(Cl)cccc1Cl',\n",
       " 'OC(=O)Cc1ccccc1Nc1c(Cl)cccc1Cl',\n",
       " 'OC(=O)Cc1ccccc1Nc1c(Cl)cccc1Cl',\n",
       " 'CCN(CC)CCOC(=O)C1(CCCCC1)C1CCCCC1',\n",
       " 'CCN(CC)CCOC(=O)C1(CCCCC1)C1CCCCC1',\n",
       " 'CCN(CC)CCOC(=O)C1(CCCCC1)C1CCCCC1',\n",
       " 'C\\\\C=C(c1ccc(O)cc1)\\\\C(c1ccc(O)cc1)=C\\\\C',\n",
       " 'C\\\\C=C(c1ccc(O)cc1)\\\\C(c1ccc(O)cc1)=C\\\\C',\n",
       " 'C\\\\C=C(c1ccc(O)cc1)\\\\C(c1ccc(O)cc1)=C\\\\C',\n",
       " 'CCN(CC)C(=O)N1CCN(C)CC1',\n",
       " 'CCN(CC)C(=O)N1CCN(C)CC1',\n",
       " 'CCN(CC)C(=O)N1CCN(C)CC1',\n",
       " 'CC\\\\C(c1ccc(O)cc1)=C(\\\\CC)c1ccc(O)cc1',\n",
       " 'CC\\\\C(c1ccc(O)cc1)=C(\\\\CC)c1ccc(O)cc1',\n",
       " 'CC\\\\C(c1ccc(O)cc1)=C(\\\\CC)c1ccc(O)cc1',\n",
       " 'OC(=O)c1cc(ccc1O)-c1ccc(F)cc1F',\n",
       " 'OC(=O)c1cc(ccc1O)-c1ccc(F)cc1F',\n",
       " 'OC(=O)c1cc(ccc1O)-c1ccc(F)cc1F',\n",
       " 'C[C@H]1O[C@H](C[C@H](O)[C@@H]1O)O[C@H]1[C@@H](O)C[C@H](O[C@H]2[C@@H](O)C[C@H](O[C@H]3CC[C@@]4(C)[C@H](CCC5C4CC[C@]4(C)[C@H](CC[C@]54O)C4=CC(=O)OC4)C3)O[C@@H]2C)O[C@@H]1C',\n",
       " 'C[C@H]1O[C@H](C[C@H](O)[C@@H]1O)O[C@H]1[C@@H](O)C[C@H](O[C@H]2[C@@H](O)C[C@H](O[C@H]3CC[C@@]4(C)[C@H](CCC5C4CC[C@]4(C)[C@H](CC[C@]54O)C4=CC(=O)OC4)C3)O[C@@H]2C)O[C@@H]1C',\n",
       " 'C[C@H]1O[C@H](C[C@H](O)[C@@H]1O)O[C@H]1[C@@H](O)C[C@H](O[C@H]2[C@@H](O)C[C@H](O[C@H]3CC[C@@]4(C)[C@H](CCC5C4CC[C@]4(C)[C@H](CC[C@]54O)C4=CC(=O)OC4)C3)O[C@@H]2C)O[C@@H]1C',\n",
       " 'C[C@H]1O[C@H](C[C@H](O)[C@@H]1O)O[C@H]1[C@@H](O)C[C@H](O[C@H]2[C@@H](O)C[C@H](O[C@H]3CC[C@@]4(C)[C@H](CCC5C4C[C@@H](O)[C@]4(C)[C@H](CC[C@]54O)C4=CC(=O)OC4)C3)O[C@@H]2C)O[C@@H]1C',\n",
       " 'C[C@H]1O[C@H](C[C@H](O)[C@@H]1O)O[C@H]1[C@@H](O)C[C@H](O[C@H]2[C@@H](O)C[C@H](O[C@H]3CC[C@@]4(C)[C@H](CCC5C4C[C@@H](O)[C@]4(C)[C@H](CC[C@]54O)C4=CC(=O)OC4)C3)O[C@@H]2C)O[C@@H]1C',\n",
       " 'C[C@H]1O[C@H](C[C@H](O)[C@@H]1O)O[C@H]1[C@@H](O)C[C@H](O[C@H]2[C@@H](O)C[C@H](O[C@H]3CC[C@@]4(C)[C@H](CCC5C4C[C@@H](O)[C@]4(C)[C@H](CC[C@]54O)C4=CC(=O)OC4)C3)O[C@@H]2C)O[C@@H]1C',\n",
       " 'CCCCC\\\\C=C/C\\\\C=C/C\\\\C=C/CCCCCCC(O)=O',\n",
       " 'CCCCC\\\\C=C/C\\\\C=C/C\\\\C=C/CCCCCCC(O)=O',\n",
       " 'CCCCC\\\\C=C/C\\\\C=C/C\\\\C=C/CCCCCCC(O)=O',\n",
       " 'CC1(C)C2C[C@@H](O)[C@]3(C)C(CC[C@@]4(C)[C@@H](OC(=O)C=C43)c5ccoc5)[C@@]2(C)CCC1=O',\n",
       " 'CC1(C)C2C[C@@H](O)[C@]3(C)C(CC[C@@]4(C)[C@@H](OC(=O)C=C43)c5ccoc5)[C@@]2(C)CCC1=O',\n",
       " 'CC1(C)C2C[C@@H](O)[C@]3(C)C(CC[C@@]4(C)[C@@H](OC(=O)C=C43)c5ccoc5)[C@@]2(C)CCC1=O',\n",
       " 'CC(C)C1COc2cc3oc(=O)ccc3cc2O1',\n",
       " 'CC(C)C1COc2cc3oc(=O)ccc3cc2O1',\n",
       " 'CC(C)C1COc2cc3oc(=O)ccc3cc2O1',\n",
       " 'CC(=O)O[C@@H]1CC2C(C)(C)C(=O)CC[C@]2(C)C3CC[C@@]4(C)[C@@H](OC(=O)C=C4[C@]13C)c5ccoc5',\n",
       " 'CC(=O)O[C@@H]1CC2C(C)(C)C(=O)CC[C@]2(C)C3CC[C@@]4(C)[C@@H](OC(=O)C=C4[C@]13C)c5ccoc5',\n",
       " 'CC(=O)O[C@@H]1CC2C(C)(C)C(=O)CC[C@]2(C)C3CC[C@@]4(C)[C@@H](OC(=O)C=C4[C@]13C)c5ccoc5',\n",
       " 'CC(C)[C@@]1(NC(=O)[C@@H]2CC3[C@@H](Cc4c[nH]c5cccc3c45)N(C)C2)O[C@@]6(O)[C@@H]7CCCN7C(=O)[C@H](Cc8ccccc8)N6C1=O',\n",
       " 'CC(C)[C@@]1(NC(=O)[C@@H]2CC3[C@@H](Cc4c[nH]c5cccc3c45)N(C)C2)O[C@@]6(O)[C@@H]7CCCN7C(=O)[C@H](Cc8ccccc8)N6C1=O',\n",
       " 'CC(C)[C@@]1(NC(=O)[C@@H]2CC3[C@@H](Cc4c[nH]c5cccc3c45)N(C)C2)O[C@@]6(O)[C@@H]7CCCN7C(=O)[C@H](Cc8ccccc8)N6C1=O',\n",
       " 'CN1C[C@@H](C[C@H]2[C@H]1Cc1c[nH]c3cccc2c13)C(=O)N[C@]1(C)O[C@@]2(O)[C@@H]3CCCN3C(=O)[C@H](Cc3ccccc3)N2C1=O',\n",
       " 'CN1C[C@@H](C[C@H]2[C@H]1Cc1c[nH]c3cccc2c13)C(=O)N[C@]1(C)O[C@@]2(O)[C@@H]3CCCN3C(=O)[C@H](Cc3ccccc3)N2C1=O',\n",
       " 'CN1C[C@@H](C[C@H]2[C@H]1Cc1c[nH]c3cccc2c13)C(=O)N[C@]1(C)O[C@@]2(O)[C@@H]3CCCN3C(=O)[C@H](Cc3ccccc3)N2C1=O',\n",
       " 'CC1CCc2c(O)c3c(=O)cc(C)oc3cc2OC1',\n",
       " 'CC1CCc2c(O)c3c(=O)cc(C)oc3cc2OC1',\n",
       " 'CC1CCc2c(O)c3c(=O)cc(C)oc3cc2OC1',\n",
       " 'CC(C)CC(=O)O[C@@H]1[C@H](OC(=O)C)c2c(OC1(C)C)ccc3ccc(=O)oc23',\n",
       " 'CC(C)CC(=O)O[C@@H]1[C@H](OC(=O)C)c2c(OC1(C)C)ccc3ccc(=O)oc23',\n",
       " 'CC(C)CC(=O)O[C@@H]1[C@H](OC(=O)C)c2c(OC1(C)C)ccc3ccc(=O)oc23',\n",
       " 'CN(C(=O)C(Cl)Cl)c1ccc(OC(=O)c2ccco2)cc1',\n",
       " 'CN(C(=O)C(Cl)Cl)c1ccc(OC(=O)c2ccco2)cc1',\n",
       " 'CN(C(=O)C(Cl)Cl)c1ccc(OC(=O)c2ccco2)cc1',\n",
       " 'COc1ccc(cc1)C1Sc2ccccc2N(CCN(C)C)C(=O)C1OC(C)=O',\n",
       " 'COc1ccc(cc1)C1Sc2ccccc2N(CCN(C)C)C(=O)C1OC(C)=O',\n",
       " 'COc1ccc(cc1)C1Sc2ccccc2N(CCN(C)C)C(=O)C1OC(C)=O',\n",
       " 'COc1ccc(C(=O)c2ccccc2O)c(O)c1',\n",
       " 'COc1ccc(C(=O)c2ccccc2O)c(O)c1',\n",
       " 'COc1ccc(C(=O)c2ccccc2O)c(O)c1',\n",
       " 'CCCN(CCC)CCc1ccc(O)c(O)c1',\n",
       " 'CCCN(CCC)CCc1ccc(O)c(O)c1',\n",
       " 'CCCN(CCC)CCc1ccc(O)c(O)c1',\n",
       " 'OCCN(CCO)c1nc(N2CCCCC2)c2nc(nc(N3CCCCC3)c2n1)N(CCO)CCO',\n",
       " 'OCCN(CCO)c1nc(N2CCCCC2)c2nc(nc(N3CCCCC3)c2n1)N(CCO)CCO',\n",
       " 'OCCN(CCO)c1nc(N2CCCCC2)c2nc(nc(N3CCCCC3)c2n1)N(CCO)CCO',\n",
       " 'CC(C)N(CCC(C(N)=O)(c1ccccc1)c1ccccn1)C(C)C',\n",
       " 'CC(C)N(CCC(C(N)=O)(c1ccccc1)c1ccccn1)C(C)C',\n",
       " 'CC(C)N(CCC(C(N)=O)(c1ccccc1)c1ccccn1)C(C)C',\n",
       " 'CN(C)c1ccc(/C=C\\\\2/C(=O)Nc3ccccc23)cc1',\n",
       " 'CN(C)c1ccc(/C=C\\\\2/C(=O)Nc3ccccc23)cc1',\n",
       " 'CN(C)c1ccc(/C=C\\\\2/C(=O)Nc3ccccc23)cc1',\n",
       " 'CS(=O)C',\n",
       " 'CS(=O)C',\n",
       " 'CS(=O)C',\n",
       " 'CS(=O)C',\n",
       " 'CS(=O)C',\n",
       " 'CS(=O)C',\n",
       " 'CS(=O)C',\n",
       " 'CS(=O)C',\n",
       " 'CS(=O)C',\n",
       " 'CS(=O)C',\n",
       " 'CS(=O)C',\n",
       " 'CS(=O)C',\n",
       " 'CS(=O)C',\n",
       " 'CS(=O)C',\n",
       " 'CS(=O)C',\n",
       " 'CS(=O)C',\n",
       " 'CS(=O)C',\n",
       " 'CS(=O)C',\n",
       " 'CS(=O)C',\n",
       " 'CS(=O)C',\n",
       " 'CS(=O)C',\n",
       " 'CS(=O)C',\n",
       " 'CS(=O)C',\n",
       " 'CS(=O)C',\n",
       " 'CS(=O)C',\n",
       " 'CS(=O)C',\n",
       " 'CS(=O)C',\n",
       " 'CS(=O)C',\n",
       " 'CS(=O)C',\n",
       " 'CS(=O)C',\n",
       " 'CS(=O)C',\n",
       " 'CS(=O)C',\n",
       " 'CS(=O)C',\n",
       " 'CS(=O)C',\n",
       " 'CS(=O)C',\n",
       " 'CS(=O)C',\n",
       " 'CS(=O)C',\n",
       " 'CS(=O)C',\n",
       " 'CS(=O)C',\n",
       " 'CS(=O)C',\n",
       " 'CS(=O)C',\n",
       " 'CS(=O)C',\n",
       " 'CS(=O)C',\n",
       " 'CS(=O)C',\n",
       " 'CS(=O)C',\n",
       " 'CS(=O)C',\n",
       " 'CS(=O)C',\n",
       " 'CS(=O)C',\n",
       " 'CS(=O)C',\n",
       " 'CS(=O)C',\n",
       " 'CS(=O)C',\n",
       " 'CS(=O)C',\n",
       " 'CS(=O)C',\n",
       " 'CS(=O)C',\n",
       " 'CS(=O)C',\n",
       " 'CS(=O)C',\n",
       " 'CS(=O)C',\n",
       " 'CS(=O)C',\n",
       " 'CS(=O)C',\n",
       " 'CS(=O)C',\n",
       " 'CS(=O)C',\n",
       " 'CS(=O)C',\n",
       " 'CS(=O)C',\n",
       " 'CS(=O)C',\n",
       " 'CS(=O)C',\n",
       " 'CS(=O)C',\n",
       " 'CS(=O)C',\n",
       " 'Clc1ccc2n(C3CCN(CCCn4c5ccccc5[nH]c4=O)CC3)c(=O)[nH]c2c1',\n",
       " 'Clc1ccc2n(C3CCN(CCCn4c5ccccc5[nH]c4=O)CC3)c(=O)[nH]c2c1',\n",
       " 'Clc1ccc2n(C3CCN(CCCn4c5ccccc5[nH]c4=O)CC3)c(=O)[nH]c2c1',\n",
       " 'COc1cc2CC(CC3CCN(Cc4ccccc4)CC3)C(=O)c2cc1OC',\n",
       " 'COc1cc2CC(CC3CCN(Cc4ccccc4)CC3)C(=O)c2cc1OC',\n",
       " 'COc1cc2CC(CC3CCN(Cc4ccccc4)CC3)C(=O)c2cc1OC',\n",
       " 'CN(C)CC\\\\C=C1\\\\c2ccccc2COc2ccccc12',\n",
       " 'CN(C)CC\\\\C=C1\\\\c2ccccc2COc2ccccc12',\n",
       " 'CN(C)CC\\\\C=C1\\\\c2ccccc2COc2ccccc12',\n",
       " 'COc1cccc2C(=O)c3c(O)c4C[C@](O)(C[C@H](OC5C[C@H](N)[C@H](O)[C@H](C)O5)c4c(O)c3C(=O)c12)C(=O)CO',\n",
       " 'COc1cccc2C(=O)c3c(O)c4C[C@](O)(C[C@H](OC5C[C@H](N)[C@H](O)[C@H](C)O5)c4c(O)c3C(=O)c12)C(=O)CO',\n",
       " 'COc1cccc2C(=O)c3c(O)c4C[C@](O)(C[C@H](OC5C[C@H](N)[C@H](O)[C@H](C)O5)c4c(O)c3C(=O)c12)C(=O)CO',\n",
       " 'CN(C)CCOC(C)(c1ccccc1)c1ccccn1',\n",
       " 'CN(C)CCOC(C)(c1ccccc1)c1ccccn1',\n",
       " 'CN(C)CCOC(C)(c1ccccc1)c1ccccn1',\n",
       " 'CC(C)[C@@H]1CC[C@@H](C)C[C@@H]1P(=O)(c1ccccc1)c1ccccc1',\n",
       " 'CC(C)[C@@H]1CC[C@@H](C)C[C@@H]1P(=O)(c1ccccc1)c1ccccc1',\n",
       " 'CC(C)[C@@H]1CC[C@@H](C)C[C@@H]1P(=O)(c1ccccc1)c1ccccc1',\n",
       " 'Fc1ccc(cc1)C(=O)CCCN1CCC(=CC1)n1c2ccccc2[nH]c1=O',\n",
       " 'Fc1ccc(cc1)C(=O)CCCN1CCC(=CC1)n1c2ccccc2[nH]c1=O',\n",
       " 'CNCC[C@H](Oc1cccc2ccccc12)c1cccs1',\n",
       " 'CNCC[C@H](Oc1cccc2ccccc12)c1cccs1',\n",
       " 'CNCC[C@H](Oc1cccc2ccccc12)c1cccs1',\n",
       " 'Oc1ccc(cc1)-c1coc2cc(O)ccc2c1=O',\n",
       " 'Oc1ccc(cc1)-c1coc2cc(O)ccc2c1=O',\n",
       " 'Oc1ccc(cc1)-c1coc2cc(O)ccc2c1=O',\n",
       " 'Oc1ccc2ccc(=O)oc2c1O',\n",
       " 'Oc1ccc2ccc(=O)oc2c1O',\n",
       " 'Oc1ccc2ccc(=O)oc2c1O',\n",
       " 'CN([N+][O-])c1cc(O)ccc1O',\n",
       " 'CN([N+][O-])c1cc(O)ccc1O',\n",
       " 'CN([N+][O-])c1cc(O)ccc1O',\n",
       " 'C[C@@H]1C[C@H]2[C@@H]3CCC4=CC(=O)C=C[C@]4(C)[C@@]3(F)[C@@H](O)C[C@]2(C)[C@@]1(O)C(=O)COC(=O)C',\n",
       " 'C[C@@H]1C[C@H]2[C@@H]3CCC4=CC(=O)C=C[C@]4(C)[C@@]3(F)[C@@H](O)C[C@]2(C)[C@@]1(O)C(=O)COC(=O)C',\n",
       " 'C[C@@H]1C[C@H]2[C@@H]3CCC4=CC(=O)C=C[C@]4(C)[C@@]3(F)[C@@H](O)C[C@]2(C)[C@@]1(O)C(=O)COC(=O)C',\n",
       " 'CCCC(=O)Nc1ncnc2n(cnc12)C3OC4COP(=O)(O)OC4C3OC(=O)CCC',\n",
       " 'CCCC(=O)Nc1ncnc2n(cnc12)C3OC4COP(=O)(O)OC4C3OC(=O)CCC',\n",
       " 'CCCC(=O)Nc1ncnc2n(cnc12)C3OC4COP(=O)(O)OC4C3OC(=O)CCC',\n",
       " 'C[C@]12CC[C@H]3[C@@H](CC[C@@H]4C[C@@H](O)CC[C@]34C)[C@@]1(O)CC[C@@H]2C1=CC(=O)OC1',\n",
       " 'C[C@]12CC[C@H]3[C@@H](CC[C@@H]4C[C@@H](O)CC[C@]34C)[C@@]1(O)CC[C@@H]2C1=CC(=O)OC1',\n",
       " 'C[C@]12CC[C@H]3[C@@H](CC[C@@H]4C[C@@H](O)CC[C@]34C)[C@@]1(O)CC[C@@H]2C1=CC(=O)OC1',\n",
       " 'Oc1cc2CCC3NCc4ccccc4C3c2cc1O',\n",
       " 'Oc1cc2CCC3NCc4ccccc4C3c2cc1O',\n",
       " 'Oc1cc2CCC3NCc4ccccc4C3c2cc1O',\n",
       " 'CC(C)C1(NC(=O)C2CC3C(Cc4c[nH]c5cccc3c45)N(C)C2)OC6(O)C7CCCN7C(=O)C(Cc8ccccc8)N6C1=O',\n",
       " 'CC(C)C1(NC(=O)C2CC3C(Cc4c[nH]c5cccc3c45)N(C)C2)OC6(O)C7CCCN7C(=O)C(Cc8ccccc8)N6C1=O',\n",
       " 'CC(C)C1(NC(=O)C2CC3C(Cc4c[nH]c5cccc3c45)N(C)C2)OC6(O)C7CCCN7C(=O)C(Cc8ccccc8)N6C1=O',\n",
       " 'CN1CC(CC2C1Cc3c[nH]c4cccc2c34)C(=O)NC5(C)OC6(O)C7CCCN7C(=O)C(Cc8ccccc8)N6C5=O',\n",
       " 'CN1CC(CC2C1Cc3c[nH]c4cccc2c34)C(=O)NC5(C)OC6(O)C7CCCN7C(=O)C(Cc8ccccc8)N6C5=O',\n",
       " 'CN1CC(CC2C1Cc3c[nH]c4cccc2c34)C(=O)NC5(C)OC6(O)C7CCCN7C(=O)C(Cc8ccccc8)N6C5=O',\n",
       " 'COc1cc(cc(OC)c1OC)C(=O)OCCCN1CCCN(CCCOC(=O)c2cc(OC)c(OC)c(OC)c2)CC1',\n",
       " 'COc1cc(cc(OC)c1OC)C(=O)OCCCN1CCCN(CCCOC(=O)c2cc(OC)c(OC)c(OC)c2)CC1',\n",
       " 'COc1cc(cc(OC)c1OC)C(=O)OCCCN1CCCN(CCCOC(=O)c2cc(OC)c(OC)c(OC)c2)CC1',\n",
       " 'C[N+]1(C)CCC(CC1)=C(c1ccccc1)c1ccccc1',\n",
       " 'C[N+]1(C)CCC(CC1)=C(c1ccccc1)c1ccccc1',\n",
       " 'C[N+]1(C)CCC(CC1)=C(c1ccccc1)c1ccccc1',\n",
       " 'CNCC(O)c1ccc(OC(=O)C(C)(C)C)c(OC(=O)C(C)(C)C)c1',\n",
       " 'CNCC(O)c1ccc(OC(=O)C(C)(C)C)c(OC(=O)C(C)(C)C)c1',\n",
       " 'CNCC(O)c1ccc(OC(=O)C(C)(C)C)c(OC(=O)C(C)(C)C)c1',\n",
       " 'C(CN1CCCCC1)Oc2ccc(cc2)c3cnc4c(cnn4c3)c5ccncc5',\n",
       " 'C(CN1CCCCC1)Oc2ccc(cc2)c3cnc4c(cnn4c3)c5ccncc5',\n",
       " 'C(CN1CCCCC1)Oc2ccc(cc2)c3cnc4c(cnn4c3)c5ccncc5',\n",
       " 'CN(C)CCC=C1c2ccccc2COc3ccccc13',\n",
       " 'CN(C)CCC=C1c2ccccc2COc3ccccc13',\n",
       " 'CN(C)CCC=C1c2ccccc2COc3ccccc13',\n",
       " 'COc1cccc2C(=O)c3c(O)c4CC(O)(CC(OC5CC(N)C(O)C(C)O5)c4c(O)c3C(=O)c12)C(=O)CO',\n",
       " 'COc1cccc2C(=O)c3c(O)c4CC(O)(CC(OC5CC(N)C(O)C(C)O5)c4c(O)c3C(=O)c12)C(=O)CO',\n",
       " 'COc1c2CC(Oc2nc3ccccc13)C(C)(O)CO',\n",
       " 'COc1c2CC(Oc2nc3ccccc13)C(C)(O)CO',\n",
       " 'Cc1cccc(CCN2CCC(CC2)C(=O)c2ccc(NS(C)(=O)=O)cc2)n1',\n",
       " 'Cc1cccc(CCN2CCC(CC2)C(=O)c2ccc(NS(C)(=O)=O)cc2)n1',\n",
       " 'Cc1cccc(CCN2CCC(CC2)C(=O)c2ccc(NS(C)(=O)=O)cc2)n1',\n",
       " 'COc1cc2CCN(C)[C@@H]3Cc4ccc(OC(=O)c5ccc(cc5)[N+](=O)[O-])c(Oc6ccc(C[C@@H]7N(C)CCc8cc(OC)c(Oc(c1OC)c32)cc78)cc6)c4',\n",
       " 'COc1cc2CCN(C)[C@@H]3Cc4ccc(OC(=O)c5ccc(cc5)[N+](=O)[O-])c(Oc6ccc(C[C@@H]7N(C)CCc8cc(OC)c(Oc(c1OC)c32)cc78)cc6)c4',\n",
       " 'COc1cc2CCN(C)[C@@H]3Cc4ccc(OC(=O)c5ccc(cc5)[N+](=O)[O-])c(Oc6ccc(C[C@@H]7N(C)CCc8cc(OC)c(Oc(c1OC)c32)cc78)cc6)c4',\n",
       " 'CCCCC/C=C\\\\C/C=C\\\\CCCCCCCCCC(=O)O',\n",
       " 'CCCCC/C=C\\\\C/C=C\\\\CCCCCCCCCC(=O)O',\n",
       " 'CCCCC/C=C\\\\C/C=C\\\\CCCCCCCCCC(=O)O',\n",
       " 'CC\\\\C=C/C\\\\C=C/C\\\\C=C/C\\\\C=C/C\\\\C=C/CCCC(O)=O',\n",
       " 'CC\\\\C=C/C\\\\C=C/C\\\\C=C/C\\\\C=C/C\\\\C=C/CCCC(O)=O',\n",
       " 'CC\\\\C=C/C\\\\C=C/C\\\\C=C/C\\\\C=C/C\\\\C=C/CCCC(O)=O',\n",
       " 'Cc1[nH]c2ccc(Cl)cc2c1C1=CCNCC1',\n",
       " 'Cc1[nH]c2ccc(Cl)cc2c1C1=CCNCC1',\n",
       " 'Cc1[nH]c2ccc(Cl)cc2c1C1=CCNCC1',\n",
       " 'CC[C@H]1CN2CCc3cc(OC)c(OC)cc3C2C[C@@H]1CC1NCCc2cc(OC)c(OC)cc12',\n",
       " 'CC[C@H]1CN2CCc3cc(OC)c(OC)cc3C2C[C@@H]1CC1NCCc2cc(OC)c(OC)cc12',\n",
       " 'CC[C@H]1CN2CCc3cc(OC)c(OC)cc3C2C[C@@H]1CC1NCCc2cc(OC)c(OC)cc12',\n",
       " 'CNC(C)[C@H](O)c1ccccc1',\n",
       " 'CNC(C)[C@H](O)c1ccccc1',\n",
       " 'CNC(C)[C@H](O)c1ccccc1',\n",
       " 'Oc1cc(O)c2C[C@@H](OC(=O)c3cc(O)c(O)c(O)c3)[C@H](Oc2c1)c1ccc(O)c(O)c1',\n",
       " 'Oc1cc(O)c2C[C@@H](OC(=O)c3cc(O)c(O)c(O)c3)[C@H](Oc2c1)c1ccc(O)c(O)c1',\n",
       " 'Oc1cc(O)c2C[C@@H](OC(=O)c3cc(O)c(O)c(O)c3)[C@H](Oc2c1)c1ccc(O)c(O)c1',\n",
       " 'COc1cccc2C(=O)c3c(O)c4C[C@](O)(C[C@H](O[C@H]5C[C@H](N)[C@@H](O)[C@H](C)O5)c4c(O)c3C(=O)c12)C(=O)CO',\n",
       " 'COc1cccc2C(=O)c3c(O)c4C[C@](O)(C[C@H](O[C@H]5C[C@H](N)[C@@H](O)[C@H](C)O5)c4c(O)c3C(=O)c12)C(=O)CO',\n",
       " 'COc1cccc2C(=O)c3c(O)c4C[C@](O)(C[C@H](O[C@H]5C[C@H](N)[C@@H](O)[C@H](C)O5)c4c(O)c3C(=O)c12)C(=O)CO',\n",
       " 'CC12CCC3C(=CCc4cc(O)ccc34)C1CCC2=O',\n",
       " 'CC12CCC3C(=CCc4cc(O)ccc34)C1CCC2=O',\n",
       " 'CC12CCC3C(=CCc4cc(O)ccc34)C1CCC2=O',\n",
       " 'CC[C@H]1OC(=O)[C@H](C)[C@@H](O[C@H]2C[C@@](C)(OC)[C@@H](O)[C@H](C)O2)[C@H](C)[C@@H](O[C@@H]2O[C@H](C)C[C@@H]([C@H]2OC(=O)CC)N(C)C)[C@](C)(O)C[C@@H](C)C(=O)[C@H](C)[C@@H](O)[C@]1(C)O',\n",
       " 'CC[C@H]1OC(=O)[C@H](C)[C@@H](O[C@H]2C[C@@](C)(OC)[C@@H](O)[C@H](C)O2)[C@H](C)[C@@H](O[C@@H]2O[C@H](C)C[C@@H]([C@H]2OC(=O)CC)N(C)C)[C@](C)(O)C[C@@H](C)C(=O)[C@H](C)[C@@H](O)[C@]1(C)O',\n",
       " 'CC[C@H]1OC(=O)[C@H](C)[C@@H](O[C@H]2C[C@@](C)(OC)[C@@H](O)[C@H](C)O2)[C@H](C)[C@@H](O[C@@H]2O[C@H](C)C[C@@H]([C@H]2OC(=O)CC)N(C)C)[C@](C)(O)C[C@@H](C)C(=O)[C@H](C)[C@@H](O)[C@]1(C)O',\n",
       " 'CCOC(=O)CCC(=O)O[C@H]1[C@H](O[C@@H]2[C@@H](C)[C@H](O[C@H]3C[C@@](C)(OC)[C@@H](O)[C@H](C)O3)[C@@H](C)C(=O)O[C@H](CC)[C@@](C)(O)[C@H](O)[C@@H](C)C(=O)[C@H](C)C[C@@]2(C)O)O[C@H](C)C[C@@H]1N(C)C',\n",
       " 'CCOC(=O)CCC(=O)O[C@H]1[C@H](O[C@@H]2[C@@H](C)[C@H](O[C@H]3C[C@@](C)(OC)[C@@H](O)[C@H](C)O3)[C@@H](C)C(=O)O[C@H](CC)[C@@](C)(O)[C@H](O)[C@@H](C)C(=O)[C@H](C)C[C@@]2(C)O)O[C@H](C)C[C@@H]1N(C)C',\n",
       " 'CCOC(=O)CCC(=O)O[C@H]1[C@H](O[C@@H]2[C@@H](C)[C@H](O[C@H]3C[C@@](C)(OC)[C@@H](O)[C@H](C)O3)[C@@H](C)C(=O)O[C@H](CC)[C@@](C)(O)[C@H](O)[C@@H](C)C(=O)[C@H](C)C[C@@]2(C)O)O[C@H](C)C[C@@H]1N(C)C',\n",
       " 'OC(=O)c1ccccc1-c1c2cc(I)c(O)c(I)c2oc2c(I)c(=O)c(I)cc12',\n",
       " 'OC(=O)c1ccccc1-c1c2cc(I)c(O)c(I)c2oc2c(I)c(=O)c(I)cc12',\n",
       " 'OC(=O)c1ccccc1-c1c2cc(I)c(O)c(I)c2oc2c(I)c(=O)c(I)cc12',\n",
       " 'CN(C)CCC[C@]1(OCc2cc(ccc12)C#N)c1ccc(F)cc1',\n",
       " 'CN(C)CCC[C@]1(OCc2cc(ccc12)C#N)c1ccc(F)cc1',\n",
       " 'CN(C)CCC[C@]1(OCc2cc(ccc12)C#N)c1ccc(F)cc1',\n",
       " 'C[C@]12CCC3C(CCc4cc(O)ccc34)C1CC[C@@H]2O',\n",
       " 'C[C@]12CCC3C(CCc4cc(O)ccc34)C1CC[C@@H]2O',\n",
       " 'C[C@]12CCC3C(CCc4cc(O)ccc34)C1CC[C@@H]2O',\n",
       " 'CC12CCC3C(CCc4cc(OC(=O)c5ccccc5)ccc34)C2CCC1O',\n",
       " 'CC12CCC3C(CCc4cc(OC(=O)c5ccccc5)ccc34)C2CCC1O',\n",
       " 'CC12CCC3C(CCc4cc(OC(=O)c5ccccc5)ccc34)C2CCC1O',\n",
       " 'C[C@]12CCC3C(CCc4cc(O)ccc34)C1CC[C@@H]2OC(=O)CCC1CCCC1',\n",
       " 'C[C@]12CCC3C(CCc4cc(O)ccc34)C1CC[C@@H]2OC(=O)CCC1CCCC1',\n",
       " 'C[C@]12CCC3C(CCc4cc(O)ccc34)C1CC[C@@H]2OC(=O)CCC1CCCC1',\n",
       " 'C[C@]12CCC3C(CCc4cc(O)ccc34)C1C[C@@H](O)[C@@H]2O',\n",
       " 'C[C@]12CCC3C(CCc4cc(O)ccc34)C1C[C@@H](O)[C@@H]2O',\n",
       " 'C[C@]12CCC3C(CCc4cc(O)ccc34)C1C[C@@H](O)[C@@H]2O',\n",
       " 'C[C@]12CCC3C(CCc4cc(O)ccc34)C1CCC2=O',\n",
       " 'C[C@]12CCC3C(CCc4cc(O)ccc34)C1CCC2=O',\n",
       " 'C[C@]12CCC3C(CCc4cc(O)ccc34)C1CCC2=O',\n",
       " 'C[C@]12CCC3C(CCc4cc(OS(O)(=O)=O)ccc34)C1CCC2=O',\n",
       " 'C[C@]12CCC3C(CCc4cc(OS(O)(=O)=O)ccc34)C1CCC2=O',\n",
       " 'C[C@]12CCC3C(CCc4cc(OS(O)(=O)=O)ccc34)C1CCC2=O',\n",
       " 'CCC(=C)C(=O)c1ccc(OCC(O)=O)c(Cl)c1Cl',\n",
       " 'CCC(=C)C(=O)c1ccc(OCC(O)=O)c(Cl)c1Cl',\n",
       " 'CCC(=C)C(=O)c1ccc(OCC(O)=O)c(Cl)c1Cl',\n",
       " 'CCN(CC)C(=O)c1ccc(O)c(OC)c1',\n",
       " 'CCN(CC)C(=O)c1ccc(O)c(OC)c1',\n",
       " 'CCN(CC)C(=O)c1ccc(O)c(OC)c1',\n",
       " 'C[C@]12CCC3C(CCc4cc(O)ccc34)C1CC[C@@]2(O)C#C',\n",
       " 'C[C@]12CCC3C(CCc4cc(O)ccc34)C1CC[C@@]2(O)C#C',\n",
       " 'C[C@]12CCC3C(CCc4cc(O)ccc34)C1CC[C@@]2(O)C#C',\n",
       " 'CCCSP(=O)(OCC)SCCC',\n",
       " 'CCCSP(=O)(OCC)SCCC',\n",
       " 'CCCSP(=O)(OCC)SCCC',\n",
       " 'CCN(CC)C(C)CN1c2ccccc2Sc2ccccc12',\n",
       " 'CCN(CC)C(C)CN1c2ccccc2Sc2ccccc12',\n",
       " 'CCN(CC)C(C)CN1c2ccccc2Sc2ccccc12',\n",
       " 'CCc1cccc2c3CCOC(CC)(CC(O)=O)c3[nH]c12',\n",
       " 'CCc1cccc2c3CCOC(CC)(CC(O)=O)c3[nH]c12',\n",
       " 'CCc1cccc2c3CCOC(CC)(CC(O)=O)c3[nH]c12',\n",
       " 'CCOC(=O)c1cncn1C(C)c1ccccc1',\n",
       " 'CCOC(=O)c1cncn1C(C)c1ccccc1',\n",
       " 'CCOC(=O)c1cncn1C(C)c1ccccc1',\n",
       " 'COc1cc(CC=C)ccc1O',\n",
       " 'COc1cc(CC=C)ccc1O',\n",
       " 'COc1cc(CC=C)ccc1O',\n",
       " 'C[C@]12CCC3C(CC(=C)C4=CC(=O)C=C[C@]34C)C1CCC2=O',\n",
       " 'C[C@]12CCC3C(CC(=C)C4=CC(=O)C=C[C@]34C)C1CCC2=O',\n",
       " 'C[C@]12CCC3C(CC(=C)C4=CC(=O)C=C[C@]34C)C1CCC2=O',\n",
       " 'OC(CC[C@@H]1[C@H](N(C1=O)c1ccc(F)cc1)c1ccc(O)cc1)c1ccc(F)cc1',\n",
       " 'OC(CC[C@@H]1[C@H](N(C1=O)c1ccc(F)cc1)c1ccc(O)cc1)c1ccc(F)cc1',\n",
       " 'OC(CC[C@@H]1[C@H](N(C1=O)c1ccc(F)cc1)c1ccc(O)cc1)c1ccc(F)cc1',\n",
       " 'CC[C@@]12CCCN3CCc4c([C@H]13)n(C(=O)C2)c1ccccc41',\n",
       " 'CC[C@@]12CCCN3CCc4c([C@H]13)n(C(=O)C2)c1ccccc41',\n",
       " 'CC[C@@]12CCCN3CCc4c([C@H]13)n(C(=O)C2)c1ccccc41',\n",
       " 'OC(CN1CCC(Cc2ccc(F)cc2)CC1)c1ccc(Cl)cc1',\n",
       " 'OC(CN1CCC(Cc2ccc(F)cc2)CC1)c1ccc(Cl)cc1',\n",
       " 'OC(CN1CCC(Cc2ccc(F)cc2)CC1)c1ccc(Cl)cc1',\n",
       " 'CC(C)C[C@@H]1N2C(=O)[C@](NC(=O)[C@H]3CN(C)[C@@H]4Cc5c[nH]c6cccc(C4=C3)c56)(O[C@@]2(O)[C@@H]7CCCN7C1=O)C(C)C',\n",
       " 'CC(C)C[C@@H]1N2C(=O)[C@](NC(=O)[C@H]3CN(C)[C@@H]4Cc5c[nH]c6cccc(C4=C3)c56)(O[C@@]2(O)[C@@H]7CCCN7C1=O)C(C)C',\n",
       " 'CC(C)C[C@@H]1N2C(=O)[C@](NC(=O)[C@H]3CN(C)[C@@H]4Cc5c[nH]c6cccc(C4=C3)c56)(O[C@@]2(O)[C@@H]7CCCN7C1=O)C(C)C',\n",
       " 'C[C@@]12CC[C@H]3[C@@H](CCc4cc(OS(=O)(=O)O)ccc34)[C@@H]2CCC1=O',\n",
       " 'C[C@@]12CC[C@H]3[C@@H](CCc4cc(OS(=O)(=O)O)ccc34)[C@@H]2CCC1=O',\n",
       " 'C[C@@]12CC[C@H]3[C@@H](CCc4cc(OS(=O)(=O)O)ccc34)[C@@H]2CCC1=O',\n",
       " 'CCOC(=O)c1cnc2n(CC)ncc2c1NN=C(C)C',\n",
       " 'CCOC(=O)c1cnc2n(CC)ncc2c1NN=C(C)C',\n",
       " 'CCOC(=O)c1cnc2n(CC)ncc2c1NN=C(C)C',\n",
       " 'CCN1C(=O)NC(C1=O)c1ccccc1',\n",
       " 'CCN1C(=O)NC(C1=O)c1ccccc1',\n",
       " 'CCN1C(=O)NC(C1=O)c1ccccc1',\n",
       " 'CCN1CCC[C@H]1CNC(=O)c1c(O)c(CC)cc(Cl)c1OC',\n",
       " 'CCN1CCC[C@H]1CNC(=O)c1c(O)c(CC)cc(Cl)c1OC',\n",
       " 'CCN1CCC[C@H]1CNC(=O)c1c(O)c(CC)cc(Cl)c1OC',\n",
       " 'CCNCC(O)c1cccc(O)c1',\n",
       " 'CCNCC(O)c1cccc(O)c1',\n",
       " 'CCNCC(O)c1cccc(O)c1',\n",
       " 'COc1cc(cc(OC)c1O)[C@H]2[C@@H]3C(OCC3=O)C(OC4OC5COC(C)OC5C(O)C4O)c6cc7OCOc7cc26',\n",
       " 'COc1cc(cc(OC)c1O)[C@H]2[C@@H]3C(OCC3=O)C(OC4OC5COC(C)OC5C(O)C4O)c6cc7OCOc7cc26',\n",
       " 'COc1cc(cc(OC)c1O)[C@H]2[C@@H]3C(OCC3=O)C(OC4OC5COC(C)OC5C(O)C4O)c6cc7OCOc7cc26',\n",
       " 'CC(=O)OCC(CCn1cnc2cnc(N)nc12)COC(C)=O',\n",
       " 'CC(=O)OCC(CCn1cnc2cnc(N)nc12)COC(C)=O',\n",
       " 'CC(=O)OCC(CCn1cnc2cnc(N)nc12)COC(C)=O',\n",
       " 'OC(=O)CCC(=O)c1ccc(cc1)-c1ccccc1',\n",
       " 'OC(=O)CCC(=O)c1ccc(cc1)-c1ccccc1',\n",
       " 'OC(=O)CCC(=O)c1ccc(cc1)-c1ccccc1',\n",
       " 'CC(Cc1ccc(O)cc1)NCC(O)c1cc(O)cc(O)c1',\n",
       " 'CC(Cc1ccc(O)cc1)NCC(O)c1cc(O)cc(O)c1',\n",
       " 'CC(Cc1ccc(O)cc1)NCC(O)c1cc(O)cc(O)c1',\n",
       " 'CC(C)(C(O)=O)c1ccc(cc1)C(O)CCCN1CCC(CC1)C(O)(c1ccccc1)c1ccccc1',\n",
       " 'CC(C)(C(O)=O)c1ccc(cc1)C(O)CCCN1CCC(CC1)C(O)(c1ccccc1)c1ccccc1',\n",
       " 'CC(C)(C(O)=O)c1ccc(cc1)C(O)CCCN1CCC(CC1)C(O)(c1ccccc1)c1ccccc1',\n",
       " 'CNC(=O)c1cc2c(cn1)[nH]c1ccccc21',\n",
       " 'CNC(=O)c1cc2c(cn1)[nH]c1ccccc21',\n",
       " 'CNC(=O)c1cc2c(cn1)[nH]c1ccccc21',\n",
       " 'CCCCCCN(CCCCCC)C(=O)Cc1c([nH]c2ccccc12)-c1ccc(F)cc1',\n",
       " 'CCCCCCN(CCCCCC)C(=O)Cc1c([nH]c2ccccc12)-c1ccc(F)cc1',\n",
       " 'CCCCCCN(CCCCCC)C(=O)Cc1c([nH]c2ccccc12)-c1ccc(F)cc1',\n",
       " 'CCCCCCN(CCCCCC)C(=O)Cc1c([nH]c2ccc(Cl)cc12)-c1ccc(Cl)cc1',\n",
       " 'CCCCCCN(CCCCCC)C(=O)Cc1c([nH]c2ccc(Cl)cc12)-c1ccc(Cl)cc1',\n",
       " 'CCCCCCN(CCCCCC)C(=O)Cc1c([nH]c2ccc(Cl)cc12)-c1ccc(Cl)cc1',\n",
       " 'Nc1c(c(nn1-c1c(Cl)cc(cc1Cl)C(F)(F)F)C#N)S(=O)C(F)(F)F',\n",
       " 'Nc1c(c(nn1-c1c(Cl)cc(cc1Cl)C(F)(F)F)C#N)S(=O)C(F)(F)F',\n",
       " 'Nc1c(c(nn1-c1c(Cl)cc(cc1Cl)C(F)(F)F)C#N)S(=O)C(F)(F)F',\n",
       " 'O[C@H]1Cc2ccc(O)cc2O[C@@H]1c3ccc(O)c(O)c3',\n",
       " 'O[C@H]1Cc2ccc(O)cc2O[C@@H]1c3ccc(O)c(O)c3',\n",
       " 'O[C@H]1Cc2ccc(O)cc2O[C@@H]1c3ccc(O)c(O)c3',\n",
       " 'CC(=O)OCC(=O)[C@@]1(O)CCC2C3CCC4=CC(=O)CC[C@]4(C)[C@@]3(F)[C@@H](O)C[C@]12C',\n",
       " 'CC(=O)OCC(=O)[C@@]1(O)CCC2C3CCC4=CC(=O)CC[C@]4(C)[C@@]3(F)[C@@H](O)C[C@]12C',\n",
       " 'CC(=O)OCC(=O)[C@@]1(O)CCC2C3CCC4=CC(=O)CC[C@]4(C)[C@@]3(F)[C@@H](O)C[C@]12C',\n",
       " 'Fc1ccc(cc1)C(N1CCN(C\\\\C=C\\\\c2ccccc2)CC1)c1ccc(F)cc1',\n",
       " 'Fc1ccc(cc1)C(N1CCN(C\\\\C=C\\\\c2ccccc2)CC1)c1ccc(F)cc1',\n",
       " 'Fc1ccc(cc1)C(N1CCN(C\\\\C=C\\\\c2ccccc2)CC1)c1ccc(F)cc1',\n",
       " 'CC1(C)O[C@@H]2CC3C4C[C@H](F)C5=CC(=O)C=C[C@]5(C)[C@@]4(F)[C@@H](O)C[C@]3(C)[C@@]2(O1)C(=O)CO',\n",
       " 'CC1(C)O[C@@H]2CC3C4C[C@H](F)C5=CC(=O)C=C[C@]5(C)[C@@]4(F)[C@@H](O)C[C@]3(C)[C@@]2(O1)C(=O)CO',\n",
       " 'CC(=O)OCC(=O)[C@@]12OC(C)(C)O[C@@H]1CC1C3C[C@H](F)C4=CC(=O)C=C[C@]4(C)[C@@]3(F)[C@@H](O)C[C@]21C',\n",
       " 'CC(=O)OCC(=O)[C@@]12OC(C)(C)O[C@@H]1CC1C3C[C@H](F)C4=CC(=O)C=C[C@]4(C)[C@@]3(F)[C@@H](O)C[C@]21C',\n",
       " 'CC(=O)OCC(=O)[C@@]12OC(C)(C)O[C@@H]1CC1C3C[C@H](F)C4=CC(=O)C=C[C@]4(C)[C@@]3(F)[C@@H](O)C[C@]21C',\n",
       " 'C[C@H]1CC2C3CC[C@](O)(C(C)=O)[C@@]3(C)C[C@H](O)[C@]2(F)C2(C)C=CC(=O)C=C12',\n",
       " 'C[C@H]1CC2C3CC[C@](O)(C(C)=O)[C@@]3(C)C[C@H](O)[C@]2(F)C2(C)C=CC(=O)C=C12',\n",
       " 'C[C@H]1CC2C3CC[C@](O)(C(C)=O)[C@@]3(C)C[C@H](O)[C@]2(F)C2(C)C=CC(=O)C=C12',\n",
       " 'CC(C)C(=O)Nc1ccc(c(c1)C(F)(F)F)[N+]([O-])=O',\n",
       " 'CC(C)C(=O)Nc1ccc(c(c1)C(F)(F)F)[N+]([O-])=O',\n",
       " 'CC(C)C(=O)Nc1ccc(c(c1)C(F)(F)F)[N+]([O-])=O',\n",
       " 'CC(C)n1c(\\\\C=C\\\\[C@@H](O)C[C@@H](O)CC(O)=O)c(-c2ccc(F)cc2)c2ccccc12',\n",
       " 'CC(C)n1c(\\\\C=C\\\\[C@@H](O)C[C@@H](O)CC(O)=O)c(-c2ccc(F)cc2)c2ccccc12',\n",
       " 'CC(C)n1c(\\\\C=C\\\\[C@@H](O)C[C@@H](O)CC(O)=O)c(-c2ccc(F)cc2)c2ccccc12',\n",
       " 'COc1cc2ccc(=O)oc2c(O)c1O',\n",
       " 'COc1cc2ccc(=O)oc2c(O)c1O',\n",
       " 'COc1cc2ccc(=O)oc2c(O)c1O',\n",
       " 'FC(F)(F)COc1ccc(OCC(F)(F)F)c(c1)C(=O)NCC1CCCCN1',\n",
       " 'FC(F)(F)COc1ccc(OCC(F)(F)F)c(c1)C(=O)NCC1CCCCN1',\n",
       " 'FC(F)(F)COc1ccc(OCC(F)(F)F)c(c1)C(=O)NCC1CCCCN1',\n",
       " 'CNCCC(Oc1ccc(cc1)C(F)(F)F)c1ccccc1',\n",
       " 'CNCCC(Oc1ccc(cc1)C(F)(F)F)c1ccccc1',\n",
       " 'CNCCC(Oc1ccc(cc1)C(F)(F)F)c1ccccc1',\n",
       " 'Fc1ccc(cc1)C(CCCN1CCC2(CC1)N(CNC2=O)c1ccccc1)c1ccc(F)cc1',\n",
       " 'Fc1ccc(cc1)C(CCCN1CCC2(CC1)N(CNC2=O)c1ccccc1)c1ccc(F)cc1',\n",
       " 'Fc1ccc(cc1)C(CCCN1CCC2(CC1)N(CNC2=O)c1ccccc1)c1ccc(F)cc1',\n",
       " 'CC(=O)O[C@H]1[C@@H](O)[C@H]2C(C)(C)CC[C@H](O)[C@]2(C)[C@@]2(O)C(=O)C[C@@](C)(O[C@]12C)C=C',\n",
       " 'CC(=O)O[C@H]1[C@@H](O)[C@H]2C(C)(C)CC[C@H](O)[C@]2(C)[C@@]2(O)C(=O)C[C@@](C)(O[C@]12C)C=C',\n",
       " 'CC(=O)O[C@H]1[C@@H](O)[C@H]2C(C)(C)CC[C@H](O)[C@]2(C)[C@@]2(O)C(=O)C[C@@](C)(O[C@]12C)C=C',\n",
       " 'C\\\\C(N(Cc1cnc(C)nc1N)C=O)=C(\\\\CCO)SSCC1CCCO1',\n",
       " 'C\\\\C(N(Cc1cnc(C)nc1N)C=O)=C(\\\\CCO)SSCC1CCCO1',\n",
       " 'C\\\\C(N(Cc1cnc(C)nc1N)C=O)=C(\\\\CCO)SSCC1CCCO1',\n",
       " 'Cc1ccc(C)c(OCCCC(C)(C)C(O)=O)c1',\n",
       " 'Cc1ccc(C)c(OCCCC(C)(C)C(O)=O)c1',\n",
       " 'Cc1ccc(C)c(OCCCC(C)(C)C(O)=O)c1',\n",
       " 'CN(C)CCCn1cc(C2=C(C(=O)NC2=O)c3c[nH]c4ccccc34)c5ccccc15',\n",
       " 'CN(C)CCCn1cc(C2=C(C(=O)NC2=O)c3c[nH]c4ccccc34)c5ccccc15',\n",
       " 'CN(C)CCCn1cc(C2=C(C(=O)NC2=O)c3c[nH]c4ccccc34)c5ccccc15',\n",
       " 'CCCCC[C@H](O)CC(=O)CCc1ccc(O)c(OC)c1',\n",
       " 'CCCCC[C@H](O)CC(=O)CCc1ccc(O)c(OC)c1',\n",
       " 'CCCCC[C@H](O)CC(=O)CCc1ccc(O)c(OC)c1',\n",
       " 'C[C@@]12CCC3C(CC[C@@H]4C[C@@H](O)CC[C@@]43C)[C@@]2(O)C[C@H](O)[C@@H]1C5=CC(=O)OC5',\n",
       " 'C[C@@]12CCC3C(CC[C@@H]4C[C@@H](O)CC[C@@]43C)[C@@]2(O)C[C@H](O)[C@@H]1C5=CC(=O)OC5',\n",
       " 'C[C@@]12CCC3C(CC[C@@H]4C[C@@H](O)CC[C@@]43C)[C@@]2(O)C[C@H](O)[C@@H]1C5=CC(=O)OC5',\n",
       " 'CNC(=O)[C@H](Cc1c[nH]c2ccccc12)NC(=O)[C@H](CC(C)C)CC(=O)NO',\n",
       " 'CNC(=O)[C@H](Cc1c[nH]c2ccccc12)NC(=O)[C@H](CC(C)C)CC(=O)NO',\n",
       " 'CNC(=O)[C@H](Cc1c[nH]c2ccccc12)NC(=O)[C@H](CC(C)C)CC(=O)NO',\n",
       " 'NC(=N)Nc1ccc2[nH]c3C4Oc5c6c(CC7N(CC8CC8)CCC46C7(O)Cc3c2c1)ccc5O',\n",
       " 'NC(=N)Nc1ccc2[nH]c3C4Oc5c6c(CC7N(CC8CC8)CCC46C7(O)Cc3c2c1)ccc5O',\n",
       " 'NC(=N)Nc1ccc2[nH]c3C4Oc5c6c(CC7N(CC8CC8)CCC46C7(O)Cc3c2c1)ccc5O',\n",
       " 'COc1ccccc1N1CCN(CCCCNC(=O)c2ccc(cc2)-c2ccc(cc2)C(C)=O)CC1',\n",
       " 'COc1ccccc1N1CCN(CCCCNC(=O)c2ccc(cc2)-c2ccc(cc2)C(C)=O)CC1',\n",
       " 'COc1ccccc1N1CCN(CCCCNC(=O)c2ccc(cc2)-c2ccc(cc2)C(C)=O)CC1',\n",
       " 'Cn1cc(C(=O)OCC2CCN(CCNS(C)(=O)=O)CC2)c2ccccc12',\n",
       " 'Cn1cc(C(=O)OCC2CCN(CCNS(C)(=O)=O)CC2)c2ccccc12',\n",
       " 'Cn1cc(C(=O)OCC2CCN(CCNS(C)(=O)=O)CC2)c2ccccc12',\n",
       " 'COC(=O)Nc1ccc2[nH]cc(CCNC(C)=O)c2c1',\n",
       " 'COC(=O)Nc1ccc2[nH]cc(CCNC(C)=O)c2c1',\n",
       " 'COC(=O)Nc1ccc2[nH]cc(CCNC(C)=O)c2c1',\n",
       " 'Ic1cccc(CSc2nnc(o2)c3ccncc3)c1',\n",
       " 'Ic1cccc(CSc2nnc(o2)c3ccncc3)c1',\n",
       " 'Ic1cccc(CSc2nnc(o2)c3ccncc3)c1',\n",
       " 'COc1ccccc1OCC(O)CO',\n",
       " 'COc1ccccc1OCC(O)CO',\n",
       " 'COc1ccccc1OCC(O)CO',\n",
       " 'NC(=N)N\\\\N=C/c1c(Cl)cccc1Cl',\n",
       " 'NC(=N)N\\\\N=C/c1c(Cl)cccc1Cl',\n",
       " 'NC(=N)N\\\\N=C/c1c(Cl)cccc1Cl',\n",
       " 'NC(=N)NC(=O)Cc1c(Cl)cccc1Cl',\n",
       " 'NC(=N)NC(=O)Cc1c(Cl)cccc1Cl',\n",
       " 'NC(=N)NC(=O)Cc1c(Cl)cccc1Cl',\n",
       " 'CN(CCOc1ccc(CC(Nc2ccccc2C(=O)c2ccccc2)C(O)=O)cc1)c1ccccn1',\n",
       " 'CN(CCOc1ccc(CC(Nc2ccccc2C(=O)c2ccccc2)C(O)=O)cc1)c1ccccn1',\n",
       " 'CN(CCOc1ccc(CC(Nc2ccccc2C(=O)c2ccccc2)C(O)=O)cc1)c1ccccn1',\n",
       " 'OC(=O)Cc1cccc(OCCCN(CC(c2ccccc2)c2ccccc2)Cc2cccc(c2Cl)C(F)(F)F)c1',\n",
       " 'OC(=O)Cc1cccc(OCCCN(CC(c2ccccc2)c2ccccc2)Cc2cccc(c2Cl)C(F)(F)F)c1',\n",
       " 'OC(=O)Cc1cccc(OCCCN(CC(c2ccccc2)c2ccccc2)Cc2cccc(c2Cl)C(F)(F)F)c1',\n",
       " 'CC(C)c1onc(c1COc2ccc(C=Cc3cccc(c3)C(=O)O)c(Cl)c2)c4c(Cl)cccc4Cl',\n",
       " 'CC(C)c1onc(c1COc2ccc(C=Cc3cccc(c3)C(=O)O)c(Cl)c2)c4c(Cl)cccc4Cl',\n",
       " 'CC(C)c1onc(c1COc2ccc(C=Cc3cccc(c3)C(=O)O)c(Cl)c2)c4c(Cl)cccc4Cl',\n",
       " 'Oc1c(Br)cc(C=C2C(=O)Nc3ccc(I)cc23)cc1Br',\n",
       " 'Oc1c(Br)cc(C=C2C(=O)Nc3ccc(I)cc23)cc1Br',\n",
       " 'Oc1c(Br)cc(C=C2C(=O)Nc3ccc(I)cc23)cc1Br',\n",
       " 'CC(C)(Sc1ccc(CCN(CCCCC2CCCCC2)C(=O)NC2CCCCC2)cc1)C(O)=O',\n",
       " 'CC(C)(Sc1ccc(CCN(CCCCC2CCCCC2)C(=O)NC2CCCCC2)cc1)C(O)=O',\n",
       " 'CC(C)(Sc1ccc(CCN(CCCCC2CCCCC2)C(=O)NC2CCCCC2)cc1)C(O)=O',\n",
       " 'COc1ccc2CN(C)CCC34C=CC(O)CC4Oc1c23',\n",
       " 'COc1ccc2CN(C)CCC34C=CC(O)CC4Oc1c23',\n",
       " 'COc1ccc2CN(C)CCC34C=CC(O)CC4Oc1c23',\n",
       " 'CN1C[C@@]2(C=C)C3CC4OC[C@@H]3[C@@H]1[C@H]2[C@@]45C(=O)Nc6ccccc65',\n",
       " 'CN1C[C@@]2(C=C)C3CC4OC[C@@H]3[C@@H]1[C@H]2[C@@]45C(=O)Nc6ccccc65',\n",
       " 'CN1C[C@@]2(C=C)C3CC4OC[C@@H]3[C@@H]1[C@H]2[C@@]45C(=O)Nc6ccccc65',\n",
       " 'C[C@H](CCC(=O)NCC(=O)O)[C@H]1CC[C@H]2[C@@H]3[C@H](O)C[C@@H]4C[C@H](O)CC[C@]4(C)[C@H]3C[C@H](O)[C@]12C',\n",
       " 'C[C@H](CCC(=O)NCC(=O)O)[C@H]1CC[C@H]2[C@@H]3[C@H](O)C[C@@H]4C[C@H](O)CC[C@]4(C)[C@H]3C[C@H](O)[C@]12C',\n",
       " 'C[C@H](CCC(=O)NCC(=O)O)[C@H]1CC[C@H]2[C@@H]3[C@H](O)C[C@@H]4C[C@H](O)CC[C@]4(C)[C@H]3C[C@H](O)[C@]12C',\n",
       " 'CC(CCC(=O)NCC(=O)O)C1CCC2C3CCC4CC(O)CCC4(C)C3CC(O)C12C',\n",
       " 'CC(CCC(=O)NCC(=O)O)C1CCC2C3CCC4CC(O)CCC4(C)C3CC(O)C12C',\n",
       " 'CC(CCC(=O)NCC(=O)O)C1CCC2C3CCC4CC(O)CCC4(C)C3CC(O)C12C',\n",
       " 'NC(=N)N\\\\N=C\\\\c1c(Cl)cccc1Cl',\n",
       " 'NC(=N)N\\\\N=C\\\\c1c(Cl)cccc1Cl',\n",
       " 'NC(=N)N\\\\N=C\\\\c1c(Cl)cccc1Cl',\n",
       " 'NC(=N)NN=Cc1c(Cl)cccc1Cl',\n",
       " 'NC(=N)NN=Cc1c(Cl)cccc1Cl',\n",
       " 'NC(=N)NN=Cc1c(Cl)cccc1Cl',\n",
       " 'Oc1nccc2c(cccc12)S(=O)(=O)N1CCCNCC1',\n",
       " 'Oc1nccc2c(cccc12)S(=O)(=O)N1CCCNCC1',\n",
       " 'Oc1nccc2c(cccc12)S(=O)(=O)N1CCCNCC1',\n",
       " 'OC1(CCN(CCCC(=O)c2ccc(F)cc2)CC1)c1ccc(Cl)cc1',\n",
       " 'OC1(CCN(CCCC(=O)c2ccc(F)cc2)CC1)c1ccc(Cl)cc1',\n",
       " 'OC1(CCN(CCCC(=O)c2ccc(F)cc2)CC1)c1ccc(Cl)cc1',\n",
       " 'CCCCCCc1ccc(O)cc1O',\n",
       " 'CCCCCCc1ccc(O)cc1O',\n",
       " 'CCCCCCc1ccc(O)cc1O',\n",
       " 'CN1C2CC[C@H]1C[C@H](C2)OC(=O)C(O)c1ccccc1',\n",
       " 'CN1C2CC[C@H]1C[C@H](C2)OC(=O)C(O)c1ccccc1',\n",
       " 'CN1C2CC[C@H]1C[C@H](C2)OC(=O)C(O)c1ccccc1',\n",
       " 'CC(CCCCC(=O)Nc1ccc(cc1)C(F)(F)F)NCCc1c[nH]cn1',\n",
       " 'CC(CCCCC(=O)Nc1ccc(cc1)C(F)(F)F)NCCc1c[nH]cn1',\n",
       " 'CC(CCCCC(=O)Nc1ccc(cc1)C(F)(F)F)NCCc1c[nH]cn1',\n",
       " 'CC(=O)OCC(=O)[C@@]1(O)CCC2C3CCC4=CC(=O)CC[C@]4(C)C3[C@@H](O)C[C@]12C',\n",
       " 'CC(=O)OCC(=O)[C@@]1(O)CCC2C3CCC4=CC(=O)CC[C@]4(C)C3[C@@H](O)C[C@]12C',\n",
       " 'C[C@]12C[C@H](O)C3C(CCC4=CC(=O)CC[C@]34C)C1CC[C@]2(O)C(=O)COC(=O)CCC(O)=O',\n",
       " 'C[C@]12C[C@H](O)C3C(CCC4=CC(=O)CC[C@]34C)C1CC[C@]2(O)C(=O)COC(=O)CCC(O)=O',\n",
       " 'C[C@]12C[C@H](O)C3C(CCC4=CC(=O)CC[C@]34C)C1CC[C@]2(O)C(=O)COC(=O)CCC(O)=O',\n",
       " 'CC12C[C@H](O)C3C(CCC4=CC(=O)CCC34C)C1CC[C@]2(O)C(=O)COP(O)(O)=O',\n",
       " 'CC12C[C@H](O)C3C(CCC4=CC(=O)CCC34C)C1CC[C@]2(O)C(=O)COP(O)(O)=O',\n",
       " 'CC12C[C@H](O)C3C(CCC4=CC(=O)CCC34C)C1CC[C@]2(O)C(=O)COP(O)(O)=O',\n",
       " 'CN1C2CC[C@@H]1C[C@H](C2)OC(=O)[C@H](CO)c1ccccc1',\n",
       " 'CN1C2CC[C@@H]1C[C@H](C2)OC(=O)[C@H](CO)c1ccccc1',\n",
       " 'CN1C2CC[C@@H]1C[C@H](C2)OC(=O)[C@H](CO)c1ccccc1',\n",
       " 'Cc1cc(O)c2c3c1c1c(C)cc(O)c4c1c1c3c3c(c(O)cc(O)c3c2=O)c2c(O)cc(O)c(c12)c4=O',\n",
       " 'Cc1cc(O)c2c3c1c1c(C)cc(O)c4c1c1c3c3c(c(O)cc(O)c3c2=O)c2c(O)cc(O)c(c12)c4=O',\n",
       " 'Cc1cc(O)c2c3c1c1c(C)cc(O)c4c1c1c3c3c(c(O)cc(O)c3c2=O)c2c(O)cc(O)c(c12)c4=O',\n",
       " 'CO[C@H](C)C(O)(C(C)C)C(=O)OCC1=CCN2CC[C@H](O)[C@H]21',\n",
       " 'CO[C@H](C)C(O)(C(C)C)C(=O)OCC1=CCN2CC[C@H](O)[C@H]21',\n",
       " 'CO[C@H](C)C(O)(C(C)C)C(=O)OCC1=CCN2CC[C@H](O)[C@H]21',\n",
       " 'C[C@H]1O[C@H](C[C@H](O)[C@@H]1O)OC2CC[C@]3(C=O)[C@H]4CC[C@]5(C)[C@H](CC[C@]5(O)[C@@H]4CC[C@]3(O)C2)C6=CC(=O)OC6',\n",
       " 'C[C@H]1O[C@H](C[C@H](O)[C@@H]1O)OC2CC[C@]3(C=O)[C@H]4CC[C@]5(C)[C@H](CC[C@]5(O)[C@@H]4CC[C@]3(O)C2)C6=CC(=O)OC6',\n",
       " 'C[C@H]1O[C@H](C[C@H](O)[C@@H]1O)OC2CC[C@]3(C=O)[C@H]4CC[C@]5(C)[C@H](CC[C@]5(O)[C@@H]4CC[C@]3(O)C2)C6=CC(=O)OC6',\n",
       " 'CN1[C@H]2CC[C@@H]1C[C@@H](C2)OC(=O)C(O)c3ccccc3',\n",
       " 'CN1[C@H]2CC[C@@H]1C[C@@H](C2)OC(=O)C(O)c3ccccc3',\n",
       " 'CN1[C@H]2CC[C@@H]1C[C@@H](C2)OC(=O)C(O)c3ccccc3',\n",
       " 'CN1CCCN(CC1)C(c1ccccc1)c1ccc(Cl)cc1',\n",
       " 'CN1CCCN(CC1)C(c1ccccc1)c1ccc(Cl)cc1',\n",
       " 'CN1CCCN(CC1)C(c1ccccc1)c1ccc(Cl)cc1',\n",
       " 'C/C=C/1\\\\C2Cc3[nH]c(=O)ccc3C1(N)CC(=C2)C',\n",
       " 'C/C=C/1\\\\C2Cc3[nH]c(=O)ccc3C1(N)CC(=C2)C',\n",
       " 'C/C=C/1\\\\C2Cc3[nH]c(=O)ccc3C1(N)CC(=C2)C',\n",
       " 'COc1c2OCOc2cc3CCN(C)Cc13',\n",
       " 'COc1c2OCOc2cc3CCN(C)Cc13',\n",
       " 'COc1c2OCOc2cc3CCN(C)Cc13',\n",
       " 'CC[C@H]1CN2CCC1C[C@H]2[C@H](O)c3ccnc4ccc(OC)cc34',\n",
       " 'CC[C@H]1CN2CCC1C[C@H]2[C@H](O)c3ccnc4ccc(OC)cc34',\n",
       " ...]"
      ]
     },
     "execution_count": 62,
     "metadata": {},
     "output_type": "execute_result"
    }
   ],
   "source": [
    "list(metadata['canonical_smiles'])"
   ]
  },
  {
   "cell_type": "code",
   "execution_count": 63,
   "metadata": {},
   "outputs": [
    {
     "name": "stderr",
     "output_type": "stream",
     "text": [
      "/home/hengshi/.conda/envs/chemvaeLower/lib/python3.6/site-packages/ipykernel_launcher.py:2: FutureWarning: elementwise comparison failed; returning scalar instead, but in the future will perform elementwise comparison\n",
      "  \n"
     ]
    },
    {
     "ename": "KeyboardInterrupt",
     "evalue": "",
     "output_type": "error",
     "traceback": [
      "\u001b[0;31m---------------------------------------------------------------------------\u001b[0m",
      "\u001b[0;31mKeyboardInterrupt\u001b[0m                         Traceback (most recent call last)",
      "\u001b[0;32m<ipython-input-63-b605ee880dcb>\u001b[0m in \u001b[0;36m<module>\u001b[0;34m\u001b[0m\n\u001b[1;32m      1\u001b[0m \u001b[0mlist_canonSmiles\u001b[0m \u001b[0;34m=\u001b[0m \u001b[0mlist\u001b[0m\u001b[0;34m(\u001b[0m\u001b[0mmetadata\u001b[0m\u001b[0;34m[\u001b[0m\u001b[0;34m'canonical_smiles'\u001b[0m\u001b[0;34m]\u001b[0m\u001b[0;34m)\u001b[0m\u001b[0;34m\u001b[0m\u001b[0;34m\u001b[0m\u001b[0m\n\u001b[0;32m----> 2\u001b[0;31m \u001b[0mindicesWithOnehot\u001b[0m \u001b[0;34m=\u001b[0m \u001b[0;34m[\u001b[0m\u001b[0mi\u001b[0m \u001b[0;32mfor\u001b[0m \u001b[0mi\u001b[0m \u001b[0;32min\u001b[0m \u001b[0mrange\u001b[0m\u001b[0;34m(\u001b[0m\u001b[0mmetadata\u001b[0m\u001b[0;34m.\u001b[0m\u001b[0mshape\u001b[0m\u001b[0;34m[\u001b[0m\u001b[0;36m0\u001b[0m\u001b[0;34m]\u001b[0m\u001b[0;34m)\u001b[0m \u001b[0;32mif\u001b[0m \u001b[0mlist_canonSmiles\u001b[0m\u001b[0;34m[\u001b[0m\u001b[0mi\u001b[0m\u001b[0;34m]\u001b[0m \u001b[0;32min\u001b[0m \u001b[0mtrt_whole_list\u001b[0m\u001b[0;34m]\u001b[0m\u001b[0;34m\u001b[0m\u001b[0;34m\u001b[0m\u001b[0m\n\u001b[0m",
      "\u001b[0;32m<ipython-input-63-b605ee880dcb>\u001b[0m in \u001b[0;36m<listcomp>\u001b[0;34m(.0)\u001b[0m\n\u001b[1;32m      1\u001b[0m \u001b[0mlist_canonSmiles\u001b[0m \u001b[0;34m=\u001b[0m \u001b[0mlist\u001b[0m\u001b[0;34m(\u001b[0m\u001b[0mmetadata\u001b[0m\u001b[0;34m[\u001b[0m\u001b[0;34m'canonical_smiles'\u001b[0m\u001b[0;34m]\u001b[0m\u001b[0;34m)\u001b[0m\u001b[0;34m\u001b[0m\u001b[0;34m\u001b[0m\u001b[0m\n\u001b[0;32m----> 2\u001b[0;31m \u001b[0mindicesWithOnehot\u001b[0m \u001b[0;34m=\u001b[0m \u001b[0;34m[\u001b[0m\u001b[0mi\u001b[0m \u001b[0;32mfor\u001b[0m \u001b[0mi\u001b[0m \u001b[0;32min\u001b[0m \u001b[0mrange\u001b[0m\u001b[0;34m(\u001b[0m\u001b[0mmetadata\u001b[0m\u001b[0;34m.\u001b[0m\u001b[0mshape\u001b[0m\u001b[0;34m[\u001b[0m\u001b[0;36m0\u001b[0m\u001b[0;34m]\u001b[0m\u001b[0;34m)\u001b[0m \u001b[0;32mif\u001b[0m \u001b[0mlist_canonSmiles\u001b[0m\u001b[0;34m[\u001b[0m\u001b[0mi\u001b[0m\u001b[0;34m]\u001b[0m \u001b[0;32min\u001b[0m \u001b[0mtrt_whole_list\u001b[0m\u001b[0;34m]\u001b[0m\u001b[0;34m\u001b[0m\u001b[0;34m\u001b[0m\u001b[0m\n\u001b[0m",
      "\u001b[0;31mKeyboardInterrupt\u001b[0m: "
     ]
    }
   ],
   "source": [
    "list_canonSmiles = list(metadata['canonical_smiles'])\n",
    "indicesWithOnehot = [i for i in range(metadata.shape[0]) if list_canonSmiles[i] in trt_whole_list]"
   ]
  },
  {
   "cell_type": "code",
   "execution_count": 65,
   "metadata": {},
   "outputs": [
    {
     "data": {
      "text/plain": [
       "((20065,), 1319138)"
      ]
     },
     "execution_count": 65,
     "metadata": {},
     "output_type": "execute_result"
    }
   ],
   "source": [
    "trt_whole_list.shape, len(list_canonSmiles)"
   ]
  },
  {
   "cell_type": "code",
   "execution_count": 66,
   "metadata": {},
   "outputs": [],
   "source": [
    "path_data = '/nfs/turbo/umms-welchjd/hengshi/perturb_gan/data/LINCS'\n",
    "path_model = \"/scratch/welchjd_root/welchjd/hengshi/GAN/perturb_gan/molecular-vae-master/output_zincInChemVAE_OnlyZinc_ChemVAEData_Scale1e2/model_params.pt\"\n",
    "\n",
    "path_vae_model = '/nfs/turbo/umms-welchjd/hengshi/perturb_gan/20201118/scVI_net2net/BaseNearestMatch/VAE_LINCS/models_vae/model_81416-2071305'\n",
    "path_onehot = '/nfs/turbo/umms-welchjd/hengshi/perturb_gan/data/LINCS/oneHot/'\n",
    "\n",
    "# import data\n",
    "#usedata = np.load(os.path.join(path_data, 'GSE92742_Broad_LINCS_Level3_INF_mlr12k_n1319138x12328_processed.npy'))\n",
    "\n",
    "indices_with_value = np.load(os.path.join(path_onehot, 'GSE92742_Broad_LINCS_Level3_INF_mlr12k_n1319138x12328_processed_IndicesWithCanonicalSmiles.npy'))\n",
    "#usedata = usedata[indices_with_value]\n",
    "\n",
    "metadata = pd.read_csv(os.path.join(path_data, 'GSE92742_Broad_LINCS_Level3_INF_mlr12k_n1319138x12328_processed_PerturbMeta.csv'))\n",
    "metadata = metadata.iloc[indices_with_value, :]\n",
    "indicesWithRes = list(metadata['canonical_smiles'] != 'restricted')\n",
    "\n",
    "#usedata = usedata[indicesWithRes]\n",
    "metadata = metadata.iloc[indicesWithRes, :]\n",
    "\n",
    "# select those with onehot data\n",
    "data_all = np.load(os.path.join(path_onehot, \"GSE92742_Broad_LINCS_Level3_INF_mlr12k_n1319138x12328_processed_UniqueCanonicalSmilesOneHot.npy\"))\n",
    "trt_whole_list = np.load(os.path.join(path_onehot, 'GSE92742_Broad_LINCS_Level3_INF_mlr12k_n1319138x12328_processed_UniqueCanonicalSmilesOneHotSmiles.npy'))\n",
    "\n",
    "list_canonSmiles = list(metadata['canonical_smiles'])\n",
    "\n"
   ]
  },
  {
   "cell_type": "code",
   "execution_count": 68,
   "metadata": {},
   "outputs": [
    {
     "data": {
      "text/plain": [
       "1"
      ]
     },
     "execution_count": 68,
     "metadata": {},
     "output_type": "execute_result"
    }
   ],
   "source": [
    "np.sum(list_canonSmiles[0] == trt_whole_list)"
   ]
  },
  {
   "cell_type": "code",
   "execution_count": 71,
   "metadata": {},
   "outputs": [],
   "source": [
    "a = set(trt_whole_list)"
   ]
  },
  {
   "cell_type": "code",
   "execution_count": 72,
   "metadata": {},
   "outputs": [
    {
     "data": {
      "text/plain": [
       "{'COc1ccc2c3c([C@H](CO)N(C[C@]33CN(CC4CCOCC4)C3)S(C)(=O)=O)n(C)c2c1',\n",
       " 'C[C@H](CO)N1C[C@H](C)[C@@H](CN(C)C(=O)Cc2ccncc2)Oc3cc(ccc3S1(=O)=O)C4=CCCCC4',\n",
       " 'COc1cccc(c1)S(=O)(=O)N1CCCCN2[C@@H](CO)[C@H]([C@H]2C1)c1ccc(cc1)C#CCC(C)C',\n",
       " 'CCC(=O)NC[C@@H]1[C@@H]([C@H](CO)N1Cc1ccccn1)c1ccc(\\\\C=C\\\\C)cc1',\n",
       " 'COc1cccc(c1)c2cccc(c2)c3nc(cc4CN([C@H](CCO)c43)S(=O)C(C)(C)C)C(=O)N5CCN(C)CC5',\n",
       " 'OC[C@@H]1[C@@H](c2ccccc2)C2(CN(C2)C(=O)C2CCCC2)N1CC1CC1',\n",
       " 'Cc1ccc(cn1)C(=O)Nc1ccccc1N',\n",
       " 'COc1ccccc1N1CCN(CC(O)COc2cccc3ccccc23)CC1',\n",
       " 'CC(C)(O)[C@H]1O[C@H]2CC[C@]3(C)[C@]4(C)[C@H](Cc5c4[nH]c6ccccc56)CC[C@@]3(O)C2=CC1=O',\n",
       " 'CO[C@H]1CC[C@H]2CCOc3ccc(cc3C(=O)N(C)C[C@H](CC(=O)N(C)C[C@H]1O2)c1ccccc1)C#N',\n",
       " 'CN1[C@H]2CC[C@H](CC(=O)NCc3ccccc3F)O[C@@H]2COc2ccc(NC(=O)C3CCCCC3)cc2C1=O',\n",
       " 'CN(C)C(=O)c1ccc(cc1)-c1ccc2N[C@@H](CO)[C@@H]3CCN(Cc4ccc5OCOc5c4)[C@@H]3c2c1',\n",
       " 'OC[C@H]1[C@@H]([C@@H]2CN(CC3CCOCC3)CCCCN12)c1ccc(cc1)C#Cc1ccccc1F',\n",
       " 'COCC(=O)N1C[C@@]2(C1)CN(Cc1ccc3OCOc3c1)[C@H](CO)c1c2c2ccc(OC)cc2n1C',\n",
       " 'CC(=O)N1[C@H]([C@H](CO)[C@H]2Cn3c(cccc3=O)[C@@H]12)C(=O)NCc1ccccc1F',\n",
       " 'C[C@H](CO)N1C[C@H](C)[C@@H](CN(C)CC2CCCC2)Oc3ncc(C#Cc4ccncc4)cc3C1=O',\n",
       " 'COc1cc2[nH]nnc2cc1C(=O)NCC1CCCN1CC=C',\n",
       " 'OC[C@@H]1[C@@H]([C@H](C#N)N1C(=O)Cc1ccccn1)c1ccc(cc1)C#CC1CC1',\n",
       " 'C(N1[C@H]2CNC[C@@H]1[C@@H]2c1ccc(cc1)-c1cccnc1)c1ccc2OCOc2c1',\n",
       " 'CN1[C@@H]2CC[C@H](CC(=O)NCCc3ccncc3)O[C@@H]2COc2ccc(NC(=O)Nc3ccccc3F)cc2C1=O',\n",
       " 'CCNC(=O)c1cc2CN([C@@H](CCO)c2c(n1)-c1cccc(c1)-c1cccc(c1)C(=O)N(C)C)[S@@](=O)C(C)(C)C',\n",
       " 'O=c1cc(oc2c(cccc12)-c1ccccc1)N1CCOCC1',\n",
       " 'COC(=O)C[C@@H]1CC[C@@H]2[C@H](COc3ccc(NS(=O)(=O)c4ccc(F)cc4)cc3C(=O)N2C)O1',\n",
       " 'COc1ccc(cc1OC)c2nnn(CC(=O)N(C(C)C(=O)NC3CCCC3)C4CCCCC4)n2',\n",
       " 'CCNC(=O)c1noc(c1-c1ccc(CN2CCOCC2)cc1)-c1cc(C(C)C)c(O)cc1O',\n",
       " 'CC(C)=CCC\\\\C(C)=C\\\\CC\\\\C(C)=C\\\\CC\\\\C(C)=C\\\\CO',\n",
       " 'COc1cccc(c1)S(=O)(=O)N(C)C[C@H]2OCc3cn(CCCC(=O)N(C[C@@H]2C)[C@H](C)CO)nn3',\n",
       " 'C[C@H](CO)N1C[C@@H](C)[C@@H](CN(C)Cc2ccccc2F)Oc3cc(ccc3S1(=O)=O)C4=CCCC4',\n",
       " 'Cc1c(c2ccccc2)[n+]([O-])c(c(C)[n+]1[O-])c3ccc(Br)cc3',\n",
       " 'Cc1nnc(NS(=O)(=O)c2ccc(N)cc2)s1',\n",
       " 'COc1ccc2C3=NCCN3C(=Nc2c1OC)NC(=O)c4cccnc4',\n",
       " 'CNC[C@H]1Oc2cc(C#CC3(O)CCCC3)ccc2S(=O)(=O)N(C[C@@H]1C)[C@@H](C)CO',\n",
       " 'CC(C)NC(=O)Nc1cccc2C(=O)N(C[C@@H](C)[C@H](CN(C)Cc3ccc(Cl)c(Cl)c3)Oc12)[C@H](C)CO',\n",
       " 'CN(C)C(=O)[C@@H]1[C@@H](CO)[C@@H]2Cn3c(ccc(C4=CCCC4)c3=O)[C@H]1N2C(=O)Nc1ccccc1',\n",
       " 'COc1cccc(c1)S(=O)(=O)N(C)C[C@@H]2Oc3cc(ccc3S(=O)(=O)N(C[C@@H]2C)[C@H](C)CO)C4=CCCCC4',\n",
       " 'OC[C@H]1[C@@H]([C@@H](C#N)N1C(=O)c1cccnc1)c1ccc(cc1)C#Cc1ccccc1F',\n",
       " 'CCS(=O)(=O)N1[C@@H](CO)[C@@H]([C@H]1C#N)c1ccc(cc1)C#Cc1ccccc1F',\n",
       " 'C[C@H](CO)N1C[C@H](C)[C@H](CN(C)Cc2ccc(F)cc2)Oc3ncc(/C=C/c4ccccc4)cc3C1=O',\n",
       " 'C[C@H](CO)N1C[C@@H](C)[C@@H](CN(C)C(=O)c2ccc(F)cc2)Oc3cc(ccc3S1(=O)=O)C4=CCCCC4',\n",
       " 'CCOC(=O)N(C)C[C@@H]1OCc2cn(CCCC(=O)N(C[C@@H]1C)[C@@H](C)CO)nn2',\n",
       " 'CC(C)C#Cc1ccc(cc1)[C@H]1[C@H](CO)N2[C@H]1CN(CC2=O)C(=O)c1ccc2OCOc2c1',\n",
       " 'CO[C@@H](CN(C)C(=O)C1CCOCC1)[C@H](C)CN([C@H](C)CO)C(=O)Nc1ccc(F)cc1',\n",
       " 'CC(C)NC(=O)Nc1ccc2O[C@@H](C)CCCCO[C@H](CN(C)C(=O)CCCN(C)C)[C@@H](C)CN([C@@H](C)CO)C(=O)c2c1',\n",
       " 'COc1ccc2c3c([C@H](CO)N(C[C@]33CN(C3)C(=O)c3ccccc3F)C(=O)Nc3ccccc3F)n(C)c2c1',\n",
       " 'OP(O)(=O)C(F)(F)c1cc2cc(ccc2cc1Br)C#N',\n",
       " 'OC[C@@H]1[C@@H](c2ccccc2)C2(CN(Cc3nccs3)C2)N1CCC(F)(F)F',\n",
       " 'O=C1CCCn2cc(COC[C@@H](Cc3ccccc3)N1)nn2',\n",
       " 'COc1ccc2c3c([C@@H](CO)N(C[C@]33CCN(CC3)C(=O)c3ccccc3F)C(=O)Nc3ccc(F)cc3)n(C)c2c1',\n",
       " 'COc1ccc(NC(=O)N2C[C@H]3[C@H]([C@@H](CO)N3C(=O)C2)c2ccc(cc2)C2=CCCC2)cc1',\n",
       " 'C[C@H](CO)N1C[C@H](C)[C@@H](CN(C)S(=O)(=O)C)Oc2ncc(cc2C1=O)c3ccc(C)cc3',\n",
       " 'C[C@H](CO)N1C[C@@H](C)[C@H](CN(C)C(=O)c2ccncc2)OCc3ccccc3-c4c(C1=O)n(C)c5ccccc45',\n",
       " 'CCc1cnc(s1)N1[C@@H](CO)[C@@H]([C@@H]1C#N)c1ccc(cc1)C1=CCCC1',\n",
       " 'OC[C@H]1O[C@H](CC(=O)NCCN2CCCCC2)C[C@@H]3[C@H]1Oc4ccc(NC(=O)Cc5ccncc5)cc34',\n",
       " 'Nc1nc(cs1)C(=N/O)\\\\C(=O)N[C@H]1[C@H]2SCC(C=C)=C(N2C1=O)C(O)=O',\n",
       " 'CCN(CC)S(=O)(=O)c1cccc2cc(C(=O)O)c(O)cc12',\n",
       " 'C[C@H](CO)N1C[C@@H](C)[C@@H](CN(C)S(=O)(=O)c2ccc(F)cc2)Oc3cc(ccc3S1(=O)=O)C4=CCCC4',\n",
       " 'COc1ccc2[C@H](OC(=O)c2c1OC)C1N(C)CCc2cc3OCOc3c(OC)c12',\n",
       " 'C[C@H](CO)N1C[C@@H](C)[C@H](CN(C)S(=O)(=O)c2ccccc2)Oc3ccc(cc3CC1=O)N(C)C',\n",
       " 'OC[C@H]1O[C@@H](CC(=O)N2CCOCC2)C[C@@H]3[C@H]1Oc4ccc(NS(=O)(=O)c5ccccc5)cc34',\n",
       " 'CCCN1C[C@@H](C)[C@@H](CN(C)C(=O)c2cc(NS(=O)(=O)c3ccccc3)ccc2OC[C@@H]1C)OC',\n",
       " 'CN1[C@@H]2CC[C@H](CC(=O)NCc3ccc(cc3)-c3ccccc3)O[C@@H]2COc2ccc(NC(=O)c3cc(C)on3)cc2C1=O',\n",
       " 'CC(C)CC1(CC=C)C(=O)NC(=O)NC1=O',\n",
       " 'CO[C@H]1CC[C@@H]2CCOc3c(cccc3C(=O)N(C)C[C@H](OC)[C@@H](C)C(=O)N(C)C[C@@H]1O2)C#N',\n",
       " 'CC(C)NC(=O)N(C)C[C@@H]1OCCCC[C@@H](C)Oc2ccc(NC(=O)Cc3ccccc3)cc2C(=O)N(C[C@@H]1C)[C@@H](C)CO',\n",
       " 'CO[C@H]1CC[C@@H]2CCN(C)C(=O)[C@H](C)[C@@H](CN(C)C(=O)c3cc(ccc3OC[C@H]1O2)C#N)OC',\n",
       " 'COc1ccc2c3c([nH]c2c1)[C@@H](CO)N(C[C@]31CCN(CC2CCCC2)CC1)C(=O)CN1CCOCC1',\n",
       " 'Cn1nnnc1Sc2ncnc3scc(c4cccc(Br)c4)c23',\n",
       " 'OC[C@H]1O[C@H](CC(=O)NCc2cccc(F)c2)C[C@H]3[C@@H]1Oc4ccc(NC(=O)C5CCC5)cc34',\n",
       " 'CC(C)OC(=O)C1=C(C)N=c2sc(=Cc3ccc(OCC(=O)O)cc3)c(=O)n2C1c4ccc(Cl)cc4',\n",
       " 'C(CNC(c1ccccc1)c1ccccc1)NC(c1ccccc1)c1ccccc1',\n",
       " 'C[C@H](CO)N1C[C@@H](C)[C@@H](CN(C)S(=O)(=O)c2cccc(C#N)c2)OCc3ccccc3-c4c(C1=O)n(C)c5ccccc45',\n",
       " 'C[C@H](CO)N1C[C@@H](C)[C@H](CN(C)Cc2ccncc2)OCCCC[C@@H](C)Oc3ccc(NC(=O)Nc4ccccc4)cc3C1=O',\n",
       " 'COC(=O)C[C@H]1CC[C@@H]2NC[C@@H](O)COC[C@H]2O1',\n",
       " 'COC(=O)C[C@@H]1CC[C@H]2[C@@H](COc3ccc(NC(=O)c4cccc(Cl)c4)cc3C(=O)N2C)O1',\n",
       " 'C[C@@H]1O[C@@H](C[C@H]1O)n1cnc2c(N)ncnc12',\n",
       " 'COc1ccc(C=Cc2cc(OC)cc(OC)c2)c(OC)c1',\n",
       " 'CN1[C@@H]2CC[C@@H](CC(=O)N[C@@H]3CCN(Cc4ccccc4)C3)O[C@@H]2COc2ccc(NC(=O)Nc3c(C)noc3C)cc2C1=O',\n",
       " 'CCC(=O)N1CC[C@@]2(CC1)CN([C@@H](CO)c1[nH]c3cc(OC)ccc3c21)S(=O)(=O)c1ccccc1',\n",
       " 'COc1ccc(CN(C)C[C@H]2Oc3ccc(NC(=O)Cn4cnnn4)cc3C(=O)N(C[C@H]2C)[C@@H](C)CO)cc1',\n",
       " 'OC[C@@H]1N[C@H](C#N)[C@@H]1c1ccc(cc1)C#Cc1ccccc1F',\n",
       " 'CO[C@H]1CC[C@@H]2CCN(C)C(=O)[C@H](C)N(C)C(=O)c3cccc(C#N)c3OC[C@@H]1O2',\n",
       " 'COc1cc2nccc(Oc3ccc(NC(=O)Nc4cc(C)on4)c(Cl)c3)c2cc1OC',\n",
       " 'CCOC(=O)C1(CCN(CCC(C#N)(c2ccccc2)c3ccccc3)CC1)c4ccccc4',\n",
       " 'O[C@@H]1COC[C@@H]2O[C@@H](CC(=O)N3CCCCC3)CC[C@H]2N(C1)S(=O)(=O)c1cccc(Cl)c1',\n",
       " 'CCCNC(=O)N1[C@H](CO)[C@@H]([C@H]1CNC(C)C)c1ccc(cc1)C1=CCCCC1',\n",
       " 'OC[C@H]1[C@@H]2[C@@H](CN(C(=O)Nc3ccc(Cl)cc3)c3ccccc23)N1C(=O)C1CC1',\n",
       " 'C[C@@]12CC[C@H]3[C@@H](CCC4=C3CCC(=O)C4)[C@@H]2CC[C@@]1(O)C#C',\n",
       " 'O[C@@H]1COC[C@@H]2O[C@H](CC(=O)Nc3nccs3)CC[C@H]2N(Cc2ccc(Oc3ccccc3)cc2)C1',\n",
       " 'OC[C@@H]1N(Cc2ccccn2)C2(CN(C2)C(=O)c2cccc(F)c2)[C@H]1c1ccccc1',\n",
       " 'CC(C)(Oc1ccc(cc1)C1CC1(Cl)Cl)C(O)=O',\n",
       " 'C[C@@H](CO)N1C[C@@H](C)[C@@H](CN(C)C(=O)Nc2ccc(F)cc2)OCCCC[C@H](C)Oc3ccc(NS(=O)(=O)c4ccccc4)cc3C1=O',\n",
       " 'C[C@H](NC(=O)C[C@@H]1C[C@H]2[C@H](Oc3ccc(NC(=O)Nc4ccc(cc4)C(F)(F)F)cc23)[C@H](CO)O1)c5ccccc5',\n",
       " 'COC(=O)C[C@@H]1CC[C@H]2[C@@H](COc3ccc(NC(=O)c4ccccc4F)cc3C(=O)N2C)O1',\n",
       " 'OC[C@H]1[C@@H]2[C@@H](CN(C(=O)CC(F)(F)F)c3ccccc23)N1Cc1cccnc1',\n",
       " 'CO[C@H]1CC[C@@H]2CCN(C)C(=O)[C@@H](C)N(C)C(=O)c3cccc(C#N)c3OC[C@@H]1O2',\n",
       " 'OC[C@H]1[C@H]([C@H]2CN(CC(=O)N12)C(=O)Cc1cccnc1)c1ccc(cc1)C#CC1CCCCC1',\n",
       " 'C[C@H](CO)N1C[C@@H](C)[C@H](CN(C)C)Oc2ccc(NC(=O)C3CC3)cc2C1=O',\n",
       " 'CSc1ccc2Sc3ccccc3CC(N3CCN(C)CC3)c2c1',\n",
       " 'Cc1ccc(cc1)N(CC1=NCCN1)c1cccc(O)c1',\n",
       " 'CCN(C[C@H]1N[C@H](CO)[C@H]1c1ccc(cc1)-c1ccc(F)cc1)C(=O)COC',\n",
       " 'CCC(=O)N1C[C@@H](C)[C@@H](CN(C)C(=O)c2ccc(NC(=O)c3ccccc3)cc2OC[C@@H]1C)OC',\n",
       " 'COc1ccc2[nH]c(nc2n1)S(=O)Cc1ncc(C)c(OC)c1C',\n",
       " 'CO[C@@H](CN(C)C(=O)c1ccc2OCOc2c1)[C@H](C)CN([C@H](C)CO)S(=O)(=O)c1ccc(C)cc1',\n",
       " 'CC(C)C#Cc1ccc2c(O[C@H](CN(C)S(=O)(=O)c3cn(C)cn3)[C@@H](C)CN([C@H](C)CO)S2(=O)=O)c1',\n",
       " 'OC[C@H]1N(Cc2ccccn2)[C@@H](CN(C)S(C)(=O)=O)[C@@H]1c1ccccc1',\n",
       " 'CCCC(NS(=O)(=O)c1ccc(C)cc1)C(=O)O',\n",
       " 'COc1ccc(NC(=O)N[C@@H]2CC[C@@H](CC(=O)NC3CCC3)O[C@H]2CO)cc1',\n",
       " 'OC[C@H]1O[C@H](CC(=O)NCc2cc(F)ccc2F)C[C@@H]3[C@H]1Oc4ccc(NC(=O)c5cccnc5)cc34',\n",
       " 'CO[C@H]1CC[C@@H]2CCN(C)C(=O)CCCN(C)C(=O)c3cc(ccc3OC[C@H]1O2)C#N',\n",
       " 'COCCN(C[C@@H]1[C@H]([C@H](CO)N1C(=O)C1CCC1)c1ccccc1)C(C)=O',\n",
       " 'CO[C@@H](CN(C)C(=O)C1CCOCC1)[C@@H](C)CN([C@H](C)CO)C(=O)Nc1ccc(F)cc1',\n",
       " 'COc1cccc(c1)C(=O)Nc1ccc2OC[C@@H]3O[C@@H](CC(=O)N[C@@H](C)c4ccccc4)CC[C@@H]3N(C)C(=O)c2c1',\n",
       " 'O[C@H]1COC[C@@H]2O[C@H](CC(=O)N3CCOCC3)CC[C@H]2N(Cc2cccc(c2)-c2ccncc2)C1',\n",
       " 'OONc1ccc2nc(ccc2c1I)N1CCNCC1',\n",
       " 'Cc1cccc(c1)S(=O)(=O)N1C[C@H](O)COC[C@H]2O[C@H](CC(=O)Nc3ccc(cc3)-c3ccccc3)CC[C@H]12',\n",
       " 'CN(C)CCCc1cc(ccc1O)C(=O)Nc2ccc(cc2)c3ccncc3',\n",
       " 'Cc1onc(C(=O)N2CCN(CC2)C(c2ccc(F)cc2)c2ccc(F)cc2)c1[N+]([O-])=O',\n",
       " 'COC(=O)c1ccccc1NC(=O)CCCOc1cc(=O)n(C)c2ccccc12',\n",
       " 'COc1ccc(cc1)c2nc(OC)c3ccccc3n2',\n",
       " 'CCN1[C@@H]2Cn3c(ccc(-c4ccccc4F)c3=O)[C@H]1[C@H]([C@@H]2CO)C(=O)NCc1ccc(F)cc1',\n",
       " 'CCOC(=O)[C@H](CCc1ccccc1)N[C@@H](C)C(=O)N1Cc2cc(OC)c(OC)cc2C[C@H]1C(O)=O',\n",
       " 'OC[C@H]1O[C@H](CCn2cc(nn2)C2CCCCC2)CC[C@H]1NC(=O)CN1CCOCC1',\n",
       " 'CCCCCc1c(C(=O)O)c(O)cc2OC(=O)c3c(cc(OC)cc3Oc12)C(=O)CCCC',\n",
       " 'CO[C@H]1CC[C@@H]2CCOc3c(cccc3C(=O)N(C)C[C@@H](C)C(=O)N(C)C[C@H]1O2)C#N',\n",
       " 'CC(C)NC(=O)N[C@H]1CC[C@@H](CCN)O[C@H]1CO',\n",
       " 'COc1cc(OC)c(Cl)c2O[C@]3([C@H](C)CC(=O)C=C3OC)C(=O)c12',\n",
       " 'C[C@@H](CO)N1C[C@H](C)[C@H](CN(C)C(=O)Nc2ccc3OCOc3c2)Oc4cc(C#Cc5ccncc5)ccc4S1(=O)=O',\n",
       " 'COc1ccc2c3c([C@H](CO)NC[C@]33CN(Cc4ccc(F)cc4)C3)n(C)c2c1',\n",
       " 'C[C@@H](CO)N1C[C@H](C)[C@@H](CN(C)C)Oc2cc(ccc2S1(=O)=O)c3ccc(F)cc3',\n",
       " 'C[C@H](CO)N1C[C@H](C)[C@@H](CN(C)C(=O)Nc2ccc(F)cc2)OCc3cn(CCCC1=O)nn3',\n",
       " 'COc1ccc2c3c([nH]c2c1)[C@H](CO)N(C[C@]31CN(C1)C(=O)NC(C)C)C(=O)C1CCOCC1',\n",
       " 'CO[C@H]1CN(C)C(=O)c2cc(NC(C)=O)ccc2OC[C@H](C)N(C[C@H]1C)C(=O)c1cnccn1',\n",
       " 'CCOC(=O)c1ncn-2c1CN(C)C(=O)c1cc(ccc-21)N=[N+]=[N-]',\n",
       " 'OC[C@H]1[C@@H]2Cn3c(cccc3=O)[C@H]([C@@H]1C(=O)N1CCCCC1)N2Cc1cocn1',\n",
       " 'COc1ccc(/C=C(\\\\C#N)/c2cccnc2)cc1OC',\n",
       " 'CO[C@@H]1CN(C)C(=O)c2cc(NS(=O)(=O)CC(F)(F)F)ccc2OC[C@H](C)N(C[C@H]1C)C(=O)NC(C)C',\n",
       " 'COCC(=O)Nc1ccc2O[C@H]3[C@H](C[C@H](CC(=O)N4CCOCC4)O[C@H]3CO)c2c1',\n",
       " 'CNC[C@@H]1Oc2c(NC(=O)NC(C)C)cccc2C(=O)N(C[C@@H]1C)[C@@H](C)CO',\n",
       " 'CCCCN1CCCC1CNC(=O)c1cc(C#N)c2ccccc2c1OC',\n",
       " 'COC(=O)N1CCN(C(CN2CCCC2)C1)C(=O)Cc3ccc(Cl)c(Cl)c3',\n",
       " 'CCCN(C)C[C@H]1Oc2ncc(cc2C(=O)N(C[C@@H]1C)[C@H](C)CO)c3ccccc3',\n",
       " 'CO[C@H]1CC[C@@H]2CCOc3ccc(cc3C(=O)N(C)C[C@@H](CC(=O)N(C)C[C@H]1O2)c1ccccc1)C#N',\n",
       " 'OC[C@@H]1[C@H](c2ccccc2)C2(CN(C2)C(=O)C2CCOCC2)N1Cc1ccccc1F',\n",
       " 'O[C@@H]1COC[C@@H]2O[C@H](CC(=O)NCC3CCCCC3)CC[C@H]2N(C1)C(=O)Nc1ccc(Cl)cc1',\n",
       " 'CN1[C@@H](CO)[C@H]2CCN([C@H]2c2cc(ccc12)-c1ccccc1F)C(=O)Cc1ccccn1',\n",
       " 'CCCN1CCCC2Cc3n[nH]cc3CC21',\n",
       " 'CC(C)NC(=O)Nc1ccc2O[C@@H](CN(C)S(=O)(=O)C)[C@@H](C)CN([C@@H](C)CO)C(=O)c2c1',\n",
       " 'CCN(C[C@H]1N[C@@H](CO)[C@@H]1c1ccccc1)C(=O)c1ccncc1',\n",
       " 'OC[C@@H]1[C@@H]([C@H](C#N)N1S(=O)(=O)c1ccccc1)c1ccc(cc1)C1=CCCCC1',\n",
       " 'Cc1nc2sccn2c(=O)c1CCN1CCC(CC1)=C(c1ccccc1)c1ccc(F)cc1',\n",
       " 'COc1ccc(cc1)S(=O)(=O)N(C)C[C@H]2Oc3ncc(C#CC4(O)CCCC4)cc3C(=O)N(C[C@H]2C)[C@H](C)CO',\n",
       " 'CCCNC(=O)N1CC2(C1)[C@@H]([C@H](CO)N2C(=O)CC1CC1)c1ccccc1',\n",
       " 'CC(=O)S[C@@H]1CC2=CC(=O)CC[C@]2(C)[C@H]2CC[C@@]3(C)[C@@H](CC[C@@]33CCC(=O)O3)[C@H]12',\n",
       " 'CCOC(=O)CCC(=O)Nc1ncnc2Oc3ccc4ccccc4c3C(c5ccccc5)c12',\n",
       " 'C[C@@H](CO)N1C[C@@H](C)[C@H](CN(C)C(=O)Nc2c(C)noc2C)OCc3cnnn3CCCC1=O',\n",
       " 'CC(=CCOc1c2occc2cc3ccc(=O)oc13)C',\n",
       " 'C[C@@H](CO)N1C[C@@H](C)[C@@H](CN(C)C(=O)c2ccncc2)OCc3ccccc3-c4ccccc4C1=O',\n",
       " 'COC(=O)C[C@H]1O[C@H](CO)[C@@H](NC(=O)Nc2ccc(cc2)C(F)(F)F)C=C1',\n",
       " 'O[C@H]1COC[C@@H]2O[C@H](CC(=O)NCc3ccc(Cl)c(Cl)c3)CC[C@H]2N(C1)C(=O)c1ccccc1F',\n",
       " 'COc1ccc(cc1)-c1ccc2[C@@H]3[C@@H]([C@@H](CO)[C@H](Cn2c1=O)N3C(=O)c1ccccc1F)C(O)=O',\n",
       " 'COc1ccc(cc1)-c1ccc2N(C)[C@H](CO)[C@@H]3CCN([C@@H]3c2c1)C(=O)NC1CCCCC1',\n",
       " 'Fc1ccc(F)c(OCCn2c(CCNC(=O)C3CCCCC3)nc3ccccc23)c1',\n",
       " 'C[C@@H](CO)N1C[C@@H](C)[C@H](CN(C)S(=O)(=O)c2cccc(C#N)c2)OCc3ccccc3-c4c(C1=O)n(C)c5ccccc45',\n",
       " 'CCCN1[C@H]([C@H](CO)[C@H]2Cn3c(ccc(\\\\C=C\\\\c4ccccc4)c3=O)[C@@H]12)C(=O)NCc1ccncn1',\n",
       " 'OC[C@@H]1O[C@@H](CC(=O)NCC2CC2)C[C@H]3[C@@H]1Oc4ccc(NC(=O)CC5CC5)cc34',\n",
       " 'Cc1ccc(CN2C[C@H]3[C@@H]([C@@H](CO)N3C(=O)C2)c2ccc(cc2)-c2ccccc2F)cc1',\n",
       " 'CCCC(=O)N1CC[C@@]2(CC1)CN([C@H](CO)c1[nH]c3cc(OC)ccc3c21)C(=O)Cc1ccccn1',\n",
       " 'COc1ccc(cc1)-c1ccc2[C@H]3[C@H]([C@H](CO)[C@@H](Cn2c1=O)N3C)C(=O)Nc1ccccc1',\n",
       " 'CC(C)NC(=O)Nc1ccc2O[C@H](C)CCCCO[C@H](CN(C)C(=O)Cc3ccccc3)[C@@H](C)CN([C@H](C)CO)C(=O)c2c1',\n",
       " 'O[C@H]1COC[C@H]2O[C@H](CC(=O)N3CCc4ccccc4C3)CC[C@@H]2N(Cc2ccccc2F)C1',\n",
       " 'CO[C@H]1CC[C@@H]2CCOc3c(cccc3C(=O)N(C)C[C@H](C)C(=O)N(C)C[C@@H]1O2)C#N',\n",
       " 'COCC(=O)N1C[C@H](C)[C@@H](CN(C)C(=O)c2cc(NC(=O)Nc3cccc(F)c3)ccc2OC[C@H]1C)OC',\n",
       " 'COc1ccc2N(CCCN(C)C)c3cc(Cl)ccc3Sc2c1',\n",
       " 'C[C@H](CO)N1C[C@H](C)[C@@H](CN(C)S(=O)(=O)c2ccccc2F)OCc3cn(CCCC1=O)nn3',\n",
       " 'C[C@@H](CO)N1C[C@H](C)[C@@H](CN(C)Cc2ccc(F)cc2)OCc3ccccc3-c4ccccc4C1=O',\n",
       " 'CCS(=O)(=O)N1C[C@H]2[C@@H]([C@@H](CO)N2C(=O)C1)c1ccc(cc1)-c1cccc(F)c1',\n",
       " 'NC(=O)[C@H]1CCCc2c1[nH]c1ccc(Cl)cc21',\n",
       " 'CC(C)NC(=O)Nc1ccc2O[C@H](C)CCCCO[C@@H](CN(C)C(=O)CCCN(C)C)[C@H](C)CN([C@H](C)CO)C(=O)c2c1',\n",
       " 'OC[C@H]1[C@@H]([C@H]2CN(CC(=O)N12)C(=O)CC1CC1)c1ccc(\\\\C=C\\\\c2ccccc2)cc1',\n",
       " 'CO[C@@H]1CN(C)C(=O)c2cc(NS(=O)(=O)CC(F)(F)F)ccc2OC[C@H](C)N(Cc2nccs2)C[C@@H]1C',\n",
       " 'C[C@@H](CO)N1C[C@@H](C)[C@H](CN(C)C(=O)NC2CCCCC2)OCc3ccccc3-c4ccccc4C1=O',\n",
       " 'OC[C@H]1Nc2ccc(cc2[C@@H]2[C@H]1CCN2Cc1ccc2OCOc2c1)-c1cccc(c1)C#N',\n",
       " 'C[C@H](CO)N1C[C@@H](C)[C@H](CN(C)C(=O)Nc2ccccc2)OCCCC[C@@H](C)Oc3ccc(NC(=O)Nc4ccc(cc4)C(F)(F)F)cc3C1=O',\n",
       " 'CN(C)c1ccc2O[C@H]3[C@H](C[C@H](CC(=O)NCCN4CCCCC4)O[C@H]3CO)c2c1',\n",
       " 'COC(=O)C[C@H]1CC[C@@H]2[C@H](COC[C@@H](O)CN2S(=O)(=O)c2cn(C)cn2)O1',\n",
       " '[O-][N+](=O)c1cc2C(=O)N(C(=O)c2cc1N3CCOCC3)c4cccc5CCCCc45',\n",
       " 'Cc1ccc(cn1)-c1ncc(Cl)cc1-c1ccc(cc1)S(C)(=O)=O',\n",
       " 'CN(C)CC(=O)N1CCCCN2[C@H](CO)[C@H]([C@@H]2C1)c1ccc(\\\\C=C\\\\c2ccccc2)cc1',\n",
       " 'OC[C@H]1[C@H]([C@@H]2CN(CC(=O)N12)C(=O)C1CCOCC1)c1ccc(cc1)-c1cccnc1',\n",
       " 'OC[C@H]1Nc2ccc(cc2[C@@H]2[C@H]1CCN2C(=O)c1cccc(F)c1)-c1ccccc1',\n",
       " 'C[C@H](CO)N1C[C@@H](C)[C@H](CN(C)S(=O)(=O)c2ccc(Cl)cc2)Oc3c(NC(=O)Nc4ccc(F)cc4)cccc3C1=O',\n",
       " 'C[C@H](CO)N1C[C@@H](C)[C@@H](CN(C)S(=O)(=O)c2cn(C)cn2)Oc3cc(ccc3S1(=O)=O)C4=CCCCC4',\n",
       " 'N1c2ccccc2Nc3nc4ccccc4nc13',\n",
       " 'CC(C)NC(=O)Nc1ccc2O[C@@H](CN(C)Cc3ccc(cc3)c4ccccc4)[C@H](C)CN([C@@H](C)CO)C(=O)c2c1',\n",
       " 'C[C@@H](CO)N1C[C@@H](C)[C@@H](CN(C)S(=O)(=O)c2ccccc2C#N)OCc3ccccc3-c4ccccc4C1=O',\n",
       " 'C[C@@H](CO)N1C[C@@H](C)[C@H](CN(C)C(=O)Nc2cccc3ccccc23)Oc4c(NS(=O)(=O)C)cccc4C1=O',\n",
       " 'CC(C)NC(=O)N(C)C[C@@H]1Oc2ccc(NC(=O)Cc3cn(C)c4ccccc34)cc2CC(=O)N(C[C@@H]1C)[C@H](C)CO',\n",
       " 'COc1ccc(\\\\C=C\\\\C(=O)NC2=NCCS2)c(OC)c1',\n",
       " 'OC[C@H]1O[C@H](CCNC(=O)Cc2ccncc2)CC[C@H]1NC(=O)C1CCC1',\n",
       " 'COC(=O)c1cnn(c1C=NN=C(S)Nc1ccc(Cl)cc1)-c1ccc(F)cc1F',\n",
       " 'OC[C@H]1O[C@H](CC(=O)N2CCc3ccccc3C2)C[C@H]4[C@@H]1Oc5ccc(NC(=O)Cc6ccncc6)cc45',\n",
       " 'C[C@H](CO)N1C[C@H](C)[C@H](CN(C)Cc2ccncc2)Oc3ccc(NC(=O)CCC(F)(F)F)cc3CC1=O',\n",
       " 'COCC(=O)Nc1ccc2OC[C@H](C)N(Cc3ccccn3)C[C@@H](C)[C@H](CN(C)C(=O)c2c1)OC',\n",
       " 'CO[C@H]1CN(C)C(=O)c2cc(NC(=O)C3CCOCC3)ccc2OC[C@H](C)N(Cc2cccnc2)C[C@@H]1C',\n",
       " 'CN(C)CC#Cc1ccc(cc1)[C@H]1[C@H](CO)N2CCCCN(C[C@@H]12)S(=O)(=O)c1ccccc1C',\n",
       " 'COc1ccc(NC(=O)Nc2cccc3C(=O)N(C[C@@H](C)[C@H](CN(C)Cc4ccc5OCOc5c4)Oc23)[C@@H](C)CO)cc1',\n",
       " 'Cc1nc(=O)c2CSCCc2[nH]1',\n",
       " 'COc1cc2CCN(C)[C@@H]3Cc4ccc(OC(=O)c5ccc(cc5)[N+](=O)[O-])c(Oc6ccc(C[C@@H]7N(C)CCc8cc(OC)c(Oc(c1OC)c32)cc78)cc6)c4',\n",
       " 'C[C@H](NC(=O)[C@H]1[C@H](CO)[C@H]2Cn3c(cccc3=O)[C@H]2N1S(C)(=O)=O)c1ccccc1',\n",
       " 'CCS(=O)(=O)Nc1ccc2OC[C@@H](C)N(Cc3ccccn3)C[C@H](C)[C@H](CN(C)C(=O)c2c1)OC',\n",
       " 'CO[C@H]1CN(C)C(=O)c2cc(NC(=O)c3cccc(F)c3)ccc2OC[C@@H](C)N(C)C[C@@H]1C',\n",
       " 'COc1ccccc1S(=O)(=O)N(C)C[C@@H]2OCc3ccccc3-c4ccccc4C(=O)N(C[C@@H]2C)[C@H](C)CO',\n",
       " 'CN1Cc2c3OCOc3ccc2[C@H]4[C@@H](O)Cc5cc6OCOc6cc5[C@H]41',\n",
       " 'Clc1ccc(C(Cn2ccnc2)OCC=C)c(Cl)c1',\n",
       " 'CN1CC(=O)N=C1NC(=O)Nc1cccc(Cl)c1',\n",
       " 'COCC#Cc1ccc2c(O[C@@H](CN(C)S(=O)(=O)c3ccc(OC)cc3)[C@H](C)CN([C@H](C)CO)S2(=O)=O)c1',\n",
       " 'C[C@H](CO)N1C[C@@H](C)[C@@H](CN(C)C)Oc2cc(C#Cc3ccccn3)ccc2S1(=O)=O',\n",
       " 'Cc1ccc(cc1NC(=O)COc2ccccc2)c3nc4ccccc4o3',\n",
       " 'CC(C(C)c1ccc(O)cn1)C(N)C(=O)NC([C@H]2O[C@H]([C@@H](O)[C@H]2O)N3C=CC(=O)CC3=O)C(=O)O',\n",
       " 'C[C@H](CO)N1C[C@@H](C)[C@@H](CN(C)C(=O)c2cc(on2)c3ccccc3)OCc4cnnn4CCCC1=O',\n",
       " 'CO[C@@H](CN(C)S(=O)(=O)c1ccc(C)cc1)[C@H](C)CN(Cc1ccccc1Cl)[C@@H](C)CO',\n",
       " 'COc1cc(Nc2nc3ccccc3nc2NS(=O)(=O)c2ccc(NC(=O)c3ccc(C)c(OC)c3)cc2)cc(OC)c1',\n",
       " 'CC(C)NC(=O)N(C)C[C@H]1Oc2ccc(cc2CC(=O)N(C[C@H]1C)[C@H](C)CO)N(C)C',\n",
       " 'CN(C)CC#Cc1ccc(cc1)[C@@H]1[C@H](CO)N2CCCCN(C[C@@H]12)C(=O)Nc1ccccc1F',\n",
       " 'CCN1CCN(Cc2ccc(Nc3ncc4N(C)C(=O)c5ccccc5N(C)c4n3)cc2C(F)(F)F)CC1',\n",
       " 'NCCCC1(OCc2cc(ccc12)[N+]#[C-])c1ccc(F)cc1',\n",
       " 'CN1CCN(CC1)C(=O)c2cc3CN([C@@H](CCO)c3c(n2)c4cccc(C#CCC5CCCC5)c4)S(=O)C(C)(C)C',\n",
       " 'CCCC(=O)Nc1cccc(NC(=O)c2ccccc2Br)c1',\n",
       " 'COCC(=O)N1C[C@@]2(C1)CN([C@H](CO)c1[nH]c3cc(OC)ccc3c21)S(C)(=O)=O',\n",
       " 'CS(=O)(=O)N1C[C@H]2[C@H]([C@@H](CO)N2C(=O)C1)c1ccc(cc1)C#CCC1CCCC1',\n",
       " 'CC1CN(CCCn2c3ccccc3c4ccccc24)CC(C)N1',\n",
       " 'CO[C@H]1CN(C)C(=O)c2cc(NS(=O)(=O)c3ccc(C)cc3)ccc2OC[C@H](C)N(C[C@H]1C)C(=O)NC(C)C',\n",
       " 'O[C@H]1COC[C@H]2O[C@H](CC(=O)N3CCC(Cc4ccccc4)CC3)CC[C@@H]2N(Cc2nccs2)C1',\n",
       " 'CN1CCN(CC1)C(=O)C[C@@H]1CC[C@@H]2[C@H](COC[C@@H](O)CN2C(=O)c2ccccc2F)O1',\n",
       " 'O=C1[C@@H](Cc2ccccc2)CCn2cc(COCC3CCCN13)nn2',\n",
       " 'C[C@H](N)Cc1c[nH]cn1',\n",
       " 'Cc1c(nn(c1-c1ccc(I)cc1)-c1ccc(Cl)cc1Cl)C(=O)NN1CCOCC1',\n",
       " 'Clc1cccc(c1)-n1sc2ccccc2c1=O',\n",
       " 'C[C@H](NC(=O)C[C@H]1CC[C@H]2[C@@H](COC[C@H](O)CN2C(=O)Nc2cccc(Cl)c2)O1)c1ccccc1',\n",
       " 'CO[C@@H](CN(C)S(=O)(=O)c1ccc(C)cc1)[C@@H](C)CN([C@H](C)CO)C(=O)Nc1ccccc1F',\n",
       " 'Cc1ccc(cc1)S(=O)(=O)N1C[C@H]2[C@H]([C@@H](CO)N2Cc2cccnc2)c2ccccc12',\n",
       " 'C[C@@H](CO)N1C[C@H](C)[C@@H](CN(C)Cc2ccccc2)Oc3ncc(cc3C1=O)C4=CCCCC4',\n",
       " 'C[C@@H](CO)N1C[C@@H](C)[C@H](CN(C)Cc2ccncc2)Oc3ccc(NC(=O)Cc4cn(C)c5ccccc45)cc3C1=O',\n",
       " 'OC[C@@H]1[C@H]2Cn3c(cccc3=O)[C@H]2N([C@H]1C(=O)NCC1CCCCC1)C(=O)CC1CC1',\n",
       " 'CN(C)C(=O)C[C@H]1CC[C@H](NC(=O)C2CCOCC2)[C@H](CO)O1',\n",
       " 'COc1cc(O)c(CC=C(C)C)c(O)c1C(=O)/C=C/c2ccc(O)cc2',\n",
       " 'C[C@H](CO)N1C[C@@H](C)[C@@H](CN(C)S(=O)(=O)c2ccc(F)cc2)Oc3ncc(cc3C1=O)c4ccncc4',\n",
       " 'C[C@H](CO)N1C[C@H](C)[C@@H](CN(C)C(=O)Nc2c(C)noc2C)OCc3ccccc3-c4ccccc4C1=O',\n",
       " 'CCCC#Cc1ccc(cc1)[C@@H]1[C@@H](CO)N([C@@H]1C#N)S(C)(=O)=O',\n",
       " 'OC[C@@H]1[C@@H]2[C@@H](CN(C(=O)c3ccccn3)c3ccccc23)N1C(=O)Nc1ccccc1F',\n",
       " 'CN1[C@@H]2CC[C@@H](CC(=O)N3CCc4ccccc4C3)O[C@H]2COc2ccc(NS(=O)(=O)c3cccc(F)c3)cc2C1=O',\n",
       " 'O[C@@H]1COC[C@@H]2O[C@H](CC(=O)NCCCN3CCOCC3)CC[C@H]2N(C1)C(=O)c1ccccc1',\n",
       " 'C/C=C/c1ccc2c(O[C@H](CN(C)C(=O)Cc3cccnc3)[C@@H](C)CN([C@@H](C)CO)S2(=O)=O)c1',\n",
       " 'COc1ccc(cc1)S(=O)(=O)N(C)C[C@H]2Oc3c(cccc3C(=O)N(C[C@@H]2C)[C@@H](C)CO)N(C)C',\n",
       " 'C/C=C/c1ccc2c(O[C@H](CN(C)S(=O)(=O)c3ccc(F)cc3)[C@H](C)CN([C@H](C)CO)S2(=O)=O)c1',\n",
       " 'COc1ccc(NC(=O)N2CCCCN3[C@H](CO)[C@H]([C@@H]3C2)c2ccc(cc2)-c2ccccc2F)cc1',\n",
       " 'CO[C@H]1CC[C@@H]2CCN(C)C(=O)C[C@@H](CN(C)C(=O)c3cccc(C#N)c3OC[C@@H]1O2)c1ccccc1',\n",
       " 'C\\\\C=C\\\\c1ccc(cc1)[C@H]1[C@H]2CN(C[C@@H]1N2)C(=O)Nc1ccccc1F',\n",
       " 'Clc1c(sc2ccccc12)C(=O)Nc3sc4CCCc4c3C(=O)NCc5ccco5',\n",
       " 'C[C@H](CO)N1C[C@@H](C)[C@@H](CN(C)CC2CC2)OCCCC[C@@H](C)Oc3ccc(NC(=O)c4ccccc4)cc3C1=O',\n",
       " 'OC[C@H]1[C@H]([C@@H](CNC(=O)c2ccncc2)N1CC1CCCC1)c1ccccc1',\n",
       " 'Fc1cc(F)cc(Nc2nc(Cl)nc(NC3CCCC3)n2)c1',\n",
       " 'Oc1ccc(Cl)cc1',\n",
       " 'Cc1nc2c(s1)C(=O)C=C(Nc1ccc(C)cc1)C2=O',\n",
       " 'CCCCC(=O)NCCc1c(Cc2ccccc2)[nH]c2ccccc12',\n",
       " 'C[C@H](CO)N1C[C@H](C)[C@H](CN(C)CC2CC2)OCc3ccccc3-c4ccccc4C1=O',\n",
       " 'OC[C@H]1[C@H]([C@H](C#N)N1C(=O)c1cccnc1)c1ccc(cc1)C#Cc1ccccc1F',\n",
       " 'COCC(=O)N1C[C@H]2[C@@H]([C@@H](CO)N2C(=O)C1)c1ccc(cc1)C#CC1CC1',\n",
       " 'COc1cc2OC3OC=CC3c2c2oc(=O)c3C(=O)CCc3c12',\n",
       " 'C[C@H](CO)N1C[C@@H](C)[C@@H](CN(C)C(=O)c2ccncc2)Oc3ncc(cc3C1=O)c4ccc(cc4)C(=O)N(C)C',\n",
       " 'COc1ccc(cc1)S(=O)(=O)Nc2ccc3O[C@@H](C)CCCCO[C@@H](CN(C)C)[C@H](C)CN([C@H](C)CO)C(=O)c3c2',\n",
       " 'CN1[C@H]2CC[C@@H](CC(=O)NCc3ccccc3F)O[C@@H]2COc2ccc(NC(=O)C3CCCCC3)cc2C1=O',\n",
       " 'C[C@@H](CO)N1C[C@H](C)[C@@H](CN(C)C(=O)NC2CCCCC2)Oc3ccc(NC(=O)C4CCCCC4)cc3C1=O',\n",
       " 'CCC(C)(C)N=C(NC#N)Nc1cccnc1',\n",
       " 'NS(=O)(=O)c1cc(Cl)c(Cl)c(c1)S(N)(=O)=O',\n",
       " 'CC(C)NC(=O)N(C)C[C@@H]1Oc2ccc(cc2CC(=O)N(C[C@H]1C)[C@H](C)CO)N(C)C',\n",
       " 'CC(C)NC(=O)N(C)C[C@H]1Oc2ccc(NC(=O)Cc3cn(C)c4ccccc34)cc2CC(=O)N(C[C@@H]1C)[C@@H](C)CO',\n",
       " 'CC(C)(C)[S@](=O)N1Cc2cc(nc(c2[C@@H]1CCO)-c1cccc(c1)-c1ccncc1)C(=O)NCc1ccccc1F',\n",
       " 'CN1[C@H]2Cn3c(ccc(C4=CCCCC4)c3=O)[C@@H]1[C@@H]([C@H]2CO)C(=O)NCc1cc(F)cc(F)c1',\n",
       " 'COc1cccc(c1)c2cnc3O[C@H](CN(C)CC4CCCC4)[C@@H](C)CN([C@@H](C)CO)C(=O)c3c2',\n",
       " 'COc1cccc(NC(=O)N2C[C@H]3[C@H]([C@@H](CO)N3C(=O)C2)c2ccc(cc2)C#CCC2CCCC2)c1',\n",
       " 'C[C@H](CO)N1C[C@H](C)[C@@H](CN(C)C(=O)C2CCOCC2)Oc3ncc(C#CC4(O)CCCC4)cc3C1=O',\n",
       " 'CNC[C@H]1OCCCC[C@H](C)Oc2ccc(NC(=O)Nc3ccc4OCOc4c3)cc2C(=O)N(C[C@@H]1C)[C@@H](C)CO',\n",
       " 'CN(C)CCC(c1ccc(Cl)cc1)c1ccccn1',\n",
       " 'CN\\\\C(NCCSCc1csc(CN(C)C)n1)=C\\\\[N+]([O-])=O',\n",
       " 'COc1ccc(CN(C)C[C@H]2Oc3ccc(NC(=O)Cn4cnnn4)cc3C(=O)N(C[C@@H]2C)[C@@H](C)CO)cc1',\n",
       " 'CC(C)NC(=O)Nc1ccc2O[C@@H](CN(C)C(=O)NC3CCCCC3)[C@H](C)CN([C@H](C)CO)C(=O)c2c1',\n",
       " 'CC(C)CC#Cc1cnc2O[C@@H](CN(C)C(=O)c3cccc(F)c3)[C@@H](C)CN([C@@H](C)CO)C(=O)c2c1',\n",
       " 'CO[C@H]1CN(C)C(=O)c2cc(NC(=O)C3CC3)ccc2OC[C@@H](C)N(CCC(F)(F)F)C[C@@H]1C',\n",
       " 'COc1ccc(cc1)C#Cc1ccc(cc1)[C@H]1[C@H](CO)N2[C@@H]1CN(CC2=O)C(=O)NC(C)C',\n",
       " 'CO[C@H]1CC[C@H]2CCN(C)C(=O)[C@@H](C)[C@@H](CN(C)C(=O)c3cc(ccc3OC[C@@H]1O2)C#N)OC',\n",
       " 'Cc1occc(=O)c1O',\n",
       " 'CO[C@H]1CC[C@H]2CCOc3c(cccc3C(=O)N(C)CCCC(=O)N(C)C[C@H]1O2)C#N',\n",
       " 'FC(F)(F)c1ccc(Cl)c(NC(=O)Cn2cc(CNC(=O)C3CCCCC3)nn2)c1',\n",
       " 'CS(=O)(=O)N1C[C@@H]2[C@@H]([C@@H](CO)N2C(=O)C1)c1ccc(Br)cc1',\n",
       " 'CC1OC(OC2CC(O)C3(CO)C4C(O)CC5(C)C(CCC5(O)C4CCC3(O)C2)C6=CC(=O)OC6)C(O)C(O)C1O',\n",
       " 'COc1ccccc1CN1[C@H]2CNC[C@@H]1[C@@H]2c1ccc(cc1)-c1cccc(c1)C#N',\n",
       " 'COc1ccc(cc1COc1ccc(NC(C)=O)cc1)C1Nc2ccccc2C(=O)N1Cc1ccccc1',\n",
       " 'C[C@@H]1CC[C@@H]2[C@@H](C)C(=O)O[C@H]3O[C@@]4(C)CC[C@@H]1[C@@]23OO4',\n",
       " 'C[C@@H](CO)N1C[C@H](C)[C@H](CN(C)C(=O)Nc2cccc(Oc3ccccn3)c2)OCc4cn(CCCC1=O)nn4',\n",
       " 'CN(C)CC(=O)N1[C@@H](CO)[C@@H](c2ccccc2)C11CN(CCC(F)(F)F)C1',\n",
       " 'OC[C@@H]1[C@H](c2ccccc2)C2(CN(C2)C(=O)CC2CC2)N1C(=O)c1cnccn1',\n",
       " 'COCCNC(=O)C[C@H]1C[C@H]2[C@H](Oc3ccc(NS(=O)(=O)c4ccccc4)cc23)[C@H](CO)O1',\n",
       " 'Brc1cccc2sc(NC(=O)c3ccc4OCCOc4c3)nc12',\n",
       " 'C[C@@H](CO)N1C[C@H](C)[C@H](CN(C)Cc2ccc(F)cc2)Oc3ncc(cc3C1=O)c4cccc(C#N)c4',\n",
       " 'CN(C)CC(=O)N1C[C@H]2N[C@@H](C1)[C@H]2c1ccc(cc1)-c1cccc(C)c1',\n",
       " 'C[C@H](CO)N1C[C@@H](C)[C@H](CN(C)S(=O)(=O)c2cccc(F)c2)OCc3cn(CCCC1=O)nn3',\n",
       " 'Oc1c(I)cc(Cl)c2cccnc12',\n",
       " 'CO[C@H](CN(C)S(=O)(=O)c1cccc(Cl)c1)[C@@H](C)CN([C@H](C)CO)S(=O)(=O)c1ccc(Cl)cc1',\n",
       " 'CN(C)C(=O)c1cccc(c1)-c1cccc(c1)-c1nc(cc2CN([C@@H](CCO)c12)[S@@](=O)C(C)(C)C)C(=O)N1CCN(C)CC1',\n",
       " 'O=C1[C@H](Cc2ccccc2)CCn2cc(COCC3CCCN13)nn2',\n",
       " 'O=C(Nc1ccc2ccccc2c1)C1CC2CCC1C2',\n",
       " 'C[C@H](CO)N1C[C@H](C)[C@H](CN(C)S(=O)(=O)c2ccccc2)Oc3ccc(NC(=O)Nc4ccc(cc4)C(F)(F)F)cc3C1=O',\n",
       " 'O[C@@H]1COC[C@H]2O[C@H](CC(=O)NCC3CCCCC3)CC[C@@H]2N(C1)S(=O)(=O)c1ccc(F)cc1',\n",
       " 'OC[C@H]1[C@H]2[C@H](CN(C(=O)Nc3ccccc3)c3ccccc23)N1Cc1ccccc1Cl',\n",
       " '[O-][N+](=O)c1cccc(/C=C(\\\\C#N)/c2nc3ccccc3[nH]2)c1',\n",
       " 'COc1cccc(CN(C)C[C@@H]2OCc3ccccc3-c4ccccc4C(=O)N(C[C@@H]2C)[C@@H](C)CO)c1',\n",
       " 'CCCNC(=O)N1C[C@]2(CCN(CC2)S(=O)(=O)CC)c2c([nH]c3cc(OC)ccc23)[C@@H]1CO',\n",
       " 'C[C@@H](CO)N1C[C@@H](C)[C@H](CN(C)C(=O)[C@@H]2CCCN2C)OCc3ccccc3-c4ccccc4C1=O',\n",
       " 'CCCCCCCCCCC[C@@H](C[C@@H]1OC(=O)[C@H]1CCCCCC)OC(=O)[C@H](CC(C)C)NC=O',\n",
       " 'CCOC(=O)c1cc2CN([C@H](CCO)c2c(n1)-c1cccc(Br)c1)C(=O)NC(C)C',\n",
       " 'OC[C@@H]1O[C@H](CCNC(=O)c2ccc(F)cc2)CC[C@@H]1NC(=O)Nc1ccc(Cl)c(Cl)c1',\n",
       " 'CN(C)CC#Cc1ccc(cc1)[C@@H]1[C@@H](CO)N2CCCCN(CC3CCOCC3)C[C@@H]12',\n",
       " 'OC[C@@H]1[C@@H]([C@@H](C#N)N1C(=O)C1CC1)c1ccc(cc1)C#CC1(O)CCCC1',\n",
       " 'CCC1(O)CC2CN(C1)CCc3c([nH]c4ccccc34)C(C2)(C(=O)OC)c5cc6c(cc5OC)N(C=O)C7C86CCN9CC=CC(CC)(C98)C(C(=O)OC)C7(O)C(=O)OC',\n",
       " 'CCC(=O)OCC(=O)C1(OC(=O)CC)[C@H](C)C[C@H]2[C@H]3[C@H](Cl)CC4=CC(=O)C=C[C@]4(C)[C@@H]3[C@@H](O)C[C@]12C',\n",
       " 'CO[C@H]1CN(C)C(=O)c2cc(NC(=O)Nc3ccccc3OC)ccc2OC[C@@H](C)N(C)C[C@@H]1C',\n",
       " 'COc1ccc(cc1)-c1ccc2[C@@H]3[C@@H]([C@@H](CO)[C@H](Cn2c1=O)N3C(=O)c1cnccn1)C(=O)N(C)C',\n",
       " 'CO[C@H]1CN(C)C(=O)c2ccc(NC(C)=O)cc2OC[C@@H](C)N(Cc2ccccc2F)C[C@H]1C',\n",
       " 'CCCC(=O)Nc1ccc2OC[C@@H]3O[C@@H](CC(=O)NCc4cccc(F)c4)CC[C@H]3N(C)C(=O)c2c1',\n",
       " 'COc1cc2N3C4[C@@H]5C(CC3=O)OCC=C3CN6CC[C@]4([C@@H]6C[C@H]53)c2cc1OC',\n",
       " 'CO[C@@H](CN(C)S(=O)(=O)c1cn(C)cn1)[C@H](C)CN([C@@H](C)CO)C(=O)Nc1ccc(F)cc1',\n",
       " 'Oc1ccc(cc1)-c1c(nn2c(cc(nc12)C(F)(F)F)C(F)(F)F)-c1ccccc1',\n",
       " 'C[C@@H](NC(=O)C[C@H]1CC[C@@H]2[C@H](COc3ccc(NS(=O)(=O)c4ccc(Cl)cc4)cc3C(=O)N2C)O1)c1ccccc1',\n",
       " 'COc1cccc(NC(=O)Nc2ccc3OC[C@H]4O[C@H](CC(=O)NCCc5ccccc5)CC[C@@H]4N(C)C(=O)c3c2)c1',\n",
       " 'CCCC(=O)N1C[C@]2(CN(C2)S(C)(=O)=O)c2c([nH]c3cc(OC)ccc23)[C@H]1CO',\n",
       " 'C[C@H](CO)N1C[C@@H](C)[C@H](CN(C)Cc2ccc(cc2)C(=O)Nc3ccccc3N)Oc4c(NC(=O)Nc5ccccc5)cccc4C1=O',\n",
       " 'CCN1CCC[C@H]1CNC(=O)c1cc(I)cc(OC)c1OC',\n",
       " 'OC(=O)c1ccc2c3nc4ccccc4n3c(=O)c5cccc1c52',\n",
       " 'C[C@@H](CO)N1C[C@@H](C)[C@H](CN(C)Cc2ccccc2F)Oc3ncc(cc3C1=O)c4ccccc4F',\n",
       " 'CC(C)C[C@H]([C@H](O)C(=O)NO)C(=O)N[C@H](C(=O)OC1CCCC1)c1ccccc1',\n",
       " 'CN(C)CC(=O)NC[C@H]1N[C@@H](CO)[C@H]1c1ccc(cc1)-c1cccc(c1)C#N',\n",
       " 'OS(=O)(=O)c1cc(ccc1\\\\C=C\\\\c1ccc(cc1S(O)(=O)=O)N=C=S)N=C=S',\n",
       " 'CO[C@H]1CN(C)C(=O)c2cc(NC(=O)c3cc(C)on3)ccc2OC[C@H](C)NC[C@@H]1C',\n",
       " 'Cc1ccc(cc1)n2nc3ccc(NC(=O)COc4ccccc4C)cc3n2',\n",
       " 'C[C@@H](CO)N1C[C@@H](C)[C@H](CN(C)S(=O)(=O)c2ccccc2)Oc3ccc(NC(=O)Nc4ccc(cc4)C(F)(F)F)cc3C1=O',\n",
       " 'COc1cccc(c1)-c1ccc2N[C@H](CO)[C@@H]3CCN([C@@H]3c2c1)S(=O)(=O)c1cn(C)cn1',\n",
       " 'CC(C)(CO)Cc1cc(c(O)c(c1)C(C)(C)C)C(C)(C)C',\n",
       " 'CN1[C@@H]2CC[C@@H](CC(=O)NCc3ccc(cc3)-c3ccccc3)O[C@@H]2COc2ccc(NS(C)(=O)=O)cc2C1=O',\n",
       " 'CC(C(O)=O)c1ccc(s1)C(=O)c1ccccc1',\n",
       " 'CN1[C@@H](CO)[C@H]2CCN([C@H]2c2cc(ccc12)-c1ccccc1F)S(=O)(=O)c1cccc(C)c1',\n",
       " 'C[C@H](CO)N1C[C@@H](C)[C@H](CN(C)C(=O)c2ccncc2)OCCCC[C@@H](C)Oc3ccc(NC(=O)c4ccncc4)cc3C1=O',\n",
       " 'O[C@H]1CN[C@@H]2CC[C@@H](CC(=O)Nc3ccc(cc3)-c3ccccc3)O[C@H]2COC1',\n",
       " 'CO[C@@H]1CN(C)C(=O)c2cc(NC(=O)Nc3cccc(OC)c3)ccc2OC[C@H](C)N(CC2CC2)C[C@@H]1C',\n",
       " 'C[C@H](CO)N1C[C@H](C)[C@H](CN(C)C(=O)Nc2cccc3ccccc23)Oc4c(NS(=O)(=O)C)cccc4C1=O',\n",
       " 'COc1ccccc1S(=O)(=O)N(C)C[C@@H]2OCc3ccccc3-c4c(C(=O)N(C[C@H]2C)[C@H](C)CO)n(C)c5ccccc45',\n",
       " 'CC1CCc2c(C1)sc3nc(C)nc(N4CCN(CC4)C(=O)c5ccco5)c23',\n",
       " 'C[C@@H](NC(=O)C[C@@H]1C[C@@H]2[C@@H](Oc3ccc(NC(=O)c4ccc5OCOc5c4)cc23)[C@@H](CO)O1)c6ccccc6',\n",
       " 'C[C@H](CO)N1C[C@@H](C)[C@@H](CN(C)Cc2ccc3OCOc3c2)OCc4cn(CCCC1=O)nn4',\n",
       " 'CN1[C@H]2CC[C@@H](CC(=O)NCCc3ccncc3)O[C@H]2COc2ccc(NS(=O)(=O)c3ccc(C)cc3)cc2C1=O',\n",
       " 'COc1cc(CN2CCN(CC2)c3cc(C)ccc3C)ccc1O',\n",
       " 'OC[C@H]1O[C@H](CC(=O)Nc2nccs2)CC[C@@H]1NC(=O)CCN1CCCCC1',\n",
       " 'COC(=O)N(C)C[C@@H]1OCc2cnnn2CCCC(=O)N(C[C@H]1C)[C@@H](C)CO',\n",
       " 'Cc1ccc(cc1)S(=O)(=O)N[C@@H]1CC[C@@H](CCNC(=O)c2ccccc2F)O[C@@H]1CO',\n",
       " 'COc1ccccc1S(=O)(=O)N[C@H]1CC[C@H](CCn2cc(nn2)C2CCCCC2)O[C@H]1CO',\n",
       " 'CNC(=O)CCc1cc2ccccc2[nH]1',\n",
       " 'COCC(=O)N1C[C@]2(CCN(CC2)C(=O)c2ccccn2)c2c([C@@H]1CO)n(C)c1cc(OC)ccc21',\n",
       " 'CCCC(=O)Nc1ccc2c(OC[C@@H](C)NC[C@H](C)[C@H](CN(C)C2=O)OC)c1',\n",
       " 'OC[C@@H]1[C@@H]([C@@H]2CN(CC(=O)N12)C(=O)c1cnccn1)c1ccc(cc1)C#CC1CC1',\n",
       " 'CC(=O)N1[C@H](CO)[C@H](c2ccccc2)C11CN(C1)C(=O)c1ccccn1',\n",
       " 'COc1ccc2c3c([nH]c2c1)[C@H](CO)N(C[C@]31CCN(Cc2cccc(F)c2)CC1)C(=O)C1CCOCC1',\n",
       " 'COc1ccc(cc1OC2CCOC2)C3=Nn4c(nnc4SC3)c5ccccc5F',\n",
       " 'C[C@@H](CO)N1C[C@H](C)[C@H](CN(C)C(=O)N[C@H](C)c2ccccc2)OCc3ccccc3-c4c(C1=O)n(C)c5ccccc45',\n",
       " 'CN(C)C(=O)C[C@H]1CC[C@H]2[C@@H](COC[C@@H](O)CN2Cc2ccc(cc2)C(F)(F)F)O1',\n",
       " 'OC[C@@H]1O[C@H](CC(=O)O)C[C@H]2[C@@H]1Oc3ccc(NC(=O)Nc4ccc(cc4)C(F)(F)F)cc23',\n",
       " 'CC(C)[C@H](CO)Nc1nc(Nc2cc(N)cc(Cl)c2)c2ncn(C(C)C)c2n1',\n",
       " 'C[C@@H](CO)N1C[C@@H](C)[C@@H](CN(C)Cc2ccc(C)cc2)OCc3cnnn3CCCC1=O',\n",
       " 'COC(=O)C[C@@H]1CC[C@H]2[C@@H](COC[C@@H](O)CN2S(=O)(=O)c2cn(C)cn2)O1',\n",
       " 'CCn1c(=O)c([N+](=O)[O-])c(Cl)c2ccccc12',\n",
       " 'COCC#Cc1ccc2c(O[C@H](CN(C)Cc3ccccn3)[C@H](C)CN([C@H](C)CO)S2(=O)=O)c1',\n",
       " 'Clc1cccc(NS(=O)(=O)c2ccc3NC(=O)CCc3c2)c1',\n",
       " 'CN1CCN(CC1)c2nc3cc(ccc3n4cccc24)C(F)(F)F',\n",
       " 'C[C@H](CO)N1C[C@@H](C)[C@H](CN(C)CC2CCCC2)Oc3cc(ccc3S1(=O)=O)C4=CCCC4',\n",
       " 'CCCCCCCC\\\\C=C/CCCCCCCC(=O)NCCO',\n",
       " 'CCCN1[C@@H]([C@@H](CO)[C@@H]2Cn3c(ccc(-c4cncnc4)c3=O)[C@H]12)C(=O)OC',\n",
       " 'CC[C@H](C)[C@H](N)C(=O)N1CCC[C@H]1C(=O)N[C@@H]([C@@H](C)CC)C(=O)O',\n",
       " 'C[C@@]12[C@H]3[C@H](C(O)=O)[C@@]45CC(=C)[C@@](O)(C4)CC[C@H]5[C@]3(OC1=O)C=C[C@@H]2O',\n",
       " 'Clc1cccc2c(cccc12)S(=O)(=O)N1CCCNCC1',\n",
       " 'COc1ccc2C(=O)c3cc(OC)c(OC)cc3CC(=O)COc2c1OC',\n",
       " 'COCC#Cc1cnc2O[C@@H](CN(C)C(=O)Nc3cc(F)ccc3F)[C@H](C)CN([C@H](C)CO)C(=O)c2c1',\n",
       " 'O=C(Nc1ccc(cc1)S(=O)(=O)Nc2nccs2)c3cc(nc4ccccc34)c5ccccc5',\n",
       " 'COCC(=O)Nc1ccc2O[C@H]3[C@H](C[C@@H](CC(=O)NCc4ccccc4F)O[C@H]3CO)c2c1',\n",
       " 'Cc1cc(Cl)ccc1OCC(=O)N\\\\N=C\\\\c1ccc[nH]1',\n",
       " 'C[C@H](CS)C(=O)N1CCC[C@H]1C(O)=O',\n",
       " 'CN(C)C(=O)C[C@H]1CC[C@@H](NC(=O)C2CCOCC2)[C@@H](CO)O1',\n",
       " 'C[C@H](CO)N1C[C@@H](C)[C@H](CN(C)Cc2ccncc2)Oc3ccc(NC(=O)CCN4CCOCC4)cc3C1=O',\n",
       " 'C[C@H](CO)N1C[C@@H](C)[C@@H](CN(C)C(=O)CCN(C)C)OCc2ccccc2-c3ccccc3C1=O',\n",
       " 'COc1ccccc1C(=O)N1C[C@@H]2[C@@H]([C@@H](CO)N2C(=O)Nc2ccccc2)c2ccccc12',\n",
       " 'C[C@@H](CO)N1C[C@@H](C)[C@@H](CN(C)S(=O)(=O)C)OCCCC[C@@H](C)Oc2ccc(NC(=O)c3ccncc3)cc2C1=O',\n",
       " 'CCCC#Cc1ccc(cc1)[C@H]1[C@@H](CO)N2[C@@H]1CN(CC2=O)C(=O)CN1CCOCC1',\n",
       " 'C[C@H](CO)N1C[C@@H](C)[C@H](CN(C)CC2CCCCC2)Oc3ccc(NC(=O)Cc4cn(C)c5ccccc45)cc3CC1=O',\n",
       " 'CCCNC(=O)N1[C@H](CO)[C@H]2[C@@H]1CN(C(=O)C1CCC1)c1ccccc21',\n",
       " 'C[C@@H](CO)N1C[C@@H](C)[C@@H](CN(C)Cc2ccc(cc2)c3ccccc3)OCc4cnnn4CCCC1=O',\n",
       " 'COc1cc(ccc1Cc1cn(C)c2ccc(NC(=O)OC3CCCC3)cc12)C(=O)NS(=O)(=O)c1ccccc1C',\n",
       " 'CCCC(=O)Nc1ccc2OC[C@@H](C)N(C[C@@H](C)[C@@H](CN(C)C(=O)c2c1)OC)C(=O)c1ccccn1',\n",
       " 'C[C@@H](CO)N1C[C@H](C)[C@H](CN(C)Cc2ccccc2)Oc3cc(C#CC4CC4)ccc3S1(=O)=O',\n",
       " 'CC/C(=C(\\\\c1ccc(O)cc1)/c2ccc(OCCN(C)C)cc2)/c3ccccc3',\n",
       " 'COCC#Cc1ccc2c(O[C@@H](CN(C)S(=O)(=O)c3ccc(OC)cc3)[C@@H](C)CN([C@@H](C)CO)S2(=O)=O)c1',\n",
       " 'C[C@@H](CO)N1C[C@@H](C)[C@H](CN(C)CC2CC2)OCCCC[C@@H](C)Oc3ccc(NC(=O)Nc4ccccc4)cc3C1=O',\n",
       " 'COc1ccccc1-c1cn(CC[C@H]2CC[C@@H](NC(=O)c3cnccn3)[C@H](CO)O2)nn1',\n",
       " 'COc1cccc(c1)S(=O)(=O)N1C[C@@H](O)COC[C@H]2O[C@H](CC(=O)N3CCN(CC3)c3ccccc3)CC[C@H]12',\n",
       " 'COc1ccc2c3c([C@@H](CO)N(Cc4ccccc4)C[C@]33CN(C3)C(=O)c3ccccc3F)n(C)c2c1',\n",
       " 'COCC#Cc1ccc(cc1)[C@@H]1[C@H](CO)N2CCCCN(C[C@H]12)C(=O)NC1CCCC1',\n",
       " 'CN1[C@@H]2CC[C@@H](CC(=O)NCc3ccc4OCOc4c3)O[C@H]2COc2ccc(NC(=O)C3CCOCC3)cc2C1=O',\n",
       " 'C[C@@H](CO)N1C[C@@H](C)[C@H](CN(C)Cc2ccc(Cl)c(Cl)c2)Oc3c(NS(=O)(=O)c4cccs4)cccc3C1=O',\n",
       " 'Brc1ccccc1CNC(=O)c1cccs1',\n",
       " 'C[C@@H](CO)N1C[C@H](C)[C@@H](CN(C)Cc2ccc(Cl)c(Cl)c2)Oc3ccc(NC(=O)c4ccncc4)cc3C1=O',\n",
       " 'C[n+]1cc(n2ccccc12)C(O)(c1ccccc1)c1ccccc1',\n",
       " 'Clc1cccc(c1)-c1cc2nc(cc(N3CCN(CC3)C(=O)c3ccncc3)n2n1)-c1ccccc1',\n",
       " 'Cc1ccc-2c(Cc3c(nn(c-23)-c2ccc(Cl)cc2Cl)C(=O)NN2CCCCC2)c1',\n",
       " 'OC[C@H]1[C@@H]([C@@H](C#N)N1C(=O)C1CCOCC1)c1ccc(cc1)C#Cc1cccc(F)c1',\n",
       " 'C[C@@H](CO)N1C[C@H](C)[C@@H](CN(C)Cc2ccc(F)cc2)Oc3ncc(C#CCN(C)C)cc3C1=O',\n",
       " 'COCC(=O)N[C@@H]1C=C[C@H](O[C@H]1CO)CC(=O)NCc1ccc(Cl)cc1',\n",
       " 'CN(C)C(=O)c1cccc(c1)-c1ccc(cc1)[C@H]1[C@@H]2CNC[C@H]1N2S(=O)(=O)c1ccccc1F',\n",
       " 'CNC[C@@H]1Oc2ccc(NS(=O)(=O)c3ccccc3)cc2CC(=O)N(C[C@H]1C)[C@@H](C)CO',\n",
       " 'O[C@@H]1COC[C@H]2O[C@@H](CC(=O)N3CCCCC3)CC[C@@H]2N(C1)C(=O)c1ccc(F)cc1',\n",
       " 'CN1C[C@@H]2[C@@H]([C@H](CO)N2Cc2ccccc2Cl)c2ccccc12',\n",
       " 'CC(\\\\C=C\\\\C(O)C1CC1)C1CCC2C1(C)CCC\\\\C2=C/C=C1\\\\CC(O)CC(O)C1=C',\n",
       " 'COc1ccc2c3c([nH]c2c1)[C@H](CO)N(C[C@]31CN(C1)C(=O)c1ccccn1)C(=O)Nc1ccc(F)cc1',\n",
       " 'C[C@H](CO)N1C[C@H](C)[C@@H](CN(C)C(=O)Nc2ccc(cc2)C(F)(F)F)OCc3cn(CCCC1=O)nn3',\n",
       " 'CN(C)CCCN1c2ccccc2S(=O)(=O)c2ccc(Cl)cc12',\n",
       " 'CC12CCC3C(CCC4C(=O)C(=O)CCC34C)C2CCC1=O',\n",
       " 'CC(C)NC(=O)Nc1ccc2O[C@@H](CN(C)C(=O)NC3CCCCC3)[C@H](C)CN([C@@H](C)CO)C(=O)c2c1',\n",
       " 'Cc1cccc(c1)c2nnc(SCC(=O)O)n2CC=C',\n",
       " 'OC[C@H]1O[C@@H](CC(=O)NCCc2ccccc2)C[C@H]3[C@@H]1Oc4ccc(NC(=O)c5ccc6OCOc6c5)cc34',\n",
       " 'Cn1nnnc1Sc2ncnc3scc(c4ccc(cc4)c5ccccc5)c23',\n",
       " 'OC(c1ccc(NC(=O)c2ccc(F)cc2F)cc1)(C(F)(F)F)C(F)(F)F',\n",
       " 'OC[C@@H]1O[C@@H](CC(=O)N2CCc3ccccc3C2)C[C@H]4[C@@H]1Oc5ccc(NC(=O)Nc6ccc(cc6)C(F)(F)F)cc45',\n",
       " 'Cc1ccccc1S(=O)(=O)N1C[C@H]2N[C@@H](C1)[C@H]2c1ccc(\\\\C=C\\\\c2ccccc2)cc1',\n",
       " 'C[C@]12CC[C@H]3[C@@H](CC[C@H]4C[C@H](O)CC[C@]34C)[C@@H]1CC=C2',\n",
       " 'CCC[C@H]1CC2=C(C[C@@H](CC)CC3=C1C(=O)OC3=O)C(=O)OC2=O',\n",
       " 'COCC(=O)N1C[C@]2(CN(Cc3ccc(Cl)cc3)C2)c2c([nH]c3cc(OC)ccc23)[C@@H]1CO',\n",
       " 'N[C@@H](Cc1ccccc1)C(=O)N[C@@H](Cc2ccc(O)cc2)C(=O)O',\n",
       " 'C[C@H](CO)N1C[C@@H](C)[C@H](CN(C)Cc2ccc(cc2)C(F)(F)F)OCCCC[C@@H](C)Oc3ccc(NC(=O)c4ccncc4)cc3C1=O',\n",
       " 'CN(C)CCCNC(=O)C[C@@H]1CC[C@H](NS(=O)(=O)c2ccc(C)cc2)[C@H](CO)O1',\n",
       " 'CC(C)CCCC(C)[C@H]1CC[C@H]2[C@H]3[C@H](CC[C@]12C)[C@@]1(C)CC[C@H](O)CC1=CC3=O',\n",
       " 'CNC[C@H]1Oc2c(NS(=O)(=O)c3ccc(OC)cc3)cccc2C(=O)N(C[C@H]1C)[C@@H](C)CO',\n",
       " 'C[C@@H](CO)N1C[C@H](C)[C@@H](CN(C)C(=O)Oc2ccc(C)cc2)OCc3cn(CCCC1=O)nn3',\n",
       " 'COc1ccc2c3c([C@@H](CO)N(Cc4cc(F)ccc4F)C[C@]33CN(C3)C(=O)C3CC3)n(C)c2c1',\n",
       " 'COc1ccc2c3c([nH]c2c1)[C@@H](CO)N(C[C@]31CCN(CC1)S(=O)(=O)c1cccc(C)c1)C(=O)Nc1cccc(F)c1',\n",
       " 'COCC(=O)Nc1ccc2O[C@@H]3[C@@H](C[C@@H](CC(=O)NCc4ccc5OCOc5c4)O[C@H]3CO)c2c1',\n",
       " 'COCCCNC(=O)[C@]1(Cc2ccccc2CN=[N+]=[N-])N=C(O[C@@H]1c3ccccc3N=[N+]=[N-])c4ccc(OCCCO)cc4',\n",
       " 'COc1cccc(c1)c2cccc(c2)c3nc(cc4CN([C@H](CCO)c43)S(=O)C(C)(C)C)C(=O)NCCCN5CCOCC5',\n",
       " 'C[C@H](CO)N1C[C@H](C)[C@H](CN(C)CC2CC2)OCCCC[C@@H](C)Oc3ccc(NC(=O)Nc4c(C)noc4C)cc3C1=O',\n",
       " 'OC[C@H]1O[C@H](CC(=O)Nc2ccc(cc2)-c2ccccc2)CC[C@@H]1NC(=O)Cc1cccnc1',\n",
       " 'OC[C@@H]1O[C@@H](CC(O)=O)C=C[C@@H]1NC(=O)c1ccccc1F',\n",
       " 'CCc1c(C)[nH]c2CCC(CN3CCOCC3)C(=O)c12',\n",
       " 'CO[C@H]1CC[C@H]2CCOc3ccc(cc3C(=O)N(C)C[C@@H](CC(=O)N(C)C[C@H]1O2)c1ccccc1)C#N',\n",
       " 'CC(C)NC(=O)Nc1ccc2O[C@@H](C)CCCCO[C@H](CN(C)C(=O)NC3CCCCC3)[C@@H](C)CN([C@@H](C)CO)C(=O)c2c1',\n",
       " 'C[C@H](CO)N1C[C@@H](C)[C@@H](CN(C)C(=O)Nc2ccc(cc2)N3CCCCC3)OCc4cnnn4CCCC1=O',\n",
       " 'C[C@@H](CO)N1C[C@H](C)[C@@H](CN(C)Cc2ccc(Oc3ccccc3)cc2)Oc4c(NC(=O)NC5CCCCC5)cccc4C1=O',\n",
       " 'CC(=O)N1CCOc2cc(ccc12)S(=O)(=O)NCC3CCC(CC3)C(=O)Nc4cccc(C)c4',\n",
       " 'OC[C@@H]1[C@H]2[C@H](CN(C(=O)Nc3ccc(Cl)cc3)c3ccccc23)N1C(=O)C1CC1',\n",
       " 'COc1ccc2c3c([nH]c2c1)[C@H](CO)N(Cc1ccccn1)C[C@]31CN(C1)C(=O)CC1CC1',\n",
       " 'CN(C)C\\\\C=C\\\\C(=O)Nc1cc2c(Nc3ccc(F)c(Cl)c3)ncnc2cc1OC1CCOC1',\n",
       " 'COc1ccc2c3c([nH]c2c1)[C@H](CO)N(C[C@]31CCN(CC1)C(=O)Nc1ccc2OCOc2c1)C(=O)Nc1ccc(F)cc1',\n",
       " 'C[C@H](NC(=O)[C@@H]1[C@@H](CO)[C@@H]2Cn3c(cccc3=O)[C@@H]2N1S(C)(=O)=O)c1ccccc1',\n",
       " 'COC1=C(OC)C(=O)C(CCCCCCCCCCO)=C(C)C1=O',\n",
       " 'O[C@@H]1COC[C@@H]2O[C@@H](CC(=O)Nc3nccs3)CC[C@H]2N(Cc2cc(F)cc(F)c2)C1',\n",
       " 'COCC(=O)Nc1ccc2OC[C@@H](C)N(Cc3ccccn3)C[C@@H](C)[C@@H](CN(C)C(=O)c2c1)OC',\n",
       " 'COc1ccc2c3c([nH]c2c1)[C@H](CO)N(Cc1ccncc1)C[C@]31CN(CC2CCOCC2)C1',\n",
       " 'NCCc1ccc(OCc2ccccc2)c(OCc3ccccc3)c1',\n",
       " 'OC[C@@H]1[C@H](c2ccccc2)C2(CN(C2)C(=O)C2CC2)N1Cc1ccc(Cl)cc1',\n",
       " 'CCCC(=O)N1C[C@@]2(C1)CN([C@H](CO)c1[nH]c3cc(OC)ccc3c21)S(=O)(=O)c1ccc(C)cc1',\n",
       " 'O[C@H]1COC[C@H]2O[C@H](CC(=O)NCc3cccc(F)c3)CC[C@@H]2N(Cc2ccc(Cl)cc2)C1',\n",
       " 'OC[C@@H]1O[C@H](CC(=O)NCc2cc(F)cc(F)c2)CC[C@H]1NC(=O)Nc1ccc(cc1)C(F)(F)F',\n",
       " 'CC(C)(C)[S@](=O)N1Cc2cc(nc(c2[C@@H]1CCO)-c1cccc(c1)-c1cccc(c1)C#N)C(=O)NCCN1CCCC1',\n",
       " 'COCCNC(=O)C[C@@H]1CC[C@H](NC(=O)NC2CCCCC2)[C@H](CO)O1',\n",
       " 'OC[C@@H]1O[C@H](CC(=O)NC2CCCCC2)C[C@@H]3[C@H]1Oc4ccc(NS(=O)(=O)c5ccc(F)cc5)cc34',\n",
       " 'COc1ccc(NC(=O)Nc2ccc3O[C@@H](C)CCCCO[C@H](CN(C)CC4CC4)[C@@H](C)CN([C@@H](C)CO)C(=O)c3c2)cc1',\n",
       " 'OC[C@H]1O[C@H](CC(=O)NCc2ccncn2)CC[C@H]1NC(=O)c1ccc(F)cc1',\n",
       " 'Cc1cc(C)cc(OCC2CNC(=O)O2)c1',\n",
       " 'CO[C@H](CN(C)S(=O)(=O)c1cccc(Cl)c1)[C@@H](C)CN([C@@H](C)CO)S(=O)(=O)c1cccc(Cl)c1',\n",
       " 'C[C@H](CO)N1C[C@H](C)[C@H](CN(C)C(=O)Nc2ccccc2)OCCCC[C@@H](C)Oc3ccc(NC(=O)C4CCCCC4)cc3C1=O',\n",
       " 'CN1[C@@H]2CC[C@H](CC(=O)NC3CCCCC3)O[C@H]2COc2ccc(NS(C)(=O)=O)cc2C1=O',\n",
       " 'C[C@H](NC(=O)C[C@@H]1C[C@H]2[C@H](Oc3ccc(NC(=O)C4CCOCC4)cc23)[C@H](CO)O1)c5ccccc5',\n",
       " 'CO[C@@H]1CN(C)C(=O)c2cc(NS(=O)(=O)c3c(C)noc3C)ccc2OC[C@H](C)NC[C@H]1C',\n",
       " 'COCC(=O)N1C[C@@]2(C1)CN(Cc1nccs1)[C@H](CO)c1c2c2ccc(OC)cc2n1C',\n",
       " 'COCC(=O)N1[C@@H](CO)[C@@H](c2ccccc2)C11CN(Cc2ccccc2)C1',\n",
       " 'C[C@H](CO)N1C[C@H](C)[C@H](CN(C)Cc2ccc(F)cc2)Oc3ncc(C#CCN(C)C)cc3C1=O',\n",
       " 'CN1C(=O)C(NCCc2ccc(F)cc2)=C(C1=O)c1c(C)[nH]c2ccccc12',\n",
       " 'C[C@H](CO)N1C[C@@H](C)[C@@H](CN(C)C(=O)Nc2ccc3OCOc3c2)OCCCC[C@@H](C)Oc4ccc(NC(=O)C5CCCCC5)cc4C1=O',\n",
       " 'Fc1ccc(cc1F)C(=O)OCC#CCSc1nnc(o1)-c1cccc2ccccc12',\n",
       " 'C[C@H](NC(=O)C[C@H]1C[C@@H]2[C@@H](Oc3ccc(NC(=O)Cc4ccncc4)cc23)[C@@H](CO)O1)c5ccccc5',\n",
       " 'O[C@@H]1COC[C@@H]2O[C@H](CC(=O)NCC3CCCCC3)CC[C@H]2N(Cc2cccc(Cl)c2)C1',\n",
       " 'CN1C[C@@H]2[C@@H]([C@@H](CO)N2C(=O)C2CCOCC2)c2ccccc12',\n",
       " 'COc1ccc(CN(C)C[C@@H]2OCCCC[C@H](C)Oc3ccc(NS(=O)(=O)c4ccccc4)cc3C(=O)N(C[C@H]2C)[C@H](C)CO)cc1',\n",
       " 'CC(=O)O[C@]1(CC[C@@H]2[C@H]3C=C(C)C4=CC(=O)CC[C@@]4(C)[C@@H]3CC[C@@]12C)C(C)=O',\n",
       " 'COc1ccc(cc1)N1CCN(CCCNC(=O)Cn2c3nccc(C)c3n3cccc3c2=O)CC1',\n",
       " 'C[C@H](CO)N1C[C@H](C)[C@H](CN(C)C(=O)C2CC2)OCc3cn(CCCC1=O)nn3',\n",
       " 'CC(=O)N1[C@H]([C@H](CO)[C@H]2Cn3c(ccc(-c4cncnc4)c3=O)[C@@H]12)C(=O)NCc1ccccc1Cl',\n",
       " 'CC(C)NC(=O)N1[C@@H](CO)[C@H]([C@@H]1C#N)c1ccc(cc1)-c1ccc(F)cc1',\n",
       " 'CN1CCN(CC1)C(=O)[C@@H]1[C@@H](CO)[C@@H]2Cn3c(cccc3=O)[C@H]1N2Cc1ccncc1',\n",
       " 'C[C@@H](NC(=O)[C@H]1[C@H](CO)[C@H]2Cn3c(ccc(-c4ccccc4F)c3=O)[C@@H]1N2C)c1ccccc1',\n",
       " 'CC(C)C#Cc1cnc2O[C@@H](CN(C)Cc3cncnc3)[C@@H](C)CN([C@@H](C)CO)C(=O)c2c1',\n",
       " 'COc1ccc2c3c([nH]c2c1)[C@H](CO)N(Cc1ccc(F)cc1)C[C@]31CN(Cc2ccccn2)C1',\n",
       " 'CN(C)c1nc(N)nc(CSc2nnnn2c3ccccc3)n1',\n",
       " 'C[C@H](O)C#Cc1ccc(cc1)[C@@H]1[C@H](CO)N2CCCCN(C[C@H]12)C(=O)c1ccc2OCOc2c1',\n",
       " 'CC(C)(C)S(=O)N1Cc2cc(nc(c2[C@@H]1CCO)c3cccc(c3)c4cccc(F)c4)C(=O)NCCCN5CCOCC5',\n",
       " 'Nc1nc2ccccc2n1S(=O)(=O)c1ccc(Cl)cc1',\n",
       " 'C1CCC(CC1)(N1CCOCC1)c1cccs1',\n",
       " 'CN1CCN(CC(=O)N2c3c(C)scc3C(=O)Nc3ccccc23)CC1',\n",
       " 'C[C@H](CO)N1C[C@H](C)[C@H](CN(C)C(=O)Nc2ccccc2C(F)(F)F)OCc3ccccc3-c4ccccc4C1=O',\n",
       " 'OC[C@H]1[C@@H]([C@@H]2CN(CCCCN12)S(=O)(=O)c1ccccc1)c1ccc(cc1)-c1cccc(c1)C#N',\n",
       " 'COc1ccc(CN(C)C[C@H]2OCCCC[C@@H](C)Oc3ccc(NC(=O)Nc4cccc5ccccc45)cc3C(=O)N(C[C@@H]2C)[C@@H](C)CO)cc1',\n",
       " 'OC[C@@H]1[C@H]2Cn3c(ccc(-c4ccccc4)c3=O)[C@H]2N([C@H]1C(=O)NCCc1ccncc1)C(=O)C1CC1',\n",
       " 'CO[C@H](CN(C)C(=O)c1ccc2OCOc2c1)[C@H](C)CN([C@@H](C)CO)S(=O)(=O)c1ccccc1',\n",
       " 'CC(=O)N1CC2(C1)[C@@H]([C@H](CO)N2Cc1ccccc1F)c1ccccc1',\n",
       " 'Oc1cc(/C=C/c2ccc(O)c(O)c2)oc(=O)c1',\n",
       " 'OC[C@H]1O[C@@H](Oc2ccc(O)cc2)[C@H](O)[C@@H](O)[C@@H]1O',\n",
       " 'C[C@H](CO)N1C[C@H](C)[C@@H](CN(C)C(=O)c2ccc3OCOc3c2)Oc4cc(ccc4S1(=O)=O)c5ccccc5',\n",
       " 'C[C@@H]1C\\\\C=C\\\\CCC(=O)N[C@@H](CC(=O)O1)c1ccccc1',\n",
       " 'Cc1noc(NS(=O)(=O)c2ccc(NC(=O)c3cc(nc4c(C)cc(C)cc34)c5cccnc5)cc2)c1C',\n",
       " 'C[C@H](CO)N1C[C@H](C)[C@H](CN(C)C(=O)Nc2cccc3ccccc23)OCCCC[C@H](C)Oc4ccc(NC(=O)c5ccncc5)cc4C1=O',\n",
       " 'OC[C@@H]1[C@H]([C@@H]2CN(CC(=O)N12)C(=O)Cc1ccccn1)c1ccc(cc1)C#CCC1CCCC1',\n",
       " 'CN1[C@H]2CC[C@H](CC(=O)NCc3ccc4OCOc4c3)O[C@@H]2COc2ccc(NC(=O)C3CCOCC3)cc2C1=O',\n",
       " 'C[C@@H](CO)N1C[C@@H](C)[C@@H](CN(C)C(=O)C2CCC2)Oc3cc(ccc3S1(=O)=O)c4ccc(cc4)C(=O)N(C)C',\n",
       " 'CO[C@H]1CN(C)C(=O)c2ccc(NS(=O)(=O)c3cn(C)cn3)cc2OC[C@H](C)NC[C@H]1C',\n",
       " 'CN(C)c1ccc(/C=C/2\\\\C(=O)Nc3ccccc23)c4ccccc14',\n",
       " 'COc1ccccc1NC(=O)N(C)C[C@@H]2Oc3ncc(C#CC(C)C)cc3C(=O)N(C[C@H]2C)[C@H](C)CO',\n",
       " 'C[C@H](NC(=O)[C@H]1[C@H](CO)[C@H]2Cn3c(cccc3=O)[C@@H]1N2CCC(F)(F)F)c1ccccc1',\n",
       " 'OC[C@H]1[C@H]([C@@H]2CNCC(=O)N12)c1ccc(cc1)-c1ccc(cc1)C#N',\n",
       " 'Fc1cccc(Nc2nc(nc3ccccc23)c4ccncc4)c1',\n",
       " 'CO[C@@H]1CN(C)C(=O)c2cc(NC(=O)Nc3ccccc3OC)ccc2OC[C@@H](C)N(C)C[C@@H]1C',\n",
       " 'COc1ccc2c3c([C@H](CO)N(C[C@]33CCN(CC4CCCC4)CC3)C(=O)C3CCC3)n(C)c2c1',\n",
       " 'CO[C@@H]1CN(C)C(=O)c2cc(NC(=O)Nc3cc(F)ccc3F)ccc2OC[C@H](C)NC[C@@H]1C',\n",
       " 'COc1ccc2c3c([nH]c2c1)[C@H](CO)N(C)C[C@]31CCN(CC1)S(=O)(=O)c1ccc(C)cc1',\n",
       " 'C[C@@H](CO)N1C[C@H](C)[C@@H](CN(C)C(=O)CCC(F)(F)F)OCCCC[C@@H](C)Oc2ccc(NS(=O)(=O)c3ccccc3)cc2C1=O',\n",
       " 'CCCNC(=O)C[C@@H]1CC[C@@H]2[C@H](COc3ccc(NC(=O)c4ccc5OCOc5c4)cc3C(=O)N2C)O1',\n",
       " 'C[C@H](CO)N1C[C@H](C)[C@@H](CN(C)C(=O)C2CCCCC2)Oc3ncc(C#Cc4ccccc4F)cc3C1=O',\n",
       " 'COc1ccc(CNC(=O)N(C)C[C@H]2OCc3ccccc3-c4c(C(=O)N(C[C@@H]2C)[C@H](C)CO)n(C)c5ccccc45)cc1',\n",
       " 'O[C@H]1COC[C@@H]2O[C@@H](CC(=O)NCc3ccc(Cl)c(Cl)c3)CC[C@H]2N(C1)C(=O)c1ccccc1F',\n",
       " 'Cc1cc(O)cc2oc3cc(O)cc(O)c3c(=O)c12',\n",
       " 'OC[C@@H]1O[C@H](CC(=O)NCC2CCCCC2)C=C[C@@H]1NC(=O)Nc1cccc(F)c1',\n",
       " 'CN1CCCCC1CNc2ncnc3ccc(cc23)c4c(C)noc4C',\n",
       " 'COc1ccc(NC(=O)Nc2ccc3O[C@H](C)CCCCO[C@H](CN(C)Cc4ccc(Cl)c(Cl)c4)[C@@H](C)CN([C@@H](C)CO)C(=O)c3c2)cc1',\n",
       " 'NCCCNCCSP(O)(O)=O',\n",
       " 'CN1[C@@H]2CC[C@@H](CC(=O)Nc3cn(C)nc3C)O[C@@H]2COc2ccc(NC(=O)c3cccc(F)c3)cc2C1=O',\n",
       " 'OC[C@@H]1O[C@@H](CC(=O)N2CCOCC2)C[C@H]3[C@@H]1Oc4ccc(NC(=O)Nc5ccccc5F)cc34',\n",
       " 'C[C@H](CO)N1C[C@H](C)[C@H](CN(C)CC2CC2)OCCCC[C@H](C)Oc3ccc(NS(=O)(=O)c4ccccc4)cc3C1=O',\n",
       " 'COc1ccc(cc1)S(=O)(=O)N(C)C[C@@H]2OCCCC[C@H](C)Oc3ccc(NS(=O)(=O)c4cn(C)cn4)cc3C(=O)N(C[C@@H]2C)[C@@H](C)CO',\n",
       " 'C[C@]12CC(=O)[C@@H]3[C@H](CCC4=CC(=O)C=C[C@]34C)[C@@H]1CC[C@]2(O)C(=O)CO',\n",
       " 'COc1ccc2c3c([nH]c2c1)[C@@H](CO)N(C)C[C@]31CN(C1)C(=O)C1CC1',\n",
       " 'OC[C@@H]1[C@@H]([C@H]2CN(CC(=O)N12)C(=O)C1CCC1)c1ccc(Br)cc1',\n",
       " 'CN(C)CCCNC(=O)C[C@@H]1CC[C@H]2[C@@H](COC[C@H](O)CN2CC2CCCC2)O1',\n",
       " 'OC[C@@H]1O[C@@H](CC(=O)N2CCCCC2)C[C@H]3[C@@H]1Oc4ccc(NC(=O)NC5CCCC5)cc34',\n",
       " 'Cn1nnnc1Sc2ncnc3scc(c4cccc(c4)S(=O)(=O)C)c23',\n",
       " 'CCC(=C)C(=O)c1ccc(OCC(O)=O)c(Cl)c1Cl',\n",
       " 'C[C@H](CO)N1C[C@H](C)[C@H](CN(C)CC2CC2)OCCCC[C@H](C)Oc3ccc(NC(=O)NC4CCCCC4)cc3C1=O',\n",
       " 'CO[C@H]1CN(C)C(=O)c2cc(NC(=O)c3ccccc3F)ccc2OC[C@@H](C)NC[C@@H]1C',\n",
       " 'OC[C@@H]1[C@@H]([C@@H]2CN(CC(=O)N12)C(=O)c1ccccc1)c1ccc(cc1)-c1ccccc1',\n",
       " 'COCC(=O)Nc1ccc2O[C@H]3[C@H](C[C@@H](CC(=O)NCc4cccnc4)O[C@H]3CO)c2c1',\n",
       " 'COc1ccc(cc1)S(=O)(=O)Nc2ccc3O[C@H](CN(C)S(=O)(=O)c4ccc(OC)cc4)[C@H](C)CN([C@H](C)CO)C(=O)Cc3c2',\n",
       " 'OC[C@@H]1Nc2ccc(Br)cc2[C@H]2[C@@H]1CCN2C(=O)c1ccccn1',\n",
       " 'C[C@H](CO)N1C[C@H](C)[C@H](CN(C)C)Oc2cc(C#Cc3ccccn3)ccc2S1(=O)=O',\n",
       " 'CCOC(OCC)P(=O)(O)CCCNCc1ccc(Cl)c(Cl)c1',\n",
       " 'C[C@@H](N)[C@H]1CC[C@@H](CC1)C(=O)Nc1ccncc1',\n",
       " 'COc1ccccc1CN2CCN(Cc3cccnc3)CC2',\n",
       " 'OC[C@H]1O[C@@H](CC(=O)NCc2cccc(F)c2)C[C@H]3[C@@H]1Oc4ccc(NC(=O)C5CCC5)cc34',\n",
       " 'COc1cc(C)c(\\\\C=C\\\\C(C)=C\\\\C=C\\\\C(C)=C\\\\C(O)=O)c(C)c1C',\n",
       " 'O=C(O[C@H]1CN2CCC1CC2)C1NCc2ccccc2[C@@H]1c1ccccc1',\n",
       " 'C/C=C/c1ccc2c(O[C@@H](CN(C)C(=O)Cc3cccnc3)[C@@H](C)CN([C@H](C)CO)S2(=O)=O)c1',\n",
       " 'C[C@@]12CCC3C(CC[C@@H]4C[C@@H](O)CC[C@@]43C)[C@@]2(O)C[C@H](O)[C@@H]1C5=CC(=O)OC5',\n",
       " 'NS(=O)(=O)C#Cc1ccccc1',\n",
       " 'CC(=O)NC(C1CC1)c2cc(Cl)c3cccnc3c2O',\n",
       " 'COc1ccccc1C#Cc2cnc3O[C@@H](CN(C)C(=O)c4ccc5OCOc5c4)[C@@H](C)CN([C@H](C)CO)C(=O)c3c2',\n",
       " 'C[C@@H](CO)N1C[C@H](C)[C@@H](CN(C)S(=O)(=O)c2ccc(C)cc2)Oc3cc(C#Cc4ccncc4)ccc3S1(=O)=O',\n",
       " 'COc1ccc(cc1)C#Cc1ccc2N[C@@H](CO)[C@H]3CCN([C@H]3c2c1)C(=O)C1CCOCC1',\n",
       " 'C[C@@H](O)[C@H]1[C@H]2CC(SCCNC=N)=C(N2C1=O)C(O)=O',\n",
       " 'CO[C@@H]1CN(C)C(=O)c2cc(NS(=O)(=O)c3cccc(F)c3)ccc2OC[C@@H](C)NC[C@@H]1C',\n",
       " 'OC[C@H]1O[C@H](CC(=O)NCc2cc(F)cc(F)c2)CC[C@H]1NC(=O)Nc1ccc(cc1)C(F)(F)F',\n",
       " 'O=C(OCC#CCSc1nnc(o1)-c1cccc2ccccc12)c1ccncc1',\n",
       " 'CC(C)[N+]1(C)C2CC[C@@H]1C[C@H](C2)OC(=O)C(CO)c3ccccc3',\n",
       " 'CC(C)N(C[C@@H]1N[C@@H](CO)[C@@H]1c1ccc(cc1)-c1ccccc1)C(C)=O',\n",
       " 'CC(C)NC(=O)Nc1ccc2O[C@H](C)CCCCO[C@@H](CN(C)C(=O)NC3CCCCC3)[C@H](C)CN([C@H](C)CO)C(=O)c2c1',\n",
       " 'COc1ccc2c3c([nH]c2c1)[C@H](CO)N(C[C@]31CCN(Cc2cccnc2)CC1)C(=O)c1ccc(F)cc1',\n",
       " 'Cc1nc(SCc2nc3ccccc3[nH]2)c4oc5ccccc5c4n1',\n",
       " 'CCCNC(=O)N1[C@@H](CO)[C@@H]([C@H]1CNC(=O)c1ccc(F)cc1)c1ccccc1',\n",
       " 'CO[C@H](CN(C)C(=O)C1CCOCC1)[C@@H](C)CN([C@@H](C)CO)C(=O)Nc1ccc(F)cc1',\n",
       " 'OC[C@@H]1[C@@H]([C@@H]2CN(CC(=O)N12)C(=O)c1ccccc1F)c1ccc(cc1)C#Cc1ccccc1',\n",
       " 'OC[C@H]1[C@@H]2Cn3c(ccc(C4=CCCCC4)c3=O)[C@H]([C@@H]1C(O)=O)N2C(=O)Cc1ccccn1',\n",
       " 'C[C@@H](CO)N1C[C@@H](C)[C@H](CN(C)Cc2ccc(cc2)C(F)(F)F)Oc3ccc(NC(=O)Cc4ccccc4)cc3CC1=O',\n",
       " 'CCCNC(=O)N[C@@H]1C=C[C@H](CC(=O)NCCc2ccccc2)O[C@H]1CO',\n",
       " 'Cc1ccc(cc1)S(=O)(=O)NC(=O)CSc2nc3ccccc3s2',\n",
       " 'CC(C)CC#Cc1ccc(cc1)[C@H]1[C@H](CO)N2[C@H]1CN(CC2=O)C(=O)c1cccc(F)c1',\n",
       " 'CN(C)C(=O)c1cccc(c1)-c1ccc(cc1)[C@H]1[C@@H]2CNC[C@H]1N2Cc1ccc2OCOc2c1',\n",
       " 'C[C@@H](CO)N1C[C@@H](C)[C@@H](CN(C)Cc2ccncc2)Oc3ccc(NC(=O)Nc4cccc5ccccc45)cc3CC1=O',\n",
       " 'CCCCC1=NC2(CCCC2)C(=O)N1Cc1ccc(cc1)-c1ccccc1-c1nnn[nH]1',\n",
       " 'CCCC#Cc1ccc(cc1)[C@@H]1[C@H](CO)N2[C@H]1CN(CC2=O)C(=O)CN1CCOCC1',\n",
       " 'C\\\\C=C\\\\c1ccc(cc1)[C@@H]1[C@H](CO)N2[C@@H]1CN(CC2=O)S(=O)(=O)c1ccccc1',\n",
       " 'ONC(=O)CCCCCCC(=O)N/N=C/c1ccc(cc1)c2ccccc2',\n",
       " 'O=C1CCc2c(O1)ccc1ccccc21',\n",
       " 'C[C@H](CO)N1C[C@H](C)[C@H](CN(C)C(=O)c2ccc3OCOc3c2)Oc4cc(ccc4S1(=O)=O)c5ccccc5',\n",
       " 'CC(C)CC#Cc1ccc(cc1)[C@H]1[C@H](CO)N2[C@@H]1CN(CC2=O)C(=O)c1cccc(F)c1',\n",
       " 'C[C@H](CO)N1C[C@H](C)[C@H](CN(C)C(=O)Nc2ccc(cc2)C(F)(F)F)OCCCC[C@H](C)Oc3ccc(NC(=O)Nc4cccc5ccccc45)cc3C1=O',\n",
       " 'OC[C@@H]1[C@H]([C@H]2CN(CC(=O)N12)C(=O)Cc1cccnc1)c1ccc(cc1)C#CC1CCCCC1',\n",
       " 'C[C@@H](CO)N1C[C@H](C)[C@@H](CN(C)CC2CCCCC2)Oc3ccc(NC(=O)CCCCCC(=O)Nc4ccccc4N)cc3CC1=O',\n",
       " 'CO[C@@H]1CC[C@H]2CCN(C)C(=O)[C@@H](C)[C@H](CN(C)C(=O)c3cccc(C#N)c3OC[C@H]1O2)OC',\n",
       " 'Oc1ccc(cc1O)\\\\C=C(/C#N)C(=O)Nc1ccccc1',\n",
       " 'COc1ccc(NC(=O)N(C)C[C@@H]2Oc3ccc(cc3C(=O)N(C[C@@H]2C)[C@H](C)CO)N(C)C)cc1',\n",
       " 'CO[C@H]1CN(C)C(=O)c2ccc(NC(=O)C3CCCC3)cc2OC[C@H](C)N(C[C@H]1C)S(C)(=O)=O',\n",
       " 'O=C(Cn1nc(-c2ccccc2)c2ccccc12)Oc1ccccc1',\n",
       " 'COCCNC(=O)C[C@H]1C[C@@H]2[C@@H](Oc3ccc(NC(=O)Nc4ccc(cc4)C(F)(F)F)cc23)[C@H](CO)O1',\n",
       " 'Cn1c(=O)n(C)c2nc[nH]c2c1=O.Cn1c(=O)n(C)c2nc[nH]c2c1=O',\n",
       " 'Cn1cnc(c1)S(=O)(=O)N1C[C@H]2N[C@@H](C1)[C@@H]2c1ccc(cc1)-c1ccccc1F',\n",
       " 'CN1CCN(CC1)C(=O)C[C@@H]1CC[C@H]2[C@@H](COC[C@@H](O)CN2Cc2cccc(F)c2)O1',\n",
       " 'CCC(=O)N(C)C[C@H]1Oc2cc(ccc2S(=O)(=O)N(C[C@@H]1C)[C@@H](C)CO)C3=CCCC3',\n",
       " 'CNC[C@H]1Oc2ccc(NS(=O)(=O)c3ccccc3)cc2CC(=O)N(C[C@@H]1C)[C@@H](C)CO',\n",
       " 'OC[C@@H]1O[C@@H](CC(=O)N2CCc3ccccc3C2)C[C@@H]4[C@H]1Oc5ccc(NC(=O)Nc6ccc(cc6)C(F)(F)F)cc45',\n",
       " 'CC1(C)[C@H](O)C=C[C@]2(C)C3CC[C@@]4(C)[C@@H](OC(=O)C=C4[C@]3(C)OC(=O)CC12)c5ccoc5',\n",
       " 'COc1ccccc1CNC(=O)C[C@H]2C[C@H]3[C@H](Oc4ccc(cc34)N(C)C)[C@H](CO)O2',\n",
       " 'C[C@@H](O)COc1cn2ncnc(Oc3ccc4[nH]c(C)cc4c3F)c2c1C',\n",
       " 'Cc1cc(NC(=O)CS(=O)(=O)c2cn(Cc3cccc(Br)c3)c3ccccc23)no1',\n",
       " 'C[C@H](CO)N1C[C@H](C)[C@H](CN(C)Cc2cccnc2)Oc3ncc(cc3C1=O)c4cccc(C#N)c4',\n",
       " 'C[C@@H](CO)N1C[C@@H](C)[C@@H](CN(C)C)Oc2ccc(NC(=O)C3CC3)cc2CC1=O',\n",
       " 'CNC(=O)C[C@H]1CC[C@H]2[C@H](COc3ccc(NC(=O)c4cc(F)cc(F)c4)cc3C(=O)N2C)O1',\n",
       " 'CC(C)NC(=O)Nc1ccc2O[C@@H](CN(C)C(=O)NC3CCCCC3)[C@H](C)CN([C@@H](C)CO)C(=O)Cc2c1',\n",
       " 'CO[C@@H]1CN(C)C(=O)c2cc(NC(=O)c3cccc(OC)c3)ccc2OC[C@H](C)NC[C@@H]1C',\n",
       " 'CN(C)C(=O)c1ccc(cc1)-c1cccc(c1)-c1nc(cc2CN([C@H](CCO)c12)[S@](=O)C(C)(C)C)C(=O)NCc1ccccc1',\n",
       " 'CCCNC(=O)N1C[C@]2(CCN(CC2)C(=O)c2cccc(F)c2)c2c([nH]c3cc(OC)ccc23)[C@H]1CO',\n",
       " 'C[C@@H](CO)N1C[C@@H](C)[C@H](CN(C)S(=O)(=O)c2ccccc2)OCCCC[C@@H](C)Oc3ccc(NC(=O)CCCN(C)C)cc3C1=O',\n",
       " 'C[C@H](O)C#Cc1ccc(cc1)[C@H]1[C@@H](CO)N2CCCCN(C[C@H]12)C(=O)c1ccc2OCOc2c1',\n",
       " 'NCCC[C@H](N)CC(=O)N[C@H]1CNC(=O)[C@@H](NC(=O)C(NC(=O)[C@H](CO)NC(=O)[C@H](CO)NC1=O)=CNC(N)=O)[C@H]1C[C@H](O)N=C(N)N1',\n",
       " 'CN(C)S(=O)(=O)c1ccc2NC(=O)/C(=C\\\\c3cc4CCCCc4[nH]3)/c2c1',\n",
       " 'Fc1cn(C2CCCO2)c(=O)[nH]c1=O',\n",
       " 'COc1cccc(c1)c2cccc(c2)c3nc(cc4CN([C@H](CCO)c43)S(=O)C(C)(C)C)C(=O)O',\n",
       " 'CC(C)CN(C[C@H]1[C@H]([C@@H](CO)N1C(C)=O)c1ccccc1)C(=O)c1ccccn1',\n",
       " 'C[C@@H](CO)N1C[C@@H](C)[C@H](CN(C)CC2CC2)Oc3ccc(NC(=O)Nc4ccccc4)cc3CC1=O',\n",
       " 'CN(C)C(=O)C[C@H]1O[C@H](CO)[C@@H](NC(=O)c2ccc(F)cc2)C=C1',\n",
       " 'NC(=O)c1cccc(c1)-c1cc(Nc2ccc(OC(F)(F)F)cc2)ncn1',\n",
       " 'CCC[C@@H]1C[C@H](N(C)C1)C(=O)N[C@H]([C@H](C)Cl)C1O[C@H](SC)[C@H](O)[C@@H](O)[C@H]1O',\n",
       " 'C[C@H](NC(=O)C[C@H]1O[C@@H](CO)[C@H](NC(=O)Cc2ccccn2)C=C1)c1ccccc1',\n",
       " 'CC(C)NC(=O)Nc1ccc2O[C@H](C)CCCCO[C@@H](CN(C)C(=O)NC3CCCCC3)[C@@H](C)CN([C@H](C)CO)C(=O)c2c1',\n",
       " 'CC(CN(C)C)CN1c2ccccc2CCc2ccccc12',\n",
       " 'Oc1cc(C=C(C#N)C#N)ccc1[N+](=O)[O-]',\n",
       " 'Fc1ccc(Cc2n[nH]c(=O)c3ccccc23)cc1C(=O)N1CCN(CC1)C(=O)C1CC1',\n",
       " 'COCC(=O)NC[C@H]1[C@@H]([C@H](CO)N1C(=O)c1ccccc1)c1ccccc1',\n",
       " 'O[C@H]1COC[C@@H]2O[C@H](CC(=O)Nc3ccc(cc3)-c3ccccc3)CC[C@H]2N(Cc2ccc3OCOc3c2)C1',\n",
       " 'CO[C@@H](CN(C)Cc1cc(F)ccc1F)[C@@H](C)CN([C@H](C)CO)S(=O)(=O)c1ccc(F)cc1',\n",
       " 'O=C1CCCC(=O)C1C(C#Cc2ccccc2)C3C(=O)CCCC3=O',\n",
       " 'COc1ccc2c3c([nH]c2c1)[C@@H](CO)N(C)C[C@]31CCN(CC1)S(=O)(=O)c1ccc(C)cc1',\n",
       " 'FC(F)(F)c1ccc(cc1)S(=O)(=O)NC2CCN(CC2)C#N',\n",
       " 'C[C@H](CO)N1C[C@@H](C)[C@@H](CN(C)S(=O)(=O)c2ccccc2)Oc3ccc(cc3CC1=O)N(C)C',\n",
       " 'OC[C@H]1[C@H]([C@H]2CN(CC(=O)N12)C(=O)Nc1ccccc1F)c1ccc(cc1)-c1cccnc1',\n",
       " 'CC(C)(C)[S@](=O)N1Cc2cc(nc(c2[C@@H]1CCO)-c1cccc(c1)-c1ccc(cc1)C#N)C(=O)NCc1ccncc1',\n",
       " 'Fc1cccc(CN2C[C@H]3N[C@@H](C2)[C@@H]3c2ccc(cc2)-c2cncnc2)c1',\n",
       " 'Cc1cccc(c1)-c1ccc(cc1)[C@H]1[C@@H](CO)N2CCCCN(C[C@H]12)S(=O)(=O)c1ccccc1F',\n",
       " 'CNC[C@@H]1Oc2cc(C#C[C@@H](C)O)ccc2S(=O)(=O)N(C[C@H]1C)[C@H](C)CO',\n",
       " 'OC[C@@H]1[C@H]([C@@H]2CN(CC(=O)N12)C(=O)C1CCOCC1)c1ccc(cc1)C#CCc1ccccc1',\n",
       " 'COC(=O)C[C@@H]1CC[C@H]2[C@@H](COC[C@@H](O)CN2CCC(F)(F)F)O1',\n",
       " 'C[C@H](CO)N1C[C@@H](C)[C@H](CN(C)Cc2ccccc2)OCCCC[C@H](C)Oc3ccc(NC(=O)c4ccncc4)cc3C1=O',\n",
       " 'CN(C[C@@H]1[C@H]([C@H](CO)N1C(=O)c1ccccc1)c1ccccc1)C(=O)C1CCC1',\n",
       " 'CN(C)CCc1c[nH]c2ccc(Cn3cncn3)cc12',\n",
       " 'C\\\\C=C\\\\c1ccc(cc1)[C@H]1[C@@H](CO)N2[C@H]1CN(Cc1ccc(F)cc1)CC2=O',\n",
       " 'C[C@@H](CO)N1C[C@H](C)[C@@H](CN(C)Cc2ccc(cc2)C(F)(F)F)OCCCC[C@@H](C)Oc3ccc(NC(=O)Nc4ccc(F)cc4)cc3C1=O',\n",
       " 'C[C@H](CO)N1C[C@@H](C)[C@H](CN(C)C(=O)[C@H](C)c2ccccc2)OCc3ccccc3-c4ccccc4C1=O',\n",
       " 'OC[C@H]1[C@@H]2[C@@H](CN(C(=O)C3CCOCC3)c3ccccc23)N1Cc1ccc(Cl)cc1',\n",
       " 'Cc1cc2C(=O)C(=C(C(=O)c2cc1C)c3ccccc3)NCc4ccccc4',\n",
       " 'C/C=C/c1ccc2c(O[C@H](CN(C)C)[C@@H](C)CN([C@@H](C)CO)S2(=O)=O)c1',\n",
       " 'C[C@@H](CO)N1C[C@H](C)[C@@H](CN(C)C(=O)[C@H](Cc2ccccc2)N(C)C)OCc3ccccc3-c4c(C1=O)n(C)c5ccccc45',\n",
       " 'OC[C@@H]1N[C@@H](C#N)[C@H]1c1ccc(cc1)C#CC1CCCCC1',\n",
       " 'CCCCC[C@H](O)\\\\C=C\\\\[C@H]1[C@H](O)CC(=O)[C@@H]1C\\\\C=C/CCCC(O)=O',\n",
       " 'COc1ccccc1S(=O)(=O)N[C@H]1CC[C@H](CC(=O)NCc2cccc(F)c2)O[C@H]1CO',\n",
       " 'CC(C)[C@]1(O)[C@@H](OC(=O)c2ccc[nH]2)[C@]3(O)[C@]4(O)[C@]1(C)[C@]5(O)C[C@@]3(C)[C@@]6(O)CC[C@H](C)[C@@H](O)[C@]46O5',\n",
       " 'CN1[C@H]2CC[C@@H](CC(=O)NC3CCCCC3)O[C@H]2COc2ccc(NS(C)(=O)=O)cc2C1=O',\n",
       " 'OC[C@H]1[C@@H]([C@H](C#N)N1C(=O)c1ccccn1)c1ccc(cc1)C1=CCCC1',\n",
       " 'OC[C@@H]1O[C@@H](CC(=O)NCC2CC2)C=C[C@H]1NC(=O)c1ccncc1',\n",
       " 'CC(C)NC(=O)N(C)C[C@@H]1OCCCC[C@@H](C)Oc2ccc(NC(=O)Nc3ccccc3)cc2C(=O)N(C[C@@H]1C)[C@H](C)CO',\n",
       " 'COc1ccc(NC(=O)N2CCCCN3[C@H](CO)[C@H]([C@H]3C2)c2ccc(cc2)-c2ccccc2F)cc1',\n",
       " 'C[C@H](CO)N1C[C@H](C)[C@@H](CN(C)S(=O)(=O)c2ccccc2)OCc3cn(CCCC1=O)nn3',\n",
       " 'OC[C@@H]1[C@H]2[C@H](CN(C(=O)C3CCOCC3)c3ccccc23)N1C(=O)Cc1ccccc1',\n",
       " 'CCC(=O)N1C[C@@H]2[C@H]([C@H](CO)N2C(=O)C1)c1ccc(cc1)C#CCC(C)C',\n",
       " 'CS(=O)(=O)N1C[C@H]2[C@H]([C@@H](CO)N2C(=O)C1)c1ccc(cc1)C#Cc1ccc(F)cc1',\n",
       " 'CCCn1c(NC(=O)c2cccc(c2)S(=O)(=O)N3CCCC3)nc4ccccc14',\n",
       " 'CN1[C@H]2CC[C@@H](CC(=O)N[C@@H]3CCN(Cc4ccccc4)C3)O[C@@H]2COc2ccc(NC(=O)Nc3c(C)noc3C)cc2C1=O',\n",
       " 'C[C@@H](O)CNC(C)(C)CC(=O)N[C@@H]1CCc2ccccc2N(Cc3ccc(cc3)c4ccccc4c5nn[nH]n5)C1=O',\n",
       " 'CCCN(C)C[C@H]1OCc2ccccc2-c3ccccc3C(=O)N(C[C@H]1C)[C@@H](C)CO',\n",
       " 'CC(C)NC(=O)Nc1ccc2O[C@H](C)CCCCO[C@@H](CN(C)C(=O)c3ccncc3)[C@@H](C)CN([C@H](C)CO)C(=O)c2c1',\n",
       " 'O=C(O[C@H]1Cc2c(OC(=O)c3ccccc3)cc(OC(=O)c4ccccc4)cc2O[C@@H]1c5ccc(OC(=O)c6ccccc6)c(OC(=O)c7ccccc7)c5)c8ccccc8',\n",
       " 'COc1ccc(cc1)S(=O)(=O)N2CCN(CC2)S(=O)(=O)c3ccc4OCCOc4c3',\n",
       " 'COCC(=O)N(C)C[C@@H]1[C@H]([C@H](CO)N1C(C)=O)c1ccc(cc1)-c1ccccc1',\n",
       " 'COc1cccc(c1)-c1ccc(cc1)[C@H]1[C@@H]2CNC[C@H]1N2C(=O)Nc1ccc(cc1)C(F)(F)F',\n",
       " 'Cn1cncc1[C@@](N)(c1ccc(Cl)cc1)c1ccc2n(C)c(=O)cc(-c3cccc(Cl)c3)c2c1',\n",
       " 'COc1ccccc1C#Cc2ccc3c(O[C@H](CN(C)Cc4cccnc4)[C@@H](C)CN([C@H](C)CO)S3(=O)=O)c2',\n",
       " 'C[C@H](CO)N1C[C@@H](C)[C@@H](CN(C)C(=O)c2ccc(F)cc2)Oc3cc(ccc3S1(=O)=O)C4=CCCC4',\n",
       " 'CC(C)NC(=O)N1C[C@@H]2[C@@H]([C@H](CO)N2C(=O)C1)c1ccc(\\\\C=C\\\\c2ccccc2)cc1',\n",
       " 'COc1ccc2c3c([C@H](CO)N(CC4CCOCC4)C[C@]33CCN(CC3)C(=O)CN(C)C)n(C)c2c1',\n",
       " 'COc1ccc2c3c([nH]c2c1)[C@H](CO)N(C[C@]31CCN(CC2CCCC2)CC1)S(C)(=O)=O',\n",
       " 'CN1CCN(CC1)C(=O)C[C@H]1CC[C@H]2[C@H](COc3ccc(NC(=O)c4cscn4)cc3C(=O)N2C)O1',\n",
       " 'COCC#Cc1cnc2O[C@@H](CN(C)S(=O)(=O)C)[C@@H](C)CN([C@@H](C)CO)C(=O)c2c1',\n",
       " 'COCC(=O)Nc1ccc2OC[C@H](C)N(Cc3cc(F)ccc3F)C[C@@H](C)[C@@H](CN(C)C(=O)c2c1)OC',\n",
       " 'COc1ccc2c3c([nH]c2c1)[C@H](CO)N(Cc1ccc2OCOc2c1)C[C@]31CCN(CC1)C(=O)Nc1c(C)noc1C',\n",
       " 'C[C@@H](CO)N1C[C@H](C)[C@@H](CN(C)Cc2ccccc2)OCCCC[C@@H](C)Oc3ccc(NC(=O)Cc4ccccc4)cc3C1=O',\n",
       " 'O[C@H]1CN[C@H]2CC[C@H](CC(=O)NCCN3CCCCC3)O[C@@H]2COC1',\n",
       " 'COc1ccc(NC(=O)Nc2ccc3O[C@@H](C)CCCCO[C@H](CN(C)CC4CCCCC4)[C@H](C)CN([C@H](C)CO)C(=O)c3c2)cc1',\n",
       " 'OC[C@H]1O[C@@H](CC(=O)NCC2CC2)C[C@H]3[C@@H]1Oc4ccc(NC(=O)CC5CC5)cc34',\n",
       " 'CN1CCc2cc(Cl)c(O)cc2[C@@H]3[C@@H]1CCc4ccccc34',\n",
       " 'CC(C)NC(=O)Nc1ccc2O[C@@H](C)CCCCO[C@@H](CN(C)CC3CCCCC3)[C@@H](C)CN([C@@H](C)CO)C(=O)c2c1',\n",
       " 'OC[C@H]1[C@@H]2[C@@H](CN(C(=O)Nc3ccc(F)cc3)c3ccccc23)N1C(=O)c1cccnc1',\n",
       " 'CCOC(=O)[C@H]1C\\\\C=C\\\\C[C@H](C(=O)OCC)C(=O)O[C@H]2[C@H](OC(=O)Nc3ccc(Br)cc3)[C@@H](CO)O[C@H](OC)[C@@H]2OC1=O',\n",
       " 'C[C@@H](CO)N1C[C@@H](C)[C@H](CN(C)CC2CCCCC2)OCCCC[C@@H](C)Oc3ccc(NS(=O)(=O)c4ccccc4)cc3C1=O',\n",
       " 'C\\\\C=C\\\\c1cccc(c1)-c1nc(cc2CN([C@@H](CCO)c12)[S@@](=O)C(C)(C)C)C(=O)NCc1ccncc1',\n",
       " 'COc1cccc(NC(=O)N2C[C@H](O)COC[C@H]3O[C@H](CC(=O)N(C)C)CC[C@H]23)c1',\n",
       " 'C[C@@H](CO)N1C[C@H](C)[C@H](CN(C)S(=O)(=O)C)OCc2cn(CCCC1=O)nn2',\n",
       " 'C[C@H](CO)N1C[C@H](C)[C@H](CN(C)S(=O)(=O)c2ccc(F)cc2)OCCCC[C@@H](C)Oc3ccc(NC(=O)Nc4ccccc4)cc3C1=O',\n",
       " 'C[C@@H](CO)N1C[C@@H](C)[C@H](CN(C)Cc2ccc(Oc3ccccc3)cc2)Oc4ccc(NC(=O)CCCN(C)C)cc4C1=O',\n",
       " 'CN(C)c1ccc2O[C@H]3[C@H](C[C@H](CC(=O)NCc4cc(F)ccc4F)O[C@H]3CO)c2c1',\n",
       " 'Cc1cccnc1NC(=S)NC(=O)c2cncc(Br)c2',\n",
       " 'C[C@@H](CO)N1C[C@@H](C)[C@@H](CN(C)CC2CC2)OCCCC[C@@H](C)Oc3ccc(NC(=O)Nc4c(C)noc4C)cc3C1=O',\n",
       " 'CCC[C@H](N[C@@H](C)C(=O)N1[C@H]2CCCC[C@@H]2C[C@H]1C(O)=O)C(=O)OCC',\n",
       " 'FC(F)Oc1ccc(cc1OCC2CC2)C3=Nn4c(nnc4SC3)c5ccccc5F',\n",
       " 'COc1ccc(cc1)S(=O)(=O)N[C@@H]1C=C[C@H](CC(=O)NCCc2ccncc2)O[C@@H]1CO',\n",
       " 'OC[C@@H]1[C@H]2Cn3c(cccc3=O)[C@@H]([C@H]1C(=O)NCCc1ccccc1)N2Cc1ccccn1',\n",
       " 'C[C@H](CO)N1C[C@@H](C)[C@@H](CN(C)Cc2ccc(Cl)c(Cl)c2)Oc3c(NC(=O)Nc4cccc5ccccc45)cccc3C1=O',\n",
       " 'CNc1ccc2oc(C[C@H]3O[C@@]4(CC[C@H]3C)O[C@H]([C@H](C)C(=O)c5ccc[nH]5)[C@H](C)C[C@H]4C)nc2c1C(=O)O',\n",
       " 'CC(=O)Nc1ccc(cc1)C(=O)NC1CCCCC1N',\n",
       " 'C[C@H](CO)N1C[C@H](C)[C@H](CN(C)C)Oc2ccc(NC(=O)Nc3ccccc3)cc2C1=O',\n",
       " '[O-][N+](=O)c1ccc(cc1)N(CCCNC(=O)C(F)(F)F)C(=O)CCl',\n",
       " 'COC(=O)C[C@@H]1C[C@H]2[C@H](Oc3ccc(NC(=O)CN(C)C)cc23)[C@@H](CO)O1',\n",
       " 'O[C@H]1COC[C@H]2O[C@@H](CC(=O)NC3CCC3)CC[C@@H]2N(C1)C(=O)Nc1ccc(Cl)c(Cl)c1',\n",
       " 'COCC(=O)Nc1ccc2O[C@@H]3[C@@H](C[C@@H](CC(=O)N4CCOCC4)O[C@H]3CO)c2c1',\n",
       " 'CC(Oc1c(Cl)cccc1Cl)C1=NCCN1',\n",
       " 'C[C@H](CO)N1C[C@@H](C)[C@@H](CN(C)Cc2ccc(Oc3ccccc3)cc2)Oc4ccc(NC(=O)CCCN(C)C)cc4C1=O',\n",
       " '[O-][N+](=O)c1ccc2NC(=O)C3(NNc4ccccc4O3)c2c1',\n",
       " 'NC(=N)NC(=N)NCCc1ccccc1',\n",
       " 'C[C@H](CO)N1C[C@@H](C)[C@@H](CN(C)Cc2ccc(F)cc2)Oc3ncc(cc3C1=O)c4cccc(C#N)c4',\n",
       " 'CN1CCN(CC1)C(=O)c2cc3CN([C@H](CCO)c3c(n2)c4cccc(C#CCC5CCCC5)c4)S(=O)C(C)(C)C',\n",
       " 'CCCNC(=O)N(C)C[C@@H]1Oc2cc(C#CC(C)(C)O)ccc2S(=O)(=O)N(C[C@H]1C)[C@H](C)CO',\n",
       " 'COc1ccccc1CNC(=O)C[C@H]2C[C@H]3[C@H](Oc4ccc(NC(=O)Nc5ccc(cc5)C(F)(F)F)cc34)[C@@H](CO)O2',\n",
       " 'Nc1ncnc2n(C3OC4COP(=O)(O)OC4C3O)c(Br)nc12',\n",
       " 'O=Cc1c2[nH]c3ccccc3c2cc4[nH]c5ccccc5c14',\n",
       " 'C[C@@H](CO)N1C[C@@H](C)[C@@H](CN(C)C)Oc2ccc(NC(=O)Nc3ccccc3)cc2C1=O',\n",
       " 'C1CCc2nnnn2CC1',\n",
       " 'C[C@H](CO)N1C[C@@H](C)[C@H](CN(C)C(=O)N[C@H](C)c2ccccc2)OCc3ccccc3-c4c(C1=O)n(C)c5ccccc45',\n",
       " 'COC(=O)NN=Cc1c[n+]([O-])c2ccccc2[n+]1[O-]',\n",
       " 'CC[N+](C)(CC)CCOC(=O)C1c2ccccc2Oc2ccccc12',\n",
       " 'COc1ccc(cc1)-c1cccc(c1)-c1nc(cc2CN([C@@H](CCO)c12)[S@@](=O)C(C)(C)C)C(=O)NCC(F)(F)F',\n",
       " 'Cc1ccc(cc1)c2cn3c4CCCCc4sc3n2',\n",
       " 'CO[C@@H](CN(C)Cc1ccc2OCOc2c1)[C@H](C)CN([C@H](C)CO)C(=O)Nc1ccc(F)cc1',\n",
       " 'Cn1nnnc1Sc2ncnc3scc(c4cc5ccccc5o4)c23',\n",
       " 'COc1ccc(cc1)[Si](C)(C)[C@H]2[C@H](C)[C@]3(O[C@@H]2CCn4cc(CCO)nn4)C(=O)N(Cc5cccc(c5)N6CCOC6=O)c7ccccc73',\n",
       " 'O=C1NC(=O)C(N1)(c1ccccc1)c1ccccc1',\n",
       " 'OC[C@H]1Nc2ccc(cc2[C@H]2[C@@H]1CCN2C(=O)c1ccc(F)cc1)C#Cc1ccccc1F',\n",
       " 'COC(=O)c1cc2c(cn1)[nH]c3ccccc32',\n",
       " 'C[C@@H](CO)N1C[C@H](C)[C@H](CN(C)S(=O)(=O)c2cccs2)OCc3ccccc3-c4c(C1=O)n(C)c5ccccc45',\n",
       " 'CN1[C@@H](CO)[C@@H]2[C@H]1CNc1ccccc21',\n",
       " 'O[C@H]1COC[C@@H]2O[C@@H](CC(=O)N3CCc4ccccc4C3)CC[C@H]2N(Cc2cc(F)ccc2F)C1',\n",
       " 'C[C@@H](CO)N1C[C@@H](C)[C@H](CN(C)Cc2ccc(cc2)c3ccccc3)Oc4c(cccc4C1=O)N(C)C',\n",
       " 'CN(Cc1ccccc1)C(=O)[C@H](Cc1ccc2ccccc2c1)NC(=O)[C@@H]1C[C@@H](O)CN1C(=O)c1cn(C)c2ccccc12',\n",
       " 'C[C@@H](CO)N1C[C@@H](C)[C@@H](CN(C)Cc2ccc(cc2)C(=O)O)Oc3cc(ccc3S1(=O)=O)c4ccccc4C',\n",
       " 'O[C@@H]1COC[C@H]2O[C@@H](CC(=O)NCc3ccc(Cl)cc3)CC[C@@H]2N(Cc2cc(F)ccc2F)C1',\n",
       " 'COC(=O)C[C@@H]1C[C@@H]2[C@@H](Oc3ccc(NC(=O)c4ccc5OCOc5c4)cc23)[C@@H](CO)O1',\n",
       " 'OC[C@H]1O[C@@H](CC(=O)N2CCc3ccccc3C2)C[C@@H]4[C@H]1Oc5ccc(NC(=O)c6ccc7OCOc7c6)cc45',\n",
       " 'CO[C@@H]1CN(C)C(=O)c2cc(NC(=O)C3CC3)ccc2OC[C@@H](C)N(C[C@@H]1C)C(=O)c1cccnc1',\n",
       " 'OC[C@@H]1[C@H]2[C@H](CN(C(=O)c3ccccc3F)c3ccccc23)N1C(=O)C1CCCC1',\n",
       " 'Cc1ccccc1-c1ccc(cc1)[C@@H]1[C@@H](CO)N2[C@H]1CN(CC2=O)S(C)(=O)=O',\n",
       " 'C[C@H](CO)N1C[C@@H](C)[C@H](CN(C)C(=O)c2ccc(cc2)N3CCN(C)CC3)OCc4cn(CCCC1=O)nn4',\n",
       " 'COc1cccc(CNC(=O)c2cc3CN([C@H](CCO)c3c(n2)-c2cccc(\\\\C=C\\\\C)c2)[S@](=O)C(C)(C)C)c1',\n",
       " 'CNCCCN1c2ccccc2Sc2ccc(cc12)C(F)(F)F',\n",
       " 'Cn1c2ccccc2c(OCCCC(=O)Nc2cc(Br)ccn2)cc1=O',\n",
       " 'OC[C@H]1[C@@H]([C@H]2CN(CC(=O)N12)C(=O)c1cnccn1)c1ccc(cc1)C#CC1CC1',\n",
       " 'C[C@H](CO)N1C[C@@H](C)[C@H](CN(C)S(=O)(=O)c2ccsc2)OCc3ccccc3-c4ccccc4C1=O',\n",
       " 'COc1ccc2c3c([nH]c2c1)[C@@H](CO)N(C[C@]31CCN(CC1)C(=O)C1CCC1)C(=O)c1ccncc1',\n",
       " 'OC[C@H]1O[C@@H](CC(=O)NCc2ccc(Oc3ccccc3)cc2)C[C@@H]4[C@H]1Oc5ccc(NS(=O)(=O)c6ccc(F)cc6)cc45',\n",
       " 'OC[C@H]1[C@@H]([C@@H]2CN(CC(=O)N12)C(=O)Nc1ccc(F)cc1)c1ccc(cc1)C#Cc1cccnc1',\n",
       " 'OC[C@@H]1O[C@@H](CC(=O)NCc2ccc(Cl)cc2)CC[C@@H]1NC(=O)CC1CC1',\n",
       " 'C\\\\C=C\\\\c1ccc(cc1)[C@H]1[C@@H](CO)N[C@@H]1CNC(=O)CC1CC1',\n",
       " 'COc1ccc2c3c([nH]c2c1)[C@@H](CO)N(C[C@]31CN(C1)S(C)(=O)=O)C(=O)c1ccccn1',\n",
       " 'COc1ccc2c3c([nH]c2c1)[C@@H](CO)N(C[C@]31CCN(CC1)S(=O)(=O)c1cn(C)cn1)C(=O)Nc1ccc(F)cc1',\n",
       " 'CC(C)(O)/C=C/C(=O)[C@](C)(O)C1[C@H](O)C[C@@]2(C)[C@@H]3CC=C4C(CC(=O)C(=O)C4(C)C)[C@]3(C)C(=O)C[C@@]12C',\n",
       " 'CCCCCCCCCCCCCCCCCCc1ccc(cc1)C(=O)C=CC(=O)O',\n",
       " 'OC[C@H]1O[C@@H](CC(=O)NCc2ccccn2)C[C@@H]3[C@H]1Oc4ccc(NC(=O)c5ccc6OCOc6c5)cc34',\n",
       " 'COc1cccc(c1)-c1ccc(cc1)[C@H]1[C@@H](CO)N(C(=O)Cc2ccncc2)[C@@H]1C#N',\n",
       " 'Oc1ccc(cc1)\\\\C=C\\\\c1cc(O)cc(O)c1',\n",
       " 'Cc1csc(CNc2ncnc3ccc(cc23)c4cccnc4)c1',\n",
       " 'CN(C)C(=O)c1cccc(c1)-c1cccc(c1)-c1nc(cc2CN([C@H](CCO)c12)[S@](=O)C(C)(C)C)C(=O)N1CCN(C)CC1',\n",
       " 'OC[C@H]1[C@@H]2[C@@H](CN(c3ccccc23)S(=O)(=O)c2ccc(F)cc2)N1Cc1ccccc1Cl',\n",
       " 'COCC#Cc1ccc(cc1)[C@@H]1[C@H](CO)N2[C@@H]1CN(CC2=O)C(=O)C1CCCCC1',\n",
       " 'CN(C)c1ccc2O[C@@H]3[C@@H](C[C@@H](CC(=O)NCCc4ccccc4)O[C@@H]3CO)c2c1',\n",
       " 'C[C@@H](O)[C@@H](O)[C@@H](O)C/C=N/NC(=O)CCCCCC(=O)Nc1ccccc1O',\n",
       " 'Nc1nc(cs1)C(=NO)C(=O)N[C@H]2[C@H]3SCC(=C(N3C2=O)C(=O)O)C=C',\n",
       " 'C[C@@H](CO)N1C[C@H](C)[C@@H](CN(C)Cc2ccncc2)Oc3cc(C#CCN(C)C)ccc3S1(=O)=O',\n",
       " 'C[C@H](CO)N1C[C@@H](C)[C@@H](CN(C)C(=O)c2ccncc2)OCc3ccccc3-c4ccccc4C1=O',\n",
       " 'OC[C@@H]1[C@@H]([C@H]2CN(CC(=O)N12)C(=O)Cc1cccnc1)c1ccc(cc1)C#CC1CCCCC1',\n",
       " 'OC[C@@H]1[C@H]2Cn3c(ccc(C4=CCCCC4)c3=O)[C@H]2N[C@H]1C(=O)NCC1CC1',\n",
       " 'C[C@@H](CO)N1C[C@H](C)[C@@H](CN(C)CC2CCCCC2)OCCCC[C@H](C)Oc3ccc(NC(=O)c4ccncc4)cc3C1=O',\n",
       " 'COC(=O)[C@@H]1[C@@H](CO)[C@@H]2Cn3c(ccc(-c4ccccc4F)c3=O)[C@H]1N2CC1CCCC1',\n",
       " 'COCC(=O)N[C@H]1C=C[C@H](O[C@H]1CO)CC(=O)NCc1ccc(Cl)cc1',\n",
       " 'CN1CCN2[C@@H](C1)c3ccccc3Cc4cccnc24',\n",
       " 'CC(C)c1ccccc1S(=O)(=O)c1cc(N)c2ncccc2c1[N+]([O-])=O',\n",
       " 'CN1[C@@H]2CC[C@@H](CC(=O)NCC3CC3)O[C@@H]2COc2ccc(NC(=O)NC3CCCC3)cc2C1=O',\n",
       " 'C[C@@H](CO)N1C[C@@H](C)[C@@H](CN(C)C(=O)c2ccccc2)OCc3cn(CCCC1=O)nn3',\n",
       " 'CCCC(=O)Nc1ccc2OC[C@@H](C)N(Cc3nccs3)C[C@@H](C)[C@@H](CN(C)C(=O)c2c1)OC',\n",
       " 'C[C@@H](CO)N1C[C@@H](C)[C@@H](CN(C)Cc2ccc(Oc3ccccc3)cc2)Oc4cc(ccc4S1(=O)=O)c5ccncc5',\n",
       " 'C[C@H](CO)N1C[C@H](C)[C@@H](CN(C)Cc2cccnc2)OCc3ccccc3-c4c(C1=O)n(C)c5ccccc45',\n",
       " 'C[C@H](CO)N1C[C@H](C)[C@H](CN(C)Cc2ccc(cc2)C(=O)O)Oc3ccc(NC(=O)C4CC4)cc3C1=O',\n",
       " 'CCS(=O)(=O)Nc1ccc2OC[C@@H]3O[C@H](CC(=O)N4CCN(C)CC4)CC[C@H]3N(C)C(=O)c2c1',\n",
       " 'CC1(C)N[C@@H](Cc2c1[nH]c1ccccc21)C(O)=O',\n",
       " 'COc1ccc(OC)c(NC(=O)c2ccc(CSc3ncnc4[nH]cnc34)cc2)c1',\n",
       " 'OC[C@H]1[C@H]([C@H](C#N)N1C(=O)C1CCCC1)c1ccccc1',\n",
       " 'COc1ccccc1c2csc3ncnc(Sc4nnnn4C)c23',\n",
       " 'O=C(N1CCc2ccccc2C1)C1=CC=CN2CCS(=O)(=O)N=C12',\n",
       " 'OC1(NC(=O)c2ccccc2O1)c3ccccc3',\n",
       " 'C[C@H](CO)N1C[C@@H](C)[C@@H](CN(C)Cc2ccc3OCOc3c2)OCCCC[C@H](C)Oc4ccc(NS(=O)(=O)c5c(C)noc5C)cc4C1=O',\n",
       " 'C[C@@H](CO)N1C[C@H](C)[C@H](CN(C)C(=O)Nc2ccc(cc2)C(F)(F)F)Oc3ccc(NC(=O)NC4CCCCC4)cc3C1=O',\n",
       " 'OC[C@@H]1O[C@H](CCNS(=O)(=O)c2ccccc2Cl)CC[C@H]1NC(=O)Cc1cccnc1',\n",
       " 'CN(C)CC#Cc1ccc(cc1)[C@@H]1[C@@H](CO)N2[C@@H]1CN(CC2=O)C(=O)CN(C)C',\n",
       " 'CO[C@H]1CN(C)C(=O)c2cc(NS(=O)(=O)c3cccc(F)c3)ccc2OC[C@@H](C)NC[C@H]1C',\n",
       " 'C[C@@H](CO)N1C[C@H](C)[C@H](CN(C)C(=O)c2ccc(cc2)N3CCN(C)CC3)OCc4cn(CCCC1=O)nn4',\n",
       " 'COc1ccc2c3c([C@H](CO)N(Cc4cccnc4)C[C@]33CN(C3)C(=O)c3cccnc3)n(C)c2c1',\n",
       " 'C[C@@H](CO)N1C[C@H](C)[C@@H](CN(C)Cc2ccc(cc2)C(F)(F)F)OCCCC[C@H](C)Oc3ccc(NS(=O)(=O)c4c(C)noc4C)cc3C1=O',\n",
       " 'CC(C)NC(=O)N1[C@H](CO)[C@H]([C@H]1C#N)c1ccc(cc1)-c1ccc(F)cc1',\n",
       " 'O=C1CCCn2cc(COC[C@H](Cc3ccccc3)N1)nn2',\n",
       " 'OC1c2ccccc2CCC\\\\C1=C/C(O)=O',\n",
       " 'O[C@H]1COC[C@@H]2O[C@H](CC(=O)NCc3ccccc3)CC[C@H]2N(Cc2cccc(c2)C(F)(F)F)C1',\n",
       " 'CC1(C)[C@H](CC[C@@]2(C)C1CC[C@]1(C)C2C(=O)C=C2[C@@H]3C[C@](C)(CC[C@]3(C)CC[C@@]12C)C(O)=O)OC(=O)CCC(O)=O',\n",
       " 'CN1CCN(CC1)C(=O)C[C@H]2C[C@H]3[C@H](Oc4ccc(NC(=O)c5ccc6OCOc6c5)cc34)[C@H](CO)O2',\n",
       " 'CO[C@H](CN(C)S(=O)(=O)c1cn(C)cn1)[C@@H](C)CN([C@H](C)CO)C(=O)Nc1ccc(cc1)C(F)(F)F',\n",
       " 'OC[C@@H]1O[C@H](CC(=O)NCCc2ccccc2)C[C@@H]3[C@H]1Oc4ccc(NC(=O)Nc5ccc(cc5)C(F)(F)F)cc34',\n",
       " 'C[C@@H](CO)N1C[C@@H](C)[C@@H](CN(C)Cc2ccc(cc2)C(F)(F)F)Oc3ccc(NC(=O)Nc4c(C)noc4C)cc3C1=O',\n",
       " 'C[C@@]12C[C@H](O)[C@H]3[C@@H](CCC4=CC(=O)CC[C@]34C)[C@@H]2CC[C@]1(O)C(=O)COC(=O)CCC(=O)O',\n",
       " 'CN1C[C@@]2(C=C)C3CC4OC[C@@H]3[C@@H]1[C@H]2[C@@]45C(=O)Nc6ccccc65',\n",
       " 'C[C@H](CO)N1C[C@@H](C)[C@@H](CN(C)C(=O)Oc2ccc(C)cc2)OCc3cn(CCCC1=O)nn3',\n",
       " 'Cc1nccn1CC1CCc2c(C1=O)c1ccccc1n2C',\n",
       " 'COc1ccccc1CNC(=O)C[C@H]2C[C@H]3[C@H](Oc4ccc(NC(=O)CN(C)C)cc34)[C@@H](CO)O2',\n",
       " 'COc1ccc2c3c([C@H](CO)NC[C@]33CCN(Cc4ccc(Cl)cc4)CC3)n(C)c2c1',\n",
       " 'C[C@@H](CO)N1C[C@@H](C)[C@@H](CN(C)S(=O)(=O)c2ccccc2F)OCc3cn(CCCC1=O)nn3',\n",
       " 'CS(=O)(=O)N1[C@@H]([C@@H](CO)[C@@H]2Cn3c(ccc(-c4ccc(F)cc4)c3=O)[C@H]12)C(O)=O',\n",
       " 'Fc1ccc(cc1)C(=O)OCC#CCSc2nnc(o2)c3cccc4ccccc34',\n",
       " 'OC[C@@H]1O[C@@H](CC(=O)NCCN2CCCCC2)C[C@H]3[C@@H]1Oc4ccc(NC(=O)c5ccc6OCOc6c5)cc34',\n",
       " 'CCS(=O)(=O)Nc1ccc2OC[C@H]3O[C@H](CC(=O)N[C@@H]4CCN(Cc5ccccc5)C4)CC[C@H]3N(C)C(=O)c2c1',\n",
       " 'O=C(Nc1n[nH]c2cc(ccc12)-c1cccc(c1)C(=O)NC1CC1)C1CC1',\n",
       " 'C[C@H](CO)N1C[C@@H](C)[C@H](CN(C)C(=O)CN2CCOCC2)Oc3ncc(cc3C1=O)c4ccncc4',\n",
       " 'CC(C)(C)[S@@](=O)N1Cc2cc(nc(c2[C@H]1CCO)-c1cccc(Br)c1)C(=O)NC1CCCCC1',\n",
       " 'CC(=O)[C@H]1[C@@H](C[C@H]2[C@@H]3CC=C4C[C@@H](O)CC[C@]4(C)[C@H]3CC[C@]12C)C#N',\n",
       " 'COc1ccc2n(C(=O)c3ccc(Cl)cc3)c(C)c(CC(=O)O)c2c1',\n",
       " 'Cc1cc(nc2ccc(NC(=O)C3CCCCC3)cc12)N1CCOCC1',\n",
       " 'CC(C)C1CCC(C)C(C(O)c2ccc(cc2)c3ccccc3)C1=O',\n",
       " 'CC(C)(C(N)=N)\\\\N=N\\\\C(C)(C)C(N)=N',\n",
       " 'CN1CCN(CC1)C(=O)C[C@H]2C[C@H]3[C@H](Oc4ccc(NC(=O)C5CCC5)cc34)[C@@H](CO)O2',\n",
       " 'CN(C)C(=O)C[C@H]1C[C@H]2[C@H](Oc3ccc(NC(=O)Nc4ccc(F)cc4)cc23)[C@H](CO)O1',\n",
       " 'CCNC(=O)C[C@@H]1CC[C@H]2[C@@H](COc3ccc(NC(C)=O)cc3C(=O)N2C)O1',\n",
       " 'CCCNC(=O)Nc1ccc2OC[C@@H](C)N(C[C@@H](C)[C@@H](CN(C)C(=O)c2c1)OC)C(=O)c1ccccc1F',\n",
       " 'CO[C@@H](CN(C)Cc1nccs1)[C@H](C)CN([C@@H](C)CO)S(=O)(=O)c1ccc(F)cc1',\n",
       " 'COc1ccccc1S(=O)(=O)N[C@H]1CC[C@@H](CC(=O)NCc2cccc(F)c2)O[C@@H]1CO',\n",
       " 'CCC(=O)OCC(=O)[C@@]1(OC(=O)CC)[C@@H](C)C[C@H]2[C@H]3CCC4=CC(=O)C=C[C@]4(C)[C@@]3(Cl)[C@@H](O)C[C@]12C',\n",
       " 'CN1CCN(CC1)C(=O)C[C@H]2C[C@@H]3[C@@H](Oc4ccc(NS(=O)(=O)C)cc34)[C@@H](CO)O2',\n",
       " 'OC[C@H]1[C@@H]([C@H](CNCC2CCC2)N1C(=O)Cc1cccnc1)c1ccccc1',\n",
       " 'CCC(=O)Nc1ccc2OC[C@@H](C)N(C[C@@H](C)[C@H](CN(C)C(=O)c2c1)OC)C(=O)CC',\n",
       " 'OC[C@H]1O[C@@H](CC(=O)NCc2ccc3OCOc3c2)C[C@H]4[C@@H]1Oc5ccc(NC(=O)Nc6ccc(cc6)C(F)(F)F)cc45',\n",
       " 'C[C@@H](CO)N1C[C@H](C)[C@H](CN(C)Cc2cccc(C)c2)OCc3cn(CCCC1=O)nn3',\n",
       " 'CC(C)NC(=O)N(C)C[C@H]1OCCCC[C@@H](C)Oc2ccc(NS(=O)(=O)c3cn(C)cn3)cc2C(=O)N(C[C@@H]1C)[C@H](C)CO',\n",
       " 'Nc1nc2n(COCCO)cnc2c(=O)[nH]1',\n",
       " 'COc1cc2CCN3C[C@H](CC(C)C)C(=O)C[C@H]3c2cc1OC',\n",
       " 'C[C@@H](CO)N1C[C@@H](C)[C@H](CN(C)C(=O)c2ccccc2)OCCCC[C@H](C)Oc3ccc(NC(=O)c4ccccc4)cc3C1=O',\n",
       " 'OC[C@H]1[C@@H]([C@H](C#N)N1C(=O)C1CCCC1)c1ccccc1',\n",
       " 'CCCNC(=O)N1C[C@H](C)[C@@H](CN(C)C(=O)c2ccc(NS(=O)(=O)CC(F)(F)F)cc2OC[C@H]1C)OC',\n",
       " '[O-][N+](=O)c1ccc2c(Cl)c(sc2c1)C(=O)NCCCn1ccnc1',\n",
       " 'C[C@@H](CO)N1C[C@H](C)[C@@H](CN(C)S(=O)(=O)c2ccccc2F)Oc3ncc(C#Cc4cccnc4)cc3C1=O',\n",
       " 'OC[C@@H]1[C@H]2Cn3c(=O)c(\\\\C=C\\\\c4ccccc4)ccc3[C@H]2N(Cc2ccc3OCOc3c2)[C@H]1C(O)=O',\n",
       " 'CCNC(=O)[C@H]1[C@H](CO)[C@H]2Cn3c(cccc3=O)[C@H]2N1CC1CCCCC1',\n",
       " 'Cc1ccc(C[N+](C)(C)C)o1',\n",
       " 'COc1cccc(CNc2ncnc3ccc(cc23)c4c(C)noc4C)c1',\n",
       " 'C[C@@H](CO)N1C[C@@H](C)[C@H](CN(C)Cc2ccc3OCCOc3c2)OCc4cn(CCCC1=O)nn4',\n",
       " 'CO[C@H](CN(C)C(=O)c1ccc2OCOc2c1)[C@H](C)CN([C@H](C)CO)S(=O)(=O)c1ccc(F)cc1',\n",
       " 'C[C@H](CO)N1C[C@@H](C)[C@@H](CN(C)C(=O)c2cnccn2)Oc3ncc(C#CCN(C)C)cc3C1=O',\n",
       " 'COc1ccc(cc1)C(=O)N1C[C@H]2[C@H]([C@H](CO)N2C(=O)NC(C)C)c2ccccc12',\n",
       " 'C(Nc1ncnc2ccc(cc12)c3cccnc3)c4cccnc4',\n",
       " 'Cc1ccccc1OCC(O)CO',\n",
       " 'CCCC#Cc1cnc2O[C@H](CN(C)C(=O)CCN3CCCCC3)[C@@H](C)CN([C@@H](C)CO)C(=O)c2c1',\n",
       " 'CC(C)[C@H](C)NC(=O)N(C)C[C@@H]1OCc2ccccc2-c3ccccc3C(=O)N(C[C@H]1C)[C@H](C)CO',\n",
       " 'Clc1ccc(NC(=O)Nc2nnc(s2)c3ccncc3)cc1Cl',\n",
       " 'COc1ccc2[C@@H](OC(=O)c2c1OC)[C@H]1N(C)CCc2cc3OCOc3c(OC)c12',\n",
       " 'CO[C@@H]1CN(C)C(=O)c2cc(NS(C)(=O)=O)ccc2OC[C@H](C)N(C[C@H]1C)C(=O)C1CCOCC1',\n",
       " 'CCCc1nc(c(C(O)=O)n1Cc1ccc(cc1)-c1ccccc1-c1nn[nH]n1)C(C)(C)O',\n",
       " 'COCC(=O)N[C@@H]1C=C[C@H](O[C@@H]1CO)CC(=O)NCc1ccc(Cl)cc1',\n",
       " 'OC[C@@H]1O[C@@H](CC(=O)N2CCCCC2)C[C@@H]3[C@H]1Oc4ccc(NC(=O)NC5CCCC5)cc34',\n",
       " 'O[C@H]1CN[C@H]2CC[C@@H](CC(=O)NCc3ccc4OCOc4c3)O[C@@H]2COC1',\n",
       " 'COCC(=O)Nc1ccc2c(OC[C@@H](C)N(C[C@@H](C)[C@@H](CN(C)C2=O)OC)C(=O)CN2CCOCC2)c1',\n",
       " 'COc1cccc(c1)-c1ccc2N[C@H](CO)[C@H]3CCN([C@H]3c2c1)S(=O)(=O)c1cn(C)cn1',\n",
       " 'COc1cccc(NC(=O)N2CC3(C2)[C@H]([C@H](CO)N3C(C)=O)c2ccccc2)c1',\n",
       " 'CCCNC(=O)Nc1ccc2OC[C@H](C)N(C[C@H](C)[C@@H](CN(C)C(=O)c2c1)OC)C(=O)c1ccccc1F',\n",
       " 'COc1ccc(cc1)C(c2ccc(OC)cc2)C(Cl)(Cl)Cl',\n",
       " 'CN(C)C(=O)c1cccc(c1)-c1ccc2N[C@H](CO)[C@H]3CCN(Cc4nccs4)[C@H]3c2c1',\n",
       " 'COc1cccc(CN2[C@@H](CO)[C@@H](c3ccccc3)C22CN(C2)C(=O)C2CCCCC2)c1',\n",
       " 'C[C@H](CO)N1C[C@H](C)[C@@H](CN(C)Cc2ccc(cc2)c3ccccc3)Oc4ccc(NS(=O)(=O)C)cc4CC1=O',\n",
       " 'OC[C@@H]1[C@H]([C@H]2CN(CC(=O)N12)C(=O)C1CCC1)c1ccc(Br)cc1',\n",
       " 'CC1(C)C(=O)NN=C1c1ccc(cc1)N1CCOCC1',\n",
       " 'OC[C@@H]1[C@H]2Cn3c(cccc3=O)[C@@H]([C@H]1C(=O)N1CCOCC1)N2Cc1cccc(Cl)c1',\n",
       " 'Cc1ccc(OCCn2c(CCNC(=O)C3CCCCCC3)nc3ccccc23)cc1',\n",
       " 'N[C@@H]1CC[C@H](CCn2cc(nn2)-c2ccccn2)O[C@H]1CO',\n",
       " 'COc1ccccc1N1CCN(CCCNc2cc(=O)n(C)c(=O)n2C)CC1',\n",
       " 'CN(C)CC(=O)Nc1ccc2O[C@@H]3[C@@H](C[C@@H](CC(=O)NC4CCCCC4)O[C@H]3CO)c2c1',\n",
       " 'COCC(=O)N1[C@H](CO)[C@H]([C@@H]1C#N)c1ccc(cc1)C#CCC1CCCC1',\n",
       " 'CCCNC(=O)[C@H]1[C@H](CO)[C@H]2Cn3c(ccc(-c4ccccc4F)c3=O)[C@H]2N1CC1CC1',\n",
       " 'OC[C@H]1[C@@H]([C@@H]2CN(CC(=O)N12)C(=O)Nc1ccc(F)cc1)c1ccc(cc1)-c1cccc(F)c1',\n",
       " 'C[C@H](CO)N1C[C@@H](C)[C@H](CN(C)CC2CCCCC2)Oc3ccc(NC(=O)Nc4ccc(F)cc4)cc3CC1=O',\n",
       " 'COCC(=O)Nc1ccc2O[C@@H]3[C@@H](C[C@@H](CC(=O)NCc4cccnc4)O[C@H]3CO)c2c1',\n",
       " 'C[C@@H](CO)N1C[C@H](C)[C@H](CN(C)Cc2ccncc2)Oc3ccc(NC(=O)Cc4cn(C)c5ccccc45)cc3C1=O',\n",
       " 'N[C@H]1C[C@@H]1c1ccccc1',\n",
       " 'COCC(=O)Nc1ccc2O[C@H]3[C@H](C[C@@H](CC(=O)NCc4ccc5OCOc5c4)O[C@H]3CO)c2c1',\n",
       " 'CCC(=O)O[C@@]1([C@@H](C)C[C@H]2[C@@H]3CCC4=CC(=O)C=C[C@]4(C)[C@@]3(F)[C@@H](O)C[C@@]21C)C(=O)CCl',\n",
       " 'C[C@@H](CO)N1C[C@@H](C)[C@H](CN(C)CC2CC2)OCCCC[C@@H](C)Oc3ccc(NC(=O)c4ccccc4)cc3C1=O',\n",
       " 'OC[C@H]1[C@@H]([C@@H]2CN(CC(=O)N12)C(=O)Cc1ccncc1)c1ccc(Br)cc1',\n",
       " 'CC(C)C(=O)SCCCCCCC(=O)Nc1nc(cs1)-c1ccccc1',\n",
       " 'C[C@H](CO)N1C[C@H](C)[C@@H](CN(C)C(=O)Nc2ccc3OCOc3c2)OCc4ccccc4-c5c(C1=O)n(C)c6ccccc56',\n",
       " 'CCS(=O)(=O)N1[C@H](CO)[C@@H]([C@@H]1C#N)c1ccc(cc1)-c1cccc(F)c1',\n",
       " 'COc1cc(CC(C)(N)C(O)=O)ccc1OS(O)(=O)=O',\n",
       " 'OC[C@@H]1O[C@H](CC(=O)N2CCc3ccccc3C2)C[C@H]4[C@@H]1Oc5ccc(NC(=O)C6CCOCC6)cc45',\n",
       " 'COc1cc2nccc(Oc3ccc(NC(=O)Nc4ccc(F)cc4F)c(F)c3)c2cc1OC',\n",
       " 'COc1ccccc1-c1cccc(c1)-c1nc(cc2CN([C@@H](CCO)c12)[S@@](=O)C(C)(C)C)C(=O)N1CCOCC1',\n",
       " 'OC[C@H]1[C@@H]2Cn3c(ccc(-c4ccccc4F)c3=O)[C@H]([C@@H]1C(O)=O)N2C(=O)c1cccnc1',\n",
       " 'CCC(=O)N1CC[C@@H]2[C@H]1c1cc(ccc1N(C)[C@H]2CO)C#Cc1cccc(F)c1',\n",
       " 'C[C@H](Cc1ccccc1)N(C)CC#C',\n",
       " 'OC[C@@H]1[C@@H]([C@H]2CN(CC(=O)N12)C(=O)Nc1ccc(F)cc1)c1ccc(cc1)C1=CCCC1',\n",
       " 'COCC(=O)N1C[C@@H]2[C@@H]([C@@H](CO)N2C(=O)C1)c1ccc(cc1)-c1ccncc1',\n",
       " 'Cc1cc(NC(=O)CS(=O)(=O)c2cn(Cc3cccc(Cl)c3)c3ccccc23)no1',\n",
       " 'C[C@H]1C[C@H]2[C@@H]3CC[C@](OC(=O)C)(C(=O)C)[C@@]3(C)CC[C@@H]2[C@@]4(C)CCC(=O)C=C14',\n",
       " 'CC(C)(C)C(=O)OCOC(=O)[C@@H]1N2[C@@H](SC1(C)C)[C@H](NC(=O)[C@H](N)c1ccccc1)C2=O',\n",
       " 'CO[C@H]1CC[C@@H]2CCOc3c(cccc3C(=O)N(C)CCCC(=O)N(C)C[C@H]1O2)C#N',\n",
       " 'OC[C@H]1[C@H]([C@H](CNC(=O)c2ccccn2)N1Cc1cccnc1)c1ccccc1',\n",
       " 'Oc1ccc(/C=C(\\\\C#N)/C(=O)NC2CCC(CC3CCC(CC3)NC(=O)\\\\C(=C\\\\c4ccc(O)c(O)c4)\\\\C#N)CC2)cc1O',\n",
       " 'COCC(=O)N1C[C@H]2[C@H]([C@H](CO)N2C(=O)C1)c1ccc(cc1)C#CC1CC1',\n",
       " 'C[C@H](CO)N1C[C@@H](C)[C@@H](CN(C)Cc2ccncc2)OCCCC[C@@H](C)Oc3ccc(NC(=O)Nc4ccccc4)cc3C1=O',\n",
       " 'NC(=O)N1C(=O)C2C(C3C(C4CC4)N(Cc5sc6ccccc6c5Cl)C2C=C3c7ccc(CO)cc7)C1=O',\n",
       " 'CCCCCCC(C)(C)c1ccc(C2CC(O)CCC2CCCO)c(O)c1',\n",
       " 'CCCNC(=O)N(C)C[C@@H]1Oc2ncc(Br)cc2C(=O)N(C[C@@H]1C)[C@H](C)CO',\n",
       " 'CO[C@@H]1CN(C)C(=O)c2ccc(NC(C)=O)cc2OC[C@@H](C)N(Cc2ccccc2F)C[C@@H]1C',\n",
       " 'CCS(=O)(=O)N1C[C@@]2(C1)CN([C@@H](CO)c1c2c2ccc(OC)cc2n1C)C(=O)NC(C)C',\n",
       " 'CCCN1C[C@@H](C)[C@H](CN(C)C(=O)c2cc(NC(=O)c3cnccn3)ccc2OC[C@@H]1C)OC',\n",
       " 'C\\\\C=C\\\\c1ccc(cc1)[C@@H]1[C@H](CO)N2[C@@H]1CN(CC2=O)C(=O)Nc1ccc(F)cc1',\n",
       " 'CCCC#Cc1cnc2O[C@H](CN(C)C(=O)CCN3CCCCC3)[C@@H](C)CN([C@H](C)CO)C(=O)c2c1',\n",
       " 'C[C@@H](CO)N1C[C@H](C)[C@H](CN(C)Cc2ccc(cc2)C(F)(F)F)Oc3ccc(NC(=O)Nc4c(C)noc4C)cc3C1=O',\n",
       " 'COc1ccc(cc1)[Si](C)(C)[C@@H]2[C@@H](C)[C@@]3(O[C@H]2CCn4cc(CCO)nn4)C(=O)N(C)c5c3cc(C)cc5Br',\n",
       " 'COCC(=O)Nc1ccc2O[C@@H]3[C@@H](C[C@H](CC(=O)N[C@@H](C)c4ccccc4)O[C@@H]3CO)c2c1',\n",
       " 'NCCc1csc2ccc(O)cc12',\n",
       " 'CCCN1C[C@H](C)[C@H](CN(C)C(=O)c2cc(NC(=O)c3cnccn3)ccc2OC[C@H]1C)OC',\n",
       " 'OC(=O)c1ccccc1Nc1cccc2C(=O)c3c(Nc4ccccc4C(O)=O)cccc3C(=O)c12',\n",
       " 'CO[C@H]1CN(C)C(=O)c2ccc(NC(=O)C3CCCC3)cc2OC[C@@H](C)N(C[C@H]1C)C(=O)CC1CC1',\n",
       " 'OC[C@H]1[C@@H]([C@H]2CN(CC(=O)N12)C(=O)Nc1ccc(F)cc1)c1ccc(cc1)-c1cccc(F)c1',\n",
       " 'C[C@H](CO)N1C[C@@H](C)[C@H](CN(C)S(=O)(=O)c2cccc(C#N)c2)OCc3ccccc3-c4c(C1=O)n(C)c5ccccc45',\n",
       " 'C[C@@H](CO)N1C[C@H](C)[C@@H](CN(C)C(=O)NC2CCCCC2)Oc3ccc(cc3C1=O)N(C)C',\n",
       " 'C[C@H]1[C@H]2[C@@H](CC1=O)C(=C)C[C@@H](OC(=O)/C(=C/CO)/COC(=O)/C(=C/CO)/C)C3[C@@H]2OC(=O)C3=C',\n",
       " 'C[C@H](CO)N1C[C@H](C)[C@H](CN(C)Cc2ccncc2)Oc3ccc(NC(=O)Nc4cccc5ccccc45)cc3C1=O',\n",
       " 'COCC(=O)N1C[C@H](C)[C@H](CN(C)C(=O)c2ccc(NS(C)(=O)=O)cc2OC[C@@H]1C)OC',\n",
       " 'C/C=C/c1ccc2c(O[C@@H](CN(C)CC3CCOCC3)[C@@H](C)CN([C@H](C)CO)S2(=O)=O)c1',\n",
       " 'CC(C)C#Cc1ccc(cc1)[C@H]1[C@@H](CO)N([C@H]1C#N)C(=O)c1cccc(F)c1',\n",
       " 'C[C@H](CO)N1C[C@@H](C)[C@H](CN(C)CC2CCCCC2)OCCCC[C@@H](C)Oc3ccc(NS(=O)(=O)C)cc3C1=O',\n",
       " 'OC[C@@H]1O[C@H](CC(=O)NCc2ccc(Oc3ccccc3)cc2)C[C@@H]4[C@H]1Oc5ccc(NS(=O)(=O)c6ccc(F)cc6)cc45',\n",
       " 'OC[C@@H]1O[C@H](CC(=O)NCCN2CCCC2)CC[C@H]1NC(=O)c1cccc(F)c1',\n",
       " 'CO[C@H](CN(C)S(=O)(=O)c1ccccc1)[C@@H](C)CN(Cc1ccccc1Cl)[C@H](C)CO',\n",
       " 'CCCNC(=O)C[C@H]1C[C@@H]2[C@@H](Oc3ccc(NC(=O)NC4CCCCC4)cc23)[C@@H](CO)O1',\n",
       " 'OC[C@H]1[C@@H]2[C@@H](CN(C(=O)c3ccccc3)c3ccccc23)N1C(=O)Nc1ccccc1Cl',\n",
       " 'CCCCn1c(O)c(N=Nc2ccccc2O)c3ccccc13',\n",
       " 'CO[C@H]1CC[C@@H]2CCOc3ccc(cc3C(=O)N(C)C[C@@H](CC(=O)N(C)C[C@@H]1O2)c1ccccc1)C#N',\n",
       " 'CC(C)C#Cc1ccc(cc1)[C@H]1[C@@H](CO)N2[C@@H]1CN(CC2=O)C(=O)c1ccc2OCOc2c1',\n",
       " 'CCC(=O)N(C)C[C@H]1[C@H]([C@@H](CO)N1C(=O)NC(C)C)c1ccc(cc1)\\\\C=C\\\\C',\n",
       " 'Cc1ccc(cc1)S(=O)(=O)NCC[C@H]1CC[C@@H](NC(=O)CC2CC2)[C@H](CO)O1',\n",
       " 'COC(=O)C[C@@H]1CC[C@@H]2[C@H](COC[C@H](O)CN2S(=O)(=O)c2ccccc2OC)O1',\n",
       " 'C[C@H](CO)N1C[C@@H](C)[C@@H](CN(C)C(=O)Nc2ccc(cc2)C(F)(F)F)Oc3ccc(cc3CC1=O)N(C)C',\n",
       " 'CN(C)C(=O)c1ccc(cc1)-c1ccc(cc1)[C@H]1[C@H]2CN(C[C@@H]1N2)C(=O)C1CCC1',\n",
       " 'CCCNC(=O)N1C[C@@H](O)COC[C@H]2O[C@H](CC(=O)N[C@H]3CCN(Cc4ccccc4)C3)CC[C@H]12',\n",
       " 'CN1Cc2c(ncn2-c2ccsc2C1=O)C(=O)OC(C)(C)C',\n",
       " 'CO[C@H]1CN(C)C(=O)c2cc(NC(=O)c3cccc(F)c3)ccc2OC[C@H](C)N(C)C[C@H]1C',\n",
       " 'OC[C@@H]1O[C@@H](CCNS(=O)(=O)Cc2ccccc2)CC[C@H]1NC(=O)c1cnccn1',\n",
       " 'Cc1ccccc1S(=O)(=O)NCC[C@H]1CC[C@H](NS(=O)(=O)c2ccccc2C)[C@H](CO)O1',\n",
       " 'COc1ccc(cc1)S(=O)(=O)N(C)C[C@@H]2OCc3cn(CCCC(=O)N(C[C@@H]2C)[C@H](C)CO)nn3',\n",
       " 'CC(C)NC(=O)N1CC[C@@H]2[C@H]1c1cc(Br)ccc1N(C)[C@@H]2CO',\n",
       " 'CO[C@@H]1CN(C)C(=O)c2cc(NC(=O)NC3CCCCC3)ccc2OC[C@H](C)N(CCc2ccccc2)C[C@@H]1C',\n",
       " 'CCN(C[C@H]1[C@H]([C@@H](CO)N1C(=O)CC)c1ccccc1)C(=O)c1cccc(F)c1',\n",
       " 'Oc1ccccc1N1CC=C(NC1=O)c1cccc(c1)[N+]([O-])=O',\n",
       " 'COC(=O)C[C@@H]1CC[C@H]2[C@H](COc3ccc(NC(=O)Nc4cc(C)cc(C)c4)cc3C(=O)N2C)O1',\n",
       " 'CN(C)CCCN1c2ccc(O)cc2Sc2ccc(Cl)cc12',\n",
       " 'CN\\\\C(NCCSCc1ccc(CN(C)C)o1)=C/[N+]([O-])=O',\n",
       " 'CC(C)N(C[C@@H]1[C@H]([C@H](CO)N1S(C)(=O)=O)c1ccccc1)C(=O)CN(C)C',\n",
       " 'C[C@@H](CO)N1C[C@H](C)[C@H](CN(C)C(=O)CCN(C)C)OCc2ccccc2-c3c(C1=O)n(C)c4ccccc34',\n",
       " 'CC(=O)N1[C@H](CO)[C@@H](c2ccccc2)C11CN(C1)S(=O)(=O)c1ccccc1',\n",
       " 'CCCCC(=O)O[C@H]1CCC2C3CCc4cc(O)ccc4C3CC[C@]12C',\n",
       " 'OC[C@H]1N[C@H](C#N)[C@@H]1c1ccc(cc1)-c1cccc(F)c1',\n",
       " 'CCOC(=O)C1=C(C)N=c2s\\\\c(=C\\\\c3cc(Cl)c(OCC(O)=O)c(OC)c3)c(=O)n2C1c1ccccc1Cl',\n",
       " 'OC(=O)c1cc(ccc1O)\\\\N=N\\\\c1ccc(cc1)S(=O)(=O)Nc1ccccn1',\n",
       " 'CO[C@H]1CC[C@@H]2CCOc3c(cccc3C(=O)N(C)C[C@@H](C)C(=O)N(C)C[C@@H]1O2)C#N',\n",
       " 'OC[C@H]1O[C@@H](CC(=O)NC2CCCCC2)C[C@H]3[C@@H]1Oc4ccc(NS(=O)(=O)c5ccc(F)cc5)cc34',\n",
       " 'C[C@@H](CO)N1C[C@H](C)[C@H](CN(C)C(=O)[C@@H](Cc2ccccc2)N(C)C)OCc3ccccc3-c4ccccc4C1=O',\n",
       " 'Cl[Pt]Cl',\n",
       " 'C[C@@H](CO)N1C[C@@H](C)[C@@H](CN(C)Cc2ccncc2)OCCCC[C@H](C)Oc3ccc(NC(=O)Nc4ccccc4)cc3C1=O',\n",
       " 'COc1ccc2Nc3cc(Cl)ccc3Sc2c1',\n",
       " 'C[C@H](CO)N1C[C@H](C)[C@@H](CN(C)C(=O)Nc2ccccc2)Oc3c(NC(=O)Nc4ccc(cc4)C(F)(F)F)cccc3C1=O',\n",
       " 'CC(C)c1cc(/C=C(\\\\C#N)/C(=O)NCCCc2ccccc2)cc(C(C)C)c1O',\n",
       " 'CCCNC(=O)Nc1ccc2OC[C@H](C)N(C[C@@H](C)[C@@H](CN(C)C(=O)c2c1)OC)C(=O)c1ccccc1F',\n",
       " ...}"
      ]
     },
     "execution_count": 72,
     "metadata": {},
     "output_type": "execute_result"
    }
   ],
   "source": [
    "a"
   ]
  },
  {
   "cell_type": "code",
   "execution_count": 73,
   "metadata": {},
   "outputs": [],
   "source": [
    "indicesWithOnehot = [i for i in range(metadata.shape[0]) if list_canonSmiles[i] in a]\n"
   ]
  },
  {
   "cell_type": "code",
   "execution_count": 75,
   "metadata": {},
   "outputs": [
    {
     "data": {
      "text/plain": [
       "677163"
      ]
     },
     "execution_count": 75,
     "metadata": {},
     "output_type": "execute_result"
    }
   ],
   "source": [
    "len(indicesWithOnehot)"
   ]
  },
  {
   "cell_type": "code",
   "execution_count": null,
   "metadata": {},
   "outputs": [],
   "source": []
  },
  {
   "cell_type": "code",
   "execution_count": null,
   "metadata": {},
   "outputs": [],
   "source": []
  },
  {
   "cell_type": "code",
   "execution_count": null,
   "metadata": {},
   "outputs": [],
   "source": []
  },
  {
   "cell_type": "code",
   "execution_count": 76,
   "metadata": {},
   "outputs": [
    {
     "data": {
      "text/html": [
       "<div>\n",
       "<style scoped>\n",
       "    .dataframe tbody tr th:only-of-type {\n",
       "        vertical-align: middle;\n",
       "    }\n",
       "\n",
       "    .dataframe tbody tr th {\n",
       "        vertical-align: top;\n",
       "    }\n",
       "\n",
       "    .dataframe thead th {\n",
       "        text-align: right;\n",
       "    }\n",
       "</style>\n",
       "<table border=\"1\" class=\"dataframe\">\n",
       "  <thead>\n",
       "    <tr style=\"text-align: right;\">\n",
       "      <th></th>\n",
       "      <th>Token</th>\n",
       "      <th>Number</th>\n",
       "      <th>Percentage</th>\n",
       "    </tr>\n",
       "  </thead>\n",
       "  <tbody>\n",
       "    <tr>\n",
       "      <th>0</th>\n",
       "      <td>m</td>\n",
       "      <td>6</td>\n",
       "      <td>0.00</td>\n",
       "    </tr>\n",
       "    <tr>\n",
       "      <th>1</th>\n",
       "      <td>h</td>\n",
       "      <td>25</td>\n",
       "      <td>0.00</td>\n",
       "    </tr>\n",
       "    <tr>\n",
       "      <th>2</th>\n",
       "      <td>E</td>\n",
       "      <td>6</td>\n",
       "      <td>0.00</td>\n",
       "    </tr>\n",
       "    <tr>\n",
       "      <th>3</th>\n",
       "      <td>b</td>\n",
       "      <td>643</td>\n",
       "      <td>0.01</td>\n",
       "    </tr>\n",
       "    <tr>\n",
       "      <th>4</th>\n",
       "      <td>D</td>\n",
       "      <td>1</td>\n",
       "      <td>0.00</td>\n",
       "    </tr>\n",
       "    <tr>\n",
       "      <th>5</th>\n",
       "      <td>y</td>\n",
       "      <td>1</td>\n",
       "      <td>0.00</td>\n",
       "    </tr>\n",
       "    <tr>\n",
       "      <th>6</th>\n",
       "      <td>R</td>\n",
       "      <td>143</td>\n",
       "      <td>0.00</td>\n",
       "    </tr>\n",
       "    <tr>\n",
       "      <th>7</th>\n",
       "      <td>%</td>\n",
       "      <td>1398</td>\n",
       "      <td>0.01</td>\n",
       "    </tr>\n",
       "    <tr>\n",
       "      <th>8</th>\n",
       "      <td>Y</td>\n",
       "      <td>12</td>\n",
       "      <td>0.00</td>\n",
       "    </tr>\n",
       "    <tr>\n",
       "      <th>9</th>\n",
       "      <td>T</td>\n",
       "      <td>1136</td>\n",
       "      <td>0.01</td>\n",
       "    </tr>\n",
       "    <tr>\n",
       "      <th>10</th>\n",
       "      <td>Z</td>\n",
       "      <td>60</td>\n",
       "      <td>0.00</td>\n",
       "    </tr>\n",
       "    <tr>\n",
       "      <th>11</th>\n",
       "      <td>0</td>\n",
       "      <td>1398</td>\n",
       "      <td>0.01</td>\n",
       "    </tr>\n",
       "    <tr>\n",
       "      <th>12</th>\n",
       "      <td>W</td>\n",
       "      <td>295</td>\n",
       "      <td>0.00</td>\n",
       "    </tr>\n",
       "    <tr>\n",
       "      <th>13</th>\n",
       "      <td>9</td>\n",
       "      <td>4366</td>\n",
       "      <td>0.04</td>\n",
       "    </tr>\n",
       "    <tr>\n",
       "      <th>14</th>\n",
       "      <td>f</td>\n",
       "      <td>12</td>\n",
       "      <td>0.00</td>\n",
       "    </tr>\n",
       "    <tr>\n",
       "      <th>15</th>\n",
       "      <td>U</td>\n",
       "      <td>12</td>\n",
       "      <td>0.00</td>\n",
       "    </tr>\n",
       "    <tr>\n",
       "      <th>16</th>\n",
       "      <td>p</td>\n",
       "      <td>1295</td>\n",
       "      <td>0.01</td>\n",
       "    </tr>\n",
       "    <tr>\n",
       "      <th>17</th>\n",
       "      <td>X</td>\n",
       "      <td>14</td>\n",
       "      <td>0.00</td>\n",
       "    </tr>\n",
       "    <tr>\n",
       "      <th>18</th>\n",
       "      <td>G</td>\n",
       "      <td>1278</td>\n",
       "      <td>0.01</td>\n",
       "    </tr>\n",
       "    <tr>\n",
       "      <th>19</th>\n",
       "      <td>K</td>\n",
       "      <td>7</td>\n",
       "      <td>0.00</td>\n",
       "    </tr>\n",
       "    <tr>\n",
       "      <th>20</th>\n",
       "      <td>V</td>\n",
       "      <td>75</td>\n",
       "      <td>0.00</td>\n",
       "    </tr>\n",
       "  </tbody>\n",
       "</table>\n",
       "</div>"
      ],
      "text/plain": [
       "   Token  Number  Percentage\n",
       "0      m       6        0.00\n",
       "1      h      25        0.00\n",
       "2      E       6        0.00\n",
       "3      b     643        0.01\n",
       "4      D       1        0.00\n",
       "5      y       1        0.00\n",
       "6      R     143        0.00\n",
       "7      %    1398        0.01\n",
       "8      Y      12        0.00\n",
       "9      T    1136        0.01\n",
       "10     Z      60        0.00\n",
       "11     0    1398        0.01\n",
       "12     W     295        0.00\n",
       "13     9    4366        0.04\n",
       "14     f      12        0.00\n",
       "15     U      12        0.00\n",
       "16     p    1295        0.01\n",
       "17     X      14        0.00\n",
       "18     G    1278        0.01\n",
       "19     K       7        0.00\n",
       "20     V      75        0.00"
      ]
     },
     "execution_count": 76,
     "metadata": {},
     "output_type": "execute_result"
    }
   ],
   "source": [
    "# PubChem alignment to 188 & lincs\n",
    "specialList = list(set(list(set(charset_140_pc) - set(charset_188))) &  set(list(set(charset_140_pc) - set(charset_140_lincs))))\n",
    "smiles_list_trans = []\n",
    "\n",
    "for t in specialList:\n",
    "    a = 0\n",
    "    for i in smiles_pubchem_list:\n",
    "        if (t in i) & (len(i) <= 140):\n",
    "            a += 1\n",
    "    smiles_list_trans.append(a)\n",
    "nPCTo188LINCS = np.sum(smiles_list_trans)\n",
    "pd.DataFrame({'Token': specialList, 'Number': smiles_list_trans, 'Percentage': [round(float(i/len(len_140_pc)) * 100, 2) for i in smiles_list_trans]})"
   ]
  },
  {
   "cell_type": "code",
   "execution_count": 136,
   "metadata": {},
   "outputs": [
    {
     "data": {
      "text/plain": [
       "9942674"
      ]
     },
     "execution_count": 136,
     "metadata": {},
     "output_type": "execute_result"
    }
   ],
   "source": [
    "# remove strings longer than 140 or with unnecessary tokens\n",
    "charset_140_pc_removal = []\n",
    "smiles_pubchem_removal = []\n",
    "len_140_pc_removal = []\n",
    "specialList = list(set(list(set(charset_140_pc) - set(charset_188))) &  set(list(set(charset_140_pc) - set(charset_140_lincs))))\n",
    "\n",
    "\n",
    "for i in smiles_pubchem_list:\n",
    "    if (len(i) <= 140) & (len(list(set(specialList) & set(i))) == 0):\n",
    "        smiles_pubchem_removal.append(i)\n",
    "        for j in i:\n",
    "            if j not in charset_140_pc_removal:\n",
    "                charset_140_pc_removal.append(j)\n",
    "        len_140_pc_removal.append(len(i))\n",
    "len(len_140_pc_removal)"
   ]
  },
  {
   "cell_type": "code",
   "execution_count": 115,
   "metadata": {},
   "outputs": [
    {
     "data": {
      "text/plain": [
       "(41, 9942674)"
      ]
     },
     "execution_count": 115,
     "metadata": {},
     "output_type": "execute_result"
    }
   ],
   "source": [
    "len(charset_140_pc_removal), len(smiles_pubchem_removal)"
   ]
  },
  {
   "cell_type": "markdown",
   "metadata": {},
   "source": [
    "# (1) Onehot Only PubChem"
   ]
  },
  {
   "cell_type": "code",
   "execution_count": 119,
   "metadata": {},
   "outputs": [],
   "source": [
    "np.save('/nfs/turbo/umms-welchjd/hengshi/perturb_gan/data/smiles/onehot/PubChem10M/RemoveUnnecessaryTokens/PubChem_canonized_removal.npy', np.array(smiles_pubchem_removal))"
   ]
  },
  {
   "cell_type": "code",
   "execution_count": 120,
   "metadata": {},
   "outputs": [],
   "source": [
    "np.save('/nfs/turbo/umms-welchjd/hengshi/perturb_gan/data/smiles/onehot/PubChem10M/RemoveUnnecessaryTokens/charset_140_pc_removal.npy', np.array(charset_140_pc_removal))"
   ]
  },
  {
   "cell_type": "code",
   "execution_count": 137,
   "metadata": {},
   "outputs": [],
   "source": [
    "MAX_LEN = 140\n",
    "\n",
    "if ' ' not in charset_list:\n",
    "    charset_140_pc_removal += [' ']\n",
    "\n",
    "# onehot representations\n",
    "CHAR_INDICES = dict((c, i) for i, c in enumerate(charset_140_pc_removal))\n",
    "\n",
    "NCHARS = len(CHAR_INDICES)\n"
   ]
  },
  {
   "cell_type": "code",
   "execution_count": 138,
   "metadata": {},
   "outputs": [
    {
     "data": {
      "text/plain": [
       "['\\\\', '@', '*', '/', '.']"
      ]
     },
     "execution_count": 138,
     "metadata": {},
     "output_type": "execute_result"
    }
   ],
   "source": [
    "specialList = list(set(charset_188) - set(charset_140_pc_removal))\n",
    "list(set(charset_140_lincs) - set(charset_140_pc))\n",
    "specialList"
   ]
  },
  {
   "cell_type": "code",
   "execution_count": 125,
   "metadata": {},
   "outputs": [],
   "source": [
    "def removeTokenFromSMILE(smiles_list, specialList):\n",
    "    # remove non-occuring tokens\n",
    "    for t in specialList:\n",
    "        smiles_list_trans = []\n",
    "        for i in smiles_list:\n",
    "            if t in i:\n",
    "                smile = ''\n",
    "                for j in i: \n",
    "                    if j != t:\n",
    "                        smile += j\n",
    "                smiles_list_trans.append(smile)\n",
    "            else:\n",
    "                smiles_list_trans.append(i)\n",
    "        smiles_list = smiles_list_trans\n",
    "    return smiles_list"
   ]
  },
  {
   "cell_type": "code",
   "execution_count": 126,
   "metadata": {},
   "outputs": [],
   "source": [
    "specialList = list(set(charset_188) - set(charset_140_pc_removal))\n",
    "smiles_188_list_trans = removeTokenFromSMILE(smiles_188_list, specialList)"
   ]
  },
  {
   "cell_type": "code",
   "execution_count": 139,
   "metadata": {},
   "outputs": [],
   "source": [
    "X188 = mu.smiles_to_hot(smiles_188_list_trans, MAX_LEN, params['PADDING'], CHAR_INDICES, NCHARS)"
   ]
  },
  {
   "cell_type": "code",
   "execution_count": 141,
   "metadata": {},
   "outputs": [],
   "source": [
    "path_save = '/nfs/turbo/umms-welchjd/hengshi/perturb_gan/data/smiles/onehot/PubChem10M/RemoveUnnecessaryTokens/OnehotOnlyPubChem'\n",
    "np.save(os.path.join(path_save, \"OnehotData_188.npy\"), X188)"
   ]
  },
  {
   "cell_type": "code",
   "execution_count": 142,
   "metadata": {},
   "outputs": [
    {
     "data": {
      "text/plain": [
       "20329"
      ]
     },
     "execution_count": 142,
     "metadata": {},
     "output_type": "execute_result"
    }
   ],
   "source": [
    "len(smiles_lincs_list)"
   ]
  },
  {
   "cell_type": "code",
   "execution_count": 149,
   "metadata": {},
   "outputs": [],
   "source": [
    "smiles_lincs_140_list = []\n",
    "for i in range(len(smiles_lincs_list)):\n",
    "    smile = smiles_lincs_list[i]\n",
    "    if (len(smile) <= 140):\n",
    "        smiles_lincs_140_list.append(smile)"
   ]
  },
  {
   "cell_type": "code",
   "execution_count": 150,
   "metadata": {},
   "outputs": [
    {
     "data": {
      "text/plain": [
       "(20113, 140, 42)"
      ]
     },
     "execution_count": 150,
     "metadata": {},
     "output_type": "execute_result"
    }
   ],
   "source": [
    "specialList = list(set(charset_140_lincs) - set(charset_140_pc_removal))\n",
    "smiles_lincs_list_trans = removeTokenFromSMILE(smiles_lincs_140_list, specialList)\n",
    "\n",
    "XLINCS = mu.smiles_to_hot(smiles_lincs_list_trans, MAX_LEN, params['PADDING'], CHAR_INDICES, NCHARS)\n",
    "XLINCS.shape"
   ]
  },
  {
   "cell_type": "code",
   "execution_count": 151,
   "metadata": {},
   "outputs": [],
   "source": [
    "np.save(os.path.join(path_save, \"OnehotData_LINCS.npy\"), XLINCS)"
   ]
  },
  {
   "cell_type": "code",
   "execution_count": 8,
   "metadata": {},
   "outputs": [],
   "source": [
    "# resume back\n",
    "import h5py\n",
    "smiles_pubchem_removal = np.load('/nfs/turbo/umms-welchjd/hengshi/perturb_gan/data/smiles/onehot/PubChem10M/RemoveUnnecessaryTokens/PubChem_canonized_removal.npy')\n",
    "charset_140_pc_removal = np.load('/nfs/turbo/umms-welchjd/hengshi/perturb_gan/data/smiles/onehot/PubChem10M/RemoveUnnecessaryTokens/charset_140_pc_removal.npy')\n",
    "charset_140_pc_removal = [i for i in charset_140_pc_removal]\n",
    "\n",
    "MAX_LEN = 140\n",
    "\n",
    "if ' ' not in  charset_140_pc_removal:\n",
    "    charset_140_pc_removal += [' ']\n",
    "\n",
    "# onehot representations\n",
    "CHAR_INDICES = dict((c, i) for i, c in enumerate(charset_140_pc_removal))\n",
    "\n",
    "NCHARS = len(CHAR_INDICES)"
   ]
  },
  {
   "cell_type": "code",
   "execution_count": 9,
   "metadata": {},
   "outputs": [
    {
     "data": {
      "text/plain": [
       "9942674"
      ]
     },
     "execution_count": 9,
     "metadata": {},
     "output_type": "execute_result"
    }
   ],
   "source": [
    "len(smiles_pubchem_removal)"
   ]
  },
  {
   "cell_type": "code",
   "execution_count": 10,
   "metadata": {},
   "outputs": [
    {
     "name": "stdout",
     "output_type": "stream",
     "text": [
      "Processing: i=[0:100000]\n",
      "Processing: i=[100000:200000]\n",
      "Processing: i=[200000:300000]\n",
      "Processing: i=[300000:400000]\n",
      "Processing: i=[400000:500000]\n",
      "Processing: i=[500000:600000]\n",
      "Processing: i=[600000:700000]\n",
      "Processing: i=[700000:800000]\n",
      "Processing: i=[800000:900000]\n",
      "Processing: i=[900000:1000000]\n",
      "Processing: i=[1000000:1100000]\n",
      "Processing: i=[1100000:1200000]\n",
      "Processing: i=[1200000:1300000]\n",
      "Processing: i=[1300000:1400000]\n",
      "Processing: i=[1400000:1500000]\n",
      "Processing: i=[1500000:1600000]\n",
      "Processing: i=[1600000:1700000]\n",
      "Processing: i=[1700000:1800000]\n",
      "Processing: i=[1800000:1900000]\n",
      "Processing: i=[1900000:2000000]\n"
     ]
    }
   ],
   "source": [
    "nport = 2000000 \n",
    "n = 100000\n",
    "OH1 = np.zeros((nport, MAX_LEN, NCHARS))\n",
    "for i in range(0, nport, n):\n",
    "    print('Processing: i=[' + str(i) + ':' + str(i+n) + ']')\n",
    "    onehot = mu.smiles_to_hot(smiles_pubchem_removal[i:(i+n)], MAX_LEN, params['PADDING'], CHAR_INDICES, NCHARS)\n",
    "    OH1[i:i+n,:,:] = onehot"
   ]
  },
  {
   "cell_type": "code",
   "execution_count": 11,
   "metadata": {},
   "outputs": [],
   "source": [
    "path_save = '/nfs/turbo/umms-welchjd/hengshi/perturb_gan/data/smiles/onehot/PubChem10M/RemoveUnnecessaryTokens/OnehotOnlyPubChem'\n",
    "h5f = h5py.File(os.path.join(path_save, 'OnehotData_1.h5'),'w')\n",
    "h5f.create_dataset('data', data = OH1)\n",
    "h5f.close()"
   ]
  },
  {
   "cell_type": "code",
   "execution_count": 12,
   "metadata": {},
   "outputs": [
    {
     "data": {
      "text/plain": [
       "(2000000, 140, 42)"
      ]
     },
     "execution_count": 12,
     "metadata": {},
     "output_type": "execute_result"
    }
   ],
   "source": [
    "OH1.shape"
   ]
  },
  {
   "cell_type": "code",
   "execution_count": 11,
   "metadata": {},
   "outputs": [
    {
     "name": "stdout",
     "output_type": "stream",
     "text": [
      "Processing: i=[2000000:2100000]\n",
      "Processing: i=[2100000:2200000]\n",
      "Processing: i=[2200000:2300000]\n",
      "Processing: i=[2300000:2400000]\n",
      "Processing: i=[2400000:2500000]\n",
      "Processing: i=[2500000:2600000]\n",
      "Processing: i=[2600000:2700000]\n",
      "Processing: i=[2700000:2800000]\n",
      "Processing: i=[2800000:2900000]\n",
      "Processing: i=[2900000:3000000]\n",
      "Processing: i=[3000000:3100000]\n",
      "Processing: i=[3100000:3200000]\n",
      "Processing: i=[3200000:3300000]\n",
      "Processing: i=[3300000:3400000]\n",
      "Processing: i=[3400000:3500000]\n",
      "Processing: i=[3500000:3600000]\n",
      "Processing: i=[3600000:3700000]\n",
      "Processing: i=[3700000:3800000]\n",
      "Processing: i=[3800000:3900000]\n",
      "Processing: i=[3900000:4000000]\n"
     ]
    }
   ],
   "source": [
    "nport = 2000000 \n",
    "n = 100000\n",
    "\n",
    "OH1 = np.zeros((nport,MAX_LEN,NCHARS))\n",
    "for i in range(0, nport, n):\n",
    "    print('Processing: i=[' + str(i + nport) + ':' + str(i+ nport+n) + ']')\n",
    "    onehot = mu.smiles_to_hot(smiles_pubchem_removal[(i + nport):(i+nport + n)], MAX_LEN, 'right', CHAR_INDICES, NCHARS)\n",
    "    OH1[i:(i+n),:,:] = onehot"
   ]
  },
  {
   "cell_type": "code",
   "execution_count": 12,
   "metadata": {},
   "outputs": [],
   "source": [
    "path_save = '/nfs/turbo/umms-welchjd/hengshi/perturb_gan/data/smiles/onehot/PubChem10M/RemoveUnnecessaryTokens/OnehotOnlyPubChem'\n",
    "h5f = h5py.File(os.path.join(path_save, 'OnehotData_2.h5'),'w')\n",
    "h5f.create_dataset('data', data = OH1)\n",
    "h5f.close()"
   ]
  },
  {
   "cell_type": "code",
   "execution_count": 13,
   "metadata": {},
   "outputs": [
    {
     "data": {
      "text/plain": [
       "(2000000, 140, 42)"
      ]
     },
     "execution_count": 13,
     "metadata": {},
     "output_type": "execute_result"
    }
   ],
   "source": [
    "OH1.shape"
   ]
  },
  {
   "cell_type": "code",
   "execution_count": 10,
   "metadata": {},
   "outputs": [
    {
     "name": "stdout",
     "output_type": "stream",
     "text": [
      "Processing: i=[4000000:4100000]\n",
      "Processing: i=[4100000:4200000]\n",
      "Processing: i=[4200000:4300000]\n",
      "Processing: i=[4300000:4400000]\n",
      "Processing: i=[4400000:4500000]\n",
      "Processing: i=[4500000:4600000]\n",
      "Processing: i=[4600000:4700000]\n",
      "Processing: i=[4700000:4800000]\n",
      "Processing: i=[4800000:4900000]\n",
      "Processing: i=[4900000:5000000]\n",
      "Processing: i=[5000000:5100000]\n",
      "Processing: i=[5100000:5200000]\n",
      "Processing: i=[5200000:5300000]\n",
      "Processing: i=[5300000:5400000]\n",
      "Processing: i=[5400000:5500000]\n",
      "Processing: i=[5500000:5600000]\n",
      "Processing: i=[5600000:5700000]\n",
      "Processing: i=[5700000:5800000]\n",
      "Processing: i=[5800000:5900000]\n",
      "Processing: i=[5900000:6000000]\n"
     ]
    }
   ],
   "source": [
    "nport = 2000000 \n",
    "n = 100000\n",
    "\n",
    "OH1 = np.zeros((nport,MAX_LEN,NCHARS))\n",
    "for i in range(0, nport, n):\n",
    "    print('Processing: i=[' + str(i + nport * 2) + ':' + str(i+ nport * 2+n) + ']')\n",
    "    onehot = mu.smiles_to_hot(smiles_pubchem_removal[(i + nport * 2):(i+nport * 2 + n)], MAX_LEN, 'right', CHAR_INDICES, NCHARS)\n",
    "    OH1[i:(i+n),:,:] = onehot"
   ]
  },
  {
   "cell_type": "code",
   "execution_count": 11,
   "metadata": {},
   "outputs": [
    {
     "data": {
      "text/plain": [
       "(2000000, 140, 42)"
      ]
     },
     "execution_count": 11,
     "metadata": {},
     "output_type": "execute_result"
    }
   ],
   "source": [
    "OH1.shape"
   ]
  },
  {
   "cell_type": "code",
   "execution_count": 12,
   "metadata": {},
   "outputs": [],
   "source": [
    "path_save = '/nfs/turbo/umms-welchjd/hengshi/perturb_gan/data/smiles/onehot/PubChem10M/RemoveUnnecessaryTokens/OnehotOnlyPubChem'\n",
    "h5f = h5py.File(os.path.join(path_save, 'OnehotData_3.h5'),'w')\n",
    "h5f.create_dataset('data', data = OH1)\n",
    "h5f.close()"
   ]
  },
  {
   "cell_type": "code",
   "execution_count": 10,
   "metadata": {},
   "outputs": [
    {
     "name": "stdout",
     "output_type": "stream",
     "text": [
      "Processing: i=[6000000:6100000]\n",
      "Processing: i=[6100000:6200000]\n",
      "Processing: i=[6200000:6300000]\n",
      "Processing: i=[6300000:6400000]\n",
      "Processing: i=[6400000:6500000]\n",
      "Processing: i=[6500000:6600000]\n",
      "Processing: i=[6600000:6700000]\n",
      "Processing: i=[6700000:6800000]\n",
      "Processing: i=[6800000:6900000]\n",
      "Processing: i=[6900000:7000000]\n",
      "Processing: i=[7000000:7100000]\n",
      "Processing: i=[7100000:7200000]\n",
      "Processing: i=[7200000:7300000]\n",
      "Processing: i=[7300000:7400000]\n",
      "Processing: i=[7400000:7500000]\n",
      "Processing: i=[7500000:7600000]\n",
      "Processing: i=[7600000:7700000]\n",
      "Processing: i=[7700000:7800000]\n",
      "Processing: i=[7800000:7900000]\n",
      "Processing: i=[7900000:8000000]\n"
     ]
    }
   ],
   "source": [
    "nport = 2000000 \n",
    "n = 100000\n",
    "MAX_LEN = 140\n",
    "NCHARS = len(CHAR_INDICES)\n",
    "OH1 = np.zeros((nport,MAX_LEN,NCHARS))\n",
    "for i in range(0, nport, n):\n",
    "    print('Processing: i=[' + str(i + nport * 3) + ':' + str(i+ nport * 3+n) + ']')\n",
    "    onehot = mu.smiles_to_hot(smiles_pubchem_removal[(i + nport * 3):(i+nport * 3 + n)], MAX_LEN, 'right', CHAR_INDICES, NCHARS)\n",
    "    OH1[i:(i+n),:,:] = onehot"
   ]
  },
  {
   "cell_type": "code",
   "execution_count": 11,
   "metadata": {},
   "outputs": [],
   "source": [
    "path_save = '/nfs/turbo/umms-welchjd/hengshi/perturb_gan/data/smiles/onehot/PubChem10M/RemoveUnnecessaryTokens/OnehotOnlyPubChem'\n",
    "h5f = h5py.File(os.path.join(path_save, 'OnehotData_4.h5'),'w')\n",
    "h5f.create_dataset('data', data = OH1)\n",
    "h5f.close()"
   ]
  },
  {
   "cell_type": "code",
   "execution_count": 11,
   "metadata": {},
   "outputs": [],
   "source": [
    "nport = 2000000 \n",
    "nport = 2000000 \n",
    "n_last = len(smiles_pubchem_removal) - nport * 4"
   ]
  },
  {
   "cell_type": "code",
   "execution_count": 12,
   "metadata": {},
   "outputs": [
    {
     "name": "stdout",
     "output_type": "stream",
     "text": [
      "Processing: i=[8000000:8100000]\n",
      "Processing: i=[8100000:8200000]\n",
      "Processing: i=[8200000:8300000]\n",
      "Processing: i=[8300000:8400000]\n",
      "Processing: i=[8400000:8500000]\n",
      "Processing: i=[8500000:8600000]\n",
      "Processing: i=[8600000:8700000]\n",
      "Processing: i=[8700000:8800000]\n",
      "Processing: i=[8800000:8900000]\n",
      "Processing: i=[8900000:9000000]\n",
      "Processing: i=[9000000:9100000]\n",
      "Processing: i=[9100000:9200000]\n",
      "Processing: i=[9200000:9300000]\n",
      "Processing: i=[9300000:9400000]\n",
      "Processing: i=[9400000:9500000]\n",
      "Processing: i=[9500000:9600000]\n",
      "Processing: i=[9600000:9700000]\n",
      "Processing: i=[9700000:9800000]\n",
      "Processing: i=[9800000:9900000]\n",
      "Processing: i=[9900000:9942674]\n"
     ]
    }
   ],
   "source": [
    "\n",
    "n = 100000\n",
    "OH1 = np.zeros((n_last, MAX_LEN, NCHARS))\n",
    "for i in range(0, n_last, n):\n",
    "    n_use = min(len(smiles_pubchem_removal), i + nport * 4 + n)\n",
    "    print('Processing: i=[' + str(i + nport * 4) + ':' + str(n_use) + ']')\n",
    "    onehot = mu.smiles_to_hot(smiles_pubchem_removal[(i + nport * 4):(n_use)], MAX_LEN, 'right', CHAR_INDICES, NCHARS)\n",
    "    OH1[i:(n_use - nport * 4),:,:] = onehot"
   ]
  },
  {
   "cell_type": "code",
   "execution_count": 13,
   "metadata": {},
   "outputs": [
    {
     "data": {
      "text/plain": [
       "(1942674, 140, 42)"
      ]
     },
     "execution_count": 13,
     "metadata": {},
     "output_type": "execute_result"
    }
   ],
   "source": [
    "OH1.shape"
   ]
  },
  {
   "cell_type": "code",
   "execution_count": 13,
   "metadata": {},
   "outputs": [],
   "source": [
    "path_save = '/scratch/welchjd_root/welchjd/hengshi/GAN/perturb_gan/data/smiles/onehot/PubChem10M/RemoveUnnecessaryTokens/OnehotOnlyPubChem'\n",
    "h5f = h5py.File(os.path.join(path_save, 'OnehotData_5.h5'),'w')\n",
    "h5f.create_dataset('data', data = OH1)\n",
    "h5f.close()"
   ]
  },
  {
   "cell_type": "code",
   "execution_count": 1,
   "metadata": {},
   "outputs": [],
   "source": [
    "import torch"
   ]
  },
  {
   "cell_type": "code",
   "execution_count": 2,
   "metadata": {},
   "outputs": [],
   "source": [
    "a = torch.rand((10, 140, 42))"
   ]
  },
  {
   "cell_type": "code",
   "execution_count": 4,
   "metadata": {},
   "outputs": [
    {
     "data": {
      "text/plain": [
       "torch.Size([10, 140, 42])"
      ]
     },
     "execution_count": 4,
     "metadata": {},
     "output_type": "execute_result"
    }
   ],
   "source": [
    "a.size()"
   ]
  },
  {
   "cell_type": "code",
   "execution_count": 5,
   "metadata": {},
   "outputs": [],
   "source": [
    "import torch.nn as nn\n",
    "n_conv = int(8 * 1.15875438383); k_conv = int(8 * 1.1758149644)\n",
    "n_conv2 = int(8 * 1.15875438383 ** 2); k_conv2 = int(8 * 1.1758149644 ** 2); prob_drop = 0.082832929704794792, \n",
    "max_len = 140\n",
    "\n",
    "conv_1 = nn.Conv1d(in_channels = max_len, \n",
    "                        out_channels = n_conv, \n",
    "                        kernel_size = k_conv)\n",
    "\n",
    "conv_2 = nn.Conv1d(in_channels = n_conv, \n",
    "                        out_channels = n_conv, \n",
    "                        kernel_size = k_conv) \n",
    "\n",
    "conv_3 = nn.Conv1d(in_channels = n_conv, \n",
    "                        out_channels = n_conv2, \n",
    "                        kernel_size = k_conv2) "
   ]
  },
  {
   "cell_type": "code",
   "execution_count": 8,
   "metadata": {},
   "outputs": [],
   "source": [
    "x = a\n",
    "x = conv_1(x)\n",
    "\n",
    "\n",
    "x = conv_2(x)\n",
    "\n",
    "\n",
    "x = conv_3(x)\n"
   ]
  },
  {
   "cell_type": "code",
   "execution_count": 10,
   "metadata": {},
   "outputs": [
    {
     "data": {
      "text/plain": [
       "torch.Size([10, 160])"
      ]
     },
     "execution_count": 10,
     "metadata": {},
     "output_type": "execute_result"
    }
   ],
   "source": [
    "x = x.view(x.size(0), -1)\n",
    "x.size()"
   ]
  },
  {
   "cell_type": "code",
   "execution_count": 11,
   "metadata": {},
   "outputs": [],
   "source": [
    "import h5py\n",
    "import os\n",
    "i = 1\n",
    "path_onehot = '/nfs/turbo/umms-welchjd/hengshi/perturb_gan/data/smiles/onehot/PubChem10M/RemoveUnnecessaryTokens/OnehotOnlyPubChem'\n",
    "h5f = h5py.File(os.path.join(path_onehot, 'OnehotData_' + str(i) + '.h5'), 'r')"
   ]
  },
  {
   "cell_type": "code",
   "execution_count": 16,
   "metadata": {},
   "outputs": [
    {
     "data": {
      "text/plain": [
       "(2000000, 140, 42)"
      ]
     },
     "execution_count": 16,
     "metadata": {},
     "output_type": "execute_result"
    }
   ],
   "source": [
    "h5f['data'].shape"
   ]
  },
  {
   "cell_type": "code",
   "execution_count": 17,
   "metadata": {},
   "outputs": [
    {
     "data": {
      "text/plain": [
       "2000000"
      ]
     },
     "execution_count": 17,
     "metadata": {},
     "output_type": "execute_result"
    }
   ],
   "source": [
    "len(h5f['data'])"
   ]
  },
  {
   "cell_type": "code",
   "execution_count": 18,
   "metadata": {},
   "outputs": [],
   "source": [
    "class PubChemDataset(torch.utils.data.Dataset):\n",
    "    def __init__(self, h5f):\n",
    "        self.h5f = h5f\n",
    "         \n",
    "    def __len__(self):\n",
    "        return (len(self.h5f['data']))\n",
    "    \n",
    "    def __getitem__(self, i):\n",
    "        data = self.h5f['data'][i:(i + 1)]\n",
    "        return data"
   ]
  },
  {
   "cell_type": "code",
   "execution_count": 22,
   "metadata": {},
   "outputs": [],
   "source": [
    "train_data = PubChemDataset(h5f)\n",
    "train_loader = torch.utils.data.DataLoader(train_data, \n",
    "                                           batch_size = 128, \n",
    "                                           shuffle = True, \n",
    "                                           num_workers=4)"
   ]
  },
  {
   "cell_type": "code",
   "execution_count": 23,
   "metadata": {},
   "outputs": [
    {
     "name": "stdout",
     "output_type": "stream",
     "text": [
      "0\n",
      "1\n",
      "2\n",
      "3\n",
      "4\n",
      "5\n",
      "6\n",
      "7\n",
      "8\n",
      "9\n",
      "10\n",
      "11\n"
     ]
    },
    {
     "ename": "KeyboardInterrupt",
     "evalue": "",
     "output_type": "error",
     "traceback": [
      "\u001b[0;31m---------------------------------------------------------------------------\u001b[0m",
      "\u001b[0;31mKeyboardInterrupt\u001b[0m                         Traceback (most recent call last)",
      "\u001b[0;32m<ipython-input-23-812427561843>\u001b[0m in \u001b[0;36m<module>\u001b[0;34m\u001b[0m\n\u001b[0;32m----> 1\u001b[0;31m \u001b[0;32mfor\u001b[0m \u001b[0mbatch_idx\u001b[0m\u001b[0;34m,\u001b[0m \u001b[0mdata\u001b[0m \u001b[0;32min\u001b[0m \u001b[0menumerate\u001b[0m\u001b[0;34m(\u001b[0m\u001b[0mtrain_loader\u001b[0m\u001b[0;34m)\u001b[0m\u001b[0;34m:\u001b[0m\u001b[0;34m\u001b[0m\u001b[0;34m\u001b[0m\u001b[0m\n\u001b[0m\u001b[1;32m      2\u001b[0m     \u001b[0mprint\u001b[0m\u001b[0;34m(\u001b[0m\u001b[0mbatch_idx\u001b[0m\u001b[0;34m)\u001b[0m\u001b[0;34m\u001b[0m\u001b[0;34m\u001b[0m\u001b[0m\n",
      "\u001b[0;32m~/.local/lib/python3.6/site-packages/torch/utils/data/dataloader.py\u001b[0m in \u001b[0;36m__next__\u001b[0;34m(self)\u001b[0m\n\u001b[1;32m    433\u001b[0m         \u001b[0;32mif\u001b[0m \u001b[0mself\u001b[0m\u001b[0;34m.\u001b[0m\u001b[0m_sampler_iter\u001b[0m \u001b[0;32mis\u001b[0m \u001b[0;32mNone\u001b[0m\u001b[0;34m:\u001b[0m\u001b[0;34m\u001b[0m\u001b[0;34m\u001b[0m\u001b[0m\n\u001b[1;32m    434\u001b[0m             \u001b[0mself\u001b[0m\u001b[0;34m.\u001b[0m\u001b[0m_reset\u001b[0m\u001b[0;34m(\u001b[0m\u001b[0;34m)\u001b[0m\u001b[0;34m\u001b[0m\u001b[0;34m\u001b[0m\u001b[0m\n\u001b[0;32m--> 435\u001b[0;31m         \u001b[0mdata\u001b[0m \u001b[0;34m=\u001b[0m \u001b[0mself\u001b[0m\u001b[0;34m.\u001b[0m\u001b[0m_next_data\u001b[0m\u001b[0;34m(\u001b[0m\u001b[0;34m)\u001b[0m\u001b[0;34m\u001b[0m\u001b[0;34m\u001b[0m\u001b[0m\n\u001b[0m\u001b[1;32m    436\u001b[0m         \u001b[0mself\u001b[0m\u001b[0;34m.\u001b[0m\u001b[0m_num_yielded\u001b[0m \u001b[0;34m+=\u001b[0m \u001b[0;36m1\u001b[0m\u001b[0;34m\u001b[0m\u001b[0;34m\u001b[0m\u001b[0m\n\u001b[1;32m    437\u001b[0m         \u001b[0;32mif\u001b[0m \u001b[0mself\u001b[0m\u001b[0;34m.\u001b[0m\u001b[0m_dataset_kind\u001b[0m \u001b[0;34m==\u001b[0m \u001b[0m_DatasetKind\u001b[0m\u001b[0;34m.\u001b[0m\u001b[0mIterable\u001b[0m \u001b[0;32mand\u001b[0m\u001b[0;31m \u001b[0m\u001b[0;31m\\\u001b[0m\u001b[0;34m\u001b[0m\u001b[0;34m\u001b[0m\u001b[0m\n",
      "\u001b[0;32m~/.local/lib/python3.6/site-packages/torch/utils/data/dataloader.py\u001b[0m in \u001b[0;36m_next_data\u001b[0;34m(self)\u001b[0m\n\u001b[1;32m   1066\u001b[0m \u001b[0;34m\u001b[0m\u001b[0m\n\u001b[1;32m   1067\u001b[0m             \u001b[0;32massert\u001b[0m \u001b[0;32mnot\u001b[0m \u001b[0mself\u001b[0m\u001b[0;34m.\u001b[0m\u001b[0m_shutdown\u001b[0m \u001b[0;32mand\u001b[0m \u001b[0mself\u001b[0m\u001b[0;34m.\u001b[0m\u001b[0m_tasks_outstanding\u001b[0m \u001b[0;34m>\u001b[0m \u001b[0;36m0\u001b[0m\u001b[0;34m\u001b[0m\u001b[0;34m\u001b[0m\u001b[0m\n\u001b[0;32m-> 1068\u001b[0;31m             \u001b[0midx\u001b[0m\u001b[0;34m,\u001b[0m \u001b[0mdata\u001b[0m \u001b[0;34m=\u001b[0m \u001b[0mself\u001b[0m\u001b[0;34m.\u001b[0m\u001b[0m_get_data\u001b[0m\u001b[0;34m(\u001b[0m\u001b[0;34m)\u001b[0m\u001b[0;34m\u001b[0m\u001b[0;34m\u001b[0m\u001b[0m\n\u001b[0m\u001b[1;32m   1069\u001b[0m             \u001b[0mself\u001b[0m\u001b[0;34m.\u001b[0m\u001b[0m_tasks_outstanding\u001b[0m \u001b[0;34m-=\u001b[0m \u001b[0;36m1\u001b[0m\u001b[0;34m\u001b[0m\u001b[0;34m\u001b[0m\u001b[0m\n\u001b[1;32m   1070\u001b[0m             \u001b[0;32mif\u001b[0m \u001b[0mself\u001b[0m\u001b[0;34m.\u001b[0m\u001b[0m_dataset_kind\u001b[0m \u001b[0;34m==\u001b[0m \u001b[0m_DatasetKind\u001b[0m\u001b[0;34m.\u001b[0m\u001b[0mIterable\u001b[0m\u001b[0;34m:\u001b[0m\u001b[0;34m\u001b[0m\u001b[0;34m\u001b[0m\u001b[0m\n",
      "\u001b[0;32m~/.local/lib/python3.6/site-packages/torch/utils/data/dataloader.py\u001b[0m in \u001b[0;36m_get_data\u001b[0;34m(self)\u001b[0m\n\u001b[1;32m   1032\u001b[0m         \u001b[0;32melse\u001b[0m\u001b[0;34m:\u001b[0m\u001b[0;34m\u001b[0m\u001b[0;34m\u001b[0m\u001b[0m\n\u001b[1;32m   1033\u001b[0m             \u001b[0;32mwhile\u001b[0m \u001b[0;32mTrue\u001b[0m\u001b[0;34m:\u001b[0m\u001b[0;34m\u001b[0m\u001b[0;34m\u001b[0m\u001b[0m\n\u001b[0;32m-> 1034\u001b[0;31m                 \u001b[0msuccess\u001b[0m\u001b[0;34m,\u001b[0m \u001b[0mdata\u001b[0m \u001b[0;34m=\u001b[0m \u001b[0mself\u001b[0m\u001b[0;34m.\u001b[0m\u001b[0m_try_get_data\u001b[0m\u001b[0;34m(\u001b[0m\u001b[0;34m)\u001b[0m\u001b[0;34m\u001b[0m\u001b[0;34m\u001b[0m\u001b[0m\n\u001b[0m\u001b[1;32m   1035\u001b[0m                 \u001b[0;32mif\u001b[0m \u001b[0msuccess\u001b[0m\u001b[0;34m:\u001b[0m\u001b[0;34m\u001b[0m\u001b[0;34m\u001b[0m\u001b[0m\n\u001b[1;32m   1036\u001b[0m                     \u001b[0;32mreturn\u001b[0m \u001b[0mdata\u001b[0m\u001b[0;34m\u001b[0m\u001b[0;34m\u001b[0m\u001b[0m\n",
      "\u001b[0;32m~/.local/lib/python3.6/site-packages/torch/utils/data/dataloader.py\u001b[0m in \u001b[0;36m_try_get_data\u001b[0;34m(self, timeout)\u001b[0m\n\u001b[1;32m    870\u001b[0m         \u001b[0;31m#   (bool: whether successfully get data, any: data if successful else None)\u001b[0m\u001b[0;34m\u001b[0m\u001b[0;34m\u001b[0m\u001b[0;34m\u001b[0m\u001b[0m\n\u001b[1;32m    871\u001b[0m         \u001b[0;32mtry\u001b[0m\u001b[0;34m:\u001b[0m\u001b[0;34m\u001b[0m\u001b[0;34m\u001b[0m\u001b[0m\n\u001b[0;32m--> 872\u001b[0;31m             \u001b[0mdata\u001b[0m \u001b[0;34m=\u001b[0m \u001b[0mself\u001b[0m\u001b[0;34m.\u001b[0m\u001b[0m_data_queue\u001b[0m\u001b[0;34m.\u001b[0m\u001b[0mget\u001b[0m\u001b[0;34m(\u001b[0m\u001b[0mtimeout\u001b[0m\u001b[0;34m=\u001b[0m\u001b[0mtimeout\u001b[0m\u001b[0;34m)\u001b[0m\u001b[0;34m\u001b[0m\u001b[0;34m\u001b[0m\u001b[0m\n\u001b[0m\u001b[1;32m    873\u001b[0m             \u001b[0;32mreturn\u001b[0m \u001b[0;34m(\u001b[0m\u001b[0;32mTrue\u001b[0m\u001b[0;34m,\u001b[0m \u001b[0mdata\u001b[0m\u001b[0;34m)\u001b[0m\u001b[0;34m\u001b[0m\u001b[0;34m\u001b[0m\u001b[0m\n\u001b[1;32m    874\u001b[0m         \u001b[0;32mexcept\u001b[0m \u001b[0mException\u001b[0m \u001b[0;32mas\u001b[0m \u001b[0me\u001b[0m\u001b[0;34m:\u001b[0m\u001b[0;34m\u001b[0m\u001b[0;34m\u001b[0m\u001b[0m\n",
      "\u001b[0;32m~/.conda/envs/chemvaeLower/lib/python3.6/multiprocessing/queues.py\u001b[0m in \u001b[0;36mget\u001b[0;34m(self, block, timeout)\u001b[0m\n\u001b[1;32m    102\u001b[0m                 \u001b[0;32mif\u001b[0m \u001b[0mblock\u001b[0m\u001b[0;34m:\u001b[0m\u001b[0;34m\u001b[0m\u001b[0;34m\u001b[0m\u001b[0m\n\u001b[1;32m    103\u001b[0m                     \u001b[0mtimeout\u001b[0m \u001b[0;34m=\u001b[0m \u001b[0mdeadline\u001b[0m \u001b[0;34m-\u001b[0m \u001b[0mtime\u001b[0m\u001b[0;34m.\u001b[0m\u001b[0mmonotonic\u001b[0m\u001b[0;34m(\u001b[0m\u001b[0;34m)\u001b[0m\u001b[0;34m\u001b[0m\u001b[0;34m\u001b[0m\u001b[0m\n\u001b[0;32m--> 104\u001b[0;31m                     \u001b[0;32mif\u001b[0m \u001b[0;32mnot\u001b[0m \u001b[0mself\u001b[0m\u001b[0;34m.\u001b[0m\u001b[0m_poll\u001b[0m\u001b[0;34m(\u001b[0m\u001b[0mtimeout\u001b[0m\u001b[0;34m)\u001b[0m\u001b[0;34m:\u001b[0m\u001b[0;34m\u001b[0m\u001b[0;34m\u001b[0m\u001b[0m\n\u001b[0m\u001b[1;32m    105\u001b[0m                         \u001b[0;32mraise\u001b[0m \u001b[0mEmpty\u001b[0m\u001b[0;34m\u001b[0m\u001b[0;34m\u001b[0m\u001b[0m\n\u001b[1;32m    106\u001b[0m                 \u001b[0;32melif\u001b[0m \u001b[0;32mnot\u001b[0m \u001b[0mself\u001b[0m\u001b[0;34m.\u001b[0m\u001b[0m_poll\u001b[0m\u001b[0;34m(\u001b[0m\u001b[0;34m)\u001b[0m\u001b[0;34m:\u001b[0m\u001b[0;34m\u001b[0m\u001b[0;34m\u001b[0m\u001b[0m\n",
      "\u001b[0;32m~/.conda/envs/chemvaeLower/lib/python3.6/multiprocessing/connection.py\u001b[0m in \u001b[0;36mpoll\u001b[0;34m(self, timeout)\u001b[0m\n\u001b[1;32m    255\u001b[0m         \u001b[0mself\u001b[0m\u001b[0;34m.\u001b[0m\u001b[0m_check_closed\u001b[0m\u001b[0;34m(\u001b[0m\u001b[0;34m)\u001b[0m\u001b[0;34m\u001b[0m\u001b[0;34m\u001b[0m\u001b[0m\n\u001b[1;32m    256\u001b[0m         \u001b[0mself\u001b[0m\u001b[0;34m.\u001b[0m\u001b[0m_check_readable\u001b[0m\u001b[0;34m(\u001b[0m\u001b[0;34m)\u001b[0m\u001b[0;34m\u001b[0m\u001b[0;34m\u001b[0m\u001b[0m\n\u001b[0;32m--> 257\u001b[0;31m         \u001b[0;32mreturn\u001b[0m \u001b[0mself\u001b[0m\u001b[0;34m.\u001b[0m\u001b[0m_poll\u001b[0m\u001b[0;34m(\u001b[0m\u001b[0mtimeout\u001b[0m\u001b[0;34m)\u001b[0m\u001b[0;34m\u001b[0m\u001b[0;34m\u001b[0m\u001b[0m\n\u001b[0m\u001b[1;32m    258\u001b[0m \u001b[0;34m\u001b[0m\u001b[0m\n\u001b[1;32m    259\u001b[0m     \u001b[0;32mdef\u001b[0m \u001b[0m__enter__\u001b[0m\u001b[0;34m(\u001b[0m\u001b[0mself\u001b[0m\u001b[0;34m)\u001b[0m\u001b[0;34m:\u001b[0m\u001b[0;34m\u001b[0m\u001b[0;34m\u001b[0m\u001b[0m\n",
      "\u001b[0;32m~/.conda/envs/chemvaeLower/lib/python3.6/multiprocessing/connection.py\u001b[0m in \u001b[0;36m_poll\u001b[0;34m(self, timeout)\u001b[0m\n\u001b[1;32m    412\u001b[0m \u001b[0;34m\u001b[0m\u001b[0m\n\u001b[1;32m    413\u001b[0m     \u001b[0;32mdef\u001b[0m \u001b[0m_poll\u001b[0m\u001b[0;34m(\u001b[0m\u001b[0mself\u001b[0m\u001b[0;34m,\u001b[0m \u001b[0mtimeout\u001b[0m\u001b[0;34m)\u001b[0m\u001b[0;34m:\u001b[0m\u001b[0;34m\u001b[0m\u001b[0;34m\u001b[0m\u001b[0m\n\u001b[0;32m--> 414\u001b[0;31m         \u001b[0mr\u001b[0m \u001b[0;34m=\u001b[0m \u001b[0mwait\u001b[0m\u001b[0;34m(\u001b[0m\u001b[0;34m[\u001b[0m\u001b[0mself\u001b[0m\u001b[0;34m]\u001b[0m\u001b[0;34m,\u001b[0m \u001b[0mtimeout\u001b[0m\u001b[0;34m)\u001b[0m\u001b[0;34m\u001b[0m\u001b[0;34m\u001b[0m\u001b[0m\n\u001b[0m\u001b[1;32m    415\u001b[0m         \u001b[0;32mreturn\u001b[0m \u001b[0mbool\u001b[0m\u001b[0;34m(\u001b[0m\u001b[0mr\u001b[0m\u001b[0;34m)\u001b[0m\u001b[0;34m\u001b[0m\u001b[0;34m\u001b[0m\u001b[0m\n\u001b[1;32m    416\u001b[0m \u001b[0;34m\u001b[0m\u001b[0m\n",
      "\u001b[0;32m~/.conda/envs/chemvaeLower/lib/python3.6/multiprocessing/connection.py\u001b[0m in \u001b[0;36mwait\u001b[0;34m(object_list, timeout)\u001b[0m\n\u001b[1;32m    909\u001b[0m \u001b[0;34m\u001b[0m\u001b[0m\n\u001b[1;32m    910\u001b[0m             \u001b[0;32mwhile\u001b[0m \u001b[0;32mTrue\u001b[0m\u001b[0;34m:\u001b[0m\u001b[0;34m\u001b[0m\u001b[0;34m\u001b[0m\u001b[0m\n\u001b[0;32m--> 911\u001b[0;31m                 \u001b[0mready\u001b[0m \u001b[0;34m=\u001b[0m \u001b[0mselector\u001b[0m\u001b[0;34m.\u001b[0m\u001b[0mselect\u001b[0m\u001b[0;34m(\u001b[0m\u001b[0mtimeout\u001b[0m\u001b[0;34m)\u001b[0m\u001b[0;34m\u001b[0m\u001b[0;34m\u001b[0m\u001b[0m\n\u001b[0m\u001b[1;32m    912\u001b[0m                 \u001b[0;32mif\u001b[0m \u001b[0mready\u001b[0m\u001b[0;34m:\u001b[0m\u001b[0;34m\u001b[0m\u001b[0;34m\u001b[0m\u001b[0m\n\u001b[1;32m    913\u001b[0m                     \u001b[0;32mreturn\u001b[0m \u001b[0;34m[\u001b[0m\u001b[0mkey\u001b[0m\u001b[0;34m.\u001b[0m\u001b[0mfileobj\u001b[0m \u001b[0;32mfor\u001b[0m \u001b[0;34m(\u001b[0m\u001b[0mkey\u001b[0m\u001b[0;34m,\u001b[0m \u001b[0mevents\u001b[0m\u001b[0;34m)\u001b[0m \u001b[0;32min\u001b[0m \u001b[0mready\u001b[0m\u001b[0;34m]\u001b[0m\u001b[0;34m\u001b[0m\u001b[0;34m\u001b[0m\u001b[0m\n",
      "\u001b[0;32m~/.conda/envs/chemvaeLower/lib/python3.6/selectors.py\u001b[0m in \u001b[0;36mselect\u001b[0;34m(self, timeout)\u001b[0m\n\u001b[1;32m    374\u001b[0m             \u001b[0mready\u001b[0m \u001b[0;34m=\u001b[0m \u001b[0;34m[\u001b[0m\u001b[0;34m]\u001b[0m\u001b[0;34m\u001b[0m\u001b[0;34m\u001b[0m\u001b[0m\n\u001b[1;32m    375\u001b[0m             \u001b[0;32mtry\u001b[0m\u001b[0;34m:\u001b[0m\u001b[0;34m\u001b[0m\u001b[0;34m\u001b[0m\u001b[0m\n\u001b[0;32m--> 376\u001b[0;31m                 \u001b[0mfd_event_list\u001b[0m \u001b[0;34m=\u001b[0m \u001b[0mself\u001b[0m\u001b[0;34m.\u001b[0m\u001b[0m_poll\u001b[0m\u001b[0;34m.\u001b[0m\u001b[0mpoll\u001b[0m\u001b[0;34m(\u001b[0m\u001b[0mtimeout\u001b[0m\u001b[0;34m)\u001b[0m\u001b[0;34m\u001b[0m\u001b[0;34m\u001b[0m\u001b[0m\n\u001b[0m\u001b[1;32m    377\u001b[0m             \u001b[0;32mexcept\u001b[0m \u001b[0mInterruptedError\u001b[0m\u001b[0;34m:\u001b[0m\u001b[0;34m\u001b[0m\u001b[0;34m\u001b[0m\u001b[0m\n\u001b[1;32m    378\u001b[0m                 \u001b[0;32mreturn\u001b[0m \u001b[0mready\u001b[0m\u001b[0;34m\u001b[0m\u001b[0;34m\u001b[0m\u001b[0m\n",
      "\u001b[0;31mKeyboardInterrupt\u001b[0m: "
     ]
    }
   ],
   "source": [
    "for batch_idx, data in enumerate(train_loader):\n",
    "    print(batch_idx)"
   ]
  },
  {
   "cell_type": "code",
   "execution_count": 29,
   "metadata": {},
   "outputs": [
    {
     "data": {
      "text/plain": [
       "torch.Size([128, 140, 42])"
      ]
     },
     "execution_count": 29,
     "metadata": {},
     "output_type": "execute_result"
    }
   ],
   "source": [
    "data[:, 0, :, :].shape"
   ]
  },
  {
   "cell_type": "markdown",
   "metadata": {},
   "source": [
    "# (2) Onehot Combine Sets"
   ]
  },
  {
   "cell_type": "code",
   "execution_count": 40,
   "metadata": {},
   "outputs": [
    {
     "data": {
      "text/html": [
       "<div>\n",
       "<style scoped>\n",
       "    .dataframe tbody tr th:only-of-type {\n",
       "        vertical-align: middle;\n",
       "    }\n",
       "\n",
       "    .dataframe tbody tr th {\n",
       "        vertical-align: top;\n",
       "    }\n",
       "\n",
       "    .dataframe thead th {\n",
       "        text-align: right;\n",
       "    }\n",
       "</style>\n",
       "<table border=\"1\" class=\"dataframe\">\n",
       "  <thead>\n",
       "    <tr style=\"text-align: right;\">\n",
       "      <th></th>\n",
       "      <th>Token</th>\n",
       "      <th>Number</th>\n",
       "      <th>Percentage</th>\n",
       "    </tr>\n",
       "  </thead>\n",
       "  <tbody>\n",
       "    <tr>\n",
       "      <th>0</th>\n",
       "      <td>0</td>\n",
       "      <td>1398</td>\n",
       "      <td>0.01</td>\n",
       "    </tr>\n",
       "    <tr>\n",
       "      <th>1</th>\n",
       "      <td>y</td>\n",
       "      <td>1</td>\n",
       "      <td>0.00</td>\n",
       "    </tr>\n",
       "    <tr>\n",
       "      <th>2</th>\n",
       "      <td>9</td>\n",
       "      <td>4366</td>\n",
       "      <td>0.04</td>\n",
       "    </tr>\n",
       "    <tr>\n",
       "      <th>3</th>\n",
       "      <td>U</td>\n",
       "      <td>12</td>\n",
       "      <td>0.00</td>\n",
       "    </tr>\n",
       "    <tr>\n",
       "      <th>4</th>\n",
       "      <td>Y</td>\n",
       "      <td>12</td>\n",
       "      <td>0.00</td>\n",
       "    </tr>\n",
       "    <tr>\n",
       "      <th>5</th>\n",
       "      <td>T</td>\n",
       "      <td>1136</td>\n",
       "      <td>0.01</td>\n",
       "    </tr>\n",
       "    <tr>\n",
       "      <th>6</th>\n",
       "      <td>Z</td>\n",
       "      <td>60</td>\n",
       "      <td>0.00</td>\n",
       "    </tr>\n",
       "    <tr>\n",
       "      <th>7</th>\n",
       "      <td>V</td>\n",
       "      <td>75</td>\n",
       "      <td>0.00</td>\n",
       "    </tr>\n",
       "    <tr>\n",
       "      <th>8</th>\n",
       "      <td>G</td>\n",
       "      <td>1278</td>\n",
       "      <td>0.01</td>\n",
       "    </tr>\n",
       "    <tr>\n",
       "      <th>9</th>\n",
       "      <td>K</td>\n",
       "      <td>7</td>\n",
       "      <td>0.00</td>\n",
       "    </tr>\n",
       "    <tr>\n",
       "      <th>10</th>\n",
       "      <td>E</td>\n",
       "      <td>6</td>\n",
       "      <td>0.00</td>\n",
       "    </tr>\n",
       "    <tr>\n",
       "      <th>11</th>\n",
       "      <td>b</td>\n",
       "      <td>643</td>\n",
       "      <td>0.01</td>\n",
       "    </tr>\n",
       "    <tr>\n",
       "      <th>12</th>\n",
       "      <td>X</td>\n",
       "      <td>14</td>\n",
       "      <td>0.00</td>\n",
       "    </tr>\n",
       "    <tr>\n",
       "      <th>13</th>\n",
       "      <td>p</td>\n",
       "      <td>1295</td>\n",
       "      <td>0.01</td>\n",
       "    </tr>\n",
       "    <tr>\n",
       "      <th>14</th>\n",
       "      <td>m</td>\n",
       "      <td>6</td>\n",
       "      <td>0.00</td>\n",
       "    </tr>\n",
       "    <tr>\n",
       "      <th>15</th>\n",
       "      <td>D</td>\n",
       "      <td>1</td>\n",
       "      <td>0.00</td>\n",
       "    </tr>\n",
       "    <tr>\n",
       "      <th>16</th>\n",
       "      <td>R</td>\n",
       "      <td>143</td>\n",
       "      <td>0.00</td>\n",
       "    </tr>\n",
       "    <tr>\n",
       "      <th>17</th>\n",
       "      <td>%</td>\n",
       "      <td>1398</td>\n",
       "      <td>0.01</td>\n",
       "    </tr>\n",
       "    <tr>\n",
       "      <th>18</th>\n",
       "      <td>W</td>\n",
       "      <td>295</td>\n",
       "      <td>0.00</td>\n",
       "    </tr>\n",
       "    <tr>\n",
       "      <th>19</th>\n",
       "      <td>f</td>\n",
       "      <td>12</td>\n",
       "      <td>0.00</td>\n",
       "    </tr>\n",
       "    <tr>\n",
       "      <th>20</th>\n",
       "      <td>h</td>\n",
       "      <td>25</td>\n",
       "      <td>0.00</td>\n",
       "    </tr>\n",
       "  </tbody>\n",
       "</table>\n",
       "</div>"
      ],
      "text/plain": [
       "   Token  Number  Percentage\n",
       "0      0    1398        0.01\n",
       "1      y       1        0.00\n",
       "2      9    4366        0.04\n",
       "3      U      12        0.00\n",
       "4      Y      12        0.00\n",
       "5      T    1136        0.01\n",
       "6      Z      60        0.00\n",
       "7      V      75        0.00\n",
       "8      G    1278        0.01\n",
       "9      K       7        0.00\n",
       "10     E       6        0.00\n",
       "11     b     643        0.01\n",
       "12     X      14        0.00\n",
       "13     p    1295        0.01\n",
       "14     m       6        0.00\n",
       "15     D       1        0.00\n",
       "16     R     143        0.00\n",
       "17     %    1398        0.01\n",
       "18     W     295        0.00\n",
       "19     f      12        0.00\n",
       "20     h      25        0.00"
      ]
     },
     "execution_count": 40,
     "metadata": {},
     "output_type": "execute_result"
    }
   ],
   "source": [
    "# PubChem alignment to 188 & lincs\n",
    "specialList = list(set(list(set(charset_140_pc) - set(charset_188))) &  set(list(set(charset_140_pc) - set(charset_140_lincs))))\n",
    "smiles_list_trans = []\n",
    "\n",
    "for t in specialList:\n",
    "    a = 0\n",
    "    for i in smiles_pubchem_list:\n",
    "        if (t in i) & (len(i) <= 140):\n",
    "            a += 1\n",
    "    smiles_list_trans.append(a)\n",
    "nPCTo188LINCS = np.sum(smiles_list_trans)\n",
    "pd.DataFrame({'Token': specialList, 'Number': smiles_list_trans, 'Percentage': [round(float(i/len(len_140_pc)) * 100, 2) for i in smiles_list_trans]})"
   ]
  },
  {
   "cell_type": "code",
   "execution_count": 41,
   "metadata": {},
   "outputs": [
    {
     "data": {
      "text/plain": [
       "9942674"
      ]
     },
     "execution_count": 41,
     "metadata": {},
     "output_type": "execute_result"
    }
   ],
   "source": [
    "# remove strings longer than 140 or with unnecessary tokens\n",
    "charset_140_pc_removal = []\n",
    "smiles_pubchem_removal = []\n",
    "len_140_pc_removal = []\n",
    "specialList = list(set(list(set(charset_140_pc) - set(charset_188))) &  set(list(set(charset_140_pc) - set(charset_140_lincs))))\n",
    "\n",
    "\n",
    "for i in smiles_pubchem_list:\n",
    "    if (len(i) <= 140) & (len(list(set(specialList) & set(i))) == 0):\n",
    "        smiles_pubchem_removal.append(i)\n",
    "        for j in i:\n",
    "            if j not in charset_140_pc_removal:\n",
    "                charset_140_pc_removal.append(j)\n",
    "        len_140_pc_removal.append(len(i))\n",
    "len(len_140_pc_removal)"
   ]
  },
  {
   "cell_type": "code",
   "execution_count": 68,
   "metadata": {},
   "outputs": [
    {
     "data": {
      "text/plain": [
       "9942674"
      ]
     },
     "execution_count": 68,
     "metadata": {},
     "output_type": "execute_result"
    }
   ],
   "source": [
    "len(smiles_pubchem_removal)"
   ]
  },
  {
   "cell_type": "code",
   "execution_count": 42,
   "metadata": {},
   "outputs": [
    {
     "data": {
      "text/html": [
       "<div>\n",
       "<style scoped>\n",
       "    .dataframe tbody tr th:only-of-type {\n",
       "        vertical-align: middle;\n",
       "    }\n",
       "\n",
       "    .dataframe tbody tr th {\n",
       "        vertical-align: top;\n",
       "    }\n",
       "\n",
       "    .dataframe thead th {\n",
       "        text-align: right;\n",
       "    }\n",
       "</style>\n",
       "<table border=\"1\" class=\"dataframe\">\n",
       "  <thead>\n",
       "    <tr style=\"text-align: right;\">\n",
       "      <th></th>\n",
       "      <th>Token</th>\n",
       "      <th>Number</th>\n",
       "      <th>Percentage</th>\n",
       "    </tr>\n",
       "  </thead>\n",
       "  <tbody>\n",
       "    <tr>\n",
       "      <th>0</th>\n",
       "      <td>*</td>\n",
       "      <td>1</td>\n",
       "      <td>0.53</td>\n",
       "    </tr>\n",
       "    <tr>\n",
       "      <th>1</th>\n",
       "      <td>\\</td>\n",
       "      <td>10</td>\n",
       "      <td>5.32</td>\n",
       "    </tr>\n",
       "    <tr>\n",
       "      <th>2</th>\n",
       "      <td>.</td>\n",
       "      <td>29</td>\n",
       "      <td>15.43</td>\n",
       "    </tr>\n",
       "    <tr>\n",
       "      <th>3</th>\n",
       "      <td>@</td>\n",
       "      <td>23</td>\n",
       "      <td>12.23</td>\n",
       "    </tr>\n",
       "    <tr>\n",
       "      <th>4</th>\n",
       "      <td>/</td>\n",
       "      <td>32</td>\n",
       "      <td>17.02</td>\n",
       "    </tr>\n",
       "  </tbody>\n",
       "</table>\n",
       "</div>"
      ],
      "text/plain": [
       "  Token  Number  Percentage\n",
       "0     *       1        0.53\n",
       "1     \\      10        5.32\n",
       "2     .      29       15.43\n",
       "3     @      23       12.23\n",
       "4     /      32       17.02"
      ]
     },
     "execution_count": 42,
     "metadata": {},
     "output_type": "execute_result"
    }
   ],
   "source": [
    "# 188 alignment to PubChem\n",
    "specialList = list(set(charset_188) - set(charset_140_pc_removal))\n",
    "smiles_list_trans = []\n",
    "\n",
    "for t in specialList:\n",
    "    a = 0\n",
    "    for i in smiles_188_list:\n",
    "        if (t in i) & (len(i) <= 140):\n",
    "            a += 1\n",
    "    smiles_list_trans.append(a)\n",
    "n188ToPC = np.sum(smiles_list_trans)\n",
    "pd.DataFrame({'Token': specialList, 'Number': smiles_list_trans, 'Percentage': [round(float(i/188) * 100, 2) for i in smiles_list_trans]})"
   ]
  },
  {
   "cell_type": "code",
   "execution_count": 44,
   "metadata": {},
   "outputs": [
    {
     "data": {
      "text/html": [
       "<div>\n",
       "<style scoped>\n",
       "    .dataframe tbody tr th:only-of-type {\n",
       "        vertical-align: middle;\n",
       "    }\n",
       "\n",
       "    .dataframe tbody tr th {\n",
       "        vertical-align: top;\n",
       "    }\n",
       "\n",
       "    .dataframe thead th {\n",
       "        text-align: right;\n",
       "    }\n",
       "</style>\n",
       "<table border=\"1\" class=\"dataframe\">\n",
       "  <thead>\n",
       "    <tr style=\"text-align: right;\">\n",
       "      <th></th>\n",
       "      <th>Token</th>\n",
       "      <th>Number</th>\n",
       "      <th>Percentage</th>\n",
       "    </tr>\n",
       "  </thead>\n",
       "  <tbody>\n",
       "    <tr>\n",
       "      <th>0</th>\n",
       "      <td>.</td>\n",
       "      <td>40</td>\n",
       "      <td>0.20</td>\n",
       "    </tr>\n",
       "    <tr>\n",
       "      <th>1</th>\n",
       "      <td>\\</td>\n",
       "      <td>224</td>\n",
       "      <td>1.11</td>\n",
       "    </tr>\n",
       "    <tr>\n",
       "      <th>2</th>\n",
       "      <td>/</td>\n",
       "      <td>1088</td>\n",
       "      <td>5.41</td>\n",
       "    </tr>\n",
       "    <tr>\n",
       "      <th>3</th>\n",
       "      <td>@</td>\n",
       "      <td>15661</td>\n",
       "      <td>77.87</td>\n",
       "    </tr>\n",
       "  </tbody>\n",
       "</table>\n",
       "</div>"
      ],
      "text/plain": [
       "  Token  Number  Percentage\n",
       "0     .      40        0.20\n",
       "1     \\     224        1.11\n",
       "2     /    1088        5.41\n",
       "3     @   15661       77.87"
      ]
     },
     "execution_count": 44,
     "metadata": {},
     "output_type": "execute_result"
    }
   ],
   "source": [
    "# lincs alignment to PubChem\n",
    "specialList = list(set(charset_140_lincs) - set(charset_140_pc_removal))\n",
    "smiles_list_trans = []\n",
    "for t in specialList:\n",
    "    a = 0\n",
    "    for i in smiles_lincs_list:\n",
    "        if (t in i) & (len(i) <= 140):\n",
    "            a += 1\n",
    "    smiles_list_trans.append(a)\n",
    "nLINCSToPC = np.sum(smiles_list_trans)\n",
    "pd.DataFrame({'Token': specialList, 'Number': smiles_list_trans, 'Percentage': [round(float(i/len(len_140_lincs)) * 100, 2) for i in smiles_list_trans]})"
   ]
  },
  {
   "cell_type": "code",
   "execution_count": 46,
   "metadata": {},
   "outputs": [
    {
     "data": {
      "text/plain": [
       "41"
      ]
     },
     "execution_count": 46,
     "metadata": {},
     "output_type": "execute_result"
    }
   ],
   "source": [
    "len(charset_140_pc_removal)"
   ]
  },
  {
   "cell_type": "code",
   "execution_count": 47,
   "metadata": {},
   "outputs": [
    {
     "data": {
      "text/plain": [
       "['.', '\\\\', '/', '@']"
      ]
     },
     "execution_count": 47,
     "metadata": {},
     "output_type": "execute_result"
    }
   ],
   "source": [
    "specialList = list(set(list(set(charset_140_lincs) - set(charset_140_pc_removal))) & set(list(set(charset_188) - set(charset_140_pc_removal))))\n",
    "specialList"
   ]
  },
  {
   "cell_type": "code",
   "execution_count": 48,
   "metadata": {},
   "outputs": [],
   "source": [
    "charset_140_pc_removal += specialList\n",
    "if ' ' not in charset_140_pc_removal:\n",
    "    charset_140_pc_removal += [' ']\n"
   ]
  },
  {
   "cell_type": "code",
   "execution_count": 50,
   "metadata": {},
   "outputs": [
    {
     "data": {
      "text/plain": [
       "46"
      ]
     },
     "execution_count": 50,
     "metadata": {},
     "output_type": "execute_result"
    }
   ],
   "source": [
    "len(charset_140_pc_removal)"
   ]
  },
  {
   "cell_type": "code",
   "execution_count": 51,
   "metadata": {},
   "outputs": [],
   "source": [
    "\n",
    "MAX_LEN = 140\n",
    "\n",
    "# onehot representations\n",
    "CHAR_INDICES = dict((c, i) for i, c in enumerate(charset_140_pc_removal))\n",
    "\n",
    "NCHARS = len(CHAR_INDICES)"
   ]
  },
  {
   "cell_type": "code",
   "execution_count": 52,
   "metadata": {},
   "outputs": [],
   "source": [
    "def removeTokenFromSMILE(smiles_list, specialList):\n",
    "    # remove non-occuring tokens\n",
    "    for t in specialList:\n",
    "        smiles_list_trans = []\n",
    "        for i in smiles_list:\n",
    "            if t in i:\n",
    "                smile = ''\n",
    "                for j in i: \n",
    "                    if j != t:\n",
    "                        smile += j\n",
    "                smiles_list_trans.append(smile)\n",
    "            else:\n",
    "                smiles_list_trans.append(i)\n",
    "        smiles_list = smiles_list_trans\n",
    "    return smiles_list\n",
    "\n",
    "specialList = ['*']\n",
    "smiles_188_list_trans = removeTokenFromSMILE(smiles_188_list, specialList)\n",
    "\n",
    "X188 = mu.smiles_to_hot(smiles_188_list_trans, MAX_LEN, params['PADDING'], CHAR_INDICES, NCHARS)\n",
    "\n",
    "path_save = '/nfs/turbo/umms-welchjd/hengshi/perturb_gan/data/smiles/onehot/PubChem10M/RemoveUnnecessaryTokens/OnehotCombineSets/'\n",
    "np.save(os.path.join(path_save, \"OnehotData_188.npy\"), X188)"
   ]
  },
  {
   "cell_type": "code",
   "execution_count": 53,
   "metadata": {},
   "outputs": [
    {
     "data": {
      "text/plain": [
       "(188, 140, 46)"
      ]
     },
     "execution_count": 53,
     "metadata": {},
     "output_type": "execute_result"
    }
   ],
   "source": [
    "X188.shape"
   ]
  },
  {
   "cell_type": "code",
   "execution_count": 54,
   "metadata": {},
   "outputs": [
    {
     "data": {
      "text/plain": [
       "(20113, 140, 46)"
      ]
     },
     "execution_count": 54,
     "metadata": {},
     "output_type": "execute_result"
    }
   ],
   "source": [
    "smiles_lincs_140_list = []\n",
    "for i in range(len(smiles_lincs_list)):\n",
    "    smile = smiles_lincs_list[i]\n",
    "    if (len(smile) <= 140):\n",
    "        smiles_lincs_140_list.append(smile)\n",
    "\n",
    "\n",
    "\n",
    "\n",
    "XLINCS = mu.smiles_to_hot(smiles_lincs_140_list, MAX_LEN, params['PADDING'], CHAR_INDICES, NCHARS)\n",
    "XLINCS.shape"
   ]
  },
  {
   "cell_type": "code",
   "execution_count": 55,
   "metadata": {},
   "outputs": [],
   "source": [
    "np.save(os.path.join(path_save, \"OnehotData_LINCS.npy\"), XLINCS)"
   ]
  },
  {
   "cell_type": "code",
   "execution_count": 59,
   "metadata": {},
   "outputs": [
    {
     "data": {
      "text/plain": [
       "20330"
      ]
     },
     "execution_count": 59,
     "metadata": {},
     "output_type": "execute_result"
    }
   ],
   "source": [
    "smiles_lincs_orList = list(lincs_data.iloc[:, 1])\n",
    "len(smiles_lincs_orList)"
   ]
  },
  {
   "cell_type": "code",
   "execution_count": 60,
   "metadata": {},
   "outputs": [],
   "source": [
    "smiles_lincs_orList = np.array(smiles_lincs_orList)[np.where(np.array(smiles_lincs_orList) != 'restricted')[0]]"
   ]
  },
  {
   "cell_type": "code",
   "execution_count": 62,
   "metadata": {},
   "outputs": [],
   "source": [
    "smiles_lincs_orList_140 = []\n",
    "for i in range(len(smiles_lincs_orList)):\n",
    "    smile = smiles_lincs_list[i]\n",
    "    if (len(smile) <= 140):\n",
    "        smiles_lincs_orList_140.append(smiles_lincs_orList[i])"
   ]
  },
  {
   "cell_type": "code",
   "execution_count": 64,
   "metadata": {},
   "outputs": [
    {
     "data": {
      "text/plain": [
       "20113"
      ]
     },
     "execution_count": 64,
     "metadata": {},
     "output_type": "execute_result"
    }
   ],
   "source": [
    "len(smiles_lincs_orList_140)"
   ]
  },
  {
   "cell_type": "code",
   "execution_count": 65,
   "metadata": {},
   "outputs": [],
   "source": [
    "np.save(os.path.join(path_save, \"OnehotData_LINCS_Smiles.npy\"), np.array(smiles_lincs_orList_140))"
   ]
  },
  {
   "cell_type": "code",
   "execution_count": 69,
   "metadata": {},
   "outputs": [],
   "source": [
    "np.save(os.path.join(path_save, \"charset_140_pc_removal_combine4Set.npy\"), np.array(charset_140_pc_removal))"
   ]
  },
  {
   "cell_type": "code",
   "execution_count": 70,
   "metadata": {},
   "outputs": [
    {
     "data": {
      "text/plain": [
       "46"
      ]
     },
     "execution_count": 70,
     "metadata": {},
     "output_type": "execute_result"
    }
   ],
   "source": [
    "len(charset_140_pc_removal)"
   ]
  },
  {
   "cell_type": "code",
   "execution_count": 71,
   "metadata": {},
   "outputs": [],
   "source": [
    "charset_140_pc_removal = np.load('/nfs/turbo/umms-welchjd/hengshi/perturb_gan/data/smiles/onehot/PubChem10M/RemoveUnnecessaryTokens/charset_140_pc_removal.npy')\n",
    "charset_140_pc_removal = [i for i in charset_140_pc_removal]\n"
   ]
  },
  {
   "cell_type": "code",
   "execution_count": 74,
   "metadata": {},
   "outputs": [],
   "source": [
    "# resume back\n",
    "path_save = '/nfs/turbo/umms-welchjd/hengshi/perturb_gan/data/smiles/onehot/PubChem10M/RemoveUnnecessaryTokens/OnehotCombineSets/'\n",
    "smiles_pubchem_removal = np.load('/nfs/turbo/umms-welchjd/hengshi/perturb_gan/data/smiles/onehot/PubChem10M/RemoveUnnecessaryTokens/PubChem_canonized_removal.npy')\n",
    "charset_140_pc_removal = np.load(os.path.join(path_save, \"charset_140_pc_removal_combine4Set.npy\"))\n",
    "charset_140_pc_removal = [i for i in charset_140_pc_removal]\n",
    "\n",
    "MAX_LEN = 140\n",
    "\n",
    "\n",
    "# onehot representations\n",
    "CHAR_INDICES = dict((c, i) for i, c in enumerate(charset_140_pc_removal))\n",
    "\n",
    "NCHARS = len(CHAR_INDICES)"
   ]
  },
  {
   "cell_type": "code",
   "execution_count": 85,
   "metadata": {},
   "outputs": [],
   "source": [
    "seed = 123; n = 188\n",
    "random_state = np.random.RandomState(seed = seed)\n",
    "permutation = random_state.permutation(n)\n",
    "n_train = int(n * 0.8)\n",
    "n_test = n - n_train\n",
    "indices_test, indices_train = permutation[:n_test], permutation[n_test:]\n"
   ]
  },
  {
   "cell_type": "code",
   "execution_count": 86,
   "metadata": {},
   "outputs": [
    {
     "data": {
      "text/plain": [
       "array([169,  42,  93,  10,  52,  82, 100,  72,  88, 167,   8,  71,  77,\n",
       "        62,  79, 173, 157, 168,  36,  20, 160,  28,  13, 155,  24,  90,\n",
       "       144, 119, 150, 172,  60,   7,  30, 166, 120,  29,  35,   0, 112,\n",
       "        45, 128,  40,  59, 140,  46,   5,  16, 158,  65,  74,  61, 183,\n",
       "        38,  27,  54, 180, 137, 170, 133,  87,   9,   6, 149, 116, 108,\n",
       "       110, 184, 132,  89,  21,  11,  67,   3,  86, 154,  91, 125,  48,\n",
       "       156, 117,  44,  51,   1,  81,  18,  12, 165,  56, 159,  50,  25,\n",
       "       101,  43, 129, 103,  14, 134, 115, 187,  70,  15,  22, 138,  58,\n",
       "        75,  64,  69, 181, 131,  76,  34,  94, 118,  97, 102,  92, 124,\n",
       "        99, 105, 135, 175, 162, 185,  39,  84,   2,  55,  49,  68, 178,\n",
       "       164,  78, 182, 153, 111,  32,  73,  47, 186, 113,  96,  57, 123,\n",
       "       106,  83,  17,  98,  66, 126, 109])"
      ]
     },
     "execution_count": 86,
     "metadata": {},
     "output_type": "execute_result"
    }
   ],
   "source": [
    "indices_train"
   ]
  },
  {
   "cell_type": "code",
   "execution_count": 87,
   "metadata": {},
   "outputs": [],
   "source": [
    "import h5py\n",
    "h5f = h5py.File(os.path.join(path_save, 'OnehotData_188_train.h5'),'w')\n",
    "h5f.create_dataset('data', data = X188[indices_train])\n",
    "h5f.create_dataset('indice', data = indices_train)\n",
    "h5f.close()"
   ]
  },
  {
   "cell_type": "code",
   "execution_count": 88,
   "metadata": {},
   "outputs": [],
   "source": [
    "h5f = h5py.File(os.path.join(path_save, 'OnehotData_188_test.h5'),'w')\n",
    "h5f.create_dataset('data', data = X188[indices_test])\n",
    "h5f.create_dataset('indice', data = indices_test)\n",
    "h5f.close()"
   ]
  },
  {
   "cell_type": "code",
   "execution_count": 83,
   "metadata": {},
   "outputs": [
    {
     "data": {
      "text/plain": [
       "(20113, 140, 46)"
      ]
     },
     "execution_count": 83,
     "metadata": {},
     "output_type": "execute_result"
    }
   ],
   "source": [
    "XLINCS.shape"
   ]
  },
  {
   "cell_type": "code",
   "execution_count": 89,
   "metadata": {},
   "outputs": [],
   "source": [
    "seed = 123; n = XLINCS.shape[0]\n",
    "random_state = np.random.RandomState(seed = seed)\n",
    "permutation = random_state.permutation(n)\n",
    "n_train = int(n * 0.8)\n",
    "n_test = n - n_train\n",
    "indices_test, indices_train = permutation[:n_test], permutation[n_test:]\n"
   ]
  },
  {
   "cell_type": "code",
   "execution_count": 90,
   "metadata": {},
   "outputs": [],
   "source": [
    "h5f = h5py.File(os.path.join(path_save, 'OnehotData_LINCS_train.h5'),'w')\n",
    "h5f.create_dataset('data', data = XLINCS[indices_train])\n",
    "h5f.create_dataset('indice', data = indices_train)\n",
    "h5f.close()"
   ]
  },
  {
   "cell_type": "code",
   "execution_count": 91,
   "metadata": {},
   "outputs": [],
   "source": [
    "h5f = h5py.File(os.path.join(path_save, 'OnehotData_LINCS_test.h5'),'w')\n",
    "h5f.create_dataset('data', data = XLINCS[indices_test])\n",
    "h5f.create_dataset('indice', data = indices_test)\n",
    "h5f.close()"
   ]
  },
  {
   "cell_type": "code",
   "execution_count": 92,
   "metadata": {},
   "outputs": [
    {
     "data": {
      "text/plain": [
       "(4023,)"
      ]
     },
     "execution_count": 92,
     "metadata": {},
     "output_type": "execute_result"
    }
   ],
   "source": [
    "indices_test.shape"
   ]
  },
  {
   "cell_type": "code",
   "execution_count": 93,
   "metadata": {},
   "outputs": [],
   "source": [
    "h5f = h5py.File(os.path.join(path_save, 'OnehotData_LINCS_train.h5'), 'r')"
   ]
  },
  {
   "cell_type": "code",
   "execution_count": 94,
   "metadata": {},
   "outputs": [
    {
     "data": {
      "text/plain": [
       "(16090, 140, 46)"
      ]
     },
     "execution_count": 94,
     "metadata": {},
     "output_type": "execute_result"
    }
   ],
   "source": [
    "h5f['data'].shape"
   ]
  },
  {
   "cell_type": "code",
   "execution_count": 96,
   "metadata": {},
   "outputs": [
    {
     "data": {
      "text/plain": [
       "<HDF5 dataset \"indice\": shape (16090,), type \"<i8\">"
      ]
     },
     "execution_count": 96,
     "metadata": {},
     "output_type": "execute_result"
    }
   ],
   "source": [
    "h5f['indice']"
   ]
  },
  {
   "cell_type": "code",
   "execution_count": 97,
   "metadata": {},
   "outputs": [],
   "source": [
    "h5f.close()"
   ]
  },
  {
   "cell_type": "code",
   "execution_count": 9,
   "metadata": {},
   "outputs": [],
   "source": [
    "# resume back\n",
    "path_save = '/scratch/welchjd_root/welchjd/hengshi/GAN/perturb_gan/data/smiles/onehot/PubChem10M/RemoveUnnecessaryTokens/OnehotCombineSets/'\n",
    "smiles_pubchem_removal = np.load('/nfs/turbo/umms-welchjd/hengshi/perturb_gan/data/smiles/onehot/PubChem10M/RemoveUnnecessaryTokens/PubChem_canonized_removal.npy')\n",
    "path_save_turbo = '/nfs/turbo/umms-welchjd/hengshi/perturb_gan/data/smiles/onehot/PubChem10M/RemoveUnnecessaryTokens/OnehotCombineSets/'\n",
    "charset_140_pc_removal = np.load(os.path.join(path_save_turbo, \"charset_140_pc_removal_combine4Set.npy\"))\n",
    "charset_140_pc_removal = [i for i in charset_140_pc_removal]\n",
    "\n",
    "MAX_LEN = 140\n",
    "\n",
    "# onehot representations\n",
    "CHAR_INDICES = dict((c, i) for i, c in enumerate(charset_140_pc_removal))\n",
    "\n",
    "NCHARS = len(CHAR_INDICES)"
   ]
  },
  {
   "cell_type": "code",
   "execution_count": 11,
   "metadata": {},
   "outputs": [
    {
     "data": {
      "text/plain": [
       "46"
      ]
     },
     "execution_count": 11,
     "metadata": {},
     "output_type": "execute_result"
    }
   ],
   "source": [
    "len(charset_140_pc_removal)"
   ]
  },
  {
   "cell_type": "code",
   "execution_count": 15,
   "metadata": {},
   "outputs": [],
   "source": [
    "index_shuffle_mo =  list(range(len(smiles_pubchem_removal)))\n",
    "np.random.seed(seed=123)\n",
    "np.random.shuffle(index_shuffle_mo)"
   ]
  },
  {
   "cell_type": "code",
   "execution_count": 18,
   "metadata": {},
   "outputs": [],
   "source": [
    "np.save('/nfs/turbo/umms-welchjd/hengshi/perturb_gan/data/smiles/onehot/PubChem10M/RemoveUnnecessaryTokens/PubChem_canonized_removal_ShuffleIndices.npy', np.array(index_shuffle_mo))"
   ]
  },
  {
   "cell_type": "code",
   "execution_count": 22,
   "metadata": {},
   "outputs": [],
   "source": [
    "smiles_pubchem_removal = smiles_pubchem_removal[index_shuffle_mo]"
   ]
  },
  {
   "cell_type": "code",
   "execution_count": 23,
   "metadata": {},
   "outputs": [
    {
     "name": "stdout",
     "output_type": "stream",
     "text": [
      "Processing: i=[0:100000]\n",
      "Processing: i=[100000:200000]\n",
      "Processing: i=[200000:300000]\n",
      "Processing: i=[300000:400000]\n",
      "Processing: i=[400000:500000]\n",
      "Processing: i=[500000:600000]\n",
      "Processing: i=[600000:700000]\n",
      "Processing: i=[700000:800000]\n",
      "Processing: i=[800000:900000]\n",
      "Processing: i=[900000:1000000]\n",
      "Processing: i=[1000000:1100000]\n",
      "Processing: i=[1100000:1200000]\n",
      "Processing: i=[1200000:1300000]\n",
      "Processing: i=[1300000:1400000]\n",
      "Processing: i=[1400000:1500000]\n",
      "Processing: i=[1500000:1600000]\n",
      "Processing: i=[1600000:1700000]\n",
      "Processing: i=[1700000:1800000]\n",
      "Processing: i=[1800000:1900000]\n",
      "Processing: i=[1900000:2000000]\n"
     ]
    }
   ],
   "source": [
    "nport = 2000000 \n",
    "n = 100000\n",
    "OH1 = np.zeros((nport, MAX_LEN, NCHARS))\n",
    "for i in range(0, nport, n):\n",
    "    print('Processing: i=[' + str(i) + ':' + str(i+n) + ']')\n",
    "    onehot = mu.smiles_to_hot(smiles_pubchem_removal[i:(i+n)], MAX_LEN, params['PADDING'], CHAR_INDICES, NCHARS)\n",
    "    OH1[i:i+n,:,:] = onehot"
   ]
  },
  {
   "cell_type": "code",
   "execution_count": 25,
   "metadata": {},
   "outputs": [
    {
     "data": {
      "text/plain": [
       "'/scratch/welchjd_root/welchjd/hengshi/GAN/perturb_gan/data/smiles/onehot/PubChem10M/RemoveUnnecessaryTokens/OnehotCombineSets/'"
      ]
     },
     "execution_count": 25,
     "metadata": {},
     "output_type": "execute_result"
    }
   ],
   "source": [
    "path_save"
   ]
  },
  {
   "cell_type": "code",
   "execution_count": 27,
   "metadata": {},
   "outputs": [],
   "source": [
    "import h5py\n",
    "h5f = h5py.File(os.path.join(path_save, 'OnehotData_1.h5'),'w')\n",
    "h5f.create_dataset('data', data = OH1)\n",
    "h5f.close()"
   ]
  },
  {
   "cell_type": "code",
   "execution_count": 9,
   "metadata": {},
   "outputs": [],
   "source": [
    "# resume back\n",
    "path_save = '/scratch/welchjd_root/welchjd/hengshi/GAN/perturb_gan/data/smiles/onehot/PubChem10M/RemoveUnnecessaryTokens/OnehotCombineSets/'\n",
    "smiles_pubchem_removal = np.load('/nfs/turbo/umms-welchjd/hengshi/perturb_gan/data/smiles/onehot/PubChem10M/RemoveUnnecessaryTokens/PubChem_canonized_removal.npy')\n",
    "path_save_turbo = '/nfs/turbo/umms-welchjd/hengshi/perturb_gan/data/smiles/onehot/PubChem10M/RemoveUnnecessaryTokens/OnehotCombineSets/'\n",
    "charset_140_pc_removal = np.load(os.path.join(path_save_turbo, \"charset_140_pc_removal_combine4Set.npy\"))\n",
    "charset_140_pc_removal = [i for i in charset_140_pc_removal]\n",
    "\n",
    "MAX_LEN = 140\n",
    "index_shuffle_mo = np.load('/nfs/turbo/umms-welchjd/hengshi/perturb_gan/data/smiles/onehot/PubChem10M/RemoveUnnecessaryTokens/PubChem_canonized_removal_ShuffleIndices.npy')\n",
    "smiles_pubchem_removal = smiles_pubchem_removal[index_shuffle_mo]\n",
    "\n",
    "# onehot representations\n",
    "CHAR_INDICES = dict((c, i) for i, c in enumerate(charset_140_pc_removal))\n",
    "\n",
    "NCHARS = len(CHAR_INDICES)"
   ]
  },
  {
   "cell_type": "code",
   "execution_count": 9,
   "metadata": {},
   "outputs": [
    {
     "name": "stdout",
     "output_type": "stream",
     "text": [
      "Processing: i=[2000000:2100000]\n",
      "Processing: i=[2100000:2200000]\n",
      "Processing: i=[2200000:2300000]\n",
      "Processing: i=[2300000:2400000]\n",
      "Processing: i=[2400000:2500000]\n",
      "Processing: i=[2500000:2600000]\n",
      "Processing: i=[2600000:2700000]\n",
      "Processing: i=[2700000:2800000]\n",
      "Processing: i=[2800000:2900000]\n",
      "Processing: i=[2900000:3000000]\n",
      "Processing: i=[3000000:3100000]\n",
      "Processing: i=[3100000:3200000]\n",
      "Processing: i=[3200000:3300000]\n",
      "Processing: i=[3300000:3400000]\n",
      "Processing: i=[3400000:3500000]\n",
      "Processing: i=[3500000:3600000]\n",
      "Processing: i=[3600000:3700000]\n",
      "Processing: i=[3700000:3800000]\n",
      "Processing: i=[3800000:3900000]\n",
      "Processing: i=[3900000:4000000]\n"
     ]
    }
   ],
   "source": [
    "nport = 2000000 \n",
    "n = 100000\n",
    "\n",
    "OH1 = np.zeros((nport,MAX_LEN,NCHARS))\n",
    "for i in range(0, nport, n):\n",
    "    print('Processing: i=[' + str(i + nport) + ':' + str(i+ nport+n) + ']')\n",
    "    onehot = mu.smiles_to_hot(smiles_pubchem_removal[(i + nport):(i+nport + n)], MAX_LEN, 'right', CHAR_INDICES, NCHARS)\n",
    "    OH1[i:(i+n),:,:] = onehot"
   ]
  },
  {
   "cell_type": "code",
   "execution_count": 10,
   "metadata": {},
   "outputs": [],
   "source": [
    "import h5py\n",
    "h5f = h5py.File(os.path.join(path_save, 'OnehotData_2.h5'),'w')\n",
    "h5f.create_dataset('data', data = OH1)\n",
    "h5f.close()"
   ]
  },
  {
   "cell_type": "code",
   "execution_count": 9,
   "metadata": {},
   "outputs": [
    {
     "name": "stdout",
     "output_type": "stream",
     "text": [
      "Processing: i=[4000000:4100000]\n",
      "Processing: i=[4100000:4200000]\n",
      "Processing: i=[4200000:4300000]\n",
      "Processing: i=[4300000:4400000]\n",
      "Processing: i=[4400000:4500000]\n",
      "Processing: i=[4500000:4600000]\n",
      "Processing: i=[4600000:4700000]\n",
      "Processing: i=[4700000:4800000]\n",
      "Processing: i=[4800000:4900000]\n",
      "Processing: i=[4900000:5000000]\n",
      "Processing: i=[5000000:5100000]\n",
      "Processing: i=[5100000:5200000]\n",
      "Processing: i=[5200000:5300000]\n",
      "Processing: i=[5300000:5400000]\n",
      "Processing: i=[5400000:5500000]\n",
      "Processing: i=[5500000:5600000]\n",
      "Processing: i=[5600000:5700000]\n",
      "Processing: i=[5700000:5800000]\n",
      "Processing: i=[5800000:5900000]\n",
      "Processing: i=[5900000:6000000]\n"
     ]
    }
   ],
   "source": [
    "nport = 2000000 \n",
    "n = 100000\n",
    "\n",
    "OH1 = np.zeros((nport,MAX_LEN,NCHARS))\n",
    "for i in range(0, nport, n):\n",
    "    print('Processing: i=[' + str(i + nport * 2) + ':' + str(i+ nport * 2+n) + ']')\n",
    "    onehot = mu.smiles_to_hot(smiles_pubchem_removal[(i + nport * 2):(i+nport * 2 + n)], MAX_LEN, 'right', CHAR_INDICES, NCHARS)\n",
    "    OH1[i:(i+n),:,:] = onehot"
   ]
  },
  {
   "cell_type": "code",
   "execution_count": 10,
   "metadata": {},
   "outputs": [],
   "source": [
    "import h5py\n",
    "h5f = h5py.File(os.path.join(path_save, 'OnehotData_3.h5'),'w')\n",
    "h5f.create_dataset('data', data = OH1)\n",
    "h5f.close()"
   ]
  },
  {
   "cell_type": "code",
   "execution_count": 9,
   "metadata": {},
   "outputs": [
    {
     "name": "stdout",
     "output_type": "stream",
     "text": [
      "Processing: i=[6000000:6100000]\n",
      "Processing: i=[6100000:6200000]\n",
      "Processing: i=[6200000:6300000]\n",
      "Processing: i=[6300000:6400000]\n",
      "Processing: i=[6400000:6500000]\n",
      "Processing: i=[6500000:6600000]\n",
      "Processing: i=[6600000:6700000]\n",
      "Processing: i=[6700000:6800000]\n",
      "Processing: i=[6800000:6900000]\n",
      "Processing: i=[6900000:7000000]\n",
      "Processing: i=[7000000:7100000]\n",
      "Processing: i=[7100000:7200000]\n",
      "Processing: i=[7200000:7300000]\n",
      "Processing: i=[7300000:7400000]\n",
      "Processing: i=[7400000:7500000]\n",
      "Processing: i=[7500000:7600000]\n",
      "Processing: i=[7600000:7700000]\n",
      "Processing: i=[7700000:7800000]\n",
      "Processing: i=[7800000:7900000]\n",
      "Processing: i=[7900000:8000000]\n"
     ]
    }
   ],
   "source": [
    "nport = 2000000 \n",
    "n = 100000\n",
    "MAX_LEN = 140\n",
    "NCHARS = len(CHAR_INDICES)\n",
    "OH1 = np.zeros((nport,MAX_LEN,NCHARS))\n",
    "for i in range(0, nport, n):\n",
    "    print('Processing: i=[' + str(i + nport * 3) + ':' + str(i+ nport * 3+n) + ']')\n",
    "    onehot = mu.smiles_to_hot(smiles_pubchem_removal[(i + nport * 3):(i+nport * 3 + n)], MAX_LEN, 'right', CHAR_INDICES, NCHARS)\n",
    "    OH1[i:(i+n),:,:] = onehot"
   ]
  },
  {
   "cell_type": "code",
   "execution_count": 10,
   "metadata": {},
   "outputs": [],
   "source": [
    "import h5py\n",
    "h5f = h5py.File(os.path.join(path_save, 'OnehotData_4.h5'),'w')\n",
    "h5f.create_dataset('data', data = OH1)\n",
    "h5f.close()"
   ]
  },
  {
   "cell_type": "code",
   "execution_count": 10,
   "metadata": {},
   "outputs": [
    {
     "name": "stdout",
     "output_type": "stream",
     "text": [
      "Processing: i=[8000000:8100000]\n",
      "Processing: i=[8100000:8200000]\n",
      "Processing: i=[8200000:8300000]\n",
      "Processing: i=[8300000:8400000]\n",
      "Processing: i=[8400000:8500000]\n",
      "Processing: i=[8500000:8600000]\n",
      "Processing: i=[8600000:8700000]\n",
      "Processing: i=[8700000:8800000]\n",
      "Processing: i=[8800000:8900000]\n",
      "Processing: i=[8900000:9000000]\n",
      "Processing: i=[9000000:9100000]\n",
      "Processing: i=[9100000:9200000]\n",
      "Processing: i=[9200000:9300000]\n",
      "Processing: i=[9300000:9400000]\n",
      "Processing: i=[9400000:9500000]\n",
      "Processing: i=[9500000:9600000]\n",
      "Processing: i=[9600000:9700000]\n",
      "Processing: i=[9700000:9800000]\n",
      "Processing: i=[9800000:9900000]\n",
      "Processing: i=[9900000:9942674]\n"
     ]
    }
   ],
   "source": [
    "nport = 2000000 \n",
    "n_last = len(smiles_pubchem_removal) - nport * 4\n",
    "\n",
    "n = 100000\n",
    "OH1 = np.zeros((n_last, MAX_LEN, NCHARS))\n",
    "for i in range(0, n_last, n):\n",
    "    n_use = min(len(smiles_pubchem_removal), i + nport * 4 + n)\n",
    "    print('Processing: i=[' + str(i + nport * 4) + ':' + str(n_use) + ']')\n",
    "    onehot = mu.smiles_to_hot(smiles_pubchem_removal[(i + nport * 4):(n_use)], MAX_LEN, 'right', CHAR_INDICES, NCHARS)\n",
    "    OH1[i:(n_use - nport * 4),:,:] = onehot"
   ]
  },
  {
   "cell_type": "code",
   "execution_count": 11,
   "metadata": {},
   "outputs": [],
   "source": [
    "import h5py\n",
    "h5f = h5py.File(os.path.join(path_save, 'OnehotData_5.h5'),'w')\n",
    "h5f.create_dataset('data', data = OH1)\n",
    "h5f.close()"
   ]
  },
  {
   "cell_type": "code",
   "execution_count": 12,
   "metadata": {},
   "outputs": [
    {
     "data": {
      "text/plain": [
       "(1942674, 140, 46)"
      ]
     },
     "execution_count": 12,
     "metadata": {},
     "output_type": "execute_result"
    }
   ],
   "source": [
    "OH1.shape"
   ]
  },
  {
   "cell_type": "markdown",
   "metadata": {},
   "source": [
    "# Test Draw Code"
   ]
  },
  {
   "cell_type": "code",
   "execution_count": 1,
   "metadata": {},
   "outputs": [
    {
     "name": "stdout",
     "output_type": "stream",
     "text": [
      "2020.09.1\n"
     ]
    }
   ],
   "source": [
    "from rdkit import Chem\n",
    "from rdkit.Chem import Draw\n",
    "from rdkit.Chem.Draw import SimilarityMaps\n",
    "from IPython.display import SVG\n",
    "import io\n",
    "from PIL import Image\n",
    "import numpy as np\n",
    "import rdkit\n",
    "print(rdkit.__version__)"
   ]
  },
  {
   "cell_type": "code",
   "execution_count": 2,
   "metadata": {},
   "outputs": [
    {
     "data": {
      "image/png": "[encoded data removed]",
      "text/plain": [
       "<IPython.core.display.Image object>"
      ]
     },
     "execution_count": 2,
     "metadata": {},
     "output_type": "execute_result"
    }
   ],
   "source": [
    "\n",
    "atorvastatin = Chem.MolFromSmiles('O=C(O)C[C@H](O)C[C@H](O)CCn2c(c(c(c2c1ccc(F)cc1)c3ccccc3)C(=O)Nc4ccccc4)C(C)C')\n",
    "rosuvastatin = Chem.MolFromSmiles('OC(=O)C[C@H](O)C[C@H](O)\\C=C\\c1c(C(C)C)nc(N(C)S(=O)(=O)C)nc1c2ccc(F)cc2')\n",
    "Draw.MolsToGridImage((atorvastatin,rosuvastatin))"
   ]
  },
  {
   "cell_type": "code",
   "execution_count": 3,
   "metadata": {},
   "outputs": [],
   "source": [
    "\n",
    "def show_png(data):\n",
    "    bio = io.BytesIO(data)\n",
    "    img = Image.open(bio)\n",
    "    return img"
   ]
  },
  {
   "cell_type": "code",
   "execution_count": 10,
   "metadata": {},
   "outputs": [
    {
     "data": {
      "image/png": "[encoded data removed]",
      "text/plain": [
       "<PIL.PngImagePlugin.PngImageFile image mode=RGB size=400x400 at 0x2B4E0BEDCEB8>"
      ]
     },
     "execution_count": 10,
     "metadata": {},
     "output_type": "execute_result"
    }
   ],
   "source": [
    "\n",
    "d = Draw.MolDraw2DCairo(400, 400)\n",
    "a, maxWeight = SimilarityMaps.GetSimilarityMapForFingerprint(atorvastatin, rosuvastatin, \n",
    "                                        lambda m, i: SimilarityMaps.GetMorganFingerprint(m, i, radius=2, fpType='bv'), \n",
    "                                        draw2d=d)\n",
    "d.FinishDrawing()\n",
    "show_png(d.GetDrawingText())"
   ]
  },
  {
   "cell_type": "code",
   "execution_count": 11,
   "metadata": {},
   "outputs": [
    {
     "data": {
      "text/plain": [
       "0.11519364448857994"
      ]
     },
     "execution_count": 11,
     "metadata": {},
     "output_type": "execute_result"
    }
   ],
   "source": [
    "maxWeight"
   ]
  },
  {
   "cell_type": "code",
   "execution_count": 12,
   "metadata": {},
   "outputs": [
    {
     "data": {
      "text/plain": [
       "<rdkit.Chem.Draw.rdMolDraw2D.MolDraw2DCairo at 0x2b4e0bedc030>"
      ]
     },
     "execution_count": 12,
     "metadata": {},
     "output_type": "execute_result"
    }
   ],
   "source": [
    "a"
   ]
  },
  {
   "cell_type": "code",
   "execution_count": 6,
   "metadata": {},
   "outputs": [],
   "source": [
    "bio = io.BytesIO(d.GetDrawingText())"
   ]
  },
  {
   "cell_type": "code",
   "execution_count": 7,
   "metadata": {},
   "outputs": [
    {
     "data": {
      "text/plain": [
       "<_io.BytesIO at 0x2b4e0be9bd58>"
      ]
     },
     "execution_count": 7,
     "metadata": {},
     "output_type": "execute_result"
    }
   ],
   "source": [
    "bio"
   ]
  },
  {
   "cell_type": "code",
   "execution_count": 13,
   "metadata": {},
   "outputs": [
    {
     "data": {
      "text/plain": [
       "b'\\x89PNG\\r\\n\\x1a\\n\\x00\\x00\\x00\\rIHDR\\x00\\x00\\x01\\x90\\x00\\x00\\x01\\x90\\x08\\x02\\x00\\x00\\x00\\x0f\\xdd\\xa1\\x9b\\x00\\x00\\x00\\x06bKGD\\x00\\xff\\x00\\xff\\x00\\xff\\xa0\\xbd\\xa7\\x93\\x00\\x00 \\x00IDATx\\x9c\\xec\\xbdw\\x98\\\\\\xdbU\\'\\xba\\xd6\\xde\\xa7ruW\\xe7\\x9c$\\xb5Z9\\xb5rN\\xf7\\xea\\x06g\\xc3c`0\\x86\\xc77\\xc6\\x0c<\\xe0\\x83!3\\x0c|\\xdf\\xbc\\x87\\xcd0\\xf0l\\x0c\\x1e\\xfc\\x98a\\x98\\x81o\\xc0cc\\xe3\\xc8\\xe5\\x06\\xddke\\xb5Z9K-u\\xb7B+t\\xb7:V<g\\xaf\\xf5\\xfe\\xd8\\xfb\\x9c\\xaa\\xbe\\xc1\\xd87Hjy\\xff\\xbe{K\\xdd\\xd5\\xa7\\xaaN\\xeds\\xf6o\\xaf\\xf5[a#3\\x83\\x85\\x85\\x85\\xc5l\\x80x\\xd4\\'`aaa\\xf1\\xbd\\xc2\\x12\\x96\\x85\\x85\\xc5\\xac\\x81%,\\x0b\\x0b\\x8bY\\x03KX\\x16\\x16\\x16\\xb3\\x06\\x96\\xb0,,,f\\r,aYXX\\xcc\\x1aX\\xc2\\xb2\\xb0\\xb0\\x985\\xb0\\x84eaa1k`\\t\\xcb\\xc2\\xc2b\\xd6\\xc0\\x12\\x96\\x85\\x85\\xc5\\xac\\x81%,\\x0b\\x0b\\x8bY\\x03KX\\x16\\x16\\x16\\xb3\\x06\\x96\\xb0,,,f\\r,aYXX\\xcc\\x1aX\\xc2\\xb2\\xb0\\xb0\\x985\\xb0\\x84eaa1k`\\t\\xcb\\xc2\\xc2b\\xd6\\xc0\\x12\\x96\\x85\\x85\\xc5\\xac\\x81%,\\x0b\\x0b\\x8bY\\x03KX\\x16\\x16\\x16\\xb3\\x06\\x96\\xb0,,,f\\r,aYXX\\xcc\\x1aX\\xc2\\xb2\\xb0\\xb0\\x985\\xb0\\x84eaa1k`\\t\\xcb\\xc2\\xc2b\\xd6\\xc0\\x12\\x96\\x85\\x85\\xc5\\xac\\x81%,\\x0b\\x0b\\x8bY\\x03KX\\x16\\x16\\x16\\xb3\\x06\\x96\\xb0,,,f\\r,aYXX\\xcc\\x1aX\\xc2\\xb2\\xb0\\xb0\\x985\\xb0\\x84eaa1k`\\t\\xcb\\xc2\\xc2b\\xd6\\xc0\\x12\\x96\\x85\\x85\\xc5\\xac\\x81%,\\x0b\\x0b\\x8bY\\x03KX\\x16\\x16\\x16\\xb3\\x06\\x96\\xb0,,,f\\r,aYXX\\xcc\\x1aX\\xc2\\xb2\\xb0\\xb0\\x985\\xb0\\x84eaa1k`\\t\\xcb\\xc2\\xc2b\\xd6\\xc0\\x12\\x96\\x85\\x85\\xc5\\xac\\x81%,\\x0b\\x0b\\x8bY\\x03KX\\x16\\x16\\x16\\xb3\\x06\\x96\\xb0,,,f\\r,aYXX\\xcc\\x1aX\\xc2\\xb2\\xb0\\xb0\\x985\\xb0\\x84eaa1k`\\t\\xcb\\xc2\\xc2b\\xd6\\xc0\\x12\\x96\\x85\\x85\\xc5\\xac\\x81%,\\x0b\\x0b\\x8bY\\x03KX\\x16\\x16\\x16\\xb3\\x06\\x96\\xb0,,,f\\r,aYXX\\xcc\\x1aX\\xc2\\xb2\\xb0\\xb0\\x985\\xb0\\x84eaa1k`\\t\\xcb\\xc2\\xc2b\\xd6\\xc0\\x12\\x96\\x85\\x85\\xc5\\xac\\x81%,\\x0b\\x0b\\x8bY\\x03KX\\x16\\x16\\x16\\xb3\\x06\\x96\\xb0,,,f\\r,aYXX\\xcc\\x1aX\\xc2\\xb2\\xb0\\xb0\\x985\\xb0\\x84eaa1k`\\t\\xcb\\xc2\\xc2b\\xd6\\xc0\\x12\\x96\\x85\\x85\\xc5\\xac\\x81%,\\x0b\\x0b\\x8bY\\x03KX\\x16\\x16\\x16\\xb3\\x06\\x96\\xb0,,,f\\r,aYXX\\xcc\\x1aX\\xc2\\xb2\\xb0\\xb0\\x985\\xb0\\x84eaa1k`\\t\\xcb\\xc2\\xc2b\\xd6\\xc0y\\xd4\\'`a\\xf1\\xdd\\xc0\\xc0\\x08\\xc8\\xcc\\x80\\x00\\x0co\\xf5\\x88\\x88\\xcc\\x8c\\x88\\x8f\\xfa|-\\xde[ 3?\\xeas\\xb0\\xb0xs03\\x0333\\x02\\x1a\\xe6z\\x8bG}<\"Z\\xcez\\xb2a\\t\\xcb\\xe2\\xb1\\x03\\x03\\xfb\\xff0\\x00\\xfc\\x8b\\xb7h@X\\x00\\x10\\x10\\x96e\\xae\\'\\x12\\xd6%\\xb4x\\xbc`\\xac*CW,@h\\xc7O{|\\xcc\\x84\\x88\\xa4\\xbd?\\xed\\x0f\\x82q\\t\\x01\\x80\\x81\\x98A?\\x8b\\x80\\x02\\xadD\\xfb\\xa4\\xc1ZX\\x16\\x8f\\x11\\xf4\\xddX$,ss\\xb2\\xf9\\x1f\\x00\\xcc\\x01\\x81\\x13\\x18\\xfc\\x1f\\xfc\\x14\\xfc\\x05\\x11\\x8d\\xedUj\\x82\\xfd\\xe0\\x82K~\\xd0\\xe31\\x0bG\\xc5ZX\\x16\\x8f\\x0b\\x88)\\x90\\xab|\\x95\\x9d\\x01\\x90\\x80\\x04\\x08b\\x12\\x88\\xc4\\x84\\x08\\xc4\\x00\\x9a\\x92@\\xbf\\x02\\x04\\x08\\x00\\xa3i\\x01\\x82~\\x93\\xe2\\x14\\xc5\\x1ft\\xceb\\x9ai\\x97\\xe8\\x01\\x9c\\x85^\\xb3%,\\x8b\\xc7\\x02\\xda\\x13\\x04\\x00\\x02\\x02_\\xbfb\\xfd3s:\\x97\\x19\\x19\\x1e\\xbew\\xff\\xbe\\xe7\\xba\\x0f\\xc6\\xc6\\xca\\xcb\\xcar\\xb9\\\\}}C<\\x11ohh\\x88\\xc5b\\x84\\x04\\x08\\xc8\\xc8\\xc8\\x82\\xb5Y\\x15\\x04\\x11\\ru\\xfd r\\x96\\x1e\\xd47\\xff\\xde\\x0c\\xacG\\xc8X\\xa1\\xb3\\x02\\xd6%\\xb4x\\xf4`fb\\x02\\x06F& d\\xd4\\xfc\\x95/\\xe4\\xaf]\\xb9v\\xed\\xda\\xb5\\x91\\xe1\\x91\\xa6\\xe6F\\x00\\xa8\\xab\\xaf\\'\\xa2h$215\\xa9\\\\u\\xfb\\xf6-)\\x9dH$\\xdc\\xde\\xde\\xb1`\\xd1\\x82h$\\x8a\\x80\\x88\\x80(\\xb4UU\\xea\\x11\\x16]\\xc4\\x1f\\x0c\\x04b \\x00\\x00\\xbc1\\xb8\\xaa\\x9f\\xf6=h1;F\\xc6\\x12\\x96\\xc5#\\x86\\xf6\\x04\\xc1\\x17\\xb0\\x08\\x08\\x18<\\xe5\\x9d={\\xb6\\xffZ\\x7f4\\x1a\\xedZ0\\xbf\\xb5\\xad\\rP\\x1f\\xa3_\\xc4\\xe0{4L<t{\\xa8\\xefj\\xdf\\xc5\\x0b\\x97\\xb6\\xef\\xd8\\xbex\\xe9\\xe2\\x90\\x13B\\x93\\xe0\\xa0)\\xca\\x10\\x97\\xd1\\xb9f\\xa1\\x1f\\xf4}\\x81\\xb9\\xc4\\x17.\\xf5\\x8b\\xdf\\x1483l\\xf1\\xd8\\x0f\\x8e%,\\x8bG\\tm[10220\\x03\\x91\\xe2\\x91\\xd1\\xe1\\xbd/\\xef-+/_\\xd9\\xbd\\xa2\\xa6\\xb6F)\\x85\\x88\\x8a\\x14\"\\x10\\xf9N\\x1eh>b\\x04\\x01\\x00B\\x88\\x91\\xe1\\x91\\xa3\\x87{\\x98x\\xc3\\xa6\\xf5\\xcdMM\\x80\\xe2u\\xd6\\x96\\xfe\\xc4\\'\\xdb\\xce2l\\xa5#\\x13\\xda\\'f\\x00\\x04f@\\xf4g\\xba\\xc9\\xb6-\\x06*\\xc0\\xff\\x13\\x8a\\xc7=\\xaej\\t\\xcb\\xe2\\x91\\x815\\xb4~e\\x92\\x12\\xf8\\xfa\\xb5\\xfeo}\\xf3[\\xbb\\x9e\\xde\\xd9\\xd5\\xd5\\xa5H\\x01\\x00\\x91\\x02@b\\x05\\x08D\\xc5\\x0cw\\xcd:Bh\\xd3@\"\\xa0\\x10\\xe2Z\\xdf\\xb5sg\\xce-Z\\xbcp\\xe9\\xd2%\\x88\\x02A\\x18[\\x0b\\xc4\\x0f\\x84cH%\\xe9k`\\xe2\\x168\\xd3\\xd0\\xc2\\xd2\\x7f_\\x17.\\xf4M\\xd2\\xc7\\x16\\x96\\xb0,\\x1e\\r8\\xe0+\\xed\\x15\\x02\\x03\\xd3\\x85s\\x17\\xf7\\xee}\\xf5\\x87\\x7f\\xe4\\x87*\\xaa+\\x90\\xc1S\\n\\x10<\\xe5\\t@\\x97<a\\xec,\\xa1\\xb3\\xb1\\xf4<\\x13B \\x80@\\x89\\x88BJ\\xc1891\\xb5o\\xdf\\xbe9s:\\xbaWu#\\xa2@\\t\\xc8\\xda\\xce\\x02\\x00\\x01\\xe2\\t\\xf6\\n\\xf5@\\xea\\x1f\\rW\\x91\\xfee\\x06\\x02\\xd3\\xaa\\x18\\x8a(Z[\\x8f\\xb5\\xd7\\xfc\\xb8[\\x80\\x16O<\\xd8\\x8f\\x10\\xf6\\xf7\\x0f\\xec\\xdb\\xb7\\xff_\\xfd\\xeb\\x1f\\xa9\\xaa\\xa9\"fb&&\"b\"\\xc5\\x8a\\x99\\x14)bR\\xe4\\x11\\x93\"\"R\\xcc\\x8a\\xc8SL\\xc4D\\xac\\x8f\\xa4\\xf2\\x8a\\xf2\\xdd\\xbbw\\x0e\\x0c\\x0c\\x9e\\xbbp\\x9e\\x81\\t\\xfc\\x90>\\xf9\\x9f\\xf8\\x84.\\xd2\\xcc\\xda\\x034na\\xf1\\xa7\\x92C\\x82\\x7f\\xb8\\xf4\\x97\\xd9\\x03\\x9b\\xd6`\\xf1\\x880\\xa3\\xfc\\x06FGG\\xbf\\xf5\\x8do\\x7f\\xf4\\x87?R^^FD\\xa4\\x14\\x00(\\xe51\\x80\\xa7\\n\\x88\\xe8*\\x17Q(\\xe5\\x15\\xeb\\x9c\\x11\\x01P\\xa2@\\x04\\x96!\\x04\\x9d\\x07/\\x008\\x1a\\x8fm\\xd9\\xba\\xf9\\x95\\x97\\xf6\\xd6\\xd5\\xd4\\xd67\\xd433\\xe9\\xdcw\\x16\\x8cOh\\x8a\\x03\\x17\\x8d*\\x04\\x0e$,\\xff\\xa1\\xb4^\\\\\\x03\\x8b\\xda\\x16\\x97\\x94\\r\\xc0c\\x9d\\xe2`-,\\x8bG\\x00\\xe6@\\xbf2\\x16\\xd6\\xa1\\x03\\x876m\\xd9T[W\\xab\\x7f\\xd5\\x16\\x93o:\\xb1\"\"ca\\x95\\xfcL\\x8a\\x15)6F\\x18\\x11\\x11\\xb3\\x16\\xc2\\x98\\xb9\\xa2\\xb2b\\xc5\\xca\\xe5\\xc7\\x8f\\x1fWJ\\xc1\\x13\\xc9P\\xaf\\x83\\xc9\\x05\\x05\\x98ab\\x05\\x7f\\xe4\\xe0q\\xe6Kx\\xa6\\xfd\\xe5\\x87k\\x1fW\\xb3\\xcb\\x12\\x96\\xc5#@q\\xfe0\\x03\\xf3\\xc5\\x8b\\x17]\\xcf]\\xbal\\x89\\xf6\\xf5\\x14)R\\xac\\x94\\xe7)\\xcfU\\xae\\xab\\n\\xaeg\\xfe\\xcb\\xbb\\xf9\\x82\\x9b\\xcf\\xb9\\xf9\\x82[(x\\xf9\\x82\\xca\\xb9^\\xbe\\xe0\\x16\\\\\\xcfuU\\xc1S\\x9e\\xe7)EJ\\xb1\"R\\x9d]\\x9d\\xb9\\\\\\xee\\xfc\\xf9\\x0b\\x86\\xc8`F\\x95\\xe2\\xa3\\x1e\\x83w\\x1bh\\x86\\x13\\x180\\x08\\x14\\x16\\xb3\\xb0\\xcc\\x9fJ\\xa3\\x88E+\\xf7u\\x8a\\xfcc<>\\xd6%\\xb4x40\\xb4\\x81\\xa0\\x94\\xea\\xbbru\\xcd\\x9a\\xd5l\\xac-\"\\x00\\x02\\x8f\\x19\\x88u\\x94\\x90\\x00 \\x93\\xce\\xdd\\xe8\\xbf951\\xf5`d,\\x91\\x8c\\x15\\xf2n\\xeb\\x9c\\x96\\xa6\\x8e\\xa6x4\\x86\\x08\\xc4\\xa4\\xc5x\\xd0\\x06\\x02\\x81N>]\\xbfq\\xc3\\xc1\\xfd\\x07\\x17-^$P\\x04)G~M\\xf5\\x93\\x03&\\xc3:Xt\\x02\\x83\\xbf\\x01\\xcc\\xb4\\xa3J\\xec.\\x06\\x132\\xd5\\x05N~e\\xd3c\\x0cKX\\x16\\x0f\\x1fZa1\\xd9\\xa2\\xd7\\xfb\\xfb\\x85\\x94\\x8d\\xcdMD\\x8a\\x98\\x98\\x80\\xd8#\\xed\\xfd)b\\xa6\\x02y\\x83}\\x83\\xfdW\\xfaSU\\xa9\\xda\\xc6\\xea\\xb6\\x05\\xad\\xc80=9=z\\xff\\xc1\\xad\\xef\\xdcnlm\\x98\\xdb5\\x87\\x98\\x85\\x10\\xe80\\xa1dD\\x16\\x8c\\xe4\\x00@uM\\x15\\x00\\xf4_\\xbf>\\x7f~\\x17 0\\x10\\x82@\\xe0\\xd2.Z\\xb3\\x1e&g]w;d\\x0c\\xd4\\xab\\x12\\xaa\\xc2R\\xca\\xe2 \\xa1\\xc1\\xd8S\\xc5\\xb4\\xac\\xc7~T,aY<\\x120\\xb3\\t\\xb9_\\xef\\xbb\\xde1\\xa7C\\xe7\\x90\\x02\\x83\\xb6\\x92\\x1430k\\x0b\\xeb\\xd2\\xe9K\\xb7\\x07\\x87Vm^\\x91,K(\\xf2\\xf4\\xec\\x8b%\"\\xf5\\xcdu\\x99t\\xae\\xef\\xfc\\xb5s\\'.\\xac\\\\\\xb7\\xc2h/&\\xad\\xd4\\x97\\x9d\\x01\\x96,]|\\xf3\\xc6\\xad\\xae\\xae\\x05~:\\xb7iV\\xc3\\xc0O^\\xff\\x19d\\xd4\\xe6\\xd2\\x8cd\\xf7 1\\xf4\\xbb\\xbe\\x12f\\x83\\x85\\xf5\\xa4]0\\x8b\\xc7\\x1fz\\xc9gd\\x06 \\xe6k}}\\xed\\xedmZ[\\xd1Z\\xbb6\\xb5<\\xf6\\x88\\xd5@\\xdf\\xf5\\x9b\\xfd77\\xee^\\x17\\x89G<\\xe5\\x16\\\\\\xd7\\xf5\\n\\x05Up\\x95[p\\xddpD.\\xea^8=9\\xddw\\xf1\\xaa\\xe7\\xb9\\x1eyJyJ\\x83Y\\x113s[[[\\x7f\\x7f\\x7f\\xbe\\x90gf\\xe2\\x80\\xd4\\x9eL\\xe8Q-\\xda\\\\\\xc1\\xd3\\x00\\xbf\\xf6\\x1b\\xbf\\xfeG\\x7f\\xfc\\x9f\\xc7\\xc7\\xc7\\xfd\\xd4\\x07\\x98\\xe1>\\xeaAy\\xec\\x87\\xc6\\x12\\x96\\xc5\\xc3\\x86)\\xc0e\\x04\\x80\\x07\\xa3\\x0f\\xda\\xda\\xdbb\\xb1XI\\xbe;3\\x00\\x13\\x01\\x83[p\\xaf_\\x1d\\xec\\xde\\xb4\\xc2\\t9\\xc0J\\x1f\\xc1\\x04\\xfe\\xb1D\\x8cR\\x8a\\x05+\\xba\\xee\\xdd\\x19q\\x0b\\xaei\\xca`\\x82e\\xacE\\xabh,Z__\\x7f\\xff\\xde}0\\x06\\x88y|rPj>\\xcd\\xf8j\\xc5\\x9f\\xa7\\xd3\\xe9?\\xfb\\xfc\\x9f\\xff\\xee\\xef\\xfd\\x07)\\xe5\\x9b\\xbf\\x1eK\\x1e\\x1fcX\\xc2\\xb2x\\xd80\\xed\\x02\\x90\\x81adt$\\x9b\\xcdi\\'\\r@\\xd7\\x15\\x021\\x01\\x00\\x11\\xdd\\x1c\\xb8\\x15\\x8e\\x84\\x93\\xa9\\xa4\"\\xa5\\x14yJ\\xa7\\x89z\\x9eR\\x9e\\xf2<R\\x8a\\x0bJy\\xb1DDH1t\\xf3\\x0e\\x91\"\\xf6H\\xbf\\x8fN\\x8d`\"\\xa2\\xb2\\xb2\\xb2\\x89\\xf1\\t\\x00\\xd0IX\\xfc\\xd8O\\xcb\\xef\\x0f\\xa6\\n\\xb3$i\\x14\\xfc\\xcc\\x11\\xff\\x90#G\\x0e\\xbb\\xae\\xbbj\\xd5\\xaa\\xb2\\xb2\\xb2\\xd7\\xbd\\xd8W\\xb2\\xac\\x85ea\\xf1f(\\xb1\\xb08\\x9f\\xcb777\\xfb\\xc6\\x95\\xa9(\\x04\\x9f\\xb3&\\xc6\\'\\x1b[\\x1b\\xa8\\xc4\\xcby\\x1d\\xd8\\x7f\\xaco\\xaa\\x1d\\x1b\\x9d0o\\x1f\\xccS4M\\x1db\\xf1X&\\x93\\x81\\xa0a\\xc3c?-\\xbfwhf\\x06\\x98\\xd1\\x83\\xd5\\x8c@\\x89\\xce\\xbe\\xef\\xc0\\x01\\x00\\xd8\\xb6e\\xeb[\\xbc\\xcb\\x1b,\\xac\\xc7\\x95\\xd2-aY<l\\x04\\x16\\x16\\x03\\x8c\\x8f\\x8fy\\xca\\xd3\\xfd\\xd9\\xb9\\xa4\\t\\x8c\\x00\\x04\\xe0\\xc9\\xb1\\xc9h\"\\xaa3\\xb2\\xf5!Dt\\xa2\\xe7d.\\x9f\\x0b\\nz\\xf4\\xcc\\x8a%\\xa2n>\\x0fAn\\xa4\\xc99B\\x06`\\xe6H8\\xac\\x94\\n\\xcc\\x8f\\'\\xc7\\xc2b?\\xc6\\x07~\\x82Yi\\xfeh\\tw\\xef\\xdf\\xbf\\x1f\\x00\\xb6l\\xde\\x12\\xbc\\x14K=F|\\x83\\x85\\xf5\\xb8R\\xba%,\\x8bG\\x80@\\xc3\\x8a\\xc5\\xe2\\x89D\\xa2\\xd4\\x1e\\xd0\\xe1C\\x1d^\\x8f\\xc4\\xc3\\x8et|\\x96A\\x04\\xb89p\\xe3\\x97~\\xfaW>\\xfe\\xc1\\x9f\\xd6\\xede\\x00\\x05\\x000 \\xf9ut\\x08\\xa28_M?\\x07\\xf0<\\x8fJ\\xf2\\xdd\\x9f\\x0c\\x0b\\x8b\\x151\\x91!\\xa5\\x191A\\x13i\\rT\\xf5|>\\xdf\\xd3{L\\x08\\xb1i\\xd3\\xc6\\x19\\xc7\\x95\\x02\\xb9\\xf4\\xe9\\xc76\\xbb\\xc1\\x12\\x96\\xc5#\\x80\\xe9f\\x0cP(\\xe4\\xa7&\\xa7\\x10Q \\n\\x04\\x04@\\x14\\xa6\\xcb\\x1e\"y<96)Q \\n\\x81\\x08(N\\xf5\\x9e\\x05\\x80%+\\x16KD\\x14B \\n\\x14\\x02!7\\x9dK$\\x93\\xc2\\xbc\\xce\\xbc\\x110\"\"\\xb2PD\\x91h\\x14\\xfc>\\x9bO\\x82\\x85E\\xbe\\x11\\xe4G*\\xfcT\\\\d?\\x017\\xb0\\xb7zzzr\\xb9\\xdc\\xd2\\xa5K\\xab+\\xab\\x8bFX\\xc9\\x9b\\xe1L\\x127W\\xe2\\xb1\\xc4#&,\\xf2\\xeb\\xec\\xf5\\x7f\\x8f\\xf6d,\\x1e\\x1a\\x02_\\xae\\xb2\\xb2RJi&\\\\q\\xceh\\xae\\x81\\xa6\\xb6\\xc6\\x89\\xf1)\\xd3\\x86\\x0f\\x04\"\\x9e9q\\x06\\x00V\\xadY\\xa1\\x9f\\xd4\\xcd\\xae\\x84\\x10c\\xa3c\\xd5\\xd5)\\xd3\\xed\\nL\\xc7_\\xbf\\xed/ONL\\xc6\\x121\\xfd\\xc6\\x8f\\xd7\\x86\\x14lD\\xa8\\xd2\\xff\\xbe\\xdb\\xe1\\xfa\\x18E:gmFn\\xa8\\x1f8-\\n{\\xbe\\x85\\xf5\\x9d\\xfd\\xfb\\x00`\\xdb\\x96\\xad\\xecg\\x91\\xce`\\xec\\xd77\\x93y\\xac\\xd9\\xfc\\xe1\\x11V\\xb0)\\xa6.O%\\xa0\\xd7u\\xf9(m\\xe7V\\x8a\\x87v\\x86\\x16\\x0f\\r>i`4\\x1a\\xbb}\\xfb\\xb6\\x16\\xaf\\x84&\\x1f\\xdd\\xc2J\\x08\\x04\\xd9\\xdc\\xda<5>\\x99O\\xe7\\xa5\\x94RHG\\xc8\\xd3\\xc7\\xcf\\x00@\\xf7\\xfanG\\x86\\x1c)%\\n)\\xe4\\xf4\\xd8\\xf4\\xf8\\xe8D}K\\xa3\\x94\\x12Q\\x08\\x14\\x02\\x04\\xa2\\x00\\xdf\\xda\\xca\\xa4\\xd35\\xd5\\xd5A\\xe3\\xbeG_(g\\x8a\\x1a\\xdf\\xa2\\xc8\\x98\\xfc\\xda\\xe57>\\xcex\\x13`F\\xd6\\xc1A\\xfd\\x12\\xd2\\xbd\\xaf\\xa88\\x97\\x88\\x99\\xf9\\xc0\\x81\\x03\\xe0\\x0bX\\\\\\xa2uqp23\\xf0\\xd8\\xb0\\xf9\\x9b\\xe1!\\x11\\x96\\xee\\xdb\\xad\\xcb\\xe9I\\x97\\xdf+R\\xac\\x82\\x91\\xd3#kJ\\xf0\\xb5w\\xced9\\xebIE0Q\\xab\\xab\\xaa\\xc3\\xe1p`\\x13\\x18\\xd5\\x1dQ;s\\x91p\\xb8\\xb9\\xad\\xe9\\xca\\xf9>f\\x16B\\x0c\\xdd\\x1c\\xbaw\\xe7~Ee\\xc5\\xbc\\xce\\xb9B\\xa0@!\\x84\\xe3\\xe6\\xbd\\xe3\\x07O.Y\\xb18\\x14\\n!k\\xa63-\\xdd\\x05\\n@\\xc8d\\xb2\\xae\\xe7\\xd6\\xd6\\xd6\\x94t\\xd8\\xd4m\\xde\\x1f\\xd1\\xcc\\x0cnkb \\x0e\\x96r\\xffQ\\xe7\\xf8\\x13\\xf3\\x9b<\\xfa\\x07\\xf8\\xff\\x10\\x80.\\xeb\\xd6\\xba\\x153+\\x06\\x06\\xfd\\xa8\\x9f\\xf7\\\\\\xefhO\\x0f\"n\\xd9\\xb4\\xa5\\xe88\\xce$\\xed\\x19\"\\xd8#g\\xf3\\xef\\x8a\\xf7\\x96\\xb0\\xfcu\\x84K\\x7f\\x85\"\\xb5\\x17]\\xc2\\xe2\\xf8\\xbda\\xd1\\xb1\\xd6\\xd6\\x13\\x0b\\x01\\xe5\\x15\\xe5\\x93\\x13\\x93^\\xc1\\x13(\\xa4\\xb6\\xb0@\\n@)\\xa4\\x10RH\\xa7kQ\\x97\\x10\\xe2\\xe2\\xa9\\xcb\\x82\\xe5Im^\\xad]\\x15r\\xc2!\\x11r\\x9cP>\\x93\\xef\\xf9\\xce\\xb1y\\x0b\\xe7\\xb5t4K!\\xa4\\x94B\\x08)\\x85\\xa63\\x00\\x14 \\xfa._\\x8dFc\\x02\\xa5i\\x03\\x0f\\xa6\\xf7\\xd3\\xc3\\xee\\xab\\xc9A\\x9e\\xd4\\xeb\\r\\xa5\\x99\\x9c\\x05\\xdf\\xed\\xb14\\xd9\\x8a\\t\\x80t\\xdd3)b\\x05\\xc6*P\\xc6.`\"V\\xaa\\xf7\\xf8\\xb1\\xa9\\xe9\\xa9\\xae\\xf9]u55~\\xc7\\x86@\\xf8\\nfd)\\xf0q\\xa6\\xac\\xf7\\x90\\xb0\\xfcUD\\xdbJ\\xa4\\x07\\xdax|\\xa5\\x8f\\xa4-XeV\\r$?.\\xed\\xbf\\x8d\\xde\\xa9\\xc0\\xfc\\xf7\\x18\\x8f\\xa5\\xc5\\xf7\\tmGUTV\\x0c\\x0f\\x0f#2\\x1b\\xa9\\n\\x00P\\x00h\\xa5]J\\xb1z\\xc3*\\x04<q\\xe4\\xd4\\x81\\xbd\\x07\\x00`\\xcd\\xfa\\xd5\\x8e\\x90S\\xe3SW\\xce\\xf6\\xed{\\xe1\\xe0\\x82\\xa5]\\x0b\\x97t\\t!\\x84\\x94\\x88B\\xa2\\xf1)\\xb5\\xc2\\x05\\x80\\xd7\\xfa\\xae\\xafX\\xb1\\x02L\\xb3\\x86Gv\\xff\\xf8\\xb3\\xc1\\xbf\\x85}\\xf5\\xa9\\xa8B\\xf9\\x99\\xfe\\xaf\\x7f!\\x14\\x8f4sH\\x87\\x01\\xb5\\xb8B\\xc6\\x02\\xf3\\xe7\\x19\\x03\\x03*\\x02\\x7ff\\x1d=v\\x18\\x00\\xb6n\\xda\\xec\\x0b\\x85~:H\\x91\\xaaJ\\'\\x1cBp\\xccc\\x89\\xf7\\xaa\\xf8\\x99\\x83\\xf1\\xe0\\xe0W\\xc5\\xc0z\\x17\\'d\\xbf\\x81\\xab9Z\\xff\\xe3\\x01\\x00\\x13\\x02(\\xf4W\\xc0\\xa0\\xce\"\\x18J\\x80\\xc7\\xba\\xe7\\xb4\\xc5\\xf7\\x08\\x04\\xd3Z\\xa0\\xb6\\xb6\\xf6\\xee\\xdd\\xbbM\\xcd\\x8dz\\xb7\\x08\\x81\\x02\\x04\\x10K\\x01$Q\\xb0\\x10\\xe10\\xad\\xd9\\xd8=ts\\xe8\\xcc\\xc93\\x00\\xc0\\x058\\xf0\\xd2\\x91x\"VY]\\xf1\\xecG\\xf7$\\x13\\t\\x00t\\x84#PH\\xe9\\xa0\\x10R\\x04!D\\xbc{\\xe7n(\\xec4\\xb74\\x05\\xaa\\xd9c\\xf0\\xb5\\x8b>\\x18\\x16y#\\xe0,\\xbd\\xbb\\r\\xcf\\xcc\\x04\\x85 \\x12\\x08\\xc0\\xac\\x00\\x80I\\xaf\\xec\\xe4g\\xda\\x02\\x03\\x05\\xf5M\\x0c\\xa4\\xdf\\x82?\\xf0\\xc1}\\x0b\\x17\\xb77\\xd5\\xed\"\"3\\x04\\x02\\x18\\xcc\\xa6\\xb3\\xc0:\\x1c[20\\xfc\\xe8\\x07\\xe9\\xbb\\xe0=!,*\\x16\\x99\"\\x11!\"3!\\xa0\"*\\x14r\\x83\\x837\\xc7\\x1e\\x8c\\x8d\\x8d\\x8dM\\x8cOHG\\x8e\\x8e\\x8e\\xd6\\xd6\\xd4*R\\x89D\\xa2\\xb2\\xaa\\xb2\\xb6\\xb6\\xa6\\xad\\xad5\\x12\\x890\\x830\\xf9\\x83\\xa6eOp}\\x9f\\xec}\\x04~\\x80\\xc0\\x00\\x0c\\x15\\x15\\x15\\x83\\x83\\x83\\xfaW4n\\x1b\\n\\x14\\x04,P2\\xb2dI\\xc8\\xe8\\x88{\\xf7\\xee\\x97\\x95\\x95\\xfd\\xc4\\xbf\\xf9q\\x19v\\x1c\\x19\\xd2GJ\\x94Z\\xcd\\x92(\\x84f+a\\xec,\\x04<}\\xea\\xf4\\xc2E\\xa6\\x19\\x96\\xce\"\\xd5;Y=l\\x01\\xab$f7\\xc3\\x8cb\\x9f\\xc2\\x8a\\t\\x9b\\xa6I\\x15\\xeb\\x9e\\x12~Ch\\xcd1\\xc0\\xc0\\x01\\xc9\\xf9z\\x97\\xb1\\x88\\x1432(\\x06\\x04&B!\\xb4-\\x96\\xce\\x1djh\\x9a\\xe8l\\xedf\"\\x9d\\x90\\x8bZ\\x9a\\x17\\xc1\\xfb\\x05\\xc6\\x80@`\\xe3t=\\xae}f\\xde}\\xc2*\\xb5\\xad\\xf4\\x0f\\xc4\\xa4\\x94\\xea\\xef\\x1f\\xb8y\\xf3\\xc6\\xe5\\x8bW\\xda;\\xda\\xeb\\xea\\xeb\\xe6/\\xe8L&\\x92\\xd1hL8B)\\x95\\xcf\\xe5\\xa6&\\xa7\\xc6\\xc6\\xc7._\\xba|\\xf8\\xd0\\x91\\xd6\\x96\\xd6\\xf69\\xed\\xed\\x1d\\xed\\x02\\x05\"\\x19\\r6({\\xb2v\\xd6\\xac\\xc5\\xebU\\x13\\x84\\xda\\x9a\\xdas\\xe7\\xce\\xf9\\x19\\t\\x02\\x99\\x05\\x12\\x01\\n\\x94,\\x88\\x19YH\\x04\\xe8=\\xd2\\x0b\\x00k\\xd6\\xafN$\\x12\\xda\\xe8\\x16\\x88\\x80(Q\\n\\x14\\xc2\\xe4dI\\x81B\\xa2D\\x14B\\x88\\x8b\\xe7/NML-\\\\\\xb4\\xa0d\\x97P\\xcdr\\x0f\\x99\\xad\\x8a)Q%\\xc3P\\xfc\\x11|\\xde\\x00\\x9f\\xd5\\xc8\\xe71\\x08,&c4i\\xad\\xbd\\x18K\\xd7\\xc1v_\\x076Y\\x11L\\x8c\\xa8\\x00 \\xeb\\x9e!\\x9a\\x08;\\xed\\x0e6\\xb3G \\x01\\x00H\\n\\x04F\\x12\\x0c\\x88B3\\x9f\\x00\\x08\\xba\\xff\\xf9\\xc1\\x89\\xc7\\xd2\\xd4z\\x97\\t\\x8b\\xfd}1\\xc1\\x1fjbu\\xad\\xef\\xda\\xc9\\x13\\'\\x89y\\xe1\\x92\\x85?\\xfe\\x93?\\xee8\\x12Q\\x10+D\\xd4\\xcd$\\xa5#\\xc3\\xe1PyE\\xaa\\xa5\\xad\\x19W\\x8a|.?p}\\xf0\\xd4\\xa9S\\x07\\x0f\\x1c\\xdc\\xb0a}\\xe7\\xfcN\\x06\\x10 \\x19\\x19\\xcd\\xe2\\xc3\\xcc,\\x1e\\xe7\\xfc6\\x8b\\xb7@\\xb0\\x9e\\xf9J\\x0e\\'\\x92\\t\\xcf\\xf3J\\x8f\\xd1;\\x0c*\"\\x04\\tHB\\x08f\\xe8\\xed9\\x0e\\x00\\xeb7\\xad\\x97Rj\\xe1\\\\h[IH\\x81(\\x85D\\x10\\x02\\xa5\\xd4i\\rBLMN]\\xbet\\xe5\\xd9\\xe7\\x9fq\\xd0a]\\xed\\xf3\\x880C\\x1d\\xe1\\x80\\x08\\xf4\\x93X\\x1c\\t\\r\\x04`0m\\xbb\\xfc\\xce\\xc6\\x08\\xa6\\x00\\x00\\xccvh\\xc4\\x8c@\\xc4\\x0c`\\xba\\xde\\x03+f`P\\xe4*obj\\xd2u\\x0b\\x02\\x1d\\x08\\xbd\\n\\x00\\xb1\\xd0&\\xe5)\\x14\\x02Y\\xa1\\x10\\x88\\xc4\\x80\\xe0W \\x16K;g\\xba\\xa1\\x8f\\xa7Y\\xf0n\\x12VQQ4\\x81\\x08\\x1e\\x1f\\x1f?\\xde\\xdb;1>\\xb1zmwK[\\xab\\xbf/&\\xe9\\x15\\x01\\x10\\x98\\xfc\\x0b\\xc8\\x80L P(v\\xc2N\\xd7\\xc2\\xf9\\x0b\\x16-\\xb8u\\xe3\\xe6\\x81}\\x07\\x06\\x07n\\xacY\\xb7&\\x95J\\x99\\xde \\xfe\\x08>\\x9e\\x03\\xfa\\x83\\x0cmR\\xb3Nb/\\xc9\\xcf\\xe4\\xe0/3\\x17\\x18_\\xcca)\\x8a=O\\x8c7\\x84 \\x84\\xd6\\xe1\\x856?\\x8e\\x1e:\\n\\x00\\x1b6n\\x14R\"kcI \\xe8\\xbc+m[i\\xd7P \\n\\xcfU/|\\xfb\\x9f\\x97,]\\\\]]]\\x14C\\x1f>\\x82\\x04\\xd9\\xd2\\xa7\\xa0\\xa8a\\xbd\\xb5\\xc6>\\xe3`?\\x84X\\xd4\\xcbu\"#1\\x83\\x9f\\x02415\\xd5\\xd7\\xdf7t\\xefn6\\x9f\\x8b\\x85#RJ\\xa5\\xbc\\xba\\x96\\xaf\\xa7*\\xe0\\xce\\xddF\\x87Fj*\\xabAj\\x7fR\\x02\\x82f-s\\xb5\\xd8o\\xdd\\xf7XZU\\xa5x\\xd76R-\\xdaV\\x0c\\x04\\n\\x18\\xaf\\\\\\xb9|\\xf2\\xf8\\xa99\\xf3:V\\xac\\\\\\xae\\x98\\x00\\xd0\\xf3\\\\D\\xf4\\xf4~M\\xec\"\\x08\\xd2[\\x8f\\x9bUE\\x07\\xa2\\x85\\xb6\\xf3\\x01A\\nI\\x8a\\xcf\\x9d9;8pc\\xe5\\xaa\\x95]\\x0b\\xe6#\\x08\\x10 X\\x04\\xd3\\xa1\\xf4^\\xb7x\\xb4(\\xaa\\x01\\x00\\x00\\x10\\xf4\\xf345\\x0c\\xfa\\xe6\\xf0U\\xe7@}\\xb9u\\xf3\\xd6\\xc1\\x03\\x07\\x7f\\xe8G>\\xaa\\x17<E\\n\\x18\\x14)\\x00V\\xcaX\\x14\\xc3#\\xa3\\xcb\\x17\\xae\\x88F\\xa3\\x17\\xaf\\x9fsBa\\xbd+\\xaa0\\xc9\\xee\\x02\\x11\\x84\\x90\\x08B\\nD\\x94\\x02\\xc5+/\\xbf\\x12\\x8f\\xc5\\xb6n\\xdf\\xa6\\x0f\\xd07\\x8b\\xbf\\x0b\\xf4\\xc3\\x9b\\x91&m\\x9dK\\xe8\\'Hd\\xd7\\xae\\xde\\xe8\\x03\\xdc\\xbf\\x0f&&\\xa0\\xb3\\x136n\\xe2\\xa0#\\xaa\\xdf@\\x1a\\x00\\x8c\\x81\\xa5\\x08\\x11X\\x91\\xef\\x00\\x02\\x93b\\x05D<1\\xfe\\xa0\\xe7\\xf4\\x89\\x91\\x07\\xa3s[\\xdb\\x9bk\\x1ak\\xaaj\\x040\\xa0\\x00\\xa2\\x81\\xf4J\\xe2\\x91\\xa9\\xfb\\xff\\xfd\\xee\\xfdP8\\x1c\\xde\\xd4\\xbd>\\x99L\\nG\\x00\\xa2t$ \\xa0c\\x14@@\\x00!\\xf4\"\\x00\\xa0\\xe3\\xb4\\xda\\xd6}\\xbc\\x08\\xec\\xdd\\xb1\\xb0t\\xc2\\x01\\xfa\\x9dg\\x99\\xe0\\xe4\\xc9\\x13\\xfd\\xd7\\xaeo\\xdb\\xb9\\xb5\\xb2\\xaa\\x92Kv\\x1bg\\x06\\xc5\\x1e0z\\xe4!\\x08&S\\x8e\\xc3\\xc0z\\xac$KD\\x01\\x82\\x10\\x05\\x02\\xa3pVv\\xaflmo=\\xb0\\xef`6\\x93]\\xb1r\\xb9 \\xc9\\xc8\\xc1m\\xa7\\'\\xc3;\\xe9u\\xcb\\xfe\\xe2e\\xee\\x92\\xc0{\\xe77\\x94q<VU\\x1d\\x8f\\x14&~\\xae\\xbd\\x89`e.]\\x9f\\x99\\t\\xc8(\\xc8>0\\xa8t\\xd3lE\\xcc\\xc0}\\xd7\\xfa\\x9a[\\x9b\\x01\\x82\\xc0\\x99\\xef\\x0c\\xe9\\x17\\xa0`\\xe2\\xa3\\x87\\x8f0\\xf3\\xdauk\\xc2\\xe1\\x88_\\xa9c\\xaa\\x0e\\x05\\xea\\x15N\\xf8\\xbb\\xd6\\xe3\\xe9S\\xa7\\xb3\\x99\\xec\\xae]\\xbb\\xd0\\xdf\\x97\\xdeD\\xc7\\x1e&[\\xbd\\xd1\\xb6\\xe2\\xd7\\xff\\x82\\xff\\xf4m\\xf1S?\\xc9;vBC\\x03|\\xe6O U\\xc1\\xff\\xf8uN\\xa5\\xa0$~nT\\xf8b\\xb6\\x01`1\\x11\\x88A\\xf1\\xe5kWO\\x9d?\\xdd\\xd9>w\\xd3\\xcaua\\xe1\\x90bP\\xcc\\xc4\\x80^^]!\\x1e\\x91X\\xb7b\\xee\\xd3K\\xe7\\xf2\\x85k\\x97\\xfe\\xe9;/\\xad[\\xbe\\xba\\xa3\\xbd\\x1d\\x80Y\\n`_^\\xd1\\xce\\x8aQ\\xcb\\xf4 \\x19=\\x8b\\xc9t\\x9a~L\\\\\\x99w\\x81\\xb0|\\xf5\\xafh\\xb3\\xf6\\x1e\\xef\\xbdu\\xe3\\xe6\\xae=\\xbb\\xe3\\xf1\\x98\\xe7y\\x8c\\xec\\xaa\\x02\\x00\\x16\\xbc\\x02\\x02\\x16\\xbc\\xbc@YP\\x05@`\\x8f@\\xeb\\xa7@(\\x05\\xb0p\\x84\\x83\\xc8!\\x19\\x02@\\xc7q\\x10\\x89\\xd8\\xa9\\xaa\\xacz\\xea\\xe9\\xdd\\xfb^\\xdb\\x9f\\xcb\\xe5\\xd6mX+@pP>\\x1b,Bo\\xff\\x0b\\xf8Fwi\"\\xccLa!\\xa8\\xe9xL.\\xdb\\xa3EI\\x16\\xaf\\x1e0\\xad\\xf4\\xfal^\\xd4h|\\xfb\\x02\\x01|\\xa1\\xc4\\xc8\\xcb~\\x87\\x81\\xf1\\xf1\\xb1\\xa1\\xdbC\\xef\\xfb\\xc0\\xf3\\xbe\\xafC\\xa4cy\\xa0g\\x8a\\xf9\\x98\\xc3\\x87\\x8e\\x00\\xc0\\x86M\\x1b\\x84Q\\xcf\\x91\\xd1\\xacRB\\xe8bi\\xa1\\xabz\\x06\\x07\\x06\\xfb\\xaf\\xf5?\\xfb\\xfc3\\xe1p\\xc8$\\xbc\\x07I\\xed\\x0f\\xf1\\xd2\\x95\\x0c\\x8fy\\xc2\\xff\\x01\\x8d\\x8f71\\x81?\\xf5\\x93\\xf4\\xf9\\xbf\\xe0\\x8f~\\x14\\x00\\xa1\\x90\\x17\\x1f\\xfe\\x90\\xf8\\xbd\\xdf\\xa5\\xcf|\\x16?\\xfd)\\xfc\\xfa\\xd7`\\xd7n\\xde\\xb0\\x89\\xb7l\\xe1\\xb2rDf\\xd2\\x83B\\xc8\\xbaO\\x03\\xb0\\xa2\\xc3\\xc7{F\\xc7\\x1e\\xec\\\\\\xb7\\xb52Y\\xae\\\\\"\\xcf#O\\xf7>T\\x08\\x90\\xe3C\\x00\\x10\\xc5\\r\\xaa\\xe0\\t\\xc4es\\x17\\xd6U\\xd7\\xbdz\\xec@\\xc1+\\xcc\\xef\\x98\\xc7J!\"\\x13!!\\x84\\x80\\x19P0\\x90\\xd6\\xfa\\x8a\\xd5\\x86\\xcc%\\x8b\\xf4cp\\xef\\xbf+\\x16\\x96af\\x1d\\xcc\\xb8p\\xe1\\xc2\\x8d\\x81\\x1bO\\xed\\xd9\\x1d\\x89\\x85\\x89M\\xfd\\x8d\"\\x02\\x00O)\\x04\\xf0\\x14\\xe5\\xb2\\xe9\\xfbw\\xef\\x8f\\xdc\\x1bE\\xc4\\xe9\\xa9\\xe9x\"\\x8e\\x02\\xab\\xeb\\xabk\\xea\\xaa\\x13\\xf1\\x84\\x00\\xbdrJTJ\\x08\\x00V(!\\x9e\\x88\\xef\\xd8\\xb5\\xfd\\x9f\\xff\\xe9\\xc5D2\\xb1t\\xe9\\x12}G \\x0bm\\xeb\\x7f_z\\x96\\x99n\\xfa\\xce1.<\\x17\\x95\\xce\\xb7~\\x0f\\x06&\\xa6\\xe0\\xea\\xfd\\xa0\\x91\\x97\\xd9D+\\x10\\x80!\\x18\\xc0\\x12:*)`/\\x8e\\x8e\\xbf\\x0e\\xe8\\x04<?\\x87\\x18=\\xe5\\x1d9rt\\xe1\\xa2\\x85\\x89D\\x9c\\x82\\x9d\\xaat\\xd4+\\xb8\\xa7\\x80\\x01\\xe0\\x88\\x16\\xb06m0\\xa6U\\x11A\\x83\\x06D\\x80\\xa9\\xc9\\xa9\\x13\\xbd\\'7m\\xde\\x94L&1\\xe8\\xda\\x00og\\xa6\\xbd\\x9eq\\x02\\xb1\\xbchV\\xfa\\xbf\\x17\\xef\\x9b7\\xca@\\xafc,,>s\\xe8 TW\\xf3G\\x7f\\xc8\\xbcu8\\xcc\\xbf\\xfc\\xcb\\xe2\\xe7\\x7f\\x0e>\\xf3Y|\\xf5U<q\\x02N\\x9c@\\x00\\x90\\x92\\x97\\xaf\\xe0\\x8d\\x1b\\xc5\\x86M\\xb4c\\x07\\'S\\x0cL\\xcc\\xc8p\\xea\\xe2\\xb9\\xa1\\xe1\\xbbOm\\xd8\\x11u\\xc2\\xe4\\x11\\x10\\x11)R\\x0c\\xcc\\xac\\x88\\x11r\\xa2\\x07\\x00\\xc2\\xb4\\x96=\"G\\xa0G\\r\\x955{6l?z\\xeeD\"\\x9ahii\\x06`ttB$\\x97\\x9ar\\x00\\x00\\x04 \\xf4\\xc8a\\xf1\\xe2\\xe3\\x0c;\\xfa\\x91\\xdc\\xff\\xef\\na!\\x9b\\xe8\\x05\\x8c\\x8c\\x0c\\x9f>yz\\xd7S;c\\xb1\\xa8\\xeb\\xb9\\x8c\\xecy\\x1e\\x03\\x17\\xdc\\x1c\\x80(\\x142wn\\x0f\\x0f\\xf4\\xf5\\xa7\\xa7\\xb3\\x15\\xd5\\xe52\\xe4D\\x93\\xe1Xy\\r\\x03g\\xa7\\xb3\\xf7\\x87\\xee]=\\x7f5\\x16\\x8fv\\xcc\\xebhlm\\x10 C\\xa1\\xb0@\\x11rB\\x00\\xc0\\xcc\\x91ht\\xe7\\xee\\x1d/\\xbd\\xf0rE*\\xd5\\xd2\\xde*\\x98\\x11\\x85\\x0e\\x17\\xfa\\x11\\x97\\x7fy\\x04\\x8d3\\x82\\x81\\x10\\xec\\xdf\\x9a\\x81j@\\xa5B$\\xb2(\\x9a\\xf6h\\xfa\\x93 \\x04\\xcd\\xe6~`\\xe0\\xdbT\\xc5B6\\x93g\\xc7\\x84\\x1c\\xf4d\\xf2W\\x00\\xf2G\\xaf8\\x8eA_d3\\xe8\\x8a\\xe9\\x95\\x97_\\xf1\\\\o\\xd9\\xf2\\xa5:Zc\\xf4\\x044Y\\xdb\\xc0@\\xcc\\x88066v\\xf1\\xc2\\xc5p$\\xbcj\\xf5*0\\x1e\\xa6IWB&\\x14\\xd2\\xe8S\\x00=G\\x8e\\xcd\\x99\\xd3\\xd1\\xdc\\xdc\\x84(\\xc0H\\xed\\x86W\\x8cs\\xf8}|a(\\n\\xe4o\\xf2\\xe8+\\xe1\\x18\\xf8o%\\x8f\\xfe=R|\\xba\\xf8\\xa6\\xbe\\xcb;8\\xc8\\x1dsf0\\xda\\xdcyp\\xeb\\x16\\x14\\\\\\xfa\\xbb\\xbf\\xc7\\x83\\x87\\xf0\\xc0>\\xd8\\xbf\\x1fO\\x9f\\xc2\\x93\\'\\xf0\\xe4\\t\\xf8\\xfc\\x9fK)i\\xc9R\\xf7\\x87\\x9f\\x99\\xfa\\x89\\xe5\\xe3c\\x1d\\xd7\\x07\\xae?\\xb5q[\\xd4\\t\\x91\\xe7\\xb1K\\xec)b \\xcf\\x03\\x02CX\\x91\\x1e@p\\xdcn\\x85\\x1e\\x92\\x14\\x88\\x80P\\x99H-\\x99\\xb7\\xe8\\xe0\\x89\\xc3\\x1f\\xaey\\x7f8\\x1c\\x06E\\x88\\x02\\x14\\xb3`&\\x93\\xf6\\xc8\\xccB\\x1a\\xfe2W0\\xa0\\xda\\xd2/\\xf5(n\\xffwJXA\\xb9\\x0c2(\\xa2\\xde\\x9e\\xe3K\\x96.\\xae\\xa8\\xaa f\\xa55T\\xf6\\x80A)J\\xa7\\xa7\\xcf\\x1c?3:\\xfc`\\xfe\\xf2yuM\\xb5\\xaeR\\x08\\xac\\x94\\nR\\xab\\x1c)\\x81q\\xf4\\xce\\xd8\\xb9\\x93\\xe7\\xef\\xdc\\xbe\\xd3\\xb5d~E\\xaa\\x02\\xa4C$\\x08\\x11\\xd9\\x11L\\xe5\\xa9\\xf2\\xf5\\x1b\\xd7\\xf5\\xf6\\x1e\\xaf\\xae\\xae\\x89\\'b\\xaf\\x93\\t\\xbe\\x8b\\x9d\\xc5~\\x8e\\x1dh^+y\\x1d\\x83\\xb6\\x0c\\xb4\\x16\\xc3\\x00\\xe0\\'\\xe3c D \\xa3\\xaf\\x84\\x98\\xfbR\\x1f\\x12\\xcc\\x81\\'\\xdb\\xda\"\\xa3Q\\x165>\\x9dYT\\x1a\\xbdB\\x7f\\xea\\xfa\\xcf\\x1ay\\x04 hC\\xa5\\x9dG\\x04\\x86\\x82\\xe7\\x1e\\xd8w\\xa0P(\\xecy\\xe6i\\x00P\\xc6\\xe6\"2r\\xa7\\xbf\\x8a\\x003C\\xcf\\x91\\x1e\"\\xea^\\xdd\\x1d\\x8dF\\x82S\\xd2\\x8a\\'\\xa3\\x006E\\x11\\xf7\\xef\\r\\x8f\\x8e\\x8e>\\xf5\\xf4S\\x81nU\\xbc:\\xdf[\\xa93\\xfbW?P\\x00\\xf4\\xb3\\xc6\\x86\\xf2\\x13\\x94\\xde\\xa0s\\x06\\xaf/\\x95\\xf0\\x82\\xd7\\x97~\\x00\\xf8\\xa6\\x1ap2\\x89\\xd3\\xd3\\xa56\\x17NMA<\\x0e\\xe1\\x10TV\\xf1\\xfb\\xdf\\xcf\\xef\\x7f?3C:\\rG\\x8e\\x88\\xc3\\x87\\xe0\\xd0!q\\xe4\\x908s\\xba\\xb0\\xb6\\xec\\xd6\\xe8\\x7f\\x02\\x80\\xc5\\xcb\\x9b\\xa7\\xbd\\x9d\\xaeZ\\x13\\xa6u\\x92\\x1a\\x94\" &O\\x97@\\x93\\x927\\t\\xef\\x0b\\xae\\x92^\\x07\\t\\x92\\x02\\t\\x11I\\x00S{c\\xcb\\xb5\\x1b\\xfd\\xa7/\\x9e[\\xbb\\xbc\\xdbw7\\xb8\\x84\\x89\\x18\\x00\\x8d\\x1f\\x0f&\\xef\\xfe\\r_\\x03}\\x83\\xfba[[\\xef\\x88\\xb0\\x8a\\xab.3\\x03\\x9f=wvjzj\\xe1\\xa2\\x1d\\xc4J)\\xd2;-\\xb9^\\x81\\x81\\x07\\x07o\\xf6]\\xec\\xab\\xa8.\\xdf\\xfc\\xcc\\x86t>\\x9d\\xcdgs\\x85,\\xa0PT0k \\x83\\x94\\x0e\\xa2(\\xab\\x8f/\\xafYv\\xaf\\xff\\xde\\xb1\\x03\\xc7\\x17.\\xebjli\\xd4\\xfb\\x088\\x92Y\\xb2\\x04\\xa7\\xb5\\xbduh\\xe8\\xce\\xfe\\xfd\\xfb\\x9ez\\xe6i]x\\xc6L\\x80\\xa0\\xe3\\xdf\\xf0fv\\x16\\x03\\x13\\x10r\\xa0\\xac\\x14\\xc3\\xc3P\\\\+\\xd9u\\xdd\\x89\\x89\\t\\xaf\\xe0*\\xa2p8\\x1c\\x8b\\xc5\\x92\\xc9$\\x985\\xddOUdD\\xc1\\xda\\xc0\\n\\xe8\\xf2\\xc9f\\xab\\x80\\xb5\\x8da\\x15\\xe8\\x95@\\x00\\xa0\\x94\\x1a\\x1e\\x19\\x99\\x9c\\x98\\x9c\\x9e\\x9e\\xf6\\n\\x05\\x10\\xc2\\t\\xc9X4\\x96*OUVUE\\xa2\\x11@M\\xf7\\xec[\\xa8x\\xf7\\xee\\xdd\\xef\\xbc\\xb6\\xaf\\xac\\xbc\\xec\\xe9g\\x9e\\x12\\x02\\xfd\\r#X\\x11\\xe9\\x08\\x18\\x033)6\\xedR\\xf8\\xd0\\xa1#\\x00\\xb0~\\xe3z\"\\x92R\\xfb`\\xda\\xa9\\xd7\\x97\\x03\\xf55\\xbfp\\xfeBGG\\x87\\x14\\x12\\x00\\x05\\x04\\x06\\xd5\\xf7\\xa3^\\xf9\\xba\\rh\\xc9\\xc0wo\\x91)\\xb8\\xcf\\xd1_\\xec\\x98!\\xa0\\xc1 \\x1f\\x1d\\xc9d\\x90\\x03\\xe2\\x1b\\xf9\\xaa$\\xa0\\xc0\\xb0h1^\\xbc\\x00\\x13\\x13\\x90J\\x99\\x0f>|\\x88\\x17-.\\x9e\\xad~y\"\\xc1;v\\xa9\\x1d;I1d2x\\xf4H\\xbe\\xec\\x0cP\\x96\\xe1\\x1c\\x88\\xdb\\x93\\x85\\xbf\\x05\\xf8[\\x00p\\xb8#\\x0c\\xab\\xc3\\xb4&\\xa4\\xba\\xd1kd\\xc5\\xca\\x99\\x08\\x85VIj \\x97P0\\x02\\x03\\n!\\x90\\x11\\x85\\xa36,]\\xf5\\xf2\\xb1\\x03\\x8b\\xe7-L:ID\\xc5$tZ=\\x00\\xa0\\t\\xa2\\x98\\xef\\xc0\\xa49\\xeb\\r#\\x88>\\x95?\\\\k\\xeb\\x1d\\x11\\x96\\xb9q\\x18\\x01\\xb8\\xe0\\xba\\x97.\\\\\\xda\\xba}\\x0b *\\x8f\\x99\\x99X1\\xb1\"5t\\xeb\\xce\\xc0\\xd5\\x81\\xae\\xa5\\x9d\\xd1\\xb2\\xb0K\\x1e)EH\\x99\\xa9\\xec\\xe4\\xe8\\xa4\\xeb\\xb9\\xb9\\xe9|$\\x19qBN\\xaa:\\x15\\x8d\\x87\\x05\\xa2@n\\xedj\\xaa\\xaa\\xab\\xec\\xbbt\\xdd\\xf3\\xa8cn\\xbb\\x10d\\xca=\\x99\\x00`\\xcd\\xba\\xd5\\xdf\\xfc\\xda\\xb7\\xfa\\xaf\\xf7\\xcf\\x9b7\\x0f\\x01\\xb9dH\\x19\\x98\\x88f\\\\r\\xbd8\"r\\xe9\\xef\\xcc\\xc8@\\xac\\xee\\xdc\\xb9{\\xf7\\xce\\xdd\\xfe\\xfe\\xfeH4r\\xe9\\xc2\\xa5\\x05\\x8b\\x16\\x8c?\\x18\\xaf\\xad\\xab\\xbdu\\xebVmm\\xcd\\xed[C\\x9d\\xf3;\\xa5#\\xe7\\xce\\x9b\\xd3\\xda\\xdc\\x1a\\n\\x87YW\\x1c1#\\xfaE\\x14\\xbe(\\xf6\\x90C\\xe6\\x0f\\x07D3\\xd3\\x80\\x91\\x90\\x99\\tr\\xb9\\\\\\x7f\\x7f\\x7f_\\xdf\\xd5l6\\x07\\x00\\xb5\\xb5\\xb5\\x91h\\xd8qB\\xcc\\x9c\\xcd\\xe4F\\xee\\x8f\\x0e\\xaa\\xc1\\x0b\\x17.\\xcc\\x9977\\x9f\\xcb\\xb7\\xb7\\xb7\\x11syY\\xd9\\xe8\\xe8\\xa8\\xeb\\xba7o\\xde\\xda\\xb0iCWW\\x170\\x93\\xcfW\\xc1Bb\\xb6\\xcc1\\x0cA\\x80x\\xf4\\xf0\\x11\\x00X\\xbfa}\\xd1\\xa8C\\xbd\\x82h\\x17\\xd3,\\x18\\x9e\\xeb\\xb6\\xb6\\xb7B\\xa0[\\xc1\\xf7Q^R\\xcc\\x074\\xbf\\xebOa\\xed\\x1f\\x01\\x9b3\\xf1\\rK\\x06D\\xdd0^\\xf8\\xd1e\\x0eV0\\xf2\\x05\\xae\\x92\\xb7\\x7f\\x93\\x8f\\\\\\xbd\\x9aW\\xae\\x12?\\xf7\\xb3\\xf4\\xb9?\\x83\\xcaJ<xP|\\xeaS\\xf4\\x99\\xcfbo/wuAYyp\\xa0o\\xf63\\xc4bj\\xf3\\xd6\\x04o\\x1d\\xdc\\xdb\\xd95gnm\\xf9H\\xb6p$\\xeb\\x1d\\xcb\\xd1\\x01\\x0f\\x07<\\x1c\\xc8\\x84\\xffA:\\xedw/\\xfdIV\\x1ep\\xf1J\"\\xb4,\\xc9;\\xca\\xaa\\x08X{\\x84d\\xe2\\x18\\xc4\\xd1H\\xb4\\xbe\\xa6\\xee\\xda`\\xff\\xf2\\xe5\\xcbL\\xafQ,Q\\xdf\\xd8\\x8f\\x18\\xfa74\\xfbf\\xb2op\\xbd!\\x04J\\x0c\\x0f\\xa5\\x01\\xc6;\\xb4\\xb0\\x00\\x00\\x00\\x99\\t\\xae\\\\\\xbe\\x12\\x8dE\\xabk\\xaa\\x89\\x14\\x81RD\\x8a<E\\xf4\\xe0\\xc1\\xd8\\x85\\xd3\\x17\\xe7.\\xe9\\x88\\xa7b\\xd3\\xb9i\\x00\\x18\\x1e\\x1e\\x1e\\xbd=\\x96M\\xe7BQ\\'\\x94\\x08\\x89(\\xba^!=\\x95\\xbe78\\x1c\\xaf\\x88\\xd56W%+\\x92\\x9e\\x8a\\x85\\x92\\xb2cQ\\xdb\\xe5\\x93\\x97c\\xf1h]c\\x9d\\xce;p\\x98\\x85DD\\xb9n\\xe3\\xba\\x83\\xfb\\x0e6\\xd47$\\x12\\t\\xcd\\x99\\x82\\xc9\\xf7\\xd9\\xcc\\xae\\xdb\\xfei\\x169E\\x1720C6\\x9b>\\x7f\\xf6\\xc2\\x85\\x0b\\x17R\\x15\\xa9\\xba\\xba\\xbaEK\\x16\\xd5\\xd4\\xd6<\\xb5g\\xb79\\x9c\\xcc\\x1d\\x97\\xcdf\\xc7\\xc7&\\xee\\x0c\\xdd9{\\xe6\\xdc\\xb1\\x9e\\xde\\xc6\\x86\\x86%K\\x97VVU \\x08\\xbd\\x1c\\xc9\\x92\\x19\\xf1\\xe4e<\\x18\\'\\xda\\xdc\\xbb&\\x82\\x97\\xcd\\xe4N\\x9c<\\xd1w\\xb5\\xaf\\xa9\\xa9\\xb1\\xb3k~KKS$\\x1a\\xd5\\x16\\t\\xeb\\xd4\\x16\\xdd-\\x94a\\xe7\\xd3;\\'\\xc7\\'\\x1f\\x8c\\x8d\\xe5\\xf2\\xb9\\x07#\\x0f\\xa6\\xa6\\xa7\\xa5\\xe3\\xb4\\xb5\\xb7o\\xdb\\xb9M 2\\x10#\\xeb^(D\\x04\\xa0J2\\xb0\\x80\\x88t\\xce\\xd2\\xf4T\\xe6\\xdc\\xd9\\xf3\\x8e#W\\xae^N:\\x15\\x06\\x850\\x964\\xfan;\\x01\\xca\\x07cc\\x89DBs\\x19\\xfbmd\\xbe\\xd7U\\xc4\\xdc\\xcad(\\x89\\xcc76\\xf5\\xc4\\x00\\x81U\\xa9\\x0f6\\x166\\xa2\\xbe\\xe7\\xcc\\xc4\\x16\\x88\\xac#\\xde\\xc0B\\xcb=\\\\\"[\\x97|\\x9c\\xb6]\\xbe\\xf4e\\xf1\\x1b\\xbf&\\x97,\\x02\\xd7\\x85\\xd6V\\xfa\\xc3?\\xe4\\x0f~H6\\xd5C:\\r]]\\xbci3\\xef\\xdcE\\xdb\\xb7sEu\\xf1R0gs\\xd9\\xdf\\xf1\\xb4\\x17\\x00\\x00 \\x00IDATk7\\x06v\\xad\\xdb\\xc2^c\\xc8Y\\x9cP?\\xa5\\xb8PP\\xa7\\xb3\\xaa7/\\x8e\\x0e\\xdd\\x0fEj\\xff\\xbc65\\x10\\xce=\\x95\\xe7\\xb1\\xbb\\xe3_9\\xd2\\xe7\\xac\\xe9\\xac\\x11\\x9c\\x0b\\xd1|\"!ty/C[c\\xf3\\xa5\\xfe\\xbe\\xe5Z\\xbd\\x02B\\x16>\\xeb\\x120\\x06\\x1d\\x93}\\x93\\xd2\\xbf\\xc0F\\x9c+q}\\x031\\xf7\\xcd\\xec\\xb0w\\x1d\\xef\\x8c\\xb00P\\x86xp`p\\xe9\\xd2%:GD/\\xcb\\x1e\\x11\\x93\\xba|\\xeejS{cYe\\x82\\x98<\\xe5\\xdd\\x1b\\xb8\\xff`d\\xbc\\xbc:\\x99jO\"\\n\\xe5\\x154m\\xc7 R#\\xc2\\x13w\\'\\xef^\\x1bNTf\\xda\\xe67+\\x86Dy|\\xce\\xc2\\x8e\\xcb\\xe7\\xaeVVU8Q\\xc7\\xd0\\x0e\\x01\"755\\xb5\\xb5\\xb5\\xf5\\x1c\\xed\\xd9\\xb1kG`\\x94\\xf2\\x1b\\xc6\\xac\\xe8\\xcc\\xf8z\\xca\\xf4\\xd4\\xf4\\xa9S\\xa7\\xee\\xdf\\x1f\\xae\\xae\\xae~\\xe6\\xf9=U\\xd55\\xa4<\\x04\\xa1\\xc8\\x03\\x00bB0\\xa5\\xda\\x80\\x10\\x8dE\\x9b\\xe2\\xf1\\xa6\\xe6F\\x04\\x91\\xc9d\\xae^\\xbe\\xfc\\xcdo|\\xb3\\xb3\\xb3s\\xe9\\xf2%\\xa9\\xf2\\x8a\\xe0\\xfd\\xf5\\xed\\xaaub!\\x9e\\x90\\x82!M\\x1c`\\xbe#\\x03\\x13\\x00\\\\\\xbcx\\xf1\\xf2\\x85K\\x15\\x95\\x95\\x1f\\xf9\\xe8\\x87\\xa3\\xb1\\x08\\x00\\x98\\xe6KL~\\x8cP\\x98\\x90+ \\x00\\xa4*S\\xa9\\xca\\x94\\xe6/\\x04\\xdf\\xd7\\xd0j\\x981\\xab\\x18\\xa0hb\\x950\\x03\\x01\\x003\\x1d\\xef9\\xe6\\xb9\\xde\\xca\\xee\\x95\\x89D\\x9c\\x01\\xc8d\\xcb\\xe97\\xf2m)D\\x00p\\x1cGJ\\x893\\xcd*.Z\\to\\x8e 8\\xa9\\xbfj\\x89m\\xa5\\xcf\\x00\\x8ciE\\\\\\xcc\\xe6\\xd4\\x8d\\xd3\\x83\\xf82 \\x0b3s\\xf5\\x8cG\\xd0B\\x98\\x91?\\xcd;\\xbf\\x0e\\x88XQ\\xc1_\\xf8K\\xfe\\xc2_B\\xa0\\x1d\\xdd\\x19\\xe2%K\\xb0\\xb7\\x17.^\\xc4\\x8b\\x17\\xf1\\xbf\\xfdW\\x81\\xc8\\x8b\\x16\\xf3\\x96-\\xb0a3o\\xda\\x0c\\x95\\xd5#\\x0f\\x1et\\xcd\\x99\\x8f(\\x99] `& t\\xbc\\xa5\\tw\\xd1\\xe5\\xfe\\xee|!W\\xbb\\xfa\\x13\\xe5\\xa3\\x7f-\\xdd\\xf9\\t\\x84TH\\x1dS\\x17\\xef\\xd1_\\x85\\xe3_\\x16\\x90\\x08\\xf1\\x8a\\x08o\\x8a\\xd3\\xfa\\x88XU_]w\\xf8\\xd41\\xd7\\xf3B\\xe1\\x10\\x98\\xda\\x04mIap\\xeaF\\xb3\\xf5\\xb9\\xcb\\xb7\\x07\\x82H\\x86?h\\xc1\\x8f\\xef\\xbd\\x9d\\xf5\\xce\\\\BF\\x02b\\xe0\\x91\\x91\\x91l.\\xdb\\xd2\\xde\\xaaH\\x11\\x11\\x11{\\xe4\\x11Q\\xff\\xd5\\xfe\\xc9\\x89\\xc9\\x85\\xab\\xe6\\xa7\\x0bi\\xa5\\xd4\\x8d\\xbe\\x9b\\xe9\\xb1LYk\\xc2\\x89\\xe0tn\\x8a\\x01<\\xaf\\xc0\\xba\\xf2\\x12\\xd1\\x11\\xe1P\\xa5\\x88V\\xc4\\x1f\\\\\\x9f\\xb8\\xc1\\\\?\\xa7\\x8e\\x15\\xa7j\\x92\\x0f\\xee=\\xb8t\\xee\\xf2\\x92\\x15\\x8b\\x11\\x91\\x84\\x14\\x88BHD\\\\\\xb5v\\xe5\\xde\\x17\\xf7\\x1e\\xef=\\xbef\\xf5j\\xd3\\x9a\\xcd\\xe7\\x0e?\\xec\\xee\\xfb2\\x0c\\x84DD\\xbd\\xc7z\\xcf\\x9c:\\xb3x\\xe9\\xa2m;\\xb6%\\xca\\xe2DTps\\x8a\\xfd\\x9a,\\xf0\\xb5\\n\\xbdM\\x81\\x00dD\\x89\\x82\\x11\\xa5t\"r\\xc9\\xca\\xa5\\x9d\\x0b;/\\x9f\\xbf\\xf2\\xad\\xaf\\x7f{\\xd9\\xf2eK\\x96.\\xd1)\\xach\\xc2\\xea\\x0fo\\x9dyH0\\xd3\\x96\\x89\\xc1\\xf3\\xbc\\xbd\\xaf\\xec\\xcdd2k\\xd6\\xaf\\xa9\\xab\\xaf#`\\x97=\\xbf/\\x87\\x9f\\x95e\\x9cd\\x04`!\\x043K\\x94\\x0c \\x83\\xe4)(q=\\x88\\x08t\\xda\\xb6\\xdf\\xd0\\x89\\x99H\\x05\\x8d\\x9d\\xb4\\xb5s\\xf8\\xf0\\x11\\x00X\\xbba\\x8d\\xf25^d $@\\xd4\\x91v\\x02!\\x98\\x00E\\xa1P \"\\x9e\\xc9X\\xff\\xf2\\xe4\\xd1W\\x9c\\xfc\\x881\\x00(-> 0\\xb1\\xf2\\r,\\nv\\xae\\x08\\x82\\xff\\xc8@&\\x00)\\x90u\\x1e\\xab@\\x9d#f\\xaa\\xad\\x01\\xdf\\xdc/5\\xdcP\\xbcK\\r\\x0345\\xd1w\\xf6A:#\\x8e\\x1c\\x86\\xfd\\x07`\\xff>\\xec=\\x86\\x17\\xce\\xe3\\x85\\xf3\\xe2\\xff\\xfb\\x02\\x00\\x8c\\xfd\\x97\\xf7\\x8d/\\x87xb\\xae\\xa2v\\xa4zM\\x9d\\x9a\\xe4\\x95\\xa2\\xfe\\x91[\\xcf.\\xdc\\x94\\xe6x>\\xfa\\x8dh\\xfe\\xe7\\x05F$\\xcb\\x8e\\xaa\\xc6\\xd1\\xc9|KE\\xa3\\x12w\\xf2x(\\x8f\\x87&]\\x10\\x98\\x88\\xaau\\xadmuc\\x93\\xa9\\xba\\xeam@\\x12\\xc1\\xec\\xadfh\\x9b\\x03U\\xabt\\x8b!\\x9f\\xba\\xcc\\x10\\xf89\\xc3P\\xe4\\xb7\\xf7\\xfa\\xfe\\x7f\\xfb\\x84\\x15T\\x0e2\\xf0\\xe0\\xe0`mm-\\x06J\\x07+\\x00\\xf0\\x94;\\xd8\\x7fs\\xc1\\xb2NDP\\xca\\x9d\\x1c\\x9d\\xce\\x8cg\\x1b\\xe7\\xd7e9\\xc3\\xc0\\xc4D.\\x17\\xc6=\\xcf#\\x19\\xc2PB\\xc8()\\xe2P8\\\\3\\xbfjb`j\\xfc\\xeex\\xac-\\xca\\x00s\\x17\\xcf9\\x7f\\xec\\xe2\\xd4\\xd4t\\xb8Z\\x07\\x89\\xf4:\\xc8\\x8e\\xe3l\\xdf\\xb9\\xed\\xa5\\x17^v\\xa4\\xb3r\\xd5\\n\\x7f\\xf4\\xfcf4\\xbe\\xd9\\x0e\\x00\\x044\\xd0?p\\xf8\\xe0\\xe1\\x9a\\xda\\x9a\\x0f\\xff\\xf0\\x87S\\xa9\\x94\\xeb\\xb9\\xc0\\xa0\\x94\\x12\\x02I\\x11\\nt\\xd9\\x93(\\x14yBH\"\\x12\\x88@\\xba\\xbe\\x01HgO \\x08\\x82h$\\xd6\\xbd\\xb6{^\\xe7\\xbc\\xa3Gzn\\xde\\xbc\\xb9k\\xf7\\xaeh4R\\x0c\\x1d=\\x11vV\\xb0\\x1b\\x08\\xa3N\\x99B\\xd7\\xcd\\xbf\\xf0\\xed\\x17\\xc2\\x91\\xc8\\x9e\\xe7\\x9eq\\x1ci\\x8c/E\\x80\\xa6}\\x90\\xd6\\x9a\\x15\\x93@\\xc1L\\x88B\\x11i\\xbf\\x0f\\x00\\xb9\\xb8F\\x1bq\\x04\\xfc\\x84-?\\xddI\\xaf\\x16\\xc5-T\\xc9\\xe7\\x91c\\x87\\x8f\\x01\\xc0\\xda\\xf5k}\\x95;\\xd0Y\\xb4[\\x18\\xa4\\xa2B<\\x1e\\xe7\\x80\\xaf\\x8a\\xcb\\xff[\\nY\\xc6\\xb6\\n&\\x18j\\xb3\\xc8|eMR\\x00\\x00Z\\x12%bD \\x02!X\\x11H\\xc1\\xa4\\xcb\\x89\\x01\\x10\\x98t\\x93)\\xc4@\\x87\\x0e4\\t\\xf1f3\\x98g\\xfe\\xc43\\xff\\x14\\x8f\\xd3\\xce\\xdd\\xb0s\\x97^(\\xe0\\xd4i|m/\\x1e<(\\x8e\\x1c\\x1a\\x9dw\\xcc\\x89\\xdc\\xaf\\xaa\\x87\\xfe\\xf1\\xcfI\\xac\\x8b\\xe2\\xda\\x08or`\\xa5\\xe0\\x8e\\x89\\xdcdm\\xb2*,#b\\xec?\\xa7\\xcb?=\\xd9\\xf4L(\\xb3\\'>\\xf9ok\\x92\\x15\\xe7\\xae>\\xb3\\xa2\\xea\\xff!qG\\xc5N\\x15\\xf0X^\\xf4z<\\x90\\xf1^\\xad\\xaa\\x83\\x07\\xf9/\\xe2\\xab+\\xda\\xfeK\\x8a6m\\x81m[i\\xed\\x06L\\xc6L]\\xce\\x9b\\x9cvI\\xdd\\x82\\xf1\\x11\\x1f\\xf6]\\xfe\\xf6k\\t\\xfdL\\x19b\\xa6\\x17_z\\xa9\\xad\\xadu\\xee\\xbc9\\xae\\xe7y\\xe4\\x15\\xbc\\xbc\\xa7\\xbc\\xdb\\xb7o\\x9f<zj\\xf3\\xc2\\x96\\xd8\\x89\\xd3\\xfd\\xdb\\xbb\\xfbN\\xf6G*\\xc3\\xf1\\xaah\\xf3W_\\xe8\\xdb\\xb4bx\\xdc\\x0b\\xdf\\x9f\\x9e\\x7f\\xf1R<\\x9dN\\'\\x13\\x97\\x17.\\xf2j\\xe3\\xe1\\x9aP,\\x16\\rIG\\x16B\\xa3\\xfd\\x13]k\\xe6\\xc5c\\xb1h8~op8;\\x95]\\xbfe\\xad\\x94N4\\x14A!\\xc2N\\x14\\x11\\x1c\\xe9\\xa4\\xa7\\xd2\\x07\\xf7\\x1frB\\xce\\x86\\x8d\\x1b***L_I,*\\x95\\xf7\\x87\\x87{{{3\\x99\\xcc\\xf2\\xe5\\xcb\\xdb\\xe7\\xb6\\x11\\xe9\\x04;\"V\\x8a<\"\\xf2H1\\x93R\\xca\\xcc\\x19\\x7fD\\xf4[I\\xe1\\x00\\x80#\\x1c\\x14\\x18\\x92!\\x81(eH\\xa0\\x00\\x86\\x9e#\\xc7\\xc6\\x1e\\x8c=\\xb5gwyY\\xb9\\xde@!\\x88M\\t\\x9c\\xc5\\x1d\\xbb\\x82\\x9d\\xe2\\xc1\\xdf\\xd6\\xe8k_\\xfdZ2\\x99\\xdc\\xb6c\\x8b~F1\\xb1\\x19C\\xbf\\xf5\\xbe\\x8e\\xa0\\xb1&\\x15mO\\t\\x00\\x90B?J0\\xe5S\\xa5\\x8aR`\\x9b\\xb1Rj\\xc6\\xfeId\\xba\\xcb\\xe6r\\xf95\\x8b\\xd7\\xb9\\xae\\xdbs\\xfeHE*\\x05\\x80\\x8et\\x00!$B\\x80\\x18\\x92\\x0e\\x00:NH :\\xc2\\xf9\\xd2\\x17\\xbf\\xfc\\xec\\xf3\\xcfVVV\\x9a\\x9cw\\x7f\\x13\\x8a\\xb7$,E\\x00~\\x8a*\\x11\\x80\\xdf\\x18O\\x91Q;\\x89\\xb5\\xc7\\xab=/\\x0cLI\\xed\\xf7\\xe9\\xbcJ\\x81\\xda;\\x00\\x9ds\\x8f\\xfe\\xcfR\\xf8\\xa9\\x17~9^\\xf0\\xc5KOg\\x86\\xb0\\xe5{\\x86\\xeck\\r\\xfaBx\\x0c\\xc0\\xe4)\\xf0\\xbc\\xe9\\xdc\\xf1K\\xd7\\xbe\\x88\\xe2T,q\\x85x<x\\xa9\\xe4Z,\\xac\\xec=\\xdf\\xb1\\xbb\\xf5\\xdf\\xb2\"`\\xf0\\x9c+\\xd9\\xd4\\x9f\\x11L\\xf1\\x9d\\xcf\\xf5\\x0c\\x9e{\\xdf\\xaa\\xed\\x00(\\xa3!D\\x0c%\"\\x8aGT\\xf8\\xfc\\xc5\\x1b\\xffPU\\xdd\\xd7\\xf17U\\x15\\x9f\\xd9o\\xde\\xc8qx\\xd9r\\xde\\xb8\\x116o\\xe6]\\xbb\\xa1\\xb2\\xd2\\x9c\\x19\\x96\\x9cx\\xa9y\\x88o\\xfc3\\xa0|\\x0f\\x1bc\\xbc\\xd3\\xb4\\x06\\x00`\\x80\\xcct\\xba\\xa6\\xa6\\xa6\\xa8\\xd0\\x12\\x00\\xc0\\xd8\\xe8\\x83\\xa6\\xb6\\xc6p\\xdf\\xb5\\xd6?\\xfb\\xab\\xd3\\xcb\\xba\\x988V\\x19\\x01\\x80\\xad\\x9f\\xff\\xd2\\xd5\\xba\\x96\\xc6\\xb1\\x89\\x7f\\xf5\\x17\\x7f\\xdb\\xb7\\xaas\\xb4\\xa9f\\xfe\\xb5+O}\\xf3\\xa5\\xbf\\xfb\\xb9\\x8f\\xdfs\\x9bbs\"\\xc0\\x1cN:\\xc9\\xca\\xe8\\xd8\\xbd\\xf1\\xf8\\x9c8\\x00\\xb5\\xcci:}\\xf8\\xec\\xe4\\xd4tEE\\x8a\\x80%\\x003!\"\\x10\\'\\xcb\\x92\\xcf>\\xff\\xec\\xc9\\xe3\\'_}\\xe5\\xd5L:\\xd3\\xb5`~EEe(\\x1c*\\xb8\\x85\\xe9\\xa9\\xa9K\\x17.\\'\\x93\\x89\\xf6\\x8e\\x8e%\\xcb\\x97h\\'C\\x11!\\xb0\"\\x17Qx\\xca\\x13 \\\\\\xe5\\n\\xc4\\x91\\xe1\\xe1\\xc9\\xf1\\xe9\\xf4\\xf4t.\\x9b\\x0f\\x87C\\x9eR\\xc9\\xf2dee\\xaa\\xaa\\xa6\\xda\\tK\\xd6\\xea\\x96\\x08rK)$C\\x9b\\xb6l<u\\xe2\\xf4\\xde\\x97\\xf6>\\xb5\\xe7\\xe9\\xb2\\xb22\\xf4C\\xc2\\xa5\\rp\\xde\\xf9\\x15z\\x84\\xd0\\xccu\\xac\\xe7X,\\x16\\xdb\\xb6c+\"*\\x1dN\\xd3J%{\\x00B\\x91\\x12(\\x94R\\x02\\x85b\\x12 \\x08H\\x80`&\\x14\\x82\\x98\\x85I\\xd0\\xd2\\xfe\\x02\\xf9\\x8e\\x07\\xb2?1M\\x9e\\x04\\x94xg\\xfe\\x84=u\\xfcT>\\x9f_\\xbctQyyYi\\xc8\\xca\\xb7\\xd4\\xa0(\\x0e\\x03\\x84\\x9c\\x90\\xe38h\\x14\\xff7g)\\xf6?\\xb5\\xc4\\xad\\xf1g\\xa0\\xae|\\tL\\x1e\\x06S\\xe8\\xaax:;}\\xf3\\xd6\\xad\\x89\\xe9\\xc9t&\\x93+\\xe4\\xc3\\xc2A)Re\\xe5\\x95\\xa9TKCK4\\x16e\\xe57\\xccC?\\x82\\x0cZ\\xa9\\x97E\\x1d(8\\xa7\\xef\\xee4i\\xe3\\xae4h\\x14\\xfc\\xe4\\x88Xxu\"\\x92\\xbc\\x7f\\x7ftY\\xcb\\xeaL\\xf6Z\\xce\\xdb\\x97\\xf5\\x8e\\xe6\\xf8\\x88\\xc2;\\x10y\\xa96\\xf5\\x13#\\xd3c\\xd5\\xb1\\x14\\x02Hw~|\\xea\\x97&\\xab\\x7f\\xec\\xee\\xd4pc\\xaaN\\x7f$\\xa2\\xce\\xb9\\x00\\x895\\x11g\\xcf\\xd0\\rZ\\xd4\\xbe=\\xfc\\t\\xcf]\\xd5#\\x0e\\x1d\\x14G\\x0e\\xe1\\xb9\\xb3A\\x9e*8\\x0e/_\\x01\\xdb\\xb7\\xd3\\x1f|\\xda\\x8f\\x86\\x07}of|\\xa9\\x19f,\\xa2\\xbe\\x82\\xefQ\\xd5\\xf4;Lk@mc]\\xbe|e\\xcf\\xf3\\xcf\\x04\\x9a\\x11\\x0bf\\x8fG\\x87\\xc7\\xeb\\x9bk\\xf5\\xad\\xf5\\xe0\\xceX(\\x16\"R\\xc4\\xc4\\x00*\\xeb}\\xf4\\x7f}\\xe5\\xc0G\\xb7\\xec\\xdf\\xd3\\xad/\\xd1\\x8e\\xaf\\x1c|\\xdf\\xdf\\xff\\xe3\\x7f\\xfd\\x85\\x9f\\x9d\\xbe\\x9f\\x89\\xd5D\\xa4\\x08E*#\\xf7\\xae\\x0c\\xd76W\\x0b\\x142\\xe2T\\xd5U\\x0e\\xf6\\r$V.\\x96R\\xea\\x1e\\x0f\\x82\\x10\\x04\\x03\\xa1\\x90ry\\xf7\\xb2e+\\x96\\x0e\\r\\r=\\x18}p{\\xe8\\xb6[(\\x84B\\xa1DYr\\xc3\\xe6\\rM\\xcd\\x8dRJ\"O1)\\x8f\\x14yD\\xca%\\x97\\x94r\\x95;11y\\xe3\\xfa\\xcd\\xd1\\xfb\\xa3\\x9e\\xe7\\xa5\\xaaS\\x91X8\\x92\\x0c\\t!\\xdclabb\\xfc\\xde\\xdd{\\xb9t.Q\\x96\\x98\\xdb5\\xa7\\xaa\\xa6\\xca\\r\\x15\\x04\\xca\\xb0\\xe3I!\\x88I\\x08\\xb1|\\xd52\\x04|\\xf1\\x9f_|\\xee}\\xcf\\xc5\\xa2\\xb1@\\xacyw.\\xce#\\x02\\xfb\\xa1\\x14D\\xbc~\\xfd\\xfa\\xe0\\xc0\\xe0\\xb3\\xef{\\x16\\x04zJ\\x11)E\\x8a\\x98\\xf4\\xfeFD.\\xb1r\\xfd\\xae\\xe2\\xda\\xc22\\xb12!Ai\\x0b\\x0b\\x1d\\xe9  i;\\xcbd\\xb1i\\x16c\\xff\\xb3\\xf4n\\n\\xec\\xb7\\xa1\\xd39\\xa6\\xdcs\\xa4\\x07\\x00\\xd6\\xac_\\xc3l\\x84p\\x13\\xa7\\x02\\x9f\\x00\\xfdH\\x1c\\x91\\xf2\\x94\\x97\\x88\\'L\\xd0\\x8a\\x01L\\x99\\xe1\\x9bA\\x87\\xe8\\xc9\\xa8S\\x9a\\x9bX\\xdb\\\\\\xcc\\xa4\\x14(\\xd6\\xb7\\xea\\xb5\\xc1\\xebW\\xfb\\xfb\\xee\\x8f\\x8e\\xb4\\xd47U\\x96WTT7\\x86\\x1c\\t\\x0cy\\xb7\\x90\\xc9e\\xae\\x0f\\x0c\\x1c\\xec\\xedi\\xa9oZ\\xb2`QmU\\xb5p$\"bH\"\\x00\\x84$\\x00\\x08Gs\\xaa\\xc0\\xa2[<3=l\\x86r\\x1dT<a\\xd0oT\\xfff\\x1eY\"r,\\x9a\\xbc}\\xef,\\xafX\\x1d\\x0e\\xb5\\x87\\xf0cq\\xfeQvUA]\\xceRO!\\xdc\\xd5;pv\\xeb\\xca[1w;P4\\x9f\\xf8\\xaa\\x97\\x9b\\xa7\\xca\\xbf0\\xa7j\\x91\\ny!Z\\xaas\\xd4t\\xcf\\xd5\\xac\\x9b#\\xe0\\xb2\\xb2\\x14 \\xaa\\xf7\\x7f\\x80>\\xf0!t\\x04f\\xd2\\xa2\\xf7\\x18\\x1e>\\x84\\x87\\x0f\\xe1\\xc1\\x83x\\xe28\\xbb\\x05\\xf8\\xd4\\xa7\\xb1\\xe7(\\xfe\\xcd\\xdf\\xc0\\xfd\\xfbPS\\xc3?\\xfe1\\xde\\xb4\\xc9\\xb8\\xf6\\xf8f\\x9c\\xf5^\\xcaX\\xef\\x88\\xb0\\x08\\x08\\x18<\\xcf\\x9d?\\x7f~\\xc8q\\x14)cs\\xf9\\x19weeI\\xbdJ{\\xaeW\\xd9\\x90\\xf2 \\xaf\\xbfH\\xcaKW\\xde}p\\xfc\\xa95\\xa6\\x8f;C\\xcf\\xd3\\xdd;\\xbez\\xb0,\\x9cIO\\'E\\r0p$\\x11\\x8e$\\xc2\\xd3\\x93\\x99hM\\x94\\x99\\x1b\\xdb\\x1b.\\x9d\\xbc\\x92\\xcf\\x17\\xc2N\\x18%2\\x13\\x83P\\xcc\\xd2\\x88\\xafBH\\xd1\\xda\\xda\\xda\\xd6\\xdefl\\x1c\\xb3R2\\xe8\\x8d\\xc5\\x90\\x95R\\xc0\\xac\\x94\\x0b\\x88\\x9e\\xe7\\xe62\\xb9\\xd3\\'\\xcfNMNWT\\xa7\\x16\\xaf^(B(\\xa5\\x93w\\xf3\\x8et<\\xcfu\\xa4d\\x00\\x81\\x92<\\x1e\\x1a\\x18\\xbaz\\xa1\\x8f\\x88\\x97u/\\xad\\xaa\\xaa\\xd4\\xf2p\\xe0\\xce\\xac\\xe8^\\x9e\\xcdf\\xf7\\xbd\\xf6\\x9d=\\xcf<\\xc3\\xc2\\x8f\\xeb\\xfb\\x13\\xf2m(YA@\\xd3\\xff\\xcd,i\\xc1\\xcd\\\\z\\xf0\\xbbk\\xc4\\x05\\xea\\x95\\xfe\\x16Dt\\xee\\xdc\\xb9\\x95\\xdd+b\\xd1\\xa8\\xc7\\x8aAov\\xab\\xa5q\\x13F\\xf4\\x94\\x12\\x88\\x8a<\\x01\\xc2c%Q(f\\x01X\\xec\\xd2\\xebG\\xc3\\xd9\\xcfA\\xf0\\x17i.~\\xdd\\x99[\\xe8*O\\x9d8~|\\xefK\\xaf}\\xe9\\x7f}\\t\\x11\\xeb\\x1b\\xea\\x01A\\x18u\\x1aL\\x90\\xc6\\x0c\\x06\\x02 \\x02\\x8e\\x8fO\\x84\\xc3a!\\x82\\xca\\xdd\\x12\\xfb\\xa4\\xc4\\xaa2\\x03\\x184\\xf4D\\xdfl0\\xa7\\xc9\\xacM<\\xe2\\xd1\\x07\\xa3/\\xee\\xdb[\\x96H\\xccm\\xe9\\xd8\\xb5n+*b\\x14\\xe4z(%y$\\x1c\\x01\\x04\\xe8`\\xc1+\\\\\\x1a\\xe8;~\\xe6\\x84\\x0c\\x85\\xb6\\xad\\xdb\\x14\\x8b\\xc5\\xd0di1\\xa2\\xd02>\\xca\\xc0\\xea\\xf2\\xcd\\xef@5\\x0bN\\xcap\\xb0\\x7f\\xdao\\xf8\\x11\\xfd\\x82\\xd9\\xda\\xcaj)\\x1dC\\x17z\\xf4\\x10\\x1c\\x9a\\x17\\xa79\\xad\\x15^\\xba\\xeeL\\xdf\\xd8\\x97\\xebj\\xfeA\\xca|6\\xd364\\xf0\\xf1\\x05\\xab\\xfec\\x01^\\x1e\\x81\\xcf!D\\xc3\\xb0$\\x82k\\x12\\xb4#\"\\xd6\\xde\\xbcw\\xbf\\xb2<\\xa5so\\xd1\\xf7\\r8\\x99\\xe4\\x9d\\xbbx\\xd7.\\x04\\xe4tF\\xf4\\x1c\\x81B\\x1e\\xbf\\xf2\\x15\\xf1s?K\\xbf\\xf9[\\xf0\\x91\\x8f\\xc0\\xb9\\xf3\\xe2#\\x1f\\xa2\\xcf|\\x16~\\xec_\\xbf\\xe5m\\xf4x\\x8a\\xee\\x00 @\\x10*\\xcfS\\x03\\x83\\x03fR\\x99\\xcb\\x02\\xcc|\\xef\\xf6\\xdd\\xae\\xa5\\xf3\\x04`l\\xe0\\xe6O\\xff\\xd2o\\t)\\xb4\\x1d.=\\x95\\x9c\\x98L\\xa7\\x12^X\\x80\\xab\\xaf\\x02N\\'\\xa3\\x85h\\xb8l\\xe2\\xc18\\xc5=\"EJ\\x91\\x17-\\x0b\\xa7\\'\\xd2\\x95U)Oy\\xe1P\\xb8,\\x95\\xbcx\\xe6\\xe2\\xaau\\xab\\x14)\\x9d\\xfa\"%\\xa1B\\x07% \\x08\\xb3\\x80\\x8b\\x99sZ/\\xd9\\x8a\\x98\\x95\\xf2\\x14)Oy\\x1ey\\xd7\\xaf\\xf4\\x9f;y\\xbe\\xad\\xb3e\\xc9\\xda\\x85\\n<\\x97\\n\\xf9l\\x9e\\x99\\x0b\\xb9B\\xa1P \\xa5\\x9c\\xb0\\x13\\x8eF\\x04b\\xd8\\tW\\xb6\\x947\\xcc\\xa9\\xbd78\\xdc{\\xb0\\xb7un\\xcb\\xfc\\xc5]\\x8e\\x90\\xc4$\\xa5\\x03\\xcc,h\\xed\\xc65\\xff\\xf8\\xa5\\xaf\\x9d;wn\\xd9\\xf2\\xa5\\xa8\\x9b\\x9ch\\xc5\\x1f\\xbf/\\xc22S\\xea\\xf59yE\\xa0\\x1fp\\xc0\\x92\\xd7\\x14\\xe3\\xd1\\xdf\\xf7\\xf5{\\xab\\xf30\\x9a\\x14]\\xbet\\t\\x00\\xe6\\xcc\\x9d\\xa3\\x94b6\\xd2\\x1f\\xb1\\xa7\\x94\\xe7\\x91R\\xac\\xab\\x19Tf:s\\xf7\\xce\\xf0\\xd8\\xe8\\x98\\xf6\\xe9\\xca*\\xcajj\\xab+++\\x00\\xc1qB\\x00\\xa0;\\xf3:\\x92\\xd1\\x97s\\x850\\x11%\\xc3\\\\H\\xc0|w\\xe8\\xee\\xdeW\\xf6\\xbe\\xf2\\xf2\\xab\\x07\\xf7\\x1d\\xccf\\xb2`\\x8e\\x14_\\xf8\\xdc\\x17V\\xaf[\\xbdfm\\xb7\\xa9\\xb0\\x11\\xac\\xa7\\x99\\xb6Dtxx\\xe8\\xf6Pm]-\\xf8\\x15\\xcf\\xc5>@\\xfc\\xc6\\xef\\x16\\xf8\\xa2~\\xcbabR\\x04\\x0c\\xec)b\\xa6\\x82:{\\xe9\\xfc\\xb9\\xcb\\x17\\x96\\xcc[\\xb0\\xa0m\\x1e0\\xab\\xac\\xcb\\x8au*4p\\x01\\x01\\x14\\xe8\\xc6m \\x1c\\xb9\\xa4u\\xfe\\xc2\\xb6\\xce3}\\x17\\xbf\\xfe\\xd2\\xb77u\\xafkmn\\x05\\x04\\t\\x0e \\x118\\x9a\\xabt\\xa2yQ2(\\xb1\\xad\\x8a\\xbe\\x94\\x7f\\x89\\xcd}\\x80~\\xfai\\x90U(\\x10\\x11\\xa2\\xf1h&\\x9by01V\\x9dH)\\x00\\x11\\x92\\x88@\\xe0\\x80\\xa7\\x08pQ\\xeb\\xca\\x11hMg\\x96L\\x8c\\xee(\\x8f\\xd5m\\x9cW\\xa6\\n\\x91\\x82\\xec-\\x88\\x13\\x1e\\xf6\\xe5\\xe1x\\x9e\\x8fO\\xe6\\xbf\\x80\\x10\\xce@[K\\xfbVu\\xc3\\t\\xd5\\xad\\x86H\\xca\\x8c\\xa6\\xb9a\\x11\\x100\\x99\\xe0\\xdd\\xbb\\x81H\\xce\\x9bC\\x9f\\xf9S\\xfe\\xd1\\x1f\\x05\\x00\\xd8\\xb9\\x8bZZ\\xc4/\\xfc_\\xf4\\xc3\\xff\\x07\\x84B\\xef\\xad5\\xf5fx\\x17,,\\x04lkm\\xd3\\xcf\\xf8A\\x17\\x06\\xc4\\x9a\\x86\\x1a\\xa5\\x08\\x00\\xb2\\x1d\\xad\\x7f\\xf3\\xef\\x7f\\xb5\\xb2\\xa1\"\\xef\\xe4\\x18\\xe8\\xc7\\x9f\\xff\\xb9|,\\x16M\\xe7\\x10\\x04 \\n\\x81D\\x1c\"\\x0e\\xe5\\xddlE\"\\xe4\\n\\xa9;\\\\\\xa0\\x08EC\\xb9\\xa9<\\xf9;\\xd9\\xb6/h;s\\xf8\\\\\\xff\\x95\\xebs\\xbb\\xe6z\\xe4:\\xc2Q\\xca\\x13\\xc2Q\\xa0\\x84\\x11St2/\\xfaB\\x06\\x02(b$\\xdd\\r\\x8e<f\\xced\\xa7O\\xf7\\x9e\\xcf\\xe5\\xb3\\xebw\\xad\\x03G\\t!\\xa6\\xa7s\\xd9\\x89\\xcc\\x9d\\xdb\\xf7\\xa6F\\xd2\\xa1\\x88,d\\xddxelj8\\x9d\\xac\\x8a\\x03`uCEUc\\xa5#Cu\\xeduuM\\xb5W\\xcf^\\xf3\\nj\\xf1\\xcaED,\\x90X03\\x08\\x81\\xbb\\xf7\\xec~\\xe9\\x85\\x97\\x9a\\x9a\\x9ajj\\xaaM\\x03\\x15D V\\xa0\\xbe\\x97\\x16\\x83&\\xc1\\xcch)E3M\\xa7\\xfb\\x04\\xa3\\xed\\xbb\\x13\\xc5\\x0e\\x13~\\xc0\\r\\x01H\\xbc\\xf3^\\x86\\x81\\xae\\x83\\x00\\x0c\\xa7O\\x9fY\\xb7~]\\xa0\\xf8\\xe8\\x92\\x19\\xd2*\\x00\\x00)\\xe5\\xba\\xde\\xd9\\x93\\xe7F\\x87G\\xab\\xaa++\\xabRNHx\\xae\\xcaf\\xb2\\xa7\\x8f\\x9d\\xad\\xa8Lu.\\x9a[\\x9eJ\\xa1\\x10l\\xa2h\\x04B0\\x80(\\xd1s\\x88\\xd4\\xd93\\xe7\\xf6\\xbd\\xb6\\xef\\xa5\\x17^\\xea=v<0-;\\xbb:w=\\xb5c\\xc3\\xa6\\r_\\xfd\\xf2W\\xbf\\xf1\\x8f\\xdf\\xfa?\\x7f\\xec\\xa7\\xff\\xe2\\xaf>\\xbfe\\xdbf_#B\\xd0\\xdc\\x87\\xc6<\\x1a\\xba=\\xb4h\\xf1bc[\\xb1\\xaf\\xb5s\\xb0\\xf3;\\xfa\\xd9S\\xc1\\xb0\\xfa\\xc5\\xbd\\x04\\x88:c\\x14t\\xed\\xeb\\xd1S\\xbd\\xf7F\\xee?\\xbbyW2\\x12g\"\\xe5*f \\xd7\\x03Dr\\x15JT\\xae\\'C\\x92\\\\BG\\xa2\\xab\\xc0\\x11\\x8etV/\\\\\\xdePWw\\xe0\\xf8\\x91\\rLsZ\\xdaL\\x02\\x18\\xfb\\xb1\\x9b \\xcbA\\x9f\\xcc[\\xcfs\\x9eI\\xb4\\xa5\\x96\\x97N\\xa3@\\x86ym\\x1d\\xb7\\xef\\xdd\\xa9\\x9e[\\x81\\x81\\xb7\\x08\\x0c\\x02\\x01\\x19d\\xda\\x8b|1\\x12sZ\\xc3\\x9f\\x10N\\x0c\\x88#\\xfc\\x81\\xa8\\xfb\\x01\\'\\x1c&\\x1eU\\x91\\xb39\\xea-`o\\xd6;\\x99L\\xf6\\x11\\xf4E\\x7f\\xf3L\\xf8\\xd5S\\xdc9\\x9f7n\\xe2]\\xbbi\\xc7N\\xa8\\xae\\xf6O\\x8d\\x01\\x10\\xee\\xdc\\x81\\xbbw\\xf9\\xc3\\x1f.\\x9e\\xe1\\x07?\\x08\\x1f\\xff\\x18\\x0c\\x0eBg\\'\\x00\\xce\\xf8:\\xef=w\\xbds\\x0b\\x8b\"\\xd1\\xc8\\xbd{\\xf7tA\\x8c6\\xd0\\x85\\x10\\x82(\\x9f\\xcd\\xe729\\x1d)Q\\x0c\\x99t>\\\\\\xedh\\xa7c,V\\xceB\\xb4\\xf6\\xdd\\x19\\x98[\\x07\\x00B\\xd0\\xbcs\\xfd\\xf9x$\\x9dJy\\x03\\xc4\\xba\\x89$s(\\xeedF\\xb3\\xc4\\xe4\\x91B\\xe5EBr\\xe1\\xaa\\xf9g\\x8f^\\x98\\x9c\\x9c\\xeaZ\\xd2\\x19\\x8dF\\x1d\\x94\\x80(\\xa5\\x03\\xa0{N\\x82\\xd9\\x1f\\xc5\\x8f\\xcb\\x1a\\x15\\x97I\\x11)\\xe5\\x8d\\x8d\\x8d\\x9d:v6\\x91\\x8a/X\\xd2E\\xacr\\x85\\xcc\\xd8\\xf0\\xf8\\xdd\\xc1\\xfbn\\xc1\\x8bV\\x84k\\x16\\xa6X\\xea\\xb4#\\x8e6\\xa7$\\x8b\\xdc\\x94;|wdh\\xe0^\\xe3\\xdc\\xba\\x8a\\xfa\\x8ax$1o\\xc5\\x9c\\xcb\\xc7\\xfbN\\xf5\\x14V\\xad[A\\x14\\x02\\x00G\\x12@\\xa8\\xbc2\\xb9t\\xd9\\x92\\x9e\\xa3G\\x9f}\\xeeY\\x14\\x82M\\xe3\\x1b\\x00\\x9d\\x8c\\xfaf\\xb1\\xaa\\xc0\\xbc0NS\\xe0\\x06p1\\xb9\\xfau\\x06\\x97I\\x103\\xa1\\rD\\x0c\\xdc\\x0b\\xfd\\x02\\xc6\\x92U\\xf2m\\xc1\\xff4\\x82;CwB\\xe1PsK3\\x9b]\\x87\\x95bRL\\x9eR\\x8a\\xc8#/\\x9d\\xc9\\x1c|\\xf9PyUj\\xcd\\x96n\\x19\\x96\\xe6\\x9c\\x99\\x11E\\xeb\\xfc\\xd6[\\xd7\\x87z\\x0f\\x9dX\\xb8|a]c-:aD\\x12\\xe8\\x00\\xb1#\\x90\\x00\\'\\xc6\\xa6\\xf6\\xef\\xdb\\xbf\\xff\\xb5\\xfd/\\xbd\\xf0\\xd2\\xbd{\\xf7\\xf4g\\xc7b\\xb1\\xd5k\\xbbw=\\xbd\\xeb\\x99\\xe7\\xf7446\\xe8J\\xe9M\\xdb6E\\xa3\\xd1/\\xfd\\xfd?|\\xe2\\xe3\\x9f\\xfc\\xd3/|\\xf6\\xb9\\xf7?\\'\\x10P\\xef\\xfe\\xa2\\x83\\x81(\\xee\\xdd\\xbb?=\\x9d\\xee\\xe8\\xe8\\x10~dPg\\x81\\xf9\\xec\\x17\\x88r\\xfe\\x80\\xb2\\xd9\\xc2\\x17A\\xf7\\x94\\x04R\\n\\x00\\xc8U=\\xa7\\x8f\\x8f<\\x18\\xdd\\xbdv\\x9b\\xc3\\xe8\\xb9\\x1e\\xe5uB\\xa1\\x07\\x9e\\x11`\\xf5\\x9bz9W\\xc7\\x04e\\xc8\\x01\\x04\\x11QX\\xc0\\xa6\\x8a\\xfa-\\xcb\\xd7\\xf5\\x9c;\\x15\\x16NKK\\x0b\\xe8\\xfb\\xd04;@\\x9d\\x1b\\x03B\\x13\\xec[r\\x96OW\\xe6\\x80\\xe2-\\x12T(\\nh\\xa8o\\xec\\xeb\\xef\\x83N\\x81\\xc0BJ\\x05 X\\x82R\\x88N\\x86\\x8f\\x03P\\x04V:\\x91\\xa4\\xee\\x0f#\\x1c!\\x00EXJ\\xa8\\x8bD\\x9eI\\xc03\\x10\\x92/\\x1e\\xfc\\xda\\x82\\x05\\xb9T\\xea\\x9a\\xe4\\xb3\\x80\\x88\\x97/\\xe1\\xe5K\\xf0\\xd7\\x7f%\\x85\\xe0%Ky\\xebV\\xd8\\xba\\x8d7o\\x86\\xba:\\xbcs\\x07\\x92I\\x88F\\x8b\\xa7(\\x1d\\xa8\\xaa\\x86\\xa1!\\xe8\\xec,\\xb1`g\\x06\\x16\\xde3\\xbc}\\xc2\\nV3\\x81\\xa2\\xb1\\xa91\\x93\\xce$\\x12qD\\xa1w\\x11B\\xc4\\xfa\\xc6\\xba\\xc9\\xb1\\xc9fD\\x00\\xa8j\\xac\\x1a\\xbb7\\x16\\xad+GB\\x04P2\\xdc\\xf3\\xcc\\xe6\\xf7\\xfd\\xc5\\xd7\\xbe\\xf9\\x89\\xe7\\xefw44\\xf4\\xddz\\xfe\\xaf_<\\xf4C\\xdb\\xbc1\\x19\\xads\\xa4\\xe9t+1\\x84J\\x99i\\xc0\\xcc\\x8aT$\\x1e\\xe9\\xde\\xb2r\\xf0\\xea\\xcdc\\xfbz\\xa5t\\xaa\\xeb\\xaa\\xaaj*\\xcb+S\\xc9DR\\x91\\x922D\\xec\\x9an\\xe0\\xc0\\x88\\x82I!\\n\\x8f<`\\xbe\\xd1\\x7f\\xa3\\xef\\xca\\xf5\\xfa\\xd6\\xba\\xe6\\xf6\\xa6\\xe9\\xdc\\x14\\x11_\\xbf0\\x98\\x9b\\xca\\xc5\\xaa#u\\xb5U\\xe3\\x99q\\x10<56\\xe5@(W\\xc8\\x87#a\\'&B)\\'QUV\\x98V#\\xb7\\xc7&G\\xa6:\\x97\\xcf\\x13Nx\\xe9\\xba\\xc5\\x97N\\\\\\x1e\\xb868\\xb7s\\xae\\xbf\\x8383\\xc1\\xc2%\\x8b\\xee\\xdc\\xb9s\\xe5\\xea\\x95\\x05\\x0b\\x16\\xfa\\xab\\xb8Q\\x7f\\x89\\xe9uv\\x96&n?\\x0b)\\xd8\\xc8\\xccLz\\x00s\\xbb\\x12\\x97d \\x83\\x9fb\\x14\\xf4cb(\\xf5.\\x8a\\xe1\\xb6w&\\xfc\\xeb\\x8f\\xbf=4\\xd4\\xd8\\xd0\\x88h\\xb4ib0\\xfb\\x80\\x02\\xe9\\xb9{\\xf8\\xb5\\xa3\\x8dm\\r\\x1d\\x0b\\xdb\\x80\\xd1#\\x85\\x88\\xa4\\x08Q\\x7fY1g~[yEY\\xff\\xe5\\xeb\\xb1x\\xa4\\xaa\\xbaZ\\x7f\\xab[\\x037\\xf6\\xbe\\xf4\\xea\\xcb/\\xber\\xe4\\xd0\\x11\\xd75\\x1bO\\xb4\\xb5\\xb7m\\xdb\\xb1m\\xf7\\x9e]\\xdb\\xb7os\\xc2\\x8e\\xae\\x83f0N\\x14:\\xce\\xa7\\xfe\\xe4S\\x89\\xb2\\xe4_\\xff\\xe5\\xff\\xf8\\x85\\x9f\\xf9\\xc5\\xcf}\\xe1s\\xef\\xff\\xc0\\xf3\\x08\\xa8\\x1b\\xa1\\xe9\\x85\\xe0\\xcc\\xc93K\\x97-5M}\\x11\\x11Qg\\x9e\"3\\x9b\\x14:\\x0c\\xb2\\xe3\\xc1xt\\xec\\xdbYd\\x16\\x0c\\x82\\xcb\\xd7\\xae\\xde\\xb9{g\\xf7\\xfam\\x11\\xc7\\xf1\\xf2.{\\x8a\\x89H)&\\xbe=r\\xef\\xee\\xf8\\xf0df:]\\xc8FC\\x11G\\xca\\x9aD\\xaa\\xb9\\xba\\xa9\"\\x91\\x14\\x8e$\\x97\\x84#X\\xa9\\xba\\x8a\\xea\\xee\\x05\\xcb\\xf6\\x1e\\xd9\\xff#\\xef\\xffp4\\x16\\xd5\\x1f\\xed/0\\xe0\\xdbB\\xa5\\xd6\\xd6[M\\xf17\\x91\\x05\\xfc\\xbb\\t\\x9b\\xeb\\x1b\\x0f\\x1f?JD:\\xe6\\'\\x05(D\\x94\\x82\\x89\\\\\\xec\\x05\\x800\\xacED\\x94\\x92\\x99PJ`\\x16R0\\xb1\\x10\\x02\\x98{\\xcf\\x9fJ\\xc4\\xea\\xbb\\xdaw\\x02\\xb3\\xfb\\xbf\\x1d7\\x93q\\x8e\\x1f\\x15\\x87\\x0e\\xe1\\x81\\xfdx\\xbc\\x17\\xcf\\x9e\\xc1\\xb3g\\xe0\\xf3\\x7f\\x0e\\x00\\xfc[\\xbfM?\\xf3I\\x98\\x9a\\x82L\\x06\\xe2qs\\x1e\\x9e\\x0b\\xa3#\\xd0\\xdc\\xa2O\\xeam\\xdffo\\x0f\\xef\\x80\\xb0\\x8a)d\\x10\\tG\\xc6\\xc7\\xc7\\x13\\xc9\\x84\\xbe\\x93P\\x08$\\xae\\xaa\\xa9\\x1c\\xbc~\\x13S\\xe5\\xd9\\x05\\x9d\\xd5\\rU\\xf7\\x07\\x879\\x0f\\xa1Xx\\xa4\\xab#9\\xa7b_\\xe5\\xcel<\\xf9\\xcc\\xff|)965U]~\\xe4#\\xdbO\\xaf\\\\\\x03y\\xda\\xb5\\xf7;\\x97\\xdf\\xb7\\xd9mH0@(\\x1c*d\\x0b\\x9e\\xa7\\xa4T\\xba\\x05\\x89 O\\n\\xa7ma\\x0br\\xcb\\xd8\\xc8\\xc4\\xf4\\xf8\\xf4\\xf5\\xbe\\x81l:K\\x8a\\xaa\\xeb\\xab\\xa3\\xd1hmcmy\\xaa<\\xe48\\xba\\xeb\\xb7\\xd6\\x032\\xe9\\xf4\\x99\\xe3\\xe7\\xf2\\xf9\\xfc\\xbc%s\\xe3\\xe5\\xb1t~:\\x9dM_9~\\r\\x1d\\xa8\\xeeL\\xa5\\x0b\\xe9\\x91\\xd1\\x91\\xa9\\xfbi\\x95a\\x02\\x85!f\\x80\\x0ceQI\\x14\\x1c\\xaf\\x8b\\x86\\x92\\xa2\\xbc\\xa3lbp\\xba\\xef\\xcc\\xf5\\xb6\\x85\\xcd\\x89\\x04\\xb4-j\\xbd\\xdc{\\xb5\\xbc\"YWW\\x1f\\xd2\\x93\\x84\\x11%.Y\\xba\\xe4\\xe8\\x91\\x9e\\x96\\x96\\xd6D<\\x01\\x02\\x98\\x03^1yJ\\xc5\\x16Q\\xaf7\\x9d\\xc8\\xb7\\xa6L\\xbd\\x8a\\x16\\xaa\\xd3\\xd3\\xe9l6\\xc3\\xc4D\\x14\\x89F\\xe2\\xf1x(\\x126\\xbdnt\\xfbS\\xbd\\xec\\x96\\xe67\\xf92\\xfd\\xdb\\xe0\\xac\\x92Y\\x82w\\x87\\xeev-\\xec\\xf2\\xd3\\xbcu\\x8e\\x1a3+&E\\xc8W/\\xf4%\\x92\\xb19\\x0b;\\x14)b\\xa5\\xe3-\\x9aj\\x05\"\\x11\\xb0tRU\\xe5\\xd5\\xf5\\xd5\\xa7\\x8f\\x9d\\r\\xc7\\x9cW_~\\xed\\x95\\x7f~u\\xe8\\xf6\\x90~w)\\xe5\\xda\\xf5k\\x9fyv\\xcf\\xb6\\xed[\\x97\\xad\\\\\\xee\\xafI\\xc0L$X\\x80\\xce{\\x92\\x00\\xda\\xe9\\xc3\\xdf\\xff\\xbf\\x7f/U\\x9e\\xfa\\xec\\x1f\\xff\\xe9\\xcf\\x7f\\xe2\\xe7\\xb3\\x9f\\xf9O\\x1f\\xfb\\x89\\x8f\\xa1N\\xefB\\xbcv\\xe5Z\\xa1PX\\xbch\\x91\\x00\\xa1\\x9f\\x0c\\xec \\x02\\x04\\xd3N\\x98\\x03\\xaf\\x16@\\x1b\\xaf@A\\x86\\x06\\x00+599q\\xfa\\xc2\\xd9\\x1d\\xeb\\xb7\\x84\\xd0\\xf1\\n\\x9e*\\xb8\\xec\\x92\\x97w\\'\\xa6\\xa7N\\r^\\xc8\\xbbnc\\xb2\\xa6\\xab\\xa2%\\x11\\x8e\\xbaJ\\xa5\\x0b\\xd9\\xd1\\xfc\\xe4\\x91+\\'+\\xe2\\xc9\\x15m\\x0b\\xe3\\x89\\x04\\xb9\\x88\\x02\\xc9U\\xcd\\xd5\\x8d-u\\x8d\\x87\\x8e\\xf7l_\\xb7\\x05\\x04!\\x12\\n\\x07\\x04r \\x0f\\xcd\\x90\\x1d\\xbf\\xfb5\\xe2\\x92\\xc7\\xe0\\xeap$\\x1c.K$\\xc7\\xd3\\xe3Ue\\x95B\"+)$\\x10\\xa3\\x00\\xcc{=\\x00\\x10\\xc5\\r\"\\xe2\\xe8=i\\x85#\\x19@H\\t\\x0e\\x08G^\\x1d\\xbc>4|\\xef\\xf9\\x1dO\\xfb\\xae\\x08B2\\xc9\\xbb\\x9fVO\\xedA\\x81\\xa0\\x948{\\x06\\xf6\\xbe\\x82\\x87\\x0e\\xe1\\xc1\\x03\\xdc\\xb5\\x00\\x1a\\x1a\\xa1\\xb5\\r\\xbf\\xf2\\x0f\\xfc\\xb1\\x9f\\xd0\\xe7\\x8e\\xff\\xf8U\\xa8\\xad\\xe3\\x8ev#C\\xce\"\\r\\x0b\\xc0\\x8cb\\xaa2u\\xfb\\xd6\\xed\\x96\\xd6\\x16@\\xd4\\xbb-\\x11R}S\\xc3\\xc9\\x9e3\\xa3;\\xd7L\\xff\\xe9\\x1fDr\\xd3\\xb5\\xcd\\xd5#7\\x1e\\xb4,lx\\xf1s\\xbf\\xc3L\\x955\\xd3\\xa7\\x92[\\x8emXG.\\x8b\\x88p\\xc7\\xbd\\x18\\x8am\\'\\x8f\\xac\\xf9\\xe2\\x8b\\x0b\\xbes\\xfc\\xe5?\\xfaw\\xd9\\x96FD\\x11+\\x8b\\xe6\\xd29\\'\\xe4\\x08\\x81\\xae*8\\xe0x\\xe492D\\xa4*j\\xca\\x92\\xd5\\xc9\\x90p\\x008\\x97)L\\x8dOO\\x8dM\\x8e\\x9f\\x1f\\x1b\\xbaq\\xb7\\xa1\\xa5\\xde\\t9\\x91pD:\"\\x9b\\xce\\xdd\\x1c\\xb8\\xb5pyW\\xd7\\x9c\\xf9Rb\\xb6\\x90u\\xdd\\xc2\\x95\\xdek\\xf1\\x8aH\\xb8\\xce\\xf1\\xd0\\x9b\\x18\\x9ar\\xc7\\x94J\\xe4\\x9d&\\'\\x9d\\x9f\\x0c;\\xa1\\x9c\\x9b\\x0f;\\x11d\\x90\\xd9hv$\\x9f\\x9f\\x10\\xa1\\xb6Hy{<s\\xcb\\xbdy\\xe9\\xf6\\xfcU\\x9d\\xe1H\\xb8e^\\xcb\\xa53Wjv\\xd5\\xea]\\x96\\x08\\x08\\x99\\x1b\\x1a\\x1b\\x1a\\x9a\\x1a\\x8e\\x1d=\\xb6}\\xe7v-9\\x05\\x17\\x93X\\x05\\r\\xb6\\x02g0\\xa8E3S\\n\\x98\\x88o\\xdd\\xbcy\\xf3\\xe6\\xad\\xd1\\xd1\\xd1\\x89\\x89\\t\\xc7\\x91\\xb9l>UQ>>>Q]U}\\xf5\\xea\\xd5\\xb9\\xf3\\xe6&\\x92\\x89\\xda\\x9a\\x9ay\\x9d\\x9d\\xe5\\xe5\\xe5\\xfe\\x15`]\\xc4\\xa7\\xb5h\\xf0\\x95[|{1D\\x06\\x06.\\xb8\\x85\\xaa\\xea\\xaa`\\x9a\\x10\\x00\\x00\\x11\\x82\\xb6\\x01\\x87\\xef\\x8e\\xcc\\xe9jC\\x80\\xa0\\x8bF\\xe0\\x93\\x12\\xb3@\\x18\\xba5t\\xf4\\xe0\\xb1\\xde\\xc3\\xc7\\xf7\\xed\\xdd\\x9f\\xcf\\xe7\\xf5\\x9bTUWm\\xdc\\xbc\\xf1\\xa9gv?\\xf7\\xbe\\xe7S\\xe5e\\x08\\x02\\xfd&.\\xc1\\xdd/\\x00\\x08\\x04\"2iyI[\\xca\\xf0\\xeb\\xbf\\xf9\\xab\\x89x\\xfc\\x0f\\xfe\\xe3\\xa7\\x7f\\xe5\\x17\\x7f5\\x9b\\xcd\\x7f\\xf2\\x93\\x9f@\\x81\\xe9\\xc9\\xf4\\xe5\\x8b\\x97\\xd7\\xad_\\x8b\\x88\\x02\\x05\\n\\xc1\\xc4\\xec)\\xdfC!\\x00\\xff}\\x14\\x834\\xad\\x14\\x98XKjh\\xa2\\xcd@\\x1e\\xfd\\xf3\\xbe\\xbd\\x0b\\xe6\\xcc\\xafJ\\xa6\\xbc\\xbcK\\x8aH1)u\\xf7\\xc1\\xfd\\xd7.\\x1d\\xebn^\\xd4ZV\\x0b\\x0cT\\xf0\\x80\\xd1a\\x91\\x88Ejc\\x15\\x9d\\x95-\\x97Go\\xbcp\\xee\\xc0s\\xcb\\xb7F\\xa3qv\\t\\x1c$Ek\\x17\\xafz\\xe1\\xc8\\xde\\x91\\xf1\\xd1\\xfa\\xfaz\\x06\\x11$\\xa1\\x99Tx\\xbd\\xe1\\x18\\xe3[l<fl\\xc1\\x19Z\\x96vi\\xd1x\\x85\\x00\\x10\\x8b\\xc5\\xf2y\\x17\\xca\\x01\\x11\\xf4\\xd6\\x08\\xc8\\x82q\\xda\\x85\\x8b\\x082\\xeat\\x03\\xa3\\x14\\x92\\x81\\x01\\x05\"\\xa3#\\x80\\xe1\\xf6\\xf0\\x9d\\x93\\x97\\xce\\xec\\xd9\\xbe;\\x16\\x8b\\xe9-\\x13t(\\xa0\\xb8\\xb8I\\x87\\xbbWCw7\\x03\\x82\\xe7\\x9ab\\x86?\\xf9\\x7f\\xc5\\xbf\\xf9i\\xba?\\x8c+W\\xf2\\xd9\\xb3\\xe2\\xd3\\x7f@\\x7f\\xfeyt\\xa4^\\x16\\xf5\\xd5\\xc3\"\\xab\\xf2wI\\xd6}\\xe7x\\xa7\\x84%P\\x10R{{\\xfb\\xc1\\xfd\\x07\\xc5F\\x10\\x88,P\\x10H!\"\\x91h\\xc7\\xbc\\xf6\\xeb\\x17\\xae/[\\xbb\\xd4\\x91\\xa1\\x969-\\x13\\xa3\\x93\\x0fn\\x8e\\xa7Z\\x12ZC\\x88u\\xc4\\nn\\xc1+(\\xa584W\\x08!\\xfajv\\xcc;v\\xb1\\xee\\xc2\\xb5\\xe7~\\xe9\\x0f_\\xfb\\xe3\\xdf\\x9c\\xeel\\x0fE\\x9d\\xb1\\xbb\\x93\\xf1\\xb2X\\x81\\x18\\x11=\\xe5\\x02C\\x01\\xf3\\x8c\\x90\\x83\\xac\\x0e\\xa5H\\x81 \\xb0\\xbc6\\x9e\\xaaKH\\x11\\xea\\\\97\\x97.\\xe4\\xb3y\\xe5*`,\\xaf.\\xebZ\\xd5\\t\\x08J\\xb9\\xb9\\x82\\xca\\x17r\\x17{\\xae\\x86\\x122\\xde\\x10Mg\\xa7\\xc7\\x07\\xa7\\x0by\\x17\\x1a\\xddta\\x8a3DiP.\\x10rZ\\xa4!\\xaa\\x18\\'\\x13\\xa9\\xa43\\x16\\x1b\\x1b\\x98\\x8c7\\x85R\\xad\\x15#\\x97&\\xee\\xdf\\xbe_\\xd3XS\\xd3Tq\\xfd\\xc2\\xf5\\xa1\\xa1\\xbb\\xcd\\xcdM\\x02\\x85BD@%p\\xd5\\xaa\\x95_\\xfc\\xbb\\xff=gnG{G\\x07\\x00\\xb3)\\xd9x+\\x01\\x8b\\xc9\\x9f\\xf2\\xd9\\\\\\xee\\xf2\\xe5\\xcb\\xd7\\xaf]G\\x80\\xc6\\xa6\\xc6\\xe5+\\x97\\xd5\\xd4\\xd4\\x84B!\\xc0\\x80}\\xe0Yxfzj\\xfa\\xfe\\xfd\\xe1{w\\xee~\\xfdk_oii\\xe9\\x9c?O\\xcb%fCLD\\x044\\xb9\\x9a\\xbe\\xd0\\xf5\\xfd_UF\\x86\\xfe\\xeb\\xfd\\xcf=\\xff\\x1c\\x03\\xeb\\x8a?0\\x1a50pz:=16QQ\\x93\"\\xd3\\xc1\\xcaX1J\\xa9\\xab\\x97\\xae\\x1e\\xfa\\xce\\x91C\\xaf\\x1d\\xbe|\\xe1J\\xf0vm\\xed\\xad{\\x9e\\x7f\\xfa\\xa9=O\\xaf^\\xdb\\x1d\\tG\\x10\\x85\\xde[P\\x9f\\x9a\\x9f[\\x89\\x04:\\xeb\\x90\\xa4>{)\\x8c=\\xa2c\\x83B\\xfc\\xc2/\\xffBYY\\xf9o\\xff\\xc6\\xef\\xfc\\xceo\\xfc\\x0ey\\xea\\x17\\x7f\\xe9\\x17\\x0f\\x1f:\\xdc\\xdc\\xd2\\xd2\\xd2\\xd2\\x82(\\xa4tX\\x91I\\x910\\x85\\xd5A\\x8a\\x08\\x01\\x03x\\xbe\\x89\\xc5\\xc0\\n\\x8c\\x89E\\x0c\\x04}\\x03\\xd7\\xc2NxQG\\'+\"O\\xb1K\\\\\\xf0F&\\x1e\\xec\\xbb||\\xeb\\x9c\\x95U\\xa1r\\x95\\xf7\\xb4\\x87\\xa8U|U\\x00\\xe1H\\x81\\xb8\\xacf\\xae\\x83\\xe2\\x9fN\\x1fxn\\xe9f\\xe1\\x08T\\xc8aG\"\\xccin\\xbbp\\xf9b]m\\x1d\\xa2\\x02\\x16\\xa6w\\xaa0m\\x1c\\x8ck\\x18lY\\xfa\\x86\\xf1\\x0f\\xc4J(\\x9e\\xb2\\x1f\\xf5`\\x06\\xc6B\\xa1 \\xa5\\xf4\\x03\\x9e\\xa6\\x9ba\\x9ez\\x19\\xbc\\x08\\xae\\x12\"\\xa9GV\\x80@\\x07u\\xd2\\xcf\\xbd\\xd1\\x91\\x13\\x17\\xcfn^\\xb3\\xb1\\xb6\\xba\\x06t\\x94S\\x87k\\xfd\\x86\\x16\\xfe\\xa39?\\x08\\x85 \\x04\\x00\\x00\\x1f\\xfc \\xbd\\xf0\"\\xfe\\x8f\\xff\\x0e=G\\xb1\\xbe\\x8e\\xbe\\xf1-X\\xbb\\xb64\\x89\\xac\\xf4k \\xbfW)\\xa3\\x1a\\xef\\xb8\\xe3(0\\x037579\\x8e|06\\x96\\xaa(\\x07\\xd0\\x92\\'9B.Z\\xb2`\\xffk\\x87\\xa6\\'\\xd2\\xe1D\\xd8Co\\xee\\xb2\\xb9WN\\\\-\\\\\\xf7\\x1a\\xe6VG\\xc3Q&\\x10Bp\\x94I\\x11\\xa0@fH\\xc5^\\xf9\\xa3\\x7f\\xb7\\xf3?\\xfcY\\xc3\\xf1\\x0b;\\x7f\\xe5S\\x07\\xfe\\xf8\\xb7\\xb1\\xb3\\xfd\\xe6\\xb9\\xa1\\xab\\'\\xfaC\\xa1\\x90V\\xaf\\xfdv\\xdf\\x0c\\x0c  \\x14\\x0e\\xa1\\xc0X\"\\x1a-\\x8bVV\\xa4\\x84S\\x10(\\xc31\\'\\x9cHJ\\x94\\x88 @x\\xca\\x03\\x84\\x82rI\\xa9\\xfe\\x0b7\"\\x89p\\xa2%\\xaaH\\x8d\\xdf\\x9ab`\\xaf:\\r\\x00*\\xcd\\xb1LY\\x81\\n,\\x94\\x02\\x8e\\xaa\\x04d\\xb8\\x10\\xcd\\xe7d6RArJ\\xa6\\x8781\\xcfK\\xb5\\'\\xef\\\\\\xbb_YS\\xce\\xe1x\\xd7\\xf2\\xf1a\\xcc\\x94\\x00\\x00 \\x00IDAT\\xce+\\xe7\\xae44\\xd5\\x13\\x91RJ\\xa0dV\\xa1\\x90\\xf3\\xf4\\xb3O\\x7f\\xe3\\xab_\\xff\\xd0G?\\xd4\\xd2\\xd2B\\xcc\\xc2\\xac\\xeb\\xa2\\xc4\\xb6\\xd7k\\x93iv\\x91\\xc9d\\x8e\\xf6\\xf4\\x8c\\x8e\\x8c\\xa6R\\xe5\\xeb\\xd6\\xaf\\xad\\xa9\\xafE\\x06\"\\x85\\x88\\x9eR(\\x90\\x88L\\xcf\\x12\\x94\\xf1x|\\xce\\xdc\\x8e9s;\\xd6\\xba\\xaa\\xaf\\xef\\xea\\xb7\\xbf\\xf9O\\x1d\\x1d\\xed\\xddk\\xbakjj\\x11Y\\xbbQ\\xa6K\\x14\\x98\\xf2\\xe0\\xb7cg!\\x94\\x97\\x97\\x87B!\\xc5FiB\\xf6\\xdf\\x170\\x97\\xc9\\xa7*S\\x08\\xc2\\x10\\x81\\xb1\\xbf\\xe0W\\x7f\\xf67z\\x0f\\x1f\\xd7\\xc7\\'\\xcb\\x92\\xeb7\\xaf\\xdb\\xb6kk{K{\\xaa\\xa2b\\xe1\\xd2\\xae\\xb0\\x13\\x86\\xe2\\x8e[f\\xd7t?\\x82\\x86\\xc0 \\x8d*\\xed(&D\\x00\\xd0\\x99\\xc1,t\\xabj!\\x11\\xf8\\x93\\x9f\\xfc\\x99p8\\xfck\\xbf\\xf2\\xeb\\xff\\xfe\\xb7\\x7f\\xf7\\xd4\\xc9\\xd3\\x1f\\xff\\xf8\\xc7\\xd7oX\\x07\\x88\\x02\\x04\\xfb\\xfd6\\x11\\xd0\\x94\\x15)@mO\\x05]\\xf7\\x88\\x10\\x05\\x10\\xb1\\xc0 J\\x00\\x0c\\x17\\xae^Z\\xb9h90\\x10\\x11(\"b\\xcfsO\\r\\\\\\xecn^X\\x15.gOMN\\xc0\\xd9\\xbe\\xd4\\xca9\\x0f\"\\x11\"\\x8f]\\x96\\xa7\\xae\\x97m\\\\:I\\xaeZP\\xd5\\x9e\\'\\xf7\\xf4\\xad+\\x1b\\x92\\xdd\\xdaX\\x13\\x0e.\\xea\\xe8\\xfa\\xf2+\\xdf\\xc8\\xe6r\\xb1x\\x94Yw\\xda\\x06\\xd4mjM\\xe1Xq\\x86\\x07\\x93\\xe9\\xf5O\\x9aE\\xc7\\xd7\\tL$\\x06\\xc6\\'\\xc7\\xee\\x8f\\x0eW\\xa6*\\x80tq\\xba\\x99\\x879\\xee\\x01\\x80\\xa8\\xd8\\xe0\\x17G\\xe9\\x8df\\x050Lg\\xa7\\xbfsl\\xff\\x865\\xeb\\xdb\\x9a[\\x8c\\xf4g\\x82\\xb5&\\xa6\\x8e\\xc8\\xba\\x13rq\\xb0\\x8a\\t\\x85\\x00\\xdd\\xab\\xb9{upo\\x04b  \\x9a\\x8cG\\x0c\\x9c\\xdd7Q\\xdf\\xdeE\\xc8\\xdf\\xff\\xfd\\xdf\\x7f\\'\\xaf\\x0f\\xe4\\x92\\x89\\x89\\xc9\\x07#\\xa3-\\xad\\xcd`\\xd6\\x04$b\\'\\xe4(\\xf6\\xae]\\xea\\xafo\\xae\\x0b\\x85\\x1cD\\xa8k\\xaa\\x99\\x18\\x99\\xb8{m8\\xe4\\x84\\x12eq!\\xa5#\\xc3R\\x84\\x1c\\xe9\\x84dH:R\\x86\\xa3\\xb7vo\\xac\\xb8~\\xb3\\xf2\\xca@\\xeb+\\x87GV-\\n-\\xed\\x88\\xa5b\\xe1\\x98\\x13N\\x84\"\\xc9P\\xb8<\\x12-\\x0b\\x85\\xcb\\x9dHy8\\x94\\x90\\xe8\\x00\\x83\\xcae\\xf2S\\xa3S\\xb7.\\xdfIO\\xa7s\\xb9\\xac\\x0c\\t\\xc5\\x8aX\\xb9\\x9e\\xeb\\xe7^\\xb9\\x9e\\xeb\\xde\\xb8z3;\\x9d\\xab\\xeaH\\xe5\\xbd\\xdc\\xd4\\xf0Tv\\xbc\\x00\\xb5n\\xa6\\x90\\xe61!\\xd2\\xa1\\x89\\xf0\\xc8}\\x18\\x9a\\xc2\\xf1)\\x1e\\x1b\\xc7\\x11/\\xe4&\\xfe\\x7f\\xf2\\xde;L\\x8e\\xac:\\x1f>\\xe7\\xde[U\\x9d\\xc3\\xcc\\xf4\\x84\\x9e\\xa4\\x89\\x92f$\\x8dr^I\\x9b\\x03\\xec\\x12\\x8d\\xc1\\x81l~\\xb6\\x1f\\x03\\xbb\\x86\\xc5\\x06\\x1bl\\xe0\\xc3xm\\x03k\\x03\\x06\\x83\\xc9a1\\xd1^`\\xa3\\xe2jW9gi43\\x1aM\\xce\\xd3\\xb9\\xbb\\xaa\\xee=\\xdf\\x1f\\xb7z\\xa4\\x85\\xcf\\x18\\xff\\x08\\xe6{|\\xf5\\xa85j\\x8d\\xa6\\xab\\xabo\\x9d:\\xe7=\\xefy\\xdfRT\\xb8\"\\xcb\\xd2f\\xd0\\x80\\x19\\x83\\x05@\\x048\\x15AJ\\x15\\x8a\\x86\\xc2\\x91\\xd0\\xd4\\xc8t \\xe4\\x0f\\x86\\x82\\x8cq\\xdd\\x1e\\x05\\x80H8\\\\[[\\xfb\\xec\\xd3;\\x83\\xc1P\\xbc\"\\xaew\\xc1M\\x88\\x95\\x87\\xc0\\x12(\\xdb\\xb6\\xcf\\x9c9\\xb3{\\xd7\\xee\\xaaD\\xd5\\xc6\\xcd\\x1b\\xdb;;\\x02A\\xbf\\xf2\\xa8\\xe4J[x(%5\\x8fL+\\xaf\\xeai;\\x00\\x00\\x06U\\xd5\\x89\\x95\\xabVf\\xb3\\xb9}{\\xf6\\xf9\\xfc\\xbe\\xaa\\xaaD9\\x9f*\\'\\xea\\xbak\\xfb\"\\xda\\xcf\\xcf\\xfc4\\xcb\\x1c \\x00<|\\xf8p\\xcf\\xca\\x1eM~\\xd4\\xc3u\\x9a\\x86\\xa4\\x94\\xcce\\xb3\\x13\\xa3\\x13\\xf5\\x8b\\x92\\xa4\\xfd<=\\xc8\\r&\\xc6&\\xc6G\\xc7\\xef\\xb9\\xff\\xee\\xb7\\xbd\\xe3\\xad\\x0f\\x7f\\xe0]w\\xbe\\xe4\\x8e\\xae\\xee\\xael:\\xc7\\x91W\\xd5Tpn\\xe8^\\x8a\\xa7\\xb7\\xc1\\x90!\\xd7m>]\\xcf\\xa17\\x00\\xa8\\xe70\\x99~\\xaalC\\xcf8\\xe3:5[\\xbdzU{{\\xc7\\x8f\\x7f\\xf4\\xe3\\xf3\\xe7\\xce\\xd7\\xd6\\xd5\\xdes\\xf7=\\x0c\\x19z\\xd7\\xad^\\xde0\\xa2W\\xaa\\xea\\x8b}a\\xd4\\xd9#\\x99\\x95\\xf5 $\\r\\x0c]\\x9f\\x9c\\x99^\\xdd\\xd5C\\x8eKJI\\xdb%\\xa9\\xfaF\\xaf\\xa5s\\xb9e\\xd5\\xad\\xcau\\xa5\\xe3\\x9e\\xbe\\x12z\\xd3#+\\x95\\x84u\\xedS@49k\\xfc\\xceG\\xd7\\xbf\\xed\\x9e>\\xe0\\x0c\\x14UDb\\x97\\xa7\\x06\\x9b\\xab\\x92\\x0c\\x90[\\x82\\x88\\x0c\\xcb\\x9cK\\xcf+\\xa2\\xaaX\\x05\\xe3:p\\x94\\xc3\\x84\\xf7\\xa1\\xfc\\'S\\x11t\\xd3\\x07\\xa1\\xef\\xcdR?\\xea\\xa3UJ\\xa9\\xe7\\x8f\\x1ejkl\\xa9\\xadH\\x10\\x10(\\xcfP\\x01\\x00R\\xee\\xc7]\\x1a\\x8d\\x89?1Y\\x9b>\\xa9\\xc8\\x109\\'\\xa4\\x17N\\x1ei\\xa8\\xab\\xef^\\xbc\\x14\\x192\\xc1\\x01\\x119\\x03O\\xf7d\\xc1\\xb0Q\\xe7Zz\\xdb\\x00\\xdc\\xb8\\xb7\\x94\\xe3\\xd1M\\x7f\\xbd\\x89\\xef\\xb6\\xc0\\xd6\\xc0r\\x0c\\xfb\\x15fX\\xbfX\\xc0\\xba\\x89\\x92\\x1f\\x8f\\xc7\\x8f\\x1c>\\xdc\\xd6\\xd1\\xc1\\x85\\xf0\\xaeI\\x04$\\x88\\xc4\\xa3\\xa9\\xb9\\xd4\\xf0\\xc0HM\\xb2\\x9aq\\xce9\\x8fV\\xc5\\x82\\xb1@v6;|iL\\x16\\x15H\\x00\\x05\\x02\\x85\\xe0\\xc20\\x0c\\xc6\\x18\\x13\\xe6\\xe8\\x8e\\r\\xe1\\xc1\\x91\\xd8\\x95\\x81\\x86\\x9d\\x07f\\xba\\xdb\\xb2\\xc9Jf1\\xc9\\x1cfbI\\xe5\\x81C\\xde\\xcd\\x03R\\xce\\xce1\\x03\\xa4)\\x8d\\xb00\"\"T\\xe3\\'\\x82\\xf4Tvzd6\\x93\\xcaJ)\\xb9\\x81\\x04\\xe4*\\xc7\\x91\\xee\\xf0\\x95\\xd1|\\xb6P\\xd9\\x1a\\x03\\xa6\\x8a\\xa5Bj8OQGr\\xb7\\x98\\xb2\\x8d\\x82\\x7f\\xc2\\xbc^\\xc2|\\xd1.(\\x02G\\xda@\\xe4\\x80\\x93\\x13\\xe9\\x88[I.\\xa2\\x9f\\x84@\\xc8s3\\xcc}>_f<WU_\\xc9\\x19\\xe3\\xc0\\'\\xc7\\xa6\\x93\\x8du\\x8cq\\xe6u\\xa8\\x90\\x10c\\x91H}S\\xfd\\x9e]{F\\x86G\\x80(\\x12\\x8dz\\x9d\\xcb2Y\\xa1\\x90/\\x9c<y\\xea\\xe8\\xd1c\\x85Bq\\xc7m\\xdb[\\xdb[\\ra\\xe8\\xebLJ\\xa5@J\\xe5*R\\xaer\\t\\x946\\xf2p\\x95\\xd4\\x1d:\\xd2\\x92\\xbd\\xe5\\x18XS[\\xd3\\xd4\\xdc|\\xfa\\xe4\\xe9\\xc9\\x89\\x89\\xfa\\x86\\x06\\x0fL\\xd5\\xd4\\x0eMb\\xf6d\\xcf\\xff\\xebmT\\x0eX\\x04\\x00Wz\\xaf4\\xb76[\\x96\\xa1G\\x7f=);\"\\xa5\\x14\"\\x1f\\xec\\x1flh\\xae\\xf7\\xf8\\xd7\\xde\\x91\\xe0\\x8aU\\xcb\\x7f\\xeb\\xf5\\xaf\\xde\\xbcmS}c\\xd24MD&\\xb8\\xb8\\xde7T]\\x93\\x88\\xc4\\xa2\\x82\\t\\x86\\xc8\\x99`\\x8c3d\\x0c\\x98v\\x95G\\x04\\x06\\xdc;\\xe2\\xf25\\xc3=S]\\x8e\\x80\\x821@\\x14z\\n\\x9d\\x1b\\x00\\x94\\x9e\\xcb\\xd4\\xd4\\xd4\\x1c?~\\xfc\\xf9\\xe7\\x9f\\x9f\\x18\\x9f\\xb8\\xf7\\x9e{\\xb5\\xf3\\x02\\x10\\x91Tzn\\x19o\\xe8\\x98\\xaarC\\xe0\\x06\\xbfA\\xe3\\x85@\\x08R\\xed~a\\xef\\xf2\\xce\\xa5\\xf1pT9\\x0e)P\\x8e\\x0bR\\x9d\\x1d\\xbc\\xd2\\\\Q\\x17d>%\\x159jt\\xd2<|1~\\xfeZtk\\xf7d4P\\xca\\x15\\xf8c\\xfb\\x16\\xfd\\x9f\\xfb\\xfa\\x91q@\\xb0,s\\xbe\\x98q\\x94[\\x11\\x8cqC\\x00 3\\xb8\\xed\\xbac\\xd3\\xe3\\xad\\x8d\\xcd\\xc88r\\xc0\\x05\\xc2\\x8d\\xbe\\xce\\xcb#F7\\xa1\\xf0\\xde\\xc9\\xc7\\x85n\\xb1N^\\xa4\" r\\x15\\x10(\\xc7\\xdd\\xfd\\xc2s\\x00\\xb0\\xa6{\\x15* )I\\x11H\"\\xa2B\\tO_\\x1e\\x8cFr\\x95\\xd6\\x83\\x0cM@\\xd4[\\x921\\xec\\x1d\\xea\\x9f\\xcf\\xa6\\xb7\\xad\\xdb\\xcc\\xb8@$\\xe4\\x02\\x01\\x18\\xd7\\xe1\\x8ca\\xb9<\\xd4\\xbb\\x06\\xca\\x91\\xe7E\\x1d\\x81\\x9b\\xf7\\xce\\rn)\\xbc8\\xa8\\xe1B \\xfb\\xd5\\xad_4\\xc3\\x82rc]\\x98bvvnbb\\xa2\\xb1\\xb1A\\xbf\\x13\"b\\x0c\\x88\\xa8&Y3=9540R\\x91\\x88[\\x96\\x8f\\x80\\x82\\xc1`\\xb4*Z\\xd3XM\\xa4\\x9c\\xa2\\x93\\x9b\\xcbgf\\xf2\\xa9\\xa9\\xf4D\\xffta\\xbe4;2\\xe7\\x8b\\x04\\xa6\\xee\\xd9\\xea\\x1f\\x9f\\xaa\\xb8\\xd8\\xd7\\xb8\\xf7\\xf0TG\\xd3|m\\xbc\\xe8\\x94\\x1c\\xc7\\xce\\xce\\xe62#\\xf9\\xc2\\xac\\x9d\\x1b-\\xd8\\x19\\xa70i\\x17Sv~\\xbc\\xe4\\xd8N\\xc9\\xb5\\xad\\x880\\xe3\"\\x92\\x08+W\\xa6\\xa7\\xb3C\\x17\\xc6\\xf2\\xd9\\xc2\\xe4\\xf5\\xa9\\x99\\xd19@J\\xb4\\xc4\\x89)G:\\xe9\\xa9l)\\xed\\xa8\\x98mK\\x87\\xcd\\x199+\\x9dq\\xe7\\xa5\\x94%\\xb7\\xa8\\x94\\xab\\xe7\\r\\x11\\x99R\\n\\r\\x88\\x94*\\x1d_\\x01}\\xc4\\xd2\\x96\\x88\\xf2`8\\x98\\x9f.\\x86+B\\xa6e\\x86#\\xe1\\xe1\\xfe\\x91\\xda\\xfa\\x1a\\xcb4\\xc1K\\x10@\\xab\\xbe\\x07\\x83\\xc1\\x15=\\xcb\\x05\\xe7\\xfd\\xfd\\x03\\xa7O\\x9f\\xbep\\xe1b\\xa1X\\x18\\x18\\x18\\x98\\x98\\x98xn\\xdfs\\x97/_\\x0e\\x04\\x02k\\xd6\\xae\\xee\\xea\\xee\\xb2|\\xa6\"\\xadi.\\xa5\\x92.\\xb9Z\\x11_\\xd3\\xfd\\x95\\',Q\\xce\\xad\\xb4>\\xa7\\xc6\\xa4\\t\\x15*\\x06\\xcc\\xef\\xf3\\xb5\\xb5\\xb5\\x9d;wntt\\xacqQc\\x99B\\x81\\x0bq\\xea\\xff\"`\\x8d\\x8c\\x8c\\xf8\\x02\\xbeX,\\xa6ml\\xca\\xddBED\\\\\\xe0\\xc4\\xf8\\xa4R\\x14\\x8d\\x85T\\xb9\\xf1\\x06\\x00\\x8c3\\xf4\\xac\\x98\\x19g\\x9c!\\xb3K\\xce\\x95\\xb3Wz\\xd6/\\xe7\\\\\\x08.\\x98\\x87^1\\xce\\x18\\x96m\\xe5\\x17\\xc4\\x15\\xf0F\\xba\\xc5\\x11Q?\\xed}#2\\x8e\\x9c!w\\x1dg\\xcf\\xae\\xbd\\xa4\\xe8\\x8doz\\xe3\\x86\\r\\x1b~\\xf0\\x83\\x1f\\x1c:t\\xa8\\xefj\\xdf\\xfd/}\\xa9\\x9e\\x07\\xd2\\x02\\xa6DD\\xb2\\x1c\\xa9t\\xf2\\xa5\\xbc\\xba\\xe9\\xa6\\xd1 \\x02\\x80\\xe9\\xd9\\xa9\\x0b\\xbd\\x97\\xb7\\xae\\xda\\x00D\\xe4H R\\xb6+]\\xe7d\\xff\\x85\\x9e\\xe4b\\x90\\x8a\\\\\\xa5\\\\92e\\x1d\\xbe\\x18\\x7f\\xdd\\x8e\\xc1/?\\xdb\\xf2\\xc0\\xfa\\xa1\\\\A<\\xf6\\xdc\\xa2?\\xb8\\xa7\\x9f\\t\\x0e\\x04\\xcc\\xe0\\nh&\\x9f\\xae\\x8f\\xd5p\\x9f@ n\\x18B\\xb0\\xcb\\x83}K\\xdb:\\xbd{\\x99\\x8e\\xccX.\\x84\\xe1\\xa6\\xf4\\xea\\x06LU~\\\\\\xd0\\x90 P\\xe5\\xdc\\x8a\\x94\\xda\\x7f\\xe4`6\\x97\\xb9u\\xedV\\x8e\\x8c\\xa4\\x04\\x8d\\xa9)\"\\x82\\x03\\xc7\\xccW\\xbf\\xf15\\x87\\x0f\\xbc\\xf5\\r\\xaf.yq\\x9f1\\x1d\\xfb\\x8f\\x9e=\\xd9\\xd9\\xd6Y\\x11\\x8b\\xa1`\\x80\\x0c9CD\\x14^8\\xd3\\xc7\\xb6\\x10\\xad\\xca\\xf1\\x08\\x7f2n\\x95\\xbf~Q\\xb4\\xba\\xe9y\\x00\\x8f\\xfd\\xff+]\\xbf\\xd8\\xf0\\xb3w\\xab \"b\\xc8\\xd6\\xacY\\xf3\\xc4\\x8f\\x9f\\x98\\x9c\\x9cJ$\\xaa\\x18C\\xa1H\"\\x08a2\\xe9\\xae\\xd9\\xb0\\xe6\\xd2\\xb9\\xcb\\xe7\\x8f^jlIV7\\xd6\\x10)\\xc6\\x98\\xcf\\xb4\\xfc->\\x05 ]\\x87\\x00\\x94\\x92Dd\\x97\\xec\\xb9\\x89\\xf9\\xbe\\x93\\xd7;7\\xb4\\x1c\\x7f\\xef\\x1f\\x96|f\\xe7\\xf7\\x9f\\xbd\\xf5/?\\xb9\\xeb\\xcf\\xdex\\xaa\\xad\\xc5\\x99W\\x12\\\\\\x0cQ\\x013X\\xc1\\x8av\\xc1\\xe0\\x86R\\xaep\\xfd\\xaem\\xb0y\\xa34e\\x8b(\\x0b%\\x1c\\x11\\xe2\\xb1\\xcaP\\xb49\\x08%\\x94\\xb6\\xe1\\x8f\\xfa\\xb9\\xc9\\x88\\xc8u\\\\)\\xdd\\xc2\\xb4mU\\xb1\\x1c\\xb8\\xe0\\x00(,\\x8a,\\xd9R)U\\xcc\\x95f\\xaf\\xcdW\\xb4D\\xb9\\xc9\\xb9R\\x80\\xaa\\x80Y\\x17\\x1ct\\xb8\\xcb%\\x19d\\xa7\\x1d\\x15T\\xc2\\xcf\\xe7\\xa7R\\x81@\\xc0\\xf2Y\\xb1\\xaa\\xe8@\\xef\\xb5\\xa5=K\\x0c\\xad}$\\x88\\x08\\x18\\xe3\\xa4\\x0896\\xb647\\xb76\\x17\\n\\xa5\\xd1\\x91\\x91|\\xae`\\x97\\xec\\x80\\xdf\\xbfz\\xcd\\xea\\xfa\\x86\\xa4\\xe53\\x95\\xf6^\\xd07J\")\\xb5\\xb8\\x8a\\xab\\x88\\x1c\\xd7a\\x0c\\\\\\xad\\x86J\\x92#SDL\\xebl!\\x93\\xd2e\\x8c+F\\xa8\\x10\\x042\\x00!\\x8c\\xbb\\xee\\xbdk\\xe7\\xd3;\\xf7\\xec\\xdcs\\xc7]w0\\xc6\\x18\\xb0\\x85f\\xd3\\xcf\\xc9&\\xbd\\x19GMT\\'\\xc6FF\\x17-Z\\xa4\\x07\\xcc\\x99\\x02\\x05\\x8c!GT\\x1cy\\xdb\\xe2\\xd6\\xf3\\'/T\\xd5T\\x1a\\x96\\x90\\n\\x109\\x92$@ \\xc5\\xb5t\\x1f\\xe3D\\xea\\xca\\xd9\\xde\\xd6\\xc5-\\xa6\\xe9\\xd3\\xf5\\xb2\\xbe8\\xb87GU\\xae\\x03\\xa1L\\xf4E\\x00\\xf2\\xf4\\xad\\x08\\x19\\x94\\xb1\\'D\\x06@\\x9c\\x89\\xe1\\xa1\\xa1S\\'O\\'\\xaa\\x13\\xb7l\\xb9\\x05\\x10\\xee\\xb9\\xef\\x9e\\'\\x9e\\xf8\\xf1\\x03\\x0f\\xbc\\xec\\x9b\\x8f}\\xd3\\xb1\\xed/\\xff\\xeb\\x97\\x04cpc\\x86\\x8645\\x04\\x14-\\\\Z7\\x08\\x02\\xba\\x85\\x08\\xd478\\xb0\\xb4\\xad\\x13=\\x98\\xdeK\\xbf\\xf2\\xa5\\x92$\\x12\\x8c\\xbb\\x0b\\x10\\x1e\\x10\\x10\\xfc\\xf6\\xb6\\xc1\\x1f\\x1ch\\xf8\\xe1\\xe1\\xc6\\r\\x8b\\xa7\\xbd\\x1f\\xa4S]\\xa0\\xb0\\x19\\x18H\\x8f\\x81&\\xa80\\x00\\x82H \\x9c\\xca\\xa4\\xe7S\\xe9\\x8aD\\x1c\\x14\\x121\\x02\\xc9\\x88\\x03h\\xcfR-\\xbd\\xe5\\r\\xf0\\x97\\x85Z\\x89<\\xcd[\\x02\"}FA*Bpl{\\xd7\\x81} \\xd5\\xed\\x1b\\xb73B\\xe5H\\x92R\\xd7\\x89Z\\xe8\\xe9\\xe01\\x0b\\x006\\xae*\\x90$$I\\xc8\\x881d\\x00\\x84\\xd9|\\xae\"\\x12\\x81\\xf2)\\xbe\\x11\\x9aX\\xb9\\xbf\\xe7eyX\\x8e\\xe57\\xbe\\x17n~\\n\\xbd\\xc66\\xfe\\x141\\xe3WZ\\x06\\xde\\xbc~Q\\xd0}!\\xe0\\x12P(\\x12\\xeaY\\xd5s\\xf4\\xc8\\xd1;\\xef\\xbeS\\x08\\xc1\\x18\\x03\\x12\\x84\\xa4\\x84A\\xa4\\xba{\\xba+\\xab+\\xce\\x9d\\xba016U\\xdbP[Y\\x17Gd\\x88\\x0e\"9\\x88\\x00\\xccU\\xb6nxT7%\\x8a\\x85\\xd2\\xdch*\\xd1\\x12?\\xf1\\'\\xbf#\\x11\\x96~\\xef\\xd9/}w\\x8f\\xbb~\\xbe\\xe7\\x8e\\xae\\x02ePQ)\\xeb\\x18i\\x1f\\x97&*\\x83\\x04\\xda\\xdc.\\xf9\\x8bX\\t!\\x08\\xcb\\x94P\\xd9\\x9cUe\\xb08\\x17\\xc8\\x8d\\x80\\xc9\\x83\\x162\\xd0\\x85\\x95\\xd4f\\x93@\\x18DY\\x04(\\xa1dnj&{\\xe5D\\xdf\\xc8\\xc5\\xc9\\xa9\\x81\\x19%U\\xb4.\\x14\\xad\\x0b\\xafz\\xa0\\x0b\\x85AD.\\xb7\\x85\\xcb\\x01%\\x1a@.HRF\\xc0,\\xe4\\x8a\\x04$I\\xd65\\xd6^>\\xd5\\xdb\\xd8\\xd2\\x18\\x89r\\x17\\x19I)8\\x92\"`\\x1c%0\\xe4\\x84\\xe8\\xf3[\\xad\\xed\\xad\\x0b\\xd0\\x85FR=Y)\\xa2\\xb2\\x08\\x94\\x94R*\\xa5\\\\r\\x89H*\\xc7v\\xe4\\xec\\xcc|6\\x95v]WJ\\x15\\x8a\\x04#\\x91H8\\x16F@\\xc1\\r\\xa9\\x94\\xfeY\\xa8P!cJ!\\xe2\\xdd\\xf7\\xde\\xfd\\xcc\\xd3\\xcf\\x9e>uz\\xd5\\xea\\x95\\xe0I\\x18\"\\x00\\x10\\x92\"\\xf5_OJ{\\xb91\\x12\\xd0\\xe2\\xce\\xceo=\\xf6\\xad\\xb5k\\xd7\\n\\xd3\\xc0r\\xfbW\"1\\xc6\\t\\xa8\\xba\\xb6z\\xb6a\\xf6\\xe2\\xc9\\x8b\\x8bWtX\\x01\\x1f\\x92d \\x88\\x14\\x11g\\x88z\\xe0\\xe0\\xca\\x85k\\x8aTGw;C\\xc6\\xb4\\xa7\\xbc\\x17\\xa2\\xca\\xb7uDV\\x1e\\xb0)o}o\\xe7{\\xe2\\xe8\\x1e\\xe0\\xc3fgf\\xcf\\x9d9700\\xb0c\\xc7\\x8e\\xf6\\x8ev\\x8d\\n\\x81\\xa2\\xed[\\xb7=\\xfb\\xe43\\xf7\\xdd\\xff\\x92\\xef|\\xef\\xbb\\xd9l\\xf6\\xb1/\\x7f\\xddg\\x98\\xb4\\x00`\\xdd\\xd4`\\x832K`\\x81Q\\xa2\\xbf\\x1a\\x1c\\x1b\\xde\\xb2r=\\x01\\xa0g\\'\\xee\\xc5\\xb5\\x80\\xe9\\xcb\\x17\\xd9\\xf3\\xc7\\xe2\\xbb\\x8f\\xc6\\xce\\xf7\\x05\\x1f\\xfe\\xad+\\x80\\xc8\\x19\\xbd\\xf7\\xd5\\xe7\\x1e\\xfe\\xd2\\x9a\\xcf6\\x1d\\x06\\xd0\\x9f\\'\\x012\\x00\\xc6\\x19\\xbf\\x91.\\x95\\x15\\xdd[\\x1b\\x9a\\xa7g\\xa7+*\\xe3\\xc0\\xc8\\xab\\xf8\\x16,1\\x11\\xb4\\x161*\\xf4L\\x9d\\xf4\\x7f\\xd7B\\xabZ\\xd9FK\\xce)\\x92\\xa4\\xf6\\x1c\\xdc\\xaf\\\\w\\xc7\\xbam\\x0cQ9.\\x90R\\xae\\xd2|}\\x1d\\xdd\\x0e\\x1e\\xf7\\x01\\xc0\\xc6UyR\\x8a\\x80\\x01#\"\\xa5!t\\xc1y\\xa1T\\x04/\\xfe\\xe0M!f!n\\x95G\\x88\\x00^\\x14y~2a\\xd2LU\\xb60\\xe4x\\xe3\\xbb\\xff\\xff\\x12\\xb0\\xc0\\xebB\\xe9\\xd3\\xa3\\x16/\\xee\\x1c\\xbc6\\xb8\\x7f\\xef\\xfe\\xdbn\\xbf\\x951\\xae\\x19\\x92\\x92$\\n\\xcb%UW[W}w\\xf5\\xe8\\xd0\\xe8\\x99\\x93\\xe7\\x86\\xfa\\x87k\\x92\\x89\\x9a\\xc6\\x1a\\xc34\\x04\\x13R\\x11\\x93\\x8c\\x94\\x04\\x0e\\x920\\x1c\\rN\\x8f\\xcf\\x12\\x90Kt\\xf0m\\xaf|\\x8c\\x89\\xc7\\xbe\\xf3$\\xf6\\xf6\\x17\\x8ct\\xe7\\x8a\\x0e\\xab\\x18d\\x12KX\\xcac\\x16\\x15\\x82\\xc4\\xb0\\x8a\\xf2\\x9c\\xe9\\n;\\x15\\x99\\xc7\\x10E\\xa0\\xd2\\x1dU\\xb2D\\xbeJ\\x11\\x80 \"\\x03.\\xca#\\xfa\\xe4:. \\xd8\\x8e\\xd3\\x7ff\\xe0\\xf2\\xd1\\xabW\\xcf\\x0c\\xa4\\xe6R\\xfa\\xbd0\\x8e\\xb1d8=\\x99K\\x8deA\\xe2\\xdaW-c\\x8c{\\xd7<\\x11r\\x90\\x8eDPF\\x90O_\\x9ew\\x978\\x92L\\xd3oV\\xd4\\xc4\\xcf\\x1c?\\xbbv\\xebj\\x12\\x8a\\x0b!\\x95\\xd40\\rG\\x06\\\\\\xea\\xcb\\x94yF\\xba^KL\\xe9t\\xa2\\x8c\\xa3kiiW\\xba\\n\\xc8u\\x9d\\xf1\\x91\\xb1\\xfe\\xde\\x81b\\xbed\\xf9-\\xc3\\xe0\\xdc2\\x9c\\xa2\\x93N\\xa7\\xcf\\x8c\\x9d\\x0b\\x04\\xfd\\x89\\xbaDKG\\x8b\\xcf\\xe7\\x03Q\\x9e\\x99d\\x1a\\xfea&\\xc7\\xcd[7\\x7f\\xfb\\x9b\\xdf\\xae\\xac\\xa8hnn\\x96\\x00\\xbc\\x9ce\\xe9\\xec\\xe1g\\xdf\\t\\xf5\\xbf2D\\x02\\nG\"]]]\\x87\\x0e\\x1e\\xde\\xbec\\x1b2%Q\\x10\\x90\\xa1\\x87C\\x10\\x01a\\xe9\\xf2\\xa5\\x97\\xce_>s\\xe4\\\\<Q\\xd1\\xdc\\xd6h\\x05L\\x00\\xa6\\x94D\\x84\\xa9\\xf1\\xe9\\xe1\\xfe1\"\\xb5~\\xf3z\\x83s\\xc19\\x12\\xb02\\xdc\\xce\\x10\\x90y!\\xac\\x1c\\xb9\\x00<\\xce\\x95w\\xf3CF\\x8e-\\xd3\\xe9\\xf4\\xc4\\xc4\\xc4\\xf0\\xf0pj>\\xd5\\xd6\\xde\\xf6\\xfa7\\xbe\\xde0\\x0c\\rf!\\xa0\\xf6\\x05[\\xb3z\\xf5\\x93\\x8f\\xff\\xf8%/\\x7f\\xe9\\x93O?\\xf5\\xc0\\xab_\\xf1\\xdd\\xaf};\\xe0\\xf7\\x83\\x92\\xa0\\x90\\x88\\x00IJ\\xc5t\\xa9\\xba\\xd0<\\x05D$ Jg\\xb3ss\\xf3\\xd5\\xf1\\x04\\x10y\\xd6#\\x0cz\\x07\\xac\\xa7\\xf7E\\x1f{\\xba\\xea\\xfa\\xf5&)\\xbd\\xd354\\x13\\x04\\x00\\xce\\xd8\\xea\\xce\\xf9-]\\xd3\\xff\\xfaL;\\x00\\xe8rU\\xbf\\x03W\\xb9J\\x9b3!C\\x0f\\xae\\xc4X$:9;\\xd5\\xa9:\\xf4\\x04\\x00\"\"\\x90b\\x00JyM:}8:\\x82\\x11\\x11\\x02I\\xfd\\xa8\\x10AJ\\x89\\x80\\xd2vv\\x1e\\xd8K\\x92n\\xdf\\xb8\\x9dJ\\x12\\x81\\xa4\\xe3\\xea!tmXOJ\\xb9.?q\\xdeB\\x845Ks\\xd2!b\\x80\\x02\\x99f\\xabrU\\x15\\xaf\\x9a\\x9b\\x9d\\xaf\\xafN\\xea\\xa4\\xc8\\xc3\\xce\\x00\\xca9R\\xf9\\xaf\\x0b}l\\\\H\\x9f\\x88^\\x14\\x8bn\\xaaZo\\xd0\\x17~M\\xa1J\\xaf_\\x8a\\xf3s\\xb9\\xe3A\\x08\\x80\\xb7\\xdd~\\xeb\\x93O<u\\xe8\\xc0\\xa1\\x8d[6!r=\\x95BD\\x02\\x18)\\xc5\\x80\\'\\x1b\\x93\\xc9\\xa6\\xfa\\xb1\\x91\\xd1\\x91\\xc1\\xd1\\xd3\\x07\\xcf\\x84\\xa3\\xa1\\xc6\\xf6\\x86@(\\x08\\x00\\x8a\\xa1\"\\xa9\\xa4B\\xc6\\xa4\\xa3\\xe7\\x96\\x95\\x9dw\\xacM\\x1b\\xef\\x11\\xceS\\x8f\\xed\\xfc\\xd1\\x97\\x9e\\xb9\\xed>\\xa7\\xeb\\xd6\\xb6)5\\x0e\\x00%\\xc7F@D5\\x85\\xa3~\\x11\\x88\\xa9D8\\x1d.Y\\xc5b,gT\\x98N\\x1a\\x95$Q\\xe7\\x18(\\xdcr\\x1e\\x9c\\x9aI\\x9f=r\\xee\\xd8\\xde\\x93\\xbd\\x97\\xaf\\x96\\n\\x1e\\xa1\\xd1\\x17\\xf2\\xd5\\xb4U\\xd5/\\xa9\\xad\\xec\\x88\\x9a>s\\xb2\\x7f\\xea\\xe07N]?=\\xea\\xda\\xf2\\x8e7\\xddb\\x80\\xa9L[0\\x01\\x12\\x18cD\\xe0\\x0b\\n+`HG*CI\\xa6\\x1a\\xdb\\xeb{\\xcf\\xf4\\x9d:t\\xa6\\xb3\\xbb#^\\x11\\x05=\\xc7\\xc6\\x98B\\xc6\\x81\\x13*\\x0e\\\\\\x82d\\xe8E\\x0f\\xd4\\x85\\ni\\t\\x00%\\xc9\\xd52\\xa8R9S\\x933}\\x97\\xae\\x96JNu}Uu\\xb2\\x1a9\\x01\\xa0*S(;W\\xb4\\xe73\\xc5\\xa1\\xfe\\xa1\\xe3\\x07N\\xd46\\xd4t.\\xe9\\x00\\x00\\xce\\x04*\\xa6H!\\x90\"\\x16\\x0c\\xfa\\xef\\xbe\\xe7\\xae\\xe7\\xf7\\xbf\\x90\\xacO\\x1a\\x86Ap\\xc3\\xa4\\xfa\\xbf,\\x0c\\xf1\\x06\\x10\\xcc\\x10\\xd4\\x86\\r\\x1b\\x1e\\x7f\\xfc\\xf1\\xcb\\x97\\xaftt\\xb6#\\x11G\\x0eH\\x0c\\x19 p\\x14\\xc8pI\\xf7\\xe2\\x86\\xc6\\xfa\\xbe\\xde\\xfeSG\\xce\\xe62\\xd9H,\\x92\\xcb\\xe6|~\\xbf\\x92\\xb2u\\xf1\\xa2\\x86\\xe6FC\\x18\\xc8\\x80!\\xbf\\x81W\\x95\\x81*\\xef\\x01X\\xa9X\\xea\\xef\\xeb\\x9f\\x9a\\x9e\\x9a\\x9f\\x9b\\xcf\\xe7\\xf2\\x96\\xcfJ\\xa7\\xd3\\xb1htbb\\xb2\\xa9\\xb9)\\x1c\\x0e\\xb7\\xb6\\xb4\\xb4\\xb6\\xb5\\x9a\\x86\\xa5\\x8f\\x9di\\x91\\xe2\\x85TIQO\\xcf\\xca\\x9dO<s\\xef\\xcb^\\xfa\\xdc\\x0b\\xfb_\\xfe\\xbaW|\\xef+\\xfffY\\xd6\\xf9\\xde\\x8b\\xe3S\\x13S33>\\x9fe;N\\xc8\\x1fH\\xd6\\xd4\\xadX\\xdam\\x19\\x16\\xa07Txmx\\xb0\\xbb}1\\x17<\\x9f\\x95\\x87\\x8f\\x9b\\xbb\\xf6\\x06\\x9f\\xdc\\xe3\\xef\\x1d\\xd0\\xec#`\\x8c\\x96\\xb5\\xe5n]3\\xb7}\\xf9T\\xae\\x00\\x80\\x00\\x9c1\\xc4w\\xbd\\xea\\xca\\x03\\x7f\\xbd\\x05\\x00\\x90\\xb3\\x82m\\x04\\x03\\x12\\x11S\\xa5le(\\x06\\x0co\\x9cm\\x06\\xd5\\x15\\x89\\xc3g\\x8f{LaEz\\xf8\\x01$ G\\x90\\x1aA\\xf0\\x1a\\x00\\xde8)\\x95\\xf9:DD\\xa8\\xb3\\xad\\x83\\'\\x8f\\x14\\n\\xc5{\\xb6\\xdc\\x8a\\n<\\x88\\xce\\xf5\\x90\\x03\\xa5\\x14H\\x02E\\'\\xce\\xfb\\x0bE\\xd6\\xb9\\xa8T\\x19qH2\\x02\\x04\\x89\\x8a\\xa1\\x1e\\xf6H&j\\x07\\xc7\\x87\\xbai)\\x12!\\xbb\\x11\\xa6\\xbc\\xcf\\x1cn\\x12>f7?\\x0f?+q\\xc2\\x9f\\xf5\\x8f\\xbf\\xba\\xf5\\xcb\\tX\\x00\\xfaV\\x81\\x88\\xcc0\\x8c\\xbb\\xef\\xbd\\xfb\\x07\\xdf\\xfb\\xc1\\x9e\\x9d\\xbb\\xb7\\xdf\\xb6\\x83s\\x01\\xa4\\x90#\\x11q\\x03$y\\xf6\\x04\\r\\xf5\\r\\xf5\\xc9d\\xbeX\\xbcz\\xe9\\xea\\xe9\\x83g\\x17u6\\xd7-\\xaa%\\xc9\\xb5\\x83&7\\x04\\x17\\x1c@)P\\xb9\\x99\\x02X\\xb4\\xf1\\xa5\\xeb\\x94\\xab\\x9e\\xfd\\xee\\x9e\\xdd?\\xde3Y\\x1a]\\xb6\\xa5+\\x0e\\x95\\x96\\xf2\\x03\\x02\\x11e!\\x95\\xb2g\\x07\\xf1r\\x95\\xbf\\xa6:\\xd7\\xe0@\\xb1\\x14(\\x888SS\\xbeb\\xb0$\\x03\\xeeD\\xff\\xf4\\xd9\\xc3g\\xcf\\x1c>7xu\\x88\\xcaC\\xb1\\xd5\\r\\x89\\xceUmm\\x8b\\xda\\x93\\x8du\\xb3\\xfeq\\xd7u\\x1d\\xb7\\xe4J\\xd9\\xb88\\xe9\\xff\\x03\\xff\\xbe/\\x1e\\x1e\\xbd8\\xb1\\xefKG^\\xf3\\xdaf\\xeeC\\xc6\\x19\\x96\\x18\\x1a\\x80\\x80\\x8a\\xc8\\xf0\\x89\\xd4L\\xda\\xf2\\xf9\\xc0&4\\xa1mY\\xcb\\xd8\\xb5\\xf1\\x93GN\\x9b\\xa6\\xd1\\xd8\\xdcP\\xd3Pm\\x1a\\xa6\\xd7\\x0ec\\x8c!G\\xfd\\x1b\\xd8B\\x9a\\xedM\\xa2\\x10I\\xe9*R\\xd2u\\xce\\x9f\\xb989>]\\xd7\\\\S\\xdbX\\xe3\\x92\\xeb*\\xc7\\xb1\\x1d$,\\xf3\\x92\\x88!\\xe7>\\xd6\\xbalQ)\\xef\\\\>yevfn\\xd5\\xba\\x15\\x1a\\x94\\xd6\\x8f\\x1c\\x19\"\\xd67\\xd7W]\\xad:q\\xfc\\xc4\\xfa\\xf5\\xebI[b\\xdd\\x04\\xa7\\xfe\\x97K\\x07e\\x040Mk\\xdb\\x8e\\xed\\xbbw\\xedv\\x1cg\\xd9\\xf2e\\xae\\x04\\xc6\\x98v&d\\xd2U\\x8a3\\xc5\\xe3qc\\xd5\\xda\\x1e%)\\x95N\\x15\\x8b6\\x10Ec\\x11\\xd3gr\\x14\\x04\\xca\\xe0&!\\x19L\\x10\\xa2\\xe0\\x06\\x00p\\xe4\\xc8\\xf4#JW\\x1e;zdhp8\\x10\\x0c,\\xee\\xec\\\\\\xbc\\xb8\\xd3\\xe7\\xf3\\x1bB \\xa2e\\xfaL\\x9f\\xc9\\x11\\x15\\x00\\x03\\xa6o\\xfe\\x0bJ\\xf9\\xe5\\x8a\\xcfs\\x0f\\x01I\\x8b\\xdb:w\\xfd\\xf8\\xe9\\xfb^q\\xff\\x81\\xc3\\x87\\xee|\\xe5}\\xaf\\xff\\xfd\\xdf\\xefj_\\xb2\\xac\\xbd\\xabvC\\x02\\x19:\\x8e3>3u\\xfe\\xea\\xc5\\x1f\\xeez\\xaa\\xabm\\xc9\\xd2\\xb6\\x0e`\\x0c\\tz\\xfb\\xaf\\xf6^M?\\xfa\\xa9;\\xf7\\x1d0\\n\\x05\\xef\\xe4TU\\xc8\\xdb6\\xe5;\\xdb\\xae\\xb4\\xb6\\xf6\\xed\\xe8h\\')e\\xd1=q)\\x18\\xf6Kf\\x19 eUB=\\xf8\\xaa\\xbeO?\\xde\\xba\\xe7l\\xcd_}i\\xf1?\\xbf\\xe7\\xe2\\x86\\x95\\xced~\\xbe!Q\\xe7\\xa5\\x8c\\xfa(\\x15U\\xc7\\xab\\xa4\\x94\\xf3\\xa9\\xb9X$\\xaa\\x10\\x91\\x88A\\x99~\\xc1@\\x0b{i\\x18IO5\\x92\\xd6\\x11\\x03T\\xaeB\\x00r\\xe5\\xf1s\\xa7\\xc6\\'\\'_\\xb2\\xe3N()\\x89\\xca-\\xb9H\\xa4J\\x8e\"\\x92\\xb6;\\x93\\x99\\x9fL\\xcf\\xe4K\\xc5\\xef\\xef\\xe9\\x02\\x805\\xdds\\xaa\\xe4\\x80`$\\x14#o6\\r9k\\xa8\\xaay\\xee\\xf8\\x81B\\xb1\\x180\\xc3J\\x12\\x8a\\x9b\\x91\\xaa\\xf2\\xbeXH\\x9e\\xca\\xad\\xc2_ \\x16\\xfc\\n\\xd7\\xff\\xbd\\xa6\\xfbO\\xac\\x1b\\xc4b \"\\xb2m{\\xef\\xde}%\\xbb\\xb4e\\xeb\\xe6`(\\xa8\\xc9\\xd0\\x8et\\x01\\xc0\\xd5\\xc2o\\xae\\x8d\\x88\\xb6k\\x03\\xe0\\xec\\xec\\xecs\\xcf\\xeeo\\xebjmji(:\\x05\\xdbu\\xa6\\'\\xa7\\x87\\xae\\x0e\\xd7.\\xa9J\\xe7\\xd3\\x93\\x17feU\\xd1Q\\x8e3\\x06G\\xcf\\x1d\\xda\\xf5\\xd8s\\xa4h\\xf5\\x96\\x95\\x9d;\\x9aG\\x8aC\\n\\xa4\\tf\\x8d\\x99L\\x88\\xba\\x14\\xce\\x16\\xacL\\x88\\xc5j\\xa0\\xa1\\x18\\xc9\\x08\\xe4C\\'\\'\\xaf\\x9c\\xee\\xbd|\\xe1r>\\xeb\\xe9+\\x99\\x96\\xb9deg\\xe7\\xd2\\xce\\xce\\x8e\\x8eH\\x9b\\xdf%7\\x97\\xcf\\x89\\xa9@Qd\\xb3V\\xaa\\xe8\\x14\\x08HJ\\x97\\x01KO\\xe5\\x9e\\xfe\\xec\\xde|\\xba\\xd0\\xd0\\x9e\\xfc\\xedw\\xbd2\\x1c\\x0e\\x1a\\xb3\\x81@\\x95\\x15\\xae\\x08\\x9b\\x86U\\x9c\\xb6\\x9d\\x82l\\xedn\\x12\\xdc0\\x84\\xc1\\x187\\xb8\\xa1\\x14\\xcd\\x8e\\xcfM\\x8fM\\xcfL\\xce&\\x9b\\x93\\xa1P0Y_\\x17\\x8aE\\x04\\xe3\\x88(P\\x10z2\\xe7\\x00\\xe0M\\xe8)\\xe5\\x92,\\xe4\\xf3\\xa7\\x8f\\x9fq\\x1dw\\xc9\\xcaN\\x14\\xa8\\x94\\xb2\\xdd\\x12\\x008\\xae\\r\\x80JJ\\r1 c\\x82\\tD4\\x85E\\x8a\\x06.^\\'\\xa5\\xd6o^\\x8b\\x88>+\\x80\\xc8,a2d\\x860\\xd2\\xf3\\xa9\\x17\\xf6\\x1f\\xb8\\xf7%\\xf7\\xfa,?\\xbb\\xa1/_\\xe6\\xdb\\xfc\\x1c\\xdbQ\\x95\\xe7\\x9dS\\xa9\\xd4\\xee]\\xbb\\x03\\xc1\\xc0\\x9a\\xf5k\\xc2\\xc1\\x90TZ\\xb6A\\x92\\x94eqwW\\x95y\\x03\\x9a\\xa8\\xaa\\x9b0\\x80 p!d#\\xe3B\\xf3\\xb0\\xb4\\xcb\\xf7\\xd4\\xe4\\xf4\\xf3\\xcf?\\x1f\\x8f\\xc57m\\xde\\x18\\n\\x86\\x16 ^\\xbc\\xe9\\x9e_nHi\\xe5\\x14\\xd2s\\x82\\x00@R\\x11\\x01I\\t\\x8a\\x94+Iy\\x02\\xa1\\xd7\\xaf\\x0f\\xde\\xfb\\xaa\\xfb\\xaf]\\x1fl]\\xd4\\xf2\\xc4\\xb7\\xfe\\xbd.Q{\\x83\\xfe\\x86\\x80\\x88\\xb3\\xa9\\xb9\\xfd\\xc7\\x0e\\xa5\\xd3\\xe9\\x91\\xa1\\xa1\\xa7v>s\\xea\\xdc\\x19\\x04\\x1e\\x8f\\x17gf\\xf9\\x92v\\xf7\\xee\\x1d\\x85m\\x1b\\x8b\\x1bWd9\\x92\\x9d+>yr\\xef\\xd2\\x9a\\xd6\\x86HB\\x15\\x1d\\xa5\\x94r\\\\\\xefE\\xf5\\xb1\\n\\xfe\\xaeO-}\\xe2`\"\\xe4\\x97\\x1f\\xff\\xf33Np\\xff\\xfdkoc\\x8c\\x0b\\xbf\\x89\\x88\\xc2o\\x00\"\\xb7\\x8cc\\xe7O1\\xc4u+\\xd7\"\\xd7=;F\\x9e\\x1c\\x18zU\\xa1\\'0\\xe1ydyo\\xd0U\\x00408\\xb8\\xef\\xf0\\xf3/\\xbb\\xf5\\xbe\\xa0\\xdf\\xe7\\xe6m\\x02\\x90\\x05\\x9b\\x14\\xc9\\x923\\x99\\x9a9?t5[\\xcc\\xd5\\x86+\\x83\\xa6\\xff}\\x1f\\xdbt\\xecl\\xcd\\xdb^\\xbf\\xf3\\xbe\\xed3\\xcb\\x1a:|>\\x0b9\\xe7&G\\xee\\x1d\\xcf\\xc1\\xf3\\xc7j\\x13\\xb5K\\x96,\\x01\\x00n\\x19\\x80\\xc0\\x05\\x07\\x04M\\xcb\\xf0\\x94\\xe9\\xcbI\\xd5\\xaf\\x94\\xaa\\xfe\\x0b\\xae_Z\\xc0\\x82\\x1b1\\xcb\\xcb\\x80\\xa5RG\\x0e\\x1f\\xed\\xbd\\xd2\\xbbv\\xdd\\xda\\xf6\\xceV\\xa5\\xf45\\xe0\\xb9:iu*WJ\"r\\xa5\\x9d\\xcb\\x15~\\xf8\\xdd\\x1fn\\xbb\\xe7\\x16\\xd3\\'l\\xe5L\\x8eO\\x0e\\xf7\\r\\':*\\xe6\\xe6SS\\x97gT\\xb2X\\x9asJYg\\xca\\x18\\x19<8\\xfa\\xdc\\xf7\\x0f*\\xa5j{*j\\xb6\\xc4\\xf4\\x0b3\\xc6\\xe2\\x81\\x8a.k\\xf5\\x0c\\x1b\\x9f\\x98\\x9e\\xb0\\xfba\\xa8ox\\xa8oD;)\\x00@Ume\\xd7\\xea\\xa5\\xab7\\xf5,[\\xd3\\xcd\\x04\\x93JM_\\x9c\\xe3\\x01\\xe4\\x95Tr\\x8a\\xa5\\x92\\xa3\\xe6\\x10\\x8a\\xcc6\\x8b6/ W\\xe4\\xa0)\\x03\\xa9\\xb1\\xcc7\\xbf\\xf8Xz>S\\xdfZ\\xf7\\xa6\\x87\\x7f\\xdf\\x97\\r\\xc7:\\xfd\\x01+ \\x84!\\xd0\\x18\\xbd0Y\\xdfY\\x17\\x8e\\x05\\x053\\x19#\\xce\\x0cDdL0D\\xe5\\xc8\\xf9\\x99\\xf4\\xd4\\xe8\\x8cr%\\x00V\\xd6T64\\xd7Gb\\x11\\x04\\xd4\\xfc{\\xfdK{\\xfaMML\\x9d8|\\xaaaQ\\xb2\\xbe\\xbd^)\\xe5\\xb8\\xb6\\xab\\\\\\xd7u\\xa4\\x92\\xf9B!?\\x9fwm\\x07\\x11\\xcd\\x80\\x19\\x8c\\x04\\rS 2\\xcb\\xf01d\\x96\\xb0.\\x1c\\xbf\\x1c\\x8dF\\x96\\xf6,\\xf1[\\x01D\\xe6\\x13\\x16c\\xcc4L\\x04~p\\xff\\x81h,\\xbaz\\xcd\\xear\\x7f\\xdb\\x8bS?\\xbfA\\x06\\x951j\\xc7u\\x8e\\x1f;~\\xfc\\xc4\\xf1\\xae\\xee\\xae\\xae\\xae\\xaeH4\\xa2\\xf4\\xc7\\xa7$\\x11I)\\x01H\\xa7\\x81\\x9e\\x89\\x0e\\x11c\\x1cHi\\x0b\\x0f\\x1d\\xa4\\xb4\\x82\\xb0\\xc6\\xadz/\\xf7\\x1e<xh\\xdb\\xf6m\\x1d\\x1d\\xed\\x0b\\x07\\x86em\\x9c\\x85\\x96y\\xb9D\\xf5\\xc2\\x9f\\xc6\\xad\\x00\\x80\\\\IH\\xca&\\x00\\xa5\\xd9\\xed\\xbaJ\\x92\\xae\\xfc\\xdc\\xd7\\xbf\\xf8\\xd9\\xcf\\xfd\\xcb\\xd5\\xfe\\xbe\\x8e\\xd6\\xb6\\x7f\\xff\\xf2w\\x92\\xc9:\\xfd^f\\xe7\\xe7v=\\xb7\\xe7\\xe9=\\xcf\\xee\\xde\\xbfwn\\xde\\xb3o\\x08\\x06\\x82K\\x96,y\\xeb\\xef~\\xf1\\xd6\\xad\\xf5u\\xd5:$\\x91*\\xb9\\xa4\\x94[rfR\\xb3\\xcf\\x9c\\xdc\\xbf\\xbeuE}0\\xa1\\xa4\\x92\\xb6\\x8bH\\xe4\\xeaT\\x89\\xd0\\x10\\xae\\xab\\xfe\\xf2\\xb3\\x1d\\xdf\\xdbUi\\x9a\\xeeG\\x1f>\\xfd\\xda\\xfb\\x82H \\xfc\\x16 p\\xcb\\x00 f\\x89b\\xc9~|\\xef\\x93\\xcb:\\xbbV,\\xe9\"d\\xecf\\xeb\\n\\r\\xcd3/\\xc3\\xf2\\x860]\\x05\\x88R\\xcat:\\xf5\\xcc\\xfe\\xdd\\x9bW\\xaeK\\x84+\\x00\\xc0\\xc9\\x95\\x00\\xc0\\xcd\\x95\\x14\\xa9\\xd3\\x03\\x17\\x07\\xa7F\\xba\\xeb:\\xea\\x83\\x15\\xa4\\xc0\\x95\\xb0\\xfe\\r\\xeb\\xb2\\x05\\xbe\\xe7\\xf3G\\xa7\\xdd\\xcb\\xf3\\xa5\\xcc\\xadK\\xd6[\\xa6e\\xf8L\\xe2h\\x04|\\x80pmz\\xe4b\\xff\\x95W\\xdcs?\"2\\xcbD$\\xa6\\x85q\\x16\\xcc2\\xf0\\x7f_\\xc0\\x82r\\xcc\\xa2\\x9bb\\xd7\\xf0\\xc8\\xf0\\xfe\\xbd\\xfb+\\xab*W\\xafY\\x1d\\x8e\\x85Akf\\x038\\xca\\x05@\\xedK\\xe8\\xb8\\x0e\\x11\\x9d=}6\\x9f+\\xb4-k\\xb1\\xdd\\xd2\\xf4\\xd4\\xf4\\xc0\\x85\\xc1\\x9a\\xa5U3S\\xd3\\xe9\\xf1l!\\x92QS8\\xe7\\xce\\xa4\\xd9\\\\,[}\\xe4\\xd2\\xc1#\\xdf=\\xa5$\\xc5\\x97\\x86\\x1a\\xb6U\\x02\\x02Hpf\\xa08(gz\\xe73\\xe9\\xac>\\x18\\xc6X}{\\xdd\\xd2%]+\\xb7.k[\\xd6b\\x08\\x833\\x8e\\x80\\xaa,>7\\xd7\\x97\\x02AP\\xe9\\xba\\xe4\\x96\\xec\\xa2\\xb2\\x912\\xc0lC1\\x97+\\xe1\\xfal7`\\xe73\\xf9o>\\xf2\\xdd\\xb9\\xc9\\xf9\\xba\\x86\\xda\\xb7\\xbd\\xfb-5\\xed\\t\\x9fa\\tf\\x98\\xa6Y\\x98+\\xa5\\xc6\\xd3\\xbe\\x90?\\x96\\x88\\xf8\\x02>\\xbf\\xdf\"@\\xce\\x05\\x03\\xe2\\x8c#\\xe3\\x0c\\xb9`<;\\x9f\\x9b\\x9d\\x9a\\x1f\\xec\\x1dL6&\\xfd\\x01_\\xd3\\xa2\\xa6p,\\xcc\\x10\\x89T\\xa9\\xe4\\\\<{izr\\xa6m\\xe9\\xa2\\xaa\\xba*\\xd7\\xb5]%K\\x8e-IfR\\x99\\x89\\x81\\xc9B\\xaeh\\xf9\\rn2R \\x1d\\xe5\\x94\\x9cDCe\\xac6\\xea7\\x03\\x88\\x180\\x83v\\xc9\\xee;\\xdb\\xdf\\xb9\\xbc\\xb3\\xb6\\xb6N0f\\n\\x8b3f\\x08\\x8b!O\\xcf\\xa7\\xf6\\xec\\xde\\xfb[\\xafy5\\xe7\\x9c\\xe9j\\xb4\\xdc\\x1e\\xfa\\xcf\\xda\\x85e\\x00\\x05\\x00\\xc9\\x1b\\x7f\\xbb\\x89\\x13\\x90+\\xe6\\x8e\\x1f;>44\\x14\\n\\x87ZZ\\x16557\\t\\xd3 \"I.x\\xb6\\xd0J\\xd1\\x8b\\xd0s\\xcd\\xa1f\\x8c!\\xe9D\\x0b\\x94\\x0b\\x07^xan.\\xb5u\\xdb\\x96\\x9a\\xea\\x9a\\x85\\x04J\\xbf\\x84\\xb7)\\xcb_-\\xb4\\xb4\\x16\\x0eX\\x07,\\xe5J/H\\x01\\x90#\\x17`\\x9dk\\xd7\\x07\\xcf\\\\:\\xbfy\\xc5\\xbaW\\xbd\\xf1\\xb5\\xc7O\\x9fl\\xaco\\xf8\\xd8\\x07\\x1f9\\x7f\\xf9\\xc2\\xbe\\x17\\xf6\\xbfp\\xe4\\xa0\\xe3:\\xfa\\x87\\xd4\\xd4\\xd4l\\xdf\\xb4\\xf5\\xd5\\x0f\\xbc\\xf2\\xb6\\xed\\xb7\\x9e\\xbbrav~\\xee\\x96\\xf5\\x9bM!\\x94#A\\x91,\\xb9D K6I\\x9a\\x9a\\x9d\\xdaw\\xe1hkUc[U\\xbd\\x90\\x1c@\\x81K\\xc0\\x90\\x88\\x98@P0mg\\xde\\xf7\\xc9\\xda]\\xfb\\xbb\\rA\\x9f\\xf9\\xf0\\xd8};\\xb2B\\xe7/\\xa6\\x01\\x88\\xcc`\\x00\\x90+\\x16~\\xb8\\xef\\xe9\\xda\\xaaD\\xb2\\xba\\xae\\xa5q\\x917x\\x0c7\\xe75e\\xe4\\x9biuy,\\x15\\x8b\\xcf<\\xb7\\xab%\\xd9\\xb4\\xa4\\xb5S\\x16m\\x00p\\xf2% p\\xf3\\xa5\\x0b\\xc3}S\\xa9\\xe9\\x9e\\xe4b\\x1f\\t-}36m\\xfc\\xc1G\\xbbm\\x97=\\xfb\\xc9S\\x8c\\xb3S\\x13W\\x14\\xc2\\x86\\xd6\\x15\\x86\\xdf@\\xceE\\xc0B\\x86\\xd2d?\\xda\\xfb\\xd4+\\xef}\\xc04Ln\\t\\x00df9`ym\\xdb\\x9b\\xda\\x87\\xff{\\x02\\xd6\\xc2\\xf2\"W\\xb9\\xea9y\\xea\\xe4\\xc5\\xf3\\x17[Z[\\xd6\\xac]\\xcd\\x04\\x92\\x02I\\xbaHt\\x00\\xc0q\\x1cI2\\x95N\\xbd\\xb0\\xe7\\xc0\\xfa\\xed\\xabm\\xe5\\xcc\\xcf\\xcd_<y\\xa5\\xae\\xbbjrx*5\\x9eu\\x1299\\x06\\xd38^t\\xf3\\x89b\\xe3\\x81\\xa9\\x9dc\\xfd\\x93\\x03\\xcf\\x8e)\\x97\\xfc\\xd5&30?n\\xeb\\t\\x06\\x00\\xf0\\x85\\xad\\x86\\xae\\xba\\x9e\\xf6UM\\x9bj\\x82\\xe1\\x805\\x13\\rT\\x9b\\xd1\\xaa\\x88\\xe0\\xc2\\x14&C\\x0e\\xa8\\xddA\\xa5\\xe3\\xd8\\xd3\\x03\\xf3\\xa5\\xackUp\\x16Q\\xaer\\\\\\xa9\\xb4\\x05\\xb4TRp\\xa1\\x88,aff\\xb3\\x9f\\xff\\xe0W&\\xc6&k\\x1bj\\x1e\\xfa\\xdb\\xb7WW\\'\\x90\\xa1!\\x0c$P6\\xa4\\xa7\\xb3N\\xce)\\x15\\x1c\\xb7\\xe8r\\x83\\xfb\\xc3>\\xd3\\'\\xac\\x90\\x15\\x8c\\x05\\xfd\\x01\\x9f\\xc1\\x05C!\\x0c\\x83\\x01\\xcb\\xcf\\x17\\xa7F\\xa7\\n\\xb9\"\\x02\\n\\x83\\x03@!W\\x8c\\xc4\\xc2\\xad\\xdd\\x8bL\\xcbt\\x95\\xe3\\xba\\x8e+eI\\x96\\xa6G\\xe7\\x86.\\x0eW5W\\x84\\x12A([\\xd5\\x00\\xa2\\x9duRcY\\xd3\\x12MK\\x1b\\x18\\xe3A+\\x84\\x0cgG\\xe6S\\xb3\\xa9\\xf5[7\\n\\xc6L\\xd3\\'\\x90\\x9b\\x86\\xc9\\x183\\xb8\\xf9\\xa3\\xc7\\x7f\\xb4\\xac\\xbb\\xbbsqg\\x99C\\xb0\\x90a\\xfd\\'\\x01K\\xdd`T\\xde\\xc4\\t\\x00*\\xcb\\x84\\x02\\x80+e_\\x7f\\xdf\\xb5k\\xd7FFGb\\xd1X\\xb2!Y\\x97\\xacK$\\x12\\xba\\xaaQ\\xda\\xdbo\\xc1\\xcb\\x9d!\\x11h\\x19&D\\x1c\\xe8\\x1d8~\\xe2D,\\x1a\\xbb\\xfd\\x8e\\xdb,\\xcb\\xf2.\\x94\\x85\\xbd\\x88\\xe8MA\\xdeT\\xb4\\xfeD\\xf5\\xaa\\\\\\t\\x84\\xcau\\t\\x81\\x1c\\t@\\xca!\\x04%\\x1dE\\xa4^8z0\\x12\\x88t\\xb5-\\x9e\\x9f\\x9f{\\xcc\\xdf\\x17\\xdf\\x00\\x00 \\x00IDAT\\xf5\\x9b\\x7f\\xe7\\xe8\\xc9\\xe3\\x8c1\\x9de\\x0b.\\xd6\\xae\\\\}\\xef\\x1dw\\xdf}\\xdb]\\xa7\\xaf\\x9e\\xbf{\\xdb\\xed\\x95\\xb1\\n\\x00P \\x0f\\x1c?237\\xbbc\\xfd\\xd6p DD\\xca\\x91\\xa0\\x85F\\x95\\x94\\x8e,\\x14\\n\\xa7\\xfb/N\\xccMUG*\\x13\\xc1x\\xd0\\xf2\\t\\xe4E\\xd7N\\x95r\\xe3\\xf3S\\xe9RnU\\xe3\\xd2\\xaf|o\\xcd\\xbf|+\\xce\\x19|\\xe2\\xfd\\x13\\xaf{e\\x11\\x80\\x98\\x10\\x00\\xa0\\xcb@@F\\xa4\\xae\\x8d\\r\\rO\\x8e\\x0e\\x8d\\x8d\\x84C\\xe1\\xda\\xaaD\"^\\xd5X\\xdfh\\x99\\x060\\xe6\\x85wO\\xb8CI\\xa9\\xf6\\xbc\\xb0\\xcf\\xef\\xf3o\\xe8Z\\r\\x88n\\xb1\\x04\\x00N\\xb6\\x08\\x00\\xe3\\x13\\xe3\\xc7\\xae]\\xd8\\xd4\\xb8\\xdc\\xc7\\xcd\\x93\\xe7\\xfdC\\x13\\xc6\\xbd\\x1b&u\\xff\\xf1\\xfc\\xb5`\\xa6`n^\\x91\\x06\\x93\\x1f\\x18:\\xd3Z\\xdd\\xd8\\x9alF\\x86F\\xc0D\\xceE\\xd0\\xdau\\xe8\\xb9\\xe5K\\xbb\\x1b\\xea\\xea\\xb9e \\x03f\\x08@db\\xc1\\x8elA\\xf5\\xf2\\x7fe\\xc0\\x82\\xb2\\xd3*\\x95w\\x7f*\\x95:q\\xfc\\xc4\\xcc\\xec\\xcc\\xfa\\r\\xeb\\xea\\x92uRI p\\xb4\\xfa\\x82,)\\x82\\x92]<\\xb0\\xef`Mc\"Z\\x15\\xcd\\xe6\\xd3\\xa7\\x9e?\\xdb\\xb0\\xa2vzb:3\\x9d\\xcd\\x86S0*&\\xf8\\x90r\\x94Q\\x08\\xfc\\xe8\\xc7\\x8f\\x0f\\x1d\\x9f\\xa8^\\x19\\x9b>\\x9f\\x12An\\xcf\\xbb\\x80\\x10H\\xf8\"\\r\\x81\\x8d+6\\x9bMh\\x86\\x8c\\x06\\xbb\\x9dj\\x8a\\xa6eZ3\\x91p\\xa3?\\x14\\n\\x18\\x86%\\xb8\\x10\\xdc\\xd0\\x08\\x89TRJ\\xd7UN.U\\xcc\\x8c\\xe7\\xa5\\xad\\x80+\\x08\\x02\\x9a\\nyy\\xe6\\xdf\\x06V\\xe22O6\\x14\\xbf\\xf0\\xc9/\\x8f\\\\\\x1b\\xad\\xaa\\xa9|\\xf8\\xef\\x1e\\xaa\\xad\\xaf\\xe6L\\x10\\x01gL*\\xc9\\xb9\\x90\\xd2\\xe1(\\n\\xf9\\x12\\xd8`\\x17\\x1c\\xbb\\xe0*[\\x12A,\\x11\\x8e&\\xa2\\x91X\\x841\\xe6\\x13\\x16 \\x9a\\xdc\\xe7\\xd8\\xa5b\\xde\\xe6\\x82\\xfb\\x83\\x16\\xe3\\x06\\x91+\\xa5t\\x95t\\xa4\\xedJwrtz\\xec\\xeaXMg\\xc2\\x0c\\x1a\\x8ekSy\\x10Z\\x0fw\\x08\\x10#\\x17&+jb\\x89\\xa6\\xca\\x90?\\x04\\xc0\\xfcf\\xe0\\xd8\\xbe\\xe3\\x1bnY\\x1f\\x8e\\x84\\xfd\\x96\\x9f!\\xb7\\x0c\\x8b!\\x13\\xcc\\xe8\\xbbzu|l\\xe2\\xb6\\xdbo[ \\x92/\\xa41?a\\xf5zSnuS\\xc0\\xf2\\xfc\\xd9\\xb5\\xc01!c$\\x95\\xb4\\x1d\\x1dQ$\\xd2\\xd0\\xd8\\xc8\\xd0\\xd0\\xd0\\xc8\\xc8H\\xb1PD\\x86---\\xe1h(\\x1a\\x89\\x06\\x02\\x01\\xd3g\\xe9:\\xce)\\xd9\\xb3\\xf3s\\x83\\x03\\x83\\xb9l.\\x97\\xcdm\\xde\\xb2iQ\\xcb\"\\xcdf\\xf0\\xb6\\xe0Mp\\xd5\\x02\\x17\\xeb\\xa7Q\\xb6\\xf2l\\xa0\\x02@/\\xc3\\xd2H\\x96\\x16Q\\x90\\x8a\\x08\\x9e\\xd8\\xf5t\\xcf\\xe2\\xae\\xda\\xca\\x1a\"\\x1a\\x1e\\x19^\\xbe}\\x9d\\xcf\\xb2^\\xfd\\xc0+\\xef\\xdeq\\xe7\\xad\\xb7l\\x0f\\x06\\x02\\xc8\\xd8\\xf8\\xf4\\xe4\\xe9\\xcbg\\xef\\xd9v\\x07r\\xb6\\xd0\\x1f\\xbb\\xd0{\\xf9R\\xdf\\x95\\x9e\\xa5\\xcb\\x17%\\x1b\\x95\\xed\\x02\\x80,9\\xa4@:.\\x91R%7g\\x17\\x86&F\\xe6\\xf3\\x99l!\\xa7\\x80\\x90\\xb02\\x12\\x8b\\x05\"\\xcd5\\r\\x9c\\x00M\\xe3\\xd3_\\x8b\\x7f\\xe4\\x9f\\xab\\x18\\x83\\x8f\\xbd\\x7f\\xe6\\xf7_\\x99E\\xc1\\x01<\\x87>\\x8fP\\xc1=%\\xbf\\xa9\\xb9\\xe9\\xc9\\xb9\\xe9\\xc9\\xd9\\xe9\\x99\\xb9\\x19\\x9f\\xcf\\xd7\\x94l\\xaa\\xa9LT\\'\\x12\\xba\\xdb0=;{\\xe4\\xf41\\xbf\\xe5\\xdb\\xb2f#:\\x04\\x00n\\xb1\\x04\\x80N\\xae\\x08@{N\\x1dJF\\x12\\x8d\\xc1\\x04)\\xfa\\xe8\\x97\\x1a\\xbe\\xf8\\xa3\\xfaO?x\\xee\\xd6\\x95\\xd3D\\xf0\\xd8\\x9e\\xfac\\x97c\\x8f>t\\x85\\t6\\xe3\\xe4\\xfaf\\xaeo\\xef\\xde\\x80\\x9c\\x19A\\x0b9\\x8a\\x80\\xef\\xd8\\x85S\\xbe\\x80\\x7fu\\xf7\\n\\xee3\\x01\\x80\\xeb\\x0cK#Y\\xc8<\\x12\\xbe\\xfe@\\xf8on\\xc0\\xfa\\xe5u\\t\\x7fj\\xe9\\xfd\\xaa\\x9d\\xc7\\x19\\xb2X,v\\xeb\\xed\\xb7\\xf6_\\xed?t\\xf0\\xf0\\xe2\\xc5\\x8b\\xbb\\xba\\xbb\\x08I \\x91T\\x02\\x0cEJ\\t^Q\\x15\\x9b\\x1c\\x9e\\xaa\\xaa\\xa9\\xf0Y&)\\x92\\xb62L\\xd3\\xc9*\\xab\\xc2\\xb2\\xb9\\xeb\\xe3\\xfe\\xac\\xcc\\x86Xd~(\\x03\\x00\\xf1\\xd6HEw\\xa0\\x94u\\x9d\\xac\\x9a\\xbb\\x98\\t\\xc4}\\r\\x1b\\x12]5\\xcb\\xaf\\xd0)\\x0b\\xc3\\xc0\\x881\\xc6]\\x03\\x1c\\xb0|\\x86i\\xf8\\x840L4\\xd2\\x939\\xa7\\xe82\\xc1\\xfcA+\\x10\\r\\x13SA\\x9f\\x8aW:v\\xd1\\xceLg\\x9d\\x82\\xeb\\xa4]\\xe5\\x10c\\x04\\x80\\x9c\\x83/b\\x8a:\\xe1\\xf3\\'\\xde\\xfb\\xb1w\\x7f\\xe2/?\\xd5w\\xb1\\xff\\x91w\\x7f\\xfc\\xe1G\\xdeY\\xdb\\x90T\\xe4\\x02)G\\xb9@ \\xa5\\x0b\\x08\\n\\x14\\x08\\x86a0\"\\xc8\\xb8\\x90y\\xc8ds\\xb3\\x17\\xe6\\x85\\x10\\x89\\xe6\\xcaxE\\x0c\\x19\\xf7\\x996\\x02\\xb3\\xc2&\\x02H \\xe9\\x14%\\x11\\x81+\\x1d\\xe5*\\'\\x9f+\\x0e]\\x1cn\\xe8\\xae\\xe3~\\xe6\\xb8\\xb6\\x94\\xaevx% o\\x1f\\x19\\x98\\xe8\\x88M^\\x9e\\rV\\xfa|\\x86\\x0f\\x11\\x89T\\xac2:tmh\\xc9\\xb2%JJ\\xe0\\xe0\\xa9\\xe03\\xb6\\xa8e\\xd1\\xf3\\xcf\\xbd\\xb0|\\xc5\\xf2D\"\\xa1<x\\xb7\\xbc/_\\xd4\\xdb.gRJ\\x01z~|\\xa4\\xc0\\x13\\x8d\\x00 %\\xcb\\xadM \\x9dA1\\xe4\\xc0Z\\x92\\xcd\\x8b\\xea\\x17\\x01\\x83\\x92]\\x9a\\x18\\x1f\\x9fO\\xcdOMM\\x8f\\x8fL\\xd8\\x8e\\x9d\\xcf\\xe5\\r\\xc3p]\\xd7\\xe7\\xf7\\x99\\xa6\\x19\\x89DV\\xf6\\xf4T\\'\\xaao\\xe6.2\\xd4b\\x0c?\\x1f\\xa6\\xf6\\xe2\\xf9\\x15-\\x1aUVi\\x07\\x02\\x00E\\x8ek\\xebHH\\x12\\xcf^<OD\\xabW\\xac\\xfa\\xe4G>\\x0eH\\xe5\\xa9)8\\xd7{\\xa1\\xa9\\xbeI\\xc7o\\x02o\\x1a\\xb9{\\xc9\\xd2x,\\xf6\\xfc\\x91\\x83\\xe3\\xd3\\x93k\\x97\\xad2\\x18G\\xc6H)&\\x18\\x91R\\x86\\x11\\x93V$\\x1c\\x06\\x85\\xa4\\x15J\\x15]\\xe8\\xf5\\x83RV\\xc0%\"&\\xd8;\\xdf\\x92f\\x06\\xff\\xf0?\\xc6\\xff\\xf4C\\x95\\xd9\"\\xff\\xe3\\xd7g@\\x17\\xb0:\\xf1$\\x00W\\xd7\\xc8P\\x19\\x8aW\\x86c]\\xcd\\x9d\\x12\\xe4\\xe4\\xf4\\xf4\\xe8\\xcc\\xc4\\x99K\\xe7\\xc6\\xf6OX\\xa6\\xc9\\x18S\\xa4\\x96wtu\\xb7-\\x06\\x02\\xa9Gs\\\\\\x05\\x88\\xcaUS\\xe9\\x99\\x82]l\\x8e\\'e\\xa1\\xa8$\\x01\\xd1\\xba%\\xf3\\x1f\\xf9Z\\xfb\\xba\\x8e\\xa9\\x80_\\x91Vpv\\xa5\\x02\\xa82\\xc3\\xe7];[\\xcc\\x86\\xfca\\x92\\xfa\\xfeL\\x91@hln\\n\\xc0\\x93\\x03\\x03\\x00 m \\x84\\xc0\\xb54\\x06\\x00\\xfc\\xc6\\xb6\\x07\\xbd\\xf5+\\x0cX\\x0b\\xcb\\xa3\\x02\"\\x10Ak{k\\xbc2\\xfe\\xd4\\x13O9\\xae\\xd3\\xb3r\\x05(\\x00\\xe6i\\xb8\\x11A}Crr|\\x92\\x10\\x14A\\xb4*\\\\\\xca\\xdb\\xccBf\\xa0\\x92Jq\\xe2\\xae!\\x99\\x9d\\xce\\xcfg\\xa7\\n\\x8cc\\xb0\\xce\\'\\xc9\\x11!\\xa1J0\\xbck\\xba8\\xed\\xac\\xbawE\\x16R\\x0e\\xda~\\n)&\\r\\x8e</\\x8c8g\\x8c\\x03\\x82\\x9bu\\'\\x87f\\x84i\\x04\">P8?\\x9e\\x9a\\xe8\\x9f&\\xa4x]\\xd4\\x1f\\xb3,\\xbf\\xc9\\x93\\x11E\\xca\\x95^I\\xc8@;\\xb03\\x00`\\x88\\xa1H\\xf0\\xe1G\\x1e\\xfa\\xc7\\x0f|\\xfa\\xe2\\xa9K\\x1f}\\xd7\\xc7\\xde\\xf5\\xd1w\\xd65U\\x03\\x82]\\xb4e\\x96\\x8a\\xb9\\x12\\x95@*\\t\\x0e\\xb2\\x00\\n!D\\x88\\xf9\"\\xbe@\\xad)X\\xc0M\\xa9\\xd1\\xcb\\x13\\xb9\\xca|mk\\xb5)\\x0c\\x86D$\\x14\\x01G\\xa9\\xf5A\\xa4\"\\x05J\\x91\\x1a\\xbf6\\x11\\xab\\x8dY!\\xd3vJD$U\\xd9\\x8f\\x1a@\\x0bF\\x11)f\\xb0`<87\\x99\\x89\\xc7\\xe2ZL%\\x96\\x88\\xcdO\\xa65#Rw\\xcduV/\\x0c\\xb1j\\xf5\\xca\\xd3\\xa7N\\xdfq\\xe7\\x1dxS\\x8cB\\xf0\\x84\\x95~\\xca\\xb7\\xc2\\xa3\\x04\\x81g\\x8a\\xecy_\\x11\\x00H\\x02DR\\x12\\x19WJ1\\xc6\\x95\\x94\\x0c\\x11\\x94B\\xc6}\\x86\\xd5\\xd2\\xd2\\xa2u\\x0e\\xb8\\xdf\\x04\\xe6\\x19G\\xdf\\xa4QQ\\x06H\\xcaU\\xde\\x8b\\x86\\xd2~\\xe6\\xf2\\xb2\\xbf\\x9b\\x0f\\x12\\x16F\\xbf\\xf1F\\xf0B\\x88\\x86\\xa3\\xe9L\\xa6\\xb6\\xb2\\x1a\\x11^8r\\x08\\x006\\xaf\\xdb\\xe8\\xd1\\xb2\\x19\\x00\\xc1\\xa5\\xfe^\\xdb\\xb6\\xbb\\xdb\\x97\\xc0\\x02\\xd5\\xc3\\xd3\\x99\\xc1dm\\xdd\\xcb\\xeez\\xc9\\xee\\x03\\xcf=\\xbd\\x7f\\xe7\\x8a\\xc5\\xdd\\rUu\\x88\\x1a\\x11\\xe7(]\\x10\\x0c\\x1d\\x02\\x03\\xc1%dpu\\xc8\\xf8\\xedw&\\x11\\xe0;\\x9f\\x1d\\xebj+!2b\\xf4\\x8e\\xb7d\\x02~z\\xdf#\\x15\\xef\\x7f$f\\xdb\\xf0\\xe0[3\\xe0\\xdd\\x03\\xc8Si\\xd6\\x06h\\x04\\xc8@)\\xc99\\xaf\\xab\\xaaI\\xd6\\xd4!\\x001\\xc8\\x15\\xf2\\x8c\\xb1\\x80/\\x80\\xe8Au\\xb0P\\xfd\\xe8\\xb1\\xc7\\xcc|M\\xb8\\x12o\\x14-\\xb4\\xaa#U\\x19.}\\xf6\\x87\\xad\\x0f\\xbd\\xaa\\xf7\\x06\\x10F\\x00\\x1c\\x83\\xa6o.\\x97\\t\\xf9C\\xda\\xd5\\x17\\x90\\x82\\x81\\x00\\x9b/[\\x01S\\xf9\\xfe\\x83\\x9a\\x0e\\x86\\xde\\xa3\\xfe\\x19J\\x9b\\x11\\xfd&\\x86\\xae_y\\xc0\\xd2\\xc8\\x89\\xbe\\xe4\\x18\\x10\\x00\\xc4\\xe3\\xf1\\x07^\\xfe\\xc0\\x0f\\xff\\xe3\\xf1\\x9aDuM\\xb2\\x86\\x08\\x94v\\xeb\\xe2F4^1>2\\xd9]\\x92\\x86\\xb0\\x02\\x01\\x7f.[\\x08\\xd7\\x07\\x0c\\xcb\\x00\\x02\\x15*\\xc2l\\xa4\\x10\\xc8^\\x1f\\x1d\"\\xa2X}4\\x16\\x8a\\xd9nI\\x91\\x9a\\x1eJ\\x01@Eclq\\xa0;/\\xd2A\\x11\\x8a9UN$\\xef7\\xc34%\"m!\\xcb\\xf4\\t\\xd7\\x1c\\xb9:\\xde\\xb4\\xa4\\xb1\\xaa6\\xce\\xb9\\xa1\\xf1g\\xc7q\\xe7&\\xe6Rs\\xe9\\xf1\\x8b\\xd3L\\xb0p<h\\x85\\xcc\\x80?$\\xfcB\\x0f\\xd2\\xc2\\x82\\xf8\\xba\\x92\\n\\xc82|\\x0f\\x7f\\xf4\\xc1\\x8f\\xff\\xe5?\\x9d;~\\xe1\\x91w\\x7f\\xec\\x8f\\xde\\xff\\x96\\xaap\\xb5=\\xefBP)C\\x92_*\\xa6\\xa4\\x94\\x9c8:\\x8c\\xcf\\x88\\xf4h\\xce\\xf0qQ\\x89\\xe1h8\\xd0\"\\n\\xd3\\xc5\\xcb\\xc7\\xaf&\\xdb\\xeb\\xc2\\xf1\\xa0\\xcftP\\x1b\\xaf\\x03\\x00\\xa0$\\xa5\\xa4t\\x1cgft\\xb6cC\\xb3\\xf4l~\\xa4\\xe3\\xb8\\x17O_\\xca\\xa6s-\\x8b\\x9bk\\x92\\x89\\xf2\\xc0\\t\\xf9\\xc2Vz*\\xa3\\xdd\\xa8\\x95\\xa4`(8\\xd4;\\xac\\x94RJ\\x01\\xf3\\x86\\xcb\\x18)P\\xd8\\xbd\\xac\\xfb\\xdf\\x1e\\xfb\\xf6\\xe4\\xe4duu\\x02\\x01\\x91\\x18iO!@X\\x10\\x9e\\x87\\x85i[\\x02 \\xe5\\x12x\\xfd\\xfb2\\xbc-u\\x1fE\\x7f\\x93\\xedi:!\\x00\\x94\\x18\\xe3\\xc0`a\\x9e\\x16\\x11\\xc9\\x96e4\\x17\\x00\\x90q\\xfe\\x8b\\xde\\xb4=`M_\\xa6\\xdeSe/!\\x02\\x86\\x1a3#\\x80\\xda\\xea\\xda\\xd1\\xf1\\xd1%m\\xed\\xa4\\xe8\\xc0\\xd1\\x83\\x00\\xb0e\\xe3&]\\xfa\\x01\\xe2\\xe8\\xe4\\xe8\\x91\\xb3\\xc7\\x1f\\xb8\\xe3>\\xed&_\\x86\\xf4\\xd8\\x02\\x05\\xd2\\x17\\xf2\\xdf{\\xc7\\xdd\\x83\\xd7\\x07O\\x9e;\\xdd\\x1f\\xbc\\xb6\\xb4cqm\\xbcJ)\"KK\\x03zc\\xc6@\\xd0\\xd2\\x06\\xebV:O\\xed\\xf1\\xbd\\xfc\\xad\\xc9o\\x7fnz]\\x8f\\xa3S\\xcf\\xb7\\xbd>\\x1f\\x8b\\xc1\\xdb\\xff\"\\xbe\\xf3\\xb9w\\xa5\\xd2\\xd6\\x07\\xde\\xf9g\\xe4\\xcd\\xfa\\x91g\\xcc\\x83\\xb0 \\x04\\xabP\\xe2Ml\\xda\\xa0\\xe9\\x07}\\xef\\x82\\xf2\\x0b)M4\\xf3\\xdey*\\x97\\x8a\\x99a\\xbd!\\x8b%\\xcf\\x9c\\xf1\\xdd\\xbf\\xdd\\xf7\\xca\\x0f\\xac\\xbb\\x7f\\xd38x#H\\x80@H\\xe4\\xe3\\x96\\xed\\xd8@Pv)A\\xc1\\xc4\\xd8\\xe4\\x18\\x94\\xa5\\x9a5\\x89\\x1d\\x80@\\x01p\\xf22\\xac_\\xc4\\xc0\\xe4\\xd7\\xb2~\\tj\\r\\xff\\x8d\\xe5\\xdd\\x03\\xc84Ma\\x18g\\xcf\\x9c\\xed\\\\\\xdc\\t\\x08\\x92$y6\\\\*\\x9dM\\x93R\\xbe\\x90%A\\xcd\\x8c\\xcf\\x04+|\\xf9|\\xa1\\x94qTX\\xca\\x0cIt\\x8e\\x1f>9=8\\xdb\\xdd\\xd3\\x15i\\xf6K\\x90\\xa4h\\xf2\\xf4lf\"\\xbfb\\xf5\\xb2\\xf8\\xa2h\\xdeL\\xc5(aq\\x9f\\x1b,Z\\xa5\\x10\\xe7<R\\x1d0\\x989\\xdd?[\\xd5P\\x95HV\\x98\\x86\\t\\x04\\x82\\x0b 2\\x0c\\xc3\\x1f\\xf2U\\xd6\\xc4+\\x1b*\\x03!\\x7f\\xa9X\\xb2\\xf3\\xce\\xf0\\x95\\xd1\\xdc|a\\xec\\xea\\xa4[ts\\xa9\\x02Ie\\xfa\\x0c\\x9d%JR\\xc8p\\xed\\xb6\\xd5#\\xd7F\\xae\\xf7\\r\\x9f|\\xfeLs{stq\\x00C\\xaa\\x009\\x10\\xaaX,0\\xcelU\\x02\\xbfr\\xad\\x12\\x0f\\x01\\x92\\x90sH\\x8a\\xcc\\xb0\\x88VF\\xb8\\xc9S\\xa3YR\\x14\\x8a\\x864&[.q\\x94$\\xca\\xcce\\x94+C5\\xa1\\xf9\\x99\\xf9C{\\x8f>\\xfe\\xcd\\x1f}\\xf5\\x1f\\xbf\\xf1\\xfc\\xd3\\x07/\\x9f\\xb9\\xb2\\xf3\\xdf\\xf7\\x02A\\xe7\\xf2v!\\x04\\x00\\n&rs\\xf9D\\xb2\\n\\x11M\\xd32\\x0c>=6[\\xd7Pg\\x99\\x16\\xd3\\x9dJ\\x8fN\\xca\\x84\\x10\\x96\\xcfw\\xec\\xd8\\xb1\\xf6\\xf66\\xae\\xad\\x89\\xe1\\x06\\xc5AK\\x9e\\x80\\x97M-\\xc80)B\\x05\\x92\\x08@\\xeb\\x01\\x90R\\xa3\\x13c\\x83#\\xd7\\xfb\\xae\\xf5]\\x1b\\x1e\\xec\\x1b\\x1c\\x98\\x98\\x9d\\x9c\\x99\\x99.\\xda%\\x9fi\\x1a\\x86\\tJ\\x01c\\x00T\\x16\\x8d\\xf3f\\x90\\xc8\\x95JJm\\xeb\\x0c\\xe0\\xc5\\x9b\\xff\\xf6\\xad\\xdb;G7\\x97\\x84\\xe4%\\x1a\\xde\\x9f\\x08\\x8a\\x10 \\xec\\x0f\\x9e\\xbbr!Y]\\xe7\\xda\\xee\\x9f\\x7f\\xe8\\xfd\\x8c\\xb1\\xbf\\xff\\xe0GM\\xcb\\x04\\x82\\x91\\xa9\\xb1\\xe3\\xe7Om[\\xb7\\xb9\\xba2\\x81\\x9c\\xdf\\xc8 \\xbc\\x89)X\\xc8@\\xa3\\x91XG[[!_8y\\xfe\\xcc\\xd8\\xf4$!D\\x82\\x11\\xc6\\x99\\xe6\\x98\\x01\\x10c\\xc8\\x19=pO\\xe9r\\x9f8s\\xd1\\xfc\\xfe\\x13\\x81\\xb5+K\\xcd\\x8dR\\x1flw\\xa7\\xd3\\xd5q\\xe4\\xb3_}\\xcf\\xc1\\xe3GR\\xe9\\xf4\\xad\\x9b\\xb6\\xd1\\x02*(\\x01\\x17Pc*\\xbf4+7\\x0b\\x17J\\xe5\\x85w\\xe9\\xb5D\\x15\\x00(G\\x0e\\xcfN\\xf7\\xf5\\xd7\\xfe\\xc7\\xceE\\x1f\\xfeB\\xf3\\xf9\\x81\\x90\\xdf\\x90\\x9c\\xd1m+\\xa7\\x10\\xe9+\\xcf4u4\\xe6Gg|\\xf7n\\x9aADn\\x88\\xa1\\xf4d4\\x1c\\x89\\x05\"\\xdc\\x12\\x88\\xc8LQr\\xec\\\\1\\xd7\\xd6\\xd4\\xc2\\xb4+\\xb5\\xbe\\xa3x\\xceC\\x9a\\xd6P\\xcez\\xf5\\xc5\\xfa\\xbf3\\xc3\\xd2K\\x9f\\x0cE\\n\\xca\\xdd\\xf5\\xce\\xce\\xce\\x8b\\x17/\\x0e\\r\\x0f765p\\xc5\\x80\\x01\\xe3\\x9c\\x13\\xd4\\xd4\\xd6L\\x8eM\\xd64\\xd5VTU\\xf4\\x9e\\xee#\\x97U\\xd5\\xc6\\x07N\\x14\\x82\\x89\\xa0\\x8a\\xe6\"sU3\\x83\\xf3\\x00\\xd0\\xd0V\\xd7\\xe1\\xebt\\xc0V\\xa0.\\x8e~\\x1b\\x00j\\xdb\\xab\\x8b\\xbet\\xb5U\\x17,\\xc6\\x8c\\x04\\xf8Y\\x1c\\'y\\xac3\\x1c\\xf4\\x87\\xa7\\xae\\xccF*\\xa2\\x8d-I\\xcb\\xf4\\x0b\\xc69\\x17\\xda\\x1fL\\x1f\\x9b\"\\x15\\xf4Q,\\x18\\xadO&%IZM\\x8e\\xe3\\xe6s\\xf9|6\\x97\\x99\\xcf\\xe5\\xe7\\xf2\\xe9\\x89\\\\4\\x11\\x8e\\xd6FH\\x96\\xc0\\x05!\\xf8[\\xff\\xfcM\\x9f\\xfb\\xeb/\\x9f:~\\xeaK\\x9f\\xfc\\xca\\xab\\xde\\xfe\\xd2d{\\x1d\\xcf\\x98\\xcc1}\\xca\\xef`QP\\x80\\x88\\xc8\\x94sFJ\\x842<$(UQ\\xc8\\x14\\xa8\\x85\\xd0\\x84hCxj`\\x1a\\x90*\\x93\\x15\\x04&h(\\x87\\x88\\x94\\xbcp\\xfa\\xe2\\x81\\xdd\\x87\\xae\\xf6]\\x1d\\xe8\\xbd\\xb6p\\xde\\x9a\\xda\\x1a\\xa3\\x95\\x91sG/\\xfc\\xfb\\xd7~\\xa4\\x88^\\xf3\\xe6W\\x01\\x82r\\x15\\xe7e>\\x17!!\\x9b\\x9e\\x9c\\xb1\\x1d[O\\xcd*R\\x9e\\x83\\x1d\\x93@\\xd0\\xb9\\xa4}rbb\\xef\\x9e\\xbd\\xb7\\xddq\\xbb0\\x04\\x03D\\xefZ\\x01~\\x03\\xc9\"\\xad\\x1c\\x05\\xa4Y\\x8b \\x1d\\tDN\\xc9\\xb9x\\xf5\\xf2\\xd9\\xcb\\x17\\xfc\\xa6\\x95\\x88W\\x05|~\\xcbo2\\x06\\x85b)\\x97\\xcd\\r\\x8f\\x8d\\xee~\\xe1\\xb9\\xeaxUC]\\xb2\\xbd\\xa9%\\x14\\x0e\\x03CfpD\\xf4h>ba\\x96qa\\xfd\\x9c\\xca\\x11?\\xf1_\\xbc?\\x17\\xda\\x96Z\\x87\\x01t\\x85I:\\xe1B\\xcbg5$\\x1b\\x8e\\x9c9\\xe1\\x16\\x1cW\\xba\\xebV\\xad\\t\\x87B\\x8a\\xd4\\xd1s\\'\\x9f\\xde\\xb3\\xd3.\\x94\\xda\\x9bZ\\xeb\\x93\\xf5\\x1e+\\x8di\\xaf0\\x0f\\xe6\\x07\\x00\\x0e\\xde\\xc8\\x0e\\x07\\xde\\xb3|EwW\\xd7\\xd5\\x81\\xbe\\xde\\xfe\\xbe\\xa3gO\\xd6%j\\xaa+\\xabb\\x91XU\\xbc\\x923\\xce\\x89\\x0c\\x80\\xaf\\xfcs\\xe6O\\xfe\\x0c\\xbf\\xf9=\\xdf\\xeb\\xfe\\xb8\\xea\\xeb\\xff<\\x7f\\xdb\\x96\"\\x00(W\\xbd\\xe4\\x8e\\xae/\\x7f\\xe2so~\\xf7\\x1f\\xfd\\xcb7\\xbe\\x98\\xcb\\xe7\\x1ey\\xcf\\x87<b\\xe8\\xcd\\x1aX\\x88\\xc8\\x11\\x91\\x11S\\xc8\\x182\\x85B+qxU\\xfb\\x02\\x8a2>%v\\xbd\\x10x\\xf69\\xdf\\xbe\\xa3\\x9d\\x85\\xa2(oZ\\xdc\\xb1\\xcaF\\x86\\xdc\\xe0o\\xbcg\\xf4\\x87\\x07\\x93;\\x8f\\'baW\\xeb\\xf3!\\xc3\\x92rb\\xc1\\x88\\xc7VED\\x84\\xa2]\\x9cO\\xa7\\x17\\xe4\\x19\\x08\\x00t^J\\x9e\\xa9\\x181o\\xf6[\\xef\\xbc\\xff\\xd6\\'\\xf4k[\\xbf\\xa6\\x80\\xa5\\x17\\xde\\xe4!\\xce\\x90utt\\xf4]\\xedkjl$\\x00,\\xeb[\\xd7$k\\xae\\\\\\xe8U\\xd2E\\x80\\x8a\\xda\\x8a\\xf9\\xd1T\\xb4)\\x14LX\\xc5\\x89\\x12\\xafT\\xc5Tqzh\\x861\\x16l7\\xc7\\xd95S\\xf9\\x0b\\x19{vz\\x96\\x1b<\\xdc\\xea\\x0bS4h\\xc7\\x9c`\\xc1\\x12\\x01\\x98\\xe0\\x81Z\\xd3\\xf4[\\xa9\\xb1\\x0c\"\\xabk\\xad\\x11\\xdc@\\x00\\xcexz.\\x9d\\x9aN\\xe72y\\xc34\\x19\\xc7`0\\x10\\x08\\xfb\"\\xb1\\x88\\x04)\\x98p]\\xd7\\x10\"\\x14\\t\\x05\\x82\\xbe\\xca\\x9a\\xb8\\xed\\xba\\xc5lq\\xe0\\xd2uD\\xf0UY\\x04 \\x89\\x8a\\xb3\\xa5W\\xbf\\xe1\\x15<\\x02\\xc7\\xf7\\x9c\\xfa\\xce?>\\xfe\\x8a\\xd7\\xbd\\xac\\xb1;\\x99\\xf5\\xa5\\xe6\\x9dY\\xce\\x85\\xeb\\xd8\\x96\\xf0\\x07U8R\\x8a\\x93\\x0bN$/+K|\\xd6\\xcc\\x8d\\x95\\x02I\\x8b\\x07xEs<5\\x9a\\t\\x84\\xfdF\\xdc\\xcc\\xa63\\xa7\\x8f\\x9c9~\\xf8\\xe4\\xa1\\xe7\\x8e\\xccN\\xcf\\xea\\x93c\\xf9\\xcc\\x8e\\xee\\x8e\\x9e\\r\\xcb\\xd7l]\\x19\\xa9\\x88\"\\xa3\\x83\\xbb\\x8f|\\xf1\\xef\\xbf\\xfa\\xf8\\xd7\\x7f\\\\\\xcc\\x15_\\xff\\xf6\\xdf\\xb5s\\xb6\\x150\\xbd\\xca\\x0e\\x91!\\xd5$\\xab\\x99>\\xb5\\xde\\\\g\\xb9\\xddG@\\x80[\\xb7\\xdf\\xb2o\\xcf\\xbe\\'\\x7f\\xfc\\xe4\\xad\\xb7n\\x8fD\\xa3\\xdeL+\\xa2.\\x1e_dAV\\xb6D\\x07\\x82L.\\xb7\\xff\\xe0\\x0bR\\xb9\\xdbVo\\xae\\x8eWh\\xf3\\x1e $)\\x91!)b\\x06WR\\x8d\\xcfO\\x8dL\\x8c=\\xbe\\xe7\\xa9\\x96\\x86\\xe6\\x15]\\xcbC\\xe1 rN\\xca\\x9b\\xc7\\xc2\\xb2o)\\x00h\\x8d\\x04BucV\\xe8g^\\x18zn\\xe2\\x86\\xb3\\xbc>,\\x9d\\x06\\xd0\\rm+Z\\x08b\\x04\\xab\\x97\\xf5\\xbcp\\xe4\\xe0W\\xbe\\xf95\\x00X\\xb3r\\xf5\\xf9\\xab\\x97\\xae\\x8f\\rqn\\xa4f\\xe7?\\xff\\x95/\\x84\\xc3\\xa1\\xe5]\\xcb\\x80\\xa1\\x07\\xdf\\xc0M\\x99\\x95v\\x04A]\\x1d\\x13!\\tat\\xb6\\xb4/n\\xed\\xc8\\xa63C\\x13#\\xe3S\\x93\\'/\\x9c\\x9d\\x9e\\x9biN6F\\x82\\xe1H(\\x12\\x0bG\\x1e\\xfd\\x9b\\xbaP\\xb0\\xe2s_\\xf5\\xbf\\xeem\\xb1/<:\\xff\\xd2;\\x8b\\xfa}\\xdd\\xb5\\xfd\\xf6o}\\xfa+\\xbf\\xf7\\x8e7\\x7f\\xfd\\x07\\xff\\x96\\xc9\\xe6\\xfe\\xe9\\xaf\\xfe\\xce\\xf0\\x86\\x8e\\xb1|R\\xca\\x12\\xd0\\xe0Y\\xba\\x82&\\x8e\\x02!\\xa0Tt\\xf6\\xa2\\xb1\\xf7\\x85\\xe0\\xd3{\\xfdGNY\\x0bXVuU\\xe6\\xbe\\xcd\\x85[W\\xcf\\xae\\xefN\\xfd\\xfdW\\x1at\\xdc1L\\xfc\\xc0\\x1b\\xae\\xbc\\xe1\\xa3\\xab\\xeeZ?U\\x92F6+\\xfc\\xf1\\x8cR*\\x16\\x08\\xeb\\x14N\\x9f\\xe7R\\xa9T\\x9d\\xa8\\x86r\\xa3\\x98@\\x13)\\xc0\\xf3\\xd0\\xd6\\x87\\xe7u\"\\xc0\\x13\\xb7a\\xf8\\x9b\\x96g\\xfdz\\x03\\x16\"\\x02\\xeaR\\x03\\x90\\xda;\\xda\\x8f\\x1d=&\\x95d\\xc8\\x88\\x11W\\x1c\\x18\\x85\\x82\\x01D\\x9c\\x1e\\x9f\\xad\\xac\\xabhjI\\x1e\\xdau\\xbc\\xb21^\\xdd\\x9c\\x18\\xb90n:\\xe1\\x81\\xd4u\\xa5TCS}\\x93\\xbf\\xb5`fKT\\x1a\\xea\\x1b\\x05\\x82\\xe4\\xa2\\xba&l\\x07@#\\xc1-\\x11\\x12S~+&\\xaa\\x1b\\x12v\\xc6\\xcdO\\xe7\\x97\\xae\\xeb\\x88\\x04\\xa2\\x82\\x0b\\xbb\\xe0\\\\8y)\\x9d\\xce64\\xd5\\'\\x93\\xb5\\x04P,\\x163\\xf3\\xb9\\xd1\\xebc\\x85|!\\x1a\\x8fVTFc\\x95\\x15\\xa1x\\x10\\xbc\\xb1\\x18\\xe0N\\xd1g\\xfa\\xea\\x17\\x95F\\x06&\\xea\\xab\\xfd\\x921 *\\xcd9<\\n/y\\xd3]\\x88xl\\xf7\\xc9\\xef\\x7f\\xe3\\xdf7\\xbc\\xba\\xa7nyB\\xbaR(\\x1f\\xa0\\xca\\xd0d\\xda\\x98\\x1d\\x87\\xe1Fh3f\\xac,d0\\x08\\x98\\xa9\\x96S\\xb6eX\\xccdY;\\xf3\\xad\\xcf=\\xd7\\x7f\\xad\\xff\\xdc\\x89s\\xae\\xebU\\x13\\xb5\\xc9\\x9a\\xd6\\xd6\\xd6\\x8d;\\xd6o\\xb8c\\x1dcL\\x0fEK%\\x01\\xe0\\x96;\\xb6D\\xc2\\x91O~\\xf03\\xcf\\xfc`\\x97\\x92\\xf4\\x92{^R\\xdbZ\\xcdQx\\xf7i\\xc4\\x91\\xc1\\xd1\\xd5\\x1b{<\\xee\\x9b\"\\xc5H*\\xc5<Z\\x131\\x86\\xdbv\\xdcr\\xe2\\xf8\\xc9o~\\xe3\\xb1\\xfb_v\\x7f2\\x99D N\\xbc<\\xba_\\x0e\\x06Z+N)P\\x94Ngv>\\xbf\\xbb\\xb1\\xbanEG\\xb7\\xb4\\xa5[\\xd4>}eea\\xf20Z\\xc6Y\\xb5?V\\xdb^\\xb9lQ\\xc7\\x85\\xa1\\xbe\\'w?\\xb3\\xb4}\\xf1\\xd2\\xf6Na\\x1a\\x80\\xc0,\\x02@\\x0e\\x9c\\x00\\xbd\\xbb\\xfd\\xcd\\x1c\\x1f/\\xc2\\xfe\\x97\\xfb\\x06\\x80\\xca\\xf2,\\x9e\\x9d\\xa3\\x87\\x1d#\\x81\\xd68\\xd0GCH\\x0cq\\xeb\\xbaM\\x7f\\xf6\\xfe\\xf7\\x02\\x00\\x18lz~v\\xc5\\xd2\\xe5\\xf55\\xc9\\x0f}\\xe4\\xc3\\x00p\\xcb\\xe6[\\x98\\xe0\\xa8\\xfb(\\x1e\\xe7\\x00\\x16.W\\x0f[\\xe2\\x1e\\xf1\\x19\\x08\\xb80\\x88 \\\\\\x11[Z\\x11]\\xba\\xb8\\x8b\\x88\\x94\\x94s\\xa9\\xf9\\x99\\xd9\\x99t&\\xd3?:x\\xf8\\xec\\xb1\\xfb^Z+\\xd5\\x8e/|=\\xf6\\xb9\\xaf}\\xb5\\xe4X\\xaf\\xbc\\xfb\\x01}\\xb4[\\xd7m\\xfc\\xe6\\xa3_\\xf8\\xbd\\x87\\xfe\\xe0?\\x9e\\xfdQ.\\x97\\xfd\\xec\\x87>n\\tS\\xcb\\xec{\\xaf\\xca\\x14\\xe3\\x0c\\xa5D\\xc1\\x91\\x08\\x85H\\xa5\\xe6\\xf6\\x1e\\xda\\x7f\\xf6b\\xdb7\\xbe\\x7f\\xe7\\xcc\\x9cG\\xfb\\x08\\xf8i\\xdb\\x86\\xc2m\\x1b2\\xb7o\\xca\\x9d\\x1d\\xd9S\\x17\\xad\\xea\\x887\\x90\\xe4u\\tWpe\\xf8\\r\"\\xda\\xd0Sx\\xc3}\\xa3\\x9c\\xc3\\x83\\x9fX\\xdc;\\xe4\\x7f\\xf7\\xdb\\x7f\\xb4\\xac\\xb5\\x8e\\x19\\x1c\\x19C\\xee\\x89b\\xccg\\xd3\\x91`H\\xa7\\xe4^\\xf1I\\x08\\x0bv\\x8d\\xa4e:\\xf4\\x8d\\xae\\x9c\\x02\\xeb\\xd6\\xf2oR\\xc8\\xfa\\xb5\\x06\\xac\\x85\\xa5\\xc7/|>_\"\\x91\\x98\\x9b\\x9b\\x8b\\xc5\\xe3Z\\x11R#:\\xadKZg\\xa6\\xa6\\xab\\xea*\\r\\x9f\\x99l\\xab\\x9d\\x1d\\x99\\x8f4\\x04#\\r\\xa1\\xf9\\xe1\\xf4\\xb5\\xb3C\\x00\\xd0\\xd4\\xd5 \\xc0\\x88\\xce\\xd6H\\xd39q\\xf1\"\\x00\\xb4,ZDA\\xa5\\xfcN\\x80\\x87\\xe5\\x18\\xf7W\\x99\\xe1\\xfa\\x80\\xcc\\xcb\\xe9\\x81\\xb9\\xb6\\x15\\x8b\\x02\\xc1 c8717\\xd87\\x9cl\\xa8\\xdb\\xb0m\\x9d!, \\xc5\\xb8PJ2\\xe4R\\xb9\\xb6\\xedL\\x8eO\\xa5\\xe6\\xe6/\\x9d\\xbd\\xcc\\x05\\xafm\\xaa\\xadIV\\xe9\\x998B\\nW\\x86\\xa1\\x7f\\xa2\\x94u\\xd0\\x02%\\x95r\\x89\\xf9I\\x96\\xdc{\\xee\\xbd\\x9bsv\\xf8\\xd9\\xe3\\x87\\xbe{jki\\xc3\\xa6\\x9e\\xad%^D\\xc0\\x00\\x84Fd\\x7f\\ng&\\xd9H5\\xd5\\xfb\\xb2~;\\x9awBN\\xdf\\xe1\\xa1\\x9d\\x13{N\\x1d<;;\\xe9%S\\x8c\\xb1\\xee\\x9e\\xaeM\\xdb7\\xae\\xda\\xb0\\xb2}I\\xdb\\xfc\\xf4\\xfc\\xe8\\xd5q;\\xeb\\x04b~\\xa5\\x18c\\xa8t\\xcbO\\xc2\\xba-k\\x1f\\xfa\\xd0\\xdb\\x1f\\xfd\\xabO\\xed||wz:\\xf3\\x17\\xff\\xf0g\\x0b\\xf0\\x87\\xeb\\xba\\xb5\\xf55\\xc2\\x10\\xde\\xa9%\\xf2\\x06i\\xf5\\xf8G\\xf9\\xf2^\\xb3nMu\"\\xb1\\xeb\\xd9\\xddZ\\xe9\\x94\\x16<\\x0f\\xc8\\xeb\\xbc\\xe9\\xaf5\\xd0{\\xf0\\xc4\\xa1\\x86\\x9a\\xba\\x9e\\x8en\\xe5\\x92\\xd6C%E\\xd2\\x95\\x08D\\xaeB\\x86J\\x12\\x1a\\\\:\\x92\\x19L\\xb9\\xd2gXk:\\x965\\xd74\\x9c\\xea=7\\x9b\\x9a\\xdd\\xb6q\\x0b\\x02\\x92\"o\\x90\\x05\\xbc\\xa4\\xc8\\xab\\x89\\xca)\\x13\\x11\\xfd\\x7f2\\x15\\xbd\\xdc\\xca\\x03\\xbe\\x14\\xc2\\x82\\xce\\x9cg9\\x83\\xca\\xd3pYx\\x03^+\\x95\\xb0P*^\\xe9\\xbd\\xc29\\xff\\xcbw\\xbe\\'\\x1a\\x8d\\x02b:\\x9d>\\x7f\\xe9\\x82i\\x98\\xebV\\xaf\\x01\\xdd\\x12\\xc32\\x19\\xa2,mCZ\\xc1\\xce\\x03\\xdb\\xbcQ~R\\x84\\xc8\\x08\\x94F\\xe4\\x80!\\x07^YQY\\x11\\xab\\xd0Q\\xcdq\\xdc\\xb3\\x17\\xcf\\xddq\\xd7\\x93\\x89D\\xec\\x91G\\x1f:p\\x94\\xe5\\xb3\\xb9\\xdf{\\xd5k\\xf5A\\xad_\\xb9\\xf6\\xbb\\x9f\\xf9\\xeak\\xdf\\xfe\\xe6\\x9d\\x07\\xf6\\xbe\\xf5}\\xef\\xf8\\xfc\\x07\\x1f\\xf5\\xf9Lm/\\xa6\\xdd\\x94\\x88\\x00\\x01\\x07G\\x86\\x9f}~\\xf73\\xcf\\xef9x\\xec\\x90\\xe3\\xba\\x1d\\x8b^53wws\\x83\\xdc\\xbe\\xa9x\\xf7\\x8e\\xc2\\xf6\\xb59\\xd3\"Yr\\x80 \\xe0[~\\xe0\\xcaI\\x13DKE\\xf2\\x8d\\x0f\\x8c#\\x82t\\x00\\x19\\x07\\xa5\\xfe\\xe2-C\\xf3\\x19\\xfe\\xe6\\x0f/\\x1d\\x9e\\xb4\\xfe\\x9fO\\xdc\\xf3\\x9dO\\x0c3\\x8e\\x1a\"#\\x04d81;\\xbd\\xb6g\\x95>G\\xe5 \\xb4\\xe0(\\xf6\"I\\xbe\\x17}\\x0ej\\xa1\\xbf\\xfb\\x1b\\x81\\xc7\\xff\\x0f\\x04\\xacrB\\n@\\xe4\\xd8N&\\x9d\\x8d\\xc7\\xe3\\x04L\\xb3\\xd78\\xf2d]\\xed\\xb9\\xe3\\xe7\\x96\\xf4,6\\r\\xb3\\xbe9y\\xf6\\xd0\\xf9hM\\xa4\"\\x11\\x07E\\xfd\\xe7\\xae\\x01@\\xd7\\xea\\xc5\\x81zKJ\\xc5%\\xbb>2\\x08\\x00\\xed\\x1b\\x9a\\xa3\\x95a9\\x87Xd\\x81\\xa4U\\xd3P\\xe5\\xe4\\xe4d\\xefLkWsmM\\xad\\xc1\\x8d\\xa9\\x91\\x99\\xe1\\x81\\x91U\\xeb{\\x125\\t\\xce\\x8c\\x05\\t\\xf6\\xf2A\\x99\\x96A\\xe1\\xb6\\xb0T.\\x01\\\\\\xbf6t\\xf5r\\xdf\\xd4\\xc8\\xe4\\xb2\\xb5\\xdd\\xa6a)E\\xa6\\xb0M\\xcb(eK\\x01\\x9f\\xcf-I4Q\\x91\\xc4\"\\xc7\\xa2Xzw[\\x9e\\xe5\\xce>}i\\xff\\x7f\\x1c\\x9a\\xc9N\\xc7{\\x02\\x88\\x18\\xe6\\xd1E\\xd6bN\\xc6\\x9c=y%uA\\xf5\\x99}\\xd7z\\xaf_\\x1a\\xb1\\x8b\\xb6~\\xbdH,\\xdc\\xda\\xd6\\xb6q\\xfb\\xfa\\xdb\\xee\\xbf5\\x1e\\x8b\\x03\\x02\\x07\\xa6HU&*\\x04\\x17\\xd7/\\x8dp3]\\xdb\\x96\\xb0\\x02B*\\x03\\x00H\\x10C\\xb6f\\xdd\\xea?y\\xe8\\x8f?\\xfd\\xe8g\\x8e\\x1c8\\xfa\\xb7\\xef\\xfd\\x87\\x8f|\\xe2\\xc3\\xc228css\\xb9B\\xbe\\xc8<\\xc3;\\xadU\\xae$IT\\xe4j_?\\x89\\x88\\x8c\\\\jl\\xaa\\xbf\\xeb\\xbe;w=\\xb3[J\\xb9b\\xc5\\n\\x9d\\\\\\x94wkY\\xd9D\\xaa\\xde\\x81\\xbeb\\xb1\\xd4\\xb3v\\x99[tIJYrIO\\xff\\xba\\xda\\xe0\\x81<\\x8c\\xac\\x84\\xc8\\x99,!7\\xb8\\xb2]\\xe6\\x13q\\x7fx\\xeb\\xca\\x8d\\xfbO\\x1c|\\xee\\xd0\\x81-k6\\x08\\xc6\\x08\\x15\\xa2\\x00\\xd0e**M|b\\xaa\\x0c\\xef\\xe2\\x8b\\xc9\\x0f/^7XW\\xba\\x02,K\\xafh/\\xc4\\x05\\xf7l\\xa5\\xe1,/\\xf3:z\\xf2h\\xc9\\xb6W._\\x11\\x8d\\xc4\\x00\\x00\\x01\\x0f\\x1c9$\\xa5\\xdc\\xb0v\\x9d?\\x10@\\x04b^!\\xad/h\\x00\\xefrD\\x00`\\xbc|.<D\\x9c\\x80\\xb4y\\xb2\\x17`\\x17\\xf2/ED\\xc4\\x18[\\xd3\\xb3*\\x18\\x08\\x12\\xf4~\\xe0\\xe1\\xf7}\\xf0\\xef>\\xf2\\xce\\xf7?\\x9c\\xc9e\\xdf\\xf6\\xdbo\\xd0;|E\\xe7\\xb2\\xef}\\xeak\\xaf}\\xf0\\xcd{\\x8f<\\xff\\xbb\\xefy\\xdb\\x97>\\xf2\\xa9\\x90?H \\x8b\\xc5\\xd2\\x81\\xd3G\\xf6\\x1cz~\\xd7\\xa1}#\\x13c\\xfa\\xed\\x1aB\\xdc\\xb2a\\xcb\\x9d\\xdb\\x97\\xdd\\xbdc\\xbc\\xa3\\xd5+E\\xc8E\\x00$\\xc1\\x01 \\x1a\\x89n\\xec\\\\y\\xf0\\xca\\xc9\\xc9\\xdc\\xdc\\x8a\\xfaN\\x1f7\\x98A^\\xcb\\x14\\xd1\\xcf\\x8b\\xef~\\xc7\\x0f\\xff\\xf6S\\xdb.^I\\xbe\\xe6\\xa1\\xb6\\x7f\\xfb\\xd4x\\xf7\\x12\\x079c\\x0c\\xb3\\x85\\x9c\"\\xaa\\xad\\xae\\xf1\\xd4\\x90\\x17\\xaeE\\xf2\\xc4\\xde\\xa0|\\x1f!B\\xb6\\xe0\\x97s3\\xe2\\xf8s\\xa6\\xc3\\xbf\\xe2\\xf5?\\x93a\\xe9\\x85\\x80\\x91h\\x84h\\xe1>\\x07\\x00D\\x88\\x81@ V\\x11\\xcd\\xcc\\xa6\\xac\\x88\\xcf\\xf4\\x99U\\xf5\\x953\\xd7\\xe7\\xaa;+}!kdh\\x14\\x11\\xeb\\xc2\\x8d\"o\\xa0)mU\\x9a\\x1c\\x9e\\xe4\\x827V.\\x92\\x13\\x0c\\x05T\\xb6E\\r\\xbfQ\\x9a\\xb3\\'\\x07f\\xdazZ\\xab\\xaa\\xab8\\xe3c\\x83\\x933\\x13\\xb3k6\\xad\\x8eW\\xc4\\x053\\x10\\x99`\\x1c\\x08\\x18c\\n\\x88\\x03\\x93 \\xb9&Lr\\xa1\\x88\\x1a\\x9b\\xea\\x93\\r\\xc9\\x93\\xc7N\\x1e\\x7f\\xfe\\xe4\\xaa\\xad=\\x9c\\x01 \\x8b\\xc4\\xc3\\x99l&\\x08>iKD\\x90DXD\\xdb\\x9f\\x97${n\\xe9\\xae\\xe25{\\x9e\\xd8wa\\xd7\\xd5\\xa6BMr}b^\\xcd\\x1e\\x9d8\\xc0\\xae\\x05\\xae\\xf6\\xf6\\xce\\x8ez\\xa3\\xb6\\x88\\x98l\\xaa[\\xb2l\\xf1\\x9a\\x1d=\\xab\\xd6\\xae\\x9a\\xbd\\x9e\\xae\\xac\\x8eGB!\\x8f\\xee\\x03 \\x18w\\xa5\\x8cVE\\x17\\xaf\\xf7O\\\\\\x9b\\xber\\xb8?V\\x1d\\xe1&\\xe3\\x9c+\\xa5\\x94\\xad\\xd2s\\xd9\\x95\\xebW<\\xf2\\x99\\xbf\\xf9\\xc0\\x83\\x1f<\\xb8\\xef\\xd0_<\\xf8\\x81\\xbf\\xf9\\xc4\\x87\\xc0\\nf\\xe62M-\\r\\xc0\\xb4x\\x89\\xc7\\xbb!b\\xda\\xe2\\x8a@g(\\x8aPHE\\xd1X\\xec\\xae{\\xee|\\xea\\x89\\xa7C\\xe1pkk+\\xf3\\xf8\\xa4\\x1e\\n\\x0b\\x00@p\\xfe\\xf2\\x85emK\\x11\\xca^9\\xca\\x9b.\\xce\\x15\\xf2\\xfdS\\xc3\\xa9|\\xc6\\x95\\xd2`\"\\x1c\\x08vT7Z>\\xbf\\x92\\xc8\\x90\\x91\\xabP\\xa0O\\x88[Vm\\xdc\\x7f\\xea`\\xff\\xf5\\x81\\x8e\\x8eN\\x04\\xcf\\x08\\n\\xcav|\\x9a\\x12\\xe5]d\\xfa\\x88\\x7fz\\xdc\\x82\\x88\\x98\\xce\\xcd<]^m|\\xaa\\x93\\x80\\x85qU\\x0f\\xfa)\\x0f\\xb0\\xea\\xf7\\xf0\\xfc\\x81\\x03\\x00\\xb0e\\xc3f/\\x95@x\\xe1\\xf0A\\x00\\xb8e\\xd3V\\xc6<\\x04\\xc9;\\x1a\\xbaaj\\xa5\\x81p(\\xb3\\x91n\\xe4\\x1e\\x80\\x04\\x9e\\xbf\\\\\\x99\\x18\\x8f\\x04\\xaa\\xac\\xba\\x89\\x08\\xb0\\xb8\\xad\\xbd\\xff\\xfa\\xc0\\xcb_\\xfa@4\\x12}\\xf7\\x07\\xfe\\xfc/>\\xfa\\xd7\\xa9\\xf9\\xf9w\\xfd\\xe1\\x83\\xfa\\xe7v6\\xb7~\\xfb\\xd1/\\xbd\\xeeO\\xdfr\\xe4\\xec\\x89\\xdfz\\xf0M/\\xbf\\xfd\\xbe\\x03\\xa7\\x8f\\x1e:}\\xb4X\\xf6\\x97\\xad\\xaeL\\xdc\\xbee\\xc7]\\xdbn\\xdb\\xbe\\xf9\\x96h,\\n\\x04(\\xd4\\r\\xee\\x08c\\x04\\x04\\x9c!\\x11rV\\x11\\x8b\\xdf\\xda\\xbd\\xe9\\xec\\xe0\\xa5C\\xd7N\\x1bL\\x84L\\xbf\\xdf\\xf4\\x15\\xedR\\xce)\\x16\\xecb}E\\xf5\\xf7\\x1f\\x9d\\xfd\\xc3\\xbf\\x8e\\xed;\\x12x\\xe5\\x1f&\\xbf\\xf5\\xe9\\xc9\\r\\xeb\\x15\\x00\\\\\\xea\\xedm\\xa8\\xad3\\x84Ae\\x88\\xdd;\\x917\\xf7\\x05\\xc1\\x13O\\xbb\\x91\\x01c\\xf9\\x13*\\xff\\xbe\\xa9\\x93\\xf9?\\xb3\\xfe\\x07\\x02\\xd6\\x8d$\\x1e(\\x9dN!k,w*<\\x0c\\x169D\\xa2\\xe1\\xf9\\xd9L2\\x1e\\x12\\x9c\\xd7\\xb74L\\x0c\\x9e(\\xcc\\x16\\xab\\x86G\\xbe\\xda\\xdd\\xb6+\\xe8\\xabm\\xad\\xce\\xcd\\x160\\xc3\\xaf\\x9e\\xeaS\\x8a\\x16\\xb54\\xc6b\\xb1HUP\\xf8\\r\\xbf\\x19\\x98\\xbd>_\\xca8\\x9dk:\\xaa\\xab\\xab\\x05\\x13\\xe3\\x83\\x93\\x13#\\x13\\x1b\\xb6\\xae\\x8fD#&79\\xe7\\x0c9\\xf7\\x94\\xa3\\xbcs/H(R\\xc0A\\x13\\xa0\\x1c`\\x06\\xd0\\xca5=\\x87\\xf7\\x1f\\x1e\\x1b\\x1colm08\\xf7\\x87\\xfd\\x93\\xe3S\\x95<V\\xe6\\x93\\x01\\xb8\\xdc\\x85\\x02\\x00\\xf9Ud\\xd1\\x9a@\\xa7\\xdbt\\xe5\\xd9\\xeb\\xd7\\x0fLL_I\\x95\\xd2\\xb6\\xb4=\\xa1\\x08\\xc3\\'\\x9a\\x177vtt,\\xde\\xd6\\x1a\\xc1xP\\x84\\xc3\\r~d\\xe0\\x96\\\\.8\"\\x08O\\x8a\\xd3\\x00P\\x82\\tE$|\\xa2yICSg23\\x97\\xcdg\\n\\xae\\xeb\"C\\x7f\\xc8\\xdf\\xba\\xa2\\xd54\\x8c\\x06hx\\xf4\\x0b\\xff\\xf0\\xa7o{\\xcf\\xc1\\xe7\\x0e\\xbe\\xeb\\x8f\\xde\\xf3\\xc9\\xcf\\xff\\xd3\\xcc\\xe4\\xec\\x8a5\\xcb4\\x84\\nZ?K\"q\\t\\x84\\x0c\\x08\\x11\\x15\"\\x03\\x86\\xe80\\xc6\\x90T0\\x1c\\xbae\\xfb-O\\xfd\\xf8\\xc9\\xd7\\xfe\\xeek+cU:z,\\x04\\x8fl.k\\xdbvCM\\xadr\\x95\\x92\\x92\\xa4\\x92\\xaeT\\x8e\\xec\\x1d\\x1d\\xe8\\x9f\\x1a\\xae\\xf0G\\xea\\xc3\\t\\x8b\\x19E\\xd7\\x1e\\xcfL?~z\\xdf\\xb2d\\xe7\\x92\\xbaf\\xe5r\\x01@R!\\xe3&\\x8a\\x15\\xed\\xddG.\\x9ch\\xaco\\xb2L\\xd3\\xeb\\xc7)$\\x05$\\x88\\x91\\xc7~\\x00\\x80\\x17]/?\\xb1\\xb4\\xca\\xfa\\xcd>]\\xa0\\xd5\\xd2\\xc8\\xd3l\\xf0\\xe4\\xdb5QN\\xe5\\xf3\\x85\\x99\\xd4\\xec\\xd4\\xcc\\xf43{v\\x02\\xc0\\xc6u\\xeb\\x17\\x00\\xfa\\x17\\x0e\\x1d\\x00\\x80-\\x9b6\\xebBO\\x8f\\xce\\x01\\xe8f\\xa9\\xdes\\x1e\\x0f\\xbe\\xcc/Cv\\x13i\\x93\\x80\\x81VB.\\xc7FF\\x9e\\x9e\\xb2\\x02\\x05\\x84\\xa8TKCs\\xdf\\xd0\\xb5\\xb7\\xfe\\xfe\\x9b\\x02\\x96\\xffO\\xfe\\xfc\\xa1\\xbf\\xfb\\xcc\\xa3\\xc5R\\xe9\\xbd\\xff\\xe7!}\\x07io\\\\\\xf4\\x9d\\x8f\\x7f\\xe95\\xefzK\\xff\\xc8\\xe0\\xdf|\\xfe\\x13\\xfa\\x07w4\\xb7\\xdd\\xb9e\\xc7\\x9d[o]\\xbfj\\r\\x17\\x82\\t\\xe1\\x1d\\x98\\x96Z\\xc7\\xf2\\xfe4\\xbc\\xd8H\\xa4\\xfb\\x98\\x14\\xc0\\xe0\\xfa\\xaeU\\x8e\\xed\\x8c\\xcfN\\xa5\\x0bY\\xdb\\xb1\\x03\\x81@m\\xb0\\xa66\\x9a0L\\x81\\x0c\\xbf\\xf1\\x8f\\x13o{_\\xcd\\x13{\\x02\\xaf\\xf9\\xe3\\xeao\\xff\\xeb|w\\xf7\\\\\\xef`\\xdf+\\xeey\\x00<\\x16Ky\\xe3{=\\x10/uED\\x00O\\x90~\\xe1#)\\x07\\xed_\\xe0\\x82\\xff\\xa5\\xae\\xff\\xb9\\x0c\\x8b\\x00\\x11\\x1c\\xc7\\x8d\\xc7c\\x1e\\xa6J\\n\\x94\\xce\\xf5\\xc1\\xf2Y\\x85B\\x01\\x89\\x10\\x19\\xe7\\xd0\\xd6\\xd3r\\xf5t\\xff\\x9aS\\xe7\\xbbN]Z\\xf5\\xaa;\\x0fW\\x06\\x83\\x15>W\\xa9\\xda\\x13\\xf3\\x15>s\\xf9\\xfa\\xaeX}\\xd8g\\x06\\x8b\\xb9\\xe2\\xc4\\xc047\\xf8\\xe2\\xd5\\x1d\\xfe\\x80Op1\\xd27\\x9a\\x9e\\xcb\\xac\\xdf\\xbc.\\x12\\x89\\x18\\xccd\\xc8<\\xa0Z \\x102\\xc6\\xbdV\\xb3\\x02\\xae\\xb7\\x1fc\\x8a\\x88q\\x06\\x8a\\xb8\\x10K\\x96/9u\\xectc[#2\\x0cGCn\\xd1e\\x08\\x823O\\xe1\\x98)R\\x00\\x84\\x1c\\xb8\\x0bN\\xfd\\xca\\x1aBuu\\xe7Hq\\xdeV\\xae\\xf2\\xc5\\xcc\\xfa\\xf6\\xba\\xae\\xa5]\\xd8Rl\\x8c\\xb6\\x86J1#\\x06,\\xc3\\x98\\xa9e\\x0bx1]\\n\\x84\\x03\\x8c\\t\\x86\\xdc3\\xddc\\\\*%\\x10\\x1d\\xe9\\n4\\\\t**+\"q\\x87!\\x97\\xe4rn()\\xf5M\\xb2\\xab\\xbb\\xfb\\xb3_\\xfb\\xf4;\\xde\\xfc\\xe0\\x89#\\'\\xdf\\xf8[o\\xfa\\xd3\\x87\\xff4V\\x19\\x87\\xff\\x97\\xbc\\xf7\\x0c\\x8f\\xeb8\\xd2\\x85\\xab[\\xa9*\\x88\\x00\\x00 \\x00IDAT\\xba\\xcf9\\x93g0\\x18`\\x80A\\x18d0\\x809\\x80\\x99\\x94d\\x8a\\x94%9\\xcar\\x92\\xe5$\\xc9\\xf6:\\xc9\\x96-\\x079\\xae\\x1c\\xe4\\x9c\\xd6\\xda\\xb5\\xd7\\nk[\\x0e\\xb2%\\xaf-\\'IVf\\x16\\x98@\\x90 \\x00\\x02D rN\\x13\\xcf\\xe9\\xae\\xfb\\xa3\\xcf\\x19\\x80\\x94\\xf7\\xde\\xbd\\xbb{\\xa9\\xefy\\xbe&9\\x04\\x063\\x98\\x13\\xba\\xab\\xab\\xdez\\xeb-\\'\\xc3\\x03\\x8ew\\x95\\xdbN\\x19\\xe3DBiu2\\xae!\\xc9\\xa2\\xa2\\xe8\\xfa\\xc6\\r\\x87\\x0f\\x1e~\\xe5\\xb5\\xd7\\xe2\\xe2n\\xe5\\x08\\x13S\\x13A_\\x90\\x11\\x12H\\x10\\x00\\x04$\\xa9wl``jtC\\xe9\\xf2\\x80\\xe1\\x91\\xc2n\\x94P\\xe2/h(\\xaei\\xeao5EvU|\\x89\\x94\\xc4\\x01H\\nd,V\\x18\\x8d\\x86\\x0b\\xcft\\xb4\\xaekX\\x03R\\x12\\xb7s\\x85H$\\x1199G\\n\\x0b\\x9b\\xb9\\x83\\xa6\\xe4\\xd2\\xec\\xa8\\xca`\\x94n\\x84\\xa2_\\x83\\x94\\x84\\x08v\\xdf \"\\x82L&\\xd3\\xda\\xd1669\\xde\\xde\\xddY_Y\\x83\\x80\\xa7\\xcf\\x9eA\\xc4\\xb9t\\xb2g\\xf0BeI<\\x91H\\x9cli\\xd64m\\xd3\\xc6M\\x0b\\xc6\\x11\\xc1!\\xcf\\xe6(\\xf7\\x8b\\xd6&:\\x81*\\x021\\x04\\x01\\xaa\\xcd= \\x80p\\xa8\\xb66\\xb6e\\x03<5U\\xd5m\\xe7;2f\\xf6\\x8d\\xaf\\xbdA\\xe3\\xfc}w~\\xf8\\x07\\x0f\\xfc\\x8b0\\xad\\xcf~\\xf0c\\x08@\\xc8\\xe2%\\xe5\\xefx\\xf5\\x9b\\xee\\xb9\\xef{\\xa5\\xd1\\xd8G\\xdf\\xf1\\x0fWm\\xdaQ\\x18)d\\x1a\\x03\\x86\\x1a\\xd7\\x14\\xcb\\x01l\\xcbiw9E\\x0eD\\x88\\xc4\\x81\\x88q\\xb5F\\xb8\\xb2\\x98(\\xc1e\\x18\\xf1X\\tY\\x04\\x8c\\x91\\x10\\xa8q\\x90\\xc4\\rF\\x04\\x86\\x8b=\\xf0\\xed\\xb1\\xdb\\xff\\xb1\\xf0\\xe1?x_\\xf7\\xce\\xf0\\xed\\x1f8~\\xdd\\xde\\x15~\\xafO\\x01\\xea\\x97\\xee\\x11\\xa4\\x04\\xe6\\x17\\xf2\\x83\\x90\\xb3P\\x8a\\xe9\\xc6\\x14\\xc4\\x95\\xf3\\x82_N\\xebu\\xb9\\r\\xd6BB\\nhll\\x8c\\x88\\x82\\xa1\\xa0\\x10\\xc2\\x11w\\x90r\\xa1v@m|\\xc8\\x90\\x05\\xf2\\xfc\\xf9\\xc5\\xe1\\xe0\\x91\\x16\\x00\\x98\\\\\\xbb\\xdc\\xad\\xbb$I\\x83\\xe8\\x93GZ\\xbfnZO4\\xae\\x9e\\xe6\\xde\\xf9\\xa1\\xe4\\xcc\\xd8liUIQy\\x81\\xc7\\xe5c\\x8c\\xf5w\\x0eN\\x8eNn\\xde\\xde\\x18\\x08\\x06t\\xcd\\xe0L\\xd3\\x99\\x86\\x8c3\\xc6r\"\\xe8\\xb6\\x02$W\\x01\\x06\\x17R0\\x05Rs\\xd0\\xa5U\\x18\\x8d\\x02\\xc0\\xc4\\xd0\\x84/\\xdf\\xe3\\xf1x\\x00\\xd02\\xd1\\xe53@\\x02g\\x1cQ\\xe8R\\xd78\\x17\\x98\\xf5r/2d\\x9c\\x93 `\\xb0\\xe6]u\\xa1\\xc2`\\xb9^\\xe3\\xd3}#x\\x81\\x93&P\\xb8\\xd0\\x90&0\\x1f\\x03\\xc4\\xf4|\\xc6\\xf0\\x19.\\x97\\x8b3\\xaeq\\x8d1\\xc6\\x99\\x86\\x08\\x9a\\x86 A\\xe3:\\x11\\xe9\\xa4\\x03H\\x9dt\\x00 2\\x182\\xd2H\\x15\\xd3hL\\xab\\xab\\xaf\\xfb\\xe9o\\x1f|\\xd7\\x9bn=\\xd7\\xd1\\xf9\\xfd\\xef~\\x7f\\xed\\xa6\\xd5\\xf9\\xf9a\\x05P\\x13I\\x10 Q\\x02\\x82\\x14\\x88\\x80R\\n\\x86L\\x10\\xaa\\xee;\\xc4H2\\\\\\xde\\xb0\\xec\\xcf\\x8f\\xfd\\xa5\\xa7\\xa7\\xa7\\xa2\\xa2B\\x02\\xe8\\\\W\\x86bn~\\xde\\xef\\xf7\\x91D\\x92(\\x89\\xc8\\x92\\xc24\\xcf\\rw/+\\xac\\x0e\\xe8\\x1ei\\n\\x126\\xa7\\x08\\x01\\\\\\x9a\\xd6X\\xd2\\xf0\\\\\\xcf\\xb1\\x02o\\xa8\\xb4\\xb8DHD!Q\\x12\\t\\xad>^\\xfd\\xc4\\xe1\\xe7V\\xd650\\x9d\\x81E\\xc4\\x18!0F \\x1d\\xadM\\xc8%\\xd2\\x1d\\xc7\\x1b\\x16\\xabD\\xd8Q\\x9f\\xb4{\\x8cI\\x00\\xbb\\xe7\\x95zL\\xa5R-\\xed\\xad\\xe7{\\xbb\\x8b\\x0b\\x8b\\xeb+k\\xaf\\xd8\\xb0\\x95!;|\\xac)\\x93\\xc9,\\xab[r\\xe5\\xe6\\x9dO\\x1exf\\xdb\\xfa\\xcd\\x83\\x03\\xfd\\xa6inX\\xbb>\\xe0\\xf3\\xe5<\\x06\\xc8\\xa5\\xc2l\\xe3\\x03\\x0b\\xabT\\xfd\\xa7|@\\x15\\xf6q\\x02P\\x02\\xc7\\xaa\\x9e\\x99r\\x12\\xb0\\xaa\\xca\\x12\\x19S\\xb7r`d\\xb0\"Zv\\xc3\\xf5\\xaf\\xf3\\x1a\\xee[\\xef\\xfc\\xe0\\x9a\\xe5+\\x158\\x89\\x92\\x80\\xc1\\xd9\\xee\\x0e\\x00x\\xdf\\x9b\\xdf\\xf5\\xc6k^\\x8b\\x88\\xcaSg\\nB\\\\`o2p:\\xf2\\xdaH\\x81\\xba\\x1e\\x0c\\x01@\\xa2\\x00\\x00d\\x1cH\\xaa~\\x85\\xa0#\\x01\\x11jJ\\xaf\\xdfN\\xc5j\\\\3\\xe0\\xdeo\\xccj\\x06\\xfc\\xe2\\xb7\\xdeo\\x7f\\xef\\xaa\\xd5\\xcb\\x93\\xebVZ\\n8_D\\x83s\\xd2\\x1a\\xcaIE\\'\\x04\\x84\\\\u\\xce\\xc2\\xab\\x16\\xde\\x02\\x0b\\x08\\xce\\xe5\\x1f\\xff\\xf7M\\xcc\\xff\\x1bC\\xe978\\x18*\\x9d=\\xd3Z\\x1e/CG\\x89F\\xda\\xcd\\xefH\\x089?3\\xef\\xf6\\xb9\\xc9\\xee3\\x07@TT\\x92_\\xdc\\xd5\\x03\\x88\\x13\\xab\\x1b\\x94\\xce\\x94;c\\x86\\xcf\\xf5\\x00\\xe0TQY\\xdf\\xc9A\\xce\\xf8\\x92\\x8du%\\x95\\xc5\\xbanh\\x9a\\xde\\xdd\\xda\\x97\\x98Ml\\xda\\xd1\\x18\\x08\\x06u\\xa6q\\xe4\\x1a\\xe3\\xc8\\x98j\\x89\\xa7\\x81ff\\xcc\\x0b\\xbd\\x17\\xda\\xce\\xb6\\xf5_\\xb8\\x90\\xcd\\x98\\xa8\\xc0I\\xb6\\xd0SOu\\xc5-)/\\x19\\xee\\x1fa\\x8cq\\xce\\x02a\\x7ff6\\xcdu\\xce9C\\xc9\\xd0\\x0bz\\xd6\\xadq=\\xad\\']\\xe8\\t\\xe8\\xc1\\xb1\\xd6i\\x00p\\x87\\x8c@\\xc4\\xe7\\xd7\\xfc\\x85,\\x96\\xd0f\\r\\xcd\\xf0\\x08?\\xb8\\x84\\xceu\\x9e\\xd6=~\\x97\\xc6\\xf5\\xe4D:\\xbf(\\x8fq\\xae\\xe9\\x1a\\xe7L\\xe3:g\\x9amU5C\\xe3\\x9a\\xa1\\xbb4M74\\xb7\\xa6\\xe9.\\xcd\\xads\\xdde\\xb84\\xae\\x1b\\x9a\\xa11\\x9d1>92560\\xf9\\x91;n/\\xaf(okm\\xbf\\xe9\\x86\\x9bGGG\\t\\x16.\\xa6T=Y\\xa5\\x14d\\t\\x12\\xa6\\xb0\\xa4\\x14BZB\\n!\\x85$\\x89H\\r+\\x967\\x9flV\\xadGmo\\x07QJ\\xd2\\xb8\\x06\\xa8\\x02\\x06\\x92DC3\\xe3\\x92 \\xea\\x0f\\xdb\\x10\\x99\\xb2\\xe9\\x0exdpmU\\xac\\xb6k| \\x87\\xda\\xab{\\x9d\\x1f\\x0c\\xc5\\n\\x8b\\xce\\xf7\\xf7\\xd8u?\\x8a\\x99*\\tT\\x7fE\\xbb\\xfa$\\x97\\rT\\xa4W\\xf5\\xad\\xea&\\x04vO\\x18i\\xf7F\\xb5\\x95E\\x89L3{\\xac\\xf9\\xf8\\x13/<\\x9dL&wo\\xb9b\\xdb\\xaa\\xf5\\xa5\\xf9Q\\x12$\\x85T\\xd1\\xdf\\x96\\x8d\\x9bK\"\\xd1\\xd7\\xee\\xbe\\xf6\\xc0\\xb1\\xc3\\x7fx\\xfc\\xcf\\x00\\xb0}\\xf3V\\x00PU\\xab\\n\\x8fx\\xa9\\xc7\\x809\\xb7\\xcb\\x86\\xf5\\xd0f\\xe2`\\xee\\x1b\\xbb\\xde\\x08\\x99\\x13S2n\\xd7\\r V\\x97W\\x0c\\x8f\\x8d\"\\x020\\xdc{\\xe5\\xee\\x13O\\xee\\x7f\\xd5\\x9e\\xeb\\x88\\x01r\\x06\\x1aC\\xc0\\x17[\\x8e\\x03\\xc0\\xe65\\x1b\\x11\\x91q\\xa6\\x1e\\x81)%mG\\x01\\x88\\xdbN_\\xcf`\\xdf\\x0bG\\x0f={d\\xdf\\x81\\xe6#g\\xcf\\xb7\\xcf\\xa7\\x12\\xc8\\x19\\xd39p\\xc6u\\xe4\\xba\\x86:g.\\x1du\\xc6]:\\xe3\\x9c\\xbbt\\xa6q\\xaekLc\\\\\\xe7\\xa8\\xb1\\x8cH\\xbd\\xfa\\xd5\\x8f]{\\xcdy\\xd3b\\xefx\\xaf\\xff\\x0f\\x7f1\\xc1\\xa6\\x1a\\xc3\\x82\\x1d\\xb47\\x06\\x00\\x95\\xa3_\\xa4\\xb0ri&D\\xf9\\x9b\\xe0$p_\\xa6\\xf1\\xb2`X\\x04\\x04\\x89\\xc4|W\\xd7\\xf9\\x1bn|\\xbd$\\xc8u\\xbb\")\\x84\\x14\\xd9lzld\\xbc\\xa6\\xa1JH\\xa9:\\xceK\\x84\\x82\\xce.-\\x9b\\x9d\\xad(\\xcd\\xe6\\x87\\x18\\x11\\x00F[\\xcf3K\\x0cW\\xc4\\'\\x12V\\xd5\\x9a\\x8a\\x82\\x82\\x08\"\\xbat\\x17\"\\xeb\\xef\\x1c\\x98\\x9d\\x9a\\xd9\\xb2s\\xb3\\xcf\\xef\\xd3\\xb9\\xceQy1\\x9c3\\xce\\x90\\'\\x13\\x89\\x13\\xc7N\\x0e\\x0f\\r\\x07\\x02\\x01\\x8f\\xd7\\xd3\\x93H$\\x12/F\\x8b\\xa2\\x8d\\x9b\\x1a\\r\\xb7\\x01h\\x17\\xac\"2\\x8eXVQ\\xda\\xd6\\xd2\\xbetM=!\\x04\\xf2|s3\\x89`\\xd0\\xc3\\r&R\\x9a\\xeeg\\xd9)\\xf0Q \\xabe\\xe7\\xad\\x99\\xc2\\x99\\xf2\\xa9\\xde\\xa7\\x01\\xc0\\x13t\\x87\\xf5\\x82\\xb8Q\\x93\\xa0Y\\xd2\\x85\\x07|\\x9a\\xd4Mw\\x92\\x9b\\xbaDp\\xf9u\\x90l~j\\xae\\xa4\\xb6X\\xe7\\x1aGMcF*\\x99\\xbap\\xae\\x7fnv^\\n\\t\\x00\\x9a\\xaeq\\xae\\x19.\\xcdp\\xb9\\x0c\\x97\\xee\\xf6\\xbaI\\x12\\xe7,\\x99JKS\\x0c\\x0f\\x8ch\\x86\\xeeq\\xbb\\x8ab\\x85\\x1b\\xb7\\xae\\xdd\\xb1{\\xc7\\xbb\\xdfzK\\xfb\\xd9\\xf67\\xbf\\xf6m?\\xfb\\xf5\\x83\\xa5\\xf12\\x02P\\xe8\\n\\xd8+\\x14\\x11\\x05\\x02J\\xc98g\\x88\\x12\\x18\\x90`\\x1cY\\xbc\\xaa\\xbc\\xbd\\xad\\xa3\\xff\\xc2\\x85\\xf2\\xd22\\xc7m\\x00@2-\\x13\\xec\\xa2bb\\x00\\xd3\\xf33\\xf9\\xbe\\x10\\x11\\t!Z\\xce\\x9dy\\xe6\\xe8\\xc1U\\xd5K\\xf3\\x02\\xa1\\xd5u\\rRJ$(\\nD\\xce\\x8ctg\\xb3Y\\x97n\\x90\\x04P\\r_\\x05\\xc4\\x8bK{\\x07\\xfa\\x96\\xd4\\xd6\\x81\\x00\\xae\\xe2@Ty)\\x89*\\x14\\xb7wv\\x9b\\xa1\\x80B\\x05\\x846\\x0f\\xca\\x16\\x02S\\x1d\\x9c\\x1d\\xf4jd|\\xf4\\xd0\\xd1\\x17\\x03\\x81\\xc0\\xf65\\x9b\\x82\\xde\\x00YB\\x9aBJ\\x1b\\x18>\\xd8t\\x18\\x00\\xb6\\xack\\x14\\x96\\x15t\\xfb_}\\xc55\\xdf\\xff\\xe1\\x0f\\x00`\\xeb\\xa6-$I2@I\\xc0/N\\xe1/|\\x85\\xb9\\x87\\x8b\\x83&t\\xe0w\\xd5RP*\\xe0\\x07\\x11\\t%0D\\x89\\x04TZ\\\\z\\xb6\\xeb\\x9c-\\x99\\x8a\\x18\\xc9/\\x10\\x19\\x0b\\x14\\x97]\\xc2\\x85\\x91\\x81\\xc1\\xd1\\xe1\\xbc`hIe\\rr\\x06\\xaa\\x174C\\xb4\\xc5\\r\\xd1\\xa9\\x92a\\xa9l\\xfa\\xd0\\xd1&SX\\xd5\\xf1J\\x9f\\xdb7\\x97\\x9a\\x9b\\x9a\\x99\\xeel\\xeaN\\xa6S\\xcbk\\xea\\xe3\\xb1\\xf2P \\x00\\x12P2\"\\x00\\x8d\\x00\\x80\\xd9\\x94:\\x8e\\x0c\\x01x\"\\x93l\\xedl\\x1f\\x1e\\x1f-\\x8f\\x95\\xfd\\xe6\\xc1\\xf0W\\xbe\\x95~\\xe8\\xe1\\x0b\\x1f\\xbb\\xeb\\xaa\\xd9\\xf9\\xbb\\xdeq\\xd3\\xcdN\\xba/\\xc7\\x1a\\xc91H\\xa5\\x8d^\\xa1\\x8dj\\xdaN\\xd7%W\\xe3e\\x1d\\x97\\xd5`9\\xe9\\x1e\\x02\\x80\\xe6\\x93\\xa7\\xea\\xea\\xea\\\\.\\xb7Tn\\x14H)\\x85)\\x84\\x90\\xe2\\xf8\\x91\\x93%\\xf1\\x18\\xd3\\x98)LKXBZB\\x98\\xbe\\x03\\xc7\\x01`|m\\x83\\xcdpF\\x88\\x9cj\\x03\\x80\\xb1\\x95K\\xea\\xd6T\\x03\\x03\\x8dk$Q\\xe3\\xda\\xe4\\xd8\\xf4\\xd4\\xd8\\xd4\\x86m\\xeb\\xfc~?c\\x9c1\\xce\\x99\\x86\\x8cq\\xc6\\x19c\\xa3##\\x07\\xf7\\x1f\\xaa\\xae\\xae\\xde\\xb1c\\xbb\\xae\\xeb\\xca\\xabH&\\x92\\xc7\\x8f\\x1e\\x7f\\xec\\x0f\\x8f\\xbd\\xfe\\r\\xaf\\xd74\\x8e\\x8c\\x11I\\xe64p.,.\\x18\\x1b\\x19/\\x88E\\xc2E\\xf9#\\x17\\xc6\\xc3\\xf1`\\xa8$8\\xd21\\xaeW\\xba\\xcc`\\xd27\\x97\\x97v\\'R\\x98<\\xd3\\xd2\\xa1\\xb6\\xa6X~i\\xad\\xaba^\\x9f\\x9e\\xa4\\xd1\\xb0+?\\x9c(b~2\\xdc:\\xccqO\\x01s\\x19\\x9e\\xc9\\xbe\\x99\\xfc\\xa2<\\xaf\\xd7\\xa31M\\xe3\\xfa\\xf8\\xd0\\xc4\\x89\\xc3\\xcdKW\\xd4\\xd7.\\xad\\r\\xe6\\x05\\xa5\\x90\\x99t&\\x95L\\xcf\\xce\\xccd\\xd3\\xe6\\xcc\\xccL:\\x99\\x9d\\x9f\\x9b\\x0b\\x84\\x02D\\x14\\x0c\\x04\\x96\\xae\\xa8\\x8fD#n\\x8f[\\t\\x82D\\xa3\\x85\\xbfx\\xf4\\xa1[n\\xba\\xb5\\xf9D\\xf3M7\\xbe\\xfd\\xdf~\\xf5@\\xbc\\xaa\\x9cHf\\xb3\\xe6\\xdc\\xf4<\\x11\\x19n\\x97?\\xe0c\\x0c\\x18j\\x00\\x12\\x19G\\x0b\\t5\\x0b\\x05\\xe3\\xac\\xb2\\xba\\xb2\\xedl[e\\xbc\\x92T%\\xa0$\\xaf\\xc7;<>\\x069\\x88\\x87A:\\x9b9\\xda|\\xec\\xe1\\x8e\\xdf<\\xfb\\xe2\\xbe\\x91\\xc91\\x00\\x88E\\xa2\\xe33S\\xdf\\xf9\\xf0?\\xee\\xddz\\x05 pd@\\x90H\\xa7\\\\\\xbaa\\xe7\\x9f$0\\x06U\\xa5\\xf1#-\\xc7\\xe7\\xe7\\xe7}~\\xbf\\x14\\xc4\\x18\\x90\\x94\\xc0\\x10$\\x11\\x02\\n @d\\x12r\\x986\\xa8\\x96\\x8e*H\\x01\\xf52)$\"Ha\\x01\\xc1\\xf1\\x96\\x93-\\xed\\xad[V\\xaf\\xaf.\\xa9\\x10\\xa6\\x14\\x96\\t\\xa6\\x94\\x04H$%\\t\\x10M\\'\\x8f\\x01\\xc0\\xa65\\x1b\\xa4%\\x19#\\x8f\\xe6\\x1a\\xe8\\xefG\\xc4\\x95\\r\\xcbIJ$U~C\\xf8\\xbfY\\x83\\xa4\\xe4\\ns\\xbdd\\x9c\\xc4`.[\\x04\\x0c@\\xaa\\xd7\\x90\\x93Z\\x04\\x84\\xbcPHH1>3Y\\x18.@\\x86$\\xc1\\x16\\xa3\\x96\\x0c\\x18\\x1ci9\\x0e\\x00[\\xd6l\\xe4\\x86\\x8e\\x00\\xc89! \\xe7\\xc8\\x80i\\x0cUq\\x1f\\xc0|:\\xf9\\xcc\\xe1\\x17*\\xca\\xe2\\xebV\\xacA\\xee\\xc8\\x90\\x81$\\t\\xfdC\\x17\\xfa\\x07\\x07\\xff\\xf4\\xfc\\x13\\xe1@^4\\x12\\t\\x05\\x82y\\x81<\\xb7\\xcbe\\xe8n\\x92V\\xda\\xcc\\xce\\xce\\xcfMLO\\x8eOM&R\\xf3\\xf1\\x92\\xf8+v\\\\\\x19\\xf2\\xfb\\x81\\xf1\\xcf}2\\xed\\xf5\\xfd\\xe1sw\\xf7\\xbf\\xff#\\x1f\\xccf\\xb3\\xb7\\xddr\\xeb\\xc5g\\x0b\\x00\\xb6\\xe8\\x198IQR\\xd5\\xa0\\xb4\\xf0\\x9a\\x97b_/\\xcb\\xb8L\\x06\\xcb\\xde@\\xed\\x94;e\\xb3\\xd9\\x81\\x81\\x81\\xab\\xf7\\xecVq\\x85\\xb4{\\x19H)\\xe5`\\xff\\xd0\\xfc\\xec\\\\\\xfd\\xaaZK\\x9a\\x96\\xb0\\x95\\xedf\\'f=\\xfb\\x8f\\x03\\xc0\\xc4\\x9a%\\xb6#@,r\\xb4\\x15\\x00R\\xbb6p\\xc5;@\\x8e\\x1c\\x18\\xf2\\x9e\\xb3\\xbd\\xf5\\ru\\x81@\\x80\\xdb\\xd6J\\xb5\\x08\\xe4\\x88891y`\\xdf\\x81\\xc6M\\x8dUU\\xd5\\xca\\xb5W7\\xc0\\xe7\\xf3m\\xdb\\xb1-\\xfdT\\xfa\\x99\\xa7\\x9e\\xd9\\xfb\\xca=\\x08\\x88\\x8eX$g\\xbc\\xa8(:ta8Z\\x16\\xf5\\xf9}n\\xaf+5\\x9d\\xf1\\x85\\xfc\\x86w\\x16\\xe6\\x85\\x16\\xe2\\x90\\x80\\xbcL\\x14\\\\c\\xe7\\x9a\\xcf\\xab\\x93\\xe5a\\x18p\\x9dw\\xeb\\x86\\x8f|\\x91L1c\\x9c\\xe7\\x03O\\x05\\xc1Bo\\xd4\\x8b\\x02\\xd3\\xd3\\xe9\\x9a\\xc6j\\x8d\\x19\\xba\\xa6\\x8f\\x0e\\x8c\\xf7\\x9d\\xeb\\xdf\\xb5wGaa\\xa1\\xdd\\xfc\\xca@\\x8f\\xdb\\x13\\xce\\x83Xi\\xb1\\x13\\x7f\\xc1\\x82\\xdf\\xee\\xa0\\x08\\xe0\\xf8\\xe5D\\x94\\x97\\x17z\\xe0W\\xf7\\xddv\\xf3{\\x8f7\\x1d\\xbf\\xe9\\x86\\x9b\\xbf\\xfe\\xbd\\xaf\\xc9\\xac\\x14B\\x18.\\x03\\x00,\\xd3\\x92D\\xa1P\\xa0fiu0\\x14@U\\x19\\x82$\\x89\\x91\\xa0\\xea\\xea\\xca\\x96\\xe6\\x96L&\\xe3v\\xbb\\x15\\xb0\\x12\\x0c\\x86fgf\\x10\\xb1\\xbd\\xab\\xe3\\xafO>\\xfe\\xd4\\xfeg\\x8f4\\x1f\\x13\\xc2\\xa6\\xe3\\x97EKv\\xad\\xdb29=\\xf5\\xd7\\xc3\\xcf|\\xe4{\\x9f\\xfdj\\xf63\\xaf\\xbf\\xf2ZP\\r\\x9d\\x9d\\x1bl\\x87\\x93\\x128\\xe3\\xd5\\xa5\\xf1s=\\x9dk\\x96\\xaf&F$\\xd1\\x0e\\xfa\\xec\\x90j\\x91\\x02\\x13J\\x07zW\\xc1 \\x01\\xe4\\x94\\xb9$\\x01\\x08\\xcb:\\xd0txn~\\xfe5W\\xbe\\xd2\\xab\\xbb\\xa4\\x90\\xd2\\xb4\\x08\\x88L\\tDB\\x12\\x005\\x9f==;?WU^Q\\x94\\x17\\x91\\xa6\\x05L{\\xf1\\xc4\\xd1L6[SU\\xdd\\xd4\\xd2\\\\ZT\\x8a\\x9a\\x04p\\xd4\\x1d\\xe8?\\\\~9V\\x96\\xf3}\\x0eO\\xcb\\xa1\\xf36W\\xc3!Z\\xa87aey|`x0\\x9a_h\\x87\\x8f\\x0c\\x81P\\xa5v\\x8e4\\x1f\\x05\\x80Mk6\\xda\\xca\\x16l\\xe1\\xafr\\xaf\\x80\\xb1\\xac\\x99=\\xd8\\xdc\\x14/-_\\xbfj\\x8d\\xc3\\xa7U\\xe8\\x16\\'\\x06\\xf1\\xf2\\xcaxY\\xc5\\x96\\x8d\\x9bG\\xc6G\\x86\\x87G\\x06\\xc7Fz\\x06.dM3kf9\\xb3\\xff\\xe4\\x87\\xf3\\xebk\\xea*\\xca\\xca4\\xae\\xdbt\\\\\\x86\\x08\\xfc\\xe3\\xb7\\xbf\\xcf\\xefgw|\\xf2\\xe3\\x1f\\xfe\\xf8G\\xc6\\'\\xc7\\xef\\xba\\xf3S\\xce\\xd98\\xcb\\x13@)w\\xd8\\x89\\x0e\\x02\\x00\\xb9\\xe8\\xf4\\x943\\xe6x\\xe0N\\x8a\\xe2\\xf2\\x8f\\xcbe\\xb0\\x16E\\xc5\\x04\\xf0\\xe2\\x8bM\\xd1\\xa2h \\x100\\xad\\x8c\\x04\\xdbX\\ti%\\x92\\xc9\\xd6\\xe6\\xd6\\xba\\x86Zb\\xd24M\\xd323fj\\xa8{dzx\\xfau\\xfd\\x17\\x00`hE\\xad)L\\x04\\xd0\\x04\\xe5w\\x9c\\'\\xc4\\xc9\\x95\\xf5\\xaa\\x10N]\\xdb\\x89\\x91I\\xc6\\xb1\\xa4\\xbc\\x14\\xc1\\xee\\xaf\\xa5D\\xc5\\x11\\x99eZ\\xfb_8\\xb0f\\xcd\\x9a\\xaa\\xaa*g>\\xda4\\x1bB`\\x0c\\xafz\\xc5U\\x8f\\xfd\\xe1\\xb1\\x81\\xfe\\x81\\xe2X\\x8c\\x1c\\x11\\x10\\xc6Xeuu\\xf3\\xb1\\x16\\xb0H\\xd3\\xb4Xyq\\x7fO\\x7fI\\xa4(\\xaf$0\\xd1;\\xed\\x8e\\xb9\\xb3\\xb1\\x0c\\r\\xbaRg\\xe5\\xcc\\xe8\\x9c:\\xd9\\xfc\\xe2\\xbc\\x80\\'\\x10\\x84|W\\xca\\xa7\\xeb<S\\x90\\xf4\\xb2HfZ\\xe6\\xd7\\x04uC\\x9b\\xea\\x9d\\x8d\\x94D\\x82\\xc1\\x00cln:y\\xf6x\\xdb\\x15{w\\xe5E\\xf24\\xaeq\\xd0@uMVN\\n\\x10\"\\x93R0@ag\\x9f%1\\x04)\\x01\\x14\\xb4\\x9e\\xd3Q\\xa7@0\\xf0\\xe0\\xaf\\xee\\xff\\x87w\\xbd\\xff\\xe0\\xbeC\\x1f~\\xcf\\xed\\xf7|\\xe7+;vo\\x93j\\xdb\\x94\\x94Ng\\x87\\xfb\\x86\\x8f\\x1d:YYWQQU\\x8e\\x88\\x84\\\\H\\xc1\\x90\\x0c\\xc3\\x13)\\x88tvv._\\xbe\\x9c3\\x96NeZN\\xb7\\xfc\\xf27\\xbf\\xfa\\xf2W\\xbf|\\xee|\\x97:#\\xceXEy\\xfc\\xfa\\xedW\\xef\\xdd\\xbckYy\\x1dH$)\\x1b\\xfe\\xf0\\xd0\\xb7~\\xf1\\xcf\\x9f\\xba\\xf7\\xcb\\xc9L\\xea\\xa6W\\xbf\\x91$\\x05}\\x81\\x9c\\xb0)I \\x04F\\xb4\\xa4\\xaa\\xfePsS}E\\x9d\\xcf\\xef\\x93\\x08\\x0c8H\\x02F*V\\x02\\x02\\xc6\\x11%\\x10W\\x99\\x16f\\xf7\\xef\\x93\\x04\\x80R\\x10\"\\x90%,)\\x9e;\\xf0\\x82\\x94\\xf2\\xcau[\\x99\\xae\\x8bT\\x16\\x90D\\xc6\\x02\\x00a\\n\\x94*h\\xa4\\xc3G\\x0f\\x03\\xc0\\xe6\\xd5\\x1b\\xad\\xac\\xc54N\\x8c\\x0e\\xbex\\x08\\x00\\xae\\xda\\xb6+\\xe4\\xf57\\x9fmY\\xbbr\\xad\\xcdr\\'\\x06\\xdc\\t\\x86\\xfeS\\x0b\\xcfY\\xa3j%C\\xce5\\xb9\\xe8\\xcd%E\\xc5\\'[Z\\xd62\\x07\\xd6b\\n\\xa1\\xe7Ht\\xf8d\\x13\\x00l\\xdb\\xb0\\x89i\\x1c\\x01\\x90#)\\x85bd\\xa0q\\x06(\\x88^8v0/\\x18Z\\xbfj\\r\\xe3\\x9c\\x00\\x94\\x87\\xc58S\\xde\\x9e\\xb3GQ\\xac(V\\x1c-Q\\x19D\\x92D\\x8c\\xa1tTa\\xd1\\xce\\x0c\\x10\\x11pDI\\xc0\\x98J8\\xbe\\xef\\xb6\\xf7\\x1a\\xba\\xf1\\xa1\\x8f\\xdd~\\xf7W\\xbf\\x9cL&\\xbf\\xfc\\x85/\\xe5\\x1c\\t\\xe5>\\xa2\\xc2\\xe3\\xd9\\x02\\xa2\\xa52\\x96\\xf6}\\xc9\\x9d\\xab\"\\xc6\\xfd\\x9f\\x9a\\xf2\\xfe?\\x1a/C\\x960\\x9b\\xc9\\xb4\\x9dm{\\xed\\r\\xafQTe\\x1bK\\x05!\\xa4hmn-(*\\x08\\x15\\x043f\\xc6\\xb4\\xccL6\\xd3\\xdb6\\x90N\\xa4\\x1b\\xf4\\x94\\x9eH\\xcd\\x95F\\xe7\\xf2\\x03$-\\x06\\x98\\x7f\\xba\\x93g\\xcd\\xf1\\xf2\\xd2)b\\x11R\\xae72\\xc4\\xd9\\xa9\\xb9\\xc2\\xa2\\x02\\xe6\\xc0\\x03v\\xc3>@\\x86x\\xaa\\xe5LAAd\\xc9\\x92%N\\xc9-\\xdaN\\xaf]\\xa5\\x81\\x1a\\xd7\\xe2\\x15\\xe5\\xbd\\xbd\\xbd\\xc5%\\xb1\\x1c\\r\\x06\\x01\\xdd^\\xbd$\\x1e\\x1b\\x1f\\x9e\\x08F\\x03\\x05\\xb1\\xc8\\x85\\xee\\xfe\\xd4l\\xc6\\x9f\\xe7K\\xce\\xa4\\xd2\\xe3\\x19\\xa3\\xd0%b\\xa9\\x96\\xdf\\xb7\\xe4\\xce\\xb1\\xc4_^6[gy3\"\\x98\\xe5a\\xe6\\xcb\\xf8\\xc58z\\xa2\\x86?\\xecO\\x8c\\xa6\\x91\\xb1\\xd2\\xaa\\x98\\xc6\\xb5L2{\\xeap\\xcb\\x86m\\xeb\\xf2#\\x11\\xc6\\x98\\xc64%[\\xcc\\x18.\\xe8\\xab\\x01r\\xc6\\x88\\x80\\xa9\\xb4>\\xd9~\\x8bJ\\xee\\x93M~\\x14\\x8aP\\xe3\\xf6\\xb8\\xbe\\xfe\\x9d\\xaf}\\xf0\\xb6\\x0f7\\x9fl\\xfe\\xcc\\x9d\\x9f\\xfb\\xfe}\\xdf]\\xb5n\\xa5\\x14@@\\xbaK\\xab\\xa8+/\\x88E\\x9a\\x0f\\xb7\\x10Aum\\x05\\xa0M$!\\xa2\\x8a\\xca\\xf8\\xe9\\xd3g\\x8e\\x1e;\\xf6\\xf8_\\x1e\\x7f\\xe2\\x89\\'\\xe6\\xe6l\\xcb\\x1b\\t\\xe7o\\xdb\\xb0\\xf9\\xea\\xedW]\\xbdi\\xe7\\xa9\\x0b\\x1d:\\xf2\\x95%K\\xa4e\\x11\\x01Z\\xf0\\xbe7\\xbc\\x9ds\\xfe\\x8d\\x9f\\xff\\xf0\\xee\\xfb\\xbe=\\x9c\\x98\\xbcb\\xc7.\\x8dk\\x8b\\x9c&U$\\x04\\xe1@\\xa88\\x12}\\xe6\\xc8\\xbe\\xab\\xb6\\xed\\xf4\\xba<\\x84\\x0e\\xee\\x8d\\xa4Z\\xbaK\\xb0K\\x1e\\t\\x08P\\x02\\x10Ht\\xd0+I\\x00\\xa6i=}\\xe09\\x97f\\xec\\xdc\\xb0Uf\\x04XB\\n\\t@\\xd2\\x12\\x04R\\x9a\\x92\\x88L\\xcb\\x92R\\x1e<\\xde\\x04\\x00\\x1bW\\xac\\x95\\xa6\\x00\\x02\\xd0\\xe0\\xe0\\xd1#\\x00\\xb0u\\xfd\\xa6\\xd5KV<\\xd7\\xb4\\xbf\\xbe\\xb6\\xde\\xe7\\xf1:\\xeb\\x14\\x1c\\xbc\\x7f\\x11t\\xf5\\xbf\\x1bh{\\xb8\\x0cAR\\xce\\xedP?Q\\xd6,\\x16-\\xd9\\x97<$\\x84\\xb0\\'\\x0f\\xb3EM\\x87\\xc7\\xc6{\\xfa\\xfb\\x02>\\x7f\\xc3\\xb2\\xe5*\\xf4S\\x1e<\\xe3\\x1c\\x91!\\xe7D\\xf2\\xc8\\xa9&\\xc6\\xd9\\x96\\x8d\\x9bl\\xce\\x9c\"7(<,\\xa7&\\xed\\xf8u\\xb9\\xca\"`\\xaa7*\\xb7\\x9d\\xef\\\\~\\x00\\x10\\x11\\x89/j\\x98\\xc6\\xe0\\x96w\\xbe\\xdb\\x1f\\xf0\\xdf\\xf2\\xbe\\xdb\\xbe\\xf5\\xbd\\xef$\\x12\\x89\\xef~\\xfd[\\xa4\\xf2\\x86\\xb9\\x13\\xa1\\\\(\\xac\\xb2\\'N\\x03{\\xdb\\xa0\\xe5\\xae\\xc3\\xcb6.\\x97\\xc1\\xb2Y5\\x12\\x00:::\\xe2\\x95q\\x7f\\xc0O \\x85\\xea\\x13%\\x85\\x90\\xe2Bo\\xff\\xd8\\xf0\\xd8\\xc6W\\xac\\xcf\\x8al\\xd6\\xca&\\xe6\\x13\\xe7O\\xf72\\x83\\x15/+\\x8c<|\\x18\\x00\\x86V\\xd4f\\xcc4\\x10 b\\xe4D+\\x00\\x8c\\xac\\\\2\\xda;\\x91W\\x90/\\x11\\x89\\xa4@\\xccd2\\x9ep\\x10\\x00\\x10\\xc9\\xae\\xff\\xb2\\xc1R8w\\xae\\xf3\\x9aW\\xeeuj\\xa2\\x9c\\xeaO;\\xa9ng\\xba+**\\x9e{\\xf6y\\xc7\\xebB@b\\x8c\\x91\\xa4Ha\\xc1\\xd8\\xd0x~,\\x0cDEe\\xd1\\xd1\\x81\\xb1\\xe2\\xa5\\x05\\xd1\\x8a\\x82\\x81\\xf6\\x119\"\\x8c<\\xa3\\xf5D[\\xee\\\\\\x0b*\\xf3E,\\xe5\\xf5\\xbaL\\x8b{R\\xbe\\xcc\\x94\\x99\\x17\\x0f\\x18y:\\xcd\\xc1\\xdchb\\xe5\\xa6\\xe5\\x1e\\x97Kg\\xfa\\x89\\xa3\\xcdK\\x1a\\xea\\xcb+\\xcauMc\\xc855w\\xd1nW\\xc7\\x80\\x11H\\xb0\\x1f\\x91H:=8%!!\\x12\\x11q\\x05\\xf1\\xa8^\\xe7\\x00\\x008<8\\xf2\\xb9\\xbb?\\xf3\\xe3\\x1f\\xfd\\xeb\\xdf\\xfe\\xf2\\xd4\\x07\\xde\\xf1\\xa1o\\xfe\\xf3\\xd77n\\xd9@\\xceR\\xf3\\xf8=k\\xb7\\xaej9z6\\x12\\xcd\\x0f\\x06\\x03\\xd9l\\xb6\\xad\\xb5\\xed\\xb9\\xa7_x\\xf2\\xf1\\'[N\\xb5\\xe4\\xe8\\xe6\\xcb\\x96,\\xdd\\xd4\\xd8X[S\\xfb\\x81\\x9b\\xdf#RY\\x12\\xc2Jg\\x1b\\x8dUO\\x9d>xj\\xf8\\xdc\\xaaX\\x1d\\x10(\\xb0\\xf9\\xbd7\\xbe=\\x10\\xf4\\x7f\\xfe\\xde\\xaf\\xfd\\xf8\\x97\\x0fXYs\\xc7\\x8a\\x8d\\xb0\\x10\\xe7\\x11\\x10\\x91 DZ\\xb7l\\xd5\\x89\\xb3\\xa7\\x9ex\\xf6o\\xe5\\xb1\\xb2\\xca\\xf2xA^D\\xadd\\xc6$\\x01\"#G\\xf2\\x9cH\\xf5peD\\x96@\\x86\\xc2$A\\xe6s\\x07_p\\x1b\\xae\\xcd\\xcb\\xd7\\x93E\"k\\x01\\x82\\xc8\\x98\\x04 2V2\\x9dh\\x1f\\xec\\x9eI\\xcdeLKH\\xeb\\xe0\\xc9\\x17\\x01\\xa0\\xa48f\\xa5M\\xcd\\x90f\\xd6<\\xd6r\\x02\\x117\\xad\\xde\\x10\\xf4\\xf8\\x8b\"\\x85\\xa7ZOoY\\xbb\\x91\\x84\\xea\\x0b\\x91s\\xb0$\\xc0Kep^:\\x83\\x9d/\\xa4\\x9d\\xd5\\xccE\\x0c\\xe0\\xe4\\xcdt\\x8d\\'\\x92\\x89D2\\xe9w{\\x95\\x9d`\\xc0\\x04\\xc2\\xc1c\\x87\\x00`\\xd3\\xba\\x8d\\xba\\xae+gI\\xa9\\xe0*\\xc9Cd\\xb4\\xffx\\xd3\\\\b\\xee\\xfa\\xab\\xf6\"\\xe3\\xc8T\\x1c\\x87\\xc89\\x00!\\x03T\\xa2\\x8bv\\xe1\\xa5]\\x80i\\x93\\x01\\xedb?\\xb5\\x81\\xd9/\\xcb\\xc5\\xa8`\\x174\\xe52\\xa2\\xf4\\xa67\\xbc\\xd1\\xef\\xf3\\xdd\\xf4\\xce\\xb7\\xff\\xcbO~lZ\\xd6\\x0f\\xbe\\xf9]e@\\xed5\\n\\x04\\x8a\\x13\\xeb,\\t\\x9b}\\x86\\x97\\xd8\\xb2\\x97\\xcdf]F\\x0f\\xcb\\xb9f\\x03\\x83\\x83\\x95\\x15\\x95\\x8a\\xfe\\xe6d\\xe0\\xa50e\\xf7\\xb9\\x9ee\\xeb\\x96\\x12I!\\xacL&\\xdd\\xd3v\\xc1\\x1dt\\x07b\\x1eSd\\x0bO\\xb6\\x03\\xc0\\xc0\\xf2J\\xd32\\xd5$(<\\xd5\\x0e\\x003\\x9bWdSfr6\\xe9\\x0by\\x95\\xab\\xa4q\\x9e\\xab^E@f\\xfb\\xadlrb\\xd2\\xedr\\xe7\\xe7G\\xd4\\xcf G\\xab\\'\\\\||yy\\xe1\\xe9\\xe9\\xe9L&\\xe3r\\xb9\\x94\\xdd@@\\x00\\xad\\xa2\\xb2\\xbc\\xb5\\xb9\\xb5\\xde\\xaae\\x9cEK\\x0bF\\x07\\xc6\\xe7\\x86\\x93\\xbebo\\xb4&\\x7f\\xb2\\x7f\\xfa\\xd0\\xe3\\xc7\\xd3I\\xbb\\xcc\\x02\\x11\\n\\xe3\\xf9\\x1c4\\x9e\\xd0\\xad1\\x81A\\x16\\xa9\\x0e\\x05\\xc3\\xc1\\xd4dzj|\\xb6zy\\xdc\\xe7\\xf71\\xe4\\xed\\xa7:\\xfd\\xc1@\\xdd\\xf2Z\\x8dk\\x8cs\\r9\\xe3\\x1c\\x81\\xe5:\\x08\\x020\\xbb\\x97\\xb9\\x82\\x14\\x1cgP\\x82*\\xd3\\xb5\\x88!\\x91\\xea\\'\\'H\\x81\\xc8\\x04\\xf3\\xb3\\xf3u\\ru_\\xfb\\xeeW=^\\xcfc\\x8f\\xfc\\xf1\\x8e\\xf7~\\xecK\\xdf\\xb9{\\xe7+\\xb6\\x13\\xd82d\\x1e\\x9f\\xc7\\xe51~q\\xff/zzz\\x9e\\x7f\\xfa\\x85\\x99\\x99\\x19u\\xd8.\\x97k\\xf3\\x96\\xcdoz\\xd3\\x1b_u\\xfd\\xab\\xa3\\xc1H:\\x99\\xfe\\xd3\\x13\\x7fNg\\xd3\\x06\\xd3\\x90\\x08\\x19sy]\\xafX\\xb9\\xf5\\xd9\\x96\\x83\\x87z\\x9a\\x0b}\\xf9ao\\xd0\\xe0\\xda|&Y\\xbfr\\xf9\\x9bn|\\xd3o\\x1e\\xfd\\xed\\xfd\\x8f\\xfc\\xdc\\xedv\\xdd\\xf5\\x0f\\x1fW\\xcb4wUU\\xd6o\\xed\\xb2U\\xd5\\x15\\x95\\xe7/\\xf4\\xbe\\xd8|\\xacw\\xe0\\xc2\\xf2\\xda\\xa5.\\xc3(-.\\x89\\xe4\\xe5{}>\\'\\xd1\\x8e\\x8e\"\\x17\\x82\\x04\"\\xcad\\xd3O\\x1f|\\xcegx\\xb6\\xaei\\x94\\x19\\x951\\x16\\x04HB\\x92\\x94\\x1d\\x03\\xe7O\\x0fvV\\x85c\\xcb\\x8aj\\xf2to{wW\"\\x99(\\xcc/\\x90:>\\xd3vxS\\xf5\\xca\\xae\\xbe\\x9eD*YWYS\\x90\\x97OR\\xae\\xa8Y\\xf6\\xfc\\x89C\\x99L\\xd6cp\\xb2\\x85i\\xec0\\xeb\\xa2\\xf5\\xf7\\x92\\xc5\\x98K\\xe4\\xdbh\\xa2\\x03\\xd6a\\xee\\x99\\x05W\\x0b\\x0b\\xc2\\x11\\xb5\\xdb!)\\xeb\\x81\\xc8\\xe0\\xd0\\xb1&\\x00\\xd8\\xb2~\\x130\\xe6\\xb4\\xa8Q\\xc1?\\x07\\xa4\\x17O\\x9f\\x9c\\x98\\x9e|\\xdd5\\xd7q\\xae\\xa9ZF\\xc6\\x98\\x83\\xb0*bEn\\xc2\\x12\\xd8\\x9e\\x17\\xd8\\x93\\xd8\\xb1W\\xca\\xcbS\\xef\\xc8y\\x7f\\x8b\\x19W\\xf6\\xec\\x04\\xba\\xee\\x9ak\\x1f~\\xe8\\x97o\\xbe\\xf9\\xa6\\xfb\\x1e\\xbc\\x7f~n\\xee\\xbe\\x7f\\xfeWM\\xd3\\x9cW1\\xa76G\\x99*\\xa7t\\xc7\\tD^vI\\xd2\\xcb\\x9d%L%S\\x83\\x03\\x83;v\\xee\\x90D\\x84RJ!\\x81,):\\xcf\\x9dc\\x1a\\x0b\\xe5\\x07S\\xd9\\xa4if{\\xcf\\xf6\\x01\\xc3@\\x897\\x9bIeE\\xb6\\xe8t\\'\\x00t\\xd7\\x95\\xa5R)\\xc6\\x91\\x13E[\\xbb\\x00q\\xa8\\xa1\\xda\\x97f\\xa3}c\\xe5\\xcbK\\x84\\x14\\x00R3\\xb4T\"\\x05 \\x89\\x98\\x94\\xc0\\xb8\\xcat\\xd1\\xf4\\xd4\\x94?\\xe0\\xbf47D\\x8b\\xbeC\\x00\\x02\\xc6\\x98\\xcbp)\\x83ec\\xb2\\x88\\x80\\xd2p\\xe9\\xd1\\xe2\\xe8\\xc4\\xe8T\\xb4\\xb4@\\xe7\\xae\\xfa\\x95uM\\xcf\\x1c\\xad\\x0bWy\\xdc\\x9eh\\xa5~\\xe6\\xcc\\xe9b\\x80a\\x00\\x00\\xf0\\xf9\\xfd|\\xc4C\\x8c\\x8c\\x80;P\\xcd\\xf3\\n\\xf3-\\xcbJ\\x8fY\\xb3\\xa3\\x89\\xa5k\\x97x\\xfd\\x1e\\x8f\\xcb\\xd7q\\xaa\\xc3\\xca\\x8a\\xcd;\\x1b\\r\\xcd\\xc5\\x91):\\xab\\xc6\\x94\\x87\\x05\\x0c\\x19\\xd8\\xc2\\xbf\\x80N\\x97\\x05\"R\\xca$hsk5\\x02\"&\\t\\x80IT\\x18\\x83@\\x18\\x19\\x1c]\\xb3y\\x15 |\\xee+\\x9f\\xf1x\\xdc\\x0f\\xff\\xfc\\xb7\\x9f\\xfd\\xe8\\xe7\\xbf\\xf0\\xcd\\xcf^\\xb9\\xe7\\xca\\xf3]\\xdd\\x07\\x9f=\\xd4t\\xe8\\xe8\\xb1#\\xc7s\\x08zyE\\xf9\\xae+v\\xee\\xb9fOyI<\\x95J\\xee\\xdds\\r\\x00\\xc8\\x94\\xe9\\xf1{\\x8a\\x0b\\xa3g\\xba\\xda\\xd7/[E\\x16\\xe3\\x82H\\x93n\\xc4\\xbd\\xebv\\xf5O\\x0c\\x0fN\\x8c\\xb4w\\x9e\\xf7\\x07\\x02.\\xae\\x05\\xbc\\x81/\\xdd\\xfa\\x89]\\r\\x8d\\x1f\\xfc\\xd2\\'\\xee}\\xe8\\xbe\\xf9T\\xf2\\x9eO\\xdd\\xcdl\\xacG\\xa1\\xe6H\\x96D\\x80\\xa0\\xcb\\xb7\\xa6v90\\x9cO&F\\xa7\\xc6\\xc7\\xa7&;\\xba\\xceM\\xcf\\xcff\\xb2\\x99\\xe2\\x82hiQ\\xac8Z\\x14\\n\\x84\\x08T\\x17\\t\\xea\\xe9\\xefm>{:VX\\xb4n\\xc9*\\x10@\\x96E\\x802k\\x01\\xa0\\x95\\xc96\\x9d?\\x9d\\xca\\xa4v\\xd7l4H\\x03\"\\x99\\x11G\\x9a\\x9b\\x00`K\\xc3\\xfa\\x8d\\xb1e\\xbd\\xb3\\xc3\\x8f\\xb7\\x1c\\x18\\xe8\\xe8\\x01\\x80\\xcdk6HK\\x80`\\x1e\\xdd\\x1d\\xf0\\xfa\\xdb\\xcew\\xac]\\xb5\\xca\\xa1\\x03J E\\xdf\\\\TTw\\t\\xc7\\x88\\x16\\x9e\\xb1\\xd7\\xb2*dQ\\x9e\\x95 \\xca\\xb5k\\x16\\x94H%\\xe6\\x13\\xf3~\\xb7\\x0f\\xa4\\x9d`Pk\\xfd\\xe0\\xd1C\\x00\\xb0u\\xe3f[\\xe7\\x13\\x118CD\\xe0x\\xb2\\xfdL\\xcf@\\xdf\\x8d\\xd7\\xbeFw\\x19H\\xc88*)\\x1e\\x00\\xa7\\xf4\\xda)\\xcfv\\xd8\\x06\\xce\\xc1pE\\xde\\xe5\\xea\\xa0l\\x0f\\xcc9\\x81\\x85D\\r1;\\x8a\\x90\\xb6k\\x06\\x00{\\xaf\\xde\\xf3\\xfb\\x87\\x1f\\xbd\\xe1\\xad7\\xfe\\xfa\\x91\\xdf\\x98\\xa6\\xf9\\xe0\\x8f\\xefW\\xf9\\x19\\xc7\\xfe\\xbd\\xc4&\\xa9\\x0b\\xf3\\xf2\\xc0V\\x17\\x8d\\xcb\\x05\\xba\\xab\\x8es\\x04}\\xbd}\\xf1x\\xdc0\\x8c\\xac\\x95Ag\\xd2\\x10\\xc9\\xa1\\xfe\\xe1\\xf2\\xda2\\x85dM\\x8cM&g\\xd3\\xb1\\x95\\x85\\xa6\\x95\\xcdJ\\xcb\\x12\\xe2\\xfe/|\\xb8\\xe0X\\xf7P\\xda\\'\\xbb2\\xc8\\xa1zvXKg\\xa7\\xca\\x8b\\x12!\\x9f\\xdfO\\xe3\\xed3\\x99t\\x96<\\xc4\\x00=^\\xcf\\xf8\\xc8\\x84\\x9d\\xc8\\xc0\\\\\\x00\\x8f\\xf3s\\t\\x8f\\xd7c\\xcf\\x15\\xb8\\xd4N\\x01,\\xf8\\xb9\\x8c1]\\xd7\\x17\"w\\xbbh\\x05#\\x05\\xf9s3\\xb3E%\\x05\\xc8\\xd0\\xed7\\xaaVU\\x0et\\x8c\\x94\\xaf(\\xf1\\x0f\\r?r\\xaa})@\\x07\\xc0\\x0b\\x00\\xdf-\\xcc\\x8b\\xd4\\x85\\xb8K34\\x1d\\x00\\xd0b\\xd3\\xdds\\x9a\\xa6\\xd7\\xae\\xad\\x0e\\xe6\\x058\\xf2\\x0b\\xe7.L\\x8cL^u\\xcd\\x95\\x86np\\xc6\\xec\\xdaF\\x9b\\xaaj7\\xbcP\\x1f\\xc9\\x1c\\xaf\\xca\\x16\\xff@\\xc9\\t,\\x02\\xee\\x14\\x95H\\xbb[`\\x0e\\xa5\\xa7\\xbcH\\xc8v\\x19\\x18\\xdeq\\xd7\\xed\\\\\\xe3\\xbf|\\xf0\\xd7\\x9f\\xbf\\xe3\\x1f\\x83\\xa1\\xefLO\\xd9\\xce\\x94a\\x18\\xcb\\x96-\\xbdj\\xefU\\xaf\\xbd\\xe15\\x15U\\x15\\x1e\\x97\\x17\\x01\\x92\\xd3\\xc9\\xa6\\xa6c\\xa0\\xe68\" \\xaenX\\xfd\\xe8\\x9f\\xff\\xbd\\xae\\xa2*\\xe8\\r\"G\"\\x86\\x8cq\\x03\\xcb#\\xc5\\x07\\x8f\\x1c\\xfe\\xccw\\xee\\xfe\\xd7/}o{\\xe3f\\x86\\x9c\\x10^\\xbd\\xfb:\\x9f\\xd7{\\xebgn\\xff\\xe9\\xa3\\xbfL\\xa4\\x92\\xdf\\xbf\\xfb\\x9b\\x1c\\x98\\x8aN\\xd0\\xae\\xb8s\\x92\\xe4\\x04>\\x97\\xa7\\xba8^U\\x1cg\\x0c\\x81`*1=06246z\\xa6\\xb3=\\x95N\\x17\\x84\\xf3\\x01!\\x99J\\x02\\xe0\\xda\\xa5+\\xe2\\xb1r\\x91\\xb5\\xc8n\\xd4\\xaah\\xb1p\\xba\\xff\\xdctrvG|\\x8d\\x06\\xcc\\xcaZ\\x04@\\x96h:{\\x12\\x006,]-MQ\\xe9/\\x12\\xc5\\xf2\\xe7\\xbf\\xf89\\x00lZ\\xb9\\x9e$\\xa1\\x04`TU\\x1a\\xef\\xea\\xef\\x91*\\xfd%/^~\\x8b\\x00)\\xbb@\\xfa%?U\\xc44\\xb0K\\xaf\\x9d.\\x1b\\xb4\\xe0b\\x9dlm\\xa9\\xaf\\xac\\xe1\\x1a\\x17Ya\\x83u@\\xe3S,\\x9c\\xf7\\xc7\\xed\\x8d\\xcf\\xaeiX\\xe5 LLmM\\x17\\x86\\xfa\\xbb\\xfb{_\\xbb\\xf7:\\xddp\\x010P\\xe9n\\x80\\x05\\x07\\xcav\\xad\\xc0\\x866\\x16\\x9c\\'PS\\x85\\x94\\xd2\\x8e\\x8d01;\\x84[H\\xe3\\xd1\\xc2a\\xe3By\\r\"\\xee\\xda\\xb1\\xf3\\xc9\\xc7\\x1e\\xbf\\xfe\\xc6\\xd7H)Y\\xae\\xb4\\xf3\"o\\x13\\x17=\\xaaw\\xd1B|x\\xf1\\x8f.\\xdb\\xb8\\\\\\x12\\xc9\\xea\\xc6\"\\x8d\\x8e\\x8e\\x16\\x14FT \\x08`3\\xd9\\xa7&\\xa6\\xd3\\x99L\\xb0 `\\x9aY\\xd3\\xca\\xf6\\xb6\\xf6\\x17V\\xe5[\\xc22\\xadl&\\x9d\\x99\\xedM \\x19\\xe1\\xb8kM\\xfb\\xb1\\xb9<_oe\\xf5\\xd4\\xb0vt\\xef\\xb6LQ\\xd0\\xb2\\xb2\\x80\\x8cilzd&\\x1c\\xca\\x93\\xc8t\\x8f\\x91\\xcdf\\xa5$[\\x03\\x96\\xa4\\xb4\\xfb\\xe9\\n\\xaf\\xc7\\x0b\\x00\\x17\\xdf\\x93E\\x9b)\\x02\\x11\\xcc\\xce\\xcdj\\x9a\\xe6r\\x1b\\x12\\xa4RA\\xb2A\\x00 \\xc3mL\\xf6Na\\x03\\xe3\\x8c\\x91\\xe4Ee\\x85s\\x93\\xf3\\x93}S\\xbb\\xfev\\xa8^\\x12\\x00\\xd4\\x03\\xd4\\x03\\xe4\\xe9\\x1a\\xe5\\xe5\\t\"\\x17wM\\xf4OMN\\xcc\\x86\\x8bB\\xd5K\\xaa\\x08\\xc8\\xe7\\xf2uw\\xf6N\\x8eL\\xed\\xd8\\xbd\\xdd\\xe7\\x0f0@\\x9d\\x1b\\x88L\\xe3\\x9c1\\xc6\\x18\\x17\\x96\\xec\\xee\\xea\\xee\\xe9\\xed\\x19\\x1b\\x19\\xcb\\x9aY\\x86,\\x10\\xf0\\x97\\x94\\x95\\xc6\\xcb\\xcbc\\xa51\\x00\\rPrD\\x92\\x921\"\\xb2\\xd3\\x02\\x8c1)\\x891&\\t\\x92\\xf3\\xa9T\"\\xe3\\r\\xb8\\t\\x10\\x19\\xff\\xd0\\'?4>6\\xb1\\xef\\x99\\xfd\\xd3S3\\xe1Hx\\xf3\\xb6\\xc6\\x9d\\xaf\\xd8\\xb9u\\xe7\\x96\\xceS\\xe7K\\xe2\\xb1xe\\x19\\x01\\xa9\\xba\\xbcpA\\xfe\\xcc\\xecL&\\x93\\xd1\\x0c\\x8dq\\x8eL\\xfa\\x83\\xbe\\xd5+V5\\x9d>\\xf9\\x8aM;5\\x97.%\\tTh\\x0fo\\xee8\\x9dL\\xa7\\xde\\xfd\\x99\\x0f\\xfd\\xf8K\\xdf\\xbb\\xe6\\xca=\\x00\\x12\\x91]}\\xc5\\xee_\\xff\\xf0\\xc1\\x9b?r\\xdb#\\x7f\\xf9\\xbd%\\xac\\x7f\\xfe\\xcawu]\\'K\"s:\\xee\\x90T\\x8c\\x07\\xfbr#\\x08\\xe4\\x08\\x144\\xfc\\xc1\\xb2\\xa0\\xca\\x9b\\xa4\\xcd\\xf4\\\\*)\\xa5\\xf4x\\xbd!_\\x00$IS\\x90\\x10\\x04@\\xa6 \\x00aZc\\xb3SCS\\xa3\\xdb\\xab\\xd6aVZ\\xa0\\xfa?J\\x92\\xf2X[\\x0b\\x00\\xac\\xabY!-A\\x92*C\\xc5*\\xcb\\xb9q\\xc5Z\\xb2\\x04\\x08I\\x08\\xa5\\x91\\xa2\\x13g[L3\\xab\\xeb\\x8629,\\x87\\xbf/\\xa4\\xea\\xd1\\x8e\\xf8\\x16U\\xa6(\\xfc\\x02r2\\x11\\x04vU\\xb6T\\xbc|\\x81\\x84\\xc7[N\\x8eO\\x8c_\\xb9q\\x87\\xb4\\x84\\xea\\x93H$A\\xc2\\xc1&\\xe3\\xc8\\xf1\\xa5;7W\\x1a\\xfa\\xb8:s\\x15)\\n)\\x9f:\\xfc\\xfcuW\\xee\\xf5y|\\xc0\\x19\\xd8\\x92\\xd7\\x08\\xe8\\x14\\xec\\xa8\\xfc\\x0bC%\\x11d\\x1f\\x91\\xc2]\\t\\x1c\\x15WTu\\xb06\\xf0\\x0f\\x1c\\xec\\x9e\\xdd\\x8e\\x91e6c\\x04\\x00\\xecD\\x8d\\xb3\\x08\\xd6\\xad]\\xfb\\xfc\\x13\\xcfT\\xc6+4]\\xcb\\xdd\\x94\\x8bW\\xc7E\\x950\\x8e\\x87\\xf5\\xb2Y+\\xb8\\x9c\\x1e\\x96\\xf2V&&&\\xaa\\xaa\\xab\\xec\\'\\x9dK::<\\x92\\x97\\x1f\")\\t\\xe4\\xfctB34w\\xc8H\\x9biK\\x8a\\xf9\\xa1t\\xde\\xec\\xf4\\x9b~\\xf4\\xd3\\xb4\\xcf3X]\\xdc\\xd0?~\\xdd\\xd0\\x9f~\\xfd\\xd1\\xb7\\xfe\\xf5\\x15{\\xbcq=D\\xc4\\x80\\x82Q\\x7fz>#\\t\\x18\\x92\\xd7\\xe7M%R9\\xaf\\x16\\x1d\\x1c@\\n\\xa9i\\x7f\\xefB\\xe7\\xd0H\\x02\\x00\\x18\\x1c\\x1c\\x0c\\xe7\\x87s;\\xaf\"\\xa9J\\x05c\"\\xfa\\xfc>\\x1boE@d\\x15KK\\xcf\\x9d8_\\xf4\\xb7\\xfd\\x8b\\x7f\\xdf\\xaa5\\xcbZP\\x9f\\xea\\x9f\\xca\\xceO2\\xce\\xea\\xd6\\xd6\\xb8\\xbd.\\xce5\\x04\\xec;?\\xd0\\xdf9p\\xc55\\xbb|^?G\\xa7\\x0e\\xc8\\xf9\\xd7\\xdb\\xd3\\xd7|\\xbc9\\x10\\x08TVVn\\xdc\\xb0\\xc5\\x1c\\x87\\x07\\x00\\x00 \\x00IDAT\\xd1\\xe3\\xf5X\\xc2\\x9a\\x9e\\x9a\\x1e\\x19\\x19>\\xd5|\\xea\\xe4\\x89\\x93\\x8d\\x9b7F\\n\\n\\x91\\x84\\xe2X\\xdaY\\x05\\x95\\xffa\\x00\\x02\\x11\\xb0\\xac\\xb2tjb\\xc6\\x13\\xf08\\xfb1\\xcc\\xcd\\xcc\\xa5\\x92\\xa9\\xcd;6}\\xf7_\\xbf\\rv\\xc1 \\xea.\\xddV\\xfb#g\\xf6r\\x16\\x08\\xf8G\\xc7FKJJP\\x81\\xfe\\x88\\xabV\\xae\\x1c\\x1d\\x1d=\\xd4\\xdc\\xb4e\\xc5\\x06\\xe4\\x8cI\\xa5\\xa9\\xc2\\xbe\\xfe\\x99/y\\xdc\\x9e\\x7fy\\xe8\\xbe[?\\xfd\\xa1\\xef~\\xe1ko\\xbc\\xeeu*l\\xd9\\xde\\xb8\\xf9W?|\\xf0\\xa6\\x0f\\xdf\\xf2\\xfb\\'\\xfe\\x94L%\\x1f\\xf8\\xe6\\xbf\\x18\\x86akWIR\\xf2\\x0b\\x08@R:\\xc1\\x0e\\x90J\\xdb\\xa3d\\xc0\\x01\\xc0m\\xb8\\xdd.7\"\\xb3\\xbd)A\\x90\\x0b\\xb8\\x1cfL\\xc7POU~\\xa9\\xce\\xb9E\\x16\\xd8\\xb5C\\xd0=\\xd0763Q\\x10\\xca\\xaf\\x88\\x96\\x92\\x90\\x88\\x88\\x12~\\xfa\\xd5{\\x9fo9R\\x12\\x8d\\xa9r\\x13\\x94\\xc48\\xd78\\x9f\\x98\\x9a,.,rD\\xc0\\x16\\xfc\\x10\\xfb\\xab\\x1c\\xec\\xa32\\x956\\xc6e\\xc7X\\xeay\\x02\\xa7\\xad\\x86z\\x14p\\xbc\\xb5yhl\\xe4\\x8a\\xc6\\xad\\x1e\\xc3\\x05\\x12\\x80T\\xff6\\x00\\x80C\\xc7\\\\\\x00\\xb0e}\\xc6qsPAX=C\\xfde\\xc5\\xa5\\xb1h\\xb1\\x02\\x8e\\x98\\x02\\x1aq\\x91ceO\\xd7E\\x88\\xd5\\xc2\\xd7\\x0eFE\\x8e\\xad\\xc5\\x8b\\x80\\xf1\\x05\\x03\\x9c\\xe3\\x9b\\x91\\xfd;\\x16\\x14f\\x10\\xeajk\\xed\\xb3\\xc5\\xdc\\x83\\x83\\x88]R\\xb7\\x87\\x0e+\\xebe\\x05\\xb1.[\\x96PuG\\x033k\\x06C\\x01\\x80\\\\\\xee\\x82\\x80\\xe4\\xd4\\xe4t\\xa4(\\xa2\\xdc\\xad\\xd9\\xa99\\x7f\\x9eG\\x02I\\x92\\xd9DFf\\xe4\\xb5\\xbf\\xfd}OC\\xe5\\x9fn\\xde\\rH\\x82\\xe8\\xaa\\xdf\\x1fz\\xed\\x8f\\x1f\\xfd\\xd7O~03aY\\x01\\xc1Pz\\xbc\\xc6\\xec\\xb8I I2\\xcd\\xcd\\x18c\\xc2\\xb2\\x98\\xc6$\\x90\\x9d\\x06&B\\x8eh+\\x97/LIg&:2\\xb1\\x04\\xedg\\xdb\\x97,Y\"\\xa5D\\x00A\\x02\\x81$\\t)I\\x82\\x1c\\x1d\\x19Um5\\x15\\x04\\x8b\\x00\\x9a\\xa6\\xad\\x11\\xf3\\xa1\\xc1\\x91\\xc5\\':\\xe9\\n\\xf4\\x9e\\x18\\xf0\\x06\\xdd\\x95\\xcb\\xaa\\xbc~\\x97\\xc7\\xe5\\x05\\x02\\xaf\\xe1\\xeb>\\xd73>4q\\xc5\\xde]y\\xa10\\x12\\x1a\\xdc@\\x06\\x1a\\xd7\\x11QC~\\xec\\xe8\\xf1\\xbe\\xbe\\x0b\\x8d\\x9b\\x1a+**\\x1cU\\x11\\x04\\x80\\xbcP^ee\\x05\\x11\\x9c9s\\xe6\\xe9\\xbf=\\xbbi\\xcb\\xa6\\xca\\xca\\xb8$\\x92JmX2@\\xbb\\x1d)2\\x04\\xc9\\n\\n\\xf2/\\xf4\\x0e\\x94U\\x97\\xa2\\x04\\x00m|l\\xe4\\xc8\\x81\\x17\\x01\\xa0nI-_\\x887a\\xb0wh\\xe9\\xca\\xa5\\xaae\\x8aM\\x19\\x92\\x10\\n\\xe5MNL\\xc4b\\xc5\\x02H\\xd74\\xd25Nr\\xd7\\x8e\\x9dO=\\xff\\xcc\\xe1\\xd3\\xc76\\xaf\\xd9\\xa01\\x83H\\xa0\\x05\\x9c\\xe8\\xcb\\x9f\\xfe|a\\xb4\\xf0\\xee\\xef\\xdcs\\xfb\\x17?\\x91\\xc8\\xa4n{\\xcb;\\xd5\\\\\\xde\\xb2\\xa1\\xf1\\xdf\\xef\\xfb\\xe5\\x8d\\xef{\\xc7\\x93/<\\xf3\\xe6\\x0f\\xbe\\xf3\\xa7\\xdf\\xfe\\x89\\xdf\\xe3\\x11\\x96\\x00\\x02\"\\x8b\\x08A\\x90\\x03\\xb0#0\\x0b\\x08Pc\\x00\\xc8t\\x81\\xc8\\x98e\\xd7\\xac\\x00\\xd8\\x1d\\x03\\x91@y+R\\x12\\x10\\xa4S\\xa9\\xb9\\xe4\\xfc\\xfa\\xa2:\\x12D\\x92H\\x10\\t\")\\x9b\\xda\\x9b\\x01`}\\xfdJ\\x10$\\x19\\x81\\x10\\xc8\\xd9\\xea\\x8ae\\x83\\xd9I\\xd3\\xb2\\x0c\\xa6KI\\x8c\\x03\\x11\\x84\\x02\\xc1\\xb9D\\xa2\\xb8\\x10\\xecm\\x08\\xec\\xb0\\xdb\\x9e\\x03\\x98c\\x94.\\n|\\xd4\\xd6jW\\xd99\\xb6W\\xf9VBH)\\x0f\\x1f{q|jr\\xeb\\xca\\xf5\\x1e\\xc3#2&\\x02\\x08K\\x02\\xda\\x92\\xd3\\x07\\x8f\\xba\\x00`\\xcb\\xba\\xa4\\x10\\x82)10\\xe0\\x92\\xc1|2\\x11\\xc9\\x0b\\xa3Jb3\\x87H\\xe3P\\x12\\xec)`?\\x95\\xd3\\x12s\\x8c\\x85\\x9d\\xde&\\x85\\x18\\xd8\\xd3\\x19s\\xff\\x161\\x8cs\\xf6\\x16q\\x11,\\xeb$si\\xd1R\\xc89XH\\x80HJ\\x94hQDhW\\x1d]\\x1c7^\\xe6q\\x99\\x8a\\x9f\\x95\\xf8\\xb1\\xb4\\xa4bT\\xdb\\xcfJ\\x96+\\xb4\\xf4\\xfa<\\x12@\\x12\\xa4\\xe6\\xd3\\x9aGW\\xfd\\x0e\\xd23\\x96\\x0b\\xb3\\x95\\xa7\\xcf\\xef\\xbfn\\x13 \\t)\\x89\\xe8\\xe0\\xf5\\x8d\\x91\\xa1\\xc9Hz\\x8a,\\x1bM0<\\x86\\x99\\xb1rUs$IXR\\xdd\\x14\\xc7D\\xa1\\xb0d.m\\x0fN\\xc6c\\x01{ \\x00\\t\\x03\\x03\\x03\\x88X[W\\x93\\xdbN\\xa5\\xb4\\x9d,\\xcb\\xb4\\xe6f\\xe6J+b\\x92\\xa4\\x04\"T\\x04}\\xaa|\\xe2\\xb9K\\xcet.\\x12\\xae^\\x1d\\xafZ\\x11\\xf7\\x07\\xbdv\\xa8\\xc7X\\x7f\\xcf@\\x7f\\xf7\\xe0\\x96]\\x8d^\\x9f\\x97\\x81\\xcd\\x81V\\xc5\\xd5\\x88\\xec\\xc8\\xe1\\xa6\\xbe\\xbe\\x0b\\xd7^{mEE\\xc5%9\\x98\\x1c\\x03cE\\xc3\\x8a]W\\xed:v\\xf4\\xd8\\xf8\\xc4\\xa4]\\xd9\\x0f\\xe0LA\\xdb\\xd9b\\x08\\xb1xI6\\x93\\x19\\x1f\\xb6\\x0bk\\xfe\\xfa\\xfb\\xc7Uw\\xc5\\xe2X\\xb1\\xc3\\x99`#\\xfd\\xa3%\\xf1\\x98\\xdf\\xefut\\x89\\xd5\\x87\\x90\\xc7\\xebI\\xcc\\'\\xec\\x9b\\x85\\x0c\\x18\\x10\\xa2\\xa1\\x19\\xaf\\xd8~%\\x01<\\xb1\\xef\\x99\\xa1\\xc9\\x11\\xe0\\x1c\\x19 G\\xe4\\xec#\\xef\\xf9\\xc0\\x17\\xee\\xb8\\x8b\\x88\\xee\\xba\\xe7\\x0b?z\\xe8>\\xd5\\xdb\\x0b\\x10W-[\\xf9\\xc7\\x07\\x7fS\\\\X\\xb4\\xbf\\xe9\\xd0[o\\x7f\\xd7lb\\x16\\x88\\x80\\xa4\\x14@R\\x10Ii\\t\\x12d\\xc7M2\\xf7H$\\xa4\\x14\\xd2\\xb6D`W;+\\x11\\x0f\\x1b9B\\x1a\\x9f\\x9f\\xf6\\xba\\xdc\\x0c\\x99\\xed\\xc2\\x00v\\x0f\\xf5\\xfd\\xf4\\xc9G~\\xf4\\xd8\\xcf\\x01\\xa0\\xbc \\xb6\\xb08\\x89\\x90a\\xc8\\x13HfSjb\\xa8m\\x86s\\x9eN\\xa7r\\xf7~1\\x05\\xe9\\xe2\\xef\\x01\\x1c\\\\aaY+\\xb8]H\"[yUX\\xe2\\xb9C\\xfb\\xe7\\x12\\xf3Wm\\xda\\x19\\xf0\\xfaA\\x89\\x1d\\x12\\x81b\\xf5\\x12\\xcd\\xcc\\xc3\\xd9s\\x86a\\xd0\\xba\\x86\\xb4\\x12uv\\xec\\x08\\xaas\\x03p\\xaa^\\x16 #\\xb4M\\x95C\\x05\\\\\\x80\\x93p\\x11&\\xae\\x00Y\\x9b\\x94\\xef\\xfcu\\x9a\\xb9,\\xfcg\\xff\\xde\\x1c\\x95\\xeb\\xefZ\\x1b\\xfb\\r\\x8b\\xb2\\x0b\\x88\\xc0s\\xdf\\xd9GH/}\\xe3\\xe5\\x1e\\x97\\r\\xc3B\\x02\\x12$<^\\xcfB\\x1c\\x8cR\\xc5-\\xe3#\\x13\\x15u\\x15\\x88\\xc8\\x90\\xcc\\x8c\\xe9\\xd3=\\xean1\\x82PbF26\\x17\\r\\x91\\x10\\xaa{\\xb8e\\x18s\\xe1@\\xfe\\xc4\\xf4xa>:\\xb47\\xd5qO}\\x94fh*\\x17\\x0f\\xce^\\xa06\\x1dC\\xd7\\x17\\x98$xQz\\x96\\x80\\x08\\xa9\\xb9\\xb9\\xb9\\xba\\xbaJ\\xc5\\x8f\\x84`YB\\x82\\xb4,K\\x928}\\xe2\\xb4\\xc7\\xeb\\xf1\\x04\\xdc\\x96eZ\\x96iI\\xcb\\x92\\x16\\xa4\\x12\\xc5O\\xed\\xbf\\xe4L\\xbdk\\xeb1\\xe8\\x07\\x02\\x8dk\\x88\\xa8s\\xd7\\xec\\xf4Log\\xdf\\xd6+7\\x05\\xfcAB\\xd4\\xb9\\x01\\x08\\x9cs\\x04\\xe4\\\\k>\\xd1<99\\xf9\\xaa\\xd7\\xbc\\xca\\xe3\\xf28\\xdb*\\xa3ES\\x03A\\xb1\\x04\\xa1\\xb4\\xb4t\\xc5\\x8a\\x15O\\xfe\\xf5\\xc9\\xb7\\xdc\\xf4f\\xe5Yq\\xa9\\x11I\\xc98\\x01h$\\x88\\xa4\\xa6\\x19\\xcbV.=u\\xfc\\xcc\\xfamk=~\\xf7\\x9f~\\xff\\x17\\xf5K\\xca\\xcaK5\\xae\\x01\\xa00EOG\\xdf\\x8a\\xb5\\r\\x1a\\xe7\\x8cqt\\xbc,@t\\xb9]\\xd3\\x13\\xd3\\xe4d\\xf9\\x19g\\xc4\\x80t\\xf2p\\xf7U\\xdbw\\x9d\\xeb\\xedz\\xe6\\xd0\\xbeX\\xb4\\xa8\\xba\\xbc*\\x1e+\\xd3P\\x07\\x92w\\xbc\\xff\\xc3\\xa1\\xbc\\xd0\\xc7\\xbf\\xf8\\xe9\\xcf~\\xfd\\xee\\xb1\\xc9\\x89/\\xdcq\\x97$B\\x10\\xf55\\xb5\\xbf\\xfb\\xf1Co\\xf8\\x87\\xb7\\x1f9\\xd1t\\xc3\\xfb\\xde\\xf6\\xd07~\\x94\\xef\\xcf\\x9b\\x99\\x9b\\xe9\\x9d\\x1a\\x99JL\\x9b\\x96e\\n\\xcbg\\xb8\\xfd._A \\\\\\x92\\x1f\\xe5\\x8c\\x91&\\x18g\\xc09r\\x8e\\\\2\\xae\\x80d\\x94\\x0ep\\xa4|\\x9cd6ep]\\x08q\\xbc\\xad\\xe5\\xe9C\\xcf?s\\xec@\\xd7@\\x8f:G\\x97n\\xfc\\xf6\\x85?_\\xbda\\xe7\\xca\\x9ae\\n\\x05R7X\\xd2\"\\xf5P \\x9dk\\nc\\xce\\x99kX\\xfcE.zr`v;|R\\xe2b\\n\\xb0R\\x96THa\\x89}G\\x0e\\x98\\x99\\xec\\xf65\\x8d\\x1c\\x98H\\x9b\\x00 2YB\\x94Y\\xa1\\xa0\\xd3\\x83\\x87\\xfdB\\xc2\\x86ei\\x1d,+\\x83LWJ\\xe0\\x08@\\xf9\\x81PG_\\x17\\x00\\xa8\\xea\\xc6\\x8b\\x8a\\x17mu%rd\\xf5\\x00@)\\xdb\\xfc\\x9d\\xb5\\xb5h\\x12\\x93=\\xb5A\\x91\\xd3\\xd5\\xf7\\x00\\x80\\x8c\\x91\\x04d\\n\\x9eg\\x0b\\x91\\x1d9\\xa1%\\xe4\\xd4D\\xd1\\xa1});\\xe5\\xd0\\x7f\\xc0Q\\xd2\\x06\\xd5d\\xe0e\\xca\\x17^V\\x0c\\x8b\\x01\\x9a\\xa6\\xb9\\xf0\\xac\\xb4\\xe3\\xc4\\x82\\xa2\\xfc\\x9c\\xaf\\xad\\x19\\x1aI\"\\x92\\x80 \\x01\\xd2\\x9a\\x9b\\t\\xa9e,\\xa19I]D#\\x9dI\\xb9\\xdc\\xa89\\x10\\x95tx{\\x80@df-\\xce5\\xe5\\xcc:\\xce=f\\xd2\\x19\\x1e\\xce\\xcb]eu\\xed\\x9d\\x10\\x9f\\x00\\xe0B\\xef\\x85T*U\\xbf\\xac^\\xa5-\\x11\\x80l\\x19\\x019>:1;=\\xbbr\\xfd\\nI$\\xa4\\x94$\\x84\\x14D\"\\xef\\x8f\\xcfh\\x89\\xd4%g\\x9a\\x8a\\x15\\xd9\\xcaD\\x8a\\x08\\x86t\\xbe\\xadg\\xc9\\xf2z\\x9f\\xdf\\x0fh\\xf7-\\xb5\\x7f\\x04ltx\\xa4\\xbb\\xab\\xfb\\xea\\xbd\\xbb\\xdd.\\xb7\\xda\\x1d\\xd9\\xc2l\\xb5O\\xc8\\x81\\x84\\t\\x08\\x967,\\x1f\\x1c\\x1al;\\xdbV\\xbfl\\x89\\x1d\\x0e,\\x1a\\x08\\x0c\\x81\\x8aJ\\x8a\\xab\\xe7\\x13\\xcdM-\\xa6\\xcctwv\\xab\\x1f\\xc5J\\x8a\\x19\\xe0\\xf4\\xe4\\xec\\xd9\\x93m\\x85\\xc5\\x85E\\xb1(\\xd8\\xa0\\xc4\\xc2\\x86k\\xe8\\xba\\xa1\\xeb\\xeav\\xe5\\x80\\x12\\xe5\\xb9I\\xa4\\xba\\xca\\xea\\xca\\x92\\xf2\\xf6\\xae\\x8e\\xce\\xde\\xae\\x13\\xad\\xcd\\x85\\xe1\\x82\\xd2hIy,v\\xcb\\xdb\\xde\\xe9\\xf7\\xf9\\xdf\\xff\\x89\\xdb\\xbf\\xff\\x93{\\x01\\xe0\\xf3w|Z\\xa1:5\\xf1\\xaa?\\xde\\xf7\\xeb\\x1b\\xfe\\xe1\\xe6Smgn\\xf8\\xd0;\\xee\\xfc\\xe0\\x1dn\\xaf\\xdb\\xa7yj\\xf2\\xcb<\\xba\\x9b!\\xa6\\xb2\\xe9\\xa9\\xf4\\xfc\\xa9\\x81\\x8e\\xf6\\xd1\\x9e\\xe5\\xb1\\x9a\\xd2\\x82\"\\x92\\x80\\xcc\\xa6\\x1a\\x10\\xe5\\xf2\\xf46\\x11\\x1b\\t\\x86\\xc6F\\x9ex\\xfe\\xe9g_\\xdc\\x7f\\xa6\\xad5\\x99\\xb6\\xaf|\\xd8\\x1f\\xda\\xb6r\\xe3\\xd6\\xe5\\xeb\\x9f8\\xfa\\xfc\\xf3\\xcd\\x87\\xdf\\xf5\\x8d\\x8f\\xfd\\xf0#_\\xde\\xbaj#\\x01H SX\\x1e\\xb7\\x1b\\x9c\\x18\\x0b\\x18\\xa62\\xe9|\\xbd\\x00\\x00.]rN\\\\u\\xa9\\x03\\xb2\\x98+\\xb0P\\xe1H$\\xe4\\xbe\\x17\\x0f\\x99\\xa6uE\\xe36\\xca\\x08\\x95@\\xb2\\x8fYyX\\x02\\x01\\xe8\\xd0\\t/\\x00lZ\\x93PE\\xdd\\xa0d|\\x88\\x80\\xb0(Rx\\xec\\xec\\xa9t:\\xed\\xf1y\\xe1\"\\'*w\\x1c\\xb9\\xf9\\n\\xff\\xc9\\x91\\xcb\\x13,L \\x85z :\\xdd\\xd6\\xc8\\xc98.\\xf2\\xa7\\x1c\\xc1\\x06{I8\\xb9\\xc8\\x978~\\xb9\\xa3y\\xd9B\\xc2\\xcbd\\xb0\\x18!\\x01i\\x86\\x86\\x88\\xa6e\\xea\\x9a\\x8e\\x80\\xc4\\x88!\\x03\\x80t*\\x9bN\\xa6\\xdc\\x81<\\x8d\\xa4\\xc7\\xeb\\xb12\\x14\\x08\\xb9\\xa4\\x14\\x9e\\x90k.\\x11\\xc8x\\xdd\\x95\\xdd#\\x9d\\xcb\\xe2\\x1a\\x80 Y<<\\xedJe\\'\\xbd\\x11\\xdd\\xad)\\xa1\\xcel\\xd2\\xd2]:g\\x1c\\x18\\xa6\\x93Y\\x97\\xcbP%9\\xf6.\\x8b@\\x88\\xc9d\\xd2\\xe3\\xf6\\xe6\\xae\\xb5\\xb3\\r\\xd9[)\\x01\\xb5\\xb4\\xb4\\xd4\\xd7\\xd5)XBJ\\x8b\\x00-i\\x12\\xc0|\"q\\xeaxKIU1h\\x94\\xcd\\xa6-a\\x99\"\\x9bJfz\\xcf\\xf6\\xbf\\xe6\\xdf\\xffv\\xc9i\\n\\x97\\x91\\x0ez\\xdd \\x01T\\xffq\\x96I\\x9bV\\xd6\\x8aW\\xc7\\x91\\xa1\\xc64\\x00\\xe0\\x8c\\x03\\xb3u\\xf8\\x9e\\xfa\\xdb\\xd3\\x8d\\x9b6\\x86\\xf3\\xf2\\x1c\\xb0\\x02s\\x98\\xaa\\xed\\x87*\\xfe\\x15\\x12\\x12\\xaa~\\xab\\xcb\\x97/?\\xb0\\xff@\\xfd\\xd2z\\xfb\\x03\\x80I&\\t$q\\x9dHj\\xa8\\x83\\xa4\\xda\\xa5u>\\xbf\\xef\\xd3w|&w`2\\x0b\\xcdM\\xa7g\\xa7fk\\x97\\xd6V\\xd5Uj\\\\G\\x04\\xce\\x99\\xaa\\xb8D\\x00D\\x96\\xc9d\\x13\\xc9d\\xee-J\\xa9\\x8ei\\x9a*\\x82%BMc\\r\\xcbW,_\\xd2\\x90\\xca\\xa6:\\xbb\\xba\\xce\\x0fv\\x1fl>R\\x1b\\xafz\\xf5\\xab\\xae7\\xdc\\xc6m\\xb7\\xbf\\xff\\xfb?\\xb9wn~\\xeek\\x9fR}C\\xa9\\xac\\xb8\\xe4w\\xff\\xf4\\xb3\\xb7\\xdcqk{w\\xe7\\x17\\xbf\\xf5\\x95\\x87\\xee\\xbe7^XJ\\xc2\"\\x89$\\xa5\\x0b}a\\xbf\\xbf:\\x10\\x1bIM6\\xf7\\xb5M\\xceO-/\\xabeB\\xe3\\xba\\x86\\x92\\x18q\\xd5\\xa5FJ\\xd1\\xd2\\xde\\xfa\\xc2\\x91\\xfdO<\\xff\\xf4\\xd1\\x96\\x13\\xb9\\xb8\\xbe.^}\\xc5\\xbam[Vn\\xd8X\\xbf\\x92#\\'I\\xd7o\\xbb\\xfas\\x0f|\\xe3\\x0f\\xfb\\x9f\\xfc\\xc0\\xf7>s\\xef\\xc7\\xef\\xd9\\xb1a\\xf3hr\\xc6\\x94\\xc2\\xa3\\xbb\\x98\\xc6T\\xc3+@Le\\xd2\\x01\\x9f/\\xe75,X\\xad\\xc5\\x1e\\x16\\x00,r\\xb1l\\xe0B\\x89s\\t\\t\\x92\\xa4\\x94g\\xdaZ\\xc7\\'\\xc6\\xf6l\\xbe\\x82,\\xb2\\xb2&H\\x12\\xe9,\\x00Zi\\x13\\x00\\xa6\\xe7g\\'\\x93\\xd3(a_S)\\x00l\\\\:k\\xa53\\x88\\x8c\\xa4\\xce8\\x03\\xb0@2nh>\\xb7\\xe7\\\\O\\xd7\\x8ae+\\x18\\x92\\x00`6\\x1f\\xf5\\xa28\\xf0?\\xeb\\xcb\\xd8\\xae\\x10\\x02\\xd8\\xb9K\\'\\xfe\\xb3\\x85\\xeb\\x1d\\x0fN5C\\xb4\\x8bx@:\\xf4.\\x9b\\xad\\xac\\x90\\xff\\x1c\\xab\\x03\\x17\\xe2S\\xb8\\xd8j\\xbdL\\xe3\\xb2zXH\\xa8iZr>\\x15\\xca\\xd3\\xd5\\xc5R\\x93\\xa1 \\x1aI\\xce%\\xf3\\xa2AB\\xe6\\t\\xb8G\\xfb\\xc7|Q\\x03\\x114\\x1f\\x03\\x86M\\xbb\\xb7\\xee~\\xf0\\xf1\\x99\\xdb_?Y\\x16\\r\\x8cM]\\xf7\\xe3?\\x9e\\xdc\\xbe.\\xed\\xf6z\"\\x1ac\\x9c\\x88R3\\x19o\\x9e\\x17\\x10\\x19\\xe1\\xfc\\xcc\\xac\\xdb\\xeb\\xbe\\xf8\\x1a#\\x02\\x08!By\\xa1\\xdc\\xf1\\xe4\\xb4\\x84\\x01\\x90\\x80\\x06\\xfa\\x07\\x84\\xb0\\x96.[j\\x91@\\'-\\xac\\xb6\\xf7\\xb6\\x96\\xb6`^ Z\\x1a\\x15BH\"Arlpr\\xa4w\\xac\\x08\\xb3\\xe5\\x9d\\xe7/9\\xcd\\x99p\\xd8\\xcaZ\\xa4;@\\x02\\xc0\\xecT\\xc2\\xeb\\xf7\"\\xcbm\\xf0\\x08\\xcc\\x06-z\\xcf\\xf7\\xc5\\x8ac\\xf5\\xf5K\\x00\\x90X\\x0eC\\xc8\\xbd\\x15\\xec/\\x16\\xf2\\x98\\x04\\x00\\xb1\\x92\\x98\\xdf\\xe7okk_\\xbe|\\x99j\\xe2\\xe5L0\\x02g\\x9b\\x04\\xa2\\xfc\\x82\\xf0\\xa9S\\xa7\\xd4\\x1b=^\\x8f\\xe12\\n\\x8b\\x0b\\xd7nZ\\xeb6\\x0c\"b\\x8a\\x16\\xa1t\\xeal\\x05\\\\\\xb0L\\xab\\xb0\\xa0\\x00\\x004MW\\xb4G\\x94J\\r\\xc8~\\x01JP\\xca0^\\x97g\\xc5\\xd2\\xe5+\\x97,\\x9b\\x9d\\x9fo=\\xd7\\xf6\\xb7\\xfd\\xcfm\\xdd\\xb4\\xe5\\x17?~\\xf0\\xe6\\xf7\\xdf\\xf2\\xc0\\xaf~677\\xff\\x83/}S\\x1dIa\\xb8\\xe0\\x8bw~\\xee\\xd3\\xf7|\\xbe\\xe7B\\xef\\xcd\\x9f}\\xff\\xcf\\xfe\\xf1\\xde\\xb2\\x82b\\x92\\xaaFKiZR\\xb1/\\x12\\xa9\\x08\\x1d\\x1f\\xee8\\xd3\\xdf\\xb5\\xb2b\\x89\\x82\\xab\\xa6f\\xa6\\xf7\\x1f=\\xf4B\\xd3\\x81\\'_xfd|\\xd4>\\x11\\xb7gC\\xc3\\xea\\xca\\xea\\xaaW\\xed\\xd8\\xbb\\xa1z\\x85\\x951I\\x12e-\\xd5(Q\\xd3\\xb5/\\xdd\\xf2)M\\xd3\\x1f}\\xee\\xcf\\xef\\xfd\\xfa\\'\\xbew\\xc7\\x97\"U%\\xcb\\x8a\\xab\\x1d\\xe9a\\x04\\x00\\x01r>\\x99\\x88\\xe4\\xe5\\x03\\xfc\\x9f=,\\x9b\\xd3\\xe2\\\\}\\x00\\x00\\xa5z*\\xe5\\xf4\\xec\\xcc\\xb9\\x9e\\xf3;7n\\xd5\\xb9\\x06D`\\x110\\x90\\x82\\x08e\\xc7p\\xcf\\xe9\\x81\\x8e\\x887\\xcf\\x14\\x96\\x97G\\xda{\\x02\\x9c\\xc9\\x94\\xbe\\x7fr\\xbe:?\\x90\\x07\\x8aQF\\x9c\\x08\\x81\\xa0\\xbe\\xb2\\xe6|\\x7f\\xef\\xaa\\xa5\\x0b\\xb9\\xb7\\\\\\xdc\\xb50I\\xff\\xef\\x87\\xa2/,\\x965^\\xc8\\x0c^\\xf4\\x12\\xc5\\xf0B\\x9bC\\xbf\\x10(;\\xec\\xd6\\x053NN\\x80j\\x7f\\xffr\\x8d\\xcb\\x86a1\\x95Z\\x0b\\x87\\xc3\\x93S\\x93y\\xe1\\x102\\x06\\x8c\\xb8\\xe4\\x88\\x18-\\x8evut\\xe9\\xdc\\x00\\xc8\\x16\\x95D/t\\x0c@\\x16].7\"c\\x95|\\xff\\x15WJ\\xd0\\xder\\xcf\\xaf=\\xf3\\xc9\\xac\\xc7\\xd5\\xb2y\\xdds\\xaf\\xb82T\\xe6\\xd7\\xbd\\xdc\\xa5\\xbb\\xa5%g\\xa6\\xa7\\xaaV\\xc7\\r\\xcd@\\x80\\xf3}\\xbd\\xd1X\\xa1\\x92\\xbeb\\xb6\\xa3\\xc5R\\xc9TWW\\xd7\\xab^\\xf5\\xaa\\xdcuv\\xba\\xc3\\x00\\x00\\x11\\xc8\\xd63\\xadU\\xd5U\\x80 \\x85  \\x8b\\x04H\\xc8\\ns\\xb0oprbj\\xfd\\xf65i3-\\x85\\x95\\xc8$.\\xb4\\x0f$\\xe6R\\xf9\\x95\\xa1\\x15\\x8f\\xfe\\x19\\xa5\\xbc\\xe44\\x13\\xd1\\xc8\\x85\\xb6\\xc1\\xda5\\xd5\\x0cU\\x1fS4\\xcd\\x8c\\x14\\xd2\\xc9\\x13#\\x010\\xbb\\r\\x02\\xeb\\xe9\\xe9.(,\\xb4\\x8f\\x91\\x16\\xd8\\x81\\x0c\\x17\\xa0\\n\\xe5j)\\xf8\\xc4\\xce\\x06\\x02\\xae^\\xbb\\xfa\\xcf\\x7f\\xfc\\xd3\\xb2\\xa5K\\x19\"!r[\\xe8\\x80\\x08\\t\\xb9.\\x81\\x90\\xf1\\xc7\\xff\\xf4\\xc4\\xec\\xcc\\xac\\xfa%\\xf1\\x8a\\xf2UkW\\xa9#\\xe0\\x8c\\x01 \\xe7\\x1a\\x03\\xd44\\r\\x00\\xb9*\\x10GL$\\x12\\xe5\\xe5e\\xe8xy\\xc4\\x94\\xa2\\x1c\\x03[\\x08@\\xb1\\x82\\x80\\xb8\\x04IH\\x0c$\\x85\\xf2B\\x9b\\xd7o\\xe8\\xee\\xeb\\xfd\\xf3\\xf3O\\xbe\\xe5\\xfa7<\\xf2\\xc0\\xaf\\xde|\\xdb\\xcd\\xbf\\xfd\\xd3\\xefL\\xcb\\xfc\\xa7\\xcf~]\\xd34\\xd34\\xd3\"\\xf3\\xd0\\x97\\xef\\xfd\\xd0=\\x9f>\\xd1\\xd6\\xf2\\xe6\\xbb\\xdes\\xff\\'\\xbf][Z\\x01\\xd2I\\xc91\\xc6\\x04i\\x1c\\xd7\\x16\\xd7=\\xd9uDf\\xccc\\xa7\\x9b\\x9f>\\xfc\\xfc\\xe1\\x93M\\xa6e\\xd9\\xc7_Z\\xbek\\xd3\\xb6\\xab\\xb7]\\xb9k\\xd3v\\r\\xd8\\xf8\\xec\\xd4\\xd1\\xceS\\xf32\\xedw\\xb9\\x89Hr\\xce\\xc8F\\xb0u\\xc4{>\\xf8\\x99P0\\xf4\\xc0c\\xbf\\xfc\\xd0\\xb7\\xee\\xba\\xe5\\xa6w~\\xee\\x96;P\\xd3\\x98\\xc6Pc\\xc8X\\xdf`\\xbf\\xae\\xebn\\x8f\\x1br\\x89\\x8b\\xdc\\x0e\\xb109\\x9c\\x7f\\xa4f\\x8a\\x82\\x86\\x88\\x84\\xaa\\x8e\\x94@t\\xb0\\xe9Hyqi\\xc8\\x13\\xb0RY\\x92RdM\\x924>5~\\xb2\\xafMC\\xbe\\xa5|eX\\xf3\\x03\\xc0\\xbe\\x13!!\\xd8\\xaa\\xba\\xb9\\x8a\\xb0\\xff@\\xfb\\xf1\\xfah\\xbc\\xbe\\xb4\\x9ai\\x1c\\x10H#@(\\x89\\x147\\x9d>969Q\\x10) .\\x91\\xa9\\xd46\\xe6\\xa6\\xa7\\x04\\xfc\\xaf\\xe4\\xc5\\x10\\x91\\xa3jam\\x9f\\xa1\\xd2\\x8dP\\xba\\x83\\xb6iFt\\x9er\\xdec\\x87\\x80N\\t\\xb5s\\x81l\\xa7\\xdf1b/\\x13z\\xa5\\xc6\\xe5\\xe6a\\x85\\xf3\\xc3\\xa3#\\xa3\\xd5\\x8a\\x8a\\xa5`U\\xc2\\xc2\\xa2\\xc8\\x99\\x93g\\x92\\x89\\x94\\xcbc \\xc3\\xf2\\xda\\xd2\\xe1\\xee\\xd1\\xf2eE\\x19 \\xc3\\xad\\xe7\\xd5\\x87\\x8e\\x87w\\xef\\xdf\\xb1\\x1d\\x18\\x03FFP\\xf7\\xe5kn\\xaf!Ij\\\\\\x1b\\xec\\x18\\xcd\\x8b\\x06]\\x1e\\x17\"ZY\\x0b\\x00\\xcb*J\\x00\\x10\\x1d\\xc682\\x18\\x1e\\x1aY\\xbbv\\xad\\xaa\\xc0\\xb2/\\xf6\\xa2\\xcd+\\x99HMOOm\\xdb\\xb9\\x95r1\"\\x11\\x10Z\\x96h;\\xddQ\\xdbP\\x8d\\x1a#SZR\\x0et\\x0ceR\\xd9\\xd8\\x92\\xa8\\x04\\xab\\xea\\x89K\\xe1v\\x00\\xc8V\\x14YY1;1\\x17*\\x08)\\xfe\\x8ba\\xe8N\\xb6\\xc9\\xb9\\xe1N&gzzf\\xfd\\x86\\xf5\\xb9\\x8d\\x15.\\xf6\\xb1.\\xbaz\\x17\\xa5\\xae\\xa0\\xa4\\xa4\\xa4\\xaa\\xaa\\xfa|\\xd7\\xf9\\xaa\\xdaj\\x06$\\xd5v Uf\\x03U\\x9a\\xfb\\x91_?\\x92{GiY\\x19\\x02r\\xd5_\\x03\\x19\\x11q\\xe4\\xa4\\xc8\\x88v\\x03\\x1b\\x92R\\x8e\\x8e\\x8cnjl\\xbc\\xe8\\x83\\xd5\\xf4D%\\xa7l7Xw\\xf6e\\xbb\\x19\\x1e\\x00V\\x96U\\xacmX\\xdd\\xda\\xd5\\xbe}\\xf3\\xd6G\\xee\\xff\\xe5\\x1bo\\xbb\\xe9\\xf7\\x8f\\xff11?\\xff\\x93\\xaf\\xfe`ln\\xd2\\xa5\\x1b\\xb1p\\xf4g_\\xfc\\xc1{\\xbe\\xfc\\xf1C\\xa7\\x8f\\xbd\\xf3\\x9e\\x8f\\xdcw\\xe7\\xb7\\x96\\x94V\\x11\\xdau\\xba\\xa9L\\xaa\\xb9\\xeb\\xcc\\xb3\\xc7\\x0f\\xfe\\xf5\\xf0\\xb3\\xa3\\x13c\\xea\\x939\\xe3\\x1bW\\xaf\\xdb\\xbbs\\xf7\\xce\\xcd\\xdbW/_\\x01\\x04 \\x88\\x88\\xa4%\\n\\x82\\xe1\\xfaX\\xf5\\x81\\xce\\x13\\xabbu\\xb1`\\x14\\x98\\xe4\\x04R\\x02C.I2\\xae\\xdd\\xf5\\xee\\x0fg\\x99x\\xe8\\xf7\\x0f?\\xf0\\x8b\\x7f[RR\\xfd\\xb6\\x1b\\xdf\\xac,#\\x00\\xf6\\x8f\\x0e-\\xafo\\x00\\x963U9\\x0f\\xc4y\\xc29s\\x1b\"$\\x07\\xe3T\\x0e\\x16\\x11\\x00\\x0c\\x0e\\r\\x0ba\\xae\\xa8Y\\x02@RH\\x04\\x92\\x96\\x1c\\x9b\\x9b<\\xd5\\xd7^\\x1e.\\x8e{\\xa2\\xc8Ad\\x04\\x026\\x9d\\r\\x02@\\xe3\\xb2\\xb9\\xaaP\\xac8Xp|\\xb0M3\\x8c\\xda\\xe2\\x8a\\\\\\x1a\\x81!V\\x96\\xc6\\xbb\\xfa\\xba\\x0b\"\\x05\\xb6\\xea\\xa7\\r^]\\x8ca\\xfd\\x97\\x86\\xe3D)_\\xd6\\xa1\\xb1]r\\xe2\\xea[5u\\xc0v\\xa5\\xd4\\xc6\\x8a\\xf6\\xfaT/\\xc9\\xcd\\xcb\\xff\\x7f\\x84\\x84\\xe8\\x08\\xe8\\x94\\x97\\x97?\\xfc\\xab\\x877o\\xd9\\xcc\\x90\\x01\\x02GF\\x0cu\\xcd(,\\x8av\\xb7u\\xaf\\xda\\xb8R\\x90\\'V\\x11\\x9b\\x1c\\x9d\\x1e\\xee\\x9c\\x8c\\xd5\\x17\\x98\\x9a\\xa9k.\\x7f\\xdck\\x95Z\\x00(Ir\\xc6\\x01\\xc0\\xad\\xbb\\x00pv \\x81\\x84\\x15uq\\xc6\\x99Kw\\r\\x9e\\x1f\\xd2\\r\\xcd\\xe7\\xf3\\xe9\\x9a\\x86\\n\\xb4`\\xc8\\x80\\xf5\\xf5\\xf6\\xe6\\xe5\\x85\\xd5\\r\\xb1#{\\'\\xeb\\x04\\x00\\xdd\\xdd\\xdd\\x8csM\\xe3JB\\x1e\\x80\\x94\\x9f\\xd5\\xdd\\xd9\\xed\\xf1\\xb9\\xfd\\xf9>\\xd3\\xccd\\xb2\\xa9\\xc1\\xee\\x91\\xc4\\\\\\xb2\\xa8>\\x92\\x15\\xe9\\xbc\\xf6\\xf3\\x81\\xc1\\xb1\\x97\\x9ef\"\\x1c\\xf0\\x15\\xb8\\x87{F\\xbdyn\\xa1\\xbb\\x88\\x98\\xcb\\xe3J\\xa7\\xb3\\xf6~m\\x03fh\\x93\\xf7\\x88\\xf2\\xf2\\xc29r\\x0b\\xe66\\xb2\\x97^\\xbd\\\\o>\\xb0\\xcbp*\\xaa\\xe2\\xedg\\xdbk\\xeaj\\x08\\x801F\\x00\\x9c\\x03\\x91\\xd4\\x10\\x08hd`d\\xe0\\xf9\\xfd\\xcb\\x01\\xce\\x02\\x10@Yy\\x99\\xa1\\x1b\\n\\xe0P\\xdd78\\xe3\\x00\\xc8\\x99\\x86\\x00\\n\\xc3:\\xd7~\\xce\\xe7\\xf7\\x05\\x83\\xc1K?\\x9a\\xa1\\xd31B2\\xc9\\x88\\x03#\\x04AJb\\x85\\x9c\\xbc\\xd4\\xd2\\xda\\xfa\\xc7\\x9f\\xfb\\xdb\\x9a%+\\xb64n\\xfa\\xfd\\x03\\x0f\\xbf\\xf1\\xbd7\\xffm\\xff\\xb37}\\xf4\\xd6\\x8f\\xbe\\xe7\\xc3\\x1e\\xddE\\x82\\xdc\\x86\\xe7\\x9f?v\\xcf\\x87\\xbf\\xfb\\xd9}\\xa7^|\\xc7=\\x1f\\xf9\\xd1G\\xbeZ\\x10\\xcc?\\xd8z\\xec\\xf0\\xd9\\xe3\\xfbZ^\\xcc!\\xe8~\\xbf\\x7f\\xd7\\xfa\\xad\\xbb\\xb7^\\xf1\\xca\\xab\\xf6\\x84\\x82Anh\\x00N\\xafS\\x96K`\\xf2\\x9a\\x92\\xb8\\xcf\\xe7;\\xd9u\\xbas\\xb2\\xbf\\xb6\\xb0\\xbc\\xc0\\x176\\xb8\\x06\\x04R\\x8a\\x81\\xd9\\xd1\\xce\\xb1\\x0b{\\xaf\\xdeS\\x14)\\xfc\\xf6\\xfd?\\xbc\\xf3\\x1b\\x9fK\\xcb\\xcc\\xfb\\xde~+\\xd3\\xd9\\xe4\\xcct\\xef`\\xff\\x8e\\xc6m6\\\\\\x98\\x8b\\x80r\\xc4\\x80\\x85\\xb1\\xe0])\\xca\\x8b\\xad)HDB\\x9e\\xedl\\xab\\x88\\xc5\\x91@\\x98\\x02,KH\\x9aO\\xce7\\x9dk^\\x12\\x89\\x97\\xf8\\n\\xad\\xa4\\t@2+\\x08\\xa8\\xb9\\xdd\\x0b\\x00\\xebj&\\xacT\\xd6\\xadkk\\xa2u/\\xf4\\x9d\\x0c\\xbb\\xfd\\x91\\xfc\\x02P\\x1a\\xab\\x0cK\"\\xc5\\':Z\\xec\\x16G\\x12\\x14\\xf5\\x0cl\\x8c\\xe0\\xbf\\x1c\\x14:\\xf3\\x86;B=\\x8b\\xc2\\xc3E\\xc2^\\x903C\\x97@y\\xe0$\\x87r\\t\\xa0\\x9713\\xb8x\\\\.\\xe2(\\xda\\xd4\\xa7\\xc2ha\\xbc\">48\\x14-*\\x04\"\\x04F(\\x10Y\\xc3\\xca\\xa5\\xcf=\\xf5\\xfc\\xf4\\xf4\\x8c\\xcb\\xef\\xd2\\xb9V\\xbb\\xb2\\xea\\xfc\\xe9\\x9e\\xfe\\xb3\\xc3EU\\x85\\x8c#\\x03C\\x12q\\xa6Y\\xc24t\\x97\\x10\\x16\\x03m\\xb8s\\x8c\\x01\\xabh(\\xd35\\x83@f\\xd3\\xe6p\\xdf\\xe8\\xb6+\\xb70\\xe0\\x8a<\\xae\\xb2`$ill|\\xe3\\xc6\\x8d9\\x14\\xf1\\xa2\\xc3\\x02\\x9a\\x9e\\x9a\\xae\\xab\\xab]\\xb4\\xd5\\xda\\xec\\x98\\x91\\x81\\xe1\\xca\\xda*EkN$R\\x13CSEK#\\xc4HXr\\xac\\xa2x.\\x9a\\x1fp\\xda\\xcd\\xe7F\\xd6m\\xf8\\x0b=\\xe9\\xe9lb&\\xe1\\xf7\\xf8\\t\\x98/\\xe0\\xc9\\xa63B\\x08\\xce\\xb9][\\x81\\x04\\x88\\x99LF\\xa8\\x1a.\\xb5d\\x9c\\xa9\\xe0`\\xae\\x97^=\\xb0\\x8b\\xd6\\xec\\xad\\xb1\\xa6\\xa6\\xa6\\xf9\\xe4\\xa9\\xd1\\xd1\\xd1h4\\xea\\x9c\\x17\\xd9\\xa9h\\x00\\xf7\\xd7\\xbe}Z\\x08\\x03`\\x0c\\xe07\\x00Ce\\xa5\\x88\\xc8\\x91\\t\\x05\\xf9Kb\\x8cK\\x92\\x0c\\x91\\x08\\x18\\xa0eY]]\\xe77n\\xdc\\x90\\xfb,X\\xe4\\x8c\\x02\\xa1\\xaaPS\\xaa\\x11v\\xb1\\xa1\\xbdu\\xdb;\\xb6\\xdf\\xe7\\xf7\\xfb\\xfc\\xfd\\xc3\\x83\\xf1X\\xd9\\x9a\\x86U\\x7f\\xfc\\xb7\\xdf\\xbc\\xfe\\x96\\xb7\\x1e8vd\\xfa\\xdb_\\xfe\\xca\\x9d\\x9fG\\x00b\\xccmx\\xfe\\xe9\\x8e\\xaf~\\xec\\x07_x\\xfa\\xf8\\x81[\\xbf\\xf5\\x89T6\\xad~=C\\xb6\\xaav\\xf9\\x95\\xeb\\xb7\\xed\\xda\\xb4}\\x1c\\xe7_\\xb9f\\'2\\xc6\\x0c}a)-\\xac!r\\xfa_\\xb1\\xe2p\\xc1\\xeeU[\\xcf\\x8f\\xf6\\x0fM\\x8f?\\xdfq\\xb4$T8:7\\x19\\xf6\\x06\\xdd\\x86kYIMy\\xb4\\xf4\\xca\\x95[\\n#\\x05w}\\xeb\\xee\\xcf~\\xf3K\\xf3\\xc9\\xc4\\xa7\\xee\\xb8\\xf3H\\xcb\\xf1\\x8d\\xab\\xd6j\\x1aG\\x9b(\\xa2\\xee\\xc5%N\\xf7B\\x851]t\\xd1I\\xe5\\x8d\\xd3\\x99\\xcc\\xd4\\xcc\\xcc\\xd65\\x8d2+\\'\\xa6XW\\x87k\\xed\\xf2t\\xeb@WI~4\\xe6+\\x00\\x82LF\\x8e\\xce\\xb8\\x0b=I\\xdd\\x80\\x7f\\xb9\\xfd\\xe4\\x99\\xde\\xa0\\xcf+\\x85 \\xae\\x91\\x97\\xbb\\x97F+N\\x0ft\\xed\\xca\\x8b\\xd8I:\\x94\\x85\\xf9\\x11\\x02J\\xa6S\\x01=\\x009du\\xe1\\xc6\\xffwm\\x04\\xe6\\xc8d\\x8e\\xb3e\\x93\\xdfm\\xac]eth\\x81ijo\\x90\\x0e\\x95\\x8b\\x16(\\\\\\xff\\xcd#\\xf9\\x1f\\x19\\xfc\\x8b_\\xfc\\xe2e\\xf8\\x18\\xb2m<\\x02\\xc0\\xc4\\xc4\\xc4\\xd4\\xd4Ty\\xbcL\\xd5G1\\x86\\x04\\xa0i\\x1a\\xd7\\xf4\\xd3\\xc7O\\xc7+\\xcb4M\\xe7\\x9c\\xe5\\x15\\x85\\xd3\\xf3\\xe9\\xde3\\xfd:3\\x0c\\xc3\\xe5u{\\\\\\x86Kc\\xbaH\\xd3\\xdc\\xe0\\xfc\\xcc\\xf0\\xbc\\xd7\\xeb^\\xb2\\xba\\xce\\xeb\\xf1z\\x0c/Gv\\xfa\\xc5\\xd6\\xb2\\xca\\xb2\\xca\\xaa\\n\\xce\\xb9\\xa1\\x19\\x8cq\\x9d\\xeb\\x0cYoOo*\\x99^\\xb5z%(a\\xb4\\\\*\\xce\\t\\x00\\xf7\\xed\\xdb\\xb7|\\xc52\\x8f\\xd7CJ\\xdb\\x92(kf\\xa7&\\xa7;Z\\xcf-][\\x97\\xca\\xa6,\\xcb\\xea<}\\xde\\x13r\\xeb~n\\x8al\\xdaL\\xa5\\xb3\\xd9\\xbeH1\\x99B\\xe8\\xba\\xd04W&\\x83DY\\xafk\\xb682\\xd4Pm\\t-=\\x9f\\x0e\\x17\\xe6\\x15<w\\xd0\\x90\\xd8\\x9f2\\x0b\\x8b\".\\x97ah\\x06\\x10\\xe8\\\\W\\x08wWg\\xd7\\x8a\\x15+\\xec\\x84\\xe0\\xc2N\\xbf8qe\\x0f\\xdbz\\xa8\\xa5\\xe3\\x10gf\\xa6gF\\x86G*\\xab*s\\x80\\xad\\xdd\\xc3\\x00x\\xe9G\\xef\\xd4\\xe6\\xe7\\x01\\xc0\\x07\\xd0\\x08\\x10\\xbc\\xf6\\x95\\x91\\x8d\\x1bl\\xb5hG\\xdb\\xde\\xd1\\x8ff\\x9c\\xf1\\x83\\x07\\x0e\\x01\\xc1\\x9a\\xb5k\\x95\\x82 \\x01q\\xa69\\x88\\x86sx\\x8a\\xa4\\xc1l\\xedK\\xe5\\x92\\xe4\\x08\\xd9\\x04\\x94J\\xa7&\\xa6&\\xcac\\xa5R\\xc8\\x82p\\xe4\\x15\\x9bv\\xfc\\xf5\\xf9\\xa7\\xce\\xf7\\xf5\\xb4\\x9ek{\\xd3\\x9e\\xd7\\x00\\x914\\x85\\xc6\\xd8\\xeeu\\xdbG\\xa7\\xc6WV/\\xed\\x1c\\xec\\xd9\\xb6b\\xc3\\xbb^\\xf9\\xc6/\\xder\\xc7\\xbb\\xae\\x7f\\xcb\\xa6U\\xeb\\x83\\xa1\\xd0\\xb9\\x89\\xbe\\xa5\\xa5\\xb5\\xc8\\x18\\xd392\\x86\\x9az\\xb4\\xb5c\\xed\\nqM=r\\xc6xA^~Y\\xb4dU|iyQICy]}ymM\\xac\"?\\x94\\xc7u\\x8d\\xbb\\xb4uk\\xd7\\xc5\\xa2E\\x7f{\\xe1\\x99}/\\x1e\\xec\\x1d\\xec\\xaf\\xab\\xab\\xdb\\xb9e\\x07\\xe3\\x0c4\\xae\\xe4\\x1dm\\xc4\\x10\\xd1\\x16lY|\\xe5\\x15%\\x97\\x1c\\n+)\\xe1f\\xd1\\xdd\\xd7\\xd3\\xd6\\xa1\\xbd\\xb0\\xaf\\xf6\\xeb?\\xf4\\x7f\\xea+\\xe1g\\x0e\\xf9nxe\\xf7\\xc9\\x9e\\xb3\\x9b\\xcbV\\xca\\x8cE\\x96\\xe8\\xea\\xd5\\xaf\\xfb\\xe4&3K\\x8d\\xb5\\xa3 E\\xc8\\x93\\xd9\\xfd\\x89\\x9d\\xef\\xb8\\xaa[\\xd7\\x81\\x80\\xc2\\xde@\\xcbhW,T\\xe8\\xd2\\x0c\\xc6\\x11\\x19c\\x8c\\xb5t\\x9e\\xcd\\x0f\\x85\\xf2\\xc2a@[\\x9a\\xdbQk\\x00X\\xb4\\x99\\xbdtb\\xfc\\xa7\\x86\\x8d\\xd6\\x91\\xf3\\xb5\\xf3\\x1f\\xe6\\xdc(\\xe77\\xab\\td_\\x10\\xc7Z*T\\x80\\xb1\\xffo\\xd8\\xab\\xcb\\x16\\x12\"\\xe6\\xb6\\xab\\x15\\r\\r\\x8f>\\xfa\\xbb\\xd5kV\\xbb=.\\x04d\\xc4\\x11\\x90#\\x96U\\x94\\xcc\\xce\\xcc\\x9cj:\\xbd\\xaaq\\xa5\\x92y\\xa9\\\\\\x1a/\\x8e\\x17\\x0f\\xf4\\x0c\\xcc\\x0c\\xcdL\\x8eL{\\xfc\\xeet2\\xe3\\xf1y\\\\>\\xa3nU\\xb5\\xee\\xd1\\\\.\\x97\\x94\\x923\\xd6|\\xe8T(\\x12\\xae[Z\\xab\\x96\\x1c\\xda\\xe5\\xf0H\\x04\\x1d\\xed\\xe7\\x96.[\\n\\x0b\\xbe\\xee\\xa2\\x00\\x1eA\\ni\\xe8F4\\x1a\\xb5\\xa4\\xdd2T\\xbdpld,\\x16/F@\"iZ\\x960E~\\xbc0\\x99JH)\\x85\\x14\\xcb~\\xfe\\xdc\\x8e\\'\\x9f=y\\xd5\\xfa\\x8e\\xe5E\\xd5G\\xcf\\x11\\xc7}\\xaf\\xb9zb[\\xfd\\xbb\\xdfy\\xf7\\x99\\x1b\\xaf\\xf1\\x17\\x14N\\xf4\\xce\\x00@\\xe9#\\x7f\\x99\\xdf}\\xa5\\xabvIb.\\x11\\x0c\\x85\\xc8Y\\x11\\x08(\\x84P~\\x9cM\\xd9\"\\\\l\\xb9.\\x19\\xe4p{\\x00\\x16\\x8e}\\xc9\\x92%\\xcf=\\xf7\\xdc\\xc2\\x15\\xb6a\\n4\\x9a\\x9a\\xd8\\xf0\\xf0\\xe2\\xb7\\xd7\\xadY\\x93\\x05T\\x19U\\x8eJ\\xbf\\x94\\x01(\\x8d@:s\\xa6uvfv\\xcf\\xde=\\xb0\\xe0]]r\\xf3\\xc0\\x91\\xe3\\xb25\\xe3pA\\n\\xc0\\xd9\\xa3\\x01\\xe3%\\xa5/\\xf4\\xf5\\x82S\\x17RSY\\xfd\\xd8O~}\\xe3\\x07\\xde\\xb1g\\xf7\\x1eP\\x8de\\x18\\x02\\x11g\\xda\\xdd\\xb7|\"\\x93L~\\xf2-\\xef\\xe7\\x8c#g\\xea/\\x00Nffc\\xa1B\\xfb\\x06*\\xc0\\x91!\\xa8#\\x07\\x1b9S\\xd14j\\x00\\x04LJB\\xc6,\\xc1]:\\x17\\x0c\\x11\\xa5\\x04\\xa63 `\\xba\\x06D\\\\\\xe7o\\x7f\\xe3\\xdb\\x82\\xe1\\xd0{?\\xf6\\xa1_=\\xf2\\xb0\\xd7\\xedy\\xdd\\xb5\\xaf^\\x08\\x06\\xff\\xc3\\x10<w\\xddm\\xdc\\x1b\\x00\\xe6\\xe7\\xe1\\xa9\\xa7\\xd8_\\x9f\\xf0\\xfc\\xf1\\xaf\\r\\x13\\x93.\\xf5s\\x97\\x8b\\xea*\\xb2m}\\xe3\\x95\\xe1\\x12\\x8d\\xf3\\xac\\xcc\\x02\\x02I\\nx\\xad?\\x1e)\\xb9\\xb6q\\xa8\\xa6xf\\x01\\x02\"\\x89\\x84\\x1cxE^\\xc9\\xd0\\xccX8\\x98G\\xf6VC\\xf1XY.(\\xce}\\xf4\\xdf\\x89\\x07\\xfe\\x1b\\x03\\x9dJ\\x1e\\xdb\\x12\\xe7\\xaa\\ts\\xbe\\xf2\"\\xc8k\\x81\\xcd\\x05\\xf0\\xf76\\xd0\\x97s\\\\.\\x83\\x05\\x0b\\x16=\\x18\\nV\\xd7T\\xef\\xdf\\xb7\\x7f\\xcf\\xde=\\x1a\\x93\\x92H\\xe3\\x9a$\\xe6\\x02Z\\xb9\\xba\\xa1\\xe9\\xc8\\xb1CO\\x1d\\xde\\xb0}\\x83\\xdbgh\\x8c\\xbbt\\xb7\\x7f\\x85WJ)A\\n!\\x11Q\\xd5\\xc4\\xe9\\x9a\\x0e\\x00.\\xcd\\x95\\xc9dZ^l\\xf5\\xfa\\xbc\\xeb7\\xaee\\x8c\\xe9\\\\G\\'\\x0b\\xc68k=s\\x961VS[\\xe3\\x08\\xfa;\\x87\\x03\\xa0\\xe6\\xe3\\xec\\xec\\xac\\x90\\x02\\x91\\x01X6\\x12JR\\x92\\x9c\\x99\\x9e\\xf1\\x87\\xbc\\x82\\x84 99:\\xa9*q\\x84\\xb0\\x84\\x14\\xbce\\xf8\\xaa\\xc7\\x9e\\xf8\\xd9W\\xdf3\\\\\\x11%\\x10\\x87\\xf66\\xde\\xf8\\xad\\x87\\xcbN\\x9e;\\xb7s\\x05\\x00Xd\\xe9^\\xcd2-\\xcb2\\x15\\x8a\\xaf\\xe9Z&\\x93U\\x85$*\\xd9\\xec\\xa4\\xc8\\x18:O)\\xcc\\x93\\xfd\\xa73B\\x08\\x90\\x1f\\tg\\xb3\\xd9L&\\xab\\xeb\\x1a\\x02HD\\xa5\\x00o\\xfc\\xf2W\\x97\\xbc\\x98*\\xe3voa{\\x07E\\xe6\\xc8\\xd5\\xb7\\x9enm=sf\\xcf\\xde=^\\xb7\\x17\\x10\\xec\\xe4\\xffK?\\x8e9D\\x1ee\\xcfY\\x0e\\x04a\\x12\\x08% \\xa7p8_J929Z\\xe8\\xcf\\x07\"\\xe4<^V\\xfe\\xe4\\x03\\x8f<\\xd3z\\xc4\"K\\xe7\\x1a\\xd3\\x18\\t\\xc65 \"\\x8f\\xd7K*-\\xc2\\x119G\\x8e\\\\g}\\xc3\\xc3\\x95\\x91\\x12d\\x88\\x1c\\x95\\x14\\'\\xd38\\x00 g\\x0b\\x87\\xa6V\\xb9\\x90\\x00D:\\x03\\x02\\x12\\x9c\\x08\\x18h\\x00\\xc0\\x1d\\xa3\\x8f\\x0c\\x95\\x1d\\x94@U\\xb55\\xef\\xbd\\xed\\xb6\\xfb\\x1ex\\xe0\\xfe\\x87\\xfe\\r8\\xfe\\xd3\\xb7\\xbf\\xaf\\xf0S[\\xfe\\xf7?L\\xd4\\x13 u\\x9e\\xeb\\xfc\\xf3_\\xfe\\xf2\\xd7\\xc7\\xff\\x9aI\\xbf{\\xdf\\xc1\\xb7\\xaa\\x1f\\x14E\\xcdW^e^\\xb5%\\xb1sCB\\x97\\xa9\\xe7\\xcf\\x8c\\xc7\\x82E$\\xa4\\x94\\x12\\x08H2\\xb7.n\\xdd\\xd3\\xf9\\xe5_.\\xbb\\xffC\\x07\\x95\\xf4\\x98\\x10\\x82$\\x92@)e\\xc8\\xf0\\x8c\\xcd\\xcf\\xaal\\xa3\\x92d\\x07\\x80\\x89\\xa9I[0o!\\xb1\\x079\\x03\\xf2?0\\x14\\\\ \\x17@\\xf8Ej\\x0f\\xe0\\\\\\x06\\x87\\xc8\\x903\\x97\\xf8_u\\xeb\\xfe\\x9f\\x8d\\xcb*\\xe0\\x97\\xdb\\x8d\\xb7n\\xd9\\xf2\\xe8\\xef~70\\xd8\\x1f+.\\x06\\x00\\xc6\\x18\\x102\\xc95\\x8d\\xadk\\\\\\xdb\\x15\\xea:\\xf9bs\\xac\\xbc\\xb8\\xac\\xb2T\\xe3<\\x0b\\x88\\x1aX\\xc2ri\\xdc\\x92\\x96\\xceuA\\xc2\\xd0]R\\x88\\xa1\\xbe\\xe1\\x8e3]KV,\\xa9\\xae\\xaf\\xd4u\\x9d\\x08\\x18rT\\xd5z\\x0c\\x92\\xc9\\xd4\\x91\\x83G^w\\xc3\\xeb\\xd8\\xc5\\x8d}\\xd5\\xa1\\xa8\\xbb\\x92Igl\\xa4\\xd9)\\xe0P!Ob.\\x11)\\x0e+\\xec\\xc2L\\x9b\\xbe<\\x8f\\x9d\\xe7$*9\\xdb3Z\\x15\\x1b\\xa9*\\x06)\\x88\\x00\\x19\\x9c\\xbcz\\xfd\\xee\\x07\\x9f|&\\xa9\\xde\\xad\\x12\\x81\\x90I[\\xeas4]#)Q-q\\xb4=\\x14!\\xa5\\x14\\x82@\\x15\\xe8\\x03\\xc0\\xa2<\\xccKF\\x0eJYx\\xc6\\xc1\\x18\\x84\\x10\\xba\\xd2]\\x00B\\t\\x90N\\xeb\\x8f\\xfc\\xfbE/\\xd5u(\\x8a*\\xb4\\x9d\\xecK\\r\\x88\\x0c\\x88\\xce\\x9eimoo\\xbf\\xe6\\x95\\xd7\\xe4\\x85\\xc3p1l\\xf5\\xf7n\\x9e\\xc3\\x87V\\xb2;\\x90#S\\xcb\\xdc\\x94\\xaf(\\x8f\\xf7\\x0c\\xf4E\\x97E\\xc0V>\\x96^\\x8f/\\x96W\\xd49\\xd5\\xdfPT#9G&\\xa5d\\x0cAZR\\xb5\\xb0B\\x8d#\"\\xd7\\xf9\\xd0\\xfcD*\\x9b.\\x8f\\x14#\\xe7\\xa0\\x1a\\xc9\\xa0m\\xd2\\x19gD\\xc44$i\\xafc{\\xf5\\ti\\xfb\\xa6\\x0c\\xa4E\\x8c!\\x11\\x01g \\x89k\\x1c\\x00\\x86\\'\\xc7\\x8e\\x9f=\\x15\\xf4\\xf9\\xff\\xf1\\xce\\xcf\\xed\\xb9b\\xf7\\x9b\\xdf\\xf1\\xb6\\xfb\\x7f\\xfa\\xe0\\xfc|\\xe2\\xdf\\xee\\x7f@\\xd3\\xb4\\\\\\x94\\xbd0%\\x00\\x00\\xc0\\xb2\\xac\\xc3\\x87\\x8f\\xfc\\xf9/\\x7fz\\xfa\\xe9\\xa7\\x8f\\x1d?\\xae\\x9e\\xdc\\xb2)\\x7fs\\xe3\\x9b\\xae\\xd9mz|\\xcf\\xbf\\xee\\xea\\x92\\xc2p\\xa1\\x95\\xcc\\x90 s\\x9e\\x92\\xd9\\xb4Ww;\\xc4K\\xfb\\xb7\\xbca[\\xdf\\xa3\\x07\\xe3\\xff~8~}\\xe3 \\x00 S2\\x81\\x00\\x04.\\xc30\\x93\\x16.`\\x97Z\\xa5&\\xe1\\x00\\x00 \\x00IDAT\\xe8\\xf7\\xfa\\x13\\xe9\\x04\\xe4\\xaa\\x91\\xd1\\xf9\\xef\\x7f\\xdaX\\xa8\\xec\\x8dS\\xef\\xb3\\xf8\\xe3.y\\x1d\\xe40\\x8a\\xff\\xd9\\x03\\xf8\\xef\\x8f\\xcb\\xdb\\x84\\xc2\\x89~\\x0c\\x97k\\xed\\xba5\\x87\\x0e\\x1c~\\xf5k_\\xa5\\xe9\\x1a\\x81\\xc6\\x88\\x80\\x03\\x91\\x00r/Y\\xbe\\xb4\\xb8\\xa4\\xb8\\xf9x\\xcb\\xb1\\xfd\\'\\xbc~O\\xac\\xac(\\xaf0\\xecr\\xbbQ\\x15\\xc9\\x0b97\\x9e\\x18\\x9e\\x1c\\xed>\\xd7\\x1d\\x8dE\\xb7]\\xb9%\\x1a\\x8d\\x82\\x12N\\x01\\xd0\\xb8\\x06\\x08\\x1a\\xfb_\\xec\\xbdg\\x98\\\\\\xe7u&x\\xce\\xf9\\xee\\xbd\\x95\\xbb\\xab\\xba\\xabsn\\x00\\x8d\\x0c4\"\\t\\x80\\x00\\x18\\x11H*\\xcbc{\\x1cf<\\xbb\\xd6z\\xc6k\\xcfh\\xc6\\xeb\\xf1\\xac\\xbdk\\xad\\xed\\xf1\\xf8\\x19?^o\\xb0\\xd7\\x8f\\xb3f-\\xdb\\xb2$K\\xa6(\\x82\"\\xc5\\x00\\x91 @\\xe4\\xd0\\xc8\\xe8FhtB\\xe7T\\xf1\\xde\\xef\\x9c\\xfd\\xf1\\xdd[\\xdd`\\x90\\x04\\x8a\\x10)m\\xbd\\xe0S@\\x17\\xbb\\xabo<\\xf7|\\xe7\\xbc\\xe7}\\x95\\x88\\x1c~\\xfd\\xf0\\xfa\\r\\xebMY\\xbaD\\x02^\\xbc1\\xc0\\xa0\\xb5\\xf6\\x0c\\xdf\\x07\\xfd\\xe1X\\xf1\\xe7mEY\\xca4\\xb6\\xdd\\x82\\x87\\x84\\x1cLf\\xc5G\\xa7\\xe6\\xd3\\x95\\xa62o\\x1e\\x883\\xd5\\x89\\x8a\\xc9\\x19]\\x14\\x00\\xf8\\xd4g~\\x07\\x14\\xb1\\'d\\x91\\x9d\\xcdg\\x1e\\x7fX\\x98\\xd9\\xafNc\\xe9\\xe9\\xe9\\xb9.\\x99\\xc4a\\x81\\x8cwwL\\xba{K\\r\\xc3v\\xe1\\x1eC\\xc8\\xe7\\x0b\\x93\\x93\\x93\\xe1p8(\\t\\x83\\x10\\xd8\\xcf\\x1e\\xc0@\\xf5\\xd8\\x80\\x9b\\x1a\\xc1r\\x08\\x01\\x81\\x08\\xc5\\xa4q\\x04p\\xe2\\xe4\\xa9[7\\xfb\\x1f\\xdf\\xf3XU\\xaa\\xca\\xff\\x1d\\xdf\\xed\\x02\\xf5\\xf3,_c\\xc6w\\xb23>7H\\x08\\x0c\\x1d\\xcdm/\\xbd\\xfe*\\xafb\"\\x85\\x16\\xa2(\\xb2\\xac\\xd5\\xed]\\xaf\\xf5\\xbcY[YUmW\\x80(%\\xc6\\t\\x86\\xcd\\xa6\\x98Z\\xd2|1\\x7ff\\xe8\\xca\\xf6\\xe5\\x9b\\xecP\\x88L\\x81I)$$E\\x8082=v\\xfa\\xfc9-zfv6\\x11\\x8f{\\x9e\\xd7\\xde\\xd4R\\x19\\xaf\\xac\\xae\\xaaJ\\xc6\\x13 J\\x00\\xc81%\\'\\x10\\x84\\x99\\xf9\\xb9\\x81\\xc1\\xc1\\x9b\\x83\\xb7\\xb5\\xd6kW\\xac\\xeeZ\\xb2\\x14\\x10\\xf7<\\xbe\\xf7\\x1b_}\\xe6\\x13?\\xfe\\xa9\\x7f\\xf8\\xc7/er\\x99/~\\xe1\\xef\\xc3\\xd1\\xf0]1A \\x9b\\xcb\\xfe\\xcc\\xbf\\xf8\\xd9\\x97^zi~~\\xde\\xbcW\\x95\\xaa\\xda\\xf3\\xc4\\x13\\xfb\\xf7\\xee{\\xe2\\x91\\xc7\\xab\\x929v\\xf5s/\\xcf\\xa0j-\\x1d1\\xf3\\x84b\\x81\\xb3W\\xa3/\\x1d\\xae9y\\xb9\\xf2W?}\\t\\x00\\x88\\xe4\\x7f\\xfeg\\xe7\\xff\\xdd\\x9fmzh\\xcd(\\x80\\x1f$@\\x80\\x10\\xb4\\xd6\\xd9b\\xae\\xb4\\xc0G\\x80l>[(\\x16\\xfd\\x88\\xf6\\x96E\\xc0\\xfb\\x1b2\\xfc\\x9c\\t\\x17m\\xff\\x0f\\x19~\\xb0\\x19V\\xb0bF\\xc1\\xe5]\\xcb\\xc7\\xc6\\xc6_?\\xf8\\xfa\\xa3O<JH\\x00\\xc2\\x84\"J\\x91\\x10bEe\\xc5\\xceG\\x1e\\x9a\\x9d\\x9e\\xb9u\\xe3\\xd6\\x95\\xf3\\xbdJ)\\x16v\\x1c\\xbbX(*\\xa5D\\xa0\\xb9\\xa3q\\xf7\\xde]\\xe9\\xea\\xb4\\x08\\xdb\\x96\\xcd\\xc2JY\\x00\\xa2\\x88\\xcc\\x03\\xf8\\xe0+\\xdf&E[\\xb7lY\\xb8\\x15\\xdf\\x12\\xaf\\x04\\x01\\xc1q\\x1c\\x80\\xe0Z\\x0fr \\x9f\\xf9\\xcbl\\nKV\\xc8rs\\xaeax*\\xa2B2\\x16\\xbe\\x9dS\\x88\\x08\\xc4 \\x04*6_\\xc8\\xc6\\xa3VL\\x01\\xc0?\\xfe\\xd9\\xff\\xa2\\x9a\\x9b\\xfb\\xcf\\x0c\\xaf~`\\xe5\\xd6_\\xf9m\\x00,\\xe6\\x8b\\xb6e\\x07\\xa5*\\x7fe\\\\(\\x14\\x1d;tW\\x9d\\xe2\\xdd\\xd5\\xb2\\xef\\xa6a\\xf9u\\x9c\\xdek\\xbd]]]Dd\\x06\\x89L\\xd8\\xb2\\xff\\xf6\\xef\\xde\\xf2\\xb3\\xdc\\xd2\\xe2_\\x9f\\xbe\\xba\\x0c\\x02\\xc0\\xf9\\xf3\\x17GF\\xee<\\xf5\\xd4\\x93\\xb1x\\xccO\\xfa\\x10M\\xaf\\xc8\\x9f\\xcc}\\xf7s\\x08A\\xdc5\\xe9\\x16\\x19\\xe5ND@H\\xa6\\x92\\x15\\x89\\xc4\\xe5\\x9b}\\xab\\x96,\\'\\xa5@DY*\\xae\\xa2\\xeb\\xdaV\\x1c\\xb9zzm\\xe3\\xb2\\xb6T\\x83\\xd9\\x19fT\\x88\"\\xa0\\x1c58;vv\\xf0\\xea\\xba\\xd6\\xae\\xbaT\\x1a\\x8d\\xf3\\x15\\xa0\\xb2\\x94\\x00\\x08\\xe1\\xf1\\x9e\\xd3cS\\xe3mM-\\xcb:\\x96*\"F\\x19\\x1d\\x1f\\x9b\\x9b\\x9f\\xbf}g\\xf0\\xfa\\xc0\\xcd\\xa1\\xd1\\x91\\xda\\xaa\\x9a\\x90\\xe3 \\xa2\"Ut\\x8bs\\x99y\\xdb\\xb1\\xab\\x93U\\x1b\\xd7v\\xb746\\x03\\x02*\\x85\\x00h\\xd1C\\xdbw\\xbc\\xf0\\xdc7\\x9f\\xfe\\xf8G\\xbeq\\xe0\\xb9O\\xff\\xc4\\x8f}\\xe5\\x1f\\xbe\\x1c\\x8e\\x86!\\xb8:@ \\x1a\\x8d^\\xbcpq~~\\xbe\\xb3\\xa3\\xf3\\xa9\\'\\x9f\\xfc\\xc8SO\\xef|h\\xa7\\xb2,`\\x16\\xcd\\xa2\\x05\\x11=\\xad3\\xb9\\\\\\xba\\xb2\\n\\x08\\xb3\\x05:x$\\xf1\\xb7\\xdfx\\xf8?\\x9eo\\x1d\\x9f\\xf25H\\xae\\x0cV\\x00\\x00*\\xda\\xb0l\\xf6\\xe1u\\xa3\\x7f\\xfe\\xcd.\\x00 \\xa3raY@8\\xef\\x16\\xea\\x12iP\\xa5R\\x1d\\x02HU*\\x85\\x0b\\xd3\\x0e\\xb4\\xf8h\\x97\\xb1\\x18?\\xe8%a\\xe9\\xaeE\\xc0\\x1d\\xdb\\xb7\\x7f\\xe3\\xd9\\xe7^;\\xf8\\xfa\\xce\\xdd\\x0f\\x01\\xa2\\r\\x16\\x0b\\x93\\x05Z\\x18m\\x12\\xe1TU*\\x99J\\xae\\xe9^#\"\\x85b\\xd1s=E\\x18\\x89D\\xfc\\xa5\\x8d\\xc9\\xa7\\x00,\\x93[\\x91\\x05\\x08D\\n\\x01O\\x1c=17;\\xfb\\xf4G\\x9eVJ-\\xd6![\\xd4\\xc2\\xf6c@4\\x16\\xf5\\x1f\\xa7Xr\\r\\x00D\\x8c\\xc5c\\xf9\\\\!\\t\\n\\x11\\x1d\\xdb\\x9e\\x1a\\x9bFD\\x8b\\xc8\\xd5jjEK\\xdd?}3\\x96s\\xb3Q\\x87\\x04\\x00\\xa9\\xe3\\xd4\\x8d;\\x8d\\r\\xa1J\\x1b\\x00\\x08\\xc9-\\x02*\\xb2C\\xb6\\xc9\\xeas\\xb9B<\\x11\\xc7`\\xf0\\xc1lCf~>Q\\x11_|E\\xca\\xbbdXFI\\xc2\\xcf\\xe5$xG\\xe4\\xc2\\x85\\x0b[\\x1f\\xdc*\\x81\\x8e\\x1c\\x00\\xe0\\xd0\\xb0\\xf5\\xea\\xc1\\xb7\\xfc8\\xb74#\\x02\\x02\\x05\\x1b\\x80\\xfd\\xfd\\xfd\\x97/]\\xde\\xb3oO,\\x11\\x0f\\x8e\\t\\x96\\x1a\\x91\\xefR\\xc5\\xba\\xeb,\\x9a\\xbf\\xfcq\\rB4\\x9c\\x07\\x02D\\xda\\xb8n\\xc3W\\x0f<\\xb3\\xb4\\xb5\\xc3R\\x04\\x80&\\xcfj\\xac\\xae{d\\xed\\xb6S\\xbd=WGo\\xadn\\xe8\\xac\\x0c%\"\\xb6\\x93\\xd7\\xc5\\x89\\xdc\\xec\\xc0\\xf0\\x9d\\xa9\\xdc\\xec\\x83\\xcb\\xbb\\xebR5d)T\\xa63\\x88\\xa0\\x88\\xb5~\\xe3\\xe4\\xe1\\\\.\\xb7\\xff\\x91\\'B\\xa1P m\\x0e\\xf1x\\xdc?{\"y\\xb78;7\\x97\\xcdf\\xb4\\xe7\\t@4\\x1c\\xad\\xacH\\xc4\\xa21D\\x14D\\xdf\\xfd\\r\\t\\x82\\xfa\\xfd\\xe6M\\x9b_\\xf9\\xd6\\xcb\\xfb\\x9ez\\xf2\\x9b/\\xbe\\xf0\\xe4G\\x9f\\xfa\\xfa\\xd7\\x9eI\\x94\\xa8g\\x08\\x00\\xf0W\\x7f\\xf5W\\xcdMM-\\xcd-&\\x9f6\\xf4+Y\\xb4FJ&\\x12\\x97\\xaf\\xb9\\xdf|!\\xfa\\xfcK\\x95GN\\x84\\x8a\\xae\\x7f8\\x9a\\xeb\\x8a;\\xd6Nm_;\\xddP\\x91\\x05@R\\x04\\x02\\x9f\\xfd\\xe4\\xb5O\\xfc\\xd6\\x0e\\x00@\\xe5\\xfbz\\xa1\\xa5\\xa6r\\xb3\\xad\\xe9F2\\xf6\\xf4\\x08\\x880>=\\xb9\\xa2:\\x1d\\xac\\x01\\x173\\xf0\\xdf\\xef\\x0c\\xeb\\x87\\x1f?h_B\\x00_pN\\x00\\x15\\xa9=\\xfb\\xf6\\xbc\\xfc\\xd2\\xcb\\xaf\\x1f<\\xb4s\\xf7C\\x88J\\x01\\x01\\x01\\n\\x19\\xd7\\x14\\x93y\\xb9\\x9a\\x10\\xd1\\xb2,Bb\\xd6\\n-\\x06Q\\xa4D\\xc4V\\x96\\x08[\\xca6,-@!\\xa4\\xd7\\x0e\\xbe\\x9e\\xcb\\xe6\\x9e|\\xf2\\xa9H8\\xba8\\xb3\\xc2E\\x94\\x1e\\x9f\\x04\\x03\\x18\\x8b\\xc5\\x00 \\x97\\xcb[\\x8e\\x82 \\xa4\\x12R2Y933\\xd3\\xd8F\\x16\\xa9\\xea\\x86\\x9a\\x81\\xeb\\x83\\xc0\\xa8\\x94\\x05@s[\\xbbn/\\xef|\\xea?\\xff\\xddk\\xff\\xfc\\xc9L2\\xd6y\\xf4r\\xf7\\xcb\\xc7\\x9e\\xf9\\xf5\\xcf\\xd8\\x8e\\xbf&\\x9d\\x1d\\xcf&Rq\\xa5,D\\x04\\x16\\xb7PLU\\xa5\\xfc\\xe5\\x8f_\\xfc\\xc4\\xb9\\xf9\\xf9de28$\\xefzQ\\xca\\x82\\xb4J\\xa9\\x9b#\\x08x\\xbe\\xe7|\"\\x91hnn\\x16\\x9f\\x93\\n\\x02\\x12\\xfa\\xdb/B\\xe0.\\xb1\\xf0\\t\\xad-w\\xad/DN\\x1d?\\xb5e\\xeb\\x96de\\x12\\x02~\\x02\\x94\\xca\\x8b\\xf2\\xbdE\\xab\\xc5u\\x16#,N\\x04\\xccDX[S\\xb3~\\xe5\\x9a\\xd7N\\x1e~\\xe2\\x81\\xdd\"\\xa0l%\\x02\\xa4\\xad\\x9ad\\xd5#\\xeb\\xb6\\xdf\\x1c\\xbd=<=~f\\xe0j\\xc4v\\xe6\\x0b\\xb9\\xfad\\xba!]\\xbf\\xa3v\\x93\\x1dr\\x10A\\x85\\x14\\x02\\x1a\\xd6\\x82\\'\\xfa\\xe0\\xf1C\\xd1X\\xf4\\xa9\\xc7\\xf6)\\xc7\\x02\\x10T\\xa6\\xfa\\x86\\xbe\\xf4\\x00\\x082D\\xacp$\\x1c\\xf1\\xab|\\x04\\xc8\\x81\\xec\\x9fB\\x10c\\xf1\\xe8\\x13k\\x89\\xd0\\xd4\\xeeV\\xafZ\\xfd\\xad\\x17_\\xdc\\xb7\\x7f\\xdfk\\xaf\\xbf\\xfe\\xf8\\xde\\'\\x0e<w\\xa0\\xdax)\\x01\\x00\\xc0\\xb6\\x07\\x1f\\\\\\xb4\\x83\\x00\\x08H \\x1ar\\xf9\\xfc\\xeb\\xaf\\xbf\\xf9\\xec\\x81\\xc7\\x9f{\\xfe\\x89\\xc1a\\xbfKh)\\xd8\\xbe1\\xb7s\\xf3T\\xac\\xea\\xf5\\x9f\\xd8\\xd5A\\x05\\x11\\x96+\\xd7,@ \\xc7B\\x80*\\x9b\\x7f\\xe9\\x93\\xd7\\xff\\xb7\\xff\\xb6B9\\x16YH\\x8e\\x9a-fG\\xe6\\xc6w\\xac\\xdc@\\x96B\\xcb\\x9f\\xc7\\xce\\xe4r\\xf5u\\xf5\\xfe\\xa8\\xfe]\\xb5\\x0b\\xf4\\x0f3}\\x18\\xcbI\\x1f\\x08>\\x80\\x80e\\xd6\\x0f\\xa6\"\\x13\\n\\x85\\xf6\\xec\\xd9\\xf3\\xca\\xcb\\xaf|\\xe9\\x1f\\xbe\\xfc\\xc4\\x13OTW\\xa7P,\\x06c$\\xce\\xc4\\xc4 \\x88\\n\\x01D,\\x01\\x00\\xb2\\x0c\\xab-\\xf0\\x91G\\x00\\xa5H)\\x00E4?7\\x7f\\xec\\xe8\\xb1B\\xa1\\xb8g\\xef\\x1e\\xdfx\\x1d\\x82G#\\xe2]3zA\\xd2\\x02\\x00UUU\\xa3\\xa3w\\x1a\\x9b\\x9bJ\\x8f7B\\xac\\xad\\xaf\\xbdt\\xe1\\xca\\x8au\\xcb\\x89T8\\x84\\xf1Tbjh\\xb6\\xa2!\\x8c\\xa0m\\xdb\\xf9\\xf6o\\xff\\xfc\\xaa\\xcf?\\xbf\\xf7/\\xbfj\\x17\\x8a\\x13\\x8d\\xb5\\xcf\\xfe\\xe6\\xcf\\xcf\\xac[f!\\x8e\\xae_\\x0eV({\\'\\xd7\\xbc\\xb2Q!e\\x97/\\x99\\x0c\\x87\\x93UI\\xcb\\xb2\\x02\\xc7A\\xff\\x00LOM/\\xefZ\\xbe\\xf8\\x1a\\xfcNW\\xe4\"V+\\x08\\xe4\\xf2\\xb9\\xbe\\xde\\xbe\\xed;\\xb6\\x99\\x16c\\xd0\\xdc|\\x87\\xf5 \\x00pK\\xf3\\xe2&\\xf9\\xc8\\xc8\\x88\\x88\\xb4w\\xb4\\xdf}JJ\\xd9\\xef\\xf7t\\xfaJ\\xce\\xcc\\xa5\\xc3k\\x02\\x17 !\\xca\\xa6\\xb5\\x1b\\x9fy\\xf1\\xd9+7\\xfb\\x96/\\xe9B[\\x81 iF\\x10\\x0baiSGgC\\x9b\\xe9\\x97\\x06\\xcboDRh!\\x11\\x91\\xa5\\x90H\\xd9*\\xef\\xbaG\\xce\\x1c\\x0fEB\\xbb\\xb7\\xedDe\\x0e\\x1b\\x99\\x0c+\\xe0\\xc6\\x9a\\nw\\x89\\xe1\\xe9\\x1f@TA3\\x02\\x17\\xe5*\\xa6hC\\xc6\\xdc\\x01\\x01`\\xc5\\xf2\\x15\\xdf~\\xf5\\xe0\\x9e}{O\\x9c<\\xb9w\\xdf\\xde\\xe7\\x0f<_SS\\xf3\\xd6\\x03\"\\x00\\x00wF\\xef\\xbc\\xf8\\xe2\\x8b\\xcf\\x1d8\\xf0\\xc2\\x8b/\\xce\\xcd\\xcf55\\xf6\\r\\x0ew&\\xe2\\x85Gw\\xc9\\xde]\\xf9\\xbd\\xbbsq+\\xc7\\xcc\\xc7/\\xd2\\x85\\xe1\\xbe\\xf55\\xcb@Igk\\xf1\\xf9?<MJ\\x01\\x82b\\xf8g\\x8f\\xdeyr\\xc7T<\\x0ed+R\\xea\\xf4\\xed+\\xddm\\xab,\\xdbA\"$\\x85Dw\\xa6\\xc6\\xe3\\xd1h<\\x1a3{P\\x1a|\\x80\\xd2\\xf1\\x15\\xc1\\xef\\xb9}\\xfc#\\x8f\\x0f `\\x19\\x98\\xf0! \\xb6c\\xef\\xd9\\xbb\\xe7\\xc2\\x85\\x0b/|\\xf3\\x85\\xb5\\xeb\\xd6\\xaeZ\\xbdR\\x91\\x85\\xc4\\x80\\x8aQ+\\x00\\x8d\\x86\\xfd\\xc3\\x88\\x14hT\\t\\xa2\\x02\\x11EJ@,\\xa54\\xcb\\x95\\xcbWO\\x1c;\\xb1v\\xdd\\xda\\xee\\x8d\\xdd6\\xd9\\x10\\x8c\\x90\"\\xc0\\xddJ\\xaf\\xe6M\\x04\\xa3\\xa3\\x01\\x92H\\xc4o\\xf7\\x0f\\xb4\\xb453\\x03\\x11\\x8a\\x00\\x91J\\xd7\\xa4-\\xcb\\x9a\\xb83\\x19KEYI\\xcb\\xd2\\xc6+\\'{#\\t;T\\x11\\x12\\x11\\x8e\\xd9\\x17\\x7f\\xe1\\x93\\x17\\xe1\\x93\\x9a=\\x0b-\\x16\\x8e\\xd8a@8\\xf4\\xc7\\x9f\\x1b\\xbe:\\x1a\\xab\\x88&*\\xe2\\x8e\\xe5\\x0c\\xfc\\x87\\x7f}\\xedL_CK\\x83R\\x16\\x9a\\xe9e\\x02Bt]=11\\xd1\\xd4\\xdc\\xb0x\\x93\\xde\\xda\\x08\\x0c\\xde\\xf4\\xa7\\xf7\\x04J\\x99\\xc5\\x99\\xd3gR\\xa9TMM\\xda3\\xe2\\x01 \\x08\\xa2\\xde<NW\\xaf\\xbd\\xfd\\x13\\xb8\\xb99\\x18\\xbd\\x06\\x00\\xb8\\xdd?P[_{wdB\\x00\\x11`B\\xf5\\xf6\\x1f\\x7fg \"\\x81\\xf1\\xb12N*fah\\xf2\\x1a;\\xe2<\\xbe\\xfb\\xb1o\\x1fy\\x1d-\\xeaj\\xea\\x10\\x11tl\\x16\\xb1\\x80\\x00DkF\\x00\\xd0\\x0c\\xca\\x9cRB\\x02\\xb2,@P\\xb6\\x8d \\xb3\\x85\\xcc\\x1b\\'\\x8f\\xa6\\xabk\\xb6m\\xda\\xaa,KP\\x02?Q\\xf2_\\x83\\x02\\xf6\\xc2\\xa8\\x9cO\\xd9\\x17\\x11\\x02\\xc3\\xd92\\xe7\\xd6_\\xe1\\x1b\\xa5\\x9a`\\xd6\\x12E\\x10\\xdb\\xdb\\xdb\\xbf\\xfd\\xeak{\\xf7\\xef=}\\xe6\\xcc\\xc3\\x8f<\\xf2\\xe2\\x0b/655\\x99\\x9d\\xd3\\xda;|\\xe4\\xc8\\x81\\x03\\xcf=\\xff\\xfc\\xf3=\\xe7\\xcf\\x97\\xf6xc\\xf7\\x86\\x1f\\xff\\xd4\\xe0\\xf6\\xadu3\\x99WkR\\xa9\\xe5\\xcdKX\\x8b\\x97W\\xa4a\\xfd\\x92\\x95/\\x9d=|~\\xfc\\xc6\\xba\\x86\\xa5NL\\xec\\xb0\\x08;\\xc6b\\x11\\x01\\xaab\\x08\\xca\\x01\\x85Go\\x9fO\\xc6\\x13]\\x8d\\xedd)\\xb2}\\x0eZ\\xdf\\xc0\\x8d\\xc6\\xba\\x86\\x12\\xe7d\\xb1d\\xda\\xc2\\xf9)#\\xc0\\x07\\x16\\xb0|\\xcam0c\\xb8f\\xcd\\x9a\\xc6\\xa6\\xc6\\xc3\\x87\\x0e\\xdf\\xbau\\xab\\xb5\\xadu\\xf9\\x8a\\xe5\\xb6c\\x13)S\\x0f\\x06\\x011\\n\\xbcB\\xc1%j\\x1aT\\xa8\\xb5w\\xe5\\xd2\\xd5\\xc3\\x87\\x8f\\xb447\\xef\\xdf\\xbf\\xb7\\xbe\\xa1\\x01\\x00\\x82^\\x88\\xff\\xac}w.\\x89\\x00@Kk\\xcb\\xf9\\x9e\\x0b\\xa5-\\xf2\\xef!\\x80\\xae\\xd5\\xcb\\x06n\\x0c\\xae\\xaa^\\xa1@\\xa2\\xb1h\\xeb\\xb2\\xa6\\xc1\\x9b\\xc35\\xadUN\\xccaa \\x04\\x10fE\\xa0\\x00\\xfd\\x1e\\xe5\\xd8\\xf5\\xc9b\\xc6]\\xb9a\\x05)\\xb4\\xc8\\x9a\\x9e\\x98.\\xe4\\x8b\\xcd-M\\x0b\\xd2\\xe9\\x80\\x80884XQ\\x91p\\x9c\\xd0\\xe2\\xbe\\xf5\\xbb\\x97\\xdc\\xfd`f\\xd2\\xd2\\\\6w\\xee\\xec\\xb9\\x9f\\xf8\\xa9\\x1f\\xf7\\xcb8\\xe0\\xf7\\xa9\\xad\\x17\\xdf*\\xcee\\xc0\\xc1\\x92\\xd0t#\\x8b\\xc5b4\\x1a}\\xdb\\x00\\x90Iw\\xee\\xe5\\xce@\\x0ct\\xa6\\xfd8\\x00\\x84\\xc8\\x0cH\\x84\\\\\\x95Jm\\xdf\\xfc\\xe0\\x0b\\x07_\\xcaf3\\xdd+\\xd6!\\x8b\\x02a\\xf3+=\\r\\x08\\xc0\\x81 \\xa8\\xd1\\xdf$BB\\xb4\\xb0\\xb7\\xff\\xe6\\xc5\\xebW\\xba:\\x96\\xae[\\xbd\\x16\\x8c\\x163\\x04\\x14\\xbaE\\xaf\\x0b\\x1b!\\x8b\\xb6\\x05\\x8d\\x00\\n\\xf9nT\\xc1\\xf9_\\x94q\\x19^\\x81\\x7f\\xa2\\x1b\\x9b\\x1a^z\\xf1[{\\xf7\\xef;\\xd7sn\\xd7\\xee]_\\xf9\\xf2\\x97\\xfb\\xfa\\xae\\xbf\\xfc\\xf2K\\xcf<\\xfb\\xf5;w|\\x9d\\xfeh4\\xfa\\xc8\\xc3\\x8f<\\xfd\\xe4\\x93\\xfb\\x9f\\xd8\\xdf\\xd0P/\\x1e\\x0b\\xf3\\xc0\\xed\\xa5\\'zN-k\\xe9DEJ\\x11#8\\x8e\\xf3\\xc8\\xfa\\x07\\xdf\\xbcp\\xfa\\xd8\\xc0\\xc5U\\xe9\\xf6h(\\xc2\\xae\\x07\\x88 lN\\xfb\\\\1sf\\xe0Z\\xc4\\to^\\xb2V9\\x16\\xda\\n\\x14\\x91\\xa2\\xe9\\xf9\\x99\\xa9\\xd9\\xe9\\x1d[\\x1fD*U\\xdcp\\xd1\\xb5P^\\x08\\xbe\\x15%\\xf3\\xc5\\x0f\\x06\\xe2\\xd7`|\\xd5n\\x10\\x1c\\x1e\\x19\\xee9\\xd7s\\xeb\\xe6\\xad\\xf6\\xce\\xf6\\xd6\\x96\\xd6\\xda\\xfa\\xdaX,J\\x08\\xdaw\\xb8\\xf5\\xab\\x18n\\xc1\\x1d\\x1a\\x1e\\x1a\\x19\\x1e\\xbe}{\\xa0\\xae\\xben\\xe9\\xb2%m\\xad\\xed\\xe0_\\xaeh2\\x11\\xf0e\\xf4\\xe0\\x1d\\x1fR\"\\xc2\\xa0E\\xc0s\\xbd\\xcf\\x7f\\xfe\\xf3\\x1f\\xff\\xe4\\xc7\\x13\\x15q\\xd7\\xf3D\\xb8\\xe0\\x16D$[\\xc8\\xbc\\xfe\\xd2\\xa1\\xda\\xc6\\x9a\\xe6\\xce\\xe6la^\\x84G\\x86F\\x07\\xae\\r\\x86\\x12\\xe1\\xaa\\xa6\\n\\xb4\\x90\\x08]\\xf6,\\xb4\\x849;]\\x98\\x1c\\x9cr\\x1cg\\xc9\\xda\\xf6x,\\x01\\x08!\\x15=\\xf9\\xc6\\xa9\\xae\\x15\\xcb\\x9a\\xdb\\x9b\\xa2\\xa1\\x18\\x00D\\xec\\xb0 :\\xca9\\xf8\\xea\\xc1\\x9a\\x9a\\x9a\\xee\\xeen\\xf2\\x05\\\\\\x82\\xc5\\xce\\xdbB\\x06\\xfbS!\\x02\\xe0\\x1b\\xf3\\x1d=z\\xb4P(l\\xdf\\xf1\\xa0\\x00\\xb2h\\x10`\\xd1\\x02\\x88\\xd7z+\\xb6\\xef\\xc2\\xdc[\\x15PgF\\x87$\\x1aQ\\xfe\\xb3\\x1b_\\xfe\\xd6+\\xd5\\xe9\\xea\\xcd\\x9b7\\x99\\x9b\\x1faa\\xa5\\xac\\xe8{\\xce\\xb0J\\xe7N\\x048\\xd0\\x8a\\xd5\\x00\\xc2\\xc0\\xac5\\x800\\xbb:\\x93\\xc9\\x1c:\\xfa\\x06\\x8b\\xacY\\xba\\xb2!]\\xcb\\x9a\\x81E\\x98\\x05\\x018h\\xf3+\\x12\\x00R0:=u\\xea\\xe29\\x01~p\\xe3\\xd6\\x9a\\xea\\xb4\\xd1`!\\xa5\\x00\\xc0\\x98!\\xa3)E\\x95Z#\\x8b^\\xcd\\xba\\xa9$\\x8a\\x02>\\xd1\\xc8g\\x92\\xdcu\\xdb\\xfb\\x1dQ\\xf1\\x1d\\xab\\x04&&\\'\\xf6?\\xf9\\xe4\\x89\\x93\\'l\\xdb.\\xc9\\xe1v-\\xebz\\xea\\xa9\\xa7\\x9e\\xdc\\xb7\\xff\\xa1\\xed;\\x1c\\xc76\\x13\\xf1\\xc2\\xc2Z@\\xb3h\\xfd\\xec\\xb7\\x9eO\\xa7\\xaa7\\xadZ\\xc7y\\xcd\\xcc\\xbaX\\x14\\x8f\\x8b\\x85\\xe2\\xf9\\x9bW\\x86\\'GcN4\\x15MD\\xed\\xb0\\x08d\\xdd\\xec\\xe8\\xfc\\xd4\\xf8\\xdc\\xf4\\xa6\\x8e\\xd5\\x9d\\r\\xad\\xca\\xb1\\xc8\\xb2\\xc8\"\\x15\\xb2\\x00\\xf1\\xeb\\xaf\\xbd\\xb0\\xbak\\xe5\\xaa\\x95+\\x11\\xc9r,@@K\\x01 \\xd9F5\\xcd\\x18x\\x05\\xe3\\xdfe|\\xe0\\x01\\xcb\\x80Y\\xfbsr\\x00Z\\x04\\x10\\xe6\\xe7\\xe6/_\\xbe<1>1=3\\xed\\x15=D$\\xa2P$\\x94\\x99\\xcb$*\\x12\\xbd\\xbd\\xbd\\xed\\xed\\xed\\x91H\\xa4\\xa6\\xa6\\xa6sIguU\\xb5\\x9fs-J\\x93\\xcc\\'\\x7fg\\xee8\\x9b\\xf10\\xe6W_=h;\\xf6\\x83\\x0fnu\\xb5\\'\"y/\\x8f\\x02\\xb9bnzj\\xfa\\xd4\\xb1\\xd3\\xcbV/\\x0bW\\xd8\\xc2\\x92+\\xe4\\n\\x85\\xc2\\xc0\\xf5\\xa1\\xb1\\xdb\\x13\\x91D\\xc8\\x0e\\xdb,\"\\x9a3S\\xd9x2\\x96n\\xac\\xaai\\xaa%\\xc0H(\\x02H}g\\xfb\\\\\\xd7\\xdb\\xf9\\xd8\\x0e\\x00\\x8a8\\x11\\x00\\x0c\\xdb!D\\xd4\\x1e\\x7f\\xf5+_\\xfd\\xd4\\xa7?\\x15\\x8dF\\x95\\xefC\\xe1\\xdfUo\\tX\"\\xc2\\xc2\\x08h<\\x1cM\\xc4:\\xf0\\xdc\\x815\\xeb\\xd764\\xd4\\x03\\x80f\\xed\\xb7\\xb2\\x00dn.\\xf4\\x97\\x9f\\xb7_y\\x15\\xc7\\'\\xd0u\\xa9\\xff6f2\\xde\\xb6\\x07\\xdd\\xfd{\\x8b\\xff\\xfe\\xdf\\x99\\xc5\\x06\\x01\\xcc\\xfc\\xe4\\xcf\\xdc\\xfe\\xa5_\\xec\\xde\\xb5\\xd34\\x17\\x10\\xb0\\xc4cxO\\x01\\x0b\\x8c\\xa0\\xb4\\x08\\xa3\\x00k\\x01\\x11_\\xf1\\xa2\\xc8\\x00\\xa0\\x8b\\xee\\xe5\\xbe\\xab}7\\xaf{\\x9e\\xb7\\xac\\xb5\\xb3\\xb9\\xbe>\\x1a\\x8e!\\x90\\x08\\x1b\\xf1\\xc1\\xf9\\\\\\xae\\x7fx`x|4\\x97\\xcf.m\\xefX\\xb9l\\x85\\x15\\xb2\\x11\\x10-\\x13\\xaa\\x08\\xa04Xw\\xd7\\x99\\xf5\\x81\\x0b\\xcd\\x08\\xbf\\x95\\xe7\\xa7}%{+\\x93y\\x95\\xfeo\\xb0\\x02^\\xf4\\x0c\\x9b\\x9c\\x9cllnr\\x1c\\xe7\\x81\\xad[?\\xf2\\x91\\x8f>\\xb9\\x7f\\xff\\xd2%K\\xc4\\\\\\x8f\\xc2~\\xe3\\xc3<84\\x0b\\x8b\\xb8z>3\\xf7\\xa5g\\xbf\\xbas\\xcb\\xb6\\xd6t\\x93\\xb0xE\\x17D\\xbc|\\x11\\x01\\xb3\\x99\\xec\\xf0\\xf4\\xd8\\xd4\\xect\\xd1-h\\x90X8\\x96\\x8c\\xc4\\x9b\\xab\\x1b,\\xdb\"\\xcbB\\x0b\\x95\\xadP)r\\xacs\\xd7.\\xdc\\x99\\x1c\\xdb\\xff\\xc8\\x1e\\xe5X\\xfe\\xf8$\"\\x19Gh\\xcb\\\\\\xcc\\xc1l\\xfcwm\\xdd\\xfe\\xff\\x06\\x1f\\x8a\\x80U\\xda\\x86RS\\xcc_\\xef\\xb0\\x00B6\\x9b\\xcdd2\\x99\\xf9\\x8c\\xd1\\xc9\\x8c\\xc6\\xa2\\x91H$\\x11\\x8bs\\xa0iG@\\xe2\\x17+\\xd1\\x17\\xba\\x0b\\xbe\\xfc\\xce\\xbf\\xd7\\xe4/,<?7\\xff\\xb5\\xaf}\\xedc\\x9f\\xf8h(\\xe4\\x08\\x80\\xeb\\x16\\x19\\xa4\\xe0\\x16\\x05\\xf8F\\xdf\\x8dK=\\x97W\\xac\\xefJ\\xa5+\\xf3n\\x81\\x99]\\xb7\\xc8\\xcc3\\xd33\\xf9\\xf9\\x82\\x08[\\xb6\\x15IFc\\xd1\\x18\\x80\\x84\\xec0\\x828v\\xf8\\xf2\\xd9\\xabn\\xc1\\xdd\\xb2cs<\\x12\\x07\\x90\\xb0\\x13\\x15\\x81\\xb0\\xed\\x00\\xe0\\xb17\\x8fk\\xed=\\xfc\\xc8#\\x08HA\\xab\\x9e\\xfc\\xe9\\xdb\\xbb\\x8eI\\x90u\\xfa!\\x89Y\\xe6\\xe6\\xe7\\xfe\\xea/\\xfe\\xea\\x17\\x7f\\xe9\\xdf00\\x08h\\xd1\\x00\\xc0\\xcc\\x94\\xc9\\xc4\\x1f\\xdb\\xab[[\\x0b?\\xf9\\xe3X,\\x84\\xff\\xec\\xaf$\\x12\\xce\\xfe\\xd7\\xdfU}7#\\xbf\\xff\\x07s\\xaf\\xbfb\\x08\\x9a\\xc8\\x1c\\x8f\\'_\\xfb\\x87\\xbf\\xdf\\xfa\\x89\\x8f\\xa3\\xdfC{\\xef\\x01\\x0b `X\\x88\\x18{>f_HOD\\xc0xsy\\x1a\\x04X\\xeb\\x9b\\xb7o\\r\\x0c\\r\\x0e\\x8f\\x8e\\x10R8\\x1c\\x06\\x01\\xcd^._P\\x8aj\\xaakZ\\x9a\\x9a;\\x9a[\\xc9\\xb2\\x10\\x11\\x15\\x01\\x82\\xd1\\xb1\\xf0gn\\x89\\x08D\\x8c\\xab\\xa8\\xc9\\xb0\\xc8\\xd7\\xa2\\x83 \\x91\\x82R82R]H~#8 l\\xbc\\xe3\\xc6\\x9b\\x00w\\xe2\\xe4\\xf1-[\\xb7.[\\xb6\\xec\\xca\\xa5+%\\xa9s\\xffS\\x8d2*\\x1b\\x9b\\x1c\\x93B\\x02k\\x11\\xd6\\x03\\x03\\x03\\xaf\\xbdyh\\xc7\\x86\\xad\\r5\\r\\xda\\xd5\\xc2,\\xae+\\x0c\\xeci\\x11\\x01-\\x02\\xfe\\\\\\xaa_\\x9cR\\xca\\x8c\\x1c)\\xa5P\\xd1\\x95\\xdb}Wo\\xf6\\xed\\xdd\\xfdX<\\x11\\'\\xdb\\x02C@CTA\\x8c\\x16\\x9f\\x8d\\xf2a\\x99:\\xfe\\x90\\xe0\\x03\\xaba-F\\xe9\\xb1\\x89\\x08\\xcc\\xfe\\x08\\x83\\xa9m!b,\\x1a\\x8dF\\xa3~\\x1f\\'h\\xbf\\x83\\xf8N\\xee\\xe6gKw\\x9d\\xc9S\\xeei\\xe9\\x8f\\x80\\xf1\\x8ax\\xe7\\x92\\xce\\xb3\\xa7\\xcfm\\xdd\\xbe\\xc5,<H\\x8c@\\x8djnkB\\x90\\xab\\x97\\xfajj\\xab\\x9b\\x964Y\\x16\\x880\"\\xa4\\xaa\\xab0\\r\\xac5\\xa1\\x12d\\xa5\\x8c\\x12\\x83\\x95\\x99\\xcf^9s\\xdd+\\x16\\x1fz\\xf4!\\xcbR\\x81b\\xbaOi\\x98\\x9e\\x9a\\x1e\\x1b\\x1b\\xdd\\xb3gO)\\x9f\\xc2@\\xe6\\xe3\\x9d7\\xce\\xbfo\\x8cp\\x9e\\x8c\\x8e\\x8e\\xaeZ\\xbd\\x12\\tQ\\xdf\\xd59t\\xfe\\xf4\\xcf%\\x1c\\x99\\xfb\\xe2\\xdf\\x987\\x8b\\x1fy:\\xb9\\xe1\\x01u\\xe1\\x12DB~\\x11\\x10\\x16\\xcae\\x96\\xef4a\\xf6\\xfd\\xfb\\xab\\xe9\\xa2\\xcf\\xd5\\x0e\\x8a`R\\xda\\x1d\\xa1\\xa0\\x9b\\x8b\\x08 \\x9d\\xed\\x1d\\x1d-\\xed\\x802;;\\x97-d=\\xd7s,\\'\\x1c\\x0e\\'\\x12\\x89`\\xc5C\\xa8\\x10\\xc0\\xf4\\x84\\x01\\x14\"\\x98\\x1f\\x0f\\xeez\\x02\\xa3\\xcc\\x85\\x0b_\\xbe\\xb5\\x10\\xe7\\x97\\xb4\\xe8\\xee\\xda\\xd5\\xbb\\xed`\\xd0\\xdf\\xfc\\xf6k\\xaf\\x01\\xc0\\xae]\\xbb\\x82\\xc3\\xe1\\x8f#\\x08\\x82\\xbf7\\x84\\xa0\\x11\\xd1\\xa8\\x81\\x8aQ~mjl\\xda\\xb1e\\xfb\\xd1\\xd3\\xc7Vtv-oY\"D\\xc2JT\\xd0\\x12@MH\\xc2\\x10\\xb87\\x13(TD\\xa0H\\x14\\x9e\\xeb\\xbdxs\\xb0\\xff\\xd1\\xed\\xbb\\xe3\\x89\\x04*\\x0cjW\\x8b\\xebn\\xfe\\x8a\\xf5\\x07\\xe5\\xc3\\xf7C\\x83\\x0fE\\xc0Z\\x04$\\xa2\\xd2\\xa0\\x1c\\x98j;\\xa8\\x85\\xc6>\\xf8\\x97\\xaf\\x90\\xa0\\x10#+T\\x0b\\xa9\\xfe=V)M\\x82\\xc6\\xa8Qp\\xd3\\xc6M_\\xfa\\xd2\\x97\\xda\\xda\\xdb\\x1a\\x9a\\x1a,\\xb2\\x04\\xc0\\x11[DB\\x10n_\\xd2Y\\x99J\\x9e=yn\\xf2\\xe8TSKCMs\\r!y\\x96F\\x04\\xcdl\\x02\\x81Rj~&s\\xab\\xef\\xf6\\xe8\\xc8xkGs\\xd7\\xcae\\x11\\',\\x08\\xb6\\n\\x01\\x88Y\\xfa\\x11\\xaaco\\x1e\\xef\\xe8hO$\\x12X\\x8a\\xab\\x02\\xf4\\x1d\\xaeJ\\x84\\xc5\\x19\\xc4\\xfc\\xdc\\xbc\\xed8\\x0b\\r\\xc5\\xe0\\xce\\xb2\\x8e\\x9f,~\\xe2c\\xa5\\xc9\\x1d\\t\\x87\\x8aO\\xef\\xb7\\x8e\\x9f\\xf0v>\\x04\\xae\\x87C\\xc3F3\\x84D\\x00 \\x97\\xcdbp\\xdb\\xfb\\x1f\\xf2}\\xc4\\xac`^\\x07\\x01\\x84\\xfc\\x88\\x85\\x08\\xc0`!\\xb0\\xd1V6\\xa4v\\xb1\\x18\\x05*S\\xa9JH\\x05c\\x95l\\xeeH\\x7f\\xc9c2>\\x05\\xe2\\'\\x16\\xe8S\\x19\\xc8\\xffn!\\x006\\x84,\\x0cf\\x9a\\x16;\\x8c\\x96\\xfe]:`\\xdf\\xd3\\xae\\xbd\\xfe\\xfa\\xeb\\x00\\xb0k\\xd7.\\xa4\\x12e\\xc2\\xd86\\t\\x18yXF\\xa4`\\xcf\\xd8Dh!\\xc0\\xb6\\xb6\\xd6h4\\xf2\\xe2\\xb7_\\x1e\\x1e\\x1dy`\\xfd\\x96h$$,d)a\\x81\\x90\\xe5/I\\x05\\x0ci\\xd7H\\xb4M\\xce\\xcd\\x1c;w2\\x1c\\n=\\xf9\\xe8\\x9eX<\\xbe\\xd8\\x1d\\x03\\xc9\\\\\\x08\\xb4(n\\x96\\x93\\xab\\xb7\\xe2\\xc3\\x16\\xb0\\xe0\\xede\\x8a\\xb7\\xc8\\xaa\\xf8\\xdf$\\xa6KXj6\\xbd\\xf7_f\\x16\\x01\\xe1px\\xd7\\xee]G\\xde8\\xbc\\xff\\xa9}\\xa1p\\xc8\\xcf\\xee\\x80\\x08=DUQY\\xb1\\xe3\\xd1\\x1d\\xfd7\\xfa\\xaf_\\xb9~\\xa3\\xf7\\xa6\\xb2\\xacTM*\\x14\\x0e\\x13\\x89\\xe7\\xea\\xf9\\xd9L>W\\x98\\x9e\\x9cn_\\xda\\xbe\\xed\\xe1\\x07+**@\\x0c\\x03RL\\xcd\\xdf\\xac\\xf8\\xce\\x9e=;??\\xbfn\\xfd\\xfa\\xd2\\x8e}\\x97\\xe7\\xbf\\xcf\\x18\\x85\\x05\\x9e\\xbb\\x88]\\xca\\x8f\\x16\\x15\\x92qx\\x84k\\xd3\\x18\\xf4\\xf9E\\x80\\xeb\\xea\\xac\\xf3\\xe7\\x01\\x91\\xfa\\xfab\\x1f\\xfb\\xd4\\xe2`\\x9eHT,\\nW\\xef\\xc7Ma\\xbat\\xa5g\\x86o\\xc6f6\\xc5T\\xc9M\\x100|\\xf3\\xc0\\x0b\\xcbD ?C6\\xf9\\x94Y \\x9b\\xa5\\x9fQ\\x19\\xf5\\x97yA2d\\xd8^A\\x1a\\x02\\xdf\\xe1\\xf5\\xad\\xf0\\x871\\x17o\\xb59\\xf9\"\\x87\\x0e\\x1d\\x02\\x93a->(\\x81\\xc2\\x9e\\xff\\xa6\\xbf\\xfd~>I\\x04,\\x02\\x8c5\\xe9\\xf4\\xa7\\x9f\\xfe\\xc4\\x99\\xf3g\\xbf\\xfc\\xcd\\xaf-\\xef\\xe8Z\\xd2\\xdaQS\\x91\\x04\\x02\\x16F \\x00\\x9f\\xfa\\x81\\x00#\\x93c\\x17z/\\xe7\\x8b\\xc5%\\xed\\x1dk\\xbaV\\x92\\xad\\x90\\x10(P\\xe3\\x82`p\\x1a\\x010\\xf0\\xcd,\\xc7\\xab\\xb7\\xe1C\\x18\\xb0\\xee\\xc2B)\\xfa\\xad\\x93+\\xef\\xdb\\xc9DP\\x82L\\x04\\x1d\\xed\\x1d\\x83\\x03\\x83/\\xbf\\xf4\\xea\\xfe\\xa7\\xf6)$\\xb1\\x1c\\x10\\x01\\x12\\x16!DaX\\xb2\\xa4\\xb3\\xb3\\xb3#\\x9b\\xcb\\xdc\\x19\\x1e\\x9b\\x9f\\x99\\xcb\\xcef\\r\\xa5\\xb1\\xba\\xba\\xaa\\xba\\xba\\xba\\xb2\\xaa\\xd2ql\\x01\\xb4\\x95\\x85\\x82\\x96e#\\xa0\\xb2,\\x14\\xb0\\x94\\xd5\\xd7\\xdb\\xd7{\\xb5\\xf7#\\x1f\\xfd\\x88\\xb1\\xa7/\\xc5#z\\x97\\x06\\x90\\xd9q\\x06.i\\xa9#\\xa2\\xed\\xd8\\xd9\\xd1\\x8c\\x7f\\xff\\x94:\\x0c\\x0c\\xd2PO\\xa3\\xe3\\xb8p\\x83\\t\\xdd\\x19\\x95\\xfaz\\x00\\xe0\\x15+J5,b\\x8e\\xc5\\x93\\xb1h\\x14\\x16\\xfb\\x9f\\xbc\\x1f\\x0fr\\x13d\\x84\\x05\\x81\\x8d\\xdf\\x01\\x18\\n\\x94\\x99\\xb64\\xe6;B\\x00\\x02b\\x95\\x94\\xe1\\xcd>\\x94\\x16\\xad`\\xc8\\x9ed\\x96\\xfb~\\x0ee\\x9e\\'A\\xf6\\xf1}\\xe0m\\xa5Z\\xb3t\\xed\\xe9\\xe9\\x99\\x98\\x98hnnnoo\\x7f\\xeb\\x1e\\x99\\x1c\\xcb\\x14\\x13M\\x00!\\x84`?\\xcd\\x8aO\\x84\\xc2\\x8a\\x1e\\xdc\\xbcu\\xdd\\xea\\xd5\\x97\\xae\\\\9r\\xe6(\\x00V\\'S\\xe1P\\xd8\\xb6l\\x11.\\x14\\x8b\\xf3\\xd9\\xf9\\xa9\\x99\\x99x,\\xd6P[\\xbfv\\xd5*\\xc7\\t\\x9b\\x9e-(\\xf4-H\\xd0\\x97\\xce\\x13\\x02\\xbf\\xbfiHm\\xe5\\x80\\xf56|\\xd8\\x03\\xd6\"\\xdc\\xc7\\xb3\\x87\\x80\\x0c\\x02\\x00\\xdb\\xb6o{\\xe1\\xf9o\\xbe\\xf6\\xea\\xeb;w?d\\xae\\x18s51\\x10\\x90\\x18\\xdeg$\\x12\\xed\\xe8l7\\x16\\xf0,LD,l\\x91e\\x84:\\x05D\\xa1%\\xe4\\x1b=\\x10\\x10\"\\xdc\\xbcq\\xf3\\xf8\\xb1\\xe3O<\\xb1\\'\\x16\\x8f\\x05\\x19!\\x96\\xe2\\xcewE\\x90aAEE\\xe5M\\xef\\xd6\\xc2V\\x07\\x1d/o\\xf3&\\xe7\\xeb\\xdf(\\xfc\\xf2\\xbf\\xf15\\xe1\\x8aE\\xe7\\xc07\\xb3\\xbf\\xf5\\x9b\\xe6\\xfb\\xcc\\x1a\\x83\\x82[6U\\x95\\x02\\xbc\\x0f\\x07\\xb3\\x94\\x86\\xf8_\\x88O.E\\x08\\xcaO\\x0c\\x88\\xc0f\\x8bL\\x9e\\x150@M\\xe4%\\x94R>\\xb5\\x90` \\xe0\\xbd\\x95rX\\x8c\\xe0X);\\xf5\\xc7\\xb0\\x82\\x15\\x9f\\xbf\\xd8baf>x\\xf0U\\x00\\xd8\\xbd{\\xb7f\\xfd\\x0e\\xc4=\\xf3\\xb7\\xef,*`\\x94\\x0cK.n(\\x86d\\xa1\\x11\"\\x91\\xd8\\xc6\\xb5\\xdd\\x1b\\xd6tOLONNM\\xcd\\xce\\xcd\\x16\\x8aE\\x8b(\\x16\\r\\xd7\\xd7\\xd4\\xa6k\\xd2\\x15\\xb1\\x04\\x06\\x05u\\xd3\\xf1\\x10D\\xf0+\\x9c\\x08\\x14\\x9c\\xa7\\xd2.\\x97\\xa3\\xd5;\\xe1\\x87(`\\xdd/\\xf8\\xc5$\\x01F\\xb6\\xc8\\xda\\xbf\\xff\\xc9\\x97^\\xfe\\xd6K/\\xbe\\xf4\\xd0\\xae\\x9d\\xf1\\x8a8\\xa1\\xc5\\xc2\\x8aHX4Y\\x00\\xe2XJ\\x04\\xd9t\\xf4\\xcd\\'\\xf8\\xfdJ\\xd3\\xf5C\\x85\\n\\x11,4L\"\\xeb\\xe2\\x85\\x0b\\xe7{.<\\xb1gOC}=\\x18\\xa1(\\x10\\xb8\\x97\\xae\\x9c\\xb9]\\x10\\xb1\\xae\\xbe\\xb6\\xf7\\x1f{w?\\xbc\\xcb\\t9\\xc1|\\n*$\\xf73?\\xef\\xfc\\xdd\\x17c?\\xf7\\x99\\xe2\\xcf\\xfe\\x14\\xb8n\\xf8\\x8f\\xfe\\x84;\\xda\\xf4\\xc7?f\\xbd\\xf0\\x02\\x00\\xf8\\x8a2\\x88\\x99\\xccl\\x0c U]\\x15Tj\\xde\\xb7E\\xa1\\xff9%V\\xa7\\x000\\x83?J-\\xc2\\x08$\\xbe\\xf9\"\\xf9\\x13\\x88\\xe2\\x07\\xa8\\x92;\\x8b\\x00`PT\\xf7\\x03\\xc7{\\xc8\\xaa\\xee\\x1a\\x18\\x10()\\xb5\\x8a0r\\x10\"\\x03\\xfa\\x16\\x04\\x05\\xac\\x9d\\xbbv\\x96jF\\x01G\\xab\\xb4W\\x88\\nQ\\xfc\\x9e\\xb5\\xe1\\x822\\x88_\\xcc\"\\x04\\x01\\xe5OJ\\x13\\x88\\xa4kjjj\\xd2w%t&\\x00\\x97\\xf4\\x8e\\x11}\\xda\\xb3\\tX\\xc1\\x08tp\\x0c\\x02\\x8aq\\x19\\xef\\x84r\\x13\"\\x80\\xcf\\xd7\\x11$|\\xf4\\xb1G\\xd35\\xe9\\x97_z\\xf9z\\xefu\\xf1\\x17,H\\x14\\x08\\x81\\x03\\x91\\x19o#E\\x88J\\x19\\xcf\\x0bBBe|z\\x14\\x99\\x84\\xbfP,\\xbeq\\xe8\\x8d\\x9e\\xb3\\xe7\\xf7\\xed\\xdf\\xe7\\xbbE\\x04\\xe9\\xd5=\\xf61\\x01\\x00L\\x01k\\xed\\xba5\\xd7\\xaf\\xdfX\\\\\\xdf\\x10\\x00\\xa9H\\xcc\\xbd\\xfcM^\\xb52\\xf4\\'\\x7f\\x16\\xfa\\xfc\\xdf\\x14\\xf7\\xef\\x9d\\xff\\xea\\x97\\xc5\\xb6\\xa4\\xad\\xd5\\xfd\\xc8S\\xa5D\\xe5\\xea\\xd5\\xde\\xc1\\xfd\\xfb\\xd0\\xf7=\\x0e>\\xfc~\\xdc\\x1a\\xb8\\xe8?X\\xe8|\\xf9o\\x05y\\x0c\\x98~\\xdab\\xf2\\\\\\x89\\xe7}\\xafY\\x15k\\xcdZ\\xb3\\xc7\\xac!\\x08[\\xc6\\xaf\\xb5\\x94i\\x05Bg\\xe2\\xff\\x1b\\x04\\x00\\xdex\\xe30\\x00\\xec\\xdc\\xf9\\xd0\\xc2G\\tkm>M\\xb3,\\xb2\\x9eD\\xf3Y%#\\x19\\x7f1WJ\\x10\\x01\\x01\\x90|\\xc5\\x18\\xf2\\xa5\\x19\\xfd&\\xb6O\\xb4_\\xd0\\x8f\\x0f^\\x01\\x83=_\\xc8\\xfe\\xca\\xc9\\xd5\\xbb\\xe3C\\xc1\\xc3\\xfa\\xf0\\xc0\\\\\\xee\\xc6~n`\\xe0\\xf6\\x9bG\\xde\\xac\\xa8\\xac\\xe8\\xde\\xb0!\\x99\\xaaDA\\x16\\x06\\x14f_\\xe8\\x0f\\x00\\xa0\\xd4\\xc5\\x86\\xe0\\xc9\\t\\x80\\x88\\xecq\\xef\\xb5\\xdeK\\x97.\\xa5R\\xa9\\xdd\\x8f\\xecv,\\x07\\x16j\\xc7\\xf7\\x90[\\x89\\xcf\\x143KB\\x06\\x81\\x81\\xc1\\x81\\xc3o\\x1c\\xf9\\xd8\\xc7?\\xaaHi0\\xceS\\x0c\\x10\\xc8\\xdf\\x96\\xc4\\xcf\\x01\\xd0<\\xfd\\x83gz\\xb1P\\xfc\\xc7/\\x7fu\\xff\\xd3\\xfb\\xab\\xab\\xabMk\\xd5pAJ[\\xf5\\xbd\\x0b4\\xdf+\\xfcL\\xf4\\xedW\\x9a\\x1fJ\\xdf\\xca\\x98}/\\xbf\\x81\\r}/8R\\x86Lk\\xbeb\\x1e\\x1b\\x1f7\\xd6\\'\\x9e\\xe7z\\xae\\x87HN\\xc8IT$&\\'&\\xf7\\xed\\xd9WWWw\\xb3\\xff\\x06\\xfa\\x03\\xf5>1\\xad\\x14V\\xdf~X\\x82\\xb9\\x0c)\\x9d\\x96\\x12\\x83P\\xcc\\x97X\\x9ay%@\\xc6 E^\\xfc\\xc1%\\x81\\xe6E\\r\\x85\\x0f\\x8b\\x95\\xd6\\x87\\x19\\xe5%\\xe1]X\\xd4\\xc0\\x82\\xe6\\xe6\\xe6\\x8f~\\xec\\xa3\\xe7\\xce\\x9d{\\xe9[/\\xd5\\xd6\\xd6tuu\\xd57\\xd4\\x03 \\xa0&D\\xf6k\\xe1@\\x84\\xc2\\xfeB\\x0f\\x01\\xf3\\x85\\xfc\\xb5+\\xd7\\xae\\\\\\xbe\\x92J\\xa5\\xb6m\\xdf\\xd6\\xdc\\xd4T\\xbaM\\x05\\xbe\\':\\xeb[\\xb6(\\xe8N\\xf9\\x1f\\xd3\\xd8\\xd4XYYy\\xea\\xd4\\xa9-[\\xb6\\x04\\xe5\\x1f\\x14\\xdf*\\xc1\\xe7J\\xfa\\xdf\\x1b\\x88\\x99\\x9a[\\xe0\\xf0\\x1b\\x87\\x97,]\\x92\\xaeN\\xdf\\xf5\\xd9\\xf0\\xc1u\\xcf\\xf1-\\x7f\\xbf\\x03\\x16\\xd4u\\xdeq4\\xdc|\\x0f\\x04M\\xc8\\xd2\\xcf\\x00\\x00\\x88\\xe7\\xe9k\\xbd\\xd7n\\xdf\\xba}\\xf3\\xc6M\\xad\\xf5\\xf2\\x95\\xcb\\xe3\\xf1x\"\\x11\\xb7m[3\\xe72\\xd9\\xb9\\xd9\\xb9/\\xfc\\xbf_\\x00\\x80\\x96\\x96\\x96\\x93\\'OvvvVW\\xa7\\x83\\x99D\\xff,\\x89\\xb0.\\x8dh\\x976|\\xc1\\xad\\x01\\x80\\xd1\\xd8b@i\\x03\\xc8O\\xca\\x174\\xd3\\xfd^\\'\\xdc\\x15\\x9b\\xcc\\xb3d\\xd1;\\xdf\\xed`\\x94\\x01P\\x0eXo\\x81\\xff\\x985$\\x1c\\x91P(\\xbcy\\xf3\\xe6\\xf5\\xdd\\xdd===\\xc7\\x8e\\x1e\\x17\\x90d2Y[W\\x1b\\x8f\\xc7\\xe3\\xf1\\x98e\\xdbF\\xe5\\xb2\\x90/d\\xe63\\x93\\x93\\x93\\xd3\\xd3\\xd3\\x83\\x83\\x83\\x8d\\x8d\\x8d\\x8f>\\xfah}C=@\\xe9\\x99\\x1ad1\\xf7\\xc8&7\\x14iSEFs+\\x08>\\xb4s\\xc7\\x81\\xe7\\x9e\\xaf\\xacL.\\xebZ\\x06A\\xc0\\xf1\\xcb\\xc2\\x8b\\xea\\xd5>\\xc7\\x1b\\x11\\x01N\\x1e?959\\xb5\\xfb\\xe1\\xdd\\xb4\\xf0\\r\\x0b\\xfd\\xc1{\\xa5\\xda\\xde+\\x82\\xc9\\x92\\xf7\\xfa+\\x16Y\\xe6\\xbd\\xf5\\xff\\xf8\\xf5)\\xe1\\xe0\\x1f\\x02\\xe2z\\xee\\xc5\\x9e\\x8bG\\x8f\\x1e\\xad\\xa9I/\\xeb\\xea\\xda\\xb4ec,\\x1ec\\x08\\xd2\\xa2\\xd2V!\\xfe\\xe9\\x9f\\xfe)\\x00\\xec{ro.\\x97\\x7f\\xf5\\x95\\x83\\xd1Xt\\xd5\\xaa\\x95\\xadmm~\\xdf\\x0e\\x02\\xc2\\xc1[95\\x88\\nEJL\\x0e?\\x7f\\x0c,\\xe0\\xfd\\x0eIio\\xef\\x0eG\\x8b\\x83\\xd4\\x02?\\xe3>\\x9f\\x81\\x1f\\x1d\\x94\\x97\\x84\\xef\\x80R\\x99\\x03 \\x98\\xd4\\x03\\x10\\x90\\xf1\\xb1\\xf1\\xa1\\xc1\\xa1\\x99\\xd9\\x99\\xfe[\\xfd\\xc6\\xcd!\\x14\\x0e\\x8d\\xde\\x19\\xad\\xac\\xac\\xac\\xaa\\xaeJ&\\x93u\\xb5u\\rM\\r\\xe1pX\\x0c\\x13\\xa2\\xe4\\xcc\\x12,~\\xde\\x8d\\xc4\\xf0\\x9d\\xc1\\xcc\\x02\\xfe\\x881\\x8b\\x00\\xc8\\xf8\\xc4\\xc4\\xab/\\xbf\\xbal\\xf9\\xb25k\\xd6\\xf8k\\x12_\\xa0\\x8aea\\x00@\\x10\\x91Y\\xde<\\xf2\\xe6\\xec\\xd4\\xcc\\xc3\\x8f>\\x1c\\x8f\\'\\x82\\x81\\xbc\\x85\\xb9KxoC9\\xef+Lu\\xa9t\\xafK\\x10\\x89\\x08\\x08\\t\\x859`\\xcb\\x05\\x1d>\\xffeQ\\x1f\\xd0\\x1c \\xcd\\xe7z\\xce^\\xbb\\xda\\x1b\\x8f\\xc77n\\xda\\x90L\\xa5\\x10Ak\\x0f\\x89\\\\\\xed*R\\x9a=Bbac\\xc9\\xb1~U\\xf7\\xc0\\xed\\x81\\xc3\\xc7\\xdeX\\xbdz\\r0\\\\\\xef\\xed\\xbbt\\xf9R2\\x95\\xda\\xb8yCUE\\x15\\x92\\xa1\\x83\\x99\\xde\\xa5\\xbfd^\\x08\\xee%)2\\x10\\x80 /7\\xa27\\x01q0H\\x8f\\xd1\\x8fk%rU\\xb0\\x16.]\\x1a\\xe5\\x80\\xf5=\\xa2\\x1c\\xb0\\xbe\\x0b\\x82\"\\xee\\xa2u\\xc9;\\x1d\\xb3\\xc5\\xeb\\x9b\\x85\\xbe\\xbc\\xb9\\xeb\\x88\\xe0\\xfb\\xbb\\x18K\\x82\\r\\x02A\\xc7^xff\\xe6\\xe0\\xab\\xdf\\xb6,\\xab{Cw}C}\\xb0M\\x8b\\x12\\x08\\xc0\\xa1\\xa1\\x81\\xc3\\x87\\xde\\x8c\\xc6\"\\x8f=\\xf6X4\\x16\\x05S\\xe4\\xc5\\xa0\\xca\\x1bl\\xea\\xfd\\xab^}\\x97\\xfdZT\\x0f\\x0fJ\\\\\\x0b\\xab?\\xf3\\xcc\\xc0E\\xdf\\xfd\\x8eG1X1\\xca\\xc8\\x9d;\\xdfz\\xe1[\\x95\\x95\\x95\\x9b\\xb6lL\\xd7\\xd6\\x08\\x1bi\\x08\\x11\\xd6\\x0c\\xa2\\xad\\x9e\\x90\\xd2\\x00\\x00 \\x00IDAT\\xfd\\x02\\x17\\x97\\xce\\xdd\\xed\\xfe\\xdb\\x0fl\\xd8\\x96L%/\\xf5^\\xb0-\\x1b\\x01I)f\\xee9\\xdd\\xd3{\\xadw\\xf3\\x03[\\x96/\\xef2\\xf4s\\x0c\\x00\\xef\\x92\\x8d\\xbek\\x91\\xee\\xed\\xc0\\x80$\\x01AC\\xb0\\x8c{AyI\\xf8]`\\xe8B\\x10L\\xc9\\x11\\x04j&\\x08\\xfed\\xd9]\\x9chX\\x94\\xeb\\x97\\xee\\xb0\\xf7\\xeb\\xa2\\x0c*%\\x08 X\\x99\\xac|\\xfa\\xa3O\\x9f=}\\xf6\\xd8\\xd1c\\xb9l\\xaekyWU\\xba*\\x1c\\x0e\\x83\\xc8|&351yg\\xe4\\x8ef\\xde\\xb0\\xa1{Y\\xd7\\xb2\\x12W\\xa0$h\\x89>9\\xfd\\x03\\x83\\x19;7\\xff\\x80\\x05\\xedc`\\xc3l\\x12\\x8d>\\x01\\x01|\\xee\\xa9\\xb9\\xd1}^B\\xc0\\xa5\\x05\\x11\\x84\\x81\\xdb\\x03W.]\\x1e\\x9f\\x98\\xd8\\xbcy\\xf3\\x92e\\x9d@\\xa8\\xb5\\x07\\x02.kBtE\\x1b\\xdd4B\\xf2\\xb4\\xa7\\x14\\xb1\\x16\"<\\xfc\\xc6\\x11\\x00x`\\xdb\\x03\\x88\\xc8l\\xd4#\\x08\\x017n\\xde\\xd8\\xd2\\xdez\\xfc\\xe8\\xf1;#wv\\xed\\xde\\xc9\\x08\\n\\x14,\\x0e\\xaf\\xbe\\xcf\\xd8\\xa2\\xd3\\xea\\x9fm\\x0c\\xd2\\xa8\\xb7\\xbc\\xc2\\xdd\\x97\\x83,^\\x10\\x96qO(\\x07\\xac\\xef\\x02\\xbf\\xaa\\x05\\xa6xJ>\\xb3\\xc7/\\x9a\\x82\\x99\\xd4\\xa0R\\x11i\\xe1\\xa7\\xde\\x13\\x89\\xe8]\\xb7\\x01\\x11\\x91\\x19\\x00D\\x19\\x0bf4\\x86\\xf2\\xb8q\\xd3\\xc6\\r\\x1b\\xba\\xfb\\xfb\\xfb\\x07\\x07\\x06\\xae]\\xb9\\x96\\xcdd\\x00\\xd0\\t9555\\x9b6onll\\xa0\\xa0~\\xe4\\xb7\\xdfK\\x7f\\xf9\\x0f\\xf8\\x0f`)R*<! \\x07\\xdd\\x82@\\xf9\\x0bDdvvf|bb\\xf4\\xce\\xa8\\x08\\xcfL\\xcf\\x86\\xc3\\xe1\\\\.\\x17\\x8b\\xc7\\x8a\\xf9b\\xba6\\xcdZ\\xc7+\\x12\\xacYkottllt,\\x1c\\x0e\\xb7w\\xb4m\\xdf\\xb9\\x9d\\x14\\xb10{,\\xccZ\\xb4f\\xed\\n{\\xa2\\rU\\x81\\x8d|\\x97\\xe7\\xa7\\xa1\\x87\\x0f\\x1d\\x06\\x80\\xcd[7\\xe5\\x8ayK)@\\xb4\\x94Y\\xc8K\\xaa*\\xf9\\xf8\\x13\\x8f\\xbe\\xf0\\xcdo\\x1dz\\xed\\x8d\\x1d;\\xb7\\xfb\\x83\\x8dB\\xefv\\xb4\\x16\\xbd\\x8f\\xef\\xf2Z\\xc6\\xfb\\x83\\xf2\\x92\\xf0\\x9e\\x11\\x1c1\\x96\\x05\\xae\\xa1\\xbf\\xb8\\x92R\\x1d\\xf5>\\xa4\\xfa\\xfe\\xbai\\xa1\\x92\\x05\\xe2{F\\x0b\\n0\\n\\x08\\x03\"\\xfa%\\xea\\x85\\n\\x9ay\\xbc\\xdfU\\xb7\\n\\xc2\\xd6\\x0f~I\\xc2\\x86\\x14\\x10\\xac\\xf5\\x02qB\\xd1Z_\\xbdvuhphjrjfv\\xa6\\xb9\\xb9YY\\xaa:]\\x1dv\\xc2B\\x02\\x0c\\x088;7KH\\xe3\\x13c!\\'<==]S[c\\xd9VKKKmm-\\x18\\xc5*`\\xe3\\xb4\\xeci\\x17@\\\\\\xcf\\x15\\x84\\xa2W$T\\xae[DDO\\xbb\\x9aY4;\\x8e\\xf3\\xc4\\xce}\\xfd7\\xfb\\xbfz\\xe0\\x1f\\xbb7\\xac3\\x14:\\x9b,D\\xb4\\x95\\x8d@\\x96R\\xcc\\xfc\\xea\\xcb\\x07c\\xf1\\xf8\\xc3\\xbbw\\x9b\\xd8n\\x84\\xf9\\xc1\\x17\\xa3/s\\x18?\\x00\\x943\\xac{Fp\\x93\\xab\\xb77\\xa3\\xef\\xeb\\xddo\\nO\\xa6\\xack\"\\x91_\\xe9\\x05\\x93\\xfda\\xe0\\x18\\x03w\\x97\\xd2\\x00\\xc0\\x1f\\xac-\\xa5Xp\\xff;\\x83\\xef\\x88\\xc5\\xe4\\x04C\\x16\\x17\\x90B\\xa1p\\xe9\\xc2\\xc5\\xcbW\\xae\\x86\\xc3\\xe1\\xce%\\x9d\\xeb7\\xae\\x8f\\xc7c\\xb2P\\x7f\\xbf\\x0b\\xef\\xf8<\\xd0\\xac\\x05|i3\\x16\\xcd\\x9a\\xb5h\\x1f\\xa2=\\xed\\xe5s\\xb3\\xb7\\xfb\\x87\\x86o\\x0fi\\x8fA\\xc4\\xd3\\xde\\xec\\xec\\\\\\xff\\xcd\\xfep$\\x9c\\xaaJf\\x0b9\\xc7\\xb2\\xc0C\\xb1CAQ\\x0f\\x01mD\\xda\\xf5\\xf0\\xae\\xaf\\xfc\\xc3W\\xea\\xea\\xea\\x96\\xafXN@\\x0c@>\\x19\\xd5(\\x82\\x96\\xb3\\xa7\\x1f4\\xca\\x01\\xeb\\x87\\x0c\\xfeM\\xe2\\'W\\x0bZZ\\x01I\\xd1/\\xf4\\x94r=\\xf3#A\\xbb\\xc0\\xbc|0\\x05\\x14\\x93[\\xf9Er\\x14\\x16\\x06\\x96\\xd3\\xa7N\\xf7\\xf6\\xf5U\\xa5\\xab\\x1e}\\xec\\x91\\x8ad\\x05 z\\xdacf\\xcd\\x9a\\x88<\\xf6\\x14*\\xcdZ)\\xa5\\x99\\x15)`6.\\xd3\\xa5\\xfc\\xc67\\xa3\\x10\\xd1\\xc2\\x00\\xa25\\x83\\xb0\\xd6\\x1e\\x8bx\\xbaX,\\xba\\xe7N\\xf7\\x8c\\xdf\\x99\\xa8\\xae\\xafn[\\xda\\x12K\\xc6\\xc2\\xe1\\xb0\\xd6\\xde\\xb7\\x9e{\\x19\\x00V\\xaeZq\\xb3\\xf7\\xd6\\xa5\\xb3\\x97Ww\\xaf\\xacm\\xac\\xd5\\xac\\tI\\x0b\\x83(!\\x06@\\xdb\\xb1\\xf7=\\xb5\\xff\\xd0\\xb7\\x0f\\xa5k\\xd2\\xe9\\xea4\\x94,dAXdA,\\xa4\\x8c\\x1f\\x14\\xca\\x01\\xeb\\x87\\x0c~\\x9ee\\x08\\x8b%\\x82c\\x90I\\xf9\\x9a\\x06\\xfep\\xcbBQ=\\xd0X\\xfa`n\\xb0\\x85D\\x89\\x83\\x02\\x16Kf.\\xf3\\xcc?=S\\x99\\xac\\xdc\\xfd\\xe8\\xae\\xca\\xca\\xa4\\x08{Z\\x0b0\\xb3\\xf6\\x00\\x98\\x194\\x88\\xb0\\x07.\\x88x\\x1a\\x01\\xc1\\xd3H\\x88\\xc8\\x80H\\xc0\\x8b\\xf2,\\x016%|a\\x16\\xf6\\xb4\\xd6\\xda\\xf3D\\x0f\\r\\x0c_9\\x7f5\\x91Ll\\xda\\xb5\\x11\\x15\\x88\\x88\\x16/W\\xc8\\x8a\\xc8\\x89c\\'\\x00`\\xeb\\xce-+7u\\x8d\\x0e\\x8e_>\\x7fultl\\xf5\\xba\\xd5D\\n\\x115j@\\x9b\\x10\\x101\\x95\\xaa\\\\\\xb6|\\xe9\\x0b\\xcf\\xbf\\xf0\\x93?\\xf5\\x93$\\xb4H.\\xde/\\x0e\\x94c\\xd6\\x0f\\x12\\xe5\\x80\\xf5C\\x89\\x85\\x9bf\\xd1(\\xef\\xdd}\\xa9E\\x04\\x87\\x12\\xc5\\xfa\\x03\\xba\\xb5\\x02F\\xdb\\x02\\xbbmhx\\xe8\\xab_\\xfe\\xea\\xd6\\x07\\xb6\\xae\\xef^\\x07(\\x9e.\\n\\xa0\\xa7\\x8b\\x08\\xe4zE$\\xf2<\\x0f\\x15y\\x9eO\\x9eRd\\x890\\x11i\\x08\\nI\\xe0\\x9bS\\x9a\\x10\\xc8b\\xc6\\x98\\x98\\xb5\\xd6\\xc2.{W/^\\xeb\\xbd\\xd4\\xbba[w8\\xe1\\x00R\\xc1\\xcd\\x12\\xa8\\xa2[ \\xa5<\\xed\\x9d9q\\x16\\x00\\xd6mZ\\xebzn\\xba\\xb1\\xaa\\xba6u\\xf9\\xec\\xb5\\xb3\\'\\xcf\\xad\\xdd\\xb4\\xd6bK!h\\x16$\\xcd\\x82\\x04\\xb8b\\xd5\\x8a\\xe1\\xa1\\x91\\x9es=\\xeb\\xd7\\xad\\x17\\x12\\x003\\xd5m\\xac\\xd7\\xcay\\xd6\\x0f\\x14\\xe5\\x80\\xf5C\\x89E$v?\\xb92\\x14\\x81\\xb7/\\xf7>\\x90\\xca\\xfa;\\xa2T\\x96\\x1a\\x1c\\x1c|\\xfe\\xc0\\xf3{\\x9f\\xda\\xd3\\xda\\xda\\xcal&\\x8d\\x99\\x855kf\\xd7\\xd3\\x1a\\xb4\\xb0i\\xee1\\x1b\\x1f\\x1b\\x17\\\\\\xb3\\xb7fT\\xc00]\\x91J\\x92w\\xa6y+,\\xcc\\xac]\\xed]\\xee\\xb94\\xd8?\\xfc\\xe0\\xa3[\\x94\\xa3\\x8a^A3\\xbb\\x9e+R\\xf4\\xb4\\'\\x1af\\xa6\\xa6o]\\xefwBN\\xdb\\xd2\\x16W\\x17]\\ra\\'\\xbc|\\xc3\\xd2\\xcb\\'\\xaf^\\xbdpu\\xd5\\xda\\x95L\\x9a\\x88\\xb4\\x10\\x12\\x01iKp\\xd3\\xe6\\r\\xaf\\xbc\\xfcjkkk*\\x95\\xa2\\xc0-l\\xf1~-^n\\x97q\\xffP\\x0eX?\"09\\xd7\\xdb\\xed\\xe6?\\x0c\\xd1\\xca\\xf41MP\\x19\\x1c\\x1a|\\xe6k\\xcf<\\xf5\\xd1\\xa7\\xea\\x1a\\xea\\x98\\xd9eOX\\xbb\\xda\\x05\\x96\\x82\\xe7\\x02H\\xd1+\\xb8\\x9e\\x1e\\x19\\x18\\x9e\\x9b\\x9d\\xcbfr\\xcc\\xc2Z\\x87#a\\xcb\\xb1\\x92\\xa9\\x8aTuU,\\x16\\xd5H\\x00\\xa8\\x94\\xf2\\xc3\\xb6O6aa\\xd1\\xe2]<s\\xe9\\xce\\xc8\\xe8\\xe6\\xdd\\x1b\\x01Y\\xb3\\xe7\\xba\\x1e\\x03\\x17]\\x17D\\xc6\\xefL\\x14\\xe6\\x8b\\xc7\\x8f\\x9c\\x10\\x91e+\\x97\\x82\\x12\\xd3C\\xf4\\xb4\\x87D\\xab6\\xad<}\\xe8lM]:][\\xa3Y\\xa3Baf@F\\xa9\\xa8\\xac\\\\\\xbal\\xe9\\xe17\\x0e\\xef\\x7fr\\x1f(\\xe3z\\xc2\\xc1 \\xa7\\x98\\x03\\xff!9\\xda?\\xda(\\x07\\xac\\x1f\\x11\\xe0\\xa2?\\x1f\\x1e\\x18\\xd2B\\xf0G\\xb2\\xb9\\xec\\x81g\\x0f<\\xb6\\xe7\\xb1\\xfa\\x86:f\\xf6\\xd8c\\xad5{\\x9e\\xd6\\xcc\\xda\\xd3\\xc5\\x91\\xe1;\\x83\\xfd\\x83\\x13cS\\xb1D$\\x96\\x88\\'*c\\xa1H\\x98\\x85=\\xd7\\xcbg\\x0bC\\xb7G\\xae]\\xbc\\xee\\x16\\x8aK\\x96w\\xa4\\xeb\\xd3\\x95\\xc9$ \\xaa\\x80P\",Z\\xf4\\xc5s\\x97\\xc7\\xee\\x8cm|\\xa8\\x1b\\x89\\x8a\\x9e\\xa7\\xd9\\xf5\\xd8\\xd3\\xac\\'\\x86\\'o]\\x1c\\xa8H\\xc7\\xa3\\x15\\xe1\\xeb\\xd7o\\x00@sS\\xf3\\x8ds\\xb7[\\x967Z\\x8e\\xad\\x94BF;d7v\\xd4\\xf7^\\xbe\\x9e\\xacN\\xd9\\x96\\xad\\x99\\x151\\x08\\x8a0#\\xacY\\xb7\\xe6\\xea\\x95k\\xe7\\xce\\xf5toX\\xefS\\x89!p\\xe0\\xf0\\xf7\\xd6\\x17\\xb4\\xf90\\x9e\\x89\\x1f\\x15\\x94\\x03V\\x19\\xf7\\x11\\xb2 \\xf3\"\\xcc|\\xe0\\x1b\\x07V\\xaeY\\xd9\\xd1\\xd9\\xeeiOk\\xed\\xb1\\xe7iO\\x8b.z\\x85\\xf9\\xd9\\xb9\\x13o\\x9e\\x02\\x80\\x9a\\xc6\\xea\\r+\\xd6i\\xd1\\x04X\\xd4E\\x85J\\x8b&\\x8cTPB\\x81\"\\xc0\\x99\\x89\\xd9\\xd9\\xc9\\xd9\\xab\\xaf\\xf6V$+k\\x1bk\\xea\\x1b\\xea\\xa2\\xb1\\x08\\x11\\xce\\xcdf.\\x9d\\xbb\\\\\\xc8\\x176\\xec\\xe8F\\x02\\xcd\\x9efOk\\xed\\xea\\xe2\\x9d[cwn\\x8e-\\xd9\\xd4\\x8a!\\x11\\x81\\xde\\xab\\xbd\\x00\\xb0\\xf5\\xb1M\\x14\\xa2[\\x17\\x06\\x9aW7\\xd9\\xca\"D\\xcf\\xf6jZj&\\x86\\xa7\\x06o\\x0fu,i\\x07\\x01f\\x05\\x00L\\n\\x19\\xc4\\xc2\\xfdO\\xee\\xfd\\xe2\\xdf\\x7f\\tD\\xd6o\\xe8F\\xd1\\x81\\x93O\\xa0\\xc6\\x00\\x86\\xea\\xe0g\\x93\\xe5l\\xeb~\\xa0\\x1c\\xb0\\xca\\xf8\\x01@\\x04\\xe4\\xfc\\xf9\\x0b\\x9e\\xd6[\\xb6n\\x16ff\\xd6\\xcc\\xcc&\\xbd\\xf2\\x86\\xfb\\x87\\x0e\\xbdzd\\xc5\\xfa\\xae\\xa6\\xce\\xc6\\xa2W\\xd0\\xec\\x15\\xdd\" x\\xdaEBfAD\\x85\\xe4\"\\xdad\\xc7\\xabb\\xa9\\x9ad\\xdb\\xf2\\xb6\\x99\\xf1\\xd9\\x89\\xd1\\xc9\\x91\\xdb#\\xa3\\xc3c\\xb5\\r5n\\xb1X\\xd7T\\xb7v\\xcbj\\x06\\xf6\\xb4\\xc7\\xa25{\\x9a\\xf5\\xf4\\xf8\\xec\\xe4\\xf0t[w\\xa3r\\xc8\\xf5\\xdcl&\\xd7\\xdfw\\xdb\\xb2\\xac\\xceU\\x1d\\xe1Px\\xaa\\x7fv\\xec\\xc6hte\\xab\\x001\\xb3\"\\xd5\\xd8V?ps\\xa0\\xbd\\xa3\\x15\\x00\\x99\\xd8\\xe8\\xa0!\"\\xb2D\\xe2\\xd1\\x9f\\xf8\\xa9\\x1f\\x7f\\xf6\\x9f\\x9e\\xcdd2\\x1b7m\\x8a\\x84#H\\xc8\\xc0T\\x12\"+\\xc5(\\x01\\x06\\xc6\\x85\\xcaV9x\\xbd?(\\x07\\xac2\\xee#J\\x82+\\xae\\xe7\\x9d>u\\xfa\\x89\\xbdO\\x80\\x80\\xc7\\xec\\xb1f\\xf1<\\xed\\xb9\\x9e{\\xeb\\xfa\\xad\\x13GN=\\xf0\\xf0\\xe6P\\xa5Sp\\xf3\\xf9bV{<vg<3\\x93\\xcb\\xcf\\xe7\\x00\\x90Y\\xec\\x90\\x15\\x8a:\\x89\\xaaxe*A\\xa4\\x1c;D\\x88\\x89t\\xac\\xa26n\\x93\\xed\\x16<\\x14p\\xa2!\\x10`\\xd1\\xa6\\xf4\\xae\\xb5\\x16\\x11f=\\xdc{\\xa7\\xba5E\\x0e\\xb1\\xb0\\x16\\xbe|\\xee23/Y\\xd9i\\xd9\\x96f\\xaf\\xba\\xad\\xf2\\xc6\\xc9\\x81\\x86N\\xd7\\nY\\xcc\\x1a\\x05\\xd2\\r\\xd5\\xd7\\xaf\\xdc\\xcc\\xccgc\\x89\\x98\\x12\\r\\x0c\\xc4\\n\\x0c\\xf9JK8\\x12\\xf9\\xd8\\'>\\xfe\\xe6\\x917\\x9f}\\xe6\\xeb-m\\xad\\x1b\\xba\\xbb\\xc3\\xe1\\xb0F\\x0c4\\x8e\\x17I\\xa6\\x96\\x86\\x07\\xcb\\xd9\\xd6\\xfb\\x87r\\xc0*\\xe3\\xbe`\\xb1\\xe6\\x9e\\x80\\\\\\xbax\\xa9\\xa1\\xb1!\\x9d\\xae\\xf6\\xd8\\x03`\\x11\\xf6\\x84\\xb5\\xd6wF\\xee\\x9c9~\\xf6\\xc1\\x877;\\xf1P\\xbe\\x98\\xd5\\xac\\x87o\\x8d\\xde\\xbe<\\x94\\xa8\\x89\\x85+B\\x89\\xc6\\x98\\x1d\\xb2\\xb5f.x\\xc5\\xac\\x1e\\xb82<\\x19\\x9bJT\\'\\xea[k\\x11\\x90\\x88\\x90\\x89,R\\x0e)Tb\\x86-E3\\x0b\\xfb^\\xcd\\xec\\xba\\x1e)\\xaa\\xa8\\x8a\\x17\\xb8\\x98\\x9b\\xcf\\x9e>v\\xf6\\x9f\\xfe\\xe6Y\\x00hjo\\x04`\\xa3h\\x1c\\xad\\x8c\\xccN\\xccU7V\\t\\x03+D\\xc4Tujtd\\xb4#\\xd6\\xce\"\\x88\"\\xa2E\\x90Y\\x90\\x04\\x85Ca\\xfb\\xe1Gw\\xcfM\\xcf\\x9e\\xeb\\xe99p\\xe0@u:\\xbdz\\xd5\\xaatM\\xfa\\xae\\xa1\\xe7\\xbb#\\x94\\xf8^\\x9b\\xe5\\xb0\\xf5\\xfd\\xa2\\x1c\\xb0\\xca\\xb8/X\\x98\\xad\\x11`\\xad\\xaf]\\xbd\\xb6u\\xfb\\x16A\\xd1\\xc2\\xda\\xd4\\x96\\xd8\\xcb\\xe42o\\x1e<\\xba\\xf6\\x81\\xd5v\\xcc.\\xb8\\xf9\\xb9\\xb9\\xb9[\\x97\\x06r\\xd9\\\\Kw\\x83g\\x15\\x01\\xc0-\\x16<vY4\\x85\\x95\\x15\\xa1\\xea\\xda\\n=\\x0b\\xa3\\x03c3\\x13s\\x8d\\xcb\\xea\\x12qA\\xdf\\x0c\\x08m\\xcb\\x01\\x14\\x022R<\\x82\\xc2 \\x88P\\xcc\\x17\\xa7\\xa7\\xa6\\xae>{\\xe9\\xe8\\xa1\\x13=\\xc7{\\\\\\xd7\\x03\\x80h,r\\xfc\\xb5\\x93\\x8f\\x7f\\xec\\x91\\xb6\\xa5\\xad\\x00\\x10\\x8a\\xda\\xc5|\\x91E\\x8b\\xe1\\x96\\x82T\\xa4bw\\x86F[:\\x9a\\x15+\\x10!@f\\x11%\\xc8(\\xa8\\x08\\x11\\x89\\xa2\\x89\\xd8\\xb6\\x1d\\xdb2\\xf3\\x99sg{\\x0e\\xbd~\\x88\\x94Z\\xb7nm[{[\\xe0h)(f\\\\\\xda\\xef$\\x96\\xf3\\xac\\xf7\\x05\\xe5\\x80U\\xc6\\xfd\\x84\\x00 \\xf4\\xdf\\xee\\xd7\\xda\\xab\\xad\\xad\\xf5\\x15\\xea\\reJ\\xf3\\xc5\\xb3\\x17\\x1b\\xdb\\x1a*\\xd3\\xc9\\\\1\\x93\\xcf\\xe7n]\\x1a\\xb4\\xa3Ve{Z\\x80\\x8b\\xc5\\x02\\x00\\xe4\\xe6\\xf2\\xa0\\x01\\x08\\xac0)\\xc7\\xd6\\xec\\x85+\\xa2\\xe9\\x8a\\xaa\\xfch\\xe1\\xd6\\xb9\\xdbK\\xba\\xdbC\\xd1\\xb0f\\x8d\\xa8Xt\\xa0\\xfd \\x0c\\\\,\\x14O\\x1d;}\\xf8\\xdbG\\x8e\\xbcvtdp\\xc4l\\x0b\\x11-_\\xdb\\xb5v\\xf3\\xeaK\\xe7\\xae\\\\8y\\xf1w\\xff\\xfd\\xef\\xff\\xea\\xef}v\\xd5\\xbaU\"\\x80D\\x12\\x8c^\\x8aH\\xba.=tk4_(\\xd8\\x96\\x83\\x00,Bh\\xb6\\x9c\\x8c\\xfe\\x8d\\xef\\xf8J\\x18\\x8b\\xc7\\xb6?\\xb4\\rD\\xfa\\xfa\\xae\\x9f9s\\xf6\\xea\\x95\\xab\\xdd\\x1b6\\xd4\\xd6\\xd5\\xa0?\\x8d\\xa0\\x8c\\xb9\\xb5\\x9fy\\x95\\xf3\\xac\\xef\\x1be\\xb5\\x862\\xee\\x0b\\x985 hf\\x00x\\xe5\\xe5W*++V\\xaf]\\xc5 E\\xd7\\xd5\\xec\\x15\\x8b\\x85\\xe9\\xd9\\xa9W\\x9e?\\xb8}\\xcf\\x03\\x1e{\\xb9b\\xf6\\xea\\x99>FN\\xb6%2\\xf9y\\xcfu\\xe7F2\\xee\\x1c\\x03\\x8a\\xa0\\x00\\x8axH\\x169\\xd5\\x14K\\xc6\\x08)\\x1e\\x8ee\\xee\\xe4\\n\\xb3^\\xeb\\xda\\xa6X$A\\nCv\\x08\\x85f\\xa6g\\xde|\\xfd\\xe8\\xe1\\x83\\x87\\x8f\\xbeq,3\\x9f5[\\x12\\x8b\\xc5\\xd6l\\\\\\xbda\\xdb\\xfa\\xcd\\xdb7\\xc4S\\t\\xcd\\xecy\\xde\\x1f\\xff\\xce\\x9f\\x1c\\xfb\\xf6\\x89P8\\xf4k\\xbf\\xf7+\\xe9D]Mc*\\x91\\xae\\x88:QD\\n\\xdb!\"\\xea\\xed\\xb9\\x1e\\x8dF\\x96\\xaf]A\\x80\\x96\\xb2\\x11\\x85\\xc82\"\\x7f\\x08HH\\xc6\\xa8\\x8b\\x90LC\\x00\\x11\\x85\\xe1\\xd2\\xc5K7o\\xdc\\xaa\\xab\\xaf{\\xe0\\x81\\x07\\x1c\\xdb\\x02\\xa2\\x92\\x86OI\\xd6\\xb1\\x9cg}?(\\x07\\xac2\\xee\\x0b\\x8cR\\xab\\x16\\x06\\x80\\xe7\\xbe\\xf1\\\\\\xf7\\x86\\xf5U\\xe9*\\x16.zE\\xad\\xbd\\x82[8\\x7f\\xba\\xa7\\xa8\\xbd\\x96e\\x8dy7?<02|k$\\xbd,\\xa5\\xd9\\x9b\\x9d\\x99\\x9e\\x1f,h\\xf4(\\x05.\\x14\\x02>,Q\\xd6\\xd1\\x13\\x10k\\x089)+\\x11I \\xaa\\xec`\\x1e\\x14u,o\\xed\\xbbv\\xa3\\xe7D\\xcf\\xe1\\x83G\\xce\\x9f\\xb9P\\xba\\x9e\\xdb\\x97\\xb4=\\xb8\\xfb\\x81\\xee-\\xeb\\x9b\\x1a\\x1b\\xa7Gg\\xeb\\x96\\xa6\\xc9\"\\xcd\\xda\\xa4xZ\\xf3_\\xfc\\xc1_\\x1f<\\xf0\\x9am[?\\xfd/\\x7f\\xfa\\xd3\\xff\\xfd\\xc7\\xc9Ra+LD!+\\x84Dn\\xb6x\\xf6\\xe8\\xf9-\\xbb\\xb6$\\x121\\x8b,@Pd\\x01\\x80\"%\\x00\\xca7\\xa04\\x11\\x8b\\x8c\\x13%\\xa1\\x85\\x88\\x9e\\xeb\\xbd\\xf2\\xd2+\\x96eo\\xdf\\xb1=\\x95J\\xf9\\x01\\x0b\\xef\\x8aS\\x1f\\x88T\\xc6\\x8f\\x06\\xcaK\\xc22\\xee\\x0bJJa\\x9e\\xe7\\x8d\\x8d\\x8d\\xa5k\\xaa\\xb5\\x91w\\xf6\\x85\\xfa\\xf4\\xcd\\xeb\\xfd\\xdd\\xdb\\xd6ifO\\xeb[\\x97\\x06j;SZ{y7?s+G1\\xf0\\xe2y\\xcd\\xdau]3&\\x88\\x80v\\xc8Q\\rvn\\x02=)\\xda5N>\\x93\\xbf\\xd1w\\xeb\\xd8+\\'\\xaf\\\\\\xbe:51e~i8\\x1c^\\xbba\\xcdC\\x0fo\\xdf\\xb5ggm]\\x8d\\xc7\\xcc\\xda\\xf3X{\\x05\\xdd\\x7fv\\xa8~Im\\xac:j\\x14\\xe2\\xd9\\xd2\\xbf\\xfc\\xeb\\xbf\\xe8X\\xa1\\x17\\xbf\\xfe\\xad\\xbf\\xf9\\xeb/4-k\\xdc\\xf5\\xf8\\x0e$\\x02c\\xb0*\\x10ND[\\x964\\xbf\\xf9\\xea\\xd1\\xb6%\\xcd-K\\xdaB\\x8e\\xa5\\xc8c\\x00B\\x05 \\xc6\\xa2\\x12\\x91\\x14\"\\x12Y\\xa4\\x00\\xc9&\\x06D\\xdb\\xb2\\x1f\\xdf\\xfb\\xc4\\x95KW^x\\xe1\\x85\\xed\\xdb\\xb7577\\xfb\\xe3D\\xa0\\x16H\\x0e\\x1f\\x94S\\xd1\\x0f?\\xca\\x01\\xab\\x8c\\xfb\\x05\\x93\\xeaLNN\\xa6\\xd3i\"\\xa5=\\xf6}\\x1bDfg\\xe6\\x9cp(\\x9a\\x88\\xe6\\x8b\\xf9\\xb9\\xe99;dE\\x92\\xe1\\xf9\\xfc\\\\v\\xbc\\x00J0\\xc9^^\\x0b\\xb0f\\x0f\\x01X\\x00\\x11\\x14\\xb1`q^g/>s\\xe5\\xfa\\xcd\\xeb\\xd7\\xce\\xf7iO\\x9b_T\\xdfX\\xb7y\\xfb\\xe6\\x1d\\xbb\\xb7o\\xdb\\xf9@(\\x14\\x02\\x00@`\\x16\\x05\"\\xa8\\x08\\xa1iic<\\x15\\x1f\\xbc649<\\r(\\xd1D\\xb8\\x98w\\x85\\xe1\\x91\\x9d\\x8f\\xd8\\xb6\\xfd\\xdc?\\x1e\\xf8\\xdd_\\xfb\\xbd\\xfco~\\xf6#\\x9f|\\x92\\x8c\\x0c5\\n\\x884\\xb67$\\xabR\\xb7\\xaf\\xdf>\\xfc\\xd2\\x11\\xcbV\\x91H$\\x1c\\r\\xc7\\xe2\\xb1H,\\x9cLV\\xc6*b\\x8a\\x14\\x88\"\\x10\\rH\\x04Z\\xd8\\xaf\\xa3!\\xac^\\xbb*\\x1e\\x8f\\x9d<q\\x8a\\x85\\xdb\\xdb:\\xc0\\xe8\\xff\\x08\\x95\\xe3\\xd4\\xf7\\x89r\\xc0*\\xe3\\xbeB\\xc6\\xc7\\xc6\\x8a\\xc5b`\\x84\\xe3\\xcb6\\xccL\\xcf\\xc4\\x13Q\\x01\\x16\\xe0\\xccL&\\x1c\\x0fi\\x11f)\\xcc\\x16\\xa8B<\\xed\\xb2x\\xae\\xe71\\xbbZD\\xbbz\\xb0w\\xe4\\xd6\\xf9\\x81k\\xa7\\xae\\xcfN\\xce\\x99\\xcf%\\xa2\\xae\\xd5KW\\xae^\\xb9z\\xcd\\xaa\\x87\\xf6m\\x8f\\x84\\xa2\\x8a\\x94m9\\x88\\xa8\\x88\\xc0\\x97\\xd8#\\xc52<8t\\xf8\\xf5\\xa3\\'\\x8e\\x9c\\x8c\\xc5\\xa3\\xff\\xc3/\\xff\\xfc\\xcc\\xd4\\x1c\\x88Xv(^\\x11\\xedX\\xdb\\xbe\\xe5\\xb1\\x8d\\rMu\\x7f\\xf1\\x7f\\xfd\\xf5\\x1f|\\xee\\x7f\\xf7\\n\\xc5O\\xff\\xf4\\'}\\xd2\\xa7h\\x01\\x89\\xc4\\xecek;\\x00q~6\\x93\\x9b\\xcf\\x17\\xf2\\x85\\xb9\\xb9\\xd9\\xb1\\xd1\\xb1\\xcb\\xf3W\\x8a\\x85b]SmCcCM}\\xb5c;\\x80\\xe8X!\\xf4\\r+\\x01\\x04\\x1a[\\x9b\\x90\\xe8\\xe8\\x91c\\xd1h,]\\x9d&B\\x8dz\\x91\\xfeO9t\\xbd\\x17\\x94\\x03V\\x19\\xf7\\x17\\xae\\xe7\\xd6\\xd6\\xd5\\xfa:\\x9d\\x82F\\xe29\\x9b\\xc99\\x8ec\\x18\\x08\\xd9L\\xce\\x0e[\"\\xecy\\x9e.0U\\x1b\\n\\x95\\x06\\x10\\xcdp\\xf4\\xc0\\xa9c\\xcf\\x9f\\xd6\\xae\\x9fL\\xc5\\x93\\xb1\\xae\\x15\\xcb\\xd6lZ\\xbdn\\xf7\\xaa\\xba\\xea\\xfa\\xdcx\\x8e\\xd86\\x06\\x1b&\\x04\\x10\\x11\\x001\\xf3\\x99\\x13g\\xde\\xf8\\xf6\\x1b\\x87^}\\xe3z\\xef\\r\\xf3\\xb3\\x15\\xc9\\x8a\\xcf\\xfe\\xc6\\xbf\\x8dTD\\x10QX\\x03\\x91\\x88 \\xe1O\\xfd\\xdcOX\\x96\\xfd\\xa7\\x7f\\xf8\\xe7\\xff\\xe7\\x7f\\xf9#\\xcf\\xd3?\\xf5s?\\t\"\\x8c\\x02\"\\x8c\\xc0\\xac\\x91\\x94\\x13s\\xa2\\x89\\xa8\\xc7\\x9e\\x85\\x16\\x8b\\xb6\\xc8\\xce\\xe52\\x13#S7\\xfbn^\\xee\\xb9\\xbcd\\xc5\\xd2\\xd6\\xf6&VL@\"\\xec{\\xd9\\x92\\xb4\\xb6\\xb5d3\\x99\\xa3G\\x8e>\\xf6\\xc4c\\xb1H\\xd4l\\x86\\xd1\\x8ae\\xd1Fr\\xf9\\x07\\x7fF~\\xa8Q\\x0eXe\\xdcG\\x08\\xc0\\xcc\\xcc,\\x0b\\x03\\x010\"2\\x06\\x02\\xa9N\\xc8\\x81\\xa0\\x83\\xa6\\x1cB\\x04\\x02\\xf2r:L\\n<\\x97Hi\\xe6\\x93/\\x9e\\xbdv\\xea\\xbavuUC\\xaa\\xab\\xbbs\\xc9\\xfa\\x8e\\xae\\xb5]8iG\\xa3\\x91H\\xc4!\\xc4bN\\xdb\\x96BRD\\x8a\\x14\\xe6\\xe6\\xb3\\xc7\\x0f\\x9f|\\xfd\\xe0\\xa1\\xd7^y}vf\\xd6lC$\\x1a\\xd9\\xfc\\xc0\\xa6\\x9d\\x8f<\\xb4\\xe3\\xe1m\\xf1h\\xdcw\\xbb\\x80Ez\\xad(?\\xfb\\xdf\\xfdt\"\\x91\\xf8\\x83\\xdf\\xfe\\xc3?\\xfa\\xaf\\xff\\xcf\\xf4\\xe4\\xf4/|\\xf63\\xe0i\\x16\\x16\\x00mB\\xa7\\xd6\\x80b\\xcc\\xc2\\x88\\x94\\x88X\\x96J6V\\xa6[\\xd23\\xe33\\x03\\xfd\\xb7\\xfb\\xaf\\xf7\\xaf\\xd9\\xb8\\xaa\"Y\\x11\\xd6\\x0c\\x04\\xe0\\x00y\\x08\\x8e,[\\xb1td\\xf8\\xce\\x1b\\x87\\xdex\\xec\\xf1\\xc7HH\\x88\\x05J\\xbe&\\xe5R\\xd6=\\xa3\\x1c\\xb0\\xca\\xb8\\xbfp\\x1cGY\\n\\xb9\\xa4Ze\\x84\\xe9Ek\\xdf&\\x07@\\xd8\\x15\\x11A\\x02+\\xa2X<\\x08,\\xfe\\xae\\x9f\\xbb5>0\\xb9\\xef_=\\xb6b\\xeb\\x92\\xb0\\x13\\x11\\x11\\x85\\xa85P\\xc8\\xa8\\xb9\\x10{\\x9cH\\xc7\\xfa\\xaf\\xf7\\x9f<r\\xe6\\xd4\\x9b\\xa7N\\x1d;mL(\\x00\\xa0\\xae\\xbe\\xae{\\xe3\\xfa]\\x8f\\xee\\xdc\\xfb\\xd4\\x13d\\x93\\x00j\\xed\\xa1\\x91\\xdc#\\xd4\\xcc\\xc6Q\\x15\\xc9\\xd8\\xb8\\xe1\\'~\\xfcc\\xd1X\\xf4w\\xfe\\xd3\\xef~\\xe1/\\xfe\\x8eE~\\xe1\\xb3\\x9f1\\x01\\x8b\\xd9\\x03@W\\x17u\\x81\\xb3\\xd9\\x0c\\x8aB\\x05\\xd1x\\x8cE\\xdb\\x96\\xe3i7\\x99\\xae\\xac\\xa9K\\x0f\\xdd\\x18\\xbep\\xfab\\xdb\\xd2\\xb6\\xf6\\x8e\\x0e2\\n\\xd0f\\xdd\\'\\xb8\\xeb\\x91]\\x07\\xbe~\\xe0v\\x7f\\x7fkk\\x9b/X\\xed\\xa7YPN\\xb0\\xee\\x15\\xe5\\x80U\\xc6}\\x04\\x02\\xb8\\xae[,\\x16\\x85\\x8c\\xaa3\"\\x11\\x089!\\'\\x9b\\xcd)R\\x8a(\\x14\\x0e\\xe7\\x0byK\\xd9\\x8e\\xedX!\\x85\\x9e\\x02\\x1bD$\\xa7\\xf9\\xce\\xadQD\\\\\\xb1q\\x99c;\\x8e\\xe5\\x00\\x80CN\\xc1\\x83He\\x84=}\\xe6\\xcds\\x87\\x0e\\x1c\\xbev\\xb5w|t\\xdc\\xfc:\\'\\xe4,_\\xb9|\\xf5\\xea\\xd5\\x0f?\\xfepgg{.\\x9b\\x9b\\x1c\\x9f:x\\xe0P}Sm\\xb2*\\x99L\\'\\x93\\xa9J1\\x96b`\\xd6\\xa6\\xbe\\xf0\\xa1\\x89M\\xfb?\\xb2\\xcf\\xb6\\xac\\xcf\\xfd\\xeao\\xff\\xdd_\\xfe\\xfd\\xdc\\xcc\\xec\\xff\\xf8\\x1f\\xff5\\x83\\x9e\\x9b\\x9e\\x9f\\x18\\x9e\\x9e\\x9b\\x9cg\\xcdVH\\x11\\x113\\xbby\\xcfr\\xecDu\\xb4\\xa6\\xb1\\xda\\x898\\x91p\\xb4\\xb2\\xb1\"V\\x19\\xbfv\\xf1\\x1a37\\xb56\\x19\\x1e\\x03\\x11\\x11\\x90c;\\xab\\xd6\\xac:s\\xfalSs3\"\\xa2\\xa0\\xf1\\xff.G\\xab\\xf7\\x80r\\xc0*\\xe3\\xfe\"\\x91\\x88g\\xb39\\xe3\\x15\\xc1\\xe0\\'U\\xa1p(\\x9b\\xc9\\x9a5Q(\\x1a\\x9a\\x9a\\x98JH\\x04\\x00\\x9d\\xb8\\x95\\x9b.`-\\x02\\xe2P\\xdf\\xb0\\xe7\\xea\\xda\\xd6\\x9ah<\\xea\\xb1&R\\xc2\\xda\\x9b\\xa2\\x93\\'\\x8f^\\xf9\\xc2\\xb5k\\xe7\\xfb<\\xcf3\\xbf\\xa2\\xb6\\xbef\\xc7\\xee\\xed;vmO\\x84+\\xaaj\\xaaVw\\xaf\\xb6\\x95\\r\\x00H\\xc8\\x9a\\xb5\\xe7\\x8d\\x0c\\xdd\\x99\\x9e\\x9a>w\\xfc\\x1c)EH\\xe9\\xc6\\x9a\\x8a\\xcax\\xb2:\\xa9\\x14\\x11\\x12\\x9b\\x14K\\x00P\\x1e\\xdd\\xf7\\xa8\\x13v~\\xe3\\xb3\\xbf\\xf9\\xecW\\x9e\\x9b\\x9f\\xcf|\\xfa\\xc7>U,\\x16\\x13\\xe9x\\xc3\\x8aj;\\xec\\x14\\xdd\\x82R\\x96\\xa7=[\\xd9\\xf9\\xf9Bn2\\x7f\\xfb\\xcap\\xbc2\\xda\\xbc\\xb4\\xc9\\xb2\\xecD*\\xbat\\xcd\\x92\\x9b\\x97oGc\\xd1pcD\\x99\\x06\\x03\\n\\x80\\xb4w\\xb6\\xf7\\xf5\\xf6\\xf5^\\xed]\\xb1r\\xc5b\\xbbB_\\x07\\xa2\\xbc0\\xfc\\x9eQ\\x0eXe\\xdc_\\x88\\xc8\\xe4\\xe4\\xa4\\xb1\\x19# \\x02\\xb2\\x80SU\\xa9\\xab\\xc5k\\x8a,\\xa5tM}u\\xef\\x99\\xeb\\r\\xcbjCv\\xb8\\xb2\\xbe2sn4\\x9cw\\xac\\xa8\\x1a\\xea\\x1d\\x05\\x80%\\xab\\xda\\xa3ND@\\x1c;\\xecM\\x8b\\xe4\\xb0\\xb7\\xf7\\xc6\\xa53W\\x88\\xa8\\xa9\\xb9i\\xfb#\\x0f\\xecyz\\xcf\\x8a\\xd5+b\\xe1X\\xcf\\xf1\\x0b\\xf1hl\\xed\\xa6\\xb5\\x96\\xf1\\x9dGB\\x00P \\x0et.\\x8d\\x89H\\xf7\\xa6\\xeeB\\xae0::6=5368v\\xedB_<\\x11klm\\xack\\xa8q\\xd9\\x15\\x10\\xed\"\\xa2<\\xf0\\xd0\\xe6\\xdf\\xfb\\xe3\\xff\\xfc\\xeb\\xbf\\xfc\\xbf\\xbe\\xfa\\xcd\\x83s\\xd3\\xb3\\xff\\xf6\\xb7~Q\\x88\\x0b^1\\x9b\\xc9h\\xbf\\x1b\\x80\\x00bY\\xb6U\\x8b\\x11\\x89\\xcc\\x0c\\xcd_x\\xf3R\\xcb\\x9aF\\xa8\\xac\\xa20\\xd6\\xb7\\xa6/\\x9c\\xbe\\x98LU\\xda\\x96\\xad\\xc8FBE\\n\\x91\\x97._r\\xe5\\xd2\\x95\\xe5+\\xba\\x10(\\xa8\\x9d}\\xc0\\xa7\\xe6\\x87\\x11\\xeas\\x9f\\xfb\\xdc\\x07\\xbd\\re\\xfc\\x08\\xa2d<1?7\\x9f\\xcb\\xe5Z\\xdbZ\\x8d\\xd1)\\xb3\\xc7\\x02\\xa8\\xe0f\\xef\\xad\\xaat\\x12m\\xf2\\xd8+\\x16\\xf2\\x85\\\\1\\x14\\xb35{*J\\x99\\xc1<\"\\xbe\\xf2\\xec\\xc1\\xc9\\xd1\\xa9\\x9dOokh\\xad\\x17\\x0fp\\xc6\\xd2\\x19I\\xb5\\'\\x92\\xe9\\x8aM\\xdb7}\\xf2\\xd3\\x1f\\xdf\\xf7\\xf4\\xdeG\\x9ez\\xb8\\xb1\\xb1\\xc1R\\xd6\\xd0\\xcd\\x91\\xec\\\\n\\xe3\\x03\\xdd\\xb6e\\x11\\x10)\\xc3M\\'0TO\\x14#!\\xad\\x1c\\xab\\xa2\"\\x91\\xaeO767\\xb4t6{Eo\\xf0\\xe6\\xa0\\xe7y\\x15\\xa9\\n@\\xd4\\xda\\x13\\x00\\xcd^MC:UQ}\\xe6\\xe4\\x99\\xfe\\x1b\\xb7o\\\\\\xbd\\xb9aG\\xb7\\x16\\xd7+\\xf2\\xfcx\\xd6\\x9d\\xd3\\x85\\xb9\\x02\\x17\\x05H+\\xcb\\x02\\x05\\xb1T\\x94D\\x8d\\xde\\x98\\xa8i\\xaeVH\\xc9\\xea\\xd4\\xec\\xf4l.\\x93\\xaf\\xaa\\xad\\xb2-\\x07\\x01-\\xcb\"\\xc0T*u\\xf9\\xe2\\x95\\xe6\\xe6f\\'\\x1c\"$\\xc2\\x05NV\\xb9W\\xf8\\xbd\\xa3\\xec^[\\xc6}\\xc7\\xf8\\xf88\\x12\\x98\\xa8a\\xa0P\\x11\\xd1\\xf8\\xe8\\xa4M\\xca\\xb6\\xec\\xda\\xa6\\x9a\\xe9\\xe1Y[\\xd9\\x91P$\\x91\\x8c\\xa5\\xbb\\x92\\xee\\x8c\\xf4_\\x1d@\\xc4\\xce\\xfa.\\x1cwh\"l\\xa1S\\xddY\\x99\\xa8Ll\\xdc\\xb6a\\xf3\\xa6\\xcd\\x11;\\xda\\xbe\\xbc5\\x14\\n\\x87\\xecpv67\\xd07\\xd0\\xbde]8\\x14\\xb5\\x94\\xedX\\x8e\\xad\\xac\\x90\\x15\\xb2\\x95\\x1d\\xb2C\\xb6m\\x87\\xac\\xb0c\\x85\\xc2N8d\\x85B\\xc1k\\xc4\\t/_\\xb9l\\xfd\\x96u\\x037\\x073\\xb3\\xf3d\\x94\\xacD4\\xeb\\xe9\\x89\\xd9\\xa6\\xc6\\xc6\\xcf\\xfd\\x1f\\xbf\\x9e\\xa8\\x8c\\x9f9z\\xee\\xf7\\x7f\\xed\\x0fG\\xafMN\\\\\\x9a-d\\x8a\\x05/\\xefi77\\x93\\x9b\\xbe\\x96\\x1d\\xbf1\\x9d\\xcd\\xe5\\xe6\\xf2\\xb3\\xa1Z\\xcb\\x8aQ_\\xcf\\xcdL1[\\xf4\\x8au\\xed\\xb5\\x83\\xb7\\x86\\xf2\\xf9\\x9c\\xd6\\x9e\\x16\\xd7c\\xad\\x85\\x11\\xc1q\\xec\\xeb\\xbd}\\x86<\\xcb\\xc2\\xc6N\\xb1\\x9ch\\xdd\\x13\\xca\\x01\\xab\\x8c\\xfb\\x0bRTUU\\xb5H\\x1b\\xcb7>m\\xebh\\xcder&\\xbbH$\\x13\\x15U\\x89\\xf1\\xfe)\"\\xa5\\xc8\\nE\\x9cy\\x9c)\\x16\\x8bu\\x8d\\xb5\\xc9tE4\\x19\\xa9l\\x8fVwT8a\\xdbVNa\\xda\\x9d\\xbd3\\xdf\\xb0\\xa4>\\x14\\t)e\\xb1\\xc7=\\xc7.\\xae\\xdd\\xb4\\xba\\xa2\\xa2\\x02\\x01,\\xb2\\xd0\\x1f\\xeeC\\xa5\\x94\\xe1\\x91\"\"\\x91B$\\xe5\\xcf\\xd4(\\x02$\"BLT$\\x9a;\\x9a\\x07n\\x0c\\x05[\\',29<\\x9d\\xacO\\xb4-o\\xfd\\xb5?\\xf8\\x95\\xca\\xaa\\xcak\\xe7\\xfb\\xfe\\xf2\\xff\\xfe<\\xd7\\xe7\\xb8\\xaa(\\x95\\xae\\x1b\\xcfI\\x8d\\x8b\\xcd.\\xa0\\xcc\\xdd\\xca\\xb1\\'\\x9e\\xd6\\x95\\xcdq\\xb7\\xe8\\xceOg\\x98u$\\x12\\xae\\xac\\xaa\\x18\\xee\\x1f6\\xf4\\x89\\x92\\xe3Zgg\\xe7\\xf4\\xec\\x8c\\xe9\\x10.x*\\x96\\x87y\\xef\\x05\\xe5\\x80U\\xc6\\xfb\\x8f\\x80\\xd4.\\x02\\x90\\xcd\\xe64\\xeb\\x85\\x9b\\x12I\\x88\\x90\\xb0\\xb2\\xaar\\xa8\\x7f\\xc4\\x02e+\\xdbRV\\xcb\\xb2\\xa6\\xf1\\xdb\\x93\\xde\\xbc\\x0e9\\xe1\\xb0\\x13\\xbdq\\xf1&\\x00\\xac\\xda\\xb8\\xa2\\xa6\\xad*U\\x9fH\\xc4\\x13Q\\'\\x16\\x0f\\'\\xb2w\\xf2\\xb3\\x03\\x99\\xd6\\xae\\xe6\\xea\\x9a\\xea\\x90\\x15\\xb1\\xd1:u\\xe8LkGsKk\\xabE\\xb6c;J)\\xdb\\xb6-e\\xd9\\x96\\xad\\xc8\\xb2\\x95c\\x91e[\\xb6M\\x96m\\xd9J\\xd9\\xb6\\xe5XJ\\x99\\x02\\x93R6\\x11\\xb5\\xb6\\xb5\\x8e\\x8fN\\x942\\x1d\\x11\\xc9\\xccd\"\\x95!\\xad\\xbd\\x9a\\xa6\\xea\\xcf\\xfc\\xf2\\xbf\\xaaLU\\xde\\xea\\xeb\\xff\\xb3\\xdf\\xfao3SS\\xd9|\\xa6\\xe0\\x162\\xf9\\xf9\\xbc.\\xe4\\xe3\\xf3`\\xf3\\xdc\\xedL\\xd1+\\x14t!\\x9c\\x0c\\x8f\\rNx\\xda-\\xeaBeu\\xc5\\xe8\\xc8\\x98f\\xed\\xb1\\xc7\\xcc,ZDR\\xd5U\\xb7n\\xdc\\xf4}9\\x82cT^\\x0f\\xde\\x13\\xca\\x01\\xab\\x8c\\xf7\\x19\\x86\\x99YJ\\xa9\\xa6\\xa7\\xa7\\xd35\\xe9R\\x82% \\xc8\\x00\\x02\\x89\\xcaD8\\x1a6\\xfa3\\x88\\x14\\n;]\\x1b;o\\x9d\\x1f\\xe0\\x82V\\xa4\\xae\\xf6\\\\\\x03\\x80\\xd5\\xdd+-e\\xdb*d+\\x8bD\\xdd\\xb9:\\x99\\x9d\\xc9\\xb7\\xafkK\\xd5\\xa4le\\xdb\\x96\\xea\\xeb\\xb9^U\\x93Z\\xb3~%\\x11Y\\x8a\\x08P\\xa1\"@\\xa5\\x88\\xc0\\xd7~AR\\x88\\x84D\\x84\\xa8\\x80\\x10H\\x11\\xa1\\xf9\\x1a\\x89\\x88b\\xf1\\xa8e\\xdb\\xf9L\\x1e\\x00\\x00\\xb1\\x90\\xc9\\x8b\\x88r\\x88A\\xdc\\x82W\\x19K\\xfd\\xc2o\\xff\\\\U]j\\xf8\\xe6\\xc8\\xdf\\xfc\\x97/\\xcdN\\xcdy\\xec\\t\\x08kO\\x84%\\xe9\\xb1\\x0b\\xc5Y\\x17\\x00\\x12\\xb5\\xb1\\xecd\\xce\\xf3\\x04\\x05\\xabjR\\x93\\xa3S,\\xec\\xa7W\\x82\\x02\\x98\\xaaNF\\xa2Q\\xedy\\x8b\\x19\\xa3\\x0bG\\xaa\\x8c\\xef\\x01\\xe5\\x80U\\xc6}\\x81\\xc9\\xafDddx\\xa4\\xae\\xae\\xce\\x98$\\x8b\\x00\\x88\\xe9\\xf4\\x03)\\xa5=\\xed\\xba\\x1e!\\x11\\xa2Ev\\xb26\\xd5\\xb2\\xbc\\xe9\\xd6\\xb9!\\x9d\\xd5W\\xcf\\xf7\\x02\\xc0\\xda\\rk#N\\xc4B{\\xeaVf\\xe8\\xf2h\\xbc\"\\xbaj\\xcb\\xf2\\xaaT2l\\x87CN\\xe8\\xfa\\xc5[\\xf9\\\\q\\xc3\\xa6n\\xdb\\x0e\\xd9\\xcaV\\xca\\xb6,[\\x91\\xa5\\xd0\"TJ\\xd9\\xa4\\x94\"\\xcbB\\xcb\"K)R\\xcaRJYJ\\x11)\\xa5\\x14\\xa1R\\xa4\\x14\\x10!9\\x8e=?\\x97A@\\x14(\\x16\\x8a\\xcaRZ\\x84\\x99\\x0bSE\\x8cR\"\\x1d\\xff\\x97\\xbf\\xf1\\xcfk\\x9a\\xaa\\xc7\\x87&\\xbf\\xf8\\xfb_\\x9b\\x19\\x9f-\\xbaE\\xcd\\xba\\xe8\\x15\\xb5x\\x12\\xf5\\n3\\xae\\xeb\\x15\\x04\\xb4\\x1d\\xb5\\xe7f\\xe6\\\\\\xf6\\x94m\\x85\"\\xa1\\xdc|\\x8eY@X\\x80A\\x84\\x90\\x00`>\\x93Y\\xb4L,7\\x0b\\xef\\r\\xe5\\x80U\\xc6}@ \\x8f<2<\\xcc\\xc2\\xe9\\xda\\xb4\\x89W\\xcc,\\xc2\\xc2\\xc6T\\xde\\xb3,E\\x86hn$\\xaf\\x00\\xd3M\\xd5\\xcd]\\xf5\\xaf={$3\\x9f\\xa9\\xad\\xaf\\xb594rul\\xf0\\xd2\\x88m\\xdb\\xcb\\xd6u\\xb4,k\\xb6m\\xc7\"\\xcbV\\xd6@\\xdf\\xd0\\xfc\\xcc\\xfc\\x96\\x8769\\xe1\\xb0E\\x16\\xa1\\xa1X\\x11\\x11!!\\x02\\x11\\x82\\x9bw\\xc7F\\xc7&&\\xc6\\x8b\\xf9\\x82\\xa9j\\x19\\x1bC$\\xa3\\x0cC\\x88\\x04\\x88\\x84*U\\x9d\\xcc\\xcd\\xe7\\x11\\x01\\x89X\\xfb\\xfe\\xa8\\x08\\xc8\\x1a,\\x07\\x100^\\x19\\xfb\\x89\\xff\\xe9\\x93\\xb5-\\xe9\\xa9;\\xd3\\xaf|\\xf1\\x90\\xa1\\xed\\xfb\\xab\\xb9\\x08\\xb2\\xe7w!\\xed\\x90\\xf2\\n.\\x02\\x82\\x88\\xed\\xd8\\xc5b\\xd17.\\xf4k\\xeb\\x18\\x8b\\xc5\\xdc\\xa2\\x0b\\x8b\\xe2T9\\xc3\\xba\\'\\x94yXe\\xbc\\x9f\\x90\\xbb\\xfe\\xf0\\x85\\x0b\\x17\\xda\\xdb\\xdb@\\x84}~9\\xb3\\x88\\x16O\\x84\\xc7\\xeeL\\xcc\\xce\\xccY\\xb6U\\xf4\\x8a\\x12T\\xbd\\x081U\\x97\\xcac\\x16\\x00\\x96,\\xed,d\\n\\x15\\xd5\\x15\\xe9\\xba*e+\\xc7\\n\\x01B\\xc8r\\x00`lp|\\xa4\\x7fd\\xfb\\xc3\\xdb\\xe2\\xb1\\x98\\xad\\x14\\xa2\\xb2,\\x8b\\x90\\x14)\\xc3\\x18\\x18\\x1d\\x19=\\xfa\\xe61\\xd7s\\x95R\\x08\\xe0z^<\\x16\\xeb\\xde\\xd8]\\xdfP/\\xa8@\\x8b 2\\x11\\x89\\x10*\\x06\\x0eG\"\\xb33\\xb3\\xb5\\x98\\x06\\xf1\\xc8B\\xd6\\x8c\\x04\\x80 \\xcc\\x82f\\x9c\\x08\\xa2\\x89\\xc8\\x8f\\xfd\\x87\\x8f\\xfd\\xf9\\x7f\\xfa\\x9b\\xccLv~&\\x93\\xacJ\\x05&\\xf5\\x9a]\\xf6\\xe5\\x8f\\x11\\x99E\\x80M8\\xd2\\xccA\\xa5J\\x80\\x01\\x94h\\xd6fxHJ1\\xac\\x9ca\\xdd\\x0b\\xca\\x01\\xab\\x8c\\xf7\\rf\\xa8\\xd8\\xfc\\xa7\\x81\\x87\\x06\\x87\\xc6\\xc7\\xc7w\\xec\\xd8\\xce\\xcc\\x00\\xc0\\xacED\\xb36\\x1e\\\\=\\xa7\\xce/]\\xbdD\\xfb\\x06\\x82Z\\x0b3\\x98\\xe9B\\xb9\\xd4s\\x19\\x00\\x1e|dk\\xdb\\xaaVD\\xb1-G\\x04-\\xcb\\x12\\x11K\\xd9s\\xd3s\\x037\\x067n[_\\x99J\"\\x92\"\\x8b\\x90\\x08\\x15)B$B:\\x7f\\xee\\xc2\\xe17\\x0e?\\xfe\\xc4cK\\x96.\\xb1,\\x1b\\x01<\\xad\\xaf\\xf7]\\xff\\xfa3\\xcf\\xee\\xdc\\xbds\\xe5\\xca\\x15H\\x84\"%\\xe1b\\x04LT\\xc6\\xfbo\\xdcFDB\\x15\\x89\\x86=W#\\x10\\x01)Gy\\x19\\xadP!\\x11)K\\x18\\x8a\\xb9\\xe2\\xd4\\x9d\\xe9De\\xdcRJL\\x99\\xcc\\xb3\\xad\\x90\"\\xb4\\x14\\x92W\\xd0\\xb6m\\x99\\xfec\\xb1Pt\\x1c[!\\x01\\x82I\\xe6\\x00\\x915[\\xb6U\\x0eQ\\xef\\x19\\xe5\\x80U\\xc6\\xfb\\x8c\\xc0\\x97^\\x8e\\x1c>\\xb2n\\xfdz\\xcb\\xb1]\\xcf\\x05\\x01\\x16f\\xd1\\xccZ\\xb3\\xf4^\\xe9\\xb5m\\xd5\\xdc\\xd9h|\\xe4\\xb5y\\xdf\\xac\\x14Y_8s\\x11\\x00\\xd6l\\\\\\x1d\\xd0\\xb6\\x88|\\x95+D\\xa4+\\xe7z\\x97tuT\\xa7\\xd3\\n\\x8d\\xbc\\xba\\xbf\\x144\\xa5\\xf5\\x9e3=\\xbd\\xbd}?\\xf3/~\\xa6\\xa2\\xa2\\xa2$;eY\\xd6\\xb2\\xaee\\xe9t\\xfa\\xf9\\xe7\\x9fO\\xc4\\xe3\\x8d-M`\\x94\"\\x04\\x10\\x91\\x00\\xaa\\xd2Us\\xd3\\xb3 \\x82\\x88N8\\xa4\\x88\\xc4\\xe5L&Ga\\xd2w\\xd8\\xaaA\\x8b\\x95&5pe\\x10\\x00\\x9a\\x975*\\xcb\"R\\x08\\xa0\\x94\\x92\\x0c\\xd8\\x15\\x16\\x11!R!S\\x8cW\\xc4\\x10\\x88\\x05\\xf2\\xd9|,\\x1e\\x93@\\x91\\x02\\x00\\x10\\xa0\\x90\\xcf\\xc7c1(\\xab4\\xbcW\\x94kXe\\xbco\\xf0\\xd3+\\x11\\x01\\xe99\\xd7\\x13\\x8b\\xc5\\x96,\\xed\\xf4\\x13(\\xf6<\\xad=\\xad=\\xed\\xf5\\xdf\\xb85x{\\xa8k\\xfdr\\xcfs\\x0bn\\xb1\\xe8\\x15\\x8bn\\xa1\\xe8\\x15]\\xb78;\\x939{\\xec\\xc2\\xec\\xf4l\\xba\\xb6\\xba\\xa6\\xa1V\\x80K4%\\x02B\\xc0\\x89\\xe1q\\xdb\\xb1\\xda:[\\x11\\x08qQZ\\x85\\x84`\\r\\x0e\\x0e\\x1d?~\\xe2\\xe9\\x8f>e8Y\\x8b\\xf5\\xd4\\t)U\\x95\\xda\\xbem\\xfb\\xe9Sg\\x08\\x10\\x01\\x11\\x8cC\\x04!\\xa2c\\xdb\\xc9\\xaadf6\\x8b\\x88\\x96e\\xc5\\x93\\xf1\\xdcl\\xe1\\x1b\\x7f\\xfb\\xdc\\xaf\\xfc\\xf4\\xaf\\x9d:sZe,\\xc7v\\x1ce\\x0f\\xf5\\xde\\x01\\x80\\xf6\\xe5-\\x8e\\x15\\n\\xd9a\\xdbvl\\x0e\\x8bK\\x89\\x9a\\xb8\\xadl/\\xcb\\xe1X(\\x12\\x8b*\\xa5rs\\xb9h<f\\xd9\\x16*\\xf0MV\\x01\\xe7\\xe7\\xe6=\\xad\\xc3\\xe10\\x04\\xca2\\xe5\\xb0u\\xaf(\\x07\\xac2\\xde\\x07\\x04M@S\\x8a\\x92B>\\x7f\\xfd\\xfa\\xf5\\xf5\\xdd\\xeb\\x04\\xc4\\x94\\xd9\\x8d\\x1b\\xb3h\\x1e\\x1d\\x19\\xbdp\\xf6R\\xe7\\x8a\\x0e\\'j\\xb9\\xda7\\x7f\\xcefs\\xc3\\xd7GzO\\xdf\\x1c\\xbc2x\\xfa\\xcd3\\x00\\xd0\\xda\\xda6;6\\xc3&^\\x19\\x19\\x16\\x04B\\x9c\\x9e\\x9aI\\xd7\\xa5\\rUA!\\x19\\x02(\\x10!\\xa2\\xc7\\xee\\x917\\x8e\\xec\\xd9\\xb7\\'\\x1a\\x8d.\\xf6}(\\x15\\x89\\x10\\xb1\\xad\\xbd\\xcd-\\xba\\xc3C\\xc3%\\xabf\\x13\\xcb\\x10)]S=3>c\\xf2\\xb5\\xcatEv\\xaap\\xe9\\xdc\\x15\\xcf\\xf3Z\\xba\\x1a\\xdc\\x19Q\\xae\\xedXN\\xff\\x95\\xdb\\x00\\xd0\\xb9\\xba\\xd3\\xa7\\xd1CXO@$\\xed\\xd8\\xb6\\xb2,{n|>Q\\x15\\'\"\\x8b\\xec\\xf1\\xd5mkl\\x00\\x00 \\x00IDAT\\x91\\x89\\x9a\\xba\\xb4)\\xaba\\x10\\xb2&&&\\xea\\xeb\\xea\\xfc\\xa5h9X\\xbd\\'\\x94\\x03V\\x19\\xef\\x07$\\xe0B\\n\\xb0\\xc8\\xa9\\x93\\xa7+++j\\xeaj4k\\xadY\\xb3\\xe7\\xb2\\xe7jwrj\\xea\\xec\\xff\\xd7\\xde\\x9d\\x05\\xd9}\\xddwb\\xff\\xfd\\xce9\\xff\\xed\\xee\\xf7v\\xf7\\xbd\\xb7\\xf7\\xbd\\xb1\\xa3I\\x00$H\\x80\\xa2D-\\x94l\\xcf\\xc8\\x92\\xec\\xd8US\\xe3<\\x8c3\\x15\\'\\x95\\xa9T^\\xa6f\\xaa\\x92\\x1aW*\\x95J\\xf22/\\xc9C*\\xb1\\'\\x93\\x99\\xb1\\x1d[\\x8a\\x1c[VY\\x12E\\x8b\"\\x05R$@\\x12[\\x03\\xbd\\x00\\xbdo\\xb7o\\xdf}\\xfb/\\xe7\\xfc\\xf2\\xf0\\xbf\\xdd@\\x94I\\xca2A@Wu>\\x8dj6\\x1ah\\xf6\\xc5\\xed\\xc6\\x17g\\xfd\\xfdn\\xdc\\x9e9?\\x1dI\\xda\\x1d\\xcfu\\xfdN\\xa3Q{pgu\\xe5\\xa3\\xd5\\x8e\\xdbI\\x8d\\xc4\\xf3\\xa7\\x07\\xb6v7\\x01\\xe0\\xdc\\xe53\\x9b\\xf7vvVv\\x03\\xe9I\\x19\\x84\\xb7[\\xa4R\\xb5J\\xddv,<\\xaa1J\\x84\\xdd*-\\x88\\x9b\\xab\\x1b\\x99tz||\\x1c\\xc3\\x07\\x84?\\xbb\\r\\x176\\x8b\\x9e\\x9c\\x9e\\\\_\\xdf@\\xe8\\xae`1\\xc4\\xb0v`\\x7fn`o\\xb7 8\\x17\\xcc\\xc8\\r\\xe7\\x8a;\\x87\\xabKk\\x9c\\xf33\\x97NG\\xfbm\\xbf@\\x9d\\x03\\xff`\\xfb\\xd0\\xb0\\x8c\\xd9\\x93S\\xb6e\\x1b\\xae\\xa5\\xf6\\x99\\x153\\xe2\\xd9\\xa8m9\\xd0\\x82\\xdaA3?\\x955\\xb8)\\x90\\x17w\\x8b#\\xe3\\xc3\\x9c\\t\\x06\\xac{\\x10\\x0c\\xd8\\xd6\\xe6V$\\x1a\\xc5G\\x15\\x92Q\\xaf\\xb9\\xff\\xbct`iO\\x0e\\x01\\x015\\x9b\\xcd\\xdb\\xb7o_\\xbcx\\xe1h\\xd0\\xa5\\x94R\\xa4\\x94\\xeby\\x1f\\xdf\\xb858\\x96\\xeb\\x1bH\\xf9\\xd2\\x0f\\x02\\xaf\\xb8[|\\xf0\\xf1\\x1a\\x91\\xca\\x9f\\xeeO\\x8e\\xc4\\x98M~\\xe0\\xdd\\xbb\\xb9\\x08\\x00g_<5va\\xa8Yk\\x16\\xb7K*,W\\xa5\\x08\\x00\\xa2\\xb1H\\x10\\xf6\\x9e\\xe8.\\x97#\\x020\\x00\\x048<,\\rd\\xb3\\x88\\x08\\xf4h\\xb2\\xd5\\r\\xa6\\xc7Rahh\\xa8V\\xad=\\xf6>d\\xc0\\x101;\\x94%\\xa5\\x94\\xaf\\x18\\xa2\\xe0\\xa2\\xe1\\xd5\\xa5\\x94\\xd3\\'\\'c\\xf1X,\\x1b\\x8b\\x0fGW>\\\\%\\xa2\\xb1\\xf1Q\\xb5\\xcf\\xda\\xf7\\x95j@t\\xd0I\\x0f\\'L\\xc3b\\xc4\\x8b\\xeb\\xd5\\xc93c\\x96as\\xc6\\x0fw\\xcbV\\xc4\\xce\\xf4g\\xba=\\x0b\\xa1[\\x0c\\xb9\\xd3v\\xc7\\xc6F\\x1fM\\x04\\xf5\\x9c\\xf0\\xe7\\xa7\\x17\\xdd\\xb5\\'\\xe0xs\\x10\\tn\\xdf\\xba5wb\\xd6\\x8e8J))\\xc3r\\x9d\\x01\\x80\\xbau\\xfd\\x96i\\x1a\\xf9\\xf1\\\\\\xc7s]\\xaf\\xb3\\xb1\\xbcU=\\xac\\xa7F\\xe2\"\\xc6;^\\x87@\\x06\\xca\\xdf\\xdf.V\\x0e+\\xf1d,\\x99Mx\\xcaMO$w\\xee\\x14\"\\x89H,\\x193\\xb9\\xc9\\x18\\xb3l\\xab|XVJ1d\\xd0=\\xc1\\xd5=\\xf5U\\xa9T\\xa7g\\xfa\\x81\\x8e\\xfe\\x15\\xfe\\xff\\xa8?\\x1c\\x8f\\xc5\\x0b\\xfb\\x85\\xe3\\x83\\x9ba[/D4\\x85\\xe0\\\\\\x94\\x8a\\xa5\\xf8@\\x02\\x94\\xbf\\xb5\\xbd\\x05\\x00\\xb3\\'\\xe7,a\\x83\\x023c\\xee\\x95w\\x01`\\xee\\xecl,\\x17K\\x8e\\xa1\\x13s\\x88(bEd\\xa0\\x0e\\x1e\\x96\\xd3\\x03\\xc9\\xc1\\x91\\x9c\\x02\\x10Ll=\\xdc\\x9e\\xbfpN0\\xce\\x18\\xe7\\x80\\x8cq\\x06X\\xaf7\\x0e\\x0f\\x0f\\x87\\x86\\x86\\x8e*\\xf7\\x11<\\xb6\\x1e\\xaf\\xfd-\\xe9\\x11\\x96\\xf6d A\\xb8\\x15X<(\\xce\\x9e\\x98\\xedV\\xf5\\x0c\\xbb\\xd2\\x93*\\x16\\x8a\\x8dZc\\xf6\\xfcL \\x83\\x80\\x82\\xad\\x07\\xbb\\xd5b-7\\x97\\xe1Q\\xf4|\\xd7Sn\\xa7\\xed\\xb6+\\xee\\xc2\\xfb\\xf7\\x01`\\xe6\\xec\\x94R2\\x90>3\\xa0o*\\xb5\\xb3\\xbc\\x1f\\x04>!\\x11Qj \\xd5\\xa85\\xa1\\x1b\\x91\\xdd\\xb0\\n\\xff\\xce;\\x8e\\x03\\xf0\\xff\\x08\\xa9\\xb0\\x8e\\xf2\\xcfPJ\\xa5\\xd2\\xa9\\xc7\\x1fx\\xf7c\\x88\\r\\xe4\\x07\\x1a\\xd5&\" \\xb0\\xdb\\x1f\\xde\\x01\\x80\\xd1\\xa1Q\\x19(\\xce\\xb9`l\\xe9\\xd6\\n\\x00\\x9c{\\xf9t\\xa2/\\xea\\xc4\\x1c\\x93\\x9b\\x96\\xb0(\\x80\\xfd\\xa5C\\'j\\x8f\\xce\\r3\\xe4\\x06\\x13k\\x8b\\xeb\\xb6\\xe3\\xe4\\x87\\xf3\\x9cs\\x86\\x0c\\x18G\\x04`\\xb8t\\x7fqxd\\x88q\\xf6\\xd8\\x9e\\xa1\\x9e\\x10\\xfe\\xdct`iODw\\xbd}}}\\xad\\\\\\xaed\\xb3\\xd9\\xf0<\\xbb\\x94\\x81T\\xd2\\x93\\xee\\xed\\x8f\\xee\\xe6\\xc7\\xf3\\x04\\xca\\xf5\\xdd\\xad\\x87\\xdb\\x95b%;\\x97\\xf1\\x94\\xd7j7+\\x07\\xd5\\xc3{\\x95\\xca\\xc3F\\xfd\\xa0\\xb3ts\\x05\\x00\\x06\\xfb\\x87k\\xc5F\\xd3m\\xb6\\xdd6\\x8f\\x003`ki\\xc7\\xf3]7p\\x9d\\x84#\\x83\\xa0Z\\xa9J\\xa5\\xc2%yI*,\\xd4b\\xd9\\xd6\\xfa\\xda:u\\xaf\\xef\\xd1\\xa3-\\xcb\\xe3\\xd2\\xf1@\\x8a\\xd4\\xf6\\xf6\\xb6c;G\\r\\x12\\xbb\\xb7\\x85\\x00\\x00\\x90b\\xf1X\\xab\\xd5f\\xc4\\xfd\\x8e\\x7f\\xff\\xee\"cx\\xee\\xc2\\x99\\xc2\\x83\\xa2\\xc9M\\xe5\\xd2\\xd6\\xea\\xb60\\xc4\\xe9s\\xa7#v4bE\"F\\xa4S\\xf2\\xb7\\xee\\xec\\xf7\\xe53sg\\xa6m\\xc3\\xb1\\xedH\\xf5\\xa0\\xb6\\xbf]x\\xe1\\xca\\x05C\\x98\\x8c\\x0b\\xc1\\x85@\\xc6\\x18\\xf3;\\xde\\xbd\\x85\\xfb\\x17/\\\\B\\xecV\\xef\\xd3\\xd3\\xc1\\xbf\\x1b\\x1dX\\xda\\x13p4-\\xa3\\xd5\\xd5\\xf5\\xb3\\xe7\\xcf\\x1e\\xdd\\xcc\\xe9\\xde\\x1d\\xdc\\xdf.x\\x9e\\x97\\x1d\\xeaSJ\\xb5\\x9b\\xad\\xe2\\xd6a\\xdfxZ2\\xe5\\x07^}\\xbb\\xe9\\x1ez<C0\\xe4\\xd3@gmu\\r\\x00&\\x9f\\x1f\\xf1JA{\\xdf\\x93JJ%\\xfb&\\xd2\\xedZ\\xa7\\xd3\\xf1\\xc20\\x8a\\xa7\\xe3\\xfb\\xbb\\x07\\x04a3\\x0b\\x85\\x00D\\n\\x00ff\\xa6[\\xad\\x96\\xeb\\xbaG\\x17\\x8e\\x8fk\"t71\\xc3\\xf7\\xad\\xad\\xad\\x8dO\\x8e\\x87\\xef\\r\\xdf\\x13\\xfe\\x17\\tL\\xcbh\\xb7\\xda\\xc0\\xe8\\xf6\\xcd;\\xbe\\xe7O\\x9f\\x98\\x9e9?\\xc5\\x05\\xdf^,\\xdc\\xf9hA)5{j&\\x16\\x8d\\x08\\xe4\\xad\\x83\\xf6\\xceb\\xa1Un\\x9f\\xb88=8\\x9eg\\x8c\\x0b!\\xda\\xd5\\xd6\\xca\\xc2\\xea\\xc5\\x97.X\\x8e\\x8d\\x88\\x06rd\\x08\\x0c\\x19\\xf0\\xbbw\\x17ffg\\x92\\xc9\\x04\\xe8Q\\xd5\\'\\xa3\\x03K{\\x12\\xa8\\xdb\\xe1\\xbdZ\\xa9\\x8e\\x8c\\x0c\\x13\\x91\"I$\\x03%%\\x05\\xab+k\\xc3\\x13C\\x81\\n\\x02\\xe9m\\xadlGR6\\x99\\xd4\\xf1\\xda\\xa5\\xd5\\x9a\\xd7\\xf6e_\\xd0\\xe1\\xcd\\x96\\xdb\\xdc\\xdf\\xd9\\xaf\\x14\\xabv\\xd4\\x8e\\x8fEe\\xa6\\xed\\xd5\\x82\\xda~\\xa3\\xed\\xb5\\x03\\xf0\\xcc\\xb8\\xd8_\\xdf\\xf7\\x02/\\x90~\\xba?\\xb9\\xba\\xbc&\\xa5\\x1fH\\x19(\\xa9B\\xa4\\x12\\xa9x4\\x1a\\xbdv\\xed]\\x92\\x8aTxo\\x91(\\xbc\\xbbH\\xa4@)\\xa5\\xee\\xde]\\x08|\\x7f|r\\\\\\x11)\\x90\\xe1a\\x0b\\xa9\\x02\\xa9d@\\xcaw=\\xd32\\x81\\xe0\\xa3\\x0f>\\x02\\x80\\xf9\\x8b\\xf3\\x82\\x19S\\xe7&\\x9c\\xa8\\xfd\\xde\\x1b\\x1f\\x00\\xc0\\xf4\\xf4\\xd4\\xc1\\x83\\xf2\\xf2\\xfb\\xeb\\xad\\x8a\\x9b\\x1b\\xcb\\x9e\\xbc8\\x97Ngl\\xd3\\xb6-\\x1b$\\xdc\\xbb\\xb5x\\xea\\xcc\\\\~0or\\xc3\\xec^\\xc3\\xe6\\x9c\\x89\\x8e\\xdb\\xd9\\xd9\\xda\\x99\\x7fn\\x1e\\xc2\\xbb\\x8b\\x00\\x80\\x10\\x1e4}\\xb6_\\xb4^\\xa4\\x9f2\\xed\\x139*\\x9e\\t@\\xd0j\\xb7\\x9b\\xadf2\\x95<\\xbe\\xa4\\x03@R)\\xdf\\xf3\\xb3\\x83YE\\xaa\\xe3zn\\xdbK\\r%\\x95\\nZ\\x87\\xae\\xf2%\\xe6\\x94\\x04\\xcf\\x97\\x81T\\xc1\\xea\\xbd\\r\\x00\\x18\\x9e\\x19$R\\x01H\\xea\\xf7\\x82\\x9a\\xf2;\\x01\\x11E\\xfa\\xecN\\xdd%\"R\\x90\\x1cHDbN\\xbb\\xd5~t\\xc7\\x1a l\\x81\\xf3\\x99\\xcf}\\xa6|Xz\\xe7\\x9dw\\x1a\\xcd\\x06tk\\xe3=\\x9a\\x1b\\xde\\xb9}gyi\\xf9\\xc5\\x97^d\\x88\\xe1\\xff\\xeah\\xdc\\x15\\xaea\\xa9\\xe2\\xc1a\"\\x15\\'\\xa20\\xb0\\xce_<\\x17\\xb6/\\x1c\\x9a\\xcem\\xefl\\x01\\xc0\\xdc\\xe9\\x13N\\xc29\\xf1\\xe2\\xec\\xf4\\xfcD:\\x9b\\xe6\\x8c1d\\x82q \\xbc\\xf7\\xe1b~(7:5\\x16\\xd6\\xac\\x01\\x08\\xef\\xe7 G\\xfc\\xe8\\xc6G\\xe9L:\\x99L2\\xc6\\x8eV\\xcc\\xf4\\x8c\\xf0\\xefH\\xef\\x12j\\x9fLX\\xee\\t\\x08\\x00\\xca\\xe5\\xb2i\\x99\\xc0\\xb0\\x9bW\\x04\\x8aT\\xa9X\\xae\\x96\\xab\\xa6m\\xb4Z\\xad\\x83\\x9d\\xa2T\\x8a\\x98\\xf4\\xa5\\xd7\\xda\\xef`\\x1fy\\xca\\xf3\\x03\\xcf\\r\\\\%i{a\\x17\\x00\\x06\\xa7\\xb3m\\xbf\\x03\\x80\\x8c\\xf9\\xdc0;\\xfb\\xe4%<4Y \\x83J\\xb1\\x16\\xb5\\xe3\\x0c\\x19\\x00m\\xaem%\\x13I\\xae\\x98d\\x86b\\n\\x11\\x190\\x81\\xf8\\xfa\\xaf\\xbe\\xfe\\xe1\\xf5\\x8f\\xfe\\xfc[\\xdf\\x1e\\x9b\\x18\\x1f\\x1e\\x19N\\xa7S\\x88\\xb8\\xb5\\xb9\\xbd\\xb1\\xb1\\xe1{\\xfe\\x8b/\\xbd\\xd8\\xd7\\xdf\\x1f(\\x1f\\x88\\xa4\\x94\\x00\\x14\\x04\\x01!\\x05\\x81W:,\\x97\\x8a\\x95\\x0bW&:n\\xfb\\xf6\\xc7w\\x11\\xf1\\xecs\\xa7\\x15(\\x05\\xaa\\xdd\\xee<\\\\^\\xe5\\x9c\\xbf\\xf2\\xfae\\'\\x1a\\x11\\xdc@@\\x83\\x1b\\xc8\\xc0\\xe4\\x160X\\xbe\\xb5\\x12\\x8dF\\xcf\\x9c?\\x0b\\x04B\\x18@\\xc09\\x07@\\xce\\xc4\\xee\\xce\\xee\\xc1\\xfe\\xc1\\xaf\\x7f\\xed\\xab\\x88\\x08*\\xec\\xf0\\xf5\\xef\\xdb\\x0b\\xd0\\xfevt`i\\x9f\\xc8\\xd1>\\x1d\\x10@\\xab\\xd5\\xea\\xcb\\xf4\\xe1\\xd1\\xba\\x11\\x00 A\\xbd^\\x1f\\x9e\\x18\"  \\xe5\\xb6\\xdcD6\\xa6\\x88\\xbcF\\x80\\x8c\\xc8\\x96\\xe4\\xcb@\\x05\\xe8\\xf2h=\\xbe\\xbd\\xb2\\x0b\\x00\\xd3\\xc3\\xb3DJ\\x91Bb<\\x8d\\xc1.-\\xdfy0wn&\\x9av\\x9a\\xd5\\x16\\x8e\\x121565\\xba\\xfe`\\x93\\x00\\x15\\x80\\x02\\xc5\\x81\\x01\\x00\\x11(T\\xa6a\\\\y\\xe5\\xe5\\xe6\\xf3\\xe7V\\x96\\x1e\\xde\\xbb{\\xafT*\\x99\\x96\\x99J&\\xa7\\xa7\\xa6\\xa6\\xe7\\xa6\\x95\\xean\\\\\"\\xa0\\x02\\x85\\x00\\x8a\\x08\\x01\\xda\\xae{\\xfb\\xc3;c3#\\xdcd7\\xdf_\\xe8t:\\x13\\xd3\\x13\\x89T\\\\*\\xa5H\\xdd\\xbbu/\\x08\\xe4\\xdc\\x99Y\\'\\x12\\xe9\\xae\\x97\\x1f\\x9d\\xa3G\\xc4\\xe2\\xdea\\xa7\\xe3^\\xb8r\\xe1h\\xdb\\xef\\xf8\\x84\\x18\\x02\\xc0\\xed[\\xb7\\xcf\\x9c;cX\\x02\\x01\\x8e\\xa6\\x80:\\xaf\\xfe\\xeet`i\\x9f\\x08\\x02v\\'\\x7f@\\xadf\\xb3\\xd5ju\\xab\\xd3!\\x00\\x81\\x02\\xa8UjJ*P\\x04D\\xadF;\\x9a\\xb5\\x89H\\xba\\x92\\xd9L\\x1e\\xf5\\xd6\\xb1\\x1b\\xd1C\\xf7\\xa0T,\\x1b\\xa6\\xc8\\r\\xe6\\x82\\xb6GBI\\xa2\\x00\\xbd\\x0f~z\\xeb;\\xdf\\xfc\\xab\\xd7\\xfe\\xfe\\xab\\xff\\xf0w\\xffau\\xb7\\xe6K\\xc9%&\\xfa\\x92\\xc1bP.\\x1e\\xa62\\t\\x19p\\xc5\\x18\\x100d*\\xbcZ\\x08\\xd2\\xb2\\xec\\xb3\\xcf\\x9d=7\\x7f\\xe6\\xd1yw\"I\\x92\\x94\"\\xa0@J\"\\xf2\\x95\\x0f\\x8a\\xdc\\xa0\\xe3\\xfb\\xc1\\xbb?zo \\xdf\\x9f\\xce\\xa7<\\xaf\\xf3\\xd3\\xf7\\xde\\x07\\x80\\xb3\\xcf\\x9fv}\\xd7\\xed\\xb8\\xf5r\\xeb\\xbd\\x1f\\xbd\\x0f\\x00\\xa7\\xe7OI%\\x19c\\n\\x80\\x03\\x84\\xe5L\\x19g\\x85\\xdd\\x83\\x91\\xb1\\x11\\xcb\\xb4\\x04\\xe7@(\\x18#\\x84\\xf0j\\xf4\\xce\\xe6v\\xe0\\x05\\'O\\x9e\\x84\\xa3\\xfc\\x02\\x04\\x86\\xfc\\x19}\\xad~\\x19\\xe85,\\xed\\x13\\tW\\xdb\\xc3T\\xe0\\x86H\\xa7\\xd2G\\xdbn\\x00@\\x08\\xc48\\xb3m\\x1b\\x18\\x10P\\xb8\\xe4\\x83\\xe1t\\x0cI)\\x05DR)`\\x00\\xd1\\xe0\\xd4\\x95Y\\xa5\\xd4\\x83\\xb5\\x15\\x1e0\\x00\\x00\\x02\\x04H\\xa6\\xe3B\\xf07\\xff\\xe2\\xad?\\xfc\\x1f\\xff\\x95\\xd7\\xf1A)\\xc5\\x88\\x102\\x03\\xe9\\xcd\\xf5m\\x15\\xaeQI\\x02\\x00u\\xb4)\\t\\x04\\n\\x14(\"\\xa5\\x80\\xa0\\xfb\\x9a\\x08\\x08$t\\x0b\\xdd\\x00\\x90\\x92\\x8a\\x00<\\xd7\\xbb\\xf6\\xe6\\xbb\\xfd\\xf9\\xbe\\xa9\\x93\\x13DJ\\x02\\xdd\\xfa\\xf0\\x0e\\x00\\x8cO\\x8e/\\\\[zxs\\xb3\\xb2_\\xb9\\x7fg\\x11\\x002\\xb1\\xbez\\xb9\\x01\\xd0\\xddW\\x0c\\xb7&IQ\\xad\\\\\\x1b\\x1c\\x1b\\xc4\\xf0\\xf1b\\xf7\\x08>\\x020`\\xf7\\xef/\\x9e:s\\x12\\xf1QK/]\\xac\\xef\\x13\\xd2\\x81\\xa5}\"\\xe1\\xe1\\xccp\\xfe\\xa7\\x02U*\\x97\\x1ek\\xc1\\x1e\\xde\\xf7\\x83V\\xab\\x1d\\xd6\\x81!\\x02\\x08\\x801fZ\\x06(4\\xb8\\xc1\\x990\\xb9\\t\\x08)\\xd6\\xcf9\\x97\\x81\\xfa\\xf3?\\xfc\\xce\\xca\\xe2\\x03\\xc69c\\x9c!?q\\xf6\\xc4\\xef\\xfd\\xb3\\x7fl\\xd9\\xd6;?\\xb8\\xf6\\xc7\\xff\\xe6OZ\\xad\\x8e\\n\\xa4\\x94^nt`w{\\xb7\\xb0[p\\x83\\xb6+\\xdd\\x8e\\xd7q=\\xd7\\xf5\\xda\\x1d\\xdfm{\\x1d\\xcfw;~\\xdb\\r<\\xd7\\xef\\xf8\\x81\\xef\\xf9n\\x10x\\x9e\\xef\\xfa\\x81\\xef\\x1e\\xbd\\xf6|\\xb7\\xd6\\xa8\\xbd\\xfb\\xe3\\xf7R\\xfd\\x89\\xc1\\xc9\\\\\\xd3m6\\xda\\xcdZ\\xb3\\x1a\\x1e\\x19\\x1d\\xcc\\xe53c\\x89\\xa1\\xb3}\\x89\\xf1\\xe8\\xda\\xc3uD\\x9c\\xbfrvca\\xfb`\\xa7\\x18(?\\x90\\xbe\"\\xa9HJ)\\x192\\xc19v\\xc7\\\\\\x8f~Tj\\xd5Z\\xb563;\\x83\\xdd\\'\\xa9[\\xb3\\xe1\\x19}\\xa1~I\\xe8\\xc0\\xd2>\\x99\\xc7\\x1a\\xaf\\xc7\\xe21\\xc7q\\x90\\x1e\\xfd\\x02\\x02\\xc6\\xd3q\\x86\\x18\\x8e\\xba\"\\x89\\x88\\xd7v\\x11\\x19w\\x84\\xea\\x90\"\\x85\\x0c\\x15\\x91\\x97ja\\xc0~\\xfd+_\\xbb|\\xf5\\xb2\\x0c\\xe4\\x9f\\xff\\xab\\xbf\\xba{\\xed~\\xb7b\\x95Os\\xe7g\\xfe\\xb3\\xff\\xfa?v\\xa2\\xce\\xc77>\\xfeo\\xfe\\xe9\\x7f\\xeby\\x1e\\x00\\x08\\xcb\\x9c;3{\\xf7\\xe3{\\x85\\xbd\"\\x81\"\\xa0\\xa3q\\x93\\x04\\xa2 ,\\x19H\\x8a\\x00\\xa4\\x92\\x04$\\x95\\xa2\\xee\\xd8\\n$I h\\xb5\\x9a?\\xf9\\xe1\\xb5L\\x7fj\\xf6\\xecTXO\\xc2mw\\xde\\xf8\\xb37\\xdb\\xadvn(;si\\xd2J\\x9aR\\xa9\\xc5\\xdbK\\xbe\\xe7\\x8fN\\x8dd\\xc7\\x07\\x86Nf\\x8b\\x9b\\xe5\\xfaa#\\xbc\\xe3\\r\\x00\\x9c\\xb1\\xf0\\xa6$\\x00<6\\xb4\\x04\\x048,\\x1c\\xe6\\xf2\\xb9n\\x01?\\xbd\\xce\\xfe\\x84\\xe8\\xc0\\xd2>\\x91\\xa3\\xa6\\xf0\\x08\\x00\\xb1H\\xacR\\xa9@\\xb7\\xca\\x14\\x84\\xadi\\xfa3}\\x07\\xfbE!\\x84!D2\\x1doU<\\x83\\x9b\\x91\\xa8\\xc38\\x17-\\xdb1\\x9d\\x98\\x1d\\xb5,\\x93rn\\x90\\xed|\\xf6?\\xbc\\xfc\\xd9\\xdf\\xbcJ\\x8a\\xbe\\xfb\\x07?X\\xb8v_\\x90\\x81\\xc4\\xcc\\x88y\\xe2\\xdc\\xdc\\x7f\\xf5/\\xffy,\\x16\\xbd\\xfe\\xde\\x8d\\xff\\xf2\\x9f\\xfc\\x8bj\\xad\\xe6\\xfbn2\\x9b\\x98:5y\\xfb\\xc3;o\\xbf\\xf1\\x93\\x8d\\xf5\\x8dV\\xa7\\xd9r\\x9bm\\xbf\\xd5t\\x9b\\xae\\xd7nv\\x9a\\x1d\\xaf\\xd3v[n\\xe0\\xb6\\xbd\\xb6\\x1b\\xb8\\x1d\\xaf\\xed\\x07n\\xc7k\\xbb\\xbeW\\xaa\\x96\\xae_\\xbb\\xd1\\x9f\\xcf\\xe4\\xa7\\xf2\\xcdN\\xbb\\xd9i\\xec\\xef\\xec-\\xdeX\\xd9\\xd8\\xd9\\x00\\x80\\xb9s3\\xd5V\\xb5\\xde\\xae\\xd7Z\\xb5;\\x1f\\xdd\\x01\\x80\\xe9\\xd3\\x93\\r\\xb7.\\x8d >\\x18yxs\\xbd\\xd9j\\x06\\xd2\\xf7\\x03_\\x92\\xb4#v\\xb9TQD\\xdd\\xdbIG\\x8a\\xa5\\xa2a\\x1a\\x84G#+\\xd47\\x07\\x9f\\x00\\x1dX\\xda\\x93\\x81\\x80\\xc9t\\xb2\\xd3\\xe9\\x90:\\xae\\x91\\x00\\x08\\x90\\x88\\xc7\\x13\\xc9D\\xa3\\xdc\\x04\\xc0\\xfel\\x06\\x10\\xbc\\x96\\x0f\\x00\\x99\\xd1\\x98W\\x0c\\xc0c\\x00`\\x08\\x13\\x81\\t\\x83\\x01\\xa7W\\xfe\\xfe\\xe5\\xcf\\xfd\\x07W\\x89\\xe8/\\xff\\xe0\\xaf\\xdf\\xfa\\xd65#\\xce\\xc3\\xe3KS\\'&\\xff\\xf3\\x7f\\xf6O\\xd2\\x99\\xd4\\xcd\\x1b\\xb7\\xff\\xe9\\x7f\\xfa\\xcf\\x1b\\xcd\\x86\"\\x95\\x1aH\\xbc\\xf0\\xd9\\x0b\\xfd\\xf9\\xfe\\x8d\\xd5\\xcd\\xef~\\xeb{\\xd7\\xaf}\\xb4p{qw{\\xaf\\xe3v\\x88\\xc8\\x97>\\x91\\xf2e@@\\x81\\xf4\\t\\xc8\\x97\\x92\\x08*\\xa5\\xd2\\xb57\\xdf\\xcdd3S\\xa7\\xa6\\xa4\\n@Q\\xb9P\\xd9X\\xdc\\xe9\\x9bH\\x85G\\xedg\\xceN\\xf9m\\xafYl\\xb7\\x0e:\\x8b\\x1f\\xad\\x00\\xc0\\xd4\\xe9\\tR*P\\xbe\\x93\\xb6RC\\x89\\xdd\\x07\\x05\\xa9\\xc2Z:*\\x12\\xb3\\x0f\\x0fJ\\x8f:\\xa2\\xd2\\xd1A\\x0f\\xa9b\\xd1\\xe8\\xcf$\\x94n9\\xf1\\t\\xf1\\xdf\\xff\\xfd\\xdf\\x7f\\xd6\\x8fA\\xfb%\\xc19[[[K\\xc4\\x13\\xf1D\\\\)\\x05\\xc8$IDV\\xd8/\\xb4\\xdb\\x9dt\\x7f\\x8a3\\xd6n\\xb5\\xab\\x85j*\\x97\\xe2\\x96P\\xa8Z[^4\\x11\\x11\\x960\\x0c\\xd3\\x10\\xc2\\x10\\xa6i\\xd8\\xd3\\xa7\\'S\\xe9\\xd4\\xfd\\x0f\\x97\\x96\\x16\\x96\\xcd\\x98q\\xee\\xe2i\\xc1\\xb8\\xc1\\r\\x83Y\\xe7\\x9f\\x9f\\xbf}\\xf3\\xce\\xda\\xca\\xda\\x07\\xd7\\xae_}\\xeden2\\xa5T$a\\xf7\\xe53\\xc3\\x93\\x83L\\xb0v\\xab\\xb5\\xf9p\\xe3\\xfe\\xed\\xc5\\xc2\\xde\\xfea\\xb1$Ir\\x81\\x8a\\xa4R*\\x08\\xfc\\x8e\\xdbY\\xb8\\xb9\\xb0|\\xff\\xe1\\xc4\\xdc\\xd8\\xc0p\\x9f/\\xbd\\x96\\xdb,\\x15J\\x9b\\xcb;\\xd9\\xc9\\x8cox\\xff\\xf6\\x7f\\xfac\\xcf\\xf5\\xbf\\xf4\\x95/\\xaa:\\x062p]\\xef;\\x7f\\xfa]\\xa5\\xe4\\x97^\\x7f\\x9d\\xdb\\x08\\x82\\xa4RN\\xdc\\xa9\\xed6\\xec\\xa8),np\\xc3\\xf7\\x83\\xf2Aep4o\\x08\\x03\\x08\\x0c!\\x00@p\\xb1\\xba\\xba\\x16\\x8b\\xc5\\xb2\\xb9\\x81\\xa3U\\xad\\xee\\x1cYwN\\xfd$t`iO@8\\xbaPD\\xa5R\\xa9Q\\xab\\x0f\\r\\x0f\\xc9\\xf0=J\\x12\\x82i\\x19wo\\xde\\x1b\\x19\\x1f\\x04\\xce\\xcc\\xa8(\\xee\\x96\\x02_F\\x92\\x0e\\x18\\xcapxm\\xbb\\rmTD\\x06r\\x024\\xc1\\x92u\\x1a\\xe9\\x1bM\\xf5g\\xee\\xdf\\xbd\\xbft{E\\xfa\\xc1\\x99\\x8b\\xa7\\ra1@\\xf0\\xf1W~\\xfb\\xf5\\xeb\\xd7n\\xac?\\xd8x\\xf7\\xc7\\xef]}\\xede;\\xe2\\x84\\x9f\\x85@Ec\\x91X*62948\\x9e\\x8bD\\xa2\\xedV\\xeb`\\xa7\\xb8|oesuk\\x7f\\xaf\\xb0\\xba\\xb8\\xb6\\xb9\\xb6\\xc5\\x18?q~:\\x9d\\xcd\\xb8~\\x07\\x01\\xab\\xd5\\xca\\xea\\xed\\x8d\\xccx\\xd2NZ\\x95jeo\\xad`\\x08\\xe3\\x95/_\\x81\\x81\\x80\\x1c\\x7fkg\\xf3\\x837>\\xec\\x1f\\xea{\\xf5\\xabW\\xfc\\x021\\x81\\x86c\\x08\\xc1\\x05\\x17\\x8db#\\x9dM\\x99\\xc2\\xb2mk\\x7f\\xb30:9b\\x08\\x0b\\x11\\x057\\x11\\x81s\\xbe\\xb7\\xbbg[N6\\x97e\\xdd\\x0ec\\x8f\\n\\x9f>\\xcb/U\\x8f\\xd3\\x81\\xa5=\\x01\\xc73\\x1d\\xdb\\xb6\\xbf\\xff\\xbd\\xef_|\\xe1R\\xb8\\xbf/I1`\\x86%\\xca\\x87\\xe5\\xc2nqxt\\x88\\x18\\xc4S\\xb1\\xcd\\xa5m\\x83\\x1b\\xf1d\\xcc\\x8aX\\xb1~\\x07\\x00d\\x8d\\xbc\\x92\\xc2\\x06W-\\x14(\\xa2\\x19\\xe7\\xc4\\xa5\\xa9\\xe1\\xf1\\xe1\\x8f\\xde\\xbd\\xb9xk\\xb9Ym]|\\xf9y\\xc31\\x1a\\x87M\\xb7\\xe6]\\xfd\\xc2\\x95;7\\x176\\xd76\\xdf\\xf9\\x9bk\\xa7\\xcf\\x9f$\\xa2N\\xbb\\xe3z\\x1d_\\xfa\\xber]\\xdf\\r(\\x10\\x16Od\\x12\\xfdC\\x99\\xa1\\xf1\\xc1t6\\x9dH\\xc5\\xfa\\xf3\\x99\\xd1\\xa9\\x91\\xfe\\xc1>\\xc5(\\x90A\\xc7s}\\xdf[\\xfa\\xf8A2\\x1bc\\t\\xf0\\x02\\xbf^lL\\x8f\\xcf>\\xf7\\x953\\x81\\xe3\\xb5\\xfd\\xb6\\x17x7\\x7frg}as\\xee\\xe2\\xcc\\xd4\\xc5Q\\x16Ao\\x8b0\\xa2\\x0c\\x93\\x1b\\x0e?X.\\'rq\\xdbq8g\\xbbk\\xfb\\x99\\x81t,\\x16\\x03\\x00\\xd3\\xe8\\x8e\\xb0\\xb66\\xb7\\x00`hx\\xa8\\xbbv\\xa5GXO\\x82\\x0e,\\xed\\t\\x08\\xbb\\xf2\\x01A4\\x1a\\xdd\\xdb\\xdfC\\xc4t&\\x1d\\x9e#\\'\\x04%\\xe5@n`\\xf9\\xfe\\xb2\\x1dq\\x9c\\xa8m\\x1a\\x86\\x93\\xb4\\xf7\\xd6\\x0bn\\xcb\\x8b\\xa5\\xa2\\x84\\xe4\\xc4\\x1d+-2\\xc3\\t\\xbb\\xdfL\\xe6cV\\xda\\x88$\"\\x0cqbfbrv\\xfc\\x83\\xb7?\\\\^X)\\x1fV.]\\xb9\\x10\\x1f\\x88\\x01\\x01(<}\\xfa\\xf4\\xd2\\xfd\\xa5\\x9d\\xad\\xdd\\xf7\\xdez??0H>\\xed=(T\\x8b\\xb5\\xe2^\\xb9Qi\\xfa\\xbegZ\\x86\\xa4\\x00\\x01%I\\xd34\\xb9\\xc1-\\xdb\\x92$\\x11\\xd0\\x97\\x1e z\\x9e\\xbb\\xb5\\xbc#\\x95\\xccN\\xf55\\xdd\\x96l\\x07\\xb5\\xbd\\xa61\\x00\\x1e\\xbaJI?\\xf0\\x15\\xc9\\x9f\\xfe\\xd5\\x8dr\\xa1z\\xf1\\x8b\\xf3\\xfd#\\x03L\\x80i\\xf1\\xa0\\x02v\\xda\\xe4\\x9c\\x0b4\\xa5\\'\\xd3\\xfd)\\x86\\xcco\\xf9\\x08\\xd8?\\xd0\\x87\\x80\\xa60\\x11\\x80sQ*\\x95I\\xd2\\xf0\\xc80\\x0f\\xeb0\\xeb\\x11\\xd6\\x93\\xa0\\x03K{b\\xc2\\x89a\\x10\\x04\\xeb\\xeb\\xeb\\xd3\\xd3S\\x88H\\xa0\\x18\"\\x912L\\xc3q\\xac\\x8f?\\xb8\\x99\\xcd\\x0f\\xd8\\x11\\xc7\\xb0\\xcdL6]\\xda/\\x177\\xcb&3\\xed\\x88m\\xdb\\x11\\xc1\\x85),CX\\xa60\\ra\\na\\x08n\\x0e\\x8f\\r\\x9f>\\x7f\\xe2\\xbd\\x1f\\xbd\\xbftwygc\\xe7\\xd2\\xd5\\xe7\\xed\\x98e&Dz8\\xf9\\xd2\\xe7_\\xb8\\x7fki{cg\\xe1\\xee\\xddK\\xaf\\xcf\\x0f\\x9e\\x1c\\xb0\\xd3\\xa6\\xb0\\x99\\xf4U\\xf5\\xa0~\\xb0U,\\x15*L 3Y }\"\\nd \\x95\\x0cT\\x10\\xc8@\\xca\\xa0Z\\xa9\\xec>\\xdc\\xcf\\xce\\xa6%\\xc8\\x96\\xdb\\xacn6\\xc9\\x0c\\xa4\\x13\\xb4\\xbd\\x96\\x1f\\xf8\\xbe\\xef\\xb1\\xa6x\\xe3\\x9bo\\xc9@\\xbe\\xf2\\x8d\\xcb\\xa6c\\x00\\x01\\xb3\\x10\\xeb\\x82;\\x9c\\tf\\xa0\\xe8\\xd4\\xbc\\xfe\\xa1>@\\xf0\\x1a\\xbe\\xe7z\\x83CC\\x00`\\x08A\\x00\\x82\\x1b\\x85\\x83\\x83f\\xa3919\\xc1\\x1e\\x0b,=\\xc2\\xfa\\x84t`iO\\xc2Q[\\x05\\x00Hg\\xd27>\\xb8\\x11O&R\\xa9$)b\\xc8$(\\x04p\\xa2v\\xc4q\\xee\\xde\\xbc\\x97\\xcc$-\\xcb2M3\\x95M$\\xd3\\x89z\\xa5^X?l\\x96ZA[\\xfam\\x1f$\\x92$\\x81\\x06\\x10\\x9a\\x86\\xc1\\x18\\xcb\\r\\xe7N?w\\xea\\xdd\\x1f\\xfd\\xf4\\xe1\\xe2\\xea\\xc3\\xa5\\xb5\\xcb\\xaf^\\x0cT\\x00\\xa0\\x14\\xd2\\x8b\\x9f\\xbb\\xf0\\xf0\\xde\\xea\\xd6\\xda\\xce\\x07?\\xfep\\xf2\\xc4D,\\x19Q<0b\\x86\\x9d1b\\xfd1\\x19\\xc8\\xbd\\x95B\\xb3\\xd2\\x00\\x86\\xc2\\xe6\\x08\\x18\\x8e\\xb9\\x02\\xe9\\x03\\xe1\\xc6\\xfd\\xad\\xbe\\xc14:\\n\\x817\\xea\\x8d\\xce\\x81\\x07\\x03\\x01\\x00u\\xdc\\x0e*2\\xaa\\xd1\\x83\\xcd\\xf2\\xf5\\x9f\\xdcH\\xa5\\x93W\\xbfp\\x95L\\x9f!\\x13\\xdc`\\x81`\\xc4\\xcc\\x98\\xe9XN\\xb3\\xdc\\xca\\x0e\\x0fp\\xc6@b\\xa7\\xd5\\x19\\x1e\\x1bF@C\\x98\\x08(\\xb8\\xa8V\\xaa\\xbe\\xe7\\x8f\\x8e\\x8f2=\\xc2zrt`iO\\xc0\\xe3\\x03\\x07d\\x18\\x8b\\xc5\\xde\\xfa\\xd1[\\xa7N\\x9d\\xe2\\x9c\\x87SE\\x86\\x0c\\x08\\x92\\xe9\\xb4a\\xf2\\xf7\\xdf\\xb9\\x11q\"\\xa9L\\x923n;v&\\x9b\\xc9\\x8d\\xe4\\x9c\\x88E\\n\\xfcv\\xd0\\xae\\xb6;5\\xb7v\\xd0\\xa8\\x1f6+\\xbb\\xb5z\\xa1a9\\xc6\\xf0\\xc4\\xd0\\xd9\\x0b\\xa7\\x7f\\xfa\\xe3\\x0f\\xd6W6\\xee\\xdf^:\\xff\\xf2\\x19b\\xd4(7\\x1b;\\xed\\x93\\'Ono\\xee\\xecm\\xef}\\xf4\\xce\\xcdl*o\\xf8v\\xa7\\xd9\\xf1|\\x8f\\xcc\\xc0\\x8c\\xf2\\xe4`\\x0c\\x19+\\xedTK[%\\x14 l!I*\\xa56\\x96\\xb6=\\xd7\\xeb\\x1f\\xcf\\xb8\\x81+I\\xd6\\x0f\\x1a\\x84\\x14\\xd8^\\xa0\\x02/\\xf0X\\xd3\\xd8_+\\xbc\\xf9\\xc6\\x9b\\xd5b}\\xf2\\xfc\\xf8\\xb9\\x99\\xf3\\x1d\\xa7\\x156\\xa7\\xe0R\\xb0@XI\\xe1\\x98Nm\\xbf\\x91\\x1f\\xcf!\"yT\\xab4F\\xc7\\xc7\\x00\\xc1\\x12\\x06\\x00\\x08n\\x14\\x0f\\x0fk\\xd5\\xda\\xe4\\xd4\\xa4\\x1ea=A:\\xb0\\xb4\\'\\xa6\\xbb\\x92\\x05\\x90J\\xa7\\x9a\\x8d\\xe6\\xc3\\x87\\xab\\x93\\x93\\x13\\x08L\\x91\\xe2\\xc8\\x88\\x881\\x1eK\\xc6G\\'G\\xee\\xdf^,\\xec\\x1c8\\xd1H<\\x1eG\\x04C\\x18\\xb6c\\xa6\\xfb3\\x99l*?\\x9a\\xed\\x1b\\xccd\\xc7\\xfa\\xb3\\xc3\\x99\\x81\\x91\\x0c\\x13\\xac\\xb0^\\x8c\\xa5b\\xa9\\x81\\xc4\\xc5+\\x17~\\xfa\\xe3\\x0f6W\\xb7\\x96n/OO\\xcc\\x05u\\t\\x11\\xa2Tp\\xea\\x95\\xa9\\xfd\\xcd\\xe2\\xfefayi\\xf9\\xf9_9\\xc5\\xb9\\xf0\\xaa\\xca;\\x08\\x02\\x11\\xa0\\xc9\\x0c\\x87\\'\\x06b\\xc2\\x10\\xfb\\x0f\\x8a\\xd5\\xc3\\x9a\\xdb\\xf2\\x0ew*\\x81\\x1b\\x0c\\x9e\\xe8G\\xce\\xbc\\xc0\\x03\\xc0F\\xa9\\xc9\\x05\\xeb\\xa8\\xd6\\x83;\\xab\\xef}\\xf7\\xfa\\xf7\\xff\\xe4\\xcd\\xf7\\xdf\\xbe^-\\xd6\\xe7^\\x9c>\\xf7\\xea\\xc9\\xfeH6\\x88\\xb8\\x8c\\t\\xd34\\xb9or\\xe0v\\xca\\xb4\\x85]?h\\r\\x8e\\xe5\\x19c\\xbe+;\\xcd\\xf6\\xd8\\xf8(\"\\x9a\\xc2\\x04@\\xc1\\xc5\\xfe\\xfe\\xbe\\xf4\\xe5\\xd8\\xc4\\x18C\\x1e\\xd6o\\x80nC2\\x1dX\\x7fw:\\xb0\\xb4O\\x01B.\\x9b\\xbbq\\xfd\\x86R*\\x9f\\xcfS\\xd8%\\xf0h\\xa7\\xcc\\xb2\\xed\\x89\\xa9q%\\xd5\\xda\\xf2\\xfa\\xf2\\xdd\\x15\\xd3\\xb4\\x12\\xc9\\xb8a\\x98\\x9cq\\x1ev\\x9aa\\x9c1\\xc6\\x91\\x13\\x80\\x13\\x8b4\\xaa\\xcd\\xc0\\x0b\\x8c\\x98H$\\x13\\'.\\xce||\\xed\\xe6\\xce\\xfa\\xde\\xf2\\xc2\\xf2\\x89\\xd7\\xa60\\xa2Z~+\\x90r\\xf6\\xf4T\\xbd\\xdcx\\xe9W/E\\xf2V <\\x15\\xf1\\xb9\\x81\\xc1>\\xfa\\xbe\\xcf#L\\x91\\xb4\\xa3Vj(nFl\\xe9\\xfb\\xa6m\\xf6\\x8d\\xa6P\\x00\\x10\\xf9A\\xb0\\xbb\\xb5\\xfb\\xce\\xf7\\xae}\\xef\\xdb?\\xf8\\x8b\\xff\\xed\\xbb7\\xdf\\xb9\\xbb\\xbf^\\xf0\\\\/\\x91J\\x9c\\xb88s\\xfa\\xe5\\xb9\\xa9\\xc19@\\x90\\x11O0n\\x08\\x935\\r\\xd32\\xac\\x84%\\xc8h\\xd7\\xbc\\xfcX\\x8e1\\xde\\xaeu|/\\x18\\x19\\x1dE\\x84\\xe3\\xc0\\xda\\xdb\\xdd\\x05\\x82\\x91\\xb1\\x11=\\xc2z\\x82\\x90H\\x1f\\xbd\\xd5\\x9e\\x18\\x02\"Ea\\x19\\xd2J\\xb9\\xf2\\xc3\\x1f\\xfe\\xf0\\xf4\\x99S\\xd333\\x04$\\x95O\\x842\\xf0\\x15)_\\x05\\x04\\xca\\xf7\\xfd\\xad\\x8d\\xed\\xc5\\x85E)U,\\x16\\x19\\x9a\\x1cI\\xf7%\\x80(PR*\\xa9T\\xe0JO\\x91\\xdaY\\xdbiV[\\x89\\xb1\\x18\\x10UZ\\x95\\xcd\\x8fw\\xfe\\xe7\\x7f\\xf9\\xbf\\x1c\\x1e\\x94\\xfa\\x87\\xfa~\\xeb\\xbf\\xf8z\\x9c\\x92\\xc23=\\xd6a\\x8a\\x03#TL\\x99\\xd2u\\x1a\\x86mZ\\xdc6\\xcb\\x11a\\x8b\\xd8\\xb0\\x1d\\xb1\\xa3\\x06\\x17\\xa6as\\xe4\\x8cs%\\xd5\\xd2\\x9d\\xfb\\xd7\\xaf}\\xfc\\xc1\\xdb\\xd7w6v\\xc3\\x07\\xcf\\x18\\x1b\\x9c\\xc8M\\x9f\\x9f\\x98\\x99\\x9f\\xec\\xcfd\\x8d\\xb6C@\\xc0\\x94\\x97h\\t\\x8b\\x0b\\xe4\\x8e\\x1dQ;\"=\\x9e\\xb0c6k\\x8av\\xcd=s\\xf1\\x14G\\xb6\\xbd\\xb4\\x17\\x89F\\xce\\xcf\\x9f\\x07\\x84\\xa8\\x1d\\x05@\\xcb\\xb4?x\\xef\\xfdh$6\\x7fa^\\xa0\\x00\\x80\\xb0\\x12\\xa9\\xbe\\x9a\\xf3\\t\\xe9zX\\xda\\x93\\x14\\x96\\xc7\\n\\xaf\\xe6\\xa4\\xd3\\xe9\\xab\\xaf\\\\\\xf9\\xce_\\xfc\\x95R\\xea\\xc4\\xc9\\x93@J\\x01\\x10\\xe7\\x08H\\x12\\x80\\x08\\x05\\x9b\\x9c\\x1c\\x1f\\x1b\\x1fi\\xb6[\\xeb\\x0f7\\x1e\\xdc]QJ\\x8d\\x8c\\x0f\\x8fL\\x0e\\xf9\\x08\\x8aa@\\x12\\x15\\x1aB\\x90\\xea\\x96\\xda\\xf3\\x9b\\xbe\\xc3\\xa2\\xff\\xe8_\\xfc\\xce\\xbf\\xfe\\xef\\xfe\\xa8\\xb0u\\xf0\\xa7\\xff\\xc3\\xb7\\xbf\\xf6\\x8f\\x7f\\r\\xfbd+h\\x02\\x07\"2\\x99\\x95\\x08\\xfaR\\xe5\\\\3Y\\xf6\\xa2\\x1d\\xec\\x03,\\xc5\\xda\\x87\\x9e\\x99\\xb7\\x01\\xa1U\\xaa\\xde\\xfe\\xe0\\xce\\xc7\\xef\\xdd\\xfc\\xf8\\xfd[\\xedf;|\\xcc\\xb1Dl\\xee\\xfc\\xcc\\xe4\\xd0\\xf4\\xb9\\xcf\\x9f\\x88\\xf4;\\xcdN\\x83\\x88\\\\\\xaf\\xe3\\xc7[J\\xfa\\xc88C&\\xb8\\x10\\xcc`-CI\\xb0\\xa2\\xa6`\\xbcU\\xf7b\\xc9hx\\x8a\\xbd\\xd3v\\x87F\\x06\\x81\\xe1\\xa3>\\xd4\\x00\\xcdf3\\x9b\\xcd=\\x9eP:\\xad>9=\\xc2\\xd2\\x9e<\"RJ\\x01\\x92\"*\\x1f\\x96~\\xf0\\xc6\\x1b\\xc3\\xc3\\xc3/\\xbcx\\t\\x11%I\"\\x92J*\"\\xa5\\xc2\\xca\\n\\x01\\x11\\x05J\\x92R\\x07\\x07\\x07K\\x0b\\xcb\\xae\\xeb^\\xb82O\\x08\\x1d\\xaf-\\xa5\\xdc\\xdd\\xdd+l\\x1c\\xa4\\xa7\\xe2D\\x14V%\\xad[\\x87\\xf5r\\xfb\\x8f\\xfe\\xfbo\\x16v\\x0b\\xb1t\\xe4s\\xbf\\xfb\\x92\\x954$I\\x06\\x08\\xc0L\\xc3\\x8c\\xb1d\\xde\\x1dk$K\"*b<\\xbew\\xf3p}w\\xed\\xee\\x8d{\\x9b\\x0f\\xb6\\x8e\\xbf\\xe1G&F.]\\xbdp\\xfa\\xc2\\xa9S\\xf3s\\x81\\xf4\\xdb\\x95Ne\\xb7a\\x0fr\\x17]\"\\xf2\\x027\\xac\\xd5\\xc59\\x121\\x8b\\x0b\\xf0\\x85\\xbf\\x81\\xe9\\x93\\xb1T:E\\x1e\\xed-\\x14\\xcf]=\\x95Nf|\\xcf\\xbf\\xf6\\xd7\\xef\\xff\\xbd\\xdf\\xfe{\\xc9h\\x02\\x10\"f\\x04\\x00,\\xd3\\xfa\\xe6\\xff\\xf1\\xad/\\x7f\\xf9\\xf5L\\x7f&\\x9c\\xdb\"!\\xe7\\xbat\\xdf\\'\\xa5\\x03K\\xfbT\\x84\\x85\\\\\\xc2\\x1a,\\x8dF\\xe3\\x87?\\xfc!\\xe7\\xfc\\x85\\x97^H\\'\\x93\\x84 e7\\xb6\\xc2\\xb20\\x8aH\\x92\\x0c;\\xe0x\\xd2\\xfb\\xf0\\xbd\\x8f<\\xcf=\\xff\\xe2\\xb9\\x8e\\xdbT\\xa4v\\xf7\\xf6\\xb6\\x96v\\xfaO\\xa4\\x00`\\xed\\xf6\\x96\\x99\\xe1\\xa5\\xa0\\xc0\\xeav\\xa5X\\xfe\\xd3\\x7f\\xfd\\xcd\\xc2Z\\xd1\\x8e[\\x97\\x7fg~ ;\\xe0\\xa9\\x0e0\\xe0\\x8c[\\xc2\\x8a\\xba\\xc9\\xd2R\\xfd\\xc1\\xf6\\xf2\\xc3\\x9b\\xeb\\x8dj3|T\\xa6e\\xce\\x9d\\x99y\\xe1\\x95\\x8b/}\\xeer\\x7f\\xb6\\x1f\\x11\\x83\\xc0G\\xc4\\x96\\xdbB\\x80\\xc3\\xbdJc\\xbbm\\x0c0\\x9eD_v\\x100\\x90\\x92sN\\x00\\xbcix{*=\\x15u\\x92v\\xd4I\\x1c,\\x97\\x12\\xe9\\xc4\\xc8\\xd4`<\\x9a\\xd8~\\xb8\\x1b\\xb8r\\xfe\\xd2|\\xcc\\x8e\"\\x82mF\\x00\\xd1k{\\xdf\\xfa\\xb3o\\xfd\\xee\\x7f\\xf4\\x8f8CD\\x0eaY\\x0b\\xa6\\x03\\xeb\\x93\\xd2\\x81\\xa5}J\\x88\\x08\\x94R\\x88\\xa8H\\x11\\xd2\\xcd\\x8fn.,,\\xcc\\xce\\xcd\\x9e=w\\x96s\\xa6\\xba\\r\\xb8\\x94R\\x12\\x08\\x02\\x156\\xdd\\n\\x02%\\x03?x\\xfbo\\xde\\x19\\x1c\\xcdg\\xf2i\\xa9\\xe4\\xfeaa\\xed\\xf6Z\\xff\\x89\\x14\\x11\\xad\\\\[\\x8f\\xcf\\x99\\xfb\\x8d}\\xb3\\x18=\\xc0\\x9d\\x86_\\xfd\\xde\\xff\\xfa\\xe3\\x83\\x87\\x87\\x91\\xa8\\xf3\\x1b\\xbf\\xf3\\x8d\\xa1\\xdc\\xf0\\x9d\\xd2\\x87k\\xcb\\xeb\\x07\\xcb\\xa5\\xe2ZYI\\x15>\\x94t\\x7fj\\xee\\xe4\\xec\\xf3\\xaf\\x9d\\xbf|\\xf5E\\xc34#f\\x04\\x80Z\\x15O\\x18\\xcc\\x8c\\x08d\\xcc\\x97\\x9eR\\xca\\r\\xdcN\\xd3\\xab\\xee6d;@\\x13\\x98\\x85\\x14(\\xe9+\\xf2\\x10\\x19KN$\\xe21\\x9bs\\xe1\\x96\\xfc\\xfaa\\xeb\\xfcK\\xa7\\x19\\x17Q#v\\xfd\\xed\\x1b\\xcf\\xbf\\xf8|\\xff@_\\xc4\\x8a\\x02`\\xc4\\xb2\\x89\\xe0\\xee\\xed\\x85z\\xad\\xfe\\xda\\xe7_c\\x8f\\xae=\\x83\\x0e\\xacON\\xafai\\x9f\\x92G\\x17\\xe8\\xc2-\\xfd\\xf9\\xf9\\xf9\\xb1\\xb1\\xb1\\xeb\\xd7\\xaf\\xff\\xbb\\xff\\xfd\\xdf\\xbd|\\xf5\\xa5\\xd9\\xb9Y\\x00F\\x00\\xc8P*\\xc99C\\t\\x80\\x82\\x11q\\xc1\\'f&6V73\\x83iDf\\x99F\\xe0+ @D\\xee\\x08\\xc5\\x80\\x88\\xd0g\\xbe\\xddf\\x96\\xf1\\xd2?8\\x7f\\xf3\\x8fW6\\x1el\\xfe\\xd1\\x1f\\xfe\\x89a\\x89N\\xdd\\r?=\\xe3llft\\xea\\xec\\xc4\\xa9\\x97g\\xf3}\\x83\\xa6\\x1bI\\x8c\\xd9\\xc2\\x10\\x88\\x18x\\xc1\\xeeR\\x811\\xe6u|ar;f\\'\\xf2Q\\xdb6\\xa4\\x92\\xf1\\x84!l&]\\xd5\\xaa\\xb5\\x95GRH3jXQfG\\x1dDf\\x9avu\\xbb\\xde\\xa9y\\x93g\\xc7\\x850\\x19\\xf2\\x8d\\x95\\xf5X\">\\x90\\x1d`\\x08\\x88\\xec(\\x9a`www~~\\xfex\\xd1J\\xaf^=):\\xb0\\xb4O\\x11c\\x8c\\x88\\x10\\x10\\t\\t\\xa9/\\xd3\\xf7\\xa5\\xd7\\xbfT\\xd8/\\xbc\\xf5\\xd6[\\x0f\\x1f\\xac>w\\xe1\\xb9\\\\.G\\xa4\\x18cR)\\x06\\n! \\x01\\xa8`dddiaIv\\x02a\\x1b\\xa6i \\x03 D\\x0e\\x14(F\\x9csFH\\xc0\\x18J),\\xf3k\\xff\\xe0\\xab\\xff\\xe6\\x0f\\xfem\\xab\\xde\\xee\\xd4\\xddH\\xd4\\xe9\\x9bH\\xe7N\\xf6M\\x9e\\x1f\\x1b\\xb1\\xa6\\x0c\\x93\\x9b}\\x02]d\\x08\\xc88c\\x9c\\x01n-\\xece\\x06S\\x83\\x93\\x83\\x08\\xe0\\xb5\\xfd\\xdd\\xd5\\xbd\\xfd\\xa5\\xa2\\x13s\\xe2\\x03\\xd1h\\xd21\\x0c\\x13\\x1c\\x8a%\\xe2\\x00\\x00a\\xd7\\td&\\x13n\\xcb?X.!\\xb0S\\x17\\xe6,\\xc7vL\\xa7T(\\xaf,<\\xfc\\x95\\xdf\\xfc\\x8a\\xe0\\x06\"\\x08.\\x80\\x88\\x03\\xdf\\xda\\xd9:(\\x1c\\x8c\\x8d\\x8cv+\\xf6\\x1dw\\xe5\\xd0>1\\x1dX\\xda\\xa7\\x0b\\x11\\x91\\xba#\\x8c\\xb0/i.\\x97\\xfb\\x8d\\xdf\\xfc\\x8d\\xdb\\xb7o\\xbf\\xfb\\xce\\xbb\\xb9|\\xf6\\xc5\\x97_d\\xc8\\x18\\xa2D@\\xc6\\x90$\"C\\x06\\x89D|o\\xf7`tj\\x04\\x00M\\xcbp\\x9bn$e\\x0b\\x87a\\xc0\\xbb\\xa3-\\x12\\x92I$\\n\\x84\\x9bJ\\xa5\\xca;\\xd5\\xd3Wg\\xbf\\xfc\\x85_Ya\\xb7\\x1d\\xd31\\x84a\\x80\\xa1\\x84\\xcf\\xd0\\x04\\x8f1\\x9bsd\\x1cYu\\xb7\\x1e\\x89;\\xd9\\xb1\\x01\\x8e\\x1c\\x01\\x9c\\x98\\x98>7\\xe9y^\\xa9P\\xa9\\xec\\x94w\\x96\\xf6\\xe3\\xfd1\\xd36\\xb8\\xc3L\\xd3\\x92J\\x06\\x81j\\xd7\\xdb\\xc5\\x9a\\xebw\\xfc\\xdc\\xe8@n\\xb4?\\xe2D\\x11\\xb1Yk/\\xddZ~\\xf5\\x8b\\xaf8\\xb6\\xd3\\xad\\x83\\x0c\\x00\\x88\\xc0`yy\\xe5\\xd2\\x0b\\x97\\x8e\\x9aa\\x13\\x03\\xf6\\xf8\\xd5%\\xed\\x93\\xd0\\x81\\xa5}\\xeaX\\xd8\\x90\\x0f\\x81@)\\xa5\\x00P0\\xfe\\xdc\\xfc\\xfc\\x89\\x13\\'\\xde\\xfe\\xf1\\xdb?\\xf8\\xde\\x1b_\\xfc\\xd2\\x179ga\\xf9[\\x01<\\x00\\x14\\xc2\\x18\\x19\\x1b]\\xbc\\xb7813nr\\x11O\\xc6\\xdb\\x8dv<#\\x18\\xe7\\xb2\\xa9L\\xcb\"\\x9b\\xe22\\xd5\\xb4*\\xae\\x15i\\xa8Za\\xf3\\x00\\x00.]\\xb8|\\xc0\\xb7\\x1d\\xc36\\x98\\x19a1\\xa7\\x1dk\\xa5\\xca\\x860\\xc1c\\xd1\\xbc-\\xb8\\x01\\x925\\x0f\\xdbs\\xcf\\xcd\\x98\\xdc\\xb0\\r\\x1b\\x80\\x04\\xe7\\x04\\xe0\\x98v<\\x1a\\x1f\\x1d\\x1fn\\xd6\\x9a\\x95r\\xb5^j\\xb4\\xca\\x1d%\\xeb@\\xc0\\r\\xe1\\xc4\\xec\\xa1\\xb1t_.c\\x9a&Cf\\x1bNa\\xaf\\xb8p}\\xe1\\xe2\\x95\\x0bCCC\\xc0\\xd00\\x0c \\x10\\\\\\x00\\xc0\\xd6\\xc6v\\xb5R\\xfd\\xc2k\\x9fgG\\xd5\\xdc\\x89\\x88\\xeb\\xd5\\xab\\'D\\x07\\x96\\xf6\\xf4 0\\x0cK\\x08# 1\\xdb\\xb6\\xbf\\xf8\\xc5/\\xbe\\xf9\\xe6\\x9bo\\xbf\\xf5\\xf6\\xe7>\\xff\\xd9\\xeeh\\xac\\xbb\\xf0E\\xf9\\xe1\\xdc\\xbd\\x85{\\x9e\\xeb\\x13\\xb0d_\\xaa\\xb6Vg\\xc8\\xec\\xb4\\xe1\\x96}\\xe6\\xa0\\x8a)\\xab\\xect\\xb0\\x81\\x80\\xe5R\\xa9YoYQ\\xb3\\xd6\\xb7g\\x08\\x93\\x013\\x0c#\\xe9\\xf7\\xb9\\x91\\x16\\xe3\\xc0;Bqf\\xc5-\\x86\\xbc\\xbcU\\t;\\xdd#\\x00g\\x0c\\x90\\x18\\xe3a\\xc7.\\xc1( H\\xa4\\x13\\x91x\\x04\\xc6P\\xaa\\x80!S*`L(P&7\\x08\\xd0\\x14f\\xe0\\xcb\\x87\\xf7W7\\x1fn_y\\xedJ\\xdf@\\x9aq\\x8ept\\xf1\\x06\\xd1\\xf7\\x82\\xeb\\xd7\\xaf?\\x7f\\xf1ya\\x08<\\xba\\x12\\xae\\xc7VO\\x90\\x0e,\\xed\\xa9\\nw\\xca\\x14)\\x08\\xcf\\x97r|\\xed\\xb5\\xd7\\xbe\\xfd\\xedo/-.\\x9f89\\x87\\n\\x14*d\\xc0\\x99@\\x03\\x1d\\xdb)\\xee\\x15\\xfb\\x86R\\x99\\x81\\xd4\\xca\\xdd\\x07L\\xf1D\\x7f\\xfc\\xa0X\\xb2)*\\x13\\x81*{\\xa9vVEhks\\x17\\x00\\xf2\\xd3\\xd9d,\\xcd\\x10\\x850\\x12^\\xc6\\x86\\x08\\xa5=\\xcb\\x8a\\xab\\x1d\\x16\\x1b\\xb6m\\xd3\\xf1j^\\xad\\xd8|\\xee\\xb3\\x13\\xb6\\xe9\\x10\\xa0m\\xda\\x84h0\\x11\\x04\\xbeR`\\x9a\\x02L$\"eQ\\xd8o\\x15\\x10\\t\\x14\\x02c\\x00\\x88\\xbcYkn\\xad\\xefn\\xadn\\xe5\\xf2\\xb9\\xaf\\xfc\\xfa\\x97c\\x91\\x08!3\\x84\\x89\\x00&7\\x08\\x80!\\xbf\\xfe\\xc1{\\x91Hdf#D\\x0en\\x00\\x00\\x15\\xc7IDATz\\x1a\\x91\\x01\\xe9k\\x83O\\x9e\\x0e,\\xed\\xd9\\xa0\\xb0\\xf9\\x15\\x01\\xe3\\xec\\xea\\xd5\\xab\\xd7~rmvn\\x06\\x00\\x1e\\xdfR\\xcb\\x0ff\\x0b\\x85bf0%\\x84H\\xf6\\xc7\\xcb\\xbbU\\x9e\\xe1\\x91\\xfeH\\xed\\xb0\\xcas<\\xe8k\\x8b\\xc3H\\xa2\\xd5WX)\\x01\\xc0\\xd0L\\x1e\\x01c\\x98pZ\\t\\x83\\x99\\x9dT=n%\\xa0lX1\\xc3J\\x9a\\x8cXy\\xab6uf\\x9c1\\xc6\\x18#\\x82f\\xad\\xf5`q\\xd5\\xef\\xf8{;\\xfbC\\xa3\\x83\\x9b\\xab[\\xc3\\xe3\\x83\\x9e\\xeb\\xf7\\x0f\\x0e\\x08\\xceL\\xcbb\\x82\\xc9@J?h5\\xdb\\xa5BI*9:1r\\xe5\\xb5+\\x99L\\x1a\\x00\\x90\\t\\x04b\\x8c\\x01QxA\\xf0\\xee\\xdd\\xbb{\\xbb{\\xdf\\xf8\\xcd\\xafw\\x1f\\xbd\\x0e\\xabO\\x81\\x0e,\\xed\\x19`\\xc8\\x88\\x88\\x80\\x08\\t\\t\\xf3\\xf9<\\x17|gwwxh\\x981D\\xc5\\x04\\x13\\x12ppdhei\\xd5\\xe0B\\x11\\xe4G\\xb2k\\x0b\\x1b\\xd9|\\x9f=d\\xd6\\x0b\\r\\xd1\\xe0\\xc9xZ\\xc6$\\x14i\\xf7\\xc1>\\x00\\x9c\\x1d\\x9f\\x1f\\xf4\\x06\\xc9P\\x90\\x90\\x18W\\x193\\xc3j\\x86\\xf2\\xb0\\xfft\\xc60\\x8c\\xcaF=\\x9e\\x8a\\xe7G\\xf2\\x8c\\xa1c:\\x9b\\x0fw6\\x1fl\\x8eL\\x0cO\\xcdN9\\x11\\x1b\\x91)E\\xedf\\xabV\\xa9\\xb5[\\x9df\\xb3\\x19t\\x82 \\xf0\\x19\\x17\\x82\\xb3\\xfc`\\xfe\\xf4\\xd9S\\xc9TR0\\x81\\x88\\x82s\\x00\\xc6\\xb9@\\x04\\x93\\x1b\\x80\\xc0\\xd1X\\\\\\\\\\xbc\\xf9\\xe1\\xcd\\xaf\\xfd\\xc6\\xd7l\\xd3\\x01\\x80\\xf0\\x80\\x03\\x10\\xe9\\xb3WO\\x96\\x0e,\\xed\\xd9@\\xc4\\xf0\\xc4CX\\x0f~phpk}kxx\\x18\\x08\\x01@\\x01\\x01\\x80e\\xdb\\x91\\xa8S\\xdc+\\xf5\\xe53\\xd1D\\xc4\\xb4\\x8d\\xea^#5\\x18\\xcbL\\xc7K\\x0f\\xea\\x14\\x00O\\xb2\\x9a_\\xaa\\x96\\xabv\\xc4\\xca\\x9eJ\\xbaP3LC\\x01EyL\\x16\\x18\\x02&&\\x1d\\xcb2K\\x1b5N|xvP0N@\\x0f\\xef\\xaf\\xef\\xef\\x14^z\\xf5r4\\x1e1\\x84I@\\x0c\\x192\\x88\\xc7\\xe3\\xf1D\\x9c\\x94\\x02dJI\\x8e(\\x898c\\x8aH0\\xae\\x808\\xe7a\\x91\\x1c\\xa2\\xe3\\xb1\\x15\\x03\\xa0\\xdb\\xb7n/--}\\xf5\\xd7\\xbf\\x9a\\x88\\'~\\xe6O\\xf9\\x0c\\x9e\\xd9_j:\\xb0\\xb4g\\x83\\x80\\x00\\x1f\\x95\\xd0\\xca\\xe7\\xf2\\x0bw\\x17\\xc2\\x83\\rJ1\\x81\\\\2\\xe0\\x82\\xe5\\x87\\xf2\\xbb\\xdb\\xbb\\xf9\\x91\\x9ciX\\x13\\'&\\xee\\\\_\\xc8\\x0e\\xf6\\xc5\\xe3\\t\\xeb\\x84\\xb3\\xbbX`\\x01;X.\\x03\\xc0\\xf4\\xe9\\xc9d:\\x85\\xc8\\x18\\xa1\\xac\\xa0\\x7f(#\\t\\xabo,iYv\\xfb\\xc0\\xf5\\xea\\xc1\\xb9\\x97\\xe6\\x1c\\xc7\\xb1,\\xe7\\xe1\\xc2\\xc3\\xc2N\\xf1\\xb3_\\xfaL<\\x9e\\x00\\x00\\x83s\\x00d\\xe1\\xed\\x19<\\xea\\xa5q|\\xfb\\x03\\x01\\xe8\\xa8\\x03*\\x02\\x02C\\xc4n\\xb9\\x18\\xc6\\x10\\xd0s\\xbdk\\xef\\\\+\\x14\\n_\\xff\\xfa\\xd7\\xe2\\xb1\\xc4q\\t\\x1d\\x02\\xd0;\\x83\\x9f\\x06\\xddHU{6\\x1e\\xdf;#\\xa4D2Q\\xab\\xd7\\x00\\x00T\\xf8J\\x01\\x00\\x12\\x0e\\x8d\\r\\xb9m\\x17\\x08\\x100\\x12wR\\xd9\\xc4\\xd6\\xf2.\\x03f\\xd9\\xa2\\xffD\\x92[l\\xf9\\xc3\\x07\\x000>6\\x1e\\xec3wKv\\xd6\\x95\\n(=\\x91H\\x8cD,\\xcb9\\\\\\xab\\xb4\\xaa\\x9d\\xd9\\xe7&\\xa2\\x91(\"l,mVJ\\xd5\\xcf\\xbd\\xfe\\x19\\xd3\\xb6\\x8en\\xcc\\xf0\\xa3\\x1aU\\x08\\x10\\xde\\xa3A\\x0cO$ C\\x82\\xf0\\xf8:C\\x04\\x02\\xc6\\x18\\x00\\x84Eb\\x18\\xe0\\xea\\xea\\xea_\\xfe_\\x7f\\t\\x04\\xbf\\xf5\\xdb\\xbf\\x15\\x8dE\\x1f\\x1fN\\xe9\\x9d\\xc1O\\x89\\x1eai\\xcf\\xc6\\xe3=\\x90\\x91P)ID\\x00\\xdd\\xee;\\x0c\\x98\\x02\\x89\\x0c\\xa3\\x91\\x08c\\xbcV\\xa9\\x99Q\\x83\\x88F\\xa7G\\x16o,\\xbb%?\\x99O\\x00\\xf2\\xc8Ttcc\\x13\\x00\\xce]<\\x93\\xe8\\x8f\\x19\\xa6\\xb0b\\xa6!\\x0c\\xce8J<|X\\x05\\xc9N>?\\xe78\\xb6c:kK\\x1b;\\xeb\\xbb\\x9f}\\xfd\\xd5x,\\x81\\x88\\xa6\\xb0\\x00\\xba\\x87\\xa7\\xc2\\x93b\\xff\\xefM\\xbd\\xee\\x00+\\x0c3@\\xea\\xd6\\xe1\\xa3\\x07\\xcb\\x0fVW\\xd7\\xaa\\x95\\xea\\xd5W\\xae\\x8e\\x8f\\x8da\\xf7\\xc3\\xbb9\\xa5\\xd7\\xad>=:\\xb0\\xb4g\\x84\\x1e\\x7f\\x93\\xaa\\x95j4\\x1a\\x05 \\x05\\n\\xa8;\\xc2R\\x8a\\x00 \\x91\\x8c\\xb6[\\xae\\x195\\x00\\x90q6qjt\\xe5\\xf6\\xaa\\x9d\\xb0\\x99\\x81\\xf5\\x86Wk\\xbav\\xc4\\x9e\\xbb0#\\x0c\\x83\\x88\\x0c\\xc3$\\xa9Z\\xc5N\\xadPOeS\\xf9\\x89\\\\$\\x12\\x01\\xa0\\xad\\xd5\\x9d\\xd2A\\xf9\\xd5/~\\xc6\\xb6m\\xce8\\x011D\"@d\\x04\\n\\xb1\\xbb\\x94\\xc6\\x80\\x11\\x12\\x02)@\\x06\\xa8@\\xb10\\x83\\x90)\\xa5\\x0e\\x0f\\x8ak\\xeb\\xeb\\x9b\\xeb\\x1b\\xa6m\\x9d<yrvv\\xc6\\x10FX\\xff\\xeb\\xb1?\\x92\\x1e[}\\x8at`i\\xcf\\x0c)\\n\\xd7\\xdc\\x91h{{\\xbb\\x7f\\xa0?,\\x1d\\xd2M+\"\\x00 \\xa2N\\xc7k7[\\xa9l\\x02\\x808\\xe3\\xd1d\\xbco\\xb0ow\\xb90|\"w\\xd0?z\\xf6\\x8d7N\\x94\\xb6\\x92N\\x1b\\x00\\x18\\xb2\\xc6a\\xbb\\xb4]a\\x9cM\\x9e\\x99\\xcad\\x92B\\x18\\x96a?\\xbc\\xbf\\xb6\\xbfUx\\xe5\\xf3WR\\xa9\\x14\"\\n!\\x10P0\\x03\\x108\\x13\\x80\\xdd<\\xaa\\x94+\\xf5z\\x9d\\x14y\\x9e\\xab\\x94\\xf2<\\x1f\\x01Z\\xed\\xb6\\xe7{\\xedfkww/\\x12q\\xc6\\'&>\\xff\\x85/\\x0c\\x0c\\x0c\\x1c\\x9d\\x15=\\xaa|\\xdc\\x9dQ\\xea5\\x96O\\x97\\x0e,\\xed\\x99A\\x04E\\x00@\\x92h\\x7f\\xbf\\xf0\\xf2\\x95\\x97\\tH)E\\x00J) P$\\x01\\x90q\\x8c&\\xa2D\\xaa{]\\x0f\\xa0\\x7f$\\xed{\\x9d\\xc2\\xda\\xe1\\xe6\\x99\\xbc\\x02\\xcc%\\xa2\\x18t\\x1a\\x07\\xadJ\\xa1\\xc69\\xcfOd\\x07\\x86\\x06\\x10@\\x18\\x06\\x02\\xdb\\\\\\xd9\\xaa\\x97\\xeb\\xaf~\\xe9\\x15\\xc7q\\x18\\xe7@\\xc4\\x90\\x03\\x10\\xb2\\xee\\xb2\\xd4\\xe6\\xd6\\xe6\\xea\\xca\\xea\\xc7\\x1f}4w\\xe2D\\xa3\\xd1\\xc8\\xe5\\xb2\\xd5Jm`\\xa0\\xbf^\\xaf\\xa7R)!D:\\x93\\x8e\\'\\xe2\\xaf}\\xe1\\xf3\\x8e\\xe3\\x00\\x12\\x02\\x83\\xc7\\xaa\\xb3#`x\\xb7Y\\xaf[=\\x05:\\xb0\\xb4g\\x83\\xba\\x15\\x0c\\x88\\x08\\x1e,?\\xa8\\xd7\\xeb}\\x03}J\\xa9nf\\x91R\\xa4\\x14\\x91\\xdbn\\xefn\\xec\\x9d<\\x7f\"\\x00OQ\\xb7W+\"\\x0eN\\xe6\\x1f\\xdc^_r9D \\xba\\xbe\\xf3p\\xb7\\x10ID\\x86&\\x06S\\xfd\\tC\\x98\\x9cs\\xc1\\r\\x93[kKk\\xc5\\xbd\\xd2K\\xaf\\xbe\\x98\\x88\\'\\x182\\x81\\x02\\x19r\\xe4\\x88\\xc8\\x18o5[\\xef]{\\xcb\\xf3\\xbc\\x89\\x89\\xf1\\xdf\\xfbO~/\\x1a\\x8d\\x86\\xb9\\xf3hj\\x87\\x8fO]\\x1f\\xcf\\xa4\\xe3\\x05+\\xe8\\x96d\\xd0\\x9e\\n\\x1dX\\xda3\\xa0H\\x01\\x01\\x01\\x11\\x91\"u\\xeb\\xf6\\xad+\\x9f\\xb9\\xa2(\\\\\\xb7R\\x04$\\x95\\x04\\x00\\x19\\xc8;\\x1f\\xde\\x19\\x9e\\x1c\\xe2\\x82\\xbb\\xaed\\xc8\\xa4\\x92\\x0cQ\\x111\\x06\\x03\\xa7Gk\"\"\\x88&,J>7\\xeeD\\x1c\\xc1\\x19\\xe3\\x1c\\x1083\\x10\\xb1R\\xacT\\x8a\\x95\\x97?s9\\x12u\\x18\\x13H\\xc4\\x19\\xa3\\xee\\xa28\\x95\\x0f\\xcb\\xdf\\xfd\\xcew\\xcf\\x9f??\\x7fa^\\x08\\x81\\xd4\\x9d\\xd6\\x01\\x00v\\x0b\\xd3\\x13@x\\xd8\\xa1\\x1bZ\\xd8\\xbd\\xcd\\x8ct\\\\\\xe6Ko\\x08>]:\\xb0\\xb4g&\\\\\\xe7\\xbe{\\xf7\\xaeeZ\\xe3c\\xe3\\x92\\xa4R\\x92\\x94\\x94\\xa4$)\\xa5\\xe4\\xde\\xcen\\xb9R\\x99\\x7f\\xe9\\x9c\\x17x\\x81\\x0c\\x08@\\xa9@\\x02H\\x19\\x94\\x8b\\xf5\\x9b\\xae\\xa0q\\x1c\\nZ\\xfd\\xf9\\x04g\\x9c!p&\\x18\\xa2\\x10\\x823\\xc6\\x00W\\x16\\x1e\\x9c:\\x7f2\\x1a\\x8f\\t\\xc69\\xb2n\\xf30D\\xc6\\xb0^k\\xbc\\xf3\\xce;\\x97_\\xbe|\\xe6\\xf4i\\x80\\xf0\\x94\\xc2\\xa3]\\xc2\\xa3%\\xa9n~\\x1d\\xbd:\\xea\\xd0\\xa5\\x03\\xea\\xd9\\xd1\\x81\\xa5=m\\xf4\\xe8\\x85\\xa4\\x0c\\x96\\xee/\\xbdp\\xf9\\x12\")\\xa9\\x80( \\tD\\x81\\xf4\\x9b\\x8d\\xe6\\xad\\xeb\\xb7\\xcf^:C\\x9c\\x14)/\\xf09\\xe3\\x9e\\xe7\\x17\\xb6J\\xd5\\x83\\x8a\\xd7\\xf6\\x8b\\x17\\xe6\\x01 \\xb5\\x7fp\\xe0\\x1d\\xe6\\xc6\\x06\\x88a\\xb8\\xf7\\x07\\x84\\x08\\xb8\\xb7Yp\"v6\\x9fe\\x8c!2\\x1e^a>:\\x04\\xfa\\xc3\\x1f\\xbc9;7{\\xea\\xf4)D\\x0c\\x0fy\\x11\\x10\\x00\\xe1\\xd1\\xaa\\xf9\\xf1\\xd4\\xef\\xf8a\\xeb\\x9b\\xcc\\xbf\\x08t`i\\xcf\\x00\\x01\\x85\\xf3\\xc1\\x87\\xab\\x0f\\x03\\x19\\xe4\\xf3y\\xa9\\x94\"\\xa5\\x94TRI\\x92A\\xe0\\xbf\\xfb\\xd6O\\x87\\'\\x87\\xe2\\xe9X\\xcbm\\x12Q\\x10x\\xa5Rc\\xe7\\xe1\\x9e0\\xf9\\xc0T\\xc6\\x8c\\x18o\\xd9q\\x008\\x99\\x84\\xea\\xdd\\x9a\\xe5X\\xe9\\\\\\x92\\x88+\"\\x01\\x00\\x08\\xa5\\x83\\xf2@>\\xcb\\xc2\\xb8\\xeav2e\\x1c\\x19 .\\xdd_f\\xc8\\x9e\\x9b\\x7f.\\xdc\\xe8;\\x9a\\nv\\x8f/<\\xe3\\xa7F\\xfb\\xff\\xa5\\x03K{\\xea\\x1e\\xad^\\xd1G7>\\xbat\\xe9\\xa2\\x02\\x05\\xa0\\xa4\\x92D*P\\x81\"Z\\xb8u/\\x9e\\x8c\\rN\\xe6\\x02\\x19t|\\x17\\t\\xd7\\xeeo7\\x0e\\xeb}\\x93\\xa9h*\\xda\\t:M\\x19\\x14\\x98\\xcd\\x89\\x86\\xa0\\x8d\\x93\\xe9\\xad\\x85\\x1d+b\\x88\\x84 \\xec.\\xcc+\"\\'b\\x02@8\\xe0\\nGWa\\x07\\xea{\\xf7\\xee\\xbdt\\xf5%\\xc6\\xd8\\xf1\\\\\\x8f\\xba\\xd7\\x95\\xf5\\x18\\xea\\x17\\x9d\\xfe\\xf7D{\\xaa\\xc2\\xa8\\x02\\x02 \\xd8X\\xdf\\xe0\\\\\\x8c\\x8c\\x8d( IJ\\x81\\x92J*%\\x8b\\xfb\\x07{\\xdb\\x85\\x993\\xd3R\\x05^\\xe0z\\x9e\\xbb\\xf8\\xe1\\x92\\xd7qG\\xce\\x0f\\xf2(\\xeb\\xf8m?\\xf0V\\xc9$\\x80\\xaclR\\xd0\\x01\\x1b\\xd3\\xc3\\xc9\\xdd\\x95}\\xa9\\xa4T\\x81\"\\xa5H1\\x06\\x9e\\xeb\\x01\\x1c\\xb56\\xa5\\xee0\\xaa\\xd9h\\xf8\\xbe?88\\x18>\\x9eG}\"\\x8e\\xda\\xdbh\\xbf\\xc8t`iO\\xd5q\\\\\\x11\\xd0\\xea\\xda\\xea\\xc4\\xd4\\x04\\x00\\x91\\nIE2P\\xf2\\xde\\x9d{\\xc3\\x13\\xc3L\\xa0\\x1bx\\x9e\\xef\\xad\\xdeY\\xe7\\x16OO\\xc5|\\xf0\\xdb^\\xbb\\xe3w\\xda^{\\x93G\\x00 \\xd7){\\x81\\xeb\\x05^,g\\x07R\\x96\\xf6\\xca\\x81\\x92\\x8a\\xa4RJ\\x08\\xd1jv\\x00\\x88@A\\xf7p\\x02\\x02\\xd2\\xe1\\xe1a:\\x9d>>Bu\\xfc\\xe3Y>)\\xda\\xdf\\x9a\\x0e,\\xed\\x19!:,\\x1e\\x8eM\\x8cQw\\xd8\\xa5\\xc2\\xd8*\\xee\\x1f\\xf8^\\x90\\x1f\\x1d\\x08T \\xa5\\xdcX\\xd9V\\xa42\\xe3)_\\xfa~\\xe0\\x05\\xd2\\xf7\\x03\\xdfoy\\xbb<\\x06\\x00\\xfdn\\xd9\\x97A \\x03\\xa9Tr0^\\xda\\xafJ%\\xa5RD*\\x9e\\x8a\\xd7*U\"\\x02@\\x02:\\xde\\x00\\xec\\xb4]\\'\\xe2\\x1c/Z\\xc1\\xd1EA\\xad\\'\\xe85,\\xed\\xe9\\t\\xd7\\xda\\xc3\\xb7\\x0fK\\xa5V\\xab\\x95L$\\xa4\\x92D2<\\'\\xaaH\\xae>X\\xcf\\x8ff%I%\\x83j\\xb9Z=\\xa8\\xf4\\xcd&\\x03\\xe9\\xba^\\x87\\x08j\\xbbMY#\\xe2\\x147\\xcbn\\x86\\xc7\\xb6\\xf6\\xbd>\\xce\\x18\\xe7\\xc8E\\x8c\\xcb]\\xbfV\\xaa[9S\\xa9 \\x1a\\x8f\\x14v\\x8aDDJ\\x112E\\xc0\\x90\\x00\\xc1\\xf5]\\xceX\\xf8`\\xf4\\xc0\\xaa\\xe7\\xe8\\xc0\\xd2\\x9e\\x9e\\xee-\\x16\\x02\\x02(\\x1f\\x96\\x87\\x87\\x87\\x8f\\xb6\\x0b1|\\xc3s\\xfdf\\xad9w~\\xa6\\xe3w\\x94\\xa2\\xc3\\xadR\\xbc?\\x06\\x8c\\x02\\x19\\xf8\\x81lo\\xbb\\xab}C\\xd5\\xe9\\x94\\x02\\x85\\x08\\x03\\xdea\\xdbcb\\xc7\\x8b\\x0c[R\\xf9\\\\1\\'iW\\x0b\\x95\\xbelZ\\x01:1;\\xf0<)\\x15\\x99\\xdd\\xfe[\\xe1\\xd5D\\x86\\x8c\\xf1n\\xef\\xf8g\\xfcth??=%\\xd4\\x9e\\x9eG%e\\x886\\xb76-\\xcb\\x02\\xe8&\\x18\\x01\\x01\\xa9\\xc3\\x83C\\xc328\\xe7D\\xcau;\\x07\\x9b\\x87\\xa9\\xc1\\x84\\xafd \\x83\\xe6nG\\x12\\xed\\xe5\\xfa;\\x8c\\'\\x9b\\x85D\\xe3 \\xd5)b\\xba\\x13\\xb4d\\xfb\\xb0\\xe3\\xab\\xc0\\x93^$e\\xb7\\x9a\\xaeRJ\\xca\\x009\\x93\\x92:\\xad6)\\xd5\\xdd8<\\xeag\\x1a\\xfe\\xec\\xf1\\xfa6Z\\xaf\\xd0#,\\xed\\xe9y|P\\x83\\x80\\x03\\xb9\\x01\\xea\\xae\\xbf\\x13\\x10)\\xa2J\\xb9\\xeaD\\x1c\"PJ6J\\x8d\\xcc`\\x8a\\x18\\x11\\xc9\\xc0\\x93\\xb2C\\xce0\\x07\\xa0D\\xa7:TY\\x0b\\xfb\\xc23\\xcex\\xc6\\n\\xaa\\x8a\\x06\\x08\\x10\\x99\\xc5( \\xe9K4\\x91\\x80\"1\\xc7\\xf3\\xfcpl\\x85\\x8a\\x80\\x01\\x03\\x90J\\x81\"\\xd4#\\xac\\xde\\xa4GX\\xda\\xd3s<\\xa8!\\x80r\\xb9d[6\\x1e/}\\x13!`\\xa7\\xd3\\x89\\xc4\\x1c\\x00\\x05\\x0c[\\xed6\\xb7\\x04(\\x05\\x04^\\xc3\\x07\\xa6$J\\x00\\xf2\\xb8h\\x18\\xd1\\xbap\\x9a\\xc2\\x96\\x92 \\x02$)\\xdci\\x04\\x00d\\xe4y\\xbe\"\\x89@\\xcdz\\xd3u\\xdd\\xf0\\x93\\x86\\x9fXuo\\xd80\\x02\\xecvfV\\x14V=~6\\xcf\\x88\\xf6s\\xd2#,\\xed\\xe9y\\xbc\\xd0\\x9diY\\\\p\\xa0\\xe3)!(P2P\\xc2\\xe2\\x04\\xa0\\x88d\\xa0\\xc29\\x1c\\x11\\x11!3Xx\\x8df;>V\\x88d\\x11 \\xea\\xd6.\\xee}\\x00\\xa0Hq\\xa2\\xb0G+qC \\x00\\x03N\\x04\\xb1d\\x8c!\\x83\\xa3j0\\x00\\x80\\x00\\xbe\\xef3\\xf1\\xe8=z\\xe9\\xbd\\xb7\\xe8\\xc0\\xd2\\x9e\\x9e\\xa3\\x11\\x16\"\\x80\\xe7z2\\x90\\xc7g\\xcd\\x19\\xa0@n\\x9a\\x02\\x140D\\x8e\\\\\\x08\\x1e\\xf6z\\xe0\\x9c\\x0b\\x01\\xe4\\x02GD\\xc4\\xe9\\xea\\x83\\xc9\\x83{\\x84\\xc0\\x91#0\\x0c\\x18\\xe3(\\xb8@d\\x9cs\\xb7\\xe9\\x9b\\x96I\\x08\\x9c\\xf1\\xc3\\xfd\\xd2\\xc93sH\\x84xT\\xdf\\x18@)\\x19\\xb1\\xa3p\\x1cU:\\xacz\\x8a\\x1e\\tkO\\xcf\\xf1\\xa0\\x06\\x00\\xd2\\xe9\\xb4\\xe7\\xba\\xc7\\xbfD\\x88\\x84d\\xd9V\\xbb\\xdd\\x01\\x00@\\xb2\\xa3\\xb6\\xd7\\xf2\\x01\\x10\\x08\\xcc\\xb8\\x89H\\x140\\x80\\xb0\\x14\\x15\"c\\x00\\x80\\x8cQ\\x03\\xb9\\xc3\\x00\\x80#\\x97\\x1d)L\\xce\\r.\\x98PD\\x89T\\xdc\\x89:\\xc0\\xba\\x1d%\\xc2\\x8fm5\\xdb\\xb6cwk3\\xe8\\xb4\\xea5:\\xb0\\xb4\\xa7\\'\\x8c\\xaa\\xe3+\\xc7{\\xfb\\xfb\\x08\\xc8\\x91\\x85e_\\x18\\x8aT_\\xba^i0\\x14\\x0673\\xd9\\xbe\\xfaa\\x93I\\xb4\\r\\xc7\\xb2l+i\\xb9;\\x92#\\x17L8\\x96\\xe3\\x08\\xdb1\\x1d\\xde2\\xa1\\xc5by\\xc76\\x1c\\x83\\x9bn\\xd5\\x8f%#\\x860\\x18C\\xb7\\xd1A\\x04\\xc7v80\\x06\\xfc\\xe8<;\\xb6\\xdb\\xedD2\\xf1\\xe8F\\x8e\\x0e\\xad\\x9e\\xa2\\x03K{z\\x1e\\x1fa\\r\\x0e\\x0f\\xb6[m\\x08\\xab\\xe4u\\xe7\\x8a\\xd4\\xdf\\xdfG\\xa4\\xdc\\x8e\\x0b\\x04\\x82\\xb3\\xdc\\xc4\\xc0\\xe1V9\\x1c\\r\\xc5\\xb2\\x8e\\x11\\x17}{\\xc5\\xc8~]UQ\\x96\\xc1\\xdf#Y\\xc1\\xc8\\x88eZ\\x06 \"\\xb0F\\xb9\\x95\\x19\\xca\\x00 G^*\\x94\\x93\\xe9$ 2\\xc6\\xb0\\xdb\\x97\\x0b\\x95\\x92\\xf5z}\\xa0\\x7f\\x00\\x8e\\xee\\xe5<\\xcb\\xa7C\\xfb\\xf9\\xe9\\xc0\\xd2\\x9e\\xaa\\xe3\\x92T\\xb9ln\\xf1\\xfe\"2Dd\\x8c1\\xc68\\xe7\\xdc4\\xcct&\\xbd\\xb3\\xb6k\\x9b\\x96eX\\xa3SC\\xed\\x86\\x0bm\\x16\\xb5\\xa2\\x11\\'\\x96\\x9b\\x18x\\xde\\xaaMzu!MC\\x99\\xb1Ll\\xe0D*\\x95J9v$j\\xc7\\xaa\\x9b\\x8dH<\\x9a\\xce\\xa4,#\\xc2\\xb9\\xd8\\xd9\\xd8\\x1b\\x9d\\x181\\xb8`\\xdd\\x01\\x1c0d\\x1b\\x9b[\\x96e\\x19\\xa6\\x08\\x1b\\xc9?\\xeb\\'C\\xfb\\xb9\\xe9\\xc0\\xd2\\x9e6B\\x02\\x82T*922R.\\x95\\x01\\x1e]M\\x06\\x84\\x89\\x99\\xf1\\xe2~1\\xf0\\x03\\x000m;7:P\\xdc,\\xbb\\r\\x8f#C\\x04+j\\xc6\\x87\"\\xc9\\xd1hb<\\xeadL.8\"r\\xe4\\x95\\xed\\x8a\\xef\\xfa\\x83S9\\xce\\x04\"\\x156\\x0f\\xd2\\xfd\\xe9\\xbe\\x81\\x018jl\\x13\\x1e\\\\(\\xec\\x15\\xa6g\\xa7\\xbb\\x03+\\xd2\\xc3\\xab\\xde\\xa3\\x03K{\\xaa\\x182\\x8e<\\\\5\\xcf\\xe5\\xb3\\xeb\\xab\\xeb\\x9c1\\xc1\\xb9\\xc1\\x04g\\xdc\\xe0\\xc6\\xc0\\xc0@_\\x7ffsi\\xdb1#\\x11\\xcb\\x19\\x9b\\x1c\\xcd\\x8f\\xe5\\n\\x0f\\x0e\\xbd2%#\\xa9\\xa4\\x93JG\\xd3\\xc9h*\\x15\\xcd$\\xa3\\xe9d4\\x15\\xe1\\xd1\\xcaj\\xddo\\xca\\x13\\xf33\\xa9x\\xd21m\\x01buqm\\xf6\\xc4\\xb4\\xc1\\xb9!\\x8cp\\x9b\\x11\\x91!\\xe1\\xf5\\xf7\\xafONL\\x84\\xab\\xf6\\xc8\\x8e\\x06{Z\\xef\\xd0\\x81\\xa5=m\\xdd\\xa5w\\xc2\\xe9\\xe9\\xe9\\xb5\\xb55\\xa5\\xc2\\xf6\\x84\\x80\\xc8\\x10\\x90!\\x9ey\\xeet\\xbdV\\xdf^\\xdb\\x0e\\x97\\x9f\\xb2\\xc3\\xfdS\\xe7\\xa7:\\xf5\\xf6\\x9d\\x1f/\\x96\\xb6*\\xcdR\\xdb\\xab\\xfbn\\xdd\\xab\\x15\\x9a[w\\xf6\\xf6V\\nV\\xc4\\x9a\\x9e\\x9f\\xb4\\xecH\\x18@\\xf7?^\\x1c\\x1a\\x1bJ\\xf5e\\x18rx\\xd4\\xd5\\x99\\xad>X\\x9d;9\\x97H$\\xbb\\xc5\\x19\\xf4\\x8c\\xb0\\x07\\xe9sX\\xda\\xd3\\x86\\x80\\x0c\\x98B\\x95\\xcb\\xe7\\x19c\\x0bw\\x16\\xce\\x9e?\\x0b\\xc0\\xc3\\xc5uB\\x88F\\xf8\\xfc\\xc5\\xe7>x\\xf7\\x03\\xc6x~,\\xcf\\x98\\xe1X\\x91d2\\xd1\\xac5\\x0ev\\x8b^\\xc3w\\xdb\\x9e0\\xb8\\x10,?\\x92\\xcd\\x0e\\r\\x18\\x96ap\\x831&\\xd0\\xb8\\xf7\\xf1}\\xcb\\xb4\\xe7/\\x9c3\\rKpCp\\xce\\x99`\\x0c\\x01`\\xe1\\xee\\xbd\\xe7\\x9e\\x7f\\xae\\xdb\\x95\\x0b\\x81@q\\xe4\\xba\\xb2Lo\\xd1\\x81\\xa5=m\\xdd\\x8e\\x0f\\x04\\x00\\xf0\\x99\\xcf~\\xe6\\xed\\x1f\\xfdx\\xee\\xc4\\x9c0\\x04\\x03T\\xd8\\xcd\\xb2L\\x7f\\xfa\\xf9\\x17\\x9f\\xbb{\\xf3n\\xa5R\\x9d<5\\t\\x08\\x82\\x8bX2\\x1eID\\xa4\\n\\x88\\x00\\x10\\x18\"B\\xd8\\x0cG0dn\\xdb_\\xb8\\xb3hY\\xd6\\xfc\\xe5\\xf3\\\\\\x18\\x88\\xc8\\x19G\\x00\\x86\\x00\\x00K\\xf7\\x97\"\\x91\\xc8\\xd4\\xf4\\xd4q+\\xaf\\xa3\\xab\\xd0Z/\\xc1\\xa3{\\xec\\x9a\\xf6\\xf4\\x84}\\t\\x15)\\x00z\\xf3\\xcd7\\x95R\\xaf~\\xee\\xb3a\\xa5\\xd0@\\x05J)?\\xf0\\x15\\xa9Z\\xadr\\xfb\\xe3\\xbb\\xa5\\xc3\\xd2\\x893s}\\xb9\\x0c H\\xe9\\xd3Q\\x17{D\\x04@\\xce\\xb8\\xefy\\x9b\\x0f\\xb6\\x0e\\xf7Jc\\xd3c\\xb3\\'\\xa6\\rar\\xc6\\x05\\x17\\x82\\t\\xc6\\xb9`\\xa2\\xd3\\xe9|\\xeb\\xcf\\xfe\\xcf_\\xfb\\xb5_\\xcd\\xe5s\\x08\\x88a\\x01\\xf7n\\x83B\\xad\\x97\\xe8\\xc0\\xd2\\x9e\\x01E*\\xac\\x95\\x8cD\\xcdv\\xeb\\xfb\\xdf\\xfb\\xc1\\xa9\\xd3\\xa7&&\\'\\x94\\x92a\\x8dc)e\\xa0d }\\xa5\\x82\\xed\\x8d\\x9d\\x87\\xcb\\x0f%Q,\\x11I&\\x13v\\xc21-3\\xf0|\\xdf\\r\\x1a\\xb5f\\xadR\\xdb|\\xb89wvnjv2\\x1e\\x8f\\tf2\\x86B\\x98\\x0c\\xd1\\xe4\\x06 \\n&\\xbe\\xf7\\xd7\\xdf\\x1f\\xe8\\x1f\\xb8\\xfc\\xd2e\\xce9\\x00\\x1dg\\x16\\xea;\\xcf\\xbdF\\x07\\x96\\xf6lP\\x08\\x14\\x11\\xed\\xec\\xec\\xbc\\xf9\\xc3\\xbf\\xf9\\xc2\\x97>\\xdf\\xd7\\xdf\\xa7\\x94R\\xa4\\x02%I\\xa9@\\x06\\x04*\\x08\\x02\\x02:(\\x1c\\x1c\\x14\\x8a\\xe5\\xc3\\xb2\\xef\\xf9\\xae\\xeb\\x1a\\xa6\\x01\\x00\\x89d\"\\x9dI\\r\\x8d\\x0eZ\\x96\\x8d\\x88\\x82\\x0b\\x86\\x9c3\\xce\\xc3s]\\xc8\\x19\\xb2\\x0f\\xde\\xbf\\xbe\\xbb\\xb3\\xfb\\xf5o|\\x9ds~\\\\\\x95\\x811\\xa6O\\x8d\\xf6\"\\x1dX\\xda3C\\xa4\\x14\\x11\\x91\\x02\\x80\\xfb\\xf7\\x16o\\xdd\\xbe\\xf5\\xd9\\xd7^M\\xa5R\\x8a\\x94TR\\x91RRJP$\\xa5\\xa40\\xc7\\x14\\x01\\x10)\\xc0n\\xade\\x86\\x80\\x88\\x1c\\x19!\\xe3\\x9c3@\\xc1\\x05\\x02\\xe3\\x9c\\x87w\\xa1\\xaf\\xbfw\\xbdP(|\\xe5W\\xbf\\xe28v\\xd8\\xef\\x0b\\x19\"\\xe8z2\\xbdJ\\x07\\x96\\xf6,\\x85\\xcd\\'\\xc2\\xde_\\xf7\\xef\\xdd\\xbfy\\xf3\\xe6\\xe5\\x97.\\x0f\\x8f\\x0c+RDJ*\\tD\\x92dX\\xd2\\x8f\\x00\\xc2\\xa2W\\x8f\\x1fI\\xe0\\xc8\\x08\\x901\\x06\\x88\\x9c1\\x86\\x8c#CdJ\\xd1\\xf5\\xf7\\xaf\\xaf\\xad\\xad}\\xe3\\x1b_\\x8fF\\xa3\\x8c\\x1d\\xf5\\x9eG\\xae\\xcf^\\xf5.\\x1dX\\xda3\\xd6]\\xcf\"\\x02\\xa0\\xd5\\xb5\\xb5\\x0f\\xaf\\x7f\\x98\\x1f\\xca_z\\xe1\\x12\\x01\\x85\\xb1E\\n\\x08d\\xd8M\\x82\\x80\\x14QXC\\x14\\xba5c\\x8e\\xaf\\xfb0D\\xe4\\x8c!`\\xb3\\xd1\\xfa\\xc9;\\xd7L\\xd3\\xfc\\xdc\\xe7?g\\x99&\\x122\\xc6\\t\\x15\\x000\\xe4z2\\xd8\\xbbt`i\\xcf\\x1euc\\x89\\x08\\xa8V\\xaf\\xbf\\xf3\\xf6;n\\xa7s\\xfe\\xb9\\xf9\\xd1\\xb1\\xd10\\xb6 \\xfc\\r\\xc7\\xe5\\xd8\\xa9[\\xf5!l/\\x81\\xdd\\xd4\\x02D\\x16\\xf8\\xfe\\x877>\\xde\\xde\\xda\\x9e\\x9e\\x9d\\xbep\\xe1\\x02\\x0b\\xbb\\xd4\\x1f7\\xa4\\x0f\\x7f\\xbb\\x0e\\xac\\x9e\\xa5\\x03K\\xfb\\x85\\x10\\x8e\\xb3\\x80\\x08\\x80$\\xd0\\xfa\\xea\\xfa\\x0f\\xbe\\xff\\x83\\x91\\xd1\\x91\\x99\\xd9\\x99\\xf1\\x891\\xc0\\xb0\\xee\\xa8z\\xec;\\x96\\xba\\xbdP\\x8f\\xea.\\xb4\\xdb\\x9d{\\xf7\\xee\\xad,\\xafL\\x8c\\x8f\\x9d=w.\\x99J\\x1d\\x9f\\x11}\\x94Y\\xdd\\xc3\\x10Z\\xaf\\xd2\\x81\\xa5\\xfd\\xa2\\xa0\\xeeY\\x07\\x08\\x8f\\x95J%\\xef\\xdf\\xbb\\xf7\\xe0\\xc1\\xc3V\\xabe\\x18\\xc6\\xf4\\xdcT_\\xba\\xaf\\xbf\\xbf\\x9f\\x0b\\x01\\xdd\\xbaZ\\xd0h4\\x0e\\x8b\\xa5\\xdd\\xdd\\xddJ\\xb9Z\\xadU\\x07\\x07\\x07\\xe7\\xe7\\xe7\\xfb\\xfa2\\xe1\\x11-8\\x1aV1\\xdd\\x86\\xfe\\x97\\x85\\x0e,\\xed\\x17\\x08\\x85\\x0b\\xf0\\xd0m\\x06\\x1d\\x16|o4\\x1a\\xab\\x0f\\xd7\\xea\\xf5\\xfa\\xbd\\x85{\\xd1X\\xb4\\xd1h$\\x93I\\xd7u\\r!\\xf6\\xf6\\xf6O\\x9f9\\x9dJ&\\x07\\x87\\x87\\x06\\xf3y\\xc6\\xf9\\xd1\\xf4\\xf0\\xa8>\\x1fv\\x03\\xebY\\xfe\\xa9\\xb4\\'G\\x07\\x96\\xf6\\x8b\\x85\\xba3\\xc3\\xa3\\x17\\x008\\xeeT\\x01@@\\xae\\xeb\\xba\\xae+\\x840MS\\x08\\xf1X2u\\xa7\\x87p<\\xba\\xd2+V\\xbftt`i\\xbfp\\x8e\\xea\\x8fv\\xdf\\xe8~\\x8b\\x86?=\\xbe\\x02\\x18\\xee\\x13\\x12\\x12\\x1e\\xd5\\xb5\\xc2\\xeeL\\x11\\x1f\\x8b)\\x9dV\\xbfdt`i\\xbf\\xe8\\x1e\\xdf\\x1f\\xfc\\xf7z\\x14X\\xc7k\\xf0z\\xc5\\xea\\x97\\x94\\x0e,\\xad\\x07\\x84\\x93D\\xfc\\x99\\x17\\xa0\\xb0\\xf0\\xc3\\xa3a\\x94\\x1eU\\xfd\\xb2\\xd3\\x81\\xa5iZ\\xcf\\xd0\\xbb\\'\\x9a\\xa6\\xf5\\x0c\\x1dX\\x9a\\xa6\\xf5\\x0c\\x1dX\\x9a\\xa6\\xf5\\x0c\\x1dX\\x9a\\xa6\\xf5\\x0c\\x1dX\\x9a\\xa6\\xf5\\x0c\\x1dX\\x9a\\xa6\\xf5\\x0c\\x1dX\\x9a\\xa6\\xf5\\x0c\\x1dX\\x9a\\xa6\\xf5\\x0c\\x1dX\\x9a\\xa6\\xf5\\x0c\\x1dX\\x9a\\xa6\\xf5\\x0c\\x1dX\\x9a\\xa6\\xf5\\x0c\\x1dX\\x9a\\xa6\\xf5\\x0c\\x1dX\\x9a\\xa6\\xf5\\x0c\\x1dX\\x9a\\xa6\\xf5\\x0c\\x1dX\\x9a\\xa6\\xf5\\x0c\\x1dX\\x9a\\xa6\\xf5\\x0c\\x1dX\\x9a\\xa6\\xf5\\x0c\\x1dX\\x9a\\xa6\\xf5\\x0c\\x1dX\\x9a\\xa6\\xf5\\x0c\\x1dX\\x9a\\xa6\\xf5\\x0c\\x1dX\\x9a\\xa6\\xf5\\x0c\\x1dX\\x9a\\xa6\\xf5\\x0c\\x1dX\\x9a\\xa6\\xf5\\x0c\\x1dX\\x9a\\xa6\\xf5\\x0c\\x1dX\\x9a\\xa6\\xf5\\x0c\\x1dX\\x9a\\xa6\\xf5\\x0c\\x1dX\\x9a\\xa6\\xf5\\x0c\\x1dX\\x9a\\xa6\\xf5\\x0c\\x1dX\\x9a\\xa6\\xf5\\x0c\\x1dX\\x9a\\xa6\\xf5\\x0c\\x1dX\\x9a\\xa6\\xf5\\x0c\\x1dX\\x9a\\xa6\\xf5\\x0c\\x1dX\\x9a\\xa6\\xf5\\x0c\\x1dX\\x9a\\xa6\\xf5\\x0c\\x1dX\\x9a\\xa6\\xf5\\x0c\\x1dX\\x9a\\xa6\\xf5\\x0c\\x1dX\\x9a\\xa6\\xf5\\x0c\\x1dX\\x9a\\xa6\\xf5\\x0c\\x1dX\\x9a\\xa6\\xf5\\x0c\\x1dX\\x9a\\xa6\\xf5\\x0c\\x1dX\\x9a\\xa6\\xf5\\x0c\\x1dX\\x9a\\xa6\\xf5\\x0c\\x1dX\\x9a\\xa6\\xf5\\x0c\\x1dX\\x9a\\xa6\\xf5\\x0c\\x1dX\\x9a\\xa6\\xf5\\x0c\\x1dX\\x9a\\xa6\\xf5\\x0c\\x1dX\\x9a\\xa6\\xf5\\x0c\\x1dX\\x9a\\xa6\\xf5\\x0c\\x1dX\\x9a\\xa6\\xf5\\x0c\\x1dX\\x9a\\xa6\\xf5\\x0c\\x1dX\\x9a\\xa6\\xf5\\x0c\\x1dX\\x9a\\xa6\\xf5\\x0c\\x1dX\\x9a\\xa6\\xf5\\x0c\\x1dX\\x9a\\xa6\\xf5\\x0c\\x1dX\\x9a\\xa6\\xf5\\x0c\\x1dX\\x9a\\xa6\\xf5\\x0c\\x1dX\\x9a\\xa6\\xf5\\x0c\\x1dX\\x9a\\xa6\\xf5\\x0c\\x1dX\\x9a\\xa6\\xf5\\x0c\\x1dX\\x9a\\xa6\\xf5\\x0c\\x1dX\\x9a\\xa6\\xf5\\x0c\\x1dX\\x9a\\xa6\\xf5\\x0c\\x1dX\\x9a\\xa6\\xf5\\x0c\\x1dX\\x9a\\xa6\\xf5\\x0c\\x1dX\\x9a\\xa6\\xf5\\x0c\\x1dX\\x9a\\xa6\\xf5\\x0c\\x1dX\\x9a\\xa6\\xf5\\x0c\\x1dX\\x9a\\xa6\\xf5\\x8c\\xff\\x1bn\\x1b\\xa8\\xb5\\xb3\\xa2S\\xa0\\x00\\x00\\x02TzTXtrdkitPKL rdkit 2020.09.1\\x00\\x00x\\x9c{\\xbfo\\xed=\\x06 \\xe0\\x01bF\\x06\\x08P\\x04b% n`\\xe4`\\xc8\\x00\\xd2\\xcc\\x8c\\x8cl\\x0c\\x1a \\x06\\x0b\\x07\\x84fbcH\\x00\\xd2LLl\\n& \\x9a\\x11(\\x01\\x12\\x00)\\xc4)\\x016\\x8a\\x19\\x89\\xe1\\x001\\x13N\\x83U2C\\x8d`d\\x86\\xd1\\xec\\x10yf\\x98:v\\x06(\\x1f*/\\xc0\\xa0\\x00\\xa4\\xd9`NCu\"\\xa6v\\x04\\rw\\x07\\x9a\\x838\\xc1\\x062b*\\xe0f`T`d\\xd2`bd\\x06\\xaab`aea\\x04:\\x9a\\x8d\\x9d\\x81\\x9d\\x83\\x85\\x91\\x9d\\x93\\x85\\x99\\x93K\\x8b\\x89\\x99\\x89\\x9d\\x9b\\x8b[\\x85\\x99\\x9b\\'\\x83\\x89\\x87\\x97\\x81\\x97\\x8f\\x81\\x97\\x9f\\x81G A@0\\x83IPHAH\\x98AH\\x84AD\\x94\\x83ID\\x0c\\x88\\xc5\\x19\\x04%\\x12$$3\\x98$\\xa5\\x14\\xa4\\xa43\\x98\\xa4e\\x12dd3\\x98d\\xe5\\x18d\\xe5\\x13\\xe4\\x15\\x80\\xe2\\xdc\\t\\nR\\t\"Ll\\xdc\\x92\\x12\\x82\\x02<l\\xd22\\xb2\\xf2\\nR\\xe2\\xb0\\xa8bP\\\\\\xb2E\\xe8\\xa0Q\\xb2\\x8c\\x03\\x88s*\\x92\\xf1 \\x9b\\xc6\\x16{\\x10{&;\\xfb\\xc1\\xf6\\x16\\x9f\\xbd \\xb6\\xd3\\xa2+\\x07.\\x8b\\xbe\\x02\\x8b\\xf7\\xbd\\xd9x\\xe0\\xf5;/0[\\xc7c\\xef\\x81,M\\xad\\xfd \\xb6\\xf5\\xed\\xe6\\x03N\\xa9\\xb3\\xc1\\xe2|\\xdeN\\x07\\xd4\\xcc\\xcd\\xec@l/\\xa6\\xc8\\x03\\xaeG\\x17\\x83\\xd5\\\\\\n8\\xb3?9S\\x12\\xac\\x86\\xe9\\x0b\\xd3\\xfe\\xf5\\xcb\\xee\\xef\\x03\\xb1\\'L\\xcb\\xb5\\xefx_\\xbb\\x07\\xc4>h\\xb9\\xc4\\xde{\\xc2\\x0e\\xb0\\x9ajqo\\xbb\\x90\\xe9r`\\xb7\\x9d_\\xc4k\\x9fy\\xb7\\x1a\\xcc\\x8ez4o\\x7f\\xde\\x02f0\\xbb\\xd5^\\xcfA\\xa2\\xee\\x1dX\\xfd\\xbbU\\xc5\\x0e\\xa5\\xfb\\x83\\xc1\\xec\\x93\\xcf\\x96;\\xb4\\x9f\\x9d\\x0ff\\xd7\\xce9\\xe5\\xe0_\\x19\\tvO\\xba\\xd3f\\x87\\x9b:\\xba`\\xbd\\xb1\\xf3[\\x1cD\\x9f8\\x83\\xd9EO\\x1f:\\xcc-\\x15\\x03\\xb3Y\\xe7\\xeds(\\xb7l\\x05\\xb37~\\x8eq\\xb8\\x1f\\xa1\\x08v?\\xefE\\x06\\x07\\x9bYm`\\xf6B\\xe3+\\xf6\\xc6\\x93\\x15\\x0e\\x80\\xd8{\\x8b\\xe2\\xed\\xa4\\xba\\xac\\xc1l6F\\x9e}\\xe2\\x19=`v\\xe2\\xda\"\\xfb\\xf5\\xfdk\\xc1\\xec\\x82\\x0b\\xe2\\xf6;\\x8d\\xee\\x80\\xd9\\x7f\\xcfJ8\\xd8\\x88,\\x00\\xb3-[\\xf5\\x1d\\x92\\x1e%\\x81\\xd9b\\x00\\xe7I\\x96\\x8c\\xa3\\xe0\\xb5\\xbe\\x00\\x00\\x026zTXtMOL rdkit 2020.09.1\\x00\\x00x\\x9c\\x9dU\\xcb\\x8e\\x141\\x0c\\xbc\\xcfW\\xe4\\x076\\xf23\\x89\\xcf\\xccrA,\\x12H\\xfc\\x03w\\xfe_T\\xba3\\xd9F\\x02i\\xc7\\xa3V\\xab<\\x89\\xab\\xcbv\\xec\\xdc\\xca\\xfc}\\xbf\\x7f\\xf9\\xf5\\xbb\\xec\\x9f\\xdco\\xb7\\xa2Z\\xd4J\\xa1\\x7f>\\x11Q~\\n\\x11\\xdd\\xb0\\xfd%*\\xb7\\xe0\\xc3\\xb3\\x9ai\\x9b\\x88*V\\xa9|+\\xff\\xa3\\xb8>\\x07\\xcb\\xa84\\xcc\\xa6/W\\xa3\\xee\\x17\\x96O\\xcf\\xb0\\x98\\xc6dy\\x81\\xafAfJK\\xab\\xcdl\\x9cZ\\x86\\x8c\\x91\\xd3\\xe2\\xd5\\x1b\\xf1\\xe9\\xdbCz\\x96%\\xd8\\xf9\\x8c\\xa85\\xeb\\xb9\\x88\\xac\\xb2\\x90\\x9f\\x11\\t\\x1b\\xe5\\xb4h%\\xf5\\x95\\r\\xee=\\xb2,\\x1a4Y^\\xa0\\xa5\\x87\\xe7\"\\xe2\\xea\\xd1\\xe4\\xf4\\xf5\\x08\\xcdi\\x81/\\xb3\\x9f\\x08G7Wix\\x84\\x8cU#b\\xcf\\x9d\\xddY\\x99\\xa1\\xb4:\\xc08\\x97\\xddY\\x99\\x18\\xba\\xba\\xb1\\x8f\\\\\\xa5gN]\\x0f\\x16\\xad\\xa1n\\xb9\\xec\"\"\\xe3\\xa5\\x85\\xbc\\xe5:\\x00\\xbe]\\xa4\\xadnl*\\x17\\x96\\xb7\\x8f\\xb3h\\x1d\\xd4\\xd7)\\x19\\xd29\\xa7\\xc5\\x11Q\\x8bU-\\x1b\\x9e\\xd3\\xd2\\xaa*\\xaf9),\\xb9\\xecB\\x0b\\xc6K\\xac\\x0c\\x91_\\xcf\\xcb\\x8f\\x8f\\xb3`2\\x98\\xf9\\x99!jt\\xed\\x80\\x8fwc\\xe9\\xa8o\\xacJ\\xabSn\\xee\"\\xa2\\xf0\\xb3\\x07\\xa1\\xaai\\xae\\xa7\\x11\\x87\\xb9\\xac;\\xa0)]Y\\x9e\\xa8\\x11N,\\xcb\\x9aR\\xe4\\xdcrZ\\xb86\\xef\\x07\\x8bT\\xa4\\x85\\xb2\\xdd(<\\xe4d\\x89\\xbf#zj\\xd6\\xb1\\x1e=\\x88\\xdb@GOv#f\\x9d\\x1dS\\x057\\x93\\x89\\xa6\\'&\\x8e\\xcb\\xc1\\xd2\\xea\\x18|\\xed\\xe9\\xcf\\xcf\\xd4\\x08q\\xb4S\\x0b\\x91$\\xe7.\\xba\\xc7\\x0e_\\xdcLn\\x9e\\x9a\\x0cp\\x92\\xe3=\\r =\\xde\\xcb\\xb0\\xbd\\x02\\xe4\\xdb\\x00j\\x87\\xc1\\xa7\\xd1\\xf7\\n\\xd0\\xd8\\x06P\\xecm\\xa30=V\\x80\\x98\\x1f\\xdf\\x01\\xe2\\xad\\x00\\x88\\xb7\\x02 \\xde\\n\\x80\\xd8\\xafF\\xdb\\x06\\xb6m\\x05@<6\\x01>\\x1a{%\\x8a\\xd0\\xd5\\xe0\\x87\\x01$\\xf2\\xf0\\x99\\x86^\\x8dw\\x05\\xa3\\xc8V\\x004\\'\\xfb\\xda\\xd6\\x8al\\x05@\\xb2\\x15\\x00\\xc9V\\x004O\\xce\\xb9\\x02\\xa4[\\xc14v\\x0e\\x80T/\\xd4\\xef\\xd9\\xc1\\xdf\\xfb;_Ky}\\xbb\\xdf\\xfe\\x00$\\xf5\\xb4Y\\x96\\xd4\\x81F\\x00\\x00\\x01\\x9dzTXtSMILES rdkit 2020.09.1\\x00\\x00x\\x9cE\\x92\\xcdj\\x1cA\\x0c\\x84_%\\xc7\\x19\\xe8m\\xeb_-\\x16\\x83a \\xe4\\x14\\x1fr\\x0c9\\xcd\\xddO\\xe0\\x87w\\xa9}\\x08\\xec\\xb0\\xc3\\xd7*u\\xa94\\xd7u\\\\\\xe7\\xcd\\xf7\\xf1r\\xbd^/\\x7f\\xaf\\xb7\\xb7_\\xff\\x8e\\xf7\\xf3\\xfa\\xffv\\x1d\\xaf\\xef\\xe7\\xfby\\x1f\\x8f[\\xee\\xfb>~\\x9e\\xf7-\\xe7\\xc7}\\xfc\\x86\\xf2\\x0f\\x9e>\\xc7\\xef\\x83\\x7f|\\x1e4\\xddU\"\\x86\\xceR\\xd7\\x1aO\\x9a\\\\KU\\x86L\\xcb,\\x90\\x07O1\\x96\\x05B\\x1e\\x91\\xe3\\t\\xb0\\x94x\\xf04\\xe3\\xad)Y\\x945\\x1e4\\x89\\xdd\\xb6\\n\\xad\\x99]\\xa3\\xa1i,\\xfen\\xe5\\x15\"\\x03\\x87U\\x12\\x06\\xa4\\x93\\xd4\\x97\\x021\\xee3\\xdfH\\x8b\\x12J\\\\\\x04\\x14@6Y\\xc8\\xfbJa#\\x05\\xf1\\xe9A\\xdc\\xba,IZ\\x1b\\x15;\\xed\\x1b#,\\xaa\\xdb\\xc7\\x0c\\xb3\\xd5\\xc2%+\\xdb\\xc3\\x9a\\xb4\\xcc\\xa4\\xddSZnbZ\\xdfN\\t\\xe6\\x95\\x19\\xb0&Gq\\xc7`\\xeap\\x85\\xe9Y\\xbeM\\xc1\\x88\\xaf\\x8e!<\\xe1\\xfc!\\xd3i\\xd5\\xea \\x84\\x97@\\x0eT\\xbamb,\\x8d\\x14T\\xd9\\xd4\\x95\\xc9;.\\xcbB\\x07\\x186\\xd1\\xdc\\t:\\xea\\xc5\\x06\\xfc\\xae\\xc5\\x9d\\x95t\\xb9g\\x17\\x11N\\xb2I\\x9a \\x03\\xe4\\xe3\\xe6\\x04\\xa2\\xd3\\x1c\\r\\xf6\\xc0\\x90\\x874\\xc2&\\x94\\x11\\xcb\\x92d$\\xe0\\xd8^T\\x8f+\\xb6:\\xcb\\x98\\xaa\\x1c\\xa3\\xbdB\\x9b]\\x81 W`\\xd4$\\xc7?@y\\xc0\\x16B\\x0f|\\x1d\\xe3\\x89\\x173\\xac\\x06\\xbb\\x8aN:\\x11\\x01\\xd6\\x07\\x85:\\x95nk\"\\xa1\\x9d2\\x142\\xce\\xcf/\\xa7\\xe8\\x8bc1[\\xf2L\\x00\\x00\\x00\\x00IEND\\xaeB`\\x82'"
      ]
     },
     "execution_count": 13,
     "metadata": {},
     "output_type": "execute_result"
    }
   ],
   "source": [
    "d.GetDrawingText()"
   ]
  },
  {
   "cell_type": "code",
   "execution_count": 7,
   "metadata": {},
   "outputs": [],
   "source": [
    "import pandas as pd\n",
    "import os\n",
    "path_data = '/nfs/turbo/umms-welchjd/hengshi/GAN/data/sciPlex/sciPlex3/'\n",
    "data_188 = pd.read_csv(os.path.join(path_data, 'emb_named_chemvae_canonize.csv'))\n",
    "chem_188 = list(data_188['Structure_Canonize'])\n",
    "\n",
    "smiles_list_trans = []\n",
    "for i in chem_188:\n",
    "    if '.' in i:\n",
    "        smile = ''\n",
    "        for j in i: \n",
    "            if j != '.':\n",
    "                smile += j\n",
    "        smiles_list_trans.append(smile)\n",
    "    else:\n",
    "        smiles_list_trans.append(i)\n",
    "\n",
    "\n",
    "\n",
    "smiles_list_trans1 = []\n",
    "for i in smiles_list_trans:\n",
    "    if '*' in i:\n",
    "        smile = ''\n",
    "        for j in i: \n",
    "            if j != '*':\n",
    "                smile += j\n",
    "        smiles_list_trans1.append(smile)\n",
    "    else:\n",
    "        smiles_list_trans1.append(i)\n",
    "\n",
    "smiles_list_trans2 = []\n",
    "for i in smiles_list_trans1:\n",
    "    if 'a' in i:\n",
    "        smile = ''\n",
    "        for j in i: \n",
    "            if j != 'a':\n",
    "                smile += j\n",
    "        smiles_list_trans2.append(smile)\n",
    "    else:\n",
    "        smiles_list_trans2.append(i)\n",
    "\n",
    "\n",
    "\n",
    "\n",
    "for i in range(len(smiles_list_trans2)):\n",
    "    if len(smiles_list_trans2[i]) > 120:\n",
    "        temp = smiles_list_trans2[i][:120]\n",
    "        smiles_list_trans2[i] = temp\n",
    "        "
   ]
  },
  {
   "cell_type": "code",
   "execution_count": 8,
   "metadata": {},
   "outputs": [
    {
     "data": {
      "image/png": "[encoded data removed]",
      "text/plain": [
       "<IPython.core.display.Image object>"
      ]
     },
     "execution_count": 8,
     "metadata": {},
     "output_type": "execute_result"
    }
   ],
   "source": [
    "\n",
    "atorvastatin = Chem.MolFromSmiles(chem_188[0])\n",
    "rosuvastatin = Chem.MolFromSmiles(smiles_list_trans2[0])\n",
    "Draw.MolsToGridImage((atorvastatin,rosuvastatin))"
   ]
  },
  {
   "cell_type": "code",
   "execution_count": null,
   "metadata": {},
   "outputs": [],
   "source": []
  }
 ],
 "metadata": {
  "kernelspec": {
   "display_name": "Python (chemvaeLower)",
   "language": "python",
   "name": "chemvaelower"
  },
  "language_info": {
   "codemirror_mode": {
    "name": "ipython",
    "version": 3
   },
   "file_extension": ".py",
   "mimetype": "text/x-python",
   "name": "python",
   "nbconvert_exporter": "python",
   "pygments_lexer": "ipython3",
   "version": "3.6.13"
  }
 },
 "nbformat": 4,
 "nbformat_minor": 4
}
