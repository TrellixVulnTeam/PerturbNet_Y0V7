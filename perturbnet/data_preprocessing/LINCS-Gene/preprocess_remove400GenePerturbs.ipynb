{
 "cells": [
  {
   "cell_type": "code",
   "execution_count": 1,
   "metadata": {},
   "outputs": [
    {
     "data": {
      "text/plain": [
       "'4.0.1'"
      ]
     },
     "execution_count": 1,
     "metadata": {},
     "output_type": "execute_result"
    }
   ],
   "source": [
    "import pkg_resources\n",
    "\n",
    "# Print version of cmapPy being used in current conda environment \n",
    "pkg_resources.get_distribution(\"cmapPy\").version"
   ]
  },
  {
   "cell_type": "code",
   "execution_count": 2,
   "metadata": {},
   "outputs": [],
   "source": [
    "from cmapPy.pandasGEXpress.parse import parse"
   ]
  },
  {
   "cell_type": "code",
   "execution_count": 3,
   "metadata": {},
   "outputs": [],
   "source": [
    "import pandas as pd"
   ]
  },
  {
   "cell_type": "code",
   "execution_count": 11,
   "metadata": {},
   "outputs": [],
   "source": [
    "my_data = parse(\"GSE92742_Broad_LINCS_Level3_INF_mlr12k_n1319138x12328.gctx\", col_meta_only=True)"
   ]
  },
  {
   "cell_type": "code",
   "execution_count": 12,
   "metadata": {},
   "outputs": [],
   "source": [
    "my_data = parse(\"GSE92742_Broad_LINCS_Level3_INF_mlr12k_n1319138x12328.gctx\")"
   ]
  },
  {
   "cell_type": "code",
   "execution_count": 13,
   "metadata": {},
   "outputs": [
    {
     "data": {
      "text/plain": [
       "(12328, 1319138)"
      ]
     },
     "execution_count": 13,
     "metadata": {},
     "output_type": "execute_result"
    }
   ],
   "source": [
    "my_data.data_df.shape"
   ]
  },
  {
   "cell_type": "code",
   "execution_count": 14,
   "metadata": {},
   "outputs": [
    {
     "data": {
      "text/html": [
       "<div>\n",
       "<style scoped>\n",
       "    .dataframe tbody tr th:only-of-type {\n",
       "        vertical-align: middle;\n",
       "    }\n",
       "\n",
       "    .dataframe tbody tr th {\n",
       "        vertical-align: top;\n",
       "    }\n",
       "\n",
       "    .dataframe thead th {\n",
       "        text-align: right;\n",
       "    }\n",
       "</style>\n",
       "<table border=\"1\" class=\"dataframe\">\n",
       "  <thead>\n",
       "    <tr style=\"text-align: right;\">\n",
       "      <th>cid</th>\n",
       "      <th>CPC005_A375_6H_X1_B3_DUO52HI53LO:K06</th>\n",
       "      <th>CPC005_A375_6H_X2_B3_DUO52HI53LO:K06</th>\n",
       "      <th>CPC005_A375_6H_X3_B3_DUO52HI53LO:K06</th>\n",
       "      <th>CPC005_A375_6H_X1_B3_DUO52HI53LO:C19</th>\n",
       "      <th>CPC005_A375_6H_X2_B3_DUO52HI53LO:C19</th>\n",
       "      <th>CPC005_A375_6H_X3_B3_DUO52HI53LO:C19</th>\n",
       "      <th>CPC004_A375_6H_X1_B3_DUO52HI53LO:K13</th>\n",
       "      <th>CPC004_A375_6H_X2_B3_DUO52HI53LO:K13</th>\n",
       "      <th>CPC004_A375_6H_X3_B3_DUO52HI53LO:K13</th>\n",
       "      <th>CPC005_A375_6H_X1_B3_DUO52HI53LO:K20</th>\n",
       "      <th>...</th>\n",
       "      <th>PCLB003_PC3_24H_X3_B13:P15</th>\n",
       "      <th>PCLB003_PC3_24H_X3_B13:P16</th>\n",
       "      <th>PCLB003_PC3_24H_X3_B13:P17</th>\n",
       "      <th>PCLB003_PC3_24H_X3_B13:P18</th>\n",
       "      <th>PCLB003_PC3_24H_X3_B13:P19</th>\n",
       "      <th>PCLB003_PC3_24H_X3_B13:P20</th>\n",
       "      <th>PCLB003_PC3_24H_X3_B13:P21</th>\n",
       "      <th>PCLB003_PC3_24H_X3_B13:P22</th>\n",
       "      <th>PCLB003_PC3_24H_X3_B13:P23</th>\n",
       "      <th>PCLB003_PC3_24H_X3_B13:P24</th>\n",
       "    </tr>\n",
       "    <tr>\n",
       "      <th>rid</th>\n",
       "      <th></th>\n",
       "      <th></th>\n",
       "      <th></th>\n",
       "      <th></th>\n",
       "      <th></th>\n",
       "      <th></th>\n",
       "      <th></th>\n",
       "      <th></th>\n",
       "      <th></th>\n",
       "      <th></th>\n",
       "      <th></th>\n",
       "      <th></th>\n",
       "      <th></th>\n",
       "      <th></th>\n",
       "      <th></th>\n",
       "      <th></th>\n",
       "      <th></th>\n",
       "      <th></th>\n",
       "      <th></th>\n",
       "      <th></th>\n",
       "      <th></th>\n",
       "    </tr>\n",
       "  </thead>\n",
       "  <tbody>\n",
       "    <tr>\n",
       "      <th>5720</th>\n",
       "      <td>11.0495</td>\n",
       "      <td>10.61280</td>\n",
       "      <td>10.68330</td>\n",
       "      <td>10.6188</td>\n",
       "      <td>10.31685</td>\n",
       "      <td>10.2550</td>\n",
       "      <td>10.395651</td>\n",
       "      <td>6.228325</td>\n",
       "      <td>9.835300</td>\n",
       "      <td>10.6542</td>\n",
       "      <td>...</td>\n",
       "      <td>8.685200</td>\n",
       "      <td>9.560650</td>\n",
       "      <td>9.452749</td>\n",
       "      <td>9.934300</td>\n",
       "      <td>10.888650</td>\n",
       "      <td>10.153749</td>\n",
       "      <td>9.95225</td>\n",
       "      <td>10.47510</td>\n",
       "      <td>10.298750</td>\n",
       "      <td>10.18475</td>\n",
       "    </tr>\n",
       "    <tr>\n",
       "      <th>466</th>\n",
       "      <td>8.1680</td>\n",
       "      <td>7.78685</td>\n",
       "      <td>7.74605</td>\n",
       "      <td>8.2274</td>\n",
       "      <td>7.49620</td>\n",
       "      <td>7.7936</td>\n",
       "      <td>7.998450</td>\n",
       "      <td>8.473300</td>\n",
       "      <td>7.966750</td>\n",
       "      <td>7.9445</td>\n",
       "      <td>...</td>\n",
       "      <td>7.500850</td>\n",
       "      <td>7.568500</td>\n",
       "      <td>6.476350</td>\n",
       "      <td>6.351625</td>\n",
       "      <td>5.328900</td>\n",
       "      <td>7.470425</td>\n",
       "      <td>5.70095</td>\n",
       "      <td>7.57945</td>\n",
       "      <td>6.363250</td>\n",
       "      <td>6.32580</td>\n",
       "    </tr>\n",
       "    <tr>\n",
       "      <th>6009</th>\n",
       "      <td>12.7962</td>\n",
       "      <td>12.04710</td>\n",
       "      <td>12.34480</td>\n",
       "      <td>12.7085</td>\n",
       "      <td>12.17070</td>\n",
       "      <td>12.3651</td>\n",
       "      <td>12.307051</td>\n",
       "      <td>12.755750</td>\n",
       "      <td>12.561251</td>\n",
       "      <td>12.2638</td>\n",
       "      <td>...</td>\n",
       "      <td>11.410749</td>\n",
       "      <td>11.551300</td>\n",
       "      <td>11.099900</td>\n",
       "      <td>11.231300</td>\n",
       "      <td>11.229500</td>\n",
       "      <td>11.472900</td>\n",
       "      <td>11.43895</td>\n",
       "      <td>11.35985</td>\n",
       "      <td>11.810699</td>\n",
       "      <td>11.77145</td>\n",
       "    </tr>\n",
       "    <tr>\n",
       "      <th>2309</th>\n",
       "      <td>5.4546</td>\n",
       "      <td>6.32850</td>\n",
       "      <td>6.06805</td>\n",
       "      <td>5.3931</td>\n",
       "      <td>6.37220</td>\n",
       "      <td>5.8180</td>\n",
       "      <td>6.886450</td>\n",
       "      <td>6.994250</td>\n",
       "      <td>6.095550</td>\n",
       "      <td>5.8488</td>\n",
       "      <td>...</td>\n",
       "      <td>8.117900</td>\n",
       "      <td>6.443925</td>\n",
       "      <td>6.941925</td>\n",
       "      <td>6.494900</td>\n",
       "      <td>6.790300</td>\n",
       "      <td>5.812950</td>\n",
       "      <td>6.00055</td>\n",
       "      <td>6.04675</td>\n",
       "      <td>10.886200</td>\n",
       "      <td>5.77355</td>\n",
       "    </tr>\n",
       "    <tr>\n",
       "      <th>387</th>\n",
       "      <td>8.4247</td>\n",
       "      <td>7.36870</td>\n",
       "      <td>8.10590</td>\n",
       "      <td>8.7378</td>\n",
       "      <td>6.92010</td>\n",
       "      <td>8.5205</td>\n",
       "      <td>8.591250</td>\n",
       "      <td>9.000549</td>\n",
       "      <td>7.873550</td>\n",
       "      <td>8.2234</td>\n",
       "      <td>...</td>\n",
       "      <td>8.928950</td>\n",
       "      <td>8.673850</td>\n",
       "      <td>8.193251</td>\n",
       "      <td>7.220550</td>\n",
       "      <td>8.067375</td>\n",
       "      <td>8.137800</td>\n",
       "      <td>8.14390</td>\n",
       "      <td>8.09930</td>\n",
       "      <td>7.995750</td>\n",
       "      <td>8.23525</td>\n",
       "    </tr>\n",
       "  </tbody>\n",
       "</table>\n",
       "<p>5 rows × 1319138 columns</p>\n",
       "</div>"
      ],
      "text/plain": [
       "cid   CPC005_A375_6H_X1_B3_DUO52HI53LO:K06  \\\n",
       "rid                                          \n",
       "5720                               11.0495   \n",
       "466                                 8.1680   \n",
       "6009                               12.7962   \n",
       "2309                                5.4546   \n",
       "387                                 8.4247   \n",
       "\n",
       "cid   CPC005_A375_6H_X2_B3_DUO52HI53LO:K06  \\\n",
       "rid                                          \n",
       "5720                              10.61280   \n",
       "466                                7.78685   \n",
       "6009                              12.04710   \n",
       "2309                               6.32850   \n",
       "387                                7.36870   \n",
       "\n",
       "cid   CPC005_A375_6H_X3_B3_DUO52HI53LO:K06  \\\n",
       "rid                                          \n",
       "5720                              10.68330   \n",
       "466                                7.74605   \n",
       "6009                              12.34480   \n",
       "2309                               6.06805   \n",
       "387                                8.10590   \n",
       "\n",
       "cid   CPC005_A375_6H_X1_B3_DUO52HI53LO:C19  \\\n",
       "rid                                          \n",
       "5720                               10.6188   \n",
       "466                                 8.2274   \n",
       "6009                               12.7085   \n",
       "2309                                5.3931   \n",
       "387                                 8.7378   \n",
       "\n",
       "cid   CPC005_A375_6H_X2_B3_DUO52HI53LO:C19  \\\n",
       "rid                                          \n",
       "5720                              10.31685   \n",
       "466                                7.49620   \n",
       "6009                              12.17070   \n",
       "2309                               6.37220   \n",
       "387                                6.92010   \n",
       "\n",
       "cid   CPC005_A375_6H_X3_B3_DUO52HI53LO:C19  \\\n",
       "rid                                          \n",
       "5720                               10.2550   \n",
       "466                                 7.7936   \n",
       "6009                               12.3651   \n",
       "2309                                5.8180   \n",
       "387                                 8.5205   \n",
       "\n",
       "cid   CPC004_A375_6H_X1_B3_DUO52HI53LO:K13  \\\n",
       "rid                                          \n",
       "5720                             10.395651   \n",
       "466                               7.998450   \n",
       "6009                             12.307051   \n",
       "2309                              6.886450   \n",
       "387                               8.591250   \n",
       "\n",
       "cid   CPC004_A375_6H_X2_B3_DUO52HI53LO:K13  \\\n",
       "rid                                          \n",
       "5720                              6.228325   \n",
       "466                               8.473300   \n",
       "6009                             12.755750   \n",
       "2309                              6.994250   \n",
       "387                               9.000549   \n",
       "\n",
       "cid   CPC004_A375_6H_X3_B3_DUO52HI53LO:K13  \\\n",
       "rid                                          \n",
       "5720                              9.835300   \n",
       "466                               7.966750   \n",
       "6009                             12.561251   \n",
       "2309                              6.095550   \n",
       "387                               7.873550   \n",
       "\n",
       "cid   CPC005_A375_6H_X1_B3_DUO52HI53LO:K20  ...  PCLB003_PC3_24H_X3_B13:P15  \\\n",
       "rid                                         ...                               \n",
       "5720                               10.6542  ...                    8.685200   \n",
       "466                                 7.9445  ...                    7.500850   \n",
       "6009                               12.2638  ...                   11.410749   \n",
       "2309                                5.8488  ...                    8.117900   \n",
       "387                                 8.2234  ...                    8.928950   \n",
       "\n",
       "cid   PCLB003_PC3_24H_X3_B13:P16  PCLB003_PC3_24H_X3_B13:P17  \\\n",
       "rid                                                            \n",
       "5720                    9.560650                    9.452749   \n",
       "466                     7.568500                    6.476350   \n",
       "6009                   11.551300                   11.099900   \n",
       "2309                    6.443925                    6.941925   \n",
       "387                     8.673850                    8.193251   \n",
       "\n",
       "cid   PCLB003_PC3_24H_X3_B13:P18  PCLB003_PC3_24H_X3_B13:P19  \\\n",
       "rid                                                            \n",
       "5720                    9.934300                   10.888650   \n",
       "466                     6.351625                    5.328900   \n",
       "6009                   11.231300                   11.229500   \n",
       "2309                    6.494900                    6.790300   \n",
       "387                     7.220550                    8.067375   \n",
       "\n",
       "cid   PCLB003_PC3_24H_X3_B13:P20  PCLB003_PC3_24H_X3_B13:P21  \\\n",
       "rid                                                            \n",
       "5720                   10.153749                     9.95225   \n",
       "466                     7.470425                     5.70095   \n",
       "6009                   11.472900                    11.43895   \n",
       "2309                    5.812950                     6.00055   \n",
       "387                     8.137800                     8.14390   \n",
       "\n",
       "cid   PCLB003_PC3_24H_X3_B13:P22  PCLB003_PC3_24H_X3_B13:P23  \\\n",
       "rid                                                            \n",
       "5720                    10.47510                   10.298750   \n",
       "466                      7.57945                    6.363250   \n",
       "6009                    11.35985                   11.810699   \n",
       "2309                     6.04675                   10.886200   \n",
       "387                      8.09930                    7.995750   \n",
       "\n",
       "cid   PCLB003_PC3_24H_X3_B13:P24  \n",
       "rid                               \n",
       "5720                    10.18475  \n",
       "466                      6.32580  \n",
       "6009                    11.77145  \n",
       "2309                     5.77355  \n",
       "387                      8.23525  \n",
       "\n",
       "[5 rows x 1319138 columns]"
      ]
     },
     "execution_count": 14,
     "metadata": {},
     "output_type": "execute_result"
    }
   ],
   "source": [
    "my_data.data_df.head()"
   ]
  },
  {
   "cell_type": "code",
   "execution_count": 15,
   "metadata": {},
   "outputs": [
    {
     "data": {
      "text/plain": [
       "Index(['5720', '466', '6009', '2309', '387', '3553', '427', '5898', '23365',\n",
       "       '6657',\n",
       "       ...\n",
       "       '2931', '63876', '51275', '158747', '283232', '25960', '6376', '11033',\n",
       "       '54869', '60'],\n",
       "      dtype='object', name='rid', length=12328)"
      ]
     },
     "execution_count": 15,
     "metadata": {},
     "output_type": "execute_result"
    }
   ],
   "source": [
    "my_data.data_df.index"
   ]
  },
  {
   "cell_type": "code",
   "execution_count": 16,
   "metadata": {},
   "outputs": [
    {
     "data": {
      "text/html": [
       "<div>\n",
       "<style scoped>\n",
       "    .dataframe tbody tr th:only-of-type {\n",
       "        vertical-align: middle;\n",
       "    }\n",
       "\n",
       "    .dataframe tbody tr th {\n",
       "        vertical-align: top;\n",
       "    }\n",
       "\n",
       "    .dataframe thead th {\n",
       "        text-align: right;\n",
       "    }\n",
       "</style>\n",
       "<table border=\"1\" class=\"dataframe\">\n",
       "  <thead>\n",
       "    <tr style=\"text-align: right;\">\n",
       "      <th></th>\n",
       "      <th>pr_gene_id</th>\n",
       "      <th>pr_gene_symbol</th>\n",
       "      <th>pr_gene_title</th>\n",
       "      <th>pr_is_lm</th>\n",
       "      <th>pr_is_bing</th>\n",
       "    </tr>\n",
       "  </thead>\n",
       "  <tbody>\n",
       "    <tr>\n",
       "      <th>0</th>\n",
       "      <td>780</td>\n",
       "      <td>DDR1</td>\n",
       "      <td>discoidin domain receptor tyrosine kinase 1</td>\n",
       "      <td>1</td>\n",
       "      <td>1</td>\n",
       "    </tr>\n",
       "    <tr>\n",
       "      <th>1</th>\n",
       "      <td>7849</td>\n",
       "      <td>PAX8</td>\n",
       "      <td>paired box 8</td>\n",
       "      <td>1</td>\n",
       "      <td>1</td>\n",
       "    </tr>\n",
       "    <tr>\n",
       "      <th>2</th>\n",
       "      <td>2978</td>\n",
       "      <td>GUCA1A</td>\n",
       "      <td>guanylate cyclase activator 1A</td>\n",
       "      <td>0</td>\n",
       "      <td>0</td>\n",
       "    </tr>\n",
       "    <tr>\n",
       "      <th>3</th>\n",
       "      <td>2049</td>\n",
       "      <td>EPHB3</td>\n",
       "      <td>EPH receptor B3</td>\n",
       "      <td>0</td>\n",
       "      <td>1</td>\n",
       "    </tr>\n",
       "    <tr>\n",
       "      <th>4</th>\n",
       "      <td>2101</td>\n",
       "      <td>ESRRA</td>\n",
       "      <td>estrogen related receptor alpha</td>\n",
       "      <td>0</td>\n",
       "      <td>1</td>\n",
       "    </tr>\n",
       "  </tbody>\n",
       "</table>\n",
       "</div>"
      ],
      "text/plain": [
       "   pr_gene_id pr_gene_symbol                                pr_gene_title  \\\n",
       "0         780           DDR1  discoidin domain receptor tyrosine kinase 1   \n",
       "1        7849           PAX8                                 paired box 8   \n",
       "2        2978         GUCA1A               guanylate cyclase activator 1A   \n",
       "3        2049          EPHB3                              EPH receptor B3   \n",
       "4        2101          ESRRA              estrogen related receptor alpha   \n",
       "\n",
       "   pr_is_lm  pr_is_bing  \n",
       "0         1           1  \n",
       "1         1           1  \n",
       "2         0           0  \n",
       "3         0           1  \n",
       "4         0           1  "
      ]
     },
     "execution_count": 16,
     "metadata": {},
     "output_type": "execute_result"
    }
   ],
   "source": [
    "pdata = pd.read_csv(\"GSE92742_Broad_LINCS_gene_info.txt.gz\", compression='gzip', sep=\"\\t\")\n",
    "pdata.head()"
   ]
  },
  {
   "cell_type": "code",
   "execution_count": 17,
   "metadata": {},
   "outputs": [
    {
     "data": {
      "text/plain": [
       "'/nfs/turbo/umms-welchjd/hengshi/perturb_gan/data/LINCS'"
      ]
     },
     "execution_count": 17,
     "metadata": {},
     "output_type": "execute_result"
    }
   ],
   "source": [
    "pwd"
   ]
  },
  {
   "cell_type": "code",
   "execution_count": 18,
   "metadata": {},
   "outputs": [
    {
     "data": {
      "text/plain": [
       "(12328, 5)"
      ]
     },
     "execution_count": 18,
     "metadata": {},
     "output_type": "execute_result"
    }
   ],
   "source": [
    "pdata.shape"
   ]
  },
  {
   "cell_type": "code",
   "execution_count": 19,
   "metadata": {},
   "outputs": [],
   "source": [
    "gene_considered = list(pdata[pdata['pr_is_lm'] == 1]['pr_gene_id'])"
   ]
  },
  {
   "cell_type": "code",
   "execution_count": 20,
   "metadata": {},
   "outputs": [],
   "source": [
    "gene_has = list(my_data.data_df.index)"
   ]
  },
  {
   "cell_type": "code",
   "execution_count": 21,
   "metadata": {},
   "outputs": [],
   "source": [
    "list_gene = [i for i in range(len(gene_has)) if int(gene_has[i]) in gene_considered]"
   ]
  },
  {
   "cell_type": "code",
   "execution_count": 22,
   "metadata": {},
   "outputs": [],
   "source": [
    "gene_has = [int(i) for i in list(my_data.row_metadata_df.index)]"
   ]
  },
  {
   "cell_type": "code",
   "execution_count": 23,
   "metadata": {},
   "outputs": [],
   "source": [
    "list_gene = [i for i in range(len(gene_has)) if gene_has[i] in gene_considered]"
   ]
  },
  {
   "cell_type": "code",
   "execution_count": null,
   "metadata": {},
   "outputs": [],
   "source": []
  },
  {
   "cell_type": "code",
   "execution_count": 24,
   "metadata": {},
   "outputs": [
    {
     "data": {
      "text/plain": [
       "True"
      ]
     },
     "execution_count": 24,
     "metadata": {},
     "output_type": "execute_result"
    }
   ],
   "source": [
    "gene_has[23] in gene_considered"
   ]
  },
  {
   "cell_type": "code",
   "execution_count": 25,
   "metadata": {},
   "outputs": [
    {
     "data": {
      "text/plain": [
       "388650"
      ]
     },
     "execution_count": 25,
     "metadata": {},
     "output_type": "execute_result"
    }
   ],
   "source": [
    "import numpy as np\n",
    "np.max(list(set(gene_has) & set(gene_considered)))"
   ]
  },
  {
   "cell_type": "code",
   "execution_count": 26,
   "metadata": {},
   "outputs": [],
   "source": [
    "use_data = my_data.data_df.iloc[list_gene, :]"
   ]
  },
  {
   "cell_type": "code",
   "execution_count": 27,
   "metadata": {},
   "outputs": [
    {
     "data": {
      "text/plain": [
       "(978, 1319138)"
      ]
     },
     "execution_count": 27,
     "metadata": {},
     "output_type": "execute_result"
    }
   ],
   "source": [
    "use_data.shape"
   ]
  },
  {
   "cell_type": "code",
   "execution_count": 28,
   "metadata": {},
   "outputs": [
    {
     "data": {
      "text/html": [
       "<div>\n",
       "<style scoped>\n",
       "    .dataframe tbody tr th:only-of-type {\n",
       "        vertical-align: middle;\n",
       "    }\n",
       "\n",
       "    .dataframe tbody tr th {\n",
       "        vertical-align: top;\n",
       "    }\n",
       "\n",
       "    .dataframe thead th {\n",
       "        text-align: right;\n",
       "    }\n",
       "</style>\n",
       "<table border=\"1\" class=\"dataframe\">\n",
       "  <thead>\n",
       "    <tr style=\"text-align: right;\">\n",
       "      <th>rid</th>\n",
       "      <th>5720</th>\n",
       "      <th>466</th>\n",
       "      <th>6009</th>\n",
       "      <th>2309</th>\n",
       "      <th>387</th>\n",
       "      <th>3553</th>\n",
       "      <th>427</th>\n",
       "      <th>5898</th>\n",
       "      <th>23365</th>\n",
       "      <th>6657</th>\n",
       "      <th>...</th>\n",
       "      <th>9738</th>\n",
       "      <th>6793</th>\n",
       "      <th>7358</th>\n",
       "      <th>58472</th>\n",
       "      <th>50865</th>\n",
       "      <th>23200</th>\n",
       "      <th>51293</th>\n",
       "      <th>10962</th>\n",
       "      <th>10153</th>\n",
       "      <th>874</th>\n",
       "    </tr>\n",
       "    <tr>\n",
       "      <th>cid</th>\n",
       "      <th></th>\n",
       "      <th></th>\n",
       "      <th></th>\n",
       "      <th></th>\n",
       "      <th></th>\n",
       "      <th></th>\n",
       "      <th></th>\n",
       "      <th></th>\n",
       "      <th></th>\n",
       "      <th></th>\n",
       "      <th></th>\n",
       "      <th></th>\n",
       "      <th></th>\n",
       "      <th></th>\n",
       "      <th></th>\n",
       "      <th></th>\n",
       "      <th></th>\n",
       "      <th></th>\n",
       "      <th></th>\n",
       "      <th></th>\n",
       "      <th></th>\n",
       "    </tr>\n",
       "  </thead>\n",
       "  <tbody>\n",
       "    <tr>\n",
       "      <th>CPC005_A375_6H_X1_B3_DUO52HI53LO:K06</th>\n",
       "      <td>11.04950</td>\n",
       "      <td>8.16800</td>\n",
       "      <td>12.7962</td>\n",
       "      <td>5.45460</td>\n",
       "      <td>8.4247</td>\n",
       "      <td>4.70430</td>\n",
       "      <td>5.782900</td>\n",
       "      <td>9.5871</td>\n",
       "      <td>5.15530</td>\n",
       "      <td>5.419050</td>\n",
       "      <td>...</td>\n",
       "      <td>8.00910</td>\n",
       "      <td>6.82385</td>\n",
       "      <td>7.97665</td>\n",
       "      <td>4.4864</td>\n",
       "      <td>6.4959</td>\n",
       "      <td>7.96775</td>\n",
       "      <td>11.7371</td>\n",
       "      <td>11.418300</td>\n",
       "      <td>10.3165</td>\n",
       "      <td>6.18490</td>\n",
       "    </tr>\n",
       "    <tr>\n",
       "      <th>CPC005_A375_6H_X2_B3_DUO52HI53LO:K06</th>\n",
       "      <td>10.61280</td>\n",
       "      <td>7.78685</td>\n",
       "      <td>12.0471</td>\n",
       "      <td>6.32850</td>\n",
       "      <td>7.3687</td>\n",
       "      <td>5.16045</td>\n",
       "      <td>5.392900</td>\n",
       "      <td>9.6579</td>\n",
       "      <td>5.02350</td>\n",
       "      <td>6.441900</td>\n",
       "      <td>...</td>\n",
       "      <td>7.75235</td>\n",
       "      <td>6.76170</td>\n",
       "      <td>8.24910</td>\n",
       "      <td>4.6915</td>\n",
       "      <td>7.0380</td>\n",
       "      <td>8.60560</td>\n",
       "      <td>12.2353</td>\n",
       "      <td>10.646400</td>\n",
       "      <td>10.7801</td>\n",
       "      <td>8.00000</td>\n",
       "    </tr>\n",
       "    <tr>\n",
       "      <th>CPC005_A375_6H_X3_B3_DUO52HI53LO:K06</th>\n",
       "      <td>10.68330</td>\n",
       "      <td>7.74605</td>\n",
       "      <td>12.3448</td>\n",
       "      <td>6.06805</td>\n",
       "      <td>8.1059</td>\n",
       "      <td>4.45400</td>\n",
       "      <td>6.446599</td>\n",
       "      <td>9.2528</td>\n",
       "      <td>5.76805</td>\n",
       "      <td>5.518100</td>\n",
       "      <td>...</td>\n",
       "      <td>7.51240</td>\n",
       "      <td>7.17390</td>\n",
       "      <td>8.01155</td>\n",
       "      <td>4.6317</td>\n",
       "      <td>6.5335</td>\n",
       "      <td>7.63130</td>\n",
       "      <td>12.0127</td>\n",
       "      <td>10.968800</td>\n",
       "      <td>10.6133</td>\n",
       "      <td>7.28895</td>\n",
       "    </tr>\n",
       "    <tr>\n",
       "      <th>CPC005_A375_6H_X1_B3_DUO52HI53LO:C19</th>\n",
       "      <td>10.61880</td>\n",
       "      <td>8.22740</td>\n",
       "      <td>12.7085</td>\n",
       "      <td>5.39310</td>\n",
       "      <td>8.7378</td>\n",
       "      <td>5.15635</td>\n",
       "      <td>5.374100</td>\n",
       "      <td>9.5945</td>\n",
       "      <td>4.96005</td>\n",
       "      <td>5.653000</td>\n",
       "      <td>...</td>\n",
       "      <td>7.61910</td>\n",
       "      <td>7.20830</td>\n",
       "      <td>7.11090</td>\n",
       "      <td>4.4356</td>\n",
       "      <td>6.6410</td>\n",
       "      <td>7.24670</td>\n",
       "      <td>11.4812</td>\n",
       "      <td>10.624400</td>\n",
       "      <td>10.6133</td>\n",
       "      <td>5.79055</td>\n",
       "    </tr>\n",
       "    <tr>\n",
       "      <th>CPC005_A375_6H_X2_B3_DUO52HI53LO:C19</th>\n",
       "      <td>10.31685</td>\n",
       "      <td>7.49620</td>\n",
       "      <td>12.1707</td>\n",
       "      <td>6.37220</td>\n",
       "      <td>6.9201</td>\n",
       "      <td>5.45450</td>\n",
       "      <td>5.148900</td>\n",
       "      <td>9.8248</td>\n",
       "      <td>4.29110</td>\n",
       "      <td>7.632751</td>\n",
       "      <td>...</td>\n",
       "      <td>6.69935</td>\n",
       "      <td>7.28310</td>\n",
       "      <td>8.77090</td>\n",
       "      <td>4.8374</td>\n",
       "      <td>9.8619</td>\n",
       "      <td>8.96405</td>\n",
       "      <td>11.8427</td>\n",
       "      <td>10.085649</td>\n",
       "      <td>10.7135</td>\n",
       "      <td>7.25120</td>\n",
       "    </tr>\n",
       "  </tbody>\n",
       "</table>\n",
       "<p>5 rows × 978 columns</p>\n",
       "</div>"
      ],
      "text/plain": [
       "rid                                       5720      466     6009     2309  \\\n",
       "cid                                                                         \n",
       "CPC005_A375_6H_X1_B3_DUO52HI53LO:K06  11.04950  8.16800  12.7962  5.45460   \n",
       "CPC005_A375_6H_X2_B3_DUO52HI53LO:K06  10.61280  7.78685  12.0471  6.32850   \n",
       "CPC005_A375_6H_X3_B3_DUO52HI53LO:K06  10.68330  7.74605  12.3448  6.06805   \n",
       "CPC005_A375_6H_X1_B3_DUO52HI53LO:C19  10.61880  8.22740  12.7085  5.39310   \n",
       "CPC005_A375_6H_X2_B3_DUO52HI53LO:C19  10.31685  7.49620  12.1707  6.37220   \n",
       "\n",
       "rid                                      387     3553       427    5898  \\\n",
       "cid                                                                       \n",
       "CPC005_A375_6H_X1_B3_DUO52HI53LO:K06  8.4247  4.70430  5.782900  9.5871   \n",
       "CPC005_A375_6H_X2_B3_DUO52HI53LO:K06  7.3687  5.16045  5.392900  9.6579   \n",
       "CPC005_A375_6H_X3_B3_DUO52HI53LO:K06  8.1059  4.45400  6.446599  9.2528   \n",
       "CPC005_A375_6H_X1_B3_DUO52HI53LO:C19  8.7378  5.15635  5.374100  9.5945   \n",
       "CPC005_A375_6H_X2_B3_DUO52HI53LO:C19  6.9201  5.45450  5.148900  9.8248   \n",
       "\n",
       "rid                                     23365      6657  ...     9738  \\\n",
       "cid                                                      ...            \n",
       "CPC005_A375_6H_X1_B3_DUO52HI53LO:K06  5.15530  5.419050  ...  8.00910   \n",
       "CPC005_A375_6H_X2_B3_DUO52HI53LO:K06  5.02350  6.441900  ...  7.75235   \n",
       "CPC005_A375_6H_X3_B3_DUO52HI53LO:K06  5.76805  5.518100  ...  7.51240   \n",
       "CPC005_A375_6H_X1_B3_DUO52HI53LO:C19  4.96005  5.653000  ...  7.61910   \n",
       "CPC005_A375_6H_X2_B3_DUO52HI53LO:C19  4.29110  7.632751  ...  6.69935   \n",
       "\n",
       "rid                                      6793     7358   58472   50865  \\\n",
       "cid                                                                      \n",
       "CPC005_A375_6H_X1_B3_DUO52HI53LO:K06  6.82385  7.97665  4.4864  6.4959   \n",
       "CPC005_A375_6H_X2_B3_DUO52HI53LO:K06  6.76170  8.24910  4.6915  7.0380   \n",
       "CPC005_A375_6H_X3_B3_DUO52HI53LO:K06  7.17390  8.01155  4.6317  6.5335   \n",
       "CPC005_A375_6H_X1_B3_DUO52HI53LO:C19  7.20830  7.11090  4.4356  6.6410   \n",
       "CPC005_A375_6H_X2_B3_DUO52HI53LO:C19  7.28310  8.77090  4.8374  9.8619   \n",
       "\n",
       "rid                                     23200    51293      10962    10153  \\\n",
       "cid                                                                          \n",
       "CPC005_A375_6H_X1_B3_DUO52HI53LO:K06  7.96775  11.7371  11.418300  10.3165   \n",
       "CPC005_A375_6H_X2_B3_DUO52HI53LO:K06  8.60560  12.2353  10.646400  10.7801   \n",
       "CPC005_A375_6H_X3_B3_DUO52HI53LO:K06  7.63130  12.0127  10.968800  10.6133   \n",
       "CPC005_A375_6H_X1_B3_DUO52HI53LO:C19  7.24670  11.4812  10.624400  10.6133   \n",
       "CPC005_A375_6H_X2_B3_DUO52HI53LO:C19  8.96405  11.8427  10.085649  10.7135   \n",
       "\n",
       "rid                                       874  \n",
       "cid                                            \n",
       "CPC005_A375_6H_X1_B3_DUO52HI53LO:K06  6.18490  \n",
       "CPC005_A375_6H_X2_B3_DUO52HI53LO:K06  8.00000  \n",
       "CPC005_A375_6H_X3_B3_DUO52HI53LO:K06  7.28895  \n",
       "CPC005_A375_6H_X1_B3_DUO52HI53LO:C19  5.79055  \n",
       "CPC005_A375_6H_X2_B3_DUO52HI53LO:C19  7.25120  \n",
       "\n",
       "[5 rows x 978 columns]"
      ]
     },
     "execution_count": 28,
     "metadata": {},
     "output_type": "execute_result"
    }
   ],
   "source": [
    "data = use_data.T\n",
    "data.head()"
   ]
  },
  {
   "cell_type": "code",
   "execution_count": 22,
   "metadata": {},
   "outputs": [],
   "source": [
    "np.save('./GSE92742_Broad_LINCS_Level3_INF_mlr12k_n1319138x12328_processed.npy', data.values)"
   ]
  },
  {
   "cell_type": "code",
   "execution_count": 32,
   "metadata": {},
   "outputs": [],
   "source": [
    "pd.DataFrame(list(data.index)).to_csv('GSE92742_Broad_LINCS_Level3_INF_mlr12k_n1319138x12328_processed_cells.csv')"
   ]
  },
  {
   "cell_type": "code",
   "execution_count": 34,
   "metadata": {},
   "outputs": [],
   "source": [
    "pd.DataFrame(list(data.columns)).to_csv('GSE92742_Broad_LINCS_Level3_INF_mlr12k_n1319138x12328_processed_genes.csv')"
   ]
  },
  {
   "cell_type": "code",
   "execution_count": 24,
   "metadata": {},
   "outputs": [
    {
     "data": {
      "text/plain": [
       "(1319138, 978)"
      ]
     },
     "execution_count": 24,
     "metadata": {},
     "output_type": "execute_result"
    }
   ],
   "source": [
    "data.shape"
   ]
  },
  {
   "cell_type": "markdown",
   "metadata": {},
   "source": [
    "# For perturbation information "
   ]
  },
  {
   "cell_type": "code",
   "execution_count": 2,
   "metadata": {},
   "outputs": [],
   "source": [
    "import pandas as pd\n",
    "import numpy as np\n",
    "path_data = '/nfs/turbo/umms-welchjd/hengshi/perturb_gan/data/LINCS/GSE92742_Broad_LINCS_Level3_INF_mlr12k_n1319138x12328_processed.npy'\n",
    "input_ltpm_matrix = np.load(path_data)"
   ]
  },
  {
   "cell_type": "code",
   "execution_count": 23,
   "metadata": {},
   "outputs": [],
   "source": [
    "perData = pd.read_csv('GSE92742_Broad_LINCS_pert_info.txt', sep=\"\\t\")"
   ]
  },
  {
   "cell_type": "code",
   "execution_count": 25,
   "metadata": {},
   "outputs": [
    {
     "data": {
      "text/html": [
       "<div>\n",
       "<style scoped>\n",
       "    .dataframe tbody tr th:only-of-type {\n",
       "        vertical-align: middle;\n",
       "    }\n",
       "\n",
       "    .dataframe tbody tr th {\n",
       "        vertical-align: top;\n",
       "    }\n",
       "\n",
       "    .dataframe thead th {\n",
       "        text-align: right;\n",
       "    }\n",
       "</style>\n",
       "<table border=\"1\" class=\"dataframe\">\n",
       "  <thead>\n",
       "    <tr style=\"text-align: right;\">\n",
       "      <th></th>\n",
       "      <th>pert_id</th>\n",
       "      <th>pert_iname</th>\n",
       "      <th>pert_type</th>\n",
       "      <th>is_touchstone</th>\n",
       "      <th>inchi_key_prefix</th>\n",
       "      <th>inchi_key</th>\n",
       "      <th>canonical_smiles</th>\n",
       "      <th>pubchem_cid</th>\n",
       "    </tr>\n",
       "  </thead>\n",
       "  <tbody>\n",
       "    <tr>\n",
       "      <th>0</th>\n",
       "      <td>56582</td>\n",
       "      <td>AKT2</td>\n",
       "      <td>trt_oe</td>\n",
       "      <td>0</td>\n",
       "      <td>-666</td>\n",
       "      <td>-666</td>\n",
       "      <td>-666</td>\n",
       "      <td>-666</td>\n",
       "    </tr>\n",
       "    <tr>\n",
       "      <th>1</th>\n",
       "      <td>5981</td>\n",
       "      <td>HSF1</td>\n",
       "      <td>trt_oe</td>\n",
       "      <td>0</td>\n",
       "      <td>-666</td>\n",
       "      <td>-666</td>\n",
       "      <td>-666</td>\n",
       "      <td>-666</td>\n",
       "    </tr>\n",
       "    <tr>\n",
       "      <th>2</th>\n",
       "      <td>7150</td>\n",
       "      <td>NFE2L2</td>\n",
       "      <td>trt_oe</td>\n",
       "      <td>0</td>\n",
       "      <td>-666</td>\n",
       "      <td>-666</td>\n",
       "      <td>-666</td>\n",
       "      <td>-666</td>\n",
       "    </tr>\n",
       "    <tr>\n",
       "      <th>3</th>\n",
       "      <td>ABL1_G2A</td>\n",
       "      <td>ABL1</td>\n",
       "      <td>trt_oe.mut</td>\n",
       "      <td>0</td>\n",
       "      <td>-666</td>\n",
       "      <td>-666</td>\n",
       "      <td>-666</td>\n",
       "      <td>-666</td>\n",
       "    </tr>\n",
       "    <tr>\n",
       "      <th>4</th>\n",
       "      <td>ABL1_T315I</td>\n",
       "      <td>ABL1</td>\n",
       "      <td>trt_oe.mut</td>\n",
       "      <td>0</td>\n",
       "      <td>-666</td>\n",
       "      <td>-666</td>\n",
       "      <td>-666</td>\n",
       "      <td>-666</td>\n",
       "    </tr>\n",
       "  </tbody>\n",
       "</table>\n",
       "</div>"
      ],
      "text/plain": [
       "      pert_id pert_iname   pert_type  is_touchstone inchi_key_prefix  \\\n",
       "0       56582       AKT2      trt_oe              0             -666   \n",
       "1        5981       HSF1      trt_oe              0             -666   \n",
       "2        7150     NFE2L2      trt_oe              0             -666   \n",
       "3    ABL1_G2A       ABL1  trt_oe.mut              0             -666   \n",
       "4  ABL1_T315I       ABL1  trt_oe.mut              0             -666   \n",
       "\n",
       "  inchi_key canonical_smiles pubchem_cid  \n",
       "0      -666             -666        -666  \n",
       "1      -666             -666        -666  \n",
       "2      -666             -666        -666  \n",
       "3      -666             -666        -666  \n",
       "4      -666             -666        -666  "
      ]
     },
     "execution_count": 25,
     "metadata": {},
     "output_type": "execute_result"
    }
   ],
   "source": [
    "perData[perData['canonical_smiles'].is()]"
   ]
  },
  {
   "cell_type": "code",
   "execution_count": 27,
   "metadata": {},
   "outputs": [
    {
     "data": {
      "text/plain": [
       "array(['trt_oe', 'trt_oe.mut', 'trt_lig', 'trt_cp', 'trt_sh.cgs',\n",
       "       'ctl_untrt', 'trt_sh', 'ctl_vector', 'ctl_vehicle.cns',\n",
       "       'ctl_vector.cns', 'ctl_untrt.cns', 'trt_sh.css', 'ctl_vehicle'],\n",
       "      dtype=object)"
      ]
     },
     "execution_count": 27,
     "metadata": {},
     "output_type": "execute_result"
    }
   ],
   "source": [
    "perData['pert_type'].unique()"
   ]
  },
  {
   "cell_type": "code",
   "execution_count": 30,
   "metadata": {},
   "outputs": [
    {
     "data": {
      "text/plain": [
       "0    True\n",
       "1    True\n",
       "2    True\n",
       "Name: canonical_smiles, dtype: bool"
      ]
     },
     "execution_count": 30,
     "metadata": {},
     "output_type": "execute_result"
    }
   ],
   "source": [
    "perData['canonical_smiles'][:3] == \"-666\""
   ]
  },
  {
   "cell_type": "code",
   "execution_count": 31,
   "metadata": {},
   "outputs": [
    {
     "data": {
      "text/html": [
       "<div>\n",
       "<style scoped>\n",
       "    .dataframe tbody tr th:only-of-type {\n",
       "        vertical-align: middle;\n",
       "    }\n",
       "\n",
       "    .dataframe tbody tr th {\n",
       "        vertical-align: top;\n",
       "    }\n",
       "\n",
       "    .dataframe thead th {\n",
       "        text-align: right;\n",
       "    }\n",
       "</style>\n",
       "<table border=\"1\" class=\"dataframe\">\n",
       "  <thead>\n",
       "    <tr style=\"text-align: right;\">\n",
       "      <th></th>\n",
       "      <th>pert_id</th>\n",
       "      <th>pert_iname</th>\n",
       "      <th>pert_type</th>\n",
       "      <th>is_touchstone</th>\n",
       "      <th>inchi_key_prefix</th>\n",
       "      <th>inchi_key</th>\n",
       "      <th>canonical_smiles</th>\n",
       "      <th>pubchem_cid</th>\n",
       "    </tr>\n",
       "  </thead>\n",
       "  <tbody>\n",
       "    <tr>\n",
       "      <th>98</th>\n",
       "      <td>BRD-A00100033</td>\n",
       "      <td>nifurtimox</td>\n",
       "      <td>trt_cp</td>\n",
       "      <td>1</td>\n",
       "      <td>ARFHIAQFJWUCFH</td>\n",
       "      <td>ARFHIAQFJWUCFH-UHFFFAOYSA-N</td>\n",
       "      <td>CC1CS(=O)(=O)CCN1N=Cc1ccc(o1)[N+]([O-])=O</td>\n",
       "      <td>6842999</td>\n",
       "    </tr>\n",
       "    <tr>\n",
       "      <th>99</th>\n",
       "      <td>BRD-A00150179</td>\n",
       "      <td>5-hydroxytryptophan</td>\n",
       "      <td>trt_cp</td>\n",
       "      <td>0</td>\n",
       "      <td>QSHLMQDRPXXYEE</td>\n",
       "      <td>QSHLMQDRPXXYEE-UHFFFAOYSA-N</td>\n",
       "      <td>NC(Cc1c[nH]c2cccc(O)c12)C(O)=O</td>\n",
       "      <td>589768</td>\n",
       "    </tr>\n",
       "    <tr>\n",
       "      <th>100</th>\n",
       "      <td>BRD-A00267231</td>\n",
       "      <td>hemado</td>\n",
       "      <td>trt_cp</td>\n",
       "      <td>1</td>\n",
       "      <td>KOCIMZNSNPOGOP</td>\n",
       "      <td>KOCIMZNSNPOGOP-UHFFFAOYSA-N</td>\n",
       "      <td>CCCCC#Cc1nc(NC)c2ncn(C3OC(CO)C(O)C3O)c2n1</td>\n",
       "      <td>4043357</td>\n",
       "    </tr>\n",
       "    <tr>\n",
       "      <th>101</th>\n",
       "      <td>BRD-A00420644</td>\n",
       "      <td>SA-3676</td>\n",
       "      <td>trt_cp</td>\n",
       "      <td>0</td>\n",
       "      <td>ASCBUEVCEVGOFP</td>\n",
       "      <td>ASCBUEVCEVGOFP-UHFFFAOYSA-N</td>\n",
       "      <td>CCN1C2C(C(=NC2Nc3ccccc13)OC)c4ccccc4</td>\n",
       "      <td>2853908</td>\n",
       "    </tr>\n",
       "    <tr>\n",
       "      <th>102</th>\n",
       "      <td>BRD-A00474148</td>\n",
       "      <td>BRD-A00474148</td>\n",
       "      <td>trt_cp</td>\n",
       "      <td>0</td>\n",
       "      <td>RCGAUPRLRFZAMS</td>\n",
       "      <td>RCGAUPRLRFZAMS-UHFFFAOYSA-N</td>\n",
       "      <td>Oc1ccc(cc1)N1CCN(CC1)[S+]([O-])(=O)c1ccc2NC(=O...</td>\n",
       "      <td>44825297</td>\n",
       "    </tr>\n",
       "  </tbody>\n",
       "</table>\n",
       "</div>"
      ],
      "text/plain": [
       "           pert_id           pert_iname pert_type  is_touchstone  \\\n",
       "98   BRD-A00100033           nifurtimox    trt_cp              1   \n",
       "99   BRD-A00150179  5-hydroxytryptophan    trt_cp              0   \n",
       "100  BRD-A00267231               hemado    trt_cp              1   \n",
       "101  BRD-A00420644              SA-3676    trt_cp              0   \n",
       "102  BRD-A00474148        BRD-A00474148    trt_cp              0   \n",
       "\n",
       "    inchi_key_prefix                    inchi_key  \\\n",
       "98    ARFHIAQFJWUCFH  ARFHIAQFJWUCFH-UHFFFAOYSA-N   \n",
       "99    QSHLMQDRPXXYEE  QSHLMQDRPXXYEE-UHFFFAOYSA-N   \n",
       "100   KOCIMZNSNPOGOP  KOCIMZNSNPOGOP-UHFFFAOYSA-N   \n",
       "101   ASCBUEVCEVGOFP  ASCBUEVCEVGOFP-UHFFFAOYSA-N   \n",
       "102   RCGAUPRLRFZAMS  RCGAUPRLRFZAMS-UHFFFAOYSA-N   \n",
       "\n",
       "                                      canonical_smiles pubchem_cid  \n",
       "98           CC1CS(=O)(=O)CCN1N=Cc1ccc(o1)[N+]([O-])=O     6842999  \n",
       "99                      NC(Cc1c[nH]c2cccc(O)c12)C(O)=O      589768  \n",
       "100          CCCCC#Cc1nc(NC)c2ncn(C3OC(CO)C(O)C3O)c2n1     4043357  \n",
       "101               CCN1C2C(C(=NC2Nc3ccccc13)OC)c4ccccc4     2853908  \n",
       "102  Oc1ccc(cc1)N1CCN(CC1)[S+]([O-])(=O)c1ccc2NC(=O...    44825297  "
      ]
     },
     "execution_count": 31,
     "metadata": {},
     "output_type": "execute_result"
    }
   ],
   "source": [
    "perData[perData['canonical_smiles'] != \"-666\"].head()"
   ]
  },
  {
   "cell_type": "code",
   "execution_count": 32,
   "metadata": {},
   "outputs": [
    {
     "data": {
      "text/plain": [
       "(51383, 8)"
      ]
     },
     "execution_count": 32,
     "metadata": {},
     "output_type": "execute_result"
    }
   ],
   "source": [
    "perData.shape"
   ]
  },
  {
   "cell_type": "code",
   "execution_count": 35,
   "metadata": {},
   "outputs": [],
   "source": [
    "cell_id = list(data.index)"
   ]
  },
  {
   "cell_type": "code",
   "execution_count": 35,
   "metadata": {},
   "outputs": [
    {
     "data": {
      "text/plain": [
       "0"
      ]
     },
     "execution_count": 35,
     "metadata": {},
     "output_type": "execute_result"
    }
   ],
   "source": [
    "len(list(set(cell_id) & set(perData['pert_id'])))"
   ]
  },
  {
   "cell_type": "code",
   "execution_count": 36,
   "metadata": {},
   "outputs": [
    {
     "data": {
      "text/plain": [
       "0                     56582\n",
       "1                      5981\n",
       "2                      7150\n",
       "3                  ABL1_G2A\n",
       "4                ABL1_T315I\n",
       "                ...        \n",
       "51378    ccsbBroad304_99991\n",
       "51379    ccsbBroad304_99994\n",
       "51380    ccsbBroad304_99997\n",
       "51381                 dsRED\n",
       "51382               renilla\n",
       "Name: pert_id, Length: 51383, dtype: object"
      ]
     },
     "execution_count": 36,
     "metadata": {},
     "output_type": "execute_result"
    }
   ],
   "source": [
    "perData['pert_id']"
   ]
  },
  {
   "cell_type": "code",
   "execution_count": 37,
   "metadata": {},
   "outputs": [],
   "source": [
    "perMertric = pd.read_csv('GSE92742_Broad_LINCS_pert_metrics.txt.gz', compression='gzip', sep=\"\\t\")"
   ]
  },
  {
   "cell_type": "code",
   "execution_count": 40,
   "metadata": {},
   "outputs": [
    {
     "data": {
      "text/html": [
       "<div>\n",
       "<style scoped>\n",
       "    .dataframe tbody tr th:only-of-type {\n",
       "        vertical-align: middle;\n",
       "    }\n",
       "\n",
       "    .dataframe tbody tr th {\n",
       "        vertical-align: top;\n",
       "    }\n",
       "\n",
       "    .dataframe thead th {\n",
       "        text-align: right;\n",
       "    }\n",
       "</style>\n",
       "<table border=\"1\" class=\"dataframe\">\n",
       "  <thead>\n",
       "    <tr style=\"text-align: right;\">\n",
       "      <th></th>\n",
       "      <th>pert_id</th>\n",
       "      <th>pert_iname</th>\n",
       "      <th>pert_type</th>\n",
       "      <th>tas_q75</th>\n",
       "      <th>icc</th>\n",
       "    </tr>\n",
       "  </thead>\n",
       "  <tbody>\n",
       "    <tr>\n",
       "      <th>0</th>\n",
       "      <td>56582</td>\n",
       "      <td>AKT2</td>\n",
       "      <td>trt_oe</td>\n",
       "      <td>0.278030</td>\n",
       "      <td>-666.000000</td>\n",
       "    </tr>\n",
       "    <tr>\n",
       "      <th>1</th>\n",
       "      <td>5981</td>\n",
       "      <td>HSF1</td>\n",
       "      <td>trt_oe</td>\n",
       "      <td>0.545909</td>\n",
       "      <td>-666.000000</td>\n",
       "    </tr>\n",
       "    <tr>\n",
       "      <th>2</th>\n",
       "      <td>7150</td>\n",
       "      <td>NFE2L2</td>\n",
       "      <td>trt_oe</td>\n",
       "      <td>0.548338</td>\n",
       "      <td>-666.000000</td>\n",
       "    </tr>\n",
       "    <tr>\n",
       "      <th>3</th>\n",
       "      <td>ABL1_G2A</td>\n",
       "      <td>ABL1</td>\n",
       "      <td>trt_oe.mut</td>\n",
       "      <td>0.475214</td>\n",
       "      <td>-666.000000</td>\n",
       "    </tr>\n",
       "    <tr>\n",
       "      <th>4</th>\n",
       "      <td>ABL1_T315I</td>\n",
       "      <td>ABL1</td>\n",
       "      <td>trt_oe.mut</td>\n",
       "      <td>0.560118</td>\n",
       "      <td>-666.000000</td>\n",
       "    </tr>\n",
       "    <tr>\n",
       "      <th>...</th>\n",
       "      <td>...</td>\n",
       "      <td>...</td>\n",
       "      <td>...</td>\n",
       "      <td>...</td>\n",
       "      <td>...</td>\n",
       "    </tr>\n",
       "    <tr>\n",
       "      <th>51378</th>\n",
       "      <td>ccsbBroad304_99991</td>\n",
       "      <td>LUCIFERASE</td>\n",
       "      <td>ctl_vector</td>\n",
       "      <td>0.394557</td>\n",
       "      <td>-666.000000</td>\n",
       "    </tr>\n",
       "    <tr>\n",
       "      <th>51379</th>\n",
       "      <td>ccsbBroad304_99994</td>\n",
       "      <td>lacZ</td>\n",
       "      <td>ctl_vector</td>\n",
       "      <td>0.478580</td>\n",
       "      <td>-666.000000</td>\n",
       "    </tr>\n",
       "    <tr>\n",
       "      <th>51380</th>\n",
       "      <td>ccsbBroad304_99997</td>\n",
       "      <td>eGFP</td>\n",
       "      <td>ctl_vector</td>\n",
       "      <td>0.543647</td>\n",
       "      <td>0.615725</td>\n",
       "    </tr>\n",
       "    <tr>\n",
       "      <th>51381</th>\n",
       "      <td>dsRED</td>\n",
       "      <td>DSRED</td>\n",
       "      <td>trt_oe</td>\n",
       "      <td>0.545534</td>\n",
       "      <td>-666.000000</td>\n",
       "    </tr>\n",
       "    <tr>\n",
       "      <th>51382</th>\n",
       "      <td>renilla</td>\n",
       "      <td>RENILLA</td>\n",
       "      <td>trt_oe</td>\n",
       "      <td>0.472138</td>\n",
       "      <td>-666.000000</td>\n",
       "    </tr>\n",
       "  </tbody>\n",
       "</table>\n",
       "<p>51383 rows × 5 columns</p>\n",
       "</div>"
      ],
      "text/plain": [
       "                  pert_id  pert_iname   pert_type   tas_q75         icc\n",
       "0                   56582        AKT2      trt_oe  0.278030 -666.000000\n",
       "1                    5981        HSF1      trt_oe  0.545909 -666.000000\n",
       "2                    7150      NFE2L2      trt_oe  0.548338 -666.000000\n",
       "3                ABL1_G2A        ABL1  trt_oe.mut  0.475214 -666.000000\n",
       "4              ABL1_T315I        ABL1  trt_oe.mut  0.560118 -666.000000\n",
       "...                   ...         ...         ...       ...         ...\n",
       "51378  ccsbBroad304_99991  LUCIFERASE  ctl_vector  0.394557 -666.000000\n",
       "51379  ccsbBroad304_99994        lacZ  ctl_vector  0.478580 -666.000000\n",
       "51380  ccsbBroad304_99997        eGFP  ctl_vector  0.543647    0.615725\n",
       "51381               dsRED       DSRED      trt_oe  0.545534 -666.000000\n",
       "51382             renilla     RENILLA      trt_oe  0.472138 -666.000000\n",
       "\n",
       "[51383 rows x 5 columns]"
      ]
     },
     "execution_count": 40,
     "metadata": {},
     "output_type": "execute_result"
    }
   ],
   "source": [
    "perMertric"
   ]
  },
  {
   "cell_type": "code",
   "execution_count": 4,
   "metadata": {},
   "outputs": [],
   "source": [
    "cellInfo = pd.read_csv('GSE92742_Broad_LINCS_cell_info.txt.gz', compression='gzip', sep=\"\\t\")"
   ]
  },
  {
   "cell_type": "code",
   "execution_count": 5,
   "metadata": {},
   "outputs": [
    {
     "data": {
      "text/plain": [
       "(98, 14)"
      ]
     },
     "execution_count": 5,
     "metadata": {},
     "output_type": "execute_result"
    }
   ],
   "source": [
    "cellInfo.shape"
   ]
  },
  {
   "cell_type": "code",
   "execution_count": 6,
   "metadata": {},
   "outputs": [
    {
     "data": {
      "text/html": [
       "<div>\n",
       "<style scoped>\n",
       "    .dataframe tbody tr th:only-of-type {\n",
       "        vertical-align: middle;\n",
       "    }\n",
       "\n",
       "    .dataframe tbody tr th {\n",
       "        vertical-align: top;\n",
       "    }\n",
       "\n",
       "    .dataframe thead th {\n",
       "        text-align: right;\n",
       "    }\n",
       "</style>\n",
       "<table border=\"1\" class=\"dataframe\">\n",
       "  <thead>\n",
       "    <tr style=\"text-align: right;\">\n",
       "      <th></th>\n",
       "      <th>cell_id</th>\n",
       "      <th>cell_type</th>\n",
       "      <th>base_cell_id</th>\n",
       "      <th>precursor_cell_id</th>\n",
       "      <th>modification</th>\n",
       "      <th>sample_type</th>\n",
       "      <th>primary_site</th>\n",
       "      <th>subtype</th>\n",
       "      <th>original_growth_pattern</th>\n",
       "      <th>provider_catalog_id</th>\n",
       "      <th>original_source_vendor</th>\n",
       "      <th>donor_age</th>\n",
       "      <th>donor_sex</th>\n",
       "      <th>donor_ethnicity</th>\n",
       "    </tr>\n",
       "  </thead>\n",
       "  <tbody>\n",
       "    <tr>\n",
       "      <th>0</th>\n",
       "      <td>A375</td>\n",
       "      <td>cell line</td>\n",
       "      <td>A375</td>\n",
       "      <td>-666</td>\n",
       "      <td>-666</td>\n",
       "      <td>tumor</td>\n",
       "      <td>skin</td>\n",
       "      <td>malignant melanoma</td>\n",
       "      <td>adherent</td>\n",
       "      <td>CRL-1619</td>\n",
       "      <td>ATCC</td>\n",
       "      <td>54</td>\n",
       "      <td>F</td>\n",
       "      <td>-666</td>\n",
       "    </tr>\n",
       "    <tr>\n",
       "      <th>1</th>\n",
       "      <td>A375.311</td>\n",
       "      <td>cell line</td>\n",
       "      <td>A375</td>\n",
       "      <td>A375</td>\n",
       "      <td>genetically modified to stably express Cas9 pr...</td>\n",
       "      <td>tumor</td>\n",
       "      <td>skin</td>\n",
       "      <td>malignant melanoma</td>\n",
       "      <td>adherent</td>\n",
       "      <td>CRL-1619</td>\n",
       "      <td>ATCC</td>\n",
       "      <td>54</td>\n",
       "      <td>F</td>\n",
       "      <td>-666</td>\n",
       "    </tr>\n",
       "    <tr>\n",
       "      <th>2</th>\n",
       "      <td>A549</td>\n",
       "      <td>cell line</td>\n",
       "      <td>A549</td>\n",
       "      <td>-666</td>\n",
       "      <td>-666</td>\n",
       "      <td>tumor</td>\n",
       "      <td>lung</td>\n",
       "      <td>non small cell lung cancer| carcinoma</td>\n",
       "      <td>adherent</td>\n",
       "      <td>CCL-185</td>\n",
       "      <td>ATCC</td>\n",
       "      <td>58</td>\n",
       "      <td>M</td>\n",
       "      <td>Caucasian</td>\n",
       "    </tr>\n",
       "    <tr>\n",
       "      <th>3</th>\n",
       "      <td>A549.311</td>\n",
       "      <td>cell line</td>\n",
       "      <td>A549</td>\n",
       "      <td>A549</td>\n",
       "      <td>genetically  modified to stably express Cas9 p...</td>\n",
       "      <td>tumor</td>\n",
       "      <td>lung</td>\n",
       "      <td>non small cell lung cancer| carcinoma</td>\n",
       "      <td>adherent</td>\n",
       "      <td>CCL-185</td>\n",
       "      <td>ATCC</td>\n",
       "      <td>58</td>\n",
       "      <td>M</td>\n",
       "      <td>Caucasian</td>\n",
       "    </tr>\n",
       "    <tr>\n",
       "      <th>4</th>\n",
       "      <td>A673</td>\n",
       "      <td>cell line</td>\n",
       "      <td>A673</td>\n",
       "      <td>-666</td>\n",
       "      <td>-666</td>\n",
       "      <td>tumor</td>\n",
       "      <td>bone</td>\n",
       "      <td>ewing's sarcoma</td>\n",
       "      <td>adherent</td>\n",
       "      <td>CRL-1598</td>\n",
       "      <td>ATCC</td>\n",
       "      <td>-666</td>\n",
       "      <td>F</td>\n",
       "      <td>-666</td>\n",
       "    </tr>\n",
       "    <tr>\n",
       "      <th>...</th>\n",
       "      <td>...</td>\n",
       "      <td>...</td>\n",
       "      <td>...</td>\n",
       "      <td>...</td>\n",
       "      <td>...</td>\n",
       "      <td>...</td>\n",
       "      <td>...</td>\n",
       "      <td>...</td>\n",
       "      <td>...</td>\n",
       "      <td>...</td>\n",
       "      <td>...</td>\n",
       "      <td>...</td>\n",
       "      <td>...</td>\n",
       "      <td>...</td>\n",
       "    </tr>\n",
       "    <tr>\n",
       "      <th>93</th>\n",
       "      <td>CD34</td>\n",
       "      <td>primary</td>\n",
       "      <td>CD34</td>\n",
       "      <td>-666</td>\n",
       "      <td>-666</td>\n",
       "      <td>normal</td>\n",
       "      <td>bone</td>\n",
       "      <td>bone marrow</td>\n",
       "      <td>suspension</td>\n",
       "      <td>-666</td>\n",
       "      <td>-666</td>\n",
       "      <td>-666</td>\n",
       "      <td>-666</td>\n",
       "      <td>-666</td>\n",
       "    </tr>\n",
       "    <tr>\n",
       "      <th>94</th>\n",
       "      <td>PHH</td>\n",
       "      <td>primary</td>\n",
       "      <td>PHH</td>\n",
       "      <td>-666</td>\n",
       "      <td>-666</td>\n",
       "      <td>primary</td>\n",
       "      <td>liver</td>\n",
       "      <td>normal primary liver</td>\n",
       "      <td>-666</td>\n",
       "      <td>-666</td>\n",
       "      <td>CellzDirect</td>\n",
       "      <td>-666</td>\n",
       "      <td>-666</td>\n",
       "      <td>-666</td>\n",
       "    </tr>\n",
       "    <tr>\n",
       "      <th>95</th>\n",
       "      <td>SKB</td>\n",
       "      <td>primary</td>\n",
       "      <td>SKB</td>\n",
       "      <td>-666</td>\n",
       "      <td>-666</td>\n",
       "      <td>normal</td>\n",
       "      <td>muscle</td>\n",
       "      <td>myoblast</td>\n",
       "      <td>-666</td>\n",
       "      <td>CC-2580</td>\n",
       "      <td>Lonza</td>\n",
       "      <td>-666</td>\n",
       "      <td>-666</td>\n",
       "      <td>-666</td>\n",
       "    </tr>\n",
       "    <tr>\n",
       "      <th>96</th>\n",
       "      <td>SKL</td>\n",
       "      <td>primary</td>\n",
       "      <td>SKL</td>\n",
       "      <td>-666</td>\n",
       "      <td>-666</td>\n",
       "      <td>primary</td>\n",
       "      <td>muscle</td>\n",
       "      <td>normal primary skeletal muscle cells</td>\n",
       "      <td>adherent</td>\n",
       "      <td>CC-2561</td>\n",
       "      <td>LONZA</td>\n",
       "      <td>-666</td>\n",
       "      <td>-666</td>\n",
       "      <td>-666</td>\n",
       "    </tr>\n",
       "    <tr>\n",
       "      <th>97</th>\n",
       "      <td>SKL.C</td>\n",
       "      <td>primary</td>\n",
       "      <td>SKL</td>\n",
       "      <td>-666</td>\n",
       "      <td>-666</td>\n",
       "      <td>primary</td>\n",
       "      <td>muscle</td>\n",
       "      <td>normal primary skeletal muscle cells</td>\n",
       "      <td>adherent</td>\n",
       "      <td>CC-2561</td>\n",
       "      <td>LONZA</td>\n",
       "      <td>-666</td>\n",
       "      <td>-666</td>\n",
       "      <td>-666</td>\n",
       "    </tr>\n",
       "  </tbody>\n",
       "</table>\n",
       "<p>98 rows × 14 columns</p>\n",
       "</div>"
      ],
      "text/plain": [
       "     cell_id  cell_type base_cell_id precursor_cell_id  \\\n",
       "0       A375  cell line         A375              -666   \n",
       "1   A375.311  cell line         A375              A375   \n",
       "2       A549  cell line         A549              -666   \n",
       "3   A549.311  cell line         A549              A549   \n",
       "4       A673  cell line         A673              -666   \n",
       "..       ...        ...          ...               ...   \n",
       "93      CD34    primary         CD34              -666   \n",
       "94       PHH    primary          PHH              -666   \n",
       "95       SKB    primary          SKB              -666   \n",
       "96       SKL    primary          SKL              -666   \n",
       "97     SKL.C    primary          SKL              -666   \n",
       "\n",
       "                                         modification sample_type  \\\n",
       "0                                                -666       tumor   \n",
       "1   genetically modified to stably express Cas9 pr...       tumor   \n",
       "2                                                -666       tumor   \n",
       "3   genetically  modified to stably express Cas9 p...       tumor   \n",
       "4                                                -666       tumor   \n",
       "..                                                ...         ...   \n",
       "93                                               -666      normal   \n",
       "94                                               -666     primary   \n",
       "95                                               -666      normal   \n",
       "96                                               -666     primary   \n",
       "97                                               -666     primary   \n",
       "\n",
       "   primary_site                                subtype  \\\n",
       "0          skin                     malignant melanoma   \n",
       "1          skin                     malignant melanoma   \n",
       "2          lung  non small cell lung cancer| carcinoma   \n",
       "3          lung  non small cell lung cancer| carcinoma   \n",
       "4          bone                        ewing's sarcoma   \n",
       "..          ...                                    ...   \n",
       "93         bone                            bone marrow   \n",
       "94        liver                   normal primary liver   \n",
       "95       muscle                               myoblast   \n",
       "96       muscle   normal primary skeletal muscle cells   \n",
       "97       muscle   normal primary skeletal muscle cells   \n",
       "\n",
       "   original_growth_pattern provider_catalog_id original_source_vendor  \\\n",
       "0                 adherent            CRL-1619                   ATCC   \n",
       "1                 adherent            CRL-1619                   ATCC   \n",
       "2                 adherent             CCL-185                   ATCC   \n",
       "3                 adherent             CCL-185                   ATCC   \n",
       "4                 adherent            CRL-1598                   ATCC   \n",
       "..                     ...                 ...                    ...   \n",
       "93              suspension                -666                   -666   \n",
       "94                    -666                -666            CellzDirect   \n",
       "95                    -666             CC-2580                  Lonza   \n",
       "96                adherent             CC-2561                  LONZA   \n",
       "97                adherent             CC-2561                  LONZA   \n",
       "\n",
       "    donor_age donor_sex donor_ethnicity  \n",
       "0          54         F            -666  \n",
       "1          54         F            -666  \n",
       "2          58         M       Caucasian  \n",
       "3          58         M       Caucasian  \n",
       "4        -666         F            -666  \n",
       "..        ...       ...             ...  \n",
       "93       -666      -666            -666  \n",
       "94       -666      -666            -666  \n",
       "95       -666      -666            -666  \n",
       "96       -666      -666            -666  \n",
       "97       -666      -666            -666  \n",
       "\n",
       "[98 rows x 14 columns]"
      ]
     },
     "execution_count": 6,
     "metadata": {},
     "output_type": "execute_result"
    }
   ],
   "source": [
    "cellInfo"
   ]
  },
  {
   "cell_type": "code",
   "execution_count": 51,
   "metadata": {},
   "outputs": [
    {
     "data": {
      "text/plain": [
       "'GSE92742_Broad_LINCS_Level3_INF_mlr12k_n1319138x12328.gctx'"
      ]
     },
     "execution_count": 51,
     "metadata": {},
     "output_type": "execute_result"
    }
   ],
   "source": [
    "my_data.src"
   ]
  },
  {
   "cell_type": "code",
   "execution_count": 7,
   "metadata": {},
   "outputs": [
    {
     "name": "stderr",
     "output_type": "stream",
     "text": [
      "/sw/arcts/centos7/python3.8-anaconda/2020.07/lib/python3.8/site-packages/IPython/core/interactiveshell.py:3071: DtypeWarning: Columns (7) have mixed types.Specify dtype option on import or set low_memory=False.\n",
      "  has_raised = await self.run_ast_nodes(code_ast.body, cell_name,\n"
     ]
    },
    {
     "data": {
      "text/html": [
       "<div>\n",
       "<style scoped>\n",
       "    .dataframe tbody tr th:only-of-type {\n",
       "        vertical-align: middle;\n",
       "    }\n",
       "\n",
       "    .dataframe tbody tr th {\n",
       "        vertical-align: top;\n",
       "    }\n",
       "\n",
       "    .dataframe thead th {\n",
       "        text-align: right;\n",
       "    }\n",
       "</style>\n",
       "<table border=\"1\" class=\"dataframe\">\n",
       "  <thead>\n",
       "    <tr style=\"text-align: right;\">\n",
       "      <th></th>\n",
       "      <th>inst_id</th>\n",
       "      <th>rna_plate</th>\n",
       "      <th>rna_well</th>\n",
       "      <th>pert_id</th>\n",
       "      <th>pert_iname</th>\n",
       "      <th>pert_type</th>\n",
       "      <th>pert_dose</th>\n",
       "      <th>pert_dose_unit</th>\n",
       "      <th>pert_time</th>\n",
       "      <th>pert_time_unit</th>\n",
       "      <th>cell_id</th>\n",
       "    </tr>\n",
       "  </thead>\n",
       "  <tbody>\n",
       "    <tr>\n",
       "      <th>0</th>\n",
       "      <td>ASG001_MCF7_24H_X1_B7_DUO52HI53LO:F13</td>\n",
       "      <td>ASG001_MCF7_24H_X1</td>\n",
       "      <td>F13</td>\n",
       "      <td>DMSO</td>\n",
       "      <td>DMSO</td>\n",
       "      <td>ctl_vehicle</td>\n",
       "      <td>0.1</td>\n",
       "      <td>%</td>\n",
       "      <td>24</td>\n",
       "      <td>h</td>\n",
       "      <td>MCF7</td>\n",
       "    </tr>\n",
       "    <tr>\n",
       "      <th>1</th>\n",
       "      <td>ASG001_MCF7_24H_X1_B7_DUO52HI53LO:G13</td>\n",
       "      <td>ASG001_MCF7_24H_X1</td>\n",
       "      <td>G13</td>\n",
       "      <td>DMSO</td>\n",
       "      <td>DMSO</td>\n",
       "      <td>ctl_vehicle</td>\n",
       "      <td>0.1</td>\n",
       "      <td>%</td>\n",
       "      <td>24</td>\n",
       "      <td>h</td>\n",
       "      <td>MCF7</td>\n",
       "    </tr>\n",
       "    <tr>\n",
       "      <th>2</th>\n",
       "      <td>ASG001_MCF7_24H_X1_B7_DUO52HI53LO:I13</td>\n",
       "      <td>ASG001_MCF7_24H_X1</td>\n",
       "      <td>I13</td>\n",
       "      <td>DMSO</td>\n",
       "      <td>DMSO</td>\n",
       "      <td>ctl_vehicle</td>\n",
       "      <td>0.1</td>\n",
       "      <td>%</td>\n",
       "      <td>24</td>\n",
       "      <td>h</td>\n",
       "      <td>MCF7</td>\n",
       "    </tr>\n",
       "    <tr>\n",
       "      <th>3</th>\n",
       "      <td>ASG001_MCF7_24H_X1_B7_DUO52HI53LO:K13</td>\n",
       "      <td>ASG001_MCF7_24H_X1</td>\n",
       "      <td>K13</td>\n",
       "      <td>DMSO</td>\n",
       "      <td>DMSO</td>\n",
       "      <td>ctl_vehicle</td>\n",
       "      <td>0.1</td>\n",
       "      <td>%</td>\n",
       "      <td>24</td>\n",
       "      <td>h</td>\n",
       "      <td>MCF7</td>\n",
       "    </tr>\n",
       "    <tr>\n",
       "      <th>4</th>\n",
       "      <td>ASG001_MCF7_24H_X1_B7_DUO52HI53LO:N13</td>\n",
       "      <td>ASG001_MCF7_24H_X1</td>\n",
       "      <td>N13</td>\n",
       "      <td>DMSO</td>\n",
       "      <td>DMSO</td>\n",
       "      <td>ctl_vehicle</td>\n",
       "      <td>0.1</td>\n",
       "      <td>%</td>\n",
       "      <td>24</td>\n",
       "      <td>h</td>\n",
       "      <td>MCF7</td>\n",
       "    </tr>\n",
       "  </tbody>\n",
       "</table>\n",
       "</div>"
      ],
      "text/plain": [
       "                                 inst_id           rna_plate rna_well pert_id  \\\n",
       "0  ASG001_MCF7_24H_X1_B7_DUO52HI53LO:F13  ASG001_MCF7_24H_X1      F13    DMSO   \n",
       "1  ASG001_MCF7_24H_X1_B7_DUO52HI53LO:G13  ASG001_MCF7_24H_X1      G13    DMSO   \n",
       "2  ASG001_MCF7_24H_X1_B7_DUO52HI53LO:I13  ASG001_MCF7_24H_X1      I13    DMSO   \n",
       "3  ASG001_MCF7_24H_X1_B7_DUO52HI53LO:K13  ASG001_MCF7_24H_X1      K13    DMSO   \n",
       "4  ASG001_MCF7_24H_X1_B7_DUO52HI53LO:N13  ASG001_MCF7_24H_X1      N13    DMSO   \n",
       "\n",
       "  pert_iname    pert_type  pert_dose pert_dose_unit  pert_time pert_time_unit  \\\n",
       "0       DMSO  ctl_vehicle        0.1              %         24              h   \n",
       "1       DMSO  ctl_vehicle        0.1              %         24              h   \n",
       "2       DMSO  ctl_vehicle        0.1              %         24              h   \n",
       "3       DMSO  ctl_vehicle        0.1              %         24              h   \n",
       "4       DMSO  ctl_vehicle        0.1              %         24              h   \n",
       "\n",
       "  cell_id  \n",
       "0    MCF7  \n",
       "1    MCF7  \n",
       "2    MCF7  \n",
       "3    MCF7  \n",
       "4    MCF7  "
      ]
     },
     "execution_count": 7,
     "metadata": {},
     "output_type": "execute_result"
    }
   ],
   "source": [
    "instInfo = pd.read_csv('GSE92742_Broad_LINCS_inst_info.txt.gz', compression='gzip', sep=\"\\t\")\n",
    "instInfo.head()"
   ]
  },
  {
   "cell_type": "code",
   "execution_count": 36,
   "metadata": {},
   "outputs": [
    {
     "data": {
      "text/plain": [
       "1319138"
      ]
     },
     "execution_count": 36,
     "metadata": {},
     "output_type": "execute_result"
    }
   ],
   "source": [
    "len(list(set(cell_id) & set(instInfo['inst_id'])))"
   ]
  },
  {
   "cell_type": "code",
   "execution_count": 37,
   "metadata": {},
   "outputs": [
    {
     "data": {
      "text/plain": [
       "1319138"
      ]
     },
     "execution_count": 37,
     "metadata": {},
     "output_type": "execute_result"
    }
   ],
   "source": [
    "len(cell_id)"
   ]
  },
  {
   "cell_type": "code",
   "execution_count": 38,
   "metadata": {},
   "outputs": [
    {
     "data": {
      "text/plain": [
       "(1319138, 11)"
      ]
     },
     "execution_count": 38,
     "metadata": {},
     "output_type": "execute_result"
    }
   ],
   "source": [
    "instInfo.shape"
   ]
  },
  {
   "cell_type": "code",
   "execution_count": 39,
   "metadata": {},
   "outputs": [
    {
     "data": {
      "text/html": [
       "<div>\n",
       "<style scoped>\n",
       "    .dataframe tbody tr th:only-of-type {\n",
       "        vertical-align: middle;\n",
       "    }\n",
       "\n",
       "    .dataframe tbody tr th {\n",
       "        vertical-align: top;\n",
       "    }\n",
       "\n",
       "    .dataframe thead th {\n",
       "        text-align: right;\n",
       "    }\n",
       "</style>\n",
       "<table border=\"1\" class=\"dataframe\">\n",
       "  <thead>\n",
       "    <tr style=\"text-align: right;\">\n",
       "      <th></th>\n",
       "      <th>pert_id</th>\n",
       "      <th>pert_iname</th>\n",
       "      <th>pert_type</th>\n",
       "      <th>is_touchstone</th>\n",
       "      <th>inchi_key_prefix</th>\n",
       "      <th>inchi_key</th>\n",
       "      <th>canonical_smiles</th>\n",
       "      <th>pubchem_cid</th>\n",
       "    </tr>\n",
       "  </thead>\n",
       "  <tbody>\n",
       "    <tr>\n",
       "      <th>0</th>\n",
       "      <td>56582</td>\n",
       "      <td>AKT2</td>\n",
       "      <td>trt_oe</td>\n",
       "      <td>0</td>\n",
       "      <td>-666</td>\n",
       "      <td>-666</td>\n",
       "      <td>-666</td>\n",
       "      <td>-666</td>\n",
       "    </tr>\n",
       "    <tr>\n",
       "      <th>1</th>\n",
       "      <td>5981</td>\n",
       "      <td>HSF1</td>\n",
       "      <td>trt_oe</td>\n",
       "      <td>0</td>\n",
       "      <td>-666</td>\n",
       "      <td>-666</td>\n",
       "      <td>-666</td>\n",
       "      <td>-666</td>\n",
       "    </tr>\n",
       "    <tr>\n",
       "      <th>2</th>\n",
       "      <td>7150</td>\n",
       "      <td>NFE2L2</td>\n",
       "      <td>trt_oe</td>\n",
       "      <td>0</td>\n",
       "      <td>-666</td>\n",
       "      <td>-666</td>\n",
       "      <td>-666</td>\n",
       "      <td>-666</td>\n",
       "    </tr>\n",
       "    <tr>\n",
       "      <th>3</th>\n",
       "      <td>ABL1_G2A</td>\n",
       "      <td>ABL1</td>\n",
       "      <td>trt_oe.mut</td>\n",
       "      <td>0</td>\n",
       "      <td>-666</td>\n",
       "      <td>-666</td>\n",
       "      <td>-666</td>\n",
       "      <td>-666</td>\n",
       "    </tr>\n",
       "    <tr>\n",
       "      <th>4</th>\n",
       "      <td>ABL1_T315I</td>\n",
       "      <td>ABL1</td>\n",
       "      <td>trt_oe.mut</td>\n",
       "      <td>0</td>\n",
       "      <td>-666</td>\n",
       "      <td>-666</td>\n",
       "      <td>-666</td>\n",
       "      <td>-666</td>\n",
       "    </tr>\n",
       "  </tbody>\n",
       "</table>\n",
       "</div>"
      ],
      "text/plain": [
       "      pert_id pert_iname   pert_type  is_touchstone inchi_key_prefix  \\\n",
       "0       56582       AKT2      trt_oe              0             -666   \n",
       "1        5981       HSF1      trt_oe              0             -666   \n",
       "2        7150     NFE2L2      trt_oe              0             -666   \n",
       "3    ABL1_G2A       ABL1  trt_oe.mut              0             -666   \n",
       "4  ABL1_T315I       ABL1  trt_oe.mut              0             -666   \n",
       "\n",
       "  inchi_key canonical_smiles pubchem_cid  \n",
       "0      -666             -666        -666  \n",
       "1      -666             -666        -666  \n",
       "2      -666             -666        -666  \n",
       "3      -666             -666        -666  \n",
       "4      -666             -666        -666  "
      ]
     },
     "execution_count": 39,
     "metadata": {},
     "output_type": "execute_result"
    }
   ],
   "source": [
    "perData = pd.read_csv('GSE92742_Broad_LINCS_pert_info.txt', sep=\"\\t\")\n",
    "perData.head()"
   ]
  },
  {
   "cell_type": "code",
   "execution_count": 41,
   "metadata": {},
   "outputs": [
    {
     "data": {
      "text/plain": [
       "['pert_type', 'pert_id', 'pert_iname']"
      ]
     },
     "execution_count": 41,
     "metadata": {},
     "output_type": "execute_result"
    }
   ],
   "source": [
    "list(set(instInfo.columns) & set(perData.columns))"
   ]
  },
  {
   "cell_type": "code",
   "execution_count": 45,
   "metadata": {},
   "outputs": [
    {
     "data": {
      "text/html": [
       "<div>\n",
       "<style scoped>\n",
       "    .dataframe tbody tr th:only-of-type {\n",
       "        vertical-align: middle;\n",
       "    }\n",
       "\n",
       "    .dataframe tbody tr th {\n",
       "        vertical-align: top;\n",
       "    }\n",
       "\n",
       "    .dataframe thead th {\n",
       "        text-align: right;\n",
       "    }\n",
       "</style>\n",
       "<table border=\"1\" class=\"dataframe\">\n",
       "  <thead>\n",
       "    <tr style=\"text-align: right;\">\n",
       "      <th></th>\n",
       "      <th>a</th>\n",
       "    </tr>\n",
       "  </thead>\n",
       "  <tbody>\n",
       "    <tr>\n",
       "      <th>0</th>\n",
       "      <td>CPC005_A375_6H_X1_B3_DUO52HI53LO:K06</td>\n",
       "    </tr>\n",
       "    <tr>\n",
       "      <th>1</th>\n",
       "      <td>CPC005_A375_6H_X2_B3_DUO52HI53LO:K06</td>\n",
       "    </tr>\n",
       "    <tr>\n",
       "      <th>2</th>\n",
       "      <td>CPC005_A375_6H_X3_B3_DUO52HI53LO:K06</td>\n",
       "    </tr>\n",
       "    <tr>\n",
       "      <th>3</th>\n",
       "      <td>CPC005_A375_6H_X1_B3_DUO52HI53LO:C19</td>\n",
       "    </tr>\n",
       "    <tr>\n",
       "      <th>4</th>\n",
       "      <td>CPC005_A375_6H_X2_B3_DUO52HI53LO:C19</td>\n",
       "    </tr>\n",
       "    <tr>\n",
       "      <th>...</th>\n",
       "      <td>...</td>\n",
       "    </tr>\n",
       "    <tr>\n",
       "      <th>1319133</th>\n",
       "      <td>PCLB003_PC3_24H_X3_B13:P20</td>\n",
       "    </tr>\n",
       "    <tr>\n",
       "      <th>1319134</th>\n",
       "      <td>PCLB003_PC3_24H_X3_B13:P21</td>\n",
       "    </tr>\n",
       "    <tr>\n",
       "      <th>1319135</th>\n",
       "      <td>PCLB003_PC3_24H_X3_B13:P22</td>\n",
       "    </tr>\n",
       "    <tr>\n",
       "      <th>1319136</th>\n",
       "      <td>PCLB003_PC3_24H_X3_B13:P23</td>\n",
       "    </tr>\n",
       "    <tr>\n",
       "      <th>1319137</th>\n",
       "      <td>PCLB003_PC3_24H_X3_B13:P24</td>\n",
       "    </tr>\n",
       "  </tbody>\n",
       "</table>\n",
       "<p>1319138 rows × 1 columns</p>\n",
       "</div>"
      ],
      "text/plain": [
       "                                            a\n",
       "0        CPC005_A375_6H_X1_B3_DUO52HI53LO:K06\n",
       "1        CPC005_A375_6H_X2_B3_DUO52HI53LO:K06\n",
       "2        CPC005_A375_6H_X3_B3_DUO52HI53LO:K06\n",
       "3        CPC005_A375_6H_X1_B3_DUO52HI53LO:C19\n",
       "4        CPC005_A375_6H_X2_B3_DUO52HI53LO:C19\n",
       "...                                       ...\n",
       "1319133            PCLB003_PC3_24H_X3_B13:P20\n",
       "1319134            PCLB003_PC3_24H_X3_B13:P21\n",
       "1319135            PCLB003_PC3_24H_X3_B13:P22\n",
       "1319136            PCLB003_PC3_24H_X3_B13:P23\n",
       "1319137            PCLB003_PC3_24H_X3_B13:P24\n",
       "\n",
       "[1319138 rows x 1 columns]"
      ]
     },
     "execution_count": 45,
     "metadata": {},
     "output_type": "execute_result"
    }
   ],
   "source": [
    "pd.DataFrame(cell_id, columns = ['a'])"
   ]
  },
  {
   "cell_type": "code",
   "execution_count": 46,
   "metadata": {},
   "outputs": [],
   "source": [
    "perMeta = pd.DataFrame(cell_id, columns = ['cell']).merge(instInfo.loc[:, ['inst_id', 'pert_id']], \n",
    "                                                left_on = 'cell', \n",
    "                                                right_on = 'inst_id', how = 'left').merge(perData, on = 'pert_id', \n",
    "                                                                                         how = 'left')"
   ]
  },
  {
   "cell_type": "code",
   "execution_count": 47,
   "metadata": {},
   "outputs": [
    {
     "data": {
      "text/plain": [
       "(1319138, 10)"
      ]
     },
     "execution_count": 47,
     "metadata": {},
     "output_type": "execute_result"
    }
   ],
   "source": [
    "perMeta.shape"
   ]
  },
  {
   "cell_type": "code",
   "execution_count": 48,
   "metadata": {},
   "outputs": [
    {
     "data": {
      "text/html": [
       "<div>\n",
       "<style scoped>\n",
       "    .dataframe tbody tr th:only-of-type {\n",
       "        vertical-align: middle;\n",
       "    }\n",
       "\n",
       "    .dataframe tbody tr th {\n",
       "        vertical-align: top;\n",
       "    }\n",
       "\n",
       "    .dataframe thead th {\n",
       "        text-align: right;\n",
       "    }\n",
       "</style>\n",
       "<table border=\"1\" class=\"dataframe\">\n",
       "  <thead>\n",
       "    <tr style=\"text-align: right;\">\n",
       "      <th></th>\n",
       "      <th>cell</th>\n",
       "      <th>inst_id</th>\n",
       "      <th>pert_id</th>\n",
       "      <th>pert_iname</th>\n",
       "      <th>pert_type</th>\n",
       "      <th>is_touchstone</th>\n",
       "      <th>inchi_key_prefix</th>\n",
       "      <th>inchi_key</th>\n",
       "      <th>canonical_smiles</th>\n",
       "      <th>pubchem_cid</th>\n",
       "    </tr>\n",
       "  </thead>\n",
       "  <tbody>\n",
       "    <tr>\n",
       "      <th>0</th>\n",
       "      <td>CPC005_A375_6H_X1_B3_DUO52HI53LO:K06</td>\n",
       "      <td>CPC005_A375_6H_X1_B3_DUO52HI53LO:K06</td>\n",
       "      <td>BRD-A85280935</td>\n",
       "      <td>quinpirole</td>\n",
       "      <td>trt_cp</td>\n",
       "      <td>1.0</td>\n",
       "      <td>FTSUPYGMFAPCFZ</td>\n",
       "      <td>FTSUPYGMFAPCFZ-UHFFFAOYSA-N</td>\n",
       "      <td>CCCN1CCCC2Cc3n[nH]cc3CC21</td>\n",
       "      <td>-666</td>\n",
       "    </tr>\n",
       "    <tr>\n",
       "      <th>1</th>\n",
       "      <td>CPC005_A375_6H_X2_B3_DUO52HI53LO:K06</td>\n",
       "      <td>CPC005_A375_6H_X2_B3_DUO52HI53LO:K06</td>\n",
       "      <td>BRD-A85280935</td>\n",
       "      <td>quinpirole</td>\n",
       "      <td>trt_cp</td>\n",
       "      <td>1.0</td>\n",
       "      <td>FTSUPYGMFAPCFZ</td>\n",
       "      <td>FTSUPYGMFAPCFZ-UHFFFAOYSA-N</td>\n",
       "      <td>CCCN1CCCC2Cc3n[nH]cc3CC21</td>\n",
       "      <td>-666</td>\n",
       "    </tr>\n",
       "    <tr>\n",
       "      <th>2</th>\n",
       "      <td>CPC005_A375_6H_X3_B3_DUO52HI53LO:K06</td>\n",
       "      <td>CPC005_A375_6H_X3_B3_DUO52HI53LO:K06</td>\n",
       "      <td>BRD-A85280935</td>\n",
       "      <td>quinpirole</td>\n",
       "      <td>trt_cp</td>\n",
       "      <td>1.0</td>\n",
       "      <td>FTSUPYGMFAPCFZ</td>\n",
       "      <td>FTSUPYGMFAPCFZ-UHFFFAOYSA-N</td>\n",
       "      <td>CCCN1CCCC2Cc3n[nH]cc3CC21</td>\n",
       "      <td>-666</td>\n",
       "    </tr>\n",
       "    <tr>\n",
       "      <th>3</th>\n",
       "      <td>CPC005_A375_6H_X1_B3_DUO52HI53LO:C19</td>\n",
       "      <td>CPC005_A375_6H_X1_B3_DUO52HI53LO:C19</td>\n",
       "      <td>BRD-A07824748</td>\n",
       "      <td>flavanone</td>\n",
       "      <td>trt_cp</td>\n",
       "      <td>1.0</td>\n",
       "      <td>ZONYXWQDUYMKFB</td>\n",
       "      <td>ZONYXWQDUYMKFB-UHFFFAOYSA-N</td>\n",
       "      <td>O=C1CC(Oc2ccccc12)c3ccccc3</td>\n",
       "      <td>-666</td>\n",
       "    </tr>\n",
       "    <tr>\n",
       "      <th>4</th>\n",
       "      <td>CPC005_A375_6H_X2_B3_DUO52HI53LO:C19</td>\n",
       "      <td>CPC005_A375_6H_X2_B3_DUO52HI53LO:C19</td>\n",
       "      <td>BRD-A07824748</td>\n",
       "      <td>flavanone</td>\n",
       "      <td>trt_cp</td>\n",
       "      <td>1.0</td>\n",
       "      <td>ZONYXWQDUYMKFB</td>\n",
       "      <td>ZONYXWQDUYMKFB-UHFFFAOYSA-N</td>\n",
       "      <td>O=C1CC(Oc2ccccc12)c3ccccc3</td>\n",
       "      <td>-666</td>\n",
       "    </tr>\n",
       "  </tbody>\n",
       "</table>\n",
       "</div>"
      ],
      "text/plain": [
       "                                   cell                               inst_id  \\\n",
       "0  CPC005_A375_6H_X1_B3_DUO52HI53LO:K06  CPC005_A375_6H_X1_B3_DUO52HI53LO:K06   \n",
       "1  CPC005_A375_6H_X2_B3_DUO52HI53LO:K06  CPC005_A375_6H_X2_B3_DUO52HI53LO:K06   \n",
       "2  CPC005_A375_6H_X3_B3_DUO52HI53LO:K06  CPC005_A375_6H_X3_B3_DUO52HI53LO:K06   \n",
       "3  CPC005_A375_6H_X1_B3_DUO52HI53LO:C19  CPC005_A375_6H_X1_B3_DUO52HI53LO:C19   \n",
       "4  CPC005_A375_6H_X2_B3_DUO52HI53LO:C19  CPC005_A375_6H_X2_B3_DUO52HI53LO:C19   \n",
       "\n",
       "         pert_id  pert_iname pert_type  is_touchstone inchi_key_prefix  \\\n",
       "0  BRD-A85280935  quinpirole    trt_cp            1.0   FTSUPYGMFAPCFZ   \n",
       "1  BRD-A85280935  quinpirole    trt_cp            1.0   FTSUPYGMFAPCFZ   \n",
       "2  BRD-A85280935  quinpirole    trt_cp            1.0   FTSUPYGMFAPCFZ   \n",
       "3  BRD-A07824748   flavanone    trt_cp            1.0   ZONYXWQDUYMKFB   \n",
       "4  BRD-A07824748   flavanone    trt_cp            1.0   ZONYXWQDUYMKFB   \n",
       "\n",
       "                     inchi_key            canonical_smiles pubchem_cid  \n",
       "0  FTSUPYGMFAPCFZ-UHFFFAOYSA-N   CCCN1CCCC2Cc3n[nH]cc3CC21        -666  \n",
       "1  FTSUPYGMFAPCFZ-UHFFFAOYSA-N   CCCN1CCCC2Cc3n[nH]cc3CC21        -666  \n",
       "2  FTSUPYGMFAPCFZ-UHFFFAOYSA-N   CCCN1CCCC2Cc3n[nH]cc3CC21        -666  \n",
       "3  ZONYXWQDUYMKFB-UHFFFAOYSA-N  O=C1CC(Oc2ccccc12)c3ccccc3        -666  \n",
       "4  ZONYXWQDUYMKFB-UHFFFAOYSA-N  O=C1CC(Oc2ccccc12)c3ccccc3        -666  "
      ]
     },
     "execution_count": 48,
     "metadata": {},
     "output_type": "execute_result"
    }
   ],
   "source": [
    "perMeta.head()"
   ]
  },
  {
   "cell_type": "code",
   "execution_count": 50,
   "metadata": {},
   "outputs": [
    {
     "data": {
      "text/plain": [
       "99190"
      ]
     },
     "execution_count": 50,
     "metadata": {},
     "output_type": "execute_result"
    }
   ],
   "source": [
    "perMeta['canonical_smiles'].isnull().sum()"
   ]
  },
  {
   "cell_type": "code",
   "execution_count": 53,
   "metadata": {},
   "outputs": [
    {
     "data": {
      "text/plain": [
       "array(['CCCN1CCCC2Cc3n[nH]cc3CC21', 'O=C1CC(Oc2ccccc12)c3ccccc3',\n",
       "       'C[C@@H]1O[C@@H](OC[C@H]2O[C@@H](Oc3c(oc4cc(O)cc(O)c4c3=O)-c3ccc(O)c(O)c3)[C@H](O)[C@@H](O)[C@@H]2O)[C@H](O)[C@H](O)[C@H]1O',\n",
       "       ...,\n",
       "       'COc1cc(Nc2ncc3CN=C(c4cc(Cl)ccc4-c3n2)c2c(F)cccc2OC)ccc1C(O)=O',\n",
       "       'CC1(C)Oc2ccc3C4=C[C@@]56NC(=O)[C@]7(CCCN7C5=O)C[C@H]6C(C)(C)C4=[N+]([O-])c3c2C=C1',\n",
       "       'C[C@@H]1CC(=O)NN=C1c1ccc(N)c(c1)[N+]([O-])=O'], dtype=object)"
      ]
     },
     "execution_count": 53,
     "metadata": {},
     "output_type": "execute_result"
    }
   ],
   "source": [
    "perMeta['canonical_smiles'].unique()"
   ]
  },
  {
   "cell_type": "code",
   "execution_count": 54,
   "metadata": {},
   "outputs": [
    {
     "data": {
      "text/html": [
       "<div>\n",
       "<style scoped>\n",
       "    .dataframe tbody tr th:only-of-type {\n",
       "        vertical-align: middle;\n",
       "    }\n",
       "\n",
       "    .dataframe tbody tr th {\n",
       "        vertical-align: top;\n",
       "    }\n",
       "\n",
       "    .dataframe thead th {\n",
       "        text-align: right;\n",
       "    }\n",
       "</style>\n",
       "<table border=\"1\" class=\"dataframe\">\n",
       "  <thead>\n",
       "    <tr style=\"text-align: right;\">\n",
       "      <th></th>\n",
       "      <th>cell</th>\n",
       "      <th>inst_id</th>\n",
       "      <th>pert_id</th>\n",
       "      <th>pert_iname</th>\n",
       "      <th>pert_type</th>\n",
       "      <th>is_touchstone</th>\n",
       "      <th>inchi_key_prefix</th>\n",
       "      <th>inchi_key</th>\n",
       "      <th>canonical_smiles</th>\n",
       "      <th>pubchem_cid</th>\n",
       "    </tr>\n",
       "  </thead>\n",
       "  <tbody>\n",
       "    <tr>\n",
       "      <th>122632</th>\n",
       "      <td>CPC009_A375_6H_X1_B3_DUO52HI53LO:P19</td>\n",
       "      <td>CPC009_A375_6H_X1_B3_DUO52HI53LO:P19</td>\n",
       "      <td>BRD-U32049204</td>\n",
       "      <td>BRD-U32049204</td>\n",
       "      <td>trt_cp</td>\n",
       "      <td>0.0</td>\n",
       "      <td>-666</td>\n",
       "      <td>-666</td>\n",
       "      <td>-666</td>\n",
       "      <td>-666</td>\n",
       "    </tr>\n",
       "    <tr>\n",
       "      <th>122633</th>\n",
       "      <td>CPC009_A375_6H_X2_F1B3_DUO52HI53LO:P19</td>\n",
       "      <td>CPC009_A375_6H_X2_F1B3_DUO52HI53LO:P19</td>\n",
       "      <td>BRD-U32049204</td>\n",
       "      <td>BRD-U32049204</td>\n",
       "      <td>trt_cp</td>\n",
       "      <td>0.0</td>\n",
       "      <td>-666</td>\n",
       "      <td>-666</td>\n",
       "      <td>-666</td>\n",
       "      <td>-666</td>\n",
       "    </tr>\n",
       "    <tr>\n",
       "      <th>122634</th>\n",
       "      <td>CPC009_A375_6H_X4_B5_DUO52HI53LO:P19</td>\n",
       "      <td>CPC009_A375_6H_X4_B5_DUO52HI53LO:P19</td>\n",
       "      <td>BRD-U32049204</td>\n",
       "      <td>BRD-U32049204</td>\n",
       "      <td>trt_cp</td>\n",
       "      <td>0.0</td>\n",
       "      <td>-666</td>\n",
       "      <td>-666</td>\n",
       "      <td>-666</td>\n",
       "      <td>-666</td>\n",
       "    </tr>\n",
       "    <tr>\n",
       "      <th>122635</th>\n",
       "      <td>CPC009_A375_6H_X5_F1B5_DUO52HI53LO:P19</td>\n",
       "      <td>CPC009_A375_6H_X5_F1B5_DUO52HI53LO:P19</td>\n",
       "      <td>BRD-U32049204</td>\n",
       "      <td>BRD-U32049204</td>\n",
       "      <td>trt_cp</td>\n",
       "      <td>0.0</td>\n",
       "      <td>-666</td>\n",
       "      <td>-666</td>\n",
       "      <td>-666</td>\n",
       "      <td>-666</td>\n",
       "    </tr>\n",
       "    <tr>\n",
       "      <th>122636</th>\n",
       "      <td>CPC008_A375_6H_X1_B3_DUO52HI53LO:D06</td>\n",
       "      <td>CPC008_A375_6H_X1_B3_DUO52HI53LO:D06</td>\n",
       "      <td>BRD-U88878891</td>\n",
       "      <td>BRD-U88878891</td>\n",
       "      <td>trt_cp</td>\n",
       "      <td>0.0</td>\n",
       "      <td>-666</td>\n",
       "      <td>-666</td>\n",
       "      <td>-666</td>\n",
       "      <td>-666</td>\n",
       "    </tr>\n",
       "  </tbody>\n",
       "</table>\n",
       "</div>"
      ],
      "text/plain": [
       "                                          cell  \\\n",
       "122632    CPC009_A375_6H_X1_B3_DUO52HI53LO:P19   \n",
       "122633  CPC009_A375_6H_X2_F1B3_DUO52HI53LO:P19   \n",
       "122634    CPC009_A375_6H_X4_B5_DUO52HI53LO:P19   \n",
       "122635  CPC009_A375_6H_X5_F1B5_DUO52HI53LO:P19   \n",
       "122636    CPC008_A375_6H_X1_B3_DUO52HI53LO:D06   \n",
       "\n",
       "                                       inst_id        pert_id     pert_iname  \\\n",
       "122632    CPC009_A375_6H_X1_B3_DUO52HI53LO:P19  BRD-U32049204  BRD-U32049204   \n",
       "122633  CPC009_A375_6H_X2_F1B3_DUO52HI53LO:P19  BRD-U32049204  BRD-U32049204   \n",
       "122634    CPC009_A375_6H_X4_B5_DUO52HI53LO:P19  BRD-U32049204  BRD-U32049204   \n",
       "122635  CPC009_A375_6H_X5_F1B5_DUO52HI53LO:P19  BRD-U32049204  BRD-U32049204   \n",
       "122636    CPC008_A375_6H_X1_B3_DUO52HI53LO:D06  BRD-U88878891  BRD-U88878891   \n",
       "\n",
       "       pert_type  is_touchstone inchi_key_prefix inchi_key canonical_smiles  \\\n",
       "122632    trt_cp            0.0             -666      -666             -666   \n",
       "122633    trt_cp            0.0             -666      -666             -666   \n",
       "122634    trt_cp            0.0             -666      -666             -666   \n",
       "122635    trt_cp            0.0             -666      -666             -666   \n",
       "122636    trt_cp            0.0             -666      -666             -666   \n",
       "\n",
       "       pubchem_cid  \n",
       "122632        -666  \n",
       "122633        -666  \n",
       "122634        -666  \n",
       "122635        -666  \n",
       "122636        -666  "
      ]
     },
     "execution_count": 54,
     "metadata": {},
     "output_type": "execute_result"
    }
   ],
   "source": [
    "perMeta[perMeta['canonical_smiles'] == '-666'].head()"
   ]
  },
  {
   "cell_type": "code",
   "execution_count": 55,
   "metadata": {},
   "outputs": [
    {
     "data": {
      "text/html": [
       "<div>\n",
       "<style scoped>\n",
       "    .dataframe tbody tr th:only-of-type {\n",
       "        vertical-align: middle;\n",
       "    }\n",
       "\n",
       "    .dataframe tbody tr th {\n",
       "        vertical-align: top;\n",
       "    }\n",
       "\n",
       "    .dataframe thead th {\n",
       "        text-align: right;\n",
       "    }\n",
       "</style>\n",
       "<table border=\"1\" class=\"dataframe\">\n",
       "  <thead>\n",
       "    <tr style=\"text-align: right;\">\n",
       "      <th></th>\n",
       "      <th>cell</th>\n",
       "      <th>inst_id</th>\n",
       "      <th>pert_id</th>\n",
       "      <th>pert_iname</th>\n",
       "      <th>pert_type</th>\n",
       "      <th>is_touchstone</th>\n",
       "      <th>inchi_key_prefix</th>\n",
       "      <th>inchi_key</th>\n",
       "      <th>canonical_smiles</th>\n",
       "      <th>pubchem_cid</th>\n",
       "    </tr>\n",
       "  </thead>\n",
       "  <tbody>\n",
       "    <tr>\n",
       "      <th>386983</th>\n",
       "      <td>DER001_A375_96H_X1_B7_DUO52HI53LO:A24</td>\n",
       "      <td>DER001_A375_96H_X1_B7_DUO52HI53LO:A24</td>\n",
       "      <td>TRCN0000000000</td>\n",
       "      <td>NaN</td>\n",
       "      <td>NaN</td>\n",
       "      <td>NaN</td>\n",
       "      <td>NaN</td>\n",
       "      <td>NaN</td>\n",
       "      <td>NaN</td>\n",
       "      <td>NaN</td>\n",
       "    </tr>\n",
       "    <tr>\n",
       "      <th>386984</th>\n",
       "      <td>DER001_A375_96H_X1_B7_DUO52HI53LO:C04</td>\n",
       "      <td>DER001_A375_96H_X1_B7_DUO52HI53LO:C04</td>\n",
       "      <td>TRCN0000000000</td>\n",
       "      <td>NaN</td>\n",
       "      <td>NaN</td>\n",
       "      <td>NaN</td>\n",
       "      <td>NaN</td>\n",
       "      <td>NaN</td>\n",
       "      <td>NaN</td>\n",
       "      <td>NaN</td>\n",
       "    </tr>\n",
       "    <tr>\n",
       "      <th>386985</th>\n",
       "      <td>DER001_A375_96H_X1_B7_DUO52HI53LO:F09</td>\n",
       "      <td>DER001_A375_96H_X1_B7_DUO52HI53LO:F09</td>\n",
       "      <td>TRCN0000000000</td>\n",
       "      <td>NaN</td>\n",
       "      <td>NaN</td>\n",
       "      <td>NaN</td>\n",
       "      <td>NaN</td>\n",
       "      <td>NaN</td>\n",
       "      <td>NaN</td>\n",
       "      <td>NaN</td>\n",
       "    </tr>\n",
       "    <tr>\n",
       "      <th>386986</th>\n",
       "      <td>DER001_A375_96H_X1_B7_DUO52HI53LO:M05</td>\n",
       "      <td>DER001_A375_96H_X1_B7_DUO52HI53LO:M05</td>\n",
       "      <td>TRCN0000000000</td>\n",
       "      <td>NaN</td>\n",
       "      <td>NaN</td>\n",
       "      <td>NaN</td>\n",
       "      <td>NaN</td>\n",
       "      <td>NaN</td>\n",
       "      <td>NaN</td>\n",
       "      <td>NaN</td>\n",
       "    </tr>\n",
       "    <tr>\n",
       "      <th>386987</th>\n",
       "      <td>DER001_A375_96H_X1_B7_DUO52HI53LO:N12</td>\n",
       "      <td>DER001_A375_96H_X1_B7_DUO52HI53LO:N12</td>\n",
       "      <td>TRCN0000000000</td>\n",
       "      <td>NaN</td>\n",
       "      <td>NaN</td>\n",
       "      <td>NaN</td>\n",
       "      <td>NaN</td>\n",
       "      <td>NaN</td>\n",
       "      <td>NaN</td>\n",
       "      <td>NaN</td>\n",
       "    </tr>\n",
       "    <tr>\n",
       "      <th>...</th>\n",
       "      <td>...</td>\n",
       "      <td>...</td>\n",
       "      <td>...</td>\n",
       "      <td>...</td>\n",
       "      <td>...</td>\n",
       "      <td>...</td>\n",
       "      <td>...</td>\n",
       "      <td>...</td>\n",
       "      <td>...</td>\n",
       "      <td>...</td>\n",
       "    </tr>\n",
       "    <tr>\n",
       "      <th>1301308</th>\n",
       "      <td>HSF045_HEK293T_48H_X2_B12:P20</td>\n",
       "      <td>HSF045_HEK293T_48H_X2_B12:P20</td>\n",
       "      <td>GNF2</td>\n",
       "      <td>NaN</td>\n",
       "      <td>NaN</td>\n",
       "      <td>NaN</td>\n",
       "      <td>NaN</td>\n",
       "      <td>NaN</td>\n",
       "      <td>NaN</td>\n",
       "      <td>NaN</td>\n",
       "    </tr>\n",
       "    <tr>\n",
       "      <th>1301309</th>\n",
       "      <td>HSF045_HEK293T_48H_X2_B12:P21</td>\n",
       "      <td>HSF045_HEK293T_48H_X2_B12:P21</td>\n",
       "      <td>GNF2</td>\n",
       "      <td>NaN</td>\n",
       "      <td>NaN</td>\n",
       "      <td>NaN</td>\n",
       "      <td>NaN</td>\n",
       "      <td>NaN</td>\n",
       "      <td>NaN</td>\n",
       "      <td>NaN</td>\n",
       "    </tr>\n",
       "    <tr>\n",
       "      <th>1301310</th>\n",
       "      <td>HSF045_HEK293T_48H_X2_B12:P22</td>\n",
       "      <td>HSF045_HEK293T_48H_X2_B12:P22</td>\n",
       "      <td>GNF2</td>\n",
       "      <td>NaN</td>\n",
       "      <td>NaN</td>\n",
       "      <td>NaN</td>\n",
       "      <td>NaN</td>\n",
       "      <td>NaN</td>\n",
       "      <td>NaN</td>\n",
       "      <td>NaN</td>\n",
       "    </tr>\n",
       "    <tr>\n",
       "      <th>1301311</th>\n",
       "      <td>HSF045_HEK293T_48H_X2_B12:P23</td>\n",
       "      <td>HSF045_HEK293T_48H_X2_B12:P23</td>\n",
       "      <td>GNF2</td>\n",
       "      <td>NaN</td>\n",
       "      <td>NaN</td>\n",
       "      <td>NaN</td>\n",
       "      <td>NaN</td>\n",
       "      <td>NaN</td>\n",
       "      <td>NaN</td>\n",
       "      <td>NaN</td>\n",
       "    </tr>\n",
       "    <tr>\n",
       "      <th>1301312</th>\n",
       "      <td>HSF045_HEK293T_48H_X2_B12:P24</td>\n",
       "      <td>HSF045_HEK293T_48H_X2_B12:P24</td>\n",
       "      <td>GNF2</td>\n",
       "      <td>NaN</td>\n",
       "      <td>NaN</td>\n",
       "      <td>NaN</td>\n",
       "      <td>NaN</td>\n",
       "      <td>NaN</td>\n",
       "      <td>NaN</td>\n",
       "      <td>NaN</td>\n",
       "    </tr>\n",
       "  </tbody>\n",
       "</table>\n",
       "<p>99190 rows × 10 columns</p>\n",
       "</div>"
      ],
      "text/plain": [
       "                                          cell  \\\n",
       "386983   DER001_A375_96H_X1_B7_DUO52HI53LO:A24   \n",
       "386984   DER001_A375_96H_X1_B7_DUO52HI53LO:C04   \n",
       "386985   DER001_A375_96H_X1_B7_DUO52HI53LO:F09   \n",
       "386986   DER001_A375_96H_X1_B7_DUO52HI53LO:M05   \n",
       "386987   DER001_A375_96H_X1_B7_DUO52HI53LO:N12   \n",
       "...                                        ...   \n",
       "1301308          HSF045_HEK293T_48H_X2_B12:P20   \n",
       "1301309          HSF045_HEK293T_48H_X2_B12:P21   \n",
       "1301310          HSF045_HEK293T_48H_X2_B12:P22   \n",
       "1301311          HSF045_HEK293T_48H_X2_B12:P23   \n",
       "1301312          HSF045_HEK293T_48H_X2_B12:P24   \n",
       "\n",
       "                                       inst_id         pert_id pert_iname  \\\n",
       "386983   DER001_A375_96H_X1_B7_DUO52HI53LO:A24  TRCN0000000000        NaN   \n",
       "386984   DER001_A375_96H_X1_B7_DUO52HI53LO:C04  TRCN0000000000        NaN   \n",
       "386985   DER001_A375_96H_X1_B7_DUO52HI53LO:F09  TRCN0000000000        NaN   \n",
       "386986   DER001_A375_96H_X1_B7_DUO52HI53LO:M05  TRCN0000000000        NaN   \n",
       "386987   DER001_A375_96H_X1_B7_DUO52HI53LO:N12  TRCN0000000000        NaN   \n",
       "...                                        ...             ...        ...   \n",
       "1301308          HSF045_HEK293T_48H_X2_B12:P20            GNF2        NaN   \n",
       "1301309          HSF045_HEK293T_48H_X2_B12:P21            GNF2        NaN   \n",
       "1301310          HSF045_HEK293T_48H_X2_B12:P22            GNF2        NaN   \n",
       "1301311          HSF045_HEK293T_48H_X2_B12:P23            GNF2        NaN   \n",
       "1301312          HSF045_HEK293T_48H_X2_B12:P24            GNF2        NaN   \n",
       "\n",
       "        pert_type  is_touchstone inchi_key_prefix inchi_key canonical_smiles  \\\n",
       "386983        NaN            NaN              NaN       NaN              NaN   \n",
       "386984        NaN            NaN              NaN       NaN              NaN   \n",
       "386985        NaN            NaN              NaN       NaN              NaN   \n",
       "386986        NaN            NaN              NaN       NaN              NaN   \n",
       "386987        NaN            NaN              NaN       NaN              NaN   \n",
       "...           ...            ...              ...       ...              ...   \n",
       "1301308       NaN            NaN              NaN       NaN              NaN   \n",
       "1301309       NaN            NaN              NaN       NaN              NaN   \n",
       "1301310       NaN            NaN              NaN       NaN              NaN   \n",
       "1301311       NaN            NaN              NaN       NaN              NaN   \n",
       "1301312       NaN            NaN              NaN       NaN              NaN   \n",
       "\n",
       "        pubchem_cid  \n",
       "386983          NaN  \n",
       "386984          NaN  \n",
       "386985          NaN  \n",
       "386986          NaN  \n",
       "386987          NaN  \n",
       "...             ...  \n",
       "1301308         NaN  \n",
       "1301309         NaN  \n",
       "1301310         NaN  \n",
       "1301311         NaN  \n",
       "1301312         NaN  \n",
       "\n",
       "[99190 rows x 10 columns]"
      ]
     },
     "execution_count": 55,
     "metadata": {},
     "output_type": "execute_result"
    }
   ],
   "source": [
    "perMeta[perMeta['canonical_smiles'].isnull()]"
   ]
  },
  {
   "cell_type": "code",
   "execution_count": 56,
   "metadata": {},
   "outputs": [
    {
     "data": {
      "text/plain": [
       "0"
      ]
     },
     "execution_count": 56,
     "metadata": {},
     "output_type": "execute_result"
    }
   ],
   "source": [
    "perMeta['pert_id'].isnull().sum()"
   ]
  },
  {
   "cell_type": "code",
   "execution_count": 57,
   "metadata": {},
   "outputs": [],
   "source": [
    "perMeta.to_csv('GSE92742_Broad_LINCS_Level3_INF_mlr12k_n1319138x12328_processed_PerturbMeta.csv')"
   ]
  },
  {
   "cell_type": "code",
   "execution_count": 58,
   "metadata": {},
   "outputs": [
    {
     "data": {
      "text/plain": [
       "'/nfs/turbo/umms-welchjd/hengshi/perturb_gan/data/LINCS'"
      ]
     },
     "execution_count": 58,
     "metadata": {},
     "output_type": "execute_result"
    }
   ],
   "source": [
    "pwd"
   ]
  },
  {
   "cell_type": "code",
   "execution_count": 67,
   "metadata": {},
   "outputs": [
    {
     "name": "stderr",
     "output_type": "stream",
     "text": [
      "/sw/arcts/centos7/python3.8-anaconda/2020.07/lib/python3.8/site-packages/pandas/core/ops/array_ops.py:253: FutureWarning: elementwise comparison failed; returning scalar instead, but in the future will perform elementwise comparison\n",
      "  res_values = method(rvalues)\n"
     ]
    },
    {
     "data": {
      "text/plain": [
       "(1319138, 10)"
      ]
     },
     "execution_count": 67,
     "metadata": {},
     "output_type": "execute_result"
    }
   ],
   "source": [
    "perMeta[~(perMeta['canonical_smiles'].isnull() | perMeta['canonical_smiles'] == '-666')].shape"
   ]
  },
  {
   "cell_type": "code",
   "execution_count": 66,
   "metadata": {},
   "outputs": [
    {
     "data": {
      "text/plain": [
       "0          False\n",
       "1          False\n",
       "2          False\n",
       "3          False\n",
       "4          False\n",
       "           ...  \n",
       "1319133    False\n",
       "1319134    False\n",
       "1319135    False\n",
       "1319136    False\n",
       "1319137    False\n",
       "Name: canonical_smiles, Length: 1319138, dtype: bool"
      ]
     },
     "execution_count": 66,
     "metadata": {},
     "output_type": "execute_result"
    }
   ],
   "source": [
    "((perMeta['canonical_smiles'].isnull()) | (perMeta['canonical_smiles'] == '-666'))"
   ]
  },
  {
   "cell_type": "code",
   "execution_count": 64,
   "metadata": {},
   "outputs": [
    {
     "data": {
      "text/plain": [
       "0          False\n",
       "1          False\n",
       "2          False\n",
       "3          False\n",
       "4          False\n",
       "           ...  \n",
       "1319133    False\n",
       "1319134    False\n",
       "1319135    False\n",
       "1319136    False\n",
       "1319137    False\n",
       "Name: canonical_smiles, Length: 1319138, dtype: bool"
      ]
     },
     "execution_count": 64,
     "metadata": {},
     "output_type": "execute_result"
    }
   ],
   "source": [
    "perMeta['canonical_smiles'] == '-666'"
   ]
  },
  {
   "cell_type": "code",
   "execution_count": 68,
   "metadata": {},
   "outputs": [
    {
     "data": {
      "text/plain": [
       "529249"
      ]
     },
     "execution_count": 68,
     "metadata": {},
     "output_type": "execute_result"
    }
   ],
   "source": [
    "(perMeta['canonical_smiles'] == '-666').sum()"
   ]
  },
  {
   "cell_type": "code",
   "execution_count": 104,
   "metadata": {},
   "outputs": [],
   "source": [
    "unique_canon = perMeta[(~perMeta['canonical_smiles'].isnull()) & (perMeta['canonical_smiles'] != '-666')]['canonical_smiles'].unique()"
   ]
  },
  {
   "cell_type": "code",
   "execution_count": 105,
   "metadata": {},
   "outputs": [],
   "source": [
    "indices_with_value = list((~perMeta['canonical_smiles'].isnull()) & (perMeta['canonical_smiles'] != '-666'))"
   ]
  },
  {
   "cell_type": "code",
   "execution_count": 106,
   "metadata": {},
   "outputs": [],
   "source": [
    "np.save('./oneHot/GSE92742_Broad_LINCS_Level3_INF_mlr12k_n1319138x12328_processed_UniqueCanonicalSmiles.npy', unique_canon)"
   ]
  },
  {
   "cell_type": "code",
   "execution_count": 107,
   "metadata": {},
   "outputs": [],
   "source": [
    "pd.DataFrame(unique_canon).to_csv('./oneHot/GSE92742_Broad_LINCS_Level3_INF_mlr12k_n1319138x12328_processed_UniqueCanonicalSmiles.csv')"
   ]
  },
  {
   "cell_type": "code",
   "execution_count": 112,
   "metadata": {},
   "outputs": [],
   "source": [
    "np.save('./oneHot/GSE92742_Broad_LINCS_Level3_INF_mlr12k_n1319138x12328_processed_IndicesWithCanonicalSmiles.npy', np.array(indices_with_value))"
   ]
  },
  {
   "cell_type": "code",
   "execution_count": 82,
   "metadata": {},
   "outputs": [
    {
     "data": {
      "text/plain": [
       "99190"
      ]
     },
     "execution_count": 82,
     "metadata": {},
     "output_type": "execute_result"
    }
   ],
   "source": [
    "perMeta[~(perMeta['canonical_smiles'].isnull() | perMeta['canonical_smiles'] == '-666')]['canonical_smiles'].isna().sum()"
   ]
  },
  {
   "cell_type": "code",
   "execution_count": 84,
   "metadata": {},
   "outputs": [
    {
     "data": {
      "text/plain": [
       "99190"
      ]
     },
     "execution_count": 84,
     "metadata": {},
     "output_type": "execute_result"
    }
   ],
   "source": [
    "perMeta['canonical_smiles'].isnull().sum()"
   ]
  },
  {
   "cell_type": "code",
   "execution_count": 94,
   "metadata": {},
   "outputs": [
    {
     "data": {
      "text/plain": [
       "789889"
      ]
     },
     "execution_count": 94,
     "metadata": {},
     "output_type": "execute_result"
    }
   ],
   "source": [
    "(perMeta['canonical_smiles'] != '-666').sum()"
   ]
  },
  {
   "cell_type": "code",
   "execution_count": 113,
   "metadata": {},
   "outputs": [
    {
     "data": {
      "text/plain": [
       "(20330,)"
      ]
     },
     "execution_count": 113,
     "metadata": {},
     "output_type": "execute_result"
    }
   ],
   "source": [
    "unique_canon.shape"
   ]
  },
  {
   "cell_type": "code",
   "execution_count": 4,
   "metadata": {},
   "outputs": [
    {
     "data": {
      "text/plain": [
       "1199617"
      ]
     },
     "execution_count": 4,
     "metadata": {},
     "output_type": "execute_result"
    }
   ],
   "source": [
    "1319137 - 99190 - 20330"
   ]
  },
  {
   "cell_type": "markdown",
   "metadata": {},
   "source": [
    "# Remove 2000 perturbations"
   ]
  },
  {
   "cell_type": "code",
   "execution_count": 1,
   "metadata": {},
   "outputs": [],
   "source": [
    "import pandas as pd\n",
    "import numpy as np\n",
    "trt_whole_list = np.load('./oneHot/GSE92742_Broad_LINCS_Level3_INF_mlr12k_n1319138x12328_processed_UniqueCanonicalSmilesOneHotSmiles.npy')"
   ]
  },
  {
   "cell_type": "code",
   "execution_count": 2,
   "metadata": {},
   "outputs": [
    {
     "data": {
      "text/plain": [
       "(20065,)"
      ]
     },
     "execution_count": 2,
     "metadata": {},
     "output_type": "execute_result"
    }
   ],
   "source": [
    "trt_whole_list.shape"
   ]
  },
  {
   "cell_type": "code",
   "execution_count": 3,
   "metadata": {},
   "outputs": [],
   "source": [
    "a = np.random.choice(trt_whole_list, 2000, replace = False)\n"
   ]
  },
  {
   "cell_type": "code",
   "execution_count": 4,
   "metadata": {},
   "outputs": [
    {
     "data": {
      "text/plain": [
       "array(['C1CN=C(N1)C1COc2ccccc2O1',\n",
       "       'COCC(=O)N1C[C@H]2[C@H]([C@H](CO)N2C(=O)C1)c1ccc(cc1)-c1ccccc1F',\n",
       "       'C\\\\C=C\\\\c1ccc(cc1)[C@@H]1[C@@H](CO)N([C@H]1CN(C)C(=O)NC1CCCC1)C(C)=O',\n",
       "       ...,\n",
       "       'COc1cccc(c1)c2cnc3O[C@H](CN(C)CC4CCCC4)[C@@H](C)CN([C@@H](C)CO)C(=O)c3c2',\n",
       "       'CN(C)C(=O)C[C@H]1CC[C@H]2[C@@H](COc3ccc(NC(=O)c4ccc(F)cc4)cc3C(=O)N2C)O1',\n",
       "       'COC(=O)C[C@@H]1O[C@@H](CO)[C@H](NC(=O)Nc2ccc(cc2)C(F)(F)F)C=C1'],\n",
       "      dtype='<U458')"
      ]
     },
     "execution_count": 4,
     "metadata": {},
     "output_type": "execute_result"
    }
   ],
   "source": [
    "a"
   ]
  },
  {
   "cell_type": "code",
   "execution_count": 5,
   "metadata": {},
   "outputs": [
    {
     "data": {
      "text/plain": [
       "(2000,)"
      ]
     },
     "execution_count": 5,
     "metadata": {},
     "output_type": "execute_result"
    }
   ],
   "source": [
    "np.unique(a).shape"
   ]
  },
  {
   "cell_type": "code",
   "execution_count": 6,
   "metadata": {},
   "outputs": [],
   "source": [
    "np.save(\"./oneHot/LINCS_2000RemovedPerturbs.npy\", a)"
   ]
  },
  {
   "cell_type": "code",
   "execution_count": 7,
   "metadata": {},
   "outputs": [
    {
     "data": {
      "text/plain": [
       "'/nfs/turbo/umms-welchjd/hengshi/perturb_gan/data/LINCS'"
      ]
     },
     "execution_count": 7,
     "metadata": {},
     "output_type": "execute_result"
    }
   ],
   "source": [
    "pwd"
   ]
  },
  {
   "cell_type": "code",
   "execution_count": 8,
   "metadata": {},
   "outputs": [
    {
     "data": {
      "text/plain": [
       "'/nfs/turbo/umms-welchjd/hengshi/perturb_gan/data/LINCS'"
      ]
     },
     "execution_count": 8,
     "metadata": {},
     "output_type": "execute_result"
    }
   ],
   "source": [
    "pwd"
   ]
  },
  {
   "cell_type": "code",
   "execution_count": null,
   "metadata": {},
   "outputs": [],
   "source": []
  },
  {
   "cell_type": "code",
   "execution_count": null,
   "metadata": {},
   "outputs": [],
   "source": []
  },
  {
   "cell_type": "code",
   "execution_count": null,
   "metadata": {},
   "outputs": [],
   "source": []
  },
  {
   "cell_type": "markdown",
   "metadata": {},
   "source": [
    "# PerMeta"
   ]
  },
  {
   "cell_type": "code",
   "execution_count": 1,
   "metadata": {},
   "outputs": [
    {
     "name": "stderr",
     "output_type": "stream",
     "text": [
      "/sw/arcts/centos7/python3.8-anaconda/2020.07/lib/python3.8/site-packages/IPython/core/interactiveshell.py:3071: DtypeWarning: Columns (7,8,9,10) have mixed types.Specify dtype option on import or set low_memory=False.\n",
      "  has_raised = await self.run_ast_nodes(code_ast.body, cell_name,\n"
     ]
    }
   ],
   "source": [
    "import pandas as pd\n",
    "perMeta = pd.read_csv('GSE92742_Broad_LINCS_Level3_INF_mlr12k_n1319138x12328_processed_PerturbMeta.csv')"
   ]
  },
  {
   "cell_type": "code",
   "execution_count": 2,
   "metadata": {},
   "outputs": [
    {
     "data": {
      "text/plain": [
       "(1319138, 11)"
      ]
     },
     "execution_count": 2,
     "metadata": {},
     "output_type": "execute_result"
    }
   ],
   "source": [
    "perMeta.shape"
   ]
  },
  {
   "cell_type": "code",
   "execution_count": 3,
   "metadata": {},
   "outputs": [
    {
     "data": {
      "text/html": [
       "<div>\n",
       "<style scoped>\n",
       "    .dataframe tbody tr th:only-of-type {\n",
       "        vertical-align: middle;\n",
       "    }\n",
       "\n",
       "    .dataframe tbody tr th {\n",
       "        vertical-align: top;\n",
       "    }\n",
       "\n",
       "    .dataframe thead th {\n",
       "        text-align: right;\n",
       "    }\n",
       "</style>\n",
       "<table border=\"1\" class=\"dataframe\">\n",
       "  <thead>\n",
       "    <tr style=\"text-align: right;\">\n",
       "      <th></th>\n",
       "      <th>Unnamed: 0</th>\n",
       "      <th>cell</th>\n",
       "      <th>inst_id</th>\n",
       "      <th>pert_id</th>\n",
       "      <th>pert_iname</th>\n",
       "      <th>pert_type</th>\n",
       "      <th>is_touchstone</th>\n",
       "      <th>inchi_key_prefix</th>\n",
       "      <th>inchi_key</th>\n",
       "      <th>canonical_smiles</th>\n",
       "      <th>pubchem_cid</th>\n",
       "    </tr>\n",
       "  </thead>\n",
       "  <tbody>\n",
       "    <tr>\n",
       "      <th>0</th>\n",
       "      <td>0</td>\n",
       "      <td>CPC005_A375_6H_X1_B3_DUO52HI53LO:K06</td>\n",
       "      <td>CPC005_A375_6H_X1_B3_DUO52HI53LO:K06</td>\n",
       "      <td>BRD-A85280935</td>\n",
       "      <td>quinpirole</td>\n",
       "      <td>trt_cp</td>\n",
       "      <td>1.0</td>\n",
       "      <td>FTSUPYGMFAPCFZ</td>\n",
       "      <td>FTSUPYGMFAPCFZ-UHFFFAOYSA-N</td>\n",
       "      <td>CCCN1CCCC2Cc3n[nH]cc3CC21</td>\n",
       "      <td>-666</td>\n",
       "    </tr>\n",
       "    <tr>\n",
       "      <th>1</th>\n",
       "      <td>1</td>\n",
       "      <td>CPC005_A375_6H_X2_B3_DUO52HI53LO:K06</td>\n",
       "      <td>CPC005_A375_6H_X2_B3_DUO52HI53LO:K06</td>\n",
       "      <td>BRD-A85280935</td>\n",
       "      <td>quinpirole</td>\n",
       "      <td>trt_cp</td>\n",
       "      <td>1.0</td>\n",
       "      <td>FTSUPYGMFAPCFZ</td>\n",
       "      <td>FTSUPYGMFAPCFZ-UHFFFAOYSA-N</td>\n",
       "      <td>CCCN1CCCC2Cc3n[nH]cc3CC21</td>\n",
       "      <td>-666</td>\n",
       "    </tr>\n",
       "    <tr>\n",
       "      <th>2</th>\n",
       "      <td>2</td>\n",
       "      <td>CPC005_A375_6H_X3_B3_DUO52HI53LO:K06</td>\n",
       "      <td>CPC005_A375_6H_X3_B3_DUO52HI53LO:K06</td>\n",
       "      <td>BRD-A85280935</td>\n",
       "      <td>quinpirole</td>\n",
       "      <td>trt_cp</td>\n",
       "      <td>1.0</td>\n",
       "      <td>FTSUPYGMFAPCFZ</td>\n",
       "      <td>FTSUPYGMFAPCFZ-UHFFFAOYSA-N</td>\n",
       "      <td>CCCN1CCCC2Cc3n[nH]cc3CC21</td>\n",
       "      <td>-666</td>\n",
       "    </tr>\n",
       "    <tr>\n",
       "      <th>3</th>\n",
       "      <td>3</td>\n",
       "      <td>CPC005_A375_6H_X1_B3_DUO52HI53LO:C19</td>\n",
       "      <td>CPC005_A375_6H_X1_B3_DUO52HI53LO:C19</td>\n",
       "      <td>BRD-A07824748</td>\n",
       "      <td>flavanone</td>\n",
       "      <td>trt_cp</td>\n",
       "      <td>1.0</td>\n",
       "      <td>ZONYXWQDUYMKFB</td>\n",
       "      <td>ZONYXWQDUYMKFB-UHFFFAOYSA-N</td>\n",
       "      <td>O=C1CC(Oc2ccccc12)c3ccccc3</td>\n",
       "      <td>-666</td>\n",
       "    </tr>\n",
       "    <tr>\n",
       "      <th>4</th>\n",
       "      <td>4</td>\n",
       "      <td>CPC005_A375_6H_X2_B3_DUO52HI53LO:C19</td>\n",
       "      <td>CPC005_A375_6H_X2_B3_DUO52HI53LO:C19</td>\n",
       "      <td>BRD-A07824748</td>\n",
       "      <td>flavanone</td>\n",
       "      <td>trt_cp</td>\n",
       "      <td>1.0</td>\n",
       "      <td>ZONYXWQDUYMKFB</td>\n",
       "      <td>ZONYXWQDUYMKFB-UHFFFAOYSA-N</td>\n",
       "      <td>O=C1CC(Oc2ccccc12)c3ccccc3</td>\n",
       "      <td>-666</td>\n",
       "    </tr>\n",
       "  </tbody>\n",
       "</table>\n",
       "</div>"
      ],
      "text/plain": [
       "   Unnamed: 0                                  cell  \\\n",
       "0           0  CPC005_A375_6H_X1_B3_DUO52HI53LO:K06   \n",
       "1           1  CPC005_A375_6H_X2_B3_DUO52HI53LO:K06   \n",
       "2           2  CPC005_A375_6H_X3_B3_DUO52HI53LO:K06   \n",
       "3           3  CPC005_A375_6H_X1_B3_DUO52HI53LO:C19   \n",
       "4           4  CPC005_A375_6H_X2_B3_DUO52HI53LO:C19   \n",
       "\n",
       "                                inst_id        pert_id  pert_iname pert_type  \\\n",
       "0  CPC005_A375_6H_X1_B3_DUO52HI53LO:K06  BRD-A85280935  quinpirole    trt_cp   \n",
       "1  CPC005_A375_6H_X2_B3_DUO52HI53LO:K06  BRD-A85280935  quinpirole    trt_cp   \n",
       "2  CPC005_A375_6H_X3_B3_DUO52HI53LO:K06  BRD-A85280935  quinpirole    trt_cp   \n",
       "3  CPC005_A375_6H_X1_B3_DUO52HI53LO:C19  BRD-A07824748   flavanone    trt_cp   \n",
       "4  CPC005_A375_6H_X2_B3_DUO52HI53LO:C19  BRD-A07824748   flavanone    trt_cp   \n",
       "\n",
       "   is_touchstone inchi_key_prefix                    inchi_key  \\\n",
       "0            1.0   FTSUPYGMFAPCFZ  FTSUPYGMFAPCFZ-UHFFFAOYSA-N   \n",
       "1            1.0   FTSUPYGMFAPCFZ  FTSUPYGMFAPCFZ-UHFFFAOYSA-N   \n",
       "2            1.0   FTSUPYGMFAPCFZ  FTSUPYGMFAPCFZ-UHFFFAOYSA-N   \n",
       "3            1.0   ZONYXWQDUYMKFB  ZONYXWQDUYMKFB-UHFFFAOYSA-N   \n",
       "4            1.0   ZONYXWQDUYMKFB  ZONYXWQDUYMKFB-UHFFFAOYSA-N   \n",
       "\n",
       "             canonical_smiles pubchem_cid  \n",
       "0   CCCN1CCCC2Cc3n[nH]cc3CC21        -666  \n",
       "1   CCCN1CCCC2Cc3n[nH]cc3CC21        -666  \n",
       "2   CCCN1CCCC2Cc3n[nH]cc3CC21        -666  \n",
       "3  O=C1CC(Oc2ccccc12)c3ccccc3        -666  \n",
       "4  O=C1CC(Oc2ccccc12)c3ccccc3        -666  "
      ]
     },
     "execution_count": 3,
     "metadata": {},
     "output_type": "execute_result"
    }
   ],
   "source": [
    "perMeta.head()"
   ]
  },
  {
   "cell_type": "code",
   "execution_count": 16,
   "metadata": {},
   "outputs": [],
   "source": [
    "genes = perMeta[(perMeta['pert_type'] == 'trt_sh')]['pert_iname'].unique()"
   ]
  },
  {
   "cell_type": "code",
   "execution_count": 19,
   "metadata": {},
   "outputs": [],
   "source": [
    "import numpy as np\n",
    "import os\n",
    "path_geneanno = \"/nfs/turbo/umms-welchjd/hengshi/GAN/data/Genotype/\"\n",
    "gene_data = np.load(os.path.join(path_geneanno, 'gene.npy'))"
   ]
  },
  {
   "cell_type": "code",
   "execution_count": 25,
   "metadata": {},
   "outputs": [
    {
     "data": {
      "text/plain": [
       "(4109, (4371,))"
      ]
     },
     "execution_count": 25,
     "metadata": {},
     "output_type": "execute_result"
    }
   ],
   "source": [
    "np.in1d(genes, gene_data).sum(), np.shape(genes)"
   ]
  },
  {
   "cell_type": "code",
   "execution_count": null,
   "metadata": {},
   "outputs": [],
   "source": []
  },
  {
   "cell_type": "code",
   "execution_count": 11,
   "metadata": {},
   "outputs": [
    {
     "data": {
      "text/plain": [
       "array(['trt_cp', 'ctl_vehicle', 'trt_lig', 'trt_sh', 'ctl_vector', nan,\n",
       "       'ctl_untrt', 'trt_oe', 'trt_oe.mut'], dtype=object)"
      ]
     },
     "execution_count": 11,
     "metadata": {},
     "output_type": "execute_result"
    }
   ],
   "source": [
    "perMeta['pert_type'].unique()"
   ]
  },
  {
   "cell_type": "code",
   "execution_count": 8,
   "metadata": {},
   "outputs": [],
   "source": [
    "perMeta_noSmile = perMeta[(perMeta['canonical_smiles'].isnull()) | (perMeta['canonical_smiles'] == '-666')]"
   ]
  },
  {
   "cell_type": "code",
   "execution_count": 9,
   "metadata": {},
   "outputs": [
    {
     "data": {
      "text/html": [
       "<div>\n",
       "<style scoped>\n",
       "    .dataframe tbody tr th:only-of-type {\n",
       "        vertical-align: middle;\n",
       "    }\n",
       "\n",
       "    .dataframe tbody tr th {\n",
       "        vertical-align: top;\n",
       "    }\n",
       "\n",
       "    .dataframe thead th {\n",
       "        text-align: right;\n",
       "    }\n",
       "</style>\n",
       "<table border=\"1\" class=\"dataframe\">\n",
       "  <thead>\n",
       "    <tr style=\"text-align: right;\">\n",
       "      <th></th>\n",
       "      <th>Unnamed: 0</th>\n",
       "      <th>cell</th>\n",
       "      <th>inst_id</th>\n",
       "      <th>pert_id</th>\n",
       "      <th>pert_iname</th>\n",
       "      <th>pert_type</th>\n",
       "      <th>is_touchstone</th>\n",
       "      <th>inchi_key_prefix</th>\n",
       "      <th>inchi_key</th>\n",
       "      <th>canonical_smiles</th>\n",
       "      <th>pubchem_cid</th>\n",
       "    </tr>\n",
       "  </thead>\n",
       "  <tbody>\n",
       "    <tr>\n",
       "      <th>122632</th>\n",
       "      <td>122632</td>\n",
       "      <td>CPC009_A375_6H_X1_B3_DUO52HI53LO:P19</td>\n",
       "      <td>CPC009_A375_6H_X1_B3_DUO52HI53LO:P19</td>\n",
       "      <td>BRD-U32049204</td>\n",
       "      <td>BRD-U32049204</td>\n",
       "      <td>trt_cp</td>\n",
       "      <td>0.0</td>\n",
       "      <td>-666</td>\n",
       "      <td>-666</td>\n",
       "      <td>-666</td>\n",
       "      <td>-666</td>\n",
       "    </tr>\n",
       "    <tr>\n",
       "      <th>122633</th>\n",
       "      <td>122633</td>\n",
       "      <td>CPC009_A375_6H_X2_F1B3_DUO52HI53LO:P19</td>\n",
       "      <td>CPC009_A375_6H_X2_F1B3_DUO52HI53LO:P19</td>\n",
       "      <td>BRD-U32049204</td>\n",
       "      <td>BRD-U32049204</td>\n",
       "      <td>trt_cp</td>\n",
       "      <td>0.0</td>\n",
       "      <td>-666</td>\n",
       "      <td>-666</td>\n",
       "      <td>-666</td>\n",
       "      <td>-666</td>\n",
       "    </tr>\n",
       "    <tr>\n",
       "      <th>122634</th>\n",
       "      <td>122634</td>\n",
       "      <td>CPC009_A375_6H_X4_B5_DUO52HI53LO:P19</td>\n",
       "      <td>CPC009_A375_6H_X4_B5_DUO52HI53LO:P19</td>\n",
       "      <td>BRD-U32049204</td>\n",
       "      <td>BRD-U32049204</td>\n",
       "      <td>trt_cp</td>\n",
       "      <td>0.0</td>\n",
       "      <td>-666</td>\n",
       "      <td>-666</td>\n",
       "      <td>-666</td>\n",
       "      <td>-666</td>\n",
       "    </tr>\n",
       "    <tr>\n",
       "      <th>122635</th>\n",
       "      <td>122635</td>\n",
       "      <td>CPC009_A375_6H_X5_F1B5_DUO52HI53LO:P19</td>\n",
       "      <td>CPC009_A375_6H_X5_F1B5_DUO52HI53LO:P19</td>\n",
       "      <td>BRD-U32049204</td>\n",
       "      <td>BRD-U32049204</td>\n",
       "      <td>trt_cp</td>\n",
       "      <td>0.0</td>\n",
       "      <td>-666</td>\n",
       "      <td>-666</td>\n",
       "      <td>-666</td>\n",
       "      <td>-666</td>\n",
       "    </tr>\n",
       "    <tr>\n",
       "      <th>122636</th>\n",
       "      <td>122636</td>\n",
       "      <td>CPC008_A375_6H_X1_B3_DUO52HI53LO:D06</td>\n",
       "      <td>CPC008_A375_6H_X1_B3_DUO52HI53LO:D06</td>\n",
       "      <td>BRD-U88878891</td>\n",
       "      <td>BRD-U88878891</td>\n",
       "      <td>trt_cp</td>\n",
       "      <td>0.0</td>\n",
       "      <td>-666</td>\n",
       "      <td>-666</td>\n",
       "      <td>-666</td>\n",
       "      <td>-666</td>\n",
       "    </tr>\n",
       "  </tbody>\n",
       "</table>\n",
       "</div>"
      ],
      "text/plain": [
       "        Unnamed: 0                                    cell  \\\n",
       "122632      122632    CPC009_A375_6H_X1_B3_DUO52HI53LO:P19   \n",
       "122633      122633  CPC009_A375_6H_X2_F1B3_DUO52HI53LO:P19   \n",
       "122634      122634    CPC009_A375_6H_X4_B5_DUO52HI53LO:P19   \n",
       "122635      122635  CPC009_A375_6H_X5_F1B5_DUO52HI53LO:P19   \n",
       "122636      122636    CPC008_A375_6H_X1_B3_DUO52HI53LO:D06   \n",
       "\n",
       "                                       inst_id        pert_id     pert_iname  \\\n",
       "122632    CPC009_A375_6H_X1_B3_DUO52HI53LO:P19  BRD-U32049204  BRD-U32049204   \n",
       "122633  CPC009_A375_6H_X2_F1B3_DUO52HI53LO:P19  BRD-U32049204  BRD-U32049204   \n",
       "122634    CPC009_A375_6H_X4_B5_DUO52HI53LO:P19  BRD-U32049204  BRD-U32049204   \n",
       "122635  CPC009_A375_6H_X5_F1B5_DUO52HI53LO:P19  BRD-U32049204  BRD-U32049204   \n",
       "122636    CPC008_A375_6H_X1_B3_DUO52HI53LO:D06  BRD-U88878891  BRD-U88878891   \n",
       "\n",
       "       pert_type  is_touchstone inchi_key_prefix inchi_key canonical_smiles  \\\n",
       "122632    trt_cp            0.0             -666      -666             -666   \n",
       "122633    trt_cp            0.0             -666      -666             -666   \n",
       "122634    trt_cp            0.0             -666      -666             -666   \n",
       "122635    trt_cp            0.0             -666      -666             -666   \n",
       "122636    trt_cp            0.0             -666      -666             -666   \n",
       "\n",
       "       pubchem_cid  \n",
       "122632        -666  \n",
       "122633        -666  \n",
       "122634        -666  \n",
       "122635        -666  \n",
       "122636        -666  "
      ]
     },
     "execution_count": 9,
     "metadata": {},
     "output_type": "execute_result"
    }
   ],
   "source": [
    "perMeta_noSmile.head()"
   ]
  },
  {
   "cell_type": "code",
   "execution_count": 10,
   "metadata": {},
   "outputs": [
    {
     "data": {
      "text/plain": [
       "array(['trt_cp', 'trt_lig', 'ctl_vehicle', 'trt_sh', 'ctl_vector', nan,\n",
       "       'ctl_untrt', 'trt_oe', 'trt_oe.mut'], dtype=object)"
      ]
     },
     "execution_count": 10,
     "metadata": {},
     "output_type": "execute_result"
    }
   ],
   "source": [
    "perMeta_noSmile['pert_type'].unique()"
   ]
  },
  {
   "cell_type": "code",
   "execution_count": 11,
   "metadata": {},
   "outputs": [
    {
     "data": {
      "text/html": [
       "<div>\n",
       "<style scoped>\n",
       "    .dataframe tbody tr th:only-of-type {\n",
       "        vertical-align: middle;\n",
       "    }\n",
       "\n",
       "    .dataframe tbody tr th {\n",
       "        vertical-align: top;\n",
       "    }\n",
       "\n",
       "    .dataframe thead th {\n",
       "        text-align: right;\n",
       "    }\n",
       "</style>\n",
       "<table border=\"1\" class=\"dataframe\">\n",
       "  <thead>\n",
       "    <tr style=\"text-align: right;\">\n",
       "      <th></th>\n",
       "      <th>Unnamed: 0</th>\n",
       "      <th>cell</th>\n",
       "      <th>inst_id</th>\n",
       "      <th>pert_id</th>\n",
       "      <th>pert_iname</th>\n",
       "      <th>pert_type</th>\n",
       "      <th>is_touchstone</th>\n",
       "      <th>inchi_key_prefix</th>\n",
       "      <th>inchi_key</th>\n",
       "      <th>canonical_smiles</th>\n",
       "      <th>pubchem_cid</th>\n",
       "    </tr>\n",
       "  </thead>\n",
       "  <tbody>\n",
       "    <tr>\n",
       "      <th>385036</th>\n",
       "      <td>385036</td>\n",
       "      <td>CYT001_A375_4H_X1_B7_DUO52HI53LO:C03</td>\n",
       "      <td>CYT001_A375_4H_X1_B7_DUO52HI53LO:C03</td>\n",
       "      <td>CMAP-CYT-C0663</td>\n",
       "      <td>ACHE</td>\n",
       "      <td>trt_lig</td>\n",
       "      <td>0.0</td>\n",
       "      <td>-666</td>\n",
       "      <td>-666</td>\n",
       "      <td>-666</td>\n",
       "      <td>-666</td>\n",
       "    </tr>\n",
       "    <tr>\n",
       "      <th>385037</th>\n",
       "      <td>385037</td>\n",
       "      <td>CYT001_A375_4H_X2_B7_DUO52HI53LO:C03</td>\n",
       "      <td>CYT001_A375_4H_X2_B7_DUO52HI53LO:C03</td>\n",
       "      <td>CMAP-CYT-C0663</td>\n",
       "      <td>ACHE</td>\n",
       "      <td>trt_lig</td>\n",
       "      <td>0.0</td>\n",
       "      <td>-666</td>\n",
       "      <td>-666</td>\n",
       "      <td>-666</td>\n",
       "      <td>-666</td>\n",
       "    </tr>\n",
       "    <tr>\n",
       "      <th>385038</th>\n",
       "      <td>385038</td>\n",
       "      <td>CYT001_A375_4H_X3_B7_DUO52HI53LO:C03</td>\n",
       "      <td>CYT001_A375_4H_X3_B7_DUO52HI53LO:C03</td>\n",
       "      <td>CMAP-CYT-C0663</td>\n",
       "      <td>ACHE</td>\n",
       "      <td>trt_lig</td>\n",
       "      <td>0.0</td>\n",
       "      <td>-666</td>\n",
       "      <td>-666</td>\n",
       "      <td>-666</td>\n",
       "      <td>-666</td>\n",
       "    </tr>\n",
       "    <tr>\n",
       "      <th>385039</th>\n",
       "      <td>385039</td>\n",
       "      <td>CYT001_A375_4H_X1_B7_DUO52HI53LO:B04</td>\n",
       "      <td>CYT001_A375_4H_X1_B7_DUO52HI53LO:B04</td>\n",
       "      <td>CMAP-CYT-A2327</td>\n",
       "      <td>ADM</td>\n",
       "      <td>trt_lig</td>\n",
       "      <td>0.0</td>\n",
       "      <td>-666</td>\n",
       "      <td>-666</td>\n",
       "      <td>-666</td>\n",
       "      <td>-666</td>\n",
       "    </tr>\n",
       "    <tr>\n",
       "      <th>385040</th>\n",
       "      <td>385040</td>\n",
       "      <td>CYT001_A375_4H_X2_B7_DUO52HI53LO:B04</td>\n",
       "      <td>CYT001_A375_4H_X2_B7_DUO52HI53LO:B04</td>\n",
       "      <td>CMAP-CYT-A2327</td>\n",
       "      <td>ADM</td>\n",
       "      <td>trt_lig</td>\n",
       "      <td>0.0</td>\n",
       "      <td>-666</td>\n",
       "      <td>-666</td>\n",
       "      <td>-666</td>\n",
       "      <td>-666</td>\n",
       "    </tr>\n",
       "  </tbody>\n",
       "</table>\n",
       "</div>"
      ],
      "text/plain": [
       "        Unnamed: 0                                  cell  \\\n",
       "385036      385036  CYT001_A375_4H_X1_B7_DUO52HI53LO:C03   \n",
       "385037      385037  CYT001_A375_4H_X2_B7_DUO52HI53LO:C03   \n",
       "385038      385038  CYT001_A375_4H_X3_B7_DUO52HI53LO:C03   \n",
       "385039      385039  CYT001_A375_4H_X1_B7_DUO52HI53LO:B04   \n",
       "385040      385040  CYT001_A375_4H_X2_B7_DUO52HI53LO:B04   \n",
       "\n",
       "                                     inst_id         pert_id pert_iname  \\\n",
       "385036  CYT001_A375_4H_X1_B7_DUO52HI53LO:C03  CMAP-CYT-C0663       ACHE   \n",
       "385037  CYT001_A375_4H_X2_B7_DUO52HI53LO:C03  CMAP-CYT-C0663       ACHE   \n",
       "385038  CYT001_A375_4H_X3_B7_DUO52HI53LO:C03  CMAP-CYT-C0663       ACHE   \n",
       "385039  CYT001_A375_4H_X1_B7_DUO52HI53LO:B04  CMAP-CYT-A2327        ADM   \n",
       "385040  CYT001_A375_4H_X2_B7_DUO52HI53LO:B04  CMAP-CYT-A2327        ADM   \n",
       "\n",
       "       pert_type  is_touchstone inchi_key_prefix inchi_key canonical_smiles  \\\n",
       "385036   trt_lig            0.0             -666      -666             -666   \n",
       "385037   trt_lig            0.0             -666      -666             -666   \n",
       "385038   trt_lig            0.0             -666      -666             -666   \n",
       "385039   trt_lig            0.0             -666      -666             -666   \n",
       "385040   trt_lig            0.0             -666      -666             -666   \n",
       "\n",
       "       pubchem_cid  \n",
       "385036        -666  \n",
       "385037        -666  \n",
       "385038        -666  \n",
       "385039        -666  \n",
       "385040        -666  "
      ]
     },
     "execution_count": 11,
     "metadata": {},
     "output_type": "execute_result"
    }
   ],
   "source": [
    "perMeta_noSmile[perMeta_noSmile['pert_type'] == 'trt_lig'].head()"
   ]
  },
  {
   "cell_type": "code",
   "execution_count": 12,
   "metadata": {},
   "outputs": [
    {
     "data": {
      "text/html": [
       "<div>\n",
       "<style scoped>\n",
       "    .dataframe tbody tr th:only-of-type {\n",
       "        vertical-align: middle;\n",
       "    }\n",
       "\n",
       "    .dataframe tbody tr th {\n",
       "        vertical-align: top;\n",
       "    }\n",
       "\n",
       "    .dataframe thead th {\n",
       "        text-align: right;\n",
       "    }\n",
       "</style>\n",
       "<table border=\"1\" class=\"dataframe\">\n",
       "  <thead>\n",
       "    <tr style=\"text-align: right;\">\n",
       "      <th></th>\n",
       "      <th>Unnamed: 0</th>\n",
       "      <th>cell</th>\n",
       "      <th>inst_id</th>\n",
       "      <th>pert_id</th>\n",
       "      <th>pert_iname</th>\n",
       "      <th>pert_type</th>\n",
       "      <th>is_touchstone</th>\n",
       "      <th>inchi_key_prefix</th>\n",
       "      <th>inchi_key</th>\n",
       "      <th>canonical_smiles</th>\n",
       "      <th>pubchem_cid</th>\n",
       "    </tr>\n",
       "  </thead>\n",
       "  <tbody>\n",
       "    <tr>\n",
       "      <th>385090</th>\n",
       "      <td>385090</td>\n",
       "      <td>CYT001_A375_4H_X1_B7_DUO52HI53LO:C01</td>\n",
       "      <td>CYT001_A375_4H_X1_B7_DUO52HI53LO:C01</td>\n",
       "      <td>PBS</td>\n",
       "      <td>PBS</td>\n",
       "      <td>ctl_vehicle</td>\n",
       "      <td>0.0</td>\n",
       "      <td>-666</td>\n",
       "      <td>-666</td>\n",
       "      <td>-666</td>\n",
       "      <td>-666</td>\n",
       "    </tr>\n",
       "    <tr>\n",
       "      <th>385091</th>\n",
       "      <td>385091</td>\n",
       "      <td>CYT001_A375_4H_X1_B7_DUO52HI53LO:D01</td>\n",
       "      <td>CYT001_A375_4H_X1_B7_DUO52HI53LO:D01</td>\n",
       "      <td>PBS</td>\n",
       "      <td>PBS</td>\n",
       "      <td>ctl_vehicle</td>\n",
       "      <td>0.0</td>\n",
       "      <td>-666</td>\n",
       "      <td>-666</td>\n",
       "      <td>-666</td>\n",
       "      <td>-666</td>\n",
       "    </tr>\n",
       "    <tr>\n",
       "      <th>385092</th>\n",
       "      <td>385092</td>\n",
       "      <td>CYT001_A375_4H_X1_B7_DUO52HI53LO:E01</td>\n",
       "      <td>CYT001_A375_4H_X1_B7_DUO52HI53LO:E01</td>\n",
       "      <td>PBS</td>\n",
       "      <td>PBS</td>\n",
       "      <td>ctl_vehicle</td>\n",
       "      <td>0.0</td>\n",
       "      <td>-666</td>\n",
       "      <td>-666</td>\n",
       "      <td>-666</td>\n",
       "      <td>-666</td>\n",
       "    </tr>\n",
       "    <tr>\n",
       "      <th>385093</th>\n",
       "      <td>385093</td>\n",
       "      <td>CYT001_A375_4H_X1_B7_DUO52HI53LO:F01</td>\n",
       "      <td>CYT001_A375_4H_X1_B7_DUO52HI53LO:F01</td>\n",
       "      <td>PBS</td>\n",
       "      <td>PBS</td>\n",
       "      <td>ctl_vehicle</td>\n",
       "      <td>0.0</td>\n",
       "      <td>-666</td>\n",
       "      <td>-666</td>\n",
       "      <td>-666</td>\n",
       "      <td>-666</td>\n",
       "    </tr>\n",
       "    <tr>\n",
       "      <th>385094</th>\n",
       "      <td>385094</td>\n",
       "      <td>CYT001_A375_4H_X1_B7_DUO52HI53LO:H01</td>\n",
       "      <td>CYT001_A375_4H_X1_B7_DUO52HI53LO:H01</td>\n",
       "      <td>PBS</td>\n",
       "      <td>PBS</td>\n",
       "      <td>ctl_vehicle</td>\n",
       "      <td>0.0</td>\n",
       "      <td>-666</td>\n",
       "      <td>-666</td>\n",
       "      <td>-666</td>\n",
       "      <td>-666</td>\n",
       "    </tr>\n",
       "  </tbody>\n",
       "</table>\n",
       "</div>"
      ],
      "text/plain": [
       "        Unnamed: 0                                  cell  \\\n",
       "385090      385090  CYT001_A375_4H_X1_B7_DUO52HI53LO:C01   \n",
       "385091      385091  CYT001_A375_4H_X1_B7_DUO52HI53LO:D01   \n",
       "385092      385092  CYT001_A375_4H_X1_B7_DUO52HI53LO:E01   \n",
       "385093      385093  CYT001_A375_4H_X1_B7_DUO52HI53LO:F01   \n",
       "385094      385094  CYT001_A375_4H_X1_B7_DUO52HI53LO:H01   \n",
       "\n",
       "                                     inst_id pert_id pert_iname    pert_type  \\\n",
       "385090  CYT001_A375_4H_X1_B7_DUO52HI53LO:C01     PBS        PBS  ctl_vehicle   \n",
       "385091  CYT001_A375_4H_X1_B7_DUO52HI53LO:D01     PBS        PBS  ctl_vehicle   \n",
       "385092  CYT001_A375_4H_X1_B7_DUO52HI53LO:E01     PBS        PBS  ctl_vehicle   \n",
       "385093  CYT001_A375_4H_X1_B7_DUO52HI53LO:F01     PBS        PBS  ctl_vehicle   \n",
       "385094  CYT001_A375_4H_X1_B7_DUO52HI53LO:H01     PBS        PBS  ctl_vehicle   \n",
       "\n",
       "        is_touchstone inchi_key_prefix inchi_key canonical_smiles pubchem_cid  \n",
       "385090            0.0             -666      -666             -666        -666  \n",
       "385091            0.0             -666      -666             -666        -666  \n",
       "385092            0.0             -666      -666             -666        -666  \n",
       "385093            0.0             -666      -666             -666        -666  \n",
       "385094            0.0             -666      -666             -666        -666  "
      ]
     },
     "execution_count": 12,
     "metadata": {},
     "output_type": "execute_result"
    }
   ],
   "source": [
    "perMeta_noSmile[perMeta_noSmile['pert_type'] == 'ctl_vehicle'].head()"
   ]
  },
  {
   "cell_type": "code",
   "execution_count": 13,
   "metadata": {},
   "outputs": [
    {
     "data": {
      "text/html": [
       "<div>\n",
       "<style scoped>\n",
       "    .dataframe tbody tr th:only-of-type {\n",
       "        vertical-align: middle;\n",
       "    }\n",
       "\n",
       "    .dataframe tbody tr th {\n",
       "        vertical-align: top;\n",
       "    }\n",
       "\n",
       "    .dataframe thead th {\n",
       "        text-align: right;\n",
       "    }\n",
       "</style>\n",
       "<table border=\"1\" class=\"dataframe\">\n",
       "  <thead>\n",
       "    <tr style=\"text-align: right;\">\n",
       "      <th></th>\n",
       "      <th>Unnamed: 0</th>\n",
       "      <th>cell</th>\n",
       "      <th>inst_id</th>\n",
       "      <th>pert_id</th>\n",
       "      <th>pert_iname</th>\n",
       "      <th>pert_type</th>\n",
       "      <th>is_touchstone</th>\n",
       "      <th>inchi_key_prefix</th>\n",
       "      <th>inchi_key</th>\n",
       "      <th>canonical_smiles</th>\n",
       "      <th>pubchem_cid</th>\n",
       "    </tr>\n",
       "  </thead>\n",
       "  <tbody>\n",
       "    <tr>\n",
       "      <th>385988</th>\n",
       "      <td>385988</td>\n",
       "      <td>DER001_A375_96H_X1_B7_DUO52HI53LO:O17</td>\n",
       "      <td>DER001_A375_96H_X1_B7_DUO52HI53LO:O17</td>\n",
       "      <td>TRCN0000052583</td>\n",
       "      <td>ADPGK</td>\n",
       "      <td>trt_sh</td>\n",
       "      <td>1.0</td>\n",
       "      <td>-666</td>\n",
       "      <td>-666</td>\n",
       "      <td>-666</td>\n",
       "      <td>-666</td>\n",
       "    </tr>\n",
       "    <tr>\n",
       "      <th>385989</th>\n",
       "      <td>385989</td>\n",
       "      <td>DER001_A375_96H_X2_B7_DUO52HI53LO:O17</td>\n",
       "      <td>DER001_A375_96H_X2_B7_DUO52HI53LO:O17</td>\n",
       "      <td>TRCN0000052583</td>\n",
       "      <td>ADPGK</td>\n",
       "      <td>trt_sh</td>\n",
       "      <td>1.0</td>\n",
       "      <td>-666</td>\n",
       "      <td>-666</td>\n",
       "      <td>-666</td>\n",
       "      <td>-666</td>\n",
       "    </tr>\n",
       "    <tr>\n",
       "      <th>385990</th>\n",
       "      <td>385990</td>\n",
       "      <td>DER001_A375_96H_X3_B7_DUO52HI53LO:O17</td>\n",
       "      <td>DER001_A375_96H_X3_B7_DUO52HI53LO:O17</td>\n",
       "      <td>TRCN0000052583</td>\n",
       "      <td>ADPGK</td>\n",
       "      <td>trt_sh</td>\n",
       "      <td>1.0</td>\n",
       "      <td>-666</td>\n",
       "      <td>-666</td>\n",
       "      <td>-666</td>\n",
       "      <td>-666</td>\n",
       "    </tr>\n",
       "    <tr>\n",
       "      <th>385991</th>\n",
       "      <td>385991</td>\n",
       "      <td>DER001_A375_96H_X1_B7_DUO52HI53LO:K19</td>\n",
       "      <td>DER001_A375_96H_X1_B7_DUO52HI53LO:K19</td>\n",
       "      <td>TRCN0000052584</td>\n",
       "      <td>ADPGK</td>\n",
       "      <td>trt_sh</td>\n",
       "      <td>1.0</td>\n",
       "      <td>-666</td>\n",
       "      <td>-666</td>\n",
       "      <td>-666</td>\n",
       "      <td>-666</td>\n",
       "    </tr>\n",
       "    <tr>\n",
       "      <th>385992</th>\n",
       "      <td>385992</td>\n",
       "      <td>DER001_A375_96H_X2_B7_DUO52HI53LO:K19</td>\n",
       "      <td>DER001_A375_96H_X2_B7_DUO52HI53LO:K19</td>\n",
       "      <td>TRCN0000052584</td>\n",
       "      <td>ADPGK</td>\n",
       "      <td>trt_sh</td>\n",
       "      <td>1.0</td>\n",
       "      <td>-666</td>\n",
       "      <td>-666</td>\n",
       "      <td>-666</td>\n",
       "      <td>-666</td>\n",
       "    </tr>\n",
       "  </tbody>\n",
       "</table>\n",
       "</div>"
      ],
      "text/plain": [
       "        Unnamed: 0                                   cell  \\\n",
       "385988      385988  DER001_A375_96H_X1_B7_DUO52HI53LO:O17   \n",
       "385989      385989  DER001_A375_96H_X2_B7_DUO52HI53LO:O17   \n",
       "385990      385990  DER001_A375_96H_X3_B7_DUO52HI53LO:O17   \n",
       "385991      385991  DER001_A375_96H_X1_B7_DUO52HI53LO:K19   \n",
       "385992      385992  DER001_A375_96H_X2_B7_DUO52HI53LO:K19   \n",
       "\n",
       "                                      inst_id         pert_id pert_iname  \\\n",
       "385988  DER001_A375_96H_X1_B7_DUO52HI53LO:O17  TRCN0000052583      ADPGK   \n",
       "385989  DER001_A375_96H_X2_B7_DUO52HI53LO:O17  TRCN0000052583      ADPGK   \n",
       "385990  DER001_A375_96H_X3_B7_DUO52HI53LO:O17  TRCN0000052583      ADPGK   \n",
       "385991  DER001_A375_96H_X1_B7_DUO52HI53LO:K19  TRCN0000052584      ADPGK   \n",
       "385992  DER001_A375_96H_X2_B7_DUO52HI53LO:K19  TRCN0000052584      ADPGK   \n",
       "\n",
       "       pert_type  is_touchstone inchi_key_prefix inchi_key canonical_smiles  \\\n",
       "385988    trt_sh            1.0             -666      -666             -666   \n",
       "385989    trt_sh            1.0             -666      -666             -666   \n",
       "385990    trt_sh            1.0             -666      -666             -666   \n",
       "385991    trt_sh            1.0             -666      -666             -666   \n",
       "385992    trt_sh            1.0             -666      -666             -666   \n",
       "\n",
       "       pubchem_cid  \n",
       "385988        -666  \n",
       "385989        -666  \n",
       "385990        -666  \n",
       "385991        -666  \n",
       "385992        -666  "
      ]
     },
     "execution_count": 13,
     "metadata": {},
     "output_type": "execute_result"
    }
   ],
   "source": [
    "perMeta_noSmile[perMeta_noSmile['pert_type'] == 'trt_sh'].head()"
   ]
  },
  {
   "cell_type": "code",
   "execution_count": 24,
   "metadata": {},
   "outputs": [
    {
     "data": {
      "text/plain": [
       "array(['ADPGK', 'AK3', 'AKR1C2', ..., 'VRK2', 'WEE1', 'ZAP70'],\n",
       "      dtype=object)"
      ]
     },
     "execution_count": 24,
     "metadata": {},
     "output_type": "execute_result"
    }
   ],
   "source": [
    "perMeta_noSmile[perMeta_noSmile['pert_type'] == 'trt_sh']['pert_iname'].unique()"
   ]
  },
  {
   "cell_type": "code",
   "execution_count": 25,
   "metadata": {},
   "outputs": [
    {
     "data": {
      "text/plain": [
       "(90574, 11)"
      ]
     },
     "execution_count": 25,
     "metadata": {},
     "output_type": "execute_result"
    }
   ],
   "source": [
    "perMeta_noSmile[perMeta_noSmile['pert_type'] == 'trt_sh'].shape"
   ]
  },
  {
   "cell_type": "code",
   "execution_count": 12,
   "metadata": {},
   "outputs": [
    {
     "data": {
      "text/html": [
       "<div>\n",
       "<style scoped>\n",
       "    .dataframe tbody tr th:only-of-type {\n",
       "        vertical-align: middle;\n",
       "    }\n",
       "\n",
       "    .dataframe tbody tr th {\n",
       "        vertical-align: top;\n",
       "    }\n",
       "\n",
       "    .dataframe thead th {\n",
       "        text-align: right;\n",
       "    }\n",
       "</style>\n",
       "<table border=\"1\" class=\"dataframe\">\n",
       "  <thead>\n",
       "    <tr style=\"text-align: right;\">\n",
       "      <th></th>\n",
       "      <th>Unnamed: 0</th>\n",
       "      <th>cell</th>\n",
       "      <th>inst_id</th>\n",
       "      <th>pert_id</th>\n",
       "      <th>pert_iname</th>\n",
       "      <th>pert_type</th>\n",
       "      <th>is_touchstone</th>\n",
       "      <th>inchi_key_prefix</th>\n",
       "      <th>inchi_key</th>\n",
       "      <th>canonical_smiles</th>\n",
       "      <th>pubchem_cid</th>\n",
       "    </tr>\n",
       "  </thead>\n",
       "  <tbody>\n",
       "    <tr>\n",
       "      <th>386262</th>\n",
       "      <td>386262</td>\n",
       "      <td>DER001_A375_96H_X1_B7_DUO52HI53LO:B09</td>\n",
       "      <td>DER001_A375_96H_X1_B7_DUO52HI53LO:B09</td>\n",
       "      <td>TRCN0000208001</td>\n",
       "      <td>EMPTY_VECTOR</td>\n",
       "      <td>ctl_vector</td>\n",
       "      <td>1.0</td>\n",
       "      <td>-666</td>\n",
       "      <td>-666</td>\n",
       "      <td>-666</td>\n",
       "      <td>-666</td>\n",
       "    </tr>\n",
       "    <tr>\n",
       "      <th>386263</th>\n",
       "      <td>386263</td>\n",
       "      <td>DER001_A375_96H_X1_B7_DUO52HI53LO:G03</td>\n",
       "      <td>DER001_A375_96H_X1_B7_DUO52HI53LO:G03</td>\n",
       "      <td>TRCN0000208001</td>\n",
       "      <td>EMPTY_VECTOR</td>\n",
       "      <td>ctl_vector</td>\n",
       "      <td>1.0</td>\n",
       "      <td>-666</td>\n",
       "      <td>-666</td>\n",
       "      <td>-666</td>\n",
       "      <td>-666</td>\n",
       "    </tr>\n",
       "    <tr>\n",
       "      <th>386264</th>\n",
       "      <td>386264</td>\n",
       "      <td>DER001_A375_96H_X1_B7_DUO52HI53LO:I02</td>\n",
       "      <td>DER001_A375_96H_X1_B7_DUO52HI53LO:I02</td>\n",
       "      <td>TRCN0000208001</td>\n",
       "      <td>EMPTY_VECTOR</td>\n",
       "      <td>ctl_vector</td>\n",
       "      <td>1.0</td>\n",
       "      <td>-666</td>\n",
       "      <td>-666</td>\n",
       "      <td>-666</td>\n",
       "      <td>-666</td>\n",
       "    </tr>\n",
       "    <tr>\n",
       "      <th>386265</th>\n",
       "      <td>386265</td>\n",
       "      <td>DER001_A375_96H_X1_B7_DUO52HI53LO:N02</td>\n",
       "      <td>DER001_A375_96H_X1_B7_DUO52HI53LO:N02</td>\n",
       "      <td>TRCN0000208001</td>\n",
       "      <td>EMPTY_VECTOR</td>\n",
       "      <td>ctl_vector</td>\n",
       "      <td>1.0</td>\n",
       "      <td>-666</td>\n",
       "      <td>-666</td>\n",
       "      <td>-666</td>\n",
       "      <td>-666</td>\n",
       "    </tr>\n",
       "    <tr>\n",
       "      <th>386266</th>\n",
       "      <td>386266</td>\n",
       "      <td>DER001_A375_96H_X1_B7_DUO52HI53LO:N03</td>\n",
       "      <td>DER001_A375_96H_X1_B7_DUO52HI53LO:N03</td>\n",
       "      <td>TRCN0000208001</td>\n",
       "      <td>EMPTY_VECTOR</td>\n",
       "      <td>ctl_vector</td>\n",
       "      <td>1.0</td>\n",
       "      <td>-666</td>\n",
       "      <td>-666</td>\n",
       "      <td>-666</td>\n",
       "      <td>-666</td>\n",
       "    </tr>\n",
       "  </tbody>\n",
       "</table>\n",
       "</div>"
      ],
      "text/plain": [
       "        Unnamed: 0                                   cell  \\\n",
       "386262      386262  DER001_A375_96H_X1_B7_DUO52HI53LO:B09   \n",
       "386263      386263  DER001_A375_96H_X1_B7_DUO52HI53LO:G03   \n",
       "386264      386264  DER001_A375_96H_X1_B7_DUO52HI53LO:I02   \n",
       "386265      386265  DER001_A375_96H_X1_B7_DUO52HI53LO:N02   \n",
       "386266      386266  DER001_A375_96H_X1_B7_DUO52HI53LO:N03   \n",
       "\n",
       "                                      inst_id         pert_id    pert_iname  \\\n",
       "386262  DER001_A375_96H_X1_B7_DUO52HI53LO:B09  TRCN0000208001  EMPTY_VECTOR   \n",
       "386263  DER001_A375_96H_X1_B7_DUO52HI53LO:G03  TRCN0000208001  EMPTY_VECTOR   \n",
       "386264  DER001_A375_96H_X1_B7_DUO52HI53LO:I02  TRCN0000208001  EMPTY_VECTOR   \n",
       "386265  DER001_A375_96H_X1_B7_DUO52HI53LO:N02  TRCN0000208001  EMPTY_VECTOR   \n",
       "386266  DER001_A375_96H_X1_B7_DUO52HI53LO:N03  TRCN0000208001  EMPTY_VECTOR   \n",
       "\n",
       "         pert_type  is_touchstone inchi_key_prefix inchi_key canonical_smiles  \\\n",
       "386262  ctl_vector            1.0             -666      -666             -666   \n",
       "386263  ctl_vector            1.0             -666      -666             -666   \n",
       "386264  ctl_vector            1.0             -666      -666             -666   \n",
       "386265  ctl_vector            1.0             -666      -666             -666   \n",
       "386266  ctl_vector            1.0             -666      -666             -666   \n",
       "\n",
       "       pubchem_cid  \n",
       "386262        -666  \n",
       "386263        -666  \n",
       "386264        -666  \n",
       "386265        -666  \n",
       "386266        -666  "
      ]
     },
     "execution_count": 12,
     "metadata": {},
     "output_type": "execute_result"
    }
   ],
   "source": [
    "perMeta_noSmile[perMeta_noSmile['pert_type'] == 'ctl_vector'].head()"
   ]
  },
  {
   "cell_type": "code",
   "execution_count": 13,
   "metadata": {},
   "outputs": [
    {
     "data": {
      "text/html": [
       "<div>\n",
       "<style scoped>\n",
       "    .dataframe tbody tr th:only-of-type {\n",
       "        vertical-align: middle;\n",
       "    }\n",
       "\n",
       "    .dataframe tbody tr th {\n",
       "        vertical-align: top;\n",
       "    }\n",
       "\n",
       "    .dataframe thead th {\n",
       "        text-align: right;\n",
       "    }\n",
       "</style>\n",
       "<table border=\"1\" class=\"dataframe\">\n",
       "  <thead>\n",
       "    <tr style=\"text-align: right;\">\n",
       "      <th></th>\n",
       "      <th>Unnamed: 0</th>\n",
       "      <th>cell</th>\n",
       "      <th>inst_id</th>\n",
       "      <th>pert_id</th>\n",
       "      <th>pert_iname</th>\n",
       "      <th>pert_type</th>\n",
       "      <th>is_touchstone</th>\n",
       "      <th>inchi_key_prefix</th>\n",
       "      <th>inchi_key</th>\n",
       "      <th>canonical_smiles</th>\n",
       "      <th>pubchem_cid</th>\n",
       "    </tr>\n",
       "  </thead>\n",
       "  <tbody>\n",
       "    <tr>\n",
       "      <th>390292</th>\n",
       "      <td>390292</td>\n",
       "      <td>CRCGN001_HA1E_6H_X1_F1B4_DUO52HI53LO:A06</td>\n",
       "      <td>CRCGN001_HA1E_6H_X1_F1B4_DUO52HI53LO:A06</td>\n",
       "      <td>CMAP-000</td>\n",
       "      <td>UnTrt</td>\n",
       "      <td>ctl_untrt</td>\n",
       "      <td>0.0</td>\n",
       "      <td>-666</td>\n",
       "      <td>-666</td>\n",
       "      <td>-666</td>\n",
       "      <td>-666</td>\n",
       "    </tr>\n",
       "    <tr>\n",
       "      <th>390293</th>\n",
       "      <td>390293</td>\n",
       "      <td>CRCGN001_HA1E_6H_X1_F1B4_DUO52HI53LO:A07</td>\n",
       "      <td>CRCGN001_HA1E_6H_X1_F1B4_DUO52HI53LO:A07</td>\n",
       "      <td>CMAP-000</td>\n",
       "      <td>UnTrt</td>\n",
       "      <td>ctl_untrt</td>\n",
       "      <td>0.0</td>\n",
       "      <td>-666</td>\n",
       "      <td>-666</td>\n",
       "      <td>-666</td>\n",
       "      <td>-666</td>\n",
       "    </tr>\n",
       "    <tr>\n",
       "      <th>390294</th>\n",
       "      <td>390294</td>\n",
       "      <td>CRCGN001_HA1E_6H_X1_F1B4_DUO52HI53LO:A08</td>\n",
       "      <td>CRCGN001_HA1E_6H_X1_F1B4_DUO52HI53LO:A08</td>\n",
       "      <td>CMAP-000</td>\n",
       "      <td>UnTrt</td>\n",
       "      <td>ctl_untrt</td>\n",
       "      <td>0.0</td>\n",
       "      <td>-666</td>\n",
       "      <td>-666</td>\n",
       "      <td>-666</td>\n",
       "      <td>-666</td>\n",
       "    </tr>\n",
       "    <tr>\n",
       "      <th>390295</th>\n",
       "      <td>390295</td>\n",
       "      <td>CRCGN001_HA1E_6H_X1_F1B4_DUO52HI53LO:A09</td>\n",
       "      <td>CRCGN001_HA1E_6H_X1_F1B4_DUO52HI53LO:A09</td>\n",
       "      <td>CMAP-000</td>\n",
       "      <td>UnTrt</td>\n",
       "      <td>ctl_untrt</td>\n",
       "      <td>0.0</td>\n",
       "      <td>-666</td>\n",
       "      <td>-666</td>\n",
       "      <td>-666</td>\n",
       "      <td>-666</td>\n",
       "    </tr>\n",
       "    <tr>\n",
       "      <th>390296</th>\n",
       "      <td>390296</td>\n",
       "      <td>CRCGN001_HA1E_6H_X1_F1B4_DUO52HI53LO:A10</td>\n",
       "      <td>CRCGN001_HA1E_6H_X1_F1B4_DUO52HI53LO:A10</td>\n",
       "      <td>CMAP-000</td>\n",
       "      <td>UnTrt</td>\n",
       "      <td>ctl_untrt</td>\n",
       "      <td>0.0</td>\n",
       "      <td>-666</td>\n",
       "      <td>-666</td>\n",
       "      <td>-666</td>\n",
       "      <td>-666</td>\n",
       "    </tr>\n",
       "  </tbody>\n",
       "</table>\n",
       "</div>"
      ],
      "text/plain": [
       "        Unnamed: 0                                      cell  \\\n",
       "390292      390292  CRCGN001_HA1E_6H_X1_F1B4_DUO52HI53LO:A06   \n",
       "390293      390293  CRCGN001_HA1E_6H_X1_F1B4_DUO52HI53LO:A07   \n",
       "390294      390294  CRCGN001_HA1E_6H_X1_F1B4_DUO52HI53LO:A08   \n",
       "390295      390295  CRCGN001_HA1E_6H_X1_F1B4_DUO52HI53LO:A09   \n",
       "390296      390296  CRCGN001_HA1E_6H_X1_F1B4_DUO52HI53LO:A10   \n",
       "\n",
       "                                         inst_id   pert_id pert_iname  \\\n",
       "390292  CRCGN001_HA1E_6H_X1_F1B4_DUO52HI53LO:A06  CMAP-000      UnTrt   \n",
       "390293  CRCGN001_HA1E_6H_X1_F1B4_DUO52HI53LO:A07  CMAP-000      UnTrt   \n",
       "390294  CRCGN001_HA1E_6H_X1_F1B4_DUO52HI53LO:A08  CMAP-000      UnTrt   \n",
       "390295  CRCGN001_HA1E_6H_X1_F1B4_DUO52HI53LO:A09  CMAP-000      UnTrt   \n",
       "390296  CRCGN001_HA1E_6H_X1_F1B4_DUO52HI53LO:A10  CMAP-000      UnTrt   \n",
       "\n",
       "        pert_type  is_touchstone inchi_key_prefix inchi_key canonical_smiles  \\\n",
       "390292  ctl_untrt            0.0             -666      -666             -666   \n",
       "390293  ctl_untrt            0.0             -666      -666             -666   \n",
       "390294  ctl_untrt            0.0             -666      -666             -666   \n",
       "390295  ctl_untrt            0.0             -666      -666             -666   \n",
       "390296  ctl_untrt            0.0             -666      -666             -666   \n",
       "\n",
       "       pubchem_cid  \n",
       "390292        -666  \n",
       "390293        -666  \n",
       "390294        -666  \n",
       "390295        -666  \n",
       "390296        -666  "
      ]
     },
     "execution_count": 13,
     "metadata": {},
     "output_type": "execute_result"
    }
   ],
   "source": [
    "perMeta_noSmile[perMeta_noSmile['pert_type'] == 'ctl_untrt'].head()"
   ]
  },
  {
   "cell_type": "code",
   "execution_count": 14,
   "metadata": {},
   "outputs": [
    {
     "data": {
      "text/html": [
       "<div>\n",
       "<style scoped>\n",
       "    .dataframe tbody tr th:only-of-type {\n",
       "        vertical-align: middle;\n",
       "    }\n",
       "\n",
       "    .dataframe tbody tr th {\n",
       "        vertical-align: top;\n",
       "    }\n",
       "\n",
       "    .dataframe thead th {\n",
       "        text-align: right;\n",
       "    }\n",
       "</style>\n",
       "<table border=\"1\" class=\"dataframe\">\n",
       "  <thead>\n",
       "    <tr style=\"text-align: right;\">\n",
       "      <th></th>\n",
       "      <th>Unnamed: 0</th>\n",
       "      <th>cell</th>\n",
       "      <th>inst_id</th>\n",
       "      <th>pert_id</th>\n",
       "      <th>pert_iname</th>\n",
       "      <th>pert_type</th>\n",
       "      <th>is_touchstone</th>\n",
       "      <th>inchi_key_prefix</th>\n",
       "      <th>inchi_key</th>\n",
       "      <th>canonical_smiles</th>\n",
       "      <th>pubchem_cid</th>\n",
       "    </tr>\n",
       "  </thead>\n",
       "  <tbody>\n",
       "    <tr>\n",
       "      <th>562809</th>\n",
       "      <td>562809</td>\n",
       "      <td>HSF001_HEK293T_48H_X1_B7_DUO52HI53LO:I21</td>\n",
       "      <td>HSF001_HEK293T_48H_X1_B7_DUO52HI53LO:I21</td>\n",
       "      <td>CMAP-HSF-ABL1</td>\n",
       "      <td>ABL1</td>\n",
       "      <td>trt_oe</td>\n",
       "      <td>0.0</td>\n",
       "      <td>-666</td>\n",
       "      <td>-666</td>\n",
       "      <td>-666</td>\n",
       "      <td>-666</td>\n",
       "    </tr>\n",
       "    <tr>\n",
       "      <th>562810</th>\n",
       "      <td>562810</td>\n",
       "      <td>HSF001_HEK293T_48H_X1_B7_DUO52HI53LO:I22</td>\n",
       "      <td>HSF001_HEK293T_48H_X1_B7_DUO52HI53LO:I22</td>\n",
       "      <td>CMAP-HSF-ABL1</td>\n",
       "      <td>ABL1</td>\n",
       "      <td>trt_oe</td>\n",
       "      <td>0.0</td>\n",
       "      <td>-666</td>\n",
       "      <td>-666</td>\n",
       "      <td>-666</td>\n",
       "      <td>-666</td>\n",
       "    </tr>\n",
       "    <tr>\n",
       "      <th>562811</th>\n",
       "      <td>562811</td>\n",
       "      <td>HSF001_HEK293T_48H_X1_B7_DUO52HI53LO:J21</td>\n",
       "      <td>HSF001_HEK293T_48H_X1_B7_DUO52HI53LO:J21</td>\n",
       "      <td>CMAP-HSF-ABL1</td>\n",
       "      <td>ABL1</td>\n",
       "      <td>trt_oe</td>\n",
       "      <td>0.0</td>\n",
       "      <td>-666</td>\n",
       "      <td>-666</td>\n",
       "      <td>-666</td>\n",
       "      <td>-666</td>\n",
       "    </tr>\n",
       "    <tr>\n",
       "      <th>562812</th>\n",
       "      <td>562812</td>\n",
       "      <td>HSF001_HEK293T_48H_X1_B7_DUO52HI53LO:J22</td>\n",
       "      <td>HSF001_HEK293T_48H_X1_B7_DUO52HI53LO:J22</td>\n",
       "      <td>CMAP-HSF-ABL1</td>\n",
       "      <td>ABL1</td>\n",
       "      <td>trt_oe</td>\n",
       "      <td>0.0</td>\n",
       "      <td>-666</td>\n",
       "      <td>-666</td>\n",
       "      <td>-666</td>\n",
       "      <td>-666</td>\n",
       "    </tr>\n",
       "    <tr>\n",
       "      <th>562813</th>\n",
       "      <td>562813</td>\n",
       "      <td>HSF006_HEK293T_48H_X1_B7_DUO52HI53LO:A17</td>\n",
       "      <td>HSF006_HEK293T_48H_X1_B7_DUO52HI53LO:A17</td>\n",
       "      <td>CMAP-HSF-ABL1</td>\n",
       "      <td>ABL1</td>\n",
       "      <td>trt_oe</td>\n",
       "      <td>0.0</td>\n",
       "      <td>-666</td>\n",
       "      <td>-666</td>\n",
       "      <td>-666</td>\n",
       "      <td>-666</td>\n",
       "    </tr>\n",
       "  </tbody>\n",
       "</table>\n",
       "</div>"
      ],
      "text/plain": [
       "        Unnamed: 0                                      cell  \\\n",
       "562809      562809  HSF001_HEK293T_48H_X1_B7_DUO52HI53LO:I21   \n",
       "562810      562810  HSF001_HEK293T_48H_X1_B7_DUO52HI53LO:I22   \n",
       "562811      562811  HSF001_HEK293T_48H_X1_B7_DUO52HI53LO:J21   \n",
       "562812      562812  HSF001_HEK293T_48H_X1_B7_DUO52HI53LO:J22   \n",
       "562813      562813  HSF006_HEK293T_48H_X1_B7_DUO52HI53LO:A17   \n",
       "\n",
       "                                         inst_id        pert_id pert_iname  \\\n",
       "562809  HSF001_HEK293T_48H_X1_B7_DUO52HI53LO:I21  CMAP-HSF-ABL1       ABL1   \n",
       "562810  HSF001_HEK293T_48H_X1_B7_DUO52HI53LO:I22  CMAP-HSF-ABL1       ABL1   \n",
       "562811  HSF001_HEK293T_48H_X1_B7_DUO52HI53LO:J21  CMAP-HSF-ABL1       ABL1   \n",
       "562812  HSF001_HEK293T_48H_X1_B7_DUO52HI53LO:J22  CMAP-HSF-ABL1       ABL1   \n",
       "562813  HSF006_HEK293T_48H_X1_B7_DUO52HI53LO:A17  CMAP-HSF-ABL1       ABL1   \n",
       "\n",
       "       pert_type  is_touchstone inchi_key_prefix inchi_key canonical_smiles  \\\n",
       "562809    trt_oe            0.0             -666      -666             -666   \n",
       "562810    trt_oe            0.0             -666      -666             -666   \n",
       "562811    trt_oe            0.0             -666      -666             -666   \n",
       "562812    trt_oe            0.0             -666      -666             -666   \n",
       "562813    trt_oe            0.0             -666      -666             -666   \n",
       "\n",
       "       pubchem_cid  \n",
       "562809        -666  \n",
       "562810        -666  \n",
       "562811        -666  \n",
       "562812        -666  \n",
       "562813        -666  "
      ]
     },
     "execution_count": 14,
     "metadata": {},
     "output_type": "execute_result"
    }
   ],
   "source": [
    "perMeta_noSmile[perMeta_noSmile['pert_type'] == 'trt_oe'].head()"
   ]
  },
  {
   "cell_type": "code",
   "execution_count": 15,
   "metadata": {},
   "outputs": [
    {
     "data": {
      "text/html": [
       "<div>\n",
       "<style scoped>\n",
       "    .dataframe tbody tr th:only-of-type {\n",
       "        vertical-align: middle;\n",
       "    }\n",
       "\n",
       "    .dataframe tbody tr th {\n",
       "        vertical-align: top;\n",
       "    }\n",
       "\n",
       "    .dataframe thead th {\n",
       "        text-align: right;\n",
       "    }\n",
       "</style>\n",
       "<table border=\"1\" class=\"dataframe\">\n",
       "  <thead>\n",
       "    <tr style=\"text-align: right;\">\n",
       "      <th></th>\n",
       "      <th>Unnamed: 0</th>\n",
       "      <th>cell</th>\n",
       "      <th>inst_id</th>\n",
       "      <th>pert_id</th>\n",
       "      <th>pert_iname</th>\n",
       "      <th>pert_type</th>\n",
       "      <th>is_touchstone</th>\n",
       "      <th>inchi_key_prefix</th>\n",
       "      <th>inchi_key</th>\n",
       "      <th>canonical_smiles</th>\n",
       "      <th>pubchem_cid</th>\n",
       "    </tr>\n",
       "  </thead>\n",
       "  <tbody>\n",
       "    <tr>\n",
       "      <th>1295899</th>\n",
       "      <td>1295899</td>\n",
       "      <td>HSF033_HEK293T_48H_X1_B12:A20</td>\n",
       "      <td>HSF033_HEK293T_48H_X1_B12:A20</td>\n",
       "      <td>ABL1_G2A</td>\n",
       "      <td>ABL1</td>\n",
       "      <td>trt_oe.mut</td>\n",
       "      <td>0.0</td>\n",
       "      <td>-666</td>\n",
       "      <td>-666</td>\n",
       "      <td>-666</td>\n",
       "      <td>-666</td>\n",
       "    </tr>\n",
       "    <tr>\n",
       "      <th>1295900</th>\n",
       "      <td>1295900</td>\n",
       "      <td>HSF033_HEK293T_48H_X2_B12:A20</td>\n",
       "      <td>HSF033_HEK293T_48H_X2_B12:A20</td>\n",
       "      <td>ABL1_G2A</td>\n",
       "      <td>ABL1</td>\n",
       "      <td>trt_oe.mut</td>\n",
       "      <td>0.0</td>\n",
       "      <td>-666</td>\n",
       "      <td>-666</td>\n",
       "      <td>-666</td>\n",
       "      <td>-666</td>\n",
       "    </tr>\n",
       "    <tr>\n",
       "      <th>1295901</th>\n",
       "      <td>1295901</td>\n",
       "      <td>HSF034_HEK293T_48H_X1_B12:A20</td>\n",
       "      <td>HSF034_HEK293T_48H_X1_B12:A20</td>\n",
       "      <td>ABL1_G2A</td>\n",
       "      <td>ABL1</td>\n",
       "      <td>trt_oe.mut</td>\n",
       "      <td>0.0</td>\n",
       "      <td>-666</td>\n",
       "      <td>-666</td>\n",
       "      <td>-666</td>\n",
       "      <td>-666</td>\n",
       "    </tr>\n",
       "    <tr>\n",
       "      <th>1295902</th>\n",
       "      <td>1295902</td>\n",
       "      <td>HSF034_HEK293T_48H_X2_B12:A20</td>\n",
       "      <td>HSF034_HEK293T_48H_X2_B12:A20</td>\n",
       "      <td>ABL1_G2A</td>\n",
       "      <td>ABL1</td>\n",
       "      <td>trt_oe.mut</td>\n",
       "      <td>0.0</td>\n",
       "      <td>-666</td>\n",
       "      <td>-666</td>\n",
       "      <td>-666</td>\n",
       "      <td>-666</td>\n",
       "    </tr>\n",
       "    <tr>\n",
       "      <th>1295903</th>\n",
       "      <td>1295903</td>\n",
       "      <td>HSF035_HEK293T_48H_X1_B12:A20</td>\n",
       "      <td>HSF035_HEK293T_48H_X1_B12:A20</td>\n",
       "      <td>ABL1_G2A</td>\n",
       "      <td>ABL1</td>\n",
       "      <td>trt_oe.mut</td>\n",
       "      <td>0.0</td>\n",
       "      <td>-666</td>\n",
       "      <td>-666</td>\n",
       "      <td>-666</td>\n",
       "      <td>-666</td>\n",
       "    </tr>\n",
       "  </tbody>\n",
       "</table>\n",
       "</div>"
      ],
      "text/plain": [
       "         Unnamed: 0                           cell  \\\n",
       "1295899     1295899  HSF033_HEK293T_48H_X1_B12:A20   \n",
       "1295900     1295900  HSF033_HEK293T_48H_X2_B12:A20   \n",
       "1295901     1295901  HSF034_HEK293T_48H_X1_B12:A20   \n",
       "1295902     1295902  HSF034_HEK293T_48H_X2_B12:A20   \n",
       "1295903     1295903  HSF035_HEK293T_48H_X1_B12:A20   \n",
       "\n",
       "                               inst_id   pert_id pert_iname   pert_type  \\\n",
       "1295899  HSF033_HEK293T_48H_X1_B12:A20  ABL1_G2A       ABL1  trt_oe.mut   \n",
       "1295900  HSF033_HEK293T_48H_X2_B12:A20  ABL1_G2A       ABL1  trt_oe.mut   \n",
       "1295901  HSF034_HEK293T_48H_X1_B12:A20  ABL1_G2A       ABL1  trt_oe.mut   \n",
       "1295902  HSF034_HEK293T_48H_X2_B12:A20  ABL1_G2A       ABL1  trt_oe.mut   \n",
       "1295903  HSF035_HEK293T_48H_X1_B12:A20  ABL1_G2A       ABL1  trt_oe.mut   \n",
       "\n",
       "         is_touchstone inchi_key_prefix inchi_key canonical_smiles pubchem_cid  \n",
       "1295899            0.0             -666      -666             -666        -666  \n",
       "1295900            0.0             -666      -666             -666        -666  \n",
       "1295901            0.0             -666      -666             -666        -666  \n",
       "1295902            0.0             -666      -666             -666        -666  \n",
       "1295903            0.0             -666      -666             -666        -666  "
      ]
     },
     "execution_count": 15,
     "metadata": {},
     "output_type": "execute_result"
    }
   ],
   "source": [
    "perMeta_noSmile[perMeta_noSmile['pert_type'] == 'trt_oe.mut'].head()"
   ]
  },
  {
   "cell_type": "code",
   "execution_count": 20,
   "metadata": {},
   "outputs": [
    {
     "data": {
      "text/plain": [
       "(3810, 11)"
      ]
     },
     "execution_count": 20,
     "metadata": {},
     "output_type": "execute_result"
    }
   ],
   "source": [
    "perMeta_noSmile[perMeta_noSmile['pert_type'] == 'trt_oe.mut']"
   ]
  },
  {
   "cell_type": "code",
   "execution_count": 14,
   "metadata": {},
   "outputs": [
    {
     "data": {
      "text/html": [
       "<div>\n",
       "<style scoped>\n",
       "    .dataframe tbody tr th:only-of-type {\n",
       "        vertical-align: middle;\n",
       "    }\n",
       "\n",
       "    .dataframe tbody tr th {\n",
       "        vertical-align: top;\n",
       "    }\n",
       "\n",
       "    .dataframe thead th {\n",
       "        text-align: right;\n",
       "    }\n",
       "</style>\n",
       "<table border=\"1\" class=\"dataframe\">\n",
       "  <thead>\n",
       "    <tr style=\"text-align: right;\">\n",
       "      <th></th>\n",
       "      <th>pr_gene_id</th>\n",
       "      <th>pr_gene_symbol</th>\n",
       "      <th>pr_gene_title</th>\n",
       "      <th>pr_is_lm</th>\n",
       "      <th>pr_is_bing</th>\n",
       "    </tr>\n",
       "  </thead>\n",
       "  <tbody>\n",
       "    <tr>\n",
       "      <th>0</th>\n",
       "      <td>780</td>\n",
       "      <td>DDR1</td>\n",
       "      <td>discoidin domain receptor tyrosine kinase 1</td>\n",
       "      <td>1</td>\n",
       "      <td>1</td>\n",
       "    </tr>\n",
       "    <tr>\n",
       "      <th>1</th>\n",
       "      <td>7849</td>\n",
       "      <td>PAX8</td>\n",
       "      <td>paired box 8</td>\n",
       "      <td>1</td>\n",
       "      <td>1</td>\n",
       "    </tr>\n",
       "    <tr>\n",
       "      <th>2</th>\n",
       "      <td>2978</td>\n",
       "      <td>GUCA1A</td>\n",
       "      <td>guanylate cyclase activator 1A</td>\n",
       "      <td>0</td>\n",
       "      <td>0</td>\n",
       "    </tr>\n",
       "    <tr>\n",
       "      <th>3</th>\n",
       "      <td>2049</td>\n",
       "      <td>EPHB3</td>\n",
       "      <td>EPH receptor B3</td>\n",
       "      <td>0</td>\n",
       "      <td>1</td>\n",
       "    </tr>\n",
       "    <tr>\n",
       "      <th>4</th>\n",
       "      <td>2101</td>\n",
       "      <td>ESRRA</td>\n",
       "      <td>estrogen related receptor alpha</td>\n",
       "      <td>0</td>\n",
       "      <td>1</td>\n",
       "    </tr>\n",
       "  </tbody>\n",
       "</table>\n",
       "</div>"
      ],
      "text/plain": [
       "   pr_gene_id pr_gene_symbol                                pr_gene_title  \\\n",
       "0         780           DDR1  discoidin domain receptor tyrosine kinase 1   \n",
       "1        7849           PAX8                                 paired box 8   \n",
       "2        2978         GUCA1A               guanylate cyclase activator 1A   \n",
       "3        2049          EPHB3                              EPH receptor B3   \n",
       "4        2101          ESRRA              estrogen related receptor alpha   \n",
       "\n",
       "   pr_is_lm  pr_is_bing  \n",
       "0         1           1  \n",
       "1         1           1  \n",
       "2         0           0  \n",
       "3         0           1  \n",
       "4         0           1  "
      ]
     },
     "execution_count": 14,
     "metadata": {},
     "output_type": "execute_result"
    }
   ],
   "source": [
    "pdata = pd.read_csv(\"GSE92742_Broad_LINCS_gene_info.txt.gz\", compression='gzip', sep=\"\\t\")\n",
    "pdata.head()"
   ]
  },
  {
   "cell_type": "code",
   "execution_count": 15,
   "metadata": {},
   "outputs": [],
   "source": [
    "allGenes = set(list(pdata['pr_gene_symbol']))"
   ]
  },
  {
   "cell_type": "code",
   "execution_count": 21,
   "metadata": {},
   "outputs": [
    {
     "data": {
      "text/plain": [
       "(True, True)"
      ]
     },
     "execution_count": 21,
     "metadata": {},
     "output_type": "execute_result"
    }
   ],
   "source": [
    "'ABL1' in allGenes, 'ACHE' in allGenes"
   ]
  },
  {
   "cell_type": "code",
   "execution_count": 22,
   "metadata": {},
   "outputs": [
    {
     "data": {
      "text/plain": [
       "False"
      ]
     },
     "execution_count": 22,
     "metadata": {},
     "output_type": "execute_result"
    }
   ],
   "source": [
    "'PBS' in allGenes"
   ]
  },
  {
   "cell_type": "code",
   "execution_count": 24,
   "metadata": {},
   "outputs": [
    {
     "data": {
      "text/plain": [
       "array(['BRD-U32049204', 'BRD-U88878891', 'KU-C104220', ..., 'TPM3-PDGFRB',\n",
       "       'TPM4-ALK', 'TPR-MET'], dtype=object)"
      ]
     },
     "execution_count": 24,
     "metadata": {},
     "output_type": "execute_result"
    }
   ],
   "source": [
    "perMeta_noSmile['pert_iname'].unique()"
   ]
  },
  {
   "cell_type": "code",
   "execution_count": 17,
   "metadata": {},
   "outputs": [
    {
     "data": {
      "text/plain": [
       "True"
      ]
     },
     "execution_count": 17,
     "metadata": {},
     "output_type": "execute_result"
    }
   ],
   "source": [
    "'ADPGK' in allGenes"
   ]
  },
  {
   "cell_type": "markdown",
   "metadata": {},
   "source": [
    "# Fine-tune GenotypeVAE"
   ]
  },
  {
   "cell_type": "code",
   "execution_count": 1,
   "metadata": {},
   "outputs": [
    {
     "name": "stderr",
     "output_type": "stream",
     "text": [
      "/Users/hengshiyu/opt/anaconda3/lib/python3.8/site-packages/IPython/core/interactiveshell.py:3165: DtypeWarning: Columns (7,8,9,10) have mixed types.Specify dtype option on import or set low_memory=False.\n",
      "  has_raised = await self.run_ast_nodes(code_ast.body, cell_name,\n"
     ]
    }
   ],
   "source": [
    "import pandas as pd\n",
    "perMeta = pd.read_csv('GSE92742_Broad_LINCS_Level3_INF_mlr12k_n1319138x12328_processed_PerturbMeta.csv')\n",
    "perMeta_trtSh = perMeta[(perMeta['pert_type'] == 'trt_sh')]\n",
    "genes = perMeta_trtSh['pert_iname'].unique()\n"
   ]
  },
  {
   "cell_type": "code",
   "execution_count": 3,
   "metadata": {},
   "outputs": [
    {
     "data": {
      "text/plain": [
       "(4371,)"
      ]
     },
     "execution_count": 3,
     "metadata": {},
     "output_type": "execute_result"
    }
   ],
   "source": [
    "genes.shape"
   ]
  },
  {
   "cell_type": "code",
   "execution_count": 6,
   "metadata": {},
   "outputs": [],
   "source": [
    "import numpy as np\n",
    "genes_with_anno = np.load('UniqueGenePerturbGene.npy', allow_pickle=True)"
   ]
  },
  {
   "cell_type": "code",
   "execution_count": 7,
   "metadata": {},
   "outputs": [
    {
     "data": {
      "text/plain": [
       "(4109,)"
      ]
     },
     "execution_count": 7,
     "metadata": {},
     "output_type": "execute_result"
    }
   ],
   "source": [
    "genes_with_anno.shape"
   ]
  },
  {
   "cell_type": "code",
   "execution_count": 8,
   "metadata": {},
   "outputs": [],
   "source": [
    "a = np.random.choice(genes_with_anno, 400, replace = False)\n"
   ]
  },
  {
   "cell_type": "code",
   "execution_count": 9,
   "metadata": {},
   "outputs": [
    {
     "data": {
      "text/plain": [
       "(400,)"
      ]
     },
     "execution_count": 9,
     "metadata": {},
     "output_type": "execute_result"
    }
   ],
   "source": [
    "np.unique(a).shape"
   ]
  },
  {
   "cell_type": "code",
   "execution_count": 10,
   "metadata": {},
   "outputs": [],
   "source": [
    "np.save(\"./LINCS_400RemovedGeneticPerturbs.npy\", a)"
   ]
  },
  {
   "cell_type": "code",
   "execution_count": 2,
   "metadata": {},
   "outputs": [
    {
     "data": {
      "text/plain": [
       "(4371,)"
      ]
     },
     "execution_count": 2,
     "metadata": {},
     "output_type": "execute_result"
    }
   ],
   "source": [
    "genes.shape"
   ]
  },
  {
   "cell_type": "code",
   "execution_count": 3,
   "metadata": {},
   "outputs": [
    {
     "data": {
      "text/plain": [
       "array(['A0A087WT57', 'A0A087WUV0', 'A0A087WVE0', ..., 'ZZZ3',\n",
       "       'hCG_1642624', 'hCG_2014768'], dtype='<U15')"
      ]
     },
     "execution_count": 3,
     "metadata": {},
     "output_type": "execute_result"
    }
   ],
   "source": [
    "gene_data"
   ]
  },
  {
   "cell_type": "code",
   "execution_count": 4,
   "metadata": {},
   "outputs": [
    {
     "data": {
      "text/plain": [
       "array(['ADPGK', 'AK3', 'AKR1C2', ..., 'SRMS', 'STK4', 'TNK1'],\n",
       "      dtype=object)"
      ]
     },
     "execution_count": 4,
     "metadata": {},
     "output_type": "execute_result"
    }
   ],
   "source": [
    "genes"
   ]
  },
  {
   "cell_type": "code",
   "execution_count": 7,
   "metadata": {},
   "outputs": [],
   "source": [
    "indices_with_anno = []\n",
    "indices_lib = []\n",
    "\n",
    "for i in range(genes.shape[0]):\n",
    "    gene = genes[i]\n",
    "    indice = np.where(gene_data == gene)[0]\n",
    "    \n",
    "    if len(indice) != 0:\n",
    "        indices_with_anno.append(i)\n",
    "        indices_lib.append(indice[0])"
   ]
  },
  {
   "cell_type": "code",
   "execution_count": 8,
   "metadata": {},
   "outputs": [
    {
     "data": {
      "text/plain": [
       "4109"
      ]
     },
     "execution_count": 8,
     "metadata": {},
     "output_type": "execute_result"
    }
   ],
   "source": [
    "len(set(gene_data) & set(genes))"
   ]
  },
  {
   "cell_type": "code",
   "execution_count": 9,
   "metadata": {},
   "outputs": [
    {
     "data": {
      "text/plain": [
       "(4109, 4109)"
      ]
     },
     "execution_count": 9,
     "metadata": {},
     "output_type": "execute_result"
    }
   ],
   "source": [
    "len(indices_with_anno), len(indices_lib)"
   ]
  },
  {
   "cell_type": "code",
   "execution_count": 11,
   "metadata": {},
   "outputs": [],
   "source": [
    "onehot_data = np.zeros((len(indices_lib), len(gene_data)))"
   ]
  },
  {
   "cell_type": "code",
   "execution_count": 13,
   "metadata": {},
   "outputs": [],
   "source": [
    "for i in range(len(indices_lib)):\n",
    "    j = indices_lib[i]\n",
    "    onehot_data[i, j] = 1"
   ]
  },
  {
   "cell_type": "code",
   "execution_count": 16,
   "metadata": {},
   "outputs": [
    {
     "data": {
      "text/plain": [
       "array([1., 1., 1., ..., 1., 1., 1.])"
      ]
     },
     "execution_count": 16,
     "metadata": {},
     "output_type": "execute_result"
    }
   ],
   "source": [
    "onehot_data.sum(1)"
   ]
  },
  {
   "cell_type": "code",
   "execution_count": 17,
   "metadata": {},
   "outputs": [],
   "source": [
    "np.save('UniqueGenePerturbOnehot.npy', onehot_data)"
   ]
  },
  {
   "cell_type": "code",
   "execution_count": 18,
   "metadata": {},
   "outputs": [],
   "source": [
    "np.save('UniqueGenePerturbGene.npy', genes[indices_with_anno])"
   ]
  },
  {
   "cell_type": "code",
   "execution_count": 19,
   "metadata": {},
   "outputs": [
    {
     "data": {
      "text/plain": [
       "'/nfs/turbo/umms-welchjd/hengshi/perturb_gan/data/LINCS'"
      ]
     },
     "execution_count": 19,
     "metadata": {},
     "output_type": "execute_result"
    }
   ],
   "source": [
    "pwd"
   ]
  },
  {
   "cell_type": "code",
   "execution_count": null,
   "metadata": {},
   "outputs": [],
   "source": []
  }
 ],
 "metadata": {
  "kernelspec": {
   "display_name": "Python 3",
   "language": "python",
   "name": "python3"
  },
  "language_info": {
   "codemirror_mode": {
    "name": "ipython",
    "version": 3
   },
   "file_extension": ".py",
   "mimetype": "text/x-python",
   "name": "python",
   "nbconvert_exporter": "python",
   "pygments_lexer": "ipython3",
   "version": "3.8.8"
  }
 },
 "nbformat": 4,
 "nbformat_minor": 2
}
