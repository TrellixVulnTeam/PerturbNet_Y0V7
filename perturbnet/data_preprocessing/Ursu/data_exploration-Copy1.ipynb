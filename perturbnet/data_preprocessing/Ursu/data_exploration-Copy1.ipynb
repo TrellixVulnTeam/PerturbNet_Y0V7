{
 "cells": [
  {
   "cell_type": "code",
   "execution_count": 1,
   "metadata": {},
   "outputs": [],
   "source": [
    "import pandas as pd\n",
    "import scanpy as sc"
   ]
  },
  {
   "cell_type": "code",
   "execution_count": 2,
   "metadata": {},
   "outputs": [],
   "source": [
    "import numpy as np\n",
    "\n",
    "from scipy import sparse"
   ]
  },
  {
   "cell_type": "code",
   "execution_count": 3,
   "metadata": {},
   "outputs": [],
   "source": [
    "from anndata import AnnData"
   ]
  },
  {
   "cell_type": "code",
   "execution_count": null,
   "metadata": {},
   "outputs": [
    {
     "name": "stdout",
     "output_type": "stream",
     "text": [
      "WARNING: Your filename has more than two extensions: ['.rawcounts', '.matrix', '.mtx'].\n",
      "Only considering the two last: ['.matrix', '.mtx'].\n",
      "WARNING: Your filename has more than two extensions: ['.rawcounts', '.matrix', '.mtx'].\n",
      "Only considering the two last: ['.matrix', '.mtx'].\n"
     ]
    }
   ],
   "source": [
    "adata = sc.read('GSE161824_A549_KRAS.rawcounts.matrix.mtx')"
   ]
  },
  {
   "cell_type": "code",
   "execution_count": null,
   "metadata": {},
   "outputs": [],
   "source": [
    "adata.var"
   ]
  },
  {
   "cell_type": "code",
   "execution_count": 22,
   "metadata": {},
   "outputs": [],
   "source": [
    "obs_names = pd.read_csv('GSE161824_A549_KRAS.rawcounts.cells.csv.gz', header = None,  compression = 'gzip')\n",
    "var_names = pd.read_csv('GSE161824_A549_KRAS.rawcounts.genes.csv.gz', header = None, compression = 'gzip')"
   ]
  },
  {
   "cell_type": "code",
   "execution_count": 23,
   "metadata": {},
   "outputs": [
    {
     "data": {
      "text/plain": [
       "((150044,), (150044, 1))"
      ]
     },
     "execution_count": 23,
     "metadata": {},
     "output_type": "execute_result"
    }
   ],
   "source": [
    "obs_names[0].unique().shape, obs_names.shape"
   ]
  },
  {
   "cell_type": "code",
   "execution_count": 24,
   "metadata": {},
   "outputs": [
    {
     "data": {
      "text/html": [
       "<div>\n",
       "<style scoped>\n",
       "    .dataframe tbody tr th:only-of-type {\n",
       "        vertical-align: middle;\n",
       "    }\n",
       "\n",
       "    .dataframe tbody tr th {\n",
       "        vertical-align: top;\n",
       "    }\n",
       "\n",
       "    .dataframe thead th {\n",
       "        text-align: right;\n",
       "    }\n",
       "</style>\n",
       "<table border=\"1\" class=\"dataframe\">\n",
       "  <thead>\n",
       "    <tr style=\"text-align: right;\">\n",
       "      <th></th>\n",
       "      <th>0</th>\n",
       "    </tr>\n",
       "  </thead>\n",
       "  <tbody>\n",
       "  </tbody>\n",
       "</table>\n",
       "</div>"
      ],
      "text/plain": [
       "Empty DataFrame\n",
       "Columns: [0]\n",
       "Index: []"
      ]
     },
     "execution_count": 24,
     "metadata": {},
     "output_type": "execute_result"
    }
   ],
   "source": [
    "obs_names[obs_names[0] == 'GGAACTTGTAGCTTGT']"
   ]
  },
  {
   "cell_type": "code",
   "execution_count": 25,
   "metadata": {},
   "outputs": [
    {
     "data": {
      "text/plain": [
       "((150044, 24491), (150044, 1), (24491, 1))"
      ]
     },
     "execution_count": 25,
     "metadata": {},
     "output_type": "execute_result"
    }
   ],
   "source": [
    "adata.shape, obs_names.shape, var_names.shape"
   ]
  },
  {
   "cell_type": "code",
   "execution_count": 26,
   "metadata": {},
   "outputs": [],
   "source": [
    "adata.obs = obs_names\n",
    "adata.var = var_names"
   ]
  },
  {
   "cell_type": "code",
   "execution_count": 27,
   "metadata": {},
   "outputs": [
    {
     "data": {
      "text/plain": [
       "((24491,), (150044, 24491), (150044,))"
      ]
     },
     "execution_count": 27,
     "metadata": {},
     "output_type": "execute_result"
    }
   ],
   "source": [
    "adata.var[0].unique().shape, adata.shape, adata.obs[0].unique().shape"
   ]
  },
  {
   "cell_type": "code",
   "execution_count": null,
   "metadata": {
    "scrolled": true
   },
   "outputs": [
    {
     "name": "stdout",
     "output_type": "stream",
     "text": [
      "WARNING: Your filename has more than two extensions: ['.rawcounts', '.matrix', '.mtx'].\n",
      "Only considering the two last: ['.matrix', '.mtx'].\n",
      "WARNING: Your filename has more than two extensions: ['.rawcounts', '.matrix', '.mtx'].\n",
      "Only considering the two last: ['.matrix', '.mtx'].\n"
     ]
    }
   ],
   "source": [
    "adata_tp53 = sc.read('GSE161824_A549_TP53.rawcounts.matrix.mtx')"
   ]
  },
  {
   "cell_type": "code",
   "execution_count": 9,
   "metadata": {},
   "outputs": [
    {
     "data": {
      "text/plain": [
       "(162314, 24868)"
      ]
     },
     "execution_count": 9,
     "metadata": {},
     "output_type": "execute_result"
    }
   ],
   "source": [
    "adata_tp53.shape"
   ]
  },
  {
   "cell_type": "code",
   "execution_count": 10,
   "metadata": {},
   "outputs": [],
   "source": [
    "obs_names_tp53 = pd.read_csv('GSE161824_A549_TP53.rawcounts.cells.csv.gz', header = None,  compression = 'gzip')\n",
    "var_names_tp53 = pd.read_csv('GSE161824_A549_TP53.rawcounts.genes.csv.gz', header = None, compression = 'gzip')"
   ]
  },
  {
   "cell_type": "code",
   "execution_count": 11,
   "metadata": {},
   "outputs": [
    {
     "data": {
      "text/plain": [
       "((162314, 1), (24868, 1))"
      ]
     },
     "execution_count": 11,
     "metadata": {},
     "output_type": "execute_result"
    }
   ],
   "source": [
    "obs_names_tp53.shape, var_names_tp53.shape"
   ]
  },
  {
   "cell_type": "code",
   "execution_count": 12,
   "metadata": {},
   "outputs": [],
   "source": [
    "adata_tp53.obs = obs_names_tp53\n",
    "adata_tp53.var = var_names_tp53"
   ]
  },
  {
   "cell_type": "code",
   "execution_count": 13,
   "metadata": {},
   "outputs": [
    {
     "data": {
      "text/html": [
       "<div>\n",
       "<style scoped>\n",
       "    .dataframe tbody tr th:only-of-type {\n",
       "        vertical-align: middle;\n",
       "    }\n",
       "\n",
       "    .dataframe tbody tr th {\n",
       "        vertical-align: top;\n",
       "    }\n",
       "\n",
       "    .dataframe thead th {\n",
       "        text-align: right;\n",
       "    }\n",
       "</style>\n",
       "<table border=\"1\" class=\"dataframe\">\n",
       "  <thead>\n",
       "    <tr style=\"text-align: right;\">\n",
       "      <th></th>\n",
       "      <th>0</th>\n",
       "    </tr>\n",
       "  </thead>\n",
       "  <tbody>\n",
       "    <tr>\n",
       "      <th>0</th>\n",
       "      <td>AAACCTGAGAATGTTG-1-0</td>\n",
       "    </tr>\n",
       "    <tr>\n",
       "      <th>1</th>\n",
       "      <td>AAACCTGAGCTAGCCC-1-0</td>\n",
       "    </tr>\n",
       "    <tr>\n",
       "      <th>2</th>\n",
       "      <td>AAACCTGAGGTCGGAT-1-0</td>\n",
       "    </tr>\n",
       "    <tr>\n",
       "      <th>3</th>\n",
       "      <td>AAACCTGAGGTGCAAC-1-0</td>\n",
       "    </tr>\n",
       "    <tr>\n",
       "      <th>4</th>\n",
       "      <td>AAACCTGAGTCCGTAT-1-0</td>\n",
       "    </tr>\n",
       "  </tbody>\n",
       "</table>\n",
       "</div>"
      ],
      "text/plain": [
       "                      0\n",
       "0  AAACCTGAGAATGTTG-1-0\n",
       "1  AAACCTGAGCTAGCCC-1-0\n",
       "2  AAACCTGAGGTCGGAT-1-0\n",
       "3  AAACCTGAGGTGCAAC-1-0\n",
       "4  AAACCTGAGTCCGTAT-1-0"
      ]
     },
     "execution_count": 13,
     "metadata": {},
     "output_type": "execute_result"
    }
   ],
   "source": [
    "obs_names_tp53.head()"
   ]
  },
  {
   "cell_type": "code",
   "execution_count": 14,
   "metadata": {},
   "outputs": [
    {
     "data": {
      "text/plain": [
       "1023"
      ]
     },
     "execution_count": 14,
     "metadata": {},
     "output_type": "execute_result"
    }
   ],
   "source": [
    "len(set(list(obs_names_tp53[0])) & set(list(obs_names[0])))"
   ]
  },
  {
   "cell_type": "code",
   "execution_count": 15,
   "metadata": {},
   "outputs": [
    {
     "data": {
      "text/plain": [
       "23984"
      ]
     },
     "execution_count": 15,
     "metadata": {},
     "output_type": "execute_result"
    }
   ],
   "source": [
    "len(set(list(var_names_tp53[0])) & set(list(var_names[0])))"
   ]
  },
  {
   "cell_type": "code",
   "execution_count": 16,
   "metadata": {},
   "outputs": [],
   "source": [
    "list_common_cells = list(set(list(obs_names_tp53[0])) & set(list(obs_names[0])))\n",
    "list_common_genes = list(set(list(var_names_tp53[0])) & set(list(var_names[0])))"
   ]
  },
  {
   "cell_type": "code",
   "execution_count": 17,
   "metadata": {},
   "outputs": [
    {
     "data": {
      "text/html": [
       "<div>\n",
       "<style scoped>\n",
       "    .dataframe tbody tr th:only-of-type {\n",
       "        vertical-align: middle;\n",
       "    }\n",
       "\n",
       "    .dataframe tbody tr th {\n",
       "        vertical-align: top;\n",
       "    }\n",
       "\n",
       "    .dataframe thead th {\n",
       "        text-align: right;\n",
       "    }\n",
       "</style>\n",
       "<table border=\"1\" class=\"dataframe\">\n",
       "  <thead>\n",
       "    <tr style=\"text-align: right;\">\n",
       "      <th></th>\n",
       "      <th>batch</th>\n",
       "      <th>n_counts</th>\n",
       "      <th>T20R</th>\n",
       "      <th>T158T</th>\n",
       "      <th>M111L</th>\n",
       "      <th>V112I</th>\n",
       "      <th>T50I</th>\n",
       "      <th>G13C</th>\n",
       "      <th>Q22H</th>\n",
       "      <th>L159S</th>\n",
       "      <th>...</th>\n",
       "      <th>S136N</th>\n",
       "      <th>E63K</th>\n",
       "      <th>I36M</th>\n",
       "      <th>A59T</th>\n",
       "      <th>A155G</th>\n",
       "      <th>A66A</th>\n",
       "      <th>T144T</th>\n",
       "      <th>variant</th>\n",
       "      <th>variant.detailed_multi</th>\n",
       "      <th>cell</th>\n",
       "    </tr>\n",
       "  </thead>\n",
       "  <tbody>\n",
       "    <tr>\n",
       "      <th>0</th>\n",
       "      <td>0</td>\n",
       "      <td>25694.0</td>\n",
       "      <td>0.0</td>\n",
       "      <td>0.0</td>\n",
       "      <td>0.0</td>\n",
       "      <td>0.0</td>\n",
       "      <td>0.0</td>\n",
       "      <td>0.0</td>\n",
       "      <td>0.0</td>\n",
       "      <td>0.0</td>\n",
       "      <td>...</td>\n",
       "      <td>0.0</td>\n",
       "      <td>0.0</td>\n",
       "      <td>0.0</td>\n",
       "      <td>0.0</td>\n",
       "      <td>0.0</td>\n",
       "      <td>0.0</td>\n",
       "      <td>0.0</td>\n",
       "      <td>unassigned</td>\n",
       "      <td>unassigned</td>\n",
       "      <td>AAACCTGCAACGCACC-1-0</td>\n",
       "    </tr>\n",
       "    <tr>\n",
       "      <th>1</th>\n",
       "      <td>0</td>\n",
       "      <td>34868.0</td>\n",
       "      <td>0.0</td>\n",
       "      <td>0.0</td>\n",
       "      <td>0.0</td>\n",
       "      <td>0.0</td>\n",
       "      <td>0.0</td>\n",
       "      <td>0.0</td>\n",
       "      <td>0.0</td>\n",
       "      <td>0.0</td>\n",
       "      <td>...</td>\n",
       "      <td>0.0</td>\n",
       "      <td>0.0</td>\n",
       "      <td>0.0</td>\n",
       "      <td>0.0</td>\n",
       "      <td>0.0</td>\n",
       "      <td>0.0</td>\n",
       "      <td>0.0</td>\n",
       "      <td>T50T</td>\n",
       "      <td>T50T</td>\n",
       "      <td>AAACCTGCAATGGTCT-1-0</td>\n",
       "    </tr>\n",
       "    <tr>\n",
       "      <th>2</th>\n",
       "      <td>0</td>\n",
       "      <td>25170.0</td>\n",
       "      <td>0.0</td>\n",
       "      <td>0.0</td>\n",
       "      <td>0.0</td>\n",
       "      <td>0.0</td>\n",
       "      <td>0.0</td>\n",
       "      <td>0.0</td>\n",
       "      <td>0.0</td>\n",
       "      <td>0.0</td>\n",
       "      <td>...</td>\n",
       "      <td>0.0</td>\n",
       "      <td>0.0</td>\n",
       "      <td>0.0</td>\n",
       "      <td>0.0</td>\n",
       "      <td>0.0</td>\n",
       "      <td>0.0</td>\n",
       "      <td>0.0</td>\n",
       "      <td>unassigned</td>\n",
       "      <td>unassigned</td>\n",
       "      <td>AAACCTGCAGGACGTA-1-0</td>\n",
       "    </tr>\n",
       "    <tr>\n",
       "      <th>3</th>\n",
       "      <td>0</td>\n",
       "      <td>31500.0</td>\n",
       "      <td>0.0</td>\n",
       "      <td>0.0</td>\n",
       "      <td>0.0</td>\n",
       "      <td>0.0</td>\n",
       "      <td>0.0</td>\n",
       "      <td>0.0</td>\n",
       "      <td>0.0</td>\n",
       "      <td>0.0</td>\n",
       "      <td>...</td>\n",
       "      <td>0.0</td>\n",
       "      <td>0.0</td>\n",
       "      <td>0.0</td>\n",
       "      <td>0.0</td>\n",
       "      <td>0.0</td>\n",
       "      <td>0.0</td>\n",
       "      <td>0.0</td>\n",
       "      <td>unassigned</td>\n",
       "      <td>unassigned</td>\n",
       "      <td>AAACCTGCAGTAAGAT-1-0</td>\n",
       "    </tr>\n",
       "    <tr>\n",
       "      <th>4</th>\n",
       "      <td>0</td>\n",
       "      <td>22654.0</td>\n",
       "      <td>0.0</td>\n",
       "      <td>0.0</td>\n",
       "      <td>0.0</td>\n",
       "      <td>0.0</td>\n",
       "      <td>0.0</td>\n",
       "      <td>0.0</td>\n",
       "      <td>0.0</td>\n",
       "      <td>0.0</td>\n",
       "      <td>...</td>\n",
       "      <td>0.0</td>\n",
       "      <td>0.0</td>\n",
       "      <td>0.0</td>\n",
       "      <td>0.0</td>\n",
       "      <td>0.0</td>\n",
       "      <td>0.0</td>\n",
       "      <td>0.0</td>\n",
       "      <td>T127T</td>\n",
       "      <td>T127T</td>\n",
       "      <td>AAACGGGAGACAGAGA-1-0</td>\n",
       "    </tr>\n",
       "  </tbody>\n",
       "</table>\n",
       "<p>5 rows × 103 columns</p>\n",
       "</div>"
      ],
      "text/plain": [
       "   batch  n_counts  T20R  T158T  M111L  V112I  T50I  G13C  Q22H  L159S  ...  \\\n",
       "0      0   25694.0   0.0    0.0    0.0    0.0   0.0   0.0   0.0    0.0  ...   \n",
       "1      0   34868.0   0.0    0.0    0.0    0.0   0.0   0.0   0.0    0.0  ...   \n",
       "2      0   25170.0   0.0    0.0    0.0    0.0   0.0   0.0   0.0    0.0  ...   \n",
       "3      0   31500.0   0.0    0.0    0.0    0.0   0.0   0.0   0.0    0.0  ...   \n",
       "4      0   22654.0   0.0    0.0    0.0    0.0   0.0   0.0   0.0    0.0  ...   \n",
       "\n",
       "   S136N  E63K  I36M  A59T  A155G  A66A  T144T     variant  \\\n",
       "0    0.0   0.0   0.0   0.0    0.0   0.0    0.0  unassigned   \n",
       "1    0.0   0.0   0.0   0.0    0.0   0.0    0.0        T50T   \n",
       "2    0.0   0.0   0.0   0.0    0.0   0.0    0.0  unassigned   \n",
       "3    0.0   0.0   0.0   0.0    0.0   0.0    0.0  unassigned   \n",
       "4    0.0   0.0   0.0   0.0    0.0   0.0    0.0       T127T   \n",
       "\n",
       "   variant.detailed_multi                  cell  \n",
       "0              unassigned  AAACCTGCAACGCACC-1-0  \n",
       "1                    T50T  AAACCTGCAATGGTCT-1-0  \n",
       "2              unassigned  AAACCTGCAGGACGTA-1-0  \n",
       "3              unassigned  AAACCTGCAGTAAGAT-1-0  \n",
       "4                   T127T  AAACGGGAGACAGAGA-1-0  \n",
       "\n",
       "[5 rows x 103 columns]"
      ]
     },
     "execution_count": 17,
     "metadata": {},
     "output_type": "execute_result"
    }
   ],
   "source": [
    "\n",
    "variant = pd.read_csv('GSE161824_A549_KRAS.variants2cell.csv.gz', compression = 'gzip', sep = '\\t')\n",
    "variant.head()\n"
   ]
  },
  {
   "cell_type": "code",
   "execution_count": 19,
   "metadata": {},
   "outputs": [
    {
     "data": {
      "text/html": [
       "<div>\n",
       "<style scoped>\n",
       "    .dataframe tbody tr th:only-of-type {\n",
       "        vertical-align: middle;\n",
       "    }\n",
       "\n",
       "    .dataframe tbody tr th {\n",
       "        vertical-align: top;\n",
       "    }\n",
       "\n",
       "    .dataframe thead th {\n",
       "        text-align: right;\n",
       "    }\n",
       "</style>\n",
       "<table border=\"1\" class=\"dataframe\">\n",
       "  <thead>\n",
       "    <tr style=\"text-align: right;\">\n",
       "      <th></th>\n",
       "      <th>batch</th>\n",
       "      <th>n_counts</th>\n",
       "      <th>T20R</th>\n",
       "      <th>T158T</th>\n",
       "      <th>M111L</th>\n",
       "      <th>V112I</th>\n",
       "      <th>T50I</th>\n",
       "      <th>G13C</th>\n",
       "      <th>Q22H</th>\n",
       "      <th>L159S</th>\n",
       "      <th>...</th>\n",
       "      <th>S136N</th>\n",
       "      <th>E63K</th>\n",
       "      <th>I36M</th>\n",
       "      <th>A59T</th>\n",
       "      <th>A155G</th>\n",
       "      <th>A66A</th>\n",
       "      <th>T144T</th>\n",
       "      <th>variant</th>\n",
       "      <th>variant.detailed_multi</th>\n",
       "      <th>cell</th>\n",
       "    </tr>\n",
       "  </thead>\n",
       "  <tbody>\n",
       "  </tbody>\n",
       "</table>\n",
       "<p>0 rows × 103 columns</p>\n",
       "</div>"
      ],
      "text/plain": [
       "Empty DataFrame\n",
       "Columns: [batch, n_counts, T20R, T158T, M111L, V112I, T50I, G13C, Q22H, L159S, K117R, T58I, G13V, A146V, I163S, Q25H, T50T, G12F, R41K, N26Y, A59E, G12C, R164Q, T158A, L19F, G60S, WT, C118S, K117N, P110S, Q61H, G12R, G77A, M170L, G75A, AG59GV, K178K, D30D, K169K, G12Y, T127T, K176Q, Q99E, Y166H, K147N, P34L, G12I, S17S, R149K, Q61P, L79I, A130V, C185Y, G13E, A146T, Q61R, F141L, Q61L, L52F, Q22K, V14L, T20T, V14I, T74T, K5E, P34R, D173D, G60D, AG11TD, R68S, D119G, G12A, R135T, K179R, A59G, D57N, K88K, K147T, G13R, V8V, T74A, T20M, G60V, A146P, Q61A, Q61K, G12S, E31K, T50P, T144P, G12D, G12V, D33E, S136N, E63K, I36M, A59T, A155G, A66A, T144T, ...]\n",
       "Index: []\n",
       "\n",
       "[0 rows x 103 columns]"
      ]
     },
     "execution_count": 19,
     "metadata": {},
     "output_type": "execute_result"
    }
   ],
   "source": [
    "variant[variant['cell'] == 'GGAACTTGTAGCTTGT']"
   ]
  },
  {
   "cell_type": "code",
   "execution_count": 18,
   "metadata": {},
   "outputs": [
    {
     "data": {
      "text/html": [
       "<div>\n",
       "<style scoped>\n",
       "    .dataframe tbody tr th:only-of-type {\n",
       "        vertical-align: middle;\n",
       "    }\n",
       "\n",
       "    .dataframe tbody tr th {\n",
       "        vertical-align: top;\n",
       "    }\n",
       "\n",
       "    .dataframe thead th {\n",
       "        text-align: right;\n",
       "    }\n",
       "</style>\n",
       "<table border=\"1\" class=\"dataframe\">\n",
       "  <thead>\n",
       "    <tr style=\"text-align: right;\">\n",
       "      <th></th>\n",
       "      <th>batch</th>\n",
       "      <th>n_counts</th>\n",
       "      <th>P152L</th>\n",
       "      <th>G245C</th>\n",
       "      <th>G245S</th>\n",
       "      <th>WT</th>\n",
       "      <th>C141Y</th>\n",
       "      <th>P222P</th>\n",
       "      <th>H214R</th>\n",
       "      <th>R337C</th>\n",
       "      <th>...</th>\n",
       "      <th>P47P</th>\n",
       "      <th>G266R</th>\n",
       "      <th>V157F</th>\n",
       "      <th>G245V</th>\n",
       "      <th>C238Y</th>\n",
       "      <th>S241C</th>\n",
       "      <th>V272M</th>\n",
       "      <th>variant</th>\n",
       "      <th>variant.detailed_multi</th>\n",
       "      <th>cell</th>\n",
       "    </tr>\n",
       "  </thead>\n",
       "  <tbody>\n",
       "    <tr>\n",
       "      <th>0</th>\n",
       "      <td>0</td>\n",
       "      <td>31030.0</td>\n",
       "      <td>0.0</td>\n",
       "      <td>0.0</td>\n",
       "      <td>0.0</td>\n",
       "      <td>0.0</td>\n",
       "      <td>0.0</td>\n",
       "      <td>0.0</td>\n",
       "      <td>0.0</td>\n",
       "      <td>0.0</td>\n",
       "      <td>...</td>\n",
       "      <td>0.0</td>\n",
       "      <td>0.0</td>\n",
       "      <td>0.0</td>\n",
       "      <td>0.0</td>\n",
       "      <td>0.0</td>\n",
       "      <td>0.0</td>\n",
       "      <td>0.0</td>\n",
       "      <td>G266E</td>\n",
       "      <td>G266E</td>\n",
       "      <td>AAACCTGAGAATGTTG-1-0</td>\n",
       "    </tr>\n",
       "    <tr>\n",
       "      <th>1</th>\n",
       "      <td>0</td>\n",
       "      <td>17061.0</td>\n",
       "      <td>0.0</td>\n",
       "      <td>0.0</td>\n",
       "      <td>0.0</td>\n",
       "      <td>0.0</td>\n",
       "      <td>0.0</td>\n",
       "      <td>0.0</td>\n",
       "      <td>0.0</td>\n",
       "      <td>0.0</td>\n",
       "      <td>...</td>\n",
       "      <td>0.0</td>\n",
       "      <td>0.0</td>\n",
       "      <td>0.0</td>\n",
       "      <td>0.0</td>\n",
       "      <td>0.0</td>\n",
       "      <td>0.0</td>\n",
       "      <td>0.0</td>\n",
       "      <td>G105C</td>\n",
       "      <td>G105C</td>\n",
       "      <td>AAACCTGAGCTAGCCC-1-0</td>\n",
       "    </tr>\n",
       "    <tr>\n",
       "      <th>2</th>\n",
       "      <td>0</td>\n",
       "      <td>31724.0</td>\n",
       "      <td>0.0</td>\n",
       "      <td>0.0</td>\n",
       "      <td>0.0</td>\n",
       "      <td>0.0</td>\n",
       "      <td>0.0</td>\n",
       "      <td>0.0</td>\n",
       "      <td>0.0</td>\n",
       "      <td>0.0</td>\n",
       "      <td>...</td>\n",
       "      <td>0.0</td>\n",
       "      <td>0.0</td>\n",
       "      <td>0.0</td>\n",
       "      <td>0.0</td>\n",
       "      <td>0.0</td>\n",
       "      <td>0.0</td>\n",
       "      <td>0.0</td>\n",
       "      <td>G105C</td>\n",
       "      <td>G105C</td>\n",
       "      <td>AAACCTGAGGTCGGAT-1-0</td>\n",
       "    </tr>\n",
       "    <tr>\n",
       "      <th>3</th>\n",
       "      <td>0</td>\n",
       "      <td>41329.0</td>\n",
       "      <td>0.0</td>\n",
       "      <td>0.0</td>\n",
       "      <td>0.0</td>\n",
       "      <td>0.0</td>\n",
       "      <td>0.0</td>\n",
       "      <td>0.0</td>\n",
       "      <td>0.0</td>\n",
       "      <td>0.0</td>\n",
       "      <td>...</td>\n",
       "      <td>2.0</td>\n",
       "      <td>0.0</td>\n",
       "      <td>0.0</td>\n",
       "      <td>0.0</td>\n",
       "      <td>0.0</td>\n",
       "      <td>0.0</td>\n",
       "      <td>0.0</td>\n",
       "      <td>P47P</td>\n",
       "      <td>P47P</td>\n",
       "      <td>AAACCTGAGGTGCAAC-1-0</td>\n",
       "    </tr>\n",
       "    <tr>\n",
       "      <th>4</th>\n",
       "      <td>0</td>\n",
       "      <td>20702.0</td>\n",
       "      <td>0.0</td>\n",
       "      <td>0.0</td>\n",
       "      <td>0.0</td>\n",
       "      <td>0.0</td>\n",
       "      <td>0.0</td>\n",
       "      <td>0.0</td>\n",
       "      <td>0.0</td>\n",
       "      <td>0.0</td>\n",
       "      <td>...</td>\n",
       "      <td>0.0</td>\n",
       "      <td>0.0</td>\n",
       "      <td>0.0</td>\n",
       "      <td>0.0</td>\n",
       "      <td>0.0</td>\n",
       "      <td>0.0</td>\n",
       "      <td>0.0</td>\n",
       "      <td>G360V</td>\n",
       "      <td>G360V</td>\n",
       "      <td>AAACCTGAGTCCGTAT-1-0</td>\n",
       "    </tr>\n",
       "  </tbody>\n",
       "</table>\n",
       "<p>5 rows × 104 columns</p>\n",
       "</div>"
      ],
      "text/plain": [
       "   batch  n_counts  P152L  G245C  G245S   WT  C141Y  P222P  H214R  R337C  ...  \\\n",
       "0      0   31030.0    0.0    0.0    0.0  0.0    0.0    0.0    0.0    0.0  ...   \n",
       "1      0   17061.0    0.0    0.0    0.0  0.0    0.0    0.0    0.0    0.0  ...   \n",
       "2      0   31724.0    0.0    0.0    0.0  0.0    0.0    0.0    0.0    0.0  ...   \n",
       "3      0   41329.0    0.0    0.0    0.0  0.0    0.0    0.0    0.0    0.0  ...   \n",
       "4      0   20702.0    0.0    0.0    0.0  0.0    0.0    0.0    0.0    0.0  ...   \n",
       "\n",
       "   P47P  G266R  V157F  G245V  C238Y  S241C  V272M  variant  \\\n",
       "0   0.0    0.0    0.0    0.0    0.0    0.0    0.0    G266E   \n",
       "1   0.0    0.0    0.0    0.0    0.0    0.0    0.0    G105C   \n",
       "2   0.0    0.0    0.0    0.0    0.0    0.0    0.0    G105C   \n",
       "3   2.0    0.0    0.0    0.0    0.0    0.0    0.0     P47P   \n",
       "4   0.0    0.0    0.0    0.0    0.0    0.0    0.0    G360V   \n",
       "\n",
       "   variant.detailed_multi                  cell  \n",
       "0                   G266E  AAACCTGAGAATGTTG-1-0  \n",
       "1                   G105C  AAACCTGAGCTAGCCC-1-0  \n",
       "2                   G105C  AAACCTGAGGTCGGAT-1-0  \n",
       "3                    P47P  AAACCTGAGGTGCAAC-1-0  \n",
       "4                   G360V  AAACCTGAGTCCGTAT-1-0  \n",
       "\n",
       "[5 rows x 104 columns]"
      ]
     },
     "execution_count": 18,
     "metadata": {},
     "output_type": "execute_result"
    }
   ],
   "source": [
    "\n",
    "variant_tp53 = pd.read_csv('GSE161824_A549_TP53.variants2cell.csv.gz', compression = 'gzip', sep = '\\t')\n",
    "variant_tp53.head()"
   ]
  },
  {
   "cell_type": "code",
   "execution_count": 19,
   "metadata": {},
   "outputs": [
    {
     "data": {
      "text/plain": [
       "(162314, (162314, 104), (162314, 1))"
      ]
     },
     "execution_count": 19,
     "metadata": {},
     "output_type": "execute_result"
    }
   ],
   "source": [
    "len(set(list(obs_names_tp53[0])) & set(list(variant_tp53['cell']))), variant_tp53.shape, obs_names_tp53.shape"
   ]
  },
  {
   "cell_type": "code",
   "execution_count": 20,
   "metadata": {},
   "outputs": [
    {
     "data": {
      "text/plain": [
       "(150044, (150044, 103), (150044, 1))"
      ]
     },
     "execution_count": 20,
     "metadata": {},
     "output_type": "execute_result"
    }
   ],
   "source": [
    "len(set(list(obs_names[0])) & set(list(variant['cell']))), variant.shape, obs_names.shape"
   ]
  },
  {
   "cell_type": "code",
   "execution_count": 21,
   "metadata": {},
   "outputs": [
    {
     "data": {
      "text/html": [
       "<div>\n",
       "<style scoped>\n",
       "    .dataframe tbody tr th:only-of-type {\n",
       "        vertical-align: middle;\n",
       "    }\n",
       "\n",
       "    .dataframe tbody tr th {\n",
       "        vertical-align: top;\n",
       "    }\n",
       "\n",
       "    .dataframe thead th {\n",
       "        text-align: right;\n",
       "    }\n",
       "</style>\n",
       "<table border=\"1\" class=\"dataframe\">\n",
       "  <thead>\n",
       "    <tr style=\"text-align: right;\">\n",
       "      <th></th>\n",
       "      <th>0</th>\n",
       "    </tr>\n",
       "  </thead>\n",
       "  <tbody>\n",
       "    <tr>\n",
       "      <th>0</th>\n",
       "      <td>AAACCTGCAACGCACC-1-0</td>\n",
       "    </tr>\n",
       "    <tr>\n",
       "      <th>1</th>\n",
       "      <td>AAACCTGCAATGGTCT-1-0</td>\n",
       "    </tr>\n",
       "    <tr>\n",
       "      <th>2</th>\n",
       "      <td>AAACCTGCAGGACGTA-1-0</td>\n",
       "    </tr>\n",
       "    <tr>\n",
       "      <th>3</th>\n",
       "      <td>AAACCTGCAGTAAGAT-1-0</td>\n",
       "    </tr>\n",
       "    <tr>\n",
       "      <th>4</th>\n",
       "      <td>AAACGGGAGACAGAGA-1-0</td>\n",
       "    </tr>\n",
       "  </tbody>\n",
       "</table>\n",
       "</div>"
      ],
      "text/plain": [
       "                      0\n",
       "0  AAACCTGCAACGCACC-1-0\n",
       "1  AAACCTGCAATGGTCT-1-0\n",
       "2  AAACCTGCAGGACGTA-1-0\n",
       "3  AAACCTGCAGTAAGAT-1-0\n",
       "4  AAACGGGAGACAGAGA-1-0"
      ]
     },
     "execution_count": 21,
     "metadata": {},
     "output_type": "execute_result"
    }
   ],
   "source": [
    "adata.obs.head()"
   ]
  },
  {
   "cell_type": "code",
   "execution_count": 22,
   "metadata": {},
   "outputs": [
    {
     "data": {
      "text/plain": [
       "23984"
      ]
     },
     "execution_count": 22,
     "metadata": {},
     "output_type": "execute_result"
    }
   ],
   "source": [
    "len(list_common_genes)"
   ]
  },
  {
   "cell_type": "code",
   "execution_count": 23,
   "metadata": {},
   "outputs": [],
   "source": [
    "cell_kras = np.array(list(obs_names[0]))\n",
    "cell_tp53 = np.array(list(obs_names_tp53[0]))"
   ]
  },
  {
   "cell_type": "code",
   "execution_count": 24,
   "metadata": {},
   "outputs": [],
   "source": [
    "cell_kras_common = [np.where(cell_kras == i)[0][0] for i in list_common_cells]\n",
    "cell_tp53_common = [np.where(cell_tp53 == i)[0][0] for i in list_common_cells]"
   ]
  },
  {
   "cell_type": "code",
   "execution_count": 25,
   "metadata": {},
   "outputs": [],
   "source": [
    "adata_kras_common = adata[cell_kras_common]\n",
    "adata_tp53_common = adata_tp53[cell_tp53_common]"
   ]
  },
  {
   "cell_type": "code",
   "execution_count": 26,
   "metadata": {},
   "outputs": [],
   "source": [
    "gene_kras = np.array(list(var_names[0]))\n",
    "gene_tp53 = np.array(list(var_names_tp53[0]))\n",
    "\n",
    "gene_kras_common = [np.where(gene_kras == i)[0][0] for i in list_common_genes]\n",
    "gene_tp53_common = [np.where(gene_tp53 == i)[0][0] for i in list_common_genes]"
   ]
  },
  {
   "cell_type": "code",
   "execution_count": null,
   "metadata": {},
   "outputs": [],
   "source": []
  },
  {
   "cell_type": "code",
   "execution_count": 27,
   "metadata": {},
   "outputs": [],
   "source": [
    "common_cell_diff = adata_kras_common.X.A[:, gene_kras_common] - adata_tp53_common.X.A[:, gene_tp53_common]"
   ]
  },
  {
   "cell_type": "code",
   "execution_count": 28,
   "metadata": {},
   "outputs": [
    {
     "data": {
      "text/plain": [
       "(-2753.0, 3837.0)"
      ]
     },
     "execution_count": 28,
     "metadata": {},
     "output_type": "execute_result"
    }
   ],
   "source": [
    "np.min(common_cell_diff), np.max(common_cell_diff)"
   ]
  },
  {
   "cell_type": "code",
   "execution_count": 29,
   "metadata": {},
   "outputs": [],
   "source": [
    "obs_names_kras_proc = pd.read_csv('GSE161824_A549_KRAS.processed.cells.csv.gz', header = None,  compression = 'gzip')\n",
    "obs_names_tp53_proc = pd.read_csv('GSE161824_A549_TP53.processed.cells.csv.gz', header = None,  compression = 'gzip')"
   ]
  },
  {
   "cell_type": "code",
   "execution_count": 30,
   "metadata": {},
   "outputs": [
    {
     "data": {
      "text/plain": [
       "((90262, 1), (150044,), (85778, 1), (162314,))"
      ]
     },
     "execution_count": 30,
     "metadata": {},
     "output_type": "execute_result"
    }
   ],
   "source": [
    "obs_names_kras_proc.shape, cell_kras.shape, obs_names_tp53_proc.shape, cell_tp53.shape"
   ]
  },
  {
   "cell_type": "code",
   "execution_count": 31,
   "metadata": {},
   "outputs": [],
   "source": [
    "list_common_cells = list(set(list(obs_names_tp53[0])) & set(list(obs_names[0])))"
   ]
  },
  {
   "cell_type": "code",
   "execution_count": 32,
   "metadata": {},
   "outputs": [],
   "source": [
    "list_common_cells_proc = list(set(list(obs_names_kras_proc[0])) & set(list(obs_names_tp53_proc[0])))"
   ]
  },
  {
   "cell_type": "code",
   "execution_count": 33,
   "metadata": {},
   "outputs": [
    {
     "data": {
      "text/plain": [
       "326"
      ]
     },
     "execution_count": 33,
     "metadata": {},
     "output_type": "execute_result"
    }
   ],
   "source": [
    "len(list_common_cells_proc)"
   ]
  },
  {
   "cell_type": "code",
   "execution_count": 34,
   "metadata": {},
   "outputs": [],
   "source": [
    "# select cells in the processed data\n",
    "obs_names_kras_common_proc = list(set(list(obs_names_kras_proc[0])) & set(list(obs_names[0])))\n",
    "obs_names_tp53_common_proc = list(set(list(obs_names_tp53_proc[0])) & set(list(obs_names_tp53[0])))"
   ]
  },
  {
   "cell_type": "code",
   "execution_count": 35,
   "metadata": {},
   "outputs": [
    {
     "data": {
      "text/plain": [
       "(90262, 90262, 85778, 85778)"
      ]
     },
     "execution_count": 35,
     "metadata": {},
     "output_type": "execute_result"
    }
   ],
   "source": [
    "len(obs_names_kras_common_proc), len(obs_names_kras_proc), len(obs_names_tp53_common_proc), len(obs_names_tp53_proc)"
   ]
  },
  {
   "cell_type": "code",
   "execution_count": 36,
   "metadata": {},
   "outputs": [],
   "source": [
    "cell_kras_proc_idx = [np.where(cell_kras == i)[0][0] for i in obs_names_kras_common_proc]\n",
    "cell_tp53_proc_idx = [np.where(cell_tp53 == i)[0][0] for i in obs_names_tp53_common_proc]"
   ]
  },
  {
   "cell_type": "code",
   "execution_count": 56,
   "metadata": {},
   "outputs": [],
   "source": [
    "adata_kras_proc = adata[cell_kras_proc_idx]\n",
    "adata_tp53_proc = adata_tp53[cell_tp53_proc_idx]"
   ]
  },
  {
   "cell_type": "code",
   "execution_count": 57,
   "metadata": {},
   "outputs": [
    {
     "data": {
      "text/plain": [
       "((90262, 24491), (85778, 24868))"
      ]
     },
     "execution_count": 57,
     "metadata": {},
     "output_type": "execute_result"
    }
   ],
   "source": [
    "adata_kras_proc.shape, adata_tp53_proc.shape"
   ]
  },
  {
   "cell_type": "code",
   "execution_count": 58,
   "metadata": {},
   "outputs": [],
   "source": [
    "def index_genes(adata, indices_gene):\n",
    "    ######\n",
    "    obs = adata.obs\n",
    "    var = adata.var\n",
    "    if sparse.issparse(adata.X):\n",
    "        X_data = adata.X.A\n",
    "    else:\n",
    "        X_data = adata.X\n",
    "    X_data = X_data[:, indices_gene]\n",
    "    var = var.iloc[indices_gene, :]\n",
    "    return AnnData(X = X_data, var = var, obs = obs)"
   ]
  },
  {
   "cell_type": "code",
   "execution_count": 59,
   "metadata": {},
   "outputs": [
    {
     "data": {
      "text/plain": [
       "(90262, 24491)"
      ]
     },
     "execution_count": 59,
     "metadata": {},
     "output_type": "execute_result"
    }
   ],
   "source": [
    "adata_kras_proc.shape"
   ]
  },
  {
   "cell_type": "code",
   "execution_count": 60,
   "metadata": {},
   "outputs": [
    {
     "name": "stderr",
     "output_type": "stream",
     "text": [
      "/home/hengshi/.local/lib/python3.8/site-packages/anndata/_core/anndata.py:119: ImplicitModificationWarning: Transforming to str index.\n",
      "  warnings.warn(\"Transforming to str index.\", ImplicitModificationWarning)\n"
     ]
    },
    {
     "data": {
      "text/plain": [
       "(90262, 23984)"
      ]
     },
     "execution_count": 60,
     "metadata": {},
     "output_type": "execute_result"
    }
   ],
   "source": [
    "adata_kras_proc = index_genes(adata_kras_proc, gene_kras_common)\n",
    "adata_kras_proc.shape"
   ]
  },
  {
   "cell_type": "code",
   "execution_count": 61,
   "metadata": {},
   "outputs": [
    {
     "data": {
      "text/plain": [
       "(85778, 24868)"
      ]
     },
     "execution_count": 61,
     "metadata": {},
     "output_type": "execute_result"
    }
   ],
   "source": [
    "adata_tp53_proc.shape"
   ]
  },
  {
   "cell_type": "code",
   "execution_count": 62,
   "metadata": {},
   "outputs": [
    {
     "data": {
      "text/plain": [
       "(85778, 23984)"
      ]
     },
     "execution_count": 62,
     "metadata": {},
     "output_type": "execute_result"
    }
   ],
   "source": [
    "\n",
    "adata_tp53_proc = index_genes(adata_tp53_proc, gene_tp53_common)\n",
    "adata_tp53_proc.shape\n",
    "\n",
    "\n"
   ]
  },
  {
   "cell_type": "code",
   "execution_count": 41,
   "metadata": {},
   "outputs": [
    {
     "data": {
      "text/plain": [
       "[5015,\n",
       " 5328,\n",
       " 3302,\n",
       " 6885,\n",
       " 24272,\n",
       " 15335,\n",
       " 12024,\n",
       " 9611,\n",
       " 1908,\n",
       " 15888,\n",
       " 15,\n",
       " 23160,\n",
       " 1655,\n",
       " 13661,\n",
       " 8549,\n",
       " 17258,\n",
       " 2128,\n",
       " 22293,\n",
       " 23351,\n",
       " 13555,\n",
       " 10676,\n",
       " 19844,\n",
       " 4520,\n",
       " 7309,\n",
       " 9401,\n",
       " 10322,\n",
       " 2341,\n",
       " 14993,\n",
       " 6882,\n",
       " 15704,\n",
       " 2547,\n",
       " 17679,\n",
       " 4634,\n",
       " 2200,\n",
       " 8080,\n",
       " 7028,\n",
       " 23999,\n",
       " 17413,\n",
       " 5436,\n",
       " 3378,\n",
       " 3884,\n",
       " 22740,\n",
       " 15959,\n",
       " 18427,\n",
       " 3190,\n",
       " 10953,\n",
       " 11733,\n",
       " 19310,\n",
       " 5717,\n",
       " 10766,\n",
       " 4473,\n",
       " 18790,\n",
       " 7351,\n",
       " 9541,\n",
       " 5785,\n",
       " 24114,\n",
       " 20983,\n",
       " 1049,\n",
       " 543,\n",
       " 3896,\n",
       " 12200,\n",
       " 19384,\n",
       " 15030,\n",
       " 23185,\n",
       " 3151,\n",
       " 16657,\n",
       " 3053,\n",
       " 3904,\n",
       " 7383,\n",
       " 4587,\n",
       " 815,\n",
       " 19709,\n",
       " 22041,\n",
       " 3625,\n",
       " 19296,\n",
       " 19737,\n",
       " 4113,\n",
       " 8542,\n",
       " 9158,\n",
       " 24150,\n",
       " 6893,\n",
       " 10496,\n",
       " 21138,\n",
       " 21124,\n",
       " 19596,\n",
       " 15464,\n",
       " 4413,\n",
       " 11260,\n",
       " 3785,\n",
       " 16787,\n",
       " 16464,\n",
       " 6750,\n",
       " 7649,\n",
       " 8815,\n",
       " 11883,\n",
       " 15729,\n",
       " 20132,\n",
       " 19927,\n",
       " 23436,\n",
       " 3231,\n",
       " 14477,\n",
       " 18026,\n",
       " 23831,\n",
       " 10943,\n",
       " 9084,\n",
       " 9127,\n",
       " 13495,\n",
       " 16693,\n",
       " 17838,\n",
       " 9708,\n",
       " 913,\n",
       " 9609,\n",
       " 18633,\n",
       " 23761,\n",
       " 3626,\n",
       " 22710,\n",
       " 18237,\n",
       " 2891,\n",
       " 714,\n",
       " 15604,\n",
       " 14204,\n",
       " 2793,\n",
       " 4397,\n",
       " 8209,\n",
       " 8390,\n",
       " 19766,\n",
       " 5959,\n",
       " 1774,\n",
       " 10350,\n",
       " 23733,\n",
       " 19386,\n",
       " 10958,\n",
       " 8853,\n",
       " 6703,\n",
       " 13977,\n",
       " 16416,\n",
       " 6815,\n",
       " 4331,\n",
       " 20382,\n",
       " 1078,\n",
       " 22174,\n",
       " 16950,\n",
       " 15426,\n",
       " 17152,\n",
       " 20949,\n",
       " 19674,\n",
       " 10381,\n",
       " 1154,\n",
       " 13904,\n",
       " 12241,\n",
       " 4167,\n",
       " 11189,\n",
       " 12575,\n",
       " 17507,\n",
       " 13360,\n",
       " 11265,\n",
       " 8691,\n",
       " 19876,\n",
       " 16517,\n",
       " 22698,\n",
       " 19242,\n",
       " 15774,\n",
       " 10858,\n",
       " 7253,\n",
       " 4135,\n",
       " 9098,\n",
       " 12585,\n",
       " 9044,\n",
       " 10101,\n",
       " 1551,\n",
       " 4208,\n",
       " 8116,\n",
       " 11157,\n",
       " 9243,\n",
       " 24100,\n",
       " 20199,\n",
       " 6778,\n",
       " 7527,\n",
       " 19747,\n",
       " 4270,\n",
       " 17081,\n",
       " 17041,\n",
       " 21176,\n",
       " 5423,\n",
       " 9151,\n",
       " 16144,\n",
       " 1391,\n",
       " 14588,\n",
       " 4875,\n",
       " 8673,\n",
       " 13379,\n",
       " 20672,\n",
       " 12046,\n",
       " 16768,\n",
       " 16617,\n",
       " 20838,\n",
       " 13693,\n",
       " 5517,\n",
       " 15167,\n",
       " 4283,\n",
       " 8249,\n",
       " 4865,\n",
       " 11629,\n",
       " 19651,\n",
       " 2358,\n",
       " 16549,\n",
       " 700,\n",
       " 2135,\n",
       " 20692,\n",
       " 6602,\n",
       " 11201,\n",
       " 17601,\n",
       " 21118,\n",
       " 23781,\n",
       " 23237,\n",
       " 18923,\n",
       " 21966,\n",
       " 19160,\n",
       " 21147,\n",
       " 9792,\n",
       " 15919,\n",
       " 18679,\n",
       " 23571,\n",
       " 11789,\n",
       " 6050,\n",
       " 9010,\n",
       " 22270,\n",
       " 23580,\n",
       " 12166,\n",
       " 1599,\n",
       " 7925,\n",
       " 10135,\n",
       " 5313,\n",
       " 7305,\n",
       " 21709,\n",
       " 890,\n",
       " 4014,\n",
       " 14158,\n",
       " 18784,\n",
       " 11695,\n",
       " 13099,\n",
       " 3155,\n",
       " 15166,\n",
       " 9214,\n",
       " 18523,\n",
       " 22280,\n",
       " 22469,\n",
       " 9234,\n",
       " 3115,\n",
       " 18079,\n",
       " 14167,\n",
       " 18595,\n",
       " 1050,\n",
       " 552,\n",
       " 21888,\n",
       " 24102,\n",
       " 9466,\n",
       " 13202,\n",
       " 14105,\n",
       " 11321,\n",
       " 22146,\n",
       " 5269,\n",
       " 6402,\n",
       " 1213,\n",
       " 7446,\n",
       " 7769,\n",
       " 23195,\n",
       " 14122,\n",
       " 16045,\n",
       " 15570,\n",
       " 6346,\n",
       " 18854,\n",
       " 1644,\n",
       " 6218,\n",
       " 11568,\n",
       " 4173,\n",
       " 961,\n",
       " 10451,\n",
       " 20781,\n",
       " 416,\n",
       " 24456,\n",
       " 10593,\n",
       " 22072,\n",
       " 14786,\n",
       " 24295,\n",
       " 10649,\n",
       " 4110,\n",
       " 11896,\n",
       " 16178,\n",
       " 21836,\n",
       " 822,\n",
       " 10607,\n",
       " 663,\n",
       " 5409,\n",
       " 19808,\n",
       " 2252,\n",
       " 3046,\n",
       " 14662,\n",
       " 17427,\n",
       " 16553,\n",
       " 15231,\n",
       " 19115,\n",
       " 17569,\n",
       " 20118,\n",
       " 14429,\n",
       " 4953,\n",
       " 15689,\n",
       " 8177,\n",
       " 23930,\n",
       " 5155,\n",
       " 19342,\n",
       " 15425,\n",
       " 1123,\n",
       " 12131,\n",
       " 1871,\n",
       " 14816,\n",
       " 6806,\n",
       " 20769,\n",
       " 21499,\n",
       " 11612,\n",
       " 6895,\n",
       " 7437,\n",
       " 18152,\n",
       " 1533,\n",
       " 18451,\n",
       " 6913,\n",
       " 11665,\n",
       " 18538,\n",
       " 4746,\n",
       " 8546,\n",
       " 5316,\n",
       " 5396,\n",
       " 6682,\n",
       " 22590,\n",
       " 23211,\n",
       " 3697,\n",
       " 9357,\n",
       " 16963,\n",
       " 18581,\n",
       " 12442,\n",
       " 4321,\n",
       " 11,\n",
       " 20621,\n",
       " 17801,\n",
       " 18499,\n",
       " 9811,\n",
       " 14139,\n",
       " 17895,\n",
       " 16043,\n",
       " 24220,\n",
       " 4676,\n",
       " 17443,\n",
       " 13115,\n",
       " 10448,\n",
       " 22421,\n",
       " 9331,\n",
       " 3359,\n",
       " 4310,\n",
       " 4082,\n",
       " 18939,\n",
       " 20300,\n",
       " 18686,\n",
       " 5906,\n",
       " 18590,\n",
       " 22874,\n",
       " 12212,\n",
       " 7051,\n",
       " 5056,\n",
       " 456,\n",
       " 18619,\n",
       " 21672,\n",
       " 6370,\n",
       " 21520,\n",
       " 15655,\n",
       " 1470,\n",
       " 21984,\n",
       " 6501,\n",
       " 1828,\n",
       " 6684,\n",
       " 23975,\n",
       " 779,\n",
       " 6125,\n",
       " 9072,\n",
       " 964,\n",
       " 12218,\n",
       " 8809,\n",
       " 19337,\n",
       " 4500,\n",
       " 10035,\n",
       " 9562,\n",
       " 15958,\n",
       " 18643,\n",
       " 20718,\n",
       " 1611,\n",
       " 23598,\n",
       " 2602,\n",
       " 11220,\n",
       " 6803,\n",
       " 21,\n",
       " 21971,\n",
       " 21000,\n",
       " 22623,\n",
       " 23251,\n",
       " 7200,\n",
       " 21997,\n",
       " 20879,\n",
       " 20670,\n",
       " 1436,\n",
       " 24159,\n",
       " 2458,\n",
       " 15458,\n",
       " 16090,\n",
       " 17255,\n",
       " 1661,\n",
       " 23348,\n",
       " 20563,\n",
       " 17075,\n",
       " 1975,\n",
       " 19156,\n",
       " 21369,\n",
       " 4124,\n",
       " 5725,\n",
       " 13282,\n",
       " 11192,\n",
       " 20395,\n",
       " 10100,\n",
       " 23978,\n",
       " 17382,\n",
       " 22750,\n",
       " 18272,\n",
       " 2967,\n",
       " 20327,\n",
       " 16836,\n",
       " 2705,\n",
       " 3052,\n",
       " 15334,\n",
       " 23842,\n",
       " 10003,\n",
       " 6541,\n",
       " 17444,\n",
       " 15725,\n",
       " 19136,\n",
       " 590,\n",
       " 8115,\n",
       " 9544,\n",
       " 10172,\n",
       " 13624,\n",
       " 18795,\n",
       " 6357,\n",
       " 14205,\n",
       " 8974,\n",
       " 21907,\n",
       " 176,\n",
       " 17897,\n",
       " 22419,\n",
       " 1983,\n",
       " 21429,\n",
       " 813,\n",
       " 3901,\n",
       " 23258,\n",
       " 13922,\n",
       " 19221,\n",
       " 14900,\n",
       " 16737,\n",
       " 2343,\n",
       " 12521,\n",
       " 16707,\n",
       " 1746,\n",
       " 7998,\n",
       " 21773,\n",
       " 22567,\n",
       " 6767,\n",
       " 18379,\n",
       " 18567,\n",
       " 4012,\n",
       " 19185,\n",
       " 1855,\n",
       " 18588,\n",
       " 11994,\n",
       " 294,\n",
       " 16047,\n",
       " 1610,\n",
       " 15538,\n",
       " 23262,\n",
       " 13505,\n",
       " 23298,\n",
       " 2204,\n",
       " 18640,\n",
       " 24468,\n",
       " 4918,\n",
       " 17925,\n",
       " 33,\n",
       " 21617,\n",
       " 3972,\n",
       " 8693,\n",
       " 3802,\n",
       " 6227,\n",
       " 20652,\n",
       " 22504,\n",
       " 14641,\n",
       " 22789,\n",
       " 13851,\n",
       " 3114,\n",
       " 3353,\n",
       " 1663,\n",
       " 21299,\n",
       " 24113,\n",
       " 7511,\n",
       " 1579,\n",
       " 18922,\n",
       " 10330,\n",
       " 20650,\n",
       " 16372,\n",
       " 6997,\n",
       " 2064,\n",
       " 12252,\n",
       " 9215,\n",
       " 5192,\n",
       " 5296,\n",
       " 4043,\n",
       " 19948,\n",
       " 7484,\n",
       " 470,\n",
       " 18374,\n",
       " 5710,\n",
       " 18856,\n",
       " 9890,\n",
       " 20414,\n",
       " 14666,\n",
       " 16580,\n",
       " 17947,\n",
       " 16849,\n",
       " 22242,\n",
       " 23332,\n",
       " 3292,\n",
       " 16132,\n",
       " 1958,\n",
       " 6752,\n",
       " 7752,\n",
       " 8662,\n",
       " 12727,\n",
       " 17301,\n",
       " 8359,\n",
       " 5058,\n",
       " 17048,\n",
       " 19289,\n",
       " 18257,\n",
       " 5150,\n",
       " 14008,\n",
       " 17276,\n",
       " 11534,\n",
       " 821,\n",
       " 20492,\n",
       " 23719,\n",
       " 20720,\n",
       " 9921,\n",
       " 5513,\n",
       " 6466,\n",
       " 18695,\n",
       " 2092,\n",
       " 8240,\n",
       " 7077,\n",
       " 11150,\n",
       " 22160,\n",
       " 18110,\n",
       " 22619,\n",
       " 3476,\n",
       " 9761,\n",
       " 11992,\n",
       " 2958,\n",
       " 8878,\n",
       " 22640,\n",
       " 2065,\n",
       " 6317,\n",
       " 4991,\n",
       " 11440,\n",
       " 14513,\n",
       " 6491,\n",
       " 6620,\n",
       " 17109,\n",
       " 17847,\n",
       " 20784,\n",
       " 11941,\n",
       " 577,\n",
       " 9697,\n",
       " 5198,\n",
       " 17111,\n",
       " 5093,\n",
       " 23644,\n",
       " 17566,\n",
       " 15732,\n",
       " 24328,\n",
       " 1368,\n",
       " 644,\n",
       " 19200,\n",
       " 17245,\n",
       " 20096,\n",
       " 4461,\n",
       " 6695,\n",
       " 17047,\n",
       " 4707,\n",
       " 17773,\n",
       " 20516,\n",
       " 7578,\n",
       " 12207,\n",
       " 8830,\n",
       " 8428,\n",
       " 12236,\n",
       " 4277,\n",
       " 15135,\n",
       " 4105,\n",
       " 9747,\n",
       " 17549,\n",
       " 14110,\n",
       " 21332,\n",
       " 4820,\n",
       " 22955,\n",
       " 20561,\n",
       " 10212,\n",
       " 15552,\n",
       " 13911,\n",
       " 18497,\n",
       " 2826,\n",
       " 425,\n",
       " 3011,\n",
       " 19167,\n",
       " 21346,\n",
       " 15496,\n",
       " 10043,\n",
       " 19120,\n",
       " 19670,\n",
       " 4979,\n",
       " 20841,\n",
       " 13432,\n",
       " 7946,\n",
       " 20589,\n",
       " 1241,\n",
       " 10705,\n",
       " 19405,\n",
       " 9658,\n",
       " 6819,\n",
       " 8676,\n",
       " 10532,\n",
       " 6672,\n",
       " 7623,\n",
       " 18352,\n",
       " 18512,\n",
       " 1972,\n",
       " 7111,\n",
       " 8337,\n",
       " 14846,\n",
       " 5802,\n",
       " 12288,\n",
       " 13458,\n",
       " 2251,\n",
       " 10108,\n",
       " 19448,\n",
       " 13291,\n",
       " 2686,\n",
       " 17647,\n",
       " 11709,\n",
       " 8024,\n",
       " 21949,\n",
       " 2725,\n",
       " 9255,\n",
       " 4134,\n",
       " 15381,\n",
       " 2615,\n",
       " 7290,\n",
       " 15931,\n",
       " 4715,\n",
       " 22936,\n",
       " 21940,\n",
       " 13032,\n",
       " 23459,\n",
       " 1873,\n",
       " 14644,\n",
       " 1317,\n",
       " 13011,\n",
       " 11697,\n",
       " 18461,\n",
       " 17029,\n",
       " 6046,\n",
       " 6409,\n",
       " 15760,\n",
       " 23409,\n",
       " 3112,\n",
       " 6296,\n",
       " 23927,\n",
       " 7329,\n",
       " 17742,\n",
       " 13341,\n",
       " 19293,\n",
       " 12164,\n",
       " 3629,\n",
       " 11429,\n",
       " 1687,\n",
       " 15160,\n",
       " 2013,\n",
       " 12917,\n",
       " 20988,\n",
       " 6104,\n",
       " 14875,\n",
       " 9766,\n",
       " 24238,\n",
       " 11637,\n",
       " 15845,\n",
       " 18837,\n",
       " 16026,\n",
       " 12775,\n",
       " 11392,\n",
       " 2645,\n",
       " 12042,\n",
       " 11487,\n",
       " 11949,\n",
       " 21016,\n",
       " 105,\n",
       " 20969,\n",
       " 20092,\n",
       " 13391,\n",
       " 10285,\n",
       " 4296,\n",
       " 9568,\n",
       " 20151,\n",
       " 3940,\n",
       " 19506,\n",
       " 16130,\n",
       " 5691,\n",
       " 7698,\n",
       " 12838,\n",
       " 20553,\n",
       " 22833,\n",
       " 9076,\n",
       " 12210,\n",
       " 6618,\n",
       " 809,\n",
       " 22576,\n",
       " 13317,\n",
       " 3757,\n",
       " 6868,\n",
       " 16814,\n",
       " 18507,\n",
       " 18075,\n",
       " 12023,\n",
       " 22613,\n",
       " 19829,\n",
       " 5174,\n",
       " 4033,\n",
       " 18304,\n",
       " 18159,\n",
       " 14795,\n",
       " 24306,\n",
       " 7731,\n",
       " 13129,\n",
       " 7232,\n",
       " 9133,\n",
       " 3893,\n",
       " 4765,\n",
       " 11447,\n",
       " 6500,\n",
       " 1931,\n",
       " 19047,\n",
       " 17884,\n",
       " 2575,\n",
       " 12496,\n",
       " 19842,\n",
       " 4112,\n",
       " 22920,\n",
       " 9681,\n",
       " 1035,\n",
       " 22987,\n",
       " 6662,\n",
       " 19923,\n",
       " 17498,\n",
       " 24125,\n",
       " 14474,\n",
       " 17004,\n",
       " 20536,\n",
       " 5759,\n",
       " 19618,\n",
       " 2605,\n",
       " 4165,\n",
       " 2344,\n",
       " 13790,\n",
       " 22877,\n",
       " 608,\n",
       " 22348,\n",
       " 3933,\n",
       " 23708,\n",
       " 2465,\n",
       " 18406,\n",
       " 7893,\n",
       " 13101,\n",
       " 817,\n",
       " 1199,\n",
       " 18609,\n",
       " 19658,\n",
       " 12590,\n",
       " 8373,\n",
       " 2567,\n",
       " 11679,\n",
       " 17574,\n",
       " 15702,\n",
       " 7215,\n",
       " 988,\n",
       " 4355,\n",
       " 21652,\n",
       " 9556,\n",
       " 15978,\n",
       " 11122,\n",
       " 16946,\n",
       " 1435,\n",
       " 6102,\n",
       " 20449,\n",
       " 7287,\n",
       " 9893,\n",
       " 2288,\n",
       " 258,\n",
       " 2646,\n",
       " 525,\n",
       " 15894,\n",
       " 10915,\n",
       " 17865,\n",
       " 23175,\n",
       " 21506,\n",
       " 877,\n",
       " 12707,\n",
       " 17586,\n",
       " 17854,\n",
       " 1126,\n",
       " 1843,\n",
       " 5371,\n",
       " 1737,\n",
       " 11936,\n",
       " 17864,\n",
       " 22399,\n",
       " 7676,\n",
       " 19740,\n",
       " 23770,\n",
       " 1192,\n",
       " 19495,\n",
       " 9347,\n",
       " 5433,\n",
       " 1212,\n",
       " 12057,\n",
       " 1186,\n",
       " 760,\n",
       " 3395,\n",
       " 3845,\n",
       " 9177,\n",
       " 19614,\n",
       " 11372,\n",
       " 18719,\n",
       " 13831,\n",
       " 15648,\n",
       " 21424,\n",
       " 16540,\n",
       " 22523,\n",
       " 13370,\n",
       " 8976,\n",
       " 23822,\n",
       " 20855,\n",
       " 7849,\n",
       " 13976,\n",
       " 614,\n",
       " 4013,\n",
       " 8142,\n",
       " 22738,\n",
       " 15692,\n",
       " 889,\n",
       " 6617,\n",
       " 12868,\n",
       " 23221,\n",
       " 7873,\n",
       " 21472,\n",
       " 452,\n",
       " 19294,\n",
       " 10267,\n",
       " 11341,\n",
       " 7522,\n",
       " 22323,\n",
       " 10882,\n",
       " 2036,\n",
       " 13005,\n",
       " 1326,\n",
       " 6781,\n",
       " 13281,\n",
       " 10070,\n",
       " 2475,\n",
       " 10157,\n",
       " 10710,\n",
       " 21867,\n",
       " 88,\n",
       " 16077,\n",
       " 1282,\n",
       " 15782,\n",
       " 22856,\n",
       " 5655,\n",
       " 12043,\n",
       " 17835,\n",
       " 15011,\n",
       " 22814,\n",
       " 6456,\n",
       " 18876,\n",
       " 12992,\n",
       " 14479,\n",
       " 9030,\n",
       " 15924,\n",
       " 16601,\n",
       " 22882,\n",
       " 18717,\n",
       " 23739,\n",
       " 22614,\n",
       " 11740,\n",
       " 10233,\n",
       " 8304,\n",
       " 8902,\n",
       " 5863,\n",
       " 10090,\n",
       " 14655,\n",
       " 6386,\n",
       " 8586,\n",
       " 21706,\n",
       " 21492,\n",
       " 18239,\n",
       " 19716,\n",
       " 5850,\n",
       " 11595,\n",
       " 3446,\n",
       " 12626,\n",
       " 23938,\n",
       " 11095,\n",
       " 18746,\n",
       " 10522,\n",
       " 16138,\n",
       " 11995,\n",
       " 15466,\n",
       " 18825,\n",
       " 10802,\n",
       " 16466,\n",
       " 22843,\n",
       " 7565,\n",
       " 13388,\n",
       " 15053,\n",
       " 10029,\n",
       " 21296,\n",
       " 2084,\n",
       " 5696,\n",
       " 22388,\n",
       " 12237,\n",
       " 12801,\n",
       " 11957,\n",
       " 4914,\n",
       " 13549,\n",
       " 23586,\n",
       " 17198,\n",
       " 8863,\n",
       " 4151,\n",
       " 22304,\n",
       " 2221,\n",
       " 19756,\n",
       " 20813,\n",
       " 10364,\n",
       " 19984,\n",
       " 4223,\n",
       " 3003,\n",
       " 8966,\n",
       " 6098,\n",
       " 20622,\n",
       " 21400,\n",
       " 20510,\n",
       " 3493,\n",
       " 11185,\n",
       " 488,\n",
       " 21150,\n",
       " 2283,\n",
       " 5673,\n",
       " 2145,\n",
       " 17044,\n",
       " 22145,\n",
       " 14473,\n",
       " 16004,\n",
       " 5118,\n",
       " 20016,\n",
       " 23652,\n",
       " 24195,\n",
       " 15439,\n",
       " 2285,\n",
       " 18718,\n",
       " 13630,\n",
       " 9707,\n",
       " 18418,\n",
       " 17935,\n",
       " 12299,\n",
       " 18047,\n",
       " 20832,\n",
       " 12001,\n",
       " 8393,\n",
       " 10066,\n",
       " 11363,\n",
       " ...]"
      ]
     },
     "execution_count": 41,
     "metadata": {},
     "output_type": "execute_result"
    }
   ],
   "source": [
    "variant_kras = pd.read_csv('GSE161824_A549_KRAS.variants2cell.csv.gz', compression = 'gzip', sep = '\\t')\n",
    "variant_tp53 = pd.read_csv('GSE161824_A549_TP53.variants2cell.csv.gz', compression = 'gzip', sep = '\\t')\n",
    "variant_tp53.head()\n",
    "\n",
    "var_kras_cell = np.array(list(variant_kras['cell']))\n",
    "var_tp53_cell = np.array(list(variant_tp53['cell']))\n",
    "\n",
    "\n",
    "variant_kras_proc_idx = [np.where(var_kras_cell == i)[0][0] for i in obs_names_kras_common_proc]\n",
    "variant_tp53_proc_idx = [np.where(var_tp53_cell == i)[0][0] for i in obs_names_tp53_common_proc]\n",
    "\n",
    "var_kras = variant_kras.iloc[variant_kras_proc_idx, :]\n",
    "var_tp53 = variant_tp53.iloc[variant_tp53_proc_idx, :]\n",
    "var_kras.shape, var_tp53.shape, len(variant_kras_proc_idx), len(variant_tp53_proc_idx)"
   ]
  },
  {
   "cell_type": "code",
   "execution_count": 83,
   "metadata": {},
   "outputs": [
    {
     "data": {
      "text/plain": [
       "(90262, 23984)"
      ]
     },
     "execution_count": 83,
     "metadata": {},
     "output_type": "execute_result"
    }
   ],
   "source": [
    "adata_kras_proc.shape"
   ]
  },
  {
   "cell_type": "code",
   "execution_count": 129,
   "metadata": {},
   "outputs": [
    {
     "data": {
      "text/plain": [
       "0          AAACCTGCAACGCACC-1-0\n",
       "1          AAACCTGCAATGGTCT-1-0\n",
       "2          AAACCTGCAGGACGTA-1-0\n",
       "3          AAACCTGCAGTAAGAT-1-0\n",
       "4          AAACGGGAGACAGAGA-1-0\n",
       "                  ...          \n",
       "150039    TTTGTCAAGAGGGCTT-1-31\n",
       "150040    TTTGTCAAGGGATACC-1-31\n",
       "150041    TTTGTCACACATGACT-1-31\n",
       "150042    TTTGTCACAGAAGCAC-1-31\n",
       "150043    TTTGTCATCCGAATGT-1-31\n",
       "Name: 0, Length: 150044, dtype: object"
      ]
     },
     "execution_count": 129,
     "metadata": {},
     "output_type": "execute_result"
    }
   ],
   "source": [
    " obs_names[0]"
   ]
  },
  {
   "cell_type": "code",
   "execution_count": 130,
   "metadata": {},
   "outputs": [],
   "source": [
    "obs_name_kras = adata_kras_proc.obs\n",
    "obs_name_kras_list = np.array(list(obs_name_kras[0]))\n",
    "\n",
    "\n",
    "obs_name_tp53 = adata_tp53_proc.obs\n",
    "obs_name_tp53_list = np.array(list(obs_name_tp53[0]))\n",
    "\n",
    "\n",
    "common_kras_proc_idx = [np.where(obs_name_kras_list == i)[0][0] for i in list_common_cells_proc]\n",
    "common_tp53_proc_idx = [np.where(obs_name_tp53_list == i)[0][0] for i in list_common_cells_proc]"
   ]
  },
  {
   "cell_type": "code",
   "execution_count": 131,
   "metadata": {},
   "outputs": [
    {
     "data": {
      "text/plain": [
       "(326, 326)"
      ]
     },
     "execution_count": 131,
     "metadata": {},
     "output_type": "execute_result"
    }
   ],
   "source": [
    "len(common_kras_proc_idx), len(common_tp53_proc_idx)"
   ]
  },
  {
   "cell_type": "code",
   "execution_count": 132,
   "metadata": {},
   "outputs": [],
   "source": [
    "obs_name_kras_copy = obs_name_kras.copy()\n",
    "obs_name_tp53_copy = obs_name_tp53.copy()"
   ]
  },
  {
   "cell_type": "code",
   "execution_count": 136,
   "metadata": {},
   "outputs": [],
   "source": [
    "obs_name_kras_list[common_kras_proc_idx] = np.array(['KRAS_' + i for i in obs_name_kras_list[common_kras_proc_idx]])"
   ]
  },
  {
   "cell_type": "code",
   "execution_count": 138,
   "metadata": {},
   "outputs": [],
   "source": [
    "obs_name_kras_copy[0] = obs_name_kras_list"
   ]
  },
  {
   "cell_type": "code",
   "execution_count": 141,
   "metadata": {},
   "outputs": [
    {
     "data": {
      "text/html": [
       "<div>\n",
       "<style scoped>\n",
       "    .dataframe tbody tr th:only-of-type {\n",
       "        vertical-align: middle;\n",
       "    }\n",
       "\n",
       "    .dataframe tbody tr th {\n",
       "        vertical-align: top;\n",
       "    }\n",
       "\n",
       "    .dataframe thead th {\n",
       "        text-align: right;\n",
       "    }\n",
       "</style>\n",
       "<table border=\"1\" class=\"dataframe\">\n",
       "  <thead>\n",
       "    <tr style=\"text-align: right;\">\n",
       "      <th></th>\n",
       "      <th>0</th>\n",
       "    </tr>\n",
       "  </thead>\n",
       "  <tbody>\n",
       "    <tr>\n",
       "      <th>15294</th>\n",
       "      <td>TP53_TTAGTTCTCTGCCCTA</td>\n",
       "    </tr>\n",
       "    <tr>\n",
       "      <th>116272</th>\n",
       "      <td>TP53_AGATCTGAGAGTACAT</td>\n",
       "    </tr>\n",
       "    <tr>\n",
       "      <th>105512</th>\n",
       "      <td>TP53_TTTATGCGTTTGACAC</td>\n",
       "    </tr>\n",
       "    <tr>\n",
       "      <th>89795</th>\n",
       "      <td>TP53_TGCGCAGTCCCATTTA</td>\n",
       "    </tr>\n",
       "    <tr>\n",
       "      <th>149646</th>\n",
       "      <td>TP53_GGACGTCAGATCTGCT</td>\n",
       "    </tr>\n",
       "    <tr>\n",
       "      <th>...</th>\n",
       "      <td>...</td>\n",
       "    </tr>\n",
       "    <tr>\n",
       "      <th>55863</th>\n",
       "      <td>TP53_AACACGTTCCTCTAGC</td>\n",
       "    </tr>\n",
       "    <tr>\n",
       "      <th>71246</th>\n",
       "      <td>TP53_ATGCGATAGCTAGGCA</td>\n",
       "    </tr>\n",
       "    <tr>\n",
       "      <th>132864</th>\n",
       "      <td>TP53_CCGTACTGTCTAGCGC</td>\n",
       "    </tr>\n",
       "    <tr>\n",
       "      <th>23678</th>\n",
       "      <td>TP53_GCGGGTTCATGTTCCC</td>\n",
       "    </tr>\n",
       "    <tr>\n",
       "      <th>11393</th>\n",
       "      <td>TP53_ATGGGAGGTGAGTATA</td>\n",
       "    </tr>\n",
       "  </tbody>\n",
       "</table>\n",
       "<p>326 rows × 1 columns</p>\n",
       "</div>"
      ],
      "text/plain": [
       "                            0\n",
       "15294   TP53_TTAGTTCTCTGCCCTA\n",
       "116272  TP53_AGATCTGAGAGTACAT\n",
       "105512  TP53_TTTATGCGTTTGACAC\n",
       "89795   TP53_TGCGCAGTCCCATTTA\n",
       "149646  TP53_GGACGTCAGATCTGCT\n",
       "...                       ...\n",
       "55863   TP53_AACACGTTCCTCTAGC\n",
       "71246   TP53_ATGCGATAGCTAGGCA\n",
       "132864  TP53_CCGTACTGTCTAGCGC\n",
       "23678   TP53_GCGGGTTCATGTTCCC\n",
       "11393   TP53_ATGGGAGGTGAGTATA\n",
       "\n",
       "[326 rows x 1 columns]"
      ]
     },
     "execution_count": 141,
     "metadata": {},
     "output_type": "execute_result"
    }
   ],
   "source": [
    "obs_name_tp53_list[common_tp53_proc_idx] = np.array(['TP53_' + i for i in obs_name_tp53_list[common_tp53_proc_idx]])\n",
    "obs_name_tp53_copy[0] = obs_name_tp53_list\n",
    "obs_name_tp53_copy.iloc[common_tp53_proc_idx, :]"
   ]
  },
  {
   "cell_type": "code",
   "execution_count": 142,
   "metadata": {},
   "outputs": [],
   "source": [
    "adata_kras_proc.obs = obs_name_kras_copy\n",
    "adata_tp53_proc.obs = obs_name_tp53_copy"
   ]
  },
  {
   "cell_type": "code",
   "execution_count": 181,
   "metadata": {},
   "outputs": [],
   "source": [
    "adata_kras_proc.var.index = adata_kras_proc.var[0]\n",
    "adata_tp53_proc.var.index = adata_tp53_proc.var[0]"
   ]
  },
  {
   "cell_type": "code",
   "execution_count": 193,
   "metadata": {},
   "outputs": [],
   "source": [
    "adata_kras_proc.var.index.name = 'gene_name'\n",
    "adata_tp53_proc.var.index.name = 'gene_name'"
   ]
  },
  {
   "cell_type": "code",
   "execution_count": 194,
   "metadata": {},
   "outputs": [],
   "source": [
    "adata_kras_proc.var.columns = ['gene_names']\n",
    "adata_tp53_proc.var.columns = ['gene_names']"
   ]
  },
  {
   "cell_type": "code",
   "execution_count": 108,
   "metadata": {},
   "outputs": [
    {
     "ename": "NameError",
     "evalue": "name 'adata_kras_proc' is not defined",
     "output_type": "error",
     "traceback": [
      "\u001b[0;31m---------------------------------------------------------------------------\u001b[0m",
      "\u001b[0;31mNameError\u001b[0m                                 Traceback (most recent call last)",
      "\u001b[0;32m<ipython-input-108-067ff4dcbde7>\u001b[0m in \u001b[0;36m<module>\u001b[0;34m\u001b[0m\n\u001b[0;32m----> 1\u001b[0;31m \u001b[0madata_kras_proc\u001b[0m\u001b[0;34m\u001b[0m\u001b[0;34m\u001b[0m\u001b[0m\n\u001b[0m",
      "\u001b[0;31mNameError\u001b[0m: name 'adata_kras_proc' is not defined"
     ]
    }
   ],
   "source": [
    "adata_kras_proc"
   ]
  },
  {
   "cell_type": "code",
   "execution_count": 195,
   "metadata": {},
   "outputs": [],
   "source": [
    "adata_combine = adata_kras_proc.concatenate(adata_tp53_proc)"
   ]
  },
  {
   "cell_type": "code",
   "execution_count": 196,
   "metadata": {},
   "outputs": [
    {
     "data": {
      "text/html": [
       "<div>\n",
       "<style scoped>\n",
       "    .dataframe tbody tr th:only-of-type {\n",
       "        vertical-align: middle;\n",
       "    }\n",
       "\n",
       "    .dataframe tbody tr th {\n",
       "        vertical-align: top;\n",
       "    }\n",
       "\n",
       "    .dataframe thead th {\n",
       "        text-align: right;\n",
       "    }\n",
       "</style>\n",
       "<table border=\"1\" class=\"dataframe\">\n",
       "  <thead>\n",
       "    <tr style=\"text-align: right;\">\n",
       "      <th></th>\n",
       "      <th>gene_names</th>\n",
       "    </tr>\n",
       "    <tr>\n",
       "      <th>gene_name</th>\n",
       "      <th></th>\n",
       "    </tr>\n",
       "  </thead>\n",
       "  <tbody>\n",
       "    <tr>\n",
       "      <th>RP11-651P23.5</th>\n",
       "      <td>RP11-651P23.5</td>\n",
       "    </tr>\n",
       "    <tr>\n",
       "      <th>MFI2-AS1</th>\n",
       "      <td>MFI2-AS1</td>\n",
       "    </tr>\n",
       "    <tr>\n",
       "      <th>SAP130</th>\n",
       "      <td>SAP130</td>\n",
       "    </tr>\n",
       "    <tr>\n",
       "      <th>RAD50</th>\n",
       "      <td>RAD50</td>\n",
       "    </tr>\n",
       "    <tr>\n",
       "      <th>IL10RB</th>\n",
       "      <td>IL10RB</td>\n",
       "    </tr>\n",
       "  </tbody>\n",
       "</table>\n",
       "</div>"
      ],
      "text/plain": [
       "                  gene_names\n",
       "gene_name                   \n",
       "RP11-651P23.5  RP11-651P23.5\n",
       "MFI2-AS1            MFI2-AS1\n",
       "SAP130                SAP130\n",
       "RAD50                  RAD50\n",
       "IL10RB                IL10RB"
      ]
     },
     "execution_count": 196,
     "metadata": {},
     "output_type": "execute_result"
    }
   ],
   "source": [
    "adata_combine.var.head()"
   ]
  },
  {
   "cell_type": "code",
   "execution_count": 197,
   "metadata": {},
   "outputs": [
    {
     "data": {
      "text/plain": [
       "176040"
      ]
     },
     "execution_count": 197,
     "metadata": {},
     "output_type": "execute_result"
    }
   ],
   "source": [
    "adata_kras_proc.shape[0] + adata_tp53_proc.shape[0]"
   ]
  },
  {
   "cell_type": "code",
   "execution_count": 198,
   "metadata": {},
   "outputs": [
    {
     "data": {
      "text/html": [
       "<div>\n",
       "<style scoped>\n",
       "    .dataframe tbody tr th:only-of-type {\n",
       "        vertical-align: middle;\n",
       "    }\n",
       "\n",
       "    .dataframe tbody tr th {\n",
       "        vertical-align: top;\n",
       "    }\n",
       "\n",
       "    .dataframe thead th {\n",
       "        text-align: right;\n",
       "    }\n",
       "</style>\n",
       "<table border=\"1\" class=\"dataframe\">\n",
       "  <thead>\n",
       "    <tr style=\"text-align: right;\">\n",
       "      <th></th>\n",
       "      <th>gene_names</th>\n",
       "    </tr>\n",
       "    <tr>\n",
       "      <th>gene_name</th>\n",
       "      <th></th>\n",
       "    </tr>\n",
       "  </thead>\n",
       "  <tbody>\n",
       "    <tr>\n",
       "      <th>RP11-651P23.5</th>\n",
       "      <td>RP11-651P23.5</td>\n",
       "    </tr>\n",
       "    <tr>\n",
       "      <th>MFI2-AS1</th>\n",
       "      <td>MFI2-AS1</td>\n",
       "    </tr>\n",
       "    <tr>\n",
       "      <th>SAP130</th>\n",
       "      <td>SAP130</td>\n",
       "    </tr>\n",
       "    <tr>\n",
       "      <th>RAD50</th>\n",
       "      <td>RAD50</td>\n",
       "    </tr>\n",
       "    <tr>\n",
       "      <th>IL10RB</th>\n",
       "      <td>IL10RB</td>\n",
       "    </tr>\n",
       "  </tbody>\n",
       "</table>\n",
       "</div>"
      ],
      "text/plain": [
       "                  gene_names\n",
       "gene_name                   \n",
       "RP11-651P23.5  RP11-651P23.5\n",
       "MFI2-AS1            MFI2-AS1\n",
       "SAP130                SAP130\n",
       "RAD50                  RAD50\n",
       "IL10RB                IL10RB"
      ]
     },
     "execution_count": 198,
     "metadata": {},
     "output_type": "execute_result"
    }
   ],
   "source": [
    "adata_kras_proc.var.head()"
   ]
  },
  {
   "cell_type": "code",
   "execution_count": 199,
   "metadata": {},
   "outputs": [
    {
     "data": {
      "text/html": [
       "<div>\n",
       "<style scoped>\n",
       "    .dataframe tbody tr th:only-of-type {\n",
       "        vertical-align: middle;\n",
       "    }\n",
       "\n",
       "    .dataframe tbody tr th {\n",
       "        vertical-align: top;\n",
       "    }\n",
       "\n",
       "    .dataframe thead th {\n",
       "        text-align: right;\n",
       "    }\n",
       "</style>\n",
       "<table border=\"1\" class=\"dataframe\">\n",
       "  <thead>\n",
       "    <tr style=\"text-align: right;\">\n",
       "      <th></th>\n",
       "      <th>gene_names</th>\n",
       "    </tr>\n",
       "    <tr>\n",
       "      <th>gene_name</th>\n",
       "      <th></th>\n",
       "    </tr>\n",
       "  </thead>\n",
       "  <tbody>\n",
       "    <tr>\n",
       "      <th>RP11-651P23.5</th>\n",
       "      <td>RP11-651P23.5</td>\n",
       "    </tr>\n",
       "    <tr>\n",
       "      <th>MFI2-AS1</th>\n",
       "      <td>MFI2-AS1</td>\n",
       "    </tr>\n",
       "    <tr>\n",
       "      <th>SAP130</th>\n",
       "      <td>SAP130</td>\n",
       "    </tr>\n",
       "    <tr>\n",
       "      <th>RAD50</th>\n",
       "      <td>RAD50</td>\n",
       "    </tr>\n",
       "    <tr>\n",
       "      <th>IL10RB</th>\n",
       "      <td>IL10RB</td>\n",
       "    </tr>\n",
       "  </tbody>\n",
       "</table>\n",
       "</div>"
      ],
      "text/plain": [
       "                  gene_names\n",
       "gene_name                   \n",
       "RP11-651P23.5  RP11-651P23.5\n",
       "MFI2-AS1            MFI2-AS1\n",
       "SAP130                SAP130\n",
       "RAD50                  RAD50\n",
       "IL10RB                IL10RB"
      ]
     },
     "execution_count": 199,
     "metadata": {},
     "output_type": "execute_result"
    }
   ],
   "source": [
    "adata_tp53_proc.var.head()"
   ]
  },
  {
   "cell_type": "code",
   "execution_count": 200,
   "metadata": {},
   "outputs": [
    {
     "data": {
      "text/html": [
       "<div>\n",
       "<style scoped>\n",
       "    .dataframe tbody tr th:only-of-type {\n",
       "        vertical-align: middle;\n",
       "    }\n",
       "\n",
       "    .dataframe tbody tr th {\n",
       "        vertical-align: top;\n",
       "    }\n",
       "\n",
       "    .dataframe thead th {\n",
       "        text-align: right;\n",
       "    }\n",
       "</style>\n",
       "<table border=\"1\" class=\"dataframe\">\n",
       "  <thead>\n",
       "    <tr style=\"text-align: right;\">\n",
       "      <th></th>\n",
       "      <th>gene_names</th>\n",
       "    </tr>\n",
       "    <tr>\n",
       "      <th>gene_name</th>\n",
       "      <th></th>\n",
       "    </tr>\n",
       "  </thead>\n",
       "  <tbody>\n",
       "    <tr>\n",
       "      <th>RP11-651P23.5</th>\n",
       "      <td>RP11-651P23.5</td>\n",
       "    </tr>\n",
       "    <tr>\n",
       "      <th>MFI2-AS1</th>\n",
       "      <td>MFI2-AS1</td>\n",
       "    </tr>\n",
       "    <tr>\n",
       "      <th>SAP130</th>\n",
       "      <td>SAP130</td>\n",
       "    </tr>\n",
       "    <tr>\n",
       "      <th>RAD50</th>\n",
       "      <td>RAD50</td>\n",
       "    </tr>\n",
       "    <tr>\n",
       "      <th>IL10RB</th>\n",
       "      <td>IL10RB</td>\n",
       "    </tr>\n",
       "  </tbody>\n",
       "</table>\n",
       "</div>"
      ],
      "text/plain": [
       "                  gene_names\n",
       "gene_name                   \n",
       "RP11-651P23.5  RP11-651P23.5\n",
       "MFI2-AS1            MFI2-AS1\n",
       "SAP130                SAP130\n",
       "RAD50                  RAD50\n",
       "IL10RB                IL10RB"
      ]
     },
     "execution_count": 200,
     "metadata": {},
     "output_type": "execute_result"
    }
   ],
   "source": [
    "adata_combine.var.head()"
   ]
  },
  {
   "cell_type": "code",
   "execution_count": 201,
   "metadata": {},
   "outputs": [
    {
     "data": {
      "text/plain": [
       "(176040, 23984)"
      ]
     },
     "execution_count": 201,
     "metadata": {},
     "output_type": "execute_result"
    }
   ],
   "source": [
    "adata_combine.shape"
   ]
  },
  {
   "cell_type": "code",
   "execution_count": 202,
   "metadata": {},
   "outputs": [
    {
     "data": {
      "text/plain": [
       "(176040, 23984)"
      ]
     },
     "execution_count": 202,
     "metadata": {},
     "output_type": "execute_result"
    }
   ],
   "source": [
    "adata_combine.var_names_make_unique()\n",
    "adata_combine.shape"
   ]
  },
  {
   "cell_type": "code",
   "execution_count": 203,
   "metadata": {},
   "outputs": [
    {
     "name": "stdout",
     "output_type": "stream",
     "text": [
      "WARNING: If you miss a compact list, please try `print_header`!\n",
      "The `sinfo` package has changed name and is now called `session_info` to become more discoverable and self-explanatory. The `sinfo` PyPI package will be kept around to avoid breaking old installs and you can downgrade to 0.3.2 if you want to use it without seeing this message. For the latest features and bug fixes, please install `session_info` instead. The usage and defaults also changed slightly, so please review the latest README at https://gitlab.com/joelostblom/session_info.\n",
      "-----\n",
      "anndata     0.7.5\n",
      "scanpy      1.8.1\n",
      "sinfo       0.3.4\n",
      "-----\n",
      "PIL                 7.2.0\n",
      "attr                19.3.0\n",
      "backcall            0.2.0\n",
      "bottleneck          1.3.2\n",
      "cffi                1.14.0\n",
      "cloudpickle         1.5.0\n",
      "colorama            0.4.3\n",
      "cycler              0.10.0\n",
      "cython_runtime      NA\n",
      "cytoolz             0.10.1\n",
      "dask                2.20.0\n",
      "dateutil            2.8.1\n",
      "decorator           4.4.2\n",
      "google              NA\n",
      "h5py                2.10.0\n",
      "idna                2.10\n",
      "ipykernel           5.3.2\n",
      "ipython_genutils    0.2.0\n",
      "ipywidgets          7.5.1\n",
      "jedi                0.17.1\n",
      "jinja2              2.11.2\n",
      "joblib              0.16.0\n",
      "jsonschema          3.2.0\n",
      "kiwisolver          1.2.0\n",
      "llvmlite            0.33.0+1.g022ab0f\n",
      "markupsafe          1.1.1\n",
      "matplotlib          3.2.2\n",
      "mkl                 2.3.0\n",
      "mpl_toolkits        NA\n",
      "natsort             7.1.0\n",
      "nbformat            5.0.7\n",
      "numba               0.50.1\n",
      "numexpr             2.7.1\n",
      "numpy               1.18.5\n",
      "packaging           20.4\n",
      "pandas              1.0.5\n",
      "parso               0.7.0\n",
      "pexpect             4.8.0\n",
      "pickleshare         0.7.5\n",
      "pkg_resources       NA\n",
      "prometheus_client   NA\n",
      "prompt_toolkit      3.0.5\n",
      "psutil              5.7.0\n",
      "ptyprocess          0.6.0\n",
      "pvectorc            NA\n",
      "pygments            2.6.1\n",
      "pyparsing           2.4.7\n",
      "pyrsistent          NA\n",
      "pytz                2020.1\n",
      "scipy               1.4.1\n",
      "seaborn             0.11.2\n",
      "send2trash          NA\n",
      "six                 1.15.0\n",
      "sklearn             0.23.1\n",
      "sphinxcontrib       NA\n",
      "statsmodels         0.11.1\n",
      "storemagic          NA\n",
      "tables              3.6.1\n",
      "tblib               1.6.0\n",
      "terminado           0.8.3\n",
      "tlz                 0.10.1\n",
      "toolz               0.10.0\n",
      "tornado             6.1\n",
      "traitlets           4.3.3\n",
      "typing_extensions   NA\n",
      "wcwidth             0.2.5\n",
      "yaml                5.3.1\n",
      "zmq                 19.0.1\n",
      "zope                NA\n",
      "-----\n",
      "IPython             7.16.1\n",
      "jupyter_client      6.1.6\n",
      "jupyter_core        4.6.3\n",
      "jupyterlab          2.2.10\n",
      "notebook            6.4.1\n",
      "-----\n",
      "Python 3.8.3 (default, Jul  2 2020, 16:21:59) [GCC 7.3.0]\n",
      "Linux-3.10.0-1160.45.1.el7.x86_64-x86_64-with-glibc2.10\n",
      "36 logical CPU cores, x86_64\n",
      "-----\n",
      "Session information updated at 2022-03-10 14:19\n",
      "\n"
     ]
    }
   ],
   "source": [
    "sc.settings.verbosity = 3\n",
    "sc.logging.print_versions()"
   ]
  },
  {
   "cell_type": "code",
   "execution_count": 204,
   "metadata": {},
   "outputs": [
    {
     "data": {
      "text/plain": [
       "(176040, 23984)"
      ]
     },
     "execution_count": 204,
     "metadata": {},
     "output_type": "execute_result"
    }
   ],
   "source": [
    "adata_combine.shape"
   ]
  },
  {
   "cell_type": "code",
   "execution_count": 205,
   "metadata": {},
   "outputs": [
    {
     "name": "stdout",
     "output_type": "stream",
     "text": [
      "normalizing counts per cell\n",
      "    finished (0:01:23)\n"
     ]
    },
    {
     "data": {
      "image/png": "[encoded data removed]",
      "text/plain": [
       "<Figure size 400x440 with 1 Axes>"
      ]
     },
     "metadata": {
      "image/png": {
       "height": 393,
       "width": 419
      },
      "needs_background": "light"
     },
     "output_type": "display_data"
    }
   ],
   "source": [
    "sc.settings.set_figure_params(dpi=80)\n",
    "sc.pl.highest_expr_genes(adata_combine, n_top = 20)"
   ]
  },
  {
   "cell_type": "code",
   "execution_count": 206,
   "metadata": {},
   "outputs": [
    {
     "name": "stdout",
     "output_type": "stream",
     "text": [
      "filtered out 86 genes that are detected in less than 3 cells\n"
     ]
    }
   ],
   "source": [
    "sc.pp.filter_cells(adata_combine, min_genes = 200)\n",
    "sc.pp.filter_genes(adata_combine, min_cells = 3)"
   ]
  },
  {
   "cell_type": "code",
   "execution_count": 207,
   "metadata": {},
   "outputs": [
    {
     "data": {
      "text/plain": [
       "(176040, 23898)"
      ]
     },
     "execution_count": 207,
     "metadata": {},
     "output_type": "execute_result"
    }
   ],
   "source": [
    "adata_combine.shape"
   ]
  },
  {
   "cell_type": "code",
   "execution_count": 208,
   "metadata": {},
   "outputs": [],
   "source": [
    "x_data =adata_combine.X\n",
    "x_data= np.matrix(x_data)"
   ]
  },
  {
   "cell_type": "code",
   "execution_count": 209,
   "metadata": {},
   "outputs": [],
   "source": [
    "mito_genes = adata_combine.var_names.str.startswith('MT-')\n",
    "\n",
    "adata_combine.obs['percent_mito'] = np.sum(\n",
    "    x_data[:, mito_genes], axis=1).A1 / np.sum(x_data, axis=1).A1\n",
    "# add the total counts per cell as observations-annotation to adata\n",
    "adata_combine.obs['n_counts'] = x_data.sum(axis=1).A1"
   ]
  },
  {
   "cell_type": "code",
   "execution_count": 210,
   "metadata": {},
   "outputs": [
    {
     "name": "stderr",
     "output_type": "stream",
     "text": [
      "... storing 0 as categorical\n"
     ]
    },
    {
     "data": {
      "image/png": "[encoded data removed]",
      "text/plain": [
       "<Figure size 1200x400 with 3 Axes>"
      ]
     },
     "metadata": {
      "image/png": {
       "height": 382,
       "width": 1182
      },
      "needs_background": "light"
     },
     "output_type": "display_data"
    }
   ],
   "source": [
    "sc.pl.violin(adata_combine, ['n_genes', 'n_counts', 'percent_mito'],\n",
    "             jitter=0, multi_panel=True)"
   ]
  },
  {
   "cell_type": "code",
   "execution_count": 211,
   "metadata": {},
   "outputs": [
    {
     "data": {
      "image/png": "[encoded data removed]",
      "text/plain": [
       "<Figure size 327.28x320 with 1 Axes>"
      ]
     },
     "metadata": {
      "image/png": {
       "height": 302,
       "width": 303
      },
      "needs_background": "light"
     },
     "output_type": "display_data"
    },
    {
     "data": {
      "image/png": "[encoded data removed]",
      "text/plain": [
       "<Figure size 327.28x320 with 1 Axes>"
      ]
     },
     "metadata": {
      "image/png": {
       "height": 302,
       "width": 308
      },
      "needs_background": "light"
     },
     "output_type": "display_data"
    }
   ],
   "source": [
    "sc.pl.scatter(adata_combine, x='n_counts', y='percent_mito')\n",
    "sc.pl.scatter(adata_combine, x='n_counts', y='n_genes')"
   ]
  },
  {
   "cell_type": "code",
   "execution_count": 212,
   "metadata": {},
   "outputs": [
    {
     "data": {
      "text/plain": [
       "(175773, 165179)"
      ]
     },
     "execution_count": 212,
     "metadata": {},
     "output_type": "execute_result"
    }
   ],
   "source": [
    "(adata_combine.obs['n_genes'] < 6000).sum(), (adata_combine.obs['percent_mito'] < 0.1).sum()"
   ]
  },
  {
   "cell_type": "code",
   "execution_count": 213,
   "metadata": {},
   "outputs": [
    {
     "data": {
      "text/plain": [
       "matrix([[15047.],\n",
       "        [25642.],\n",
       "        [18119.],\n",
       "        [21311.],\n",
       "        [17166.],\n",
       "        [28035.],\n",
       "        [20335.],\n",
       "        [25979.],\n",
       "        [27056.],\n",
       "        [29002.]], dtype=float32)"
      ]
     },
     "execution_count": 213,
     "metadata": {},
     "output_type": "execute_result"
    }
   ],
   "source": [
    "x_data.sum(1)[:10]"
   ]
  },
  {
   "cell_type": "code",
   "execution_count": 214,
   "metadata": {},
   "outputs": [
    {
     "data": {
      "text/html": [
       "<div>\n",
       "<style scoped>\n",
       "    .dataframe tbody tr th:only-of-type {\n",
       "        vertical-align: middle;\n",
       "    }\n",
       "\n",
       "    .dataframe tbody tr th {\n",
       "        vertical-align: top;\n",
       "    }\n",
       "\n",
       "    .dataframe thead th {\n",
       "        text-align: right;\n",
       "    }\n",
       "</style>\n",
       "<table border=\"1\" class=\"dataframe\">\n",
       "  <thead>\n",
       "    <tr style=\"text-align: right;\">\n",
       "      <th></th>\n",
       "      <th>gene_names</th>\n",
       "      <th>n_cells</th>\n",
       "    </tr>\n",
       "    <tr>\n",
       "      <th>gene_name</th>\n",
       "      <th></th>\n",
       "      <th></th>\n",
       "    </tr>\n",
       "  </thead>\n",
       "  <tbody>\n",
       "    <tr>\n",
       "      <th>RP11-651P23.5</th>\n",
       "      <td>RP11-651P23.5</td>\n",
       "      <td>69</td>\n",
       "    </tr>\n",
       "    <tr>\n",
       "      <th>MFI2-AS1</th>\n",
       "      <td>MFI2-AS1</td>\n",
       "      <td>15956</td>\n",
       "    </tr>\n",
       "    <tr>\n",
       "      <th>SAP130</th>\n",
       "      <td>SAP130</td>\n",
       "      <td>15818</td>\n",
       "    </tr>\n",
       "    <tr>\n",
       "      <th>RAD50</th>\n",
       "      <td>RAD50</td>\n",
       "      <td>106592</td>\n",
       "    </tr>\n",
       "    <tr>\n",
       "      <th>IL10RB</th>\n",
       "      <td>IL10RB</td>\n",
       "      <td>33884</td>\n",
       "    </tr>\n",
       "  </tbody>\n",
       "</table>\n",
       "</div>"
      ],
      "text/plain": [
       "                  gene_names  n_cells\n",
       "gene_name                            \n",
       "RP11-651P23.5  RP11-651P23.5       69\n",
       "MFI2-AS1            MFI2-AS1    15956\n",
       "SAP130                SAP130    15818\n",
       "RAD50                  RAD50   106592\n",
       "IL10RB                IL10RB    33884"
      ]
     },
     "execution_count": 214,
     "metadata": {},
     "output_type": "execute_result"
    }
   ],
   "source": [
    "adata_combine.var.head()"
   ]
  },
  {
   "cell_type": "code",
   "execution_count": 215,
   "metadata": {},
   "outputs": [],
   "source": [
    "adata_combine = adata_combine[adata_combine.obs['percent_mito'] < 0.1, :]\n",
    "adata_combine = adata_combine[adata_combine.obs['n_genes'] < 6000, :]\n"
   ]
  },
  {
   "cell_type": "code",
   "execution_count": 216,
   "metadata": {},
   "outputs": [],
   "source": [
    "adata_combineCount = adata_combine.copy()\n"
   ]
  },
  {
   "cell_type": "code",
   "execution_count": 217,
   "metadata": {},
   "outputs": [
    {
     "data": {
      "text/html": [
       "<div>\n",
       "<style scoped>\n",
       "    .dataframe tbody tr th:only-of-type {\n",
       "        vertical-align: middle;\n",
       "    }\n",
       "\n",
       "    .dataframe tbody tr th {\n",
       "        vertical-align: top;\n",
       "    }\n",
       "\n",
       "    .dataframe thead th {\n",
       "        text-align: right;\n",
       "    }\n",
       "</style>\n",
       "<table border=\"1\" class=\"dataframe\">\n",
       "  <thead>\n",
       "    <tr style=\"text-align: right;\">\n",
       "      <th></th>\n",
       "      <th>0</th>\n",
       "      <th>batch</th>\n",
       "      <th>n_genes</th>\n",
       "      <th>percent_mito</th>\n",
       "      <th>n_counts</th>\n",
       "    </tr>\n",
       "  </thead>\n",
       "  <tbody>\n",
       "    <tr>\n",
       "      <th>100430-0</th>\n",
       "      <td>TATCAGGGTAAGGGAA-1-21</td>\n",
       "      <td>0</td>\n",
       "      <td>2816</td>\n",
       "      <td>0.054297</td>\n",
       "      <td>15047.0</td>\n",
       "    </tr>\n",
       "    <tr>\n",
       "      <th>66847-0</th>\n",
       "      <td>GGGCACTAGAGGGCTT-1-14</td>\n",
       "      <td>0</td>\n",
       "      <td>3817</td>\n",
       "      <td>0.083028</td>\n",
       "      <td>25642.0</td>\n",
       "    </tr>\n",
       "    <tr>\n",
       "      <th>124665-0</th>\n",
       "      <td>TGCTACCGTTAGGGTG-1-26</td>\n",
       "      <td>0</td>\n",
       "      <td>3373</td>\n",
       "      <td>0.072300</td>\n",
       "      <td>18119.0</td>\n",
       "    </tr>\n",
       "    <tr>\n",
       "      <th>36093-0</th>\n",
       "      <td>TTCTCCTCAAAGGCGT-1-7</td>\n",
       "      <td>0</td>\n",
       "      <td>3520</td>\n",
       "      <td>0.058233</td>\n",
       "      <td>21311.0</td>\n",
       "    </tr>\n",
       "    <tr>\n",
       "      <th>107267-0</th>\n",
       "      <td>CCCAATCCAGTATAAG-1-23</td>\n",
       "      <td>0</td>\n",
       "      <td>3176</td>\n",
       "      <td>0.082955</td>\n",
       "      <td>17166.0</td>\n",
       "    </tr>\n",
       "  </tbody>\n",
       "</table>\n",
       "</div>"
      ],
      "text/plain": [
       "                              0 batch  n_genes  percent_mito  n_counts\n",
       "100430-0  TATCAGGGTAAGGGAA-1-21     0     2816      0.054297   15047.0\n",
       "66847-0   GGGCACTAGAGGGCTT-1-14     0     3817      0.083028   25642.0\n",
       "124665-0  TGCTACCGTTAGGGTG-1-26     0     3373      0.072300   18119.0\n",
       "36093-0    TTCTCCTCAAAGGCGT-1-7     0     3520      0.058233   21311.0\n",
       "107267-0  CCCAATCCAGTATAAG-1-23     0     3176      0.082955   17166.0"
      ]
     },
     "execution_count": 217,
     "metadata": {},
     "output_type": "execute_result"
    }
   ],
   "source": [
    "adata_combineCount.obs.head()"
   ]
  },
  {
   "cell_type": "code",
   "execution_count": 219,
   "metadata": {},
   "outputs": [
    {
     "data": {
      "text/html": [
       "<div>\n",
       "<style scoped>\n",
       "    .dataframe tbody tr th:only-of-type {\n",
       "        vertical-align: middle;\n",
       "    }\n",
       "\n",
       "    .dataframe tbody tr th {\n",
       "        vertical-align: top;\n",
       "    }\n",
       "\n",
       "    .dataframe thead th {\n",
       "        text-align: right;\n",
       "    }\n",
       "</style>\n",
       "<table border=\"1\" class=\"dataframe\">\n",
       "  <thead>\n",
       "    <tr style=\"text-align: right;\">\n",
       "      <th></th>\n",
       "      <th>gene_names</th>\n",
       "      <th>n_cells</th>\n",
       "    </tr>\n",
       "    <tr>\n",
       "      <th>gene_name</th>\n",
       "      <th></th>\n",
       "      <th></th>\n",
       "    </tr>\n",
       "  </thead>\n",
       "  <tbody>\n",
       "    <tr>\n",
       "      <th>RP11-651P23.5</th>\n",
       "      <td>RP11-651P23.5</td>\n",
       "      <td>69</td>\n",
       "    </tr>\n",
       "    <tr>\n",
       "      <th>MFI2-AS1</th>\n",
       "      <td>MFI2-AS1</td>\n",
       "      <td>15956</td>\n",
       "    </tr>\n",
       "    <tr>\n",
       "      <th>SAP130</th>\n",
       "      <td>SAP130</td>\n",
       "      <td>15818</td>\n",
       "    </tr>\n",
       "    <tr>\n",
       "      <th>RAD50</th>\n",
       "      <td>RAD50</td>\n",
       "      <td>106592</td>\n",
       "    </tr>\n",
       "    <tr>\n",
       "      <th>IL10RB</th>\n",
       "      <td>IL10RB</td>\n",
       "      <td>33884</td>\n",
       "    </tr>\n",
       "  </tbody>\n",
       "</table>\n",
       "</div>"
      ],
      "text/plain": [
       "                  gene_names  n_cells\n",
       "gene_name                            \n",
       "RP11-651P23.5  RP11-651P23.5       69\n",
       "MFI2-AS1            MFI2-AS1    15956\n",
       "SAP130                SAP130    15818\n",
       "RAD50                  RAD50   106592\n",
       "IL10RB                IL10RB    33884"
      ]
     },
     "execution_count": 219,
     "metadata": {},
     "output_type": "execute_result"
    }
   ],
   "source": [
    "adata_combineCount.var.head()"
   ]
  },
  {
   "cell_type": "code",
   "execution_count": 220,
   "metadata": {},
   "outputs": [
    {
     "data": {
      "text/plain": [
       "Index([0, 'batch', 'n_genes', 'percent_mito', 'n_counts'], dtype='object')"
      ]
     },
     "execution_count": 220,
     "metadata": {},
     "output_type": "execute_result"
    }
   ],
   "source": [
    "adata_combineCount.obs.columns"
   ]
  },
  {
   "cell_type": "code",
   "execution_count": 221,
   "metadata": {},
   "outputs": [],
   "source": [
    "adata_combineCount.obs.index = adata_combineCount.obs[0]\n",
    "adata_combineCount.obs.index.name = 'cell_name'\n",
    "adata_combineCount.obs.columns = ['cell_name', 'batch', 'n_genes', 'percent_mito', 'n_counts']"
   ]
  },
  {
   "cell_type": "code",
   "execution_count": 222,
   "metadata": {},
   "outputs": [
    {
     "data": {
      "text/html": [
       "<div>\n",
       "<style scoped>\n",
       "    .dataframe tbody tr th:only-of-type {\n",
       "        vertical-align: middle;\n",
       "    }\n",
       "\n",
       "    .dataframe tbody tr th {\n",
       "        vertical-align: top;\n",
       "    }\n",
       "\n",
       "    .dataframe thead th {\n",
       "        text-align: right;\n",
       "    }\n",
       "</style>\n",
       "<table border=\"1\" class=\"dataframe\">\n",
       "  <thead>\n",
       "    <tr style=\"text-align: right;\">\n",
       "      <th></th>\n",
       "      <th>cell_name</th>\n",
       "      <th>batch</th>\n",
       "      <th>n_genes</th>\n",
       "      <th>percent_mito</th>\n",
       "      <th>n_counts</th>\n",
       "    </tr>\n",
       "    <tr>\n",
       "      <th>cell_name</th>\n",
       "      <th></th>\n",
       "      <th></th>\n",
       "      <th></th>\n",
       "      <th></th>\n",
       "      <th></th>\n",
       "    </tr>\n",
       "  </thead>\n",
       "  <tbody>\n",
       "    <tr>\n",
       "      <th>TATCAGGGTAAGGGAA-1-21</th>\n",
       "      <td>TATCAGGGTAAGGGAA-1-21</td>\n",
       "      <td>0</td>\n",
       "      <td>2816</td>\n",
       "      <td>0.054297</td>\n",
       "      <td>15047.0</td>\n",
       "    </tr>\n",
       "    <tr>\n",
       "      <th>GGGCACTAGAGGGCTT-1-14</th>\n",
       "      <td>GGGCACTAGAGGGCTT-1-14</td>\n",
       "      <td>0</td>\n",
       "      <td>3817</td>\n",
       "      <td>0.083028</td>\n",
       "      <td>25642.0</td>\n",
       "    </tr>\n",
       "    <tr>\n",
       "      <th>TGCTACCGTTAGGGTG-1-26</th>\n",
       "      <td>TGCTACCGTTAGGGTG-1-26</td>\n",
       "      <td>0</td>\n",
       "      <td>3373</td>\n",
       "      <td>0.072300</td>\n",
       "      <td>18119.0</td>\n",
       "    </tr>\n",
       "    <tr>\n",
       "      <th>TTCTCCTCAAAGGCGT-1-7</th>\n",
       "      <td>TTCTCCTCAAAGGCGT-1-7</td>\n",
       "      <td>0</td>\n",
       "      <td>3520</td>\n",
       "      <td>0.058233</td>\n",
       "      <td>21311.0</td>\n",
       "    </tr>\n",
       "    <tr>\n",
       "      <th>CCCAATCCAGTATAAG-1-23</th>\n",
       "      <td>CCCAATCCAGTATAAG-1-23</td>\n",
       "      <td>0</td>\n",
       "      <td>3176</td>\n",
       "      <td>0.082955</td>\n",
       "      <td>17166.0</td>\n",
       "    </tr>\n",
       "  </tbody>\n",
       "</table>\n",
       "</div>"
      ],
      "text/plain": [
       "                                   cell_name batch  n_genes  percent_mito  \\\n",
       "cell_name                                                                   \n",
       "TATCAGGGTAAGGGAA-1-21  TATCAGGGTAAGGGAA-1-21     0     2816      0.054297   \n",
       "GGGCACTAGAGGGCTT-1-14  GGGCACTAGAGGGCTT-1-14     0     3817      0.083028   \n",
       "TGCTACCGTTAGGGTG-1-26  TGCTACCGTTAGGGTG-1-26     0     3373      0.072300   \n",
       "TTCTCCTCAAAGGCGT-1-7    TTCTCCTCAAAGGCGT-1-7     0     3520      0.058233   \n",
       "CCCAATCCAGTATAAG-1-23  CCCAATCCAGTATAAG-1-23     0     3176      0.082955   \n",
       "\n",
       "                       n_counts  \n",
       "cell_name                        \n",
       "TATCAGGGTAAGGGAA-1-21   15047.0  \n",
       "GGGCACTAGAGGGCTT-1-14   25642.0  \n",
       "TGCTACCGTTAGGGTG-1-26   18119.0  \n",
       "TTCTCCTCAAAGGCGT-1-7    21311.0  \n",
       "CCCAATCCAGTATAAG-1-23   17166.0  "
      ]
     },
     "execution_count": 222,
     "metadata": {},
     "output_type": "execute_result"
    }
   ],
   "source": [
    "adata_combineCount.obs.head()"
   ]
  },
  {
   "cell_type": "code",
   "execution_count": 223,
   "metadata": {},
   "outputs": [
    {
     "data": {
      "text/plain": [
       "(164931, 23898)"
      ]
     },
     "execution_count": 223,
     "metadata": {},
     "output_type": "execute_result"
    }
   ],
   "source": [
    "adata_combineCount.shape"
   ]
  },
  {
   "cell_type": "code",
   "execution_count": 226,
   "metadata": {},
   "outputs": [],
   "source": [
    "adata_combineCount.obs.index.name = 'cell_id'"
   ]
  },
  {
   "cell_type": "code",
   "execution_count": 228,
   "metadata": {},
   "outputs": [],
   "source": [
    "adata_combineCount.var.index.name = 'gene_id'"
   ]
  },
  {
   "cell_type": "code",
   "execution_count": 229,
   "metadata": {},
   "outputs": [],
   "source": [
    "adata_combineCount.var_names_make_unique()"
   ]
  },
  {
   "cell_type": "code",
   "execution_count": 233,
   "metadata": {},
   "outputs": [],
   "source": [
    "adata_combineCount.obs['cell_name'] = list(adata_combineCount.obs['cell_name'])"
   ]
  },
  {
   "cell_type": "code",
   "execution_count": 236,
   "metadata": {},
   "outputs": [],
   "source": [
    "adata_combineCount.obs.index = list(adata_combineCount.obs.index)"
   ]
  },
  {
   "cell_type": "code",
   "execution_count": 237,
   "metadata": {},
   "outputs": [],
   "source": [
    "adata_combineCount.obs_names_make_unique()"
   ]
  },
  {
   "cell_type": "code",
   "execution_count": 238,
   "metadata": {},
   "outputs": [
    {
     "name": "stderr",
     "output_type": "stream",
     "text": [
      "... storing 'cell_name' as categorical\n"
     ]
    }
   ],
   "source": [
    "adata_combineCount.write('Combine_raw_BeforeNormalize.h5ad')"
   ]
  },
  {
   "cell_type": "code",
   "execution_count": 239,
   "metadata": {},
   "outputs": [],
   "source": [
    "adata_combine = adata_combineCount.copy()"
   ]
  },
  {
   "cell_type": "markdown",
   "metadata": {},
   "source": [
    "##  select hightly-variable genes"
   ]
  },
  {
   "cell_type": "code",
   "execution_count": 4,
   "metadata": {},
   "outputs": [],
   "source": [
    "import scanpy as sc\n",
    "adata_combine = sc.read('Combine_raw_BeforeNormalize.h5ad')"
   ]
  },
  {
   "cell_type": "code",
   "execution_count": 21,
   "metadata": {},
   "outputs": [
    {
     "data": {
      "text/html": [
       "<div>\n",
       "<style scoped>\n",
       "    .dataframe tbody tr th:only-of-type {\n",
       "        vertical-align: middle;\n",
       "    }\n",
       "\n",
       "    .dataframe tbody tr th {\n",
       "        vertical-align: top;\n",
       "    }\n",
       "\n",
       "    .dataframe thead th {\n",
       "        text-align: right;\n",
       "    }\n",
       "</style>\n",
       "<table border=\"1\" class=\"dataframe\">\n",
       "  <thead>\n",
       "    <tr style=\"text-align: right;\">\n",
       "      <th></th>\n",
       "      <th>cell_name</th>\n",
       "      <th>batch</th>\n",
       "      <th>n_genes</th>\n",
       "      <th>percent_mito</th>\n",
       "      <th>n_counts</th>\n",
       "    </tr>\n",
       "  </thead>\n",
       "  <tbody>\n",
       "    <tr>\n",
       "      <th>KRAS_GGAACTTGTAGCTTGT</th>\n",
       "      <td>KRAS_GGAACTTGTAGCTTGT</td>\n",
       "      <td>0</td>\n",
       "      <td>4505</td>\n",
       "      <td>0.087710</td>\n",
       "      <td>27454.0</td>\n",
       "    </tr>\n",
       "    <tr>\n",
       "      <th>KRAS_GGAACTTGTAGCTTGT-1</th>\n",
       "      <td>KRAS_GGAACTTGTAGCTTGT</td>\n",
       "      <td>0</td>\n",
       "      <td>2984</td>\n",
       "      <td>0.041386</td>\n",
       "      <td>16479.0</td>\n",
       "    </tr>\n",
       "  </tbody>\n",
       "</table>\n",
       "</div>"
      ],
      "text/plain": [
       "                                     cell_name batch  n_genes  percent_mito  \\\n",
       "KRAS_GGAACTTGTAGCTTGT    KRAS_GGAACTTGTAGCTTGT     0     4505      0.087710   \n",
       "KRAS_GGAACTTGTAGCTTGT-1  KRAS_GGAACTTGTAGCTTGT     0     2984      0.041386   \n",
       "\n",
       "                         n_counts  \n",
       "KRAS_GGAACTTGTAGCTTGT     27454.0  \n",
       "KRAS_GGAACTTGTAGCTTGT-1   16479.0  "
      ]
     },
     "execution_count": 21,
     "metadata": {},
     "output_type": "execute_result"
    }
   ],
   "source": [
    "adata_combine = sc.read('Combine_raw_BeforeNormalize.h5ad')\n",
    "obs_data = adata_combine.obs\n",
    "obs_data[obs_data['cell_name'] == 'KRAS_GGAACTTGTAGCTTGT']"
   ]
  },
  {
   "cell_type": "code",
   "execution_count": 5,
   "metadata": {},
   "outputs": [],
   "source": [
    "sc.pp.normalize_per_cell(adata_combine, counts_per_cell_after=1e6)\n",
    "sc.pp.log1p(adata_combine)\n",
    "adata_combine.raw = adata_combine"
   ]
  },
  {
   "cell_type": "code",
   "execution_count": 6,
   "metadata": {},
   "outputs": [],
   "source": [
    "sc.pp.highly_variable_genes(adata_combine, min_mean=0.0125, max_mean=5, min_disp=0.5)\n"
   ]
  },
  {
   "cell_type": "code",
   "execution_count": 7,
   "metadata": {},
   "outputs": [
    {
     "data": {
      "image/png": "[encoded data removed]",
      "text/plain": [
       "<Figure size 864x288 with 2 Axes>"
      ]
     },
     "metadata": {
      "needs_background": "light"
     },
     "output_type": "display_data"
    }
   ],
   "source": [
    "sc.pl.highly_variable_genes(adata_combine)"
   ]
  },
  {
   "cell_type": "code",
   "execution_count": 8,
   "metadata": {},
   "outputs": [
    {
     "data": {
      "text/html": [
       "<div>\n",
       "<style scoped>\n",
       "    .dataframe tbody tr th:only-of-type {\n",
       "        vertical-align: middle;\n",
       "    }\n",
       "\n",
       "    .dataframe tbody tr th {\n",
       "        vertical-align: top;\n",
       "    }\n",
       "\n",
       "    .dataframe thead th {\n",
       "        text-align: right;\n",
       "    }\n",
       "</style>\n",
       "<table border=\"1\" class=\"dataframe\">\n",
       "  <thead>\n",
       "    <tr style=\"text-align: right;\">\n",
       "      <th></th>\n",
       "      <th>gene_names</th>\n",
       "      <th>n_cells</th>\n",
       "      <th>highly_variable</th>\n",
       "      <th>means</th>\n",
       "      <th>dispersions</th>\n",
       "      <th>dispersions_norm</th>\n",
       "    </tr>\n",
       "    <tr>\n",
       "      <th>gene_id</th>\n",
       "      <th></th>\n",
       "      <th></th>\n",
       "      <th></th>\n",
       "      <th></th>\n",
       "      <th></th>\n",
       "      <th></th>\n",
       "    </tr>\n",
       "  </thead>\n",
       "  <tbody>\n",
       "    <tr>\n",
       "      <th>RP11-651P23.5</th>\n",
       "      <td>RP11-651P23.5</td>\n",
       "      <td>69</td>\n",
       "      <td>False</td>\n",
       "      <td>0.018960</td>\n",
       "      <td>4.009131</td>\n",
       "      <td>0.107912</td>\n",
       "    </tr>\n",
       "    <tr>\n",
       "      <th>MFI2-AS1</th>\n",
       "      <td>MFI2-AS1</td>\n",
       "      <td>15956</td>\n",
       "      <td>False</td>\n",
       "      <td>1.742992</td>\n",
       "      <td>3.992540</td>\n",
       "      <td>-0.028460</td>\n",
       "    </tr>\n",
       "    <tr>\n",
       "      <th>SAP130</th>\n",
       "      <td>SAP130</td>\n",
       "      <td>15818</td>\n",
       "      <td>False</td>\n",
       "      <td>1.698869</td>\n",
       "      <td>3.965450</td>\n",
       "      <td>-0.356301</td>\n",
       "    </tr>\n",
       "    <tr>\n",
       "      <th>RAD50</th>\n",
       "      <td>RAD50</td>\n",
       "      <td>106592</td>\n",
       "      <td>False</td>\n",
       "      <td>3.961958</td>\n",
       "      <td>4.150246</td>\n",
       "      <td>0.125940</td>\n",
       "    </tr>\n",
       "    <tr>\n",
       "      <th>IL10RB</th>\n",
       "      <td>IL10RB</td>\n",
       "      <td>33884</td>\n",
       "      <td>False</td>\n",
       "      <td>2.434160</td>\n",
       "      <td>3.977401</td>\n",
       "      <td>-0.330815</td>\n",
       "    </tr>\n",
       "  </tbody>\n",
       "</table>\n",
       "</div>"
      ],
      "text/plain": [
       "                  gene_names  n_cells  highly_variable     means  dispersions  \\\n",
       "gene_id                                                                         \n",
       "RP11-651P23.5  RP11-651P23.5       69            False  0.018960     4.009131   \n",
       "MFI2-AS1            MFI2-AS1    15956            False  1.742992     3.992540   \n",
       "SAP130                SAP130    15818            False  1.698869     3.965450   \n",
       "RAD50                  RAD50   106592            False  3.961958     4.150246   \n",
       "IL10RB                IL10RB    33884            False  2.434160     3.977401   \n",
       "\n",
       "               dispersions_norm  \n",
       "gene_id                          \n",
       "RP11-651P23.5          0.107912  \n",
       "MFI2-AS1              -0.028460  \n",
       "SAP130                -0.356301  \n",
       "RAD50                  0.125940  \n",
       "IL10RB                -0.330815  "
      ]
     },
     "execution_count": 8,
     "metadata": {},
     "output_type": "execute_result"
    }
   ],
   "source": [
    "adata_combine.var.head()"
   ]
  },
  {
   "cell_type": "code",
   "execution_count": 9,
   "metadata": {},
   "outputs": [],
   "source": [
    "highvar_gene = np.where(adata_combine.var['highly_variable'])[0]"
   ]
  },
  {
   "cell_type": "code",
   "execution_count": 10,
   "metadata": {},
   "outputs": [
    {
     "data": {
      "text/plain": [
       "array([   10,    20,    28, ..., 23826, 23841, 23846])"
      ]
     },
     "execution_count": 10,
     "metadata": {},
     "output_type": "execute_result"
    }
   ],
   "source": [
    "highvar_gene"
   ]
  },
  {
   "cell_type": "code",
   "execution_count": 11,
   "metadata": {},
   "outputs": [],
   "source": [
    "adata_combine = sc.read('Combine_raw_BeforeNormalize.h5ad')"
   ]
  },
  {
   "cell_type": "code",
   "execution_count": 13,
   "metadata": {},
   "outputs": [],
   "source": [
    "adata_combine.layers[\"counts\"] = adata_combine.X.copy()"
   ]
  },
  {
   "cell_type": "code",
   "execution_count": 14,
   "metadata": {},
   "outputs": [],
   "source": [
    "adata_combine = adata_combine[:, highvar_gene]"
   ]
  },
  {
   "cell_type": "code",
   "execution_count": 15,
   "metadata": {},
   "outputs": [
    {
     "data": {
      "text/plain": [
       "(164931, 1629)"
      ]
     },
     "execution_count": 15,
     "metadata": {},
     "output_type": "execute_result"
    }
   ],
   "source": [
    "adata_combine.layers[\n",
    "    'counts'\n",
    "].shape"
   ]
  },
  {
   "cell_type": "code",
   "execution_count": 16,
   "metadata": {},
   "outputs": [
    {
     "data": {
      "text/plain": [
       "(164931, 1629)"
      ]
     },
     "execution_count": 16,
     "metadata": {},
     "output_type": "execute_result"
    }
   ],
   "source": [
    "adata_combine.shape"
   ]
  },
  {
   "cell_type": "code",
   "execution_count": 17,
   "metadata": {},
   "outputs": [
    {
     "name": "stderr",
     "output_type": "stream",
     "text": [
      "/home/hengshi/.local/lib/python3.8/site-packages/scanpy/preprocessing/_normalization.py:155: UserWarning: Revieved a view of an AnnData. Making a copy.\n",
      "  view_to_actual(adata)\n"
     ]
    }
   ],
   "source": [
    "sc.pp.normalize_total(adata_combine, target_sum = 1e4)\n",
    "sc.pp.log1p(adata_combine)\n",
    "adata_combine.raw = adata_combine"
   ]
  },
  {
   "cell_type": "code",
   "execution_count": 18,
   "metadata": {},
   "outputs": [],
   "source": [
    "sc.pp.highly_variable_genes(adata_combine, min_mean=0.0125, max_mean=3, min_disp=0.5)"
   ]
  },
  {
   "cell_type": "code",
   "execution_count": 19,
   "metadata": {},
   "outputs": [
    {
     "data": {
      "image/png": "[encoded data removed]",
      "text/plain": [
       "<Figure size 864x288 with 2 Axes>"
      ]
     },
     "metadata": {
      "needs_background": "light"
     },
     "output_type": "display_data"
    }
   ],
   "source": [
    "sc.pl.highly_variable_genes(adata_combine)"
   ]
  },
  {
   "cell_type": "code",
   "execution_count": 20,
   "metadata": {},
   "outputs": [
    {
     "data": {
      "text/plain": [
       "239"
      ]
     },
     "execution_count": 20,
     "metadata": {},
     "output_type": "execute_result"
    }
   ],
   "source": [
    "adata_combine.var.highly_variable.sum()"
   ]
  },
  {
   "cell_type": "code",
   "execution_count": 21,
   "metadata": {},
   "outputs": [],
   "source": [
    "sc.pp.scale(adata_combine, max_value=10)"
   ]
  },
  {
   "cell_type": "code",
   "execution_count": 22,
   "metadata": {},
   "outputs": [],
   "source": [
    "adata_combine.write('Combine_processed_NormBYHighGenes_processed.h5ad')"
   ]
  },
  {
   "cell_type": "code",
   "execution_count": 20,
   "metadata": {},
   "outputs": [
    {
     "data": {
      "text/html": [
       "<div>\n",
       "<style scoped>\n",
       "    .dataframe tbody tr th:only-of-type {\n",
       "        vertical-align: middle;\n",
       "    }\n",
       "\n",
       "    .dataframe tbody tr th {\n",
       "        vertical-align: top;\n",
       "    }\n",
       "\n",
       "    .dataframe thead th {\n",
       "        text-align: right;\n",
       "    }\n",
       "</style>\n",
       "<table border=\"1\" class=\"dataframe\">\n",
       "  <thead>\n",
       "    <tr style=\"text-align: right;\">\n",
       "      <th></th>\n",
       "      <th>cell_name</th>\n",
       "      <th>batch</th>\n",
       "      <th>n_genes</th>\n",
       "      <th>percent_mito</th>\n",
       "      <th>n_counts</th>\n",
       "    </tr>\n",
       "  </thead>\n",
       "  <tbody>\n",
       "    <tr>\n",
       "      <th>KRAS_GGAACTTGTAGCTTGT</th>\n",
       "      <td>KRAS_GGAACTTGTAGCTTGT</td>\n",
       "      <td>0</td>\n",
       "      <td>4505</td>\n",
       "      <td>0.087710</td>\n",
       "      <td>27454.0</td>\n",
       "    </tr>\n",
       "    <tr>\n",
       "      <th>KRAS_GGAACTTGTAGCTTGT-1</th>\n",
       "      <td>KRAS_GGAACTTGTAGCTTGT</td>\n",
       "      <td>0</td>\n",
       "      <td>2984</td>\n",
       "      <td>0.041386</td>\n",
       "      <td>16479.0</td>\n",
       "    </tr>\n",
       "  </tbody>\n",
       "</table>\n",
       "</div>"
      ],
      "text/plain": [
       "                                     cell_name batch  n_genes  percent_mito  \\\n",
       "KRAS_GGAACTTGTAGCTTGT    KRAS_GGAACTTGTAGCTTGT     0     4505      0.087710   \n",
       "KRAS_GGAACTTGTAGCTTGT-1  KRAS_GGAACTTGTAGCTTGT     0     2984      0.041386   \n",
       "\n",
       "                         n_counts  \n",
       "KRAS_GGAACTTGTAGCTTGT     27454.0  \n",
       "KRAS_GGAACTTGTAGCTTGT-1   16479.0  "
      ]
     },
     "execution_count": 20,
     "metadata": {},
     "output_type": "execute_result"
    }
   ],
   "source": [
    "adata_combine = sc.read('Combine_processed_NormBYHighGenes_processed.h5ad')\n",
    "obs_data = adata_combine.obs\n",
    "obs_data[obs_data['cell_name'] == 'KRAS_GGAACTTGTAGCTTGT']"
   ]
  },
  {
   "cell_type": "code",
   "execution_count": null,
   "metadata": {},
   "outputs": [],
   "source": []
  },
  {
   "cell_type": "code",
   "execution_count": null,
   "metadata": {},
   "outputs": [],
   "source": []
  },
  {
   "cell_type": "code",
   "execution_count": 23,
   "metadata": {},
   "outputs": [
    {
     "data": {
      "text/plain": [
       "(164931, 1629)"
      ]
     },
     "execution_count": 23,
     "metadata": {},
     "output_type": "execute_result"
    }
   ],
   "source": [
    "adata_combine.shape"
   ]
  },
  {
   "cell_type": "code",
   "execution_count": 86,
   "metadata": {},
   "outputs": [
    {
     "data": {
      "text/html": [
       "<div>\n",
       "<style scoped>\n",
       "    .dataframe tbody tr th:only-of-type {\n",
       "        vertical-align: middle;\n",
       "    }\n",
       "\n",
       "    .dataframe tbody tr th {\n",
       "        vertical-align: top;\n",
       "    }\n",
       "\n",
       "    .dataframe thead th {\n",
       "        text-align: right;\n",
       "    }\n",
       "</style>\n",
       "<table border=\"1\" class=\"dataframe\">\n",
       "  <thead>\n",
       "    <tr style=\"text-align: right;\">\n",
       "      <th></th>\n",
       "      <th>batch</th>\n",
       "      <th>n_counts</th>\n",
       "      <th>T20R</th>\n",
       "      <th>T158T</th>\n",
       "      <th>M111L</th>\n",
       "      <th>V112I</th>\n",
       "      <th>T50I</th>\n",
       "      <th>G13C</th>\n",
       "      <th>Q22H</th>\n",
       "      <th>L159S</th>\n",
       "      <th>...</th>\n",
       "      <th>S136N</th>\n",
       "      <th>E63K</th>\n",
       "      <th>I36M</th>\n",
       "      <th>A59T</th>\n",
       "      <th>A155G</th>\n",
       "      <th>A66A</th>\n",
       "      <th>T144T</th>\n",
       "      <th>variant</th>\n",
       "      <th>variant.detailed_multi</th>\n",
       "      <th>cell</th>\n",
       "    </tr>\n",
       "  </thead>\n",
       "  <tbody>\n",
       "    <tr>\n",
       "      <th>0</th>\n",
       "      <td>0</td>\n",
       "      <td>25694.0</td>\n",
       "      <td>0.0</td>\n",
       "      <td>0.0</td>\n",
       "      <td>0.0</td>\n",
       "      <td>0.0</td>\n",
       "      <td>0.0</td>\n",
       "      <td>0.0</td>\n",
       "      <td>0.0</td>\n",
       "      <td>0.0</td>\n",
       "      <td>...</td>\n",
       "      <td>0.0</td>\n",
       "      <td>0.0</td>\n",
       "      <td>0.0</td>\n",
       "      <td>0.0</td>\n",
       "      <td>0.0</td>\n",
       "      <td>0.0</td>\n",
       "      <td>0.0</td>\n",
       "      <td>unassigned</td>\n",
       "      <td>unassigned</td>\n",
       "      <td>AAACCTGCAACGCACC-1-0</td>\n",
       "    </tr>\n",
       "    <tr>\n",
       "      <th>1</th>\n",
       "      <td>0</td>\n",
       "      <td>34868.0</td>\n",
       "      <td>0.0</td>\n",
       "      <td>0.0</td>\n",
       "      <td>0.0</td>\n",
       "      <td>0.0</td>\n",
       "      <td>0.0</td>\n",
       "      <td>0.0</td>\n",
       "      <td>0.0</td>\n",
       "      <td>0.0</td>\n",
       "      <td>...</td>\n",
       "      <td>0.0</td>\n",
       "      <td>0.0</td>\n",
       "      <td>0.0</td>\n",
       "      <td>0.0</td>\n",
       "      <td>0.0</td>\n",
       "      <td>0.0</td>\n",
       "      <td>0.0</td>\n",
       "      <td>T50T</td>\n",
       "      <td>T50T</td>\n",
       "      <td>AAACCTGCAATGGTCT-1-0</td>\n",
       "    </tr>\n",
       "    <tr>\n",
       "      <th>2</th>\n",
       "      <td>0</td>\n",
       "      <td>25170.0</td>\n",
       "      <td>0.0</td>\n",
       "      <td>0.0</td>\n",
       "      <td>0.0</td>\n",
       "      <td>0.0</td>\n",
       "      <td>0.0</td>\n",
       "      <td>0.0</td>\n",
       "      <td>0.0</td>\n",
       "      <td>0.0</td>\n",
       "      <td>...</td>\n",
       "      <td>0.0</td>\n",
       "      <td>0.0</td>\n",
       "      <td>0.0</td>\n",
       "      <td>0.0</td>\n",
       "      <td>0.0</td>\n",
       "      <td>0.0</td>\n",
       "      <td>0.0</td>\n",
       "      <td>unassigned</td>\n",
       "      <td>unassigned</td>\n",
       "      <td>AAACCTGCAGGACGTA-1-0</td>\n",
       "    </tr>\n",
       "    <tr>\n",
       "      <th>3</th>\n",
       "      <td>0</td>\n",
       "      <td>31500.0</td>\n",
       "      <td>0.0</td>\n",
       "      <td>0.0</td>\n",
       "      <td>0.0</td>\n",
       "      <td>0.0</td>\n",
       "      <td>0.0</td>\n",
       "      <td>0.0</td>\n",
       "      <td>0.0</td>\n",
       "      <td>0.0</td>\n",
       "      <td>...</td>\n",
       "      <td>0.0</td>\n",
       "      <td>0.0</td>\n",
       "      <td>0.0</td>\n",
       "      <td>0.0</td>\n",
       "      <td>0.0</td>\n",
       "      <td>0.0</td>\n",
       "      <td>0.0</td>\n",
       "      <td>unassigned</td>\n",
       "      <td>unassigned</td>\n",
       "      <td>AAACCTGCAGTAAGAT-1-0</td>\n",
       "    </tr>\n",
       "    <tr>\n",
       "      <th>4</th>\n",
       "      <td>0</td>\n",
       "      <td>22654.0</td>\n",
       "      <td>0.0</td>\n",
       "      <td>0.0</td>\n",
       "      <td>0.0</td>\n",
       "      <td>0.0</td>\n",
       "      <td>0.0</td>\n",
       "      <td>0.0</td>\n",
       "      <td>0.0</td>\n",
       "      <td>0.0</td>\n",
       "      <td>...</td>\n",
       "      <td>0.0</td>\n",
       "      <td>0.0</td>\n",
       "      <td>0.0</td>\n",
       "      <td>0.0</td>\n",
       "      <td>0.0</td>\n",
       "      <td>0.0</td>\n",
       "      <td>0.0</td>\n",
       "      <td>T127T</td>\n",
       "      <td>T127T</td>\n",
       "      <td>AAACGGGAGACAGAGA-1-0</td>\n",
       "    </tr>\n",
       "  </tbody>\n",
       "</table>\n",
       "<p>5 rows × 103 columns</p>\n",
       "</div>"
      ],
      "text/plain": [
       "   batch  n_counts  T20R  T158T  M111L  V112I  T50I  G13C  Q22H  L159S  ...  \\\n",
       "0      0   25694.0   0.0    0.0    0.0    0.0   0.0   0.0   0.0    0.0  ...   \n",
       "1      0   34868.0   0.0    0.0    0.0    0.0   0.0   0.0   0.0    0.0  ...   \n",
       "2      0   25170.0   0.0    0.0    0.0    0.0   0.0   0.0   0.0    0.0  ...   \n",
       "3      0   31500.0   0.0    0.0    0.0    0.0   0.0   0.0   0.0    0.0  ...   \n",
       "4      0   22654.0   0.0    0.0    0.0    0.0   0.0   0.0   0.0    0.0  ...   \n",
       "\n",
       "   S136N  E63K  I36M  A59T  A155G  A66A  T144T     variant  \\\n",
       "0    0.0   0.0   0.0   0.0    0.0   0.0    0.0  unassigned   \n",
       "1    0.0   0.0   0.0   0.0    0.0   0.0    0.0        T50T   \n",
       "2    0.0   0.0   0.0   0.0    0.0   0.0    0.0  unassigned   \n",
       "3    0.0   0.0   0.0   0.0    0.0   0.0    0.0  unassigned   \n",
       "4    0.0   0.0   0.0   0.0    0.0   0.0    0.0       T127T   \n",
       "\n",
       "   variant.detailed_multi                  cell  \n",
       "0              unassigned  AAACCTGCAACGCACC-1-0  \n",
       "1                    T50T  AAACCTGCAATGGTCT-1-0  \n",
       "2              unassigned  AAACCTGCAGGACGTA-1-0  \n",
       "3              unassigned  AAACCTGCAGTAAGAT-1-0  \n",
       "4                   T127T  AAACGGGAGACAGAGA-1-0  \n",
       "\n",
       "[5 rows x 103 columns]"
      ]
     },
     "execution_count": 86,
     "metadata": {},
     "output_type": "execute_result"
    }
   ],
   "source": [
    "variant_kras = pd.read_csv('GSE161824_A549_KRAS.variants2cell.csv.gz', compression = 'gzip', sep = '\\t')\n",
    "variant_tp53 = pd.read_csv('GSE161824_A549_TP53.variants2cell.csv.gz', compression = 'gzip', sep = '\\t')\n",
    "variant_kras.head()"
   ]
  },
  {
   "cell_type": "code",
   "execution_count": null,
   "metadata": {},
   "outputs": [],
   "source": []
  },
  {
   "cell_type": "code",
   "execution_count": null,
   "metadata": {},
   "outputs": [],
   "source": []
  },
  {
   "cell_type": "code",
   "execution_count": 87,
   "metadata": {},
   "outputs": [],
   "source": [
    "vari_kras_cell = np.array(list(variant_kras['cell']))\n",
    "vari_tp53_cell = np.array(list(variant_tp53['cell']))\n"
   ]
  },
  {
   "cell_type": "code",
   "execution_count": 91,
   "metadata": {},
   "outputs": [],
   "source": [
    "set_all_common = set(list((set(vari_kras_cell) & set(vari_tp53_cell))))"
   ]
  },
  {
   "cell_type": "code",
   "execution_count": 95,
   "metadata": {},
   "outputs": [],
   "source": [
    "\n",
    "obs_names_kras_proc = pd.read_csv('GSE161824_A549_KRAS.processed.cells.csv.gz', header = None,  compression = 'gzip')\n",
    "obs_names_tp53_proc = pd.read_csv('GSE161824_A549_TP53.processed.cells.csv.gz', header = None,  compression = 'gzip')\n",
    "\n",
    "list_common_cells_proc = list(set(list(obs_names_kras_proc[0])) & set(list(obs_names_tp53_proc[0])))\n",
    "\n",
    "common_kras_proc_idx = [np.where(vari_kras_cell == i)[0][0] for i in list_common_cells_proc]\n",
    "common_tp53_proc_idx = [np.where(vari_tp53_cell == i)[0][0] for i in list_common_cells_proc]\n",
    "\n"
   ]
  },
  {
   "cell_type": "code",
   "execution_count": 96,
   "metadata": {},
   "outputs": [],
   "source": [
    "\n",
    "vari_kras_cell[common_kras_proc_idx] = np.array(['KRAS_' + i for i in vari_kras_cell[common_kras_proc_idx]])\n",
    "variant_kras['cell'] = vari_kras_cell"
   ]
  },
  {
   "cell_type": "code",
   "execution_count": 97,
   "metadata": {},
   "outputs": [],
   "source": [
    "vari_tp53_cell[common_tp53_proc_idx] = np.array(['TP53_' + i for i in vari_tp53_cell[common_tp53_proc_idx]])\n",
    "variant_tp53['cell'] = vari_tp53_cell"
   ]
  },
  {
   "cell_type": "code",
   "execution_count": 98,
   "metadata": {},
   "outputs": [
    {
     "data": {
      "text/plain": [
       "697"
      ]
     },
     "execution_count": 98,
     "metadata": {},
     "output_type": "execute_result"
    }
   ],
   "source": [
    "len(list((set(variant_kras['cell']) & set(variant_tp53['cell']))))"
   ]
  },
  {
   "cell_type": "code",
   "execution_count": 100,
   "metadata": {},
   "outputs": [
    {
     "data": {
      "text/plain": [
       "697"
      ]
     },
     "execution_count": 100,
     "metadata": {},
     "output_type": "execute_result"
    }
   ],
   "source": [
    "len(set_all_common) - len(list_common_cells_proc)"
   ]
  },
  {
   "cell_type": "code",
   "execution_count": null,
   "metadata": {},
   "outputs": [],
   "source": []
  },
  {
   "cell_type": "code",
   "execution_count": 101,
   "metadata": {},
   "outputs": [
    {
     "data": {
      "text/html": [
       "<div>\n",
       "<style scoped>\n",
       "    .dataframe tbody tr th:only-of-type {\n",
       "        vertical-align: middle;\n",
       "    }\n",
       "\n",
       "    .dataframe tbody tr th {\n",
       "        vertical-align: top;\n",
       "    }\n",
       "\n",
       "    .dataframe thead th {\n",
       "        text-align: right;\n",
       "    }\n",
       "</style>\n",
       "<table border=\"1\" class=\"dataframe\">\n",
       "  <thead>\n",
       "    <tr style=\"text-align: right;\">\n",
       "      <th></th>\n",
       "      <th>batch</th>\n",
       "      <th>n_counts</th>\n",
       "      <th>T20R</th>\n",
       "      <th>T158T</th>\n",
       "      <th>M111L</th>\n",
       "      <th>V112I</th>\n",
       "      <th>T50I</th>\n",
       "      <th>G13C</th>\n",
       "      <th>Q22H</th>\n",
       "      <th>L159S</th>\n",
       "      <th>...</th>\n",
       "      <th>S136N</th>\n",
       "      <th>E63K</th>\n",
       "      <th>I36M</th>\n",
       "      <th>A59T</th>\n",
       "      <th>A155G</th>\n",
       "      <th>A66A</th>\n",
       "      <th>T144T</th>\n",
       "      <th>variant</th>\n",
       "      <th>variant.detailed_multi</th>\n",
       "      <th>cell</th>\n",
       "    </tr>\n",
       "  </thead>\n",
       "  <tbody>\n",
       "    <tr>\n",
       "      <th>145139</th>\n",
       "      <td>30</td>\n",
       "      <td>26080.0</td>\n",
       "      <td>0.0</td>\n",
       "      <td>0.0</td>\n",
       "      <td>0.0</td>\n",
       "      <td>0.0</td>\n",
       "      <td>0.0</td>\n",
       "      <td>0.0</td>\n",
       "      <td>0.0</td>\n",
       "      <td>0.0</td>\n",
       "      <td>...</td>\n",
       "      <td>0.0</td>\n",
       "      <td>0.0</td>\n",
       "      <td>0.0</td>\n",
       "      <td>0.0</td>\n",
       "      <td>0.0</td>\n",
       "      <td>0.0</td>\n",
       "      <td>0.0</td>\n",
       "      <td>G12F</td>\n",
       "      <td>G12F</td>\n",
       "      <td>KRAS_TTTATGCTCGCTGATA</td>\n",
       "    </tr>\n",
       "    <tr>\n",
       "      <th>115391</th>\n",
       "      <td>25</td>\n",
       "      <td>20995.0</td>\n",
       "      <td>0.0</td>\n",
       "      <td>0.0</td>\n",
       "      <td>0.0</td>\n",
       "      <td>0.0</td>\n",
       "      <td>0.0</td>\n",
       "      <td>0.0</td>\n",
       "      <td>0.0</td>\n",
       "      <td>0.0</td>\n",
       "      <td>...</td>\n",
       "      <td>1.0</td>\n",
       "      <td>0.0</td>\n",
       "      <td>0.0</td>\n",
       "      <td>0.0</td>\n",
       "      <td>0.0</td>\n",
       "      <td>0.0</td>\n",
       "      <td>0.0</td>\n",
       "      <td>S136N</td>\n",
       "      <td>S136N</td>\n",
       "      <td>KRAS_AAACGGGAGCCACCTG</td>\n",
       "    </tr>\n",
       "    <tr>\n",
       "      <th>49327</th>\n",
       "      <td>10</td>\n",
       "      <td>18277.0</td>\n",
       "      <td>0.0</td>\n",
       "      <td>0.0</td>\n",
       "      <td>0.0</td>\n",
       "      <td>0.0</td>\n",
       "      <td>0.0</td>\n",
       "      <td>0.0</td>\n",
       "      <td>0.0</td>\n",
       "      <td>0.0</td>\n",
       "      <td>...</td>\n",
       "      <td>0.0</td>\n",
       "      <td>0.0</td>\n",
       "      <td>0.0</td>\n",
       "      <td>0.0</td>\n",
       "      <td>0.0</td>\n",
       "      <td>0.0</td>\n",
       "      <td>0.0</td>\n",
       "      <td>K179R</td>\n",
       "      <td>K179R</td>\n",
       "      <td>KRAS_TGACGGCAGGGTGTGT</td>\n",
       "    </tr>\n",
       "    <tr>\n",
       "      <th>43393</th>\n",
       "      <td>9</td>\n",
       "      <td>23843.0</td>\n",
       "      <td>0.0</td>\n",
       "      <td>0.0</td>\n",
       "      <td>0.0</td>\n",
       "      <td>0.0</td>\n",
       "      <td>0.0</td>\n",
       "      <td>0.0</td>\n",
       "      <td>0.0</td>\n",
       "      <td>0.0</td>\n",
       "      <td>...</td>\n",
       "      <td>0.0</td>\n",
       "      <td>0.0</td>\n",
       "      <td>0.0</td>\n",
       "      <td>0.0</td>\n",
       "      <td>0.0</td>\n",
       "      <td>0.0</td>\n",
       "      <td>0.0</td>\n",
       "      <td>V14I</td>\n",
       "      <td>V14I</td>\n",
       "      <td>KRAS_GGAATAAAGTGCCAGA</td>\n",
       "    </tr>\n",
       "    <tr>\n",
       "      <th>121722</th>\n",
       "      <td>26</td>\n",
       "      <td>21128.0</td>\n",
       "      <td>0.0</td>\n",
       "      <td>0.0</td>\n",
       "      <td>0.0</td>\n",
       "      <td>0.0</td>\n",
       "      <td>0.0</td>\n",
       "      <td>0.0</td>\n",
       "      <td>0.0</td>\n",
       "      <td>0.0</td>\n",
       "      <td>...</td>\n",
       "      <td>0.0</td>\n",
       "      <td>0.0</td>\n",
       "      <td>0.0</td>\n",
       "      <td>0.0</td>\n",
       "      <td>0.0</td>\n",
       "      <td>0.0</td>\n",
       "      <td>2.0</td>\n",
       "      <td>T144T</td>\n",
       "      <td>T144T</td>\n",
       "      <td>KRAS_CCGTGGATCAGAGGTG</td>\n",
       "    </tr>\n",
       "  </tbody>\n",
       "</table>\n",
       "<p>5 rows × 103 columns</p>\n",
       "</div>"
      ],
      "text/plain": [
       "        batch  n_counts  T20R  T158T  M111L  V112I  T50I  G13C  Q22H  L159S  \\\n",
       "145139     30   26080.0   0.0    0.0    0.0    0.0   0.0   0.0   0.0    0.0   \n",
       "115391     25   20995.0   0.0    0.0    0.0    0.0   0.0   0.0   0.0    0.0   \n",
       "49327      10   18277.0   0.0    0.0    0.0    0.0   0.0   0.0   0.0    0.0   \n",
       "43393       9   23843.0   0.0    0.0    0.0    0.0   0.0   0.0   0.0    0.0   \n",
       "121722     26   21128.0   0.0    0.0    0.0    0.0   0.0   0.0   0.0    0.0   \n",
       "\n",
       "        ...  S136N  E63K  I36M  A59T  A155G  A66A  T144T  variant  \\\n",
       "145139  ...    0.0   0.0   0.0   0.0    0.0   0.0    0.0     G12F   \n",
       "115391  ...    1.0   0.0   0.0   0.0    0.0   0.0    0.0    S136N   \n",
       "49327   ...    0.0   0.0   0.0   0.0    0.0   0.0    0.0    K179R   \n",
       "43393   ...    0.0   0.0   0.0   0.0    0.0   0.0    0.0     V14I   \n",
       "121722  ...    0.0   0.0   0.0   0.0    0.0   0.0    2.0    T144T   \n",
       "\n",
       "        variant.detailed_multi                   cell  \n",
       "145139                    G12F  KRAS_TTTATGCTCGCTGATA  \n",
       "115391                   S136N  KRAS_AAACGGGAGCCACCTG  \n",
       "49327                    K179R  KRAS_TGACGGCAGGGTGTGT  \n",
       "43393                     V14I  KRAS_GGAATAAAGTGCCAGA  \n",
       "121722                   T144T  KRAS_CCGTGGATCAGAGGTG  \n",
       "\n",
       "[5 rows x 103 columns]"
      ]
     },
     "execution_count": 101,
     "metadata": {},
     "output_type": "execute_result"
    }
   ],
   "source": [
    "variant_kras.iloc[common_kras_proc_idx, :].head()"
   ]
  },
  {
   "cell_type": "code",
   "execution_count": 102,
   "metadata": {},
   "outputs": [
    {
     "data": {
      "text/html": [
       "<div>\n",
       "<style scoped>\n",
       "    .dataframe tbody tr th:only-of-type {\n",
       "        vertical-align: middle;\n",
       "    }\n",
       "\n",
       "    .dataframe tbody tr th {\n",
       "        vertical-align: top;\n",
       "    }\n",
       "\n",
       "    .dataframe thead th {\n",
       "        text-align: right;\n",
       "    }\n",
       "</style>\n",
       "<table border=\"1\" class=\"dataframe\">\n",
       "  <thead>\n",
       "    <tr style=\"text-align: right;\">\n",
       "      <th></th>\n",
       "      <th>batch</th>\n",
       "      <th>n_counts</th>\n",
       "      <th>P152L</th>\n",
       "      <th>G245C</th>\n",
       "      <th>G245S</th>\n",
       "      <th>WT</th>\n",
       "      <th>C141Y</th>\n",
       "      <th>P222P</th>\n",
       "      <th>H214R</th>\n",
       "      <th>R337C</th>\n",
       "      <th>...</th>\n",
       "      <th>P47P</th>\n",
       "      <th>G266R</th>\n",
       "      <th>V157F</th>\n",
       "      <th>G245V</th>\n",
       "      <th>C238Y</th>\n",
       "      <th>S241C</th>\n",
       "      <th>V272M</th>\n",
       "      <th>variant</th>\n",
       "      <th>variant.detailed_multi</th>\n",
       "      <th>cell</th>\n",
       "    </tr>\n",
       "  </thead>\n",
       "  <tbody>\n",
       "    <tr>\n",
       "      <th>157133</th>\n",
       "      <td>30</td>\n",
       "      <td>15419.0</td>\n",
       "      <td>0.0</td>\n",
       "      <td>0.0</td>\n",
       "      <td>0.0</td>\n",
       "      <td>0.0</td>\n",
       "      <td>0.0</td>\n",
       "      <td>0.0</td>\n",
       "      <td>0.0</td>\n",
       "      <td>0.0</td>\n",
       "      <td>...</td>\n",
       "      <td>0.0</td>\n",
       "      <td>0.0</td>\n",
       "      <td>0.0</td>\n",
       "      <td>0.0</td>\n",
       "      <td>0.0</td>\n",
       "      <td>0.0</td>\n",
       "      <td>0.0</td>\n",
       "      <td>H179R</td>\n",
       "      <td>H179R</td>\n",
       "      <td>TP53_TTTATGCTCGCTGATA</td>\n",
       "    </tr>\n",
       "    <tr>\n",
       "      <th>126185</th>\n",
       "      <td>25</td>\n",
       "      <td>15726.0</td>\n",
       "      <td>0.0</td>\n",
       "      <td>0.0</td>\n",
       "      <td>0.0</td>\n",
       "      <td>0.0</td>\n",
       "      <td>0.0</td>\n",
       "      <td>0.0</td>\n",
       "      <td>0.0</td>\n",
       "      <td>0.0</td>\n",
       "      <td>...</td>\n",
       "      <td>0.0</td>\n",
       "      <td>0.0</td>\n",
       "      <td>0.0</td>\n",
       "      <td>3.0</td>\n",
       "      <td>0.0</td>\n",
       "      <td>0.0</td>\n",
       "      <td>0.0</td>\n",
       "      <td>G245V</td>\n",
       "      <td>G245V</td>\n",
       "      <td>TP53_AAACGGGAGCCACCTG</td>\n",
       "    </tr>\n",
       "    <tr>\n",
       "      <th>55271</th>\n",
       "      <td>10</td>\n",
       "      <td>16800.0</td>\n",
       "      <td>0.0</td>\n",
       "      <td>0.0</td>\n",
       "      <td>0.0</td>\n",
       "      <td>0.0</td>\n",
       "      <td>0.0</td>\n",
       "      <td>0.0</td>\n",
       "      <td>0.0</td>\n",
       "      <td>0.0</td>\n",
       "      <td>...</td>\n",
       "      <td>0.0</td>\n",
       "      <td>0.0</td>\n",
       "      <td>0.0</td>\n",
       "      <td>0.0</td>\n",
       "      <td>0.0</td>\n",
       "      <td>0.0</td>\n",
       "      <td>0.0</td>\n",
       "      <td>M237I</td>\n",
       "      <td>M237I</td>\n",
       "      <td>TP53_TGACGGCAGGGTGTGT</td>\n",
       "    </tr>\n",
       "    <tr>\n",
       "      <th>49583</th>\n",
       "      <td>9</td>\n",
       "      <td>13466.0</td>\n",
       "      <td>0.0</td>\n",
       "      <td>0.0</td>\n",
       "      <td>0.0</td>\n",
       "      <td>0.0</td>\n",
       "      <td>0.0</td>\n",
       "      <td>0.0</td>\n",
       "      <td>0.0</td>\n",
       "      <td>0.0</td>\n",
       "      <td>...</td>\n",
       "      <td>0.0</td>\n",
       "      <td>0.0</td>\n",
       "      <td>0.0</td>\n",
       "      <td>0.0</td>\n",
       "      <td>0.0</td>\n",
       "      <td>0.0</td>\n",
       "      <td>0.0</td>\n",
       "      <td>H193L</td>\n",
       "      <td>H193L</td>\n",
       "      <td>TP53_GGAATAAAGTGCCAGA</td>\n",
       "    </tr>\n",
       "    <tr>\n",
       "      <th>132875</th>\n",
       "      <td>26</td>\n",
       "      <td>17207.0</td>\n",
       "      <td>0.0</td>\n",
       "      <td>0.0</td>\n",
       "      <td>0.0</td>\n",
       "      <td>0.0</td>\n",
       "      <td>0.0</td>\n",
       "      <td>0.0</td>\n",
       "      <td>0.0</td>\n",
       "      <td>0.0</td>\n",
       "      <td>...</td>\n",
       "      <td>0.0</td>\n",
       "      <td>0.0</td>\n",
       "      <td>0.0</td>\n",
       "      <td>0.0</td>\n",
       "      <td>0.0</td>\n",
       "      <td>0.0</td>\n",
       "      <td>0.0</td>\n",
       "      <td>Y163C</td>\n",
       "      <td>Y163C</td>\n",
       "      <td>TP53_CCGTGGATCAGAGGTG</td>\n",
       "    </tr>\n",
       "  </tbody>\n",
       "</table>\n",
       "<p>5 rows × 104 columns</p>\n",
       "</div>"
      ],
      "text/plain": [
       "        batch  n_counts  P152L  G245C  G245S   WT  C141Y  P222P  H214R  R337C  \\\n",
       "157133     30   15419.0    0.0    0.0    0.0  0.0    0.0    0.0    0.0    0.0   \n",
       "126185     25   15726.0    0.0    0.0    0.0  0.0    0.0    0.0    0.0    0.0   \n",
       "55271      10   16800.0    0.0    0.0    0.0  0.0    0.0    0.0    0.0    0.0   \n",
       "49583       9   13466.0    0.0    0.0    0.0  0.0    0.0    0.0    0.0    0.0   \n",
       "132875     26   17207.0    0.0    0.0    0.0  0.0    0.0    0.0    0.0    0.0   \n",
       "\n",
       "        ...  P47P  G266R  V157F  G245V  C238Y  S241C  V272M  variant  \\\n",
       "157133  ...   0.0    0.0    0.0    0.0    0.0    0.0    0.0    H179R   \n",
       "126185  ...   0.0    0.0    0.0    3.0    0.0    0.0    0.0    G245V   \n",
       "55271   ...   0.0    0.0    0.0    0.0    0.0    0.0    0.0    M237I   \n",
       "49583   ...   0.0    0.0    0.0    0.0    0.0    0.0    0.0    H193L   \n",
       "132875  ...   0.0    0.0    0.0    0.0    0.0    0.0    0.0    Y163C   \n",
       "\n",
       "        variant.detailed_multi                   cell  \n",
       "157133                   H179R  TP53_TTTATGCTCGCTGATA  \n",
       "126185                   G245V  TP53_AAACGGGAGCCACCTG  \n",
       "55271                    M237I  TP53_TGACGGCAGGGTGTGT  \n",
       "49583                    H193L  TP53_GGAATAAAGTGCCAGA  \n",
       "132875                   Y163C  TP53_CCGTGGATCAGAGGTG  \n",
       "\n",
       "[5 rows x 104 columns]"
      ]
     },
     "execution_count": 102,
     "metadata": {},
     "output_type": "execute_result"
    }
   ],
   "source": [
    "variant_tp53.iloc[common_tp53_proc_idx, :].head()"
   ]
  },
  {
   "cell_type": "code",
   "execution_count": 103,
   "metadata": {},
   "outputs": [],
   "source": [
    "obs_data = adata_combine.obs"
   ]
  },
  {
   "cell_type": "code",
   "execution_count": 106,
   "metadata": {},
   "outputs": [
    {
     "data": {
      "text/plain": [
       "KRAS_GGAACTTGTAGCTTGT-1    KRAS_GGAACTTGTAGCTTGT\n",
       "TP53_GGAACTTGTAGCTTGT-1    TP53_GGAACTTGTAGCTTGT\n",
       "Name: cell_name, dtype: category\n",
       "Categories (164929, object): [AAACCTGAGAAACCGC-1-6, AAACCTGAGAAACCGC-1-17, AAACCTGAGAATCTCC-1-7, AAACCTGAGAATGTGT-1-22, ..., TTTGTCATCTTGAGGT-1-15, TTTGTCATCTTGGGTA-1-17, TTTGTCATCTTGGGTA-1-20, TTTGTCATCTTTCCTC-1-4]"
      ]
     },
     "execution_count": 106,
     "metadata": {},
     "output_type": "execute_result"
    }
   ],
   "source": [
    "obs_data['cell_name'][obs_data['cell_name'].duplicated()]"
   ]
  },
  {
   "cell_type": "code",
   "execution_count": 107,
   "metadata": {},
   "outputs": [
    {
     "data": {
      "text/html": [
       "<div>\n",
       "<style scoped>\n",
       "    .dataframe tbody tr th:only-of-type {\n",
       "        vertical-align: middle;\n",
       "    }\n",
       "\n",
       "    .dataframe tbody tr th {\n",
       "        vertical-align: top;\n",
       "    }\n",
       "\n",
       "    .dataframe thead th {\n",
       "        text-align: right;\n",
       "    }\n",
       "</style>\n",
       "<table border=\"1\" class=\"dataframe\">\n",
       "  <thead>\n",
       "    <tr style=\"text-align: right;\">\n",
       "      <th></th>\n",
       "      <th>cell_name</th>\n",
       "      <th>batch</th>\n",
       "      <th>n_genes</th>\n",
       "      <th>percent_mito</th>\n",
       "      <th>n_counts</th>\n",
       "    </tr>\n",
       "  </thead>\n",
       "  <tbody>\n",
       "    <tr>\n",
       "      <th>KRAS_GGAACTTGTAGCTTGT</th>\n",
       "      <td>KRAS_GGAACTTGTAGCTTGT</td>\n",
       "      <td>0</td>\n",
       "      <td>4505</td>\n",
       "      <td>0.087710</td>\n",
       "      <td>27454.0</td>\n",
       "    </tr>\n",
       "    <tr>\n",
       "      <th>KRAS_GGAACTTGTAGCTTGT-1</th>\n",
       "      <td>KRAS_GGAACTTGTAGCTTGT</td>\n",
       "      <td>0</td>\n",
       "      <td>2984</td>\n",
       "      <td>0.041386</td>\n",
       "      <td>16479.0</td>\n",
       "    </tr>\n",
       "  </tbody>\n",
       "</table>\n",
       "</div>"
      ],
      "text/plain": [
       "                                     cell_name batch  n_genes  percent_mito  \\\n",
       "KRAS_GGAACTTGTAGCTTGT    KRAS_GGAACTTGTAGCTTGT     0     4505      0.087710   \n",
       "KRAS_GGAACTTGTAGCTTGT-1  KRAS_GGAACTTGTAGCTTGT     0     2984      0.041386   \n",
       "\n",
       "                         n_counts  \n",
       "KRAS_GGAACTTGTAGCTTGT     27454.0  \n",
       "KRAS_GGAACTTGTAGCTTGT-1   16479.0  "
      ]
     },
     "execution_count": 107,
     "metadata": {},
     "output_type": "execute_result"
    }
   ],
   "source": [
    "obs_data[obs_data['cell_name'] == 'KRAS_GGAACTTGTAGCTTGT']"
   ]
  },
  {
   "cell_type": "code",
   "execution_count": null,
   "metadata": {},
   "outputs": [],
   "source": []
  },
  {
   "cell_type": "code",
   "execution_count": null,
   "metadata": {},
   "outputs": [],
   "source": []
  },
  {
   "cell_type": "code",
   "execution_count": 104,
   "metadata": {},
   "outputs": [
    {
     "data": {
      "text/plain": [
       "((164929,), (164931, 5))"
      ]
     },
     "execution_count": 104,
     "metadata": {},
     "output_type": "execute_result"
    }
   ],
   "source": [
    "obs_data['cell_name'].unique().shape"
   ]
  },
  {
   "cell_type": "code",
   "execution_count": 74,
   "metadata": {},
   "outputs": [],
   "source": [
    "variant_kras['indice'] = list(range(variant_kras.shape[0]))\n",
    "vardata_kras = obs_data.merge(variant_kras.loc[:, ['indice', 'cell']], left_on = 'cell_name', right_on = 'cell', how = 'left')"
   ]
  },
  {
   "cell_type": "code",
   "execution_count": 75,
   "metadata": {},
   "outputs": [
    {
     "data": {
      "text/plain": [
       "77792"
      ]
     },
     "execution_count": 75,
     "metadata": {},
     "output_type": "execute_result"
    }
   ],
   "source": [
    "vardata_kras['cell'].isna().sum()"
   ]
  },
  {
   "cell_type": "code",
   "execution_count": 76,
   "metadata": {},
   "outputs": [
    {
     "data": {
      "text/html": [
       "<div>\n",
       "<style scoped>\n",
       "    .dataframe tbody tr th:only-of-type {\n",
       "        vertical-align: middle;\n",
       "    }\n",
       "\n",
       "    .dataframe tbody tr th {\n",
       "        vertical-align: top;\n",
       "    }\n",
       "\n",
       "    .dataframe thead th {\n",
       "        text-align: right;\n",
       "    }\n",
       "</style>\n",
       "<table border=\"1\" class=\"dataframe\">\n",
       "  <thead>\n",
       "    <tr style=\"text-align: right;\">\n",
       "      <th></th>\n",
       "      <th>cell_name</th>\n",
       "      <th>batch</th>\n",
       "      <th>n_genes</th>\n",
       "      <th>percent_mito</th>\n",
       "      <th>n_counts</th>\n",
       "      <th>indice</th>\n",
       "      <th>cell</th>\n",
       "    </tr>\n",
       "  </thead>\n",
       "  <tbody>\n",
       "    <tr>\n",
       "      <th>0</th>\n",
       "      <td>TATCAGGGTAAGGGAA-1-21</td>\n",
       "      <td>0</td>\n",
       "      <td>2816</td>\n",
       "      <td>0.054297</td>\n",
       "      <td>15047.0</td>\n",
       "      <td>100430.0</td>\n",
       "      <td>TATCAGGGTAAGGGAA-1-21</td>\n",
       "    </tr>\n",
       "    <tr>\n",
       "      <th>1</th>\n",
       "      <td>GGGCACTAGAGGGCTT-1-14</td>\n",
       "      <td>0</td>\n",
       "      <td>3817</td>\n",
       "      <td>0.083028</td>\n",
       "      <td>25642.0</td>\n",
       "      <td>66847.0</td>\n",
       "      <td>GGGCACTAGAGGGCTT-1-14</td>\n",
       "    </tr>\n",
       "    <tr>\n",
       "      <th>2</th>\n",
       "      <td>TGCTACCGTTAGGGTG-1-26</td>\n",
       "      <td>0</td>\n",
       "      <td>3373</td>\n",
       "      <td>0.072300</td>\n",
       "      <td>18119.0</td>\n",
       "      <td>124665.0</td>\n",
       "      <td>TGCTACCGTTAGGGTG-1-26</td>\n",
       "    </tr>\n",
       "    <tr>\n",
       "      <th>3</th>\n",
       "      <td>TTCTCCTCAAAGGCGT-1-7</td>\n",
       "      <td>0</td>\n",
       "      <td>3520</td>\n",
       "      <td>0.058233</td>\n",
       "      <td>21311.0</td>\n",
       "      <td>36093.0</td>\n",
       "      <td>TTCTCCTCAAAGGCGT-1-7</td>\n",
       "    </tr>\n",
       "    <tr>\n",
       "      <th>4</th>\n",
       "      <td>CCCAATCCAGTATAAG-1-23</td>\n",
       "      <td>0</td>\n",
       "      <td>3176</td>\n",
       "      <td>0.082955</td>\n",
       "      <td>17166.0</td>\n",
       "      <td>107267.0</td>\n",
       "      <td>CCCAATCCAGTATAAG-1-23</td>\n",
       "    </tr>\n",
       "  </tbody>\n",
       "</table>\n",
       "</div>"
      ],
      "text/plain": [
       "               cell_name batch  n_genes  percent_mito  n_counts    indice  \\\n",
       "0  TATCAGGGTAAGGGAA-1-21     0     2816      0.054297   15047.0  100430.0   \n",
       "1  GGGCACTAGAGGGCTT-1-14     0     3817      0.083028   25642.0   66847.0   \n",
       "2  TGCTACCGTTAGGGTG-1-26     0     3373      0.072300   18119.0  124665.0   \n",
       "3   TTCTCCTCAAAGGCGT-1-7     0     3520      0.058233   21311.0   36093.0   \n",
       "4  CCCAATCCAGTATAAG-1-23     0     3176      0.082955   17166.0  107267.0   \n",
       "\n",
       "                    cell  \n",
       "0  TATCAGGGTAAGGGAA-1-21  \n",
       "1  GGGCACTAGAGGGCTT-1-14  \n",
       "2  TGCTACCGTTAGGGTG-1-26  \n",
       "3   TTCTCCTCAAAGGCGT-1-7  \n",
       "4  CCCAATCCAGTATAAG-1-23  "
      ]
     },
     "execution_count": 76,
     "metadata": {},
     "output_type": "execute_result"
    }
   ],
   "source": [
    "vardata_kras.head()"
   ]
  },
  {
   "cell_type": "code",
   "execution_count": 77,
   "metadata": {},
   "outputs": [],
   "source": [
    "variant_tp53['indice'] = list(range(variant_tp53.shape[0]))\n",
    "vardata_tp53 = obs_data.merge(variant_tp53.loc[:, ['indice', 'cell']], left_on = 'cell_name', right_on = 'cell', how = 'left')"
   ]
  },
  {
   "cell_type": "code",
   "execution_count": 79,
   "metadata": {},
   "outputs": [
    {
     "data": {
      "text/html": [
       "<div>\n",
       "<style scoped>\n",
       "    .dataframe tbody tr th:only-of-type {\n",
       "        vertical-align: middle;\n",
       "    }\n",
       "\n",
       "    .dataframe tbody tr th {\n",
       "        vertical-align: top;\n",
       "    }\n",
       "\n",
       "    .dataframe thead th {\n",
       "        text-align: right;\n",
       "    }\n",
       "</style>\n",
       "<table border=\"1\" class=\"dataframe\">\n",
       "  <thead>\n",
       "    <tr style=\"text-align: right;\">\n",
       "      <th></th>\n",
       "      <th>cell_name</th>\n",
       "      <th>batch</th>\n",
       "      <th>n_genes</th>\n",
       "      <th>percent_mito</th>\n",
       "      <th>n_counts</th>\n",
       "      <th>indice</th>\n",
       "      <th>cell</th>\n",
       "    </tr>\n",
       "  </thead>\n",
       "  <tbody>\n",
       "    <tr>\n",
       "      <th>0</th>\n",
       "      <td>TATCAGGGTAAGGGAA-1-21</td>\n",
       "      <td>0</td>\n",
       "      <td>2816</td>\n",
       "      <td>0.054297</td>\n",
       "      <td>15047.0</td>\n",
       "      <td>NaN</td>\n",
       "      <td>NaN</td>\n",
       "    </tr>\n",
       "    <tr>\n",
       "      <th>1</th>\n",
       "      <td>GGGCACTAGAGGGCTT-1-14</td>\n",
       "      <td>0</td>\n",
       "      <td>3817</td>\n",
       "      <td>0.083028</td>\n",
       "      <td>25642.0</td>\n",
       "      <td>NaN</td>\n",
       "      <td>NaN</td>\n",
       "    </tr>\n",
       "    <tr>\n",
       "      <th>2</th>\n",
       "      <td>TGCTACCGTTAGGGTG-1-26</td>\n",
       "      <td>0</td>\n",
       "      <td>3373</td>\n",
       "      <td>0.072300</td>\n",
       "      <td>18119.0</td>\n",
       "      <td>NaN</td>\n",
       "      <td>NaN</td>\n",
       "    </tr>\n",
       "    <tr>\n",
       "      <th>3</th>\n",
       "      <td>TTCTCCTCAAAGGCGT-1-7</td>\n",
       "      <td>0</td>\n",
       "      <td>3520</td>\n",
       "      <td>0.058233</td>\n",
       "      <td>21311.0</td>\n",
       "      <td>NaN</td>\n",
       "      <td>NaN</td>\n",
       "    </tr>\n",
       "    <tr>\n",
       "      <th>4</th>\n",
       "      <td>CCCAATCCAGTATAAG-1-23</td>\n",
       "      <td>0</td>\n",
       "      <td>3176</td>\n",
       "      <td>0.082955</td>\n",
       "      <td>17166.0</td>\n",
       "      <td>NaN</td>\n",
       "      <td>NaN</td>\n",
       "    </tr>\n",
       "    <tr>\n",
       "      <th>...</th>\n",
       "      <td>...</td>\n",
       "      <td>...</td>\n",
       "      <td>...</td>\n",
       "      <td>...</td>\n",
       "      <td>...</td>\n",
       "      <td>...</td>\n",
       "      <td>...</td>\n",
       "    </tr>\n",
       "    <tr>\n",
       "      <th>164928</th>\n",
       "      <td>TP53_TTGCGTCAGTCGTACT</td>\n",
       "      <td>1</td>\n",
       "      <td>3099</td>\n",
       "      <td>0.051652</td>\n",
       "      <td>17347.0</td>\n",
       "      <td>65529.0</td>\n",
       "      <td>TP53_TTGCGTCAGTCGTACT</td>\n",
       "    </tr>\n",
       "    <tr>\n",
       "      <th>164929</th>\n",
       "      <td>TGCGCAGGTACGAAAT-1-2</td>\n",
       "      <td>1</td>\n",
       "      <td>3622</td>\n",
       "      <td>0.081318</td>\n",
       "      <td>24275.0</td>\n",
       "      <td>15067.0</td>\n",
       "      <td>TGCGCAGGTACGAAAT-1-2</td>\n",
       "    </tr>\n",
       "    <tr>\n",
       "      <th>164930</th>\n",
       "      <td>CATCAAGAGTAATCCC-1-28</td>\n",
       "      <td>1</td>\n",
       "      <td>3512</td>\n",
       "      <td>0.074871</td>\n",
       "      <td>18218.0</td>\n",
       "      <td>142628.0</td>\n",
       "      <td>CATCAAGAGTAATCCC-1-28</td>\n",
       "    </tr>\n",
       "    <tr>\n",
       "      <th>164931</th>\n",
       "      <td>AAGGCAGGTCGAGTTT-1-22</td>\n",
       "      <td>1</td>\n",
       "      <td>4069</td>\n",
       "      <td>0.054853</td>\n",
       "      <td>28403.0</td>\n",
       "      <td>110791.0</td>\n",
       "      <td>AAGGCAGGTCGAGTTT-1-22</td>\n",
       "    </tr>\n",
       "    <tr>\n",
       "      <th>164932</th>\n",
       "      <td>ATTATCCGTATGCTTG-1-15</td>\n",
       "      <td>1</td>\n",
       "      <td>3222</td>\n",
       "      <td>0.073286</td>\n",
       "      <td>17807.0</td>\n",
       "      <td>76225.0</td>\n",
       "      <td>ATTATCCGTATGCTTG-1-15</td>\n",
       "    </tr>\n",
       "  </tbody>\n",
       "</table>\n",
       "<p>164933 rows × 7 columns</p>\n",
       "</div>"
      ],
      "text/plain": [
       "                    cell_name batch  n_genes  percent_mito  n_counts  \\\n",
       "0       TATCAGGGTAAGGGAA-1-21     0     2816      0.054297   15047.0   \n",
       "1       GGGCACTAGAGGGCTT-1-14     0     3817      0.083028   25642.0   \n",
       "2       TGCTACCGTTAGGGTG-1-26     0     3373      0.072300   18119.0   \n",
       "3        TTCTCCTCAAAGGCGT-1-7     0     3520      0.058233   21311.0   \n",
       "4       CCCAATCCAGTATAAG-1-23     0     3176      0.082955   17166.0   \n",
       "...                       ...   ...      ...           ...       ...   \n",
       "164928  TP53_TTGCGTCAGTCGTACT     1     3099      0.051652   17347.0   \n",
       "164929   TGCGCAGGTACGAAAT-1-2     1     3622      0.081318   24275.0   \n",
       "164930  CATCAAGAGTAATCCC-1-28     1     3512      0.074871   18218.0   \n",
       "164931  AAGGCAGGTCGAGTTT-1-22     1     4069      0.054853   28403.0   \n",
       "164932  ATTATCCGTATGCTTG-1-15     1     3222      0.073286   17807.0   \n",
       "\n",
       "          indice                   cell  \n",
       "0            NaN                    NaN  \n",
       "1            NaN                    NaN  \n",
       "2            NaN                    NaN  \n",
       "3            NaN                    NaN  \n",
       "4            NaN                    NaN  \n",
       "...          ...                    ...  \n",
       "164928   65529.0  TP53_TTGCGTCAGTCGTACT  \n",
       "164929   15067.0   TGCGCAGGTACGAAAT-1-2  \n",
       "164930  142628.0  CATCAAGAGTAATCCC-1-28  \n",
       "164931  110791.0  AAGGCAGGTCGAGTTT-1-22  \n",
       "164932   76225.0  ATTATCCGTATGCTTG-1-15  \n",
       "\n",
       "[164933 rows x 7 columns]"
      ]
     },
     "execution_count": 79,
     "metadata": {},
     "output_type": "execute_result"
    }
   ],
   "source": [
    "vardata_tp53"
   ]
  },
  {
   "cell_type": "code",
   "execution_count": 83,
   "metadata": {},
   "outputs": [
    {
     "data": {
      "text/plain": [
       "(86642, 78291)"
      ]
     },
     "execution_count": 83,
     "metadata": {},
     "output_type": "execute_result"
    }
   ],
   "source": [
    "vardata_tp53['cell'].isna().sum(), (-vardata_tp53['cell'].isna()).sum()"
   ]
  },
  {
   "cell_type": "code",
   "execution_count": 84,
   "metadata": {},
   "outputs": [
    {
     "data": {
      "text/plain": [
       "(77792, 87141)"
      ]
     },
     "execution_count": 84,
     "metadata": {},
     "output_type": "execute_result"
    }
   ],
   "source": [
    "vardata_kras['cell'].isna().sum(), (-vardata_kras['cell'].isna()).sum()"
   ]
  },
  {
   "cell_type": "code",
   "execution_count": 85,
   "metadata": {},
   "outputs": [
    {
     "data": {
      "text/plain": [
       "(164933, 7)"
      ]
     },
     "execution_count": 85,
     "metadata": {},
     "output_type": "execute_result"
    }
   ],
   "source": [
    "vardata_tp53.shape"
   ]
  },
  {
   "cell_type": "code",
   "execution_count": null,
   "metadata": {},
   "outputs": [],
   "source": []
  },
  {
   "cell_type": "code",
   "execution_count": null,
   "metadata": {},
   "outputs": [],
   "source": []
  },
  {
   "cell_type": "code",
   "execution_count": null,
   "metadata": {},
   "outputs": [],
   "source": []
  },
  {
   "cell_type": "code",
   "execution_count": 53,
   "metadata": {},
   "outputs": [
    {
     "data": {
      "text/plain": [
       "164932"
      ]
     },
     "execution_count": 53,
     "metadata": {},
     "output_type": "execute_result"
    }
   ],
   "source": [
    "np.where(variant_tp53['cell'])[0][-1]"
   ]
  },
  {
   "cell_type": "code",
   "execution_count": 61,
   "metadata": {},
   "outputs": [
    {
     "data": {
      "text/plain": [
       "164932"
      ]
     },
     "execution_count": 61,
     "metadata": {},
     "output_type": "execute_result"
    }
   ],
   "source": [
    "np.where(vardata_kras['cell'])[0][-1]"
   ]
  },
  {
   "cell_type": "code",
   "execution_count": 62,
   "metadata": {},
   "outputs": [
    {
     "data": {
      "text/plain": [
       "(164933, 7)"
      ]
     },
     "execution_count": 62,
     "metadata": {},
     "output_type": "execute_result"
    }
   ],
   "source": [
    "vardata_kras.shape"
   ]
  },
  {
   "cell_type": "code",
   "execution_count": 64,
   "metadata": {},
   "outputs": [
    {
     "data": {
      "text/plain": [
       "(164933, 7)"
      ]
     },
     "execution_count": 64,
     "metadata": {},
     "output_type": "execute_result"
    }
   ],
   "source": [
    "variant_tp53.shape"
   ]
  },
  {
   "cell_type": "code",
   "execution_count": null,
   "metadata": {},
   "outputs": [],
   "source": []
  }
 ],
 "metadata": {
  "kernelspec": {
   "display_name": "Python 3",
   "language": "python",
   "name": "python3"
  },
  "language_info": {
   "codemirror_mode": {
    "name": "ipython",
    "version": 3
   },
   "file_extension": ".py",
   "mimetype": "text/x-python",
   "name": "python",
   "nbconvert_exporter": "python",
   "pygments_lexer": "ipython3",
   "version": "3.8.3"
  }
 },
 "nbformat": 4,
 "nbformat_minor": 4
}
