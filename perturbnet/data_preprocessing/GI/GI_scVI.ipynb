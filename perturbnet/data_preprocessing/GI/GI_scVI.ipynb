{
 "cells": [
  {
   "cell_type": "code",
   "execution_count": 1,
   "metadata": {},
   "outputs": [],
   "source": [
    "from scipy import sparse"
   ]
  },
  {
   "cell_type": "code",
   "execution_count": 2,
   "metadata": {},
   "outputs": [],
   "source": [
    "# import data and put the data as anndata\n",
    "\n",
    "\n",
    "adataX = sparse.load_npz('./GI_processed_KeptPerturb_RAW_adataCSRMatrix.npz')\n",
    "\n",
    "import pandas as pd\n",
    "dataOBS = pd.read_csv('./GI_processed_KeptPerturb_RAW_adataOBS.csv')\n",
    "dataVAR = pd.read_csv('./GI_processed_KeptPerturb_RAW_adataVAR.csv')"
   ]
  },
  {
   "cell_type": "code",
   "execution_count": 3,
   "metadata": {},
   "outputs": [],
   "source": [
    "dataOBSU = dataOBS.set_index('cell_ids')\n",
    "dataVARU = dataVAR.set_index('Unnamed: 0')\n",
    "\n",
    "from anndata import AnnData\n",
    "GI_adata = AnnData(X = adataX, var = dataVARU, obs = dataOBSU )"
   ]
  },
  {
   "cell_type": "code",
   "execution_count": 4,
   "metadata": {},
   "outputs": [
    {
     "ename": "ModuleNotFoundError",
     "evalue": "No module named 'scvi'",
     "output_type": "error",
     "traceback": [
      "\u001b[0;31m---------------------------------------------------------------------------\u001b[0m",
      "\u001b[0;31mModuleNotFoundError\u001b[0m                       Traceback (most recent call last)",
      "\u001b[0;32m<ipython-input-4-5cf58aad163b>\u001b[0m in \u001b[0;36m<module>\u001b[0;34m()\u001b[0m\n\u001b[0;32m----> 1\u001b[0;31m \u001b[0;32mimport\u001b[0m \u001b[0mscvi\u001b[0m\u001b[0;34m\u001b[0m\u001b[0m\n\u001b[0m\u001b[1;32m      2\u001b[0m \u001b[0mprint\u001b[0m\u001b[0;34m(\u001b[0m\u001b[0mscvi\u001b[0m\u001b[0;34m.\u001b[0m\u001b[0m__version__\u001b[0m\u001b[0;34m)\u001b[0m\u001b[0;34m\u001b[0m\u001b[0m\n",
      "\u001b[0;31mModuleNotFoundError\u001b[0m: No module named 'scvi'"
     ]
    }
   ],
   "source": [
    "import scvi\n",
    "print(scvi.__version__)"
   ]
  },
  {
   "cell_type": "code",
   "execution_count": 11,
   "metadata": {},
   "outputs": [
    {
     "name": "stdout",
     "output_type": "stream",
     "text": [
      "\u001b[34mINFO    \u001b[0m No batch_key inputted, assuming all cells are same batch                            \n",
      "\u001b[34mINFO    \u001b[0m No label_key inputted, assuming all cells have same label                           \n",
      "\u001b[34mINFO    \u001b[0m Using data from adata.X                                                             \n",
      "\u001b[34mINFO    \u001b[0m Computing library size prior per batch                                              \n",
      "\u001b[34mINFO    \u001b[0m Successfully registered anndata object containing \u001b[1;34m109950\u001b[0m cells, \u001b[1;34m2279\u001b[0m vars, \u001b[1;34m1\u001b[0m        \n",
      "         batches, \u001b[1;34m1\u001b[0m labels, and \u001b[1;34m0\u001b[0m proteins. Also registered \u001b[1;34m0\u001b[0m extra categorical covariates   \n",
      "         and \u001b[1;34m0\u001b[0m extra continuous covariates.                                                  \n",
      "\u001b[34mINFO    \u001b[0m Please do not further modify adata until model is trained.                          \n"
     ]
    }
   ],
   "source": [
    "scvi.data.setup_anndata(GI_adata)"
   ]
  },
  {
   "cell_type": "code",
   "execution_count": 12,
   "metadata": {},
   "outputs": [
    {
     "data": {
      "text/html": [
       "<pre style=\"white-space:pre;overflow-x:auto;line-height:normal;font-family:Menlo,'DejaVu Sans Mono',consolas,'Courier New',monospace\">SCVI Model with the following params: \n",
       "n_hidden: <span style=\"color: #000080; font-weight: bold\">128</span>, n_latent: <span style=\"color: #000080; font-weight: bold\">10</span>, n_layers: <span style=\"color: #000080; font-weight: bold\">1</span>, dropout_rate: <span style=\"color: #000080; font-weight: bold\">0.1</span>, dispersion: gene, \n",
       "gene_likelihood: zinb, latent_distribution: normal\n",
       "Training status: Not Trained\n",
       "</pre>\n"
      ],
      "text/plain": [
       "<rich.jupyter.JupyterRenderable at 0x2b000c262160>"
      ]
     },
     "metadata": {},
     "output_type": "display_data"
    },
    {
     "data": {
      "text/html": [
       "<pre style=\"white-space:pre;overflow-x:auto;line-height:normal;font-family:Menlo,'DejaVu Sans Mono',consolas,'Courier New',monospace\">\n",
       "\n",
       "To print summary of associated AnnData, use: <span style=\"color: #af00d7\">scvi.data.view_anndata_setup(model.adata)</span>\n",
       "</pre>\n"
      ],
      "text/plain": [
       "<rich.jupyter.JupyterRenderable at 0x2b000c2621c0>"
      ]
     },
     "metadata": {},
     "output_type": "display_data"
    },
    {
     "data": {
      "text/plain": []
     },
     "execution_count": 12,
     "metadata": {},
     "output_type": "execute_result"
    }
   ],
   "source": [
    "model = scvi.model.SCVI(GI_adata)\n",
    "model"
   ]
  },
  {
   "cell_type": "code",
   "execution_count": 13,
   "metadata": {},
   "outputs": [
    {
     "name": "stdout",
     "output_type": "stream",
     "text": [
      "\u001b[34mINFO    \u001b[0m Training for \u001b[1;34m400\u001b[0m epochs                                                             \n",
      "\u001b[34mINFO    \u001b[0m KL warmup for \u001b[1;34m400\u001b[0m epochs                                                            \n",
      "Training...: 100%|██████████| 400/400 [6:01:46<00:00, 54.27s/it]  \n",
      "\u001b[34mINFO    \u001b[0m Training time:  \u001b[1;34m21706\u001b[0m s. \u001b[35m/\u001b[0m \u001b[1;34m400\u001b[0m epochs                                               \n"
     ]
    }
   ],
   "source": [
    "# scVi model with \n",
    "model.train(n_epochs = 400)"
   ]
  },
  {
   "cell_type": "code",
   "execution_count": 15,
   "metadata": {},
   "outputs": [],
   "source": [
    "model.save(\"./GI_scVI/models1/\")"
   ]
  },
  {
   "cell_type": "code",
   "execution_count": 17,
   "metadata": {},
   "outputs": [
    {
     "ename": "NameError",
     "evalue": "name 'posteriorLsample' is not defined",
     "output_type": "error",
     "traceback": [
      "\u001b[0;31m---------------------------------------------------------------------------\u001b[0m",
      "\u001b[0;31mNameError\u001b[0m                                 Traceback (most recent call last)",
      "\u001b[0;32m<ipython-input-17-05711a44cc1f>\u001b[0m in \u001b[0;36m<module>\u001b[0;34m\u001b[0m\n\u001b[1;32m     11\u001b[0m \u001b[0;34m\u001b[0m\u001b[0m\n\u001b[1;32m     12\u001b[0m \u001b[0mnp\u001b[0m\u001b[0;34m.\u001b[0m\u001b[0msave\u001b[0m\u001b[0;34m(\u001b[0m\u001b[0;34m'./GI_scVI/output/posteriorLmean.npy'\u001b[0m\u001b[0;34m,\u001b[0m \u001b[0mposteriorLmean\u001b[0m\u001b[0;34m)\u001b[0m\u001b[0;34m\u001b[0m\u001b[0;34m\u001b[0m\u001b[0m\n\u001b[0;32m---> 13\u001b[0;31m \u001b[0mnp\u001b[0m\u001b[0;34m.\u001b[0m\u001b[0msave\u001b[0m\u001b[0;34m(\u001b[0m\u001b[0;34m'./GI_scVI/output/posteriorLsample.npy'\u001b[0m\u001b[0;34m,\u001b[0m \u001b[0mposteriorLsample\u001b[0m\u001b[0;34m)\u001b[0m\u001b[0;34m\u001b[0m\u001b[0;34m\u001b[0m\u001b[0m\n\u001b[0m",
      "\u001b[0;31mNameError\u001b[0m: name 'posteriorLsample' is not defined"
     ]
    }
   ],
   "source": [
    "posteriorZmean = model.get_latent_representation(give_mean = True)\n",
    "posteriorZsample = model.get_latent_representation(give_mean = False)\n",
    "\n",
    "posteriorLmean = model.get_latent_library_size(give_mean = True)\n",
    "posteriorLSample = model.get_latent_library_size(give_mean = False)\n",
    "import numpy as np\n",
    "\n",
    "np.save('./GI_scVI/output/posteriorZmean.npy', posteriorZmean)\n",
    "np.save('./GI_scVI/output/posteriorZsample.npy', posteriorZsample)\n",
    "\n",
    "\n",
    "np.save('./GI_scVI/output/posteriorLmean.npy', posteriorLmean)\n",
    "np.save('./GI_scVI/output/posteriorLsample.npy', posteriorLsample)"
   ]
  },
  {
   "cell_type": "code",
   "execution_count": 18,
   "metadata": {},
   "outputs": [
    {
     "data": {
      "text/plain": [
       "array([[6.7380037],\n",
       "       [6.1268487],\n",
       "       [6.5174565],\n",
       "       ...,\n",
       "       [5.8106756],\n",
       "       [7.2423844],\n",
       "       [6.007987 ]], dtype=float32)"
      ]
     },
     "execution_count": 18,
     "metadata": {},
     "output_type": "execute_result"
    }
   ],
   "source": [
    "posteriorLSample\n",
    "posteriorLsample"
   ]
  },
  {
   "cell_type": "code",
   "execution_count": 20,
   "metadata": {},
   "outputs": [],
   "source": [
    "np.save('./GI_scVI/output/posteriorLsample.npy', posteriorLSample)"
   ]
  },
  {
   "cell_type": "markdown",
   "metadata": {},
   "source": [
    "# Visualize the results"
   ]
  },
  {
   "cell_type": "markdown",
   "metadata": {},
   "source": [
    "## 1.0 400 epochs trained on all cells including those without perturbation information"
   ]
  },
  {
   "cell_type": "code",
   "execution_count": 5,
   "metadata": {},
   "outputs": [],
   "source": [
    "# import data and put the data as anndata\n",
    "\n",
    "\n",
    "adataX = sparse.load_npz('./GI_processed_KeptPerturb_RAW_adataCSRMatrix.npz')\n",
    "dataOBS = pd.read_csv('./GI_processed_KeptPerturb_RAW_adataOBS.csv')\n",
    "dataVAR = pd.read_csv('./GI_processed_KeptPerturb_RAW_adataVAR.csv')"
   ]
  },
  {
   "cell_type": "code",
   "execution_count": 6,
   "metadata": {},
   "outputs": [],
   "source": [
    "dataOBSU = dataOBS.set_index('cell_ids')\n",
    "dataVARU = dataVAR.set_index('Unnamed: 0')\n",
    "\n",
    "from anndata import AnnData\n",
    "GI_adata = AnnData(X = adataX, var = dataVARU, obs = dataOBSU )"
   ]
  },
  {
   "cell_type": "code",
   "execution_count": 7,
   "metadata": {},
   "outputs": [
    {
     "data": {
      "text/plain": [
       "(109950, 2279)"
      ]
     },
     "execution_count": 7,
     "metadata": {},
     "output_type": "execute_result"
    }
   ],
   "source": [
    "GI_adata.shape"
   ]
  },
  {
   "cell_type": "code",
   "execution_count": 9,
   "metadata": {},
   "outputs": [],
   "source": [
    "pd_cells = pd.DataFrame(GI_adata.obs.index)\n",
    "k562_tfs_7_cell = pd.read_csv('./GSE133344_filtered_cell_identities.csv.gz')\n",
    "pd_kept_cells = pd.merge(pd_cells, k562_tfs_7_cell, left_on = 'cell_ids', right_on = 'cell_barcode', \n",
    "                        how = 'left')\n",
    "GI_adata_kept = GI_adata[~pd_kept_cells['cell_barcode'].isnull(), :]\n",
    "pd_kept_cells_kept = pd_kept_cells[~pd_kept_cells['cell_barcode'].isnull()]"
   ]
  },
  {
   "cell_type": "code",
   "execution_count": 13,
   "metadata": {},
   "outputs": [],
   "source": [
    "import numpy as np\n",
    "posteriorZmean = np.load('./GI_scVI/output/posteriorZmean.npy')\n",
    "posteriorZsample = np.load('./GI_scVI/output/posteriorZsample.npy')\n",
    "\n",
    "\n",
    "posteriorLmean = np.load('./GI_scVI/output/posteriorLmean.npy', )\n",
    "posteriorLsample = np.load('./GI_scVI/output/posteriorLsample.npy')"
   ]
  },
  {
   "cell_type": "code",
   "execution_count": 18,
   "metadata": {},
   "outputs": [],
   "source": [
    "kept_index = list(~pd_kept_cells['cell_barcode'].isnull())"
   ]
  },
  {
   "cell_type": "code",
   "execution_count": 23,
   "metadata": {},
   "outputs": [],
   "source": [
    "posteriorZmeanK = posteriorZmean[kept_index, :]\n",
    "posteriorZsampleK = posteriorZsample[kept_index, :]\n",
    "\n",
    "posteriorLmeanK = posteriorLmean[kept_index, :]\n",
    "posteriorLsampleK = posteriorLsample[kept_index, :]"
   ]
  },
  {
   "cell_type": "code",
   "execution_count": 24,
   "metadata": {},
   "outputs": [],
   "source": [
    "obs1_np = np.load('cell_meta_KeptPerturb_RAW_LibraryCheck_PyThon37_drug1.npy')\n",
    "obs2_np = np.load('cell_meta_KeptPerturb_RAW_LibraryCheck_PyThon37_drug2.npy')"
   ]
  },
  {
   "cell_type": "code",
   "execution_count": 61,
   "metadata": {},
   "outputs": [
    {
     "data": {
      "text/plain": [
       "array(['ctrl0', 'TSC22D1', 'KLF1', ..., 'BCORL1', 'ZBTB10', 'MAP4K3'],\n",
       "      dtype='<U8')"
      ]
     },
     "execution_count": 61,
     "metadata": {},
     "output_type": "execute_result"
    }
   ],
   "source": [
    "obs1_npU = np.array([obs1_np[i] if obs1_np[i][:3] != 'NEG' else obs1_np[i][3:].lower() for i in range(obs1_np.shape[0])])\n",
    "obs1_npU"
   ]
  },
  {
   "cell_type": "code",
   "execution_count": 62,
   "metadata": {},
   "outputs": [
    {
     "data": {
      "text/plain": [
       "array(['ctrl0', 'ctrl0', 'MAP2K6', ..., 'ctrl0', 'PTPN12', 'ctrl0'],\n",
       "      dtype='<U8')"
      ]
     },
     "execution_count": 62,
     "metadata": {},
     "output_type": "execute_result"
    }
   ],
   "source": [
    "obs2_npU = np.array([obs2_np[i] if obs2_np[i][:3] != 'NEG' else obs2_np[i][3:].lower() for i in range(obs2_np.shape[0])])\n",
    "obs2_npU"
   ]
  },
  {
   "cell_type": "code",
   "execution_count": 64,
   "metadata": {},
   "outputs": [
    {
     "data": {
      "text/plain": [
       "array(['ctrl', 'TSC22D1', 'KLF1', ..., 'BCORL1', 'ZBTB10', 'MAP4K3'],\n",
       "      dtype='<U8')"
      ]
     },
     "execution_count": 64,
     "metadata": {},
     "output_type": "execute_result"
    }
   ],
   "source": [
    "obs1_npUU = np.array([obs1_npU[i] if obs1_npU[i] != \"ctrl0\" else \"ctrl\" for i in range(obs1_npU.shape[0])])\n",
    "obs1_npUU"
   ]
  },
  {
   "cell_type": "code",
   "execution_count": 65,
   "metadata": {},
   "outputs": [
    {
     "data": {
      "text/plain": [
       "array(['ctrl', 'ctrl', 'MAP2K6', ..., 'ctrl', 'PTPN12', 'ctrl'],\n",
       "      dtype='<U8')"
      ]
     },
     "execution_count": 65,
     "metadata": {},
     "output_type": "execute_result"
    }
   ],
   "source": [
    "obs2_npUU = np.array([obs2_npU[i] if obs2_npU[i] != \"ctrl0\" else \"ctrl\" for i in range(obs2_npU.shape[0])])\n",
    "obs2_npUU"
   ]
  },
  {
   "cell_type": "code",
   "execution_count": 66,
   "metadata": {},
   "outputs": [],
   "source": [
    "obs_np = np.array([obs1_npUU[i] + \"/\" + obs2_npUU[i] for i in range(obs1_npUU.shape[0])])"
   ]
  },
  {
   "cell_type": "code",
   "execution_count": 55,
   "metadata": {},
   "outputs": [
    {
     "data": {
      "text/plain": [
       "1370"
      ]
     },
     "execution_count": 55,
     "metadata": {},
     "output_type": "execute_result"
    }
   ],
   "source": [
    "(obs2_np == \"IGDCC3\").sum()"
   ]
  },
  {
   "cell_type": "code",
   "execution_count": 54,
   "metadata": {},
   "outputs": [
    {
     "data": {
      "text/plain": [
       "837"
      ]
     },
     "execution_count": 54,
     "metadata": {},
     "output_type": "execute_result"
    }
   ],
   "source": [
    "(obs1_np == \"IRF1\").sum()"
   ]
  },
  {
   "cell_type": "code",
   "execution_count": 67,
   "metadata": {},
   "outputs": [],
   "source": [
    "dictCluster = {\"PRO-GROWTH\": \n",
    "    {\n",
    "    \"Cluster1\": [\"AHR/KLF1\", \"ctrl/KLF1\", \"KLF1/ctrl\", \"KLF1/TGFBR2\", \"KLF1/BAK1\", \"CEBPE/KLF1\"], \n",
    "    \"Cluster2\": [\"MAP2K6/ctrl\", \"ctrl/MAP2K6\", \"MAP2K6/ELMSAN1\", \"MAP2K3/MAP2K6\", \"KLF1/MAP2K6\", \"ctrl/ELMSAN1\", \n",
    "                 \"MAP2K3/ctrl\", \"MAP2K3/ELMSAN1\", \"ELMSAN1/ctrl\", \"MAP2K3/SLC38A2\"]\n",
    "    }, \n",
    "               \"MEGAKARYOCYTE\": \n",
    "    {\n",
    "        \"Cluster3\": [\"TGFBR2/IGDCC3\", \"ctrl/IGDCC3\", \"IGDCC3/ctrl\", \"PRTG/ctrl\", \"TGFBR2/PRTG\", \"ETS2/PRTG\", \n",
    "                     \"ctrl/PRTG\", \"ETS2/IGDCC3\", \"MAPK1/PRTG\", \"IGDCC3/MAPK1\"],\n",
    "        \"Cluster4\": [\"MAPK1/TGFBR2\", \"MAPK1/ctrl\", \"ctrl/ETS2\", \"ctrl/MAPK1\", \"ETS2/MAPK1\", \"CEBPB/MAPK1\"], \n",
    "        \"Cluster5\": [\"COL2A1/ctrl\", \"KLF1/COL2A1\", \"COL1A1/ctrl\", \"ctrl/COL2A1\"]\n",
    "    },\n",
    "               \"GRANULOCYTE/APOPTOSIS\": \n",
    "    {\n",
    "        \"Cluster6\": [\"FEV/ISL2\", \"ctrl/FEV\", \"FEV/ctrl\", \"AHR/FEV\", \"FEV/CBFA2T3\"], \n",
    "        \"Cluster7\": [\"CEBPE/RUNX1T1\", \"CEBPE/ctrl\", \"ctrl/CEBPE\", \"KLF1/CEBPA\", \"ctrl/CEBPA\", \"ETS2/CEBPE\", \n",
    "                     \"CEBPA/ctrl\", \"FOSB/CEBPE\", \"CEBPB/ctrl\", \"CEBPE/CEBPB\", \"ctrl/CEBPB\",  \"CEBPB/CEBPA\", \n",
    "                     \"CEBPE/CEBPA\", \"ZC3HAV1/CEBPA\", \"FOSB/CEBPB\", \"CEBPE/SPI1\", \"SPI1/ctrl\", \"ctrl/SPI1\"]\n",
    "    }, \n",
    "               \"PIONEER FACTORS\":\n",
    "    {\n",
    "        \"Cluster8\": [\"MAP2K6/IKZF3\", \"MAPK1/IKZF3\", \"MAP2K3/IKZF3\", \"ETS2/IKZF3\", \"FOSB/IKZF3\", \"ctrl/IKZF3\", \n",
    "                     \"POU3F2/CBFA2T3\", \"IKZF3/ctrl\"], \n",
    "        \"Cluster9\": [\"FOXA3/FOXL2\", \"MIDN/ctrl\", \"TP73/ctrl\", \"FOXA1/FOXF1\", \"FOXA3/FOXF1\", \"FOXA1/HOXB9\", \n",
    "                     \"FOXF1/FOXL2\", \"FOXA3/FOXA1\", \"FOXA3/ctrl\", \"FOXA1/FOXL2\", \"FOXA3/HOXB9\", \"FOXF1/HOXB9\", \n",
    "                     \"FOXL2/MEIS1\", \"POU3F2/FOXL2\", \"HOXA13/ctrl\", \"LYL1/IER5L\", \"ctrl/HOXC13\", \"HOXC13/ctrl\", \"RHOXF2b/ctrl\", \n",
    "                     \"DUSP9/SNAI1\", \"ZBTB10/SNAI1\", \"RHOXF2B/SET\", \"SET/CEBPE\", \"ctrl/SET\", \"SET/ctrl\", \"IRF1/SET\"], \n",
    "        \"Cluster10\": [\"DUSP9/KLF1\", \"DUSP9/ETS2\", \"DUSP9/ctrl\", \"DUSP9/PRTG\", \"DUSP9/IGDCC3\"]\n",
    "    }, \n",
    "               \"ERYTHROID\": \n",
    "    {\n",
    "        \"Cluster11\": [\"ATL1/ctrl\", \"UBASH3B/PTPN12\", \"CBL/PTPN12\", \"PTPN12/UBASH3A\", \"CBL/CNN1\", \"PTPN12/PTPN9\",\n",
    "                      \"PTPN12/ZBTB25\", \"CNN1/UBASH3A\", \"BPGM/SAMD1\", \"SAMD1/PTPN12\", \"UBASH3B/CNN1\", \"UBASH3B/ZBTB25\", \n",
    "                      \"SAMD1/UBASH3B\", \"UBASH3B/PTPN9\", \"PTPN1/ctrl\", \"CBL/UBASH3B\", \"CBL/PTPN9\", \"UBASH3B/UBASH3A\"], \n",
    "        \"Cluster12\":[\"TBX3/TBX2\", \"TBX2/ctrl\", \"ctrl/TBX2\", \"SGK1/TBX2\", \"SGK1/ctrl\"]\n",
    "    }, \n",
    "               \"G1 CELL CYCLE ARREST\":\n",
    "    {\n",
    "        \"Cluster13\": [\"CDKN1C/CDKN1B\", \"ctrl/CDKN1A\", \"CDKN1B/CDKN1A\", \"CDKN1A/ctrl\", \"CDKN1C/ctrl\", \"CDKN1C/CDKN1A\", \n",
    "                      \"CDKN1B/ctrl\"]\n",
    "    }\n",
    "}"
   ]
  },
  {
   "cell_type": "code",
   "execution_count": null,
   "metadata": {},
   "outputs": [],
   "source": [
    "dictCluster = {\"PRO-GROWTH\": \n",
    "    {\n",
    "    \"Cluster1\": {\"AHR/KLF1\", \"ctrl/KLF1\", \"KLF1/ctrl\", \"KLF1/TGFBR2\", \"KLF1/BAK1\", \"CEBPE/KLF1\"}, \n",
    "    \"Cluster2\": [\"MAP2K6/ctrl\", \"ctrl/MAP2K6\", \"MAP2K6/ELMSAN1\", \"MAP2K3/MAP2K6\", \"KLF1/MAP2K6\", \"ctrl/ELMSAN1\", \n",
    "                 \"MAP2K3/ctrl\", \"MAP2K3/ELMSAN1\", \"ELMSAN1/ctrl\", \"MAP2K3/SLC38A2\"]\n",
    "    }, \n",
    "               \"MEGAKARYOCYTE\": \n",
    "    {\n",
    "        \"Cluster3\": [\"TGFBR2/IGDCC3\", \"ctrl/IGDCC3\", \"IGDCC3/ctrl\", \"PRTG/ctrl\", \"TGFBR2/PRTG\", \"ETS2/PRTG\", \n",
    "                     \"ctrl/PRTG\", \"ETS2/IGDCC3\", \"MAPK1/PRTG\", \"IGDCC3/MAPK1\"],\n",
    "        \"Cluster4\": [\"MAPK1/TGFBR2\", \"MAPK1/ctrl\", \"ctrl/ETS2\", \"ctrl/MAPK1\", \"ETS2/MAPK1\", \"CEBPB/MAPK1\"], \n",
    "        \"Cluster5\": [\"COL2A1/ctrl\", \"KLF1/COL2A1\", \"COL1A1/ctrl\", \"ctrl/COL2A1\"]\n",
    "    },\n",
    "               \"GRANULOCYTE/APOPTOSIS\": \n",
    "    {\n",
    "        \"Cluster6\": [\"FEV/ISL2\", \"ctrl/FEV\", \"FEV/ctrl\", \"AHR/FEV\", \"FEV/CBFA2T3\"], \n",
    "        \"Cluster7\": [\"CEBPE/RUNX1T1\", \"CEBPE/ctrl\", \"ctrl/CEBPE\", \"KLF1/CEBPA\", \"ctrl/CEBPA\", \"ETS2/CEBPE\", \n",
    "                     \"CEBPA/ctrl\", \"FOSB/CEBPE\", \"CEBPB/ctrl\", \"CEBPE/CEBPB\", \"ctrl/CEBPB\",  \"CEBPB/CEBPA\", \n",
    "                     \"CEBPE/CEBPA\", \"ZC3HAV1/CEBPA\", \"FOSB/CEBPB\", \"CEBPE/SPI1\", \"SPI1/ctrl\", \"ctrl/SPI1\"]\n",
    "    }, \n",
    "               \"PIONEER FACTORS\":\n",
    "    {\n",
    "        \"Cluster8\": [\"MAP2K6/IKZF3\", \"MAPK1/IKZF3\", \"MAP2K3/IKZF3\", \"ETS2/IKZF3\", \"FOSB/IKZF3\", \"ctrl/IKZF3\", \n",
    "                     \"POU3F2/CBFA2T3\", \"IKZF3/ctrl\"], \n",
    "        \"Cluster9\": [\"FOXA3/FOXL2\", \"MIDN/ctrl\", \"TP73/ctrl\", \"FOXA1/FOXF1\", \"FOXA3/FOXF1\", \"FOXA1/HOXB9\", \n",
    "                     \"FOXF1/FOXL2\", \"FOXA3/FOXA1\", \"FOXA3/ctrl\", \"FOXA1/FOXL2\", \"FOXA3/HOXB9\", \"FOXF1/HOXB9\", \n",
    "                     \"FOXL2/MEIS1\", \"POU3F2/FOXL2\", \"HOXA13/ctrl\", \"LYL1/IER5L\", \"ctrl/HOXC13\", \"HOXC13/ctrl\", \"RHOXF2b/ctrl\", \n",
    "                     \"DUSP9/SNAI1\", \"ZBTB10/SNAI1\", \"RHOXF2B/SET\", \"SET/CEBPE\", \"ctrl/SET\", \"SET/ctrl\", \"IRF1/SET\"], \n",
    "        \"Cluster10\": [\"DUSP9/KLF1\", \"DUSP9/ETS2\", \"DUSP9/ctrl\", \"DUSP9/PRTG\", \"DUSP9/IGDCC3\"]\n",
    "    }, \n",
    "               \"ERYTHROID\": \n",
    "    {\n",
    "        \"Cluster11\": [\"ATL1/ctrl\", \"UBASH3B/PTPN12\", \"CBL/PTPN12\", \"PTPN12/UBASH3A\", \"CBL/CNN1\", \"PTPN12/PTPN9\",\n",
    "                      \"PTPN12/ZBTB25\", \"CNN1/UBASH3A\", \"BPGM/SAMD1\", \"SAMD1/PTPN12\", \"UBASH3B/CNN1\", \"UBASH3B/ZBTB25\", \n",
    "                      \"SAMD1/UBASH3B\", \"UBASH3B/PTPN9\", \"PTPN1/ctrl\", \"CBL/UBASH3B\", \"CBL/PTPN9\", \"UBASH3B/UBASH3A\"], \n",
    "        \"Cluster12\":[\"TBX3/TBX2\", \"TBX2/ctrl\", \"ctrl/TBX2\", \"SGK1/TBX2\", \"SGK1/ctrl\"]\n",
    "    }, \n",
    "               \"G1 CELL CYCLE ARREST\":\n",
    "    {\n",
    "        \"Cluster13\": [\"CDKN1C/CDKN1B\", \"ctrl/CDKN1A\", \"CDKN1B/CDKN1A\", \"CDKN1A/ctrl\", \"CDKN1C/ctrl\", \"CDKN1C/CDKN1A\", \n",
    "                      \"CDKN1B/ctrl\"]\n",
    "    }\n",
    "}"
   ]
  },
  {
   "cell_type": "code",
   "execution_count": null,
   "metadata": {},
   "outputs": [],
   "source": [
    "df = pd.concat(pd.DataFrame(dictCluster) for k, v in dictCluster.items())"
   ]
  },
  {
   "cell_type": "code",
   "execution_count": 75,
   "metadata": {},
   "outputs": [],
   "source": [
    "testdict = {'Cluster1': ['AHR/KLF1', 'ctrl/KLF1', 'KLF1/ctrl', 'KLF1/TGFBR2', 'KLF1/BAK1', 'CEBPE/KLF1'], 'Cluster2': ['MAP2K6/ctrl', 'ctrl/MAP2K6', 'MAP2K6/ELMSAN1', 'MAP2K3/MAP2K6', 'KLF1/MAP2K6', 'ctrl/ELMSAN1', 'MAP2K3/ctrl', 'MAP2K3/ELMSAN1', 'ELMSAN1/ctrl', 'MAP2K3/SLC38A2']}"
   ]
  },
  {
   "cell_type": "code",
   "execution_count": 81,
   "metadata": {},
   "outputs": [
    {
     "data": {
      "text/plain": [
       "dict_items([('Cluster1', ['AHR/KLF1', 'ctrl/KLF1', 'KLF1/ctrl', 'KLF1/TGFBR2', 'KLF1/BAK1', 'CEBPE/KLF1']), ('Cluster2', ['MAP2K6/ctrl', 'ctrl/MAP2K6', 'MAP2K6/ELMSAN1', 'MAP2K3/MAP2K6', 'KLF1/MAP2K6', 'ctrl/ELMSAN1', 'MAP2K3/ctrl', 'MAP2K3/ELMSAN1', 'ELMSAN1/ctrl', 'MAP2K3/SLC38A2'])])"
      ]
     },
     "execution_count": 81,
     "metadata": {},
     "output_type": "execute_result"
    }
   ],
   "source": [
    "testdict.items()"
   ]
  },
  {
   "cell_type": "code",
   "execution_count": 86,
   "metadata": {},
   "outputs": [],
   "source": [
    "wholeDf = None\n",
    "for k, v in dictCluster.items():\n",
    "    for k1, v1 in v.items():\n",
    "        dataDf  = pd.DataFrame({\n",
    "              'Group': k, \n",
    "              'Cluster': k1, \n",
    "              'Perturb': v1\n",
    "        })\n",
    "        if wholeDf is None: \n",
    "            wholeDf = dataDf\n",
    "        else: \n",
    "            wholeDf = pd.concat([wholeDf, dataDf], axis = 0)"
   ]
  },
  {
   "cell_type": "code",
   "execution_count": 87,
   "metadata": {},
   "outputs": [
    {
     "data": {
      "text/html": [
       "<div>\n",
       "<style scoped>\n",
       "    .dataframe tbody tr th:only-of-type {\n",
       "        vertical-align: middle;\n",
       "    }\n",
       "\n",
       "    .dataframe tbody tr th {\n",
       "        vertical-align: top;\n",
       "    }\n",
       "\n",
       "    .dataframe thead th {\n",
       "        text-align: right;\n",
       "    }\n",
       "</style>\n",
       "<table border=\"1\" class=\"dataframe\">\n",
       "  <thead>\n",
       "    <tr style=\"text-align: right;\">\n",
       "      <th></th>\n",
       "      <th>Group</th>\n",
       "      <th>Cluster</th>\n",
       "      <th>Perturb</th>\n",
       "    </tr>\n",
       "  </thead>\n",
       "  <tbody>\n",
       "    <tr>\n",
       "      <th>0</th>\n",
       "      <td>PRO-GROWTH</td>\n",
       "      <td>Cluster1</td>\n",
       "      <td>AHR/KLF1</td>\n",
       "    </tr>\n",
       "    <tr>\n",
       "      <th>1</th>\n",
       "      <td>PRO-GROWTH</td>\n",
       "      <td>Cluster1</td>\n",
       "      <td>ctrl/KLF1</td>\n",
       "    </tr>\n",
       "    <tr>\n",
       "      <th>2</th>\n",
       "      <td>PRO-GROWTH</td>\n",
       "      <td>Cluster1</td>\n",
       "      <td>KLF1/ctrl</td>\n",
       "    </tr>\n",
       "    <tr>\n",
       "      <th>3</th>\n",
       "      <td>PRO-GROWTH</td>\n",
       "      <td>Cluster1</td>\n",
       "      <td>KLF1/TGFBR2</td>\n",
       "    </tr>\n",
       "    <tr>\n",
       "      <th>4</th>\n",
       "      <td>PRO-GROWTH</td>\n",
       "      <td>Cluster1</td>\n",
       "      <td>KLF1/BAK1</td>\n",
       "    </tr>\n",
       "    <tr>\n",
       "      <th>...</th>\n",
       "      <td>...</td>\n",
       "      <td>...</td>\n",
       "      <td>...</td>\n",
       "    </tr>\n",
       "    <tr>\n",
       "      <th>2</th>\n",
       "      <td>G1 CELL CYCLE ARREST</td>\n",
       "      <td>Cluster13</td>\n",
       "      <td>CDKN1B/CDKN1A</td>\n",
       "    </tr>\n",
       "    <tr>\n",
       "      <th>3</th>\n",
       "      <td>G1 CELL CYCLE ARREST</td>\n",
       "      <td>Cluster13</td>\n",
       "      <td>CDKN1A/ctrl</td>\n",
       "    </tr>\n",
       "    <tr>\n",
       "      <th>4</th>\n",
       "      <td>G1 CELL CYCLE ARREST</td>\n",
       "      <td>Cluster13</td>\n",
       "      <td>CDKN1C/ctrl</td>\n",
       "    </tr>\n",
       "    <tr>\n",
       "      <th>5</th>\n",
       "      <td>G1 CELL CYCLE ARREST</td>\n",
       "      <td>Cluster13</td>\n",
       "      <td>CDKN1C/CDKN1A</td>\n",
       "    </tr>\n",
       "    <tr>\n",
       "      <th>6</th>\n",
       "      <td>G1 CELL CYCLE ARREST</td>\n",
       "      <td>Cluster13</td>\n",
       "      <td>CDKN1B/ctrl</td>\n",
       "    </tr>\n",
       "  </tbody>\n",
       "</table>\n",
       "<p>128 rows × 3 columns</p>\n",
       "</div>"
      ],
      "text/plain": [
       "                   Group    Cluster        Perturb\n",
       "0             PRO-GROWTH   Cluster1       AHR/KLF1\n",
       "1             PRO-GROWTH   Cluster1      ctrl/KLF1\n",
       "2             PRO-GROWTH   Cluster1      KLF1/ctrl\n",
       "3             PRO-GROWTH   Cluster1    KLF1/TGFBR2\n",
       "4             PRO-GROWTH   Cluster1      KLF1/BAK1\n",
       "..                   ...        ...            ...\n",
       "2   G1 CELL CYCLE ARREST  Cluster13  CDKN1B/CDKN1A\n",
       "3   G1 CELL CYCLE ARREST  Cluster13    CDKN1A/ctrl\n",
       "4   G1 CELL CYCLE ARREST  Cluster13    CDKN1C/ctrl\n",
       "5   G1 CELL CYCLE ARREST  Cluster13  CDKN1C/CDKN1A\n",
       "6   G1 CELL CYCLE ARREST  Cluster13    CDKN1B/ctrl\n",
       "\n",
       "[128 rows x 3 columns]"
      ]
     },
     "execution_count": 87,
     "metadata": {},
     "output_type": "execute_result"
    }
   ],
   "source": [
    "wholeDf"
   ]
  },
  {
   "cell_type": "code",
   "execution_count": 88,
   "metadata": {},
   "outputs": [
    {
     "data": {
      "text/html": [
       "<div>\n",
       "<style scoped>\n",
       "    .dataframe tbody tr th:only-of-type {\n",
       "        vertical-align: middle;\n",
       "    }\n",
       "\n",
       "    .dataframe tbody tr th {\n",
       "        vertical-align: top;\n",
       "    }\n",
       "\n",
       "    .dataframe thead th {\n",
       "        text-align: right;\n",
       "    }\n",
       "</style>\n",
       "<table border=\"1\" class=\"dataframe\">\n",
       "  <thead>\n",
       "    <tr style=\"text-align: right;\">\n",
       "      <th></th>\n",
       "      <th>0</th>\n",
       "    </tr>\n",
       "  </thead>\n",
       "  <tbody>\n",
       "    <tr>\n",
       "      <th>0</th>\n",
       "      <td>ctrl/ctrl</td>\n",
       "    </tr>\n",
       "    <tr>\n",
       "      <th>1</th>\n",
       "      <td>TSC22D1/ctrl</td>\n",
       "    </tr>\n",
       "    <tr>\n",
       "      <th>2</th>\n",
       "      <td>KLF1/MAP2K6</td>\n",
       "    </tr>\n",
       "    <tr>\n",
       "      <th>3</th>\n",
       "      <td>ctrl10/ctrl</td>\n",
       "    </tr>\n",
       "    <tr>\n",
       "      <th>4</th>\n",
       "      <td>CEBPE/RUNX1T1</td>\n",
       "    </tr>\n",
       "  </tbody>\n",
       "</table>\n",
       "</div>"
      ],
      "text/plain": [
       "               0\n",
       "0      ctrl/ctrl\n",
       "1   TSC22D1/ctrl\n",
       "2    KLF1/MAP2K6\n",
       "3    ctrl10/ctrl\n",
       "4  CEBPE/RUNX1T1"
      ]
     },
     "execution_count": 88,
     "metadata": {},
     "output_type": "execute_result"
    }
   ],
   "source": [
    "obs_pd = pd.DataFrame(obs_np)\n",
    "obs_pd.head()"
   ]
  },
  {
   "cell_type": "code",
   "execution_count": 89,
   "metadata": {},
   "outputs": [
    {
     "data": {
      "text/html": [
       "<div>\n",
       "<style scoped>\n",
       "    .dataframe tbody tr th:only-of-type {\n",
       "        vertical-align: middle;\n",
       "    }\n",
       "\n",
       "    .dataframe tbody tr th {\n",
       "        vertical-align: top;\n",
       "    }\n",
       "\n",
       "    .dataframe thead th {\n",
       "        text-align: right;\n",
       "    }\n",
       "</style>\n",
       "<table border=\"1\" class=\"dataframe\">\n",
       "  <thead>\n",
       "    <tr style=\"text-align: right;\">\n",
       "      <th></th>\n",
       "      <th>perturbation</th>\n",
       "    </tr>\n",
       "  </thead>\n",
       "  <tbody>\n",
       "    <tr>\n",
       "      <th>0</th>\n",
       "      <td>ctrl/ctrl</td>\n",
       "    </tr>\n",
       "    <tr>\n",
       "      <th>1</th>\n",
       "      <td>TSC22D1/ctrl</td>\n",
       "    </tr>\n",
       "    <tr>\n",
       "      <th>2</th>\n",
       "      <td>KLF1/MAP2K6</td>\n",
       "    </tr>\n",
       "    <tr>\n",
       "      <th>3</th>\n",
       "      <td>ctrl10/ctrl</td>\n",
       "    </tr>\n",
       "    <tr>\n",
       "      <th>4</th>\n",
       "      <td>CEBPE/RUNX1T1</td>\n",
       "    </tr>\n",
       "  </tbody>\n",
       "</table>\n",
       "</div>"
      ],
      "text/plain": [
       "    perturbation\n",
       "0      ctrl/ctrl\n",
       "1   TSC22D1/ctrl\n",
       "2    KLF1/MAP2K6\n",
       "3    ctrl10/ctrl\n",
       "4  CEBPE/RUNX1T1"
      ]
     },
     "execution_count": 89,
     "metadata": {},
     "output_type": "execute_result"
    }
   ],
   "source": [
    "obs_pd.columns = ['perturbation']\n",
    "obs_pd.head()"
   ]
  },
  {
   "cell_type": "code",
   "execution_count": 90,
   "metadata": {},
   "outputs": [],
   "source": [
    "obs_meta_pd = pd.merge(obs_pd, wholeDf, left_on = 'perturbation', right_on = 'Perturb', \n",
    "                        how = 'left')"
   ]
  },
  {
   "cell_type": "code",
   "execution_count": 98,
   "metadata": {},
   "outputs": [
    {
     "data": {
      "text/html": [
       "<div>\n",
       "<style scoped>\n",
       "    .dataframe tbody tr th:only-of-type {\n",
       "        vertical-align: middle;\n",
       "    }\n",
       "\n",
       "    .dataframe tbody tr th {\n",
       "        vertical-align: top;\n",
       "    }\n",
       "\n",
       "    .dataframe thead th {\n",
       "        text-align: right;\n",
       "    }\n",
       "</style>\n",
       "<table border=\"1\" class=\"dataframe\">\n",
       "  <thead>\n",
       "    <tr style=\"text-align: right;\">\n",
       "      <th></th>\n",
       "      <th>perturbation</th>\n",
       "      <th>Group</th>\n",
       "      <th>Cluster</th>\n",
       "      <th>Perturb</th>\n",
       "    </tr>\n",
       "  </thead>\n",
       "  <tbody>\n",
       "    <tr>\n",
       "      <th>0</th>\n",
       "      <td>ctrl/ctrl</td>\n",
       "      <td>NaN</td>\n",
       "      <td>NaN</td>\n",
       "      <td>NaN</td>\n",
       "    </tr>\n",
       "    <tr>\n",
       "      <th>1</th>\n",
       "      <td>TSC22D1/ctrl</td>\n",
       "      <td>NaN</td>\n",
       "      <td>NaN</td>\n",
       "      <td>NaN</td>\n",
       "    </tr>\n",
       "    <tr>\n",
       "      <th>2</th>\n",
       "      <td>KLF1/MAP2K6</td>\n",
       "      <td>PRO-GROWTH</td>\n",
       "      <td>Cluster2</td>\n",
       "      <td>KLF1/MAP2K6</td>\n",
       "    </tr>\n",
       "    <tr>\n",
       "      <th>3</th>\n",
       "      <td>ctrl10/ctrl</td>\n",
       "      <td>NaN</td>\n",
       "      <td>NaN</td>\n",
       "      <td>NaN</td>\n",
       "    </tr>\n",
       "    <tr>\n",
       "      <th>4</th>\n",
       "      <td>CEBPE/RUNX1T1</td>\n",
       "      <td>GRANULOCYTE/APOPTOSIS</td>\n",
       "      <td>Cluster7</td>\n",
       "      <td>CEBPE/RUNX1T1</td>\n",
       "    </tr>\n",
       "  </tbody>\n",
       "</table>\n",
       "</div>"
      ],
      "text/plain": [
       "    perturbation                  Group   Cluster        Perturb\n",
       "0      ctrl/ctrl                    NaN       NaN            NaN\n",
       "1   TSC22D1/ctrl                    NaN       NaN            NaN\n",
       "2    KLF1/MAP2K6             PRO-GROWTH  Cluster2    KLF1/MAP2K6\n",
       "3    ctrl10/ctrl                    NaN       NaN            NaN\n",
       "4  CEBPE/RUNX1T1  GRANULOCYTE/APOPTOSIS  Cluster7  CEBPE/RUNX1T1"
      ]
     },
     "execution_count": 98,
     "metadata": {},
     "output_type": "execute_result"
    }
   ],
   "source": [
    "obs_meta_pd.head()"
   ]
  },
  {
   "cell_type": "code",
   "execution_count": 94,
   "metadata": {},
   "outputs": [],
   "source": [
    "obs_meta_pd.to_csv('cell_meta_Annotated_KeptPerturb_RAW_LibraryCheck_PyThon37.csv')"
   ]
  },
  {
   "cell_type": "code",
   "execution_count": 95,
   "metadata": {},
   "outputs": [],
   "source": [
    "posteriorZLmeanK = np.concatenate([posteriorZmeanK, posteriorLmeanK], axis =1 )\n",
    "posteriorZLsampleK = np.concatenate([posteriorZsampleK, posteriorLsampleK], axis =1 )"
   ]
  },
  {
   "cell_type": "code",
   "execution_count": 96,
   "metadata": {},
   "outputs": [
    {
     "name": "stdout",
     "output_type": "stream",
     "text": [
      "(109738, 11)\n",
      "(109738, 11)\n"
     ]
    }
   ],
   "source": [
    "print(posteriorZLmeanK.shape); print(posteriorZLsampleK.shape)"
   ]
  },
  {
   "cell_type": "code",
   "execution_count": 97,
   "metadata": {},
   "outputs": [
    {
     "name": "stderr",
     "output_type": "stream",
     "text": [
      "/home/hengshi/.local/lib/python3.6/site-packages/numba/typed_passes.py:293: NumbaPerformanceWarning: \u001b[1m\n",
      "The keyword argument 'parallel=True' was specified but no transformation for parallel execution was possible.\n",
      "\n",
      "To find out why, try turning on parallel diagnostics, see http://numba.pydata.org/numba-doc/latest/user/parallel.html#diagnostics for help.\n",
      "\u001b[1m\n",
      "File \"../../../../../../../../../home/hengshi/.local/lib/python3.6/site-packages/umap/rp_tree.py\", line 135:\u001b[0m\n",
      "\u001b[1m@numba.njit(fastmath=True, nogil=True, parallel=True)\n",
      "\u001b[1mdef euclidean_random_projection_split(data, indices, rng_state):\n",
      "\u001b[0m\u001b[1m^\u001b[0m\u001b[0m\n",
      "\u001b[0m\n",
      "  state.func_ir.loc))\n",
      "/home/hengshi/.local/lib/python3.6/site-packages/umap/nndescent.py:92: NumbaPerformanceWarning: \u001b[1m\u001b[1m\n",
      "The keyword argument 'parallel=True' was specified but no transformation for parallel execution was possible.\n",
      "\n",
      "To find out why, try turning on parallel diagnostics, see http://numba.pydata.org/numba-doc/latest/user/parallel.html#diagnostics for help.\n",
      "\u001b[1m\n",
      "File \"../../../../../../../../../home/hengshi/.local/lib/python3.6/site-packages/umap/utils.py\", line 409:\u001b[0m\n",
      "\u001b[1m@numba.njit(parallel=True)\n",
      "\u001b[1mdef build_candidates(current_graph, n_vertices, n_neighbors, max_candidates, rng_state):\n",
      "\u001b[0m\u001b[1m^\u001b[0m\u001b[0m\n",
      "\u001b[0m\u001b[0m\n",
      "  current_graph, n_vertices, n_neighbors, max_candidates, rng_state\n",
      "/home/hengshi/.local/lib/python3.6/site-packages/numba/typed_passes.py:293: NumbaPerformanceWarning: \u001b[1m\n",
      "The keyword argument 'parallel=True' was specified but no transformation for parallel execution was possible.\n",
      "\n",
      "To find out why, try turning on parallel diagnostics, see http://numba.pydata.org/numba-doc/latest/user/parallel.html#diagnostics for help.\n",
      "\u001b[1m\n",
      "File \"../../../../../../../../../home/hengshi/.local/lib/python3.6/site-packages/umap/nndescent.py\", line 47:\u001b[0m\n",
      "\u001b[1m    @numba.njit(parallel=True)\n",
      "\u001b[1m    def nn_descent(\n",
      "\u001b[0m    \u001b[1m^\u001b[0m\u001b[0m\n",
      "\u001b[0m\n",
      "  state.func_ir.loc))\n",
      "/home/hengshi/.local/lib/python3.6/site-packages/numba/typed_passes.py:293: NumbaPerformanceWarning: \u001b[1m\n",
      "The keyword argument 'parallel=True' was specified but no transformation for parallel execution was possible.\n",
      "\n",
      "To find out why, try turning on parallel diagnostics, see http://numba.pydata.org/numba-doc/latest/user/parallel.html#diagnostics for help.\n",
      "\u001b[1m\n",
      "File \"../../../../../../../../../home/hengshi/.local/lib/python3.6/site-packages/umap/nndescent.py\", line 47:\u001b[0m\n",
      "\u001b[1m    @numba.njit(parallel=True)\n",
      "\u001b[1m    def nn_descent(\n",
      "\u001b[0m    \u001b[1m^\u001b[0m\u001b[0m\n",
      "\u001b[0m\n",
      "  state.func_ir.loc))\n",
      "/home/hengshi/.local/lib/python3.6/site-packages/numba/typed_passes.py:293: NumbaPerformanceWarning: \u001b[1m\n",
      "The keyword argument 'parallel=True' was specified but no transformation for parallel execution was possible.\n",
      "\n",
      "To find out why, try turning on parallel diagnostics, see http://numba.pydata.org/numba-doc/latest/user/parallel.html#diagnostics for help.\n",
      "\u001b[1m\n",
      "File \"../../../../../../../../../home/hengshi/.local/lib/python3.6/site-packages/umap/nndescent.py\", line 47:\u001b[0m\n",
      "\u001b[1m    @numba.njit(parallel=True)\n",
      "\u001b[1m    def nn_descent(\n",
      "\u001b[0m    \u001b[1m^\u001b[0m\u001b[0m\n",
      "\u001b[0m\n",
      "  state.func_ir.loc))\n",
      "/home/hengshi/.local/lib/python3.6/site-packages/numba/typed_passes.py:293: NumbaPerformanceWarning: \u001b[1m\n",
      "The keyword argument 'parallel=True' was specified but no transformation for parallel execution was possible.\n",
      "\n",
      "To find out why, try turning on parallel diagnostics, see http://numba.pydata.org/numba-doc/latest/user/parallel.html#diagnostics for help.\n",
      "\u001b[1m\n",
      "File \"../../../../../../../../../home/hengshi/.local/lib/python3.6/site-packages/umap/nndescent.py\", line 47:\u001b[0m\n",
      "\u001b[1m    @numba.njit(parallel=True)\n",
      "\u001b[1m    def nn_descent(\n",
      "\u001b[0m    \u001b[1m^\u001b[0m\u001b[0m\n",
      "\u001b[0m\n",
      "  state.func_ir.loc))\n"
     ]
    }
   ],
   "source": [
    "import umap \n",
    "\n",
    "umap1 = umap.UMAP(random_state=42, min_dist = 0.5, n_neighbors=30).fit_transform(posteriorZmeanK)\n",
    "umap2 = umap.UMAP(random_state=42, min_dist = 0.5, n_neighbors=30).fit_transform(posteriorZsampleK)\n",
    "\n",
    "umap3 = umap.UMAP(random_state=42, min_dist = 0.5, n_neighbors=30).fit_transform(posteriorZLmeanK)\n",
    "umap4 = umap.UMAP(random_state=42, min_dist = 0.5, n_neighbors=30).fit_transform(posteriorZLsampleK)"
   ]
  },
  {
   "cell_type": "code",
   "execution_count": 100,
   "metadata": {},
   "outputs": [
    {
     "name": "stderr",
     "output_type": "stream",
     "text": [
      "/home/hengshi/.local/lib/python3.6/site-packages/plotnine/scales/scale.py:93: MatplotlibDeprecationWarning: \n",
      "The iterable function was deprecated in Matplotlib 3.1 and will be removed in 3.3. Use np.iterable instead.\n",
      "  if cbook.iterable(self.breaks) and cbook.iterable(self.labels):\n",
      "/home/hengshi/.local/lib/python3.6/site-packages/plotnine/utils.py:553: MatplotlibDeprecationWarning: \n",
      "The iterable function was deprecated in Matplotlib 3.1 and will be removed in 3.3. Use np.iterable instead.\n",
      "  return cbook.iterable(var) and not is_string(var)\n"
     ]
    },
    {
     "data": {
      "text/plain": [
       "<Figure size 640x480 with 1 Axes>"
      ]
     },
     "metadata": {},
     "output_type": "display_data"
    },
    {
     "data": {
      "text/plain": [
       "<ggplot: (2978608452928)>"
      ]
     },
     "execution_count": 100,
     "metadata": {},
     "output_type": "execute_result"
    }
   ],
   "source": [
    "from plotnine import *\n",
    "df_tsne_pr = pd.DataFrame(umap1.copy())\n",
    "df_tsne_pr['x-umap'] = umap1[:,0]\n",
    "df_tsne_pr['y-umap'] = umap1[:,1]\n",
    "df_tsne_pr['Perturbation'] = obs_meta_pd['perturbation']\n",
    "df_tsne_pr['Cluster'] = obs_meta_pd['Cluster']\n",
    "df_tsne_pr['Group'] = obs_meta_pd['Group']\n",
    "\n",
    "\n",
    "\n",
    "chart_pr = ggplot(df_tsne_pr, aes(x= 'x-umap', y= 'y-umap', colour = 'Group') ) \\\n",
    "+ geom_point(size=0.5, alpha = 0.5) \\\n",
    "+ ggtitle(\"UMAP dimensions\")\n",
    "figure_name_pr = \"UMAP_Zmean_Group.png\"\n",
    "figure_path_pr = \"./GI_scVI/output/\" + figure_name_pr\n",
    "chart_pr.save(figure_path_pr, width=12, height=8, dpi=144)\n",
    "chart_pr"
   ]
  },
  {
   "cell_type": "code",
   "execution_count": 101,
   "metadata": {},
   "outputs": [],
   "source": [
    "%matplotlib inline"
   ]
  },
  {
   "cell_type": "code",
   "execution_count": 102,
   "metadata": {},
   "outputs": [
    {
     "name": "stderr",
     "output_type": "stream",
     "text": [
      "/home/hengshi/.local/lib/python3.6/site-packages/plotnine/scales/scale.py:93: MatplotlibDeprecationWarning: \n",
      "The iterable function was deprecated in Matplotlib 3.1 and will be removed in 3.3. Use np.iterable instead.\n",
      "  if cbook.iterable(self.breaks) and cbook.iterable(self.labels):\n",
      "/home/hengshi/.local/lib/python3.6/site-packages/plotnine/utils.py:553: MatplotlibDeprecationWarning: \n",
      "The iterable function was deprecated in Matplotlib 3.1 and will be removed in 3.3. Use np.iterable instead.\n",
      "  return cbook.iterable(var) and not is_string(var)\n"
     ]
    },
    {
     "data": {
      "image/png": "[encoded data removed]",
      "text/plain": [
       "<Figure size 640x480 with 1 Axes>"
      ]
     },
     "metadata": {},
     "output_type": "display_data"
    },
    {
     "data": {
      "text/plain": [
       "<ggplot: (2978608452928)>"
      ]
     },
     "execution_count": 102,
     "metadata": {},
     "output_type": "execute_result"
    }
   ],
   "source": [
    "chart_pr"
   ]
  },
  {
   "cell_type": "code",
   "execution_count": 103,
   "metadata": {},
   "outputs": [
    {
     "name": "stderr",
     "output_type": "stream",
     "text": [
      "/home/hengshi/.local/lib/python3.6/site-packages/plotnine/ggplot.py:706: UserWarning: Saving 12 x 8 in image.\n",
      "  from_inches(height, units), units))\n",
      "/home/hengshi/.local/lib/python3.6/site-packages/plotnine/ggplot.py:707: UserWarning: Filename: ./GI_scVI/output/UMAP_Zmean_Group.png\n",
      "  warn('Filename: {}'.format(filename))\n",
      "/home/hengshi/.local/lib/python3.6/site-packages/plotnine/scales/scale.py:93: MatplotlibDeprecationWarning: \n",
      "The iterable function was deprecated in Matplotlib 3.1 and will be removed in 3.3. Use np.iterable instead.\n",
      "  if cbook.iterable(self.breaks) and cbook.iterable(self.labels):\n",
      "/home/hengshi/.local/lib/python3.6/site-packages/plotnine/utils.py:553: MatplotlibDeprecationWarning: \n",
      "The iterable function was deprecated in Matplotlib 3.1 and will be removed in 3.3. Use np.iterable instead.\n",
      "  return cbook.iterable(var) and not is_string(var)\n",
      "/home/hengshi/.local/lib/python3.6/site-packages/plotnine/ggplot.py:722: MatplotlibDeprecationWarning: \n",
      "The frameon kwarg was deprecated in Matplotlib 3.1 and will be removed in 3.3. Use facecolor instead.\n",
      "  fig.savefig(filename, **fig_kwargs)\n"
     ]
    }
   ],
   "source": [
    "chart_pr.save(figure_path_pr, width=12, height=8, dpi=144)"
   ]
  },
  {
   "cell_type": "code",
   "execution_count": 104,
   "metadata": {},
   "outputs": [
    {
     "name": "stderr",
     "output_type": "stream",
     "text": [
      "/home/hengshi/.local/lib/python3.6/site-packages/plotnine/ggplot.py:706: UserWarning: Saving 12 x 8 in image.\n",
      "  from_inches(height, units), units))\n",
      "/home/hengshi/.local/lib/python3.6/site-packages/plotnine/ggplot.py:707: UserWarning: Filename: ./GI_scVI/output/UMAP_Zmean_Cluster.png\n",
      "  warn('Filename: {}'.format(filename))\n",
      "/home/hengshi/.local/lib/python3.6/site-packages/plotnine/scales/scale.py:93: MatplotlibDeprecationWarning: \n",
      "The iterable function was deprecated in Matplotlib 3.1 and will be removed in 3.3. Use np.iterable instead.\n",
      "  if cbook.iterable(self.breaks) and cbook.iterable(self.labels):\n",
      "/home/hengshi/.local/lib/python3.6/site-packages/plotnine/utils.py:553: MatplotlibDeprecationWarning: \n",
      "The iterable function was deprecated in Matplotlib 3.1 and will be removed in 3.3. Use np.iterable instead.\n",
      "  return cbook.iterable(var) and not is_string(var)\n",
      "/home/hengshi/.local/lib/python3.6/site-packages/plotnine/ggplot.py:722: MatplotlibDeprecationWarning: \n",
      "The frameon kwarg was deprecated in Matplotlib 3.1 and will be removed in 3.3. Use facecolor instead.\n",
      "  fig.savefig(filename, **fig_kwargs)\n",
      "/home/hengshi/.local/lib/python3.6/site-packages/plotnine/ggplot.py:706: UserWarning: Saving 12 x 8 in image.\n",
      "  from_inches(height, units), units))\n",
      "/home/hengshi/.local/lib/python3.6/site-packages/plotnine/ggplot.py:707: UserWarning: Filename: ./GI_scVI/output/UMAP_Zmean_Perturbation.png\n",
      "  warn('Filename: {}'.format(filename))\n",
      "/home/hengshi/.local/lib/python3.6/site-packages/plotnine/scales/scale.py:93: MatplotlibDeprecationWarning: \n",
      "The iterable function was deprecated in Matplotlib 3.1 and will be removed in 3.3. Use np.iterable instead.\n",
      "  if cbook.iterable(self.breaks) and cbook.iterable(self.labels):\n",
      "/home/hengshi/.local/lib/python3.6/site-packages/plotnine/utils.py:553: MatplotlibDeprecationWarning: \n",
      "The iterable function was deprecated in Matplotlib 3.1 and will be removed in 3.3. Use np.iterable instead.\n",
      "  return cbook.iterable(var) and not is_string(var)\n",
      "/home/hengshi/.local/lib/python3.6/site-packages/plotnine/ggplot.py:722: MatplotlibDeprecationWarning: \n",
      "The frameon kwarg was deprecated in Matplotlib 3.1 and will be removed in 3.3. Use facecolor instead.\n",
      "  fig.savefig(filename, **fig_kwargs)\n"
     ]
    }
   ],
   "source": [
    "chart_pr = ggplot(df_tsne_pr, aes(x= 'x-umap', y= 'y-umap', colour = 'Cluster') ) \\\n",
    "+ geom_point(size=0.5, alpha = 0.5) \\\n",
    "+ ggtitle(\"UMAP dimensions\")\n",
    "figure_name_pr = \"UMAP_Zmean_Cluster.png\"\n",
    "figure_path_pr = \"./GI_scVI/output/\" + figure_name_pr\n",
    "chart_pr.save(figure_path_pr, width=12, height=8, dpi=144)\n",
    "\n",
    "chart_pr = ggplot(df_tsne_pr, aes(x= 'x-umap', y= 'y-umap', colour = 'Perturbation') ) \\\n",
    "+ geom_point(size=0.5, alpha = 0.5) \\\n",
    "+ ggtitle(\"UMAP dimensions\")\n",
    "figure_name_pr = \"UMAP_Zmean_Perturbation.png\"\n",
    "figure_path_pr = \"./GI_scVI/output/\" + figure_name_pr\n",
    "chart_pr.save(figure_path_pr, width=12, height=8, dpi=144)"
   ]
  },
  {
   "cell_type": "code",
   "execution_count": 105,
   "metadata": {},
   "outputs": [
    {
     "name": "stderr",
     "output_type": "stream",
     "text": [
      "/home/hengshi/.local/lib/python3.6/site-packages/plotnine/ggplot.py:706: UserWarning: Saving 12 x 8 in image.\n",
      "  from_inches(height, units), units))\n",
      "/home/hengshi/.local/lib/python3.6/site-packages/plotnine/ggplot.py:707: UserWarning: Filename: ./GI_scVI/output/UMAP_Zsample_Group.png\n",
      "  warn('Filename: {}'.format(filename))\n",
      "/home/hengshi/.local/lib/python3.6/site-packages/plotnine/scales/scale.py:93: MatplotlibDeprecationWarning: \n",
      "The iterable function was deprecated in Matplotlib 3.1 and will be removed in 3.3. Use np.iterable instead.\n",
      "  if cbook.iterable(self.breaks) and cbook.iterable(self.labels):\n",
      "/home/hengshi/.local/lib/python3.6/site-packages/plotnine/utils.py:553: MatplotlibDeprecationWarning: \n",
      "The iterable function was deprecated in Matplotlib 3.1 and will be removed in 3.3. Use np.iterable instead.\n",
      "  return cbook.iterable(var) and not is_string(var)\n",
      "/home/hengshi/.local/lib/python3.6/site-packages/plotnine/ggplot.py:722: MatplotlibDeprecationWarning: \n",
      "The frameon kwarg was deprecated in Matplotlib 3.1 and will be removed in 3.3. Use facecolor instead.\n",
      "  fig.savefig(filename, **fig_kwargs)\n",
      "/home/hengshi/.local/lib/python3.6/site-packages/plotnine/ggplot.py:706: UserWarning: Saving 12 x 8 in image.\n",
      "  from_inches(height, units), units))\n",
      "/home/hengshi/.local/lib/python3.6/site-packages/plotnine/ggplot.py:707: UserWarning: Filename: ./GI_scVI/output/UMAP_Zsample_Cluster.png\n",
      "  warn('Filename: {}'.format(filename))\n",
      "/home/hengshi/.local/lib/python3.6/site-packages/plotnine/scales/scale.py:93: MatplotlibDeprecationWarning: \n",
      "The iterable function was deprecated in Matplotlib 3.1 and will be removed in 3.3. Use np.iterable instead.\n",
      "  if cbook.iterable(self.breaks) and cbook.iterable(self.labels):\n",
      "/home/hengshi/.local/lib/python3.6/site-packages/plotnine/utils.py:553: MatplotlibDeprecationWarning: \n",
      "The iterable function was deprecated in Matplotlib 3.1 and will be removed in 3.3. Use np.iterable instead.\n",
      "  return cbook.iterable(var) and not is_string(var)\n",
      "/home/hengshi/.local/lib/python3.6/site-packages/plotnine/ggplot.py:722: MatplotlibDeprecationWarning: \n",
      "The frameon kwarg was deprecated in Matplotlib 3.1 and will be removed in 3.3. Use facecolor instead.\n",
      "  fig.savefig(filename, **fig_kwargs)\n",
      "/home/hengshi/.local/lib/python3.6/site-packages/plotnine/ggplot.py:706: UserWarning: Saving 12 x 8 in image.\n",
      "  from_inches(height, units), units))\n",
      "/home/hengshi/.local/lib/python3.6/site-packages/plotnine/ggplot.py:707: UserWarning: Filename: ./GI_scVI/output/UMAP_Zsample_Perturbation.png\n",
      "  warn('Filename: {}'.format(filename))\n",
      "/home/hengshi/.local/lib/python3.6/site-packages/plotnine/scales/scale.py:93: MatplotlibDeprecationWarning: \n",
      "The iterable function was deprecated in Matplotlib 3.1 and will be removed in 3.3. Use np.iterable instead.\n",
      "  if cbook.iterable(self.breaks) and cbook.iterable(self.labels):\n",
      "/home/hengshi/.local/lib/python3.6/site-packages/plotnine/utils.py:553: MatplotlibDeprecationWarning: \n",
      "The iterable function was deprecated in Matplotlib 3.1 and will be removed in 3.3. Use np.iterable instead.\n",
      "  return cbook.iterable(var) and not is_string(var)\n",
      "/home/hengshi/.local/lib/python3.6/site-packages/plotnine/ggplot.py:722: MatplotlibDeprecationWarning: \n",
      "The frameon kwarg was deprecated in Matplotlib 3.1 and will be removed in 3.3. Use facecolor instead.\n",
      "  fig.savefig(filename, **fig_kwargs)\n"
     ]
    }
   ],
   "source": [
    "df_tsne_pr = pd.DataFrame(umap2.copy())\n",
    "df_tsne_pr['x-umap'] = umap2[:,0]\n",
    "df_tsne_pr['y-umap'] = umap2[:,1]\n",
    "df_tsne_pr['Perturbation'] = obs_meta_pd['perturbation']\n",
    "df_tsne_pr['Cluster'] = obs_meta_pd['Cluster']\n",
    "df_tsne_pr['Group'] = obs_meta_pd['Group']\n",
    "\n",
    "\n",
    "\n",
    "chart_pr = ggplot(df_tsne_pr, aes(x= 'x-umap', y= 'y-umap', colour = 'Group') ) \\\n",
    "+ geom_point(size=0.5, alpha = 0.5) \\\n",
    "+ ggtitle(\"UMAP dimensions\")\n",
    "figure_name_pr = \"UMAP_Zsample_Group.png\"\n",
    "figure_path_pr = \"./GI_scVI/output/\" + figure_name_pr\n",
    "chart_pr.save(figure_path_pr, width=12, height=8, dpi=144)\n",
    "\n",
    "\n",
    "chart_pr = ggplot(df_tsne_pr, aes(x= 'x-umap', y= 'y-umap', colour = 'Cluster') ) \\\n",
    "+ geom_point(size=0.5, alpha = 0.5) \\\n",
    "+ ggtitle(\"UMAP dimensions\")\n",
    "figure_name_pr = \"UMAP_Zsample_Cluster.png\"\n",
    "figure_path_pr = \"./GI_scVI/output/\" + figure_name_pr\n",
    "chart_pr.save(figure_path_pr, width=12, height=8, dpi=144)\n",
    "\n",
    "\n",
    "chart_pr = ggplot(df_tsne_pr, aes(x= 'x-umap', y= 'y-umap', colour = 'Perturbation') ) \\\n",
    "+ geom_point(size=0.5, alpha = 0.5) \\\n",
    "+ ggtitle(\"UMAP dimensions\")\n",
    "figure_name_pr = \"UMAP_Zsample_Perturbation.png\"\n",
    "figure_path_pr = \"./GI_scVI/output/\" + figure_name_pr\n",
    "chart_pr.save(figure_path_pr, width=12, height=8, dpi=144)\n",
    "\n"
   ]
  },
  {
   "cell_type": "code",
   "execution_count": 106,
   "metadata": {},
   "outputs": [
    {
     "name": "stderr",
     "output_type": "stream",
     "text": [
      "/home/hengshi/.local/lib/python3.6/site-packages/plotnine/ggplot.py:706: UserWarning: Saving 12 x 8 in image.\n",
      "  from_inches(height, units), units))\n",
      "/home/hengshi/.local/lib/python3.6/site-packages/plotnine/ggplot.py:707: UserWarning: Filename: ./GI_scVI/output/UMAP_ZLsample_Group.png\n",
      "  warn('Filename: {}'.format(filename))\n",
      "/home/hengshi/.local/lib/python3.6/site-packages/plotnine/scales/scale.py:93: MatplotlibDeprecationWarning: \n",
      "The iterable function was deprecated in Matplotlib 3.1 and will be removed in 3.3. Use np.iterable instead.\n",
      "  if cbook.iterable(self.breaks) and cbook.iterable(self.labels):\n",
      "/home/hengshi/.local/lib/python3.6/site-packages/plotnine/utils.py:553: MatplotlibDeprecationWarning: \n",
      "The iterable function was deprecated in Matplotlib 3.1 and will be removed in 3.3. Use np.iterable instead.\n",
      "  return cbook.iterable(var) and not is_string(var)\n",
      "/home/hengshi/.local/lib/python3.6/site-packages/plotnine/ggplot.py:722: MatplotlibDeprecationWarning: \n",
      "The frameon kwarg was deprecated in Matplotlib 3.1 and will be removed in 3.3. Use facecolor instead.\n",
      "  fig.savefig(filename, **fig_kwargs)\n",
      "/home/hengshi/.local/lib/python3.6/site-packages/plotnine/ggplot.py:706: UserWarning: Saving 12 x 8 in image.\n",
      "  from_inches(height, units), units))\n",
      "/home/hengshi/.local/lib/python3.6/site-packages/plotnine/ggplot.py:707: UserWarning: Filename: ./GI_scVI/output/UMAP_ZLsample_Cluster.png\n",
      "  warn('Filename: {}'.format(filename))\n",
      "/home/hengshi/.local/lib/python3.6/site-packages/plotnine/scales/scale.py:93: MatplotlibDeprecationWarning: \n",
      "The iterable function was deprecated in Matplotlib 3.1 and will be removed in 3.3. Use np.iterable instead.\n",
      "  if cbook.iterable(self.breaks) and cbook.iterable(self.labels):\n",
      "/home/hengshi/.local/lib/python3.6/site-packages/plotnine/utils.py:553: MatplotlibDeprecationWarning: \n",
      "The iterable function was deprecated in Matplotlib 3.1 and will be removed in 3.3. Use np.iterable instead.\n",
      "  return cbook.iterable(var) and not is_string(var)\n",
      "/home/hengshi/.local/lib/python3.6/site-packages/plotnine/ggplot.py:722: MatplotlibDeprecationWarning: \n",
      "The frameon kwarg was deprecated in Matplotlib 3.1 and will be removed in 3.3. Use facecolor instead.\n",
      "  fig.savefig(filename, **fig_kwargs)\n",
      "/home/hengshi/.local/lib/python3.6/site-packages/plotnine/ggplot.py:706: UserWarning: Saving 12 x 8 in image.\n",
      "  from_inches(height, units), units))\n",
      "/home/hengshi/.local/lib/python3.6/site-packages/plotnine/ggplot.py:707: UserWarning: Filename: ./GI_scVI/output/UMAP_ZLsample_Perturbation.png\n",
      "  warn('Filename: {}'.format(filename))\n",
      "/home/hengshi/.local/lib/python3.6/site-packages/plotnine/scales/scale.py:93: MatplotlibDeprecationWarning: \n",
      "The iterable function was deprecated in Matplotlib 3.1 and will be removed in 3.3. Use np.iterable instead.\n",
      "  if cbook.iterable(self.breaks) and cbook.iterable(self.labels):\n",
      "/home/hengshi/.local/lib/python3.6/site-packages/plotnine/utils.py:553: MatplotlibDeprecationWarning: \n",
      "The iterable function was deprecated in Matplotlib 3.1 and will be removed in 3.3. Use np.iterable instead.\n",
      "  return cbook.iterable(var) and not is_string(var)\n",
      "/home/hengshi/.local/lib/python3.6/site-packages/plotnine/ggplot.py:722: MatplotlibDeprecationWarning: \n",
      "The frameon kwarg was deprecated in Matplotlib 3.1 and will be removed in 3.3. Use facecolor instead.\n",
      "  fig.savefig(filename, **fig_kwargs)\n"
     ]
    }
   ],
   "source": [
    "df_tsne_pr = pd.DataFrame(umap4.copy())\n",
    "df_tsne_pr['x-umap'] = umap4[:,0]\n",
    "df_tsne_pr['y-umap'] = umap4[:,1]\n",
    "df_tsne_pr['Perturbation'] = obs_meta_pd['perturbation']\n",
    "df_tsne_pr['Cluster'] = obs_meta_pd['Cluster']\n",
    "df_tsne_pr['Group'] = obs_meta_pd['Group']\n",
    "\n",
    "\n",
    "\n",
    "chart_pr = ggplot(df_tsne_pr, aes(x= 'x-umap', y= 'y-umap', colour = 'Group') ) \\\n",
    "+ geom_point(size=0.5, alpha = 0.5) \\\n",
    "+ ggtitle(\"UMAP dimensions\")\n",
    "figure_name_pr = \"UMAP_ZLsample_Group.png\"\n",
    "figure_path_pr = \"./GI_scVI/output/\" + figure_name_pr\n",
    "chart_pr.save(figure_path_pr, width=12, height=8, dpi=144)\n",
    "\n",
    "\n",
    "chart_pr = ggplot(df_tsne_pr, aes(x= 'x-umap', y= 'y-umap', colour = 'Cluster') ) \\\n",
    "+ geom_point(size=0.5, alpha = 0.5) \\\n",
    "+ ggtitle(\"UMAP dimensions\")\n",
    "figure_name_pr = \"UMAP_ZLsample_Cluster.png\"\n",
    "figure_path_pr = \"./GI_scVI/output/\" + figure_name_pr\n",
    "chart_pr.save(figure_path_pr, width=12, height=8, dpi=144)\n",
    "\n",
    "\n",
    "chart_pr = ggplot(df_tsne_pr, aes(x= 'x-umap', y= 'y-umap', colour = 'Perturbation') ) \\\n",
    "+ geom_point(size=0.5, alpha = 0.5) \\\n",
    "+ ggtitle(\"UMAP dimensions\")\n",
    "figure_name_pr = \"UMAP_ZLsample_Perturbation.png\"\n",
    "figure_path_pr = \"./GI_scVI/output/\" + figure_name_pr\n",
    "chart_pr.save(figure_path_pr, width=12, height=8, dpi=144)\n",
    "\n"
   ]
  },
  {
   "cell_type": "code",
   "execution_count": 107,
   "metadata": {},
   "outputs": [
    {
     "name": "stderr",
     "output_type": "stream",
     "text": [
      "/home/hengshi/.local/lib/python3.6/site-packages/plotnine/ggplot.py:706: UserWarning: Saving 12 x 8 in image.\n",
      "  from_inches(height, units), units))\n",
      "/home/hengshi/.local/lib/python3.6/site-packages/plotnine/ggplot.py:707: UserWarning: Filename: ./GI_scVI/output/UMAP_ZLmean_Group.png\n",
      "  warn('Filename: {}'.format(filename))\n",
      "/home/hengshi/.local/lib/python3.6/site-packages/plotnine/scales/scale.py:93: MatplotlibDeprecationWarning: \n",
      "The iterable function was deprecated in Matplotlib 3.1 and will be removed in 3.3. Use np.iterable instead.\n",
      "  if cbook.iterable(self.breaks) and cbook.iterable(self.labels):\n",
      "/home/hengshi/.local/lib/python3.6/site-packages/plotnine/utils.py:553: MatplotlibDeprecationWarning: \n",
      "The iterable function was deprecated in Matplotlib 3.1 and will be removed in 3.3. Use np.iterable instead.\n",
      "  return cbook.iterable(var) and not is_string(var)\n",
      "/home/hengshi/.local/lib/python3.6/site-packages/plotnine/ggplot.py:722: MatplotlibDeprecationWarning: \n",
      "The frameon kwarg was deprecated in Matplotlib 3.1 and will be removed in 3.3. Use facecolor instead.\n",
      "  fig.savefig(filename, **fig_kwargs)\n",
      "/home/hengshi/.local/lib/python3.6/site-packages/plotnine/ggplot.py:706: UserWarning: Saving 12 x 8 in image.\n",
      "  from_inches(height, units), units))\n",
      "/home/hengshi/.local/lib/python3.6/site-packages/plotnine/ggplot.py:707: UserWarning: Filename: ./GI_scVI/output/UMAP_ZLmean_Cluster.png\n",
      "  warn('Filename: {}'.format(filename))\n",
      "/home/hengshi/.local/lib/python3.6/site-packages/plotnine/scales/scale.py:93: MatplotlibDeprecationWarning: \n",
      "The iterable function was deprecated in Matplotlib 3.1 and will be removed in 3.3. Use np.iterable instead.\n",
      "  if cbook.iterable(self.breaks) and cbook.iterable(self.labels):\n",
      "/home/hengshi/.local/lib/python3.6/site-packages/plotnine/utils.py:553: MatplotlibDeprecationWarning: \n",
      "The iterable function was deprecated in Matplotlib 3.1 and will be removed in 3.3. Use np.iterable instead.\n",
      "  return cbook.iterable(var) and not is_string(var)\n",
      "/home/hengshi/.local/lib/python3.6/site-packages/plotnine/ggplot.py:722: MatplotlibDeprecationWarning: \n",
      "The frameon kwarg was deprecated in Matplotlib 3.1 and will be removed in 3.3. Use facecolor instead.\n",
      "  fig.savefig(filename, **fig_kwargs)\n",
      "/home/hengshi/.local/lib/python3.6/site-packages/plotnine/ggplot.py:706: UserWarning: Saving 12 x 8 in image.\n",
      "  from_inches(height, units), units))\n",
      "/home/hengshi/.local/lib/python3.6/site-packages/plotnine/ggplot.py:707: UserWarning: Filename: ./GI_scVI/output/UMAP_ZLmean_Perturbation.png\n",
      "  warn('Filename: {}'.format(filename))\n",
      "/home/hengshi/.local/lib/python3.6/site-packages/plotnine/scales/scale.py:93: MatplotlibDeprecationWarning: \n",
      "The iterable function was deprecated in Matplotlib 3.1 and will be removed in 3.3. Use np.iterable instead.\n",
      "  if cbook.iterable(self.breaks) and cbook.iterable(self.labels):\n",
      "/home/hengshi/.local/lib/python3.6/site-packages/plotnine/utils.py:553: MatplotlibDeprecationWarning: \n",
      "The iterable function was deprecated in Matplotlib 3.1 and will be removed in 3.3. Use np.iterable instead.\n",
      "  return cbook.iterable(var) and not is_string(var)\n",
      "/home/hengshi/.local/lib/python3.6/site-packages/plotnine/ggplot.py:722: MatplotlibDeprecationWarning: \n",
      "The frameon kwarg was deprecated in Matplotlib 3.1 and will be removed in 3.3. Use facecolor instead.\n",
      "  fig.savefig(filename, **fig_kwargs)\n"
     ]
    }
   ],
   "source": [
    "df_tsne_pr = pd.DataFrame(umap3.copy())\n",
    "df_tsne_pr['x-umap'] = umap3[:,0]\n",
    "df_tsne_pr['y-umap'] = umap3[:,1]\n",
    "df_tsne_pr['Perturbation'] = obs_meta_pd['perturbation']\n",
    "df_tsne_pr['Cluster'] = obs_meta_pd['Cluster']\n",
    "df_tsne_pr['Group'] = obs_meta_pd['Group']\n",
    "\n",
    "\n",
    "\n",
    "chart_pr = ggplot(df_tsne_pr, aes(x= 'x-umap', y= 'y-umap', colour = 'Group') ) \\\n",
    "+ geom_point(size=0.5, alpha = 0.5) \\\n",
    "+ ggtitle(\"UMAP dimensions\")\n",
    "figure_name_pr = \"UMAP_ZLmean_Group.png\"\n",
    "figure_path_pr = \"./GI_scVI/output/\" + figure_name_pr\n",
    "chart_pr.save(figure_path_pr, width=12, height=8, dpi=144)\n",
    "\n",
    "\n",
    "chart_pr = ggplot(df_tsne_pr, aes(x= 'x-umap', y= 'y-umap', colour = 'Cluster') ) \\\n",
    "+ geom_point(size=0.5, alpha = 0.5) \\\n",
    "+ ggtitle(\"UMAP dimensions\")\n",
    "figure_name_pr = \"UMAP_ZLmean_Cluster.png\"\n",
    "figure_path_pr = \"./GI_scVI/output/\" + figure_name_pr\n",
    "chart_pr.save(figure_path_pr, width=12, height=8, dpi=144)\n",
    "\n",
    "\n",
    "chart_pr = ggplot(df_tsne_pr, aes(x= 'x-umap', y= 'y-umap', colour = 'Perturbation') ) \\\n",
    "+ geom_point(size=0.5, alpha = 0.5) \\\n",
    "+ ggtitle(\"UMAP dimensions\")\n",
    "figure_name_pr = \"UMAP_ZLmean_Perturbation.png\"\n",
    "figure_path_pr = \"./GI_scVI/output/\" + figure_name_pr\n",
    "chart_pr.save(figure_path_pr, width=12, height=8, dpi=144)\n",
    "\n"
   ]
  },
  {
   "cell_type": "markdown",
   "metadata": {},
   "source": [
    "## 2.0 1000 epochs trained on only cells with perturbation information\n"
   ]
  },
  {
   "cell_type": "code",
   "execution_count": 109,
   "metadata": {},
   "outputs": [],
   "source": [
    "posteriorZmeanK = np.load('../../20201118/scVI_GI_k562/output/posteriorZmean.npy')\n",
    "posteriorZsampleK = np.load('../../20201118/scVI_GI_k562/output/posteriorZsample.npy')\n",
    "\n",
    "\n",
    "posteriorLmeanK = np.load('../../20201118/scVI_GI_k562/output/posteriorLmean.npy', )\n",
    "posteriorLsampleK = np.load('../../20201118/scVI_GI_k562/output/posteriorLsample.npy')"
   ]
  },
  {
   "cell_type": "code",
   "execution_count": 110,
   "metadata": {},
   "outputs": [],
   "source": [
    "posteriorZLmeanK = np.concatenate([posteriorZmeanK, posteriorLmeanK], axis =1 )\n",
    "posteriorZLsampleK = np.concatenate([posteriorZsampleK, posteriorLsampleK], axis =1 )"
   ]
  },
  {
   "cell_type": "code",
   "execution_count": 111,
   "metadata": {},
   "outputs": [
    {
     "data": {
      "text/plain": [
       "(109738, 11)"
      ]
     },
     "execution_count": 111,
     "metadata": {},
     "output_type": "execute_result"
    }
   ],
   "source": [
    "posteriorZLsampleK.shape"
   ]
  },
  {
   "cell_type": "code",
   "execution_count": 112,
   "metadata": {},
   "outputs": [
    {
     "name": "stderr",
     "output_type": "stream",
     "text": [
      "/home/hengshi/.local/lib/python3.6/site-packages/numba/typed_passes.py:293: NumbaPerformanceWarning: \u001b[1m\n",
      "The keyword argument 'parallel=True' was specified but no transformation for parallel execution was possible.\n",
      "\n",
      "To find out why, try turning on parallel diagnostics, see http://numba.pydata.org/numba-doc/latest/user/parallel.html#diagnostics for help.\n",
      "\u001b[1m\n",
      "File \"../../../../../../../../../home/hengshi/.local/lib/python3.6/site-packages/umap/nndescent.py\", line 47:\u001b[0m\n",
      "\u001b[1m    @numba.njit(parallel=True)\n",
      "\u001b[1m    def nn_descent(\n",
      "\u001b[0m    \u001b[1m^\u001b[0m\u001b[0m\n",
      "\u001b[0m\n",
      "  state.func_ir.loc))\n",
      "/home/hengshi/.local/lib/python3.6/site-packages/numba/typed_passes.py:293: NumbaPerformanceWarning: \u001b[1m\n",
      "The keyword argument 'parallel=True' was specified but no transformation for parallel execution was possible.\n",
      "\n",
      "To find out why, try turning on parallel diagnostics, see http://numba.pydata.org/numba-doc/latest/user/parallel.html#diagnostics for help.\n",
      "\u001b[1m\n",
      "File \"../../../../../../../../../home/hengshi/.local/lib/python3.6/site-packages/umap/nndescent.py\", line 47:\u001b[0m\n",
      "\u001b[1m    @numba.njit(parallel=True)\n",
      "\u001b[1m    def nn_descent(\n",
      "\u001b[0m    \u001b[1m^\u001b[0m\u001b[0m\n",
      "\u001b[0m\n",
      "  state.func_ir.loc))\n",
      "/home/hengshi/.local/lib/python3.6/site-packages/numba/typed_passes.py:293: NumbaPerformanceWarning: \u001b[1m\n",
      "The keyword argument 'parallel=True' was specified but no transformation for parallel execution was possible.\n",
      "\n",
      "To find out why, try turning on parallel diagnostics, see http://numba.pydata.org/numba-doc/latest/user/parallel.html#diagnostics for help.\n",
      "\u001b[1m\n",
      "File \"../../../../../../../../../home/hengshi/.local/lib/python3.6/site-packages/umap/nndescent.py\", line 47:\u001b[0m\n",
      "\u001b[1m    @numba.njit(parallel=True)\n",
      "\u001b[1m    def nn_descent(\n",
      "\u001b[0m    \u001b[1m^\u001b[0m\u001b[0m\n",
      "\u001b[0m\n",
      "  state.func_ir.loc))\n",
      "/home/hengshi/.local/lib/python3.6/site-packages/numba/typed_passes.py:293: NumbaPerformanceWarning: \u001b[1m\n",
      "The keyword argument 'parallel=True' was specified but no transformation for parallel execution was possible.\n",
      "\n",
      "To find out why, try turning on parallel diagnostics, see http://numba.pydata.org/numba-doc/latest/user/parallel.html#diagnostics for help.\n",
      "\u001b[1m\n",
      "File \"../../../../../../../../../home/hengshi/.local/lib/python3.6/site-packages/umap/nndescent.py\", line 47:\u001b[0m\n",
      "\u001b[1m    @numba.njit(parallel=True)\n",
      "\u001b[1m    def nn_descent(\n",
      "\u001b[0m    \u001b[1m^\u001b[0m\u001b[0m\n",
      "\u001b[0m\n",
      "  state.func_ir.loc))\n"
     ]
    }
   ],
   "source": [
    "umap1 = umap.UMAP(random_state=42, min_dist = 0.5, n_neighbors=30).fit_transform(posteriorZmeanK)\n",
    "umap2 = umap.UMAP(random_state=42, min_dist = 0.5, n_neighbors=30).fit_transform(posteriorZsampleK)\n",
    "\n",
    "umap3 = umap.UMAP(random_state=42, min_dist = 0.5, n_neighbors=30).fit_transform(posteriorZLmeanK)\n",
    "umap4 = umap.UMAP(random_state=42, min_dist = 0.5, n_neighbors=30).fit_transform(posteriorZLsampleK)"
   ]
  },
  {
   "cell_type": "code",
   "execution_count": 113,
   "metadata": {},
   "outputs": [
    {
     "name": "stderr",
     "output_type": "stream",
     "text": [
      "/home/hengshi/.local/lib/python3.6/site-packages/plotnine/ggplot.py:706: UserWarning: Saving 12 x 8 in image.\n",
      "  from_inches(height, units), units))\n",
      "/home/hengshi/.local/lib/python3.6/site-packages/plotnine/ggplot.py:707: UserWarning: Filename: ../../20201118/scVI_GI_k562/output/UMAP_Zmean_Group.png\n",
      "  warn('Filename: {}'.format(filename))\n",
      "/home/hengshi/.local/lib/python3.6/site-packages/plotnine/scales/scale.py:93: MatplotlibDeprecationWarning: \n",
      "The iterable function was deprecated in Matplotlib 3.1 and will be removed in 3.3. Use np.iterable instead.\n",
      "  if cbook.iterable(self.breaks) and cbook.iterable(self.labels):\n",
      "/home/hengshi/.local/lib/python3.6/site-packages/plotnine/utils.py:553: MatplotlibDeprecationWarning: \n",
      "The iterable function was deprecated in Matplotlib 3.1 and will be removed in 3.3. Use np.iterable instead.\n",
      "  return cbook.iterable(var) and not is_string(var)\n",
      "/home/hengshi/.local/lib/python3.6/site-packages/plotnine/ggplot.py:722: MatplotlibDeprecationWarning: \n",
      "The frameon kwarg was deprecated in Matplotlib 3.1 and will be removed in 3.3. Use facecolor instead.\n",
      "  fig.savefig(filename, **fig_kwargs)\n",
      "/home/hengshi/.local/lib/python3.6/site-packages/plotnine/ggplot.py:706: UserWarning: Saving 12 x 8 in image.\n",
      "  from_inches(height, units), units))\n",
      "/home/hengshi/.local/lib/python3.6/site-packages/plotnine/ggplot.py:707: UserWarning: Filename: ../../20201118/scVI_GI_k562/output/UMAP_Zmean_Cluster.png\n",
      "  warn('Filename: {}'.format(filename))\n",
      "/home/hengshi/.local/lib/python3.6/site-packages/plotnine/scales/scale.py:93: MatplotlibDeprecationWarning: \n",
      "The iterable function was deprecated in Matplotlib 3.1 and will be removed in 3.3. Use np.iterable instead.\n",
      "  if cbook.iterable(self.breaks) and cbook.iterable(self.labels):\n",
      "/home/hengshi/.local/lib/python3.6/site-packages/plotnine/utils.py:553: MatplotlibDeprecationWarning: \n",
      "The iterable function was deprecated in Matplotlib 3.1 and will be removed in 3.3. Use np.iterable instead.\n",
      "  return cbook.iterable(var) and not is_string(var)\n",
      "/home/hengshi/.local/lib/python3.6/site-packages/plotnine/ggplot.py:722: MatplotlibDeprecationWarning: \n",
      "The frameon kwarg was deprecated in Matplotlib 3.1 and will be removed in 3.3. Use facecolor instead.\n",
      "  fig.savefig(filename, **fig_kwargs)\n",
      "/home/hengshi/.local/lib/python3.6/site-packages/plotnine/ggplot.py:706: UserWarning: Saving 12 x 8 in image.\n",
      "  from_inches(height, units), units))\n",
      "/home/hengshi/.local/lib/python3.6/site-packages/plotnine/ggplot.py:707: UserWarning: Filename: ../../20201118/scVI_GI_k562/output/UMAP_Zmean_Perturbation.png\n",
      "  warn('Filename: {}'.format(filename))\n",
      "/home/hengshi/.local/lib/python3.6/site-packages/plotnine/scales/scale.py:93: MatplotlibDeprecationWarning: \n",
      "The iterable function was deprecated in Matplotlib 3.1 and will be removed in 3.3. Use np.iterable instead.\n",
      "  if cbook.iterable(self.breaks) and cbook.iterable(self.labels):\n",
      "/home/hengshi/.local/lib/python3.6/site-packages/plotnine/utils.py:553: MatplotlibDeprecationWarning: \n",
      "The iterable function was deprecated in Matplotlib 3.1 and will be removed in 3.3. Use np.iterable instead.\n",
      "  return cbook.iterable(var) and not is_string(var)\n",
      "/home/hengshi/.local/lib/python3.6/site-packages/plotnine/ggplot.py:722: MatplotlibDeprecationWarning: \n",
      "The frameon kwarg was deprecated in Matplotlib 3.1 and will be removed in 3.3. Use facecolor instead.\n",
      "  fig.savefig(filename, **fig_kwargs)\n"
     ]
    }
   ],
   "source": [
    "df_tsne_pr = pd.DataFrame(umap1.copy())\n",
    "df_tsne_pr['x-umap'] = umap1[:,0]\n",
    "df_tsne_pr['y-umap'] = umap1[:,1]\n",
    "df_tsne_pr['Perturbation'] = obs_meta_pd['perturbation']\n",
    "df_tsne_pr['Cluster'] = obs_meta_pd['Cluster']\n",
    "df_tsne_pr['Group'] = obs_meta_pd['Group']\n",
    "\n",
    "\n",
    "\n",
    "chart_pr = ggplot(df_tsne_pr, aes(x= 'x-umap', y= 'y-umap', colour = 'Group') ) \\\n",
    "+ geom_point(size=0.5, alpha = 0.5) \\\n",
    "+ ggtitle(\"UMAP dimensions\")\n",
    "figure_name_pr = \"UMAP_Zmean_Group.png\"\n",
    "figure_path_pr = \"../../20201118/scVI_GI_k562/output/\" + figure_name_pr\n",
    "chart_pr.save(figure_path_pr, width=12, height=8, dpi=144)\n",
    "\n",
    "\n",
    "chart_pr = ggplot(df_tsne_pr, aes(x= 'x-umap', y= 'y-umap', colour = 'Cluster') ) \\\n",
    "+ geom_point(size=0.5, alpha = 0.5) \\\n",
    "+ ggtitle(\"UMAP dimensions\")\n",
    "figure_name_pr = \"UMAP_Zmean_Cluster.png\"\n",
    "figure_path_pr = \"../../20201118/scVI_GI_k562/output/\" + figure_name_pr\n",
    "chart_pr.save(figure_path_pr, width=12, height=8, dpi=144)\n",
    "\n",
    "\n",
    "chart_pr = ggplot(df_tsne_pr, aes(x= 'x-umap', y= 'y-umap', colour = 'Perturbation') ) \\\n",
    "+ geom_point(size=0.5, alpha = 0.5) \\\n",
    "+ ggtitle(\"UMAP dimensions\")\n",
    "figure_name_pr = \"UMAP_Zmean_Perturbation.png\"\n",
    "figure_path_pr = \"../../20201118/scVI_GI_k562/output/\" + figure_name_pr\n",
    "chart_pr.save(figure_path_pr, width=12, height=8, dpi=144)\n",
    "\n"
   ]
  },
  {
   "cell_type": "code",
   "execution_count": 114,
   "metadata": {},
   "outputs": [
    {
     "name": "stderr",
     "output_type": "stream",
     "text": [
      "/home/hengshi/.local/lib/python3.6/site-packages/plotnine/ggplot.py:706: UserWarning: Saving 12 x 8 in image.\n",
      "  from_inches(height, units), units))\n",
      "/home/hengshi/.local/lib/python3.6/site-packages/plotnine/ggplot.py:707: UserWarning: Filename: ../../20201118/scVI_GI_k562/output/UMAP_Zsample_Group.png\n",
      "  warn('Filename: {}'.format(filename))\n",
      "/home/hengshi/.local/lib/python3.6/site-packages/plotnine/scales/scale.py:93: MatplotlibDeprecationWarning: \n",
      "The iterable function was deprecated in Matplotlib 3.1 and will be removed in 3.3. Use np.iterable instead.\n",
      "  if cbook.iterable(self.breaks) and cbook.iterable(self.labels):\n",
      "/home/hengshi/.local/lib/python3.6/site-packages/plotnine/utils.py:553: MatplotlibDeprecationWarning: \n",
      "The iterable function was deprecated in Matplotlib 3.1 and will be removed in 3.3. Use np.iterable instead.\n",
      "  return cbook.iterable(var) and not is_string(var)\n",
      "/home/hengshi/.local/lib/python3.6/site-packages/plotnine/ggplot.py:722: MatplotlibDeprecationWarning: \n",
      "The frameon kwarg was deprecated in Matplotlib 3.1 and will be removed in 3.3. Use facecolor instead.\n",
      "  fig.savefig(filename, **fig_kwargs)\n",
      "/home/hengshi/.local/lib/python3.6/site-packages/plotnine/ggplot.py:706: UserWarning: Saving 12 x 8 in image.\n",
      "  from_inches(height, units), units))\n",
      "/home/hengshi/.local/lib/python3.6/site-packages/plotnine/ggplot.py:707: UserWarning: Filename: ../../20201118/scVI_GI_k562/output/UMAP_Zsample_Cluster.png\n",
      "  warn('Filename: {}'.format(filename))\n",
      "/home/hengshi/.local/lib/python3.6/site-packages/plotnine/scales/scale.py:93: MatplotlibDeprecationWarning: \n",
      "The iterable function was deprecated in Matplotlib 3.1 and will be removed in 3.3. Use np.iterable instead.\n",
      "  if cbook.iterable(self.breaks) and cbook.iterable(self.labels):\n",
      "/home/hengshi/.local/lib/python3.6/site-packages/plotnine/utils.py:553: MatplotlibDeprecationWarning: \n",
      "The iterable function was deprecated in Matplotlib 3.1 and will be removed in 3.3. Use np.iterable instead.\n",
      "  return cbook.iterable(var) and not is_string(var)\n",
      "/home/hengshi/.local/lib/python3.6/site-packages/plotnine/ggplot.py:722: MatplotlibDeprecationWarning: \n",
      "The frameon kwarg was deprecated in Matplotlib 3.1 and will be removed in 3.3. Use facecolor instead.\n",
      "  fig.savefig(filename, **fig_kwargs)\n",
      "/home/hengshi/.local/lib/python3.6/site-packages/plotnine/ggplot.py:706: UserWarning: Saving 12 x 8 in image.\n",
      "  from_inches(height, units), units))\n",
      "/home/hengshi/.local/lib/python3.6/site-packages/plotnine/ggplot.py:707: UserWarning: Filename: ../../20201118/scVI_GI_k562/output/UMAP_Zsample_Perturbation.png\n",
      "  warn('Filename: {}'.format(filename))\n",
      "/home/hengshi/.local/lib/python3.6/site-packages/plotnine/scales/scale.py:93: MatplotlibDeprecationWarning: \n",
      "The iterable function was deprecated in Matplotlib 3.1 and will be removed in 3.3. Use np.iterable instead.\n",
      "  if cbook.iterable(self.breaks) and cbook.iterable(self.labels):\n",
      "/home/hengshi/.local/lib/python3.6/site-packages/plotnine/utils.py:553: MatplotlibDeprecationWarning: \n",
      "The iterable function was deprecated in Matplotlib 3.1 and will be removed in 3.3. Use np.iterable instead.\n",
      "  return cbook.iterable(var) and not is_string(var)\n",
      "/home/hengshi/.local/lib/python3.6/site-packages/plotnine/ggplot.py:722: MatplotlibDeprecationWarning: \n",
      "The frameon kwarg was deprecated in Matplotlib 3.1 and will be removed in 3.3. Use facecolor instead.\n",
      "  fig.savefig(filename, **fig_kwargs)\n"
     ]
    }
   ],
   "source": [
    "df_tsne_pr = pd.DataFrame(umap2.copy())\n",
    "df_tsne_pr['x-umap'] = umap2[:,0]\n",
    "df_tsne_pr['y-umap'] = umap2[:,1]\n",
    "df_tsne_pr['Perturbation'] = obs_meta_pd['perturbation']\n",
    "df_tsne_pr['Cluster'] = obs_meta_pd['Cluster']\n",
    "df_tsne_pr['Group'] = obs_meta_pd['Group']\n",
    "\n",
    "\n",
    "\n",
    "chart_pr = ggplot(df_tsne_pr, aes(x= 'x-umap', y= 'y-umap', colour = 'Group') ) \\\n",
    "+ geom_point(size=0.5, alpha = 0.5) \\\n",
    "+ ggtitle(\"UMAP dimensions\")\n",
    "figure_name_pr = \"UMAP_Zsample_Group.png\"\n",
    "figure_path_pr = \"../../20201118/scVI_GI_k562/output/\" + figure_name_pr\n",
    "chart_pr.save(figure_path_pr, width=12, height=8, dpi=144)\n",
    "\n",
    "\n",
    "chart_pr = ggplot(df_tsne_pr, aes(x= 'x-umap', y= 'y-umap', colour = 'Cluster') ) \\\n",
    "+ geom_point(size=0.5, alpha = 0.5) \\\n",
    "+ ggtitle(\"UMAP dimensions\")\n",
    "figure_name_pr = \"UMAP_Zsample_Cluster.png\"\n",
    "figure_path_pr = \"../../20201118/scVI_GI_k562/output/\" + figure_name_pr\n",
    "chart_pr.save(figure_path_pr, width=12, height=8, dpi=144)\n",
    "\n",
    "\n",
    "chart_pr = ggplot(df_tsne_pr, aes(x= 'x-umap', y= 'y-umap', colour = 'Perturbation') ) \\\n",
    "+ geom_point(size=0.5, alpha = 0.5) \\\n",
    "+ ggtitle(\"UMAP dimensions\")\n",
    "figure_name_pr = \"UMAP_Zsample_Perturbation.png\"\n",
    "figure_path_pr = \"../../20201118/scVI_GI_k562/output/\" + figure_name_pr\n",
    "chart_pr.save(figure_path_pr, width=12, height=8, dpi=144)\n"
   ]
  },
  {
   "cell_type": "code",
   "execution_count": 115,
   "metadata": {},
   "outputs": [
    {
     "name": "stderr",
     "output_type": "stream",
     "text": [
      "/home/hengshi/.local/lib/python3.6/site-packages/plotnine/ggplot.py:706: UserWarning: Saving 12 x 8 in image.\n",
      "  from_inches(height, units), units))\n",
      "/home/hengshi/.local/lib/python3.6/site-packages/plotnine/ggplot.py:707: UserWarning: Filename: ../../20201118/scVI_GI_k562/output/UMAP_ZLmean_Group.png\n",
      "  warn('Filename: {}'.format(filename))\n",
      "/home/hengshi/.local/lib/python3.6/site-packages/plotnine/scales/scale.py:93: MatplotlibDeprecationWarning: \n",
      "The iterable function was deprecated in Matplotlib 3.1 and will be removed in 3.3. Use np.iterable instead.\n",
      "  if cbook.iterable(self.breaks) and cbook.iterable(self.labels):\n",
      "/home/hengshi/.local/lib/python3.6/site-packages/plotnine/utils.py:553: MatplotlibDeprecationWarning: \n",
      "The iterable function was deprecated in Matplotlib 3.1 and will be removed in 3.3. Use np.iterable instead.\n",
      "  return cbook.iterable(var) and not is_string(var)\n",
      "/home/hengshi/.local/lib/python3.6/site-packages/plotnine/ggplot.py:722: MatplotlibDeprecationWarning: \n",
      "The frameon kwarg was deprecated in Matplotlib 3.1 and will be removed in 3.3. Use facecolor instead.\n",
      "  fig.savefig(filename, **fig_kwargs)\n",
      "/home/hengshi/.local/lib/python3.6/site-packages/plotnine/ggplot.py:706: UserWarning: Saving 12 x 8 in image.\n",
      "  from_inches(height, units), units))\n",
      "/home/hengshi/.local/lib/python3.6/site-packages/plotnine/ggplot.py:707: UserWarning: Filename: ../../20201118/scVI_GI_k562/output/UMAP_ZLmean_Cluster.png\n",
      "  warn('Filename: {}'.format(filename))\n",
      "/home/hengshi/.local/lib/python3.6/site-packages/plotnine/scales/scale.py:93: MatplotlibDeprecationWarning: \n",
      "The iterable function was deprecated in Matplotlib 3.1 and will be removed in 3.3. Use np.iterable instead.\n",
      "  if cbook.iterable(self.breaks) and cbook.iterable(self.labels):\n",
      "/home/hengshi/.local/lib/python3.6/site-packages/plotnine/utils.py:553: MatplotlibDeprecationWarning: \n",
      "The iterable function was deprecated in Matplotlib 3.1 and will be removed in 3.3. Use np.iterable instead.\n",
      "  return cbook.iterable(var) and not is_string(var)\n",
      "/home/hengshi/.local/lib/python3.6/site-packages/plotnine/ggplot.py:722: MatplotlibDeprecationWarning: \n",
      "The frameon kwarg was deprecated in Matplotlib 3.1 and will be removed in 3.3. Use facecolor instead.\n",
      "  fig.savefig(filename, **fig_kwargs)\n",
      "/home/hengshi/.local/lib/python3.6/site-packages/plotnine/ggplot.py:706: UserWarning: Saving 12 x 8 in image.\n",
      "  from_inches(height, units), units))\n",
      "/home/hengshi/.local/lib/python3.6/site-packages/plotnine/ggplot.py:707: UserWarning: Filename: ../../20201118/scVI_GI_k562/output/UMAP_ZLmean_Perturbation.png\n",
      "  warn('Filename: {}'.format(filename))\n",
      "/home/hengshi/.local/lib/python3.6/site-packages/plotnine/scales/scale.py:93: MatplotlibDeprecationWarning: \n",
      "The iterable function was deprecated in Matplotlib 3.1 and will be removed in 3.3. Use np.iterable instead.\n",
      "  if cbook.iterable(self.breaks) and cbook.iterable(self.labels):\n",
      "/home/hengshi/.local/lib/python3.6/site-packages/plotnine/utils.py:553: MatplotlibDeprecationWarning: \n",
      "The iterable function was deprecated in Matplotlib 3.1 and will be removed in 3.3. Use np.iterable instead.\n",
      "  return cbook.iterable(var) and not is_string(var)\n",
      "/home/hengshi/.local/lib/python3.6/site-packages/plotnine/ggplot.py:722: MatplotlibDeprecationWarning: \n",
      "The frameon kwarg was deprecated in Matplotlib 3.1 and will be removed in 3.3. Use facecolor instead.\n",
      "  fig.savefig(filename, **fig_kwargs)\n"
     ]
    }
   ],
   "source": [
    "df_tsne_pr = pd.DataFrame(umap3.copy())\n",
    "df_tsne_pr['x-umap'] = umap3[:,0]\n",
    "df_tsne_pr['y-umap'] = umap3[:,1]\n",
    "df_tsne_pr['Perturbation'] = obs_meta_pd['perturbation']\n",
    "df_tsne_pr['Cluster'] = obs_meta_pd['Cluster']\n",
    "df_tsne_pr['Group'] = obs_meta_pd['Group']\n",
    "\n",
    "\n",
    "\n",
    "chart_pr = ggplot(df_tsne_pr, aes(x= 'x-umap', y= 'y-umap', colour = 'Group') ) \\\n",
    "+ geom_point(size=0.5, alpha = 0.5) \\\n",
    "+ ggtitle(\"UMAP dimensions\")\n",
    "figure_name_pr = \"UMAP_ZLmean_Group.png\"\n",
    "figure_path_pr = \"../../20201118/scVI_GI_k562/output/\" + figure_name_pr\n",
    "chart_pr.save(figure_path_pr, width=12, height=8, dpi=144)\n",
    "\n",
    "\n",
    "chart_pr = ggplot(df_tsne_pr, aes(x= 'x-umap', y= 'y-umap', colour = 'Cluster') ) \\\n",
    "+ geom_point(size=0.5, alpha = 0.5) \\\n",
    "+ ggtitle(\"UMAP dimensions\")\n",
    "figure_name_pr = \"UMAP_ZLmean_Cluster.png\"\n",
    "figure_path_pr = \"../../20201118/scVI_GI_k562/output/\" + figure_name_pr\n",
    "chart_pr.save(figure_path_pr, width=12, height=8, dpi=144)\n",
    "\n",
    "\n",
    "chart_pr = ggplot(df_tsne_pr, aes(x= 'x-umap', y= 'y-umap', colour = 'Perturbation') ) \\\n",
    "+ geom_point(size=0.5, alpha = 0.5) \\\n",
    "+ ggtitle(\"UMAP dimensions\")\n",
    "figure_name_pr = \"UMAP_ZLmean_Perturbation.png\"\n",
    "figure_path_pr = \"../../20201118/scVI_GI_k562/output/\" + figure_name_pr\n",
    "chart_pr.save(figure_path_pr, width=12, height=8, dpi=144)\n"
   ]
  },
  {
   "cell_type": "code",
   "execution_count": 119,
   "metadata": {},
   "outputs": [
    {
     "data": {
      "text/plain": [
       "2504"
      ]
     },
     "execution_count": 119,
     "metadata": {},
     "output_type": "execute_result"
    }
   ],
   "source": [
    "(df_tsne_pr['Perturbation'] == 'ctrl/ctrl').sum()"
   ]
  },
  {
   "cell_type": "code",
   "execution_count": 120,
   "metadata": {},
   "outputs": [
    {
     "data": {
      "text/plain": [
       "2922"
      ]
     },
     "execution_count": 120,
     "metadata": {},
     "output_type": "execute_result"
    }
   ],
   "source": [
    "(df_tsne_pr['Perturbation'] == 'ctrl1/ctrl').sum()"
   ]
  },
  {
   "cell_type": "code",
   "execution_count": 121,
   "metadata": {},
   "outputs": [
    {
     "data": {
      "text/plain": [
       "0"
      ]
     },
     "execution_count": 121,
     "metadata": {},
     "output_type": "execute_result"
    }
   ],
   "source": [
    "(df_tsne_pr['Perturbation'] == 'ctrl0/ctrl').sum()"
   ]
  },
  {
   "cell_type": "code",
   "execution_count": 122,
   "metadata": {},
   "outputs": [
    {
     "data": {
      "text/plain": [
       "2806"
      ]
     },
     "execution_count": 122,
     "metadata": {},
     "output_type": "execute_result"
    }
   ],
   "source": [
    "(df_tsne_pr['Perturbation'] == 'ctrl11/ctrl').sum()"
   ]
  },
  {
   "cell_type": "code",
   "execution_count": 123,
   "metadata": {},
   "outputs": [
    {
     "data": {
      "text/plain": [
       "(109738, 7)"
      ]
     },
     "execution_count": 123,
     "metadata": {},
     "output_type": "execute_result"
    }
   ],
   "source": [
    "df_tsne_pr.shape"
   ]
  },
  {
   "cell_type": "code",
   "execution_count": 116,
   "metadata": {},
   "outputs": [
    {
     "name": "stderr",
     "output_type": "stream",
     "text": [
      "/home/hengshi/.local/lib/python3.6/site-packages/plotnine/ggplot.py:706: UserWarning: Saving 12 x 8 in image.\n",
      "  from_inches(height, units), units))\n",
      "/home/hengshi/.local/lib/python3.6/site-packages/plotnine/ggplot.py:707: UserWarning: Filename: ../../20201118/scVI_GI_k562/output/UMAP_ZLsample_Group.png\n",
      "  warn('Filename: {}'.format(filename))\n",
      "/home/hengshi/.local/lib/python3.6/site-packages/plotnine/scales/scale.py:93: MatplotlibDeprecationWarning: \n",
      "The iterable function was deprecated in Matplotlib 3.1 and will be removed in 3.3. Use np.iterable instead.\n",
      "  if cbook.iterable(self.breaks) and cbook.iterable(self.labels):\n",
      "/home/hengshi/.local/lib/python3.6/site-packages/plotnine/utils.py:553: MatplotlibDeprecationWarning: \n",
      "The iterable function was deprecated in Matplotlib 3.1 and will be removed in 3.3. Use np.iterable instead.\n",
      "  return cbook.iterable(var) and not is_string(var)\n",
      "/home/hengshi/.local/lib/python3.6/site-packages/plotnine/ggplot.py:722: MatplotlibDeprecationWarning: \n",
      "The frameon kwarg was deprecated in Matplotlib 3.1 and will be removed in 3.3. Use facecolor instead.\n",
      "  fig.savefig(filename, **fig_kwargs)\n",
      "/home/hengshi/.local/lib/python3.6/site-packages/plotnine/ggplot.py:706: UserWarning: Saving 12 x 8 in image.\n",
      "  from_inches(height, units), units))\n",
      "/home/hengshi/.local/lib/python3.6/site-packages/plotnine/ggplot.py:707: UserWarning: Filename: ../../20201118/scVI_GI_k562/output/UMAP_ZLsample_Cluster.png\n",
      "  warn('Filename: {}'.format(filename))\n",
      "/home/hengshi/.local/lib/python3.6/site-packages/plotnine/scales/scale.py:93: MatplotlibDeprecationWarning: \n",
      "The iterable function was deprecated in Matplotlib 3.1 and will be removed in 3.3. Use np.iterable instead.\n",
      "  if cbook.iterable(self.breaks) and cbook.iterable(self.labels):\n",
      "/home/hengshi/.local/lib/python3.6/site-packages/plotnine/utils.py:553: MatplotlibDeprecationWarning: \n",
      "The iterable function was deprecated in Matplotlib 3.1 and will be removed in 3.3. Use np.iterable instead.\n",
      "  return cbook.iterable(var) and not is_string(var)\n",
      "/home/hengshi/.local/lib/python3.6/site-packages/plotnine/ggplot.py:722: MatplotlibDeprecationWarning: \n",
      "The frameon kwarg was deprecated in Matplotlib 3.1 and will be removed in 3.3. Use facecolor instead.\n",
      "  fig.savefig(filename, **fig_kwargs)\n",
      "/home/hengshi/.local/lib/python3.6/site-packages/plotnine/ggplot.py:706: UserWarning: Saving 12 x 8 in image.\n",
      "  from_inches(height, units), units))\n",
      "/home/hengshi/.local/lib/python3.6/site-packages/plotnine/ggplot.py:707: UserWarning: Filename: ../../20201118/scVI_GI_k562/output/UMAP_ZLsample_Perturbation.png\n",
      "  warn('Filename: {}'.format(filename))\n",
      "/home/hengshi/.local/lib/python3.6/site-packages/plotnine/scales/scale.py:93: MatplotlibDeprecationWarning: \n",
      "The iterable function was deprecated in Matplotlib 3.1 and will be removed in 3.3. Use np.iterable instead.\n",
      "  if cbook.iterable(self.breaks) and cbook.iterable(self.labels):\n",
      "/home/hengshi/.local/lib/python3.6/site-packages/plotnine/utils.py:553: MatplotlibDeprecationWarning: \n",
      "The iterable function was deprecated in Matplotlib 3.1 and will be removed in 3.3. Use np.iterable instead.\n",
      "  return cbook.iterable(var) and not is_string(var)\n",
      "/home/hengshi/.local/lib/python3.6/site-packages/plotnine/ggplot.py:722: MatplotlibDeprecationWarning: \n",
      "The frameon kwarg was deprecated in Matplotlib 3.1 and will be removed in 3.3. Use facecolor instead.\n",
      "  fig.savefig(filename, **fig_kwargs)\n"
     ]
    }
   ],
   "source": [
    "df_tsne_pr = pd.DataFrame(umap4.copy())\n",
    "df_tsne_pr['x-umap'] = umap4[:,0]\n",
    "df_tsne_pr['y-umap'] = umap4[:,1]\n",
    "df_tsne_pr['Perturbation'] = obs_meta_pd['perturbation']\n",
    "df_tsne_pr['Cluster'] = obs_meta_pd['Cluster']\n",
    "df_tsne_pr['Group'] = obs_meta_pd['Group']\n",
    "\n",
    "\n",
    "\n",
    "chart_pr = ggplot(df_tsne_pr, aes(x= 'x-umap', y= 'y-umap', colour = 'Group') ) \\\n",
    "+ geom_point(size=0.5, alpha = 0.5) \\\n",
    "+ ggtitle(\"UMAP dimensions\")\n",
    "figure_name_pr = \"UMAP_ZLsample_Group.png\"\n",
    "figure_path_pr = \"../../20201118/scVI_GI_k562/output/\" + figure_name_pr\n",
    "chart_pr.save(figure_path_pr, width=12, height=8, dpi=144)\n",
    "\n",
    "\n",
    "chart_pr = ggplot(df_tsne_pr, aes(x= 'x-umap', y= 'y-umap', colour = 'Cluster') ) \\\n",
    "+ geom_point(size=0.5, alpha = 0.5) \\\n",
    "+ ggtitle(\"UMAP dimensions\")\n",
    "figure_name_pr = \"UMAP_ZLsample_Cluster.png\"\n",
    "figure_path_pr = \"../../20201118/scVI_GI_k562/output/\" + figure_name_pr\n",
    "chart_pr.save(figure_path_pr, width=12, height=8, dpi=144)\n",
    "\n",
    "\n",
    "chart_pr = ggplot(df_tsne_pr, aes(x= 'x-umap', y= 'y-umap', colour = 'Perturbation') ) \\\n",
    "+ geom_point(size=0.5, alpha = 0.5) \\\n",
    "+ ggtitle(\"UMAP dimensions\")\n",
    "figure_name_pr = \"UMAP_ZLsample_Perturbation.png\"\n",
    "figure_path_pr = \"../../20201118/scVI_GI_k562/output/\" + figure_name_pr\n",
    "chart_pr.save(figure_path_pr, width=12, height=8, dpi=144)\n"
   ]
  },
  {
   "cell_type": "code",
   "execution_count": 1,
   "metadata": {},
   "outputs": [
    {
     "data": {
      "text/plain": [
       "'/nfs/turbo/umms-welchjd/hengshi/perturb_gan/data/GI'"
      ]
     },
     "execution_count": 1,
     "metadata": {},
     "output_type": "execute_result"
    }
   ],
   "source": [
    "pwd"
   ]
  },
  {
   "cell_type": "code",
   "execution_count": null,
   "metadata": {},
   "outputs": [],
   "source": []
  }
 ],
 "metadata": {
  "kernelspec": {
   "display_name": "Python 3",
   "language": "python",
   "name": "python3"
  },
  "language_info": {
   "codemirror_mode": {
    "name": "ipython",
    "version": 3
   },
   "file_extension": ".py",
   "mimetype": "text/x-python",
   "name": "python",
   "nbconvert_exporter": "python",
   "pygments_lexer": "ipython3",
   "version": "3.8.3"
  }
 },
 "nbformat": 4,
 "nbformat_minor": 4
}
