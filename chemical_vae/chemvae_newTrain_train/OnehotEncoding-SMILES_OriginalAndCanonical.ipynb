{
 "cells": [
  {
   "cell_type": "code",
   "execution_count": 1,
   "metadata": {},
   "outputs": [
    {
     "name": "stderr",
     "output_type": "stream",
     "text": [
      "/home/hengshi/.local/lib/python3.6/site-packages/tensorflow/python/framework/dtypes.py:516: FutureWarning: Passing (type, 1) or '1type' as a synonym of type is deprecated; in a future version of numpy, it will be understood as (type, (1,)) / '(1,)type'.\n",
      "  _np_qint8 = np.dtype([(\"qint8\", np.int8, 1)])\n",
      "/home/hengshi/.local/lib/python3.6/site-packages/tensorflow/python/framework/dtypes.py:517: FutureWarning: Passing (type, 1) or '1type' as a synonym of type is deprecated; in a future version of numpy, it will be understood as (type, (1,)) / '(1,)type'.\n",
      "  _np_quint8 = np.dtype([(\"quint8\", np.uint8, 1)])\n",
      "/home/hengshi/.local/lib/python3.6/site-packages/tensorflow/python/framework/dtypes.py:518: FutureWarning: Passing (type, 1) or '1type' as a synonym of type is deprecated; in a future version of numpy, it will be understood as (type, (1,)) / '(1,)type'.\n",
      "  _np_qint16 = np.dtype([(\"qint16\", np.int16, 1)])\n",
      "/home/hengshi/.local/lib/python3.6/site-packages/tensorflow/python/framework/dtypes.py:519: FutureWarning: Passing (type, 1) or '1type' as a synonym of type is deprecated; in a future version of numpy, it will be understood as (type, (1,)) / '(1,)type'.\n",
      "  _np_quint16 = np.dtype([(\"quint16\", np.uint16, 1)])\n",
      "/home/hengshi/.local/lib/python3.6/site-packages/tensorflow/python/framework/dtypes.py:520: FutureWarning: Passing (type, 1) or '1type' as a synonym of type is deprecated; in a future version of numpy, it will be understood as (type, (1,)) / '(1,)type'.\n",
      "  _np_qint32 = np.dtype([(\"qint32\", np.int32, 1)])\n",
      "/home/hengshi/.local/lib/python3.6/site-packages/tensorflow/python/framework/dtypes.py:525: FutureWarning: Passing (type, 1) or '1type' as a synonym of type is deprecated; in a future version of numpy, it will be understood as (type, (1,)) / '(1,)type'.\n",
      "  np_resource = np.dtype([(\"resource\", np.ubyte, 1)])\n",
      "/home/hengshi/.local/lib/python3.6/site-packages/tensorboard/compat/tensorflow_stub/dtypes.py:541: FutureWarning: Passing (type, 1) or '1type' as a synonym of type is deprecated; in a future version of numpy, it will be understood as (type, (1,)) / '(1,)type'.\n",
      "  _np_qint8 = np.dtype([(\"qint8\", np.int8, 1)])\n",
      "/home/hengshi/.local/lib/python3.6/site-packages/tensorboard/compat/tensorflow_stub/dtypes.py:542: FutureWarning: Passing (type, 1) or '1type' as a synonym of type is deprecated; in a future version of numpy, it will be understood as (type, (1,)) / '(1,)type'.\n",
      "  _np_quint8 = np.dtype([(\"quint8\", np.uint8, 1)])\n",
      "/home/hengshi/.local/lib/python3.6/site-packages/tensorboard/compat/tensorflow_stub/dtypes.py:543: FutureWarning: Passing (type, 1) or '1type' as a synonym of type is deprecated; in a future version of numpy, it will be understood as (type, (1,)) / '(1,)type'.\n",
      "  _np_qint16 = np.dtype([(\"qint16\", np.int16, 1)])\n",
      "/home/hengshi/.local/lib/python3.6/site-packages/tensorboard/compat/tensorflow_stub/dtypes.py:544: FutureWarning: Passing (type, 1) or '1type' as a synonym of type is deprecated; in a future version of numpy, it will be understood as (type, (1,)) / '(1,)type'.\n",
      "  _np_quint16 = np.dtype([(\"quint16\", np.uint16, 1)])\n",
      "/home/hengshi/.local/lib/python3.6/site-packages/tensorboard/compat/tensorflow_stub/dtypes.py:545: FutureWarning: Passing (type, 1) or '1type' as a synonym of type is deprecated; in a future version of numpy, it will be understood as (type, (1,)) / '(1,)type'.\n",
      "  _np_qint32 = np.dtype([(\"qint32\", np.int32, 1)])\n",
      "/home/hengshi/.local/lib/python3.6/site-packages/tensorboard/compat/tensorflow_stub/dtypes.py:550: FutureWarning: Passing (type, 1) or '1type' as a synonym of type is deprecated; in a future version of numpy, it will be understood as (type, (1,)) / '(1,)type'.\n",
      "  np_resource = np.dtype([(\"resource\", np.ubyte, 1)])\n",
      "Using TensorFlow backend.\n"
     ]
    }
   ],
   "source": [
    "import os\n",
    "os.environ['KERAS_BACKEND'] = 'tensorflow'\n",
    "import argparse\n",
    "import numpy as np\n",
    "import tensorflow as tf\n",
    "config = tf.ConfigProto()\n",
    "config.gpu_options.per_process_gpu_memory_fraction = 0.5\n",
    "config.gpu_options.allow_growth = True\n",
    "\n",
    "import yaml\n",
    "import time\n",
    "import os\n",
    "from keras import backend as K\n",
    "from keras.models import Model\n",
    "from keras.optimizers import SGD, Adam, RMSprop\n",
    "import hyperparameters\n",
    "import mol_utils as mu\n",
    "import mol_callbacks as mol_cb\n",
    "from keras.callbacks import CSVLogger\n",
    "from models import encoder_model, load_encoder\n",
    "from models import decoder_model, load_decoder\n",
    "from models import varLayer, load_varLayer\n",
    "from models import property_predictor_model, load_property_predictor\n",
    "from models import variational_layers, varLayer\n",
    "from functools import partial\n",
    "from keras.layers import Lambda"
   ]
  },
  {
   "cell_type": "code",
   "execution_count": 2,
   "metadata": {},
   "outputs": [
    {
     "name": "stdout",
     "output_type": "stream",
     "text": [
      "Using hyper-parameters:\n",
      "name                      - zinc        \n",
      "MAX_LEN                   - 120         \n",
      "data_file                 - 250k_rndm_zinc_drugs_clean_3.csv\n",
      "char_file                 - zinc.json   \n",
      "encoder_weights_file      - zinc_encoder.h5\n",
      "decoder_weights_file      - zinc_decoder.h5\n",
      "varlayer_weights_file     - zinc_varlayer.h5\n",
      "test_idx_file             - test_idx.npy\n",
      "history_file              - history.csv \n",
      "checkpoint_path           - ./          \n",
      "do_prop_pred              - False       \n",
      "TRAIN_MODEL               - True        \n",
      "ENC_DEC_TEST              - False       \n",
      "PADDING                   - right       \n",
      "RAND_SEED                 - 42          \n",
      "epochs                    - 10          \n",
      "vae_annealer_start        - 29          \n",
      "dropout_rate_mid          - 0.08283292970479479\n",
      "anneal_sigmod_slope       - 0.5106654305791392\n",
      "recurrent_dim             - 488         \n",
      "batch_size                - 126         \n",
      "lr                        - 0.00039192162392520126\n",
      "hidden_dim                - 196         \n",
      "tgru_dropout              - 0.19617749608323892\n",
      "hg_growth_factor          - 1.2281884874932403\n",
      "middle_layer              - 1           \n",
      "momentum                  - 0.9717090063868801\n",
      "rest of parameters are set as default\n"
     ]
    }
   ],
   "source": [
    "params = hyperparameters.load_params(\"../models/zinc/exp.json\")"
   ]
  },
  {
   "cell_type": "code",
   "execution_count": 3,
   "metadata": {},
   "outputs": [],
   "source": [
    "MAX_LEN = params['MAX_LEN']\n",
    "\n",
    "CHARS = yaml.safe_load(open(\"../models/zinc/zinc.json\"))\n",
    "params['NCHARS'] = len(CHARS)\n",
    "NCHARS = len(CHARS)\n",
    "CHAR_INDICES = dict((c, i) for i, c in enumerate(CHARS))"
   ]
  },
  {
   "cell_type": "code",
   "execution_count": 4,
   "metadata": {},
   "outputs": [
    {
     "data": {
      "text/plain": [
       "dict_keys(['7', '6', 'o', ']', '3', 's', '(', '-', 'S', '/', 'B', '4', '[', ')', '#', 'I', 'l', 'O', 'H', 'c', '1', '@', '=', 'n', 'P', '8', 'C', '2', 'F', '5', 'r', 'N', '+', '\\\\', ' '])"
      ]
     },
     "execution_count": 4,
     "metadata": {},
     "output_type": "execute_result"
    }
   ],
   "source": [
    "CHAR_INDICES.keys()"
   ]
  },
  {
   "cell_type": "code",
   "execution_count": 5,
   "metadata": {},
   "outputs": [
    {
     "data": {
      "text/plain": [
       "False"
      ]
     },
     "execution_count": 5,
     "metadata": {},
     "output_type": "execute_result"
    }
   ],
   "source": [
    "params['do_prop_pred'] and ('data_file' in params)"
   ]
  },
  {
   "cell_type": "code",
   "execution_count": 6,
   "metadata": {},
   "outputs": [],
   "source": [
    "import os"
   ]
  },
  {
   "cell_type": "code",
   "execution_count": 7,
   "metadata": {},
   "outputs": [],
   "source": [
    "import pandas as pd\n",
    "path_data = '/nfs/turbo/umms-welchjd/hengshi/GAN/data/sciPlex/sciPlex3/'\n",
    "data_188 = pd.read_csv(os.path.join(path_data, 'emb_named_chemvae_canonize.csv'))\n",
    "chem_188 = list(data_188['Structure_Canonize'])"
   ]
  },
  {
   "cell_type": "code",
   "execution_count": 8,
   "metadata": {},
   "outputs": [
    {
     "data": {
      "text/html": [
       "<div>\n",
       "<style scoped>\n",
       "    .dataframe tbody tr th:only-of-type {\n",
       "        vertical-align: middle;\n",
       "    }\n",
       "\n",
       "    .dataframe tbody tr th {\n",
       "        vertical-align: top;\n",
       "    }\n",
       "\n",
       "    .dataframe thead th {\n",
       "        text-align: right;\n",
       "    }\n",
       "</style>\n",
       "<table border=\"1\" class=\"dataframe\">\n",
       "  <thead>\n",
       "    <tr style=\"text-align: right;\">\n",
       "      <th></th>\n",
       "      <th>Unnamed: 0</th>\n",
       "      <th>treatment</th>\n",
       "      <th>Structure</th>\n",
       "      <th>Structure_Canonize</th>\n",
       "    </tr>\n",
       "  </thead>\n",
       "  <tbody>\n",
       "    <tr>\n",
       "      <th>0</th>\n",
       "      <td>0</td>\n",
       "      <td>S1172</td>\n",
       "      <td>C(CC1=C[NH]C2=CC=CC=C12)NC3=CC=C(NC4=CC=NC=C4)...</td>\n",
       "      <td>c1ccc2c(CCNc3ccc(Nc4ccncc4)cc3)c[nH]c2c1</td>\n",
       "    </tr>\n",
       "    <tr>\n",
       "      <th>1</th>\n",
       "      <td>1</td>\n",
       "      <td>S2818</td>\n",
       "      <td>CC(=O)NC1=CC=C(C=C1)C(=O)NC1=C(N)C=CC=C1 |c:6,...</td>\n",
       "      <td>CC(=O)Nc1ccc(C(=O)Nc2ccccc2N)cc1</td>\n",
       "    </tr>\n",
       "    <tr>\n",
       "      <th>2</th>\n",
       "      <td>2</td>\n",
       "      <td>S1140</td>\n",
       "      <td>CC(=O)NC1=CC=C(OCC(C)(O)C(=O)NC2=CC=C(C(=C2)C(...</td>\n",
       "      <td>CC(=O)Nc1ccc(OCC(C)(O)C(=O)Nc2ccc([N+](=O)[O-]...</td>\n",
       "    </tr>\n",
       "    <tr>\n",
       "      <th>3</th>\n",
       "      <td>3</td>\n",
       "      <td>S8502</td>\n",
       "      <td>CC(C)(CNC(=O)C1=CC(=CC=C1)C1=NOC(=N1)C(F)(F)F)...</td>\n",
       "      <td>CC(C)(CNC(=O)c1cccc(-c2noc(C(F)(F)F)n2)c1)c1co...</td>\n",
       "    </tr>\n",
       "    <tr>\n",
       "      <th>4</th>\n",
       "      <td>4</td>\n",
       "      <td>S2003</td>\n",
       "      <td>CC(C)C1=NN=C(C)[N]1C2CC3CCC(C2)N3CCC(NC(=O)C4C...</td>\n",
       "      <td>Cc1nnc(C(C)C)n1C1CC2CCC(C1)N2CCC(NC(=O)C1CCC(F...</td>\n",
       "    </tr>\n",
       "    <tr>\n",
       "      <th>...</th>\n",
       "      <td>...</td>\n",
       "      <td>...</td>\n",
       "      <td>...</td>\n",
       "      <td>...</td>\n",
       "    </tr>\n",
       "    <tr>\n",
       "      <th>183</th>\n",
       "      <td>183</td>\n",
       "      <td>S1703</td>\n",
       "      <td>[Na+].CCCC(CCC)C(O)=O.CCCC(CCC)C([O-])=O</td>\n",
       "      <td>CCCC(CCC)C(=O)O.CCCC(CCC)C(=O)[O-].[Na+]</td>\n",
       "    </tr>\n",
       "    <tr>\n",
       "      <th>184</th>\n",
       "      <td>184</td>\n",
       "      <td>S1168</td>\n",
       "      <td>[Na+].CCCC(CCC)C([O-])=O</td>\n",
       "      <td>CCCC(CCC)C(=O)[O-].[Na+]</td>\n",
       "    </tr>\n",
       "    <tr>\n",
       "      <th>185</th>\n",
       "      <td>185</td>\n",
       "      <td>S1362</td>\n",
       "      <td>[Na+].COC1=CC(=C(\\C=C\\[S](=O)(=O)CC2=CC=C(OC)C...</td>\n",
       "      <td>COc1cc(OC)c(/C=C/S(=O)(=O)Cc2ccc(OC)c(NCC(=O)[...</td>\n",
       "    </tr>\n",
       "    <tr>\n",
       "      <th>186</th>\n",
       "      <td>186</td>\n",
       "      <td>S1735</td>\n",
       "      <td>[Na+].[O-][S](=O)(=O)CCS</td>\n",
       "      <td>O=S(=O)([O-])CCS.[Na+]</td>\n",
       "    </tr>\n",
       "    <tr>\n",
       "      <th>187</th>\n",
       "      <td>187</td>\n",
       "      <td>S4125</td>\n",
       "      <td>[Na]OC(=O)CCCC1=CC=CC=C1 |c:9,11,t:7|</td>\n",
       "      <td>O=C(CCCc1ccccc1)O[Na]</td>\n",
       "    </tr>\n",
       "  </tbody>\n",
       "</table>\n",
       "<p>188 rows × 4 columns</p>\n",
       "</div>"
      ],
      "text/plain": [
       "     Unnamed: 0 treatment                                          Structure  \\\n",
       "0             0     S1172  C(CC1=C[NH]C2=CC=CC=C12)NC3=CC=C(NC4=CC=NC=C4)...   \n",
       "1             1     S2818  CC(=O)NC1=CC=C(C=C1)C(=O)NC1=C(N)C=CC=C1 |c:6,...   \n",
       "2             2     S1140  CC(=O)NC1=CC=C(OCC(C)(O)C(=O)NC2=CC=C(C(=C2)C(...   \n",
       "3             3     S8502  CC(C)(CNC(=O)C1=CC(=CC=C1)C1=NOC(=N1)C(F)(F)F)...   \n",
       "4             4     S2003  CC(C)C1=NN=C(C)[N]1C2CC3CCC(C2)N3CCC(NC(=O)C4C...   \n",
       "..          ...       ...                                                ...   \n",
       "183         183     S1703           [Na+].CCCC(CCC)C(O)=O.CCCC(CCC)C([O-])=O   \n",
       "184         184     S1168                           [Na+].CCCC(CCC)C([O-])=O   \n",
       "185         185     S1362  [Na+].COC1=CC(=C(\\C=C\\[S](=O)(=O)CC2=CC=C(OC)C...   \n",
       "186         186     S1735                           [Na+].[O-][S](=O)(=O)CCS   \n",
       "187         187     S4125              [Na]OC(=O)CCCC1=CC=CC=C1 |c:9,11,t:7|   \n",
       "\n",
       "                                    Structure_Canonize  \n",
       "0             c1ccc2c(CCNc3ccc(Nc4ccncc4)cc3)c[nH]c2c1  \n",
       "1                     CC(=O)Nc1ccc(C(=O)Nc2ccccc2N)cc1  \n",
       "2    CC(=O)Nc1ccc(OCC(C)(O)C(=O)Nc2ccc([N+](=O)[O-]...  \n",
       "3    CC(C)(CNC(=O)c1cccc(-c2noc(C(F)(F)F)n2)c1)c1co...  \n",
       "4    Cc1nnc(C(C)C)n1C1CC2CCC(C1)N2CCC(NC(=O)C1CCC(F...  \n",
       "..                                                 ...  \n",
       "183           CCCC(CCC)C(=O)O.CCCC(CCC)C(=O)[O-].[Na+]  \n",
       "184                           CCCC(CCC)C(=O)[O-].[Na+]  \n",
       "185  COc1cc(OC)c(/C=C/S(=O)(=O)Cc2ccc(OC)c(NCC(=O)[...  \n",
       "186                             O=S(=O)([O-])CCS.[Na+]  \n",
       "187                              O=C(CCCc1ccccc1)O[Na]  \n",
       "\n",
       "[188 rows x 4 columns]"
      ]
     },
     "execution_count": 8,
     "metadata": {},
     "output_type": "execute_result"
    }
   ],
   "source": [
    "data_188"
   ]
  },
  {
   "cell_type": "code",
   "execution_count": 9,
   "metadata": {},
   "outputs": [
    {
     "data": {
      "text/html": [
       "<div>\n",
       "<style scoped>\n",
       "    .dataframe tbody tr th:only-of-type {\n",
       "        vertical-align: middle;\n",
       "    }\n",
       "\n",
       "    .dataframe tbody tr th {\n",
       "        vertical-align: top;\n",
       "    }\n",
       "\n",
       "    .dataframe thead th {\n",
       "        text-align: right;\n",
       "    }\n",
       "</style>\n",
       "<table border=\"1\" class=\"dataframe\">\n",
       "  <thead>\n",
       "    <tr style=\"text-align: right;\">\n",
       "      <th></th>\n",
       "      <th>Unnamed: 0</th>\n",
       "      <th>treatment</th>\n",
       "      <th>Structure</th>\n",
       "      <th>Structure_Canonize</th>\n",
       "    </tr>\n",
       "  </thead>\n",
       "  <tbody>\n",
       "    <tr>\n",
       "      <th>0</th>\n",
       "      <td>0</td>\n",
       "      <td>S1172</td>\n",
       "      <td>C(CC1=C[NH]C2=CC=CC=C12)NC3=CC=C(NC4=CC=NC=C4)...</td>\n",
       "      <td>c1ccc2c(CCNc3ccc(Nc4ccncc4)cc3)c[nH]c2c1</td>\n",
       "    </tr>\n",
       "    <tr>\n",
       "      <th>1</th>\n",
       "      <td>1</td>\n",
       "      <td>S2818</td>\n",
       "      <td>CC(=O)NC1=CC=C(C=C1)C(=O)NC1=C(N)C=CC=C1 |c:6,...</td>\n",
       "      <td>CC(=O)Nc1ccc(C(=O)Nc2ccccc2N)cc1</td>\n",
       "    </tr>\n",
       "    <tr>\n",
       "      <th>2</th>\n",
       "      <td>2</td>\n",
       "      <td>S1140</td>\n",
       "      <td>CC(=O)NC1=CC=C(OCC(C)(O)C(=O)NC2=CC=C(C(=C2)C(...</td>\n",
       "      <td>CC(=O)Nc1ccc(OCC(C)(O)C(=O)Nc2ccc([N+](=O)[O-]...</td>\n",
       "    </tr>\n",
       "    <tr>\n",
       "      <th>3</th>\n",
       "      <td>3</td>\n",
       "      <td>S8502</td>\n",
       "      <td>CC(C)(CNC(=O)C1=CC(=CC=C1)C1=NOC(=N1)C(F)(F)F)...</td>\n",
       "      <td>CC(C)(CNC(=O)c1cccc(-c2noc(C(F)(F)F)n2)c1)c1co...</td>\n",
       "    </tr>\n",
       "    <tr>\n",
       "      <th>4</th>\n",
       "      <td>4</td>\n",
       "      <td>S2003</td>\n",
       "      <td>CC(C)C1=NN=C(C)[N]1C2CC3CCC(C2)N3CCC(NC(=O)C4C...</td>\n",
       "      <td>Cc1nnc(C(C)C)n1C1CC2CCC(C1)N2CCC(NC(=O)C1CCC(F...</td>\n",
       "    </tr>\n",
       "  </tbody>\n",
       "</table>\n",
       "</div>"
      ],
      "text/plain": [
       "   Unnamed: 0 treatment                                          Structure  \\\n",
       "0           0     S1172  C(CC1=C[NH]C2=CC=CC=C12)NC3=CC=C(NC4=CC=NC=C4)...   \n",
       "1           1     S2818  CC(=O)NC1=CC=C(C=C1)C(=O)NC1=C(N)C=CC=C1 |c:6,...   \n",
       "2           2     S1140  CC(=O)NC1=CC=C(OCC(C)(O)C(=O)NC2=CC=C(C(=C2)C(...   \n",
       "3           3     S8502  CC(C)(CNC(=O)C1=CC(=CC=C1)C1=NOC(=N1)C(F)(F)F)...   \n",
       "4           4     S2003  CC(C)C1=NN=C(C)[N]1C2CC3CCC(C2)N3CCC(NC(=O)C4C...   \n",
       "\n",
       "                                  Structure_Canonize  \n",
       "0           c1ccc2c(CCNc3ccc(Nc4ccncc4)cc3)c[nH]c2c1  \n",
       "1                   CC(=O)Nc1ccc(C(=O)Nc2ccccc2N)cc1  \n",
       "2  CC(=O)Nc1ccc(OCC(C)(O)C(=O)Nc2ccc([N+](=O)[O-]...  \n",
       "3  CC(C)(CNC(=O)c1cccc(-c2noc(C(F)(F)F)n2)c1)c1co...  \n",
       "4  Cc1nnc(C(C)C)n1C1CC2CCC(C1)N2CCC(NC(=O)C1CCC(F...  "
      ]
     },
     "execution_count": 9,
     "metadata": {},
     "output_type": "execute_result"
    }
   ],
   "source": [
    "data_188.head()"
   ]
  },
  {
   "cell_type": "code",
   "execution_count": 15,
   "metadata": {},
   "outputs": [
    {
     "data": {
      "text/html": [
       "<div>\n",
       "<style scoped>\n",
       "    .dataframe tbody tr th:only-of-type {\n",
       "        vertical-align: middle;\n",
       "    }\n",
       "\n",
       "    .dataframe tbody tr th {\n",
       "        vertical-align: top;\n",
       "    }\n",
       "\n",
       "    .dataframe thead th {\n",
       "        text-align: right;\n",
       "    }\n",
       "</style>\n",
       "<table border=\"1\" class=\"dataframe\">\n",
       "  <thead>\n",
       "    <tr style=\"text-align: right;\">\n",
       "      <th></th>\n",
       "      <th>Structure_Canonize</th>\n",
       "      <th>Unnamed: 0</th>\n",
       "      <th>treatment</th>\n",
       "      <th>Structure</th>\n",
       "    </tr>\n",
       "  </thead>\n",
       "  <tbody>\n",
       "    <tr>\n",
       "      <th>0</th>\n",
       "      <td>COC1CC2CCC(C)C(O)(O2)C(=O)C(=O)N2CCCCC2C(=O)OC...</td>\n",
       "      <td>106</td>\n",
       "      <td>S1044</td>\n",
       "      <td>COC1CC(CCC1OC(=O)C(C)(CO)CO)CC(C)C2CC(=O)C(C)\\...</td>\n",
       "    </tr>\n",
       "    <tr>\n",
       "      <th>1</th>\n",
       "      <td>C=CCNC1=C2CC(C)CC(OC)C(O)C(C)/C=C(\\C)C(OC(N)=O...</td>\n",
       "      <td>105</td>\n",
       "      <td>S1141</td>\n",
       "      <td>COC1CC(C)CC2=C(NCC=C)C(=O)C=C(NC(=O)C(=C\\C=C/C...</td>\n",
       "    </tr>\n",
       "    <tr>\n",
       "      <th>2</th>\n",
       "      <td>C/C(=C\\c1csc(C)n1)C1CC2OC2CCCC(C)C(O)C(C)C(=O)...</td>\n",
       "      <td>38</td>\n",
       "      <td>S1297</td>\n",
       "      <td>CC1CCCC2OC2CC(OC(=O)CC(O)C(C)(C)C(=O)C(C)C1O)\\...</td>\n",
       "    </tr>\n",
       "    <tr>\n",
       "      <th>3</th>\n",
       "      <td>C/C(=C\\c1csc(C)n1)C1CC2OC2(C)CCCC(C)C(O)C(C)C(...</td>\n",
       "      <td>37</td>\n",
       "      <td>S1364</td>\n",
       "      <td>CC1CCCC2(C)OC2CC(OC(=O)CC(O)C(C)(C)C(=O)C(C)C1...</td>\n",
       "    </tr>\n",
       "    <tr>\n",
       "      <th>4</th>\n",
       "      <td>O=C(CCCc1ccccc1)O[Na]</td>\n",
       "      <td>187</td>\n",
       "      <td>S4125</td>\n",
       "      <td>[Na]OC(=O)CCCC1=CC=CC=C1 |c:9,11,t:7|</td>\n",
       "    </tr>\n",
       "  </tbody>\n",
       "</table>\n",
       "</div>"
      ],
      "text/plain": [
       "                                  Structure_Canonize  Unnamed: 0 treatment  \\\n",
       "0  COC1CC2CCC(C)C(O)(O2)C(=O)C(=O)N2CCCCC2C(=O)OC...         106     S1044   \n",
       "1  C=CCNC1=C2CC(C)CC(OC)C(O)C(C)/C=C(\\C)C(OC(N)=O...         105     S1141   \n",
       "2  C/C(=C\\c1csc(C)n1)C1CC2OC2CCCC(C)C(O)C(C)C(=O)...          38     S1297   \n",
       "3  C/C(=C\\c1csc(C)n1)C1CC2OC2(C)CCCC(C)C(O)C(C)C(...          37     S1364   \n",
       "4                              O=C(CCCc1ccccc1)O[Na]         187     S4125   \n",
       "\n",
       "                                           Structure  \n",
       "0  COC1CC(CCC1OC(=O)C(C)(CO)CO)CC(C)C2CC(=O)C(C)\\...  \n",
       "1  COC1CC(C)CC2=C(NCC=C)C(=O)C=C(NC(=O)C(=C\\C=C/C...  \n",
       "2  CC1CCCC2OC2CC(OC(=O)CC(O)C(C)(C)C(=O)C(C)C1O)\\...  \n",
       "3  CC1CCCC2(C)OC2CC(OC(=O)CC(O)C(C)(C)C(=O)C(C)C1...  \n",
       "4              [Na]OC(=O)CCCC1=CC=CC=C1 |c:9,11,t:7|  "
      ]
     },
     "execution_count": 15,
     "metadata": {},
     "output_type": "execute_result"
    }
   ],
   "source": [
    "string_5 = [\n",
    "    \"COC1CC2CCC(C)C(O)(O2)C(=O)C(=O)N2CCCCC2C(=O)OC(C(C)CC2CCC(OC(=O)C(C)(CO)CO)C(OC)C2)CC(=O)C(C)/C=C(\\C)C(O)C(OC)C(=O)C(C)CC(C)/C=C/C=C/C=C/1C\",\n",
    "    \"C=CCNC1=C2CC(C)CC(OC)C(O)C(C)/C=C(\\C)C(OC(N)=O)C(OC)/C=C\\C=C(/C)C(=O)NC(=CC1=O)C2=O\",\n",
    "    \"C/C(=C\\c1csc(C)n1)C1CC2OC2CCCC(C)C(O)C(C)C(=O)C(C)(C)C(O)CC(=O)O1\",\n",
    "    \"C/C(=C\\c1csc(C)n1)C1CC2OC2(C)CCCC(C)C(O)C(C)C(=O)C(C)(C)C(O)CC(=O)O1\", \n",
    "    \"O=C(CCCc1ccccc1)O[Na]\"\n",
    "]\n",
    "\n",
    "pd_string_5 = pd.DataFrame({'Structure_Canonize': string_5})\n",
    "pd_string_5_merge = pd_string_5.merge(data_188, on = 'Structure_Canonize', how = 'left')\n",
    "pd_string_5_merge"
   ]
  },
  {
   "cell_type": "code",
   "execution_count": 19,
   "metadata": {},
   "outputs": [
    {
     "data": {
      "text/plain": [
       "['S1044', 'S1141', 'S1297', 'S1364', 'S4125']"
      ]
     },
     "execution_count": 19,
     "metadata": {},
     "output_type": "execute_result"
    }
   ],
   "source": [
    "list(pd_string_5_merge['treatment'])"
   ]
  },
  {
   "cell_type": "code",
   "execution_count": null,
   "metadata": {},
   "outputs": [],
   "source": []
  },
  {
   "cell_type": "code",
   "execution_count": null,
   "metadata": {},
   "outputs": [],
   "source": []
  },
  {
   "cell_type": "code",
   "execution_count": null,
   "metadata": {},
   "outputs": [],
   "source": []
  },
  {
   "cell_type": "code",
   "execution_count": 9,
   "metadata": {},
   "outputs": [
    {
     "data": {
      "text/plain": [
       "2"
      ]
     },
     "execution_count": 9,
     "metadata": {},
     "output_type": "execute_result"
    }
   ],
   "source": [
    "len([i for i in chem_188 if len(i) > 120])"
   ]
  },
  {
   "cell_type": "code",
   "execution_count": 10,
   "metadata": {},
   "outputs": [],
   "source": [
    "smiles = mu.load_smiles_and_data_df('../models/zinc/250k_rndm_zinc_drugs_clean_3.csv', MAX_LEN)"
   ]
  },
  {
   "cell_type": "code",
   "execution_count": 11,
   "metadata": {},
   "outputs": [
    {
     "data": {
      "text/plain": [
       "['CC(C)(C)c1ccc2occ(CC(=O)Nc3ccccc3F)c2c1',\n",
       " 'C[C@@H]1CC(Nc2cncc(-c3nncn3C)c2)C[C@@H](C)C1',\n",
       " 'N#Cc1ccc(-c2ccc(O[C@@H](C(=O)N3CCCC3)c3ccccc3)cc2)cc1',\n",
       " 'CCOC(=O)[C@@H]1CCCN(C(=O)c2nc(-c3ccc(C)cc3)n3c2CCCCC3)C1',\n",
       " 'N#CC1=C(SCC(=O)Nc2cccc(Cl)c2)N=C([O-])[C@H](C#N)C12CCCCC2',\n",
       " 'CC[NH+](CC)[C@](C)(CC)[C@H](O)c1cscc1Br',\n",
       " 'COc1ccc(C(=O)N(C)[C@@H](C)C/C(N)=N/O)cc1O',\n",
       " 'O=C(Nc1nc[nH]n1)c1cccnc1Nc1cccc(F)c1',\n",
       " 'Cc1c(/C=N/c2cc(Br)ccn2)c(O)n2c(nc3ccccc32)c1C#N',\n",
       " 'C[C@@H]1CN(C(=O)c2cc(Br)cn2C)CC[C@H]1[NH3+]',\n",
       " 'CCOc1ccc(OCC)c([C@H]2C(C#N)=C(N)N(c3ccccc3C(F)(F)F)C3=C2C(=O)CCC3)c1',\n",
       " 'Cc1ccc2nc(S[C@H](C)C(=O)NC3CCC(C)CC3)n(C)c(=O)c2c1',\n",
       " 'O=C(N1CCc2c(F)ccc(F)c2C1)C1(O)Cc2ccccc2C1',\n",
       " 'Cc1ccccc1C(=O)N1CCC2(CC1)C[C@H](c1ccccc1)C(=O)N2C',\n",
       " 'CCCc1cc(NC(=O)CN2C(=O)NC3(CCC(C)CC3)C2=O)n(C)n1',\n",
       " 'CC(C)Cc1nc(SCC(=O)NC[C@@H]2CCCO2)c2c(=O)n(C)c(=O)n(C)c2n1',\n",
       " 'Cc1ccc(CNC(=O)c2ccccc2NC(=O)[C@@H]2CC(=O)N(c3ccc(C)cc3)C2)cc1',\n",
       " 'CCCCC(=O)NC(=S)Nc1ccccc1C(=O)N1CCOCC1',\n",
       " 'Cc1c(NC(=O)CSc2nc3sc4c(c3c(=O)[nH]2)CCCC4)c(=O)n(-c2ccccc2)n1C',\n",
       " 'CC(C)[C@@H](Oc1cccc(Cl)c1)C(=O)N1CCC(n2cccn2)CC1',\n",
       " 'CCN(CC)C(=O)C[C@@H](C)[NH2+][C@H](C)c1cccc(F)c1F',\n",
       " 'Cc1nc2c(c(Nc3ncc(C)s3)n1)CCN(C(=O)CCc1ccccc1)C2',\n",
       " 'O=C(NCCNC(=O)N1C[C@H]2CC=CC[C@@H]2C1)c1cccnc1',\n",
       " 'O=c1n(CCO)c2ccccc2n1CCO',\n",
       " 'COC(=O)Cc1csc(NC(=O)Cc2coc3cc(C)ccc23)n1',\n",
       " 'Cc1ccc(N2CC[C@@H](NS(=O)(=O)c3ccccc3C)C2=O)cc1C',\n",
       " 'CC[C@H](C)C[C@@H](C)NC(=O)N1CCN(CC(=O)NC2CC2)CC1',\n",
       " 'CC(=O)Nc1c2n(c3ccccc13)C[C@](C)(C(=O)NC1CCCCC1)N(C1CCCCC1)C2=O',\n",
       " 'N#Cc1ccncc1NC[C@@H]1C[C@@]12CCc1ccccc12',\n",
       " 'Cc1cccn2c(=O)c(C(=O)NC[C@H]3CCO[C@@H]3C(C)C)cnc12',\n",
       " 'CNC(=O)c1ccc(/C=C/C(=O)Nc2c(C)cc(C)nc2Cl)cc1',\n",
       " 'CC1=C(CNC(=O)c2cc(-c3ccccc3)nc3c2CNN3C(C)C)CN=N1',\n",
       " 'C[C@@H](NC(=O)COC(=O)/C=C/c1ccc(Cl)cc1)c1ccccc1',\n",
       " 'CCc1ccc(N(Cc2ccc(C)s2)C(=O)c2ccc(=O)n(C)n2)cc1',\n",
       " 'CCOC(=O)c1nnc2ccccc2c1N1CC[C@@H]([NH+](CC)CC)C1',\n",
       " 'Cc1ccc(C#N)cc1S(=O)(=O)NCc1ccnc(OC(C)(C)C)c1',\n",
       " 'O=C(O[C@H]1CCOC1)C1(c2ccc(Cl)c(Cl)c2)CCC1',\n",
       " 'CCC[NH2+][C@@H]1COC[C@H]1C(=O)NCc1cscc1C',\n",
       " 'O=C(NCc1nccc2ccccc12)c1ccc[nH]c1=O',\n",
       " 'CC(=O)c1ccc(S(=O)(=O)N2CCCC[C@H]2C)cc1',\n",
       " 'O=[N+]([O-])c1c(Nc2cccc3ncccc23)ncnc1N1CCN(c2cccc(Cl)c2)CC1',\n",
       " 'O=C(CCCO)Nc1ccc(F)cc1F',\n",
       " 'NC(=O)CCOc1ccc(NC(=O)C[C@H]2CCc3ccccc32)cc1',\n",
       " 'COc1cc(C)ccc1OCC(=O)Nc1nnc(C)s1',\n",
       " 'CC(=O)c1c(O)cccc1COc1ccccc1',\n",
       " 'CCn1cc(S(=O)(=O)N2CCCCC[C@@H]2c2cc(-c3ccc(F)cc3)no2)cn1',\n",
       " 'COC(=O)[C@](NC(=O)c1cccc(Cl)c1)(Nc1ccc(Br)c[nH+]1)C(F)(F)F',\n",
       " 'Cc1[nH]c2ccc(C(=O)Nc3cc(C(C)(C)C)nn3-c3ncccn3)cc2c1C',\n",
       " 'Cc1noc(C)c1C[C@H](C)C(=O)N[C@@H](C)C1CCCCC1',\n",
       " 'CCn1cc(C(=O)N[C@H]2CC(=O)N(C)C2)c(C(C)C)n1',\n",
       " 'COc1cccc(-c2cncc3ccccc23)c1C(=O)N(C(C)C)C(C)C',\n",
       " 'COc1ccc([C@@H](C)NC(=O)Cc2cccc3ccccc23)cc1',\n",
       " 'O=C1C[C@H](c2nc(-c3cccnc3)no2)CN1c1cccc(Cl)c1',\n",
       " 'C[C@H]1CCCN(c2ccc(C(=O)Nc3ccc(N4CCOCC4)cc3)cc2[N+](=O)[O-])C1',\n",
       " 'C=CCN(C(=O)C/C=C/c1ccc(C)cc1)[C@@H]1CCS(=O)(=O)C1',\n",
       " 'O=C(CSc1nnc(-c2cccc([N+](=O)[O-])c2)o1)Nc1nncs1',\n",
       " 'CN(CCc1ccc(F)cc1)c1cc(Br)cc(F)c1C(N)=O',\n",
       " 'COc1ccccc1NC(=O)CSc1ccc(-c2ccccc2OC)nn1',\n",
       " 'Cc1occc1C(=O)/C(C#N)=C\\\\c1cccc(C(F)(F)F)c1',\n",
       " 'COc1ccc2c(c1)N(C(=O)CCSc1ccccn1)C[C@@H](C)O2',\n",
       " 'CC[C@@H](NC(=O)[C@H](C)n1cccn1)c1ccc(C)c(F)c1',\n",
       " 'CCC[C@]1(C(=O)N[C@@H]2CONC2=O)CC[NH2+]C1',\n",
       " 'O=C(c1cc2cc([N+](=O)[O-])ccc2oc1=O)N1CCN(Cc2ccccc2)CC1',\n",
       " 'CCn1c(CC2CC[NH2+]CC2)nn(CCO)c1=O',\n",
       " 'C=CCn1c(S[C@H](C)C(=O)N2CCC(C)CC2)nnc1-c1ccc(Cl)cc1',\n",
       " 'CCO[C@H]1C(=O)O[C@H]([C@@H](O)CO)C1=O',\n",
       " 'Cc1ccc(-c2nnc(C[NH+](CCO)[C@H]3CCc4ccccc43)o2)cc1',\n",
       " 'Cc1cc(-n2c(C)cc(C[NH2+][C@H](C)c3ccc(F)c(F)c3)c2C)no1',\n",
       " 'C[C@@H](NC(=O)Nc1ccn(-c2ncccc2Cl)n1)[C@@H]1CCCO1',\n",
       " 'COc1cc(S(=O)(=O)N2CCN=C2Cc2ccccc2)ccc1Cl',\n",
       " 'COc1ccc(OC)c(/C=C2\\\\Oc3cc(OC(=O)c4ccncc4)cc(C)c3C2=O)c1',\n",
       " 'COc1ccc([C@@H](NC(=O)Nc2cc(C)ccc2Cl)C2CCOCC2)cc1',\n",
       " 'C[C@H](Cc1cccs1)N(C)C[C@@H]1CCCC[C@@H]1[NH3+]',\n",
       " 'C[C@H]([NH3+])c1nc2cc(C(F)(F)F)ccc2n1C',\n",
       " 'COc1cccc(CN2CCc3nnc(CCc4ccccc4)n3CC2)c1',\n",
       " 'O=C(N[C@H]1CCS(=O)(=O)C1)C1CC[NH2+]CC1',\n",
       " 'COCC[C@H](C)C(=O)N[C@@H](C)COC',\n",
       " 'Cc1cc(N(C)C)ccc1NC(=O)c1ccc(CN2CC[NH+](C)CC2)cc1',\n",
       " 'C[C@H](CNC(=O)[C@H]1CC[NH2+][C@@H]1C)C[NH+]1CCCC1',\n",
       " 'CN(C)c1ccc([C@H](CNC(=O)C(=O)Nc2ccccc2C#N)N2CC[NH+](C)CC2)cc1',\n",
       " 'CCOc1ncnc(S(=O)(=O)CC)c1N',\n",
       " 'CC[C@@H](NC(=O)N(C)Cc1ccc(-c2ccccc2)cc1)c1ccncc1',\n",
       " 'O=C(Nc1ccc(-c2nc3ccccc3o2)cc1)[C@H]1CCCN1S(=O)(=O)c1ccc(F)cc1',\n",
       " 'CC[C@@H](C)CNc1nc2ccc(Cl)cc2s1',\n",
       " 'Cc1cc(C)c2nc(N3CCN(C(=O)[C@@H]4CCCCN4S(C)(=O)=O)CC3)sc2c1',\n",
       " 'CCc1nnc(-c2cc3ccccc3n2CC(=O)NC(C)(C)C)o1',\n",
       " 'CCc1ccc(NC(=O)c2nn(-c3ccc(CC)cc3)ccc2=O)cc1',\n",
       " 'Cc1ccc(C(=O)N[C@H]2CCC[NH2+][C@H]2C)cc1F',\n",
       " 'C[C@H](OC(=O)c1nc(C2CC2)n2ccccc12)c1cnc2ccccc2c1',\n",
       " 'CCCCOc1ccccc1C[C@@H]([NH3+])C(=O)[O-]',\n",
       " 'CCC[C@@H]1CN(C(=O)C(=O)Nc2ccc(C)nc2Cl)CCO1',\n",
       " 'C[C@H]1C(=O)N(c2ccc3c(c2)CCC3)CCN1C(=O)c1ccc(Cl)c(Cl)c1',\n",
       " 'COC(=O)C1(NC(=O)[C@H]2C[C@H]2c2c(F)cccc2F)CCSCC1',\n",
       " 'N#CC1(NC(=O)COc2cccc(Cl)c2)CCCC1',\n",
       " 'COC1CC[NH+](CCNc2nccn(C)c2=O)CC1',\n",
       " 'C=CCN(Cc1cccc([N+](=O)[O-])c1)C(=O)Nc1cc(OC)ccc1Cl',\n",
       " 'Cc1cc(Cl)ccc1OCC(=O)N/N=C/c1ccccn1',\n",
       " 'O=C1NC(=S)NC(=O)C1=CNc1ccc([N+](=O)[O-])cc1O',\n",
       " 'Cc1c(C(=O)N2CCOCC2)oc2c1-c1nn(CC(=O)NCc3ccco3)cc1CC2',\n",
       " 'CCc1ccc(CNC(=O)c2ccc(-c3nccnc3N3CCCCC3)cc2)cc1',\n",
       " 'COc1ccc([C@H]2C[C@@H](C(F)(F)F)n3nc(C(=O)NC4CCCCC4)cc3N2)cc1OC',\n",
       " 'CCCc1cc(C(=O)NNC(=O)c2cccc(Br)c2)[nH]n1',\n",
       " 'O=[N+]([O-])c1c(Nc2ccc(F)c(F)c2)ncnc1Oc1cccc2cccnc12',\n",
       " 'CC(C)(C)n1ncc2c1CCC[C@H]2NC(=O)CSc1nc2ccccc2o1',\n",
       " 'Cc1ccc([C@@H](C)NC(=O)N[C@@H](CCO)c2cccs2)cc1',\n",
       " 'CCN(CC)S(=O)(=O)c1ccc2nc(-c3ccncc3)cc(C(=O)[O-])c2c1',\n",
       " 'CCCN(CC)c1cc[nH+]c(C(=O)[O-])c1',\n",
       " 'Cc1ccccc1N1C(=O)C[C@H]([NH+](C2CCCCC2)C2CCCCC2)C1=O',\n",
       " 'CS(=O)(=O)[C@H]1O[C@H]1c1ccc(Cl)cc1Cl',\n",
       " 'C[C@H](CSc1ccc(C(=O)N(C)C)cn1)C(=O)[O-]',\n",
       " 'CCOC(=O)[C@H]1C=C(C#N)O[C@@H](c2ccc(C)cc2)C1',\n",
       " 'CCC[NH2+]C1CCC(O)(Cc2nc(C)cs2)CC1',\n",
       " 'O=C1c2ccccc2N[C@H](CSC2=NC=NC3=NC=N[C@@H]32)N1c1ccc(Cl)cc1',\n",
       " 'CCc1nc2ccccc2c(C(=O)NCc2ccc(OC)c(C(=O)OC)c2)c1C',\n",
       " 'Cc1nn(-c2nncc(-c3ccc(Cl)cc3)n2)c2c1[C@H](c1ccccc1)CC(=O)N2',\n",
       " 'CC(C)NC(=O)Nc1cccc(C(=O)N(C)Cc2nnc(C3CC3)n2C)c1',\n",
       " 'Cc1nnccc1C(=O)N[C@H](C)c1ccc(Cl)s1',\n",
       " 'O=C(NCCCc1nc(-c2ccc(Br)o2)no1)C1CC1',\n",
       " 'CCOc1cccc(NC(=O)CCc2ccc(N)cc2)c1',\n",
       " 'COc1ccc(/C=C2/SC(=O)N(CC(=O)Nc3ccc(F)cc3)C2=O)cc1OC',\n",
       " 'CC(C)N(C)C(=O)[C@H]1CSCN1C(=O)/C=C/SCc1ccco1',\n",
       " 'CCC1(CC)[C@@H](NC(=O)Nc2ccc(C(=O)NC)cc2)[C@H](C)[C@@H]1OC',\n",
       " 'Cc1ccc2ncc(C(=O)Nc3ncccc3OCc3ccncc3)n2c1',\n",
       " 'N#Cc1ccnc(N2CCC([NH2+]C[C@@H]3CCCO3)CC2)c1',\n",
       " 'O=C(Cn1nnn(-c2cccs2)c1=O)OC1CCCCC1',\n",
       " 'COc1cccc(COc2ccc(OC)cc2CCl)c1',\n",
       " 'CC[C@H](NC(=O)NCc1c(C)noc1C)c1ccc(OC)cc1',\n",
       " 'CCc1c(C(=O)Nc2ccc3c(c2)NC(=O)CS3)[nH]c(C)c1C(C)=O',\n",
       " 'CSc1ccc(/C=c2\\\\sc3ncnn3c2=O)cc1',\n",
       " 'COc1ccc(C(=O)/C=C(\\\\C)Nc2ccc(F)cc2F)cc1',\n",
       " 'O=C(C=C1CCSCC1)N[C@@H]1CCC[C@H]1Cc1ccccc1',\n",
       " 'C[C@@H](Sc1nc(/C=C/c2cccs2)n[nH]1)C(=O)N1CCOCC1',\n",
       " 'Cc1cccc(C(=O)N[C@@H](C(=O)N2CCC[C@@H](C)C2)C(C)C)c1',\n",
       " 'COC(=O)[C@@H](C)Sc1nnc(Nc2cccc(Br)c2)s1',\n",
       " 'Cc1cnc(C(=O)Nc2ccc(N(C)C3CC[NH+](C)CC3)cc2)cn1',\n",
       " 'CC(=O)Nc1nc2ccc(NC(=O)NCc3ccccc3)cc2s1',\n",
       " 'C=CCN1C(=O)/C(=C/c2ccccc2F)S/C1=N\\\\S(=O)(=O)c1cccs1',\n",
       " 'CC[C@H]1CC(=O)N(Cc2ccccc2C#CCCO)C1',\n",
       " 'COc1ccc(F)cc1C(=O)Nc1nccs1',\n",
       " 'CC[C@@H](CC(=O)NC1(C(=O)OC)CCSCC1)c1ccccc1',\n",
       " 'Cc1ccc(C)c(-n2c(SCCCCCO)nc3ccccc3c2=O)c1',\n",
       " 'CC[C@@H](C)[C@@H]([NH3+])c1ccc(Cl)s1',\n",
       " 'COc1cccc([C@@H](C)[NH2+]CCOc2ncccc2Cl)c1',\n",
       " 'CC[C@@H]1CCCCN1C(=O)NC1CCN(C(=O)OC(C)(C)C)CC1',\n",
       " 'CCOc1cccc(NC(=O)NCc2ccc(N3CCSCC3)cc2)c1',\n",
       " 'Cc1cccc(NC(=O)CN2CCN(c3ccc4c(c3)OCCO4)C2=O)n1',\n",
       " 'C=C(C)C(=O)N[C@H](C)c1nc2ccccc2n1CCC(=O)N1CCCCCC1',\n",
       " 'CCOC[C@H]1CC[NH+](Cc2ccc(-c3nc4ccccc4s3)o2)C1',\n",
       " 'CCOC(=O)[C@]1(Cc2cccc(Cl)c2)CCCN(C(=O)c2ccnn2C)C1',\n",
       " 'Cc1ccc([N+](=O)[O-])cc1NC(=O)C(=O)N1CC[C@H]([NH+]2CCCC2)C1',\n",
       " 'CCOCCCNC(=O)N[C@@H]1CCC[C@@H](CC)C1',\n",
       " 'O=C(Cc1cccc(F)c1F)Nc1cccc(Br)n1',\n",
       " 'COc1ccccc1NC(=O)[C@@H]1CCCN(C(=O)Nc2cccs2)C1',\n",
       " 'C[C@H]1CCC[C@](C#N)([C@]2(O)CCCCC2(C)C)C1',\n",
       " 'O=C(NCc1ccc([N+]2=CCCC2)cc1)NC1(c2ccc(Cl)cc2)CC1',\n",
       " 'CCCC(=O)N[C@@H]1CCC[NH+](Cc2ncccc2C)C1',\n",
       " 'O=C(NCc1cccs1)C1(c2cccc(Cl)c2)CCC1',\n",
       " 'C[C@H]1CCC[C@H](NC(=O)[C@@H](C)Sc2ncn[nH]2)[C@@H]1C',\n",
       " 'COc1ccc([C@@H]([NH2+]Cc2ccc(Cl)nc2)c2ccc(F)cc2)cc1',\n",
       " 'COc1cc(NC(=O)[C@H](C)Sc2ccccc2Cl)cc(OC)c1',\n",
       " 'CCN1CCC(=NNC(=O)c2ccccc2)CC1',\n",
       " 'CCCOc1ccc(Br)cc1C[NH+]1CCC([C@@H](C)O)CC1',\n",
       " 'Cc1cc2n(C[C@H](O)CO[C@H](c3ccccc3)c3ccccc3C)c(=O)c3ccccc3n2n1',\n",
       " 'CCc1ncc(CN(C)C(=O)Nc2c(C)ccc([N+](=O)[O-])c2C)s1',\n",
       " 'c1ccc2nc(NCCCc3nc4ccccc4[nH]3)cnc2c1',\n",
       " 'Cc1c([C@H](C)[NH2+]Cc2cccn2C)cnn1C',\n",
       " 'CC(=O)N[C@@H](C(=O)NC1COC1)C(C)C',\n",
       " 'O=C(Nc1ccccc1F)c1cc2ccccc2c2cccnc12',\n",
       " 'Cc1ccccc1N1C(=O)/C(=C/c2cccn2-c2cccc([N+](=O)[O-])c2)C([O-])=NC1=S',\n",
       " 'COCCN1C[C@H](C(=O)N(Cc2cccc(Cl)c2)C(C)C)CC1=O',\n",
       " 'COc1ccc(NC(=O)N2CCN(C(=O)Cc3csc4ccccc34)CC2)cc1OC',\n",
       " 'C#CCN(C[C@H]1CCCO1)C(=O)N[C@@H](C)c1cccc([N+](=O)[O-])c1',\n",
       " 'Cc1cccc(C2=CCN(C(=O)Nc3ccc(C(N)=O)c(Cl)c3)CC2)c1',\n",
       " 'COCCCN1C(=O)c2ccc(C(=O)Nc3nc(-c4ccc(C)cc4)cs3)cc2C1=O',\n",
       " 'O=S(=O)(Nc1ccc(N2CCCS2(=O)=O)cc1)c1ccc(F)c(Cl)c1',\n",
       " 'O=C1/C(=C/c2ccccc2)Oc2c1ccc1c2CN(Cc2cccs2)CO1',\n",
       " 'CC[C@@H](C)[C@@H](NC(=O)c1cccc(F)c1)C(=O)N=c1[nH]c2ccccc2[nH]1',\n",
       " 'Cc1c(F)cc(N)cc1S(=O)(=O)N[C@@H](C)C1CC1',\n",
       " 'Cc1ccc(Cn2ncc3c(N)ncnc32)cc1',\n",
       " 'CCOC(=O)C(C)(C)c1nc(-c2ccccc2)no1',\n",
       " 'CCOC(=O)c1sc(/C=C/c2nc3c(s2)CCC3)nc1C',\n",
       " 'C[C@@H]1CC[C@@H]([NH2+]C2CCC(NS(C)(=O)=O)CC2)c2ccccc21',\n",
       " 'CN(C)S(=O)(=O)c1ccc(C(=O)N(C(=O)N2CCCCC2)c2ccccc2)cc1',\n",
       " 'CC[NH2+][C@@H](CC)c1ccccc1OCc1cccc(F)c1',\n",
       " 'C=CCOC(=O)C1=C(C)N=C2S[C@H](C)C(=O)N2[C@H]1c1ccc(F)cc1',\n",
       " 'CCC[NH2+][C@]1(C(=O)OCC)CC[C@H](n2cc(Cl)c(C)n2)C1',\n",
       " 'Cc1cc(NC(=O)CSc2nnc3c4ccccc4n(C)c3n2)ccc1Br',\n",
       " 'CCOC(=O)c1sc(NC(=O)c2ccc(-n3c(C)nc4ccccc4c3=O)cc2)cc1C',\n",
       " 'CC#CCC(=O)C1([NH+](CC)CC)CCCC1',\n",
       " 'O=C(NCCCc1ccccc1)C1CCN(C(=O)[C@@H]2CC(=O)N(c3ccccc3)C2)CC1',\n",
       " 'O=Cc1ccc(OCc2ccn(-c3cccc(F)c3)n2)cc1',\n",
       " 'Clc1ccccc1Cn1ccnc1',\n",
       " 'Cc1[nH]c(=O)c(C(=O)N2CCN(c3ccccc3)C(=O)C2)c(C)c1C',\n",
       " 'C[C@@H](NC(=O)NC[C@H]1CCCN(c2ncccn2)C1)C1CCOCC1',\n",
       " 'O=C(NCCS(=O)(=O)c1ccccc1)N1CCC[C@@H]2CCC[C@@H]21',\n",
       " 'Cc1ccc(-c2cc(NC(=O)C(C)C)c(=O)n(CC(=O)Nc3cccc(C)c3)n2)cc1',\n",
       " 'Cc1ccc(S(=O)(=O)N2CCN(C(=O)[C@H]3CCCC[C@@H]3C(=O)[O-])CC2)cc1C',\n",
       " 'CCc1ccc(-c2nc(C(=O)N3CCO[C@H](CC)C3)cs2)cc1',\n",
       " 'Cc1cc(C)cc(OCC(C)(C)C[NH2+]C2CC2)c1',\n",
       " 'CCOC(=O)[C@H](F)[C@@]1(O)CCC[NH+](C(C)C)CC1',\n",
       " 'CCn1cc(/C=C/C(=O)c2ccc3ccccc3c2)cn1',\n",
       " 'CCC(CC)C(=O)Nc1cnn(-c2ccccc2F)c1',\n",
       " 'O=C1O[C@H](C(=O)Nc2ccnc3ccnn23)Cc2ccccc21',\n",
       " 'COCCn1nnnc1[C@@H](C(C)C)N1CCSCC1',\n",
       " 'O=C(NCCNS(=O)(=O)c1cccc(Cl)c1F)c1cccnc1',\n",
       " 'Cc1ccc(CNC(=O)NCc2nnc3n2CCC3)s1',\n",
       " 'C/C=C/C[C@]1(C(=O)[O-])CCN(C(=O)OC(C)(C)C)C1',\n",
       " 'O=C(N[C@@H](CO)c1ccco1)c1cc(Cl)ccc1OC1CCCC1',\n",
       " 'Cc1cc(N(C)C)ccc1NC(=O)c1c[nH]c2nccc(Cl)c12',\n",
       " 'CCOC(=O)c1cccc(NC(=O)c2cn[nH]c2C)c1',\n",
       " 'CCC(CC)[S@](=O)CCC(=O)[O-]',\n",
       " 'COCc1ccc(C(=O)N(C)Cc2ccc(Cl)s2)cc1',\n",
       " 'O=C(CCc1nc2ccccc2c(=O)[nH]1)Nc1cc(Cl)c(Cl)cc1Cl',\n",
       " 'CC[C@@H](C)NC(=O)c1ccc2c(c1)CCCN2S(C)(=O)=O',\n",
       " 'COc1ccc(C)cc1-n1nnnc1SCC(=O)Nc1cc(C)cc(C)c1',\n",
       " 'C[C@H](NC(=O)Cc1ccc[nH]1)C(=O)N1CCCC[C@H]1C',\n",
       " 'CCOC(=O)[C@H]1CCCN(C(=O)c2cc(C(C)C)n(C)n2)C1',\n",
       " 'C[C@H]([NH2+]Cc1nc(Cc2ccccc2)no1)[C@@H](C)n1cccn1',\n",
       " 'c1cc(CN2CC[NH+](Cc3ccc4c(c3)OCCO4)CC2)no1',\n",
       " 'CCCCNC(=O)CCc1c(C)nc2c3ccccc3nn2c1C',\n",
       " 'O=C(C[C@@H]1C[NH2+]CCO1)N[C@H]1C=CS(=O)(=O)C1',\n",
       " 'C[C@@H]1CCO[C@@H]1C(=O)N1CC[C@H](C(N)=O)c2ccccc21',\n",
       " 'CCC[NH2+][C@H](Cc1nn(C)c2ccccc12)c1ncc[nH]1',\n",
       " 'CC(C)c1noc(-c2cc[nH+]c(N3CCN(C(=O)[C@H]4C[C@H]4C)CC3)c2)n1',\n",
       " 'O=C(NCc1cccnc1)NCc1ccnc(OCC(F)F)c1',\n",
       " 'C[C@@H](NC(=O)N1CCCCCCC1)[C@@H]1CCCO1',\n",
       " 'COc1ccc([C@H]2C(C(=O)NCc3ccccc3)=C(C)Nc3ncnn32)cc1OC',\n",
       " 'Cc1cc(=O)n2c(n1)SC[C@@H]2CC(=O)NCCC(C)C',\n",
       " 'CC(C)C1=CN=N[C@H]1[C@H]1CCC[NH+](C[C@@H](C)Cc2ccc3c(c2)OCO3)C1',\n",
       " 'COc1cc(CNC(=O)c2occc2Br)ccn1',\n",
       " 'Cc1cccc(COc2ccc(Br)cc2/C=C2\\\\SC(=S)NC2=O)c1',\n",
       " 'O=C(N[C@@H]1CCO[C@@H]1c1ccc(Cl)c(F)c1)[C@H]1Cc2ccccc2O1',\n",
       " 'Cc1ccc([C@]2([NH3+])CC[C@@H]2C)cc1',\n",
       " 'O=C(CNC(=O)c1ccco1)OCC(=O)c1ccc2ccccc2c1',\n",
       " 'O=C(c1cc2c(F)cccc2[nH]1)N(C[C@@H]1CCCO1)c1ccncc1',\n",
       " 'Cc1cc(C)c(NC(=O)c2cc3ccccc3n2C)c(C)c1',\n",
       " 'CSc1ccccc1NC(=O)N[C@@H](CO)c1ccc(Cl)cc1',\n",
       " 'Cc1cc(Br)ccc1CNC(=O)C1CC=CC1',\n",
       " 'COc1ccc(CN/C(C)=C2/C(=O)N(c3ccc(OC)cc3)N=C2C)cc1',\n",
       " 'O=C(COC(=O)C1(c2ccccc2F)CCCC1)N1CCOCC1',\n",
       " 'CC1(C)C(=O)NCC[NH+]1Cc1ccc(OCC(F)F)cc1',\n",
       " 'Cc1ccc([N+](=O)[O-])cc1C(=O)Nc1ccc(C(=O)NC(C)C)cc1',\n",
       " 'C[C@@H]([C@@H](O)c1ccc2ncnn2c1)[N+](=O)[O-]',\n",
       " 'C[C@H](Oc1ccc(Cl)c(Cl)c1)C(=O)NC[C@H]1CCC[C@@H]1O',\n",
       " 'COC[C@H]1CCC[NH+](Cc2cc(C)n(Cc3ccco3)c2C)C1',\n",
       " 'Cc1ccc([C@H](C)NC(=O)CN(C)C(=O)OC(C)(C)C)cc1F',\n",
       " 'CC(=O)NCCC(=O)N1CCC[C@@H](C)C1',\n",
       " 'COc1ccc(N2CCn3c2nn(CC(N)=O)c(=O)c3=O)cc1',\n",
       " 'ClC(Cl)(Cl)c1nonc1C(Cl)(Cl)Cl',\n",
       " 'CCc1sc(C(=O)N2CCN([C@@H](C(N)=O)c3ccccc3)CC2)cc1C',\n",
       " 'C[NH+](C)Cc1cc(NC(=O)CCCC(=O)N2CCCCCC2)[nH]n1',\n",
       " 'C[C@@H](Nc1ccc(COC(C)(C)C)cc1)c1ccc(C#N)cc1',\n",
       " 'NC(=O)c1ccc(NC(=O)c2cccn(Cc3ccc(F)cc3)c2=O)cc1',\n",
       " 'Cc1cc(C(=O)N2CC[C@H](C)C[C@H]2C)c2c(C)nn(C)c2n1',\n",
       " 'Cc1c(C(=O)N2CCCC2)oc2c1-c1nn(CC(=O)N3C[C@@H](C)C[C@@H](C)C3)cc1CC2',\n",
       " 'Cc1cc(C)cc(NC(=O)CC(C)C)c1',\n",
       " 'COc1cc(OC)cc([C@H]2CC[NH+](CCC(F)(F)F)C2)c1',\n",
       " 'CCn1ccnc(N2CCCC[C@@H](N3CC[NH+](C)CC3)C2)c1=O',\n",
       " 'C[C@@H]1CCC[C@](O)(c2ccc(Cl)s2)CC1',\n",
       " 'CCOC(=O)C[C@H](C)CNC(=O)C(=O)N1CCc2ccc(C)cc21',\n",
       " 'COc1ccccc1C[NH+]1CCC[C@H](N2CCCC2=O)C1',\n",
       " 'CCNc1ccc2c(OC)ccc(F)c2n1',\n",
       " 'Oc1ccc(C2[NH+](Cc3ccccc3)CC[NH+]2Cc2ccccc2)c(O)c1',\n",
       " 'Fc1ccc([C@@H]2C[C@@H](c3ccc(Br)cc3)Nc3ncnn32)cc1Br',\n",
       " 'COc1ccc(O)c(CNC2CC[NH+](Cc3ccccc3Cl)CC2)c1',\n",
       " 'Cc1ccc(NCc2cccc(C(=O)NCc3ccco3)c2)c(F)c1',\n",
       " 'Cc1c(C(=O)N(C)[C@@H]2CCN(c3ccccc3Cl)C2=O)cnn1C',\n",
       " 'Cc1nc(C(C)(C)C)[nH]c(=O)c1C(=O)Nc1cccc(Cl)c1C',\n",
       " 'CCOC(=O)[C@H]1CCCN(C(=O)c2cn(CCc3ccccc3)nn2)C1',\n",
       " 'C[C@@H]1[C@H](C(=O)[O-])CCN1S(=O)(=O)c1ccc(F)c(Cl)c1',\n",
       " 'CC1CCC(OC(=O)C2=NC3=C(C(=O)C[C@@H](c4ccccc4)C3)[C@H]2C)CC1',\n",
       " 'CN(Cc1ccno1)Cc1c(C(=O)N2CC[NH+](C3CCCCC3)CC2)nc2ccccn12',\n",
       " 'Cc1cc(F)c([C@@H]([NH3+])[C@H]2Cc3ccccc3O2)cc1F',\n",
       " 'COc1ccc(OCC(=O)N/N=C2\\\\CCCc3ccccc32)cc1',\n",
       " 'CC(C)[NH+]1CCC(N2CC[NH+](Cc3c(F)ccc(F)c3F)C[C@@H]2CCO)CC1',\n",
       " 'CC[NH2+][C@@H](C)c1cc(F)c(C)cc1N1C[C@H](C)S[C@H](C)C1',\n",
       " 'CC(C)c1nsc(NC[C@H](C2CC2)[NH+](C)C)n1',\n",
       " 'Cc1ccc(-c2nc(C[NH+]3CCCC[C@H]3c3cccnc3)c(C)o2)s1',\n",
       " 'COc1cccc(C2=C[C@H](C(=O)N3CCCCC3)N=N2)c1',\n",
       " 'O=C(Nc1ccc2[nH]c(=O)[nH]c2c1)c1cc(S(=O)(=O)NC2CC2)ccc1Br',\n",
       " 'c1ccc2c(c1)CC[C@H]([C@H]1CCCc3cccnc31)N2',\n",
       " 'Cc1ccc(NC(=S)NC(C)C)cc1C',\n",
       " 'C[C@@H](Nc1ccc2c(c1)CCC2)C(=O)N1CCCC1',\n",
       " 'CCOc1ccc(Nc2ccc(C#N)c([N+](=O)[O-])c2)cc1',\n",
       " 'CC(C)OC(=O)CCNC(=O)c1cnn(-c2ccc(F)cc2)n1',\n",
       " 'CCCCOc1ccccc1NC(=O)c1scnc1C1CC1',\n",
       " 'O=C1N=C(N2CCCCC2)S/C1=C1/C(=O)Nc2ccccc21',\n",
       " 'Cc1c([C@H](C)NC(=O)c2[nH]c3ccccc3c2Cl)cnn1C',\n",
       " 'CSc1cccc2sc(N3CCN(C(=O)c4ccn(C(C)C)n4)CC3)nc12',\n",
       " 'Cc1ccc(C)c2nc3sc(C(=O)Nc4ccc5c(c4)OCO5)c(N)c3cc12',\n",
       " 'COC(=O)CCN(Cc1cnc2ncccn12)C1CCOCC1',\n",
       " 'O=C(c1c[nH]c2ccc(F)cc12)N(CC1CC1)CC(F)(F)F',\n",
       " 'O=C(Cc1ccc(Cl)cc1)/N=C1/S[C@@H]2CS(=O)(=O)C[C@H]2N1c1cc(Cl)ccc1Cl',\n",
       " 'Cc1cccc(C)c1NC(=O)C[NH+]1CCC(OCc2ccc(F)cc2)CC1',\n",
       " 'C[C@H]1CCC[C@@H](C)N1C(=O)[C@@H]1COCCO1',\n",
       " 'CC(C)[C@@H](C)CC(=O)NNC(=S)NC1CCCCC1',\n",
       " 'Cc1cccc(NC(=O)CN2C(=O)/C(=C3\\\\SC(=S)N(Cc4ccco4)C3=O)c3ccccc32)c1',\n",
       " 'CC(=O)N[C@@H]1C(=O)C[C@@H]2[C@H]3CCC4=CC(=O)CC[C@@]4(C)[C@@H]3CC[C@]12C',\n",
       " 'CCCNC(=O)[C@H]1CS[C@H](c2ccccc2O)N1C(C)=O',\n",
       " 'Cc1ccc(N2CC[C@H](C(=O)NC[C@@H](CC(C)C)N3CCOCC3)C2=O)cc1',\n",
       " 'COc1ccc(NC(=O)CCc2ccc3c(c2)OCCO3)cc1OC',\n",
       " 'Cc1ccc(C(F)(F)F)cc1/C=C/C(=O)[O-]',\n",
       " 'Cc1ccccc1C(=O)Nc1ccc(N2CC[NH+](Cc3ccccc3)CC2)cc1',\n",
       " 'c1cc(C[NH2+]Cc2ccco2)cc(OC2CCCC2)c1',\n",
       " 'O=C(c1cccs1)N(Cc1ccc(F)cc1)Cc1cc(-c2ccccc2)cn2nnnc12',\n",
       " 'COc1ccccc1CC(=O)N[C@@H]1CS(=O)(=O)C[C@H]1Cl',\n",
       " 'c1cc(-c2nc3c4cn[nH]c4ncn3n2)ccc1COc1ccc2c(c1)CCC2',\n",
       " 'CN(C(=O)c1ccc(Cl)cc1O)C1CCC(=O)CC1',\n",
       " 'CNC(=O)CNS(=O)(=O)c1cccc(C(F)(F)F)c1',\n",
       " 'Cc1ccc(S(=O)(=O)N2C[C@@H](CC(=O)[O-])c3ccccc32)c(C)c1',\n",
       " 'Cc1cc(N)nc(SCC(=O)NC[C@@H](c2ccccc2)C(C)C)n1',\n",
       " 'Cn1cc(C(N)=O)c(NC(=O)c2ccc3sccc3c2)n1',\n",
       " 'COc1cc2c(cc1O)[C@H](c1cnc(-c3cccc(C)c3)nc1)CC(=O)N2',\n",
       " 'CC(=O)Nc1ccc(O[C@H](C)c2nc(C(C)(C)C)no2)cc1',\n",
       " 'O=C(c1c(-c2ccccc2)nc2sc3c(n12)CCCC3)C(F)(F)F',\n",
       " 'CC(C)CNC(=O)NC(=O)[C@@H](C)Nc1ccc(OC(C)C)cc1',\n",
       " 'C=C[C@](C)(O)CC[C@H]1C(C)=CC(=O)[C@H]2C(C)(C)CCC[C@@]21C',\n",
       " 'CC[C@H](C)Sc1nncn1-c1ccccc1C',\n",
       " 'COCC(=O)N1CCCc2ccc(NC(=O)c3cccc(Br)c3)cc21',\n",
       " 'C[C@H](Oc1cccc(Cl)c1)C(=O)Nc1ccc2ccccc2c1',\n",
       " 'Cc1cc(Br)ccc1SCC(=O)N1CCC(C(=O)c2ccc3c(c2)OCCO3)CC1',\n",
       " 'Nc1ccc2c(c1)CN(C(=O)c1ccc(Cl)cn1)CC2',\n",
       " 'C[C@H](CN(C)C(=O)c1ccc(F)c(F)c1F)C(=O)[O-]',\n",
       " 'NC(=O)c1ccc(SCC(=O)Nc2ccc3c(c2)Cc2ccccc2-3)c([N+](=O)[O-])c1',\n",
       " 'CN(C(=O)CSCC(F)(F)F)c1cccc([N+](=O)[O-])c1',\n",
       " 'C=CCn1c(SCC(=O)Nc2cc(C)on2)nnc1[C@H]1COc2ccccc2O1',\n",
       " 'CC(=O)N[C@@H](CC(=O)Nc1ccnn1Cc1ccc(C)o1)c1ccccc1',\n",
       " 'CNC(=O)Cc1nc(C[NH+](C)C2CCC(c3ccccc3)CC2)cs1',\n",
       " 'COCCOc1c(Cl)cccc1NC(=O)Cc1c[nH]c2ccccc12',\n",
       " 'COCCN1[C@@H](C)CN(C(=O)C[NH+](C)C2CC2)C[C@H]1C',\n",
       " 'CSc1nncn1/N=C\\\\c1cc(Cl)ccc1F',\n",
       " 'CC(C)(C)OC(=O)N1CC[C@H]2CC(=O)[C@H]2C1',\n",
       " 'C[C@@H](CCO)SCc1ccccc1OC(F)F',\n",
       " 'C[C@@H]1C[C@@H]1C(=O)Nc1ccc(F)cc1C(=O)NC1CCC(O)CC1',\n",
       " 'COc1ccccc1CNC(=O)COc1ncnc2oc(C)c(C)c12',\n",
       " 'Fc1ccc(F)c(C[NH+]2CCC(n3cc(-c4cccnc4)nn3)CC2)c1F',\n",
       " 'O=C(C[NH+]1CCC(C(=O)c2ccc(Cl)cc2)CC1)NC[C@H]1COCCO1',\n",
       " 'CCC[NH+](C)C[C@H]1CCN(C(=O)Nc2cc(NC(C)=O)ccc2C)C1',\n",
       " 'Cc1nc2ncnn2c(NCCOC2CCCCCC2)c1C',\n",
       " 'C[C@H]1CN(Cc2cnn(-c3ccccc3)n2)C[C@H](C)S1',\n",
       " 'COc1cc(OC)cc([C@@H](N[C@@H](C)c2ccc(F)cn2)c2[nH+]ccn2C)c1',\n",
       " 'CC(C)CCc1noc(C[NH+](C)[C@H]2CCC[C@@H]2S(C)(=O)=O)n1',\n",
       " 'CCc1nc2n(n1)CCC[C@H]2NC(=O)c1ccc(-n2cc(C)cn2)cc1',\n",
       " 'C[C@@H](NC(=O)c1ccccc1CSc1nc2ccccc2[nH]1)C1CC1',\n",
       " 'O=C([C@H]1CCCN1S(=O)(=O)N1CCCCC1)N1CCSCC1',\n",
       " 'Cn1c(=O)c(=O)n(CC(=O)N2CCC3(CC2)OCCO3)c2cccnc21',\n",
       " 'COc1ccc(C(=O)N(CC2=CC=C[C@@H]3N=CC=C23)C2CC2)cc1',\n",
       " 'CCc1ccc(-c2nc(N)ccc2[N+](=O)[O-])cc1',\n",
       " 'c1csc([C@@H]2CN(Cc3cnc(C4CCC4)s3)CCO2)c1',\n",
       " 'O=S(=O)(/N=C(\\\\[O-])c1ccsc1)N1CCCC1',\n",
       " 'Cc1nccn1CC(=O)N1CCCC[C@@H]1CCNC(=O)c1ccccc1',\n",
       " 'C[C@H](Sc1nnc(-c2ccc(Cl)cc2)n1C[C@H]1CCCO1)C(=O)Nc1ccc2c(c1)OCO2',\n",
       " 'COc1ccc(-n2nnc(-c3nc(-c4ccc5c(c4)OCO5)cs3)c2C)cc1OC',\n",
       " 'CN(c1ccccc1)S(=O)(=O)c1ccc2c(c1)C(C)(C)C(=O)N2',\n",
       " 'Cc1cc(S(=O)(=O)N2CCN(C(=O)[C@H]3C[C@H]3c3ccc(Cl)cc3)CC2)c(C)s1',\n",
       " 'O=C(Nc1ccc(Oc2ccc(Cl)nn2)cc1)[C@@H](O)c1ccccc1',\n",
       " 'CCCc1cc(=O)n2c(n1)SC[C@@H]2CC(=O)Nc1cccc(Cl)c1Cl',\n",
       " 'Cc1ccc(NC(=O)CSc2nnc([C@@H]3CCCN3C(=O)c3cccc(C)c3)n2C)cc1',\n",
       " 'Cc1noc(C)c1CCCNC(=O)N[C@H]1CC(=O)N(C2CC2)C1',\n",
       " 'CC(C)(C)[C@@H]1CCC(=O)[C@@H](CN2CCOCC2)C1',\n",
       " 'COc1cc(/C=C2\\\\SC([N-]c3cccc(C(=O)[O-])c3)=NC2=O)cc(OC)c1O',\n",
       " 'C=CCO[C@H](C)C(=O)Nc1ccc(F)cc1Br',\n",
       " 'O=C(CN1CCN(Cc2ccc(F)c(F)c2)CC1)c1cccs1',\n",
       " 'CC[NH+]1C[C@H](c2ccccc2)CC2(CCN(C(=O)c3ccon3)CC2)C1',\n",
       " 'C[C@H]1C[C@H]([NH+]2CC[C@H](S(=O)(=O)NC3CC3)C2)CC(C)(C)C1',\n",
       " 'CC[C@H](Sc1cc(C)c2cccc(C)c2n1)C(=O)Nc1nc2ccc(S(N)(=O)=O)cc2s1',\n",
       " 'COC(=O)[C@]1(NC2CC2)CC[C@H](Sc2ncc(C)cn2)C1',\n",
       " 'COc1ccccc1Nc1nn(CN(C)OC)c(=S)s1',\n",
       " 'Cc1cc(C)c(C)c(S(=O)(=O)/N=C(\\\\[O-])c2cc(C3CC3)n(C(C)(C)C)n2)c1C',\n",
       " 'CC(C)(O)C#Cc1ccc(C[NH2+][C@H]2CCCN(c3nc4ccccc4s3)C2)s1',\n",
       " 'COc1ccc(OC)c(S(=O)(=O)n2cc3c(=O)n(C)c(=O)n(C)c3n2)c1',\n",
       " 'C/[NH+]=C(/NCc1noc(C(C)(C)C)n1)N[C@@H](C)c1ccc(F)cc1F',\n",
       " 'Cc1nnsc1C(=O)Nc1nnc(-c2ccc(Br)cc2)o1',\n",
       " 'CCN(Cc1ccc(OC)c(OC)c1)C(=O)C[NH+]1CC[C@@H](C)[C@H](O)C1',\n",
       " 'O=C([O-])[C@H]1CCCCN1C(=O)CSCc1ccccc1',\n",
       " 'Cc1cccc([C@H](O)C[C@@H]2CCCCC[NH2+]2)c1',\n",
       " 'O=C(C1CCCCC1)N1CCN(Cn2cc(Br)cn2)CC1',\n",
       " 'Cc1ccccc1COc1ccc([C@@H]2C3=C(CCCC3=O)Nc3nnnn32)cc1',\n",
       " 'CCO[C@@H]1C[C@@H]([NH+](C)C[C@@H]2CCCN(S(C)(=O)=O)C2)C12CCCCC2',\n",
       " 'CCn1c(=O)c(=O)[nH]c2cc(C(=O)NN3C(=O)N[C@](C)(c4ccccc4)C3=O)ccc21',\n",
       " 'COc1cc(OC)cc([C@@H](NC(=O)N(C)C2CCCCC2)c2nccn2C)c1',\n",
       " 'O=C1[C@H]2[C@@H]3C=C[C@@H](C3)[C@H]2C(=O)N1CN(C(=O)C(F)(F)F)c1cccc(C(F)(F)F)c1',\n",
       " 'CCNc1ncc(COc2cccc3ccccc23)s1',\n",
       " 'Cc1noc(C)c1CCCNC(=O)c1c(C)nn(Cc2ccccc2)c1C',\n",
       " 'C[C@H]1CC([NH2+][C@@H](C)c2c[nH]c3cc(F)ccc23)C[C@H](C)O1',\n",
       " 'C/C(=C1/SC(=O)N(c2ccc(Cl)cc2)C1=O)c1ccc(Br)cc1',\n",
       " 'Cc1ccc(NC(=O)C[C@H]2SC([N-]c3ccc(N(C)C)cc3)=NC2=O)c(C)c1',\n",
       " 'CO[C@H]1CCCC[C@H]1NC(=O)NC[C@H](c1cccc(F)c1)[NH+](C)C',\n",
       " 'Cc1nn(C)c(C)c1CN[C@H]1CCC[NH2+]C1',\n",
       " 'Cc1cc(=O)[nH]c(SCC(=O)N2C[C@]3(C)C[C@H]2CC(C)(C)C3)n1',\n",
       " 'COC1CC[NH+](Cn2nc(-c3ccc(C)cc3)n(C)c2=S)CC1',\n",
       " 'C[NH2+][C@]1(C(=O)[O-])CCC[C@@H](OCC2CCCCC2)C1',\n",
       " 'Cc1nnc(SCC(=O)c2cc(C)n(CC(F)(F)F)c2C)s1',\n",
       " 'CC(C)CN(CCC#N)C(=O)NC[C@@H]1CC[C@H](C(=O)[O-])O1',\n",
       " 'Cc1cc(CN2CCN3C(=O)NC[C@@H]3C2)cc(C)c1OC(F)F',\n",
       " 'CCNC(=O)c1cccc(NC(=O)NCCCSC)c1',\n",
       " 'Cn1c(-c2cccc3ccccc23)nn(CN2CCOCC2)c1=S',\n",
       " 'CCCCCN1C(=O)/C(=C/c2ccc(O)c(OCC)c2)SC1=S',\n",
       " 'N#CCCN(Cc1ccccc1)C(=S)NC(=O)c1cccc(Cl)c1',\n",
       " 'CCCS(=O)(=O)c1ccccc1C(=O)Nc1nnc(CC)s1',\n",
       " 'CNC(=O)[C@H](C)CN(C)Cc1cc(=O)n2cccc(C)c2[nH+]1',\n",
       " 'COCCNC(=O)/C(C#N)=C/c1cccc(O)c1',\n",
       " 'CNC(=O)CN1c2ccccc2C(=O)N(C)[C@H]1c1ccccc1O',\n",
       " 'CC(=O)N[C@H](C)C(=O)Nc1ccc(Sc2nncs2)c(Cl)c1',\n",
       " 'CC[n+]1c(N)n(CCOc2ccc(Cl)cc2Cl)c2ccccc21',\n",
       " 'COC(=O)CCCc1nnc(NC(=O)N2CCC[C@@H]3CCC[C@@H]32)s1',\n",
       " 'O=C(N[C@H]1CCCC[C@H]1OC1CCCC1)c1ccc([N+](=O)[O-])cc1',\n",
       " 'O=C(CCOc1ccccc1)NNC(=O)CC1(O)CCCC1',\n",
       " 'C=CCN(CC(=O)[O-])C(=O)[C@@H](C[NH3+])C(C)C',\n",
       " 'O=C(CCn1ccccc1=O)NCC1(c2ccccc2)CC1',\n",
       " 'COc1cc(C)c([C@@H](C)NC(=O)CSC2CCCC2)cc1OC',\n",
       " 'C=CCNC(=O)Nc1ccc(F)c(NC(=O)OC)c1',\n",
       " 'Oc1ccccc1/C=[NH+]/CCC/[NH+]=C/c1ccccc1O',\n",
       " 'Cn1cccc1Cc1nnc(SCC(=O)Nc2ccc3c(c2)OCCO3)n1C',\n",
       " 'C[C@@H](C#N)CNC(=O)c1cccc(Oc2cccc(C(F)(F)F)c2)c1',\n",
       " 'Cc1oc(-c2ccccc2)nc1CCNC(=O)c1ccc([S@@](C)=O)cc1',\n",
       " 'CCc1noc(C)c1C[NH+](C[C@@H]1CCCCO1)C(C)C',\n",
       " 'Cc1ccccc1Oc1cc(Br)ccc1C[NH3+]',\n",
       " 'CCc1cccc(CC)c1NC(=O)NC1CC1',\n",
       " 'CC[NH+]1CCN(C2(CNC(=O)c3ccccc3Br)CCCCC2)CC1',\n",
       " 'CCCCn1nc(C)c(C[NH2+]C[C@@H](C)O)c1Cl',\n",
       " 'C/C=C/C=C/C(=O)N1C[C@@H](C(=O)OC)[C@@H](C)C1',\n",
       " 'COc1cccc(OC)c1OC1CC[NH+](Cc2ccc([C@H]3C[C@@H]3C)o2)CC1',\n",
       " 'COC(=O)c1cc(CSc2nnc(-c3cccnc3)n2-c2ccccc2F)oc1C',\n",
       " 'CCOc1ccc2cc(C(=O)NCc3ccccc3)c(=[NH2+])oc2c1',\n",
       " 'O[C@H]1CCN(c2ccnc(N3CCc4[nH]c5ccc(Cl)cc5c4C3)n2)C1',\n",
       " 'O=S(=O)(NC[C@H](O)c1ccc(C(F)(F)F)cc1)c1cc(F)ccc1F',\n",
       " 'O=C(CSc1ccc2c(c1)OCCCO2)NC(=O)c1cccs1',\n",
       " 'C[NH+](C)CCSc1ccc(NC(=O)C2CC2)nn1',\n",
       " 'Cc1ccc(C)c(NC(=S)NCCc2cccs2)c1',\n",
       " 'CNc1ncc(F)c(-c2cccc(Cl)c2)n1',\n",
       " 'Cc1ccc(-c2nnc(SCC(=O)Nc3ccc(CC#N)cc3)n2N)cc1',\n",
       " 'CCN(CC)C(=O)c1ccccc1OC(C)=O',\n",
       " 'Cc1ccc(-c2nc(-c3ccc(OCC(F)(F)F)nc3)no2)cc1',\n",
       " 'COc1ccc([C@@H](CNc2nc3ccccc3o2)N2CCOCC2)cc1',\n",
       " 'CNC(=O)[C@H]1CCCC[C@H]1[NH2+][C@H](C)c1cc(C)cc(C)c1',\n",
       " 'CCN[C@H](c1cccnc1)C1([NH+]2CCCCC2)CCCC1',\n",
       " 'Cn1ncc2c(NCc3ccco3)nc(CCc3ccccc3)nc21',\n",
       " 'Cn1cc[nH+]c1C[C@H]1CCC[NH+](Cc2ncc(-c3ccccc3Cl)o2)C1',\n",
       " 'Cc1cc(N2CC[C@H](C)[C@H](O)C2)nc(C)[nH+]1',\n",
       " 'Cc1nnc(CCC[NH+]2CCC(CC[NH+]3CCCC[C@@H]3C)CC2)o1',\n",
       " 'CCc1nn(C)cc1CNC(=O)C1(CC)CCC1',\n",
       " 'COc1ccc(N2/C(=N/C(=O)CCCC(=O)[O-])S[C@@H]3CS(=O)(=O)C[C@H]32)cc1Cl',\n",
       " 'CC(=O)C1=C([O-])C(=O)N(CCC2=c3ccccc3=[NH+][C@H]2C)[C@H]1c1ccccc1F',\n",
       " 'COc1cc(C)c(C(=O)N[C@H]2C[C@H](C)N(c3ccccc3)C2)cc1OC',\n",
       " 'Cc1ccc([C@H]2C[C@@H]2NC(=O)N2CCC(C(N)=O)CC2)cc1C',\n",
       " 'Cc1nc2n(n1)CCC[C@@H]2N[C@@H]1CCc2c(Cl)cc(Cl)cc21',\n",
       " 'CC(C)Oc1ccc(-c2nc(C(=O)O[C@@H](C)[C@@H]3CCOC3)cs2)cc1',\n",
       " 'CN(C[C@@H]1CCCN(C(=O)NCCc2ccc(F)cc2)C1)C(=O)OC(C)(C)C',\n",
       " 'COc1cc(Cl)c(C)cc1NC(=O)[C@H](C)N1CCN(S(=O)(=O)c2c(C)noc2C)CC1',\n",
       " 'Cc1nc(-c2ccc(Cl)s2)sc1C(=O)N[C@H]1C[C@H]1C',\n",
       " 'COc1cc(F)c([C@H]([NH3+])c2ccc(SC)cc2)cc1OC',\n",
       " 'Cc1ccc(-n2ccnc2SCC(=O)N(CC(N)=O)C(C)C)cc1C',\n",
       " 'Cc1cccc(/C=C2\\\\SC(=S)N(c3c(C)cccc3C)C2=O)c1',\n",
       " 'CC1=C(C(=O)OC(C)C)[C@H](C)N=C1C(=O)Nc1ncc(C)s1',\n",
       " 'COC(=O)c1cccc(C(=O)N2C[C@@H](c3ccc(F)cc3)C[C@H]2C)c1',\n",
       " 'O=C(NCCCn1ncccc1=O)[C@@H]1CC(=O)N(c2ccccc2)C1',\n",
       " 'CCC(=O)N1CCCN(C(=O)N[C@@H]2CCc3ccccc32)CC1',\n",
       " 'Cc1cccc([C@@H](C)[NH2+]CCS(=O)(=O)C(C)(C)C)c1C',\n",
       " 'Cc1ccc(-c2cnc(CCC(=O)NCC(C)(C)c3ccncc3)o2)cc1',\n",
       " 'Cc1cc(NN)c2cccc(OC(F)(F)F)c2[nH+]1',\n",
       " 'C[C@H]1CCC[C@@H](C(=O)Nc2cccc(OCCc3ccccc3)c2)[NH2+]1',\n",
       " 'Cn1ncnc1CCNC(=O)[C@H]1C[C@@H]1c1cc(Cl)cc(Cl)c1',\n",
       " 'CC[C@H](Sc1nnc2cc(C)c3cc(C)cc(C)c3n12)C(=O)Nc1nnc(COC)s1',\n",
       " 'CCOc1ccc(S(=O)(=O)N2CCC(c3nnc(C4CC4)o3)CC2)cc1',\n",
       " 'Cc1cc2nc(C)c(CCC(=O)NC[C@@H](c3ccccc3)N3CCOCC3)c(C)n2n1',\n",
       " 'COc1ccc(N2C(=O)CS[C@H]2c2ccc(Cl)cc2)cc1Cl',\n",
       " 'C/C=C(\\\\C)[C@@H]1C=C[C@@H]2C[C@H](C)C[C@H](C)[C@@H]2[C@@H]1C(=O)C1=C([O-])[C@H](C[C@](C)(O)C(=O)[O-])NC1=O',\n",
       " 'CS(=O)(=O)c1ccc(NC(=O)N2CCC[C@H]2CC2CCCCC2)cc1',\n",
       " 'COc1ccc(C(=O)OCc2nc3ccccc3s2)cn1',\n",
       " 'COc1ccc(S(=O)(=O)Nc2ccccc2-n2nc(C)cc2C)cc1NC(C)=O',\n",
       " 'Cn1c(=O)n(CC(=O)N[C@@H]2CCCc3ccc(F)cc32)c2ccccc21',\n",
       " 'N#C/C(C(=O)NC1CCCC1)=C(/[O-])Cc1cnn(-c2ccccc2)c1',\n",
       " 'NC(=O)[C@H](Nc1cccc(Oc2ccccc2)c1)c1ccc(F)cc1',\n",
       " 'CCN(C[C@@H]1CCOC1)C(=O)Nc1cc2c(cc1Cl)OCCO2',\n",
       " 'CCCCc1nnc(NC(=O)C2CCN(S(=O)(=O)c3ccc(C)cc3)CC2)s1',\n",
       " 'CC[C@@H](NC(=O)c1ccc(Br)o1)C(=O)N1CCOCC1',\n",
       " 'CC[C@]1(c2ccccc2)NC(=O)N(CCOc2ccc(Cl)cc2Cl)C1=O',\n",
       " 'COc1ccc(OC)c(NC(=O)c2ccc3c(c2)C(=O)N(c2cc(C)on2)C3=O)c1',\n",
       " 'Cc1ccc(OCC(=O)NC(=S)NC[C@H]2CCCO2)cc1',\n",
       " 'CN(C(=O)CCOc1cccc(C(N)=O)c1)[C@H]1CCC[NH+](C)C1',\n",
       " 'COC(=O)c1ccc(NC(=O)c2c(C)sc3ncnc(N4CCC[C@H](C)C4)c23)cc1',\n",
       " 'Cn1ncc2c1CC/C(=C\\\\c1ccc(-n3cncn3)c(F)c1)C2=O',\n",
       " 'O=C(Cc1ccc([N+](=O)[O-])cc1)NCC1(O)CCOCC1',\n",
       " 'C=CCOc1ccc(CNc2ccc(OC)cc2)cc1',\n",
       " 'C[C@H]1N=C(CCNC(=O)CCC2=c3ccccc3=[NH+]C2)CS1',\n",
       " 'COC(=O)c1cc(NC(=O)[C@@H]2CCO[C@H]2C)ccc1C',\n",
       " 'COc1ccccc1[C@@H](C)NC(=O)c1cnc2c(C)cccn2c1=O',\n",
       " 'CC[C@@H](C)NS(=O)(=O)c1cc(N2C(=O)[C@@H](C)CS2(=O)=O)ccc1OC',\n",
       " 'CC(C)(C)NS(=O)(=O)c1ccc(OCC(=O)N2CCOCC2)cc1',\n",
       " 'COCCCNC(=O)[C@H]1CN(C(=O)c2cccs2)CC12CCCCC2',\n",
       " 'Cc1nc(-n2cccc2)sc1C(=O)Nc1cccc(-c2cn3ccsc3n2)c1',\n",
       " 'CC[S@](=O)[C@H]1CCCC[C@@H]1NC(=O)NC[C@H](O)c1ccco1',\n",
       " 'Cc1cc2ncn(C[C@H]3CC3(Cl)Cl)c2cc1C',\n",
       " 'Cc1ccccc1OCC(=O)O[C@@H](C)c1nccs1',\n",
       " 'C[C@H](C(=O)N1CCOCC1)[NH+]1CCN(Cc2ccc3c(c2)OCO3)CC1',\n",
       " 'CCN(C(=O)[C@@H]1Cc2ccccc2S1)[C@H]1CCC[C@@H]1C[NH3+]',\n",
       " 'Cc1cc(Br)ccc1NC(=O)[C@@H](C)[NH+](C)Cc1cccs1',\n",
       " 'COC(=O)[C@H]1CCC[C@H]1NC(=O)Nc1ccc(C)cc1C',\n",
       " 'CC(C)NS(=O)(=O)c1ccc(C(=O)N[C@H](C)c2ccccc2Br)cc1',\n",
       " 'CC(C)OCCN1CCN(C(=O)Nc2ccccc2C(F)(F)F)CC1',\n",
       " 'CCn1cc(-c2nc(-c3cccc(Cl)c3)no2)c(=O)c2ccccc21',\n",
       " 'COC[C@@H](C)NC(=O)C(=O)Nc1cc(-c2ccccc2)nn1C(C)C',\n",
       " 'C#CCOc1ccccc1CN1CCN(C2=[NH+]C[C@@H](C)S2)CC1',\n",
       " 'COCCNC(=O)[C@H]1CCCN1S(=O)(=O)c1ccc(Br)cc1',\n",
       " 'Cc1ccc(C[C@H](O)c2c(F)cc(Br)cc2F)cc1',\n",
       " 'COC(=O)[C@@]1(NC2CCCC2)CCCS[C@H]1C',\n",
       " 'CCC[NH2+][C@H](Cc1ccccc1)[C@@H]1CN(CC)CCO1',\n",
       " 'C=CCn1c(=O)c2c(nc3n2[C@H](C)C(C)=NN3C)n(C)c1=O',\n",
       " 'C[C@H]1CCCC[C@H]1NC(=O)c1cc(S(=O)(=O)N2CCOCC2)ccc1Cl',\n",
       " 'COCCn1ccc2ccc(NC(=O)NCCc3ccccn3)cc21',\n",
       " 'Cc1nc(CNC(=O)C(=O)Nc2cc(Cl)ccc2Cl)no1',\n",
       " 'CS[C@@H]1CC[C@H](NC(=O)CCC(=O)c2ccc(C)s2)C1',\n",
       " 'Cc1nc(/C=N/Nc2ccc(Cl)nn2)c[nH]1',\n",
       " 'O=C(CSc1nnnn1C1CC1)N[C@H](CO)C(=O)[O-]',\n",
       " 'O=C(COc1ccc(Br)cc1)N[C@H]1CCS(=O)(=O)C1',\n",
       " 'CCc1nnc(NC(=O)c2ccccc2N)s1',\n",
       " 'O=C([O-])c1ccccc1-c1ccc(/C=C2\\\\C(=O)N(c3cccc(Br)c3)C(=O)N=C2[O-])o1',\n",
       " 'COc1ccc(-c2csc(NC(=O)c3ccc(S(C)(=O)=O)cc3)n2)cc1OC',\n",
       " 'COc1ccc(Cn2ccc3nc(N4CCN(c5ccccc5)CC4)ncc3c2=O)cc1',\n",
       " 'Cc1nn(C)cc1/C=N/NC(=O)c1ccncc1',\n",
       " 'N#Cc1ccc(OC2CCC(NC(=O)c3ccc[nH]3)CC2)nc1',\n",
       " 'CC(C)c1ccc2oc(-c3ccc(C[NH3+])cc3)nc2c1',\n",
       " 'COc1ccc([C@@H]2NC(=O)N[C@@](O)(C(F)(F)F)[C@H]2C(=O)c2ccc(F)cc2)cc1OC',\n",
       " 'Cc1cc(NC(=O)c2cccc([N+](=O)[O-])c2C)n(-c2ccccc2F)n1',\n",
       " 'CCC(=O)N1CCCC[C@@H]1C(=O)NCCc1ccc(F)cc1C',\n",
       " 'Cc1ccc(S(=O)(=O)N2C(N)=C(C#N)[C@H](c3ccc(Cl)cc3)[C@H]2C(=O)c2ccccc2)cc1',\n",
       " 'C[NH+](C)[C@@H]1CC[C@H](NC(=O)[C@@H]2CCCc3[nH]ncc32)C1',\n",
       " 'CCOCCS(=O)(=O)[N-]c1cc(Br)ccc1O',\n",
       " 'NC1=NC(=O)[C@H](CC(=O)N2CC[C@H](c3ccccc3)C2)S1',\n",
       " 'Cc1noc(-c2cccnc2N2CC[C@H](NC(=O)COc3ccc(F)cc3)C2)n1',\n",
       " 'Cc1ccc(OC(=O)c2cccc(C(=O)Oc3ccc(C)cn3)n2)nc1',\n",
       " 'CN(CC1CCCC1)C(=O)C(=O)Nc1cccc(SC(F)F)c1',\n",
       " 'COc1cccnc1N(C)C(=O)C[C@H](C)Cc1ccc(Cl)cc1',\n",
       " 'O=C(c1cc(=O)[nH]c2ccccc12)N1CCC([C@H](O)c2ccccc2)CC1',\n",
       " 'CCO[C@@H]1C[C@@H]([NH3+])[C@@H]1Nc1ncc(Cl)cc1F',\n",
       " 'CC(=O)Nc1ccc(NC(=O)c2ccc3c(c2)Cc2ccccc2-3)cc1',\n",
       " 'COCCOC[C@H]1CC[NH+](C2C[C@@H](C)O[C@H](C)C2)C1',\n",
       " 'O=C1OC(c2ccccc2OC(F)F)=N/C1=C\\\\c1cccc(F)c1',\n",
       " 'COc1ccccc1CNC(=O)c1cc2sccc2n1Cc1cccc(F)c1',\n",
       " 'CCOC(=O)C1(NCc2nnc(-c3cc(C)oc3C)o2)CCCC1',\n",
       " 'N#Cc1cccc(NC(=O)N2CCC(NC(=O)CC3CCCC3)CC2)c1',\n",
       " 'CCOC(=O)C1=C(c2ccccc2)Nc2ncnn2[C@H]1c1ccc(SC)cc1',\n",
       " 'Cc1cc(NC(=O)N[C@@H](Cc2ccccc2)c2ccccc2F)n(C)n1',\n",
       " 'C[C@H](Sc1cccc[n+]1[O-])C(=O)NC[C@H]1COc2ccccc2O1',\n",
       " 'O=C(NCCOc1ccc2c(c1)OCO2)c1cc(C2CC2)on1',\n",
       " 'N#CCC[NH2+]C1(C(=O)[O-])CC1',\n",
       " 'CC[C@@H](Oc1ccccc1OC)C(=O)NCc1ccccn1',\n",
       " 'Cc1nc(C[C@@H](N)[C@]2([NH+](C)C)CCC[C@H](C)C2)cs1',\n",
       " 'CCOc1ccccc1/C=C1\\\\Oc2c(ccc([O-])c2C[NH+]2CCN(C)CC2)C1=O',\n",
       " 'CC(C)Cn1cc[nH+]c1CN[C@@H](c1ccccc1)C(C)C',\n",
       " 'Cc1c(C[NH+]2CCC[C@H]2c2ccc3c(c2)OCO3)cc(C#N)n1C',\n",
       " 'O=C(CBr)c1cnc2ccc(Cl)cn12',\n",
       " 'COc1ccc(F)cc1NC(=O)c1sccc1S(=O)(=O)N(C)C',\n",
       " 'COc1ccc(Br)cc1/C=C1/C(=O)NN(c2ccc(C)c(C)c2)C1=O',\n",
       " 'CC(C)(C)c1ccc(C(=O)N[C@H]2CCN3CCCc4cccc2c43)cc1',\n",
       " 'CC[NH+]1CCC[C@@]2(CC1)C[NH+]=C(N)N2c1ccc(C)cc1',\n",
       " 'CN(C)c1ccc(/C=C(/C#N)C(=O)c2cccc(C#N)c2)cc1',\n",
       " 'CCCC[C@@H](NC(N)=O)C(=O)Nc1cc(OC)ccc1F',\n",
       " 'COC1=CC2=NC(SCc3cc(-c4ccccc4)on3)=NC2=CC1',\n",
       " 'Cc1ccc([C@@](C)(O)CNC(=O)NC[C@@H](c2ccco2)[NH+]2CCCCC2)o1',\n",
       " 'C[C@@H](NC(=O)CSc1ccc2c(c1)OCCCO2)c1ccc2ccccc2c1',\n",
       " 'CCN1CCN(S(=O)(=O)c2cc(-c3csc(C)n3)ccc2C)CC1',\n",
       " 'Cc1nccn1Cc1ccc(NC(=O)c2cccc(-n3cccc3)c2)cc1',\n",
       " 'Cc1cccc([S@@](=O)Cc2ccc(N)c(F)c2)c1',\n",
       " 'CC(C)C[C@@H](C[NH3+])c1nc(C2CCOCC2)no1',\n",
       " 'CC1=NC(SCC(=O)Nc2ccccc2C(F)(F)F)=NC(=O)[C@H]1Cc1ccccc1',\n",
       " 'Cc1ccc(F)cc1NC(=O)C(=O)NCCCn1cc[nH+]c1',\n",
       " 'COc1cccc(C[NH2+]Cc2cccc(Br)c2OC)c1OC',\n",
       " 'Nc1cc(=O)[nH]c(SCC(=O)Nc2nc(-c3ccc(Br)cc3)cs2)n1',\n",
       " 'CCc1noc(CN(CC)C(=O)C(C)(C)NC(=O)c2cccs2)n1',\n",
       " 'CC(C)C[C@](C)(O)CNC(=O)CC[C@H](C)O',\n",
       " 'C=C[C@@H](C)NC(=O)c1c(C)cc(C)c([N+](=O)[O-])c1C',\n",
       " 'O=C(Nc1ccc(S(=O)(=O)NC[C@@H]2CCCO2)cc1)[C@H]1CC(=O)N(c2ccc(F)c(Cl)c2)C1',\n",
       " 'CC1(C)CCC[C@H]1N1C(=O)c2cccc(N)c2C1=O',\n",
       " 'CCCNC(=O)NC(=O)CN1C(=O)N[C@](Cc2ccccc2)(c2ccccc2)C1=O',\n",
       " 'O=C(COc1cc(Cl)c(Cl)cc1Cl)N1CCN(C(=O)Nc2ccccc2)CC1',\n",
       " 'CCc1nc2n(n1)C[C@H]([NH2+]CCNS(=O)(=O)c1ccccc1)CC2',\n",
       " 'CCCCN(C(=O)c1oc2ccccc2c1C)c1c(N)n(CCC)c(=O)[nH]c1=O',\n",
       " 'CCCn1c(S[C@H](C(N)=O)c2ccccc2)nc2sc(CC)cc2c1=O',\n",
       " 'COc1cccc(CCNC(=O)CN2CCN(c3ccccc3O)CC2)c1',\n",
       " 'c1ccc2c(NCc3nnc(C4CCC4)o3)cccc2c1',\n",
       " 'CC1=C(C(=O)C2=C([O-])C(=O)N(CC[NH+](C)C)[C@H]2c2cccc(Cl)c2)[C@H](C)N=N1',\n",
       " 'CCOc1ccc([C@@H]2Nc3ccc(C(=O)N(C)C)cc3[C@H]3C=CC[C@H]32)cc1',\n",
       " 'COc1ccc(Cc2sc(NC(=O)[C@H]3COc4ccccc4O3)nc2C)cc1',\n",
       " 'Cc1cnc2nc(C[C@H](O)C(F)(F)F)[nH]c2c1',\n",
       " 'CCN(CC(C)(C)O)C(=O)COCc1ccccc1Cl',\n",
       " 'O=C(Nc1cccc2ccccc12)NC1CC[NH+](CC(F)F)CC1',\n",
       " 'O=C1C(=O)N(CC[NH+]2CCOCC2)[C@@H](c2cccc([N+](=O)[O-])c2)/C1=C(\\\\O)c1cccs1',\n",
       " 'CC[C@@H](C)N(CC)C(=O)c1ccccc1N',\n",
       " 'Cc1cc(C)c(C(=O)Cn2nc(N)n(Nc3cccs3)c2=S)c(C)c1',\n",
       " 'C[C@H]1CN(C(=O)CC[C@H](C)c2ccccc2)C(C)(C)CO1',\n",
       " 'CN(C)c1nc2c(c(-c3ccc(S(C)(=O)=O)cc3)n1)CCCC2',\n",
       " 'CC(C)c1ccc(CNC(N)=[NH2+])cc1',\n",
       " 'CN(C)N1C(N)=C(C#N)[C@@H](c2cccs2)C2=C1CCCC2=O',\n",
       " 'O=C(N[C@H]1C=C[C@H](C(=O)[O-])C1)c1cc(F)c(Cl)cc1Cl',\n",
       " 'CC(C)n1nnnc1COc1cccc(C(=O)NC2CCCCCC2)c1',\n",
       " 'O=S(=O)(NCc1ccc(Cl)cc1Cl)c1ccccc1Br',\n",
       " 'COC[C@H](NC(=O)c1cc(-c2ccccc2)c(C)[nH]c1=O)C(N)=O',\n",
       " 'O[C@H]1CCCCC[C@H]1n1cc(-c2ccccc2Cl)cn1',\n",
       " 'CC1=C[C@@H](C)[C@H]2C(=O)N([C@H](Cc3ccccc3)C(=O)[O-])C(=O)[C@H]2C1',\n",
       " 'CCCCNS(=O)(=O)Cc1ccc([N+](=O)[O-])cc1',\n",
       " 'COc1ccc(CC[C@H]2C[C@@H](C(C)(C)C)CCC2=O)cc1',\n",
       " 'C[C@H]1CN(CC(=O)Nc2nc(-c3ccccc3Cl)cs2)CCO1',\n",
       " 'Cc1cc(Cl)cc(Cl)c1CNC(=O)c1cccs1',\n",
       " 'CC(C)(C)OC(=O)NC1CCN(CC(=O)c2nccs2)CC1',\n",
       " 'COc1ccc(C)cc1[C@@H](C)NC[C@@H]1CN(C2CC2)CCO1',\n",
       " 'CCOC(=O)c1ccn(-c2cccc(NC(=O)C3CCCC3)c2)n1',\n",
       " 'O=C1N(C[NH+]2CCN(c3ccccc3)CC2)c2ccccc2C12O[C@@H]1CCCC[C@H]1O2',\n",
       " 'CC(C)c1nc(C(=O)[O-])nn1-c1ccccc1F',\n",
       " 'C1=C[C@H]2C[C@@H]1C[C@H]2CN1CC[NH+](C2CCCCCC2)CC1',\n",
       " 'CC(C)C[C@H](C[NH+](C)C)Nc1ncncc1N',\n",
       " 'O=C1C=C(c2cccs2)C[C@H](c2cccs2)[C@@H]1n1cnc([N+](=O)[O-])n1',\n",
       " 'C[NH2+]C1CCC([NH+](C)CC(=O)N[C@H](C)c2ccco2)CC1',\n",
       " 'CC(C)c1nc2n(n1)CCC[C@H]2[NH2+]C[C@@H]1CCC[C@H](C)C1',\n",
       " 'CCCOC(=O)c1ccc(NC(=O)c2ccc[n+]([O-])c2)cc1',\n",
       " 'CCOc1cc(CO)cc(Br)c1OCc1ccccc1F',\n",
       " 'O=C(Cn1nnn(-c2cccs2)c1=O)NC[C@@H]1CN(Cc2ccccc2)CCO1',\n",
       " 'CC(C)[C@H](O)CCNC(=O)C(=O)Nc1ccn(-c2ncccc2Cl)n1',\n",
       " 'Cc1cccc(C(=O)NCCS(=O)(=O)NCC2CCC2)c1C',\n",
       " 'CCCC(=O)N1CCC(C(=O)NN=C(c2ccccc2)c2ccccc2)CC1',\n",
       " 'O=C(N[C@H](NC(=S)Nc1ccccc1)C(Cl)(Cl)Cl)c1cccc(Br)c1',\n",
       " 'CCN(Cc1ccccc1)C(=O)c1cc(NC(=O)Cc2ccccc2)n(C)n1',\n",
       " 'CC(C)CC(=O)N1CCN(C(=O)c2cnc3c(c2)NC(=O)CO3)CC1',\n",
       " 'O=C(Cc1csc(NC(=O)Nc2ccc(Cl)cc2)n1)NCCc1ccc(Cl)cc1',\n",
       " 'Cc1ccc2c(c1)C[C@@H](C[C@@H](C[NH3+])c1ccc(F)cc1)O2',\n",
       " 'CC1=C(C(=O)OC(C)C)[C@@H](c2ccc(C)s2)NC(=O)N1C',\n",
       " 'COc1cc(F)c([N+](=O)[O-])c(NC[C@@H](O)c2cnn(C)c2)c1',\n",
       " 'COc1ccc(C(=O)N2CCC([C@@]3(C)NC(=O)N(C4Cc5ccccc5C4)C3=O)CC2)cc1',\n",
       " 'CCc1cnc(NC(=O)c2cc(C)n(C(C)C)c2C)s1',\n",
       " 'COc1ccccc1-c1nc(C[NH+](C)Cc2ccc(C#N)cc2)cs1',\n",
       " 'COc1ccc(-c2noc(-c3cc(-c4ccc(Cl)cc4)n[nH]3)n2)cc1OC',\n",
       " 'CC[C@H](NC(=O)CN1C(=O)c2ccccc2N2C(=O)CC[C@]12C)c1ccc(C)cc1',\n",
       " 'Cc1ccc(CNC(=O)NCc2ccnc(OC(C)(C)C)c2)cn1',\n",
       " 'CCN(CCO)C(=O)Nc1cccc(C(=O)Nc2cccc(C#N)c2)c1',\n",
       " 'Cc1cccc(-c2nn(C[NH+]3CCCCC3)c(=S)n2-c2ccccc2)c1',\n",
       " 'C[NH2+][C@@H](C1CCCC1)[C@@H]1CCc2cccnc21',\n",
       " 'Cc1ccc(-c2cccc(F)c2C(=O)[O-])c(C)c1',\n",
       " 'CN(C)C(=O)[C@@H](Sc1nnc2n(C)c3ccccc3n12)c1ccccc1',\n",
       " 'Cc1ccc(C(=O)NNC(=O)c2ccc(SC[C@H]3CCCO3)c([N+](=O)[O-])c2)cc1',\n",
       " 'CCCn1/c(=N/C(=O)[C@@H](CCSC)NC(N)=O)[nH]c2ccccc21',\n",
       " 'Cn1/c(=N/C(=O)c2sccc2S(=O)(=O)N2CCOCC2)sc2ccccc21',\n",
       " 'COc1ccccc1N1C[C@@H](C(=O)NN2C(=O)NC3(CCCCC3)C2=O)CC1=O',\n",
       " 'COc1cc(OC)cc(C(=O)Nc2ccccc2C(=O)NC(C)(C)C)c1',\n",
       " 'C[C@H](Nc1nc(-c2ccncc2)nc2ccccc12)c1ccccn1',\n",
       " 'CCOc1ccc(C[NH+]2CCC[C@H]([C@H](O)c3nccn3C)C2)cc1OC',\n",
       " 'O=C([O-])c1ccc([S@@](=O)Cc2ccc(O)cc2)cc1',\n",
       " 'CCc1nn(C)cc1CNC(=O)NCC(C)(C)Cc1ccccc1',\n",
       " 'COC(=C(C#N)C#N)c1cccs1',\n",
       " 'O=C(NCc1ccnc(OCC(F)F)c1)NCc1cscn1',\n",
       " 'C[C@@H](C(=O)N1CCCC1)N1CCN(C(=O)NCc2ccco2)CC1',\n",
       " 'CC(C)c1ccc(CN(C)C(=O)NCCCn2cccn2)cc1',\n",
       " 'CNC(=O)[C@@H]1CCCN(C(=O)Nc2nn(-c3ccccc3Cl)cc2C)C1',\n",
       " 'COc1ccccc1N1CC[NH+]([C@@H](C)C(=O)Nc2ccc(F)cc2)CC1',\n",
       " 'CN1C[NH+](C)CC2=C1NCNS2(=O)=O',\n",
       " 'CNC(=O)c1ccc(O[C@@H]2CCC[C@H]([NH3+])C2)nn1',\n",
       " 'COc1ccc(C(=O)O[C@@H](C)[C@@H]2CCCO2)cc1OC(F)F',\n",
       " 'Cc1ccc(/C=C2/SC(=S)N(CCC(=O)N3CCCc4ccccc43)C2=O)cc1',\n",
       " 'CCc1cccc(S(=O)(=O)Nc2cccc(-c3nnnn3C)c2)c1',\n",
       " 'Cc1ccc2c(c1)CCN2C(=O)c1ccc(C)nc1C',\n",
       " 'CCCNC(=O)CN1CCN(C(=O)Cc2c(C)nn(-c3ccccc3)c2C)CC1',\n",
       " 'Cc1ccc(C(=O)NC2CC[NH+](Cc3nc(-c4ccccc4)cs3)CC2)s1',\n",
       " 'CCOc1ccc(F)c(C(=O)OC[C@H]2CCCCO2)c1F',\n",
       " 'C[NH+]1CCC(NC(=O)c2ncoc2-c2ccccc2)CC1',\n",
       " 'O=C(NC[C@@H](O)CN1CCCC1=O)Nc1cccc(F)c1',\n",
       " 'CC[NH+]1CCC[C@H](NC(=O)c2ccc(OC)c(O)c2)C1',\n",
       " 'O=C(CSCC(F)(F)F)N1CCN(c2ccc(Cl)cn2)CC1',\n",
       " 'COc1ccc(Cl)cc1S(=O)(=O)N[C@H](C)C(=O)NCc1ccc2c(c1)OCO2',\n",
       " 'Cn1cc(C(=O)Nc2ccc(-n3ccnn3)cc2)c(C(C)(C)C)n1',\n",
       " 'Cc1cccc(NC(=O)C[C@@H]2CCCCO2)c1C(=O)[O-]',\n",
       " 'Clc1ccc([C@H](NCCc2nnc3ccccn23)C2CC2)cc1Cl',\n",
       " 'Clc1ccc(OCCCCSc2ncccn2)cc1Cl',\n",
       " 'Cn1nnc2cc(C(=O)N[C@@H](C#N)c3ccc(Cl)c(Cl)c3)ccc21',\n",
       " 'Cc1cc(C)cc(-c2nnc(Sc3nc(C(C)C)ns3)o2)c1',\n",
       " 'C/C(=C/c1ccc(F)cc1)C(=O)NCc1cccc(OCC(F)F)n1',\n",
       " 'CC(C)Nc1cccc(CNC(=O)N[C@@H]2CC[NH+](CC3CC3)C2)c1',\n",
       " 'O=C(COc1ccc(F)cc1F)NC[C@H](O)c1ccccc1Cl',\n",
       " 'Cc1ccc(-n2nc3c(c2NC(=O)C(C)C)C[S@@](=O)C3)cc1',\n",
       " 'COc1nc(Oc2ccc3ccccc3c2)ccc1N',\n",
       " 'O=C(c1ccccc1)c1ccc2nc(Nc3ccccc3)c3nncn3c2c1',\n",
       " 'O=C(C[C@@H](O)c1cccc(F)c1)Nc1cc(F)ccc1O',\n",
       " 'CC(C)c1nc(CSCc2ccnn2C)no1',\n",
       " 'O=C(C1CCC1)N1CCC[C@H]1c1nc2cc(-c3ccccc3)ccc2o1',\n",
       " 'O=C(CC[C@@H]1NC(=O)NC1=O)NC1CCN(c2ccccc2F)CC1',\n",
       " 'Cc1ccc(-n2nc3c(c2NC(=O)c2ccc(Br)o2)CSC3)cc1C',\n",
       " 'C=CCn1c(SCc2nnc([S-])n2-c2ccccc2)nnc1-c1ccccc1',\n",
       " 'c1nnn(C23C[C@H]4C[C@H](CC(c5nc6c7cn[nH]c7ncn6n5)(C4)C2)C3)n1',\n",
       " 'CCCn1ncnc1COc1ccc(C)nc1C[C@H](C)[NH3+]',\n",
       " 'CCSc1ccc(C(=O)N2CC[C@H](C)[C@H](O)C2)cn1',\n",
       " 'C[C@H]1[C@H](C(=O)[O-])CCN1S(=O)(=O)[C@@H](C)C#N',\n",
       " 'COc1ccccc1NC(=O)CSc1nnc(C)c(=O)n1N',\n",
       " 'Cc1ccc(S(=O)(=O)OCCc2coc3ccccc23)cc1',\n",
       " 'COc1ccccc1[C@@H](C)NC(=O)[C@@H](C)Oc1cccc(F)c1',\n",
       " 'CC[C@@H](Oc1ccccc1/C=C1\\\\S/C(=N\\\\c2cccc(O)c2)N(CC)C1=O)C(=O)[O-]',\n",
       " 'C[C@@H]([NH2+]C[C@H]1CC[C@H](C(N)=O)O1)c1ccc2c(c1)OCCCO2',\n",
       " 'Cc1ccccc1Nc1nc(N)nc(COc2ccc(F)c(Cl)c2)n1',\n",
       " 'CC(=O)Nc1ccc(OC(=O)/C=C/c2ccc(C(N)=O)cc2)cc1',\n",
       " 'O=C([O-])c1ccc(-c2ccncc2)cn1',\n",
       " 'O[C@H](c1c(F)c(F)c(F)c(F)c1F)C(Cl)(Cl)Cl',\n",
       " 'COc1ccc(/C=N/NC(=O)CNc2ccc3ccccc3c2)cc1OC',\n",
       " 'Cc1ccc(NC(=O)/C(C#N)=C/c2cc(C)n(-c3ccc(O)cc3)c2C)cc1Cl',\n",
       " 'Cc1cccn2c(=O)c(C(=O)N[C@H]3CCN(C(=O)C(C)C)C3)cnc12',\n",
       " 'O=C(NCCCS(=O)(=O)c1ccccc1)c1n[nH]c2ccccc12',\n",
       " 'C1=C(CC[NH2+]Cc2ccco2)CCCC1',\n",
       " 'CCN(CC(=O)NCc1ccc(F)cc1)C(=O)c1cnc(-c2cccnc2)s1',\n",
       " 'FC(F)(F)c1cccc2c1CCCC2',\n",
       " 'CN(C)C(=O)CCCNC(=O)c1ccnc(OC(C)(C)C)c1',\n",
       " 'Cc1ccc(NC(=O)[C@H](C)[NH+](C)Cc2nnc(C3CC3)n2C)c(C)c1',\n",
       " 'CN(C)c1cccc(C(=O)OCC(=O)C(C)(C)C)c1',\n",
       " 'Cc1nsnc1Cn1nnc(C(=O)NC(C)C)c1C',\n",
       " 'CC(=O)Cc1nsc(N[C@@H](C)c2ccccc2)n1',\n",
       " 'COc1ccc(CNC(=O)[C@H]2Oc3ccccc3O[C@@H]2C)cn1',\n",
       " '[NH3+]CC1CCC(c2nc3ccc(Cl)cc3s2)CC1',\n",
       " 'CCN(C(=O)NC1CC[NH+](C[C@@H](O)COC)CC1)C1CCCC1',\n",
       " 'CCSc1nc2ccccc2c(=O)n1CCc1ccccc1',\n",
       " 'Cc1cc(C(=O)COC(=O)c2cc(Cl)c3c(c2)OCCCO3)c(C)n1C1CC1',\n",
       " 'COc1ccc([C@@H](CNC(=O)c2ccc([N+](=O)[O-])o2)[NH+](C)C)cc1',\n",
       " 'CC[C@H](NC(=O)c1ccc(C#N)cn1)C(=O)N1CCOCC1',\n",
       " 'CCOC(=O)NC(=O)c1c(NC(=O)Cc2ccc(F)cc2)sc2c1CC[C@H](C)C2',\n",
       " 'CC(C)n1cnnc1SCC(=O)Nc1ccc2c(c1)nc(C1CC1)n2C',\n",
       " 'CCc1ccc([C@H](O)C2(C[NH3+])CCCC2)cc1',\n",
       " 'COc1ccc(CNC(=O)N2CCc3c([nH]c4ccccc34)[C@H]2C)cc1OC',\n",
       " 'COc1ccc([C@@H]2C(C#N)=C(N)Oc3cc(C)n(CCN4CCOCC4)c(=O)c32)cc1OC',\n",
       " 'O=c1[nH]nc([O-])n1/N=C/c1ccco1',\n",
       " 'C[C@H](Oc1cccc(Cl)c1)C(=O)N1CCC(Cc2ccccc2)CC1',\n",
       " 'COc1cc([C@@H]2C(C(=O)Nc3ccc(F)cc3)=C(C)Nc3nc(C)nn32)cc(OC)c1OC',\n",
       " 'CC[C@@H](C)[C@@H](O)C[NH2+][C@@H](c1cccs1)C1CC1',\n",
       " 'CSc1cc(-c2cccs2)oc(=O)c1C#N',\n",
       " 'CC(C)[C@@H](NC(=O)c1ccc(NS(C)(=O)=O)cc1)C(=O)[O-]',\n",
       " '[NH3+][C@H](CO)c1ccc(N2CCOCC2)c(Cl)c1Cl',\n",
       " 'CCCn1cc(NC(=O)c2cc3nc(-c4ccccc4)cc(-c4ccccc4)n3n2)cn1',\n",
       " 'Cc1ccc(S(=O)(=O)N2CCC(C(=O)N3CCCc4ccccc43)CC2)cc1C',\n",
       " 'C=CCN(CC=C)C(=O)C1CCN(C(=O)C(C)(C)C)CC1',\n",
       " 'Cc1nc(CSc2nncc3ccccc23)nc2ccccc12',\n",
       " 'C[C@H]1CCCC[NH+]1C[C@@H]1CCC(C)(C)[C@@H]1[NH3+]',\n",
       " 'COc1cc(C(=O)Nc2ccccc2Oc2ccccc2)on1',\n",
       " 'COc1ccc(S(=O)(=O)N2CCOCC2)cc1NC(=O)/C=C/c1ccc(F)c(Cl)c1',\n",
       " 'Cc1ccc(F)c(C[NH+]2CCC(C(=O)NC(C)C)CC2)c1',\n",
       " 'CCn1nc(C)c(CNC(=O)[C@H]2[NH+]=c3ccccc3=C2NC(=O)c2cccc(C)c2)c1C',\n",
       " 'COc1ccc(C(=O)N2CCC[C@H](C(=O)Nc3cc(Cl)ccc3F)C2)c2ccccc12',\n",
       " 'CCc1ccc(/C=C(\\\\C#N)C(N)=O)s1',\n",
       " 'COc1cccc(N2C(=O)Nc3ccccc3[C@]2(O)C(=O)NCc2ccccc2)c1',\n",
       " 'COC(=O)c1sccc1NC(=O)[C@@H]1CC[NH2+][C@@H]1C',\n",
       " 'C/[NH+]=C(/NCc1ccc([N+]2=CCCC2)cc1)N[C@H]1CC[C@@H](SC)C1',\n",
       " 'N#Cc1csc(C(=O)N2CC[C@H]3CCCC[C@@H]32)c1',\n",
       " 'Cc1cccc(NC(=O)[C@H](C)[S@@](=O)Cc2ccc(F)c(F)c2)c1C',\n",
       " 'CNS(=O)(=O)c1cccc([C@H](C)NC(=O)c2ccc(Cn3cccn3)cc2)c1',\n",
       " 'CC[NH2+][C@@]1(C(=O)OC)CCC[C@@H](Oc2ccccc2)C1',\n",
       " 'COCCCn1c(C)c(C)c(C#N)c1NC(=O)C[NH+]1CC(C)(C)C1(C)C',\n",
       " 'C[C@H]1CCC[C@@H](C)N1C(=O)[C@H]1C[C@H]1c1ccccc1Cl',\n",
       " 'COCc1ccc(C[NH+](C)Cc2ccccc2O)o1',\n",
       " 'Cc1c(F)cc(N)cc1S(=O)(=O)NCC(N)=O',\n",
       " 'CCNS(=O)(=O)[C@@H]1CC[NH+](C[C@@H]2CCCc3ccccc32)C1',\n",
       " 'CC1(C)[C@@H]2CC[C@@]1(CS(=O)(=O)NCCCO)C(=O)C2',\n",
       " 'COc1ccc(-n2ccc(CNC(=O)c3cc(Cl)ccc3[N+](=O)[O-])n2)cc1',\n",
       " 'CC[C@@H](NC(=O)NC1CCC(C(=O)OC(C)(C)C)CC1)[C@H]1CCCO1',\n",
       " 'CN(CC[NH+](C)C)C(=O)C[C@H]1COCCN1C(=O)c1ccc2[nH]nnc2c1',\n",
       " 'CC[C@H](c1ccc(F)cc1)N(C)C(=O)Cn1nnc(-c2ccccc2)n1',\n",
       " 'O=C(Cn1cccc1-c1nc(-c2ccc(OC(F)(F)F)cc2)no1)Nc1nccs1',\n",
       " 'CCc1nsc(Nc2ccc(CC(=O)N3CC[NH+](CC)CC3)cc2)n1',\n",
       " 'CS[C@@H]1CC[C@H](NC(=O)/C=C(/C)c2ccccc2)C1',\n",
       " 'Cc1ccc([N+](=O)[O-])cc1NCC(=O)N[C@](C)(C#N)C1CC1',\n",
       " 'CC1(C)[C@H]2OCC[C@@H]2[C@H]1NC(=O)CCNC(=O)C12CC3CC(CC(C3)C1)C2',\n",
       " 'c1ccc(COC2CC[NH+](Cc3cccnc3)CC2)cc1',\n",
       " 'O=C(C1CCCC1)N1CCC[C@@H]([NH+]2CCC(CO)CC2)C1',\n",
       " 'COC(=O)CNC(=O)c1sc2ncn(CC(=O)N3CCCCC3)c(=O)c2c1C',\n",
       " 'CC(C)CCNC(=O)[C@@H](C)Oc1ccc(N)cc1C(=O)[O-]',\n",
       " 'CCN(CC)C(=O)[C@@H]1C[C@@H]([NH3+])CN1C(=O)Cc1cccc(O)c1',\n",
       " 'COc1ccc(F)cc1NC(=O)N1CCO[C@H](c2ccc(C)o2)C1',\n",
       " 'COc1ccc(-c2nnc(SCC(=O)c3ccc(Br)cc3)o2)cc1OC',\n",
       " 'CC(C)=CC(=O)NCCC1CCN(c2cc[nH+]cc2)CC1',\n",
       " 'C[C@]1(O)[C@](C)(O)[C@@H](CO)O[C@](C)(Oc2c[nH]c3ccc(Br)c(Cl)c23)[C@]1(C)O',\n",
       " 'O=C(CCCc1nc(-c2cccnc2)no1)N1CCC[C@@H](Cc2ccccc2)C1',\n",
       " 'Cn1nc(NC(=O)c2cccc(F)c2)c2c1NC(=O)C[C@@H]2c1ccccc1',\n",
       " 'O=C(CSc1ccncc1)NCCN1Cc2ccccc2O[C@@H](c2ccccc2)C1',\n",
       " 'N#Cc1ccc(OCCn2cc(Cl)cn2)cc1',\n",
       " 'C[C@@H]1CCN(C(=O)Nc2ccc(O[C@@H]3CCOC3)cc2)[C@H](C)C1',\n",
       " 'CC[C@H](C)[C@H](C)[NH2+]Cc1ncccc1F',\n",
       " 'C#CC(C)(C)NC(=O)c1ccc(OC)c(O)c1',\n",
       " 'COc1cc([N+](=O)[O-])ccc1OCc1nc(-c2cccs2)no1',\n",
       " 'CC1CCN(C(=O)C[NH+]2CCC[C@@H](c3nc4ccccc4o3)C2)CC1',\n",
       " 'C[C@H]1CCC[C@H](NC(=O)Cc2c[nH]c3ccccc23)[C@@H]1C',\n",
       " 'Cn1nc(CNC(=O)Nc2ccccc2C(F)(F)F)cc1-c1ccncc1',\n",
       " 'CC[NH2+]C[C@H](Cc1cscn1)c1cccc(F)c1',\n",
       " 'CCCCS(=O)(=O)N1CCN(c2ccc(-n3ccnc3C)nn2)CC1',\n",
       " 'O=C(c1cc2ccccc2o1)N(C[C@H]1CCCO1)c1nc2c(F)cccc2s1',\n",
       " 'C[C@H](CC#N)Sc1ccccc1NC(=O)c1ccc(Cl)nc1Cl',\n",
       " 'O=C(CCCc1nc2ccccc2s1)N[C@H]1CCOC1=O',\n",
       " 'COC(=O)c1cc(S(=O)(=O)N[C@H](C)c2ccccc2C)cn1C',\n",
       " 'Cc1cnn(CC(=O)[C@@H](C#N)c2nc([O-])c3ccc(Cl)cc3n2)c1',\n",
       " 'COc1ccc(C)cc1NC(=O)[C@H]1CCCN1c1cc(C)ccc1[N+](=O)[O-]',\n",
       " 'CC[NH+]1CCC2(CC1)OC[C@H](C(=O)[O-])N2C(=O)c1ccc(F)cc1',\n",
       " 'Cc1ccc2c(c1)N(C(=O)C[C@H](O)c1ccc(Cl)cc1)CC2',\n",
       " 'O=c1[nH]cnc2c1[nH]c(=S)n2[C@@H]1O[C@H](CO)[C@@H](O)[C@H]1O',\n",
       " 'Cc1cn2c([nH+]1)CC[C@H](NC(=O)C[C@@H]1CCCc3ccccc31)C2',\n",
       " 'CC(=O)c1cc(CN2CCC3=NN=C(c4ccccc4F)[C@@H]3C2)cs1',\n",
       " 'C[C@H](Nc1ccc(S(=O)(=O)N2CCCCC2)cn1)[C@@H](C)CO',\n",
       " 'COCCn1nc(C)c(NC(=O)N2CCC[C@H]2c2cccc(C)c2)c1C',\n",
       " 'CCCCS(=O)(=O)[N-]c1ccc(NC(=O)[C@H]2CCC[NH+](C)C2)cc1',\n",
       " 'Fc1ccc(Oc2ccnc(Sc3nnc(-c4cccs4)o3)n2)cc1',\n",
       " 'N#Cc1ccc(NC(=O)[C@@H]2CSCN2C(=O)c2cn(Cc3ccccc3)c3ccccc23)cc1',\n",
       " 'CC[C@@H](C)n1nccc1NC(=O)C(=O)N1CCc2cc(F)ccc2C1',\n",
       " 'Cc1ccc(-c2cnc(CCC(=O)N(C)C3CCOCC3)o2)cc1',\n",
       " 'C[C@H](CNC(=O)c1ccc(-c2ccccc2)[nH]c1=O)Oc1ccc(F)cc1',\n",
       " 'CCOC(=O)c1c(NC(=O)[C@H]2CCCN2S(C)(=O)=O)sc2ccccc12',\n",
       " 'Cc1ccc(C(=O)Cc2cccc(O)c2)cc1',\n",
       " 'Cc1ccccc1-c1nn(CN2CCCc3ccc(S(C)(=O)=O)cc32)c(=S)o1',\n",
       " 'CCOc1cccc([C@H](C)NC[C@@](C)(O)c2ccc(F)cc2F)c1',\n",
       " 'CC[C@@H]1CCCCCN1C(=O)c1cnc2sc(C)cn2c1=O',\n",
       " 'N#Cc1ccc(OCC(=O)NCc2cccc(CO)c2)cc1',\n",
       " 'O=C(Nc1ccccc1)NC1CCN(C(=O)[C@H]2CCCC[C@H]2C(F)(F)F)CC1',\n",
       " 'CC1(C)CCC(O)(C[NH2+][C@@H]2CCOC3(CCC3)C2)CC1',\n",
       " '[NH3+][C@H]1CCC[C@H]1CCN1C(=O)c2cccc3cccc1c23',\n",
       " 'C#CCN(Cc1cc(Br)cc(OC)c1O)[C@@H]1CCS(=O)(=O)C1',\n",
       " 'Cc1ccc(-c2nc3nc(CN4CC[NH+](C)CC4)cc([O-])n3n2)cc1',\n",
       " 'C[C@@](O)(CNC(=O)C1CCCC1)c1cccs1',\n",
       " 'O[C@H](CSc1nnc(-c2c[nH]c3ccccc23)n1C1CC1)CN1CCOCC1',\n",
       " 'C[C@@H]1CCC/C(=N/[NH+]=C(/[S-])NCc2ccccc2)C1',\n",
       " 'O=C(c1cc2ccc(Cl)cc2[nH]1)N1CCC[C@@H]1Cn1nnc(-c2cccs2)n1',\n",
       " 'COc1ccc(S(=O)(=O)Oc2ccc(C(C)=O)cc2OC)cc1',\n",
       " 'CC(C)c1ccccc1NC(=O)C[NH+](C(C)C)[C@@H]1CCCC[C@@H]1O',\n",
       " 'O=Cc1ccn(-c2ccc(Br)cc2)c1',\n",
       " 'O=C(C1CC1)N1CCC[C@H](Cn2cc[nH+]c2-c2cc3n(n2)CC[NH2+]C3)C1',\n",
       " 'O=C(CCNc1ccccc1[N+](=O)[O-])N1CCC[C@@H]([NH+]2CCCC2)C1',\n",
       " 'Cc1ccc2c(c1)-c1onc(C(=O)N3C[C@@H](C)C[C@H](C)C3)c1CO2',\n",
       " 'O=C(COC(=O)c1ccc(Cl)nc1)NC(=O)Nc1ccc2c(c1)OCCO2',\n",
       " 'CCC[C@@H]1C[C@H]1NC(=O)C1(c2ccc(F)cc2F)CCOCC1',\n",
       " 'CCOC(=O)C1CCC(NC(=O)[C@@](C)([NH3+])CC)CC1',\n",
       " 'CC[C@@H](O)C(=O)NCc1cccnc1Oc1ccccc1OC',\n",
       " 'C[C@@H](Sc1nnc(-c2cccs2)n1-c1ccccc1)C(=O)N1CC(=O)Nc2ccccc21',\n",
       " 'Cc1cc(F)ccc1NC(=O)COc1ccc2c(c1)CCC2',\n",
       " 'C[C@H](NC(=O)NCCC[S@](C)=O)c1ccc(Cl)s1',\n",
       " 'O=C(Cn1c(=O)c(=O)n(Cc2ccncc2)c2ncccc21)NCCc1ccccc1',\n",
       " 'CS(=O)(=O)c1ccc(C(=O)Nc2ccc(F)c(F)c2F)cc1',\n",
       " 'CCCCOc1ccccc1/C=C1\\\\SC(N2CCC(C)CC2)=NC1=O',\n",
       " 'CC(C)[C@@H](CNC(=O)N1CCc2ccc(Cl)cc2C1)c1cccnc1',\n",
       " 'CCCOc1ncnc(Nc2cc(Cl)cc(Cl)c2)c1N',\n",
       " 'CC(=O)Nc1ccc(NC(=O)c2nnn(-c3ccc(C)c(C)c3)c2C)cc1',\n",
       " 'CCOC1CC[NH+](CC[C@@H](O)c2ccc(C)c(F)c2)CC1',\n",
       " 'IC[C@@H]1Cn2c(nnc2-c2ccncc2)S1',\n",
       " 'CCOc1ccc([C@H]2CCCN2C(=O)c2[nH]c(C)c(C(C)=O)c2C)cc1',\n",
       " 'CC(C)CONc1ncnc2sc3c(c12)CCC3',\n",
       " 'CC(C)[C@@H](ON1C(=O)c2ccccc2C1=O)C(=O)[O-]',\n",
       " 'COC[C@H](O)C[NH+]1CCC(C)(C)C1',\n",
       " 'COC(=O)[C@@H](c1ccccc1Cl)N1CCCSCC1',\n",
       " 'O=C(Nc1nc2ccc(F)cc2s1)c1cc(-c2ccccc2O)[nH]n1',\n",
       " 'C/C(=N\\\\Nc1ncnc2sc(C)c(C)c12)c1cccc(OC(F)F)c1',\n",
       " 'CC(C)CN1CCO[C@@H](CNC(=O)/C=C/c2ccnc(Cl)c2)C1',\n",
       " 'Cc1cc(F)ccc1CCNC(=O)Cc1c[nH]c2c(C)cccc12',\n",
       " 'NC(=O)[C@@H]1CCCN(C(=O)Cn2nc(-c3cccs3)oc2=O)C1',\n",
       " 'CCCCCn1c(SCC(=O)[O-])nc2ccccc2c1=O',\n",
       " 'Cc1ccc2nc(NC(=O)c3ccc(OCc4nc(-c5ccco5)cs4)cc3)sc2c1',\n",
       " 'COc1ccccc1N1CCN(c2ccc(=O)n(CC(=O)NC3CC3)n2)CC1',\n",
       " 'C/C(=C/C(=O)N[C@@H](C)c1c(C)noc1C)c1ccccc1OC(F)F',\n",
       " 'COCCn1nc(C)c(NC(=O)N2CC[C@H](Cc3ccccc3)C2)c1C',\n",
       " 'Cc1ccsc1C[NH+](Cc1nc2ccccc2n1C(C)C)C[C@H](C)O',\n",
       " 'Cc1cccc(CNC(=O)C[C@H]2Oc3ccc(C)cc3NC2=O)c1',\n",
       " 'C[C@@H](c1ccc([S@](C)=O)cc1)N(C)C(=O)c1cc2cccc(F)c2o1',\n",
       " 'COc1cc(OC)c(C(C)=O)cc1CSc1nnnn1-c1ccccc1',\n",
       " 'Cc1sc(=O)n(CCC(=O)NC2CC(C)(C)[NH2+]C(C)(C)C2)c1C',\n",
       " 'CC[C@@H]1CCCCN1C(=S)NC(=O)c1ccc(C)cc1',\n",
       " 'CCC[C@H](C)C(=O)N[C@H](C)c1cccc(Br)c1',\n",
       " 'COc1cccc([C@H]2CCCN2C(=O)c2ccccc2I)c1',\n",
       " 'C[C@H](NC(=O)N1CCCC[C@@H]1C1OCCO1)c1cccc(-n2ccnc2)c1',\n",
       " 'CS(=O)(=O)N1CCC[C@@H](C[NH+]2CCC[C@H](CO)C2)C1',\n",
       " 'CCN(C(=O)Cn1nc2n(c1=O)CCCCC2)[C@H]1CCS(=O)(=O)C1',\n",
       " 'COc1ccccc1NC[C@H]1CCCN(S(C)(=O)=O)C1',\n",
       " 'COc1cc([C@@H]2CC(=O)Nc3c2cnn3Cc2cccnc2)cc2c1OCO2',\n",
       " 'O=C(CNc1ccc(Cl)cc1NC(=O)c1ccco1)Nc1ccc(F)c(Cl)c1',\n",
       " 'Cc1nn(C)cc1[C@@H](C)NC(=O)C(=O)Nc1ccc(OCC2CCCCC2)cc1',\n",
       " 'CC(C)(C)[S@](=O)CCNC(=O)c1cccc(F)c1Cl',\n",
       " 'C[C@@H](O)c1ccc(F)cc1OCc1nc(C(C)(C)C)cs1',\n",
       " 'COC[C@H](NC(=O)Nc1cn[nH]c1)c1ccc(F)c(F)c1',\n",
       " 'C[C@@H]1CS(=O)(=O)N(c2ccc(S(=O)(=O)Nc3ccccc3C(F)(F)F)cc2)C1=O',\n",
       " 'CC(C)c1ccc2c(c1)[C@]1(CC(O)=Nc3c1cnn3Cc1ccccc1Cl)C(=O)N2C',\n",
       " 'CC[C@@H](C)C(=O)NCC(=O)N(C)[C@@H](C)c1cc(F)ccc1F',\n",
       " 'CO/N=C\\\\C(C#N)=C/c1cccnc1',\n",
       " 'CO[C@H](c1ccc(Cl)cc1)[C@@H](C)NC(=O)C(=O)Nc1ccccc1C',\n",
       " 'CC(C)CNC(=O)[C@](C)(N)C(F)(F)F',\n",
       " 'C[C@@H](C(=O)C1=c2ccccc2=[NH+]C1)[NH+]1CCC[C@@H]1[C@@H]1CC=CS1',\n",
       " 'Cc1nc(Br)ccc1NC(=O)NCc1cnn(C)c1',\n",
       " 'COc1c(C)cnc(CNC(=O)Nc2ccc(N(C)C)cc2)c1C',\n",
       " 'COc1ccc2cc(COC(=O)COc3ccccc3C#N)ccc2c1',\n",
       " 'CCS(=O)(=O)CCN(C)Cc1c[nH]nc1-c1ccc(C)cc1',\n",
       " 'COc1ccc([C@@](C)([NH3+])Cc2[nH+]ccn2C)cc1',\n",
       " 'C[C@H]1CCN(C(=O)NCCc2nnc3n2CCCCC3)[C@@H](C)C1',\n",
       " 'O=C(NC[C@@H]1CCC[NH+](Cc2ccccc2F)C1)c1nc[nH]n1',\n",
       " 'O=C1CC[C@@H](NC(=O)COc2ccc(Cl)c(Cl)c2)CN1',\n",
       " 'Cc1noc(C)c1COc1ccc(C[NH2+]C[C@H]2CCCO2)cc1',\n",
       " 'N#Cc1cnn2c1N[C@@H](c1ccccc1)C[C@@H]2C(F)F',\n",
       " 'C[C@@H]1Cc2ccccc2N1C(=O)[C@H]1CCCN(C(=O)NC2CC2)C1',\n",
       " 'COCc1nc(C(=O)OCC2=CC[C@H]3C[C@@H]2C3(C)C)cs1',\n",
       " 'CCN(Cc1ccc(Br)s1)C(=O)C[NH+](C)CC(=O)[O-]',\n",
       " 'O=C([O-])[C@H]1CCCN(c2ccc([O-])nn2)C1',\n",
       " 'COc1ccc(CCCC(=O)Nc2cccc(S(N)(=O)=O)c2)cc1F',\n",
       " 'Fc1ccccc1[C@@H](c1nnnn1C1CCCCC1)[NH+]1CCN(c2ccccc2)CC1',\n",
       " 'O=C(C/C(=N\\\\Nc1nc(-c2ccccc2)cs1)c1ccccc1)C(F)(F)F',\n",
       " 'C[C@H]([NH2+]CC(=O)N(C)C)c1ccc(Cl)s1',\n",
       " 'CCOC(=O)COc1ccccc1/C=C1/C(=O)NC(=O)N(c2ccc3c(c2)OCO3)C1=O',\n",
       " 'Cc1cc(C(=O)NNC(=O)c2cccc3ccccc23)c(C)o1',\n",
       " 'COc1ccc(-c2csc(NC(=O)Nc3ccc(F)cc3)n2)cc1OC',\n",
       " 'Cc1ccc(C)c(S(=O)(=O)N2CCN([C@H](C)c3nc(N)nc(Nc4ccccc4)n3)CC2)c1',\n",
       " 'Cc1cccc(C)c1-n1nnnc1CSCc1nnc(C)n1C',\n",
       " 'COc1cccc(C(=O)N[C@@](C)(C(N)=O)c2cccc(Cl)c2)c1',\n",
       " 'C[C@H](CCO)[NH2+][C@H]1CCc2c(Br)cccc21',\n",
       " 'CCc1ccsc1-c1cnc(C[NH3+])o1',\n",
       " 'NC(=O)C1(N2CCCC2)CC[NH2+]CC1',\n",
       " 'CC(C)C[C@@H]([NH3+])C(=O)N1CC[C@H](C(=O)[O-])[C@@H]1C',\n",
       " 'CC[C@H](C)Cn1c(CCCl)nc2c(C)nn(C)c21',\n",
       " 'Cc1csc([C@H](C)NC(=O)CCC[NH+]2CCCCC2)n1',\n",
       " 'CCC(=O)NN/C(C)=C/C(=O)NCC(C)(C)C',\n",
       " 'CCC(=O)N1CCC([NH+](C)Cc2ccc(SC)c(OC)c2)CC1',\n",
       " 'Clc1ccc(CNc2ncccc2Cl)cn1',\n",
       " 'C[C@H](c1nc(C(C)(C)C)no1)[S@](=O)Cc1ncn(-c2ccccc2)n1',\n",
       " 'Cn1cnn(C[NH+](Cc2ccc(F)cc2)C2CC2)c1=S',\n",
       " 'C#CC(C)(C)NC[C@H]1CN(C)CCO1',\n",
       " 'C[C@H](NC(=O)[C@H]1CCCN1S(C)(=O)=O)c1ccc2c(c1)OCO2',\n",
       " 'O=C(Nc1ccc2ncccc2c1)C(=O)NC1CCC(O)CC1',\n",
       " 'CC(C)[C@H]([NH2+]CC1CCN(C(=O)OC(C)(C)C)CC1)c1cccnc1',\n",
       " 'CCC[C@H](C)NC(=O)C[NH2+]Cc1cscc1C',\n",
       " 'CS(=O)(=O)N1CCC(C(=O)Nc2sc3c(c2C#N)CCCC3)CC1',\n",
       " 'O=C(CN(C(=O)Cn1nnc2ccccc21)c1ccccc1)NC[C@H]1CCCO1',\n",
       " 'O=C(Nc1cccc(N2CCCNC2=O)c1)C(=O)N1CCc2cc(F)ccc2C1',\n",
       " 'C[C@@H]1CC[NH+](CCCN2C(=O)CNC2=O)C[C@@H]1O',\n",
       " 'O=C(COc1ccc(Br)cc1)NOCc1ccccc1',\n",
       " 'CC(=O)C[C@]1(O)C(=O)N(Cc2ccc(C)cc2)c2c(C)cccc21',\n",
       " 'C[C@H](OC(=O)c1ccc2ccccc2n1)C(=O)NCC1CCCCC1',\n",
       " 'C[C@@H](Sc1cc(Cl)ccc1Cl)C(=O)N1CCC[C@H](CCC(N)=O)C1',\n",
       " 'COc1cc(-c2ccno2)ccc1S(=O)(=O)NCc1ccco1',\n",
       " 'CCC[C@@H](CC)Nc1c(F)c(F)nc(F)c1F',\n",
       " 'Oc1cccc([C@@H]2CN(c3nccc(Oc4ccc(F)cc4)n3)CCO2)c1',\n",
       " 'COc1ccc([C@H](CNC(=O)c2cccc3ccccc23)[NH+]2CCCC2)cc1',\n",
       " 'CC1(C)[C@@H]2CC[C@@]1(C)[C@H](NC(=O)COc1ccc(C3SCCCS3)cc1)C2',\n",
       " 'Cc1c(C)n(-c2ccccc2)c2nc(C(=O)Nc3ccc(F)cc3)nc(N3CCCCC3)c12',\n",
       " 'CC(C)C(=O)Nc1cccc(NC(=O)C(=O)NCC[C@H]2C[C@H]3CC[C@@H]2C3)c1',\n",
       " 'COc1ccc(CNC(=O)c2cc(N3C(=O)C(C)(C)CS3(=O)=O)ccc2Cl)cc1OC',\n",
       " 'CC(=O)Nc1cccc(NC(=O)CCc2c(C)[nH]c(=S)[nH]c2=O)c1',\n",
       " 'COc1ccccc1[C@H]1CCCN1C(=O)[C@@H](C)CCOc1ccccc1',\n",
       " 'CCNc1ncc(COCC2CCCCC2)s1',\n",
       " 'CC[C@H](C)C(=O)Nc1ccccn1',\n",
       " 'O=C([O-])CC1=C(C(=O)[O-])CCCC1',\n",
       " 'Fc1ccc(C[NH2+]C[C@@H]([C@H]2CCOC2)N2CCOCC2)c(F)c1',\n",
       " 'CCc1cc(Cn2cc(N)nn2)n(C)n1',\n",
       " 'N#Cc1cccnc1Oc1ccccc1NCc1cccc2ccccc12',\n",
       " 'O=C(NCc1ccc([N+](=O)[O-])cc1)N[C@@H]1CCCC[C@H]1CO',\n",
       " 'C[C@H](NC(=O)NC[C@H](C)C[C@@H](C)O)c1ccc(S(C)(=O)=O)cc1',\n",
       " 'CC(C)Oc1ccc(NC(=O)NC[C@H](C)N2CCOCC2)c(F)c1',\n",
       " 'COc1ccccc1COC1CCN(C(=O)[C@H]2CCC[C@@H](C)C2)CC1',\n",
       " 'CC(=O)O[C@H]1CC[C@H]2[C@H]3C[C@H](OC(C)=O)[C@]45C[C@H]4CC[C@]5(C)[C@@H]3CC[C@]12C',\n",
       " 'CCCn1nnnc1CN1CC[C@]2(C1)NC(=O)N(C(C)C)C2=O',\n",
       " 'CC1=C(C(=O)OCC(C)C)[C@H](c2cccc(F)c2)c2c(n(C)c(=O)n(C)c2=O)N1',\n",
       " 'Cc1cc(C)c2c(-c3ccccc3)nc(SCC(=O)NC3CC3)n2n1',\n",
       " 'COc1cc2c(cc1OC)[C@H](C(=O)[O-])[C@H](c1cccc(Cl)c1)N(C)C2=O',\n",
       " 'COCCN1C(=O)CC[C@@H]2C[NH+](Cc3cc(C)ccc3C)CC[C@@H]21',\n",
       " 'Cc1cnc([C@H](C)NC(=O)NNC(=O)Nc2ccccc2)s1',\n",
       " 'CNC(=O)c1ccc(NC(=O)c2csc(-c3ccccc3)n2)cc1',\n",
       " 'CNc1nc(C2CCN(C(=O)Cc3ccccn3)CC2)[nH+]c2c1CN(C(C)=O)CC2',\n",
       " 'Cc1cc(C)n(C[C@@H](C)CNC(=O)NCc2cc3ccccc3o2)n1',\n",
       " 'Cc1nc2n(n1)C[C@H]([NH2+]C[C@@H](O)CN(C)Cc1ccccc1)CC2',\n",
       " 'c1ccc(Cn2c(SCc3ncon3)nnc2-c2cccs2)cc1',\n",
       " 'COc1ccc(-n2nc(C)c3c2C[C@H](c2cc(OC)c(OC)c(OC)c2)CC3=O)cc1',\n",
       " 'COc1ccc(OC)c(/C=C/C(=O)OCC(C)C)c1',\n",
       " 'C[C@H](NC(=O)[C@H]1CC[C@H](C[NH3+])O1)C(=O)N(C)C',\n",
       " 'Cc1cccc(C(C)C)c1NC(=O)[C@@H](C)Sc1nnc(-c2cccs2)n1N',\n",
       " 'Cn1cc(C(=O)Nc2ccccc2C(=O)NCCc2ccccc2)c(=O)c2cccn21',\n",
       " 'Cc1ccccc1[C@@H]1C[C@H](C)N(C(=O)[C@@H](C)Sc2ccccn2)C1',\n",
       " 'Cc1occc1C(=O)/C(C#N)=C/c1ccc([C@@H]2C[C@H]2C)o1',\n",
       " 'CC[C@](C)(C[NH3+])[C@H](O)c1ccc2c(c1)OCO2',\n",
       " 'CCc1nn(CC)c(C[C@@]2(C3CC3)CCC[NH2+]2)c1Br',\n",
       " 'CC(=O)Nc1ccc(CN2CC[NH+](C3CCCC3)[C@H](CCO)C2)cc1',\n",
       " 'COc1ccc([C@H](O)[C@@H](C)NC(=O)[C@@H](C)SC)cc1',\n",
       " 'CCC(=O)N1CCC[C@@H]1c1cc(C(F)(F)F)c2c(=O)n(C)c(=O)n(C)c2n1',\n",
       " 'C[C@H]([NH3+])[C@@H](CC(=O)[O-])c1ccccc1',\n",
       " 'Cc1ccc([C@H]2C3=C(NC(=O)N2C)c2ccccc2C3=O)cc1',\n",
       " 'C[C@@]1(Cc2ccc3c(c2)OCO3)CCC(=O)N(CCc2ccc(O)cc2)C1',\n",
       " 'Cc1cc(C)cc(O[C@H]2CCCC(C)(C)[C@@H]2O)c1',\n",
       " 'Cc1c(-c2nc(-c3cccs3)no2)sc2nc[nH]c(=O)c12',\n",
       " 'COc1cc([C@H]2C(C(=O)Nc3ccccn3)=C(C)NC3=C2C(=O)CCC3)ccc1OCc1ccccc1',\n",
       " 'COc1cc(C)c([C@@H](C)NC2CC[NH+]([C@H]3CCCC[C@@H]3O)CC2)cc1OC',\n",
       " 'C[C@@H]1CCC[C@@H](NS(=O)(=O)Cc2cccc(N)c2)C1',\n",
       " 'CCCN1C(N)=[NH+]C[C@@H]1c1cc(Cl)c2c(c1)OCO2',\n",
       " 'CC(C)C[C@@H](NC(=O)[C@@H]1C[C@@H]1c1cccc(Cl)c1Cl)C(=O)Nc1cc[nH]n1',\n",
       " 'Cc1nc(CCC[NH+]2CCC[C@H]2C(N)=O)cs1',\n",
       " 'NC(=O)COc1cccc(CNC(=O)c2cc3cc(Cl)ccc3[nH]2)c1',\n",
       " 'COc1ccc(CNC(=O)c2cc(=O)c3ccc(Br)cc3o2)cc1',\n",
       " 'CC[C@@H](C)c1ccccc1N1C[C@H](C(=O)N2CCN(C)CC2)CC1=O',\n",
       " 'CC[NH2+][C@H](Cc1ccccc1Cl)[C@H]1C[NH+](C)CCN1C',\n",
       " 'C[NH+]1CCC(N[C@@H]2CC(=O)N(CCc3cccc(Cl)c3)C2)CC1',\n",
       " 'CCN1CC(=O)Nc2cc(C(=O)NC3CC[NH+](C4CCCC4)CC3)ccc21',\n",
       " 'COc1ccc(Br)cc1/C=C/C(=O)N1CCN(C(=O)c2ccccc2)CC1',\n",
       " 'NC(=O)COc1ccc(C(=O)N[C@H]2CCCc3ccccc32)cc1',\n",
       " 'O=C(COc1ncnc2ccc(Br)cc12)Nc1ccccc1Cl',\n",
       " 'C[C@@H](c1ccc(Cl)cc1Cl)N(C)C(=O)c1ccc(NC(N)=O)cc1',\n",
       " 'Cc1ccc(N2C(=O)[C@@H](Cc3cccc(C)c3)S/C2=C(/C#N)C(N)=O)cc1',\n",
       " 'CC(C)CN(C(=O)NCc1ccc(C(F)(F)F)cc1)C1CC1',\n",
       " 'ClCCc1nc2cccnc2n1CCn1cccn1',\n",
       " 'CC[C@@](C)([C@@H]([NH3+])c1cc(Br)ccc1F)N1CCOCC1',\n",
       " 'Cc1ccc(NC(=O)c2cc3ccccc3oc2=O)c([N+](=O)[O-])c1',\n",
       " 'CC1(C)OC[C@H]([C@H]2O[C@@H]3OC(C)(C)O[C@@H]3[C@H]2OS(C)(=O)=O)O1',\n",
       " 'Cc1cccc([C@H](CCl)CCC[C@@H]2CCCO2)c1',\n",
       " ...]"
      ]
     },
     "execution_count": 11,
     "metadata": {},
     "output_type": "execute_result"
    }
   ],
   "source": [
    "smiles"
   ]
  },
  {
   "cell_type": "code",
   "execution_count": 11,
   "metadata": {},
   "outputs": [],
   "source": [
    "# canonize\n",
    "change = []\n",
    "smiles_list = []\n",
    "for i in range(len(smiles)):\n",
    "    smile = mu.canon_smiles(smiles[i])\n",
    "    if smiles[i] != smile:\n",
    "        change.append(i)\n",
    "    smiles_list.append(smile)"
   ]
  },
  {
   "cell_type": "code",
   "execution_count": 12,
   "metadata": {},
   "outputs": [
    {
     "data": {
      "text/plain": [
       "20"
      ]
     },
     "execution_count": 12,
     "metadata": {},
     "output_type": "execute_result"
    }
   ],
   "source": [
    "len(change)"
   ]
  },
  {
   "cell_type": "code",
   "execution_count": 13,
   "metadata": {},
   "outputs": [
    {
     "data": {
      "text/plain": [
       "249455"
      ]
     },
     "execution_count": 13,
     "metadata": {},
     "output_type": "execute_result"
    }
   ],
   "source": [
    "len(smiles)"
   ]
  },
  {
   "cell_type": "code",
   "execution_count": 49,
   "metadata": {},
   "outputs": [],
   "source": [
    "charset_list = []\n",
    "\n",
    "len_list = []\n",
    "for i in smiles:\n",
    "    for j in i:\n",
    "        if j not in charset_list:\n",
    "            charset_list.append(j)\n",
    "    len_list.append(len(i))\n",
    "max_len = max(len_list)"
   ]
  },
  {
   "cell_type": "code",
   "execution_count": 52,
   "metadata": {},
   "outputs": [
    {
     "data": {
      "text/plain": [
       "{' '}"
      ]
     },
     "execution_count": 52,
     "metadata": {},
     "output_type": "execute_result"
    }
   ],
   "source": [
    " set(list(CHAR_INDICES.keys())) - set(charset_list)"
   ]
  },
  {
   "cell_type": "code",
   "execution_count": 9,
   "metadata": {},
   "outputs": [
    {
     "data": {
      "text/plain": [
       "(249455, 4)"
      ]
     },
     "execution_count": 9,
     "metadata": {},
     "output_type": "execute_result"
    }
   ],
   "source": [
    "data = pd.read_csv('../models/zinc/250k_rndm_zinc_drugs_clean_3.csv')\n",
    "data.shape"
   ]
  },
  {
   "cell_type": "code",
   "execution_count": 12,
   "metadata": {},
   "outputs": [
    {
     "data": {
      "text/html": [
       "<div>\n",
       "<style scoped>\n",
       "    .dataframe tbody tr th:only-of-type {\n",
       "        vertical-align: middle;\n",
       "    }\n",
       "\n",
       "    .dataframe tbody tr th {\n",
       "        vertical-align: top;\n",
       "    }\n",
       "\n",
       "    .dataframe thead th {\n",
       "        text-align: right;\n",
       "    }\n",
       "</style>\n",
       "<table border=\"1\" class=\"dataframe\">\n",
       "  <thead>\n",
       "    <tr style=\"text-align: right;\">\n",
       "      <th></th>\n",
       "      <th>smiles</th>\n",
       "      <th>logP</th>\n",
       "      <th>qed</th>\n",
       "      <th>SAS</th>\n",
       "    </tr>\n",
       "  </thead>\n",
       "  <tbody>\n",
       "    <tr>\n",
       "      <th>0</th>\n",
       "      <td>CC(C)(C)c1ccc2occ(CC(=O)Nc3ccccc3F)c2c1\\n</td>\n",
       "      <td>5.05060</td>\n",
       "      <td>0.702012</td>\n",
       "      <td>2.084095</td>\n",
       "    </tr>\n",
       "    <tr>\n",
       "      <th>1</th>\n",
       "      <td>C[C@@H]1CC(Nc2cncc(-c3nncn3C)c2)C[C@@H](C)C1\\n</td>\n",
       "      <td>3.11370</td>\n",
       "      <td>0.928975</td>\n",
       "      <td>3.432004</td>\n",
       "    </tr>\n",
       "    <tr>\n",
       "      <th>2</th>\n",
       "      <td>N#Cc1ccc(-c2ccc(O[C@@H](C(=O)N3CCCC3)c3ccccc3)...</td>\n",
       "      <td>4.96778</td>\n",
       "      <td>0.599682</td>\n",
       "      <td>2.470633</td>\n",
       "    </tr>\n",
       "    <tr>\n",
       "      <th>3</th>\n",
       "      <td>CCOC(=O)[C@@H]1CCCN(C(=O)c2nc(-c3ccc(C)cc3)n3c...</td>\n",
       "      <td>4.00022</td>\n",
       "      <td>0.690944</td>\n",
       "      <td>2.822753</td>\n",
       "    </tr>\n",
       "    <tr>\n",
       "      <th>4</th>\n",
       "      <td>N#CC1=C(SCC(=O)Nc2cccc(Cl)c2)N=C([O-])[C@H](C#...</td>\n",
       "      <td>3.60956</td>\n",
       "      <td>0.789027</td>\n",
       "      <td>4.035182</td>\n",
       "    </tr>\n",
       "  </tbody>\n",
       "</table>\n",
       "</div>"
      ],
      "text/plain": [
       "                                              smiles     logP       qed  \\\n",
       "0          CC(C)(C)c1ccc2occ(CC(=O)Nc3ccccc3F)c2c1\\n  5.05060  0.702012   \n",
       "1     C[C@@H]1CC(Nc2cncc(-c3nncn3C)c2)C[C@@H](C)C1\\n  3.11370  0.928975   \n",
       "2  N#Cc1ccc(-c2ccc(O[C@@H](C(=O)N3CCCC3)c3ccccc3)...  4.96778  0.599682   \n",
       "3  CCOC(=O)[C@@H]1CCCN(C(=O)c2nc(-c3ccc(C)cc3)n3c...  4.00022  0.690944   \n",
       "4  N#CC1=C(SCC(=O)Nc2cccc(Cl)c2)N=C([O-])[C@H](C#...  3.60956  0.789027   \n",
       "\n",
       "        SAS  \n",
       "0  2.084095  \n",
       "1  3.432004  \n",
       "2  2.470633  \n",
       "3  2.822753  \n",
       "4  4.035182  "
      ]
     },
     "execution_count": 12,
     "metadata": {},
     "output_type": "execute_result"
    }
   ],
   "source": [
    "data.head()"
   ]
  },
  {
   "cell_type": "code",
   "execution_count": 13,
   "metadata": {},
   "outputs": [
    {
     "data": {
      "text/plain": [
       "110"
      ]
     },
     "execution_count": 13,
     "metadata": {},
     "output_type": "execute_result"
    }
   ],
   "source": [
    "max([len(i) for i in data['smiles']])"
   ]
  },
  {
   "cell_type": "code",
   "execution_count": 14,
   "metadata": {},
   "outputs": [
    {
     "data": {
      "text/html": [
       "<div>\n",
       "<style scoped>\n",
       "    .dataframe tbody tr th:only-of-type {\n",
       "        vertical-align: middle;\n",
       "    }\n",
       "\n",
       "    .dataframe tbody tr th {\n",
       "        vertical-align: top;\n",
       "    }\n",
       "\n",
       "    .dataframe thead th {\n",
       "        text-align: right;\n",
       "    }\n",
       "</style>\n",
       "<table border=\"1\" class=\"dataframe\">\n",
       "  <thead>\n",
       "    <tr style=\"text-align: right;\">\n",
       "      <th></th>\n",
       "      <th>smiles</th>\n",
       "      <th>zinc_id</th>\n",
       "      <th>mwt</th>\n",
       "      <th>logp</th>\n",
       "      <th>reactive</th>\n",
       "      <th>purchasable</th>\n",
       "      <th>tranche_name</th>\n",
       "    </tr>\n",
       "  </thead>\n",
       "  <tbody>\n",
       "    <tr>\n",
       "      <th>0</th>\n",
       "      <td>CCN(CCSC)C(=O)N[C@@](C)(CC)C(F)(F)F</td>\n",
       "      <td>ZINC000933510105</td>\n",
       "      <td>286.363</td>\n",
       "      <td>3.112</td>\n",
       "      <td>0</td>\n",
       "      <td>20</td>\n",
       "      <td>CGAD</td>\n",
       "    </tr>\n",
       "    <tr>\n",
       "      <th>1</th>\n",
       "      <td>CC1(C)CN(C(=O)Nc2cc3ccccc3nn2)C[C@@]2(CCOC2)O1</td>\n",
       "      <td>ZINC000888615590</td>\n",
       "      <td>342.399</td>\n",
       "      <td>2.432</td>\n",
       "      <td>0</td>\n",
       "      <td>20</td>\n",
       "      <td>EEAD</td>\n",
       "    </tr>\n",
       "    <tr>\n",
       "      <th>2</th>\n",
       "      <td>CC[C@H](NC(C)=O)C(=O)NCC1(NC(=O)Cc2nonc2C)CC1</td>\n",
       "      <td>ZINC001432326999</td>\n",
       "      <td>337.380</td>\n",
       "      <td>-0.400</td>\n",
       "      <td>0</td>\n",
       "      <td>20</td>\n",
       "      <td>EBAD</td>\n",
       "    </tr>\n",
       "    <tr>\n",
       "      <th>3</th>\n",
       "      <td>O=C(N[C@@H]1CC[C@H](F)C1)[C@H]1C[C@@H]1c1ccc2c...</td>\n",
       "      <td>ZINC000345651486</td>\n",
       "      <td>305.349</td>\n",
       "      <td>2.568</td>\n",
       "      <td>0</td>\n",
       "      <td>20</td>\n",
       "      <td>DFAD</td>\n",
       "    </tr>\n",
       "    <tr>\n",
       "      <th>4</th>\n",
       "      <td>COCC(=O)N(C)CC(=O)NCC1(Nc2nccn3nnnc23)CC1</td>\n",
       "      <td>ZINC001110378235</td>\n",
       "      <td>348.367</td>\n",
       "      <td>-1.315</td>\n",
       "      <td>0</td>\n",
       "      <td>20</td>\n",
       "      <td>EAAD</td>\n",
       "    </tr>\n",
       "  </tbody>\n",
       "</table>\n",
       "</div>"
      ],
      "text/plain": [
       "                                              smiles           zinc_id  \\\n",
       "0                CCN(CCSC)C(=O)N[C@@](C)(CC)C(F)(F)F  ZINC000933510105   \n",
       "1     CC1(C)CN(C(=O)Nc2cc3ccccc3nn2)C[C@@]2(CCOC2)O1  ZINC000888615590   \n",
       "2      CC[C@H](NC(C)=O)C(=O)NCC1(NC(=O)Cc2nonc2C)CC1  ZINC001432326999   \n",
       "3  O=C(N[C@@H]1CC[C@H](F)C1)[C@H]1C[C@@H]1c1ccc2c...  ZINC000345651486   \n",
       "4          COCC(=O)N(C)CC(=O)NCC1(Nc2nccn3nnnc23)CC1  ZINC001110378235   \n",
       "\n",
       "       mwt   logp  reactive  purchasable tranche_name  \n",
       "0  286.363  3.112         0           20         CGAD  \n",
       "1  342.399  2.432         0           20         EEAD  \n",
       "2  337.380 -0.400         0           20         EBAD  \n",
       "3  305.349  2.568         0           20         DFAD  \n",
       "4  348.367 -1.315         0           20         EAAD  "
      ]
     },
     "execution_count": 14,
     "metadata": {},
     "output_type": "execute_result"
    }
   ],
   "source": [
    "zinc_dc = pd.read_csv('/nfs/turbo/umms-welchjd/hengshi/perturb_gan/data/smiles/zinc_deepchem_molnet/zinc15_250K_2D.csv')\n",
    "zinc_dc.head()"
   ]
  },
  {
   "cell_type": "code",
   "execution_count": 16,
   "metadata": {},
   "outputs": [
    {
     "data": {
      "text/plain": [
       "93"
      ]
     },
     "execution_count": 16,
     "metadata": {},
     "output_type": "execute_result"
    }
   ],
   "source": [
    "max([len(i) for i in zinc_dc['smiles']])"
   ]
  },
  {
   "cell_type": "code",
   "execution_count": 24,
   "metadata": {},
   "outputs": [],
   "source": [
    "zinc_dc_list = list(zinc_dc['smiles'])"
   ]
  },
  {
   "cell_type": "code",
   "execution_count": 25,
   "metadata": {},
   "outputs": [],
   "source": [
    "charset_dc_list = []\n",
    "\n",
    "len_dc_list = []\n",
    "for i in zinc_dc_list:\n",
    "    for j in i:\n",
    "        if j not in charset_dc_list:\n",
    "            charset_dc_list.append(j)\n",
    "    len_dc_list.append(len(i))\n",
    "max_dc_len = max(len_dc_list)"
   ]
  },
  {
   "cell_type": "code",
   "execution_count": 26,
   "metadata": {},
   "outputs": [
    {
     "data": {
      "text/plain": [
       "93"
      ]
     },
     "execution_count": 26,
     "metadata": {},
     "output_type": "execute_result"
    }
   ],
   "source": [
    "max_dc_len"
   ]
  },
  {
   "cell_type": "code",
   "execution_count": null,
   "metadata": {},
   "outputs": [],
   "source": []
  },
  {
   "cell_type": "code",
   "execution_count": null,
   "metadata": {},
   "outputs": [],
   "source": []
  },
  {
   "cell_type": "code",
   "execution_count": null,
   "metadata": {},
   "outputs": [],
   "source": []
  },
  {
   "cell_type": "code",
   "execution_count": 27,
   "metadata": {},
   "outputs": [],
   "source": [
    "path_zinc = '/nfs/turbo/umms-welchjd/hengshi/perturb_gan/data/smiles/zinc_deepchem_molnet/'\n",
    "zinc_name = 'zinc_dc_canon.csv'\n",
    "zinc_pd = pd.read_csv(os.path.join(path_zinc, zinc_name))\n",
    "zinc_dc_canon = list(zinc_pd.iloc[:, 1])"
   ]
  },
  {
   "cell_type": "code",
   "execution_count": 28,
   "metadata": {},
   "outputs": [],
   "source": [
    "charset_dcc_list = []\n",
    "\n",
    "len_dcc_list = []\n",
    "for i in zinc_dc_canon:\n",
    "    for j in i:\n",
    "        if j not in charset_dcc_list:\n",
    "            charset_dcc_list.append(j)\n",
    "    len_dcc_list.append(len(i))\n",
    "max_dcc_len = max(len_dcc_list)"
   ]
  },
  {
   "cell_type": "code",
   "execution_count": 32,
   "metadata": {},
   "outputs": [
    {
     "data": {
      "text/plain": [
       "(34, 33)"
      ]
     },
     "execution_count": 32,
     "metadata": {},
     "output_type": "execute_result"
    }
   ],
   "source": [
    "len(charset_dcc_list), len(charset_dc_list)"
   ]
  },
  {
   "cell_type": "code",
   "execution_count": 37,
   "metadata": {},
   "outputs": [],
   "source": [
    "list_diff = [i for i in range(len(zinc_dc_canon)) if zinc_dc_canon[i] != zinc_dc_list[i]]"
   ]
  },
  {
   "cell_type": "code",
   "execution_count": 40,
   "metadata": {},
   "outputs": [
    {
     "data": {
      "text/plain": [
       "250000"
      ]
     },
     "execution_count": 40,
     "metadata": {},
     "output_type": "execute_result"
    }
   ],
   "source": [
    "len(zinc_dc_canon)"
   ]
  },
  {
   "cell_type": "code",
   "execution_count": 41,
   "metadata": {},
   "outputs": [],
   "source": [
    "use = []\n",
    "for i in range(len(zinc_dc_canon)):\n",
    "    i_data = zinc_dc_canon[i]\n",
    "    if '7' in i_data:\n",
    "        use.append(i)"
   ]
  },
  {
   "cell_type": "code",
   "execution_count": 44,
   "metadata": {},
   "outputs": [
    {
     "data": {
      "text/plain": [
       "('Cc1ncc(CN2CC(NC(=O)[C@H]3[C@H]4[C@@H]5C[C@H]6[C@@H]3[C@H]3C[C@@H]6[C@@H]5[C@H]43)C2)o1',\n",
       " 'Cc1ncc(CN2CC(NC(=O)[C@H]3[C@H]4[C@@H]5C[C@@H]6[C@@H]7C[C@@H]([C@@H]4[C@@H]75)[C@@H]63)C2)o1')"
      ]
     },
     "execution_count": 44,
     "metadata": {},
     "output_type": "execute_result"
    }
   ],
   "source": [
    "zinc_dc_list[use[0]], zinc_dc_canon[use[0]]"
   ]
  },
  {
   "cell_type": "code",
   "execution_count": 35,
   "metadata": {},
   "outputs": [
    {
     "data": {
      "text/plain": [
       "{'7'}"
      ]
     },
     "execution_count": 35,
     "metadata": {},
     "output_type": "execute_result"
    }
   ],
   "source": [
    "set(charset_dcc_list) - set(charset_dc_list)"
   ]
  },
  {
   "cell_type": "code",
   "execution_count": 34,
   "metadata": {},
   "outputs": [
    {
     "data": {
      "text/plain": [
       "['C',\n",
       " 'N',\n",
       " '(',\n",
       " 'S',\n",
       " ')',\n",
       " '=',\n",
       " 'O',\n",
       " '[',\n",
       " '@',\n",
       " ']',\n",
       " 'F',\n",
       " '1',\n",
       " 'c',\n",
       " '2',\n",
       " '3',\n",
       " 'n',\n",
       " 'H',\n",
       " 'o',\n",
       " '4',\n",
       " '-',\n",
       " '#',\n",
       " 's',\n",
       " 'l',\n",
       " '+',\n",
       " '/',\n",
       " '\\\\',\n",
       " 'B',\n",
       " 'r',\n",
       " 'P',\n",
       " 'i',\n",
       " '5',\n",
       " 'I',\n",
       " '6']"
      ]
     },
     "execution_count": 34,
     "metadata": {},
     "output_type": "execute_result"
    }
   ],
   "source": [
    "charset_dc_list"
   ]
  },
  {
   "cell_type": "code",
   "execution_count": 36,
   "metadata": {},
   "outputs": [
    {
     "data": {
      "text/plain": [
       "['C',\n",
       " 'N',\n",
       " '(',\n",
       " 'S',\n",
       " ')',\n",
       " '=',\n",
       " 'O',\n",
       " '[',\n",
       " '@',\n",
       " ']',\n",
       " 'F',\n",
       " '1',\n",
       " 'c',\n",
       " '2',\n",
       " '3',\n",
       " 'n',\n",
       " 'H',\n",
       " 'o',\n",
       " '4',\n",
       " '-',\n",
       " '#',\n",
       " 's',\n",
       " 'l',\n",
       " '+',\n",
       " '/',\n",
       " '\\\\',\n",
       " 'B',\n",
       " 'r',\n",
       " 'P',\n",
       " 'i',\n",
       " '5',\n",
       " 'I',\n",
       " '6',\n",
       " '7']"
      ]
     },
     "execution_count": 36,
     "metadata": {},
     "output_type": "execute_result"
    }
   ],
   "source": [
    "charset_dcc_list"
   ]
  },
  {
   "cell_type": "code",
   "execution_count": 54,
   "metadata": {},
   "outputs": [
    {
     "data": {
      "text/plain": [
       "{'8'}"
      ]
     },
     "execution_count": 54,
     "metadata": {},
     "output_type": "execute_result"
    }
   ],
   "source": [
    "set(charset_list) - set(charset_dcc_list) "
   ]
  },
  {
   "cell_type": "code",
   "execution_count": 55,
   "metadata": {},
   "outputs": [
    {
     "data": {
      "text/plain": [
       "{'i'}"
      ]
     },
     "execution_count": 55,
     "metadata": {},
     "output_type": "execute_result"
    }
   ],
   "source": [
    " set(charset_dcc_list) - set(charset_list) "
   ]
  },
  {
   "cell_type": "code",
   "execution_count": 8,
   "metadata": {},
   "outputs": [],
   "source": [
    "X = mu.smiles_to_hot(smiles, MAX_LEN, params[\n",
    "                             'PADDING'], CHAR_INDICES, NCHARS)"
   ]
  },
  {
   "cell_type": "code",
   "execution_count": 13,
   "metadata": {},
   "outputs": [],
   "source": [
    "dot_smile = []\n",
    "for i in chem_188:\n",
    "    if '.' in i:\n",
    "        dot_smile.append(i)\n",
    "    "
   ]
  },
  {
   "cell_type": "code",
   "execution_count": 14,
   "metadata": {},
   "outputs": [
    {
     "data": {
      "text/plain": [
       "['CC1(C)CNc2cc(NC(=O)c3cccnc3NCc3ccncc3)ccc21.O=P(O)(O)O.O=P(O)(O)O',\n",
       " 'CS(=O)(=O)CCNCc1ccc(-c2ccc3ncnc(Nc4ccc(OCc5cccc(F)c5)c(Cl)c4)c3c2)o1.Cc1ccc(S(=O)(=O)O)cc1.Cc1ccc(S(=O)(=O)O)cc1',\n",
       " 'CN(C)CCOc1ccc(/C(=C(/CCCl)c2ccccc2)c2ccccc2)cc1.O=C(O)CC(O)(CC(=O)O)C(=O)O',\n",
       " 'CNC(=O)c1cc(Oc2ccc(NC(=O)Nc3ccc(Cl)c(C(F)(F)F)c3)cc2)ccn1.Cc1ccc(S(=O)(=O)O)cc1',\n",
       " 'COC1=CC(c2cc3ccccc3[nH]2)=N/C1=C\\\\c1[nH]c(C)cc1C.CS(=O)(=O)O',\n",
       " 'CS(=O)(=O)O.Cn1cc(C2=C(c3cn(CCCSC(=N)N)c4ccccc34)C(=O)NC2=O)c2ccccc21',\n",
       " 'CS(=O)(=O)O.O=C(Nc1cccc(Cl)c1)Nc1ncc(CCNc2ncnc3ccsc23)s1',\n",
       " 'CCS(=O)(=O)N1CCN(c2ccc(Nc3ncc(C(N)=O)c(NC4CC4)n3)cc2)CC1.Cl',\n",
       " 'CN1CCC(c2c(O)cc(O)c3c(=O)cc(-c4ccccc4Cl)oc23)C(O)C1.Cl',\n",
       " 'CN1CCc2c(c3ccccc3n2Cc2ccc(C(=O)NO)cc2)C1.Cl',\n",
       " 'COC1/C=C\\\\C=C(/C)C(=O)NC2=CC(=O)C(NCCN(C)C)=C(CC(C)CC(OC)C(O)C(C)/C=C(\\\\C)C1OC(N)=O)C2=O.Cl',\n",
       " 'COCCCc1sc(-c2ccccc2)nc1C(=O)Nc1ccccc1-c1nc2cc(CN3CCCC3)cnc2s1.Cl',\n",
       " 'Cl.Cl.c1ccc([C@@H]2C[C@H]2NC2CCNCC2)cc1',\n",
       " 'Cl.Cl.Cn1cc(CNCC2CCN(c3ncc(C(=O)NO)cn3)CC2)c2ccccc21',\n",
       " 'Cl.Cl.Fc1cc(-c2cccc3ncc(-c4cnn(C5CCNCC5)c4)nc23)cc(F)c1CN1CCOCC1',\n",
       " 'Cl.O=C(Nc1ccccc1-c1cn2c(CN3CCNCC3)csc2n1)c1cnc2ccccc2n1',\n",
       " 'Cl.O=S(=O)(c1cccc2cnccc12)N1CCCNCC1',\n",
       " 'Cl.N=c1ccn2c(n1)OC1C(O)C(CO)OC12',\n",
       " '*.Cl.N[C@@H]1C[C@H]1c1ccccc1',\n",
       " 'CCN(CC)Cc1ccc2cc(COC(=O)Nc3ccc(C(=O)NO)cc3)ccc2c1.Cl.O',\n",
       " 'NCCCC(O)(P(=O)(O)O)P(=O)(O)O[Na].O.O.O',\n",
       " 'C[C@@H]1CCN(C(=O)CC#N)C[C@@H]1N(C)c1ncnc2[nH]ccc12.O=C(O)CC(O)(CC(=O)O)C(=O)O',\n",
       " 'CNCc1ccc(-c2[nH]c3cc(F)cc4c3c2CCNC4=O)cc1.O=P(O)(O)O',\n",
       " 'Cc1cc(Nc2cc(N3CCN(C)CC3)nc(/C=C/c3ccccc3)n2)n[nH]1.O=C(O)[C@H](O)[C@@H](O)C(=O)O',\n",
       " 'COCCn1c2c([n+](Cc3cnccn3)c1C)C(=O)c1ccccc1C2=O.[Br-]',\n",
       " 'CCCC(CCC)C(=O)O.CCCC(CCC)C(=O)[O-].[Na+]',\n",
       " 'CCCC(CCC)C(=O)[O-].[Na+]',\n",
       " 'COc1cc(OC)c(/C=C/S(=O)(=O)Cc2ccc(OC)c(NCC(=O)[O-])c2)c(OC)c1.[Na+]',\n",
       " 'O=S(=O)([O-])CCS.[Na+]']"
      ]
     },
     "execution_count": 14,
     "metadata": {},
     "output_type": "execute_result"
    }
   ],
   "source": [
    "dot_smile"
   ]
  },
  {
   "cell_type": "code",
   "execution_count": 15,
   "metadata": {},
   "outputs": [],
   "source": [
    "chem_188_o = list(data_188['Structure'])\n",
    "dot_smile = []\n",
    "for i in chem_188_o:\n",
    "    if '.' in i:\n",
    "        dot_smile.append(i)\n",
    "    "
   ]
  },
  {
   "cell_type": "code",
   "execution_count": 16,
   "metadata": {},
   "outputs": [
    {
     "data": {
      "text/plain": [
       "['CC1(C)CNC2=CC(=CC=C12)NC(=O)C3=C(NCC4=CC=NC=C4)N=CC=C3.O[P](O)(O)=O.O[P](O)(O)=O',\n",
       " 'CC1=CC=C(C=C1)[S](O)(=O)=O.CC2=CC=C(C=C2)[S](O)(=O)=O.C[S](=O)(=O)CCNCC3=CC=C(O3)C4=CC=C5N=CN=C(NC6=CC=C(OCC7=CC=CC(=C7)F)C(=C6)Cl)C5=C4',\n",
       " 'CN(C)CCOC1=CC=C(C=C1)\\\\C(=C(CCCl)/C2=CC=CC=C2)C3=CC=CC=C3.OC(=O)CC(O)(CC(O)=O)C(O)=O',\n",
       " 'CNC(=O)C1=CC(=CC=N1)OC2=CC=C(NC(=O)NC3=CC=C(Cl)C(=C3)C(F)(F)F)C=C2.CC4=CC=C(C=C4)[S](O)(=O)=O',\n",
       " 'COC\\\\1=CC(=NC1=C\\\\C2=C(C)C=C(C)[NH]2)C3=CC4=CC=CC=C4[NH]3.C[S](O)(=O)=O',\n",
       " 'CS(O)(=O)=O.CN1C=C(C2=CC=CC=C12)C1=C(C(=O)NC1=O)C1=CN(CCCSC(N)=N)C2=CC=CC=C12 |c:6,10,36,t:8,12,16,24,34,38|',\n",
       " 'CS(O)(=O)=O.ClC1=CC=CC(NC(=O)NC2=NC=C(CCNC3=NC=NC4=C3SC=C4)S2)=C1 |c:7,23,25,29,33,t:5,14,16,21|',\n",
       " 'Cl.CCS(=O)(=O)N1CCN(CC1)C1=CC=C(NC2=NC(NC3CC3)=C(C=N2)C(N)=O)C=C1 |c:24,26,32,t:12,14,17|',\n",
       " 'Cl.CN1CCC(C(O)C1)C2=C3OC(=CC(=O)C3=C(O)C=C2O)C4=C(Cl)C=CC=C4',\n",
       " 'Cl.CN1CCC2=C(C1)C1=C(C=CC=C1)N2CC1=CC=C(C=C1)C(=O)NO |c:4,10,12,20,22,t:8,18|',\n",
       " 'Cl.COC1CC(C)CC2=C(NCCN(C)C)C(=O)C=C(NC(=O)C(=C\\\\C=C/C(OC)C(OC(N)=O)/C(=C/C(C)C1O)C)\\\\C)C2=O',\n",
       " 'Cl.COCCCC1=C(N=C(S1)C1=CC=CC=C1)C(=O)NC1=CC=CC=C1C1=NC2=CC(CN3CCCC3)=CN=C2S1 |c:7,13,15,23,25,39,41,t:5,11,21,28,30|',\n",
       " 'Cl.Cl.C1[C@@H](NC2CCNCC2)[C@@H]1C1=CC=CC=C1 |r,c:14,16,t:12|',\n",
       " 'Cl.Cl.CN1C=C(CNCC2CCN(CC2)C2=NC=C(C=N2)C(=O)NO)C2=CC=CC=C12 |c:16,18,27,t:2,14,25,29|',\n",
       " 'Cl.Cl.FC1=CC(=CC(F)=C1CN1CCOCC1)C1=C2N=C(C=NC2=CC=C1)C1=CN(N=C1)C1CCNCC1 |c:3,6,17,19,21,24,26,32,t:1,29|',\n",
       " 'Cl.O=C(NC1=CC=CC=C1C1=CN2C(CN3CCNCC3)=CSC2=N1)C1=NC2=CC=CC=C2N=C1 |c:5,7,21,25,32,34,37,t:3,10,28,30|',\n",
       " 'Cl.O=S(=O)(N1CCCNCC1)C1=C2C=CN=CC2=CC=C1 |c:11,13,15,18,20|',\n",
       " 'Cl.OCC1OC2C(OC3=NC(=N)C=CN23)C1O',\n",
       " 'Cl.[*].N[C@@H]1C[C@H]1C1=CC=CC=C1 |r,$;relative stereochemistry_R0;;;;;;;;;;$,c:7,9,t:5|',\n",
       " 'O.Cl.CCN(CC)CC1=CC2=C(C=C1)C=C(COC(=O)NC1=CC=C(C=C1)C(=O)NO)C=C2 |c:8,10,22,24,31,t:6,13,20|',\n",
       " 'O.O.O.NCCCC(O)([P](O)(O)=O)[P](O)(=O)O[Na]',\n",
       " 'OC(=O)CC(O)(CC(O)=O)C(O)=O.C[C@@H]1CCN(C[C@@H]1N(C)C1=C2C=CNC2=NC=N1)C(=O)CC#N |r,c:22,24,28,30|',\n",
       " 'OP(O)(O)=O.CNCC1=CC=C(C=C1)C1=C2CCNC(=O)C3=CC(F)=CC(N1)=C23 |c:9,11,14,24,t:7,21,28|',\n",
       " 'O[C@H]([C@@H](O)C(O)=O)C(O)=O.CN1CCN(CC1)C1=NC(\\\\C=C\\\\C2=CC=CC=C2)=NC(NC2=NNC(C)=C2)=C1 |r,c:24,26,28,36,38,t:17,22,32|',\n",
       " '[Br-].COCC[N]1C(=[N+](CC2=CN=CC=N2)C3=C1C(=O)C4=C(C=CC=C4)C3=O)C',\n",
       " '[Na+].CCCC(CCC)C(O)=O.CCCC(CCC)C([O-])=O',\n",
       " '[Na+].CCCC(CCC)C([O-])=O',\n",
       " '[Na+].COC1=CC(=C(\\\\C=C\\\\[S](=O)(=O)CC2=CC=C(OC)C(=C2)NCC([O-])=O)C(=C1)OC)OC',\n",
       " '[Na+].[O-][S](=O)(=O)CCS']"
      ]
     },
     "execution_count": 16,
     "metadata": {},
     "output_type": "execute_result"
    }
   ],
   "source": [
    "dot_smile"
   ]
  },
  {
   "cell_type": "code",
   "execution_count": 16,
   "metadata": {},
   "outputs": [],
   "source": [
    "smiles_list_trans = []\n",
    "for i in chem_188:\n",
    "    if '.' in i:\n",
    "        smile = ''\n",
    "        for j in i: \n",
    "            if j != '.':\n",
    "                smile += j\n",
    "        smiles_list_trans.append(smile)\n",
    "    else:\n",
    "        smiles_list_trans.append(i)"
   ]
  },
  {
   "cell_type": "code",
   "execution_count": 17,
   "metadata": {},
   "outputs": [],
   "source": [
    "smiles_list_trans1 = []\n",
    "for i in smiles_list_trans:\n",
    "    if '*' in i:\n",
    "        smile = ''\n",
    "        for j in i: \n",
    "            if j != '*':\n",
    "                smile += j\n",
    "        smiles_list_trans1.append(smile)\n",
    "    else:\n",
    "        smiles_list_trans1.append(i)"
   ]
  },
  {
   "cell_type": "code",
   "execution_count": 18,
   "metadata": {},
   "outputs": [],
   "source": [
    "smiles_list_trans2 = []\n",
    "for i in smiles_list_trans1:\n",
    "    if 'a' in i:\n",
    "        smile = ''\n",
    "        for j in i: \n",
    "            if j != 'a':\n",
    "                smile += j\n",
    "        smiles_list_trans2.append(smile)\n",
    "    else:\n",
    "        smiles_list_trans2.append(i)"
   ]
  },
  {
   "cell_type": "code",
   "execution_count": 19,
   "metadata": {},
   "outputs": [],
   "source": [
    "\n",
    "for i in range(len(smiles_list_trans2)):\n",
    "    if len(smiles_list_trans2[i]) > 120:\n",
    "        temp = smiles_list_trans2[i][:120]\n",
    "        smiles_list_trans2[i] = temp\n",
    "        \n",
    "    "
   ]
  },
  {
   "cell_type": "code",
   "execution_count": 20,
   "metadata": {},
   "outputs": [
    {
     "data": {
      "text/plain": [
       "188"
      ]
     },
     "execution_count": 20,
     "metadata": {},
     "output_type": "execute_result"
    }
   ],
   "source": [
    "len(smiles_list_trans2)"
   ]
  },
  {
   "cell_type": "code",
   "execution_count": 22,
   "metadata": {},
   "outputs": [
    {
     "data": {
      "text/html": [
       "<div>\n",
       "<style scoped>\n",
       "    .dataframe tbody tr th:only-of-type {\n",
       "        vertical-align: middle;\n",
       "    }\n",
       "\n",
       "    .dataframe tbody tr th {\n",
       "        vertical-align: top;\n",
       "    }\n",
       "\n",
       "    .dataframe thead th {\n",
       "        text-align: right;\n",
       "    }\n",
       "</style>\n",
       "<table border=\"1\" class=\"dataframe\">\n",
       "  <thead>\n",
       "    <tr style=\"text-align: right;\">\n",
       "      <th></th>\n",
       "      <th>Unnamed: 0</th>\n",
       "      <th>treatment</th>\n",
       "      <th>Structure</th>\n",
       "      <th>Structure_Canonize</th>\n",
       "    </tr>\n",
       "  </thead>\n",
       "  <tbody>\n",
       "    <tr>\n",
       "      <th>0</th>\n",
       "      <td>0</td>\n",
       "      <td>S1172</td>\n",
       "      <td>C(CC1=C[NH]C2=CC=CC=C12)NC3=CC=C(NC4=CC=NC=C4)...</td>\n",
       "      <td>c1ccc2c(CCNc3ccc(Nc4ccncc4)cc3)c[nH]c2c1</td>\n",
       "    </tr>\n",
       "    <tr>\n",
       "      <th>1</th>\n",
       "      <td>1</td>\n",
       "      <td>S2818</td>\n",
       "      <td>CC(=O)NC1=CC=C(C=C1)C(=O)NC1=C(N)C=CC=C1 |c:6,...</td>\n",
       "      <td>CC(=O)Nc1ccc(C(=O)Nc2ccccc2N)cc1</td>\n",
       "    </tr>\n",
       "    <tr>\n",
       "      <th>2</th>\n",
       "      <td>2</td>\n",
       "      <td>S1140</td>\n",
       "      <td>CC(=O)NC1=CC=C(OCC(C)(O)C(=O)NC2=CC=C(C(=C2)C(...</td>\n",
       "      <td>CC(=O)Nc1ccc(OCC(C)(O)C(=O)Nc2ccc([N+](=O)[O-]...</td>\n",
       "    </tr>\n",
       "    <tr>\n",
       "      <th>3</th>\n",
       "      <td>3</td>\n",
       "      <td>S8502</td>\n",
       "      <td>CC(C)(CNC(=O)C1=CC(=CC=C1)C1=NOC(=N1)C(F)(F)F)...</td>\n",
       "      <td>CC(C)(CNC(=O)c1cccc(-c2noc(C(F)(F)F)n2)c1)c1co...</td>\n",
       "    </tr>\n",
       "    <tr>\n",
       "      <th>4</th>\n",
       "      <td>4</td>\n",
       "      <td>S2003</td>\n",
       "      <td>CC(C)C1=NN=C(C)[N]1C2CC3CCC(C2)N3CCC(NC(=O)C4C...</td>\n",
       "      <td>Cc1nnc(C(C)C)n1C1CC2CCC(C1)N2CCC(NC(=O)C1CCC(F...</td>\n",
       "    </tr>\n",
       "  </tbody>\n",
       "</table>\n",
       "</div>"
      ],
      "text/plain": [
       "   Unnamed: 0 treatment                                          Structure  \\\n",
       "0           0     S1172  C(CC1=C[NH]C2=CC=CC=C12)NC3=CC=C(NC4=CC=NC=C4)...   \n",
       "1           1     S2818  CC(=O)NC1=CC=C(C=C1)C(=O)NC1=C(N)C=CC=C1 |c:6,...   \n",
       "2           2     S1140  CC(=O)NC1=CC=C(OCC(C)(O)C(=O)NC2=CC=C(C(=C2)C(...   \n",
       "3           3     S8502  CC(C)(CNC(=O)C1=CC(=CC=C1)C1=NOC(=N1)C(F)(F)F)...   \n",
       "4           4     S2003  CC(C)C1=NN=C(C)[N]1C2CC3CCC(C2)N3CCC(NC(=O)C4C...   \n",
       "\n",
       "                                  Structure_Canonize  \n",
       "0           c1ccc2c(CCNc3ccc(Nc4ccncc4)cc3)c[nH]c2c1  \n",
       "1                   CC(=O)Nc1ccc(C(=O)Nc2ccccc2N)cc1  \n",
       "2  CC(=O)Nc1ccc(OCC(C)(O)C(=O)Nc2ccc([N+](=O)[O-]...  \n",
       "3  CC(C)(CNC(=O)c1cccc(-c2noc(C(F)(F)F)n2)c1)c1co...  \n",
       "4  Cc1nnc(C(C)C)n1C1CC2CCC(C1)N2CCC(NC(=O)C1CCC(F...  "
      ]
     },
     "execution_count": 22,
     "metadata": {},
     "output_type": "execute_result"
    }
   ],
   "source": [
    "data_188.head()"
   ]
  },
  {
   "cell_type": "code",
   "execution_count": 23,
   "metadata": {},
   "outputs": [],
   "source": [
    "data_188['SMILES_for_onehot'] = smiles_list_trans2"
   ]
  },
  {
   "cell_type": "code",
   "execution_count": 24,
   "metadata": {},
   "outputs": [],
   "source": [
    "data_188.to_csv(\"/nfs/turbo/umms-welchjd/hengshi/perturb_gan/chemical_vae-master_newTrain/OnehotData_188_smiles.csv\")"
   ]
  },
  {
   "cell_type": "code",
   "execution_count": 21,
   "metadata": {},
   "outputs": [],
   "source": [
    "np.save(\"/nfs/turbo/umms-welchjd/hengshi/perturb_gan/chemical_vae-master_newTrain/OnehotData_188_smiles.npy\", np.array(smiles_list_trans2))"
   ]
  },
  {
   "cell_type": "code",
   "execution_count": null,
   "metadata": {},
   "outputs": [],
   "source": []
  },
  {
   "cell_type": "code",
   "execution_count": 41,
   "metadata": {},
   "outputs": [],
   "source": [
    "X188 = mu.smiles_to_hot(smiles_list_trans2, MAX_LEN, params[\n",
    "                             'PADDING'], CHAR_INDICES, NCHARS)"
   ]
  },
  {
   "cell_type": "code",
   "execution_count": 43,
   "metadata": {},
   "outputs": [],
   "source": [
    "np.save(\"/nfs/turbo/umms-welchjd/hengshi/perturb_gan/chemical_vae-master_newTrain/OnehotData_188.npy\", X188)"
   ]
  },
  {
   "cell_type": "code",
   "execution_count": 18,
   "metadata": {},
   "outputs": [],
   "source": [
    "# images\n",
    "path_images = '/nfs/turbo/umms-welchjd/hengshi/perturb_gan/data/cell_image'\n",
    "smiles_img = np.load(os.path.join(path_images, 'UniqueSMILES.npy'), allow_pickle=True)"
   ]
  },
  {
   "cell_type": "code",
   "execution_count": 20,
   "metadata": {},
   "outputs": [
    {
     "data": {
      "text/plain": [
       "(82,)"
      ]
     },
     "execution_count": 20,
     "metadata": {},
     "output_type": "execute_result"
    }
   ],
   "source": [
    "smiles_img.shape"
   ]
  },
  {
   "cell_type": "code",
   "execution_count": 21,
   "metadata": {},
   "outputs": [],
   "source": [
    "# canonize\n",
    "change = []\n",
    "smiles_list = []\n",
    "for i in range(len(smiles_img)):\n",
    "    smile = mu.canon_smiles(smiles_img[i])\n",
    "    if smiles_img[i] != smile:\n",
    "        change.append(i)\n",
    "    smiles_list.append(smile)"
   ]
  },
  {
   "cell_type": "code",
   "execution_count": 23,
   "metadata": {},
   "outputs": [
    {
     "data": {
      "text/plain": [
       "78"
      ]
     },
     "execution_count": 23,
     "metadata": {},
     "output_type": "execute_result"
    }
   ],
   "source": [
    "len(change)"
   ]
  },
  {
   "cell_type": "code",
   "execution_count": 24,
   "metadata": {},
   "outputs": [],
   "source": [
    "charset_list = []\n",
    "\n",
    "len_list = []\n",
    "for i in smiles_list:\n",
    "    for j in i:\n",
    "        if j not in charset_list:\n",
    "            charset_list.append(j)\n",
    "    len_list.append(len(i))\n",
    "max_len = max(len_list)"
   ]
  },
  {
   "cell_type": "code",
   "execution_count": 27,
   "metadata": {},
   "outputs": [
    {
     "data": {
      "text/plain": [
       "(1, 82)"
      ]
     },
     "execution_count": 27,
     "metadata": {},
     "output_type": "execute_result"
    }
   ],
   "source": [
    "(np.array(len_list) > 120).sum(), len(len_list)"
   ]
  },
  {
   "cell_type": "code",
   "execution_count": 28,
   "metadata": {},
   "outputs": [
    {
     "data": {
      "text/plain": [
       "{' ', '6', '7', '8', 'P'}"
      ]
     },
     "execution_count": 28,
     "metadata": {},
     "output_type": "execute_result"
    }
   ],
   "source": [
    " set(list(CHAR_INDICES.keys())) - set(charset_list)"
   ]
  },
  {
   "cell_type": "code",
   "execution_count": 29,
   "metadata": {},
   "outputs": [
    {
     "data": {
      "text/plain": [
       "{'.'}"
      ]
     },
     "execution_count": 29,
     "metadata": {},
     "output_type": "execute_result"
    }
   ],
   "source": [
    "set(charset_list) -  set(list(CHAR_INDICES.keys())) "
   ]
  },
  {
   "cell_type": "code",
   "execution_count": 32,
   "metadata": {},
   "outputs": [
    {
     "name": "stdout",
     "output_type": "stream",
     "text": [
      "C[n+]1c2cc(N)ccc2cc2ccc(N)cc21.Nc1ccc2cc3ccc(N)cc3nc2c1\n",
      "55\n"
     ]
    }
   ],
   "source": [
    "for i in smiles_list:\n",
    "    if '.' in i:\n",
    "        print(i)\n",
    "        print(len(i))"
   ]
  },
  {
   "cell_type": "code",
   "execution_count": 35,
   "metadata": {},
   "outputs": [
    {
     "data": {
      "text/plain": [
       "120"
      ]
     },
     "execution_count": 35,
     "metadata": {},
     "output_type": "execute_result"
    }
   ],
   "source": [
    "MAX_LEN"
   ]
  },
  {
   "cell_type": "code",
   "execution_count": 36,
   "metadata": {},
   "outputs": [],
   "source": [
    "smiles_list_trans = []\n",
    "for i in smiles_list:\n",
    "    \n",
    "    if len(i) > MAX_LEN:\n",
    "        i = i[:MAX_LEN]\n",
    "    if '.' in i:\n",
    "        smile = ''\n",
    "        for j in i: \n",
    "            if j != '.':\n",
    "                smile += j\n",
    "        smiles_list_trans.append(smile)\n",
    "    else:\n",
    "        smiles_list_trans.append(i)"
   ]
  },
  {
   "cell_type": "code",
   "execution_count": 39,
   "metadata": {},
   "outputs": [],
   "source": [
    "XImg = mu.smiles_to_hot(smiles_list_trans, MAX_LEN, params['PADDING'], CHAR_INDICES, NCHARS)"
   ]
  },
  {
   "cell_type": "code",
   "execution_count": 40,
   "metadata": {},
   "outputs": [
    {
     "data": {
      "text/plain": [
       "(82, 120, 35)"
      ]
     },
     "execution_count": 40,
     "metadata": {},
     "output_type": "execute_result"
    }
   ],
   "source": [
    "XImg.shape"
   ]
  },
  {
   "cell_type": "code",
   "execution_count": 42,
   "metadata": {},
   "outputs": [],
   "source": [
    "np.save(os.path.join(path_images, \"OnehotData_Imgs.npy\"), XImg)"
   ]
  },
  {
   "cell_type": "code",
   "execution_count": 43,
   "metadata": {},
   "outputs": [
    {
     "data": {
      "text/plain": [
       "'/nfs/turbo/umms-welchjd/hengshi/perturb_gan/data/cell_image'"
      ]
     },
     "execution_count": 43,
     "metadata": {},
     "output_type": "execute_result"
    }
   ],
   "source": [
    "path_images"
   ]
  },
  {
   "cell_type": "code",
   "execution_count": 38,
   "metadata": {},
   "outputs": [
    {
     "data": {
      "text/plain": [
       "188"
      ]
     },
     "execution_count": 38,
     "metadata": {},
     "output_type": "execute_result"
    }
   ],
   "source": [
    "len(hot_data)"
   ]
  },
  {
   "cell_type": "code",
   "execution_count": 39,
   "metadata": {},
   "outputs": [
    {
     "data": {
      "text/plain": [
       "(40, 120, 35)"
      ]
     },
     "execution_count": 39,
     "metadata": {},
     "output_type": "execute_result"
    }
   ],
   "source": [
    "hot_data[0].shape"
   ]
  },
  {
   "cell_type": "code",
   "execution_count": 26,
   "metadata": {},
   "outputs": [],
   "source": [
    "import pandas as pd\n",
    "smiles = pd.read_csv('/nfs/turbo/umms-welchjd/hengshi/perturb_gan/data/LINCS/oneHot/GSE92742_Broad_LINCS_Level3_INF_mlr12k_n1319138x12328_processed_UniqueCanonicalSmiles.csv')"
   ]
  },
  {
   "cell_type": "code",
   "execution_count": 27,
   "metadata": {},
   "outputs": [
    {
     "data": {
      "text/html": [
       "<div>\n",
       "<style scoped>\n",
       "    .dataframe tbody tr th:only-of-type {\n",
       "        vertical-align: middle;\n",
       "    }\n",
       "\n",
       "    .dataframe tbody tr th {\n",
       "        vertical-align: top;\n",
       "    }\n",
       "\n",
       "    .dataframe thead th {\n",
       "        text-align: right;\n",
       "    }\n",
       "</style>\n",
       "<table border=\"1\" class=\"dataframe\">\n",
       "  <thead>\n",
       "    <tr style=\"text-align: right;\">\n",
       "      <th></th>\n",
       "      <th>Unnamed: 0</th>\n",
       "      <th>0</th>\n",
       "    </tr>\n",
       "  </thead>\n",
       "  <tbody>\n",
       "    <tr>\n",
       "      <th>0</th>\n",
       "      <td>0</td>\n",
       "      <td>CCCN1CCCC2Cc3n[nH]cc3CC21</td>\n",
       "    </tr>\n",
       "    <tr>\n",
       "      <th>1</th>\n",
       "      <td>1</td>\n",
       "      <td>O=C1CC(Oc2ccccc12)c3ccccc3</td>\n",
       "    </tr>\n",
       "    <tr>\n",
       "      <th>2</th>\n",
       "      <td>2</td>\n",
       "      <td>C[C@@H]1O[C@@H](OC[C@H]2O[C@@H](Oc3c(oc4cc(O)c...</td>\n",
       "    </tr>\n",
       "    <tr>\n",
       "      <th>3</th>\n",
       "      <td>3</td>\n",
       "      <td>N(Cc1ccccc1)c1ncnc2nc[nH]c12</td>\n",
       "    </tr>\n",
       "    <tr>\n",
       "      <th>4</th>\n",
       "      <td>4</td>\n",
       "      <td>C[C@@H](NC(=O)/C(=C/c1ccc(O)c(O)c1)/C#N)c2ccccc2</td>\n",
       "    </tr>\n",
       "    <tr>\n",
       "      <th>...</th>\n",
       "      <td>...</td>\n",
       "      <td>...</td>\n",
       "    </tr>\n",
       "    <tr>\n",
       "      <th>20325</th>\n",
       "      <td>20325</td>\n",
       "      <td>OC(=O)[C@@]1(Cc2cccc(Nc3nccs3)n2)CC[C@@H](CC1)...</td>\n",
       "    </tr>\n",
       "    <tr>\n",
       "      <th>20326</th>\n",
       "      <td>20326</td>\n",
       "      <td>CN(C)CCOc1ccc(cc1)C(=C(/CCCl)c1ccccc1)\\c1ccccc1</td>\n",
       "    </tr>\n",
       "    <tr>\n",
       "      <th>20327</th>\n",
       "      <td>20327</td>\n",
       "      <td>COc1cc(Nc2ncc3CN=C(c4cc(Cl)ccc4-c3n2)c2c(F)ccc...</td>\n",
       "    </tr>\n",
       "    <tr>\n",
       "      <th>20328</th>\n",
       "      <td>20328</td>\n",
       "      <td>CC1(C)Oc2ccc3C4=C[C@@]56NC(=O)[C@]7(CCCN7C5=O)...</td>\n",
       "    </tr>\n",
       "    <tr>\n",
       "      <th>20329</th>\n",
       "      <td>20329</td>\n",
       "      <td>C[C@@H]1CC(=O)NN=C1c1ccc(N)c(c1)[N+]([O-])=O</td>\n",
       "    </tr>\n",
       "  </tbody>\n",
       "</table>\n",
       "<p>20330 rows × 2 columns</p>\n",
       "</div>"
      ],
      "text/plain": [
       "       Unnamed: 0                                                  0\n",
       "0               0                          CCCN1CCCC2Cc3n[nH]cc3CC21\n",
       "1               1                         O=C1CC(Oc2ccccc12)c3ccccc3\n",
       "2               2  C[C@@H]1O[C@@H](OC[C@H]2O[C@@H](Oc3c(oc4cc(O)c...\n",
       "3               3                       N(Cc1ccccc1)c1ncnc2nc[nH]c12\n",
       "4               4   C[C@@H](NC(=O)/C(=C/c1ccc(O)c(O)c1)/C#N)c2ccccc2\n",
       "...           ...                                                ...\n",
       "20325       20325  OC(=O)[C@@]1(Cc2cccc(Nc3nccs3)n2)CC[C@@H](CC1)...\n",
       "20326       20326    CN(C)CCOc1ccc(cc1)C(=C(/CCCl)c1ccccc1)\\c1ccccc1\n",
       "20327       20327  COc1cc(Nc2ncc3CN=C(c4cc(Cl)ccc4-c3n2)c2c(F)ccc...\n",
       "20328       20328  CC1(C)Oc2ccc3C4=C[C@@]56NC(=O)[C@]7(CCCN7C5=O)...\n",
       "20329       20329       C[C@@H]1CC(=O)NN=C1c1ccc(N)c(c1)[N+]([O-])=O\n",
       "\n",
       "[20330 rows x 2 columns]"
      ]
     },
     "execution_count": 27,
     "metadata": {},
     "output_type": "execute_result"
    }
   ],
   "source": [
    "smiles"
   ]
  },
  {
   "cell_type": "code",
   "execution_count": 28,
   "metadata": {},
   "outputs": [],
   "source": [
    "smiles_list = list(smiles.iloc[:, 1])"
   ]
  },
  {
   "cell_type": "code",
   "execution_count": 29,
   "metadata": {},
   "outputs": [
    {
     "data": {
      "text/plain": [
       "20330"
      ]
     },
     "execution_count": 29,
     "metadata": {},
     "output_type": "execute_result"
    }
   ],
   "source": [
    "len(smiles_list)"
   ]
  },
  {
   "cell_type": "code",
   "execution_count": 30,
   "metadata": {},
   "outputs": [],
   "source": [
    "# canonize\n",
    "smiles_filter_list = []\n",
    "for i in range(len(smiles_list)):\n",
    "    \n",
    "    if smiles_list[i] != 'restricted':\n",
    "        smiles_filter_list.append(smiles_list[i] )"
   ]
  },
  {
   "cell_type": "code",
   "execution_count": 31,
   "metadata": {},
   "outputs": [],
   "source": [
    "# canonize\n",
    "smiles_c_list = []\n",
    "change_list = []\n",
    "for i in range(len(smiles_list)):\n",
    "    \n",
    "    if smiles_list[i] != 'restricted':\n",
    "        smile = mu.canon_smiles(smiles_list[i])\n",
    "        if smiles_list[i] != smile:\n",
    "            change_list.append(i)\n",
    "        smiles_c_list.append(smile)"
   ]
  },
  {
   "cell_type": "code",
   "execution_count": 32,
   "metadata": {},
   "outputs": [
    {
     "data": {
      "text/plain": [
       "17939"
      ]
     },
     "execution_count": 32,
     "metadata": {},
     "output_type": "execute_result"
    }
   ],
   "source": [
    "len(change_list)"
   ]
  },
  {
   "cell_type": "code",
   "execution_count": 33,
   "metadata": {},
   "outputs": [
    {
     "data": {
      "text/plain": [
       "(20330, 20329)"
      ]
     },
     "execution_count": 33,
     "metadata": {},
     "output_type": "execute_result"
    }
   ],
   "source": [
    "len(smiles_list), len(smiles_c_list)"
   ]
  },
  {
   "cell_type": "code",
   "execution_count": 34,
   "metadata": {},
   "outputs": [],
   "source": [
    "smiles_list = smiles_c_list"
   ]
  },
  {
   "cell_type": "code",
   "execution_count": 35,
   "metadata": {},
   "outputs": [],
   "source": [
    "charset_list = []\n",
    "\n",
    "len_list = []\n",
    "for i in smiles_list:\n",
    "    for j in i:\n",
    "        if j not in charset_list:\n",
    "            charset_list.append(j)\n",
    "    len_list.append(len(i))\n",
    "max_len = max(len_list)"
   ]
  },
  {
   "cell_type": "code",
   "execution_count": 36,
   "metadata": {},
   "outputs": [],
   "source": [
    "charset_lincs_list = charset_list.copy()"
   ]
  },
  {
   "cell_type": "code",
   "execution_count": 37,
   "metadata": {},
   "outputs": [],
   "source": [
    "smiles_linc_list = smiles_list"
   ]
  },
  {
   "cell_type": "code",
   "execution_count": 38,
   "metadata": {},
   "outputs": [],
   "source": [
    "specialLincsList = list(set(charset_list) - set(CHARS))"
   ]
  },
  {
   "cell_type": "code",
   "execution_count": 39,
   "metadata": {},
   "outputs": [
    {
     "data": {
      "text/plain": [
       "{' '}"
      ]
     },
     "execution_count": 39,
     "metadata": {},
     "output_type": "execute_result"
    }
   ],
   "source": [
    "set(CHARS) - set(charset_list)"
   ]
  },
  {
   "cell_type": "code",
   "execution_count": 40,
   "metadata": {},
   "outputs": [
    {
     "data": {
      "text/plain": [
       "['g', 'u', 'A', 'M', 'a', '.', 't', 'i', 'd', 'L', 'e']"
      ]
     },
     "execution_count": 40,
     "metadata": {},
     "output_type": "execute_result"
    }
   ],
   "source": [
    "specialLincsList"
   ]
  },
  {
   "cell_type": "code",
   "execution_count": 41,
   "metadata": {},
   "outputs": [],
   "source": [
    "smiles_list_trans = []\n",
    "for t in specialLincsList:\n",
    "    a = 0\n",
    "    for i in smiles_list:\n",
    "        if t in i:\n",
    "            a += 1\n",
    "    smiles_list_trans.append(a)\n",
    "\n"
   ]
  },
  {
   "cell_type": "code",
   "execution_count": 42,
   "metadata": {},
   "outputs": [
    {
     "data": {
      "text/html": [
       "<div>\n",
       "<style scoped>\n",
       "    .dataframe tbody tr th:only-of-type {\n",
       "        vertical-align: middle;\n",
       "    }\n",
       "\n",
       "    .dataframe tbody tr th {\n",
       "        vertical-align: top;\n",
       "    }\n",
       "\n",
       "    .dataframe thead th {\n",
       "        text-align: right;\n",
       "    }\n",
       "</style>\n",
       "<table border=\"1\" class=\"dataframe\">\n",
       "  <thead>\n",
       "    <tr style=\"text-align: right;\">\n",
       "      <th></th>\n",
       "      <th>Token</th>\n",
       "      <th>Number</th>\n",
       "    </tr>\n",
       "  </thead>\n",
       "  <tbody>\n",
       "    <tr>\n",
       "      <th>0</th>\n",
       "      <td>g</td>\n",
       "      <td>3</td>\n",
       "    </tr>\n",
       "    <tr>\n",
       "      <th>1</th>\n",
       "      <td>u</td>\n",
       "      <td>2</td>\n",
       "    </tr>\n",
       "    <tr>\n",
       "      <th>2</th>\n",
       "      <td>A</td>\n",
       "      <td>5</td>\n",
       "    </tr>\n",
       "    <tr>\n",
       "      <th>3</th>\n",
       "      <td>M</td>\n",
       "      <td>1</td>\n",
       "    </tr>\n",
       "    <tr>\n",
       "      <th>4</th>\n",
       "      <td>a</td>\n",
       "      <td>1</td>\n",
       "    </tr>\n",
       "    <tr>\n",
       "      <th>5</th>\n",
       "      <td>.</td>\n",
       "      <td>136</td>\n",
       "    </tr>\n",
       "    <tr>\n",
       "      <th>6</th>\n",
       "      <td>t</td>\n",
       "      <td>2</td>\n",
       "    </tr>\n",
       "    <tr>\n",
       "      <th>7</th>\n",
       "      <td>i</td>\n",
       "      <td>19</td>\n",
       "    </tr>\n",
       "    <tr>\n",
       "      <th>8</th>\n",
       "      <td>d</td>\n",
       "      <td>1</td>\n",
       "    </tr>\n",
       "    <tr>\n",
       "      <th>9</th>\n",
       "      <td>L</td>\n",
       "      <td>1</td>\n",
       "    </tr>\n",
       "    <tr>\n",
       "      <th>10</th>\n",
       "      <td>e</td>\n",
       "      <td>1</td>\n",
       "    </tr>\n",
       "  </tbody>\n",
       "</table>\n",
       "</div>"
      ],
      "text/plain": [
       "   Token  Number\n",
       "0      g       3\n",
       "1      u       2\n",
       "2      A       5\n",
       "3      M       1\n",
       "4      a       1\n",
       "5      .     136\n",
       "6      t       2\n",
       "7      i      19\n",
       "8      d       1\n",
       "9      L       1\n",
       "10     e       1"
      ]
     },
     "execution_count": 42,
     "metadata": {},
     "output_type": "execute_result"
    }
   ],
   "source": [
    "pd.DataFrame({'Token': specialLincsList, 'Number': smiles_list_trans})"
   ]
  },
  {
   "cell_type": "code",
   "execution_count": 43,
   "metadata": {},
   "outputs": [],
   "source": [
    "# shorter than MAX_LEN\n",
    "smiles_list_trans = []\n",
    "for t in specialLincsList:\n",
    "    a = 0\n",
    "    for i in smiles_list:\n",
    "        if (t in i) & (len(i) <= MAX_LEN):\n",
    "            a += 1\n",
    "    smiles_list_trans.append(a)\n"
   ]
  },
  {
   "cell_type": "code",
   "execution_count": 44,
   "metadata": {},
   "outputs": [
    {
     "data": {
      "text/html": [
       "<div>\n",
       "<style scoped>\n",
       "    .dataframe tbody tr th:only-of-type {\n",
       "        vertical-align: middle;\n",
       "    }\n",
       "\n",
       "    .dataframe tbody tr th {\n",
       "        vertical-align: top;\n",
       "    }\n",
       "\n",
       "    .dataframe thead th {\n",
       "        text-align: right;\n",
       "    }\n",
       "</style>\n",
       "<table border=\"1\" class=\"dataframe\">\n",
       "  <thead>\n",
       "    <tr style=\"text-align: right;\">\n",
       "      <th></th>\n",
       "      <th>Token</th>\n",
       "      <th>Number</th>\n",
       "    </tr>\n",
       "  </thead>\n",
       "  <tbody>\n",
       "    <tr>\n",
       "      <th>0</th>\n",
       "      <td>g</td>\n",
       "      <td>3</td>\n",
       "    </tr>\n",
       "    <tr>\n",
       "      <th>1</th>\n",
       "      <td>u</td>\n",
       "      <td>2</td>\n",
       "    </tr>\n",
       "    <tr>\n",
       "      <th>2</th>\n",
       "      <td>A</td>\n",
       "      <td>5</td>\n",
       "    </tr>\n",
       "    <tr>\n",
       "      <th>3</th>\n",
       "      <td>M</td>\n",
       "      <td>1</td>\n",
       "    </tr>\n",
       "    <tr>\n",
       "      <th>4</th>\n",
       "      <td>a</td>\n",
       "      <td>0</td>\n",
       "    </tr>\n",
       "    <tr>\n",
       "      <th>5</th>\n",
       "      <td>.</td>\n",
       "      <td>33</td>\n",
       "    </tr>\n",
       "    <tr>\n",
       "      <th>6</th>\n",
       "      <td>t</td>\n",
       "      <td>2</td>\n",
       "    </tr>\n",
       "    <tr>\n",
       "      <th>7</th>\n",
       "      <td>i</td>\n",
       "      <td>19</td>\n",
       "    </tr>\n",
       "    <tr>\n",
       "      <th>8</th>\n",
       "      <td>d</td>\n",
       "      <td>1</td>\n",
       "    </tr>\n",
       "    <tr>\n",
       "      <th>9</th>\n",
       "      <td>L</td>\n",
       "      <td>1</td>\n",
       "    </tr>\n",
       "    <tr>\n",
       "      <th>10</th>\n",
       "      <td>e</td>\n",
       "      <td>1</td>\n",
       "    </tr>\n",
       "  </tbody>\n",
       "</table>\n",
       "</div>"
      ],
      "text/plain": [
       "   Token  Number\n",
       "0      g       3\n",
       "1      u       2\n",
       "2      A       5\n",
       "3      M       1\n",
       "4      a       0\n",
       "5      .      33\n",
       "6      t       2\n",
       "7      i      19\n",
       "8      d       1\n",
       "9      L       1\n",
       "10     e       1"
      ]
     },
     "execution_count": 44,
     "metadata": {},
     "output_type": "execute_result"
    }
   ],
   "source": [
    "pd.DataFrame({'Token': specialLincsList, 'Number': smiles_list_trans})"
   ]
  },
  {
   "cell_type": "code",
   "execution_count": 45,
   "metadata": {},
   "outputs": [
    {
     "data": {
      "text/plain": [
       "68"
      ]
     },
     "execution_count": 45,
     "metadata": {},
     "output_type": "execute_result"
    }
   ],
   "source": [
    "np.sum( smiles_list_trans)"
   ]
  },
  {
   "cell_type": "code",
   "execution_count": 46,
   "metadata": {},
   "outputs": [
    {
     "data": {
      "text/plain": [
       "(array([], dtype=int64),)"
      ]
     },
     "execution_count": 46,
     "metadata": {},
     "output_type": "execute_result"
    }
   ],
   "source": [
    "np.where(np.array(smiles_list) == 'restricted')"
   ]
  },
  {
   "cell_type": "code",
   "execution_count": 47,
   "metadata": {},
   "outputs": [],
   "source": [
    "# remove non-occuring tokens\n",
    "for t in specialLincsList:\n",
    "    smiles_list_trans = []\n",
    "    for i in smiles_list:\n",
    "        if t in i:\n",
    "            smile = ''\n",
    "            for j in i: \n",
    "                if j != t:\n",
    "                    smile += j\n",
    "            smiles_list_trans.append(smile)\n",
    "        else:\n",
    "            smiles_list_trans.append(i)\n",
    "    smiles_list = smiles_list_trans"
   ]
  },
  {
   "cell_type": "code",
   "execution_count": 48,
   "metadata": {},
   "outputs": [],
   "source": [
    "charset_list = []\n",
    "\n",
    "len_list = []\n",
    "for i in smiles_list:\n",
    "    for j in i:\n",
    "        if j not in charset_list:\n",
    "            charset_list.append(j)\n",
    "    len_list.append(len(i))\n",
    "max_len = max(len_list)"
   ]
  },
  {
   "cell_type": "code",
   "execution_count": 49,
   "metadata": {},
   "outputs": [
    {
     "data": {
      "text/plain": [
       "20329"
      ]
     },
     "execution_count": 49,
     "metadata": {},
     "output_type": "execute_result"
    }
   ],
   "source": [
    "len(smiles_list)"
   ]
  },
  {
   "cell_type": "code",
   "execution_count": 50,
   "metadata": {},
   "outputs": [
    {
     "data": {
      "text/plain": [
       "20065"
      ]
     },
     "execution_count": 50,
     "metadata": {},
     "output_type": "execute_result"
    }
   ],
   "source": [
    "(np.array(len_list) <= MAX_LEN).sum()"
   ]
  },
  {
   "cell_type": "code",
   "execution_count": 51,
   "metadata": {},
   "outputs": [],
   "source": [
    "idx_use = np.where(np.array(len_list) <= MAX_LEN)[0]"
   ]
  },
  {
   "cell_type": "code",
   "execution_count": 52,
   "metadata": {},
   "outputs": [
    {
     "data": {
      "text/plain": [
       "461"
      ]
     },
     "execution_count": 52,
     "metadata": {},
     "output_type": "execute_result"
    }
   ],
   "source": [
    "max_len"
   ]
  },
  {
   "cell_type": "code",
   "execution_count": 53,
   "metadata": {},
   "outputs": [
    {
     "data": {
      "text/plain": [
       "(20330, 2)"
      ]
     },
     "execution_count": 53,
     "metadata": {},
     "output_type": "execute_result"
    }
   ],
   "source": [
    "smiles.shape"
   ]
  },
  {
   "cell_type": "code",
   "execution_count": 54,
   "metadata": {},
   "outputs": [
    {
     "data": {
      "text/plain": [
       "20329"
      ]
     },
     "execution_count": 54,
     "metadata": {},
     "output_type": "execute_result"
    }
   ],
   "source": [
    "len(smiles_list)"
   ]
  },
  {
   "cell_type": "code",
   "execution_count": 55,
   "metadata": {},
   "outputs": [
    {
     "data": {
      "text/plain": [
       "20329"
      ]
     },
     "execution_count": 55,
     "metadata": {},
     "output_type": "execute_result"
    }
   ],
   "source": [
    "len(smiles_filter_list)"
   ]
  },
  {
   "cell_type": "code",
   "execution_count": 81,
   "metadata": {},
   "outputs": [],
   "source": [
    "pd.DataFrame({'SMILE': smiles_filter_list, \n",
    "             'Canonical SMILE': smiles_list}).to_csv('/nfs/turbo/umms-welchjd/hengshi/perturb_gan/data/LINCS/oneHot/GSE92742_Broad_LINCS_Level3_INF_mlr12k_n1319138x12328_processed_UniqueCanonicalSmilesAndCanonicalForms.csv')"
   ]
  },
  {
   "cell_type": "code",
   "execution_count": 57,
   "metadata": {},
   "outputs": [],
   "source": [
    "pd.DataFrame({'SMILE': smiles_filter_list, \n",
    "             'Canonical SMILE': smiles_list\n",
    "             }).iloc[idx_use, :].to_csv('/nfs/turbo/umms-welchjd/hengshi/perturb_gan/data/LINCS/oneHot/GSE92742_Broad_LINCS_Level3_INF_mlr12k_n1319138x12328_processed_UniqueCanonicalSmilesOnehotAndCanonicalForms.csv')"
   ]
  },
  {
   "cell_type": "code",
   "execution_count": 32,
   "metadata": {},
   "outputs": [],
   "source": [
    "XLINCS = mu.smiles_to_hot(smiles_list, MAX_LEN, params[\n",
    "                             'PADDING'], CHAR_INDICES, NCHARS)"
   ]
  },
  {
   "cell_type": "code",
   "execution_count": 33,
   "metadata": {},
   "outputs": [
    {
     "data": {
      "text/plain": [
       "(20065, 120, 35)"
      ]
     },
     "execution_count": 33,
     "metadata": {},
     "output_type": "execute_result"
    }
   ],
   "source": [
    "XLINCS.shape"
   ]
  },
  {
   "cell_type": "code",
   "execution_count": 34,
   "metadata": {},
   "outputs": [],
   "source": [
    "np.save('/nfs/turbo/umms-welchjd/hengshi/perturb_gan/data/LINCS/oneHot/GSE92742_Broad_LINCS_Level3_INF_mlr12k_n1319138x12328_processed_UniqueCanonicalSmilesOneHot.npy', XLINCS)"
   ]
  },
  {
   "cell_type": "code",
   "execution_count": 36,
   "metadata": {},
   "outputs": [
    {
     "data": {
      "text/plain": [
       "array([    0,     1,     3, ..., 20326, 20327, 20328])"
      ]
     },
     "execution_count": 36,
     "metadata": {},
     "output_type": "execute_result"
    }
   ],
   "source": [
    "np.where(np.array(len_list) <= MAX_LEN)[0]"
   ]
  },
  {
   "cell_type": "code",
   "execution_count": 42,
   "metadata": {},
   "outputs": [],
   "source": [
    "smiles_unique = pd.read_csv('/nfs/turbo/umms-welchjd/hengshi/perturb_gan/data/LINCS/oneHot/GSE92742_Broad_LINCS_Level3_INF_mlr12k_n1319138x12328_processed_UniqueCanonicalSmiles.csv')\n",
    "smiles_u = list(smiles_unique.iloc[:, 1])\n",
    "smiles_ui = [i for i in smiles_u if i != 'restricted']\n"
   ]
  },
  {
   "cell_type": "code",
   "execution_count": 80,
   "metadata": {},
   "outputs": [
    {
     "data": {
      "text/plain": [
       "20329"
      ]
     },
     "execution_count": 80,
     "metadata": {},
     "output_type": "execute_result"
    }
   ],
   "source": [
    "len(set(smiles_filter_list) & set(smiles_ui))"
   ]
  },
  {
   "cell_type": "code",
   "execution_count": 40,
   "metadata": {},
   "outputs": [
    {
     "data": {
      "text/plain": [
       "(20065,)"
      ]
     },
     "execution_count": 40,
     "metadata": {},
     "output_type": "execute_result"
    }
   ],
   "source": [
    "np.array(smiles_ui)[np.where(np.array(len_list) <= MAX_LEN)[0]].shape"
   ]
  },
  {
   "cell_type": "code",
   "execution_count": 41,
   "metadata": {},
   "outputs": [],
   "source": [
    "np.save('/nfs/turbo/umms-welchjd/hengshi/perturb_gan/data/LINCS/oneHot/GSE92742_Broad_LINCS_Level3_INF_mlr12k_n1319138x12328_processed_UniqueCanonicalSmilesOneHotSmiles.npy', np.array(smiles_ui)[np.where(np.array(len_list) <= MAX_LEN)[0]])"
   ]
  },
  {
   "cell_type": "markdown",
   "metadata": {},
   "source": [
    "# PubChem 10M \n"
   ]
  },
  {
   "cell_type": "code",
   "execution_count": 57,
   "metadata": {},
   "outputs": [],
   "source": [
    "path_zinc = '/nfs/turbo/umms-welchjd/hengshi/perturb_gan/data/smiles/pubchem'\n",
    "zinc_name = 'pubchem_canon.csv'"
   ]
  },
  {
   "cell_type": "code",
   "execution_count": 58,
   "metadata": {},
   "outputs": [],
   "source": [
    "import pandas as pd\n",
    "import numpy as np"
   ]
  },
  {
   "cell_type": "code",
   "execution_count": 59,
   "metadata": {},
   "outputs": [
    {
     "data": {
      "text/plain": [
       "(9999999, 2)"
      ]
     },
     "execution_count": 59,
     "metadata": {},
     "output_type": "execute_result"
    }
   ],
   "source": [
    "# Canonization\n",
    "pubchem_data = pd.read_csv(os.path.join(path_zinc, zinc_name))\n",
    "pubchem_data.shape"
   ]
  },
  {
   "cell_type": "code",
   "execution_count": 60,
   "metadata": {},
   "outputs": [],
   "source": [
    "key_use = list(CHAR_INDICES.keys())"
   ]
  },
  {
   "cell_type": "code",
   "execution_count": 61,
   "metadata": {},
   "outputs": [
    {
     "data": {
      "text/plain": [
       "['7',\n",
       " '6',\n",
       " 'o',\n",
       " ']',\n",
       " '3',\n",
       " 's',\n",
       " '(',\n",
       " '-',\n",
       " 'S',\n",
       " '/',\n",
       " 'B',\n",
       " '4',\n",
       " '[',\n",
       " ')',\n",
       " '#',\n",
       " 'I',\n",
       " 'l',\n",
       " 'O',\n",
       " 'H',\n",
       " 'c',\n",
       " '1',\n",
       " '@',\n",
       " '=',\n",
       " 'n',\n",
       " 'P',\n",
       " '8',\n",
       " 'C',\n",
       " '2',\n",
       " 'F',\n",
       " '5',\n",
       " 'r',\n",
       " 'N',\n",
       " '+',\n",
       " '\\\\',\n",
       " ' ']"
      ]
     },
     "execution_count": 61,
     "metadata": {},
     "output_type": "execute_result"
    }
   ],
   "source": [
    "key_use"
   ]
  },
  {
   "cell_type": "code",
   "execution_count": 62,
   "metadata": {},
   "outputs": [],
   "source": [
    "smiles_list = list(pubchem_data.iloc[:, 1])"
   ]
  },
  {
   "cell_type": "code",
   "execution_count": 62,
   "metadata": {},
   "outputs": [],
   "source": [
    "charset_list = []\n",
    "\n",
    "len_list = []\n",
    "for i in smiles_list:\n",
    "    for j in i:\n",
    "        if j not in charset_list:\n",
    "            charset_list.append(j)\n",
    "    len_list.append(len(i))\n",
    "max_len = max(len_list)"
   ]
  },
  {
   "cell_type": "code",
   "execution_count": 63,
   "metadata": {},
   "outputs": [
    {
     "data": {
      "text/plain": [
       "62"
      ]
     },
     "execution_count": 63,
     "metadata": {},
     "output_type": "execute_result"
    }
   ],
   "source": [
    "len(charset_list)"
   ]
  },
  {
   "cell_type": "code",
   "execution_count": 64,
   "metadata": {},
   "outputs": [
    {
     "data": {
      "text/plain": [
       "31"
      ]
     },
     "execution_count": 64,
     "metadata": {},
     "output_type": "execute_result"
    }
   ],
   "source": [
    "len(list(set(charset_list) - set(key_use)))"
   ]
  },
  {
   "cell_type": "code",
   "execution_count": 65,
   "metadata": {},
   "outputs": [
    {
     "data": {
      "text/plain": [
       "4"
      ]
     },
     "execution_count": 65,
     "metadata": {},
     "output_type": "execute_result"
    }
   ],
   "source": [
    "len(list(set(key_use) - set(charset_list)))"
   ]
  },
  {
   "cell_type": "code",
   "execution_count": 67,
   "metadata": {},
   "outputs": [
    {
     "data": {
      "text/plain": [
       "62"
      ]
     },
     "execution_count": 67,
     "metadata": {},
     "output_type": "execute_result"
    }
   ],
   "source": [
    "len(charset_list)"
   ]
  },
  {
   "cell_type": "code",
   "execution_count": 19,
   "metadata": {},
   "outputs": [
    {
     "data": {
      "text/html": [
       "<div>\n",
       "<style scoped>\n",
       "    .dataframe tbody tr th:only-of-type {\n",
       "        vertical-align: middle;\n",
       "    }\n",
       "\n",
       "    .dataframe tbody tr th {\n",
       "        vertical-align: top;\n",
       "    }\n",
       "\n",
       "    .dataframe thead th {\n",
       "        text-align: right;\n",
       "    }\n",
       "</style>\n",
       "<table border=\"1\" class=\"dataframe\">\n",
       "  <thead>\n",
       "    <tr style=\"text-align: right;\">\n",
       "      <th></th>\n",
       "      <th>0</th>\n",
       "    </tr>\n",
       "  </thead>\n",
       "  <tbody>\n",
       "    <tr>\n",
       "      <th>count</th>\n",
       "      <td>9.999999e+06</td>\n",
       "    </tr>\n",
       "    <tr>\n",
       "      <th>mean</th>\n",
       "      <td>4.457236e+01</td>\n",
       "    </tr>\n",
       "    <tr>\n",
       "      <th>std</th>\n",
       "      <td>2.124516e+01</td>\n",
       "    </tr>\n",
       "    <tr>\n",
       "      <th>min</th>\n",
       "      <td>3.000000e+00</td>\n",
       "    </tr>\n",
       "    <tr>\n",
       "      <th>25%</th>\n",
       "      <td>3.300000e+01</td>\n",
       "    </tr>\n",
       "    <tr>\n",
       "      <th>50%</th>\n",
       "      <td>4.000000e+01</td>\n",
       "    </tr>\n",
       "    <tr>\n",
       "      <th>75%</th>\n",
       "      <td>5.100000e+01</td>\n",
       "    </tr>\n",
       "    <tr>\n",
       "      <th>max</th>\n",
       "      <td>3.536000e+03</td>\n",
       "    </tr>\n",
       "  </tbody>\n",
       "</table>\n",
       "</div>"
      ],
      "text/plain": [
       "                  0\n",
       "count  9.999999e+06\n",
       "mean   4.457236e+01\n",
       "std    2.124516e+01\n",
       "min    3.000000e+00\n",
       "25%    3.300000e+01\n",
       "50%    4.000000e+01\n",
       "75%    5.100000e+01\n",
       "max    3.536000e+03"
      ]
     },
     "execution_count": 19,
     "metadata": {},
     "output_type": "execute_result"
    }
   ],
   "source": [
    "pd.DataFrame(len_list).describe()"
   ]
  },
  {
   "cell_type": "code",
   "execution_count": 20,
   "metadata": {},
   "outputs": [
    {
     "data": {
      "text/plain": [
       "9999999"
      ]
     },
     "execution_count": 20,
     "metadata": {},
     "output_type": "execute_result"
    }
   ],
   "source": [
    "len(len_list)"
   ]
  },
  {
   "cell_type": "code",
   "execution_count": 21,
   "metadata": {},
   "outputs": [
    {
     "data": {
      "text/plain": [
       "array([ True,  True,  True, ...,  True,  True,  True])"
      ]
     },
     "execution_count": 21,
     "metadata": {},
     "output_type": "execute_result"
    }
   ],
   "source": [
    "(np.array(len_list) <= 120)"
   ]
  },
  {
   "cell_type": "code",
   "execution_count": 22,
   "metadata": {},
   "outputs": [
    {
     "data": {
      "text/html": [
       "<div>\n",
       "<style scoped>\n",
       "    .dataframe tbody tr th:only-of-type {\n",
       "        vertical-align: middle;\n",
       "    }\n",
       "\n",
       "    .dataframe tbody tr th {\n",
       "        vertical-align: top;\n",
       "    }\n",
       "\n",
       "    .dataframe thead th {\n",
       "        text-align: right;\n",
       "    }\n",
       "</style>\n",
       "<table border=\"1\" class=\"dataframe\">\n",
       "  <thead>\n",
       "    <tr style=\"text-align: right;\">\n",
       "      <th></th>\n",
       "      <th>0</th>\n",
       "    </tr>\n",
       "  </thead>\n",
       "  <tbody>\n",
       "    <tr>\n",
       "      <th>count</th>\n",
       "      <td>9.916685e+06</td>\n",
       "    </tr>\n",
       "    <tr>\n",
       "      <th>mean</th>\n",
       "      <td>4.348125e+01</td>\n",
       "    </tr>\n",
       "    <tr>\n",
       "      <th>std</th>\n",
       "      <td>1.593098e+01</td>\n",
       "    </tr>\n",
       "    <tr>\n",
       "      <th>min</th>\n",
       "      <td>3.000000e+00</td>\n",
       "    </tr>\n",
       "    <tr>\n",
       "      <th>25%</th>\n",
       "      <td>3.200000e+01</td>\n",
       "    </tr>\n",
       "    <tr>\n",
       "      <th>50%</th>\n",
       "      <td>4.000000e+01</td>\n",
       "    </tr>\n",
       "    <tr>\n",
       "      <th>75%</th>\n",
       "      <td>5.100000e+01</td>\n",
       "    </tr>\n",
       "    <tr>\n",
       "      <th>max</th>\n",
       "      <td>1.200000e+02</td>\n",
       "    </tr>\n",
       "  </tbody>\n",
       "</table>\n",
       "</div>"
      ],
      "text/plain": [
       "                  0\n",
       "count  9.916685e+06\n",
       "mean   4.348125e+01\n",
       "std    1.593098e+01\n",
       "min    3.000000e+00\n",
       "25%    3.200000e+01\n",
       "50%    4.000000e+01\n",
       "75%    5.100000e+01\n",
       "max    1.200000e+02"
      ]
     },
     "execution_count": 22,
     "metadata": {},
     "output_type": "execute_result"
    }
   ],
   "source": [
    "pd.DataFrame(len_list).iloc[(np.array(len_list) <= 120), :].describe()"
   ]
  },
  {
   "cell_type": "code",
   "execution_count": 23,
   "metadata": {},
   "outputs": [],
   "source": [
    "# \n",
    "zinc_data = pd.read_csv('../250k_rndm_zinc_drugs_clean_3.csv')"
   ]
  },
  {
   "cell_type": "code",
   "execution_count": 24,
   "metadata": {},
   "outputs": [
    {
     "data": {
      "text/html": [
       "<div>\n",
       "<style scoped>\n",
       "    .dataframe tbody tr th:only-of-type {\n",
       "        vertical-align: middle;\n",
       "    }\n",
       "\n",
       "    .dataframe tbody tr th {\n",
       "        vertical-align: top;\n",
       "    }\n",
       "\n",
       "    .dataframe thead th {\n",
       "        text-align: right;\n",
       "    }\n",
       "</style>\n",
       "<table border=\"1\" class=\"dataframe\">\n",
       "  <thead>\n",
       "    <tr style=\"text-align: right;\">\n",
       "      <th></th>\n",
       "      <th>smiles</th>\n",
       "      <th>logP</th>\n",
       "      <th>qed</th>\n",
       "      <th>SAS</th>\n",
       "    </tr>\n",
       "  </thead>\n",
       "  <tbody>\n",
       "    <tr>\n",
       "      <th>0</th>\n",
       "      <td>CC(C)(C)c1ccc2occ(CC(=O)Nc3ccccc3F)c2c1\\n</td>\n",
       "      <td>5.05060</td>\n",
       "      <td>0.702012</td>\n",
       "      <td>2.084095</td>\n",
       "    </tr>\n",
       "    <tr>\n",
       "      <th>1</th>\n",
       "      <td>C[C@@H]1CC(Nc2cncc(-c3nncn3C)c2)C[C@@H](C)C1\\n</td>\n",
       "      <td>3.11370</td>\n",
       "      <td>0.928975</td>\n",
       "      <td>3.432004</td>\n",
       "    </tr>\n",
       "    <tr>\n",
       "      <th>2</th>\n",
       "      <td>N#Cc1ccc(-c2ccc(O[C@@H](C(=O)N3CCCC3)c3ccccc3)...</td>\n",
       "      <td>4.96778</td>\n",
       "      <td>0.599682</td>\n",
       "      <td>2.470633</td>\n",
       "    </tr>\n",
       "    <tr>\n",
       "      <th>3</th>\n",
       "      <td>CCOC(=O)[C@@H]1CCCN(C(=O)c2nc(-c3ccc(C)cc3)n3c...</td>\n",
       "      <td>4.00022</td>\n",
       "      <td>0.690944</td>\n",
       "      <td>2.822753</td>\n",
       "    </tr>\n",
       "    <tr>\n",
       "      <th>4</th>\n",
       "      <td>N#CC1=C(SCC(=O)Nc2cccc(Cl)c2)N=C([O-])[C@H](C#...</td>\n",
       "      <td>3.60956</td>\n",
       "      <td>0.789027</td>\n",
       "      <td>4.035182</td>\n",
       "    </tr>\n",
       "  </tbody>\n",
       "</table>\n",
       "</div>"
      ],
      "text/plain": [
       "                                              smiles     logP       qed  \\\n",
       "0          CC(C)(C)c1ccc2occ(CC(=O)Nc3ccccc3F)c2c1\\n  5.05060  0.702012   \n",
       "1     C[C@@H]1CC(Nc2cncc(-c3nncn3C)c2)C[C@@H](C)C1\\n  3.11370  0.928975   \n",
       "2  N#Cc1ccc(-c2ccc(O[C@@H](C(=O)N3CCCC3)c3ccccc3)...  4.96778  0.599682   \n",
       "3  CCOC(=O)[C@@H]1CCCN(C(=O)c2nc(-c3ccc(C)cc3)n3c...  4.00022  0.690944   \n",
       "4  N#CC1=C(SCC(=O)Nc2cccc(Cl)c2)N=C([O-])[C@H](C#...  3.60956  0.789027   \n",
       "\n",
       "        SAS  \n",
       "0  2.084095  \n",
       "1  3.432004  \n",
       "2  2.470633  \n",
       "3  2.822753  \n",
       "4  4.035182  "
      ]
     },
     "execution_count": 24,
     "metadata": {},
     "output_type": "execute_result"
    }
   ],
   "source": [
    "zinc_data.head()"
   ]
  },
  {
   "cell_type": "code",
   "execution_count": 25,
   "metadata": {},
   "outputs": [],
   "source": [
    "list_zinc = list(zinc_data['smiles'])"
   ]
  },
  {
   "cell_type": "code",
   "execution_count": 26,
   "metadata": {},
   "outputs": [],
   "source": [
    "charset_zinc_list = []\n",
    "\n",
    "len_zinc_list = []\n",
    "for i in list_zinc:\n",
    "    for j in i:\n",
    "        if j not in charset_zinc_list:\n",
    "            charset_zinc_list.append(j)\n",
    "    len_zinc_list.append(len(i))\n",
    "max_zinc_len = max(len_zinc_list)"
   ]
  },
  {
   "cell_type": "code",
   "execution_count": 27,
   "metadata": {},
   "outputs": [
    {
     "data": {
      "text/html": [
       "<div>\n",
       "<style scoped>\n",
       "    .dataframe tbody tr th:only-of-type {\n",
       "        vertical-align: middle;\n",
       "    }\n",
       "\n",
       "    .dataframe tbody tr th {\n",
       "        vertical-align: top;\n",
       "    }\n",
       "\n",
       "    .dataframe thead th {\n",
       "        text-align: right;\n",
       "    }\n",
       "</style>\n",
       "<table border=\"1\" class=\"dataframe\">\n",
       "  <thead>\n",
       "    <tr style=\"text-align: right;\">\n",
       "      <th></th>\n",
       "      <th>0</th>\n",
       "    </tr>\n",
       "  </thead>\n",
       "  <tbody>\n",
       "    <tr>\n",
       "      <th>count</th>\n",
       "      <td>249455.000000</td>\n",
       "    </tr>\n",
       "    <tr>\n",
       "      <th>mean</th>\n",
       "      <td>45.310461</td>\n",
       "    </tr>\n",
       "    <tr>\n",
       "      <th>std</th>\n",
       "      <td>9.326142</td>\n",
       "    </tr>\n",
       "    <tr>\n",
       "      <th>min</th>\n",
       "      <td>10.000000</td>\n",
       "    </tr>\n",
       "    <tr>\n",
       "      <th>25%</th>\n",
       "      <td>39.000000</td>\n",
       "    </tr>\n",
       "    <tr>\n",
       "      <th>50%</th>\n",
       "      <td>45.000000</td>\n",
       "    </tr>\n",
       "    <tr>\n",
       "      <th>75%</th>\n",
       "      <td>51.000000</td>\n",
       "    </tr>\n",
       "    <tr>\n",
       "      <th>max</th>\n",
       "      <td>110.000000</td>\n",
       "    </tr>\n",
       "  </tbody>\n",
       "</table>\n",
       "</div>"
      ],
      "text/plain": [
       "                   0\n",
       "count  249455.000000\n",
       "mean       45.310461\n",
       "std         9.326142\n",
       "min        10.000000\n",
       "25%        39.000000\n",
       "50%        45.000000\n",
       "75%        51.000000\n",
       "max       110.000000"
      ]
     },
     "execution_count": 27,
     "metadata": {},
     "output_type": "execute_result"
    }
   ],
   "source": [
    "pd.DataFrame(len_zinc_list).describe()"
   ]
  },
  {
   "cell_type": "code",
   "execution_count": 28,
   "metadata": {},
   "outputs": [
    {
     "data": {
      "text/plain": [
       "['\\n']"
      ]
     },
     "execution_count": 28,
     "metadata": {},
     "output_type": "execute_result"
    }
   ],
   "source": [
    "list(set(charset_zinc_list) - set(key_use))"
   ]
  },
  {
   "cell_type": "code",
   "execution_count": 29,
   "metadata": {},
   "outputs": [
    {
     "data": {
      "text/plain": [
       "[' ']"
      ]
     },
     "execution_count": 29,
     "metadata": {},
     "output_type": "execute_result"
    }
   ],
   "source": [
    "list(set(key_use) - set(charset_zinc_list) )"
   ]
  },
  {
   "cell_type": "code",
   "execution_count": 30,
   "metadata": {},
   "outputs": [
    {
     "data": {
      "text/plain": [
       "(9999999, 9999999)"
      ]
     },
     "execution_count": 30,
     "metadata": {},
     "output_type": "execute_result"
    }
   ],
   "source": [
    "len(smiles_list), len(len_list)"
   ]
  },
  {
   "cell_type": "code",
   "execution_count": 68,
   "metadata": {},
   "outputs": [],
   "source": [
    "charset_list = []\n",
    "len_list = []\n",
    "smile_less_120_list = []\n",
    "for i in range(len(smiles_list)):\n",
    "    smile = smiles_list[i]\n",
    "    if len(smile) > 140:\n",
    "        smile = smile[:140]\n",
    "    for j in smile:\n",
    "        if j not in charset_list:\n",
    "            charset_list.append(j)\n",
    "    len_list.append(len(smile))\n",
    "    smile_less_120_list.append(smile)\n",
    "max_len = max(len_list)"
   ]
  },
  {
   "cell_type": "code",
   "execution_count": 69,
   "metadata": {},
   "outputs": [
    {
     "data": {
      "text/plain": [
       "9999999"
      ]
     },
     "execution_count": 69,
     "metadata": {},
     "output_type": "execute_result"
    }
   ],
   "source": [
    "len(smile_less_120_list)"
   ]
  },
  {
   "cell_type": "code",
   "execution_count": 70,
   "metadata": {},
   "outputs": [
    {
     "data": {
      "text/html": [
       "<div>\n",
       "<style scoped>\n",
       "    .dataframe tbody tr th:only-of-type {\n",
       "        vertical-align: middle;\n",
       "    }\n",
       "\n",
       "    .dataframe tbody tr th {\n",
       "        vertical-align: top;\n",
       "    }\n",
       "\n",
       "    .dataframe thead th {\n",
       "        text-align: right;\n",
       "    }\n",
       "</style>\n",
       "<table border=\"1\" class=\"dataframe\">\n",
       "  <thead>\n",
       "    <tr style=\"text-align: right;\">\n",
       "      <th></th>\n",
       "      <th>0</th>\n",
       "    </tr>\n",
       "  </thead>\n",
       "  <tbody>\n",
       "    <tr>\n",
       "      <th>count</th>\n",
       "      <td>9.999999e+06</td>\n",
       "    </tr>\n",
       "    <tr>\n",
       "      <th>mean</th>\n",
       "      <td>4.424816e+01</td>\n",
       "    </tr>\n",
       "    <tr>\n",
       "      <th>std</th>\n",
       "      <td>1.794518e+01</td>\n",
       "    </tr>\n",
       "    <tr>\n",
       "      <th>min</th>\n",
       "      <td>3.000000e+00</td>\n",
       "    </tr>\n",
       "    <tr>\n",
       "      <th>25%</th>\n",
       "      <td>3.300000e+01</td>\n",
       "    </tr>\n",
       "    <tr>\n",
       "      <th>50%</th>\n",
       "      <td>4.000000e+01</td>\n",
       "    </tr>\n",
       "    <tr>\n",
       "      <th>75%</th>\n",
       "      <td>5.100000e+01</td>\n",
       "    </tr>\n",
       "    <tr>\n",
       "      <th>max</th>\n",
       "      <td>1.400000e+02</td>\n",
       "    </tr>\n",
       "  </tbody>\n",
       "</table>\n",
       "</div>"
      ],
      "text/plain": [
       "                  0\n",
       "count  9.999999e+06\n",
       "mean   4.424816e+01\n",
       "std    1.794518e+01\n",
       "min    3.000000e+00\n",
       "25%    3.300000e+01\n",
       "50%    4.000000e+01\n",
       "75%    5.100000e+01\n",
       "max    1.400000e+02"
      ]
     },
     "execution_count": 70,
     "metadata": {},
     "output_type": "execute_result"
    }
   ],
   "source": [
    "pd.DataFrame(len_list).describe()"
   ]
  },
  {
   "cell_type": "code",
   "execution_count": 71,
   "metadata": {},
   "outputs": [
    {
     "data": {
      "text/plain": [
       "31"
      ]
     },
     "execution_count": 71,
     "metadata": {},
     "output_type": "execute_result"
    }
   ],
   "source": [
    "len(list(set(charset_list) - set(key_use)))"
   ]
  },
  {
   "cell_type": "code",
   "execution_count": 47,
   "metadata": {},
   "outputs": [],
   "source": [
    "import os\n",
    "path_onehot = '/nfs/turbo/umms-welchjd/hengshi/perturb_gan/data/smiles/onehot/PubChem10M'\n",
    "data_all = np.load(os.path.join(path_onehot, \"OnehotData_188.npy\"))\n"
   ]
  },
  {
   "cell_type": "code",
   "execution_count": 48,
   "metadata": {},
   "outputs": [],
   "source": [
    "path_data = '/nfs/turbo/umms-welchjd/hengshi/GAN/data/sciPlex/sciPlex3/'\n",
    "import pandas as pd\n",
    "import numpy as np\n",
    "trt_whole_list = list(pd.read_csv(os.path.join(path_data, 'emb_named_PathwayLibrary.csv'))['treatment'])"
   ]
  },
  {
   "cell_type": "code",
   "execution_count": 49,
   "metadata": {},
   "outputs": [],
   "source": [
    "indice_trt = np.where(np.array(trt_whole_list) == trt_whole_list[0])[0][0]\n",
    "anno_trt = np.tile(data_all[[indice_trt]], (100, 1))"
   ]
  },
  {
   "cell_type": "code",
   "execution_count": 50,
   "metadata": {},
   "outputs": [
    {
     "data": {
      "text/plain": [
       "(100, 140, 63)"
      ]
     },
     "execution_count": 50,
     "metadata": {},
     "output_type": "execute_result"
    }
   ],
   "source": [
    "anno_trt = np.tile(data_all[[indice_trt]], (100, 1, 1))\n",
    "anno_trt.shape"
   ]
  },
  {
   "cell_type": "code",
   "execution_count": 51,
   "metadata": {},
   "outputs": [
    {
     "data": {
      "text/plain": [
       "(188, 140, 63)"
      ]
     },
     "execution_count": 51,
     "metadata": {},
     "output_type": "execute_result"
    }
   ],
   "source": [
    "data_all.shape"
   ]
  },
  {
   "cell_type": "code",
   "execution_count": 52,
   "metadata": {},
   "outputs": [
    {
     "data": {
      "text/plain": [
       "[' ']"
      ]
     },
     "execution_count": 52,
     "metadata": {},
     "output_type": "execute_result"
    }
   ],
   "source": [
    "list(set(key_use) - set(charset_list) )"
   ]
  },
  {
   "cell_type": "code",
   "execution_count": 53,
   "metadata": {},
   "outputs": [],
   "source": [
    "path_data = '/nfs/turbo/umms-welchjd/hengshi/GAN/data/sciPlex/sciPlex3/'\n",
    "data_188 = pd.read_csv(os.path.join(path_data, 'emb_named_chemvae_canonize.csv'))\n",
    "chem_188 = list(data_188['Structure_Canonize'])"
   ]
  },
  {
   "cell_type": "code",
   "execution_count": 54,
   "metadata": {},
   "outputs": [],
   "source": [
    "charset_188_list = []\n",
    "\n",
    "len_188_list = []\n",
    "for i in chem_188:\n",
    "    for j in i:\n",
    "        if j not in charset_188_list:\n",
    "            charset_188_list.append(j)\n",
    "    len_188_list.append(len(i))\n",
    "max_188_len = max(len_188_list)"
   ]
  },
  {
   "cell_type": "code",
   "execution_count": 55,
   "metadata": {},
   "outputs": [
    {
     "data": {
      "text/html": [
       "<div>\n",
       "<style scoped>\n",
       "    .dataframe tbody tr th:only-of-type {\n",
       "        vertical-align: middle;\n",
       "    }\n",
       "\n",
       "    .dataframe tbody tr th {\n",
       "        vertical-align: top;\n",
       "    }\n",
       "\n",
       "    .dataframe thead th {\n",
       "        text-align: right;\n",
       "    }\n",
       "</style>\n",
       "<table border=\"1\" class=\"dataframe\">\n",
       "  <thead>\n",
       "    <tr style=\"text-align: right;\">\n",
       "      <th></th>\n",
       "      <th>0</th>\n",
       "    </tr>\n",
       "  </thead>\n",
       "  <tbody>\n",
       "    <tr>\n",
       "      <th>count</th>\n",
       "      <td>188.000000</td>\n",
       "    </tr>\n",
       "    <tr>\n",
       "      <th>mean</th>\n",
       "      <td>51.265957</td>\n",
       "    </tr>\n",
       "    <tr>\n",
       "      <th>std</th>\n",
       "      <td>17.951018</td>\n",
       "    </tr>\n",
       "    <tr>\n",
       "      <th>min</th>\n",
       "      <td>17.000000</td>\n",
       "    </tr>\n",
       "    <tr>\n",
       "      <th>25%</th>\n",
       "      <td>40.000000</td>\n",
       "    </tr>\n",
       "    <tr>\n",
       "      <th>50%</th>\n",
       "      <td>50.000000</td>\n",
       "    </tr>\n",
       "    <tr>\n",
       "      <th>75%</th>\n",
       "      <td>60.250000</td>\n",
       "    </tr>\n",
       "    <tr>\n",
       "      <th>max</th>\n",
       "      <td>139.000000</td>\n",
       "    </tr>\n",
       "  </tbody>\n",
       "</table>\n",
       "</div>"
      ],
      "text/plain": [
       "                0\n",
       "count  188.000000\n",
       "mean    51.265957\n",
       "std     17.951018\n",
       "min     17.000000\n",
       "25%     40.000000\n",
       "50%     50.000000\n",
       "75%     60.250000\n",
       "max    139.000000"
      ]
     },
     "execution_count": 55,
     "metadata": {},
     "output_type": "execute_result"
    }
   ],
   "source": [
    "pd.DataFrame(len_188_list).describe()"
   ]
  },
  {
   "cell_type": "code",
   "execution_count": 56,
   "metadata": {},
   "outputs": [
    {
     "data": {
      "text/plain": [
       "45"
      ]
     },
     "execution_count": 56,
     "metadata": {},
     "output_type": "execute_result"
    }
   ],
   "source": [
    "len(charset_list)"
   ]
  },
  {
   "cell_type": "code",
   "execution_count": 79,
   "metadata": {},
   "outputs": [
    {
     "data": {
      "text/plain": [
       "33"
      ]
     },
     "execution_count": 79,
     "metadata": {},
     "output_type": "execute_result"
    }
   ],
   "source": [
    "len(list(set(charset_list) - set(charset_188_list)))"
   ]
  },
  {
   "cell_type": "code",
   "execution_count": 80,
   "metadata": {},
   "outputs": [
    {
     "data": {
      "text/plain": [
       "5"
      ]
     },
     "execution_count": 80,
     "metadata": {},
     "output_type": "execute_result"
    }
   ],
   "source": [
    "len(list(set(charset_188_list) - set(charset_list)))"
   ]
  },
  {
   "cell_type": "code",
   "execution_count": 83,
   "metadata": {},
   "outputs": [
    {
     "data": {
      "text/plain": [
       "['b',\n",
       " 'E',\n",
       " 'u',\n",
       " 'D',\n",
       " '8',\n",
       " '%',\n",
       " 'K',\n",
       " 'A',\n",
       " 'M',\n",
       " 'L',\n",
       " 'G',\n",
       " '7',\n",
       " 'f',\n",
       " 'd',\n",
       " 'T',\n",
       " 'i',\n",
       " '9',\n",
       " 'Z',\n",
       " 'W',\n",
       " 'U',\n",
       " 'R',\n",
       " 'y',\n",
       " '6',\n",
       " 'g',\n",
       " 'm',\n",
       " 'h',\n",
       " 'e',\n",
       " 'p',\n",
       " 'V',\n",
       " 'Y',\n",
       " '0',\n",
       " 'X',\n",
       " 't']"
      ]
     },
     "execution_count": 83,
     "metadata": {},
     "output_type": "execute_result"
    }
   ],
   "source": [
    "list(set(charset_list) - set(charset_188_list))"
   ]
  },
  {
   "cell_type": "code",
   "execution_count": 84,
   "metadata": {},
   "outputs": [
    {
     "data": {
      "text/plain": [
       "['b',\n",
       " 'E',\n",
       " 'u',\n",
       " 'D',\n",
       " '%',\n",
       " 'K',\n",
       " 'A',\n",
       " 'M',\n",
       " 'L',\n",
       " 'G',\n",
       " 'f',\n",
       " 'd',\n",
       " 'T',\n",
       " 'i',\n",
       " '9',\n",
       " 'Z',\n",
       " 'W',\n",
       " 'U',\n",
       " 'a',\n",
       " 'R',\n",
       " 'y',\n",
       " 'g',\n",
       " 'm',\n",
       " 'h',\n",
       " 'e',\n",
       " 'p',\n",
       " 'V',\n",
       " 'Y',\n",
       " '0',\n",
       " 'X',\n",
       " 't']"
      ]
     },
     "execution_count": 84,
     "metadata": {},
     "output_type": "execute_result"
    }
   ],
   "source": [
    "list(set(charset_list) - set(key_use))"
   ]
  },
  {
   "cell_type": "code",
   "execution_count": null,
   "metadata": {},
   "outputs": [],
   "source": [
    "list(set(charset_list) - set(key_use))"
   ]
  },
  {
   "cell_type": "code",
   "execution_count": 42,
   "metadata": {},
   "outputs": [
    {
     "data": {
      "text/plain": [
       "['a', '*', '.']"
      ]
     },
     "execution_count": 42,
     "metadata": {},
     "output_type": "execute_result"
    }
   ],
   "source": [
    "list(set(charset_188_list) - set(charset_zinc_list))"
   ]
  },
  {
   "cell_type": "code",
   "execution_count": 82,
   "metadata": {},
   "outputs": [
    {
     "data": {
      "text/plain": [
       "['.', '*', '/', '\\\\', '@']"
      ]
     },
     "execution_count": 82,
     "metadata": {},
     "output_type": "execute_result"
    }
   ],
   "source": [
    "list(set(charset_188_list) - set(charset_list))"
   ]
  },
  {
   "cell_type": "code",
   "execution_count": 44,
   "metadata": {},
   "outputs": [],
   "source": [
    "pdata = pd.read_csv('/nfs/turbo/umms-welchjd/hengshi/perturb_gan/data/LINCS/GSE92742_Broad_LINCS_pert_info.txt',  sep=\"\\t\")"
   ]
  },
  {
   "cell_type": "code",
   "execution_count": 45,
   "metadata": {},
   "outputs": [],
   "source": [
    "aper = pdata['canonical_smiles'].unique()"
   ]
  },
  {
   "cell_type": "code",
   "execution_count": 46,
   "metadata": {},
   "outputs": [],
   "source": [
    "charset_lincs_list = []\n",
    "\n",
    "len_lincs_list = []\n",
    "for i in aper:\n",
    "    for j in i:\n",
    "        if j not in charset_lincs_list:\n",
    "            charset_lincs_list.append(j)\n",
    "    len_lincs_list.append(len(i))\n",
    "max_lincs_len = max(len_lincs_list)"
   ]
  },
  {
   "cell_type": "code",
   "execution_count": 47,
   "metadata": {},
   "outputs": [
    {
     "data": {
      "text/plain": [
       "['t', 'd', '%', 'u', '0', '6', '7', 'A', 'e', 'i', '8', 'L', 'M', 'g', '9']"
      ]
     },
     "execution_count": 47,
     "metadata": {},
     "output_type": "execute_result"
    }
   ],
   "source": [
    "list(set(charset_lincs_list) - set(charset_188_list))"
   ]
  },
  {
   "cell_type": "code",
   "execution_count": 48,
   "metadata": {},
   "outputs": [
    {
     "data": {
      "text/plain": [
       "['*']"
      ]
     },
     "execution_count": 48,
     "metadata": {},
     "output_type": "execute_result"
    }
   ],
   "source": [
    "list(set(charset_188_list) - set(charset_lincs_list))"
   ]
  },
  {
   "cell_type": "code",
   "execution_count": 49,
   "metadata": {},
   "outputs": [
    {
     "data": {
      "text/plain": [
       "18"
      ]
     },
     "execution_count": 49,
     "metadata": {},
     "output_type": "execute_result"
    }
   ],
   "source": [
    "len(list(set(charset_list) - set(charset_lincs_list)))"
   ]
  },
  {
   "cell_type": "code",
   "execution_count": 50,
   "metadata": {
    "scrolled": true
   },
   "outputs": [
    {
     "data": {
      "text/plain": [
       "['.', '\\\\', '/', '@']"
      ]
     },
     "execution_count": 50,
     "metadata": {},
     "output_type": "execute_result"
    }
   ],
   "source": [
    "list(set(charset_lincs_list) - set(charset_list))"
   ]
  },
  {
   "cell_type": "code",
   "execution_count": 51,
   "metadata": {},
   "outputs": [],
   "source": [
    "smiles_list_trans = []\n",
    "for i in chem_188:\n",
    "    smile = i\n",
    "    if '@' in smile:\n",
    "        smile1 = ''\n",
    "        for j in smile: \n",
    "            if j != '@':\n",
    "                smile1 += j\n",
    "        smile = smile1\n",
    "\n",
    "    if '*' in smile:\n",
    "        smile1 = ''\n",
    "        for j in smile: \n",
    "            if j != '*':\n",
    "                smile1 += j\n",
    "        smile = smile1\n",
    "\n",
    "    if '.' in smile:\n",
    "        smile1 = ''\n",
    "        for j in smile: \n",
    "            if j != '.':\n",
    "                smile1 += j\n",
    "        smile = smile1\n",
    "        \n",
    "    if '\\\\' in smile:\n",
    "        smile1 = ''\n",
    "        for j in smile: \n",
    "            if j != '\\\\':\n",
    "                smile1 += j\n",
    "        smile = smile1\n",
    "\n",
    "    if '/' in smile:\n",
    "        smile1 = ''\n",
    "        for j in smile: \n",
    "            if j != '/':\n",
    "                smile1 += j\n",
    "        smile = smile1\n",
    "        \n",
    "    smiles_list_trans.append(smile)"
   ]
  },
  {
   "cell_type": "code",
   "execution_count": 52,
   "metadata": {},
   "outputs": [
    {
     "data": {
      "text/plain": [
       "120"
      ]
     },
     "execution_count": 52,
     "metadata": {},
     "output_type": "execute_result"
    }
   ],
   "source": [
    "params['MAX_LEN']"
   ]
  },
  {
   "cell_type": "code",
   "execution_count": 53,
   "metadata": {},
   "outputs": [
    {
     "data": {
      "text/plain": [
       "62"
      ]
     },
     "execution_count": 53,
     "metadata": {},
     "output_type": "execute_result"
    }
   ],
   "source": [
    "len(charset_list)"
   ]
  },
  {
   "cell_type": "code",
   "execution_count": 54,
   "metadata": {},
   "outputs": [],
   "source": [
    "MAX_LEN = 140\n",
    "\n",
    "if ' ' not in charset_list:\n",
    "    charset_list += [' ']\n",
    "\n",
    "# onehot representations\n",
    "CHAR_INDICES = dict((c, i) for i, c in enumerate(charset_list))\n",
    "\n",
    "NCHARS = len(CHARS)\n"
   ]
  },
  {
   "cell_type": "code",
   "execution_count": 55,
   "metadata": {},
   "outputs": [
    {
     "data": {
      "text/plain": [
       "35"
      ]
     },
     "execution_count": 55,
     "metadata": {},
     "output_type": "execute_result"
    }
   ],
   "source": [
    "NCHARS"
   ]
  },
  {
   "cell_type": "code",
   "execution_count": 56,
   "metadata": {},
   "outputs": [],
   "source": [
    "NCHARS = len(charset_list)"
   ]
  },
  {
   "cell_type": "code",
   "execution_count": 57,
   "metadata": {},
   "outputs": [],
   "source": [
    "X188 = mu.smiles_to_hot(smiles_list_trans, MAX_LEN, params['PADDING'], CHAR_INDICES, NCHARS)"
   ]
  },
  {
   "cell_type": "code",
   "execution_count": 58,
   "metadata": {},
   "outputs": [],
   "source": [
    "np.save(\"/nfs/turbo/umms-welchjd/hengshi/perturb_gan/data/smiles/onehot/PubChem10M/OnehotData_188.npy\", X188)"
   ]
  },
  {
   "cell_type": "code",
   "execution_count": 59,
   "metadata": {},
   "outputs": [
    {
     "data": {
      "text/plain": [
       "(9999999, 140, 63)"
      ]
     },
     "execution_count": 59,
     "metadata": {},
     "output_type": "execute_result"
    }
   ],
   "source": [
    "len(smile_less_120_list), MAX_LEN,NCHARS"
   ]
  },
  {
   "cell_type": "code",
   "execution_count": 61,
   "metadata": {},
   "outputs": [
    {
     "data": {
      "text/plain": [
       "2499999.75"
      ]
     },
     "execution_count": 61,
     "metadata": {},
     "output_type": "execute_result"
    }
   ],
   "source": [
    "len(smile_less_120_list)/4"
   ]
  },
  {
   "cell_type": "code",
   "execution_count": null,
   "metadata": {},
   "outputs": [],
   "source": [
    "# cannot run: memory\n",
    "OH = np.zeros((len(smile_less_120_list),MAX_LEN,NCHARS))\n",
    "for i in range(0, len(smile_less_120_list), 10000):\n",
    "    print('Processing: i=[' + str(i) + ':' + str(i+10000) + ']')\n",
    "    onehot = mu.smiles_to_hot(smile_less_120_list[i:(i+10000)], MAX_LEN, params['PADDING'], CHAR_INDICES, NCHARS)\n",
    "    OH[i:i+10000,:,:] = onehot"
   ]
  },
  {
   "cell_type": "code",
   "execution_count": 64,
   "metadata": {},
   "outputs": [
    {
     "data": {
      "text/plain": [
       "63"
      ]
     },
     "execution_count": 64,
     "metadata": {},
     "output_type": "execute_result"
    }
   ],
   "source": [
    "len( CHAR_INDICES)"
   ]
  },
  {
   "cell_type": "code",
   "execution_count": 4,
   "metadata": {},
   "outputs": [],
   "source": [
    "import h5py"
   ]
  },
  {
   "cell_type": "code",
   "execution_count": 68,
   "metadata": {},
   "outputs": [
    {
     "name": "stdout",
     "output_type": "stream",
     "text": [
      "Processing: i=[0:100000]\n",
      "Processing: i=[100000:200000]\n",
      "Processing: i=[200000:300000]\n",
      "Processing: i=[300000:400000]\n",
      "Processing: i=[400000:500000]\n",
      "Processing: i=[500000:600000]\n",
      "Processing: i=[600000:700000]\n",
      "Processing: i=[700000:800000]\n",
      "Processing: i=[800000:900000]\n",
      "Processing: i=[900000:1000000]\n",
      "Processing: i=[1000000:1100000]\n",
      "Processing: i=[1100000:1200000]\n",
      "Processing: i=[1200000:1300000]\n",
      "Processing: i=[1300000:1400000]\n",
      "Processing: i=[1400000:1500000]\n",
      "Processing: i=[1500000:1600000]\n",
      "Processing: i=[1600000:1700000]\n",
      "Processing: i=[1700000:1800000]\n",
      "Processing: i=[1800000:1900000]\n",
      "Processing: i=[1900000:2000000]\n"
     ]
    }
   ],
   "source": [
    "nport = 2000000 \n",
    "n = 100000\n",
    "OH1 = np.zeros((nport,MAX_LEN,NCHARS))\n",
    "for i in range(0, nport, n):\n",
    "    print('Processing: i=[' + str(i) + ':' + str(i+n) + ']')\n",
    "    onehot = mu.smiles_to_hot(smile_less_120_list[i:(i+n)], MAX_LEN, params['PADDING'], CHAR_INDICES, NCHARS)\n",
    "    OH1[i:i+n,:,:] = onehot"
   ]
  },
  {
   "cell_type": "code",
   "execution_count": 71,
   "metadata": {},
   "outputs": [
    {
     "ename": "TypeError",
     "evalue": "No conversion path for dtype: dtype('<U140')",
     "output_type": "error",
     "traceback": [
      "\u001b[0;31m---------------------------------------------------------------------------\u001b[0m",
      "\u001b[0;31mTypeError\u001b[0m                                 Traceback (most recent call last)",
      "\u001b[0;32m<ipython-input-71-19e8b28396f1>\u001b[0m in \u001b[0;36m<module>\u001b[0;34m\u001b[0m\n\u001b[1;32m      1\u001b[0m \u001b[0mh5f\u001b[0m \u001b[0;34m=\u001b[0m \u001b[0mh5py\u001b[0m\u001b[0;34m.\u001b[0m\u001b[0mFile\u001b[0m\u001b[0;34m(\u001b[0m\u001b[0;34m'/nfs/turbo/umms-welchjd/hengshi/perturb_gan/data/smiles/onehot/PubChem10M/OnehotData_1.h5'\u001b[0m\u001b[0;34m,\u001b[0m\u001b[0;34m'w'\u001b[0m\u001b[0;34m)\u001b[0m\u001b[0;34m\u001b[0m\u001b[0;34m\u001b[0m\u001b[0m\n\u001b[1;32m      2\u001b[0m \u001b[0mh5f\u001b[0m\u001b[0;34m.\u001b[0m\u001b[0mcreate_dataset\u001b[0m\u001b[0;34m(\u001b[0m\u001b[0;34m'data'\u001b[0m\u001b[0;34m,\u001b[0m \u001b[0mdata\u001b[0m \u001b[0;34m=\u001b[0m \u001b[0mOH1\u001b[0m\u001b[0;34m)\u001b[0m\u001b[0;34m\u001b[0m\u001b[0;34m\u001b[0m\u001b[0m\n\u001b[0;32m----> 3\u001b[0;31m \u001b[0mh5f\u001b[0m\u001b[0;34m.\u001b[0m\u001b[0mcreate_dataset\u001b[0m\u001b[0;34m(\u001b[0m\u001b[0;34m'smiles'\u001b[0m\u001b[0;34m,\u001b[0m \u001b[0mdata\u001b[0m \u001b[0;34m=\u001b[0m \u001b[0msmile_less_120_list\u001b[0m\u001b[0;34m[\u001b[0m\u001b[0mi\u001b[0m\u001b[0;34m:\u001b[0m\u001b[0;34m(\u001b[0m\u001b[0mi\u001b[0m\u001b[0;34m+\u001b[0m\u001b[0mn\u001b[0m\u001b[0;34m)\u001b[0m\u001b[0;34m]\u001b[0m\u001b[0;34m)\u001b[0m\u001b[0;34m\u001b[0m\u001b[0;34m\u001b[0m\u001b[0m\n\u001b[0m\u001b[1;32m      4\u001b[0m \u001b[0mh5f\u001b[0m\u001b[0;34m.\u001b[0m\u001b[0mclose\u001b[0m\u001b[0;34m(\u001b[0m\u001b[0;34m)\u001b[0m\u001b[0;34m\u001b[0m\u001b[0;34m\u001b[0m\u001b[0m\n",
      "\u001b[0;32m~/.local/lib/python3.6/site-packages/h5py/_hl/group.py\u001b[0m in \u001b[0;36mcreate_dataset\u001b[0;34m(self, name, shape, dtype, data, **kwds)\u001b[0m\n\u001b[1;32m    134\u001b[0m \u001b[0;34m\u001b[0m\u001b[0m\n\u001b[1;32m    135\u001b[0m         \u001b[0;32mwith\u001b[0m \u001b[0mphil\u001b[0m\u001b[0;34m:\u001b[0m\u001b[0;34m\u001b[0m\u001b[0;34m\u001b[0m\u001b[0m\n\u001b[0;32m--> 136\u001b[0;31m             \u001b[0mdsid\u001b[0m \u001b[0;34m=\u001b[0m \u001b[0mdataset\u001b[0m\u001b[0;34m.\u001b[0m\u001b[0mmake_new_dset\u001b[0m\u001b[0;34m(\u001b[0m\u001b[0mself\u001b[0m\u001b[0;34m,\u001b[0m \u001b[0mshape\u001b[0m\u001b[0;34m,\u001b[0m \u001b[0mdtype\u001b[0m\u001b[0;34m,\u001b[0m \u001b[0mdata\u001b[0m\u001b[0;34m,\u001b[0m \u001b[0;34m**\u001b[0m\u001b[0mkwds\u001b[0m\u001b[0;34m)\u001b[0m\u001b[0;34m\u001b[0m\u001b[0;34m\u001b[0m\u001b[0m\n\u001b[0m\u001b[1;32m    137\u001b[0m             \u001b[0mdset\u001b[0m \u001b[0;34m=\u001b[0m \u001b[0mdataset\u001b[0m\u001b[0;34m.\u001b[0m\u001b[0mDataset\u001b[0m\u001b[0;34m(\u001b[0m\u001b[0mdsid\u001b[0m\u001b[0;34m)\u001b[0m\u001b[0;34m\u001b[0m\u001b[0;34m\u001b[0m\u001b[0m\n\u001b[1;32m    138\u001b[0m             \u001b[0;32mif\u001b[0m \u001b[0mname\u001b[0m \u001b[0;32mis\u001b[0m \u001b[0;32mnot\u001b[0m \u001b[0;32mNone\u001b[0m\u001b[0;34m:\u001b[0m\u001b[0;34m\u001b[0m\u001b[0;34m\u001b[0m\u001b[0m\n",
      "\u001b[0;32m~/.local/lib/python3.6/site-packages/h5py/_hl/dataset.py\u001b[0m in \u001b[0;36mmake_new_dset\u001b[0;34m(parent, shape, dtype, data, chunks, compression, shuffle, fletcher32, maxshape, compression_opts, fillvalue, scaleoffset, track_times, external, track_order, dcpl)\u001b[0m\n\u001b[1;32m    116\u001b[0m         \u001b[0;32melse\u001b[0m\u001b[0;34m:\u001b[0m\u001b[0;34m\u001b[0m\u001b[0;34m\u001b[0m\u001b[0m\n\u001b[1;32m    117\u001b[0m             \u001b[0mdtype\u001b[0m \u001b[0;34m=\u001b[0m \u001b[0mnumpy\u001b[0m\u001b[0;34m.\u001b[0m\u001b[0mdtype\u001b[0m\u001b[0;34m(\u001b[0m\u001b[0mdtype\u001b[0m\u001b[0;34m)\u001b[0m\u001b[0;34m\u001b[0m\u001b[0;34m\u001b[0m\u001b[0m\n\u001b[0;32m--> 118\u001b[0;31m         \u001b[0mtid\u001b[0m \u001b[0;34m=\u001b[0m \u001b[0mh5t\u001b[0m\u001b[0;34m.\u001b[0m\u001b[0mpy_create\u001b[0m\u001b[0;34m(\u001b[0m\u001b[0mdtype\u001b[0m\u001b[0;34m,\u001b[0m \u001b[0mlogical\u001b[0m\u001b[0;34m=\u001b[0m\u001b[0;36m1\u001b[0m\u001b[0;34m)\u001b[0m\u001b[0;34m\u001b[0m\u001b[0;34m\u001b[0m\u001b[0m\n\u001b[0m\u001b[1;32m    119\u001b[0m \u001b[0;34m\u001b[0m\u001b[0m\n\u001b[1;32m    120\u001b[0m     \u001b[0;31m# Legacy\u001b[0m\u001b[0;34m\u001b[0m\u001b[0;34m\u001b[0m\u001b[0;34m\u001b[0m\u001b[0m\n",
      "\u001b[0;32mh5py/h5t.pyx\u001b[0m in \u001b[0;36mh5py.h5t.py_create\u001b[0;34m()\u001b[0m\n",
      "\u001b[0;32mh5py/h5t.pyx\u001b[0m in \u001b[0;36mh5py.h5t.py_create\u001b[0;34m()\u001b[0m\n",
      "\u001b[0;32mh5py/h5t.pyx\u001b[0m in \u001b[0;36mh5py.h5t.py_create\u001b[0;34m()\u001b[0m\n",
      "\u001b[0;31mTypeError\u001b[0m: No conversion path for dtype: dtype('<U140')"
     ]
    }
   ],
   "source": [
    "h5f = h5py.File('/nfs/turbo/umms-welchjd/hengshi/perturb_gan/data/smiles/onehot/PubChem10M/OnehotData_1.h5','w')\n",
    "h5f.create_dataset('data', data = OH1)\n",
    "h5f.close()"
   ]
  },
  {
   "cell_type": "code",
   "execution_count": 93,
   "metadata": {},
   "outputs": [],
   "source": [
    "h5f = h5py.File('/nfs/turbo/umms-welchjd/hengshi/perturb_gan/data/smiles/onehot/PubChem10M/OnehotData_1.h5', 'r')\n"
   ]
  },
  {
   "cell_type": "code",
   "execution_count": 87,
   "metadata": {},
   "outputs": [],
   "source": [
    "np.save('/nfs/turbo/umms-welchjd/hengshi/perturb_gan/data/smiles/onehot/PubChem10M/PubChem_Canonized.npy', \n",
    "        np.array(smile_less_120_list))"
   ]
  },
  {
   "cell_type": "code",
   "execution_count": 85,
   "metadata": {},
   "outputs": [],
   "source": [
    "import json\n",
    "with open('/nfs/turbo/umms-welchjd/hengshi/perturb_gan/data/smiles/onehot/PubChem10M/CHAR_INDICES.json', 'w') as fp:\n",
    "    json.dump(CHAR_INDICES, fp)   "
   ]
  },
  {
   "cell_type": "code",
   "execution_count": 63,
   "metadata": {},
   "outputs": [],
   "source": [
    "smile_less_120_list = np.load('/nfs/turbo/umms-welchjd/hengshi/perturb_gan/data/smiles/onehot/PubChem10M/PubChem_Canonized.npy')"
   ]
  },
  {
   "cell_type": "code",
   "execution_count": 64,
   "metadata": {},
   "outputs": [
    {
     "data": {
      "text/plain": [
       "(9999999,)"
      ]
     },
     "execution_count": 64,
     "metadata": {},
     "output_type": "execute_result"
    }
   ],
   "source": [
    "smile_less_120_list.shape"
   ]
  },
  {
   "cell_type": "code",
   "execution_count": 6,
   "metadata": {},
   "outputs": [],
   "source": [
    "import json\n",
    "with open('/nfs/turbo/umms-welchjd/hengshi/perturb_gan/data/smiles/onehot/PubChem10M/CHAR_INDICES.json', 'r') as fp:\n",
    "    CHAR_INDICES = json.load(fp)"
   ]
  },
  {
   "cell_type": "code",
   "execution_count": 22,
   "metadata": {},
   "outputs": [
    {
     "name": "stdout",
     "output_type": "stream",
     "text": [
      "Processing: i=[2000000:2100000]\n",
      "Processing: i=[2100000:2200000]\n",
      "Processing: i=[2200000:2300000]\n",
      "Processing: i=[2300000:2400000]\n",
      "Processing: i=[2400000:2500000]\n",
      "Processing: i=[2500000:2600000]\n",
      "Processing: i=[2600000:2700000]\n",
      "Processing: i=[2700000:2800000]\n",
      "Processing: i=[2800000:2900000]\n",
      "Processing: i=[2900000:3000000]\n",
      "Processing: i=[3000000:3100000]\n",
      "Processing: i=[3100000:3200000]\n",
      "Processing: i=[3200000:3300000]\n",
      "Processing: i=[3300000:3400000]\n",
      "Processing: i=[3400000:3500000]\n",
      "Processing: i=[3500000:3600000]\n",
      "Processing: i=[3600000:3700000]\n",
      "Processing: i=[3700000:3800000]\n",
      "Processing: i=[3800000:3900000]\n",
      "Processing: i=[3900000:4000000]\n"
     ]
    }
   ],
   "source": [
    "nport = 2000000 \n",
    "n = 100000\n",
    "MAX_LEN = 140\n",
    "NCHARS = len(CHAR_INDICES)\n",
    "OH1 = np.zeros((nport,MAX_LEN,NCHARS))\n",
    "for i in range(0, nport, n):\n",
    "    print('Processing: i=[' + str(i + nport) + ':' + str(i+ nport+n) + ']')\n",
    "    onehot = mu.smiles_to_hot(smile_less_120_list[(i + nport):(i+nport + n)], MAX_LEN, 'right', CHAR_INDICES, NCHARS)\n",
    "    OH1[i:(i+n),:,:] = onehot"
   ]
  },
  {
   "cell_type": "code",
   "execution_count": 7,
   "metadata": {},
   "outputs": [],
   "source": [
    "import h5py"
   ]
  },
  {
   "cell_type": "code",
   "execution_count": 25,
   "metadata": {},
   "outputs": [],
   "source": [
    "h5f = h5py.File('/nfs/turbo/umms-welchjd/hengshi/perturb_gan/data/smiles/onehot/PubChem10M/OnehotData_2.h5','w')\n",
    "h5f.create_dataset('data', data = OH1)\n",
    "h5f.close()"
   ]
  },
  {
   "cell_type": "code",
   "execution_count": 7,
   "metadata": {},
   "outputs": [
    {
     "name": "stdout",
     "output_type": "stream",
     "text": [
      "Processing: i=[4000000:4100000]\n",
      "Processing: i=[4100000:4200000]\n",
      "Processing: i=[4200000:4300000]\n",
      "Processing: i=[4300000:4400000]\n",
      "Processing: i=[4400000:4500000]\n",
      "Processing: i=[4500000:4600000]\n",
      "Processing: i=[4600000:4700000]\n",
      "Processing: i=[4700000:4800000]\n",
      "Processing: i=[4800000:4900000]\n",
      "Processing: i=[4900000:5000000]\n",
      "Processing: i=[5000000:5100000]\n",
      "Processing: i=[5100000:5200000]\n",
      "Processing: i=[5200000:5300000]\n",
      "Processing: i=[5300000:5400000]\n",
      "Processing: i=[5400000:5500000]\n",
      "Processing: i=[5500000:5600000]\n",
      "Processing: i=[5600000:5700000]\n",
      "Processing: i=[5700000:5800000]\n",
      "Processing: i=[5800000:5900000]\n",
      "Processing: i=[5900000:6000000]\n"
     ]
    }
   ],
   "source": [
    "nport = 2000000 \n",
    "n = 100000\n",
    "MAX_LEN = 140\n",
    "NCHARS = len(CHAR_INDICES)\n",
    "OH1 = np.zeros((nport,MAX_LEN,NCHARS))\n",
    "for i in range(0, nport, n):\n",
    "    print('Processing: i=[' + str(i + nport * 2) + ':' + str(i+ nport * 2+n) + ']')\n",
    "    onehot = mu.smiles_to_hot(smile_less_120_list[(i + nport * 2):(i+nport * 2 + n)], MAX_LEN, 'right', CHAR_INDICES, NCHARS)\n",
    "    OH1[i:(i+n),:,:] = onehot"
   ]
  },
  {
   "cell_type": "code",
   "execution_count": 8,
   "metadata": {},
   "outputs": [],
   "source": [
    "h5f = h5py.File('/nfs/turbo/umms-welchjd/hengshi/perturb_gan/data/smiles/onehot/PubChem10M/OnehotData_3.h5','w')\n",
    "h5f.create_dataset('data', data = OH1)\n",
    "h5f.close()"
   ]
  },
  {
   "cell_type": "code",
   "execution_count": 6,
   "metadata": {},
   "outputs": [
    {
     "name": "stdout",
     "output_type": "stream",
     "text": [
      "Processing: i=[6000000:6100000]\n",
      "Processing: i=[6100000:6200000]\n",
      "Processing: i=[6200000:6300000]\n",
      "Processing: i=[6300000:6400000]\n",
      "Processing: i=[6400000:6500000]\n",
      "Processing: i=[6500000:6600000]\n",
      "Processing: i=[6600000:6700000]\n",
      "Processing: i=[6700000:6800000]\n",
      "Processing: i=[6800000:6900000]\n",
      "Processing: i=[6900000:7000000]\n",
      "Processing: i=[7000000:7100000]\n",
      "Processing: i=[7100000:7200000]\n",
      "Processing: i=[7200000:7300000]\n",
      "Processing: i=[7300000:7400000]\n",
      "Processing: i=[7400000:7500000]\n",
      "Processing: i=[7500000:7600000]\n",
      "Processing: i=[7600000:7700000]\n",
      "Processing: i=[7700000:7800000]\n",
      "Processing: i=[7800000:7900000]\n",
      "Processing: i=[7900000:8000000]\n"
     ]
    }
   ],
   "source": [
    "nport = 2000000 \n",
    "n = 100000\n",
    "MAX_LEN = 140\n",
    "NCHARS = len(CHAR_INDICES)\n",
    "OH1 = np.zeros((nport,MAX_LEN,NCHARS))\n",
    "for i in range(0, nport, n):\n",
    "    print('Processing: i=[' + str(i + nport * 3) + ':' + str(i+ nport * 3+n) + ']')\n",
    "    onehot = mu.smiles_to_hot(smile_less_120_list[(i + nport * 3):(i+nport * 3 + n)], MAX_LEN, 'right', CHAR_INDICES, NCHARS)\n",
    "    OH1[i:(i+n),:,:] = onehot"
   ]
  },
  {
   "cell_type": "code",
   "execution_count": 7,
   "metadata": {},
   "outputs": [],
   "source": [
    "h5f = h5py.File('/nfs/turbo/umms-welchjd/hengshi/perturb_gan/data/smiles/onehot/PubChem10M/OnehotData_4.h5','w')\n",
    "h5f.create_dataset('data', data = OH1)\n",
    "h5f.close()"
   ]
  },
  {
   "cell_type": "code",
   "execution_count": 9,
   "metadata": {},
   "outputs": [],
   "source": [
    "n_last = len(smile_less_120_list) - nport * 4"
   ]
  },
  {
   "cell_type": "code",
   "execution_count": 10,
   "metadata": {},
   "outputs": [
    {
     "name": "stdout",
     "output_type": "stream",
     "text": [
      "0\n",
      "5\n",
      "10\n",
      "15\n"
     ]
    }
   ],
   "source": [
    "for i in range(0, 18, 5):\n",
    "    print(i)"
   ]
  },
  {
   "cell_type": "code",
   "execution_count": 11,
   "metadata": {},
   "outputs": [
    {
     "data": {
      "text/plain": [
       "20"
      ]
     },
     "execution_count": 11,
     "metadata": {},
     "output_type": "execute_result"
    }
   ],
   "source": [
    "15 + 5"
   ]
  },
  {
   "cell_type": "code",
   "execution_count": 12,
   "metadata": {},
   "outputs": [
    {
     "name": "stdout",
     "output_type": "stream",
     "text": [
      "Processing: i=[8000000:8100000]\n",
      "Processing: i=[8100000:8200000]\n",
      "Processing: i=[8200000:8300000]\n",
      "Processing: i=[8300000:8400000]\n",
      "Processing: i=[8400000:8500000]\n",
      "Processing: i=[8500000:8600000]\n",
      "Processing: i=[8600000:8700000]\n",
      "Processing: i=[8700000:8800000]\n",
      "Processing: i=[8800000:8900000]\n",
      "Processing: i=[8900000:9000000]\n",
      "Processing: i=[9000000:9100000]\n",
      "Processing: i=[9100000:9200000]\n",
      "Processing: i=[9200000:9300000]\n",
      "Processing: i=[9300000:9400000]\n",
      "Processing: i=[9400000:9500000]\n",
      "Processing: i=[9500000:9600000]\n",
      "Processing: i=[9600000:9700000]\n",
      "Processing: i=[9700000:9800000]\n",
      "Processing: i=[9800000:9900000]\n",
      "Processing: i=[9900000:9999999]\n"
     ]
    }
   ],
   "source": [
    "nport = 2000000 \n",
    "n = 100000\n",
    "MAX_LEN = 140\n",
    "NCHARS = len(CHAR_INDICES)\n",
    "OH1 = np.zeros((n_last, MAX_LEN, NCHARS))\n",
    "for i in range(0, n_last, n):\n",
    "    n_use = min(len(smile_less_120_list), i + nport * 4 + n)\n",
    "    print('Processing: i=[' + str(i + nport * 4) + ':' + str(n_use) + ']')\n",
    "    onehot = mu.smiles_to_hot(smile_less_120_list[(i + nport * 4):(n_use)], MAX_LEN, 'right', CHAR_INDICES, NCHARS)\n",
    "    OH1[i:(n_use - nport * 4),:,:] = onehot"
   ]
  },
  {
   "cell_type": "code",
   "execution_count": 13,
   "metadata": {},
   "outputs": [],
   "source": [
    "h5f = h5py.File('/nfs/turbo/umms-welchjd/hengshi/perturb_gan/data/smiles/onehot/PubChem10M/OnehotData_5.h5','w')\n",
    "h5f.create_dataset('data', data = OH1)\n",
    "h5f.close()"
   ]
  },
  {
   "cell_type": "code",
   "execution_count": null,
   "metadata": {},
   "outputs": [],
   "source": []
  },
  {
   "cell_type": "code",
   "execution_count": 78,
   "metadata": {},
   "outputs": [
    {
     "data": {
      "text/plain": [
       "(140, 'right')"
      ]
     },
     "execution_count": 78,
     "metadata": {},
     "output_type": "execute_result"
    }
   ],
   "source": [
    "\n",
    "MAX_LEN, params['PADDING']"
   ]
  },
  {
   "cell_type": "code",
   "execution_count": 74,
   "metadata": {},
   "outputs": [],
   "source": [
    "a = np.array(smile_less_120_list[i:(i+n)])"
   ]
  },
  {
   "cell_type": "code",
   "execution_count": 76,
   "metadata": {},
   "outputs": [
    {
     "data": {
      "text/plain": [
       "array(['COc1ccc(-c2cc(SC(C(=O)[O-])c3ccccc3)nc(-c3cccs3)c2)cc1',\n",
       "       'Cc1cccc(NC(=O)Nc2cnn(-c3cccc(C(=O)NC4CCC(O)CC4)c3)c2)c1',\n",
       "       'C[NH+]1CCC2(CC1)CC2CCOc1cc2ncnc(Nc3ccc(F)c(Cl)c3)c2cc1[N+](=O)[O-]',\n",
       "       ..., 'COc1c(-c2cc(Cl)cs2)cccc1C1(C)OC(=O)C(O)=C1[O-]',\n",
       "       'COc1cc(OC)cc(N(CC[NH2+]C(C)C)c2ccc3ncc(-c4cnn(C)c4)nc3n2)c1',\n",
       "       'C=CCCC(=O)NCc1cccc(OCC(=O)[O-])c1'], dtype='<U140')"
      ]
     },
     "execution_count": 76,
     "metadata": {},
     "output_type": "execute_result"
    }
   ],
   "source": [
    "a"
   ]
  },
  {
   "cell_type": "code",
   "execution_count": 62,
   "metadata": {},
   "outputs": [
    {
     "ename": "TypeError",
     "evalue": "must be str, not int",
     "output_type": "error",
     "traceback": [
      "\u001b[0;31m---------------------------------------------------------------------------\u001b[0m",
      "\u001b[0;31mTypeError\u001b[0m                                 Traceback (most recent call last)",
      "\u001b[0;32m<ipython-input-62-4c36415934cc>\u001b[0m in \u001b[0;36m<module>\u001b[0;34m\u001b[0m\n\u001b[0;32m----> 1\u001b[0;31m \u001b[0msmile_less_120_list\u001b[0m\u001b[0;34m[\u001b[0m\u001b[0mi\u001b[0m\u001b[0;34m:\u001b[0m\u001b[0;34m(\u001b[0m\u001b[0mi\u001b[0m\u001b[0;34m+\u001b[0m\u001b[0;36m10000\u001b[0m\u001b[0;34m)\u001b[0m\u001b[0;34m]\u001b[0m\u001b[0;34m\u001b[0m\u001b[0;34m\u001b[0m\u001b[0m\n\u001b[0m",
      "\u001b[0;31mTypeError\u001b[0m: must be str, not int"
     ]
    }
   ],
   "source": [
    "smile_less_120_list[i:(i+10000)]"
   ]
  },
  {
   "cell_type": "code",
   "execution_count": 122,
   "metadata": {},
   "outputs": [
    {
     "ename": "MemoryError",
     "evalue": "Unable to allocate 329. GiB for an array with shape (9999999, 140, 63) and data type float32",
     "output_type": "error",
     "traceback": [
      "\u001b[0;31m---------------------------------------------------------------------------\u001b[0m",
      "\u001b[0;31mMemoryError\u001b[0m                               Traceback (most recent call last)",
      "\u001b[0;32m<ipython-input-122-a119d3404e86>\u001b[0m in \u001b[0;36m<module>\u001b[0;34m\u001b[0m\n\u001b[0;32m----> 1\u001b[0;31m \u001b[0mX\u001b[0m \u001b[0;34m=\u001b[0m \u001b[0mmu\u001b[0m\u001b[0;34m.\u001b[0m\u001b[0msmiles_to_hot\u001b[0m\u001b[0;34m(\u001b[0m\u001b[0msmile_less_120_list\u001b[0m\u001b[0;34m,\u001b[0m \u001b[0mMAX_LEN\u001b[0m\u001b[0;34m,\u001b[0m \u001b[0mparams\u001b[0m\u001b[0;34m[\u001b[0m\u001b[0;34m'PADDING'\u001b[0m\u001b[0;34m]\u001b[0m\u001b[0;34m,\u001b[0m \u001b[0mCHAR_INDICES\u001b[0m\u001b[0;34m,\u001b[0m \u001b[0mNCHARS\u001b[0m\u001b[0;34m)\u001b[0m\u001b[0;34m\u001b[0m\u001b[0;34m\u001b[0m\u001b[0m\n\u001b[0m",
      "\u001b[0;32m/gpfs/accounts/welchjd_root/welchjd/hengshi/GAN/perturb_gan/chemical_vae-master_newTrain/chemvae_newTrain_train/mol_utils.py\u001b[0m in \u001b[0;36msmiles_to_hot\u001b[0;34m(smiles, max_len, padding, char_indices, nchars)\u001b[0m\n\u001b[1;32m     63\u001b[0m               for i in smiles if pad_smile(i, max_len, padding)]\n\u001b[1;32m     64\u001b[0m \u001b[0;34m\u001b[0m\u001b[0m\n\u001b[0;32m---> 65\u001b[0;31m     \u001b[0mX\u001b[0m \u001b[0;34m=\u001b[0m \u001b[0mnp\u001b[0m\u001b[0;34m.\u001b[0m\u001b[0mzeros\u001b[0m\u001b[0;34m(\u001b[0m\u001b[0;34m(\u001b[0m\u001b[0mlen\u001b[0m\u001b[0;34m(\u001b[0m\u001b[0msmiles\u001b[0m\u001b[0;34m)\u001b[0m\u001b[0;34m,\u001b[0m \u001b[0mmax_len\u001b[0m\u001b[0;34m,\u001b[0m \u001b[0mnchars\u001b[0m\u001b[0;34m)\u001b[0m\u001b[0;34m,\u001b[0m \u001b[0mdtype\u001b[0m\u001b[0;34m=\u001b[0m\u001b[0mnp\u001b[0m\u001b[0;34m.\u001b[0m\u001b[0mfloat32\u001b[0m\u001b[0;34m)\u001b[0m\u001b[0;34m\u001b[0m\u001b[0;34m\u001b[0m\u001b[0m\n\u001b[0m\u001b[1;32m     66\u001b[0m \u001b[0;34m\u001b[0m\u001b[0m\n\u001b[1;32m     67\u001b[0m     \u001b[0;32mfor\u001b[0m \u001b[0mi\u001b[0m\u001b[0;34m,\u001b[0m \u001b[0msmile\u001b[0m \u001b[0;32min\u001b[0m \u001b[0menumerate\u001b[0m\u001b[0;34m(\u001b[0m\u001b[0msmiles\u001b[0m\u001b[0;34m)\u001b[0m\u001b[0;34m:\u001b[0m\u001b[0;34m\u001b[0m\u001b[0;34m\u001b[0m\u001b[0m\n",
      "\u001b[0;31mMemoryError\u001b[0m: Unable to allocate 329. GiB for an array with shape (9999999, 140, 63) and data type float32"
     ]
    }
   ],
   "source": [
    "X = mu.smiles_to_hot(smile_less_120_list, MAX_LEN, params['PADDING'], CHAR_INDICES, NCHARS)"
   ]
  },
  {
   "cell_type": "code",
   "execution_count": 151,
   "metadata": {},
   "outputs": [
    {
     "data": {
      "text/plain": [
       "39.999996"
      ]
     },
     "execution_count": 151,
     "metadata": {},
     "output_type": "execute_result"
    }
   ],
   "source": [
    "len(smile_less_120_list)/(250 * 1000)"
   ]
  },
  {
   "cell_type": "code",
   "execution_count": 152,
   "metadata": {},
   "outputs": [
    {
     "data": {
      "text/plain": [
       "['CN(c1ccccc1)c1ccccc1C(=O)NCC1(O)CCOCC1',\n",
       " 'CC[NH+](CC)C1CCC([NH2+]C2CC2)(C(=O)[O-])C1',\n",
       " 'COCC(CNC(=O)c1ccc2c(c1)NC(=O)C2)OC',\n",
       " 'OCCn1cc(CNc2cccc3c2CCCC3)nn1',\n",
       " 'CCCCCCc1ccc(C#Cc2ccc(C#CC3=CC=C(CCC)CC3)c(C3CCCCC3)c2)c(F)c1',\n",
       " 'O=C(NCc1ccc(F)cc1)N1CC=C(c2c[nH]c3ccccc23)CC1',\n",
       " 'Nc1nc2ccc(F)c(F)c2n1Cc1ccccc1Br',\n",
       " 'COc1cccc(-c2cccc(F)c2C(=O)[O-])c1',\n",
       " 'COc1ccc(CC(=O)Nc2c(C#N)c(C)c(C)n2Cc2ccccc2)cc1',\n",
       " 'N#Cc1ccccc1NC(=O)CCSc1nnc(C[NH+]2CCCC2)n1Cc1ccccc1',\n",
       " 'CCC[NH2+]C(CCc1ccccn1)c1ccc(Cl)s1',\n",
       " 'COc1ccc2nc(NC(=O)Nc3cnccn3)sc2c1',\n",
       " 'CCC(C)N(C)C(=O)C1(c2ccc(N)cc2)CC1',\n",
       " 'CC1CCC(O)(CCc2ccsc2)C1',\n",
       " 'c1ccc(OCC[NH2+]Cc2ccoc2)cc1',\n",
       " 'COc1ccccc1N1CC[NH+](CC2C(=O)OC3CC4(C)CCCC(C)=C4CC32)CC1',\n",
       " 'CC1CCCC2(COCC[NH2+]2)C1',\n",
       " 'CNC(=O)CS(=O)(=O)C1CCN(C(=O)c2ccc([N-]S(=O)(=O)c3cccc(C)c3)cc2)CC1',\n",
       " 'Cn1ncc(-c2ccc(CN3CC[NH2+]CC3)cc2)c1N',\n",
       " 'Cn1nc(COc2cnccn2)c2c1CCN(C(=O)CCCc1ccccc1)C2',\n",
       " 'C=C(C)CN(CC)c1ccc(C(C)[NH3+])cc1Cl',\n",
       " 'Brc1cccc(-c2cc3c4c(cccc4c2)CC3)c1',\n",
       " 'Cc1cc(C)cc(C(=O)CC[NH+](C)C(C)CO)c1',\n",
       " 'C[NH2+]C(C)CNC(=O)c1cc(OC)c(OC(F)F)cc1[N+](=O)[O-]',\n",
       " 'CC1(CNC(=O)N2CCC(C)(C)S(=O)(=O)CC2)CCCc2ccccc21',\n",
       " 'COc1ccc(C)cc1Nc1ncnc(N2CCN(c3ccccn3)CC2)c1[N+](=O)[O-]',\n",
       " 'CC(C)OCCCNC(=O)C(NC(=O)c1c(F)cccc1F)C(C)C',\n",
       " 'CC1CCN(C(=O)c2cc(Cl)ncc2N)C(C)C1',\n",
       " 'CCN(CC)S(=O)(=O)c1cc(C(=O)NC2C3CC4CC(C3)CC2C4)ccc1Cl',\n",
       " 'COCC(C)C[NH2+]Cc1cccs1',\n",
       " 'COC(=O)c1ccc(Oc2cnn(-c3cc(Cl)cc(Cl)c3)c2-c2ccc3cc(OC)ccc3c2)cc1',\n",
       " 'C=CCNC(=S)Nc1nn(Cc2c(F)cccc2Cl)cc1Cl',\n",
       " 'Cc1cc(NC(=O)Nc2cc(Cl)ccc2N2CCCCC2)nn1C',\n",
       " 'Cn1cncc1C[NH2+]CC(c1ccccc1)N1CCCC1',\n",
       " 'CCOc1cc(-c2nc3ccccc3s2)ccc1OCc1c(Cl)cccc1Cl',\n",
       " 'Cn1ncnc1C[NH+](C)C1CCN(CCc2ccccc2)C1',\n",
       " 'CCCCCc1ccc(C(=O)Nc2ccccc2N)cc1',\n",
       " 'CCC1CC(C[NH+]2CCN(S(=O)(=O)N3CCOCC3)CC2)CCO1',\n",
       " 'CCCS(=O)(=O)N1CCCC(C(=O)Nc2ccc(=O)n(Cc3ccccc3Cl)c2)C1',\n",
       " 'CNc1cc(COC)nc(Cc2nc3ccccc3[nH]2)n1',\n",
       " 'COc1csc2cc(O)c([S-])cc12',\n",
       " 'CCCCCCCCN(CCCCCCCC)c1nc2c(s1)c1nc(N(CCCCCCCC)CCCCCCCC)sc1c1nc(N(CCCCCCCC)CCCCCCCC)sc21',\n",
       " 'O=C(Nc1ccc(C(F)(F)F)cc1)C(=O)N1CC[NH+](Cc2ccccc2)CC1',\n",
       " 'CSCC(C)[NH+](C)CC(=O)Nc1ccc(N)cc1Br',\n",
       " 'COCc1cccc(NC(=O)c2cccc(C(N)=O)c2)c1',\n",
       " 'Nc1ccc(NC(=O)CSc2cccc(F)c2)cc1',\n",
       " 'C=CCN(CCO)C(=O)NC(C)(C(=O)[O-])c1ccccc1',\n",
       " 'COc1ccc(-c2noc(C[NH+]3CCCC(C(=O)NC(c4ccccc4C)C(C)C)C3)n2)cc1OC',\n",
       " 'COc1cc(N)c(Cl)cc1C(=O)N1CCCCCC1',\n",
       " 'O=C(c1ccccc1OCc1ccc(F)cc1)N1CC[NH+](Cc2cccs2)CC1',\n",
       " 'CCCCCCCCCC(=O)Nc1cnc(Cl)cn1',\n",
       " 'C#CB1NB(C)NB(C#C)N1C',\n",
       " 'CCOC(=O)Cc1c(C(=O)OCC)c(C)cn1CC',\n",
       " 'CCC(C)C(NC(=O)CCCOc1ccc(C)c(C)c1)C(=O)[O-]',\n",
       " 'C=C1OCC(COCCC[NH3+])O1',\n",
       " 'O=C([O-])CCC(CC1CCCCC1)NC(=O)c1ccoc1',\n",
       " 'Cc1ccc(S(=O)(=O)N2CCCC2C(=O)N(OC(=O)N2CCC3(CC2)OCCO3)C(Cc2ccccc2)C(=O)[O-])cc1',\n",
       " 'CCCN1CCOc2ccc(C(=O)CCC[NH3+])cc21',\n",
       " 'Cc1ccc(NC(=O)c2ccc(NC(=O)CSc3nncn3C)cc2)cc1F',\n",
       " 'CCc1cc(CC)n(-c2ncc(N)cc2C)n1',\n",
       " 'CCCC(C#N)(CCC)C(=O)NCC1(C)CCCCC1',\n",
       " 'CSCc1ccc(CN(CC(F)(F)F)c2ccc(C#N)c(C(F)(F)F)c2)o1',\n",
       " 'CCOC(=O)CNC(=O)N1CCCC1Cc1noc(-c2cnccn2)n1',\n",
       " 'Nc1cccc2c1C(=O)N(C(=O)C1CC3CCC1[NH2+]3)C2=O',\n",
       " 'COc1cnc(Nc2ccn(C)n2)nc1',\n",
       " 'CCNc1ncnc(-c2ccc(F)cc2F)c1CC',\n",
       " 'Cc1cnc(C(C)C(=O)[O-])nc1C',\n",
       " 'CC1(C(=O)[O-])CCCC1Nc1ccc(F)cc1C#N',\n",
       " 'Cc1ccc(CCC2CC[NH2+]CC2)cn1',\n",
       " '[NH3+]CC1OC(n2ncc(=O)[nH]c2=O)C(O)C1O',\n",
       " 'CCC(CNc1cncc(Cl)n1)CC(=O)[O-]',\n",
       " 'CCOC(=O)c1cc(C(=O)OCC)n(C=Nc2ccc3c(c2)OCO3)c1C',\n",
       " 'O=C([O-])c1nc(N2CCCC(O)C2)ccc1Cl',\n",
       " 'CC(C#N)CNCC(=O)NC(C)C',\n",
       " 'N#Cc1ccc(OP(=O)([O-])CNS(=O)(=O)c2cc3cc(OCC[N+]45CCN(CC4)CC5)ccc3s2)cc1F',\n",
       " 'COc1ccc(C[NH+]2CCCC(C[NH2+]C(C)(C)C)C2)cc1',\n",
       " 'O=C(NCCc1ccccn1)c1cccc(CSc2ccc(-c3ccccc3)nn2)c1',\n",
       " 'C[NH+]1CCN(C(=O)c2ccc(Nc3ncc(Br)c(CC4CCCC4C(=O)NCC(F)F)n3)cc2)CC1',\n",
       " 'Cc1cccc(OC(C)(C)CC[NH3+])c1C',\n",
       " 'CCC(C)C1[NH2+]C(C2CCCC2)N(CCC(=O)OC)C1=O',\n",
       " 'CN(C(=O)N1CCC(NS(C)(=O)=O)C1)C1CCCC1',\n",
       " 'FC(F)(F)c1cc(-c2ccccc2)c2ccc3c(-c4ccccc4)cc(C(F)(F)F)nc3c2n1',\n",
       " 'Cc1cccc(CNNC(=O)C2(Cc3ccccc3CN=[N+]=[N-])N=C(c3ccc(OCCCO)cc3)OC2c2ccc(Br)cc2)c1',\n",
       " 'Nc1ccc(-n2ccnc2)c(C(=O)[O-])c1',\n",
       " 'Cc1ccc(S(=O)(=O)Nc2nc(C)c(C(=O)Nc3ccc(C(C)C)cc3)s2)cc1',\n",
       " 'O=C(NC1CC(=O)N(Cc2ccc(F)cc2)C1)C(=O)c1ccccc1',\n",
       " 'COC(=O)Cn1nnnc1SCC(=O)OC(C)C',\n",
       " 'C=CC[NH+](Cc1ccccc1CC[NH2+]C1CC1)C1CC1',\n",
       " 'CCC(CC)(NS(=O)(=O)c1cncc(F)c1)C(N)=[NH+]O',\n",
       " 'CS(=O)(=O)N(Cc1ccc(C(=O)Nc2ccccc2C(=O)N2CCCCC2)cc1)c1cccc(Cl)c1',\n",
       " 'CNC(=O)C1CCCN1C(=O)CNC(=O)C(C)Oc1ccc(F)cc1Br',\n",
       " 'Brc1ccc2[nH]c3c(c2c1)C(=NNCC1=[NH+]CCN1)CCC3',\n",
       " 'O=C(COc1c(F)c(F)cc(F)c1F)NCCc1ccc(F)cc1',\n",
       " 'CCN(C(C)C)C(C[NH3+])c1ccc(Cl)c(F)c1',\n",
       " 'C[NH+]1CCN(c2ccc(CN(C(=O)c3ccc(C(F)(F)F)cc3)c3ccc(F)cc3)cn2)CC1',\n",
       " 'CC[NH+](CC)CCOC(=O)c1ccc(C(C=C(N)C(F)(F)F)=Nc2ccccc2Cl)cc1',\n",
       " 'O=C([O-])C1CN(C(=O)NCCc2c[nH]c3ccc(F)cc23)CC1C(F)(F)F',\n",
       " 'Cc1csc(C(N)CC(F)(F)F)n1',\n",
       " 'Cc1coc(SCc2csc(C(=O)NN)n2)n1',\n",
       " 'C=CCN(C(=O)NCc1ccc(F)cc1)[NH+]1CC(=O)N2C(Cc3ccc(N)cc3)C(=O)N(Cc3cccc4ccccc34)CC21',\n",
       " 'N[N+](O)(N=O)c1ccccc1',\n",
       " 'c1ccc(-c2cccc3c2c2c4oc5c(ccc6c5c5ccccc5n6-c5ccccc5)c4ccc2n3-c2ccccc2)cc1',\n",
       " 'CCCC(=O)NS(=O)(=O)C(NC(=O)c1ccccc1OC)C1(c2cccc(F)c2)CC[NH2+]CC1',\n",
       " 'Cc1ccc(Cn2cc(-c3nn(C4CC5(CCN(C(=O)OC(C)(C)C)C5)C4)c(N)c3C#N)cn2)cc1C(F)(F)F',\n",
       " 'CCCCC(Nc1ccc(C)cc1Cl)C(=O)OC',\n",
       " 'Cc1ccc(Cc2cnc(NC(=O)c3ccc(CS(C)(=O)=O)cc3)s2)cc1',\n",
       " 'Cc1cccc(C(C)C(=O)N(C)c2ccccc2Br)c1',\n",
       " 'Cc1ccc(C)c2c1CCc1ccccc1C2',\n",
       " 'COCOc1ccccc1-c1cc(-c2ccccc2C(=O)NCCN(C(=O)[O-])C(C)(C)C)c(C#N)c(NC(=O)c2cccs2)n1',\n",
       " 'COc1ccc(N(C(C)c2cccc(C)c2)S(=O)(=O)c2ccc(OC)cc2)cc1',\n",
       " 'CC1C=CN(C)C(C(CCN2c3ccccc3Oc3ccccc32)S(=O)(=O)[O-])[NH+]1C',\n",
       " 'CC(C)OC(=O)c1ccc(NC(=O)COc2ccc(Cl)cc2C(N)=O)cc1',\n",
       " 'CC(C)CC(C[NH3+])C(=O)Nc1ccc(Cl)c(C(N)=O)c1',\n",
       " 'CCc1ccc(N2c3cccc(C(=O)[O-])c3OCC2CO)nc1',\n",
       " 'Cc1cc(Cl)c2nc(Cl)nc(N(C)C)c2c1',\n",
       " 'O=[N+]([O-])c1cnc(Cl)nc1N1CCC(CCO)C1',\n",
       " 'CCOc1cc(C=NNS(=O)(=O)c2cc(C)ccc2C)ccc1O',\n",
       " 'O=C(c1cnc2ccccc2c1)n1ccnc1',\n",
       " 'Cc1cccc(C(NC(=O)c2coc(S(=O)(=O)N(C)C)c2)C(=O)[O-])c1C',\n",
       " 'CCOC(CCOc1c(C)cc(Br)cc1[N+](=O)[O-])C(=O)[O-]',\n",
       " 'Cc1ccn(CCC(=O)N2CCC3(CC2)CC3C(=O)NCCC2=CCCCC2)n1',\n",
       " 'COCC([NH2+]C(C)Cc1ccc(C)s1)C(C)C',\n",
       " 'CCC[NH2+]C(c1cncc(F)c1)c1cccc(Cl)c1',\n",
       " 'Cc1cccc(C#N)c1SC(C)CCl',\n",
       " 'CC1OCCC12CN(C(=O)CC(C)(C)C)CCO2',\n",
       " 'Cc1ccc2cccc(Oc3nccc(N)n3)c2n1',\n",
       " 'Cc1nccn1CC(C)[NH2+]C1(c2cc(F)cc(F)c2)CC1',\n",
       " '[NH3+]C(CCc1ccccc1)c1csc(NC(=O)Nc2cccc(C(F)(F)F)c2)n1',\n",
       " 'Cn1ccnc1SCC(C#N)(NC1CC1)C1CC1',\n",
       " '[NH3+]CC1(C(=O)c2ccc(F)c(F)c2)CCCCC1',\n",
       " 'COC(=O)C1(c2ccccc2)CCN(C(=O)c2cccc(CS(=O)(=O)c3ccccc3)c2)CC1',\n",
       " 'NC(=O)c1cccc(-c2nccnc2C2CCCN(C(=O)Cc3c[nH]c4ccccc34)C2)c1',\n",
       " 'Cc1nc2ccc(-c3cc(CCC(=O)[O-])n(C)n3)cc2[nH]1',\n",
       " 'CCC(NC(=O)NC(CCCC[NH3+])CC(N)=O)NC(=O)C1CCCCC1[NH3+]',\n",
       " 'N#CC1C(c2ccc(-c3cccc(F)c3)cc2)C(CO)N1C(=O)c1cccnc1',\n",
       " 'CN(CC1CC(O)C1)c1ccc([N+](=O)[O-])c(C(F)(F)F)c1',\n",
       " 'CCCC(CCCC1CCC(O)CC1)C(=O)[O-]',\n",
       " 'CN(CC(F)F)C(=O)N1CC(n2cc(C(=O)[O-])nn2)C1',\n",
       " 'COCCNc1nccn1Cc1ccc(C(C)C)cc1',\n",
       " 'CCC(C)NC(=O)c1cccc(NC(=O)C[NH+]2CCC(C(=O)N3CCCC3C(=O)Nc3ccc(OC)c(NC(=O)c4ccccc4F)c3)CC2)c1C',\n",
       " 'CC(=O)N1CCCc2nc(C[NH3+])cnc21',\n",
       " 'O=S(Cc1ccccc1Cc1ccccc1)Cc1ccccc1Cc1ccccc1',\n",
       " 'O=C(c1ccoc1)N1CCCC(c2nc3ccc(-c4ccncc4)cn3n2)C1',\n",
       " 'Fc1cccc(Cn2ccc3cc(C=Nc4ccc(F)cc4F)ccc32)c1',\n",
       " 'O=S(=O)([O-])C(F)(F)CCCCCCCO',\n",
       " 'O=c1cc(C2CC2)[nH]c(-c2ccc(Br)cc2C(F)(F)F)n1',\n",
       " 'Cc1ccc(NC(=O)c2cccc(NC(=O)C[NH+]3CCC(C(=O)NC(C(=O)Nc4ccccc4C(C)C)C(C)C)CC3)c2C)cc1F',\n",
       " 'CC1CN(c2ccnc(N(C)C)n2)CC(CO)O1',\n",
       " 'CC(C)(C[NH2+]Cc1ccccc1)c1ccc(N)cc1',\n",
       " 'CC(C)(C)c1cccc(Oc2cc(-c3ccc(OC(F)(F)F)cc3)ccc2C=O)c1',\n",
       " 'COC(=O)CCCCC=C(COc1cccc2ccccc12)C(=O)NC1CC[NH+](C2CCCC2)CC1',\n",
       " 'CN(CCCc1ccccc1)C(C)(C)C[NH3+]',\n",
       " 'CCn1c(SCC(=O)Nc2ccc(Br)cc2Cl)nnc1C(C)Oc1ccc(OC)cc1',\n",
       " 'C=CCOCC(F)(OC(F)(F)C(F)(OC(F)(F)C(=C)F)C(F)(F)F)C(F)(F)F',\n",
       " 'CC1CC(C(=O)[O-])CN(S(=O)(=O)c2cc(F)ccc2OC(F)F)C1',\n",
       " 'CCOC(=O)CSCC(=O)Nc1sc(-c2ccccc2)c(C)c1C(=O)OCC',\n",
       " 'CCC(CC)(C([NH2+]C)c1ccc(OC)cc1C)N(C)C',\n",
       " 'CCOc1ccc(-n2c(C)cc(C(=O)COC(=O)c3c(OC)cccc3OC)c2C)cc1',\n",
       " 'COc1ccc(CC#N)c2scc(N)c12',\n",
       " 'Cc1cc(OCC(=O)NC2CCCCC2)nc2c1c(C)nn2C',\n",
       " 'Cc1ccc(CNc2ccc3c(c2)C(=O)NC3=O)cc1F',\n",
       " 'CCC(C)C(NC(=O)C(C)NC(=O)C(NC(=O)C(NC(=O)C(C)NC(=O)C(CCCC[NH3+])NC(=O)CNC(=O)C(CC(N)=O)NC(=O)C[NH3+])C(C)O)C(C)C)C(=O)NC(CC(C)C)C(=O)NC(C(=O)',\n",
       " 'CCCNC(=O)C(CC)N(Cc1ccccc1)C(=O)CN(c1ccc(Br)cc1)S(=O)(=O)c1ccccc1',\n",
       " 'O=C(CC1COCC[NH2+]1)NC1CCN(c2ccccc2)C1=O',\n",
       " 'ClB(P(c1ccccc1)c1ccccc1)P(c1ccccc1)c1ccccc1',\n",
       " 'Cc1ccc(OCCNS(=O)(=O)c2ccc([N+](=O)[O-])cc2)cc1Cl',\n",
       " 'Cc1ccc(CSc2nnc(Cc3ccccc3)n2N=Cc2ccc([O-])c([N+](=O)[O-])c2)cc1',\n",
       " 'CCCCNc1nc(-c2ccc(C)n(C)c2=O)cs1',\n",
       " 'CCOC(=O)SSCCCCSSC(=O)OCC',\n",
       " 'C[NH2+]CC1CCCN1C(=O)c1ccc(C(C)(C)C)c([N+](=O)[O-])c1',\n",
       " 'COc1ccc(CN2CC(C)c3c(Nc4ccccc4S(=O)(=O)NC4CCCCC4)nc(Nc4ccc(N5CCOCC5)cc4OC)nc32)cc1',\n",
       " 'C#CC(C#C)=C(C#C)C#CC=O',\n",
       " 'CC(C)(C)OOC(c1ccccc1)(c1ccccc1)c1ccccc1',\n",
       " 'FC(c1ccc(Cl)c(Cl)c1)C1CCC[NH2+]C1',\n",
       " 'CCCn1ncnc1C[NH+](CCOC)CCC(=O)OC',\n",
       " 'O=C(NCc1cccnc1)c1cccc(C[NH+]2CCN(c3ccccc3F)CC2)c1',\n",
       " 'CCOCCNC(=O)C1CCNc2ccccc21',\n",
       " 'CCCC(=O)Cc1ccc(OC)cc1',\n",
       " 'Cc1ccsc1-c1n[nH]c(S(N)(=O)=O)n1',\n",
       " 'N#CCc1c(OC(F)(F)F)ccnc1Br',\n",
       " 'CCOc1ccc2cc(C(=O)NC)c(=O)oc2c1',\n",
       " 'O=CC(O)C=Cc1ccccc1',\n",
       " 'CNc1ccc2c(c1)nc1cc(I)ccn12',\n",
       " 'CCCCc1nc(C)n(-c2ccc(OC(C)(C)C)cc2)c(=O)c1Cc1ccc(-c2ccccc2)c(-c2nc(=O)o[nH]2)c1',\n",
       " 'CN(C(=O)Nc1ccc(Oc2ccccc2)cc1)C1CCCCC1',\n",
       " 'O=C(Nc1ccccc1N1CCCCC1)c1cc2c(F)cccc2s1',\n",
       " 'CCS(C)(=O)=Nc1ccc(Oc2ccc(F)cc2F)c(-c2cn(C)c(=O)c3[nH]ccc23)c1',\n",
       " 'CCc1cc2c(c(Br)c1O)OC(=O)C(c1csc(C)n1)C2',\n",
       " 'CCCCNS(=O)(=O)c1ccccc1C=C(C)C(=O)[O-]',\n",
       " 'CC[NH2+]C(Cc1ccc(Cl)c(F)c1)c1cc(F)ccc1F',\n",
       " 'Cc1ccccc1N(CCCC(=O)N(Cc1c(Cl)cccc1Cl)C(C)C(=O)NC(C)C)S(C)(=O)=O',\n",
       " 'CC[NH2+]C1CCCc2nc(N(C)Cc3cc(Br)cs3)sc21',\n",
       " 'Cc1csc2nc(-c3cc(Cl)ccc3Cl)c(C=O)n12',\n",
       " 'O=C1CCN1c1cccc(CNC(=O)C2([NH+]3CCOCC3)CCC2)c1',\n",
       " 'Nc1nc(=O)c2[nH]c(SCc3nnco3)nc2[nH]1',\n",
       " 'Cc1nc(C[NH+]2CCCN(C(=O)Cc3nc(-c4ccccc4)sc3C)CC2)cs1',\n",
       " 'CCN(CC1CCC1)c1sc(C(=O)C2CC2)c(N)c1OC',\n",
       " 'CC(CN1CCCCC1)[NH2+]C(C)c1ccc(I)cc1',\n",
       " 'COc1ccccc1C(Br)c1cc2c(cc1Br)OCCO2',\n",
       " 'O=C1NC(=O)N(CCCn2ccnc2)C1c1cccc(Cl)c1',\n",
       " 'Cc1ccc(S(=O)(=O)N2CC[NH+](CC(=O)NCC3(C)CCOC3)CC2)cc1',\n",
       " 'CCCc1ccc(C(C)[NH2+]Cc2ccc(OC)nc2)cc1',\n",
       " 'COCCCNc1ncnc(NNc2ccccc2)c1N',\n",
       " 'COc1ccc(C(=O)N2CCOC(C#N)C2)cc1[N+](=O)[O-]',\n",
       " 'O=C(c1cccc(Cl)c1)N(CC1CCC[NH2+]1)C1CC1',\n",
       " 'CCC[NH2+]C(c1ccoc1)c1nccc2ccccc12',\n",
       " 'CN(CC1CC[NH+](C)CC1)C(=O)CCC1CCC([NH3+])CC1',\n",
       " 'COc1cc(Br)c(F)c([N+](=O)[O-])c1NCC[NH+]1CCOCC1',\n",
       " 'CCOC(=O)CNC(=O)c1sc(-c2ccc(F)cc2)cc1C(=O)OC',\n",
       " 'Cc1nnsc1C(=O)NCC1CCN(S(=O)(=O)N(C)C)CC1',\n",
       " 'CCCCOc1ccc(C[NH2+]Cc2cccc(Cl)c2)cc1',\n",
       " 'CCCC(C)COC(=O)c1cc(F)ccc1[N+](=O)[O-]',\n",
       " 'O=C(Nc1cccc(Cl)c1Cl)NC1CC2C(=O)NC(Cc3ccc(O)cc3)C(=O)N2C1',\n",
       " 'CNC(=O)c1cn(OC)c2ncoc12',\n",
       " 'O=C([O-])c1cc(Cl)cc(S(=O)(=O)CC(Cl)=CCl)c1F',\n",
       " 'C=C(CC1CC[NH+](CC(NC(=O)OCC)C(C)(C)C)CC1)[NH2+]Cc1cc(Cl)cc(Cl)c1',\n",
       " 'CCOC(=O)c1cc(C)nc2sc3c(-c4ccc(OC)cc4)c(C(C)=O)c(=O)[nH]c3c12',\n",
       " 'COc1cc(C(=O)NC(C)CO)ccc1Nc1ncc(C(F)(F)F)c(NCc2ccc(C)cc2N(C)S(C)(=O)=O)n1',\n",
       " 'O=C(C=CC=CC1(F)CC1c1ccc(Br)c(Br)c1)NN1CCCCC1',\n",
       " 'CC(SCc1cccc(OCCF)c1)C([NH3+])C(=O)[O-]',\n",
       " 'CC(C)NC(=O)c1ccccc1NCC(=O)NCC1(c2ccccc2)CC1',\n",
       " 'COc1cccc(CC(=O)NC(c2cccc(OC)c2)c2nccn2C)c1',\n",
       " 'CC(C)CC(NC(=O)C1CCCN1C(=O)C[NH3+])C(=O)NC(C(=O)[O-])C(C)O',\n",
       " 'CCCC(=O)C(C#N)c1cccnc1',\n",
       " 'Cc1noc(C)c1CSc1ncccc1C(=O)N1C2CCC1CC(=O)NC2',\n",
       " 'CCCCCCCCCC(=O)C1C(=O)Nc2cc(Cl)ccc21',\n",
       " 'Cc1ccc(C)c(NC(N)=[NH+]CC(C)C)c1',\n",
       " 'CCOc1cc(C=NOC(=O)CC)ccc1OC(=O)CC',\n",
       " 'Cc1ccc(F)cc1NC(=O)N1CCC(c2nc(-c3ccc4ccccc4n3)no2)CC1',\n",
       " 'CCSCCC(C[NH3+])N1CCC(C(C)C)CC1',\n",
       " 'CC(C)(C)c1ccc(OCC(=O)N2CCSCC2)cc1',\n",
       " 'CCC[NH2+]C(CCCOCC)CCC(C)C',\n",
       " 'CCCn1c(C#N)cc(N)c1Cc1cccc(Cl)c1',\n",
       " 'CCN(CC)C(=O)C1CCN(c2cc[nH+]c3cc(Br)cnc23)CC1',\n",
       " 'CCOC1CC([NH2+]C(CO)C(C)C)C12CCCCC2',\n",
       " 'CCC(NC(=O)C1CCC(=O)N1Cc1ccc2c(c1)OCO2)c1ccccc1',\n",
       " 'C[NH+](C)C(C)(C)CNS(=O)(=O)c1ccc(Br)cc1Cl',\n",
       " 'CC(CNC(=O)NCCO)[NH+]1CCN(c2ccccc2)CC1',\n",
       " 'CC(C)C[NH+](C)CC(=O)NCC(C)c1ccccc1',\n",
       " 'CCN(CC(=O)[O-])C(=O)Nc1ccc(C)cc1F',\n",
       " 'CCOC(=O)C1=C(c2ccccc2)N=c2sc(=Cc3ccc(-c4cc([N+](=O)[O-])ccc4OC)o3)c(=O)n2C1c1ccc(SC)cc1',\n",
       " 'CC(C)(CO)[NH2+]CC(=O)N1CCCC1C(=O)c1nnc(C2(C)CCCCC2)o1',\n",
       " 'COC(=O)Cc1ccccc1C(CCc1ccccc1)C(N)=O',\n",
       " 'CCNC(=O)CC(C[NH3+])N(C)CCOCC',\n",
       " 'CC(=O)c1cccc(-n2ccn(C(C)C)c2=O)c1',\n",
       " 'NNC(=O)c1coc(COC(C(F)(F)F)C(F)(F)F)c1',\n",
       " 'CC(C)(C)C(=O)NCC1(c2cccc(Cl)c2)CC1',\n",
       " 'Cc1ccc(CCNc2n[nH]c(N)n2)s1',\n",
       " 'CNc1cc(C(F)F)[nH+]c2c(Br)ccc(C)c12',\n",
       " 'COc1ccc(CO)cc1S(=O)(=O)NC1CCCC1C',\n",
       " 'Cc1cc(-c2nc(CCl)co2)cc([N+](=O)[O-])c1',\n",
       " 'Cc1cc(N(C)C(=O)OC(C)(C)C)cc(C)c1CCS(=O)(=O)N1CCC(NC(=O)CCCCCCCC(F)(F)C(F)(F)F)(C(N)=O)CC1',\n",
       " 'CC[NH2+]C(C1CC(C)CC(C)C1)C(C)(C)N1CCCC1',\n",
       " 'Cc1ccc(C)c(C(=O)OCC(=O)Nc2ccc3c(c2)C(=O)c2ccccc2C3=O)c1',\n",
       " 'COc1cc(C(=O)N(Cc2ccccn2)c2nc3c(C)cc(C)cc3s2)c([N+](=O)[O-])cc1OC',\n",
       " 'CC1c2cccnc2N(C2CC[NH2+]CC2)C(=O)CC1CC(=O)[O-]',\n",
       " 'O=C([O-])CC(OC(=O)c1cc2ccc1o2)(C(F)(F)F)C(F)(F)F',\n",
       " 'CCN1CCN(C(=O)NC2CC[NH+](C)CC2)C(C)C1=O',\n",
       " 'COc1cccc(C[NH+]2CCC(C(=O)N(CCO)Cc3ccccc3)CC2)c1OC',\n",
       " 'CCc1nc(CN(CCOC)CC2CCC[NH2+]2)no1',\n",
       " 'COc1cc(F)c(C(C)(C)C#N)c(F)c1',\n",
       " 'CCc1cc2c(CC#N)c(CO)ccc2s1',\n",
       " 'CCC(CC)C(=O)NCC(=O)Nc1ccc(OC)c(OC)c1',\n",
       " 'CCC(=O)N1CCCN(C(=O)c2cn[nH]n2)CC1',\n",
       " 'CCCNc1nc(C)cc(Sc2cccc(C)c2)n1',\n",
       " 'CCN(Cc1ccc(OC)c(OC)c1)C(=O)c1ccc(OC)c(S(=O)(=O)NC)c1',\n",
       " 'CCC#CCC(C)C(O)C#CC1C(O)CC(F)C1CC(=O)CCCCC(=O)[O-]',\n",
       " 'C#CC(OC)C(C=CC)=Nc1ccccc1C(=O)OC',\n",
       " 'Cc1c(-c2cc3cc(OCc4cncs4)ccc3o2)oc(=O)c(C)c1[O-]',\n",
       " 'CC1(c2cc(NC(=O)c3ncc(F)cc3F)ccn2)CCSC(N)=[NH+]1',\n",
       " 'O=C(CCS(=O)(=O)Cc1ccc(Cl)cc1)Nc1ccccc1F',\n",
       " 'CCOC(=O)CCNC(=O)C(c1ccccc1O)N(C(=O)C(Cc1ccc(O)cc1)NC(=O)OC(C)(C)C)C1CCC1',\n",
       " 'COc1ccc(C=CC(=O)N2CCN(c3c(C)n[nH]c3C)CC2)cc1OC',\n",
       " 'CC(C)(C)[NH2+]CC(O)Cn1ccccc1=O',\n",
       " 'COC1CCC2(CC1)Cc1ccc(-c3cnccn3)cc1C2=NC#N',\n",
       " 'CN1C(=O)N(C)C(=O)C2(C1=O)C(c1ccc(F)cc1)NC(=O)NC2c1ccc(F)cc1',\n",
       " 'Cc1ccc(C)c(OCc2cc(F)cc(B(O)O)c2)c1',\n",
       " 'CCC(=O)Cc1ccc(-c2cnc3n[nH]c(-c4nc5c(C(=O)N6CCCC6)cncc5[nH]4)c3c2)cn1',\n",
       " 'CS(=O)CC(NC(=O)[O-])c1ccccc1Cl',\n",
       " 'CCOCCCNC(NCCc1ccco1)=[NH+]CC(C)SC',\n",
       " 'Cc1ccc(S(=O)(=O)N(CC(=O)N(Cc2ccc(Cl)cc2Cl)C(C)C(=O)NC(C)C)c2ccc(Cl)cc2)cc1',\n",
       " 'Cn1ncnc1C[NH+]1CCC(C(=O)[O-])C1',\n",
       " 'NN=C1COCc2cccc(Cl)c21',\n",
       " 'CCCCCC1CCC(CCc2ncc(-c3ccc(CCCC)cc3)cn2)CC1',\n",
       " 'CCCn1c(=O)ccn(-c2cc(OC(C)C)c(Cl)cc2F)c1=O',\n",
       " 'OC(Cc1c(F)cccc1F)C1COc2ccccc2O1',\n",
       " 'Cc1cccc2c(=O)n(C)c(C(=O)[O-])nc12',\n",
       " 'COc1cccc(-c2nnc(C34CC5CCCC(NC(=O)c6cccc(C)n6)(C3)C(C5)C4)o2)c1',\n",
       " 'O=C(NCCN1C(=O)CCC1=O)N1CC[NH+](C2CCCC2)CC1',\n",
       " 'Nc1ccc(N2CCN(S(=O)(=O)c3cnc[nH]3)CC2)cc1',\n",
       " 'CONS(=O)(=O)c1ccc(CC#N)cc1',\n",
       " 'CC(=O)Nc1cc(=O)n(-c2ccccc2)nc1-c1ccccc1',\n",
       " 'C=CCNC(NCCCCC1CCCC1)=[NH+]Cc1nnc(C)n1C',\n",
       " 'O=C([O-])CCCCCCCNC(=O)c1cc(F)cc2cccnc12',\n",
       " 'COC(C)(C)CC(C)[NH2+]Cc1cccc(Br)c1',\n",
       " 'Cc1ccc(NC(=O)c2cc3cc(Cl)ccc3n2NC(=O)C(=O)NC(C)c2ccccc2)cc1C',\n",
       " 'CC(C)[NH2+]Cc1cnc(Oc2cccc(F)c2)nc1',\n",
       " 'COc1cc(OC)c2cc(C(=O)N(C)C(C(N)=O)c3cccc(F)c3)[nH]c2c1OC',\n",
       " 'O=C([O-])C1CCCC1CNS(=O)(=O)CCc1ccccn1',\n",
       " 'CC(C)C(C)CNc1ncc(Br)cc1Cl',\n",
       " 'Cc1occc1SCc1nnc(-c2ccc([N+](=O)[O-])cc2)o1',\n",
       " 'COC(=O)c1cc2c3ccccc3nc-2c(-c2ccc3cc(F)ccc3n2)[nH]1',\n",
       " 'CNC1(C#N)CCC(c2ccccc2)CC1',\n",
       " 'C[NH2+]CC1CCC1C(CCCC(C)C(C)C=O)C1OCC(N2CC(F)(F)C2)CO1',\n",
       " 'O=C([O-])CC1CN(CCCO)c2ccccc21',\n",
       " 'Cc1cc(C)nc(SCC(=O)OC(C)C(=O)Nc2ccc(Cl)cc2F)n1',\n",
       " '[NH3+]CCOCc1nc(-c2ccc(Br)cn2)no1',\n",
       " 'COC1C=CC=C(C)C(=O)NC2=C(O)C(CC(C)CC(OC)C(O)C(C)C=C(C)C1OC(N)=O)c1nc3c(nc1=C2)C=CC(Cl)C=3',\n",
       " 'CCCCC(CC)CNC(NC(C)COC)=[NH+]C',\n",
       " 'COc1ccccc1N1CC[NH+](C2CCCC2C[NH3+])CC1',\n",
       " 'C=C(C)C(=O)ONC1C(O)CCC1CCCC(C)C',\n",
       " 'Nc1nnc(C[NH+]2CCOC3CCCCC32)s1',\n",
       " 'COCC(=O)NCc1cc2n(n1)CCC[NH+](C1CCCCC1)C2',\n",
       " 'Cc1cccc(N(c2cccc(C)c2)c2c3ccc(C4CC5CCC4C5)cc3c(N(c3cccc(C)c3)c3cccc(C)c3)c3ccc(C4CC5CCC4C5)cc23)c1',\n",
       " 'CN1CC[NH+](C)C(CNc2nc3ccc(F)cn3n2)C1',\n",
       " 'COC(=O)c1ccccc1C[NH2+]C(C)C(=O)[O-]',\n",
       " 'O=C([O-])c1cccnc1N1CCC(CF)C1',\n",
       " 'COc1cc(CC#N)c(F)cc1N',\n",
       " 'O=C(ONC1CCC(n2cncn2)CC1)C(F)(F)F',\n",
       " 'Clc1ccccc1CC1CCOc2cc(-c3ccnc(Nc4ccn[nH]4)c3)cc3nnc1n23',\n",
       " 'CCOc1ccc(C(=O)Nc2ccc(Br)c(C)c2)cc1Br',\n",
       " 'CCCCC=CCCCCCCCC(=O)OC(COC(=O)CCCCC=CCC=CCC=CCCCCC)COC(=O)CCCCCCCC=CCCCCCC',\n",
       " 'C=C(C)C(=O)OCCC[Si](C)(O[Si](C)(C)O[Si](C)(C)CCCCP=O)O[Si](C)(C)O[Si](C)(C)CCCOPC',\n",
       " 'O=C(NCC(F)(F)F)C1CN(Cc2ccccc2)C(=O)N1',\n",
       " 'C=Nc1ccccc1N(CCN1CC[NH+](C(C)c2ccc(F)cc2)CC1)CSCC(=C)Nc1ccc(N)cc1Cl',\n",
       " 'CC(C)Oc1ncnc(Oc2ccccc2Cl)c1N',\n",
       " 'C=CC=C(C)OCC[NH+](C)C',\n",
       " 'COC1=C(CC2CCCC3CCCCC32)C(=O)C([O-])=CC1=O',\n",
       " 'O=C([O-])CCn1c(-c2cn[nH]c2)nc2ccccc21',\n",
       " 'CC(C)CCc1nc2c(c(NN)n1)CCCCC2',\n",
       " 'CC(C)C(NC(=O)Cc1ccc2c(c1)CCO2)c1nc(-c2ccncc2)no1',\n",
       " 'COCCCN(Cc1c(C)nn(-c2ccccc2)c1N1CC[NH+](C)CC1)C(=O)c1ccccc1Cl',\n",
       " 'CCOc1cccc(CNC(NCCC2CC[NH+](CC)CC2)=[NH+]C)c1OC(F)F',\n",
       " 'CCC(C)C1C(=O)Nc2ccc(NC3CC3)cc2-c2nc3cc(N4C(C)(C)CC([NH3+])CC4(C)C)ccc3n21',\n",
       " 'CCC(C)C(=O)Nc1cc(NC(=O)C(NC(=O)C2CC[NH+](CC(=O)Nc3cc(C(=O)NC)ccc3Cl)CC2)C(C)C)ccc1Cl',\n",
       " 'CCC(NS(=O)(=O)c1ccc(C)cc1)C12CC3CC(CC(C3)C1)C2',\n",
       " 'C[NH2+]C(CSC)c1ccc(Cl)cc1',\n",
       " 'O=C(Cc1csc(NC(=O)c2cccs2)n1)Nc1ccc(Br)cc1F',\n",
       " 'CC(C)OC(=O)NC(CC1CCCCC1)C(O)CC(=O)NC(CCC(=O)[O-])C(=O)NCCCc1ccccc1',\n",
       " 'NS(=O)(=O)c1cccc(NCc2ccc(Br)cc2Cl)c1',\n",
       " 'CCOC(=O)C1(CCCc2c(F)cnc3ccc(OC)cc23)CC[NH+](CCOc2cc(F)cc(F)c2)CC1',\n",
       " 'CCOC(=O)c1[nH]c(C)c(C(=O)C(C)N(CCCOC)S(=O)(=O)c2ccccc2)c1C',\n",
       " 'COc1cc(C#N)ccc1N1CC2(CCC2)C1',\n",
       " 'Cc1c(N)cccc1C[NH+]1CCCCCC1',\n",
       " 'CNc1nnc(-c2cc(C(C)(C)C)nc3ccccc23)s1',\n",
       " 'CN(C(=O)CC([NH3+])C1CC1)C1CCc2ccccc21',\n",
       " 'C[NH+]1CCN(c2ccccc2NC(=O)C2CCN(C(=O)c3ccc(C(F)(F)F)cc3)CC2)CC1',\n",
       " 'COc1ccc2oc(C(C)Nc3nnnn3-c3ccccc3)c(C)c2c1',\n",
       " 'CC(C)(C)c1nc2ccccc2c2nnc(SCC(=O)NCCc3ccccc3)n12',\n",
       " 'Oc1ccccc1C=Nc1nnc(SCc2c[se]c(-c3ccccc3)n2)s1',\n",
       " 'C=C1[NH2+]CCN1CC(C)C[NH+](C)C',\n",
       " 'Nc1ccc2nc(-c3cncc(F)c3)[nH]c2c1',\n",
       " 'CCC(C)(CO)NC(=O)c1cccc(C)c1F',\n",
       " 'O=C([O-])CCCC(=O)NC(Cc1ccc(-c2cccc(Cl)c2)cc1)CC(O)C(=O)[O-]',\n",
       " 'CCOC(=O)c1cccc(-n2c(CC)nc3cc(C)ccc32)c1',\n",
       " 'CC(NC(=O)N1C(=O)C2(c3cc(C#CC4(O)CCCCCC4)ccc31)C(C(=O)N1CC[NH+](Cc3ccc4c(c3)OCO4)CC1)C1C(=O)OC(c3ccccc3)C(c3ccccc3)[NH+]1C2c1cccc(OCCO)c1)c1c',\n",
       " 'COc1cccc(C2CC(=CC(=O)[O-])CC[NH+]2C)c1',\n",
       " 'CC(C)(C)[Si](C)(C)c1[nH]c2ccccc2c1Br',\n",
       " 'CCC(Oc1ccc(N(C)S(C)(=O)=O)cc1)C(=O)NCc1ccc(C[NH+]2CCCC2)cc1',\n",
       " 'CCCC[B-]1(CCCC)[N+](C2CCCCC2)=C(NC2CCCCC2)Nc2sc3ccccc3[n+]21',\n",
       " 'CCc1cc2ccc(SC)c(Br)c2s1',\n",
       " 'Cc1csc(-c2nnc(Nc3ccc(Oc4ncccc4-c4ccnc(N)n4)cc3)c3ccccc23)n1',\n",
       " 'Cc1cc(C)cc(NC(=O)c2cccc(-c3cnc(N4CCCC4)nc3)c2)c1',\n",
       " 'Nc1cc([S-])c2sccc2c1C(F)F',\n",
       " 'CCCCC1C(C=NN2CCCC2COC)=CC=CC1CC#C[Si](C)(C)C',\n",
       " 'O=C1c2ccc([N+](=O)[O-])cc2C(=O)N1CC(=O)N1CCCC1c1ccc2c(c1)OCCCO2',\n",
       " 'COCCNC(=O)c1cc(C(=O)c2ccccc2O)cn2c1nc1ccccc12',\n",
       " 'Cc1ccc2nc(SCC(=O)Nc3ccc(Cc4ccc(NC(=O)CSc5nc6ccc(C)cc6[nH]5)c(Cl)c4)cc3Cl)[nH]c2c1',\n",
       " 'CSCCCNc1nnc(C[NH2+]C(C)(C)C)o1',\n",
       " 'CC=CCCNC(=O)C=Cc1cc(Cl)c2c(c1)OCCO2',\n",
       " 'CNc1nc(C)c(-c2cc(OC)cc(OC)c2)o1',\n",
       " '[NH3+]Cc1nc2ncc(-c3cccc(Cl)c3)cc2o1',\n",
       " 'C=C(Cl)COC(=O)c1cc2cnn(C(C)C)c2nc1C',\n",
       " 'C[NH+]1CCC(c2ccccc2)C(Oc2ccc3c(c2)OCO3)C1',\n",
       " 'CCC(Oc1cccc(C)c1)C(=O)NCC(C)(O)C(=O)[O-]',\n",
       " 'Cn1cc[nH+]c1CCNC(=O)c1ccc2c(c1)CCCC2',\n",
       " 'Cc1cc(C(=O)NCC(C)C)ccc1NC(=O)C(C)NC(=O)C1CC[NH+](C(C)C(=O)Nc2ccc(Cl)c(C(=O)NC3CCCC3)c2)CC1',\n",
       " 'COc1ccc(-c2ccc(C[NH+]3CCc4[nH]c(SC)nc(=O)c4C3)s2)cc1OC',\n",
       " 'CC(c1cccs1)N(C)C(=O)C1(C[NH3+])CCCCCC1',\n",
       " 'OC1(C(F)(F)F)CC[NH+](Cc2csc(-c3ccsc3)n2)CC1',\n",
       " 'CCNc1ccnc(-c2cc(Br)c(O)c(OC)c2)n1',\n",
       " 'O=C(Cc1ccc(C2=[NH+]CCN2)cc1)NCCC1C(=O)Nc2ccccc2N1S(=O)(=O)c1ccc(Cl)c(Cl)c1',\n",
       " 'Cc1ccc(-c2c[n+]3c(n2-c2ccc(Br)cc2)CCCC3)cc1',\n",
       " 'CC(C)=C(C(=O)OCc1ccccc1)N1C(=O)C(Br)(Br)C1O[N+](=O)[O-]',\n",
       " 'O=C(C[NH2+]CCN1CCSCC1)Nc1cccc(F)c1',\n",
       " 'CCC(c1cc(C(F)(F)F)cc(C(F)(F)F)c1)N(Cc1cc(C(F)(F)F)ccc1N(CC)CC1CCCC1)c1ncc(OCCSC)cn1',\n",
       " 'C[NH+]=C(NCC[NH+]1CCCCC1)NCC1(C2CC2)CCC1',\n",
       " 'CC(C)N(c1ccc(-c2ccccc2)cc1)c1ccccc1-c1cccc2ccccc12',\n",
       " 'O=C(OCC#Cc1ccccc1)C(O)CO',\n",
       " 'C#CC[NH2+]C1(C(=O)[O-])CCCC1C',\n",
       " 'CNC(=O)c1ccn(-c2nc(N)ncc2Cl)n1',\n",
       " 'C=CCC(NN)c1cc(F)cc(Br)c1',\n",
       " 'COCCCNC(=O)c1nc2nc(-c3ccccc3)c(Cl)cc2n1C',\n",
       " 'CCCCN(CC(=O)N1CCCCC1c1nc(-c2cccc(Cl)c2)no1)C(=O)c1ccccc1',\n",
       " 'C[P+]1(C)CC(C2CCCCC2)=C(c2ccc([N+](=O)[O-])cc2)[B-]1(c1ccc([N+](=O)[O-])cc1)c1ccc([N+](=O)[O-])cc1',\n",
       " 'C=C(c1cccc(C(F)NC)c1CCC)N1C=CC(N(N)c2ncccc2F)=C([NH3+])C1C',\n",
       " 'CCC[NH2+]Cc1cccc(Cl)c1OC(CC)C(N)=O',\n",
       " 'CS(=O)(=O)N1CCCC1C(=O)NC(c1ccccc1)C1CC1',\n",
       " 'CCCCCCC=CC=CCCCCCCCC(=O)OCC(COP(=O)([O-])OCC(O)COP(=O)([O-])OCC(COC(=O)CCCCCCCCCC(C)C)OC(=O)CCCCCCCCCCCCCCCC(C)C)OC(=O)CCCCCCCCCC(C)C',\n",
       " 'CB(O)N1CC(OS(C)(=O)=O)CC1COC(=O)C(C)(C)C',\n",
       " 'Cc1[nH]ncc1C(O)C(=O)[O-]',\n",
       " 'CC12CC3CC(C1)C(CC(=O)N1CCCc4ccccc41)C(C3)C2',\n",
       " 'Cc1cccc(C(=O)Nc2cc(NC(=O)C3CC[NH+](C(C)C(=O)Nc4ccc(C(=O)N5CCCCC5)cc4C)CC3)ccc2F)c1',\n",
       " 'CCC1(CC)CCN(C(=O)c2cccnc2Br)C1',\n",
       " 'O=C(Nc1ncc(Cc2ccccc2Cl)s1)C1=CN2CCS(=O)(=O)N=C2C=C1',\n",
       " 'CCCCn1c(SCC(=O)N(C)Cc2ccccc2OC)nc2ccccc2c1=O',\n",
       " 'COc1ccc(CN(C)C(=O)C2CCC(NC(=O)C3CC3)CC2)cc1O',\n",
       " 'COc1ccccc1CC([NH3+])Cc1cccc([N+](=O)[O-])c1',\n",
       " 'CCc1ccc(C(=O)C(C)OC(=O)c2ccc(Cl)c(S(=O)(=O)N3CCCCC3)c2)cc1',\n",
       " 'COc1ccc(C(CNC(=O)C2=C(c3ccccc3)S(=O)(=O)CCO2)[NH+]2CCCC2)cc1',\n",
       " 'Cc1ccc(C([NH3+])CC[NH+]2CCCC2CO)cc1',\n",
       " 'CN(C)c1noc(C2CCC[NH+](CC3CCC[NH2+]C3)C2)n1',\n",
       " 'CSCCC(NC(=O)C(C)NC(=O)C(NC(=O)C([NH3+])Cc1cnc[nH]1)C(C)C)C(=O)[O-]',\n",
       " 'C#CCCC[NH+](CCC)CC(C)(C)C[NH3+]',\n",
       " 'CCCCCCCc1nccnc1Cl',\n",
       " 'Cc1cc(O)ccc1NCc1ccccc1Cl',\n",
       " 'Cc1nc(=O)[nH]c(C)c1CCC(=O)N1CCOCC1CC(C)C',\n",
       " 'O=C(CCc1ccncc1)c1cc(-c2ccc3[nH]c(C(=O)Cc4ccncc4)cc3c2)ccn1',\n",
       " 'C=CCN1C(=O)C(CC(=O)Nc2ccccc2)SC1=[NH+]NC(=O)c1ccccc1O',\n",
       " 'OC1CCC(C2(c3ccccc3)COC2)CC1',\n",
       " 'CC1=CC(C)C2(C)C=CC(=O)C(C)C2C1',\n",
       " 'Cc1nc(C2CCCC2C)nc(Cl)c1I',\n",
       " 'CC1CCC(CNC(=O)C(C)(C)N2CC[NH2+]CC2)C1',\n",
       " 'C[NH+]1CCN(C(=O)c2c(N)cccc2Cl)CC1(C)C',\n",
       " 'Cc1c(C[NH+]2CCC3(CC2)c2nc[nH]c2CCN3C(=O)C2CCC2)cnn1C',\n",
       " 'CC1OCCC1(C)N1CCC[NH2+]C(C)(c2ccccc2)C1',\n",
       " 'CCOC(=O)CCc1ccc(CC[NH3+])cc1',\n",
       " 'COc1ccc(CCN(C)c2cc[nH+]c(C=Cc3ccc(NC(C)=O)cc3)c2)cc1OC',\n",
       " 'CCCCC(CC)CNc1nc(N2CCN(C(=O)Nc3ccccc3)CC2)nc2c1ncn2Cc1cccc(C)c1',\n",
       " 'CCCc1cc(C(=O)NCc2ccc(F)cc2)cc(Cl)n1',\n",
       " 'CC(O)CNC(=O)C(C)Oc1cccc(Cl)c1Cl',\n",
       " 'CSCCCCCC[NH2+]C(C)c1cccc([N+](=O)[O-])c1',\n",
       " 'CSCCC(NC(=O)c1cccc(C)c1)C(=O)NCCc1cnn(-c2ccccc2)c1',\n",
       " 'COc1cccc(C=C2CCC(Oc3ccccc3)CC2=O)c1',\n",
       " 'COc1cc(C(=O)NN=Cc2cccc(OCc3cnc(Cl)s3)c2)cc(OC)c1OC',\n",
       " 'CC(=O)c1c[nH]n2c(=O)nc3ccccc3c12',\n",
       " 'C=C[N+]1(OP(=O)([O-])OP(=O)([O-])[O-])CCCC1',\n",
       " 'O=Cc1c(Cl)cccc1OCC(=O)Nc1cccc(Br)c1',\n",
       " 'CN1C(=CC=C2CCCC(C=CC3=[N+](C)c4ccc5ccccc5c4C3(C)C)=C2OC2CCN(c3cc4c(c5ccccc35)N=CC3(O4)N(C)c4ccccc4C3(C)C)CC2)C(C)(C)c2c1ccc1ccccc21',\n",
       " 'O=C(Nc1cccc(S(=O)(=O)NC2CC2)c1)C1CCCN1C(=O)c1ccco1',\n",
       " 'CNS(=O)(=O)c1cc(C(=O)Nc2ncc[nH]2)n(C)c1',\n",
       " 'CCn1ccnc1C=CC(=O)NC',\n",
       " 'Nn1c(=O)cc2nnc(C(=O)[O-])cn21',\n",
       " 'CCOC(=O)CC(NC(C)=O)C1OC(n2ncc(=O)[nH]c2=O)C(OC(C)=O)C1OC',\n",
       " 'CCCC(CO)CCOCCOC',\n",
       " 'CNS(=O)(=O)c1cccc(CNC(=O)c2ccc(CN3C(=O)CCC3=O)cc2)c1',\n",
       " 'O=C(c1cnc2ccccn2c1=O)N1CC[NH+](Cc2cccc3cccnc23)CC1',\n",
       " 'CCOC(=O)C1CCCN(C(=O)C2CCC(Nc3nccc(-c4c[nH]c5cccc(OCCCS(C)(=O)=O)c45)n3)CC2)C1',\n",
       " 'CCOCCOc1ccccc1C(=O)Nc1ccc(CC)cc1',\n",
       " 'C[NH+](CCNC(=O)CCC1CC[NH2+]CC1)Cc1ccc(F)cc1',\n",
       " '[O-][NH2+]CCCCCCCCCCCCCCCO',\n",
       " 'CCO[Si](CCC1CCC(CCSC(=O)CC)C(CCSC(=O)CC)C1)(OCC)OCC',\n",
       " 'CCC(C)n1ncc2c(C(=O)N3CCCC(COC)(C(=O)[O-])C3)cc(C)nc21',\n",
       " '[NH3+]CC1CCOCCC1c1ccccc1O',\n",
       " 'COc1cccc(Nc2ncnc(Sc3ccc(C)cc3)c2N)c1',\n",
       " 'O=C([O-])C1Cc2cc(I)c(OCc3ccc(Cl)cc3Cl)c(I)c2CN1C(=O)C=Cc1cccc(C(F)(F)F)c1',\n",
       " 'COCCNC(N)=[NH+]CCCc1cc(OC)ccc1OC',\n",
       " 'CCOC(=O)CNC(=O)C(=O)Nc1c2c(nn1-c1cccc(Cl)c1)CS(=O)(=O)C2',\n",
       " 'O=C(NC(Cc1c[nH]c2ccccc12)C(=O)[O-])c1ccc2nc(C3CCCCC3)c(-c3ccc(F)cc3)nc2c1',\n",
       " 'COc1ccc(N(C)c2cc(CCl)cc(C(C)C)n2)cc1',\n",
       " 'CC(C)(C)OC(=O)NCC(=O)Nc1ccc(CNC(=O)c2cccc(F)c2)cc1',\n",
       " 'CC[NH+](CCOC)Cc1cc(C(=O)NN)c(C)o1',\n",
       " 'CC(C)CCC(=O)C1=CN(C(=O)c2ccc(F)c(F)c2)CC2(CCC2)c2c1[nH]c1ncccc21',\n",
       " 'Cc1cccc(CSCC(=O)N(Cc2ccc(Br)cc2)C(Cc2ccccc2)C(=O)NCC(C)C)c1',\n",
       " 'CCCCN(C)c1ccc(C(=O)N(C)Cc2nc(C)c3ccccc3n2)cc1',\n",
       " 'CCC(C)c1ccc(OCCCn2c(CCCCCNC(=O)Cc3ccccc3C)nc3ccccc32)cc1',\n",
       " 'CCOCc1ccc(CNC(NCc2ccc(OC)cc2)=[NH+]C)cc1',\n",
       " 'CCOc1ccc(NC(=O)c2ccccc2OCc2ccncc2)cc1OC',\n",
       " 'O=S1(=O)C[P+]2(CS(=O)(=O)N1)CS(=O)(=O)NS(=O)(=O)C2',\n",
       " 'CC[NH2+]C1CC(Oc2ccc(C(C)(C)C)cc2C)C1',\n",
       " 'COc1ccc2nc(N)n(CCCCOC(C)C)c2c1',\n",
       " 'COc1ccc(C(=O)NC2CCCCC2C)cc1NC(=O)CNC(=O)C1CC[NH+](CC(=O)Nc2cc(C(=O)Nc3ccc(C)c(F)c3)ccc2C)CC1',\n",
       " 'Cc1c[nH+]ccc1NCCC(C)c1ccccc1',\n",
       " 'CC(CCCO)NS(=O)(=O)CCS(C)(=O)=O',\n",
       " 'O=P(Oc1cccc2cccc(O)c12)(c1ccccc1)c1ccccc1',\n",
       " 'CC(CCl)CCCNC(=O)C1Cc2ccccc21',\n",
       " 'CC(=O)N1CCN(c2ncc(C#N)cc2Br)CC1',\n",
       " 'CCc1ccc(-c2cc(NC(=O)C3CCCN(S(=O)(=O)c4cccs4)C3)on2)cc1',\n",
       " 'COc1ccc(NC(=O)CSc2ccccc2C(=O)Nc2nc(C(C)(C)C)cs2)cc1OC',\n",
       " 'CCOC(=O)C(=[NH2+])N=CC([NH3+])=CI',\n",
       " 'CCOC(=O)C(C)(C)NP(=O)(COC(C)Cn1cnc2c(N)ncnc21)NC(=O)c1ccc(C(C)(C)C)cc1',\n",
       " 'CC[NH2+]Cc1sccc1S(=O)(=O)NCC1CCCOC1',\n",
       " 'CC(NC(=O)CC1(O)CCCCC1)C1CCC[NH+](C2CCC2)C1',\n",
       " 'Cc1cc(Br)cc(NCC(=O)NC2CCOCC2)c1',\n",
       " 'CP(=O)(c1cccc(C(=O)[O-])c1)c1cccc(C(=O)[O-])c1',\n",
       " 'COc1cc(C2C3=CCC4C(=O)N(c5ccc(C(=O)c6ccccc6)cc5)C(=O)C4C3CC3=C2C(=O)C=C(Br)C3=O)cc(I)c1O',\n",
       " 'C=CC(C)(C)CC(C)(C)C1COC(CO)C(Oc2cccc(F)c2)C1Oc1cccc(F)c1',\n",
       " 'c1nc(C2CCC2)cc(N2CCN(c3cc4c(nn3)CCC4)CC2)n1',\n",
       " 'CC[Si](CC)(CC)OC(C(C)COCc1ccc(OC)cc1)C(C)C(O)C(C)O',\n",
       " 'Cc1ccc(C(=O)NC2CCCC2[NH3+])cc1[N+](=O)[O-]',\n",
       " 'Nc1cccc2c1CN(c1ccc(F)cc1[N+](=O)[O-])CC2',\n",
       " 'COc1ccc(-n2c(SCC(=O)Nc3ccccc3)nnc2-c2cccnc2)cc1',\n",
       " 'O=C(Cl)Cc1ccc(OC(F)F)cc1',\n",
       " 'Cn1ccnc1C1CN(C(=O)Nc2cc(-c3ccccc3F)on2)CC[NH+]1C',\n",
       " 'Cc1cc(C)cc(S(=O)(=O)Nc2cnc(N3CCCC3)c(C(=O)[O-])c2)c1',\n",
       " 'CC1C[NH2+]CCC1c1ccc(Cl)cc1F',\n",
       " 'CC(=O)c1ccc(NC(=O)NC(CO)C(=O)NCC(=O)NC(=O)c2ccc([NH+]=C(N)N)cc2)cc1',\n",
       " 'CCC(Cl)Cc1ccc(Cl)c(Cl)c1',\n",
       " 'C=CC(=O)OCc1ccc(OC(=O)CCc2ccc(-c3ccc(CC(=O)C(=C)C)cc3)cc2)c(C)c1',\n",
       " 'CCOC(=O)C(C)N1C(=O)CC(=O)NC1=O',\n",
       " 'CC(C)=C1c2ccccc2CCN1C(=O)C(Cl)(Cl)Cl',\n",
       " 'C=CCOC1(C)CCN(c2c(C(OC(C)(C)C)C(=O)[O-])c(C)c(C)c3[nH+]c(-c4cccc(-c5cc(OC(F)(F)F)ccc5OC(C)CC=C)c4)cn23)CC1',\n",
       " 'CCn1cc2c(n1)-c1c(C)c(C(=O)C3C(=O)CCCC3=O)cc(C)c1S(=O)(=O)C2',\n",
       " 'CCOC(=O)c1ncn2c1CN=C(c1cccs1)c1ccccc1-2',\n",
       " 'CC(C)(CCCO)CNC(=O)c1cc2ccc(F)cc2s1',\n",
       " 'BN1CCCC1Cc1cccc(CC)c1',\n",
       " 'O=C(CCCl)NC(=O)N=CC=C1C=CC=CC1',\n",
       " 'Cc1ccc(Br)c(C(=O)NCc2ccc(C(N)=S)cc2)c1',\n",
       " 'Cc1cncc(S(=O)(=O)Cl)c1',\n",
       " 'Nc1[nH]ncc1S(=O)(=O)c1ccc([N+](=O)[O-])cc1',\n",
       " 'CCC(C[NH3+])Oc1ccc(CO)cc1',\n",
       " 'CCNc1cc(Oc2ccc(F)cc2C)nc(C2CC2)n1',\n",
       " 'CC1(C)CCC(n2c(=O)[nH]c3cc(C(=O)[O-])ccc32)C1',\n",
       " 'CN(CCO)C(=S)N1CC[NH+](CCO)CC1',\n",
       " 'CCOc1nc2c(ccc3ccccc32)c2c1C=CC(c1ccccc1)(c1ccccc1)O2',\n",
       " 'C=C1COc2ccc3ccccc3c2C(=O)C1=C([NH2+]C)c1ccccc1',\n",
       " 'O=C(Cn1ccc(C(F)(F)F)n1)N1CC[NH+](C2CCCC2O)CC1',\n",
       " 'Nc1ncc(-c2ccccc2Cl)cc1C=O',\n",
       " 'Cc1ccc(C)c(-c2[nH]c3ccc(OC4CCCCC4)cc3c2CC(=O)[O-])c1',\n",
       " 'COc1c(C)cnc(CC(C)(O)C[NH2+]CC(C)C)c1C',\n",
       " 'CCOC(=O)c1c(NC(=O)COc2ccc(Cl)cc2)sc2c1CC[NH+](CC)C2',\n",
       " 'COc1ccc(Br)cc1NC(=O)CCBr',\n",
       " 'CN(C)c1ccc(C=Nn2c(=O)[nH]c3ccccc3c2=O)c(OCc2ccccc2C#N)c1',\n",
       " 'O=NC=C1CCc2cc(-c3nc(CN4CC[NH2+]CC4)[nH]c3-c3ccncc3)ccc21',\n",
       " 'COc1ccc(C(O)[NH+](C)C)c(C)c1C',\n",
       " 'OC(Cc1ccc(C(F)(F)F)cc1)c1c(F)cccc1Br',\n",
       " 'COc1c(NCCc2nc(C(=O)[O-])cs2)[nH]cnc1=O',\n",
       " 'COc1ccc(NC(C)C(N)=O)cn1',\n",
       " 'CCC(C(=O)NCCC1=CCCCC1)N(c1ccc(F)c(Cl)c1)S(C)(=O)=O',\n",
       " 'Cn1c(N)c(-c2nc3ccccc3c(=O)o2)c(=O)n(C)c1=O',\n",
       " 'FC1CC[NH2+]C2(CCSC2)C1',\n",
       " 'O=C(Cc1ccc(Br)cc1)Nc1ccc(F)c(NC(=O)C2CCCCC2)c1',\n",
       " 'C=CCC(O)(CCl)CCCCl',\n",
       " 'COc1cc(N2C(=O)C(Nc3cccc(C(C)=O)c3)=C(Sc3ccccc3)C2=O)cc(OC)c1OC',\n",
       " 'O=C(NC1C2CC3CC1CC(O)(C3)C2)c1cnn(C2CC2)c1-n1cccn1',\n",
       " 'Cc1nc2c(c(NCc3ccccn3)n1)CCC2',\n",
       " 'Cc1sc(-c2noc(C3CCC3)n2)cc1S(=O)(=O)N1CCCC(C(=O)NC2CCCC2)C1',\n",
       " 'CC=C(C)C=NNC(=O)CCCCCCC(=O)Nc1ccccc1O',\n",
       " 'CCC(Sc1cccc(NC(=O)c2ccccc2C)c1)C(=O)Nc1cc(OC)cc(OC)c1',\n",
       " 'Cc1onc(-c2ccccc2)c1C(=O)NN(C(N)=O)C1CCCCC1',\n",
       " 'CCOc1ccc(NC2CCOC(C)(CC)C2)c(C)c1',\n",
       " 'O=C(Nc1ccc(C2OC(CSCCO)CC(c3ccc(CO)cc3)O2)cc1)c1cccnc1',\n",
       " 'CN(c1nc(C2CC2)c(C[NH2+]C2CC2)s1)C1CCCCC1',\n",
       " 'Cc1sc(C[NH2+]C2C(NC(=O)OC(C)(C)C)C3CCOC32)cc1Br',\n",
       " 'CN(Cc1ccccn1)c1ccc(CCl)c(Cl)c1',\n",
       " 'COC(=O)Cc1ccc(OCc2ccc3ccccc3n2)c(Br)c1',\n",
       " 'CC(C)(C)c1ccccc1OC(=O)COc1ccccc1Br',\n",
       " 'CCS(=O)(=O)C1=NN2C(=[NH2+])C(=Cc3ccc(OCCCOc4cccc(C)c4)c(OC)c3)C(=O)[NH+]=C2S1',\n",
       " 'C[NH2+]C(c1cccc(OC)c1)c1cc2cccc(Cl)c2o1',\n",
       " 'Nc1ccc(SCc2cncc(F)c2)c(F)c1',\n",
       " 'CC(=NNC(=O)Cc1ccc(C)cc1)c1ccc(C)c(C)c1',\n",
       " 'CCOc1cc(-c2ccccc2)sc1C(=O)N1CCN(c2ncccc2C#N)CC1',\n",
       " 'CNC(=O)CN1CCN(c2cccc(Cl)c2)C1=O',\n",
       " 'CCn1cc(C(=O)Nc2cccc(Cl)c2Cl)c(=O)c2cc(C)ccc21',\n",
       " 'C[NH2+]C(C)Cc1csc(CCc2ccccc2)n1',\n",
       " 'CCc1c(C)nc2n(c1=O)C[NH+](C1CCCC1)CN2c1cccc(C)c1C',\n",
       " 'Cc1cc(NC(=O)C(C)NC(=O)C2CC[NH+](C(C)C(=O)Nc3cccc(C(=O)Nc4cc(F)ccc4F)c3C)CC2)ccc1NC(=O)c1cccc(Cl)c1',\n",
       " 'CCCn1ccnc1-c1cccc(NC(=O)C2CCCOC2)c1',\n",
       " 'COc1ccc(CC(=O)NCc2cccnc2-c2ccccc2)cc1',\n",
       " 'Cc1ccccc1-c1noc(C(C)C(C)C(=O)[O-])n1',\n",
       " 'O=C(c1ccccc1)N(NC1CCCCC1O)C(=O)c1ccccc1',\n",
       " 'CCCc1csc(Cc2cccc(F)c2)n1',\n",
       " 'CC(C)CN(CCC(=O)N1CC[NH+](Cc2ccccc2)CC1)C(=O)c1cnccn1',\n",
       " 'C#CC(C)(C)OCCP(C)(=O)OC',\n",
       " 'CC[NH2+]C(Cc1cccnc1)c1ccc(Cl)c(Cl)c1',\n",
       " 'C=Cc1ccc(COc2ccc3c(=O)c(Oc4ccc(C(=O)OCCC)cc4)coc3c2)cc1',\n",
       " 'O=C([O-])C1Cc2cc(Cl)cc(I)c2O1',\n",
       " '[NH3+]CCc1ccnc(C2CC2)n1',\n",
       " 'CCCCC(C)(C)c1[nH+]c(C(C)C(C)C)[nH]c1C(C)C(C)C',\n",
       " 'COc1cc(NC(=O)CCNC(=O)C2CC[NH+](CC(=O)Nc3ccc(Cl)c(C(=O)N4CCOCC4)c3)CC2)ccc1NC(C)=O',\n",
       " 'CC(C)(O)C#Cc1ccc(C=NNc2c(Cl)cc(Cl)cc2Cl)cc1',\n",
       " 'CCOC(c1ccccc1)c1ccccn1',\n",
       " 'CCc1cc(C)ccc1C(=O)NCC(C)C',\n",
       " 'CCCC(NC(=O)c1cc(C)n(-c2ccc(OC)cc2)n1)C(=O)[O-]',\n",
       " 'COC(=O)C(C)NC(=O)C(CCSC)NC(=O)OCc1ccccc1',\n",
       " 'CN(CCC(F)(F)F)c1c(F)cccc1CC[NH3+]',\n",
       " 'Cc1ncc(C[NH+](C)C)c(C2CCC[NH+]2Cc2ccsc2)n1',\n",
       " 'CC(NC(=O)c1ccc(Cl)c(S(=O)(=O)NCc2ccccc2)c1)c1cccs1',\n",
       " 'Cc1ccccc1C(=O)c1cnc(Nc2ccc(CNS(=O)(=O)c3ccc(C(F)(F)F)cc3Cl)cc2)s1',\n",
       " 'CC1C[NH+](CC2(C)CCC[NH2+]C2)CCO1',\n",
       " 'Cn1cnnc1SCCNC(=O)C1CSc2nc(C(C)(C)C)cc(=O)n2C1',\n",
       " 'CCOC(=O)C1CCC(CF)(CF)CC1',\n",
       " 'COc1c(C)cccc1C(=O)Nc1ccccc1-c1nc(-c2ccncc2)no1',\n",
       " 'Cc1ccc(C)c(C(=O)CCC(=O)NC2(C(=O)[O-])CCC2)c1',\n",
       " 'Cc1nc(=O)[nH]c(C)c1CCC(=O)NCC1CC[NH+](C2CC2)CC1',\n",
       " 'OB(O)N1CC[NH2+]CC1Cl',\n",
       " 'CCN(CCc1ccncc1)C(=S)NCCN1C(=O)CSC1=O',\n",
       " 'COc1cccc2cc(-c3cn(-c4ccccc4C)c(=S)[nH]3)c(=O)oc12',\n",
       " 'CCc1nc(C)nc(N2CCN(C(=O)c3ccc([N+](=O)[O-])cc3)CC2)c1Cc1ccc(Cl)cc1',\n",
       " 'COC(=O)Cn1ccc(CC(C)C)c1C1(Nc2ccc(N3CCN(c4cc(C)cc(C)n4)CC3)cc2)CCCCO1',\n",
       " 'Nc1cccc(-n2c(C3CCC[NH2+]3)nc3ccccc32)c1',\n",
       " 'COc1nc(NC(C)CC(C)O)nc(OC)n1',\n",
       " 'CCC(C)c1ccc(OCC[NH2+]C)cc1',\n",
       " 'C=CC1C[N+](Cc2ccccc2)(C(C)CC)CCC1C',\n",
       " 'CC(C)c1ccc(S(=O)(=O)N2CCC(C(=O)OCc3ncc(-c4ccccc4)o3)CC2)cc1',\n",
       " 'CC(=O)OCc1cnccn1',\n",
       " 'Cc1nn(C)cc1C(=O)Nc1cccnc1',\n",
       " 'Cc1[nH]c(-c2ccc(Cl)c(N)c2)c[nH+]1',\n",
       " 'Clc1ccccc1-c1nc(SCc2ccccn2)n[nH]1',\n",
       " 'CC(=NNC(N)=S)c1ccc(-n2cccc2)cc1',\n",
       " 'O=C(NC1CCCC1)c1ccc(CNC(=O)C23CC4CC(CC(C4)C2)C3)cc1',\n",
       " 'O=C(c1ccc(CBr)cc1)C1CC1',\n",
       " 'CC(C)(C)C(=O)C(C#N)=CNc1ccc(Oc2ccccc2)cc1',\n",
       " 'COC(=O)c1ccccc1NC(=O)Cn1nc(-c2ccccc2)c(-c2ccccc2)c(C(=O)OC)c1=O',\n",
       " 'CCCC(=O)c1ccc(SCc2ccc(C(=O)[O-])cc2)cc1',\n",
       " 'Cc1c(O)cccc1C1[NH2+]CCc2ccc(N)cc21',\n",
       " 'Cn1cc(-c2ccc(=O)n(-c3ccccc3)c2)cn1',\n",
       " 'CC1C[NH+](CCN2CCN(C(=O)OC(C)(C)C)C(Cc3ccc(C(F)(F)F)cc3)C2)CC(C)O1',\n",
       " 'O=C([O-])Cc1nnc2c(-c3nc(C4CC4)no3)cccn12',\n",
       " 'O=C(Nc1ccc(F)cc1Br)C1CCC[NH2+]C1',\n",
       " 'C1=NCc2c3c(cn21)OCO3',\n",
       " 'Cc1nccn1CCC(C)[NH2+]CCc1noc(CO)n1',\n",
       " 'CC(=O)N1CCN(c2nnc(C3CC3)n2CC2CCOC2)CC12CCCCC2',\n",
       " 'COc1cc(Nc2nc(NC3CCOCC3)c(C(C)C)nc2C(N)=O)ccc1N1CC[NH2+]CC1',\n",
       " 'CC(C)=CCCC(C)C1CCC(C)=CCC=C(CO)C1CO',\n",
       " 'COC(=O)c1cc([N+](=O)[O-])c(=O)n(Cc2ccc(Cl)nc2)c1',\n",
       " 'CCC(=O)Nc1ccc(OCc2ccccc2N2CCCCC2)cc1C(=O)[O-]',\n",
       " 'Cc1cccc(OCCCCn2c(-c3ccc(Cl)cc3)nc3ccccc32)c1',\n",
       " 'CC([NH3+])(c1cccnc1)c1ccc(Br)cc1Cl',\n",
       " 'Nc1cccc2c(-c3ccc(C(F)(F)F)c(S(N)(=O)=O)c3-c3nn[n-]n3)cc(C(=O)[O-])nc12',\n",
       " 'Oc1ccc(-c2nc3c(F)cccc3n2C2CC2)cc1Cl',\n",
       " 'Cn1nncc1C([NH3+])c1coc(Br)c1',\n",
       " 'Cc1cc(C)cc(C[NH+]2CCN(C(C)(C)C#N)CC2)c1',\n",
       " 'C[NH+]=C(NCc1coc(-c2ccccc2)n1)N1CCN(c2ccccc2F)CC1',\n",
       " 'COc1cccc(C=CC(=O)NCc2ccc(Cn3cnc4ccccc43)cc2)c1OC(F)F',\n",
       " 'C[NH+]=C(NCCCSc1ccc(F)cc1)NCCNC(=O)c1ccco1',\n",
       " 'O=S(=O)(N1CCOCC1)N1SSSSSSS1',\n",
       " 'CCC1(COCCCCCCOCC2(CC)COC3(CC(C)(CC)N([O-])C(C)(CC)C3C)OC2)COC2(CC(C)(CC)N([O-])C(C)(CC)C2C)OC1',\n",
       " 'Clc1ccc(OOc2ccc(Cl)cc2Cl)c(Cl)c1',\n",
       " 'C[NH+]1CCC(C)(C(=O)NCc2ncc(Cl)cn2)CC1',\n",
       " 'CCNc1nc(CSc2cccc(Cl)c2)nc(C)c1Br',\n",
       " 'CC(C)CNC(=O)C(C)N(CCc1ccccc1)C(=O)CN(c1ccc(Oc2ccccc2)cc1)S(=O)(=O)c1ccccc1',\n",
       " 'CC(C)NS(=O)(=O)CCn1c(Cc2cc3c(cc2I)CCC3)nc2c(N)nc(F)nc21',\n",
       " 'O=c1c(=Cc2ccc(-c3ccc(F)cc3)o2)sc2nc3cccnc3n12',\n",
       " 'CCC[NH2+]CCCCS(=O)(=O)N1CCC(C)(CC)CC1',\n",
       " 'Cc1nc(NC(=O)Nc2cccc(OC(C)C3CCC[NH2+]3)n2)cs1',\n",
       " 'O=[N+]([O-])c1ccc(C[n+]2cc(-c3ccc(Cl)cc3)n3c2CCC3)cc1',\n",
       " 'CC(C)(C)OC(=O)N1CCC2(CC1)C[NH2+]C1(CCC1)CO2',\n",
       " 'CC(C(Cc1cc(C(=O)Nc2ccccc2)ccn1)c1ccc2c(c1)OCO2)N(CC=Cc1ccccc1)C(=O)C(O)=C(CC(=O)[O-])C(=O)OC(C)(C)C',\n",
       " 'NC(=[NH+]O)c1cccc(Oc2ccccc2)c1C(N)=[NH+]O',\n",
       " 'O=C(Cl)c1ccc2c(c1)OCOC2',\n",
       " 'CCOC1(O)OCCC1OC',\n",
       " 'Cc1cc(C(=O)N(C)C(C)c2ccc(Cl)cc2Cl)no1',\n",
       " 'Cc1c(C#N)oc2nc(N)ncc12',\n",
       " 'O=c1[nH]c(=O)n(C2CC(O)C(CO)O2)cc1-c1cnnn1-c1c(F)cccc1F',\n",
       " 'Cc1sc(NC2CC2)nc1-c1ccc(F)cc1',\n",
       " 'COC(=O)C(C(=O)OC)C1CCCCC1Br',\n",
       " 'O=S(=O)(c1cccc(F)c1)N(CCc1cccs1)Cc1ccoc1',\n",
       " 'O=C([O-])c1cnc(N2CC3CCCC3C2)c([N+](=O)[O-])c1',\n",
       " 'CC1OCCC1C(Br)c1ccc2c(c1)CC(=O)N2C',\n",
       " 'CCC(C(=O)NC1CCCCC1)N(Cc1ccc(OC)cc1)C(=O)CCCN(c1cccc(C(F)(F)F)c1)S(C)(=O)=O',\n",
       " 'CCC(C)(CNC(=O)C1=NN(C)C(=O)CC1)[NH+]1CCOCC1',\n",
       " 'Cc1nc(C[NH+]2CCN(C(=O)CSc3ccc(Cl)cc3)CC2)cs1',\n",
       " 'Cc1cnc(N2CCC(C)(C(N)=O)C2)c(N)c1',\n",
       " 'CC1(C)c2ccccc2-c2ccc(-c3ccc(-c4cccc5c6ccccc6n(-c6cccc(-c7ccc8c9ccccc9c9ccccc9c8c7)c6)c45)cc3)cc21',\n",
       " 'CSCCC(NC(=O)c1ccc(S(=O)(=O)N(C)C)cc1)C(=O)[O-]',\n",
       " 'CC=CCC(C)CCCCCC',\n",
       " 'CON=C(C(=O)NC1C(=O)N2C(C(=O)[O-])=C(C[N+]34CCC(CC3)C(Cl)C4)CSC12)c1csc(N)n1',\n",
       " 'Nc1ncn2c(N)csc12',\n",
       " 'CCOC(=O)CCC(=O)N(CCCOC)CCOC',\n",
       " 'CC1CN(c2ccc([N+](=O)[O-])c3nonc23)CC(CO)O1',\n",
       " 'CN1C=CN(CC2CCC[NH+]2CC(=O)NCCC(=O)NCCC(=O)NCCCC(=O)[O-])CC1',\n",
       " 'Cn1cc(C2OCCCC2NC(=O)CCNC(=O)C2CCCCC2)cn1',\n",
       " 'CCCCOc1ccc(NCC(=O)Nc2cccc(C(=O)NC)c2)cc1',\n",
       " 'CSc1cc(-c2ccc(-c3cc(OCC(C)C)cc(Br)n3)s2)nc(-c2ccc(-c3cc(SC)cc(-c4ccc(-c5cc(SC)cc(-c6ccc(-c7cc(OCC(C)C)cc(Br)n7)s6)n5)s4)n3)s2)c1',\n",
       " 'COCc1c(C(=O)NC2CCN(c3cc(Cl)ccc3OC)C2)sc2cccc(F)c12',\n",
       " 'O=C(c1ccccc1I)N(Cc1ccoc1)Cc1cccs1',\n",
       " 'CCCCC1CC12CC2CBr',\n",
       " 'CN(CCOc1cccc(Cl)c1)C(=O)Cc1csc(-c2ccccn2)n1',\n",
       " 'CC([NH3+])C(=O)NCc1nncn1C',\n",
       " 'COC(=O)c1ccc(N2C(=O)CC(N(Cc3ccccc3)C(=O)C34CC5CC(CC(C5)C3)C4)C2=O)cc1',\n",
       " 'CC(C)(C)CCNc1ccc(NS(C)(=O)=O)cc1',\n",
       " 'CCc1ccc(NC(=O)c2cnc(NCc3cccc(C)c3)cn2)cc1',\n",
       " 'CCOC(=O)c1cnn(C)c1C[NH2+]CCC(C)(C)C',\n",
       " 'Cn1ncc(NCC2CCC3(CCCCC3)O2)c(Br)c1=O',\n",
       " 'CC(=O)NC(C)c1cc2cc(OCc3ccc(OCCC4CC4)cc3)ccc2o1',\n",
       " 'CCCCCNC(=O)C1CCCN(c2nccnc2Sc2ccc(C)cc2)C1',\n",
       " 'CCCCCCCCCCn1c2cc(F)c(N)cc2c2cc(I)c(F)cc21',\n",
       " 'COc1ccc(NC(=O)Nc2nc3cc(C)c(C)cc3s2)cc1',\n",
       " 'COc1cc(NC(=O)C2CC[NH+](CC(=O)Nc3cccc(C(=O)Nc4cc(F)ccc4F)c3C)CC2)ccc1NC(=O)c1ccccc1F',\n",
       " 'CCC[NH2+]C(COC)CN1CCC2CCCCC2C1',\n",
       " 'CC(=O)OCC(C)n1c(=O)c(-c2ccnn2-c2ccc(C#N)cc2)c(C)n(-c2cccc(C(F)(F)F)c2)c1=O',\n",
       " 'COc1cc(N)cc(C[NH+](C)CC(C)(C)O)c1',\n",
       " 'Cc1cc(C)c(OCCC(C)C)c(S(=O)(=O)Cl)c1',\n",
       " '[NH3+]C1CC=C(Cc2cccc(Cl)c2)CC1',\n",
       " 'CCc1cnc(CNS(=O)(=O)c2ccc(C)cc2N)o1',\n",
       " 'O=C(Nc1cccc(S(=O)(=O)NC2CC2)c1)c1cc(-c2ccco2)nn1-c1ccccc1',\n",
       " 'CCN(CCC#N)c1ncc[nH]c1=O',\n",
       " 'Cc1ccc(SCCC(=O)Nc2ccc(C(N)=O)cc2)cc1',\n",
       " 'Cc1cc(N)c(C)c(S(=O)(=O)NCCSC(F)(F)F)c1C',\n",
       " 'CCCC(=O)OC1(C(=O)COC(C)=O)CCC2C3=C(C(O)CC21C)C1(C)C=CC(=O)C=C1CC3',\n",
       " 'COc1ccc(S(=O)(=O)c2cc(F)ccc2NCC(=O)Nc2ccc(Br)cc2)cc1OC',\n",
       " 'O=C(Nc1ccccc1)N1CC[NH+](CCCc2ccccc2)CC1',\n",
       " 'O=c1c2[nH]c3ccccc3c2nc(SCc2ccc([N+](=O)[O-])cc2)n1-c1ccccc1F',\n",
       " 'COC1(CNS(=O)(=O)c2ccnc(NN)c2)CCC1',\n",
       " 'N#CC(NCC1CC1)c1ccccc1F',\n",
       " 'CC(C)CNC(=O)C(Cc1ccccc1)N(Cc1ccc(Cl)cc1Cl)C(=O)CN(c1ccc(Cl)cc1)S(C)(=O)=O',\n",
       " 'CC[NH2+]CC(C)(O)c1ccc(C)cc1C',\n",
       " 'C[NH+](C)CCCNC1CS(=O)(=O)CC1S(=O)(=O)c1ccc(F)cc1',\n",
       " 'CCC1CCCCN1c1cc(NC2CCCC2)ncn1',\n",
       " 'Fc1ccc(C(F)F)cc1OC(F)F',\n",
       " 'COC(=O)C(N=O)c1cccc2ccccc12',\n",
       " 'CC(Oc1ccc(F)c(Br)c1)c1nc(CCl)cs1',\n",
       " 'Cc1c(I)cc([N+](=O)[O-])cc1C(=O)Nc1cc(F)ccc1O',\n",
       " 'CC(C)C[NH+]1CCOC(CNC(=O)N2CCCC3C(=O)NCC32)C1',\n",
       " '[N-]=[N+]=NC(=O)c1cnc(C=S)c(Cl)c1',\n",
       " 'COC(=O)CCc1cnc(N2CCCC2COCC(=O)Cc2cc(Cl)c(NC(=O)c3cn(C)c4ccccc34)cc2F)s1',\n",
       " 'COCCn1c(-c2ccc(Br)cc2)c[nH+]c1N',\n",
       " 'COc1cc(CC(C)(C)[NH3+])cc(C#N)c1OC',\n",
       " 'CS(=O)(=O)c1ccc(-n2nnnc2CSc2ccccn2)cc1',\n",
       " 'CCOC(=O)C(Cc1cccc(OCC2CO2)c1)OC(C)C',\n",
       " 'O=C(CCSCc1nc2sc3c(c2c(=O)[nH]1)CCC3)N1CCCC(c2nc3ccccc3[nH]2)C1',\n",
       " 'CCCC1N(C(=O)c2cnccc2C(F)(F)F)CCCC1(Oc1csc(C(F)(F)F)c1)C(=O)N1CCN(c2ccccc2OCC(=O)[O-])CC1',\n",
       " 'BrC1CCCC(C2CN3CCCCC3[NH2+]2)C1',\n",
       " 'CC1CCN(c2ccccc2F)C(CCO)C(=O)N1',\n",
       " 'CCCCOc1c(C(N)=S)nc2c(N3CCN(C)C3=O)cc(N3CCOCC3)cn2c1=O',\n",
       " 'O=c1[nH]c(C=Cc2cn(Cc3c(F)cccc3Cl)c3ccccc23)nc([O-])c1[N+](=O)[O-]',\n",
       " 'C#CCOc1ccc(C(C)[NH2+]CC2(O)CCSC2)cc1',\n",
       " 'COc1ccc(N)cc1NC(=O)CCOC(C)CC(C)C',\n",
       " 'CN1CC[NH+](Cc2ccc3c(c2)c(=O)n(C2CCC([NH3+])CC2)c2nc(NCC4CC4)ncc32)CC1',\n",
       " 'COCC[NH2+]CC(=O)N1Cc2[nH]cnc2CC1C(=O)[O-]',\n",
       " 'Cc1ccc(CN2CCN(Cc3ccncc3)C3CS(=O)(=O)CC32)o1',\n",
       " 'CC(C#N)Sc1nnnn1CC[NH3+]',\n",
       " 'O=Cc1ccc(-n2ncc3c2CC[NH2+]C3)cc1',\n",
       " 'COc1ccc(C=C2SC(=S)N(c3cc(C(=O)[O-])ccc3C)C2=O)c(OC)c1',\n",
       " 'C=CCn1nc(C(=O)N2CCCCC2)c2c1CCC([NH+]1CCCCCC1)C2',\n",
       " 'CC(C)c1ccc(C(C)C)c(-c2ccc(C(C)C)c(C(C)C)c2)c1',\n",
       " 'CCc1cccc2c(C=C3SC(=O)N(Cc4ccc(F)cc4)C3=O)cn(Cc3ccc(Cl)cc3Cl)c12',\n",
       " 'Cc1ccc(NC(=O)N2CCN(c3cc4c(cc3F)c(=O)c(C(=O)[O-])cn4C3CC3)CC2)cc1',\n",
       " 'Cc1ccc2c(C[NH+](C)C)coc2c1',\n",
       " 'CCOC(=O)c1cccc(C(=O)c2c(CC)c(Br)c3n2CCC3(C(=O)[O-])C(=O)[O-])c1',\n",
       " 'O=C(Cc1cccc(OC(F)(F)F)c1)Nc1ccc(N2CCC(c3nnc(NC(=O)Cc4ccccc4F)s3)C2)nn1',\n",
       " 'CCn1cc(NCc2ccc(OC)cc2)cn1',\n",
       " 'O=C(COC(=O)c1cc(=O)[nH]c2ccccc12)Nc1c(Cl)cccc1C(F)(F)F',\n",
       " 'O=S(=O)(c1cccs1)N1CC[NH+](C(c2ccccc2)c2ccc(Br)cc2)CC1',\n",
       " 'CC([NH3+])C(=O)NCC(=O)NC(CC(N)=O)C(=O)NC(CCC(=O)[O-])C(=O)[O-]',\n",
       " 'Cc1ccccc1-c1noc(CC2CCCN(C(=O)c3cc(=O)[nH]c4ccccc34)C2)n1',\n",
       " 'CCOc1ccc(OCCC(=O)OCC(=O)c2ccc(NC(=O)C(C)C)cc2)cc1',\n",
       " 'CCOc1ccc(Nc2cnc(C(=O)Nc3ccc(C)cc3)cn2)cc1',\n",
       " 'CCCc1nc(N)c(C)c(NCc2csc(=O)[nH]2)n1',\n",
       " 'CCCc1c(C(=O)Nc2c(CC)cccc2CC)c(OCC(C)C)c(C)c(C)[n+]1[O-]',\n",
       " 'CCn1cc(CNC(=O)CCn2ncc3ccccc32)c(C)n1',\n",
       " 'CCC(=O)Cc1nc(C2CCC(C(C)C)CC2)no1',\n",
       " 'COc1cc(NS(=O)(=O)c2ccc(Br)c(C)c2)c(OC)cc1Cl',\n",
       " 'CCC1=[N+]2CC3C([N+]([O-])=NC4=CC5C[N+]6=CC5C(C4)O6)=CCC(O2)C13',\n",
       " 'Cc1cc(C)n2nc(CC3C(=O)CC(CCc4ccc(C(C)(C)C#N)c(F)c4)(C4CCCC4)OC3=O)nc2n1',\n",
       " 'Cc1ccc(NC(=O)c2ccc(C)c(NC(=O)CCNC(=O)C3CC[NH+](C(C)C(=O)Nc4ccc(Cl)c(C(=O)NCC(C)C)c4)CC3)c2)cc1F',\n",
       " 'CCOOP(=O)(OOCC)c1ccccc1',\n",
       " 'CCCNS(=O)(=O)c1cc(C(=O)Nc2cc(C(F)(F)F)ccc2Cl)ccc1OC',\n",
       " 'CCN1C(=O)c2ccccc2C(C)C1C',\n",
       " 'CC1(C)c2ccccc2Sc2c1ccc1c2-c2ccc(N(c3ccc(-c4ccccc4)cc3)c3ccc4c(c3)C(C)(C)c3ccc5c(c3-4)Sc3ccccc3S5)cc2C1(C)C',\n",
       " 'CC1CCN(c2ccc(C(C)[NH3+])c(Cl)c2)C(C)C1',\n",
       " 'O=C(NC(c1ccccc1)C1CC1)c1ccc(-n2ccnc2)nc1',\n",
       " 'CC(C)(Oc1ccccc1)C(=O)Nc1nccs1',\n",
       " 'COc1ccc(C(=O)N(C)CCCNc2ccccc2)cc1',\n",
       " 'CC(C)Oc1ccc2nc(NCC[NH3+])sc2c1',\n",
       " 'NC(=S)c1cc2ccccc2nc1Oc1ccc(Br)cc1',\n",
       " 'c1ccc2cc(-c3c4ccccc4c(-c4ccc5ccccc5c4)c4cc(-c5ccc6oc7ccccc7c6n5)ccc34)ccc2c1',\n",
       " 'COc1cc(C(CC2=CCCC2)NC(=O)C(F)(F)F)cc(OC)c1OC',\n",
       " 'O=C([O-])Cn1cc(C(=O)Nc2ccc(F)c(Br)c2)nn1',\n",
       " 'OCc1c(-c2ccncc2)n[nH]c1Cc1ccc(F)cc1',\n",
       " 'FC(F)(F)c1cccc(OCc2sccc2Br)c1',\n",
       " 'C[NH+]1CCCC1CCOc1nc(Cl)ncc1N',\n",
       " 'COc1cc(Cl)ccc1C(=O)Nc1ccc(Sc2nncn2C)c(Cl)c1',\n",
       " 'Cc1cc(C=C2NC(=O)N(c3ccccc3)C2=O)c(C)n1-c1ccc(Cl)cc1Cl',\n",
       " 'C=Cc1ccc(O)cc1OCc1cccnc1-c1ccnn1C(C)C',\n",
       " 'CCOc1ccccc1N1CC(C)[NH2+]CCC1C',\n",
       " 'CC1(C)CC(=O)N(C2(C(N)=S)CCCCCCC2)C(=O)C1',\n",
       " 'CCC1CN(C(=O)c2c(C)nsc2NC2CC2)CC1O',\n",
       " 'CNC(=O)c1cn2c(c(OCc3ccccc3)c1=O)C(=O)N(Cc1cccc(Cl)c1)CC2',\n",
       " 'CNS(=O)(=O)c1cc(C(=O)N2CCC(C(=O)c3ccc(C)cc3)CC2)ccc1OC',\n",
       " 'CCCCCCOC(=O)c1ccc(C(=O)[O-])cc1C(=O)OCCCCCC',\n",
       " 'CCC(CC)(Pc1ccc(C)cc1CO)c1cc(OC)ccc1OCOC',\n",
       " 'CCNC(=O)CN(CC)C(=O)CSc1ncnc2sc3c(c12)CCC3',\n",
       " 'O=C(Nc1ccn(C2CC(O)C(COCc3ccccc3)O2)c(=O)n1)c1ccccc1',\n",
       " 'CC1(C)SC(c2nc3cc(Cl)c([O-])c(Cl)c3s2)=NC1C(=O)NCC(=O)ON1C(=O)CCC1=O',\n",
       " 'Cc1c(Cl)cccc1NC(=O)C(C)NC(=O)C1CC[NH+](C(C)C(=O)Nc2cc(C(=O)N3CCCC(C)C3)ccc2Cl)CC1',\n",
       " 'COC(=O)c1ccc(NC(=O)c2cnc(Nc3ccccc3F)nc2)cc1',\n",
       " 'CC(C)([NH3+])CC[NH+]1CCCC2CCCC21',\n",
       " 'C[NH2+]CCCc1cn(-c2cccc(F)c2)nn1',\n",
       " 'CC(CNC(=O)C1CCCC([NH3+])C1)c1nccs1',\n",
       " 'CCCOC(=O)OC1CCCS1(OS(=O)(=O)C(F)(F)F)c1cccc2ccccc12',\n",
       " 'Cc1cccc2c1N1CC[NH+](Cn3c(=O)[nH]c4c(sc5ccncc54)c3=O)CC1CO2',\n",
       " 'CC(C)C(Br)C(=O)NCC1CC[NH+](C(C)C)C1',\n",
       " 'Cn1cc(-c2cccc(C3=[NH+]CC(c4cnn(CC[NH+]5CCCC5)c4)=CN3)c2)cn1',\n",
       " 'Cc1cc(Br)cc(NC(=O)Cc2ccc3[nH]c(=O)c(C)cc3c2)c1',\n",
       " 'CC(=O)C(=O)c1cccc(Cl)c1',\n",
       " 'Cc1ccc2cc(-c3ccc4c5c(cccc35)-c3c-4c(-c4ccccc4)c4ccccc4c3-c3ccccc3)ccc2n1',\n",
       " 'CC1(C[NH3+])CCCOc2ccc(Cl)cc21',\n",
       " 'CC(=O)C(Cc1ccccc1)NC(=O)CSc1nc(C)nc2ccccc12',\n",
       " 'C=C(C=Cc1ccc2ccc(-c3cccc(CO)n3)nc2c1N)c1cccc(CO)n1',\n",
       " 'CCn1cc(CC(C)=O)c2cccc(OC)c21',\n",
       " 'CCC[NH2+]CCC(C)n1nc(C)c(Cl)c1C',\n",
       " 'Cc1cccc(C(=O)N2C3CCC2C(Nc2ccc(C(F)(F)F)cn2)C3)c1-c1ncccn1',\n",
       " 'COc1cccc2c1C(Nc1ccc3cc(NS(=O)(=O)N4CC5CC4CO5)ccc3n1)CC2',\n",
       " 'CC(C)CC(NC(=O)C(C)NC(=O)C(Cc1ccc(O)cc1)NC(=O)C(CO)NC(=O)C(C)NC(=O)C(CC(C)C)NC(=O)C1CCC(=O)N1)C(=O)NC(CCC[NH+]=C(N)N)C(=O)N1CCCC1C(=O)NCC(N)=',\n",
       " 'O=C(NCCCl)Nc1ccnc(Cl)c1',\n",
       " 'N#Cc1ccccc1S(=O)(=O)N(Cc1ccco1)Cc1cccs1',\n",
       " 'CCC(C)Oc1cccc(C(=O)NC(=S)Nc2cccc(C(=O)NC(C)c3ccccc3)c2)c1',\n",
       " 'CC(C)(C)OC(=O)[N-]C(=O)OCc1ccc(C(N)=[NH+]OCc2ccc(F)cc2)cc1',\n",
       " 'O=C(CN(c1ccc(F)c(Cl)c1)S(=O)(=O)c1ccccc1)N1CCc2ccccc21',\n",
       " 'N#Cc1ccc(NC(=O)NCC([NH3+])Cc2cc(F)c(F)cc2F)cc1',\n",
       " 'N#Cc1cc(Br)ccc1NS(=O)(=O)c1ccc(CBr)cc1',\n",
       " 'CCCC(=O)Nc1cncc(-c2ccc3[nH]nc(-c4cc5c(-c6ccc(F)cc6)cncc5[nH]4)c3n2)c1',\n",
       " 'COc1c(N)ncnc1N(C)Cc1cnn(C)c1',\n",
       " 'O=C(Nc1ccnn1CC1CCOC1)c1cccnc1',\n",
       " 'CC[NH2+]Cc1cccc(Br)c1OC1CCC(C)CC1',\n",
       " 'CC1CC(F)(F)CNC1CNc1ncc(C(F)(F)F)cc1F',\n",
       " 'O=c1c2ccccc2nc(-c2cc3cc(Br)ccc3o2)n1N=Cc1cc(Br)c(OCc2ccc(Cl)cc2)c([N+](=O)[O-])c1',\n",
       " 'CC[NH2+]Cc1cccn1CCCSC',\n",
       " 'Cc1ccn2cc(CNC(=O)C(c3ccccc3)c3ccccc3)[nH+]c2c1',\n",
       " 'CCCc1ccc(S(=O)(=O)NCC(c2cccn2C)[NH+](C)C)cc1',\n",
       " 'CC[NH+]1CCCC(O)(c2occc2Br)CC1',\n",
       " 'Nc1cccc(OCCCn2ccc3cc(Cl)ccc3c2=O)c1',\n",
       " 'COC(=O)C(=[NH2+])N1C=CN=CC1OC',\n",
       " 'COc1ccc(C=NNC(=O)c2cc(Br)ccc2NC(=O)c2ccc(C[NH+]3CCC(CO)CC3)cc2)cc1',\n",
       " 'CCCn1ncnc1CC(=O)CC1CCC[NH2+]C1',\n",
       " 'COc1ccc(C)c2sc(N(CC[NH+]3CCOCC3)C(=O)c3cnccn3)nc12',\n",
       " 'CC(C1CCCCC1)N1CCC(=O)NC2(CCCC2)C1=O',\n",
       " 'COc1ccccc1C1C2=C(CCCC2=O)Nc2nc(-c3ccc(Cl)cc3)nn21',\n",
       " 'Cc1ccc2cc(CCNC(=O)C3CCC3)c(=O)[nH]c2c1C',\n",
       " 'c1ccc(-c2cccc(-n3c4ccccc4c4cc(-c5ccc6c(c5)c5ccccc5n6-c5ccc6ccccc6c5-c5nc6ccccc6s5)ccc43)c2)cc1',\n",
       " 'Cc1cc(N)cc(NCCC(=O)N2CCCCC2)c1',\n",
       " 'Cc1ccc2cc(C[NH+]3CCOCC3)c3c(c2c1)COC3',\n",
       " 'CCCO[Si](C)(C)OCC',\n",
       " 'CC(=O)OC(C=CS(=O)(=O)c1ccc(C)cc1)Cc1ccccc1',\n",
       " 'CC1(C)CC(O)CCN(C(=O)NCc2ccccc2)C1',\n",
       " 'CCN(C)C(=O)c1c(Nc2cc(-c3ccc4c(c3)OCO4)[nH]n2)ncnc1Oc1ccc2[nH]c(C)cc2c1F',\n",
       " 'O=C1C[NH+](C2CCOC(c3cccc(C[NH+]4CCN(CC(O)C[NH+]5CCc6ccccc6C5)C(=O)C4C4C[NH+](Cc5ccccn5)CC(=O)N4CC(O)C[NH+]4CCc5ccccc5C4)c3)C2)CCN1CC(O)C[NH+',\n",
       " 'CCC1(CNc2ccccc2S(=O)(=O)NC(C)C)CC1',\n",
       " 'Cc1ccc(N2C(=O)C3Cc4c([nH]c5ccccc45)C(c4ccccc4)N3C2=S)c(C)c1',\n",
       " '[NH3+]Cc1[nH]c(=O)cc(C(F)F)c1C(=O)[O-]',\n",
       " 'O=C(CSc1ccc([N+](=O)[O-])cc1)NCC1CC1',\n",
       " 'CCOC(=O)c1ccc(OCC(O)C[NH+](C)Cc2ccccc2Cl)cc1',\n",
       " 'Nc1nc(=O)c2ncn(C3([NH3+])OC(COP(=O)([O-])OP(=O)([O-])[O-])C(O)C3O)c2[nH]1',\n",
       " 'Cc1ccc2c(=O)c(-c3nc(-c4ccccc4C)no3)cn(CC(=O)NCc3ccc(F)cc3)c2n1',\n",
       " 'CC(=O)Nc1ncc(CCc2ccc(NC(NC(=O)[O-])(N(C(=O)[O-])C(C)(C)C)C(C)(C)C)cc2)s1',\n",
       " 'Cc1cc(C)nc(NC2CCOC2C)n1',\n",
       " 'CCOCCCN1C(=O)C(c2ccc(C)cc2C)=C([NH+]2CCN(c3ccccc3)CC2)C1=O',\n",
       " 'Cc1ccc(O)c2nc(C[NH+]3CCCCC3)cc(=O)n12',\n",
       " 'NC(=O)NCCNc1c(Cl)cccc1[N+](=O)[O-]',\n",
       " 'O=C(NCCC[NH+]1CCN(c2ccccc2)CC1)C1CCCN1C(=O)c1ccccc1',\n",
       " '[NH3+]CCCOC1CCN(c2ncc([N+](=O)[O-])s2)CC1',\n",
       " 'Cc1nc(CN2C(=O)NC(=O)C23CCCC(C)C3)sc1C',\n",
       " 'COC(C)(C)OC1CC(C)(C)C(C=CC(C)=O)=C(C)C1=O',\n",
       " 'C[NH+]=C(NCc1cc(C(C)C)no1)NC1CCCN(c2ccc(C)cc2)C1',\n",
       " 'CC(=O)Oc1ccc(C=O)c(-c2ccc(-c3c(C=O)ccc(OC(C)=O)c3OC(C)=O)cc2)c1OC(C)=O',\n",
       " 'Cc1c(C)n(CCOC2CCCC2)c2ncnc(N)c12',\n",
       " 'COC(=O)C1CC[NH+](Cc2nnc(-c3cccs3)o2)C1',\n",
       " 'CCC1CCCC(C[NH3+])(N(C)Cc2cccc(Br)c2)CC1',\n",
       " 'O=C1CN(C(=O)Cc2cccs2)c2ccccc2N1',\n",
       " 'O=C1CCC(c2ccc(CCC[NH+]3CCN(c4ccccc4)CC3)cc2)N1',\n",
       " 'Cc1ccc(Cl)cc1NC=C(C#N)C(=O)Nc1ccc(N)cc1',\n",
       " 'COCc1cc2ccccc2n1C(C)C',\n",
       " 'Cc1nc2ccccc2nc1CN1CC[NH2+]CC1',\n",
       " 'COC(=O)C1(OCc2ccccc2)OCC23CCCCC2CC(O[Si](C)(C)C(C)(C)C)=CC13',\n",
       " 'Cc1ccc2oc(C([NH3+])c3cc4ccccc4o3)cc2c1',\n",
       " 'CC(=O)CSc1nc(C(C)(C)C)cc(C)c1C#N',\n",
       " 'c1cnc(N2CC[NH+](CCCC[NH2+]C3COc4ccccc4N3)CC2)nc1',\n",
       " 'Cc1ccc(C=CS(=O)(=O)NC(C)(C)CC(C)(C)C)cc1',\n",
       " 'CC[NH2+]C=CC(=S)OCC',\n",
       " 'CC1CC(N2C(=O)CCCC2=O)CC[NH2+]1',\n",
       " '[NH3+]CC1CCC[NH+](CCS)C1',\n",
       " 'CCOC(=O)c1c(N)c(-c2ccccc2)n(COC(CO)CO)c1-c1ccccc1',\n",
       " 'COC(=O)COc1ccc(C(O)(C(=O)OC2CC3C4OC4C(C2)[N+]3(C)C)c2cccs2)cc1',\n",
       " 'COc1cccc2c1NC(=O)CC2C(=O)Nc1ccnn1C1CC[NH+](C)CC1',\n",
       " 'O=C(NN(Cc1ccc(-c2ccccc2)cc1)CC(O)C(=O)[O-])c1cc(C(=O)[O-])n(Cc2c(F)cc(Cl)cc2F)n1',\n",
       " 'CCCc1noc(Cc2ccc(S(C)(=O)=O)cc2)n1',\n",
       " 'O=C(OCc1ccccc1)OC(=O)C1C[NH2+]C1',\n",
       " 'CCOC(=O)c1cc(Cl)c(-c2cc3ccccc3oc2=O)cc1OC',\n",
       " 'Cc1cc(C[NH+](C)C2CCC(=O)N(Cc3cccc(F)c3)CC2)on1',\n",
       " 'CCCCOc1ccc(Br)cc1C(CC(=O)N1C(=O)OCC1c1ccccc1)c1ccccc1',\n",
       " 'CNC(=O)c1ccc(C)c(NC(=O)C2CCCN2C(=O)C2CC[NH+](CC(=O)Nc3ccc(C(=O)N4CCOCC4)cc3C)CC2)c1',\n",
       " 'Nc1ncccc1-c1cncn1-c1cccc(Cl)c1F',\n",
       " 'N#CCC(c1ccccc1)S(=O)(=O)c1ccc(Br)cc1',\n",
       " 'C[NH2+]C(Cn1cccn1)(C(=O)[O-])C1CC1',\n",
       " 'CCc1ccc(OCc2csc(C(=O)Nc3nc(-c4cn(C)nc4C)cs3)c2)cc1',\n",
       " 'Cc1cccc(COC(=O)CCNS(=O)(=O)c2ccc(Br)cc2)c1',\n",
       " 'Cc1c(N)cc(S(=O)(=O)N(CCCO)C2CCC2)cc1F',\n",
       " 'COC(=O)c1c(NC(=S)Nc2cc(OCC(F)(F)C(F)F)cc([N+](=O)[O-])c2)sc2c1CCCC2',\n",
       " 'Cn1nc2n(c1=O)CCC(NC(=O)c1cc(F)ccc1Cl)CC2',\n",
       " 'CC[NH+]=C(NC(C)c1cccc(-n2cccn2)c1)NC1C2CCOC2C12CCC2',\n",
       " 'CC(C)c1cc(C2=CC(c3ccc([N+](=O)[O-])cc3)=NCC[NH2+]2)c(O)c(C(C)C)c1',\n",
       " 'C[NH+]1CCCN(c2cc(N)ccc2C(N)=O)CC1',\n",
       " 'CCCN(CC(=O)Nc1ccccc1C)C(=O)COc1ccc([N+](=O)[O-])cc1',\n",
       " 'CC=CC=C1N(CCCCS(=O)(=O)[O-])c2ccc(S(=O)(=O)[O-])cc2C1(C)C',\n",
       " 'C#CCCOC(=O)C(C)(C)O',\n",
       " 'CC(=O)C(C)=c1ssc(=C(C)C(C)=O)ss1',\n",
       " 'COc1cc(CN(C)C(=O)c2csc(-c3cccc(Cl)c3)n2)ccc1OC(F)F',\n",
       " 'Cc1ccc(F)cc1C([NH3+])C1CCOCC1C',\n",
       " 'Fc1cccc(F)c1Nc1cc(-c2ccccc2)nc(NCc2ccccn2)n1',\n",
       " 'C=CCCc1ccc(C2CCC(c3ccc(C#Cc4ccc(Br)cc4)cc3)CC2)cc1',\n",
       " 'CC1(C(=O)Nc2ccccc2C(=O)[O-])CCC2(C)CCC3(C)C(=C2C1)C=CC1C2(C)CCC(O)CC2CCC13C',\n",
       " 'COc1cc(-c2cc(N)on2)c(O)c(C)c1C',\n",
       " 'CCCCC(C)C(CC)OC(C)=O',\n",
       " 'Cc1csc(NC(=O)N(C)CC(C)C(=O)[O-])n1',\n",
       " 'O=C1C2c3ccccc3CCN2C(=O)CN1CCc1ccccc1',\n",
       " 'COCC(NS(=O)(=O)CC1CCC1)C1CC1',\n",
       " 'CCCCCCCCCCc1ccc(C2CCC(CC)CC2)cc1',\n",
       " 'CSCC(=O)NCc1ccc(Cn2cccn2)cc1',\n",
       " 'CCOC(=O)CCCCCCNC(NCC(c1ccco1)[NH+]1CCCCC1)=[NH+]C',\n",
       " 'CCCOc1ccc(C(F)(F)F)cc1NC(=O)C[NH+]1CCc2sccc2C1',\n",
       " 'CCN(C(=O)c1ccccc1)C1CC[NH+](CCNC(=O)Nc2cc(C)nc(C)c2)CC1',\n",
       " 'CC(C(=O)Nc1ccc(Cl)c(C(=O)N2CCCCC2)c1)[NH+]1CCC(C(=O)N2CCCC2C(=O)Nc2ccc(F)c(NC(=O)C3CCCCC3)c2)CC1',\n",
       " 'OC(CCC1CCCO1)c1cccnc1',\n",
       " 'CCOP(O)(OCC)=C1C=CC(=C[N+]#N)C=C1',\n",
       " 'C[NH+](C)C1(c2cccc(F)c2)CCC2(CC1)CN(c1cnc(C(F)(F)F)nc1N1CCC1)C(=O)N2',\n",
       " 'COc1ccc(C2(CNC(=O)c3ccc4c(c3)CCC4)CC2)cc1F',\n",
       " 'C=CC(C#C[Si](C(C)C)(C(C)C)C(C)C)C=C[Si](CC)(CC)CC',\n",
       " 'Cc1cccc(N2C(=O)c3ccncc3C2=O)c1C(=O)[O-]',\n",
       " 'C[NH+](C)CCCNC(=O)c1cccc(C(=O)NC2CCCC2)c1',\n",
       " 'CC(Br)C(=O)NCc1ccc(OC(F)F)cc1',\n",
       " 'N=c1ccc2c(-c3ccc(C(=O)N4CCC(C(=O)Oc5c(Cl)cc(S(=O)(=O)[O-])cc5Cl)CC4)cc3C(=O)[O-])c3ccc(N)c(S(=O)(=O)[O-])c3oc-2c1S(=O)(=O)[O-]',\n",
       " 'CC1CC2(C(=O)[O-])CCC(C)C(C)(O)C2C2=CCC3C(C)(CCC4C(C)(CO)C(O)CCC43C)C21',\n",
       " 'CS(=O)(=O)N1CCC(C(=O)OCC(=O)N2CCNC2=O)CC1',\n",
       " 'C=C(Cl)CNC(=O)NC1CCCC1(C)C(=O)[O-]',\n",
       " 'Nc1nccc(-n2c(OCCF)nc3ccc(Br)cc32)n1',\n",
       " 'CC(Nc1c(Cl)cc(F)cc1Cl)c1ccccn1',\n",
       " 'CC(=O)Nc1ccc(F)c(NC(=O)C2C(C=C(C)C)C2(C)C)c1',\n",
       " 'CN1C(=O)CC(CF)C1c1ccccc1N',\n",
       " 'O=C(Nc1cccc(Br)c1)c1cnc(NCc2ccccn2)cn1',\n",
       " '[NH3+]C(CCC(=O)OCC(O)CO)C(=O)OCC(O)CO',\n",
       " 'Cc1cccc(Nc2ncc(C(=O)Nc3cc(Cl)ccc3C)cn2)c1',\n",
       " 'Cc1cc(C)c(C2C(=O)CC(CCNC(=O)c3c(Cl)c(C)nn3C)C2=O)c(C)c1',\n",
       " 'NC(=O)c1c(C(=O)[O-])[nH]c2ccccc12',\n",
       " 'CCCOc1ccc(Oc2ccc(S(=O)(=O)c3cc(CC(=O)[O-])cc(OCC4CC4)c3)cc2)cc1',\n",
       " 'Nc1nc(N2CCOCC2)nn1C1=NCCCS1',\n",
       " 'CCc1ccc(C(=O)N2CCOC3(CC[NH+](Cc4cccc(CC[NH2+]CC(O)c5ccc(O)c6[nH]c(=O)ccc56)c4)CC3)C2)s1',\n",
       " 'CCC(C)Oc1cc(C(=O)N2CC(CC)OC3(CCOC3)C2)ccn1',\n",
       " 'O=C(CC1C[NH2+]CCO1)N1CCC2(CCC(=O)N(CCc3ccccc3)C2)CC1',\n",
       " 'O=C(Nc1cnn(Cc2ccccc2)c1)C1CCN(C(=O)C2CC2)CC1',\n",
       " 'CSc1nc(NN)cc(Oc2ccccc2SC)n1',\n",
       " 'CNC(=O)C1c2cc(-c3cccc(C(=O)NCc4ccc(F)cc4)c3)ccc2OC1c1ccc(F)cc1',\n",
       " 'Cc1nc(-c2ccc(NC(=O)CSc3nncn3-c3cccc(Cl)c3)cc2)cs1',\n",
       " 'CCOC(=O)c1cccc(Nc2ncnc(N3CCN(c4ccc(OC)cc4)CC3)c2N)c1',\n",
       " 'Cc1cc(N=[N+]=[N-])c(OCCOCCO)cc1OCCOCCO',\n",
       " 'O=C(COc1ccc(C2=NNC(=O)NC2)cc1Cl)NC(Cc1ccccc1)C(=O)[O-]',\n",
       " 'CC(C)C(C)S(=O)CCC(=O)Nc1cccc(N)c1',\n",
       " 'CC(C#N)(C(=O)[O-])c1cc[nH]c1',\n",
       " 'COC(=O)C(O)c1cc2c(c(C)c1Br)OCCO2',\n",
       " 'C[NH2+]C(Cc1ccc(Cl)cc1F)C1(C)CCCCO1',\n",
       " 'CCCc1cc(N2CCC(n3cnc4c(C(C)C)cccc43)CC2)ncn1',\n",
       " 'C[NH+]1CCCC1Nc1nc(NCC2CCCCC2)nc(Nc2ccc(O)c(F)c2)n1',\n",
       " 'Cc1c(NC(=O)C[NH+]2CCC(C(=O)NCC(=O)Nc3cc(C(=O)Nc4ccccc4)ccc3Cl)CC2)cccc1C(=O)N1CCC(C)CC1',\n",
       " 'COc1ccccc1-c1ccc(N2CC[NH+](C)CC2)c(C=CC(=O)c2ccc(O)c(F)c2)c1',\n",
       " 'COCCn1c(SC(C)c2nc(C)no2)nnc1-c1ccncc1',\n",
       " 'Nc1ccc(-c2[nH]c(-c3c(F)cccc3F)nc2-c2ccccc2)nc1N',\n",
       " 'O=C(Nc1c(Cl)cccc1Cl)C1CC(=O)N(c2ccccc2)C1',\n",
       " 'CC(=O)N1N=C(c2cccnc2)OC1c1ccccc1[N+](=O)[O-]',\n",
       " 'CN(C)S(=O)(=O)c1cccc(C(=O)NC2CCC(c3ccccc3)CC2)c1',\n",
       " 'CSCCC(NC(=O)c1ccccc1Cl)C(=O)Nc1cccc(-c2nc3ccccc3[nH]2)c1',\n",
       " 'Fc1ccc(C(F)(F)F)cc1-n1cc(-c2ccncn2)cn1',\n",
       " 'CCN(CC(=O)Nc1ccccc1C(F)(F)F)C(=O)Cc1cccc2ccccc12',\n",
       " 'COC(C)c1cccnc1C1=CC2=CC3=NC(=CC4=NC(=CC5=NC(=CC1=N2)C=C5)C=C4)C=C3',\n",
       " 'O=C([O-])C1(c2ccccc2O)[NH2+]C=CO1',\n",
       " 'O=C(NCc1cc(C(=O)c2cc3c(c(Cl)c2Cl)OC(CO)C3)ccc1O)OCc1ccccc1',\n",
       " 'N#Cc1cccnc1NC1COCC1n1nc(-n2cccn2)ccc1=O',\n",
       " 'Cc1ccc(-c2nsc(CC[NH3+])n2)cc1C',\n",
       " 'CC(NC(=O)C1CC[NH+](C(C)C(=O)Nc2ccc(Cl)c(C(=O)Nc3ccccc3)c2)CC1)C(=O)Nc1cc(C(=O)N2CCCCC2)ccc1Cl',\n",
       " 'Cc1nnc2ccc(-c3ccc(NC(=O)CCC(=O)c4ccccc4)cc3)nn12',\n",
       " 'COC(CNC(=O)c1ccc(Cl)cc1Cl)OC',\n",
       " 'C[NH2+]CCCN(C)C(=O)c1cc(Cl)nc(C(C)(C)C)c1',\n",
       " 'Cc1ccc(C=C2C(=[NH2+])N3N=CSC3=[NH+]C2=O)o1',\n",
       " 'C[NH2+]C(c1cc(Cl)ccc1I)C(C)C',\n",
       " 'Cc1cc(C(=O)NCCC[NH+]2CCN(c3ccccc3F)CC2)on1',\n",
       " 'COC1(C[NH2+]C2CNC2)CCOC1',\n",
       " 'CCOc1ccccc1-c1nnc(SCC(=O)NCc2cccs2)o1',\n",
       " 'COC(=O)NC1CC[NH+](Cc2cc(Cl)cc(Cl)c2O)C1',\n",
       " 'CC(C)n1ccc(C(=O)Nc2ccn(C(C)(C)C(=O)[O-])n2)n1',\n",
       " 'C(=C1NSNS1)c1ccccc1',\n",
       " 'CC1=Nc2ccccc2NC(c2ccccc2C(F)(F)F)C1C(=O)[O-]',\n",
       " 'CC1(C)C2CCC(C2)C1([NH3+])CC(=O)[O-]',\n",
       " 'CC(C)c1ccc(C([NH3+])c2cc(Br)ccc2Br)cc1',\n",
       " 'CCOc1ccc(SCC(=O)Nc2ccc(OC)cc2)cc1',\n",
       " 'CC(C)(C)C(=O)Nc1cncc(-c2cnc3n[nH]c(-c4nc5nccc(-c6ccccn6)c5[nH]4)c3c2F)c1',\n",
       " 'CCC[NH2+]C1CC(C)CC(C)C1N(CCOC)CC(C)C',\n",
       " 'CCN(Cc1ccc(Cl)c(Cl)c1)C(=O)c1ccc(Br)o1',\n",
       " 'CCN(CC)S(=O)(=O)c1ccc(Cl)c(NC(=O)C2CCC2)c1',\n",
       " 'COCCC(C)(C)C[NH2+]Cc1nnc(C)o1',\n",
       " 'CC1CCC(N(C)C(=O)Cn2cnc3c2c(=O)n(C)c(=O)n3C)CC1',\n",
       " 'CC(C)N(CCCO)C(=O)C=Cc1ccc(F)cc1',\n",
       " 'O=C(NC(NC1CCCC1)=[NH+]C1CC(c2ccc(Cl)cc2)NN1)c1ccc(Cl)c(F)c1',\n",
       " 'CCC1CN(C(=O)c2cncs2)CCC1[NH3+]',\n",
       " 'Cc1cc(C)c(NC=C(C#N)c2nc(-c3cc4cc([N+](=O)[O-])ccc4oc3=O)cs2)c(C)c1',\n",
       " 'Cc1ccsc1CCC(=O)NCc1cncc(-c2ccco2)c1',\n",
       " 'CCOc1cccnc1N(C)CC(C)Cl',\n",
       " 'Nc1cc(F)cc(S(=O)(=O)CC(=O)N2CCCCC2)c1',\n",
       " 'CCc1ccc(C(NN)c2ccsc2C)s1',\n",
       " 'CCN(C(=O)Cn1cc2c(c1)C([NH2+]C)CCCC2)C1CC1',\n",
       " 'CCn1cc(C[NH+]2CCCC3(CCC(=O)N(CCC(C)C)C3)C2)cn1',\n",
       " 'O=C(NCc1cccc(Cl)c1)c1noc2c1CCCC2',\n",
       " 'CC(C)c1cc(CCCCCCCCCc2cc(C(C)C)c(O)c(C(C)(C)C)c2)cc(C(C)(C)C)c1O',\n",
       " 'CC1(C)OB(c2ccc(F)c(NC(=O)c3cc4c(s3)C3CCC4C3)c2)OC1(C)C',\n",
       " 'COc1ccc2c(c1)c(=O)c(S(=O)(=O)c1ccc(F)cc1)cn2CC(=O)Nc1cccc(C)c1',\n",
       " 'COc1ccc(NC(=O)c2ccco2)cc1OCC[NH+](C(C)C)C(C)C',\n",
       " 'Cc1ncnc(NCCOc2ccccc2Cl)c1C',\n",
       " '[NH3+]C(CSc1ncccn1)c1ccc(F)c(F)c1',\n",
       " 'CC(C)Oc1cccc2[nH]cc(C(=O)C3CCCCC3)c12',\n",
       " 'COc1cccc2c1C([NH3+])(C(=O)[O-])CC(C)(C)O2',\n",
       " 'CN(Cc1ccsc1)C(=O)C1(C(F)(F)F)CCNC1',\n",
       " ...]"
      ]
     },
     "execution_count": 152,
     "metadata": {},
     "output_type": "execute_result"
    }
   ],
   "source": [
    "smile_less_120_list"
   ]
  },
  {
   "cell_type": "markdown",
   "metadata": {},
   "source": [
    "# PubChem < 140"
   ]
  },
  {
   "cell_type": "code",
   "execution_count": 7,
   "metadata": {},
   "outputs": [],
   "source": [
    "path_zinc = '/nfs/turbo/umms-welchjd/hengshi/perturb_gan/data/smiles/pubchem'\n",
    "zinc_name = 'pubchem_canon.csv'\n",
    "\n",
    "# Canonization\n",
    "pubchem_data = pd.read_csv(os.path.join(path_zinc, zinc_name))\n",
    "key_use = list(CHAR_INDICES.keys())\n",
    "\n",
    "smiles_list = list(pubchem_data.iloc[:, 1])"
   ]
  },
  {
   "cell_type": "code",
   "execution_count": 8,
   "metadata": {},
   "outputs": [],
   "source": [
    "charset_list = []\n",
    "len_list = []\n",
    "smaller = []\n",
    "for i in smiles_list:\n",
    "    if len(i) < 140:\n",
    "        smaller.append(i)\n",
    "        for j in i:\n",
    "            if j not in charset_list:\n",
    "                charset_list.append(j)\n",
    "        len_list.append(len(i))\n",
    "max_len = max(len_list)"
   ]
  },
  {
   "cell_type": "code",
   "execution_count": 9,
   "metadata": {},
   "outputs": [
    {
     "ename": "NameError",
     "evalue": "name 'charset_188_list' is not defined",
     "output_type": "error",
     "traceback": [
      "\u001b[0;31m---------------------------------------------------------------------------\u001b[0m",
      "\u001b[0;31mNameError\u001b[0m                                 Traceback (most recent call last)",
      "\u001b[0;32m<ipython-input-9-c02a289cb0bb>\u001b[0m in \u001b[0;36m<module>\u001b[0;34m\u001b[0m\n\u001b[0;32m----> 1\u001b[0;31m \u001b[0mlist\u001b[0m\u001b[0;34m(\u001b[0m\u001b[0mset\u001b[0m\u001b[0;34m(\u001b[0m\u001b[0mcharset_list\u001b[0m\u001b[0;34m)\u001b[0m \u001b[0;34m-\u001b[0m \u001b[0mset\u001b[0m\u001b[0;34m(\u001b[0m\u001b[0mcharset_188_list\u001b[0m\u001b[0;34m)\u001b[0m\u001b[0;34m)\u001b[0m\u001b[0;34m\u001b[0m\u001b[0;34m\u001b[0m\u001b[0m\n\u001b[0m",
      "\u001b[0;31mNameError\u001b[0m: name 'charset_188_list' is not defined"
     ]
    }
   ],
   "source": [
    "list(set(charset_list) - set(charset_188_list))"
   ]
  },
  {
   "cell_type": "code",
   "execution_count": null,
   "metadata": {},
   "outputs": [],
   "source": [
    "list(set(charset_list) - set(charset_lincs_list))"
   ]
  },
  {
   "cell_type": "code",
   "execution_count": 125,
   "metadata": {},
   "outputs": [],
   "source": [
    "specialLincsList = list(set(charset_lincs_list) - set(charset_list))"
   ]
  },
  {
   "cell_type": "code",
   "execution_count": 127,
   "metadata": {},
   "outputs": [],
   "source": [
    "# shorter than MAX_LEN\n",
    "smiles_list_trans = []\n",
    "for t in specialLincsList:\n",
    "    a = 0\n",
    "    for i in smiles_linc_list:\n",
    "        if (t in i) & (len(i) <= MAX_LEN):\n",
    "            a += 1\n",
    "    smiles_list_trans.append(a)\n"
   ]
  },
  {
   "cell_type": "code",
   "execution_count": 128,
   "metadata": {},
   "outputs": [
    {
     "data": {
      "text/html": [
       "<div>\n",
       "<style scoped>\n",
       "    .dataframe tbody tr th:only-of-type {\n",
       "        vertical-align: middle;\n",
       "    }\n",
       "\n",
       "    .dataframe tbody tr th {\n",
       "        vertical-align: top;\n",
       "    }\n",
       "\n",
       "    .dataframe thead th {\n",
       "        text-align: right;\n",
       "    }\n",
       "</style>\n",
       "<table border=\"1\" class=\"dataframe\">\n",
       "  <thead>\n",
       "    <tr style=\"text-align: right;\">\n",
       "      <th></th>\n",
       "      <th>Token</th>\n",
       "      <th>Number</th>\n",
       "    </tr>\n",
       "  </thead>\n",
       "  <tbody>\n",
       "    <tr>\n",
       "      <th>0</th>\n",
       "      <td>.</td>\n",
       "      <td>33</td>\n",
       "    </tr>\n",
       "    <tr>\n",
       "      <th>1</th>\n",
       "      <td>@</td>\n",
       "      <td>15617</td>\n",
       "    </tr>\n",
       "    <tr>\n",
       "      <th>2</th>\n",
       "      <td>\\</td>\n",
       "      <td>214</td>\n",
       "    </tr>\n",
       "    <tr>\n",
       "      <th>3</th>\n",
       "      <td>/</td>\n",
       "      <td>1075</td>\n",
       "    </tr>\n",
       "  </tbody>\n",
       "</table>\n",
       "</div>"
      ],
      "text/plain": [
       "  Token  Number\n",
       "0     .      33\n",
       "1     @   15617\n",
       "2     \\     214\n",
       "3     /    1075"
      ]
     },
     "execution_count": 128,
     "metadata": {},
     "output_type": "execute_result"
    }
   ],
   "source": [
    "pd.DataFrame({'Token': specialLincsList, 'Number': smiles_list_trans})"
   ]
  },
  {
   "cell_type": "code",
   "execution_count": null,
   "metadata": {},
   "outputs": [],
   "source": []
  },
  {
   "cell_type": "code",
   "execution_count": 68,
   "metadata": {},
   "outputs": [
    {
     "data": {
      "text/plain": [
       "['g',\n",
       " 'y',\n",
       " 'i',\n",
       " 'e',\n",
       " 'D',\n",
       " 'b',\n",
       " 'h',\n",
       " '%',\n",
       " 'u',\n",
       " 'p',\n",
       " 'Z',\n",
       " 'a',\n",
       " 'E',\n",
       " 'Y',\n",
       " 'd',\n",
       " 'f',\n",
       " 'W',\n",
       " '0',\n",
       " 'M',\n",
       " 'R',\n",
       " 'X',\n",
       " 'U',\n",
       " 'A',\n",
       " '9',\n",
       " 'V',\n",
       " 't',\n",
       " 'm',\n",
       " 'K',\n",
       " 'G',\n",
       " 'L',\n",
       " 'T']"
      ]
     },
     "execution_count": 68,
     "metadata": {},
     "output_type": "execute_result"
    }
   ],
   "source": [
    "list(set(charset_list) - set(key_use))"
   ]
  },
  {
   "cell_type": "code",
   "execution_count": 78,
   "metadata": {},
   "outputs": [],
   "source": [
    "list_token_188 = list(set(charset_188_list) - set(charset_list))"
   ]
  },
  {
   "cell_type": "code",
   "execution_count": 77,
   "metadata": {},
   "outputs": [
    {
     "data": {
      "text/plain": [
       "['@', ' ', '\\\\', '/']"
      ]
     },
     "execution_count": 77,
     "metadata": {},
     "output_type": "execute_result"
    }
   ],
   "source": [
    "list(set(key_use) - set(charset_list))"
   ]
  },
  {
   "cell_type": "code",
   "execution_count": 85,
   "metadata": {},
   "outputs": [
    {
     "data": {
      "text/plain": [
       "['*', '.', 'a']"
      ]
     },
     "execution_count": 85,
     "metadata": {},
     "output_type": "execute_result"
    }
   ],
   "source": [
    "list_token_188 = list(set(charset_188_list) - set(key_use))\n",
    "list_token_188 "
   ]
  },
  {
   "cell_type": "code",
   "execution_count": 86,
   "metadata": {},
   "outputs": [],
   "source": [
    "num_list = []\n",
    "\n",
    "for t in list_token_188:\n",
    "    a = 0\n",
    "    for i in chem_188:\n",
    "        if t in i:\n",
    "            a += 1\n",
    "    num_list.append(a)\n"
   ]
  },
  {
   "cell_type": "code",
   "execution_count": 87,
   "metadata": {},
   "outputs": [
    {
     "data": {
      "text/html": [
       "<div>\n",
       "<style scoped>\n",
       "    .dataframe tbody tr th:only-of-type {\n",
       "        vertical-align: middle;\n",
       "    }\n",
       "\n",
       "    .dataframe tbody tr th {\n",
       "        vertical-align: top;\n",
       "    }\n",
       "\n",
       "    .dataframe thead th {\n",
       "        text-align: right;\n",
       "    }\n",
       "</style>\n",
       "<table border=\"1\" class=\"dataframe\">\n",
       "  <thead>\n",
       "    <tr style=\"text-align: right;\">\n",
       "      <th></th>\n",
       "      <th>Token</th>\n",
       "      <th>Number</th>\n",
       "    </tr>\n",
       "  </thead>\n",
       "  <tbody>\n",
       "    <tr>\n",
       "      <th>0</th>\n",
       "      <td>*</td>\n",
       "      <td>1</td>\n",
       "    </tr>\n",
       "    <tr>\n",
       "      <th>1</th>\n",
       "      <td>.</td>\n",
       "      <td>29</td>\n",
       "    </tr>\n",
       "    <tr>\n",
       "      <th>2</th>\n",
       "      <td>a</td>\n",
       "      <td>6</td>\n",
       "    </tr>\n",
       "  </tbody>\n",
       "</table>\n",
       "</div>"
      ],
      "text/plain": [
       "  Token  Number\n",
       "0     *       1\n",
       "1     .      29\n",
       "2     a       6"
      ]
     },
     "execution_count": 87,
     "metadata": {},
     "output_type": "execute_result"
    }
   ],
   "source": [
    "pd.DataFrame({'Token': list_token_188, 'Number': num_list})"
   ]
  },
  {
   "cell_type": "code",
   "execution_count": 84,
   "metadata": {},
   "outputs": [
    {
     "data": {
      "text/plain": [
       "[1, 29, 6]"
      ]
     },
     "execution_count": 84,
     "metadata": {},
     "output_type": "execute_result"
    }
   ],
   "source": [
    "num_list"
   ]
  },
  {
   "cell_type": "code",
   "execution_count": 88,
   "metadata": {},
   "outputs": [
    {
     "data": {
      "text/plain": [
       "['g',\n",
       " 'y',\n",
       " 'i',\n",
       " 'e',\n",
       " '7',\n",
       " 'D',\n",
       " 'b',\n",
       " 'h',\n",
       " '6',\n",
       " '%',\n",
       " 'u',\n",
       " 'p',\n",
       " 'Z',\n",
       " '8',\n",
       " 'E',\n",
       " 'Y',\n",
       " 'd',\n",
       " 'f',\n",
       " 'W',\n",
       " '0',\n",
       " 'R',\n",
       " 'M',\n",
       " 'X',\n",
       " 'U',\n",
       " 'A',\n",
       " '9',\n",
       " 'V',\n",
       " 't',\n",
       " 'm',\n",
       " 'K',\n",
       " 'G',\n",
       " 'L',\n",
       " 'T']"
      ]
     },
     "execution_count": 88,
     "metadata": {},
     "output_type": "execute_result"
    }
   ],
   "source": [
    "list(set(charset_list) - set(charset_188_list))"
   ]
  },
  {
   "cell_type": "markdown",
   "metadata": {},
   "source": [
    "# Analysis on 4 SMILE datasets"
   ]
  },
  {
   "cell_type": "code",
   "execution_count": 8,
   "metadata": {},
   "outputs": [],
   "source": [
    "# ZINC data\n",
    "char_zinc = yaml.safe_load(open(\"../models/zinc/zinc.json\"))\n",
    "zinc_data = pd.read_csv('../250k_rndm_zinc_drugs_clean_3.csv')\n",
    "smiles_zinc_list = list(zinc_data['smiles'])\n",
    "\n",
    "charset_zinc = []\n",
    "len_zinc = []\n",
    "for i in smiles_zinc_list:\n",
    "    for j in i:\n",
    "        if j not in charset_zinc:\n",
    "            charset_zinc.append(j)\n",
    "    len_zinc.append(len(i))\n",
    "max_len = max(len_zinc)"
   ]
  },
  {
   "cell_type": "code",
   "execution_count": 9,
   "metadata": {},
   "outputs": [
    {
     "data": {
      "text/plain": [
       "110"
      ]
     },
     "execution_count": 9,
     "metadata": {},
     "output_type": "execute_result"
    }
   ],
   "source": [
    "max_len"
   ]
  },
  {
   "cell_type": "code",
   "execution_count": 10,
   "metadata": {},
   "outputs": [
    {
     "data": {
      "text/plain": [
       "['\\n']"
      ]
     },
     "execution_count": 10,
     "metadata": {},
     "output_type": "execute_result"
    }
   ],
   "source": [
    "list(set(charset_zinc) - set(char_zinc))"
   ]
  },
  {
   "cell_type": "code",
   "execution_count": 11,
   "metadata": {},
   "outputs": [
    {
     "data": {
      "text/plain": [
       "[' ']"
      ]
     },
     "execution_count": 11,
     "metadata": {},
     "output_type": "execute_result"
    }
   ],
   "source": [
    "list(set(char_zinc) - set(charset_zinc) )"
   ]
  },
  {
   "cell_type": "code",
   "execution_count": 12,
   "metadata": {},
   "outputs": [],
   "source": [
    "# 188 data\n",
    "path_data = '/nfs/turbo/umms-welchjd/hengshi/GAN/data/sciPlex/sciPlex3/'\n",
    "data_188 = pd.read_csv(os.path.join(path_data, 'emb_named_chemvae_canonize.csv'))\n",
    "smiles_188_list = list(data_188['Structure_Canonize'])\n",
    "\n",
    "\n",
    "charset_188 = []\n",
    "len_188 = []\n",
    "for i in smiles_188_list:\n",
    "    for j in i:\n",
    "        if j not in charset_188:\n",
    "            charset_188.append(j)\n",
    "    len_188.append(len(i))\n",
    "max_188 = max(len_188)"
   ]
  },
  {
   "cell_type": "code",
   "execution_count": 13,
   "metadata": {},
   "outputs": [
    {
     "data": {
      "text/plain": [
       "139"
      ]
     },
     "execution_count": 13,
     "metadata": {},
     "output_type": "execute_result"
    }
   ],
   "source": [
    "max_188"
   ]
  },
  {
   "cell_type": "code",
   "execution_count": 14,
   "metadata": {},
   "outputs": [
    {
     "data": {
      "text/plain": [
       "['*', '.', 'a']"
      ]
     },
     "execution_count": 14,
     "metadata": {},
     "output_type": "execute_result"
    }
   ],
   "source": [
    "list(set(charset_188) - set(char_zinc))"
   ]
  },
  {
   "cell_type": "code",
   "execution_count": 15,
   "metadata": {},
   "outputs": [
    {
     "data": {
      "text/plain": [
       "['7', ' ', '8', '6']"
      ]
     },
     "execution_count": 15,
     "metadata": {},
     "output_type": "execute_result"
    }
   ],
   "source": [
    "list(set(char_zinc) - set(charset_188))"
   ]
  },
  {
   "cell_type": "code",
   "execution_count": 16,
   "metadata": {},
   "outputs": [],
   "source": [
    "lincs_data = pd.read_csv('/nfs/turbo/umms-welchjd/hengshi/perturb_gan/data/LINCS/oneHot/GSE92742_Broad_LINCS_Level3_INF_mlr12k_n1319138x12328_processed_UniqueCanonicalSmiles.csv')\n",
    "smiles_lincs_originList = list(lincs_data.iloc[:, 1])\n",
    "\n",
    "# canonize\n",
    "smiles_lincs_list = []\n",
    "change_lincs_list = []\n",
    "for i in range(len(smiles_lincs_originList)):\n",
    "    \n",
    "    if smiles_lincs_originList[i] != 'restricted':\n",
    "        smile = mu.canon_smiles(smiles_lincs_originList[i])\n",
    "        if smiles_lincs_originList[i] != smile:\n",
    "            change_lincs_list.append(i)\n",
    "        smiles_lincs_list.append(smile)"
   ]
  },
  {
   "cell_type": "code",
   "execution_count": 56,
   "metadata": {},
   "outputs": [
    {
     "data": {
      "text/html": [
       "<div>\n",
       "<style scoped>\n",
       "    .dataframe tbody tr th:only-of-type {\n",
       "        vertical-align: middle;\n",
       "    }\n",
       "\n",
       "    .dataframe tbody tr th {\n",
       "        vertical-align: top;\n",
       "    }\n",
       "\n",
       "    .dataframe thead th {\n",
       "        text-align: right;\n",
       "    }\n",
       "</style>\n",
       "<table border=\"1\" class=\"dataframe\">\n",
       "  <thead>\n",
       "    <tr style=\"text-align: right;\">\n",
       "      <th></th>\n",
       "      <th>Unnamed: 0</th>\n",
       "      <th>0</th>\n",
       "    </tr>\n",
       "  </thead>\n",
       "  <tbody>\n",
       "    <tr>\n",
       "      <th>0</th>\n",
       "      <td>0</td>\n",
       "      <td>CCCN1CCCC2Cc3n[nH]cc3CC21</td>\n",
       "    </tr>\n",
       "    <tr>\n",
       "      <th>1</th>\n",
       "      <td>1</td>\n",
       "      <td>O=C1CC(Oc2ccccc12)c3ccccc3</td>\n",
       "    </tr>\n",
       "    <tr>\n",
       "      <th>2</th>\n",
       "      <td>2</td>\n",
       "      <td>C[C@@H]1O[C@@H](OC[C@H]2O[C@@H](Oc3c(oc4cc(O)c...</td>\n",
       "    </tr>\n",
       "    <tr>\n",
       "      <th>3</th>\n",
       "      <td>3</td>\n",
       "      <td>N(Cc1ccccc1)c1ncnc2nc[nH]c12</td>\n",
       "    </tr>\n",
       "    <tr>\n",
       "      <th>4</th>\n",
       "      <td>4</td>\n",
       "      <td>C[C@@H](NC(=O)/C(=C/c1ccc(O)c(O)c1)/C#N)c2ccccc2</td>\n",
       "    </tr>\n",
       "  </tbody>\n",
       "</table>\n",
       "</div>"
      ],
      "text/plain": [
       "   Unnamed: 0                                                  0\n",
       "0           0                          CCCN1CCCC2Cc3n[nH]cc3CC21\n",
       "1           1                         O=C1CC(Oc2ccccc12)c3ccccc3\n",
       "2           2  C[C@@H]1O[C@@H](OC[C@H]2O[C@@H](Oc3c(oc4cc(O)c...\n",
       "3           3                       N(Cc1ccccc1)c1ncnc2nc[nH]c12\n",
       "4           4   C[C@@H](NC(=O)/C(=C/c1ccc(O)c(O)c1)/C#N)c2ccccc2"
      ]
     },
     "execution_count": 56,
     "metadata": {},
     "output_type": "execute_result"
    }
   ],
   "source": [
    "lincs_data.head()"
   ]
  },
  {
   "cell_type": "code",
   "execution_count": 17,
   "metadata": {},
   "outputs": [
    {
     "data": {
      "text/plain": [
       "(17939, 20330, 20329)"
      ]
     },
     "execution_count": 17,
     "metadata": {},
     "output_type": "execute_result"
    }
   ],
   "source": [
    "len(change_lincs_list), len(smiles_lincs_originList), len(smiles_lincs_list)"
   ]
  },
  {
   "cell_type": "code",
   "execution_count": 18,
   "metadata": {},
   "outputs": [
    {
     "data": {
      "text/plain": [
       "461"
      ]
     },
     "execution_count": 18,
     "metadata": {},
     "output_type": "execute_result"
    }
   ],
   "source": [
    "charset_lincs = []\n",
    "len_lincs = []\n",
    "for i in smiles_lincs_list:\n",
    "    for j in i:\n",
    "        if j not in charset_lincs:\n",
    "            charset_lincs.append(j)\n",
    "    len_lincs.append(len(i))\n",
    "max_lincs = max(len_lincs)\n",
    "max_lincs"
   ]
  },
  {
   "cell_type": "code",
   "execution_count": 19,
   "metadata": {},
   "outputs": [
    {
     "data": {
      "text/plain": [
       "20329"
      ]
     },
     "execution_count": 19,
     "metadata": {},
     "output_type": "execute_result"
    }
   ],
   "source": [
    "len(len_lincs)"
   ]
  },
  {
   "cell_type": "code",
   "execution_count": 20,
   "metadata": {},
   "outputs": [
    {
     "data": {
      "text/plain": [
       "140"
      ]
     },
     "execution_count": 20,
     "metadata": {},
     "output_type": "execute_result"
    }
   ],
   "source": [
    "charset_140_lincs = []\n",
    "len_140_lincs = []\n",
    "for i in smiles_lincs_list:\n",
    "    if len(i) <= 140:\n",
    "        for j in i:\n",
    "            if j not in charset_140_lincs:\n",
    "                charset_140_lincs.append(j)\n",
    "        len_140_lincs.append(len(i))\n",
    "max_140_lincs = max(len_140_lincs)\n",
    "max_140_lincs"
   ]
  },
  {
   "cell_type": "code",
   "execution_count": 21,
   "metadata": {},
   "outputs": [
    {
     "data": {
      "text/plain": [
       "20113"
      ]
     },
     "execution_count": 21,
     "metadata": {},
     "output_type": "execute_result"
    }
   ],
   "source": [
    "len(len_140_lincs)"
   ]
  },
  {
   "cell_type": "code",
   "execution_count": 22,
   "metadata": {},
   "outputs": [
    {
     "data": {
      "text/plain": [
       "20065"
      ]
     },
     "execution_count": 22,
     "metadata": {},
     "output_type": "execute_result"
    }
   ],
   "source": [
    "charset_120_lincs = []\n",
    "len_120_lincs = []\n",
    "for i in smiles_lincs_list:\n",
    "    if len(i) <= 120:\n",
    "        for j in i:\n",
    "            if j not in charset_120_lincs:\n",
    "                charset_120_lincs.append(j)\n",
    "        len_120_lincs.append(len(i))\n",
    "len(len_120_lincs)"
   ]
  },
  {
   "cell_type": "code",
   "execution_count": 23,
   "metadata": {},
   "outputs": [
    {
     "data": {
      "text/plain": [
       "['.', 't', 'A', 'u', 'd', 'e', 'L', 'M', 'i', 'g']"
      ]
     },
     "execution_count": 23,
     "metadata": {},
     "output_type": "execute_result"
    }
   ],
   "source": [
    "list(set(charset_120_lincs) - set(char_zinc))"
   ]
  },
  {
   "cell_type": "code",
   "execution_count": 24,
   "metadata": {},
   "outputs": [
    {
     "data": {
      "text/plain": [
       "[' ']"
      ]
     },
     "execution_count": 24,
     "metadata": {},
     "output_type": "execute_result"
    }
   ],
   "source": [
    "list(set(char_zinc) - set(charset_120_lincs) )"
   ]
  },
  {
   "cell_type": "code",
   "execution_count": 25,
   "metadata": {},
   "outputs": [
    {
     "data": {
      "text/plain": [
       "['a']"
      ]
     },
     "execution_count": 25,
     "metadata": {},
     "output_type": "execute_result"
    }
   ],
   "source": [
    "list(set(charset_140_lincs) - set(charset_120_lincs))"
   ]
  },
  {
   "cell_type": "code",
   "execution_count": 26,
   "metadata": {},
   "outputs": [],
   "source": [
    "# PubChem\n",
    "path_zinc = '/nfs/turbo/umms-welchjd/hengshi/perturb_gan/data/smiles/pubchem'\n",
    "zinc_name = 'pubchem_canon.csv'\n",
    "pubchem_data = pd.read_csv(os.path.join(path_zinc, zinc_name))\n",
    "smiles_pubchem_list = list(pubchem_data.iloc[:, 1])"
   ]
  },
  {
   "cell_type": "code",
   "execution_count": 27,
   "metadata": {},
   "outputs": [
    {
     "data": {
      "text/plain": [
       "9952001"
      ]
     },
     "execution_count": 27,
     "metadata": {},
     "output_type": "execute_result"
    }
   ],
   "source": [
    "charset_140_pc = []\n",
    "len_140_pc = []\n",
    "for i in smiles_pubchem_list:\n",
    "    if len(i) <= 140:\n",
    "        for j in i:\n",
    "            if j not in charset_140_pc:\n",
    "                charset_140_pc.append(j)\n",
    "        len_140_pc.append(len(i))\n",
    "len(len_140_pc)"
   ]
  },
  {
   "cell_type": "code",
   "execution_count": 28,
   "metadata": {},
   "outputs": [
    {
     "data": {
      "text/plain": [
       "['.', '\\\\', '/', '@']"
      ]
     },
     "execution_count": 28,
     "metadata": {},
     "output_type": "execute_result"
    }
   ],
   "source": [
    "list(set(charset_140_lincs) - set(charset_140_pc))"
   ]
  },
  {
   "cell_type": "code",
   "execution_count": 29,
   "metadata": {},
   "outputs": [
    {
     "data": {
      "text/plain": [
       "['0',\n",
       " 'y',\n",
       " '9',\n",
       " 'U',\n",
       " 'Y',\n",
       " 'T',\n",
       " 'Z',\n",
       " 'V',\n",
       " 'G',\n",
       " 'K',\n",
       " 'E',\n",
       " 'b',\n",
       " 'X',\n",
       " 'p',\n",
       " 'm',\n",
       " 'D',\n",
       " 'R',\n",
       " '%',\n",
       " 'W',\n",
       " 'f',\n",
       " 'h']"
      ]
     },
     "execution_count": 29,
     "metadata": {},
     "output_type": "execute_result"
    }
   ],
   "source": [
    "list(set(charset_140_pc) - set(charset_140_lincs))"
   ]
  },
  {
   "cell_type": "code",
   "execution_count": 30,
   "metadata": {},
   "outputs": [
    {
     "data": {
      "text/plain": [
       "['*', '\\\\', '.', '@', '/']"
      ]
     },
     "execution_count": 30,
     "metadata": {},
     "output_type": "execute_result"
    }
   ],
   "source": [
    "list(set(charset_188) - set(charset_140_pc))"
   ]
  },
  {
   "cell_type": "code",
   "execution_count": 31,
   "metadata": {},
   "outputs": [
    {
     "data": {
      "text/plain": [
       "['0',\n",
       " 'y',\n",
       " 'A',\n",
       " '9',\n",
       " 'U',\n",
       " 'L',\n",
       " 'Y',\n",
       " 'g',\n",
       " 'T',\n",
       " 't',\n",
       " 'Z',\n",
       " 'V',\n",
       " 'G',\n",
       " 'K',\n",
       " 'E',\n",
       " 'e',\n",
       " 'u',\n",
       " 'b',\n",
       " 'X',\n",
       " 'd',\n",
       " '7',\n",
       " 'p',\n",
       " 'm',\n",
       " 'M',\n",
       " 'i',\n",
       " 'D',\n",
       " 'R',\n",
       " '%',\n",
       " '8',\n",
       " 'W',\n",
       " '6',\n",
       " 'f',\n",
       " 'h']"
      ]
     },
     "execution_count": 31,
     "metadata": {},
     "output_type": "execute_result"
    }
   ],
   "source": [
    "list(set(charset_140_pc) - set(charset_188))"
   ]
  },
  {
   "cell_type": "code",
   "execution_count": 32,
   "metadata": {},
   "outputs": [
    {
     "data": {
      "text/html": [
       "<div>\n",
       "<style scoped>\n",
       "    .dataframe tbody tr th:only-of-type {\n",
       "        vertical-align: middle;\n",
       "    }\n",
       "\n",
       "    .dataframe tbody tr th {\n",
       "        vertical-align: top;\n",
       "    }\n",
       "\n",
       "    .dataframe thead th {\n",
       "        text-align: right;\n",
       "    }\n",
       "</style>\n",
       "<table border=\"1\" class=\"dataframe\">\n",
       "  <thead>\n",
       "    <tr style=\"text-align: right;\">\n",
       "      <th></th>\n",
       "      <th>Token</th>\n",
       "      <th>Number</th>\n",
       "      <th>Percentage</th>\n",
       "    </tr>\n",
       "  </thead>\n",
       "  <tbody>\n",
       "    <tr>\n",
       "      <th>0</th>\n",
       "      <td>*</td>\n",
       "      <td>1</td>\n",
       "      <td>0.53</td>\n",
       "    </tr>\n",
       "    <tr>\n",
       "      <th>1</th>\n",
       "      <td>.</td>\n",
       "      <td>29</td>\n",
       "      <td>15.43</td>\n",
       "    </tr>\n",
       "    <tr>\n",
       "      <th>2</th>\n",
       "      <td>a</td>\n",
       "      <td>6</td>\n",
       "      <td>3.19</td>\n",
       "    </tr>\n",
       "  </tbody>\n",
       "</table>\n",
       "</div>"
      ],
      "text/plain": [
       "  Token  Number  Percentage\n",
       "0     *       1        0.53\n",
       "1     .      29       15.43\n",
       "2     a       6        3.19"
      ]
     },
     "execution_count": 32,
     "metadata": {},
     "output_type": "execute_result"
    }
   ],
   "source": [
    "# 188 alignment to ZINC\n",
    "specialList = list(set(charset_188) - set(char_zinc))\n",
    "smiles_list_trans = []\n",
    "for t in specialList:\n",
    "    a = 0\n",
    "    for i in smiles_188_list:\n",
    "        if (t in i) & (len(i) <= 120):\n",
    "            a += 1\n",
    "    smiles_list_trans.append(a)\n",
    "n188ToZINC = np.sum(smiles_list_trans)\n",
    "pd.DataFrame({'Token': specialList, 'Number': smiles_list_trans, 'Percentage': [round(float(i/188) * 100, 2) for i in smiles_list_trans]})"
   ]
  },
  {
   "cell_type": "code",
   "execution_count": 33,
   "metadata": {},
   "outputs": [
    {
     "data": {
      "text/html": [
       "<div>\n",
       "<style scoped>\n",
       "    .dataframe tbody tr th:only-of-type {\n",
       "        vertical-align: middle;\n",
       "    }\n",
       "\n",
       "    .dataframe tbody tr th {\n",
       "        vertical-align: top;\n",
       "    }\n",
       "\n",
       "    .dataframe thead th {\n",
       "        text-align: right;\n",
       "    }\n",
       "</style>\n",
       "<table border=\"1\" class=\"dataframe\">\n",
       "  <thead>\n",
       "    <tr style=\"text-align: right;\">\n",
       "      <th></th>\n",
       "      <th>Token</th>\n",
       "      <th>Number</th>\n",
       "      <th>Percentage</th>\n",
       "    </tr>\n",
       "  </thead>\n",
       "  <tbody>\n",
       "    <tr>\n",
       "      <th>0</th>\n",
       "      <td>.</td>\n",
       "      <td>33</td>\n",
       "      <td>0.16</td>\n",
       "    </tr>\n",
       "    <tr>\n",
       "      <th>1</th>\n",
       "      <td>t</td>\n",
       "      <td>2</td>\n",
       "      <td>0.01</td>\n",
       "    </tr>\n",
       "    <tr>\n",
       "      <th>2</th>\n",
       "      <td>A</td>\n",
       "      <td>5</td>\n",
       "      <td>0.02</td>\n",
       "    </tr>\n",
       "    <tr>\n",
       "      <th>3</th>\n",
       "      <td>u</td>\n",
       "      <td>2</td>\n",
       "      <td>0.01</td>\n",
       "    </tr>\n",
       "    <tr>\n",
       "      <th>4</th>\n",
       "      <td>d</td>\n",
       "      <td>1</td>\n",
       "      <td>0.00</td>\n",
       "    </tr>\n",
       "    <tr>\n",
       "      <th>5</th>\n",
       "      <td>e</td>\n",
       "      <td>1</td>\n",
       "      <td>0.00</td>\n",
       "    </tr>\n",
       "    <tr>\n",
       "      <th>6</th>\n",
       "      <td>L</td>\n",
       "      <td>1</td>\n",
       "      <td>0.00</td>\n",
       "    </tr>\n",
       "    <tr>\n",
       "      <th>7</th>\n",
       "      <td>M</td>\n",
       "      <td>1</td>\n",
       "      <td>0.00</td>\n",
       "    </tr>\n",
       "    <tr>\n",
       "      <th>8</th>\n",
       "      <td>i</td>\n",
       "      <td>19</td>\n",
       "      <td>0.09</td>\n",
       "    </tr>\n",
       "    <tr>\n",
       "      <th>9</th>\n",
       "      <td>g</td>\n",
       "      <td>3</td>\n",
       "      <td>0.01</td>\n",
       "    </tr>\n",
       "  </tbody>\n",
       "</table>\n",
       "</div>"
      ],
      "text/plain": [
       "  Token  Number  Percentage\n",
       "0     .      33        0.16\n",
       "1     t       2        0.01\n",
       "2     A       5        0.02\n",
       "3     u       2        0.01\n",
       "4     d       1        0.00\n",
       "5     e       1        0.00\n",
       "6     L       1        0.00\n",
       "7     M       1        0.00\n",
       "8     i      19        0.09\n",
       "9     g       3        0.01"
      ]
     },
     "execution_count": 33,
     "metadata": {},
     "output_type": "execute_result"
    }
   ],
   "source": [
    "# lincs alignment to ZINC\n",
    "specialList = list(set(charset_120_lincs) - set(char_zinc))\n",
    "smiles_list_trans = []\n",
    "for t in specialList:\n",
    "    a = 0\n",
    "    for i in smiles_lincs_list:\n",
    "        if (t in i) & (len(i) <= 120):\n",
    "            a += 1\n",
    "    smiles_list_trans.append(a)\n",
    "nLINCSToZINC = np.sum(smiles_list_trans)\n",
    "pd.DataFrame({'Token': specialList, 'Number': smiles_list_trans, 'Percentage': [round(float(i/len(len_120_lincs)) * 100, 2) for i in smiles_list_trans]})"
   ]
  },
  {
   "cell_type": "code",
   "execution_count": 34,
   "metadata": {},
   "outputs": [
    {
     "data": {
      "text/html": [
       "<div>\n",
       "<style scoped>\n",
       "    .dataframe tbody tr th:only-of-type {\n",
       "        vertical-align: middle;\n",
       "    }\n",
       "\n",
       "    .dataframe tbody tr th {\n",
       "        vertical-align: top;\n",
       "    }\n",
       "\n",
       "    .dataframe thead th {\n",
       "        text-align: right;\n",
       "    }\n",
       "</style>\n",
       "<table border=\"1\" class=\"dataframe\">\n",
       "  <thead>\n",
       "    <tr style=\"text-align: right;\">\n",
       "      <th></th>\n",
       "      <th>Token</th>\n",
       "      <th>Number</th>\n",
       "      <th>Percentage</th>\n",
       "    </tr>\n",
       "  </thead>\n",
       "  <tbody>\n",
       "    <tr>\n",
       "      <th>0</th>\n",
       "      <td>*</td>\n",
       "      <td>1</td>\n",
       "      <td>0.53</td>\n",
       "    </tr>\n",
       "    <tr>\n",
       "      <th>1</th>\n",
       "      <td>\\</td>\n",
       "      <td>10</td>\n",
       "      <td>5.32</td>\n",
       "    </tr>\n",
       "    <tr>\n",
       "      <th>2</th>\n",
       "      <td>.</td>\n",
       "      <td>29</td>\n",
       "      <td>15.43</td>\n",
       "    </tr>\n",
       "    <tr>\n",
       "      <th>3</th>\n",
       "      <td>@</td>\n",
       "      <td>23</td>\n",
       "      <td>12.23</td>\n",
       "    </tr>\n",
       "    <tr>\n",
       "      <th>4</th>\n",
       "      <td>/</td>\n",
       "      <td>32</td>\n",
       "      <td>17.02</td>\n",
       "    </tr>\n",
       "  </tbody>\n",
       "</table>\n",
       "</div>"
      ],
      "text/plain": [
       "  Token  Number  Percentage\n",
       "0     *       1        0.53\n",
       "1     \\      10        5.32\n",
       "2     .      29       15.43\n",
       "3     @      23       12.23\n",
       "4     /      32       17.02"
      ]
     },
     "execution_count": 34,
     "metadata": {},
     "output_type": "execute_result"
    }
   ],
   "source": [
    "# 188 alignment to PubChem\n",
    "specialList = list(set(charset_188) - set(charset_140_pc))\n",
    "smiles_list_trans = []\n",
    "\n",
    "for t in specialList:\n",
    "    a = 0\n",
    "    for i in smiles_188_list:\n",
    "        if (t in i) & (len(i) <= 140):\n",
    "            a += 1\n",
    "    smiles_list_trans.append(a)\n",
    "n188ToPC = np.sum(smiles_list_trans)\n",
    "pd.DataFrame({'Token': specialList, 'Number': smiles_list_trans, 'Percentage': [round(float(i/188) * 100, 2) for i in smiles_list_trans]})"
   ]
  },
  {
   "cell_type": "code",
   "execution_count": 35,
   "metadata": {},
   "outputs": [
    {
     "data": {
      "text/plain": [
       "(5, 5)"
      ]
     },
     "execution_count": 35,
     "metadata": {},
     "output_type": "execute_result"
    }
   ],
   "source": [
    "len(smiles_list_trans), len(specialList)"
   ]
  },
  {
   "cell_type": "code",
   "execution_count": 36,
   "metadata": {},
   "outputs": [
    {
     "data": {
      "text/html": [
       "<div>\n",
       "<style scoped>\n",
       "    .dataframe tbody tr th:only-of-type {\n",
       "        vertical-align: middle;\n",
       "    }\n",
       "\n",
       "    .dataframe tbody tr th {\n",
       "        vertical-align: top;\n",
       "    }\n",
       "\n",
       "    .dataframe thead th {\n",
       "        text-align: right;\n",
       "    }\n",
       "</style>\n",
       "<table border=\"1\" class=\"dataframe\">\n",
       "  <thead>\n",
       "    <tr style=\"text-align: right;\">\n",
       "      <th></th>\n",
       "      <th>Token</th>\n",
       "      <th>Number</th>\n",
       "      <th>Percentage</th>\n",
       "    </tr>\n",
       "  </thead>\n",
       "  <tbody>\n",
       "    <tr>\n",
       "      <th>0</th>\n",
       "      <td>.</td>\n",
       "      <td>40</td>\n",
       "      <td>0.20</td>\n",
       "    </tr>\n",
       "    <tr>\n",
       "      <th>1</th>\n",
       "      <td>\\</td>\n",
       "      <td>224</td>\n",
       "      <td>1.11</td>\n",
       "    </tr>\n",
       "    <tr>\n",
       "      <th>2</th>\n",
       "      <td>/</td>\n",
       "      <td>1088</td>\n",
       "      <td>5.41</td>\n",
       "    </tr>\n",
       "    <tr>\n",
       "      <th>3</th>\n",
       "      <td>@</td>\n",
       "      <td>15661</td>\n",
       "      <td>77.87</td>\n",
       "    </tr>\n",
       "  </tbody>\n",
       "</table>\n",
       "</div>"
      ],
      "text/plain": [
       "  Token  Number  Percentage\n",
       "0     .      40        0.20\n",
       "1     \\     224        1.11\n",
       "2     /    1088        5.41\n",
       "3     @   15661       77.87"
      ]
     },
     "execution_count": 36,
     "metadata": {},
     "output_type": "execute_result"
    }
   ],
   "source": [
    "# lincs alignment to PubChem\n",
    "specialList = list(set(charset_140_lincs) - set(charset_140_pc))\n",
    "smiles_list_trans = []\n",
    "for t in specialList:\n",
    "    a = 0\n",
    "    for i in smiles_lincs_list:\n",
    "        if (t in i) & (len(i) <= 140):\n",
    "            a += 1\n",
    "    smiles_list_trans.append(a)\n",
    "nLINCSToPC = np.sum(smiles_list_trans)\n",
    "pd.DataFrame({'Token': specialList, 'Number': smiles_list_trans, 'Percentage': [round(float(i/len(len_140_lincs)) * 100, 2) for i in smiles_list_trans]})"
   ]
  },
  {
   "cell_type": "code",
   "execution_count": 37,
   "metadata": {},
   "outputs": [
    {
     "data": {
      "text/plain": [
       "(4, 4)"
      ]
     },
     "execution_count": 37,
     "metadata": {},
     "output_type": "execute_result"
    }
   ],
   "source": [
    "len(smiles_list_trans), len(specialList)"
   ]
  },
  {
   "cell_type": "code",
   "execution_count": 42,
   "metadata": {},
   "outputs": [
    {
     "data": {
      "text/html": [
       "<div>\n",
       "<style scoped>\n",
       "    .dataframe tbody tr th:only-of-type {\n",
       "        vertical-align: middle;\n",
       "    }\n",
       "\n",
       "    .dataframe tbody tr th {\n",
       "        vertical-align: top;\n",
       "    }\n",
       "\n",
       "    .dataframe thead th {\n",
       "        text-align: right;\n",
       "    }\n",
       "</style>\n",
       "<table border=\"1\" class=\"dataframe\">\n",
       "  <thead>\n",
       "    <tr style=\"text-align: right;\">\n",
       "      <th></th>\n",
       "      <th>Token</th>\n",
       "      <th>Number</th>\n",
       "      <th>Percentage</th>\n",
       "    </tr>\n",
       "  </thead>\n",
       "  <tbody>\n",
       "    <tr>\n",
       "      <th>0</th>\n",
       "      <td>m</td>\n",
       "      <td>6</td>\n",
       "      <td>0.00</td>\n",
       "    </tr>\n",
       "    <tr>\n",
       "      <th>1</th>\n",
       "      <td>h</td>\n",
       "      <td>25</td>\n",
       "      <td>0.00</td>\n",
       "    </tr>\n",
       "    <tr>\n",
       "      <th>2</th>\n",
       "      <td>E</td>\n",
       "      <td>6</td>\n",
       "      <td>0.00</td>\n",
       "    </tr>\n",
       "    <tr>\n",
       "      <th>3</th>\n",
       "      <td>b</td>\n",
       "      <td>643</td>\n",
       "      <td>0.01</td>\n",
       "    </tr>\n",
       "    <tr>\n",
       "      <th>4</th>\n",
       "      <td>8</td>\n",
       "      <td>12245</td>\n",
       "      <td>0.12</td>\n",
       "    </tr>\n",
       "    <tr>\n",
       "      <th>5</th>\n",
       "      <td>g</td>\n",
       "      <td>612</td>\n",
       "      <td>0.01</td>\n",
       "    </tr>\n",
       "    <tr>\n",
       "      <th>6</th>\n",
       "      <td>D</td>\n",
       "      <td>1</td>\n",
       "      <td>0.00</td>\n",
       "    </tr>\n",
       "    <tr>\n",
       "      <th>7</th>\n",
       "      <td>t</td>\n",
       "      <td>167</td>\n",
       "      <td>0.00</td>\n",
       "    </tr>\n",
       "    <tr>\n",
       "      <th>8</th>\n",
       "      <td>d</td>\n",
       "      <td>16</td>\n",
       "      <td>0.00</td>\n",
       "    </tr>\n",
       "    <tr>\n",
       "      <th>9</th>\n",
       "      <td>y</td>\n",
       "      <td>1</td>\n",
       "      <td>0.00</td>\n",
       "    </tr>\n",
       "    <tr>\n",
       "      <th>10</th>\n",
       "      <td>R</td>\n",
       "      <td>143</td>\n",
       "      <td>0.00</td>\n",
       "    </tr>\n",
       "    <tr>\n",
       "      <th>11</th>\n",
       "      <td>7</td>\n",
       "      <td>31724</td>\n",
       "      <td>0.32</td>\n",
       "    </tr>\n",
       "    <tr>\n",
       "      <th>12</th>\n",
       "      <td>M</td>\n",
       "      <td>57</td>\n",
       "      <td>0.00</td>\n",
       "    </tr>\n",
       "    <tr>\n",
       "      <th>13</th>\n",
       "      <td>%</td>\n",
       "      <td>1398</td>\n",
       "      <td>0.01</td>\n",
       "    </tr>\n",
       "    <tr>\n",
       "      <th>14</th>\n",
       "      <td>Y</td>\n",
       "      <td>12</td>\n",
       "      <td>0.00</td>\n",
       "    </tr>\n",
       "    <tr>\n",
       "      <th>15</th>\n",
       "      <td>T</td>\n",
       "      <td>1136</td>\n",
       "      <td>0.01</td>\n",
       "    </tr>\n",
       "    <tr>\n",
       "      <th>16</th>\n",
       "      <td>Z</td>\n",
       "      <td>60</td>\n",
       "      <td>0.00</td>\n",
       "    </tr>\n",
       "    <tr>\n",
       "      <th>17</th>\n",
       "      <td>0</td>\n",
       "      <td>1398</td>\n",
       "      <td>0.01</td>\n",
       "    </tr>\n",
       "    <tr>\n",
       "      <th>18</th>\n",
       "      <td>W</td>\n",
       "      <td>295</td>\n",
       "      <td>0.00</td>\n",
       "    </tr>\n",
       "    <tr>\n",
       "      <th>19</th>\n",
       "      <td>6</td>\n",
       "      <td>80307</td>\n",
       "      <td>0.81</td>\n",
       "    </tr>\n",
       "    <tr>\n",
       "      <th>20</th>\n",
       "      <td>9</td>\n",
       "      <td>4366</td>\n",
       "      <td>0.04</td>\n",
       "    </tr>\n",
       "    <tr>\n",
       "      <th>21</th>\n",
       "      <td>A</td>\n",
       "      <td>2719</td>\n",
       "      <td>0.03</td>\n",
       "    </tr>\n",
       "    <tr>\n",
       "      <th>22</th>\n",
       "      <td>f</td>\n",
       "      <td>12</td>\n",
       "      <td>0.00</td>\n",
       "    </tr>\n",
       "    <tr>\n",
       "      <th>23</th>\n",
       "      <td>e</td>\n",
       "      <td>9142</td>\n",
       "      <td>0.09</td>\n",
       "    </tr>\n",
       "    <tr>\n",
       "      <th>24</th>\n",
       "      <td>L</td>\n",
       "      <td>7</td>\n",
       "      <td>0.00</td>\n",
       "    </tr>\n",
       "    <tr>\n",
       "      <th>25</th>\n",
       "      <td>U</td>\n",
       "      <td>12</td>\n",
       "      <td>0.00</td>\n",
       "    </tr>\n",
       "    <tr>\n",
       "      <th>26</th>\n",
       "      <td>u</td>\n",
       "      <td>138</td>\n",
       "      <td>0.00</td>\n",
       "    </tr>\n",
       "    <tr>\n",
       "      <th>27</th>\n",
       "      <td>i</td>\n",
       "      <td>95364</td>\n",
       "      <td>0.96</td>\n",
       "    </tr>\n",
       "    <tr>\n",
       "      <th>28</th>\n",
       "      <td>p</td>\n",
       "      <td>1295</td>\n",
       "      <td>0.01</td>\n",
       "    </tr>\n",
       "    <tr>\n",
       "      <th>29</th>\n",
       "      <td>X</td>\n",
       "      <td>14</td>\n",
       "      <td>0.00</td>\n",
       "    </tr>\n",
       "    <tr>\n",
       "      <th>30</th>\n",
       "      <td>G</td>\n",
       "      <td>1278</td>\n",
       "      <td>0.01</td>\n",
       "    </tr>\n",
       "    <tr>\n",
       "      <th>31</th>\n",
       "      <td>K</td>\n",
       "      <td>7</td>\n",
       "      <td>0.00</td>\n",
       "    </tr>\n",
       "    <tr>\n",
       "      <th>32</th>\n",
       "      <td>V</td>\n",
       "      <td>75</td>\n",
       "      <td>0.00</td>\n",
       "    </tr>\n",
       "  </tbody>\n",
       "</table>\n",
       "</div>"
      ],
      "text/plain": [
       "   Token  Number  Percentage\n",
       "0      m       6        0.00\n",
       "1      h      25        0.00\n",
       "2      E       6        0.00\n",
       "3      b     643        0.01\n",
       "4      8   12245        0.12\n",
       "5      g     612        0.01\n",
       "6      D       1        0.00\n",
       "7      t     167        0.00\n",
       "8      d      16        0.00\n",
       "9      y       1        0.00\n",
       "10     R     143        0.00\n",
       "11     7   31724        0.32\n",
       "12     M      57        0.00\n",
       "13     %    1398        0.01\n",
       "14     Y      12        0.00\n",
       "15     T    1136        0.01\n",
       "16     Z      60        0.00\n",
       "17     0    1398        0.01\n",
       "18     W     295        0.00\n",
       "19     6   80307        0.81\n",
       "20     9    4366        0.04\n",
       "21     A    2719        0.03\n",
       "22     f      12        0.00\n",
       "23     e    9142        0.09\n",
       "24     L       7        0.00\n",
       "25     U      12        0.00\n",
       "26     u     138        0.00\n",
       "27     i   95364        0.96\n",
       "28     p    1295        0.01\n",
       "29     X      14        0.00\n",
       "30     G    1278        0.01\n",
       "31     K       7        0.00\n",
       "32     V      75        0.00"
      ]
     },
     "execution_count": 42,
     "metadata": {},
     "output_type": "execute_result"
    }
   ],
   "source": [
    "# PubChem alignment to 188\n",
    "specialList = list(set(charset_140_pc) - set(charset_188))\n",
    "smiles_list_trans = []\n",
    "\n",
    "for t in specialList:\n",
    "    a = 0\n",
    "    for i in smiles_pubchem_list:\n",
    "        if (t in i) & (len(i) <= 140):\n",
    "            a += 1\n",
    "    smiles_list_trans.append(a)\n",
    "nPCTo188 = np.sum(smiles_list_trans)\n",
    "pd.DataFrame({'Token': specialList, 'Number': smiles_list_trans, 'Percentage': [round(float(i/len(len_140_pc)) * 100, 2) for i in smiles_list_trans]})"
   ]
  },
  {
   "cell_type": "code",
   "execution_count": 43,
   "metadata": {},
   "outputs": [
    {
     "data": {
      "text/plain": [
       "(33, 33)"
      ]
     },
     "execution_count": 43,
     "metadata": {},
     "output_type": "execute_result"
    }
   ],
   "source": [
    "len(smiles_list_trans), len(specialList)"
   ]
  },
  {
   "cell_type": "code",
   "execution_count": 44,
   "metadata": {},
   "outputs": [
    {
     "data": {
      "text/html": [
       "<div>\n",
       "<style scoped>\n",
       "    .dataframe tbody tr th:only-of-type {\n",
       "        vertical-align: middle;\n",
       "    }\n",
       "\n",
       "    .dataframe tbody tr th {\n",
       "        vertical-align: top;\n",
       "    }\n",
       "\n",
       "    .dataframe thead th {\n",
       "        text-align: right;\n",
       "    }\n",
       "</style>\n",
       "<table border=\"1\" class=\"dataframe\">\n",
       "  <thead>\n",
       "    <tr style=\"text-align: right;\">\n",
       "      <th></th>\n",
       "      <th>Token</th>\n",
       "      <th>Number</th>\n",
       "      <th>Percentage</th>\n",
       "    </tr>\n",
       "  </thead>\n",
       "  <tbody>\n",
       "    <tr>\n",
       "      <th>0</th>\n",
       "      <td>m</td>\n",
       "      <td>6</td>\n",
       "      <td>0.00</td>\n",
       "    </tr>\n",
       "    <tr>\n",
       "      <th>1</th>\n",
       "      <td>h</td>\n",
       "      <td>25</td>\n",
       "      <td>0.00</td>\n",
       "    </tr>\n",
       "    <tr>\n",
       "      <th>2</th>\n",
       "      <td>E</td>\n",
       "      <td>6</td>\n",
       "      <td>0.00</td>\n",
       "    </tr>\n",
       "    <tr>\n",
       "      <th>3</th>\n",
       "      <td>b</td>\n",
       "      <td>643</td>\n",
       "      <td>0.01</td>\n",
       "    </tr>\n",
       "    <tr>\n",
       "      <th>4</th>\n",
       "      <td>D</td>\n",
       "      <td>1</td>\n",
       "      <td>0.00</td>\n",
       "    </tr>\n",
       "    <tr>\n",
       "      <th>5</th>\n",
       "      <td>y</td>\n",
       "      <td>1</td>\n",
       "      <td>0.00</td>\n",
       "    </tr>\n",
       "    <tr>\n",
       "      <th>6</th>\n",
       "      <td>R</td>\n",
       "      <td>143</td>\n",
       "      <td>0.00</td>\n",
       "    </tr>\n",
       "    <tr>\n",
       "      <th>7</th>\n",
       "      <td>%</td>\n",
       "      <td>1398</td>\n",
       "      <td>0.01</td>\n",
       "    </tr>\n",
       "    <tr>\n",
       "      <th>8</th>\n",
       "      <td>Y</td>\n",
       "      <td>12</td>\n",
       "      <td>0.00</td>\n",
       "    </tr>\n",
       "    <tr>\n",
       "      <th>9</th>\n",
       "      <td>T</td>\n",
       "      <td>1136</td>\n",
       "      <td>0.01</td>\n",
       "    </tr>\n",
       "    <tr>\n",
       "      <th>10</th>\n",
       "      <td>Z</td>\n",
       "      <td>60</td>\n",
       "      <td>0.00</td>\n",
       "    </tr>\n",
       "    <tr>\n",
       "      <th>11</th>\n",
       "      <td>0</td>\n",
       "      <td>1398</td>\n",
       "      <td>0.01</td>\n",
       "    </tr>\n",
       "    <tr>\n",
       "      <th>12</th>\n",
       "      <td>W</td>\n",
       "      <td>295</td>\n",
       "      <td>0.00</td>\n",
       "    </tr>\n",
       "    <tr>\n",
       "      <th>13</th>\n",
       "      <td>9</td>\n",
       "      <td>4366</td>\n",
       "      <td>0.04</td>\n",
       "    </tr>\n",
       "    <tr>\n",
       "      <th>14</th>\n",
       "      <td>f</td>\n",
       "      <td>12</td>\n",
       "      <td>0.00</td>\n",
       "    </tr>\n",
       "    <tr>\n",
       "      <th>15</th>\n",
       "      <td>U</td>\n",
       "      <td>12</td>\n",
       "      <td>0.00</td>\n",
       "    </tr>\n",
       "    <tr>\n",
       "      <th>16</th>\n",
       "      <td>p</td>\n",
       "      <td>1295</td>\n",
       "      <td>0.01</td>\n",
       "    </tr>\n",
       "    <tr>\n",
       "      <th>17</th>\n",
       "      <td>X</td>\n",
       "      <td>14</td>\n",
       "      <td>0.00</td>\n",
       "    </tr>\n",
       "    <tr>\n",
       "      <th>18</th>\n",
       "      <td>G</td>\n",
       "      <td>1278</td>\n",
       "      <td>0.01</td>\n",
       "    </tr>\n",
       "    <tr>\n",
       "      <th>19</th>\n",
       "      <td>K</td>\n",
       "      <td>7</td>\n",
       "      <td>0.00</td>\n",
       "    </tr>\n",
       "    <tr>\n",
       "      <th>20</th>\n",
       "      <td>V</td>\n",
       "      <td>75</td>\n",
       "      <td>0.00</td>\n",
       "    </tr>\n",
       "  </tbody>\n",
       "</table>\n",
       "</div>"
      ],
      "text/plain": [
       "   Token  Number  Percentage\n",
       "0      m       6        0.00\n",
       "1      h      25        0.00\n",
       "2      E       6        0.00\n",
       "3      b     643        0.01\n",
       "4      D       1        0.00\n",
       "5      y       1        0.00\n",
       "6      R     143        0.00\n",
       "7      %    1398        0.01\n",
       "8      Y      12        0.00\n",
       "9      T    1136        0.01\n",
       "10     Z      60        0.00\n",
       "11     0    1398        0.01\n",
       "12     W     295        0.00\n",
       "13     9    4366        0.04\n",
       "14     f      12        0.00\n",
       "15     U      12        0.00\n",
       "16     p    1295        0.01\n",
       "17     X      14        0.00\n",
       "18     G    1278        0.01\n",
       "19     K       7        0.00\n",
       "20     V      75        0.00"
      ]
     },
     "execution_count": 44,
     "metadata": {},
     "output_type": "execute_result"
    }
   ],
   "source": [
    "# PubChem alignment to lincs\n",
    "specialList = list(set(charset_140_pc) - set(charset_140_lincs))\n",
    "smiles_list_trans = []\n",
    "\n",
    "for t in specialList:\n",
    "    a = 0\n",
    "    for i in smiles_pubchem_list:\n",
    "        if (t in i) & (len(i) <= 140):\n",
    "            a += 1\n",
    "    smiles_list_trans.append(a)\n",
    "nPCToLINCS = np.sum(smiles_list_trans)\n",
    "pd.DataFrame({'Token': specialList, 'Number': smiles_list_trans, 'Percentage': [round(float(i/len(len_140_pc)) * 100, 2) for i in smiles_list_trans]})"
   ]
  },
  {
   "cell_type": "code",
   "execution_count": 45,
   "metadata": {},
   "outputs": [
    {
     "data": {
      "text/plain": [
       "(21, 21)"
      ]
     },
     "execution_count": 45,
     "metadata": {},
     "output_type": "execute_result"
    }
   ],
   "source": [
    "len(smiles_list_trans), len(specialList)"
   ]
  },
  {
   "cell_type": "code",
   "execution_count": 46,
   "metadata": {},
   "outputs": [
    {
     "data": {
      "text/html": [
       "<div>\n",
       "<style scoped>\n",
       "    .dataframe tbody tr th:only-of-type {\n",
       "        vertical-align: middle;\n",
       "    }\n",
       "\n",
       "    .dataframe tbody tr th {\n",
       "        vertical-align: top;\n",
       "    }\n",
       "\n",
       "    .dataframe thead th {\n",
       "        text-align: right;\n",
       "    }\n",
       "</style>\n",
       "<table border=\"1\" class=\"dataframe\">\n",
       "  <thead>\n",
       "    <tr style=\"text-align: right;\">\n",
       "      <th></th>\n",
       "      <th>Token</th>\n",
       "      <th>Number</th>\n",
       "      <th>Percentage</th>\n",
       "    </tr>\n",
       "  </thead>\n",
       "  <tbody>\n",
       "    <tr>\n",
       "      <th>0</th>\n",
       "      <td>m</td>\n",
       "      <td>6</td>\n",
       "      <td>0.00</td>\n",
       "    </tr>\n",
       "    <tr>\n",
       "      <th>1</th>\n",
       "      <td>h</td>\n",
       "      <td>25</td>\n",
       "      <td>0.00</td>\n",
       "    </tr>\n",
       "    <tr>\n",
       "      <th>2</th>\n",
       "      <td>E</td>\n",
       "      <td>6</td>\n",
       "      <td>0.00</td>\n",
       "    </tr>\n",
       "    <tr>\n",
       "      <th>3</th>\n",
       "      <td>b</td>\n",
       "      <td>643</td>\n",
       "      <td>0.01</td>\n",
       "    </tr>\n",
       "    <tr>\n",
       "      <th>4</th>\n",
       "      <td>D</td>\n",
       "      <td>1</td>\n",
       "      <td>0.00</td>\n",
       "    </tr>\n",
       "    <tr>\n",
       "      <th>5</th>\n",
       "      <td>y</td>\n",
       "      <td>1</td>\n",
       "      <td>0.00</td>\n",
       "    </tr>\n",
       "    <tr>\n",
       "      <th>6</th>\n",
       "      <td>R</td>\n",
       "      <td>143</td>\n",
       "      <td>0.00</td>\n",
       "    </tr>\n",
       "    <tr>\n",
       "      <th>7</th>\n",
       "      <td>%</td>\n",
       "      <td>1398</td>\n",
       "      <td>0.01</td>\n",
       "    </tr>\n",
       "    <tr>\n",
       "      <th>8</th>\n",
       "      <td>Y</td>\n",
       "      <td>12</td>\n",
       "      <td>0.00</td>\n",
       "    </tr>\n",
       "    <tr>\n",
       "      <th>9</th>\n",
       "      <td>T</td>\n",
       "      <td>1136</td>\n",
       "      <td>0.01</td>\n",
       "    </tr>\n",
       "    <tr>\n",
       "      <th>10</th>\n",
       "      <td>Z</td>\n",
       "      <td>60</td>\n",
       "      <td>0.00</td>\n",
       "    </tr>\n",
       "    <tr>\n",
       "      <th>11</th>\n",
       "      <td>0</td>\n",
       "      <td>1398</td>\n",
       "      <td>0.01</td>\n",
       "    </tr>\n",
       "    <tr>\n",
       "      <th>12</th>\n",
       "      <td>W</td>\n",
       "      <td>295</td>\n",
       "      <td>0.00</td>\n",
       "    </tr>\n",
       "    <tr>\n",
       "      <th>13</th>\n",
       "      <td>9</td>\n",
       "      <td>4366</td>\n",
       "      <td>0.04</td>\n",
       "    </tr>\n",
       "    <tr>\n",
       "      <th>14</th>\n",
       "      <td>f</td>\n",
       "      <td>12</td>\n",
       "      <td>0.00</td>\n",
       "    </tr>\n",
       "    <tr>\n",
       "      <th>15</th>\n",
       "      <td>U</td>\n",
       "      <td>12</td>\n",
       "      <td>0.00</td>\n",
       "    </tr>\n",
       "    <tr>\n",
       "      <th>16</th>\n",
       "      <td>p</td>\n",
       "      <td>1295</td>\n",
       "      <td>0.01</td>\n",
       "    </tr>\n",
       "    <tr>\n",
       "      <th>17</th>\n",
       "      <td>X</td>\n",
       "      <td>14</td>\n",
       "      <td>0.00</td>\n",
       "    </tr>\n",
       "    <tr>\n",
       "      <th>18</th>\n",
       "      <td>G</td>\n",
       "      <td>1278</td>\n",
       "      <td>0.01</td>\n",
       "    </tr>\n",
       "    <tr>\n",
       "      <th>19</th>\n",
       "      <td>K</td>\n",
       "      <td>7</td>\n",
       "      <td>0.00</td>\n",
       "    </tr>\n",
       "    <tr>\n",
       "      <th>20</th>\n",
       "      <td>V</td>\n",
       "      <td>75</td>\n",
       "      <td>0.00</td>\n",
       "    </tr>\n",
       "  </tbody>\n",
       "</table>\n",
       "</div>"
      ],
      "text/plain": [
       "   Token  Number  Percentage\n",
       "0      m       6        0.00\n",
       "1      h      25        0.00\n",
       "2      E       6        0.00\n",
       "3      b     643        0.01\n",
       "4      D       1        0.00\n",
       "5      y       1        0.00\n",
       "6      R     143        0.00\n",
       "7      %    1398        0.01\n",
       "8      Y      12        0.00\n",
       "9      T    1136        0.01\n",
       "10     Z      60        0.00\n",
       "11     0    1398        0.01\n",
       "12     W     295        0.00\n",
       "13     9    4366        0.04\n",
       "14     f      12        0.00\n",
       "15     U      12        0.00\n",
       "16     p    1295        0.01\n",
       "17     X      14        0.00\n",
       "18     G    1278        0.01\n",
       "19     K       7        0.00\n",
       "20     V      75        0.00"
      ]
     },
     "execution_count": 46,
     "metadata": {},
     "output_type": "execute_result"
    }
   ],
   "source": [
    "# PubChem alignment to 188 & lincs\n",
    "specialList = list(set(list(set(charset_140_pc) - set(charset_188))) &  set(list(set(charset_140_pc) - set(charset_140_lincs))))\n",
    "smiles_list_trans = []\n",
    "\n",
    "for t in specialList:\n",
    "    a = 0\n",
    "    for i in smiles_pubchem_list:\n",
    "        if (t in i) & (len(i) <= 140):\n",
    "            a += 1\n",
    "    smiles_list_trans.append(a)\n",
    "nPCTo188LINCS = np.sum(smiles_list_trans)\n",
    "pd.DataFrame({'Token': specialList, 'Number': smiles_list_trans, 'Percentage': [round(float(i/len(len_140_pc)) * 100, 2) for i in smiles_list_trans]})"
   ]
  },
  {
   "cell_type": "code",
   "execution_count": 47,
   "metadata": {},
   "outputs": [
    {
     "data": {
      "text/plain": [
       "(21, 21)"
      ]
     },
     "execution_count": 47,
     "metadata": {},
     "output_type": "execute_result"
    }
   ],
   "source": [
    "len(smiles_list_trans), len(specialList)"
   ]
  },
  {
   "cell_type": "code",
   "execution_count": 48,
   "metadata": {},
   "outputs": [],
   "source": [
    "nonToken = pd.DataFrame({'sci-Plex188': [n188ToZINC, n188ToPC, 188], 'LINCS': [nLINCSToZINC, nLINCSToPC, len(len_140_lincs)] })\n",
    "nonToken.index = ['ZINC', 'PubChem', 'Total']"
   ]
  },
  {
   "cell_type": "code",
   "execution_count": 49,
   "metadata": {},
   "outputs": [
    {
     "data": {
      "text/html": [
       "<div>\n",
       "<style scoped>\n",
       "    .dataframe tbody tr th:only-of-type {\n",
       "        vertical-align: middle;\n",
       "    }\n",
       "\n",
       "    .dataframe tbody tr th {\n",
       "        vertical-align: top;\n",
       "    }\n",
       "\n",
       "    .dataframe thead th {\n",
       "        text-align: right;\n",
       "    }\n",
       "</style>\n",
       "<table border=\"1\" class=\"dataframe\">\n",
       "  <thead>\n",
       "    <tr style=\"text-align: right;\">\n",
       "      <th></th>\n",
       "      <th>sci-Plex188</th>\n",
       "      <th>LINCS</th>\n",
       "    </tr>\n",
       "  </thead>\n",
       "  <tbody>\n",
       "    <tr>\n",
       "      <th>ZINC</th>\n",
       "      <td>36</td>\n",
       "      <td>68</td>\n",
       "    </tr>\n",
       "    <tr>\n",
       "      <th>PubChem</th>\n",
       "      <td>94</td>\n",
       "      <td>17013</td>\n",
       "    </tr>\n",
       "    <tr>\n",
       "      <th>Total</th>\n",
       "      <td>188</td>\n",
       "      <td>20113</td>\n",
       "    </tr>\n",
       "  </tbody>\n",
       "</table>\n",
       "</div>"
      ],
      "text/plain": [
       "         sci-Plex188  LINCS\n",
       "ZINC              36     68\n",
       "PubChem           94  17013\n",
       "Total            188  20113"
      ]
     },
     "execution_count": 49,
     "metadata": {},
     "output_type": "execute_result"
    }
   ],
   "source": [
    "nonToken"
   ]
  },
  {
   "cell_type": "markdown",
   "metadata": {},
   "source": [
    "# Onehot encoding of Revised PubChem"
   ]
  },
  {
   "cell_type": "code",
   "execution_count": 38,
   "metadata": {},
   "outputs": [],
   "source": [
    "# \n",
    "path_onehot = '/nfs/turbo/umms-welchjd/hengshi/perturb_gan/data/LINCS/oneHot/'\n",
    "trt_whole_list = np.load(os.path.join(path_onehot, 'GSE92742_Broad_LINCS_Level3_INF_mlr12k_n1319138x12328_processed_UniqueCanonicalSmilesOneHotSmiles.npy'))\n"
   ]
  },
  {
   "cell_type": "code",
   "execution_count": 39,
   "metadata": {},
   "outputs": [
    {
     "data": {
      "text/plain": [
       "0"
      ]
     },
     "execution_count": 39,
     "metadata": {},
     "output_type": "execute_result"
    }
   ],
   "source": [
    "(trt_whole_list == 'CC1O[C@@H](OCC2O[C@@H](O[C@H]3CC[C@@]4(C)C(CC[C@]5(C)C4CC=C4C6CC(C)(C)[C@H](C[C@@]6([C@H](O)C[C@@]54C)C(=O)O[C@@H]4OC(CO)[C@@H](O)[C@@H](O)[C@@H]4O[C@@H]4OC(C)[C@H](O[C@@H]5O[C@@H](CO)[C@H](O)[C@@H]5O)[C@@H](O[C@@H]5OC(CO)[C@@H](O)[C@@H](O)[C@@H]5O)[C@@H]4O)OC(=O)C(\\\\CO)=C\\\\CC[C@](C)(O[C@@H]4OC(C)[C@@H](OC(=O)C(\\\\CO)=C\\\\CCC(C)(O)C=C)[C@@H](O)[C@@H]4O)C=C)C3(C)C)[C@@H](NC(C)=O)[C@H](O)[C@@H]2O)[C@@H](O[C@@H]2OC[C@@H](O)[C@@H](O)[C@@H]2O)[C@H](O)[C@H]1O').sum()"
   ]
  },
  {
   "cell_type": "code",
   "execution_count": 57,
   "metadata": {},
   "outputs": [
    {
     "name": "stderr",
     "output_type": "stream",
     "text": [
      "/home/hengshi/.conda/envs/chemvaeLower/lib/python3.6/site-packages/IPython/core/interactiveshell.py:3072: DtypeWarning: Columns (7,8,9,10) have mixed types. Specify dtype option on import or set low_memory=False.\n",
      "  interactivity=interactivity, compiler=compiler, result=result)\n"
     ]
    }
   ],
   "source": [
    "path_data = '/nfs/turbo/umms-welchjd/hengshi/perturb_gan/data/LINCS'\n",
    "metadata = pd.read_csv(os.path.join(path_data, 'GSE92742_Broad_LINCS_Level3_INF_mlr12k_n1319138x12328_processed_PerturbMeta.csv'))"
   ]
  },
  {
   "cell_type": "code",
   "execution_count": 58,
   "metadata": {},
   "outputs": [
    {
     "data": {
      "text/plain": [
       "688"
      ]
     },
     "execution_count": 58,
     "metadata": {},
     "output_type": "execute_result"
    }
   ],
   "source": [
    "(np.array(list(metadata['canonical_smiles'])) == 'CC1O[C@@H](OCC2O[C@@H](O[C@H]3CC[C@@]4(C)C(CC[C@]5(C)C4CC=C4C6CC(C)(C)[C@H](C[C@@]6([C@H](O)C[C@@]54C)C(=O)O[C@@H]4OC(CO)[C@@H](O)[C@@H](O)[C@@H]4O[C@@H]4OC(C)[C@H](O[C@@H]5O[C@@H](CO)[C@H](O)[C@@H]5O)[C@@H](O[C@@H]5OC(CO)[C@@H](O)[C@@H](O)[C@@H]5O)[C@@H]4O)OC(=O)C(\\\\CO)=C\\\\CC[C@](C)(O[C@@H]4OC(C)[C@@H](OC(=O)C(\\\\CO)=C\\\\CCC(C)(O)C=C)[C@@H](O)[C@@H]4O)C=C)C3(C)C)[C@@H](NC(C)=O)[C@H](O)[C@@H]2O)[C@@H](O[C@@H]2OC[C@@H](O)[C@@H](O)[C@@H]2O)[C@H](O)[C@H]1O').sum()"
   ]
  },
  {
   "cell_type": "code",
   "execution_count": 59,
   "metadata": {},
   "outputs": [],
   "source": [
    "removed_all_pers = np.load(os.path.join(path_onehot, \"LINCS_2000RemovedPerturbs.npy\"))"
   ]
  },
  {
   "cell_type": "code",
   "execution_count": 60,
   "metadata": {},
   "outputs": [
    {
     "data": {
      "text/plain": [
       "0"
      ]
     },
     "execution_count": 60,
     "metadata": {},
     "output_type": "execute_result"
    }
   ],
   "source": [
    "(removed_all_pers == 'CC1O[C@@H](OCC2O[C@@H](O[C@H]3CC[C@@]4(C)C(CC[C@]5(C)C4CC=C4C6CC(C)(C)[C@H](C[C@@]6([C@H](O)C[C@@]54C)C(=O)O[C@@H]4OC(CO)[C@@H](O)[C@@H](O)[C@@H]4O[C@@H]4OC(C)[C@H](O[C@@H]5O[C@@H](CO)[C@H](O)[C@@H]5O)[C@@H](O[C@@H]5OC(CO)[C@@H](O)[C@@H](O)[C@@H]5O)[C@@H]4O)OC(=O)C(\\\\CO)=C\\\\CC[C@](C)(O[C@@H]4OC(C)[C@@H](OC(=O)C(\\\\CO)=C\\\\CCC(C)(O)C=C)[C@@H](O)[C@@H]4O)C=C)C3(C)C)[C@@H](NC(C)=O)[C@H](O)[C@@H]2O)[C@@H](O[C@@H]2OC[C@@H](O)[C@@H](O)[C@@H]2O)[C@H](O)[C@H]1O').sum()"
   ]
  },
  {
   "cell_type": "code",
   "execution_count": null,
   "metadata": {},
   "outputs": [],
   "source": [
    "\n",
    "perturbToOnehot = {}\n",
    "for i in range(trt_whole_list.shape[0]):\n",
    "    perturbToOnehot[trt_whole_list[i]] = i"
   ]
  },
  {
   "cell_type": "code",
   "execution_count": 62,
   "metadata": {},
   "outputs": [
    {
     "data": {
      "text/plain": [
       "['CCCN1CCCC2Cc3n[nH]cc3CC21',\n",
       " 'CCCN1CCCC2Cc3n[nH]cc3CC21',\n",
       " 'CCCN1CCCC2Cc3n[nH]cc3CC21',\n",
       " 'O=C1CC(Oc2ccccc12)c3ccccc3',\n",
       " 'O=C1CC(Oc2ccccc12)c3ccccc3',\n",
       " 'O=C1CC(Oc2ccccc12)c3ccccc3',\n",
       " 'C[C@@H]1O[C@@H](OC[C@H]2O[C@@H](Oc3c(oc4cc(O)cc(O)c4c3=O)-c3ccc(O)c(O)c3)[C@H](O)[C@@H](O)[C@@H]2O)[C@H](O)[C@H](O)[C@H]1O',\n",
       " 'C[C@@H]1O[C@@H](OC[C@H]2O[C@@H](Oc3c(oc4cc(O)cc(O)c4c3=O)-c3ccc(O)c(O)c3)[C@H](O)[C@@H](O)[C@@H]2O)[C@H](O)[C@H](O)[C@H]1O',\n",
       " 'C[C@@H]1O[C@@H](OC[C@H]2O[C@@H](Oc3c(oc4cc(O)cc(O)c4c3=O)-c3ccc(O)c(O)c3)[C@H](O)[C@@H](O)[C@@H]2O)[C@H](O)[C@H](O)[C@H]1O',\n",
       " 'N(Cc1ccccc1)c1ncnc2nc[nH]c12',\n",
       " 'N(Cc1ccccc1)c1ncnc2nc[nH]c12',\n",
       " 'N(Cc1ccccc1)c1ncnc2nc[nH]c12',\n",
       " 'C[C@@H](NC(=O)/C(=C/c1ccc(O)c(O)c1)/C#N)c2ccccc2',\n",
       " 'C[C@@H](NC(=O)/C(=C/c1ccc(O)c(O)c1)/C#N)c2ccccc2',\n",
       " 'C[C@@H](NC(=O)/C(=C/c1ccc(O)c(O)c1)/C#N)c2ccccc2',\n",
       " 'Oc1cc(C=C(C#N)C#N)cc(O)c1O',\n",
       " 'Oc1cc(C=C(C#N)C#N)cc(O)c1O',\n",
       " 'Oc1cc(C=C(C#N)C#N)cc(O)c1O',\n",
       " 'COC(=O)c1ccc(NCc2cc(O)ccc2O)cc1',\n",
       " 'COC(=O)c1ccc(NCc2cc(O)ccc2O)cc1',\n",
       " 'COC(=O)c1ccc(NCc2cc(O)ccc2O)cc1',\n",
       " 'NC(=O)C(=Cc1ccc(O)c(O)c1)C#N',\n",
       " 'NC(=O)C(=Cc1ccc(O)c(O)c1)C#N',\n",
       " 'NC(=O)C(=Cc1ccc(O)c(O)c1)C#N',\n",
       " 'CC(N)C(=O)OC(C)(C)Cc1ccc(Cl)cc1',\n",
       " 'CC(N)C(=O)OC(C)(C)Cc1ccc(Cl)cc1',\n",
       " 'CC(N)C(=O)OC(C)(C)Cc1ccc(Cl)cc1',\n",
       " 'CCCSc1ccc2[nH]c(NC(=O)OC)nc2c1',\n",
       " 'CCCSc1ccc2[nH]c(NC(=O)OC)nc2c1',\n",
       " 'CCCSc1ccc2[nH]c(NC(=O)OC)nc2c1',\n",
       " 'CCC(=O)OCC(=O)[C@@]1(OC(=O)CC)[C@H](C)CC2C3[C@H](Cl)CC4=CC(=O)C=C[C@]4(C)C3[C@@H](O)C[C@@]21C',\n",
       " 'CCC(=O)OCC(=O)[C@@]1(OC(=O)CC)[C@H](C)CC2C3[C@H](Cl)CC4=CC(=O)C=C[C@]4(C)C3[C@@H](O)C[C@@]21C',\n",
       " 'COc1cc2nc(nc(N)c2cc1OC)N(C)CCCNC(=O)C1CCCO1',\n",
       " 'COc1cc2nc(nc(N)c2cc1OC)N(C)CCCNC(=O)C1CCCO1',\n",
       " 'COc1cc2nc(nc(N)c2cc1OC)N(C)CCCNC(=O)C1CCCO1',\n",
       " 'COCCCOc1cc(C[C@@H](C[C@H](N)[C@@H](O)C[C@@H](C(C)C)C(=O)NCC(C)(C)C(N)=O)C(C)C)ccc1OC',\n",
       " 'COCCCOc1cc(C[C@@H](C[C@H](N)[C@@H](O)C[C@@H](C(C)C)C(=O)NCC(C)(C)C(N)=O)C(C)C)ccc1OC',\n",
       " 'COCCCOc1cc(C[C@@H](C[C@H](N)[C@@H](O)C[C@@H](C(C)C)C(=O)NCC(C)(C)C(N)=O)C(C)C)ccc1OC',\n",
       " 'CC(C)NCC(O)COc1ccccc1CC=C',\n",
       " 'CC(C)NCC(O)COc1ccccc1CC=C',\n",
       " 'CC(C)NCC(O)COc1ccccc1CC=C',\n",
       " 'OC(=O)CN1C(=O)c2cccc3cccc(C1=O)c23',\n",
       " 'OC(=O)CN1C(=O)c2cccc3cccc(C1=O)c23',\n",
       " 'OC(=O)CN1C(=O)c2cccc3cccc(C1=O)c23',\n",
       " 'NS(=O)(=O)c1cc2c(NC(CSCC=C)NS2(=O)=O)cc1Cl',\n",
       " 'NS(=O)(=O)c1cc2c(NC(CSCC=C)NS2(=O)=O)cc1Cl',\n",
       " 'NS(=O)(=O)c1cc2c(NC(CSCC=C)NS2(=O)=O)cc1Cl',\n",
       " 'C[C@]12C=CC3=C4CCC(=O)C=C4CCC3C1CC[C@@]2(O)CC=C',\n",
       " 'C[C@]12C=CC3=C4CCC(=O)C=C4CCC3C1CC[C@@]2(O)CC=C',\n",
       " 'C[C@]12C=CC3=C4CCC(=O)C=C4CCC3C1CC[C@@]2(O)CC=C',\n",
       " 'CN(C)c1nc(nc(n1)N(C)C)N(C)C',\n",
       " 'CN(C)c1nc(nc(n1)N(C)C)N(C)C',\n",
       " 'CN(CC[C@@H](Oc1ccc(cc1)-c1ccccc1)c1ccc(F)cc1)CC(O)=O',\n",
       " 'CN(CC[C@@H](Oc1ccc(cc1)-c1ccccc1)c1ccc(F)cc1)CC(O)=O',\n",
       " 'CN(CC[C@@H](Oc1ccc(cc1)-c1ccccc1)c1ccc(F)cc1)CC(O)=O',\n",
       " 'Cc1c(nn(c1-c1ccc(I)cc1)-c1ccc(Cl)cc1Cl)C(=O)NN1CCOCC1',\n",
       " 'Cc1c(nn(c1-c1ccc(I)cc1)-c1ccc(Cl)cc1Cl)C(=O)NN1CCOCC1',\n",
       " 'Cc1c(nn(c1-c1ccc(I)cc1)-c1ccc(Cl)cc1Cl)C(=O)NN1CCOCC1',\n",
       " 'CO[C@@H]1CC2N3CC(O)C2(C=C1)c4cc5OCOc5c(OC)c4C3',\n",
       " 'CO[C@@H]1CC2N3CC(O)C2(C=C1)c4cc5OCOc5c(OC)c4C3',\n",
       " 'CO[C@@H]1CC2N3CC(O)C2(C=C1)c4cc5OCOc5c(OC)c4C3',\n",
       " 'CC(=O)OCC(=O)[C@@]12OC3(CCCC3)O[C@@H]1CC1C3CCC4=CC(=O)C=C[C@]4(C)[C@@]3(F)[C@@H](O)C[C@]21C',\n",
       " 'CC(=O)OCC(=O)[C@@]12OC3(CCCC3)O[C@@H]1CC1C3CCC4=CC(=O)C=C[C@]4(C)[C@@]3(F)[C@@H](O)C[C@]21C',\n",
       " 'CC(=O)OCC(=O)[C@@]12OC3(CCCC3)O[C@@H]1CC1C3CCC4=CC(=O)C=C[C@]4(C)[C@@]3(F)[C@@H](O)C[C@]21C',\n",
       " 'CC(C)(C)c1ccc(C=CC(=O)Nc2ccc3OCCOc3c2)cc1',\n",
       " 'CC(C)(C)c1ccc(C=CC(=O)Nc2ccc3OCCOc3c2)cc1',\n",
       " 'CC(C)(C)c1ccc(C=CC(=O)Nc2ccc3OCCOc3c2)cc1',\n",
       " 'Fc1ccc(OCCCN2CCC3(CC2)N(CNC3=O)c4ccccc4)cc1',\n",
       " 'Fc1ccc(OCCCN2CCC3(CC2)N(CNC3=O)c4ccccc4)cc1',\n",
       " 'Fc1ccc(OCCCN2CCC3(CC2)N(CNC3=O)c4ccccc4)cc1',\n",
       " 'CCC1(CCC(=O)NC1=O)c1ccc(N)cc1',\n",
       " 'CCC1(CCC(=O)NC1=O)c1ccc(N)cc1',\n",
       " 'CCC1(CCC(=O)NC1=O)c1ccc(N)cc1',\n",
       " 'CC(CC(C(N)=O)(c1ccccc1)c1ccccc1)N(C)C',\n",
       " 'CC(CC(C(N)=O)(c1ccccc1)c1ccccc1)N(C)C',\n",
       " 'CC(CC(C(N)=O)(c1ccccc1)c1ccccc1)N(C)C',\n",
       " 'CCCCc1oc2ccccc2c1C(=O)c1cc(I)c(OCCN(CC)CC)c(I)c1',\n",
       " 'CCCCc1oc2ccccc2c1C(=O)c1cc(I)c(OCCN(CC)CC)c(I)c1',\n",
       " 'CCCCc1oc2ccccc2c1C(=O)c1cc(I)c(OCCN(CC)CC)c(I)c1',\n",
       " 'CCOC(=O)C1=C(NC(=C(C1C2=CC=CC=C2Cl)C(=O)OC)C)COCCN',\n",
       " 'CCOC(=O)C1=C(NC(=C(C1C2=CC=CC=C2Cl)C(=O)OC)C)COCCN',\n",
       " 'CCOC(=O)C1=C(NC(=C(C1C2=CC=CC=C2Cl)C(=O)OC)C)COCCN',\n",
       " 'Clc1ccc2Oc3ccccc3N=C(N3CCNCC3)c2c1',\n",
       " 'Clc1ccc2Oc3ccccc3N=C(N3CCNCC3)c2c1',\n",
       " 'Clc1ccc2Oc3ccccc3N=C(N3CCNCC3)c2c1',\n",
       " 'COc1cc(NS(=O)(=O)C)ccc1Cc2c3ccccc3nc4ccccc24',\n",
       " 'COc1cc(NS(=O)(=O)C)ccc1Cc2c3ccccc3nc4ccccc24',\n",
       " 'COc1cc(NS(=O)(=O)C)ccc1Cc2c3ccccc3nc4ccccc24',\n",
       " 'Clc1ccc2N=C3NC(=O)CN3Cc2c1Cl',\n",
       " 'Clc1ccc2N=C3NC(=O)CN3Cc2c1Cl',\n",
       " 'Clc1ccc2N=C3NC(=O)CN3Cc2c1Cl',\n",
       " 'Cc1cc(=O)n(-c2ccccc2)n1C',\n",
       " 'Cc1cc(=O)n(-c2ccccc2)n1C',\n",
       " 'Cc1cc(=O)n(-c2ccccc2)n1C',\n",
       " 'CC(=O)Oc1ccc(cc1)c2cc(=O)c3c(OC(=O)C)cc(OC(=O)C)cc3o2',\n",
       " 'CC(=O)Oc1ccc(cc1)c2cc(=O)c3c(OC(=O)C)cc(OC(=O)C)cc3o2',\n",
       " 'CC(=O)Oc1ccc(cc1)c2cc(=O)c3c(OC(=O)C)cc(OC(=O)C)cc3o2',\n",
       " 'COc1ccccc1N1CCN(CCN2C(=O)c3ccccc3C(C)(C)C2=O)CC1',\n",
       " 'COc1ccccc1N1CCN(CCN2C(=O)c3ccccc3C(C)(C)C2=O)CC1',\n",
       " 'COc1ccccc1N1CCN(CCN2C(=O)c3ccccc3C(C)(C)C2=O)CC1',\n",
       " 'C[C@@H]1CC[C@@]2(CC[C@]3(C)C(=CCC4[C@@]5(C)C[C@@H](O)[C@H](O)[C@@](C)(CO)C5CC[C@@]34C)[C@@H]2[C@H]1C)C(O)=O',\n",
       " 'C[C@@H]1CC[C@@]2(CC[C@]3(C)C(=CCC4[C@@]5(C)C[C@@H](O)[C@H](O)[C@@](C)(CO)C5CC[C@@]34C)[C@@H]2[C@H]1C)C(O)=O',\n",
       " 'C[C@@H]1CC[C@@]2(CC[C@]3(C)C(=CCC4[C@@]5(C)C[C@@H](O)[C@H](O)[C@@](C)(CO)C5CC[C@@]34C)[C@@H]2[C@H]1C)C(O)=O',\n",
       " 'CC(C)(C)c1onc(O)c1CC(N)C(O)=O',\n",
       " 'CC(C)(C)c1onc(O)c1CC(N)C(O)=O',\n",
       " 'CC(C)(C)c1onc(O)c1CC(N)C(O)=O',\n",
       " 'Fc1ccc(cc1)C(=O)CCCN1CCN(CC1)c1ccccn1',\n",
       " 'Fc1ccc(cc1)C(=O)CCCN1CCN(CC1)c1ccccn1',\n",
       " 'C[C@H](N)C(=O)N[C@@H](C)C(=O)N[C@@H](Cc1ccccc1)C(=O)CCl',\n",
       " 'C[C@H](N)C(=O)N[C@@H](C)C(=O)N[C@@H](Cc1ccccc1)C(=O)CCl',\n",
       " 'C[C@H](N)C(=O)N[C@@H](C)C(=O)N[C@@H](Cc1ccccc1)C(=O)CCl',\n",
       " 'CC(=O)[C@H]1CC[C@H]2[C@@H]3CC[C@H]4C[C@H](O)CC[C@]4(C)[C@H]3C(=O)C[C@]12C',\n",
       " 'CC(=O)[C@H]1CC[C@H]2[C@@H]3CC[C@H]4C[C@H](O)CC[C@]4(C)[C@H]3C(=O)C[C@]12C',\n",
       " 'CC(=O)[C@H]1CC[C@H]2[C@@H]3CC[C@H]4C[C@H](O)CC[C@]4(C)[C@H]3C(=O)C[C@]12C',\n",
       " 'Nc1c(Br)cc(Br)cc1CN[C@H]1CC[C@H](O)CC1',\n",
       " 'Nc1c(Br)cc(Br)cc1CN[C@H]1CC[C@H](O)CC1',\n",
       " 'Nc1c(Br)cc(Br)cc1CN[C@H]1CC[C@H](O)CC1',\n",
       " 'Nc1ccc2C(=O)NC(=O)c3cccc1c32',\n",
       " 'Nc1ccc2C(=O)NC(=O)c3cccc1c32',\n",
       " 'Nc1ccc2C(=O)NC(=O)c3cccc1c32',\n",
       " 'CCN1CCCC1CNC(=O)c1cc(c(N)cc1OC)S(=O)(=O)CC',\n",
       " 'CCN1CCCC1CNC(=O)c1cc(c(N)cc1OC)S(=O)(=O)CC',\n",
       " 'CCN1CCCC1CNC(=O)c1cc(c(N)cc1OC)S(=O)(=O)CC',\n",
       " 'CCN(CC)Cc1cc(Nc2ccnc3cc(Cl)ccc23)ccc1O',\n",
       " 'CCN(CC)Cc1cc(Nc2ccnc3cc(Cl)ccc23)ccc1O',\n",
       " 'CCN(CC)Cc1cc(Nc2ccnc3cc(Cl)ccc23)ccc1O',\n",
       " 'CCNC(=O)N1CCN(CCCC(c2ccc(F)cc2)c2ccc(F)cc2)CC1',\n",
       " 'CCNC(=O)N1CCN(CCCC(c2ccc(F)cc2)c2ccc(F)cc2)CC1',\n",
       " 'CCNC(=O)N1CCN(CCCC(c2ccc(F)cc2)c2ccc(F)cc2)CC1',\n",
       " 'CCC(C)(CN(C)C)OC(=O)c1ccccc1',\n",
       " 'CCC(C)(CN(C)C)OC(=O)c1ccccc1',\n",
       " 'CCC(C)(CN(C)C)OC(=O)c1ccccc1',\n",
       " 'Clc1cccc(SC2CCNCC2)n1',\n",
       " 'Clc1cccc(SC2CCNCC2)n1',\n",
       " 'Clc1cccc(SC2CCNCC2)n1',\n",
       " 'O=C1NC(=O)c2c1c1c3ccccc3[nH]c1c1[nH]c3ccccc3c21',\n",
       " 'O=C1NC(=O)c2c1c1c3ccccc3[nH]c1c1[nH]c3ccccc3c21',\n",
       " 'O=C1NC(=O)c2c1c1c3ccccc3[nH]c1c1[nH]c3ccccc3c21',\n",
       " 'CCCNC(C)C(=O)Nc1c(C)csc1C(=O)OC',\n",
       " 'CCCNC(C)C(=O)Nc1c(C)csc1C(=O)OC',\n",
       " 'CCCNC(C)C(=O)Nc1c(C)csc1C(=O)OC',\n",
       " 'C[C@@H]1CC[C@@]2(CC[C@]3(C)C(=CC[C@@H]4[C@@]5(C)C[C@@H](O)[C@H](O)[C@@](C)(CO)C5CC[C@]43C)[C@@H]2[C@H]1C)C(=O)O[C@@H]6O[C@H](COC7O[C@H](CO)[C@@H](OC8O[C@@H](C)[C@H](O)[C@@H](O)[C@H]8O)[C@H](O)[C@H]7O)[C@@H](O)[C@H](O)[C@H]6O',\n",
       " 'C[C@@H]1CC[C@@]2(CC[C@]3(C)C(=CC[C@@H]4[C@@]5(C)C[C@@H](O)[C@H](O)[C@@](C)(CO)C5CC[C@]43C)[C@@H]2[C@H]1C)C(=O)O[C@@H]6O[C@H](COC7O[C@H](CO)[C@@H](OC8O[C@@H](C)[C@H](O)[C@@H](O)[C@H]8O)[C@H](O)[C@H]7O)[C@@H](O)[C@H](O)[C@H]6O',\n",
       " 'C[C@@H]1CC[C@@]2(CC[C@]3(C)C(=CC[C@@H]4[C@@]5(C)C[C@@H](O)[C@H](O)[C@@](C)(CO)C5CC[C@]43C)[C@@H]2[C@H]1C)C(=O)O[C@@H]6O[C@H](COC7O[C@H](CO)[C@@H](OC8O[C@@H](C)[C@H](O)[C@@H](O)[C@H]8O)[C@H](O)[C@H]7O)[C@@H](O)[C@H](O)[C@H]6O',\n",
       " 'Clc1ccc(cc1)C2CCC(CC2)C3C(=O)C(=O)c4ccccc4C3=O',\n",
       " 'Clc1ccc(cc1)C2CCC(CC2)C3C(=O)C(=O)c4ccccc4C3=O',\n",
       " 'Clc1ccc(cc1)C2CCC(CC2)C3C(=O)C(=O)c4ccccc4C3=O',\n",
       " 'CSCC[C@H](NC(=O)[C@H](Cc1ccccc1)NC[C@@H](NC[C@@H](N)CS)C(C)C)C(=O)O',\n",
       " 'CSCC[C@H](NC(=O)[C@H](Cc1ccccc1)NC[C@@H](NC[C@@H](N)CS)C(C)C)C(=O)O',\n",
       " 'CSCC[C@H](NC(=O)[C@H](Cc1ccccc1)NC[C@@H](NC[C@@H](N)CS)C(C)C)C(=O)O',\n",
       " 'CC(C)(c1ccc(OCC2CO2)cc1)c3ccc(OCC4CO4)cc3',\n",
       " 'CC(C)(c1ccc(OCC2CO2)cc1)c3ccc(OCC4CO4)cc3',\n",
       " 'CC(C)(c1ccc(OCC2CO2)cc1)c3ccc(OCC4CO4)cc3',\n",
       " 'NS(=O)(=O)c1cc2c(NC(Cc3ccccc3)NS2(=O)=O)cc1C(F)(F)F',\n",
       " 'NS(=O)(=O)c1cc2c(NC(Cc3ccccc3)NS2(=O)=O)cc1C(F)(F)F',\n",
       " 'NS(=O)(=O)c1cc2c(NC(Cc3ccccc3)NS2(=O)=O)cc1C(F)(F)F',\n",
       " 'O=C(Oc1cccc2cccnc12)c1ccccc1',\n",
       " 'O=C(Oc1cccc2cccnc12)c1ccccc1',\n",
       " 'O=C(Oc1cccc2cccnc12)c1ccccc1',\n",
       " 'NS(=O)(=O)c1cc2c(cc1Cl)N=C(CSCc1ccccc1)NS2(=O)=O',\n",
       " 'NS(=O)(=O)c1cc2c(cc1Cl)N=C(CSCc1ccccc1)NS2(=O)=O',\n",
       " 'NS(=O)(=O)c1cc2c(cc1Cl)N=C(CSCc1ccccc1)NS2(=O)=O',\n",
       " 'CC(C)COCC(CN(Cc1ccccc1)c1ccccc1)N1CCCC1',\n",
       " 'CC(C)COCC(CN(Cc1ccccc1)c1ccccc1)N1CCCC1',\n",
       " 'CC(C)COCC(CN(Cc1ccccc1)c1ccccc1)N1CCCC1',\n",
       " 'C[C@H]1CC2C3CCC4=CC(=O)C=C[C@]4(C)[C@@]3(F)[C@@H](O)C[C@]2(C)[C@@]1(O)C(=O)CO',\n",
       " 'C[C@H]1CC2C3CCC4=CC(=O)C=C[C@]4(C)[C@@]3(F)[C@@H](O)C[C@]2(C)[C@@]1(O)C(=O)CO',\n",
       " 'C[C@H]1CC2C3CCC4=CC(=O)C=C[C@]4(C)[C@@]3(F)[C@@H](O)C[C@]2(C)[C@@]1(O)C(=O)CO',\n",
       " 'CCC(=O)OCC(=O)[C@@]1(OC(=O)CC)[C@@H](C)CC2C3CCC4=CC(=O)C=C[C@]4(C)C3(F)[C@@H](O)C[C@]12C',\n",
       " 'CCC(=O)OCC(=O)[C@@]1(OC(=O)CC)[C@@H](C)CC2C3CCC4=CC(=O)C=C[C@]4(C)C3(F)[C@@H](O)C[C@]12C',\n",
       " 'CCC(=O)OCC(=O)[C@@]1(OC(=O)CC)[C@@H](C)CC2C3CCC4=CC(=O)C=C[C@]4(C)C3(F)[C@@H](O)C[C@]12C',\n",
       " 'C[C@H]1CC2C3CCC4=CC(=O)C=C[C@]4(C)[C@@]3(F)[C@@H](O)C[C@]2(C)[C@@]1(O)C(=O)COC(C)=O',\n",
       " 'C[C@H]1CC2C3CCC4=CC(=O)C=C[C@]4(C)[C@@]3(F)[C@@H](O)C[C@]2(C)[C@@]1(O)C(=O)COC(C)=O',\n",
       " 'C[C@H]1CC2C3CCC4=CC(=O)C=C[C@]4(C)[C@@]3(F)[C@@H](O)C[C@]2(C)[C@@]1(O)C(=O)COC(C)=O',\n",
       " 'CC(C)C(N1C(=O)/C(=C/c2ccccc2)/SC1=S)C(=O)O',\n",
       " 'CC(C)C(N1C(=O)/C(=C/c2ccccc2)/SC1=S)C(=O)O',\n",
       " 'CC(C)C(N1C(=O)/C(=C/c2ccccc2)/SC1=S)C(=O)O',\n",
       " 'CCN(CC)CC1CCN(CC1)c1ncc2ncnc(Nc3ccc(F)c(Cl)c3)c2n1',\n",
       " 'CCN(CC)CC1CCN(CC1)c1ncc2ncnc(Nc3ccc(F)c(Cl)c3)c2n1',\n",
       " 'CCN(CC)CC1CCN(CC1)c1ncc2ncnc(Nc3ccc(F)c(Cl)c3)c2n1',\n",
       " 'CN1CCC(CC1)Nc1ncc2ncnc(Nc3ccc(F)c(Cl)c3)c2n1',\n",
       " 'CN1CCC(CC1)Nc1ncc2ncnc(Nc3ccc(F)c(Cl)c3)c2n1',\n",
       " 'CN1CCC(CC1)Nc1ncc2ncnc(Nc3ccc(F)c(Cl)c3)c2n1',\n",
       " 'OC(CCN1CCCCC1)(C1CC2CC1C=C2)c1ccccc1',\n",
       " 'OC(CCN1CCCCC1)(C1CC2CC1C=C2)c1ccccc1',\n",
       " 'OC(CCN1CCCCC1)(C1CC2CC1C=C2)c1ccccc1',\n",
       " 'CC(=O)Oc1ccc(cc1)C(c1ccc(OC(C)=O)cc1)c1ccccn1',\n",
       " 'CC(=O)Oc1ccc(cc1)C(c1ccc(OC(C)=O)cc1)c1ccccn1',\n",
       " 'CC(=O)Oc1ccc(cc1)C(c1ccc(OC(C)=O)cc1)c1ccccn1',\n",
       " 'CC(C)NCC(O)COc1ccc(COCCOC(C)C)cc1',\n",
       " 'CC(C)NCC(O)COc1ccc(COCCOC(C)C)cc1',\n",
       " 'CC(C)NCC(O)COc1ccc(COCCOC(C)C)cc1',\n",
       " 'Oc1c(Cl)cc(Cl)cc1Sc1cc(Cl)cc(Cl)c1O',\n",
       " 'Oc1c(Cl)cc(Cl)cc1Sc1cc(Cl)cc(Cl)c1O',\n",
       " 'Oc1c(Cl)cc(Cl)cc1Sc1cc(Cl)cc(Cl)c1O',\n",
       " 'CN(C)c1cccc2c(cccc12)S(=O)(=O)Nc1onc(C)c1C',\n",
       " 'CN(C)c1cccc2c(cccc12)S(=O)(=O)Nc1onc(C)c1C',\n",
       " 'CN(C)c1cccc2c(cccc12)S(=O)(=O)Nc1onc(C)c1C',\n",
       " 'OC(=O)COc1cccc(c1)-c1ocnc1-c1nc(c(o1)-c1ccccc1)-c1ccccc1',\n",
       " 'OC(=O)COc1cccc(c1)-c1ocnc1-c1nc(c(o1)-c1ccccc1)-c1ccccc1',\n",
       " 'OC(=O)COc1cccc(c1)-c1ocnc1-c1nc(c(o1)-c1ccccc1)-c1ccccc1',\n",
       " 'Oc1ccc2CC3N(CC4CC4)CC[C@@]45[C@@H](Oc1c24)C(=O)\\\\C(C[C@@]35O)=C\\\\c1ccccc1',\n",
       " 'Oc1ccc2CC3N(CC4CC4)CC[C@@]45[C@@H](Oc1c24)C(=O)\\\\C(C[C@@]35O)=C\\\\c1ccccc1',\n",
       " 'Oc1ccc2CC3N(CC4CC4)CC[C@@]45[C@@H](Oc1c24)C(=O)\\\\C(C[C@@]35O)=C\\\\c1ccccc1',\n",
       " 'Oc1ccc2C3c4cc(O)c(O)cc4CC3(O)COc2c1',\n",
       " 'Oc1ccc2C3c4cc(O)c(O)cc4CC3(O)COc2c1',\n",
       " 'Oc1ccc2C3c4cc(O)c(O)cc4CC3(O)COc2c1',\n",
       " 'Clc1ccc(CC(=O)N2CCCCC2CN2CCCC2)cc1Cl',\n",
       " 'Clc1ccc(CC(=O)N2CCCCC2CN2CCCC2)cc1Cl',\n",
       " 'Clc1ccc(CC(=O)N2CCCCC2CN2CCCC2)cc1Cl',\n",
       " 'CN(Cc1cc(Br)cc(Br)c1N)C1CCCCC1',\n",
       " 'CN(Cc1cc(Br)cc(Br)c1N)C1CCCCC1',\n",
       " 'CN(Cc1cc(Br)cc(Br)c1N)C1CCCCC1',\n",
       " 'CC(C)CC1N2C(=O)[C@](NC(=O)C3CN(C)[C@@H]4Cc5c(Br)[nH]c6cccc(C4=C3)c56)(OC2(O)[C@@H]2CCCN2C1=O)C(C)C',\n",
       " 'CC(C)CC1N2C(=O)[C@](NC(=O)C3CN(C)[C@@H]4Cc5c(Br)[nH]c6cccc(C4=C3)c56)(OC2(O)[C@@H]2CCCN2C1=O)C(C)C',\n",
       " 'CC(C)CC1N2C(=O)[C@](NC(=O)C3CN(C)[C@@H]4Cc5c(Br)[nH]c6cccc(C4=C3)c56)(OC2(O)[C@@H]2CCCN2C1=O)C(C)C',\n",
       " 'CN(C)CCC(c1ccc(Br)cc1)c1ccccn1',\n",
       " 'CN(C)CCC(c1ccc(Br)cc1)c1ccccn1',\n",
       " 'CN(C)CCC(c1ccc(Br)cc1)c1ccccn1',\n",
       " 'COc1cc2N3C4[C@@H]5C(CC3=O)OCC=C3CN6CC[C@]4([C@@H]6C[C@H]53)c2cc1OC',\n",
       " 'COc1cc2N3C4[C@@H]5C(CC3=O)OCC=C3CN6CC[C@]4([C@@H]6C[C@H]53)c2cc1OC',\n",
       " 'COc1cc2N3C4[C@@H]5C(CC3=O)OCC=C3CN6CC[C@]4([C@@H]6C[C@H]53)c2cc1OC',\n",
       " 'C1CN=C(N1)c1ccc2ccccc2n1',\n",
       " 'C1CN=C(N1)c1ccc2ccccc2n1',\n",
       " 'C1CN=C(N1)c1ccc2ccccc2n1',\n",
       " 'C1CN=C(N1)c2cc3ccccc3cn2',\n",
       " 'C1CN=C(N1)c2cc3ccccc3cn2',\n",
       " 'C1CN=C(N1)c2cc3ccccc3cn2',\n",
       " 'CCCC1O[C@@H]2CC3C4CCC5=CC(=O)C=CC5(C)C4[C@@H](O)CC3(C)[C@@]2(O1)C(=O)CO',\n",
       " 'CCCC1O[C@@H]2CC3C4CCC5=CC(=O)C=CC5(C)C4[C@@H](O)CC3(C)[C@@]2(O1)C(=O)CO',\n",
       " 'CCCC1O[C@@H]2CC3C4CCC5=CC(=O)C=CC5(C)C4[C@@H](O)CC3(C)[C@@]2(O1)C(=O)CO',\n",
       " 'CC(NC(C)(C)C)C(=O)c1cccc(Cl)c1',\n",
       " 'CC(NC(C)(C)C)C(=O)c1cccc(Cl)c1',\n",
       " 'CC(NC(C)(C)C)C(=O)c1cccc(Cl)c1',\n",
       " 'O=C1CC2(CCCC2)CC(=O)N1CCCCN1CCN(CC1)c1ncccn1',\n",
       " 'O=C1CC2(CCCC2)CC(=O)N1CCCCN1CCN(CC1)c1ncccn1',\n",
       " 'O=C1CC2(CCCC2)CC(=O)N1CCCCN1CCN(CC1)c1ncccn1',\n",
       " 'CCCCOC(=O)c1ccc(O)cc1',\n",
       " 'CCCCOC(=O)c1ccc(O)cc1',\n",
       " 'CCCCOC(=O)c1ccc(O)cc1',\n",
       " 'CC1(C)C2C(=NC1=O)c3ccccc3C(=O)C2=O',\n",
       " 'CC1(C)C2C(=NC1=O)c3ccccc3C(=O)C2=O',\n",
       " 'CC1(C)C2C(=NC1=O)c3ccccc3C(=O)C2=O',\n",
       " 'CC(\\\\C=C\\\\c1cccc(Oc2ccc(F)cc2)c1)N(O)C(N)=O',\n",
       " 'CC(\\\\C=C\\\\c1cccc(Oc2ccc(F)cc2)c1)N(O)C(N)=O',\n",
       " 'CC(\\\\C=C\\\\c1cccc(Oc2ccc(F)cc2)c1)N(O)C(N)=O',\n",
       " 'CCC[C@H]1CC2=C(C[C@@H](CC)CC3=C1C(=O)OC3=O)C(=O)OC2=O',\n",
       " 'CCC[C@H]1CC2=C(C[C@@H](CC)CC3=C1C(=O)OC3=O)C(=O)OC2=O',\n",
       " 'CCC[C@H]1CC2=C(C[C@@H](CC)CC3=C1C(=O)OC3=O)C(=O)OC2=O',\n",
       " 'CCOC(=O)C(CCc1ccccc1)NC2CCc3ccccc3N(CC(=O)O)C2=O',\n",
       " 'CCOC(=O)C(CCc1ccccc1)NC2CCc3ccccc3N(CC(=O)O)C2=O',\n",
       " 'CCOC(=O)C(CCc1ccccc1)NC2CCc3ccccc3N(CC(=O)O)C2=O',\n",
       " 'N\\\\C(NCc1ccccc1)=N/C(=O)c1nc(Cl)c(N)nc1N',\n",
       " 'N\\\\C(NCc1ccccc1)=N/C(=O)c1nc(Cl)c(N)nc1N',\n",
       " 'N\\\\C(NCc1ccccc1)=N/C(=O)c1nc(Cl)c(N)nc1N',\n",
       " 'CCCCNc1ccc(cc1)C(=O)OCCOCCOCCOCCOCCOCCOCCOCCOCCOC',\n",
       " 'CCCCNc1ccc(cc1)C(=O)OCCOCCOCCOCCOCCOCCOCCOCCOCCOC',\n",
       " 'CCCCNc1ccc(cc1)C(=O)OCCOCCOCCOCCOCCOCCOCCOCCOCCOC',\n",
       " 'Cc1cc(ccc1N=Nc2cc(c3ccccc3c2N)S(=O)(=O)O)c4ccc(N=Nc5cc(c6ccccc6c5N)S(=O)(=O)O)c(C)c4',\n",
       " 'Cc1cc(ccc1N=Nc2cc(c3ccccc3c2N)S(=O)(=O)O)c4ccc(N=Nc5cc(c6ccccc6c5N)S(=O)(=O)O)c(C)c4',\n",
       " 'Cc1cc(ccc1N=Nc2cc(c3ccccc3c2N)S(=O)(=O)O)c4ccc(N=Nc5cc(c6ccccc6c5N)S(=O)(=O)O)c(C)c4',\n",
       " 'COc1c(O)cc2C(=O)OC3C(O)C(O)C(CO)OC3c2c1O',\n",
       " 'COc1c(O)cc2C(=O)OC3C(O)C(O)C(CO)OC3c2c1O',\n",
       " 'COc1c(O)cc2C(=O)OC3C(O)C(O)C(CO)OC3c2c1O',\n",
       " 'O=C1NC(=O)C(=C1c2c[nH]c3ccccc23)c4c[nH]c5ccccc45',\n",
       " 'O=C1NC(=O)C(=C1c2c[nH]c3ccccc23)c4c[nH]c5ccccc45',\n",
       " 'O=C1NC(=O)C(=C1c2c[nH]c3ccccc23)c4c[nH]c5ccccc45',\n",
       " 'CC(C)C[C@@H]1N2C(=O)[C@](NC(=O)[C@H]3CN(C)C4Cc5c(Br)[nH]c6cccc(C4=C3)c56)(O[C@@]2(O)[C@@H]7CCCN7C1=O)C(C)C',\n",
       " 'CC(C)C[C@@H]1N2C(=O)[C@](NC(=O)[C@H]3CN(C)C4Cc5c(Br)[nH]c6cccc(C4=C3)c56)(O[C@@]2(O)[C@@H]7CCCN7C1=O)C(C)C',\n",
       " 'CC(C)C[C@@H]1N2C(=O)[C@](NC(=O)[C@H]3CN(C)C4Cc5c(Br)[nH]c6cccc(C4=C3)c56)(O[C@@]2(O)[C@@H]7CCCN7C1=O)C(C)C',\n",
       " 'CCCC(=O)Nc1ncnc2n(cnc12)[C@@H]3O[C@@H]4OP(=O)(O)OC[C@H]4[C@H]3OC(=O)CCC',\n",
       " 'CCCC(=O)Nc1ncnc2n(cnc12)[C@@H]3O[C@@H]4OP(=O)(O)OC[C@H]4[C@H]3OC(=O)CCC',\n",
       " 'CCCC(=O)Nc1ncnc2n(cnc12)[C@@H]3O[C@@H]4OP(=O)(O)OC[C@H]4[C@H]3OC(=O)CCC',\n",
       " 'CCCC1O[C@@H]2C[C@H]3[C@@H]4CCC5=CC(=O)C=C[C@]5(C)[C@H]4[C@@H](O)C[C@]3(C)[C@@]2(O1)C(=O)CO',\n",
       " 'CCCC1O[C@@H]2C[C@H]3[C@@H]4CCC5=CC(=O)C=C[C@]5(C)[C@H]4[C@@H](O)C[C@]3(C)[C@@]2(O1)C(=O)CO',\n",
       " 'CCCC1O[C@@H]2C[C@H]3[C@@H]4CCC5=CC(=O)C=C[C@]5(C)[C@H]4[C@@H](O)C[C@]3(C)[C@@]2(O1)C(=O)CO',\n",
       " 'CCCC1OC2CC3C4CCC5=CC(=O)C=CC5(C)C4C(O)CC3(C)C2(O1)C(=O)CO',\n",
       " 'CCCC1OC2CC3C4CCC5=CC(=O)C=CC5(C)C4C(O)CC3(C)C2(O1)C(=O)CO',\n",
       " 'CCCC1OC2CC3C4CCC5=CC(=O)C=CC5(C)C4C(O)CC3(C)C2(O1)C(=O)CO',\n",
       " 'CCCCCCCCCCCCC\\\\C=C\\\\[C@@H](O)[C@H](CO)NC(C)=O',\n",
       " 'CCCCCCCCCCCCC\\\\C=C\\\\[C@@H](O)[C@H](CO)NC(C)=O',\n",
       " 'CCCCCCCCCCCCC\\\\C=C\\\\[C@@H](O)[C@H](CO)NC(C)=O',\n",
       " 'CCCNC(=O)[C@H]1O[C@@H]1C(=O)N[C@@H](C(C)CC)C(=O)N2CCC[C@H]2C(=O)OC',\n",
       " 'CCCNC(=O)[C@H]1O[C@@H]1C(=O)N[C@@H](C(C)CC)C(=O)N2CCC[C@H]2C(=O)OC',\n",
       " 'CCCNC(=O)[C@H]1O[C@@H]1C(=O)N[C@@H](C(C)CC)C(=O)N2CCC[C@H]2C(=O)OC',\n",
       " 'Cn1cnc2n(C)c(=O)n(C)c(=O)c12',\n",
       " 'Cn1cnc2n(C)c(=O)n(C)c(=O)c12',\n",
       " 'Cn1cnc2n(C)c(=O)n(C)c(=O)c12',\n",
       " 'CCOc1nc2cccc(C(=O)OC(C)OC(=O)OC3CCCCC3)c2n1Cc1ccc(cc1)-c1ccccc1-c1nnn[nH]1',\n",
       " 'CCOc1nc2cccc(C(=O)OC(C)OC(=O)OC3CCCCC3)c2n1Cc1ccc(cc1)-c1ccccc1-c1nnn[nH]1',\n",
       " 'CCOc1nc2cccc(C(=O)OC(C)OC(=O)OC3CCCCC3)c2n1Cc1ccc(cc1)-c1ccccc1-c1nnn[nH]1',\n",
       " 'C[C@]12CCC3C(C=CC4=CC(=O)CC[C@]34C)C1CC[C@@]2(O)CCC(O)=O',\n",
       " 'C[C@]12CCC3C(C=CC4=CC(=O)CC[C@]34C)C1CC[C@@]2(O)CCC(O)=O',\n",
       " 'C[C@]12CCC3C(C=CC4=CC(=O)CC[C@]34C)C1CC[C@@]2(O)CCC(O)=O',\n",
       " 'NC(=O)N1c2ccccc2C=Cc2ccccc12',\n",
       " 'NC(=O)N1c2ccccc2C=Cc2ccccc12',\n",
       " 'NC(=O)N1c2ccccc2C=Cc2ccccc12',\n",
       " 'CN(C)CCOC(c1ccc(Cl)cc1)c1ccccn1',\n",
       " 'CN(C)CCOC(c1ccc(Cl)cc1)c1ccccn1',\n",
       " 'CN(C)CCOC(c1ccc(Cl)cc1)c1ccccn1',\n",
       " 'COc1ccccc1OCCNCC(O)COc1cccc2[nH]c3ccccc3c12',\n",
       " 'COc1ccccc1OCCNCC(O)COc1cccc2[nH]c3ccccc3c12',\n",
       " 'COc1ccccc1OCCNCC(O)COc1cccc2[nH]c3ccccc3c12',\n",
       " 'Cc1ccc(cc1)-c1cc(nn1-c1ccc(cc1)S(N)(=O)=O)C(F)(F)F',\n",
       " 'Cc1ccc(cc1)-c1cc(nn1-c1ccc(cc1)S(N)(=O)=O)C(F)(F)F',\n",
       " 'Cc1ccc(cc1)-c1cc(nn1-c1ccc(cc1)S(N)(=O)=O)C(F)(F)F',\n",
       " 'CC(NCC(O)CP(=O)(O)CC1CCCCC1)c2ccc(Cl)c(Cl)c2',\n",
       " 'CC(NCC(O)CP(=O)(O)CC1CCCCC1)c2ccc(Cl)c(Cl)c2',\n",
       " 'CC(NCC(O)CP(=O)(O)CC1CCCCC1)c2ccc(Cl)c(Cl)c2',\n",
       " 'Nc1ncnc2[nH]nc(Nc3ccc(F)cc3)c12',\n",
       " 'Nc1ncnc2[nH]nc(Nc3ccc(F)cc3)c12',\n",
       " 'Nc1ncnc2[nH]nc(Nc3ccc(F)cc3)c12',\n",
       " 'Nc1nc2ccc(Cl)cc2c2nc(nn12)-c1ccco1',\n",
       " 'Nc1nc2ccc(Cl)cc2c2nc(nn12)-c1ccco1',\n",
       " 'Nc1nc2ccc(Cl)cc2c2nc(nn12)-c1ccco1',\n",
       " 'OC(=O)CCCc1ccc(cc1)N(CCCl)CCCl',\n",
       " 'OC(=O)CCCc1ccc(cc1)N(CCCl)CCCl',\n",
       " 'OC(=O)CCCc1ccc(cc1)N(CCCl)CCCl',\n",
       " 'CC(=O)O[C@@]1(CCC2C3C=C(Cl)C4=CC(=O)CC[C@]4(C)C3CC[C@@]21C)C(=O)C',\n",
       " 'CC(=O)O[C@@]1(CCC2C3C=C(Cl)C4=CC(=O)CC[C@]4(C)C3CC[C@@]21C)C(=O)C',\n",
       " 'CC(=O)O[C@@]1(CCC2C3C=C(Cl)C4=CC(=O)CC[C@]4(C)C3CC[C@@]21C)C(=O)C',\n",
       " 'CCN(CC)CCCC(C)Nc1ccnc2cc(Cl)ccc12',\n",
       " 'CCN(CC)CCCC(C)Nc1ccnc2cc(Cl)ccc12',\n",
       " 'CCN(CC)CCCC(C)Nc1ccnc2cc(Cl)ccc12',\n",
       " 'Oc1c(Cl)cc(Cl)c2cccnc12',\n",
       " 'Oc1c(Cl)cc(Cl)c2cccnc12',\n",
       " 'Oc1c(Cl)cc(Cl)c2cccnc12',\n",
       " 'CN(C)CC[C@H](c1ccc(Cl)cc1)c2ccccn2',\n",
       " 'CN(C)CC[C@H](c1ccc(Cl)cc1)c2ccccn2',\n",
       " 'CN(C)CC[C@H](c1ccc(Cl)cc1)c2ccccn2',\n",
       " 'CN(C)CCCN1c2ccccc2Sc2ccc(Cl)cc12',\n",
       " 'CN(C)CCCN1c2ccccc2Sc2ccc(Cl)cc12',\n",
       " 'CN(C)CCCN1c2ccccc2Sc2ccc(Cl)cc12',\n",
       " 'CN(C)CC\\\\C=C1/c2ccccc2Sc2ccc(Cl)cc12',\n",
       " 'CN(C)CC\\\\C=C1/c2ccccc2Sc2ccc(Cl)cc12',\n",
       " 'CN(C)CC\\\\C=C1/c2ccccc2Sc2ccc(Cl)cc12',\n",
       " 'NS(=O)(=O)c1cc(ccc1Cl)C1(O)NC(=O)c2ccccc12',\n",
       " 'NS(=O)(=O)c1cc(ccc1Cl)C1(O)NC(=O)c2ccccc12',\n",
       " 'NS(=O)(=O)c1cc(ccc1Cl)C1(O)NC(=O)c2ccccc12',\n",
       " 'O=C1CCc2cc(OCCCCc3nnnn3C3CCCCC3)ccc2N1',\n",
       " 'O=C1CCc2cc(OCCCCc3nnnn3C3CCCCC3)ccc2N1',\n",
       " 'O=C1CCc2cc(OCCCCc3nnnn3C3CCCCC3)ccc2N1',\n",
       " 'CN\\\\C(NCCSCc1nc[nH]c1C)=N/C#N',\n",
       " 'CN\\\\C(NCCSCc1nc[nH]c1C)=N/C#N',\n",
       " 'CN(C)CCCSc1ccccc1NC(=O)\\\\C=C\\\\c1ccccc1',\n",
       " 'CN(C)CCCSc1ccccc1NC(=O)\\\\C=C\\\\c1ccccc1',\n",
       " 'CN(C)CCCSc1ccccc1NC(=O)\\\\C=C\\\\c1ccccc1',\n",
       " 'O[C@@H]([C@H]1C[C@@H]2CC[N@]1C[C@@H]2C=C)c1ccnc2ccccc12',\n",
       " 'O[C@@H]([C@H]1C[C@@H]2CC[N@]1C[C@@H]2C=C)c1ccnc2ccccc12',\n",
       " 'O[C@@H]([C@H]1C[C@@H]2CC[N@]1C[C@@H]2C=C)c1ccnc2ccccc12',\n",
       " 'Clc1ccc(cc1)-c1nc2sccn2c1\\\\C=N\\\\OCc1ccc(Cl)c(Cl)c1',\n",
       " 'Clc1ccc(cc1)-c1nc2sccn2c1\\\\C=N\\\\OCc1ccc(Cl)c(Cl)c1',\n",
       " 'Clc1ccc(cc1)-c1nc2sccn2c1\\\\C=N\\\\OCc1ccc(Cl)c(Cl)c1',\n",
       " 'CN1CCC[C@@H]1CCO[C@](C)(c1ccccc1)c1ccc(Cl)cc1',\n",
       " 'CN1CCC[C@@H]1CCO[C@](C)(c1ccccc1)c1ccc(Cl)cc1',\n",
       " 'CN1CCC[C@@H]1CCO[C@](C)(c1ccccc1)c1ccc(Cl)cc1',\n",
       " 'CCC(=O)O[C@@]1([C@@H](C)CC2C3CCC4=CC(=O)C=C[C@]4(C)[C@@]3(F)[C@@H](O)C[C@@]21C)C(=O)CCl',\n",
       " 'CCC(=O)O[C@@]1([C@@H](C)CC2C3CCC4=CC(=O)C=C[C@]4(C)[C@@]3(F)[C@@H](O)C[C@@]21C)C(=O)CCl',\n",
       " 'CCC(=O)O[C@@]1([C@@H](C)CC2C3CCC4=CC(=O)C=C[C@]4(C)[C@@]3(F)[C@@H](O)C[C@@]21C)C(=O)CCl',\n",
       " 'CCOC(=O)C(C)(C)Oc1ccc(Cl)cc1',\n",
       " 'CCOC(=O)C(C)(C)Oc1ccc(Cl)cc1',\n",
       " 'CCOC(=O)C(C)(C)Oc1ccc(Cl)cc1',\n",
       " 'CCN(CC)CCOc1ccc(cc1)C(=C(/Cl)c1ccccc1)\\\\c1ccccc1',\n",
       " 'CCN(CC)CCOc1ccc(cc1)C(=C(/Cl)c1ccccc1)\\\\c1ccccc1',\n",
       " 'CCN(CC)CCOc1ccc(cc1)C(=C(/Cl)c1ccccc1)\\\\c1ccccc1',\n",
       " 'Clc1cccc(Cl)c1N=C1NCCN1',\n",
       " 'Clc1cccc(Cl)c1N=C1NCCN1',\n",
       " 'Clc1cccc(Cl)c1N=C1NCCN1',\n",
       " 'Oc1ccc(NC(=O)CCCc2ccc(cc2)-c2ccccc2F)cc1',\n",
       " 'Oc1ccc(NC(=O)CCCc2ccc(cc2)-c2ccccc2F)cc1',\n",
       " 'Oc1ccc(NC(=O)CCCc2ccc(cc2)-c2ccccc2F)cc1',\n",
       " 'Oc1nc2cc(C#N)c(cc2nc1O)[N+](=O)[O-]',\n",
       " 'Oc1nc2cc(C#N)c(cc2nc1O)[N+](=O)[O-]',\n",
       " 'Oc1nc2cc(C#N)c(cc2nc1O)[N+](=O)[O-]',\n",
       " 'CC(=O)O[C@H]1[C@@H](O)C2C(C)(C)CC[C@H](O)[C@]2(C)[C@@]2(O)C(=O)C[C@@](C)(O[C@]12C)C=C',\n",
       " 'CC(=O)O[C@H]1[C@@H](O)C2C(C)(C)CC[C@H](O)[C@]2(C)[C@@]2(O)C(=O)C[C@@](C)(O[C@]12C)C=C',\n",
       " 'CC(=O)O[C@H]1[C@@H](O)C2C(C)(C)CC[C@H](O)[C@]2(C)[C@@]2(O)C(=O)C[C@@](C)(O[C@]12C)C=C',\n",
       " 'CC(=O)OCC(=O)[C@@]1(O)CCC2C3CCC4=CC(=O)CC[C@]4(C)C3C(=O)C[C@]12C',\n",
       " 'CC(=O)OCC(=O)[C@@]1(O)CCC2C3CCC4=CC(=O)CC[C@]4(C)C3C(=O)C[C@]12C',\n",
       " 'CC(=O)OCC(=O)[C@@]1(O)CCC2C3CCC4=CC(=O)CC[C@]4(C)C3C(=O)C[C@]12C',\n",
       " 'O=c1ccc2ccccc2o1',\n",
       " 'O=c1ccc2ccccc2o1',\n",
       " 'O=c1ccc2ccccc2o1',\n",
       " 'Nc1nc(Nc2ccccc2)nc3n(cnc13)C4OC(CO)C(O)C4O',\n",
       " 'Nc1nc(Nc2ccccc2)nc3n(cnc13)C4OC(CO)C(O)C4O',\n",
       " 'Nc1nc(Nc2ccccc2)nc3n(cnc13)C4OC(CO)C(O)C4O',\n",
       " 'CC(C)(C)NC[C@H](O)COc1cccc2[nH]c(C#N)cc12',\n",
       " 'CC(C)(C)NC[C@H](O)COc1cccc2[nH]c(C#N)cc12',\n",
       " 'C[C@H]1C[C@H](C)C(=O)[C@@H](C1)[C@H](O)CC1CC(=O)NC(=O)C1',\n",
       " 'C[C@H]1C[C@H](C)C(=O)[C@@H](C1)[C@H](O)CC1CC(=O)NC(=O)C1',\n",
       " 'C[C@H]1C[C@H](C)C(=O)[C@@H](C1)[C@H](O)CC1CC(=O)NC(=O)C1',\n",
       " 'CN(C)CCOC(=O)C(c1ccccc1)C1(O)CCCC1',\n",
       " 'CN(C)CCOC(=O)C(c1ccccc1)C1(O)CCCC1',\n",
       " 'CN(C)CCOC(=O)C(c1ccccc1)C1(O)CCCC1',\n",
       " 'CC(=O)C1C(=O)C2C3C(Cc4cccc5[nH]cc3c45)C(C)(C)N2C1=O',\n",
       " 'CC(=O)C1C(=O)C2C3C(Cc4cccc5[nH]cc3c45)C(C)(C)N2C1=O',\n",
       " 'CC(=O)C1C(=O)C2C3C(Cc4cccc5[nH]cc3c45)C(C)(C)N2C1=O',\n",
       " 'CCC1NC(=O)C(C(O)C(C)C\\\\C=C\\\\C)N(C)C(=O)C(C(C)C)N(C)C(=O)C(CC(C)C)N(C)C(=O)C(CC(C)C)N(C)C(=O)C(C)NC(=O)C(C)NC(=O)C(CC(C)C)N(C)C(=O)C(NC(=O)C(CC(C)C)N(C)C(=O)CN(C)C1=O)C(C)C',\n",
       " 'CCC1NC(=O)C(C(O)C(C)C\\\\C=C\\\\C)N(C)C(=O)C(C(C)C)N(C)C(=O)C(CC(C)C)N(C)C(=O)C(CC(C)C)N(C)C(=O)C(C)NC(=O)C(C)NC(=O)C(CC(C)C)N(C)C(=O)C(NC(=O)C(CC(C)C)N(C)C(=O)CN(C)C1=O)C(C)C',\n",
       " 'CCC1NC(=O)C(C(O)C(C)C\\\\C=C\\\\C)N(C)C(=O)C(C(C)C)N(C)C(=O)C(CC(C)C)N(C)C(=O)C(CC(C)C)N(C)C(=O)C(C)NC(=O)C(C)NC(=O)C(CC(C)C)N(C)C(=O)C(NC(=O)C(CC(C)C)N(C)C(=O)CN(C)C1=O)C(C)C',\n",
       " 'C[C@H](\\\\C=C\\\\[C@@H](O)C1CC1)[C@H]1CC[C@@H]2[C@]1(C)CCC\\\\C2=C/C=C1/C[C@@H](O)C[C@H](O)C1=C',\n",
       " 'C[C@H](\\\\C=C\\\\[C@@H](O)C1CC1)[C@H]1CC[C@@H]2[C@]1(C)CCC\\\\C2=C/C=C1/C[C@@H](O)C[C@H](O)C1=C',\n",
       " 'C[C@H](\\\\C=C\\\\[C@@H](O)C1CC1)[C@H]1CC[C@@H]2[C@]1(C)CCC\\\\C2=C/C=C1/C[C@@H](O)C[C@H](O)C1=C',\n",
       " 'CCCCCCCCCCCCCC=CC(O)C(CO)NC(=O)C',\n",
       " 'CCCCCCCCCCCCCC=CC(O)C(CO)NC(=O)C',\n",
       " 'CC(C)(C)c1cc(cc(c1)C(C)(C)C)C(=O)C=Cc2ccc(cc2)C(=O)O',\n",
       " 'CC(C)(C)c1cc(cc(c1)C(C)(C)C)C(=O)C=Cc2ccc(cc2)C(=O)O',\n",
       " 'CC(C)(C)c1cc(cc(c1)C(C)(C)C)C(=O)C=Cc2ccc(cc2)C(=O)O',\n",
       " 'CN1Cc2c3OCOc3ccc2[C@H]4[C@@H](O)Cc5cc6OCOc6cc5[C@H]41',\n",
       " 'CN1Cc2c3OCOc3ccc2[C@H]4[C@@H](O)Cc5cc6OCOc6cc5[C@H]41',\n",
       " 'CN1Cc2c3OCOc3ccc2[C@H]4[C@@H](O)Cc5cc6OCOc6cc5[C@H]41',\n",
       " 'NC(=O)OCC(O)COc1ccc(Cl)cc1',\n",
       " 'NC(=O)OCC(O)COc1ccc(Cl)cc1',\n",
       " 'NC(=O)OCC(O)COc1ccc(Cl)cc1',\n",
       " 'CN(C)[C@H]1[C@@H]2CC3C(C(=O)c4c(O)ccc(Cl)c4[C@@]3(C)O)C(=O)[C@]2(O)C(=O)C(C(N)=O)C1=O',\n",
       " 'CN(C)[C@H]1[C@@H]2CC3C(C(=O)c4c(O)ccc(Cl)c4[C@@]3(C)O)C(=O)[C@]2(O)C(=O)C(C(N)=O)C1=O',\n",
       " 'CN(C)[C@H]1[C@@H]2CC3C(C(=O)c4c(O)ccc(Cl)c4[C@@]3(C)O)C(=O)[C@]2(O)C(=O)C(C(N)=O)C1=O',\n",
       " 'CCS(=O)(=O)N(C)C1C(O)C(C)(C)Oc2ccc(C#N)cc12',\n",
       " 'CCS(=O)(=O)N(C)C1C(O)C(C)(C)Oc2ccc(C#N)cc12',\n",
       " 'CCS(=O)(=O)N(C)C1C(O)C(C)(C)Oc2ccc(C#N)cc12',\n",
       " 'CC(C)NCC(O)c1ccc(N)c(c1)C#N',\n",
       " 'CC(C)NCC(O)c1ccc(N)c(c1)C#N',\n",
       " 'CC(C)NCC(O)c1ccc(N)c(c1)C#N',\n",
       " 'CO[C@H]1CN(CCCOc2ccc(F)cc2)CC[C@H]1NC(=O)c1cc(Cl)c(N)cc1OC',\n",
       " 'CO[C@H]1CN(CCCOc2ccc(F)cc2)CC[C@H]1NC(=O)c1cc(Cl)c(N)cc1OC',\n",
       " 'CO[C@H]1CN(CCCOc2ccc(F)cc2)CC[C@H]1NC(=O)c1cc(Cl)c(N)cc1OC',\n",
       " 'CO[C@@H]1CN(CCCOc2ccc(F)cc2)CC[C@@H]1NC(=O)c3cc(Cl)c(N)cc3OC',\n",
       " 'CO[C@@H]1CN(CCCOc2ccc(F)cc2)CC[C@@H]1NC(=O)c3cc(Cl)c(N)cc3OC',\n",
       " 'CO[C@@H]1CN(CCCOc2ccc(F)cc2)CC[C@@H]1NC(=O)c3cc(Cl)c(N)cc3OC',\n",
       " 'CN(C)CCCC1(OCc2cc(ccc12)C#N)c1ccc(F)cc1',\n",
       " 'CN(C)CCCC1(OCc2cc(ccc12)C#N)c1ccc(F)cc1',\n",
       " 'CN(C)CCCC1(OCc2cc(ccc12)C#N)c1ccc(F)cc1',\n",
       " 'COc1cc(N)c(Cl)cc1C(=O)NC1CCN(Cc2ccccc2)CC1',\n",
       " 'COc1cc(N)c(Cl)cc1C(=O)NC1CCN(Cc2ccccc2)CC1',\n",
       " 'COc1cc(N)c(Cl)cc1C(=O)NC1CCN(Cc2ccccc2)CC1',\n",
       " 'Oc1c(I)cc(Cl)c2cccnc12',\n",
       " 'Oc1c(I)cc(Cl)c2cccnc12',\n",
       " 'Oc1c(I)cc(Cl)c2cccnc12',\n",
       " 'Cc1ccc(CC2(O)CCN(CCOc3ccc(O)cc3)CC2)cc1',\n",
       " 'Cc1ccc(CC2(O)CCN(CCOc3ccc(O)cc3)CC2)cc1',\n",
       " 'Cc1ccc(CC2(O)CCN(CCOc3ccc(O)cc3)CC2)cc1',\n",
       " 'C[C@@]12CC(=O)[C@H]3[C@@H](CCC4=CC(=O)CC[C@]34C)[C@@H]2CC[C@]1(O)C(=O)CO',\n",
       " 'C[C@@]12CC(=O)[C@H]3[C@@H](CCC4=CC(=O)CC[C@]34C)[C@@H]2CC[C@]1(O)C(=O)CO',\n",
       " 'C[C@@]12CC(=O)[C@H]3[C@@H](CCC4=CC(=O)CC[C@]34C)[C@@H]2CC[C@]1(O)C(=O)CO',\n",
       " 'COC(=O)[C@@H]1[C@@H](O)CC[C@H]2CN3CCc4c([nH]c5ccccc45)[C@@H]3C[C@H]12',\n",
       " 'COC(=O)[C@@H]1[C@@H](O)CC[C@H]2CN3CCc4c([nH]c5ccccc45)[C@@H]3C[C@H]12',\n",
       " 'COC(=O)[C@@H]1[C@@H](O)CC[C@H]2CN3CCc4c([nH]c5ccccc45)[C@@H]3C[C@H]12',\n",
       " 'CC1CC(C)C(=O)C(C1)C(O)CC2CC(=O)NC(=O)C2',\n",
       " 'CC1CC(C)C(=O)C(C1)C(O)CC2CC(=O)NC(=O)C2',\n",
       " 'CC1CC(C)C(=O)C(C1)C(O)CC2CC(=O)NC(=O)C2',\n",
       " 'C[C@]12CCC3C(CCC4=Cc5oncc5C[C@]34C)C1CC[C@@]2(O)C#C',\n",
       " 'C[C@]12CCC3C(CCC4=Cc5oncc5C[C@]34C)C1CC[C@@]2(O)C#C',\n",
       " 'C[C@]12CCC3C(CCC4=Cc5oncc5C[C@]34C)C1CC[C@@]2(O)C#C',\n",
       " 'COc1cccc2C(=O)c3c(O)c4C[C@](O)(C[C@H](O[C@H]5C[C@H](N)[C@H](O)[C@H](C)O5)c4c(O)c3C(=O)c12)C(C)=O',\n",
       " 'COc1cccc2C(=O)c3c(O)c4C[C@](O)(C[C@H](O[C@H]5C[C@H](N)[C@H](O)[C@H](C)O5)c4c(O)c3C(=O)c12)C(C)=O',\n",
       " 'COc1cccc2C(=O)c3c(O)c4C[C@](O)(C[C@H](O[C@H]5C[C@H](N)[C@H](O)[C@H](C)O5)c4c(O)c3C(=O)c12)C(C)=O',\n",
       " 'CCCCC1(Cc2cc(OCCCC(O)=O)c(Cl)c(Cl)c2C1=O)C1CCCC1',\n",
       " 'CCCCC1(Cc2cc(OCCCC(O)=O)c(Cl)c(Cl)c2C1=O)C1CCCC1',\n",
       " 'CCCCC1(Cc2cc(OCCCC(O)=O)c(Cl)c(Cl)c2C1=O)C1CCCC1',\n",
       " 'CC1(C)C=CC(=O)[C@@]2(C)C1CC(=O)[C@]3(C)C2CC[C@@]4(C)[C@@H](OC(=O)C5OC543)c6ccoc6',\n",
       " 'CC1(C)C=CC(=O)[C@@]2(C)C1CC(=O)[C@]3(C)C2CC[C@@]4(C)[C@@H](OC(=O)C5OC543)c6ccoc6',\n",
       " 'CC1(C)C=CC(=O)[C@@]2(C)C1CC(=O)[C@]3(C)C2CC[C@@]4(C)[C@@H](OC(=O)C5OC543)c6ccoc6',\n",
       " 'CC1(C)[C@H](O)C=C[C@]2(C)C3CC[C@@]4(C)[C@@H](OC(=O)C=C4[C@]3(C)OC(=O)CC12)c5ccoc5',\n",
       " 'CC1(C)[C@H](O)C=C[C@]2(C)C3CC[C@@]4(C)[C@@H](OC(=O)C=C4[C@]3(C)OC(=O)CC12)c5ccoc5',\n",
       " 'CC1(C)[C@H](O)C=C[C@]2(C)C3CC[C@@]4(C)[C@@H](OC(=O)C=C4[C@]3(C)OC(=O)CC12)c5ccoc5',\n",
       " 'COc1ccc(cc1F)-c1cc(nn1-c1ccc(cc1)S(N)(=O)=O)C(F)F',\n",
       " 'COc1ccc(cc1F)-c1cc(nn1-c1ccc(cc1)S(N)(=O)=O)C(F)F',\n",
       " 'COc1ccc(cc1F)-c1cc(nn1-c1ccc(cc1)S(N)(=O)=O)C(F)F',\n",
       " 'CNCCCN1c2ccccc2CCc2ccccc12',\n",
       " 'CNCCCN1c2ccccc2CCc2ccccc12',\n",
       " 'CNCCCN1c2ccccc2CCc2ccccc12',\n",
       " 'C[C@@H]1CC2C3CCC4=CC(=O)C=C[C@]4(C)[C@@]3(F)[C@@H](O)C[C@]2(C)[C@H]1C(=O)CO',\n",
       " 'C[C@@H]1CC2C3CCC4=CC(=O)C=C[C@]4(C)[C@@]3(F)[C@@H](O)C[C@]2(C)[C@H]1C(=O)CO',\n",
       " 'C[C@@H]1CC2C3CCC4=CC(=O)C=C[C@]4(C)[C@@]3(F)[C@@H](O)C[C@]2(C)[C@H]1C(=O)CO',\n",
       " 'C1CN2Cc3ccccc3N=C2C1',\n",
       " 'C1CN2Cc3ccccc3N=C2C1',\n",
       " 'C1CN2Cc3ccccc3N=C2C1',\n",
       " 'C[C@@H]1CC2C3CCC4=CC(=O)C=C[C@]4(C)[C@@]3(F)[C@@H](O)C[C@]2(C)[C@@]1(O)C(=O)CO',\n",
       " 'C[C@@H]1CC2C3CCC4=CC(=O)C=C[C@]4(C)[C@@]3(F)[C@@H](O)C[C@]2(C)[C@@]1(O)C(=O)CO',\n",
       " 'C[C@@H]1CC2C3CCC4=CC(=O)C=C[C@]4(C)[C@@]3(F)[C@@H](O)C[C@]2(C)[C@@]1(O)C(=O)CO',\n",
       " 'C[C@@H]1CC2C3CCC4=CC(=O)C=C[C@]4(C)[C@@]3(F)[C@@H](O)C[C@]2(C)[C@@]1(O)C(=O)COC(C)=O',\n",
       " 'C[C@@H]1CC2C3CCC4=CC(=O)C=C[C@]4(C)[C@@]3(F)[C@@H](O)C[C@]2(C)[C@@]1(O)C(=O)COC(C)=O',\n",
       " 'C[C@@H]1CC2C3CCC4=CC(=O)C=C[C@]4(C)[C@@]3(F)[C@@H](O)C[C@]2(C)[C@@]1(O)C(=O)COC(C)=O',\n",
       " 'CN(C)CCC(c1ccc(Cl)cc1)c1ccccn1',\n",
       " 'CN(C)CCC(c1ccc(Cl)cc1)c1ccccn1',\n",
       " 'CN(C)CCC(c1ccc(Cl)cc1)c1ccccn1',\n",
       " 'COc1ccc2C[C@H]3[C@@H]4CCCC[C@@]4(CCN3C)c2c1',\n",
       " 'COc1ccc2C[C@H]3[C@@H]4CCCC[C@@]4(CCN3C)c2c1',\n",
       " 'COc1ccc2C[C@H]3[C@@H]4CCCC[C@@]4(CCN3C)c2c1',\n",
       " 'O=C(CC(=O)c1ccccc1)c2ccccc2',\n",
       " 'O=C(CC(=O)c1ccccc1)c2ccccc2',\n",
       " 'O=C(CC(=O)c1ccccc1)c2ccccc2',\n",
       " 'OC(=O)Cc1ccccc1Nc1c(Cl)cccc1Cl',\n",
       " 'OC(=O)Cc1ccccc1Nc1c(Cl)cccc1Cl',\n",
       " 'OC(=O)Cc1ccccc1Nc1c(Cl)cccc1Cl',\n",
       " 'CCN(CC)CCOC(=O)C1(CCCCC1)C1CCCCC1',\n",
       " 'CCN(CC)CCOC(=O)C1(CCCCC1)C1CCCCC1',\n",
       " 'CCN(CC)CCOC(=O)C1(CCCCC1)C1CCCCC1',\n",
       " 'C\\\\C=C(c1ccc(O)cc1)\\\\C(c1ccc(O)cc1)=C\\\\C',\n",
       " 'C\\\\C=C(c1ccc(O)cc1)\\\\C(c1ccc(O)cc1)=C\\\\C',\n",
       " 'C\\\\C=C(c1ccc(O)cc1)\\\\C(c1ccc(O)cc1)=C\\\\C',\n",
       " 'CCN(CC)C(=O)N1CCN(C)CC1',\n",
       " 'CCN(CC)C(=O)N1CCN(C)CC1',\n",
       " 'CCN(CC)C(=O)N1CCN(C)CC1',\n",
       " 'CC\\\\C(c1ccc(O)cc1)=C(\\\\CC)c1ccc(O)cc1',\n",
       " 'CC\\\\C(c1ccc(O)cc1)=C(\\\\CC)c1ccc(O)cc1',\n",
       " 'CC\\\\C(c1ccc(O)cc1)=C(\\\\CC)c1ccc(O)cc1',\n",
       " 'OC(=O)c1cc(ccc1O)-c1ccc(F)cc1F',\n",
       " 'OC(=O)c1cc(ccc1O)-c1ccc(F)cc1F',\n",
       " 'OC(=O)c1cc(ccc1O)-c1ccc(F)cc1F',\n",
       " 'C[C@H]1O[C@H](C[C@H](O)[C@@H]1O)O[C@H]1[C@@H](O)C[C@H](O[C@H]2[C@@H](O)C[C@H](O[C@H]3CC[C@@]4(C)[C@H](CCC5C4CC[C@]4(C)[C@H](CC[C@]54O)C4=CC(=O)OC4)C3)O[C@@H]2C)O[C@@H]1C',\n",
       " 'C[C@H]1O[C@H](C[C@H](O)[C@@H]1O)O[C@H]1[C@@H](O)C[C@H](O[C@H]2[C@@H](O)C[C@H](O[C@H]3CC[C@@]4(C)[C@H](CCC5C4CC[C@]4(C)[C@H](CC[C@]54O)C4=CC(=O)OC4)C3)O[C@@H]2C)O[C@@H]1C',\n",
       " 'C[C@H]1O[C@H](C[C@H](O)[C@@H]1O)O[C@H]1[C@@H](O)C[C@H](O[C@H]2[C@@H](O)C[C@H](O[C@H]3CC[C@@]4(C)[C@H](CCC5C4CC[C@]4(C)[C@H](CC[C@]54O)C4=CC(=O)OC4)C3)O[C@@H]2C)O[C@@H]1C',\n",
       " 'C[C@H]1O[C@H](C[C@H](O)[C@@H]1O)O[C@H]1[C@@H](O)C[C@H](O[C@H]2[C@@H](O)C[C@H](O[C@H]3CC[C@@]4(C)[C@H](CCC5C4C[C@@H](O)[C@]4(C)[C@H](CC[C@]54O)C4=CC(=O)OC4)C3)O[C@@H]2C)O[C@@H]1C',\n",
       " 'C[C@H]1O[C@H](C[C@H](O)[C@@H]1O)O[C@H]1[C@@H](O)C[C@H](O[C@H]2[C@@H](O)C[C@H](O[C@H]3CC[C@@]4(C)[C@H](CCC5C4C[C@@H](O)[C@]4(C)[C@H](CC[C@]54O)C4=CC(=O)OC4)C3)O[C@@H]2C)O[C@@H]1C',\n",
       " 'C[C@H]1O[C@H](C[C@H](O)[C@@H]1O)O[C@H]1[C@@H](O)C[C@H](O[C@H]2[C@@H](O)C[C@H](O[C@H]3CC[C@@]4(C)[C@H](CCC5C4C[C@@H](O)[C@]4(C)[C@H](CC[C@]54O)C4=CC(=O)OC4)C3)O[C@@H]2C)O[C@@H]1C',\n",
       " 'CCCCC\\\\C=C/C\\\\C=C/C\\\\C=C/CCCCCCC(O)=O',\n",
       " 'CCCCC\\\\C=C/C\\\\C=C/C\\\\C=C/CCCCCCC(O)=O',\n",
       " 'CCCCC\\\\C=C/C\\\\C=C/C\\\\C=C/CCCCCCC(O)=O',\n",
       " 'CC1(C)C2C[C@@H](O)[C@]3(C)C(CC[C@@]4(C)[C@@H](OC(=O)C=C43)c5ccoc5)[C@@]2(C)CCC1=O',\n",
       " 'CC1(C)C2C[C@@H](O)[C@]3(C)C(CC[C@@]4(C)[C@@H](OC(=O)C=C43)c5ccoc5)[C@@]2(C)CCC1=O',\n",
       " 'CC1(C)C2C[C@@H](O)[C@]3(C)C(CC[C@@]4(C)[C@@H](OC(=O)C=C43)c5ccoc5)[C@@]2(C)CCC1=O',\n",
       " 'CC(C)C1COc2cc3oc(=O)ccc3cc2O1',\n",
       " 'CC(C)C1COc2cc3oc(=O)ccc3cc2O1',\n",
       " 'CC(C)C1COc2cc3oc(=O)ccc3cc2O1',\n",
       " 'CC(=O)O[C@@H]1CC2C(C)(C)C(=O)CC[C@]2(C)C3CC[C@@]4(C)[C@@H](OC(=O)C=C4[C@]13C)c5ccoc5',\n",
       " 'CC(=O)O[C@@H]1CC2C(C)(C)C(=O)CC[C@]2(C)C3CC[C@@]4(C)[C@@H](OC(=O)C=C4[C@]13C)c5ccoc5',\n",
       " 'CC(=O)O[C@@H]1CC2C(C)(C)C(=O)CC[C@]2(C)C3CC[C@@]4(C)[C@@H](OC(=O)C=C4[C@]13C)c5ccoc5',\n",
       " 'CC(C)[C@@]1(NC(=O)[C@@H]2CC3[C@@H](Cc4c[nH]c5cccc3c45)N(C)C2)O[C@@]6(O)[C@@H]7CCCN7C(=O)[C@H](Cc8ccccc8)N6C1=O',\n",
       " 'CC(C)[C@@]1(NC(=O)[C@@H]2CC3[C@@H](Cc4c[nH]c5cccc3c45)N(C)C2)O[C@@]6(O)[C@@H]7CCCN7C(=O)[C@H](Cc8ccccc8)N6C1=O',\n",
       " 'CC(C)[C@@]1(NC(=O)[C@@H]2CC3[C@@H](Cc4c[nH]c5cccc3c45)N(C)C2)O[C@@]6(O)[C@@H]7CCCN7C(=O)[C@H](Cc8ccccc8)N6C1=O',\n",
       " 'CN1C[C@@H](C[C@H]2[C@H]1Cc1c[nH]c3cccc2c13)C(=O)N[C@]1(C)O[C@@]2(O)[C@@H]3CCCN3C(=O)[C@H](Cc3ccccc3)N2C1=O',\n",
       " 'CN1C[C@@H](C[C@H]2[C@H]1Cc1c[nH]c3cccc2c13)C(=O)N[C@]1(C)O[C@@]2(O)[C@@H]3CCCN3C(=O)[C@H](Cc3ccccc3)N2C1=O',\n",
       " 'CN1C[C@@H](C[C@H]2[C@H]1Cc1c[nH]c3cccc2c13)C(=O)N[C@]1(C)O[C@@]2(O)[C@@H]3CCCN3C(=O)[C@H](Cc3ccccc3)N2C1=O',\n",
       " 'CC1CCc2c(O)c3c(=O)cc(C)oc3cc2OC1',\n",
       " 'CC1CCc2c(O)c3c(=O)cc(C)oc3cc2OC1',\n",
       " 'CC1CCc2c(O)c3c(=O)cc(C)oc3cc2OC1',\n",
       " 'CC(C)CC(=O)O[C@@H]1[C@H](OC(=O)C)c2c(OC1(C)C)ccc3ccc(=O)oc23',\n",
       " 'CC(C)CC(=O)O[C@@H]1[C@H](OC(=O)C)c2c(OC1(C)C)ccc3ccc(=O)oc23',\n",
       " 'CC(C)CC(=O)O[C@@H]1[C@H](OC(=O)C)c2c(OC1(C)C)ccc3ccc(=O)oc23',\n",
       " 'CN(C(=O)C(Cl)Cl)c1ccc(OC(=O)c2ccco2)cc1',\n",
       " 'CN(C(=O)C(Cl)Cl)c1ccc(OC(=O)c2ccco2)cc1',\n",
       " 'CN(C(=O)C(Cl)Cl)c1ccc(OC(=O)c2ccco2)cc1',\n",
       " 'COc1ccc(cc1)C1Sc2ccccc2N(CCN(C)C)C(=O)C1OC(C)=O',\n",
       " 'COc1ccc(cc1)C1Sc2ccccc2N(CCN(C)C)C(=O)C1OC(C)=O',\n",
       " 'COc1ccc(cc1)C1Sc2ccccc2N(CCN(C)C)C(=O)C1OC(C)=O',\n",
       " 'COc1ccc(C(=O)c2ccccc2O)c(O)c1',\n",
       " 'COc1ccc(C(=O)c2ccccc2O)c(O)c1',\n",
       " 'COc1ccc(C(=O)c2ccccc2O)c(O)c1',\n",
       " 'CCCN(CCC)CCc1ccc(O)c(O)c1',\n",
       " 'CCCN(CCC)CCc1ccc(O)c(O)c1',\n",
       " 'CCCN(CCC)CCc1ccc(O)c(O)c1',\n",
       " 'OCCN(CCO)c1nc(N2CCCCC2)c2nc(nc(N3CCCCC3)c2n1)N(CCO)CCO',\n",
       " 'OCCN(CCO)c1nc(N2CCCCC2)c2nc(nc(N3CCCCC3)c2n1)N(CCO)CCO',\n",
       " 'OCCN(CCO)c1nc(N2CCCCC2)c2nc(nc(N3CCCCC3)c2n1)N(CCO)CCO',\n",
       " 'CC(C)N(CCC(C(N)=O)(c1ccccc1)c1ccccn1)C(C)C',\n",
       " 'CC(C)N(CCC(C(N)=O)(c1ccccc1)c1ccccn1)C(C)C',\n",
       " 'CC(C)N(CCC(C(N)=O)(c1ccccc1)c1ccccn1)C(C)C',\n",
       " 'CN(C)c1ccc(/C=C\\\\2/C(=O)Nc3ccccc23)cc1',\n",
       " 'CN(C)c1ccc(/C=C\\\\2/C(=O)Nc3ccccc23)cc1',\n",
       " 'CN(C)c1ccc(/C=C\\\\2/C(=O)Nc3ccccc23)cc1',\n",
       " 'CS(=O)C',\n",
       " 'CS(=O)C',\n",
       " 'CS(=O)C',\n",
       " 'CS(=O)C',\n",
       " 'CS(=O)C',\n",
       " 'CS(=O)C',\n",
       " 'CS(=O)C',\n",
       " 'CS(=O)C',\n",
       " 'CS(=O)C',\n",
       " 'CS(=O)C',\n",
       " 'CS(=O)C',\n",
       " 'CS(=O)C',\n",
       " 'CS(=O)C',\n",
       " 'CS(=O)C',\n",
       " 'CS(=O)C',\n",
       " 'CS(=O)C',\n",
       " 'CS(=O)C',\n",
       " 'CS(=O)C',\n",
       " 'CS(=O)C',\n",
       " 'CS(=O)C',\n",
       " 'CS(=O)C',\n",
       " 'CS(=O)C',\n",
       " 'CS(=O)C',\n",
       " 'CS(=O)C',\n",
       " 'CS(=O)C',\n",
       " 'CS(=O)C',\n",
       " 'CS(=O)C',\n",
       " 'CS(=O)C',\n",
       " 'CS(=O)C',\n",
       " 'CS(=O)C',\n",
       " 'CS(=O)C',\n",
       " 'CS(=O)C',\n",
       " 'CS(=O)C',\n",
       " 'CS(=O)C',\n",
       " 'CS(=O)C',\n",
       " 'CS(=O)C',\n",
       " 'CS(=O)C',\n",
       " 'CS(=O)C',\n",
       " 'CS(=O)C',\n",
       " 'CS(=O)C',\n",
       " 'CS(=O)C',\n",
       " 'CS(=O)C',\n",
       " 'CS(=O)C',\n",
       " 'CS(=O)C',\n",
       " 'CS(=O)C',\n",
       " 'CS(=O)C',\n",
       " 'CS(=O)C',\n",
       " 'CS(=O)C',\n",
       " 'CS(=O)C',\n",
       " 'CS(=O)C',\n",
       " 'CS(=O)C',\n",
       " 'CS(=O)C',\n",
       " 'CS(=O)C',\n",
       " 'CS(=O)C',\n",
       " 'CS(=O)C',\n",
       " 'CS(=O)C',\n",
       " 'CS(=O)C',\n",
       " 'CS(=O)C',\n",
       " 'CS(=O)C',\n",
       " 'CS(=O)C',\n",
       " 'CS(=O)C',\n",
       " 'CS(=O)C',\n",
       " 'CS(=O)C',\n",
       " 'CS(=O)C',\n",
       " 'CS(=O)C',\n",
       " 'CS(=O)C',\n",
       " 'CS(=O)C',\n",
       " 'Clc1ccc2n(C3CCN(CCCn4c5ccccc5[nH]c4=O)CC3)c(=O)[nH]c2c1',\n",
       " 'Clc1ccc2n(C3CCN(CCCn4c5ccccc5[nH]c4=O)CC3)c(=O)[nH]c2c1',\n",
       " 'Clc1ccc2n(C3CCN(CCCn4c5ccccc5[nH]c4=O)CC3)c(=O)[nH]c2c1',\n",
       " 'COc1cc2CC(CC3CCN(Cc4ccccc4)CC3)C(=O)c2cc1OC',\n",
       " 'COc1cc2CC(CC3CCN(Cc4ccccc4)CC3)C(=O)c2cc1OC',\n",
       " 'COc1cc2CC(CC3CCN(Cc4ccccc4)CC3)C(=O)c2cc1OC',\n",
       " 'CN(C)CC\\\\C=C1\\\\c2ccccc2COc2ccccc12',\n",
       " 'CN(C)CC\\\\C=C1\\\\c2ccccc2COc2ccccc12',\n",
       " 'CN(C)CC\\\\C=C1\\\\c2ccccc2COc2ccccc12',\n",
       " 'COc1cccc2C(=O)c3c(O)c4C[C@](O)(C[C@H](OC5C[C@H](N)[C@H](O)[C@H](C)O5)c4c(O)c3C(=O)c12)C(=O)CO',\n",
       " 'COc1cccc2C(=O)c3c(O)c4C[C@](O)(C[C@H](OC5C[C@H](N)[C@H](O)[C@H](C)O5)c4c(O)c3C(=O)c12)C(=O)CO',\n",
       " 'COc1cccc2C(=O)c3c(O)c4C[C@](O)(C[C@H](OC5C[C@H](N)[C@H](O)[C@H](C)O5)c4c(O)c3C(=O)c12)C(=O)CO',\n",
       " 'CN(C)CCOC(C)(c1ccccc1)c1ccccn1',\n",
       " 'CN(C)CCOC(C)(c1ccccc1)c1ccccn1',\n",
       " 'CN(C)CCOC(C)(c1ccccc1)c1ccccn1',\n",
       " 'CC(C)[C@@H]1CC[C@@H](C)C[C@@H]1P(=O)(c1ccccc1)c1ccccc1',\n",
       " 'CC(C)[C@@H]1CC[C@@H](C)C[C@@H]1P(=O)(c1ccccc1)c1ccccc1',\n",
       " 'CC(C)[C@@H]1CC[C@@H](C)C[C@@H]1P(=O)(c1ccccc1)c1ccccc1',\n",
       " 'Fc1ccc(cc1)C(=O)CCCN1CCC(=CC1)n1c2ccccc2[nH]c1=O',\n",
       " 'Fc1ccc(cc1)C(=O)CCCN1CCC(=CC1)n1c2ccccc2[nH]c1=O',\n",
       " 'CNCC[C@H](Oc1cccc2ccccc12)c1cccs1',\n",
       " 'CNCC[C@H](Oc1cccc2ccccc12)c1cccs1',\n",
       " 'CNCC[C@H](Oc1cccc2ccccc12)c1cccs1',\n",
       " 'Oc1ccc(cc1)-c1coc2cc(O)ccc2c1=O',\n",
       " 'Oc1ccc(cc1)-c1coc2cc(O)ccc2c1=O',\n",
       " 'Oc1ccc(cc1)-c1coc2cc(O)ccc2c1=O',\n",
       " 'Oc1ccc2ccc(=O)oc2c1O',\n",
       " 'Oc1ccc2ccc(=O)oc2c1O',\n",
       " 'Oc1ccc2ccc(=O)oc2c1O',\n",
       " 'CN([N+][O-])c1cc(O)ccc1O',\n",
       " 'CN([N+][O-])c1cc(O)ccc1O',\n",
       " 'CN([N+][O-])c1cc(O)ccc1O',\n",
       " 'C[C@@H]1C[C@H]2[C@@H]3CCC4=CC(=O)C=C[C@]4(C)[C@@]3(F)[C@@H](O)C[C@]2(C)[C@@]1(O)C(=O)COC(=O)C',\n",
       " 'C[C@@H]1C[C@H]2[C@@H]3CCC4=CC(=O)C=C[C@]4(C)[C@@]3(F)[C@@H](O)C[C@]2(C)[C@@]1(O)C(=O)COC(=O)C',\n",
       " 'C[C@@H]1C[C@H]2[C@@H]3CCC4=CC(=O)C=C[C@]4(C)[C@@]3(F)[C@@H](O)C[C@]2(C)[C@@]1(O)C(=O)COC(=O)C',\n",
       " 'CCCC(=O)Nc1ncnc2n(cnc12)C3OC4COP(=O)(O)OC4C3OC(=O)CCC',\n",
       " 'CCCC(=O)Nc1ncnc2n(cnc12)C3OC4COP(=O)(O)OC4C3OC(=O)CCC',\n",
       " 'CCCC(=O)Nc1ncnc2n(cnc12)C3OC4COP(=O)(O)OC4C3OC(=O)CCC',\n",
       " 'C[C@]12CC[C@H]3[C@@H](CC[C@@H]4C[C@@H](O)CC[C@]34C)[C@@]1(O)CC[C@@H]2C1=CC(=O)OC1',\n",
       " 'C[C@]12CC[C@H]3[C@@H](CC[C@@H]4C[C@@H](O)CC[C@]34C)[C@@]1(O)CC[C@@H]2C1=CC(=O)OC1',\n",
       " 'C[C@]12CC[C@H]3[C@@H](CC[C@@H]4C[C@@H](O)CC[C@]34C)[C@@]1(O)CC[C@@H]2C1=CC(=O)OC1',\n",
       " 'Oc1cc2CCC3NCc4ccccc4C3c2cc1O',\n",
       " 'Oc1cc2CCC3NCc4ccccc4C3c2cc1O',\n",
       " 'Oc1cc2CCC3NCc4ccccc4C3c2cc1O',\n",
       " 'CC(C)C1(NC(=O)C2CC3C(Cc4c[nH]c5cccc3c45)N(C)C2)OC6(O)C7CCCN7C(=O)C(Cc8ccccc8)N6C1=O',\n",
       " 'CC(C)C1(NC(=O)C2CC3C(Cc4c[nH]c5cccc3c45)N(C)C2)OC6(O)C7CCCN7C(=O)C(Cc8ccccc8)N6C1=O',\n",
       " 'CC(C)C1(NC(=O)C2CC3C(Cc4c[nH]c5cccc3c45)N(C)C2)OC6(O)C7CCCN7C(=O)C(Cc8ccccc8)N6C1=O',\n",
       " 'CN1CC(CC2C1Cc3c[nH]c4cccc2c34)C(=O)NC5(C)OC6(O)C7CCCN7C(=O)C(Cc8ccccc8)N6C5=O',\n",
       " 'CN1CC(CC2C1Cc3c[nH]c4cccc2c34)C(=O)NC5(C)OC6(O)C7CCCN7C(=O)C(Cc8ccccc8)N6C5=O',\n",
       " 'CN1CC(CC2C1Cc3c[nH]c4cccc2c34)C(=O)NC5(C)OC6(O)C7CCCN7C(=O)C(Cc8ccccc8)N6C5=O',\n",
       " 'COc1cc(cc(OC)c1OC)C(=O)OCCCN1CCCN(CCCOC(=O)c2cc(OC)c(OC)c(OC)c2)CC1',\n",
       " 'COc1cc(cc(OC)c1OC)C(=O)OCCCN1CCCN(CCCOC(=O)c2cc(OC)c(OC)c(OC)c2)CC1',\n",
       " 'COc1cc(cc(OC)c1OC)C(=O)OCCCN1CCCN(CCCOC(=O)c2cc(OC)c(OC)c(OC)c2)CC1',\n",
       " 'C[N+]1(C)CCC(CC1)=C(c1ccccc1)c1ccccc1',\n",
       " 'C[N+]1(C)CCC(CC1)=C(c1ccccc1)c1ccccc1',\n",
       " 'C[N+]1(C)CCC(CC1)=C(c1ccccc1)c1ccccc1',\n",
       " 'CNCC(O)c1ccc(OC(=O)C(C)(C)C)c(OC(=O)C(C)(C)C)c1',\n",
       " 'CNCC(O)c1ccc(OC(=O)C(C)(C)C)c(OC(=O)C(C)(C)C)c1',\n",
       " 'CNCC(O)c1ccc(OC(=O)C(C)(C)C)c(OC(=O)C(C)(C)C)c1',\n",
       " 'C(CN1CCCCC1)Oc2ccc(cc2)c3cnc4c(cnn4c3)c5ccncc5',\n",
       " 'C(CN1CCCCC1)Oc2ccc(cc2)c3cnc4c(cnn4c3)c5ccncc5',\n",
       " 'C(CN1CCCCC1)Oc2ccc(cc2)c3cnc4c(cnn4c3)c5ccncc5',\n",
       " 'CN(C)CCC=C1c2ccccc2COc3ccccc13',\n",
       " 'CN(C)CCC=C1c2ccccc2COc3ccccc13',\n",
       " 'CN(C)CCC=C1c2ccccc2COc3ccccc13',\n",
       " 'COc1cccc2C(=O)c3c(O)c4CC(O)(CC(OC5CC(N)C(O)C(C)O5)c4c(O)c3C(=O)c12)C(=O)CO',\n",
       " 'COc1cccc2C(=O)c3c(O)c4CC(O)(CC(OC5CC(N)C(O)C(C)O5)c4c(O)c3C(=O)c12)C(=O)CO',\n",
       " 'COc1c2CC(Oc2nc3ccccc13)C(C)(O)CO',\n",
       " 'COc1c2CC(Oc2nc3ccccc13)C(C)(O)CO',\n",
       " 'Cc1cccc(CCN2CCC(CC2)C(=O)c2ccc(NS(C)(=O)=O)cc2)n1',\n",
       " 'Cc1cccc(CCN2CCC(CC2)C(=O)c2ccc(NS(C)(=O)=O)cc2)n1',\n",
       " 'Cc1cccc(CCN2CCC(CC2)C(=O)c2ccc(NS(C)(=O)=O)cc2)n1',\n",
       " 'COc1cc2CCN(C)[C@@H]3Cc4ccc(OC(=O)c5ccc(cc5)[N+](=O)[O-])c(Oc6ccc(C[C@@H]7N(C)CCc8cc(OC)c(Oc(c1OC)c32)cc78)cc6)c4',\n",
       " 'COc1cc2CCN(C)[C@@H]3Cc4ccc(OC(=O)c5ccc(cc5)[N+](=O)[O-])c(Oc6ccc(C[C@@H]7N(C)CCc8cc(OC)c(Oc(c1OC)c32)cc78)cc6)c4',\n",
       " 'COc1cc2CCN(C)[C@@H]3Cc4ccc(OC(=O)c5ccc(cc5)[N+](=O)[O-])c(Oc6ccc(C[C@@H]7N(C)CCc8cc(OC)c(Oc(c1OC)c32)cc78)cc6)c4',\n",
       " 'CCCCC/C=C\\\\C/C=C\\\\CCCCCCCCCC(=O)O',\n",
       " 'CCCCC/C=C\\\\C/C=C\\\\CCCCCCCCCC(=O)O',\n",
       " 'CCCCC/C=C\\\\C/C=C\\\\CCCCCCCCCC(=O)O',\n",
       " 'CC\\\\C=C/C\\\\C=C/C\\\\C=C/C\\\\C=C/C\\\\C=C/CCCC(O)=O',\n",
       " 'CC\\\\C=C/C\\\\C=C/C\\\\C=C/C\\\\C=C/C\\\\C=C/CCCC(O)=O',\n",
       " 'CC\\\\C=C/C\\\\C=C/C\\\\C=C/C\\\\C=C/C\\\\C=C/CCCC(O)=O',\n",
       " 'Cc1[nH]c2ccc(Cl)cc2c1C1=CCNCC1',\n",
       " 'Cc1[nH]c2ccc(Cl)cc2c1C1=CCNCC1',\n",
       " 'Cc1[nH]c2ccc(Cl)cc2c1C1=CCNCC1',\n",
       " 'CC[C@H]1CN2CCc3cc(OC)c(OC)cc3C2C[C@@H]1CC1NCCc2cc(OC)c(OC)cc12',\n",
       " 'CC[C@H]1CN2CCc3cc(OC)c(OC)cc3C2C[C@@H]1CC1NCCc2cc(OC)c(OC)cc12',\n",
       " 'CC[C@H]1CN2CCc3cc(OC)c(OC)cc3C2C[C@@H]1CC1NCCc2cc(OC)c(OC)cc12',\n",
       " 'CNC(C)[C@H](O)c1ccccc1',\n",
       " 'CNC(C)[C@H](O)c1ccccc1',\n",
       " 'CNC(C)[C@H](O)c1ccccc1',\n",
       " 'Oc1cc(O)c2C[C@@H](OC(=O)c3cc(O)c(O)c(O)c3)[C@H](Oc2c1)c1ccc(O)c(O)c1',\n",
       " 'Oc1cc(O)c2C[C@@H](OC(=O)c3cc(O)c(O)c(O)c3)[C@H](Oc2c1)c1ccc(O)c(O)c1',\n",
       " 'Oc1cc(O)c2C[C@@H](OC(=O)c3cc(O)c(O)c(O)c3)[C@H](Oc2c1)c1ccc(O)c(O)c1',\n",
       " 'COc1cccc2C(=O)c3c(O)c4C[C@](O)(C[C@H](O[C@H]5C[C@H](N)[C@@H](O)[C@H](C)O5)c4c(O)c3C(=O)c12)C(=O)CO',\n",
       " 'COc1cccc2C(=O)c3c(O)c4C[C@](O)(C[C@H](O[C@H]5C[C@H](N)[C@@H](O)[C@H](C)O5)c4c(O)c3C(=O)c12)C(=O)CO',\n",
       " 'COc1cccc2C(=O)c3c(O)c4C[C@](O)(C[C@H](O[C@H]5C[C@H](N)[C@@H](O)[C@H](C)O5)c4c(O)c3C(=O)c12)C(=O)CO',\n",
       " 'CC12CCC3C(=CCc4cc(O)ccc34)C1CCC2=O',\n",
       " 'CC12CCC3C(=CCc4cc(O)ccc34)C1CCC2=O',\n",
       " 'CC12CCC3C(=CCc4cc(O)ccc34)C1CCC2=O',\n",
       " 'CC[C@H]1OC(=O)[C@H](C)[C@@H](O[C@H]2C[C@@](C)(OC)[C@@H](O)[C@H](C)O2)[C@H](C)[C@@H](O[C@@H]2O[C@H](C)C[C@@H]([C@H]2OC(=O)CC)N(C)C)[C@](C)(O)C[C@@H](C)C(=O)[C@H](C)[C@@H](O)[C@]1(C)O',\n",
       " 'CC[C@H]1OC(=O)[C@H](C)[C@@H](O[C@H]2C[C@@](C)(OC)[C@@H](O)[C@H](C)O2)[C@H](C)[C@@H](O[C@@H]2O[C@H](C)C[C@@H]([C@H]2OC(=O)CC)N(C)C)[C@](C)(O)C[C@@H](C)C(=O)[C@H](C)[C@@H](O)[C@]1(C)O',\n",
       " 'CC[C@H]1OC(=O)[C@H](C)[C@@H](O[C@H]2C[C@@](C)(OC)[C@@H](O)[C@H](C)O2)[C@H](C)[C@@H](O[C@@H]2O[C@H](C)C[C@@H]([C@H]2OC(=O)CC)N(C)C)[C@](C)(O)C[C@@H](C)C(=O)[C@H](C)[C@@H](O)[C@]1(C)O',\n",
       " 'CCOC(=O)CCC(=O)O[C@H]1[C@H](O[C@@H]2[C@@H](C)[C@H](O[C@H]3C[C@@](C)(OC)[C@@H](O)[C@H](C)O3)[C@@H](C)C(=O)O[C@H](CC)[C@@](C)(O)[C@H](O)[C@@H](C)C(=O)[C@H](C)C[C@@]2(C)O)O[C@H](C)C[C@@H]1N(C)C',\n",
       " 'CCOC(=O)CCC(=O)O[C@H]1[C@H](O[C@@H]2[C@@H](C)[C@H](O[C@H]3C[C@@](C)(OC)[C@@H](O)[C@H](C)O3)[C@@H](C)C(=O)O[C@H](CC)[C@@](C)(O)[C@H](O)[C@@H](C)C(=O)[C@H](C)C[C@@]2(C)O)O[C@H](C)C[C@@H]1N(C)C',\n",
       " 'CCOC(=O)CCC(=O)O[C@H]1[C@H](O[C@@H]2[C@@H](C)[C@H](O[C@H]3C[C@@](C)(OC)[C@@H](O)[C@H](C)O3)[C@@H](C)C(=O)O[C@H](CC)[C@@](C)(O)[C@H](O)[C@@H](C)C(=O)[C@H](C)C[C@@]2(C)O)O[C@H](C)C[C@@H]1N(C)C',\n",
       " 'OC(=O)c1ccccc1-c1c2cc(I)c(O)c(I)c2oc2c(I)c(=O)c(I)cc12',\n",
       " 'OC(=O)c1ccccc1-c1c2cc(I)c(O)c(I)c2oc2c(I)c(=O)c(I)cc12',\n",
       " 'OC(=O)c1ccccc1-c1c2cc(I)c(O)c(I)c2oc2c(I)c(=O)c(I)cc12',\n",
       " 'CN(C)CCC[C@]1(OCc2cc(ccc12)C#N)c1ccc(F)cc1',\n",
       " 'CN(C)CCC[C@]1(OCc2cc(ccc12)C#N)c1ccc(F)cc1',\n",
       " 'CN(C)CCC[C@]1(OCc2cc(ccc12)C#N)c1ccc(F)cc1',\n",
       " 'C[C@]12CCC3C(CCc4cc(O)ccc34)C1CC[C@@H]2O',\n",
       " 'C[C@]12CCC3C(CCc4cc(O)ccc34)C1CC[C@@H]2O',\n",
       " 'C[C@]12CCC3C(CCc4cc(O)ccc34)C1CC[C@@H]2O',\n",
       " 'CC12CCC3C(CCc4cc(OC(=O)c5ccccc5)ccc34)C2CCC1O',\n",
       " 'CC12CCC3C(CCc4cc(OC(=O)c5ccccc5)ccc34)C2CCC1O',\n",
       " 'CC12CCC3C(CCc4cc(OC(=O)c5ccccc5)ccc34)C2CCC1O',\n",
       " 'C[C@]12CCC3C(CCc4cc(O)ccc34)C1CC[C@@H]2OC(=O)CCC1CCCC1',\n",
       " 'C[C@]12CCC3C(CCc4cc(O)ccc34)C1CC[C@@H]2OC(=O)CCC1CCCC1',\n",
       " 'C[C@]12CCC3C(CCc4cc(O)ccc34)C1CC[C@@H]2OC(=O)CCC1CCCC1',\n",
       " 'C[C@]12CCC3C(CCc4cc(O)ccc34)C1C[C@@H](O)[C@@H]2O',\n",
       " 'C[C@]12CCC3C(CCc4cc(O)ccc34)C1C[C@@H](O)[C@@H]2O',\n",
       " 'C[C@]12CCC3C(CCc4cc(O)ccc34)C1C[C@@H](O)[C@@H]2O',\n",
       " 'C[C@]12CCC3C(CCc4cc(O)ccc34)C1CCC2=O',\n",
       " 'C[C@]12CCC3C(CCc4cc(O)ccc34)C1CCC2=O',\n",
       " 'C[C@]12CCC3C(CCc4cc(O)ccc34)C1CCC2=O',\n",
       " 'C[C@]12CCC3C(CCc4cc(OS(O)(=O)=O)ccc34)C1CCC2=O',\n",
       " 'C[C@]12CCC3C(CCc4cc(OS(O)(=O)=O)ccc34)C1CCC2=O',\n",
       " 'C[C@]12CCC3C(CCc4cc(OS(O)(=O)=O)ccc34)C1CCC2=O',\n",
       " 'CCC(=C)C(=O)c1ccc(OCC(O)=O)c(Cl)c1Cl',\n",
       " 'CCC(=C)C(=O)c1ccc(OCC(O)=O)c(Cl)c1Cl',\n",
       " 'CCC(=C)C(=O)c1ccc(OCC(O)=O)c(Cl)c1Cl',\n",
       " 'CCN(CC)C(=O)c1ccc(O)c(OC)c1',\n",
       " 'CCN(CC)C(=O)c1ccc(O)c(OC)c1',\n",
       " 'CCN(CC)C(=O)c1ccc(O)c(OC)c1',\n",
       " 'C[C@]12CCC3C(CCc4cc(O)ccc34)C1CC[C@@]2(O)C#C',\n",
       " 'C[C@]12CCC3C(CCc4cc(O)ccc34)C1CC[C@@]2(O)C#C',\n",
       " 'C[C@]12CCC3C(CCc4cc(O)ccc34)C1CC[C@@]2(O)C#C',\n",
       " 'CCCSP(=O)(OCC)SCCC',\n",
       " 'CCCSP(=O)(OCC)SCCC',\n",
       " 'CCCSP(=O)(OCC)SCCC',\n",
       " 'CCN(CC)C(C)CN1c2ccccc2Sc2ccccc12',\n",
       " 'CCN(CC)C(C)CN1c2ccccc2Sc2ccccc12',\n",
       " 'CCN(CC)C(C)CN1c2ccccc2Sc2ccccc12',\n",
       " 'CCc1cccc2c3CCOC(CC)(CC(O)=O)c3[nH]c12',\n",
       " 'CCc1cccc2c3CCOC(CC)(CC(O)=O)c3[nH]c12',\n",
       " 'CCc1cccc2c3CCOC(CC)(CC(O)=O)c3[nH]c12',\n",
       " 'CCOC(=O)c1cncn1C(C)c1ccccc1',\n",
       " 'CCOC(=O)c1cncn1C(C)c1ccccc1',\n",
       " 'CCOC(=O)c1cncn1C(C)c1ccccc1',\n",
       " 'COc1cc(CC=C)ccc1O',\n",
       " 'COc1cc(CC=C)ccc1O',\n",
       " 'COc1cc(CC=C)ccc1O',\n",
       " 'C[C@]12CCC3C(CC(=C)C4=CC(=O)C=C[C@]34C)C1CCC2=O',\n",
       " 'C[C@]12CCC3C(CC(=C)C4=CC(=O)C=C[C@]34C)C1CCC2=O',\n",
       " 'C[C@]12CCC3C(CC(=C)C4=CC(=O)C=C[C@]34C)C1CCC2=O',\n",
       " 'OC(CC[C@@H]1[C@H](N(C1=O)c1ccc(F)cc1)c1ccc(O)cc1)c1ccc(F)cc1',\n",
       " 'OC(CC[C@@H]1[C@H](N(C1=O)c1ccc(F)cc1)c1ccc(O)cc1)c1ccc(F)cc1',\n",
       " 'OC(CC[C@@H]1[C@H](N(C1=O)c1ccc(F)cc1)c1ccc(O)cc1)c1ccc(F)cc1',\n",
       " 'CC[C@@]12CCCN3CCc4c([C@H]13)n(C(=O)C2)c1ccccc41',\n",
       " 'CC[C@@]12CCCN3CCc4c([C@H]13)n(C(=O)C2)c1ccccc41',\n",
       " 'CC[C@@]12CCCN3CCc4c([C@H]13)n(C(=O)C2)c1ccccc41',\n",
       " 'OC(CN1CCC(Cc2ccc(F)cc2)CC1)c1ccc(Cl)cc1',\n",
       " 'OC(CN1CCC(Cc2ccc(F)cc2)CC1)c1ccc(Cl)cc1',\n",
       " 'OC(CN1CCC(Cc2ccc(F)cc2)CC1)c1ccc(Cl)cc1',\n",
       " 'CC(C)C[C@@H]1N2C(=O)[C@](NC(=O)[C@H]3CN(C)[C@@H]4Cc5c[nH]c6cccc(C4=C3)c56)(O[C@@]2(O)[C@@H]7CCCN7C1=O)C(C)C',\n",
       " 'CC(C)C[C@@H]1N2C(=O)[C@](NC(=O)[C@H]3CN(C)[C@@H]4Cc5c[nH]c6cccc(C4=C3)c56)(O[C@@]2(O)[C@@H]7CCCN7C1=O)C(C)C',\n",
       " 'CC(C)C[C@@H]1N2C(=O)[C@](NC(=O)[C@H]3CN(C)[C@@H]4Cc5c[nH]c6cccc(C4=C3)c56)(O[C@@]2(O)[C@@H]7CCCN7C1=O)C(C)C',\n",
       " 'C[C@@]12CC[C@H]3[C@@H](CCc4cc(OS(=O)(=O)O)ccc34)[C@@H]2CCC1=O',\n",
       " 'C[C@@]12CC[C@H]3[C@@H](CCc4cc(OS(=O)(=O)O)ccc34)[C@@H]2CCC1=O',\n",
       " 'C[C@@]12CC[C@H]3[C@@H](CCc4cc(OS(=O)(=O)O)ccc34)[C@@H]2CCC1=O',\n",
       " 'CCOC(=O)c1cnc2n(CC)ncc2c1NN=C(C)C',\n",
       " 'CCOC(=O)c1cnc2n(CC)ncc2c1NN=C(C)C',\n",
       " 'CCOC(=O)c1cnc2n(CC)ncc2c1NN=C(C)C',\n",
       " 'CCN1C(=O)NC(C1=O)c1ccccc1',\n",
       " 'CCN1C(=O)NC(C1=O)c1ccccc1',\n",
       " 'CCN1C(=O)NC(C1=O)c1ccccc1',\n",
       " 'CCN1CCC[C@H]1CNC(=O)c1c(O)c(CC)cc(Cl)c1OC',\n",
       " 'CCN1CCC[C@H]1CNC(=O)c1c(O)c(CC)cc(Cl)c1OC',\n",
       " 'CCN1CCC[C@H]1CNC(=O)c1c(O)c(CC)cc(Cl)c1OC',\n",
       " 'CCNCC(O)c1cccc(O)c1',\n",
       " 'CCNCC(O)c1cccc(O)c1',\n",
       " 'CCNCC(O)c1cccc(O)c1',\n",
       " 'COc1cc(cc(OC)c1O)[C@H]2[C@@H]3C(OCC3=O)C(OC4OC5COC(C)OC5C(O)C4O)c6cc7OCOc7cc26',\n",
       " 'COc1cc(cc(OC)c1O)[C@H]2[C@@H]3C(OCC3=O)C(OC4OC5COC(C)OC5C(O)C4O)c6cc7OCOc7cc26',\n",
       " 'COc1cc(cc(OC)c1O)[C@H]2[C@@H]3C(OCC3=O)C(OC4OC5COC(C)OC5C(O)C4O)c6cc7OCOc7cc26',\n",
       " 'CC(=O)OCC(CCn1cnc2cnc(N)nc12)COC(C)=O',\n",
       " 'CC(=O)OCC(CCn1cnc2cnc(N)nc12)COC(C)=O',\n",
       " 'CC(=O)OCC(CCn1cnc2cnc(N)nc12)COC(C)=O',\n",
       " 'OC(=O)CCC(=O)c1ccc(cc1)-c1ccccc1',\n",
       " 'OC(=O)CCC(=O)c1ccc(cc1)-c1ccccc1',\n",
       " 'OC(=O)CCC(=O)c1ccc(cc1)-c1ccccc1',\n",
       " 'CC(Cc1ccc(O)cc1)NCC(O)c1cc(O)cc(O)c1',\n",
       " 'CC(Cc1ccc(O)cc1)NCC(O)c1cc(O)cc(O)c1',\n",
       " 'CC(Cc1ccc(O)cc1)NCC(O)c1cc(O)cc(O)c1',\n",
       " 'CC(C)(C(O)=O)c1ccc(cc1)C(O)CCCN1CCC(CC1)C(O)(c1ccccc1)c1ccccc1',\n",
       " 'CC(C)(C(O)=O)c1ccc(cc1)C(O)CCCN1CCC(CC1)C(O)(c1ccccc1)c1ccccc1',\n",
       " 'CC(C)(C(O)=O)c1ccc(cc1)C(O)CCCN1CCC(CC1)C(O)(c1ccccc1)c1ccccc1',\n",
       " 'CNC(=O)c1cc2c(cn1)[nH]c1ccccc21',\n",
       " 'CNC(=O)c1cc2c(cn1)[nH]c1ccccc21',\n",
       " 'CNC(=O)c1cc2c(cn1)[nH]c1ccccc21',\n",
       " 'CCCCCCN(CCCCCC)C(=O)Cc1c([nH]c2ccccc12)-c1ccc(F)cc1',\n",
       " 'CCCCCCN(CCCCCC)C(=O)Cc1c([nH]c2ccccc12)-c1ccc(F)cc1',\n",
       " 'CCCCCCN(CCCCCC)C(=O)Cc1c([nH]c2ccccc12)-c1ccc(F)cc1',\n",
       " 'CCCCCCN(CCCCCC)C(=O)Cc1c([nH]c2ccc(Cl)cc12)-c1ccc(Cl)cc1',\n",
       " 'CCCCCCN(CCCCCC)C(=O)Cc1c([nH]c2ccc(Cl)cc12)-c1ccc(Cl)cc1',\n",
       " 'CCCCCCN(CCCCCC)C(=O)Cc1c([nH]c2ccc(Cl)cc12)-c1ccc(Cl)cc1',\n",
       " 'Nc1c(c(nn1-c1c(Cl)cc(cc1Cl)C(F)(F)F)C#N)S(=O)C(F)(F)F',\n",
       " 'Nc1c(c(nn1-c1c(Cl)cc(cc1Cl)C(F)(F)F)C#N)S(=O)C(F)(F)F',\n",
       " 'Nc1c(c(nn1-c1c(Cl)cc(cc1Cl)C(F)(F)F)C#N)S(=O)C(F)(F)F',\n",
       " 'O[C@H]1Cc2ccc(O)cc2O[C@@H]1c3ccc(O)c(O)c3',\n",
       " 'O[C@H]1Cc2ccc(O)cc2O[C@@H]1c3ccc(O)c(O)c3',\n",
       " 'O[C@H]1Cc2ccc(O)cc2O[C@@H]1c3ccc(O)c(O)c3',\n",
       " 'CC(=O)OCC(=O)[C@@]1(O)CCC2C3CCC4=CC(=O)CC[C@]4(C)[C@@]3(F)[C@@H](O)C[C@]12C',\n",
       " 'CC(=O)OCC(=O)[C@@]1(O)CCC2C3CCC4=CC(=O)CC[C@]4(C)[C@@]3(F)[C@@H](O)C[C@]12C',\n",
       " 'CC(=O)OCC(=O)[C@@]1(O)CCC2C3CCC4=CC(=O)CC[C@]4(C)[C@@]3(F)[C@@H](O)C[C@]12C',\n",
       " 'Fc1ccc(cc1)C(N1CCN(C\\\\C=C\\\\c2ccccc2)CC1)c1ccc(F)cc1',\n",
       " 'Fc1ccc(cc1)C(N1CCN(C\\\\C=C\\\\c2ccccc2)CC1)c1ccc(F)cc1',\n",
       " 'Fc1ccc(cc1)C(N1CCN(C\\\\C=C\\\\c2ccccc2)CC1)c1ccc(F)cc1',\n",
       " 'CC1(C)O[C@@H]2CC3C4C[C@H](F)C5=CC(=O)C=C[C@]5(C)[C@@]4(F)[C@@H](O)C[C@]3(C)[C@@]2(O1)C(=O)CO',\n",
       " 'CC1(C)O[C@@H]2CC3C4C[C@H](F)C5=CC(=O)C=C[C@]5(C)[C@@]4(F)[C@@H](O)C[C@]3(C)[C@@]2(O1)C(=O)CO',\n",
       " 'CC(=O)OCC(=O)[C@@]12OC(C)(C)O[C@@H]1CC1C3C[C@H](F)C4=CC(=O)C=C[C@]4(C)[C@@]3(F)[C@@H](O)C[C@]21C',\n",
       " 'CC(=O)OCC(=O)[C@@]12OC(C)(C)O[C@@H]1CC1C3C[C@H](F)C4=CC(=O)C=C[C@]4(C)[C@@]3(F)[C@@H](O)C[C@]21C',\n",
       " 'CC(=O)OCC(=O)[C@@]12OC(C)(C)O[C@@H]1CC1C3C[C@H](F)C4=CC(=O)C=C[C@]4(C)[C@@]3(F)[C@@H](O)C[C@]21C',\n",
       " 'C[C@H]1CC2C3CC[C@](O)(C(C)=O)[C@@]3(C)C[C@H](O)[C@]2(F)C2(C)C=CC(=O)C=C12',\n",
       " 'C[C@H]1CC2C3CC[C@](O)(C(C)=O)[C@@]3(C)C[C@H](O)[C@]2(F)C2(C)C=CC(=O)C=C12',\n",
       " 'C[C@H]1CC2C3CC[C@](O)(C(C)=O)[C@@]3(C)C[C@H](O)[C@]2(F)C2(C)C=CC(=O)C=C12',\n",
       " 'CC(C)C(=O)Nc1ccc(c(c1)C(F)(F)F)[N+]([O-])=O',\n",
       " 'CC(C)C(=O)Nc1ccc(c(c1)C(F)(F)F)[N+]([O-])=O',\n",
       " 'CC(C)C(=O)Nc1ccc(c(c1)C(F)(F)F)[N+]([O-])=O',\n",
       " 'CC(C)n1c(\\\\C=C\\\\[C@@H](O)C[C@@H](O)CC(O)=O)c(-c2ccc(F)cc2)c2ccccc12',\n",
       " 'CC(C)n1c(\\\\C=C\\\\[C@@H](O)C[C@@H](O)CC(O)=O)c(-c2ccc(F)cc2)c2ccccc12',\n",
       " 'CC(C)n1c(\\\\C=C\\\\[C@@H](O)C[C@@H](O)CC(O)=O)c(-c2ccc(F)cc2)c2ccccc12',\n",
       " 'COc1cc2ccc(=O)oc2c(O)c1O',\n",
       " 'COc1cc2ccc(=O)oc2c(O)c1O',\n",
       " 'COc1cc2ccc(=O)oc2c(O)c1O',\n",
       " 'FC(F)(F)COc1ccc(OCC(F)(F)F)c(c1)C(=O)NCC1CCCCN1',\n",
       " 'FC(F)(F)COc1ccc(OCC(F)(F)F)c(c1)C(=O)NCC1CCCCN1',\n",
       " 'FC(F)(F)COc1ccc(OCC(F)(F)F)c(c1)C(=O)NCC1CCCCN1',\n",
       " 'CNCCC(Oc1ccc(cc1)C(F)(F)F)c1ccccc1',\n",
       " 'CNCCC(Oc1ccc(cc1)C(F)(F)F)c1ccccc1',\n",
       " 'CNCCC(Oc1ccc(cc1)C(F)(F)F)c1ccccc1',\n",
       " 'Fc1ccc(cc1)C(CCCN1CCC2(CC1)N(CNC2=O)c1ccccc1)c1ccc(F)cc1',\n",
       " 'Fc1ccc(cc1)C(CCCN1CCC2(CC1)N(CNC2=O)c1ccccc1)c1ccc(F)cc1',\n",
       " 'Fc1ccc(cc1)C(CCCN1CCC2(CC1)N(CNC2=O)c1ccccc1)c1ccc(F)cc1',\n",
       " 'CC(=O)O[C@H]1[C@@H](O)[C@H]2C(C)(C)CC[C@H](O)[C@]2(C)[C@@]2(O)C(=O)C[C@@](C)(O[C@]12C)C=C',\n",
       " 'CC(=O)O[C@H]1[C@@H](O)[C@H]2C(C)(C)CC[C@H](O)[C@]2(C)[C@@]2(O)C(=O)C[C@@](C)(O[C@]12C)C=C',\n",
       " 'CC(=O)O[C@H]1[C@@H](O)[C@H]2C(C)(C)CC[C@H](O)[C@]2(C)[C@@]2(O)C(=O)C[C@@](C)(O[C@]12C)C=C',\n",
       " 'C\\\\C(N(Cc1cnc(C)nc1N)C=O)=C(\\\\CCO)SSCC1CCCO1',\n",
       " 'C\\\\C(N(Cc1cnc(C)nc1N)C=O)=C(\\\\CCO)SSCC1CCCO1',\n",
       " 'C\\\\C(N(Cc1cnc(C)nc1N)C=O)=C(\\\\CCO)SSCC1CCCO1',\n",
       " 'Cc1ccc(C)c(OCCCC(C)(C)C(O)=O)c1',\n",
       " 'Cc1ccc(C)c(OCCCC(C)(C)C(O)=O)c1',\n",
       " 'Cc1ccc(C)c(OCCCC(C)(C)C(O)=O)c1',\n",
       " 'CN(C)CCCn1cc(C2=C(C(=O)NC2=O)c3c[nH]c4ccccc34)c5ccccc15',\n",
       " 'CN(C)CCCn1cc(C2=C(C(=O)NC2=O)c3c[nH]c4ccccc34)c5ccccc15',\n",
       " 'CN(C)CCCn1cc(C2=C(C(=O)NC2=O)c3c[nH]c4ccccc34)c5ccccc15',\n",
       " 'CCCCC[C@H](O)CC(=O)CCc1ccc(O)c(OC)c1',\n",
       " 'CCCCC[C@H](O)CC(=O)CCc1ccc(O)c(OC)c1',\n",
       " 'CCCCC[C@H](O)CC(=O)CCc1ccc(O)c(OC)c1',\n",
       " 'C[C@@]12CCC3C(CC[C@@H]4C[C@@H](O)CC[C@@]43C)[C@@]2(O)C[C@H](O)[C@@H]1C5=CC(=O)OC5',\n",
       " 'C[C@@]12CCC3C(CC[C@@H]4C[C@@H](O)CC[C@@]43C)[C@@]2(O)C[C@H](O)[C@@H]1C5=CC(=O)OC5',\n",
       " 'C[C@@]12CCC3C(CC[C@@H]4C[C@@H](O)CC[C@@]43C)[C@@]2(O)C[C@H](O)[C@@H]1C5=CC(=O)OC5',\n",
       " 'CNC(=O)[C@H](Cc1c[nH]c2ccccc12)NC(=O)[C@H](CC(C)C)CC(=O)NO',\n",
       " 'CNC(=O)[C@H](Cc1c[nH]c2ccccc12)NC(=O)[C@H](CC(C)C)CC(=O)NO',\n",
       " 'CNC(=O)[C@H](Cc1c[nH]c2ccccc12)NC(=O)[C@H](CC(C)C)CC(=O)NO',\n",
       " 'NC(=N)Nc1ccc2[nH]c3C4Oc5c6c(CC7N(CC8CC8)CCC46C7(O)Cc3c2c1)ccc5O',\n",
       " 'NC(=N)Nc1ccc2[nH]c3C4Oc5c6c(CC7N(CC8CC8)CCC46C7(O)Cc3c2c1)ccc5O',\n",
       " 'NC(=N)Nc1ccc2[nH]c3C4Oc5c6c(CC7N(CC8CC8)CCC46C7(O)Cc3c2c1)ccc5O',\n",
       " 'COc1ccccc1N1CCN(CCCCNC(=O)c2ccc(cc2)-c2ccc(cc2)C(C)=O)CC1',\n",
       " 'COc1ccccc1N1CCN(CCCCNC(=O)c2ccc(cc2)-c2ccc(cc2)C(C)=O)CC1',\n",
       " 'COc1ccccc1N1CCN(CCCCNC(=O)c2ccc(cc2)-c2ccc(cc2)C(C)=O)CC1',\n",
       " 'Cn1cc(C(=O)OCC2CCN(CCNS(C)(=O)=O)CC2)c2ccccc12',\n",
       " 'Cn1cc(C(=O)OCC2CCN(CCNS(C)(=O)=O)CC2)c2ccccc12',\n",
       " 'Cn1cc(C(=O)OCC2CCN(CCNS(C)(=O)=O)CC2)c2ccccc12',\n",
       " 'COC(=O)Nc1ccc2[nH]cc(CCNC(C)=O)c2c1',\n",
       " 'COC(=O)Nc1ccc2[nH]cc(CCNC(C)=O)c2c1',\n",
       " 'COC(=O)Nc1ccc2[nH]cc(CCNC(C)=O)c2c1',\n",
       " 'Ic1cccc(CSc2nnc(o2)c3ccncc3)c1',\n",
       " 'Ic1cccc(CSc2nnc(o2)c3ccncc3)c1',\n",
       " 'Ic1cccc(CSc2nnc(o2)c3ccncc3)c1',\n",
       " 'COc1ccccc1OCC(O)CO',\n",
       " 'COc1ccccc1OCC(O)CO',\n",
       " 'COc1ccccc1OCC(O)CO',\n",
       " 'NC(=N)N\\\\N=C/c1c(Cl)cccc1Cl',\n",
       " 'NC(=N)N\\\\N=C/c1c(Cl)cccc1Cl',\n",
       " 'NC(=N)N\\\\N=C/c1c(Cl)cccc1Cl',\n",
       " 'NC(=N)NC(=O)Cc1c(Cl)cccc1Cl',\n",
       " 'NC(=N)NC(=O)Cc1c(Cl)cccc1Cl',\n",
       " 'NC(=N)NC(=O)Cc1c(Cl)cccc1Cl',\n",
       " 'CN(CCOc1ccc(CC(Nc2ccccc2C(=O)c2ccccc2)C(O)=O)cc1)c1ccccn1',\n",
       " 'CN(CCOc1ccc(CC(Nc2ccccc2C(=O)c2ccccc2)C(O)=O)cc1)c1ccccn1',\n",
       " 'CN(CCOc1ccc(CC(Nc2ccccc2C(=O)c2ccccc2)C(O)=O)cc1)c1ccccn1',\n",
       " 'OC(=O)Cc1cccc(OCCCN(CC(c2ccccc2)c2ccccc2)Cc2cccc(c2Cl)C(F)(F)F)c1',\n",
       " 'OC(=O)Cc1cccc(OCCCN(CC(c2ccccc2)c2ccccc2)Cc2cccc(c2Cl)C(F)(F)F)c1',\n",
       " 'OC(=O)Cc1cccc(OCCCN(CC(c2ccccc2)c2ccccc2)Cc2cccc(c2Cl)C(F)(F)F)c1',\n",
       " 'CC(C)c1onc(c1COc2ccc(C=Cc3cccc(c3)C(=O)O)c(Cl)c2)c4c(Cl)cccc4Cl',\n",
       " 'CC(C)c1onc(c1COc2ccc(C=Cc3cccc(c3)C(=O)O)c(Cl)c2)c4c(Cl)cccc4Cl',\n",
       " 'CC(C)c1onc(c1COc2ccc(C=Cc3cccc(c3)C(=O)O)c(Cl)c2)c4c(Cl)cccc4Cl',\n",
       " 'Oc1c(Br)cc(C=C2C(=O)Nc3ccc(I)cc23)cc1Br',\n",
       " 'Oc1c(Br)cc(C=C2C(=O)Nc3ccc(I)cc23)cc1Br',\n",
       " 'Oc1c(Br)cc(C=C2C(=O)Nc3ccc(I)cc23)cc1Br',\n",
       " 'CC(C)(Sc1ccc(CCN(CCCCC2CCCCC2)C(=O)NC2CCCCC2)cc1)C(O)=O',\n",
       " 'CC(C)(Sc1ccc(CCN(CCCCC2CCCCC2)C(=O)NC2CCCCC2)cc1)C(O)=O',\n",
       " 'CC(C)(Sc1ccc(CCN(CCCCC2CCCCC2)C(=O)NC2CCCCC2)cc1)C(O)=O',\n",
       " 'COc1ccc2CN(C)CCC34C=CC(O)CC4Oc1c23',\n",
       " 'COc1ccc2CN(C)CCC34C=CC(O)CC4Oc1c23',\n",
       " 'COc1ccc2CN(C)CCC34C=CC(O)CC4Oc1c23',\n",
       " 'CN1C[C@@]2(C=C)C3CC4OC[C@@H]3[C@@H]1[C@H]2[C@@]45C(=O)Nc6ccccc65',\n",
       " 'CN1C[C@@]2(C=C)C3CC4OC[C@@H]3[C@@H]1[C@H]2[C@@]45C(=O)Nc6ccccc65',\n",
       " 'CN1C[C@@]2(C=C)C3CC4OC[C@@H]3[C@@H]1[C@H]2[C@@]45C(=O)Nc6ccccc65',\n",
       " 'C[C@H](CCC(=O)NCC(=O)O)[C@H]1CC[C@H]2[C@@H]3[C@H](O)C[C@@H]4C[C@H](O)CC[C@]4(C)[C@H]3C[C@H](O)[C@]12C',\n",
       " 'C[C@H](CCC(=O)NCC(=O)O)[C@H]1CC[C@H]2[C@@H]3[C@H](O)C[C@@H]4C[C@H](O)CC[C@]4(C)[C@H]3C[C@H](O)[C@]12C',\n",
       " 'C[C@H](CCC(=O)NCC(=O)O)[C@H]1CC[C@H]2[C@@H]3[C@H](O)C[C@@H]4C[C@H](O)CC[C@]4(C)[C@H]3C[C@H](O)[C@]12C',\n",
       " 'CC(CCC(=O)NCC(=O)O)C1CCC2C3CCC4CC(O)CCC4(C)C3CC(O)C12C',\n",
       " 'CC(CCC(=O)NCC(=O)O)C1CCC2C3CCC4CC(O)CCC4(C)C3CC(O)C12C',\n",
       " 'CC(CCC(=O)NCC(=O)O)C1CCC2C3CCC4CC(O)CCC4(C)C3CC(O)C12C',\n",
       " 'NC(=N)N\\\\N=C\\\\c1c(Cl)cccc1Cl',\n",
       " 'NC(=N)N\\\\N=C\\\\c1c(Cl)cccc1Cl',\n",
       " 'NC(=N)N\\\\N=C\\\\c1c(Cl)cccc1Cl',\n",
       " 'NC(=N)NN=Cc1c(Cl)cccc1Cl',\n",
       " 'NC(=N)NN=Cc1c(Cl)cccc1Cl',\n",
       " 'NC(=N)NN=Cc1c(Cl)cccc1Cl',\n",
       " 'Oc1nccc2c(cccc12)S(=O)(=O)N1CCCNCC1',\n",
       " 'Oc1nccc2c(cccc12)S(=O)(=O)N1CCCNCC1',\n",
       " 'Oc1nccc2c(cccc12)S(=O)(=O)N1CCCNCC1',\n",
       " 'OC1(CCN(CCCC(=O)c2ccc(F)cc2)CC1)c1ccc(Cl)cc1',\n",
       " 'OC1(CCN(CCCC(=O)c2ccc(F)cc2)CC1)c1ccc(Cl)cc1',\n",
       " 'OC1(CCN(CCCC(=O)c2ccc(F)cc2)CC1)c1ccc(Cl)cc1',\n",
       " 'CCCCCCc1ccc(O)cc1O',\n",
       " 'CCCCCCc1ccc(O)cc1O',\n",
       " 'CCCCCCc1ccc(O)cc1O',\n",
       " 'CN1C2CC[C@H]1C[C@H](C2)OC(=O)C(O)c1ccccc1',\n",
       " 'CN1C2CC[C@H]1C[C@H](C2)OC(=O)C(O)c1ccccc1',\n",
       " 'CN1C2CC[C@H]1C[C@H](C2)OC(=O)C(O)c1ccccc1',\n",
       " 'CC(CCCCC(=O)Nc1ccc(cc1)C(F)(F)F)NCCc1c[nH]cn1',\n",
       " 'CC(CCCCC(=O)Nc1ccc(cc1)C(F)(F)F)NCCc1c[nH]cn1',\n",
       " 'CC(CCCCC(=O)Nc1ccc(cc1)C(F)(F)F)NCCc1c[nH]cn1',\n",
       " 'CC(=O)OCC(=O)[C@@]1(O)CCC2C3CCC4=CC(=O)CC[C@]4(C)C3[C@@H](O)C[C@]12C',\n",
       " 'CC(=O)OCC(=O)[C@@]1(O)CCC2C3CCC4=CC(=O)CC[C@]4(C)C3[C@@H](O)C[C@]12C',\n",
       " 'C[C@]12C[C@H](O)C3C(CCC4=CC(=O)CC[C@]34C)C1CC[C@]2(O)C(=O)COC(=O)CCC(O)=O',\n",
       " 'C[C@]12C[C@H](O)C3C(CCC4=CC(=O)CC[C@]34C)C1CC[C@]2(O)C(=O)COC(=O)CCC(O)=O',\n",
       " 'C[C@]12C[C@H](O)C3C(CCC4=CC(=O)CC[C@]34C)C1CC[C@]2(O)C(=O)COC(=O)CCC(O)=O',\n",
       " 'CC12C[C@H](O)C3C(CCC4=CC(=O)CCC34C)C1CC[C@]2(O)C(=O)COP(O)(O)=O',\n",
       " 'CC12C[C@H](O)C3C(CCC4=CC(=O)CCC34C)C1CC[C@]2(O)C(=O)COP(O)(O)=O',\n",
       " 'CC12C[C@H](O)C3C(CCC4=CC(=O)CCC34C)C1CC[C@]2(O)C(=O)COP(O)(O)=O',\n",
       " 'CN1C2CC[C@@H]1C[C@H](C2)OC(=O)[C@H](CO)c1ccccc1',\n",
       " 'CN1C2CC[C@@H]1C[C@H](C2)OC(=O)[C@H](CO)c1ccccc1',\n",
       " 'CN1C2CC[C@@H]1C[C@H](C2)OC(=O)[C@H](CO)c1ccccc1',\n",
       " 'Cc1cc(O)c2c3c1c1c(C)cc(O)c4c1c1c3c3c(c(O)cc(O)c3c2=O)c2c(O)cc(O)c(c12)c4=O',\n",
       " 'Cc1cc(O)c2c3c1c1c(C)cc(O)c4c1c1c3c3c(c(O)cc(O)c3c2=O)c2c(O)cc(O)c(c12)c4=O',\n",
       " 'Cc1cc(O)c2c3c1c1c(C)cc(O)c4c1c1c3c3c(c(O)cc(O)c3c2=O)c2c(O)cc(O)c(c12)c4=O',\n",
       " 'CO[C@H](C)C(O)(C(C)C)C(=O)OCC1=CCN2CC[C@H](O)[C@H]21',\n",
       " 'CO[C@H](C)C(O)(C(C)C)C(=O)OCC1=CCN2CC[C@H](O)[C@H]21',\n",
       " 'CO[C@H](C)C(O)(C(C)C)C(=O)OCC1=CCN2CC[C@H](O)[C@H]21',\n",
       " 'C[C@H]1O[C@H](C[C@H](O)[C@@H]1O)OC2CC[C@]3(C=O)[C@H]4CC[C@]5(C)[C@H](CC[C@]5(O)[C@@H]4CC[C@]3(O)C2)C6=CC(=O)OC6',\n",
       " 'C[C@H]1O[C@H](C[C@H](O)[C@@H]1O)OC2CC[C@]3(C=O)[C@H]4CC[C@]5(C)[C@H](CC[C@]5(O)[C@@H]4CC[C@]3(O)C2)C6=CC(=O)OC6',\n",
       " 'C[C@H]1O[C@H](C[C@H](O)[C@@H]1O)OC2CC[C@]3(C=O)[C@H]4CC[C@]5(C)[C@H](CC[C@]5(O)[C@@H]4CC[C@]3(O)C2)C6=CC(=O)OC6',\n",
       " 'CN1[C@H]2CC[C@@H]1C[C@@H](C2)OC(=O)C(O)c3ccccc3',\n",
       " 'CN1[C@H]2CC[C@@H]1C[C@@H](C2)OC(=O)C(O)c3ccccc3',\n",
       " 'CN1[C@H]2CC[C@@H]1C[C@@H](C2)OC(=O)C(O)c3ccccc3',\n",
       " 'CN1CCCN(CC1)C(c1ccccc1)c1ccc(Cl)cc1',\n",
       " 'CN1CCCN(CC1)C(c1ccccc1)c1ccc(Cl)cc1',\n",
       " 'CN1CCCN(CC1)C(c1ccccc1)c1ccc(Cl)cc1',\n",
       " 'C/C=C/1\\\\C2Cc3[nH]c(=O)ccc3C1(N)CC(=C2)C',\n",
       " 'C/C=C/1\\\\C2Cc3[nH]c(=O)ccc3C1(N)CC(=C2)C',\n",
       " 'C/C=C/1\\\\C2Cc3[nH]c(=O)ccc3C1(N)CC(=C2)C',\n",
       " 'COc1c2OCOc2cc3CCN(C)Cc13',\n",
       " 'COc1c2OCOc2cc3CCN(C)Cc13',\n",
       " 'COc1c2OCOc2cc3CCN(C)Cc13',\n",
       " 'CC[C@H]1CN2CCC1C[C@H]2[C@H](O)c3ccnc4ccc(OC)cc34',\n",
       " 'CC[C@H]1CN2CCC1C[C@H]2[C@H](O)c3ccnc4ccc(OC)cc34',\n",
       " ...]"
      ]
     },
     "execution_count": 62,
     "metadata": {},
     "output_type": "execute_result"
    }
   ],
   "source": [
    "list(metadata['canonical_smiles'])"
   ]
  },
  {
   "cell_type": "code",
   "execution_count": 63,
   "metadata": {},
   "outputs": [
    {
     "name": "stderr",
     "output_type": "stream",
     "text": [
      "/home/hengshi/.conda/envs/chemvaeLower/lib/python3.6/site-packages/ipykernel_launcher.py:2: FutureWarning: elementwise comparison failed; returning scalar instead, but in the future will perform elementwise comparison\n",
      "  \n"
     ]
    },
    {
     "ename": "KeyboardInterrupt",
     "evalue": "",
     "output_type": "error",
     "traceback": [
      "\u001b[0;31m---------------------------------------------------------------------------\u001b[0m",
      "\u001b[0;31mKeyboardInterrupt\u001b[0m                         Traceback (most recent call last)",
      "\u001b[0;32m<ipython-input-63-b605ee880dcb>\u001b[0m in \u001b[0;36m<module>\u001b[0;34m\u001b[0m\n\u001b[1;32m      1\u001b[0m \u001b[0mlist_canonSmiles\u001b[0m \u001b[0;34m=\u001b[0m \u001b[0mlist\u001b[0m\u001b[0;34m(\u001b[0m\u001b[0mmetadata\u001b[0m\u001b[0;34m[\u001b[0m\u001b[0;34m'canonical_smiles'\u001b[0m\u001b[0;34m]\u001b[0m\u001b[0;34m)\u001b[0m\u001b[0;34m\u001b[0m\u001b[0;34m\u001b[0m\u001b[0m\n\u001b[0;32m----> 2\u001b[0;31m \u001b[0mindicesWithOnehot\u001b[0m \u001b[0;34m=\u001b[0m \u001b[0;34m[\u001b[0m\u001b[0mi\u001b[0m \u001b[0;32mfor\u001b[0m \u001b[0mi\u001b[0m \u001b[0;32min\u001b[0m \u001b[0mrange\u001b[0m\u001b[0;34m(\u001b[0m\u001b[0mmetadata\u001b[0m\u001b[0;34m.\u001b[0m\u001b[0mshape\u001b[0m\u001b[0;34m[\u001b[0m\u001b[0;36m0\u001b[0m\u001b[0;34m]\u001b[0m\u001b[0;34m)\u001b[0m \u001b[0;32mif\u001b[0m \u001b[0mlist_canonSmiles\u001b[0m\u001b[0;34m[\u001b[0m\u001b[0mi\u001b[0m\u001b[0;34m]\u001b[0m \u001b[0;32min\u001b[0m \u001b[0mtrt_whole_list\u001b[0m\u001b[0;34m]\u001b[0m\u001b[0;34m\u001b[0m\u001b[0;34m\u001b[0m\u001b[0m\n\u001b[0m",
      "\u001b[0;32m<ipython-input-63-b605ee880dcb>\u001b[0m in \u001b[0;36m<listcomp>\u001b[0;34m(.0)\u001b[0m\n\u001b[1;32m      1\u001b[0m \u001b[0mlist_canonSmiles\u001b[0m \u001b[0;34m=\u001b[0m \u001b[0mlist\u001b[0m\u001b[0;34m(\u001b[0m\u001b[0mmetadata\u001b[0m\u001b[0;34m[\u001b[0m\u001b[0;34m'canonical_smiles'\u001b[0m\u001b[0;34m]\u001b[0m\u001b[0;34m)\u001b[0m\u001b[0;34m\u001b[0m\u001b[0;34m\u001b[0m\u001b[0m\n\u001b[0;32m----> 2\u001b[0;31m \u001b[0mindicesWithOnehot\u001b[0m \u001b[0;34m=\u001b[0m \u001b[0;34m[\u001b[0m\u001b[0mi\u001b[0m \u001b[0;32mfor\u001b[0m \u001b[0mi\u001b[0m \u001b[0;32min\u001b[0m \u001b[0mrange\u001b[0m\u001b[0;34m(\u001b[0m\u001b[0mmetadata\u001b[0m\u001b[0;34m.\u001b[0m\u001b[0mshape\u001b[0m\u001b[0;34m[\u001b[0m\u001b[0;36m0\u001b[0m\u001b[0;34m]\u001b[0m\u001b[0;34m)\u001b[0m \u001b[0;32mif\u001b[0m \u001b[0mlist_canonSmiles\u001b[0m\u001b[0;34m[\u001b[0m\u001b[0mi\u001b[0m\u001b[0;34m]\u001b[0m \u001b[0;32min\u001b[0m \u001b[0mtrt_whole_list\u001b[0m\u001b[0;34m]\u001b[0m\u001b[0;34m\u001b[0m\u001b[0;34m\u001b[0m\u001b[0m\n\u001b[0m",
      "\u001b[0;31mKeyboardInterrupt\u001b[0m: "
     ]
    }
   ],
   "source": [
    "list_canonSmiles = list(metadata['canonical_smiles'])\n",
    "indicesWithOnehot = [i for i in range(metadata.shape[0]) if list_canonSmiles[i] in trt_whole_list]"
   ]
  },
  {
   "cell_type": "code",
   "execution_count": 65,
   "metadata": {},
   "outputs": [
    {
     "data": {
      "text/plain": [
       "((20065,), 1319138)"
      ]
     },
     "execution_count": 65,
     "metadata": {},
     "output_type": "execute_result"
    }
   ],
   "source": [
    "trt_whole_list.shape, len(list_canonSmiles)"
   ]
  },
  {
   "cell_type": "code",
   "execution_count": 66,
   "metadata": {},
   "outputs": [],
   "source": [
    "path_data = '/nfs/turbo/umms-welchjd/hengshi/perturb_gan/data/LINCS'\n",
    "path_model = \"/scratch/welchjd_root/welchjd/hengshi/GAN/perturb_gan/molecular-vae-master/output_zincInChemVAE_OnlyZinc_ChemVAEData_Scale1e2/model_params.pt\"\n",
    "\n",
    "path_vae_model = '/nfs/turbo/umms-welchjd/hengshi/perturb_gan/20201118/scVI_net2net/BaseNearestMatch/VAE_LINCS/models_vae/model_81416-2071305'\n",
    "path_onehot = '/nfs/turbo/umms-welchjd/hengshi/perturb_gan/data/LINCS/oneHot/'\n",
    "\n",
    "# import data\n",
    "#usedata = np.load(os.path.join(path_data, 'GSE92742_Broad_LINCS_Level3_INF_mlr12k_n1319138x12328_processed.npy'))\n",
    "\n",
    "indices_with_value = np.load(os.path.join(path_onehot, 'GSE92742_Broad_LINCS_Level3_INF_mlr12k_n1319138x12328_processed_IndicesWithCanonicalSmiles.npy'))\n",
    "#usedata = usedata[indices_with_value]\n",
    "\n",
    "metadata = pd.read_csv(os.path.join(path_data, 'GSE92742_Broad_LINCS_Level3_INF_mlr12k_n1319138x12328_processed_PerturbMeta.csv'))\n",
    "metadata = metadata.iloc[indices_with_value, :]\n",
    "indicesWithRes = list(metadata['canonical_smiles'] != 'restricted')\n",
    "\n",
    "#usedata = usedata[indicesWithRes]\n",
    "metadata = metadata.iloc[indicesWithRes, :]\n",
    "\n",
    "# select those with onehot data\n",
    "data_all = np.load(os.path.join(path_onehot, \"GSE92742_Broad_LINCS_Level3_INF_mlr12k_n1319138x12328_processed_UniqueCanonicalSmilesOneHot.npy\"))\n",
    "trt_whole_list = np.load(os.path.join(path_onehot, 'GSE92742_Broad_LINCS_Level3_INF_mlr12k_n1319138x12328_processed_UniqueCanonicalSmilesOneHotSmiles.npy'))\n",
    "\n",
    "list_canonSmiles = list(metadata['canonical_smiles'])\n",
    "\n"
   ]
  },
  {
   "cell_type": "code",
   "execution_count": 68,
   "metadata": {},
   "outputs": [
    {
     "data": {
      "text/plain": [
       "1"
      ]
     },
     "execution_count": 68,
     "metadata": {},
     "output_type": "execute_result"
    }
   ],
   "source": [
    "np.sum(list_canonSmiles[0] == trt_whole_list)"
   ]
  },
  {
   "cell_type": "code",
   "execution_count": 71,
   "metadata": {},
   "outputs": [],
   "source": [
    "a = set(trt_whole_list)"
   ]
  },
  {
   "cell_type": "code",
   "execution_count": 72,
   "metadata": {},
   "outputs": [
    {
     "data": {
      "text/plain": [
       "{'COc1ccc2c3c([C@H](CO)N(C[C@]33CN(CC4CCOCC4)C3)S(C)(=O)=O)n(C)c2c1',\n",
       " 'C[C@H](CO)N1C[C@H](C)[C@@H](CN(C)C(=O)Cc2ccncc2)Oc3cc(ccc3S1(=O)=O)C4=CCCCC4',\n",
       " 'COc1cccc(c1)S(=O)(=O)N1CCCCN2[C@@H](CO)[C@H]([C@H]2C1)c1ccc(cc1)C#CCC(C)C',\n",
       " 'CCC(=O)NC[C@@H]1[C@@H]([C@H](CO)N1Cc1ccccn1)c1ccc(\\\\C=C\\\\C)cc1',\n",
       " 'COc1cccc(c1)c2cccc(c2)c3nc(cc4CN([C@H](CCO)c43)S(=O)C(C)(C)C)C(=O)N5CCN(C)CC5',\n",
       " 'OC[C@@H]1[C@@H](c2ccccc2)C2(CN(C2)C(=O)C2CCCC2)N1CC1CC1',\n",
       " 'Cc1ccc(cn1)C(=O)Nc1ccccc1N',\n",
       " 'COc1ccccc1N1CCN(CC(O)COc2cccc3ccccc23)CC1',\n",
       " 'CC(C)(O)[C@H]1O[C@H]2CC[C@]3(C)[C@]4(C)[C@H](Cc5c4[nH]c6ccccc56)CC[C@@]3(O)C2=CC1=O',\n",
       " 'CO[C@H]1CC[C@H]2CCOc3ccc(cc3C(=O)N(C)C[C@H](CC(=O)N(C)C[C@H]1O2)c1ccccc1)C#N',\n",
       " 'CN1[C@H]2CC[C@H](CC(=O)NCc3ccccc3F)O[C@@H]2COc2ccc(NC(=O)C3CCCCC3)cc2C1=O',\n",
       " 'CN(C)C(=O)c1ccc(cc1)-c1ccc2N[C@@H](CO)[C@@H]3CCN(Cc4ccc5OCOc5c4)[C@@H]3c2c1',\n",
       " 'OC[C@H]1[C@@H]([C@@H]2CN(CC3CCOCC3)CCCCN12)c1ccc(cc1)C#Cc1ccccc1F',\n",
       " 'COCC(=O)N1C[C@@]2(C1)CN(Cc1ccc3OCOc3c1)[C@H](CO)c1c2c2ccc(OC)cc2n1C',\n",
       " 'CC(=O)N1[C@H]([C@H](CO)[C@H]2Cn3c(cccc3=O)[C@@H]12)C(=O)NCc1ccccc1F',\n",
       " 'C[C@H](CO)N1C[C@H](C)[C@@H](CN(C)CC2CCCC2)Oc3ncc(C#Cc4ccncc4)cc3C1=O',\n",
       " 'COc1cc2[nH]nnc2cc1C(=O)NCC1CCCN1CC=C',\n",
       " 'OC[C@@H]1[C@@H]([C@H](C#N)N1C(=O)Cc1ccccn1)c1ccc(cc1)C#CC1CC1',\n",
       " 'C(N1[C@H]2CNC[C@@H]1[C@@H]2c1ccc(cc1)-c1cccnc1)c1ccc2OCOc2c1',\n",
       " 'CN1[C@@H]2CC[C@H](CC(=O)NCCc3ccncc3)O[C@@H]2COc2ccc(NC(=O)Nc3ccccc3F)cc2C1=O',\n",
       " 'CCNC(=O)c1cc2CN([C@@H](CCO)c2c(n1)-c1cccc(c1)-c1cccc(c1)C(=O)N(C)C)[S@@](=O)C(C)(C)C',\n",
       " 'O=c1cc(oc2c(cccc12)-c1ccccc1)N1CCOCC1',\n",
       " 'COC(=O)C[C@@H]1CC[C@@H]2[C@H](COc3ccc(NS(=O)(=O)c4ccc(F)cc4)cc3C(=O)N2C)O1',\n",
       " 'COc1ccc(cc1OC)c2nnn(CC(=O)N(C(C)C(=O)NC3CCCC3)C4CCCCC4)n2',\n",
       " 'CCNC(=O)c1noc(c1-c1ccc(CN2CCOCC2)cc1)-c1cc(C(C)C)c(O)cc1O',\n",
       " 'CC(C)=CCC\\\\C(C)=C\\\\CC\\\\C(C)=C\\\\CC\\\\C(C)=C\\\\CO',\n",
       " 'COc1cccc(c1)S(=O)(=O)N(C)C[C@H]2OCc3cn(CCCC(=O)N(C[C@@H]2C)[C@H](C)CO)nn3',\n",
       " 'C[C@H](CO)N1C[C@@H](C)[C@@H](CN(C)Cc2ccccc2F)Oc3cc(ccc3S1(=O)=O)C4=CCCC4',\n",
       " 'Cc1c(c2ccccc2)[n+]([O-])c(c(C)[n+]1[O-])c3ccc(Br)cc3',\n",
       " 'Cc1nnc(NS(=O)(=O)c2ccc(N)cc2)s1',\n",
       " 'COc1ccc2C3=NCCN3C(=Nc2c1OC)NC(=O)c4cccnc4',\n",
       " 'CNC[C@H]1Oc2cc(C#CC3(O)CCCC3)ccc2S(=O)(=O)N(C[C@@H]1C)[C@@H](C)CO',\n",
       " 'CC(C)NC(=O)Nc1cccc2C(=O)N(C[C@@H](C)[C@H](CN(C)Cc3ccc(Cl)c(Cl)c3)Oc12)[C@H](C)CO',\n",
       " 'CN(C)C(=O)[C@@H]1[C@@H](CO)[C@@H]2Cn3c(ccc(C4=CCCC4)c3=O)[C@H]1N2C(=O)Nc1ccccc1',\n",
       " 'COc1cccc(c1)S(=O)(=O)N(C)C[C@@H]2Oc3cc(ccc3S(=O)(=O)N(C[C@@H]2C)[C@H](C)CO)C4=CCCCC4',\n",
       " 'OC[C@H]1[C@@H]([C@@H](C#N)N1C(=O)c1cccnc1)c1ccc(cc1)C#Cc1ccccc1F',\n",
       " 'CCS(=O)(=O)N1[C@@H](CO)[C@@H]([C@H]1C#N)c1ccc(cc1)C#Cc1ccccc1F',\n",
       " 'C[C@H](CO)N1C[C@H](C)[C@H](CN(C)Cc2ccc(F)cc2)Oc3ncc(/C=C/c4ccccc4)cc3C1=O',\n",
       " 'C[C@H](CO)N1C[C@@H](C)[C@@H](CN(C)C(=O)c2ccc(F)cc2)Oc3cc(ccc3S1(=O)=O)C4=CCCCC4',\n",
       " 'CCOC(=O)N(C)C[C@@H]1OCc2cn(CCCC(=O)N(C[C@@H]1C)[C@@H](C)CO)nn2',\n",
       " 'CC(C)C#Cc1ccc(cc1)[C@H]1[C@H](CO)N2[C@H]1CN(CC2=O)C(=O)c1ccc2OCOc2c1',\n",
       " 'CO[C@@H](CN(C)C(=O)C1CCOCC1)[C@H](C)CN([C@H](C)CO)C(=O)Nc1ccc(F)cc1',\n",
       " 'CC(C)NC(=O)Nc1ccc2O[C@@H](C)CCCCO[C@H](CN(C)C(=O)CCCN(C)C)[C@@H](C)CN([C@@H](C)CO)C(=O)c2c1',\n",
       " 'COc1ccc2c3c([C@H](CO)N(C[C@]33CN(C3)C(=O)c3ccccc3F)C(=O)Nc3ccccc3F)n(C)c2c1',\n",
       " 'OP(O)(=O)C(F)(F)c1cc2cc(ccc2cc1Br)C#N',\n",
       " 'OC[C@@H]1[C@@H](c2ccccc2)C2(CN(Cc3nccs3)C2)N1CCC(F)(F)F',\n",
       " 'O=C1CCCn2cc(COC[C@@H](Cc3ccccc3)N1)nn2',\n",
       " 'COc1ccc2c3c([C@@H](CO)N(C[C@]33CCN(CC3)C(=O)c3ccccc3F)C(=O)Nc3ccc(F)cc3)n(C)c2c1',\n",
       " 'COc1ccc(NC(=O)N2C[C@H]3[C@H]([C@@H](CO)N3C(=O)C2)c2ccc(cc2)C2=CCCC2)cc1',\n",
       " 'C[C@H](CO)N1C[C@H](C)[C@@H](CN(C)S(=O)(=O)C)Oc2ncc(cc2C1=O)c3ccc(C)cc3',\n",
       " 'C[C@H](CO)N1C[C@@H](C)[C@H](CN(C)C(=O)c2ccncc2)OCc3ccccc3-c4c(C1=O)n(C)c5ccccc45',\n",
       " 'CCc1cnc(s1)N1[C@@H](CO)[C@@H]([C@@H]1C#N)c1ccc(cc1)C1=CCCC1',\n",
       " 'OC[C@H]1O[C@H](CC(=O)NCCN2CCCCC2)C[C@@H]3[C@H]1Oc4ccc(NC(=O)Cc5ccncc5)cc34',\n",
       " 'Nc1nc(cs1)C(=N/O)\\\\C(=O)N[C@H]1[C@H]2SCC(C=C)=C(N2C1=O)C(O)=O',\n",
       " 'CCN(CC)S(=O)(=O)c1cccc2cc(C(=O)O)c(O)cc12',\n",
       " 'C[C@H](CO)N1C[C@@H](C)[C@@H](CN(C)S(=O)(=O)c2ccc(F)cc2)Oc3cc(ccc3S1(=O)=O)C4=CCCC4',\n",
       " 'COc1ccc2[C@H](OC(=O)c2c1OC)C1N(C)CCc2cc3OCOc3c(OC)c12',\n",
       " 'C[C@H](CO)N1C[C@@H](C)[C@H](CN(C)S(=O)(=O)c2ccccc2)Oc3ccc(cc3CC1=O)N(C)C',\n",
       " 'OC[C@H]1O[C@@H](CC(=O)N2CCOCC2)C[C@@H]3[C@H]1Oc4ccc(NS(=O)(=O)c5ccccc5)cc34',\n",
       " 'CCCN1C[C@@H](C)[C@@H](CN(C)C(=O)c2cc(NS(=O)(=O)c3ccccc3)ccc2OC[C@@H]1C)OC',\n",
       " 'CN1[C@@H]2CC[C@H](CC(=O)NCc3ccc(cc3)-c3ccccc3)O[C@@H]2COc2ccc(NC(=O)c3cc(C)on3)cc2C1=O',\n",
       " 'CC(C)CC1(CC=C)C(=O)NC(=O)NC1=O',\n",
       " 'CO[C@H]1CC[C@@H]2CCOc3c(cccc3C(=O)N(C)C[C@H](OC)[C@@H](C)C(=O)N(C)C[C@@H]1O2)C#N',\n",
       " 'CC(C)NC(=O)N(C)C[C@@H]1OCCCC[C@@H](C)Oc2ccc(NC(=O)Cc3ccccc3)cc2C(=O)N(C[C@@H]1C)[C@@H](C)CO',\n",
       " 'CO[C@H]1CC[C@@H]2CCN(C)C(=O)[C@H](C)[C@@H](CN(C)C(=O)c3cc(ccc3OC[C@H]1O2)C#N)OC',\n",
       " 'COc1ccc2c3c([nH]c2c1)[C@@H](CO)N(C[C@]31CCN(CC2CCCC2)CC1)C(=O)CN1CCOCC1',\n",
       " 'Cn1nnnc1Sc2ncnc3scc(c4cccc(Br)c4)c23',\n",
       " 'OC[C@H]1O[C@H](CC(=O)NCc2cccc(F)c2)C[C@H]3[C@@H]1Oc4ccc(NC(=O)C5CCC5)cc34',\n",
       " 'CC(C)OC(=O)C1=C(C)N=c2sc(=Cc3ccc(OCC(=O)O)cc3)c(=O)n2C1c4ccc(Cl)cc4',\n",
       " 'C(CNC(c1ccccc1)c1ccccc1)NC(c1ccccc1)c1ccccc1',\n",
       " 'C[C@H](CO)N1C[C@@H](C)[C@@H](CN(C)S(=O)(=O)c2cccc(C#N)c2)OCc3ccccc3-c4c(C1=O)n(C)c5ccccc45',\n",
       " 'C[C@H](CO)N1C[C@@H](C)[C@H](CN(C)Cc2ccncc2)OCCCC[C@@H](C)Oc3ccc(NC(=O)Nc4ccccc4)cc3C1=O',\n",
       " 'COC(=O)C[C@H]1CC[C@@H]2NC[C@@H](O)COC[C@H]2O1',\n",
       " 'COC(=O)C[C@@H]1CC[C@H]2[C@@H](COc3ccc(NC(=O)c4cccc(Cl)c4)cc3C(=O)N2C)O1',\n",
       " 'C[C@@H]1O[C@@H](C[C@H]1O)n1cnc2c(N)ncnc12',\n",
       " 'COc1ccc(C=Cc2cc(OC)cc(OC)c2)c(OC)c1',\n",
       " 'CN1[C@@H]2CC[C@@H](CC(=O)N[C@@H]3CCN(Cc4ccccc4)C3)O[C@@H]2COc2ccc(NC(=O)Nc3c(C)noc3C)cc2C1=O',\n",
       " 'CCC(=O)N1CC[C@@]2(CC1)CN([C@@H](CO)c1[nH]c3cc(OC)ccc3c21)S(=O)(=O)c1ccccc1',\n",
       " 'COc1ccc(CN(C)C[C@H]2Oc3ccc(NC(=O)Cn4cnnn4)cc3C(=O)N(C[C@H]2C)[C@@H](C)CO)cc1',\n",
       " 'OC[C@@H]1N[C@H](C#N)[C@@H]1c1ccc(cc1)C#Cc1ccccc1F',\n",
       " 'CO[C@H]1CC[C@@H]2CCN(C)C(=O)[C@H](C)N(C)C(=O)c3cccc(C#N)c3OC[C@@H]1O2',\n",
       " 'COc1cc2nccc(Oc3ccc(NC(=O)Nc4cc(C)on4)c(Cl)c3)c2cc1OC',\n",
       " 'CCOC(=O)C1(CCN(CCC(C#N)(c2ccccc2)c3ccccc3)CC1)c4ccccc4',\n",
       " 'O[C@@H]1COC[C@@H]2O[C@@H](CC(=O)N3CCCCC3)CC[C@H]2N(C1)S(=O)(=O)c1cccc(Cl)c1',\n",
       " 'CCCNC(=O)N1[C@H](CO)[C@@H]([C@H]1CNC(C)C)c1ccc(cc1)C1=CCCCC1',\n",
       " 'OC[C@H]1[C@@H]2[C@@H](CN(C(=O)Nc3ccc(Cl)cc3)c3ccccc23)N1C(=O)C1CC1',\n",
       " 'C[C@@]12CC[C@H]3[C@@H](CCC4=C3CCC(=O)C4)[C@@H]2CC[C@@]1(O)C#C',\n",
       " 'O[C@@H]1COC[C@@H]2O[C@H](CC(=O)Nc3nccs3)CC[C@H]2N(Cc2ccc(Oc3ccccc3)cc2)C1',\n",
       " 'OC[C@@H]1N(Cc2ccccn2)C2(CN(C2)C(=O)c2cccc(F)c2)[C@H]1c1ccccc1',\n",
       " 'CC(C)(Oc1ccc(cc1)C1CC1(Cl)Cl)C(O)=O',\n",
       " 'C[C@@H](CO)N1C[C@@H](C)[C@@H](CN(C)C(=O)Nc2ccc(F)cc2)OCCCC[C@H](C)Oc3ccc(NS(=O)(=O)c4ccccc4)cc3C1=O',\n",
       " 'C[C@H](NC(=O)C[C@@H]1C[C@H]2[C@H](Oc3ccc(NC(=O)Nc4ccc(cc4)C(F)(F)F)cc23)[C@H](CO)O1)c5ccccc5',\n",
       " 'COC(=O)C[C@@H]1CC[C@H]2[C@@H](COc3ccc(NC(=O)c4ccccc4F)cc3C(=O)N2C)O1',\n",
       " 'OC[C@H]1[C@@H]2[C@@H](CN(C(=O)CC(F)(F)F)c3ccccc23)N1Cc1cccnc1',\n",
       " 'CO[C@H]1CC[C@@H]2CCN(C)C(=O)[C@@H](C)N(C)C(=O)c3cccc(C#N)c3OC[C@@H]1O2',\n",
       " 'OC[C@H]1[C@H]([C@H]2CN(CC(=O)N12)C(=O)Cc1cccnc1)c1ccc(cc1)C#CC1CCCCC1',\n",
       " 'C[C@H](CO)N1C[C@@H](C)[C@H](CN(C)C)Oc2ccc(NC(=O)C3CC3)cc2C1=O',\n",
       " 'CSc1ccc2Sc3ccccc3CC(N3CCN(C)CC3)c2c1',\n",
       " 'Cc1ccc(cc1)N(CC1=NCCN1)c1cccc(O)c1',\n",
       " 'CCN(C[C@H]1N[C@H](CO)[C@H]1c1ccc(cc1)-c1ccc(F)cc1)C(=O)COC',\n",
       " 'CCC(=O)N1C[C@@H](C)[C@@H](CN(C)C(=O)c2ccc(NC(=O)c3ccccc3)cc2OC[C@@H]1C)OC',\n",
       " 'COc1ccc2[nH]c(nc2n1)S(=O)Cc1ncc(C)c(OC)c1C',\n",
       " 'CO[C@@H](CN(C)C(=O)c1ccc2OCOc2c1)[C@H](C)CN([C@H](C)CO)S(=O)(=O)c1ccc(C)cc1',\n",
       " 'CC(C)C#Cc1ccc2c(O[C@H](CN(C)S(=O)(=O)c3cn(C)cn3)[C@@H](C)CN([C@H](C)CO)S2(=O)=O)c1',\n",
       " 'OC[C@H]1N(Cc2ccccn2)[C@@H](CN(C)S(C)(=O)=O)[C@@H]1c1ccccc1',\n",
       " 'CCCC(NS(=O)(=O)c1ccc(C)cc1)C(=O)O',\n",
       " 'COc1ccc(NC(=O)N[C@@H]2CC[C@@H](CC(=O)NC3CCC3)O[C@H]2CO)cc1',\n",
       " 'OC[C@H]1O[C@H](CC(=O)NCc2cc(F)ccc2F)C[C@@H]3[C@H]1Oc4ccc(NC(=O)c5cccnc5)cc34',\n",
       " 'CO[C@H]1CC[C@@H]2CCN(C)C(=O)CCCN(C)C(=O)c3cc(ccc3OC[C@H]1O2)C#N',\n",
       " 'COCCN(C[C@@H]1[C@H]([C@H](CO)N1C(=O)C1CCC1)c1ccccc1)C(C)=O',\n",
       " 'CO[C@@H](CN(C)C(=O)C1CCOCC1)[C@@H](C)CN([C@H](C)CO)C(=O)Nc1ccc(F)cc1',\n",
       " 'COc1cccc(c1)C(=O)Nc1ccc2OC[C@@H]3O[C@@H](CC(=O)N[C@@H](C)c4ccccc4)CC[C@@H]3N(C)C(=O)c2c1',\n",
       " 'O[C@H]1COC[C@@H]2O[C@H](CC(=O)N3CCOCC3)CC[C@H]2N(Cc2cccc(c2)-c2ccncc2)C1',\n",
       " 'OONc1ccc2nc(ccc2c1I)N1CCNCC1',\n",
       " 'Cc1cccc(c1)S(=O)(=O)N1C[C@H](O)COC[C@H]2O[C@H](CC(=O)Nc3ccc(cc3)-c3ccccc3)CC[C@H]12',\n",
       " 'CN(C)CCCc1cc(ccc1O)C(=O)Nc2ccc(cc2)c3ccncc3',\n",
       " 'Cc1onc(C(=O)N2CCN(CC2)C(c2ccc(F)cc2)c2ccc(F)cc2)c1[N+]([O-])=O',\n",
       " 'COC(=O)c1ccccc1NC(=O)CCCOc1cc(=O)n(C)c2ccccc12',\n",
       " 'COc1ccc(cc1)c2nc(OC)c3ccccc3n2',\n",
       " 'CCN1[C@@H]2Cn3c(ccc(-c4ccccc4F)c3=O)[C@H]1[C@H]([C@@H]2CO)C(=O)NCc1ccc(F)cc1',\n",
       " 'CCOC(=O)[C@H](CCc1ccccc1)N[C@@H](C)C(=O)N1Cc2cc(OC)c(OC)cc2C[C@H]1C(O)=O',\n",
       " 'OC[C@H]1O[C@H](CCn2cc(nn2)C2CCCCC2)CC[C@H]1NC(=O)CN1CCOCC1',\n",
       " 'CCCCCc1c(C(=O)O)c(O)cc2OC(=O)c3c(cc(OC)cc3Oc12)C(=O)CCCC',\n",
       " 'CO[C@H]1CC[C@@H]2CCOc3c(cccc3C(=O)N(C)C[C@@H](C)C(=O)N(C)C[C@H]1O2)C#N',\n",
       " 'CC(C)NC(=O)N[C@H]1CC[C@@H](CCN)O[C@H]1CO',\n",
       " 'COc1cc(OC)c(Cl)c2O[C@]3([C@H](C)CC(=O)C=C3OC)C(=O)c12',\n",
       " 'C[C@@H](CO)N1C[C@H](C)[C@H](CN(C)C(=O)Nc2ccc3OCOc3c2)Oc4cc(C#Cc5ccncc5)ccc4S1(=O)=O',\n",
       " 'COc1ccc2c3c([C@H](CO)NC[C@]33CN(Cc4ccc(F)cc4)C3)n(C)c2c1',\n",
       " 'C[C@@H](CO)N1C[C@H](C)[C@@H](CN(C)C)Oc2cc(ccc2S1(=O)=O)c3ccc(F)cc3',\n",
       " 'C[C@H](CO)N1C[C@H](C)[C@@H](CN(C)C(=O)Nc2ccc(F)cc2)OCc3cn(CCCC1=O)nn3',\n",
       " 'COc1ccc2c3c([nH]c2c1)[C@H](CO)N(C[C@]31CN(C1)C(=O)NC(C)C)C(=O)C1CCOCC1',\n",
       " 'CO[C@H]1CN(C)C(=O)c2cc(NC(C)=O)ccc2OC[C@H](C)N(C[C@H]1C)C(=O)c1cnccn1',\n",
       " 'CCOC(=O)c1ncn-2c1CN(C)C(=O)c1cc(ccc-21)N=[N+]=[N-]',\n",
       " 'OC[C@H]1[C@@H]2Cn3c(cccc3=O)[C@H]([C@@H]1C(=O)N1CCCCC1)N2Cc1cocn1',\n",
       " 'COc1ccc(/C=C(\\\\C#N)/c2cccnc2)cc1OC',\n",
       " 'CO[C@@H]1CN(C)C(=O)c2cc(NS(=O)(=O)CC(F)(F)F)ccc2OC[C@H](C)N(C[C@H]1C)C(=O)NC(C)C',\n",
       " 'COCC(=O)Nc1ccc2O[C@H]3[C@H](C[C@H](CC(=O)N4CCOCC4)O[C@H]3CO)c2c1',\n",
       " 'CNC[C@@H]1Oc2c(NC(=O)NC(C)C)cccc2C(=O)N(C[C@@H]1C)[C@@H](C)CO',\n",
       " 'CCCCN1CCCC1CNC(=O)c1cc(C#N)c2ccccc2c1OC',\n",
       " 'COC(=O)N1CCN(C(CN2CCCC2)C1)C(=O)Cc3ccc(Cl)c(Cl)c3',\n",
       " 'CCCN(C)C[C@H]1Oc2ncc(cc2C(=O)N(C[C@@H]1C)[C@H](C)CO)c3ccccc3',\n",
       " 'CO[C@H]1CC[C@@H]2CCOc3ccc(cc3C(=O)N(C)C[C@@H](CC(=O)N(C)C[C@H]1O2)c1ccccc1)C#N',\n",
       " 'OC[C@@H]1[C@H](c2ccccc2)C2(CN(C2)C(=O)C2CCOCC2)N1Cc1ccccc1F',\n",
       " 'O[C@@H]1COC[C@@H]2O[C@H](CC(=O)NCC3CCCCC3)CC[C@H]2N(C1)C(=O)Nc1ccc(Cl)cc1',\n",
       " 'CN1[C@@H](CO)[C@H]2CCN([C@H]2c2cc(ccc12)-c1ccccc1F)C(=O)Cc1ccccn1',\n",
       " 'CCCN1CCCC2Cc3n[nH]cc3CC21',\n",
       " 'CC(C)NC(=O)Nc1ccc2O[C@@H](CN(C)S(=O)(=O)C)[C@@H](C)CN([C@@H](C)CO)C(=O)c2c1',\n",
       " 'CCN(C[C@H]1N[C@@H](CO)[C@@H]1c1ccccc1)C(=O)c1ccncc1',\n",
       " 'OC[C@@H]1[C@@H]([C@H](C#N)N1S(=O)(=O)c1ccccc1)c1ccc(cc1)C1=CCCCC1',\n",
       " 'Cc1nc2sccn2c(=O)c1CCN1CCC(CC1)=C(c1ccccc1)c1ccc(F)cc1',\n",
       " 'COc1ccc(cc1)S(=O)(=O)N(C)C[C@H]2Oc3ncc(C#CC4(O)CCCC4)cc3C(=O)N(C[C@H]2C)[C@H](C)CO',\n",
       " 'CCCNC(=O)N1CC2(C1)[C@@H]([C@H](CO)N2C(=O)CC1CC1)c1ccccc1',\n",
       " 'CC(=O)S[C@@H]1CC2=CC(=O)CC[C@]2(C)[C@H]2CC[C@@]3(C)[C@@H](CC[C@@]33CCC(=O)O3)[C@H]12',\n",
       " 'CCOC(=O)CCC(=O)Nc1ncnc2Oc3ccc4ccccc4c3C(c5ccccc5)c12',\n",
       " 'C[C@@H](CO)N1C[C@@H](C)[C@H](CN(C)C(=O)Nc2c(C)noc2C)OCc3cnnn3CCCC1=O',\n",
       " 'CC(=CCOc1c2occc2cc3ccc(=O)oc13)C',\n",
       " 'C[C@@H](CO)N1C[C@@H](C)[C@@H](CN(C)C(=O)c2ccncc2)OCc3ccccc3-c4ccccc4C1=O',\n",
       " 'COC(=O)C[C@H]1O[C@H](CO)[C@@H](NC(=O)Nc2ccc(cc2)C(F)(F)F)C=C1',\n",
       " 'O[C@H]1COC[C@@H]2O[C@H](CC(=O)NCc3ccc(Cl)c(Cl)c3)CC[C@H]2N(C1)C(=O)c1ccccc1F',\n",
       " 'COc1ccc(cc1)-c1ccc2[C@@H]3[C@@H]([C@@H](CO)[C@H](Cn2c1=O)N3C(=O)c1ccccc1F)C(O)=O',\n",
       " 'COc1ccc(cc1)-c1ccc2N(C)[C@H](CO)[C@@H]3CCN([C@@H]3c2c1)C(=O)NC1CCCCC1',\n",
       " 'Fc1ccc(F)c(OCCn2c(CCNC(=O)C3CCCCC3)nc3ccccc23)c1',\n",
       " 'C[C@@H](CO)N1C[C@@H](C)[C@H](CN(C)S(=O)(=O)c2cccc(C#N)c2)OCc3ccccc3-c4c(C1=O)n(C)c5ccccc45',\n",
       " 'CCCN1[C@H]([C@H](CO)[C@H]2Cn3c(ccc(\\\\C=C\\\\c4ccccc4)c3=O)[C@@H]12)C(=O)NCc1ccncn1',\n",
       " 'OC[C@@H]1O[C@@H](CC(=O)NCC2CC2)C[C@H]3[C@@H]1Oc4ccc(NC(=O)CC5CC5)cc34',\n",
       " 'Cc1ccc(CN2C[C@H]3[C@@H]([C@@H](CO)N3C(=O)C2)c2ccc(cc2)-c2ccccc2F)cc1',\n",
       " 'CCCC(=O)N1CC[C@@]2(CC1)CN([C@H](CO)c1[nH]c3cc(OC)ccc3c21)C(=O)Cc1ccccn1',\n",
       " 'COc1ccc(cc1)-c1ccc2[C@H]3[C@H]([C@H](CO)[C@@H](Cn2c1=O)N3C)C(=O)Nc1ccccc1',\n",
       " 'CC(C)NC(=O)Nc1ccc2O[C@H](C)CCCCO[C@H](CN(C)C(=O)Cc3ccccc3)[C@@H](C)CN([C@H](C)CO)C(=O)c2c1',\n",
       " 'O[C@H]1COC[C@H]2O[C@H](CC(=O)N3CCc4ccccc4C3)CC[C@@H]2N(Cc2ccccc2F)C1',\n",
       " 'CO[C@H]1CC[C@@H]2CCOc3c(cccc3C(=O)N(C)C[C@H](C)C(=O)N(C)C[C@@H]1O2)C#N',\n",
       " 'COCC(=O)N1C[C@H](C)[C@@H](CN(C)C(=O)c2cc(NC(=O)Nc3cccc(F)c3)ccc2OC[C@H]1C)OC',\n",
       " 'COc1ccc2N(CCCN(C)C)c3cc(Cl)ccc3Sc2c1',\n",
       " 'C[C@H](CO)N1C[C@H](C)[C@@H](CN(C)S(=O)(=O)c2ccccc2F)OCc3cn(CCCC1=O)nn3',\n",
       " 'C[C@@H](CO)N1C[C@H](C)[C@@H](CN(C)Cc2ccc(F)cc2)OCc3ccccc3-c4ccccc4C1=O',\n",
       " 'CCS(=O)(=O)N1C[C@H]2[C@@H]([C@@H](CO)N2C(=O)C1)c1ccc(cc1)-c1cccc(F)c1',\n",
       " 'NC(=O)[C@H]1CCCc2c1[nH]c1ccc(Cl)cc21',\n",
       " 'CC(C)NC(=O)Nc1ccc2O[C@H](C)CCCCO[C@@H](CN(C)C(=O)CCCN(C)C)[C@H](C)CN([C@H](C)CO)C(=O)c2c1',\n",
       " 'OC[C@H]1[C@@H]([C@H]2CN(CC(=O)N12)C(=O)CC1CC1)c1ccc(\\\\C=C\\\\c2ccccc2)cc1',\n",
       " 'CO[C@@H]1CN(C)C(=O)c2cc(NS(=O)(=O)CC(F)(F)F)ccc2OC[C@H](C)N(Cc2nccs2)C[C@@H]1C',\n",
       " 'C[C@@H](CO)N1C[C@@H](C)[C@H](CN(C)C(=O)NC2CCCCC2)OCc3ccccc3-c4ccccc4C1=O',\n",
       " 'OC[C@H]1Nc2ccc(cc2[C@@H]2[C@H]1CCN2Cc1ccc2OCOc2c1)-c1cccc(c1)C#N',\n",
       " 'C[C@H](CO)N1C[C@@H](C)[C@H](CN(C)C(=O)Nc2ccccc2)OCCCC[C@@H](C)Oc3ccc(NC(=O)Nc4ccc(cc4)C(F)(F)F)cc3C1=O',\n",
       " 'CN(C)c1ccc2O[C@H]3[C@H](C[C@H](CC(=O)NCCN4CCCCC4)O[C@H]3CO)c2c1',\n",
       " 'COC(=O)C[C@H]1CC[C@@H]2[C@H](COC[C@@H](O)CN2S(=O)(=O)c2cn(C)cn2)O1',\n",
       " '[O-][N+](=O)c1cc2C(=O)N(C(=O)c2cc1N3CCOCC3)c4cccc5CCCCc45',\n",
       " 'Cc1ccc(cn1)-c1ncc(Cl)cc1-c1ccc(cc1)S(C)(=O)=O',\n",
       " 'CN(C)CC(=O)N1CCCCN2[C@H](CO)[C@H]([C@@H]2C1)c1ccc(\\\\C=C\\\\c2ccccc2)cc1',\n",
       " 'OC[C@H]1[C@H]([C@@H]2CN(CC(=O)N12)C(=O)C1CCOCC1)c1ccc(cc1)-c1cccnc1',\n",
       " 'OC[C@H]1Nc2ccc(cc2[C@@H]2[C@H]1CCN2C(=O)c1cccc(F)c1)-c1ccccc1',\n",
       " 'C[C@H](CO)N1C[C@@H](C)[C@H](CN(C)S(=O)(=O)c2ccc(Cl)cc2)Oc3c(NC(=O)Nc4ccc(F)cc4)cccc3C1=O',\n",
       " 'C[C@H](CO)N1C[C@@H](C)[C@@H](CN(C)S(=O)(=O)c2cn(C)cn2)Oc3cc(ccc3S1(=O)=O)C4=CCCCC4',\n",
       " 'N1c2ccccc2Nc3nc4ccccc4nc13',\n",
       " 'CC(C)NC(=O)Nc1ccc2O[C@@H](CN(C)Cc3ccc(cc3)c4ccccc4)[C@H](C)CN([C@@H](C)CO)C(=O)c2c1',\n",
       " 'C[C@@H](CO)N1C[C@@H](C)[C@@H](CN(C)S(=O)(=O)c2ccccc2C#N)OCc3ccccc3-c4ccccc4C1=O',\n",
       " 'C[C@@H](CO)N1C[C@@H](C)[C@H](CN(C)C(=O)Nc2cccc3ccccc23)Oc4c(NS(=O)(=O)C)cccc4C1=O',\n",
       " 'CC(C)NC(=O)N(C)C[C@@H]1Oc2ccc(NC(=O)Cc3cn(C)c4ccccc34)cc2CC(=O)N(C[C@@H]1C)[C@H](C)CO',\n",
       " 'COc1ccc(\\\\C=C\\\\C(=O)NC2=NCCS2)c(OC)c1',\n",
       " 'OC[C@H]1O[C@H](CCNC(=O)Cc2ccncc2)CC[C@H]1NC(=O)C1CCC1',\n",
       " 'COC(=O)c1cnn(c1C=NN=C(S)Nc1ccc(Cl)cc1)-c1ccc(F)cc1F',\n",
       " 'OC[C@H]1O[C@H](CC(=O)N2CCc3ccccc3C2)C[C@H]4[C@@H]1Oc5ccc(NC(=O)Cc6ccncc6)cc45',\n",
       " 'C[C@H](CO)N1C[C@H](C)[C@H](CN(C)Cc2ccncc2)Oc3ccc(NC(=O)CCC(F)(F)F)cc3CC1=O',\n",
       " 'COCC(=O)Nc1ccc2OC[C@H](C)N(Cc3ccccn3)C[C@@H](C)[C@H](CN(C)C(=O)c2c1)OC',\n",
       " 'CO[C@H]1CN(C)C(=O)c2cc(NC(=O)C3CCOCC3)ccc2OC[C@H](C)N(Cc2cccnc2)C[C@@H]1C',\n",
       " 'CN(C)CC#Cc1ccc(cc1)[C@H]1[C@H](CO)N2CCCCN(C[C@@H]12)S(=O)(=O)c1ccccc1C',\n",
       " 'COc1ccc(NC(=O)Nc2cccc3C(=O)N(C[C@@H](C)[C@H](CN(C)Cc4ccc5OCOc5c4)Oc23)[C@@H](C)CO)cc1',\n",
       " 'Cc1nc(=O)c2CSCCc2[nH]1',\n",
       " 'COc1cc2CCN(C)[C@@H]3Cc4ccc(OC(=O)c5ccc(cc5)[N+](=O)[O-])c(Oc6ccc(C[C@@H]7N(C)CCc8cc(OC)c(Oc(c1OC)c32)cc78)cc6)c4',\n",
       " 'C[C@H](NC(=O)[C@H]1[C@H](CO)[C@H]2Cn3c(cccc3=O)[C@H]2N1S(C)(=O)=O)c1ccccc1',\n",
       " 'CCS(=O)(=O)Nc1ccc2OC[C@@H](C)N(Cc3ccccn3)C[C@H](C)[C@H](CN(C)C(=O)c2c1)OC',\n",
       " 'CO[C@H]1CN(C)C(=O)c2cc(NC(=O)c3cccc(F)c3)ccc2OC[C@@H](C)N(C)C[C@@H]1C',\n",
       " 'COc1ccccc1S(=O)(=O)N(C)C[C@@H]2OCc3ccccc3-c4ccccc4C(=O)N(C[C@@H]2C)[C@H](C)CO',\n",
       " 'CN1Cc2c3OCOc3ccc2[C@H]4[C@@H](O)Cc5cc6OCOc6cc5[C@H]41',\n",
       " 'Clc1ccc(C(Cn2ccnc2)OCC=C)c(Cl)c1',\n",
       " 'CN1CC(=O)N=C1NC(=O)Nc1cccc(Cl)c1',\n",
       " 'COCC#Cc1ccc2c(O[C@@H](CN(C)S(=O)(=O)c3ccc(OC)cc3)[C@H](C)CN([C@H](C)CO)S2(=O)=O)c1',\n",
       " 'C[C@H](CO)N1C[C@@H](C)[C@@H](CN(C)C)Oc2cc(C#Cc3ccccn3)ccc2S1(=O)=O',\n",
       " 'Cc1ccc(cc1NC(=O)COc2ccccc2)c3nc4ccccc4o3',\n",
       " 'CC(C(C)c1ccc(O)cn1)C(N)C(=O)NC([C@H]2O[C@H]([C@@H](O)[C@H]2O)N3C=CC(=O)CC3=O)C(=O)O',\n",
       " 'C[C@H](CO)N1C[C@@H](C)[C@@H](CN(C)C(=O)c2cc(on2)c3ccccc3)OCc4cnnn4CCCC1=O',\n",
       " 'CO[C@@H](CN(C)S(=O)(=O)c1ccc(C)cc1)[C@H](C)CN(Cc1ccccc1Cl)[C@@H](C)CO',\n",
       " 'COc1cc(Nc2nc3ccccc3nc2NS(=O)(=O)c2ccc(NC(=O)c3ccc(C)c(OC)c3)cc2)cc(OC)c1',\n",
       " 'CC(C)NC(=O)N(C)C[C@H]1Oc2ccc(cc2CC(=O)N(C[C@H]1C)[C@H](C)CO)N(C)C',\n",
       " 'CN(C)CC#Cc1ccc(cc1)[C@@H]1[C@H](CO)N2CCCCN(C[C@@H]12)C(=O)Nc1ccccc1F',\n",
       " 'CCN1CCN(Cc2ccc(Nc3ncc4N(C)C(=O)c5ccccc5N(C)c4n3)cc2C(F)(F)F)CC1',\n",
       " 'NCCCC1(OCc2cc(ccc12)[N+]#[C-])c1ccc(F)cc1',\n",
       " 'CN1CCN(CC1)C(=O)c2cc3CN([C@@H](CCO)c3c(n2)c4cccc(C#CCC5CCCC5)c4)S(=O)C(C)(C)C',\n",
       " 'CCCC(=O)Nc1cccc(NC(=O)c2ccccc2Br)c1',\n",
       " 'COCC(=O)N1C[C@@]2(C1)CN([C@H](CO)c1[nH]c3cc(OC)ccc3c21)S(C)(=O)=O',\n",
       " 'CS(=O)(=O)N1C[C@H]2[C@H]([C@@H](CO)N2C(=O)C1)c1ccc(cc1)C#CCC1CCCC1',\n",
       " 'CC1CN(CCCn2c3ccccc3c4ccccc24)CC(C)N1',\n",
       " 'CO[C@H]1CN(C)C(=O)c2cc(NS(=O)(=O)c3ccc(C)cc3)ccc2OC[C@H](C)N(C[C@H]1C)C(=O)NC(C)C',\n",
       " 'O[C@H]1COC[C@H]2O[C@H](CC(=O)N3CCC(Cc4ccccc4)CC3)CC[C@@H]2N(Cc2nccs2)C1',\n",
       " 'CN1CCN(CC1)C(=O)C[C@@H]1CC[C@@H]2[C@H](COC[C@@H](O)CN2C(=O)c2ccccc2F)O1',\n",
       " 'O=C1[C@@H](Cc2ccccc2)CCn2cc(COCC3CCCN13)nn2',\n",
       " 'C[C@H](N)Cc1c[nH]cn1',\n",
       " 'Cc1c(nn(c1-c1ccc(I)cc1)-c1ccc(Cl)cc1Cl)C(=O)NN1CCOCC1',\n",
       " 'Clc1cccc(c1)-n1sc2ccccc2c1=O',\n",
       " 'C[C@H](NC(=O)C[C@H]1CC[C@H]2[C@@H](COC[C@H](O)CN2C(=O)Nc2cccc(Cl)c2)O1)c1ccccc1',\n",
       " 'CO[C@@H](CN(C)S(=O)(=O)c1ccc(C)cc1)[C@@H](C)CN([C@H](C)CO)C(=O)Nc1ccccc1F',\n",
       " 'Cc1ccc(cc1)S(=O)(=O)N1C[C@H]2[C@H]([C@@H](CO)N2Cc2cccnc2)c2ccccc12',\n",
       " 'C[C@@H](CO)N1C[C@H](C)[C@@H](CN(C)Cc2ccccc2)Oc3ncc(cc3C1=O)C4=CCCCC4',\n",
       " 'C[C@@H](CO)N1C[C@@H](C)[C@H](CN(C)Cc2ccncc2)Oc3ccc(NC(=O)Cc4cn(C)c5ccccc45)cc3C1=O',\n",
       " 'OC[C@@H]1[C@H]2Cn3c(cccc3=O)[C@H]2N([C@H]1C(=O)NCC1CCCCC1)C(=O)CC1CC1',\n",
       " 'CN(C)C(=O)C[C@H]1CC[C@H](NC(=O)C2CCOCC2)[C@H](CO)O1',\n",
       " 'COc1cc(O)c(CC=C(C)C)c(O)c1C(=O)/C=C/c2ccc(O)cc2',\n",
       " 'C[C@H](CO)N1C[C@@H](C)[C@@H](CN(C)S(=O)(=O)c2ccc(F)cc2)Oc3ncc(cc3C1=O)c4ccncc4',\n",
       " 'C[C@H](CO)N1C[C@H](C)[C@@H](CN(C)C(=O)Nc2c(C)noc2C)OCc3ccccc3-c4ccccc4C1=O',\n",
       " 'CCCC#Cc1ccc(cc1)[C@@H]1[C@@H](CO)N([C@@H]1C#N)S(C)(=O)=O',\n",
       " 'OC[C@@H]1[C@@H]2[C@@H](CN(C(=O)c3ccccn3)c3ccccc23)N1C(=O)Nc1ccccc1F',\n",
       " 'CN1[C@@H]2CC[C@@H](CC(=O)N3CCc4ccccc4C3)O[C@H]2COc2ccc(NS(=O)(=O)c3cccc(F)c3)cc2C1=O',\n",
       " 'O[C@@H]1COC[C@@H]2O[C@H](CC(=O)NCCCN3CCOCC3)CC[C@H]2N(C1)C(=O)c1ccccc1',\n",
       " 'C/C=C/c1ccc2c(O[C@H](CN(C)C(=O)Cc3cccnc3)[C@@H](C)CN([C@@H](C)CO)S2(=O)=O)c1',\n",
       " 'COc1ccc(cc1)S(=O)(=O)N(C)C[C@H]2Oc3c(cccc3C(=O)N(C[C@@H]2C)[C@@H](C)CO)N(C)C',\n",
       " 'C/C=C/c1ccc2c(O[C@H](CN(C)S(=O)(=O)c3ccc(F)cc3)[C@H](C)CN([C@H](C)CO)S2(=O)=O)c1',\n",
       " 'COc1ccc(NC(=O)N2CCCCN3[C@H](CO)[C@H]([C@@H]3C2)c2ccc(cc2)-c2ccccc2F)cc1',\n",
       " 'CO[C@H]1CC[C@@H]2CCN(C)C(=O)C[C@@H](CN(C)C(=O)c3cccc(C#N)c3OC[C@@H]1O2)c1ccccc1',\n",
       " 'C\\\\C=C\\\\c1ccc(cc1)[C@H]1[C@H]2CN(C[C@@H]1N2)C(=O)Nc1ccccc1F',\n",
       " 'Clc1c(sc2ccccc12)C(=O)Nc3sc4CCCc4c3C(=O)NCc5ccco5',\n",
       " 'C[C@H](CO)N1C[C@@H](C)[C@@H](CN(C)CC2CC2)OCCCC[C@@H](C)Oc3ccc(NC(=O)c4ccccc4)cc3C1=O',\n",
       " 'OC[C@H]1[C@H]([C@@H](CNC(=O)c2ccncc2)N1CC1CCCC1)c1ccccc1',\n",
       " 'Fc1cc(F)cc(Nc2nc(Cl)nc(NC3CCCC3)n2)c1',\n",
       " 'Oc1ccc(Cl)cc1',\n",
       " 'Cc1nc2c(s1)C(=O)C=C(Nc1ccc(C)cc1)C2=O',\n",
       " 'CCCCC(=O)NCCc1c(Cc2ccccc2)[nH]c2ccccc12',\n",
       " 'C[C@H](CO)N1C[C@H](C)[C@H](CN(C)CC2CC2)OCc3ccccc3-c4ccccc4C1=O',\n",
       " 'OC[C@H]1[C@H]([C@H](C#N)N1C(=O)c1cccnc1)c1ccc(cc1)C#Cc1ccccc1F',\n",
       " 'COCC(=O)N1C[C@H]2[C@@H]([C@@H](CO)N2C(=O)C1)c1ccc(cc1)C#CC1CC1',\n",
       " 'COc1cc2OC3OC=CC3c2c2oc(=O)c3C(=O)CCc3c12',\n",
       " 'C[C@H](CO)N1C[C@@H](C)[C@@H](CN(C)C(=O)c2ccncc2)Oc3ncc(cc3C1=O)c4ccc(cc4)C(=O)N(C)C',\n",
       " 'COc1ccc(cc1)S(=O)(=O)Nc2ccc3O[C@@H](C)CCCCO[C@@H](CN(C)C)[C@H](C)CN([C@H](C)CO)C(=O)c3c2',\n",
       " 'CN1[C@H]2CC[C@@H](CC(=O)NCc3ccccc3F)O[C@@H]2COc2ccc(NC(=O)C3CCCCC3)cc2C1=O',\n",
       " 'C[C@@H](CO)N1C[C@H](C)[C@@H](CN(C)C(=O)NC2CCCCC2)Oc3ccc(NC(=O)C4CCCCC4)cc3C1=O',\n",
       " 'CCC(C)(C)N=C(NC#N)Nc1cccnc1',\n",
       " 'NS(=O)(=O)c1cc(Cl)c(Cl)c(c1)S(N)(=O)=O',\n",
       " 'CC(C)NC(=O)N(C)C[C@@H]1Oc2ccc(cc2CC(=O)N(C[C@H]1C)[C@H](C)CO)N(C)C',\n",
       " 'CC(C)NC(=O)N(C)C[C@H]1Oc2ccc(NC(=O)Cc3cn(C)c4ccccc34)cc2CC(=O)N(C[C@@H]1C)[C@@H](C)CO',\n",
       " 'CC(C)(C)[S@](=O)N1Cc2cc(nc(c2[C@@H]1CCO)-c1cccc(c1)-c1ccncc1)C(=O)NCc1ccccc1F',\n",
       " 'CN1[C@H]2Cn3c(ccc(C4=CCCCC4)c3=O)[C@@H]1[C@@H]([C@H]2CO)C(=O)NCc1cc(F)cc(F)c1',\n",
       " 'COc1cccc(c1)c2cnc3O[C@H](CN(C)CC4CCCC4)[C@@H](C)CN([C@@H](C)CO)C(=O)c3c2',\n",
       " 'COc1cccc(NC(=O)N2C[C@H]3[C@H]([C@@H](CO)N3C(=O)C2)c2ccc(cc2)C#CCC2CCCC2)c1',\n",
       " 'C[C@H](CO)N1C[C@H](C)[C@@H](CN(C)C(=O)C2CCOCC2)Oc3ncc(C#CC4(O)CCCC4)cc3C1=O',\n",
       " 'CNC[C@H]1OCCCC[C@H](C)Oc2ccc(NC(=O)Nc3ccc4OCOc4c3)cc2C(=O)N(C[C@@H]1C)[C@@H](C)CO',\n",
       " 'CN(C)CCC(c1ccc(Cl)cc1)c1ccccn1',\n",
       " 'CN\\\\C(NCCSCc1csc(CN(C)C)n1)=C\\\\[N+]([O-])=O',\n",
       " 'COc1ccc(CN(C)C[C@H]2Oc3ccc(NC(=O)Cn4cnnn4)cc3C(=O)N(C[C@@H]2C)[C@@H](C)CO)cc1',\n",
       " 'CC(C)NC(=O)Nc1ccc2O[C@@H](CN(C)C(=O)NC3CCCCC3)[C@H](C)CN([C@H](C)CO)C(=O)c2c1',\n",
       " 'CC(C)CC#Cc1cnc2O[C@@H](CN(C)C(=O)c3cccc(F)c3)[C@@H](C)CN([C@@H](C)CO)C(=O)c2c1',\n",
       " 'CO[C@H]1CN(C)C(=O)c2cc(NC(=O)C3CC3)ccc2OC[C@@H](C)N(CCC(F)(F)F)C[C@@H]1C',\n",
       " 'COc1ccc(cc1)C#Cc1ccc(cc1)[C@H]1[C@H](CO)N2[C@@H]1CN(CC2=O)C(=O)NC(C)C',\n",
       " 'CO[C@H]1CC[C@H]2CCN(C)C(=O)[C@@H](C)[C@@H](CN(C)C(=O)c3cc(ccc3OC[C@@H]1O2)C#N)OC',\n",
       " 'Cc1occc(=O)c1O',\n",
       " 'CO[C@H]1CC[C@H]2CCOc3c(cccc3C(=O)N(C)CCCC(=O)N(C)C[C@H]1O2)C#N',\n",
       " 'FC(F)(F)c1ccc(Cl)c(NC(=O)Cn2cc(CNC(=O)C3CCCCC3)nn2)c1',\n",
       " 'CS(=O)(=O)N1C[C@@H]2[C@@H]([C@@H](CO)N2C(=O)C1)c1ccc(Br)cc1',\n",
       " 'CC1OC(OC2CC(O)C3(CO)C4C(O)CC5(C)C(CCC5(O)C4CCC3(O)C2)C6=CC(=O)OC6)C(O)C(O)C1O',\n",
       " 'COc1ccccc1CN1[C@H]2CNC[C@@H]1[C@@H]2c1ccc(cc1)-c1cccc(c1)C#N',\n",
       " 'COc1ccc(cc1COc1ccc(NC(C)=O)cc1)C1Nc2ccccc2C(=O)N1Cc1ccccc1',\n",
       " 'C[C@@H]1CC[C@@H]2[C@@H](C)C(=O)O[C@H]3O[C@@]4(C)CC[C@@H]1[C@@]23OO4',\n",
       " 'C[C@@H](CO)N1C[C@H](C)[C@H](CN(C)C(=O)Nc2cccc(Oc3ccccn3)c2)OCc4cn(CCCC1=O)nn4',\n",
       " 'CN(C)CC(=O)N1[C@@H](CO)[C@@H](c2ccccc2)C11CN(CCC(F)(F)F)C1',\n",
       " 'OC[C@@H]1[C@H](c2ccccc2)C2(CN(C2)C(=O)CC2CC2)N1C(=O)c1cnccn1',\n",
       " 'COCCNC(=O)C[C@H]1C[C@H]2[C@H](Oc3ccc(NS(=O)(=O)c4ccccc4)cc23)[C@H](CO)O1',\n",
       " 'Brc1cccc2sc(NC(=O)c3ccc4OCCOc4c3)nc12',\n",
       " 'C[C@@H](CO)N1C[C@H](C)[C@H](CN(C)Cc2ccc(F)cc2)Oc3ncc(cc3C1=O)c4cccc(C#N)c4',\n",
       " 'CN(C)CC(=O)N1C[C@H]2N[C@@H](C1)[C@H]2c1ccc(cc1)-c1cccc(C)c1',\n",
       " 'C[C@H](CO)N1C[C@@H](C)[C@H](CN(C)S(=O)(=O)c2cccc(F)c2)OCc3cn(CCCC1=O)nn3',\n",
       " 'Oc1c(I)cc(Cl)c2cccnc12',\n",
       " 'CO[C@H](CN(C)S(=O)(=O)c1cccc(Cl)c1)[C@@H](C)CN([C@H](C)CO)S(=O)(=O)c1ccc(Cl)cc1',\n",
       " 'CN(C)C(=O)c1cccc(c1)-c1cccc(c1)-c1nc(cc2CN([C@@H](CCO)c12)[S@@](=O)C(C)(C)C)C(=O)N1CCN(C)CC1',\n",
       " 'O=C1[C@H](Cc2ccccc2)CCn2cc(COCC3CCCN13)nn2',\n",
       " 'O=C(Nc1ccc2ccccc2c1)C1CC2CCC1C2',\n",
       " 'C[C@H](CO)N1C[C@H](C)[C@H](CN(C)S(=O)(=O)c2ccccc2)Oc3ccc(NC(=O)Nc4ccc(cc4)C(F)(F)F)cc3C1=O',\n",
       " 'O[C@@H]1COC[C@H]2O[C@H](CC(=O)NCC3CCCCC3)CC[C@@H]2N(C1)S(=O)(=O)c1ccc(F)cc1',\n",
       " 'OC[C@H]1[C@H]2[C@H](CN(C(=O)Nc3ccccc3)c3ccccc23)N1Cc1ccccc1Cl',\n",
       " '[O-][N+](=O)c1cccc(/C=C(\\\\C#N)/c2nc3ccccc3[nH]2)c1',\n",
       " 'COc1cccc(CN(C)C[C@@H]2OCc3ccccc3-c4ccccc4C(=O)N(C[C@@H]2C)[C@@H](C)CO)c1',\n",
       " 'CCCNC(=O)N1C[C@]2(CCN(CC2)S(=O)(=O)CC)c2c([nH]c3cc(OC)ccc23)[C@@H]1CO',\n",
       " 'C[C@@H](CO)N1C[C@@H](C)[C@H](CN(C)C(=O)[C@@H]2CCCN2C)OCc3ccccc3-c4ccccc4C1=O',\n",
       " 'CCCCCCCCCCC[C@@H](C[C@@H]1OC(=O)[C@H]1CCCCCC)OC(=O)[C@H](CC(C)C)NC=O',\n",
       " 'CCOC(=O)c1cc2CN([C@H](CCO)c2c(n1)-c1cccc(Br)c1)C(=O)NC(C)C',\n",
       " 'OC[C@@H]1O[C@H](CCNC(=O)c2ccc(F)cc2)CC[C@@H]1NC(=O)Nc1ccc(Cl)c(Cl)c1',\n",
       " 'CN(C)CC#Cc1ccc(cc1)[C@@H]1[C@@H](CO)N2CCCCN(CC3CCOCC3)C[C@@H]12',\n",
       " 'OC[C@@H]1[C@@H]([C@@H](C#N)N1C(=O)C1CC1)c1ccc(cc1)C#CC1(O)CCCC1',\n",
       " 'CCC1(O)CC2CN(C1)CCc3c([nH]c4ccccc34)C(C2)(C(=O)OC)c5cc6c(cc5OC)N(C=O)C7C86CCN9CC=CC(CC)(C98)C(C(=O)OC)C7(O)C(=O)OC',\n",
       " 'CCC(=O)OCC(=O)C1(OC(=O)CC)[C@H](C)C[C@H]2[C@H]3[C@H](Cl)CC4=CC(=O)C=C[C@]4(C)[C@@H]3[C@@H](O)C[C@]12C',\n",
       " 'CO[C@H]1CN(C)C(=O)c2cc(NC(=O)Nc3ccccc3OC)ccc2OC[C@@H](C)N(C)C[C@@H]1C',\n",
       " 'COc1ccc(cc1)-c1ccc2[C@@H]3[C@@H]([C@@H](CO)[C@H](Cn2c1=O)N3C(=O)c1cnccn1)C(=O)N(C)C',\n",
       " 'CO[C@H]1CN(C)C(=O)c2ccc(NC(C)=O)cc2OC[C@@H](C)N(Cc2ccccc2F)C[C@H]1C',\n",
       " 'CCCC(=O)Nc1ccc2OC[C@@H]3O[C@@H](CC(=O)NCc4cccc(F)c4)CC[C@H]3N(C)C(=O)c2c1',\n",
       " 'COc1cc2N3C4[C@@H]5C(CC3=O)OCC=C3CN6CC[C@]4([C@@H]6C[C@H]53)c2cc1OC',\n",
       " 'CO[C@@H](CN(C)S(=O)(=O)c1cn(C)cn1)[C@H](C)CN([C@@H](C)CO)C(=O)Nc1ccc(F)cc1',\n",
       " 'Oc1ccc(cc1)-c1c(nn2c(cc(nc12)C(F)(F)F)C(F)(F)F)-c1ccccc1',\n",
       " 'C[C@@H](NC(=O)C[C@H]1CC[C@@H]2[C@H](COc3ccc(NS(=O)(=O)c4ccc(Cl)cc4)cc3C(=O)N2C)O1)c1ccccc1',\n",
       " 'COc1cccc(NC(=O)Nc2ccc3OC[C@H]4O[C@H](CC(=O)NCCc5ccccc5)CC[C@@H]4N(C)C(=O)c3c2)c1',\n",
       " 'CCCC(=O)N1C[C@]2(CN(C2)S(C)(=O)=O)c2c([nH]c3cc(OC)ccc23)[C@H]1CO',\n",
       " 'C[C@H](CO)N1C[C@@H](C)[C@H](CN(C)Cc2ccc(cc2)C(=O)Nc3ccccc3N)Oc4c(NC(=O)Nc5ccccc5)cccc4C1=O',\n",
       " 'CCN1CCC[C@H]1CNC(=O)c1cc(I)cc(OC)c1OC',\n",
       " 'OC(=O)c1ccc2c3nc4ccccc4n3c(=O)c5cccc1c52',\n",
       " 'C[C@@H](CO)N1C[C@@H](C)[C@H](CN(C)Cc2ccccc2F)Oc3ncc(cc3C1=O)c4ccccc4F',\n",
       " 'CC(C)C[C@H]([C@H](O)C(=O)NO)C(=O)N[C@H](C(=O)OC1CCCC1)c1ccccc1',\n",
       " 'CN(C)CC(=O)NC[C@H]1N[C@@H](CO)[C@H]1c1ccc(cc1)-c1cccc(c1)C#N',\n",
       " 'OS(=O)(=O)c1cc(ccc1\\\\C=C\\\\c1ccc(cc1S(O)(=O)=O)N=C=S)N=C=S',\n",
       " 'CO[C@H]1CN(C)C(=O)c2cc(NC(=O)c3cc(C)on3)ccc2OC[C@H](C)NC[C@@H]1C',\n",
       " 'Cc1ccc(cc1)n2nc3ccc(NC(=O)COc4ccccc4C)cc3n2',\n",
       " 'C[C@@H](CO)N1C[C@@H](C)[C@H](CN(C)S(=O)(=O)c2ccccc2)Oc3ccc(NC(=O)Nc4ccc(cc4)C(F)(F)F)cc3C1=O',\n",
       " 'COc1cccc(c1)-c1ccc2N[C@H](CO)[C@@H]3CCN([C@@H]3c2c1)S(=O)(=O)c1cn(C)cn1',\n",
       " 'CC(C)(CO)Cc1cc(c(O)c(c1)C(C)(C)C)C(C)(C)C',\n",
       " 'CN1[C@@H]2CC[C@@H](CC(=O)NCc3ccc(cc3)-c3ccccc3)O[C@@H]2COc2ccc(NS(C)(=O)=O)cc2C1=O',\n",
       " 'CC(C(O)=O)c1ccc(s1)C(=O)c1ccccc1',\n",
       " 'CN1[C@@H](CO)[C@H]2CCN([C@H]2c2cc(ccc12)-c1ccccc1F)S(=O)(=O)c1cccc(C)c1',\n",
       " 'C[C@H](CO)N1C[C@@H](C)[C@H](CN(C)C(=O)c2ccncc2)OCCCC[C@@H](C)Oc3ccc(NC(=O)c4ccncc4)cc3C1=O',\n",
       " 'O[C@H]1CN[C@@H]2CC[C@@H](CC(=O)Nc3ccc(cc3)-c3ccccc3)O[C@H]2COC1',\n",
       " 'CO[C@@H]1CN(C)C(=O)c2cc(NC(=O)Nc3cccc(OC)c3)ccc2OC[C@H](C)N(CC2CC2)C[C@@H]1C',\n",
       " 'C[C@H](CO)N1C[C@H](C)[C@H](CN(C)C(=O)Nc2cccc3ccccc23)Oc4c(NS(=O)(=O)C)cccc4C1=O',\n",
       " 'COc1ccccc1S(=O)(=O)N(C)C[C@@H]2OCc3ccccc3-c4c(C(=O)N(C[C@H]2C)[C@H](C)CO)n(C)c5ccccc45',\n",
       " 'CC1CCc2c(C1)sc3nc(C)nc(N4CCN(CC4)C(=O)c5ccco5)c23',\n",
       " 'C[C@@H](NC(=O)C[C@@H]1C[C@@H]2[C@@H](Oc3ccc(NC(=O)c4ccc5OCOc5c4)cc23)[C@@H](CO)O1)c6ccccc6',\n",
       " 'C[C@H](CO)N1C[C@@H](C)[C@@H](CN(C)Cc2ccc3OCOc3c2)OCc4cn(CCCC1=O)nn4',\n",
       " 'CN1[C@H]2CC[C@@H](CC(=O)NCCc3ccncc3)O[C@H]2COc2ccc(NS(=O)(=O)c3ccc(C)cc3)cc2C1=O',\n",
       " 'COc1cc(CN2CCN(CC2)c3cc(C)ccc3C)ccc1O',\n",
       " 'OC[C@H]1O[C@H](CC(=O)Nc2nccs2)CC[C@@H]1NC(=O)CCN1CCCCC1',\n",
       " 'COC(=O)N(C)C[C@@H]1OCc2cnnn2CCCC(=O)N(C[C@H]1C)[C@@H](C)CO',\n",
       " 'Cc1ccc(cc1)S(=O)(=O)N[C@@H]1CC[C@@H](CCNC(=O)c2ccccc2F)O[C@@H]1CO',\n",
       " 'COc1ccccc1S(=O)(=O)N[C@H]1CC[C@H](CCn2cc(nn2)C2CCCCC2)O[C@H]1CO',\n",
       " 'CNC(=O)CCc1cc2ccccc2[nH]1',\n",
       " 'COCC(=O)N1C[C@]2(CCN(CC2)C(=O)c2ccccn2)c2c([C@@H]1CO)n(C)c1cc(OC)ccc21',\n",
       " 'CCCC(=O)Nc1ccc2c(OC[C@@H](C)NC[C@H](C)[C@H](CN(C)C2=O)OC)c1',\n",
       " 'OC[C@@H]1[C@@H]([C@@H]2CN(CC(=O)N12)C(=O)c1cnccn1)c1ccc(cc1)C#CC1CC1',\n",
       " 'CC(=O)N1[C@H](CO)[C@H](c2ccccc2)C11CN(C1)C(=O)c1ccccn1',\n",
       " 'COc1ccc2c3c([nH]c2c1)[C@H](CO)N(C[C@]31CCN(Cc2cccc(F)c2)CC1)C(=O)C1CCOCC1',\n",
       " 'COc1ccc(cc1OC2CCOC2)C3=Nn4c(nnc4SC3)c5ccccc5F',\n",
       " 'C[C@@H](CO)N1C[C@H](C)[C@H](CN(C)C(=O)N[C@H](C)c2ccccc2)OCc3ccccc3-c4c(C1=O)n(C)c5ccccc45',\n",
       " 'CN(C)C(=O)C[C@H]1CC[C@H]2[C@@H](COC[C@@H](O)CN2Cc2ccc(cc2)C(F)(F)F)O1',\n",
       " 'OC[C@@H]1O[C@H](CC(=O)O)C[C@H]2[C@@H]1Oc3ccc(NC(=O)Nc4ccc(cc4)C(F)(F)F)cc23',\n",
       " 'CC(C)[C@H](CO)Nc1nc(Nc2cc(N)cc(Cl)c2)c2ncn(C(C)C)c2n1',\n",
       " 'C[C@@H](CO)N1C[C@@H](C)[C@@H](CN(C)Cc2ccc(C)cc2)OCc3cnnn3CCCC1=O',\n",
       " 'COC(=O)C[C@@H]1CC[C@H]2[C@@H](COC[C@@H](O)CN2S(=O)(=O)c2cn(C)cn2)O1',\n",
       " 'CCn1c(=O)c([N+](=O)[O-])c(Cl)c2ccccc12',\n",
       " 'COCC#Cc1ccc2c(O[C@H](CN(C)Cc3ccccn3)[C@H](C)CN([C@H](C)CO)S2(=O)=O)c1',\n",
       " 'Clc1cccc(NS(=O)(=O)c2ccc3NC(=O)CCc3c2)c1',\n",
       " 'CN1CCN(CC1)c2nc3cc(ccc3n4cccc24)C(F)(F)F',\n",
       " 'C[C@H](CO)N1C[C@@H](C)[C@H](CN(C)CC2CCCC2)Oc3cc(ccc3S1(=O)=O)C4=CCCC4',\n",
       " 'CCCCCCCC\\\\C=C/CCCCCCCC(=O)NCCO',\n",
       " 'CCCN1[C@@H]([C@@H](CO)[C@@H]2Cn3c(ccc(-c4cncnc4)c3=O)[C@H]12)C(=O)OC',\n",
       " 'CC[C@H](C)[C@H](N)C(=O)N1CCC[C@H]1C(=O)N[C@@H]([C@@H](C)CC)C(=O)O',\n",
       " 'C[C@@]12[C@H]3[C@H](C(O)=O)[C@@]45CC(=C)[C@@](O)(C4)CC[C@H]5[C@]3(OC1=O)C=C[C@@H]2O',\n",
       " 'Clc1cccc2c(cccc12)S(=O)(=O)N1CCCNCC1',\n",
       " 'COc1ccc2C(=O)c3cc(OC)c(OC)cc3CC(=O)COc2c1OC',\n",
       " 'COCC#Cc1cnc2O[C@@H](CN(C)C(=O)Nc3cc(F)ccc3F)[C@H](C)CN([C@H](C)CO)C(=O)c2c1',\n",
       " 'O=C(Nc1ccc(cc1)S(=O)(=O)Nc2nccs2)c3cc(nc4ccccc34)c5ccccc5',\n",
       " 'COCC(=O)Nc1ccc2O[C@H]3[C@H](C[C@@H](CC(=O)NCc4ccccc4F)O[C@H]3CO)c2c1',\n",
       " 'Cc1cc(Cl)ccc1OCC(=O)N\\\\N=C\\\\c1ccc[nH]1',\n",
       " 'C[C@H](CS)C(=O)N1CCC[C@H]1C(O)=O',\n",
       " 'CN(C)C(=O)C[C@H]1CC[C@@H](NC(=O)C2CCOCC2)[C@@H](CO)O1',\n",
       " 'C[C@H](CO)N1C[C@@H](C)[C@H](CN(C)Cc2ccncc2)Oc3ccc(NC(=O)CCN4CCOCC4)cc3C1=O',\n",
       " 'C[C@H](CO)N1C[C@@H](C)[C@@H](CN(C)C(=O)CCN(C)C)OCc2ccccc2-c3ccccc3C1=O',\n",
       " 'COc1ccccc1C(=O)N1C[C@@H]2[C@@H]([C@@H](CO)N2C(=O)Nc2ccccc2)c2ccccc12',\n",
       " 'C[C@@H](CO)N1C[C@@H](C)[C@@H](CN(C)S(=O)(=O)C)OCCCC[C@@H](C)Oc2ccc(NC(=O)c3ccncc3)cc2C1=O',\n",
       " 'CCCC#Cc1ccc(cc1)[C@H]1[C@@H](CO)N2[C@@H]1CN(CC2=O)C(=O)CN1CCOCC1',\n",
       " 'C[C@H](CO)N1C[C@@H](C)[C@H](CN(C)CC2CCCCC2)Oc3ccc(NC(=O)Cc4cn(C)c5ccccc45)cc3CC1=O',\n",
       " 'CCCNC(=O)N1[C@H](CO)[C@H]2[C@@H]1CN(C(=O)C1CCC1)c1ccccc21',\n",
       " 'C[C@@H](CO)N1C[C@@H](C)[C@@H](CN(C)Cc2ccc(cc2)c3ccccc3)OCc4cnnn4CCCC1=O',\n",
       " 'COc1cc(ccc1Cc1cn(C)c2ccc(NC(=O)OC3CCCC3)cc12)C(=O)NS(=O)(=O)c1ccccc1C',\n",
       " 'CCCC(=O)Nc1ccc2OC[C@@H](C)N(C[C@@H](C)[C@@H](CN(C)C(=O)c2c1)OC)C(=O)c1ccccn1',\n",
       " 'C[C@@H](CO)N1C[C@H](C)[C@H](CN(C)Cc2ccccc2)Oc3cc(C#CC4CC4)ccc3S1(=O)=O',\n",
       " 'CC/C(=C(\\\\c1ccc(O)cc1)/c2ccc(OCCN(C)C)cc2)/c3ccccc3',\n",
       " 'COCC#Cc1ccc2c(O[C@@H](CN(C)S(=O)(=O)c3ccc(OC)cc3)[C@@H](C)CN([C@@H](C)CO)S2(=O)=O)c1',\n",
       " 'C[C@@H](CO)N1C[C@@H](C)[C@H](CN(C)CC2CC2)OCCCC[C@@H](C)Oc3ccc(NC(=O)Nc4ccccc4)cc3C1=O',\n",
       " 'COc1ccccc1-c1cn(CC[C@H]2CC[C@@H](NC(=O)c3cnccn3)[C@H](CO)O2)nn1',\n",
       " 'COc1cccc(c1)S(=O)(=O)N1C[C@@H](O)COC[C@H]2O[C@H](CC(=O)N3CCN(CC3)c3ccccc3)CC[C@H]12',\n",
       " 'COc1ccc2c3c([C@@H](CO)N(Cc4ccccc4)C[C@]33CN(C3)C(=O)c3ccccc3F)n(C)c2c1',\n",
       " 'COCC#Cc1ccc(cc1)[C@@H]1[C@H](CO)N2CCCCN(C[C@H]12)C(=O)NC1CCCC1',\n",
       " 'CN1[C@@H]2CC[C@@H](CC(=O)NCc3ccc4OCOc4c3)O[C@H]2COc2ccc(NC(=O)C3CCOCC3)cc2C1=O',\n",
       " 'C[C@@H](CO)N1C[C@@H](C)[C@H](CN(C)Cc2ccc(Cl)c(Cl)c2)Oc3c(NS(=O)(=O)c4cccs4)cccc3C1=O',\n",
       " 'Brc1ccccc1CNC(=O)c1cccs1',\n",
       " 'C[C@@H](CO)N1C[C@H](C)[C@@H](CN(C)Cc2ccc(Cl)c(Cl)c2)Oc3ccc(NC(=O)c4ccncc4)cc3C1=O',\n",
       " 'C[n+]1cc(n2ccccc12)C(O)(c1ccccc1)c1ccccc1',\n",
       " 'Clc1cccc(c1)-c1cc2nc(cc(N3CCN(CC3)C(=O)c3ccncc3)n2n1)-c1ccccc1',\n",
       " 'Cc1ccc-2c(Cc3c(nn(c-23)-c2ccc(Cl)cc2Cl)C(=O)NN2CCCCC2)c1',\n",
       " 'OC[C@H]1[C@@H]([C@@H](C#N)N1C(=O)C1CCOCC1)c1ccc(cc1)C#Cc1cccc(F)c1',\n",
       " 'C[C@@H](CO)N1C[C@H](C)[C@@H](CN(C)Cc2ccc(F)cc2)Oc3ncc(C#CCN(C)C)cc3C1=O',\n",
       " 'COCC(=O)N[C@@H]1C=C[C@H](O[C@H]1CO)CC(=O)NCc1ccc(Cl)cc1',\n",
       " 'CN(C)C(=O)c1cccc(c1)-c1ccc(cc1)[C@H]1[C@@H]2CNC[C@H]1N2S(=O)(=O)c1ccccc1F',\n",
       " 'CNC[C@@H]1Oc2ccc(NS(=O)(=O)c3ccccc3)cc2CC(=O)N(C[C@H]1C)[C@@H](C)CO',\n",
       " 'O[C@@H]1COC[C@H]2O[C@@H](CC(=O)N3CCCCC3)CC[C@@H]2N(C1)C(=O)c1ccc(F)cc1',\n",
       " 'CN1C[C@@H]2[C@@H]([C@H](CO)N2Cc2ccccc2Cl)c2ccccc12',\n",
       " 'CC(\\\\C=C\\\\C(O)C1CC1)C1CCC2C1(C)CCC\\\\C2=C/C=C1\\\\CC(O)CC(O)C1=C',\n",
       " 'COc1ccc2c3c([nH]c2c1)[C@H](CO)N(C[C@]31CN(C1)C(=O)c1ccccn1)C(=O)Nc1ccc(F)cc1',\n",
       " 'C[C@H](CO)N1C[C@H](C)[C@@H](CN(C)C(=O)Nc2ccc(cc2)C(F)(F)F)OCc3cn(CCCC1=O)nn3',\n",
       " 'CN(C)CCCN1c2ccccc2S(=O)(=O)c2ccc(Cl)cc12',\n",
       " 'CC12CCC3C(CCC4C(=O)C(=O)CCC34C)C2CCC1=O',\n",
       " 'CC(C)NC(=O)Nc1ccc2O[C@@H](CN(C)C(=O)NC3CCCCC3)[C@H](C)CN([C@@H](C)CO)C(=O)c2c1',\n",
       " 'Cc1cccc(c1)c2nnc(SCC(=O)O)n2CC=C',\n",
       " 'OC[C@H]1O[C@@H](CC(=O)NCCc2ccccc2)C[C@H]3[C@@H]1Oc4ccc(NC(=O)c5ccc6OCOc6c5)cc34',\n",
       " 'Cn1nnnc1Sc2ncnc3scc(c4ccc(cc4)c5ccccc5)c23',\n",
       " 'OC(c1ccc(NC(=O)c2ccc(F)cc2F)cc1)(C(F)(F)F)C(F)(F)F',\n",
       " 'OC[C@@H]1O[C@@H](CC(=O)N2CCc3ccccc3C2)C[C@H]4[C@@H]1Oc5ccc(NC(=O)Nc6ccc(cc6)C(F)(F)F)cc45',\n",
       " 'Cc1ccccc1S(=O)(=O)N1C[C@H]2N[C@@H](C1)[C@H]2c1ccc(\\\\C=C\\\\c2ccccc2)cc1',\n",
       " 'C[C@]12CC[C@H]3[C@@H](CC[C@H]4C[C@H](O)CC[C@]34C)[C@@H]1CC=C2',\n",
       " 'CCC[C@H]1CC2=C(C[C@@H](CC)CC3=C1C(=O)OC3=O)C(=O)OC2=O',\n",
       " 'COCC(=O)N1C[C@]2(CN(Cc3ccc(Cl)cc3)C2)c2c([nH]c3cc(OC)ccc23)[C@@H]1CO',\n",
       " 'N[C@@H](Cc1ccccc1)C(=O)N[C@@H](Cc2ccc(O)cc2)C(=O)O',\n",
       " 'C[C@H](CO)N1C[C@@H](C)[C@H](CN(C)Cc2ccc(cc2)C(F)(F)F)OCCCC[C@@H](C)Oc3ccc(NC(=O)c4ccncc4)cc3C1=O',\n",
       " 'CN(C)CCCNC(=O)C[C@@H]1CC[C@H](NS(=O)(=O)c2ccc(C)cc2)[C@H](CO)O1',\n",
       " 'CC(C)CCCC(C)[C@H]1CC[C@H]2[C@H]3[C@H](CC[C@]12C)[C@@]1(C)CC[C@H](O)CC1=CC3=O',\n",
       " 'CNC[C@H]1Oc2c(NS(=O)(=O)c3ccc(OC)cc3)cccc2C(=O)N(C[C@H]1C)[C@@H](C)CO',\n",
       " 'C[C@@H](CO)N1C[C@H](C)[C@@H](CN(C)C(=O)Oc2ccc(C)cc2)OCc3cn(CCCC1=O)nn3',\n",
       " 'COc1ccc2c3c([C@@H](CO)N(Cc4cc(F)ccc4F)C[C@]33CN(C3)C(=O)C3CC3)n(C)c2c1',\n",
       " 'COc1ccc2c3c([nH]c2c1)[C@@H](CO)N(C[C@]31CCN(CC1)S(=O)(=O)c1cccc(C)c1)C(=O)Nc1cccc(F)c1',\n",
       " 'COCC(=O)Nc1ccc2O[C@@H]3[C@@H](C[C@@H](CC(=O)NCc4ccc5OCOc5c4)O[C@H]3CO)c2c1',\n",
       " 'COCCCNC(=O)[C@]1(Cc2ccccc2CN=[N+]=[N-])N=C(O[C@@H]1c3ccccc3N=[N+]=[N-])c4ccc(OCCCO)cc4',\n",
       " 'COc1cccc(c1)c2cccc(c2)c3nc(cc4CN([C@H](CCO)c43)S(=O)C(C)(C)C)C(=O)NCCCN5CCOCC5',\n",
       " 'C[C@H](CO)N1C[C@H](C)[C@H](CN(C)CC2CC2)OCCCC[C@@H](C)Oc3ccc(NC(=O)Nc4c(C)noc4C)cc3C1=O',\n",
       " 'OC[C@H]1O[C@H](CC(=O)Nc2ccc(cc2)-c2ccccc2)CC[C@@H]1NC(=O)Cc1cccnc1',\n",
       " 'OC[C@@H]1O[C@@H](CC(O)=O)C=C[C@@H]1NC(=O)c1ccccc1F',\n",
       " 'CCc1c(C)[nH]c2CCC(CN3CCOCC3)C(=O)c12',\n",
       " 'CO[C@H]1CC[C@H]2CCOc3ccc(cc3C(=O)N(C)C[C@@H](CC(=O)N(C)C[C@H]1O2)c1ccccc1)C#N',\n",
       " 'CC(C)NC(=O)Nc1ccc2O[C@@H](C)CCCCO[C@H](CN(C)C(=O)NC3CCCCC3)[C@@H](C)CN([C@@H](C)CO)C(=O)c2c1',\n",
       " 'C[C@H](CO)N1C[C@@H](C)[C@@H](CN(C)C(=O)Nc2ccc(cc2)N3CCCCC3)OCc4cnnn4CCCC1=O',\n",
       " 'C[C@@H](CO)N1C[C@H](C)[C@@H](CN(C)Cc2ccc(Oc3ccccc3)cc2)Oc4c(NC(=O)NC5CCCCC5)cccc4C1=O',\n",
       " 'CC(=O)N1CCOc2cc(ccc12)S(=O)(=O)NCC3CCC(CC3)C(=O)Nc4cccc(C)c4',\n",
       " 'OC[C@@H]1[C@H]2[C@H](CN(C(=O)Nc3ccc(Cl)cc3)c3ccccc23)N1C(=O)C1CC1',\n",
       " 'COc1ccc2c3c([nH]c2c1)[C@H](CO)N(Cc1ccccn1)C[C@]31CN(C1)C(=O)CC1CC1',\n",
       " 'CN(C)C\\\\C=C\\\\C(=O)Nc1cc2c(Nc3ccc(F)c(Cl)c3)ncnc2cc1OC1CCOC1',\n",
       " 'COc1ccc2c3c([nH]c2c1)[C@H](CO)N(C[C@]31CCN(CC1)C(=O)Nc1ccc2OCOc2c1)C(=O)Nc1ccc(F)cc1',\n",
       " 'C[C@H](NC(=O)[C@@H]1[C@@H](CO)[C@@H]2Cn3c(cccc3=O)[C@@H]2N1S(C)(=O)=O)c1ccccc1',\n",
       " 'COC1=C(OC)C(=O)C(CCCCCCCCCCO)=C(C)C1=O',\n",
       " 'O[C@@H]1COC[C@@H]2O[C@@H](CC(=O)Nc3nccs3)CC[C@H]2N(Cc2cc(F)cc(F)c2)C1',\n",
       " 'COCC(=O)Nc1ccc2OC[C@@H](C)N(Cc3ccccn3)C[C@@H](C)[C@@H](CN(C)C(=O)c2c1)OC',\n",
       " 'COc1ccc2c3c([nH]c2c1)[C@H](CO)N(Cc1ccncc1)C[C@]31CN(CC2CCOCC2)C1',\n",
       " 'NCCc1ccc(OCc2ccccc2)c(OCc3ccccc3)c1',\n",
       " 'OC[C@@H]1[C@H](c2ccccc2)C2(CN(C2)C(=O)C2CC2)N1Cc1ccc(Cl)cc1',\n",
       " 'CCCC(=O)N1C[C@@]2(C1)CN([C@H](CO)c1[nH]c3cc(OC)ccc3c21)S(=O)(=O)c1ccc(C)cc1',\n",
       " 'O[C@H]1COC[C@H]2O[C@H](CC(=O)NCc3cccc(F)c3)CC[C@@H]2N(Cc2ccc(Cl)cc2)C1',\n",
       " 'OC[C@@H]1O[C@H](CC(=O)NCc2cc(F)cc(F)c2)CC[C@H]1NC(=O)Nc1ccc(cc1)C(F)(F)F',\n",
       " 'CC(C)(C)[S@](=O)N1Cc2cc(nc(c2[C@@H]1CCO)-c1cccc(c1)-c1cccc(c1)C#N)C(=O)NCCN1CCCC1',\n",
       " 'COCCNC(=O)C[C@@H]1CC[C@H](NC(=O)NC2CCCCC2)[C@H](CO)O1',\n",
       " 'OC[C@@H]1O[C@H](CC(=O)NC2CCCCC2)C[C@@H]3[C@H]1Oc4ccc(NS(=O)(=O)c5ccc(F)cc5)cc34',\n",
       " 'COc1ccc(NC(=O)Nc2ccc3O[C@@H](C)CCCCO[C@H](CN(C)CC4CC4)[C@@H](C)CN([C@@H](C)CO)C(=O)c3c2)cc1',\n",
       " 'OC[C@H]1O[C@H](CC(=O)NCc2ccncn2)CC[C@H]1NC(=O)c1ccc(F)cc1',\n",
       " 'Cc1cc(C)cc(OCC2CNC(=O)O2)c1',\n",
       " 'CO[C@H](CN(C)S(=O)(=O)c1cccc(Cl)c1)[C@@H](C)CN([C@@H](C)CO)S(=O)(=O)c1cccc(Cl)c1',\n",
       " 'C[C@H](CO)N1C[C@H](C)[C@H](CN(C)C(=O)Nc2ccccc2)OCCCC[C@@H](C)Oc3ccc(NC(=O)C4CCCCC4)cc3C1=O',\n",
       " 'CN1[C@@H]2CC[C@H](CC(=O)NC3CCCCC3)O[C@H]2COc2ccc(NS(C)(=O)=O)cc2C1=O',\n",
       " 'C[C@H](NC(=O)C[C@@H]1C[C@H]2[C@H](Oc3ccc(NC(=O)C4CCOCC4)cc23)[C@H](CO)O1)c5ccccc5',\n",
       " 'CO[C@@H]1CN(C)C(=O)c2cc(NS(=O)(=O)c3c(C)noc3C)ccc2OC[C@H](C)NC[C@H]1C',\n",
       " 'COCC(=O)N1C[C@@]2(C1)CN(Cc1nccs1)[C@H](CO)c1c2c2ccc(OC)cc2n1C',\n",
       " 'COCC(=O)N1[C@@H](CO)[C@@H](c2ccccc2)C11CN(Cc2ccccc2)C1',\n",
       " 'C[C@H](CO)N1C[C@H](C)[C@H](CN(C)Cc2ccc(F)cc2)Oc3ncc(C#CCN(C)C)cc3C1=O',\n",
       " 'CN1C(=O)C(NCCc2ccc(F)cc2)=C(C1=O)c1c(C)[nH]c2ccccc12',\n",
       " 'C[C@H](CO)N1C[C@@H](C)[C@@H](CN(C)C(=O)Nc2ccc3OCOc3c2)OCCCC[C@@H](C)Oc4ccc(NC(=O)C5CCCCC5)cc4C1=O',\n",
       " 'Fc1ccc(cc1F)C(=O)OCC#CCSc1nnc(o1)-c1cccc2ccccc12',\n",
       " 'C[C@H](NC(=O)C[C@H]1C[C@@H]2[C@@H](Oc3ccc(NC(=O)Cc4ccncc4)cc23)[C@@H](CO)O1)c5ccccc5',\n",
       " 'O[C@@H]1COC[C@@H]2O[C@H](CC(=O)NCC3CCCCC3)CC[C@H]2N(Cc2cccc(Cl)c2)C1',\n",
       " 'CN1C[C@@H]2[C@@H]([C@@H](CO)N2C(=O)C2CCOCC2)c2ccccc12',\n",
       " 'COc1ccc(CN(C)C[C@@H]2OCCCC[C@H](C)Oc3ccc(NS(=O)(=O)c4ccccc4)cc3C(=O)N(C[C@H]2C)[C@H](C)CO)cc1',\n",
       " 'CC(=O)O[C@]1(CC[C@@H]2[C@H]3C=C(C)C4=CC(=O)CC[C@@]4(C)[C@@H]3CC[C@@]12C)C(C)=O',\n",
       " 'COc1ccc(cc1)N1CCN(CCCNC(=O)Cn2c3nccc(C)c3n3cccc3c2=O)CC1',\n",
       " 'C[C@H](CO)N1C[C@H](C)[C@H](CN(C)C(=O)C2CC2)OCc3cn(CCCC1=O)nn3',\n",
       " 'CC(=O)N1[C@H]([C@H](CO)[C@H]2Cn3c(ccc(-c4cncnc4)c3=O)[C@@H]12)C(=O)NCc1ccccc1Cl',\n",
       " 'CC(C)NC(=O)N1[C@@H](CO)[C@H]([C@@H]1C#N)c1ccc(cc1)-c1ccc(F)cc1',\n",
       " 'CN1CCN(CC1)C(=O)[C@@H]1[C@@H](CO)[C@@H]2Cn3c(cccc3=O)[C@H]1N2Cc1ccncc1',\n",
       " 'C[C@@H](NC(=O)[C@H]1[C@H](CO)[C@H]2Cn3c(ccc(-c4ccccc4F)c3=O)[C@@H]1N2C)c1ccccc1',\n",
       " 'CC(C)C#Cc1cnc2O[C@@H](CN(C)Cc3cncnc3)[C@@H](C)CN([C@@H](C)CO)C(=O)c2c1',\n",
       " 'COc1ccc2c3c([nH]c2c1)[C@H](CO)N(Cc1ccc(F)cc1)C[C@]31CN(Cc2ccccn2)C1',\n",
       " 'CN(C)c1nc(N)nc(CSc2nnnn2c3ccccc3)n1',\n",
       " 'C[C@H](O)C#Cc1ccc(cc1)[C@@H]1[C@H](CO)N2CCCCN(C[C@H]12)C(=O)c1ccc2OCOc2c1',\n",
       " 'CC(C)(C)S(=O)N1Cc2cc(nc(c2[C@@H]1CCO)c3cccc(c3)c4cccc(F)c4)C(=O)NCCCN5CCOCC5',\n",
       " 'Nc1nc2ccccc2n1S(=O)(=O)c1ccc(Cl)cc1',\n",
       " 'C1CCC(CC1)(N1CCOCC1)c1cccs1',\n",
       " 'CN1CCN(CC(=O)N2c3c(C)scc3C(=O)Nc3ccccc23)CC1',\n",
       " 'C[C@H](CO)N1C[C@H](C)[C@H](CN(C)C(=O)Nc2ccccc2C(F)(F)F)OCc3ccccc3-c4ccccc4C1=O',\n",
       " 'OC[C@H]1[C@@H]([C@@H]2CN(CCCCN12)S(=O)(=O)c1ccccc1)c1ccc(cc1)-c1cccc(c1)C#N',\n",
       " 'COc1ccc(CN(C)C[C@H]2OCCCC[C@@H](C)Oc3ccc(NC(=O)Nc4cccc5ccccc45)cc3C(=O)N(C[C@@H]2C)[C@@H](C)CO)cc1',\n",
       " 'OC[C@@H]1[C@H]2Cn3c(ccc(-c4ccccc4)c3=O)[C@H]2N([C@H]1C(=O)NCCc1ccncc1)C(=O)C1CC1',\n",
       " 'CO[C@H](CN(C)C(=O)c1ccc2OCOc2c1)[C@H](C)CN([C@@H](C)CO)S(=O)(=O)c1ccccc1',\n",
       " 'CC(=O)N1CC2(C1)[C@@H]([C@H](CO)N2Cc1ccccc1F)c1ccccc1',\n",
       " 'Oc1cc(/C=C/c2ccc(O)c(O)c2)oc(=O)c1',\n",
       " 'OC[C@H]1O[C@@H](Oc2ccc(O)cc2)[C@H](O)[C@@H](O)[C@@H]1O',\n",
       " 'C[C@H](CO)N1C[C@H](C)[C@@H](CN(C)C(=O)c2ccc3OCOc3c2)Oc4cc(ccc4S1(=O)=O)c5ccccc5',\n",
       " 'C[C@@H]1C\\\\C=C\\\\CCC(=O)N[C@@H](CC(=O)O1)c1ccccc1',\n",
       " 'Cc1noc(NS(=O)(=O)c2ccc(NC(=O)c3cc(nc4c(C)cc(C)cc34)c5cccnc5)cc2)c1C',\n",
       " 'C[C@H](CO)N1C[C@H](C)[C@H](CN(C)C(=O)Nc2cccc3ccccc23)OCCCC[C@H](C)Oc4ccc(NC(=O)c5ccncc5)cc4C1=O',\n",
       " 'OC[C@@H]1[C@H]([C@@H]2CN(CC(=O)N12)C(=O)Cc1ccccn1)c1ccc(cc1)C#CCC1CCCC1',\n",
       " 'CN1[C@H]2CC[C@H](CC(=O)NCc3ccc4OCOc4c3)O[C@@H]2COc2ccc(NC(=O)C3CCOCC3)cc2C1=O',\n",
       " 'C[C@@H](CO)N1C[C@@H](C)[C@@H](CN(C)C(=O)C2CCC2)Oc3cc(ccc3S1(=O)=O)c4ccc(cc4)C(=O)N(C)C',\n",
       " 'CO[C@H]1CN(C)C(=O)c2ccc(NS(=O)(=O)c3cn(C)cn3)cc2OC[C@H](C)NC[C@H]1C',\n",
       " 'CN(C)c1ccc(/C=C/2\\\\C(=O)Nc3ccccc23)c4ccccc14',\n",
       " 'COc1ccccc1NC(=O)N(C)C[C@@H]2Oc3ncc(C#CC(C)C)cc3C(=O)N(C[C@H]2C)[C@H](C)CO',\n",
       " 'C[C@H](NC(=O)[C@H]1[C@H](CO)[C@H]2Cn3c(cccc3=O)[C@@H]1N2CCC(F)(F)F)c1ccccc1',\n",
       " 'OC[C@H]1[C@H]([C@@H]2CNCC(=O)N12)c1ccc(cc1)-c1ccc(cc1)C#N',\n",
       " 'Fc1cccc(Nc2nc(nc3ccccc23)c4ccncc4)c1',\n",
       " 'CO[C@@H]1CN(C)C(=O)c2cc(NC(=O)Nc3ccccc3OC)ccc2OC[C@@H](C)N(C)C[C@@H]1C',\n",
       " 'COc1ccc2c3c([C@H](CO)N(C[C@]33CCN(CC4CCCC4)CC3)C(=O)C3CCC3)n(C)c2c1',\n",
       " 'CO[C@@H]1CN(C)C(=O)c2cc(NC(=O)Nc3cc(F)ccc3F)ccc2OC[C@H](C)NC[C@@H]1C',\n",
       " 'COc1ccc2c3c([nH]c2c1)[C@H](CO)N(C)C[C@]31CCN(CC1)S(=O)(=O)c1ccc(C)cc1',\n",
       " 'C[C@@H](CO)N1C[C@H](C)[C@@H](CN(C)C(=O)CCC(F)(F)F)OCCCC[C@@H](C)Oc2ccc(NS(=O)(=O)c3ccccc3)cc2C1=O',\n",
       " 'CCCNC(=O)C[C@@H]1CC[C@@H]2[C@H](COc3ccc(NC(=O)c4ccc5OCOc5c4)cc3C(=O)N2C)O1',\n",
       " 'C[C@H](CO)N1C[C@H](C)[C@@H](CN(C)C(=O)C2CCCCC2)Oc3ncc(C#Cc4ccccc4F)cc3C1=O',\n",
       " 'COc1ccc(CNC(=O)N(C)C[C@H]2OCc3ccccc3-c4c(C(=O)N(C[C@@H]2C)[C@H](C)CO)n(C)c5ccccc45)cc1',\n",
       " 'O[C@H]1COC[C@@H]2O[C@@H](CC(=O)NCc3ccc(Cl)c(Cl)c3)CC[C@H]2N(C1)C(=O)c1ccccc1F',\n",
       " 'Cc1cc(O)cc2oc3cc(O)cc(O)c3c(=O)c12',\n",
       " 'OC[C@@H]1O[C@H](CC(=O)NCC2CCCCC2)C=C[C@@H]1NC(=O)Nc1cccc(F)c1',\n",
       " 'CN1CCCCC1CNc2ncnc3ccc(cc23)c4c(C)noc4C',\n",
       " 'COc1ccc(NC(=O)Nc2ccc3O[C@H](C)CCCCO[C@H](CN(C)Cc4ccc(Cl)c(Cl)c4)[C@@H](C)CN([C@@H](C)CO)C(=O)c3c2)cc1',\n",
       " 'NCCCNCCSP(O)(O)=O',\n",
       " 'CN1[C@@H]2CC[C@@H](CC(=O)Nc3cn(C)nc3C)O[C@@H]2COc2ccc(NC(=O)c3cccc(F)c3)cc2C1=O',\n",
       " 'OC[C@@H]1O[C@@H](CC(=O)N2CCOCC2)C[C@H]3[C@@H]1Oc4ccc(NC(=O)Nc5ccccc5F)cc34',\n",
       " 'C[C@H](CO)N1C[C@H](C)[C@H](CN(C)CC2CC2)OCCCC[C@H](C)Oc3ccc(NS(=O)(=O)c4ccccc4)cc3C1=O',\n",
       " 'COc1ccc(cc1)S(=O)(=O)N(C)C[C@@H]2OCCCC[C@H](C)Oc3ccc(NS(=O)(=O)c4cn(C)cn4)cc3C(=O)N(C[C@@H]2C)[C@@H](C)CO',\n",
       " 'C[C@]12CC(=O)[C@@H]3[C@H](CCC4=CC(=O)C=C[C@]34C)[C@@H]1CC[C@]2(O)C(=O)CO',\n",
       " 'COc1ccc2c3c([nH]c2c1)[C@@H](CO)N(C)C[C@]31CN(C1)C(=O)C1CC1',\n",
       " 'OC[C@@H]1[C@@H]([C@H]2CN(CC(=O)N12)C(=O)C1CCC1)c1ccc(Br)cc1',\n",
       " 'CN(C)CCCNC(=O)C[C@@H]1CC[C@H]2[C@@H](COC[C@H](O)CN2CC2CCCC2)O1',\n",
       " 'OC[C@@H]1O[C@@H](CC(=O)N2CCCCC2)C[C@H]3[C@@H]1Oc4ccc(NC(=O)NC5CCCC5)cc34',\n",
       " 'Cn1nnnc1Sc2ncnc3scc(c4cccc(c4)S(=O)(=O)C)c23',\n",
       " 'CCC(=C)C(=O)c1ccc(OCC(O)=O)c(Cl)c1Cl',\n",
       " 'C[C@H](CO)N1C[C@H](C)[C@H](CN(C)CC2CC2)OCCCC[C@H](C)Oc3ccc(NC(=O)NC4CCCCC4)cc3C1=O',\n",
       " 'CO[C@H]1CN(C)C(=O)c2cc(NC(=O)c3ccccc3F)ccc2OC[C@@H](C)NC[C@@H]1C',\n",
       " 'OC[C@@H]1[C@@H]([C@@H]2CN(CC(=O)N12)C(=O)c1ccccc1)c1ccc(cc1)-c1ccccc1',\n",
       " 'COCC(=O)Nc1ccc2O[C@H]3[C@H](C[C@@H](CC(=O)NCc4cccnc4)O[C@H]3CO)c2c1',\n",
       " 'COc1ccc(cc1)S(=O)(=O)Nc2ccc3O[C@H](CN(C)S(=O)(=O)c4ccc(OC)cc4)[C@H](C)CN([C@H](C)CO)C(=O)Cc3c2',\n",
       " 'OC[C@@H]1Nc2ccc(Br)cc2[C@H]2[C@@H]1CCN2C(=O)c1ccccn1',\n",
       " 'C[C@H](CO)N1C[C@H](C)[C@H](CN(C)C)Oc2cc(C#Cc3ccccn3)ccc2S1(=O)=O',\n",
       " 'CCOC(OCC)P(=O)(O)CCCNCc1ccc(Cl)c(Cl)c1',\n",
       " 'C[C@@H](N)[C@H]1CC[C@@H](CC1)C(=O)Nc1ccncc1',\n",
       " 'COc1ccccc1CN2CCN(Cc3cccnc3)CC2',\n",
       " 'OC[C@H]1O[C@@H](CC(=O)NCc2cccc(F)c2)C[C@H]3[C@@H]1Oc4ccc(NC(=O)C5CCC5)cc34',\n",
       " 'COc1cc(C)c(\\\\C=C\\\\C(C)=C\\\\C=C\\\\C(C)=C\\\\C(O)=O)c(C)c1C',\n",
       " 'O=C(O[C@H]1CN2CCC1CC2)C1NCc2ccccc2[C@@H]1c1ccccc1',\n",
       " 'C/C=C/c1ccc2c(O[C@@H](CN(C)C(=O)Cc3cccnc3)[C@@H](C)CN([C@H](C)CO)S2(=O)=O)c1',\n",
       " 'C[C@@]12CCC3C(CC[C@@H]4C[C@@H](O)CC[C@@]43C)[C@@]2(O)C[C@H](O)[C@@H]1C5=CC(=O)OC5',\n",
       " 'NS(=O)(=O)C#Cc1ccccc1',\n",
       " 'CC(=O)NC(C1CC1)c2cc(Cl)c3cccnc3c2O',\n",
       " 'COc1ccccc1C#Cc2cnc3O[C@@H](CN(C)C(=O)c4ccc5OCOc5c4)[C@@H](C)CN([C@H](C)CO)C(=O)c3c2',\n",
       " 'C[C@@H](CO)N1C[C@H](C)[C@@H](CN(C)S(=O)(=O)c2ccc(C)cc2)Oc3cc(C#Cc4ccncc4)ccc3S1(=O)=O',\n",
       " 'COc1ccc(cc1)C#Cc1ccc2N[C@@H](CO)[C@H]3CCN([C@H]3c2c1)C(=O)C1CCOCC1',\n",
       " 'C[C@@H](O)[C@H]1[C@H]2CC(SCCNC=N)=C(N2C1=O)C(O)=O',\n",
       " 'CO[C@@H]1CN(C)C(=O)c2cc(NS(=O)(=O)c3cccc(F)c3)ccc2OC[C@@H](C)NC[C@@H]1C',\n",
       " 'OC[C@H]1O[C@H](CC(=O)NCc2cc(F)cc(F)c2)CC[C@H]1NC(=O)Nc1ccc(cc1)C(F)(F)F',\n",
       " 'O=C(OCC#CCSc1nnc(o1)-c1cccc2ccccc12)c1ccncc1',\n",
       " 'CC(C)[N+]1(C)C2CC[C@@H]1C[C@H](C2)OC(=O)C(CO)c3ccccc3',\n",
       " 'CC(C)N(C[C@@H]1N[C@@H](CO)[C@@H]1c1ccc(cc1)-c1ccccc1)C(C)=O',\n",
       " 'CC(C)NC(=O)Nc1ccc2O[C@H](C)CCCCO[C@@H](CN(C)C(=O)NC3CCCCC3)[C@H](C)CN([C@H](C)CO)C(=O)c2c1',\n",
       " 'COc1ccc2c3c([nH]c2c1)[C@H](CO)N(C[C@]31CCN(Cc2cccnc2)CC1)C(=O)c1ccc(F)cc1',\n",
       " 'Cc1nc(SCc2nc3ccccc3[nH]2)c4oc5ccccc5c4n1',\n",
       " 'CCCNC(=O)N1[C@@H](CO)[C@@H]([C@H]1CNC(=O)c1ccc(F)cc1)c1ccccc1',\n",
       " 'CO[C@H](CN(C)C(=O)C1CCOCC1)[C@@H](C)CN([C@@H](C)CO)C(=O)Nc1ccc(F)cc1',\n",
       " 'OC[C@@H]1[C@@H]([C@@H]2CN(CC(=O)N12)C(=O)c1ccccc1F)c1ccc(cc1)C#Cc1ccccc1',\n",
       " 'OC[C@H]1[C@@H]2Cn3c(ccc(C4=CCCCC4)c3=O)[C@H]([C@@H]1C(O)=O)N2C(=O)Cc1ccccn1',\n",
       " 'C[C@@H](CO)N1C[C@@H](C)[C@H](CN(C)Cc2ccc(cc2)C(F)(F)F)Oc3ccc(NC(=O)Cc4ccccc4)cc3CC1=O',\n",
       " 'CCCNC(=O)N[C@@H]1C=C[C@H](CC(=O)NCCc2ccccc2)O[C@H]1CO',\n",
       " 'Cc1ccc(cc1)S(=O)(=O)NC(=O)CSc2nc3ccccc3s2',\n",
       " 'CC(C)CC#Cc1ccc(cc1)[C@H]1[C@H](CO)N2[C@H]1CN(CC2=O)C(=O)c1cccc(F)c1',\n",
       " 'CN(C)C(=O)c1cccc(c1)-c1ccc(cc1)[C@H]1[C@@H]2CNC[C@H]1N2Cc1ccc2OCOc2c1',\n",
       " 'C[C@@H](CO)N1C[C@@H](C)[C@@H](CN(C)Cc2ccncc2)Oc3ccc(NC(=O)Nc4cccc5ccccc45)cc3CC1=O',\n",
       " 'CCCCC1=NC2(CCCC2)C(=O)N1Cc1ccc(cc1)-c1ccccc1-c1nnn[nH]1',\n",
       " 'CCCC#Cc1ccc(cc1)[C@@H]1[C@H](CO)N2[C@H]1CN(CC2=O)C(=O)CN1CCOCC1',\n",
       " 'C\\\\C=C\\\\c1ccc(cc1)[C@@H]1[C@H](CO)N2[C@@H]1CN(CC2=O)S(=O)(=O)c1ccccc1',\n",
       " 'ONC(=O)CCCCCCC(=O)N/N=C/c1ccc(cc1)c2ccccc2',\n",
       " 'O=C1CCc2c(O1)ccc1ccccc21',\n",
       " 'C[C@H](CO)N1C[C@H](C)[C@H](CN(C)C(=O)c2ccc3OCOc3c2)Oc4cc(ccc4S1(=O)=O)c5ccccc5',\n",
       " 'CC(C)CC#Cc1ccc(cc1)[C@H]1[C@H](CO)N2[C@@H]1CN(CC2=O)C(=O)c1cccc(F)c1',\n",
       " 'C[C@H](CO)N1C[C@H](C)[C@H](CN(C)C(=O)Nc2ccc(cc2)C(F)(F)F)OCCCC[C@H](C)Oc3ccc(NC(=O)Nc4cccc5ccccc45)cc3C1=O',\n",
       " 'OC[C@@H]1[C@H]([C@H]2CN(CC(=O)N12)C(=O)Cc1cccnc1)c1ccc(cc1)C#CC1CCCCC1',\n",
       " 'C[C@@H](CO)N1C[C@H](C)[C@@H](CN(C)CC2CCCCC2)Oc3ccc(NC(=O)CCCCCC(=O)Nc4ccccc4N)cc3CC1=O',\n",
       " 'CO[C@@H]1CC[C@H]2CCN(C)C(=O)[C@@H](C)[C@H](CN(C)C(=O)c3cccc(C#N)c3OC[C@H]1O2)OC',\n",
       " 'Oc1ccc(cc1O)\\\\C=C(/C#N)C(=O)Nc1ccccc1',\n",
       " 'COc1ccc(NC(=O)N(C)C[C@@H]2Oc3ccc(cc3C(=O)N(C[C@@H]2C)[C@H](C)CO)N(C)C)cc1',\n",
       " 'CO[C@H]1CN(C)C(=O)c2ccc(NC(=O)C3CCCC3)cc2OC[C@H](C)N(C[C@H]1C)S(C)(=O)=O',\n",
       " 'O=C(Cn1nc(-c2ccccc2)c2ccccc12)Oc1ccccc1',\n",
       " 'COCCNC(=O)C[C@H]1C[C@@H]2[C@@H](Oc3ccc(NC(=O)Nc4ccc(cc4)C(F)(F)F)cc23)[C@H](CO)O1',\n",
       " 'Cn1c(=O)n(C)c2nc[nH]c2c1=O.Cn1c(=O)n(C)c2nc[nH]c2c1=O',\n",
       " 'Cn1cnc(c1)S(=O)(=O)N1C[C@H]2N[C@@H](C1)[C@@H]2c1ccc(cc1)-c1ccccc1F',\n",
       " 'CN1CCN(CC1)C(=O)C[C@@H]1CC[C@H]2[C@@H](COC[C@@H](O)CN2Cc2cccc(F)c2)O1',\n",
       " 'CCC(=O)N(C)C[C@H]1Oc2cc(ccc2S(=O)(=O)N(C[C@@H]1C)[C@@H](C)CO)C3=CCCC3',\n",
       " 'CNC[C@H]1Oc2ccc(NS(=O)(=O)c3ccccc3)cc2CC(=O)N(C[C@@H]1C)[C@@H](C)CO',\n",
       " 'OC[C@@H]1O[C@@H](CC(=O)N2CCc3ccccc3C2)C[C@@H]4[C@H]1Oc5ccc(NC(=O)Nc6ccc(cc6)C(F)(F)F)cc45',\n",
       " 'CC1(C)[C@H](O)C=C[C@]2(C)C3CC[C@@]4(C)[C@@H](OC(=O)C=C4[C@]3(C)OC(=O)CC12)c5ccoc5',\n",
       " 'COc1ccccc1CNC(=O)C[C@H]2C[C@H]3[C@H](Oc4ccc(cc34)N(C)C)[C@H](CO)O2',\n",
       " 'C[C@@H](O)COc1cn2ncnc(Oc3ccc4[nH]c(C)cc4c3F)c2c1C',\n",
       " 'Cc1cc(NC(=O)CS(=O)(=O)c2cn(Cc3cccc(Br)c3)c3ccccc23)no1',\n",
       " 'C[C@H](CO)N1C[C@H](C)[C@H](CN(C)Cc2cccnc2)Oc3ncc(cc3C1=O)c4cccc(C#N)c4',\n",
       " 'C[C@@H](CO)N1C[C@@H](C)[C@@H](CN(C)C)Oc2ccc(NC(=O)C3CC3)cc2CC1=O',\n",
       " 'CNC(=O)C[C@H]1CC[C@H]2[C@H](COc3ccc(NC(=O)c4cc(F)cc(F)c4)cc3C(=O)N2C)O1',\n",
       " 'CC(C)NC(=O)Nc1ccc2O[C@@H](CN(C)C(=O)NC3CCCCC3)[C@H](C)CN([C@@H](C)CO)C(=O)Cc2c1',\n",
       " 'CO[C@@H]1CN(C)C(=O)c2cc(NC(=O)c3cccc(OC)c3)ccc2OC[C@H](C)NC[C@@H]1C',\n",
       " 'CN(C)C(=O)c1ccc(cc1)-c1cccc(c1)-c1nc(cc2CN([C@H](CCO)c12)[S@](=O)C(C)(C)C)C(=O)NCc1ccccc1',\n",
       " 'CCCNC(=O)N1C[C@]2(CCN(CC2)C(=O)c2cccc(F)c2)c2c([nH]c3cc(OC)ccc23)[C@H]1CO',\n",
       " 'C[C@@H](CO)N1C[C@@H](C)[C@H](CN(C)S(=O)(=O)c2ccccc2)OCCCC[C@@H](C)Oc3ccc(NC(=O)CCCN(C)C)cc3C1=O',\n",
       " 'C[C@H](O)C#Cc1ccc(cc1)[C@H]1[C@@H](CO)N2CCCCN(C[C@H]12)C(=O)c1ccc2OCOc2c1',\n",
       " 'NCCC[C@H](N)CC(=O)N[C@H]1CNC(=O)[C@@H](NC(=O)C(NC(=O)[C@H](CO)NC(=O)[C@H](CO)NC1=O)=CNC(N)=O)[C@H]1C[C@H](O)N=C(N)N1',\n",
       " 'CN(C)S(=O)(=O)c1ccc2NC(=O)/C(=C\\\\c3cc4CCCCc4[nH]3)/c2c1',\n",
       " 'Fc1cn(C2CCCO2)c(=O)[nH]c1=O',\n",
       " 'COc1cccc(c1)c2cccc(c2)c3nc(cc4CN([C@H](CCO)c43)S(=O)C(C)(C)C)C(=O)O',\n",
       " 'CC(C)CN(C[C@H]1[C@H]([C@@H](CO)N1C(C)=O)c1ccccc1)C(=O)c1ccccn1',\n",
       " 'C[C@@H](CO)N1C[C@@H](C)[C@H](CN(C)CC2CC2)Oc3ccc(NC(=O)Nc4ccccc4)cc3CC1=O',\n",
       " 'CN(C)C(=O)C[C@H]1O[C@H](CO)[C@@H](NC(=O)c2ccc(F)cc2)C=C1',\n",
       " 'NC(=O)c1cccc(c1)-c1cc(Nc2ccc(OC(F)(F)F)cc2)ncn1',\n",
       " 'CCC[C@@H]1C[C@H](N(C)C1)C(=O)N[C@H]([C@H](C)Cl)C1O[C@H](SC)[C@H](O)[C@@H](O)[C@H]1O',\n",
       " 'C[C@H](NC(=O)C[C@H]1O[C@@H](CO)[C@H](NC(=O)Cc2ccccn2)C=C1)c1ccccc1',\n",
       " 'CC(C)NC(=O)Nc1ccc2O[C@H](C)CCCCO[C@@H](CN(C)C(=O)NC3CCCCC3)[C@@H](C)CN([C@H](C)CO)C(=O)c2c1',\n",
       " 'CC(CN(C)C)CN1c2ccccc2CCc2ccccc12',\n",
       " 'Oc1cc(C=C(C#N)C#N)ccc1[N+](=O)[O-]',\n",
       " 'Fc1ccc(Cc2n[nH]c(=O)c3ccccc23)cc1C(=O)N1CCN(CC1)C(=O)C1CC1',\n",
       " 'COCC(=O)NC[C@H]1[C@@H]([C@H](CO)N1C(=O)c1ccccc1)c1ccccc1',\n",
       " 'O[C@H]1COC[C@@H]2O[C@H](CC(=O)Nc3ccc(cc3)-c3ccccc3)CC[C@H]2N(Cc2ccc3OCOc3c2)C1',\n",
       " 'CO[C@@H](CN(C)Cc1cc(F)ccc1F)[C@@H](C)CN([C@H](C)CO)S(=O)(=O)c1ccc(F)cc1',\n",
       " 'O=C1CCCC(=O)C1C(C#Cc2ccccc2)C3C(=O)CCCC3=O',\n",
       " 'COc1ccc2c3c([nH]c2c1)[C@@H](CO)N(C)C[C@]31CCN(CC1)S(=O)(=O)c1ccc(C)cc1',\n",
       " 'FC(F)(F)c1ccc(cc1)S(=O)(=O)NC2CCN(CC2)C#N',\n",
       " 'C[C@H](CO)N1C[C@@H](C)[C@@H](CN(C)S(=O)(=O)c2ccccc2)Oc3ccc(cc3CC1=O)N(C)C',\n",
       " 'OC[C@H]1[C@H]([C@H]2CN(CC(=O)N12)C(=O)Nc1ccccc1F)c1ccc(cc1)-c1cccnc1',\n",
       " 'CC(C)(C)[S@](=O)N1Cc2cc(nc(c2[C@@H]1CCO)-c1cccc(c1)-c1ccc(cc1)C#N)C(=O)NCc1ccncc1',\n",
       " 'Fc1cccc(CN2C[C@H]3N[C@@H](C2)[C@@H]3c2ccc(cc2)-c2cncnc2)c1',\n",
       " 'Cc1cccc(c1)-c1ccc(cc1)[C@H]1[C@@H](CO)N2CCCCN(C[C@H]12)S(=O)(=O)c1ccccc1F',\n",
       " 'CNC[C@@H]1Oc2cc(C#C[C@@H](C)O)ccc2S(=O)(=O)N(C[C@H]1C)[C@H](C)CO',\n",
       " 'OC[C@@H]1[C@H]([C@@H]2CN(CC(=O)N12)C(=O)C1CCOCC1)c1ccc(cc1)C#CCc1ccccc1',\n",
       " 'COC(=O)C[C@@H]1CC[C@H]2[C@@H](COC[C@@H](O)CN2CCC(F)(F)F)O1',\n",
       " 'C[C@H](CO)N1C[C@@H](C)[C@H](CN(C)Cc2ccccc2)OCCCC[C@H](C)Oc3ccc(NC(=O)c4ccncc4)cc3C1=O',\n",
       " 'CN(C[C@@H]1[C@H]([C@H](CO)N1C(=O)c1ccccc1)c1ccccc1)C(=O)C1CCC1',\n",
       " 'CN(C)CCc1c[nH]c2ccc(Cn3cncn3)cc12',\n",
       " 'C\\\\C=C\\\\c1ccc(cc1)[C@H]1[C@@H](CO)N2[C@H]1CN(Cc1ccc(F)cc1)CC2=O',\n",
       " 'C[C@@H](CO)N1C[C@H](C)[C@@H](CN(C)Cc2ccc(cc2)C(F)(F)F)OCCCC[C@@H](C)Oc3ccc(NC(=O)Nc4ccc(F)cc4)cc3C1=O',\n",
       " 'C[C@H](CO)N1C[C@@H](C)[C@H](CN(C)C(=O)[C@H](C)c2ccccc2)OCc3ccccc3-c4ccccc4C1=O',\n",
       " 'OC[C@H]1[C@@H]2[C@@H](CN(C(=O)C3CCOCC3)c3ccccc23)N1Cc1ccc(Cl)cc1',\n",
       " 'Cc1cc2C(=O)C(=C(C(=O)c2cc1C)c3ccccc3)NCc4ccccc4',\n",
       " 'C/C=C/c1ccc2c(O[C@H](CN(C)C)[C@@H](C)CN([C@@H](C)CO)S2(=O)=O)c1',\n",
       " 'C[C@@H](CO)N1C[C@H](C)[C@@H](CN(C)C(=O)[C@H](Cc2ccccc2)N(C)C)OCc3ccccc3-c4c(C1=O)n(C)c5ccccc45',\n",
       " 'OC[C@@H]1N[C@@H](C#N)[C@H]1c1ccc(cc1)C#CC1CCCCC1',\n",
       " 'CCCCC[C@H](O)\\\\C=C\\\\[C@H]1[C@H](O)CC(=O)[C@@H]1C\\\\C=C/CCCC(O)=O',\n",
       " 'COc1ccccc1S(=O)(=O)N[C@H]1CC[C@H](CC(=O)NCc2cccc(F)c2)O[C@H]1CO',\n",
       " 'CC(C)[C@]1(O)[C@@H](OC(=O)c2ccc[nH]2)[C@]3(O)[C@]4(O)[C@]1(C)[C@]5(O)C[C@@]3(C)[C@@]6(O)CC[C@H](C)[C@@H](O)[C@]46O5',\n",
       " 'CN1[C@H]2CC[C@@H](CC(=O)NC3CCCCC3)O[C@H]2COc2ccc(NS(C)(=O)=O)cc2C1=O',\n",
       " 'OC[C@H]1[C@@H]([C@H](C#N)N1C(=O)c1ccccn1)c1ccc(cc1)C1=CCCC1',\n",
       " 'OC[C@@H]1O[C@@H](CC(=O)NCC2CC2)C=C[C@H]1NC(=O)c1ccncc1',\n",
       " 'CC(C)NC(=O)N(C)C[C@@H]1OCCCC[C@@H](C)Oc2ccc(NC(=O)Nc3ccccc3)cc2C(=O)N(C[C@@H]1C)[C@H](C)CO',\n",
       " 'COc1ccc(NC(=O)N2CCCCN3[C@H](CO)[C@H]([C@H]3C2)c2ccc(cc2)-c2ccccc2F)cc1',\n",
       " 'C[C@H](CO)N1C[C@H](C)[C@@H](CN(C)S(=O)(=O)c2ccccc2)OCc3cn(CCCC1=O)nn3',\n",
       " 'OC[C@@H]1[C@H]2[C@H](CN(C(=O)C3CCOCC3)c3ccccc23)N1C(=O)Cc1ccccc1',\n",
       " 'CCC(=O)N1C[C@@H]2[C@H]([C@H](CO)N2C(=O)C1)c1ccc(cc1)C#CCC(C)C',\n",
       " 'CS(=O)(=O)N1C[C@H]2[C@H]([C@@H](CO)N2C(=O)C1)c1ccc(cc1)C#Cc1ccc(F)cc1',\n",
       " 'CCCn1c(NC(=O)c2cccc(c2)S(=O)(=O)N3CCCC3)nc4ccccc14',\n",
       " 'CN1[C@H]2CC[C@@H](CC(=O)N[C@@H]3CCN(Cc4ccccc4)C3)O[C@@H]2COc2ccc(NC(=O)Nc3c(C)noc3C)cc2C1=O',\n",
       " 'C[C@@H](O)CNC(C)(C)CC(=O)N[C@@H]1CCc2ccccc2N(Cc3ccc(cc3)c4ccccc4c5nn[nH]n5)C1=O',\n",
       " 'CCCN(C)C[C@H]1OCc2ccccc2-c3ccccc3C(=O)N(C[C@H]1C)[C@@H](C)CO',\n",
       " 'CC(C)NC(=O)Nc1ccc2O[C@H](C)CCCCO[C@@H](CN(C)C(=O)c3ccncc3)[C@@H](C)CN([C@H](C)CO)C(=O)c2c1',\n",
       " 'O=C(O[C@H]1Cc2c(OC(=O)c3ccccc3)cc(OC(=O)c4ccccc4)cc2O[C@@H]1c5ccc(OC(=O)c6ccccc6)c(OC(=O)c7ccccc7)c5)c8ccccc8',\n",
       " 'COc1ccc(cc1)S(=O)(=O)N2CCN(CC2)S(=O)(=O)c3ccc4OCCOc4c3',\n",
       " 'COCC(=O)N(C)C[C@@H]1[C@H]([C@H](CO)N1C(C)=O)c1ccc(cc1)-c1ccccc1',\n",
       " 'COc1cccc(c1)-c1ccc(cc1)[C@H]1[C@@H]2CNC[C@H]1N2C(=O)Nc1ccc(cc1)C(F)(F)F',\n",
       " 'Cn1cncc1[C@@](N)(c1ccc(Cl)cc1)c1ccc2n(C)c(=O)cc(-c3cccc(Cl)c3)c2c1',\n",
       " 'COc1ccccc1C#Cc2ccc3c(O[C@H](CN(C)Cc4cccnc4)[C@@H](C)CN([C@H](C)CO)S3(=O)=O)c2',\n",
       " 'C[C@H](CO)N1C[C@@H](C)[C@@H](CN(C)C(=O)c2ccc(F)cc2)Oc3cc(ccc3S1(=O)=O)C4=CCCC4',\n",
       " 'CC(C)NC(=O)N1C[C@@H]2[C@@H]([C@H](CO)N2C(=O)C1)c1ccc(\\\\C=C\\\\c2ccccc2)cc1',\n",
       " 'COc1ccc2c3c([C@H](CO)N(CC4CCOCC4)C[C@]33CCN(CC3)C(=O)CN(C)C)n(C)c2c1',\n",
       " 'COc1ccc2c3c([nH]c2c1)[C@H](CO)N(C[C@]31CCN(CC2CCCC2)CC1)S(C)(=O)=O',\n",
       " 'CN1CCN(CC1)C(=O)C[C@H]1CC[C@H]2[C@H](COc3ccc(NC(=O)c4cscn4)cc3C(=O)N2C)O1',\n",
       " 'COCC#Cc1cnc2O[C@@H](CN(C)S(=O)(=O)C)[C@@H](C)CN([C@@H](C)CO)C(=O)c2c1',\n",
       " 'COCC(=O)Nc1ccc2OC[C@H](C)N(Cc3cc(F)ccc3F)C[C@@H](C)[C@@H](CN(C)C(=O)c2c1)OC',\n",
       " 'COc1ccc2c3c([nH]c2c1)[C@H](CO)N(Cc1ccc2OCOc2c1)C[C@]31CCN(CC1)C(=O)Nc1c(C)noc1C',\n",
       " 'C[C@@H](CO)N1C[C@H](C)[C@@H](CN(C)Cc2ccccc2)OCCCC[C@@H](C)Oc3ccc(NC(=O)Cc4ccccc4)cc3C1=O',\n",
       " 'O[C@H]1CN[C@H]2CC[C@H](CC(=O)NCCN3CCCCC3)O[C@@H]2COC1',\n",
       " 'COc1ccc(NC(=O)Nc2ccc3O[C@@H](C)CCCCO[C@H](CN(C)CC4CCCCC4)[C@H](C)CN([C@H](C)CO)C(=O)c3c2)cc1',\n",
       " 'OC[C@H]1O[C@@H](CC(=O)NCC2CC2)C[C@H]3[C@@H]1Oc4ccc(NC(=O)CC5CC5)cc34',\n",
       " 'CN1CCc2cc(Cl)c(O)cc2[C@@H]3[C@@H]1CCc4ccccc34',\n",
       " 'CC(C)NC(=O)Nc1ccc2O[C@@H](C)CCCCO[C@@H](CN(C)CC3CCCCC3)[C@@H](C)CN([C@@H](C)CO)C(=O)c2c1',\n",
       " 'OC[C@H]1[C@@H]2[C@@H](CN(C(=O)Nc3ccc(F)cc3)c3ccccc23)N1C(=O)c1cccnc1',\n",
       " 'CCOC(=O)[C@H]1C\\\\C=C\\\\C[C@H](C(=O)OCC)C(=O)O[C@H]2[C@H](OC(=O)Nc3ccc(Br)cc3)[C@@H](CO)O[C@H](OC)[C@@H]2OC1=O',\n",
       " 'C[C@@H](CO)N1C[C@@H](C)[C@H](CN(C)CC2CCCCC2)OCCCC[C@@H](C)Oc3ccc(NS(=O)(=O)c4ccccc4)cc3C1=O',\n",
       " 'C\\\\C=C\\\\c1cccc(c1)-c1nc(cc2CN([C@@H](CCO)c12)[S@@](=O)C(C)(C)C)C(=O)NCc1ccncc1',\n",
       " 'COc1cccc(NC(=O)N2C[C@H](O)COC[C@H]3O[C@H](CC(=O)N(C)C)CC[C@H]23)c1',\n",
       " 'C[C@@H](CO)N1C[C@H](C)[C@H](CN(C)S(=O)(=O)C)OCc2cn(CCCC1=O)nn2',\n",
       " 'C[C@H](CO)N1C[C@H](C)[C@H](CN(C)S(=O)(=O)c2ccc(F)cc2)OCCCC[C@@H](C)Oc3ccc(NC(=O)Nc4ccccc4)cc3C1=O',\n",
       " 'C[C@@H](CO)N1C[C@@H](C)[C@H](CN(C)Cc2ccc(Oc3ccccc3)cc2)Oc4ccc(NC(=O)CCCN(C)C)cc4C1=O',\n",
       " 'CN(C)c1ccc2O[C@H]3[C@H](C[C@H](CC(=O)NCc4cc(F)ccc4F)O[C@H]3CO)c2c1',\n",
       " 'Cc1cccnc1NC(=S)NC(=O)c2cncc(Br)c2',\n",
       " 'C[C@@H](CO)N1C[C@@H](C)[C@@H](CN(C)CC2CC2)OCCCC[C@@H](C)Oc3ccc(NC(=O)Nc4c(C)noc4C)cc3C1=O',\n",
       " 'CCC[C@H](N[C@@H](C)C(=O)N1[C@H]2CCCC[C@@H]2C[C@H]1C(O)=O)C(=O)OCC',\n",
       " 'FC(F)Oc1ccc(cc1OCC2CC2)C3=Nn4c(nnc4SC3)c5ccccc5F',\n",
       " 'COc1ccc(cc1)S(=O)(=O)N[C@@H]1C=C[C@H](CC(=O)NCCc2ccncc2)O[C@@H]1CO',\n",
       " 'OC[C@@H]1[C@H]2Cn3c(cccc3=O)[C@@H]([C@H]1C(=O)NCCc1ccccc1)N2Cc1ccccn1',\n",
       " 'C[C@H](CO)N1C[C@@H](C)[C@@H](CN(C)Cc2ccc(Cl)c(Cl)c2)Oc3c(NC(=O)Nc4cccc5ccccc45)cccc3C1=O',\n",
       " 'CNc1ccc2oc(C[C@H]3O[C@@]4(CC[C@H]3C)O[C@H]([C@H](C)C(=O)c5ccc[nH]5)[C@H](C)C[C@H]4C)nc2c1C(=O)O',\n",
       " 'CC(=O)Nc1ccc(cc1)C(=O)NC1CCCCC1N',\n",
       " 'C[C@H](CO)N1C[C@H](C)[C@H](CN(C)C)Oc2ccc(NC(=O)Nc3ccccc3)cc2C1=O',\n",
       " '[O-][N+](=O)c1ccc(cc1)N(CCCNC(=O)C(F)(F)F)C(=O)CCl',\n",
       " 'COC(=O)C[C@@H]1C[C@H]2[C@H](Oc3ccc(NC(=O)CN(C)C)cc23)[C@@H](CO)O1',\n",
       " 'O[C@H]1COC[C@H]2O[C@@H](CC(=O)NC3CCC3)CC[C@@H]2N(C1)C(=O)Nc1ccc(Cl)c(Cl)c1',\n",
       " 'COCC(=O)Nc1ccc2O[C@@H]3[C@@H](C[C@@H](CC(=O)N4CCOCC4)O[C@H]3CO)c2c1',\n",
       " 'CC(Oc1c(Cl)cccc1Cl)C1=NCCN1',\n",
       " 'C[C@H](CO)N1C[C@@H](C)[C@@H](CN(C)Cc2ccc(Oc3ccccc3)cc2)Oc4ccc(NC(=O)CCCN(C)C)cc4C1=O',\n",
       " '[O-][N+](=O)c1ccc2NC(=O)C3(NNc4ccccc4O3)c2c1',\n",
       " 'NC(=N)NC(=N)NCCc1ccccc1',\n",
       " 'C[C@H](CO)N1C[C@@H](C)[C@@H](CN(C)Cc2ccc(F)cc2)Oc3ncc(cc3C1=O)c4cccc(C#N)c4',\n",
       " 'CN1CCN(CC1)C(=O)c2cc3CN([C@H](CCO)c3c(n2)c4cccc(C#CCC5CCCC5)c4)S(=O)C(C)(C)C',\n",
       " 'CCCNC(=O)N(C)C[C@@H]1Oc2cc(C#CC(C)(C)O)ccc2S(=O)(=O)N(C[C@H]1C)[C@H](C)CO',\n",
       " 'COc1ccccc1CNC(=O)C[C@H]2C[C@H]3[C@H](Oc4ccc(NC(=O)Nc5ccc(cc5)C(F)(F)F)cc34)[C@@H](CO)O2',\n",
       " 'Nc1ncnc2n(C3OC4COP(=O)(O)OC4C3O)c(Br)nc12',\n",
       " 'O=Cc1c2[nH]c3ccccc3c2cc4[nH]c5ccccc5c14',\n",
       " 'C[C@@H](CO)N1C[C@@H](C)[C@@H](CN(C)C)Oc2ccc(NC(=O)Nc3ccccc3)cc2C1=O',\n",
       " 'C1CCc2nnnn2CC1',\n",
       " 'C[C@H](CO)N1C[C@@H](C)[C@H](CN(C)C(=O)N[C@H](C)c2ccccc2)OCc3ccccc3-c4c(C1=O)n(C)c5ccccc45',\n",
       " 'COC(=O)NN=Cc1c[n+]([O-])c2ccccc2[n+]1[O-]',\n",
       " 'CC[N+](C)(CC)CCOC(=O)C1c2ccccc2Oc2ccccc12',\n",
       " 'COc1ccc(cc1)-c1cccc(c1)-c1nc(cc2CN([C@@H](CCO)c12)[S@@](=O)C(C)(C)C)C(=O)NCC(F)(F)F',\n",
       " 'Cc1ccc(cc1)c2cn3c4CCCCc4sc3n2',\n",
       " 'CO[C@@H](CN(C)Cc1ccc2OCOc2c1)[C@H](C)CN([C@H](C)CO)C(=O)Nc1ccc(F)cc1',\n",
       " 'Cn1nnnc1Sc2ncnc3scc(c4cc5ccccc5o4)c23',\n",
       " 'COc1ccc(cc1)[Si](C)(C)[C@H]2[C@H](C)[C@]3(O[C@@H]2CCn4cc(CCO)nn4)C(=O)N(Cc5cccc(c5)N6CCOC6=O)c7ccccc73',\n",
       " 'O=C1NC(=O)C(N1)(c1ccccc1)c1ccccc1',\n",
       " 'OC[C@H]1Nc2ccc(cc2[C@H]2[C@@H]1CCN2C(=O)c1ccc(F)cc1)C#Cc1ccccc1F',\n",
       " 'COC(=O)c1cc2c(cn1)[nH]c3ccccc32',\n",
       " 'C[C@@H](CO)N1C[C@H](C)[C@H](CN(C)S(=O)(=O)c2cccs2)OCc3ccccc3-c4c(C1=O)n(C)c5ccccc45',\n",
       " 'CN1[C@@H](CO)[C@@H]2[C@H]1CNc1ccccc21',\n",
       " 'O[C@H]1COC[C@@H]2O[C@@H](CC(=O)N3CCc4ccccc4C3)CC[C@H]2N(Cc2cc(F)ccc2F)C1',\n",
       " 'C[C@@H](CO)N1C[C@@H](C)[C@H](CN(C)Cc2ccc(cc2)c3ccccc3)Oc4c(cccc4C1=O)N(C)C',\n",
       " 'CN(Cc1ccccc1)C(=O)[C@H](Cc1ccc2ccccc2c1)NC(=O)[C@@H]1C[C@@H](O)CN1C(=O)c1cn(C)c2ccccc12',\n",
       " 'C[C@@H](CO)N1C[C@@H](C)[C@@H](CN(C)Cc2ccc(cc2)C(=O)O)Oc3cc(ccc3S1(=O)=O)c4ccccc4C',\n",
       " 'O[C@@H]1COC[C@H]2O[C@@H](CC(=O)NCc3ccc(Cl)cc3)CC[C@@H]2N(Cc2cc(F)ccc2F)C1',\n",
       " 'COC(=O)C[C@@H]1C[C@@H]2[C@@H](Oc3ccc(NC(=O)c4ccc5OCOc5c4)cc23)[C@@H](CO)O1',\n",
       " 'OC[C@H]1O[C@@H](CC(=O)N2CCc3ccccc3C2)C[C@@H]4[C@H]1Oc5ccc(NC(=O)c6ccc7OCOc7c6)cc45',\n",
       " 'CO[C@@H]1CN(C)C(=O)c2cc(NC(=O)C3CC3)ccc2OC[C@@H](C)N(C[C@@H]1C)C(=O)c1cccnc1',\n",
       " 'OC[C@@H]1[C@H]2[C@H](CN(C(=O)c3ccccc3F)c3ccccc23)N1C(=O)C1CCCC1',\n",
       " 'Cc1ccccc1-c1ccc(cc1)[C@@H]1[C@@H](CO)N2[C@H]1CN(CC2=O)S(C)(=O)=O',\n",
       " 'C[C@H](CO)N1C[C@@H](C)[C@H](CN(C)C(=O)c2ccc(cc2)N3CCN(C)CC3)OCc4cn(CCCC1=O)nn4',\n",
       " 'COc1cccc(CNC(=O)c2cc3CN([C@H](CCO)c3c(n2)-c2cccc(\\\\C=C\\\\C)c2)[S@](=O)C(C)(C)C)c1',\n",
       " 'CNCCCN1c2ccccc2Sc2ccc(cc12)C(F)(F)F',\n",
       " 'Cn1c2ccccc2c(OCCCC(=O)Nc2cc(Br)ccn2)cc1=O',\n",
       " 'OC[C@H]1[C@@H]([C@H]2CN(CC(=O)N12)C(=O)c1cnccn1)c1ccc(cc1)C#CC1CC1',\n",
       " 'C[C@H](CO)N1C[C@@H](C)[C@H](CN(C)S(=O)(=O)c2ccsc2)OCc3ccccc3-c4ccccc4C1=O',\n",
       " 'COc1ccc2c3c([nH]c2c1)[C@@H](CO)N(C[C@]31CCN(CC1)C(=O)C1CCC1)C(=O)c1ccncc1',\n",
       " 'OC[C@H]1O[C@@H](CC(=O)NCc2ccc(Oc3ccccc3)cc2)C[C@@H]4[C@H]1Oc5ccc(NS(=O)(=O)c6ccc(F)cc6)cc45',\n",
       " 'OC[C@H]1[C@@H]([C@@H]2CN(CC(=O)N12)C(=O)Nc1ccc(F)cc1)c1ccc(cc1)C#Cc1cccnc1',\n",
       " 'OC[C@@H]1O[C@@H](CC(=O)NCc2ccc(Cl)cc2)CC[C@@H]1NC(=O)CC1CC1',\n",
       " 'C\\\\C=C\\\\c1ccc(cc1)[C@H]1[C@@H](CO)N[C@@H]1CNC(=O)CC1CC1',\n",
       " 'COc1ccc2c3c([nH]c2c1)[C@@H](CO)N(C[C@]31CN(C1)S(C)(=O)=O)C(=O)c1ccccn1',\n",
       " 'COc1ccc2c3c([nH]c2c1)[C@@H](CO)N(C[C@]31CCN(CC1)S(=O)(=O)c1cn(C)cn1)C(=O)Nc1ccc(F)cc1',\n",
       " 'CC(C)(O)/C=C/C(=O)[C@](C)(O)C1[C@H](O)C[C@@]2(C)[C@@H]3CC=C4C(CC(=O)C(=O)C4(C)C)[C@]3(C)C(=O)C[C@@]12C',\n",
       " 'CCCCCCCCCCCCCCCCCCc1ccc(cc1)C(=O)C=CC(=O)O',\n",
       " 'OC[C@H]1O[C@@H](CC(=O)NCc2ccccn2)C[C@@H]3[C@H]1Oc4ccc(NC(=O)c5ccc6OCOc6c5)cc34',\n",
       " 'COc1cccc(c1)-c1ccc(cc1)[C@H]1[C@@H](CO)N(C(=O)Cc2ccncc2)[C@@H]1C#N',\n",
       " 'Oc1ccc(cc1)\\\\C=C\\\\c1cc(O)cc(O)c1',\n",
       " 'Cc1csc(CNc2ncnc3ccc(cc23)c4cccnc4)c1',\n",
       " 'CN(C)C(=O)c1cccc(c1)-c1cccc(c1)-c1nc(cc2CN([C@H](CCO)c12)[S@](=O)C(C)(C)C)C(=O)N1CCN(C)CC1',\n",
       " 'OC[C@H]1[C@@H]2[C@@H](CN(c3ccccc23)S(=O)(=O)c2ccc(F)cc2)N1Cc1ccccc1Cl',\n",
       " 'COCC#Cc1ccc(cc1)[C@@H]1[C@H](CO)N2[C@@H]1CN(CC2=O)C(=O)C1CCCCC1',\n",
       " 'CN(C)c1ccc2O[C@@H]3[C@@H](C[C@@H](CC(=O)NCCc4ccccc4)O[C@@H]3CO)c2c1',\n",
       " 'C[C@@H](O)[C@@H](O)[C@@H](O)C/C=N/NC(=O)CCCCCC(=O)Nc1ccccc1O',\n",
       " 'Nc1nc(cs1)C(=NO)C(=O)N[C@H]2[C@H]3SCC(=C(N3C2=O)C(=O)O)C=C',\n",
       " 'C[C@@H](CO)N1C[C@H](C)[C@@H](CN(C)Cc2ccncc2)Oc3cc(C#CCN(C)C)ccc3S1(=O)=O',\n",
       " 'C[C@H](CO)N1C[C@@H](C)[C@@H](CN(C)C(=O)c2ccncc2)OCc3ccccc3-c4ccccc4C1=O',\n",
       " 'OC[C@@H]1[C@@H]([C@H]2CN(CC(=O)N12)C(=O)Cc1cccnc1)c1ccc(cc1)C#CC1CCCCC1',\n",
       " 'OC[C@@H]1[C@H]2Cn3c(ccc(C4=CCCCC4)c3=O)[C@H]2N[C@H]1C(=O)NCC1CC1',\n",
       " 'C[C@@H](CO)N1C[C@H](C)[C@@H](CN(C)CC2CCCCC2)OCCCC[C@H](C)Oc3ccc(NC(=O)c4ccncc4)cc3C1=O',\n",
       " 'COC(=O)[C@@H]1[C@@H](CO)[C@@H]2Cn3c(ccc(-c4ccccc4F)c3=O)[C@H]1N2CC1CCCC1',\n",
       " 'COCC(=O)N[C@H]1C=C[C@H](O[C@H]1CO)CC(=O)NCc1ccc(Cl)cc1',\n",
       " 'CN1CCN2[C@@H](C1)c3ccccc3Cc4cccnc24',\n",
       " 'CC(C)c1ccccc1S(=O)(=O)c1cc(N)c2ncccc2c1[N+]([O-])=O',\n",
       " 'CN1[C@@H]2CC[C@@H](CC(=O)NCC3CC3)O[C@@H]2COc2ccc(NC(=O)NC3CCCC3)cc2C1=O',\n",
       " 'C[C@@H](CO)N1C[C@@H](C)[C@@H](CN(C)C(=O)c2ccccc2)OCc3cn(CCCC1=O)nn3',\n",
       " 'CCCC(=O)Nc1ccc2OC[C@@H](C)N(Cc3nccs3)C[C@@H](C)[C@@H](CN(C)C(=O)c2c1)OC',\n",
       " 'C[C@@H](CO)N1C[C@@H](C)[C@@H](CN(C)Cc2ccc(Oc3ccccc3)cc2)Oc4cc(ccc4S1(=O)=O)c5ccncc5',\n",
       " 'C[C@H](CO)N1C[C@H](C)[C@@H](CN(C)Cc2cccnc2)OCc3ccccc3-c4c(C1=O)n(C)c5ccccc45',\n",
       " 'C[C@H](CO)N1C[C@H](C)[C@H](CN(C)Cc2ccc(cc2)C(=O)O)Oc3ccc(NC(=O)C4CC4)cc3C1=O',\n",
       " 'CCS(=O)(=O)Nc1ccc2OC[C@@H]3O[C@H](CC(=O)N4CCN(C)CC4)CC[C@H]3N(C)C(=O)c2c1',\n",
       " 'CC1(C)N[C@@H](Cc2c1[nH]c1ccccc21)C(O)=O',\n",
       " 'COc1ccc(OC)c(NC(=O)c2ccc(CSc3ncnc4[nH]cnc34)cc2)c1',\n",
       " 'OC[C@H]1[C@H]([C@H](C#N)N1C(=O)C1CCCC1)c1ccccc1',\n",
       " 'COc1ccccc1c2csc3ncnc(Sc4nnnn4C)c23',\n",
       " 'O=C(N1CCc2ccccc2C1)C1=CC=CN2CCS(=O)(=O)N=C12',\n",
       " 'OC1(NC(=O)c2ccccc2O1)c3ccccc3',\n",
       " 'C[C@H](CO)N1C[C@@H](C)[C@@H](CN(C)Cc2ccc3OCOc3c2)OCCCC[C@H](C)Oc4ccc(NS(=O)(=O)c5c(C)noc5C)cc4C1=O',\n",
       " 'C[C@@H](CO)N1C[C@H](C)[C@H](CN(C)C(=O)Nc2ccc(cc2)C(F)(F)F)Oc3ccc(NC(=O)NC4CCCCC4)cc3C1=O',\n",
       " 'OC[C@@H]1O[C@H](CCNS(=O)(=O)c2ccccc2Cl)CC[C@H]1NC(=O)Cc1cccnc1',\n",
       " 'CN(C)CC#Cc1ccc(cc1)[C@@H]1[C@@H](CO)N2[C@@H]1CN(CC2=O)C(=O)CN(C)C',\n",
       " 'CO[C@H]1CN(C)C(=O)c2cc(NS(=O)(=O)c3cccc(F)c3)ccc2OC[C@@H](C)NC[C@H]1C',\n",
       " 'C[C@@H](CO)N1C[C@H](C)[C@H](CN(C)C(=O)c2ccc(cc2)N3CCN(C)CC3)OCc4cn(CCCC1=O)nn4',\n",
       " 'COc1ccc2c3c([C@H](CO)N(Cc4cccnc4)C[C@]33CN(C3)C(=O)c3cccnc3)n(C)c2c1',\n",
       " 'C[C@@H](CO)N1C[C@H](C)[C@@H](CN(C)Cc2ccc(cc2)C(F)(F)F)OCCCC[C@H](C)Oc3ccc(NS(=O)(=O)c4c(C)noc4C)cc3C1=O',\n",
       " 'CC(C)NC(=O)N1[C@H](CO)[C@H]([C@H]1C#N)c1ccc(cc1)-c1ccc(F)cc1',\n",
       " 'O=C1CCCn2cc(COC[C@H](Cc3ccccc3)N1)nn2',\n",
       " 'OC1c2ccccc2CCC\\\\C1=C/C(O)=O',\n",
       " 'O[C@H]1COC[C@@H]2O[C@H](CC(=O)NCc3ccccc3)CC[C@H]2N(Cc2cccc(c2)C(F)(F)F)C1',\n",
       " 'CC1(C)[C@H](CC[C@@]2(C)C1CC[C@]1(C)C2C(=O)C=C2[C@@H]3C[C@](C)(CC[C@]3(C)CC[C@@]12C)C(O)=O)OC(=O)CCC(O)=O',\n",
       " 'CN1CCN(CC1)C(=O)C[C@H]2C[C@H]3[C@H](Oc4ccc(NC(=O)c5ccc6OCOc6c5)cc34)[C@H](CO)O2',\n",
       " 'CO[C@H](CN(C)S(=O)(=O)c1cn(C)cn1)[C@@H](C)CN([C@H](C)CO)C(=O)Nc1ccc(cc1)C(F)(F)F',\n",
       " 'OC[C@@H]1O[C@H](CC(=O)NCCc2ccccc2)C[C@@H]3[C@H]1Oc4ccc(NC(=O)Nc5ccc(cc5)C(F)(F)F)cc34',\n",
       " 'C[C@@H](CO)N1C[C@@H](C)[C@@H](CN(C)Cc2ccc(cc2)C(F)(F)F)Oc3ccc(NC(=O)Nc4c(C)noc4C)cc3C1=O',\n",
       " 'C[C@@]12C[C@H](O)[C@H]3[C@@H](CCC4=CC(=O)CC[C@]34C)[C@@H]2CC[C@]1(O)C(=O)COC(=O)CCC(=O)O',\n",
       " 'CN1C[C@@]2(C=C)C3CC4OC[C@@H]3[C@@H]1[C@H]2[C@@]45C(=O)Nc6ccccc65',\n",
       " 'C[C@H](CO)N1C[C@@H](C)[C@@H](CN(C)C(=O)Oc2ccc(C)cc2)OCc3cn(CCCC1=O)nn3',\n",
       " 'Cc1nccn1CC1CCc2c(C1=O)c1ccccc1n2C',\n",
       " 'COc1ccccc1CNC(=O)C[C@H]2C[C@H]3[C@H](Oc4ccc(NC(=O)CN(C)C)cc34)[C@@H](CO)O2',\n",
       " 'COc1ccc2c3c([C@H](CO)NC[C@]33CCN(Cc4ccc(Cl)cc4)CC3)n(C)c2c1',\n",
       " 'C[C@@H](CO)N1C[C@@H](C)[C@@H](CN(C)S(=O)(=O)c2ccccc2F)OCc3cn(CCCC1=O)nn3',\n",
       " 'CS(=O)(=O)N1[C@@H]([C@@H](CO)[C@@H]2Cn3c(ccc(-c4ccc(F)cc4)c3=O)[C@H]12)C(O)=O',\n",
       " 'Fc1ccc(cc1)C(=O)OCC#CCSc2nnc(o2)c3cccc4ccccc34',\n",
       " 'OC[C@@H]1O[C@@H](CC(=O)NCCN2CCCCC2)C[C@H]3[C@@H]1Oc4ccc(NC(=O)c5ccc6OCOc6c5)cc34',\n",
       " 'CCS(=O)(=O)Nc1ccc2OC[C@H]3O[C@H](CC(=O)N[C@@H]4CCN(Cc5ccccc5)C4)CC[C@H]3N(C)C(=O)c2c1',\n",
       " 'O=C(Nc1n[nH]c2cc(ccc12)-c1cccc(c1)C(=O)NC1CC1)C1CC1',\n",
       " 'C[C@H](CO)N1C[C@@H](C)[C@H](CN(C)C(=O)CN2CCOCC2)Oc3ncc(cc3C1=O)c4ccncc4',\n",
       " 'CC(C)(C)[S@@](=O)N1Cc2cc(nc(c2[C@H]1CCO)-c1cccc(Br)c1)C(=O)NC1CCCCC1',\n",
       " 'CC(=O)[C@H]1[C@@H](C[C@H]2[C@@H]3CC=C4C[C@@H](O)CC[C@]4(C)[C@H]3CC[C@]12C)C#N',\n",
       " 'COc1ccc2n(C(=O)c3ccc(Cl)cc3)c(C)c(CC(=O)O)c2c1',\n",
       " 'Cc1cc(nc2ccc(NC(=O)C3CCCCC3)cc12)N1CCOCC1',\n",
       " 'CC(C)C1CCC(C)C(C(O)c2ccc(cc2)c3ccccc3)C1=O',\n",
       " 'CC(C)(C(N)=N)\\\\N=N\\\\C(C)(C)C(N)=N',\n",
       " 'CN1CCN(CC1)C(=O)C[C@H]2C[C@H]3[C@H](Oc4ccc(NC(=O)C5CCC5)cc34)[C@@H](CO)O2',\n",
       " 'CN(C)C(=O)C[C@H]1C[C@H]2[C@H](Oc3ccc(NC(=O)Nc4ccc(F)cc4)cc23)[C@H](CO)O1',\n",
       " 'CCNC(=O)C[C@@H]1CC[C@H]2[C@@H](COc3ccc(NC(C)=O)cc3C(=O)N2C)O1',\n",
       " 'CCCNC(=O)Nc1ccc2OC[C@@H](C)N(C[C@@H](C)[C@@H](CN(C)C(=O)c2c1)OC)C(=O)c1ccccc1F',\n",
       " 'CO[C@@H](CN(C)Cc1nccs1)[C@H](C)CN([C@@H](C)CO)S(=O)(=O)c1ccc(F)cc1',\n",
       " 'COc1ccccc1S(=O)(=O)N[C@H]1CC[C@@H](CC(=O)NCc2cccc(F)c2)O[C@@H]1CO',\n",
       " 'CCC(=O)OCC(=O)[C@@]1(OC(=O)CC)[C@@H](C)C[C@H]2[C@H]3CCC4=CC(=O)C=C[C@]4(C)[C@@]3(Cl)[C@@H](O)C[C@]12C',\n",
       " 'CN1CCN(CC1)C(=O)C[C@H]2C[C@@H]3[C@@H](Oc4ccc(NS(=O)(=O)C)cc34)[C@@H](CO)O2',\n",
       " 'OC[C@H]1[C@@H]([C@H](CNCC2CCC2)N1C(=O)Cc1cccnc1)c1ccccc1',\n",
       " 'CCC(=O)Nc1ccc2OC[C@@H](C)N(C[C@@H](C)[C@H](CN(C)C(=O)c2c1)OC)C(=O)CC',\n",
       " 'OC[C@H]1O[C@@H](CC(=O)NCc2ccc3OCOc3c2)C[C@H]4[C@@H]1Oc5ccc(NC(=O)Nc6ccc(cc6)C(F)(F)F)cc45',\n",
       " 'C[C@@H](CO)N1C[C@H](C)[C@H](CN(C)Cc2cccc(C)c2)OCc3cn(CCCC1=O)nn3',\n",
       " 'CC(C)NC(=O)N(C)C[C@H]1OCCCC[C@@H](C)Oc2ccc(NS(=O)(=O)c3cn(C)cn3)cc2C(=O)N(C[C@@H]1C)[C@H](C)CO',\n",
       " 'Nc1nc2n(COCCO)cnc2c(=O)[nH]1',\n",
       " 'COc1cc2CCN3C[C@H](CC(C)C)C(=O)C[C@H]3c2cc1OC',\n",
       " 'C[C@@H](CO)N1C[C@@H](C)[C@H](CN(C)C(=O)c2ccccc2)OCCCC[C@H](C)Oc3ccc(NC(=O)c4ccccc4)cc3C1=O',\n",
       " 'OC[C@H]1[C@@H]([C@H](C#N)N1C(=O)C1CCCC1)c1ccccc1',\n",
       " 'CCCNC(=O)N1C[C@H](C)[C@@H](CN(C)C(=O)c2ccc(NS(=O)(=O)CC(F)(F)F)cc2OC[C@H]1C)OC',\n",
       " '[O-][N+](=O)c1ccc2c(Cl)c(sc2c1)C(=O)NCCCn1ccnc1',\n",
       " 'C[C@@H](CO)N1C[C@H](C)[C@@H](CN(C)S(=O)(=O)c2ccccc2F)Oc3ncc(C#Cc4cccnc4)cc3C1=O',\n",
       " 'OC[C@@H]1[C@H]2Cn3c(=O)c(\\\\C=C\\\\c4ccccc4)ccc3[C@H]2N(Cc2ccc3OCOc3c2)[C@H]1C(O)=O',\n",
       " 'CCNC(=O)[C@H]1[C@H](CO)[C@H]2Cn3c(cccc3=O)[C@H]2N1CC1CCCCC1',\n",
       " 'Cc1ccc(C[N+](C)(C)C)o1',\n",
       " 'COc1cccc(CNc2ncnc3ccc(cc23)c4c(C)noc4C)c1',\n",
       " 'C[C@@H](CO)N1C[C@@H](C)[C@H](CN(C)Cc2ccc3OCCOc3c2)OCc4cn(CCCC1=O)nn4',\n",
       " 'CO[C@H](CN(C)C(=O)c1ccc2OCOc2c1)[C@H](C)CN([C@H](C)CO)S(=O)(=O)c1ccc(F)cc1',\n",
       " 'C[C@H](CO)N1C[C@@H](C)[C@@H](CN(C)C(=O)c2cnccn2)Oc3ncc(C#CCN(C)C)cc3C1=O',\n",
       " 'COc1ccc(cc1)C(=O)N1C[C@H]2[C@H]([C@H](CO)N2C(=O)NC(C)C)c2ccccc12',\n",
       " 'C(Nc1ncnc2ccc(cc12)c3cccnc3)c4cccnc4',\n",
       " 'Cc1ccccc1OCC(O)CO',\n",
       " 'CCCC#Cc1cnc2O[C@H](CN(C)C(=O)CCN3CCCCC3)[C@@H](C)CN([C@@H](C)CO)C(=O)c2c1',\n",
       " 'CC(C)[C@H](C)NC(=O)N(C)C[C@@H]1OCc2ccccc2-c3ccccc3C(=O)N(C[C@H]1C)[C@H](C)CO',\n",
       " 'Clc1ccc(NC(=O)Nc2nnc(s2)c3ccncc3)cc1Cl',\n",
       " 'COc1ccc2[C@@H](OC(=O)c2c1OC)[C@H]1N(C)CCc2cc3OCOc3c(OC)c12',\n",
       " 'CO[C@@H]1CN(C)C(=O)c2cc(NS(C)(=O)=O)ccc2OC[C@H](C)N(C[C@H]1C)C(=O)C1CCOCC1',\n",
       " 'CCCc1nc(c(C(O)=O)n1Cc1ccc(cc1)-c1ccccc1-c1nn[nH]n1)C(C)(C)O',\n",
       " 'COCC(=O)N[C@@H]1C=C[C@H](O[C@@H]1CO)CC(=O)NCc1ccc(Cl)cc1',\n",
       " 'OC[C@@H]1O[C@@H](CC(=O)N2CCCCC2)C[C@@H]3[C@H]1Oc4ccc(NC(=O)NC5CCCC5)cc34',\n",
       " 'O[C@H]1CN[C@H]2CC[C@@H](CC(=O)NCc3ccc4OCOc4c3)O[C@@H]2COC1',\n",
       " 'COCC(=O)Nc1ccc2c(OC[C@@H](C)N(C[C@@H](C)[C@@H](CN(C)C2=O)OC)C(=O)CN2CCOCC2)c1',\n",
       " 'COc1cccc(c1)-c1ccc2N[C@H](CO)[C@H]3CCN([C@H]3c2c1)S(=O)(=O)c1cn(C)cn1',\n",
       " 'COc1cccc(NC(=O)N2CC3(C2)[C@H]([C@H](CO)N3C(C)=O)c2ccccc2)c1',\n",
       " 'CCCNC(=O)Nc1ccc2OC[C@H](C)N(C[C@H](C)[C@@H](CN(C)C(=O)c2c1)OC)C(=O)c1ccccc1F',\n",
       " 'COc1ccc(cc1)C(c2ccc(OC)cc2)C(Cl)(Cl)Cl',\n",
       " 'CN(C)C(=O)c1cccc(c1)-c1ccc2N[C@H](CO)[C@H]3CCN(Cc4nccs4)[C@H]3c2c1',\n",
       " 'COc1cccc(CN2[C@@H](CO)[C@@H](c3ccccc3)C22CN(C2)C(=O)C2CCCCC2)c1',\n",
       " 'C[C@H](CO)N1C[C@H](C)[C@@H](CN(C)Cc2ccc(cc2)c3ccccc3)Oc4ccc(NS(=O)(=O)C)cc4CC1=O',\n",
       " 'OC[C@@H]1[C@H]([C@H]2CN(CC(=O)N12)C(=O)C1CCC1)c1ccc(Br)cc1',\n",
       " 'CC1(C)C(=O)NN=C1c1ccc(cc1)N1CCOCC1',\n",
       " 'OC[C@@H]1[C@H]2Cn3c(cccc3=O)[C@@H]([C@H]1C(=O)N1CCOCC1)N2Cc1cccc(Cl)c1',\n",
       " 'Cc1ccc(OCCn2c(CCNC(=O)C3CCCCCC3)nc3ccccc23)cc1',\n",
       " 'N[C@@H]1CC[C@H](CCn2cc(nn2)-c2ccccn2)O[C@H]1CO',\n",
       " 'COc1ccccc1N1CCN(CCCNc2cc(=O)n(C)c(=O)n2C)CC1',\n",
       " 'CN(C)CC(=O)Nc1ccc2O[C@@H]3[C@@H](C[C@@H](CC(=O)NC4CCCCC4)O[C@H]3CO)c2c1',\n",
       " 'COCC(=O)N1[C@H](CO)[C@H]([C@@H]1C#N)c1ccc(cc1)C#CCC1CCCC1',\n",
       " 'CCCNC(=O)[C@H]1[C@H](CO)[C@H]2Cn3c(ccc(-c4ccccc4F)c3=O)[C@H]2N1CC1CC1',\n",
       " 'OC[C@H]1[C@@H]([C@@H]2CN(CC(=O)N12)C(=O)Nc1ccc(F)cc1)c1ccc(cc1)-c1cccc(F)c1',\n",
       " 'C[C@H](CO)N1C[C@@H](C)[C@H](CN(C)CC2CCCCC2)Oc3ccc(NC(=O)Nc4ccc(F)cc4)cc3CC1=O',\n",
       " 'COCC(=O)Nc1ccc2O[C@@H]3[C@@H](C[C@@H](CC(=O)NCc4cccnc4)O[C@H]3CO)c2c1',\n",
       " 'C[C@@H](CO)N1C[C@H](C)[C@H](CN(C)Cc2ccncc2)Oc3ccc(NC(=O)Cc4cn(C)c5ccccc45)cc3C1=O',\n",
       " 'N[C@H]1C[C@@H]1c1ccccc1',\n",
       " 'COCC(=O)Nc1ccc2O[C@H]3[C@H](C[C@@H](CC(=O)NCc4ccc5OCOc5c4)O[C@H]3CO)c2c1',\n",
       " 'CCC(=O)O[C@@]1([C@@H](C)C[C@H]2[C@@H]3CCC4=CC(=O)C=C[C@]4(C)[C@@]3(F)[C@@H](O)C[C@@]21C)C(=O)CCl',\n",
       " 'C[C@@H](CO)N1C[C@@H](C)[C@H](CN(C)CC2CC2)OCCCC[C@@H](C)Oc3ccc(NC(=O)c4ccccc4)cc3C1=O',\n",
       " 'OC[C@H]1[C@@H]([C@@H]2CN(CC(=O)N12)C(=O)Cc1ccncc1)c1ccc(Br)cc1',\n",
       " 'CC(C)C(=O)SCCCCCCC(=O)Nc1nc(cs1)-c1ccccc1',\n",
       " 'C[C@H](CO)N1C[C@H](C)[C@@H](CN(C)C(=O)Nc2ccc3OCOc3c2)OCc4ccccc4-c5c(C1=O)n(C)c6ccccc56',\n",
       " 'CCS(=O)(=O)N1[C@H](CO)[C@@H]([C@@H]1C#N)c1ccc(cc1)-c1cccc(F)c1',\n",
       " 'COc1cc(CC(C)(N)C(O)=O)ccc1OS(O)(=O)=O',\n",
       " 'OC[C@@H]1O[C@H](CC(=O)N2CCc3ccccc3C2)C[C@H]4[C@@H]1Oc5ccc(NC(=O)C6CCOCC6)cc45',\n",
       " 'COc1cc2nccc(Oc3ccc(NC(=O)Nc4ccc(F)cc4F)c(F)c3)c2cc1OC',\n",
       " 'COc1ccccc1-c1cccc(c1)-c1nc(cc2CN([C@@H](CCO)c12)[S@@](=O)C(C)(C)C)C(=O)N1CCOCC1',\n",
       " 'OC[C@H]1[C@@H]2Cn3c(ccc(-c4ccccc4F)c3=O)[C@H]([C@@H]1C(O)=O)N2C(=O)c1cccnc1',\n",
       " 'CCC(=O)N1CC[C@@H]2[C@H]1c1cc(ccc1N(C)[C@H]2CO)C#Cc1cccc(F)c1',\n",
       " 'C[C@H](Cc1ccccc1)N(C)CC#C',\n",
       " 'OC[C@@H]1[C@@H]([C@H]2CN(CC(=O)N12)C(=O)Nc1ccc(F)cc1)c1ccc(cc1)C1=CCCC1',\n",
       " 'COCC(=O)N1C[C@@H]2[C@@H]([C@@H](CO)N2C(=O)C1)c1ccc(cc1)-c1ccncc1',\n",
       " 'Cc1cc(NC(=O)CS(=O)(=O)c2cn(Cc3cccc(Cl)c3)c3ccccc23)no1',\n",
       " 'C[C@H]1C[C@H]2[C@@H]3CC[C@](OC(=O)C)(C(=O)C)[C@@]3(C)CC[C@@H]2[C@@]4(C)CCC(=O)C=C14',\n",
       " 'CC(C)(C)C(=O)OCOC(=O)[C@@H]1N2[C@@H](SC1(C)C)[C@H](NC(=O)[C@H](N)c1ccccc1)C2=O',\n",
       " 'CO[C@H]1CC[C@@H]2CCOc3c(cccc3C(=O)N(C)CCCC(=O)N(C)C[C@H]1O2)C#N',\n",
       " 'OC[C@H]1[C@H]([C@H](CNC(=O)c2ccccn2)N1Cc1cccnc1)c1ccccc1',\n",
       " 'Oc1ccc(/C=C(\\\\C#N)/C(=O)NC2CCC(CC3CCC(CC3)NC(=O)\\\\C(=C\\\\c4ccc(O)c(O)c4)\\\\C#N)CC2)cc1O',\n",
       " 'COCC(=O)N1C[C@H]2[C@H]([C@H](CO)N2C(=O)C1)c1ccc(cc1)C#CC1CC1',\n",
       " 'C[C@H](CO)N1C[C@@H](C)[C@@H](CN(C)Cc2ccncc2)OCCCC[C@@H](C)Oc3ccc(NC(=O)Nc4ccccc4)cc3C1=O',\n",
       " 'NC(=O)N1C(=O)C2C(C3C(C4CC4)N(Cc5sc6ccccc6c5Cl)C2C=C3c7ccc(CO)cc7)C1=O',\n",
       " 'CCCCCCC(C)(C)c1ccc(C2CC(O)CCC2CCCO)c(O)c1',\n",
       " 'CCCNC(=O)N(C)C[C@@H]1Oc2ncc(Br)cc2C(=O)N(C[C@@H]1C)[C@H](C)CO',\n",
       " 'CO[C@@H]1CN(C)C(=O)c2ccc(NC(C)=O)cc2OC[C@@H](C)N(Cc2ccccc2F)C[C@@H]1C',\n",
       " 'CCS(=O)(=O)N1C[C@@]2(C1)CN([C@@H](CO)c1c2c2ccc(OC)cc2n1C)C(=O)NC(C)C',\n",
       " 'CCCN1C[C@@H](C)[C@H](CN(C)C(=O)c2cc(NC(=O)c3cnccn3)ccc2OC[C@@H]1C)OC',\n",
       " 'C\\\\C=C\\\\c1ccc(cc1)[C@@H]1[C@H](CO)N2[C@@H]1CN(CC2=O)C(=O)Nc1ccc(F)cc1',\n",
       " 'CCCC#Cc1cnc2O[C@H](CN(C)C(=O)CCN3CCCCC3)[C@@H](C)CN([C@H](C)CO)C(=O)c2c1',\n",
       " 'C[C@@H](CO)N1C[C@H](C)[C@H](CN(C)Cc2ccc(cc2)C(F)(F)F)Oc3ccc(NC(=O)Nc4c(C)noc4C)cc3C1=O',\n",
       " 'COc1ccc(cc1)[Si](C)(C)[C@@H]2[C@@H](C)[C@@]3(O[C@H]2CCn4cc(CCO)nn4)C(=O)N(C)c5c3cc(C)cc5Br',\n",
       " 'COCC(=O)Nc1ccc2O[C@@H]3[C@@H](C[C@H](CC(=O)N[C@@H](C)c4ccccc4)O[C@@H]3CO)c2c1',\n",
       " 'NCCc1csc2ccc(O)cc12',\n",
       " 'CCCN1C[C@H](C)[C@H](CN(C)C(=O)c2cc(NC(=O)c3cnccn3)ccc2OC[C@H]1C)OC',\n",
       " 'OC(=O)c1ccccc1Nc1cccc2C(=O)c3c(Nc4ccccc4C(O)=O)cccc3C(=O)c12',\n",
       " 'CO[C@H]1CN(C)C(=O)c2ccc(NC(=O)C3CCCC3)cc2OC[C@@H](C)N(C[C@H]1C)C(=O)CC1CC1',\n",
       " 'OC[C@H]1[C@@H]([C@H]2CN(CC(=O)N12)C(=O)Nc1ccc(F)cc1)c1ccc(cc1)-c1cccc(F)c1',\n",
       " 'C[C@H](CO)N1C[C@@H](C)[C@H](CN(C)S(=O)(=O)c2cccc(C#N)c2)OCc3ccccc3-c4c(C1=O)n(C)c5ccccc45',\n",
       " 'C[C@@H](CO)N1C[C@H](C)[C@@H](CN(C)C(=O)NC2CCCCC2)Oc3ccc(cc3C1=O)N(C)C',\n",
       " 'C[C@H]1[C@H]2[C@@H](CC1=O)C(=C)C[C@@H](OC(=O)/C(=C/CO)/COC(=O)/C(=C/CO)/C)C3[C@@H]2OC(=O)C3=C',\n",
       " 'C[C@H](CO)N1C[C@H](C)[C@H](CN(C)Cc2ccncc2)Oc3ccc(NC(=O)Nc4cccc5ccccc45)cc3C1=O',\n",
       " 'COCC(=O)N1C[C@H](C)[C@H](CN(C)C(=O)c2ccc(NS(C)(=O)=O)cc2OC[C@@H]1C)OC',\n",
       " 'C/C=C/c1ccc2c(O[C@@H](CN(C)CC3CCOCC3)[C@@H](C)CN([C@H](C)CO)S2(=O)=O)c1',\n",
       " 'CC(C)C#Cc1ccc(cc1)[C@H]1[C@@H](CO)N([C@H]1C#N)C(=O)c1cccc(F)c1',\n",
       " 'C[C@H](CO)N1C[C@@H](C)[C@H](CN(C)CC2CCCCC2)OCCCC[C@@H](C)Oc3ccc(NS(=O)(=O)C)cc3C1=O',\n",
       " 'OC[C@@H]1O[C@H](CC(=O)NCc2ccc(Oc3ccccc3)cc2)C[C@@H]4[C@H]1Oc5ccc(NS(=O)(=O)c6ccc(F)cc6)cc45',\n",
       " 'OC[C@@H]1O[C@H](CC(=O)NCCN2CCCC2)CC[C@H]1NC(=O)c1cccc(F)c1',\n",
       " 'CO[C@H](CN(C)S(=O)(=O)c1ccccc1)[C@@H](C)CN(Cc1ccccc1Cl)[C@H](C)CO',\n",
       " 'CCCNC(=O)C[C@H]1C[C@@H]2[C@@H](Oc3ccc(NC(=O)NC4CCCCC4)cc23)[C@@H](CO)O1',\n",
       " 'OC[C@H]1[C@@H]2[C@@H](CN(C(=O)c3ccccc3)c3ccccc23)N1C(=O)Nc1ccccc1Cl',\n",
       " 'CCCCn1c(O)c(N=Nc2ccccc2O)c3ccccc13',\n",
       " 'CO[C@H]1CC[C@@H]2CCOc3ccc(cc3C(=O)N(C)C[C@@H](CC(=O)N(C)C[C@@H]1O2)c1ccccc1)C#N',\n",
       " 'CC(C)C#Cc1ccc(cc1)[C@H]1[C@@H](CO)N2[C@@H]1CN(CC2=O)C(=O)c1ccc2OCOc2c1',\n",
       " 'CCC(=O)N(C)C[C@H]1[C@H]([C@@H](CO)N1C(=O)NC(C)C)c1ccc(cc1)\\\\C=C\\\\C',\n",
       " 'Cc1ccc(cc1)S(=O)(=O)NCC[C@H]1CC[C@@H](NC(=O)CC2CC2)[C@H](CO)O1',\n",
       " 'COC(=O)C[C@@H]1CC[C@@H]2[C@H](COC[C@H](O)CN2S(=O)(=O)c2ccccc2OC)O1',\n",
       " 'C[C@H](CO)N1C[C@@H](C)[C@@H](CN(C)C(=O)Nc2ccc(cc2)C(F)(F)F)Oc3ccc(cc3CC1=O)N(C)C',\n",
       " 'CN(C)C(=O)c1ccc(cc1)-c1ccc(cc1)[C@H]1[C@H]2CN(C[C@@H]1N2)C(=O)C1CCC1',\n",
       " 'CCCNC(=O)N1C[C@@H](O)COC[C@H]2O[C@H](CC(=O)N[C@H]3CCN(Cc4ccccc4)C3)CC[C@H]12',\n",
       " 'CN1Cc2c(ncn2-c2ccsc2C1=O)C(=O)OC(C)(C)C',\n",
       " 'CO[C@H]1CN(C)C(=O)c2cc(NC(=O)c3cccc(F)c3)ccc2OC[C@H](C)N(C)C[C@H]1C',\n",
       " 'OC[C@@H]1O[C@@H](CCNS(=O)(=O)Cc2ccccc2)CC[C@H]1NC(=O)c1cnccn1',\n",
       " 'Cc1ccccc1S(=O)(=O)NCC[C@H]1CC[C@H](NS(=O)(=O)c2ccccc2C)[C@H](CO)O1',\n",
       " 'COc1ccc(cc1)S(=O)(=O)N(C)C[C@@H]2OCc3cn(CCCC(=O)N(C[C@@H]2C)[C@H](C)CO)nn3',\n",
       " 'CC(C)NC(=O)N1CC[C@@H]2[C@H]1c1cc(Br)ccc1N(C)[C@@H]2CO',\n",
       " 'CO[C@@H]1CN(C)C(=O)c2cc(NC(=O)NC3CCCCC3)ccc2OC[C@H](C)N(CCc2ccccc2)C[C@@H]1C',\n",
       " 'CCN(C[C@H]1[C@H]([C@@H](CO)N1C(=O)CC)c1ccccc1)C(=O)c1cccc(F)c1',\n",
       " 'Oc1ccccc1N1CC=C(NC1=O)c1cccc(c1)[N+]([O-])=O',\n",
       " 'COC(=O)C[C@@H]1CC[C@H]2[C@H](COc3ccc(NC(=O)Nc4cc(C)cc(C)c4)cc3C(=O)N2C)O1',\n",
       " 'CN(C)CCCN1c2ccc(O)cc2Sc2ccc(Cl)cc12',\n",
       " 'CN\\\\C(NCCSCc1ccc(CN(C)C)o1)=C/[N+]([O-])=O',\n",
       " 'CC(C)N(C[C@@H]1[C@H]([C@H](CO)N1S(C)(=O)=O)c1ccccc1)C(=O)CN(C)C',\n",
       " 'C[C@@H](CO)N1C[C@H](C)[C@H](CN(C)C(=O)CCN(C)C)OCc2ccccc2-c3c(C1=O)n(C)c4ccccc34',\n",
       " 'CC(=O)N1[C@H](CO)[C@@H](c2ccccc2)C11CN(C1)S(=O)(=O)c1ccccc1',\n",
       " 'CCCCC(=O)O[C@H]1CCC2C3CCc4cc(O)ccc4C3CC[C@]12C',\n",
       " 'OC[C@H]1N[C@H](C#N)[C@@H]1c1ccc(cc1)-c1cccc(F)c1',\n",
       " 'CCOC(=O)C1=C(C)N=c2s\\\\c(=C\\\\c3cc(Cl)c(OCC(O)=O)c(OC)c3)c(=O)n2C1c1ccccc1Cl',\n",
       " 'OC(=O)c1cc(ccc1O)\\\\N=N\\\\c1ccc(cc1)S(=O)(=O)Nc1ccccn1',\n",
       " 'CO[C@H]1CC[C@@H]2CCOc3c(cccc3C(=O)N(C)C[C@@H](C)C(=O)N(C)C[C@@H]1O2)C#N',\n",
       " 'OC[C@H]1O[C@@H](CC(=O)NC2CCCCC2)C[C@H]3[C@@H]1Oc4ccc(NS(=O)(=O)c5ccc(F)cc5)cc34',\n",
       " 'C[C@@H](CO)N1C[C@H](C)[C@H](CN(C)C(=O)[C@@H](Cc2ccccc2)N(C)C)OCc3ccccc3-c4ccccc4C1=O',\n",
       " 'Cl[Pt]Cl',\n",
       " 'C[C@@H](CO)N1C[C@@H](C)[C@@H](CN(C)Cc2ccncc2)OCCCC[C@H](C)Oc3ccc(NC(=O)Nc4ccccc4)cc3C1=O',\n",
       " 'COc1ccc2Nc3cc(Cl)ccc3Sc2c1',\n",
       " 'C[C@H](CO)N1C[C@H](C)[C@@H](CN(C)C(=O)Nc2ccccc2)Oc3c(NC(=O)Nc4ccc(cc4)C(F)(F)F)cccc3C1=O',\n",
       " 'CC(C)c1cc(/C=C(\\\\C#N)/C(=O)NCCCc2ccccc2)cc(C(C)C)c1O',\n",
       " 'CCCNC(=O)Nc1ccc2OC[C@H](C)N(C[C@@H](C)[C@@H](CN(C)C(=O)c2c1)OC)C(=O)c1ccccc1F',\n",
       " ...}"
      ]
     },
     "execution_count": 72,
     "metadata": {},
     "output_type": "execute_result"
    }
   ],
   "source": [
    "a"
   ]
  },
  {
   "cell_type": "code",
   "execution_count": 73,
   "metadata": {},
   "outputs": [],
   "source": [
    "indicesWithOnehot = [i for i in range(metadata.shape[0]) if list_canonSmiles[i] in a]\n"
   ]
  },
  {
   "cell_type": "code",
   "execution_count": 75,
   "metadata": {},
   "outputs": [
    {
     "data": {
      "text/plain": [
       "677163"
      ]
     },
     "execution_count": 75,
     "metadata": {},
     "output_type": "execute_result"
    }
   ],
   "source": [
    "len(indicesWithOnehot)"
   ]
  },
  {
   "cell_type": "code",
   "execution_count": null,
   "metadata": {},
   "outputs": [],
   "source": []
  },
  {
   "cell_type": "code",
   "execution_count": null,
   "metadata": {},
   "outputs": [],
   "source": []
  },
  {
   "cell_type": "code",
   "execution_count": null,
   "metadata": {},
   "outputs": [],
   "source": []
  },
  {
   "cell_type": "code",
   "execution_count": 76,
   "metadata": {},
   "outputs": [
    {
     "data": {
      "text/html": [
       "<div>\n",
       "<style scoped>\n",
       "    .dataframe tbody tr th:only-of-type {\n",
       "        vertical-align: middle;\n",
       "    }\n",
       "\n",
       "    .dataframe tbody tr th {\n",
       "        vertical-align: top;\n",
       "    }\n",
       "\n",
       "    .dataframe thead th {\n",
       "        text-align: right;\n",
       "    }\n",
       "</style>\n",
       "<table border=\"1\" class=\"dataframe\">\n",
       "  <thead>\n",
       "    <tr style=\"text-align: right;\">\n",
       "      <th></th>\n",
       "      <th>Token</th>\n",
       "      <th>Number</th>\n",
       "      <th>Percentage</th>\n",
       "    </tr>\n",
       "  </thead>\n",
       "  <tbody>\n",
       "    <tr>\n",
       "      <th>0</th>\n",
       "      <td>m</td>\n",
       "      <td>6</td>\n",
       "      <td>0.00</td>\n",
       "    </tr>\n",
       "    <tr>\n",
       "      <th>1</th>\n",
       "      <td>h</td>\n",
       "      <td>25</td>\n",
       "      <td>0.00</td>\n",
       "    </tr>\n",
       "    <tr>\n",
       "      <th>2</th>\n",
       "      <td>E</td>\n",
       "      <td>6</td>\n",
       "      <td>0.00</td>\n",
       "    </tr>\n",
       "    <tr>\n",
       "      <th>3</th>\n",
       "      <td>b</td>\n",
       "      <td>643</td>\n",
       "      <td>0.01</td>\n",
       "    </tr>\n",
       "    <tr>\n",
       "      <th>4</th>\n",
       "      <td>D</td>\n",
       "      <td>1</td>\n",
       "      <td>0.00</td>\n",
       "    </tr>\n",
       "    <tr>\n",
       "      <th>5</th>\n",
       "      <td>y</td>\n",
       "      <td>1</td>\n",
       "      <td>0.00</td>\n",
       "    </tr>\n",
       "    <tr>\n",
       "      <th>6</th>\n",
       "      <td>R</td>\n",
       "      <td>143</td>\n",
       "      <td>0.00</td>\n",
       "    </tr>\n",
       "    <tr>\n",
       "      <th>7</th>\n",
       "      <td>%</td>\n",
       "      <td>1398</td>\n",
       "      <td>0.01</td>\n",
       "    </tr>\n",
       "    <tr>\n",
       "      <th>8</th>\n",
       "      <td>Y</td>\n",
       "      <td>12</td>\n",
       "      <td>0.00</td>\n",
       "    </tr>\n",
       "    <tr>\n",
       "      <th>9</th>\n",
       "      <td>T</td>\n",
       "      <td>1136</td>\n",
       "      <td>0.01</td>\n",
       "    </tr>\n",
       "    <tr>\n",
       "      <th>10</th>\n",
       "      <td>Z</td>\n",
       "      <td>60</td>\n",
       "      <td>0.00</td>\n",
       "    </tr>\n",
       "    <tr>\n",
       "      <th>11</th>\n",
       "      <td>0</td>\n",
       "      <td>1398</td>\n",
       "      <td>0.01</td>\n",
       "    </tr>\n",
       "    <tr>\n",
       "      <th>12</th>\n",
       "      <td>W</td>\n",
       "      <td>295</td>\n",
       "      <td>0.00</td>\n",
       "    </tr>\n",
       "    <tr>\n",
       "      <th>13</th>\n",
       "      <td>9</td>\n",
       "      <td>4366</td>\n",
       "      <td>0.04</td>\n",
       "    </tr>\n",
       "    <tr>\n",
       "      <th>14</th>\n",
       "      <td>f</td>\n",
       "      <td>12</td>\n",
       "      <td>0.00</td>\n",
       "    </tr>\n",
       "    <tr>\n",
       "      <th>15</th>\n",
       "      <td>U</td>\n",
       "      <td>12</td>\n",
       "      <td>0.00</td>\n",
       "    </tr>\n",
       "    <tr>\n",
       "      <th>16</th>\n",
       "      <td>p</td>\n",
       "      <td>1295</td>\n",
       "      <td>0.01</td>\n",
       "    </tr>\n",
       "    <tr>\n",
       "      <th>17</th>\n",
       "      <td>X</td>\n",
       "      <td>14</td>\n",
       "      <td>0.00</td>\n",
       "    </tr>\n",
       "    <tr>\n",
       "      <th>18</th>\n",
       "      <td>G</td>\n",
       "      <td>1278</td>\n",
       "      <td>0.01</td>\n",
       "    </tr>\n",
       "    <tr>\n",
       "      <th>19</th>\n",
       "      <td>K</td>\n",
       "      <td>7</td>\n",
       "      <td>0.00</td>\n",
       "    </tr>\n",
       "    <tr>\n",
       "      <th>20</th>\n",
       "      <td>V</td>\n",
       "      <td>75</td>\n",
       "      <td>0.00</td>\n",
       "    </tr>\n",
       "  </tbody>\n",
       "</table>\n",
       "</div>"
      ],
      "text/plain": [
       "   Token  Number  Percentage\n",
       "0      m       6        0.00\n",
       "1      h      25        0.00\n",
       "2      E       6        0.00\n",
       "3      b     643        0.01\n",
       "4      D       1        0.00\n",
       "5      y       1        0.00\n",
       "6      R     143        0.00\n",
       "7      %    1398        0.01\n",
       "8      Y      12        0.00\n",
       "9      T    1136        0.01\n",
       "10     Z      60        0.00\n",
       "11     0    1398        0.01\n",
       "12     W     295        0.00\n",
       "13     9    4366        0.04\n",
       "14     f      12        0.00\n",
       "15     U      12        0.00\n",
       "16     p    1295        0.01\n",
       "17     X      14        0.00\n",
       "18     G    1278        0.01\n",
       "19     K       7        0.00\n",
       "20     V      75        0.00"
      ]
     },
     "execution_count": 76,
     "metadata": {},
     "output_type": "execute_result"
    }
   ],
   "source": [
    "# PubChem alignment to 188 & lincs\n",
    "specialList = list(set(list(set(charset_140_pc) - set(charset_188))) &  set(list(set(charset_140_pc) - set(charset_140_lincs))))\n",
    "smiles_list_trans = []\n",
    "\n",
    "for t in specialList:\n",
    "    a = 0\n",
    "    for i in smiles_pubchem_list:\n",
    "        if (t in i) & (len(i) <= 140):\n",
    "            a += 1\n",
    "    smiles_list_trans.append(a)\n",
    "nPCTo188LINCS = np.sum(smiles_list_trans)\n",
    "pd.DataFrame({'Token': specialList, 'Number': smiles_list_trans, 'Percentage': [round(float(i/len(len_140_pc)) * 100, 2) for i in smiles_list_trans]})"
   ]
  },
  {
   "cell_type": "code",
   "execution_count": 136,
   "metadata": {},
   "outputs": [
    {
     "data": {
      "text/plain": [
       "9942674"
      ]
     },
     "execution_count": 136,
     "metadata": {},
     "output_type": "execute_result"
    }
   ],
   "source": [
    "# remove strings longer than 140 or with unnecessary tokens\n",
    "charset_140_pc_removal = []\n",
    "smiles_pubchem_removal = []\n",
    "len_140_pc_removal = []\n",
    "specialList = list(set(list(set(charset_140_pc) - set(charset_188))) &  set(list(set(charset_140_pc) - set(charset_140_lincs))))\n",
    "\n",
    "\n",
    "for i in smiles_pubchem_list:\n",
    "    if (len(i) <= 140) & (len(list(set(specialList) & set(i))) == 0):\n",
    "        smiles_pubchem_removal.append(i)\n",
    "        for j in i:\n",
    "            if j not in charset_140_pc_removal:\n",
    "                charset_140_pc_removal.append(j)\n",
    "        len_140_pc_removal.append(len(i))\n",
    "len(len_140_pc_removal)"
   ]
  },
  {
   "cell_type": "code",
   "execution_count": 115,
   "metadata": {},
   "outputs": [
    {
     "data": {
      "text/plain": [
       "(41, 9942674)"
      ]
     },
     "execution_count": 115,
     "metadata": {},
     "output_type": "execute_result"
    }
   ],
   "source": [
    "len(charset_140_pc_removal), len(smiles_pubchem_removal)"
   ]
  },
  {
   "cell_type": "markdown",
   "metadata": {},
   "source": [
    "# (1) Onehot Only PubChem"
   ]
  },
  {
   "cell_type": "code",
   "execution_count": 119,
   "metadata": {},
   "outputs": [],
   "source": [
    "np.save('/nfs/turbo/umms-welchjd/hengshi/perturb_gan/data/smiles/onehot/PubChem10M/RemoveUnnecessaryTokens/PubChem_canonized_removal.npy', np.array(smiles_pubchem_removal))"
   ]
  },
  {
   "cell_type": "code",
   "execution_count": 120,
   "metadata": {},
   "outputs": [],
   "source": [
    "np.save('/nfs/turbo/umms-welchjd/hengshi/perturb_gan/data/smiles/onehot/PubChem10M/RemoveUnnecessaryTokens/charset_140_pc_removal.npy', np.array(charset_140_pc_removal))"
   ]
  },
  {
   "cell_type": "code",
   "execution_count": 137,
   "metadata": {},
   "outputs": [],
   "source": [
    "MAX_LEN = 140\n",
    "\n",
    "if ' ' not in charset_list:\n",
    "    charset_140_pc_removal += [' ']\n",
    "\n",
    "# onehot representations\n",
    "CHAR_INDICES = dict((c, i) for i, c in enumerate(charset_140_pc_removal))\n",
    "\n",
    "NCHARS = len(CHAR_INDICES)\n"
   ]
  },
  {
   "cell_type": "code",
   "execution_count": 138,
   "metadata": {},
   "outputs": [
    {
     "data": {
      "text/plain": [
       "['\\\\', '@', '*', '/', '.']"
      ]
     },
     "execution_count": 138,
     "metadata": {},
     "output_type": "execute_result"
    }
   ],
   "source": [
    "specialList = list(set(charset_188) - set(charset_140_pc_removal))\n",
    "list(set(charset_140_lincs) - set(charset_140_pc))\n",
    "specialList"
   ]
  },
  {
   "cell_type": "code",
   "execution_count": 125,
   "metadata": {},
   "outputs": [],
   "source": [
    "def removeTokenFromSMILE(smiles_list, specialList):\n",
    "    # remove non-occuring tokens\n",
    "    for t in specialList:\n",
    "        smiles_list_trans = []\n",
    "        for i in smiles_list:\n",
    "            if t in i:\n",
    "                smile = ''\n",
    "                for j in i: \n",
    "                    if j != t:\n",
    "                        smile += j\n",
    "                smiles_list_trans.append(smile)\n",
    "            else:\n",
    "                smiles_list_trans.append(i)\n",
    "        smiles_list = smiles_list_trans\n",
    "    return smiles_list"
   ]
  },
  {
   "cell_type": "code",
   "execution_count": 126,
   "metadata": {},
   "outputs": [],
   "source": [
    "specialList = list(set(charset_188) - set(charset_140_pc_removal))\n",
    "smiles_188_list_trans = removeTokenFromSMILE(smiles_188_list, specialList)"
   ]
  },
  {
   "cell_type": "code",
   "execution_count": 139,
   "metadata": {},
   "outputs": [],
   "source": [
    "X188 = mu.smiles_to_hot(smiles_188_list_trans, MAX_LEN, params['PADDING'], CHAR_INDICES, NCHARS)"
   ]
  },
  {
   "cell_type": "code",
   "execution_count": 141,
   "metadata": {},
   "outputs": [],
   "source": [
    "path_save = '/nfs/turbo/umms-welchjd/hengshi/perturb_gan/data/smiles/onehot/PubChem10M/RemoveUnnecessaryTokens/OnehotOnlyPubChem'\n",
    "np.save(os.path.join(path_save, \"OnehotData_188.npy\"), X188)"
   ]
  },
  {
   "cell_type": "code",
   "execution_count": 142,
   "metadata": {},
   "outputs": [
    {
     "data": {
      "text/plain": [
       "20329"
      ]
     },
     "execution_count": 142,
     "metadata": {},
     "output_type": "execute_result"
    }
   ],
   "source": [
    "len(smiles_lincs_list)"
   ]
  },
  {
   "cell_type": "code",
   "execution_count": 149,
   "metadata": {},
   "outputs": [],
   "source": [
    "smiles_lincs_140_list = []\n",
    "for i in range(len(smiles_lincs_list)):\n",
    "    smile = smiles_lincs_list[i]\n",
    "    if (len(smile) <= 140):\n",
    "        smiles_lincs_140_list.append(smile)"
   ]
  },
  {
   "cell_type": "code",
   "execution_count": 150,
   "metadata": {},
   "outputs": [
    {
     "data": {
      "text/plain": [
       "(20113, 140, 42)"
      ]
     },
     "execution_count": 150,
     "metadata": {},
     "output_type": "execute_result"
    }
   ],
   "source": [
    "specialList = list(set(charset_140_lincs) - set(charset_140_pc_removal))\n",
    "smiles_lincs_list_trans = removeTokenFromSMILE(smiles_lincs_140_list, specialList)\n",
    "\n",
    "XLINCS = mu.smiles_to_hot(smiles_lincs_list_trans, MAX_LEN, params['PADDING'], CHAR_INDICES, NCHARS)\n",
    "XLINCS.shape"
   ]
  },
  {
   "cell_type": "code",
   "execution_count": 151,
   "metadata": {},
   "outputs": [],
   "source": [
    "np.save(os.path.join(path_save, \"OnehotData_LINCS.npy\"), XLINCS)"
   ]
  },
  {
   "cell_type": "code",
   "execution_count": 8,
   "metadata": {},
   "outputs": [],
   "source": [
    "# resume back\n",
    "import h5py\n",
    "smiles_pubchem_removal = np.load('/nfs/turbo/umms-welchjd/hengshi/perturb_gan/data/smiles/onehot/PubChem10M/RemoveUnnecessaryTokens/PubChem_canonized_removal.npy')\n",
    "charset_140_pc_removal = np.load('/nfs/turbo/umms-welchjd/hengshi/perturb_gan/data/smiles/onehot/PubChem10M/RemoveUnnecessaryTokens/charset_140_pc_removal.npy')\n",
    "charset_140_pc_removal = [i for i in charset_140_pc_removal]\n",
    "\n",
    "MAX_LEN = 140\n",
    "\n",
    "if ' ' not in  charset_140_pc_removal:\n",
    "    charset_140_pc_removal += [' ']\n",
    "\n",
    "# onehot representations\n",
    "CHAR_INDICES = dict((c, i) for i, c in enumerate(charset_140_pc_removal))\n",
    "\n",
    "NCHARS = len(CHAR_INDICES)"
   ]
  },
  {
   "cell_type": "code",
   "execution_count": 9,
   "metadata": {},
   "outputs": [
    {
     "data": {
      "text/plain": [
       "9942674"
      ]
     },
     "execution_count": 9,
     "metadata": {},
     "output_type": "execute_result"
    }
   ],
   "source": [
    "len(smiles_pubchem_removal)"
   ]
  },
  {
   "cell_type": "code",
   "execution_count": 10,
   "metadata": {},
   "outputs": [
    {
     "name": "stdout",
     "output_type": "stream",
     "text": [
      "Processing: i=[0:100000]\n",
      "Processing: i=[100000:200000]\n",
      "Processing: i=[200000:300000]\n",
      "Processing: i=[300000:400000]\n",
      "Processing: i=[400000:500000]\n",
      "Processing: i=[500000:600000]\n",
      "Processing: i=[600000:700000]\n",
      "Processing: i=[700000:800000]\n",
      "Processing: i=[800000:900000]\n",
      "Processing: i=[900000:1000000]\n",
      "Processing: i=[1000000:1100000]\n",
      "Processing: i=[1100000:1200000]\n",
      "Processing: i=[1200000:1300000]\n",
      "Processing: i=[1300000:1400000]\n",
      "Processing: i=[1400000:1500000]\n",
      "Processing: i=[1500000:1600000]\n",
      "Processing: i=[1600000:1700000]\n",
      "Processing: i=[1700000:1800000]\n",
      "Processing: i=[1800000:1900000]\n",
      "Processing: i=[1900000:2000000]\n"
     ]
    }
   ],
   "source": [
    "nport = 2000000 \n",
    "n = 100000\n",
    "OH1 = np.zeros((nport, MAX_LEN, NCHARS))\n",
    "for i in range(0, nport, n):\n",
    "    print('Processing: i=[' + str(i) + ':' + str(i+n) + ']')\n",
    "    onehot = mu.smiles_to_hot(smiles_pubchem_removal[i:(i+n)], MAX_LEN, params['PADDING'], CHAR_INDICES, NCHARS)\n",
    "    OH1[i:i+n,:,:] = onehot"
   ]
  },
  {
   "cell_type": "code",
   "execution_count": 11,
   "metadata": {},
   "outputs": [],
   "source": [
    "path_save = '/nfs/turbo/umms-welchjd/hengshi/perturb_gan/data/smiles/onehot/PubChem10M/RemoveUnnecessaryTokens/OnehotOnlyPubChem'\n",
    "h5f = h5py.File(os.path.join(path_save, 'OnehotData_1.h5'),'w')\n",
    "h5f.create_dataset('data', data = OH1)\n",
    "h5f.close()"
   ]
  },
  {
   "cell_type": "code",
   "execution_count": 12,
   "metadata": {},
   "outputs": [
    {
     "data": {
      "text/plain": [
       "(2000000, 140, 42)"
      ]
     },
     "execution_count": 12,
     "metadata": {},
     "output_type": "execute_result"
    }
   ],
   "source": [
    "OH1.shape"
   ]
  },
  {
   "cell_type": "code",
   "execution_count": 11,
   "metadata": {},
   "outputs": [
    {
     "name": "stdout",
     "output_type": "stream",
     "text": [
      "Processing: i=[2000000:2100000]\n",
      "Processing: i=[2100000:2200000]\n",
      "Processing: i=[2200000:2300000]\n",
      "Processing: i=[2300000:2400000]\n",
      "Processing: i=[2400000:2500000]\n",
      "Processing: i=[2500000:2600000]\n",
      "Processing: i=[2600000:2700000]\n",
      "Processing: i=[2700000:2800000]\n",
      "Processing: i=[2800000:2900000]\n",
      "Processing: i=[2900000:3000000]\n",
      "Processing: i=[3000000:3100000]\n",
      "Processing: i=[3100000:3200000]\n",
      "Processing: i=[3200000:3300000]\n",
      "Processing: i=[3300000:3400000]\n",
      "Processing: i=[3400000:3500000]\n",
      "Processing: i=[3500000:3600000]\n",
      "Processing: i=[3600000:3700000]\n",
      "Processing: i=[3700000:3800000]\n",
      "Processing: i=[3800000:3900000]\n",
      "Processing: i=[3900000:4000000]\n"
     ]
    }
   ],
   "source": [
    "nport = 2000000 \n",
    "n = 100000\n",
    "\n",
    "OH1 = np.zeros((nport,MAX_LEN,NCHARS))\n",
    "for i in range(0, nport, n):\n",
    "    print('Processing: i=[' + str(i + nport) + ':' + str(i+ nport+n) + ']')\n",
    "    onehot = mu.smiles_to_hot(smiles_pubchem_removal[(i + nport):(i+nport + n)], MAX_LEN, 'right', CHAR_INDICES, NCHARS)\n",
    "    OH1[i:(i+n),:,:] = onehot"
   ]
  },
  {
   "cell_type": "code",
   "execution_count": 12,
   "metadata": {},
   "outputs": [],
   "source": [
    "path_save = '/nfs/turbo/umms-welchjd/hengshi/perturb_gan/data/smiles/onehot/PubChem10M/RemoveUnnecessaryTokens/OnehotOnlyPubChem'\n",
    "h5f = h5py.File(os.path.join(path_save, 'OnehotData_2.h5'),'w')\n",
    "h5f.create_dataset('data', data = OH1)\n",
    "h5f.close()"
   ]
  },
  {
   "cell_type": "code",
   "execution_count": 13,
   "metadata": {},
   "outputs": [
    {
     "data": {
      "text/plain": [
       "(2000000, 140, 42)"
      ]
     },
     "execution_count": 13,
     "metadata": {},
     "output_type": "execute_result"
    }
   ],
   "source": [
    "OH1.shape"
   ]
  },
  {
   "cell_type": "code",
   "execution_count": 10,
   "metadata": {},
   "outputs": [
    {
     "name": "stdout",
     "output_type": "stream",
     "text": [
      "Processing: i=[4000000:4100000]\n",
      "Processing: i=[4100000:4200000]\n",
      "Processing: i=[4200000:4300000]\n",
      "Processing: i=[4300000:4400000]\n",
      "Processing: i=[4400000:4500000]\n",
      "Processing: i=[4500000:4600000]\n",
      "Processing: i=[4600000:4700000]\n",
      "Processing: i=[4700000:4800000]\n",
      "Processing: i=[4800000:4900000]\n",
      "Processing: i=[4900000:5000000]\n",
      "Processing: i=[5000000:5100000]\n",
      "Processing: i=[5100000:5200000]\n",
      "Processing: i=[5200000:5300000]\n",
      "Processing: i=[5300000:5400000]\n",
      "Processing: i=[5400000:5500000]\n",
      "Processing: i=[5500000:5600000]\n",
      "Processing: i=[5600000:5700000]\n",
      "Processing: i=[5700000:5800000]\n",
      "Processing: i=[5800000:5900000]\n",
      "Processing: i=[5900000:6000000]\n"
     ]
    }
   ],
   "source": [
    "nport = 2000000 \n",
    "n = 100000\n",
    "\n",
    "OH1 = np.zeros((nport,MAX_LEN,NCHARS))\n",
    "for i in range(0, nport, n):\n",
    "    print('Processing: i=[' + str(i + nport * 2) + ':' + str(i+ nport * 2+n) + ']')\n",
    "    onehot = mu.smiles_to_hot(smiles_pubchem_removal[(i + nport * 2):(i+nport * 2 + n)], MAX_LEN, 'right', CHAR_INDICES, NCHARS)\n",
    "    OH1[i:(i+n),:,:] = onehot"
   ]
  },
  {
   "cell_type": "code",
   "execution_count": 11,
   "metadata": {},
   "outputs": [
    {
     "data": {
      "text/plain": [
       "(2000000, 140, 42)"
      ]
     },
     "execution_count": 11,
     "metadata": {},
     "output_type": "execute_result"
    }
   ],
   "source": [
    "OH1.shape"
   ]
  },
  {
   "cell_type": "code",
   "execution_count": 12,
   "metadata": {},
   "outputs": [],
   "source": [
    "path_save = '/nfs/turbo/umms-welchjd/hengshi/perturb_gan/data/smiles/onehot/PubChem10M/RemoveUnnecessaryTokens/OnehotOnlyPubChem'\n",
    "h5f = h5py.File(os.path.join(path_save, 'OnehotData_3.h5'),'w')\n",
    "h5f.create_dataset('data', data = OH1)\n",
    "h5f.close()"
   ]
  },
  {
   "cell_type": "code",
   "execution_count": 10,
   "metadata": {},
   "outputs": [
    {
     "name": "stdout",
     "output_type": "stream",
     "text": [
      "Processing: i=[6000000:6100000]\n",
      "Processing: i=[6100000:6200000]\n",
      "Processing: i=[6200000:6300000]\n",
      "Processing: i=[6300000:6400000]\n",
      "Processing: i=[6400000:6500000]\n",
      "Processing: i=[6500000:6600000]\n",
      "Processing: i=[6600000:6700000]\n",
      "Processing: i=[6700000:6800000]\n",
      "Processing: i=[6800000:6900000]\n",
      "Processing: i=[6900000:7000000]\n",
      "Processing: i=[7000000:7100000]\n",
      "Processing: i=[7100000:7200000]\n",
      "Processing: i=[7200000:7300000]\n",
      "Processing: i=[7300000:7400000]\n",
      "Processing: i=[7400000:7500000]\n",
      "Processing: i=[7500000:7600000]\n",
      "Processing: i=[7600000:7700000]\n",
      "Processing: i=[7700000:7800000]\n",
      "Processing: i=[7800000:7900000]\n",
      "Processing: i=[7900000:8000000]\n"
     ]
    }
   ],
   "source": [
    "nport = 2000000 \n",
    "n = 100000\n",
    "MAX_LEN = 140\n",
    "NCHARS = len(CHAR_INDICES)\n",
    "OH1 = np.zeros((nport,MAX_LEN,NCHARS))\n",
    "for i in range(0, nport, n):\n",
    "    print('Processing: i=[' + str(i + nport * 3) + ':' + str(i+ nport * 3+n) + ']')\n",
    "    onehot = mu.smiles_to_hot(smiles_pubchem_removal[(i + nport * 3):(i+nport * 3 + n)], MAX_LEN, 'right', CHAR_INDICES, NCHARS)\n",
    "    OH1[i:(i+n),:,:] = onehot"
   ]
  },
  {
   "cell_type": "code",
   "execution_count": 11,
   "metadata": {},
   "outputs": [],
   "source": [
    "path_save = '/nfs/turbo/umms-welchjd/hengshi/perturb_gan/data/smiles/onehot/PubChem10M/RemoveUnnecessaryTokens/OnehotOnlyPubChem'\n",
    "h5f = h5py.File(os.path.join(path_save, 'OnehotData_4.h5'),'w')\n",
    "h5f.create_dataset('data', data = OH1)\n",
    "h5f.close()"
   ]
  },
  {
   "cell_type": "code",
   "execution_count": 11,
   "metadata": {},
   "outputs": [],
   "source": [
    "nport = 2000000 \n",
    "nport = 2000000 \n",
    "n_last = len(smiles_pubchem_removal) - nport * 4"
   ]
  },
  {
   "cell_type": "code",
   "execution_count": 12,
   "metadata": {},
   "outputs": [
    {
     "name": "stdout",
     "output_type": "stream",
     "text": [
      "Processing: i=[8000000:8100000]\n",
      "Processing: i=[8100000:8200000]\n",
      "Processing: i=[8200000:8300000]\n",
      "Processing: i=[8300000:8400000]\n",
      "Processing: i=[8400000:8500000]\n",
      "Processing: i=[8500000:8600000]\n",
      "Processing: i=[8600000:8700000]\n",
      "Processing: i=[8700000:8800000]\n",
      "Processing: i=[8800000:8900000]\n",
      "Processing: i=[8900000:9000000]\n",
      "Processing: i=[9000000:9100000]\n",
      "Processing: i=[9100000:9200000]\n",
      "Processing: i=[9200000:9300000]\n",
      "Processing: i=[9300000:9400000]\n",
      "Processing: i=[9400000:9500000]\n",
      "Processing: i=[9500000:9600000]\n",
      "Processing: i=[9600000:9700000]\n",
      "Processing: i=[9700000:9800000]\n",
      "Processing: i=[9800000:9900000]\n",
      "Processing: i=[9900000:9942674]\n"
     ]
    }
   ],
   "source": [
    "\n",
    "n = 100000\n",
    "OH1 = np.zeros((n_last, MAX_LEN, NCHARS))\n",
    "for i in range(0, n_last, n):\n",
    "    n_use = min(len(smiles_pubchem_removal), i + nport * 4 + n)\n",
    "    print('Processing: i=[' + str(i + nport * 4) + ':' + str(n_use) + ']')\n",
    "    onehot = mu.smiles_to_hot(smiles_pubchem_removal[(i + nport * 4):(n_use)], MAX_LEN, 'right', CHAR_INDICES, NCHARS)\n",
    "    OH1[i:(n_use - nport * 4),:,:] = onehot"
   ]
  },
  {
   "cell_type": "code",
   "execution_count": 13,
   "metadata": {},
   "outputs": [
    {
     "data": {
      "text/plain": [
       "(1942674, 140, 42)"
      ]
     },
     "execution_count": 13,
     "metadata": {},
     "output_type": "execute_result"
    }
   ],
   "source": [
    "OH1.shape"
   ]
  },
  {
   "cell_type": "code",
   "execution_count": 13,
   "metadata": {},
   "outputs": [],
   "source": [
    "path_save = '/scratch/welchjd_root/welchjd/hengshi/GAN/perturb_gan/data/smiles/onehot/PubChem10M/RemoveUnnecessaryTokens/OnehotOnlyPubChem'\n",
    "h5f = h5py.File(os.path.join(path_save, 'OnehotData_5.h5'),'w')\n",
    "h5f.create_dataset('data', data = OH1)\n",
    "h5f.close()"
   ]
  },
  {
   "cell_type": "code",
   "execution_count": 1,
   "metadata": {},
   "outputs": [],
   "source": [
    "import torch"
   ]
  },
  {
   "cell_type": "code",
   "execution_count": 2,
   "metadata": {},
   "outputs": [],
   "source": [
    "a = torch.rand((10, 140, 42))"
   ]
  },
  {
   "cell_type": "code",
   "execution_count": 4,
   "metadata": {},
   "outputs": [
    {
     "data": {
      "text/plain": [
       "torch.Size([10, 140, 42])"
      ]
     },
     "execution_count": 4,
     "metadata": {},
     "output_type": "execute_result"
    }
   ],
   "source": [
    "a.size()"
   ]
  },
  {
   "cell_type": "code",
   "execution_count": 5,
   "metadata": {},
   "outputs": [],
   "source": [
    "import torch.nn as nn\n",
    "n_conv = int(8 * 1.15875438383); k_conv = int(8 * 1.1758149644)\n",
    "n_conv2 = int(8 * 1.15875438383 ** 2); k_conv2 = int(8 * 1.1758149644 ** 2); prob_drop = 0.082832929704794792, \n",
    "max_len = 140\n",
    "\n",
    "conv_1 = nn.Conv1d(in_channels = max_len, \n",
    "                        out_channels = n_conv, \n",
    "                        kernel_size = k_conv)\n",
    "\n",
    "conv_2 = nn.Conv1d(in_channels = n_conv, \n",
    "                        out_channels = n_conv, \n",
    "                        kernel_size = k_conv) \n",
    "\n",
    "conv_3 = nn.Conv1d(in_channels = n_conv, \n",
    "                        out_channels = n_conv2, \n",
    "                        kernel_size = k_conv2) "
   ]
  },
  {
   "cell_type": "code",
   "execution_count": 8,
   "metadata": {},
   "outputs": [],
   "source": [
    "x = a\n",
    "x = conv_1(x)\n",
    "\n",
    "\n",
    "x = conv_2(x)\n",
    "\n",
    "\n",
    "x = conv_3(x)\n"
   ]
  },
  {
   "cell_type": "code",
   "execution_count": 10,
   "metadata": {},
   "outputs": [
    {
     "data": {
      "text/plain": [
       "torch.Size([10, 160])"
      ]
     },
     "execution_count": 10,
     "metadata": {},
     "output_type": "execute_result"
    }
   ],
   "source": [
    "x = x.view(x.size(0), -1)\n",
    "x.size()"
   ]
  },
  {
   "cell_type": "code",
   "execution_count": 11,
   "metadata": {},
   "outputs": [],
   "source": [
    "import h5py\n",
    "import os\n",
    "i = 1\n",
    "path_onehot = '/nfs/turbo/umms-welchjd/hengshi/perturb_gan/data/smiles/onehot/PubChem10M/RemoveUnnecessaryTokens/OnehotOnlyPubChem'\n",
    "h5f = h5py.File(os.path.join(path_onehot, 'OnehotData_' + str(i) + '.h5'), 'r')"
   ]
  },
  {
   "cell_type": "code",
   "execution_count": 16,
   "metadata": {},
   "outputs": [
    {
     "data": {
      "text/plain": [
       "(2000000, 140, 42)"
      ]
     },
     "execution_count": 16,
     "metadata": {},
     "output_type": "execute_result"
    }
   ],
   "source": [
    "h5f['data'].shape"
   ]
  },
  {
   "cell_type": "code",
   "execution_count": 17,
   "metadata": {},
   "outputs": [
    {
     "data": {
      "text/plain": [
       "2000000"
      ]
     },
     "execution_count": 17,
     "metadata": {},
     "output_type": "execute_result"
    }
   ],
   "source": [
    "len(h5f['data'])"
   ]
  },
  {
   "cell_type": "code",
   "execution_count": 18,
   "metadata": {},
   "outputs": [],
   "source": [
    "class PubChemDataset(torch.utils.data.Dataset):\n",
    "    def __init__(self, h5f):\n",
    "        self.h5f = h5f\n",
    "         \n",
    "    def __len__(self):\n",
    "        return (len(self.h5f['data']))\n",
    "    \n",
    "    def __getitem__(self, i):\n",
    "        data = self.h5f['data'][i:(i + 1)]\n",
    "        return data"
   ]
  },
  {
   "cell_type": "code",
   "execution_count": 22,
   "metadata": {},
   "outputs": [],
   "source": [
    "train_data = PubChemDataset(h5f)\n",
    "train_loader = torch.utils.data.DataLoader(train_data, \n",
    "                                           batch_size = 128, \n",
    "                                           shuffle = True, \n",
    "                                           num_workers=4)"
   ]
  },
  {
   "cell_type": "code",
   "execution_count": 23,
   "metadata": {},
   "outputs": [
    {
     "name": "stdout",
     "output_type": "stream",
     "text": [
      "0\n",
      "1\n",
      "2\n",
      "3\n",
      "4\n",
      "5\n",
      "6\n",
      "7\n",
      "8\n",
      "9\n",
      "10\n",
      "11\n"
     ]
    },
    {
     "ename": "KeyboardInterrupt",
     "evalue": "",
     "output_type": "error",
     "traceback": [
      "\u001b[0;31m---------------------------------------------------------------------------\u001b[0m",
      "\u001b[0;31mKeyboardInterrupt\u001b[0m                         Traceback (most recent call last)",
      "\u001b[0;32m<ipython-input-23-812427561843>\u001b[0m in \u001b[0;36m<module>\u001b[0;34m\u001b[0m\n\u001b[0;32m----> 1\u001b[0;31m \u001b[0;32mfor\u001b[0m \u001b[0mbatch_idx\u001b[0m\u001b[0;34m,\u001b[0m \u001b[0mdata\u001b[0m \u001b[0;32min\u001b[0m \u001b[0menumerate\u001b[0m\u001b[0;34m(\u001b[0m\u001b[0mtrain_loader\u001b[0m\u001b[0;34m)\u001b[0m\u001b[0;34m:\u001b[0m\u001b[0;34m\u001b[0m\u001b[0;34m\u001b[0m\u001b[0m\n\u001b[0m\u001b[1;32m      2\u001b[0m     \u001b[0mprint\u001b[0m\u001b[0;34m(\u001b[0m\u001b[0mbatch_idx\u001b[0m\u001b[0;34m)\u001b[0m\u001b[0;34m\u001b[0m\u001b[0;34m\u001b[0m\u001b[0m\n",
      "\u001b[0;32m~/.local/lib/python3.6/site-packages/torch/utils/data/dataloader.py\u001b[0m in \u001b[0;36m__next__\u001b[0;34m(self)\u001b[0m\n\u001b[1;32m    433\u001b[0m         \u001b[0;32mif\u001b[0m \u001b[0mself\u001b[0m\u001b[0;34m.\u001b[0m\u001b[0m_sampler_iter\u001b[0m \u001b[0;32mis\u001b[0m \u001b[0;32mNone\u001b[0m\u001b[0;34m:\u001b[0m\u001b[0;34m\u001b[0m\u001b[0;34m\u001b[0m\u001b[0m\n\u001b[1;32m    434\u001b[0m             \u001b[0mself\u001b[0m\u001b[0;34m.\u001b[0m\u001b[0m_reset\u001b[0m\u001b[0;34m(\u001b[0m\u001b[0;34m)\u001b[0m\u001b[0;34m\u001b[0m\u001b[0;34m\u001b[0m\u001b[0m\n\u001b[0;32m--> 435\u001b[0;31m         \u001b[0mdata\u001b[0m \u001b[0;34m=\u001b[0m \u001b[0mself\u001b[0m\u001b[0;34m.\u001b[0m\u001b[0m_next_data\u001b[0m\u001b[0;34m(\u001b[0m\u001b[0;34m)\u001b[0m\u001b[0;34m\u001b[0m\u001b[0;34m\u001b[0m\u001b[0m\n\u001b[0m\u001b[1;32m    436\u001b[0m         \u001b[0mself\u001b[0m\u001b[0;34m.\u001b[0m\u001b[0m_num_yielded\u001b[0m \u001b[0;34m+=\u001b[0m \u001b[0;36m1\u001b[0m\u001b[0;34m\u001b[0m\u001b[0;34m\u001b[0m\u001b[0m\n\u001b[1;32m    437\u001b[0m         \u001b[0;32mif\u001b[0m \u001b[0mself\u001b[0m\u001b[0;34m.\u001b[0m\u001b[0m_dataset_kind\u001b[0m \u001b[0;34m==\u001b[0m \u001b[0m_DatasetKind\u001b[0m\u001b[0;34m.\u001b[0m\u001b[0mIterable\u001b[0m \u001b[0;32mand\u001b[0m\u001b[0;31m \u001b[0m\u001b[0;31m\\\u001b[0m\u001b[0;34m\u001b[0m\u001b[0;34m\u001b[0m\u001b[0m\n",
      "\u001b[0;32m~/.local/lib/python3.6/site-packages/torch/utils/data/dataloader.py\u001b[0m in \u001b[0;36m_next_data\u001b[0;34m(self)\u001b[0m\n\u001b[1;32m   1066\u001b[0m \u001b[0;34m\u001b[0m\u001b[0m\n\u001b[1;32m   1067\u001b[0m             \u001b[0;32massert\u001b[0m \u001b[0;32mnot\u001b[0m \u001b[0mself\u001b[0m\u001b[0;34m.\u001b[0m\u001b[0m_shutdown\u001b[0m \u001b[0;32mand\u001b[0m \u001b[0mself\u001b[0m\u001b[0;34m.\u001b[0m\u001b[0m_tasks_outstanding\u001b[0m \u001b[0;34m>\u001b[0m \u001b[0;36m0\u001b[0m\u001b[0;34m\u001b[0m\u001b[0;34m\u001b[0m\u001b[0m\n\u001b[0;32m-> 1068\u001b[0;31m             \u001b[0midx\u001b[0m\u001b[0;34m,\u001b[0m \u001b[0mdata\u001b[0m \u001b[0;34m=\u001b[0m \u001b[0mself\u001b[0m\u001b[0;34m.\u001b[0m\u001b[0m_get_data\u001b[0m\u001b[0;34m(\u001b[0m\u001b[0;34m)\u001b[0m\u001b[0;34m\u001b[0m\u001b[0;34m\u001b[0m\u001b[0m\n\u001b[0m\u001b[1;32m   1069\u001b[0m             \u001b[0mself\u001b[0m\u001b[0;34m.\u001b[0m\u001b[0m_tasks_outstanding\u001b[0m \u001b[0;34m-=\u001b[0m \u001b[0;36m1\u001b[0m\u001b[0;34m\u001b[0m\u001b[0;34m\u001b[0m\u001b[0m\n\u001b[1;32m   1070\u001b[0m             \u001b[0;32mif\u001b[0m \u001b[0mself\u001b[0m\u001b[0;34m.\u001b[0m\u001b[0m_dataset_kind\u001b[0m \u001b[0;34m==\u001b[0m \u001b[0m_DatasetKind\u001b[0m\u001b[0;34m.\u001b[0m\u001b[0mIterable\u001b[0m\u001b[0;34m:\u001b[0m\u001b[0;34m\u001b[0m\u001b[0;34m\u001b[0m\u001b[0m\n",
      "\u001b[0;32m~/.local/lib/python3.6/site-packages/torch/utils/data/dataloader.py\u001b[0m in \u001b[0;36m_get_data\u001b[0;34m(self)\u001b[0m\n\u001b[1;32m   1032\u001b[0m         \u001b[0;32melse\u001b[0m\u001b[0;34m:\u001b[0m\u001b[0;34m\u001b[0m\u001b[0;34m\u001b[0m\u001b[0m\n\u001b[1;32m   1033\u001b[0m             \u001b[0;32mwhile\u001b[0m \u001b[0;32mTrue\u001b[0m\u001b[0;34m:\u001b[0m\u001b[0;34m\u001b[0m\u001b[0;34m\u001b[0m\u001b[0m\n\u001b[0;32m-> 1034\u001b[0;31m                 \u001b[0msuccess\u001b[0m\u001b[0;34m,\u001b[0m \u001b[0mdata\u001b[0m \u001b[0;34m=\u001b[0m \u001b[0mself\u001b[0m\u001b[0;34m.\u001b[0m\u001b[0m_try_get_data\u001b[0m\u001b[0;34m(\u001b[0m\u001b[0;34m)\u001b[0m\u001b[0;34m\u001b[0m\u001b[0;34m\u001b[0m\u001b[0m\n\u001b[0m\u001b[1;32m   1035\u001b[0m                 \u001b[0;32mif\u001b[0m \u001b[0msuccess\u001b[0m\u001b[0;34m:\u001b[0m\u001b[0;34m\u001b[0m\u001b[0;34m\u001b[0m\u001b[0m\n\u001b[1;32m   1036\u001b[0m                     \u001b[0;32mreturn\u001b[0m \u001b[0mdata\u001b[0m\u001b[0;34m\u001b[0m\u001b[0;34m\u001b[0m\u001b[0m\n",
      "\u001b[0;32m~/.local/lib/python3.6/site-packages/torch/utils/data/dataloader.py\u001b[0m in \u001b[0;36m_try_get_data\u001b[0;34m(self, timeout)\u001b[0m\n\u001b[1;32m    870\u001b[0m         \u001b[0;31m#   (bool: whether successfully get data, any: data if successful else None)\u001b[0m\u001b[0;34m\u001b[0m\u001b[0;34m\u001b[0m\u001b[0;34m\u001b[0m\u001b[0m\n\u001b[1;32m    871\u001b[0m         \u001b[0;32mtry\u001b[0m\u001b[0;34m:\u001b[0m\u001b[0;34m\u001b[0m\u001b[0;34m\u001b[0m\u001b[0m\n\u001b[0;32m--> 872\u001b[0;31m             \u001b[0mdata\u001b[0m \u001b[0;34m=\u001b[0m \u001b[0mself\u001b[0m\u001b[0;34m.\u001b[0m\u001b[0m_data_queue\u001b[0m\u001b[0;34m.\u001b[0m\u001b[0mget\u001b[0m\u001b[0;34m(\u001b[0m\u001b[0mtimeout\u001b[0m\u001b[0;34m=\u001b[0m\u001b[0mtimeout\u001b[0m\u001b[0;34m)\u001b[0m\u001b[0;34m\u001b[0m\u001b[0;34m\u001b[0m\u001b[0m\n\u001b[0m\u001b[1;32m    873\u001b[0m             \u001b[0;32mreturn\u001b[0m \u001b[0;34m(\u001b[0m\u001b[0;32mTrue\u001b[0m\u001b[0;34m,\u001b[0m \u001b[0mdata\u001b[0m\u001b[0;34m)\u001b[0m\u001b[0;34m\u001b[0m\u001b[0;34m\u001b[0m\u001b[0m\n\u001b[1;32m    874\u001b[0m         \u001b[0;32mexcept\u001b[0m \u001b[0mException\u001b[0m \u001b[0;32mas\u001b[0m \u001b[0me\u001b[0m\u001b[0;34m:\u001b[0m\u001b[0;34m\u001b[0m\u001b[0;34m\u001b[0m\u001b[0m\n",
      "\u001b[0;32m~/.conda/envs/chemvaeLower/lib/python3.6/multiprocessing/queues.py\u001b[0m in \u001b[0;36mget\u001b[0;34m(self, block, timeout)\u001b[0m\n\u001b[1;32m    102\u001b[0m                 \u001b[0;32mif\u001b[0m \u001b[0mblock\u001b[0m\u001b[0;34m:\u001b[0m\u001b[0;34m\u001b[0m\u001b[0;34m\u001b[0m\u001b[0m\n\u001b[1;32m    103\u001b[0m                     \u001b[0mtimeout\u001b[0m \u001b[0;34m=\u001b[0m \u001b[0mdeadline\u001b[0m \u001b[0;34m-\u001b[0m \u001b[0mtime\u001b[0m\u001b[0;34m.\u001b[0m\u001b[0mmonotonic\u001b[0m\u001b[0;34m(\u001b[0m\u001b[0;34m)\u001b[0m\u001b[0;34m\u001b[0m\u001b[0;34m\u001b[0m\u001b[0m\n\u001b[0;32m--> 104\u001b[0;31m                     \u001b[0;32mif\u001b[0m \u001b[0;32mnot\u001b[0m \u001b[0mself\u001b[0m\u001b[0;34m.\u001b[0m\u001b[0m_poll\u001b[0m\u001b[0;34m(\u001b[0m\u001b[0mtimeout\u001b[0m\u001b[0;34m)\u001b[0m\u001b[0;34m:\u001b[0m\u001b[0;34m\u001b[0m\u001b[0;34m\u001b[0m\u001b[0m\n\u001b[0m\u001b[1;32m    105\u001b[0m                         \u001b[0;32mraise\u001b[0m \u001b[0mEmpty\u001b[0m\u001b[0;34m\u001b[0m\u001b[0;34m\u001b[0m\u001b[0m\n\u001b[1;32m    106\u001b[0m                 \u001b[0;32melif\u001b[0m \u001b[0;32mnot\u001b[0m \u001b[0mself\u001b[0m\u001b[0;34m.\u001b[0m\u001b[0m_poll\u001b[0m\u001b[0;34m(\u001b[0m\u001b[0;34m)\u001b[0m\u001b[0;34m:\u001b[0m\u001b[0;34m\u001b[0m\u001b[0;34m\u001b[0m\u001b[0m\n",
      "\u001b[0;32m~/.conda/envs/chemvaeLower/lib/python3.6/multiprocessing/connection.py\u001b[0m in \u001b[0;36mpoll\u001b[0;34m(self, timeout)\u001b[0m\n\u001b[1;32m    255\u001b[0m         \u001b[0mself\u001b[0m\u001b[0;34m.\u001b[0m\u001b[0m_check_closed\u001b[0m\u001b[0;34m(\u001b[0m\u001b[0;34m)\u001b[0m\u001b[0;34m\u001b[0m\u001b[0;34m\u001b[0m\u001b[0m\n\u001b[1;32m    256\u001b[0m         \u001b[0mself\u001b[0m\u001b[0;34m.\u001b[0m\u001b[0m_check_readable\u001b[0m\u001b[0;34m(\u001b[0m\u001b[0;34m)\u001b[0m\u001b[0;34m\u001b[0m\u001b[0;34m\u001b[0m\u001b[0m\n\u001b[0;32m--> 257\u001b[0;31m         \u001b[0;32mreturn\u001b[0m \u001b[0mself\u001b[0m\u001b[0;34m.\u001b[0m\u001b[0m_poll\u001b[0m\u001b[0;34m(\u001b[0m\u001b[0mtimeout\u001b[0m\u001b[0;34m)\u001b[0m\u001b[0;34m\u001b[0m\u001b[0;34m\u001b[0m\u001b[0m\n\u001b[0m\u001b[1;32m    258\u001b[0m \u001b[0;34m\u001b[0m\u001b[0m\n\u001b[1;32m    259\u001b[0m     \u001b[0;32mdef\u001b[0m \u001b[0m__enter__\u001b[0m\u001b[0;34m(\u001b[0m\u001b[0mself\u001b[0m\u001b[0;34m)\u001b[0m\u001b[0;34m:\u001b[0m\u001b[0;34m\u001b[0m\u001b[0;34m\u001b[0m\u001b[0m\n",
      "\u001b[0;32m~/.conda/envs/chemvaeLower/lib/python3.6/multiprocessing/connection.py\u001b[0m in \u001b[0;36m_poll\u001b[0;34m(self, timeout)\u001b[0m\n\u001b[1;32m    412\u001b[0m \u001b[0;34m\u001b[0m\u001b[0m\n\u001b[1;32m    413\u001b[0m     \u001b[0;32mdef\u001b[0m \u001b[0m_poll\u001b[0m\u001b[0;34m(\u001b[0m\u001b[0mself\u001b[0m\u001b[0;34m,\u001b[0m \u001b[0mtimeout\u001b[0m\u001b[0;34m)\u001b[0m\u001b[0;34m:\u001b[0m\u001b[0;34m\u001b[0m\u001b[0;34m\u001b[0m\u001b[0m\n\u001b[0;32m--> 414\u001b[0;31m         \u001b[0mr\u001b[0m \u001b[0;34m=\u001b[0m \u001b[0mwait\u001b[0m\u001b[0;34m(\u001b[0m\u001b[0;34m[\u001b[0m\u001b[0mself\u001b[0m\u001b[0;34m]\u001b[0m\u001b[0;34m,\u001b[0m \u001b[0mtimeout\u001b[0m\u001b[0;34m)\u001b[0m\u001b[0;34m\u001b[0m\u001b[0;34m\u001b[0m\u001b[0m\n\u001b[0m\u001b[1;32m    415\u001b[0m         \u001b[0;32mreturn\u001b[0m \u001b[0mbool\u001b[0m\u001b[0;34m(\u001b[0m\u001b[0mr\u001b[0m\u001b[0;34m)\u001b[0m\u001b[0;34m\u001b[0m\u001b[0;34m\u001b[0m\u001b[0m\n\u001b[1;32m    416\u001b[0m \u001b[0;34m\u001b[0m\u001b[0m\n",
      "\u001b[0;32m~/.conda/envs/chemvaeLower/lib/python3.6/multiprocessing/connection.py\u001b[0m in \u001b[0;36mwait\u001b[0;34m(object_list, timeout)\u001b[0m\n\u001b[1;32m    909\u001b[0m \u001b[0;34m\u001b[0m\u001b[0m\n\u001b[1;32m    910\u001b[0m             \u001b[0;32mwhile\u001b[0m \u001b[0;32mTrue\u001b[0m\u001b[0;34m:\u001b[0m\u001b[0;34m\u001b[0m\u001b[0;34m\u001b[0m\u001b[0m\n\u001b[0;32m--> 911\u001b[0;31m                 \u001b[0mready\u001b[0m \u001b[0;34m=\u001b[0m \u001b[0mselector\u001b[0m\u001b[0;34m.\u001b[0m\u001b[0mselect\u001b[0m\u001b[0;34m(\u001b[0m\u001b[0mtimeout\u001b[0m\u001b[0;34m)\u001b[0m\u001b[0;34m\u001b[0m\u001b[0;34m\u001b[0m\u001b[0m\n\u001b[0m\u001b[1;32m    912\u001b[0m                 \u001b[0;32mif\u001b[0m \u001b[0mready\u001b[0m\u001b[0;34m:\u001b[0m\u001b[0;34m\u001b[0m\u001b[0;34m\u001b[0m\u001b[0m\n\u001b[1;32m    913\u001b[0m                     \u001b[0;32mreturn\u001b[0m \u001b[0;34m[\u001b[0m\u001b[0mkey\u001b[0m\u001b[0;34m.\u001b[0m\u001b[0mfileobj\u001b[0m \u001b[0;32mfor\u001b[0m \u001b[0;34m(\u001b[0m\u001b[0mkey\u001b[0m\u001b[0;34m,\u001b[0m \u001b[0mevents\u001b[0m\u001b[0;34m)\u001b[0m \u001b[0;32min\u001b[0m \u001b[0mready\u001b[0m\u001b[0;34m]\u001b[0m\u001b[0;34m\u001b[0m\u001b[0;34m\u001b[0m\u001b[0m\n",
      "\u001b[0;32m~/.conda/envs/chemvaeLower/lib/python3.6/selectors.py\u001b[0m in \u001b[0;36mselect\u001b[0;34m(self, timeout)\u001b[0m\n\u001b[1;32m    374\u001b[0m             \u001b[0mready\u001b[0m \u001b[0;34m=\u001b[0m \u001b[0;34m[\u001b[0m\u001b[0;34m]\u001b[0m\u001b[0;34m\u001b[0m\u001b[0;34m\u001b[0m\u001b[0m\n\u001b[1;32m    375\u001b[0m             \u001b[0;32mtry\u001b[0m\u001b[0;34m:\u001b[0m\u001b[0;34m\u001b[0m\u001b[0;34m\u001b[0m\u001b[0m\n\u001b[0;32m--> 376\u001b[0;31m                 \u001b[0mfd_event_list\u001b[0m \u001b[0;34m=\u001b[0m \u001b[0mself\u001b[0m\u001b[0;34m.\u001b[0m\u001b[0m_poll\u001b[0m\u001b[0;34m.\u001b[0m\u001b[0mpoll\u001b[0m\u001b[0;34m(\u001b[0m\u001b[0mtimeout\u001b[0m\u001b[0;34m)\u001b[0m\u001b[0;34m\u001b[0m\u001b[0;34m\u001b[0m\u001b[0m\n\u001b[0m\u001b[1;32m    377\u001b[0m             \u001b[0;32mexcept\u001b[0m \u001b[0mInterruptedError\u001b[0m\u001b[0;34m:\u001b[0m\u001b[0;34m\u001b[0m\u001b[0;34m\u001b[0m\u001b[0m\n\u001b[1;32m    378\u001b[0m                 \u001b[0;32mreturn\u001b[0m \u001b[0mready\u001b[0m\u001b[0;34m\u001b[0m\u001b[0;34m\u001b[0m\u001b[0m\n",
      "\u001b[0;31mKeyboardInterrupt\u001b[0m: "
     ]
    }
   ],
   "source": [
    "for batch_idx, data in enumerate(train_loader):\n",
    "    print(batch_idx)"
   ]
  },
  {
   "cell_type": "code",
   "execution_count": 29,
   "metadata": {},
   "outputs": [
    {
     "data": {
      "text/plain": [
       "torch.Size([128, 140, 42])"
      ]
     },
     "execution_count": 29,
     "metadata": {},
     "output_type": "execute_result"
    }
   ],
   "source": [
    "data[:, 0, :, :].shape"
   ]
  },
  {
   "cell_type": "markdown",
   "metadata": {},
   "source": [
    "# (2) Onehot Combine Sets"
   ]
  },
  {
   "cell_type": "code",
   "execution_count": 40,
   "metadata": {},
   "outputs": [
    {
     "data": {
      "text/html": [
       "<div>\n",
       "<style scoped>\n",
       "    .dataframe tbody tr th:only-of-type {\n",
       "        vertical-align: middle;\n",
       "    }\n",
       "\n",
       "    .dataframe tbody tr th {\n",
       "        vertical-align: top;\n",
       "    }\n",
       "\n",
       "    .dataframe thead th {\n",
       "        text-align: right;\n",
       "    }\n",
       "</style>\n",
       "<table border=\"1\" class=\"dataframe\">\n",
       "  <thead>\n",
       "    <tr style=\"text-align: right;\">\n",
       "      <th></th>\n",
       "      <th>Token</th>\n",
       "      <th>Number</th>\n",
       "      <th>Percentage</th>\n",
       "    </tr>\n",
       "  </thead>\n",
       "  <tbody>\n",
       "    <tr>\n",
       "      <th>0</th>\n",
       "      <td>0</td>\n",
       "      <td>1398</td>\n",
       "      <td>0.01</td>\n",
       "    </tr>\n",
       "    <tr>\n",
       "      <th>1</th>\n",
       "      <td>y</td>\n",
       "      <td>1</td>\n",
       "      <td>0.00</td>\n",
       "    </tr>\n",
       "    <tr>\n",
       "      <th>2</th>\n",
       "      <td>9</td>\n",
       "      <td>4366</td>\n",
       "      <td>0.04</td>\n",
       "    </tr>\n",
       "    <tr>\n",
       "      <th>3</th>\n",
       "      <td>U</td>\n",
       "      <td>12</td>\n",
       "      <td>0.00</td>\n",
       "    </tr>\n",
       "    <tr>\n",
       "      <th>4</th>\n",
       "      <td>Y</td>\n",
       "      <td>12</td>\n",
       "      <td>0.00</td>\n",
       "    </tr>\n",
       "    <tr>\n",
       "      <th>5</th>\n",
       "      <td>T</td>\n",
       "      <td>1136</td>\n",
       "      <td>0.01</td>\n",
       "    </tr>\n",
       "    <tr>\n",
       "      <th>6</th>\n",
       "      <td>Z</td>\n",
       "      <td>60</td>\n",
       "      <td>0.00</td>\n",
       "    </tr>\n",
       "    <tr>\n",
       "      <th>7</th>\n",
       "      <td>V</td>\n",
       "      <td>75</td>\n",
       "      <td>0.00</td>\n",
       "    </tr>\n",
       "    <tr>\n",
       "      <th>8</th>\n",
       "      <td>G</td>\n",
       "      <td>1278</td>\n",
       "      <td>0.01</td>\n",
       "    </tr>\n",
       "    <tr>\n",
       "      <th>9</th>\n",
       "      <td>K</td>\n",
       "      <td>7</td>\n",
       "      <td>0.00</td>\n",
       "    </tr>\n",
       "    <tr>\n",
       "      <th>10</th>\n",
       "      <td>E</td>\n",
       "      <td>6</td>\n",
       "      <td>0.00</td>\n",
       "    </tr>\n",
       "    <tr>\n",
       "      <th>11</th>\n",
       "      <td>b</td>\n",
       "      <td>643</td>\n",
       "      <td>0.01</td>\n",
       "    </tr>\n",
       "    <tr>\n",
       "      <th>12</th>\n",
       "      <td>X</td>\n",
       "      <td>14</td>\n",
       "      <td>0.00</td>\n",
       "    </tr>\n",
       "    <tr>\n",
       "      <th>13</th>\n",
       "      <td>p</td>\n",
       "      <td>1295</td>\n",
       "      <td>0.01</td>\n",
       "    </tr>\n",
       "    <tr>\n",
       "      <th>14</th>\n",
       "      <td>m</td>\n",
       "      <td>6</td>\n",
       "      <td>0.00</td>\n",
       "    </tr>\n",
       "    <tr>\n",
       "      <th>15</th>\n",
       "      <td>D</td>\n",
       "      <td>1</td>\n",
       "      <td>0.00</td>\n",
       "    </tr>\n",
       "    <tr>\n",
       "      <th>16</th>\n",
       "      <td>R</td>\n",
       "      <td>143</td>\n",
       "      <td>0.00</td>\n",
       "    </tr>\n",
       "    <tr>\n",
       "      <th>17</th>\n",
       "      <td>%</td>\n",
       "      <td>1398</td>\n",
       "      <td>0.01</td>\n",
       "    </tr>\n",
       "    <tr>\n",
       "      <th>18</th>\n",
       "      <td>W</td>\n",
       "      <td>295</td>\n",
       "      <td>0.00</td>\n",
       "    </tr>\n",
       "    <tr>\n",
       "      <th>19</th>\n",
       "      <td>f</td>\n",
       "      <td>12</td>\n",
       "      <td>0.00</td>\n",
       "    </tr>\n",
       "    <tr>\n",
       "      <th>20</th>\n",
       "      <td>h</td>\n",
       "      <td>25</td>\n",
       "      <td>0.00</td>\n",
       "    </tr>\n",
       "  </tbody>\n",
       "</table>\n",
       "</div>"
      ],
      "text/plain": [
       "   Token  Number  Percentage\n",
       "0      0    1398        0.01\n",
       "1      y       1        0.00\n",
       "2      9    4366        0.04\n",
       "3      U      12        0.00\n",
       "4      Y      12        0.00\n",
       "5      T    1136        0.01\n",
       "6      Z      60        0.00\n",
       "7      V      75        0.00\n",
       "8      G    1278        0.01\n",
       "9      K       7        0.00\n",
       "10     E       6        0.00\n",
       "11     b     643        0.01\n",
       "12     X      14        0.00\n",
       "13     p    1295        0.01\n",
       "14     m       6        0.00\n",
       "15     D       1        0.00\n",
       "16     R     143        0.00\n",
       "17     %    1398        0.01\n",
       "18     W     295        0.00\n",
       "19     f      12        0.00\n",
       "20     h      25        0.00"
      ]
     },
     "execution_count": 40,
     "metadata": {},
     "output_type": "execute_result"
    }
   ],
   "source": [
    "# PubChem alignment to 188 & lincs\n",
    "specialList = list(set(list(set(charset_140_pc) - set(charset_188))) &  set(list(set(charset_140_pc) - set(charset_140_lincs))))\n",
    "smiles_list_trans = []\n",
    "\n",
    "for t in specialList:\n",
    "    a = 0\n",
    "    for i in smiles_pubchem_list:\n",
    "        if (t in i) & (len(i) <= 140):\n",
    "            a += 1\n",
    "    smiles_list_trans.append(a)\n",
    "nPCTo188LINCS = np.sum(smiles_list_trans)\n",
    "pd.DataFrame({'Token': specialList, 'Number': smiles_list_trans, 'Percentage': [round(float(i/len(len_140_pc)) * 100, 2) for i in smiles_list_trans]})"
   ]
  },
  {
   "cell_type": "code",
   "execution_count": 41,
   "metadata": {},
   "outputs": [
    {
     "data": {
      "text/plain": [
       "9942674"
      ]
     },
     "execution_count": 41,
     "metadata": {},
     "output_type": "execute_result"
    }
   ],
   "source": [
    "# remove strings longer than 140 or with unnecessary tokens\n",
    "charset_140_pc_removal = []\n",
    "smiles_pubchem_removal = []\n",
    "len_140_pc_removal = []\n",
    "specialList = list(set(list(set(charset_140_pc) - set(charset_188))) &  set(list(set(charset_140_pc) - set(charset_140_lincs))))\n",
    "\n",
    "\n",
    "for i in smiles_pubchem_list:\n",
    "    if (len(i) <= 140) & (len(list(set(specialList) & set(i))) == 0):\n",
    "        smiles_pubchem_removal.append(i)\n",
    "        for j in i:\n",
    "            if j not in charset_140_pc_removal:\n",
    "                charset_140_pc_removal.append(j)\n",
    "        len_140_pc_removal.append(len(i))\n",
    "len(len_140_pc_removal)"
   ]
  },
  {
   "cell_type": "code",
   "execution_count": 68,
   "metadata": {},
   "outputs": [
    {
     "data": {
      "text/plain": [
       "9942674"
      ]
     },
     "execution_count": 68,
     "metadata": {},
     "output_type": "execute_result"
    }
   ],
   "source": [
    "len(smiles_pubchem_removal)"
   ]
  },
  {
   "cell_type": "code",
   "execution_count": 42,
   "metadata": {},
   "outputs": [
    {
     "data": {
      "text/html": [
       "<div>\n",
       "<style scoped>\n",
       "    .dataframe tbody tr th:only-of-type {\n",
       "        vertical-align: middle;\n",
       "    }\n",
       "\n",
       "    .dataframe tbody tr th {\n",
       "        vertical-align: top;\n",
       "    }\n",
       "\n",
       "    .dataframe thead th {\n",
       "        text-align: right;\n",
       "    }\n",
       "</style>\n",
       "<table border=\"1\" class=\"dataframe\">\n",
       "  <thead>\n",
       "    <tr style=\"text-align: right;\">\n",
       "      <th></th>\n",
       "      <th>Token</th>\n",
       "      <th>Number</th>\n",
       "      <th>Percentage</th>\n",
       "    </tr>\n",
       "  </thead>\n",
       "  <tbody>\n",
       "    <tr>\n",
       "      <th>0</th>\n",
       "      <td>*</td>\n",
       "      <td>1</td>\n",
       "      <td>0.53</td>\n",
       "    </tr>\n",
       "    <tr>\n",
       "      <th>1</th>\n",
       "      <td>\\</td>\n",
       "      <td>10</td>\n",
       "      <td>5.32</td>\n",
       "    </tr>\n",
       "    <tr>\n",
       "      <th>2</th>\n",
       "      <td>.</td>\n",
       "      <td>29</td>\n",
       "      <td>15.43</td>\n",
       "    </tr>\n",
       "    <tr>\n",
       "      <th>3</th>\n",
       "      <td>@</td>\n",
       "      <td>23</td>\n",
       "      <td>12.23</td>\n",
       "    </tr>\n",
       "    <tr>\n",
       "      <th>4</th>\n",
       "      <td>/</td>\n",
       "      <td>32</td>\n",
       "      <td>17.02</td>\n",
       "    </tr>\n",
       "  </tbody>\n",
       "</table>\n",
       "</div>"
      ],
      "text/plain": [
       "  Token  Number  Percentage\n",
       "0     *       1        0.53\n",
       "1     \\      10        5.32\n",
       "2     .      29       15.43\n",
       "3     @      23       12.23\n",
       "4     /      32       17.02"
      ]
     },
     "execution_count": 42,
     "metadata": {},
     "output_type": "execute_result"
    }
   ],
   "source": [
    "# 188 alignment to PubChem\n",
    "specialList = list(set(charset_188) - set(charset_140_pc_removal))\n",
    "smiles_list_trans = []\n",
    "\n",
    "for t in specialList:\n",
    "    a = 0\n",
    "    for i in smiles_188_list:\n",
    "        if (t in i) & (len(i) <= 140):\n",
    "            a += 1\n",
    "    smiles_list_trans.append(a)\n",
    "n188ToPC = np.sum(smiles_list_trans)\n",
    "pd.DataFrame({'Token': specialList, 'Number': smiles_list_trans, 'Percentage': [round(float(i/188) * 100, 2) for i in smiles_list_trans]})"
   ]
  },
  {
   "cell_type": "code",
   "execution_count": 44,
   "metadata": {},
   "outputs": [
    {
     "data": {
      "text/html": [
       "<div>\n",
       "<style scoped>\n",
       "    .dataframe tbody tr th:only-of-type {\n",
       "        vertical-align: middle;\n",
       "    }\n",
       "\n",
       "    .dataframe tbody tr th {\n",
       "        vertical-align: top;\n",
       "    }\n",
       "\n",
       "    .dataframe thead th {\n",
       "        text-align: right;\n",
       "    }\n",
       "</style>\n",
       "<table border=\"1\" class=\"dataframe\">\n",
       "  <thead>\n",
       "    <tr style=\"text-align: right;\">\n",
       "      <th></th>\n",
       "      <th>Token</th>\n",
       "      <th>Number</th>\n",
       "      <th>Percentage</th>\n",
       "    </tr>\n",
       "  </thead>\n",
       "  <tbody>\n",
       "    <tr>\n",
       "      <th>0</th>\n",
       "      <td>.</td>\n",
       "      <td>40</td>\n",
       "      <td>0.20</td>\n",
       "    </tr>\n",
       "    <tr>\n",
       "      <th>1</th>\n",
       "      <td>\\</td>\n",
       "      <td>224</td>\n",
       "      <td>1.11</td>\n",
       "    </tr>\n",
       "    <tr>\n",
       "      <th>2</th>\n",
       "      <td>/</td>\n",
       "      <td>1088</td>\n",
       "      <td>5.41</td>\n",
       "    </tr>\n",
       "    <tr>\n",
       "      <th>3</th>\n",
       "      <td>@</td>\n",
       "      <td>15661</td>\n",
       "      <td>77.87</td>\n",
       "    </tr>\n",
       "  </tbody>\n",
       "</table>\n",
       "</div>"
      ],
      "text/plain": [
       "  Token  Number  Percentage\n",
       "0     .      40        0.20\n",
       "1     \\     224        1.11\n",
       "2     /    1088        5.41\n",
       "3     @   15661       77.87"
      ]
     },
     "execution_count": 44,
     "metadata": {},
     "output_type": "execute_result"
    }
   ],
   "source": [
    "# lincs alignment to PubChem\n",
    "specialList = list(set(charset_140_lincs) - set(charset_140_pc_removal))\n",
    "smiles_list_trans = []\n",
    "for t in specialList:\n",
    "    a = 0\n",
    "    for i in smiles_lincs_list:\n",
    "        if (t in i) & (len(i) <= 140):\n",
    "            a += 1\n",
    "    smiles_list_trans.append(a)\n",
    "nLINCSToPC = np.sum(smiles_list_trans)\n",
    "pd.DataFrame({'Token': specialList, 'Number': smiles_list_trans, 'Percentage': [round(float(i/len(len_140_lincs)) * 100, 2) for i in smiles_list_trans]})"
   ]
  },
  {
   "cell_type": "code",
   "execution_count": 46,
   "metadata": {},
   "outputs": [
    {
     "data": {
      "text/plain": [
       "41"
      ]
     },
     "execution_count": 46,
     "metadata": {},
     "output_type": "execute_result"
    }
   ],
   "source": [
    "len(charset_140_pc_removal)"
   ]
  },
  {
   "cell_type": "code",
   "execution_count": 47,
   "metadata": {},
   "outputs": [
    {
     "data": {
      "text/plain": [
       "['.', '\\\\', '/', '@']"
      ]
     },
     "execution_count": 47,
     "metadata": {},
     "output_type": "execute_result"
    }
   ],
   "source": [
    "specialList = list(set(list(set(charset_140_lincs) - set(charset_140_pc_removal))) & set(list(set(charset_188) - set(charset_140_pc_removal))))\n",
    "specialList"
   ]
  },
  {
   "cell_type": "code",
   "execution_count": 48,
   "metadata": {},
   "outputs": [],
   "source": [
    "charset_140_pc_removal += specialList\n",
    "if ' ' not in charset_140_pc_removal:\n",
    "    charset_140_pc_removal += [' ']\n"
   ]
  },
  {
   "cell_type": "code",
   "execution_count": 50,
   "metadata": {},
   "outputs": [
    {
     "data": {
      "text/plain": [
       "46"
      ]
     },
     "execution_count": 50,
     "metadata": {},
     "output_type": "execute_result"
    }
   ],
   "source": [
    "len(charset_140_pc_removal)"
   ]
  },
  {
   "cell_type": "code",
   "execution_count": 51,
   "metadata": {},
   "outputs": [],
   "source": [
    "\n",
    "MAX_LEN = 140\n",
    "\n",
    "# onehot representations\n",
    "CHAR_INDICES = dict((c, i) for i, c in enumerate(charset_140_pc_removal))\n",
    "\n",
    "NCHARS = len(CHAR_INDICES)"
   ]
  },
  {
   "cell_type": "code",
   "execution_count": 52,
   "metadata": {},
   "outputs": [],
   "source": [
    "def removeTokenFromSMILE(smiles_list, specialList):\n",
    "    # remove non-occuring tokens\n",
    "    for t in specialList:\n",
    "        smiles_list_trans = []\n",
    "        for i in smiles_list:\n",
    "            if t in i:\n",
    "                smile = ''\n",
    "                for j in i: \n",
    "                    if j != t:\n",
    "                        smile += j\n",
    "                smiles_list_trans.append(smile)\n",
    "            else:\n",
    "                smiles_list_trans.append(i)\n",
    "        smiles_list = smiles_list_trans\n",
    "    return smiles_list\n",
    "\n",
    "specialList = ['*']\n",
    "smiles_188_list_trans = removeTokenFromSMILE(smiles_188_list, specialList)\n",
    "\n",
    "X188 = mu.smiles_to_hot(smiles_188_list_trans, MAX_LEN, params['PADDING'], CHAR_INDICES, NCHARS)\n",
    "\n",
    "path_save = '/nfs/turbo/umms-welchjd/hengshi/perturb_gan/data/smiles/onehot/PubChem10M/RemoveUnnecessaryTokens/OnehotCombineSets/'\n",
    "np.save(os.path.join(path_save, \"OnehotData_188.npy\"), X188)"
   ]
  },
  {
   "cell_type": "code",
   "execution_count": 53,
   "metadata": {},
   "outputs": [
    {
     "data": {
      "text/plain": [
       "(188, 140, 46)"
      ]
     },
     "execution_count": 53,
     "metadata": {},
     "output_type": "execute_result"
    }
   ],
   "source": [
    "X188.shape"
   ]
  },
  {
   "cell_type": "code",
   "execution_count": 54,
   "metadata": {},
   "outputs": [
    {
     "data": {
      "text/plain": [
       "(20113, 140, 46)"
      ]
     },
     "execution_count": 54,
     "metadata": {},
     "output_type": "execute_result"
    }
   ],
   "source": [
    "smiles_lincs_140_list = []\n",
    "for i in range(len(smiles_lincs_list)):\n",
    "    smile = smiles_lincs_list[i]\n",
    "    if (len(smile) <= 140):\n",
    "        smiles_lincs_140_list.append(smile)\n",
    "\n",
    "\n",
    "\n",
    "\n",
    "XLINCS = mu.smiles_to_hot(smiles_lincs_140_list, MAX_LEN, params['PADDING'], CHAR_INDICES, NCHARS)\n",
    "XLINCS.shape"
   ]
  },
  {
   "cell_type": "code",
   "execution_count": 55,
   "metadata": {},
   "outputs": [],
   "source": [
    "np.save(os.path.join(path_save, \"OnehotData_LINCS.npy\"), XLINCS)"
   ]
  },
  {
   "cell_type": "code",
   "execution_count": 59,
   "metadata": {},
   "outputs": [
    {
     "data": {
      "text/plain": [
       "20330"
      ]
     },
     "execution_count": 59,
     "metadata": {},
     "output_type": "execute_result"
    }
   ],
   "source": [
    "smiles_lincs_orList = list(lincs_data.iloc[:, 1])\n",
    "len(smiles_lincs_orList)"
   ]
  },
  {
   "cell_type": "code",
   "execution_count": 60,
   "metadata": {},
   "outputs": [],
   "source": [
    "smiles_lincs_orList = np.array(smiles_lincs_orList)[np.where(np.array(smiles_lincs_orList) != 'restricted')[0]]"
   ]
  },
  {
   "cell_type": "code",
   "execution_count": 62,
   "metadata": {},
   "outputs": [],
   "source": [
    "smiles_lincs_orList_140 = []\n",
    "for i in range(len(smiles_lincs_orList)):\n",
    "    smile = smiles_lincs_list[i]\n",
    "    if (len(smile) <= 140):\n",
    "        smiles_lincs_orList_140.append(smiles_lincs_orList[i])"
   ]
  },
  {
   "cell_type": "code",
   "execution_count": 64,
   "metadata": {},
   "outputs": [
    {
     "data": {
      "text/plain": [
       "20113"
      ]
     },
     "execution_count": 64,
     "metadata": {},
     "output_type": "execute_result"
    }
   ],
   "source": [
    "len(smiles_lincs_orList_140)"
   ]
  },
  {
   "cell_type": "code",
   "execution_count": 65,
   "metadata": {},
   "outputs": [],
   "source": [
    "np.save(os.path.join(path_save, \"OnehotData_LINCS_Smiles.npy\"), np.array(smiles_lincs_orList_140))"
   ]
  },
  {
   "cell_type": "code",
   "execution_count": 69,
   "metadata": {},
   "outputs": [],
   "source": [
    "np.save(os.path.join(path_save, \"charset_140_pc_removal_combine4Set.npy\"), np.array(charset_140_pc_removal))"
   ]
  },
  {
   "cell_type": "code",
   "execution_count": 70,
   "metadata": {},
   "outputs": [
    {
     "data": {
      "text/plain": [
       "46"
      ]
     },
     "execution_count": 70,
     "metadata": {},
     "output_type": "execute_result"
    }
   ],
   "source": [
    "len(charset_140_pc_removal)"
   ]
  },
  {
   "cell_type": "code",
   "execution_count": 71,
   "metadata": {},
   "outputs": [],
   "source": [
    "charset_140_pc_removal = np.load('/nfs/turbo/umms-welchjd/hengshi/perturb_gan/data/smiles/onehot/PubChem10M/RemoveUnnecessaryTokens/charset_140_pc_removal.npy')\n",
    "charset_140_pc_removal = [i for i in charset_140_pc_removal]\n"
   ]
  },
  {
   "cell_type": "code",
   "execution_count": 74,
   "metadata": {},
   "outputs": [],
   "source": [
    "# resume back\n",
    "path_save = '/nfs/turbo/umms-welchjd/hengshi/perturb_gan/data/smiles/onehot/PubChem10M/RemoveUnnecessaryTokens/OnehotCombineSets/'\n",
    "smiles_pubchem_removal = np.load('/nfs/turbo/umms-welchjd/hengshi/perturb_gan/data/smiles/onehot/PubChem10M/RemoveUnnecessaryTokens/PubChem_canonized_removal.npy')\n",
    "charset_140_pc_removal = np.load(os.path.join(path_save, \"charset_140_pc_removal_combine4Set.npy\"))\n",
    "charset_140_pc_removal = [i for i in charset_140_pc_removal]\n",
    "\n",
    "MAX_LEN = 140\n",
    "\n",
    "\n",
    "# onehot representations\n",
    "CHAR_INDICES = dict((c, i) for i, c in enumerate(charset_140_pc_removal))\n",
    "\n",
    "NCHARS = len(CHAR_INDICES)"
   ]
  },
  {
   "cell_type": "code",
   "execution_count": 85,
   "metadata": {},
   "outputs": [],
   "source": [
    "seed = 123; n = 188\n",
    "random_state = np.random.RandomState(seed = seed)\n",
    "permutation = random_state.permutation(n)\n",
    "n_train = int(n * 0.8)\n",
    "n_test = n - n_train\n",
    "indices_test, indices_train = permutation[:n_test], permutation[n_test:]\n"
   ]
  },
  {
   "cell_type": "code",
   "execution_count": 86,
   "metadata": {},
   "outputs": [
    {
     "data": {
      "text/plain": [
       "array([169,  42,  93,  10,  52,  82, 100,  72,  88, 167,   8,  71,  77,\n",
       "        62,  79, 173, 157, 168,  36,  20, 160,  28,  13, 155,  24,  90,\n",
       "       144, 119, 150, 172,  60,   7,  30, 166, 120,  29,  35,   0, 112,\n",
       "        45, 128,  40,  59, 140,  46,   5,  16, 158,  65,  74,  61, 183,\n",
       "        38,  27,  54, 180, 137, 170, 133,  87,   9,   6, 149, 116, 108,\n",
       "       110, 184, 132,  89,  21,  11,  67,   3,  86, 154,  91, 125,  48,\n",
       "       156, 117,  44,  51,   1,  81,  18,  12, 165,  56, 159,  50,  25,\n",
       "       101,  43, 129, 103,  14, 134, 115, 187,  70,  15,  22, 138,  58,\n",
       "        75,  64,  69, 181, 131,  76,  34,  94, 118,  97, 102,  92, 124,\n",
       "        99, 105, 135, 175, 162, 185,  39,  84,   2,  55,  49,  68, 178,\n",
       "       164,  78, 182, 153, 111,  32,  73,  47, 186, 113,  96,  57, 123,\n",
       "       106,  83,  17,  98,  66, 126, 109])"
      ]
     },
     "execution_count": 86,
     "metadata": {},
     "output_type": "execute_result"
    }
   ],
   "source": [
    "indices_train"
   ]
  },
  {
   "cell_type": "code",
   "execution_count": 87,
   "metadata": {},
   "outputs": [],
   "source": [
    "import h5py\n",
    "h5f = h5py.File(os.path.join(path_save, 'OnehotData_188_train.h5'),'w')\n",
    "h5f.create_dataset('data', data = X188[indices_train])\n",
    "h5f.create_dataset('indice', data = indices_train)\n",
    "h5f.close()"
   ]
  },
  {
   "cell_type": "code",
   "execution_count": 88,
   "metadata": {},
   "outputs": [],
   "source": [
    "h5f = h5py.File(os.path.join(path_save, 'OnehotData_188_test.h5'),'w')\n",
    "h5f.create_dataset('data', data = X188[indices_test])\n",
    "h5f.create_dataset('indice', data = indices_test)\n",
    "h5f.close()"
   ]
  },
  {
   "cell_type": "code",
   "execution_count": 83,
   "metadata": {},
   "outputs": [
    {
     "data": {
      "text/plain": [
       "(20113, 140, 46)"
      ]
     },
     "execution_count": 83,
     "metadata": {},
     "output_type": "execute_result"
    }
   ],
   "source": [
    "XLINCS.shape"
   ]
  },
  {
   "cell_type": "code",
   "execution_count": 89,
   "metadata": {},
   "outputs": [],
   "source": [
    "seed = 123; n = XLINCS.shape[0]\n",
    "random_state = np.random.RandomState(seed = seed)\n",
    "permutation = random_state.permutation(n)\n",
    "n_train = int(n * 0.8)\n",
    "n_test = n - n_train\n",
    "indices_test, indices_train = permutation[:n_test], permutation[n_test:]\n"
   ]
  },
  {
   "cell_type": "code",
   "execution_count": 90,
   "metadata": {},
   "outputs": [],
   "source": [
    "h5f = h5py.File(os.path.join(path_save, 'OnehotData_LINCS_train.h5'),'w')\n",
    "h5f.create_dataset('data', data = XLINCS[indices_train])\n",
    "h5f.create_dataset('indice', data = indices_train)\n",
    "h5f.close()"
   ]
  },
  {
   "cell_type": "code",
   "execution_count": 91,
   "metadata": {},
   "outputs": [],
   "source": [
    "h5f = h5py.File(os.path.join(path_save, 'OnehotData_LINCS_test.h5'),'w')\n",
    "h5f.create_dataset('data', data = XLINCS[indices_test])\n",
    "h5f.create_dataset('indice', data = indices_test)\n",
    "h5f.close()"
   ]
  },
  {
   "cell_type": "code",
   "execution_count": 92,
   "metadata": {},
   "outputs": [
    {
     "data": {
      "text/plain": [
       "(4023,)"
      ]
     },
     "execution_count": 92,
     "metadata": {},
     "output_type": "execute_result"
    }
   ],
   "source": [
    "indices_test.shape"
   ]
  },
  {
   "cell_type": "code",
   "execution_count": 93,
   "metadata": {},
   "outputs": [],
   "source": [
    "h5f = h5py.File(os.path.join(path_save, 'OnehotData_LINCS_train.h5'), 'r')"
   ]
  },
  {
   "cell_type": "code",
   "execution_count": 94,
   "metadata": {},
   "outputs": [
    {
     "data": {
      "text/plain": [
       "(16090, 140, 46)"
      ]
     },
     "execution_count": 94,
     "metadata": {},
     "output_type": "execute_result"
    }
   ],
   "source": [
    "h5f['data'].shape"
   ]
  },
  {
   "cell_type": "code",
   "execution_count": 96,
   "metadata": {},
   "outputs": [
    {
     "data": {
      "text/plain": [
       "<HDF5 dataset \"indice\": shape (16090,), type \"<i8\">"
      ]
     },
     "execution_count": 96,
     "metadata": {},
     "output_type": "execute_result"
    }
   ],
   "source": [
    "h5f['indice']"
   ]
  },
  {
   "cell_type": "code",
   "execution_count": 97,
   "metadata": {},
   "outputs": [],
   "source": [
    "h5f.close()"
   ]
  },
  {
   "cell_type": "code",
   "execution_count": 9,
   "metadata": {},
   "outputs": [],
   "source": [
    "# resume back\n",
    "path_save = '/scratch/welchjd_root/welchjd/hengshi/GAN/perturb_gan/data/smiles/onehot/PubChem10M/RemoveUnnecessaryTokens/OnehotCombineSets/'\n",
    "smiles_pubchem_removal = np.load('/nfs/turbo/umms-welchjd/hengshi/perturb_gan/data/smiles/onehot/PubChem10M/RemoveUnnecessaryTokens/PubChem_canonized_removal.npy')\n",
    "path_save_turbo = '/nfs/turbo/umms-welchjd/hengshi/perturb_gan/data/smiles/onehot/PubChem10M/RemoveUnnecessaryTokens/OnehotCombineSets/'\n",
    "charset_140_pc_removal = np.load(os.path.join(path_save_turbo, \"charset_140_pc_removal_combine4Set.npy\"))\n",
    "charset_140_pc_removal = [i for i in charset_140_pc_removal]\n",
    "\n",
    "MAX_LEN = 140\n",
    "\n",
    "# onehot representations\n",
    "CHAR_INDICES = dict((c, i) for i, c in enumerate(charset_140_pc_removal))\n",
    "\n",
    "NCHARS = len(CHAR_INDICES)"
   ]
  },
  {
   "cell_type": "code",
   "execution_count": 11,
   "metadata": {},
   "outputs": [
    {
     "data": {
      "text/plain": [
       "46"
      ]
     },
     "execution_count": 11,
     "metadata": {},
     "output_type": "execute_result"
    }
   ],
   "source": [
    "len(charset_140_pc_removal)"
   ]
  },
  {
   "cell_type": "code",
   "execution_count": 15,
   "metadata": {},
   "outputs": [],
   "source": [
    "index_shuffle_mo =  list(range(len(smiles_pubchem_removal)))\n",
    "np.random.seed(seed=123)\n",
    "np.random.shuffle(index_shuffle_mo)"
   ]
  },
  {
   "cell_type": "code",
   "execution_count": 18,
   "metadata": {},
   "outputs": [],
   "source": [
    "np.save('/nfs/turbo/umms-welchjd/hengshi/perturb_gan/data/smiles/onehot/PubChem10M/RemoveUnnecessaryTokens/PubChem_canonized_removal_ShuffleIndices.npy', np.array(index_shuffle_mo))"
   ]
  },
  {
   "cell_type": "code",
   "execution_count": 22,
   "metadata": {},
   "outputs": [],
   "source": [
    "smiles_pubchem_removal = smiles_pubchem_removal[index_shuffle_mo]"
   ]
  },
  {
   "cell_type": "code",
   "execution_count": 23,
   "metadata": {},
   "outputs": [
    {
     "name": "stdout",
     "output_type": "stream",
     "text": [
      "Processing: i=[0:100000]\n",
      "Processing: i=[100000:200000]\n",
      "Processing: i=[200000:300000]\n",
      "Processing: i=[300000:400000]\n",
      "Processing: i=[400000:500000]\n",
      "Processing: i=[500000:600000]\n",
      "Processing: i=[600000:700000]\n",
      "Processing: i=[700000:800000]\n",
      "Processing: i=[800000:900000]\n",
      "Processing: i=[900000:1000000]\n",
      "Processing: i=[1000000:1100000]\n",
      "Processing: i=[1100000:1200000]\n",
      "Processing: i=[1200000:1300000]\n",
      "Processing: i=[1300000:1400000]\n",
      "Processing: i=[1400000:1500000]\n",
      "Processing: i=[1500000:1600000]\n",
      "Processing: i=[1600000:1700000]\n",
      "Processing: i=[1700000:1800000]\n",
      "Processing: i=[1800000:1900000]\n",
      "Processing: i=[1900000:2000000]\n"
     ]
    }
   ],
   "source": [
    "nport = 2000000 \n",
    "n = 100000\n",
    "OH1 = np.zeros((nport, MAX_LEN, NCHARS))\n",
    "for i in range(0, nport, n):\n",
    "    print('Processing: i=[' + str(i) + ':' + str(i+n) + ']')\n",
    "    onehot = mu.smiles_to_hot(smiles_pubchem_removal[i:(i+n)], MAX_LEN, params['PADDING'], CHAR_INDICES, NCHARS)\n",
    "    OH1[i:i+n,:,:] = onehot"
   ]
  },
  {
   "cell_type": "code",
   "execution_count": 25,
   "metadata": {},
   "outputs": [
    {
     "data": {
      "text/plain": [
       "'/scratch/welchjd_root/welchjd/hengshi/GAN/perturb_gan/data/smiles/onehot/PubChem10M/RemoveUnnecessaryTokens/OnehotCombineSets/'"
      ]
     },
     "execution_count": 25,
     "metadata": {},
     "output_type": "execute_result"
    }
   ],
   "source": [
    "path_save"
   ]
  },
  {
   "cell_type": "code",
   "execution_count": 27,
   "metadata": {},
   "outputs": [],
   "source": [
    "import h5py\n",
    "h5f = h5py.File(os.path.join(path_save, 'OnehotData_1.h5'),'w')\n",
    "h5f.create_dataset('data', data = OH1)\n",
    "h5f.close()"
   ]
  },
  {
   "cell_type": "code",
   "execution_count": 9,
   "metadata": {},
   "outputs": [],
   "source": [
    "# resume back\n",
    "path_save = '/scratch/welchjd_root/welchjd/hengshi/GAN/perturb_gan/data/smiles/onehot/PubChem10M/RemoveUnnecessaryTokens/OnehotCombineSets/'\n",
    "smiles_pubchem_removal = np.load('/nfs/turbo/umms-welchjd/hengshi/perturb_gan/data/smiles/onehot/PubChem10M/RemoveUnnecessaryTokens/PubChem_canonized_removal.npy')\n",
    "path_save_turbo = '/nfs/turbo/umms-welchjd/hengshi/perturb_gan/data/smiles/onehot/PubChem10M/RemoveUnnecessaryTokens/OnehotCombineSets/'\n",
    "charset_140_pc_removal = np.load(os.path.join(path_save_turbo, \"charset_140_pc_removal_combine4Set.npy\"))\n",
    "charset_140_pc_removal = [i for i in charset_140_pc_removal]\n",
    "\n",
    "MAX_LEN = 140\n",
    "index_shuffle_mo = np.load('/nfs/turbo/umms-welchjd/hengshi/perturb_gan/data/smiles/onehot/PubChem10M/RemoveUnnecessaryTokens/PubChem_canonized_removal_ShuffleIndices.npy')\n",
    "smiles_pubchem_removal = smiles_pubchem_removal[index_shuffle_mo]\n",
    "\n",
    "# onehot representations\n",
    "CHAR_INDICES = dict((c, i) for i, c in enumerate(charset_140_pc_removal))\n",
    "\n",
    "NCHARS = len(CHAR_INDICES)"
   ]
  },
  {
   "cell_type": "code",
   "execution_count": 9,
   "metadata": {},
   "outputs": [
    {
     "name": "stdout",
     "output_type": "stream",
     "text": [
      "Processing: i=[2000000:2100000]\n",
      "Processing: i=[2100000:2200000]\n",
      "Processing: i=[2200000:2300000]\n",
      "Processing: i=[2300000:2400000]\n",
      "Processing: i=[2400000:2500000]\n",
      "Processing: i=[2500000:2600000]\n",
      "Processing: i=[2600000:2700000]\n",
      "Processing: i=[2700000:2800000]\n",
      "Processing: i=[2800000:2900000]\n",
      "Processing: i=[2900000:3000000]\n",
      "Processing: i=[3000000:3100000]\n",
      "Processing: i=[3100000:3200000]\n",
      "Processing: i=[3200000:3300000]\n",
      "Processing: i=[3300000:3400000]\n",
      "Processing: i=[3400000:3500000]\n",
      "Processing: i=[3500000:3600000]\n",
      "Processing: i=[3600000:3700000]\n",
      "Processing: i=[3700000:3800000]\n",
      "Processing: i=[3800000:3900000]\n",
      "Processing: i=[3900000:4000000]\n"
     ]
    }
   ],
   "source": [
    "nport = 2000000 \n",
    "n = 100000\n",
    "\n",
    "OH1 = np.zeros((nport,MAX_LEN,NCHARS))\n",
    "for i in range(0, nport, n):\n",
    "    print('Processing: i=[' + str(i + nport) + ':' + str(i+ nport+n) + ']')\n",
    "    onehot = mu.smiles_to_hot(smiles_pubchem_removal[(i + nport):(i+nport + n)], MAX_LEN, 'right', CHAR_INDICES, NCHARS)\n",
    "    OH1[i:(i+n),:,:] = onehot"
   ]
  },
  {
   "cell_type": "code",
   "execution_count": 10,
   "metadata": {},
   "outputs": [],
   "source": [
    "import h5py\n",
    "h5f = h5py.File(os.path.join(path_save, 'OnehotData_2.h5'),'w')\n",
    "h5f.create_dataset('data', data = OH1)\n",
    "h5f.close()"
   ]
  },
  {
   "cell_type": "code",
   "execution_count": 9,
   "metadata": {},
   "outputs": [
    {
     "name": "stdout",
     "output_type": "stream",
     "text": [
      "Processing: i=[4000000:4100000]\n",
      "Processing: i=[4100000:4200000]\n",
      "Processing: i=[4200000:4300000]\n",
      "Processing: i=[4300000:4400000]\n",
      "Processing: i=[4400000:4500000]\n",
      "Processing: i=[4500000:4600000]\n",
      "Processing: i=[4600000:4700000]\n",
      "Processing: i=[4700000:4800000]\n",
      "Processing: i=[4800000:4900000]\n",
      "Processing: i=[4900000:5000000]\n",
      "Processing: i=[5000000:5100000]\n",
      "Processing: i=[5100000:5200000]\n",
      "Processing: i=[5200000:5300000]\n",
      "Processing: i=[5300000:5400000]\n",
      "Processing: i=[5400000:5500000]\n",
      "Processing: i=[5500000:5600000]\n",
      "Processing: i=[5600000:5700000]\n",
      "Processing: i=[5700000:5800000]\n",
      "Processing: i=[5800000:5900000]\n",
      "Processing: i=[5900000:6000000]\n"
     ]
    }
   ],
   "source": [
    "nport = 2000000 \n",
    "n = 100000\n",
    "\n",
    "OH1 = np.zeros((nport,MAX_LEN,NCHARS))\n",
    "for i in range(0, nport, n):\n",
    "    print('Processing: i=[' + str(i + nport * 2) + ':' + str(i+ nport * 2+n) + ']')\n",
    "    onehot = mu.smiles_to_hot(smiles_pubchem_removal[(i + nport * 2):(i+nport * 2 + n)], MAX_LEN, 'right', CHAR_INDICES, NCHARS)\n",
    "    OH1[i:(i+n),:,:] = onehot"
   ]
  },
  {
   "cell_type": "code",
   "execution_count": 10,
   "metadata": {},
   "outputs": [],
   "source": [
    "import h5py\n",
    "h5f = h5py.File(os.path.join(path_save, 'OnehotData_3.h5'),'w')\n",
    "h5f.create_dataset('data', data = OH1)\n",
    "h5f.close()"
   ]
  },
  {
   "cell_type": "code",
   "execution_count": 9,
   "metadata": {},
   "outputs": [
    {
     "name": "stdout",
     "output_type": "stream",
     "text": [
      "Processing: i=[6000000:6100000]\n",
      "Processing: i=[6100000:6200000]\n",
      "Processing: i=[6200000:6300000]\n",
      "Processing: i=[6300000:6400000]\n",
      "Processing: i=[6400000:6500000]\n",
      "Processing: i=[6500000:6600000]\n",
      "Processing: i=[6600000:6700000]\n",
      "Processing: i=[6700000:6800000]\n",
      "Processing: i=[6800000:6900000]\n",
      "Processing: i=[6900000:7000000]\n",
      "Processing: i=[7000000:7100000]\n",
      "Processing: i=[7100000:7200000]\n",
      "Processing: i=[7200000:7300000]\n",
      "Processing: i=[7300000:7400000]\n",
      "Processing: i=[7400000:7500000]\n",
      "Processing: i=[7500000:7600000]\n",
      "Processing: i=[7600000:7700000]\n",
      "Processing: i=[7700000:7800000]\n",
      "Processing: i=[7800000:7900000]\n",
      "Processing: i=[7900000:8000000]\n"
     ]
    }
   ],
   "source": [
    "nport = 2000000 \n",
    "n = 100000\n",
    "MAX_LEN = 140\n",
    "NCHARS = len(CHAR_INDICES)\n",
    "OH1 = np.zeros((nport,MAX_LEN,NCHARS))\n",
    "for i in range(0, nport, n):\n",
    "    print('Processing: i=[' + str(i + nport * 3) + ':' + str(i+ nport * 3+n) + ']')\n",
    "    onehot = mu.smiles_to_hot(smiles_pubchem_removal[(i + nport * 3):(i+nport * 3 + n)], MAX_LEN, 'right', CHAR_INDICES, NCHARS)\n",
    "    OH1[i:(i+n),:,:] = onehot"
   ]
  },
  {
   "cell_type": "code",
   "execution_count": 10,
   "metadata": {},
   "outputs": [],
   "source": [
    "import h5py\n",
    "h5f = h5py.File(os.path.join(path_save, 'OnehotData_4.h5'),'w')\n",
    "h5f.create_dataset('data', data = OH1)\n",
    "h5f.close()"
   ]
  },
  {
   "cell_type": "code",
   "execution_count": 10,
   "metadata": {},
   "outputs": [
    {
     "name": "stdout",
     "output_type": "stream",
     "text": [
      "Processing: i=[8000000:8100000]\n",
      "Processing: i=[8100000:8200000]\n",
      "Processing: i=[8200000:8300000]\n",
      "Processing: i=[8300000:8400000]\n",
      "Processing: i=[8400000:8500000]\n",
      "Processing: i=[8500000:8600000]\n",
      "Processing: i=[8600000:8700000]\n",
      "Processing: i=[8700000:8800000]\n",
      "Processing: i=[8800000:8900000]\n",
      "Processing: i=[8900000:9000000]\n",
      "Processing: i=[9000000:9100000]\n",
      "Processing: i=[9100000:9200000]\n",
      "Processing: i=[9200000:9300000]\n",
      "Processing: i=[9300000:9400000]\n",
      "Processing: i=[9400000:9500000]\n",
      "Processing: i=[9500000:9600000]\n",
      "Processing: i=[9600000:9700000]\n",
      "Processing: i=[9700000:9800000]\n",
      "Processing: i=[9800000:9900000]\n",
      "Processing: i=[9900000:9942674]\n"
     ]
    }
   ],
   "source": [
    "nport = 2000000 \n",
    "n_last = len(smiles_pubchem_removal) - nport * 4\n",
    "\n",
    "n = 100000\n",
    "OH1 = np.zeros((n_last, MAX_LEN, NCHARS))\n",
    "for i in range(0, n_last, n):\n",
    "    n_use = min(len(smiles_pubchem_removal), i + nport * 4 + n)\n",
    "    print('Processing: i=[' + str(i + nport * 4) + ':' + str(n_use) + ']')\n",
    "    onehot = mu.smiles_to_hot(smiles_pubchem_removal[(i + nport * 4):(n_use)], MAX_LEN, 'right', CHAR_INDICES, NCHARS)\n",
    "    OH1[i:(n_use - nport * 4),:,:] = onehot"
   ]
  },
  {
   "cell_type": "code",
   "execution_count": 11,
   "metadata": {},
   "outputs": [],
   "source": [
    "import h5py\n",
    "h5f = h5py.File(os.path.join(path_save, 'OnehotData_5.h5'),'w')\n",
    "h5f.create_dataset('data', data = OH1)\n",
    "h5f.close()"
   ]
  },
  {
   "cell_type": "code",
   "execution_count": 12,
   "metadata": {},
   "outputs": [
    {
     "data": {
      "text/plain": [
       "(1942674, 140, 46)"
      ]
     },
     "execution_count": 12,
     "metadata": {},
     "output_type": "execute_result"
    }
   ],
   "source": [
    "OH1.shape"
   ]
  },
  {
   "cell_type": "code",
   "execution_count": null,
   "metadata": {},
   "outputs": [],
   "source": []
  }
 ],
 "metadata": {
  "kernelspec": {
   "display_name": "Python (chemvaeLower)",
   "language": "python",
   "name": "chemvaelower"
  },
  "language_info": {
   "codemirror_mode": {
    "name": "ipython",
    "version": 3
   },
   "file_extension": ".py",
   "mimetype": "text/x-python",
   "name": "python",
   "nbconvert_exporter": "python",
   "pygments_lexer": "ipython3",
   "version": "3.6.13"
  }
 },
 "nbformat": 4,
 "nbformat_minor": 4
}
