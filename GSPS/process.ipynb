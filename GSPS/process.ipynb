{
 "cells": [
  {
   "cell_type": "code",
   "execution_count": 1,
   "metadata": {},
   "outputs": [],
   "source": [
    "import anndata as ad\n",
    "import pandas as pd\n",
    "import numpy as np\n",
    "import matplotlib \n",
    "import matplotlib.pyplot as plt\n",
    "%matplotlib inline"
   ]
  },
  {
   "cell_type": "code",
   "execution_count": 2,
   "metadata": {},
   "outputs": [],
   "source": [
    "import scanpy as sc"
   ]
  },
  {
   "cell_type": "code",
   "execution_count": 3,
   "metadata": {},
   "outputs": [],
   "source": [
    "from anndata import AnnData"
   ]
  },
  {
   "cell_type": "code",
   "execution_count": 4,
   "metadata": {},
   "outputs": [],
   "source": [
    "import os"
   ]
  },
  {
   "cell_type": "code",
   "execution_count": 5,
   "metadata": {},
   "outputs": [],
   "source": [
    "from scipy.sparse import load_npz"
   ]
  },
  {
   "cell_type": "code",
   "execution_count": 6,
   "metadata": {},
   "outputs": [],
   "source": [
    "from scipy import sparse"
   ]
  },
  {
   "cell_type": "code",
   "execution_count": 7,
   "metadata": {},
   "outputs": [],
   "source": [
    "import scvi"
   ]
  },
  {
   "cell_type": "code",
   "execution_count": null,
   "metadata": {},
   "outputs": [],
   "source": [
    "data = ad.read_h5ad('K562_gwps_normalized_singlecell_01.h5ad')"
   ]
  },
  {
   "cell_type": "code",
   "execution_count": 4,
   "metadata": {},
   "outputs": [
    {
     "data": {
      "text/html": [
       "<div>\n",
       "<style scoped>\n",
       "    .dataframe tbody tr th:only-of-type {\n",
       "        vertical-align: middle;\n",
       "    }\n",
       "\n",
       "    .dataframe tbody tr th {\n",
       "        vertical-align: top;\n",
       "    }\n",
       "\n",
       "    .dataframe thead th {\n",
       "        text-align: right;\n",
       "    }\n",
       "</style>\n",
       "<table border=\"1\" class=\"dataframe\">\n",
       "  <thead>\n",
       "    <tr style=\"text-align: right;\">\n",
       "      <th></th>\n",
       "      <th>gem_group</th>\n",
       "      <th>gene</th>\n",
       "      <th>gene_id</th>\n",
       "      <th>transcript</th>\n",
       "      <th>gene_transcript</th>\n",
       "      <th>sgID_AB</th>\n",
       "      <th>mitopercent</th>\n",
       "      <th>UMI_count</th>\n",
       "      <th>z_gemgroup_UMI</th>\n",
       "      <th>core_scale_factor</th>\n",
       "      <th>core_adjusted_UMI_count</th>\n",
       "    </tr>\n",
       "    <tr>\n",
       "      <th>cell_barcode</th>\n",
       "      <th></th>\n",
       "      <th></th>\n",
       "      <th></th>\n",
       "      <th></th>\n",
       "      <th></th>\n",
       "      <th></th>\n",
       "      <th></th>\n",
       "      <th></th>\n",
       "      <th></th>\n",
       "      <th></th>\n",
       "      <th></th>\n",
       "    </tr>\n",
       "  </thead>\n",
       "  <tbody>\n",
       "    <tr>\n",
       "      <th>AAACCCAAGAAACCAT-157</th>\n",
       "      <td>157</td>\n",
       "      <td>CTSC</td>\n",
       "      <td>ENSG00000109861</td>\n",
       "      <td>P1P2</td>\n",
       "      <td>1946_CTSC_P1P2_ENSG00000109861</td>\n",
       "      <td>CTSC_-_88070848.23-P1P2|CTSC_-_88070918.23-P1P2</td>\n",
       "      <td>0.088177</td>\n",
       "      <td>14709.0</td>\n",
       "      <td>0.470687</td>\n",
       "      <td>1.051176</td>\n",
       "      <td>13992.900391</td>\n",
       "    </tr>\n",
       "    <tr>\n",
       "      <th>AAACCCAAGAAACCAT-207</th>\n",
       "      <td>207</td>\n",
       "      <td>CWC25</td>\n",
       "      <td>ENSG00000273559</td>\n",
       "      <td>P1P2</td>\n",
       "      <td>1973_CWC25_P1P2_ENSG00000273559</td>\n",
       "      <td>CWC25_+_36981555.23-P1P2|CWC25_+_36981567.23-P1P2</td>\n",
       "      <td>0.114342</td>\n",
       "      <td>16162.0</td>\n",
       "      <td>0.824790</td>\n",
       "      <td>1.074744</td>\n",
       "      <td>15038.004883</td>\n",
       "    </tr>\n",
       "    <tr>\n",
       "      <th>AAACCCAAGAAACCAT-29</th>\n",
       "      <td>29</td>\n",
       "      <td>PDE4DIP</td>\n",
       "      <td>ENSG00000178104</td>\n",
       "      <td>ENST00000313431.9</td>\n",
       "      <td>6168_PDE4DIP_ENST00000313431.9_ENSG00000178104</td>\n",
       "      <td>PDE4DIP_+_144932474.23-ENST00000313431.9|PDE4D...</td>\n",
       "      <td>0.107157</td>\n",
       "      <td>33297.0</td>\n",
       "      <td>2.627126</td>\n",
       "      <td>1.472444</td>\n",
       "      <td>22613.423828</td>\n",
       "    </tr>\n",
       "    <tr>\n",
       "      <th>AAACCCAAGAAAGCGA-149</th>\n",
       "      <td>149</td>\n",
       "      <td>ZZEF1</td>\n",
       "      <td>ENSG00000074755</td>\n",
       "      <td>P1P2</td>\n",
       "      <td>10745_ZZEF1_P1P2_ENSG00000074755</td>\n",
       "      <td>ZZEF1_+_4046247.23-P1P2|ZZEF1_+_4046255.23-P1P2</td>\n",
       "      <td>0.143107</td>\n",
       "      <td>7435.0</td>\n",
       "      <td>0.918149</td>\n",
       "      <td>0.480401</td>\n",
       "      <td>15476.669922</td>\n",
       "    </tr>\n",
       "    <tr>\n",
       "      <th>AAACCCAAGAAATCCA-172</th>\n",
       "      <td>172</td>\n",
       "      <td>SNAPIN</td>\n",
       "      <td>ENSG00000143553</td>\n",
       "      <td>P1P2</td>\n",
       "      <td>8210_SNAPIN_P1P2_ENSG00000143553</td>\n",
       "      <td>SNAPIN_+_153631238.23-P1P2|SNAPIN_-_153631252....</td>\n",
       "      <td>0.130754</td>\n",
       "      <td>7755.0</td>\n",
       "      <td>-0.230920</td>\n",
       "      <td>0.695649</td>\n",
       "      <td>11147.856445</td>\n",
       "    </tr>\n",
       "  </tbody>\n",
       "</table>\n",
       "</div>"
      ],
      "text/plain": [
       "                      gem_group     gene          gene_id         transcript  \\\n",
       "cell_barcode                                                                   \n",
       "AAACCCAAGAAACCAT-157        157     CTSC  ENSG00000109861               P1P2   \n",
       "AAACCCAAGAAACCAT-207        207    CWC25  ENSG00000273559               P1P2   \n",
       "AAACCCAAGAAACCAT-29          29  PDE4DIP  ENSG00000178104  ENST00000313431.9   \n",
       "AAACCCAAGAAAGCGA-149        149    ZZEF1  ENSG00000074755               P1P2   \n",
       "AAACCCAAGAAATCCA-172        172   SNAPIN  ENSG00000143553               P1P2   \n",
       "\n",
       "                                                     gene_transcript  \\\n",
       "cell_barcode                                                           \n",
       "AAACCCAAGAAACCAT-157                  1946_CTSC_P1P2_ENSG00000109861   \n",
       "AAACCCAAGAAACCAT-207                 1973_CWC25_P1P2_ENSG00000273559   \n",
       "AAACCCAAGAAACCAT-29   6168_PDE4DIP_ENST00000313431.9_ENSG00000178104   \n",
       "AAACCCAAGAAAGCGA-149                10745_ZZEF1_P1P2_ENSG00000074755   \n",
       "AAACCCAAGAAATCCA-172                8210_SNAPIN_P1P2_ENSG00000143553   \n",
       "\n",
       "                                                                sgID_AB  \\\n",
       "cell_barcode                                                              \n",
       "AAACCCAAGAAACCAT-157    CTSC_-_88070848.23-P1P2|CTSC_-_88070918.23-P1P2   \n",
       "AAACCCAAGAAACCAT-207  CWC25_+_36981555.23-P1P2|CWC25_+_36981567.23-P1P2   \n",
       "AAACCCAAGAAACCAT-29   PDE4DIP_+_144932474.23-ENST00000313431.9|PDE4D...   \n",
       "AAACCCAAGAAAGCGA-149    ZZEF1_+_4046247.23-P1P2|ZZEF1_+_4046255.23-P1P2   \n",
       "AAACCCAAGAAATCCA-172  SNAPIN_+_153631238.23-P1P2|SNAPIN_-_153631252....   \n",
       "\n",
       "                      mitopercent  UMI_count  z_gemgroup_UMI  \\\n",
       "cell_barcode                                                   \n",
       "AAACCCAAGAAACCAT-157     0.088177    14709.0        0.470687   \n",
       "AAACCCAAGAAACCAT-207     0.114342    16162.0        0.824790   \n",
       "AAACCCAAGAAACCAT-29      0.107157    33297.0        2.627126   \n",
       "AAACCCAAGAAAGCGA-149     0.143107     7435.0        0.918149   \n",
       "AAACCCAAGAAATCCA-172     0.130754     7755.0       -0.230920   \n",
       "\n",
       "                      core_scale_factor  core_adjusted_UMI_count  \n",
       "cell_barcode                                                      \n",
       "AAACCCAAGAAACCAT-157           1.051176             13992.900391  \n",
       "AAACCCAAGAAACCAT-207           1.074744             15038.004883  \n",
       "AAACCCAAGAAACCAT-29            1.472444             22613.423828  \n",
       "AAACCCAAGAAAGCGA-149           0.480401             15476.669922  \n",
       "AAACCCAAGAAATCCA-172           0.695649             11147.856445  "
      ]
     },
     "execution_count": 4,
     "metadata": {},
     "output_type": "execute_result"
    }
   ],
   "source": [
    "data.obs.head()"
   ]
  },
  {
   "cell_type": "code",
   "execution_count": 10,
   "metadata": {},
   "outputs": [
    {
     "data": {
      "text/plain": [
       "(9867,)"
      ]
     },
     "execution_count": 10,
     "metadata": {},
     "output_type": "execute_result"
    }
   ],
   "source": [
    "data.obs['gene'].unique().shape"
   ]
  },
  {
   "cell_type": "code",
   "execution_count": 13,
   "metadata": {},
   "outputs": [
    {
     "data": {
      "text/plain": [
       "(1989578, 8248)"
      ]
     },
     "execution_count": 13,
     "metadata": {},
     "output_type": "execute_result"
    }
   ],
   "source": [
    "data.shape"
   ]
  },
  {
   "cell_type": "code",
   "execution_count": 8,
   "metadata": {},
   "outputs": [
    {
     "data": {
      "text/html": [
       "<div>\n",
       "<style scoped>\n",
       "    .dataframe tbody tr th:only-of-type {\n",
       "        vertical-align: middle;\n",
       "    }\n",
       "\n",
       "    .dataframe tbody tr th {\n",
       "        vertical-align: top;\n",
       "    }\n",
       "\n",
       "    .dataframe thead th {\n",
       "        text-align: right;\n",
       "    }\n",
       "</style>\n",
       "<table border=\"1\" class=\"dataframe\">\n",
       "  <thead>\n",
       "    <tr style=\"text-align: right;\">\n",
       "      <th></th>\n",
       "      <th>gene_name</th>\n",
       "      <th>chr</th>\n",
       "      <th>start</th>\n",
       "      <th>end</th>\n",
       "      <th>class</th>\n",
       "      <th>strand</th>\n",
       "      <th>length</th>\n",
       "      <th>in_matrix</th>\n",
       "      <th>mean</th>\n",
       "      <th>std</th>\n",
       "      <th>cv</th>\n",
       "      <th>fano</th>\n",
       "    </tr>\n",
       "    <tr>\n",
       "      <th>gene_id</th>\n",
       "      <th></th>\n",
       "      <th></th>\n",
       "      <th></th>\n",
       "      <th></th>\n",
       "      <th></th>\n",
       "      <th></th>\n",
       "      <th></th>\n",
       "      <th></th>\n",
       "      <th></th>\n",
       "      <th></th>\n",
       "      <th></th>\n",
       "      <th></th>\n",
       "    </tr>\n",
       "  </thead>\n",
       "  <tbody>\n",
       "    <tr>\n",
       "      <th>ENSG00000237491</th>\n",
       "      <td>LINC01409</td>\n",
       "      <td>chr1</td>\n",
       "      <td>778747</td>\n",
       "      <td>810065</td>\n",
       "      <td>gene_version10</td>\n",
       "      <td>+</td>\n",
       "      <td>31318</td>\n",
       "      <td>True</td>\n",
       "      <td>0.116626</td>\n",
       "      <td>0.349971</td>\n",
       "      <td>3.000803</td>\n",
       "      <td>1.050194</td>\n",
       "    </tr>\n",
       "    <tr>\n",
       "      <th>ENSG00000228794</th>\n",
       "      <td>LINC01128</td>\n",
       "      <td>chr1</td>\n",
       "      <td>825138</td>\n",
       "      <td>868202</td>\n",
       "      <td>gene_version9</td>\n",
       "      <td>+</td>\n",
       "      <td>43064</td>\n",
       "      <td>True</td>\n",
       "      <td>0.182850</td>\n",
       "      <td>0.437274</td>\n",
       "      <td>2.391434</td>\n",
       "      <td>1.045713</td>\n",
       "    </tr>\n",
       "    <tr>\n",
       "      <th>ENSG00000188976</th>\n",
       "      <td>NOC2L</td>\n",
       "      <td>chr1</td>\n",
       "      <td>944203</td>\n",
       "      <td>959309</td>\n",
       "      <td>gene_version11</td>\n",
       "      <td>-</td>\n",
       "      <td>15106</td>\n",
       "      <td>True</td>\n",
       "      <td>1.415674</td>\n",
       "      <td>1.397208</td>\n",
       "      <td>0.986957</td>\n",
       "      <td>1.378984</td>\n",
       "    </tr>\n",
       "    <tr>\n",
       "      <th>ENSG00000187961</th>\n",
       "      <td>KLHL17</td>\n",
       "      <td>chr1</td>\n",
       "      <td>960584</td>\n",
       "      <td>965719</td>\n",
       "      <td>gene_version14</td>\n",
       "      <td>+</td>\n",
       "      <td>5135</td>\n",
       "      <td>True</td>\n",
       "      <td>0.105599</td>\n",
       "      <td>0.330678</td>\n",
       "      <td>3.131439</td>\n",
       "      <td>1.035497</td>\n",
       "    </tr>\n",
       "    <tr>\n",
       "      <th>ENSG00000188290</th>\n",
       "      <td>HES4</td>\n",
       "      <td>chr1</td>\n",
       "      <td>998962</td>\n",
       "      <td>1000172</td>\n",
       "      <td>gene_version10</td>\n",
       "      <td>-</td>\n",
       "      <td>1210</td>\n",
       "      <td>True</td>\n",
       "      <td>0.242700</td>\n",
       "      <td>0.550596</td>\n",
       "      <td>2.268630</td>\n",
       "      <td>1.249098</td>\n",
       "    </tr>\n",
       "  </tbody>\n",
       "</table>\n",
       "</div>"
      ],
      "text/plain": [
       "                 gene_name   chr   start      end           class strand  \\\n",
       "gene_id                                                                    \n",
       "ENSG00000237491  LINC01409  chr1  778747   810065  gene_version10      +   \n",
       "ENSG00000228794  LINC01128  chr1  825138   868202   gene_version9      +   \n",
       "ENSG00000188976      NOC2L  chr1  944203   959309  gene_version11      -   \n",
       "ENSG00000187961     KLHL17  chr1  960584   965719  gene_version14      +   \n",
       "ENSG00000188290       HES4  chr1  998962  1000172  gene_version10      -   \n",
       "\n",
       "                 length  in_matrix      mean       std        cv      fano  \n",
       "gene_id                                                                     \n",
       "ENSG00000237491   31318       True  0.116626  0.349971  3.000803  1.050194  \n",
       "ENSG00000228794   43064       True  0.182850  0.437274  2.391434  1.045713  \n",
       "ENSG00000188976   15106       True  1.415674  1.397208  0.986957  1.378984  \n",
       "ENSG00000187961    5135       True  0.105599  0.330678  3.131439  1.035497  \n",
       "ENSG00000188290    1210       True  0.242700  0.550596  2.268630  1.249098  "
      ]
     },
     "execution_count": 8,
     "metadata": {},
     "output_type": "execute_result"
    }
   ],
   "source": [
    "data.var.head()"
   ]
  },
  {
   "cell_type": "code",
   "execution_count": 11,
   "metadata": {},
   "outputs": [],
   "source": [
    "data_ess = ad.read_h5ad('K562_essential_normalized_singlecell_01.h5ad')"
   ]
  },
  {
   "cell_type": "code",
   "execution_count": 12,
   "metadata": {},
   "outputs": [
    {
     "data": {
      "text/plain": [
       "(310385, 8563)"
      ]
     },
     "execution_count": 12,
     "metadata": {},
     "output_type": "execute_result"
    }
   ],
   "source": [
    "data_ess.shape"
   ]
  },
  {
   "cell_type": "code",
   "execution_count": 16,
   "metadata": {},
   "outputs": [
    {
     "data": {
      "text/plain": [
       "8202"
      ]
     },
     "execution_count": 16,
     "metadata": {},
     "output_type": "execute_result"
    }
   ],
   "source": [
    "len(set(data.var.index) & set(data_ess.var.index))"
   ]
  },
  {
   "cell_type": "code",
   "execution_count": 17,
   "metadata": {},
   "outputs": [],
   "source": [
    "data_ess_bulk = ad.read_h5ad('K562_gwps_normalized_bulk_01.h5ad')"
   ]
  },
  {
   "cell_type": "code",
   "execution_count": 18,
   "metadata": {},
   "outputs": [
    {
     "data": {
      "text/plain": [
       "(11258, 8248)"
      ]
     },
     "execution_count": 18,
     "metadata": {},
     "output_type": "execute_result"
    }
   ],
   "source": [
    "data_ess_bulk.shape"
   ]
  },
  {
   "cell_type": "code",
   "execution_count": 19,
   "metadata": {},
   "outputs": [
    {
     "data": {
      "text/plain": [
       "8202"
      ]
     },
     "execution_count": 19,
     "metadata": {},
     "output_type": "execute_result"
    }
   ],
   "source": [
    "len(set(data_ess_bulk.var.index) & set(data_ess.var.index))"
   ]
  },
  {
   "cell_type": "code",
   "execution_count": 20,
   "metadata": {},
   "outputs": [
    {
     "data": {
      "text/plain": [
       "0"
      ]
     },
     "execution_count": 20,
     "metadata": {},
     "output_type": "execute_result"
    }
   ],
   "source": [
    "len(set(data_ess_bulk.obs.index) & set(data_ess.obs.index))"
   ]
  },
  {
   "cell_type": "code",
   "execution_count": 21,
   "metadata": {},
   "outputs": [
    {
     "data": {
      "text/html": [
       "<div>\n",
       "<style scoped>\n",
       "    .dataframe tbody tr th:only-of-type {\n",
       "        vertical-align: middle;\n",
       "    }\n",
       "\n",
       "    .dataframe tbody tr th {\n",
       "        vertical-align: top;\n",
       "    }\n",
       "\n",
       "    .dataframe thead th {\n",
       "        text-align: right;\n",
       "    }\n",
       "</style>\n",
       "<table border=\"1\" class=\"dataframe\">\n",
       "  <thead>\n",
       "    <tr style=\"text-align: right;\">\n",
       "      <th></th>\n",
       "      <th>UMI_count_unfiltered</th>\n",
       "      <th>num_cells_unfiltered</th>\n",
       "      <th>num_cells_filtered</th>\n",
       "      <th>control_expr</th>\n",
       "      <th>fold_expr</th>\n",
       "      <th>pct_expr</th>\n",
       "      <th>core_control</th>\n",
       "      <th>mean_leverage_score</th>\n",
       "      <th>std_leverage_score</th>\n",
       "      <th>energy_test_p_value</th>\n",
       "      <th>anderson_darling_counts</th>\n",
       "      <th>mann_whitney_counts</th>\n",
       "      <th>z_gemgroup_UMI</th>\n",
       "      <th>mitopercent</th>\n",
       "      <th>TE_ratio</th>\n",
       "      <th>cnv_score_z</th>\n",
       "    </tr>\n",
       "    <tr>\n",
       "      <th>gene_transcript</th>\n",
       "      <th></th>\n",
       "      <th></th>\n",
       "      <th></th>\n",
       "      <th></th>\n",
       "      <th></th>\n",
       "      <th></th>\n",
       "      <th></th>\n",
       "      <th></th>\n",
       "      <th></th>\n",
       "      <th></th>\n",
       "      <th></th>\n",
       "      <th></th>\n",
       "      <th></th>\n",
       "      <th></th>\n",
       "      <th></th>\n",
       "      <th></th>\n",
       "    </tr>\n",
       "  </thead>\n",
       "  <tbody>\n",
       "    <tr>\n",
       "      <th>0_A1BG_P1_ENSG00000121410</th>\n",
       "      <td>11648.256836</td>\n",
       "      <td>246</td>\n",
       "      <td>237.0</td>\n",
       "      <td>0.171285</td>\n",
       "      <td>0.023274</td>\n",
       "      <td>-0.976726</td>\n",
       "      <td>False</td>\n",
       "      <td>0.264768</td>\n",
       "      <td>1.137824</td>\n",
       "      <td>0.017798</td>\n",
       "      <td>3</td>\n",
       "      <td>4</td>\n",
       "      <td>0.088383</td>\n",
       "      <td>0.118743</td>\n",
       "      <td>0.013627</td>\n",
       "      <td>NaN</td>\n",
       "    </tr>\n",
       "    <tr>\n",
       "      <th>10000_ZBTB46_P1P2_ENSG00000130584</th>\n",
       "      <td>12291.757812</td>\n",
       "      <td>95</td>\n",
       "      <td>89.0</td>\n",
       "      <td>0.026212</td>\n",
       "      <td>0.000000</td>\n",
       "      <td>-1.000000</td>\n",
       "      <td>False</td>\n",
       "      <td>0.260951</td>\n",
       "      <td>1.095702</td>\n",
       "      <td>0.130587</td>\n",
       "      <td>1</td>\n",
       "      <td>1</td>\n",
       "      <td>0.339968</td>\n",
       "      <td>0.116354</td>\n",
       "      <td>0.014563</td>\n",
       "      <td>7.305249</td>\n",
       "    </tr>\n",
       "    <tr>\n",
       "      <th>10001_ZBTB47_P1P2_ENSG00000114853</th>\n",
       "      <td>11295.581055</td>\n",
       "      <td>318</td>\n",
       "      <td>308.0</td>\n",
       "      <td>0.048150</td>\n",
       "      <td>0.527716</td>\n",
       "      <td>-0.472284</td>\n",
       "      <td>False</td>\n",
       "      <td>0.277062</td>\n",
       "      <td>1.115502</td>\n",
       "      <td>0.457854</td>\n",
       "      <td>0</td>\n",
       "      <td>0</td>\n",
       "      <td>0.044135</td>\n",
       "      <td>0.118609</td>\n",
       "      <td>0.014196</td>\n",
       "      <td>0.014276</td>\n",
       "    </tr>\n",
       "    <tr>\n",
       "      <th>10002_ZBTB48_P1P2_ENSG00000204859</th>\n",
       "      <td>12323.345703</td>\n",
       "      <td>84</td>\n",
       "      <td>83.0</td>\n",
       "      <td>0.134619</td>\n",
       "      <td>0.163264</td>\n",
       "      <td>-0.836736</td>\n",
       "      <td>False</td>\n",
       "      <td>0.370545</td>\n",
       "      <td>1.089380</td>\n",
       "      <td>0.352665</td>\n",
       "      <td>3</td>\n",
       "      <td>3</td>\n",
       "      <td>0.241949</td>\n",
       "      <td>0.115377</td>\n",
       "      <td>0.013690</td>\n",
       "      <td>0.881662</td>\n",
       "    </tr>\n",
       "    <tr>\n",
       "      <th>10003_ZBTB49_P1P2_ENSG00000168826</th>\n",
       "      <td>11520.527344</td>\n",
       "      <td>290</td>\n",
       "      <td>276.0</td>\n",
       "      <td>0.026936</td>\n",
       "      <td>0.127473</td>\n",
       "      <td>-0.872527</td>\n",
       "      <td>False</td>\n",
       "      <td>0.301086</td>\n",
       "      <td>1.099432</td>\n",
       "      <td>0.217678</td>\n",
       "      <td>1</td>\n",
       "      <td>1</td>\n",
       "      <td>0.135962</td>\n",
       "      <td>0.119273</td>\n",
       "      <td>0.014122</td>\n",
       "      <td>1.277506</td>\n",
       "    </tr>\n",
       "  </tbody>\n",
       "</table>\n",
       "</div>"
      ],
      "text/plain": [
       "                                   UMI_count_unfiltered  num_cells_unfiltered  \\\n",
       "gene_transcript                                                                 \n",
       "0_A1BG_P1_ENSG00000121410                  11648.256836                   246   \n",
       "10000_ZBTB46_P1P2_ENSG00000130584          12291.757812                    95   \n",
       "10001_ZBTB47_P1P2_ENSG00000114853          11295.581055                   318   \n",
       "10002_ZBTB48_P1P2_ENSG00000204859          12323.345703                    84   \n",
       "10003_ZBTB49_P1P2_ENSG00000168826          11520.527344                   290   \n",
       "\n",
       "                                   num_cells_filtered  control_expr  \\\n",
       "gene_transcript                                                       \n",
       "0_A1BG_P1_ENSG00000121410                       237.0      0.171285   \n",
       "10000_ZBTB46_P1P2_ENSG00000130584                89.0      0.026212   \n",
       "10001_ZBTB47_P1P2_ENSG00000114853               308.0      0.048150   \n",
       "10002_ZBTB48_P1P2_ENSG00000204859                83.0      0.134619   \n",
       "10003_ZBTB49_P1P2_ENSG00000168826               276.0      0.026936   \n",
       "\n",
       "                                   fold_expr  pct_expr  core_control  \\\n",
       "gene_transcript                                                        \n",
       "0_A1BG_P1_ENSG00000121410           0.023274 -0.976726         False   \n",
       "10000_ZBTB46_P1P2_ENSG00000130584   0.000000 -1.000000         False   \n",
       "10001_ZBTB47_P1P2_ENSG00000114853   0.527716 -0.472284         False   \n",
       "10002_ZBTB48_P1P2_ENSG00000204859   0.163264 -0.836736         False   \n",
       "10003_ZBTB49_P1P2_ENSG00000168826   0.127473 -0.872527         False   \n",
       "\n",
       "                                   mean_leverage_score  std_leverage_score  \\\n",
       "gene_transcript                                                              \n",
       "0_A1BG_P1_ENSG00000121410                     0.264768            1.137824   \n",
       "10000_ZBTB46_P1P2_ENSG00000130584             0.260951            1.095702   \n",
       "10001_ZBTB47_P1P2_ENSG00000114853             0.277062            1.115502   \n",
       "10002_ZBTB48_P1P2_ENSG00000204859             0.370545            1.089380   \n",
       "10003_ZBTB49_P1P2_ENSG00000168826             0.301086            1.099432   \n",
       "\n",
       "                                   energy_test_p_value  \\\n",
       "gene_transcript                                          \n",
       "0_A1BG_P1_ENSG00000121410                     0.017798   \n",
       "10000_ZBTB46_P1P2_ENSG00000130584             0.130587   \n",
       "10001_ZBTB47_P1P2_ENSG00000114853             0.457854   \n",
       "10002_ZBTB48_P1P2_ENSG00000204859             0.352665   \n",
       "10003_ZBTB49_P1P2_ENSG00000168826             0.217678   \n",
       "\n",
       "                                   anderson_darling_counts  \\\n",
       "gene_transcript                                              \n",
       "0_A1BG_P1_ENSG00000121410                                3   \n",
       "10000_ZBTB46_P1P2_ENSG00000130584                        1   \n",
       "10001_ZBTB47_P1P2_ENSG00000114853                        0   \n",
       "10002_ZBTB48_P1P2_ENSG00000204859                        3   \n",
       "10003_ZBTB49_P1P2_ENSG00000168826                        1   \n",
       "\n",
       "                                   mann_whitney_counts  z_gemgroup_UMI  \\\n",
       "gene_transcript                                                          \n",
       "0_A1BG_P1_ENSG00000121410                            4        0.088383   \n",
       "10000_ZBTB46_P1P2_ENSG00000130584                    1        0.339968   \n",
       "10001_ZBTB47_P1P2_ENSG00000114853                    0        0.044135   \n",
       "10002_ZBTB48_P1P2_ENSG00000204859                    3        0.241949   \n",
       "10003_ZBTB49_P1P2_ENSG00000168826                    1        0.135962   \n",
       "\n",
       "                                   mitopercent  TE_ratio  cnv_score_z  \n",
       "gene_transcript                                                        \n",
       "0_A1BG_P1_ENSG00000121410             0.118743  0.013627          NaN  \n",
       "10000_ZBTB46_P1P2_ENSG00000130584     0.116354  0.014563     7.305249  \n",
       "10001_ZBTB47_P1P2_ENSG00000114853     0.118609  0.014196     0.014276  \n",
       "10002_ZBTB48_P1P2_ENSG00000204859     0.115377  0.013690     0.881662  \n",
       "10003_ZBTB49_P1P2_ENSG00000168826     0.119273  0.014122     1.277506  "
      ]
     },
     "execution_count": 21,
     "metadata": {},
     "output_type": "execute_result"
    }
   ],
   "source": [
    "data_ess_bulk.obs.head()"
   ]
  },
  {
   "cell_type": "code",
   "execution_count": 22,
   "metadata": {},
   "outputs": [
    {
     "data": {
      "text/html": [
       "<div>\n",
       "<style scoped>\n",
       "    .dataframe tbody tr th:only-of-type {\n",
       "        vertical-align: middle;\n",
       "    }\n",
       "\n",
       "    .dataframe tbody tr th {\n",
       "        vertical-align: top;\n",
       "    }\n",
       "\n",
       "    .dataframe thead th {\n",
       "        text-align: right;\n",
       "    }\n",
       "</style>\n",
       "<table border=\"1\" class=\"dataframe\">\n",
       "  <thead>\n",
       "    <tr style=\"text-align: right;\">\n",
       "      <th></th>\n",
       "      <th>gem_group</th>\n",
       "      <th>gene</th>\n",
       "      <th>gene_id</th>\n",
       "      <th>transcript</th>\n",
       "      <th>gene_transcript</th>\n",
       "      <th>sgID_AB</th>\n",
       "      <th>mitopercent</th>\n",
       "      <th>UMI_count</th>\n",
       "      <th>z_gemgroup_UMI</th>\n",
       "      <th>core_scale_factor</th>\n",
       "      <th>core_adjusted_UMI_count</th>\n",
       "    </tr>\n",
       "    <tr>\n",
       "      <th>cell_barcode</th>\n",
       "      <th></th>\n",
       "      <th></th>\n",
       "      <th></th>\n",
       "      <th></th>\n",
       "      <th></th>\n",
       "      <th></th>\n",
       "      <th></th>\n",
       "      <th></th>\n",
       "      <th></th>\n",
       "      <th></th>\n",
       "      <th></th>\n",
       "    </tr>\n",
       "  </thead>\n",
       "  <tbody>\n",
       "    <tr>\n",
       "      <th>AAACCCAAGAAATCCA-27</th>\n",
       "      <td>27</td>\n",
       "      <td>NAF1</td>\n",
       "      <td>ENSG00000145414</td>\n",
       "      <td>P1P2</td>\n",
       "      <td>5449_NAF1_P1P2_ENSG00000145414</td>\n",
       "      <td>NAF1_+_164087918.23-P1P2|NAF1_-_164087674.23-P1P2</td>\n",
       "      <td>0.112083</td>\n",
       "      <td>11438.0</td>\n",
       "      <td>0.013047</td>\n",
       "      <td>0.813253</td>\n",
       "      <td>14064.512695</td>\n",
       "    </tr>\n",
       "    <tr>\n",
       "      <th>AAACCCAAGAACTTCC-31</th>\n",
       "      <td>31</td>\n",
       "      <td>BUB1</td>\n",
       "      <td>ENSG00000169679</td>\n",
       "      <td>P1P2</td>\n",
       "      <td>935_BUB1_P1P2_ENSG00000169679</td>\n",
       "      <td>BUB1_-_111435363.23-P1P2|BUB1_-_111435372.23-P1P2</td>\n",
       "      <td>0.179895</td>\n",
       "      <td>5342.0</td>\n",
       "      <td>-1.522247</td>\n",
       "      <td>0.844107</td>\n",
       "      <td>6328.584473</td>\n",
       "    </tr>\n",
       "    <tr>\n",
       "      <th>AAACCCAAGAAGCCAC-34</th>\n",
       "      <td>34</td>\n",
       "      <td>UBL5</td>\n",
       "      <td>ENSG00000198258</td>\n",
       "      <td>P1P2</td>\n",
       "      <td>9534_UBL5_P1P2_ENSG00000198258</td>\n",
       "      <td>UBL5_-_9938639.23-P1P2|UBL5_+_9938801.23-P1P2</td>\n",
       "      <td>0.105287</td>\n",
       "      <td>17305.0</td>\n",
       "      <td>0.384157</td>\n",
       "      <td>1.091537</td>\n",
       "      <td>15853.792969</td>\n",
       "    </tr>\n",
       "    <tr>\n",
       "      <th>AAACCCAAGAATAGTC-43</th>\n",
       "      <td>43</td>\n",
       "      <td>C9orf16</td>\n",
       "      <td>ENSG00000171159</td>\n",
       "      <td>P1P2</td>\n",
       "      <td>1131_C9orf16_P1P2_ENSG00000171159</td>\n",
       "      <td>C9orf16_+_130922603.23-P1P2|C9orf16_+_13092264...</td>\n",
       "      <td>0.099359</td>\n",
       "      <td>30244.0</td>\n",
       "      <td>3.721912</td>\n",
       "      <td>0.948277</td>\n",
       "      <td>31893.619141</td>\n",
       "    </tr>\n",
       "    <tr>\n",
       "      <th>AAACCCAAGACAGCGT-28</th>\n",
       "      <td>28</td>\n",
       "      <td>TIMM9</td>\n",
       "      <td>ENSG00000100575</td>\n",
       "      <td>P1P2</td>\n",
       "      <td>8927_TIMM9_P1P2_ENSG00000100575</td>\n",
       "      <td>TIMM9_-_58893843.23-P1P2|TIMM9_-_58893848.23-P1P2</td>\n",
       "      <td>0.137623</td>\n",
       "      <td>8407.0</td>\n",
       "      <td>-0.975371</td>\n",
       "      <td>0.868942</td>\n",
       "      <td>9674.979492</td>\n",
       "    </tr>\n",
       "  </tbody>\n",
       "</table>\n",
       "</div>"
      ],
      "text/plain": [
       "                     gem_group     gene          gene_id transcript  \\\n",
       "cell_barcode                                                          \n",
       "AAACCCAAGAAATCCA-27         27     NAF1  ENSG00000145414       P1P2   \n",
       "AAACCCAAGAACTTCC-31         31     BUB1  ENSG00000169679       P1P2   \n",
       "AAACCCAAGAAGCCAC-34         34     UBL5  ENSG00000198258       P1P2   \n",
       "AAACCCAAGAATAGTC-43         43  C9orf16  ENSG00000171159       P1P2   \n",
       "AAACCCAAGACAGCGT-28         28    TIMM9  ENSG00000100575       P1P2   \n",
       "\n",
       "                                       gene_transcript  \\\n",
       "cell_barcode                                             \n",
       "AAACCCAAGAAATCCA-27     5449_NAF1_P1P2_ENSG00000145414   \n",
       "AAACCCAAGAACTTCC-31      935_BUB1_P1P2_ENSG00000169679   \n",
       "AAACCCAAGAAGCCAC-34     9534_UBL5_P1P2_ENSG00000198258   \n",
       "AAACCCAAGAATAGTC-43  1131_C9orf16_P1P2_ENSG00000171159   \n",
       "AAACCCAAGACAGCGT-28    8927_TIMM9_P1P2_ENSG00000100575   \n",
       "\n",
       "                                                               sgID_AB  \\\n",
       "cell_barcode                                                             \n",
       "AAACCCAAGAAATCCA-27  NAF1_+_164087918.23-P1P2|NAF1_-_164087674.23-P1P2   \n",
       "AAACCCAAGAACTTCC-31  BUB1_-_111435363.23-P1P2|BUB1_-_111435372.23-P1P2   \n",
       "AAACCCAAGAAGCCAC-34      UBL5_-_9938639.23-P1P2|UBL5_+_9938801.23-P1P2   \n",
       "AAACCCAAGAATAGTC-43  C9orf16_+_130922603.23-P1P2|C9orf16_+_13092264...   \n",
       "AAACCCAAGACAGCGT-28  TIMM9_-_58893843.23-P1P2|TIMM9_-_58893848.23-P1P2   \n",
       "\n",
       "                     mitopercent  UMI_count  z_gemgroup_UMI  \\\n",
       "cell_barcode                                                  \n",
       "AAACCCAAGAAATCCA-27     0.112083    11438.0        0.013047   \n",
       "AAACCCAAGAACTTCC-31     0.179895     5342.0       -1.522247   \n",
       "AAACCCAAGAAGCCAC-34     0.105287    17305.0        0.384157   \n",
       "AAACCCAAGAATAGTC-43     0.099359    30244.0        3.721912   \n",
       "AAACCCAAGACAGCGT-28     0.137623     8407.0       -0.975371   \n",
       "\n",
       "                     core_scale_factor  core_adjusted_UMI_count  \n",
       "cell_barcode                                                     \n",
       "AAACCCAAGAAATCCA-27           0.813253             14064.512695  \n",
       "AAACCCAAGAACTTCC-31           0.844107              6328.584473  \n",
       "AAACCCAAGAAGCCAC-34           1.091537             15853.792969  \n",
       "AAACCCAAGAATAGTC-43           0.948277             31893.619141  \n",
       "AAACCCAAGACAGCGT-28           0.868942              9674.979492  "
      ]
     },
     "execution_count": 22,
     "metadata": {},
     "output_type": "execute_result"
    }
   ],
   "source": [
    "data_ess.obs.head()"
   ]
  },
  {
   "cell_type": "code",
   "execution_count": 23,
   "metadata": {},
   "outputs": [
    {
     "data": {
      "text/plain": [
       "654"
      ]
     },
     "execution_count": 23,
     "metadata": {},
     "output_type": "execute_result"
    }
   ],
   "source": [
    "len(set(data.obs.index) & set(data_ess.obs.index))"
   ]
  },
  {
   "cell_type": "code",
   "execution_count": null,
   "metadata": {},
   "outputs": [],
   "source": []
  },
  {
   "cell_type": "code",
   "execution_count": 24,
   "metadata": {},
   "outputs": [],
   "source": [
    "data_rpe = ad.read_h5ad('rpe1_normalized_singlecell_01.h5ad')"
   ]
  },
  {
   "cell_type": "code",
   "execution_count": 25,
   "metadata": {},
   "outputs": [
    {
     "data": {
      "text/plain": [
       "(247914, 8749)"
      ]
     },
     "execution_count": 25,
     "metadata": {},
     "output_type": "execute_result"
    }
   ],
   "source": [
    "data_rpe.shape"
   ]
  },
  {
   "cell_type": "code",
   "execution_count": 26,
   "metadata": {},
   "outputs": [
    {
     "data": {
      "text/html": [
       "<div>\n",
       "<style scoped>\n",
       "    .dataframe tbody tr th:only-of-type {\n",
       "        vertical-align: middle;\n",
       "    }\n",
       "\n",
       "    .dataframe tbody tr th {\n",
       "        vertical-align: top;\n",
       "    }\n",
       "\n",
       "    .dataframe thead th {\n",
       "        text-align: right;\n",
       "    }\n",
       "</style>\n",
       "<table border=\"1\" class=\"dataframe\">\n",
       "  <thead>\n",
       "    <tr style=\"text-align: right;\">\n",
       "      <th></th>\n",
       "      <th>gem_group</th>\n",
       "      <th>gene</th>\n",
       "      <th>gene_id</th>\n",
       "      <th>transcript</th>\n",
       "      <th>gene_transcript</th>\n",
       "      <th>sgID_AB</th>\n",
       "      <th>mitopercent</th>\n",
       "      <th>UMI_count</th>\n",
       "      <th>z_gemgroup_UMI</th>\n",
       "      <th>core_scale_factor</th>\n",
       "      <th>core_adjusted_UMI_count</th>\n",
       "    </tr>\n",
       "    <tr>\n",
       "      <th>cell_barcode</th>\n",
       "      <th></th>\n",
       "      <th></th>\n",
       "      <th></th>\n",
       "      <th></th>\n",
       "      <th></th>\n",
       "      <th></th>\n",
       "      <th></th>\n",
       "      <th></th>\n",
       "      <th></th>\n",
       "      <th></th>\n",
       "      <th></th>\n",
       "    </tr>\n",
       "  </thead>\n",
       "  <tbody>\n",
       "    <tr>\n",
       "      <th>AAACCCAAGAAACTAC-53</th>\n",
       "      <td>53</td>\n",
       "      <td>MRPS31</td>\n",
       "      <td>ENSG00000102738</td>\n",
       "      <td>P1P2</td>\n",
       "      <td>5261_MRPS31_P1P2_ENSG00000102738</td>\n",
       "      <td>MRPS31_-_41345123.23-P1P2|MRPS31_+_41345107.23...</td>\n",
       "      <td>0.051790</td>\n",
       "      <td>38405.0</td>\n",
       "      <td>0.065533</td>\n",
       "      <td>2.985979</td>\n",
       "      <td>12861.780273</td>\n",
       "    </tr>\n",
       "    <tr>\n",
       "      <th>AAACCCAAGAAGCCAC-51</th>\n",
       "      <td>51</td>\n",
       "      <td>LRRC37A3</td>\n",
       "      <td>ENSG00000176809</td>\n",
       "      <td>P1P2</td>\n",
       "      <td>4661_LRRC37A3_P1P2_ENSG00000176809</td>\n",
       "      <td>LRRC37A3_+_62915581.23-P1P2|LRRC37A3_-_6291539...</td>\n",
       "      <td>0.048614</td>\n",
       "      <td>12774.0</td>\n",
       "      <td>1.087875</td>\n",
       "      <td>0.721063</td>\n",
       "      <td>17715.509766</td>\n",
       "    </tr>\n",
       "    <tr>\n",
       "      <th>AAACCCAAGAAGCGAA-32</th>\n",
       "      <td>32</td>\n",
       "      <td>SRCAP</td>\n",
       "      <td>ENSG00000080603</td>\n",
       "      <td>P1P2</td>\n",
       "      <td>8397_SRCAP_P1P2_ENSG00000080603</td>\n",
       "      <td>SRCAP_-_30710672.23-P1P2|SRCAP_-_30710513.23-P1P2</td>\n",
       "      <td>0.049437</td>\n",
       "      <td>15353.0</td>\n",
       "      <td>0.571514</td>\n",
       "      <td>0.989524</td>\n",
       "      <td>15515.543945</td>\n",
       "    </tr>\n",
       "    <tr>\n",
       "      <th>AAACCCAAGAATACAC-44</th>\n",
       "      <td>44</td>\n",
       "      <td>WBP1</td>\n",
       "      <td>ENSG00000239779</td>\n",
       "      <td>P1P2</td>\n",
       "      <td>9793_WBP1_P1P2_ENSG00000239779</td>\n",
       "      <td>WBP1_-_74685599.23-P1P2|WBP1_-_74685547.23-P1P2</td>\n",
       "      <td>0.059373</td>\n",
       "      <td>18729.0</td>\n",
       "      <td>0.281205</td>\n",
       "      <td>1.321505</td>\n",
       "      <td>14172.480469</td>\n",
       "    </tr>\n",
       "    <tr>\n",
       "      <th>AAACCCAAGAATCGAT-43</th>\n",
       "      <td>43</td>\n",
       "      <td>RRP12</td>\n",
       "      <td>ENSG00000052749</td>\n",
       "      <td>P1P2</td>\n",
       "      <td>7561_RRP12_P1P2_ENSG00000052749</td>\n",
       "      <td>RRP12_+_99161057.23-P1P2|RRP12_-_99161036.23-P1P2</td>\n",
       "      <td>0.059395</td>\n",
       "      <td>11634.0</td>\n",
       "      <td>0.633577</td>\n",
       "      <td>0.735945</td>\n",
       "      <td>15808.244141</td>\n",
       "    </tr>\n",
       "  </tbody>\n",
       "</table>\n",
       "</div>"
      ],
      "text/plain": [
       "                     gem_group      gene          gene_id transcript  \\\n",
       "cell_barcode                                                           \n",
       "AAACCCAAGAAACTAC-53         53    MRPS31  ENSG00000102738       P1P2   \n",
       "AAACCCAAGAAGCCAC-51         51  LRRC37A3  ENSG00000176809       P1P2   \n",
       "AAACCCAAGAAGCGAA-32         32     SRCAP  ENSG00000080603       P1P2   \n",
       "AAACCCAAGAATACAC-44         44      WBP1  ENSG00000239779       P1P2   \n",
       "AAACCCAAGAATCGAT-43         43     RRP12  ENSG00000052749       P1P2   \n",
       "\n",
       "                                        gene_transcript  \\\n",
       "cell_barcode                                              \n",
       "AAACCCAAGAAACTAC-53    5261_MRPS31_P1P2_ENSG00000102738   \n",
       "AAACCCAAGAAGCCAC-51  4661_LRRC37A3_P1P2_ENSG00000176809   \n",
       "AAACCCAAGAAGCGAA-32     8397_SRCAP_P1P2_ENSG00000080603   \n",
       "AAACCCAAGAATACAC-44      9793_WBP1_P1P2_ENSG00000239779   \n",
       "AAACCCAAGAATCGAT-43     7561_RRP12_P1P2_ENSG00000052749   \n",
       "\n",
       "                                                               sgID_AB  \\\n",
       "cell_barcode                                                             \n",
       "AAACCCAAGAAACTAC-53  MRPS31_-_41345123.23-P1P2|MRPS31_+_41345107.23...   \n",
       "AAACCCAAGAAGCCAC-51  LRRC37A3_+_62915581.23-P1P2|LRRC37A3_-_6291539...   \n",
       "AAACCCAAGAAGCGAA-32  SRCAP_-_30710672.23-P1P2|SRCAP_-_30710513.23-P1P2   \n",
       "AAACCCAAGAATACAC-44    WBP1_-_74685599.23-P1P2|WBP1_-_74685547.23-P1P2   \n",
       "AAACCCAAGAATCGAT-43  RRP12_+_99161057.23-P1P2|RRP12_-_99161036.23-P1P2   \n",
       "\n",
       "                     mitopercent  UMI_count  z_gemgroup_UMI  \\\n",
       "cell_barcode                                                  \n",
       "AAACCCAAGAAACTAC-53     0.051790    38405.0        0.065533   \n",
       "AAACCCAAGAAGCCAC-51     0.048614    12774.0        1.087875   \n",
       "AAACCCAAGAAGCGAA-32     0.049437    15353.0        0.571514   \n",
       "AAACCCAAGAATACAC-44     0.059373    18729.0        0.281205   \n",
       "AAACCCAAGAATCGAT-43     0.059395    11634.0        0.633577   \n",
       "\n",
       "                     core_scale_factor  core_adjusted_UMI_count  \n",
       "cell_barcode                                                     \n",
       "AAACCCAAGAAACTAC-53           2.985979             12861.780273  \n",
       "AAACCCAAGAAGCCAC-51           0.721063             17715.509766  \n",
       "AAACCCAAGAAGCGAA-32           0.989524             15515.543945  \n",
       "AAACCCAAGAATACAC-44           1.321505             14172.480469  \n",
       "AAACCCAAGAATCGAT-43           0.735945             15808.244141  "
      ]
     },
     "execution_count": 26,
     "metadata": {},
     "output_type": "execute_result"
    }
   ],
   "source": [
    "data_rpe.obs.head()"
   ]
  },
  {
   "cell_type": "code",
   "execution_count": 27,
   "metadata": {},
   "outputs": [
    {
     "data": {
      "text/plain": [
       "475"
      ]
     },
     "execution_count": 27,
     "metadata": {},
     "output_type": "execute_result"
    }
   ],
   "source": [
    "len(set(data.obs.index) & set(data_rpe.obs.index))"
   ]
  },
  {
   "cell_type": "code",
   "execution_count": 28,
   "metadata": {},
   "outputs": [
    {
     "data": {
      "text/plain": [
       "380"
      ]
     },
     "execution_count": 28,
     "metadata": {},
     "output_type": "execute_result"
    }
   ],
   "source": [
    "len(set(data_ess.obs.index) & set(data_rpe.obs.index))"
   ]
  },
  {
   "cell_type": "code",
   "execution_count": 34,
   "metadata": {},
   "outputs": [
    {
     "data": {
      "text/plain": [
       "7094"
      ]
     },
     "execution_count": 34,
     "metadata": {},
     "output_type": "execute_result"
    }
   ],
   "source": [
    "len(set(data.var.index) & set(data_rpe.var.index))"
   ]
  },
  {
   "cell_type": "code",
   "execution_count": 35,
   "metadata": {},
   "outputs": [
    {
     "data": {
      "text/plain": [
       "7226"
      ]
     },
     "execution_count": 35,
     "metadata": {},
     "output_type": "execute_result"
    }
   ],
   "source": [
    "len(set(data_ess.var.index) & set(data_rpe.var.index))"
   ]
  },
  {
   "cell_type": "code",
   "execution_count": 29,
   "metadata": {},
   "outputs": [],
   "source": [
    "per_gen = data.obs['gene'].unique()\n",
    "per_ess = data_ess.obs['gene'].unique()\n",
    "per_rpe = data_rpe.obs['gene'].unique()"
   ]
  },
  {
   "cell_type": "code",
   "execution_count": 33,
   "metadata": {},
   "outputs": [
    {
     "data": {
      "text/plain": [
       "(2054, 2391, 2056)"
      ]
     },
     "execution_count": 33,
     "metadata": {},
     "output_type": "execute_result"
    }
   ],
   "source": [
    "len(set(per_gen) & set(per_ess)), len(set(per_gen) & set(per_rpe)), len(set(per_rpe) & set(per_ess))"
   ]
  },
  {
   "cell_type": "code",
   "execution_count": 32,
   "metadata": {},
   "outputs": [
    {
     "data": {
      "text/plain": [
       "(9867, 2058, 2394)"
      ]
     },
     "execution_count": 32,
     "metadata": {},
     "output_type": "execute_result"
    }
   ],
   "source": [
    "len(per_gen), len(per_ess), len(per_rpe)"
   ]
  },
  {
   "cell_type": "markdown",
   "metadata": {},
   "source": [
    "# Process data using Scanpy"
   ]
  },
  {
   "cell_type": "code",
   "execution_count": 4,
   "metadata": {},
   "outputs": [],
   "source": [
    "adata = ad.read_h5ad('K562_gwps_normalized_singlecell_01.h5ad')"
   ]
  },
  {
   "cell_type": "code",
   "execution_count": 5,
   "metadata": {},
   "outputs": [],
   "source": [
    "mean_0 = adata.X.mean(0)"
   ]
  },
  {
   "cell_type": "code",
   "execution_count": 6,
   "metadata": {},
   "outputs": [],
   "source": [
    "obs_data = adata.obs\n",
    "var_data = adata.var\n",
    "x_data = adata.X"
   ]
  },
  {
   "cell_type": "code",
   "execution_count": 7,
   "metadata": {},
   "outputs": [],
   "source": [
    "idx_nan = np.where(np.isnan(mean_0))[0]\n",
    "idx_notnan = np.setdiff1d(list(range(adata.shape[1])), idx_nan)"
   ]
  },
  {
   "cell_type": "code",
   "execution_count": 8,
   "metadata": {},
   "outputs": [
    {
     "data": {
      "text/plain": [
       "(8175, 73)"
      ]
     },
     "execution_count": 8,
     "metadata": {},
     "output_type": "execute_result"
    }
   ],
   "source": [
    "len(idx_notnan), len(idx_nan)"
   ]
  },
  {
   "cell_type": "code",
   "execution_count": 9,
   "metadata": {},
   "outputs": [],
   "source": [
    "x_data = x_data[:, idx_notnan]"
   ]
  },
  {
   "cell_type": "code",
   "execution_count": 10,
   "metadata": {},
   "outputs": [],
   "source": [
    "adata = AnnData(X = x_data, var = var_data.iloc[idx_notnan, :], obs = obs_data)\n",
    "#adata = adata[:, idx_notnan].copy()"
   ]
  },
  {
   "cell_type": "code",
   "execution_count": 53,
   "metadata": {},
   "outputs": [
    {
     "data": {
      "text/plain": [
       "13.7582246"
      ]
     },
     "execution_count": 53,
     "metadata": {},
     "output_type": "execute_result"
    }
   ],
   "source": [
    "6879.1123 / 500 "
   ]
  },
  {
   "cell_type": "code",
   "execution_count": 11,
   "metadata": {},
   "outputs": [],
   "source": [
    "#x_sub = adata_sub.X\n",
    "x_data /= 500"
   ]
  },
  {
   "cell_type": "code",
   "execution_count": 12,
   "metadata": {},
   "outputs": [],
   "source": [
    "# x_sub /= 10"
   ]
  },
  {
   "cell_type": "code",
   "execution_count": 13,
   "metadata": {},
   "outputs": [
    {
     "data": {
      "text/plain": [
       "(13.7582245, -0.0128424)"
      ]
     },
     "execution_count": 13,
     "metadata": {},
     "output_type": "execute_result"
    }
   ],
   "source": [
    "# adata_sub.X = x_sub\n",
    "# adata_sub.X.max()\n",
    "adata.X = x_data\n",
    "adata.X.max(), adata.X.min()"
   ]
  },
  {
   "cell_type": "code",
   "execution_count": 14,
   "metadata": {},
   "outputs": [
    {
     "name": "stdout",
     "output_type": "stream",
     "text": [
      "WARNING: If you miss a compact list, please try `print_header`!\n",
      "The `sinfo` package has changed name and is now called `session_info` to become more discoverable and self-explanatory. The `sinfo` PyPI package will be kept around to avoid breaking old installs and you can downgrade to 0.3.2 if you want to use it without seeing this message. For the latest features and bug fixes, please install `session_info` instead. The usage and defaults also changed slightly, so please review the latest README at https://gitlab.com/joelostblom/session_info.\n",
      "-----\n",
      "anndata     0.7.5\n",
      "scanpy      1.8.1\n",
      "sinfo       0.3.4\n",
      "-----\n",
      "PIL                 7.2.0\n",
      "backcall            0.2.0\n",
      "bottleneck          1.3.2\n",
      "cffi                1.14.0\n",
      "cloudpickle         1.5.0\n",
      "colorama            0.4.3\n",
      "cycler              0.10.0\n",
      "cython_runtime      NA\n",
      "cytoolz             0.10.1\n",
      "dask                2.20.0\n",
      "dateutil            2.8.1\n",
      "decorator           4.4.2\n",
      "google              NA\n",
      "h5py                2.10.0\n",
      "ipykernel           5.3.2\n",
      "ipython_genutils    0.2.0\n",
      "jedi                0.17.1\n",
      "joblib              0.16.0\n",
      "kiwisolver          1.2.0\n",
      "llvmlite            0.33.0+1.g022ab0f\n",
      "matplotlib          3.2.2\n",
      "mkl                 2.3.0\n",
      "mpl_toolkits        NA\n",
      "natsort             7.1.0\n",
      "numba               0.50.1\n",
      "numexpr             2.7.1\n",
      "numpy               1.18.5\n",
      "packaging           20.4\n",
      "pandas              1.0.5\n",
      "parso               0.7.0\n",
      "pexpect             4.8.0\n",
      "pickleshare         0.7.5\n",
      "pkg_resources       NA\n",
      "prompt_toolkit      3.0.5\n",
      "psutil              5.7.0\n",
      "ptyprocess          0.6.0\n",
      "pygments            2.6.1\n",
      "pyparsing           2.4.7\n",
      "pytz                2020.1\n",
      "scipy               1.4.1\n",
      "six                 1.15.0\n",
      "sklearn             0.23.1\n",
      "sphinxcontrib       NA\n",
      "storemagic          NA\n",
      "tables              3.6.1\n",
      "tblib               1.6.0\n",
      "tlz                 0.10.1\n",
      "toolz               0.10.0\n",
      "tornado             6.1\n",
      "traitlets           4.3.3\n",
      "typing_extensions   NA\n",
      "wcwidth             0.2.5\n",
      "yaml                5.3.1\n",
      "zmq                 19.0.1\n",
      "zope                NA\n",
      "-----\n",
      "IPython             7.16.1\n",
      "jupyter_client      6.1.6\n",
      "jupyter_core        4.6.3\n",
      "jupyterlab          2.2.10\n",
      "notebook            6.4.1\n",
      "-----\n",
      "Python 3.8.3 (default, Jul  2 2020, 16:21:59) [GCC 7.3.0]\n",
      "Linux-3.10.0-1160.45.1.el7.x86_64-x86_64-with-glibc2.10\n",
      "36 logical CPU cores, x86_64\n",
      "-----\n",
      "Session information updated at 2022-03-17 16:50\n",
      "\n"
     ]
    }
   ],
   "source": [
    "sc.settings.verbosity = 3\n",
    "sc.logging.print_versions()"
   ]
  },
  {
   "cell_type": "code",
   "execution_count": 15,
   "metadata": {},
   "outputs": [],
   "source": [
    "# sc.settings.set_figure_params(dpi=80)\n",
    "# sc.pl.highest_expr_genes(adata_sub, n_top = 20)"
   ]
  },
  {
   "cell_type": "code",
   "execution_count": 16,
   "metadata": {},
   "outputs": [
    {
     "name": "stdout",
     "output_type": "stream",
     "text": [
      "If you pass `n_top_genes`, all cutoffs are ignored.\n",
      "extracting highly variable genes\n"
     ]
    },
    {
     "name": "stderr",
     "output_type": "stream",
     "text": [
      "/home/hengshi/.local/lib/python3.8/site-packages/scanpy/preprocessing/_highly_variable_genes.py:208: RuntimeWarning: invalid value encountered in log\n",
      "  dispersion = np.log(dispersion)\n"
     ]
    },
    {
     "name": "stdout",
     "output_type": "stream",
     "text": [
      "    finished (0:03:55)\n",
      "--> added\n",
      "    'highly_variable', boolean vector (adata.var)\n",
      "    'means', float vector (adata.var)\n",
      "    'dispersions', float vector (adata.var)\n",
      "    'dispersions_norm', float vector (adata.var)\n"
     ]
    }
   ],
   "source": [
    "sc.pp.highly_variable_genes(adata, n_top_genes=2000)\n"
   ]
  },
  {
   "cell_type": "code",
   "execution_count": 32,
   "metadata": {},
   "outputs": [],
   "source": [
    "idx_select_gene = np.where(adata.var['highly_variable'])[0]"
   ]
  },
  {
   "cell_type": "code",
   "execution_count": 28,
   "metadata": {},
   "outputs": [],
   "source": [
    "adata.var[adata.var['highly_variable']].to_csv('selected_gwps_normalized_singlecell_01.csv')"
   ]
  },
  {
   "cell_type": "code",
   "execution_count": 33,
   "metadata": {},
   "outputs": [],
   "source": [
    "adata = adata[:, idx_select_gene]"
   ]
  },
  {
   "cell_type": "code",
   "execution_count": 35,
   "metadata": {},
   "outputs": [],
   "source": [
    "adata.write('K562_gwps_normalized_singlecell_01_genesFiltered.h5ad')"
   ]
  },
  {
   "cell_type": "code",
   "execution_count": null,
   "metadata": {},
   "outputs": [],
   "source": []
  },
  {
   "cell_type": "code",
   "execution_count": 68,
   "metadata": {},
   "outputs": [],
   "source": [
    "# highly_variable_genes\n",
    "# from scipy import sparse\n",
    "# try:\n",
    "#     import dask.array as da\n",
    "# except ImportError:\n",
    "#     da = None\n",
    "    \n",
    "# def materialize_as_ndarray(a):\n",
    "#     \"\"\"Convert distributed arrays to ndarrays.\"\"\"\n",
    "#     if type(a) in (list, tuple):\n",
    "#         if da is not None and any(isinstance(arr, da.Array) for arr in a):\n",
    "#             return da.compute(*a, sync=True)\n",
    "#         return tuple(np.asarray(arr) for arr in a)\n",
    "#     return np.asarray(a)\n",
    "\n",
    "# def _get_mean_var(X, *, axis=0):\n",
    "#     if sparse.issparse(X):\n",
    "#         mean, var = sparse_mean_variance_axis(X, axis=axis)\n",
    "#     else:\n",
    "#         mean = np.mean(X, axis=axis, dtype=np.float64)\n",
    "#         mean_sq = np.multiply(X, X).mean(axis=axis, dtype=np.float64)\n",
    "#         var = mean_sq - mean ** 2\n",
    "#     # enforce R convention (unbiased estimator) for variance\n",
    "#     var *= X.shape[axis] / (X.shape[axis] - 1)\n",
    "#     return mean, var"
   ]
  },
  {
   "cell_type": "markdown",
   "metadata": {},
   "source": [
    "## Data x perturbations"
   ]
  },
  {
   "cell_type": "code",
   "execution_count": 4,
   "metadata": {},
   "outputs": [],
   "source": [
    "adata = ad.read_h5ad('K562_gwps_normalized_singlecell_01_genesFiltered.h5ad')"
   ]
  },
  {
   "cell_type": "code",
   "execution_count": 5,
   "metadata": {},
   "outputs": [
    {
     "data": {
      "text/html": [
       "<div>\n",
       "<style scoped>\n",
       "    .dataframe tbody tr th:only-of-type {\n",
       "        vertical-align: middle;\n",
       "    }\n",
       "\n",
       "    .dataframe tbody tr th {\n",
       "        vertical-align: top;\n",
       "    }\n",
       "\n",
       "    .dataframe thead th {\n",
       "        text-align: right;\n",
       "    }\n",
       "</style>\n",
       "<table border=\"1\" class=\"dataframe\">\n",
       "  <thead>\n",
       "    <tr style=\"text-align: right;\">\n",
       "      <th></th>\n",
       "      <th>gem_group</th>\n",
       "      <th>gene</th>\n",
       "      <th>gene_id</th>\n",
       "      <th>transcript</th>\n",
       "      <th>gene_transcript</th>\n",
       "      <th>sgID_AB</th>\n",
       "      <th>mitopercent</th>\n",
       "      <th>UMI_count</th>\n",
       "      <th>z_gemgroup_UMI</th>\n",
       "      <th>core_scale_factor</th>\n",
       "      <th>core_adjusted_UMI_count</th>\n",
       "    </tr>\n",
       "    <tr>\n",
       "      <th>cell_barcode</th>\n",
       "      <th></th>\n",
       "      <th></th>\n",
       "      <th></th>\n",
       "      <th></th>\n",
       "      <th></th>\n",
       "      <th></th>\n",
       "      <th></th>\n",
       "      <th></th>\n",
       "      <th></th>\n",
       "      <th></th>\n",
       "      <th></th>\n",
       "    </tr>\n",
       "  </thead>\n",
       "  <tbody>\n",
       "    <tr>\n",
       "      <th>AAACCCAAGAAACCAT-157</th>\n",
       "      <td>157</td>\n",
       "      <td>CTSC</td>\n",
       "      <td>ENSG00000109861</td>\n",
       "      <td>P1P2</td>\n",
       "      <td>1946_CTSC_P1P2_ENSG00000109861</td>\n",
       "      <td>CTSC_-_88070848.23-P1P2|CTSC_-_88070918.23-P1P2</td>\n",
       "      <td>0.088177</td>\n",
       "      <td>14709.0</td>\n",
       "      <td>0.470687</td>\n",
       "      <td>1.051176</td>\n",
       "      <td>13992.900391</td>\n",
       "    </tr>\n",
       "    <tr>\n",
       "      <th>AAACCCAAGAAACCAT-207</th>\n",
       "      <td>207</td>\n",
       "      <td>CWC25</td>\n",
       "      <td>ENSG00000273559</td>\n",
       "      <td>P1P2</td>\n",
       "      <td>1973_CWC25_P1P2_ENSG00000273559</td>\n",
       "      <td>CWC25_+_36981555.23-P1P2|CWC25_+_36981567.23-P1P2</td>\n",
       "      <td>0.114342</td>\n",
       "      <td>16162.0</td>\n",
       "      <td>0.824790</td>\n",
       "      <td>1.074744</td>\n",
       "      <td>15038.004883</td>\n",
       "    </tr>\n",
       "    <tr>\n",
       "      <th>AAACCCAAGAAACCAT-29</th>\n",
       "      <td>29</td>\n",
       "      <td>PDE4DIP</td>\n",
       "      <td>ENSG00000178104</td>\n",
       "      <td>ENST00000313431.9</td>\n",
       "      <td>6168_PDE4DIP_ENST00000313431.9_ENSG00000178104</td>\n",
       "      <td>PDE4DIP_+_144932474.23-ENST00000313431.9|PDE4D...</td>\n",
       "      <td>0.107157</td>\n",
       "      <td>33297.0</td>\n",
       "      <td>2.627126</td>\n",
       "      <td>1.472444</td>\n",
       "      <td>22613.423828</td>\n",
       "    </tr>\n",
       "    <tr>\n",
       "      <th>AAACCCAAGAAAGCGA-149</th>\n",
       "      <td>149</td>\n",
       "      <td>ZZEF1</td>\n",
       "      <td>ENSG00000074755</td>\n",
       "      <td>P1P2</td>\n",
       "      <td>10745_ZZEF1_P1P2_ENSG00000074755</td>\n",
       "      <td>ZZEF1_+_4046247.23-P1P2|ZZEF1_+_4046255.23-P1P2</td>\n",
       "      <td>0.143107</td>\n",
       "      <td>7435.0</td>\n",
       "      <td>0.918149</td>\n",
       "      <td>0.480401</td>\n",
       "      <td>15476.669922</td>\n",
       "    </tr>\n",
       "    <tr>\n",
       "      <th>AAACCCAAGAAATCCA-172</th>\n",
       "      <td>172</td>\n",
       "      <td>SNAPIN</td>\n",
       "      <td>ENSG00000143553</td>\n",
       "      <td>P1P2</td>\n",
       "      <td>8210_SNAPIN_P1P2_ENSG00000143553</td>\n",
       "      <td>SNAPIN_+_153631238.23-P1P2|SNAPIN_-_153631252....</td>\n",
       "      <td>0.130754</td>\n",
       "      <td>7755.0</td>\n",
       "      <td>-0.230920</td>\n",
       "      <td>0.695649</td>\n",
       "      <td>11147.856445</td>\n",
       "    </tr>\n",
       "  </tbody>\n",
       "</table>\n",
       "</div>"
      ],
      "text/plain": [
       "                      gem_group     gene          gene_id         transcript  \\\n",
       "cell_barcode                                                                   \n",
       "AAACCCAAGAAACCAT-157        157     CTSC  ENSG00000109861               P1P2   \n",
       "AAACCCAAGAAACCAT-207        207    CWC25  ENSG00000273559               P1P2   \n",
       "AAACCCAAGAAACCAT-29          29  PDE4DIP  ENSG00000178104  ENST00000313431.9   \n",
       "AAACCCAAGAAAGCGA-149        149    ZZEF1  ENSG00000074755               P1P2   \n",
       "AAACCCAAGAAATCCA-172        172   SNAPIN  ENSG00000143553               P1P2   \n",
       "\n",
       "                                                     gene_transcript  \\\n",
       "cell_barcode                                                           \n",
       "AAACCCAAGAAACCAT-157                  1946_CTSC_P1P2_ENSG00000109861   \n",
       "AAACCCAAGAAACCAT-207                 1973_CWC25_P1P2_ENSG00000273559   \n",
       "AAACCCAAGAAACCAT-29   6168_PDE4DIP_ENST00000313431.9_ENSG00000178104   \n",
       "AAACCCAAGAAAGCGA-149                10745_ZZEF1_P1P2_ENSG00000074755   \n",
       "AAACCCAAGAAATCCA-172                8210_SNAPIN_P1P2_ENSG00000143553   \n",
       "\n",
       "                                                                sgID_AB  \\\n",
       "cell_barcode                                                              \n",
       "AAACCCAAGAAACCAT-157    CTSC_-_88070848.23-P1P2|CTSC_-_88070918.23-P1P2   \n",
       "AAACCCAAGAAACCAT-207  CWC25_+_36981555.23-P1P2|CWC25_+_36981567.23-P1P2   \n",
       "AAACCCAAGAAACCAT-29   PDE4DIP_+_144932474.23-ENST00000313431.9|PDE4D...   \n",
       "AAACCCAAGAAAGCGA-149    ZZEF1_+_4046247.23-P1P2|ZZEF1_+_4046255.23-P1P2   \n",
       "AAACCCAAGAAATCCA-172  SNAPIN_+_153631238.23-P1P2|SNAPIN_-_153631252....   \n",
       "\n",
       "                      mitopercent  UMI_count  z_gemgroup_UMI  \\\n",
       "cell_barcode                                                   \n",
       "AAACCCAAGAAACCAT-157     0.088177    14709.0        0.470687   \n",
       "AAACCCAAGAAACCAT-207     0.114342    16162.0        0.824790   \n",
       "AAACCCAAGAAACCAT-29      0.107157    33297.0        2.627126   \n",
       "AAACCCAAGAAAGCGA-149     0.143107     7435.0        0.918149   \n",
       "AAACCCAAGAAATCCA-172     0.130754     7755.0       -0.230920   \n",
       "\n",
       "                      core_scale_factor  core_adjusted_UMI_count  \n",
       "cell_barcode                                                      \n",
       "AAACCCAAGAAACCAT-157           1.051176             13992.900391  \n",
       "AAACCCAAGAAACCAT-207           1.074744             15038.004883  \n",
       "AAACCCAAGAAACCAT-29            1.472444             22613.423828  \n",
       "AAACCCAAGAAAGCGA-149           0.480401             15476.669922  \n",
       "AAACCCAAGAAATCCA-172           0.695649             11147.856445  "
      ]
     },
     "execution_count": 5,
     "metadata": {},
     "output_type": "execute_result"
    }
   ],
   "source": [
    "adata.obs.head()"
   ]
  },
  {
   "cell_type": "code",
   "execution_count": 6,
   "metadata": {},
   "outputs": [
    {
     "data": {
      "text/html": [
       "<div>\n",
       "<style scoped>\n",
       "    .dataframe tbody tr th:only-of-type {\n",
       "        vertical-align: middle;\n",
       "    }\n",
       "\n",
       "    .dataframe tbody tr th {\n",
       "        vertical-align: top;\n",
       "    }\n",
       "\n",
       "    .dataframe thead th {\n",
       "        text-align: right;\n",
       "    }\n",
       "</style>\n",
       "<table border=\"1\" class=\"dataframe\">\n",
       "  <thead>\n",
       "    <tr style=\"text-align: right;\">\n",
       "      <th></th>\n",
       "      <th>gene_name</th>\n",
       "      <th>chr</th>\n",
       "      <th>start</th>\n",
       "      <th>end</th>\n",
       "      <th>class</th>\n",
       "      <th>strand</th>\n",
       "      <th>length</th>\n",
       "      <th>in_matrix</th>\n",
       "      <th>mean</th>\n",
       "      <th>std</th>\n",
       "      <th>cv</th>\n",
       "      <th>fano</th>\n",
       "      <th>highly_variable</th>\n",
       "      <th>means</th>\n",
       "      <th>dispersions</th>\n",
       "      <th>dispersions_norm</th>\n",
       "    </tr>\n",
       "    <tr>\n",
       "      <th>gene_id</th>\n",
       "      <th></th>\n",
       "      <th></th>\n",
       "      <th></th>\n",
       "      <th></th>\n",
       "      <th></th>\n",
       "      <th></th>\n",
       "      <th></th>\n",
       "      <th></th>\n",
       "      <th></th>\n",
       "      <th></th>\n",
       "      <th></th>\n",
       "      <th></th>\n",
       "      <th></th>\n",
       "      <th></th>\n",
       "      <th></th>\n",
       "      <th></th>\n",
       "    </tr>\n",
       "  </thead>\n",
       "  <tbody>\n",
       "    <tr>\n",
       "      <th>ENSG00000169972</th>\n",
       "      <td>PUSL1</td>\n",
       "      <td>chr1</td>\n",
       "      <td>1308597</td>\n",
       "      <td>1311677</td>\n",
       "      <td>gene_version12</td>\n",
       "      <td>+</td>\n",
       "      <td>3080</td>\n",
       "      <td>True</td>\n",
       "      <td>0.310853</td>\n",
       "      <td>0.586651</td>\n",
       "      <td>1.887228</td>\n",
       "      <td>1.107145</td>\n",
       "      <td>True</td>\n",
       "      <td>6.519216e-06</td>\n",
       "      <td>-0.443176</td>\n",
       "      <td>0.849320</td>\n",
       "    </tr>\n",
       "    <tr>\n",
       "      <th>ENSG00000127054</th>\n",
       "      <td>INTS11</td>\n",
       "      <td>chr1</td>\n",
       "      <td>1311585</td>\n",
       "      <td>1324691</td>\n",
       "      <td>gene_version20</td>\n",
       "      <td>-</td>\n",
       "      <td>13106</td>\n",
       "      <td>True</td>\n",
       "      <td>0.534965</td>\n",
       "      <td>0.785651</td>\n",
       "      <td>1.468603</td>\n",
       "      <td>1.153809</td>\n",
       "      <td>True</td>\n",
       "      <td>1.298477e-06</td>\n",
       "      <td>1.164813</td>\n",
       "      <td>2.595036</td>\n",
       "    </tr>\n",
       "    <tr>\n",
       "      <th>ENSG00000107404</th>\n",
       "      <td>DVL1</td>\n",
       "      <td>chr1</td>\n",
       "      <td>1335276</td>\n",
       "      <td>1349418</td>\n",
       "      <td>gene_version20</td>\n",
       "      <td>-</td>\n",
       "      <td>14142</td>\n",
       "      <td>True</td>\n",
       "      <td>0.187530</td>\n",
       "      <td>0.446764</td>\n",
       "      <td>2.382356</td>\n",
       "      <td>1.064350</td>\n",
       "      <td>True</td>\n",
       "      <td>2.326880e-06</td>\n",
       "      <td>0.585244</td>\n",
       "      <td>1.965826</td>\n",
       "    </tr>\n",
       "    <tr>\n",
       "      <th>ENSG00000160072</th>\n",
       "      <td>ATAD3B</td>\n",
       "      <td>chr1</td>\n",
       "      <td>1471765</td>\n",
       "      <td>1497848</td>\n",
       "      <td>gene_version20</td>\n",
       "      <td>+</td>\n",
       "      <td>26083</td>\n",
       "      <td>True</td>\n",
       "      <td>0.386857</td>\n",
       "      <td>0.677001</td>\n",
       "      <td>1.750003</td>\n",
       "      <td>1.184754</td>\n",
       "      <td>True</td>\n",
       "      <td>3.768160e-07</td>\n",
       "      <td>2.396668</td>\n",
       "      <td>3.932401</td>\n",
       "    </tr>\n",
       "    <tr>\n",
       "      <th>ENSG00000008128</th>\n",
       "      <td>CDK11A</td>\n",
       "      <td>chr1</td>\n",
       "      <td>1702379</td>\n",
       "      <td>1724357</td>\n",
       "      <td>gene_version23</td>\n",
       "      <td>-</td>\n",
       "      <td>21978</td>\n",
       "      <td>True</td>\n",
       "      <td>0.270669</td>\n",
       "      <td>0.541495</td>\n",
       "      <td>2.000580</td>\n",
       "      <td>1.083304</td>\n",
       "      <td>True</td>\n",
       "      <td>1.045878e-05</td>\n",
       "      <td>-0.896415</td>\n",
       "      <td>0.357261</td>\n",
       "    </tr>\n",
       "  </tbody>\n",
       "</table>\n",
       "</div>"
      ],
      "text/plain": [
       "                gene_name   chr    start      end           class strand  \\\n",
       "gene_id                                                                    \n",
       "ENSG00000169972     PUSL1  chr1  1308597  1311677  gene_version12      +   \n",
       "ENSG00000127054    INTS11  chr1  1311585  1324691  gene_version20      -   \n",
       "ENSG00000107404      DVL1  chr1  1335276  1349418  gene_version20      -   \n",
       "ENSG00000160072    ATAD3B  chr1  1471765  1497848  gene_version20      +   \n",
       "ENSG00000008128    CDK11A  chr1  1702379  1724357  gene_version23      -   \n",
       "\n",
       "                 length  in_matrix      mean       std        cv      fano  \\\n",
       "gene_id                                                                      \n",
       "ENSG00000169972    3080       True  0.310853  0.586651  1.887228  1.107145   \n",
       "ENSG00000127054   13106       True  0.534965  0.785651  1.468603  1.153809   \n",
       "ENSG00000107404   14142       True  0.187530  0.446764  2.382356  1.064350   \n",
       "ENSG00000160072   26083       True  0.386857  0.677001  1.750003  1.184754   \n",
       "ENSG00000008128   21978       True  0.270669  0.541495  2.000580  1.083304   \n",
       "\n",
       "                 highly_variable         means  dispersions  dispersions_norm  \n",
       "gene_id                                                                        \n",
       "ENSG00000169972             True  6.519216e-06    -0.443176          0.849320  \n",
       "ENSG00000127054             True  1.298477e-06     1.164813          2.595036  \n",
       "ENSG00000107404             True  2.326880e-06     0.585244          1.965826  \n",
       "ENSG00000160072             True  3.768160e-07     2.396668          3.932401  \n",
       "ENSG00000008128             True  1.045878e-05    -0.896415          0.357261  "
      ]
     },
     "execution_count": 6,
     "metadata": {},
     "output_type": "execute_result"
    }
   ],
   "source": [
    "adata.var.head()"
   ]
  },
  {
   "cell_type": "code",
   "execution_count": 7,
   "metadata": {},
   "outputs": [
    {
     "data": {
      "text/plain": [
       "(1989578, 2000)"
      ]
     },
     "execution_count": 7,
     "metadata": {},
     "output_type": "execute_result"
    }
   ],
   "source": [
    "adata.shape"
   ]
  },
  {
   "cell_type": "code",
   "execution_count": 20,
   "metadata": {},
   "outputs": [],
   "source": [
    "perturb_arr = np.array(list(adata.obs['gene']))\n",
    "perturb_uni = np.unique(perturb_arr)"
   ]
  },
  {
   "cell_type": "code",
   "execution_count": 22,
   "metadata": {},
   "outputs": [],
   "source": [
    "perturb_freq = adata.obs['gene'].value_counts()"
   ]
  },
  {
   "cell_type": "code",
   "execution_count": 23,
   "metadata": {},
   "outputs": [
    {
     "data": {
      "text/plain": [
       "non-targeting    75328\n",
       "RPL3              1963\n",
       "PINK1             1745\n",
       "DUSP9             1351\n",
       "RAP1GAP           1270\n",
       "                 ...  \n",
       "FECH                 6\n",
       "ZNF830               5\n",
       "OGDH                 4\n",
       "LIG1                 3\n",
       "ZNF774               2\n",
       "Name: gene, Length: 9867, dtype: int64"
      ]
     },
     "execution_count": 23,
     "metadata": {},
     "output_type": "execute_result"
    }
   ],
   "source": [
    "perturb_freq"
   ]
  },
  {
   "cell_type": "code",
   "execution_count": 34,
   "metadata": {},
   "outputs": [
    {
     "data": {
      "text/plain": [
       "array(['A1BG', 'AAAS', 'AACS', ..., 'ZYX', 'ZZEF1', 'non-targeting'],\n",
       "      dtype='<U14')"
      ]
     },
     "execution_count": 34,
     "metadata": {},
     "output_type": "execute_result"
    }
   ],
   "source": [
    "perturb_uni"
   ]
  },
  {
   "cell_type": "code",
   "execution_count": 26,
   "metadata": {},
   "outputs": [
    {
     "data": {
      "text/plain": [
       "((1989578,), (1989578, 2000))"
      ]
     },
     "execution_count": 26,
     "metadata": {},
     "output_type": "execute_result"
    }
   ],
   "source": [
    "adata.obs.index.unique().shape, adata.shape"
   ]
  },
  {
   "cell_type": "code",
   "execution_count": 28,
   "metadata": {},
   "outputs": [
    {
     "data": {
      "text/plain": [
       "[]"
      ]
     },
     "execution_count": 28,
     "metadata": {},
     "output_type": "execute_result"
    }
   ],
   "source": [
    "[i for i in range(len(perturb_uni)) if ',' in perturb_uni[i]]"
   ]
  },
  {
   "cell_type": "code",
   "execution_count": 33,
   "metadata": {},
   "outputs": [],
   "source": [
    "path_data = '/nfs/turbo/umms-welchjd/hengshi/GAN/data/Genotype/sparse_gene_anno_matrix.npz'\n",
    "data_npz = load_npz(path_data).toarray()\n",
    "path_geneanno = \"/nfs/turbo/umms-welchjd/hengshi/GAN/data/Genotype/\"\n",
    "gene_data = np.load(os.path.join(path_geneanno, 'gene.npy'))"
   ]
  },
  {
   "cell_type": "code",
   "execution_count": 35,
   "metadata": {},
   "outputs": [],
   "source": [
    "indices_with_anno = []\n",
    "indices_lib = []\n",
    "\n",
    "for i in range(perturb_uni.shape[0]):\n",
    "    gene = perturb_uni[i]\n",
    "    indice = np.where(gene_data == gene)[0]\n",
    "    \n",
    "    if len(indice) != 0:\n",
    "        indices_with_anno.append(i)\n",
    "        indices_lib.append(indice[0])"
   ]
  },
  {
   "cell_type": "code",
   "execution_count": 37,
   "metadata": {},
   "outputs": [
    {
     "data": {
      "text/plain": [
       "(9499, 9867)"
      ]
     },
     "execution_count": 37,
     "metadata": {},
     "output_type": "execute_result"
    }
   ],
   "source": [
    "len(set(gene_data) & set(perturb_uni)), len(perturb_uni)"
   ]
  },
  {
   "cell_type": "code",
   "execution_count": 38,
   "metadata": {},
   "outputs": [
    {
     "data": {
      "text/plain": [
       "['RTL8C',\n",
       " 'LRRC58',\n",
       " 'C2orf69',\n",
       " 'SNX29',\n",
       " 'RPL17-C18orf32',\n",
       " 'WARS',\n",
       " 'CCDC71',\n",
       " 'C21orf58',\n",
       " 'C16orf86',\n",
       " 'PAGE2B',\n",
       " 'C11orf74',\n",
       " 'CCDC127',\n",
       " 'HIST1H4J',\n",
       " 'C12orf76',\n",
       " 'DHRS12',\n",
       " 'FAM193A',\n",
       " 'C16orf58',\n",
       " 'PROSER1',\n",
       " 'HIST1H4H',\n",
       " 'TTC31',\n",
       " 'HIST1H4E',\n",
       " 'GPALPP1',\n",
       " 'WDR60',\n",
       " 'C1orf35',\n",
       " 'RPS6KL1',\n",
       " 'SFT2D3',\n",
       " 'TMEM273',\n",
       " 'ZZEF1',\n",
       " 'TMEM62',\n",
       " 'HIST2H3D',\n",
       " 'HIST1H2BE',\n",
       " 'CCDC84',\n",
       " 'WDR89',\n",
       " 'FAM171A2',\n",
       " 'C19orf81',\n",
       " 'TMEM44',\n",
       " 'CD3EAP',\n",
       " 'AHSA2',\n",
       " 'C1orf122',\n",
       " 'DCAF4L2',\n",
       " 'C22orf46',\n",
       " 'PNMA8A',\n",
       " 'PRR12',\n",
       " 'PHTF1',\n",
       " 'IARS',\n",
       " 'ANKRD36',\n",
       " 'ELMSAN1',\n",
       " 'C12orf29',\n",
       " 'GPR180',\n",
       " 'WDR66',\n",
       " 'AMZ2',\n",
       " 'OAF',\n",
       " 'C5orf34',\n",
       " 'CCDC18',\n",
       " 'FAM117A',\n",
       " 'LRRC37A3',\n",
       " 'OGFOD2',\n",
       " 'ZSWIM1',\n",
       " 'SNHG32',\n",
       " 'TTC14',\n",
       " 'RFPL4B',\n",
       " 'FRG2',\n",
       " 'SZRD1',\n",
       " 'ACAP3',\n",
       " 'HIST1H2AG',\n",
       " 'OXLD1',\n",
       " 'B3GNTL1',\n",
       " 'KIAA1324L',\n",
       " 'TMEM116',\n",
       " 'TMEM52',\n",
       " 'AC015871.1',\n",
       " 'ZNRD1',\n",
       " 'HIST2H2AB',\n",
       " 'MAGEA9B',\n",
       " 'HIST1H2BO',\n",
       " 'MARCH8',\n",
       " 'C6orf52',\n",
       " 'TSTD3',\n",
       " 'ERMARD',\n",
       " 'TSTA3',\n",
       " 'TMEM189',\n",
       " 'TTC13',\n",
       " 'HIST1H1C',\n",
       " 'MOB3A',\n",
       " 'SLC25A39',\n",
       " 'CCDC142',\n",
       " 'TMEM164',\n",
       " 'HIST1H1E',\n",
       " 'YPEL1',\n",
       " 'ZNF831',\n",
       " 'C1orf53',\n",
       " 'KIAA0355',\n",
       " 'FAM192A',\n",
       " 'CASC4',\n",
       " 'C1orf56',\n",
       " 'HIST1H3J',\n",
       " 'H1FX',\n",
       " 'LARS',\n",
       " 'HIST1H4I',\n",
       " 'C17orf49',\n",
       " 'FAM216A',\n",
       " 'CCDC138',\n",
       " 'HIST1H2BG',\n",
       " 'C9orf85',\n",
       " 'C12orf73',\n",
       " 'HIST1H2BN',\n",
       " 'NEDD8-MDP1',\n",
       " 'WDR34',\n",
       " 'WDYHV1',\n",
       " 'SMIM15',\n",
       " 'VARS',\n",
       " 'TWISTNB',\n",
       " 'HIST1H3F',\n",
       " 'TMEM99',\n",
       " 'RGPD6',\n",
       " 'MARCH9',\n",
       " 'NKIRAS2',\n",
       " 'LYSMD2',\n",
       " 'C9orf40',\n",
       " 'HIST1H2AB',\n",
       " 'ZNF781',\n",
       " 'SEZ6L2',\n",
       " 'HIST1H2BK',\n",
       " 'HIST1H2AL',\n",
       " 'FAM160B2',\n",
       " 'KIAA0930',\n",
       " 'CCSER2',\n",
       " 'SLC35F2',\n",
       " 'C19orf53',\n",
       " 'PRR14L',\n",
       " 'SMYD4',\n",
       " 'LRRC37B',\n",
       " 'C4orf36',\n",
       " 'HIST1H2BC',\n",
       " 'WDR7',\n",
       " 'UBALD2',\n",
       " 'TATDN3',\n",
       " 'C6orf62',\n",
       " 'MAGEB1',\n",
       " 'TMEM161B',\n",
       " 'FGFR1OP',\n",
       " 'HIST1H4B',\n",
       " 'TMEM173',\n",
       " 'ASNSD1',\n",
       " 'FAM104B',\n",
       " 'HIST1H3H',\n",
       " 'TRABD',\n",
       " 'C16orf91',\n",
       " 'C19orf48',\n",
       " 'TLCD5',\n",
       " 'ATF7IP2',\n",
       " 'H2AFV',\n",
       " 'FOPNL',\n",
       " 'ZNF469',\n",
       " 'HIST1H2BB',\n",
       " 'SCRN3',\n",
       " 'RRNAD1',\n",
       " 'CPXCR1',\n",
       " 'HIST1H2AE',\n",
       " 'ERV3-1',\n",
       " 'KBTBD3',\n",
       " 'BCL7C',\n",
       " 'C17orf53',\n",
       " 'GTSF1',\n",
       " 'CCDC169',\n",
       " 'C15orf41',\n",
       " 'HIST1H2BH',\n",
       " 'C4orf3',\n",
       " 'HIST1H2BL',\n",
       " 'KBTBD2',\n",
       " 'GCOM1',\n",
       " 'CCDC144NL',\n",
       " 'PBDC1',\n",
       " 'C21orf91',\n",
       " 'FAM131A',\n",
       " 'TIGD5',\n",
       " 'ZMAT1',\n",
       " 'TMEM251',\n",
       " 'FAM49B',\n",
       " 'DNAJC16',\n",
       " 'KBTBD4',\n",
       " 'TMEM209',\n",
       " 'FAM177A1',\n",
       " 'SMIM4',\n",
       " 'TMEM245',\n",
       " 'TSC22D2',\n",
       " 'RPS10-NUDT3',\n",
       " 'C10orf88',\n",
       " 'KIAA0100',\n",
       " 'ZNF800',\n",
       " 'HIST1H2AD',\n",
       " 'SMIM8',\n",
       " 'HIST2H2AA3',\n",
       " 'DMWD',\n",
       " 'CCDC34',\n",
       " 'C20orf27',\n",
       " 'KRBA1',\n",
       " 'H3F3B',\n",
       " 'FNDC10',\n",
       " 'QSER1',\n",
       " 'ZNF532',\n",
       " 'R3HDM4',\n",
       " 'TMEM8A',\n",
       " 'IER5L',\n",
       " 'ANKRD36C',\n",
       " 'C20orf96',\n",
       " 'EFCAB14',\n",
       " 'FAM229A',\n",
       " 'LRRC42',\n",
       " 'SMIM29',\n",
       " 'LRRC28',\n",
       " 'NBPF15',\n",
       " 'CENPBD1',\n",
       " 'CSMD1',\n",
       " 'MARS',\n",
       " 'HIST1H2BA',\n",
       " 'C5orf30',\n",
       " 'CCDC169-SOHLH2',\n",
       " 'C11orf96',\n",
       " 'METTL26',\n",
       " 'CRYBG1',\n",
       " 'HIST1H2AK',\n",
       " 'EFCAB2',\n",
       " 'HIST1H2AM',\n",
       " 'C12orf45',\n",
       " 'RBM14-RBM4',\n",
       " 'HIST2H3A',\n",
       " 'HIST1H1D',\n",
       " 'TARS',\n",
       " 'ZNF277',\n",
       " 'C8orf76',\n",
       " 'HIST1H2BD',\n",
       " 'RARS',\n",
       " 'SMIM10',\n",
       " 'HIST1H2AH',\n",
       " 'PCNX3',\n",
       " 'C18orf21',\n",
       " 'FAM102B',\n",
       " 'NARS',\n",
       " 'MFSD9',\n",
       " 'KIAA0232',\n",
       " 'HARS',\n",
       " 'C4orf48',\n",
       " 'CHCHD7',\n",
       " 'PLCXD1',\n",
       " 'CSAG1',\n",
       " 'HIST3H2BB',\n",
       " 'NBPF3',\n",
       " 'ADPRHL2',\n",
       " 'HIST1H2BM',\n",
       " 'HIST1H4D',\n",
       " 'HIST1H4C',\n",
       " 'ZMYM1',\n",
       " 'FAM178B',\n",
       " 'SLC25A53',\n",
       " 'C20orf203',\n",
       " 'FMR1NB',\n",
       " 'TCTEX1D2',\n",
       " 'TMEM185B',\n",
       " 'CLEC2L',\n",
       " 'H2AFY',\n",
       " 'HNRNPA1L2',\n",
       " 'NETO2',\n",
       " 'NME1-NME2',\n",
       " 'C14orf178',\n",
       " 'HIST1H2AI',\n",
       " 'HMGXB3',\n",
       " 'BAHCC1',\n",
       " 'NUDT8',\n",
       " 'HIST2H2BF',\n",
       " 'C1orf159',\n",
       " 'AC118549.1',\n",
       " 'C5orf15',\n",
       " 'UTP25',\n",
       " 'HIST1H2AC',\n",
       " 'ADSS',\n",
       " 'ST20-MTHFS',\n",
       " 'CCDC144A',\n",
       " 'NBPF12',\n",
       " 'PPDPF',\n",
       " 'SMIM7',\n",
       " 'TMCO3',\n",
       " 'CFDP1',\n",
       " 'non-targeting',\n",
       " 'OCEL1',\n",
       " 'GNB1L',\n",
       " 'FBXO8',\n",
       " 'ANKMY1',\n",
       " 'MARCH6',\n",
       " 'HIST1H3A',\n",
       " 'SUSD1',\n",
       " 'DHRS4L2',\n",
       " 'ST7',\n",
       " 'MARCH5',\n",
       " 'FAM86C1',\n",
       " 'C7orf26',\n",
       " 'ARPC4-TTLL3',\n",
       " 'C15orf61',\n",
       " 'CTXN1',\n",
       " 'TMEM74B',\n",
       " 'MORN1',\n",
       " 'H2AFX',\n",
       " 'MARCH7',\n",
       " 'ZBED6CL',\n",
       " 'HIST2H2BE',\n",
       " 'SMIM13',\n",
       " 'HIST1H2AA',\n",
       " 'PHF3',\n",
       " 'CCDC97',\n",
       " 'VPS13B',\n",
       " 'QARS',\n",
       " 'C11orf80',\n",
       " 'CXorf40B',\n",
       " 'ICK',\n",
       " 'C1orf61',\n",
       " 'SLC35F5',\n",
       " 'HIST3H2A',\n",
       " 'GOLGA6L1',\n",
       " 'C8orf82',\n",
       " 'FAM156B',\n",
       " 'HIST1H2BJ',\n",
       " 'YARS',\n",
       " 'SLC66A3',\n",
       " 'ANKRD46',\n",
       " 'EPRS',\n",
       " 'KIAA0513',\n",
       " 'THEM6',\n",
       " 'C16orf95',\n",
       " 'LCN10',\n",
       " 'SARS',\n",
       " 'RBAK-RBAKDN',\n",
       " 'FBRS',\n",
       " 'C11orf58',\n",
       " 'HIST2H2AC',\n",
       " 'C12orf43',\n",
       " 'ANKRD33B',\n",
       " 'AARS',\n",
       " 'GARS',\n",
       " 'HIST1H2BF',\n",
       " 'TEX30',\n",
       " 'C19orf54',\n",
       " 'GAB3',\n",
       " 'SERF1B',\n",
       " 'XAGE1B',\n",
       " 'FAM200B',\n",
       " 'GLOD5',\n",
       " 'H3F3A',\n",
       " 'WDR53',\n",
       " 'KARS',\n",
       " 'HBA2',\n",
       " 'SMN2',\n",
       " 'MARCH3',\n",
       " 'TARSL2',\n",
       " 'H2AFZ',\n",
       " 'FAM122B',\n",
       " 'HIST1H1B',\n",
       " 'WDSUB1',\n",
       " 'IMPAD1',\n",
       " 'HIST1H4A',\n",
       " 'C12orf49',\n",
       " 'CXorf40A',\n",
       " 'CARS',\n",
       " 'TMEM68',\n",
       " 'FAM89A',\n",
       " 'HIST2H4A',\n",
       " 'DSCR4',\n",
       " 'C6orf136',\n",
       " 'DARS']"
      ]
     },
     "execution_count": 38,
     "metadata": {},
     "output_type": "execute_result"
    }
   ],
   "source": [
    "list(set(perturb_uni) - set(gene_data))"
   ]
  },
  {
   "cell_type": "code",
   "execution_count": 39,
   "metadata": {},
   "outputs": [
    {
     "data": {
      "text/plain": [
       "(9499, 9499)"
      ]
     },
     "execution_count": 39,
     "metadata": {},
     "output_type": "execute_result"
    }
   ],
   "source": [
    "len(indices_with_anno), len(indices_lib)"
   ]
  },
  {
   "cell_type": "code",
   "execution_count": 41,
   "metadata": {},
   "outputs": [],
   "source": [
    "onehot_data = data_npz[indices_lib]"
   ]
  },
  {
   "cell_type": "code",
   "execution_count": 42,
   "metadata": {},
   "outputs": [
    {
     "data": {
      "text/plain": [
       "(9499, 15988)"
      ]
     },
     "execution_count": 42,
     "metadata": {},
     "output_type": "execute_result"
    }
   ],
   "source": [
    "onehot_data.shape"
   ]
  },
  {
   "cell_type": "code",
   "execution_count": 43,
   "metadata": {},
   "outputs": [],
   "source": [
    "np.save('onehot/UniqueGenePerturbOnehot.npy', onehot_data)\n",
    "np.save('onehot/UniqueGenePerturbGene.npy', perturb_uni[indices_with_anno])"
   ]
  },
  {
   "cell_type": "code",
   "execution_count": 44,
   "metadata": {},
   "outputs": [
    {
     "data": {
      "text/plain": [
       "(9499,)"
      ]
     },
     "execution_count": 44,
     "metadata": {},
     "output_type": "execute_result"
    }
   ],
   "source": [
    "per_uni = perturb_uni[indices_with_anno]\n",
    "per_uni.shape"
   ]
  },
  {
   "cell_type": "code",
   "execution_count": 45,
   "metadata": {},
   "outputs": [
    {
     "data": {
      "text/plain": [
       "array(['LSG1', 'AHCTF1', 'ZC3H12A', 'TP63', 'ADCK5', 'ISL1', 'NIFK',\n",
       "       'GTF3C2', 'GRK2', 'N4BP2L2', 'ELK1', 'WIPI2', 'VPS26B', 'PYGO2',\n",
       "       'EZH1', 'E2F3', 'INO80E', 'SKP1', 'LIMD1', 'MAP4K2', 'ZNF101',\n",
       "       'TERF1', 'INIP', 'TTC12', 'NOC2L', 'MAPK1', 'HMGCL', 'ZNF43',\n",
       "       'CEP170', 'PRDX2', 'PAFAH1B3', 'NFX1', 'ZNF860', 'POLR3K',\n",
       "       'PIP5K1C', 'FAM170A', 'HMGB3', 'KRR1', 'ZNF692', 'RFX4',\n",
       "       'EEF1AKMT2', 'WDR5', 'KSR1', 'IMMP1L', 'ATXN7L3', 'DERA', 'BHLHA9',\n",
       "       'KDM3B', 'TAF3', 'SF3B4', 'PRSS50', 'MOB1A', 'DHX40', 'FGFR1OP2',\n",
       "       'RPAP1', 'CD320', 'NCOR2', 'SLC19A2', 'RBM33', 'PCLAF', 'FHL2',\n",
       "       'GALNT6', 'UPF2', 'SPR', 'APOBR', 'SPZ1', 'RANBP1', 'CAB39L',\n",
       "       'NR1D2', 'TNFAIP8L1', 'OVOL1', 'OLFML3', 'PLEKHA2', 'PPP1R11',\n",
       "       'WARS2', 'WDR91', 'ZEB1', 'PRPF40B', 'BUD13', 'PAXBP1', 'XRN1',\n",
       "       'PIGK', 'MAN1A1', 'NCAPG2', 'SLC35B4', 'TROAP', 'FNBP1', 'VWDE',\n",
       "       'CDC25C', 'MAP2K3', 'FAM156A', 'NUDT19', 'IGFBP4', 'POMP',\n",
       "       'INO80B', 'TAF13', 'ZNF729', 'DCAF17', 'CCND3', 'CENPM', 'ROCK2',\n",
       "       'KLC4', 'DMTN', 'SNX11', 'ZHX2', 'CDK11B', 'SLC30A6', 'RGS19',\n",
       "       'ZNF420', 'ZC3H3', 'MAGI3', 'TMBIM4', 'CEP78', 'PATZ1', 'SMC4',\n",
       "       'INTS8', 'KLF15', 'HEBP1', 'S100PBP', 'NEUROD6', 'ZKSCAN2',\n",
       "       'ZNF521', 'PECR', 'TYROBP', 'DHODH', 'NFRKB', 'METTL2B', 'UBQLN2',\n",
       "       'LIG3', 'UBAP1', 'MRFAP1L1', 'ZNRD2', 'HOXB6', 'ZBTB32', 'TMX2',\n",
       "       'TEPSIN', 'EXOSC1', 'EMC1', 'HNF1B', 'TRIM71', 'TK1', 'THTPA',\n",
       "       'TMEM59', 'KLHL12', 'AMPD2', 'PPP4R1', 'SIN3A', 'ZNF90', 'TBC1D9B',\n",
       "       'BICD1', 'SENP7', 'CRELD1', 'DNLZ', 'GSR', 'C19orf12', 'HSPG2',\n",
       "       'PEPD', 'NGDN', 'NAXD', 'LCP1', 'ADARB1', 'UCK1', 'HEMGN', 'PARK7',\n",
       "       'KIF1C', 'DNMT3A', 'NAA38', 'MPP5', 'FUCA2', 'ACTR5', 'PAX3',\n",
       "       'BDH2', 'CSTB', 'XIAP', 'ROMO1', 'PPRC1', 'RREB1', 'NAA25',\n",
       "       'TEDC2', 'TJP2', 'HTATSF1', 'SORT1', 'MAGEA6', 'VTA1', 'FAM241A',\n",
       "       'SEC24B', 'ATP1B3', 'PDLIM5', 'ANKRD13D', 'UBXN8', 'MARK4', 'NFIC',\n",
       "       'TERF2', 'CPT2', 'DCBLD2', 'LONRF3', 'TRIP10', 'SOX11', 'GGA2',\n",
       "       'PLIN3', 'IARS2', 'QTRT2', 'DHX36', 'SLC12A9', 'NRTN', 'FOXJ2',\n",
       "       'GDA', 'POLDIP2', 'TMEM223', 'SPTBN1', 'SLC25A42', 'ITCH', 'SZT2',\n",
       "       'STRIP2', 'GYS1', 'ZNF679', 'CYB5R1', 'SELENOH', 'YEATS2',\n",
       "       'SHROOM1', 'GPN2', 'PDHB', 'ZSCAN9', 'LUZP1', 'ALKBH8', 'GZF1',\n",
       "       'MEAF6', 'MBTD1', 'DGLUCY', 'PTRH2', 'DPH2', 'C18orf25', 'HNRNPH1',\n",
       "       'RAB8B', 'KIF2A', 'PABPN1', 'SLC25A5', 'CPXM1', 'CBX5', 'PSMD1',\n",
       "       'WDR18', 'LRRC45', 'OPLAH', 'ZSWIM8', 'DGCR2', 'PILRB', 'ZNF697',\n",
       "       'ATP5MC1', 'LARS2', 'SLC25A6', 'BACH1', 'EIF2AK3', 'CNPPD1',\n",
       "       'TMEM98', 'CTAG2', 'HIKESHI', 'NME4', 'FZD3', 'C5orf22', 'RAPGEF6',\n",
       "       'FKBP1B', 'MFSD11', 'ABRAXAS1', 'KIT', 'FAM98A', 'CSNK1E', 'DHX16',\n",
       "       'ENPP3', 'DCAF11', 'DDX5', 'OR51B5', 'GPRIN1', 'FAM219B', 'LTBR',\n",
       "       'RBM4B', 'TMX1', 'IL15RA', 'L3MBTL3', 'SNAP23', 'ZNF641', 'ATP7B',\n",
       "       'MRPL27', 'EIF3C', 'GK5', 'NUDT1', 'CSTF2', 'PEBP1', 'ZBTB8A',\n",
       "       'AKR1C1', 'SIGMAR1', 'KIAA1191', 'MPP3', 'PHYHD1', 'GIPC3',\n",
       "       'HNRNPC', 'CISD1', 'PSME1', 'ARHGAP21', 'CIAO3', 'DEPDC1B', 'RRP8',\n",
       "       'DMD', 'TINF2', 'APOE', 'SRY', 'TATDN2', 'USP25', 'ZNF582',\n",
       "       'PAIP1', 'OSTF1', 'DHX37', 'FOXO3', 'SOX4', 'HIP1R', 'ZNF573',\n",
       "       'C12orf57', 'MYRF', 'NBAS', 'ZNF239', 'MLF1', 'PPP2R3C', 'MTHFR',\n",
       "       'JUND', 'PLA2G15', 'ZNF461', 'TMEM219', 'THAP6', 'RELA', 'MON1B',\n",
       "       'ZCCHC9', 'PLAG1', 'SIGIRR', 'DTNBP1', 'ZNF248', 'TFEB', 'CTCFL',\n",
       "       'ZNF621', 'HDHD5', 'PAK4', 'CARD9', 'AGO3', 'CRELD2', 'CHSY1',\n",
       "       'FAM78A', 'MIOS', 'ZNF502', 'SP7', 'ANKIB1', 'ABCC1', 'ERVW-1',\n",
       "       'TRMT10B', 'DAPK1', 'USP54', 'SLC20A2', 'FBXL14', 'NIPA1', 'PRKCB',\n",
       "       'PIN1', 'TMEM167A', 'FASTKD3', 'GRSF1', 'RNF126', 'ZC3HC1',\n",
       "       'GRAMD1A', 'FAM98C', 'ANGPT1', 'SMARCA2', 'ZNF20', 'SETD2',\n",
       "       'GORASP2', 'ZFAND5', 'NOSIP', 'MLXIP', 'NUP205', 'RPL35', 'TBCB',\n",
       "       'YTHDF1', 'CHFR', 'NFATC2', 'POU1F1', 'ATP6V0A2', 'CKAP2L',\n",
       "       'ZC3H8', 'OGFOD1', 'ASCL5', 'ZIC3', 'TSTD2', 'REEP6', 'SNX27',\n",
       "       'OXNAD1', 'RALB', 'POLR2J3', 'TPRX1', 'NEPRO', 'LPCAT3', 'ATIC',\n",
       "       'IFNAR1', 'KCNN4', 'PGS1', 'IMPA2', 'TMEM64', 'PSMC1', 'SERPINB1',\n",
       "       'RPP25L', 'GPANK1', 'EGFL8', 'PPP3CC', 'TAMM41', 'ALX4', 'NAA10',\n",
       "       'RNF5', 'DNAJC11', 'EVX2', 'CDCA3', 'MLLT6', 'MOCS1', 'FAHD2A',\n",
       "       'MAP3K2', 'LYN', 'TOB1', 'TRIM24', 'NAMPT', 'CDC25A', 'PLA2G10',\n",
       "       'ETF1', 'NDUFS3', 'RORC', 'TRIM21', 'FOXP4', 'SOCS3', 'PLSCR3',\n",
       "       'ZNF845', 'PALM3', 'ZNF676', 'FAM76B', 'ZIC5', 'HSD17B4', 'GOLGA7',\n",
       "       'JTB', 'PLAGL1', 'PLSCR1', 'TMEM230', 'EIF5', 'SCAMP2',\n",
       "       'HNRNPA2B1', 'ALDH1A2', 'ZNF696', 'PTAR1', 'PPP1R12B', 'TCEAL1',\n",
       "       'CTDSP1', 'ADH5', 'ALAD', 'KRTAP4-7', 'EME1', 'RBM38', 'HES5',\n",
       "       'ZNF596', 'GTF2A1', 'PARS2', 'SMPD4', 'JMJD6', 'FBXL5', 'HNRNPA3',\n",
       "       'B3GNT5', 'SSBP3', 'ST18', 'FHL3', 'INO80D', 'CHCHD10', 'SMPD2',\n",
       "       'LSM12', 'RUVBL2', 'GLI1', 'GPS1', 'WDCP', 'APLP1', 'TM7SF3',\n",
       "       'SCAMP3', 'LCE1E', 'ARID1B', 'CCDC107', 'CEP89', 'SLC50A1',\n",
       "       'NOBOX', 'POGZ', 'HIGD2A', 'KLHL20', 'OVOL2', 'AVL9', 'NSMCE1',\n",
       "       'ACTR3', 'RNF10', 'AMDHD2', 'PMPCB', 'FRRS1', 'ZNF330', 'ARL2',\n",
       "       'TADA3', 'SUGP1', 'CHTOP', 'CALCOCO1', 'GGA3', 'DAXX', 'HEATR5B',\n",
       "       'RACGAP1', 'CLK2', 'MRPS16', 'MYBL2', 'LRRC8A', 'ATF7IP', 'TFAP2B',\n",
       "       'RECQL5', 'PSMA4', 'PLOD3', 'IQCC', 'GEMIN6', 'DPY19L4', 'MTFMT',\n",
       "       'PRDX1', 'RUNX2', 'NDUFV1', 'ASCL2', 'TMEM134', 'ASPH', 'BTBD7',\n",
       "       'FNBP4', 'CDCA5', 'VRK2', 'AHI1', 'HCLS1', 'BCL11A', 'ZNF253',\n",
       "       'GNB1', 'UBE2M', 'MCRIP1', 'PPP3CA', 'C1orf109', 'CIR1', 'RPL5',\n",
       "       'ATOX1', 'RPL39', 'GALK1', 'IRF1', 'SPCS2', 'CCT3', 'RNMT', 'MDH2',\n",
       "       'CREM', 'FOXJ3', 'ZNF311', 'RASGEF1A', 'MAST2', 'AVEN', 'NHLRC3',\n",
       "       'CETN2', 'MSL3', 'DUSP14', 'PEF1', 'INTS14', 'HSF5', 'DUSP3',\n",
       "       'PSKH1', 'PAFAH1B2', 'TBPL2', 'ZMYM4', 'IDH3G', 'KMT2C', 'BDP1',\n",
       "       'INTS12', 'ZFP69B', 'PDCL', 'ACTL6A', 'CTPS1', 'MCM3', 'RHOXF2B',\n",
       "       'ZNF497', 'PPP1R9B', 'NPAS2', 'DBX2', 'CHDH', 'TNPO3', 'ARL13B',\n",
       "       'ST6GALNAC1', 'KYAT3', 'NRDE2', 'CASP6', 'S100A1', 'RPN2', 'GNS',\n",
       "       'MYPOP', 'GYPE', 'NKTR', 'WDR70', 'CHMP1B', 'CDX2', 'RHOA',\n",
       "       'TTC32', 'UBR5', 'RPS6KA4', 'G2E3', 'NEK6', 'ADAR', 'SSH2',\n",
       "       'CHCHD3', 'NOTO', 'EIF3J', 'DNAJC1', 'ARG2', 'C3orf33', 'CAVIN1',\n",
       "       'HK2', 'ZNF112', 'BANP', 'ZNF816', 'ZNF708', 'HIC1', 'DDX47',\n",
       "       'STMP1', 'EN1', 'RNF4', 'ZBED4', 'METAP1D', 'ZKSCAN3', 'SLC44A2',\n",
       "       'TOR2A', 'IPO4', 'NDUFS5', 'RNF24', 'B9D1', 'QDPR', 'LMAN2',\n",
       "       'UQCRHL', 'DUSP22', 'GCC2', 'ZNF354B', 'NR2E3', 'SAV1', 'ARHGEF18',\n",
       "       'PCID2', 'MAN2C1', 'DYNC2LI1', 'PPT2', 'UNC50', 'PPP1R7', 'ID1',\n",
       "       'FAM72C', 'ACD', 'KAT2B', 'ERP29', 'HEXD', 'LRRCC1', 'SLC43A3',\n",
       "       'RDH10', 'EIF4E2', 'ANAPC10', 'EME2', 'COPS2', 'MOSPD3', 'PTPRC',\n",
       "       'ZFC3H1', 'MARK2', 'MBD5', 'HNRNPAB', 'NAE1', 'VIPAS39', 'NINJ1',\n",
       "       'MKRN2', 'SCAND1', 'SARNP', 'CPNE7', 'NENF', 'PTPRA', 'GPD2',\n",
       "       'SLC41A3', 'VSX1', 'PIR', 'ARHGEF9', 'SP5', 'ASAH2B', 'PKNOX1',\n",
       "       'ZNF703', 'ZNF146', 'ZNF479', 'CHST2', 'PIGW', 'ATOH8', 'RPS5',\n",
       "       'ZNF780A', 'TRMT11', 'KRIT1', 'LRFN1', 'CLEC11A', 'C2orf42',\n",
       "       'CCDC88A', 'CEMIP2', 'TOMM7', 'THG1L', 'ETNK1', 'IFNAR2', 'TRA2A',\n",
       "       'SCD', 'CCZ1B', 'HNRNPM', 'DYM', 'ZNF628', 'RAB40B', 'ERI3',\n",
       "       'TUBA1B', 'STARD10', 'SRSF3', 'ZNF750', 'NUTF2', 'KAT6A', 'IGSF8',\n",
       "       'KCNK5', 'COPS7B', 'GART', 'MDM2', 'CEP250', 'WRAP53', 'CTBP1',\n",
       "       'C9orf64', 'NGRN', 'HMGCR', 'CMPK2', 'RNASET2', 'CTTN', 'DNTTIP1',\n",
       "       'DNAL1', 'FHIT', 'PPIL4', 'CUTC', 'NEUROD2', 'MFSD3', 'PPP1R16A',\n",
       "       'CLP1', 'DRG2', 'SP140L', 'HADHA', 'SNUPN', 'CNOT4', 'ATP2B1',\n",
       "       'TRMU', 'CALML4', 'GLMN', 'ZNF395', 'AP1B1', 'SLU7', 'POU3F2',\n",
       "       'SLC38A5', 'ZSCAN21', 'XPO6', 'YES1', 'SNX1', 'RPS2', 'ELP2',\n",
       "       'EXOC2', 'LYPLA1', 'SOX8', 'CHAC2', 'NNMT', 'FUS', 'ERC1', 'GPS2',\n",
       "       'MAPKAPK3', 'TRAPPC6A', 'SGTB', 'SNCG', 'TWIST2', 'COMMD8',\n",
       "       'ARHGAP22', 'LCORL', 'GSKIP', 'ZNF366', 'FAHD1', 'SF3A3',\n",
       "       'U2AF1L4', 'PLEKHB2', 'LTBP3', 'LAMTOR2', 'SNRPC', 'MED27', 'MNT',\n",
       "       'SCAF4', 'CTNNBL1', 'POLK', 'SMC2', 'COTL1', 'CDK2AP2', 'TUBD1',\n",
       "       'E2F4', 'VPS26A', 'KDELR3', 'CDC27', 'IKZF3', 'ZNF211', 'SLC39A10',\n",
       "       'RBP5', 'NR2C2AP', 'CIB1', 'TOB2', 'FES', 'LLGL2', 'ZNF197',\n",
       "       'HNF4A', 'NOC3L', 'SDAD1', 'FAM92A', 'UBXN2B', 'DPCD', 'ADRM1',\n",
       "       'MGST3', 'ELOVL2', 'GATA1', 'MRPL54', 'RBM23', 'E2F2', 'SH3BP1',\n",
       "       'SLC37A1', 'FERD3L', 'UTP14A', 'TWF2', 'RCOR3', 'PARP1', 'RIPOR1',\n",
       "       'TTLL12', 'INPP1', 'SNW1', 'FBXL8', 'RNF208', 'HBQ1', 'TNK2',\n",
       "       'FRG1', 'HOXB8', 'APOM', 'NSUN2', 'SMIM20', 'DMAC2L', 'METTL1',\n",
       "       'THOC3', 'MRPL9', 'GSTM4', 'SENP1', 'PPP2R5A', 'USP32', 'GSS',\n",
       "       'PTK2B', 'SIAH2', 'BATF', 'TLE3', 'DHPS', 'KDM2B', 'ADCY7',\n",
       "       'TCEANC2', 'MAF1', 'ZNF385A', 'CCNDBP1', 'TAF1A', 'PREB', 'RMND5A',\n",
       "       'ZNF136', 'UQCRH', 'CCT2', 'HIGD1A', 'TTC8', 'ECT2', 'PHB2',\n",
       "       'BCORL1', 'PDLIM7', 'RPL26', 'B4GALNT4', 'PRPF19', 'GTF3C4',\n",
       "       'HMGA1', 'TUBB', 'MSH2', 'ZNF133', 'LYRM7', 'FBXL20', 'GET1',\n",
       "       'AP2A1', 'CETN3', 'SCIN', 'MUL1', 'RBFA', 'NUP188', 'CAAP1',\n",
       "       'VOPP1', 'HAGHL', 'TAB2', 'CUL4A', 'LTA4H', 'TUBGCP5', 'LIN52',\n",
       "       'PRR7', 'OSBP', 'ZFYVE16', 'YBX1', 'RBCK1', 'JAGN1', 'SMAD3',\n",
       "       'EPM2AIP1', 'PRPS2', 'SDHA', 'KIF22', 'RNF31', 'ABHD10', 'PKP4',\n",
       "       'RNF19A', 'HOXD13', 'RPL38', 'CDK19', 'ZNF660', 'PEX14', 'CYB5R4',\n",
       "       'TLX2', 'EIF2A', 'RIOX2', 'USP33', 'SH3GLB1', 'PSIP1', 'GOLPH3L',\n",
       "       'RBM22', 'ANTKMT', 'SEC63', 'ZNF91', 'TEN1', 'ZNF345', 'ARF3',\n",
       "       'PGK1', 'MLST8', 'REST', 'CWC22', 'RNF220', 'NFIB', 'UTP15',\n",
       "       'CEP135', 'FOXR1', 'OR2T29', 'LAMP1', 'FASTKD1', 'ELF3', 'BNIP2',\n",
       "       'N4BP1', 'UQCRC2', 'POFUT2', 'TTC19', 'CREB3', 'LIN28B', 'CD47',\n",
       "       'NASP', 'ARNT', 'HBD', 'ZNF260', 'WASF2', 'XRCC5', 'TSEN2',\n",
       "       'FAM118A', 'GTF3C5', 'TRAPPC5', 'DTL', 'AMPD3', 'RPS28', 'POLE2',\n",
       "       'DCUN1D2', 'CYC1', 'COG2', 'LSM14B', 'SPICE1', 'RNF103', 'INSIG1',\n",
       "       'SNF8', 'PKN3', 'SLC38A2', 'ZKSCAN8', 'GRTP1', 'MED24', 'THYN1',\n",
       "       'FAM136A', 'SIRT7', 'JKAMP', 'MYRFL', 'PIM2', 'LEMD3', 'ATP7A',\n",
       "       'MTBP', 'PIGT', 'N4BP2', 'DSCC1', 'RBM5', 'C15orf40', 'TXNDC11',\n",
       "       'PRCP', 'DDX17', 'ATP2A2', 'SEM1', 'ING4', 'ELAC2', 'PCOLCE'],\n",
       "      dtype='<U14')"
      ]
     },
     "execution_count": 45,
     "metadata": {},
     "output_type": "execute_result"
    }
   ],
   "source": [
    "a = np.random.choice(per_uni, 1000, replace = False)\n",
    "a"
   ]
  },
  {
   "cell_type": "code",
   "execution_count": 46,
   "metadata": {},
   "outputs": [
    {
     "data": {
      "text/plain": [
       "((1000,), (1000,))"
      ]
     },
     "execution_count": 46,
     "metadata": {},
     "output_type": "execute_result"
    }
   ],
   "source": [
    "a.shape, np.unique(a).shape"
   ]
  },
  {
   "cell_type": "code",
   "execution_count": 47,
   "metadata": {},
   "outputs": [],
   "source": [
    "np.save(\"./onehot/Genomewide_1000RemovedPerturbs.npy\", a)"
   ]
  },
  {
   "cell_type": "code",
   "execution_count": 53,
   "metadata": {},
   "outputs": [
    {
     "data": {
      "text/plain": [
       "'/nfs/turbo/umms-welchjd/hengshi/perturb_gan/data/genome_scale/anndata/onehot/UniqueGenePerturbGene.npy'"
      ]
     },
     "execution_count": 53,
     "metadata": {},
     "output_type": "execute_result"
    }
   ],
   "source": [
    "#numpy  1.19.5      \n",
    "path_data = '/nfs/turbo/umms-welchjd/hengshi/perturb_gan/data/genome_scale/anndata'\n",
    "os.path.join(path_data, 'onehot/UniqueGenePerturbGene.npy')"
   ]
  },
  {
   "cell_type": "code",
   "execution_count": 49,
   "metadata": {},
   "outputs": [
    {
     "data": {
      "text/plain": [
       "'/nfs/turbo/umms-welchjd/hengshi/GAN/data/Genotype/sparse_gene_anno_matrix.npz'"
      ]
     },
     "execution_count": 49,
     "metadata": {},
     "output_type": "execute_result"
    }
   ],
   "source": [
    "path_data"
   ]
  },
  {
   "cell_type": "code",
   "execution_count": 55,
   "metadata": {},
   "outputs": [],
   "source": [
    "\n",
    "indice = np.isin(perturb_arr, per_uni)"
   ]
  },
  {
   "cell_type": "code",
   "execution_count": 61,
   "metadata": {},
   "outputs": [],
   "source": [
    "n_per = pd.Series(perturb_arr[indice]).value_counts()"
   ]
  },
  {
   "cell_type": "code",
   "execution_count": 64,
   "metadata": {},
   "outputs": [
    {
     "data": {
      "text/plain": [
       "(array([3.640e+02, 8.890e+02, 1.232e+03, 1.522e+03, 1.516e+03, 1.298e+03,\n",
       "        9.400e+02, 6.350e+02, 3.810e+02, 2.620e+02, 1.550e+02, 1.010e+02,\n",
       "        6.100e+01, 3.300e+01, 3.100e+01, 1.600e+01, 1.000e+01, 1.200e+01,\n",
       "        8.000e+00, 4.000e+00, 9.000e+00, 3.000e+00, 3.000e+00, 3.000e+00,\n",
       "        2.000e+00, 1.000e+00, 0.000e+00, 2.000e+00, 0.000e+00, 2.000e+00,\n",
       "        0.000e+00, 0.000e+00, 1.000e+00, 0.000e+00, 1.000e+00, 0.000e+00,\n",
       "        0.000e+00, 0.000e+00, 0.000e+00, 0.000e+00, 0.000e+00, 0.000e+00,\n",
       "        0.000e+00, 0.000e+00, 1.000e+00, 0.000e+00, 0.000e+00, 0.000e+00,\n",
       "        0.000e+00, 1.000e+00]),\n",
       " array([   2.  ,   41.22,   80.44,  119.66,  158.88,  198.1 ,  237.32,\n",
       "         276.54,  315.76,  354.98,  394.2 ,  433.42,  472.64,  511.86,\n",
       "         551.08,  590.3 ,  629.52,  668.74,  707.96,  747.18,  786.4 ,\n",
       "         825.62,  864.84,  904.06,  943.28,  982.5 , 1021.72, 1060.94,\n",
       "        1100.16, 1139.38, 1178.6 , 1217.82, 1257.04, 1296.26, 1335.48,\n",
       "        1374.7 , 1413.92, 1453.14, 1492.36, 1531.58, 1570.8 , 1610.02,\n",
       "        1649.24, 1688.46, 1727.68, 1766.9 , 1806.12, 1845.34, 1884.56,\n",
       "        1923.78, 1963.  ]),\n",
       " <a list of 50 Patch objects>)"
      ]
     },
     "execution_count": 64,
     "metadata": {},
     "output_type": "execute_result"
    },
    {
     "data": {
      "image/png": "[encoded data removed]",
      "text/plain": [
       "<Figure size 432x288 with 1 Axes>"
      ]
     },
     "metadata": {
      "needs_background": "light"
     },
     "output_type": "display_data"
    }
   ],
   "source": [
    "plt.hist(n_per, bins = 50)"
   ]
  },
  {
   "cell_type": "code",
   "execution_count": 69,
   "metadata": {},
   "outputs": [
    {
     "data": {
      "text/plain": [
       "0.8065059479945257"
      ]
     },
     "execution_count": 69,
     "metadata": {},
     "output_type": "execute_result"
    }
   ],
   "source": [
    "(n_per > 100).mean()"
   ]
  },
  {
   "cell_type": "code",
   "execution_count": 70,
   "metadata": {},
   "outputs": [
    {
     "data": {
      "text/plain": [
       "(array([1.376e+03, 1.425e+03, 1.386e+03, 1.129e+03, 8.380e+02, 5.170e+02,\n",
       "        3.130e+02, 2.290e+02, 1.600e+02, 8.600e+01, 5.700e+01, 3.500e+01,\n",
       "        2.800e+01, 1.800e+01, 9.000e+00, 1.200e+01, 7.000e+00, 4.000e+00,\n",
       "        9.000e+00, 5.000e+00, 4.000e+00, 1.000e+00, 3.000e+00, 1.000e+00,\n",
       "        1.000e+00, 1.000e+00, 1.000e+00, 0.000e+00, 2.000e+00, 0.000e+00,\n",
       "        0.000e+00, 1.000e+00, 0.000e+00, 1.000e+00, 0.000e+00, 0.000e+00,\n",
       "        0.000e+00, 0.000e+00, 0.000e+00, 0.000e+00, 0.000e+00, 0.000e+00,\n",
       "        0.000e+00, 0.000e+00, 1.000e+00, 0.000e+00, 0.000e+00, 0.000e+00,\n",
       "        0.000e+00, 1.000e+00]),\n",
       " array([ 101.  ,  138.24,  175.48,  212.72,  249.96,  287.2 ,  324.44,\n",
       "         361.68,  398.92,  436.16,  473.4 ,  510.64,  547.88,  585.12,\n",
       "         622.36,  659.6 ,  696.84,  734.08,  771.32,  808.56,  845.8 ,\n",
       "         883.04,  920.28,  957.52,  994.76, 1032.  , 1069.24, 1106.48,\n",
       "        1143.72, 1180.96, 1218.2 , 1255.44, 1292.68, 1329.92, 1367.16,\n",
       "        1404.4 , 1441.64, 1478.88, 1516.12, 1553.36, 1590.6 , 1627.84,\n",
       "        1665.08, 1702.32, 1739.56, 1776.8 , 1814.04, 1851.28, 1888.52,\n",
       "        1925.76, 1963.  ]),\n",
       " <a list of 50 Patch objects>)"
      ]
     },
     "execution_count": 70,
     "metadata": {},
     "output_type": "execute_result"
    },
    {
     "data": {
      "image/png": "[encoded data removed]",
      "text/plain": [
       "<Figure size 432x288 with 1 Axes>"
      ]
     },
     "metadata": {
      "needs_background": "light"
     },
     "output_type": "display_data"
    }
   ],
   "source": [
    "plt.hist(n_per[n_per > 100], bins = 50)"
   ]
  },
  {
   "cell_type": "code",
   "execution_count": 71,
   "metadata": {},
   "outputs": [
    {
     "data": {
      "text/plain": [
       "RPL3       1963\n",
       "PINK1      1745\n",
       "DUSP9      1351\n",
       "RAP1GAP    1270\n",
       "SIMC1      1170\n",
       "           ... \n",
       "FECH          6\n",
       "ZNF830        5\n",
       "OGDH          4\n",
       "LIG1          3\n",
       "ZNF774        2\n",
       "Length: 9499, dtype: int64"
      ]
     },
     "execution_count": 71,
     "metadata": {},
     "output_type": "execute_result"
    }
   ],
   "source": [
    "n_per"
   ]
  },
  {
   "cell_type": "code",
   "execution_count": 73,
   "metadata": {},
   "outputs": [],
   "source": [
    "usedata = adata.X\n",
    "trt_list = np.load(os.path.join('.', 'onehot/UniqueGenePerturbGene.npy'), allow_pickle=True)\n",
    "## meta information\n",
    "input_ltpm_label = adata.obs\n",
    "perturb_with_onehot_overall = np.array(list(input_ltpm_label['gene']))\n",
    "\n",
    "## with onehot\n",
    "data_perturb_set = set(trt_list)\n",
    "indicesWithOnehot = np.isin(perturb_with_onehot_overall, trt_list)"
   ]
  },
  {
   "cell_type": "code",
   "execution_count": 75,
   "metadata": {},
   "outputs": [
    {
     "data": {
      "text/plain": [
       "1844208"
      ]
     },
     "execution_count": 75,
     "metadata": {},
     "output_type": "execute_result"
    }
   ],
   "source": [
    "indicesWithOnehot.sum()"
   ]
  },
  {
   "cell_type": "code",
   "execution_count": 81,
   "metadata": {},
   "outputs": [],
   "source": [
    "perturb_with_onehot = perturb_with_onehot_overall[indicesWithOnehot]\n",
    "\n",
    "removed_all_pers = np.load(\n",
    "    os.path.join('.', 'onehot/Genomewide_1000RemovedPerturbs.npy'),\n",
    "    allow_pickle = True)\n",
    "removed_all_pers_set = set(removed_all_pers)\n",
    "kept_indices = [i for i in range(len(perturb_with_onehot)) if perturb_with_onehot[i] not in removed_all_pers_set]"
   ]
  },
  {
   "cell_type": "code",
   "execution_count": 82,
   "metadata": {},
   "outputs": [
    {
     "data": {
      "text/plain": [
       "1652893"
      ]
     },
     "execution_count": 82,
     "metadata": {},
     "output_type": "execute_result"
    }
   ],
   "source": [
    "len(kept_indices)"
   ]
  },
  {
   "cell_type": "code",
   "execution_count": 80,
   "metadata": {},
   "outputs": [
    {
     "ename": "AttributeError",
     "evalue": "'set' object has no attribute 'shape'",
     "output_type": "error",
     "traceback": [
      "\u001b[0;31m---------------------------------------------------------------------------\u001b[0m",
      "\u001b[0;31mAttributeError\u001b[0m                            Traceback (most recent call last)",
      "\u001b[0;32m<ipython-input-80-af30ca33fa25>\u001b[0m in \u001b[0;36m<module>\u001b[0;34m\u001b[0m\n\u001b[0;32m----> 1\u001b[0;31m \u001b[0mremoved_all_pers_set\u001b[0m\u001b[0;34m.\u001b[0m\u001b[0mshape\u001b[0m\u001b[0;34m\u001b[0m\u001b[0;34m\u001b[0m\u001b[0m\n\u001b[0m",
      "\u001b[0;31mAttributeError\u001b[0m: 'set' object has no attribute 'shape'"
     ]
    }
   ],
   "source": [
    "removed_all_pers_set.shape"
   ]
  },
  {
   "cell_type": "markdown",
   "metadata": {},
   "source": [
    "# data scales"
   ]
  },
  {
   "cell_type": "code",
   "execution_count": 6,
   "metadata": {},
   "outputs": [],
   "source": [
    "adata = ad.read_h5ad('K562_gwps_normalized_singlecell_01_genesFiltered.h5ad')"
   ]
  },
  {
   "cell_type": "code",
   "execution_count": 7,
   "metadata": {},
   "outputs": [],
   "source": [
    "x_data = adata.X"
   ]
  },
  {
   "cell_type": "code",
   "execution_count": 8,
   "metadata": {},
   "outputs": [
    {
     "data": {
      "text/plain": [
       "(array([[1989578.,       0.,       0., ...,       0.,       0.,       0.],\n",
       "        [1989578.,       0.,       0., ...,       0.,       0.,       0.],\n",
       "        [1989578.,       0.,       0., ...,       0.,       0.,       0.],\n",
       "        ...,\n",
       "        [1989578.,       0.,       0., ...,       0.,       0.,       0.],\n",
       "        [1989578.,       0.,       0., ...,       0.,       0.,       0.],\n",
       "        [1989578.,       0.,       0., ...,       0.,       0.,       0.]]),\n",
       " array([-1.28424000e-02,  2.62578934e-01,  5.38000286e-01,  8.13421607e-01,\n",
       "         1.08884299e+00,  1.36426425e+00,  1.63968563e+00,  1.91510701e+00,\n",
       "         2.19052839e+00,  2.46594954e+00,  2.74137092e+00,  3.01679230e+00,\n",
       "         3.29221368e+00,  3.56763506e+00,  3.84305644e+00,  4.11847782e+00,\n",
       "         4.39389896e+00,  4.66932011e+00,  4.94474173e+00,  5.22016287e+00,\n",
       "         5.49558449e+00,  5.77100563e+00,  6.04642725e+00,  6.32184839e+00,\n",
       "         6.59726954e+00,  6.87269115e+00,  7.14811230e+00,  7.42353392e+00,\n",
       "         7.69895506e+00,  7.97437620e+00,  8.24979782e+00,  8.52521896e+00,\n",
       "         8.80064011e+00,  9.07606220e+00,  9.35148335e+00,  9.62690449e+00,\n",
       "         9.90232563e+00,  1.01777468e+01,  1.04531689e+01,  1.07285900e+01,\n",
       "         1.10040112e+01,  1.12794323e+01,  1.15548534e+01,  1.18302755e+01,\n",
       "         1.21056967e+01,  1.23811178e+01,  1.26565390e+01,  1.29319601e+01,\n",
       "         1.32073822e+01,  1.34828033e+01,  1.37582245e+01], dtype=float32),\n",
       " <a list of 2000 Lists of Patches objects>)"
      ]
     },
     "execution_count": 8,
     "metadata": {},
     "output_type": "execute_result"
    },
    {
     "data": {
      "image/png": "[encoded data removed]",
      "text/plain": [
       "<Figure size 432x288 with 1 Axes>"
      ]
     },
     "metadata": {
      "needs_background": "light"
     },
     "output_type": "display_data"
    }
   ],
   "source": [
    "plt.hist(x_data, bins = 50)"
   ]
  },
  {
   "cell_type": "code",
   "execution_count": 9,
   "metadata": {},
   "outputs": [
    {
     "data": {
      "text/plain": [
       "-0.0128424"
      ]
     },
     "execution_count": 9,
     "metadata": {},
     "output_type": "execute_result"
    }
   ],
   "source": [
    "x_data.min()"
   ]
  },
  {
   "cell_type": "code",
   "execution_count": 10,
   "metadata": {},
   "outputs": [
    {
     "data": {
      "text/plain": [
       "13.7582245"
      ]
     },
     "execution_count": 10,
     "metadata": {},
     "output_type": "execute_result"
    }
   ],
   "source": [
    "x_data.max()"
   ]
  },
  {
   "cell_type": "code",
   "execution_count": 12,
   "metadata": {},
   "outputs": [
    {
     "data": {
      "text/plain": [
       "array([4.1613230e-06, 4.1473199e-06, 4.1560165e-06, ..., 4.2018851e-06,\n",
       "       4.7022208e-06, 4.1824419e-06], dtype=float32)"
      ]
     },
     "execution_count": 12,
     "metadata": {},
     "output_type": "execute_result"
    }
   ],
   "source": [
    "x_data.var(0)"
   ]
  },
  {
   "cell_type": "code",
   "execution_count": 28,
   "metadata": {},
   "outputs": [
    {
     "data": {
      "text/plain": [
       "(array([1.995e+03, 1.000e+00, 1.000e+00, 0.000e+00, 0.000e+00, 0.000e+00,\n",
       "        0.000e+00, 0.000e+00, 0.000e+00, 0.000e+00, 0.000e+00, 0.000e+00,\n",
       "        0.000e+00, 0.000e+00, 0.000e+00, 0.000e+00, 0.000e+00, 0.000e+00,\n",
       "        0.000e+00, 0.000e+00, 1.000e+00, 0.000e+00, 0.000e+00, 0.000e+00,\n",
       "        0.000e+00, 0.000e+00, 1.000e+00, 0.000e+00, 0.000e+00, 0.000e+00,\n",
       "        0.000e+00, 0.000e+00, 0.000e+00, 0.000e+00, 0.000e+00, 0.000e+00,\n",
       "        0.000e+00, 0.000e+00, 0.000e+00, 0.000e+00, 0.000e+00, 0.000e+00,\n",
       "        0.000e+00, 0.000e+00, 0.000e+00, 0.000e+00, 0.000e+00, 0.000e+00,\n",
       "        0.000e+00, 1.000e+00]),\n",
       " array([4.0554605e-06, 1.0064953e-05, 1.6074446e-05, 2.2083937e-05,\n",
       "        2.8093431e-05, 3.4102923e-05, 4.0112416e-05, 4.6121906e-05,\n",
       "        5.2131400e-05, 5.8140893e-05, 6.4150387e-05, 7.0159876e-05,\n",
       "        7.6169374e-05, 8.2178864e-05, 8.8188353e-05, 9.4197851e-05,\n",
       "        1.0020734e-04, 1.0621683e-04, 1.1222633e-04, 1.1823582e-04,\n",
       "        1.2424531e-04, 1.3025480e-04, 1.3626429e-04, 1.4227378e-04,\n",
       "        1.4828327e-04, 1.5429278e-04, 1.6030227e-04, 1.6631176e-04,\n",
       "        1.7232125e-04, 1.7833074e-04, 1.8434023e-04, 1.9034973e-04,\n",
       "        1.9635922e-04, 2.0236871e-04, 2.0837820e-04, 2.1438769e-04,\n",
       "        2.2039720e-04, 2.2640669e-04, 2.3241618e-04, 2.3842567e-04,\n",
       "        2.4443516e-04, 2.5044466e-04, 2.5645414e-04, 2.6246364e-04,\n",
       "        2.6847312e-04, 2.7448262e-04, 2.8049212e-04, 2.8650160e-04,\n",
       "        2.9251110e-04, 2.9852058e-04, 3.0453008e-04], dtype=float32),\n",
       " <a list of 50 Patch objects>)"
      ]
     },
     "execution_count": 28,
     "metadata": {},
     "output_type": "execute_result"
    },
    {
     "data": {
      "image/png": "[encoded data removed]",
      "text/plain": [
       "<Figure size 432x288 with 1 Axes>"
      ]
     },
     "metadata": {
      "needs_background": "light"
     },
     "output_type": "display_data"
    }
   ],
   "source": [
    "plt.hist(x_data.var(0), bins = 50)"
   ]
  },
  {
   "cell_type": "code",
   "execution_count": 13,
   "metadata": {},
   "outputs": [],
   "source": [
    "high_genes = pd.read_csv('selected_gwps_normalized_singlecell_01.csv')\n"
   ]
  },
  {
   "cell_type": "code",
   "execution_count": 19,
   "metadata": {},
   "outputs": [],
   "source": [
    "adata = ad.read_h5ad('K562_gwps_normalized_singlecell_01.h5ad')"
   ]
  },
  {
   "cell_type": "code",
   "execution_count": 20,
   "metadata": {},
   "outputs": [
    {
     "data": {
      "text/plain": [
       "((2000,), (2000,))"
      ]
     },
     "execution_count": 20,
     "metadata": {},
     "output_type": "execute_result"
    }
   ],
   "source": [
    "high_gene_list = list(high_genes['gene_id'])\n",
    "high_genes['gene_id'].shape, high_genes['gene_id'].unique().shape"
   ]
  },
  {
   "cell_type": "code",
   "execution_count": 24,
   "metadata": {},
   "outputs": [],
   "source": [
    "gene_id = np.array(list(adata.var.index))\n",
    "idx_high_gene = [np.where(gene_id == i)[0][0] for i in high_gene_list]"
   ]
  },
  {
   "cell_type": "code",
   "execution_count": 22,
   "metadata": {},
   "outputs": [
    {
     "data": {
      "text/plain": [
       "((8248,), (1989578, 8248))"
      ]
     },
     "execution_count": 22,
     "metadata": {},
     "output_type": "execute_result"
    }
   ],
   "source": [
    "adata.var.index.unique().shape,adata.shape"
   ]
  },
  {
   "cell_type": "code",
   "execution_count": 21,
   "metadata": {},
   "outputs": [
    {
     "data": {
      "text/html": [
       "<div>\n",
       "<style scoped>\n",
       "    .dataframe tbody tr th:only-of-type {\n",
       "        vertical-align: middle;\n",
       "    }\n",
       "\n",
       "    .dataframe tbody tr th {\n",
       "        vertical-align: top;\n",
       "    }\n",
       "\n",
       "    .dataframe thead th {\n",
       "        text-align: right;\n",
       "    }\n",
       "</style>\n",
       "<table border=\"1\" class=\"dataframe\">\n",
       "  <thead>\n",
       "    <tr style=\"text-align: right;\">\n",
       "      <th></th>\n",
       "      <th>gene_name</th>\n",
       "      <th>chr</th>\n",
       "      <th>start</th>\n",
       "      <th>end</th>\n",
       "      <th>class</th>\n",
       "      <th>strand</th>\n",
       "      <th>length</th>\n",
       "      <th>in_matrix</th>\n",
       "      <th>mean</th>\n",
       "      <th>std</th>\n",
       "      <th>cv</th>\n",
       "      <th>fano</th>\n",
       "    </tr>\n",
       "    <tr>\n",
       "      <th>gene_id</th>\n",
       "      <th></th>\n",
       "      <th></th>\n",
       "      <th></th>\n",
       "      <th></th>\n",
       "      <th></th>\n",
       "      <th></th>\n",
       "      <th></th>\n",
       "      <th></th>\n",
       "      <th></th>\n",
       "      <th></th>\n",
       "      <th></th>\n",
       "      <th></th>\n",
       "    </tr>\n",
       "  </thead>\n",
       "  <tbody>\n",
       "    <tr>\n",
       "      <th>ENSG00000237491</th>\n",
       "      <td>LINC01409</td>\n",
       "      <td>chr1</td>\n",
       "      <td>778747</td>\n",
       "      <td>810065</td>\n",
       "      <td>gene_version10</td>\n",
       "      <td>+</td>\n",
       "      <td>31318</td>\n",
       "      <td>True</td>\n",
       "      <td>0.116626</td>\n",
       "      <td>0.349971</td>\n",
       "      <td>3.000803</td>\n",
       "      <td>1.050194</td>\n",
       "    </tr>\n",
       "    <tr>\n",
       "      <th>ENSG00000228794</th>\n",
       "      <td>LINC01128</td>\n",
       "      <td>chr1</td>\n",
       "      <td>825138</td>\n",
       "      <td>868202</td>\n",
       "      <td>gene_version9</td>\n",
       "      <td>+</td>\n",
       "      <td>43064</td>\n",
       "      <td>True</td>\n",
       "      <td>0.182850</td>\n",
       "      <td>0.437274</td>\n",
       "      <td>2.391434</td>\n",
       "      <td>1.045713</td>\n",
       "    </tr>\n",
       "    <tr>\n",
       "      <th>ENSG00000188976</th>\n",
       "      <td>NOC2L</td>\n",
       "      <td>chr1</td>\n",
       "      <td>944203</td>\n",
       "      <td>959309</td>\n",
       "      <td>gene_version11</td>\n",
       "      <td>-</td>\n",
       "      <td>15106</td>\n",
       "      <td>True</td>\n",
       "      <td>1.415674</td>\n",
       "      <td>1.397208</td>\n",
       "      <td>0.986957</td>\n",
       "      <td>1.378984</td>\n",
       "    </tr>\n",
       "    <tr>\n",
       "      <th>ENSG00000187961</th>\n",
       "      <td>KLHL17</td>\n",
       "      <td>chr1</td>\n",
       "      <td>960584</td>\n",
       "      <td>965719</td>\n",
       "      <td>gene_version14</td>\n",
       "      <td>+</td>\n",
       "      <td>5135</td>\n",
       "      <td>True</td>\n",
       "      <td>0.105599</td>\n",
       "      <td>0.330678</td>\n",
       "      <td>3.131439</td>\n",
       "      <td>1.035497</td>\n",
       "    </tr>\n",
       "    <tr>\n",
       "      <th>ENSG00000188290</th>\n",
       "      <td>HES4</td>\n",
       "      <td>chr1</td>\n",
       "      <td>998962</td>\n",
       "      <td>1000172</td>\n",
       "      <td>gene_version10</td>\n",
       "      <td>-</td>\n",
       "      <td>1210</td>\n",
       "      <td>True</td>\n",
       "      <td>0.242700</td>\n",
       "      <td>0.550596</td>\n",
       "      <td>2.268630</td>\n",
       "      <td>1.249098</td>\n",
       "    </tr>\n",
       "  </tbody>\n",
       "</table>\n",
       "</div>"
      ],
      "text/plain": [
       "                 gene_name   chr   start      end           class strand  \\\n",
       "gene_id                                                                    \n",
       "ENSG00000237491  LINC01409  chr1  778747   810065  gene_version10      +   \n",
       "ENSG00000228794  LINC01128  chr1  825138   868202   gene_version9      +   \n",
       "ENSG00000188976      NOC2L  chr1  944203   959309  gene_version11      -   \n",
       "ENSG00000187961     KLHL17  chr1  960584   965719  gene_version14      +   \n",
       "ENSG00000188290       HES4  chr1  998962  1000172  gene_version10      -   \n",
       "\n",
       "                 length  in_matrix      mean       std        cv      fano  \n",
       "gene_id                                                                     \n",
       "ENSG00000237491   31318       True  0.116626  0.349971  3.000803  1.050194  \n",
       "ENSG00000228794   43064       True  0.182850  0.437274  2.391434  1.045713  \n",
       "ENSG00000188976   15106       True  1.415674  1.397208  0.986957  1.378984  \n",
       "ENSG00000187961    5135       True  0.105599  0.330678  3.131439  1.035497  \n",
       "ENSG00000188290    1210       True  0.242700  0.550596  2.268630  1.249098  "
      ]
     },
     "execution_count": 21,
     "metadata": {},
     "output_type": "execute_result"
    }
   ],
   "source": [
    "adata.var.head()"
   ]
  },
  {
   "cell_type": "code",
   "execution_count": 26,
   "metadata": {},
   "outputs": [
    {
     "data": {
      "text/plain": [
       "(1989578, 2000)"
      ]
     },
     "execution_count": 26,
     "metadata": {},
     "output_type": "execute_result"
    }
   ],
   "source": [
    "adata = adata[:, idx_high_gene].copy()\n",
    "adata.shape"
   ]
  },
  {
   "cell_type": "code",
   "execution_count": 27,
   "metadata": {},
   "outputs": [],
   "source": [
    "adata.write('K562_gwps_normalized_singlecell_01_genesFilteredPert.h5ad')"
   ]
  },
  {
   "cell_type": "code",
   "execution_count": 30,
   "metadata": {},
   "outputs": [
    {
     "data": {
      "text/plain": [
       "(6879.1123, -6.4212)"
      ]
     },
     "execution_count": 30,
     "metadata": {},
     "output_type": "execute_result"
    }
   ],
   "source": [
    "adata.X.max(), adata.X.min()"
   ]
  },
  {
   "cell_type": "code",
   "execution_count": 34,
   "metadata": {},
   "outputs": [
    {
     "data": {
      "text/plain": [
       "array([157, 207,  29, 149, 172, 215, 209,  54, 228,  48,   9,  53,  60,\n",
       "        12, 247, 271,  82, 111, 148, 125, 137,  36, 121, 255,  69, 110,\n",
       "         2,  37,   7, 223, 265,  89, 144, 232,  84, 165,  73, 258,  45,\n",
       "       155, 190, 201, 128, 135,   3, 158, 221, 143, 264,  46,  93,  17,\n",
       "       183, 262,  22, 132, 159, 114,  28, 256, 161, 185,  11, 273,  75,\n",
       "       136,  83, 181,  86, 220,  18, 250,  74, 146,  27, 101, 129,  61,\n",
       "       267, 168, 243, 171, 238, 235, 226, 109, 124, 240,  55, 108, 242,\n",
       "       192, 210, 170, 112,  34, 177, 213, 260, 119, 162, 182, 225,  20,\n",
       "        23, 222,  32,  91, 244, 248, 160, 164,  40,  99, 120,  78,  85,\n",
       "       134,  50,  96, 118, 103,  31,  39,  67, 138, 126,  42, 216, 219,\n",
       "       167,  43,  80,   8,  79,  63, 234,   6,  94, 186, 117, 227,  47,\n",
       "        25, 102, 105, 233, 252, 230,  62, 106, 174, 145,  95, 176,  64,\n",
       "        35,  15,  33, 253, 104,  72,  14, 239, 113, 193, 212,  21, 184,\n",
       "        92, 150, 173,   5,  24, 194,  44, 263, 272, 236,  87, 196, 163,\n",
       "       241, 198, 266, 140, 127, 116,  68, 261,  98, 179,  19, 169, 152,\n",
       "        52, 270, 139,  97,  90, 178,   4, 254, 100,  57, 195, 257,  81,\n",
       "       217, 142, 180, 133, 231, 153, 208, 259,  56,  66, 175,  70, 206,\n",
       "       154, 166,  65, 107,  76,  71, 147, 205, 251, 115, 268, 189, 188,\n",
       "        38,  16,  49,  58, 218, 246,   1, 211, 141, 224, 131,  10,  88,\n",
       "       197, 151,  26, 191, 237, 214,  30, 245, 229, 269,  77, 249,  13,\n",
       "        59,  41, 122,  51, 202, 187, 123])"
      ]
     },
     "execution_count": 34,
     "metadata": {},
     "output_type": "execute_result"
    }
   ],
   "source": [
    "adata.obs['gem_group'].unique()"
   ]
  },
  {
   "cell_type": "markdown",
   "metadata": {},
   "source": [
    "## Process the count data"
   ]
  },
  {
   "cell_type": "code",
   "execution_count": 8,
   "metadata": {},
   "outputs": [],
   "source": [
    "adata = ad.read_h5ad('K562_gwps_raw_singlecell_01.h5ad')"
   ]
  },
  {
   "cell_type": "code",
   "execution_count": 9,
   "metadata": {},
   "outputs": [
    {
     "data": {
      "text/plain": [
       "(1989578, 8248)"
      ]
     },
     "execution_count": 9,
     "metadata": {},
     "output_type": "execute_result"
    }
   ],
   "source": [
    "adata.shape"
   ]
  },
  {
   "cell_type": "code",
   "execution_count": 9,
   "metadata": {},
   "outputs": [
    {
     "data": {
      "text/plain": [
       "array([[1., 0., 0., ..., 0., 0., 0.],\n",
       "       [0., 1., 4., ..., 0., 0., 0.],\n",
       "       [0., 1., 3., ..., 0., 0., 0.],\n",
       "       ...,\n",
       "       [0., 0., 1., ..., 0., 0., 0.],\n",
       "       [0., 0., 1., ..., 0., 0., 0.],\n",
       "       [2., 0., 2., ..., 1., 0., 1.]], dtype=float32)"
      ]
     },
     "execution_count": 9,
     "metadata": {},
     "output_type": "execute_result"
    }
   ],
   "source": [
    "adata.X"
   ]
  },
  {
   "cell_type": "code",
   "execution_count": 11,
   "metadata": {},
   "outputs": [],
   "source": [
    "batch_freq = adata.obs['gem_group'].value_counts()"
   ]
  },
  {
   "cell_type": "code",
   "execution_count": 15,
   "metadata": {},
   "outputs": [],
   "source": [
    "mean_0 = adata.X.mean(0)"
   ]
  },
  {
   "cell_type": "code",
   "execution_count": 16,
   "metadata": {},
   "outputs": [
    {
     "data": {
      "text/plain": [
       "(0, 8248)"
      ]
     },
     "execution_count": 16,
     "metadata": {},
     "output_type": "execute_result"
    }
   ],
   "source": [
    "idx_nan = np.where(np.isnan(mean_0))[0]\n",
    "idx_notnan = np.setdiff1d(list(range(adata.shape[1])), idx_nan)\n",
    "len(idx_nan), len(idx_notnan)"
   ]
  },
  {
   "cell_type": "code",
   "execution_count": null,
   "metadata": {},
   "outputs": [],
   "source": [
    "x_data = adata.X\n",
    "x_data = sparse.csr_matrix(x_data)"
   ]
  },
  {
   "cell_type": "code",
   "execution_count": null,
   "metadata": {},
   "outputs": [],
   "source": [
    "\n",
    "var_data = adata.var\n",
    "obs_data = adata.obs\n",
    "\n",
    "adata = AnnData(X = x_data, var = var_data, obs = obs_data)"
   ]
  },
  {
   "cell_type": "code",
   "execution_count": 10,
   "metadata": {},
   "outputs": [
    {
     "name": "stdout",
     "output_type": "stream",
     "text": [
      "WARNING: If you miss a compact list, please try `print_header`!\n",
      "The `sinfo` package has changed name and is now called `session_info` to become more discoverable and self-explanatory. The `sinfo` PyPI package will be kept around to avoid breaking old installs and you can downgrade to 0.3.2 if you want to use it without seeing this message. For the latest features and bug fixes, please install `session_info` instead. The usage and defaults also changed slightly, so please review the latest README at https://gitlab.com/joelostblom/session_info.\n",
      "-----\n",
      "anndata     0.7.5\n",
      "scanpy      1.8.1\n",
      "sinfo       0.3.4\n",
      "-----\n",
      "PIL                 7.2.0\n",
      "astunparse          1.6.3\n",
      "backcall            0.2.0\n",
      "bottleneck          1.3.2\n",
      "cffi                1.14.0\n",
      "cloudpickle         1.5.0\n",
      "colorama            0.4.3\n",
      "cycler              0.10.0\n",
      "cython_runtime      NA\n",
      "cytoolz             0.10.1\n",
      "dask                2.20.0\n",
      "dateutil            2.8.1\n",
      "decorator           4.4.2\n",
      "google              NA\n",
      "h5py                2.10.0\n",
      "ipykernel           5.3.2\n",
      "ipython_genutils    0.2.0\n",
      "ipywidgets          7.5.1\n",
      "jedi                0.17.1\n",
      "joblib              0.16.0\n",
      "kiwisolver          1.2.0\n",
      "llvmlite            0.33.0+1.g022ab0f\n",
      "matplotlib          3.2.2\n",
      "mkl                 2.3.0\n",
      "mpl_toolkits        NA\n",
      "natsort             7.1.0\n",
      "numba               0.50.1\n",
      "numexpr             2.7.1\n",
      "numpy               1.18.5\n",
      "packaging           20.4\n",
      "pandas              1.0.5\n",
      "parso               0.7.0\n",
      "pexpect             4.8.0\n",
      "pickleshare         0.7.5\n",
      "pkg_resources       NA\n",
      "prompt_toolkit      3.0.5\n",
      "psutil              5.7.0\n",
      "ptyprocess          0.6.0\n",
      "pygments            2.6.1\n",
      "pyparsing           2.4.7\n",
      "pytz                2020.1\n",
      "rich                NA\n",
      "scipy               1.4.1\n",
      "scvi                0.7.1\n",
      "six                 1.15.0\n",
      "sklearn             0.23.1\n",
      "sphinxcontrib       NA\n",
      "storemagic          NA\n",
      "tables              3.6.1\n",
      "tblib               1.6.0\n",
      "threadpoolctl       2.1.0\n",
      "tlz                 0.10.1\n",
      "toolz               0.10.0\n",
      "torch               1.10.0+cu102\n",
      "tornado             6.1\n",
      "tqdm                4.62.3\n",
      "traitlets           4.3.3\n",
      "typing_extensions   NA\n",
      "wcwidth             0.2.5\n",
      "yaml                5.3.1\n",
      "zmq                 19.0.1\n",
      "zope                NA\n",
      "-----\n",
      "IPython             7.16.1\n",
      "jupyter_client      6.1.6\n",
      "jupyter_core        4.6.3\n",
      "jupyterlab          2.2.10\n",
      "notebook            6.4.1\n",
      "-----\n",
      "Python 3.8.3 (default, Jul  2 2020, 16:21:59) [GCC 7.3.0]\n",
      "Linux-3.10.0-1160.45.1.el7.x86_64-x86_64-with-glibc2.10\n",
      "36 logical CPU cores, x86_64\n",
      "-----\n",
      "Session information updated at 2022-03-22 18:37\n",
      "\n"
     ]
    }
   ],
   "source": [
    "sc.settings.verbosity = 3\n",
    "sc.logging.print_versions()"
   ]
  },
  {
   "cell_type": "code",
   "execution_count": 11,
   "metadata": {},
   "outputs": [
    {
     "name": "stdout",
     "output_type": "stream",
     "text": [
      "normalizing counts per cell\n",
      "    finished (0:00:55)\n"
     ]
    },
    {
     "data": {
      "image/png": "[encoded data removed]",
      "text/plain": [
       "<Figure size 400x440 with 1 Axes>"
      ]
     },
     "metadata": {
      "image/png": {
       "height": 393,
       "width": 508
      },
      "needs_background": "light"
     },
     "output_type": "display_data"
    }
   ],
   "source": [
    "sc.settings.set_figure_params(dpi=80)\n",
    "sc.pl.highest_expr_genes(adata, n_top = 20)"
   ]
  },
  {
   "cell_type": "code",
   "execution_count": 12,
   "metadata": {},
   "outputs": [],
   "source": [
    "sc.pp.filter_cells(adata, min_genes = 200)\n",
    "sc.pp.filter_genes(adata, min_cells = 3)"
   ]
  },
  {
   "cell_type": "code",
   "execution_count": 13,
   "metadata": {},
   "outputs": [
    {
     "data": {
      "text/plain": [
       "(1989578, 8248)"
      ]
     },
     "execution_count": 13,
     "metadata": {},
     "output_type": "execute_result"
    }
   ],
   "source": [
    "adata.shape"
   ]
  },
  {
   "cell_type": "code",
   "execution_count": 14,
   "metadata": {},
   "outputs": [
    {
     "data": {
      "text/plain": [
       "array([[1., 0., 0., ..., 0., 0., 0.],\n",
       "       [0., 1., 4., ..., 0., 0., 0.],\n",
       "       [0., 1., 3., ..., 0., 0., 0.],\n",
       "       ...,\n",
       "       [0., 0., 1., ..., 0., 0., 0.],\n",
       "       [0., 0., 1., ..., 0., 0., 0.],\n",
       "       [2., 0., 2., ..., 1., 0., 1.]], dtype=float32)"
      ]
     },
     "execution_count": 14,
     "metadata": {},
     "output_type": "execute_result"
    }
   ],
   "source": [
    "adata.X"
   ]
  },
  {
   "cell_type": "code",
   "execution_count": 15,
   "metadata": {},
   "outputs": [
    {
     "ename": "AttributeError",
     "evalue": "'numpy.ndarray' object has no attribute 'A1'",
     "output_type": "error",
     "traceback": [
      "\u001b[0;31m---------------------------------------------------------------------------\u001b[0m",
      "\u001b[0;31mAttributeError\u001b[0m                            Traceback (most recent call last)",
      "\u001b[0;32m<ipython-input-15-5cd57022b6e7>\u001b[0m in \u001b[0;36m<module>\u001b[0;34m\u001b[0m\n\u001b[1;32m      3\u001b[0m     adata[:, mito_genes].X, axis=1) / np.sum(adata.X, axis=1)\n\u001b[1;32m      4\u001b[0m \u001b[0;31m# add the total counts per cell as observations-annotation to adata\u001b[0m\u001b[0;34m\u001b[0m\u001b[0;34m\u001b[0m\u001b[0;34m\u001b[0m\u001b[0m\n\u001b[0;32m----> 5\u001b[0;31m \u001b[0madata\u001b[0m\u001b[0;34m.\u001b[0m\u001b[0mobs\u001b[0m\u001b[0;34m[\u001b[0m\u001b[0;34m'n_counts'\u001b[0m\u001b[0;34m]\u001b[0m \u001b[0;34m=\u001b[0m \u001b[0madata\u001b[0m\u001b[0;34m.\u001b[0m\u001b[0mX\u001b[0m\u001b[0;34m.\u001b[0m\u001b[0msum\u001b[0m\u001b[0;34m(\u001b[0m\u001b[0maxis\u001b[0m\u001b[0;34m=\u001b[0m\u001b[0;36m1\u001b[0m\u001b[0;34m)\u001b[0m\u001b[0;34m.\u001b[0m\u001b[0mA1\u001b[0m\u001b[0;34m\u001b[0m\u001b[0;34m\u001b[0m\u001b[0m\n\u001b[0m\u001b[1;32m      6\u001b[0m \u001b[0;34m(\u001b[0m\u001b[0madata\u001b[0m\u001b[0;34m.\u001b[0m\u001b[0mobs\u001b[0m\u001b[0;34m[\u001b[0m\u001b[0;34m'n_genes'\u001b[0m\u001b[0;34m]\u001b[0m \u001b[0;34m<\u001b[0m \u001b[0;36m6000\u001b[0m\u001b[0;34m)\u001b[0m\u001b[0;34m.\u001b[0m\u001b[0msum\u001b[0m\u001b[0;34m(\u001b[0m\u001b[0;34m)\u001b[0m\u001b[0;34m,\u001b[0m \u001b[0;34m(\u001b[0m\u001b[0madata\u001b[0m\u001b[0;34m.\u001b[0m\u001b[0mobs\u001b[0m\u001b[0;34m[\u001b[0m\u001b[0;34m'percent_mito'\u001b[0m\u001b[0;34m]\u001b[0m \u001b[0;34m<\u001b[0m \u001b[0;36m0.1\u001b[0m\u001b[0;34m)\u001b[0m\u001b[0;34m.\u001b[0m\u001b[0msum\u001b[0m\u001b[0;34m(\u001b[0m\u001b[0;34m)\u001b[0m\u001b[0;34m\u001b[0m\u001b[0;34m\u001b[0m\u001b[0m\n",
      "\u001b[0;31mAttributeError\u001b[0m: 'numpy.ndarray' object has no attribute 'A1'"
     ]
    }
   ],
   "source": [
    "mito_genes = adata.var_names.str.startswith('MT-')\n",
    "adata.obs['percent_mito'] = np.sum(\n",
    "    adata[:, mito_genes].X, axis=1) / np.sum(adata.X, axis=1)\n",
    "# add the total counts per cell as observations-annotation to adata\n"
   ]
  },
  {
   "cell_type": "code",
   "execution_count": 16,
   "metadata": {},
   "outputs": [
    {
     "data": {
      "text/plain": [
       "(1989373, 1989578)"
      ]
     },
     "execution_count": 16,
     "metadata": {},
     "output_type": "execute_result"
    }
   ],
   "source": [
    "adata.obs['n_counts'] = adata.X.sum(axis=1)\n",
    "(adata.obs['n_genes'] < 6000).sum(), (adata.obs['percent_mito'] < 0.1).sum()"
   ]
  },
  {
   "cell_type": "code",
   "execution_count": 17,
   "metadata": {},
   "outputs": [
    {
     "data": {
      "image/png": "[encoded data removed]",
      "text/plain": [
       "<Figure size 1200x400 with 3 Axes>"
      ]
     },
     "metadata": {
      "image/png": {
       "height": 382,
       "width": 1182
      },
      "needs_background": "light"
     },
     "output_type": "display_data"
    }
   ],
   "source": [
    "sc.pl.violin(adata, ['n_genes', 'n_counts', 'percent_mito'],\n",
    "             jitter=0, multi_panel=True)"
   ]
  },
  {
   "cell_type": "code",
   "execution_count": 18,
   "metadata": {},
   "outputs": [
    {
     "data": {
      "image/png": "[encoded data removed]",
      "text/plain": [
       "<Figure size 327.28x320 with 1 Axes>"
      ]
     },
     "metadata": {
      "image/png": {
       "height": 302,
       "width": 316
      },
      "needs_background": "light"
     },
     "output_type": "display_data"
    },
    {
     "data": {
      "image/png": "[encoded data removed]",
      "text/plain": [
       "<Figure size 327.28x320 with 1 Axes>"
      ]
     },
     "metadata": {
      "image/png": {
       "height": 302,
       "width": 308
      },
      "needs_background": "light"
     },
     "output_type": "display_data"
    }
   ],
   "source": [
    "sc.pl.scatter(adata, x='n_counts', y='percent_mito')\n",
    "sc.pl.scatter(adata, x='n_counts', y='n_genes')"
   ]
  },
  {
   "cell_type": "code",
   "execution_count": 19,
   "metadata": {},
   "outputs": [
    {
     "data": {
      "text/plain": [
       "(1989373, 1989578)"
      ]
     },
     "execution_count": 19,
     "metadata": {},
     "output_type": "execute_result"
    }
   ],
   "source": [
    "(adata.obs['n_genes'] < 6000).sum(), (adata.obs['percent_mito'] < 0.1).sum()"
   ]
  },
  {
   "cell_type": "code",
   "execution_count": 20,
   "metadata": {},
   "outputs": [
    {
     "data": {
      "text/html": [
       "<div>\n",
       "<style scoped>\n",
       "    .dataframe tbody tr th:only-of-type {\n",
       "        vertical-align: middle;\n",
       "    }\n",
       "\n",
       "    .dataframe tbody tr th {\n",
       "        vertical-align: top;\n",
       "    }\n",
       "\n",
       "    .dataframe thead th {\n",
       "        text-align: right;\n",
       "    }\n",
       "</style>\n",
       "<table border=\"1\" class=\"dataframe\">\n",
       "  <thead>\n",
       "    <tr style=\"text-align: right;\">\n",
       "      <th></th>\n",
       "      <th>gem_group</th>\n",
       "      <th>gene</th>\n",
       "      <th>gene_id</th>\n",
       "      <th>transcript</th>\n",
       "      <th>gene_transcript</th>\n",
       "      <th>sgID_AB</th>\n",
       "      <th>mitopercent</th>\n",
       "      <th>UMI_count</th>\n",
       "      <th>z_gemgroup_UMI</th>\n",
       "      <th>core_scale_factor</th>\n",
       "      <th>core_adjusted_UMI_count</th>\n",
       "      <th>n_genes</th>\n",
       "      <th>percent_mito</th>\n",
       "      <th>n_counts</th>\n",
       "    </tr>\n",
       "    <tr>\n",
       "      <th>cell_barcode</th>\n",
       "      <th></th>\n",
       "      <th></th>\n",
       "      <th></th>\n",
       "      <th></th>\n",
       "      <th></th>\n",
       "      <th></th>\n",
       "      <th></th>\n",
       "      <th></th>\n",
       "      <th></th>\n",
       "      <th></th>\n",
       "      <th></th>\n",
       "      <th></th>\n",
       "      <th></th>\n",
       "      <th></th>\n",
       "    </tr>\n",
       "  </thead>\n",
       "  <tbody>\n",
       "    <tr>\n",
       "      <th>AAACCCAAGAAACCAT-157</th>\n",
       "      <td>157</td>\n",
       "      <td>CTSC</td>\n",
       "      <td>ENSG00000109861</td>\n",
       "      <td>P1P2</td>\n",
       "      <td>1946_CTSC_P1P2_ENSG00000109861</td>\n",
       "      <td>CTSC_-_88070848.23-P1P2|CTSC_-_88070918.23-P1P2</td>\n",
       "      <td>0.088177</td>\n",
       "      <td>14709.0</td>\n",
       "      <td>0.470687</td>\n",
       "      <td>1.051176</td>\n",
       "      <td>13992.900391</td>\n",
       "      <td>3440</td>\n",
       "      <td>0.0</td>\n",
       "      <td>14506.0</td>\n",
       "    </tr>\n",
       "    <tr>\n",
       "      <th>AAACCCAAGAAACCAT-207</th>\n",
       "      <td>207</td>\n",
       "      <td>CWC25</td>\n",
       "      <td>ENSG00000273559</td>\n",
       "      <td>P1P2</td>\n",
       "      <td>1973_CWC25_P1P2_ENSG00000273559</td>\n",
       "      <td>CWC25_+_36981555.23-P1P2|CWC25_+_36981567.23-P1P2</td>\n",
       "      <td>0.114342</td>\n",
       "      <td>16162.0</td>\n",
       "      <td>0.824790</td>\n",
       "      <td>1.074744</td>\n",
       "      <td>15038.004883</td>\n",
       "      <td>3872</td>\n",
       "      <td>0.0</td>\n",
       "      <td>15883.0</td>\n",
       "    </tr>\n",
       "    <tr>\n",
       "      <th>AAACCCAAGAAACCAT-29</th>\n",
       "      <td>29</td>\n",
       "      <td>PDE4DIP</td>\n",
       "      <td>ENSG00000178104</td>\n",
       "      <td>ENST00000313431.9</td>\n",
       "      <td>6168_PDE4DIP_ENST00000313431.9_ENSG00000178104</td>\n",
       "      <td>PDE4DIP_+_144932474.23-ENST00000313431.9|PDE4D...</td>\n",
       "      <td>0.107157</td>\n",
       "      <td>33297.0</td>\n",
       "      <td>2.627126</td>\n",
       "      <td>1.472444</td>\n",
       "      <td>22613.423828</td>\n",
       "      <td>5452</td>\n",
       "      <td>0.0</td>\n",
       "      <td>32720.0</td>\n",
       "    </tr>\n",
       "    <tr>\n",
       "      <th>AAACCCAAGAAAGCGA-149</th>\n",
       "      <td>149</td>\n",
       "      <td>ZZEF1</td>\n",
       "      <td>ENSG00000074755</td>\n",
       "      <td>P1P2</td>\n",
       "      <td>10745_ZZEF1_P1P2_ENSG00000074755</td>\n",
       "      <td>ZZEF1_+_4046247.23-P1P2|ZZEF1_+_4046255.23-P1P2</td>\n",
       "      <td>0.143107</td>\n",
       "      <td>7435.0</td>\n",
       "      <td>0.918149</td>\n",
       "      <td>0.480401</td>\n",
       "      <td>15476.669922</td>\n",
       "      <td>2551</td>\n",
       "      <td>0.0</td>\n",
       "      <td>7336.0</td>\n",
       "    </tr>\n",
       "    <tr>\n",
       "      <th>AAACCCAAGAAATCCA-172</th>\n",
       "      <td>172</td>\n",
       "      <td>SNAPIN</td>\n",
       "      <td>ENSG00000143553</td>\n",
       "      <td>P1P2</td>\n",
       "      <td>8210_SNAPIN_P1P2_ENSG00000143553</td>\n",
       "      <td>SNAPIN_+_153631238.23-P1P2|SNAPIN_-_153631252....</td>\n",
       "      <td>0.130754</td>\n",
       "      <td>7755.0</td>\n",
       "      <td>-0.230920</td>\n",
       "      <td>0.695649</td>\n",
       "      <td>11147.856445</td>\n",
       "      <td>2562</td>\n",
       "      <td>0.0</td>\n",
       "      <td>7632.0</td>\n",
       "    </tr>\n",
       "  </tbody>\n",
       "</table>\n",
       "</div>"
      ],
      "text/plain": [
       "                      gem_group     gene          gene_id         transcript  \\\n",
       "cell_barcode                                                                   \n",
       "AAACCCAAGAAACCAT-157        157     CTSC  ENSG00000109861               P1P2   \n",
       "AAACCCAAGAAACCAT-207        207    CWC25  ENSG00000273559               P1P2   \n",
       "AAACCCAAGAAACCAT-29          29  PDE4DIP  ENSG00000178104  ENST00000313431.9   \n",
       "AAACCCAAGAAAGCGA-149        149    ZZEF1  ENSG00000074755               P1P2   \n",
       "AAACCCAAGAAATCCA-172        172   SNAPIN  ENSG00000143553               P1P2   \n",
       "\n",
       "                                                     gene_transcript  \\\n",
       "cell_barcode                                                           \n",
       "AAACCCAAGAAACCAT-157                  1946_CTSC_P1P2_ENSG00000109861   \n",
       "AAACCCAAGAAACCAT-207                 1973_CWC25_P1P2_ENSG00000273559   \n",
       "AAACCCAAGAAACCAT-29   6168_PDE4DIP_ENST00000313431.9_ENSG00000178104   \n",
       "AAACCCAAGAAAGCGA-149                10745_ZZEF1_P1P2_ENSG00000074755   \n",
       "AAACCCAAGAAATCCA-172                8210_SNAPIN_P1P2_ENSG00000143553   \n",
       "\n",
       "                                                                sgID_AB  \\\n",
       "cell_barcode                                                              \n",
       "AAACCCAAGAAACCAT-157    CTSC_-_88070848.23-P1P2|CTSC_-_88070918.23-P1P2   \n",
       "AAACCCAAGAAACCAT-207  CWC25_+_36981555.23-P1P2|CWC25_+_36981567.23-P1P2   \n",
       "AAACCCAAGAAACCAT-29   PDE4DIP_+_144932474.23-ENST00000313431.9|PDE4D...   \n",
       "AAACCCAAGAAAGCGA-149    ZZEF1_+_4046247.23-P1P2|ZZEF1_+_4046255.23-P1P2   \n",
       "AAACCCAAGAAATCCA-172  SNAPIN_+_153631238.23-P1P2|SNAPIN_-_153631252....   \n",
       "\n",
       "                      mitopercent  UMI_count  z_gemgroup_UMI  \\\n",
       "cell_barcode                                                   \n",
       "AAACCCAAGAAACCAT-157     0.088177    14709.0        0.470687   \n",
       "AAACCCAAGAAACCAT-207     0.114342    16162.0        0.824790   \n",
       "AAACCCAAGAAACCAT-29      0.107157    33297.0        2.627126   \n",
       "AAACCCAAGAAAGCGA-149     0.143107     7435.0        0.918149   \n",
       "AAACCCAAGAAATCCA-172     0.130754     7755.0       -0.230920   \n",
       "\n",
       "                      core_scale_factor  core_adjusted_UMI_count  n_genes  \\\n",
       "cell_barcode                                                                \n",
       "AAACCCAAGAAACCAT-157           1.051176             13992.900391     3440   \n",
       "AAACCCAAGAAACCAT-207           1.074744             15038.004883     3872   \n",
       "AAACCCAAGAAACCAT-29            1.472444             22613.423828     5452   \n",
       "AAACCCAAGAAAGCGA-149           0.480401             15476.669922     2551   \n",
       "AAACCCAAGAAATCCA-172           0.695649             11147.856445     2562   \n",
       "\n",
       "                      percent_mito  n_counts  \n",
       "cell_barcode                                  \n",
       "AAACCCAAGAAACCAT-157           0.0   14506.0  \n",
       "AAACCCAAGAAACCAT-207           0.0   15883.0  \n",
       "AAACCCAAGAAACCAT-29            0.0   32720.0  \n",
       "AAACCCAAGAAAGCGA-149           0.0    7336.0  \n",
       "AAACCCAAGAAATCCA-172           0.0    7632.0  "
      ]
     },
     "execution_count": 20,
     "metadata": {},
     "output_type": "execute_result"
    }
   ],
   "source": [
    "adata.obs.head()"
   ]
  },
  {
   "cell_type": "code",
   "execution_count": 21,
   "metadata": {},
   "outputs": [
    {
     "data": {
      "text/plain": [
       "((1989578,), (1989578, 8248))"
      ]
     },
     "execution_count": 21,
     "metadata": {},
     "output_type": "execute_result"
    }
   ],
   "source": [
    "adata.obs.index.unique().shape, adata.shape"
   ]
  },
  {
   "cell_type": "code",
   "execution_count": 22,
   "metadata": {},
   "outputs": [
    {
     "data": {
      "text/plain": [
       "(1989373, 8248)"
      ]
     },
     "execution_count": 22,
     "metadata": {},
     "output_type": "execute_result"
    }
   ],
   "source": [
    "adata = adata[adata.obs['percent_mito'] < 0.1, :]\n",
    "adata = adata[adata.obs['n_genes'] < 6000, :]\n",
    "adata.shape"
   ]
  },
  {
   "cell_type": "code",
   "execution_count": 23,
   "metadata": {},
   "outputs": [],
   "source": [
    "adata.write('K562_gwps_raw_singlecell_01_BeforeNormalize.h5ad')"
   ]
  },
  {
   "cell_type": "markdown",
   "metadata": {},
   "source": [
    "### select highly variable gene"
   ]
  },
  {
   "cell_type": "code",
   "execution_count": 24,
   "metadata": {},
   "outputs": [
    {
     "name": "stdout",
     "output_type": "stream",
     "text": [
      "normalizing by total count per cell\n"
     ]
    },
    {
     "name": "stderr",
     "output_type": "stream",
     "text": [
      "Trying to set attribute `.obs` of view, copying.\n"
     ]
    },
    {
     "name": "stdout",
     "output_type": "stream",
     "text": [
      "    finished (0:04:34): normalized adata.X and added    'n_counts', counts per cell before normalization (adata.obs)\n"
     ]
    }
   ],
   "source": [
    "sc.pp.normalize_per_cell(adata, counts_per_cell_after=1e6)\n",
    "sc.pp.log1p(adata)\n",
    "adata.raw = adata"
   ]
  },
  {
   "cell_type": "code",
   "execution_count": 29,
   "metadata": {},
   "outputs": [],
   "source": [
    "adata.obs['gem_group']  = adata.obs.gem_group.astype('category')\n"
   ]
  },
  {
   "cell_type": "code",
   "execution_count": 30,
   "metadata": {},
   "outputs": [
    {
     "name": "stdout",
     "output_type": "stream",
     "text": [
      "extracting highly variable genes\n",
      "    finished (0:10:43)\n",
      "--> added\n",
      "    'highly_variable', boolean vector (adata.var)\n",
      "    'means', float vector (adata.var)\n",
      "    'dispersions', float vector (adata.var)\n",
      "    'dispersions_norm', float vector (adata.var)\n"
     ]
    }
   ],
   "source": [
    "sc.pp.highly_variable_genes(\n",
    "    adata, batch_key=\"gem_group\", min_mean=0.0125, max_mean=5, min_disp=0.5\n",
    ")\n",
    "\n"
   ]
  },
  {
   "cell_type": "code",
   "execution_count": 31,
   "metadata": {},
   "outputs": [
    {
     "data": {
      "text/plain": [
       "(706,)"
      ]
     },
     "execution_count": 31,
     "metadata": {},
     "output_type": "execute_result"
    }
   ],
   "source": [
    "highvar_gene = np.where(adata.var['highly_variable'])[0]\n",
    "np.save('K562_gwps_raw_singlecell_01_high_genes.npy', highvar_gene)\n",
    "highvar_gene.shape"
   ]
  },
  {
   "cell_type": "code",
   "execution_count": 32,
   "metadata": {},
   "outputs": [
    {
     "data": {
      "image/png": "[encoded data removed]",
      "text/plain": [
       "<Figure size 640x320 with 2 Axes>"
      ]
     },
     "metadata": {
      "image/png": {
       "height": 327,
       "width": 564
      },
      "needs_background": "light"
     },
     "output_type": "display_data"
    }
   ],
   "source": [
    "sc.pl.highly_variable_genes(adata)"
   ]
  },
  {
   "cell_type": "code",
   "execution_count": 8,
   "metadata": {},
   "outputs": [],
   "source": [
    "adata = ad.read_h5ad('K562_gwps_raw_singlecell_01_BeforeNormalize.h5ad')"
   ]
  },
  {
   "cell_type": "code",
   "execution_count": 9,
   "metadata": {},
   "outputs": [],
   "source": [
    "highvar_gene = np.load('K562_gwps_raw_singlecell_01_high_genes.npy')"
   ]
  },
  {
   "cell_type": "code",
   "execution_count": 10,
   "metadata": {},
   "outputs": [],
   "source": [
    "adata.layers[\"counts\"] = adata.X.copy()"
   ]
  },
  {
   "cell_type": "code",
   "execution_count": 13,
   "metadata": {},
   "outputs": [],
   "source": [
    "adata = adata[:, highvar_gene]"
   ]
  },
  {
   "cell_type": "code",
   "execution_count": 14,
   "metadata": {},
   "outputs": [
    {
     "data": {
      "text/plain": [
       "(1989373, 706)"
      ]
     },
     "execution_count": 14,
     "metadata": {},
     "output_type": "execute_result"
    }
   ],
   "source": [
    "adata.layers[\n",
    "    'counts'\n",
    "].shape"
   ]
  },
  {
   "cell_type": "code",
   "execution_count": 15,
   "metadata": {},
   "outputs": [
    {
     "name": "stderr",
     "output_type": "stream",
     "text": [
      "/home/hengshi/.local/lib/python3.8/site-packages/scanpy/preprocessing/_normalization.py:155: UserWarning: Revieved a view of an AnnData. Making a copy.\n",
      "  view_to_actual(adata)\n"
     ]
    },
    {
     "ename": "AttributeError",
     "evalue": "Can only use .cat accessor with a 'category' dtype",
     "output_type": "error",
     "traceback": [
      "\u001b[0;31m---------------------------------------------------------------------------\u001b[0m",
      "\u001b[0;31mAttributeError\u001b[0m                            Traceback (most recent call last)",
      "\u001b[0;32m<ipython-input-15-e39e5b97bf49>\u001b[0m in \u001b[0;36m<module>\u001b[0;34m\u001b[0m\n\u001b[1;32m      3\u001b[0m \u001b[0madata\u001b[0m\u001b[0;34m.\u001b[0m\u001b[0mraw\u001b[0m \u001b[0;34m=\u001b[0m \u001b[0madata\u001b[0m\u001b[0;34m\u001b[0m\u001b[0;34m\u001b[0m\u001b[0m\n\u001b[1;32m      4\u001b[0m \u001b[0;34m\u001b[0m\u001b[0m\n\u001b[0;32m----> 5\u001b[0;31m \u001b[0msc\u001b[0m\u001b[0;34m.\u001b[0m\u001b[0mpp\u001b[0m\u001b[0;34m.\u001b[0m\u001b[0mhighly_variable_genes\u001b[0m\u001b[0;34m(\u001b[0m\u001b[0madata\u001b[0m\u001b[0;34m,\u001b[0m \u001b[0mbatch_key\u001b[0m\u001b[0;34m=\u001b[0m\u001b[0;34m\"gem_group\"\u001b[0m\u001b[0;34m,\u001b[0m \u001b[0mmin_mean\u001b[0m\u001b[0;34m=\u001b[0m\u001b[0;36m0.0125\u001b[0m\u001b[0;34m,\u001b[0m \u001b[0mmax_mean\u001b[0m\u001b[0;34m=\u001b[0m\u001b[0;36m3\u001b[0m\u001b[0;34m,\u001b[0m \u001b[0mmin_disp\u001b[0m\u001b[0;34m=\u001b[0m\u001b[0;36m0.5\u001b[0m\u001b[0;34m)\u001b[0m\u001b[0;34m\u001b[0m\u001b[0;34m\u001b[0m\u001b[0m\n\u001b[0m",
      "\u001b[0;32m~/.local/lib/python3.8/site-packages/scanpy/preprocessing/_highly_variable_genes.py\u001b[0m in \u001b[0;36mhighly_variable_genes\u001b[0;34m(adata, layer, n_top_genes, min_disp, max_disp, min_mean, max_mean, span, n_bins, flavor, subset, inplace, batch_key, check_values)\u001b[0m\n\u001b[1;32m    442\u001b[0m     \u001b[0;32melse\u001b[0m\u001b[0;34m:\u001b[0m\u001b[0;34m\u001b[0m\u001b[0;34m\u001b[0m\u001b[0m\n\u001b[1;32m    443\u001b[0m         \u001b[0msanitize_anndata\u001b[0m\u001b[0;34m(\u001b[0m\u001b[0madata\u001b[0m\u001b[0;34m)\u001b[0m\u001b[0;34m\u001b[0m\u001b[0;34m\u001b[0m\u001b[0m\n\u001b[0;32m--> 444\u001b[0;31m         \u001b[0mbatches\u001b[0m \u001b[0;34m=\u001b[0m \u001b[0madata\u001b[0m\u001b[0;34m.\u001b[0m\u001b[0mobs\u001b[0m\u001b[0;34m[\u001b[0m\u001b[0mbatch_key\u001b[0m\u001b[0;34m]\u001b[0m\u001b[0;34m.\u001b[0m\u001b[0mcat\u001b[0m\u001b[0;34m.\u001b[0m\u001b[0mcategories\u001b[0m\u001b[0;34m\u001b[0m\u001b[0;34m\u001b[0m\u001b[0m\n\u001b[0m\u001b[1;32m    445\u001b[0m         \u001b[0mdf\u001b[0m \u001b[0;34m=\u001b[0m \u001b[0;34m[\u001b[0m\u001b[0;34m]\u001b[0m\u001b[0;34m\u001b[0m\u001b[0;34m\u001b[0m\u001b[0m\n\u001b[1;32m    446\u001b[0m         \u001b[0mgene_list\u001b[0m \u001b[0;34m=\u001b[0m \u001b[0madata\u001b[0m\u001b[0;34m.\u001b[0m\u001b[0mvar_names\u001b[0m\u001b[0;34m\u001b[0m\u001b[0;34m\u001b[0m\u001b[0m\n",
      "\u001b[0;32m/sw/arcts/centos7/python3.8-anaconda/2020.07/lib/python3.8/site-packages/pandas/core/generic.py\u001b[0m in \u001b[0;36m__getattr__\u001b[0;34m(self, name)\u001b[0m\n\u001b[1;32m   5268\u001b[0m             \u001b[0;32mor\u001b[0m \u001b[0mname\u001b[0m \u001b[0;32min\u001b[0m \u001b[0mself\u001b[0m\u001b[0;34m.\u001b[0m\u001b[0m_accessors\u001b[0m\u001b[0;34m\u001b[0m\u001b[0;34m\u001b[0m\u001b[0m\n\u001b[1;32m   5269\u001b[0m         ):\n\u001b[0;32m-> 5270\u001b[0;31m             \u001b[0;32mreturn\u001b[0m \u001b[0mobject\u001b[0m\u001b[0;34m.\u001b[0m\u001b[0m__getattribute__\u001b[0m\u001b[0;34m(\u001b[0m\u001b[0mself\u001b[0m\u001b[0;34m,\u001b[0m \u001b[0mname\u001b[0m\u001b[0;34m)\u001b[0m\u001b[0;34m\u001b[0m\u001b[0;34m\u001b[0m\u001b[0m\n\u001b[0m\u001b[1;32m   5271\u001b[0m         \u001b[0;32melse\u001b[0m\u001b[0;34m:\u001b[0m\u001b[0;34m\u001b[0m\u001b[0;34m\u001b[0m\u001b[0m\n\u001b[1;32m   5272\u001b[0m             \u001b[0;32mif\u001b[0m \u001b[0mself\u001b[0m\u001b[0;34m.\u001b[0m\u001b[0m_info_axis\u001b[0m\u001b[0;34m.\u001b[0m\u001b[0m_can_hold_identifiers_and_holds_name\u001b[0m\u001b[0;34m(\u001b[0m\u001b[0mname\u001b[0m\u001b[0;34m)\u001b[0m\u001b[0;34m:\u001b[0m\u001b[0;34m\u001b[0m\u001b[0;34m\u001b[0m\u001b[0m\n",
      "\u001b[0;32m/sw/arcts/centos7/python3.8-anaconda/2020.07/lib/python3.8/site-packages/pandas/core/accessor.py\u001b[0m in \u001b[0;36m__get__\u001b[0;34m(self, obj, cls)\u001b[0m\n\u001b[1;32m    185\u001b[0m             \u001b[0;31m# we're accessing the attribute of the class, i.e., Dataset.geo\u001b[0m\u001b[0;34m\u001b[0m\u001b[0;34m\u001b[0m\u001b[0;34m\u001b[0m\u001b[0m\n\u001b[1;32m    186\u001b[0m             \u001b[0;32mreturn\u001b[0m \u001b[0mself\u001b[0m\u001b[0;34m.\u001b[0m\u001b[0m_accessor\u001b[0m\u001b[0;34m\u001b[0m\u001b[0;34m\u001b[0m\u001b[0m\n\u001b[0;32m--> 187\u001b[0;31m         \u001b[0maccessor_obj\u001b[0m \u001b[0;34m=\u001b[0m \u001b[0mself\u001b[0m\u001b[0;34m.\u001b[0m\u001b[0m_accessor\u001b[0m\u001b[0;34m(\u001b[0m\u001b[0mobj\u001b[0m\u001b[0;34m)\u001b[0m\u001b[0;34m\u001b[0m\u001b[0;34m\u001b[0m\u001b[0m\n\u001b[0m\u001b[1;32m    188\u001b[0m         \u001b[0;31m# Replace the property with the accessor object. Inspired by:\u001b[0m\u001b[0;34m\u001b[0m\u001b[0;34m\u001b[0m\u001b[0;34m\u001b[0m\u001b[0m\n\u001b[1;32m    189\u001b[0m         \u001b[0;31m# http://www.pydanny.com/cached-property.html\u001b[0m\u001b[0;34m\u001b[0m\u001b[0;34m\u001b[0m\u001b[0;34m\u001b[0m\u001b[0m\n",
      "\u001b[0;32m/sw/arcts/centos7/python3.8-anaconda/2020.07/lib/python3.8/site-packages/pandas/core/arrays/categorical.py\u001b[0m in \u001b[0;36m__init__\u001b[0;34m(self, data)\u001b[0m\n\u001b[1;32m   2532\u001b[0m \u001b[0;34m\u001b[0m\u001b[0m\n\u001b[1;32m   2533\u001b[0m     \u001b[0;32mdef\u001b[0m \u001b[0m__init__\u001b[0m\u001b[0;34m(\u001b[0m\u001b[0mself\u001b[0m\u001b[0;34m,\u001b[0m \u001b[0mdata\u001b[0m\u001b[0;34m)\u001b[0m\u001b[0;34m:\u001b[0m\u001b[0;34m\u001b[0m\u001b[0;34m\u001b[0m\u001b[0m\n\u001b[0;32m-> 2534\u001b[0;31m         \u001b[0mself\u001b[0m\u001b[0;34m.\u001b[0m\u001b[0m_validate\u001b[0m\u001b[0;34m(\u001b[0m\u001b[0mdata\u001b[0m\u001b[0;34m)\u001b[0m\u001b[0;34m\u001b[0m\u001b[0;34m\u001b[0m\u001b[0m\n\u001b[0m\u001b[1;32m   2535\u001b[0m         \u001b[0mself\u001b[0m\u001b[0;34m.\u001b[0m\u001b[0m_parent\u001b[0m \u001b[0;34m=\u001b[0m \u001b[0mdata\u001b[0m\u001b[0;34m.\u001b[0m\u001b[0mvalues\u001b[0m\u001b[0;34m\u001b[0m\u001b[0;34m\u001b[0m\u001b[0m\n\u001b[1;32m   2536\u001b[0m         \u001b[0mself\u001b[0m\u001b[0;34m.\u001b[0m\u001b[0m_index\u001b[0m \u001b[0;34m=\u001b[0m \u001b[0mdata\u001b[0m\u001b[0;34m.\u001b[0m\u001b[0mindex\u001b[0m\u001b[0;34m\u001b[0m\u001b[0;34m\u001b[0m\u001b[0m\n",
      "\u001b[0;32m/sw/arcts/centos7/python3.8-anaconda/2020.07/lib/python3.8/site-packages/pandas/core/arrays/categorical.py\u001b[0m in \u001b[0;36m_validate\u001b[0;34m(data)\u001b[0m\n\u001b[1;32m   2541\u001b[0m     \u001b[0;32mdef\u001b[0m \u001b[0m_validate\u001b[0m\u001b[0;34m(\u001b[0m\u001b[0mdata\u001b[0m\u001b[0;34m)\u001b[0m\u001b[0;34m:\u001b[0m\u001b[0;34m\u001b[0m\u001b[0;34m\u001b[0m\u001b[0m\n\u001b[1;32m   2542\u001b[0m         \u001b[0;32mif\u001b[0m \u001b[0;32mnot\u001b[0m \u001b[0mis_categorical_dtype\u001b[0m\u001b[0;34m(\u001b[0m\u001b[0mdata\u001b[0m\u001b[0;34m.\u001b[0m\u001b[0mdtype\u001b[0m\u001b[0;34m)\u001b[0m\u001b[0;34m:\u001b[0m\u001b[0;34m\u001b[0m\u001b[0;34m\u001b[0m\u001b[0m\n\u001b[0;32m-> 2543\u001b[0;31m             \u001b[0;32mraise\u001b[0m \u001b[0mAttributeError\u001b[0m\u001b[0;34m(\u001b[0m\u001b[0;34m\"Can only use .cat accessor with a 'category' dtype\"\u001b[0m\u001b[0;34m)\u001b[0m\u001b[0;34m\u001b[0m\u001b[0;34m\u001b[0m\u001b[0m\n\u001b[0m\u001b[1;32m   2544\u001b[0m \u001b[0;34m\u001b[0m\u001b[0m\n\u001b[1;32m   2545\u001b[0m     \u001b[0;32mdef\u001b[0m \u001b[0m_delegate_property_get\u001b[0m\u001b[0;34m(\u001b[0m\u001b[0mself\u001b[0m\u001b[0;34m,\u001b[0m \u001b[0mname\u001b[0m\u001b[0;34m)\u001b[0m\u001b[0;34m:\u001b[0m\u001b[0;34m\u001b[0m\u001b[0;34m\u001b[0m\u001b[0m\n",
      "\u001b[0;31mAttributeError\u001b[0m: Can only use .cat accessor with a 'category' dtype"
     ]
    }
   ],
   "source": [
    "sc.pp.normalize_total(adata, target_sum = 1e4)\n",
    "sc.pp.log1p(adata)\n",
    "adata.raw = adata\n"
   ]
  },
  {
   "cell_type": "code",
   "execution_count": 16,
   "metadata": {},
   "outputs": [],
   "source": [
    "adata.obs['gem_group']  = adata.obs.gem_group.astype('category')\n",
    "sc.pp.highly_variable_genes(adata, batch_key=\"gem_group\", min_mean=0.0125, max_mean=3, min_disp=0.5)"
   ]
  },
  {
   "cell_type": "code",
   "execution_count": 17,
   "metadata": {},
   "outputs": [
    {
     "data": {
      "image/png": "[encoded data removed]",
      "text/plain": [
       "<Figure size 864x288 with 2 Axes>"
      ]
     },
     "metadata": {
      "needs_background": "light"
     },
     "output_type": "display_data"
    }
   ],
   "source": [
    "sc.pl.highly_variable_genes(adata)"
   ]
  },
  {
   "cell_type": "code",
   "execution_count": 18,
   "metadata": {},
   "outputs": [
    {
     "data": {
      "text/plain": [
       "67"
      ]
     },
     "execution_count": 18,
     "metadata": {},
     "output_type": "execute_result"
    }
   ],
   "source": [
    "adata.var.highly_variable.sum()"
   ]
  },
  {
   "cell_type": "code",
   "execution_count": null,
   "metadata": {},
   "outputs": [],
   "source": [
    "sc.pp.scale(adata, max_value=10)"
   ]
  },
  {
   "cell_type": "code",
   "execution_count": null,
   "metadata": {},
   "outputs": [],
   "source": [
    "adata.write('K562_gwps_raw_singlecell_01_processed.h5ad')"
   ]
  },
  {
   "cell_type": "markdown",
   "metadata": {},
   "source": [
    "###  perturbation"
   ]
  },
  {
   "cell_type": "code",
   "execution_count": 8,
   "metadata": {},
   "outputs": [],
   "source": [
    "adata = ad.read_h5ad('K562_gwps_raw_singlecell_01_processed.h5ad')"
   ]
  },
  {
   "cell_type": "code",
   "execution_count": 10,
   "metadata": {},
   "outputs": [],
   "source": [
    "adata_norm = ad.read_h5ad('K562_gwps_normalized_singlecell_01_genesFilteredValueUnchanged.h5ad')"
   ]
  },
  {
   "cell_type": "code",
   "execution_count": 11,
   "metadata": {},
   "outputs": [
    {
     "data": {
      "text/plain": [
       "((1989373, 706), (1989578, 2000))"
      ]
     },
     "execution_count": 11,
     "metadata": {},
     "output_type": "execute_result"
    }
   ],
   "source": [
    "adata.shape, adata_norm.shape"
   ]
  },
  {
   "cell_type": "code",
   "execution_count": 12,
   "metadata": {},
   "outputs": [],
   "source": [
    "perturb_arr = np.array(list(adata.obs['gene']))\n",
    "perturb_uni = np.unique(perturb_arr)"
   ]
  },
  {
   "cell_type": "code",
   "execution_count": 18,
   "metadata": {},
   "outputs": [],
   "source": [
    "perturb_arr_norm = np.array(list(adata_norm.obs['gene']))\n",
    "perturb_uni_norm = np.unique(perturb_arr_norm)"
   ]
  },
  {
   "cell_type": "code",
   "execution_count": 14,
   "metadata": {},
   "outputs": [],
   "source": [
    "perturb_uni_lib = np.load('onehot/UniqueGenePerturbGene.npy')"
   ]
  },
  {
   "cell_type": "code",
   "execution_count": 17,
   "metadata": {},
   "outputs": [
    {
     "data": {
      "text/plain": [
       "{'AARS',\n",
       " 'AC015871.1',\n",
       " 'AC118549.1',\n",
       " 'ACAP3',\n",
       " 'ADPRHL2',\n",
       " 'ADSS',\n",
       " 'AHSA2',\n",
       " 'AMZ2',\n",
       " 'ANKMY1',\n",
       " 'ANKRD33B',\n",
       " 'ANKRD36',\n",
       " 'ANKRD36C',\n",
       " 'ANKRD46',\n",
       " 'ARPC4-TTLL3',\n",
       " 'ASNSD1',\n",
       " 'ATF7IP2',\n",
       " 'B3GNTL1',\n",
       " 'BAHCC1',\n",
       " 'BCL7C',\n",
       " 'C10orf88',\n",
       " 'C11orf58',\n",
       " 'C11orf74',\n",
       " 'C11orf80',\n",
       " 'C11orf96',\n",
       " 'C12orf29',\n",
       " 'C12orf43',\n",
       " 'C12orf45',\n",
       " 'C12orf49',\n",
       " 'C12orf73',\n",
       " 'C12orf76',\n",
       " 'C14orf178',\n",
       " 'C15orf41',\n",
       " 'C15orf61',\n",
       " 'C16orf58',\n",
       " 'C16orf86',\n",
       " 'C16orf91',\n",
       " 'C16orf95',\n",
       " 'C17orf49',\n",
       " 'C17orf53',\n",
       " 'C18orf21',\n",
       " 'C19orf48',\n",
       " 'C19orf53',\n",
       " 'C19orf54',\n",
       " 'C19orf81',\n",
       " 'C1orf122',\n",
       " 'C1orf159',\n",
       " 'C1orf35',\n",
       " 'C1orf53',\n",
       " 'C1orf56',\n",
       " 'C1orf61',\n",
       " 'C20orf203',\n",
       " 'C20orf27',\n",
       " 'C20orf96',\n",
       " 'C21orf58',\n",
       " 'C21orf91',\n",
       " 'C22orf46',\n",
       " 'C2orf69',\n",
       " 'C4orf3',\n",
       " 'C4orf36',\n",
       " 'C4orf48',\n",
       " 'C5orf15',\n",
       " 'C5orf30',\n",
       " 'C5orf34',\n",
       " 'C6orf136',\n",
       " 'C6orf52',\n",
       " 'C6orf62',\n",
       " 'C7orf26',\n",
       " 'C8orf76',\n",
       " 'C8orf82',\n",
       " 'C9orf40',\n",
       " 'C9orf85',\n",
       " 'CARS',\n",
       " 'CASC4',\n",
       " 'CCDC127',\n",
       " 'CCDC138',\n",
       " 'CCDC142',\n",
       " 'CCDC144A',\n",
       " 'CCDC144NL',\n",
       " 'CCDC169',\n",
       " 'CCDC169-SOHLH2',\n",
       " 'CCDC18',\n",
       " 'CCDC34',\n",
       " 'CCDC71',\n",
       " 'CCDC84',\n",
       " 'CCDC97',\n",
       " 'CCSER2',\n",
       " 'CD3EAP',\n",
       " 'CENPBD1',\n",
       " 'CFDP1',\n",
       " 'CHCHD7',\n",
       " 'CLEC2L',\n",
       " 'CPXCR1',\n",
       " 'CRYBG1',\n",
       " 'CSAG1',\n",
       " 'CSMD1',\n",
       " 'CTXN1',\n",
       " 'CXorf40A',\n",
       " 'CXorf40B',\n",
       " 'DARS',\n",
       " 'DCAF4L2',\n",
       " 'DHRS12',\n",
       " 'DHRS4L2',\n",
       " 'DMWD',\n",
       " 'DNAJC16',\n",
       " 'DSCR4',\n",
       " 'EFCAB14',\n",
       " 'EFCAB2',\n",
       " 'ELMSAN1',\n",
       " 'EPRS',\n",
       " 'ERMARD',\n",
       " 'ERV3-1',\n",
       " 'FAM102B',\n",
       " 'FAM104B',\n",
       " 'FAM117A',\n",
       " 'FAM122B',\n",
       " 'FAM131A',\n",
       " 'FAM156B',\n",
       " 'FAM160B2',\n",
       " 'FAM171A2',\n",
       " 'FAM177A1',\n",
       " 'FAM178B',\n",
       " 'FAM192A',\n",
       " 'FAM193A',\n",
       " 'FAM200B',\n",
       " 'FAM216A',\n",
       " 'FAM229A',\n",
       " 'FAM49B',\n",
       " 'FAM86C1',\n",
       " 'FAM89A',\n",
       " 'FBRS',\n",
       " 'FBXO8',\n",
       " 'FGFR1OP',\n",
       " 'FMR1NB',\n",
       " 'FNDC10',\n",
       " 'FOPNL',\n",
       " 'FRG2',\n",
       " 'GAB3',\n",
       " 'GARS',\n",
       " 'GCOM1',\n",
       " 'GLOD5',\n",
       " 'GNB1L',\n",
       " 'GOLGA6L1',\n",
       " 'GPALPP1',\n",
       " 'GPR180',\n",
       " 'GTSF1',\n",
       " 'H1FX',\n",
       " 'H2AFV',\n",
       " 'H2AFX',\n",
       " 'H2AFY',\n",
       " 'H2AFZ',\n",
       " 'H3F3A',\n",
       " 'H3F3B',\n",
       " 'HARS',\n",
       " 'HBA2',\n",
       " 'HIST1H1B',\n",
       " 'HIST1H1C',\n",
       " 'HIST1H1D',\n",
       " 'HIST1H1E',\n",
       " 'HIST1H2AA',\n",
       " 'HIST1H2AB',\n",
       " 'HIST1H2AC',\n",
       " 'HIST1H2AD',\n",
       " 'HIST1H2AE',\n",
       " 'HIST1H2AG',\n",
       " 'HIST1H2AH',\n",
       " 'HIST1H2AI',\n",
       " 'HIST1H2AK',\n",
       " 'HIST1H2AL',\n",
       " 'HIST1H2AM',\n",
       " 'HIST1H2BA',\n",
       " 'HIST1H2BB',\n",
       " 'HIST1H2BC',\n",
       " 'HIST1H2BD',\n",
       " 'HIST1H2BE',\n",
       " 'HIST1H2BF',\n",
       " 'HIST1H2BG',\n",
       " 'HIST1H2BH',\n",
       " 'HIST1H2BJ',\n",
       " 'HIST1H2BK',\n",
       " 'HIST1H2BL',\n",
       " 'HIST1H2BM',\n",
       " 'HIST1H2BN',\n",
       " 'HIST1H2BO',\n",
       " 'HIST1H3A',\n",
       " 'HIST1H3F',\n",
       " 'HIST1H3H',\n",
       " 'HIST1H3J',\n",
       " 'HIST1H4A',\n",
       " 'HIST1H4B',\n",
       " 'HIST1H4C',\n",
       " 'HIST1H4D',\n",
       " 'HIST1H4E',\n",
       " 'HIST1H4H',\n",
       " 'HIST1H4I',\n",
       " 'HIST1H4J',\n",
       " 'HIST2H2AA3',\n",
       " 'HIST2H2AB',\n",
       " 'HIST2H2AC',\n",
       " 'HIST2H2BE',\n",
       " 'HIST2H2BF',\n",
       " 'HIST2H3A',\n",
       " 'HIST2H3D',\n",
       " 'HIST2H4A',\n",
       " 'HIST3H2A',\n",
       " 'HIST3H2BB',\n",
       " 'HMGXB3',\n",
       " 'HNRNPA1L2',\n",
       " 'IARS',\n",
       " 'ICK',\n",
       " 'IER5L',\n",
       " 'IMPAD1',\n",
       " 'KARS',\n",
       " 'KBTBD2',\n",
       " 'KBTBD3',\n",
       " 'KBTBD4',\n",
       " 'KIAA0100',\n",
       " 'KIAA0232',\n",
       " 'KIAA0355',\n",
       " 'KIAA0513',\n",
       " 'KIAA0930',\n",
       " 'KIAA1324L',\n",
       " 'KRBA1',\n",
       " 'LARS',\n",
       " 'LCN10',\n",
       " 'LRRC28',\n",
       " 'LRRC37A3',\n",
       " 'LRRC37B',\n",
       " 'LRRC42',\n",
       " 'LRRC58',\n",
       " 'LYSMD2',\n",
       " 'MAGEA9B',\n",
       " 'MAGEB1',\n",
       " 'MARCH3',\n",
       " 'MARCH5',\n",
       " 'MARCH6',\n",
       " 'MARCH7',\n",
       " 'MARCH8',\n",
       " 'MARCH9',\n",
       " 'MARS',\n",
       " 'METTL26',\n",
       " 'MFSD9',\n",
       " 'MOB3A',\n",
       " 'MORN1',\n",
       " 'NARS',\n",
       " 'NBPF12',\n",
       " 'NBPF15',\n",
       " 'NBPF3',\n",
       " 'NEDD8-MDP1',\n",
       " 'NETO2',\n",
       " 'NKIRAS2',\n",
       " 'NME1-NME2',\n",
       " 'NUDT8',\n",
       " 'OAF',\n",
       " 'OCEL1',\n",
       " 'OGFOD2',\n",
       " 'OXLD1',\n",
       " 'PAGE2B',\n",
       " 'PBDC1',\n",
       " 'PCNX3',\n",
       " 'PHF3',\n",
       " 'PHTF1',\n",
       " 'PLCXD1',\n",
       " 'PNMA8A',\n",
       " 'PPDPF',\n",
       " 'PROSER1',\n",
       " 'PRR12',\n",
       " 'PRR14L',\n",
       " 'QARS',\n",
       " 'QSER1',\n",
       " 'R3HDM4',\n",
       " 'RARS',\n",
       " 'RBAK-RBAKDN',\n",
       " 'RBM14-RBM4',\n",
       " 'RFPL4B',\n",
       " 'RGPD6',\n",
       " 'RPL17-C18orf32',\n",
       " 'RPS10-NUDT3',\n",
       " 'RPS6KL1',\n",
       " 'RRNAD1',\n",
       " 'RTL8C',\n",
       " 'SARS',\n",
       " 'SCRN3',\n",
       " 'SERF1B',\n",
       " 'SEZ6L2',\n",
       " 'SFT2D3',\n",
       " 'SLC25A39',\n",
       " 'SLC25A53',\n",
       " 'SLC35F2',\n",
       " 'SLC35F5',\n",
       " 'SLC66A3',\n",
       " 'SMIM10',\n",
       " 'SMIM13',\n",
       " 'SMIM15',\n",
       " 'SMIM29',\n",
       " 'SMIM4',\n",
       " 'SMIM7',\n",
       " 'SMIM8',\n",
       " 'SMN2',\n",
       " 'SMYD4',\n",
       " 'SNHG32',\n",
       " 'SNX29',\n",
       " 'ST20-MTHFS',\n",
       " 'ST7',\n",
       " 'SUSD1',\n",
       " 'SZRD1',\n",
       " 'TARS',\n",
       " 'TARSL2',\n",
       " 'TATDN3',\n",
       " 'TCTEX1D2',\n",
       " 'TEX30',\n",
       " 'THEM6',\n",
       " 'TIGD5',\n",
       " 'TLCD5',\n",
       " 'TMCO3',\n",
       " 'TMEM116',\n",
       " 'TMEM161B',\n",
       " 'TMEM164',\n",
       " 'TMEM173',\n",
       " 'TMEM185B',\n",
       " 'TMEM189',\n",
       " 'TMEM209',\n",
       " 'TMEM245',\n",
       " 'TMEM251',\n",
       " 'TMEM273',\n",
       " 'TMEM44',\n",
       " 'TMEM52',\n",
       " 'TMEM62',\n",
       " 'TMEM68',\n",
       " 'TMEM74B',\n",
       " 'TMEM8A',\n",
       " 'TMEM99',\n",
       " 'TRABD',\n",
       " 'TSC22D2',\n",
       " 'TSTA3',\n",
       " 'TSTD3',\n",
       " 'TTC13',\n",
       " 'TTC14',\n",
       " 'TTC31',\n",
       " 'TWISTNB',\n",
       " 'UBALD2',\n",
       " 'UTP25',\n",
       " 'VARS',\n",
       " 'VPS13B',\n",
       " 'WARS',\n",
       " 'WDR34',\n",
       " 'WDR53',\n",
       " 'WDR60',\n",
       " 'WDR66',\n",
       " 'WDR7',\n",
       " 'WDR89',\n",
       " 'WDSUB1',\n",
       " 'WDYHV1',\n",
       " 'XAGE1B',\n",
       " 'YARS',\n",
       " 'YPEL1',\n",
       " 'ZBED6CL',\n",
       " 'ZMAT1',\n",
       " 'ZMYM1',\n",
       " 'ZNF277',\n",
       " 'ZNF469',\n",
       " 'ZNF532',\n",
       " 'ZNF781',\n",
       " 'ZNF800',\n",
       " 'ZNF831',\n",
       " 'ZNRD1',\n",
       " 'ZSWIM1',\n",
       " 'ZZEF1',\n",
       " 'non-targeting'}"
      ]
     },
     "execution_count": 17,
     "metadata": {},
     "output_type": "execute_result"
    }
   ],
   "source": [
    "set(perturb_uni) - set(perturb_uni_lib)"
   ]
  },
  {
   "cell_type": "code",
   "execution_count": 22,
   "metadata": {},
   "outputs": [
    {
     "data": {
      "text/plain": [
       "set()"
      ]
     },
     "execution_count": 22,
     "metadata": {},
     "output_type": "execute_result"
    }
   ],
   "source": [
    "set(perturb_uni) - set(perturb_uni_norm)"
   ]
  },
  {
   "cell_type": "code",
   "execution_count": 20,
   "metadata": {},
   "outputs": [
    {
     "data": {
      "text/plain": [
       "array(['A1BG', 'AAAS', 'AACS', ..., 'ZYX', 'ZZEF1', 'non-targeting'],\n",
       "      dtype='<U14')"
      ]
     },
     "execution_count": 20,
     "metadata": {},
     "output_type": "execute_result"
    }
   ],
   "source": [
    "perturb_uni_norm"
   ]
  },
  {
   "cell_type": "code",
   "execution_count": 23,
   "metadata": {},
   "outputs": [
    {
     "data": {
      "text/plain": [
       "set()"
      ]
     },
     "execution_count": 23,
     "metadata": {},
     "output_type": "execute_result"
    }
   ],
   "source": [
    "set(perturb_uni_norm) - set(perturb_uni)"
   ]
  },
  {
   "cell_type": "code",
   "execution_count": 25,
   "metadata": {},
   "outputs": [],
   "source": [
    "a = np.isin([1,2,3], [1,3,4,5, 3])"
   ]
  },
  {
   "cell_type": "code",
   "execution_count": 27,
   "metadata": {},
   "outputs": [
    {
     "data": {
      "text/plain": [
       "array([0, 2])"
      ]
     },
     "execution_count": 27,
     "metadata": {},
     "output_type": "execute_result"
    }
   ],
   "source": [
    "np.where(a)[0]"
   ]
  },
  {
   "cell_type": "markdown",
   "metadata": {},
   "source": [
    "## filter 2000 top genes rather than threshold values"
   ]
  },
  {
   "cell_type": "code",
   "execution_count": 8,
   "metadata": {},
   "outputs": [],
   "source": [
    "adata = ad.read_h5ad('K562_gwps_raw_singlecell_01_BeforeNormalize.h5ad')"
   ]
  },
  {
   "cell_type": "code",
   "execution_count": 9,
   "metadata": {},
   "outputs": [],
   "source": [
    "sc.pp.normalize_per_cell(adata, counts_per_cell_after=1e6)\n",
    "sc.pp.log1p(adata)\n",
    "adata.raw = adata\n",
    "adata.obs['gem_group']  = adata.obs.gem_group.astype('category')\n"
   ]
  },
  {
   "cell_type": "code",
   "execution_count": 10,
   "metadata": {},
   "outputs": [
    {
     "name": "stderr",
     "output_type": "stream",
     "text": [
      "/sw/arcts/centos7/python3.8-anaconda/2020.07/lib/python3.8/site-packages/pandas/core/indexing.py:671: SettingWithCopyWarning: \n",
      "A value is trying to be set on a copy of a slice from a DataFrame\n",
      "\n",
      "See the caveats in the documentation: https://pandas.pydata.org/pandas-docs/stable/user_guide/indexing.html#returning-a-view-versus-a-copy\n",
      "  self._setitem_with_indexer(indexer, value)\n"
     ]
    }
   ],
   "source": [
    "sc.pp.highly_variable_genes(\n",
    "    adata, batch_key=\"gem_group\",  n_top_genes=2000\n",
    ")\n"
   ]
  },
  {
   "cell_type": "code",
   "execution_count": 11,
   "metadata": {},
   "outputs": [
    {
     "data": {
      "text/plain": [
       "(2000,)"
      ]
     },
     "execution_count": 11,
     "metadata": {},
     "output_type": "execute_result"
    }
   ],
   "source": [
    "highvar_gene = np.where(adata.var['highly_variable'])[0]\n",
    "np.save('K562_gwps_raw_singlecell_01_high_genes_top2000.npy', highvar_gene)\n",
    "highvar_gene.shape"
   ]
  },
  {
   "cell_type": "code",
   "execution_count": 12,
   "metadata": {},
   "outputs": [
    {
     "data": {
      "image/png": "[encoded data removed]",
      "text/plain": [
       "<Figure size 864x288 with 2 Axes>"
      ]
     },
     "metadata": {
      "needs_background": "light"
     },
     "output_type": "display_data"
    }
   ],
   "source": [
    "sc.pl.highly_variable_genes(adata)"
   ]
  },
  {
   "cell_type": "code",
   "execution_count": 8,
   "metadata": {},
   "outputs": [],
   "source": [
    "adata = ad.read_h5ad('K562_gwps_raw_singlecell_01_BeforeNormalize.h5ad')"
   ]
  },
  {
   "cell_type": "code",
   "execution_count": 9,
   "metadata": {},
   "outputs": [],
   "source": [
    "highvar_gene = np.load('K562_gwps_raw_singlecell_01_high_genes_top2000.npy')"
   ]
  },
  {
   "cell_type": "code",
   "execution_count": 10,
   "metadata": {},
   "outputs": [],
   "source": [
    "adata.layers[\"counts\"] = adata.X.copy()"
   ]
  },
  {
   "cell_type": "code",
   "execution_count": 11,
   "metadata": {},
   "outputs": [],
   "source": [
    "adata = adata[:, highvar_gene].copy()"
   ]
  },
  {
   "cell_type": "code",
   "execution_count": 12,
   "metadata": {},
   "outputs": [
    {
     "data": {
      "text/plain": [
       "(1989373, 2000)"
      ]
     },
     "execution_count": 12,
     "metadata": {},
     "output_type": "execute_result"
    }
   ],
   "source": [
    "adata.layers['counts'].shape"
   ]
  },
  {
   "cell_type": "code",
   "execution_count": 13,
   "metadata": {},
   "outputs": [],
   "source": [
    "sc.pp.normalize_total(adata, target_sum = 1e4)\n",
    "sc.pp.log1p(adata)\n",
    "adata.raw = adata\n",
    "adata.obs['gem_group']  = adata.obs.gem_group.astype('category')\n",
    "sc.pp.highly_variable_genes(adata, batch_key=\"gem_group\", min_mean=0.0125, max_mean=3, min_disp=0.5)"
   ]
  },
  {
   "cell_type": "code",
   "execution_count": 14,
   "metadata": {},
   "outputs": [
    {
     "data": {
      "image/png": "[encoded data removed]",
      "text/plain": [
       "<Figure size 864x288 with 2 Axes>"
      ]
     },
     "metadata": {
      "needs_background": "light"
     },
     "output_type": "display_data"
    }
   ],
   "source": [
    "sc.pl.highly_variable_genes(adata)"
   ]
  },
  {
   "cell_type": "code",
   "execution_count": 15,
   "metadata": {},
   "outputs": [
    {
     "data": {
      "text/plain": [
       "220"
      ]
     },
     "execution_count": 15,
     "metadata": {},
     "output_type": "execute_result"
    }
   ],
   "source": [
    "adata.var.highly_variable.sum()"
   ]
  },
  {
   "cell_type": "code",
   "execution_count": 16,
   "metadata": {},
   "outputs": [],
   "source": [
    "sc.pp.scale(adata, max_value=10)"
   ]
  },
  {
   "cell_type": "code",
   "execution_count": 17,
   "metadata": {},
   "outputs": [],
   "source": [
    "adata.write('K562_gwps_raw_singlecell_01_processed_2000TopGenes.h5ad')"
   ]
  },
  {
   "cell_type": "code",
   "execution_count": null,
   "metadata": {},
   "outputs": [],
   "source": []
  }
 ],
 "metadata": {
  "kernelspec": {
   "display_name": "Python 3",
   "language": "python",
   "name": "python3"
  },
  "language_info": {
   "codemirror_mode": {
    "name": "ipython",
    "version": 3
   },
   "file_extension": ".py",
   "mimetype": "text/x-python",
   "name": "python",
   "nbconvert_exporter": "python",
   "pygments_lexer": "ipython3",
   "version": "3.8.3"
  }
 },
 "nbformat": 4,
 "nbformat_minor": 4
}
